{
 "cells": [
  {
   "cell_type": "markdown",
   "id": "2eeda850",
   "metadata": {},
   "source": [
    "<img src=\"./images/AzPTravel_PPM.png\">"
   ]
  },
  {
   "cell_type": "code",
   "execution_count": 106,
   "id": "0e7c0cb4",
   "metadata": {},
   "outputs": [],
   "source": [
    "# Libraries"
   ]
  },
  {
   "cell_type": "code",
   "execution_count": 107,
   "id": "3c261aca",
   "metadata": {},
   "outputs": [],
   "source": [
    "import os\n",
    "import sys\n",
    "#import shutil"
   ]
  },
  {
   "cell_type": "code",
   "execution_count": 108,
   "id": "eb29db9b",
   "metadata": {},
   "outputs": [],
   "source": [
    "# Paths"
   ]
  },
  {
   "cell_type": "code",
   "execution_count": 109,
   "id": "e7423c99",
   "metadata": {},
   "outputs": [],
   "source": [
    "n_path = os.path.abspath( f'//hecate/Insurance_US/Product Development/Product Management/Global PPM/Reporting/Data Collection/Pipeline Reporting Scripts/GPMpipeline')\n"
   ]
  },
  {
   "cell_type": "code",
   "execution_count": 110,
   "id": "94f89bc5",
   "metadata": {},
   "outputs": [],
   "source": [
    "# File you want to convert"
   ]
  },
  {
   "cell_type": "code",
   "execution_count": 111,
   "id": "66755825",
   "metadata": {},
   "outputs": [],
   "source": [
    "folder_path = \"source_processing\"\n",
    "\n",
    "file = \"in_IE_change_BUfromNL.ipynb\""
   ]
  },
  {
   "cell_type": "code",
   "execution_count": 112,
   "id": "66249c06",
   "metadata": {},
   "outputs": [],
   "source": [
    "# Loaction you want it saved"
   ]
  },
  {
   "cell_type": "code",
   "execution_count": 113,
   "id": "0d7a841c",
   "metadata": {},
   "outputs": [],
   "source": [
    "final_path = os.path.abspath(os.path.join(n_path, \"..\\..\", \"2021.Q1\\Manual Updates\\parquet_fixBU\"))\n"
   ]
  },
  {
   "cell_type": "code",
   "execution_count": 114,
   "id": "d346a135",
   "metadata": {},
   "outputs": [],
   "source": [
    "# convert it"
   ]
  },
  {
   "cell_type": "code",
   "execution_count": 115,
   "id": "27a4641c",
   "metadata": {},
   "outputs": [
    {
     "data": {
      "text/plain": [
       "0"
      ]
     },
     "execution_count": 115,
     "metadata": {},
     "output_type": "execute_result"
    }
   ],
   "source": [
    "os.system(f'jupyter nbconvert --to HTML \"{os.path.join(n_path,folder_path,file)}\"')"
   ]
  },
  {
   "cell_type": "code",
   "execution_count": 116,
   "id": "d238a6d8",
   "metadata": {},
   "outputs": [],
   "source": [
    "# move it"
   ]
  },
  {
   "cell_type": "code",
   "execution_count": 117,
   "id": "a12d09f3",
   "metadata": {},
   "outputs": [],
   "source": [
    "#with open(os.path.join(final_path,file.replace(\"ipynb\",\"html\")), 'w') as fp:\n",
    "#    pass"
   ]
  },
  {
   "cell_type": "code",
   "execution_count": 120,
   "id": "ec56500d",
   "metadata": {},
   "outputs": [],
   "source": [
    "#with open(os.path.abspath(os.path.join(final_path,file.replace(\"ipynb\",\"html\"))), 'w')   as fp:\n",
    "#    pass\n",
    "\n",
    "\n",
    "\n",
    "os.rename(os.path.join( n_path,folder_path,file.replace(\"ipynb\",\"html\")), os.path.join(final_path,file.replace(\"ipynb\",\"html\")))\n"
   ]
  },
  {
   "cell_type": "code",
   "execution_count": null,
   "id": "63fdb312",
   "metadata": {},
   "outputs": [],
   "source": []
  }
 ],
 "metadata": {
  "kernelspec": {
   "display_name": "Python 3",
   "language": "python",
   "name": "python3"
  },
  "language_info": {
   "codemirror_mode": {
    "name": "ipython",
    "version": 3
   },
   "file_extension": ".py",
   "mimetype": "text/x-python",
   "name": "python",
   "nbconvert_exporter": "python",
   "pygments_lexer": "ipython3",
   "version": "3.7.6"
  }
 },
 "nbformat": 4,
 "nbformat_minor": 5
}
