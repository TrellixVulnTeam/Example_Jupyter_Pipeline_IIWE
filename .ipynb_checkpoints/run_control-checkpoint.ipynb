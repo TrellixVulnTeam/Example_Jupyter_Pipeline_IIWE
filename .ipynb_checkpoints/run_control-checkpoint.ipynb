{
 "cells": [
  {
   "cell_type": "markdown",
   "metadata": {
    "pycharm": {
     "name": "#%% md\n"
    }
   },
   "source": [
    "<img src=\"AzPTravel_PPM.png\">\n",
    "<img src='papermill.png'>"
   ]
  },
  {
   "cell_type": "markdown",
   "metadata": {},
   "source": [
    "# GPM Data Collection Pipeline Run Controller\n",
    "\n",
    "### This file is both a user interface and an executable callable from other processes.\n",
    "\n",
    "### To use:\n",
    "   - Set your required variable values in the \"Set Instance Parameters\" Section.\n",
    "   - You can then run the entire pipeline by running all cells or notebooks one at a time as you wish."
   ]
  },
  {
   "cell_type": "code",
   "execution_count": 1,
   "metadata": {},
   "outputs": [],
   "source": [
    "\n",
    "import os\n",
    "from datetime import datetime\n",
    "import time\n",
    "import papermill as pm\n",
    "from IPython.lib.pretty import pprint\n",
    "import pandas as pd"
   ]
  },
  {
   "cell_type": "markdown",
   "metadata": {},
   "source": [
    "## Set Instance Parameters"
   ]
  },
  {
   "cell_type": "code",
   "execution_count": 2,
   "metadata": {
    "pycharm": {
     "name": "#%%\n"
    }
   },
   "outputs": [],
   "source": [
    "commit = \"New German Data.\"\n",
    "# give a reason for the run\n",
    "\n",
    "percode = \"2021.Q1\"\n",
    "# Data Collection Code, this controls file paths and output names\n",
    "\n",
    "run_type = 1\n",
    "#run_type =  0 - lite run with no reporting, not recommended.\n",
    "#run_type =  1 - lite run with normal reporting, default setting.\n",
    "#run_type =  2 - Heavy run with full reporting, available for audits and troubleshooting.\n",
    "\n",
    "specialchars = \"-GTHtest\"\n",
    "# optional - add up to a 12 character code in order to mark your instance record .ipynb"
   ]
  },
  {
   "cell_type": "markdown",
   "metadata": {},
   "source": [
    "## Source file format lookup\n",
    "\n",
    "#### This is a list of file formats for each data collection.\n",
    "- x : denotes that the source files are MS Excel documents.\n",
    "- j : denotes the source files are json documents.\n",
    "- p : denotes the source files are parquet documents.\n",
    "\n"
   ]
  },
  {
   "cell_type": "code",
   "execution_count": 3,
   "metadata": {
    "pycharm": {
     "name": "#%%\n"
    }
   },
   "outputs": [],
   "source": [
    "if percode == \"2019.Q4\":\n",
    "    s_format = \"x\"\n",
    "elif percode == \"2020.Q1\":\n",
    "    s_format = \"x\"\n",
    "elif percode == \"2020.Q3\":\n",
    "    s_format = \"j\"\n",
    "elif percode == \"2020.Q4\":\n",
    "    s_format = \"j\"\n",
    "elif percode == \"2021.Q1\":\n",
    "    s_format = \"p\""
   ]
  },
  {
   "cell_type": "markdown",
   "metadata": {},
   "source": [
    "## Record the datetimestamp for the instance"
   ]
  },
  {
   "cell_type": "code",
   "execution_count": 4,
   "metadata": {
    "pycharm": {
     "name": "#%%\n"
    }
   },
   "outputs": [],
   "source": [
    "inst_datetime = datetime.now().strftime(\"%m%d%Y%H%M%S\")\n",
    "# a single datetime stamp for the full instance run"
   ]
  },
  {
   "cell_type": "markdown",
   "metadata": {},
   "source": [
    "## set the instance archive folder"
   ]
  },
  {
   "cell_type": "code",
   "execution_count": 5,
   "metadata": {
    "pycharm": {
     "name": "#%%\n"
    }
   },
   "outputs": [],
   "source": [
    "instances = f\"//hecate/Insurance_US/Product Development/Product Management/\"\\\n",
    "             f\"Global PPM/Reporting/Data Collection/Production/{percode}/instances\""
   ]
  },
  {
   "cell_type": "markdown",
   "metadata": {},
   "source": [
    "## style settings"
   ]
  },
  {
   "cell_type": "code",
   "execution_count": 6,
   "metadata": {},
   "outputs": [],
   "source": [
    "from IPython.core.interactiveshell import InteractiveShell\n",
    "InteractiveShell.ast_node_interactivity = \"all\""
   ]
  },
  {
   "cell_type": "markdown",
   "metadata": {},
   "source": [
    "## Read the source files, append to create initial .csv."
   ]
  },
  {
   "cell_type": "code",
   "execution_count": 7,
   "metadata": {},
   "outputs": [
    {
     "data": {
      "application/vnd.jupyter.widget-view+json": {
       "model_id": "f27f6c9d09714884b02c6ec42d359148",
       "version_major": 2,
       "version_minor": 0
      },
      "text/plain": [
       "HBox(children=(FloatProgress(value=0.0, description='Executing', max=45.0, style=ProgressStyle(description_wid…"
      ]
     },
     "metadata": {},
     "output_type": "display_data"
    },
    {
     "name": "stdout",
     "output_type": "stream",
     "text": [
      "\n"
     ]
    }
   ],
   "source": [
    "nb = pm.execute_notebook( 'prep.ipynb', os.path.join( instances, f'prep{inst_datetime}-{specialchars}.ipynb' ),\n",
    "                          {'run_control': run_type, 'percode': percode,\n",
    "                           'commit_message': commit, 'inst_datetime' : inst_datetime, 'source_type' : s_format } )"
   ]
  },
  {
   "cell_type": "markdown",
   "metadata": {},
   "source": [
    "### Output Summary"
   ]
  },
  {
   "cell_type": "code",
   "execution_count": 28,
   "metadata": {},
   "outputs": [
    {
     "data": {
      "text/html": [
       "<div>\n",
       "<style scoped>\n",
       "    .dataframe tbody tr th:only-of-type {\n",
       "        vertical-align: middle;\n",
       "    }\n",
       "\n",
       "    .dataframe tbody tr th {\n",
       "        vertical-align: top;\n",
       "    }\n",
       "\n",
       "    .dataframe thead th {\n",
       "        text-align: right;\n",
       "    }\n",
       "</style>\n",
       "<table border=\"1\" class=\"dataframe\">\n",
       "  <thead>\n",
       "    <tr style=\"text-align: right;\">\n",
       "      <th></th>\n",
       "      <th>Filename</th>\n",
       "      <th>Size</th>\n",
       "      <th>Last Modified</th>\n",
       "    </tr>\n",
       "  </thead>\n",
       "  <tbody>\n",
       "    <tr>\n",
       "      <th>0</th>\n",
       "      <td>2021.Q1prep.csv</td>\n",
       "      <td>46.1</td>\n",
       "      <td>2021-05-13 22:26:38</td>\n",
       "    </tr>\n",
       "  </tbody>\n",
       "</table>\n",
       "</div>"
      ],
      "text/plain": [
       "          Filename  Size        Last Modified\n",
       "0  2021.Q1prep.csv  46.1  2021-05-13 22:26:38"
      ]
     },
     "execution_count": 28,
     "metadata": {},
     "output_type": "execute_result"
    },
    {
     "data": {
      "text/html": [
       "<div>\n",
       "<style scoped>\n",
       "    .dataframe tbody tr th:only-of-type {\n",
       "        vertical-align: middle;\n",
       "    }\n",
       "\n",
       "    .dataframe tbody tr th {\n",
       "        vertical-align: top;\n",
       "    }\n",
       "\n",
       "    .dataframe thead tr th {\n",
       "        text-align: left;\n",
       "    }\n",
       "\n",
       "    .dataframe thead tr:last-of-type th {\n",
       "        text-align: right;\n",
       "    }\n",
       "</style>\n",
       "<table border=\"1\" class=\"dataframe\">\n",
       "  <thead>\n",
       "    <tr>\n",
       "      <th></th>\n",
       "      <th>Reporting Date From</th>\n",
       "      <th>2019-04-01</th>\n",
       "      <th>2019-10-01</th>\n",
       "      <th colspan=\"2\" halign=\"left\">2020-01-01</th>\n",
       "    </tr>\n",
       "    <tr>\n",
       "      <th></th>\n",
       "      <th>Reporting Date To</th>\n",
       "      <th>2020-03-31</th>\n",
       "      <th>2020-09-30</th>\n",
       "      <th>2020-03-31</th>\n",
       "      <th>2020-09-30</th>\n",
       "    </tr>\n",
       "    <tr>\n",
       "      <th>Country</th>\n",
       "      <th>Submission File</th>\n",
       "      <th></th>\n",
       "      <th></th>\n",
       "      <th></th>\n",
       "      <th></th>\n",
       "    </tr>\n",
       "  </thead>\n",
       "  <tbody>\n",
       "    <tr>\n",
       "      <th>AT</th>\n",
       "      <th>us_dat_nz+_05122021090253.parquet</th>\n",
       "      <td>0</td>\n",
       "      <td>0</td>\n",
       "      <td>47581</td>\n",
       "      <td>8974</td>\n",
       "    </tr>\n",
       "    <tr>\n",
       "      <th>AU</th>\n",
       "      <th>us_dat_nz+_05122021090253.parquet</th>\n",
       "      <td>1917086</td>\n",
       "      <td>1551550</td>\n",
       "      <td>0</td>\n",
       "      <td>0</td>\n",
       "    </tr>\n",
       "    <tr>\n",
       "      <th>BG</th>\n",
       "      <th>us_dat_nz+_05122021090253.parquet</th>\n",
       "      <td>0</td>\n",
       "      <td>0</td>\n",
       "      <td>0</td>\n",
       "      <td>4349</td>\n",
       "    </tr>\n",
       "    <tr>\n",
       "      <th>CA</th>\n",
       "      <th>us_dat_nz+_05122021090253.parquet</th>\n",
       "      <td>133841</td>\n",
       "      <td>163006</td>\n",
       "      <td>0</td>\n",
       "      <td>0</td>\n",
       "    </tr>\n",
       "    <tr>\n",
       "      <th>CH</th>\n",
       "      <th>us_dat_nz+_05122021090253.parquet</th>\n",
       "      <td>22465</td>\n",
       "      <td>36594</td>\n",
       "      <td>0</td>\n",
       "      <td>0</td>\n",
       "    </tr>\n",
       "    <tr>\n",
       "      <th>CN</th>\n",
       "      <th>us_dat_nz+_05122021090253.parquet</th>\n",
       "      <td>691642</td>\n",
       "      <td>292800</td>\n",
       "      <td>0</td>\n",
       "      <td>0</td>\n",
       "    </tr>\n",
       "    <tr>\n",
       "      <th>DE</th>\n",
       "      <th>us_dat_nz+_05122021090253.parquet</th>\n",
       "      <td>2731106</td>\n",
       "      <td>2352295</td>\n",
       "      <td>0</td>\n",
       "      <td>0</td>\n",
       "    </tr>\n",
       "    <tr>\n",
       "      <th>DK</th>\n",
       "      <th>us_dat_nz+_05122021090253.parquet</th>\n",
       "      <td>134487</td>\n",
       "      <td>91983</td>\n",
       "      <td>0</td>\n",
       "      <td>0</td>\n",
       "    </tr>\n",
       "    <tr>\n",
       "      <th>EE</th>\n",
       "      <th>us_dat_nz+_05122021090253.parquet</th>\n",
       "      <td>1769</td>\n",
       "      <td>1323</td>\n",
       "      <td>0</td>\n",
       "      <td>0</td>\n",
       "    </tr>\n",
       "    <tr>\n",
       "      <th>ES</th>\n",
       "      <th>us_dat_nz+_05122021090253.parquet</th>\n",
       "      <td>0</td>\n",
       "      <td>0</td>\n",
       "      <td>38732</td>\n",
       "      <td>71109</td>\n",
       "    </tr>\n",
       "    <tr>\n",
       "      <th>FI</th>\n",
       "      <th>us_dat_nz+_05122021090253.parquet</th>\n",
       "      <td>90207</td>\n",
       "      <td>71124</td>\n",
       "      <td>0</td>\n",
       "      <td>0</td>\n",
       "    </tr>\n",
       "    <tr>\n",
       "      <th>FOS</th>\n",
       "      <th>us_dat_nz+_05122021090253.parquet</th>\n",
       "      <td>1968345</td>\n",
       "      <td>1452604</td>\n",
       "      <td>0</td>\n",
       "      <td>0</td>\n",
       "    </tr>\n",
       "    <tr>\n",
       "      <th>GR</th>\n",
       "      <th>us_dat_nz+_05122021090253.parquet</th>\n",
       "      <td>118616</td>\n",
       "      <td>71420</td>\n",
       "      <td>0</td>\n",
       "      <td>0</td>\n",
       "    </tr>\n",
       "    <tr>\n",
       "      <th>HK</th>\n",
       "      <th>us_dat_nz+_05122021090253.parquet</th>\n",
       "      <td>0</td>\n",
       "      <td>1177438</td>\n",
       "      <td>0</td>\n",
       "      <td>0</td>\n",
       "    </tr>\n",
       "    <tr>\n",
       "      <th>HU</th>\n",
       "      <th>us_dat_nz+_05122021090253.parquet</th>\n",
       "      <td>0</td>\n",
       "      <td>0</td>\n",
       "      <td>0</td>\n",
       "      <td>6920</td>\n",
       "    </tr>\n",
       "    <tr>\n",
       "      <th>IS</th>\n",
       "      <th>us_dat_nz+_05122021090253.parquet</th>\n",
       "      <td>57707</td>\n",
       "      <td>17932</td>\n",
       "      <td>0</td>\n",
       "      <td>0</td>\n",
       "    </tr>\n",
       "    <tr>\n",
       "      <th>IT</th>\n",
       "      <th>us_dat_nz+_05122021090253.parquet</th>\n",
       "      <td>550385</td>\n",
       "      <td>223341</td>\n",
       "      <td>0</td>\n",
       "      <td>0</td>\n",
       "    </tr>\n",
       "    <tr>\n",
       "      <th>LT</th>\n",
       "      <th>us_dat_nz+_05122021090253.parquet</th>\n",
       "      <td>2429</td>\n",
       "      <td>1777</td>\n",
       "      <td>0</td>\n",
       "      <td>0</td>\n",
       "    </tr>\n",
       "    <tr>\n",
       "      <th>LV</th>\n",
       "      <th>us_dat_nz+_05122021090253.parquet</th>\n",
       "      <td>2116</td>\n",
       "      <td>1284</td>\n",
       "      <td>0</td>\n",
       "      <td>0</td>\n",
       "    </tr>\n",
       "    <tr>\n",
       "      <th>MY</th>\n",
       "      <th>us_dat_nz+_05122021090253.parquet</th>\n",
       "      <td>0</td>\n",
       "      <td>27233</td>\n",
       "      <td>0</td>\n",
       "      <td>0</td>\n",
       "    </tr>\n",
       "    <tr>\n",
       "      <th>NL</th>\n",
       "      <th>us_dat_nz+_05122021090253.parquet</th>\n",
       "      <td>262633</td>\n",
       "      <td>235089</td>\n",
       "      <td>0</td>\n",
       "      <td>0</td>\n",
       "    </tr>\n",
       "    <tr>\n",
       "      <th>NO</th>\n",
       "      <th>us_dat_nz+_05122021090253.parquet</th>\n",
       "      <td>121172</td>\n",
       "      <td>109938</td>\n",
       "      <td>0</td>\n",
       "      <td>0</td>\n",
       "    </tr>\n",
       "    <tr>\n",
       "      <th>NZ</th>\n",
       "      <th>us_dat_nz+_05122021090253.parquet</th>\n",
       "      <td>3013746</td>\n",
       "      <td>0</td>\n",
       "      <td>0</td>\n",
       "      <td>0</td>\n",
       "    </tr>\n",
       "    <tr>\n",
       "      <th>PL</th>\n",
       "      <th>us_dat_nz+_05122021090253.parquet</th>\n",
       "      <td>0</td>\n",
       "      <td>762374</td>\n",
       "      <td>214990</td>\n",
       "      <td>0</td>\n",
       "    </tr>\n",
       "    <tr>\n",
       "      <th>PT</th>\n",
       "      <th>us_dat_nz+_05122021090253.parquet</th>\n",
       "      <td>0</td>\n",
       "      <td>0</td>\n",
       "      <td>2735</td>\n",
       "      <td>2805</td>\n",
       "    </tr>\n",
       "    <tr>\n",
       "      <th>RO</th>\n",
       "      <th>us_dat_nz+_05122021090253.parquet</th>\n",
       "      <td>0</td>\n",
       "      <td>0</td>\n",
       "      <td>0</td>\n",
       "      <td>20353</td>\n",
       "    </tr>\n",
       "    <tr>\n",
       "      <th>SE</th>\n",
       "      <th>us_dat_nz+_05122021090253.parquet</th>\n",
       "      <td>204923</td>\n",
       "      <td>172064</td>\n",
       "      <td>0</td>\n",
       "      <td>0</td>\n",
       "    </tr>\n",
       "    <tr>\n",
       "      <th>SG</th>\n",
       "      <th>us_dat_nz+_05122021090253.parquet</th>\n",
       "      <td>0</td>\n",
       "      <td>50833</td>\n",
       "      <td>0</td>\n",
       "      <td>0</td>\n",
       "    </tr>\n",
       "    <tr>\n",
       "      <th>UK</th>\n",
       "      <th>us_dat_nz+_05122021090253.parquet</th>\n",
       "      <td>0</td>\n",
       "      <td>61441</td>\n",
       "      <td>10690</td>\n",
       "      <td>0</td>\n",
       "    </tr>\n",
       "    <tr>\n",
       "      <th rowspan=\"3\" valign=\"top\">US</th>\n",
       "      <th>us_dat_nz+_05122021090253.parquet</th>\n",
       "      <td>78287</td>\n",
       "      <td>68523</td>\n",
       "      <td>0</td>\n",
       "      <td>0</td>\n",
       "    </tr>\n",
       "    <tr>\n",
       "      <th>us_dat_us_05122021094008.parquet</th>\n",
       "      <td>1351</td>\n",
       "      <td>0</td>\n",
       "      <td>0</td>\n",
       "      <td>0</td>\n",
       "    </tr>\n",
       "    <tr>\n",
       "      <th>us_dat_us_05122021094708.parquet</th>\n",
       "      <td>1351</td>\n",
       "      <td>0</td>\n",
       "      <td>0</td>\n",
       "      <td>0</td>\n",
       "    </tr>\n",
       "  </tbody>\n",
       "</table>\n",
       "</div>"
      ],
      "text/plain": [
       "Reporting Date From                       2019-04-01 2019-10-01 2020-01-01  \\\n",
       "Reporting Date To                         2020-03-31 2020-09-30 2020-03-31   \n",
       "Country Submission File                                                      \n",
       "AT      us_dat_nz+_05122021090253.parquet          0          0      47581   \n",
       "AU      us_dat_nz+_05122021090253.parquet    1917086    1551550          0   \n",
       "BG      us_dat_nz+_05122021090253.parquet          0          0          0   \n",
       "CA      us_dat_nz+_05122021090253.parquet     133841     163006          0   \n",
       "CH      us_dat_nz+_05122021090253.parquet      22465      36594          0   \n",
       "CN      us_dat_nz+_05122021090253.parquet     691642     292800          0   \n",
       "DE      us_dat_nz+_05122021090253.parquet    2731106    2352295          0   \n",
       "DK      us_dat_nz+_05122021090253.parquet     134487      91983          0   \n",
       "EE      us_dat_nz+_05122021090253.parquet       1769       1323          0   \n",
       "ES      us_dat_nz+_05122021090253.parquet          0          0      38732   \n",
       "FI      us_dat_nz+_05122021090253.parquet      90207      71124          0   \n",
       "FOS     us_dat_nz+_05122021090253.parquet    1968345    1452604          0   \n",
       "GR      us_dat_nz+_05122021090253.parquet     118616      71420          0   \n",
       "HK      us_dat_nz+_05122021090253.parquet          0    1177438          0   \n",
       "HU      us_dat_nz+_05122021090253.parquet          0          0          0   \n",
       "IS      us_dat_nz+_05122021090253.parquet      57707      17932          0   \n",
       "IT      us_dat_nz+_05122021090253.parquet     550385     223341          0   \n",
       "LT      us_dat_nz+_05122021090253.parquet       2429       1777          0   \n",
       "LV      us_dat_nz+_05122021090253.parquet       2116       1284          0   \n",
       "MY      us_dat_nz+_05122021090253.parquet          0      27233          0   \n",
       "NL      us_dat_nz+_05122021090253.parquet     262633     235089          0   \n",
       "NO      us_dat_nz+_05122021090253.parquet     121172     109938          0   \n",
       "NZ      us_dat_nz+_05122021090253.parquet    3013746          0          0   \n",
       "PL      us_dat_nz+_05122021090253.parquet          0     762374     214990   \n",
       "PT      us_dat_nz+_05122021090253.parquet          0          0       2735   \n",
       "RO      us_dat_nz+_05122021090253.parquet          0          0          0   \n",
       "SE      us_dat_nz+_05122021090253.parquet     204923     172064          0   \n",
       "SG      us_dat_nz+_05122021090253.parquet          0      50833          0   \n",
       "UK      us_dat_nz+_05122021090253.parquet          0      61441      10690   \n",
       "US      us_dat_nz+_05122021090253.parquet      78287      68523          0   \n",
       "        us_dat_us_05122021094008.parquet        1351          0          0   \n",
       "        us_dat_us_05122021094708.parquet        1351          0          0   \n",
       "\n",
       "Reporting Date From                                   \n",
       "Reporting Date To                         2020-09-30  \n",
       "Country Submission File                               \n",
       "AT      us_dat_nz+_05122021090253.parquet       8974  \n",
       "AU      us_dat_nz+_05122021090253.parquet          0  \n",
       "BG      us_dat_nz+_05122021090253.parquet       4349  \n",
       "CA      us_dat_nz+_05122021090253.parquet          0  \n",
       "CH      us_dat_nz+_05122021090253.parquet          0  \n",
       "CN      us_dat_nz+_05122021090253.parquet          0  \n",
       "DE      us_dat_nz+_05122021090253.parquet          0  \n",
       "DK      us_dat_nz+_05122021090253.parquet          0  \n",
       "EE      us_dat_nz+_05122021090253.parquet          0  \n",
       "ES      us_dat_nz+_05122021090253.parquet      71109  \n",
       "FI      us_dat_nz+_05122021090253.parquet          0  \n",
       "FOS     us_dat_nz+_05122021090253.parquet          0  \n",
       "GR      us_dat_nz+_05122021090253.parquet          0  \n",
       "HK      us_dat_nz+_05122021090253.parquet          0  \n",
       "HU      us_dat_nz+_05122021090253.parquet       6920  \n",
       "IS      us_dat_nz+_05122021090253.parquet          0  \n",
       "IT      us_dat_nz+_05122021090253.parquet          0  \n",
       "LT      us_dat_nz+_05122021090253.parquet          0  \n",
       "LV      us_dat_nz+_05122021090253.parquet          0  \n",
       "MY      us_dat_nz+_05122021090253.parquet          0  \n",
       "NL      us_dat_nz+_05122021090253.parquet          0  \n",
       "NO      us_dat_nz+_05122021090253.parquet          0  \n",
       "NZ      us_dat_nz+_05122021090253.parquet          0  \n",
       "PL      us_dat_nz+_05122021090253.parquet          0  \n",
       "PT      us_dat_nz+_05122021090253.parquet       2805  \n",
       "RO      us_dat_nz+_05122021090253.parquet      20353  \n",
       "SE      us_dat_nz+_05122021090253.parquet          0  \n",
       "SG      us_dat_nz+_05122021090253.parquet          0  \n",
       "UK      us_dat_nz+_05122021090253.parquet          0  \n",
       "US      us_dat_nz+_05122021090253.parquet          0  \n",
       "        us_dat_us_05122021094008.parquet           0  \n",
       "        us_dat_us_05122021094708.parquet           0  "
      ]
     },
     "execution_count": 28,
     "metadata": {},
     "output_type": "execute_result"
    }
   ],
   "source": [
    "rt_path = f'//hecate/Insurance_US/Product Development/Product Management/Global PPM/Reporting/Data Collection/Production/{str(percode)}'\n",
    "\n",
    "prepfile = f\"{percode}prep.csv\"\n",
    "\n",
    "prepcsv = os.path.join(str(rt_path), prepfile)\n",
    "\n",
    "cols = [\"Filename\", \"Size\", \"Last Modified\" ]\n",
    "file_info_df = pd.DataFrame(columns = cols)\n",
    "\n",
    "name = f\"{percode}prep.csv\"\n",
    "size = round((os.path.getsize(prepcsv) /1000000),1)  # size in MB\n",
    "moddate = os.path.getctime(prepcsv)# time of last metadata change;\n",
    "moddate =  datetime.fromtimestamp(moddate).strftime('%Y-%m-%d %H:%M:%S')# format change;\n",
    "new_row = pd.DataFrame([[name, size, moddate]], columns = cols)\n",
    "file_info_df = file_info_df.append(new_row, ignore_index=True)\n",
    "\n",
    "\n",
    "df =  pd.read_csv(prepcsv,  index_col=False, dtype='unicode')\n",
    "\n",
    "df[\"Earned Revenues net of Taxes\"] = df[\"Earned Revenues net of Taxes\"].astype(float)\n",
    "\n",
    "file_info_df\n",
    "\n",
    "dfp = (df.pivot_table(index=( \"Country\", \"Submission File\"), columns=(\"Reporting Date From\",\"Reporting Date To\" ), values=\"Earned Revenues net of Taxes\").fillna(0).astype(int))\n",
    "\n",
    "dfp\n"
   ]
  },
  {
   "cell_type": "markdown",
   "metadata": {},
   "source": [
    "## Read the prep file into the pipeline."
   ]
  },
  {
   "cell_type": "code",
   "execution_count": 5,
   "metadata": {
    "pycharm": {
     "name": "#%%\n"
    }
   },
   "outputs": [
    {
     "data": {
      "application/vnd.jupyter.widget-view+json": {
       "model_id": "4e05c6c48c454ff091e02c3843b4f2bb",
       "version_major": 2,
       "version_minor": 0
      },
      "text/plain": [
       "HBox(children=(FloatProgress(value=0.0, description='Executing', max=36.0, style=ProgressStyle(description_wid…"
      ]
     },
     "metadata": {},
     "output_type": "display_data"
    },
    {
     "name": "stdout",
     "output_type": "stream",
     "text": [
      "\n"
     ]
    }
   ],
   "source": [
    "nb = pm.execute_notebook( 'read_dc.ipynb', os.path.join( instances, f'read_dc{inst_datetime}-{specialchars}.ipynb' ),\n",
    "                          {'run_control': run_type, 'percode': percode,\n",
    "                           'commit_message': commit, 'inst_datetime' : inst_datetime } )"
   ]
  },
  {
   "cell_type": "markdown",
   "metadata": {},
   "source": [
    "### Output Summary"
   ]
  },
  {
   "cell_type": "code",
   "execution_count": null,
   "metadata": {},
   "outputs": [],
   "source": [
    "tempfile = f\"{percode}.parquet\"\n",
    "\n",
    "prepcsv = os.path.join(str(rt_path), tempfile)\n",
    "\n",
    "df = read_parquet(prepcsv, engine = \"pyarrow\")\n",
    "\n",
    "if run_control > 0:\n",
    "\n",
    "    sumdata = df.groupby(['Business Unit']).sum()\n",
    "    sumdata = sumdata.reset_index()\n",
    "    plt.bar(sumdata['Business Unit'], sumdata['Earned Revenues net of Taxes']/1000)\n",
    "    plt.title('Earned Revenue net of Taxes by BU in thousands LC')\n",
    "    plt.show()\n",
    "\n",
    "    countdata = df.groupby(['Business Unit']).count()\n",
    "    countdata = countdata.reset_index()\n",
    "    plt.bar(countdata['Business Unit'], countdata['Earned Revenues net of Taxes'])\n",
    "    plt.title('Row Counts by BU')\n",
    "    plt.show()\n",
    "\n",
    "else:\n",
    "    print(\"Charts Skipped\")"
   ]
  },
  {
   "cell_type": "markdown",
   "metadata": {},
   "source": [
    "## Read initial .csv, make transformations in python, output to {percode}.localcur.parquet"
   ]
  },
  {
   "cell_type": "code",
   "execution_count": 6,
   "metadata": {
    "pycharm": {
     "name": "#%%\n"
    }
   },
   "outputs": [
    {
     "data": {
      "application/vnd.jupyter.widget-view+json": {
       "model_id": "9ea47993c7fe45e8889bfaa4e533bc83",
       "version_major": 2,
       "version_minor": 0
      },
      "text/plain": [
       "HBox(children=(FloatProgress(value=0.0, description='Executing', max=47.0, style=ProgressStyle(description_wid…"
      ]
     },
     "metadata": {},
     "output_type": "display_data"
    },
    {
     "name": "stdout",
     "output_type": "stream",
     "text": [
      "\n"
     ]
    }
   ],
   "source": [
    "nb = pm.execute_notebook( 'py_transform.ipynb', os.path.join( instances, f'py_transform{inst_datetime}-{specialchars}.ipynb' ),\n",
    "                          {'run_control': run_type, 'percode': percode,\n",
    "                           'commit_message': commit, 'inst_datetime' : inst_datetime  } )"
   ]
  },
  {
   "cell_type": "markdown",
   "metadata": {},
   "source": [
    "### Output Summary"
   ]
  },
  {
   "cell_type": "code",
   "execution_count": null,
   "metadata": {},
   "outputs": [],
   "source": [
    "tempfile = f\"{percode}.localcur.parquet\"\n",
    "\n",
    "prepcsv = os.path.join(str(rt_path), tempfile)\n",
    "\n",
    "df = read_parquet(prepcsv, engine = \"pyarrow\")\n",
    "\n",
    "if run_control > 0:\n",
    "\n",
    "    sumdata = df.groupby(['Business Unit']).sum()\n",
    "    sumdata = sumdata.reset_index()\n",
    "    plt.bar(sumdata['Business Unit'], sumdata['Earned Revenues net of Taxes']/1000)\n",
    "    plt.title('Earned Revenue net of Taxes by BU in thousands LC')\n",
    "    plt.show()\n",
    "\n",
    "    countdata = df.groupby(['Business Unit']).count()\n",
    "    countdata = countdata.reset_index()\n",
    "    plt.bar(countdata['Business Unit'], countdata['Earned Revenues net of Taxes'])\n",
    "    plt.title('Row Counts by BU')\n",
    "    plt.show()\n",
    "\n",
    "else:\n",
    "    print(\"Charts Skipped\")"
   ]
  },
  {
   "cell_type": "markdown",
   "metadata": {},
   "source": [
    "## Read {percode}.localcur.parquet make transfomrations in r , output to {percode}.localcur.parquet"
   ]
  },
  {
   "cell_type": "code",
   "execution_count": 7,
   "metadata": {
    "pycharm": {
     "name": "#%%\n"
    }
   },
   "outputs": [
    {
     "data": {
      "application/vnd.jupyter.widget-view+json": {
       "model_id": "369eb3060c0b4da7b7fd956c368030cd",
       "version_major": 2,
       "version_minor": 0
      },
      "text/plain": [
       "HBox(children=(FloatProgress(value=0.0, description='Executing', max=19.0, style=ProgressStyle(description_wid…"
      ]
     },
     "metadata": {},
     "output_type": "display_data"
    },
    {
     "name": "stdout",
     "output_type": "stream",
     "text": [
      "\n"
     ]
    }
   ],
   "source": [
    "nb = pm.execute_notebook( 'r_transform.ipynb', os.path.join( instances, f'r_transform{inst_datetime}-{specialchars}.ipynb' ),\n",
    "                          {'run_control': run_type, 'percode': percode,\n",
    "                           'commit_message': commit, 'inst_datetime' : inst_datetime  } )"
   ]
  },
  {
   "cell_type": "markdown",
   "metadata": {
    "pycharm": {
     "name": "#%% md\n"
    }
   },
   "source": [
    "## Read {percode}.localcur.parquet, output to {percode}.localcur.csv, make Euro fx conversions, output to {percode}.euroconv.csv"
   ]
  },
  {
   "cell_type": "code",
   "execution_count": 8,
   "metadata": {
    "pycharm": {
     "name": "#%%\n"
    }
   },
   "outputs": [
    {
     "data": {
      "application/vnd.jupyter.widget-view+json": {
       "model_id": "1598e3394c4741f0816184aa2af9b391",
       "version_major": 2,
       "version_minor": 0
      },
      "text/plain": [
       "HBox(children=(FloatProgress(value=0.0, description='Executing', max=26.0, style=ProgressStyle(description_wid…"
      ]
     },
     "metadata": {},
     "output_type": "display_data"
    },
    {
     "name": "stdout",
     "output_type": "stream",
     "text": [
      "\n"
     ]
    }
   ],
   "source": [
    "nb = pm.execute_notebook( 'make_output.ipynb', os.path.join( instances, f'make_output{inst_datetime}-{specialchars}.ipynb' ),\n",
    "                          {'run_control': run_type, 'percode': percode,\n",
    "                           'commit_message': commit, 'inst_datetime' : inst_datetime  } )\n"
   ]
  }
 ],
 "metadata": {
  "kernelspec": {
   "display_name": "Python 3",
   "language": "python",
   "name": "python3"
  },
  "language_info": {
   "codemirror_mode": {
    "name": "ipython",
    "version": 3
   },
   "file_extension": ".py",
   "mimetype": "text/x-python",
   "name": "python",
   "nbconvert_exporter": "python",
   "pygments_lexer": "ipython3",
   "version": "3.7.6"
  }
 },
 "nbformat": 4,
 "nbformat_minor": 1
}
