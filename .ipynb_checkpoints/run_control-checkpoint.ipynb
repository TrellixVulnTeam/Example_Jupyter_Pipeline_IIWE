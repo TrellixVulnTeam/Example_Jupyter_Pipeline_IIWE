{
 "cells": [
  {
   "cell_type": "code",
   "execution_count": 2,
   "metadata": {},
   "outputs": [],
   "source": [
    "\n",
    "import os\n",
    "from datetime import datetime\n",
    "import time\n",
    "import papermill as pm\n",
    "from IPython.lib.pretty import pprint"
   ]
  },
  {
   "cell_type": "markdown",
   "metadata": {},
   "source": [
    "## Set Instance Variables"
   ]
  },
  {
   "cell_type": "code",
   "execution_count": 3,
   "metadata": {
    "pycharm": {
     "name": "#%%\n"
    }
   },
   "outputs": [],
   "source": [
    "commit = \"New German Data.\"\n",
    "# give a reason for the run\n",
    "\n",
    "percode = \"2021.Q1\"\n",
    "# Data Collection Code, this controls file paths and output names\n",
    "\n",
    "run_type = 1\n",
    "#run_type =  0 - lite run with no reporting, not recommended.\n",
    "#run_type =  1 - lite run with normal reporting, default setting.\n",
    "#run_type =  2 - Heavy run with full reporting, available for audits and troubleshooting.\n",
    "\n",
    "specialchars = \"-GTHtest\"\n",
    "# optional - add up to a 12 character code in order to mark your instance record .ipynb"
   ]
  },
  {
   "cell_type": "markdown",
   "metadata": {},
   "source": [
    "## Record the datetimestamp for the instance"
   ]
  },
  {
   "cell_type": "code",
   "execution_count": 4,
   "metadata": {
    "pycharm": {
     "name": "#%%\n"
    }
   },
   "outputs": [],
   "source": [
    "inst_datetime = datetime.now().strftime(\"%m%d%Y%H%M%S\")\n",
    "# a single datetime stamp for the full instance run"
   ]
  },
  {
   "cell_type": "markdown",
   "metadata": {},
   "source": [
    "## set the instances folder"
   ]
  },
  {
   "cell_type": "code",
   "execution_count": 5,
   "metadata": {
    "pycharm": {
     "name": "#%%\n"
    }
   },
   "outputs": [],
   "source": [
    "instances = f\"//hecate/Insurance_US/Product Development/Product Management/\"\\\n",
    "             f\"Global PPM/Reporting/Data Collection/Production/{percode}/instances\""
   ]
  },
  {
   "cell_type": "markdown",
   "metadata": {},
   "source": [
    "## Read the data, create initial .csv"
   ]
  },
  {
   "cell_type": "code",
   "execution_count": 6,
   "metadata": {
    "pycharm": {
     "name": "#%%\n"
    }
   },
   "outputs": [
    {
     "data": {
      "application/vnd.jupyter.widget-view+json": {
       "model_id": "459f970d8fb9404ca8e5fea58c942a76",
       "version_major": 2,
       "version_minor": 0
      },
      "text/plain": [
       "HBox(children=(FloatProgress(value=0.0, description='Executing', max=36.0, style=ProgressStyle(description_wid…"
      ]
     },
     "metadata": {},
     "output_type": "display_data"
    },
    {
     "name": "stdout",
     "output_type": "stream",
     "text": [
      "\n"
     ]
    }
   ],
   "source": [
    "nb = pm.execute_notebook( 'read_dc.ipynb', os.path.join( instances, f'read_dc{inst_datetime}-{specialchars}.ipynb' ),\n",
    "                          {'run_control': run_type, 'percode': percode,\n",
    "                           'commit_message': commit, 'inst_datetime' : inst_datetime  } )"
   ]
  },
  {
   "cell_type": "code",
   "execution_count": null,
   "metadata": {},
   "outputs": [],
   "source": [
    "## Read initial .csv, make transformations in python, output to {percode}.localcur.parquet"
   ]
  },
  {
   "cell_type": "code",
   "execution_count": 7,
   "metadata": {
    "pycharm": {
     "name": "#%%\n"
    }
   },
   "outputs": [
    {
     "name": "stderr",
     "output_type": "stream",
     "text": [
      "Input notebook does not contain a cell with tag 'parameters'\n"
     ]
    },
    {
     "data": {
      "application/vnd.jupyter.widget-view+json": {
       "model_id": "322e4f9e96e44f44a4a5a23279e2a415",
       "version_major": 2,
       "version_minor": 0
      },
      "text/plain": [
       "HBox(children=(FloatProgress(value=0.0, description='Executing', max=47.0, style=ProgressStyle(description_wid…"
      ]
     },
     "metadata": {},
     "output_type": "display_data"
    },
    {
     "name": "stdout",
     "output_type": "stream",
     "text": [
      "\n"
     ]
    }
   ],
   "source": [
    "nb = pm.execute_notebook( 'py_transform.ipynb', os.path.join( instances, f'py_transform{inst_datetime}-{specialchars}.ipynb' ),\n",
    "                          {'run_control': run_type, 'percode': percode,\n",
    "                           'commit_message': commit, 'inst_datetime' : inst_datetime  } )"
   ]
  },
  {
   "cell_type": "markdown",
   "metadata": {},
   "source": [
    "## Read {percode}.localcur.parquet make transfomrations in r , output to {percode}.localcur.parquet"
   ]
  },
  {
   "cell_type": "code",
   "execution_count": 8,
   "metadata": {
    "pycharm": {
     "name": "#%%\n"
    }
   },
   "outputs": [
    {
     "name": "stderr",
     "output_type": "stream",
     "text": [
      "Input notebook does not contain a cell with tag 'parameters'\n"
     ]
    },
    {
     "data": {
      "application/vnd.jupyter.widget-view+json": {
       "model_id": "366d8fee2ac8452a9a9f48674de417eb",
       "version_major": 2,
       "version_minor": 0
      },
      "text/plain": [
       "HBox(children=(FloatProgress(value=0.0, description='Executing', max=18.0, style=ProgressStyle(description_wid…"
      ]
     },
     "metadata": {},
     "output_type": "display_data"
    },
    {
     "name": "stdout",
     "output_type": "stream",
     "text": [
      "\n"
     ]
    },
    {
     "ename": "PapermillExecutionError",
     "evalue": "\n---------------------------------------------------------------------------\nException encountered at \"In [5]\":\nError in read.xlsx.default(xlsxFile = file.path(data_dir, inputs), sheet = \"Euro_Rates\"): Cannot find sheet named \"Euro_Rates\"\nTraceback:\n\n1. as.data.table(read.xlsx(xlsxFile = file.path(data_dir, inputs), \n .     sheet = \"Euro_Rates\"))\n2. read.xlsx(xlsxFile = file.path(data_dir, inputs), sheet = \"Euro_Rates\")\n3. read.xlsx.default(xlsxFile = file.path(data_dir, inputs), sheet = \"Euro_Rates\")\n4. stop(sprintf(\"Cannot find sheet named \\\"%s\\\"\", sheet))\n",
     "output_type": "error",
     "traceback": [
      "\u001b[1;31m---------------------------------------------------------------------------\u001b[0m",
      "\u001b[1;31mPapermillExecutionError\u001b[0m                   Traceback (most recent call last)",
      "\u001b[1;32m<ipython-input-8-477dbdb9839c>\u001b[0m in \u001b[0;36m<module>\u001b[1;34m\u001b[0m\n\u001b[0;32m      1\u001b[0m nb = pm.execute_notebook( 'r_transform.ipynb', os.path.join( instances, f'r_transform{inst_datetime}-{specialchars}.ipynb' ),\n\u001b[0;32m      2\u001b[0m                           {'run_control': run_type, 'percode': percode,\n\u001b[1;32m----> 3\u001b[1;33m                            'commit_message': commit, 'inst_datetime' : inst_datetime  } )\n\u001b[0m\u001b[0;32m      4\u001b[0m \u001b[1;33m\u001b[0m\u001b[0m\n",
      "\u001b[1;32m~\\Anaconda3\\lib\\site-packages\\papermill\\execute.py\u001b[0m in \u001b[0;36mexecute_notebook\u001b[1;34m(input_path, output_path, parameters, engine_name, request_save_on_cell_execute, prepare_only, kernel_name, language, progress_bar, log_output, stdout_file, stderr_file, start_timeout, report_mode, cwd, **engine_kwargs)\u001b[0m\n\u001b[0;32m    120\u001b[0m \u001b[1;33m\u001b[0m\u001b[0m\n\u001b[0;32m    121\u001b[0m             \u001b[1;31m# Check for errors first (it saves on error before raising)\u001b[0m\u001b[1;33m\u001b[0m\u001b[1;33m\u001b[0m\u001b[1;33m\u001b[0m\u001b[0m\n\u001b[1;32m--> 122\u001b[1;33m             \u001b[0mraise_for_execution_errors\u001b[0m\u001b[1;33m(\u001b[0m\u001b[0mnb\u001b[0m\u001b[1;33m,\u001b[0m \u001b[0moutput_path\u001b[0m\u001b[1;33m)\u001b[0m\u001b[1;33m\u001b[0m\u001b[1;33m\u001b[0m\u001b[0m\n\u001b[0m\u001b[0;32m    123\u001b[0m \u001b[1;33m\u001b[0m\u001b[0m\n\u001b[0;32m    124\u001b[0m         \u001b[1;31m# Write final output in case the engine didn't write it on cell completion.\u001b[0m\u001b[1;33m\u001b[0m\u001b[1;33m\u001b[0m\u001b[1;33m\u001b[0m\u001b[0m\n",
      "\u001b[1;32m~\\Anaconda3\\lib\\site-packages\\papermill\\execute.py\u001b[0m in \u001b[0;36mraise_for_execution_errors\u001b[1;34m(nb, output_path)\u001b[0m\n\u001b[0;32m    232\u001b[0m \u001b[1;33m\u001b[0m\u001b[0m\n\u001b[0;32m    233\u001b[0m         \u001b[0mwrite_ipynb\u001b[0m\u001b[1;33m(\u001b[0m\u001b[0mnb\u001b[0m\u001b[1;33m,\u001b[0m \u001b[0moutput_path\u001b[0m\u001b[1;33m)\u001b[0m\u001b[1;33m\u001b[0m\u001b[1;33m\u001b[0m\u001b[0m\n\u001b[1;32m--> 234\u001b[1;33m         \u001b[1;32mraise\u001b[0m \u001b[0merror\u001b[0m\u001b[1;33m\u001b[0m\u001b[1;33m\u001b[0m\u001b[0m\n\u001b[0m",
      "\u001b[1;31mPapermillExecutionError\u001b[0m: \n---------------------------------------------------------------------------\nException encountered at \"In [5]\":\nError in read.xlsx.default(xlsxFile = file.path(data_dir, inputs), sheet = \"Euro_Rates\"): Cannot find sheet named \"Euro_Rates\"\nTraceback:\n\n1. as.data.table(read.xlsx(xlsxFile = file.path(data_dir, inputs), \n .     sheet = \"Euro_Rates\"))\n2. read.xlsx(xlsxFile = file.path(data_dir, inputs), sheet = \"Euro_Rates\")\n3. read.xlsx.default(xlsxFile = file.path(data_dir, inputs), sheet = \"Euro_Rates\")\n4. stop(sprintf(\"Cannot find sheet named \\\"%s\\\"\", sheet))\n"
     ]
    }
   ],
   "source": [
    "nb = pm.execute_notebook( 'r_transform.ipynb', os.path.join( instances, f'r_transform{inst_datetime}-{specialchars}.ipynb' ),\n",
    "                          {'run_control': run_type, 'percode': percode,\n",
    "                           'commit_message': commit, 'inst_datetime' : inst_datetime  } )"
   ]
  },
  {
   "cell_type": "markdown",
   "metadata": {
    "pycharm": {
     "name": "#%% md\n"
    }
   },
   "source": [
    "## Read {percode}.localcur.parquet, output to {percode}.localcur.csv, make Euro fx conversions, output to {percode}.euroconv.csv"
   ]
  },
  {
   "cell_type": "code",
   "execution_count": null,
   "metadata": {
    "pycharm": {
     "name": "#%%\n"
    }
   },
   "outputs": [],
   "source": [
    "nb = pm.execute_notebook( 'make_output.ipynb', os.path.join( instances, f'make_output{inst_datetime}-{specialchars}.ipynb' ),\n",
    "                          {'run_control': run_type, 'percode': percode,\n",
    "                           'commit_message': commit, 'inst_datetime' : inst_datetime  } )\n"
   ]
  }
 ],
 "metadata": {
  "kernelspec": {
   "display_name": "Python 3",
   "language": "python",
   "name": "python3"
  },
  "language_info": {
   "codemirror_mode": {
    "name": "ipython",
    "version": 3
   },
   "file_extension": ".py",
   "mimetype": "text/x-python",
   "name": "python",
   "nbconvert_exporter": "python",
   "pygments_lexer": "ipython3",
   "version": "3.7.6"
  }
 },
 "nbformat": 4,
 "nbformat_minor": 1
}
