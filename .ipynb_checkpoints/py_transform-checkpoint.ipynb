{
 "cells": [
  {
   "cell_type": "markdown",
   "metadata": {
    "collapsed": true,
    "pycharm": {
     "name": "#%% md\n"
    }
   },
   "source": [
    "## GPM Data Transformation Script\n",
    "\n",
    "#### This script transforms the single consolidated raw file \"{Data Collection}.csv\" into it's final GPM input versions \"{Data Collection Code}localcur.csv\" and \"{Data Collection Code}euroconv.csv\"\n",
    "#### Current transformations\n",
    "\n",
    "-    make headers lowercase and replace spaces with hyphens\n",
    "-    Remove any rows with null BUs\n",
    "-    validate columns in validcols\n",
    "-    output documented here: \"Global_Attribute_Catalog.xlsx\" you can also edit dataframe entries using the instructions in the file\n",
    "-    replace various null or placeholder values with \"Not Provided\"\n"
   ]
  },
  {
   "cell_type": "markdown",
   "metadata": {},
   "source": [
    "###"
   ]
  },
  {
   "cell_type": "code",
   "execution_count": 1,
   "metadata": {
    "pycharm": {
     "name": "#%%\n"
    }
   },
   "outputs": [],
   "source": [
    "commit = \"\"\n",
    "# give a reason for the run\n",
    "\n",
    "percode = \"20XX.QX\"\n",
    "# Data Collection Code, this controls file paths and output names\n",
    "\n",
    "run_type = 1\n",
    "#run_type =  0 - lite run with no reporting, not recommended.\n",
    "#run_type =  1 - lite run with normal reporting, default setting.\n",
    "#run_type =  2 - Heavy run with full reporting, available for audits and troubleshooting.\n",
    "\n",
    "specialchars = \"-GTHtest\"\n",
    "# optional - add up to a 12 character code in order to mark your instance record .ipynb\n",
    "\n",
    "from datetime import datetime\n",
    "\n",
    "inst_datetime = datetime.now().strftime(\"%m%d%Y%H%M%S\")\n",
    "# a single datetime stamp for the full instance run\n"
   ]
  },
  {
   "cell_type": "markdown",
   "metadata": {},
   "source": [
    "### Set Run Control\n",
    "\n",
    "##### 0 - lite run with no reporting, not recommended.\n",
    "##### 1 - lite run with normal reporting, default setting.\n",
    "##### 2 - Heavy run with full reporting, available for audits and troubleshooting."
   ]
  },
  {
   "cell_type": "code",
   "execution_count": 2,
   "metadata": {
    "pycharm": {
     "name": "#%%\n"
    }
   },
   "outputs": [],
   "source": [
    "run_control = 0  # in development mode"
   ]
  },
  {
   "cell_type": "code",
   "execution_count": 3,
   "metadata": {
    "pycharm": {
     "name": "#%%\n"
    }
   },
   "outputs": [],
   "source": [
    "#### Packages used\n",
    "import sys\n",
    "import os\n",
    "import pandas as pd\n",
    "from pandas import ExcelWriter\n",
    "from numpy import nan"
   ]
  },
  {
   "cell_type": "code",
   "execution_count": 4,
   "metadata": {
    "pycharm": {
     "name": "#%%\n"
    }
   },
   "outputs": [],
   "source": [
    "default_dc = \"2021.Q1\"\n",
    "\n",
    "try:\n",
    "    if sys.argv[1] == \"-f\":\n",
    "        percode = default_dc\n",
    "    else:\n",
    "        percode = sys.argv[1]\n",
    "\n",
    "except IndexError:\n",
    "    percode = default_dc\n",
    "except NameError:\n",
    "    percode = default_dc"
   ]
  },
  {
   "cell_type": "markdown",
   "metadata": {},
   "source": [
    "#### Convert paths and files to variables.\n",
    "#### Read data into pd DataFrames.\n",
    "#### Make paths for the live sources."
   ]
  },
  {
   "cell_type": "code",
   "execution_count": 5,
   "metadata": {
    "pycharm": {
     "name": "#%%\n"
    }
   },
   "outputs": [],
   "source": [
    "rt_path = f'//hecate/Insurance_US/Product Development/Product Management/Global PPM/Reporting/Data Collection/Production/{str(percode)}'\n",
    "\n",
    "infile = os.path.join(rt_path, f'{str(percode)}.csv')\n",
    "GPPM_Input = os.path.join(rt_path, f'GPPM_Input_{str(percode)}.xlsx')"
   ]
  },
  {
   "cell_type": "code",
   "execution_count": 6,
   "metadata": {
    "pycharm": {
     "name": "#%%\n"
    }
   },
   "outputs": [],
   "source": [
    "\"\"\"this reads the consolidated file that will be transformed\"\"\"\n",
    "input = pd.read_csv(infile, low_memory=False)"
   ]
  },
  {
   "cell_type": "markdown",
   "metadata": {},
   "source": [
    "#### Make a copy for debug purposes"
   ]
  },
  {
   "cell_type": "code",
   "execution_count": 7,
   "metadata": {
    "pycharm": {
     "name": "#%%\n"
    }
   },
   "outputs": [],
   "source": [
    "trandata = input.copy()"
   ]
  },
  {
   "cell_type": "markdown",
   "metadata": {},
   "source": [
    "#### Format Headers"
   ]
  },
  {
   "cell_type": "code",
   "execution_count": 8,
   "metadata": {
    "pycharm": {
     "name": "#%%\n"
    }
   },
   "outputs": [],
   "source": [
    "# save the column names to variable, format them, replace headers\n",
    "cols = trandata.columns.values\n",
    "\n",
    "\"\"\"format headers\"\"\"\n",
    "fixedcols = []\n",
    "\n",
    "for f in cols:\n",
    "    fixedhead = f.replace(' ', '_').lower()\n",
    "    fixedcols.append(fixedhead)\n",
    "\n",
    "trandata.columns = fixedcols"
   ]
  },
  {
   "cell_type": "markdown",
   "metadata": {
    "pycharm": {
     "name": "#%% md\n"
    }
   },
   "source": [
    "#### Update Verification 1"
   ]
  },
  {
   "cell_type": "code",
   "execution_count": 9,
   "metadata": {
    "pycharm": {
     "name": "#%%\n"
    }
   },
   "outputs": [
    {
     "name": "stdout",
     "output_type": "stream",
     "text": [
      "Skipped Transformation Report 1\n"
     ]
    }
   ],
   "source": [
    "if run_control > 0:\n",
    "    disp = {\"Original\": input.columns, \"Transformed\": trandata.columns}\n",
    "\n",
    "    disp = pd.DataFrame(disp)\n",
    "\n",
    "    print(disp.to_markdown())\n",
    "else:\n",
    "    print(\"Skipped Transformation Report 1\")"
   ]
  },
  {
   "cell_type": "markdown",
   "metadata": {},
   "source": [
    "#### Remove rows with null business units\n"
   ]
  },
  {
   "cell_type": "code",
   "execution_count": 10,
   "metadata": {
    "pycharm": {
     "name": "#%%\n"
    }
   },
   "outputs": [],
   "source": [
    "# todo, remove this from read file\n",
    "trandata = trandata[trandata.business_unit.notnull()]"
   ]
  },
  {
   "cell_type": "markdown",
   "metadata": {},
   "source": [
    "#### Update Verification 2"
   ]
  },
  {
   "cell_type": "code",
   "execution_count": 11,
   "metadata": {
    "pycharm": {
     "name": "#%%\n"
    }
   },
   "outputs": [
    {
     "name": "stdout",
     "output_type": "stream",
     "text": [
      "Skipped Transformation Report 2\n"
     ]
    }
   ],
   "source": [
    "if run_control > 0:\n",
    "\n",
    "    ibus = input.groupby(['Business Unit']).count()\n",
    "    ibus = ibus.reset_index()\n",
    "    tbus = trandata.groupby(['business_unit']).count()\n",
    "    tbus = tbus.reset_index()\n",
    "\n",
    "    compdata = pd.merge(ibus, tbus, left_on='Business Unit', right_on='business_unit', how='left')\n",
    "\n",
    "    disp = {\"Business Unit\": compdata['Business Unit'], \"Original\": compdata['Earned Revenues net of Taxes'],\n",
    "            \"Transformed\": compdata['earned_revenues_net_of_taxes']}\n",
    "\n",
    "    disp = pd.DataFrame(disp)\n",
    "\n",
    "    print(\"Row Counts\")\n",
    "    print(disp.to_markdown())\n",
    "else:\n",
    "    print(\"Skipped Transformation Report 2\")\n"
   ]
  },
  {
   "cell_type": "markdown",
   "metadata": {},
   "source": [
    "#### Swap  nulls for \"Not Provided\" in 'Sub Lob' and 'Distribution Channel'"
   ]
  },
  {
   "cell_type": "code",
   "execution_count": 12,
   "metadata": {
    "pycharm": {
     "name": "#%%\n"
    }
   },
   "outputs": [],
   "source": [
    "mults = trandata['sub_lob'][trandata.sub_lob.replace(nan, 'Not Provided').str.contains(',', case=False)]\n",
    "mults = mults.unique()\n",
    "\n",
    "trandata['sub_lob'] = trandata['sub_lob'].fillna('Not Provided')\n",
    "trandata['sub_lob'] = trandata['sub_lob'].replace('', 'Not Provided')\n",
    "trandata['distribution_channel'] = trandata['distribution_channel'].replace('', 'Not Provided').fillna('Not Provided')"
   ]
  },
  {
   "cell_type": "markdown",
   "metadata": {},
   "source": [
    "#### Replace multiple entries in \"Sub Lob\" to \"Multiple\""
   ]
  },
  {
   "cell_type": "code",
   "execution_count": 13,
   "metadata": {
    "pycharm": {
     "name": "#%%\n"
    }
   },
   "outputs": [],
   "source": [
    "for i in mults:\n",
    "    trandata['sub_lob'] = trandata['sub_lob'].replace(i, 'Multiple')\n",
    "\n",
    "# todo automate figuring out which fields fx rates should be applied to somehow"
   ]
  },
  {
   "cell_type": "markdown",
   "metadata": {},
   "source": [
    "#### Update Verification 3"
   ]
  },
  {
   "cell_type": "code",
   "execution_count": 14,
   "metadata": {
    "pycharm": {
     "name": "#%%\n"
    }
   },
   "outputs": [
    {
     "name": "stdout",
     "output_type": "stream",
     "text": [
      "Row Counts\n",
      "|    | Original Sub LOB                                                                                                                                                                                                                                                                                                                                                            | Transformed Sub LOB                                            |     Original |   Transformed |\n",
      "|---:|:----------------------------------------------------------------------------------------------------------------------------------------------------------------------------------------------------------------------------------------------------------------------------------------------------------------------------------------------------------------------------|:---------------------------------------------------------------|-------------:|--------------:|\n",
      "|  0 | 0                                                                                                                                                                                                                                                                                                                                                                           | 0                                                              |  46276.9     |     46276.9   |\n",
      "|  1 | Collision Damage Waiver (CDW)                                                                                                                                                                                                                                                                                                                                               | Collision Damage Waiver (CDW)                                  |  68649.9     |     68649.9   |\n",
      "|  2 | Collision Damage Waiver (CDW), Standalone Cancellation - Single Trip, Travel Package w/o Cancellation Multi Trip (Annual Insurance), Travel Package w/o Cancellation Short Term Single Trip, Travel Package with Cancellation Short Term Single Trip                                                                                                                        | nan                                                            |    407.927   |       nan     |\n",
      "|  3 | Collision Damage Waiver (CDW), Travel Medical Short Term - Single Trip, Travel Package with Cancellation Short Term Single Trip                                                                                                                                                                                                                                             | nan                                                            |  27930.2     |       nan     |\n",
      "|  4 | Collision Damage Waiver (CDW), Travel Package with Cancellation Short Term Single Trip                                                                                                                                                                                                                                                                                      | nan                                                            |     13.6165  |       nan     |\n",
      "|  5 | Corporate Travel                                                                                                                                                                                                                                                                                                                                                            | Corporate Travel                                               |   4844.44    |      4844.44  |\n",
      "|  6 | Event Ticket Cancellation                                                                                                                                                                                                                                                                                                                                                   | Event Ticket Cancellation                                      | 126206       |    126206     |\n",
      "|  7 | Expatriates                                                                                                                                                                                                                                                                                                                                                                 | Expatriates                                                    |    842.913   |       842.913 |\n",
      "|  8 | Not Provided                                                                                                                                                                                                                                                                                                                                                                | Not Provided                                                   |   5602.67    |    234769     |\n",
      "|  9 | Other                                                                                                                                                                                                                                                                                                                                                                       | Other                                                          |    355.062   |       355.062 |\n",
      "| 10 | Standalone Cancellation - Multi-Trip                                                                                                                                                                                                                                                                                                                                        | Standalone Cancellation - Multi-Trip                           |      4.094   |         4.094 |\n",
      "| 11 | Standalone Cancellation - Single Trip                                                                                                                                                                                                                                                                                                                                       | Standalone Cancellation - Single Trip                          |   5561.74    |      5561.74  |\n",
      "| 12 | Standalone Cancellation - Single Trip, Travel Package w/o Cancellation Multi Trip (Annual Insurance), Travel Package w/o Cancellation Short Term Single Trip, Travel Package with Cancellation Short Term Single Trip                                                                                                                                                       | nan                                                            |     15.4691  |       nan     |\n",
      "| 13 | Standalone Cancellation - Single Trip, Travel Package w/o Cancellation Short Term Single Trip, Travel Package with Cancellation Short Term Single Trip                                                                                                                                                                                                                      | nan                                                            |    356.514   |       nan     |\n",
      "| 14 | Standalone Cancellation - Single Trip, Travel Package with Cancellation Short Term Single Trip                                                                                                                                                                                                                                                                              | nan                                                            |      2.94969 |       nan     |\n",
      "| 15 | TPA/Claims Handling / Service Only Products                                                                                                                                                                                                                                                                                                                                 | TPA/Claims Handling / Service Only Products                    |    468.933   |       468.933 |\n",
      "| 16 | TPA/Claims Handling / Service Only Products, Travel Package w/o Cancellation Multi Trip (Annual Insurance)                                                                                                                                                                                                                                                                  | nan                                                            |    731.005   |       nan     |\n",
      "| 17 | Travel Medical Long term - Single Trip, Travel Medical Multi Trip (Annual Insurance), Travel Package with Cancellation Short Term Single Trip, Travel Package with Cancellation Multi Trip (Annual Insurance)                                                                                                                                                               | nan                                                            |  49824.5     |       nan     |\n",
      "| 18 | Travel Medical Long term - Single Trip, Travel Medical Short Term - Single Trip, Standalone Cancellation - Single Trip, Standalone Cancellation - Multi-Trip                                                                                                                                                                                                                | nan                                                            |  17201.6     |       nan     |\n",
      "| 19 | Travel Medical Long term - Single Trip, Travel Medical Short Term - Single Trip, Standalone Cancellation - Single Trip, Standalone Cancellation - Multi-Trip, Travel Medical Long term - Single Trip, Travel Medical Multi Trip (Annual Insurance), Travel Package with Cancellation Short Term Single Trip, Travel Package with Cancellation Multi Trip (Annual Insurance) | nan                                                            |  11625.9     |       nan     |\n",
      "| 20 | Travel Medical Long term - Single Trip, Travel Package with Cancellation Short Term Single Trip                                                                                                                                                                                                                                                                             | nan                                                            |   3178.19    |       nan     |\n",
      "| 21 | Travel Medical Multi Trip (Annual Insurance)                                                                                                                                                                                                                                                                                                                                | Travel Medical Multi Trip (Annual Insurance)                   |  44984       |     44984     |\n",
      "| 22 | Travel Medical Multi Trip (Annual Insurance), Travel Medical Long term - Single Trip, Travel Medical Multi Trip (Annual Insurance), Travel Package with Cancellation Short Term Single Trip, Travel Package with Cancellation Multi Trip (Annual Insurance)                                                                                                                 | nan                                                            |   4514.72    |       nan     |\n",
      "| 23 | Travel Medical Short Term - Single Trip                                                                                                                                                                                                                                                                                                                                     | Travel Medical Short Term - Single Trip                        |   7782.74    |      7782.74  |\n",
      "| 24 | Travel Medical Short Term - Single Trip, Travel Medical Long term - Single Trip, Travel Medical Multi Trip (Annual Insurance), Travel Package with Cancellation Short Term Single Trip, Travel Package with Cancellation Multi Trip (Annual Insurance)                                                                                                                      | nan                                                            |   3200.81    |       nan     |\n",
      "| 25 | Travel Medical Short term - Single Trip                                                                                                                                                                                                                                                                                                                                     | Travel Medical Short term - Single Trip                        |   3613.64    |      3613.64  |\n",
      "| 26 | Travel Package w/o Cancellation Long Term Single Trip                                                                                                                                                                                                                                                                                                                       | Travel Package w/o Cancellation Long Term Single Trip          |   1205.57    |      1205.57  |\n",
      "| 27 | Travel Package w/o Cancellation Multi Trip (Annual Insurance)                                                                                                                                                                                                                                                                                                               | Travel Package w/o Cancellation Multi Trip (Annual Insurance)  |   3661.82    |      3661.82  |\n",
      "| 28 | Travel Package w/o Cancellation Short Term Single Trip                                                                                                                                                                                                                                                                                                                      | Travel Package w/o Cancellation Short Term Single Trip         |  15238.6     |     15238.6   |\n",
      "| 29 | Travel Package w/o Cancellation Short Term Single Trip, Standalone Cancellation - Single Trip                                                                                                                                                                                                                                                                               | nan                                                            |    197.141   |       nan     |\n",
      "| 30 | Travel Package w/o Cancellation Short Term Single Trip, Standalone Cancellation - Single Trip, Travel Medical Short Term - Single Trip                                                                                                                                                                                                                                      | nan                                                            |    268.173   |       nan     |\n",
      "| 31 | Travel Package w/o Cancellation Short Term Single Trip, Travel Package with Cancellation Short Term Single Trip                                                                                                                                                                                                                                                             | nan                                                            |     21.1502  |       nan     |\n",
      "| 32 | Travel Package with Cancellation Long Term Single Trip                                                                                                                                                                                                                                                                                                                      | Travel Package with Cancellation Long Term Single Trip         |    157.691   |       157.691 |\n",
      "| 33 | Travel Package with Cancellation Multi Trip (Annual Insurance)                                                                                                                                                                                                                                                                                                              | Travel Package with Cancellation Multi Trip (Annual Insurance) | 147650       |    147650     |\n",
      "| 34 | Travel Package with Cancellation Short Term Single Trip                                                                                                                                                                                                                                                                                                                     | Travel Package with Cancellation Short Term Single Trip        | 556443       |    556443     |\n",
      "| 35 | Travel Package with Cancellation Short Term Single Trip, Standalone Cancellation - Single Trip                                                                                                                                                                                                                                                                              | nan                                                            |    204.262   |       nan     |\n",
      "| 36 | Travel Package with Cancellation Short Term Single Trip, Travel Medical Short Term - Single Trip                                                                                                                                                                                                                                                                            | nan                                                            |      7.70004 |       nan     |\n",
      "| 37 | Travel Package with Cancellation Short Term Single Trip, Travel Package w/o Cancellation Short Term Single Trip                                                                                                                                                                                                                                                             | nan                                                            |    417.935   |       nan     |\n",
      "| 38 | Travel Package with Cancellation Short Term Single Trip, Travel Package w/o Cancellation Short Term Single Trip, Standalone Cancellation - Single Trip                                                                                                                                                                                                                      | nan                                                            |    229.073   |       nan     |\n",
      "| 39 | Travel Package with Cancellation Short Term Single Trip, Travel Package w/o Cancellation Short Term Single Trip, Standalone Cancellation - Single Trip, Travel Medical Short Term - Single Trip                                                                                                                                                                             | nan                                                            |    386.79    |       nan     |\n",
      "| 40 | Travel Package with Cancellation Short Term Single Trip, Travel Package w/o Cancellation Short Term Single Trip, Travel Medical Short Term - Single Trip                                                                                                                                                                                                                    | nan                                                            |    278.831   |       nan     |\n",
      "| 41 | Travel Package with Cancellation Short Term Single Trip, Travel Package with Cancellation Multi Trip (Annual Insurance)                                                                                                                                                                                                                                                     | nan                                                            |  -1094.41    |       nan     |\n",
      "| 42 | Travel Package with Cancellation Short Term Single Trip, Travel Package with Cancellation Short Term Single Trip, Travel Package w/o Cancellation Short Term Single Trip, Standalone Cancellation - Single Trip                                                                                                                                                             | nan                                                            |    158.468   |       nan     |\n",
      "| 43 | Tuition                                                                                                                                                                                                                                                                                                                                                                     | Tuition                                                        |   4920.19    |      4920.19  |\n",
      "| 44 | nan                                                                                                                                                                                                                                                                                                                                                                         | Multiple                                                       |    nan       |    120078     |\n",
      "|    |   Original Total |   Transformed Total |\n",
      "|---:|-----------------:|--------------------:|\n",
      "|  0 |           139371 |              139371 |\n"
     ]
    }
   ],
   "source": [
    "if run_control > -10:\n",
    "\n",
    "    ibus = input.groupby(['Sub LOB']).sum()\n",
    "    ibus = ibus.reset_index()\n",
    "    tbus = trandata.groupby(['sub_lob']).sum()\n",
    "    tbus = tbus.reset_index()\n",
    "\n",
    "    compdatasublob = pd.merge(ibus, tbus, left_on='Sub LOB', right_on='sub_lob', how='outer')\n",
    "\n",
    "    disp1 = pd.DataFrame(\n",
    "        {'Original Sub LOB': compdatasublob['Sub LOB'], 'Transformed Sub LOB': compdatasublob['sub_lob'],\n",
    "         \"Original\": compdatasublob['Earned Revenues net of Taxes'] / 1000,\n",
    "         \"Transformed\": compdatasublob['earned_revenues_net_of_taxes'] / 1000})\n",
    "\n",
    "    print(\"Row Counts\")\n",
    "    print(disp1.to_markdown())\n",
    "\n",
    "    tots1 = pd.DataFrame({'Original Total': (input['Earned Revenues net of Taxes']).sum() / 10000,\n",
    "                          \"Transformed Total\": (compdatasublob['earned_revenues_net_of_taxes']).sum() / 10000},\n",
    "                         index=[0])\n",
    "    print(tots1.to_markdown())\n",
    "\n",
    "else:\n",
    "    print(\"Skipped Transformation Report 2\")"
   ]
  },
  {
   "cell_type": "markdown",
   "metadata": {},
   "source": [
    "#### Make cflds, a list of currency fields, force to float, coercion is null or string to 0"
   ]
  },
  {
   "cell_type": "code",
   "execution_count": 15,
   "metadata": {
    "pycharm": {
     "name": "#%%\n"
    }
   },
   "outputs": [],
   "source": [
    "cflds = ['written_revenues_net_of_taxes', 'written_revenues', 'earned_revenues_net_of_taxes',\n",
    "         'earned_revenues', 'earned_base_commissions', 'earned_over-commissions', 'upfront_cash_payments',\n",
    "         'total_compensation', 'paid_claims', 'ocr_+_ibnr', 'actual_incurred_losses_(paid_+_ocr_+_ibnr)',\n",
    "         'internal_variable_costs_(excl._az_tech_fee)', 'az_tech_fee', 'internal_fixed_costs_(excl._hq_fees)',\n",
    "         'hq_fees', 'total_expenses', 'risk_premium', 'profit_or_loss', 'contribution_margin_-_hq_view',\n",
    "         'contribution_margin_-_bu_view', ]\n",
    "\n",
    "for i in cflds:\n",
    "    pd.to_numeric(trandata[i], errors='coerce')"
   ]
  },
  {
   "cell_type": "markdown",
   "metadata": {},
   "source": [
    "#### Turn selected columns values uppercase\n",
    "\n",
    "# the rest does not have the full treatment"
   ]
  },
  {
   "cell_type": "code",
   "execution_count": 16,
   "metadata": {
    "pycharm": {
     "name": "#%%\n"
    }
   },
   "outputs": [],
   "source": [
    "validcols = ['business_unit', 'currency', 'region', 'type_of_analysis', 'type_of_business', 'type_of_account', 'lob',\n",
    "             'distribution_type', 'distribution_channel', ]\n",
    "\n",
    "for c in validcols:\n",
    "    trandata[c] = trandata[c].astype(str)\n",
    "    trandata[c] = trandata[c].apply(lambda x: x.upper())\n",
    "checktabs = []\n",
    "\n",
    "for s in validcols:\n",
    "    t = pd.read_excel(\n",
    "        f'//hecate/Insurance_US/Product Development/Product Management/Global PPM/Reporting/Data Collection/Production/{str(percode)}\\\\{str(percode)}_Attribute_Catalog.xlsx',\n",
    "        sheet_name=s)\n",
    "    checktabs.append([[s], [t]])\n",
    "gacout = []\n",
    "\n",
    "for u in enumerate(validcols):\n",
    "    trandata.loc[0:len(trandata[u[1]]), u[1]] = trandata[u[1]].replace(\n",
    "        [checktabs[u[0]][1][0]['Upper_Vers']][0].to_numpy(), [checktabs[u[0]][1][0][u[1]]][0].to_numpy())\n",
    "    d = list(checktabs[u[0]][1][0]['Non Matches'].drop_duplicates().dropna().append(\n",
    "        pd.Series(trandata[u[1]][~trandata[u[1]].isin(checktabs[u[0]][1][0][u[1]])].drop_duplicates().dropna()),\n",
    "        ignore_index=True))\n",
    "    g = [checktabs[u[0]][1][0][str(u[1])], checktabs[u[0]][1][0]['Upper_Vers'], checktabs[u[0]][1][0]['Unnamed: 2'],\n",
    "         pd.Series(d, dtype='object').drop_duplicates().dropna(), checktabs[u[0]][1][0]['User Defined Corrections']]\n",
    "    gacout.append(list([g, u[1]]))\n",
    "w = ExcelWriter(\n",
    "    f'//hecate/Insurance_US/Product Development/Product Management/Global PPM/Reporting/Data Collection/Production/{str(percode)}\\\\{str(percode)}_Attribute_Catalog.xlsx')\n",
    "notes = pd.DataFrame([\n",
    "                         \"This page is script generated during the source creation process. Do not edit these notes directly in the file as they will be overwritten\",\n",
    "                         \"\", \"\"\n",
    "                         , \" Purpose :     to manage attribute entries in the data collection process, this workbook documents and organizes all entries and also allows a user to swap those that do \\\n",
    "                        not conform to validation rules  with an entry of their choice\",\n",
    "                         \" Each attribute field that requires validation has its own sheet tab\", \"\"\n",
    "                         , \"Column A:    of each sheet tab contains all unique acceptable responses\",\n",
    "                         \"Column B:    an upper case version, to wrangle case mismatches\",\n",
    "                         \"Column D:   is generated by the process, this is a list of an uppercase version of each unique unacceptable response, this builds over time with each collection\",\n",
    "                         \"Column E:   you can enter accpetable response here (sase sensitive) to be swapped out in the data, save and exit this file, run the process again and they will be replaced\"\n",
    "                         , \"\", \"\", \"Gavin Harmon 9 - July -2020\"])\n",
    "notes.columns = ['Notes']\n",
    "notes.to_excel(w, index=False, sheet_name=\"Notes\")\n",
    "notes\n",
    "for v in enumerate(validcols):\n",
    "    df = pd.DataFrame(gacout[v[0]][0], index=[f\"{v[1]}\", 'Upper_Vers', '', 'Non Matches', 'User Defined Corrections']).T\n",
    "    df.to_excel(w, index=False, sheet_name=gacout[v[0]][1])\n",
    "w.save()\n",
    "for s in validcols:\n",
    "    t = pd.read_excel(\n",
    "        f'//hecate/Insurance_US/Product Development/Product Management/Global PPM/Reporting/Data Collection/Production/{str(percode)}\\\\{str(percode)}_Attribute_Catalog.xlsx',\n",
    "        sheet_name=s)\n",
    "    checktabs.append([[s], [t]])\n",
    "\"\"\"replace the values with the corrections\"\"\"\n",
    "for u in enumerate(validcols):\n",
    "    trandata.loc[0:len(trandata[u[1]]), u[1]] = trandata[u[1]].replace(\n",
    "        [checktabs[u[0]][1][0]['Non Matches']][0].to_numpy(),\n",
    "        [checktabs[u[0]][1][0]['User Defined Corrections']][0].to_numpy())\n",
    "repper = trandata[['business_unit', 'reporting_date_to']]\n",
    "repper = pd.DataFrame({\"business_unit\": (repper['business_unit']), \"YearMo\": (repper['reporting_date_to'])})\n",
    "minrep = repper.groupby(['business_unit']).max()\n",
    "a = trandata['business_unit'].replace(list(minrep.axes[0]), minrep.get(\"YearMo\"))\n",
    "trandata['rep_date'] = a\n",
    "trandata.loc[0:len(trandata['business_partner_id_number']), 'business_partner_id_number'] = trandata[\n",
    "    'business_partner_id_number'].replace('0', 'Not Provided').fillna('Not Provided')\n",
    "trandata.loc[0:len(trandata['product_id_number']), 'product_id_number'] = trandata['product_id_number'].replace('0',\n",
    "                                                                                                                'Not Provided').replace(\n",
    "    '-', 'Not Provided').fillna('Not Provided')\n",
    "trandata.loc[0:len(trandata['sub_lob']), 'sub_lob'] = trandata['sub_lob'].replace('0', 'Not Provided').replace('-',\n",
    "                                                                                                               'Not Provided').replace(\n",
    "    'Other', 'Not Provided').fillna('Not Provided')\n",
    "\"\"\" last step removes empty rows, if there is no claims experience and no revenue for a 12 month period, it should not be included \"\"\"\n",
    "trandata = trandata.loc[(trandata['units_of_risk_(written)'].fillna(0).replace('', 0)\n",
    "                         + trandata['written_revenues_net_of_taxes'].fillna(0).replace('', 0)\n",
    "                         + trandata['written_revenues'].fillna(0).replace('', 0)\n",
    "                         + trandata['number_of_policies_(earned)'].fillna(0).replace('', 0)\n",
    "                         + trandata['units_of_risk_(earned)'].fillna(0).replace('', 0)\n",
    "                         + trandata['earned_revenues_net_of_taxes'].fillna(0).replace('', 0)\n",
    "                         + trandata['earned_revenues'].fillna(0).replace('', 0)\n",
    "                         + trandata['earned_base_commissions'].fillna(0).replace('', 0)\n",
    "                         + trandata['upfront_cash_payments'].fillna(0).replace('', 0)\n",
    "                         + trandata['earned_over-commissions'].fillna(0).replace('', 0)\n",
    "                         + trandata['total_compensation'].fillna(0).replace('', 0)\n",
    "                         + trandata['number_of_claims_(paid_+_ocr_+_ibnr)'].fillna(0).replace('', 0)\n",
    "                         + trandata['number_of_open_claims'].fillna(0).replace('', 0)\n",
    "                         + trandata['open_claims_%'].fillna(0).replace('', 0)\n",
    "                         + trandata['number_of_persons_involved_in_claims_(paid_+_ocr_+_ibnr)'].fillna(0).replace('', 0)\n",
    "                         + trandata['paid_claims'].fillna(0).replace('', 0)\n",
    "                         + trandata['ocr_+_ibnr'].fillna(0).replace('', 0)\n",
    "                         + trandata['actual_incurred_losses_(paid_+_ocr_+_ibnr)'].fillna(0).replace('', 0)\n",
    "                         + trandata['internal_variable_costs_(excl._az_tech_fee)'].fillna(0).replace('', 0)\n",
    "                         + trandata['az_tech_fee'].fillna(0).replace('', 0)\n",
    "                         + trandata['internal_fixed_costs_(excl._hq_fees)'].fillna(0).replace('', 0)\n",
    "                         + trandata['hq_fees'].fillna(0).replace('', 0)\n",
    "                         + trandata['total_expenses'].fillna(0).replace('', 0)\n",
    "                         + trandata['frequency_(earned)'].fillna(0).replace('', 0)\n",
    "                         + trandata['severity'].fillna(0).replace('', 0))\n",
    "                        != 0]\n",
    "\"\"\"make temp file\"\"\"\n",
    "trandata.to_parquet(\n",
    "    f'//hecate/Insurance_US/Product Development/Product Management/Global PPM/Reporting/Data Collection/Production/{str(percode)}\\\\{str(percode)}.localcur.parquet')\n",
    "\n",
    "\n",
    "\n",
    "\n"
   ]
  }
 ],
 "metadata": {
  "kernelspec": {
   "display_name": "Python 3",
   "language": "python",
   "name": "python3"
  },
  "language_info": {
   "codemirror_mode": {
    "name": "ipython",
    "version": 3
   },
   "file_extension": ".py",
   "mimetype": "text/x-python",
   "name": "python",
   "nbconvert_exporter": "python",
   "pygments_lexer": "ipython3",
   "version": "3.7.6"
  }
 },
 "nbformat": 4,
 "nbformat_minor": 1
}
