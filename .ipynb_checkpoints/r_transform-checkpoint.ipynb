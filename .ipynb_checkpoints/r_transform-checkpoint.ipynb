{
 "cells": [
  {
   "cell_type": "code",
   "execution_count": 2,
   "metadata": {
    "pycharm": {
     "name": "#%%\n"
    }
   },
   "outputs": [
    {
     "name": "stdout",
     "output_type": "stream",
     "text": [
      "[1] \"//hecate/Insurance_US/Product Development/Product Management/Global PPM/Reporting/Data Collection/Production/2020.Q4\"\n"
     ]
    }
   ],
   "source": [
    "#https://www.jetbrains.com/help/pycharm/r-plugin-support.html\n",
    "#https://www.jetbrains.com/help/pycharm/managing-plugins.html\n",
    "\n",
    "data_dir <- '//hecate/Insurance_US/Product Development/Product Management/Global PPM/Reporting/Data Collection/Production/2020.Q4'\n",
    "print(data_dir) \n",
    "\n",
    "#\n",
    "# \"add  r scripting\"\n",
    "#\n",
    "# read_parquet( file,\n",
    "#   col_select = NULL,\n",
    "#   as_data_frame = TRUE,\n",
    "#   props = ParquetArrowReaderProperties$create(),\n",
    "#   ...\n",
    "# )"
   ]
  },
  {
   "cell_type": "code",
   "execution_count": null,
   "metadata": {},
   "outputs": [],
   "source": []
  },
  {
   "cell_type": "code",
   "execution_count": null,
   "metadata": {},
   "outputs": [],
   "source": []
  }
 ],
 "metadata": {
  "kernelspec": {
   "display_name": "R",
   "language": "R",
   "name": "ir"
  },
  "language_info": {
   "codemirror_mode": "r",
   "file_extension": ".r",
   "mimetype": "text/x-r-source",
   "name": "R",
   "pygments_lexer": "r",
   "version": "3.6.1"
  }
 },
 "nbformat": 4,
 "nbformat_minor": 1
}
