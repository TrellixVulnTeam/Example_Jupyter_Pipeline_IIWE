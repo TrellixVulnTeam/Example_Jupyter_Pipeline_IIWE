{
 "cells": [
  {
   "cell_type": "markdown",
   "metadata": {
    "pycharm": {
     "name": "#%%\n"
    }
   },
   "source": [
    "<img src=\"AzPTravel_PPM.png\">"
   ]
  },
  {
   "cell_type": "markdown",
   "metadata": {},
   "source": [
    "## GPM Pipeline Output maker\n",
    "\n",
    "#### This script\n",
    "- loads the transformed parquet file\n",
    "- creates the file {parquet}.localcur.csv\n",
    "- makes the Euro conversions\n",
    "- outputs {parquet}.euroconv.csv\n"
   ]
  },
  {
   "cell_type": "markdown",
   "metadata": {},
   "source": [
    "#### Parameters section"
   ]
  },
  {
   "cell_type": "code",
   "execution_count": 1,
   "metadata": {
    "pycharm": {
     "name": "#%%\n"
    },
    "tags": [
     "parameters"
    ]
   },
   "outputs": [],
   "source": [
    "commit = \"\"\n",
    "# give a reason for the run\n",
    "\n",
    "percode = \"20XX.QX\"\n",
    "# Data Collection Code, this controls file paths and output names\n",
    "\n",
    "run_type = 1\n",
    "#run_type =  0 - lite run with no reporting, not recommended.\n",
    "#run_type =  1 - lite run with normal reporting, default setting.\n",
    "#run_type =  2 - Heavy run with full reporting, available for audits and troubleshooting.\n",
    "\n",
    "specialchars = \"-GTHtest\"\n",
    "# optional - add up to a 12 character code in order to mark your instance record .ipynb\n",
    "\n",
    "from datetime import datetime\n",
    "inst_datetime = datetime.now().strftime(\"%m%d%Y%H%M%S\")\n",
    "# a single datetime stamp for the full instance run\n"
   ]
  },
  {
   "cell_type": "markdown",
   "metadata": {},
   "source": [
    "### Set Run Control\n",
    "\n",
    "##### 0 - lite run with no reporting, not recommended.\n",
    "##### 1 - lite run with normal reporting, default setting.\n",
    "##### 2 - Heavy run with full reporting, available for audits and troubleshooting."
   ]
  },
  {
   "cell_type": "code",
   "execution_count": 2,
   "metadata": {
    "pycharm": {
     "name": "#%%\n"
    }
   },
   "outputs": [],
   "source": [
    "run_control = 0 # in development mode"
   ]
  },
  {
   "cell_type": "markdown",
   "metadata": {},
   "source": [
    "#### Packages used"
   ]
  },
  {
   "cell_type": "code",
   "execution_count": 3,
   "metadata": {
    "pycharm": {
     "name": "#%%\n"
    }
   },
   "outputs": [],
   "source": [
    "import sys\n",
    "import os\n",
    "import pandas as pd"
   ]
  },
  {
   "cell_type": "code",
   "execution_count": 4,
   "metadata": {
    "pycharm": {
     "name": "#%%\n"
    }
   },
   "outputs": [],
   "source": [
    "default_DC = \"2021.Q1\"\n",
    "\n",
    "try:\n",
    "    if sys.argv[1] == \"-f\":\n",
    "        percode = default_DC\n",
    "    else:\n",
    "        percode = sys.argv[1]\n",
    "\n",
    "except IndexError:\n",
    "    percode = default_DC\n",
    "except NameError:\n",
    "    percode = default_DC"
   ]
  },
  {
   "cell_type": "markdown",
   "metadata": {},
   "source": [
    "#### Convert paths and files to variables.\n",
    "#### Read data into pd DataFrames.\n",
    "#### Make paths for the live sources."
   ]
  },
  {
   "cell_type": "code",
   "execution_count": 5,
   "metadata": {
    "pycharm": {
     "name": "#%%\n"
    }
   },
   "outputs": [],
   "source": [
    "rt_path = f'//hecate/Insurance_US/Product Development/Product Manag' \\\n",
    "          f'ement/Global PPM/Reporting/Data Collection/Production/{str(percode)}'\n",
    "tempfile = os.path.join(rt_path, f'{str(percode)}.localcur.parquet')\n",
    "gppm_file = os.path.join(rt_path, f'GPPM_Input_{str(percode)}.xlsx')"
   ]
  },
  {
   "cell_type": "markdown",
   "metadata": {},
   "source": [
    "#### Read source"
   ]
  },
  {
   "cell_type": "code",
   "execution_count": 6,
   "metadata": {
    "pycharm": {
     "name": "#%%\n"
    }
   },
   "outputs": [
    {
     "name": "stdout",
     "output_type": "stream",
     "text": [
      "      business_unit country currency                           region  \\\n",
      "0                AT      AT      EUR  North, Central & Eastern Europe   \n",
      "1                AT      AT      EUR  North, Central & Eastern Europe   \n",
      "2                AT      AT      EUR  North, Central & Eastern Europe   \n",
      "3                AT      AT      EUR  North, Central & Eastern Europe   \n",
      "4                AT      AT      EUR  North, Central & Eastern Europe   \n",
      "...             ...     ...      ...                              ...   \n",
      "15897            US      US      USD                    North America   \n",
      "15898            US      US      USD                    North America   \n",
      "15899            US      US      USD                    North America   \n",
      "15900            US      US      USD                    North America   \n",
      "15901            US      US      USD                    North America   \n",
      "\n",
      "      reporting_date_from reporting_date_to date_of_analysis  \\\n",
      "0              2020-01-01        2020-12-31       2021-02-17   \n",
      "1              2020-01-01        2020-12-31       2021-02-17   \n",
      "2              2020-01-01        2020-12-31       2021-02-17   \n",
      "3              2020-01-01        2020-12-31       2021-02-17   \n",
      "4              2020-01-01        2020-12-31       2021-02-17   \n",
      "...                   ...               ...              ...   \n",
      "15897          2020-01-01        2020-12-31       2021-01-31   \n",
      "15898          2020-01-01        2020-12-31       2021-01-31   \n",
      "15899          2020-01-01        2020-12-31       2021-01-31   \n",
      "15900          2020-01-01        2020-12-31       2021-01-31   \n",
      "15901          2020-01-01        2020-12-31       2021-01-31   \n",
      "\n",
      "              type_of_analysis  analysed_months  reporting_year  ...  \\\n",
      "0      Most Recently 12 Months             12.0          2020.0  ...   \n",
      "1      Most Recently 12 Months             12.0          2020.0  ...   \n",
      "2      Most Recently 12 Months             12.0          2020.0  ...   \n",
      "3      Most Recently 12 Months             12.0          2020.0  ...   \n",
      "4      Most Recently 12 Months             12.0          2020.0  ...   \n",
      "...                        ...              ...             ...  ...   \n",
      "15897  Most Recently 12 Months             12.0          2020.0  ...   \n",
      "15898  Most Recently 12 Months             12.0          2020.0  ...   \n",
      "15899  Most Recently 12 Months             12.0          2020.0  ...   \n",
      "15900  Most Recently 12 Months             12.0          2020.0  ...   \n",
      "15901  Most Recently 12 Months             12.0          2020.0  ...   \n",
      "\n",
      "       date_of_analysis_int  \\\n",
      "0                       0.0   \n",
      "1                       0.0   \n",
      "2                       0.0   \n",
      "3                       0.0   \n",
      "4                       0.0   \n",
      "...                     ...   \n",
      "15897            20210131.0   \n",
      "15898            20210131.0   \n",
      "15899            20210131.0   \n",
      "15900            20210131.0   \n",
      "15901            20210131.0   \n",
      "\n",
      "                          selected_fields_for_duplicates  \\\n",
      "0                                                      0   \n",
      "1                                                      0   \n",
      "2                                                      0   \n",
      "3                                                      0   \n",
      "4                                                      0   \n",
      "...                                                  ...   \n",
      "15897  USInsuranceLocalB2B2CTravelOffline Travel Agen...   \n",
      "15898  USInsuranceLocalB2B2CTravelOffline Travel Agen...   \n",
      "15899  USInsuranceLocalB2B2CTravelOffline Travel Agen...   \n",
      "15900  USInsuranceLocalB2B2CTravelOffline Travel Agen...   \n",
      "15901  USInsuranceLocalB2B2CTravelOffline Travel Agen...   \n",
      "\n",
      "      identifier_to_pull_in_results_from_data_tab unnamed:_66 unnamed:_67  \\\n",
      "0                                               0         0.0         0.0   \n",
      "1                                               0         0.0         0.0   \n",
      "2                                               0         0.0         0.0   \n",
      "3                                               0         0.0         0.0   \n",
      "4                                               0         0.0         0.0   \n",
      "...                                           ...         ...         ...   \n",
      "15897                           308382155x1004320         0.0         0.0   \n",
      "15898                           308382155x1004322         0.0         0.0   \n",
      "15899                           308382155x1004914         0.0         0.0   \n",
      "15900                           310377104x1004320         0.0         0.0   \n",
      "15901                           310377104x1004526         0.0         0.0   \n",
      "\n",
      "         rep_date __index_level_0__       bu_descr month_of_analysis_max  \\\n",
      "0      2020-12-31                 0        Austria              2021 Feb   \n",
      "1      2020-12-31                 1        Austria              2021 Feb   \n",
      "2      2020-12-31                 2        Austria              2021 Feb   \n",
      "3      2020-12-31                 3        Austria              2021 Feb   \n",
      "4      2020-12-31                 4        Austria              2021 Feb   \n",
      "...           ...               ...            ...                   ...   \n",
      "15897  2020-12-31             16008  United States              2021 Jan   \n",
      "15898  2020-12-31             16009  United States              2021 Jan   \n",
      "15899  2020-12-31             16010  United States              2021 Jan   \n",
      "15900  2020-12-31             16011  United States              2021 Jan   \n",
      "15901  2020-12-31             16012  United States              2021 Jan   \n",
      "\n",
      "           reporting_period  \n",
      "0      2020 Jan to 2020 Dec  \n",
      "1      2020 Jan to 2020 Dec  \n",
      "2      2020 Jan to 2020 Dec  \n",
      "3      2020 Jan to 2020 Dec  \n",
      "4      2020 Jan to 2020 Dec  \n",
      "...                     ...  \n",
      "15897  2020 Jan to 2020 Dec  \n",
      "15898  2020 Jan to 2020 Dec  \n",
      "15899  2020 Jan to 2020 Dec  \n",
      "15900  2020 Jan to 2020 Dec  \n",
      "15901  2020 Jan to 2020 Dec  \n",
      "\n",
      "[15902 rows x 82 columns]\n"
     ]
    }
   ],
   "source": [
    "mo_input = pd.read_parquet(tempfile, engine='pyarrow')\n",
    "\n",
    "print(mo_input)"
   ]
  },
  {
   "cell_type": "markdown",
   "metadata": {},
   "source": [
    "#### Output local currency csv"
   ]
  },
  {
   "cell_type": "code",
   "execution_count": 7,
   "metadata": {
    "pycharm": {
     "name": "#%%\n"
    }
   },
   "outputs": [],
   "source": [
    "mo_input.to_csv(f'//hecate/Insurance_US/Product Development/Product Management/Global PPM/Reporting/Data Collection/Production/{str(percode)}\\\\{str(percode)}.localcur.csv', ',', index=False, encoding='utf-8-sig')"
   ]
  },
  {
   "cell_type": "markdown",
   "metadata": {},
   "source": [
    "#### Convert all currency to Euro\n"
   ]
  },
  {
   "cell_type": "code",
   "execution_count": 8,
   "metadata": {
    "pycharm": {
     "name": "#%%\n"
    }
   },
   "outputs": [],
   "source": [
    "\n",
    "cflds = ['written_revenues_net_of_taxes', 'written_revenues', 'earned_revenues_net_of_taxes',\n",
    "         'earned_revenues', 'earned_base_commissions', 'earned_over_commissions', 'upfront_cash_payments',\n",
    "         'total_compensation', 'paid_claims', 'ocr__ibnr', 'actual_incurred_losses',\n",
    "         'internal_variable_costs', 'az_tech_fee', 'internal_fixed_costs',\n",
    "         'hq_fees', 'total_expenses', 'risk_premium', 'profit_or_loss', 'cm_hq_view',\n",
    "         'cm_bu_view', ]\n",
    "\n",
    "\n",
    "\"\"\"reads in the input for the Euro conversion\"\"\"\n",
    "euro = pd.read_excel(gppm_file, sheet_name=\"Euro_Rates\")\n"
   ]
  },
  {
   "cell_type": "markdown",
   "metadata": {},
   "source": [
    "#### Make a copy for debug purposes"
   ]
  },
  {
   "cell_type": "code",
   "execution_count": 9,
   "metadata": {
    "pycharm": {
     "name": "#%%\n"
    }
   },
   "outputs": [],
   "source": [
    "trandata = mo_input.copy()"
   ]
  },
  {
   "cell_type": "markdown",
   "metadata": {},
   "source": [
    "#### Convert Currency Below"
   ]
  },
  {
   "cell_type": "code",
   "execution_count": 10,
   "metadata": {
    "pycharm": {
     "name": "#%%\n"
    }
   },
   "outputs": [],
   "source": [
    "# create DataFrame of unique currencies with rates\n",
    "\n",
    "fx_uni = euro[['CURR_CODE','RATE']]\n",
    "fx_uni = fx_uni.drop_duplicates()"
   ]
  },
  {
   "cell_type": "code",
   "execution_count": 11,
   "metadata": {
    "pycharm": {
     "name": "#%%\n"
    }
   },
   "outputs": [],
   "source": [
    "# add euro conversion rates to trandata DataFrame as column 'eur_rate'\n",
    "\n",
    "eurdata = pd.merge(trandata['currency'], fx_uni, left_on='currency', right_on='CURR_CODE', how='left')\n",
    "\n",
    "trandata['eur_rate'] = eurdata['RATE']"
   ]
  },
  {
   "cell_type": "markdown",
   "metadata": {},
   "source": [
    "#### Convert currency fields"
   ]
  },
  {
   "cell_type": "code",
   "execution_count": 12,
   "metadata": {
    "pycharm": {
     "name": "#%%\n"
    }
   },
   "outputs": [],
   "source": [
    "trandata[cflds] = trandata[cflds].divide(trandata['eur_rate'], axis=\"index\").fillna(0)\n"
   ]
  },
  {
   "cell_type": "markdown",
   "metadata": {},
   "source": [
    "#### Output to {percode}.euroconv.csv"
   ]
  },
  {
   "cell_type": "code",
   "execution_count": 13,
   "metadata": {
    "pycharm": {
     "name": "#%%\n"
    }
   },
   "outputs": [],
   "source": [
    "trandata.to_csv(f'//hecate/Insurance_US/Product Development/Product Management/Global PPM/Reporting/Data Collection/Production/{str(percode)}\\\\{str(percode)}.euroconv.csv', ',', index=False, encoding='utf-8-sig')\n",
    "\n",
    "\n"
   ]
  }
 ],
 "metadata": {
  "celltoolbar": "Tags",
  "kernelspec": {
   "display_name": "Python 3",
   "language": "python",
   "name": "python3"
  },
  "language_info": {
   "codemirror_mode": {
    "name": "ipython",
    "version": 3
   },
   "file_extension": ".py",
   "mimetype": "text/x-python",
   "name": "python",
   "nbconvert_exporter": "python",
   "pygments_lexer": "ipython3",
   "version": "3.7.6"
  }
 },
 "nbformat": 4,
 "nbformat_minor": 1
}
