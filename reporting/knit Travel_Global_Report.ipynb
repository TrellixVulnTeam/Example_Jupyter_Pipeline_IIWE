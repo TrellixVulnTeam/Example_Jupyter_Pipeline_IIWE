{
 "cells": [
  {
   "cell_type": "markdown",
   "id": "08909df7",
   "metadata": {},
   "source": [
    "<img src=\"../images/AzPTravel_PPM.png\">"
   ]
  },
  {
   "cell_type": "markdown",
   "id": "a513a37e",
   "metadata": {},
   "source": [
    "## Knit Travel Global Report\n",
    "\n",
    "#### This script exectutes the RMD that knits the Travel Global Report\n",
    "\n",
    "#### This can be run on its own or as part of the pipeline wherever called (ie from a papermill script or other user interface)."
   ]
  },
  {
   "cell_type": "code",
   "execution_count": 21,
   "id": "e6a15aee",
   "metadata": {
    "tags": [
     "parameters"
    ]
   },
   "outputs": [],
   "source": [
    "\n",
    "commit_message <- \"Development and testing.\"\n",
    "# Give a brief reason for the run.\n",
    "\n",
    "run_control <- 1\n",
    "#run_type = 0 - Lite run with no reporting, not recommended.\n",
    "#run_type = 1 - Lite run with normal reporting, default setting.\n",
    "#run_type = 2 - Heavy run with full reporting, available for audits and troubleshooting.\n",
    "#run_type = 5 - A default setting. Indicates the script is being run by an outside process without an inherited value\n",
    "\n",
    "percode <- \"2021.Q1\"\n",
    "# Data Collection Code, this controls file paths and output names\n",
    "# \"-f\" is the value indicating a bad inheritance from run with arg\n",
    "\n",
    "s_format <- \"p\"\n",
    "# denotes the source data format x == Excel; j == json, p == parquet\n",
    "\n",
    "#----------\n",
    "# do not edit - this either inherits the full instance timestamp from the papermill book or captures the run time of this script.\n",
    "\n",
    "inst_datetime <- format(Sys.time(), \"%S\")\n",
    "\n"
   ]
  },
  {
   "cell_type": "markdown",
   "id": "f9c212bc",
   "metadata": {},
   "source": [
    "#### Default Variables, these govern logic, do not edit."
   ]
  },
  {
   "cell_type": "code",
   "execution_count": 22,
   "id": "9ee536be",
   "metadata": {},
   "outputs": [],
   "source": [
    "default_dc <- \"20XX.QX\"\n",
    "default_rc <- 0 #extra lite mode\n",
    "dummy_perc <- \"33Q3\" # bad inheritance"
   ]
  },
  {
   "cell_type": "markdown",
   "id": "eac7d336",
   "metadata": {},
   "source": [
    "#### style settings"
   ]
  },
  {
   "cell_type": "code",
   "execution_count": 23,
   "id": "52b6d65b",
   "metadata": {},
   "outputs": [],
   "source": [
    "if (run_control == 5)\n",
    "    { run_control <- default_rc }\n",
    "\n",
    "if (run_control != 5) \n",
    "    { run_control <- run_control}\n",
    "\n",
    "# try:\n",
    "#     if sys.argv[1] == \"-f\":\n",
    "#         percode = percode\n",
    "#     else:\n",
    "#         percode = sys.argv[1]\n",
    "\n",
    "# except IndexError:\n",
    "#     percode = default_dc\n",
    "# except NameError:\n",
    "#     percode = default_dc\n"
   ]
  },
  {
   "cell_type": "markdown",
   "id": "bace121d",
   "metadata": {},
   "source": [
    "\n",
    "## Begin Input Read\n",
    "#### Make paths used in script\n",
    "### all paths should be modular and easily replaced ahead of operations"
   ]
  },
  {
   "cell_type": "code",
   "execution_count": 24,
   "id": "4ebb88fd",
   "metadata": {},
   "outputs": [
    {
     "data": {
      "text/html": [
       "'H:/Reporting/Data Collection/2021.Q1/Global Travel LOB Report/Travel_Global_Report_bad.html'"
      ],
      "text/latex": [
       "'H:/Reporting/Data Collection/2021.Q1/Global Travel LOB Report/Travel\\_Global\\_Report\\_bad.html'"
      ],
      "text/markdown": [
       "'H:/Reporting/Data Collection/2021.Q1/Global Travel LOB Report/Travel_Global_Report_bad.html'"
      ],
      "text/plain": [
       "[1] \"H:/Reporting/Data Collection/2021.Q1/Global Travel LOB Report/Travel_Global_Report_bad.html\""
      ]
     },
     "metadata": {},
     "output_type": "display_data"
    }
   ],
   "source": [
    "#root directory\n",
    "rt_networkpath <- '//hecate/Insurance_US/Product Development/Product Management/Global PPM/Reporting/Data Collection'\n",
    "\n",
    "# special for render\n",
    "rt_mappedpath <- 'H:/Reporting/Data Collection'\n",
    "\n",
    "\n",
    "#out_mappedpath <- paste(rt_mappedpath, percode,   'Global Travel LOB Report' , sep= '/')\n",
    "rmd_file <- 'Pipeline Reporting Scripts/Global Travel LOB Report/Travel_Global_Report_bad.Rmd'\n",
    "\n",
    "foot_file <- 'Pipeline Reporting Scripts/Global Travel LOB Report/footer.html'\n",
    "\n",
    "rmd_path <- paste(rt_networkpath, foot_file, sep =\"/\")\n",
    "#outfile <- paste('Travel_Global_Report_',gsub(\"\\\\.\",\"_\",percode),'.html', sep = '')\n",
    "\n",
    "foot_path <- paste(rt_networkpath, foot_file, sep =\"/\")\n",
    "\n",
    "rmdnetworkpath <- paste(rt_networkpath,rmd_file, sep =\"/\")\n",
    "\n",
    "html_path <- paste( rt_mappedpath , percode,   'Global Travel LOB Report', sep= '/')\n",
    "\n",
    "html_name <- 'Travel_Global_Report_bad.html'\n",
    "\n",
    "html_full_name <- paste(html_path, html_name, sep = \"/\")\n",
    "\n",
    "html_full_name \n"
   ]
  },
  {
   "cell_type": "code",
   "execution_count": 25,
   "id": "6cbff320",
   "metadata": {},
   "outputs": [],
   "source": [
    "# Footer inputs"
   ]
  },
  {
   "cell_type": "code",
   "execution_count": 26,
   "id": "734667ec",
   "metadata": {},
   "outputs": [
    {
     "name": "stdout",
     "output_type": "stream",
     "text": [
      "[1] \"//hecate/Insurance_US/Product Development/Product Management/Global PPM/Reporting/Data Collection/Pipeline Reporting Scripts/Global Travel LOB Report/footer.html\"\n"
     ]
    }
   ],
   "source": [
    "print(foot_path)"
   ]
  },
  {
   "cell_type": "code",
   "execution_count": 27,
   "id": "e093d884",
   "metadata": {},
   "outputs": [],
   "source": [
    "if (substr(percode, 3, 6) == \"Q1\")\n",
    "    \n",
    "    substr(percode, 3, 6)\n",
    "    \n",
    "    \n",
    "    {startdate <- \"Jan\"\n",
    "    enddate <- \"Mar\"}\n",
    "\n",
    "if (substr(percode, 3, 6) == \"Q2\")\n",
    "    \n",
    "    {startdate <- \"Apr\"\n",
    "    enddate <- \"June\"}\n",
    "\n",
    "if (substr(percode, 3, 6) == \"Q3\")\n",
    "    \n",
    "    {startdate <- \"July\"\n",
    "    enddate <- \"Sept\"}\n",
    "\n",
    "if (substr(percode, 3, 6) == \"Q4\")\n",
    "    \n",
    "    {startdate <- \"Oct\"\n",
    "    enddate <- \"Dec\"}\n",
    "\n",
    "year <- substr(percode, 1, 4)\n"
   ]
  },
  {
   "cell_type": "code",
   "execution_count": 28,
   "id": "13b4f0a1",
   "metadata": {},
   "outputs": [],
   "source": [
    "# Make Footer"
   ]
  },
  {
   "cell_type": "code",
   "execution_count": 29,
   "id": "0a81251e",
   "metadata": {},
   "outputs": [],
   "source": [
    "code <-  paste('<!-- Footer -->\n",
    "<!-- See https://mdbootstrap.com/docs/jquery/navigation/footer/ for documentation -->\n",
    "<footer class=\"page-footer font-small elegant-color fixed-bottom\">\n",
    "\n",
    "  <!-- Footer Text -->\n",
    "  <div class=\"container-fluid text-left text-md-left\">\n",
    "\n",
    "    <!-- Grid row -->\n",
    "    <div class=\"row\">\n",
    "\n",
    "         <!-- Content -->\n",
    "        <p>Data includes experience from ',startdate,' ',' to ',enddate,' ', year,'. See  <a href=\"#notes\"> Notes</a> for detail.</p>\n",
    "\n",
    "      </div>\n",
    "\n",
    "    </div>\n",
    "    <!-- Grid row -->\n",
    "\n",
    "  </div>\n",
    "  <!-- Footer Text -->\n",
    "\n",
    "  <!-- Copyright -->\n",
    "  <div class=\"footer-copyright text-left py-3\"> \n",
    "    <p> For inquires, contact <a href=\"mailto: Mark, Dana (Allianz Partners USA) <Dana.Mark@allianz.com>;       Chen, Angela (Allianz Partners China) <angela.chenxx@allianz.com>; Guerreschi, Federico (Allianz Partners)\n",
    "    <Federico.Guerreschi@allianz.com>; Harmon, Gavin (Allianz Partners USA) <Gavin.Harmon@allianz.com>?subject     =Reporting Suite Question\">Global Portfolio Monitoring</a> <i class=\"fas fa-envelope mr-3\"></i> .</p>\n",
    "  </div>\n",
    "  <!-- Copyright -->\n",
    "\n",
    "</footer>\n",
    "<!-- Footer -->')\n",
    "    \n",
    "    \n",
    "    \n",
    "\n",
    "\n",
    "write.table(code, \n",
    "            file=foot_path, \n",
    "            quote = FALSE,\n",
    "            col.names = FALSE,\n",
    "            row.names = FALSE)\n"
   ]
  },
  {
   "cell_type": "markdown",
   "id": "8af2c4a9",
   "metadata": {},
   "source": [
    "\n",
    "\n",
    "#### Execute Finance Comparison PnL.Rmd\n"
   ]
  },
  {
   "cell_type": "code",
   "execution_count": 30,
   "id": "e183322f",
   "metadata": {},
   "outputs": [
    {
     "name": "stdout",
     "output_type": "stream",
     "text": [
      "[1] \"Knitting Travel Global Report\"\n"
     ]
    },
    {
     "name": "stderr",
     "output_type": "stream",
     "text": [
      "\n",
      "\n",
      "processing file: Travel_Global_Report_bad.Rmd\n"
     ]
    },
    {
     "name": "stdout",
     "output_type": "stream",
     "text": [
      "  |.                                                                     |   1%\n",
      "  ordinary text without R code\n",
      "\n",
      "  |.                                                                     |   2%\n",
      "label: setup (with options) \n",
      "List of 1\n",
      " $ include: logi FALSE\n",
      "\n"
     ]
    },
    {
     "name": "stderr",
     "output_type": "stream",
     "text": [
      "Warning message:\n",
      "\"package 'flexdashboard' was built under R version 3.6.3\"Warning message:\n",
      "\"package 'openxlsx' was built under R version 3.6.3\"Warning message:\n",
      "\"package 'data.table' was built under R version 3.6.3\"Warning message:\n",
      "\"package 'dplyr' was built under R version 3.6.3\"\n",
      "Attaching package: 'dplyr'\n",
      "\n",
      "The following objects are masked from 'package:data.table':\n",
      "\n",
      "    between, first, last\n",
      "\n",
      "The following objects are masked from 'package:stats':\n",
      "\n",
      "    filter, lag\n",
      "\n",
      "The following objects are masked from 'package:base':\n",
      "\n",
      "    intersect, setdiff, setequal, union\n",
      "\n",
      "Warning message:\n",
      "\"package 'magrittr' was built under R version 3.6.3\"Warning message:\n",
      "\"package 'knitr' was built under R version 3.6.3\"Warning message:\n",
      "\"package 'kableExtra' was built under R version 3.6.3\"\n",
      "Attaching package: 'kableExtra'\n",
      "\n",
      "The following object is masked from 'package:dplyr':\n",
      "\n",
      "    group_rows\n",
      "\n",
      "Warning message:\n",
      "\"package 'ggplot2' was built under R version 3.6.3\"Warning message:\n",
      "\"package 'patchwork' was built under R version 3.6.3\"Warning message:\n",
      "\"package 'DT' was built under R version 3.6.3\"Warning message:\n",
      "\"package 'scales' was built under R version 3.6.3\"Warning message:\n",
      "\"package 'stringr' was built under R version 3.6.3\"Warning message:\n",
      "\"package 'reticulate' was built under R version 3.6.3\""
     ]
    },
    {
     "name": "stdout",
     "output_type": "stream",
     "text": [
      "  |..                                                                    |   3%\n",
      "  ordinary text without R code\n",
      "\n",
      "  |...                                                                   |   4%\n",
      "label: py variable\n",
      "  |...                                                                   |   5%\n",
      "  ordinary text without R code\n",
      "\n",
      "  |....                                                                  |   6%\n",
      "label: pandas data read (with options) \n",
      "List of 1\n",
      " $ engine: chr \"python\"\n",
      "\n"
     ]
    },
    {
     "name": "stderr",
     "output_type": "stream",
     "text": [
      "Warning message:\n",
      "\"The internal function knitr:::wrap() has been deprecated. Please use the exported function knitr::sew() instead.\""
     ]
    },
    {
     "name": "stdout",
     "output_type": "stream",
     "text": [
      "  |.....                                                                 |   7%\n",
      "  ordinary text without R code\n",
      "\n",
      "  |.....                                                                 |   8%\n",
      "label: read in xlsx sources\n",
      "  |......                                                                |   8%\n",
      "  ordinary text without R code\n",
      "\n",
      "  |.......                                                               |   9%\n",
      "label: convert py object to r DT\n",
      "  |.......                                                               |  10%\n",
      "  ordinary text without R code\n",
      "\n",
      "  |........                                                              |  11%\n",
      "label: function replace NAs\n",
      "  |.........                                                             |  12%\n",
      "  ordinary text without R code\n",
      "\n",
      "  |.........                                                             |  13%\n",
      "label: function change headers\n",
      "  |..........                                                            |  14%\n",
      "  ordinary text without R code\n",
      "\n",
      "  |...........                                                           |  15%\n",
      "label: function create summary tables\n",
      "  |...........                                                           |  16%\n",
      "  ordinary text without R code\n",
      "\n",
      "  |............                                                          |  17%\n",
      "label: function data cleaning\n",
      "  |.............                                                         |  18%\n",
      "  ordinary text without R code\n",
      "\n",
      "  |.............                                                         |  19%\n",
      "label: function convertTable\n",
      "  |..............                                                        |  20%\n",
      "  ordinary text without R code\n",
      "\n",
      "  |...............                                                       |  21%\n",
      "label: function createDT\n",
      "  |...............                                                       |  22%\n",
      "  ordinary text without R code\n",
      "\n",
      "  |................                                                      |  23%\n",
      "label: function region subset\n",
      "  |.................                                                     |  24%\n",
      "  ordinary text without R code\n",
      "\n",
      "  |.................                                                     |  25%\n",
      "label: data_manipulation\n",
      "  |..................                                                    |  25%\n",
      "  ordinary text without R code\n",
      "\n",
      "  |..................                                                    |  26%\n",
      "label: aggdatasets\n",
      "  |...................                                                   |  27%\n",
      "  ordinary text without R code\n",
      "\n",
      "  |....................                                                  |  28%\n",
      "label: viz_function_kpi\n",
      "  |....................                                                  |  29%\n",
      "  ordinary text without R code\n",
      "\n",
      "  |.....................                                                 |  30%\n",
      "label: viz_function_prof\n",
      "  |......................                                                |  31%\n",
      "  ordinary text without R code\n",
      "\n",
      "  |......................                                                |  32%\n",
      "label: unnamed-chunk-1\n",
      "  |.......................                                               |  33%\n",
      "  ordinary text without R code\n",
      "\n",
      "  |........................                                              |  34%\n",
      "label: unnamed-chunk-2\n",
      "  |........................                                              |  35%\n",
      "  ordinary text without R code\n",
      "\n",
      "  |.........................                                             |  36%\n",
      "label: unnamed-chunk-3\n",
      "  |..........................                                            |  37%\n",
      "  ordinary text without R code\n",
      "\n",
      "  |..........................                                            |  38%\n",
      "label: unnamed-chunk-4\n",
      "  |...........................                                           |  39%\n",
      "  ordinary text without R code\n",
      "\n",
      "  |............................                                          |  40%\n",
      "label: unnamed-chunk-5\n",
      "  |............................                                          |  41%\n",
      "  ordinary text without R code\n",
      "\n",
      "  |.............................                                         |  42%\n",
      "label: unnamed-chunk-6\n",
      "  |..............................                                        |  42%\n",
      "  ordinary text without R code\n",
      "\n",
      "  |..............................                                        |  43%\n",
      "label: unnamed-chunk-7 (with options) \n",
      "List of 2\n",
      " $ fig.width : num 10\n",
      " $ fig.height: num 6\n",
      "\n",
      "  |...............................                                       |  44%\n",
      "  ordinary text without R code\n",
      "\n",
      "  |................................                                      |  45%\n",
      "label: unnamed-chunk-8 (with options) \n",
      "List of 2\n",
      " $ fig.width : num 10\n",
      " $ fig.height: num 6\n",
      "\n",
      "  |................................                                      |  46%\n",
      "  ordinary text without R code\n",
      "\n",
      "  |.................................                                     |  47%\n",
      "label: unnamed-chunk-9 (with options) \n",
      "List of 2\n",
      " $ fig.width : num 10\n",
      " $ fig.height: num 6\n",
      "\n",
      "  |..................................                                    |  48%\n",
      "  ordinary text without R code\n",
      "\n",
      "  |..................................                                    |  49%\n",
      "label: unnamed-chunk-10 (with options) \n",
      "List of 2\n",
      " $ fig.width : num 10\n",
      " $ fig.height: num 6\n",
      "\n",
      "  |...................................                                   |  50%\n",
      "  ordinary text without R code\n",
      "\n",
      "  |....................................                                  |  51%\n",
      "label: unnamed-chunk-11 (with options) \n",
      "List of 2\n",
      " $ fig.width : num 10\n",
      " $ fig.height: num 6\n",
      "\n",
      "  |....................................                                  |  52%\n",
      "  ordinary text without R code\n",
      "\n",
      "  |.....................................                                 |  53%\n",
      "label: unnamed-chunk-12 (with options) \n",
      "List of 2\n",
      " $ fig.width : num 10\n",
      " $ fig.height: num 6\n",
      "\n",
      "  |......................................                                |  54%\n",
      "  ordinary text without R code\n",
      "\n",
      "  |......................................                                |  55%\n",
      "label: unnamed-chunk-13 (with options) \n",
      "List of 2\n",
      " $ fig.width : num 10\n",
      " $ fig.height: num 6\n",
      "\n",
      "  |.......................................                               |  56%\n",
      "  ordinary text without R code\n",
      "\n",
      "  |........................................                              |  57%\n",
      "label: unnamed-chunk-14 (with options) \n",
      "List of 2\n",
      " $ fig.width : num 10\n",
      " $ fig.height: num 6\n",
      "\n",
      "  |........................................                              |  58%\n",
      "  ordinary text without R code\n",
      "\n",
      "  |.........................................                             |  58%\n",
      "label: fin_comp\n"
     ]
    },
    {
     "name": "stderr",
     "output_type": "stream",
     "text": [
      "Warning message in set(dt, which(is.na(dt[[j]])), j, replace):\n",
      "\"Coercing 'character' RHS to 'double' to match the type of the target column (column 10 named 'Comments').\""
     ]
    },
    {
     "name": "stdout",
     "output_type": "stream",
     "text": [
      "  |..........................................                            |  59%\n",
      "  ordinary text without R code\n",
      "\n",
      "  |..........................................                            |  60%\n",
      "label: comments_results\n"
     ]
    },
    {
     "name": "stderr",
     "output_type": "stream",
     "text": [
      "Warning message in set(dt, which(is.na(dt[[j]])), j, replace):\n",
      "\"Coercing 'character' RHS to 'double' to match the type of the target column (column 6 named 'Comments').\""
     ]
    },
    {
     "name": "stdout",
     "output_type": "stream",
     "text": [
      "  |...........................................                           |  61%\n",
      "  ordinary text without R code\n",
      "\n",
      "  |............................................                          |  62%\n",
      "label: def\n",
      "  |............................................                          |  63%\n",
      "  ordinary text without R code\n",
      "\n",
      "  |.............................................                         |  64%\n",
      "label: unnamed-chunk-15\n",
      "  |..............................................                        |  65%\n",
      "  ordinary text without R code\n",
      "\n",
      "  |..............................................                        |  66%\n",
      "label: unnamed-chunk-16\n",
      "  |...............................................                       |  67%\n",
      "  ordinary text without R code\n",
      "\n",
      "  |................................................                      |  68%\n",
      "label: unnamed-chunk-17 (with options) \n",
      "List of 1\n",
      " $ include: logi FALSE\n",
      "\n",
      "  |................................................                      |  69%\n",
      "  ordinary text without R code\n",
      "\n",
      "  |.................................................                     |  70%\n",
      "label: unnamed-chunk-18 (with options) \n",
      "List of 1\n",
      " $ results: chr \"asis\"\n",
      "\n",
      "  |..................................................                    |  71%\n",
      "  ordinary text without R code\n",
      "\n",
      "  |..................................................                    |  72%\n",
      "label: unnamed-chunk-19\n",
      "  |...................................................                   |  73%\n",
      "  ordinary text without R code\n",
      "\n",
      "  |....................................................                  |  74%\n",
      "label: unnamed-chunk-20 (with options) \n",
      "List of 1\n",
      " $ include: logi FALSE\n",
      "\n",
      "  |....................................................                  |  75%\n",
      "  ordinary text without R code\n",
      "\n",
      "  |.....................................................                 |  75%\n",
      "label: unnamed-chunk-21 (with options) \n",
      "List of 1\n",
      " $ results: chr \"asis\"\n",
      "\n",
      "  |.....................................................                 |  76%\n",
      "  ordinary text without R code\n",
      "\n",
      "  |......................................................                |  77%\n",
      "label: unnamed-chunk-22\n",
      "  |.......................................................               |  78%\n",
      "  ordinary text without R code\n",
      "\n",
      "  |.......................................................               |  79%\n",
      "label: unnamed-chunk-23 (with options) \n",
      "List of 1\n",
      " $ include: logi FALSE\n",
      "\n",
      "  |........................................................              |  80%\n",
      "  ordinary text without R code\n",
      "\n",
      "  |.........................................................             |  81%\n",
      "label: unnamed-chunk-24 (with options) \n",
      "List of 1\n",
      " $ results: chr \"asis\"\n",
      "\n",
      "  |.........................................................             |  82%\n",
      "  ordinary text without R code\n",
      "\n",
      "  |..........................................................            |  83%\n",
      "label: unnamed-chunk-25\n",
      "  |...........................................................           |  84%\n",
      "  ordinary text without R code\n",
      "\n",
      "  |...........................................................           |  85%\n",
      "label: unnamed-chunk-26 (with options) \n",
      "List of 1\n",
      " $ include: logi FALSE\n",
      "\n",
      "  |............................................................          |  86%\n",
      "  ordinary text without R code\n",
      "\n",
      "  |.............................................................         |  87%\n",
      "label: unnamed-chunk-27 (with options) \n",
      "List of 1\n",
      " $ results: chr \"asis\"\n",
      "\n",
      "  |.............................................................         |  88%\n",
      "  ordinary text without R code\n",
      "\n",
      "  |..............................................................        |  89%\n",
      "label: unnamed-chunk-28\n",
      "  |...............................................................       |  90%\n",
      "  ordinary text without R code\n",
      "\n",
      "  |...............................................................       |  91%\n",
      "label: unnamed-chunk-29\n",
      "  |................................................................      |  92%\n",
      "  ordinary text without R code\n",
      "\n",
      "  |.................................................................     |  92%\n",
      "label: unnamed-chunk-30\n",
      "  |.................................................................     |  93%\n",
      "  ordinary text without R code\n",
      "\n",
      "  |..................................................................    |  94%\n",
      "label: unnamed-chunk-31\n",
      "  |...................................................................   |  95%\n",
      "  ordinary text without R code\n",
      "\n",
      "  |...................................................................   |  96%\n",
      "label: unnamed-chunk-32\n",
      "  |....................................................................  |  97%\n",
      "  ordinary text without R code\n",
      "\n",
      "  |..................................................................... |  98%\n",
      "label: unnamed-chunk-33\n",
      "  |..................................................................... |  99%\n",
      "  ordinary text without R code\n",
      "\n",
      "  |......................................................................| 100%\n",
      "label: unnamed-chunk-34\n",
      "\n"
     ]
    },
    {
     "name": "stderr",
     "output_type": "stream",
     "text": [
      "output file: Travel_Global_Report_bad.knit.md\n",
      "\n"
     ]
    },
    {
     "name": "stdout",
     "output_type": "stream",
     "text": [
      "\"C:/Users/gharmo/ANACON~2/Scripts/pandoc\" +RTS -K512m -RTS Travel_Global_Report_bad.knit.md --to html4 --from markdown+autolink_bare_uris+tex_math_single_backslash --output pandoc3e14227c7694.html --lua-filter \"C:\\Users\\gharmo\\Documents\\R\\win-library\\3.6\\rmarkdown\\rmarkdown\\lua\\pagebreak.lua\" --lua-filter \"C:\\Users\\gharmo\\Documents\\R\\win-library\\3.6\\rmarkdown\\rmarkdown\\lua\\latex-div.lua\" --self-contained --variable bs3=TRUE --standalone --section-divs --template \"C:\\Users\\gharmo\\Documents\\R\\win-library\\3.6\\flexdashboard\\rmarkdown\\templates\\flex_dashboard\\resources\\default.html\" --variable theme=cosmo --include-in-header \"C:\\Users\\gharmo\\AppData\\Local\\Temp\\RtmpOYmQDH\\rmarkdown-str3e1474c2454.html\" --mathjax --variable \"mathjax-url:https://mathjax.rstudio.com/latest/MathJax.js?config=TeX-AMS-MML_HTMLorMML\" --variable logo=AzPTravel_White_XSm.png --include-in-header \"C:\\Users\\gharmo\\AppData\\Local\\Temp\\RtmpOYmQDH\\file3e144a104e7chtml\" --include-before-body \"C:\\Users\\gharmo\\AppData\\Local\\Temp\\RtmpOYmQDH\\file3e141f3e5113.html\" --highlight-style pygments --include-before-body \"C:\\Users\\gharmo\\AppData\\Local\\Temp\\RtmpOYmQDH\\file3e1453183f9a.html\" --include-after-body footer.html --include-after-body \"C:\\Users\\gharmo\\AppData\\Local\\Temp\\RtmpOYmQDH\\file3e14c34757a.html\" --css styles.css \n"
     ]
    },
    {
     "name": "stderr",
     "output_type": "stream",
     "text": [
      "\n",
      "Output created: H:/Reporting/Data Collection/2021.Q1/Global Travel LOB Report/Travel_Global_Report_bad.html\n"
     ]
    }
   ],
   "source": [
    "print(\"Knitting Travel Global Report\")   \n",
    "\n",
    "rmarkdown::render(rmdnetworkpath, output_file = html_name ,  output_dir = html_path ,   params = list(region = 'all', period = percode ) )\n"
   ]
  },
  {
   "cell_type": "markdown",
   "id": "cd6afb06",
   "metadata": {},
   "source": [
    "#### Open the file that was knit"
   ]
  },
  {
   "cell_type": "code",
   "execution_count": 31,
   "id": "5667bbf4",
   "metadata": {},
   "outputs": [],
   "source": [
    "openHTML <- function(x) browseURL(paste0('file://', x))\n",
    "\n",
    "openHTML(html_full_name)"
   ]
  },
  {
   "cell_type": "code",
   "execution_count": null,
   "id": "063a72ef",
   "metadata": {},
   "outputs": [],
   "source": []
  },
  {
   "cell_type": "code",
   "execution_count": null,
   "id": "2c2cfe60",
   "metadata": {},
   "outputs": [],
   "source": []
  }
 ],
 "metadata": {
  "celltoolbar": "Tags",
  "kernelspec": {
   "display_name": "R",
   "language": "R",
   "name": "ir"
  },
  "language_info": {
   "codemirror_mode": "r",
   "file_extension": ".r",
   "mimetype": "text/x-r-source",
   "name": "R",
   "pygments_lexer": "r",
   "version": "3.6.1"
  }
 },
 "nbformat": 4,
 "nbformat_minor": 5
}
