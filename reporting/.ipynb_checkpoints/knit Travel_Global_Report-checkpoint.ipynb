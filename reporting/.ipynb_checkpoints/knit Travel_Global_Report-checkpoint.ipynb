{
 "cells": [
  {
   "cell_type": "markdown",
   "id": "b66100fc",
   "metadata": {},
   "source": [
    "<img src=\"../images/AzPTravel_PPM.png\">"
   ]
  },
  {
   "cell_type": "markdown",
   "id": "e06505d6",
   "metadata": {},
   "source": [
    "## Knit Travel Global Report\n",
    "\n",
    "#### This script exectutes the RMD that knits the Travel Global Report\n",
    "\n",
    "#### This can be run on its own or as part of the pipeline wherever called (ie from a papermill script or other user interface)."
   ]
  },
  {
   "cell_type": "code",
   "execution_count": 19,
   "id": "ef5e5fd6",
   "metadata": {
    "tags": [
     "parameters"
    ]
   },
   "outputs": [],
   "source": [
    "\n",
    "commit_message <- \"Development and testing.\"\n",
    "# Give a brief reason for the run.\n",
    "\n",
    "run_control <- 1\n",
    "#run_type = 0 - Lite run with no reporting, not recommended.\n",
    "#run_type = 1 - Lite run with normal reporting, default setting.\n",
    "#run_type = 2 - Heavy run with full reporting, available for audits and troubleshooting.\n",
    "#run_type = 5 - A default setting. Indicates the script is being run by an outside process without an inherited value\n",
    "\n",
    "percode <- \"2021.Q1\"\n",
    "# Data Collection Code, this controls file paths and output names\n",
    "# \"-f\" is the value indicating a bad inheritance from run with arg\n",
    "\n",
    "s_format <- \"p\"\n",
    "# denotes the source data format x == Excel; j == json, p == parquet\n",
    "\n",
    "#----------\n",
    "# do not edit - this either inherits the full instance timestamp from the papermill book or captures the run time of this script.\n",
    "\n",
    "inst_datetime <- format(Sys.time(), \"%S\")\n",
    "\n"
   ]
  },
  {
   "cell_type": "markdown",
   "id": "0d9a8c66",
   "metadata": {},
   "source": [
    "#### Default Variables, these govern logic, do not edit."
   ]
  },
  {
   "cell_type": "code",
   "execution_count": 20,
   "id": "51f194eb",
   "metadata": {},
   "outputs": [],
   "source": [
    "default_dc <- \"20XX.QX\"\n",
    "default_rc <- 0 #extra lite mode\n",
    "dummy_perc <- \"33Q3\" # bad inheritance"
   ]
  },
  {
   "cell_type": "markdown",
   "id": "dadcb18d",
   "metadata": {},
   "source": [
    "#### style settings"
   ]
  },
  {
   "cell_type": "code",
   "execution_count": 21,
   "id": "be0f2dc0",
   "metadata": {},
   "outputs": [],
   "source": [
    "if (run_control == 5)\n",
    "    { run_control <- default_rc }\n",
    "\n",
    "if (run_control != 5) \n",
    "    { run_control <- run_control}\n",
    "\n",
    "# try:\n",
    "#     if sys.argv[1] == \"-f\":\n",
    "#         percode = percode\n",
    "#     else:\n",
    "#         percode = sys.argv[1]\n",
    "\n",
    "# except IndexError:\n",
    "#     percode = default_dc\n",
    "# except NameError:\n",
    "#     percode = default_dc\n"
   ]
  },
  {
   "cell_type": "markdown",
   "id": "0269e3d7",
   "metadata": {},
   "source": [
    "\n",
    "## Begin Input Read\n",
    "#### Make paths used in script\n",
    "### all paths should be modular and easily replaced ahead of operations"
   ]
  },
  {
   "cell_type": "code",
   "execution_count": 22,
   "id": "156d67df",
   "metadata": {},
   "outputs": [
    {
     "data": {
      "text/html": [
       "'H:/Reporting/Data Collection/2021.Q1/Global Travel LOB Report/Travel_Global_Report.html'"
      ],
      "text/latex": [
       "'H:/Reporting/Data Collection/2021.Q1/Global Travel LOB Report/Travel\\_Global\\_Report.html'"
      ],
      "text/markdown": [
       "'H:/Reporting/Data Collection/2021.Q1/Global Travel LOB Report/Travel_Global_Report.html'"
      ],
      "text/plain": [
       "[1] \"H:/Reporting/Data Collection/2021.Q1/Global Travel LOB Report/Travel_Global_Report.html\""
      ]
     },
     "metadata": {},
     "output_type": "display_data"
    }
   ],
   "source": [
    "#root directory\n",
    "rt_networkpath <- '//hecate/Insurance_US/Product Development/Product Management/Global PPM/Reporting/Data Collection'\n",
    "\n",
    "# special for render\n",
    "rt_mappedpath <- 'H:/Reporting/Data Collection'\n",
    "\n",
    "\n",
    "#out_mappedpath <- paste(rt_mappedpath, percode,   'Global Travel LOB Report' , sep= '/')\n",
    "rmd_file <- 'Pipeline Reporting Scripts/Global Travel LOB Report/Travel_Global_Report.Rmd'\n",
    "\n",
    "foot_file <- 'Pipeline Reporting Scripts/Global Travel LOB Report/footer.html'\n",
    "\n",
    "rmd_path <- paste(rt_networkpath, rmd_file, sep =\"/\")\n",
    "#outfile <- paste('Travel_Global_Report_',gsub(\"\\\\.\",\"_\",percode),'.html', sep = '')\n",
    "\n",
    "rmdnetworkpath <- paste(rt_networkpath,rmd_file, sep =\"/\")\n",
    "\n",
    "html_path <- paste( rt_mappedpath , percode,   'Global Travel LOB Report', sep= '/')\n",
    "\n",
    "html_name <- 'Travel_Global_Report.html'\n",
    "\n",
    "html_full_name <- paste(html_path, html_name, sep = \"/\")\n",
    "\n",
    "html_full_name \n"
   ]
  },
  {
   "cell_type": "code",
   "execution_count": 23,
   "id": "14d4ed98",
   "metadata": {},
   "outputs": [],
   "source": [
    "# Footer inputs"
   ]
  },
  {
   "cell_type": "code",
   "execution_count": 24,
   "id": "469bf047",
   "metadata": {},
   "outputs": [],
   "source": [
    "if (substr(percode, 3, 6) == \"Q1\")\n",
    "    \n",
    "    substr(percode, 3, 6)\n",
    "    \n",
    "    \n",
    "    {startdate <- \"Jan\"\n",
    "    enddate <- \"Mar\"}\n",
    "\n",
    "if (substr(percode, 3, 6) == \"Q2\")\n",
    "    \n",
    "    {startdate <- \"Apr\"\n",
    "    enddate <- \"June\"}\n",
    "\n",
    "if (substr(percode, 3, 6) == \"Q3\")\n",
    "    \n",
    "    {startdate <- \"July\"\n",
    "    enddate <- \"Sept\"}\n",
    "\n",
    "if (substr(percode, 3, 6) == \"Q4\")\n",
    "    \n",
    "    {startdate <- \"Oct\"\n",
    "    enddate <- \"Dec\"}\n",
    "\n",
    "year <- substr(percode, 1, 4)\n"
   ]
  },
  {
   "cell_type": "code",
   "execution_count": 25,
   "id": "c18c75ab",
   "metadata": {},
   "outputs": [],
   "source": [
    "# Make Footer"
   ]
  },
  {
   "cell_type": "code",
   "execution_count": 26,
   "id": "94e128a4",
   "metadata": {},
   "outputs": [
    {
     "ename": "ERROR",
     "evalue": "Error in write.table(code, file = footer, quote = FALSE, col.names = FALSE, : object 'footer' not found\n",
     "output_type": "error",
     "traceback": [
      "Error in write.table(code, file = footer, quote = FALSE, col.names = FALSE, : object 'footer' not found\nTraceback:\n",
      "1. write.table(code, file = footer, quote = FALSE, col.names = FALSE, \n .     row.names = FALSE)"
     ]
    }
   ],
   "source": [
    "code <-  paste('<!-- Footer -->\n",
    "<!-- See https://mdbootstrap.com/docs/jquery/navigation/footer/ for documentation -->\n",
    "<footer class=\"page-footer font-small elegant-color fixed-bottom\">\n",
    "\n",
    "  <!-- Footer Text -->\n",
    "  <div class=\"container-fluid text-left text-md-left\">\n",
    "\n",
    "    <!-- Grid row -->\n",
    "    <div class=\"row\">\n",
    "\n",
    "         <!-- Content -->\n",
    "        <p>Data includes experience from ',startdate,' ',' to ',enddate,' ', year,'. See  <a href=\"#notes\"> Notes</a> for detail.</p>\n",
    "\n",
    "      </div>\n",
    "\n",
    "    </div>\n",
    "    <!-- Grid row -->\n",
    "\n",
    "  </div>\n",
    "  <!-- Footer Text -->\n",
    "\n",
    "  <!-- Copyright -->\n",
    "  <div class=\"footer-copyright text-left py-3\"> \n",
    "    <p> For inquires, contact <a href=\"mailto: Mark, Dana (Allianz Partners USA) <Dana.Mark@allianz.com>;       Chen, Angela (Allianz Partners China) <angela.chenxx@allianz.com>; Guerreschi, Federico (Allianz Partners)\n",
    "    <Federico.Guerreschi@allianz.com>; Harmon, Gavin (Allianz Partners USA) <Gavin.Harmon@allianz.com>?subject     =Reporting Suite Question\">Global Portfolio Monitoring</a> <i class=\"fas fa-envelope mr-3\"></i> .</p>\n",
    "  </div>\n",
    "  <!-- Copyright -->\n",
    "\n",
    "</footer>\n",
    "<!-- Footer -->')\n",
    "    \n",
    "    \n",
    "    \n",
    "\n",
    "\n",
    "write.table(code, \n",
    "            file=footer, \n",
    "            quote = FALSE,\n",
    "            col.names = FALSE,\n",
    "            row.names = FALSE)\n"
   ]
  },
  {
   "cell_type": "code",
   "execution_count": null,
   "id": "0fc55207",
   "metadata": {},
   "outputs": [],
   "source": [
    "\n",
    "\n",
    "#### Execute Finance Comparison PnL.Rmd\n"
   ]
  },
  {
   "cell_type": "code",
   "execution_count": null,
   "id": "20e79fb1",
   "metadata": {},
   "outputs": [],
   "source": [
    "print(\"Knitting Travel Global Report\")   \n",
    "\n",
    "rmarkdown::render(rmdnetworkpath, output_file = html_name ,  output_dir = html_path ,   params = list(region = 'all', period = percode ) )\n"
   ]
  },
  {
   "cell_type": "code",
   "execution_count": null,
   "id": "fe386ee1",
   "metadata": {},
   "outputs": [],
   "source": [
    "if (substr(percode, 3, 6) == \"Q1\")\n",
    "    \n",
    "    substr(percode, 3, 6)\n",
    "    \n",
    "    \n",
    "    {startdate <- \"Jan\"\n",
    "    enddate <- \"Mar\"}\n",
    "\n",
    "if (substr(percode, 3, 6) == \"Q2\")\n",
    "    \n",
    "    {startdate <- \"Apr\"\n",
    "    enddate <- \"June\"}\n",
    "\n",
    "if (substr(percode, 3, 6) == \"Q3\")\n",
    "    \n",
    "    {startdate <- \"July\"\n",
    "    enddate <- \"Sept\"}\n",
    "\n",
    "if (substr(percode, 3, 6) == \"Q4\")\n",
    "    \n",
    "    {startdate <- \"Oct\"\n",
    "    enddate <- \"Dec\"}\n",
    "\n",
    "year <- substr(percode, 1, 4)\n",
    "\n",
    "\n",
    "print(startdate)\n",
    "print(enddate)\n",
    "print(year)"
   ]
  },
  {
   "cell_type": "markdown",
   "id": "72f3781b",
   "metadata": {},
   "source": [
    "#### Open the file that was knit"
   ]
  },
  {
   "cell_type": "code",
   "execution_count": null,
   "id": "4cfad68e",
   "metadata": {},
   "outputs": [],
   "source": [
    "openHTML <- function(x) browseURL(paste0('file://', x))\n",
    "\n",
    "openHTML(html_full_name)"
   ]
  },
  {
   "cell_type": "code",
   "execution_count": null,
   "id": "14105b4b",
   "metadata": {},
   "outputs": [],
   "source": []
  },
  {
   "cell_type": "code",
   "execution_count": null,
   "id": "a913c644",
   "metadata": {},
   "outputs": [],
   "source": []
  }
 ],
 "metadata": {
  "celltoolbar": "Tags",
  "kernelspec": {
   "display_name": "R",
   "language": "R",
   "name": "ir"
  },
  "language_info": {
   "codemirror_mode": "r",
   "file_extension": ".r",
   "mimetype": "text/x-r-source",
   "name": "R",
   "pygments_lexer": "r",
   "version": "3.6.1"
  }
 },
 "nbformat": 4,
 "nbformat_minor": 5
}
