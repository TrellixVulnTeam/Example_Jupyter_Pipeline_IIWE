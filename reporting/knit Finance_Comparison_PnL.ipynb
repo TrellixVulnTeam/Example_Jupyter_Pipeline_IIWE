{
 "cells": [
  {
   "cell_type": "markdown",
   "id": "7c283e28",
   "metadata": {},
   "source": [
    "<img src=\"../images/AzPTravel_PPM.png\">"
   ]
  },
  {
   "cell_type": "markdown",
   "id": "8d9896e3",
   "metadata": {},
   "source": [
    "## Finance Knitting\n",
    "\n",
    "#### This script exectutes the RMD that knits the Finance Comparison PnL\n",
    "\n",
    "#### This can be run on its own or as part of the pipeline wherever called (ie from a papermill script or other user interface)."
   ]
  },
  {
   "cell_type": "code",
   "execution_count": 1,
   "id": "84cd182e",
   "metadata": {
    "tags": [
     "parameters"
    ]
   },
   "outputs": [],
   "source": [
    "\n",
    "commit_message <- \"Development and testing.\"\n",
    "# Give a brief reason for the run.\n",
    "\n",
    "run_control <- 1\n",
    "#run_type = 0 - Lite run with no reporting, not recommended.\n",
    "#run_type = 1 - Lite run with normal reporting, default setting.\n",
    "#run_type = 2 - Heavy run with full reporting, available for audits and troubleshooting.\n",
    "#run_type = 5 - A default setting. Indicates the script is being run by an outside process without an inherited value\n",
    "\n",
    "percode <- \"2021.Q1\"\n",
    "# Data Collection Code, this controls file paths and output names\n",
    "# \"-f\" is the value indicating a bad inheritance from run with arg\n",
    "\n",
    "s_format <- \"p\"\n",
    "# denotes the source data format x == Excel; j == json, p == parquet\n",
    "\n",
    "#----------\n",
    "# do not edit - this either inherits the full instance timestamp from the papermill book or captures the run time of this script.\n",
    "\n",
    "inst_datetime <- format(Sys.time(), \"%S\")\n",
    "\n"
   ]
  },
  {
   "cell_type": "markdown",
   "id": "f391c914",
   "metadata": {},
   "source": [
    "#### Default Variables, these govern logic, do not edit."
   ]
  },
  {
   "cell_type": "code",
   "execution_count": 2,
   "id": "61b3a722",
   "metadata": {},
   "outputs": [],
   "source": [
    "default_dc <- \"20XX.QX\"\n",
    "default_rc <- 0 #extra lite mode\n",
    "dummy_perc <- \"33Q3\" # bad inheritance"
   ]
  },
  {
   "cell_type": "markdown",
   "id": "af369003",
   "metadata": {},
   "source": [
    "#### style settings"
   ]
  },
  {
   "cell_type": "code",
   "execution_count": 3,
   "id": "9f156225",
   "metadata": {},
   "outputs": [],
   "source": [
    "if (run_control == 5)\n",
    "    { run_control <- default_rc }\n",
    "\n",
    "if (run_control != 5) \n",
    "    { run_control <- run_control}\n",
    "\n",
    "# try:\n",
    "#     if sys.argv[1] == \"-f\":\n",
    "#         percode = percode\n",
    "#     else:\n",
    "#         percode = sys.argv[1]\n",
    "\n",
    "# except IndexError:\n",
    "#     percode = default_dc\n",
    "# except NameError:\n",
    "#     percode = default_dc\n"
   ]
  },
  {
   "cell_type": "markdown",
   "id": "e7d41c0d",
   "metadata": {},
   "source": [
    "\n",
    "## Begin Input Read\n",
    "#### Make paths used in script\n",
    "### all paths should be modular and easily replaced ahead of operations"
   ]
  },
  {
   "cell_type": "code",
   "execution_count": 4,
   "id": "cfa89b06",
   "metadata": {},
   "outputs": [],
   "source": [
    "#root directory\n",
    "rt_path <- '//hecate/Insurance_US/Product Development/Product Management/Global PPM/Reporting/Data Collection/Pipeline Reporting Scripts/Finance Comparison PnL'\n",
    "\n",
    "outpath <- paste('//hecate/Insurance_US/Product Development/Product Management/Global PPM/Reporting/Data Collection' , percode,   'Finance Report' , sep= '/')\n",
    "\n",
    "scrfile <- 'Finance_Comparison_PnL.Rmd'\n",
    "\n",
    "scrpath <- paste(rt_path,scrfile, sep =\"/\")\n",
    "\n",
    "outfile <- 'Finance_Comparison_PnL.html'\n",
    "\n",
    "outfp<- paste(outpath,outfile, sep =\"/\")\n"
   ]
  },
  {
   "cell_type": "markdown",
   "id": "b152c67f",
   "metadata": {},
   "source": [
    "#### Execute Finance Comparison PnL.Rmd\n"
   ]
  },
  {
   "cell_type": "code",
   "execution_count": 5,
   "id": "cb9aa19c",
   "metadata": {},
   "outputs": [
    {
     "name": "stdout",
     "output_type": "stream",
     "text": [
      "[1] \"Knitting Finance Comparison PnL\"\n"
     ]
    },
    {
     "name": "stderr",
     "output_type": "stream",
     "text": [
      "\n",
      "\n",
      "processing file: Finance_Comparison_PnL.Rmd\n"
     ]
    },
    {
     "name": "stdout",
     "output_type": "stream",
     "text": [
      "  |.                                                                     |   2%\n",
      "  ordinary text without R code\n",
      "\n",
      "  |...                                                                   |   4%\n",
      "label: setup (with options) \n",
      "List of 1\n",
      " $ include: logi FALSE\n",
      "\n",
      "  |....                                                                  |   6%\n",
      "  ordinary text without R code\n",
      "\n",
      "  |.....                                                                 |   8%\n",
      "label: notes (with options) \n",
      "List of 1\n",
      " $ include: logi FALSE\n",
      "\n",
      "  |.......                                                               |   9%\n",
      "  ordinary text without R code\n",
      "\n",
      "  |........                                                              |  11%\n",
      "label: librarys (with options) \n",
      "List of 1\n",
      " $ include: logi FALSE\n",
      "\n"
     ]
    },
    {
     "name": "stderr",
     "output_type": "stream",
     "text": [
      "Warning message:\n",
      "\"package 'arrow' was built under R version 3.6.3\"See arrow_info() for available features\n",
      "\n",
      "Attaching package: 'arrow'\n",
      "\n",
      "The following object is masked from 'package:utils':\n",
      "\n",
      "    timestamp\n",
      "\n",
      "Warning message:\n",
      "\"package 'flexdashboard' was built under R version 3.6.3\"Warning message:\n",
      "\"package 'openxlsx' was built under R version 3.6.3\"Warning message:\n",
      "\"package 'data.table' was built under R version 3.6.3\"Warning message:\n",
      "\"package 'dplyr' was built under R version 3.6.3\"\n",
      "Attaching package: 'dplyr'\n",
      "\n",
      "The following objects are masked from 'package:data.table':\n",
      "\n",
      "    between, first, last\n",
      "\n",
      "The following objects are masked from 'package:stats':\n",
      "\n",
      "    filter, lag\n",
      "\n",
      "The following objects are masked from 'package:base':\n",
      "\n",
      "    intersect, setdiff, setequal, union\n",
      "\n",
      "Warning message:\n",
      "\"package 'magrittr' was built under R version 3.6.3\"\n",
      "Attaching package: 'magrittr'\n",
      "\n",
      "The following object is masked from 'package:arrow':\n",
      "\n",
      "    is_in\n",
      "\n",
      "Warning message:\n",
      "\"package 'knitr' was built under R version 3.6.3\"Warning message:\n",
      "\"package 'kableExtra' was built under R version 3.6.3\"\n",
      "Attaching package: 'kableExtra'\n",
      "\n",
      "The following object is masked from 'package:dplyr':\n",
      "\n",
      "    group_rows\n",
      "\n",
      "Warning message:\n",
      "\"package 'ggplot2' was built under R version 3.6.3\"Warning message:\n",
      "\"package 'patchwork' was built under R version 3.6.3\"Warning message:\n",
      "\"package 'DT' was built under R version 3.6.3\"Warning message:\n",
      "\"package 'scales' was built under R version 3.6.3\"Warning message:\n",
      "\"package 'reticulate' was built under R version 3.6.3\"Warning message:\n",
      "\"package 'rpivotTable' was built under R version 3.6.3\""
     ]
    },
    {
     "name": "stdout",
     "output_type": "stream",
     "text": [
      "  |.........                                                             |  13%\n",
      "  ordinary text without R code\n",
      "\n",
      "  |...........                                                           |  15%\n",
      "label: read (with options) \n",
      "List of 2\n",
      " $ echo   : logi FALSE\n",
      " $ include: logi FALSE\n",
      "\n",
      "  |............                                                          |  17%\n",
      "  ordinary text without R code\n",
      "\n",
      "  |.............                                                         |  19%\n",
      "label: make DT (with options) \n",
      "List of 2\n",
      " $ echo   : logi FALSE\n",
      " $ include: logi FALSE\n",
      "\n",
      "  |...............                                                       |  21%\n",
      "  ordinary text without R code\n",
      "\n",
      "  |................                                                      |  23%\n",
      "label: build report view (with options) \n",
      "List of 2\n",
      " $ echo   : logi FALSE\n",
      " $ include: logi FALSE\n",
      "\n",
      "  |.................                                                     |  25%\n",
      "  ordinary text without R code\n",
      "\n",
      "  |..................                                                    |  26%\n",
      "label: build report views2 (with options) \n",
      "List of 2\n",
      " $ echo   : logi FALSE\n",
      " $ include: logi FALSE\n",
      "\n",
      "  |....................                                                  |  28%\n",
      "  ordinary text without R code\n",
      "\n",
      "  |.....................                                                 |  30%\n",
      "label: list BUs included in UW view  (with options) \n",
      "List of 2\n",
      " $ echo   : logi FALSE\n",
      " $ include: logi FALSE\n",
      "\n",
      "  |......................                                                |  32%\n",
      "  ordinary text without R code\n",
      "\n",
      "  |........................                                              |  34%\n",
      "label: pivot table try 1  (with options) \n",
      "List of 2\n",
      " $ echo   : logi FALSE\n",
      " $ include: logi FALSE\n",
      "\n"
     ]
    },
    {
     "name": "stderr",
     "output_type": "stream",
     "text": [
      "Warning message:\n",
      "\"package 'pivottabler' was built under R version 3.6.3\"Warning message in melt(dt_reportview, id = c(\"Business Unit Code\", \"Business Unit\")):\n",
      "\"The melt generic in data.table has been passed a data.frame and will attempt to redirect to the relevant reshape2 method; please note that reshape2 is deprecated, and this redirection is now deprecated as well. To continue using melt methods from reshape2 while both libraries are attached, e.g. melt.list, you can prepend the namespace like reshape2::melt(dt_reportview). In the next version, this warning will become an error.\""
     ]
    },
    {
     "name": "stdout",
     "output_type": "stream",
     "text": [
      "  |.........................                                             |  36%\n",
      "  ordinary text without R code\n",
      "\n",
      "  |..........................                                            |  38%\n",
      "label: pivot to DT (with options) \n",
      "List of 2\n",
      " $ echo   : logi FALSE\n",
      " $ include: logi FALSE\n",
      "\n",
      "  |............................                                          |  40%\n",
      "  ordinary text without R code\n",
      "\n",
      "  |.............................                                         |  42%\n",
      "label: melt pivot (with options) \n",
      "List of 2\n",
      " $ echo   : logi FALSE\n",
      " $ include: logi FALSE\n",
      "\n",
      "  |..............................                                        |  43%\n",
      "  ordinary text without R code\n",
      "\n",
      "  |................................                                      |  45%\n",
      "label: bad waterfall, commented out (with options) \n",
      "List of 2\n",
      " $ echo   : logi FALSE\n",
      " $ include: logi FALSE\n",
      "\n",
      "  |.................................                                     |  47%\n",
      "  ordinary text without R code\n",
      "\n",
      "  |..................................                                    |  49%\n",
      "label: dfmelt add region (with options) \n",
      "List of 2\n",
      " $ echo   : logi FALSE\n",
      " $ include: logi FALSE\n",
      "\n",
      "  |....................................                                  |  51%\n",
      "  ordinary text without R code\n",
      "\n",
      "  |.....................................                                 |  53%\n",
      "label: dfmelt add View2 (with options) \n",
      "List of 2\n",
      " $ echo   : logi FALSE\n",
      " $ include: logi FALSE\n",
      "\n",
      "  |......................................                                |  55%\n",
      "  ordinary text without R code\n",
      "\n",
      "  |........................................                              |  57%\n",
      "label: dfmelt add data collection (with options) \n",
      "List of 2\n",
      " $ echo   : logi FALSE\n",
      " $ include: logi FALSE\n",
      "\n",
      "  |.........................................                             |  58%\n",
      "  ordinary text without R code\n",
      "\n",
      "  |..........................................                            |  60%\n",
      "label: dfmelt add line order (with options) \n",
      "List of 2\n",
      " $ echo   : logi FALSE\n",
      " $ include: logi FALSE\n",
      "\n",
      "  |............................................                          |  62%\n",
      "  ordinary text without R code\n",
      "\n",
      "  |.............................................                         |  64%\n",
      "label: finish dfmelt (with options) \n",
      "List of 2\n",
      " $ echo   : logi FALSE\n",
      " $ include: logi FALSE\n",
      "\n",
      "  |..............................................                        |  66%\n",
      "  ordinary text without R code\n",
      "\n",
      "  |................................................                      |  68%\n",
      "label: create dfmeltratios (with options) \n",
      "List of 2\n",
      " $ echo   : logi FALSE\n",
      " $ include: logi FALSE\n",
      "\n",
      "  |.................................................                     |  70%\n",
      "  ordinary text without R code\n",
      "\n",
      "  |..................................................                    |  72%\n",
      "label: remove base rows from dfmelt (with options) \n",
      "List of 2\n",
      " $ echo   : logi FALSE\n",
      " $ include: logi FALSE\n",
      "\n",
      "  |....................................................                  |  74%\n",
      "  ordinary text without R code\n",
      "\n",
      "  |.....................................................                 |  75%\n",
      "label: make commentary df (with options) \n",
      "List of 2\n",
      " $ echo   : logi FALSE\n",
      " $ include: logi FALSE\n",
      "\n",
      "  |......................................................                |  77%\n",
      "  ordinary text without R code\n",
      "\n",
      "  |.......................................................               |  79%\n",
      "label: commentary df add region  (with options) \n",
      "List of 2\n",
      " $ echo   : logi FALSE\n",
      " $ include: logi FALSE\n",
      "\n"
     ]
    },
    {
     "name": "stderr",
     "output_type": "stream",
     "text": [
      "Warning message in set(x, j = name, value = value):\n",
      "\"Column 'Region' does not exist to remove\""
     ]
    },
    {
     "name": "stdout",
     "output_type": "stream",
     "text": [
      "  |.........................................................             |  81%\n",
      "  ordinary text without R code\n",
      "\n",
      "  |..........................................................            |  83%\n",
      "label: commentary df add line order (with options) \n",
      "List of 2\n",
      " $ echo   : logi FALSE\n",
      " $ include: logi FALSE\n",
      "\n",
      "  |...........................................................           |  85%\n",
      "  ordinary text without R code\n",
      "\n",
      "  |.............................................................         |  87%\n",
      "label: unnamed-chunk-1 (with options) \n",
      "List of 1\n",
      " $ echo: logi FALSE\n",
      "\n",
      "  |..............................................................        |  89%\n",
      "  ordinary text without R code\n",
      "\n",
      "  |...............................................................       |  91%\n",
      "label: unnamed-chunk-2 (with options) \n",
      "List of 1\n",
      " $ echo: logi FALSE\n",
      "\n",
      "  |.................................................................     |  92%\n",
      "  ordinary text without R code\n",
      "\n",
      "  |..................................................................    |  94%\n",
      "label: unnamed-chunk-3 (with options) \n",
      "List of 1\n",
      " $ echo: logi FALSE\n",
      "\n",
      "  |...................................................................   |  96%\n",
      "  ordinary text without R code\n",
      "\n",
      "  |..................................................................... |  98%\n",
      "label: Pivot Table CSS (with options) \n",
      "List of 2\n",
      " $ echo  : logi FALSE\n",
      " $ engine: chr \"css\"\n",
      "\n",
      "  |......................................................................| 100%\n",
      "  ordinary text without R code\n",
      "\n",
      "\n"
     ]
    },
    {
     "name": "stderr",
     "output_type": "stream",
     "text": [
      "output file: Finance_Comparison_PnL.knit.md\n",
      "\n"
     ]
    },
    {
     "name": "stdout",
     "output_type": "stream",
     "text": [
      "\"C:/Users/gharmo/ANACON~2/Scripts/pandoc\" +RTS -K512m -RTS Finance_Comparison_PnL.knit.md --to html4 --from markdown+autolink_bare_uris+tex_math_single_backslash --output pandoc56f4ffe4a2.html --lua-filter \"C:\\Users\\gharmo\\Documents\\R\\win-library\\3.6\\rmarkdown\\rmarkdown\\lua\\pagebreak.lua\" --lua-filter \"C:\\Users\\gharmo\\Documents\\R\\win-library\\3.6\\rmarkdown\\rmarkdown\\lua\\latex-div.lua\" --self-contained --variable bs3=TRUE --standalone --section-divs --template \"C:\\Users\\gharmo\\Documents\\R\\win-library\\3.6\\flexdashboard\\rmarkdown\\templates\\flex_dashboard\\resources\\default.html\" --variable theme=cosmo --include-in-header \"C:\\Users\\gharmo\\AppData\\Local\\Temp\\Rtmpmmy2Li\\rmarkdown-str56f442df16eb.html\" --mathjax --variable \"mathjax-url:https://mathjax.rstudio.com/latest/MathJax.js?config=TeX-AMS-MML_HTMLorMML\" --variable logo=AzPTravel_White_XSm.png --include-in-header \"C:\\Users\\gharmo\\AppData\\Local\\Temp\\Rtmpmmy2Li\\file56f4726e2a2dhtml\" --highlight-style pygments --include-before-body \"C:\\Users\\gharmo\\AppData\\Local\\Temp\\Rtmpmmy2Li\\file56f440ff2019.html\" --include-after-body footer.html --include-after-body \"C:\\Users\\gharmo\\AppData\\Local\\Temp\\Rtmpmmy2Li\\file56f477706908.html\" --css styles.css \n"
     ]
    },
    {
     "name": "stderr",
     "output_type": "stream",
     "text": [
      "\n",
      "Output created: \\\\hecate/Insurance_US/Product Development/Product Management/Global PPM/Reporting/Data Collection/2021.Q1/Finance Report/Finance_Comparison_PnL.html\n"
     ]
    }
   ],
   "source": [
    "print(\"Knitting Finance Comparison PnL\")   \n",
    "\n",
    "rmarkdown::render(scrpath, output_file = outfile ,  output_dir = outpath  )\n"
   ]
  },
  {
   "cell_type": "markdown",
   "id": "0c9c861c",
   "metadata": {},
   "source": [
    "#### Open the file that was knit"
   ]
  },
  {
   "cell_type": "code",
   "execution_count": 6,
   "id": "93c2799b",
   "metadata": {},
   "outputs": [],
   "source": [
    "openHTML <- function(x) browseURL(paste0('file://', x))\n",
    "\n",
    "openHTML(outfp)"
   ]
  },
  {
   "cell_type": "code",
   "execution_count": null,
   "id": "4031a641",
   "metadata": {},
   "outputs": [],
   "source": []
  }
 ],
 "metadata": {
  "celltoolbar": "Tags",
  "kernelspec": {
   "display_name": "R",
   "language": "R",
   "name": "ir"
  },
  "language_info": {
   "codemirror_mode": "r",
   "file_extension": ".r",
   "mimetype": "text/x-r-source",
   "name": "R",
   "pygments_lexer": "r",
   "version": "3.6.1"
  }
 },
 "nbformat": 4,
 "nbformat_minor": 5
}
