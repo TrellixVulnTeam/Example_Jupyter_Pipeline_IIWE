{
 "cells": [
  {
   "cell_type": "markdown",
   "metadata": {
    "pycharm": {
     "name": "#%% md\n"
    }
   },
   "source": [
    "<img src=\"../images/AzPTravel_PPM.png\">\n",
    "<img src='../images/papermill.png'>"
   ]
  },
  {
   "cell_type": "markdown",
   "metadata": {},
   "source": [
    "# GPM Data Collection Pipeline Run Controller\n",
    "\n",
    "### This file is both a user interface and an executable callable from other processes.\n",
    "\n",
    "### To use:\n",
    "   - Set your required variable values in the \"Set Instance Parameters\" Section.\n",
    "   - You can then run the entire pipeline by running all cells or notebooks one at a time as you wish."
   ]
  },
  {
   "cell_type": "code",
   "execution_count": 1,
   "metadata": {},
   "outputs": [],
   "source": [
    "\n",
    "import os\n",
    "from datetime import datetime\n",
    "import time\n",
    "import papermill as pm\n",
    "from IPython.lib.pretty import pprint\n",
    "import pandas as pd\n",
    "import matplotlib.pyplot as plt"
   ]
  },
  {
   "cell_type": "markdown",
   "metadata": {},
   "source": [
    "## Set Instance Parameters"
   ]
  },
  {
   "cell_type": "code",
   "execution_count": 2,
   "metadata": {
    "pycharm": {
     "name": "#%%\n"
    }
   },
   "outputs": [],
   "source": [
    "commit = \"Got something new it.\"\n",
    "# give a reason for the run\n",
    "\n",
    "percode = \"2021.Q1\"\n",
    "# Data Collection Code, this controls file paths and output names\n",
    "\n",
    "run_type = 1\n",
    "#run_type =  0 - lite run with no reporting, not recommended.\n",
    "#run_type =  1 - lite run with normal reporting, default setting.\n",
    "#run_type =  2 - Heavy run with full reporting, available for audits and troubleshooting.\n",
    "\n",
    "specialchars = \"-Dev-forced\"\n",
    "# optional - add up to a 12 character code in order to mark your instance record .ipynb"
   ]
  },
  {
   "cell_type": "markdown",
   "metadata": {},
   "source": [
    "## Source file format lookup\n",
    "\n",
    "#### This is a list of file formats for each data collection.\n",
    "- x : denotes that the source files are MS Excel documents.\n",
    "- j : denotes the source files are json documents.\n",
    "- p : denotes the source files are parquet documents.\n",
    "\n"
   ]
  },
  {
   "cell_type": "code",
   "execution_count": 3,
   "metadata": {
    "pycharm": {
     "name": "#%%\n"
    }
   },
   "outputs": [],
   "source": [
    "if percode == \"2019.Q4\":\n",
    "    s_format = \"x\"\n",
    "elif percode == \"2020.Q1\":\n",
    "    s_format = \"x\"\n",
    "elif percode == \"2020.Q3\":\n",
    "    s_format = \"j\"\n",
    "elif percode == \"2020.Q4\":\n",
    "    s_format = \"j\"\n",
    "elif percode == \"2021.Q1\":\n",
    "    s_format = \"p\""
   ]
  },
  {
   "cell_type": "markdown",
   "metadata": {},
   "source": [
    "## Record the datetimestamp for the instance"
   ]
  },
  {
   "cell_type": "code",
   "execution_count": 4,
   "metadata": {
    "pycharm": {
     "name": "#%%\n"
    }
   },
   "outputs": [],
   "source": [
    "inst_datetime = datetime.now().strftime(\"%m%d%Y%H%M%S\")\n",
    "# a single datetime stamp for the full instance run"
   ]
  },
  {
   "cell_type": "markdown",
   "metadata": {},
   "source": [
    "## set the instance archive folder"
   ]
  },
  {
   "cell_type": "code",
   "execution_count": 5,
   "metadata": {
    "pycharm": {
     "name": "#%%\n"
    }
   },
   "outputs": [],
   "source": [
    "instances = f\"//hecate/Insurance_US/Product Development/Product Management/\"\\\n",
    "             f\"Global PPM/Reporting/Data Collection/Production/{percode}/instances\""
   ]
  },
  {
   "cell_type": "markdown",
   "metadata": {},
   "source": [
    "## style settings"
   ]
  },
  {
   "cell_type": "code",
   "execution_count": 6,
   "metadata": {},
   "outputs": [],
   "source": [
    "from IPython.core.interactiveshell import InteractiveShell\n",
    "InteractiveShell.ast_node_interactivity = \"all\""
   ]
  },
  {
   "cell_type": "markdown",
   "metadata": {},
   "source": [
    "## Read the source files, append to create initial .csv."
   ]
  },
  {
   "cell_type": "code",
   "execution_count": 7,
   "metadata": {},
   "outputs": [
    {
     "data": {
      "text/plain": "HBox(children=(FloatProgress(value=0.0, description='Executing', max=49.0, style=ProgressStyle(description_wid…",
      "application/vnd.jupyter.widget-view+json": {
       "version_major": 2,
       "version_minor": 0,
       "model_id": "aad43b81a3f14c949abcdfb2a91df628"
      }
     },
     "metadata": {},
     "output_type": "display_data"
    },
    {
     "name": "stdout",
     "output_type": "stream",
     "text": [
      "\n"
     ]
    }
   ],
   "source": [
    "nb = pm.execute_notebook( 'prep.ipynb', os.path.join( instances, f'prep{inst_datetime}-{specialchars}.ipynb' ),\n",
    "                          {'run_control': run_type, 'percode': percode,\n",
    "                           'commit_message': commit, 'inst_datetime' : inst_datetime, 'source_type' : s_format } )"
   ]
  },
  {
   "cell_type": "markdown",
   "metadata": {},
   "source": [
    "### Output Summary"
   ]
  },
  {
   "cell_type": "code",
   "execution_count": 8,
   "metadata": {},
   "outputs": [
    {
     "data": {
      "text/plain": "          Filename  Size        Last Modified\n0  2021.Q1prep.csv   9.1  2021-05-16 15:46:58",
      "text/html": "<div>\n<style scoped>\n    .dataframe tbody tr th:only-of-type {\n        vertical-align: middle;\n    }\n\n    .dataframe tbody tr th {\n        vertical-align: top;\n    }\n\n    .dataframe thead th {\n        text-align: right;\n    }\n</style>\n<table border=\"1\" class=\"dataframe\">\n  <thead>\n    <tr style=\"text-align: right;\">\n      <th></th>\n      <th>Filename</th>\n      <th>Size</th>\n      <th>Last Modified</th>\n    </tr>\n  </thead>\n  <tbody>\n    <tr>\n      <th>0</th>\n      <td>2021.Q1prep.csv</td>\n      <td>9.1</td>\n      <td>2021-05-16 15:46:58</td>\n    </tr>\n  </tbody>\n</table>\n</div>"
     },
     "execution_count": 8,
     "metadata": {},
     "output_type": "execute_result"
    },
    {
     "data": {
      "text/plain": "Reporting Date From                       2019-04-01 2021-01-01           \nReporting Date To                         2020-03-31 2020-03-31 2021-03-31\nCountry Submission File                                                   \nAT      us_dat_nz+_05142021114427.parquet          0          0      64026\n        us_dat_nz+_05162021153809.parquet          0          0      64026\nAU      us_dat_nz+_05142021114427.parquet          0          0    2149386\n        us_dat_nz+_05162021153809.parquet          0          0    2149386\nBG      us_dat_nz+_05142021114427.parquet          0          0       6864\n        us_dat_nz+_05162021153809.parquet          0          0       6864\nCA      us_dat_nz+_05142021114427.parquet          0          0     264773\n        us_dat_nz+_05162021153809.parquet          0          0     264773\nCH      us_dat_nz+_05142021114427.parquet          0          0      24719\n        us_dat_nz+_05162021153809.parquet          0          0      24719\nCN      us_dat_nz+_05142021114427.parquet          0          0    1527912\n        us_dat_nz+_05162021153809.parquet          0          0    1527912\nCZ      us_dat_nz+_05142021114427.parquet          0          0    1195970\n        us_dat_nz+_05162021153809.parquet          0          0    1195970\nDE      us_dat_nz+_05142021114427.parquet          0          0    2986862\n        us_dat_nz+_05162021153809.parquet          0          0    2986862\nDK      us_dat_nz+_05142021114427.parquet          0          0      62014\n        us_dat_nz+_05162021153809.parquet          0          0      62014\nES      us_dat_nz+_05142021114427.parquet          0          0      45747\n        us_dat_nz+_05162021153809.parquet          0          0      45747\nFOS     us_dat_nz+_05142021114427.parquet          0          0    4314303\n        us_dat_nz+_05162021153809.parquet          0          0    4314303\nFR      us_dat_nz+_05142021114427.parquet          0          0     301437\n        us_dat_nz+_05162021153809.parquet          0          0     301437\nGR      us_dat_nz+_05142021114427.parquet          0          0     297635\n        us_dat_nz+_05162021153809.parquet          0          0     297635\nHK      us_dat_nz+_05142021114427.parquet          0          0     203424\n        us_dat_nz+_05162021153809.parquet          0          0     203424\nHU      us_dat_nz+_05142021114427.parquet          0          0       1484\n        us_dat_nz+_05162021153809.parquet          0          0       1484\nIS      us_dat_nz+_05142021114427.parquet          0          0      57707\n        us_dat_nz+_05162021153809.parquet          0          0      57707\nIT      us_dat_nz+_05142021114427.parquet          0          0     692913\n        us_dat_nz+_05162021153809.parquet          0          0     692913\nNL      us_dat_nz+_05142021114427.parquet          0          0     245760\n        us_dat_nz+_05162021153809.parquet          0          0     245760\nNO      us_dat_nz+_05142021114427.parquet          0          0      98228\n        us_dat_nz+_05162021153809.parquet          0          0      98228\nNZ      us_dat_nz+_05142021114427.parquet          0          0     907751\n        us_dat_nz+_05162021153809.parquet          0          0     907751\nPL      us_dat_nz+_05142021114427.parquet          0          0     403324\n        us_dat_nz+_05162021153809.parquet          0          0     403324\nPT      us_dat_nz+_05142021114427.parquet          0          0      15974\n        us_dat_nz+_05162021153809.parquet          0          0      15974\nRO      us_dat_nz+_05142021114427.parquet          0          0      67883\n        us_dat_nz+_05162021153809.parquet          0          0      67883\nSC      us_dat_nz+_05142021114427.parquet          0          0     178229\n        us_dat_nz+_05162021153809.parquet          0          0     178229\nSE      us_dat_nz+_05142021114427.parquet          0          0     141809\n        us_dat_nz+_05162021153809.parquet          0          0     141809\nSG      us_dat_nz+_05142021114427.parquet          0          0      22892\n        us_dat_nz+_05162021153809.parquet          0          0      22892\nUK      us_dat_nz+_05142021114427.parquet          0          0     130699\n        us_dat_nz+_05162021153809.parquet          0          0     130699\nUS      us_dat_nz+_05142021114427.parquet          0          0      87171\n        us_dat_nz+_05162021153809.parquet          0          0      87171\n        us_dat_us_05122021094008.parquet        1351          0          0\nnan     us_dat_us_05122021094008.parquet        2331       2800          0",
      "text/html": "<div>\n<style scoped>\n    .dataframe tbody tr th:only-of-type {\n        vertical-align: middle;\n    }\n\n    .dataframe tbody tr th {\n        vertical-align: top;\n    }\n\n    .dataframe thead tr th {\n        text-align: left;\n    }\n\n    .dataframe thead tr:last-of-type th {\n        text-align: right;\n    }\n</style>\n<table border=\"1\" class=\"dataframe\">\n  <thead>\n    <tr>\n      <th></th>\n      <th>Reporting Date From</th>\n      <th>2019-04-01</th>\n      <th colspan=\"2\" halign=\"left\">2021-01-01</th>\n    </tr>\n    <tr>\n      <th></th>\n      <th>Reporting Date To</th>\n      <th>2020-03-31</th>\n      <th>2020-03-31</th>\n      <th>2021-03-31</th>\n    </tr>\n    <tr>\n      <th>Country</th>\n      <th>Submission File</th>\n      <th></th>\n      <th></th>\n      <th></th>\n    </tr>\n  </thead>\n  <tbody>\n    <tr>\n      <th rowspan=\"2\" valign=\"top\">AT</th>\n      <th>us_dat_nz+_05142021114427.parquet</th>\n      <td>0</td>\n      <td>0</td>\n      <td>64026</td>\n    </tr>\n    <tr>\n      <th>us_dat_nz+_05162021153809.parquet</th>\n      <td>0</td>\n      <td>0</td>\n      <td>64026</td>\n    </tr>\n    <tr>\n      <th rowspan=\"2\" valign=\"top\">AU</th>\n      <th>us_dat_nz+_05142021114427.parquet</th>\n      <td>0</td>\n      <td>0</td>\n      <td>2149386</td>\n    </tr>\n    <tr>\n      <th>us_dat_nz+_05162021153809.parquet</th>\n      <td>0</td>\n      <td>0</td>\n      <td>2149386</td>\n    </tr>\n    <tr>\n      <th rowspan=\"2\" valign=\"top\">BG</th>\n      <th>us_dat_nz+_05142021114427.parquet</th>\n      <td>0</td>\n      <td>0</td>\n      <td>6864</td>\n    </tr>\n    <tr>\n      <th>us_dat_nz+_05162021153809.parquet</th>\n      <td>0</td>\n      <td>0</td>\n      <td>6864</td>\n    </tr>\n    <tr>\n      <th rowspan=\"2\" valign=\"top\">CA</th>\n      <th>us_dat_nz+_05142021114427.parquet</th>\n      <td>0</td>\n      <td>0</td>\n      <td>264773</td>\n    </tr>\n    <tr>\n      <th>us_dat_nz+_05162021153809.parquet</th>\n      <td>0</td>\n      <td>0</td>\n      <td>264773</td>\n    </tr>\n    <tr>\n      <th rowspan=\"2\" valign=\"top\">CH</th>\n      <th>us_dat_nz+_05142021114427.parquet</th>\n      <td>0</td>\n      <td>0</td>\n      <td>24719</td>\n    </tr>\n    <tr>\n      <th>us_dat_nz+_05162021153809.parquet</th>\n      <td>0</td>\n      <td>0</td>\n      <td>24719</td>\n    </tr>\n    <tr>\n      <th rowspan=\"2\" valign=\"top\">CN</th>\n      <th>us_dat_nz+_05142021114427.parquet</th>\n      <td>0</td>\n      <td>0</td>\n      <td>1527912</td>\n    </tr>\n    <tr>\n      <th>us_dat_nz+_05162021153809.parquet</th>\n      <td>0</td>\n      <td>0</td>\n      <td>1527912</td>\n    </tr>\n    <tr>\n      <th rowspan=\"2\" valign=\"top\">CZ</th>\n      <th>us_dat_nz+_05142021114427.parquet</th>\n      <td>0</td>\n      <td>0</td>\n      <td>1195970</td>\n    </tr>\n    <tr>\n      <th>us_dat_nz+_05162021153809.parquet</th>\n      <td>0</td>\n      <td>0</td>\n      <td>1195970</td>\n    </tr>\n    <tr>\n      <th rowspan=\"2\" valign=\"top\">DE</th>\n      <th>us_dat_nz+_05142021114427.parquet</th>\n      <td>0</td>\n      <td>0</td>\n      <td>2986862</td>\n    </tr>\n    <tr>\n      <th>us_dat_nz+_05162021153809.parquet</th>\n      <td>0</td>\n      <td>0</td>\n      <td>2986862</td>\n    </tr>\n    <tr>\n      <th rowspan=\"2\" valign=\"top\">DK</th>\n      <th>us_dat_nz+_05142021114427.parquet</th>\n      <td>0</td>\n      <td>0</td>\n      <td>62014</td>\n    </tr>\n    <tr>\n      <th>us_dat_nz+_05162021153809.parquet</th>\n      <td>0</td>\n      <td>0</td>\n      <td>62014</td>\n    </tr>\n    <tr>\n      <th rowspan=\"2\" valign=\"top\">ES</th>\n      <th>us_dat_nz+_05142021114427.parquet</th>\n      <td>0</td>\n      <td>0</td>\n      <td>45747</td>\n    </tr>\n    <tr>\n      <th>us_dat_nz+_05162021153809.parquet</th>\n      <td>0</td>\n      <td>0</td>\n      <td>45747</td>\n    </tr>\n    <tr>\n      <th rowspan=\"2\" valign=\"top\">FOS</th>\n      <th>us_dat_nz+_05142021114427.parquet</th>\n      <td>0</td>\n      <td>0</td>\n      <td>4314303</td>\n    </tr>\n    <tr>\n      <th>us_dat_nz+_05162021153809.parquet</th>\n      <td>0</td>\n      <td>0</td>\n      <td>4314303</td>\n    </tr>\n    <tr>\n      <th rowspan=\"2\" valign=\"top\">FR</th>\n      <th>us_dat_nz+_05142021114427.parquet</th>\n      <td>0</td>\n      <td>0</td>\n      <td>301437</td>\n    </tr>\n    <tr>\n      <th>us_dat_nz+_05162021153809.parquet</th>\n      <td>0</td>\n      <td>0</td>\n      <td>301437</td>\n    </tr>\n    <tr>\n      <th rowspan=\"2\" valign=\"top\">GR</th>\n      <th>us_dat_nz+_05142021114427.parquet</th>\n      <td>0</td>\n      <td>0</td>\n      <td>297635</td>\n    </tr>\n    <tr>\n      <th>us_dat_nz+_05162021153809.parquet</th>\n      <td>0</td>\n      <td>0</td>\n      <td>297635</td>\n    </tr>\n    <tr>\n      <th rowspan=\"2\" valign=\"top\">HK</th>\n      <th>us_dat_nz+_05142021114427.parquet</th>\n      <td>0</td>\n      <td>0</td>\n      <td>203424</td>\n    </tr>\n    <tr>\n      <th>us_dat_nz+_05162021153809.parquet</th>\n      <td>0</td>\n      <td>0</td>\n      <td>203424</td>\n    </tr>\n    <tr>\n      <th rowspan=\"2\" valign=\"top\">HU</th>\n      <th>us_dat_nz+_05142021114427.parquet</th>\n      <td>0</td>\n      <td>0</td>\n      <td>1484</td>\n    </tr>\n    <tr>\n      <th>us_dat_nz+_05162021153809.parquet</th>\n      <td>0</td>\n      <td>0</td>\n      <td>1484</td>\n    </tr>\n    <tr>\n      <th rowspan=\"2\" valign=\"top\">IS</th>\n      <th>us_dat_nz+_05142021114427.parquet</th>\n      <td>0</td>\n      <td>0</td>\n      <td>57707</td>\n    </tr>\n    <tr>\n      <th>us_dat_nz+_05162021153809.parquet</th>\n      <td>0</td>\n      <td>0</td>\n      <td>57707</td>\n    </tr>\n    <tr>\n      <th rowspan=\"2\" valign=\"top\">IT</th>\n      <th>us_dat_nz+_05142021114427.parquet</th>\n      <td>0</td>\n      <td>0</td>\n      <td>692913</td>\n    </tr>\n    <tr>\n      <th>us_dat_nz+_05162021153809.parquet</th>\n      <td>0</td>\n      <td>0</td>\n      <td>692913</td>\n    </tr>\n    <tr>\n      <th rowspan=\"2\" valign=\"top\">NL</th>\n      <th>us_dat_nz+_05142021114427.parquet</th>\n      <td>0</td>\n      <td>0</td>\n      <td>245760</td>\n    </tr>\n    <tr>\n      <th>us_dat_nz+_05162021153809.parquet</th>\n      <td>0</td>\n      <td>0</td>\n      <td>245760</td>\n    </tr>\n    <tr>\n      <th rowspan=\"2\" valign=\"top\">NO</th>\n      <th>us_dat_nz+_05142021114427.parquet</th>\n      <td>0</td>\n      <td>0</td>\n      <td>98228</td>\n    </tr>\n    <tr>\n      <th>us_dat_nz+_05162021153809.parquet</th>\n      <td>0</td>\n      <td>0</td>\n      <td>98228</td>\n    </tr>\n    <tr>\n      <th rowspan=\"2\" valign=\"top\">NZ</th>\n      <th>us_dat_nz+_05142021114427.parquet</th>\n      <td>0</td>\n      <td>0</td>\n      <td>907751</td>\n    </tr>\n    <tr>\n      <th>us_dat_nz+_05162021153809.parquet</th>\n      <td>0</td>\n      <td>0</td>\n      <td>907751</td>\n    </tr>\n    <tr>\n      <th rowspan=\"2\" valign=\"top\">PL</th>\n      <th>us_dat_nz+_05142021114427.parquet</th>\n      <td>0</td>\n      <td>0</td>\n      <td>403324</td>\n    </tr>\n    <tr>\n      <th>us_dat_nz+_05162021153809.parquet</th>\n      <td>0</td>\n      <td>0</td>\n      <td>403324</td>\n    </tr>\n    <tr>\n      <th rowspan=\"2\" valign=\"top\">PT</th>\n      <th>us_dat_nz+_05142021114427.parquet</th>\n      <td>0</td>\n      <td>0</td>\n      <td>15974</td>\n    </tr>\n    <tr>\n      <th>us_dat_nz+_05162021153809.parquet</th>\n      <td>0</td>\n      <td>0</td>\n      <td>15974</td>\n    </tr>\n    <tr>\n      <th rowspan=\"2\" valign=\"top\">RO</th>\n      <th>us_dat_nz+_05142021114427.parquet</th>\n      <td>0</td>\n      <td>0</td>\n      <td>67883</td>\n    </tr>\n    <tr>\n      <th>us_dat_nz+_05162021153809.parquet</th>\n      <td>0</td>\n      <td>0</td>\n      <td>67883</td>\n    </tr>\n    <tr>\n      <th rowspan=\"2\" valign=\"top\">SC</th>\n      <th>us_dat_nz+_05142021114427.parquet</th>\n      <td>0</td>\n      <td>0</td>\n      <td>178229</td>\n    </tr>\n    <tr>\n      <th>us_dat_nz+_05162021153809.parquet</th>\n      <td>0</td>\n      <td>0</td>\n      <td>178229</td>\n    </tr>\n    <tr>\n      <th rowspan=\"2\" valign=\"top\">SE</th>\n      <th>us_dat_nz+_05142021114427.parquet</th>\n      <td>0</td>\n      <td>0</td>\n      <td>141809</td>\n    </tr>\n    <tr>\n      <th>us_dat_nz+_05162021153809.parquet</th>\n      <td>0</td>\n      <td>0</td>\n      <td>141809</td>\n    </tr>\n    <tr>\n      <th rowspan=\"2\" valign=\"top\">SG</th>\n      <th>us_dat_nz+_05142021114427.parquet</th>\n      <td>0</td>\n      <td>0</td>\n      <td>22892</td>\n    </tr>\n    <tr>\n      <th>us_dat_nz+_05162021153809.parquet</th>\n      <td>0</td>\n      <td>0</td>\n      <td>22892</td>\n    </tr>\n    <tr>\n      <th rowspan=\"2\" valign=\"top\">UK</th>\n      <th>us_dat_nz+_05142021114427.parquet</th>\n      <td>0</td>\n      <td>0</td>\n      <td>130699</td>\n    </tr>\n    <tr>\n      <th>us_dat_nz+_05162021153809.parquet</th>\n      <td>0</td>\n      <td>0</td>\n      <td>130699</td>\n    </tr>\n    <tr>\n      <th rowspan=\"3\" valign=\"top\">US</th>\n      <th>us_dat_nz+_05142021114427.parquet</th>\n      <td>0</td>\n      <td>0</td>\n      <td>87171</td>\n    </tr>\n    <tr>\n      <th>us_dat_nz+_05162021153809.parquet</th>\n      <td>0</td>\n      <td>0</td>\n      <td>87171</td>\n    </tr>\n    <tr>\n      <th>us_dat_us_05122021094008.parquet</th>\n      <td>1351</td>\n      <td>0</td>\n      <td>0</td>\n    </tr>\n    <tr>\n      <th>nan</th>\n      <th>us_dat_us_05122021094008.parquet</th>\n      <td>2331</td>\n      <td>2800</td>\n      <td>0</td>\n    </tr>\n  </tbody>\n</table>\n</div>"
     },
     "execution_count": 8,
     "metadata": {},
     "output_type": "execute_result"
    }
   ],
   "source": [
    "rt_path = f'//hecate/Insurance_US/Product Development/Product Management/Global PPM/Reporting/Data Collection/Production/{str(percode)}'\n",
    "\n",
    "prepfile = f\"{percode}prep.csv\"\n",
    "\n",
    "prepcsv = os.path.join(str(rt_path), prepfile)\n",
    "\n",
    "cols = [\"Filename\", \"Size\", \"Last Modified\" ]\n",
    "file_info_df = pd.DataFrame(columns = cols)\n",
    "\n",
    "name = f\"{percode}prep.csv\"\n",
    "size = round((os.path.getsize(prepcsv) /1000000),1)  # size in MB\n",
    "moddate = os.path.getctime(prepcsv)# time of last metadata change;\n",
    "moddate =  datetime.fromtimestamp(moddate).strftime('%Y-%m-%d %H:%M:%S')# format change;\n",
    "new_row = pd.DataFrame([[name, size, moddate]], columns = cols)\n",
    "file_info_df = file_info_df.append(new_row, ignore_index=True)\n",
    "\n",
    "\n",
    "%store -r prep_df\n",
    "\n",
    "df = prep_df\n",
    "\n",
    "df[\"Earned Revenues net of Taxes\"] = df[\"Earned Revenues net of Taxes\"].astype(float)\n",
    "\n",
    "file_info_df\n",
    "\n",
    "dfp = (df.pivot_table(index=( \"Country\", \"Submission File\"), columns=(\"Reporting Date From\",\"Reporting Date To\" ), values=\"Earned Revenues net of Taxes\").fillna(0).astype(int))\n",
    "\n",
    "dfp\n"
   ]
  },
  {
   "cell_type": "markdown",
   "metadata": {},
   "source": [
    "## Read the prep file into the pipeline."
   ]
  },
  {
   "cell_type": "code",
   "execution_count": 9,
   "metadata": {
    "pycharm": {
     "name": "#%%\n"
    }
   },
   "outputs": [
    {
     "data": {
      "text/plain": "HBox(children=(FloatProgress(value=0.0, description='Executing', max=27.0, style=ProgressStyle(description_wid…",
      "application/vnd.jupyter.widget-view+json": {
       "version_major": 2,
       "version_minor": 0,
       "model_id": "9cf7ab668bee438bbbc6e234096b8eb3"
      }
     },
     "metadata": {},
     "output_type": "display_data"
    },
    {
     "name": "stdout",
     "output_type": "stream",
     "text": [
      "\n"
     ]
    }
   ],
   "source": [
    "nb = pm.execute_notebook( 'read_dc.ipynb', os.path.join( instances, f'read_dc{inst_datetime}-{specialchars}.ipynb' ),\n",
    "                          {'run_control': run_type, 'percode': percode,\n",
    "                           'commit_message': commit, 'inst_datetime' : inst_datetime } )"
   ]
  },
  {
   "cell_type": "markdown",
   "metadata": {},
   "source": [
    "### Output Summary"
   ]
  },
  {
   "cell_type": "code",
   "execution_count": 10,
   "metadata": {},
   "outputs": [
    {
     "data": {
      "text/plain": "<BarContainer object of 20 artists>"
     },
     "execution_count": 10,
     "metadata": {},
     "output_type": "execute_result"
    },
    {
     "data": {
      "text/plain": "Text(0.5, 1.0, 'Earned Revenue net of Taxes by BU in thousands LC')"
     },
     "execution_count": 10,
     "metadata": {},
     "output_type": "execute_result"
    },
    {
     "data": {
      "text/plain": "<Figure size 432x288 with 1 Axes>",
      "image/png": "[encoded data removed]"
     },
     "metadata": {
      "needs_background": "light"
     },
     "output_type": "display_data"
    },
    {
     "data": {
      "text/plain": "<BarContainer object of 20 artists>"
     },
     "execution_count": 10,
     "metadata": {},
     "output_type": "execute_result"
    },
    {
     "data": {
      "text/plain": "Text(0.5, 1.0, 'Row Counts by BU')"
     },
     "execution_count": 10,
     "metadata": {},
     "output_type": "execute_result"
    },
    {
     "data": {
      "text/plain": "<Figure size 432x288 with 1 Axes>",
      "image/png": "[encoded data removed]"
     },
     "metadata": {
      "needs_background": "light"
     },
     "output_type": "display_data"
    }
   ],
   "source": [
    "tempfile = f\"{percode}.parquet\"\n",
    "\n",
    "prepcsv = os.path.join(str(rt_path), tempfile)\n",
    "\n",
    "%store -r read_dc_df\n",
    "df = read_dc_df\n",
    "\n",
    "if run_type > 0:\n",
    "\n",
    "    sumdata = df.groupby(['Business Unit']).sum()\n",
    "    sumdata = sumdata.reset_index()\n",
    "    plt.bar(sumdata['Business Unit'], sumdata['Earned Revenues net of Taxes']/1000)\n",
    "    plt.title('Earned Revenue net of Taxes by BU in thousands LC')\n",
    "    plt.show()\n",
    "\n",
    "    countdata = df.groupby(['Business Unit']).count()\n",
    "    countdata = countdata.reset_index()\n",
    "    plt.bar(countdata['Business Unit'], countdata['Earned Revenues net of Taxes'])\n",
    "    plt.title('Row Counts by BU')\n",
    "    plt.show()\n",
    "\n",
    "else:\n",
    "    print(\"Charts Skipped\")"
   ]
  },
  {
   "cell_type": "markdown",
   "metadata": {},
   "source": [
    "## Read initial .csv, make transformations in python, output to {percode}.localcur.parquet"
   ]
  },
  {
   "cell_type": "code",
   "execution_count": 11,
   "metadata": {
    "pycharm": {
     "name": "#%%\n"
    }
   },
   "outputs": [
    {
     "data": {
      "text/plain": "HBox(children=(FloatProgress(value=0.0, description='Executing', max=52.0, style=ProgressStyle(description_wid…",
      "application/vnd.jupyter.widget-view+json": {
       "version_major": 2,
       "version_minor": 0,
       "model_id": "774bccd21e3c4ea09ed617c9f69bbd33"
      }
     },
     "metadata": {},
     "output_type": "display_data"
    },
    {
     "name": "stdout",
     "output_type": "stream",
     "text": [
      "\n"
     ]
    }
   ],
   "source": [
    "nb = pm.execute_notebook( 'py_transform.ipynb', os.path.join( instances, f'py_transform{inst_datetime}-{specialchars}.ipynb' ),\n",
    "                          {'run_control': run_type, 'percode': percode,\n",
    "                           'commit_message': commit, 'inst_datetime' : inst_datetime  } )"
   ]
  },
  {
   "cell_type": "markdown",
   "metadata": {},
   "source": [
    "### Output Summary"
   ]
  },
  {
   "cell_type": "code",
   "execution_count": 12,
   "metadata": {},
   "outputs": [
    {
     "data": {
      "text/plain": "<BarContainer object of 20 artists>"
     },
     "execution_count": 12,
     "metadata": {},
     "output_type": "execute_result"
    },
    {
     "data": {
      "text/plain": "Text(0.5, 1.0, 'Earned Revenue net of Taxes by BU in thousands LC')"
     },
     "execution_count": 12,
     "metadata": {},
     "output_type": "execute_result"
    },
    {
     "data": {
      "text/plain": "<Figure size 432x288 with 1 Axes>",
      "image/png": "[encoded data removed]"
     },
     "metadata": {
      "needs_background": "light"
     },
     "output_type": "display_data"
    },
    {
     "data": {
      "text/plain": "<BarContainer object of 20 artists>"
     },
     "execution_count": 12,
     "metadata": {},
     "output_type": "execute_result"
    },
    {
     "data": {
      "text/plain": "Text(0.5, 1.0, 'Row Counts by BU')"
     },
     "execution_count": 12,
     "metadata": {},
     "output_type": "execute_result"
    },
    {
     "data": {
      "text/plain": "<Figure size 432x288 with 1 Axes>",
      "image/png": "[encoded data removed]"
     },
     "metadata": {
      "needs_background": "light"
     },
     "output_type": "display_data"
    }
   ],
   "source": [
    "tempfile = f\"{percode}.localcur.parquet\"\n",
    "\n",
    "prepcsv = os.path.join(str(rt_path), tempfile)\n",
    "\n",
    "%store -r py_t_df\n",
    "df = py_t_df\n",
    "\n",
    "\n",
    "if run_type > 0:\n",
    "\n",
    "    sumdata = df.groupby(['business_unit']).sum()\n",
    "    sumdata = sumdata.reset_index()\n",
    "    plt.bar(sumdata['business_unit'], sumdata['earned_revenues_net_of_taxes']/1000)\n",
    "    plt.title('Earned Revenue net of Taxes by BU in thousands LC')\n",
    "    plt.show()\n",
    "\n",
    "    countdata = df.groupby(['business_unit']).count()\n",
    "    countdata = countdata.reset_index()\n",
    "    plt.bar(countdata['business_unit'], countdata['earned_revenues_net_of_taxes'])\n",
    "    plt.title('Row Counts by BU')\n",
    "    plt.show()\n",
    "\n",
    "else:\n",
    "    print(\"Charts Skipped\")"
   ]
  },
  {
   "cell_type": "markdown",
   "metadata": {},
   "source": [
    "## Read {percode}.localcur.parquet make transfomrations in r , output to {percode}.localcur.parquet"
   ]
  },
  {
   "cell_type": "code",
   "execution_count": 13,
   "metadata": {
    "pycharm": {
     "name": "#%%\n"
    }
   },
   "outputs": [
    {
     "data": {
      "text/plain": "HBox(children=(FloatProgress(value=0.0, description='Executing', max=20.0, style=ProgressStyle(description_wid…",
      "application/vnd.jupyter.widget-view+json": {
       "version_major": 2,
       "version_minor": 0,
       "model_id": "ee3f31de01a94144bb9e7b8ad9e8a199"
      }
     },
     "metadata": {},
     "output_type": "display_data"
    },
    {
     "name": "stdout",
     "output_type": "stream",
     "text": [
      "\n"
     ]
    }
   ],
   "source": [
    "nb = pm.execute_notebook( 'r_transform.ipynb', os.path.join( instances, f'r_transform{inst_datetime}-{specialchars}.ipynb' ),\n",
    "                          {'run_control': run_type, 'percode': percode,\n",
    "                           'commit_message': commit, 'inst_datetime' : inst_datetime  } )"
   ]
  },
  {
   "cell_type": "markdown",
   "metadata": {
    "pycharm": {
     "name": "#%% md\n"
    }
   },
   "source": [
    "## Read {percode}.localcur.parquet, output to {percode}.localcur.csv, make Euro fx conversions, output to {percode}.euroconv.csv"
   ]
  },
  {
   "cell_type": "code",
   "execution_count": 14,
   "metadata": {
    "pycharm": {
     "name": "#%%\n"
    }
   },
   "outputs": [
    {
     "data": {
      "text/plain": "HBox(children=(FloatProgress(value=0.0, description='Executing', max=29.0, style=ProgressStyle(description_wid…",
      "application/vnd.jupyter.widget-view+json": {
       "version_major": 2,
       "version_minor": 0,
       "model_id": "c39e82cfaa5e45819d2082bc3c1a4ea1"
      }
     },
     "metadata": {},
     "output_type": "display_data"
    },
    {
     "name": "stdout",
     "output_type": "stream",
     "text": [
      "\n"
     ]
    }
   ],
   "source": [
    "nb = pm.execute_notebook( 'make_output.ipynb', os.path.join( instances, f'make_output{inst_datetime}-{specialchars}.ipynb' ),\n",
    "                          {'run_control': run_type, 'percode': percode,\n",
    "                           'commit_message': commit, 'inst_datetime' : inst_datetime  } )\n"
   ]
  },
  {
   "cell_type": "code",
   "execution_count": 15,
   "metadata": {},
   "outputs": [
    {
     "name": "stdout",
     "output_type": "stream",
     "text": [
      "Pipeline has run successfully.\n"
     ]
    },
    {
     "data": {
      "text/plain": "              Filename  Size        Last Modified\n0  2021.Q1localcur.csv   9.5  2021-04-27 15:07:53",
      "text/html": "<div>\n<style scoped>\n    .dataframe tbody tr th:only-of-type {\n        vertical-align: middle;\n    }\n\n    .dataframe tbody tr th {\n        vertical-align: top;\n    }\n\n    .dataframe thead th {\n        text-align: right;\n    }\n</style>\n<table border=\"1\" class=\"dataframe\">\n  <thead>\n    <tr style=\"text-align: right;\">\n      <th></th>\n      <th>Filename</th>\n      <th>Size</th>\n      <th>Last Modified</th>\n    </tr>\n  </thead>\n  <tbody>\n    <tr>\n      <th>0</th>\n      <td>2021.Q1localcur.csv</td>\n      <td>9.5</td>\n      <td>2021-04-27 15:07:53</td>\n    </tr>\n  </tbody>\n</table>\n</div>"
     },
     "execution_count": 15,
     "metadata": {},
     "output_type": "execute_result"
    },
    {
     "data": {
      "text/plain": "              Filename  Size        Last Modified\n0  2021.Q1euroconv.csv  11.4  2021-04-27 15:07:52",
      "text/html": "<div>\n<style scoped>\n    .dataframe tbody tr th:only-of-type {\n        vertical-align: middle;\n    }\n\n    .dataframe tbody tr th {\n        vertical-align: top;\n    }\n\n    .dataframe thead th {\n        text-align: right;\n    }\n</style>\n<table border=\"1\" class=\"dataframe\">\n  <thead>\n    <tr style=\"text-align: right;\">\n      <th></th>\n      <th>Filename</th>\n      <th>Size</th>\n      <th>Last Modified</th>\n    </tr>\n  </thead>\n  <tbody>\n    <tr>\n      <th>0</th>\n      <td>2021.Q1euroconv.csv</td>\n      <td>11.4</td>\n      <td>2021-04-27 15:07:52</td>\n    </tr>\n  </tbody>\n</table>\n</div>"
     },
     "execution_count": 15,
     "metadata": {},
     "output_type": "execute_result"
    }
   ],
   "source": [
    "lfile = f'//hecate/Insurance_US/Product Development/Product Management/Global PPM/Reporting/Data Collection/Production/{str(percode)}\\\\{str(percode)}.localcur.csv'\n",
    "efile =  f'//hecate/Insurance_US/Product Development/Product Management/Global PPM/Reporting/Data Collection/Production/{str(percode)}\\\\{str(percode)}.euroconv.csv'\n",
    "\n",
    "cols = [\"Filename\", \"Size\", \"Last Modified\" ]\n",
    "file_info_df = pd.DataFrame(columns = cols)\n",
    "\n",
    "name = f\"{percode}localcur.csv\"\n",
    "size = round((os.path.getsize(lfile) /1000000),1)  # size in MB\n",
    "moddate = os.path.getctime(lfile)# time of last metadata change;\n",
    "moddate =  datetime.fromtimestamp(moddate).strftime('%Y-%m-%d %H:%M:%S')# format change;\n",
    "new_row = pd.DataFrame([[name, size, moddate]], columns = cols)\n",
    "l_file_info_df = file_info_df.append(new_row, ignore_index=True)\n",
    "\n",
    "name = f\"{percode}euroconv.csv\"\n",
    "size = round((os.path.getsize(efile) /1000000),1)  # size in MB\n",
    "moddate = os.path.getctime(efile)# time of last metadata change;\n",
    "moddate =  datetime.fromtimestamp(moddate).strftime('%Y-%m-%d %H:%M:%S')# format change;\n",
    "new_row = pd.DataFrame([[name, size, moddate]], columns = cols)\n",
    "e_file_info_df = file_info_df.append(new_row, ignore_index=True)\n",
    "\n",
    "\n",
    "print(\"Pipeline has run successfully.\")\n",
    "l_file_info_df\n",
    "e_file_info_df\n"
   ]
  },
  {
   "cell_type": "code",
   "execution_count": 15,
   "metadata": {},
   "outputs": [],
   "source": []
  },
  {
   "cell_type": "code",
   "execution_count": 15,
   "metadata": {},
   "outputs": [],
   "source": []
  }
 ],
 "metadata": {
  "kernelspec": {
   "display_name": "Python 3",
   "language": "python",
   "name": "python3"
  },
  "language_info": {
   "codemirror_mode": {
    "name": "ipython",
    "version": 3
   },
   "file_extension": ".py",
   "mimetype": "text/x-python",
   "name": "python",
   "nbconvert_exporter": "python",
   "pygments_lexer": "ipython3",
   "version": "3.7.6"
  }
 },
 "nbformat": 4,
 "nbformat_minor": 1
}