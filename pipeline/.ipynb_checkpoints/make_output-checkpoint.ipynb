{
 "cells": [
  {
   "cell_type": "markdown",
   "metadata": {
    "pycharm": {
     "name": "#%% md\n"
    }
   },
   "source": [
    "<img src=\"../images/AzPTravel_PPM.png\">"
   ]
  },
  {
   "cell_type": "markdown",
   "metadata": {},
   "source": [
    "## GPM Pipeline Output maker\n",
    "\n",
    "#### This script\n",
    "- loads the transformed parquet file\n",
    "- creates the file {parquet}.localcur.csv\n",
    "- makes the Euro conversions\n",
    "- outputs {parquet}.euroconv.csv\n"
   ]
  },
  {
   "cell_type": "markdown",
   "metadata": {},
   "source": [
    "#### Parameters section"
   ]
  },
  {
   "cell_type": "code",
   "execution_count": 1,
   "metadata": {
    "pycharm": {
     "name": "#%%\n"
    },
    "tags": [
     "parameters"
    ]
   },
   "outputs": [],
   "source": [
    "commit = \"\"\n",
    "# give a reason for the run\n",
    "\n",
    "percode = \"20XX.QX\"\n",
    "# Data Collection Code, this controls file paths and output names\n",
    "\n",
    "run_type = 1\n",
    "#run_type =  0 - lite run with no reporting, not recommended.\n",
    "#run_type =  1 - lite run with normal reporting, default setting.\n",
    "#run_type =  2 - Heavy run with full reporting, available for audits and troubleshooting.\n",
    "\n",
    "specialchars = \"-GTHtest\"\n",
    "# optional - add up to a 12 character code in order to mark your instance record .ipynb\n",
    "\n",
    "from datetime import datetime\n",
    "inst_datetime = datetime.now().strftime(\"%m%d%Y%H%M%S\")\n",
    "# a single datetime stamp for the full instance run\n"
   ]
  },
  {
   "cell_type": "markdown",
   "metadata": {},
   "source": [
    "### Set Run Control\n",
    "\n",
    "##### 0 - lite run with no reporting, not recommended.\n",
    "##### 1 - lite run with normal reporting, default setting.\n",
    "##### 2 - Heavy run with full reporting, available for audits and troubleshooting."
   ]
  },
  {
   "cell_type": "code",
   "execution_count": 2,
   "metadata": {
    "pycharm": {
     "name": "#%%\n"
    }
   },
   "outputs": [],
   "source": [
    "run_control = 0 # in development mode"
   ]
  },
  {
   "cell_type": "markdown",
   "metadata": {},
   "source": [
    "#### Packages used"
   ]
  },
  {
   "cell_type": "code",
   "execution_count": 3,
   "metadata": {
    "pycharm": {
     "name": "#%%\n"
    }
   },
   "outputs": [],
   "source": [
    "import sys\n",
    "import os\n",
    "import pandas as pd"
   ]
  },
  {
   "cell_type": "code",
   "execution_count": 4,
   "metadata": {
    "pycharm": {
     "name": "#%%\n"
    }
   },
   "outputs": [],
   "source": [
    "default_DC = \"2021.Q1\"\n",
    "\n",
    "try:\n",
    "    if sys.argv[1] == \"-f\":\n",
    "        percode = default_DC\n",
    "    else:\n",
    "        percode = sys.argv[1]\n",
    "\n",
    "except IndexError:\n",
    "    percode = default_DC\n",
    "except NameError:\n",
    "    percode = default_DC"
   ]
  },
  {
   "cell_type": "markdown",
   "metadata": {},
   "source": [
    "#### Convert paths and files to variables.\n",
    "#### Read data into pd DataFrames.\n",
    "#### Make paths for the live sources."
   ]
  },
  {
   "cell_type": "code",
   "execution_count": 5,
   "metadata": {
    "pycharm": {
     "name": "#%%\n"
    }
   },
   "outputs": [],
   "source": [
    "rt_path = f'//hecate/Insurance_US/Product Development/Product Manag' \\\n",
    "          f'ement/Global PPM/Reporting/Data Collection/Production/{str(percode)}'\n",
    "tempfile = os.path.join(rt_path, f'{str(percode)}.localcur.parquet')\n",
    "gppm_file = os.path.join(rt_path, f'GPPM_Input_{str(percode)}.xlsx')"
   ]
  },
  {
   "cell_type": "markdown",
   "metadata": {},
   "source": [
    "#### Read source"
   ]
  },
  {
   "cell_type": "code",
   "execution_count": 6,
   "metadata": {
    "pycharm": {
     "name": "#%%\n"
    }
   },
   "outputs": [
    {
     "name": "stdout",
     "output_type": "stream",
     "text": [
      "     business_unit                    submission_file country currency  \\\n",
      "0               AT  us_dat_nz+_05142021114427.parquet      AT      EUR   \n",
      "1               AT  us_dat_nz+_05142021114427.parquet      AT      EUR   \n",
      "2               AT  us_dat_nz+_05142021114427.parquet      AT      EUR   \n",
      "3               AT  us_dat_nz+_05142021114427.parquet      AT      EUR   \n",
      "4               AT  us_dat_nz+_05142021114427.parquet      AT      EUR   \n",
      "...            ...                                ...     ...      ...   \n",
      "5525            US   us_dat_us_05122021094708.parquet      US      USD   \n",
      "5526            US   us_dat_us_05122021094708.parquet      US      USD   \n",
      "5527            US   us_dat_us_05122021094708.parquet      US      USD   \n",
      "5528            US   us_dat_us_05122021094708.parquet      US      USD   \n",
      "5529            US   us_dat_us_05122021094708.parquet      US      USD   \n",
      "\n",
      "                               region reporting_date_from reporting_date_to  \\\n",
      "0     North, Central & Eastern Europe          2021-01-01        2021-03-31   \n",
      "1     North, Central & Eastern Europe          2021-01-01        2021-03-31   \n",
      "2     North, Central & Eastern Europe          2021-01-01        2021-03-31   \n",
      "3     North, Central & Eastern Europe          2021-01-01        2021-03-31   \n",
      "4     North, Central & Eastern Europe          2021-01-01        2021-03-31   \n",
      "...                               ...                 ...               ...   \n",
      "5525                    North America          2019-04-01        2020-03-31   \n",
      "5526                    North America          2019-04-01        2020-03-31   \n",
      "5527                    North America          2019-04-01        2020-03-31   \n",
      "5528                    North America          2019-04-01        2020-03-31   \n",
      "5529                    North America          2019-04-01        2020-03-31   \n",
      "\n",
      "     date_of_analysis         type_of_analysis  analysed_months  ...  ibnrsub  \\\n",
      "0          2020-04-21             Year To Date               12  ...     0.17   \n",
      "1          2020-04-21             Year To Date               12  ...     0.00   \n",
      "2          2020-04-21             Year To Date               12  ...     0.00   \n",
      "3          2020-04-21             Year To Date               12  ...     0.33   \n",
      "4          2020-04-21             Year To Date               12  ...     0.26   \n",
      "...               ...                      ...              ...  ...      ...   \n",
      "5525       2019-03-01  Most Recently 12 Months               12  ...     0.00   \n",
      "5526       2019-03-01  Most Recently 12 Months               12  ...     0.00   \n",
      "5527       2019-03-01  Most Recently 12 Months               12  ...     0.00   \n",
      "5528       2019-03-01  Most Recently 12 Months               12  ...     0.00   \n",
      "5529       2019-03-01  Most Recently 12 Months               12  ...     0.00   \n",
      "\n",
      "      reporting_date_to_int  date_of_analysis_int  \\\n",
      "0                  20210331              20200421   \n",
      "1                  20210331              20200421   \n",
      "2                  20210331              20200421   \n",
      "3                  20210331              20200421   \n",
      "4                  20210331              20200421   \n",
      "...                     ...                   ...   \n",
      "5525               20200331              20190301   \n",
      "5526               20200331              20190301   \n",
      "5527               20200331              20190301   \n",
      "5528               20200331              20190301   \n",
      "5529               20200331              20190301   \n",
      "\n",
      "                         selected_fields_for_duplicates unnamed:_66  \\\n",
      "0     ATInsuranceLocalB2B2CTravelall BPsAT Buspaket ...         0.0   \n",
      "1     ATInsuranceLocalB2B2CTravelall BPsAT Jahressch...         0.0   \n",
      "2     ATInsuranceLocalB2B2CTravelAirlines + some loc...         0.0   \n",
      "3     ATInsuranceLocalB2B2CTravelall BPsAT Storno cl...         0.0   \n",
      "4     ATInsuranceLocalB2B2CTravelall BPsRO Reiseschu...         0.0   \n",
      "...                                                 ...         ...   \n",
      "5525  USInsuranceLocalB2B2CTravelOffline Travel Agen...         0.0   \n",
      "5526  USInsuranceLocalB2B2CTravelOffline Travel Agen...         0.0   \n",
      "5527  USInsuranceLocalB2B2CTravelOffline Travel Agen...         0.0   \n",
      "5528  USInsuranceLocalB2B2CTravelOffline Travel Agen...         0.0   \n",
      "5529  USInsuranceLocalB2B2CTravelOffline Travel Agen...         0.0   \n",
      "\n",
      "       rep_date __index_level_0__       bu_descr month_of_analysis_max  \\\n",
      "0    2021-03-31               439        Austria              2020 Apr   \n",
      "1    2021-03-31               440        Austria              2020 Apr   \n",
      "2    2021-03-31               441        Austria              2020 Apr   \n",
      "3    2021-03-31               442        Austria              2020 Apr   \n",
      "4    2021-03-31               443        Austria              2020 Apr   \n",
      "...         ...               ...            ...                   ...   \n",
      "5525 2021-03-31              5789  United States              2020 Apr   \n",
      "5526 2021-03-31              5790  United States              2020 Apr   \n",
      "5527 2021-03-31              5791  United States              2020 Apr   \n",
      "5528 2021-03-31              5792  United States              2020 Apr   \n",
      "5529 2021-03-31              5793  United States              2020 Apr   \n",
      "\n",
      "          reporting_period  \n",
      "0     2021 Jan to 2021 Mar  \n",
      "1     2021 Jan to 2021 Mar  \n",
      "2     2021 Jan to 2021 Mar  \n",
      "3     2021 Jan to 2021 Mar  \n",
      "4     2021 Jan to 2021 Mar  \n",
      "...                    ...  \n",
      "5525  2019 Apr to 2020 Mar  \n",
      "5526  2019 Apr to 2020 Mar  \n",
      "5527  2019 Apr to 2020 Mar  \n",
      "5528  2019 Apr to 2020 Mar  \n",
      "5529  2019 Apr to 2020 Mar  \n",
      "\n",
      "[5530 rows x 81 columns]\n"
     ]
    }
   ],
   "source": [
    "mo_input = pd.read_parquet(tempfile, engine='pyarrow')\n",
    "\n",
    "print(mo_input)"
   ]
  },
  {
   "cell_type": "markdown",
   "metadata": {},
   "source": [
    "#### Output local currency csv"
   ]
  },
  {
   "cell_type": "code",
   "execution_count": null,
   "metadata": {
    "pycharm": {
     "is_executing": true,
     "name": "#%%\n"
    }
   },
   "outputs": [],
   "source": [
    "mo_input.to_csv(f'//hecate/Insurance_US/Product Development/Product Management/Global PPM/Reporting/Data Collection/Production/{str(percode)}\\\\{str(percode)}.localcur.csv', ',', index=False, encoding='utf-8-sig')"
   ]
  },
  {
   "cell_type": "markdown",
   "metadata": {},
   "source": [
    "#### Convert all currency to Euro\n"
   ]
  },
  {
   "cell_type": "code",
   "execution_count": null,
   "metadata": {
    "pycharm": {
     "is_executing": true,
     "name": "#%%\n"
    }
   },
   "outputs": [],
   "source": [
    "\n",
    "cflds = ['written_revenues_net_of_taxes', 'written_revenues', 'earned_revenues_net_of_taxes',\n",
    "         'earned_revenues', 'earned_base_commissions', 'earned_over_commissions', 'upfront_cash_payments',\n",
    "         'total_compensation', 'paid_claims', 'ocr__ibnr', 'actual_incurred_losses',\n",
    "         'internal_variable_costs', 'az_tech_fee', 'internal_fixed_costs',\n",
    "         'hq_fees', 'total_expenses', 'risk_premium', 'profit_or_loss', 'cm_hq_view',\n",
    "         'cm_bu_view', ]\n",
    "\n",
    "\n",
    "\"\"\"reads in the input for the Euro conversion\"\"\"\n",
    "euro = pd.read_excel(gppm_file, sheet_name=\"Euro_Rates\")\n"
   ]
  },
  {
   "cell_type": "markdown",
   "metadata": {},
   "source": [
    "#### Make a copy for debug purposes"
   ]
  },
  {
   "cell_type": "code",
   "execution_count": null,
   "metadata": {
    "pycharm": {
     "is_executing": true,
     "name": "#%%\n"
    }
   },
   "outputs": [],
   "source": [
    "trandata = mo_input.copy()"
   ]
  },
  {
   "cell_type": "markdown",
   "metadata": {},
   "source": [
    "#### Convert Currency Below"
   ]
  },
  {
   "cell_type": "code",
   "execution_count": null,
   "metadata": {
    "pycharm": {
     "is_executing": true,
     "name": "#%%\n"
    }
   },
   "outputs": [],
   "source": [
    "# create DataFrame of unique currencies with rates\n",
    "\n",
    "fx_uni = euro[['CURR_CODE','RATE']]\n",
    "fx_uni = fx_uni.drop_duplicates()"
   ]
  },
  {
   "cell_type": "code",
   "execution_count": null,
   "metadata": {
    "pycharm": {
     "is_executing": true,
     "name": "#%%\n"
    }
   },
   "outputs": [],
   "source": [
    "# add euro conversion rates to trandata DataFrame as column 'eur_rate'\n",
    "\n",
    "eurdata = pd.merge(trandata['currency'], fx_uni, left_on='currency', right_on='CURR_CODE', how='left')\n",
    "\n",
    "trandata['eur_rate'] = eurdata['RATE']"
   ]
  },
  {
   "cell_type": "markdown",
   "metadata": {},
   "source": [
    "#### Convert currency fields"
   ]
  },
  {
   "cell_type": "code",
   "execution_count": null,
   "metadata": {
    "pycharm": {
     "is_executing": true,
     "name": "#%%\n"
    }
   },
   "outputs": [],
   "source": [
    "trandata[cflds] = trandata[cflds].divide(trandata['eur_rate'], axis=\"index\").fillna(0)\n"
   ]
  },
  {
   "cell_type": "markdown",
   "metadata": {},
   "source": [
    "#### Output to {percode}.euroconv.csv"
   ]
  },
  {
   "cell_type": "code",
   "execution_count": null,
   "metadata": {
    "pycharm": {
     "is_executing": true,
     "name": "#%%\n"
    }
   },
   "outputs": [],
   "source": [
    "trandata.to_csv(f'//hecate/Insurance_US/Product Development/Product Management/Global PPM/Reporting/Data Collection/Production/{str(percode)}\\\\{str(percode)}.euroconv.csv', ',', index=False, encoding='utf-8-sig')\n",
    "\n",
    "\n"
   ]
  },
  {
   "cell_type": "markdown",
   "metadata": {},
   "source": [
    "#### Store the DataFrame for other noteboks to use"
   ]
  },
  {
   "cell_type": "code",
   "execution_count": null,
   "metadata": {},
   "outputs": [],
   "source": [
    "mo_df = trandata\n",
    "\n",
    "%store mo_df\n"
   ]
  }
 ],
 "metadata": {
  "celltoolbar": "Tags",
  "kernelspec": {
   "display_name": "Python 3",
   "language": "python",
   "name": "python3"
  },
  "language_info": {
   "codemirror_mode": {
    "name": "ipython",
    "version": 3
   },
   "file_extension": ".py",
   "mimetype": "text/x-python",
   "name": "python",
   "nbconvert_exporter": "python",
   "pygments_lexer": "ipython3",
   "version": "3.7.6"
  }
 },
 "nbformat": 4,
 "nbformat_minor": 1
}
