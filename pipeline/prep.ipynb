{
 "cells": [
  {
   "cell_type": "markdown",
   "metadata": {},
   "source": [
    "<img src=\"../images/AzPTravel_PPM.png\">"
   ]
  },
  {
   "cell_type": "markdown",
   "metadata": {
    "pycharm": {
     "name": "#%% md\n"
    }
   },
   "source": [
    "## Source File Consolidation\n",
    "\n",
    "#### This script fetches the current data collection submission files, consolidates them in to a combined csv file, and outputs that to the network.\n",
    "- All source files stored in the path are read, summarized, and then consolidated into a single dataframe named 'df'.\n",
    "- This process assumes that the multiple sources are in no way duplicates of each other.\n",
    "- df is then output in the data collection subfolder of the \"Production\" folder.\n"
   ]
  },
  {
   "cell_type": "markdown",
   "metadata": {},
   "source": [
    "### User Variables\n",
    "- These are overwritten if inherited from run_control.ipynb.\n",
    "- Feel Free to reset them for a manual run if you like\n",
    "- Do not save without percode = \"-f\""
   ]
  },
  {
   "cell_type": "code",
   "execution_count": 1,
   "metadata": {
    "pycharm": {
     "is_executing": true,
     "name": "#%%\n"
    },
    "tags": [
     "parameters"
    ]
   },
   "outputs": [],
   "source": [
    "commit_message = \"Development and testing.\"\n",
    "# Give a brief reason for the run.\n",
    "\n",
    "run_control = 1\n",
    "#run_type = 0 - Lite run with no reporting, not recommended.\n",
    "#run_type = 1 - Lite run with normal reporting, default setting.\n",
    "#run_type = 2 - Heavy run with full reporting, available for audits and troubleshooting.\n",
    "#run_type = 5 - A default setting. Indicates the script is being run by an outside process without an inherited value\n",
    "\n",
    "percode = \"2021.Q1\"\n",
    "# Data Collection Code, this controls file paths and output names\n",
    "# \"-f\" is the value indicating a bad inheritance from run with arg\n",
    "\n",
    "s_format = \"p\"\n",
    "# denotes the source data format x == Excel; j == json, p == parquet\n",
    "\n",
    "#----------\n",
    "# do not edit - this either inherits the full instance timestamp from the papermill book or captures the run time of this script.\n",
    "from datetime import datetime\n",
    "inst_datetime = datetime.now().strftime(\"%m%d%Y%H%M%S\")"
   ]
  },
  {
   "cell_type": "markdown",
   "metadata": {},
   "source": [
    "#### Notebook display options"
   ]
  },
  {
   "cell_type": "code",
   "execution_count": 2,
   "metadata": {},
   "outputs": [],
   "source": [
    "from IPython.core.interactiveshell import InteractiveShell\n",
    "InteractiveShell.ast_node_interactivity = \"all\""
   ]
  },
  {
   "cell_type": "markdown",
   "metadata": {},
   "source": [
    "#### import packages"
   ]
  },
  {
   "cell_type": "code",
   "execution_count": 3,
   "metadata": {
    "pycharm": {
     "name": "#%%\n"
    }
   },
   "outputs": [],
   "source": [
    "#### Packages used\n",
    "\n",
    "import os # System commands\n",
    "import sys # System commands\n",
    "\n",
    "from datetime import datetime # datetime options\n",
    "import warnings # custom warnigns options\n",
    "\n",
    "import getpass # parquet file read/write\n",
    "import json # json file read/write\n",
    "\n",
    "import matplotlib.pyplot as plt #Plots and Graphs\n",
    "import openpyxl # Excel operations\n",
    "import pandas as pd #DataFrame and math\n",
    "\n",
    "\n",
    "\n"
   ]
  },
  {
   "cell_type": "code",
   "execution_count": 4,
   "metadata": {
    "pycharm": {
     "name": "#%%\n"
    }
   },
   "outputs": [],
   "source": [
    "# a single datetime stamp for the full instance run"
   ]
  },
  {
   "cell_type": "markdown",
   "metadata": {},
   "source": [
    "#### Default Variables, these govern logic, do not edit."
   ]
  },
  {
   "cell_type": "code",
   "execution_count": 5,
   "metadata": {
    "pycharm": {
     "name": "#%%\n"
    }
   },
   "outputs": [],
   "source": [
    "default_dc = \"20XX.QX\"\n",
    "default_rc = 0 #extra lite mode\n",
    "dummy_perc = \"33Q3\" # bad inheritance"
   ]
  },
  {
   "cell_type": "markdown",
   "metadata": {
    "pycharm": {
     "name": "#%% md\n"
    }
   },
   "source": [
    "#### Script determining run context ie, manual, run_control.ipynb, or other."
   ]
  },
  {
   "cell_type": "code",
   "execution_count": 6,
   "metadata": {
    "pycharm": {
     "name": "#%%\n"
    },
    "tags": [
     "parameters"
    ]
   },
   "outputs": [],
   "source": [
    "if run_control == 5:\n",
    "    run_control = default_rc \n",
    "else:\n",
    "    run_control = run_control\n",
    "\n",
    "try:\n",
    "    if sys.argv[1] == \"-f\":\n",
    "        percode = percode\n",
    "    else:\n",
    "        percode = sys.argv[1]\n",
    "\n",
    "except IndexError:\n",
    "    percode = default_dc\n",
    "except NameError:\n",
    "    percode = default_dc\n"
   ]
  },
  {
   "cell_type": "markdown",
   "metadata": {},
   "source": [
    "#### style settings"
   ]
  },
  {
   "cell_type": "code",
   "execution_count": 7,
   "metadata": {},
   "outputs": [],
   "source": [
    "from IPython.core.interactiveshell import InteractiveShell\n",
    "InteractiveShell.ast_node_interactivity = \"all\""
   ]
  },
  {
   "cell_type": "markdown",
   "metadata": {
    "pycharm": {
     "name": "#%% md\n"
    }
   },
   "source": [
    "#### Make paths for the source folder"
   ]
  },
  {
   "cell_type": "code",
   "execution_count": 8,
   "metadata": {
    "pycharm": {
     "name": "#%%\n"
    }
   },
   "outputs": [],
   "source": [
    "rt_path = f'//hecate/Insurance_US/Product Development/Product Management/Global PPM/Reporting/Data Collection/Production/{str(percode)}'\n",
    "ls_path = os.path.join( rt_path, 'live_sources')\n"
   ]
  },
  {
   "cell_type": "markdown",
   "metadata": {
    "pycharm": {
     "name": "#%% md\n"
    }
   },
   "source": [
    "#### Get a list of only source files in the path that start with \"us_dat\".\n",
    "#### Logic determines the source file types.\n",
    "\n",
    "#### User instructions:\n",
    "- Make sure that you have 1 file per source in this folder.\n",
    "    -  For instance, do not have two files for Portugal. If there is an update, archive the old one.\n",
    "- Do not overwrite files in the archive.\n",
    "    - Rename newly archived files, no strict convention, we keep track of these by the modified date.\n",
    "- It is ok to have multiple sources in one file."
   ]
  },
  {
   "cell_type": "code",
   "execution_count": 9,
   "metadata": {
    "pycharm": {
     "name": "#%%\n"
    }
   },
   "outputs": [],
   "source": [
    "files = os.listdir(ls_path)\n",
    "files = [files.lower() for files in files]\n",
    "\n",
    "if s_format == \"x\":\n",
    "    files_sour = [f for f in files if f[-3:] in ('lsx' , 'lsm' ,'xls')]\n",
    "\n",
    "elif s_format == \"j\":\n",
    "    files_sour = [f for f in files if f[:6] == 'us_dat'  and  f[-5:]  == '.json']\n",
    "\n",
    "elif s_format == \"p\":\n",
    "    files_sour = [f for f in files if f[:6] == 'us_dat' and  f[-8:]  == '.parquet']\n"
   ]
  },
  {
   "cell_type": "markdown",
   "metadata": {
    "pycharm": {
     "name": "#%% md\n"
    }
   },
   "source": [
    "#### Create a list 'pathfiles' that has every source file with the full path."
   ]
  },
  {
   "cell_type": "code",
   "execution_count": 10,
   "metadata": {
    "pycharm": {
     "name": "#%%\n"
    }
   },
   "outputs": [],
   "source": [
    "pathfiles = []\n",
    "\n",
    "for f in files_sour:\n",
    "    makepathsfiles = os.path.join(str(ls_path), str(f))\n",
    "    pathfiles.append(makepathsfiles)\n"
   ]
  },
  {
   "cell_type": "markdown",
   "metadata": {},
   "source": [
    "#### File Check\n",
    "\n",
    "- create file information Data.Frame \"file_info_df\" with name, size, and modified date of each source file\n",
    "- import previous source file list for comparison\n",
    "- print all new files, store as a list \"newfiles\"\n",
    "- print all dropped files, store as a list \"dropped_files\""
   ]
  },
  {
   "cell_type": "code",
   "execution_count": 11,
   "metadata": {
    "pycharm": {
     "name": "#%%\n"
    }
   },
   "outputs": [
    {
     "name": "stdout",
     "output_type": "stream",
     "text": [
      "New new or changed data files found in live sources folder.\n"
     ]
    }
   ],
   "source": [
    "#print(\"Current Source Files\")\n",
    "cols = [\"Filename\", \"Size\", \"Last Modified\" ]\n",
    "\n",
    "file_info_df = pd.DataFrame(columns = cols)\n",
    "for f, p in zip(files_sour, pathfiles):\n",
    "    name = f\n",
    "    size = os.path.getsize(p) # size in bytes\n",
    "    moddate = os.path.getctime(p)# time of last metadata change;\n",
    "    moddate =  datetime.fromtimestamp(moddate).strftime('%Y-%m-%d %H:%M:%S')# format change;\n",
    "    new_row = pd.DataFrame([[name, size, moddate]], columns = cols)\n",
    "    file_info_df = file_info_df.append(new_row, ignore_index=True)\n",
    "\n",
    "#print(file_info_df)\n",
    "\n",
    "file_list = os.path.join( rt_path, 'Current_Source_Files.csv')\n",
    "prev_files = pd.read_csv(file_list)\n",
    "\n",
    "\n",
    "fl_comp = file_info_df[\"Filename\"] + file_info_df[\"Size\"].astype(str) + file_info_df[\"Last Modified\"].astype(str)\n",
    "\n",
    "prev_comp = prev_files[\"Filename\"] + prev_files[\"Size\"].astype(str) + prev_files[\"Last Modified\"].astype(str)\n",
    "\n",
    "newfiles = []\n",
    "\n",
    "for idx, r in enumerate(fl_comp):\n",
    "    \n",
    "    if r in prev_comp.values:\n",
    "    \n",
    "        pass\n",
    "     \n",
    "    else:\n",
    "        if file_info_df['Filename'][idx] in prev_files[\"Filename\"].values:\n",
    "            print(\"\")\n",
    "            print(f\"Changed data file found: {file_info_df['Filename'][idx]}, last update {file_info_df['Last Modified'][idx]}.\")\n",
    "            newfiles.append(pathfiles[idx])\n",
    "        else:\n",
    "            print(\"\")\n",
    "            print(f\"New data file found: {file_info_df['Filename'][idx]}, last update {file_info_df['Last Modified'][idx]}.\")\n",
    "            newfiles.append(pathfiles[idx])\n",
    "\n",
    "if len(newfiles) == 0:\n",
    "    \n",
    "    print(\"New new or changed data files found in live sources folder.\")\n",
    "\n",
    "else:\n",
    "\n",
    "    pass\n",
    "\n",
    "dropped_files = []\n",
    "\n",
    "for r in prev_files[\"Filename\"]:\n",
    "    \n",
    "    if r in file_info_df[\"Filename\"].values:\n",
    "        \n",
    "        pass\n",
    "    \n",
    "    else:\n",
    "        print(\"\")\n",
    "        print(f\"File {r} has been archived or removed from live sources folder.\")\n",
    "        dropped_files.append(os.path.join( ls_path, r))\n",
    "    \n",
    "    \n",
    "    \n",
    "    \n",
    "file_info_df.to_csv(file_list, index = False)\n",
    "\n",
    "\n"
   ]
  },
  {
   "cell_type": "markdown",
   "metadata": {},
   "source": [
    "#### Business Unit Check\n",
    "\n",
    "- import existing Business Unit and raw file list\n",
    "- enusure there is a 1 to 1 relationship\n",
    "- throw error if not\n"
   ]
  },
  {
   "cell_type": "code",
   "execution_count": 12,
   "metadata": {
    "pycharm": {
     "name": "#%%\n"
    }
   },
   "outputs": [],
   "source": [
    "cols = [ \"Business Unit\", \"File\"]\n",
    "\n",
    "bu_x_file = pd.DataFrame(columns = cols ) \n",
    "\n",
    "for p, f  in zip(pathfiles,files_sour):\n",
    "\n",
    "    if s_format == \"x\":\n",
    "\n",
    "        try:\n",
    "            data = pd.read_excel(p, sheet_name = 'Portfolio_Monitoring', na_values = [0], header=3, converters={ 'Business Partner Name': str, 'Type of Business': str, 'Type of Account': str, 'Distribution Type': str, 'LOB': str, 'Distribution Channel': str,\n",
    "            'Sub LOB': str,'Business Partner ID Number': str,  'Product Name': str, 'Product ID Number': str,  'Product Family': str,  'Standard Product': str, 'Total Expenses': float,    })\n",
    "\n",
    "        except:\n",
    "            data = pd.read_excel(p, sheet_name = 'Ptf_Monitoring_GROSS_Reins', na_values = [0], header=3, converters={ 'Business Partner Name': str, 'Type of Business': str, 'Type of Account': str, 'Distribution Type': str, 'LOB': str, 'Distribution Channel': str,\n",
    "            'Sub LOB': str,'Business Partner ID Number': str,  'Product Name': str, 'Product ID Number': str,  'Product Family': str,  'Standard Product': str, 'Total Expenses': float,    })\n",
    "\n",
    "\n",
    "    elif s_format == \"j\":\n",
    "\n",
    "        data = pd.read_json(p, orient=\"table\")\n",
    "\n",
    "    elif s_format == \"p\":\n",
    "\n",
    "        data = pd.read_parquet(p, engine = \"pyarrow\")\n",
    "\n",
    "    bus = data[\"Business Unit\"].unique()\n",
    "    \n",
    "    for i in bus: bu_x_file = bu_x_file.append({\"Business Unit\": i,\"File\": f} , ignore_index=True)\n",
    "\n",
    "        \n",
    "#This is a list of BU's that are included in the raw data files, and the file name(s) they are contained in.\n",
    "bu_filelist = bu_x_file.sort_values(by='Business Unit').style.hide_index()\n",
    "\n",
    "\n"
   ]
  },
  {
   "cell_type": "code",
   "execution_count": 13,
   "metadata": {},
   "outputs": [
    {
     "data": {
      "text/plain": [
       "1.0"
      ]
     },
     "execution_count": 13,
     "metadata": {},
     "output_type": "execute_result"
    }
   ],
   "source": [
    "\n",
    "bucount =  bu_x_file.groupby(\"Business Unit\").count().sort_values(by='File', ascending=False)\n",
    "\n",
    "filecount =  bu_x_file.groupby(\"File\").count().sort_values(by='File')\n",
    "\n",
    "err_check = 1\n",
    "\n",
    "if len(bucount[bucount[\"File\"] > 4]) > 0: # change this back to 1\n",
    "    warnings.warn(\"\\n \\nThere is a Business Unit with data in multiple source files.\\nReview the file counts and filenames to resolve the issue.\\nThis is a critical control.\")\n",
    "    err_check = 0\n",
    "else:\n",
    "    pass\n",
    "\n",
    "try:\n",
    "    1 / err_check\n",
    "\n",
    "except ZeroDivisionError:\n",
    "    print(\"Execution halted due to multiple source file per one or more Business Units.\")\n"
   ]
  },
  {
   "cell_type": "code",
   "execution_count": 14,
   "metadata": {},
   "outputs": [
    {
     "name": "stdout",
     "output_type": "stream",
     "text": [
      "This is a count of how many BUs appear in each file. It is fine to submit multiple BUs in one source.\n"
     ]
    },
    {
     "data": {
      "text/html": [
       "<div>\n",
       "<style scoped>\n",
       "    .dataframe tbody tr th:only-of-type {\n",
       "        vertical-align: middle;\n",
       "    }\n",
       "\n",
       "    .dataframe tbody tr th {\n",
       "        vertical-align: top;\n",
       "    }\n",
       "\n",
       "    .dataframe thead th {\n",
       "        text-align: right;\n",
       "    }\n",
       "</style>\n",
       "<table border=\"1\" class=\"dataframe\">\n",
       "  <thead>\n",
       "    <tr style=\"text-align: right;\">\n",
       "      <th></th>\n",
       "      <th>Business Unit</th>\n",
       "    </tr>\n",
       "    <tr>\n",
       "      <th>File</th>\n",
       "      <th></th>\n",
       "    </tr>\n",
       "  </thead>\n",
       "  <tbody>\n",
       "    <tr>\n",
       "      <th>us_dat_nz+_05142021114427.parquet</th>\n",
       "      <td>20</td>\n",
       "    </tr>\n",
       "    <tr>\n",
       "      <th>us_dat_us_05122021094008.parquet</th>\n",
       "      <td>1</td>\n",
       "    </tr>\n",
       "  </tbody>\n",
       "</table>\n",
       "</div>"
      ],
      "text/plain": [
       "                                   Business Unit\n",
       "File                                            \n",
       "us_dat_nz+_05142021114427.parquet             20\n",
       "us_dat_us_05122021094008.parquet               1"
      ]
     },
     "execution_count": 14,
     "metadata": {},
     "output_type": "execute_result"
    },
    {
     "name": "stdout",
     "output_type": "stream",
     "text": [
      "\n",
      "This is a count of how many files each BU appears in. In all cases the count values should be one (1). The process as desgined, should have a single submission and source for each BU.\n"
     ]
    },
    {
     "data": {
      "text/html": [
       "<div>\n",
       "<style scoped>\n",
       "    .dataframe tbody tr th:only-of-type {\n",
       "        vertical-align: middle;\n",
       "    }\n",
       "\n",
       "    .dataframe tbody tr th {\n",
       "        vertical-align: top;\n",
       "    }\n",
       "\n",
       "    .dataframe thead th {\n",
       "        text-align: right;\n",
       "    }\n",
       "</style>\n",
       "<table border=\"1\" class=\"dataframe\">\n",
       "  <thead>\n",
       "    <tr style=\"text-align: right;\">\n",
       "      <th></th>\n",
       "      <th>File</th>\n",
       "    </tr>\n",
       "    <tr>\n",
       "      <th>Business Unit</th>\n",
       "      <th></th>\n",
       "    </tr>\n",
       "  </thead>\n",
       "  <tbody>\n",
       "    <tr>\n",
       "      <th>US</th>\n",
       "      <td>2</td>\n",
       "    </tr>\n",
       "    <tr>\n",
       "      <th>AU</th>\n",
       "      <td>1</td>\n",
       "    </tr>\n",
       "    <tr>\n",
       "      <th>UK</th>\n",
       "      <td>1</td>\n",
       "    </tr>\n",
       "    <tr>\n",
       "      <th>SG</th>\n",
       "      <td>1</td>\n",
       "    </tr>\n",
       "    <tr>\n",
       "      <th>SC</th>\n",
       "      <td>1</td>\n",
       "    </tr>\n",
       "    <tr>\n",
       "      <th>PT</th>\n",
       "      <td>1</td>\n",
       "    </tr>\n",
       "    <tr>\n",
       "      <th>PL</th>\n",
       "      <td>1</td>\n",
       "    </tr>\n",
       "    <tr>\n",
       "      <th>NZ</th>\n",
       "      <td>1</td>\n",
       "    </tr>\n",
       "    <tr>\n",
       "      <th>NL</th>\n",
       "      <td>1</td>\n",
       "    </tr>\n",
       "    <tr>\n",
       "      <th>IT</th>\n",
       "      <td>1</td>\n",
       "    </tr>\n",
       "    <tr>\n",
       "      <th>AT</th>\n",
       "      <td>1</td>\n",
       "    </tr>\n",
       "    <tr>\n",
       "      <th>FR</th>\n",
       "      <td>1</td>\n",
       "    </tr>\n",
       "    <tr>\n",
       "      <th>FOS</th>\n",
       "      <td>1</td>\n",
       "    </tr>\n",
       "    <tr>\n",
       "      <th>ES</th>\n",
       "      <td>1</td>\n",
       "    </tr>\n",
       "    <tr>\n",
       "      <th>DE</th>\n",
       "      <td>1</td>\n",
       "    </tr>\n",
       "    <tr>\n",
       "      <th>CZ</th>\n",
       "      <td>1</td>\n",
       "    </tr>\n",
       "    <tr>\n",
       "      <th>CN</th>\n",
       "      <td>1</td>\n",
       "    </tr>\n",
       "    <tr>\n",
       "      <th>CH</th>\n",
       "      <td>1</td>\n",
       "    </tr>\n",
       "    <tr>\n",
       "      <th>CA</th>\n",
       "      <td>1</td>\n",
       "    </tr>\n",
       "    <tr>\n",
       "      <th>GR</th>\n",
       "      <td>1</td>\n",
       "    </tr>\n",
       "  </tbody>\n",
       "</table>\n",
       "</div>"
      ],
      "text/plain": [
       "               File\n",
       "Business Unit      \n",
       "US                2\n",
       "AU                1\n",
       "UK                1\n",
       "SG                1\n",
       "SC                1\n",
       "PT                1\n",
       "PL                1\n",
       "NZ                1\n",
       "NL                1\n",
       "IT                1\n",
       "AT                1\n",
       "FR                1\n",
       "FOS               1\n",
       "ES                1\n",
       "DE                1\n",
       "CZ                1\n",
       "CN                1\n",
       "CH                1\n",
       "CA                1\n",
       "GR                1"
      ]
     },
     "execution_count": 14,
     "metadata": {},
     "output_type": "execute_result"
    },
    {
     "name": "stdout",
     "output_type": "stream",
     "text": [
      "This is a list of BU's that are included in the raw data files, and the file name(s) they are contained in.\n"
     ]
    },
    {
     "data": {
      "text/html": [
       "<style  type=\"text/css\" >\n",
       "</style><table id=\"T_eba314c6_b660_11eb_8336_8c1645d87358\" ><thead>    <tr>        <th class=\"col_heading level0 col0\" >Business Unit</th>        <th class=\"col_heading level0 col1\" >File</th>    </tr></thead><tbody>\n",
       "                <tr>\n",
       "                                <td id=\"T_eba314c6_b660_11eb_8336_8c1645d87358row0_col0\" class=\"data row0 col0\" >AT</td>\n",
       "                        <td id=\"T_eba314c6_b660_11eb_8336_8c1645d87358row0_col1\" class=\"data row0 col1\" >us_dat_nz+_05142021114427.parquet</td>\n",
       "            </tr>\n",
       "            <tr>\n",
       "                                <td id=\"T_eba314c6_b660_11eb_8336_8c1645d87358row1_col0\" class=\"data row1 col0\" >AU</td>\n",
       "                        <td id=\"T_eba314c6_b660_11eb_8336_8c1645d87358row1_col1\" class=\"data row1 col1\" >us_dat_nz+_05142021114427.parquet</td>\n",
       "            </tr>\n",
       "            <tr>\n",
       "                                <td id=\"T_eba314c6_b660_11eb_8336_8c1645d87358row2_col0\" class=\"data row2 col0\" >CA</td>\n",
       "                        <td id=\"T_eba314c6_b660_11eb_8336_8c1645d87358row2_col1\" class=\"data row2 col1\" >us_dat_nz+_05142021114427.parquet</td>\n",
       "            </tr>\n",
       "            <tr>\n",
       "                                <td id=\"T_eba314c6_b660_11eb_8336_8c1645d87358row3_col0\" class=\"data row3 col0\" >CH</td>\n",
       "                        <td id=\"T_eba314c6_b660_11eb_8336_8c1645d87358row3_col1\" class=\"data row3 col1\" >us_dat_nz+_05142021114427.parquet</td>\n",
       "            </tr>\n",
       "            <tr>\n",
       "                                <td id=\"T_eba314c6_b660_11eb_8336_8c1645d87358row4_col0\" class=\"data row4 col0\" >CN</td>\n",
       "                        <td id=\"T_eba314c6_b660_11eb_8336_8c1645d87358row4_col1\" class=\"data row4 col1\" >us_dat_nz+_05142021114427.parquet</td>\n",
       "            </tr>\n",
       "            <tr>\n",
       "                                <td id=\"T_eba314c6_b660_11eb_8336_8c1645d87358row5_col0\" class=\"data row5 col0\" >CZ</td>\n",
       "                        <td id=\"T_eba314c6_b660_11eb_8336_8c1645d87358row5_col1\" class=\"data row5 col1\" >us_dat_nz+_05142021114427.parquet</td>\n",
       "            </tr>\n",
       "            <tr>\n",
       "                                <td id=\"T_eba314c6_b660_11eb_8336_8c1645d87358row6_col0\" class=\"data row6 col0\" >DE</td>\n",
       "                        <td id=\"T_eba314c6_b660_11eb_8336_8c1645d87358row6_col1\" class=\"data row6 col1\" >us_dat_nz+_05142021114427.parquet</td>\n",
       "            </tr>\n",
       "            <tr>\n",
       "                                <td id=\"T_eba314c6_b660_11eb_8336_8c1645d87358row7_col0\" class=\"data row7 col0\" >ES</td>\n",
       "                        <td id=\"T_eba314c6_b660_11eb_8336_8c1645d87358row7_col1\" class=\"data row7 col1\" >us_dat_nz+_05142021114427.parquet</td>\n",
       "            </tr>\n",
       "            <tr>\n",
       "                                <td id=\"T_eba314c6_b660_11eb_8336_8c1645d87358row8_col0\" class=\"data row8 col0\" >FOS</td>\n",
       "                        <td id=\"T_eba314c6_b660_11eb_8336_8c1645d87358row8_col1\" class=\"data row8 col1\" >us_dat_nz+_05142021114427.parquet</td>\n",
       "            </tr>\n",
       "            <tr>\n",
       "                                <td id=\"T_eba314c6_b660_11eb_8336_8c1645d87358row9_col0\" class=\"data row9 col0\" >FR</td>\n",
       "                        <td id=\"T_eba314c6_b660_11eb_8336_8c1645d87358row9_col1\" class=\"data row9 col1\" >us_dat_nz+_05142021114427.parquet</td>\n",
       "            </tr>\n",
       "            <tr>\n",
       "                                <td id=\"T_eba314c6_b660_11eb_8336_8c1645d87358row10_col0\" class=\"data row10 col0\" >GR</td>\n",
       "                        <td id=\"T_eba314c6_b660_11eb_8336_8c1645d87358row10_col1\" class=\"data row10 col1\" >us_dat_nz+_05142021114427.parquet</td>\n",
       "            </tr>\n",
       "            <tr>\n",
       "                                <td id=\"T_eba314c6_b660_11eb_8336_8c1645d87358row11_col0\" class=\"data row11 col0\" >IT</td>\n",
       "                        <td id=\"T_eba314c6_b660_11eb_8336_8c1645d87358row11_col1\" class=\"data row11 col1\" >us_dat_nz+_05142021114427.parquet</td>\n",
       "            </tr>\n",
       "            <tr>\n",
       "                                <td id=\"T_eba314c6_b660_11eb_8336_8c1645d87358row12_col0\" class=\"data row12 col0\" >NL</td>\n",
       "                        <td id=\"T_eba314c6_b660_11eb_8336_8c1645d87358row12_col1\" class=\"data row12 col1\" >us_dat_nz+_05142021114427.parquet</td>\n",
       "            </tr>\n",
       "            <tr>\n",
       "                                <td id=\"T_eba314c6_b660_11eb_8336_8c1645d87358row13_col0\" class=\"data row13 col0\" >NZ</td>\n",
       "                        <td id=\"T_eba314c6_b660_11eb_8336_8c1645d87358row13_col1\" class=\"data row13 col1\" >us_dat_nz+_05142021114427.parquet</td>\n",
       "            </tr>\n",
       "            <tr>\n",
       "                                <td id=\"T_eba314c6_b660_11eb_8336_8c1645d87358row14_col0\" class=\"data row14 col0\" >PL</td>\n",
       "                        <td id=\"T_eba314c6_b660_11eb_8336_8c1645d87358row14_col1\" class=\"data row14 col1\" >us_dat_nz+_05142021114427.parquet</td>\n",
       "            </tr>\n",
       "            <tr>\n",
       "                                <td id=\"T_eba314c6_b660_11eb_8336_8c1645d87358row15_col0\" class=\"data row15 col0\" >PT</td>\n",
       "                        <td id=\"T_eba314c6_b660_11eb_8336_8c1645d87358row15_col1\" class=\"data row15 col1\" >us_dat_nz+_05142021114427.parquet</td>\n",
       "            </tr>\n",
       "            <tr>\n",
       "                                <td id=\"T_eba314c6_b660_11eb_8336_8c1645d87358row16_col0\" class=\"data row16 col0\" >SC</td>\n",
       "                        <td id=\"T_eba314c6_b660_11eb_8336_8c1645d87358row16_col1\" class=\"data row16 col1\" >us_dat_nz+_05142021114427.parquet</td>\n",
       "            </tr>\n",
       "            <tr>\n",
       "                                <td id=\"T_eba314c6_b660_11eb_8336_8c1645d87358row17_col0\" class=\"data row17 col0\" >SG</td>\n",
       "                        <td id=\"T_eba314c6_b660_11eb_8336_8c1645d87358row17_col1\" class=\"data row17 col1\" >us_dat_nz+_05142021114427.parquet</td>\n",
       "            </tr>\n",
       "            <tr>\n",
       "                                <td id=\"T_eba314c6_b660_11eb_8336_8c1645d87358row18_col0\" class=\"data row18 col0\" >UK</td>\n",
       "                        <td id=\"T_eba314c6_b660_11eb_8336_8c1645d87358row18_col1\" class=\"data row18 col1\" >us_dat_nz+_05142021114427.parquet</td>\n",
       "            </tr>\n",
       "            <tr>\n",
       "                                <td id=\"T_eba314c6_b660_11eb_8336_8c1645d87358row19_col0\" class=\"data row19 col0\" >US</td>\n",
       "                        <td id=\"T_eba314c6_b660_11eb_8336_8c1645d87358row19_col1\" class=\"data row19 col1\" >us_dat_nz+_05142021114427.parquet</td>\n",
       "            </tr>\n",
       "            <tr>\n",
       "                                <td id=\"T_eba314c6_b660_11eb_8336_8c1645d87358row20_col0\" class=\"data row20 col0\" >US</td>\n",
       "                        <td id=\"T_eba314c6_b660_11eb_8336_8c1645d87358row20_col1\" class=\"data row20 col1\" >us_dat_us_05122021094008.parquet</td>\n",
       "            </tr>\n",
       "    </tbody></table>"
      ],
      "text/plain": [
       "<pandas.io.formats.style.Styler at 0x2a7117f6fc8>"
      ]
     },
     "execution_count": 14,
     "metadata": {},
     "output_type": "execute_result"
    }
   ],
   "source": [
    "\n",
    "print(\"This is a count of how many BUs appear in each file. It is fine to submit multiple BUs in one source.\")\n",
    "filecount\n",
    "\n",
    "\n",
    "print(\"\\nThis is a count of how many files each BU appears in. In all cases the count values should be one (1). The process as desgined, should have a single submission and source for each BU.\")\n",
    "bucount\n",
    "\n",
    "print(\"This is a list of BU's that are included in the raw data files, and the file name(s) they are contained in.\")   \n",
    "\n",
    "bu_filelist"
   ]
  },
  {
   "cell_type": "markdown",
   "metadata": {
    "pycharm": {
     "name": "#%% md\n"
    }
   },
   "source": [
    "- Read each json file into temp DataFrame \"data\".\n",
    "- Prep actions - Strip (trim) leading and trailing spaces values in string columns, remove rows without business units.\n",
    "- Append each json output to into 1 DataFrame \"df\".\n",
    "- Process Cleanup, the indices restart with each append, reset and drop the previous."
   ]
  },
  {
   "cell_type": "code",
   "execution_count": 15,
   "metadata": {
    "pycharm": {
     "name": "#%%\n"
    }
   },
   "outputs": [],
   "source": [
    "df_dict = {}\n",
    "#empty dict to append each file's DataFrame to\n",
    "\n",
    "for f in pathfiles:\n",
    "\n",
    "    if s_format == \"x\":\n",
    "\n",
    "        try:\n",
    "            data = pd.read_excel(f, sheet_name = 'Portfolio_Monitoring', na_values = [0], header=3, converters={ 'Business Partner Name': str, 'Type of Business': str, 'Type of Account': str, 'Distribution Type': str, 'LOB': str, 'Distribution Channel': str,\n",
    "            'Sub LOB': str,'Business Partner ID Number': str,  'Product Name': str, 'Product ID Number': str,  'Product Family': str,  'Standard Product': str, 'Total Expenses': float,    })\n",
    "\n",
    "        except:\n",
    "            data = pd.read_excel(f, sheet_name = 'Ptf_Monitoring_GROSS_Reins', na_values = [0], header=3, converters={ 'Business Partner Name': str, 'Type of Business': str, 'Type of Account': str, 'Distribution Type': str, 'LOB': str, 'Distribution Channel': str,\n",
    "            'Sub LOB': str,'Business Partner ID Number': str,  'Product Name': str, 'Product ID Number': str,  'Product Family': str,  'Standard Product': str, 'Total Expenses': float,    })\n",
    "\n",
    "\n",
    "    elif s_format == \"j\":\n",
    "\n",
    "        data = pd.read_json(f, orient=\"table\")\n",
    "\n",
    "    elif s_format == \"p\":\n",
    "\n",
    "        data = pd.read_parquet(f, engine = \"pyarrow\")\n",
    "\n",
    "    df_dict.update({f: data})"
   ]
  },
  {
   "cell_type": "markdown",
   "metadata": {},
   "source": [
    "## Raw file Summaries\n",
    "\n",
    "#### First 5 rows of each file."
   ]
  },
  {
   "cell_type": "code",
   "execution_count": 16,
   "metadata": {
    "pycharm": {
     "name": "#%%\n"
    }
   },
   "outputs": [
    {
     "name": "stdout",
     "output_type": "stream",
     "text": [
      "//hecate/Insurance_US/Product Development/Product Management/Global PPM/Reporting/Data Collection/Production/2021.Q1\\live_sources\\us_dat_nz+_05142021114427.parquet - First 5 Samples:\n",
      "----------------------------------------------------------------------------------------------------\n",
      "  Business Unit Country Currency Region Reporting Date From Reporting Date To  \\\n",
      "0            NZ      NZ      NZD   APAC          2021-01-01        2021-03-31   \n",
      "1            NZ      NZ      NZD   APAC          2021-01-01        2021-03-31   \n",
      "2            NZ      NZ      NZD   APAC          2021-01-01        2021-03-31   \n",
      "3            AU      AU      AUD   APAC          2021-01-01        2021-03-31   \n",
      "4            AU      AU      AUD   APAC          2021-01-01        2021-03-31   \n",
      "\n",
      "  Date of Analysis Type of Analysis  Analysed Months  Reporting Year  ...  \\\n",
      "0       2020-04-21     Year To Date               12            2020  ...   \n",
      "1       2020-04-21     Year To Date               12            2020  ...   \n",
      "2       2020-04-21     Year To Date               12            2020  ...   \n",
      "3       2020-04-21     Year To Date               12            2020  ...   \n",
      "4       2020-04-21     Year To Date               12            2020  ...   \n",
      "\n",
      "   Profit or Loss  Notes concat2 Reporting Date From INT    comsub    expsub  \\\n",
      "0   106007.011000    0.0   NZNZD                20210101  0.273069  0.280000   \n",
      "1   -47848.158750    0.0   NZNZD                20210101  0.214230  0.280000   \n",
      "2  -319590.802300    0.0   NZNZD                20210101  0.296814  0.280000   \n",
      "3     1795.668811    0.0   AUAUD                20210101  0.176199  0.205717   \n",
      "4   326842.243700    0.0   AUAUD                20210101  0.000000  0.333776   \n",
      "\n",
      "  ibnrsub Reporting Date To INT Date of Analysis INT  \\\n",
      "0    0.04              20210331             20200421   \n",
      "1    0.34              20210331             20200421   \n",
      "2    0.08              20210331             20200421   \n",
      "3    0.34              20210331             20200421   \n",
      "4    0.30              20210331             20200421   \n",
      "\n",
      "                      Selected Fields for Duplicates  \n",
      "0  NZInsuranceLocalB2BTravelStudentsMarsh Student...  \n",
      "1  NZInsuranceLocalB2BTravelOnline Travel Agencie...  \n",
      "2  NZInsuranceLocalB2BTravelOnline Travel Agencie...  \n",
      "3  AUInsuranceLocalB2B2CTravelALLIANZ TIED AGENTA...  \n",
      "4        AUInsuranceLocalB2B2CTravelBANKSBENDIGO6662  \n",
      "\n",
      "[5 rows x 74 columns]\n",
      "//hecate/Insurance_US/Product Development/Product Management/Global PPM/Reporting/Data Collection/Production/2021.Q1\\live_sources\\us_dat_us_05122021094008.parquet - First 5 Samples:\n",
      "----------------------------------------------------------------------------------------------------\n",
      "  Business Unit Country Currency         Region Reporting Date From  \\\n",
      "0            US     nan      USD  North America          2021-01-01   \n",
      "1            US     nan      USD  North America          2021-01-01   \n",
      "2            US     nan      USD  North America          2019-04-01   \n",
      "3            US     nan      USD  North America          2019-04-01   \n",
      "4            US     nan      USD  North America          2019-04-01   \n",
      "\n",
      "  Reporting Date To Date of Analysis         Type of Analysis  \\\n",
      "0        2020-03-31       2019-03-01  Most Recently 12 Months   \n",
      "1        2020-03-31       2019-03-01  Most Recently 12 Months   \n",
      "2        2020-03-31       2019-03-01  Most Recently 12 Months   \n",
      "3        2020-03-31       2019-03-01  Most Recently 12 Months   \n",
      "4        2020-03-31       2019-03-01  Most Recently 12 Months   \n",
      "\n",
      "   Analysed Months  Reporting Year  ...  Notes  Unnamed: 66  \\\n",
      "0               12            2020  ...    0.0          0.0   \n",
      "1               12            2020  ...    0.0          0.0   \n",
      "2               12            2020  ...    0.0          0.0   \n",
      "3               12            2020  ...    0.0          0.0   \n",
      "4               12            2020  ...    0.0          0.0   \n",
      "\n",
      "  Reporting Date From INT concat2    comsub    expsub ibnrsub  \\\n",
      "0                20210101  nanUSD  0.286208  0.175130   10.00   \n",
      "1                20210101  nanUSD  0.286225  0.175147    0.05   \n",
      "2                20190401  nanUSD  0.000000  0.000000    0.00   \n",
      "3                20190401  nanUSD  0.000000  0.175446    0.00   \n",
      "4                20190401  nanUSD  0.295685  0.175123    0.00   \n",
      "\n",
      "  Reporting Date To INT Date of Analysis INT  \\\n",
      "0              20200331             20190301   \n",
      "1              20200331             20190301   \n",
      "2              20200331             20190301   \n",
      "3              20200331             20190301   \n",
      "4              20200331             20190301   \n",
      "\n",
      "                      Selected Fields for Duplicates  \n",
      "0  nanInsuranceLocalB2B2CTravelOffline Travel Age...  \n",
      "1  nanInsuranceLocalB2B2CTravelOffline Travel Age...  \n",
      "2  nanInsuranceLocalB2B2CTravelOffline Travel Age...  \n",
      "3  nanInsuranceLocalB2B2CTravelOffline Travel Age...  \n",
      "4  nanInsuranceLocalB2B2CTravelOffline Travel Age...  \n",
      "\n",
      "[5 rows x 75 columns]\n"
     ]
    }
   ],
   "source": [
    "if run_control > 0:\n",
    "\n",
    "    for k, v in df_dict.items():\n",
    "        print(f\"{k} - First 5 Samples:\")\n",
    "        print(\"-\" * 100)\n",
    "        print(v.head())\n",
    "\n",
    "else:\n",
    "    print(\"Default Report 2 Skipped\")"
   ]
  },
  {
   "cell_type": "markdown",
   "metadata": {},
   "source": [
    "#### Summary Statisitics."
   ]
  },
  {
   "cell_type": "code",
   "execution_count": 17,
   "metadata": {
    "pycharm": {
     "name": "#%%\n"
    }
   },
   "outputs": [
    {
     "name": "stdout",
     "output_type": "stream",
     "text": [
      "//hecate/Insurance_US/Product Development/Product Management/Global PPM/Reporting/Data Collection/Production/2021.Q1\\live_sources\\us_dat_nz+_05142021114427.parquet - Statistical summary:\n",
      "----------------------------------------------------------------------------------------------------\n",
      "       Analysed Months  Reporting Year  Reporting Quarter  Reporting Month  \\\n",
      "count      5770.000000     5770.000000        5770.000000      5770.000000   \n",
      "mean         11.853380     2019.670017           2.565511         7.652686   \n",
      "std           1.022537        0.470247           1.291312         3.948533   \n",
      "min           3.000000     2019.000000           1.000000         1.000000   \n",
      "25%          12.000000     2019.000000           1.000000         3.000000   \n",
      "50%          12.000000     2020.000000           3.000000         9.000000   \n",
      "75%          12.000000     2020.000000           4.000000        12.000000   \n",
      "max          12.000000     2020.000000           4.000000        12.000000   \n",
      "\n",
      "       Number of Products per Row  Number of B-Partners per Row  \\\n",
      "count                 5770.000000                   5770.000000   \n",
      "mean                     1.216984                      6.544194   \n",
      "std                      2.107047                     95.491947   \n",
      "min                      0.000000                      0.000000   \n",
      "25%                      1.000000                      1.000000   \n",
      "50%                      1.000000                      1.000000   \n",
      "75%                      1.000000                      1.000000   \n",
      "max                     75.000000                   5115.000000   \n",
      "\n",
      "       Number of Policies (Written)  Units of Risk (Written)  \\\n",
      "count                  5.770000e+03             5.770000e+03   \n",
      "mean                   6.946766e+03             3.569573e+03   \n",
      "std                    2.217481e+05             9.120045e+04   \n",
      "min                    0.000000e+00             0.000000e+00   \n",
      "25%                    0.000000e+00             0.000000e+00   \n",
      "50%                    1.000000e+00             2.000000e+00   \n",
      "75%                    5.000000e+00             8.000000e+00   \n",
      "max                    1.267895e+07             5.331082e+06   \n",
      "\n",
      "       Written Revenues net of Taxes  Written Revenues  ...  Commission Ratio  \\\n",
      "count                   5.770000e+03      5.770000e+03  ...       5770.000000   \n",
      "mean                    1.113690e+05      8.663352e+04  ...          0.222409   \n",
      "std                     1.355117e+06      1.260442e+06  ...          0.169172   \n",
      "min                    -6.818870e+03     -7.367320e+03  ...         -4.827586   \n",
      "25%                     0.000000e+00      0.000000e+00  ...          0.115852   \n",
      "50%                     5.500000e+02      2.650000e+02  ...          0.245516   \n",
      "75%                     3.486250e+03      1.700750e+03  ...          0.305500   \n",
      "max                     7.220137e+07      7.220137e+07  ...          3.259012   \n",
      "\n",
      "       Expense Ratio  Combined Ratio  Profit or Loss  Reporting Date From INT  \\\n",
      "count    5770.000000     5770.000000    5.770000e+03                   5770.0   \n",
      "mean        0.184668        1.213262    4.003381e+03               20210101.0   \n",
      "std         0.331767       14.038532    2.903577e+05                      0.0   \n",
      "min       -13.072784     -141.974251   -1.545718e+07               20210101.0   \n",
      "25%         0.175106        0.377014    0.000000e+00               20210101.0   \n",
      "50%         0.175154        0.484224    1.754800e+02               20210101.0   \n",
      "75%         0.192480        0.755868    8.695900e+02               20210101.0   \n",
      "max        18.731819      821.909122    1.123836e+07               20210101.0   \n",
      "\n",
      "            comsub       expsub      ibnrsub  Reporting Date To INT  \\\n",
      "count  5770.000000  5770.000000  5770.000000                 5770.0   \n",
      "mean      0.222409     0.184668     0.155499             20210331.0   \n",
      "std       0.169172     0.331767     0.113006                    0.0   \n",
      "min      -4.827586   -13.072784     0.000000             20210331.0   \n",
      "25%       0.115852     0.175106     0.050000             20210331.0   \n",
      "50%       0.245516     0.175154     0.160000             20210331.0   \n",
      "75%       0.305500     0.192480     0.260000             20210331.0   \n",
      "max       3.259012    18.731819     0.350000             20210331.0   \n",
      "\n",
      "       Date of Analysis INT  \n",
      "count                5770.0  \n",
      "mean             20200421.0  \n",
      "std                     0.0  \n",
      "min              20200421.0  \n",
      "25%              20200421.0  \n",
      "50%              20200421.0  \n",
      "75%              20200421.0  \n",
      "max              20200421.0  \n",
      "\n",
      "[8 rows x 51 columns]\n",
      "//hecate/Insurance_US/Product Development/Product Management/Global PPM/Reporting/Data Collection/Production/2021.Q1\\live_sources\\us_dat_us_05122021094008.parquet - Statistical summary:\n",
      "----------------------------------------------------------------------------------------------------\n",
      "       Analysed Months  Reporting Year  Reporting Quarter  Reporting Month  \\\n",
      "count             12.0            12.0               12.0             12.0   \n",
      "mean              12.0          2020.0                1.0              3.0   \n",
      "std                0.0             0.0                0.0              0.0   \n",
      "min               12.0          2020.0                1.0              3.0   \n",
      "25%               12.0          2020.0                1.0              3.0   \n",
      "50%               12.0          2020.0                1.0              3.0   \n",
      "75%               12.0          2020.0                1.0              3.0   \n",
      "max               12.0          2020.0                1.0              3.0   \n",
      "\n",
      "       Number of Products per Row  Number of B-Partners per Row  \\\n",
      "count                        12.0                          12.0   \n",
      "mean                          1.0                           1.0   \n",
      "std                           0.0                           0.0   \n",
      "min                           1.0                           1.0   \n",
      "25%                           1.0                           1.0   \n",
      "50%                           1.0                           1.0   \n",
      "75%                           1.0                           1.0   \n",
      "max                           1.0                           1.0   \n",
      "\n",
      "       Number of Policies (Written)  Units of Risk (Written)  \\\n",
      "count                     12.000000                12.000000   \n",
      "mean                       8.250000                14.833333   \n",
      "std                       15.357113                22.918168   \n",
      "min                        1.000000                 2.000000   \n",
      "25%                        1.000000                 3.500000   \n",
      "50%                        2.500000                 5.000000   \n",
      "75%                        6.500000                12.000000   \n",
      "max                       55.000000                78.000000   \n",
      "\n",
      "       Written Revenues net of Taxes  Written Revenues  ...  Expense Ratio  \\\n",
      "count                      12.000000         12.000000  ...      12.000000   \n",
      "mean                     2441.833333       2441.833333  ...       0.145899   \n",
      "std                      4435.548400       4435.548400  ...       0.068150   \n",
      "min                       232.000000        232.000000  ...       0.000000   \n",
      "25%                       301.250000        301.250000  ...       0.174868   \n",
      "50%                       516.500000        516.500000  ...       0.175129   \n",
      "75%                      1741.000000       1741.000000  ...       0.175144   \n",
      "max                     15517.000000      15517.000000  ...       0.175446   \n",
      "\n",
      "       Combined Ratio  Profit or Loss  Unnamed: 66  Reporting Date From INT  \\\n",
      "count       12.000000       12.000000         12.0             1.200000e+01   \n",
      "mean         0.433590      663.009167          0.0             2.019368e+07   \n",
      "std          0.258127     1058.817555          0.0             7.668215e+03   \n",
      "min          0.000000      -56.310000          0.0             2.019040e+07   \n",
      "25%          0.399490       38.737500          0.0             2.019040e+07   \n",
      "50%          0.484076      316.145000          0.0             2.019040e+07   \n",
      "75%          0.494163      549.407500          0.0             2.019040e+07   \n",
      "max          1.008319     3334.720000          0.0             2.021010e+07   \n",
      "\n",
      "          comsub     expsub    ibnrsub  Reporting Date To INT  \\\n",
      "count  12.000000  12.000000  12.000000                   12.0   \n",
      "mean    0.195365   0.145899   0.837500             20200331.0   \n",
      "std     0.122502   0.068150   2.885475                    0.0   \n",
      "min     0.000000   0.000000   0.000000             20200331.0   \n",
      "25%     0.139667   0.174868   0.000000             20200331.0   \n",
      "50%     0.247884   0.175129   0.000000             20200331.0   \n",
      "75%     0.286213   0.175144   0.000000             20200331.0   \n",
      "max     0.295685   0.175446  10.000000             20200331.0   \n",
      "\n",
      "       Date of Analysis INT  \n",
      "count                  12.0  \n",
      "mean             20190301.0  \n",
      "std                     0.0  \n",
      "min              20190301.0  \n",
      "25%              20190301.0  \n",
      "50%              20190301.0  \n",
      "75%              20190301.0  \n",
      "max              20190301.0  \n",
      "\n",
      "[8 rows x 52 columns]\n"
     ]
    }
   ],
   "source": [
    "if run_control > 0:\n",
    "\n",
    "    for k, v in df_dict.items():\n",
    "        print(f\"{k} - Statistical summary:\")\n",
    "        print(\"-\" * 100)\n",
    "        print(v.describe())\n",
    "else:\n",
    "    print(\"Default Report 3 Skipped\")"
   ]
  },
  {
   "cell_type": "markdown",
   "metadata": {},
   "source": [
    "#### Null Value Report."
   ]
  },
  {
   "cell_type": "code",
   "execution_count": 18,
   "metadata": {
    "pycharm": {
     "name": "#%%\n"
    }
   },
   "outputs": [
    {
     "name": "stdout",
     "output_type": "stream",
     "text": [
      "//hecate/Insurance_US/Product Development/Product Management/Global PPM/Reporting/Data Collection/Production/2021.Q1\\live_sources\\us_dat_nz+_05142021114427.parquet - Null values in the dataset:\n",
      "----------------------------------------------------------------------------------------------------\n",
      "Business Unit                     0\n",
      "Country                           0\n",
      "Currency                          0\n",
      "Region                            0\n",
      "Reporting Date From               0\n",
      "                                 ..\n",
      "expsub                            0\n",
      "ibnrsub                           0\n",
      "Reporting Date To INT             0\n",
      "Date of Analysis INT              0\n",
      "Selected Fields for Duplicates    0\n",
      "Length: 74, dtype: int64\n",
      "//hecate/Insurance_US/Product Development/Product Management/Global PPM/Reporting/Data Collection/Production/2021.Q1\\live_sources\\us_dat_us_05122021094008.parquet - Null values in the dataset:\n",
      "----------------------------------------------------------------------------------------------------\n",
      "Business Unit                     0\n",
      "Country                           0\n",
      "Currency                          0\n",
      "Region                            0\n",
      "Reporting Date From               0\n",
      "                                 ..\n",
      "expsub                            0\n",
      "ibnrsub                           0\n",
      "Reporting Date To INT             0\n",
      "Date of Analysis INT              0\n",
      "Selected Fields for Duplicates    0\n",
      "Length: 75, dtype: int64\n"
     ]
    }
   ],
   "source": [
    "if run_control > 0:\n",
    "\n",
    "    for k, v in df_dict.items():\n",
    "        print(f\"{k} - Null values in the dataset:\")\n",
    "        print(\"-\" * 100)\n",
    "        print(v.isnull().sum())\n",
    "else:\n",
    "    print(\"Default Report 4 Skipped\")"
   ]
  },
  {
   "cell_type": "markdown",
   "metadata": {},
   "source": [
    "#### Datatypes by field for each file."
   ]
  },
  {
   "cell_type": "code",
   "execution_count": 19,
   "metadata": {
    "pycharm": {
     "name": "#%%\n"
    }
   },
   "outputs": [
    {
     "name": "stdout",
     "output_type": "stream",
     "text": [
      "//hecate/Insurance_US/Product Development/Product Management/Global PPM/Reporting/Data Collection/Production/2021.Q1\\live_sources\\us_dat_nz+_05142021114427.parquet - Datatypes:\n",
      "----------------------------------------------------------------------------------------------------\n",
      "Business Unit                             object\n",
      "Country                                   object\n",
      "Currency                                  object\n",
      "Region                                    object\n",
      "Reporting Date From               datetime64[ns]\n",
      "                                       ...      \n",
      "expsub                                   float64\n",
      "ibnrsub                                  float64\n",
      "Reporting Date To INT                      int32\n",
      "Date of Analysis INT                       int32\n",
      "Selected Fields for Duplicates            object\n",
      "Length: 74, dtype: object\n",
      "//hecate/Insurance_US/Product Development/Product Management/Global PPM/Reporting/Data Collection/Production/2021.Q1\\live_sources\\us_dat_us_05122021094008.parquet - Datatypes:\n",
      "----------------------------------------------------------------------------------------------------\n",
      "Business Unit                             object\n",
      "Country                                   object\n",
      "Currency                                  object\n",
      "Region                                    object\n",
      "Reporting Date From               datetime64[ns]\n",
      "                                       ...      \n",
      "expsub                                   float64\n",
      "ibnrsub                                  float64\n",
      "Reporting Date To INT                      int32\n",
      "Date of Analysis INT                       int32\n",
      "Selected Fields for Duplicates            object\n",
      "Length: 75, dtype: object\n"
     ]
    }
   ],
   "source": [
    "if run_control > 0:\n",
    "\n",
    "    for k, v in df_dict.items():\n",
    "        print(f\"{k} - Datatypes:\")\n",
    "        print(\"-\" * 100)\n",
    "        print(v.dtypes)\n",
    "else:\n",
    "    print(\"Default Report 5 Skipped\")"
   ]
  },
  {
   "cell_type": "markdown",
   "metadata": {},
   "source": [
    "#### Add the datafile name as a column in each source DataFrame"
   ]
  },
  {
   "cell_type": "code",
   "execution_count": 20,
   "metadata": {},
   "outputs": [],
   "source": [
    "for p, f in zip(pathfiles, files_sour):\n",
    "    df_dict[p].insert(0, \"Submission File\", f)"
   ]
  },
  {
   "cell_type": "markdown",
   "metadata": {},
   "source": [
    "#### append into a single DataFrame"
   ]
  },
  {
   "cell_type": "code",
   "execution_count": 21,
   "metadata": {
    "pycharm": {
     "name": "#%%\n"
    }
   },
   "outputs": [],
   "source": [
    "df = pd.DataFrame()\n",
    "\n",
    "for k, v in df_dict.items(): df = df.append(v)\n",
    "\n",
    "df = df.reset_index(drop=True)"
   ]
  },
  {
   "cell_type": "markdown",
   "metadata": {},
   "source": [
    "#### Create Temporary csv Output\n",
    "- Create a direct output of the csv"
   ]
  },
  {
   "cell_type": "code",
   "execution_count": 22,
   "metadata": {
    "pycharm": {
     "name": "#%%\n"
    }
   },
   "outputs": [],
   "source": [
    "prepfile = f'{str(percode)}prep.csv'\n",
    "prepparq = f'{str(percode)}prep.parquet'\n",
    "prephistfile = f'{str(percode)}_{inst_datetime}prep.csv'\n",
    "\n",
    "try:\n",
    "    os.rename(os.path.join(str(rt_path), prepfile), os.path.join(str(rt_path), \"logs/raw_data_file_history/\" , prephistfile))\n",
    "\n",
    "except FileNotFoundError:\n",
    "    pass\n",
    "\n",
    "except FileExistsError:\n",
    "    os.remove(os.path.join(str(rt_path), \"logs/raw_data_file_history/\" , prephistfile))\n",
    "    os.rename(os.path.join(str(rt_path), prepfile), os.path.join(str(rt_path), \"logs/raw_data_file_history/\" , prephistfile))\n",
    "\n",
    "df.to_csv(os.path.join(str(rt_path), prepfile), ',', index=False , encoding='utf-8-sig')\n",
    "df.to_parquet(os.path.join(str(rt_path), prepparq),engine = \"pyarrow\")"
   ]
  },
  {
   "cell_type": "markdown",
   "metadata": {},
   "source": [
    "# This is considered \"pre-pipleine\" data prep. The next step is to read the resulting csv into the acutal data pipeline.\n",
    "\n",
    "# If you are not sure what is being loaded, this step provides a safe way to create a reviewable output file while keeping the production data files in tact.\n",
    "\n"
   ]
  },
  {
   "cell_type": "code",
   "execution_count": 23,
   "metadata": {},
   "outputs": [
    {
     "data": {
      "text/html": [
       "<div>\n",
       "<style scoped>\n",
       "    .dataframe tbody tr th:only-of-type {\n",
       "        vertical-align: middle;\n",
       "    }\n",
       "\n",
       "    .dataframe tbody tr th {\n",
       "        vertical-align: top;\n",
       "    }\n",
       "\n",
       "    .dataframe thead tr th {\n",
       "        text-align: left;\n",
       "    }\n",
       "\n",
       "    .dataframe thead tr:last-of-type th {\n",
       "        text-align: right;\n",
       "    }\n",
       "</style>\n",
       "<table border=\"1\" class=\"dataframe\">\n",
       "  <thead>\n",
       "    <tr>\n",
       "      <th></th>\n",
       "      <th>Reporting Date From</th>\n",
       "      <th>2019-04-01</th>\n",
       "      <th colspan=\"2\" halign=\"left\">2021-01-01</th>\n",
       "    </tr>\n",
       "    <tr>\n",
       "      <th></th>\n",
       "      <th>Reporting Date To</th>\n",
       "      <th>2020-03-31</th>\n",
       "      <th>2020-03-31</th>\n",
       "      <th>2021-03-31</th>\n",
       "    </tr>\n",
       "    <tr>\n",
       "      <th>Country</th>\n",
       "      <th>Submission File</th>\n",
       "      <th></th>\n",
       "      <th></th>\n",
       "      <th></th>\n",
       "    </tr>\n",
       "  </thead>\n",
       "  <tbody>\n",
       "    <tr>\n",
       "      <th>AT</th>\n",
       "      <th>us_dat_nz+_05142021114427.parquet</th>\n",
       "      <td>0</td>\n",
       "      <td>0</td>\n",
       "      <td>64026</td>\n",
       "    </tr>\n",
       "    <tr>\n",
       "      <th>AU</th>\n",
       "      <th>us_dat_nz+_05142021114427.parquet</th>\n",
       "      <td>0</td>\n",
       "      <td>0</td>\n",
       "      <td>2149386</td>\n",
       "    </tr>\n",
       "    <tr>\n",
       "      <th>BG</th>\n",
       "      <th>us_dat_nz+_05142021114427.parquet</th>\n",
       "      <td>0</td>\n",
       "      <td>0</td>\n",
       "      <td>6864</td>\n",
       "    </tr>\n",
       "    <tr>\n",
       "      <th>CA</th>\n",
       "      <th>us_dat_nz+_05142021114427.parquet</th>\n",
       "      <td>0</td>\n",
       "      <td>0</td>\n",
       "      <td>264773</td>\n",
       "    </tr>\n",
       "    <tr>\n",
       "      <th>CH</th>\n",
       "      <th>us_dat_nz+_05142021114427.parquet</th>\n",
       "      <td>0</td>\n",
       "      <td>0</td>\n",
       "      <td>24719</td>\n",
       "    </tr>\n",
       "    <tr>\n",
       "      <th>CN</th>\n",
       "      <th>us_dat_nz+_05142021114427.parquet</th>\n",
       "      <td>0</td>\n",
       "      <td>0</td>\n",
       "      <td>1527912</td>\n",
       "    </tr>\n",
       "    <tr>\n",
       "      <th>CZ</th>\n",
       "      <th>us_dat_nz+_05142021114427.parquet</th>\n",
       "      <td>0</td>\n",
       "      <td>0</td>\n",
       "      <td>1195970</td>\n",
       "    </tr>\n",
       "    <tr>\n",
       "      <th>DE</th>\n",
       "      <th>us_dat_nz+_05142021114427.parquet</th>\n",
       "      <td>0</td>\n",
       "      <td>0</td>\n",
       "      <td>2986862</td>\n",
       "    </tr>\n",
       "    <tr>\n",
       "      <th>DK</th>\n",
       "      <th>us_dat_nz+_05142021114427.parquet</th>\n",
       "      <td>0</td>\n",
       "      <td>0</td>\n",
       "      <td>62014</td>\n",
       "    </tr>\n",
       "    <tr>\n",
       "      <th>ES</th>\n",
       "      <th>us_dat_nz+_05142021114427.parquet</th>\n",
       "      <td>0</td>\n",
       "      <td>0</td>\n",
       "      <td>45747</td>\n",
       "    </tr>\n",
       "    <tr>\n",
       "      <th>FOS</th>\n",
       "      <th>us_dat_nz+_05142021114427.parquet</th>\n",
       "      <td>0</td>\n",
       "      <td>0</td>\n",
       "      <td>4314303</td>\n",
       "    </tr>\n",
       "    <tr>\n",
       "      <th>FR</th>\n",
       "      <th>us_dat_nz+_05142021114427.parquet</th>\n",
       "      <td>0</td>\n",
       "      <td>0</td>\n",
       "      <td>301437</td>\n",
       "    </tr>\n",
       "    <tr>\n",
       "      <th>GR</th>\n",
       "      <th>us_dat_nz+_05142021114427.parquet</th>\n",
       "      <td>0</td>\n",
       "      <td>0</td>\n",
       "      <td>297635</td>\n",
       "    </tr>\n",
       "    <tr>\n",
       "      <th>HK</th>\n",
       "      <th>us_dat_nz+_05142021114427.parquet</th>\n",
       "      <td>0</td>\n",
       "      <td>0</td>\n",
       "      <td>203424</td>\n",
       "    </tr>\n",
       "    <tr>\n",
       "      <th>HU</th>\n",
       "      <th>us_dat_nz+_05142021114427.parquet</th>\n",
       "      <td>0</td>\n",
       "      <td>0</td>\n",
       "      <td>1484</td>\n",
       "    </tr>\n",
       "    <tr>\n",
       "      <th>IS</th>\n",
       "      <th>us_dat_nz+_05142021114427.parquet</th>\n",
       "      <td>0</td>\n",
       "      <td>0</td>\n",
       "      <td>57707</td>\n",
       "    </tr>\n",
       "    <tr>\n",
       "      <th>IT</th>\n",
       "      <th>us_dat_nz+_05142021114427.parquet</th>\n",
       "      <td>0</td>\n",
       "      <td>0</td>\n",
       "      <td>692913</td>\n",
       "    </tr>\n",
       "    <tr>\n",
       "      <th>NL</th>\n",
       "      <th>us_dat_nz+_05142021114427.parquet</th>\n",
       "      <td>0</td>\n",
       "      <td>0</td>\n",
       "      <td>245760</td>\n",
       "    </tr>\n",
       "    <tr>\n",
       "      <th>NO</th>\n",
       "      <th>us_dat_nz+_05142021114427.parquet</th>\n",
       "      <td>0</td>\n",
       "      <td>0</td>\n",
       "      <td>98228</td>\n",
       "    </tr>\n",
       "    <tr>\n",
       "      <th>NZ</th>\n",
       "      <th>us_dat_nz+_05142021114427.parquet</th>\n",
       "      <td>0</td>\n",
       "      <td>0</td>\n",
       "      <td>907751</td>\n",
       "    </tr>\n",
       "    <tr>\n",
       "      <th>PL</th>\n",
       "      <th>us_dat_nz+_05142021114427.parquet</th>\n",
       "      <td>0</td>\n",
       "      <td>0</td>\n",
       "      <td>403324</td>\n",
       "    </tr>\n",
       "    <tr>\n",
       "      <th>PT</th>\n",
       "      <th>us_dat_nz+_05142021114427.parquet</th>\n",
       "      <td>0</td>\n",
       "      <td>0</td>\n",
       "      <td>15974</td>\n",
       "    </tr>\n",
       "    <tr>\n",
       "      <th>RO</th>\n",
       "      <th>us_dat_nz+_05142021114427.parquet</th>\n",
       "      <td>0</td>\n",
       "      <td>0</td>\n",
       "      <td>67883</td>\n",
       "    </tr>\n",
       "    <tr>\n",
       "      <th>SC</th>\n",
       "      <th>us_dat_nz+_05142021114427.parquet</th>\n",
       "      <td>0</td>\n",
       "      <td>0</td>\n",
       "      <td>178229</td>\n",
       "    </tr>\n",
       "    <tr>\n",
       "      <th>SE</th>\n",
       "      <th>us_dat_nz+_05142021114427.parquet</th>\n",
       "      <td>0</td>\n",
       "      <td>0</td>\n",
       "      <td>141809</td>\n",
       "    </tr>\n",
       "    <tr>\n",
       "      <th>SG</th>\n",
       "      <th>us_dat_nz+_05142021114427.parquet</th>\n",
       "      <td>0</td>\n",
       "      <td>0</td>\n",
       "      <td>22892</td>\n",
       "    </tr>\n",
       "    <tr>\n",
       "      <th>UK</th>\n",
       "      <th>us_dat_nz+_05142021114427.parquet</th>\n",
       "      <td>0</td>\n",
       "      <td>0</td>\n",
       "      <td>130699</td>\n",
       "    </tr>\n",
       "    <tr>\n",
       "      <th rowspan=\"2\" valign=\"top\">US</th>\n",
       "      <th>us_dat_nz+_05142021114427.parquet</th>\n",
       "      <td>0</td>\n",
       "      <td>0</td>\n",
       "      <td>87171</td>\n",
       "    </tr>\n",
       "    <tr>\n",
       "      <th>us_dat_us_05122021094008.parquet</th>\n",
       "      <td>1351</td>\n",
       "      <td>0</td>\n",
       "      <td>0</td>\n",
       "    </tr>\n",
       "    <tr>\n",
       "      <th>nan</th>\n",
       "      <th>us_dat_us_05122021094008.parquet</th>\n",
       "      <td>2331</td>\n",
       "      <td>2800</td>\n",
       "      <td>0</td>\n",
       "    </tr>\n",
       "  </tbody>\n",
       "</table>\n",
       "</div>"
      ],
      "text/plain": [
       "Reporting Date From                       2019-04-01 2021-01-01           \n",
       "Reporting Date To                         2020-03-31 2020-03-31 2021-03-31\n",
       "Country Submission File                                                   \n",
       "AT      us_dat_nz+_05142021114427.parquet          0          0      64026\n",
       "AU      us_dat_nz+_05142021114427.parquet          0          0    2149386\n",
       "BG      us_dat_nz+_05142021114427.parquet          0          0       6864\n",
       "CA      us_dat_nz+_05142021114427.parquet          0          0     264773\n",
       "CH      us_dat_nz+_05142021114427.parquet          0          0      24719\n",
       "CN      us_dat_nz+_05142021114427.parquet          0          0    1527912\n",
       "CZ      us_dat_nz+_05142021114427.parquet          0          0    1195970\n",
       "DE      us_dat_nz+_05142021114427.parquet          0          0    2986862\n",
       "DK      us_dat_nz+_05142021114427.parquet          0          0      62014\n",
       "ES      us_dat_nz+_05142021114427.parquet          0          0      45747\n",
       "FOS     us_dat_nz+_05142021114427.parquet          0          0    4314303\n",
       "FR      us_dat_nz+_05142021114427.parquet          0          0     301437\n",
       "GR      us_dat_nz+_05142021114427.parquet          0          0     297635\n",
       "HK      us_dat_nz+_05142021114427.parquet          0          0     203424\n",
       "HU      us_dat_nz+_05142021114427.parquet          0          0       1484\n",
       "IS      us_dat_nz+_05142021114427.parquet          0          0      57707\n",
       "IT      us_dat_nz+_05142021114427.parquet          0          0     692913\n",
       "NL      us_dat_nz+_05142021114427.parquet          0          0     245760\n",
       "NO      us_dat_nz+_05142021114427.parquet          0          0      98228\n",
       "NZ      us_dat_nz+_05142021114427.parquet          0          0     907751\n",
       "PL      us_dat_nz+_05142021114427.parquet          0          0     403324\n",
       "PT      us_dat_nz+_05142021114427.parquet          0          0      15974\n",
       "RO      us_dat_nz+_05142021114427.parquet          0          0      67883\n",
       "SC      us_dat_nz+_05142021114427.parquet          0          0     178229\n",
       "SE      us_dat_nz+_05142021114427.parquet          0          0     141809\n",
       "SG      us_dat_nz+_05142021114427.parquet          0          0      22892\n",
       "UK      us_dat_nz+_05142021114427.parquet          0          0     130699\n",
       "US      us_dat_nz+_05142021114427.parquet          0          0      87171\n",
       "        us_dat_us_05122021094008.parquet        1351          0          0\n",
       "nan     us_dat_us_05122021094008.parquet        2331       2800          0"
      ]
     },
     "execution_count": 23,
     "metadata": {},
     "output_type": "execute_result"
    }
   ],
   "source": [
    "dfp = (df.pivot_table(index=( \"Country\", \"Submission File\"), columns=(\"Reporting Date From\",\"Reporting Date To\" ), values=\"Earned Revenues net of Taxes\").fillna(0).astype(int))\n",
    "\n",
    "dfp"
   ]
  },
  {
   "cell_type": "markdown",
   "metadata": {},
   "source": [
    "#### Store the DataFrame for other noteboks to use"
   ]
  },
  {
   "cell_type": "code",
   "execution_count": 25,
   "metadata": {},
   "outputs": [
    {
     "name": "stdout",
     "output_type": "stream",
     "text": [
      "Stored 'prep_df' (DataFrame)\n"
     ]
    }
   ],
   "source": [
    "prep_df = df\n",
    "\n",
    "%store prep_df"
   ]
  },
  {
   "cell_type": "code",
   "execution_count": null,
   "metadata": {},
   "outputs": [],
   "source": []
  }
 ],
 "metadata": {
  "celltoolbar": "Tags",
  "kernelspec": {
   "display_name": "Python 3",
   "language": "python",
   "name": "python3"
  },
  "language_info": {
   "codemirror_mode": {
    "name": "ipython",
    "version": 3
   },
   "file_extension": ".py",
   "mimetype": "text/x-python",
   "name": "python",
   "nbconvert_exporter": "python",
   "pygments_lexer": "ipython3",
   "version": "3.7.6"
  }
 },
 "nbformat": 4,
 "nbformat_minor": 1
}
