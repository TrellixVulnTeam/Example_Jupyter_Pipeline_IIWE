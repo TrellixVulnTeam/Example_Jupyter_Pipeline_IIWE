{
 "cells": [
  {
   "cell_type": "markdown",
   "id": "85278546",
   "metadata": {},
   "source": [
    "<img src=\"./images/AzPTravel_PPM.png\">"
   ]
  },
  {
   "cell_type": "code",
   "execution_count": 49,
   "id": "bb8059f1",
   "metadata": {},
   "outputs": [],
   "source": [
    "# Libraries"
   ]
  },
  {
   "cell_type": "code",
   "execution_count": 50,
   "id": "73458165",
   "metadata": {},
   "outputs": [],
   "source": [
    "import os\n",
    "import sys\n",
    "#import shutil"
   ]
  },
  {
   "cell_type": "code",
   "execution_count": 51,
   "id": "e5049147",
   "metadata": {},
   "outputs": [],
   "source": [
    "# Paths"
   ]
  },
  {
   "cell_type": "code",
   "execution_count": 52,
   "id": "dae197d2",
   "metadata": {},
   "outputs": [],
   "source": [
    "n_path = os.path.abspath( f'//hecate/Insurance_US/Product Development/Product Management/Global PPM/Reporting/Data Collection/Pipeline Reporting Scripts/GPMpipeline')\n"
   ]
  },
  {
   "cell_type": "code",
   "execution_count": 53,
   "id": "4e4f3f38",
   "metadata": {},
   "outputs": [],
   "source": [
    "# File you want to convert"
   ]
  },
  {
   "cell_type": "code",
   "execution_count": 54,
   "id": "2806bdde",
   "metadata": {},
   "outputs": [],
   "source": [
    "folder_path = \"source_processing\"\n",
    "\n",
    "file = \"xlsxdf2parquetdf.ipynb\""
   ]
  },
  {
   "cell_type": "code",
   "execution_count": 55,
   "id": "41c19996",
   "metadata": {},
   "outputs": [],
   "source": [
    "# Loaction you want it saved"
   ]
  },
  {
   "cell_type": "code",
   "execution_count": 56,
   "id": "01f3750f",
   "metadata": {},
   "outputs": [],
   "source": [
    "final_path = os.path.abspath(os.path.join(n_path, \"..\\..\", \"2021.Q1\", \"Manual Updates\",\"xlsx_to_parquet\"))\n"
   ]
  },
  {
   "cell_type": "code",
   "execution_count": 57,
   "id": "bd4f8e4d",
   "metadata": {},
   "outputs": [],
   "source": [
    "# convert it"
   ]
  },
  {
   "cell_type": "code",
   "execution_count": 58,
   "id": "2d4803c9",
   "metadata": {},
   "outputs": [
    {
     "data": {
      "text/plain": [
       "0"
      ]
     },
     "execution_count": 58,
     "metadata": {},
     "output_type": "execute_result"
    }
   ],
   "source": [
    "os.system(f'jupyter nbconvert --to HTML \"{os.path.join(n_path,folder_path,file)}\"')"
   ]
  },
  {
   "cell_type": "code",
   "execution_count": 59,
   "id": "da8d4ec5",
   "metadata": {},
   "outputs": [],
   "source": [
    "# move it"
   ]
  },
  {
   "cell_type": "code",
   "execution_count": 60,
   "id": "931acb30",
   "metadata": {},
   "outputs": [],
   "source": [
    "try:\n",
    "    os.rename(os.path.join( n_path,folder_path,file.replace(\"ipynb\",\"html\")), os.path.join(final_path,file.replace(\"ipynb\",\"html\")))\n",
    "\n",
    "except FileExistsError:\n",
    "    os.remove(os.path.join(final_path,file.replace(\"ipynb\",\"html\")))\n",
    "    os.rename(os.path.join( n_path,folder_path,file.replace(\"ipynb\",\"html\")), os.path.join(final_path,file.replace(\"ipynb\",\"html\")))\n"
   ]
  },
  {
   "cell_type": "code",
   "execution_count": null,
   "id": "f0e0e252",
   "metadata": {},
   "outputs": [],
   "source": []
  }
 ],
 "metadata": {
  "kernelspec": {
   "display_name": "Python 3",
   "language": "python",
   "name": "python3"
  },
  "language_info": {
   "codemirror_mode": {
    "name": "ipython",
    "version": 3
   },
   "file_extension": ".py",
   "mimetype": "text/x-python",
   "name": "python",
   "nbconvert_exporter": "python",
   "pygments_lexer": "ipython3",
   "version": "3.7.6"
  }
 },
 "nbformat": 4,
 "nbformat_minor": 5
}
