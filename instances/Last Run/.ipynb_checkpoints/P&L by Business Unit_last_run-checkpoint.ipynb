{
 "cells": [
  {
   "cell_type": "markdown",
   "id": "4bb4baae",
   "metadata": {
    "tags": [
     "papermill-error-cell-tag"
    ]
   },
   "source": [
    "<span style=\"color:red; font-family:Helvetica Neue, Helvetica, Arial, sans-serif; font-size:2em;\">An Exception was encountered at '<a href=\"#papermill-error-cell\">In [16]</a>'.</span>"
   ]
  },
  {
   "cell_type": "markdown",
   "id": "761732f0",
   "metadata": {
    "papermill": {
     "duration": 0.387911,
     "end_time": "2021-06-09T21:11:19.407832",
     "exception": false,
     "start_time": "2021-06-09T21:11:19.019921",
     "status": "completed"
    },
    "tags": []
   },
   "source": [
    "<img src=\"../images/AzPTravel_PPM.png\">"
   ]
  },
  {
   "cell_type": "markdown",
   "id": "c5777ece",
   "metadata": {
    "papermill": {
     "duration": 0.421002,
     "end_time": "2021-06-09T21:11:20.286167",
     "exception": false,
     "start_time": "2021-06-09T21:11:19.865165",
     "status": "completed"
    },
    "tags": []
   },
   "source": [
    "## Finance Comparison Report\n",
    "\n",
    "#### This script reads the output of the Upload Assistant and summarizes all finance views with comments along with each report.\n",
    "\n",
    "#### This can be run on its own or as part of the pipeline wherever called (ie from a papermill script or other user inteface)."
   ]
  },
  {
   "cell_type": "markdown",
   "id": "f1175aa1",
   "metadata": {
    "papermill": {
     "duration": 0.446607,
     "end_time": "2021-06-09T21:11:21.119066",
     "exception": false,
     "start_time": "2021-06-09T21:11:20.672459",
     "status": "completed"
    },
    "tags": []
   },
   "source": [
    "### User Variables\n",
    "- These are overwritten if inherited from run_control.ipynb.\n",
    "- Feel Free to reset them for a manual run if you like\n",
    "- Do not save without percode = \"-f\""
   ]
  },
  {
   "cell_type": "code",
   "execution_count": 1,
   "id": "049ac5c4",
   "metadata": {
    "execution": {
     "iopub.execute_input": "2021-06-09T21:11:21.957201Z",
     "iopub.status.busy": "2021-06-09T21:11:21.957201Z",
     "iopub.status.idle": "2021-06-09T21:11:21.975725Z",
     "shell.execute_reply": "2021-06-09T21:11:21.991361Z"
    },
    "papermill": {
     "duration": 0.470831,
     "end_time": "2021-06-09T21:11:21.991361",
     "exception": false,
     "start_time": "2021-06-09T21:11:21.520530",
     "status": "completed"
    },
    "pycharm": {
     "name": "#%%\n"
    },
    "tags": [
     "parameters"
    ]
   },
   "outputs": [],
   "source": [
    "commit_message = \"Development and testing.\"\n",
    "# Give a brief reason for the run.\n",
    "\n",
    "run_control = 1\n",
    "#run_type = 0 - Lite run with no reporting, not recommended.\n",
    "#run_type = 1 - Lite run with normal reporting, default setting.\n",
    "#run_type = 2 - Heavy run with full reporting, available for audits and troubleshooting.\n",
    "#run_type = 5 - A default setting. Indicates the script is being run by an outside process without an inherited value\n",
    "\n",
    "percode = \"2021.Q1\"\n",
    "# Data Collection Code, this controls file paths and output names\n",
    "# \"-f\" is the value indicating a bad inheritance from run with arg\n",
    "\n",
    "s_format = \"p\"\n",
    "# denotes the source data format x == Excel; j == json, p == parquet\n",
    "\n",
    "#----------\n",
    "# do not edit - this either inherits the full instance timestamp from the papermill book or captures the run time of this script.\n",
    "from datetime import datetime\n",
    "inst_datetime = datetime.now().strftime(\"%m%d%Y%H%M%S\")"
   ]
  },
  {
   "cell_type": "code",
   "execution_count": 2,
   "id": "4dcdeb99",
   "metadata": {
    "execution": {
     "iopub.execute_input": "2021-06-09T21:11:22.889251Z",
     "iopub.status.busy": "2021-06-09T21:11:22.889251Z",
     "iopub.status.idle": "2021-06-09T21:11:22.904870Z",
     "shell.execute_reply": "2021-06-09T21:11:22.904870Z"
    },
    "papermill": {
     "duration": 0.469194,
     "end_time": "2021-06-09T21:11:22.904870",
     "exception": false,
     "start_time": "2021-06-09T21:11:22.435676",
     "status": "completed"
    },
    "tags": [
     "injected-parameters"
    ]
   },
   "outputs": [],
   "source": [
    "# Parameters\n",
    "run_control = 1\n",
    "percode = \"2021.Q1\"\n",
    "commit_message = \"Live run,Late additions EI was not present.\"\n",
    "inst_datetime = \"06092021152753\"\n"
   ]
  },
  {
   "cell_type": "markdown",
   "id": "3d5223f6",
   "metadata": {
    "papermill": {
     "duration": 0.472323,
     "end_time": "2021-06-09T21:11:23.832659",
     "exception": false,
     "start_time": "2021-06-09T21:11:23.360336",
     "status": "completed"
    },
    "tags": []
   },
   "source": [
    "#### Notebook display options"
   ]
  },
  {
   "cell_type": "code",
   "execution_count": 3,
   "id": "f9c9d427",
   "metadata": {
    "execution": {
     "iopub.execute_input": "2021-06-09T21:11:24.773761Z",
     "iopub.status.busy": "2021-06-09T21:11:24.773761Z",
     "iopub.status.idle": "2021-06-09T21:11:24.789433Z",
     "shell.execute_reply": "2021-06-09T21:11:24.789433Z"
    },
    "papermill": {
     "duration": 0.498104,
     "end_time": "2021-06-09T21:11:24.789433",
     "exception": false,
     "start_time": "2021-06-09T21:11:24.291329",
     "status": "completed"
    },
    "pycharm": {
     "name": "#%%\n"
    },
    "tags": []
   },
   "outputs": [],
   "source": [
    "from IPython.core.interactiveshell import InteractiveShell\n",
    "InteractiveShell.ast_node_interactivity = \"all\""
   ]
  },
  {
   "cell_type": "code",
   "execution_count": 4,
   "id": "28664c2e",
   "metadata": {
    "execution": {
     "iopub.execute_input": "2021-06-09T21:11:25.793088Z",
     "iopub.status.busy": "2021-06-09T21:11:25.793088Z",
     "iopub.status.idle": "2021-06-09T21:11:25.808717Z",
     "shell.execute_reply": "2021-06-09T21:11:25.808717Z"
    },
    "papermill": {
     "duration": 0.498383,
     "end_time": "2021-06-09T21:11:25.808717",
     "exception": false,
     "start_time": "2021-06-09T21:11:25.310334",
     "status": "completed"
    },
    "tags": []
   },
   "outputs": [],
   "source": [
    "#### import packages"
   ]
  },
  {
   "cell_type": "code",
   "execution_count": 5,
   "id": "656e7bc9",
   "metadata": {
    "execution": {
     "iopub.execute_input": "2021-06-09T21:11:26.810376Z",
     "iopub.status.busy": "2021-06-09T21:11:26.810376Z",
     "iopub.status.idle": "2021-06-09T21:11:36.903473Z",
     "shell.execute_reply": "2021-06-09T21:11:36.903473Z"
    },
    "papermill": {
     "duration": 10.578626,
     "end_time": "2021-06-09T21:11:36.903473",
     "exception": false,
     "start_time": "2021-06-09T21:11:26.324847",
     "status": "completed"
    },
    "pycharm": {
     "name": "#%%\n"
    },
    "tags": []
   },
   "outputs": [],
   "source": [
    "#### Packages used\n",
    "\n",
    "import os\n",
    "import sys\n",
    "\n",
    "from datetime import datetime\n",
    "import warnings\n",
    "\n",
    "import glob\n",
    "import getpass\n",
    "import json\n",
    "\n",
    "import matplotlib.pyplot as plt\n",
    "import openpyxl\n",
    "import numpy as np\n",
    "import pandas as pd\n",
    "\n",
    "import re\n",
    "import nicexcel as nl\n",
    "import xlsxwriter\n",
    "\n",
    "global df"
   ]
  },
  {
   "cell_type": "code",
   "execution_count": 6,
   "id": "f715ce64",
   "metadata": {
    "execution": {
     "iopub.execute_input": "2021-06-09T21:11:37.790649Z",
     "iopub.status.busy": "2021-06-09T21:11:37.788566Z",
     "iopub.status.idle": "2021-06-09T21:11:37.790649Z",
     "shell.execute_reply": "2021-06-09T21:11:37.790649Z"
    },
    "papermill": {
     "duration": 0.498809,
     "end_time": "2021-06-09T21:11:37.790649",
     "exception": false,
     "start_time": "2021-06-09T21:11:37.291840",
     "status": "completed"
    },
    "tags": []
   },
   "outputs": [],
   "source": [
    "#### Default Variables, these govern logic, do not edit."
   ]
  },
  {
   "cell_type": "code",
   "execution_count": 7,
   "id": "3248925b",
   "metadata": {
    "execution": {
     "iopub.execute_input": "2021-06-09T21:11:38.691759Z",
     "iopub.status.busy": "2021-06-09T21:11:38.691759Z",
     "iopub.status.idle": "2021-06-09T21:11:38.707382Z",
     "shell.execute_reply": "2021-06-09T21:11:38.707382Z"
    },
    "papermill": {
     "duration": 0.416515,
     "end_time": "2021-06-09T21:11:38.707382",
     "exception": false,
     "start_time": "2021-06-09T21:11:38.290867",
     "status": "completed"
    },
    "pycharm": {
     "name": "#%%\n"
    },
    "tags": []
   },
   "outputs": [],
   "source": [
    "default_dc = \"20XX.QX\"\n",
    "default_rc = 0 #extra lite mode\n",
    "dummy_perc = \"33Q3\" # bad inheritance"
   ]
  },
  {
   "cell_type": "code",
   "execution_count": 8,
   "id": "cf1dfd4e",
   "metadata": {
    "execution": {
     "iopub.execute_input": "2021-06-09T21:11:39.681353Z",
     "iopub.status.busy": "2021-06-09T21:11:39.678373Z",
     "iopub.status.idle": "2021-06-09T21:11:39.693354Z",
     "shell.execute_reply": "2021-06-09T21:11:39.694370Z"
    },
    "papermill": {
     "duration": 0.549808,
     "end_time": "2021-06-09T21:11:39.695365",
     "exception": false,
     "start_time": "2021-06-09T21:11:39.145557",
     "status": "completed"
    },
    "tags": []
   },
   "outputs": [],
   "source": [
    "#### Script determining run context ie, manual, run_control.ipynb, or other."
   ]
  },
  {
   "cell_type": "code",
   "execution_count": 9,
   "id": "a1e475d8",
   "metadata": {
    "execution": {
     "iopub.execute_input": "2021-06-09T21:11:40.794692Z",
     "iopub.status.busy": "2021-06-09T21:11:40.794692Z",
     "iopub.status.idle": "2021-06-09T21:11:40.794692Z",
     "shell.execute_reply": "2021-06-09T21:11:40.794692Z"
    },
    "papermill": {
     "duration": 0.619766,
     "end_time": "2021-06-09T21:11:40.794692",
     "exception": false,
     "start_time": "2021-06-09T21:11:40.174926",
     "status": "completed"
    },
    "pycharm": {
     "name": "#%%\n"
    },
    "tags": []
   },
   "outputs": [],
   "source": [
    "if run_control == 5:\n",
    "    run_control = default_rc \n",
    "else:\n",
    "    run_control = run_control\n",
    "\n",
    "try:\n",
    "    if sys.argv[1] == \"-f\":\n",
    "        percode = percode\n",
    "    else:\n",
    "        percode = sys.argv[1]\n",
    "\n",
    "except IndexError:\n",
    "    percode = default_dc\n",
    "except NameError:\n",
    "    percode = default_dc\n"
   ]
  },
  {
   "cell_type": "markdown",
   "id": "17eaef80",
   "metadata": {
    "papermill": {
     "duration": 0.542851,
     "end_time": "2021-06-09T21:11:41.808032",
     "exception": false,
     "start_time": "2021-06-09T21:11:41.265181",
     "status": "completed"
    },
    "tags": []
   },
   "source": [
    "#### style settings"
   ]
  },
  {
   "cell_type": "code",
   "execution_count": 10,
   "id": "05f1d7ce",
   "metadata": {
    "execution": {
     "iopub.execute_input": "2021-06-09T21:11:42.849903Z",
     "iopub.status.busy": "2021-06-09T21:11:42.849903Z",
     "iopub.status.idle": "2021-06-09T21:11:42.874018Z",
     "shell.execute_reply": "2021-06-09T21:11:42.874018Z"
    },
    "papermill": {
     "duration": 0.522592,
     "end_time": "2021-06-09T21:11:42.874018",
     "exception": false,
     "start_time": "2021-06-09T21:11:42.351426",
     "status": "completed"
    },
    "pycharm": {
     "name": "#%%\n"
    },
    "tags": []
   },
   "outputs": [],
   "source": [
    "from IPython.core.interactiveshell import InteractiveShell\n",
    "InteractiveShell.ast_node_interactivity = \"all\""
   ]
  },
  {
   "cell_type": "markdown",
   "id": "eca24431",
   "metadata": {
    "papermill": {
     "duration": 0.433559,
     "end_time": "2021-06-09T21:11:43.794868",
     "exception": false,
     "start_time": "2021-06-09T21:11:43.361309",
     "status": "completed"
    },
    "tags": []
   },
   "source": [
    "## Begin Input Read\n",
    "\n",
    "\n",
    "#### Make paths used in script\n",
    "- all paths should be modular and easily replaced ahead of operations"
   ]
  },
  {
   "cell_type": "code",
   "execution_count": 11,
   "id": "7d018b80",
   "metadata": {
    "execution": {
     "iopub.execute_input": "2021-06-09T21:11:44.861564Z",
     "iopub.status.busy": "2021-06-09T21:11:44.845936Z",
     "iopub.status.idle": "2021-06-09T21:11:44.877198Z",
     "shell.execute_reply": "2021-06-09T21:11:44.877198Z"
    },
    "papermill": {
     "duration": 0.595446,
     "end_time": "2021-06-09T21:11:44.877198",
     "exception": false,
     "start_time": "2021-06-09T21:11:44.281752",
     "status": "completed"
    },
    "pycharm": {
     "name": "#%%\n"
    },
    "tags": []
   },
   "outputs": [],
   "source": [
    "#root directory\n",
    "rt_path = f'//hecate/Insurance_US/Product Development/Product Management/Global PPM/Reporting/Data Collection/Production/{str(percode)}'\n",
    "#live sources directory\n",
    "ls_path = os.path.join( rt_path, 'live_sources')\n",
    "#financial report input dir\n",
    "fs_path = os.path.abspath(os.path.join(rt_path, '..','..',f\"{percode}\", 'Finance Report'))\n",
    "#report ouput dir\n",
    "rep_path = os.path.abspath(os.path.join(rt_path, '..','..',f\"{percode}\", 'Standard Reports'))\n",
    "#report ouput archive dir\n",
    "rep_arch_path = os.path.abspath(os.path.join(rep_path, '..','..',f\"{percode}\",  'Archive'))\n",
    "#r project path\n",
    "rscript_path = os.path.abspath(os.path.join(rt_path, '..','..', 'Pipeline Reporting Scripts','Finance Comparison PnL'))\n",
    "\n"
   ]
  },
  {
   "cell_type": "markdown",
   "id": "b162caa6",
   "metadata": {
    "papermill": {
     "duration": 0.499328,
     "end_time": "2021-06-09T21:11:45.868617",
     "exception": false,
     "start_time": "2021-06-09T21:11:45.369289",
     "status": "completed"
    },
    "tags": []
   },
   "source": [
    "#### Make sources used in script\n",
    "- all sources should be modular and easily replaced ahead of operations"
   ]
  },
  {
   "cell_type": "code",
   "execution_count": 12,
   "id": "163160ec",
   "metadata": {
    "execution": {
     "iopub.execute_input": "2021-06-09T21:11:46.900937Z",
     "iopub.status.busy": "2021-06-09T21:11:46.885310Z",
     "iopub.status.idle": "2021-06-09T21:11:46.909846Z",
     "shell.execute_reply": "2021-06-09T21:11:46.912839Z"
    },
    "papermill": {
     "duration": 0.544566,
     "end_time": "2021-06-09T21:11:46.912839",
     "exception": false,
     "start_time": "2021-06-09T21:11:46.368273",
     "status": "completed"
    },
    "pycharm": {
     "name": "#%%\n"
    },
    "tags": []
   },
   "outputs": [],
   "source": [
    "fin_xls = os.path.join(fs_path ,\"Finance_Report.xlsx\"   )\n",
    "\n",
    "rscript = os.path.join( rscript_path, 'Finance_Comparison_PnL.Rmd')"
   ]
  },
  {
   "cell_type": "markdown",
   "id": "30487a8c",
   "metadata": {
    "papermill": {
     "duration": 0.518056,
     "end_time": "2021-06-09T21:11:48.067461",
     "exception": false,
     "start_time": "2021-06-09T21:11:47.549405",
     "status": "completed"
    },
    "tags": []
   },
   "source": [
    "#### Get a list of only source files in the path that start with \"us_dat\".\n",
    "#### Logic determines the source file types.\n",
    "\n",
    "#### User instructions:\n",
    "- Make sure that you have 1 file per source in this folder.\n",
    "    -  For instance, do not have two files for Portugal. If there is an update, archive the old one.\n",
    "- Do not overwrite files in the archive.\n",
    "    - Rename newly archived files, no strict convention, we keep track of these by the modified date.\n",
    "- It is ok to have multiple sources in one file."
   ]
  },
  {
   "cell_type": "code",
   "execution_count": 13,
   "id": "d4620cc5",
   "metadata": {
    "execution": {
     "iopub.execute_input": "2021-06-09T21:11:49.121179Z",
     "iopub.status.busy": "2021-06-09T21:11:49.105515Z",
     "iopub.status.idle": "2021-06-09T21:11:49.176650Z",
     "shell.execute_reply": "2021-06-09T21:11:49.176650Z"
    },
    "papermill": {
     "duration": 0.587511,
     "end_time": "2021-06-09T21:11:49.176650",
     "exception": false,
     "start_time": "2021-06-09T21:11:48.589139",
     "status": "completed"
    },
    "pycharm": {
     "name": "#%%\n"
    },
    "tags": []
   },
   "outputs": [
    {
     "data": {
      "text/plain": [
       "['us_dat_at_+te_q1_2021_at.parquet',\n",
       " 'us_dat_au_05142021143612.parquet',\n",
       " 'us_dat_ca_05202021134242.parquet',\n",
       " 'us_dat_ch_06042021132400.parquet',\n",
       " 'us_dat_cz_05262021090243.parquet',\n",
       " 'us_dat_de_06082021183744.parquet',\n",
       " 'us_dat_es_05202021105141.parquet',\n",
       " 'us_dat_gr_05252021115404.parquet',\n",
       " 'us_dat_ie_06042021151138.parquet',\n",
       " 'us_dat_it_05242021111520.parquet',\n",
       " 'us_dat_nl_05272021163120.parquet',\n",
       " 'us_dat_pl_05262021084450.parquet',\n",
       " 'us_dat_pt_05202021121056.parquet',\n",
       " 'us_dat_us_06022021145526.parquet',\n",
       " 'us_orig_au_05142021143611.json',\n",
       " 'us_survey_au_02172021174808.parquet',\n",
       " 'us_survey_au_05142021143750.parquet',\n",
       " 'us_survey_ca_05202021135610.parquet',\n",
       " 'us_survey_ch_06042021133025.parquet',\n",
       " 'us_survey_cz_05262021090440.parquet',\n",
       " 'us_survey_de_06082021184229.parquet',\n",
       " 'us_survey_es_05202021105431.parquet',\n",
       " 'us_survey_gr_05252021115827.parquet',\n",
       " 'us_survey_ie_06042021151634.parquet',\n",
       " 'us_survey_it_05242021111759.parquet',\n",
       " 'us_survey_nl_05272021163630.parquet',\n",
       " 'us_survey_pl_05262021084708.parquet',\n",
       " 'us_survey_pt_05202021121304.parquet',\n",
       " 'us_vcomments_at_06022021144027.parquet',\n",
       " 'us_vcomments_au_02172021174434.parquet',\n",
       " 'us_vcomments_au_02172021174440.parquet',\n",
       " 'us_vcomments_au_05142021143612.parquet',\n",
       " 'us_vcomments_au_05142021143617.parquet',\n",
       " 'us_vcomments_au_mnual_creation.parquet',\n",
       " 'us_vcomments_ca_05202021134242.parquet',\n",
       " 'us_vcomments_ch_06042021132400.parquet',\n",
       " 'us_vcomments_cz_05242021103837.parquet',\n",
       " 'us_vcomments_cz_05262021090243.parquet',\n",
       " 'us_vcomments_de_06082021183744.parquet',\n",
       " 'us_vcomments_es_05202021105141.parquet',\n",
       " 'us_vcomments_es_05202021105142.parquet',\n",
       " 'us_vcomments_gr_05252021115404.parquet',\n",
       " 'us_vcomments_ie_06042021151138.parquet',\n",
       " 'us_vcomments_it_05242021111521.parquet',\n",
       " 'us_vcomments_nl_05272021163120.parquet',\n",
       " 'us_vcomments_pl_05262021084450.parquet',\n",
       " 'us_vcomments_pt_05202021121056.parquet',\n",
       " 'us_vcomments_us_06022021145526.parquet',\n",
       " 'us_vdf_at_06022021144027.json',\n",
       " 'us_vdf_au_man42021143613.json',\n",
       " 'us_vdf_ca_05202021134242.json',\n",
       " 'us_vdf_ch_06042021132400.json',\n",
       " 'us_vdf_cz_05242021103837.json',\n",
       " 'us_vdf_cz_05262021090243.json',\n",
       " 'us_vdf_de_06082021183744.json',\n",
       " 'us_vdf_es_05202021105142.json',\n",
       " 'us_vdf_gr_05252021115404.json',\n",
       " 'us_vdf_ie_06042021151138.json',\n",
       " 'us_vdf_it_05242021111521.json',\n",
       " 'us_vdf_nl_05272021163120.json',\n",
       " 'us_vdf_pl_05262021084450.json',\n",
       " 'us_vdf_pt_05202021121056.json',\n",
       " 'us_vdf_us_06022021145526.json']"
      ]
     },
     "execution_count": 13,
     "metadata": {},
     "output_type": "execute_result"
    }
   ],
   "source": [
    "files = os.listdir(ls_path)\n",
    "files = [files.lower() for files in files]\n",
    "\n",
    "files_sour = [f for f in files if f[-5:]  == '.json' or  f[-8:] == '.parquet' and f[:7] != 'us_orig']\n",
    "\n",
    "files_sour"
   ]
  },
  {
   "cell_type": "code",
   "execution_count": 14,
   "id": "1306cf63",
   "metadata": {
    "execution": {
     "iopub.execute_input": "2021-06-09T21:11:50.203794Z",
     "iopub.status.busy": "2021-06-09T21:11:50.193791Z",
     "iopub.status.idle": "2021-06-09T21:11:50.219794Z",
     "shell.execute_reply": "2021-06-09T21:11:50.221790Z"
    },
    "papermill": {
     "duration": 0.540686,
     "end_time": "2021-06-09T21:11:50.221790",
     "exception": false,
     "start_time": "2021-06-09T21:11:49.681104",
     "status": "completed"
    },
    "pycharm": {
     "name": "#%%\n"
    },
    "tags": []
   },
   "outputs": [
    {
     "data": {
      "text/plain": [
       "['IT',\n",
       " 'IE',\n",
       " 'US',\n",
       " 'ES',\n",
       " 'AT',\n",
       " 'PT',\n",
       " 'CZ',\n",
       " 'AU',\n",
       " 'NL',\n",
       " 'DE',\n",
       " 'CH',\n",
       " 'PL',\n",
       " 'CA',\n",
       " 'GR']"
      ]
     },
     "execution_count": 14,
     "metadata": {},
     "output_type": "execute_result"
    }
   ],
   "source": [
    "list_jfiles = glob.glob(os.path.join(ls_path, 'us_vcomments_*.json'))\n",
    "list_pfiles = glob.glob(os.path.join(ls_path, 'us_vcomments_*.parquet'))\n",
    "\n",
    "for idx, i in enumerate(list_jfiles):\n",
    "    list_jfiles[idx] = list_jfiles[idx][-23:-19]\n",
    "    list_jfiles[idx] = list_jfiles[idx].replace('_','')\n",
    "\n",
    "for idx, i in enumerate(list_pfiles):\n",
    "    list_pfiles[idx] = list_pfiles[idx][-26:-22]\n",
    "    list_pfiles[idx] = list_pfiles[idx].replace('_','')\n",
    "\n",
    "list_files = []\n",
    "    \n",
    "for i in list_jfiles : list_files.append(i)    \n",
    "for i in list_pfiles : list_files.append(i)\n",
    "\n",
    "\n",
    "BU_set = set(list_files)\n",
    "BU_list = list(BU_set)\n",
    "\n",
    "BU_list"
   ]
  },
  {
   "cell_type": "code",
   "execution_count": 15,
   "id": "1d3d2206",
   "metadata": {
    "execution": {
     "iopub.execute_input": "2021-06-09T21:11:51.284353Z",
     "iopub.status.busy": "2021-06-09T21:11:51.284353Z",
     "iopub.status.idle": "2021-06-09T21:11:51.305886Z",
     "shell.execute_reply": "2021-06-09T21:11:51.306884Z"
    },
    "papermill": {
     "duration": 0.610179,
     "end_time": "2021-06-09T21:11:51.307884",
     "exception": false,
     "start_time": "2021-06-09T21:11:50.697705",
     "status": "completed"
    },
    "pycharm": {
     "name": "#%%\n"
    },
    "tags": []
   },
   "outputs": [],
   "source": [
    "files_cmnts = [i for i in files_sour if \"vcomments\" in i  and \"parq\" in i ]\n"
   ]
  },
  {
   "cell_type": "code",
   "execution_count": null,
   "id": "55ed3061",
   "metadata": {},
   "outputs": [],
   "source": []
  },
  {
   "cell_type": "markdown",
   "id": "530ae443",
   "metadata": {
    "tags": [
     "papermill-error-cell-tag"
    ]
   },
   "source": [
    "<span id=\"papermill-error-cell\" style=\"color:red; font-family:Helvetica Neue, Helvetica, Arial, sans-serif; font-size:2em;\">Execution using papermill encountered an exception here and stopped:</span>"
   ]
  },
  {
   "cell_type": "code",
   "execution_count": 16,
   "id": "e09e0ffd",
   "metadata": {
    "execution": {
     "iopub.execute_input": "2021-06-09T21:11:52.317418Z",
     "iopub.status.busy": "2021-06-09T21:11:52.301799Z",
     "iopub.status.idle": "2021-06-09T21:12:04.350518Z",
     "shell.execute_reply": "2021-06-09T21:12:04.350518Z"
    },
    "papermill": {
     "duration": 12.538632,
     "end_time": "2021-06-09T21:12:04.350518",
     "exception": true,
     "start_time": "2021-06-09T21:11:51.811886",
     "status": "failed"
    },
    "pycharm": {
     "name": "#%%\n"
    },
    "tags": []
   },
   "outputs": [
    {
     "ename": "ValueError",
     "evalue": "cannot insert Business Unit, already exists",
     "output_type": "error",
     "traceback": [
      "\u001b[1;31m---------------------------------------------------------------------------\u001b[0m",
      "\u001b[1;31mValueError\u001b[0m                                Traceback (most recent call last)",
      "\u001b[1;32m<ipython-input-16-fc680c0296bf>\u001b[0m in \u001b[0;36m<module>\u001b[1;34m\u001b[0m\n\u001b[0;32m      9\u001b[0m     \u001b[0mrecent_vers_a\u001b[0m \u001b[1;33m=\u001b[0m \u001b[0mmax\u001b[0m\u001b[1;33m(\u001b[0m\u001b[0mlist_files_a\u001b[0m\u001b[1;33m,\u001b[0m \u001b[0mkey\u001b[0m\u001b[1;33m=\u001b[0m\u001b[0mos\u001b[0m\u001b[1;33m.\u001b[0m\u001b[0mpath\u001b[0m\u001b[1;33m.\u001b[0m\u001b[0mgetctime\u001b[0m\u001b[1;33m)\u001b[0m\u001b[1;33m\u001b[0m\u001b[1;33m\u001b[0m\u001b[0m\n\u001b[0;32m     10\u001b[0m     \u001b[0midf\u001b[0m  \u001b[1;33m=\u001b[0m  \u001b[0mpd\u001b[0m\u001b[1;33m.\u001b[0m\u001b[0mread_parquet\u001b[0m\u001b[1;33m(\u001b[0m\u001b[0mrecent_vers_a\u001b[0m\u001b[1;33m,\u001b[0m \u001b[0mengine\u001b[0m \u001b[1;33m=\u001b[0m \u001b[1;34m\"pyarrow\"\u001b[0m\u001b[1;33m)\u001b[0m\u001b[1;33m\u001b[0m\u001b[1;33m\u001b[0m\u001b[0m\n\u001b[1;32m---> 11\u001b[1;33m     \u001b[0midf\u001b[0m\u001b[1;33m.\u001b[0m\u001b[0minsert\u001b[0m\u001b[1;33m(\u001b[0m\u001b[1;36m0\u001b[0m\u001b[1;33m,\u001b[0m \u001b[1;34m\"Business Unit\"\u001b[0m\u001b[1;33m,\u001b[0m\u001b[0mBU_list\u001b[0m\u001b[1;33m[\u001b[0m\u001b[0midx\u001b[0m\u001b[1;33m]\u001b[0m\u001b[1;33m)\u001b[0m\u001b[1;33m\u001b[0m\u001b[1;33m\u001b[0m\u001b[0m\n\u001b[0m\u001b[0;32m     12\u001b[0m     \u001b[0mlatest_valcomments\u001b[0m \u001b[1;33m=\u001b[0m \u001b[0mlatest_valcomments\u001b[0m\u001b[1;33m.\u001b[0m\u001b[0mappend\u001b[0m\u001b[1;33m(\u001b[0m\u001b[0midf\u001b[0m\u001b[1;33m)\u001b[0m\u001b[1;33m\u001b[0m\u001b[1;33m\u001b[0m\u001b[0m\n\u001b[0;32m     13\u001b[0m \u001b[1;33m\u001b[0m\u001b[0m\n",
      "\u001b[1;32m~\\Anaconda3\\lib\\site-packages\\pandas\\core\\frame.py\u001b[0m in \u001b[0;36minsert\u001b[1;34m(self, loc, column, value, allow_duplicates)\u001b[0m\n\u001b[0;32m   3621\u001b[0m         \u001b[0mself\u001b[0m\u001b[1;33m.\u001b[0m\u001b[0m_ensure_valid_index\u001b[0m\u001b[1;33m(\u001b[0m\u001b[0mvalue\u001b[0m\u001b[1;33m)\u001b[0m\u001b[1;33m\u001b[0m\u001b[1;33m\u001b[0m\u001b[0m\n\u001b[0;32m   3622\u001b[0m         \u001b[0mvalue\u001b[0m \u001b[1;33m=\u001b[0m \u001b[0mself\u001b[0m\u001b[1;33m.\u001b[0m\u001b[0m_sanitize_column\u001b[0m\u001b[1;33m(\u001b[0m\u001b[0mcolumn\u001b[0m\u001b[1;33m,\u001b[0m \u001b[0mvalue\u001b[0m\u001b[1;33m,\u001b[0m \u001b[0mbroadcast\u001b[0m\u001b[1;33m=\u001b[0m\u001b[1;32mFalse\u001b[0m\u001b[1;33m)\u001b[0m\u001b[1;33m\u001b[0m\u001b[1;33m\u001b[0m\u001b[0m\n\u001b[1;32m-> 3623\u001b[1;33m         \u001b[0mself\u001b[0m\u001b[1;33m.\u001b[0m\u001b[0m_mgr\u001b[0m\u001b[1;33m.\u001b[0m\u001b[0minsert\u001b[0m\u001b[1;33m(\u001b[0m\u001b[0mloc\u001b[0m\u001b[1;33m,\u001b[0m \u001b[0mcolumn\u001b[0m\u001b[1;33m,\u001b[0m \u001b[0mvalue\u001b[0m\u001b[1;33m,\u001b[0m \u001b[0mallow_duplicates\u001b[0m\u001b[1;33m=\u001b[0m\u001b[0mallow_duplicates\u001b[0m\u001b[1;33m)\u001b[0m\u001b[1;33m\u001b[0m\u001b[1;33m\u001b[0m\u001b[0m\n\u001b[0m\u001b[0;32m   3624\u001b[0m \u001b[1;33m\u001b[0m\u001b[0m\n\u001b[0;32m   3625\u001b[0m     \u001b[1;32mdef\u001b[0m \u001b[0massign\u001b[0m\u001b[1;33m(\u001b[0m\u001b[0mself\u001b[0m\u001b[1;33m,\u001b[0m \u001b[1;33m**\u001b[0m\u001b[0mkwargs\u001b[0m\u001b[1;33m)\u001b[0m \u001b[1;33m->\u001b[0m \u001b[1;34m\"DataFrame\"\u001b[0m\u001b[1;33m:\u001b[0m\u001b[1;33m\u001b[0m\u001b[1;33m\u001b[0m\u001b[0m\n",
      "\u001b[1;32m~\\Anaconda3\\lib\\site-packages\\pandas\\core\\internals\\managers.py\u001b[0m in \u001b[0;36minsert\u001b[1;34m(self, loc, item, value, allow_duplicates)\u001b[0m\n\u001b[0;32m   1175\u001b[0m         \u001b[1;32mif\u001b[0m \u001b[1;32mnot\u001b[0m \u001b[0mallow_duplicates\u001b[0m \u001b[1;32mand\u001b[0m \u001b[0mitem\u001b[0m \u001b[1;32min\u001b[0m \u001b[0mself\u001b[0m\u001b[1;33m.\u001b[0m\u001b[0mitems\u001b[0m\u001b[1;33m:\u001b[0m\u001b[1;33m\u001b[0m\u001b[1;33m\u001b[0m\u001b[0m\n\u001b[0;32m   1176\u001b[0m             \u001b[1;31m# Should this be a different kind of error??\u001b[0m\u001b[1;33m\u001b[0m\u001b[1;33m\u001b[0m\u001b[1;33m\u001b[0m\u001b[0m\n\u001b[1;32m-> 1177\u001b[1;33m             \u001b[1;32mraise\u001b[0m \u001b[0mValueError\u001b[0m\u001b[1;33m(\u001b[0m\u001b[1;34mf\"cannot insert {item}, already exists\"\u001b[0m\u001b[1;33m)\u001b[0m\u001b[1;33m\u001b[0m\u001b[1;33m\u001b[0m\u001b[0m\n\u001b[0m\u001b[0;32m   1178\u001b[0m \u001b[1;33m\u001b[0m\u001b[0m\n\u001b[0;32m   1179\u001b[0m         \u001b[1;32mif\u001b[0m \u001b[1;32mnot\u001b[0m \u001b[0misinstance\u001b[0m\u001b[1;33m(\u001b[0m\u001b[0mloc\u001b[0m\u001b[1;33m,\u001b[0m \u001b[0mint\u001b[0m\u001b[1;33m)\u001b[0m\u001b[1;33m:\u001b[0m\u001b[1;33m\u001b[0m\u001b[1;33m\u001b[0m\u001b[0m\n",
      "\u001b[1;31mValueError\u001b[0m: cannot insert Business Unit, already exists"
     ]
    }
   ],
   "source": [
    "cols = ['Business Unit', 'Validation Rule', 'Comments', 'Row Counts', 'Check Type']\n",
    "\n",
    "\n",
    "latest_valcomments = pd.DataFrame(columns = cols)\n",
    "\n",
    "\n",
    "for idx, i in enumerate(BU_list):\n",
    "    list_files_a = glob.glob(os.path.join(ls_path, f'us_vcomments_{i}*.parquet'))\n",
    "    recent_vers_a = max(list_files_a, key=os.path.getctime)\n",
    "    idf  =  pd.read_parquet(recent_vers_a, engine = \"pyarrow\")\n",
    "    idf.insert(0, \"Business Unit\",BU_list[idx])\n",
    "    latest_valcomments = latest_valcomments.append(idf)\n",
    "\n",
    "latest_valcomments = latest_valcomments.reset_index(drop=True)\n",
    "\n",
    "latest_valcomments \n"
   ]
  },
  {
   "cell_type": "code",
   "execution_count": null,
   "id": "930bf4df",
   "metadata": {
    "papermill": {
     "duration": null,
     "end_time": null,
     "exception": null,
     "start_time": null,
     "status": "pending"
    },
    "pycharm": {
     "name": "#%%\n"
    },
    "tags": []
   },
   "outputs": [],
   "source": [
    "latest_vdfdata_sets = []\n",
    "\n",
    "for idx, i in enumerate(BU_list):\n",
    "    try:\n",
    "        list_files_b = glob.glob(os.path.join(ls_path, f'us_vdf_{i}*.json'))\n",
    "        recent_vers_b = max(list_files_b, key=os.path.getctime)\n",
    "        with open(recent_vers_b, 'r') as fp:\n",
    "            data_dict = json.load(fp)\n",
    "            dfslist =   { key: pd.DataFrame(data_dict[key]) for key in data_dict  }\n",
    "            for i in dfslist: latest_vdfdata_sets.append(dfslist[i])\n",
    "    except ValueError:\n",
    "        pass"
   ]
  },
  {
   "cell_type": "code",
   "execution_count": null,
   "id": "404552f7",
   "metadata": {
    "papermill": {
     "duration": null,
     "end_time": null,
     "exception": null,
     "start_time": null,
     "status": "pending"
    },
    "pycharm": {
     "name": "#%%\n"
    },
    "tags": []
   },
   "outputs": [],
   "source": [
    "fin_df = pd.read_excel(fin_xls, sheet_name= 'Finance_Report' ,  nrows=60)\n",
    "\n",
    "fin_df = fin_df[~fin_df[\"DC_BU_Code\"].isna()]\n",
    "\n",
    "# still sllooooowwwwww\n"
   ]
  },
  {
   "cell_type": "markdown",
   "id": "14b4927c",
   "metadata": {
    "papermill": {
     "duration": null,
     "end_time": null,
     "exception": null,
     "start_time": null,
     "status": "pending"
    },
    "tags": []
   },
   "source": [
    "## End Input Read\n",
    "## Begin Transformations"
   ]
  },
  {
   "cell_type": "code",
   "execution_count": null,
   "id": "0430f7a5",
   "metadata": {
    "papermill": {
     "duration": null,
     "end_time": null,
     "exception": null,
     "start_time": null,
     "status": "pending"
    },
    "pycharm": {
     "name": "#%%\n"
    },
    "tags": []
   },
   "outputs": [],
   "source": [
    "latest_valcomments[\"Applies to\"] = latest_valcomments[\"Business Unit\"]\n"
   ]
  },
  {
   "cell_type": "code",
   "execution_count": null,
   "id": "caf4b81a",
   "metadata": {
    "papermill": {
     "duration": null,
     "end_time": null,
     "exception": null,
     "start_time": null,
     "status": "pending"
    },
    "pycharm": {
     "name": "#%%\n"
    },
    "tags": []
   },
   "outputs": [],
   "source": [
    "for idx, i in enumerate(latest_valcomments[\"Business Unit\"]):\n",
    "    if \"+\" in  latest_valcomments[\"Business Unit\"][idx]:\n",
    "        latest_valcomments.iat[idx , 5]  = \"Multiple Business Units\"\n",
    "    else:\n",
    "        latest_valcomments.iat[idx , 5]   = \"Business Unit Only\"\n"
   ]
  },
  {
   "cell_type": "code",
   "execution_count": null,
   "id": "bdef7b1e",
   "metadata": {
    "papermill": {
     "duration": null,
     "end_time": null,
     "exception": null,
     "start_time": null,
     "status": "pending"
    },
    "pycharm": {
     "name": "#%%\n"
    },
    "tags": []
   },
   "outputs": [],
   "source": [
    "for idx, i  in  enumerate(latest_vdfdata_sets):\n",
    "            c = len(i.columns)\n",
    "            i.insert(c , \"Submission Comment\", latest_valcomments[\"Comments\"][idx])\n",
    "            i.insert(c +1, \"Applies to\", latest_valcomments[\"Applies to\"][idx])\n"
   ]
  },
  {
   "cell_type": "markdown",
   "id": "4534accb",
   "metadata": {
    "papermill": {
     "duration": null,
     "end_time": null,
     "exception": null,
     "start_time": null,
     "status": "pending"
    },
    "tags": []
   },
   "source": [
    "## End Transformations\n",
    "## Begin Report Making\n",
    "\n"
   ]
  },
  {
   "cell_type": "code",
   "execution_count": null,
   "id": "560a592f",
   "metadata": {
    "papermill": {
     "duration": null,
     "end_time": null,
     "exception": null,
     "start_time": null,
     "status": "pending"
    },
    "pycharm": {
     "name": "#%%\n"
    },
    "tags": []
   },
   "outputs": [],
   "source": [
    "wrcols = ['Country', '(LC) Submission Written Revenue net of Taxes',\n",
    "       '(EUR) Submission Written Revenue net of Taxes',\n",
    "       '(EUR) Finance Sales Gross Written', '(EUR) Difference', \"Submission Comment\",\"Applies to\" ]\n",
    "\n",
    "ercols = ['Country', '(LC): Submission Earned Revenues net of Taxes',\n",
    "       '(EUR): Submission Earned Revenues net of Taxes',\n",
    "       '(EUR) Finance Net Earnings', '(EUR) Difference', \"Submission Comment\",\"Applies to\" ]\n",
    "\n",
    "lrcols = ['Country', 'Submission Loss Ratio', 'Finance Loss Ratio',\n",
    "       'Difference (%)', \"Submission Comment\",\"Applies to\" ]\n",
    "\n",
    "crcols = ['Country', 'Submission Commission Ratio', 'Finance Commission Ratio',\n",
    "       'Difference (%)', \"Submission Comment\",\"Applies to\" ]\n",
    "\n",
    "etcols = ['Country', 'Submission Expense Ratio', 'Finance Expense Ratio',\n",
    "       'Difference (%)', \"Submission Comment\",\"Applies to\" ]\n",
    "\n",
    "Written_Revenue_Report = pd.DataFrame(columns = wrcols )\n",
    "Earned_Revenue_Report = pd.DataFrame(columns = ercols )\n",
    "Loss_Ratio_Report = pd.DataFrame(columns = lrcols )\n",
    "Commission_Ratio_Report = pd.DataFrame(columns = crcols )\n",
    "Expense_Ratio_Report = pd.DataFrame(columns = etcols )\n",
    "\n",
    "\n",
    "for idx, i in enumerate(latest_vdfdata_sets):\n",
    "    try:\n",
    "        Written_Revenue_Report = Written_Revenue_Report.append(i[wrcols])\n",
    "    except:\n",
    "        pass\n",
    "    try:\n",
    "        Earned_Revenue_Report = Earned_Revenue_Report.append(i[ercols])\n",
    "    except:\n",
    "        pass\n",
    "    try:\n",
    "        Loss_Ratio_Report = Loss_Ratio_Report.append(i[lrcols])\n",
    "    except:\n",
    "        pass\n",
    "    try:\n",
    "        Commission_Ratio_Report = Commission_Ratio_Report.append(i[crcols])\n",
    "    except:\n",
    "        pass\n",
    "    try:\n",
    "        Expense_Ratio_Report = Expense_Ratio_Report.append(i[etcols])\n",
    "    except:\n",
    "        pass"
   ]
  },
  {
   "cell_type": "code",
   "execution_count": null,
   "id": "defb33b7",
   "metadata": {
    "papermill": {
     "duration": null,
     "end_time": null,
     "exception": null,
     "start_time": null,
     "status": "pending"
    },
    "pycharm": {
     "name": "#%%\n"
    },
    "tags": []
   },
   "outputs": [],
   "source": [
    "fin_rep_dict = { \"Written Revenue Comparison\" : Written_Revenue_Report , \"Earned Revenue Comparison\" : \n",
    "                Earned_Revenue_Report , \"Loss Ratio Comparison\" : Loss_Ratio_Report,\n",
    "                \"Commission Ratio Comparison\" : Commission_Ratio_Report, \"Expense Ratio Comparison\"  :\n",
    "                Expense_Ratio_Report  }\n",
    "\n",
    "fin_rep_dict"
   ]
  },
  {
   "cell_type": "code",
   "execution_count": null,
   "id": "46022386",
   "metadata": {
    "papermill": {
     "duration": null,
     "end_time": null,
     "exception": null,
     "start_time": null,
     "status": "pending"
    },
    "pycharm": {
     "name": "#%%\n"
    },
    "tags": []
   },
   "outputs": [],
   "source": [
    "for k, v  in fin_rep_dict.items():\n",
    "    v = pd.DataFrame(v)\n",
    "    cols = v.columns\n",
    "    newcols = []\n",
    "    for c in cols : newcols.append( f\"{k} - {c}\")\n",
    "    for c in cols : v.columns=(newcols)\n",
    "\n",
    "            #: fin_rep_dict[k].update(v.rename(columns={i: f\"{k} -{i}\"}))\n",
    "fin_rep_dict\n"
   ]
  },
  {
   "cell_type": "code",
   "execution_count": null,
   "id": "1dc3e990",
   "metadata": {
    "papermill": {
     "duration": null,
     "end_time": null,
     "exception": null,
     "start_time": null,
     "status": "pending"
    },
    "pycharm": {
     "name": "#%%\n"
    },
    "tags": []
   },
   "outputs": [],
   "source": [
    "for k, v  in fin_rep_dict.items():\n",
    "    v = pd.DataFrame(v)\n",
    "    fin_df =  pd.merge(fin_df, v, left_on= \"BU_Desc\", right_on= f\"{k} - Country\", how= 'left')\n",
    "\n",
    "fin_df"
   ]
  },
  {
   "cell_type": "code",
   "execution_count": null,
   "id": "d178d5fd",
   "metadata": {
    "papermill": {
     "duration": null,
     "end_time": null,
     "exception": null,
     "start_time": null,
     "status": "pending"
    },
    "tags": []
   },
   "outputs": [],
   "source": [
    "print(fin_df.columns)"
   ]
  },
  {
   "cell_type": "code",
   "execution_count": null,
   "id": "475c8ac1",
   "metadata": {
    "papermill": {
     "duration": null,
     "end_time": null,
     "exception": null,
     "start_time": null,
     "status": "pending"
    },
    "tags": []
   },
   "outputs": [],
   "source": [
    "\n",
    "conv_cols = [\n",
    "       'Written Revenue Comparison - (LC) Submission Written Revenue net of Taxes',\n",
    "       'Written Revenue Comparison - (EUR) Submission Written Revenue net of Taxes',\n",
    "       'Written Revenue Comparison - (EUR) Finance Sales Gross Written',\n",
    "       'Written Revenue Comparison - (EUR) Difference',\n",
    "       'Earned Revenue Comparison - (LC): Submission Earned Revenues net of Taxes',\n",
    "       'Earned Revenue Comparison - (EUR): Submission Earned Revenues net of Taxes',\n",
    "       'Earned Revenue Comparison - (EUR) Finance Net Earnings',\n",
    "       'Earned Revenue Comparison - (EUR) Difference',\n",
    "       'Loss Ratio Comparison - Submission Loss Ratio',\n",
    "       'Loss Ratio Comparison - Finance Loss Ratio',\n",
    "       'Loss Ratio Comparison - Difference (%)',\n",
    "       'Commission Ratio Comparison - Submission Commission Ratio',       \n",
    "        \"Commission Ratio Comparison - Finance Commission Ratio\",\"Commission Ratio Comparison - Difference (%)\",  \"Expense Ratio Comparison - Submission Expense Ratio\", \"Expense Ratio Comparison - Finance Expense Ratio\", \"Expense Ratio Comparison - Difference (%)\"]\n",
    "\n",
    "\n",
    "conv_cols_prc = [\n",
    "        'Loss Ratio Comparison - Submission Loss Ratio',\n",
    "       'Loss Ratio Comparison - Finance Loss Ratio',\n",
    "       'Loss Ratio Comparison - Difference (%)',\n",
    "       'Commission Ratio Comparison - Submission Commission Ratio',       \n",
    "        \"Commission Ratio Comparison - Finance Commission Ratio\",\"Commission Ratio Comparison - Difference (%)\", \n",
    "    \"Expense Ratio Comparison - Submission Expense Ratio\", \"Expense Ratio Comparison - Finance Expense Ratio\", \n",
    "    \"Expense Ratio Comparison - Difference (%)\"]\n",
    "\n",
    "\n"
   ]
  },
  {
   "cell_type": "code",
   "execution_count": null,
   "id": "56ca52ba",
   "metadata": {
    "papermill": {
     "duration": null,
     "end_time": null,
     "exception": null,
     "start_time": null,
     "status": "pending"
    },
    "scrolled": true,
    "tags": []
   },
   "outputs": [],
   "source": [
    "\n",
    "for i in conv_cols:\n",
    "    try:\n",
    "        fin_df[i] = fin_df[i].str.strip()\n",
    "        fin_df[i] = fin_df[i].str.replace(\",\",\"\")\n",
    "        fin_df[i] = fin_df[i].str.replace(\"%\",\"\").fillna(0)\n",
    "        fin_df[i] = pd.to_numeric(fin_df[i])\n",
    "        fin_df[i] = fin_df[i] / 1000\n",
    "    except AttributeError:\n",
    "        pass\n",
    "\n",
    "    \n",
    "for i in conv_cols_prc:\n",
    "    try:\n",
    "        fin_df[i] = fin_df[i] *10\n",
    "    except AttributeError:\n",
    "        pass\n",
    "fin_df\n",
    "            \n",
    "            "
   ]
  },
  {
   "cell_type": "markdown",
   "id": "d1ae8bea",
   "metadata": {
    "papermill": {
     "duration": null,
     "end_time": null,
     "exception": null,
     "start_time": null,
     "status": "pending"
    },
    "pycharm": {
     "name": "#%%\n"
    },
    "tags": []
   },
   "source": [
    "#### Output to r project"
   ]
  },
  {
   "cell_type": "code",
   "execution_count": null,
   "id": "68b8e4ae",
   "metadata": {
    "papermill": {
     "duration": null,
     "end_time": null,
     "exception": null,
     "start_time": null,
     "status": "pending"
    },
    "pycharm": {
     "name": "#%%\n"
    },
    "tags": []
   },
   "outputs": [],
   "source": [
    "outfile =  os.path.join(rscript_path, \"finrep.parquet\")\n",
    "\n",
    "fin_df.to_parquet(outfile, engine = \"pyarrow\" )"
   ]
  },
  {
   "cell_type": "code",
   "execution_count": null,
   "id": "cb1a45ab",
   "metadata": {
    "papermill": {
     "duration": null,
     "end_time": null,
     "exception": null,
     "start_time": null,
     "status": "pending"
    },
    "tags": []
   },
   "outputs": [],
   "source": []
  },
  {
   "cell_type": "code",
   "execution_count": null,
   "id": "eba0b962",
   "metadata": {
    "papermill": {
     "duration": null,
     "end_time": null,
     "exception": null,
     "start_time": null,
     "status": "pending"
    },
    "tags": []
   },
   "outputs": [],
   "source": []
  },
  {
   "cell_type": "code",
   "execution_count": null,
   "id": "230c5cfe",
   "metadata": {
    "papermill": {
     "duration": null,
     "end_time": null,
     "exception": null,
     "start_time": null,
     "status": "pending"
    },
    "tags": []
   },
   "outputs": [],
   "source": []
  }
 ],
 "metadata": {
  "celltoolbar": "Tags",
  "kernelspec": {
   "display_name": "Python 3",
   "language": "python",
   "name": "python3"
  },
  "language_info": {
   "codemirror_mode": {
    "name": "ipython",
    "version": 3
   },
   "file_extension": ".py",
   "mimetype": "text/x-python",
   "name": "python",
   "nbconvert_exporter": "python",
   "pygments_lexer": "ipython3",
   "version": "3.7.6"
  },
  "papermill": {
   "default_parameters": {},
   "duration": 68.505288,
   "end_time": "2021-06-09T21:12:06.491440",
   "environment_variables": {},
   "exception": true,
   "input_path": "reporting/P&L by Business Unit.ipynb",
   "output_path": "//hecate/Insurance_US/Product Development/Product Management/Global PPM/Reporting/Data Collection/Pipeline Reporting Scripts/GPMpipeline/instances/2021.Q1\\reporting\\P&L by Business Unit06092021152753--live, add IE.ipynb",
   "parameters": {
    "commit_message": "Live run,Late additions EI was not present.",
    "inst_datetime": "06092021152753",
    "percode": "2021.Q1",
    "run_control": 1
   },
   "start_time": "2021-06-09T21:10:57.986152",
   "version": "2.3.3"
  }
 },
 "nbformat": 4,
 "nbformat_minor": 5
}
