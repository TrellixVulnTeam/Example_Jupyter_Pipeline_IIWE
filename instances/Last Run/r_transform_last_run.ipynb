{
 "cells": [
  {
   "cell_type": "markdown",
   "id": "ac4d2386",
   "metadata": {
    "papermill": {
     "duration": 0.185451,
     "end_time": "2021-06-01T22:30:51.962695",
     "exception": false,
     "start_time": "2021-06-01T22:30:51.777244",
     "status": "completed"
    },
    "tags": []
   },
   "source": [
    "<img src=\"../images/AzPTravel_PPM.png\">"
   ]
  },
  {
   "cell_type": "markdown",
   "id": "16b4c0d3",
   "metadata": {
    "papermill": {
     "duration": 0.239804,
     "end_time": "2021-06-01T22:30:52.442260",
     "exception": false,
     "start_time": "2021-06-01T22:30:52.202456",
     "status": "completed"
    },
    "tags": []
   },
   "source": [
    "# Minimal R file for Proof of Concept\n",
    "### To be built into all trasformations from the Travel Global Report\n",
    "### Adapted from Travel_Global_Report_Pipeline_Version.Rmd with all Python code removed"
   ]
  },
  {
   "cell_type": "markdown",
   "id": "988171d9",
   "metadata": {
    "papermill": {
     "duration": 0.234108,
     "end_time": "2021-06-01T22:30:52.907933",
     "exception": false,
     "start_time": "2021-06-01T22:30:52.673825",
     "status": "completed"
    },
    "tags": []
   },
   "source": [
    "##### Parameters section"
   ]
  },
  {
   "cell_type": "code",
   "execution_count": 1,
   "id": "1e15d64d",
   "metadata": {
    "execution": {
     "iopub.execute_input": "2021-06-01T22:30:53.397973Z",
     "iopub.status.busy": "2021-06-01T22:30:53.389974Z",
     "iopub.status.idle": "2021-06-01T22:30:53.540990Z",
     "shell.execute_reply": "2021-06-01T22:30:53.537971Z"
    },
    "papermill": {
     "duration": 0.423256,
     "end_time": "2021-06-01T22:30:53.541970",
     "exception": false,
     "start_time": "2021-06-01T22:30:53.118714",
     "status": "completed"
    },
    "tags": [
     "parameters"
    ]
   },
   "outputs": [],
   "source": [
    "\n",
    "commit <- \"New German Data.\"\n",
    "# give a reason for the run\n",
    "\n",
    "percode <- \"2021.Q1\"\n",
    "# Data Collection Code, this controls file paths and output names\n",
    "\n",
    "run_type <- 1\n",
    "#run_type =  0 - lite run with no reporting, not recommended.\n",
    "#run_type =  1 - lite run with normal reporting, default setting.\n",
    "#run_type =  2 - Heavy run with full reporting, available for audits and troubleshooting.\n",
    "\n",
    "specialchars <- \"-GTHtest\"\n",
    "# optional - add up to a 12 character code in order to mark your instance record .ipynb\n",
    "\n",
    "#inst_datetime <- datetime.now().strftime(\"%m%d%Y%H%M%S\")\n",
    "# a single datetime stamp for the full instance run\n",
    "\n"
   ]
  },
  {
   "cell_type": "code",
   "execution_count": 2,
   "id": "0fc02d78",
   "metadata": {
    "execution": {
     "iopub.execute_input": "2021-06-01T22:30:54.045711Z",
     "iopub.status.busy": "2021-06-01T22:30:53.981415Z",
     "iopub.status.idle": "2021-06-01T22:30:54.106708Z",
     "shell.execute_reply": "2021-06-01T22:30:54.102709Z"
    },
    "papermill": {
     "duration": 0.347212,
     "end_time": "2021-06-01T22:30:54.106708",
     "exception": false,
     "start_time": "2021-06-01T22:30:53.759496",
     "status": "completed"
    },
    "tags": [
     "injected-parameters"
    ]
   },
   "outputs": [],
   "source": [
    "# Parameters\n",
    "run_control = 1\n",
    "percode = \"2021.Q1\"\n",
    "commit_message = \"Live run, added AT, bad file name, rerun.\"\n",
    "inst_datetime = \"06012021182709\"\n"
   ]
  },
  {
   "cell_type": "markdown",
   "id": "093f3936",
   "metadata": {
    "papermill": {
     "duration": 0.217079,
     "end_time": "2021-06-01T22:30:54.536470",
     "exception": false,
     "start_time": "2021-06-01T22:30:54.319391",
     "status": "completed"
    },
    "tags": []
   },
   "source": [
    "##### Packages"
   ]
  },
  {
   "cell_type": "code",
   "execution_count": 3,
   "id": "26a37354",
   "metadata": {
    "execution": {
     "iopub.execute_input": "2021-06-01T22:30:54.982982Z",
     "iopub.status.busy": "2021-06-01T22:30:54.978983Z",
     "iopub.status.idle": "2021-06-01T22:30:58.438961Z",
     "shell.execute_reply": "2021-06-01T22:30:58.434965Z"
    },
    "papermill": {
     "duration": 3.694992,
     "end_time": "2021-06-01T22:30:58.439976",
     "exception": false,
     "start_time": "2021-06-01T22:30:54.744984",
     "status": "completed"
    },
    "tags": []
   },
   "outputs": [
    {
     "name": "stderr",
     "output_type": "stream",
     "text": [
      "Warning message:\n",
      "\"package 'arrow' was built under R version 3.6.3\""
     ]
    },
    {
     "name": "stderr",
     "output_type": "stream",
     "text": [
      "See arrow_info() for available features\n"
     ]
    },
    {
     "name": "stderr",
     "output_type": "stream",
     "text": [
      "\n",
      "Attaching package: 'arrow'\n",
      "\n"
     ]
    },
    {
     "name": "stderr",
     "output_type": "stream",
     "text": [
      "The following object is masked from 'package:utils':\n",
      "\n",
      "    timestamp\n",
      "\n"
     ]
    },
    {
     "name": "stderr",
     "output_type": "stream",
     "text": [
      "Warning message:\n",
      "\"package 'openxlsx' was built under R version 3.6.3\""
     ]
    },
    {
     "name": "stderr",
     "output_type": "stream",
     "text": [
      "Warning message:\n",
      "\"package 'data.table' was built under R version 3.6.3\""
     ]
    },
    {
     "name": "stderr",
     "output_type": "stream",
     "text": [
      "Warning message:\n",
      "\"package 'dplyr' was built under R version 3.6.3\""
     ]
    },
    {
     "name": "stderr",
     "output_type": "stream",
     "text": [
      "Registered S3 methods overwritten by 'tibble':\n",
      "  method     from  \n",
      "  format.tbl pillar\n",
      "  print.tbl  pillar\n"
     ]
    },
    {
     "name": "stderr",
     "output_type": "stream",
     "text": [
      "\n",
      "Attaching package: 'dplyr'\n",
      "\n"
     ]
    },
    {
     "name": "stderr",
     "output_type": "stream",
     "text": [
      "The following objects are masked from 'package:data.table':\n",
      "\n",
      "    between, first, last\n",
      "\n"
     ]
    },
    {
     "name": "stderr",
     "output_type": "stream",
     "text": [
      "The following objects are masked from 'package:stats':\n",
      "\n",
      "    filter, lag\n",
      "\n"
     ]
    },
    {
     "name": "stderr",
     "output_type": "stream",
     "text": [
      "The following objects are masked from 'package:base':\n",
      "\n",
      "    intersect, setdiff, setequal, union\n",
      "\n"
     ]
    },
    {
     "name": "stderr",
     "output_type": "stream",
     "text": [
      "Warning message:\n",
      "\"package 'magrittr' was built under R version 3.6.3\""
     ]
    },
    {
     "name": "stderr",
     "output_type": "stream",
     "text": [
      "\n",
      "Attaching package: 'magrittr'\n",
      "\n"
     ]
    },
    {
     "name": "stderr",
     "output_type": "stream",
     "text": [
      "The following object is masked from 'package:arrow':\n",
      "\n",
      "    is_in\n",
      "\n"
     ]
    },
    {
     "name": "stderr",
     "output_type": "stream",
     "text": [
      "Warning message:\n",
      "\"package 'knitr' was built under R version 3.6.3\""
     ]
    },
    {
     "name": "stderr",
     "output_type": "stream",
     "text": [
      "Warning message:\n",
      "\"package 'kableExtra' was built under R version 3.6.3\""
     ]
    },
    {
     "name": "stderr",
     "output_type": "stream",
     "text": [
      "\n",
      "Attaching package: 'kableExtra'\n",
      "\n"
     ]
    },
    {
     "name": "stderr",
     "output_type": "stream",
     "text": [
      "The following object is masked from 'package:dplyr':\n",
      "\n",
      "    group_rows\n",
      "\n"
     ]
    },
    {
     "name": "stderr",
     "output_type": "stream",
     "text": [
      "Warning message:\n",
      "\"package 'ggplot2' was built under R version 3.6.3\""
     ]
    },
    {
     "name": "stderr",
     "output_type": "stream",
     "text": [
      "Warning message:\n",
      "\"package 'patchwork' was built under R version 3.6.3\""
     ]
    },
    {
     "name": "stderr",
     "output_type": "stream",
     "text": [
      "Warning message:\n",
      "\"package 'DT' was built under R version 3.6.3\""
     ]
    },
    {
     "name": "stderr",
     "output_type": "stream",
     "text": [
      "Warning message:\n",
      "\"package 'scales' was built under R version 3.6.3\""
     ]
    },
    {
     "name": "stderr",
     "output_type": "stream",
     "text": [
      "Warning message:\n",
      "\"package 'stringr' was built under R version 3.6.3\""
     ]
    },
    {
     "name": "stderr",
     "output_type": "stream",
     "text": [
      "Warning message:\n",
      "\"package 'arsenal' was built under R version 3.6.3\""
     ]
    },
    {
     "name": "stderr",
     "output_type": "stream",
     "text": [
      "\n",
      "Attaching package: 'arsenal'\n",
      "\n"
     ]
    },
    {
     "name": "stderr",
     "output_type": "stream",
     "text": [
      "The following object is masked from 'package:scales':\n",
      "\n",
      "    ordinal\n",
      "\n"
     ]
    },
    {
     "name": "stderr",
     "output_type": "stream",
     "text": [
      "The following object is masked from 'package:magrittr':\n",
      "\n",
      "    set_attr\n",
      "\n"
     ]
    }
   ],
   "source": [
    "\n",
    "# Optional ultimately maybe parameterize if people need libs installed.\n",
    "\n",
    "# install.packages(\"arrow\")\n",
    "# install.packages(\"openxlsx\") # excel\n",
    "# install.packages(\"data.table\") # data manipulation\n",
    "# install.packages(\"dplyr\") # data manipulation used in some of the viz\n",
    "# install.packages(\"magrittr\") # chaining\n",
    "# install.packages(\"knitr\") # html table output with kable function\n",
    "# install.packages(\"kableExtra\") # addtl styling to kable tables\n",
    "# install.packages(\"ggplot2\") # visualization\n",
    "# install.packages(\"patchwork\") # viz, combine plots in one image\n",
    "# install.packages(\"DT\") # html table output (javascript)\n",
    "# install.packages(\"scales\") # plot scales\n",
    "# install.packages(\"stringr\") # string replace\n",
    "# install.packages(\"arsenal\") # comparison functionality\n",
    "\n",
    "\n",
    "#----- Libraries ------\n",
    "\n",
    "library(arrow) # read/write parquet\n",
    "library(openxlsx) # excel\n",
    "library(data.table) # data manipulation\n",
    "library(dplyr) # data manipulation used in some of the viz\n",
    "library(magrittr) # chaining\n",
    "library(knitr) # html table output with kable function\n",
    "library(kableExtra) # addtl styling to kable tables\n",
    "library(ggplot2) # visualization\n",
    "library(patchwork) # viz, combine plots in one image\n",
    "library(DT) # html table output (javascript)\n",
    "library(scales) # plot scales\n",
    "library(stringr) # string replace\n",
    "library(arsenal) # comparison functionality\n",
    "\n"
   ]
  },
  {
   "cell_type": "markdown",
   "id": "f0e9b0de",
   "metadata": {
    "papermill": {
     "duration": 0.249045,
     "end_time": "2021-06-01T22:30:59.006533",
     "exception": false,
     "start_time": "2021-06-01T22:30:58.757488",
     "status": "completed"
    },
    "tags": []
   },
   "source": [
    "##### Read parquet file "
   ]
  },
  {
   "cell_type": "code",
   "execution_count": 4,
   "id": "96859211",
   "metadata": {
    "execution": {
     "iopub.execute_input": "2021-06-01T22:30:59.539082Z",
     "iopub.status.busy": "2021-06-01T22:30:59.535082Z",
     "iopub.status.idle": "2021-06-01T22:31:01.866878Z",
     "shell.execute_reply": "2021-06-01T22:31:01.857894Z"
    },
    "papermill": {
     "duration": 2.625351,
     "end_time": "2021-06-01T22:31:01.866878",
     "exception": false,
     "start_time": "2021-06-01T22:30:59.241527",
     "status": "completed"
    },
    "tags": []
   },
   "outputs": [],
   "source": [
    "rt_path <- file.path('//hecate/Insurance_US/Product Development/Product Management/Global PPM/Reporting/Data Collection/Production', percode )\n",
    "\n",
    "tempfile <- file.path(rt_path,'2021.Q1.localcur.parquet' )\n",
    "\n",
    "pq_input <-  read_parquet( tempfile,  col_select = NULL,\n",
    "  as_data_frame = TRUE,  props = ParquetArrowReaderProperties$create())"
   ]
  },
  {
   "cell_type": "markdown",
   "id": "7b16b1a3",
   "metadata": {
    "papermill": {
     "duration": 0.3032,
     "end_time": "2021-06-01T22:31:02.453551",
     "exception": false,
     "start_time": "2021-06-01T22:31:02.150351",
     "status": "completed"
    },
    "tags": []
   },
   "source": [
    "##### Original data input section, some adaptations for i_bu"
   ]
  },
  {
   "cell_type": "code",
   "execution_count": 5,
   "id": "89fa0bb5",
   "metadata": {
    "execution": {
     "iopub.execute_input": "2021-06-01T22:31:02.955286Z",
     "iopub.status.busy": "2021-06-01T22:31:02.951283Z",
     "iopub.status.idle": "2021-06-01T22:31:05.082086Z",
     "shell.execute_reply": "2021-06-01T22:31:05.079082Z"
    },
    "papermill": {
     "duration": 2.368801,
     "end_time": "2021-06-01T22:31:05.083083",
     "exception": false,
     "start_time": "2021-06-01T22:31:02.714282",
     "status": "completed"
    },
    "tags": []
   },
   "outputs": [
    {
     "name": "stdout",
     "output_type": "stream",
     "text": [
      "      business_unit                  submission_file country currency\n",
      "   1:            AU us_dat_au_05142021143612.parquet      AU      AUD\n",
      "   2:            AU us_dat_au_05142021143612.parquet      AU      AUD\n",
      "   3:            AU us_dat_au_05142021143612.parquet      AU      AUD\n",
      "   4:            AU us_dat_au_05142021143612.parquet      AU      AUD\n",
      "   5:            AU us_dat_au_05142021143612.parquet      AU      AUD\n",
      "  ---                                                                \n",
      "2115:            PT us_dat_pt_05202021121056.parquet      PT      EUR\n",
      "2116:            PT us_dat_pt_05202021121056.parquet      PT      EUR\n",
      "2117:            PT us_dat_pt_05202021121056.parquet      PT      EUR\n",
      "2118:            PT us_dat_pt_05202021121056.parquet      PT      EUR\n",
      "2119:            PT us_dat_pt_05202021121056.parquet      PT      EUR\n",
      "                           region reporting_date_from   reporting_date_to\n",
      "   1:                        APAC 2020-12-31 19:00:00 2021-03-30 20:00:00\n",
      "   2:                        APAC 2020-12-31 19:00:00 2021-03-30 20:00:00\n",
      "   3:                        APAC 2020-12-31 19:00:00 2021-03-30 20:00:00\n",
      "   4:                        APAC 2020-12-31 19:00:00 2021-03-30 20:00:00\n",
      "   5:                        APAC 2020-12-31 19:00:00 2021-03-30 20:00:00\n",
      "  ---                                                                    \n",
      "2115: Western Europe, LATAM & MEA 2020-12-31 19:00:00 2021-03-30 20:00:00\n",
      "2116: Western Europe, LATAM & MEA 2020-12-31 19:00:00 2021-03-30 20:00:00\n",
      "2117: Western Europe, LATAM & MEA 2020-12-31 19:00:00 2021-03-30 20:00:00\n",
      "2118: Western Europe, LATAM & MEA 2020-12-31 19:00:00 2021-03-30 20:00:00\n",
      "2119: Western Europe, LATAM & MEA 2020-12-31 19:00:00 2021-03-30 20:00:00\n",
      "         date_of_analysis type_of_analysis analysed_months reporting_year\n",
      "   1: 2021-04-29 20:00:00     Year To Date               3           2021\n",
      "   2: 2021-04-29 20:00:00     Year To Date               3           2021\n",
      "   3: 2021-04-29 20:00:00     Year To Date               3           2021\n",
      "   4: 2021-04-29 20:00:00     Year To Date               3           2021\n",
      "   5: 2021-04-29 20:00:00     Year To Date               3           2021\n",
      "  ---                                                                    \n",
      "2115: 2021-03-30 20:00:00     Year To Date               3           2021\n",
      "2116: 2021-03-30 20:00:00     Year To Date               3           2021\n",
      "2117: 2021-03-30 20:00:00     Year To Date               3           2021\n",
      "2118: 2021-03-30 20:00:00     Year To Date               3           2021\n",
      "2119: 2021-03-30 20:00:00     Year To Date               3           2021\n",
      "      reporting_quarter reporting_month type_of_business type_of_account\n",
      "   1:                 1               3        Insurance           Local\n",
      "   2:                 1               3        Insurance           Local\n",
      "   3:                 1               3        Insurance           Local\n",
      "   4:                 1               3        Insurance           Local\n",
      "   5:                 1               3        Insurance           Local\n",
      "  ---                                                                   \n",
      "2115:                 1               3      Reinsurance           Local\n",
      "2116:                 1               3      Reinsurance           Local\n",
      "2117:                 1               3      Reinsurance           Local\n",
      "2118:                 1               3      Reinsurance           Local\n",
      "2119:                 1               3      Reinsurance           Local\n",
      "      distribution_type    lob      distribution_channel\n",
      "   1:             B2B2C Travel      Allianz Affiliations\n",
      "   2:             B2B2C Travel   Offline Travel Agencies\n",
      "   3:             B2B2C Travel      Allianz Affiliations\n",
      "   4:               B2C Travel Direct (Allianz Partners)\n",
      "   5:             B2B2C Travel      Banks / Credit Cards\n",
      "  ---                                                   \n",
      "2115:             B2B2C Travel Direct (Allianz Partners)\n",
      "2116:             B2B2C Travel Direct (Allianz Partners)\n",
      "2117:             B2B2C Travel Direct (Allianz Partners)\n",
      "2118:             B2B2C Travel Direct (Allianz Partners)\n",
      "2119:               B2B Travel Direct (Allianz Partners)\n",
      "                                      sub_lob\n",
      "   1:                            Not Provided\n",
      "   2:                            Not Provided\n",
      "   3:                            Not Provided\n",
      "   4:                            Not Provided\n",
      "   5:                            Not Provided\n",
      "  ---                                        \n",
      "2115: Travel Medical Short Term - Single Trip\n",
      "2116: Travel Medical Short Term - Single Trip\n",
      "2117: Travel Medical Short Term - Single Trip\n",
      "2118: Travel Medical Short Term - Single Trip\n",
      "2119:   Standalone Cancellation - Single Trip\n",
      "                      business_partner_name business_partner_id_number\n",
      "   1:                              1300 INS                       2876\n",
      "   2:                                 AGAAU                       6034\n",
      "   3:                                   AHL                       6763\n",
      "   4:                        ALLIANZ DIRECT                        304\n",
      "   5:                                 ANZAU                       6641\n",
      "  ---                                                                 \n",
      "2115: AZ AP Grupo Viagens Opção A e Opção B                 Assistance\n",
      "2116:                      AZ AP Individual                 Assistance\n",
      "2117:            AZ Viagens 2011 (ex-APAVT)                 Assistance\n",
      "2118:                        Nossa Seguros                  Assistance\n",
      "2119:           AZ Trabalhadores Deslocados                Assistance \n",
      "      product_name product_id_number product_family standard_product\n",
      "   1: Not Provided                                                  \n",
      "   2: Not Provided                                                  \n",
      "   3: Not Provided                                                  \n",
      "   4: Not Provided                                                  \n",
      "   5: Not Provided                                                  \n",
      "  ---                                                               \n",
      "2115:   Assistance      Not Provided     Assistance              Yes\n",
      "2116:   Assistance      Not Provided     Assistance              Yes\n",
      "2117:   Assistance      Not Provided     Assistance              Yes\n",
      "2118:   Assistance      Not Provided     Assistance              Yes\n",
      "2119:   Assistance      Not Provided     Assistance              Yes\n",
      "      num_products_per_row num_b_partners_per_row num_policies_written\n",
      "   1:                    0                      0                    0\n",
      "   2:                    0                      0                    0\n",
      "   3:                    0                      0                    0\n",
      "   4:                    0                      0                    0\n",
      "   5:                    0                      0              1136720\n",
      "  ---                                                                 \n",
      "2115:                    1                      1                    0\n",
      "2116:                    1                      1                    0\n",
      "2117:                    1                      1                    0\n",
      "2118:                    1                      1                    0\n",
      "2119:                    1                      1                    0\n",
      "      insureds_written written_revenues_net_of_taxes written_revenues\n",
      "   1:                0                        0.0000           0.0000\n",
      "   2:                0                        0.0000           0.0000\n",
      "   3:                0                      142.6800           0.0000\n",
      "   4:                0                        0.0000           0.0000\n",
      "   5:                0                      297.1768           0.0000\n",
      "  ---                                                                \n",
      "2115:                0                     1509.1600        1644.9844\n",
      "2116:                0                     2164.1100        2358.8799\n",
      "2117:                0                      309.7200         337.5948\n",
      "2118:                0                        0.0000           0.0000\n",
      "2119:                0                     1260.0000        1373.4000\n",
      "      num_policies_earned insureds_earned earned_revenues_net_of_taxes\n",
      "   1:                   0               0                      55.8953\n",
      "   2:                   0               0                    5529.9513\n",
      "   3:                   0               0                     142.6800\n",
      "   4:                   0               0                   32143.8185\n",
      "   5:                   0               0                 7085429.8843\n",
      "  ---                                                                 \n",
      "2115:                   0               0                    1576.8600\n",
      "2116:                   0               0                    2085.8000\n",
      "2117:                   0               0                      16.5700\n",
      "2118:                   0               0                      68.0000\n",
      "2119:                   0               0                    1260.0000\n",
      "      earned_revenues earned_base_commissions earned_over_commissions\n",
      "   1:          0.0000                  5.6453                       0\n",
      "   2:          0.0000               1290.5753                       0\n",
      "   3:          0.0000                  0.0000                       0\n",
      "   4:          0.0000               7071.6401                       0\n",
      "   5:          0.0000                  0.0000                       0\n",
      "  ---                                                                \n",
      "2115:       1718.7774                  0.0000                       0\n",
      "2116:       2273.5220                  0.0000                       0\n",
      "2117:         18.0613                  0.0000                       0\n",
      "2118:         74.1200                  0.0000                       0\n",
      "2119:       1373.4000                  0.0000                       0\n",
      "      upfront_cash_payments total_compensation num_claims num_open_claims\n",
      "   1:                     0             5.6453          0               0\n",
      "   2:                     0          1290.5753          0               0\n",
      "   3:                     0             0.0000          0               0\n",
      "   4:                     0          7071.6401          4               0\n",
      "   5:                     0             0.0000        204               0\n",
      "  ---                                                                    \n",
      "2115:                     0             0.0000          0               0\n",
      "2116:                     0             0.0000          0               0\n",
      "2117:                     0             0.0000          0               0\n",
      "2118:                     0             0.0000          0               0\n",
      "2119:                     0             0.0000          0               0\n",
      "      open_claims_pct num_claimants paid_claims    ocr__ibnr\n",
      "   1:               0             0      0.0000 8.250237e+00\n",
      "   2:               0             0      0.0000 1.843793e+03\n",
      "   3:               0             0      0.0000 2.257509e+01\n",
      "   4:               0             0    819.1621 7.248047e+03\n",
      "   5:               0             0 114095.2977 1.084173e+06\n",
      "  ---                                                       \n",
      "2115:               0             0     69.4500 1.472110e+03\n",
      "2116:               0             0      0.0000 6.087200e+02\n",
      "2117:               0             0    630.1200 0.000000e+00\n",
      "2118:               0             0      0.0000 0.000000e+00\n",
      "2119:               0             0      0.0000 0.000000e+00\n",
      "      pct_of_ibnr_on_ocr__ibnr actual_incurred_losses internal_variable_costs\n",
      "   1:                0.0000000           8.250237e+00            2.195253e+00\n",
      "   2:                0.0000000           1.843793e+03            2.404885e+02\n",
      "   3:                0.0000000           2.257509e+01            8.187503e+00\n",
      "   4:                1.0401751           8.067209e+03            2.175036e+04\n",
      "   5:                0.1551726           1.198269e+06            3.459687e+05\n",
      "  ---                                                                        \n",
      "2115:                0.0000000           1.541560e+03            4.337900e+02\n",
      "2116:                0.0000000           6.087200e+02            3.410960e+02\n",
      "2117:                0.0000000           6.301200e+02            3.050541e+02\n",
      "2118:                0.0000000           0.000000e+00            3.311451e+01\n",
      "2119:                0.0000000           0.000000e+00            8.352660e+02\n",
      "      az_tech_fee internal_fixed_costs      hq_fees total_expenses\n",
      "   1:    1.013645         1.671405e+02    11.050191   1.813996e+02\n",
      "   2:  111.044207         1.828543e+04  1210.541320   1.984750e+04\n",
      "   3:    3.780533         6.208089e+02    41.213241   6.739902e+02\n",
      "   4:  625.285543         1.070822e+05  6816.510337   1.362744e+05\n",
      "   5:    0.000000         1.734193e+06 86052.193011   2.166214e+06\n",
      "  ---                                                             \n",
      "2115:   45.413568         2.727968e+02    96.976890   8.489772e+02\n",
      "2116:   60.071040         3.608434e+02   128.276700   8.902871e+02\n",
      "2117:    0.477216         2.866610e+00     1.019055   3.094170e+02\n",
      "2118:    1.958400         1.917600e+01     4.182000   5.843091e+01\n",
      "2119:   36.288000         3.553200e+02    63.000000   1.289874e+03\n",
      "      frequency_earned severity risk_premium    cm_bu_view\n",
      "   1:                0        0            0      27.74067\n",
      "   2:                0        0            0     833.50856\n",
      "   3:                0        0            0      66.92363\n",
      "   4:                0        0            0  -12187.19095\n",
      "   5:                0        0            0 5455140.47866\n",
      "  ---                                                     \n",
      "2115:                0        0            0    -540.88046\n",
      "2116:                0        0            0     947.63628\n",
      "2117:                0        0            0    -920.10041\n",
      "2118:                0        0            0      28.74509\n",
      "2119:                0        0            0     325.44605\n",
      "      cm_pct_on_fixed_costs_bu_view\n",
      "   1:                    0.16597218\n",
      "   2:                    0.04558321\n",
      "   3:                    0.10780069\n",
      "   4:                   -0.11381150\n",
      "   5:                    3.14563624\n",
      "  ---                              \n",
      "2115:                   -1.98272305\n",
      "2116:                    2.62617047\n",
      "2117:                 -320.97160337\n",
      "2118:                    1.49901380\n",
      "2119:                    0.91592381\n",
      "      cm_pct_on_earned_revenues_net_of_taxes_bu_view    cm_hq_view\n",
      "   1:                                      0.4962971      38.79086\n",
      "   2:                                      0.1507262    2044.04988\n",
      "   3:                                      0.4690470     108.13687\n",
      "   4:                                     -0.3791457   -5370.68061\n",
      "   5:                                      0.7699096 5541192.67167\n",
      "  ---                                                             \n",
      "2115:                                     -0.3430111    -443.90357\n",
      "2116:                                      0.4543275    1075.91298\n",
      "2117:                                    -55.5280874    -919.08135\n",
      "2118:                                      0.4227219      32.92709\n",
      "2119:                                      0.2582905     388.44605\n",
      "      cm_pct_on_fixed_costs_hq_view\n",
      "   1:                    0.21769299\n",
      "   2:                    0.10484473\n",
      "   3:                    0.16334328\n",
      "   4:                   -0.04715311\n",
      "   5:                    3.04420117\n",
      "  ---                              \n",
      "2115:                   -1.20047372\n",
      "2116:                    2.19969079\n",
      "2117:                 -236.53128948\n",
      "2118:                    1.40967072\n",
      "2119:                    0.92858589\n",
      "      cm_pct_on_earned_revenues_net_of_taxes_hq_view loss_ratio\n",
      "   1:                                      0.6939915  0.1476016\n",
      "   2:                                      0.3696325  0.3334195\n",
      "   3:                                      0.7578979  0.1582218\n",
      "   4:                                     -0.1670828  0.2509723\n",
      "   5:                                      0.7820545  0.1691173\n",
      "  ---                                                          \n",
      "2115:                                     -0.2815111  0.9776137\n",
      "2116:                                      0.5158275  0.2918401\n",
      "2117:                                    -55.4665874 38.0277610\n",
      "2118:                                      0.4842219  0.0000000\n",
      "2119:                                      0.3082905  0.0000000\n",
      "      commission_ratio expense_ratio combined_ratio profit_or_loss notes\n",
      "   1:        0.1009978     3.2453460      3.4939454  -1.393998e+02      \n",
      "   2:        0.2333791     3.5890920      4.1558906  -1.745192e+04      \n",
      "   3:        0.0000000     4.7237889      4.8820107  -5.538853e+02      \n",
      "   4:        0.2200000     4.2395213      4.7104937  -1.192694e+05      \n",
      "   5:        0.0000000     0.3057279      0.4748452   3.720947e+06      \n",
      "  ---                                                                   \n",
      "2115:        0.0000000     0.5383973      1.5160111  -8.136772e+02   0.0\n",
      "2116:        0.0000000     0.4268324      0.7186725   5.867929e+02   0.0\n",
      "2117:        0.0000000    18.6733264     56.7010874  -9.229670e+02   0.0\n",
      "2118:        0.0000000     0.8592781      0.8592781   9.569089e+00   0.0\n",
      "2119:        0.0000000     1.0237095      1.0237095  -2.987395e+01   0.0\n",
      "      unnamed:_66 concat2    comsub     expsub reporting_date_from_int\n",
      "   1:           0   AUAUD 0.1009978  3.2453460                20210101\n",
      "   2:           0   AUAUD 0.2333791  3.5890920                20210101\n",
      "   3:           0   AUAUD 0.0000000  4.7237889                20210101\n",
      "   4:           0   AUAUD 0.2200000  4.2395213                20210101\n",
      "   5:           0   AUAUD 0.0000000  0.3057279                20210101\n",
      "  ---                                                                 \n",
      "2115:           0   PTEUR 0.0000000  0.5383973                20210101\n",
      "2116:           0   PTEUR 0.0000000  0.4268324                20210101\n",
      "2117:           0   PTEUR 0.0000000 18.6733264                20210101\n",
      "2118:           0   PTEUR 0.0000000  0.8592781                20210101\n",
      "2119:           0   PTEUR 0.0000000  1.0237095                20210101\n",
      "      reporting_date_to_int date_of_analysis_int\n",
      "   1:              20210331             20210430\n",
      "   2:              20210331             20210430\n",
      "   3:              20210331             20210430\n",
      "   4:              20210331             20210430\n",
      "   5:              20210331             20210430\n",
      "  ---                                           \n",
      "2115:              20210331             20210331\n",
      "2116:              20210331             20210331\n",
      "2117:              20210331             20210331\n",
      "2118:              20210331             20210331\n",
      "2119:              20210331             20210331\n",
      "                                                                                                                                           selected_fields_for_duplicates\n",
      "   1:                                                                                                         AUInsuranceLocalB2B2CTravelAllianz Affiliations1300 INS2876\n",
      "   2:                                                                                                         AUInsuranceLocalB2B2CTravelOffline Travel AgenciesAGAAU6034\n",
      "   3:                                                                                                              AUInsuranceLocalB2B2CTravelAllianz AffiliationsAHL6763\n",
      "   4:                                                                                                 AUInsuranceLocalB2CTravelDirect (Allianz Partners)ALLIANZ DIRECT304\n",
      "   5:                                                                                                            AUInsuranceLocalB2B2CTravelBanks / Credit CardsANZAU6641\n",
      "  ---                                                                                                                                                                    \n",
      "2115: PTReinsuranceLocalB2B2CTravelDirect (Allianz Partners)Travel Medical Short Term - Single TripAZ AP Grupo Viagens Opção A e Opção BAssistanceAssistanceAssistanceYes\n",
      "2116:                      PTReinsuranceLocalB2B2CTravelDirect (Allianz Partners)Travel Medical Short Term - Single TripAZ AP IndividualAssistanceAssistanceAssistanceYes\n",
      "2117:            PTReinsuranceLocalB2B2CTravelDirect (Allianz Partners)Travel Medical Short Term - Single TripAZ Viagens 2011 (ex-APAVT)AssistanceAssistanceAssistanceYes\n",
      "2118:                         PTReinsuranceLocalB2B2CTravelDirect (Allianz Partners)Travel Medical Short Term - Single TripNossa SegurosAssistanceAssistanceAssistanceYes\n",
      "2119:               PTReinsuranceLocalB2BTravelDirect (Allianz Partners)Standalone Cancellation - Single TripAZ Trabalhadores DeslocadosAssistanceAssistanceAssistanceYes\n",
      "      ibnrsub            rep_date __index_level_0__  bu_descr\n",
      "   1:       0 2021-03-30 20:00:00                 0 Australia\n",
      "   2:       0 2021-03-30 20:00:00                 1 Australia\n",
      "   3:       0 2021-03-30 20:00:00                 3 Australia\n",
      "   4:       0 2021-03-30 20:00:00                 4 Australia\n",
      "   5:       0 2021-03-30 20:00:00                 5 Australia\n",
      "  ---                                                        \n",
      "2115:       0 2021-03-30 20:00:00              3619  Portugal\n",
      "2116:       0 2021-03-30 20:00:00              3620  Portugal\n",
      "2117:       0 2021-03-30 20:00:00              3621  Portugal\n",
      "2118:       0 2021-03-30 20:00:00              3622  Portugal\n",
      "2119:       0 2021-03-30 20:00:00              3623  Portugal\n",
      "      month_of_analysis_max     reporting_period\n",
      "   1:              2021 Apr 2021 Jan to 2021 Mar\n",
      "   2:              2021 Apr 2021 Jan to 2021 Mar\n",
      "   3:              2021 Apr 2021 Jan to 2021 Mar\n",
      "   4:              2021 Apr 2021 Jan to 2021 Mar\n",
      "   5:              2021 Apr 2021 Jan to 2021 Mar\n",
      "  ---                                           \n",
      "2115:              2021 Mar 2021 Jan to 2021 Mar\n",
      "2116:              2021 Mar 2021 Jan to 2021 Mar\n",
      "2117:              2021 Mar 2021 Jan to 2021 Mar\n",
      "2118:              2021 Mar 2021 Jan to 2021 Mar\n",
      "2119:              2021 Mar 2021 Jan to 2021 Mar\n"
     ]
    }
   ],
   "source": [
    "\n",
    "# source('ColorPalette.R')\n",
    "\n",
    "#----- Data ------\n",
    "\n",
    "# define data directory\n",
    "data_dir <- rt_path\n",
    "\n",
    "\n",
    "\n",
    "# read in BU datasets\n",
    "# data has been pre-processed and already converted to one currency (euro)\n",
    "#d_input <- fread(file.path(data_dir, '2020.Q4.euroconv.csv'))\n",
    "\n",
    "\n",
    "\n",
    "\n",
    "# read in dataset for reference items\n",
    "# file for inputs\n",
    "inputs <- paste(\"GPPM_Input_\",percode,\".xlsx\",sep=\"\")\n",
    "\n",
    "# read in Euro exchange rates\n",
    "# !!! use rates as of the end of the reporting period\n",
    "# From Az Connect, https://connect.allianz.com/docs/DOC-220762\n",
    "i_rates <- as.data.table(\n",
    "  read.xlsx(\n",
    "    xlsxFile = file.path(data_dir, inputs), \n",
    "    sheet = 'Euro_Rates'\n",
    "    )\n",
    "  )\n",
    "\n",
    "i_def <- as.data.table(read.xlsx(\n",
    "  xlsxFile = file.path(data_dir, inputs), \n",
    "  sheet = 'Definitions', \n",
    "  startRow = 1\n",
    "  )\n",
    ")\n",
    "names(i_def)[names(i_def) == 'Data.Type'] <- 'Data Type' # quick way (base R) to replace the \".\" in Data Type header\n",
    "\n",
    "i_bu <- as.data.table(\n",
    "  read.xlsx(\n",
    "  xlsxFile = file.path(data_dir, inputs), \n",
    "  sheet = 'BU_Descr', \n",
    "  startRow = 1\n",
    "  )\n",
    ")\n",
    "\n",
    "#create R object from py variable\n",
    "\n",
    "d_input <- as.data.table(pq_input)\n",
    "\n",
    "print(d_input)"
   ]
  },
  {
   "cell_type": "markdown",
   "id": "64077af2",
   "metadata": {
    "papermill": {
     "duration": 0.248578,
     "end_time": "2021-06-01T22:31:05.647175",
     "exception": false,
     "start_time": "2021-06-01T22:31:05.398597",
     "status": "completed"
    },
    "tags": []
   },
   "source": [
    "##### Data manipulation functions"
   ]
  },
  {
   "cell_type": "code",
   "execution_count": 6,
   "id": "8f64d45d",
   "metadata": {
    "execution": {
     "iopub.execute_input": "2021-06-01T22:31:06.192731Z",
     "iopub.status.busy": "2021-06-01T22:31:06.188723Z",
     "iopub.status.idle": "2021-06-01T22:31:06.243590Z",
     "shell.execute_reply": "2021-06-01T22:31:06.240600Z"
    },
    "papermill": {
     "duration": 0.333142,
     "end_time": "2021-06-01T22:31:06.244595",
     "exception": false,
     "start_time": "2021-06-01T22:31:05.911453",
     "status": "completed"
    },
    "tags": []
   },
   "outputs": [],
   "source": [
    "# replace all NAs with 0\n",
    "# stolen from https://stackoverflow.com/questions/7235657/fastest-way-to-replace-nas-in-a-large-data-table\n",
    "replaceNA <- function(dt, replace = 0) {\n",
    "  for (j in seq_len(ncol(dt)))\n",
    "    set(dt, which(is.na(dt[[j]])), j , replace)\n",
    "}\n",
    "\n",
    "# Rename columns to make easier to work with in a function\n",
    "# Replace \".\"s with \"_\"s & make lower case\n",
    "# replace other patterns not needed in description\n",
    "fixNames <- function(columns) {\n",
    "  columns <- columns %>%\n",
    "    tolower() %>% \n",
    "    gsub(pattern = '.', replacement = '_', fixed = TRUE) %>% \n",
    "    gsub(pattern = '_(paid_+_ocr_+_ibnr)', replacement = '', fixed = TRUE) %>%\n",
    "    gsub(pattern = '_(excl__az_tech_fee)', replacement = '', fixed = TRUE) %>%\n",
    "    gsub(pattern = '_(excl__hq_fees)', replacement = '', fixed = TRUE) %>%\n",
    "    gsub(pattern = 'persons_involved_in_claims', replacement = 'claimants', fixed = TRUE) %>%\n",
    "    gsub(pattern = 'units_of_risk', replacement = 'insureds', fixed = TRUE) %>%\n",
    "    gsub(pattern = 'contribution_margin', replacement = 'cm', fixed = TRUE) %>%\n",
    "    gsub(pattern = 'number_of', replacement = 'num', fixed = TRUE) %>%\n",
    "    gsub(pattern = '%', replacement = 'pct', fixed = TRUE) %>%\n",
    "    gsub(pattern = '(', replacement = '', fixed = TRUE) %>% \n",
    "    gsub(pattern = ')', replacement = '', fixed = TRUE) %>% \n",
    "    gsub(pattern = '-_', replacement = '', fixed = TRUE) %>%\n",
    "    gsub(pattern = '+', replacement = '', fixed = TRUE) %>% \n",
    "    gsub(pattern = '-', replacement = '_', fixed = TRUE)\n",
    "\n",
    "  return(columns)\n",
    "}\n",
    "\n"
   ]
  },
  {
   "cell_type": "markdown",
   "id": "e5979f06",
   "metadata": {
    "papermill": {
     "duration": 0.261181,
     "end_time": "2021-06-01T22:31:06.775185",
     "exception": false,
     "start_time": "2021-06-01T22:31:06.514004",
     "status": "completed"
    },
    "tags": []
   },
   "source": [
    "##### Sample Data Manipulation Applied"
   ]
  },
  {
   "cell_type": "code",
   "execution_count": 7,
   "id": "7592716b",
   "metadata": {
    "execution": {
     "iopub.execute_input": "2021-06-01T22:31:07.316297Z",
     "iopub.status.busy": "2021-06-01T22:31:07.312297Z",
     "iopub.status.idle": "2021-06-01T22:31:07.778822Z",
     "shell.execute_reply": "2021-06-01T22:31:07.774817Z"
    },
    "papermill": {
     "duration": 0.752634,
     "end_time": "2021-06-01T22:31:07.779820",
     "exception": false,
     "start_time": "2021-06-01T22:31:07.027186",
     "status": "completed"
    },
    "tags": []
   },
   "outputs": [
    {
     "name": "stdout",
     "output_type": "stream",
     "text": [
      "      business_unit                  submission_file country currency\n",
      "   1:            AU us_dat_au_05142021143612.parquet      AU      AUD\n",
      "   2:            AU us_dat_au_05142021143612.parquet      AU      AUD\n",
      "   3:            AU us_dat_au_05142021143612.parquet      AU      AUD\n",
      "   4:            AU us_dat_au_05142021143612.parquet      AU      AUD\n",
      "   5:            AU us_dat_au_05142021143612.parquet      AU      AUD\n",
      "  ---                                                                \n",
      "2115:            PT us_dat_pt_05202021121056.parquet      PT      EUR\n",
      "2116:            PT us_dat_pt_05202021121056.parquet      PT      EUR\n",
      "2117:            PT us_dat_pt_05202021121056.parquet      PT      EUR\n",
      "2118:            PT us_dat_pt_05202021121056.parquet      PT      EUR\n",
      "2119:            PT us_dat_pt_05202021121056.parquet      PT      EUR\n",
      "                           region reporting_date_from   reporting_date_to\n",
      "   1:                        APAC 2020-12-31 19:00:00 2021-03-30 20:00:00\n",
      "   2:                        APAC 2020-12-31 19:00:00 2021-03-30 20:00:00\n",
      "   3:                        APAC 2020-12-31 19:00:00 2021-03-30 20:00:00\n",
      "   4:                        APAC 2020-12-31 19:00:00 2021-03-30 20:00:00\n",
      "   5:                        APAC 2020-12-31 19:00:00 2021-03-30 20:00:00\n",
      "  ---                                                                    \n",
      "2115: Western Europe, LATAM & MEA 2020-12-31 19:00:00 2021-03-30 20:00:00\n",
      "2116: Western Europe, LATAM & MEA 2020-12-31 19:00:00 2021-03-30 20:00:00\n",
      "2117: Western Europe, LATAM & MEA 2020-12-31 19:00:00 2021-03-30 20:00:00\n",
      "2118: Western Europe, LATAM & MEA 2020-12-31 19:00:00 2021-03-30 20:00:00\n",
      "2119: Western Europe, LATAM & MEA 2020-12-31 19:00:00 2021-03-30 20:00:00\n",
      "         date_of_analysis type_of_analysis analysed_months reporting_year\n",
      "   1: 2021-04-29 20:00:00     Year To Date               3           2021\n",
      "   2: 2021-04-29 20:00:00     Year To Date               3           2021\n",
      "   3: 2021-04-29 20:00:00     Year To Date               3           2021\n",
      "   4: 2021-04-29 20:00:00     Year To Date               3           2021\n",
      "   5: 2021-04-29 20:00:00     Year To Date               3           2021\n",
      "  ---                                                                    \n",
      "2115: 2021-03-30 20:00:00     Year To Date               3           2021\n",
      "2116: 2021-03-30 20:00:00     Year To Date               3           2021\n",
      "2117: 2021-03-30 20:00:00     Year To Date               3           2021\n",
      "2118: 2021-03-30 20:00:00     Year To Date               3           2021\n",
      "2119: 2021-03-30 20:00:00     Year To Date               3           2021\n",
      "      reporting_quarter reporting_month type_of_business type_of_account\n",
      "   1:                 1               3        Insurance           Local\n",
      "   2:                 1               3        Insurance           Local\n",
      "   3:                 1               3        Insurance           Local\n",
      "   4:                 1               3        Insurance           Local\n",
      "   5:                 1               3        Insurance           Local\n",
      "  ---                                                                   \n",
      "2115:                 1               3      Reinsurance           Local\n",
      "2116:                 1               3      Reinsurance           Local\n",
      "2117:                 1               3      Reinsurance           Local\n",
      "2118:                 1               3      Reinsurance           Local\n",
      "2119:                 1               3      Reinsurance           Local\n",
      "      distribution_type    lob      distribution_channel\n",
      "   1:             B2B2C Travel      Allianz Affiliations\n",
      "   2:             B2B2C Travel   Offline Travel Agencies\n",
      "   3:             B2B2C Travel      Allianz Affiliations\n",
      "   4:               B2C Travel Direct (Allianz Partners)\n",
      "   5:             B2B2C Travel      Banks / Credit Cards\n",
      "  ---                                                   \n",
      "2115:             B2B2C Travel Direct (Allianz Partners)\n",
      "2116:             B2B2C Travel Direct (Allianz Partners)\n",
      "2117:             B2B2C Travel Direct (Allianz Partners)\n",
      "2118:             B2B2C Travel Direct (Allianz Partners)\n",
      "2119:               B2B Travel Direct (Allianz Partners)\n",
      "                                      sub_lob\n",
      "   1:                            Not Provided\n",
      "   2:                            Not Provided\n",
      "   3:                            Not Provided\n",
      "   4:                            Not Provided\n",
      "   5:                            Not Provided\n",
      "  ---                                        \n",
      "2115: Travel Medical Short Term - Single Trip\n",
      "2116: Travel Medical Short Term - Single Trip\n",
      "2117: Travel Medical Short Term - Single Trip\n",
      "2118: Travel Medical Short Term - Single Trip\n",
      "2119:   Standalone Cancellation - Single Trip\n",
      "                      business_partner_name business_partner_id_number\n",
      "   1:                              1300 INS                       2876\n",
      "   2:                                 AGAAU                       6034\n",
      "   3:                                   AHL                       6763\n",
      "   4:                        ALLIANZ DIRECT                        304\n",
      "   5:                                 ANZAU                       6641\n",
      "  ---                                                                 \n",
      "2115: AZ AP Grupo Viagens Opção A e Opção B                 Assistance\n",
      "2116:                      AZ AP Individual                 Assistance\n",
      "2117:            AZ Viagens 2011 (ex-APAVT)                 Assistance\n",
      "2118:                        Nossa Seguros                  Assistance\n",
      "2119:           AZ Trabalhadores Deslocados                Assistance \n",
      "      product_name product_id_number product_family standard_product\n",
      "   1: Not Provided                                                  \n",
      "   2: Not Provided                                                  \n",
      "   3: Not Provided                                                  \n",
      "   4: Not Provided                                                  \n",
      "   5: Not Provided                                                  \n",
      "  ---                                                               \n",
      "2115:   Assistance      Not Provided     Assistance              Yes\n",
      "2116:   Assistance      Not Provided     Assistance              Yes\n",
      "2117:   Assistance      Not Provided     Assistance              Yes\n",
      "2118:   Assistance      Not Provided     Assistance              Yes\n",
      "2119:   Assistance      Not Provided     Assistance              Yes\n",
      "      num_products_per_row num_b_partners_per_row num_policies_written\n",
      "   1:                    0                      0                    0\n",
      "   2:                    0                      0                    0\n",
      "   3:                    0                      0                    0\n",
      "   4:                    0                      0                    0\n",
      "   5:                    0                      0              1136720\n",
      "  ---                                                                 \n",
      "2115:                    1                      1                    0\n",
      "2116:                    1                      1                    0\n",
      "2117:                    1                      1                    0\n",
      "2118:                    1                      1                    0\n",
      "2119:                    1                      1                    0\n",
      "      insureds_written written_revenues_net_of_taxes written_revenues\n",
      "   1:                0                        0.0000           0.0000\n",
      "   2:                0                        0.0000           0.0000\n",
      "   3:                0                      142.6800           0.0000\n",
      "   4:                0                        0.0000           0.0000\n",
      "   5:                0                      297.1768           0.0000\n",
      "  ---                                                                \n",
      "2115:                0                     1509.1600        1644.9844\n",
      "2116:                0                     2164.1100        2358.8799\n",
      "2117:                0                      309.7200         337.5948\n",
      "2118:                0                        0.0000           0.0000\n",
      "2119:                0                     1260.0000        1373.4000\n",
      "      num_policies_earned insureds_earned earned_revenues_net_of_taxes\n",
      "   1:                   0               0                      55.8953\n",
      "   2:                   0               0                    5529.9513\n",
      "   3:                   0               0                     142.6800\n",
      "   4:                   0               0                   32143.8185\n",
      "   5:                   0               0                 7085429.8843\n",
      "  ---                                                                 \n",
      "2115:                   0               0                    1576.8600\n",
      "2116:                   0               0                    2085.8000\n",
      "2117:                   0               0                      16.5700\n",
      "2118:                   0               0                      68.0000\n",
      "2119:                   0               0                    1260.0000\n",
      "      earned_revenues earned_base_commissions earned_over_commissions\n",
      "   1:          0.0000                  5.6453                       0\n",
      "   2:          0.0000               1290.5753                       0\n",
      "   3:          0.0000                  0.0000                       0\n",
      "   4:          0.0000               7071.6401                       0\n",
      "   5:          0.0000                  0.0000                       0\n",
      "  ---                                                                \n",
      "2115:       1718.7774                  0.0000                       0\n",
      "2116:       2273.5220                  0.0000                       0\n",
      "2117:         18.0613                  0.0000                       0\n",
      "2118:         74.1200                  0.0000                       0\n",
      "2119:       1373.4000                  0.0000                       0\n",
      "      upfront_cash_payments total_compensation num_claims num_open_claims\n",
      "   1:                     0             5.6453          0               0\n",
      "   2:                     0          1290.5753          0               0\n",
      "   3:                     0             0.0000          0               0\n",
      "   4:                     0          7071.6401          4               0\n",
      "   5:                     0             0.0000        204               0\n",
      "  ---                                                                    \n",
      "2115:                     0             0.0000          0               0\n",
      "2116:                     0             0.0000          0               0\n",
      "2117:                     0             0.0000          0               0\n",
      "2118:                     0             0.0000          0               0\n",
      "2119:                     0             0.0000          0               0\n",
      "      open_claims_pct num_claimants paid_claims    ocr__ibnr\n",
      "   1:               0             0      0.0000 8.250237e+00\n",
      "   2:               0             0      0.0000 1.843793e+03\n",
      "   3:               0             0      0.0000 2.257509e+01\n",
      "   4:               0             0    819.1621 7.248047e+03\n",
      "   5:               0             0 114095.2977 1.084173e+06\n",
      "  ---                                                       \n",
      "2115:               0             0     69.4500 1.472110e+03\n",
      "2116:               0             0      0.0000 6.087200e+02\n",
      "2117:               0             0    630.1200 0.000000e+00\n",
      "2118:               0             0      0.0000 0.000000e+00\n",
      "2119:               0             0      0.0000 0.000000e+00\n",
      "      pct_of_ibnr_on_ocr__ibnr actual_incurred_losses internal_variable_costs\n",
      "   1:                0.0000000           8.250237e+00            2.195253e+00\n",
      "   2:                0.0000000           1.843793e+03            2.404885e+02\n",
      "   3:                0.0000000           2.257509e+01            8.187503e+00\n",
      "   4:                1.0401751           8.067209e+03            2.175036e+04\n",
      "   5:                0.1551726           1.198269e+06            3.459687e+05\n",
      "  ---                                                                        \n",
      "2115:                0.0000000           1.541560e+03            4.337900e+02\n",
      "2116:                0.0000000           6.087200e+02            3.410960e+02\n",
      "2117:                0.0000000           6.301200e+02            3.050541e+02\n",
      "2118:                0.0000000           0.000000e+00            3.311451e+01\n",
      "2119:                0.0000000           0.000000e+00            8.352660e+02\n",
      "      az_tech_fee internal_fixed_costs      hq_fees total_expenses\n",
      "   1:    1.013645         1.671405e+02    11.050191   1.813996e+02\n",
      "   2:  111.044207         1.828543e+04  1210.541320   1.984750e+04\n",
      "   3:    3.780533         6.208089e+02    41.213241   6.739902e+02\n",
      "   4:  625.285543         1.070822e+05  6816.510337   1.362744e+05\n",
      "   5:    0.000000         1.734193e+06 86052.193011   2.166214e+06\n",
      "  ---                                                             \n",
      "2115:   45.413568         2.727968e+02    96.976890   8.489772e+02\n",
      "2116:   60.071040         3.608434e+02   128.276700   8.902871e+02\n",
      "2117:    0.477216         2.866610e+00     1.019055   3.094170e+02\n",
      "2118:    1.958400         1.917600e+01     4.182000   5.843091e+01\n",
      "2119:   36.288000         3.553200e+02    63.000000   1.289874e+03\n",
      "      frequency_earned severity risk_premium    cm_bu_view\n",
      "   1:                0        0            0      27.74067\n",
      "   2:                0        0            0     833.50856\n",
      "   3:                0        0            0      66.92363\n",
      "   4:                0        0            0  -12187.19095\n",
      "   5:                0        0            0 5455140.47866\n",
      "  ---                                                     \n",
      "2115:                0        0            0    -540.88046\n",
      "2116:                0        0            0     947.63628\n",
      "2117:                0        0            0    -920.10041\n",
      "2118:                0        0            0      28.74509\n",
      "2119:                0        0            0     325.44605\n",
      "      cm_pct_on_fixed_costs_bu_view\n",
      "   1:                    0.16597218\n",
      "   2:                    0.04558321\n",
      "   3:                    0.10780069\n",
      "   4:                   -0.11381150\n",
      "   5:                    3.14563624\n",
      "  ---                              \n",
      "2115:                   -1.98272305\n",
      "2116:                    2.62617047\n",
      "2117:                 -320.97160337\n",
      "2118:                    1.49901380\n",
      "2119:                    0.91592381\n",
      "      cm_pct_on_earned_revenues_net_of_taxes_bu_view    cm_hq_view\n",
      "   1:                                      0.4962971      38.79086\n",
      "   2:                                      0.1507262    2044.04988\n",
      "   3:                                      0.4690470     108.13687\n",
      "   4:                                     -0.3791457   -5370.68061\n",
      "   5:                                      0.7699096 5541192.67167\n",
      "  ---                                                             \n",
      "2115:                                     -0.3430111    -443.90357\n",
      "2116:                                      0.4543275    1075.91298\n",
      "2117:                                    -55.5280874    -919.08135\n",
      "2118:                                      0.4227219      32.92709\n",
      "2119:                                      0.2582905     388.44605\n",
      "      cm_pct_on_fixed_costs_hq_view\n",
      "   1:                    0.21769299\n",
      "   2:                    0.10484473\n",
      "   3:                    0.16334328\n",
      "   4:                   -0.04715311\n",
      "   5:                    3.04420117\n",
      "  ---                              \n",
      "2115:                   -1.20047372\n",
      "2116:                    2.19969079\n",
      "2117:                 -236.53128948\n",
      "2118:                    1.40967072\n",
      "2119:                    0.92858589\n",
      "      cm_pct_on_earned_revenues_net_of_taxes_hq_view loss_ratio\n",
      "   1:                                      0.6939915  0.1476016\n",
      "   2:                                      0.3696325  0.3334195\n",
      "   3:                                      0.7578979  0.1582218\n",
      "   4:                                     -0.1670828  0.2509723\n",
      "   5:                                      0.7820545  0.1691173\n",
      "  ---                                                          \n",
      "2115:                                     -0.2815111  0.9776137\n",
      "2116:                                      0.5158275  0.2918401\n",
      "2117:                                    -55.4665874 38.0277610\n",
      "2118:                                      0.4842219  0.0000000\n",
      "2119:                                      0.3082905  0.0000000\n",
      "      commission_ratio expense_ratio combined_ratio profit_or_loss notes\n",
      "   1:        0.1009978     3.2453460      3.4939454  -1.393998e+02      \n",
      "   2:        0.2333791     3.5890920      4.1558906  -1.745192e+04      \n",
      "   3:        0.0000000     4.7237889      4.8820107  -5.538853e+02      \n",
      "   4:        0.2200000     4.2395213      4.7104937  -1.192694e+05      \n",
      "   5:        0.0000000     0.3057279      0.4748452   3.720947e+06      \n",
      "  ---                                                                   \n",
      "2115:        0.0000000     0.5383973      1.5160111  -8.136772e+02   0.0\n",
      "2116:        0.0000000     0.4268324      0.7186725   5.867929e+02   0.0\n",
      "2117:        0.0000000    18.6733264     56.7010874  -9.229670e+02   0.0\n",
      "2118:        0.0000000     0.8592781      0.8592781   9.569089e+00   0.0\n",
      "2119:        0.0000000     1.0237095      1.0237095  -2.987395e+01   0.0\n",
      "      unnamed:_66 concat2    comsub     expsub reporting_date_from_int\n",
      "   1:           0   AUAUD 0.1009978  3.2453460                20210101\n",
      "   2:           0   AUAUD 0.2333791  3.5890920                20210101\n",
      "   3:           0   AUAUD 0.0000000  4.7237889                20210101\n",
      "   4:           0   AUAUD 0.2200000  4.2395213                20210101\n",
      "   5:           0   AUAUD 0.0000000  0.3057279                20210101\n",
      "  ---                                                                 \n",
      "2115:           0   PTEUR 0.0000000  0.5383973                20210101\n",
      "2116:           0   PTEUR 0.0000000  0.4268324                20210101\n",
      "2117:           0   PTEUR 0.0000000 18.6733264                20210101\n",
      "2118:           0   PTEUR 0.0000000  0.8592781                20210101\n",
      "2119:           0   PTEUR 0.0000000  1.0237095                20210101\n",
      "      reporting_date_to_int date_of_analysis_int\n",
      "   1:              20210331             20210430\n",
      "   2:              20210331             20210430\n",
      "   3:              20210331             20210430\n",
      "   4:              20210331             20210430\n",
      "   5:              20210331             20210430\n",
      "  ---                                           \n",
      "2115:              20210331             20210331\n",
      "2116:              20210331             20210331\n",
      "2117:              20210331             20210331\n",
      "2118:              20210331             20210331\n",
      "2119:              20210331             20210331\n",
      "                                                                                                                                           selected_fields_for_duplicates\n",
      "   1:                                                                                                         AUInsuranceLocalB2B2CTravelAllianz Affiliations1300 INS2876\n",
      "   2:                                                                                                         AUInsuranceLocalB2B2CTravelOffline Travel AgenciesAGAAU6034\n",
      "   3:                                                                                                              AUInsuranceLocalB2B2CTravelAllianz AffiliationsAHL6763\n",
      "   4:                                                                                                 AUInsuranceLocalB2CTravelDirect (Allianz Partners)ALLIANZ DIRECT304\n",
      "   5:                                                                                                            AUInsuranceLocalB2B2CTravelBanks / Credit CardsANZAU6641\n",
      "  ---                                                                                                                                                                    \n",
      "2115: PTReinsuranceLocalB2B2CTravelDirect (Allianz Partners)Travel Medical Short Term - Single TripAZ AP Grupo Viagens Opção A e Opção BAssistanceAssistanceAssistanceYes\n",
      "2116:                      PTReinsuranceLocalB2B2CTravelDirect (Allianz Partners)Travel Medical Short Term - Single TripAZ AP IndividualAssistanceAssistanceAssistanceYes\n",
      "2117:            PTReinsuranceLocalB2B2CTravelDirect (Allianz Partners)Travel Medical Short Term - Single TripAZ Viagens 2011 (ex-APAVT)AssistanceAssistanceAssistanceYes\n",
      "2118:                         PTReinsuranceLocalB2B2CTravelDirect (Allianz Partners)Travel Medical Short Term - Single TripNossa SegurosAssistanceAssistanceAssistanceYes\n",
      "2119:               PTReinsuranceLocalB2BTravelDirect (Allianz Partners)Standalone Cancellation - Single TripAZ Trabalhadores DeslocadosAssistanceAssistanceAssistanceYes\n",
      "      ibnrsub            rep_date __index_level_0__ bu_descr.x\n",
      "   1:       0 2021-03-30 20:00:00                 0  Australia\n",
      "   2:       0 2021-03-30 20:00:00                 1  Australia\n",
      "   3:       0 2021-03-30 20:00:00                 3  Australia\n",
      "   4:       0 2021-03-30 20:00:00                 4  Australia\n",
      "   5:       0 2021-03-30 20:00:00                 5  Australia\n",
      "  ---                                                         \n",
      "2115:       0 2021-03-30 20:00:00              3619   Portugal\n",
      "2116:       0 2021-03-30 20:00:00              3620   Portugal\n",
      "2117:       0 2021-03-30 20:00:00              3621   Portugal\n",
      "2118:       0 2021-03-30 20:00:00              3622   Portugal\n",
      "2119:       0 2021-03-30 20:00:00              3623   Portugal\n",
      "      month_of_analysis_max     reporting_period bu_descr.y\n",
      "   1:              2021 Apr 2021 Jan to 2021 Mar  Australia\n",
      "   2:              2021 Apr 2021 Jan to 2021 Mar  Australia\n",
      "   3:              2021 Apr 2021 Jan to 2021 Mar  Australia\n",
      "   4:              2021 Apr 2021 Jan to 2021 Mar  Australia\n",
      "   5:              2021 Apr 2021 Jan to 2021 Mar  Australia\n",
      "  ---                                                      \n",
      "2115:              2021 Mar 2021 Jan to 2021 Mar   Portugal\n",
      "2116:              2021 Mar 2021 Jan to 2021 Mar   Portugal\n",
      "2117:              2021 Mar 2021 Jan to 2021 Mar   Portugal\n",
      "2118:              2021 Mar 2021 Jan to 2021 Mar   Portugal\n",
      "2119:              2021 Mar 2021 Jan to 2021 Mar   Portugal\n"
     ]
    }
   ],
   "source": [
    "\n",
    "# create a copy of the data.table to make check transformations in next step\n",
    "d_input_in <- d_input\n",
    "\n",
    "# set new column names\n",
    "setnames(x = d_input, old = names(d_input), new = fixNames(names(d_input))) \n",
    "\n",
    "#----- Data Cleaning (Specific to BU) ------\n",
    "# !!! temporary step\n",
    "# pre-processing removes \"Global\" entry under the \"type_of_account\" field since it isn't an option in the template\n",
    "# Currently, only Global-FoS and GLobal-FoE are options, but this is specific to Europe\n",
    "# this step replaces these blanks with \"Global\"\n",
    "\n",
    "\n",
    "d_input[business_unit == 'US' & type_of_account != 'Local', type_of_account := 'Global']\n",
    "d_input[business_partner_name == 'Delta Vacations, LLC', business_partner_name := 'Delta Airlines'] #US had a change in main office; manual correction to the name\n",
    "\n",
    "# fix channel for \"Car Trawler\" for all BUs\n",
    "d_input[business_partner_name == 'Car Trawler', distribution_channel := 'Online Travel Agencies (OTAs)']\n",
    "\n",
    "# change \"Other\" in Switzerland's channel and sublob to \"Not Provided\"\n",
    "d_input[business_unit == 'CH' & distribution_channel %in% c('', 'Other'), distribution_channel := 'Not Provided']\n",
    "d_input[business_unit == 'CH' & sub_lob == 'Other', sub_lob := 'Not Provided']\n",
    "\n",
    "# Fix some of the characters for b-partners that got distorted in pre-processing\n",
    "d_input[business_partner_name == 'CornÃ¨r Banca', business_partner_name := 'Cornèr Banca']\n",
    "d_input[business_partner_name == 'ESL SÃ©jours Linguistiques', business_partner_name := 'ESL Séjours Linguistiques']\n",
    "d_input[business_partner_name == 'ReisebÃ¼ro Mittelthurgau', business_partner_name := 'Reisebüro Mittelthurgau']\n",
    "d_input[business_partner_name == 'Ã–KK', business_partner_name := 'ÖKK']\n",
    "d_input[business_partner_name == 'HK fÃ¼r GÃ¤ste', business_partner_name := 'HK für Gäste']\n",
    "d_input[business_partner_name == 'Twerenbold â€“ Busreisen Assistance Europa', business_partner_name := 'Twerenbold Busreisen Assistance Europa']\n",
    "d_input[business_partner_name == 'VÃ¶gele Reisen', business_partner_name := 'Vögele Reisen']\n",
    "d_input[business_partner_name == 'Last Minute Tours RestplatzbÃ¶rse', business_partner_name := 'Last Minute Tours Restplatzbörse']\n",
    "d_input[business_partner_name == 'InterdiÃ¶zesane Lourdeswallfahrt', business_partner_name := 'Interdiözesane Lourdeswallfahrt']\n",
    "d_input[business_partner_name == 'StÃ¶cklin Reisen', business_partner_name := 'Stöcklin Reisen']\n",
    "d_input[business_partner_name == 'Heilungskosten fÃ¼r GÃ¤ste', business_partner_name := 'Heilungskosten für Gäste']\n",
    "d_input[business_partner_name == 'Tourasia RÃ¶mer', business_partner_name := 'Tourasia Römer']\n",
    "d_input[business_partner_name == 'Sumiswalder GrundgebÃ¼hr', business_partner_name := 'Sumiswalder Grundgebühr']\n",
    "\n",
    "\n",
    "\n",
    "#----- Add currency conversion to raw data ------\n",
    "# define columns that will need a conversion\n",
    "curr_cols <- c(\n",
    " 'written_revenues_net_of_taxes',\n",
    " 'written_revenues',\n",
    " 'earned_revenues_net_of_taxes',\n",
    "'earned_revenues',\n",
    " 'earned_base_commissions',\n",
    " 'earned_over_commissions',\n",
    " 'upfront_cash_payments',\n",
    " 'total_compensation',\n",
    " 'paid_claims',\n",
    " 'actual_incurred_losses',\n",
    " 'internal_variable_costs',\n",
    " 'az_tech_fee',\n",
    " 'internal_fixed_costs',\n",
    " 'hq_fees',\n",
    " 'total_expenses',\n",
    " 'severity',\n",
    " 'risk_premium',\n",
    " 'cm_bu_view',\n",
    " 'cm_hq_view',\n",
    " 'profit_or_loss'\n",
    ")\n",
    "\n",
    "# replace existing China in main dataset\n",
    "d <- rbindlist(list(d_input), use.names = TRUE, fill = TRUE)\n",
    "\n",
    "#----- addtl TEMP data manipulation ------\n",
    "\n",
    "\n",
    "#----- Data Cleaning ------\n",
    "\n",
    "\n",
    "# save copy of data to manipulate\n",
    "d <- d_input\n",
    "\n",
    "# replace all NAs with 0s\n",
    "replaceNA(d)\n",
    "\n",
    "# additional manipulations\n",
    "# change unknown channels and sublobs to \"Other\"\n",
    "# ! now completed in pre-processing\n",
    "#d[distribution_channel == '0', distribution_channel := 'Other']\n",
    "#d[sub_lob == '0', sub_lob := 'Other']\n",
    "\n",
    "# add bu names to dataset\n",
    "# rename \"Scandinavia\" to \"Scandinavia/Baltics\" (more inclusive of the dataset)\n",
    "# changed upstream in process\n",
    "#i_bu[BU_CODE == 'SC', BU_DESCR := 'Scandinavia/Baltics']\n",
    "\n",
    "## test\n",
    "d <- merge(d, i_bu[, .(BU_CODE, bu_descr = BU_DESCR)], by.x = 'business_unit', by.y = 'BU_CODE', all.x = TRUE)\n",
    "\n",
    "\n",
    "# Fix text in fields\n",
    "\n",
    "d[product_name %in% c('0', '', '-'), product_name := 'Not Provided']\n",
    "d[business_partner_name %in% c('-', '0', ''), business_partner_name := 'Not Provided']\n",
    "\n",
    "\n",
    "# Add a reporting period and combined date of analysis\n",
    "# F version: changed from \"min\" to \"max\"\n",
    "# !!! special case for CN with different format\n",
    "#d[business_unit == 'CN', \n",
    "#  month_of_analysis_max := format(as.Date(max(as.numeric(date_of_analysis)), \n",
    "#                                            origin = '1899-12-30'), '%Y %b'), \n",
    "#  by = business_unit]\n",
    "\n",
    "d[,  month_of_analysis_max := format(as.Date(max(date_of_analysis)), '%Y %b'),  by = business_unit]\n",
    "\n",
    "#d[,  month_of_analysis_max := max(date_of_analysis),  by = business_unit]\n",
    "\n",
    "#d[business_unit == 'CN',\n",
    "#  reporting_period := paste(\n",
    "#  format(as.Date(as.numeric(reporting_date_from), origin = '1899-12-30'), '%Y %b'),\n",
    "#  'to',\n",
    "#  format(as.Date(as.numeric(reporting_date_to), origin = '1899-12-30'), '%Y %b')\n",
    "#  )]\n",
    "\n",
    "d[, \n",
    "  reporting_period := paste(\n",
    "  format(as.Date(reporting_date_from), '%Y %b'),\n",
    "  'to',\n",
    "  format(as.Date(reporting_date_to), '%Y %b')\n",
    "  )]\n",
    "\n",
    "# Replace LoB column with \"Travel\" since some show up blank or NA\n",
    "d[, lob := 'Travel']\n",
    "\n",
    "print(d)\n"
   ]
  },
  {
   "cell_type": "code",
   "execution_count": 8,
   "id": "5e07d337",
   "metadata": {
    "execution": {
     "iopub.execute_input": "2021-06-01T22:31:08.345061Z",
     "iopub.status.busy": "2021-06-01T22:31:08.341060Z",
     "iopub.status.idle": "2021-06-01T22:31:08.378062Z",
     "shell.execute_reply": "2021-06-01T22:31:08.376060Z"
    },
    "papermill": {
     "duration": 0.32498,
     "end_time": "2021-06-01T22:31:08.378062",
     "exception": false,
     "start_time": "2021-06-01T22:31:08.053082",
     "status": "completed"
    },
    "tags": []
   },
   "outputs": [],
   "source": [
    "##### Compare the original data.table to the transformed version, example to be built upon."
   ]
  },
  {
   "cell_type": "code",
   "execution_count": 9,
   "id": "44a6b47f",
   "metadata": {
    "execution": {
     "iopub.execute_input": "2021-06-01T22:31:08.989284Z",
     "iopub.status.busy": "2021-06-01T22:31:08.984284Z",
     "iopub.status.idle": "2021-06-01T22:31:10.636139Z",
     "shell.execute_reply": "2021-06-01T22:31:10.634139Z"
    },
    "papermill": {
     "duration": 1.984904,
     "end_time": "2021-06-01T22:31:10.637141",
     "exception": false,
     "start_time": "2021-06-01T22:31:08.652237",
     "status": "completed"
    },
    "scrolled": false,
    "tags": []
   },
   "outputs": [
    {
     "name": "stdout",
     "output_type": "stream",
     "text": [
      "[1] \"Compare d_input_in to d_input, should be no transformations.\"\n"
     ]
    },
    {
     "data": {
      "text/plain": [
       "Compare Object\n",
       "\n",
       "Function Call: \n",
       "comparedf(x = d_input_in, y = d_input)\n",
       "\n",
       "Shared: 81 non-by variables and 2119 observations.\n",
       "Not shared: 0 variables and 0 observations.\n",
       "\n",
       "Differences found in 0/81 variables compared.\n",
       "0 variables compared have non-identical attributes."
      ]
     },
     "metadata": {},
     "output_type": "display_data"
    },
    {
     "name": "stdout",
     "output_type": "stream",
     "text": [
      "[1] \"Compare d_input to d, should be all transformations.\"\n"
     ]
    },
    {
     "data": {
      "text/plain": [
       "Compare Object\n",
       "\n",
       "Function Call: \n",
       "comparedf(x = d, y = d_input)\n",
       "\n",
       "Shared: 80 non-by variables and 2119 observations.\n",
       "Not shared: 3 variables and 0 observations.\n",
       "\n",
       "Differences found in 0/80 variables compared.\n",
       "0 variables compared have non-identical attributes."
      ]
     },
     "metadata": {},
     "output_type": "display_data"
    }
   ],
   "source": [
    "print(\"Compare d_input_in to d_input, should be no transformations.\")\n",
    "\n",
    "comparedf(d_input_in, d_input)\n",
    "\n",
    "print(\"Compare d_input to d, should be all transformations.\")\n",
    "comparedf(d, d_input)"
   ]
  },
  {
   "cell_type": "code",
   "execution_count": 10,
   "id": "9a70753f",
   "metadata": {
    "execution": {
     "iopub.execute_input": "2021-06-01T22:31:11.201181Z",
     "iopub.status.busy": "2021-06-01T22:31:11.198178Z",
     "iopub.status.idle": "2021-06-01T22:31:11.239177Z",
     "shell.execute_reply": "2021-06-01T22:31:11.235178Z"
    },
    "papermill": {
     "duration": 0.326998,
     "end_time": "2021-06-01T22:31:11.239177",
     "exception": false,
     "start_time": "2021-06-01T22:31:10.912179",
     "status": "completed"
    },
    "tags": []
   },
   "outputs": [],
   "source": [
    "##### Output a tempfile to be turned into final outputs"
   ]
  },
  {
   "cell_type": "code",
   "execution_count": 11,
   "id": "81e3f438",
   "metadata": {
    "execution": {
     "iopub.execute_input": "2021-06-01T22:31:11.807005Z",
     "iopub.status.busy": "2021-06-01T22:31:11.802006Z",
     "iopub.status.idle": "2021-06-01T22:31:23.486066Z",
     "shell.execute_reply": "2021-06-01T22:31:23.479062Z"
    },
    "papermill": {
     "duration": 11.969877,
     "end_time": "2021-06-01T22:31:23.486066",
     "exception": false,
     "start_time": "2021-06-01T22:31:11.516189",
     "status": "completed"
    },
    "tags": []
   },
   "outputs": [],
   "source": [
    "write_parquet(d, tempfile)"
   ]
  },
  {
   "cell_type": "markdown",
   "id": "a8c05f6b",
   "metadata": {
    "papermill": {
     "duration": 0.320814,
     "end_time": "2021-06-01T22:31:24.304403",
     "exception": false,
     "start_time": "2021-06-01T22:31:23.983589",
     "status": "completed"
    },
    "tags": []
   },
   "source": [
    "#### todo Figure out how to store r objects for runner notebook\n"
   ]
  }
 ],
 "metadata": {
  "celltoolbar": "Tags",
  "kernelspec": {
   "display_name": "R",
   "language": "R",
   "name": "ir"
  },
  "language_info": {
   "codemirror_mode": "r",
   "file_extension": ".r",
   "mimetype": "text/x-r-source",
   "name": "R",
   "pygments_lexer": "r",
   "version": "3.6.1"
  },
  "papermill": {
   "default_parameters": {},
   "duration": 36.172277,
   "end_time": "2021-06-01T22:31:24.939992",
   "environment_variables": {},
   "exception": null,
   "input_path": "pipeline/r_transform.ipynb",
   "output_path": "//hecate/Insurance_US/Product Development/Product Management/Global PPM/Reporting/Data Collection/Pipeline Reporting Scripts/GPMpipeline/instances/2021.Q1\\pipeline\\r_transform06012021182709--live, add AT.ipynb",
   "parameters": {
    "commit_message": "Live run, added AT, bad file name, rerun.",
    "inst_datetime": "06012021182709",
    "percode": "2021.Q1",
    "run_control": 1
   },
   "start_time": "2021-06-01T22:30:48.767715",
   "version": "2.3.3"
  }
 },
 "nbformat": 4,
 "nbformat_minor": 5
}