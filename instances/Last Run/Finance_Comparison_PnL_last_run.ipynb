{
 "cells": [
  {
   "cell_type": "markdown",
   "id": "2873dbd1",
   "metadata": {
    "papermill": {
     "duration": 0.247035,
     "end_time": "2021-05-25T03:48:03.207114",
     "exception": false,
     "start_time": "2021-05-25T03:48:02.960079",
     "status": "completed"
    },
    "pycharm": {
     "name": "#%% md\n"
    },
    "tags": []
   },
   "source": [
    "<img src=\"../images/AzPTravel_PPM.png\">"
   ]
  },
  {
   "cell_type": "markdown",
   "id": "d4412526",
   "metadata": {
    "papermill": {
     "duration": 0.243626,
     "end_time": "2021-05-25T03:48:03.725724",
     "exception": false,
     "start_time": "2021-05-25T03:48:03.482098",
     "status": "completed"
    },
    "tags": []
   },
   "source": [
    "## GPM Pipeline Output maker\n",
    "\n",
    "#### This script\n",
    "- loads the transformed parquet file\n",
    "- creates the file {parquet}.localcur.csv\n",
    "- makes the Euro conversions\n",
    "- outputs {parquet}.euroconv.csv\n"
   ]
  },
  {
   "cell_type": "markdown",
   "id": "8aee9ee1",
   "metadata": {
    "papermill": {
     "duration": 0.267134,
     "end_time": "2021-05-25T03:48:04.249552",
     "exception": false,
     "start_time": "2021-05-25T03:48:03.982418",
     "status": "completed"
    },
    "tags": []
   },
   "source": [
    "#### Parameters section"
   ]
  },
  {
   "cell_type": "code",
   "execution_count": 1,
   "id": "1566bd7a",
   "metadata": {
    "execution": {
     "iopub.execute_input": "2021-05-25T03:48:04.733053Z",
     "iopub.status.busy": "2021-05-25T03:48:04.728062Z",
     "iopub.status.idle": "2021-05-25T03:48:04.738055Z",
     "shell.execute_reply": "2021-05-25T03:48:04.740056Z"
    },
    "papermill": {
     "duration": 0.248977,
     "end_time": "2021-05-25T03:48:04.741051",
     "exception": false,
     "start_time": "2021-05-25T03:48:04.492074",
     "status": "completed"
    },
    "pycharm": {
     "name": "#%%\n"
    },
    "tags": [
     "parameters"
    ]
   },
   "outputs": [],
   "source": [
    "commit = \"\"\n",
    "# give a reason for the run\n",
    "\n",
    "percode = \"20XX.QX\"\n",
    "# Data Collection Code, this controls file paths and output names\n",
    "\n",
    "run_type = 1\n",
    "#run_type =  0 - lite run with no reporting, not recommended.\n",
    "#run_type =  1 - lite run with normal reporting, default setting.\n",
    "#run_type =  2 - Heavy run with full reporting, available for audits and troubleshooting.\n",
    "\n",
    "specialchars = \"-GTHtest\"\n",
    "# optional - add up to a 12 character code in order to mark your instance record .ipynb\n",
    "\n",
    "from datetime import datetime\n",
    "inst_datetime = datetime.now().strftime(\"%m%d%Y%H%M%S\")\n",
    "# a single datetime stamp for the full instance run\n"
   ]
  },
  {
   "cell_type": "code",
   "execution_count": 2,
   "id": "468ac89a",
   "metadata": {
    "execution": {
     "iopub.execute_input": "2021-05-25T03:48:05.249123Z",
     "iopub.status.busy": "2021-05-25T03:48:05.247123Z",
     "iopub.status.idle": "2021-05-25T03:48:05.254123Z",
     "shell.execute_reply": "2021-05-25T03:48:05.255122Z"
    },
    "papermill": {
     "duration": 0.268985,
     "end_time": "2021-05-25T03:48:05.256122",
     "exception": false,
     "start_time": "2021-05-25T03:48:04.987137",
     "status": "completed"
    },
    "tags": [
     "injected-parameters"
    ]
   },
   "outputs": [],
   "source": [
    "# Parameters\n",
    "run_control = 1\n",
    "percode = \"2021.Q1\"\n",
    "commit_message = \"Edited data for Austraila, json 2 parquet and add comments from email. Begin general evaluation of data submissions.\"\n",
    "inst_datetime = \"05242021234401\"\n"
   ]
  },
  {
   "cell_type": "markdown",
   "id": "1b3e8761",
   "metadata": {
    "papermill": {
     "duration": 0.254982,
     "end_time": "2021-05-25T03:48:05.782103",
     "exception": false,
     "start_time": "2021-05-25T03:48:05.527121",
     "status": "completed"
    },
    "tags": []
   },
   "source": [
    "### Set Run Control\n",
    "\n",
    "##### 0 - lite run with no reporting, not recommended.\n",
    "##### 1 - lite run with normal reporting, default setting.\n",
    "##### 2 - Heavy run with full reporting, available for audits and troubleshooting."
   ]
  },
  {
   "cell_type": "code",
   "execution_count": 3,
   "id": "951004ef",
   "metadata": {
    "execution": {
     "iopub.execute_input": "2021-05-25T03:48:06.342526Z",
     "iopub.status.busy": "2021-05-25T03:48:06.341533Z",
     "iopub.status.idle": "2021-05-25T03:48:06.345539Z",
     "shell.execute_reply": "2021-05-25T03:48:06.347537Z"
    },
    "papermill": {
     "duration": 0.279832,
     "end_time": "2021-05-25T03:48:06.347537",
     "exception": false,
     "start_time": "2021-05-25T03:48:06.067705",
     "status": "completed"
    },
    "pycharm": {
     "name": "#%%\n"
    },
    "tags": []
   },
   "outputs": [],
   "source": [
    "run_control = 0 # in development mode"
   ]
  },
  {
   "cell_type": "markdown",
   "id": "18cb3595",
   "metadata": {
    "papermill": {
     "duration": 0.246572,
     "end_time": "2021-05-25T03:48:06.832145",
     "exception": false,
     "start_time": "2021-05-25T03:48:06.585573",
     "status": "completed"
    },
    "tags": []
   },
   "source": [
    "#### Packages used"
   ]
  },
  {
   "cell_type": "code",
   "execution_count": 4,
   "id": "37bc1a0d",
   "metadata": {
    "execution": {
     "iopub.execute_input": "2021-05-25T03:48:07.328176Z",
     "iopub.status.busy": "2021-05-25T03:48:07.325178Z",
     "iopub.status.idle": "2021-05-25T03:48:08.325665Z",
     "shell.execute_reply": "2021-05-25T03:48:08.326656Z"
    },
    "papermill": {
     "duration": 1.242519,
     "end_time": "2021-05-25T03:48:08.327656",
     "exception": false,
     "start_time": "2021-05-25T03:48:07.085137",
     "status": "completed"
    },
    "pycharm": {
     "name": "#%%\n"
    },
    "tags": []
   },
   "outputs": [],
   "source": [
    "import sys\n",
    "import os\n",
    "import pandas as pd"
   ]
  },
  {
   "cell_type": "code",
   "execution_count": 5,
   "id": "935d66ab",
   "metadata": {
    "execution": {
     "iopub.execute_input": "2021-05-25T03:48:08.906282Z",
     "iopub.status.busy": "2021-05-25T03:48:08.905295Z",
     "iopub.status.idle": "2021-05-25T03:48:08.911286Z",
     "shell.execute_reply": "2021-05-25T03:48:08.912288Z"
    },
    "papermill": {
     "duration": 0.296629,
     "end_time": "2021-05-25T03:48:08.913282",
     "exception": false,
     "start_time": "2021-05-25T03:48:08.616653",
     "status": "completed"
    },
    "pycharm": {
     "name": "#%%\n"
    },
    "tags": []
   },
   "outputs": [],
   "source": [
    "default_DC = \"2021.Q1\"\n",
    "\n",
    "try:\n",
    "    if sys.argv[1] == \"-f\":\n",
    "        percode = default_DC\n",
    "    else:\n",
    "        percode = sys.argv[1]\n",
    "\n",
    "except IndexError:\n",
    "    percode = default_DC\n",
    "except NameError:\n",
    "    percode = default_DC"
   ]
  },
  {
   "cell_type": "markdown",
   "id": "b8fb2b2c",
   "metadata": {
    "papermill": {
     "duration": 0.246998,
     "end_time": "2021-05-25T03:48:09.396860",
     "exception": false,
     "start_time": "2021-05-25T03:48:09.149862",
     "status": "completed"
    },
    "tags": []
   },
   "source": [
    "#### Convert paths and files to variables.\n",
    "#### Read data into pd DataFrames.\n",
    "#### Make paths for the live sources."
   ]
  },
  {
   "cell_type": "code",
   "execution_count": 6,
   "id": "ffc35081",
   "metadata": {
    "execution": {
     "iopub.execute_input": "2021-05-25T03:48:09.902492Z",
     "iopub.status.busy": "2021-05-25T03:48:09.900490Z",
     "iopub.status.idle": "2021-05-25T03:48:09.907492Z",
     "shell.execute_reply": "2021-05-25T03:48:09.909504Z"
    },
    "papermill": {
     "duration": 0.268655,
     "end_time": "2021-05-25T03:48:09.909504",
     "exception": false,
     "start_time": "2021-05-25T03:48:09.640849",
     "status": "completed"
    },
    "pycharm": {
     "name": "#%%\n"
    },
    "tags": []
   },
   "outputs": [],
   "source": [
    "rt_path = f'//hecate/Insurance_US/Product Development/Product Manag' \\\n",
    "          f'ement/Global PPM/Reporting/Data Collection/Production/{str(percode)}'\n",
    "tempfile = os.path.join(rt_path, f'{str(percode)}.localcur.parquet')\n",
    "gppm_file = os.path.join(rt_path, f'GPPM_Input_{str(percode)}.xlsx')"
   ]
  },
  {
   "cell_type": "markdown",
   "id": "2235807c",
   "metadata": {
    "papermill": {
     "duration": 0.247555,
     "end_time": "2021-05-25T03:48:10.442689",
     "exception": false,
     "start_time": "2021-05-25T03:48:10.195134",
     "status": "completed"
    },
    "tags": []
   },
   "source": [
    "#### Read source"
   ]
  },
  {
   "cell_type": "code",
   "execution_count": 7,
   "id": "54e193af",
   "metadata": {
    "execution": {
     "iopub.execute_input": "2021-05-25T03:48:10.974724Z",
     "iopub.status.busy": "2021-05-25T03:48:10.969727Z",
     "iopub.status.idle": "2021-05-25T03:48:13.092959Z",
     "shell.execute_reply": "2021-05-25T03:48:13.094965Z"
    },
    "papermill": {
     "duration": 2.383757,
     "end_time": "2021-05-25T03:48:13.094965",
     "exception": false,
     "start_time": "2021-05-25T03:48:10.711208",
     "status": "completed"
    },
    "pycharm": {
     "name": "#%%\n"
    },
    "tags": []
   },
   "outputs": [
    {
     "name": "stdout",
     "output_type": "stream",
     "text": [
      "     business_unit                   submission_file country currency  \\\n",
      "0               AU  us_dat_au_02172021174434.parquet      AU      AUD   \n",
      "1               AU  us_dat_au_02172021174434.parquet      AU      AUD   \n",
      "2               AU  us_dat_au_02172021174434.parquet      AU      AUD   \n",
      "3               AU  us_dat_au_02172021174434.parquet      AU      AUD   \n",
      "4               AU  us_dat_au_02172021174434.parquet      AU      AUD   \n",
      "...            ...                               ...     ...      ...   \n",
      "1952            PT  us_dat_pt_05202021121056.parquet      PT      EUR   \n",
      "1953            PT  us_dat_pt_05202021121056.parquet      PT      EUR   \n",
      "1954            PT  us_dat_pt_05202021121056.parquet      PT      EUR   \n",
      "1955            PT  us_dat_pt_05202021121056.parquet      PT      EUR   \n",
      "1956            PT  us_dat_pt_05202021121056.parquet      PT      EUR   \n",
      "\n",
      "                           region reporting_date_from reporting_date_to  \\\n",
      "0                            APAC          2020-01-01        2020-12-31   \n",
      "1                            APAC          2020-01-01        2020-12-31   \n",
      "2                            APAC          2020-01-01        2020-12-31   \n",
      "3                            APAC          2020-01-01        2020-12-31   \n",
      "4                            APAC          2020-01-01        2020-12-31   \n",
      "...                           ...                 ...               ...   \n",
      "1952  Western Europe, LATAM & MEA          2021-01-01        2021-03-31   \n",
      "1953  Western Europe, LATAM & MEA          2021-01-01        2021-03-31   \n",
      "1954  Western Europe, LATAM & MEA          2021-01-01        2021-03-31   \n",
      "1955  Western Europe, LATAM & MEA          2021-01-01        2021-03-31   \n",
      "1956  Western Europe, LATAM & MEA          2021-01-01        2021-03-31   \n",
      "\n",
      "     date_of_analysis         type_of_analysis  analysed_months  ...  \\\n",
      "0          2021-02-08  Most Recently 12 Months             12.0  ...   \n",
      "1          2021-02-08  Most Recently 12 Months             12.0  ...   \n",
      "2          2021-02-08  Most Recently 12 Months             12.0  ...   \n",
      "3          2021-02-08  Most Recently 12 Months             12.0  ...   \n",
      "4          2021-02-08  Most Recently 12 Months             12.0  ...   \n",
      "...               ...                      ...              ...  ...   \n",
      "1952       2021-03-31             Year To Date              3.0  ...   \n",
      "1953       2021-03-31             Year To Date              3.0  ...   \n",
      "1954       2021-03-31             Year To Date              3.0  ...   \n",
      "1955       2021-03-31             Year To Date              3.0  ...   \n",
      "1956       2021-03-31             Year To Date              3.0  ...   \n",
      "\n",
      "      date_of_analysis_int                     selected_fields_for_duplicates  \\\n",
      "0                 20210208  AUInsuranceLocalB2B2CTravelAllianz Affiliation...   \n",
      "1                 20210208  AUInsuranceLocalB2B2CTravelOffline Travel Agen...   \n",
      "2                 20210208  AUInsuranceLocalB2B2CTravelOffline Travel Agen...   \n",
      "3                 20210208  AUInsuranceLocalB2B2CTravelAllianz Affiliation...   \n",
      "4                 20210208  AUInsuranceLocalB2B2CTravelCarriers - Airlines...   \n",
      "...                    ...                                                ...   \n",
      "1952              20210331  PTReinsuranceLocalB2B2CTravelDirect (Allianz P...   \n",
      "1953              20210331  PTReinsuranceLocalB2B2CTravelDirect (Allianz P...   \n",
      "1954              20210331  PTReinsuranceLocalB2B2CTravelDirect (Allianz P...   \n",
      "1955              20210331  PTReinsuranceLocalB2B2CTravelDirect (Allianz P...   \n",
      "1956              20210331  PTReinsuranceLocalB2BTravelDirect (Allianz Par...   \n",
      "\n",
      "      pct_of_ibnr_on_ocr__ibnr unnamed:_66 ibnrsub   rep_date  \\\n",
      "0                          0.0         0.0     0.0 2020-12-31   \n",
      "1                          0.0         0.0     0.0 2020-12-31   \n",
      "2                          0.0         0.0     0.0 2020-12-31   \n",
      "3                          0.0         0.0     0.0 2020-12-31   \n",
      "4                          0.0         0.0     0.0 2020-12-31   \n",
      "...                        ...         ...     ...        ...   \n",
      "1952                       0.0         0.0     0.0 2021-03-31   \n",
      "1953                       0.0         0.0     0.0 2021-03-31   \n",
      "1954                       0.0         0.0     0.0 2021-03-31   \n",
      "1955                       0.0         0.0     0.0 2021-03-31   \n",
      "1956                       0.0         0.0     0.0 2021-03-31   \n",
      "\n",
      "     __index_level_0__   bu_descr month_of_analysis_max      reporting_period  \n",
      "0                    0  Australia              2021 Feb  2020 Jan to 2020 Dec  \n",
      "1                    1  Australia              2021 Feb  2020 Jan to 2020 Dec  \n",
      "2                    2  Australia              2021 Feb  2020 Jan to 2020 Dec  \n",
      "3                    3  Australia              2021 Feb  2020 Jan to 2020 Dec  \n",
      "4                    4  Australia              2021 Feb  2020 Jan to 2020 Dec  \n",
      "...                ...        ...                   ...                   ...  \n",
      "1952              3451   Portugal              2021 Mar  2021 Jan to 2021 Mar  \n",
      "1953              3452   Portugal              2021 Mar  2021 Jan to 2021 Mar  \n",
      "1954              3453   Portugal              2021 Mar  2021 Jan to 2021 Mar  \n",
      "1955              3454   Portugal              2021 Mar  2021 Jan to 2021 Mar  \n",
      "1956              3455   Portugal              2021 Mar  2021 Jan to 2021 Mar  \n",
      "\n",
      "[1957 rows x 82 columns]\n"
     ]
    }
   ],
   "source": [
    "mo_input = pd.read_parquet(tempfile, engine='pyarrow')\n",
    "\n",
    "print(mo_input)"
   ]
  },
  {
   "cell_type": "markdown",
   "id": "4afa41cd",
   "metadata": {
    "papermill": {
     "duration": 0.265985,
     "end_time": "2021-05-25T03:48:13.611457",
     "exception": false,
     "start_time": "2021-05-25T03:48:13.345472",
     "status": "completed"
    },
    "tags": []
   },
   "source": [
    "#### Output local currency csv"
   ]
  },
  {
   "cell_type": "code",
   "execution_count": 8,
   "id": "48a9ec54",
   "metadata": {
    "execution": {
     "iopub.execute_input": "2021-05-25T03:48:14.106390Z",
     "iopub.status.busy": "2021-05-25T03:48:14.104396Z",
     "iopub.status.idle": "2021-05-25T03:48:22.906663Z",
     "shell.execute_reply": "2021-05-25T03:48:22.907660Z"
    },
    "papermill": {
     "duration": 9.048622,
     "end_time": "2021-05-25T03:48:22.908660",
     "exception": false,
     "start_time": "2021-05-25T03:48:13.860038",
     "status": "completed"
    },
    "pycharm": {
     "is_executing": true,
     "name": "#%%\n"
    },
    "tags": []
   },
   "outputs": [],
   "source": [
    "mo_input.to_csv(f'//hecate/Insurance_US/Product Development/Product Management/Global PPM/Reporting/Data Collection/Production/{str(percode)}\\\\{str(percode)}.localcur.csv', ',', index=False, encoding='utf-8-sig')"
   ]
  },
  {
   "cell_type": "markdown",
   "id": "539548c5",
   "metadata": {
    "papermill": {
     "duration": 0.299966,
     "end_time": "2021-05-25T03:48:23.533622",
     "exception": false,
     "start_time": "2021-05-25T03:48:23.233656",
     "status": "completed"
    },
    "tags": []
   },
   "source": [
    "#### Convert all currency to Euro\n"
   ]
  },
  {
   "cell_type": "code",
   "execution_count": 9,
   "id": "29ce762e",
   "metadata": {
    "execution": {
     "iopub.execute_input": "2021-05-25T03:48:24.077102Z",
     "iopub.status.busy": "2021-05-25T03:48:24.070103Z",
     "iopub.status.idle": "2021-05-25T03:48:25.414075Z",
     "shell.execute_reply": "2021-05-25T03:48:25.416076Z"
    },
    "papermill": {
     "duration": 1.618598,
     "end_time": "2021-05-25T03:48:25.416076",
     "exception": false,
     "start_time": "2021-05-25T03:48:23.797478",
     "status": "completed"
    },
    "pycharm": {
     "is_executing": true,
     "name": "#%%\n"
    },
    "tags": []
   },
   "outputs": [],
   "source": [
    "\n",
    "cflds = ['written_revenues_net_of_taxes', 'written_revenues', 'earned_revenues_net_of_taxes',\n",
    "         'earned_revenues', 'earned_base_commissions', 'earned_over_commissions', 'upfront_cash_payments',\n",
    "         'total_compensation', 'paid_claims', 'ocr__ibnr', 'actual_incurred_losses',\n",
    "         'internal_variable_costs', 'az_tech_fee', 'internal_fixed_costs',\n",
    "         'hq_fees', 'total_expenses', 'risk_premium', 'profit_or_loss', 'cm_hq_view',\n",
    "         'cm_bu_view', ]\n",
    "\n",
    "\n",
    "\"\"\"reads in the input for the Euro conversion\"\"\"\n",
    "euro = pd.read_excel(gppm_file, sheet_name=\"Euro_Rates\")\n"
   ]
  },
  {
   "cell_type": "markdown",
   "id": "fc5f0d4f",
   "metadata": {
    "papermill": {
     "duration": 0.266502,
     "end_time": "2021-05-25T03:48:25.934086",
     "exception": false,
     "start_time": "2021-05-25T03:48:25.667584",
     "status": "completed"
    },
    "tags": []
   },
   "source": [
    "#### Make a copy for debug purposes"
   ]
  },
  {
   "cell_type": "code",
   "execution_count": 10,
   "id": "79baeaaa",
   "metadata": {
    "execution": {
     "iopub.execute_input": "2021-05-25T03:48:26.455211Z",
     "iopub.status.busy": "2021-05-25T03:48:26.454212Z",
     "iopub.status.idle": "2021-05-25T03:48:26.460216Z",
     "shell.execute_reply": "2021-05-25T03:48:26.461214Z"
    },
    "papermill": {
     "duration": 0.28899,
     "end_time": "2021-05-25T03:48:26.461214",
     "exception": false,
     "start_time": "2021-05-25T03:48:26.172224",
     "status": "completed"
    },
    "pycharm": {
     "is_executing": true,
     "name": "#%%\n"
    },
    "tags": []
   },
   "outputs": [],
   "source": [
    "trandata = mo_input.copy()"
   ]
  },
  {
   "cell_type": "markdown",
   "id": "e7757901",
   "metadata": {
    "papermill": {
     "duration": 0.305061,
     "end_time": "2021-05-25T03:48:27.042764",
     "exception": false,
     "start_time": "2021-05-25T03:48:26.737703",
     "status": "completed"
    },
    "tags": []
   },
   "source": [
    "#### Convert Currency Below"
   ]
  },
  {
   "cell_type": "code",
   "execution_count": 11,
   "id": "68d682f4",
   "metadata": {
    "execution": {
     "iopub.execute_input": "2021-05-25T03:48:27.897236Z",
     "iopub.status.busy": "2021-05-25T03:48:27.889415Z",
     "iopub.status.idle": "2021-05-25T03:48:27.902241Z",
     "shell.execute_reply": "2021-05-25T03:48:27.903238Z"
    },
    "papermill": {
     "duration": 0.456966,
     "end_time": "2021-05-25T03:48:27.903238",
     "exception": false,
     "start_time": "2021-05-25T03:48:27.446272",
     "status": "completed"
    },
    "pycharm": {
     "is_executing": true,
     "name": "#%%\n"
    },
    "tags": []
   },
   "outputs": [],
   "source": [
    "# create DataFrame of unique currencies with rates\n",
    "\n",
    "fx_uni = euro[['CURR_CODE','RATE']]\n",
    "fx_uni = fx_uni.drop_duplicates()"
   ]
  },
  {
   "cell_type": "code",
   "execution_count": 12,
   "id": "4677d7c2",
   "metadata": {
    "execution": {
     "iopub.execute_input": "2021-05-25T03:48:28.485906Z",
     "iopub.status.busy": "2021-05-25T03:48:28.479909Z",
     "iopub.status.idle": "2021-05-25T03:48:28.491904Z",
     "shell.execute_reply": "2021-05-25T03:48:28.492912Z"
    },
    "papermill": {
     "duration": 0.327223,
     "end_time": "2021-05-25T03:48:28.493904",
     "exception": false,
     "start_time": "2021-05-25T03:48:28.166681",
     "status": "completed"
    },
    "pycharm": {
     "is_executing": true,
     "name": "#%%\n"
    },
    "tags": []
   },
   "outputs": [],
   "source": [
    "# add euro conversion rates to trandata DataFrame as column 'eur_rate'\n",
    "\n",
    "eurdata = pd.merge(trandata['currency'], fx_uni, left_on='currency', right_on='CURR_CODE', how='left')\n",
    "\n",
    "trandata['eur_rate'] = eurdata['RATE']"
   ]
  },
  {
   "cell_type": "markdown",
   "id": "10a76f02",
   "metadata": {
    "papermill": {
     "duration": 0.312505,
     "end_time": "2021-05-25T03:48:29.140851",
     "exception": false,
     "start_time": "2021-05-25T03:48:28.828346",
     "status": "completed"
    },
    "tags": []
   },
   "source": [
    "#### Convert currency fields"
   ]
  },
  {
   "cell_type": "code",
   "execution_count": 13,
   "id": "f613bb2d",
   "metadata": {
    "execution": {
     "iopub.execute_input": "2021-05-25T03:48:29.727342Z",
     "iopub.status.busy": "2021-05-25T03:48:29.726345Z",
     "iopub.status.idle": "2021-05-25T03:48:30.013204Z",
     "shell.execute_reply": "2021-05-25T03:48:30.014210Z"
    },
    "papermill": {
     "duration": 0.570002,
     "end_time": "2021-05-25T03:48:30.015204",
     "exception": false,
     "start_time": "2021-05-25T03:48:29.445202",
     "status": "completed"
    },
    "pycharm": {
     "is_executing": true,
     "name": "#%%\n"
    },
    "tags": []
   },
   "outputs": [],
   "source": [
    "trandata[cflds] = trandata[cflds].divide(trandata['eur_rate'], axis=\"index\").fillna(0)\n"
   ]
  },
  {
   "cell_type": "markdown",
   "id": "90256593",
   "metadata": {
    "papermill": {
     "duration": 0.311705,
     "end_time": "2021-05-25T03:48:30.634525",
     "exception": false,
     "start_time": "2021-05-25T03:48:30.322820",
     "status": "completed"
    },
    "tags": []
   },
   "source": [
    "#### Output to {percode}.euroconv.csv"
   ]
  },
  {
   "cell_type": "code",
   "execution_count": 14,
   "id": "d7e9397c",
   "metadata": {
    "execution": {
     "iopub.execute_input": "2021-05-25T03:48:31.227266Z",
     "iopub.status.busy": "2021-05-25T03:48:31.226267Z",
     "iopub.status.idle": "2021-05-25T03:48:40.434997Z",
     "shell.execute_reply": "2021-05-25T03:48:40.435998Z"
    },
    "papermill": {
     "duration": 9.524768,
     "end_time": "2021-05-25T03:48:40.435998",
     "exception": false,
     "start_time": "2021-05-25T03:48:30.911230",
     "status": "completed"
    },
    "pycharm": {
     "is_executing": true,
     "name": "#%%\n"
    },
    "tags": []
   },
   "outputs": [],
   "source": [
    "trandata.to_csv(f'//hecate/Insurance_US/Product Development/Product Management/Global PPM/Reporting/Data Collection/Production/{str(percode)}\\\\{str(percode)}.euroconv.csv', ',', index=False, encoding='utf-8-sig')\n",
    "\n",
    "\n"
   ]
  },
  {
   "cell_type": "markdown",
   "id": "22e43b96",
   "metadata": {
    "papermill": {
     "duration": 0.294735,
     "end_time": "2021-05-25T03:48:41.046766",
     "exception": false,
     "start_time": "2021-05-25T03:48:40.752031",
     "status": "completed"
    },
    "tags": []
   },
   "source": [
    "#### Store the DataFrame for other notebooks to use"
   ]
  },
  {
   "cell_type": "code",
   "execution_count": 15,
   "id": "7e4eb9da",
   "metadata": {
    "execution": {
     "iopub.execute_input": "2021-05-25T03:48:41.680787Z",
     "iopub.status.busy": "2021-05-25T03:48:41.677788Z",
     "iopub.status.idle": "2021-05-25T03:48:41.704888Z",
     "shell.execute_reply": "2021-05-25T03:48:41.705887Z"
    },
    "papermill": {
     "duration": 0.339138,
     "end_time": "2021-05-25T03:48:41.706890",
     "exception": false,
     "start_time": "2021-05-25T03:48:41.367752",
     "status": "completed"
    },
    "tags": []
   },
   "outputs": [
    {
     "name": "stdout",
     "output_type": "stream",
     "text": [
      "Stored 'mo_df' (DataFrame)\n"
     ]
    }
   ],
   "source": [
    "mo_df = trandata\n",
    "\n",
    "%store mo_df\n"
   ]
  }
 ],
 "metadata": {
  "celltoolbar": "Tags",
  "kernelspec": {
   "display_name": "Python 3",
   "language": "python",
   "name": "python3"
  },
  "language_info": {
   "codemirror_mode": {
    "name": "ipython",
    "version": 3
   },
   "file_extension": ".py",
   "mimetype": "text/x-python",
   "name": "python",
   "nbconvert_exporter": "python",
   "pygments_lexer": "ipython3",
   "version": "3.7.6"
  },
  "papermill": {
   "default_parameters": {},
   "duration": 42.337254,
   "end_time": "2021-05-25T03:48:42.431571",
   "environment_variables": {},
   "exception": null,
   "input_path": "pipeline/make_output.ipynb",
   "output_path": "//hecate/Insurance_US/Product Development/Product Management/Global PPM/Reporting/Data Collection/Pipeline Reporting Scripts/GPMpipeline/instances/2021.Q1\\pipeline\\make_output05242021234401--live run.ipynb",
   "parameters": {
    "commit_message": "Edited data for Austraila, json 2 parquet and add comments from email. Begin general evaluation of data submissions.",
    "inst_datetime": "05242021234401",
    "percode": "2021.Q1",
    "run_control": 1
   },
   "start_time": "2021-05-25T03:48:00.094317",
   "version": "2.3.3"
  }
 },
 "nbformat": 4,
 "nbformat_minor": 5
}