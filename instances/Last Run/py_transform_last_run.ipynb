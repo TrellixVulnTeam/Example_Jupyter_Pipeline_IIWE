{
 "cells": [
  {
   "cell_type": "markdown",
   "id": "208d0c78",
   "metadata": {
    "papermill": {
     "duration": 0.285291,
     "end_time": "2021-06-15T18:00:51.269268",
     "exception": false,
     "start_time": "2021-06-15T18:00:50.983977",
     "status": "completed"
    },
    "pycharm": {
     "name": "#%% md\n"
    },
    "tags": []
   },
   "source": [
    "<img src=\"../images/AzPTravel_PPM.png\">"
   ]
  },
  {
   "cell_type": "markdown",
   "id": "d1135074",
   "metadata": {
    "collapsed": true,
    "papermill": {
     "duration": 0.262704,
     "end_time": "2021-06-15T18:00:51.973951",
     "exception": false,
     "start_time": "2021-06-15T18:00:51.711247",
     "status": "completed"
    },
    "pycharm": {
     "name": "#%% md\n"
    },
    "tags": []
   },
   "source": [
    "## GPM Data Transformation Script\n",
    "\n",
    "#### This script transforms the single consolidated raw file \"{Data Collection}.csv\" into it's final GPM input versions \"{Data Collection Code}localcur.csv\" and \"{Data Collection Code}euroconv.csv\"\n",
    "#### Current transformations\n",
    "\n",
    "-    make headers lowercase and replace spaces with hyphens\n",
    "-    Remove any rows with null BUs\n",
    "-    validate columns in validcols\n",
    "-    output documented here: \"Global_Attribute_Catalog.xlsx\" you can also edit dataframe entries using the instructions in the file\n",
    "-    replace various null or placeholder values with \"Not Provided\"\n"
   ]
  },
  {
   "cell_type": "markdown",
   "id": "47a1e3a7",
   "metadata": {
    "papermill": {
     "duration": 0.308169,
     "end_time": "2021-06-15T18:00:52.547136",
     "exception": false,
     "start_time": "2021-06-15T18:00:52.238967",
     "status": "completed"
    },
    "tags": []
   },
   "source": [
    "###"
   ]
  },
  {
   "cell_type": "code",
   "execution_count": 1,
   "id": "6dcf8742",
   "metadata": {
    "execution": {
     "iopub.execute_input": "2021-06-15T18:00:53.116172Z",
     "iopub.status.busy": "2021-06-15T18:00:53.112170Z",
     "iopub.status.idle": "2021-06-15T18:00:53.129169Z",
     "shell.execute_reply": "2021-06-15T18:00:53.133469Z"
    },
    "papermill": {
     "duration": 0.331308,
     "end_time": "2021-06-15T18:00:53.133469",
     "exception": false,
     "start_time": "2021-06-15T18:00:52.802161",
     "status": "completed"
    },
    "pycharm": {
     "name": "#%%\n"
    },
    "tags": [
     "parameters"
    ]
   },
   "outputs": [],
   "source": [
    "commit = \"\"\n",
    "# give a reason for the run\n",
    "\n",
    "percode = \"20XX.QX\"\n",
    "# Data Collection Code, this controls file paths and output names\n",
    "\n",
    "run_type = 1\n",
    "#run_type =  0 - lite run with no reporting, not recommended.\n",
    "#run_type =  1 - lite run with normal reporting, default setting.\n",
    "#run_type =  2 - Heavy run with full reporting, available for audits and troubleshooting.\n",
    "\n",
    "specialchars = \"-GTHtest\"\n",
    "# optional - add up to a 12 character code in order to mark your instance record .ipynb\n",
    "\n",
    "from datetime import datetime\n",
    "inst_datetime = datetime.now().strftime(\"%m%d%Y%H%M%S\")\n",
    "# a single datetime stamp for the full instance run\n"
   ]
  },
  {
   "cell_type": "code",
   "execution_count": 2,
   "id": "f5ba6b58",
   "metadata": {
    "execution": {
     "iopub.execute_input": "2021-06-15T18:00:53.748786Z",
     "iopub.status.busy": "2021-06-15T18:00:53.745794Z",
     "iopub.status.idle": "2021-06-15T18:00:53.756786Z",
     "shell.execute_reply": "2021-06-15T18:00:53.755791Z"
    },
    "papermill": {
     "duration": 0.321906,
     "end_time": "2021-06-15T18:00:53.757784",
     "exception": false,
     "start_time": "2021-06-15T18:00:53.435878",
     "status": "completed"
    },
    "tags": [
     "injected-parameters"
    ]
   },
   "outputs": [],
   "source": [
    "# Parameters\n",
    "run_control = 1\n",
    "percode = \"2021.Q1\"\n",
    "commit_message = \"Live run, add DE Allocations\"\n",
    "inst_datetime = \"06152021135514\"\n"
   ]
  },
  {
   "cell_type": "markdown",
   "id": "b4bdb340",
   "metadata": {
    "papermill": {
     "duration": 0.293045,
     "end_time": "2021-06-15T18:00:54.324885",
     "exception": false,
     "start_time": "2021-06-15T18:00:54.031840",
     "status": "completed"
    },
    "tags": []
   },
   "source": [
    "### Set Run Control\n",
    "\n",
    "##### 0 - lite run with no reporting, not recommended.\n",
    "##### 1 - lite run with normal reporting, default setting.\n",
    "##### 2 - Heavy run with full reporting, available for audits and troubleshooting."
   ]
  },
  {
   "cell_type": "code",
   "execution_count": 3,
   "id": "743411c9",
   "metadata": {
    "execution": {
     "iopub.execute_input": "2021-06-15T18:00:54.974419Z",
     "iopub.status.busy": "2021-06-15T18:00:54.969417Z",
     "iopub.status.idle": "2021-06-15T18:00:54.989419Z",
     "shell.execute_reply": "2021-06-15T18:00:54.986418Z"
    },
    "papermill": {
     "duration": 0.325014,
     "end_time": "2021-06-15T18:00:54.990415",
     "exception": false,
     "start_time": "2021-06-15T18:00:54.665401",
     "status": "completed"
    },
    "pycharm": {
     "name": "#%%\n"
    },
    "tags": []
   },
   "outputs": [],
   "source": [
    "run_control = 0  # in development mode"
   ]
  },
  {
   "cell_type": "code",
   "execution_count": 4,
   "id": "e8383466",
   "metadata": {
    "execution": {
     "iopub.execute_input": "2021-06-15T18:00:55.615474Z",
     "iopub.status.busy": "2021-06-15T18:00:55.612468Z",
     "iopub.status.idle": "2021-06-15T18:00:58.517831Z",
     "shell.execute_reply": "2021-06-15T18:00:58.517831Z"
    },
    "papermill": {
     "duration": 3.228396,
     "end_time": "2021-06-15T18:00:58.517831",
     "exception": false,
     "start_time": "2021-06-15T18:00:55.289435",
     "status": "completed"
    },
    "pycharm": {
     "name": "#%%\n"
    },
    "tags": []
   },
   "outputs": [],
   "source": [
    "#### Packages used\n",
    "import sys\n",
    "import os\n",
    "import pandas as pd\n",
    "from pandas import ExcelWriter\n",
    "from numpy import nan"
   ]
  },
  {
   "cell_type": "code",
   "execution_count": 5,
   "id": "7109374f",
   "metadata": {
    "execution": {
     "iopub.execute_input": "2021-06-15T18:00:59.134362Z",
     "iopub.status.busy": "2021-06-15T18:00:59.132361Z",
     "iopub.status.idle": "2021-06-15T18:00:59.140359Z",
     "shell.execute_reply": "2021-06-15T18:00:59.142358Z"
    },
    "papermill": {
     "duration": 0.32602,
     "end_time": "2021-06-15T18:00:59.142358",
     "exception": false,
     "start_time": "2021-06-15T18:00:58.816338",
     "status": "completed"
    },
    "pycharm": {
     "name": "#%%\n"
    },
    "tags": []
   },
   "outputs": [],
   "source": [
    "default_dc = \"2021.Q1\"\n",
    "\n",
    "try:\n",
    "    if sys.argv[1] == \"-f\":\n",
    "        percode = default_dc\n",
    "    else:\n",
    "        percode = sys.argv[1]\n",
    "\n",
    "except IndexError:\n",
    "    percode = default_dc\n",
    "except NameError:\n",
    "    percode = default_dc"
   ]
  },
  {
   "cell_type": "markdown",
   "id": "7595ebe0",
   "metadata": {
    "papermill": {
     "duration": 0.28028,
     "end_time": "2021-06-15T18:00:59.774666",
     "exception": false,
     "start_time": "2021-06-15T18:00:59.494386",
     "status": "completed"
    },
    "tags": []
   },
   "source": [
    "#### style settings"
   ]
  },
  {
   "cell_type": "code",
   "execution_count": 6,
   "id": "5019f0f9",
   "metadata": {
    "execution": {
     "iopub.execute_input": "2021-06-15T18:01:00.400998Z",
     "iopub.status.busy": "2021-06-15T18:01:00.394971Z",
     "iopub.status.idle": "2021-06-15T18:01:00.431129Z",
     "shell.execute_reply": "2021-06-15T18:01:00.434124Z"
    },
    "papermill": {
     "duration": 0.320188,
     "end_time": "2021-06-15T18:01:00.435133",
     "exception": false,
     "start_time": "2021-06-15T18:01:00.114945",
     "status": "completed"
    },
    "tags": []
   },
   "outputs": [],
   "source": [
    "from IPython.core.interactiveshell import InteractiveShell\n",
    "InteractiveShell.ast_node_interactivity = \"all\""
   ]
  },
  {
   "cell_type": "markdown",
   "id": "50cb8cef",
   "metadata": {
    "papermill": {
     "duration": 0.322018,
     "end_time": "2021-06-15T18:01:01.016120",
     "exception": false,
     "start_time": "2021-06-15T18:01:00.694102",
     "status": "completed"
    },
    "tags": []
   },
   "source": [
    "#### Convert paths and files to variables.\n",
    "#### Read data into pd DataFrames.\n",
    "#### Make paths for the live sources."
   ]
  },
  {
   "cell_type": "code",
   "execution_count": 7,
   "id": "996a16e7",
   "metadata": {
    "execution": {
     "iopub.execute_input": "2021-06-15T18:01:01.770167Z",
     "iopub.status.busy": "2021-06-15T18:01:01.758165Z",
     "iopub.status.idle": "2021-06-15T18:01:01.785169Z",
     "shell.execute_reply": "2021-06-15T18:01:01.789171Z"
    },
    "papermill": {
     "duration": 0.444029,
     "end_time": "2021-06-15T18:01:01.790173",
     "exception": false,
     "start_time": "2021-06-15T18:01:01.346144",
     "status": "completed"
    },
    "pycharm": {
     "name": "#%%\n"
    },
    "tags": []
   },
   "outputs": [],
   "source": [
    "rt_path = os.path.join( f'\\\\\\\\hecate\\\\Insurance_US\\\\Product Development\\\\Product Management\\\\Global PPM\\\\Reporting\\\\Data Collection\\\\Production',percode)\n",
    "\n",
    "infile = os.path.join(rt_path, f'{str(percode)}.parquet')\n",
    "gppm_file = os.path.join(rt_path, f'GPPM_Input_{str(percode)}.xlsx')\n",
    "atcat = os.path.join(rt_path, f'{percode}_Attribute_Catalog.xlsx')\n"
   ]
  },
  {
   "cell_type": "code",
   "execution_count": 8,
   "id": "526cf966",
   "metadata": {
    "execution": {
     "iopub.execute_input": "2021-06-15T18:01:02.360990Z",
     "iopub.status.busy": "2021-06-15T18:01:02.358995Z",
     "iopub.status.idle": "2021-06-15T18:01:02.363984Z",
     "shell.execute_reply": "2021-06-15T18:01:02.366022Z"
    },
    "papermill": {
     "duration": 0.279051,
     "end_time": "2021-06-15T18:01:02.366022",
     "exception": false,
     "start_time": "2021-06-15T18:01:02.086971",
     "status": "completed"
    },
    "tags": []
   },
   "outputs": [],
   "source": [
    "#### Read input file\n",
    "\n",
    "#### This reads the consolidated file that will be transformed or a stored dataframe based on the execution method."
   ]
  },
  {
   "cell_type": "code",
   "execution_count": 9,
   "id": "f5258f08",
   "metadata": {
    "execution": {
     "iopub.execute_input": "2021-06-15T18:01:03.170504Z",
     "iopub.status.busy": "2021-06-15T18:01:03.164504Z",
     "iopub.status.idle": "2021-06-15T18:01:03.314514Z",
     "shell.execute_reply": "2021-06-15T18:01:03.315518Z"
    },
    "papermill": {
     "duration": 0.455058,
     "end_time": "2021-06-15T18:01:03.316552",
     "exception": false,
     "start_time": "2021-06-15T18:01:02.861494",
     "status": "completed"
    },
    "pycharm": {
     "name": "#%%\n"
    },
    "tags": []
   },
   "outputs": [
    {
     "name": "stdout",
     "output_type": "stream",
     "text": [
      "                        Submission File Business Unit Country Currency  \\\n",
      "0      us_dat_at_+te_q1_2021_at.parquet            AT      AT      EUR   \n",
      "1      us_dat_at_+te_q1_2021_at.parquet            AT      AT      EUR   \n",
      "2      us_dat_at_+te_q1_2021_at.parquet            AT      AT      EUR   \n",
      "3      us_dat_at_+te_q1_2021_at.parquet            AT      AT      EUR   \n",
      "4      us_dat_at_+te_q1_2021_at.parquet            AT      AT      EUR   \n",
      "...                                 ...           ...     ...      ...   \n",
      "13822  us_dat_us_06022021145526.parquet            US      US      USD   \n",
      "13823  us_dat_us_06022021145526.parquet            US      US      USD   \n",
      "13824  us_dat_us_06022021145526.parquet            US      US      USD   \n",
      "13825  us_dat_us_06022021145526.parquet            US      US      USD   \n",
      "13826  us_dat_us_06022021145526.parquet            US      US      USD   \n",
      "\n",
      "                                Region Reporting Date From Reporting Date To  \\\n",
      "0      North, Central & Eastern Europe          2021-01-01        2021-03-31   \n",
      "1      North, Central & Eastern Europe          2021-01-01        2021-03-31   \n",
      "2      North, Central & Eastern Europe          2021-01-01        2021-03-31   \n",
      "3      North, Central & Eastern Europe          2021-01-01        2021-03-31   \n",
      "4      North, Central & Eastern Europe          2021-01-01        2021-03-31   \n",
      "...                                ...                 ...               ...   \n",
      "13822                    North America          2021-01-01        2021-03-31   \n",
      "13823                    North America          2021-01-01        2021-03-31   \n",
      "13824                    North America          2021-01-01        2021-03-31   \n",
      "13825                    North America          2021-01-01        2021-03-31   \n",
      "13826                    North America          2021-01-01        2021-03-31   \n",
      "\n",
      "      Date of Analysis Type of Analysis  Analysed Months  ...    comsub  \\\n",
      "0           2021-05-07     Year To Date              3.0  ...  0.000000   \n",
      "1           2021-05-07     Year To Date              3.0  ...  0.000000   \n",
      "2           2021-05-07     Year To Date              3.0  ...  0.000000   \n",
      "3           2021-05-07     Year To Date              3.0  ...  0.000000   \n",
      "4           2021-05-07     Year To Date              3.0  ...  0.000000   \n",
      "...                ...              ...              ...  ...       ...   \n",
      "13822       2021-04-30     Year To Date              3.0  ...  0.000000   \n",
      "13823       2021-04-30     Year To Date              3.0  ...  0.000000   \n",
      "13824       2021-04-30     Year To Date              3.0  ...  0.000000   \n",
      "13825       2021-04-30     Year To Date              3.0  ...  0.344545   \n",
      "13826       2021-04-30     Year To Date              3.0  ...  0.271429   \n",
      "\n",
      "         expsub  Reporting Date From INT Reporting Date To INT  \\\n",
      "0      0.000000                      NaN                   NaN   \n",
      "1      0.000000                      NaN                   NaN   \n",
      "2      0.000000                      NaN                   NaN   \n",
      "3      0.000000                      NaN                   NaN   \n",
      "4      0.000000                      NaN                   NaN   \n",
      "...         ...                      ...                   ...   \n",
      "13822  0.000000               20210101.0            20210331.0   \n",
      "13823  0.000000               20210101.0            20210331.0   \n",
      "13824  0.000000               20210101.0            20210331.0   \n",
      "13825  0.200909               20210101.0            20210331.0   \n",
      "13826  0.208571               20210101.0            20210331.0   \n",
      "\n",
      "      Date of Analysis INT                     Selected Fields for Duplicates  \\\n",
      "0                      NaN                                                NaN   \n",
      "1                      NaN                                                NaN   \n",
      "2                      NaN                                                NaN   \n",
      "3                      NaN                                                NaN   \n",
      "4                      NaN                                                NaN   \n",
      "...                    ...                                                ...   \n",
      "13822           20210430.0  USInsuranceLocalB2B2CTravelOffline Travel Agen...   \n",
      "13823           20210430.0  USInsuranceLocalB2B2CTravelOffline Travel Agen...   \n",
      "13824           20210430.0  USInsuranceLocalB2B2CTravelOffline Travel Agen...   \n",
      "13825           20210430.0  USInsuranceLocalB2B2CTravelOffline Travel Agen...   \n",
      "13826           20210430.0  USInsuranceLocalB2B2CTravelOffline Travel Agen...   \n",
      "\n",
      "      ibnrsub Identifier to pull in results from Data tab Unnamed: 67  \\\n",
      "0         NaN                                         NaN         NaN   \n",
      "1         NaN                                         NaN         NaN   \n",
      "2         NaN                                         NaN         NaN   \n",
      "3         NaN                                         NaN         NaN   \n",
      "4         NaN                                         NaN         NaN   \n",
      "...       ...                                         ...         ...   \n",
      "13822     0.0                           314666064x1004320         0.0   \n",
      "13823     0.0                           315460246x1005115         0.0   \n",
      "13824     0.0                           319820436x1003748         0.0   \n",
      "13825     1.0                           319820436x1004320         0.0   \n",
      "13826     1.0                           319820436x1004534         0.0   \n",
      "\n",
      "      Unnamed: 68  \n",
      "0             NaN  \n",
      "1             NaN  \n",
      "2             NaN  \n",
      "3             NaN  \n",
      "4             NaN  \n",
      "...           ...  \n",
      "13822         0.0  \n",
      "13823         0.0  \n",
      "13824         0.0  \n",
      "13825         0.0  \n",
      "13826         0.0  \n",
      "\n",
      "[13827 rows x 79 columns]\n"
     ]
    }
   ],
   "source": [
    "try:\n",
    "    %store -r read_dc_df\n",
    "    input = read_dc_df\n",
    "        \n",
    "except:\n",
    "    input = pd.read_parquet(infile,engine = \"pyarrow\")\n",
    "    os.remove(infile)\n",
    "\n",
    "print(input)"
   ]
  },
  {
   "cell_type": "markdown",
   "id": "7ac6c67a",
   "metadata": {
    "papermill": {
     "duration": 0.331008,
     "end_time": "2021-06-15T18:01:03.929548",
     "exception": false,
     "start_time": "2021-06-15T18:01:03.598540",
     "status": "completed"
    },
    "tags": []
   },
   "source": [
    "#### Make a copy for debug purposes"
   ]
  },
  {
   "cell_type": "code",
   "execution_count": 10,
   "id": "deae38a0",
   "metadata": {
    "execution": {
     "iopub.execute_input": "2021-06-15T18:01:04.528861Z",
     "iopub.status.busy": "2021-06-15T18:01:04.525910Z",
     "iopub.status.idle": "2021-06-15T18:01:04.546861Z",
     "shell.execute_reply": "2021-06-15T18:01:04.548860Z"
    },
    "papermill": {
     "duration": 0.35267,
     "end_time": "2021-06-15T18:01:04.548860",
     "exception": false,
     "start_time": "2021-06-15T18:01:04.196190",
     "status": "completed"
    },
    "pycharm": {
     "name": "#%%\n"
    },
    "tags": []
   },
   "outputs": [],
   "source": [
    "trandata = input.copy()"
   ]
  },
  {
   "cell_type": "markdown",
   "id": "23444b35",
   "metadata": {
    "papermill": {
     "duration": 0.328021,
     "end_time": "2021-06-15T18:01:05.126142",
     "exception": false,
     "start_time": "2021-06-15T18:01:04.798121",
     "status": "completed"
    },
    "tags": []
   },
   "source": [
    "#### Format Headers"
   ]
  },
  {
   "cell_type": "code",
   "execution_count": 11,
   "id": "f93945ee",
   "metadata": {
    "execution": {
     "iopub.execute_input": "2021-06-15T18:01:05.799183Z",
     "iopub.status.busy": "2021-06-15T18:01:05.792186Z",
     "iopub.status.idle": "2021-06-15T18:01:05.850190Z",
     "shell.execute_reply": "2021-06-15T18:01:05.852187Z"
    },
    "papermill": {
     "duration": 0.373021,
     "end_time": "2021-06-15T18:01:05.853190",
     "exception": false,
     "start_time": "2021-06-15T18:01:05.480169",
     "status": "completed"
    },
    "pycharm": {
     "name": "#%%\n"
    },
    "tags": []
   },
   "outputs": [
    {
     "data": {
      "text/plain": [
       "'format headers'"
      ]
     },
     "execution_count": 11,
     "metadata": {},
     "output_type": "execute_result"
    }
   ],
   "source": [
    "# save the column names to variable, format them, replace headers\n",
    "cols = trandata.columns.values\n",
    "\n",
    "\"\"\"format headers\"\"\"\n",
    "fixedcols = []\n",
    "\n",
    "for f in cols:\n",
    "    fixedhead = f.replace(' ', '_').lower()\n",
    "    fixedcols.append(fixedhead)\n",
    "\n",
    "trandata.columns = fixedcols"
   ]
  },
  {
   "cell_type": "markdown",
   "id": "2b36a91f",
   "metadata": {
    "papermill": {
     "duration": 0.250257,
     "end_time": "2021-06-15T18:01:06.413686",
     "exception": false,
     "start_time": "2021-06-15T18:01:06.163429",
     "status": "completed"
    },
    "pycharm": {
     "name": "#%% md\n"
    },
    "tags": []
   },
   "source": [
    "#### Update Verification 1"
   ]
  },
  {
   "cell_type": "code",
   "execution_count": 12,
   "id": "f52c6153",
   "metadata": {
    "execution": {
     "iopub.execute_input": "2021-06-15T18:01:07.065496Z",
     "iopub.status.busy": "2021-06-15T18:01:07.056501Z",
     "iopub.status.idle": "2021-06-15T18:01:07.252514Z",
     "shell.execute_reply": "2021-06-15T18:01:07.252514Z"
    },
    "papermill": {
     "duration": 0.480039,
     "end_time": "2021-06-15T18:01:07.253515",
     "exception": false,
     "start_time": "2021-06-15T18:01:06.773476",
     "status": "completed"
    },
    "pycharm": {
     "name": "#%%\n"
    },
    "tags": []
   },
   "outputs": [
    {
     "name": "stdout",
     "output_type": "stream",
     "text": [
      "|    | Original                                                        | Transformed                                                     |\n",
      "|---:|:----------------------------------------------------------------|:----------------------------------------------------------------|\n",
      "|  0 | Submission File                                                 | submission_file                                                 |\n",
      "|  1 | Business Unit                                                   | business_unit                                                   |\n",
      "|  2 | Country                                                         | country                                                         |\n",
      "|  3 | Currency                                                        | currency                                                        |\n",
      "|  4 | Region                                                          | region                                                          |\n",
      "|  5 | Reporting Date From                                             | reporting_date_from                                             |\n",
      "|  6 | Reporting Date To                                               | reporting_date_to                                               |\n",
      "|  7 | Date of Analysis                                                | date_of_analysis                                                |\n",
      "|  8 | Type of Analysis                                                | type_of_analysis                                                |\n",
      "|  9 | Analysed Months                                                 | analysed_months                                                 |\n",
      "| 10 | Reporting Year                                                  | reporting_year                                                  |\n",
      "| 11 | Reporting Quarter                                               | reporting_quarter                                               |\n",
      "| 12 | Reporting Month                                                 | reporting_month                                                 |\n",
      "| 13 | Type of Business                                                | type_of_business                                                |\n",
      "| 14 | Type of Account                                                 | type_of_account                                                 |\n",
      "| 15 | Distribution Type                                               | distribution_type                                               |\n",
      "| 16 | LOB                                                             | lob                                                             |\n",
      "| 17 | Distribution Channel                                            | distribution_channel                                            |\n",
      "| 18 | Sub LOB                                                         | sub_lob                                                         |\n",
      "| 19 | Business Partner Name                                           | business_partner_name                                           |\n",
      "| 20 | Business Partner ID Number                                      | business_partner_id_number                                      |\n",
      "| 21 | Product Name                                                    | product_name                                                    |\n",
      "| 22 | Product ID Number                                               | product_id_number                                               |\n",
      "| 23 | Product Family                                                  | product_family                                                  |\n",
      "| 24 | Standard Product                                                | standard_product                                                |\n",
      "| 25 | Number of Products per Row                                      | number_of_products_per_row                                      |\n",
      "| 26 | Number of B-Partners per Row                                    | number_of_b-partners_per_row                                    |\n",
      "| 27 | Number of Policies (Written)                                    | number_of_policies_(written)                                    |\n",
      "| 28 | Units of Risk (Written)                                         | units_of_risk_(written)                                         |\n",
      "| 29 | Written Revenues net of Taxes                                   | written_revenues_net_of_taxes                                   |\n",
      "| 30 | Written Revenues                                                | written_revenues                                                |\n",
      "| 31 | Number of Policies (Earned)                                     | number_of_policies_(earned)                                     |\n",
      "| 32 | Units of Risk (Earned)                                          | units_of_risk_(earned)                                          |\n",
      "| 33 | Earned Revenues net of Taxes                                    | earned_revenues_net_of_taxes                                    |\n",
      "| 34 | Earned Revenues                                                 | earned_revenues                                                 |\n",
      "| 35 | Earned Base Commissions                                         | earned_base_commissions                                         |\n",
      "| 36 | Earned Over-Commissions                                         | earned_over-commissions                                         |\n",
      "| 37 | Upfront Cash Payments                                           | upfront_cash_payments                                           |\n",
      "| 38 | Total Compensation                                              | total_compensation                                              |\n",
      "| 39 | Number of Claims (Paid + OCR + IBNR)                            | number_of_claims_(paid_+_ocr_+_ibnr)                            |\n",
      "| 40 | Number of Open Claims                                           | number_of_open_claims                                           |\n",
      "| 41 | Open Claims %                                                   | open_claims_%                                                   |\n",
      "| 42 | Number of Persons Involved in Claims (Paid + OCR + IBNR)        | number_of_persons_involved_in_claims_(paid_+_ocr_+_ibnr)        |\n",
      "| 43 | Paid Claims                                                     | paid_claims                                                     |\n",
      "| 44 | OCR + IBNR                                                      | ocr_+_ibnr                                                      |\n",
      "| 45 | % of IBNR on (OCR + IBNR)                                       | %_of_ibnr_on_(ocr_+_ibnr)                                       |\n",
      "| 46 | Actual Incurred Losses (Paid + OCR + IBNR)                      | actual_incurred_losses_(paid_+_ocr_+_ibnr)                      |\n",
      "| 47 | Internal Variable Costs (excl. AZ Tech Fee)                     | internal_variable_costs_(excl._az_tech_fee)                     |\n",
      "| 48 | AZ Tech Fee                                                     | az_tech_fee                                                     |\n",
      "| 49 | Internal Fixed Costs (excl. HQ Fees)                            | internal_fixed_costs_(excl._hq_fees)                            |\n",
      "| 50 | HQ Fees                                                         | hq_fees                                                         |\n",
      "| 51 | Total Expenses                                                  | total_expenses                                                  |\n",
      "| 52 | Frequency (Earned)                                              | frequency_(earned)                                              |\n",
      "| 53 | Severity                                                        | severity                                                        |\n",
      "| 54 | Risk Premium                                                    | risk_premium                                                    |\n",
      "| 55 | Contribution Margin - BU View                                   | contribution_margin_-_bu_view                                   |\n",
      "| 56 | Contribution Margin % on Fixed Costs - BU View                  | contribution_margin_%_on_fixed_costs_-_bu_view                  |\n",
      "| 57 | Contribution Margin % on Earned Revenues net of Taxes - BU View | contribution_margin_%_on_earned_revenues_net_of_taxes_-_bu_view |\n",
      "| 58 | Contribution Margin - HQ View                                   | contribution_margin_-_hq_view                                   |\n",
      "| 59 | Contribution Margin % on Fixed Costs - HQ View                  | contribution_margin_%_on_fixed_costs_-_hq_view                  |\n",
      "| 60 | Contribution Margin % on Earned Revenues net of Taxes - HQ View | contribution_margin_%_on_earned_revenues_net_of_taxes_-_hq_view |\n",
      "| 61 | Loss Ratio                                                      | loss_ratio                                                      |\n",
      "| 62 | Commission Ratio                                                | commission_ratio                                                |\n",
      "| 63 | Expense Ratio                                                   | expense_ratio                                                   |\n",
      "| 64 | Combined Ratio                                                  | combined_ratio                                                  |\n",
      "| 65 | Profit or Loss                                                  | profit_or_loss                                                  |\n",
      "| 66 | Notes                                                           | notes                                                           |\n",
      "| 67 | Unnamed: 66                                                     | unnamed:_66                                                     |\n",
      "| 68 | concat2                                                         | concat2                                                         |\n",
      "| 69 | comsub                                                          | comsub                                                          |\n",
      "| 70 | expsub                                                          | expsub                                                          |\n",
      "| 71 | Reporting Date From INT                                         | reporting_date_from_int                                         |\n",
      "| 72 | Reporting Date To INT                                           | reporting_date_to_int                                           |\n",
      "| 73 | Date of Analysis INT                                            | date_of_analysis_int                                            |\n",
      "| 74 | Selected Fields for Duplicates                                  | selected_fields_for_duplicates                                  |\n",
      "| 75 | ibnrsub                                                         | ibnrsub                                                         |\n",
      "| 76 | Identifier to pull in results from Data tab                     | identifier_to_pull_in_results_from_data_tab                     |\n",
      "| 77 | Unnamed: 67                                                     | unnamed:_67                                                     |\n",
      "| 78 | Unnamed: 68                                                     | unnamed:_68                                                     |\n"
     ]
    }
   ],
   "source": [
    "if run_control > -10:\n",
    "    disp = {\"Original\": input.columns, \"Transformed\": trandata.columns}\n",
    "\n",
    "    disp = pd.DataFrame(disp)\n",
    "\n",
    "    print(disp.to_markdown())\n",
    "else:\n",
    "    print(\"Skipped Transformation Report 1\")"
   ]
  },
  {
   "cell_type": "markdown",
   "id": "cc1f1d76",
   "metadata": {
    "papermill": {
     "duration": 0.319033,
     "end_time": "2021-06-15T18:01:07.845217",
     "exception": false,
     "start_time": "2021-06-15T18:01:07.526184",
     "status": "completed"
    },
    "tags": []
   },
   "source": [
    "#### Remove rows with null business units\n"
   ]
  },
  {
   "cell_type": "code",
   "execution_count": 13,
   "id": "ebd60f08",
   "metadata": {
    "execution": {
     "iopub.execute_input": "2021-06-15T18:01:08.517420Z",
     "iopub.status.busy": "2021-06-15T18:01:08.513428Z",
     "iopub.status.idle": "2021-06-15T18:01:08.573407Z",
     "shell.execute_reply": "2021-06-15T18:01:08.574435Z"
    },
    "papermill": {
     "duration": 0.395057,
     "end_time": "2021-06-15T18:01:08.575403",
     "exception": false,
     "start_time": "2021-06-15T18:01:08.180346",
     "status": "completed"
    },
    "pycharm": {
     "name": "#%%\n"
    },
    "tags": []
   },
   "outputs": [],
   "source": [
    "# todo, remove this from read file\n",
    "trandata = trandata[trandata.business_unit.notnull()]"
   ]
  },
  {
   "cell_type": "markdown",
   "id": "1683c242",
   "metadata": {
    "papermill": {
     "duration": 0.689048,
     "end_time": "2021-06-15T18:01:09.582217",
     "exception": false,
     "start_time": "2021-06-15T18:01:08.893169",
     "status": "completed"
    },
    "tags": []
   },
   "source": [
    "#### Update Verification 2"
   ]
  },
  {
   "cell_type": "code",
   "execution_count": 14,
   "id": "715f8795",
   "metadata": {
    "execution": {
     "iopub.execute_input": "2021-06-15T18:01:10.904562Z",
     "iopub.status.busy": "2021-06-15T18:01:10.899564Z",
     "iopub.status.idle": "2021-06-15T18:01:11.103570Z",
     "shell.execute_reply": "2021-06-15T18:01:11.104571Z"
    },
    "papermill": {
     "duration": 0.86666,
     "end_time": "2021-06-15T18:01:11.105569",
     "exception": false,
     "start_time": "2021-06-15T18:01:10.238909",
     "status": "completed"
    },
    "pycharm": {
     "name": "#%%\n"
    },
    "tags": []
   },
   "outputs": [
    {
     "name": "stdout",
     "output_type": "stream",
     "text": [
      "Row Counts\n",
      "|    | Business Unit   |   Original |   Transformed |\n",
      "|---:|:----------------|-----------:|--------------:|\n",
      "|  0 | AT              |        222 |           222 |\n",
      "|  1 | AU              |         53 |            53 |\n",
      "|  2 | CA              |         17 |            17 |\n",
      "|  3 | CH              |       3172 |          3172 |\n",
      "|  4 | CZ              |          7 |             7 |\n",
      "|  5 | DE              |         73 |            73 |\n",
      "|  6 | ES              |         28 |            28 |\n",
      "|  7 | GR              |         15 |            15 |\n",
      "|  8 | IE              |         14 |            14 |\n",
      "|  9 | IT              |        100 |           100 |\n",
      "| 10 | NL              |        151 |           151 |\n",
      "| 11 | PL              |         27 |            27 |\n",
      "| 12 | PT              |         40 |            40 |\n",
      "| 13 | US              |       9908 |          9908 |\n"
     ]
    }
   ],
   "source": [
    "if run_control > -10:\n",
    "\n",
    "    ibus = input.groupby(['Business Unit']).count()\n",
    "    ibus = ibus.reset_index()\n",
    "    tbus = trandata.groupby(['business_unit']).count()\n",
    "    tbus = tbus.reset_index()\n",
    "\n",
    "    compdata = pd.merge(ibus, tbus, left_on='Business Unit', right_on='business_unit', how='left')\n",
    "\n",
    "    disp = {\"Business Unit\": compdata['Business Unit'], \"Original\": compdata['Earned Revenues net of Taxes'],\n",
    "            \"Transformed\": compdata['earned_revenues_net_of_taxes']}\n",
    "\n",
    "    disp = pd.DataFrame(disp)\n",
    "\n",
    "    print(\"Row Counts\")\n",
    "    print(disp.to_markdown())\n",
    "    \n",
    "else:\n",
    "    \n",
    "    print(\"Skipped Transformation Report 2\")\n"
   ]
  },
  {
   "cell_type": "markdown",
   "id": "a39588e1",
   "metadata": {
    "papermill": {
     "duration": 0.435368,
     "end_time": "2021-06-15T18:01:12.152977",
     "exception": false,
     "start_time": "2021-06-15T18:01:11.717609",
     "status": "completed"
    },
    "tags": []
   },
   "source": [
    "#### Swap  nulls for \"Not Provided\" in 'Sub Lob' and 'Distribution Channel'"
   ]
  },
  {
   "cell_type": "code",
   "execution_count": 15,
   "id": "5dc0a962",
   "metadata": {
    "execution": {
     "iopub.execute_input": "2021-06-15T18:01:12.787865Z",
     "iopub.status.busy": "2021-06-15T18:01:12.775864Z",
     "iopub.status.idle": "2021-06-15T18:01:12.833869Z",
     "shell.execute_reply": "2021-06-15T18:01:12.833869Z"
    },
    "papermill": {
     "duration": 0.373527,
     "end_time": "2021-06-15T18:01:12.834869",
     "exception": false,
     "start_time": "2021-06-15T18:01:12.461342",
     "status": "completed"
    },
    "pycharm": {
     "name": "#%%\n"
    },
    "tags": []
   },
   "outputs": [
    {
     "data": {
      "text/plain": [
       "array(['0.0', '', '0', 'Travel Medical Multi Trip (Annual Insurance)',\n",
       "       'Collision Damage Waiver (CDW)', 'Corporate Travel',\n",
       "       'Event Ticket Cancellation', 'Other',\n",
       "       'Standalone Cancellation - Single Trip',\n",
       "       'TPA/Claims Handling / Service Only Products',\n",
       "       'Travel Medical Short Term - Single Trip',\n",
       "       'Travel Package w/o Cancellation Short Term Single Trip',\n",
       "       'Travel Package with Cancellation Multi Trip (Annual Insurance)',\n",
       "       'Travel Package with Cancellation Short Term Single Trip',\n",
       "       'Travel Package w/o Cancellation Multi Trip (Annual Insurance)',\n",
       "       'Travel Medical Long term - Single Trip', 'Multiple',\n",
       "       'Not Provided',\n",
       "       'Travel Medical Short Term - Single Trip, Travel Package with Cancellation Short Term Single Trip',\n",
       "       'Standalone Cancellation - Single Trip, Travel Package w/o Cancellation Short Term Single Trip, Travel Package with Cancellation Short Term Single Trip',\n",
       "       'Standalone Cancellation - Single Trip, Travel Package with Cancellation Short Term Single Trip',\n",
       "       'Travel Package with Cancellation Short Term Single Trip, Travel Package w/o Cancellation Short Term Single Trip',\n",
       "       'Standalone Cancellation - Single Trip, Travel Package w/o Cancellation Multi Trip (Annual Insurance), Travel Package w/o Cancellation Short Term Single Trip, Travel Package with Cancellation Short Term Single Trip',\n",
       "       'Travel Package w/o Cancellation Short Term Single Trip, Travel Package with Cancellation Short Term Single Trip',\n",
       "       'Collision Damage Waiver (CDW), Standalone Cancellation - Single Trip, Travel Package w/o Cancellation Multi Trip (Annual Insurance), Travel Package w/o Cancellation Short Term Single Trip, Travel Package with Cancellation Short Term Single Trip',\n",
       "       'Travel Package with Cancellation Short Term Single Trip, Travel Package w/o Cancellation Short Term Single Trip, Standalone Cancellation - Single Trip',\n",
       "       'Travel Package with Cancellation Short Term Single Trip, Travel Package with Cancellation Short Term Single Trip, Travel Package w/o Cancellation Short Term Single Trip, Standalone Cancellation - Single Trip',\n",
       "       'Travel Package with Cancellation Short Term Single Trip, Standalone Cancellation - Single Trip',\n",
       "       'Expatriates',\n",
       "       'Travel Package with Cancellation Short Term Single Trip, Travel Package w/o Cancellation Short Term Single Trip, Travel Medical Short Term - Single Trip',\n",
       "       'Travel Package w/o Cancellation Short Term Single Trip, Standalone Cancellation - Single Trip, Travel Medical Short Term - Single Trip',\n",
       "       'Travel Package w/o Cancellation Short Term Single Trip, Standalone Cancellation - Single Trip',\n",
       "       'Travel Package with Cancellation Short Term Single Trip, Travel Medical Short Term - Single Trip',\n",
       "       'Travel Package with Cancellation Short Term Single Trip, Travel Package w/o Cancellation Short Term Single Trip, Standalone Cancellation - Single Trip, Travel Medical Short Term - Single Trip',\n",
       "       'Travel Package w/o Cancellation Long Term Single Trip',\n",
       "       'Standalone Cancellation - Multi-Trip', 'Tuition'], dtype=object)"
      ]
     },
     "execution_count": 15,
     "metadata": {},
     "output_type": "execute_result"
    },
    {
     "data": {
      "text/plain": [
       "array(['Not Available', 'Travel Medical Multi Trip (Annual Insurance)',\n",
       "       'Collision Damage Waiver (CDW)', 'Corporate Travel',\n",
       "       'Event Ticket Cancellation', 'Other',\n",
       "       'Standalone Cancellation - Single Trip',\n",
       "       'TPA/Claims Handling / Service Only Products',\n",
       "       'Travel Medical Short Term - Single Trip',\n",
       "       'Travel Package w/o Cancellation Short Term Single Trip',\n",
       "       'Travel Package with Cancellation Multi Trip (Annual Insurance)',\n",
       "       'Travel Package with Cancellation Short Term Single Trip',\n",
       "       'Travel Package w/o Cancellation Multi Trip (Annual Insurance)',\n",
       "       'Travel Medical Long term - Single Trip', 'Multiple',\n",
       "       'Not Provided',\n",
       "       'Travel Medical Short Term - Single Trip, Travel Package with Cancellation Short Term Single Trip',\n",
       "       'Standalone Cancellation - Single Trip, Travel Package w/o Cancellation Short Term Single Trip, Travel Package with Cancellation Short Term Single Trip',\n",
       "       'Standalone Cancellation - Single Trip, Travel Package with Cancellation Short Term Single Trip',\n",
       "       'Travel Package with Cancellation Short Term Single Trip, Travel Package w/o Cancellation Short Term Single Trip',\n",
       "       'Standalone Cancellation - Single Trip, Travel Package w/o Cancellation Multi Trip (Annual Insurance), Travel Package w/o Cancellation Short Term Single Trip, Travel Package with Cancellation Short Term Single Trip',\n",
       "       'Travel Package w/o Cancellation Short Term Single Trip, Travel Package with Cancellation Short Term Single Trip',\n",
       "       'Collision Damage Waiver (CDW), Standalone Cancellation - Single Trip, Travel Package w/o Cancellation Multi Trip (Annual Insurance), Travel Package w/o Cancellation Short Term Single Trip, Travel Package with Cancellation Short Term Single Trip',\n",
       "       'Travel Package with Cancellation Short Term Single Trip, Travel Package w/o Cancellation Short Term Single Trip, Standalone Cancellation - Single Trip',\n",
       "       'Travel Package with Cancellation Short Term Single Trip, Travel Package with Cancellation Short Term Single Trip, Travel Package w/o Cancellation Short Term Single Trip, Standalone Cancellation - Single Trip',\n",
       "       'Travel Package with Cancellation Short Term Single Trip, Standalone Cancellation - Single Trip',\n",
       "       'Expatriates',\n",
       "       'Travel Package with Cancellation Short Term Single Trip, Travel Package w/o Cancellation Short Term Single Trip, Travel Medical Short Term - Single Trip',\n",
       "       'Travel Package w/o Cancellation Short Term Single Trip, Standalone Cancellation - Single Trip, Travel Medical Short Term - Single Trip',\n",
       "       'Travel Package w/o Cancellation Short Term Single Trip, Standalone Cancellation - Single Trip',\n",
       "       'Travel Package with Cancellation Short Term Single Trip, Travel Medical Short Term - Single Trip',\n",
       "       'Travel Package with Cancellation Short Term Single Trip, Travel Package w/o Cancellation Short Term Single Trip, Standalone Cancellation - Single Trip, Travel Medical Short Term - Single Trip',\n",
       "       'Travel Package w/o Cancellation Long Term Single Trip',\n",
       "       'Standalone Cancellation - Multi-Trip', 'Tuition'], dtype=object)"
      ]
     },
     "execution_count": 15,
     "metadata": {},
     "output_type": "execute_result"
    }
   ],
   "source": [
    "mults = trandata['sub_lob'][trandata.sub_lob.replace(nan, 'Not Available').str.contains(',', case=False)]\n",
    "mults = mults.unique()\n",
    "\n",
    "trandata['sub_lob'].unique()\n",
    "trandata['sub_lob'] = trandata['sub_lob'].fillna('Not Available')\n",
    "trandata['sub_lob'] = trandata['sub_lob'].replace('', 'Not Available')\n",
    "trandata['sub_lob'] = trandata['sub_lob'].replace('0', 'Not Available')\n",
    "trandata['sub_lob'] = trandata['sub_lob'].replace('0.0', 'Not Available')\n",
    "trandata['distribution_channel'] = trandata['distribution_channel'].replace('', 'Not Available').fillna('Not Available')\n",
    "\n",
    "trandata['sub_lob'].unique()\n"
   ]
  },
  {
   "cell_type": "markdown",
   "id": "c11741d7",
   "metadata": {
    "papermill": {
     "duration": 0.282025,
     "end_time": "2021-06-15T18:01:13.441912",
     "exception": false,
     "start_time": "2021-06-15T18:01:13.159887",
     "status": "completed"
    },
    "tags": []
   },
   "source": [
    "#### Replace multiple entries in \"Sub Lob\" to \"Multiple\""
   ]
  },
  {
   "cell_type": "code",
   "execution_count": 16,
   "id": "72f2eac4",
   "metadata": {
    "execution": {
     "iopub.execute_input": "2021-06-15T18:01:14.174076Z",
     "iopub.status.busy": "2021-06-15T18:01:14.153079Z",
     "iopub.status.idle": "2021-06-15T18:01:14.203076Z",
     "shell.execute_reply": "2021-06-15T18:01:14.205073Z"
    },
    "papermill": {
     "duration": 0.382501,
     "end_time": "2021-06-15T18:01:14.205073",
     "exception": false,
     "start_time": "2021-06-15T18:01:13.822572",
     "status": "completed"
    },
    "pycharm": {
     "name": "#%%\n"
    },
    "tags": []
   },
   "outputs": [],
   "source": [
    "for i in mults:\n",
    "    trandata['sub_lob'] = trandata['sub_lob'].replace(i, 'Multiple')\n",
    "\n",
    "# todo automate figuring out which fields fx rates should be applied to somehow"
   ]
  },
  {
   "cell_type": "markdown",
   "id": "74ca0647",
   "metadata": {
    "papermill": {
     "duration": 0.342642,
     "end_time": "2021-06-15T18:01:14.834176",
     "exception": false,
     "start_time": "2021-06-15T18:01:14.491534",
     "status": "completed"
    },
    "tags": []
   },
   "source": [
    "#### Update Verification 3"
   ]
  },
  {
   "cell_type": "code",
   "execution_count": 17,
   "id": "b2749689",
   "metadata": {
    "execution": {
     "iopub.execute_input": "2021-06-15T18:01:15.515216Z",
     "iopub.status.busy": "2021-06-15T18:01:15.504218Z",
     "iopub.status.idle": "2021-06-15T18:01:15.819233Z",
     "shell.execute_reply": "2021-06-15T18:01:15.820236Z"
    },
    "papermill": {
     "duration": 0.688047,
     "end_time": "2021-06-15T18:01:15.821240",
     "exception": false,
     "start_time": "2021-06-15T18:01:15.133193",
     "status": "completed"
    },
    "pycharm": {
     "name": "#%%\n"
    },
    "tags": []
   },
   "outputs": [],
   "source": [
    "if run_control > -10:\n",
    "\n",
    "    ibus = input.groupby(['Sub LOB']).sum()\n",
    "    ibus = ibus.reset_index()\n",
    "    tbus = trandata.groupby(['sub_lob']).sum()\n",
    "    tbus = tbus.reset_index()\n",
    "\n",
    "    compdatasublob = pd.merge(ibus, tbus, left_on='Sub LOB', right_on='sub_lob', how='outer')\n",
    "\n",
    "    disp1 = pd.DataFrame(\n",
    "        {'Original Sub LOB': compdatasublob['Sub LOB'], 'Transformed Sub LOB': compdatasublob['sub_lob'],\n",
    "         \"Original\": compdatasublob['Earned Revenues net of Taxes'] / 1000,\n",
    "         \"Transformed\": compdatasublob['earned_revenues_net_of_taxes'] / 1000})\n",
    "\n",
    "\n",
    "\n",
    "    tots1 = pd.DataFrame({'Original Total': (input['Earned Revenues net of Taxes']).sum() / 10000,\n",
    "                          \"Transformed Total\": (compdatasublob['earned_revenues_net_of_taxes']).sum() / 10000},\n",
    "                         index=[0])\n",
    "else:\n",
    "    print(\"Skipped Transformation Report 2\")"
   ]
  },
  {
   "cell_type": "markdown",
   "id": "17a22fce",
   "metadata": {
    "papermill": {
     "duration": 0.298019,
     "end_time": "2021-06-15T18:01:16.396754",
     "exception": false,
     "start_time": "2021-06-15T18:01:16.098735",
     "status": "completed"
    },
    "tags": []
   },
   "source": [
    "#### Make cflds, a list of currency fields, force to float, coercion is null or string to 0"
   ]
  },
  {
   "cell_type": "code",
   "execution_count": 18,
   "id": "b2649e9a",
   "metadata": {
    "execution": {
     "iopub.execute_input": "2021-06-15T18:01:17.013542Z",
     "iopub.status.busy": "2021-06-15T18:01:17.011545Z",
     "iopub.status.idle": "2021-06-15T18:01:17.161553Z",
     "shell.execute_reply": "2021-06-15T18:01:17.162553Z"
    },
    "papermill": {
     "duration": 0.469494,
     "end_time": "2021-06-15T18:01:17.162553",
     "exception": false,
     "start_time": "2021-06-15T18:01:16.693059",
     "status": "completed"
    },
    "pycharm": {
     "name": "#%%\n"
    },
    "tags": []
   },
   "outputs": [
    {
     "data": {
      "text/plain": [
       "0            0.00\n",
       "1            0.00\n",
       "2            0.00\n",
       "3        31328.10\n",
       "4          887.19\n",
       "           ...   \n",
       "13822     3749.00\n",
       "13823      142.00\n",
       "13824      474.00\n",
       "13825        0.00\n",
       "13826      265.00\n",
       "Name: written_revenues_net_of_taxes, Length: 13827, dtype: float64"
      ]
     },
     "execution_count": 18,
     "metadata": {},
     "output_type": "execute_result"
    },
    {
     "data": {
      "text/plain": [
       "0            0.00\n",
       "1            0.00\n",
       "2            0.00\n",
       "3        34776.00\n",
       "4          998.08\n",
       "           ...   \n",
       "13822     3749.00\n",
       "13823      142.00\n",
       "13824      474.00\n",
       "13825        0.00\n",
       "13826      265.00\n",
       "Name: written_revenues, Length: 13827, dtype: float64"
      ]
     },
     "execution_count": 18,
     "metadata": {},
     "output_type": "execute_result"
    },
    {
     "data": {
      "text/plain": [
       "0            0.00\n",
       "1            0.00\n",
       "2            0.00\n",
       "3        31328.10\n",
       "4          887.19\n",
       "           ...   \n",
       "13822        0.00\n",
       "13823        0.00\n",
       "13824        0.00\n",
       "13825       11.00\n",
       "13826        7.00\n",
       "Name: earned_revenues_net_of_taxes, Length: 13827, dtype: float64"
      ]
     },
     "execution_count": 18,
     "metadata": {},
     "output_type": "execute_result"
    },
    {
     "data": {
      "text/plain": [
       "0            0.00\n",
       "1            0.00\n",
       "2            0.00\n",
       "3        34776.00\n",
       "4          998.08\n",
       "           ...   \n",
       "13822        0.00\n",
       "13823        0.00\n",
       "13824        0.00\n",
       "13825       11.00\n",
       "13826        7.00\n",
       "Name: earned_revenues, Length: 13827, dtype: float64"
      ]
     },
     "execution_count": 18,
     "metadata": {},
     "output_type": "execute_result"
    },
    {
     "data": {
      "text/plain": [
       "0           0.00\n",
       "1           0.00\n",
       "2           0.00\n",
       "3        4391.77\n",
       "4         406.87\n",
       "          ...   \n",
       "13822       0.00\n",
       "13823       0.00\n",
       "13824       0.00\n",
       "13825       3.14\n",
       "13826       1.47\n",
       "Name: earned_base_commissions, Length: 13827, dtype: float64"
      ]
     },
     "execution_count": 18,
     "metadata": {},
     "output_type": "execute_result"
    },
    {
     "data": {
      "text/plain": [
       "0        0.00\n",
       "1        0.00\n",
       "2        0.00\n",
       "3        0.00\n",
       "4        0.00\n",
       "         ... \n",
       "13822    0.00\n",
       "13823    0.00\n",
       "13824    0.00\n",
       "13825    0.65\n",
       "13826    0.43\n",
       "Name: earned_over-commissions, Length: 13827, dtype: float64"
      ]
     },
     "execution_count": 18,
     "metadata": {},
     "output_type": "execute_result"
    },
    {
     "data": {
      "text/plain": [
       "0        0.0\n",
       "1        0.0\n",
       "2        0.0\n",
       "3        0.0\n",
       "4        0.0\n",
       "        ... \n",
       "13822    0.0\n",
       "13823    0.0\n",
       "13824    0.0\n",
       "13825    0.0\n",
       "13826    0.0\n",
       "Name: upfront_cash_payments, Length: 13827, dtype: float64"
      ]
     },
     "execution_count": 18,
     "metadata": {},
     "output_type": "execute_result"
    },
    {
     "data": {
      "text/plain": [
       "0           0.00\n",
       "1           0.00\n",
       "2           0.00\n",
       "3        4391.77\n",
       "4         406.87\n",
       "          ...   \n",
       "13822       0.00\n",
       "13823       0.00\n",
       "13824       0.00\n",
       "13825       3.79\n",
       "13826       1.90\n",
       "Name: total_compensation, Length: 13827, dtype: float64"
      ]
     },
     "execution_count": 18,
     "metadata": {},
     "output_type": "execute_result"
    },
    {
     "data": {
      "text/plain": [
       "0        3028.6\n",
       "1           0.0\n",
       "2           0.0\n",
       "3         798.0\n",
       "4         400.0\n",
       "          ...  \n",
       "13822       0.0\n",
       "13823       0.0\n",
       "13824       0.0\n",
       "13825       0.0\n",
       "13826       0.0\n",
       "Name: paid_claims, Length: 13827, dtype: float64"
      ]
     },
     "execution_count": 18,
     "metadata": {},
     "output_type": "execute_result"
    },
    {
     "data": {
      "text/plain": [
       "0       -52275.64\n",
       "1         -100.00\n",
       "2        -1100.00\n",
       "3         1142.94\n",
       "4        -1084.00\n",
       "           ...   \n",
       "13822        0.00\n",
       "13823        0.00\n",
       "13824        0.00\n",
       "13825        0.12\n",
       "13826        0.08\n",
       "Name: ocr_+_ibnr, Length: 13827, dtype: float64"
      ]
     },
     "execution_count": 18,
     "metadata": {},
     "output_type": "execute_result"
    },
    {
     "data": {
      "text/plain": [
       "0       -49247.04\n",
       "1         -100.00\n",
       "2        -1100.00\n",
       "3         1940.94\n",
       "4         -684.00\n",
       "           ...   \n",
       "13822        0.00\n",
       "13823        0.00\n",
       "13824        0.00\n",
       "13825        0.12\n",
       "13826        0.08\n",
       "Name: actual_incurred_losses_(paid_+_ocr_+_ibnr), Length: 13827, dtype: float64"
      ]
     },
     "execution_count": 18,
     "metadata": {},
     "output_type": "execute_result"
    },
    {
     "data": {
      "text/plain": [
       "0           0.000000\n",
       "1           0.000000\n",
       "2           0.000000\n",
       "3        2229.996814\n",
       "4          63.151959\n",
       "            ...     \n",
       "13822       0.000000\n",
       "13823       0.000000\n",
       "13824       0.000000\n",
       "13825       0.720000\n",
       "13826       0.480000\n",
       "Name: internal_variable_costs_(excl._az_tech_fee), Length: 13827, dtype: float64"
      ]
     },
     "execution_count": 18,
     "metadata": {},
     "output_type": "execute_result"
    },
    {
     "data": {
      "text/plain": [
       "0          0.000000\n",
       "1          0.000000\n",
       "2          0.000000\n",
       "3        789.468120\n",
       "4         22.357188\n",
       "            ...    \n",
       "13822      0.000000\n",
       "13823      0.000000\n",
       "13824      0.000000\n",
       "13825      0.000000\n",
       "13826      0.000000\n",
       "Name: az_tech_fee, Length: 13827, dtype: float64"
      ]
     },
     "execution_count": 18,
     "metadata": {},
     "output_type": "execute_result"
    },
    {
     "data": {
      "text/plain": [
       "0           0.000000\n",
       "1           0.000000\n",
       "2           0.000000\n",
       "3        4593.555166\n",
       "4         144.211193\n",
       "            ...     \n",
       "13822       0.000000\n",
       "13823       0.000000\n",
       "13824       0.000000\n",
       "13825       1.210000\n",
       "13826       0.800000\n",
       "Name: internal_fixed_costs_(excl._hq_fees), Length: 13827, dtype: float64"
      ]
     },
     "execution_count": 18,
     "metadata": {},
     "output_type": "execute_result"
    },
    {
     "data": {
      "text/plain": [
       "0           0.0000\n",
       "1           0.0000\n",
       "2           0.0000\n",
       "3        1346.8165\n",
       "4          24.0160\n",
       "           ...    \n",
       "13822       0.0000\n",
       "13823       0.0000\n",
       "13824       0.0000\n",
       "13825       0.2800\n",
       "13826       0.1800\n",
       "Name: hq_fees, Length: 13827, dtype: float64"
      ]
     },
     "execution_count": 18,
     "metadata": {},
     "output_type": "execute_result"
    },
    {
     "data": {
      "text/plain": [
       "0           0.00000\n",
       "1           0.00000\n",
       "2           0.00000\n",
       "3        8959.83660\n",
       "4         253.73634\n",
       "            ...    \n",
       "13822       0.00000\n",
       "13823       0.00000\n",
       "13824       0.00000\n",
       "13825       2.21000\n",
       "13826       1.46000\n",
       "Name: total_expenses, Length: 13827, dtype: float64"
      ]
     },
     "execution_count": 18,
     "metadata": {},
     "output_type": "execute_result"
    },
    {
     "data": {
      "text/plain": [
       "0        0.0\n",
       "1        0.0\n",
       "2        0.0\n",
       "3        0.0\n",
       "4        0.0\n",
       "        ... \n",
       "13822    0.0\n",
       "13823    0.0\n",
       "13824    0.0\n",
       "13825    0.0\n",
       "13826    0.0\n",
       "Name: risk_premium, Length: 13827, dtype: float64"
      ]
     },
     "execution_count": 18,
     "metadata": {},
     "output_type": "execute_result"
    },
    {
     "data": {
      "text/plain": [
       "0        49247.04000\n",
       "1          100.00000\n",
       "2         1100.00000\n",
       "3        16035.55340\n",
       "4          910.58366\n",
       "            ...     \n",
       "13822        0.00000\n",
       "13823        0.00000\n",
       "13824        0.00000\n",
       "13825        4.88000\n",
       "13826        3.56000\n",
       "Name: profit_or_loss, Length: 13827, dtype: float64"
      ]
     },
     "execution_count": 18,
     "metadata": {},
     "output_type": "execute_result"
    },
    {
     "data": {
      "text/plain": [
       "0        49247.040000\n",
       "1          100.000000\n",
       "2         1100.000000\n",
       "3        21975.925066\n",
       "4         1078.810853\n",
       "             ...     \n",
       "13822        0.000000\n",
       "13823        0.000000\n",
       "13824        0.000000\n",
       "13825        6.370000\n",
       "13826        4.540000\n",
       "Name: contribution_margin_-_hq_view, Length: 13827, dtype: float64"
      ]
     },
     "execution_count": 18,
     "metadata": {},
     "output_type": "execute_result"
    },
    {
     "data": {
      "text/plain": [
       "0        49247.040000\n",
       "1          100.000000\n",
       "2         1100.000000\n",
       "3        20629.108566\n",
       "4         1054.794853\n",
       "             ...     \n",
       "13822        0.000000\n",
       "13823        0.000000\n",
       "13824        0.000000\n",
       "13825        6.090000\n",
       "13826        4.360000\n",
       "Name: contribution_margin_-_bu_view, Length: 13827, dtype: float64"
      ]
     },
     "execution_count": 18,
     "metadata": {},
     "output_type": "execute_result"
    }
   ],
   "source": [
    "cflds = ['written_revenues_net_of_taxes', 'written_revenues', 'earned_revenues_net_of_taxes',\n",
    "         'earned_revenues', 'earned_base_commissions', 'earned_over-commissions', 'upfront_cash_payments',\n",
    "         'total_compensation', 'paid_claims', 'ocr_+_ibnr', 'actual_incurred_losses_(paid_+_ocr_+_ibnr)',\n",
    "         'internal_variable_costs_(excl._az_tech_fee)', 'az_tech_fee', 'internal_fixed_costs_(excl._hq_fees)',\n",
    "         'hq_fees', 'total_expenses', 'risk_premium', 'profit_or_loss', 'contribution_margin_-_hq_view',\n",
    "         'contribution_margin_-_bu_view', ]\n",
    "\n",
    "for i in cflds:\n",
    "    pd.to_numeric(trandata[i], errors='coerce')"
   ]
  },
  {
   "cell_type": "markdown",
   "id": "734b47d2",
   "metadata": {
    "papermill": {
     "duration": 0.329016,
     "end_time": "2021-06-15T18:01:17.815715",
     "exception": false,
     "start_time": "2021-06-15T18:01:17.486699",
     "status": "completed"
    },
    "tags": []
   },
   "source": [
    "#### Turn selected columns values uppercase"
   ]
  },
  {
   "cell_type": "code",
   "execution_count": 19,
   "id": "ca1c16ad",
   "metadata": {
    "execution": {
     "iopub.execute_input": "2021-06-15T18:01:18.534624Z",
     "iopub.status.busy": "2021-06-15T18:01:18.512630Z",
     "iopub.status.idle": "2021-06-15T18:01:18.646221Z",
     "shell.execute_reply": "2021-06-15T18:01:18.647223Z"
    },
    "papermill": {
     "duration": 0.506928,
     "end_time": "2021-06-15T18:01:18.648261",
     "exception": false,
     "start_time": "2021-06-15T18:01:18.141333",
     "status": "completed"
    },
    "pycharm": {
     "name": "#%%\n"
    },
    "tags": []
   },
   "outputs": [],
   "source": [
    "validcols = ['business_unit', 'currency', 'region', 'type_of_analysis', 'type_of_business', 'type_of_account', 'lob',\n",
    "             'distribution_type', 'distribution_channel', ]\n",
    "\n",
    "for c in validcols:\n",
    "    trandata[c] = trandata[c].astype(str)\n",
    "    trandata[c] = trandata[c].apply(lambda x: x.upper())"
   ]
  },
  {
   "cell_type": "markdown",
   "id": "b336fc23",
   "metadata": {
    "papermill": {
     "duration": 0.385051,
     "end_time": "2021-06-15T18:01:19.319297",
     "exception": false,
     "start_time": "2021-06-15T18:01:18.934246",
     "status": "completed"
    },
    "tags": []
   },
   "source": [
    "#### Read the values from the Global Attribute Catalog, one field per loop iterance and xlsx sheet."
   ]
  },
  {
   "cell_type": "code",
   "execution_count": 20,
   "id": "e54e16bd",
   "metadata": {
    "execution": {
     "iopub.execute_input": "2021-06-15T18:01:20.154926Z",
     "iopub.status.busy": "2021-06-15T18:01:20.141925Z",
     "iopub.status.idle": "2021-06-15T18:01:23.596867Z",
     "shell.execute_reply": "2021-06-15T18:01:23.599870Z"
    },
    "papermill": {
     "duration": 3.862981,
     "end_time": "2021-06-15T18:01:23.599870",
     "exception": false,
     "start_time": "2021-06-15T18:01:19.736889",
     "status": "completed"
    },
    "pycharm": {
     "name": "#%%\n"
    },
    "tags": []
   },
   "outputs": [],
   "source": [
    "checktabs = []\n",
    "\n",
    "\n",
    "\n",
    "for s in validcols:\n",
    "    t = pd.read_excel(atcat, sheet_name = s )\n",
    "    checktabs.append([[s], [t]])\n",
    "\n",
    "gacout = []\n"
   ]
  },
  {
   "cell_type": "markdown",
   "id": "59d32688",
   "metadata": {
    "papermill": {
     "duration": 0.332012,
     "end_time": "2021-06-15T18:01:24.301832",
     "exception": false,
     "start_time": "2021-06-15T18:01:23.969820",
     "status": "completed"
    },
    "tags": []
   },
   "source": [
    "#### Compare the lists from the previous step and each field. Find those that do not match, make lists of unique values\n",
    "#### replace any that have replacements in GPPM inoout already, make a list of values without any matches.\n"
   ]
  },
  {
   "cell_type": "code",
   "execution_count": 21,
   "id": "2e78d21f",
   "metadata": {
    "execution": {
     "iopub.execute_input": "2021-06-15T18:01:25.054540Z",
     "iopub.status.busy": "2021-06-15T18:01:25.043574Z",
     "iopub.status.idle": "2021-06-15T18:01:25.306590Z",
     "shell.execute_reply": "2021-06-15T18:01:25.307591Z"
    },
    "papermill": {
     "duration": 0.643773,
     "end_time": "2021-06-15T18:01:25.307591",
     "exception": false,
     "start_time": "2021-06-15T18:01:24.663818",
     "status": "completed"
    },
    "pycharm": {
     "name": "#%%\n"
    },
    "tags": []
   },
   "outputs": [],
   "source": [
    "# todo rewrite this beginner code to use dicts and simplify\n",
    "\n",
    "for u in enumerate(validcols):\n",
    "    trandata.loc[0:len(trandata[u[1]]), u[1]] = trandata[u[1]].replace(\n",
    "        [checktabs[u[0]][1][0]['Upper_Vers']][0].to_numpy(), [checktabs[u[0]][1][0][u[1]]][0].to_numpy())\n",
    "    d = list(checktabs[u[0]][1][0]['Non Matches'].drop_duplicates().dropna().append(\n",
    "        pd.Series(trandata[u[1]][~trandata[u[1]].isin(checktabs[u[0]][1][0][u[1]])].drop_duplicates().dropna()),\n",
    "        ignore_index=True))\n",
    "    g = [checktabs[u[0]][1][0][str(u[1])], checktabs[u[0]][1][0]['Upper_Vers'], checktabs[u[0]][1][0]['Unnamed: 2'],\n",
    "         pd.Series(d, dtype='object').drop_duplicates().dropna(), checktabs[u[0]][1][0]['User Defined Corrections']]\n",
    "    gacout.append(list([g, u[1]]))"
   ]
  },
  {
   "cell_type": "markdown",
   "id": "55f179c7",
   "metadata": {
    "papermill": {
     "duration": 0.314021,
     "end_time": "2021-06-15T18:01:25.897294",
     "exception": false,
     "start_time": "2021-06-15T18:01:25.583273",
     "status": "completed"
    },
    "tags": []
   },
   "source": [
    "#### Rebuild the GPPM input file, with the replaced values in the bad values column of each sheet.\n",
    "#### Step one, make and xlsx with a notes page."
   ]
  },
  {
   "cell_type": "code",
   "execution_count": 22,
   "id": "7befe377",
   "metadata": {
    "execution": {
     "iopub.execute_input": "2021-06-15T18:01:26.710876Z",
     "iopub.status.busy": "2021-06-15T18:01:26.705871Z",
     "iopub.status.idle": "2021-06-15T18:01:27.200902Z",
     "shell.execute_reply": "2021-06-15T18:01:27.201904Z"
    },
    "papermill": {
     "duration": 0.845191,
     "end_time": "2021-06-15T18:01:27.202903",
     "exception": false,
     "start_time": "2021-06-15T18:01:26.357712",
     "status": "completed"
    },
    "pycharm": {
     "name": "#%%\n"
    },
    "tags": []
   },
   "outputs": [],
   "source": [
    "w = ExcelWriter(atcat)\n",
    "notes = pd.DataFrame([\n",
    "    \"This page is script generated during the source creation process. Do not edit these notes directly in the file as they will be overwritten\",\n",
    "    \"\", \"\"\n",
    "    , \" Purpose :     to manage attribute entries in the data collection process, this workbook documents and organizes all entries and also allows a user to swap those that do \\\n",
    "                        not conform to validation rules  with an entry of their choice\",\n",
    "    \" Each attribute field that requires validation has its own sheet tab\", \"\"\n",
    "    , \"Column A:    of each sheet tab contains all unique acceptable responses\",\n",
    "    \"Column B:    an upper case version, to wrangle case mismatches\",\n",
    "    \"Column D:   is generated by the process, this is a list of an uppercase version of each unique unacceptable response, this builds over time with each collection\",\n",
    "    \"Column E:   you can enter accpetable response here (sase sensitive) to be swapped out in the data, save and exit this file, run the process again and they will be replaced\"\n",
    "    , \"\", \"\", \"Gavin Harmon 9 - July -2020\"])\n",
    "\n",
    "notes.columns = ['Notes']\n",
    "\n",
    "notes.to_excel(w, index=False, sheet_name=\"Notes\")"
   ]
  },
  {
   "cell_type": "markdown",
   "id": "433269c6",
   "metadata": {
    "papermill": {
     "duration": 0.342019,
     "end_time": "2021-06-15T18:01:27.896810",
     "exception": false,
     "start_time": "2021-06-15T18:01:27.554791",
     "status": "completed"
    },
    "tags": []
   },
   "source": [
    "#### Step two, build the new sheets for each validcols field"
   ]
  },
  {
   "cell_type": "code",
   "execution_count": 23,
   "id": "3b627321",
   "metadata": {
    "execution": {
     "iopub.execute_input": "2021-06-15T18:01:28.692103Z",
     "iopub.status.busy": "2021-06-15T18:01:28.650100Z",
     "iopub.status.idle": "2021-06-15T18:01:29.322880Z",
     "shell.execute_reply": "2021-06-15T18:01:29.323879Z"
    },
    "papermill": {
     "duration": 1.062837,
     "end_time": "2021-06-15T18:01:29.323879",
     "exception": false,
     "start_time": "2021-06-15T18:01:28.261042",
     "status": "completed"
    },
    "pycharm": {
     "name": "#%%\n"
    },
    "scrolled": true,
    "tags": []
   },
   "outputs": [],
   "source": [
    "for v in enumerate(validcols):\n",
    "    df = pd.DataFrame(gacout[v[0]][0], index=[f\"{v[1]}\", 'Upper_Vers', '', 'Non Matches', 'User Defined Corrections']).T\n",
    "    df.to_excel(w, index=False, sheet_name=gacout[v[0]][1])\n",
    "w.save()"
   ]
  },
  {
   "cell_type": "markdown",
   "id": "06daf332",
   "metadata": {
    "papermill": {
     "duration": 0.357423,
     "end_time": "2021-06-15T18:01:30.034586",
     "exception": false,
     "start_time": "2021-06-15T18:01:29.677163",
     "status": "completed"
    },
    "tags": []
   },
   "source": [
    "#### Step three, read these lists back in, make the necessary replacements in the DataFrame"
   ]
  },
  {
   "cell_type": "code",
   "execution_count": 24,
   "id": "0e3a0573",
   "metadata": {
    "execution": {
     "iopub.execute_input": "2021-06-15T18:01:30.838632Z",
     "iopub.status.busy": "2021-06-15T18:01:30.838632Z",
     "iopub.status.idle": "2021-06-15T18:01:37.875284Z",
     "shell.execute_reply": "2021-06-15T18:01:37.877284Z"
    },
    "papermill": {
     "duration": 7.40021,
     "end_time": "2021-06-15T18:01:37.877284",
     "exception": false,
     "start_time": "2021-06-15T18:01:30.477074",
     "status": "completed"
    },
    "pycharm": {
     "name": "#%%\n"
    },
    "tags": []
   },
   "outputs": [],
   "source": [
    "for s in validcols:\n",
    "    t = pd.read_excel(f'//hecate/Insurance_US/Product Development/Product Management/Global PPM/Reporting/Data Collection/Production/{str(percode)}\\\\{str(percode)}_Attribute_Catalog.xlsx', sheet_name = s )\n",
    "    checktabs.append([[s],[t]])"
   ]
  },
  {
   "cell_type": "code",
   "execution_count": 25,
   "id": "b1c09c3b",
   "metadata": {
    "execution": {
     "iopub.execute_input": "2021-06-15T18:01:38.667783Z",
     "iopub.status.busy": "2021-06-15T18:01:38.648782Z",
     "iopub.status.idle": "2021-06-15T18:01:38.797861Z",
     "shell.execute_reply": "2021-06-15T18:01:38.798864Z"
    },
    "papermill": {
     "duration": 0.537607,
     "end_time": "2021-06-15T18:01:38.798864",
     "exception": false,
     "start_time": "2021-06-15T18:01:38.261257",
     "status": "completed"
    },
    "pycharm": {
     "name": "#%%\n"
    },
    "tags": []
   },
   "outputs": [],
   "source": [
    "gacout = []\n",
    "\n",
    "for u in enumerate(validcols):\n",
    "    trandata.loc[0:len(trandata[u[1]]), u[1]] = trandata[u[1]].replace(\n",
    "        [checktabs[u[0]][1][0]['Non Matches']][0].to_numpy(),\n",
    "        [checktabs[u[0]][1][0]['User Defined Corrections']][0].to_numpy())\n",
    "repper = trandata[['business_unit', 'reporting_date_to']]\n",
    "repper = pd.DataFrame({\"business_unit\": (repper['business_unit']), \"YearMo\": (repper['reporting_date_to'])})\n",
    "minrep = repper.groupby(['business_unit']).max()\n",
    "a = trandata['business_unit'].replace(list(minrep.axes[0]), minrep.get(\"YearMo\"))\n",
    "trandata['rep_date'] = a\n",
    "trandata.loc[0:len(trandata['business_partner_id_number']), 'business_partner_id_number'] = trandata[\n",
    "    'business_partner_id_number'].replace('0', 'Not Provided').fillna('Not Provided')\n",
    "trandata.loc[0:len(trandata['product_id_number']), 'product_id_number'] = trandata['product_id_number'].replace('0',\n",
    "                                                                                                                'Not Provided').replace(\n",
    "    '-', 'Not Provided').fillna('Not Provided')\n",
    "trandata.loc[0:len(trandata['sub_lob']), 'sub_lob'] = trandata['sub_lob'].replace('0', 'Not Provided').replace('-',\n",
    "                                                                                                               'Not Provided').replace(\n",
    "    'Other', 'Not Provided').fillna('Not Provided')"
   ]
  },
  {
   "cell_type": "markdown",
   "id": "65b1d079",
   "metadata": {
    "papermill": {
     "duration": 0.390563,
     "end_time": "2021-06-15T18:01:39.525452",
     "exception": false,
     "start_time": "2021-06-15T18:01:39.134889",
     "status": "completed"
    },
    "tags": []
   },
   "source": [
    "#### Evaluate the current state, alert the user if input is needed.\n",
    "- At the end of this process, alert the user with instructions if they need to adjust bad entries for validated fields.\n",
    "\n"
   ]
  },
  {
   "cell_type": "code",
   "execution_count": 26,
   "id": "cc2afaf8",
   "metadata": {
    "execution": {
     "iopub.execute_input": "2021-06-15T18:01:40.399548Z",
     "iopub.status.busy": "2021-06-15T18:01:40.392544Z",
     "iopub.status.idle": "2021-06-15T18:01:47.038678Z",
     "shell.execute_reply": "2021-06-15T18:01:47.040674Z"
    },
    "papermill": {
     "duration": 7.129096,
     "end_time": "2021-06-15T18:01:47.041674",
     "exception": false,
     "start_time": "2021-06-15T18:01:39.912578",
     "status": "completed"
    },
    "tags": []
   },
   "outputs": [],
   "source": [
    "#see above note about converting to dictionaries\n",
    "\n",
    "#Make lists of all the attribute catalog entries that do not have a correction as a list of errors.\n",
    "err_messages = []\n",
    "\n",
    "for idx, i in enumerate(checktabs):\n",
    "    subset_no_nans =  i[1][0][['Non Matches', 'User Defined Corrections']][~i[1][0]['Non Matches'].isna()]\n",
    "    entries = subset_no_nans['Non Matches'][subset_no_nans['User Defined Corrections'].isna()]. tolist()\n",
    "    if len(entries) > 0: \n",
    "        err_messages.append(f'Please deal with bad entries {entries} on tab {i[0][0]} of the Attribute Catalog.')\n",
    "\n",
    "#raise an error to stop the process and give instructions\n",
    "\n",
    "# define Python user-defined exceptions\n",
    "\n",
    "\n",
    "# define Python user-defined exceptions\n",
    "class Error(Exception):\n",
    "    \"\"\"Base class for other exceptions\"\"\"\n",
    "    pass\n",
    "\n",
    "class BadEntriesError(Error):\n",
    "    \"\"\"Raised when the input value is too large\"\"\"\n",
    "    for i in err_messages : print(i)\n",
    "    \n",
    "    os.startfile(atcat)\n",
    "\n",
    "if len(err_messages) > 0:\n",
    "    raise BadEntriesError\n",
    "else:\n",
    "    pass\n",
    "        "
   ]
  },
  {
   "cell_type": "markdown",
   "id": "832975a1",
   "metadata": {
    "papermill": {
     "duration": 0.450875,
     "end_time": "2021-06-15T18:01:48.197803",
     "exception": false,
     "start_time": "2021-06-15T18:01:47.746928",
     "status": "completed"
    },
    "tags": []
   },
   "source": [
    "#### Remove empty rows, if there is no claims experience and no revenue for a 12 month period, it should not be included"
   ]
  },
  {
   "cell_type": "code",
   "execution_count": 27,
   "id": "ab274d92",
   "metadata": {
    "execution": {
     "iopub.execute_input": "2021-06-15T18:01:49.037838Z",
     "iopub.status.busy": "2021-06-15T18:01:49.026838Z",
     "iopub.status.idle": "2021-06-15T18:01:49.099850Z",
     "shell.execute_reply": "2021-06-15T18:01:49.101873Z"
    },
    "papermill": {
     "duration": 0.48977,
     "end_time": "2021-06-15T18:01:49.101873",
     "exception": false,
     "start_time": "2021-06-15T18:01:48.612103",
     "status": "completed"
    },
    "pycharm": {
     "name": "#%%\n"
    },
    "tags": []
   },
   "outputs": [],
   "source": [
    "trandata = trandata.loc[(trandata['units_of_risk_(written)'].fillna(0).replace('', 0)\n",
    "                         + trandata['written_revenues_net_of_taxes'].fillna(0).replace('', 0)\n",
    "                         + trandata['written_revenues'].fillna(0).replace('', 0)\n",
    "                         + trandata['number_of_policies_(earned)'].fillna(0).replace('', 0)\n",
    "                         + trandata['units_of_risk_(earned)'].fillna(0).replace('', 0)\n",
    "                         + trandata['earned_revenues_net_of_taxes'].fillna(0).replace('', 0)\n",
    "                         + trandata['earned_revenues'].fillna(0).replace('', 0)\n",
    "                         + trandata['earned_base_commissions'].fillna(0).replace('', 0)\n",
    "                         + trandata['upfront_cash_payments'].fillna(0).replace('', 0)\n",
    "                         + trandata['earned_over-commissions'].fillna(0).replace('', 0)\n",
    "                         + trandata['total_compensation'].fillna(0).replace('', 0)\n",
    "                         + trandata['number_of_claims_(paid_+_ocr_+_ibnr)'].fillna(0).replace('', 0)\n",
    "                         + trandata['number_of_open_claims'].fillna(0).replace('', 0)\n",
    "                         + trandata['open_claims_%'].fillna(0).replace('', 0)\n",
    "                         + trandata['number_of_persons_involved_in_claims_(paid_+_ocr_+_ibnr)'].fillna(0).replace('', 0)\n",
    "                         + trandata['paid_claims'].fillna(0).replace('', 0)\n",
    "                         + trandata['ocr_+_ibnr'].fillna(0).replace('', 0)\n",
    "                         + trandata['actual_incurred_losses_(paid_+_ocr_+_ibnr)'].fillna(0).replace('', 0)\n",
    "                         + trandata['internal_variable_costs_(excl._az_tech_fee)'].fillna(0).replace('', 0)\n",
    "                         + trandata['az_tech_fee'].fillna(0).replace('', 0)\n",
    "                         + trandata['internal_fixed_costs_(excl._hq_fees)'].fillna(0).replace('', 0)\n",
    "                         + trandata['hq_fees'].fillna(0).replace('', 0)\n",
    "                         + trandata['total_expenses'].fillna(0).replace('', 0)\n",
    "                         + trandata['frequency_(earned)'].fillna(0).replace('', 0)\n",
    "                         + trandata['severity'].fillna(0).replace('', 0))\n",
    "                        != 0]"
   ]
  },
  {
   "cell_type": "markdown",
   "id": "525f64c4",
   "metadata": {
    "papermill": {
     "duration": 0.381619,
     "end_time": "2021-06-15T18:01:49.816489",
     "exception": false,
     "start_time": "2021-06-15T18:01:49.434870",
     "status": "completed"
    },
    "tags": []
   },
   "source": [
    "#### special edit to fix a 1-row issue from US 2021.Q1 submission"
   ]
  },
  {
   "cell_type": "code",
   "execution_count": 28,
   "id": "c71bed43",
   "metadata": {
    "execution": {
     "iopub.execute_input": "2021-06-15T18:01:50.558699Z",
     "iopub.status.busy": "2021-06-15T18:01:50.556708Z",
     "iopub.status.idle": "2021-06-15T18:01:50.575740Z",
     "shell.execute_reply": "2021-06-15T18:01:50.574741Z"
    },
    "papermill": {
     "duration": 0.407102,
     "end_time": "2021-06-15T18:01:50.575740",
     "exception": false,
     "start_time": "2021-06-15T18:01:50.168638",
     "status": "completed"
    },
    "tags": []
   },
   "outputs": [
    {
     "data": {
      "text/plain": [
       "6207    Offline Travel Agencies\n",
       "Name: distribution_type, dtype: object"
      ]
     },
     "execution_count": 28,
     "metadata": {},
     "output_type": "execute_result"
    }
   ],
   "source": [
    "\n",
    "trandata.at[trandata.index[trandata['business_partner_name'] ==    \"Unique Travel\"][0],'distribution_type'] = \"B2B2C\"\n",
    "\n",
    "trandata.at[trandata.index[trandata['business_partner_name'] ==    \"Unique Travel\"][0],'distribution_type'] = \"Offline Travel Agencies\"\n",
    "\n",
    "\n",
    "trandata[ trandata['business_partner_name'] ==    \"Unique Travel\"]['distribution_type']\n",
    "\n",
    "\n"
   ]
  },
  {
   "cell_type": "markdown",
   "id": "f4ff372f",
   "metadata": {
    "papermill": {
     "duration": 0.350011,
     "end_time": "2021-06-15T18:01:51.233031",
     "exception": false,
     "start_time": "2021-06-15T18:01:50.883020",
     "status": "completed"
    },
    "pycharm": {
     "name": "#%% md\n"
    },
    "tags": []
   },
   "source": [
    "#### Output temp file"
   ]
  },
  {
   "cell_type": "code",
   "execution_count": 29,
   "id": "bdfbc4ff",
   "metadata": {
    "execution": {
     "iopub.execute_input": "2021-06-15T18:01:51.987984Z",
     "iopub.status.busy": "2021-06-15T18:01:51.982985Z",
     "iopub.status.idle": "2021-06-15T18:02:35.759083Z",
     "shell.execute_reply": "2021-06-15T18:02:35.761083Z"
    },
    "papermill": {
     "duration": 44.112038,
     "end_time": "2021-06-15T18:02:35.762086",
     "exception": false,
     "start_time": "2021-06-15T18:01:51.650048",
     "status": "completed"
    },
    "pycharm": {
     "name": "#%%\n"
    },
    "tags": []
   },
   "outputs": [],
   "source": [
    "# trandata.to_parquet(\n",
    "#     f'//hecate/Insurance_US/Product Development/Product Management/Global PPM/Reporting/Data Collection/Production/{str(percode)}\\\\{str(percode)}.localcur.parquet', engine = \"pyarrow\")\n",
    "\n",
    "trandata.to_csv(\n",
    "    \n",
    "     f'//hecate/Insurance_US/Product Development/Product Management/Global PPM/Reporting/Data Collection/Production/{str(percode)}\\\\{str(percode)}.localcur.csv', index = False)\n"
   ]
  },
  {
   "cell_type": "markdown",
   "id": "45ec1783",
   "metadata": {
    "papermill": {
     "duration": 0.360558,
     "end_time": "2021-06-15T18:02:36.573379",
     "exception": false,
     "start_time": "2021-06-15T18:02:36.212821",
     "status": "completed"
    },
    "tags": []
   },
   "source": [
    "#### Store the DataFrame for other noteboks to use"
   ]
  },
  {
   "cell_type": "code",
   "execution_count": 30,
   "id": "13a007fc",
   "metadata": {
    "execution": {
     "iopub.execute_input": "2021-06-15T18:02:37.410170Z",
     "iopub.status.busy": "2021-06-15T18:02:37.406174Z",
     "iopub.status.idle": "2021-06-15T18:02:37.513879Z",
     "shell.execute_reply": "2021-06-15T18:02:37.513879Z"
    },
    "papermill": {
     "duration": 0.504736,
     "end_time": "2021-06-15T18:02:37.514879",
     "exception": false,
     "start_time": "2021-06-15T18:02:37.010143",
     "status": "completed"
    },
    "tags": []
   },
   "outputs": [
    {
     "name": "stdout",
     "output_type": "stream",
     "text": [
      "Stored 'py_t_df' (DataFrame)\n"
     ]
    }
   ],
   "source": [
    "py_t_df = trandata\n",
    "\n",
    "%store py_t_df\n"
   ]
  }
 ],
 "metadata": {
  "celltoolbar": "Tags",
  "kernelspec": {
   "display_name": "Python 3",
   "language": "python",
   "name": "python3"
  },
  "language_info": {
   "codemirror_mode": {
    "name": "ipython",
    "version": 3
   },
   "file_extension": ".py",
   "mimetype": "text/x-python",
   "name": "python",
   "nbconvert_exporter": "python",
   "pygments_lexer": "ipython3",
   "version": "3.7.6"
  },
  "papermill": {
   "default_parameters": {},
   "duration": 120.500896,
   "end_time": "2021-06-15T18:02:38.327426",
   "environment_variables": {},
   "exception": null,
   "input_path": "pipeline/py_transform.ipynb",
   "output_path": "//hecate/Insurance_US/Product Development/Product Management/Global PPM/Reporting/Data Collection/Pipeline Reporting Scripts/GPMpipeline/instances/2021.Q1\\pipeline\\py_transform06152021135514--live DE Allocations.ipynb",
   "parameters": {
    "commit_message": "Live run, add DE Allocations",
    "inst_datetime": "06152021135514",
    "percode": "2021.Q1",
    "run_control": 1
   },
   "start_time": "2021-06-15T18:00:37.826530",
   "version": "2.3.3"
  }
 },
 "nbformat": 4,
 "nbformat_minor": 5
}