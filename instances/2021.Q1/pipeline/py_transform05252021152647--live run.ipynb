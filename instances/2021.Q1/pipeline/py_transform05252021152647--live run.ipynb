{
 "cells": [
  {
   "cell_type": "markdown",
   "id": "afdebdd2",
   "metadata": {
    "papermill": {
     "duration": 0.332483,
     "end_time": "2021-05-25T19:37:39.090116",
     "exception": false,
     "start_time": "2021-05-25T19:37:38.757633",
     "status": "completed"
    },
    "pycharm": {
     "name": "#%% md\n"
    },
    "tags": []
   },
   "source": [
    "<img src=\"../images/AzPTravel_PPM.png\">"
   ]
  },
  {
   "cell_type": "markdown",
   "id": "7938bac3",
   "metadata": {
    "collapsed": true,
    "papermill": {
     "duration": 0.329994,
     "end_time": "2021-05-25T19:37:39.753211",
     "exception": false,
     "start_time": "2021-05-25T19:37:39.423217",
     "status": "completed"
    },
    "pycharm": {
     "name": "#%% md\n"
    },
    "tags": []
   },
   "source": [
    "## GPM Data Transformation Script\n",
    "\n",
    "#### This script transforms the single consolidated raw file \"{Data Collection}.csv\" into it's final GPM input versions \"{Data Collection Code}localcur.csv\" and \"{Data Collection Code}euroconv.csv\"\n",
    "#### Current transformations\n",
    "\n",
    "-    make headers lowercase and replace spaces with hyphens\n",
    "-    Remove any rows with null BUs\n",
    "-    validate columns in validcols\n",
    "-    output documented here: \"Global_Attribute_Catalog.xlsx\" you can also edit dataframe entries using the instructions in the file\n",
    "-    replace various null or placeholder values with \"Not Provided\"\n"
   ]
  },
  {
   "cell_type": "markdown",
   "id": "0f299bee",
   "metadata": {
    "papermill": {
     "duration": 0.343962,
     "end_time": "2021-05-25T19:37:40.457928",
     "exception": false,
     "start_time": "2021-05-25T19:37:40.113966",
     "status": "completed"
    },
    "tags": []
   },
   "source": [
    "###"
   ]
  },
  {
   "cell_type": "code",
   "execution_count": 1,
   "id": "c4106946",
   "metadata": {
    "execution": {
     "iopub.execute_input": "2021-05-25T19:37:41.142726Z",
     "iopub.status.busy": "2021-05-25T19:37:41.130726Z",
     "iopub.status.idle": "2021-05-25T19:37:41.146245Z",
     "shell.execute_reply": "2021-05-25T19:37:41.153768Z"
    },
    "papermill": {
     "duration": 0.343758,
     "end_time": "2021-05-25T19:37:41.154767",
     "exception": false,
     "start_time": "2021-05-25T19:37:40.811009",
     "status": "completed"
    },
    "pycharm": {
     "name": "#%%\n"
    },
    "tags": [
     "parameters"
    ]
   },
   "outputs": [],
   "source": [
    "commit = \"\"\n",
    "# give a reason for the run\n",
    "\n",
    "percode = \"20XX.QX\"\n",
    "# Data Collection Code, this controls file paths and output names\n",
    "\n",
    "run_type = 1\n",
    "#run_type =  0 - lite run with no reporting, not recommended.\n",
    "#run_type =  1 - lite run with normal reporting, default setting.\n",
    "#run_type =  2 - Heavy run with full reporting, available for audits and troubleshooting.\n",
    "\n",
    "specialchars = \"-GTHtest\"\n",
    "# optional - add up to a 12 character code in order to mark your instance record .ipynb\n",
    "\n",
    "from datetime import datetime\n",
    "inst_datetime = datetime.now().strftime(\"%m%d%Y%H%M%S\")\n",
    "# a single datetime stamp for the full instance run\n"
   ]
  },
  {
   "cell_type": "code",
   "execution_count": 2,
   "id": "814987ca",
   "metadata": {
    "execution": {
     "iopub.execute_input": "2021-05-25T19:37:41.740370Z",
     "iopub.status.busy": "2021-05-25T19:37:41.737368Z",
     "iopub.status.idle": "2021-05-25T19:37:41.746369Z",
     "shell.execute_reply": "2021-05-25T19:37:41.748370Z"
    },
    "papermill": {
     "duration": 0.301559,
     "end_time": "2021-05-25T19:37:41.748370",
     "exception": false,
     "start_time": "2021-05-25T19:37:41.446811",
     "status": "completed"
    },
    "tags": [
     "injected-parameters"
    ]
   },
   "outputs": [],
   "source": [
    "# Parameters\n",
    "run_control = 1\n",
    "percode = \"2021.Q1\"\n",
    "commit_message = \"Edited data for Austraila, json 2 parquet and add comments from email. Begin general evaluation of data submissions.\"\n",
    "inst_datetime = \"05252021152647\"\n"
   ]
  },
  {
   "cell_type": "markdown",
   "id": "f976b3ff",
   "metadata": {
    "papermill": {
     "duration": 0.29647,
     "end_time": "2021-05-25T19:37:42.322552",
     "exception": false,
     "start_time": "2021-05-25T19:37:42.026082",
     "status": "completed"
    },
    "tags": []
   },
   "source": [
    "### Set Run Control\n",
    "\n",
    "##### 0 - lite run with no reporting, not recommended.\n",
    "##### 1 - lite run with normal reporting, default setting.\n",
    "##### 2 - Heavy run with full reporting, available for audits and troubleshooting."
   ]
  },
  {
   "cell_type": "code",
   "execution_count": 3,
   "id": "e6630b11",
   "metadata": {
    "execution": {
     "iopub.execute_input": "2021-05-25T19:37:42.927137Z",
     "iopub.status.busy": "2021-05-25T19:37:42.924358Z",
     "iopub.status.idle": "2021-05-25T19:37:42.934139Z",
     "shell.execute_reply": "2021-05-25T19:37:42.935141Z"
    },
    "papermill": {
     "duration": 0.314625,
     "end_time": "2021-05-25T19:37:42.935141",
     "exception": false,
     "start_time": "2021-05-25T19:37:42.620516",
     "status": "completed"
    },
    "pycharm": {
     "name": "#%%\n"
    },
    "tags": []
   },
   "outputs": [],
   "source": [
    "run_control = 0  # in development mode"
   ]
  },
  {
   "cell_type": "code",
   "execution_count": 4,
   "id": "b08cd7f5",
   "metadata": {
    "execution": {
     "iopub.execute_input": "2021-05-25T19:37:43.521882Z",
     "iopub.status.busy": "2021-05-25T19:37:43.516890Z",
     "iopub.status.idle": "2021-05-25T19:37:46.307204Z",
     "shell.execute_reply": "2021-05-25T19:37:46.308203Z"
    },
    "papermill": {
     "duration": 3.096533,
     "end_time": "2021-05-25T19:37:46.309201",
     "exception": false,
     "start_time": "2021-05-25T19:37:43.212668",
     "status": "completed"
    },
    "pycharm": {
     "name": "#%%\n"
    },
    "tags": []
   },
   "outputs": [],
   "source": [
    "#### Packages used\n",
    "import sys\n",
    "import os\n",
    "import pandas as pd\n",
    "from pandas import ExcelWriter\n",
    "from numpy import nan"
   ]
  },
  {
   "cell_type": "code",
   "execution_count": 5,
   "id": "5792f3c3",
   "metadata": {
    "execution": {
     "iopub.execute_input": "2021-05-25T19:37:46.920957Z",
     "iopub.status.busy": "2021-05-25T19:37:46.919963Z",
     "iopub.status.idle": "2021-05-25T19:37:46.926957Z",
     "shell.execute_reply": "2021-05-25T19:37:46.927961Z"
    },
    "papermill": {
     "duration": 0.337761,
     "end_time": "2021-05-25T19:37:46.928974",
     "exception": false,
     "start_time": "2021-05-25T19:37:46.591213",
     "status": "completed"
    },
    "pycharm": {
     "name": "#%%\n"
    },
    "tags": []
   },
   "outputs": [],
   "source": [
    "default_dc = \"2021.Q1\"\n",
    "\n",
    "try:\n",
    "    if sys.argv[1] == \"-f\":\n",
    "        percode = default_dc\n",
    "    else:\n",
    "        percode = sys.argv[1]\n",
    "\n",
    "except IndexError:\n",
    "    percode = default_dc\n",
    "except NameError:\n",
    "    percode = default_dc"
   ]
  },
  {
   "cell_type": "markdown",
   "id": "c06fcf8e",
   "metadata": {
    "papermill": {
     "duration": 0.29416,
     "end_time": "2021-05-25T19:37:47.520130",
     "exception": false,
     "start_time": "2021-05-25T19:37:47.225970",
     "status": "completed"
    },
    "tags": []
   },
   "source": [
    "#### style settings"
   ]
  },
  {
   "cell_type": "code",
   "execution_count": 6,
   "id": "559c2009",
   "metadata": {
    "execution": {
     "iopub.execute_input": "2021-05-25T19:37:48.100228Z",
     "iopub.status.busy": "2021-05-25T19:37:48.098240Z",
     "iopub.status.idle": "2021-05-25T19:37:48.107227Z",
     "shell.execute_reply": "2021-05-25T19:37:48.108228Z"
    },
    "papermill": {
     "duration": 0.316174,
     "end_time": "2021-05-25T19:37:48.109232",
     "exception": false,
     "start_time": "2021-05-25T19:37:47.793058",
     "status": "completed"
    },
    "tags": []
   },
   "outputs": [],
   "source": [
    "from IPython.core.interactiveshell import InteractiveShell\n",
    "InteractiveShell.ast_node_interactivity = \"all\""
   ]
  },
  {
   "cell_type": "markdown",
   "id": "be9f0aa9",
   "metadata": {
    "papermill": {
     "duration": 0.286031,
     "end_time": "2021-05-25T19:37:48.698667",
     "exception": false,
     "start_time": "2021-05-25T19:37:48.412636",
     "status": "completed"
    },
    "tags": []
   },
   "source": [
    "#### Convert paths and files to variables.\n",
    "#### Read data into pd DataFrames.\n",
    "#### Make paths for the live sources."
   ]
  },
  {
   "cell_type": "code",
   "execution_count": 7,
   "id": "3b6b1842",
   "metadata": {
    "execution": {
     "iopub.execute_input": "2021-05-25T19:37:49.300007Z",
     "iopub.status.busy": "2021-05-25T19:37:49.299008Z",
     "iopub.status.idle": "2021-05-25T19:37:49.307008Z",
     "shell.execute_reply": "2021-05-25T19:37:49.306008Z"
    },
    "papermill": {
     "duration": 0.311999,
     "end_time": "2021-05-25T19:37:49.307008",
     "exception": false,
     "start_time": "2021-05-25T19:37:48.995009",
     "status": "completed"
    },
    "pycharm": {
     "name": "#%%\n"
    },
    "tags": []
   },
   "outputs": [],
   "source": [
    "rt_path = f'//hecate/Insurance_US/Product Development/Product Management/Global PPM/Reporting/Data Collection/Production/{str(percode)}'\n",
    "\n",
    "infile = os.path.join(rt_path, f'{str(percode)}.parquet')\n",
    "gppm_file = os.path.join(rt_path, f'GPPM_Input_{str(percode)}.xlsx')\n",
    "atcat = f'//hecate/Insurance_US/Product Development/Product Management/Global PPM/Reporting/Data Collection/Production/{str(percode)}\\\\{str(percode)}_Attribute_Catalog.xlsx'\n"
   ]
  },
  {
   "cell_type": "code",
   "execution_count": 8,
   "id": "10043f54",
   "metadata": {
    "execution": {
     "iopub.execute_input": "2021-05-25T19:37:49.928755Z",
     "iopub.status.busy": "2021-05-25T19:37:49.927781Z",
     "iopub.status.idle": "2021-05-25T19:37:49.935760Z",
     "shell.execute_reply": "2021-05-25T19:37:49.937755Z"
    },
    "papermill": {
     "duration": 0.310744,
     "end_time": "2021-05-25T19:37:49.937755",
     "exception": false,
     "start_time": "2021-05-25T19:37:49.627011",
     "status": "completed"
    },
    "tags": []
   },
   "outputs": [],
   "source": [
    "#### Read input file\n",
    "\n",
    "#### This reads the consolidated file that will be transformed or a stored dataframe based on the execution method."
   ]
  },
  {
   "cell_type": "code",
   "execution_count": 9,
   "id": "b0fa3c06",
   "metadata": {
    "execution": {
     "iopub.execute_input": "2021-05-25T19:37:50.595800Z",
     "iopub.status.busy": "2021-05-25T19:37:50.590794Z",
     "iopub.status.idle": "2021-05-25T19:37:50.683791Z",
     "shell.execute_reply": "2021-05-25T19:37:50.685792Z"
    },
    "papermill": {
     "duration": 0.433039,
     "end_time": "2021-05-25T19:37:50.685792",
     "exception": false,
     "start_time": "2021-05-25T19:37:50.252753",
     "status": "completed"
    },
    "pycharm": {
     "name": "#%%\n"
    },
    "tags": []
   },
   "outputs": [
    {
     "name": "stdout",
     "output_type": "stream",
     "text": [
      "                       Submission File Business Unit Country Currency  \\\n",
      "0     us_dat_au_02172021174434.parquet            AU      AU      AUD   \n",
      "1     us_dat_au_02172021174434.parquet            AU      AU      AUD   \n",
      "2     us_dat_au_02172021174434.parquet            AU      AU      AUD   \n",
      "3     us_dat_au_02172021174434.parquet            AU      AU      AUD   \n",
      "4     us_dat_au_02172021174434.parquet            AU      AU      AUD   \n",
      "...                                ...           ...     ...      ...   \n",
      "3466  us_dat_pt_05202021121056.parquet            PT      PT      EUR   \n",
      "3467  us_dat_pt_05202021121056.parquet            PT      PT      EUR   \n",
      "3468  us_dat_pt_05202021121056.parquet            PT      PT      EUR   \n",
      "3469  us_dat_pt_05202021121056.parquet            PT      PT      EUR   \n",
      "3470  us_dat_pt_05202021121056.parquet            PT      PT      EUR   \n",
      "\n",
      "                           Region Reporting Date From Reporting Date To  \\\n",
      "0                            APAC          2020-01-01        2020-12-31   \n",
      "1                            APAC          2020-01-01        2020-12-31   \n",
      "2                            APAC          2020-01-01        2020-12-31   \n",
      "3                            APAC          2020-01-01        2020-12-31   \n",
      "4                            APAC          2020-01-01        2020-12-31   \n",
      "...                           ...                 ...               ...   \n",
      "3466  Western Europe, LATAM & MEA          2021-01-01        2021-03-31   \n",
      "3467  Western Europe, LATAM & MEA          2021-01-01        2021-03-31   \n",
      "3468  Western Europe, LATAM & MEA          2021-01-01        2021-03-31   \n",
      "3469  Western Europe, LATAM & MEA          2021-01-01        2021-03-31   \n",
      "3470  Western Europe, LATAM & MEA          2021-01-01        2021-03-31   \n",
      "\n",
      "     Date of Analysis         Type of Analysis  Analysed Months  ...  concat2  \\\n",
      "0          2021-02-08  Most Recently 12 Months             12.0  ...    AUAUD   \n",
      "1          2021-02-08  Most Recently 12 Months             12.0  ...    AUAUD   \n",
      "2          2021-02-08  Most Recently 12 Months             12.0  ...    AUAUD   \n",
      "3          2021-02-08  Most Recently 12 Months             12.0  ...    AUAUD   \n",
      "4          2021-02-08  Most Recently 12 Months             12.0  ...    AUAUD   \n",
      "...               ...                      ...              ...  ...      ...   \n",
      "3466       2021-03-31             Year To Date              3.0  ...    PTEUR   \n",
      "3467       2021-03-31             Year To Date              3.0  ...    PTEUR   \n",
      "3468       2021-03-31             Year To Date              3.0  ...    PTEUR   \n",
      "3469       2021-03-31             Year To Date              3.0  ...    PTEUR   \n",
      "3470       2021-03-31             Year To Date              3.0  ...    PTEUR   \n",
      "\n",
      "        comsub     expsub Reporting Date From INT Reporting Date To INT  \\\n",
      "0     0.074481   0.591379                20200101              20201231   \n",
      "1     0.361526   0.622344                20200101              20201231   \n",
      "2     0.143009   0.495955                20200101              20201231   \n",
      "3     0.196379   0.351713                20200101              20201231   \n",
      "4     0.403473   0.493019                20200101              20201231   \n",
      "...        ...        ...                     ...                   ...   \n",
      "3466  0.000000   0.538397                20210101              20210331   \n",
      "3467  0.000000   0.426832                20210101              20210331   \n",
      "3468  0.000000  18.673326                20210101              20210331   \n",
      "3469  0.000000   0.859278                20210101              20210331   \n",
      "3470  0.000000   1.023709                20210101              20210331   \n",
      "\n",
      "     Date of Analysis INT                     Selected Fields for Duplicates  \\\n",
      "0                20210208  AUInsuranceLocalB2B2CTravelAllianz Affiliation...   \n",
      "1                20210208  AUInsuranceLocalB2B2CTravelOffline Travel Agen...   \n",
      "2                20210208  AUInsuranceLocalB2B2CTravelOffline Travel Agen...   \n",
      "3                20210208  AUInsuranceLocalB2B2CTravelAllianz Affiliation...   \n",
      "4                20210208  AUInsuranceLocalB2B2CTravelCarriers - Airlines...   \n",
      "...                   ...                                                ...   \n",
      "3466             20210331  PTReinsuranceLocalB2B2CTravelDirect (Allianz P...   \n",
      "3467             20210331  PTReinsuranceLocalB2B2CTravelDirect (Allianz P...   \n",
      "3468             20210331  PTReinsuranceLocalB2B2CTravelDirect (Allianz P...   \n",
      "3469             20210331  PTReinsuranceLocalB2B2CTravelDirect (Allianz P...   \n",
      "3470             20210331  PTReinsuranceLocalB2BTravelDirect (Allianz Par...   \n",
      "\n",
      "     % of IBNR on (OCR + IBNR) Unnamed: 66 ibnrsub  \n",
      "0                          0.0         NaN     NaN  \n",
      "1                          0.0         NaN     NaN  \n",
      "2                          0.0         NaN     NaN  \n",
      "3                          0.0         NaN     NaN  \n",
      "4                          0.0         NaN     NaN  \n",
      "...                        ...         ...     ...  \n",
      "3466                       0.0         0.0     0.0  \n",
      "3467                       0.0         0.0     0.0  \n",
      "3468                       0.0         0.0     0.0  \n",
      "3469                       0.0         0.0     0.0  \n",
      "3470                       0.0         0.0     0.0  \n",
      "\n",
      "[3471 rows x 77 columns]\n"
     ]
    }
   ],
   "source": [
    "try:\n",
    "    %store -r read_dc_df\n",
    "    input = read_dc_df\n",
    "        \n",
    "except:\n",
    "    input = pd.read_parquet(infile,engine = \"pyarrow\")\n",
    "    os.remove(infile)\n",
    "\n",
    "print(input)"
   ]
  },
  {
   "cell_type": "markdown",
   "id": "1c9e4267",
   "metadata": {
    "papermill": {
     "duration": 0.906595,
     "end_time": "2021-05-25T19:37:51.893954",
     "exception": false,
     "start_time": "2021-05-25T19:37:50.987359",
     "status": "completed"
    },
    "tags": []
   },
   "source": [
    "#### Make a copy for debug purposes"
   ]
  },
  {
   "cell_type": "code",
   "execution_count": 10,
   "id": "b7575183",
   "metadata": {
    "execution": {
     "iopub.execute_input": "2021-05-25T19:37:52.636133Z",
     "iopub.status.busy": "2021-05-25T19:37:52.635127Z",
     "iopub.status.idle": "2021-05-25T19:37:52.642129Z",
     "shell.execute_reply": "2021-05-25T19:37:52.644125Z"
    },
    "papermill": {
     "duration": 0.325538,
     "end_time": "2021-05-25T19:37:52.645131",
     "exception": false,
     "start_time": "2021-05-25T19:37:52.319593",
     "status": "completed"
    },
    "pycharm": {
     "name": "#%%\n"
    },
    "tags": []
   },
   "outputs": [],
   "source": [
    "trandata = input.copy()"
   ]
  },
  {
   "cell_type": "markdown",
   "id": "2b7565d5",
   "metadata": {
    "papermill": {
     "duration": 0.312529,
     "end_time": "2021-05-25T19:37:53.266648",
     "exception": false,
     "start_time": "2021-05-25T19:37:52.954119",
     "status": "completed"
    },
    "tags": []
   },
   "source": [
    "#### Format Headers"
   ]
  },
  {
   "cell_type": "code",
   "execution_count": 11,
   "id": "a8d8ba0f",
   "metadata": {
    "execution": {
     "iopub.execute_input": "2021-05-25T19:37:53.945645Z",
     "iopub.status.busy": "2021-05-25T19:37:53.939643Z",
     "iopub.status.idle": "2021-05-25T19:37:53.979645Z",
     "shell.execute_reply": "2021-05-25T19:37:53.981645Z"
    },
    "papermill": {
     "duration": 0.378004,
     "end_time": "2021-05-25T19:37:53.982650",
     "exception": false,
     "start_time": "2021-05-25T19:37:53.604646",
     "status": "completed"
    },
    "pycharm": {
     "name": "#%%\n"
    },
    "tags": []
   },
   "outputs": [
    {
     "data": {
      "text/plain": [
       "'format headers'"
      ]
     },
     "execution_count": 11,
     "metadata": {},
     "output_type": "execute_result"
    }
   ],
   "source": [
    "# save the column names to variable, format them, replace headers\n",
    "cols = trandata.columns.values\n",
    "\n",
    "\"\"\"format headers\"\"\"\n",
    "fixedcols = []\n",
    "\n",
    "for f in cols:\n",
    "    fixedhead = f.replace(' ', '_').lower()\n",
    "    fixedcols.append(fixedhead)\n",
    "\n",
    "trandata.columns = fixedcols"
   ]
  },
  {
   "cell_type": "markdown",
   "id": "ffeb96f4",
   "metadata": {
    "papermill": {
     "duration": 0.365319,
     "end_time": "2021-05-25T19:37:54.694977",
     "exception": false,
     "start_time": "2021-05-25T19:37:54.329658",
     "status": "completed"
    },
    "pycharm": {
     "name": "#%% md\n"
    },
    "tags": []
   },
   "source": [
    "#### Update Verification 1"
   ]
  },
  {
   "cell_type": "code",
   "execution_count": 12,
   "id": "271f304a",
   "metadata": {
    "execution": {
     "iopub.execute_input": "2021-05-25T19:37:55.484427Z",
     "iopub.status.busy": "2021-05-25T19:37:55.478432Z",
     "iopub.status.idle": "2021-05-25T19:37:55.767953Z",
     "shell.execute_reply": "2021-05-25T19:37:55.769954Z"
    },
    "papermill": {
     "duration": 0.684128,
     "end_time": "2021-05-25T19:37:55.770958",
     "exception": false,
     "start_time": "2021-05-25T19:37:55.086830",
     "status": "completed"
    },
    "pycharm": {
     "name": "#%%\n"
    },
    "tags": []
   },
   "outputs": [
    {
     "name": "stdout",
     "output_type": "stream",
     "text": [
      "|    | Original                                                        | Transformed                                                     |\n",
      "|---:|:----------------------------------------------------------------|:----------------------------------------------------------------|\n",
      "|  0 | Submission File                                                 | submission_file                                                 |\n",
      "|  1 | Business Unit                                                   | business_unit                                                   |\n",
      "|  2 | Country                                                         | country                                                         |\n",
      "|  3 | Currency                                                        | currency                                                        |\n",
      "|  4 | Region                                                          | region                                                          |\n",
      "|  5 | Reporting Date From                                             | reporting_date_from                                             |\n",
      "|  6 | Reporting Date To                                               | reporting_date_to                                               |\n",
      "|  7 | Date of Analysis                                                | date_of_analysis                                                |\n",
      "|  8 | Type of Analysis                                                | type_of_analysis                                                |\n",
      "|  9 | Analysed Months                                                 | analysed_months                                                 |\n",
      "| 10 | Reporting Year                                                  | reporting_year                                                  |\n",
      "| 11 | Reporting Quarter                                               | reporting_quarter                                               |\n",
      "| 12 | Reporting Month                                                 | reporting_month                                                 |\n",
      "| 13 | Type of Business                                                | type_of_business                                                |\n",
      "| 14 | Type of Account                                                 | type_of_account                                                 |\n",
      "| 15 | Distribution Type                                               | distribution_type                                               |\n",
      "| 16 | LOB                                                             | lob                                                             |\n",
      "| 17 | Distribution Channel                                            | distribution_channel                                            |\n",
      "| 18 | Sub LOB                                                         | sub_lob                                                         |\n",
      "| 19 | Business Partner Name                                           | business_partner_name                                           |\n",
      "| 20 | Business Partner ID Number                                      | business_partner_id_number                                      |\n",
      "| 21 | Product Name                                                    | product_name                                                    |\n",
      "| 22 | Product ID Number                                               | product_id_number                                               |\n",
      "| 23 | Product Family                                                  | product_family                                                  |\n",
      "| 24 | Standard Product                                                | standard_product                                                |\n",
      "| 25 | Number of Products per Row                                      | number_of_products_per_row                                      |\n",
      "| 26 | Number of B-Partners per Row                                    | number_of_b-partners_per_row                                    |\n",
      "| 27 | Number of Policies (Written)                                    | number_of_policies_(written)                                    |\n",
      "| 28 | Units of Risk (Written)                                         | units_of_risk_(written)                                         |\n",
      "| 29 | Written Revenues net of Taxes                                   | written_revenues_net_of_taxes                                   |\n",
      "| 30 | Written Revenues                                                | written_revenues                                                |\n",
      "| 31 | Number of Policies (Earned)                                     | number_of_policies_(earned)                                     |\n",
      "| 32 | Units of Risk (Earned)                                          | units_of_risk_(earned)                                          |\n",
      "| 33 | Earned Revenues net of Taxes                                    | earned_revenues_net_of_taxes                                    |\n",
      "| 34 | Earned Revenues                                                 | earned_revenues                                                 |\n",
      "| 35 | Earned Base Commissions                                         | earned_base_commissions                                         |\n",
      "| 36 | Earned Over-Commissions                                         | earned_over-commissions                                         |\n",
      "| 37 | Upfront Cash Payments                                           | upfront_cash_payments                                           |\n",
      "| 38 | Total Compensation                                              | total_compensation                                              |\n",
      "| 39 | Number of Claims (Paid + OCR + IBNR)                            | number_of_claims_(paid_+_ocr_+_ibnr)                            |\n",
      "| 40 | Number of Open Claims                                           | number_of_open_claims                                           |\n",
      "| 41 | Open Claims %                                                   | open_claims_%                                                   |\n",
      "| 42 | Number of Persons Involved in Claims (Paid + OCR + IBNR)        | number_of_persons_involved_in_claims_(paid_+_ocr_+_ibnr)        |\n",
      "| 43 | Paid Claims                                                     | paid_claims                                                     |\n",
      "| 44 | OCR + IBNR                                                      | ocr_+_ibnr                                                      |\n",
      "| 45 | Actual Incurred Losses (Paid + OCR + IBNR)                      | actual_incurred_losses_(paid_+_ocr_+_ibnr)                      |\n",
      "| 46 | Internal Variable Costs (excl. AZ Tech Fee)                     | internal_variable_costs_(excl._az_tech_fee)                     |\n",
      "| 47 | AZ Tech Fee                                                     | az_tech_fee                                                     |\n",
      "| 48 | Internal Fixed Costs (excl. HQ Fees)                            | internal_fixed_costs_(excl._hq_fees)                            |\n",
      "| 49 | HQ Fees                                                         | hq_fees                                                         |\n",
      "| 50 | Total Expenses                                                  | total_expenses                                                  |\n",
      "| 51 | Frequency (Earned)                                              | frequency_(earned)                                              |\n",
      "| 52 | Severity                                                        | severity                                                        |\n",
      "| 53 | Risk Premium                                                    | risk_premium                                                    |\n",
      "| 54 | Contribution Margin - BU View                                   | contribution_margin_-_bu_view                                   |\n",
      "| 55 | Contribution Margin % on Fixed Costs - BU View                  | contribution_margin_%_on_fixed_costs_-_bu_view                  |\n",
      "| 56 | Contribution Margin % on Earned Revenues net of Taxes - BU View | contribution_margin_%_on_earned_revenues_net_of_taxes_-_bu_view |\n",
      "| 57 | Contribution Margin - HQ View                                   | contribution_margin_-_hq_view                                   |\n",
      "| 58 | Contribution Margin % on Fixed Costs - HQ View                  | contribution_margin_%_on_fixed_costs_-_hq_view                  |\n",
      "| 59 | Contribution Margin % on Earned Revenues net of Taxes - HQ View | contribution_margin_%_on_earned_revenues_net_of_taxes_-_hq_view |\n",
      "| 60 | Loss Ratio                                                      | loss_ratio                                                      |\n",
      "| 61 | Commission Ratio                                                | commission_ratio                                                |\n",
      "| 62 | Expense Ratio                                                   | expense_ratio                                                   |\n",
      "| 63 | Combined Ratio                                                  | combined_ratio                                                  |\n",
      "| 64 | Profit or Loss                                                  | profit_or_loss                                                  |\n",
      "| 65 | Notes                                                           | notes                                                           |\n",
      "| 66 | Unnamed: 65                                                     | unnamed:_65                                                     |\n",
      "| 67 | concat2                                                         | concat2                                                         |\n",
      "| 68 | comsub                                                          | comsub                                                          |\n",
      "| 69 | expsub                                                          | expsub                                                          |\n",
      "| 70 | Reporting Date From INT                                         | reporting_date_from_int                                         |\n",
      "| 71 | Reporting Date To INT                                           | reporting_date_to_int                                           |\n",
      "| 72 | Date of Analysis INT                                            | date_of_analysis_int                                            |\n",
      "| 73 | Selected Fields for Duplicates                                  | selected_fields_for_duplicates                                  |\n",
      "| 74 | % of IBNR on (OCR + IBNR)                                       | %_of_ibnr_on_(ocr_+_ibnr)                                       |\n",
      "| 75 | Unnamed: 66                                                     | unnamed:_66                                                     |\n",
      "| 76 | ibnrsub                                                         | ibnrsub                                                         |\n"
     ]
    }
   ],
   "source": [
    "if run_control > -10:\n",
    "    disp = {\"Original\": input.columns, \"Transformed\": trandata.columns}\n",
    "\n",
    "    disp = pd.DataFrame(disp)\n",
    "\n",
    "    print(disp.to_markdown())\n",
    "else:\n",
    "    print(\"Skipped Transformation Report 1\")"
   ]
  },
  {
   "cell_type": "markdown",
   "id": "c21571de",
   "metadata": {
    "papermill": {
     "duration": 0.341457,
     "end_time": "2021-05-25T19:37:56.448285",
     "exception": false,
     "start_time": "2021-05-25T19:37:56.106828",
     "status": "completed"
    },
    "tags": []
   },
   "source": [
    "#### Remove rows with null business units\n"
   ]
  },
  {
   "cell_type": "code",
   "execution_count": 13,
   "id": "0a8f4851",
   "metadata": {
    "execution": {
     "iopub.execute_input": "2021-05-25T19:37:57.145948Z",
     "iopub.status.busy": "2021-05-25T19:37:57.139946Z",
     "iopub.status.idle": "2021-05-25T19:37:57.161946Z",
     "shell.execute_reply": "2021-05-25T19:37:57.163946Z"
    },
    "papermill": {
     "duration": 0.375277,
     "end_time": "2021-05-25T19:37:57.164954",
     "exception": false,
     "start_time": "2021-05-25T19:37:56.789677",
     "status": "completed"
    },
    "pycharm": {
     "name": "#%%\n"
    },
    "tags": []
   },
   "outputs": [],
   "source": [
    "# todo, remove this from read file\n",
    "trandata = trandata[trandata.business_unit.notnull()]"
   ]
  },
  {
   "cell_type": "markdown",
   "id": "c4893cce",
   "metadata": {
    "papermill": {
     "duration": 0.356999,
     "end_time": "2021-05-25T19:37:57.870660",
     "exception": false,
     "start_time": "2021-05-25T19:37:57.513661",
     "status": "completed"
    },
    "tags": []
   },
   "source": [
    "#### Update Verification 2"
   ]
  },
  {
   "cell_type": "code",
   "execution_count": 14,
   "id": "8de6976d",
   "metadata": {
    "execution": {
     "iopub.execute_input": "2021-05-25T19:37:58.544051Z",
     "iopub.status.busy": "2021-05-25T19:37:58.530046Z",
     "iopub.status.idle": "2021-05-25T19:37:58.612055Z",
     "shell.execute_reply": "2021-05-25T19:37:58.616048Z"
    },
    "papermill": {
     "duration": 0.421841,
     "end_time": "2021-05-25T19:37:58.617053",
     "exception": false,
     "start_time": "2021-05-25T19:37:58.195212",
     "status": "completed"
    },
    "pycharm": {
     "name": "#%%\n"
    },
    "tags": []
   },
   "outputs": [
    {
     "name": "stdout",
     "output_type": "stream",
     "text": [
      "Row Counts\n",
      "|    | Business Unit   |   Original |   Transformed |\n",
      "|---:|:----------------|-----------:|--------------:|\n",
      "|  0 | AU              |         85 |            85 |\n",
      "|  1 | CA              |         17 |            17 |\n",
      "|  2 | CH              |       3187 |          3187 |\n",
      "|  3 | ES              |         28 |            28 |\n",
      "|  4 | GR              |         15 |            15 |\n",
      "|  5 | IT              |        100 |           100 |\n",
      "|  6 | PT              |         39 |            39 |\n"
     ]
    }
   ],
   "source": [
    "if run_control > -10:\n",
    "\n",
    "    ibus = input.groupby(['Business Unit']).count()\n",
    "    ibus = ibus.reset_index()\n",
    "    tbus = trandata.groupby(['business_unit']).count()\n",
    "    tbus = tbus.reset_index()\n",
    "\n",
    "    compdata = pd.merge(ibus, tbus, left_on='Business Unit', right_on='business_unit', how='left')\n",
    "\n",
    "    disp = {\"Business Unit\": compdata['Business Unit'], \"Original\": compdata['Earned Revenues net of Taxes'],\n",
    "            \"Transformed\": compdata['earned_revenues_net_of_taxes']}\n",
    "\n",
    "    disp = pd.DataFrame(disp)\n",
    "\n",
    "    print(\"Row Counts\")\n",
    "    print(disp.to_markdown())\n",
    "    \n",
    "else:\n",
    "    \n",
    "    print(\"Skipped Transformation Report 2\")\n"
   ]
  },
  {
   "cell_type": "markdown",
   "id": "c224bdae",
   "metadata": {
    "papermill": {
     "duration": 0.318668,
     "end_time": "2021-05-25T19:37:59.273186",
     "exception": false,
     "start_time": "2021-05-25T19:37:58.954518",
     "status": "completed"
    },
    "tags": []
   },
   "source": [
    "#### Swap  nulls for \"Not Provided\" in 'Sub Lob' and 'Distribution Channel'"
   ]
  },
  {
   "cell_type": "code",
   "execution_count": 15,
   "id": "5a4773e2",
   "metadata": {
    "execution": {
     "iopub.execute_input": "2021-05-25T19:37:59.991368Z",
     "iopub.status.busy": "2021-05-25T19:37:59.972357Z",
     "iopub.status.idle": "2021-05-25T19:38:00.004355Z",
     "shell.execute_reply": "2021-05-25T19:38:00.003355Z"
    },
    "papermill": {
     "duration": 0.375136,
     "end_time": "2021-05-25T19:38:00.004355",
     "exception": false,
     "start_time": "2021-05-25T19:37:59.629219",
     "status": "completed"
    },
    "pycharm": {
     "name": "#%%\n"
    },
    "tags": []
   },
   "outputs": [],
   "source": [
    "mults = trandata['sub_lob'][trandata.sub_lob.replace(nan, 'Not Provided').str.contains(',', case=False)]\n",
    "mults = mults.unique()\n",
    "\n",
    "trandata['sub_lob'] = trandata['sub_lob'].fillna('Not Provided')\n",
    "trandata['sub_lob'] = trandata['sub_lob'].replace('', 'Not Provided')\n",
    "trandata['distribution_channel'] = trandata['distribution_channel'].replace('', 'Not Provided').fillna('Not Provided')"
   ]
  },
  {
   "cell_type": "markdown",
   "id": "00a6b6f0",
   "metadata": {
    "papermill": {
     "duration": 0.373371,
     "end_time": "2021-05-25T19:38:00.792580",
     "exception": false,
     "start_time": "2021-05-25T19:38:00.419209",
     "status": "completed"
    },
    "tags": []
   },
   "source": [
    "#### Replace multiple entries in \"Sub Lob\" to \"Multiple\""
   ]
  },
  {
   "cell_type": "code",
   "execution_count": 16,
   "id": "12579f35",
   "metadata": {
    "execution": {
     "iopub.execute_input": "2021-05-25T19:38:01.560766Z",
     "iopub.status.busy": "2021-05-25T19:38:01.534245Z",
     "iopub.status.idle": "2021-05-25T19:38:01.567768Z",
     "shell.execute_reply": "2021-05-25T19:38:01.569777Z"
    },
    "papermill": {
     "duration": 0.415601,
     "end_time": "2021-05-25T19:38:01.569777",
     "exception": false,
     "start_time": "2021-05-25T19:38:01.154176",
     "status": "completed"
    },
    "pycharm": {
     "name": "#%%\n"
    },
    "tags": []
   },
   "outputs": [],
   "source": [
    "for i in mults:\n",
    "    trandata['sub_lob'] = trandata['sub_lob'].replace(i, 'Multiple')\n",
    "\n",
    "# todo automate figuring out which fields fx rates should be applied to somehow"
   ]
  },
  {
   "cell_type": "markdown",
   "id": "8775ee0d",
   "metadata": {
    "papermill": {
     "duration": 0.37607,
     "end_time": "2021-05-25T19:38:02.713191",
     "exception": false,
     "start_time": "2021-05-25T19:38:02.337121",
     "status": "completed"
    },
    "tags": []
   },
   "source": [
    "#### Update Verification 3"
   ]
  },
  {
   "cell_type": "code",
   "execution_count": 17,
   "id": "d4dcdea1",
   "metadata": {
    "execution": {
     "iopub.execute_input": "2021-05-25T19:38:03.503309Z",
     "iopub.status.busy": "2021-05-25T19:38:03.492303Z",
     "iopub.status.idle": "2021-05-25T19:38:03.805090Z",
     "shell.execute_reply": "2021-05-25T19:38:03.808095Z"
    },
    "papermill": {
     "duration": 0.734843,
     "end_time": "2021-05-25T19:38:03.808095",
     "exception": false,
     "start_time": "2021-05-25T19:38:03.073252",
     "status": "completed"
    },
    "pycharm": {
     "name": "#%%\n"
    },
    "tags": []
   },
   "outputs": [],
   "source": [
    "if run_control > -10:\n",
    "\n",
    "    ibus = input.groupby(['Sub LOB']).sum()\n",
    "    ibus = ibus.reset_index()\n",
    "    tbus = trandata.groupby(['sub_lob']).sum()\n",
    "    tbus = tbus.reset_index()\n",
    "\n",
    "    compdatasublob = pd.merge(ibus, tbus, left_on='Sub LOB', right_on='sub_lob', how='outer')\n",
    "\n",
    "    disp1 = pd.DataFrame(\n",
    "        {'Original Sub LOB': compdatasublob['Sub LOB'], 'Transformed Sub LOB': compdatasublob['sub_lob'],\n",
    "         \"Original\": compdatasublob['Earned Revenues net of Taxes'] / 1000,\n",
    "         \"Transformed\": compdatasublob['earned_revenues_net_of_taxes'] / 1000})\n",
    "\n",
    "\n",
    "\n",
    "    tots1 = pd.DataFrame({'Original Total': (input['Earned Revenues net of Taxes']).sum() / 10000,\n",
    "                          \"Transformed Total\": (compdatasublob['earned_revenues_net_of_taxes']).sum() / 10000},\n",
    "                         index=[0])\n",
    "else:\n",
    "    print(\"Skipped Transformation Report 2\")"
   ]
  },
  {
   "cell_type": "markdown",
   "id": "d0635688",
   "metadata": {
    "papermill": {
     "duration": 0.375362,
     "end_time": "2021-05-25T19:38:04.540086",
     "exception": false,
     "start_time": "2021-05-25T19:38:04.164724",
     "status": "completed"
    },
    "tags": []
   },
   "source": [
    "#### Make cflds, a list of currency fields, force to float, coercion is null or string to 0"
   ]
  },
  {
   "cell_type": "code",
   "execution_count": 18,
   "id": "f0f98a38",
   "metadata": {
    "execution": {
     "iopub.execute_input": "2021-05-25T19:38:05.327717Z",
     "iopub.status.busy": "2021-05-25T19:38:05.326717Z",
     "iopub.status.idle": "2021-05-25T19:38:05.609306Z",
     "shell.execute_reply": "2021-05-25T19:38:05.612306Z"
    },
    "papermill": {
     "duration": 0.711847,
     "end_time": "2021-05-25T19:38:05.613306",
     "exception": false,
     "start_time": "2021-05-25T19:38:04.901459",
     "status": "completed"
    },
    "pycharm": {
     "name": "#%%\n"
    },
    "tags": []
   },
   "outputs": [
    {
     "data": {
      "text/plain": [
       "0        1772.4400\n",
       "1       73384.9866\n",
       "2        4193.4300\n",
       "3         874.8900\n",
       "4        3388.4715\n",
       "           ...    \n",
       "3466     1509.1600\n",
       "3467     2164.1100\n",
       "3468      309.7200\n",
       "3469        0.0000\n",
       "3470     1260.0000\n",
       "Name: written_revenues_net_of_taxes, Length: 3471, dtype: float64"
      ]
     },
     "execution_count": 18,
     "metadata": {},
     "output_type": "execute_result"
    },
    {
     "data": {
      "text/plain": [
       "0          0.0000\n",
       "1          0.0000\n",
       "2          0.0000\n",
       "3          0.0000\n",
       "4          0.0000\n",
       "          ...    \n",
       "3466    1644.9844\n",
       "3467    2358.8799\n",
       "3468     337.5948\n",
       "3469       0.0000\n",
       "3470    1373.4000\n",
       "Name: written_revenues, Length: 3471, dtype: float64"
      ]
     },
     "execution_count": 18,
     "metadata": {},
     "output_type": "execute_result"
    },
    {
     "data": {
      "text/plain": [
       "0         5524.7718\n",
       "1       517217.3011\n",
       "2        12578.4759\n",
       "3          874.8900\n",
       "4        11928.4636\n",
       "           ...     \n",
       "3466      1576.8600\n",
       "3467      2085.8000\n",
       "3468        16.5700\n",
       "3469        68.0000\n",
       "3470      1260.0000\n",
       "Name: earned_revenues_net_of_taxes, Length: 3471, dtype: float64"
      ]
     },
     "execution_count": 18,
     "metadata": {},
     "output_type": "execute_result"
    },
    {
     "data": {
      "text/plain": [
       "0          0.0000\n",
       "1          0.0000\n",
       "2          0.0000\n",
       "3          0.0000\n",
       "4          0.0000\n",
       "          ...    \n",
       "3466    1718.7774\n",
       "3467    2273.5220\n",
       "3468      18.0613\n",
       "3469      74.1200\n",
       "3470    1373.4000\n",
       "Name: earned_revenues, Length: 3471, dtype: float64"
      ]
     },
     "execution_count": 18,
     "metadata": {},
     "output_type": "execute_result"
    },
    {
     "data": {
      "text/plain": [
       "0          411.4924\n",
       "1       186987.7598\n",
       "2         1798.8306\n",
       "3          171.8100\n",
       "4         4812.8102\n",
       "           ...     \n",
       "3466         0.0000\n",
       "3467         0.0000\n",
       "3468         0.0000\n",
       "3469         0.0000\n",
       "3470         0.0000\n",
       "Name: earned_base_commissions, Length: 3471, dtype: float64"
      ]
     },
     "execution_count": 18,
     "metadata": {},
     "output_type": "execute_result"
    },
    {
     "data": {
      "text/plain": [
       "0       0.0\n",
       "1       0.0\n",
       "2       0.0\n",
       "3       0.0\n",
       "4       0.0\n",
       "       ... \n",
       "3466    0.0\n",
       "3467    0.0\n",
       "3468    0.0\n",
       "3469    0.0\n",
       "3470    0.0\n",
       "Name: earned_over-commissions, Length: 3471, dtype: float64"
      ]
     },
     "execution_count": 18,
     "metadata": {},
     "output_type": "execute_result"
    },
    {
     "data": {
      "text/plain": [
       "0       0.0\n",
       "1       0.0\n",
       "2       0.0\n",
       "3       0.0\n",
       "4       0.0\n",
       "       ... \n",
       "3466    0.0\n",
       "3467    0.0\n",
       "3468    0.0\n",
       "3469    0.0\n",
       "3470    0.0\n",
       "Name: upfront_cash_payments, Length: 3471, dtype: float64"
      ]
     },
     "execution_count": 18,
     "metadata": {},
     "output_type": "execute_result"
    },
    {
     "data": {
      "text/plain": [
       "0          411.4924\n",
       "1       186987.7598\n",
       "2         1798.8306\n",
       "3          171.8100\n",
       "4         4812.8102\n",
       "           ...     \n",
       "3466         0.0000\n",
       "3467         0.0000\n",
       "3468         0.0000\n",
       "3469         0.0000\n",
       "3470         0.0000\n",
       "Name: total_compensation, Length: 3471, dtype: float64"
      ]
     },
     "execution_count": 18,
     "metadata": {},
     "output_type": "execute_result"
    },
    {
     "data": {
      "text/plain": [
       "0          841.6000\n",
       "1       179952.5261\n",
       "2            0.0000\n",
       "3            0.0000\n",
       "4          650.3800\n",
       "           ...     \n",
       "3466        69.4500\n",
       "3467         0.0000\n",
       "3468       630.1200\n",
       "3469         0.0000\n",
       "3470         0.0000\n",
       "Name: paid_claims, Length: 3471, dtype: float64"
      ]
     },
     "execution_count": 18,
     "metadata": {},
     "output_type": "execute_result"
    },
    {
     "data": {
      "text/plain": [
       "0         158.949826\n",
       "1       30986.379636\n",
       "2         284.268956\n",
       "3          16.847558\n",
       "4         317.166200\n",
       "            ...     \n",
       "3466     1472.110000\n",
       "3467      608.720000\n",
       "3468        0.000000\n",
       "3469        0.000000\n",
       "3470        0.000000\n",
       "Name: ocr_+_ibnr, Length: 3471, dtype: float64"
      ]
     },
     "execution_count": 18,
     "metadata": {},
     "output_type": "execute_result"
    },
    {
     "data": {
      "text/plain": [
       "0         1000.549826\n",
       "1       210938.905736\n",
       "2          284.268956\n",
       "3           16.847558\n",
       "4          967.546200\n",
       "            ...      \n",
       "3466      1541.560000\n",
       "3467       608.720000\n",
       "3468       630.120000\n",
       "3469         0.000000\n",
       "3470         0.000000\n",
       "Name: actual_incurred_losses_(paid_+_ocr_+_ibnr), Length: 3471, dtype: float64"
      ]
     },
     "execution_count": 18,
     "metadata": {},
     "output_type": "execute_result"
    },
    {
     "data": {
      "text/plain": [
       "0         930.696166\n",
       "1       91986.087535\n",
       "2        1076.945043\n",
       "3          55.083911\n",
       "4        1236.770428\n",
       "            ...     \n",
       "3466      433.790006\n",
       "3467      341.095979\n",
       "3468      305.054137\n",
       "3469       33.114511\n",
       "3470      835.265953\n",
       "Name: internal_variable_costs_(excl._az_tech_fee), Length: 3471, dtype: float64"
      ]
     },
     "execution_count": 18,
     "metadata": {},
     "output_type": "execute_result"
    },
    {
     "data": {
      "text/plain": [
       "0         315.488111\n",
       "1       29535.321094\n",
       "2         718.284798\n",
       "3          49.959963\n",
       "4         681.166314\n",
       "            ...     \n",
       "3466       45.413568\n",
       "3467       60.071040\n",
       "3468        0.477216\n",
       "3469        1.958400\n",
       "3470       36.288000\n",
       "Name: az_tech_fee, Length: 3471, dtype: float64"
      ]
     },
     "execution_count": 18,
     "metadata": {},
     "output_type": "execute_result"
    },
    {
     "data": {
      "text/plain": [
       "0         1474.395339\n",
       "1       145930.890587\n",
       "2         3144.451670\n",
       "3          151.527925\n",
       "4         2633.394389\n",
       "            ...      \n",
       "3466       272.796780\n",
       "3467       360.843400\n",
       "3468         2.866610\n",
       "3469        19.176000\n",
       "3470       355.320000\n",
       "Name: internal_fixed_costs_(excl._hq_fees), Length: 3471, dtype: float64"
      ]
     },
     "execution_count": 18,
     "metadata": {},
     "output_type": "execute_result"
    },
    {
     "data": {
      "text/plain": [
       "0         546.657015\n",
       "1       54435.025836\n",
       "2        1298.674892\n",
       "3          51.138343\n",
       "4        1329.630483\n",
       "            ...     \n",
       "3466       96.976890\n",
       "3467      128.276700\n",
       "3468        1.019055\n",
       "3469        4.182000\n",
       "3470       63.000000\n",
       "Name: hq_fees, Length: 3471, dtype: float64"
      ]
     },
     "execution_count": 18,
     "metadata": {},
     "output_type": "execute_result"
    },
    {
     "data": {
      "text/plain": [
       "0         3267.236631\n",
       "1       321887.325052\n",
       "2         6238.356404\n",
       "3          307.710141\n",
       "4         5880.961615\n",
       "            ...      \n",
       "3466       848.977244\n",
       "3467       890.287119\n",
       "3468       309.417018\n",
       "3469        58.430911\n",
       "3470      1289.873953\n",
       "Name: total_expenses, Length: 3471, dtype: float64"
      ]
     },
     "execution_count": 18,
     "metadata": {},
     "output_type": "execute_result"
    },
    {
     "data": {
      "text/plain": [
       "0       0.0\n",
       "1       0.0\n",
       "2       0.0\n",
       "3       0.0\n",
       "4       0.0\n",
       "       ... \n",
       "3466    0.0\n",
       "3467    0.0\n",
       "3468    0.0\n",
       "3469    0.0\n",
       "3470    0.0\n",
       "Name: risk_premium, Length: 3471, dtype: float64"
      ]
     },
     "execution_count": 18,
     "metadata": {},
     "output_type": "execute_result"
    },
    {
     "data": {
      "text/plain": [
       "0          845.492943\n",
       "1      -202596.689488\n",
       "2         4257.019941\n",
       "3          378.522301\n",
       "4          267.145586\n",
       "            ...      \n",
       "3466      -813.677244\n",
       "3467       586.792881\n",
       "3468      -922.967018\n",
       "3469         9.569089\n",
       "3470       -29.873953\n",
       "Name: profit_or_loss, Length: 3471, dtype: float64"
      ]
     },
     "execution_count": 18,
     "metadata": {},
     "output_type": "execute_result"
    },
    {
     "data": {
      "text/plain": [
       "0       2866.545298\n",
       "1      -2230.773065\n",
       "2       8700.146503\n",
       "3        581.188569\n",
       "4       4230.170458\n",
       "           ...     \n",
       "3466    -443.903574\n",
       "3467    1075.912981\n",
       "3468    -919.081353\n",
       "3469      32.927089\n",
       "3470     388.446047\n",
       "Name: contribution_margin_-_hq_view, Length: 3471, dtype: float64"
      ]
     },
     "execution_count": 18,
     "metadata": {},
     "output_type": "execute_result"
    },
    {
     "data": {
      "text/plain": [
       "0        2319.888282\n",
       "1      -56665.798901\n",
       "2        7401.471611\n",
       "3         530.050226\n",
       "4        2900.539975\n",
       "            ...     \n",
       "3466     -540.880464\n",
       "3467      947.636281\n",
       "3468     -920.100408\n",
       "3469       28.745089\n",
       "3470      325.446047\n",
       "Name: contribution_margin_-_bu_view, Length: 3471, dtype: float64"
      ]
     },
     "execution_count": 18,
     "metadata": {},
     "output_type": "execute_result"
    }
   ],
   "source": [
    "cflds = ['written_revenues_net_of_taxes', 'written_revenues', 'earned_revenues_net_of_taxes',\n",
    "         'earned_revenues', 'earned_base_commissions', 'earned_over-commissions', 'upfront_cash_payments',\n",
    "         'total_compensation', 'paid_claims', 'ocr_+_ibnr', 'actual_incurred_losses_(paid_+_ocr_+_ibnr)',\n",
    "         'internal_variable_costs_(excl._az_tech_fee)', 'az_tech_fee', 'internal_fixed_costs_(excl._hq_fees)',\n",
    "         'hq_fees', 'total_expenses', 'risk_premium', 'profit_or_loss', 'contribution_margin_-_hq_view',\n",
    "         'contribution_margin_-_bu_view', ]\n",
    "\n",
    "for i in cflds:\n",
    "    pd.to_numeric(trandata[i], errors='coerce')"
   ]
  },
  {
   "cell_type": "markdown",
   "id": "0b861899",
   "metadata": {
    "papermill": {
     "duration": 0.360006,
     "end_time": "2021-05-25T19:38:06.322017",
     "exception": false,
     "start_time": "2021-05-25T19:38:05.962011",
     "status": "completed"
    },
    "tags": []
   },
   "source": [
    "#### Turn selected columns values uppercase"
   ]
  },
  {
   "cell_type": "code",
   "execution_count": 19,
   "id": "a06b8532",
   "metadata": {
    "execution": {
     "iopub.execute_input": "2021-05-25T19:38:07.605605Z",
     "iopub.status.busy": "2021-05-25T19:38:07.570605Z",
     "iopub.status.idle": "2021-05-25T19:38:07.627607Z",
     "shell.execute_reply": "2021-05-25T19:38:07.629607Z"
    },
    "papermill": {
     "duration": 0.785841,
     "end_time": "2021-05-25T19:38:07.629607",
     "exception": false,
     "start_time": "2021-05-25T19:38:06.843766",
     "status": "completed"
    },
    "pycharm": {
     "name": "#%%\n"
    },
    "tags": []
   },
   "outputs": [],
   "source": [
    "validcols = ['business_unit', 'currency', 'region', 'type_of_analysis', 'type_of_business', 'type_of_account', 'lob',\n",
    "             'distribution_type', 'distribution_channel', ]\n",
    "\n",
    "for c in validcols:\n",
    "    trandata[c] = trandata[c].astype(str)\n",
    "    trandata[c] = trandata[c].apply(lambda x: x.upper())"
   ]
  },
  {
   "cell_type": "markdown",
   "id": "d893469a",
   "metadata": {
    "papermill": {
     "duration": 0.368864,
     "end_time": "2021-05-25T19:38:08.372052",
     "exception": false,
     "start_time": "2021-05-25T19:38:08.003188",
     "status": "completed"
    },
    "tags": []
   },
   "source": [
    "#### Read the values from the Global Attribute Catalog, one field per loop iterance and xlsx sheet."
   ]
  },
  {
   "cell_type": "code",
   "execution_count": 20,
   "id": "114da43e",
   "metadata": {
    "execution": {
     "iopub.execute_input": "2021-05-25T19:38:09.570335Z",
     "iopub.status.busy": "2021-05-25T19:38:09.566333Z",
     "iopub.status.idle": "2021-05-25T19:38:13.698195Z",
     "shell.execute_reply": "2021-05-25T19:38:13.699195Z"
    },
    "papermill": {
     "duration": 4.941282,
     "end_time": "2021-05-25T19:38:13.699195",
     "exception": false,
     "start_time": "2021-05-25T19:38:08.757913",
     "status": "completed"
    },
    "pycharm": {
     "name": "#%%\n"
    },
    "tags": []
   },
   "outputs": [],
   "source": [
    "checktabs = []\n",
    "\n",
    "\n",
    "\n",
    "for s in validcols:\n",
    "    t = pd.read_excel(atcat, sheet_name = s )\n",
    "    checktabs.append([[s], [t]])\n",
    "\n",
    "gacout = []\n"
   ]
  },
  {
   "cell_type": "markdown",
   "id": "7d3ab364",
   "metadata": {
    "papermill": {
     "duration": 0.325661,
     "end_time": "2021-05-25T19:38:14.349859",
     "exception": false,
     "start_time": "2021-05-25T19:38:14.024198",
     "status": "completed"
    },
    "tags": []
   },
   "source": [
    "#### Compare the lists from the previous step and each field. Find those that do not match, make lists of unique values\n",
    "#### replace any that have replacements in GPPM inoout already, make a list of values without any matches.\n"
   ]
  },
  {
   "cell_type": "code",
   "execution_count": 21,
   "id": "22918fbf",
   "metadata": {
    "execution": {
     "iopub.execute_input": "2021-05-25T19:38:15.053942Z",
     "iopub.status.busy": "2021-05-25T19:38:15.032943Z",
     "iopub.status.idle": "2021-05-25T19:38:15.179671Z",
     "shell.execute_reply": "2021-05-25T19:38:15.180798Z"
    },
    "papermill": {
     "duration": 0.491637,
     "end_time": "2021-05-25T19:38:15.181667",
     "exception": false,
     "start_time": "2021-05-25T19:38:14.690030",
     "status": "completed"
    },
    "pycharm": {
     "name": "#%%\n"
    },
    "tags": []
   },
   "outputs": [],
   "source": [
    "# todo rewrite this beginner code to use dicts and simplify\n",
    "\n",
    "for u in enumerate(validcols):\n",
    "    trandata.loc[0:len(trandata[u[1]]), u[1]] = trandata[u[1]].replace(\n",
    "        [checktabs[u[0]][1][0]['Upper_Vers']][0].to_numpy(), [checktabs[u[0]][1][0][u[1]]][0].to_numpy())\n",
    "    d = list(checktabs[u[0]][1][0]['Non Matches'].drop_duplicates().dropna().append(\n",
    "        pd.Series(trandata[u[1]][~trandata[u[1]].isin(checktabs[u[0]][1][0][u[1]])].drop_duplicates().dropna()),\n",
    "        ignore_index=True))\n",
    "    g = [checktabs[u[0]][1][0][str(u[1])], checktabs[u[0]][1][0]['Upper_Vers'], checktabs[u[0]][1][0]['Unnamed: 2'],\n",
    "         pd.Series(d, dtype='object').drop_duplicates().dropna(), checktabs[u[0]][1][0]['User Defined Corrections']]\n",
    "    gacout.append(list([g, u[1]]))"
   ]
  },
  {
   "cell_type": "markdown",
   "id": "c1c989dc",
   "metadata": {
    "papermill": {
     "duration": 0.339539,
     "end_time": "2021-05-25T19:38:15.903017",
     "exception": false,
     "start_time": "2021-05-25T19:38:15.563478",
     "status": "completed"
    },
    "tags": []
   },
   "source": [
    "#### Rebuild the GPPM input file, with the replaced values in the bad values column of each sheet.\n",
    "#### Step one, make and xlsx with a notes page."
   ]
  },
  {
   "cell_type": "code",
   "execution_count": 22,
   "id": "1649c89e",
   "metadata": {
    "execution": {
     "iopub.execute_input": "2021-05-25T19:38:16.584015Z",
     "iopub.status.busy": "2021-05-25T19:38:16.580342Z",
     "iopub.status.idle": "2021-05-25T19:38:17.035824Z",
     "shell.execute_reply": "2021-05-25T19:38:17.037816Z"
    },
    "papermill": {
     "duration": 0.805676,
     "end_time": "2021-05-25T19:38:17.037816",
     "exception": false,
     "start_time": "2021-05-25T19:38:16.232140",
     "status": "completed"
    },
    "pycharm": {
     "name": "#%%\n"
    },
    "tags": []
   },
   "outputs": [],
   "source": [
    "w = ExcelWriter(atcat)\n",
    "notes = pd.DataFrame([\n",
    "    \"This page is script generated during the source creation process. Do not edit these notes directly in the file as they will be overwritten\",\n",
    "    \"\", \"\"\n",
    "    , \" Purpose :     to manage attribute entries in the data collection process, this workbook documents and organizes all entries and also allows a user to swap those that do \\\n",
    "                        not conform to validation rules  with an entry of their choice\",\n",
    "    \" Each attribute field that requires validation has its own sheet tab\", \"\"\n",
    "    , \"Column A:    of each sheet tab contains all unique acceptable responses\",\n",
    "    \"Column B:    an upper case version, to wrangle case mismatches\",\n",
    "    \"Column D:   is generated by the process, this is a list of an uppercase version of each unique unacceptable response, this builds over time with each collection\",\n",
    "    \"Column E:   you can enter accpetable response here (sase sensitive) to be swapped out in the data, save and exit this file, run the process again and they will be replaced\"\n",
    "    , \"\", \"\", \"Gavin Harmon 9 - July -2020\"])\n",
    "\n",
    "notes.columns = ['Notes']\n",
    "\n",
    "notes.to_excel(w, index=False, sheet_name=\"Notes\")"
   ]
  },
  {
   "cell_type": "markdown",
   "id": "afb80f6f",
   "metadata": {
    "papermill": {
     "duration": 0.330995,
     "end_time": "2021-05-25T19:38:17.709718",
     "exception": false,
     "start_time": "2021-05-25T19:38:17.378723",
     "status": "completed"
    },
    "tags": []
   },
   "source": [
    "#### Step two, build the new sheets for each validcols field"
   ]
  },
  {
   "cell_type": "code",
   "execution_count": 23,
   "id": "0b84c8e3",
   "metadata": {
    "execution": {
     "iopub.execute_input": "2021-05-25T19:38:18.461740Z",
     "iopub.status.busy": "2021-05-25T19:38:18.417741Z",
     "iopub.status.idle": "2021-05-25T19:38:19.065383Z",
     "shell.execute_reply": "2021-05-25T19:38:19.067388Z"
    },
    "papermill": {
     "duration": 1.017828,
     "end_time": "2021-05-25T19:38:19.067388",
     "exception": false,
     "start_time": "2021-05-25T19:38:18.049560",
     "status": "completed"
    },
    "pycharm": {
     "name": "#%%\n"
    },
    "tags": []
   },
   "outputs": [],
   "source": [
    "for v in enumerate(validcols):\n",
    "    df = pd.DataFrame(gacout[v[0]][0], index=[f\"{v[1]}\", 'Upper_Vers', '', 'Non Matches', 'User Defined Corrections']).T\n",
    "    df.to_excel(w, index=False, sheet_name=gacout[v[0]][1])\n",
    "w.save()"
   ]
  },
  {
   "cell_type": "markdown",
   "id": "b9bc1654",
   "metadata": {
    "papermill": {
     "duration": 0.390523,
     "end_time": "2021-05-25T19:38:19.792895",
     "exception": false,
     "start_time": "2021-05-25T19:38:19.402372",
     "status": "completed"
    },
    "tags": []
   },
   "source": [
    "#### Step three, read these lists back in, make the necessary replacements in the DataFrame"
   ]
  },
  {
   "cell_type": "code",
   "execution_count": 24,
   "id": "0e564b6a",
   "metadata": {
    "execution": {
     "iopub.execute_input": "2021-05-25T19:38:20.499165Z",
     "iopub.status.busy": "2021-05-25T19:38:20.493165Z",
     "iopub.status.idle": "2021-05-25T19:38:23.502935Z",
     "shell.execute_reply": "2021-05-25T19:38:23.503936Z"
    },
    "papermill": {
     "duration": 3.394038,
     "end_time": "2021-05-25T19:38:23.504935",
     "exception": false,
     "start_time": "2021-05-25T19:38:20.110897",
     "status": "completed"
    },
    "pycharm": {
     "name": "#%%\n"
    },
    "tags": []
   },
   "outputs": [],
   "source": [
    "for s in validcols:\n",
    "    t = pd.read_excel(f'//hecate/Insurance_US/Product Development/Product Management/Global PPM/Reporting/Data Collection/Production/{str(percode)}\\\\{str(percode)}_Attribute_Catalog.xlsx', sheet_name = s )\n",
    "    checktabs.append([[s],[t]])"
   ]
  },
  {
   "cell_type": "code",
   "execution_count": 25,
   "id": "9686559a",
   "metadata": {
    "execution": {
     "iopub.execute_input": "2021-05-25T19:38:24.185957Z",
     "iopub.status.busy": "2021-05-25T19:38:24.178960Z",
     "iopub.status.idle": "2021-05-25T19:38:24.276550Z",
     "shell.execute_reply": "2021-05-25T19:38:24.277548Z"
    },
    "papermill": {
     "duration": 0.443646,
     "end_time": "2021-05-25T19:38:24.278548",
     "exception": false,
     "start_time": "2021-05-25T19:38:23.834902",
     "status": "completed"
    },
    "pycharm": {
     "name": "#%%\n"
    },
    "tags": []
   },
   "outputs": [],
   "source": [
    "gacout = []\n",
    "\n",
    "for u in enumerate(validcols):\n",
    "    trandata.loc[0:len(trandata[u[1]]), u[1]] = trandata[u[1]].replace(\n",
    "        [checktabs[u[0]][1][0]['Non Matches']][0].to_numpy(),\n",
    "        [checktabs[u[0]][1][0]['User Defined Corrections']][0].to_numpy())\n",
    "repper = trandata[['business_unit', 'reporting_date_to']]\n",
    "repper = pd.DataFrame({\"business_unit\": (repper['business_unit']), \"YearMo\": (repper['reporting_date_to'])})\n",
    "minrep = repper.groupby(['business_unit']).max()\n",
    "a = trandata['business_unit'].replace(list(minrep.axes[0]), minrep.get(\"YearMo\"))\n",
    "trandata['rep_date'] = a\n",
    "trandata.loc[0:len(trandata['business_partner_id_number']), 'business_partner_id_number'] = trandata[\n",
    "    'business_partner_id_number'].replace('0', 'Not Provided').fillna('Not Provided')\n",
    "trandata.loc[0:len(trandata['product_id_number']), 'product_id_number'] = trandata['product_id_number'].replace('0',\n",
    "                                                                                                                'Not Provided').replace(\n",
    "    '-', 'Not Provided').fillna('Not Provided')\n",
    "trandata.loc[0:len(trandata['sub_lob']), 'sub_lob'] = trandata['sub_lob'].replace('0', 'Not Provided').replace('-',\n",
    "                                                                                                               'Not Provided').replace(\n",
    "    'Other', 'Not Provided').fillna('Not Provided')"
   ]
  },
  {
   "cell_type": "markdown",
   "id": "d24e69df",
   "metadata": {
    "papermill": {
     "duration": 0.346569,
     "end_time": "2021-05-25T19:38:24.978620",
     "exception": false,
     "start_time": "2021-05-25T19:38:24.632051",
     "status": "completed"
    },
    "tags": []
   },
   "source": [
    "#### Evaluate the current state, alert the user if input is needed.\n",
    "- At the end of this process, alert the user with instructions if they need to adjust bad entries for validated fields.\n",
    "\n"
   ]
  },
  {
   "cell_type": "code",
   "execution_count": 26,
   "id": "ed3e37aa",
   "metadata": {
    "execution": {
     "iopub.execute_input": "2021-05-25T19:38:25.790844Z",
     "iopub.status.busy": "2021-05-25T19:38:25.730831Z",
     "iopub.status.idle": "2021-05-25T19:38:25.808842Z",
     "shell.execute_reply": "2021-05-25T19:38:25.810846Z"
    },
    "papermill": {
     "duration": 0.500011,
     "end_time": "2021-05-25T19:38:25.811839",
     "exception": false,
     "start_time": "2021-05-25T19:38:25.311828",
     "status": "completed"
    },
    "tags": []
   },
   "outputs": [],
   "source": [
    "#see above note about converting to dictionaries\n",
    "\n",
    "#Make lists of all the attribute catalog entries that do not have a correction as a list of errors.\n",
    "err_messages = []\n",
    "\n",
    "for idx, i in enumerate(checktabs):\n",
    "    subset_no_nans =  i[1][0][['Non Matches', 'User Defined Corrections']][~i[1][0]['Non Matches'].isna()]\n",
    "    entries = subset_no_nans['Non Matches'][subset_no_nans['User Defined Corrections'].isna()]. tolist()\n",
    "    if len(entries) > 0: \n",
    "        err_messages.append(f'Please deal with bad entries {entries} on tab {i[0][0]} of the Attribute Catalog.')\n",
    "\n",
    "#raise an error to stop the process and give instructions\n",
    "\n",
    "# define Python user-defined exceptions\n",
    "\n",
    "\n",
    "# define Python user-defined exceptions\n",
    "class Error(Exception):\n",
    "    \"\"\"Base class for other exceptions\"\"\"\n",
    "    pass\n",
    "\n",
    "class BadEntriesError(Error):\n",
    "    \"\"\"Raised when the input value is too large\"\"\"\n",
    "    for i in err_messages : print(i)\n",
    "\n",
    "if len(err_messages) > 0:\n",
    "    raise BadEntriesError\n",
    "else:\n",
    "    pass\n",
    "        "
   ]
  },
  {
   "cell_type": "markdown",
   "id": "4238a66b",
   "metadata": {
    "papermill": {
     "duration": 0.347023,
     "end_time": "2021-05-25T19:38:26.517211",
     "exception": false,
     "start_time": "2021-05-25T19:38:26.170188",
     "status": "completed"
    },
    "tags": []
   },
   "source": [
    "#### Remove empty rows, if there is no claims experience and no revenue for a 12 month period, it should not be included"
   ]
  },
  {
   "cell_type": "code",
   "execution_count": 27,
   "id": "e8f4225a",
   "metadata": {
    "execution": {
     "iopub.execute_input": "2021-05-25T19:38:27.209891Z",
     "iopub.status.busy": "2021-05-25T19:38:27.176359Z",
     "iopub.status.idle": "2021-05-25T19:38:27.238881Z",
     "shell.execute_reply": "2021-05-25T19:38:27.239879Z"
    },
    "papermill": {
     "duration": 0.39278,
     "end_time": "2021-05-25T19:38:27.239879",
     "exception": false,
     "start_time": "2021-05-25T19:38:26.847099",
     "status": "completed"
    },
    "pycharm": {
     "name": "#%%\n"
    },
    "tags": []
   },
   "outputs": [],
   "source": [
    "trandata = trandata.loc[(trandata['units_of_risk_(written)'].fillna(0).replace('', 0)\n",
    "                         + trandata['written_revenues_net_of_taxes'].fillna(0).replace('', 0)\n",
    "                         + trandata['written_revenues'].fillna(0).replace('', 0)\n",
    "                         + trandata['number_of_policies_(earned)'].fillna(0).replace('', 0)\n",
    "                         + trandata['units_of_risk_(earned)'].fillna(0).replace('', 0)\n",
    "                         + trandata['earned_revenues_net_of_taxes'].fillna(0).replace('', 0)\n",
    "                         + trandata['earned_revenues'].fillna(0).replace('', 0)\n",
    "                         + trandata['earned_base_commissions'].fillna(0).replace('', 0)\n",
    "                         + trandata['upfront_cash_payments'].fillna(0).replace('', 0)\n",
    "                         + trandata['earned_over-commissions'].fillna(0).replace('', 0)\n",
    "                         + trandata['total_compensation'].fillna(0).replace('', 0)\n",
    "                         + trandata['number_of_claims_(paid_+_ocr_+_ibnr)'].fillna(0).replace('', 0)\n",
    "                         + trandata['number_of_open_claims'].fillna(0).replace('', 0)\n",
    "                         + trandata['open_claims_%'].fillna(0).replace('', 0)\n",
    "                         + trandata['number_of_persons_involved_in_claims_(paid_+_ocr_+_ibnr)'].fillna(0).replace('', 0)\n",
    "                         + trandata['paid_claims'].fillna(0).replace('', 0)\n",
    "                         + trandata['ocr_+_ibnr'].fillna(0).replace('', 0)\n",
    "                         + trandata['actual_incurred_losses_(paid_+_ocr_+_ibnr)'].fillna(0).replace('', 0)\n",
    "                         + trandata['internal_variable_costs_(excl._az_tech_fee)'].fillna(0).replace('', 0)\n",
    "                         + trandata['az_tech_fee'].fillna(0).replace('', 0)\n",
    "                         + trandata['internal_fixed_costs_(excl._hq_fees)'].fillna(0).replace('', 0)\n",
    "                         + trandata['hq_fees'].fillna(0).replace('', 0)\n",
    "                         + trandata['total_expenses'].fillna(0).replace('', 0)\n",
    "                         + trandata['frequency_(earned)'].fillna(0).replace('', 0)\n",
    "                         + trandata['severity'].fillna(0).replace('', 0))\n",
    "                        != 0]"
   ]
  },
  {
   "cell_type": "markdown",
   "id": "df353e47",
   "metadata": {
    "papermill": {
     "duration": 0.341486,
     "end_time": "2021-05-25T19:38:27.926603",
     "exception": false,
     "start_time": "2021-05-25T19:38:27.585117",
     "status": "completed"
    },
    "pycharm": {
     "name": "#%% md\n"
    },
    "tags": []
   },
   "source": [
    "#### Output temp file"
   ]
  },
  {
   "cell_type": "code",
   "execution_count": 28,
   "id": "7be8089d",
   "metadata": {
    "execution": {
     "iopub.execute_input": "2021-05-25T19:38:28.597487Z",
     "iopub.status.busy": "2021-05-25T19:38:28.593486Z",
     "iopub.status.idle": "2021-05-25T19:38:31.963351Z",
     "shell.execute_reply": "2021-05-25T19:38:31.964354Z"
    },
    "papermill": {
     "duration": 3.71571,
     "end_time": "2021-05-25T19:38:31.965349",
     "exception": false,
     "start_time": "2021-05-25T19:38:28.249639",
     "status": "completed"
    },
    "pycharm": {
     "name": "#%%\n"
    },
    "tags": []
   },
   "outputs": [],
   "source": [
    "trandata.to_parquet(\n",
    "    f'//hecate/Insurance_US/Product Development/Product Management/Global PPM/Reporting/Data Collection/Production/{str(percode)}\\\\{str(percode)}.localcur.parquet', engine = \"pyarrow\")\n",
    "\n"
   ]
  },
  {
   "cell_type": "markdown",
   "id": "eefcdf0e",
   "metadata": {
    "papermill": {
     "duration": 0.344134,
     "end_time": "2021-05-25T19:38:32.654011",
     "exception": false,
     "start_time": "2021-05-25T19:38:32.309877",
     "status": "completed"
    },
    "tags": []
   },
   "source": [
    "#### Store the DataFrame for other noteboks to use"
   ]
  },
  {
   "cell_type": "code",
   "execution_count": 29,
   "id": "9bf35ac7",
   "metadata": {
    "execution": {
     "iopub.execute_input": "2021-05-25T19:38:33.340739Z",
     "iopub.status.busy": "2021-05-25T19:38:33.336737Z",
     "iopub.status.idle": "2021-05-25T19:38:33.373813Z",
     "shell.execute_reply": "2021-05-25T19:38:33.374814Z"
    },
    "papermill": {
     "duration": 0.388459,
     "end_time": "2021-05-25T19:38:33.375807",
     "exception": false,
     "start_time": "2021-05-25T19:38:32.987348",
     "status": "completed"
    },
    "tags": []
   },
   "outputs": [
    {
     "name": "stdout",
     "output_type": "stream",
     "text": [
      "Stored 'py_t_df' (DataFrame)\n"
     ]
    }
   ],
   "source": [
    "py_t_df = trandata\n",
    "\n",
    "%store py_t_df\n"
   ]
  }
 ],
 "metadata": {
  "celltoolbar": "Tags",
  "kernelspec": {
   "display_name": "Python 3",
   "language": "python",
   "name": "python3"
  },
  "language_info": {
   "codemirror_mode": {
    "name": "ipython",
    "version": 3
   },
   "file_extension": ".py",
   "mimetype": "text/x-python",
   "name": "python",
   "nbconvert_exporter": "python",
   "pygments_lexer": "ipython3",
   "version": "3.7.6"
  },
  "papermill": {
   "default_parameters": {},
   "duration": 69.123278,
   "end_time": "2021-05-25T19:38:34.402868",
   "environment_variables": {},
   "exception": null,
   "input_path": "pipeline/py_transform.ipynb",
   "output_path": "//hecate/Insurance_US/Product Development/Product Management/Global PPM/Reporting/Data Collection/Pipeline Reporting Scripts/GPMpipeline/instances/2021.Q1\\pipeline\\py_transform05252021152647--live run.ipynb",
   "parameters": {
    "commit_message": "Edited data for Austraila, json 2 parquet and add comments from email. Begin general evaluation of data submissions.",
    "inst_datetime": "05252021152647",
    "percode": "2021.Q1",
    "run_control": 1
   },
   "start_time": "2021-05-25T19:37:25.279590",
   "version": "2.3.3"
  }
 },
 "nbformat": 4,
 "nbformat_minor": 5
}