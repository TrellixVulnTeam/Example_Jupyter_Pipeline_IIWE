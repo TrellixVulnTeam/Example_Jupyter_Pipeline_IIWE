{
 "cells": [
  {
   "cell_type": "markdown",
   "id": "79e733a0",
   "metadata": {
    "papermill": {
     "duration": 0.409518,
     "end_time": "2021-06-09T17:39:13.326622",
     "exception": false,
     "start_time": "2021-06-09T17:39:12.917104",
     "status": "completed"
    },
    "pycharm": {
     "name": "#%% md\n"
    },
    "tags": []
   },
   "source": [
    "<img src=\"../images/AzPTravel_PPM.png\">"
   ]
  },
  {
   "cell_type": "markdown",
   "id": "9ab2e033",
   "metadata": {
    "collapsed": true,
    "papermill": {
     "duration": 0.303002,
     "end_time": "2021-06-09T17:39:13.906556",
     "exception": false,
     "start_time": "2021-06-09T17:39:13.603554",
     "status": "completed"
    },
    "pycharm": {
     "name": "#%% md\n"
    },
    "tags": []
   },
   "source": [
    "## GPM Data Transformation Script\n",
    "\n",
    "#### This script transforms the single consolidated raw file \"{Data Collection}.csv\" into it's final GPM input versions \"{Data Collection Code}localcur.csv\" and \"{Data Collection Code}euroconv.csv\"\n",
    "#### Current transformations\n",
    "\n",
    "-    make headers lowercase and replace spaces with hyphens\n",
    "-    Remove any rows with null BUs\n",
    "-    validate columns in validcols\n",
    "-    output documented here: \"Global_Attribute_Catalog.xlsx\" you can also edit dataframe entries using the instructions in the file\n",
    "-    replace various null or placeholder values with \"Not Provided\"\n"
   ]
  },
  {
   "cell_type": "markdown",
   "id": "56797ebc",
   "metadata": {
    "papermill": {
     "duration": 0.317648,
     "end_time": "2021-06-09T17:39:14.518203",
     "exception": false,
     "start_time": "2021-06-09T17:39:14.200555",
     "status": "completed"
    },
    "tags": []
   },
   "source": [
    "###"
   ]
  },
  {
   "cell_type": "code",
   "execution_count": 1,
   "id": "f9902d9a",
   "metadata": {
    "execution": {
     "iopub.execute_input": "2021-06-09T17:39:15.173512Z",
     "iopub.status.busy": "2021-06-09T17:39:15.173512Z",
     "iopub.status.idle": "2021-06-09T17:39:15.189172Z",
     "shell.execute_reply": "2021-06-09T17:39:15.189172Z"
    },
    "papermill": {
     "duration": 0.33888,
     "end_time": "2021-06-09T17:39:15.189172",
     "exception": false,
     "start_time": "2021-06-09T17:39:14.850292",
     "status": "completed"
    },
    "pycharm": {
     "name": "#%%\n"
    },
    "tags": [
     "parameters"
    ]
   },
   "outputs": [],
   "source": [
    "commit = \"\"\n",
    "# give a reason for the run\n",
    "\n",
    "percode = \"20XX.QX\"\n",
    "# Data Collection Code, this controls file paths and output names\n",
    "\n",
    "run_type = 1\n",
    "#run_type =  0 - lite run with no reporting, not recommended.\n",
    "#run_type =  1 - lite run with normal reporting, default setting.\n",
    "#run_type =  2 - Heavy run with full reporting, available for audits and troubleshooting.\n",
    "\n",
    "specialchars = \"-GTHtest\"\n",
    "# optional - add up to a 12 character code in order to mark your instance record .ipynb\n",
    "\n",
    "from datetime import datetime\n",
    "inst_datetime = datetime.now().strftime(\"%m%d%Y%H%M%S\")\n",
    "# a single datetime stamp for the full instance run\n"
   ]
  },
  {
   "cell_type": "code",
   "execution_count": 2,
   "id": "c199edeb",
   "metadata": {
    "execution": {
     "iopub.execute_input": "2021-06-09T17:39:15.901995Z",
     "iopub.status.busy": "2021-06-09T17:39:15.901000Z",
     "iopub.status.idle": "2021-06-09T17:39:15.907008Z",
     "shell.execute_reply": "2021-06-09T17:39:15.908997Z"
    },
    "papermill": {
     "duration": 0.389004,
     "end_time": "2021-06-09T17:39:15.908997",
     "exception": false,
     "start_time": "2021-06-09T17:39:15.519993",
     "status": "completed"
    },
    "tags": [
     "injected-parameters"
    ]
   },
   "outputs": [],
   "source": [
    "# Parameters\n",
    "run_control = 1\n",
    "percode = \"2021.Q1\"\n",
    "commit_message = \"Live run,Late additions EI, CH, PTupdate, and DE.\"\n",
    "inst_datetime = \"06092021132743\"\n"
   ]
  },
  {
   "cell_type": "markdown",
   "id": "c62905b9",
   "metadata": {
    "papermill": {
     "duration": 0.5354,
     "end_time": "2021-06-09T17:39:16.911429",
     "exception": false,
     "start_time": "2021-06-09T17:39:16.376029",
     "status": "completed"
    },
    "tags": []
   },
   "source": [
    "### Set Run Control\n",
    "\n",
    "##### 0 - lite run with no reporting, not recommended.\n",
    "##### 1 - lite run with normal reporting, default setting.\n",
    "##### 2 - Heavy run with full reporting, available for audits and troubleshooting."
   ]
  },
  {
   "cell_type": "code",
   "execution_count": 3,
   "id": "132bc707",
   "metadata": {
    "execution": {
     "iopub.execute_input": "2021-06-09T17:39:17.863184Z",
     "iopub.status.busy": "2021-06-09T17:39:17.858180Z",
     "iopub.status.idle": "2021-06-09T17:39:17.875183Z",
     "shell.execute_reply": "2021-06-09T17:39:17.872197Z"
    },
    "papermill": {
     "duration": 0.49028,
     "end_time": "2021-06-09T17:39:17.877180",
     "exception": false,
     "start_time": "2021-06-09T17:39:17.386900",
     "status": "completed"
    },
    "pycharm": {
     "name": "#%%\n"
    },
    "tags": []
   },
   "outputs": [],
   "source": [
    "run_control = 0  # in development mode"
   ]
  },
  {
   "cell_type": "code",
   "execution_count": 4,
   "id": "15fab962",
   "metadata": {
    "execution": {
     "iopub.execute_input": "2021-06-09T17:39:18.778827Z",
     "iopub.status.busy": "2021-06-09T17:39:18.778827Z",
     "iopub.status.idle": "2021-06-09T17:39:22.851806Z",
     "shell.execute_reply": "2021-06-09T17:39:22.851806Z"
    },
    "papermill": {
     "duration": 4.520476,
     "end_time": "2021-06-09T17:39:22.851806",
     "exception": false,
     "start_time": "2021-06-09T17:39:18.331330",
     "status": "completed"
    },
    "pycharm": {
     "name": "#%%\n"
    },
    "tags": []
   },
   "outputs": [],
   "source": [
    "#### Packages used\n",
    "import sys\n",
    "import os\n",
    "import pandas as pd\n",
    "from pandas import ExcelWriter\n",
    "from numpy import nan"
   ]
  },
  {
   "cell_type": "code",
   "execution_count": 5,
   "id": "eee77689",
   "metadata": {
    "execution": {
     "iopub.execute_input": "2021-06-09T17:39:23.811072Z",
     "iopub.status.busy": "2021-06-09T17:39:23.805082Z",
     "iopub.status.idle": "2021-06-09T17:39:23.818119Z",
     "shell.execute_reply": "2021-06-09T17:39:23.819114Z"
    },
    "papermill": {
     "duration": 0.592933,
     "end_time": "2021-06-09T17:39:23.819114",
     "exception": false,
     "start_time": "2021-06-09T17:39:23.226181",
     "status": "completed"
    },
    "pycharm": {
     "name": "#%%\n"
    },
    "tags": []
   },
   "outputs": [],
   "source": [
    "default_dc = \"2021.Q1\"\n",
    "\n",
    "try:\n",
    "    if sys.argv[1] == \"-f\":\n",
    "        percode = default_dc\n",
    "    else:\n",
    "        percode = sys.argv[1]\n",
    "\n",
    "except IndexError:\n",
    "    percode = default_dc\n",
    "except NameError:\n",
    "    percode = default_dc"
   ]
  },
  {
   "cell_type": "markdown",
   "id": "e19bcec8",
   "metadata": {
    "papermill": {
     "duration": 0.499905,
     "end_time": "2021-06-09T17:39:24.687987",
     "exception": false,
     "start_time": "2021-06-09T17:39:24.188082",
     "status": "completed"
    },
    "tags": []
   },
   "source": [
    "#### style settings"
   ]
  },
  {
   "cell_type": "code",
   "execution_count": 6,
   "id": "ce07f488",
   "metadata": {
    "execution": {
     "iopub.execute_input": "2021-06-09T17:39:25.524430Z",
     "iopub.status.busy": "2021-06-09T17:39:25.524430Z",
     "iopub.status.idle": "2021-06-09T17:39:25.540219Z",
     "shell.execute_reply": "2021-06-09T17:39:25.540219Z"
    },
    "papermill": {
     "duration": 0.451371,
     "end_time": "2021-06-09T17:39:25.540219",
     "exception": false,
     "start_time": "2021-06-09T17:39:25.088848",
     "status": "completed"
    },
    "tags": []
   },
   "outputs": [],
   "source": [
    "from IPython.core.interactiveshell import InteractiveShell\n",
    "InteractiveShell.ast_node_interactivity = \"all\""
   ]
  },
  {
   "cell_type": "markdown",
   "id": "e05bd7b3",
   "metadata": {
    "papermill": {
     "duration": 0.539074,
     "end_time": "2021-06-09T17:39:26.592370",
     "exception": false,
     "start_time": "2021-06-09T17:39:26.053296",
     "status": "completed"
    },
    "tags": []
   },
   "source": [
    "#### Convert paths and files to variables.\n",
    "#### Read data into pd DataFrames.\n",
    "#### Make paths for the live sources."
   ]
  },
  {
   "cell_type": "code",
   "execution_count": 7,
   "id": "4679f355",
   "metadata": {
    "execution": {
     "iopub.execute_input": "2021-06-09T17:39:27.558932Z",
     "iopub.status.busy": "2021-06-09T17:39:27.558932Z",
     "iopub.status.idle": "2021-06-09T17:39:27.575672Z",
     "shell.execute_reply": "2021-06-09T17:39:27.575672Z"
    },
    "papermill": {
     "duration": 0.535251,
     "end_time": "2021-06-09T17:39:27.575672",
     "exception": false,
     "start_time": "2021-06-09T17:39:27.040421",
     "status": "completed"
    },
    "pycharm": {
     "name": "#%%\n"
    },
    "tags": []
   },
   "outputs": [],
   "source": [
    "rt_path = os.path.join( f'\\\\\\\\hecate\\\\Insurance_US\\\\Product Development\\\\Product Management\\\\Global PPM\\\\Reporting\\\\Data Collection\\\\Production',percode)\n",
    "\n",
    "infile = os.path.join(rt_path, f'{str(percode)}.parquet')\n",
    "gppm_file = os.path.join(rt_path, f'GPPM_Input_{str(percode)}.xlsx')\n",
    "atcat = os.path.join(rt_path, f'{percode}_Attribute_Catalog.xlsx')\n"
   ]
  },
  {
   "cell_type": "code",
   "execution_count": 8,
   "id": "13e29200",
   "metadata": {
    "execution": {
     "iopub.execute_input": "2021-06-09T17:39:28.491203Z",
     "iopub.status.busy": "2021-06-09T17:39:28.491203Z",
     "iopub.status.idle": "2021-06-09T17:39:28.513396Z",
     "shell.execute_reply": "2021-06-09T17:39:28.513396Z"
    },
    "papermill": {
     "duration": 0.454889,
     "end_time": "2021-06-09T17:39:28.513396",
     "exception": false,
     "start_time": "2021-06-09T17:39:28.058507",
     "status": "completed"
    },
    "tags": []
   },
   "outputs": [],
   "source": [
    "#### Read input file\n",
    "\n",
    "#### This reads the consolidated file that will be transformed or a stored dataframe based on the execution method."
   ]
  },
  {
   "cell_type": "code",
   "execution_count": 9,
   "id": "30bc8863",
   "metadata": {
    "execution": {
     "iopub.execute_input": "2021-06-09T17:39:29.485795Z",
     "iopub.status.busy": "2021-06-09T17:39:29.478923Z",
     "iopub.status.idle": "2021-06-09T17:39:29.616289Z",
     "shell.execute_reply": "2021-06-09T17:39:29.616289Z"
    },
    "papermill": {
     "duration": 0.574097,
     "end_time": "2021-06-09T17:39:29.616289",
     "exception": false,
     "start_time": "2021-06-09T17:39:29.042192",
     "status": "completed"
    },
    "pycharm": {
     "name": "#%%\n"
    },
    "tags": []
   },
   "outputs": [
    {
     "name": "stdout",
     "output_type": "stream",
     "text": [
      "                        Submission File Business Unit Country Currency  \\\n",
      "0      us_dat_at_+te_q1_2021_at.parquet            AT      AT      EUR   \n",
      "1      us_dat_at_+te_q1_2021_at.parquet            AT      AT      EUR   \n",
      "2      us_dat_at_+te_q1_2021_at.parquet            AT      AT      EUR   \n",
      "3      us_dat_at_+te_q1_2021_at.parquet            AT      AT      EUR   \n",
      "4      us_dat_at_+te_q1_2021_at.parquet            AT      AT      EUR   \n",
      "...                                 ...           ...     ...      ...   \n",
      "13785  us_dat_us_06022021145526.parquet            US      US      USD   \n",
      "13786  us_dat_us_06022021145526.parquet            US      US      USD   \n",
      "13787  us_dat_us_06022021145526.parquet            US      US      USD   \n",
      "13788  us_dat_us_06022021145526.parquet            US      US      USD   \n",
      "13789  us_dat_us_06022021145526.parquet            US      US      USD   \n",
      "\n",
      "                                Region Reporting Date From Reporting Date To  \\\n",
      "0      North, Central & Eastern Europe          2021-01-01        2021-03-31   \n",
      "1      North, Central & Eastern Europe          2021-01-01        2021-03-31   \n",
      "2      North, Central & Eastern Europe          2021-01-01        2021-03-31   \n",
      "3      North, Central & Eastern Europe          2021-01-01        2021-03-31   \n",
      "4      North, Central & Eastern Europe          2021-01-01        2021-03-31   \n",
      "...                                ...                 ...               ...   \n",
      "13785                    North America          2021-01-01        2021-03-31   \n",
      "13786                    North America          2021-01-01        2021-03-31   \n",
      "13787                    North America          2021-01-01        2021-03-31   \n",
      "13788                    North America          2021-01-01        2021-03-31   \n",
      "13789                    North America          2021-01-01        2021-03-31   \n",
      "\n",
      "      Date of Analysis Type of Analysis  Analysed Months  ...    comsub  \\\n",
      "0           2021-05-07     Year To Date              3.0  ...  0.000000   \n",
      "1           2021-05-07     Year To Date              3.0  ...  0.000000   \n",
      "2           2021-05-07     Year To Date              3.0  ...  0.000000   \n",
      "3           2021-05-07     Year To Date              3.0  ...  0.000000   \n",
      "4           2021-05-07     Year To Date              3.0  ...  0.000000   \n",
      "...                ...              ...              ...  ...       ...   \n",
      "13785       2021-04-30     Year To Date              3.0  ...  0.000000   \n",
      "13786       2021-04-30     Year To Date              3.0  ...  0.000000   \n",
      "13787       2021-04-30     Year To Date              3.0  ...  0.000000   \n",
      "13788       2021-04-30     Year To Date              3.0  ...  0.344545   \n",
      "13789       2021-04-30     Year To Date              3.0  ...  0.271429   \n",
      "\n",
      "         expsub  Reporting Date From INT Reporting Date To INT  \\\n",
      "0      0.000000                      NaN                   NaN   \n",
      "1      0.000000                      NaN                   NaN   \n",
      "2      0.000000                      NaN                   NaN   \n",
      "3      0.000000                      NaN                   NaN   \n",
      "4      0.000000                      NaN                   NaN   \n",
      "...         ...                      ...                   ...   \n",
      "13785  0.000000               20210101.0            20210331.0   \n",
      "13786  0.000000               20210101.0            20210331.0   \n",
      "13787  0.000000               20210101.0            20210331.0   \n",
      "13788  0.200909               20210101.0            20210331.0   \n",
      "13789  0.208571               20210101.0            20210331.0   \n",
      "\n",
      "      Date of Analysis INT                     Selected Fields for Duplicates  \\\n",
      "0                      NaN                                                NaN   \n",
      "1                      NaN                                                NaN   \n",
      "2                      NaN                                                NaN   \n",
      "3                      NaN                                                NaN   \n",
      "4                      NaN                                                NaN   \n",
      "...                    ...                                                ...   \n",
      "13785           20210430.0  USInsuranceLocalB2B2CTravelOffline Travel Agen...   \n",
      "13786           20210430.0  USInsuranceLocalB2B2CTravelOffline Travel Agen...   \n",
      "13787           20210430.0  USInsuranceLocalB2B2CTravelOffline Travel Agen...   \n",
      "13788           20210430.0  USInsuranceLocalB2B2CTravelOffline Travel Agen...   \n",
      "13789           20210430.0  USInsuranceLocalB2B2CTravelOffline Travel Agen...   \n",
      "\n",
      "      ibnrsub Identifier to pull in results from Data tab Unnamed: 67  \\\n",
      "0         NaN                                         NaN         NaN   \n",
      "1         NaN                                         NaN         NaN   \n",
      "2         NaN                                         NaN         NaN   \n",
      "3         NaN                                         NaN         NaN   \n",
      "4         NaN                                         NaN         NaN   \n",
      "...       ...                                         ...         ...   \n",
      "13785     0.0                           314666064x1004320         0.0   \n",
      "13786     0.0                           315460246x1005115         0.0   \n",
      "13787     0.0                           319820436x1003748         0.0   \n",
      "13788     1.0                           319820436x1004320         0.0   \n",
      "13789     1.0                           319820436x1004534         0.0   \n",
      "\n",
      "      Unnamed: 68  \n",
      "0             NaN  \n",
      "1             NaN  \n",
      "2             NaN  \n",
      "3             NaN  \n",
      "4             NaN  \n",
      "...           ...  \n",
      "13785         0.0  \n",
      "13786         0.0  \n",
      "13787         0.0  \n",
      "13788         0.0  \n",
      "13789         0.0  \n",
      "\n",
      "[13790 rows x 79 columns]\n"
     ]
    }
   ],
   "source": [
    "try:\n",
    "    %store -r read_dc_df\n",
    "    input = read_dc_df\n",
    "        \n",
    "except:\n",
    "    input = pd.read_parquet(infile,engine = \"pyarrow\")\n",
    "    os.remove(infile)\n",
    "\n",
    "print(input)"
   ]
  },
  {
   "cell_type": "markdown",
   "id": "bba68f29",
   "metadata": {
    "papermill": {
     "duration": 0.492185,
     "end_time": "2021-06-09T17:39:30.574018",
     "exception": false,
     "start_time": "2021-06-09T17:39:30.081833",
     "status": "completed"
    },
    "tags": []
   },
   "source": [
    "#### Make a copy for debug purposes"
   ]
  },
  {
   "cell_type": "code",
   "execution_count": 10,
   "id": "bad3bf0c",
   "metadata": {
    "execution": {
     "iopub.execute_input": "2021-06-09T17:39:31.577947Z",
     "iopub.status.busy": "2021-06-09T17:39:31.573941Z",
     "iopub.status.idle": "2021-06-09T17:39:31.593941Z",
     "shell.execute_reply": "2021-06-09T17:39:31.595944Z"
    },
    "papermill": {
     "duration": 0.545107,
     "end_time": "2021-06-09T17:39:31.596031",
     "exception": false,
     "start_time": "2021-06-09T17:39:31.050924",
     "status": "completed"
    },
    "pycharm": {
     "name": "#%%\n"
    },
    "tags": []
   },
   "outputs": [],
   "source": [
    "trandata = input.copy()"
   ]
  },
  {
   "cell_type": "markdown",
   "id": "f242e6bd",
   "metadata": {
    "papermill": {
     "duration": 0.421258,
     "end_time": "2021-06-09T17:39:32.522901",
     "exception": false,
     "start_time": "2021-06-09T17:39:32.101643",
     "status": "completed"
    },
    "tags": []
   },
   "source": [
    "#### Format Headers"
   ]
  },
  {
   "cell_type": "code",
   "execution_count": 11,
   "id": "17f430db",
   "metadata": {
    "execution": {
     "iopub.execute_input": "2021-06-09T17:39:33.555590Z",
     "iopub.status.busy": "2021-06-09T17:39:33.555590Z",
     "iopub.status.idle": "2021-06-09T17:39:33.586808Z",
     "shell.execute_reply": "2021-06-09T17:39:33.586808Z"
    },
    "papermill": {
     "duration": 0.478141,
     "end_time": "2021-06-09T17:39:33.586808",
     "exception": false,
     "start_time": "2021-06-09T17:39:33.108667",
     "status": "completed"
    },
    "pycharm": {
     "name": "#%%\n"
    },
    "tags": []
   },
   "outputs": [
    {
     "data": {
      "text/plain": [
       "'format headers'"
      ]
     },
     "execution_count": 11,
     "metadata": {},
     "output_type": "execute_result"
    }
   ],
   "source": [
    "# save the column names to variable, format them, replace headers\n",
    "cols = trandata.columns.values\n",
    "\n",
    "\"\"\"format headers\"\"\"\n",
    "fixedcols = []\n",
    "\n",
    "for f in cols:\n",
    "    fixedhead = f.replace(' ', '_').lower()\n",
    "    fixedcols.append(fixedhead)\n",
    "\n",
    "trandata.columns = fixedcols"
   ]
  },
  {
   "cell_type": "markdown",
   "id": "6c64b77e",
   "metadata": {
    "papermill": {
     "duration": 0.469286,
     "end_time": "2021-06-09T17:39:34.644223",
     "exception": false,
     "start_time": "2021-06-09T17:39:34.174937",
     "status": "completed"
    },
    "pycharm": {
     "name": "#%% md\n"
    },
    "tags": []
   },
   "source": [
    "#### Update Verification 1"
   ]
  },
  {
   "cell_type": "code",
   "execution_count": 12,
   "id": "d71ceb3c",
   "metadata": {
    "execution": {
     "iopub.execute_input": "2021-06-09T17:39:35.643943Z",
     "iopub.status.busy": "2021-06-09T17:39:35.641943Z",
     "iopub.status.idle": "2021-06-09T17:39:36.006942Z",
     "shell.execute_reply": "2021-06-09T17:39:36.008953Z"
    },
    "papermill": {
     "duration": 0.91716,
     "end_time": "2021-06-09T17:39:36.008953",
     "exception": false,
     "start_time": "2021-06-09T17:39:35.091793",
     "status": "completed"
    },
    "pycharm": {
     "name": "#%%\n"
    },
    "tags": []
   },
   "outputs": [
    {
     "name": "stdout",
     "output_type": "stream",
     "text": [
      "|    | Original                                                        | Transformed                                                     |\n",
      "|---:|:----------------------------------------------------------------|:----------------------------------------------------------------|\n",
      "|  0 | Submission File                                                 | submission_file                                                 |\n",
      "|  1 | Business Unit                                                   | business_unit                                                   |\n",
      "|  2 | Country                                                         | country                                                         |\n",
      "|  3 | Currency                                                        | currency                                                        |\n",
      "|  4 | Region                                                          | region                                                          |\n",
      "|  5 | Reporting Date From                                             | reporting_date_from                                             |\n",
      "|  6 | Reporting Date To                                               | reporting_date_to                                               |\n",
      "|  7 | Date of Analysis                                                | date_of_analysis                                                |\n",
      "|  8 | Type of Analysis                                                | type_of_analysis                                                |\n",
      "|  9 | Analysed Months                                                 | analysed_months                                                 |\n",
      "| 10 | Reporting Year                                                  | reporting_year                                                  |\n",
      "| 11 | Reporting Quarter                                               | reporting_quarter                                               |\n",
      "| 12 | Reporting Month                                                 | reporting_month                                                 |\n",
      "| 13 | Type of Business                                                | type_of_business                                                |\n",
      "| 14 | Type of Account                                                 | type_of_account                                                 |\n",
      "| 15 | Distribution Type                                               | distribution_type                                               |\n",
      "| 16 | LOB                                                             | lob                                                             |\n",
      "| 17 | Distribution Channel                                            | distribution_channel                                            |\n",
      "| 18 | Sub LOB                                                         | sub_lob                                                         |\n",
      "| 19 | Business Partner Name                                           | business_partner_name                                           |\n",
      "| 20 | Business Partner ID Number                                      | business_partner_id_number                                      |\n",
      "| 21 | Product Name                                                    | product_name                                                    |\n",
      "| 22 | Product ID Number                                               | product_id_number                                               |\n",
      "| 23 | Product Family                                                  | product_family                                                  |\n",
      "| 24 | Standard Product                                                | standard_product                                                |\n",
      "| 25 | Number of Products per Row                                      | number_of_products_per_row                                      |\n",
      "| 26 | Number of B-Partners per Row                                    | number_of_b-partners_per_row                                    |\n",
      "| 27 | Number of Policies (Written)                                    | number_of_policies_(written)                                    |\n",
      "| 28 | Units of Risk (Written)                                         | units_of_risk_(written)                                         |\n",
      "| 29 | Written Revenues net of Taxes                                   | written_revenues_net_of_taxes                                   |\n",
      "| 30 | Written Revenues                                                | written_revenues                                                |\n",
      "| 31 | Number of Policies (Earned)                                     | number_of_policies_(earned)                                     |\n",
      "| 32 | Units of Risk (Earned)                                          | units_of_risk_(earned)                                          |\n",
      "| 33 | Earned Revenues net of Taxes                                    | earned_revenues_net_of_taxes                                    |\n",
      "| 34 | Earned Revenues                                                 | earned_revenues                                                 |\n",
      "| 35 | Earned Base Commissions                                         | earned_base_commissions                                         |\n",
      "| 36 | Earned Over-Commissions                                         | earned_over-commissions                                         |\n",
      "| 37 | Upfront Cash Payments                                           | upfront_cash_payments                                           |\n",
      "| 38 | Total Compensation                                              | total_compensation                                              |\n",
      "| 39 | Number of Claims (Paid + OCR + IBNR)                            | number_of_claims_(paid_+_ocr_+_ibnr)                            |\n",
      "| 40 | Number of Open Claims                                           | number_of_open_claims                                           |\n",
      "| 41 | Open Claims %                                                   | open_claims_%                                                   |\n",
      "| 42 | Number of Persons Involved in Claims (Paid + OCR + IBNR)        | number_of_persons_involved_in_claims_(paid_+_ocr_+_ibnr)        |\n",
      "| 43 | Paid Claims                                                     | paid_claims                                                     |\n",
      "| 44 | OCR + IBNR                                                      | ocr_+_ibnr                                                      |\n",
      "| 45 | % of IBNR on (OCR + IBNR)                                       | %_of_ibnr_on_(ocr_+_ibnr)                                       |\n",
      "| 46 | Actual Incurred Losses (Paid + OCR + IBNR)                      | actual_incurred_losses_(paid_+_ocr_+_ibnr)                      |\n",
      "| 47 | Internal Variable Costs (excl. AZ Tech Fee)                     | internal_variable_costs_(excl._az_tech_fee)                     |\n",
      "| 48 | AZ Tech Fee                                                     | az_tech_fee                                                     |\n",
      "| 49 | Internal Fixed Costs (excl. HQ Fees)                            | internal_fixed_costs_(excl._hq_fees)                            |\n",
      "| 50 | HQ Fees                                                         | hq_fees                                                         |\n",
      "| 51 | Total Expenses                                                  | total_expenses                                                  |\n",
      "| 52 | Frequency (Earned)                                              | frequency_(earned)                                              |\n",
      "| 53 | Severity                                                        | severity                                                        |\n",
      "| 54 | Risk Premium                                                    | risk_premium                                                    |\n",
      "| 55 | Contribution Margin - BU View                                   | contribution_margin_-_bu_view                                   |\n",
      "| 56 | Contribution Margin % on Fixed Costs - BU View                  | contribution_margin_%_on_fixed_costs_-_bu_view                  |\n",
      "| 57 | Contribution Margin % on Earned Revenues net of Taxes - BU View | contribution_margin_%_on_earned_revenues_net_of_taxes_-_bu_view |\n",
      "| 58 | Contribution Margin - HQ View                                   | contribution_margin_-_hq_view                                   |\n",
      "| 59 | Contribution Margin % on Fixed Costs - HQ View                  | contribution_margin_%_on_fixed_costs_-_hq_view                  |\n",
      "| 60 | Contribution Margin % on Earned Revenues net of Taxes - HQ View | contribution_margin_%_on_earned_revenues_net_of_taxes_-_hq_view |\n",
      "| 61 | Loss Ratio                                                      | loss_ratio                                                      |\n",
      "| 62 | Commission Ratio                                                | commission_ratio                                                |\n",
      "| 63 | Expense Ratio                                                   | expense_ratio                                                   |\n",
      "| 64 | Combined Ratio                                                  | combined_ratio                                                  |\n",
      "| 65 | Profit or Loss                                                  | profit_or_loss                                                  |\n",
      "| 66 | Notes                                                           | notes                                                           |\n",
      "| 67 | Unnamed: 66                                                     | unnamed:_66                                                     |\n",
      "| 68 | concat2                                                         | concat2                                                         |\n",
      "| 69 | comsub                                                          | comsub                                                          |\n",
      "| 70 | expsub                                                          | expsub                                                          |\n",
      "| 71 | Reporting Date From INT                                         | reporting_date_from_int                                         |\n",
      "| 72 | Reporting Date To INT                                           | reporting_date_to_int                                           |\n",
      "| 73 | Date of Analysis INT                                            | date_of_analysis_int                                            |\n",
      "| 74 | Selected Fields for Duplicates                                  | selected_fields_for_duplicates                                  |\n",
      "| 75 | ibnrsub                                                         | ibnrsub                                                         |\n",
      "| 76 | Identifier to pull in results from Data tab                     | identifier_to_pull_in_results_from_data_tab                     |\n",
      "| 77 | Unnamed: 67                                                     | unnamed:_67                                                     |\n",
      "| 78 | Unnamed: 68                                                     | unnamed:_68                                                     |\n"
     ]
    }
   ],
   "source": [
    "if run_control > -10:\n",
    "    disp = {\"Original\": input.columns, \"Transformed\": trandata.columns}\n",
    "\n",
    "    disp = pd.DataFrame(disp)\n",
    "\n",
    "    print(disp.to_markdown())\n",
    "else:\n",
    "    print(\"Skipped Transformation Report 1\")"
   ]
  },
  {
   "cell_type": "markdown",
   "id": "ccfcbb25",
   "metadata": {
    "papermill": {
     "duration": 0.518216,
     "end_time": "2021-06-09T17:39:36.965372",
     "exception": false,
     "start_time": "2021-06-09T17:39:36.447156",
     "status": "completed"
    },
    "tags": []
   },
   "source": [
    "#### Remove rows with null business units\n"
   ]
  },
  {
   "cell_type": "code",
   "execution_count": 13,
   "id": "431e44be",
   "metadata": {
    "execution": {
     "iopub.execute_input": "2021-06-09T17:39:38.207683Z",
     "iopub.status.busy": "2021-06-09T17:39:38.205699Z",
     "iopub.status.idle": "2021-06-09T17:39:38.234005Z",
     "shell.execute_reply": "2021-06-09T17:39:38.234005Z"
    },
    "papermill": {
     "duration": 0.67751,
     "end_time": "2021-06-09T17:39:38.234005",
     "exception": false,
     "start_time": "2021-06-09T17:39:37.556495",
     "status": "completed"
    },
    "pycharm": {
     "name": "#%%\n"
    },
    "tags": []
   },
   "outputs": [],
   "source": [
    "# todo, remove this from read file\n",
    "trandata = trandata[trandata.business_unit.notnull()]"
   ]
  },
  {
   "cell_type": "markdown",
   "id": "f994f1bf",
   "metadata": {
    "papermill": {
     "duration": 0.544641,
     "end_time": "2021-06-09T17:39:39.285156",
     "exception": false,
     "start_time": "2021-06-09T17:39:38.740515",
     "status": "completed"
    },
    "tags": []
   },
   "source": [
    "#### Update Verification 2"
   ]
  },
  {
   "cell_type": "code",
   "execution_count": 14,
   "id": "da1a56df",
   "metadata": {
    "execution": {
     "iopub.execute_input": "2021-06-09T17:39:40.547008Z",
     "iopub.status.busy": "2021-06-09T17:39:40.546542Z",
     "iopub.status.idle": "2021-06-09T17:39:40.694648Z",
     "shell.execute_reply": "2021-06-09T17:39:40.694648Z"
    },
    "papermill": {
     "duration": 0.769392,
     "end_time": "2021-06-09T17:39:40.694648",
     "exception": false,
     "start_time": "2021-06-09T17:39:39.925256",
     "status": "completed"
    },
    "pycharm": {
     "name": "#%%\n"
    },
    "tags": []
   },
   "outputs": [
    {
     "name": "stdout",
     "output_type": "stream",
     "text": [
      "Row Counts\n",
      "|    | Business Unit   |   Original |   Transformed |\n",
      "|---:|:----------------|-----------:|--------------:|\n",
      "|  0 | AT              |        222 |           222 |\n",
      "|  1 | AU              |         53 |            53 |\n",
      "|  2 | CA              |         17 |            17 |\n",
      "|  3 | CH              |       3172 |          3172 |\n",
      "|  4 | CZ              |          7 |             7 |\n",
      "|  5 | DE              |         50 |            50 |\n",
      "|  6 | ES              |         28 |            28 |\n",
      "|  7 | GR              |         15 |            15 |\n",
      "|  8 | IT              |        100 |           100 |\n",
      "|  9 | NL              |        151 |           151 |\n",
      "| 10 | PL              |         27 |            27 |\n",
      "| 11 | PT              |         40 |            40 |\n",
      "| 12 | US              |       9908 |          9908 |\n"
     ]
    }
   ],
   "source": [
    "if run_control > -10:\n",
    "\n",
    "    ibus = input.groupby(['Business Unit']).count()\n",
    "    ibus = ibus.reset_index()\n",
    "    tbus = trandata.groupby(['business_unit']).count()\n",
    "    tbus = tbus.reset_index()\n",
    "\n",
    "    compdata = pd.merge(ibus, tbus, left_on='Business Unit', right_on='business_unit', how='left')\n",
    "\n",
    "    disp = {\"Business Unit\": compdata['Business Unit'], \"Original\": compdata['Earned Revenues net of Taxes'],\n",
    "            \"Transformed\": compdata['earned_revenues_net_of_taxes']}\n",
    "\n",
    "    disp = pd.DataFrame(disp)\n",
    "\n",
    "    print(\"Row Counts\")\n",
    "    print(disp.to_markdown())\n",
    "    \n",
    "else:\n",
    "    \n",
    "    print(\"Skipped Transformation Report 2\")\n"
   ]
  },
  {
   "cell_type": "markdown",
   "id": "15cb8aa7",
   "metadata": {
    "papermill": {
     "duration": 0.572061,
     "end_time": "2021-06-09T17:39:41.866638",
     "exception": false,
     "start_time": "2021-06-09T17:39:41.294577",
     "status": "completed"
    },
    "tags": []
   },
   "source": [
    "#### Swap  nulls for \"Not Provided\" in 'Sub Lob' and 'Distribution Channel'"
   ]
  },
  {
   "cell_type": "code",
   "execution_count": 15,
   "id": "30bce444",
   "metadata": {
    "execution": {
     "iopub.execute_input": "2021-06-09T17:39:43.147405Z",
     "iopub.status.busy": "2021-06-09T17:39:43.147405Z",
     "iopub.status.idle": "2021-06-09T17:39:43.199379Z",
     "shell.execute_reply": "2021-06-09T17:39:43.199379Z"
    },
    "papermill": {
     "duration": 0.686243,
     "end_time": "2021-06-09T17:39:43.199379",
     "exception": false,
     "start_time": "2021-06-09T17:39:42.513136",
     "status": "completed"
    },
    "pycharm": {
     "name": "#%%\n"
    },
    "tags": []
   },
   "outputs": [
    {
     "data": {
      "text/plain": [
       "array(['0.0', '', '0', 'Travel Medical Multi Trip (Annual Insurance)',\n",
       "       'Collision Damage Waiver (CDW)', 'Corporate Travel',\n",
       "       'Event Ticket Cancellation', 'Other',\n",
       "       'Standalone Cancellation - Single Trip',\n",
       "       'TPA/Claims Handling / Service Only Products',\n",
       "       'Travel Medical Short Term - Single Trip',\n",
       "       'Travel Package w/o Cancellation Short Term Single Trip',\n",
       "       'Travel Package with Cancellation Multi Trip (Annual Insurance)',\n",
       "       'Travel Package with Cancellation Short Term Single Trip',\n",
       "       'Travel Package w/o Cancellation Multi Trip (Annual Insurance)',\n",
       "       'Travel Package with Cancellation Short Term Single Trip, Travel Package with Cancellation Multi Trip (Annual Insurance)',\n",
       "       'Travel Medical Long term - Single Trip, Travel Package with Cancellation Multi Trip (Annual Insurance), Travel Package with Cancellation Short Term Single Trip',\n",
       "       'Travel Medical Long term - Single Trip',\n",
       "       'Collision Damage Waiver (CDW), Travel Package w/o Cancellation Short Term Single Trip',\n",
       "       'Travel Medical Short Term - Single Trip, Travel Package with Cancellation Short Term Single Trip',\n",
       "       'Standalone Cancellation - Single Trip, Travel Package w/o Cancellation Short Term Single Trip, Travel Package with Cancellation Short Term Single Trip',\n",
       "       'Standalone Cancellation - Single Trip, Travel Package with Cancellation Short Term Single Trip',\n",
       "       'Travel Package with Cancellation Short Term Single Trip, Travel Package w/o Cancellation Short Term Single Trip',\n",
       "       'Standalone Cancellation - Single Trip, Travel Package w/o Cancellation Multi Trip (Annual Insurance), Travel Package w/o Cancellation Short Term Single Trip, Travel Package with Cancellation Short Term Single Trip',\n",
       "       'Travel Package w/o Cancellation Short Term Single Trip, Travel Package with Cancellation Short Term Single Trip',\n",
       "       'Collision Damage Waiver (CDW), Standalone Cancellation - Single Trip, Travel Package w/o Cancellation Multi Trip (Annual Insurance), Travel Package w/o Cancellation Short Term Single Trip, Travel Package with Cancellation Short Term Single Trip',\n",
       "       'Travel Package with Cancellation Short Term Single Trip, Travel Package w/o Cancellation Short Term Single Trip, Standalone Cancellation - Single Trip',\n",
       "       'Travel Package with Cancellation Short Term Single Trip, Travel Package with Cancellation Short Term Single Trip, Travel Package w/o Cancellation Short Term Single Trip, Standalone Cancellation - Single Trip',\n",
       "       'Travel Package with Cancellation Short Term Single Trip, Standalone Cancellation - Single Trip',\n",
       "       'Expatriates',\n",
       "       'Travel Package with Cancellation Short Term Single Trip, Travel Package w/o Cancellation Short Term Single Trip, Travel Medical Short Term - Single Trip',\n",
       "       'Travel Package w/o Cancellation Short Term Single Trip, Standalone Cancellation - Single Trip, Travel Medical Short Term - Single Trip',\n",
       "       'Travel Package w/o Cancellation Short Term Single Trip, Standalone Cancellation - Single Trip',\n",
       "       'Travel Package with Cancellation Short Term Single Trip, Travel Medical Short Term - Single Trip',\n",
       "       'Travel Package with Cancellation Short Term Single Trip, Travel Package w/o Cancellation Short Term Single Trip, Standalone Cancellation - Single Trip, Travel Medical Short Term - Single Trip',\n",
       "       'Travel Package w/o Cancellation Long Term Single Trip',\n",
       "       'Standalone Cancellation - Multi-Trip', 'Tuition'], dtype=object)"
      ]
     },
     "execution_count": 15,
     "metadata": {},
     "output_type": "execute_result"
    },
    {
     "data": {
      "text/plain": [
       "array(['Not Available', 'Travel Medical Multi Trip (Annual Insurance)',\n",
       "       'Collision Damage Waiver (CDW)', 'Corporate Travel',\n",
       "       'Event Ticket Cancellation', 'Other',\n",
       "       'Standalone Cancellation - Single Trip',\n",
       "       'TPA/Claims Handling / Service Only Products',\n",
       "       'Travel Medical Short Term - Single Trip',\n",
       "       'Travel Package w/o Cancellation Short Term Single Trip',\n",
       "       'Travel Package with Cancellation Multi Trip (Annual Insurance)',\n",
       "       'Travel Package with Cancellation Short Term Single Trip',\n",
       "       'Travel Package w/o Cancellation Multi Trip (Annual Insurance)',\n",
       "       'Travel Package with Cancellation Short Term Single Trip, Travel Package with Cancellation Multi Trip (Annual Insurance)',\n",
       "       'Travel Medical Long term - Single Trip, Travel Package with Cancellation Multi Trip (Annual Insurance), Travel Package with Cancellation Short Term Single Trip',\n",
       "       'Travel Medical Long term - Single Trip',\n",
       "       'Collision Damage Waiver (CDW), Travel Package w/o Cancellation Short Term Single Trip',\n",
       "       'Travel Medical Short Term - Single Trip, Travel Package with Cancellation Short Term Single Trip',\n",
       "       'Standalone Cancellation - Single Trip, Travel Package w/o Cancellation Short Term Single Trip, Travel Package with Cancellation Short Term Single Trip',\n",
       "       'Standalone Cancellation - Single Trip, Travel Package with Cancellation Short Term Single Trip',\n",
       "       'Travel Package with Cancellation Short Term Single Trip, Travel Package w/o Cancellation Short Term Single Trip',\n",
       "       'Standalone Cancellation - Single Trip, Travel Package w/o Cancellation Multi Trip (Annual Insurance), Travel Package w/o Cancellation Short Term Single Trip, Travel Package with Cancellation Short Term Single Trip',\n",
       "       'Travel Package w/o Cancellation Short Term Single Trip, Travel Package with Cancellation Short Term Single Trip',\n",
       "       'Collision Damage Waiver (CDW), Standalone Cancellation - Single Trip, Travel Package w/o Cancellation Multi Trip (Annual Insurance), Travel Package w/o Cancellation Short Term Single Trip, Travel Package with Cancellation Short Term Single Trip',\n",
       "       'Travel Package with Cancellation Short Term Single Trip, Travel Package w/o Cancellation Short Term Single Trip, Standalone Cancellation - Single Trip',\n",
       "       'Travel Package with Cancellation Short Term Single Trip, Travel Package with Cancellation Short Term Single Trip, Travel Package w/o Cancellation Short Term Single Trip, Standalone Cancellation - Single Trip',\n",
       "       'Travel Package with Cancellation Short Term Single Trip, Standalone Cancellation - Single Trip',\n",
       "       'Expatriates',\n",
       "       'Travel Package with Cancellation Short Term Single Trip, Travel Package w/o Cancellation Short Term Single Trip, Travel Medical Short Term - Single Trip',\n",
       "       'Travel Package w/o Cancellation Short Term Single Trip, Standalone Cancellation - Single Trip, Travel Medical Short Term - Single Trip',\n",
       "       'Travel Package w/o Cancellation Short Term Single Trip, Standalone Cancellation - Single Trip',\n",
       "       'Travel Package with Cancellation Short Term Single Trip, Travel Medical Short Term - Single Trip',\n",
       "       'Travel Package with Cancellation Short Term Single Trip, Travel Package w/o Cancellation Short Term Single Trip, Standalone Cancellation - Single Trip, Travel Medical Short Term - Single Trip',\n",
       "       'Travel Package w/o Cancellation Long Term Single Trip',\n",
       "       'Standalone Cancellation - Multi-Trip', 'Tuition'], dtype=object)"
      ]
     },
     "execution_count": 15,
     "metadata": {},
     "output_type": "execute_result"
    }
   ],
   "source": [
    "mults = trandata['sub_lob'][trandata.sub_lob.replace(nan, 'Not Available').str.contains(',', case=False)]\n",
    "mults = mults.unique()\n",
    "\n",
    "trandata['sub_lob'].unique()\n",
    "trandata['sub_lob'] = trandata['sub_lob'].fillna('Not Available')\n",
    "trandata['sub_lob'] = trandata['sub_lob'].replace('', 'Not Available')\n",
    "trandata['sub_lob'] = trandata['sub_lob'].replace('0', 'Not Available')\n",
    "trandata['sub_lob'] = trandata['sub_lob'].replace('0.0', 'Not Available')\n",
    "trandata['distribution_channel'] = trandata['distribution_channel'].replace('', 'Not Available').fillna('Not Available')\n",
    "\n",
    "trandata['sub_lob'].unique()\n"
   ]
  },
  {
   "cell_type": "markdown",
   "id": "3ef35084",
   "metadata": {
    "papermill": {
     "duration": 0.763703,
     "end_time": "2021-06-09T17:39:44.502635",
     "exception": false,
     "start_time": "2021-06-09T17:39:43.738932",
     "status": "completed"
    },
    "tags": []
   },
   "source": [
    "#### Replace multiple entries in \"Sub Lob\" to \"Multiple\""
   ]
  },
  {
   "cell_type": "code",
   "execution_count": 16,
   "id": "6bb20151",
   "metadata": {
    "execution": {
     "iopub.execute_input": "2021-06-09T17:39:45.707960Z",
     "iopub.status.busy": "2021-06-09T17:39:45.701945Z",
     "iopub.status.idle": "2021-06-09T17:39:45.801465Z",
     "shell.execute_reply": "2021-06-09T17:39:45.799468Z"
    },
    "papermill": {
     "duration": 0.645048,
     "end_time": "2021-06-09T17:39:45.801465",
     "exception": false,
     "start_time": "2021-06-09T17:39:45.156417",
     "status": "completed"
    },
    "pycharm": {
     "name": "#%%\n"
    },
    "tags": []
   },
   "outputs": [],
   "source": [
    "for i in mults:\n",
    "    trandata['sub_lob'] = trandata['sub_lob'].replace(i, 'Multiple')\n",
    "\n",
    "# todo automate figuring out which fields fx rates should be applied to somehow"
   ]
  },
  {
   "cell_type": "markdown",
   "id": "7b2bdb56",
   "metadata": {
    "papermill": {
     "duration": 0.654959,
     "end_time": "2021-06-09T17:39:46.961644",
     "exception": false,
     "start_time": "2021-06-09T17:39:46.306685",
     "status": "completed"
    },
    "tags": []
   },
   "source": [
    "#### Update Verification 3"
   ]
  },
  {
   "cell_type": "code",
   "execution_count": 17,
   "id": "37ec2d6c",
   "metadata": {
    "execution": {
     "iopub.execute_input": "2021-06-09T17:39:48.017536Z",
     "iopub.status.busy": "2021-06-09T17:39:48.001544Z",
     "iopub.status.idle": "2021-06-09T17:39:48.342850Z",
     "shell.execute_reply": "2021-06-09T17:39:48.342850Z"
    },
    "papermill": {
     "duration": 0.902025,
     "end_time": "2021-06-09T17:39:48.342850",
     "exception": false,
     "start_time": "2021-06-09T17:39:47.440825",
     "status": "completed"
    },
    "pycharm": {
     "name": "#%%\n"
    },
    "tags": []
   },
   "outputs": [],
   "source": [
    "if run_control > -10:\n",
    "\n",
    "    ibus = input.groupby(['Sub LOB']).sum()\n",
    "    ibus = ibus.reset_index()\n",
    "    tbus = trandata.groupby(['sub_lob']).sum()\n",
    "    tbus = tbus.reset_index()\n",
    "\n",
    "    compdatasublob = pd.merge(ibus, tbus, left_on='Sub LOB', right_on='sub_lob', how='outer')\n",
    "\n",
    "    disp1 = pd.DataFrame(\n",
    "        {'Original Sub LOB': compdatasublob['Sub LOB'], 'Transformed Sub LOB': compdatasublob['sub_lob'],\n",
    "         \"Original\": compdatasublob['Earned Revenues net of Taxes'] / 1000,\n",
    "         \"Transformed\": compdatasublob['earned_revenues_net_of_taxes'] / 1000})\n",
    "\n",
    "\n",
    "\n",
    "    tots1 = pd.DataFrame({'Original Total': (input['Earned Revenues net of Taxes']).sum() / 10000,\n",
    "                          \"Transformed Total\": (compdatasublob['earned_revenues_net_of_taxes']).sum() / 10000},\n",
    "                         index=[0])\n",
    "else:\n",
    "    print(\"Skipped Transformation Report 2\")"
   ]
  },
  {
   "cell_type": "markdown",
   "id": "6f5d6a4e",
   "metadata": {
    "papermill": {
     "duration": 0.54884,
     "end_time": "2021-06-09T17:39:49.430682",
     "exception": false,
     "start_time": "2021-06-09T17:39:48.881842",
     "status": "completed"
    },
    "tags": []
   },
   "source": [
    "#### Make cflds, a list of currency fields, force to float, coercion is null or string to 0"
   ]
  },
  {
   "cell_type": "code",
   "execution_count": 18,
   "id": "112190b4",
   "metadata": {
    "execution": {
     "iopub.execute_input": "2021-06-09T17:39:50.732331Z",
     "iopub.status.busy": "2021-06-09T17:39:50.732331Z",
     "iopub.status.idle": "2021-06-09T17:39:50.876790Z",
     "shell.execute_reply": "2021-06-09T17:39:50.878792Z"
    },
    "papermill": {
     "duration": 0.794314,
     "end_time": "2021-06-09T17:39:50.879211",
     "exception": false,
     "start_time": "2021-06-09T17:39:50.084897",
     "status": "completed"
    },
    "pycharm": {
     "name": "#%%\n"
    },
    "tags": []
   },
   "outputs": [
    {
     "data": {
      "text/plain": [
       "0            0.00\n",
       "1            0.00\n",
       "2            0.00\n",
       "3        31328.10\n",
       "4          887.19\n",
       "           ...   \n",
       "13785     3749.00\n",
       "13786      142.00\n",
       "13787      474.00\n",
       "13788        0.00\n",
       "13789      265.00\n",
       "Name: written_revenues_net_of_taxes, Length: 13790, dtype: float64"
      ]
     },
     "execution_count": 18,
     "metadata": {},
     "output_type": "execute_result"
    },
    {
     "data": {
      "text/plain": [
       "0            0.00\n",
       "1            0.00\n",
       "2            0.00\n",
       "3        34776.00\n",
       "4          998.08\n",
       "           ...   \n",
       "13785     3749.00\n",
       "13786      142.00\n",
       "13787      474.00\n",
       "13788        0.00\n",
       "13789      265.00\n",
       "Name: written_revenues, Length: 13790, dtype: float64"
      ]
     },
     "execution_count": 18,
     "metadata": {},
     "output_type": "execute_result"
    },
    {
     "data": {
      "text/plain": [
       "0            0.00\n",
       "1            0.00\n",
       "2            0.00\n",
       "3        31328.10\n",
       "4          887.19\n",
       "           ...   \n",
       "13785        0.00\n",
       "13786        0.00\n",
       "13787        0.00\n",
       "13788       11.00\n",
       "13789        7.00\n",
       "Name: earned_revenues_net_of_taxes, Length: 13790, dtype: float64"
      ]
     },
     "execution_count": 18,
     "metadata": {},
     "output_type": "execute_result"
    },
    {
     "data": {
      "text/plain": [
       "0            0.00\n",
       "1            0.00\n",
       "2            0.00\n",
       "3        34776.00\n",
       "4          998.08\n",
       "           ...   \n",
       "13785        0.00\n",
       "13786        0.00\n",
       "13787        0.00\n",
       "13788       11.00\n",
       "13789        7.00\n",
       "Name: earned_revenues, Length: 13790, dtype: float64"
      ]
     },
     "execution_count": 18,
     "metadata": {},
     "output_type": "execute_result"
    },
    {
     "data": {
      "text/plain": [
       "0           0.00\n",
       "1           0.00\n",
       "2           0.00\n",
       "3        4391.77\n",
       "4         406.87\n",
       "          ...   \n",
       "13785       0.00\n",
       "13786       0.00\n",
       "13787       0.00\n",
       "13788       3.14\n",
       "13789       1.47\n",
       "Name: earned_base_commissions, Length: 13790, dtype: float64"
      ]
     },
     "execution_count": 18,
     "metadata": {},
     "output_type": "execute_result"
    },
    {
     "data": {
      "text/plain": [
       "0        0.00\n",
       "1        0.00\n",
       "2        0.00\n",
       "3        0.00\n",
       "4        0.00\n",
       "         ... \n",
       "13785    0.00\n",
       "13786    0.00\n",
       "13787    0.00\n",
       "13788    0.65\n",
       "13789    0.43\n",
       "Name: earned_over-commissions, Length: 13790, dtype: float64"
      ]
     },
     "execution_count": 18,
     "metadata": {},
     "output_type": "execute_result"
    },
    {
     "data": {
      "text/plain": [
       "0        0.0\n",
       "1        0.0\n",
       "2        0.0\n",
       "3        0.0\n",
       "4        0.0\n",
       "        ... \n",
       "13785    0.0\n",
       "13786    0.0\n",
       "13787    0.0\n",
       "13788    0.0\n",
       "13789    0.0\n",
       "Name: upfront_cash_payments, Length: 13790, dtype: float64"
      ]
     },
     "execution_count": 18,
     "metadata": {},
     "output_type": "execute_result"
    },
    {
     "data": {
      "text/plain": [
       "0           0.00\n",
       "1           0.00\n",
       "2           0.00\n",
       "3        4391.77\n",
       "4         406.87\n",
       "          ...   \n",
       "13785       0.00\n",
       "13786       0.00\n",
       "13787       0.00\n",
       "13788       3.79\n",
       "13789       1.90\n",
       "Name: total_compensation, Length: 13790, dtype: float64"
      ]
     },
     "execution_count": 18,
     "metadata": {},
     "output_type": "execute_result"
    },
    {
     "data": {
      "text/plain": [
       "0        3028.6\n",
       "1           0.0\n",
       "2           0.0\n",
       "3         798.0\n",
       "4         400.0\n",
       "          ...  \n",
       "13785       0.0\n",
       "13786       0.0\n",
       "13787       0.0\n",
       "13788       0.0\n",
       "13789       0.0\n",
       "Name: paid_claims, Length: 13790, dtype: float64"
      ]
     },
     "execution_count": 18,
     "metadata": {},
     "output_type": "execute_result"
    },
    {
     "data": {
      "text/plain": [
       "0       -52275.64\n",
       "1         -100.00\n",
       "2        -1100.00\n",
       "3         1142.94\n",
       "4        -1084.00\n",
       "           ...   \n",
       "13785        0.00\n",
       "13786        0.00\n",
       "13787        0.00\n",
       "13788        0.12\n",
       "13789        0.08\n",
       "Name: ocr_+_ibnr, Length: 13790, dtype: float64"
      ]
     },
     "execution_count": 18,
     "metadata": {},
     "output_type": "execute_result"
    },
    {
     "data": {
      "text/plain": [
       "0       -49247.04\n",
       "1         -100.00\n",
       "2        -1100.00\n",
       "3         1940.94\n",
       "4         -684.00\n",
       "           ...   \n",
       "13785        0.00\n",
       "13786        0.00\n",
       "13787        0.00\n",
       "13788        0.12\n",
       "13789        0.08\n",
       "Name: actual_incurred_losses_(paid_+_ocr_+_ibnr), Length: 13790, dtype: float64"
      ]
     },
     "execution_count": 18,
     "metadata": {},
     "output_type": "execute_result"
    },
    {
     "data": {
      "text/plain": [
       "0           0.000000\n",
       "1           0.000000\n",
       "2           0.000000\n",
       "3        2229.996814\n",
       "4          63.151959\n",
       "            ...     \n",
       "13785       0.000000\n",
       "13786       0.000000\n",
       "13787       0.000000\n",
       "13788       0.720000\n",
       "13789       0.480000\n",
       "Name: internal_variable_costs_(excl._az_tech_fee), Length: 13790, dtype: float64"
      ]
     },
     "execution_count": 18,
     "metadata": {},
     "output_type": "execute_result"
    },
    {
     "data": {
      "text/plain": [
       "0          0.000000\n",
       "1          0.000000\n",
       "2          0.000000\n",
       "3        789.468120\n",
       "4         22.357188\n",
       "            ...    \n",
       "13785      0.000000\n",
       "13786      0.000000\n",
       "13787      0.000000\n",
       "13788      0.000000\n",
       "13789      0.000000\n",
       "Name: az_tech_fee, Length: 13790, dtype: float64"
      ]
     },
     "execution_count": 18,
     "metadata": {},
     "output_type": "execute_result"
    },
    {
     "data": {
      "text/plain": [
       "0           0.000000\n",
       "1           0.000000\n",
       "2           0.000000\n",
       "3        4593.555166\n",
       "4         144.211193\n",
       "            ...     \n",
       "13785       0.000000\n",
       "13786       0.000000\n",
       "13787       0.000000\n",
       "13788       1.210000\n",
       "13789       0.800000\n",
       "Name: internal_fixed_costs_(excl._hq_fees), Length: 13790, dtype: float64"
      ]
     },
     "execution_count": 18,
     "metadata": {},
     "output_type": "execute_result"
    },
    {
     "data": {
      "text/plain": [
       "0           0.0000\n",
       "1           0.0000\n",
       "2           0.0000\n",
       "3        1346.8165\n",
       "4          24.0160\n",
       "           ...    \n",
       "13785       0.0000\n",
       "13786       0.0000\n",
       "13787       0.0000\n",
       "13788       0.2800\n",
       "13789       0.1800\n",
       "Name: hq_fees, Length: 13790, dtype: float64"
      ]
     },
     "execution_count": 18,
     "metadata": {},
     "output_type": "execute_result"
    },
    {
     "data": {
      "text/plain": [
       "0           0.00000\n",
       "1           0.00000\n",
       "2           0.00000\n",
       "3        8959.83660\n",
       "4         253.73634\n",
       "            ...    \n",
       "13785       0.00000\n",
       "13786       0.00000\n",
       "13787       0.00000\n",
       "13788       2.21000\n",
       "13789       1.46000\n",
       "Name: total_expenses, Length: 13790, dtype: float64"
      ]
     },
     "execution_count": 18,
     "metadata": {},
     "output_type": "execute_result"
    },
    {
     "data": {
      "text/plain": [
       "0        0.0\n",
       "1        0.0\n",
       "2        0.0\n",
       "3        0.0\n",
       "4        0.0\n",
       "        ... \n",
       "13785    0.0\n",
       "13786    0.0\n",
       "13787    0.0\n",
       "13788    0.0\n",
       "13789    0.0\n",
       "Name: risk_premium, Length: 13790, dtype: float64"
      ]
     },
     "execution_count": 18,
     "metadata": {},
     "output_type": "execute_result"
    },
    {
     "data": {
      "text/plain": [
       "0        49247.04000\n",
       "1          100.00000\n",
       "2         1100.00000\n",
       "3        16035.55340\n",
       "4          910.58366\n",
       "            ...     \n",
       "13785        0.00000\n",
       "13786        0.00000\n",
       "13787        0.00000\n",
       "13788        4.88000\n",
       "13789        3.56000\n",
       "Name: profit_or_loss, Length: 13790, dtype: float64"
      ]
     },
     "execution_count": 18,
     "metadata": {},
     "output_type": "execute_result"
    },
    {
     "data": {
      "text/plain": [
       "0        49247.040000\n",
       "1          100.000000\n",
       "2         1100.000000\n",
       "3        21975.925066\n",
       "4         1078.810853\n",
       "             ...     \n",
       "13785        0.000000\n",
       "13786        0.000000\n",
       "13787        0.000000\n",
       "13788        6.370000\n",
       "13789        4.540000\n",
       "Name: contribution_margin_-_hq_view, Length: 13790, dtype: float64"
      ]
     },
     "execution_count": 18,
     "metadata": {},
     "output_type": "execute_result"
    },
    {
     "data": {
      "text/plain": [
       "0        49247.040000\n",
       "1          100.000000\n",
       "2         1100.000000\n",
       "3        20629.108566\n",
       "4         1054.794853\n",
       "             ...     \n",
       "13785        0.000000\n",
       "13786        0.000000\n",
       "13787        0.000000\n",
       "13788        6.090000\n",
       "13789        4.360000\n",
       "Name: contribution_margin_-_bu_view, Length: 13790, dtype: float64"
      ]
     },
     "execution_count": 18,
     "metadata": {},
     "output_type": "execute_result"
    }
   ],
   "source": [
    "cflds = ['written_revenues_net_of_taxes', 'written_revenues', 'earned_revenues_net_of_taxes',\n",
    "         'earned_revenues', 'earned_base_commissions', 'earned_over-commissions', 'upfront_cash_payments',\n",
    "         'total_compensation', 'paid_claims', 'ocr_+_ibnr', 'actual_incurred_losses_(paid_+_ocr_+_ibnr)',\n",
    "         'internal_variable_costs_(excl._az_tech_fee)', 'az_tech_fee', 'internal_fixed_costs_(excl._hq_fees)',\n",
    "         'hq_fees', 'total_expenses', 'risk_premium', 'profit_or_loss', 'contribution_margin_-_hq_view',\n",
    "         'contribution_margin_-_bu_view', ]\n",
    "\n",
    "for i in cflds:\n",
    "    pd.to_numeric(trandata[i], errors='coerce')"
   ]
  },
  {
   "cell_type": "markdown",
   "id": "12b07b72",
   "metadata": {
    "papermill": {
     "duration": 0.677256,
     "end_time": "2021-06-09T17:39:52.182777",
     "exception": false,
     "start_time": "2021-06-09T17:39:51.505521",
     "status": "completed"
    },
    "tags": []
   },
   "source": [
    "#### Turn selected columns values uppercase"
   ]
  },
  {
   "cell_type": "code",
   "execution_count": 19,
   "id": "68adb504",
   "metadata": {
    "execution": {
     "iopub.execute_input": "2021-06-09T17:39:53.653336Z",
     "iopub.status.busy": "2021-06-09T17:39:53.653336Z",
     "iopub.status.idle": "2021-06-09T17:39:53.759071Z",
     "shell.execute_reply": "2021-06-09T17:39:53.759579Z"
    },
    "papermill": {
     "duration": 0.892113,
     "end_time": "2021-06-09T17:39:53.759579",
     "exception": false,
     "start_time": "2021-06-09T17:39:52.867466",
     "status": "completed"
    },
    "pycharm": {
     "name": "#%%\n"
    },
    "tags": []
   },
   "outputs": [],
   "source": [
    "validcols = ['business_unit', 'currency', 'region', 'type_of_analysis', 'type_of_business', 'type_of_account', 'lob',\n",
    "             'distribution_type', 'distribution_channel', ]\n",
    "\n",
    "for c in validcols:\n",
    "    trandata[c] = trandata[c].astype(str)\n",
    "    trandata[c] = trandata[c].apply(lambda x: x.upper())"
   ]
  },
  {
   "cell_type": "markdown",
   "id": "14d1d05b",
   "metadata": {
    "papermill": {
     "duration": 0.982412,
     "end_time": "2021-06-09T17:39:55.507840",
     "exception": false,
     "start_time": "2021-06-09T17:39:54.525428",
     "status": "completed"
    },
    "tags": []
   },
   "source": [
    "#### Read the values from the Global Attribute Catalog, one field per loop iterance and xlsx sheet."
   ]
  },
  {
   "cell_type": "code",
   "execution_count": 20,
   "id": "24d1ba25",
   "metadata": {
    "execution": {
     "iopub.execute_input": "2021-06-09T17:39:56.972558Z",
     "iopub.status.busy": "2021-06-09T17:39:56.953537Z",
     "iopub.status.idle": "2021-06-09T17:40:02.845006Z",
     "shell.execute_reply": "2021-06-09T17:40:02.845006Z"
    },
    "papermill": {
     "duration": 6.580126,
     "end_time": "2021-06-09T17:40:02.845006",
     "exception": false,
     "start_time": "2021-06-09T17:39:56.264880",
     "status": "completed"
    },
    "pycharm": {
     "name": "#%%\n"
    },
    "tags": []
   },
   "outputs": [],
   "source": [
    "checktabs = []\n",
    "\n",
    "\n",
    "\n",
    "for s in validcols:\n",
    "    t = pd.read_excel(atcat, sheet_name = s )\n",
    "    checktabs.append([[s], [t]])\n",
    "\n",
    "gacout = []\n"
   ]
  },
  {
   "cell_type": "markdown",
   "id": "d795d246",
   "metadata": {
    "papermill": {
     "duration": 0.638413,
     "end_time": "2021-06-09T17:40:04.006334",
     "exception": false,
     "start_time": "2021-06-09T17:40:03.367921",
     "status": "completed"
    },
    "tags": []
   },
   "source": [
    "#### Compare the lists from the previous step and each field. Find those that do not match, make lists of unique values\n",
    "#### replace any that have replacements in GPPM inoout already, make a list of values without any matches.\n"
   ]
  },
  {
   "cell_type": "code",
   "execution_count": 21,
   "id": "14030296",
   "metadata": {
    "execution": {
     "iopub.execute_input": "2021-06-09T17:40:05.756555Z",
     "iopub.status.busy": "2021-06-09T17:40:05.725310Z",
     "iopub.status.idle": "2021-06-09T17:40:05.941805Z",
     "shell.execute_reply": "2021-06-09T17:40:05.941805Z"
    },
    "papermill": {
     "duration": 1.117612,
     "end_time": "2021-06-09T17:40:05.941805",
     "exception": false,
     "start_time": "2021-06-09T17:40:04.824193",
     "status": "completed"
    },
    "pycharm": {
     "name": "#%%\n"
    },
    "tags": []
   },
   "outputs": [],
   "source": [
    "# todo rewrite this beginner code to use dicts and simplify\n",
    "\n",
    "for u in enumerate(validcols):\n",
    "    trandata.loc[0:len(trandata[u[1]]), u[1]] = trandata[u[1]].replace(\n",
    "        [checktabs[u[0]][1][0]['Upper_Vers']][0].to_numpy(), [checktabs[u[0]][1][0][u[1]]][0].to_numpy())\n",
    "    d = list(checktabs[u[0]][1][0]['Non Matches'].drop_duplicates().dropna().append(\n",
    "        pd.Series(trandata[u[1]][~trandata[u[1]].isin(checktabs[u[0]][1][0][u[1]])].drop_duplicates().dropna()),\n",
    "        ignore_index=True))\n",
    "    g = [checktabs[u[0]][1][0][str(u[1])], checktabs[u[0]][1][0]['Upper_Vers'], checktabs[u[0]][1][0]['Unnamed: 2'],\n",
    "         pd.Series(d, dtype='object').drop_duplicates().dropna(), checktabs[u[0]][1][0]['User Defined Corrections']]\n",
    "    gacout.append(list([g, u[1]]))"
   ]
  },
  {
   "cell_type": "markdown",
   "id": "cdc7eb8e",
   "metadata": {
    "papermill": {
     "duration": 0.814604,
     "end_time": "2021-06-09T17:40:07.373299",
     "exception": false,
     "start_time": "2021-06-09T17:40:06.558695",
     "status": "completed"
    },
    "tags": []
   },
   "source": [
    "#### Rebuild the GPPM input file, with the replaced values in the bad values column of each sheet.\n",
    "#### Step one, make and xlsx with a notes page."
   ]
  },
  {
   "cell_type": "code",
   "execution_count": 22,
   "id": "cd769c20",
   "metadata": {
    "execution": {
     "iopub.execute_input": "2021-06-09T17:40:08.847589Z",
     "iopub.status.busy": "2021-06-09T17:40:08.831990Z",
     "iopub.status.idle": "2021-06-09T17:40:09.704443Z",
     "shell.execute_reply": "2021-06-09T17:40:09.704443Z"
    },
    "papermill": {
     "duration": 1.596226,
     "end_time": "2021-06-09T17:40:09.704443",
     "exception": false,
     "start_time": "2021-06-09T17:40:08.108217",
     "status": "completed"
    },
    "pycharm": {
     "name": "#%%\n"
    },
    "tags": []
   },
   "outputs": [],
   "source": [
    "w = ExcelWriter(atcat)\n",
    "notes = pd.DataFrame([\n",
    "    \"This page is script generated during the source creation process. Do not edit these notes directly in the file as they will be overwritten\",\n",
    "    \"\", \"\"\n",
    "    , \" Purpose :     to manage attribute entries in the data collection process, this workbook documents and organizes all entries and also allows a user to swap those that do \\\n",
    "                        not conform to validation rules  with an entry of their choice\",\n",
    "    \" Each attribute field that requires validation has its own sheet tab\", \"\"\n",
    "    , \"Column A:    of each sheet tab contains all unique acceptable responses\",\n",
    "    \"Column B:    an upper case version, to wrangle case mismatches\",\n",
    "    \"Column D:   is generated by the process, this is a list of an uppercase version of each unique unacceptable response, this builds over time with each collection\",\n",
    "    \"Column E:   you can enter accpetable response here (sase sensitive) to be swapped out in the data, save and exit this file, run the process again and they will be replaced\"\n",
    "    , \"\", \"\", \"Gavin Harmon 9 - July -2020\"])\n",
    "\n",
    "notes.columns = ['Notes']\n",
    "\n",
    "notes.to_excel(w, index=False, sheet_name=\"Notes\")"
   ]
  },
  {
   "cell_type": "markdown",
   "id": "09632784",
   "metadata": {
    "papermill": {
     "duration": 0.702155,
     "end_time": "2021-06-09T17:40:11.022389",
     "exception": false,
     "start_time": "2021-06-09T17:40:10.320234",
     "status": "completed"
    },
    "tags": []
   },
   "source": [
    "#### Step two, build the new sheets for each validcols field"
   ]
  },
  {
   "cell_type": "code",
   "execution_count": 23,
   "id": "f4130759",
   "metadata": {
    "execution": {
     "iopub.execute_input": "2021-06-09T17:40:12.555580Z",
     "iopub.status.busy": "2021-06-09T17:40:12.539960Z",
     "iopub.status.idle": "2021-06-09T17:40:13.433338Z",
     "shell.execute_reply": "2021-06-09T17:40:13.434342Z"
    },
    "papermill": {
     "duration": 1.649743,
     "end_time": "2021-06-09T17:40:13.435334",
     "exception": false,
     "start_time": "2021-06-09T17:40:11.785591",
     "status": "completed"
    },
    "pycharm": {
     "name": "#%%\n"
    },
    "tags": []
   },
   "outputs": [],
   "source": [
    "for v in enumerate(validcols):\n",
    "    df = pd.DataFrame(gacout[v[0]][0], index=[f\"{v[1]}\", 'Upper_Vers', '', 'Non Matches', 'User Defined Corrections']).T\n",
    "    df.to_excel(w, index=False, sheet_name=gacout[v[0]][1])\n",
    "w.save()"
   ]
  },
  {
   "cell_type": "markdown",
   "id": "02c092a0",
   "metadata": {
    "papermill": {
     "duration": 0.686991,
     "end_time": "2021-06-09T17:40:14.823265",
     "exception": false,
     "start_time": "2021-06-09T17:40:14.136274",
     "status": "completed"
    },
    "tags": []
   },
   "source": [
    "#### Step three, read these lists back in, make the necessary replacements in the DataFrame"
   ]
  },
  {
   "cell_type": "code",
   "execution_count": 24,
   "id": "eac8a871",
   "metadata": {
    "execution": {
     "iopub.execute_input": "2021-06-09T17:40:16.405446Z",
     "iopub.status.busy": "2021-06-09T17:40:16.405446Z",
     "iopub.status.idle": "2021-06-09T17:40:20.929110Z",
     "shell.execute_reply": "2021-06-09T17:40:20.929110Z"
    },
    "papermill": {
     "duration": 5.287669,
     "end_time": "2021-06-09T17:40:20.929110",
     "exception": false,
     "start_time": "2021-06-09T17:40:15.641441",
     "status": "completed"
    },
    "pycharm": {
     "name": "#%%\n"
    },
    "tags": []
   },
   "outputs": [],
   "source": [
    "for s in validcols:\n",
    "    t = pd.read_excel(f'//hecate/Insurance_US/Product Development/Product Management/Global PPM/Reporting/Data Collection/Production/{str(percode)}\\\\{str(percode)}_Attribute_Catalog.xlsx', sheet_name = s )\n",
    "    checktabs.append([[s],[t]])"
   ]
  },
  {
   "cell_type": "code",
   "execution_count": 25,
   "id": "e1620bda",
   "metadata": {
    "execution": {
     "iopub.execute_input": "2021-06-09T17:40:22.140501Z",
     "iopub.status.busy": "2021-06-09T17:40:22.132130Z",
     "iopub.status.idle": "2021-06-09T17:40:22.386531Z",
     "shell.execute_reply": "2021-06-09T17:40:22.386531Z"
    },
    "papermill": {
     "duration": 0.893796,
     "end_time": "2021-06-09T17:40:22.386531",
     "exception": false,
     "start_time": "2021-06-09T17:40:21.492735",
     "status": "completed"
    },
    "pycharm": {
     "name": "#%%\n"
    },
    "tags": []
   },
   "outputs": [],
   "source": [
    "gacout = []\n",
    "\n",
    "for u in enumerate(validcols):\n",
    "    trandata.loc[0:len(trandata[u[1]]), u[1]] = trandata[u[1]].replace(\n",
    "        [checktabs[u[0]][1][0]['Non Matches']][0].to_numpy(),\n",
    "        [checktabs[u[0]][1][0]['User Defined Corrections']][0].to_numpy())\n",
    "repper = trandata[['business_unit', 'reporting_date_to']]\n",
    "repper = pd.DataFrame({\"business_unit\": (repper['business_unit']), \"YearMo\": (repper['reporting_date_to'])})\n",
    "minrep = repper.groupby(['business_unit']).max()\n",
    "a = trandata['business_unit'].replace(list(minrep.axes[0]), minrep.get(\"YearMo\"))\n",
    "trandata['rep_date'] = a\n",
    "trandata.loc[0:len(trandata['business_partner_id_number']), 'business_partner_id_number'] = trandata[\n",
    "    'business_partner_id_number'].replace('0', 'Not Provided').fillna('Not Provided')\n",
    "trandata.loc[0:len(trandata['product_id_number']), 'product_id_number'] = trandata['product_id_number'].replace('0',\n",
    "                                                                                                                'Not Provided').replace(\n",
    "    '-', 'Not Provided').fillna('Not Provided')\n",
    "trandata.loc[0:len(trandata['sub_lob']), 'sub_lob'] = trandata['sub_lob'].replace('0', 'Not Provided').replace('-',\n",
    "                                                                                                               'Not Provided').replace(\n",
    "    'Other', 'Not Provided').fillna('Not Provided')"
   ]
  },
  {
   "cell_type": "markdown",
   "id": "2c2b552b",
   "metadata": {
    "papermill": {
     "duration": 0.856464,
     "end_time": "2021-06-09T17:40:24.066323",
     "exception": false,
     "start_time": "2021-06-09T17:40:23.209859",
     "status": "completed"
    },
    "tags": []
   },
   "source": [
    "#### Evaluate the current state, alert the user if input is needed.\n",
    "- At the end of this process, alert the user with instructions if they need to adjust bad entries for validated fields.\n",
    "\n"
   ]
  },
  {
   "cell_type": "code",
   "execution_count": 26,
   "id": "64aeb271",
   "metadata": {
    "execution": {
     "iopub.execute_input": "2021-06-09T17:40:25.602206Z",
     "iopub.status.busy": "2021-06-09T17:40:25.571207Z",
     "iopub.status.idle": "2021-06-09T17:40:32.775050Z",
     "shell.execute_reply": "2021-06-09T17:40:32.777043Z"
    },
    "papermill": {
     "duration": 7.930733,
     "end_time": "2021-06-09T17:40:32.777043",
     "exception": false,
     "start_time": "2021-06-09T17:40:24.846310",
     "status": "completed"
    },
    "tags": []
   },
   "outputs": [],
   "source": [
    "#see above note about converting to dictionaries\n",
    "\n",
    "#Make lists of all the attribute catalog entries that do not have a correction as a list of errors.\n",
    "err_messages = []\n",
    "\n",
    "for idx, i in enumerate(checktabs):\n",
    "    subset_no_nans =  i[1][0][['Non Matches', 'User Defined Corrections']][~i[1][0]['Non Matches'].isna()]\n",
    "    entries = subset_no_nans['Non Matches'][subset_no_nans['User Defined Corrections'].isna()]. tolist()\n",
    "    if len(entries) > 0: \n",
    "        err_messages.append(f'Please deal with bad entries {entries} on tab {i[0][0]} of the Attribute Catalog.')\n",
    "\n",
    "#raise an error to stop the process and give instructions\n",
    "\n",
    "# define Python user-defined exceptions\n",
    "\n",
    "\n",
    "# define Python user-defined exceptions\n",
    "class Error(Exception):\n",
    "    \"\"\"Base class for other exceptions\"\"\"\n",
    "    pass\n",
    "\n",
    "class BadEntriesError(Error):\n",
    "    \"\"\"Raised when the input value is too large\"\"\"\n",
    "    for i in err_messages : print(i)\n",
    "    \n",
    "    os.startfile(atcat)\n",
    "\n",
    "if len(err_messages) > 0:\n",
    "    raise BadEntriesError\n",
    "else:\n",
    "    pass\n",
    "        "
   ]
  },
  {
   "cell_type": "markdown",
   "id": "569bf5fd",
   "metadata": {
    "papermill": {
     "duration": 0.766839,
     "end_time": "2021-06-09T17:40:34.333674",
     "exception": false,
     "start_time": "2021-06-09T17:40:33.566835",
     "status": "completed"
    },
    "tags": []
   },
   "source": [
    "#### Remove empty rows, if there is no claims experience and no revenue for a 12 month period, it should not be included"
   ]
  },
  {
   "cell_type": "code",
   "execution_count": 27,
   "id": "0e14e3b6",
   "metadata": {
    "execution": {
     "iopub.execute_input": "2021-06-09T17:40:35.832406Z",
     "iopub.status.busy": "2021-06-09T17:40:35.832406Z",
     "iopub.status.idle": "2021-06-09T17:40:35.885838Z",
     "shell.execute_reply": "2021-06-09T17:40:35.885838Z"
    },
    "papermill": {
     "duration": 0.843161,
     "end_time": "2021-06-09T17:40:35.885838",
     "exception": false,
     "start_time": "2021-06-09T17:40:35.042677",
     "status": "completed"
    },
    "pycharm": {
     "name": "#%%\n"
    },
    "tags": []
   },
   "outputs": [],
   "source": [
    "trandata = trandata.loc[(trandata['units_of_risk_(written)'].fillna(0).replace('', 0)\n",
    "                         + trandata['written_revenues_net_of_taxes'].fillna(0).replace('', 0)\n",
    "                         + trandata['written_revenues'].fillna(0).replace('', 0)\n",
    "                         + trandata['number_of_policies_(earned)'].fillna(0).replace('', 0)\n",
    "                         + trandata['units_of_risk_(earned)'].fillna(0).replace('', 0)\n",
    "                         + trandata['earned_revenues_net_of_taxes'].fillna(0).replace('', 0)\n",
    "                         + trandata['earned_revenues'].fillna(0).replace('', 0)\n",
    "                         + trandata['earned_base_commissions'].fillna(0).replace('', 0)\n",
    "                         + trandata['upfront_cash_payments'].fillna(0).replace('', 0)\n",
    "                         + trandata['earned_over-commissions'].fillna(0).replace('', 0)\n",
    "                         + trandata['total_compensation'].fillna(0).replace('', 0)\n",
    "                         + trandata['number_of_claims_(paid_+_ocr_+_ibnr)'].fillna(0).replace('', 0)\n",
    "                         + trandata['number_of_open_claims'].fillna(0).replace('', 0)\n",
    "                         + trandata['open_claims_%'].fillna(0).replace('', 0)\n",
    "                         + trandata['number_of_persons_involved_in_claims_(paid_+_ocr_+_ibnr)'].fillna(0).replace('', 0)\n",
    "                         + trandata['paid_claims'].fillna(0).replace('', 0)\n",
    "                         + trandata['ocr_+_ibnr'].fillna(0).replace('', 0)\n",
    "                         + trandata['actual_incurred_losses_(paid_+_ocr_+_ibnr)'].fillna(0).replace('', 0)\n",
    "                         + trandata['internal_variable_costs_(excl._az_tech_fee)'].fillna(0).replace('', 0)\n",
    "                         + trandata['az_tech_fee'].fillna(0).replace('', 0)\n",
    "                         + trandata['internal_fixed_costs_(excl._hq_fees)'].fillna(0).replace('', 0)\n",
    "                         + trandata['hq_fees'].fillna(0).replace('', 0)\n",
    "                         + trandata['total_expenses'].fillna(0).replace('', 0)\n",
    "                         + trandata['frequency_(earned)'].fillna(0).replace('', 0)\n",
    "                         + trandata['severity'].fillna(0).replace('', 0))\n",
    "                        != 0]"
   ]
  },
  {
   "cell_type": "markdown",
   "id": "78658ba1",
   "metadata": {
    "papermill": {
     "duration": 0.801771,
     "end_time": "2021-06-09T17:40:37.417971",
     "exception": false,
     "start_time": "2021-06-09T17:40:36.616200",
     "status": "completed"
    },
    "pycharm": {
     "name": "#%% md\n"
    },
    "tags": []
   },
   "source": [
    "#### Output temp file"
   ]
  },
  {
   "cell_type": "code",
   "execution_count": 28,
   "id": "51e0023c",
   "metadata": {
    "execution": {
     "iopub.execute_input": "2021-06-09T17:40:38.999007Z",
     "iopub.status.busy": "2021-06-09T17:40:38.998000Z",
     "iopub.status.idle": "2021-06-09T17:41:54.828720Z",
     "shell.execute_reply": "2021-06-09T17:41:54.830713Z"
    },
    "papermill": {
     "duration": 76.602202,
     "end_time": "2021-06-09T17:41:54.830713",
     "exception": false,
     "start_time": "2021-06-09T17:40:38.228511",
     "status": "completed"
    },
    "pycharm": {
     "name": "#%%\n"
    },
    "tags": []
   },
   "outputs": [],
   "source": [
    "# trandata.to_parquet(\n",
    "#     f'//hecate/Insurance_US/Product Development/Product Management/Global PPM/Reporting/Data Collection/Production/{str(percode)}\\\\{str(percode)}.localcur.parquet', engine = \"pyarrow\")\n",
    "\n",
    "trandata.to_csv(\n",
    "    \n",
    "     f'//hecate/Insurance_US/Product Development/Product Management/Global PPM/Reporting/Data Collection/Production/{str(percode)}\\\\{str(percode)}.localcur.csv', index = False)\n"
   ]
  },
  {
   "cell_type": "markdown",
   "id": "e43c38be",
   "metadata": {
    "papermill": {
     "duration": 0.753383,
     "end_time": "2021-06-09T17:41:56.390491",
     "exception": false,
     "start_time": "2021-06-09T17:41:55.637108",
     "status": "completed"
    },
    "tags": []
   },
   "source": [
    "#### Store the DataFrame for other noteboks to use"
   ]
  },
  {
   "cell_type": "code",
   "execution_count": 29,
   "id": "1b1b4eb1",
   "metadata": {
    "execution": {
     "iopub.execute_input": "2021-06-09T17:41:57.971054Z",
     "iopub.status.busy": "2021-06-09T17:41:57.971054Z",
     "iopub.status.idle": "2021-06-09T17:41:58.146919Z",
     "shell.execute_reply": "2021-06-09T17:41:58.146919Z"
    },
    "papermill": {
     "duration": 0.944374,
     "end_time": "2021-06-09T17:41:58.146919",
     "exception": false,
     "start_time": "2021-06-09T17:41:57.202545",
     "status": "completed"
    },
    "tags": []
   },
   "outputs": [
    {
     "name": "stdout",
     "output_type": "stream",
     "text": [
      "Stored 'py_t_df' (DataFrame)\n"
     ]
    }
   ],
   "source": [
    "py_t_df = trandata\n",
    "\n",
    "%store py_t_df\n"
   ]
  }
 ],
 "metadata": {
  "celltoolbar": "Tags",
  "kernelspec": {
   "display_name": "Python 3",
   "language": "python",
   "name": "python3"
  },
  "language_info": {
   "codemirror_mode": {
    "name": "ipython",
    "version": 3
   },
   "file_extension": ".py",
   "mimetype": "text/x-python",
   "name": "python",
   "nbconvert_exporter": "python",
   "pygments_lexer": "ipython3",
   "version": "3.7.6"
  },
  "papermill": {
   "default_parameters": {},
   "duration": 185.774508,
   "end_time": "2021-06-09T17:41:59.427049",
   "environment_variables": {},
   "exception": null,
   "input_path": "pipeline/py_transform.ipynb",
   "output_path": "//hecate/Insurance_US/Product Development/Product Management/Global PPM/Reporting/Data Collection/Pipeline Reporting Scripts/GPMpipeline/instances/2021.Q1\\pipeline\\py_transform06092021132743--live, add US.ipynb",
   "parameters": {
    "commit_message": "Live run,Late additions EI, CH, PTupdate, and DE.",
    "inst_datetime": "06092021132743",
    "percode": "2021.Q1",
    "run_control": 1
   },
   "start_time": "2021-06-09T17:38:53.652541",
   "version": "2.3.3"
  }
 },
 "nbformat": 4,
 "nbformat_minor": 5
}