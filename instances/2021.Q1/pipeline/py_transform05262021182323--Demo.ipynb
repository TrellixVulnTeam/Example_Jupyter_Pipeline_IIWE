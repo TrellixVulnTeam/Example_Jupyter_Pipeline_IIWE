{
 "cells": [
  {
   "cell_type": "markdown",
   "id": "8d7c93b1",
   "metadata": {
    "papermill": {
     "duration": 0.444515,
     "end_time": "2021-05-26T22:26:53.298648",
     "exception": false,
     "start_time": "2021-05-26T22:26:52.854133",
     "status": "completed"
    },
    "pycharm": {
     "name": "#%% md\n"
    },
    "tags": []
   },
   "source": [
    "<img src=\"../images/AzPTravel_PPM.png\">"
   ]
  },
  {
   "cell_type": "markdown",
   "id": "ce56be6b",
   "metadata": {
    "collapsed": true,
    "papermill": {
     "duration": 0.323828,
     "end_time": "2021-05-26T22:26:54.031775",
     "exception": false,
     "start_time": "2021-05-26T22:26:53.707947",
     "status": "completed"
    },
    "pycharm": {
     "name": "#%% md\n"
    },
    "tags": []
   },
   "source": [
    "## GPM Data Transformation Script\n",
    "\n",
    "#### This script transforms the single consolidated raw file \"{Data Collection}.csv\" into it's final GPM input versions \"{Data Collection Code}localcur.csv\" and \"{Data Collection Code}euroconv.csv\"\n",
    "#### Current transformations\n",
    "\n",
    "-    make headers lowercase and replace spaces with hyphens\n",
    "-    Remove any rows with null BUs\n",
    "-    validate columns in validcols\n",
    "-    output documented here: \"Global_Attribute_Catalog.xlsx\" you can also edit dataframe entries using the instructions in the file\n",
    "-    replace various null or placeholder values with \"Not Provided\"\n"
   ]
  },
  {
   "cell_type": "markdown",
   "id": "0906d51b",
   "metadata": {
    "papermill": {
     "duration": 0.342998,
     "end_time": "2021-05-26T22:26:54.706773",
     "exception": false,
     "start_time": "2021-05-26T22:26:54.363775",
     "status": "completed"
    },
    "tags": []
   },
   "source": [
    "###"
   ]
  },
  {
   "cell_type": "code",
   "execution_count": 1,
   "id": "d5ed64cf",
   "metadata": {
    "execution": {
     "iopub.execute_input": "2021-05-26T22:26:55.477569Z",
     "iopub.status.busy": "2021-05-26T22:26:55.473578Z",
     "iopub.status.idle": "2021-05-26T22:26:55.484569Z",
     "shell.execute_reply": "2021-05-26T22:26:55.494571Z"
    },
    "papermill": {
     "duration": 0.416905,
     "end_time": "2021-05-26T22:26:55.494571",
     "exception": false,
     "start_time": "2021-05-26T22:26:55.077666",
     "status": "completed"
    },
    "pycharm": {
     "name": "#%%\n"
    },
    "tags": [
     "parameters"
    ]
   },
   "outputs": [],
   "source": [
    "commit = \"\"\n",
    "# give a reason for the run\n",
    "\n",
    "percode = \"20XX.QX\"\n",
    "# Data Collection Code, this controls file paths and output names\n",
    "\n",
    "run_type = 1\n",
    "#run_type =  0 - lite run with no reporting, not recommended.\n",
    "#run_type =  1 - lite run with normal reporting, default setting.\n",
    "#run_type =  2 - Heavy run with full reporting, available for audits and troubleshooting.\n",
    "\n",
    "specialchars = \"-GTHtest\"\n",
    "# optional - add up to a 12 character code in order to mark your instance record .ipynb\n",
    "\n",
    "from datetime import datetime\n",
    "inst_datetime = datetime.now().strftime(\"%m%d%Y%H%M%S\")\n",
    "# a single datetime stamp for the full instance run\n"
   ]
  },
  {
   "cell_type": "code",
   "execution_count": 2,
   "id": "dad8c5f9",
   "metadata": {
    "execution": {
     "iopub.execute_input": "2021-05-26T22:26:56.266866Z",
     "iopub.status.busy": "2021-05-26T22:26:56.265875Z",
     "iopub.status.idle": "2021-05-26T22:26:56.270862Z",
     "shell.execute_reply": "2021-05-26T22:26:56.271864Z"
    },
    "papermill": {
     "duration": 0.441994,
     "end_time": "2021-05-26T22:26:56.271864",
     "exception": false,
     "start_time": "2021-05-26T22:26:55.829870",
     "status": "completed"
    },
    "tags": [
     "injected-parameters"
    ]
   },
   "outputs": [],
   "source": [
    "# Parameters\n",
    "run_control = 1\n",
    "percode = \"2021.Q1\"\n",
    "commit_message = \"Demo Test\"\n",
    "inst_datetime = \"05262021182323\"\n"
   ]
  },
  {
   "cell_type": "markdown",
   "id": "fd85789f",
   "metadata": {
    "papermill": {
     "duration": 0.388994,
     "end_time": "2021-05-26T22:26:57.088630",
     "exception": false,
     "start_time": "2021-05-26T22:26:56.699636",
     "status": "completed"
    },
    "tags": []
   },
   "source": [
    "### Set Run Control\n",
    "\n",
    "##### 0 - lite run with no reporting, not recommended.\n",
    "##### 1 - lite run with normal reporting, default setting.\n",
    "##### 2 - Heavy run with full reporting, available for audits and troubleshooting."
   ]
  },
  {
   "cell_type": "code",
   "execution_count": 3,
   "id": "3019267e",
   "metadata": {
    "execution": {
     "iopub.execute_input": "2021-05-26T22:26:57.899463Z",
     "iopub.status.busy": "2021-05-26T22:26:57.896580Z",
     "iopub.status.idle": "2021-05-26T22:26:57.905466Z",
     "shell.execute_reply": "2021-05-26T22:26:57.906464Z"
    },
    "papermill": {
     "duration": 0.402703,
     "end_time": "2021-05-26T22:26:57.906464",
     "exception": false,
     "start_time": "2021-05-26T22:26:57.503761",
     "status": "completed"
    },
    "pycharm": {
     "name": "#%%\n"
    },
    "tags": []
   },
   "outputs": [],
   "source": [
    "run_control = 0  # in development mode"
   ]
  },
  {
   "cell_type": "code",
   "execution_count": 4,
   "id": "42cafafa",
   "metadata": {
    "execution": {
     "iopub.execute_input": "2021-05-26T22:26:58.705866Z",
     "iopub.status.busy": "2021-05-26T22:26:58.703868Z",
     "iopub.status.idle": "2021-05-26T22:27:01.806057Z",
     "shell.execute_reply": "2021-05-26T22:27:01.808065Z"
    },
    "papermill": {
     "duration": 3.505237,
     "end_time": "2021-05-26T22:27:01.808065",
     "exception": false,
     "start_time": "2021-05-26T22:26:58.302828",
     "status": "completed"
    },
    "pycharm": {
     "name": "#%%\n"
    },
    "tags": []
   },
   "outputs": [],
   "source": [
    "#### Packages used\n",
    "import sys\n",
    "import os\n",
    "import pandas as pd\n",
    "from pandas import ExcelWriter\n",
    "from numpy import nan"
   ]
  },
  {
   "cell_type": "code",
   "execution_count": 5,
   "id": "e61c986e",
   "metadata": {
    "execution": {
     "iopub.execute_input": "2021-05-26T22:27:02.556327Z",
     "iopub.status.busy": "2021-05-26T22:27:02.551332Z",
     "iopub.status.idle": "2021-05-26T22:27:02.562330Z",
     "shell.execute_reply": "2021-05-26T22:27:02.563327Z"
    },
    "papermill": {
     "duration": 0.393994,
     "end_time": "2021-05-26T22:27:02.563327",
     "exception": false,
     "start_time": "2021-05-26T22:27:02.169333",
     "status": "completed"
    },
    "pycharm": {
     "name": "#%%\n"
    },
    "tags": []
   },
   "outputs": [],
   "source": [
    "default_dc = \"2021.Q1\"\n",
    "\n",
    "try:\n",
    "    if sys.argv[1] == \"-f\":\n",
    "        percode = default_dc\n",
    "    else:\n",
    "        percode = sys.argv[1]\n",
    "\n",
    "except IndexError:\n",
    "    percode = default_dc\n",
    "except NameError:\n",
    "    percode = default_dc"
   ]
  },
  {
   "cell_type": "markdown",
   "id": "386a0968",
   "metadata": {
    "papermill": {
     "duration": 0.662134,
     "end_time": "2021-05-26T22:27:03.608557",
     "exception": false,
     "start_time": "2021-05-26T22:27:02.946423",
     "status": "completed"
    },
    "tags": []
   },
   "source": [
    "#### style settings"
   ]
  },
  {
   "cell_type": "code",
   "execution_count": 6,
   "id": "d80c2d6c",
   "metadata": {
    "execution": {
     "iopub.execute_input": "2021-05-26T22:27:04.430290Z",
     "iopub.status.busy": "2021-05-26T22:27:04.429289Z",
     "iopub.status.idle": "2021-05-26T22:27:04.435297Z",
     "shell.execute_reply": "2021-05-26T22:27:04.436291Z"
    },
    "papermill": {
     "duration": 0.432046,
     "end_time": "2021-05-26T22:27:04.437294",
     "exception": false,
     "start_time": "2021-05-26T22:27:04.005248",
     "status": "completed"
    },
    "tags": []
   },
   "outputs": [],
   "source": [
    "from IPython.core.interactiveshell import InteractiveShell\n",
    "InteractiveShell.ast_node_interactivity = \"all\""
   ]
  },
  {
   "cell_type": "markdown",
   "id": "39667633",
   "metadata": {
    "papermill": {
     "duration": 0.419029,
     "end_time": "2021-05-26T22:27:05.248183",
     "exception": false,
     "start_time": "2021-05-26T22:27:04.829154",
     "status": "completed"
    },
    "tags": []
   },
   "source": [
    "#### Convert paths and files to variables.\n",
    "#### Read data into pd DataFrames.\n",
    "#### Make paths for the live sources."
   ]
  },
  {
   "cell_type": "code",
   "execution_count": 7,
   "id": "53319d99",
   "metadata": {
    "execution": {
     "iopub.execute_input": "2021-05-26T22:27:06.235377Z",
     "iopub.status.busy": "2021-05-26T22:27:06.233351Z",
     "iopub.status.idle": "2021-05-26T22:27:06.246355Z",
     "shell.execute_reply": "2021-05-26T22:27:06.247348Z"
    },
    "papermill": {
     "duration": 0.571318,
     "end_time": "2021-05-26T22:27:06.247348",
     "exception": false,
     "start_time": "2021-05-26T22:27:05.676030",
     "status": "completed"
    },
    "pycharm": {
     "name": "#%%\n"
    },
    "tags": []
   },
   "outputs": [],
   "source": [
    "rt_path = os.path.join( f'\\\\\\\\hecate\\\\Insurance_US\\\\Product Development\\\\Product Management\\\\Global PPM\\\\Reporting\\\\Data Collection\\\\Production',percode)\n",
    "\n",
    "infile = os.path.join(rt_path, f'{str(percode)}.parquet')\n",
    "gppm_file = os.path.join(rt_path, f'GPPM_Input_{str(percode)}.xlsx')\n",
    "atcat = os.path.join(rt_path, f'{percode}_Attribute_Catalog.xlsx')\n"
   ]
  },
  {
   "cell_type": "code",
   "execution_count": 8,
   "id": "20d4a23a",
   "metadata": {
    "execution": {
     "iopub.execute_input": "2021-05-26T22:27:07.687270Z",
     "iopub.status.busy": "2021-05-26T22:27:07.685276Z",
     "iopub.status.idle": "2021-05-26T22:27:07.691281Z",
     "shell.execute_reply": "2021-05-26T22:27:07.693271Z"
    },
    "papermill": {
     "duration": 0.803426,
     "end_time": "2021-05-26T22:27:07.696300",
     "exception": false,
     "start_time": "2021-05-26T22:27:06.892874",
     "status": "completed"
    },
    "tags": []
   },
   "outputs": [],
   "source": [
    "#### Read input file\n",
    "\n",
    "#### This reads the consolidated file that will be transformed or a stored dataframe based on the execution method."
   ]
  },
  {
   "cell_type": "code",
   "execution_count": 9,
   "id": "8f96b0a0",
   "metadata": {
    "execution": {
     "iopub.execute_input": "2021-05-26T22:27:08.913117Z",
     "iopub.status.busy": "2021-05-26T22:27:08.909118Z",
     "iopub.status.idle": "2021-05-26T22:27:09.073649Z",
     "shell.execute_reply": "2021-05-26T22:27:09.076651Z"
    },
    "papermill": {
     "duration": 0.794739,
     "end_time": "2021-05-26T22:27:09.076651",
     "exception": false,
     "start_time": "2021-05-26T22:27:08.281912",
     "status": "completed"
    },
    "pycharm": {
     "name": "#%%\n"
    },
    "tags": []
   },
   "outputs": [
    {
     "name": "stdout",
     "output_type": "stream",
     "text": [
      "                       Submission File Business Unit Country Currency  \\\n",
      "0     us_dat_au_05142021143612.parquet            AU      AU      AUD   \n",
      "1     us_dat_au_05142021143612.parquet            AU      AU      AUD   \n",
      "2     us_dat_au_05142021143612.parquet            AU      AU      AUD   \n",
      "3     us_dat_au_05142021143612.parquet            AU      AU      AUD   \n",
      "4     us_dat_au_05142021143612.parquet            AU      AU      AUD   \n",
      "...                                ...           ...     ...      ...   \n",
      "3468  us_dat_pt_05202021121056.parquet            PT      PT      EUR   \n",
      "3469  us_dat_pt_05202021121056.parquet            PT      PT      EUR   \n",
      "3470  us_dat_pt_05202021121056.parquet            PT      PT      EUR   \n",
      "3471  us_dat_pt_05202021121056.parquet            PT      PT      EUR   \n",
      "3472  us_dat_pt_05202021121056.parquet            PT      PT      EUR   \n",
      "\n",
      "                           Region Reporting Date From Reporting Date To  \\\n",
      "0                            APAC          2021-01-01        2021-03-31   \n",
      "1                            APAC          2021-01-01        2021-03-31   \n",
      "2                            APAC          2021-01-01        2021-03-31   \n",
      "3                            APAC          2021-01-01        2021-03-31   \n",
      "4                            APAC          2021-01-01        2021-03-31   \n",
      "...                           ...                 ...               ...   \n",
      "3468  Western Europe, LATAM & MEA          2021-01-01        2021-03-31   \n",
      "3469  Western Europe, LATAM & MEA          2021-01-01        2021-03-31   \n",
      "3470  Western Europe, LATAM & MEA          2021-01-01        2021-03-31   \n",
      "3471  Western Europe, LATAM & MEA          2021-01-01        2021-03-31   \n",
      "3472  Western Europe, LATAM & MEA          2021-01-01        2021-03-31   \n",
      "\n",
      "     Date of Analysis Type of Analysis  Analysed Months  ...  Notes  \\\n",
      "0          2021-04-30     Year To Date              3.0  ...          \n",
      "1          2021-04-30     Year To Date              3.0  ...          \n",
      "2          2021-04-30     Year To Date              3.0  ...          \n",
      "3          2021-04-30     Year To Date              3.0  ...          \n",
      "4          2021-04-30     Year To Date              3.0  ...          \n",
      "...               ...              ...              ...  ...    ...   \n",
      "3468       2021-03-31     Year To Date              3.0  ...    0.0   \n",
      "3469       2021-03-31     Year To Date              3.0  ...    0.0   \n",
      "3470       2021-03-31     Year To Date              3.0  ...    0.0   \n",
      "3471       2021-03-31     Year To Date              3.0  ...    0.0   \n",
      "3472       2021-03-31     Year To Date              3.0  ...    0.0   \n",
      "\n",
      "      Unnamed: 66  concat2    comsub     expsub Reporting Date From INT  \\\n",
      "0             0.0    AUAUD  0.100998   3.245346                20210101   \n",
      "1             0.0    AUAUD  0.233379   3.589092                20210101   \n",
      "2             0.0    AUAUD  0.000000   0.000000                20210101   \n",
      "3             0.0    AUAUD  0.000000   4.723789                20210101   \n",
      "4             0.0    AUAUD  0.220000   4.239521                20210101   \n",
      "...           ...      ...       ...        ...                     ...   \n",
      "3468          0.0    PTEUR  0.000000   0.538397                20210101   \n",
      "3469          0.0    PTEUR  0.000000   0.426832                20210101   \n",
      "3470          0.0    PTEUR  0.000000  18.673326                20210101   \n",
      "3471          0.0    PTEUR  0.000000   0.859278                20210101   \n",
      "3472          0.0    PTEUR  0.000000   1.023709                20210101   \n",
      "\n",
      "     Reporting Date To INT Date of Analysis INT  \\\n",
      "0                 20210331             20210430   \n",
      "1                 20210331             20210430   \n",
      "2                 20210331             20210430   \n",
      "3                 20210331             20210430   \n",
      "4                 20210331             20210430   \n",
      "...                    ...                  ...   \n",
      "3468              20210331             20210331   \n",
      "3469              20210331             20210331   \n",
      "3470              20210331             20210331   \n",
      "3471              20210331             20210331   \n",
      "3472              20210331             20210331   \n",
      "\n",
      "                         Selected Fields for Duplicates ibnrsub  \n",
      "0     AUInsuranceLocalB2B2CTravelAllianz Affiliation...     NaN  \n",
      "1     AUInsuranceLocalB2B2CTravelOffline Travel Agen...     NaN  \n",
      "2     AUInsuranceLocalB2B2CTravelOffline Travel Agen...     NaN  \n",
      "3     AUInsuranceLocalB2B2CTravelAllianz Affiliation...     NaN  \n",
      "4     AUInsuranceLocalB2CTravelDirect (Allianz Partn...     NaN  \n",
      "...                                                 ...     ...  \n",
      "3468  PTReinsuranceLocalB2B2CTravelDirect (Allianz P...     0.0  \n",
      "3469  PTReinsuranceLocalB2B2CTravelDirect (Allianz P...     0.0  \n",
      "3470  PTReinsuranceLocalB2B2CTravelDirect (Allianz P...     0.0  \n",
      "3471  PTReinsuranceLocalB2B2CTravelDirect (Allianz P...     0.0  \n",
      "3472  PTReinsuranceLocalB2BTravelDirect (Allianz Par...     0.0  \n",
      "\n",
      "[3473 rows x 76 columns]\n"
     ]
    }
   ],
   "source": [
    "try:\n",
    "    %store -r read_dc_df\n",
    "    input = read_dc_df\n",
    "        \n",
    "except:\n",
    "    input = pd.read_parquet(infile,engine = \"pyarrow\")\n",
    "    os.remove(infile)\n",
    "\n",
    "print(input)"
   ]
  },
  {
   "cell_type": "markdown",
   "id": "e0d7f175",
   "metadata": {
    "papermill": {
     "duration": 0.50595,
     "end_time": "2021-05-26T22:27:10.118373",
     "exception": false,
     "start_time": "2021-05-26T22:27:09.612423",
     "status": "completed"
    },
    "tags": []
   },
   "source": [
    "#### Make a copy for debug purposes"
   ]
  },
  {
   "cell_type": "code",
   "execution_count": 10,
   "id": "c6486442",
   "metadata": {
    "execution": {
     "iopub.execute_input": "2021-05-26T22:27:11.191165Z",
     "iopub.status.busy": "2021-05-26T22:27:11.189162Z",
     "iopub.status.idle": "2021-05-26T22:27:11.200161Z",
     "shell.execute_reply": "2021-05-26T22:27:11.202185Z"
    },
    "papermill": {
     "duration": 0.59054,
     "end_time": "2021-05-26T22:27:11.202185",
     "exception": false,
     "start_time": "2021-05-26T22:27:10.611645",
     "status": "completed"
    },
    "pycharm": {
     "name": "#%%\n"
    },
    "tags": []
   },
   "outputs": [],
   "source": [
    "trandata = input.copy()"
   ]
  },
  {
   "cell_type": "markdown",
   "id": "c4f23eee",
   "metadata": {
    "papermill": {
     "duration": 0.490734,
     "end_time": "2021-05-26T22:27:12.206943",
     "exception": false,
     "start_time": "2021-05-26T22:27:11.716209",
     "status": "completed"
    },
    "tags": []
   },
   "source": [
    "#### Format Headers"
   ]
  },
  {
   "cell_type": "code",
   "execution_count": 11,
   "id": "e5257bc5",
   "metadata": {
    "execution": {
     "iopub.execute_input": "2021-05-26T22:27:13.163982Z",
     "iopub.status.busy": "2021-05-26T22:27:13.162976Z",
     "iopub.status.idle": "2021-05-26T22:27:13.170978Z",
     "shell.execute_reply": "2021-05-26T22:27:13.172976Z"
    },
    "papermill": {
     "duration": 0.519031,
     "end_time": "2021-05-26T22:27:13.172976",
     "exception": false,
     "start_time": "2021-05-26T22:27:12.653945",
     "status": "completed"
    },
    "pycharm": {
     "name": "#%%\n"
    },
    "tags": []
   },
   "outputs": [
    {
     "data": {
      "text/plain": [
       "'format headers'"
      ]
     },
     "execution_count": 11,
     "metadata": {},
     "output_type": "execute_result"
    }
   ],
   "source": [
    "# save the column names to variable, format them, replace headers\n",
    "cols = trandata.columns.values\n",
    "\n",
    "\"\"\"format headers\"\"\"\n",
    "fixedcols = []\n",
    "\n",
    "for f in cols:\n",
    "    fixedhead = f.replace(' ', '_').lower()\n",
    "    fixedcols.append(fixedhead)\n",
    "\n",
    "trandata.columns = fixedcols"
   ]
  },
  {
   "cell_type": "markdown",
   "id": "878d2422",
   "metadata": {
    "papermill": {
     "duration": 0.452934,
     "end_time": "2021-05-26T22:27:14.115642",
     "exception": false,
     "start_time": "2021-05-26T22:27:13.662708",
     "status": "completed"
    },
    "pycharm": {
     "name": "#%% md\n"
    },
    "tags": []
   },
   "source": [
    "#### Update Verification 1"
   ]
  },
  {
   "cell_type": "code",
   "execution_count": 12,
   "id": "cdd507bc",
   "metadata": {
    "execution": {
     "iopub.execute_input": "2021-05-26T22:27:15.108807Z",
     "iopub.status.busy": "2021-05-26T22:27:15.103802Z",
     "iopub.status.idle": "2021-05-26T22:27:15.351817Z",
     "shell.execute_reply": "2021-05-26T22:27:15.353804Z"
    },
    "papermill": {
     "duration": 0.733054,
     "end_time": "2021-05-26T22:27:15.353804",
     "exception": false,
     "start_time": "2021-05-26T22:27:14.620750",
     "status": "completed"
    },
    "pycharm": {
     "name": "#%%\n"
    },
    "tags": []
   },
   "outputs": [
    {
     "name": "stdout",
     "output_type": "stream",
     "text": [
      "|    | Original                                                        | Transformed                                                     |\n",
      "|---:|:----------------------------------------------------------------|:----------------------------------------------------------------|\n",
      "|  0 | Submission File                                                 | submission_file                                                 |\n",
      "|  1 | Business Unit                                                   | business_unit                                                   |\n",
      "|  2 | Country                                                         | country                                                         |\n",
      "|  3 | Currency                                                        | currency                                                        |\n",
      "|  4 | Region                                                          | region                                                          |\n",
      "|  5 | Reporting Date From                                             | reporting_date_from                                             |\n",
      "|  6 | Reporting Date To                                               | reporting_date_to                                               |\n",
      "|  7 | Date of Analysis                                                | date_of_analysis                                                |\n",
      "|  8 | Type of Analysis                                                | type_of_analysis                                                |\n",
      "|  9 | Analysed Months                                                 | analysed_months                                                 |\n",
      "| 10 | Reporting Year                                                  | reporting_year                                                  |\n",
      "| 11 | Reporting Quarter                                               | reporting_quarter                                               |\n",
      "| 12 | Reporting Month                                                 | reporting_month                                                 |\n",
      "| 13 | Type of Business                                                | type_of_business                                                |\n",
      "| 14 | Type of Account                                                 | type_of_account                                                 |\n",
      "| 15 | Distribution Type                                               | distribution_type                                               |\n",
      "| 16 | LOB                                                             | lob                                                             |\n",
      "| 17 | Distribution Channel                                            | distribution_channel                                            |\n",
      "| 18 | Sub LOB                                                         | sub_lob                                                         |\n",
      "| 19 | Business Partner Name                                           | business_partner_name                                           |\n",
      "| 20 | Business Partner ID Number                                      | business_partner_id_number                                      |\n",
      "| 21 | Product Name                                                    | product_name                                                    |\n",
      "| 22 | Product ID Number                                               | product_id_number                                               |\n",
      "| 23 | Product Family                                                  | product_family                                                  |\n",
      "| 24 | Standard Product                                                | standard_product                                                |\n",
      "| 25 | Number of Products per Row                                      | number_of_products_per_row                                      |\n",
      "| 26 | Number of B-Partners per Row                                    | number_of_b-partners_per_row                                    |\n",
      "| 27 | Number of Policies (Written)                                    | number_of_policies_(written)                                    |\n",
      "| 28 | Units of Risk (Written)                                         | units_of_risk_(written)                                         |\n",
      "| 29 | Written Revenues net of Taxes                                   | written_revenues_net_of_taxes                                   |\n",
      "| 30 | Written Revenues                                                | written_revenues                                                |\n",
      "| 31 | Number of Policies (Earned)                                     | number_of_policies_(earned)                                     |\n",
      "| 32 | Units of Risk (Earned)                                          | units_of_risk_(earned)                                          |\n",
      "| 33 | Earned Revenues net of Taxes                                    | earned_revenues_net_of_taxes                                    |\n",
      "| 34 | Earned Revenues                                                 | earned_revenues                                                 |\n",
      "| 35 | Earned Base Commissions                                         | earned_base_commissions                                         |\n",
      "| 36 | Earned Over-Commissions                                         | earned_over-commissions                                         |\n",
      "| 37 | Upfront Cash Payments                                           | upfront_cash_payments                                           |\n",
      "| 38 | Total Compensation                                              | total_compensation                                              |\n",
      "| 39 | Number of Claims (Paid + OCR + IBNR)                            | number_of_claims_(paid_+_ocr_+_ibnr)                            |\n",
      "| 40 | Number of Open Claims                                           | number_of_open_claims                                           |\n",
      "| 41 | Open Claims %                                                   | open_claims_%                                                   |\n",
      "| 42 | Number of Persons Involved in Claims (Paid + OCR + IBNR)        | number_of_persons_involved_in_claims_(paid_+_ocr_+_ibnr)        |\n",
      "| 43 | Paid Claims                                                     | paid_claims                                                     |\n",
      "| 44 | OCR + IBNR                                                      | ocr_+_ibnr                                                      |\n",
      "| 45 | % of IBNR on (OCR + IBNR)                                       | %_of_ibnr_on_(ocr_+_ibnr)                                       |\n",
      "| 46 | Actual Incurred Losses (Paid + OCR + IBNR)                      | actual_incurred_losses_(paid_+_ocr_+_ibnr)                      |\n",
      "| 47 | Internal Variable Costs (excl. AZ Tech Fee)                     | internal_variable_costs_(excl._az_tech_fee)                     |\n",
      "| 48 | AZ Tech Fee                                                     | az_tech_fee                                                     |\n",
      "| 49 | Internal Fixed Costs (excl. HQ Fees)                            | internal_fixed_costs_(excl._hq_fees)                            |\n",
      "| 50 | HQ Fees                                                         | hq_fees                                                         |\n",
      "| 51 | Total Expenses                                                  | total_expenses                                                  |\n",
      "| 52 | Frequency (Earned)                                              | frequency_(earned)                                              |\n",
      "| 53 | Severity                                                        | severity                                                        |\n",
      "| 54 | Risk Premium                                                    | risk_premium                                                    |\n",
      "| 55 | Contribution Margin - BU View                                   | contribution_margin_-_bu_view                                   |\n",
      "| 56 | Contribution Margin % on Fixed Costs - BU View                  | contribution_margin_%_on_fixed_costs_-_bu_view                  |\n",
      "| 57 | Contribution Margin % on Earned Revenues net of Taxes - BU View | contribution_margin_%_on_earned_revenues_net_of_taxes_-_bu_view |\n",
      "| 58 | Contribution Margin - HQ View                                   | contribution_margin_-_hq_view                                   |\n",
      "| 59 | Contribution Margin % on Fixed Costs - HQ View                  | contribution_margin_%_on_fixed_costs_-_hq_view                  |\n",
      "| 60 | Contribution Margin % on Earned Revenues net of Taxes - HQ View | contribution_margin_%_on_earned_revenues_net_of_taxes_-_hq_view |\n",
      "| 61 | Loss Ratio                                                      | loss_ratio                                                      |\n",
      "| 62 | Commission Ratio                                                | commission_ratio                                                |\n",
      "| 63 | Expense Ratio                                                   | expense_ratio                                                   |\n",
      "| 64 | Combined Ratio                                                  | combined_ratio                                                  |\n",
      "| 65 | Profit or Loss                                                  | profit_or_loss                                                  |\n",
      "| 66 | Notes                                                           | notes                                                           |\n",
      "| 67 | Unnamed: 66                                                     | unnamed:_66                                                     |\n",
      "| 68 | concat2                                                         | concat2                                                         |\n",
      "| 69 | comsub                                                          | comsub                                                          |\n",
      "| 70 | expsub                                                          | expsub                                                          |\n",
      "| 71 | Reporting Date From INT                                         | reporting_date_from_int                                         |\n",
      "| 72 | Reporting Date To INT                                           | reporting_date_to_int                                           |\n",
      "| 73 | Date of Analysis INT                                            | date_of_analysis_int                                            |\n",
      "| 74 | Selected Fields for Duplicates                                  | selected_fields_for_duplicates                                  |\n",
      "| 75 | ibnrsub                                                         | ibnrsub                                                         |\n"
     ]
    }
   ],
   "source": [
    "if run_control > -10:\n",
    "    disp = {\"Original\": input.columns, \"Transformed\": trandata.columns}\n",
    "\n",
    "    disp = pd.DataFrame(disp)\n",
    "\n",
    "    print(disp.to_markdown())\n",
    "else:\n",
    "    print(\"Skipped Transformation Report 1\")"
   ]
  },
  {
   "cell_type": "markdown",
   "id": "18b50550",
   "metadata": {
    "papermill": {
     "duration": 0.518123,
     "end_time": "2021-05-26T22:27:16.321136",
     "exception": false,
     "start_time": "2021-05-26T22:27:15.803013",
     "status": "completed"
    },
    "tags": []
   },
   "source": [
    "#### Remove rows with null business units\n"
   ]
  },
  {
   "cell_type": "code",
   "execution_count": 13,
   "id": "8847ed02",
   "metadata": {
    "execution": {
     "iopub.execute_input": "2021-05-26T22:27:17.341320Z",
     "iopub.status.busy": "2021-05-26T22:27:17.339315Z",
     "iopub.status.idle": "2021-05-26T22:27:17.352317Z",
     "shell.execute_reply": "2021-05-26T22:27:17.354317Z"
    },
    "papermill": {
     "duration": 0.580511,
     "end_time": "2021-05-26T22:27:17.354317",
     "exception": false,
     "start_time": "2021-05-26T22:27:16.773806",
     "status": "completed"
    },
    "pycharm": {
     "name": "#%%\n"
    },
    "tags": []
   },
   "outputs": [],
   "source": [
    "# todo, remove this from read file\n",
    "trandata = trandata[trandata.business_unit.notnull()]"
   ]
  },
  {
   "cell_type": "markdown",
   "id": "3f4a87d1",
   "metadata": {
    "papermill": {
     "duration": 0.407361,
     "end_time": "2021-05-26T22:27:18.195505",
     "exception": false,
     "start_time": "2021-05-26T22:27:17.788144",
     "status": "completed"
    },
    "tags": []
   },
   "source": [
    "#### Update Verification 2"
   ]
  },
  {
   "cell_type": "code",
   "execution_count": 14,
   "id": "c686ebf5",
   "metadata": {
    "execution": {
     "iopub.execute_input": "2021-05-26T22:27:19.218793Z",
     "iopub.status.busy": "2021-05-26T22:27:19.213789Z",
     "iopub.status.idle": "2021-05-26T22:27:19.283789Z",
     "shell.execute_reply": "2021-05-26T22:27:19.284788Z"
    },
    "papermill": {
     "duration": 0.535994,
     "end_time": "2021-05-26T22:27:19.285788",
     "exception": false,
     "start_time": "2021-05-26T22:27:18.749794",
     "status": "completed"
    },
    "pycharm": {
     "name": "#%%\n"
    },
    "tags": []
   },
   "outputs": [
    {
     "name": "stdout",
     "output_type": "stream",
     "text": [
      "Row Counts\n",
      "|    | Business Unit   |   Original |   Transformed |\n",
      "|---:|:----------------|-----------:|--------------:|\n",
      "|  0 | AU              |         53 |            53 |\n",
      "|  1 | CA              |         17 |            17 |\n",
      "|  2 | CH              |       3187 |          3187 |\n",
      "|  3 | CZ              |          7 |             7 |\n",
      "|  4 | ES              |         28 |            28 |\n",
      "|  5 | GR              |         15 |            15 |\n",
      "|  6 | IT              |        100 |           100 |\n",
      "|  7 | PL              |         27 |            27 |\n",
      "|  8 | PT              |         39 |            39 |\n"
     ]
    }
   ],
   "source": [
    "if run_control > -10:\n",
    "\n",
    "    ibus = input.groupby(['Business Unit']).count()\n",
    "    ibus = ibus.reset_index()\n",
    "    tbus = trandata.groupby(['business_unit']).count()\n",
    "    tbus = tbus.reset_index()\n",
    "\n",
    "    compdata = pd.merge(ibus, tbus, left_on='Business Unit', right_on='business_unit', how='left')\n",
    "\n",
    "    disp = {\"Business Unit\": compdata['Business Unit'], \"Original\": compdata['Earned Revenues net of Taxes'],\n",
    "            \"Transformed\": compdata['earned_revenues_net_of_taxes']}\n",
    "\n",
    "    disp = pd.DataFrame(disp)\n",
    "\n",
    "    print(\"Row Counts\")\n",
    "    print(disp.to_markdown())\n",
    "    \n",
    "else:\n",
    "    \n",
    "    print(\"Skipped Transformation Report 2\")\n"
   ]
  },
  {
   "cell_type": "markdown",
   "id": "503e1038",
   "metadata": {
    "papermill": {
     "duration": 0.498056,
     "end_time": "2021-05-26T22:27:20.262485",
     "exception": false,
     "start_time": "2021-05-26T22:27:19.764429",
     "status": "completed"
    },
    "tags": []
   },
   "source": [
    "#### Swap  nulls for \"Not Provided\" in 'Sub Lob' and 'Distribution Channel'"
   ]
  },
  {
   "cell_type": "code",
   "execution_count": 15,
   "id": "c400572a",
   "metadata": {
    "execution": {
     "iopub.execute_input": "2021-05-26T22:27:21.291596Z",
     "iopub.status.busy": "2021-05-26T22:27:21.285595Z",
     "iopub.status.idle": "2021-05-26T22:27:21.302596Z",
     "shell.execute_reply": "2021-05-26T22:27:21.303600Z"
    },
    "papermill": {
     "duration": 0.501817,
     "end_time": "2021-05-26T22:27:21.304595",
     "exception": false,
     "start_time": "2021-05-26T22:27:20.802778",
     "status": "completed"
    },
    "pycharm": {
     "name": "#%%\n"
    },
    "tags": []
   },
   "outputs": [],
   "source": [
    "mults = trandata['sub_lob'][trandata.sub_lob.replace(nan, 'Not Provided').str.contains(',', case=False)]\n",
    "mults = mults.unique()\n",
    "\n",
    "trandata['sub_lob'] = trandata['sub_lob'].fillna('Not Provided')\n",
    "trandata['sub_lob'] = trandata['sub_lob'].replace('', 'Not Provided')\n",
    "trandata['distribution_channel'] = trandata['distribution_channel'].replace('', 'Not Provided').fillna('Not Provided')"
   ]
  },
  {
   "cell_type": "markdown",
   "id": "9040ed45",
   "metadata": {
    "papermill": {
     "duration": 0.503655,
     "end_time": "2021-05-26T22:27:22.271908",
     "exception": false,
     "start_time": "2021-05-26T22:27:21.768253",
     "status": "completed"
    },
    "tags": []
   },
   "source": [
    "#### Replace multiple entries in \"Sub Lob\" to \"Multiple\""
   ]
  },
  {
   "cell_type": "code",
   "execution_count": 16,
   "id": "c1f1fe90",
   "metadata": {
    "execution": {
     "iopub.execute_input": "2021-05-26T22:27:23.243636Z",
     "iopub.status.busy": "2021-05-26T22:27:23.191077Z",
     "iopub.status.idle": "2021-05-26T22:27:23.267635Z",
     "shell.execute_reply": "2021-05-26T22:27:23.269633Z"
    },
    "papermill": {
     "duration": 0.589719,
     "end_time": "2021-05-26T22:27:23.270634",
     "exception": false,
     "start_time": "2021-05-26T22:27:22.680915",
     "status": "completed"
    },
    "pycharm": {
     "name": "#%%\n"
    },
    "tags": []
   },
   "outputs": [],
   "source": [
    "for i in mults:\n",
    "    trandata['sub_lob'] = trandata['sub_lob'].replace(i, 'Multiple')\n",
    "\n",
    "# todo automate figuring out which fields fx rates should be applied to somehow"
   ]
  },
  {
   "cell_type": "markdown",
   "id": "588f326a",
   "metadata": {
    "papermill": {
     "duration": 0.418797,
     "end_time": "2021-05-26T22:27:24.223847",
     "exception": false,
     "start_time": "2021-05-26T22:27:23.805050",
     "status": "completed"
    },
    "tags": []
   },
   "source": [
    "#### Update Verification 3"
   ]
  },
  {
   "cell_type": "code",
   "execution_count": 17,
   "id": "36f2078a",
   "metadata": {
    "execution": {
     "iopub.execute_input": "2021-05-26T22:27:25.126851Z",
     "iopub.status.busy": "2021-05-26T22:27:25.117849Z",
     "iopub.status.idle": "2021-05-26T22:27:25.461589Z",
     "shell.execute_reply": "2021-05-26T22:27:25.463583Z"
    },
    "papermill": {
     "duration": 0.794736,
     "end_time": "2021-05-26T22:27:25.464585",
     "exception": false,
     "start_time": "2021-05-26T22:27:24.669849",
     "status": "completed"
    },
    "pycharm": {
     "name": "#%%\n"
    },
    "tags": []
   },
   "outputs": [],
   "source": [
    "if run_control > -10:\n",
    "\n",
    "    ibus = input.groupby(['Sub LOB']).sum()\n",
    "    ibus = ibus.reset_index()\n",
    "    tbus = trandata.groupby(['sub_lob']).sum()\n",
    "    tbus = tbus.reset_index()\n",
    "\n",
    "    compdatasublob = pd.merge(ibus, tbus, left_on='Sub LOB', right_on='sub_lob', how='outer')\n",
    "\n",
    "    disp1 = pd.DataFrame(\n",
    "        {'Original Sub LOB': compdatasublob['Sub LOB'], 'Transformed Sub LOB': compdatasublob['sub_lob'],\n",
    "         \"Original\": compdatasublob['Earned Revenues net of Taxes'] / 1000,\n",
    "         \"Transformed\": compdatasublob['earned_revenues_net_of_taxes'] / 1000})\n",
    "\n",
    "\n",
    "\n",
    "    tots1 = pd.DataFrame({'Original Total': (input['Earned Revenues net of Taxes']).sum() / 10000,\n",
    "                          \"Transformed Total\": (compdatasublob['earned_revenues_net_of_taxes']).sum() / 10000},\n",
    "                         index=[0])\n",
    "else:\n",
    "    print(\"Skipped Transformation Report 2\")"
   ]
  },
  {
   "cell_type": "markdown",
   "id": "e634ed98",
   "metadata": {
    "papermill": {
     "duration": 0.563231,
     "end_time": "2021-05-26T22:27:26.501541",
     "exception": false,
     "start_time": "2021-05-26T22:27:25.938310",
     "status": "completed"
    },
    "tags": []
   },
   "source": [
    "#### Make cflds, a list of currency fields, force to float, coercion is null or string to 0"
   ]
  },
  {
   "cell_type": "code",
   "execution_count": 18,
   "id": "e8cae11c",
   "metadata": {
    "execution": {
     "iopub.execute_input": "2021-05-26T22:27:27.508405Z",
     "iopub.status.busy": "2021-05-26T22:27:27.495405Z",
     "iopub.status.idle": "2021-05-26T22:27:27.758630Z",
     "shell.execute_reply": "2021-05-26T22:27:27.761635Z"
    },
    "papermill": {
     "duration": 0.740332,
     "end_time": "2021-05-26T22:27:27.762634",
     "exception": false,
     "start_time": "2021-05-26T22:27:27.022302",
     "status": "completed"
    },
    "pycharm": {
     "name": "#%%\n"
    },
    "tags": []
   },
   "outputs": [
    {
     "data": {
      "text/plain": [
       "0          0.00\n",
       "1          0.00\n",
       "2          0.00\n",
       "3        142.68\n",
       "4          0.00\n",
       "         ...   \n",
       "3468    1509.16\n",
       "3469    2164.11\n",
       "3470     309.72\n",
       "3471       0.00\n",
       "3472    1260.00\n",
       "Name: written_revenues_net_of_taxes, Length: 3473, dtype: float64"
      ]
     },
     "execution_count": 18,
     "metadata": {},
     "output_type": "execute_result"
    },
    {
     "data": {
      "text/plain": [
       "0          0.0000\n",
       "1          0.0000\n",
       "2          0.0000\n",
       "3          0.0000\n",
       "4          0.0000\n",
       "          ...    \n",
       "3468    1644.9844\n",
       "3469    2358.8799\n",
       "3470     337.5948\n",
       "3471       0.0000\n",
       "3472    1373.4000\n",
       "Name: written_revenues, Length: 3473, dtype: float64"
      ]
     },
     "execution_count": 18,
     "metadata": {},
     "output_type": "execute_result"
    },
    {
     "data": {
      "text/plain": [
       "0          55.8953\n",
       "1        5529.9513\n",
       "2           0.0000\n",
       "3         142.6800\n",
       "4       32143.8185\n",
       "           ...    \n",
       "3468     1576.8600\n",
       "3469     2085.8000\n",
       "3470       16.5700\n",
       "3471       68.0000\n",
       "3472     1260.0000\n",
       "Name: earned_revenues_net_of_taxes, Length: 3473, dtype: float64"
      ]
     },
     "execution_count": 18,
     "metadata": {},
     "output_type": "execute_result"
    },
    {
     "data": {
      "text/plain": [
       "0          0.0000\n",
       "1          0.0000\n",
       "2          0.0000\n",
       "3          0.0000\n",
       "4          0.0000\n",
       "          ...    \n",
       "3468    1718.7774\n",
       "3469    2273.5220\n",
       "3470      18.0613\n",
       "3471      74.1200\n",
       "3472    1373.4000\n",
       "Name: earned_revenues, Length: 3473, dtype: float64"
      ]
     },
     "execution_count": 18,
     "metadata": {},
     "output_type": "execute_result"
    },
    {
     "data": {
      "text/plain": [
       "0          5.64530\n",
       "1       1290.57530\n",
       "2          0.00000\n",
       "3          0.00000\n",
       "4       7071.64007\n",
       "           ...    \n",
       "3468       0.00000\n",
       "3469       0.00000\n",
       "3470       0.00000\n",
       "3471       0.00000\n",
       "3472       0.00000\n",
       "Name: earned_base_commissions, Length: 3473, dtype: float64"
      ]
     },
     "execution_count": 18,
     "metadata": {},
     "output_type": "execute_result"
    },
    {
     "data": {
      "text/plain": [
       "0       0.0\n",
       "1       0.0\n",
       "2       0.0\n",
       "3       0.0\n",
       "4       0.0\n",
       "       ... \n",
       "3468    0.0\n",
       "3469    0.0\n",
       "3470    0.0\n",
       "3471    0.0\n",
       "3472    0.0\n",
       "Name: earned_over-commissions, Length: 3473, dtype: float64"
      ]
     },
     "execution_count": 18,
     "metadata": {},
     "output_type": "execute_result"
    },
    {
     "data": {
      "text/plain": [
       "0       0.0\n",
       "1       0.0\n",
       "2       0.0\n",
       "3       0.0\n",
       "4       0.0\n",
       "       ... \n",
       "3468    0.0\n",
       "3469    0.0\n",
       "3470    0.0\n",
       "3471    0.0\n",
       "3472    0.0\n",
       "Name: upfront_cash_payments, Length: 3473, dtype: float64"
      ]
     },
     "execution_count": 18,
     "metadata": {},
     "output_type": "execute_result"
    },
    {
     "data": {
      "text/plain": [
       "0          5.64530\n",
       "1       1290.57530\n",
       "2          0.00000\n",
       "3          0.00000\n",
       "4       7071.64007\n",
       "           ...    \n",
       "3468       0.00000\n",
       "3469       0.00000\n",
       "3470       0.00000\n",
       "3471       0.00000\n",
       "3472       0.00000\n",
       "Name: total_compensation, Length: 3473, dtype: float64"
      ]
     },
     "execution_count": 18,
     "metadata": {},
     "output_type": "execute_result"
    },
    {
     "data": {
      "text/plain": [
       "0         0.0000\n",
       "1         0.0000\n",
       "2         0.0000\n",
       "3         0.0000\n",
       "4       819.1621\n",
       "          ...   \n",
       "3468     69.4500\n",
       "3469      0.0000\n",
       "3470    630.1200\n",
       "3471      0.0000\n",
       "3472      0.0000\n",
       "Name: paid_claims, Length: 3473, dtype: float64"
      ]
     },
     "execution_count": 18,
     "metadata": {},
     "output_type": "execute_result"
    },
    {
     "data": {
      "text/plain": [
       "0          8.250237\n",
       "1       1843.793403\n",
       "2          0.000000\n",
       "3         22.575091\n",
       "4       7248.046696\n",
       "           ...     \n",
       "3468    1472.110000\n",
       "3469     608.720000\n",
       "3470       0.000000\n",
       "3471       0.000000\n",
       "3472       0.000000\n",
       "Name: ocr_+_ibnr, Length: 3473, dtype: float64"
      ]
     },
     "execution_count": 18,
     "metadata": {},
     "output_type": "execute_result"
    },
    {
     "data": {
      "text/plain": [
       "0          8.250237\n",
       "1       1843.793403\n",
       "2          0.000000\n",
       "3         22.575091\n",
       "4       8067.208796\n",
       "           ...     \n",
       "3468    1541.560000\n",
       "3469     608.720000\n",
       "3470     630.120000\n",
       "3471       0.000000\n",
       "3472       0.000000\n",
       "Name: actual_incurred_losses_(paid_+_ocr_+_ibnr), Length: 3473, dtype: float64"
      ]
     },
     "execution_count": 18,
     "metadata": {},
     "output_type": "execute_result"
    },
    {
     "data": {
      "text/plain": [
       "0           2.195253\n",
       "1         240.488514\n",
       "2           0.000000\n",
       "3           8.187503\n",
       "4       21750.364703\n",
       "            ...     \n",
       "3468      433.790006\n",
       "3469      341.095979\n",
       "3470      305.054137\n",
       "3471       33.114511\n",
       "3472      835.265953\n",
       "Name: internal_variable_costs_(excl._az_tech_fee), Length: 3473, dtype: float64"
      ]
     },
     "execution_count": 18,
     "metadata": {},
     "output_type": "execute_result"
    },
    {
     "data": {
      "text/plain": [
       "0         1.013645\n",
       "1       111.044207\n",
       "2         0.000000\n",
       "3         3.780533\n",
       "4       625.285543\n",
       "           ...    \n",
       "3468     45.413568\n",
       "3469     60.071040\n",
       "3470      0.477216\n",
       "3471      1.958400\n",
       "3472     36.288000\n",
       "Name: az_tech_fee, Length: 3473, dtype: float64"
      ]
     },
     "execution_count": 18,
     "metadata": {},
     "output_type": "execute_result"
    },
    {
     "data": {
      "text/plain": [
       "0          167.140499\n",
       "1        18285.429711\n",
       "2            0.000000\n",
       "3          620.808918\n",
       "4       107082.243725\n",
       "            ...      \n",
       "3468       272.796780\n",
       "3469       360.843400\n",
       "3470         2.866610\n",
       "3471        19.176000\n",
       "3472       355.320000\n",
       "Name: internal_fixed_costs_(excl._hq_fees), Length: 3473, dtype: float64"
      ]
     },
     "execution_count": 18,
     "metadata": {},
     "output_type": "execute_result"
    },
    {
     "data": {
      "text/plain": [
       "0         11.050191\n",
       "1       1210.541320\n",
       "2          0.000000\n",
       "3         41.213241\n",
       "4       6816.510337\n",
       "           ...     \n",
       "3468      96.976890\n",
       "3469     128.276700\n",
       "3470       1.019055\n",
       "3471       4.182000\n",
       "3472      63.000000\n",
       "Name: hq_fees, Length: 3473, dtype: float64"
      ]
     },
     "execution_count": 18,
     "metadata": {},
     "output_type": "execute_result"
    },
    {
     "data": {
      "text/plain": [
       "0          181.399588\n",
       "1        19847.503753\n",
       "2            0.000000\n",
       "3          673.990196\n",
       "4       136274.404308\n",
       "            ...      \n",
       "3468       848.977244\n",
       "3469       890.287119\n",
       "3470       309.417018\n",
       "3471        58.430911\n",
       "3472      1289.873953\n",
       "Name: total_expenses, Length: 3473, dtype: float64"
      ]
     },
     "execution_count": 18,
     "metadata": {},
     "output_type": "execute_result"
    },
    {
     "data": {
      "text/plain": [
       "0       0.0\n",
       "1       0.0\n",
       "2       0.0\n",
       "3       0.0\n",
       "4       0.0\n",
       "       ... \n",
       "3468    0.0\n",
       "3469    0.0\n",
       "3470    0.0\n",
       "3471    0.0\n",
       "3472    0.0\n",
       "Name: risk_premium, Length: 3473, dtype: float64"
      ]
     },
     "execution_count": 18,
     "metadata": {},
     "output_type": "execute_result"
    },
    {
     "data": {
      "text/plain": [
       "0         -139.399826\n",
       "1       -17451.921156\n",
       "2            0.000000\n",
       "3         -553.885287\n",
       "4      -119269.434674\n",
       "            ...      \n",
       "3468      -813.677244\n",
       "3469       586.792881\n",
       "3470      -922.967018\n",
       "3471         9.569089\n",
       "3472       -29.873953\n",
       "Name: profit_or_loss, Length: 3473, dtype: float64"
      ]
     },
     "execution_count": 18,
     "metadata": {},
     "output_type": "execute_result"
    },
    {
     "data": {
      "text/plain": [
       "0         38.790864\n",
       "1       2044.049876\n",
       "2          0.000000\n",
       "3        108.136872\n",
       "4      -5370.680611\n",
       "           ...     \n",
       "3468    -443.903574\n",
       "3469    1075.912981\n",
       "3470    -919.081353\n",
       "3471      32.927089\n",
       "3472     388.446047\n",
       "Name: contribution_margin_-_hq_view, Length: 3473, dtype: float64"
      ]
     },
     "execution_count": 18,
     "metadata": {},
     "output_type": "execute_result"
    },
    {
     "data": {
      "text/plain": [
       "0          27.740673\n",
       "1         833.508556\n",
       "2           0.000000\n",
       "3          66.923631\n",
       "4      -12187.190948\n",
       "            ...     \n",
       "3468     -540.880464\n",
       "3469      947.636281\n",
       "3470     -920.100408\n",
       "3471       28.745089\n",
       "3472      325.446047\n",
       "Name: contribution_margin_-_bu_view, Length: 3473, dtype: float64"
      ]
     },
     "execution_count": 18,
     "metadata": {},
     "output_type": "execute_result"
    }
   ],
   "source": [
    "cflds = ['written_revenues_net_of_taxes', 'written_revenues', 'earned_revenues_net_of_taxes',\n",
    "         'earned_revenues', 'earned_base_commissions', 'earned_over-commissions', 'upfront_cash_payments',\n",
    "         'total_compensation', 'paid_claims', 'ocr_+_ibnr', 'actual_incurred_losses_(paid_+_ocr_+_ibnr)',\n",
    "         'internal_variable_costs_(excl._az_tech_fee)', 'az_tech_fee', 'internal_fixed_costs_(excl._hq_fees)',\n",
    "         'hq_fees', 'total_expenses', 'risk_premium', 'profit_or_loss', 'contribution_margin_-_hq_view',\n",
    "         'contribution_margin_-_bu_view', ]\n",
    "\n",
    "for i in cflds:\n",
    "    pd.to_numeric(trandata[i], errors='coerce')"
   ]
  },
  {
   "cell_type": "markdown",
   "id": "d7b96465",
   "metadata": {
    "papermill": {
     "duration": 0.582529,
     "end_time": "2021-05-26T22:27:28.957982",
     "exception": false,
     "start_time": "2021-05-26T22:27:28.375453",
     "status": "completed"
    },
    "tags": []
   },
   "source": [
    "#### Turn selected columns values uppercase"
   ]
  },
  {
   "cell_type": "code",
   "execution_count": 19,
   "id": "3d6ef593",
   "metadata": {
    "execution": {
     "iopub.execute_input": "2021-05-26T22:27:30.188468Z",
     "iopub.status.busy": "2021-05-26T22:27:30.174473Z",
     "iopub.status.idle": "2021-05-26T22:27:30.201480Z",
     "shell.execute_reply": "2021-05-26T22:27:30.202466Z"
    },
    "papermill": {
     "duration": 0.703839,
     "end_time": "2021-05-26T22:27:30.203470",
     "exception": false,
     "start_time": "2021-05-26T22:27:29.499631",
     "status": "completed"
    },
    "pycharm": {
     "name": "#%%\n"
    },
    "tags": []
   },
   "outputs": [],
   "source": [
    "validcols = ['business_unit', 'currency', 'region', 'type_of_analysis', 'type_of_business', 'type_of_account', 'lob',\n",
    "             'distribution_type', 'distribution_channel', ]\n",
    "\n",
    "for c in validcols:\n",
    "    trandata[c] = trandata[c].astype(str)\n",
    "    trandata[c] = trandata[c].apply(lambda x: x.upper())"
   ]
  },
  {
   "cell_type": "markdown",
   "id": "e5f04259",
   "metadata": {
    "papermill": {
     "duration": 0.617512,
     "end_time": "2021-05-26T22:27:31.413782",
     "exception": false,
     "start_time": "2021-05-26T22:27:30.796270",
     "status": "completed"
    },
    "tags": []
   },
   "source": [
    "#### Read the values from the Global Attribute Catalog, one field per loop iterance and xlsx sheet."
   ]
  },
  {
   "cell_type": "code",
   "execution_count": 20,
   "id": "ecd22892",
   "metadata": {
    "execution": {
     "iopub.execute_input": "2021-05-26T22:27:32.541950Z",
     "iopub.status.busy": "2021-05-26T22:27:32.539952Z",
     "iopub.status.idle": "2021-05-26T22:27:36.752199Z",
     "shell.execute_reply": "2021-05-26T22:27:36.754203Z"
    },
    "papermill": {
     "duration": 4.806519,
     "end_time": "2021-05-26T22:27:36.754203",
     "exception": false,
     "start_time": "2021-05-26T22:27:31.947684",
     "status": "completed"
    },
    "pycharm": {
     "name": "#%%\n"
    },
    "tags": []
   },
   "outputs": [],
   "source": [
    "checktabs = []\n",
    "\n",
    "\n",
    "\n",
    "for s in validcols:\n",
    "    t = pd.read_excel(atcat, sheet_name = s )\n",
    "    checktabs.append([[s], [t]])\n",
    "\n",
    "gacout = []\n"
   ]
  },
  {
   "cell_type": "markdown",
   "id": "ca283cff",
   "metadata": {
    "papermill": {
     "duration": 0.464718,
     "end_time": "2021-05-26T22:27:37.639974",
     "exception": false,
     "start_time": "2021-05-26T22:27:37.175256",
     "status": "completed"
    },
    "tags": []
   },
   "source": [
    "#### Compare the lists from the previous step and each field. Find those that do not match, make lists of unique values\n",
    "#### replace any that have replacements in GPPM inoout already, make a list of values without any matches.\n"
   ]
  },
  {
   "cell_type": "code",
   "execution_count": 21,
   "id": "d666a70c",
   "metadata": {
    "execution": {
     "iopub.execute_input": "2021-05-26T22:27:38.724562Z",
     "iopub.status.busy": "2021-05-26T22:27:38.715567Z",
     "iopub.status.idle": "2021-05-26T22:27:38.861616Z",
     "shell.execute_reply": "2021-05-26T22:27:38.863626Z"
    },
    "papermill": {
     "duration": 0.697119,
     "end_time": "2021-05-26T22:27:38.864615",
     "exception": false,
     "start_time": "2021-05-26T22:27:38.167496",
     "status": "completed"
    },
    "pycharm": {
     "name": "#%%\n"
    },
    "tags": []
   },
   "outputs": [],
   "source": [
    "# todo rewrite this beginner code to use dicts and simplify\n",
    "\n",
    "for u in enumerate(validcols):\n",
    "    trandata.loc[0:len(trandata[u[1]]), u[1]] = trandata[u[1]].replace(\n",
    "        [checktabs[u[0]][1][0]['Upper_Vers']][0].to_numpy(), [checktabs[u[0]][1][0][u[1]]][0].to_numpy())\n",
    "    d = list(checktabs[u[0]][1][0]['Non Matches'].drop_duplicates().dropna().append(\n",
    "        pd.Series(trandata[u[1]][~trandata[u[1]].isin(checktabs[u[0]][1][0][u[1]])].drop_duplicates().dropna()),\n",
    "        ignore_index=True))\n",
    "    g = [checktabs[u[0]][1][0][str(u[1])], checktabs[u[0]][1][0]['Upper_Vers'], checktabs[u[0]][1][0]['Unnamed: 2'],\n",
    "         pd.Series(d, dtype='object').drop_duplicates().dropna(), checktabs[u[0]][1][0]['User Defined Corrections']]\n",
    "    gacout.append(list([g, u[1]]))"
   ]
  },
  {
   "cell_type": "markdown",
   "id": "f6862dd5",
   "metadata": {
    "papermill": {
     "duration": 0.51178,
     "end_time": "2021-05-26T22:27:39.867395",
     "exception": false,
     "start_time": "2021-05-26T22:27:39.355615",
     "status": "completed"
    },
    "tags": []
   },
   "source": [
    "#### Rebuild the GPPM input file, with the replaced values in the bad values column of each sheet.\n",
    "#### Step one, make and xlsx with a notes page."
   ]
  },
  {
   "cell_type": "code",
   "execution_count": 22,
   "id": "621d609b",
   "metadata": {
    "execution": {
     "iopub.execute_input": "2021-05-26T22:27:40.952996Z",
     "iopub.status.busy": "2021-05-26T22:27:40.951996Z",
     "iopub.status.idle": "2021-05-26T22:27:41.508751Z",
     "shell.execute_reply": "2021-05-26T22:27:41.506757Z"
    },
    "papermill": {
     "duration": 1.105173,
     "end_time": "2021-05-26T22:27:41.508751",
     "exception": false,
     "start_time": "2021-05-26T22:27:40.403578",
     "status": "completed"
    },
    "pycharm": {
     "name": "#%%\n"
    },
    "tags": []
   },
   "outputs": [],
   "source": [
    "w = ExcelWriter(atcat)\n",
    "notes = pd.DataFrame([\n",
    "    \"This page is script generated during the source creation process. Do not edit these notes directly in the file as they will be overwritten\",\n",
    "    \"\", \"\"\n",
    "    , \" Purpose :     to manage attribute entries in the data collection process, this workbook documents and organizes all entries and also allows a user to swap those that do \\\n",
    "                        not conform to validation rules  with an entry of their choice\",\n",
    "    \" Each attribute field that requires validation has its own sheet tab\", \"\"\n",
    "    , \"Column A:    of each sheet tab contains all unique acceptable responses\",\n",
    "    \"Column B:    an upper case version, to wrangle case mismatches\",\n",
    "    \"Column D:   is generated by the process, this is a list of an uppercase version of each unique unacceptable response, this builds over time with each collection\",\n",
    "    \"Column E:   you can enter accpetable response here (sase sensitive) to be swapped out in the data, save and exit this file, run the process again and they will be replaced\"\n",
    "    , \"\", \"\", \"Gavin Harmon 9 - July -2020\"])\n",
    "\n",
    "notes.columns = ['Notes']\n",
    "\n",
    "notes.to_excel(w, index=False, sheet_name=\"Notes\")"
   ]
  },
  {
   "cell_type": "markdown",
   "id": "241028f8",
   "metadata": {
    "papermill": {
     "duration": 0.537986,
     "end_time": "2021-05-26T22:27:42.513259",
     "exception": false,
     "start_time": "2021-05-26T22:27:41.975273",
     "status": "completed"
    },
    "tags": []
   },
   "source": [
    "#### Step two, build the new sheets for each validcols field"
   ]
  },
  {
   "cell_type": "code",
   "execution_count": 23,
   "id": "659c8ee6",
   "metadata": {
    "execution": {
     "iopub.execute_input": "2021-05-26T22:27:43.776018Z",
     "iopub.status.busy": "2021-05-26T22:27:43.753019Z",
     "iopub.status.idle": "2021-05-26T22:27:44.611478Z",
     "shell.execute_reply": "2021-05-26T22:27:44.612476Z"
    },
    "papermill": {
     "duration": 1.469031,
     "end_time": "2021-05-26T22:27:44.613474",
     "exception": false,
     "start_time": "2021-05-26T22:27:43.144443",
     "status": "completed"
    },
    "pycharm": {
     "name": "#%%\n"
    },
    "tags": []
   },
   "outputs": [],
   "source": [
    "for v in enumerate(validcols):\n",
    "    df = pd.DataFrame(gacout[v[0]][0], index=[f\"{v[1]}\", 'Upper_Vers', '', 'Non Matches', 'User Defined Corrections']).T\n",
    "    df.to_excel(w, index=False, sheet_name=gacout[v[0]][1])\n",
    "w.save()"
   ]
  },
  {
   "cell_type": "markdown",
   "id": "7fa1df92",
   "metadata": {
    "papermill": {
     "duration": 0.680817,
     "end_time": "2021-05-26T22:27:45.816807",
     "exception": false,
     "start_time": "2021-05-26T22:27:45.135990",
     "status": "completed"
    },
    "tags": []
   },
   "source": [
    "#### Step three, read these lists back in, make the necessary replacements in the DataFrame"
   ]
  },
  {
   "cell_type": "code",
   "execution_count": 24,
   "id": "9975adb4",
   "metadata": {
    "execution": {
     "iopub.execute_input": "2021-05-26T22:27:46.863540Z",
     "iopub.status.busy": "2021-05-26T22:27:46.857534Z",
     "iopub.status.idle": "2021-05-26T22:27:50.440987Z",
     "shell.execute_reply": "2021-05-26T22:27:50.441986Z"
    },
    "papermill": {
     "duration": 4.127072,
     "end_time": "2021-05-26T22:27:50.442986",
     "exception": false,
     "start_time": "2021-05-26T22:27:46.315914",
     "status": "completed"
    },
    "pycharm": {
     "name": "#%%\n"
    },
    "tags": []
   },
   "outputs": [],
   "source": [
    "for s in validcols:\n",
    "    t = pd.read_excel(f'//hecate/Insurance_US/Product Development/Product Management/Global PPM/Reporting/Data Collection/Production/{str(percode)}\\\\{str(percode)}_Attribute_Catalog.xlsx', sheet_name = s )\n",
    "    checktabs.append([[s],[t]])"
   ]
  },
  {
   "cell_type": "code",
   "execution_count": 25,
   "id": "9caceb0a",
   "metadata": {
    "execution": {
     "iopub.execute_input": "2021-05-26T22:27:51.350363Z",
     "iopub.status.busy": "2021-05-26T22:27:51.334363Z",
     "iopub.status.idle": "2021-05-26T22:27:51.452883Z",
     "shell.execute_reply": "2021-05-26T22:27:51.454887Z"
    },
    "papermill": {
     "duration": 0.610277,
     "end_time": "2021-05-26T22:27:51.454887",
     "exception": false,
     "start_time": "2021-05-26T22:27:50.844610",
     "status": "completed"
    },
    "pycharm": {
     "name": "#%%\n"
    },
    "tags": []
   },
   "outputs": [],
   "source": [
    "gacout = []\n",
    "\n",
    "for u in enumerate(validcols):\n",
    "    trandata.loc[0:len(trandata[u[1]]), u[1]] = trandata[u[1]].replace(\n",
    "        [checktabs[u[0]][1][0]['Non Matches']][0].to_numpy(),\n",
    "        [checktabs[u[0]][1][0]['User Defined Corrections']][0].to_numpy())\n",
    "repper = trandata[['business_unit', 'reporting_date_to']]\n",
    "repper = pd.DataFrame({\"business_unit\": (repper['business_unit']), \"YearMo\": (repper['reporting_date_to'])})\n",
    "minrep = repper.groupby(['business_unit']).max()\n",
    "a = trandata['business_unit'].replace(list(minrep.axes[0]), minrep.get(\"YearMo\"))\n",
    "trandata['rep_date'] = a\n",
    "trandata.loc[0:len(trandata['business_partner_id_number']), 'business_partner_id_number'] = trandata[\n",
    "    'business_partner_id_number'].replace('0', 'Not Provided').fillna('Not Provided')\n",
    "trandata.loc[0:len(trandata['product_id_number']), 'product_id_number'] = trandata['product_id_number'].replace('0',\n",
    "                                                                                                                'Not Provided').replace(\n",
    "    '-', 'Not Provided').fillna('Not Provided')\n",
    "trandata.loc[0:len(trandata['sub_lob']), 'sub_lob'] = trandata['sub_lob'].replace('0', 'Not Provided').replace('-',\n",
    "                                                                                                               'Not Provided').replace(\n",
    "    'Other', 'Not Provided').fillna('Not Provided')"
   ]
  },
  {
   "cell_type": "markdown",
   "id": "44d2214d",
   "metadata": {
    "papermill": {
     "duration": 0.501339,
     "end_time": "2021-05-26T22:27:52.410653",
     "exception": false,
     "start_time": "2021-05-26T22:27:51.909314",
     "status": "completed"
    },
    "tags": []
   },
   "source": [
    "#### Evaluate the current state, alert the user if input is needed.\n",
    "- At the end of this process, alert the user with instructions if they need to adjust bad entries for validated fields.\n",
    "\n"
   ]
  },
  {
   "cell_type": "code",
   "execution_count": 26,
   "id": "c183e7b3",
   "metadata": {
    "execution": {
     "iopub.execute_input": "2021-05-26T22:27:53.639340Z",
     "iopub.status.busy": "2021-05-26T22:27:53.604344Z",
     "iopub.status.idle": "2021-05-26T22:27:57.928234Z",
     "shell.execute_reply": "2021-05-26T22:27:57.929232Z"
    },
    "papermill": {
     "duration": 4.893934,
     "end_time": "2021-05-26T22:27:57.930245",
     "exception": false,
     "start_time": "2021-05-26T22:27:53.036311",
     "status": "completed"
    },
    "tags": []
   },
   "outputs": [],
   "source": [
    "#see above note about converting to dictionaries\n",
    "\n",
    "#Make lists of all the attribute catalog entries that do not have a correction as a list of errors.\n",
    "err_messages = []\n",
    "\n",
    "for idx, i in enumerate(checktabs):\n",
    "    subset_no_nans =  i[1][0][['Non Matches', 'User Defined Corrections']][~i[1][0]['Non Matches'].isna()]\n",
    "    entries = subset_no_nans['Non Matches'][subset_no_nans['User Defined Corrections'].isna()]. tolist()\n",
    "    if len(entries) > 0: \n",
    "        err_messages.append(f'Please deal with bad entries {entries} on tab {i[0][0]} of the Attribute Catalog.')\n",
    "\n",
    "#raise an error to stop the process and give instructions\n",
    "\n",
    "# define Python user-defined exceptions\n",
    "\n",
    "\n",
    "# define Python user-defined exceptions\n",
    "class Error(Exception):\n",
    "    \"\"\"Base class for other exceptions\"\"\"\n",
    "    pass\n",
    "\n",
    "class BadEntriesError(Error):\n",
    "    \"\"\"Raised when the input value is too large\"\"\"\n",
    "    for i in err_messages : print(i)\n",
    "    \n",
    "    os.startfile(atcat)\n",
    "\n",
    "if len(err_messages) > 0:\n",
    "    raise BadEntriesError\n",
    "else:\n",
    "    pass\n",
    "        "
   ]
  },
  {
   "cell_type": "markdown",
   "id": "249489e5",
   "metadata": {
    "papermill": {
     "duration": 1.261222,
     "end_time": "2021-05-26T22:27:59.857068",
     "exception": false,
     "start_time": "2021-05-26T22:27:58.595846",
     "status": "completed"
    },
    "tags": []
   },
   "source": [
    "#### Remove empty rows, if there is no claims experience and no revenue for a 12 month period, it should not be included"
   ]
  },
  {
   "cell_type": "code",
   "execution_count": 27,
   "id": "67ddcd36",
   "metadata": {
    "execution": {
     "iopub.execute_input": "2021-05-26T22:28:01.005609Z",
     "iopub.status.busy": "2021-05-26T22:28:00.977585Z",
     "iopub.status.idle": "2021-05-26T22:28:01.056108Z",
     "shell.execute_reply": "2021-05-26T22:28:01.057103Z"
    },
    "papermill": {
     "duration": 0.590215,
     "end_time": "2021-05-26T22:28:01.058104",
     "exception": false,
     "start_time": "2021-05-26T22:28:00.467889",
     "status": "completed"
    },
    "pycharm": {
     "name": "#%%\n"
    },
    "tags": []
   },
   "outputs": [],
   "source": [
    "trandata = trandata.loc[(trandata['units_of_risk_(written)'].fillna(0).replace('', 0)\n",
    "                         + trandata['written_revenues_net_of_taxes'].fillna(0).replace('', 0)\n",
    "                         + trandata['written_revenues'].fillna(0).replace('', 0)\n",
    "                         + trandata['number_of_policies_(earned)'].fillna(0).replace('', 0)\n",
    "                         + trandata['units_of_risk_(earned)'].fillna(0).replace('', 0)\n",
    "                         + trandata['earned_revenues_net_of_taxes'].fillna(0).replace('', 0)\n",
    "                         + trandata['earned_revenues'].fillna(0).replace('', 0)\n",
    "                         + trandata['earned_base_commissions'].fillna(0).replace('', 0)\n",
    "                         + trandata['upfront_cash_payments'].fillna(0).replace('', 0)\n",
    "                         + trandata['earned_over-commissions'].fillna(0).replace('', 0)\n",
    "                         + trandata['total_compensation'].fillna(0).replace('', 0)\n",
    "                         + trandata['number_of_claims_(paid_+_ocr_+_ibnr)'].fillna(0).replace('', 0)\n",
    "                         + trandata['number_of_open_claims'].fillna(0).replace('', 0)\n",
    "                         + trandata['open_claims_%'].fillna(0).replace('', 0)\n",
    "                         + trandata['number_of_persons_involved_in_claims_(paid_+_ocr_+_ibnr)'].fillna(0).replace('', 0)\n",
    "                         + trandata['paid_claims'].fillna(0).replace('', 0)\n",
    "                         + trandata['ocr_+_ibnr'].fillna(0).replace('', 0)\n",
    "                         + trandata['actual_incurred_losses_(paid_+_ocr_+_ibnr)'].fillna(0).replace('', 0)\n",
    "                         + trandata['internal_variable_costs_(excl._az_tech_fee)'].fillna(0).replace('', 0)\n",
    "                         + trandata['az_tech_fee'].fillna(0).replace('', 0)\n",
    "                         + trandata['internal_fixed_costs_(excl._hq_fees)'].fillna(0).replace('', 0)\n",
    "                         + trandata['hq_fees'].fillna(0).replace('', 0)\n",
    "                         + trandata['total_expenses'].fillna(0).replace('', 0)\n",
    "                         + trandata['frequency_(earned)'].fillna(0).replace('', 0)\n",
    "                         + trandata['severity'].fillna(0).replace('', 0))\n",
    "                        != 0]"
   ]
  },
  {
   "cell_type": "markdown",
   "id": "88089636",
   "metadata": {
    "papermill": {
     "duration": 0.538052,
     "end_time": "2021-05-26T22:28:02.019364",
     "exception": false,
     "start_time": "2021-05-26T22:28:01.481312",
     "status": "completed"
    },
    "pycharm": {
     "name": "#%% md\n"
    },
    "tags": []
   },
   "source": [
    "#### Output temp file"
   ]
  },
  {
   "cell_type": "code",
   "execution_count": 28,
   "id": "329658e3",
   "metadata": {
    "execution": {
     "iopub.execute_input": "2021-05-26T22:28:03.296063Z",
     "iopub.status.busy": "2021-05-26T22:28:03.292066Z",
     "iopub.status.idle": "2021-05-26T22:28:07.953284Z",
     "shell.execute_reply": "2021-05-26T22:28:07.955287Z"
    },
    "papermill": {
     "duration": 5.3139,
     "end_time": "2021-05-26T22:28:07.956286",
     "exception": false,
     "start_time": "2021-05-26T22:28:02.642386",
     "status": "completed"
    },
    "pycharm": {
     "name": "#%%\n"
    },
    "tags": []
   },
   "outputs": [],
   "source": [
    "trandata.to_parquet(\n",
    "    f'//hecate/Insurance_US/Product Development/Product Management/Global PPM/Reporting/Data Collection/Production/{str(percode)}\\\\{str(percode)}.localcur.parquet', engine = \"pyarrow\")\n",
    "\n"
   ]
  },
  {
   "cell_type": "markdown",
   "id": "b5330703",
   "metadata": {
    "papermill": {
     "duration": 0.69577,
     "end_time": "2021-05-26T22:28:09.344077",
     "exception": false,
     "start_time": "2021-05-26T22:28:08.648307",
     "status": "completed"
    },
    "tags": []
   },
   "source": [
    "#### Store the DataFrame for other noteboks to use"
   ]
  },
  {
   "cell_type": "code",
   "execution_count": 29,
   "id": "bc684a01",
   "metadata": {
    "execution": {
     "iopub.execute_input": "2021-05-26T22:28:11.322048Z",
     "iopub.status.busy": "2021-05-26T22:28:11.320524Z",
     "iopub.status.idle": "2021-05-26T22:28:11.358154Z",
     "shell.execute_reply": "2021-05-26T22:28:11.359155Z"
    },
    "papermill": {
     "duration": 1.303172,
     "end_time": "2021-05-26T22:28:11.360153",
     "exception": false,
     "start_time": "2021-05-26T22:28:10.056981",
     "status": "completed"
    },
    "tags": []
   },
   "outputs": [
    {
     "name": "stdout",
     "output_type": "stream",
     "text": [
      "Stored 'py_t_df' (DataFrame)\n"
     ]
    }
   ],
   "source": [
    "py_t_df = trandata\n",
    "\n",
    "%store py_t_df\n"
   ]
  }
 ],
 "metadata": {
  "celltoolbar": "Tags",
  "kernelspec": {
   "display_name": "Python 3",
   "language": "python",
   "name": "python3"
  },
  "language_info": {
   "codemirror_mode": {
    "name": "ipython",
    "version": 3
   },
   "file_extension": ".py",
   "mimetype": "text/x-python",
   "name": "python",
   "nbconvert_exporter": "python",
   "pygments_lexer": "ipython3",
   "version": "3.7.6"
  },
  "papermill": {
   "default_parameters": {},
   "duration": 96.480725,
   "end_time": "2021-05-26T22:28:13.644591",
   "environment_variables": {},
   "exception": null,
   "input_path": "pipeline/py_transform.ipynb",
   "output_path": "//hecate/Insurance_US/Product Development/Product Management/Global PPM/Reporting/Data Collection/Pipeline Reporting Scripts/GPMpipeline/instances/2021.Q1\\pipeline\\py_transform05262021182323--Demo.ipynb",
   "parameters": {
    "commit_message": "Demo Test",
    "inst_datetime": "05262021182323",
    "percode": "2021.Q1",
    "run_control": 1
   },
   "start_time": "2021-05-26T22:26:37.163866",
   "version": "2.3.3"
  }
 },
 "nbformat": 4,
 "nbformat_minor": 5
}