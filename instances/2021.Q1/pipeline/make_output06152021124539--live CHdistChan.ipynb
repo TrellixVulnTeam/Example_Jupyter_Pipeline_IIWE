{
 "cells": [
  {
   "cell_type": "markdown",
   "id": "b19fbc3e",
   "metadata": {
    "papermill": {
     "duration": 0.280472,
     "end_time": "2021-06-15T17:00:11.870051",
     "exception": false,
     "start_time": "2021-06-15T17:00:11.589579",
     "status": "completed"
    },
    "pycharm": {
     "name": "#%% md\n"
    },
    "tags": []
   },
   "source": [
    "<img src=\"../images/AzPTravel_PPM.png\">"
   ]
  },
  {
   "cell_type": "markdown",
   "id": "676e80f1",
   "metadata": {
    "papermill": {
     "duration": 0.251973,
     "end_time": "2021-06-15T17:00:12.384693",
     "exception": false,
     "start_time": "2021-06-15T17:00:12.132720",
     "status": "completed"
    },
    "tags": []
   },
   "source": [
    "## GPM Pipeline Output maker\n",
    "\n",
    "#### This script\n",
    "- loads the transformed parquet file\n",
    "- creates the file {parquet}.localcur.csv\n",
    "- makes the Euro conversions\n",
    "- outputs {parquet}.euroconv.csv\n"
   ]
  },
  {
   "cell_type": "markdown",
   "id": "8fb1c02d",
   "metadata": {
    "papermill": {
     "duration": 0.266093,
     "end_time": "2021-06-15T17:00:12.896009",
     "exception": false,
     "start_time": "2021-06-15T17:00:12.629916",
     "status": "completed"
    },
    "tags": []
   },
   "source": [
    "#### Parameters section"
   ]
  },
  {
   "cell_type": "code",
   "execution_count": 1,
   "id": "a2af2a09",
   "metadata": {
    "execution": {
     "iopub.execute_input": "2021-06-15T17:00:13.418876Z",
     "iopub.status.busy": "2021-06-15T17:00:13.415873Z",
     "iopub.status.idle": "2021-06-15T17:00:13.422874Z",
     "shell.execute_reply": "2021-06-15T17:00:13.431873Z"
    },
    "papermill": {
     "duration": 0.280847,
     "end_time": "2021-06-15T17:00:13.431873",
     "exception": false,
     "start_time": "2021-06-15T17:00:13.151026",
     "status": "completed"
    },
    "pycharm": {
     "name": "#%%\n"
    },
    "tags": [
     "parameters"
    ]
   },
   "outputs": [],
   "source": [
    "commit = \"\"\n",
    "# give a reason for the run\n",
    "\n",
    "percode = \"20XX.QX\"\n",
    "# Data Collection Code, this controls file paths and output names\n",
    "\n",
    "run_type = 1\n",
    "#run_type =  0 - lite run with no reporting, not recommended.\n",
    "#run_type =  1 - lite run with normal reporting, default setting.\n",
    "#run_type =  2 - Heavy run with full reporting, available for audits and troubleshooting.\n",
    "\n",
    "specialchars = \"-GTHtest\"\n",
    "# optional - add up to a 12 character code in order to mark your instance record .ipynb\n",
    "\n",
    "from datetime import datetime\n",
    "inst_datetime = datetime.now().strftime(\"%m%d%Y%H%M%S\")\n",
    "# a single datetime stamp for the full instance run\n"
   ]
  },
  {
   "cell_type": "code",
   "execution_count": 2,
   "id": "6ad0712e",
   "metadata": {
    "execution": {
     "iopub.execute_input": "2021-06-15T17:00:13.925395Z",
     "iopub.status.busy": "2021-06-15T17:00:13.925395Z",
     "iopub.status.idle": "2021-06-15T17:00:13.941020Z",
     "shell.execute_reply": "2021-06-15T17:00:13.941020Z"
    },
    "papermill": {
     "duration": 0.261416,
     "end_time": "2021-06-15T17:00:13.941020",
     "exception": false,
     "start_time": "2021-06-15T17:00:13.679604",
     "status": "completed"
    },
    "tags": [
     "injected-parameters"
    ]
   },
   "outputs": [],
   "source": [
    "# Parameters\n",
    "run_control = 1\n",
    "percode = \"2021.Q1\"\n",
    "commit_message = \"Live run, add CH dist Channels\"\n",
    "inst_datetime = \"06152021124539\"\n"
   ]
  },
  {
   "cell_type": "markdown",
   "id": "cd11fbf4",
   "metadata": {
    "papermill": {
     "duration": 0.278634,
     "end_time": "2021-06-15T17:00:14.486253",
     "exception": false,
     "start_time": "2021-06-15T17:00:14.207619",
     "status": "completed"
    },
    "tags": []
   },
   "source": [
    "### Set Run Control\n",
    "\n",
    "##### 0 - lite run with no reporting, not recommended.\n",
    "##### 1 - lite run with normal reporting, default setting.\n",
    "##### 2 - Heavy run with full reporting, available for audits and troubleshooting."
   ]
  },
  {
   "cell_type": "code",
   "execution_count": 3,
   "id": "384415d7",
   "metadata": {
    "execution": {
     "iopub.execute_input": "2021-06-15T17:00:15.020945Z",
     "iopub.status.busy": "2021-06-15T17:00:15.016935Z",
     "iopub.status.idle": "2021-06-15T17:00:15.025940Z",
     "shell.execute_reply": "2021-06-15T17:00:15.026935Z"
    },
    "papermill": {
     "duration": 0.288582,
     "end_time": "2021-06-15T17:00:15.026935",
     "exception": false,
     "start_time": "2021-06-15T17:00:14.738353",
     "status": "completed"
    },
    "pycharm": {
     "name": "#%%\n"
    },
    "tags": []
   },
   "outputs": [],
   "source": [
    "run_control = 0 # in development mode"
   ]
  },
  {
   "cell_type": "markdown",
   "id": "97f000a3",
   "metadata": {
    "papermill": {
     "duration": 0.283642,
     "end_time": "2021-06-15T17:00:15.597347",
     "exception": false,
     "start_time": "2021-06-15T17:00:15.313705",
     "status": "completed"
    },
    "tags": []
   },
   "source": [
    "#### Packages used"
   ]
  },
  {
   "cell_type": "code",
   "execution_count": 4,
   "id": "aa314f57",
   "metadata": {
    "execution": {
     "iopub.execute_input": "2021-06-15T17:00:16.140226Z",
     "iopub.status.busy": "2021-06-15T17:00:16.139226Z",
     "iopub.status.idle": "2021-06-15T17:00:19.164210Z",
     "shell.execute_reply": "2021-06-15T17:00:19.165210Z"
    },
    "papermill": {
     "duration": 3.311561,
     "end_time": "2021-06-15T17:00:19.166212",
     "exception": false,
     "start_time": "2021-06-15T17:00:15.854651",
     "status": "completed"
    },
    "pycharm": {
     "name": "#%%\n"
    },
    "tags": []
   },
   "outputs": [],
   "source": [
    "import sys\n",
    "import os\n",
    "import pandas as pd"
   ]
  },
  {
   "cell_type": "code",
   "execution_count": 5,
   "id": "645cb38a",
   "metadata": {
    "execution": {
     "iopub.execute_input": "2021-06-15T17:00:19.684428Z",
     "iopub.status.busy": "2021-06-15T17:00:19.678427Z",
     "iopub.status.idle": "2021-06-15T17:00:19.692423Z",
     "shell.execute_reply": "2021-06-15T17:00:19.694426Z"
    },
    "papermill": {
     "duration": 0.280246,
     "end_time": "2021-06-15T17:00:19.694426",
     "exception": false,
     "start_time": "2021-06-15T17:00:19.414180",
     "status": "completed"
    },
    "pycharm": {
     "name": "#%%\n"
    },
    "tags": []
   },
   "outputs": [],
   "source": [
    "default_DC = \"2021.Q1\"\n",
    "\n",
    "try:\n",
    "    if sys.argv[1] == \"-f\":\n",
    "        percode = default_DC\n",
    "    else:\n",
    "        percode = sys.argv[1]\n",
    "\n",
    "except IndexError:\n",
    "    percode = default_DC\n",
    "except NameError:\n",
    "    percode = default_DC"
   ]
  },
  {
   "cell_type": "markdown",
   "id": "3009cb49",
   "metadata": {
    "papermill": {
     "duration": 0.264427,
     "end_time": "2021-06-15T17:00:20.231569",
     "exception": false,
     "start_time": "2021-06-15T17:00:19.967142",
     "status": "completed"
    },
    "tags": []
   },
   "source": [
    "#### Convert paths and files to variables.\n",
    "#### Read data into pd DataFrames.\n",
    "#### Make paths for the live sources."
   ]
  },
  {
   "cell_type": "code",
   "execution_count": 6,
   "id": "fd0f1ca2",
   "metadata": {
    "execution": {
     "iopub.execute_input": "2021-06-15T17:00:20.849995Z",
     "iopub.status.busy": "2021-06-15T17:00:20.848995Z",
     "iopub.status.idle": "2021-06-15T17:00:20.854005Z",
     "shell.execute_reply": "2021-06-15T17:00:20.855993Z"
    },
    "papermill": {
     "duration": 0.284017,
     "end_time": "2021-06-15T17:00:20.855993",
     "exception": false,
     "start_time": "2021-06-15T17:00:20.571976",
     "status": "completed"
    },
    "pycharm": {
     "name": "#%%\n"
    },
    "tags": []
   },
   "outputs": [],
   "source": [
    "rt_path = os.path.join('\\\\\\\\hecate\\\\Insurance_US\\\\Product Development\\\\Product Management\\\\Global PPM\\\\Reporting\\\\Data Collection\\\\Production',percode)\n",
    "\n",
    "tempfile = os.path.join(rt_path, f'{percode}.localcur.csv')\n",
    "\n",
    "gppm_file = os.path.join(rt_path, f'GPPM_Input_{str(percode)}.xlsx')\n",
    "\n"
   ]
  },
  {
   "cell_type": "markdown",
   "id": "50b6deed",
   "metadata": {
    "papermill": {
     "duration": 0.255971,
     "end_time": "2021-06-15T17:00:21.361517",
     "exception": false,
     "start_time": "2021-06-15T17:00:21.105546",
     "status": "completed"
    },
    "tags": []
   },
   "source": [
    "### Make Files"
   ]
  },
  {
   "cell_type": "code",
   "execution_count": 7,
   "id": "ee20acc5",
   "metadata": {
    "execution": {
     "iopub.execute_input": "2021-06-15T17:00:21.847224Z",
     "iopub.status.busy": "2021-06-15T17:00:21.844223Z",
     "iopub.status.idle": "2021-06-15T17:00:21.852229Z",
     "shell.execute_reply": "2021-06-15T17:00:21.853221Z"
    },
    "papermill": {
     "duration": 0.262583,
     "end_time": "2021-06-15T17:00:21.854221",
     "exception": false,
     "start_time": "2021-06-15T17:00:21.591638",
     "status": "completed"
    },
    "tags": []
   },
   "outputs": [],
   "source": [
    "local_file = f'{percode}.localcur.csv'\n",
    "euro_file = f'{percode}.euroconv.csv'\n",
    "\n"
   ]
  },
  {
   "cell_type": "markdown",
   "id": "e8b077bd",
   "metadata": {
    "papermill": {
     "duration": 0.248967,
     "end_time": "2021-06-15T17:00:22.365765",
     "exception": false,
     "start_time": "2021-06-15T17:00:22.116798",
     "status": "completed"
    },
    "tags": []
   },
   "source": [
    "#### Read source"
   ]
  },
  {
   "cell_type": "code",
   "execution_count": 8,
   "id": "1696badb",
   "metadata": {
    "execution": {
     "iopub.execute_input": "2021-06-15T17:00:22.828488Z",
     "iopub.status.busy": "2021-06-15T17:00:22.824481Z",
     "iopub.status.idle": "2021-06-15T17:00:31.844799Z",
     "shell.execute_reply": "2021-06-15T17:00:31.847799Z"
    },
    "papermill": {
     "duration": 9.25329,
     "end_time": "2021-06-15T17:00:31.848805",
     "exception": false,
     "start_time": "2021-06-15T17:00:22.595515",
     "status": "completed"
    },
    "pycharm": {
     "name": "#%%\n"
    },
    "tags": []
   },
   "outputs": [],
   "source": [
    "\n",
    "mo_input = pd.read_csv(tempfile,  encoding='utf-8', engine='python')\n",
    "\n",
    "\n",
    "\"\"\"reads in the input for the Euro conversion\"\"\"\n",
    "euro = pd.read_excel(gppm_file, sheet_name=\"Euro_Rates\")\n"
   ]
  },
  {
   "cell_type": "markdown",
   "id": "25528c3b",
   "metadata": {
    "papermill": {
     "duration": 0.260953,
     "end_time": "2021-06-15T17:00:32.422595",
     "exception": false,
     "start_time": "2021-06-15T17:00:32.161642",
     "status": "completed"
    },
    "tags": []
   },
   "source": [
    "#### Output local currency csv"
   ]
  },
  {
   "cell_type": "code",
   "execution_count": 9,
   "id": "1ddc795f",
   "metadata": {
    "execution": {
     "iopub.execute_input": "2021-06-15T17:00:33.384669Z",
     "iopub.status.busy": "2021-06-15T17:00:33.381683Z",
     "iopub.status.idle": "2021-06-15T17:01:40.656547Z",
     "shell.execute_reply": "2021-06-15T17:01:40.657538Z"
    },
    "papermill": {
     "duration": 67.572388,
     "end_time": "2021-06-15T17:01:40.658538",
     "exception": false,
     "start_time": "2021-06-15T17:00:33.086150",
     "status": "completed"
    },
    "pycharm": {
     "is_executing": true,
     "name": "#%%\n"
    },
    "tags": []
   },
   "outputs": [],
   "source": [
    "mo_input.to_csv(os.path.join(rt_path,local_file), ',', index=False, encoding='utf-8-sig')"
   ]
  },
  {
   "cell_type": "markdown",
   "id": "a92a9509",
   "metadata": {
    "papermill": {
     "duration": 0.271141,
     "end_time": "2021-06-15T17:01:41.241342",
     "exception": false,
     "start_time": "2021-06-15T17:01:40.970201",
     "status": "completed"
    },
    "tags": []
   },
   "source": [
    "#### Convert all currency to Euro\n"
   ]
  },
  {
   "cell_type": "code",
   "execution_count": 10,
   "id": "c731c843",
   "metadata": {
    "execution": {
     "iopub.execute_input": "2021-06-15T17:01:41.804901Z",
     "iopub.status.busy": "2021-06-15T17:01:41.803906Z",
     "iopub.status.idle": "2021-06-15T17:01:41.807902Z",
     "shell.execute_reply": "2021-06-15T17:01:41.808901Z"
    },
    "papermill": {
     "duration": 0.330436,
     "end_time": "2021-06-15T17:01:41.808901",
     "exception": false,
     "start_time": "2021-06-15T17:01:41.478465",
     "status": "completed"
    },
    "pycharm": {
     "is_executing": true,
     "name": "#%%\n"
    },
    "tags": []
   },
   "outputs": [],
   "source": [
    "\n",
    "\n",
    "cflds = ['written_revenues_net_of_taxes', 'written_revenues', 'earned_revenues_net_of_taxes',\n",
    "         'earned_revenues', 'earned_base_commissions', 'earned_over_commissions', 'upfront_cash_payments',\n",
    "         'total_compensation', 'paid_claims', 'ocr__ibnr', 'actual_incurred_losses',\n",
    "         'internal_variable_costs', 'az_tech_fee', 'internal_fixed_costs',\n",
    "         'hq_fees', 'total_expenses', 'risk_premium', 'profit_or_loss', 'cm_hq_view', 'cm_bu_view', ]\n",
    "\n",
    "alt_cflds = ['written_revenues_net_of_taxes', 'written_revenues', 'earned_revenues_net_of_taxes',\n",
    "         'earned_revenues', 'earned_base_commissions', 'earned_over-commissions', 'upfront_cash_payments',\n",
    "         'total_compensation', 'paid_claims', 'ocr_+_ibnr','actual_incurred_losses_(paid_+_ocr_+_ibnr)',\n",
    "         'internal_variable_costs_(excl._az_tech_fee)', 'az_tech_fee', 'internal_fixed_costs_(excl._hq_fees)',\n",
    "         'hq_fees', 'total_expenses', 'risk_premium', 'profit_or_loss', 'contribution_margin_-_hq_view', 'contribution_margin_-_bu_view', ]\n",
    "\n",
    "\n",
    "\n"
   ]
  },
  {
   "cell_type": "markdown",
   "id": "b1367766",
   "metadata": {
    "papermill": {
     "duration": 0.255019,
     "end_time": "2021-06-15T17:01:42.294576",
     "exception": false,
     "start_time": "2021-06-15T17:01:42.039557",
     "status": "completed"
    },
    "tags": []
   },
   "source": [
    "#### Make a copy for debug purposes"
   ]
  },
  {
   "cell_type": "code",
   "execution_count": 11,
   "id": "a808cf0d",
   "metadata": {
    "execution": {
     "iopub.execute_input": "2021-06-15T17:01:42.875091Z",
     "iopub.status.busy": "2021-06-15T17:01:42.873094Z",
     "iopub.status.idle": "2021-06-15T17:01:42.895104Z",
     "shell.execute_reply": "2021-06-15T17:01:42.896097Z"
    },
    "papermill": {
     "duration": 0.341964,
     "end_time": "2021-06-15T17:01:42.897095",
     "exception": false,
     "start_time": "2021-06-15T17:01:42.555131",
     "status": "completed"
    },
    "pycharm": {
     "is_executing": true,
     "name": "#%%\n"
    },
    "tags": []
   },
   "outputs": [],
   "source": [
    "trandata = mo_input.copy()"
   ]
  },
  {
   "cell_type": "markdown",
   "id": "3282c98b",
   "metadata": {
    "papermill": {
     "duration": 0.244971,
     "end_time": "2021-06-15T17:01:43.395026",
     "exception": false,
     "start_time": "2021-06-15T17:01:43.150055",
     "status": "completed"
    },
    "tags": []
   },
   "source": [
    "#### Convert Currency Below"
   ]
  },
  {
   "cell_type": "code",
   "execution_count": 12,
   "id": "562b3c90",
   "metadata": {
    "execution": {
     "iopub.execute_input": "2021-06-15T17:01:43.927577Z",
     "iopub.status.busy": "2021-06-15T17:01:43.924578Z",
     "iopub.status.idle": "2021-06-15T17:01:43.933575Z",
     "shell.execute_reply": "2021-06-15T17:01:43.934575Z"
    },
    "papermill": {
     "duration": 0.274152,
     "end_time": "2021-06-15T17:01:43.935576",
     "exception": false,
     "start_time": "2021-06-15T17:01:43.661424",
     "status": "completed"
    },
    "pycharm": {
     "is_executing": true,
     "name": "#%%\n"
    },
    "tags": []
   },
   "outputs": [],
   "source": [
    "# create DataFrame of unique currencies with rates\n",
    "\n",
    "fx_uni = euro[['CURR_CODE','RATE']]\n",
    "fx_uni = fx_uni.drop_duplicates()"
   ]
  },
  {
   "cell_type": "code",
   "execution_count": 13,
   "id": "9ee91788",
   "metadata": {
    "execution": {
     "iopub.execute_input": "2021-06-15T17:01:44.394172Z",
     "iopub.status.busy": "2021-06-15T17:01:44.392171Z",
     "iopub.status.idle": "2021-06-15T17:01:44.628157Z",
     "shell.execute_reply": "2021-06-15T17:01:44.629142Z"
    },
    "papermill": {
     "duration": 0.461942,
     "end_time": "2021-06-15T17:01:44.629142",
     "exception": false,
     "start_time": "2021-06-15T17:01:44.167200",
     "status": "completed"
    },
    "pycharm": {
     "is_executing": true,
     "name": "#%%\n"
    },
    "tags": []
   },
   "outputs": [],
   "source": [
    "# add euro conversion rates to trandata DataFrame as column 'eur_rate'\n",
    "\n",
    "fx_uni = fx_uni.rename(columns = {\"CURR_CODE\":\"currency\"})\n",
    "\n",
    "eurdata = trandata.merge(fx_uni, how='left', left_on='currency', right_on='currency')\n",
    "\n",
    "\n",
    "trandata['eur_rate'] = eurdata['RATE']\n"
   ]
  },
  {
   "cell_type": "markdown",
   "id": "f2ccedaa",
   "metadata": {
    "papermill": {
     "duration": 0.234968,
     "end_time": "2021-06-15T17:01:45.140073",
     "exception": false,
     "start_time": "2021-06-15T17:01:44.905105",
     "status": "completed"
    },
    "tags": []
   },
   "source": [
    "#### Convert currency fields"
   ]
  },
  {
   "cell_type": "code",
   "execution_count": 14,
   "id": "687f7d23",
   "metadata": {
    "execution": {
     "iopub.execute_input": "2021-06-15T17:01:45.618975Z",
     "iopub.status.busy": "2021-06-15T17:01:45.616978Z",
     "iopub.status.idle": "2021-06-15T17:01:46.248279Z",
     "shell.execute_reply": "2021-06-15T17:01:46.248279Z"
    },
    "papermill": {
     "duration": 0.883913,
     "end_time": "2021-06-15T17:01:46.248279",
     "exception": false,
     "start_time": "2021-06-15T17:01:45.364366",
     "status": "completed"
    },
    "pycharm": {
     "is_executing": true,
     "name": "#%%\n"
    },
    "tags": []
   },
   "outputs": [],
   "source": [
    "try:\n",
    "    trandata[cflds] = trandata[cflds].divide(trandata['eur_rate'], axis=\"index\").fillna(0)\n",
    "\n",
    "except KeyError:\n",
    "    trandata[alt_cflds] = trandata[alt_cflds].divide(trandata['eur_rate'], axis=\"index\").fillna(0)\n",
    "\n",
    "    \n"
   ]
  },
  {
   "cell_type": "markdown",
   "id": "62ab8c47",
   "metadata": {
    "papermill": {
     "duration": 0.260251,
     "end_time": "2021-06-15T17:01:46.773778",
     "exception": false,
     "start_time": "2021-06-15T17:01:46.513527",
     "status": "completed"
    },
    "tags": []
   },
   "source": [
    "#### Output to {percode}.euroconv.csv"
   ]
  },
  {
   "cell_type": "code",
   "execution_count": 15,
   "id": "37ea40a0",
   "metadata": {
    "execution": {
     "iopub.execute_input": "2021-06-15T17:01:47.376471Z",
     "iopub.status.busy": "2021-06-15T17:01:47.371479Z",
     "iopub.status.idle": "2021-06-15T17:02:49.442789Z",
     "shell.execute_reply": "2021-06-15T17:02:49.443786Z"
    },
    "papermill": {
     "duration": 62.417761,
     "end_time": "2021-06-15T17:02:49.444783",
     "exception": false,
     "start_time": "2021-06-15T17:01:47.027022",
     "status": "completed"
    },
    "pycharm": {
     "is_executing": true,
     "name": "#%%\n"
    },
    "tags": []
   },
   "outputs": [],
   "source": [
    "trandata.to_csv( os.path.join(   rt_path , euro_file) , ',', index=False, encoding='utf-8-sig')\n"
   ]
  },
  {
   "cell_type": "code",
   "execution_count": 16,
   "id": "ba3a078b",
   "metadata": {
    "execution": {
     "iopub.execute_input": "2021-06-15T17:02:50.029880Z",
     "iopub.status.busy": "2021-06-15T17:02:50.027885Z",
     "iopub.status.idle": "2021-06-15T17:02:50.034624Z",
     "shell.execute_reply": "2021-06-15T17:02:50.035623Z"
    },
    "papermill": {
     "duration": 0.292754,
     "end_time": "2021-06-15T17:02:50.036624",
     "exception": false,
     "start_time": "2021-06-15T17:02:49.743870",
     "status": "completed"
    },
    "tags": []
   },
   "outputs": [],
   "source": [
    "#### Store the DataFrame for other notebooks to use and open the file location for the user to view the new files"
   ]
  },
  {
   "cell_type": "code",
   "execution_count": 17,
   "id": "49f34b9d",
   "metadata": {
    "execution": {
     "iopub.execute_input": "2021-06-15T17:02:50.516410Z",
     "iopub.status.busy": "2021-06-15T17:02:50.515404Z",
     "iopub.status.idle": "2021-06-15T17:02:50.939534Z",
     "shell.execute_reply": "2021-06-15T17:02:50.940546Z"
    },
    "papermill": {
     "duration": 0.681096,
     "end_time": "2021-06-15T17:02:50.941532",
     "exception": false,
     "start_time": "2021-06-15T17:02:50.260436",
     "status": "completed"
    },
    "tags": []
   },
   "outputs": [
    {
     "name": "stdout",
     "output_type": "stream",
     "text": [
      "Stored 'mo_df' (DataFrame)\n"
     ]
    }
   ],
   "source": [
    "mo_df = trandata\n",
    "\n",
    "%store mo_df\n",
    "\n",
    "\n",
    "os.startfile( rt_path   )\n",
    "\n"
   ]
  },
  {
   "cell_type": "code",
   "execution_count": null,
   "id": "ececfe7b",
   "metadata": {
    "papermill": {
     "duration": 0.289968,
     "end_time": "2021-06-15T17:02:51.477596",
     "exception": false,
     "start_time": "2021-06-15T17:02:51.187628",
     "status": "completed"
    },
    "tags": []
   },
   "outputs": [],
   "source": []
  }
 ],
 "metadata": {
  "celltoolbar": "Tags",
  "kernelspec": {
   "display_name": "Python 3",
   "language": "python",
   "name": "python3"
  },
  "language_info": {
   "codemirror_mode": {
    "name": "ipython",
    "version": 3
   },
   "file_extension": ".py",
   "mimetype": "text/x-python",
   "name": "python",
   "nbconvert_exporter": "python",
   "pygments_lexer": "ipython3",
   "version": "3.7.6"
  },
  "papermill": {
   "default_parameters": {},
   "duration": 174.242751,
   "end_time": "2021-06-15T17:02:52.461063",
   "environment_variables": {},
   "exception": null,
   "input_path": "pipeline/make_output.ipynb",
   "output_path": "//hecate/Insurance_US/Product Development/Product Management/Global PPM/Reporting/Data Collection/Pipeline Reporting Scripts/GPMpipeline/instances/2021.Q1\\pipeline\\make_output06152021124539--live CHdistChan.ipynb",
   "parameters": {
    "commit_message": "Live run, add CH dist Channels",
    "inst_datetime": "06152021124539",
    "percode": "2021.Q1",
    "run_control": 1
   },
   "start_time": "2021-06-15T16:59:58.218312",
   "version": "2.3.3"
  }
 },
 "nbformat": 4,
 "nbformat_minor": 5
}