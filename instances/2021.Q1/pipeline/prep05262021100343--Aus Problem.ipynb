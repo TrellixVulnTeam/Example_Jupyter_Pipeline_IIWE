{
 "cells": [
  {
   "cell_type": "markdown",
   "id": "55470eb4",
   "metadata": {
    "tags": [
     "papermill-error-cell-tag"
    ]
   },
   "source": [
    "<span style=\"color:red; font-family:Helvetica Neue, Helvetica, Arial, sans-serif; font-size:2em;\">An Exception was encountered at '<a href=\"#papermill-error-cell\">In [22]</a>'.</span>"
   ]
  },
  {
   "cell_type": "markdown",
   "id": "ef9b96c8",
   "metadata": {
    "papermill": {
     "duration": 0.391823,
     "end_time": "2021-05-26T14:03:50.609665",
     "exception": false,
     "start_time": "2021-05-26T14:03:50.217842",
     "status": "completed"
    },
    "tags": []
   },
   "source": [
    "<img src=\"../images/AzPTravel_PPM.png\">"
   ]
  },
  {
   "cell_type": "markdown",
   "id": "ff95fd02",
   "metadata": {
    "papermill": {
     "duration": 0.513741,
     "end_time": "2021-05-26T14:03:51.635972",
     "exception": false,
     "start_time": "2021-05-26T14:03:51.122231",
     "status": "completed"
    },
    "pycharm": {
     "name": "#%% md\n"
    },
    "tags": []
   },
   "source": [
    "## Source File Consolidation\n",
    "\n",
    "#### This script fetches the current data collection submission files, consolidates them in to a combined csv file, and outputs that to the network.\n",
    "- All source files stored in the path are read, summarized, and then consolidated into a single dataframe named 'df'.\n",
    "- This process assumes that the multiple sources are in no way duplicates of each other.\n",
    "- df is then output in the data collection subfolder of the \"Production\" folder.\n"
   ]
  },
  {
   "cell_type": "markdown",
   "id": "552da74c",
   "metadata": {
    "papermill": {
     "duration": 0.4858,
     "end_time": "2021-05-26T14:03:52.653949",
     "exception": false,
     "start_time": "2021-05-26T14:03:52.168149",
     "status": "completed"
    },
    "tags": []
   },
   "source": [
    "### User Variables\n",
    "- These are overwritten if inherited from run_control.ipynb.\n",
    "- Feel Free to reset them for a manual run if you like\n",
    "- Do not save without percode = \"-f\""
   ]
  },
  {
   "cell_type": "code",
   "execution_count": 1,
   "id": "c628a63e",
   "metadata": {
    "execution": {
     "iopub.execute_input": "2021-05-26T14:03:53.617176Z",
     "iopub.status.busy": "2021-05-26T14:03:53.601071Z",
     "iopub.status.idle": "2021-05-26T14:03:53.625176Z",
     "shell.execute_reply": "2021-05-26T14:03:53.622178Z"
    },
    "papermill": {
     "duration": 0.538376,
     "end_time": "2021-05-26T14:03:53.626185",
     "exception": false,
     "start_time": "2021-05-26T14:03:53.087809",
     "status": "completed"
    },
    "pycharm": {
     "is_executing": true,
     "name": "#%%\n"
    },
    "tags": [
     "parameters"
    ]
   },
   "outputs": [],
   "source": [
    "commit_message = \"Development and testing.\"\n",
    "# Give a brief reason for the run.\n",
    "\n",
    "run_control = 1\n",
    "#run_type = 0 - Lite run with no reporting, not recommended.\n",
    "#run_type = 1 - Lite run with normal reporting, default setting.\n",
    "#run_type = 2 - Heavy run with full reporting, available for audits and troubleshooting.\n",
    "#run_type = 5 - A default setting. Indicates the script is being run by an outside process without an inherited value\n",
    "\n",
    "percode = \"2021.Q1\"\n",
    "# Data Collection Code, this controls file paths and output names\n",
    "# \"-f\" is the value indicating a bad inheritance from run with arg\n",
    "\n",
    "s_format = \"p\"\n",
    "# denotes the source data format x == Excel; j == json, p == parquet\n",
    "\n",
    "#----------\n",
    "# do not edit - this either inherits the full instance timestamp from the papermill book or captures the run time of this script.\n",
    "from datetime import datetime\n",
    "inst_datetime = datetime.now().strftime(\"%m%d%Y%H%M%S\")"
   ]
  },
  {
   "cell_type": "code",
   "execution_count": 2,
   "id": "4f41303c",
   "metadata": {
    "execution": {
     "iopub.execute_input": "2021-05-26T14:03:54.437282Z",
     "iopub.status.busy": "2021-05-26T14:03:54.434284Z",
     "iopub.status.idle": "2021-05-26T14:03:54.442287Z",
     "shell.execute_reply": "2021-05-26T14:03:54.443283Z"
    },
    "papermill": {
     "duration": 0.331995,
     "end_time": "2021-05-26T14:03:54.443283",
     "exception": false,
     "start_time": "2021-05-26T14:03:54.111288",
     "status": "completed"
    },
    "tags": [
     "injected-parameters"
    ]
   },
   "outputs": [],
   "source": [
    "# Parameters\n",
    "run_control = 1\n",
    "percode = \"2021.Q1\"\n",
    "commit_message = \"New AUS needed to be converted from json\"\n",
    "inst_datetime = \"05262021100343\"\n",
    "source_type = \"p\"\n"
   ]
  },
  {
   "cell_type": "markdown",
   "id": "80e6423e",
   "metadata": {
    "papermill": {
     "duration": 0.38781,
     "end_time": "2021-05-26T14:03:55.187918",
     "exception": false,
     "start_time": "2021-05-26T14:03:54.800108",
     "status": "completed"
    },
    "tags": []
   },
   "source": [
    "#### Notebook display options"
   ]
  },
  {
   "cell_type": "code",
   "execution_count": 3,
   "id": "9f9e376f",
   "metadata": {
    "execution": {
     "iopub.execute_input": "2021-05-26T14:03:55.881916Z",
     "iopub.status.busy": "2021-05-26T14:03:55.879913Z",
     "iopub.status.idle": "2021-05-26T14:03:55.888921Z",
     "shell.execute_reply": "2021-05-26T14:03:55.889915Z"
    },
    "papermill": {
     "duration": 0.355004,
     "end_time": "2021-05-26T14:03:55.889915",
     "exception": false,
     "start_time": "2021-05-26T14:03:55.534911",
     "status": "completed"
    },
    "tags": []
   },
   "outputs": [],
   "source": [
    "from IPython.core.interactiveshell import InteractiveShell\n",
    "InteractiveShell.ast_node_interactivity = \"all\""
   ]
  },
  {
   "cell_type": "markdown",
   "id": "a8f10590",
   "metadata": {
    "papermill": {
     "duration": 0.368182,
     "end_time": "2021-05-26T14:03:56.620804",
     "exception": false,
     "start_time": "2021-05-26T14:03:56.252622",
     "status": "completed"
    },
    "tags": []
   },
   "source": [
    "#### import packages"
   ]
  },
  {
   "cell_type": "code",
   "execution_count": 4,
   "id": "03abece6",
   "metadata": {
    "execution": {
     "iopub.execute_input": "2021-05-26T14:03:57.348701Z",
     "iopub.status.busy": "2021-05-26T14:03:57.343707Z",
     "iopub.status.idle": "2021-05-26T14:04:01.278028Z",
     "shell.execute_reply": "2021-05-26T14:04:01.280027Z"
    },
    "papermill": {
     "duration": 4.29462,
     "end_time": "2021-05-26T14:04:01.280027",
     "exception": false,
     "start_time": "2021-05-26T14:03:56.985407",
     "status": "completed"
    },
    "pycharm": {
     "name": "#%%\n"
    },
    "tags": []
   },
   "outputs": [],
   "source": [
    "#### Packages used\n",
    "\n",
    "import os # System commands\n",
    "import sys # System commands\n",
    "\n",
    "from datetime import datetime # datetime options\n",
    "import warnings # custom warnigns options\n",
    "\n",
    "import getpass # parquet file read/write\n",
    "import json # json file read/write\n",
    "\n",
    "import matplotlib.pyplot as plt #Plots and Graphs\n",
    "import openpyxl # Excel operations\n",
    "import numpy as np\n",
    "import pandas as pd #DataFrame and math\n",
    "\n",
    "\n",
    "\n"
   ]
  },
  {
   "cell_type": "markdown",
   "id": "771952fc",
   "metadata": {
    "papermill": {
     "duration": 0.333311,
     "end_time": "2021-05-26T14:04:02.113432",
     "exception": false,
     "start_time": "2021-05-26T14:04:01.780121",
     "status": "completed"
    },
    "tags": []
   },
   "source": [
    "#### Default Variables, these govern logic, do not edit."
   ]
  },
  {
   "cell_type": "code",
   "execution_count": 5,
   "id": "659a5a01",
   "metadata": {
    "execution": {
     "iopub.execute_input": "2021-05-26T14:04:02.816362Z",
     "iopub.status.busy": "2021-05-26T14:04:02.813364Z",
     "iopub.status.idle": "2021-05-26T14:04:02.823362Z",
     "shell.execute_reply": "2021-05-26T14:04:02.825360Z"
    },
    "papermill": {
     "duration": 0.418123,
     "end_time": "2021-05-26T14:04:02.825360",
     "exception": false,
     "start_time": "2021-05-26T14:04:02.407237",
     "status": "completed"
    },
    "pycharm": {
     "name": "#%%\n"
    },
    "tags": []
   },
   "outputs": [],
   "source": [
    "default_dc = \"20XX.QX\"\n",
    "default_rc = 0 #extra lite mode\n",
    "dummy_perc = \"33Q3\" # bad inheritance"
   ]
  },
  {
   "cell_type": "markdown",
   "id": "992c5833",
   "metadata": {
    "papermill": {
     "duration": 0.289111,
     "end_time": "2021-05-26T14:04:03.411295",
     "exception": false,
     "start_time": "2021-05-26T14:04:03.122184",
     "status": "completed"
    },
    "pycharm": {
     "name": "#%% md\n"
    },
    "tags": []
   },
   "source": [
    "#### Script determining run context ie, manual, run_control.ipynb, or other."
   ]
  },
  {
   "cell_type": "code",
   "execution_count": 6,
   "id": "8f285027",
   "metadata": {
    "execution": {
     "iopub.execute_input": "2021-05-26T14:04:04.123764Z",
     "iopub.status.busy": "2021-05-26T14:04:04.118762Z",
     "iopub.status.idle": "2021-05-26T14:04:04.130766Z",
     "shell.execute_reply": "2021-05-26T14:04:04.131763Z"
    },
    "papermill": {
     "duration": 0.403844,
     "end_time": "2021-05-26T14:04:04.132767",
     "exception": false,
     "start_time": "2021-05-26T14:04:03.728923",
     "status": "completed"
    },
    "pycharm": {
     "name": "#%%\n"
    },
    "tags": [
     "parameters"
    ]
   },
   "outputs": [],
   "source": [
    "if run_control == 5:\n",
    "    run_control = default_rc \n",
    "else:\n",
    "    run_control = run_control\n",
    "\n",
    "try:\n",
    "    if sys.argv[1] == \"-f\":\n",
    "        percode = percode\n",
    "    else:\n",
    "        percode = sys.argv[1]\n",
    "\n",
    "except IndexError:\n",
    "    percode = default_dc\n",
    "except NameError:\n",
    "    percode = default_dc\n"
   ]
  },
  {
   "cell_type": "markdown",
   "id": "a5955222",
   "metadata": {
    "papermill": {
     "duration": 0.587714,
     "end_time": "2021-05-26T14:04:05.081217",
     "exception": false,
     "start_time": "2021-05-26T14:04:04.493503",
     "status": "completed"
    },
    "pycharm": {
     "name": "#%% md\n"
    },
    "tags": []
   },
   "source": [
    "#### Make paths for the source folder"
   ]
  },
  {
   "cell_type": "code",
   "execution_count": 7,
   "id": "13ec8492",
   "metadata": {
    "execution": {
     "iopub.execute_input": "2021-05-26T14:04:05.854677Z",
     "iopub.status.busy": "2021-05-26T14:04:05.851679Z",
     "iopub.status.idle": "2021-05-26T14:04:05.860678Z",
     "shell.execute_reply": "2021-05-26T14:04:05.861678Z"
    },
    "papermill": {
     "duration": 0.421888,
     "end_time": "2021-05-26T14:04:05.862679",
     "exception": false,
     "start_time": "2021-05-26T14:04:05.440791",
     "status": "completed"
    },
    "pycharm": {
     "name": "#%%\n"
    },
    "tags": []
   },
   "outputs": [],
   "source": [
    "rt_path = f'//hecate/Insurance_US/Product Development/Product Management/Global PPM/Reporting/Data Collection/Production/{str(percode)}'\n",
    "ls_path = os.path.join( rt_path, 'live_sources')\n"
   ]
  },
  {
   "cell_type": "markdown",
   "id": "d58328be",
   "metadata": {
    "papermill": {
     "duration": 0.355522,
     "end_time": "2021-05-26T14:04:06.582788",
     "exception": false,
     "start_time": "2021-05-26T14:04:06.227266",
     "status": "completed"
    },
    "pycharm": {
     "name": "#%% md\n"
    },
    "tags": []
   },
   "source": [
    "#### Get a list of only source files in the path that start with \"us_dat\".\n",
    "#### Logic determines the source file types.\n",
    "\n",
    "#### User instructions:\n",
    "- Make sure that you have 1 file per source in this folder.\n",
    "    -  For instance, do not have two files for Portugal. If there is an update, archive the old one.\n",
    "- Do not overwrite files in the archive.\n",
    "    - Rename newly archived files, no strict convention, we keep track of these by the modified date.\n",
    "- It is ok to have multiple sources in one file."
   ]
  },
  {
   "cell_type": "code",
   "execution_count": 8,
   "id": "d2c4499f",
   "metadata": {
    "execution": {
     "iopub.execute_input": "2021-05-26T14:04:07.449169Z",
     "iopub.status.busy": "2021-05-26T14:04:07.440169Z",
     "iopub.status.idle": "2021-05-26T14:04:07.457173Z",
     "shell.execute_reply": "2021-05-26T14:04:07.458172Z"
    },
    "papermill": {
     "duration": 0.426336,
     "end_time": "2021-05-26T14:04:07.459171",
     "exception": false,
     "start_time": "2021-05-26T14:04:07.032835",
     "status": "completed"
    },
    "pycharm": {
     "name": "#%%\n"
    },
    "tags": []
   },
   "outputs": [],
   "source": [
    "files = os.listdir(ls_path)\n",
    "files = [files.lower() for files in files]\n",
    "\n",
    "if s_format == \"x\":\n",
    "    files_sour = [f for f in files if f[-3:] in ('lsx' , 'lsm' ,'xls')]\n",
    "\n",
    "elif s_format == \"j\":\n",
    "    files_sour = [f for f in files if f[:6] == 'us_dat'  and  f[-5:]  == '.json']\n",
    "\n",
    "elif s_format == \"p\":\n",
    "    files_sour = [f for f in files if f[:6] == 'us_dat' and  f[-8:]  == '.parquet']\n"
   ]
  },
  {
   "cell_type": "markdown",
   "id": "fbb168ab",
   "metadata": {
    "papermill": {
     "duration": 0.502333,
     "end_time": "2021-05-26T14:04:08.388778",
     "exception": false,
     "start_time": "2021-05-26T14:04:07.886445",
     "status": "completed"
    },
    "pycharm": {
     "name": "#%% md\n"
    },
    "tags": []
   },
   "source": [
    "#### Create a list 'pathfiles' that has every source file with the full path."
   ]
  },
  {
   "cell_type": "code",
   "execution_count": 9,
   "id": "8adfd5bc",
   "metadata": {
    "execution": {
     "iopub.execute_input": "2021-05-26T14:04:09.551980Z",
     "iopub.status.busy": "2021-05-26T14:04:09.544984Z",
     "iopub.status.idle": "2021-05-26T14:04:09.564976Z",
     "shell.execute_reply": "2021-05-26T14:04:09.565981Z"
    },
    "papermill": {
     "duration": 0.781202,
     "end_time": "2021-05-26T14:04:09.566978",
     "exception": false,
     "start_time": "2021-05-26T14:04:08.785776",
     "status": "completed"
    },
    "pycharm": {
     "name": "#%%\n"
    },
    "tags": []
   },
   "outputs": [],
   "source": [
    "pathfiles = []\n",
    "\n",
    "for f in files_sour:\n",
    "    makepathsfiles = os.path.join(str(ls_path), str(f))\n",
    "    pathfiles.append(makepathsfiles)\n"
   ]
  },
  {
   "cell_type": "markdown",
   "id": "a859b169",
   "metadata": {
    "papermill": {
     "duration": 0.517283,
     "end_time": "2021-05-26T14:04:11.061025",
     "exception": false,
     "start_time": "2021-05-26T14:04:10.543742",
     "status": "completed"
    },
    "tags": []
   },
   "source": [
    "#### File Check\n",
    "\n",
    "- create file information Data.Frame \"file_info_df\" with name, size, and modified date of each source file\n",
    "- import previous source file list for comparison\n",
    "- print all new files, store as a list \"newfiles\"\n",
    "- print all dropped files, store as a list \"dropped_files\""
   ]
  },
  {
   "cell_type": "code",
   "execution_count": 10,
   "id": "c20eaf61",
   "metadata": {
    "execution": {
     "iopub.execute_input": "2021-05-26T14:04:12.053989Z",
     "iopub.status.busy": "2021-05-26T14:04:12.018990Z",
     "iopub.status.idle": "2021-05-26T14:04:15.345951Z",
     "shell.execute_reply": "2021-05-26T14:04:15.347962Z"
    },
    "papermill": {
     "duration": 3.788308,
     "end_time": "2021-05-26T14:04:15.347962",
     "exception": false,
     "start_time": "2021-05-26T14:04:11.559654",
     "status": "completed"
    },
    "pycharm": {
     "name": "#%%\n"
    },
    "tags": []
   },
   "outputs": [
    {
     "name": "stdout",
     "output_type": "stream",
     "text": [
      "\n",
      "New data file found: us_dat_au_05142021143612.parquet, last update 2021-05-26 10:02:23.\n"
     ]
    }
   ],
   "source": [
    "#print(\"Current Source Files\")\n",
    "cols = [\"Filename\", \"Size\", \"Last Modified\" ]\n",
    "\n",
    "file_info_df = pd.DataFrame(columns = cols)\n",
    "for f, p in zip(files_sour, pathfiles):\n",
    "    name = f\n",
    "    size = os.path.getsize(p) # size in bytes\n",
    "    moddate = os.path.getctime(p)# time of last metadata change;\n",
    "    moddate =  datetime.fromtimestamp(moddate).strftime('%Y-%m-%d %H:%M:%S')# format change;\n",
    "    new_row = pd.DataFrame([[name, size, moddate]], columns = cols)\n",
    "    file_info_df = file_info_df.append(new_row, ignore_index=True)\n",
    "\n",
    "#print(file_info_df)\n",
    "\n",
    "file_list = os.path.join( rt_path, 'Current_Source_Files.csv')\n",
    "prev_files = pd.read_csv(file_list)\n",
    "\n",
    "\n",
    "fl_comp = file_info_df[\"Filename\"] + file_info_df[\"Size\"].astype(str) + file_info_df[\"Last Modified\"].astype(str)\n",
    "\n",
    "prev_comp = prev_files[\"Filename\"] + prev_files[\"Size\"].astype(str) + prev_files[\"Last Modified\"].astype(str)\n",
    "\n",
    "newfiles = []\n",
    "\n",
    "for idx, r in enumerate(fl_comp):\n",
    "    \n",
    "    if r in prev_comp.values:\n",
    "    \n",
    "        pass\n",
    "     \n",
    "    else:\n",
    "        if file_info_df['Filename'][idx] in prev_files[\"Filename\"].values:\n",
    "            print(\"\")\n",
    "            print(f\"Changed data file found: {file_info_df['Filename'][idx]}, last update {file_info_df['Last Modified'][idx]}.\")\n",
    "            newfiles.append(pathfiles[idx])\n",
    "        else:\n",
    "            print(\"\")\n",
    "            print(f\"New data file found: {file_info_df['Filename'][idx]}, last update {file_info_df['Last Modified'][idx]}.\")\n",
    "            newfiles.append(pathfiles[idx])\n",
    "\n",
    "if len(newfiles) == 0:\n",
    "    \n",
    "    print(\"No new or changed data files found in live sources folder.\")\n",
    "\n",
    "else:\n",
    "\n",
    "    pass\n",
    "\n",
    "dropped_files = []\n",
    "\n",
    "for r in prev_files[\"Filename\"]:\n",
    "    \n",
    "    if r in file_info_df[\"Filename\"].values:\n",
    "        \n",
    "        pass\n",
    "    \n",
    "    else:\n",
    "        print(\"\")\n",
    "        print(f\"File {r} has been archived or removed from live sources folder.\")\n",
    "        dropped_files.append(os.path.join( ls_path, r))\n",
    "    \n",
    "    \n",
    "    \n",
    "    \n",
    "file_info_df.to_csv(file_list, index = False)\n",
    "\n",
    "\n"
   ]
  },
  {
   "cell_type": "markdown",
   "id": "8aadf91c",
   "metadata": {
    "papermill": {
     "duration": 0.753272,
     "end_time": "2021-05-26T14:04:16.926561",
     "exception": false,
     "start_time": "2021-05-26T14:04:16.173289",
     "status": "completed"
    },
    "tags": []
   },
   "source": [
    "#### Business Unit Check\n",
    "\n",
    "- import existing Business Unit and raw file list\n",
    "- enusure there is a 1 to 1 relationship\n",
    "- throw error if not\n"
   ]
  },
  {
   "cell_type": "code",
   "execution_count": 11,
   "id": "66511f00",
   "metadata": {
    "execution": {
     "iopub.execute_input": "2021-05-26T14:04:18.065443Z",
     "iopub.status.busy": "2021-05-26T14:04:18.042382Z",
     "iopub.status.idle": "2021-05-26T14:04:36.596657Z",
     "shell.execute_reply": "2021-05-26T14:04:36.597658Z"
    },
    "papermill": {
     "duration": 19.109246,
     "end_time": "2021-05-26T14:04:36.598660",
     "exception": false,
     "start_time": "2021-05-26T14:04:17.489414",
     "status": "completed"
    },
    "pycharm": {
     "name": "#%%\n"
    },
    "tags": []
   },
   "outputs": [],
   "source": [
    "cols = [ \"Business Unit\", \"File\"]\n",
    "\n",
    "bu_x_file = pd.DataFrame(columns = cols ) \n",
    "\n",
    "for p, f  in zip(pathfiles,files_sour):\n",
    "\n",
    "    if s_format == \"x\":\n",
    "\n",
    "        try:\n",
    "            data = pd.read_excel(p, sheet_name = 'Portfolio_Monitoring', na_values = [0], header=3, converters={ 'Business Partner Name': str, 'Type of Business': str, 'Type of Account': str, 'Distribution Type': str, 'LOB': str, 'Distribution Channel': str,\n",
    "            'Sub LOB': str,'Business Partner ID Number': str,  'Product Name': str, 'Product ID Number': str,  'Product Family': str,  'Standard Product': str, 'Total Expenses': float,    })\n",
    "\n",
    "        except:\n",
    "            data = pd.read_excel(p, sheet_name = 'Ptf_Monitoring_GROSS_Reins', na_values = [0], header=3, converters={ 'Business Partner Name': str, 'Type of Business': str, 'Type of Account': str, 'Distribution Type': str, 'LOB': str, 'Distribution Channel': str,\n",
    "            'Sub LOB': str,'Business Partner ID Number': str,  'Product Name': str, 'Product ID Number': str,  'Product Family': str,  'Standard Product': str, 'Total Expenses': float,    })\n",
    "\n",
    "\n",
    "    elif s_format == \"j\":\n",
    "\n",
    "        data = pd.read_json(p, orient=\"table\")\n",
    "\n",
    "    elif s_format == \"p\":\n",
    "\n",
    "        data = pd.read_parquet(p, engine = \"pyarrow\")\n",
    "\n",
    "    bus = data[\"Business Unit\"].unique()\n",
    "    \n",
    "    for i in bus: bu_x_file = bu_x_file.append({\"Business Unit\": i,\"File\": f} , ignore_index=True)\n",
    "\n",
    "        \n",
    "#This is a list of BU's that are included in the raw data files, and the file name(s) they are contained in.\n",
    "bu_filelist = bu_x_file.sort_values(by='Business Unit').style.hide_index()\n",
    "\n",
    "\n"
   ]
  },
  {
   "cell_type": "code",
   "execution_count": 12,
   "id": "64924959",
   "metadata": {
    "execution": {
     "iopub.execute_input": "2021-05-26T14:04:37.246230Z",
     "iopub.status.busy": "2021-05-26T14:04:37.241236Z",
     "iopub.status.idle": "2021-05-26T14:04:37.271229Z",
     "shell.execute_reply": "2021-05-26T14:04:37.270233Z"
    },
    "papermill": {
     "duration": 0.345827,
     "end_time": "2021-05-26T14:04:37.272225",
     "exception": false,
     "start_time": "2021-05-26T14:04:36.926398",
     "status": "completed"
    },
    "tags": []
   },
   "outputs": [
    {
     "data": {
      "text/plain": [
       "1.0"
      ]
     },
     "execution_count": 12,
     "metadata": {},
     "output_type": "execute_result"
    }
   ],
   "source": [
    "\n",
    "bucount =  bu_x_file.groupby(\"Business Unit\").count().sort_values(by='File', ascending=False)\n",
    "\n",
    "filecount =  bu_x_file.groupby(\"File\").count().sort_values(by='File')\n",
    "\n",
    "err_check = 1\n",
    "\n",
    "if len(bucount[bucount[\"File\"] > 1]) > 0: \n",
    "    warnings.warn(\"\\n \\nThere is a Business Unit with data in multiple source files.\\nReview the file counts and filenames to resolve the issue.\\nThis is a critical control.\")\n",
    "    err_check = 0\n",
    "else:\n",
    "    pass\n",
    "\n",
    "try:\n",
    "    1 / err_check\n",
    "\n",
    "except ZeroDivisionError:\n",
    "    print(\"Execution halted due to multiple source file per one or more Business Units.\")\n"
   ]
  },
  {
   "cell_type": "code",
   "execution_count": 13,
   "id": "16d32860",
   "metadata": {
    "execution": {
     "iopub.execute_input": "2021-05-26T14:04:38.057295Z",
     "iopub.status.busy": "2021-05-26T14:04:38.053281Z",
     "iopub.status.idle": "2021-05-26T14:04:38.132805Z",
     "shell.execute_reply": "2021-05-26T14:04:38.133802Z"
    },
    "papermill": {
     "duration": 0.557106,
     "end_time": "2021-05-26T14:04:38.133802",
     "exception": false,
     "start_time": "2021-05-26T14:04:37.576696",
     "status": "completed"
    },
    "tags": []
   },
   "outputs": [
    {
     "name": "stdout",
     "output_type": "stream",
     "text": [
      "This is a count of how many BUs appear in each file. It is fine to submit multiple BUs in one source.\n"
     ]
    },
    {
     "data": {
      "text/html": [
       "<div>\n",
       "<style scoped>\n",
       "    .dataframe tbody tr th:only-of-type {\n",
       "        vertical-align: middle;\n",
       "    }\n",
       "\n",
       "    .dataframe tbody tr th {\n",
       "        vertical-align: top;\n",
       "    }\n",
       "\n",
       "    .dataframe thead th {\n",
       "        text-align: right;\n",
       "    }\n",
       "</style>\n",
       "<table border=\"1\" class=\"dataframe\">\n",
       "  <thead>\n",
       "    <tr style=\"text-align: right;\">\n",
       "      <th></th>\n",
       "      <th>Business Unit</th>\n",
       "    </tr>\n",
       "    <tr>\n",
       "      <th>File</th>\n",
       "      <th></th>\n",
       "    </tr>\n",
       "  </thead>\n",
       "  <tbody>\n",
       "    <tr>\n",
       "      <th>us_dat_au_05142021143612.parquet</th>\n",
       "      <td>1</td>\n",
       "    </tr>\n",
       "    <tr>\n",
       "      <th>us_dat_ca_05202021134242.parquet</th>\n",
       "      <td>1</td>\n",
       "    </tr>\n",
       "    <tr>\n",
       "      <th>us_dat_ch_05182021192455.parquet</th>\n",
       "      <td>1</td>\n",
       "    </tr>\n",
       "    <tr>\n",
       "      <th>us_dat_cz_05262021090243.parquet</th>\n",
       "      <td>1</td>\n",
       "    </tr>\n",
       "    <tr>\n",
       "      <th>us_dat_es_05202021105141.parquet</th>\n",
       "      <td>1</td>\n",
       "    </tr>\n",
       "    <tr>\n",
       "      <th>us_dat_gr_05252021115404.parquet</th>\n",
       "      <td>1</td>\n",
       "    </tr>\n",
       "    <tr>\n",
       "      <th>us_dat_it_05242021111520.parquet</th>\n",
       "      <td>1</td>\n",
       "    </tr>\n",
       "    <tr>\n",
       "      <th>us_dat_pl_05262021084450.parquet</th>\n",
       "      <td>1</td>\n",
       "    </tr>\n",
       "    <tr>\n",
       "      <th>us_dat_pt_05202021121056.parquet</th>\n",
       "      <td>1</td>\n",
       "    </tr>\n",
       "  </tbody>\n",
       "</table>\n",
       "</div>"
      ],
      "text/plain": [
       "                                  Business Unit\n",
       "File                                           \n",
       "us_dat_au_05142021143612.parquet              1\n",
       "us_dat_ca_05202021134242.parquet              1\n",
       "us_dat_ch_05182021192455.parquet              1\n",
       "us_dat_cz_05262021090243.parquet              1\n",
       "us_dat_es_05202021105141.parquet              1\n",
       "us_dat_gr_05252021115404.parquet              1\n",
       "us_dat_it_05242021111520.parquet              1\n",
       "us_dat_pl_05262021084450.parquet              1\n",
       "us_dat_pt_05202021121056.parquet              1"
      ]
     },
     "execution_count": 13,
     "metadata": {},
     "output_type": "execute_result"
    },
    {
     "name": "stdout",
     "output_type": "stream",
     "text": [
      "\n",
      "This is a count of how many files each BU appears in. In all cases the count values should be one (1). The process as desgined, should have a single submission and source for each BU.\n"
     ]
    },
    {
     "data": {
      "text/html": [
       "<div>\n",
       "<style scoped>\n",
       "    .dataframe tbody tr th:only-of-type {\n",
       "        vertical-align: middle;\n",
       "    }\n",
       "\n",
       "    .dataframe tbody tr th {\n",
       "        vertical-align: top;\n",
       "    }\n",
       "\n",
       "    .dataframe thead th {\n",
       "        text-align: right;\n",
       "    }\n",
       "</style>\n",
       "<table border=\"1\" class=\"dataframe\">\n",
       "  <thead>\n",
       "    <tr style=\"text-align: right;\">\n",
       "      <th></th>\n",
       "      <th>File</th>\n",
       "    </tr>\n",
       "    <tr>\n",
       "      <th>Business Unit</th>\n",
       "      <th></th>\n",
       "    </tr>\n",
       "  </thead>\n",
       "  <tbody>\n",
       "    <tr>\n",
       "      <th>AU</th>\n",
       "      <td>1</td>\n",
       "    </tr>\n",
       "    <tr>\n",
       "      <th>CA</th>\n",
       "      <td>1</td>\n",
       "    </tr>\n",
       "    <tr>\n",
       "      <th>CH</th>\n",
       "      <td>1</td>\n",
       "    </tr>\n",
       "    <tr>\n",
       "      <th>CZ</th>\n",
       "      <td>1</td>\n",
       "    </tr>\n",
       "    <tr>\n",
       "      <th>ES</th>\n",
       "      <td>1</td>\n",
       "    </tr>\n",
       "    <tr>\n",
       "      <th>GR</th>\n",
       "      <td>1</td>\n",
       "    </tr>\n",
       "    <tr>\n",
       "      <th>IT</th>\n",
       "      <td>1</td>\n",
       "    </tr>\n",
       "    <tr>\n",
       "      <th>PL</th>\n",
       "      <td>1</td>\n",
       "    </tr>\n",
       "    <tr>\n",
       "      <th>PT</th>\n",
       "      <td>1</td>\n",
       "    </tr>\n",
       "  </tbody>\n",
       "</table>\n",
       "</div>"
      ],
      "text/plain": [
       "               File\n",
       "Business Unit      \n",
       "AU                1\n",
       "CA                1\n",
       "CH                1\n",
       "CZ                1\n",
       "ES                1\n",
       "GR                1\n",
       "IT                1\n",
       "PL                1\n",
       "PT                1"
      ]
     },
     "execution_count": 13,
     "metadata": {},
     "output_type": "execute_result"
    },
    {
     "name": "stdout",
     "output_type": "stream",
     "text": [
      "This is a list of BU's that are included in the raw data files, and the file name(s) they are contained in.\n"
     ]
    },
    {
     "data": {
      "text/html": [
       "<style  type=\"text/css\" >\n",
       "</style><table id=\"T_4ee0073a_be2b_11eb_ae78_8c1645d87358\" ><thead>    <tr>        <th class=\"col_heading level0 col0\" >Business Unit</th>        <th class=\"col_heading level0 col1\" >File</th>    </tr></thead><tbody>\n",
       "                <tr>\n",
       "                                <td id=\"T_4ee0073a_be2b_11eb_ae78_8c1645d87358row0_col0\" class=\"data row0 col0\" >AU</td>\n",
       "                        <td id=\"T_4ee0073a_be2b_11eb_ae78_8c1645d87358row0_col1\" class=\"data row0 col1\" >us_dat_au_05142021143612.parquet</td>\n",
       "            </tr>\n",
       "            <tr>\n",
       "                                <td id=\"T_4ee0073a_be2b_11eb_ae78_8c1645d87358row1_col0\" class=\"data row1 col0\" >CA</td>\n",
       "                        <td id=\"T_4ee0073a_be2b_11eb_ae78_8c1645d87358row1_col1\" class=\"data row1 col1\" >us_dat_ca_05202021134242.parquet</td>\n",
       "            </tr>\n",
       "            <tr>\n",
       "                                <td id=\"T_4ee0073a_be2b_11eb_ae78_8c1645d87358row2_col0\" class=\"data row2 col0\" >CH</td>\n",
       "                        <td id=\"T_4ee0073a_be2b_11eb_ae78_8c1645d87358row2_col1\" class=\"data row2 col1\" >us_dat_ch_05182021192455.parquet</td>\n",
       "            </tr>\n",
       "            <tr>\n",
       "                                <td id=\"T_4ee0073a_be2b_11eb_ae78_8c1645d87358row3_col0\" class=\"data row3 col0\" >CZ</td>\n",
       "                        <td id=\"T_4ee0073a_be2b_11eb_ae78_8c1645d87358row3_col1\" class=\"data row3 col1\" >us_dat_cz_05262021090243.parquet</td>\n",
       "            </tr>\n",
       "            <tr>\n",
       "                                <td id=\"T_4ee0073a_be2b_11eb_ae78_8c1645d87358row4_col0\" class=\"data row4 col0\" >ES</td>\n",
       "                        <td id=\"T_4ee0073a_be2b_11eb_ae78_8c1645d87358row4_col1\" class=\"data row4 col1\" >us_dat_es_05202021105141.parquet</td>\n",
       "            </tr>\n",
       "            <tr>\n",
       "                                <td id=\"T_4ee0073a_be2b_11eb_ae78_8c1645d87358row5_col0\" class=\"data row5 col0\" >GR</td>\n",
       "                        <td id=\"T_4ee0073a_be2b_11eb_ae78_8c1645d87358row5_col1\" class=\"data row5 col1\" >us_dat_gr_05252021115404.parquet</td>\n",
       "            </tr>\n",
       "            <tr>\n",
       "                                <td id=\"T_4ee0073a_be2b_11eb_ae78_8c1645d87358row6_col0\" class=\"data row6 col0\" >IT</td>\n",
       "                        <td id=\"T_4ee0073a_be2b_11eb_ae78_8c1645d87358row6_col1\" class=\"data row6 col1\" >us_dat_it_05242021111520.parquet</td>\n",
       "            </tr>\n",
       "            <tr>\n",
       "                                <td id=\"T_4ee0073a_be2b_11eb_ae78_8c1645d87358row7_col0\" class=\"data row7 col0\" >PL</td>\n",
       "                        <td id=\"T_4ee0073a_be2b_11eb_ae78_8c1645d87358row7_col1\" class=\"data row7 col1\" >us_dat_pl_05262021084450.parquet</td>\n",
       "            </tr>\n",
       "            <tr>\n",
       "                                <td id=\"T_4ee0073a_be2b_11eb_ae78_8c1645d87358row8_col0\" class=\"data row8 col0\" >PT</td>\n",
       "                        <td id=\"T_4ee0073a_be2b_11eb_ae78_8c1645d87358row8_col1\" class=\"data row8 col1\" >us_dat_pt_05202021121056.parquet</td>\n",
       "            </tr>\n",
       "    </tbody></table>"
      ],
      "text/plain": [
       "<pandas.io.formats.style.Styler at 0x20c786db088>"
      ]
     },
     "execution_count": 13,
     "metadata": {},
     "output_type": "execute_result"
    }
   ],
   "source": [
    "\n",
    "print(\"This is a count of how many BUs appear in each file. It is fine to submit multiple BUs in one source.\")\n",
    "filecount\n",
    "\n",
    "\n",
    "print(\"\\nThis is a count of how many files each BU appears in. In all cases the count values should be one (1). The process as desgined, should have a single submission and source for each BU.\")\n",
    "bucount\n",
    "\n",
    "print(\"This is a list of BU's that are included in the raw data files, and the file name(s) they are contained in.\")   \n",
    "\n",
    "bu_filelist"
   ]
  },
  {
   "cell_type": "markdown",
   "id": "404a09cd",
   "metadata": {
    "papermill": {
     "duration": 0.301002,
     "end_time": "2021-05-26T14:04:38.759802",
     "exception": false,
     "start_time": "2021-05-26T14:04:38.458800",
     "status": "completed"
    },
    "pycharm": {
     "name": "#%% md\n"
    },
    "tags": []
   },
   "source": [
    "- Read each json file into temp DataFrame \"data\".\n",
    "- Prep actions - Strip (trim) leading and trailing spaces values in string columns, remove rows without business units.\n",
    "- Append each json output to into 1 DataFrame \"df\".\n",
    "- Process Cleanup, the indices restart with each append, reset and drop the previous."
   ]
  },
  {
   "cell_type": "code",
   "execution_count": 14,
   "id": "3679ce42",
   "metadata": {
    "execution": {
     "iopub.execute_input": "2021-05-26T14:04:39.422274Z",
     "iopub.status.busy": "2021-05-26T14:04:39.413276Z",
     "iopub.status.idle": "2021-05-26T14:04:42.450265Z",
     "shell.execute_reply": "2021-05-26T14:04:42.457265Z"
    },
    "papermill": {
     "duration": 3.340992,
     "end_time": "2021-05-26T14:04:42.458265",
     "exception": false,
     "start_time": "2021-05-26T14:04:39.117273",
     "status": "completed"
    },
    "pycharm": {
     "name": "#%%\n"
    },
    "tags": []
   },
   "outputs": [],
   "source": [
    "df_dict = {}\n",
    "#empty dict to append each file's DataFrame to\n",
    "\n",
    "for f in pathfiles:\n",
    "\n",
    "    if s_format == \"x\":\n",
    "\n",
    "        try:\n",
    "            data = pd.read_excel(f, sheet_name = 'Portfolio_Monitoring', na_values = [0], header=3, converters={ 'Business Partner Name': str, 'Type of Business': str, 'Type of Account': str, 'Distribution Type': str, 'LOB': str, 'Distribution Channel': str,\n",
    "            'Sub LOB': str,'Business Partner ID Number': str,  'Product Name': str, 'Product ID Number': str,  'Product Family': str,  'Standard Product': str, 'Total Expenses': float,    })\n",
    "\n",
    "        except:\n",
    "            data = pd.read_excel(f, sheet_name = 'Ptf_Monitoring_GROSS_Reins', na_values = [0], header=3, converters={ 'Business Partner Name': str, 'Type of Business': str, 'Type of Account': str, 'Distribution Type': str, 'LOB': str, 'Distribution Channel': str,\n",
    "            'Sub LOB': str,'Business Partner ID Number': str,  'Product Name': str, 'Product ID Number': str,  'Product Family': str,  'Standard Product': str, 'Total Expenses': float,    })\n",
    "\n",
    "\n",
    "    elif s_format == \"j\":\n",
    "\n",
    "        data = pd.read_json(f, orient=\"table\")\n",
    "\n",
    "    elif s_format == \"p\":\n",
    "\n",
    "        data = pd.read_parquet(f, engine = \"pyarrow\")\n",
    "\n",
    "    df_dict.update({f: data})"
   ]
  },
  {
   "cell_type": "markdown",
   "id": "e1b9fa4c",
   "metadata": {
    "papermill": {
     "duration": 0.443686,
     "end_time": "2021-05-26T14:04:43.335439",
     "exception": false,
     "start_time": "2021-05-26T14:04:42.891753",
     "status": "completed"
    },
    "tags": []
   },
   "source": [
    "## Raw file Summaries\n",
    "\n",
    "#### First 5 rows of each file."
   ]
  },
  {
   "cell_type": "code",
   "execution_count": 15,
   "id": "cf22b5e4",
   "metadata": {
    "execution": {
     "iopub.execute_input": "2021-05-26T14:04:44.176571Z",
     "iopub.status.busy": "2021-05-26T14:04:44.139969Z",
     "iopub.status.idle": "2021-05-26T14:04:44.580468Z",
     "shell.execute_reply": "2021-05-26T14:04:44.581467Z"
    },
    "papermill": {
     "duration": 0.80231,
     "end_time": "2021-05-26T14:04:44.582471",
     "exception": false,
     "start_time": "2021-05-26T14:04:43.780161",
     "status": "completed"
    },
    "pycharm": {
     "name": "#%%\n"
    },
    "tags": []
   },
   "outputs": [
    {
     "name": "stdout",
     "output_type": "stream",
     "text": [
      "//hecate/Insurance_US/Product Development/Product Management/Global PPM/Reporting/Data Collection/Production/2021.Q1\\live_sources\\us_dat_au_05142021143612.parquet - First 5 Samples:\n",
      "----------------------------------------------------------------------------------------------------\n",
      "  Business Unit Country Currency Region Reporting Date From Reporting Date To  \\\n",
      "0            AU      AU      AUD   APAC          2021-01-01        2021-03-31   \n",
      "1            AU      AU      AUD   APAC          2021-01-01        2021-03-31   \n",
      "2            AU      AU      AUD   APAC          2021-01-01        2021-03-31   \n",
      "3            AU      AU      AUD   APAC          2021-01-01        2021-03-31   \n",
      "4            AU      AU      AUD   APAC          2021-01-01        2021-03-31   \n",
      "\n",
      "  Date of Analysis Type of Analysis  Analysed Months  Reporting Year  ...  \\\n",
      "0       2021-04-30     Year To Date              3.0          2021.0  ...   \n",
      "1       2021-04-30     Year To Date              3.0          2021.0  ...   \n",
      "2       2021-04-30     Year To Date              3.0          2021.0  ...   \n",
      "3       2021-04-30     Year To Date              3.0          2021.0  ...   \n",
      "4       2021-04-30     Year To Date              3.0          2021.0  ...   \n",
      "\n",
      "   Profit or Loss  Notes Unnamed: 66 concat2    comsub    expsub  \\\n",
      "0     -139.399826                      AUAUD  0.100998  3.245346   \n",
      "1   -17451.921156                      AUAUD  0.233379  3.589092   \n",
      "2        0.000000                      AUAUD       NaN       NaN   \n",
      "3     -553.885287                      AUAUD  0.000000  4.723789   \n",
      "4  -119269.434674                      AUAUD  0.220000  4.239521   \n",
      "\n",
      "  Reporting Date From INT Reporting Date To INT Date of Analysis INT  \\\n",
      "0                20210101              20210331             20210430   \n",
      "1                20210101              20210331             20210430   \n",
      "2                20210101              20210331             20210430   \n",
      "3                20210101              20210331             20210430   \n",
      "4                20210101              20210331             20210430   \n",
      "\n",
      "                      Selected Fields for Duplicates  \n",
      "0  AUInsuranceLocalB2B2CTravelAllianz Affiliation...  \n",
      "1  AUInsuranceLocalB2B2CTravelOffline Travel Agen...  \n",
      "2  AUInsuranceLocalB2B2CTravelOffline Travel Agen...  \n",
      "3  AUInsuranceLocalB2B2CTravelAllianz Affiliation...  \n",
      "4  AUInsuranceLocalB2CTravelDirect (Allianz Partn...  \n",
      "\n",
      "[5 rows x 74 columns]\n",
      "//hecate/Insurance_US/Product Development/Product Management/Global PPM/Reporting/Data Collection/Production/2021.Q1\\live_sources\\us_dat_ca_05202021134242.parquet - First 5 Samples:\n",
      "----------------------------------------------------------------------------------------------------\n",
      "  Business Unit Country Currency         Region Reporting Date From  \\\n",
      "0            CA      CA      CAD  North America          2021-01-01   \n",
      "1            CA      CA      CAD  North America          2021-01-01   \n",
      "2            CA      CA      CAD  North America          2021-01-01   \n",
      "3            CA      CA      CAD  North America          2021-01-01   \n",
      "4            CA      CA      CAD  North America          2021-01-01   \n",
      "\n",
      "  Reporting Date To Date of Analysis Type of Analysis  Analysed Months  \\\n",
      "0        2021-03-31       2021-05-16     Year To Date                3   \n",
      "1        2021-03-31       2021-05-16     Year To Date                3   \n",
      "2        2021-03-31       2021-05-16     Year To Date                3   \n",
      "3        2021-03-31       2021-05-16     Year To Date                3   \n",
      "4        2021-03-31       2021-05-16     Year To Date                3   \n",
      "\n",
      "   Reporting Year  ...                                              Notes  \\\n",
      "0            2021  ...                                                  0   \n",
      "1            2021  ...  Earned premium volume is low. When travel mark...   \n",
      "2            2021  ...  Earned premium volume is low. When travel mark...   \n",
      "3            2021  ...                                                  0   \n",
      "4            2021  ...  Most claims are trip cancelation. $1.1M of inc...   \n",
      "\n",
      "   Unnamed: 66 Reporting Date From INT concat2    comsub    expsub   ibnrsub  \\\n",
      "0          0.0                20210101   CACAD  0.000000  0.501000 -0.348378   \n",
      "1          0.0                20210101   CACAD  0.000000  0.117500 -0.348378   \n",
      "2          0.0                20210101   CACAD  0.000000  0.328200 -0.348378   \n",
      "3          0.0                20210101   CACAD  0.373457  0.209300 -0.348378   \n",
      "4          0.0                20210101   CACAD  0.382848  0.205723 -0.348378   \n",
      "\n",
      "  Reporting Date To INT Date of Analysis INT  \\\n",
      "0              20210331             20210516   \n",
      "1              20210331             20210516   \n",
      "2              20210331             20210516   \n",
      "3              20210331             20210516   \n",
      "4              20210331             20210516   \n",
      "\n",
      "                      Selected Fields for Duplicates  \n",
      "0  CAInsuranceLocalB2B2CTravelBanks / Credit Card...  \n",
      "1  CAInsuranceGlobal - FOSB2CTravelEventTICKETMASTER  \n",
      "2         CAInsuranceGlobal - FOSB2CTravelEventOther  \n",
      "3  CAInsuranceLocalB2B2CTravelOffline Travel Agen...  \n",
      "4  CAInsuranceLocalB2B2CTravelOffline Travel Agen...  \n",
      "\n",
      "[5 rows x 75 columns]\n",
      "//hecate/Insurance_US/Product Development/Product Management/Global PPM/Reporting/Data Collection/Production/2021.Q1\\live_sources\\us_dat_ch_05182021192455.parquet - First 5 Samples:\n",
      "----------------------------------------------------------------------------------------------------\n"
     ]
    },
    {
     "name": "stdout",
     "output_type": "stream",
     "text": [
      "  Business Unit Country Currency                           Region  \\\n",
      "0            CH      CH      CHF  North, Central & Eastern Europe   \n",
      "1            CH      CH      CHF  North, Central & Eastern Europe   \n",
      "2            CH      CH      CHF  North, Central & Eastern Europe   \n",
      "3            CH      CH      CHF  North, Central & Eastern Europe   \n",
      "4            CH      CH      CHF  North, Central & Eastern Europe   \n",
      "\n",
      "  Reporting Date From Reporting Date To Date of Analysis  \\\n",
      "0          2020-04-01        2021-03-31       2021-05-12   \n",
      "1          2020-04-01        2021-03-31       2021-05-12   \n",
      "2          2020-04-01        2021-03-31       2021-05-12   \n",
      "3          2020-04-01        2021-03-31       2021-05-12   \n",
      "4          2020-04-01        2021-03-31       2021-05-12   \n",
      "\n",
      "          Type of Analysis  Analysed Months  Reporting Year  ...  Notes  \\\n",
      "0  Most Recently 12 Months               12            2021  ...    0.0   \n",
      "1  Most Recently 12 Months               12            2021  ...    0.0   \n",
      "2  Most Recently 12 Months               12            2021  ...    0.0   \n",
      "3  Most Recently 12 Months               12            2021  ...    0.0   \n",
      "4  Most Recently 12 Months               12            2021  ...    0.0   \n",
      "\n",
      "   Unnamed: 66 concat2 Reporting Date From INT comsub expsub ibnrsub  \\\n",
      "0          0.0   CHCHF                20200401    0.0    0.0     0.0   \n",
      "1          0.0   CHCHF                20200401    0.0    0.0     0.0   \n",
      "2          0.0   CHCHF                20200401    0.0    0.0     0.0   \n",
      "3          0.0   CHCHF                20200401    0.0    0.0     0.0   \n",
      "4          0.0   CHCHF                20200401    0.0    0.0     0.0   \n",
      "\n",
      "  Reporting Date To INT Date of Analysis INT  \\\n",
      "0              20210331             20210512   \n",
      "1              20210331             20210512   \n",
      "2              20210331             20210512   \n",
      "3              20210331             20210512   \n",
      "4              20210331             20210512   \n",
      "\n",
      "                      Selected Fields for Duplicates  \n",
      "0  CHInsuranceGlobal - FOEB2B2CTravelCollision Da...  \n",
      "1  CHInsuranceGlobal - FOEB2B2CTravelCollision Da...  \n",
      "2  CHInsuranceGlobal - FOEB2B2CTravelCollision Da...  \n",
      "3  CHInsuranceGlobal - FOEB2B2CTravelCollision Da...  \n",
      "4  CHInsuranceGlobal - FOEB2B2CTravelCollision Da...  \n",
      "\n",
      "[5 rows x 75 columns]\n",
      "//hecate/Insurance_US/Product Development/Product Management/Global PPM/Reporting/Data Collection/Production/2021.Q1\\live_sources\\us_dat_cz_05262021090243.parquet - First 5 Samples:\n",
      "----------------------------------------------------------------------------------------------------\n",
      "  Business Unit Country Currency                           Region  \\\n",
      "0            CZ      CZ      EUR  North, Central & Eastern Europe   \n",
      "1            CZ      CZ      EUR  North, Central & Eastern Europe   \n",
      "2            CZ      CZ      EUR  North, Central & Eastern Europe   \n",
      "3            CZ      CZ      EUR  North, Central & Eastern Europe   \n",
      "4            CZ      CZ      EUR  North, Central & Eastern Europe   \n",
      "\n",
      "  Reporting Date From Reporting Date To Date of Analysis Type of Analysis  \\\n",
      "0          2021-01-01        2021-03-31       2021-05-20     Year To Date   \n",
      "1          2021-01-01        2021-03-31       2021-05-20     Year To Date   \n",
      "2          2021-01-01        2021-03-31       2021-05-20     Year To Date   \n",
      "3          2021-01-01        2021-03-31       2021-05-20     Year To Date   \n",
      "4          2021-01-01        2021-03-31       2021-05-20     Year To Date   \n",
      "\n",
      "   Analysed Months  Reporting Year  ...  Notes  Unnamed: 66 concat2  \\\n",
      "0                3            2021  ...    0.0          0.0   CZEUR   \n",
      "1                3            2021  ...    0.0          0.0   CZEUR   \n",
      "2                3            2021  ...    0.0          0.0   CZEUR   \n",
      "3                3            2021  ...    0.0          0.0   CZEUR   \n",
      "4                3            2021  ...    0.0          0.0   CZEUR   \n",
      "\n",
      "  Reporting Date From INT    comsub    expsub ibnrsub Reporting Date To INT  \\\n",
      "0                20210101  0.581209  0.059075     0.0              20210331   \n",
      "1                20210101  0.000000  0.083700     0.0              20210331   \n",
      "2                20210101  0.421913  0.318267     0.0              20210331   \n",
      "3                20210101  0.676975  0.049851     0.0              20210331   \n",
      "4                20210101  0.418000  6.525471     0.0              20210331   \n",
      "\n",
      "  Date of Analysis INT                     Selected Fields for Duplicates  \n",
      "0             20210520  CZReinsuranceLocalB2BTravelAllianz Affiliation...  \n",
      "1             20210520  CZInsuranceLocalB2BTravelBanks / Credit CardsT...  \n",
      "2             20210520  CZReinsuranceGlobal - FOEB2B2CTravelCarriers -...  \n",
      "3             20210520  CZInsuranceGlobal - FOEB2B2CTravelEventEvent T...  \n",
      "4             20210520  CZReinsuranceGlobal - FOEB2B2CTravelCarriers -...  \n",
      "\n",
      "[5 rows x 75 columns]\n",
      "//hecate/Insurance_US/Product Development/Product Management/Global PPM/Reporting/Data Collection/Production/2021.Q1\\live_sources\\us_dat_es_05202021105141.parquet - First 5 Samples:\n",
      "----------------------------------------------------------------------------------------------------\n",
      "  Business Unit Country Currency                       Region  \\\n",
      "0            ES      ES      EUR  Western Europe, LATAM & MEA   \n",
      "1            ES      ES      EUR  Western Europe, LATAM & MEA   \n",
      "2            ES      ES      EUR  Western Europe, LATAM & MEA   \n",
      "3            ES      ES      EUR  Western Europe, LATAM & MEA   \n",
      "4            ES      ES      EUR  Western Europe, LATAM & MEA   \n",
      "\n",
      "  Reporting Date From Reporting Date To Date of Analysis Type of Analysis  \\\n",
      "0          2021-01-01        2021-03-31       2021-03-31     Year To Date   \n",
      "1          2021-01-01        2021-03-31       2021-03-31     Year To Date   \n",
      "2          2021-01-01        2021-03-31       2021-03-31     Year To Date   \n",
      "3          2021-01-01        2021-03-31       2021-03-31     Year To Date   \n",
      "4          2021-01-01        2021-03-31       2021-03-31     Year To Date   \n",
      "\n",
      "   Analysed Months  Reporting Year  ...  Notes  Unnamed: 66 concat2  \\\n",
      "0                3            2021  ...    0.0          0.0   ESEUR   \n",
      "1                3            2021  ...    0.0          0.0   ESEUR   \n",
      "2                3            2021  ...    0.0          0.0   ESEUR   \n",
      "3                3            2021  ...    0.0          0.0   ESEUR   \n",
      "4                3            2021  ...    0.0          0.0   ESEUR   \n",
      "\n",
      "  Reporting Date From INT    comsub    expsub ibnrsub Reporting Date To INT  \\\n",
      "0                20210101  0.686417  0.266793     0.0              20210331   \n",
      "1                20210101  0.042612  0.752476     0.0              20210331   \n",
      "2                20210101  0.000000  0.567100     0.0              20210331   \n",
      "3                20210101  0.671371  0.273375     0.0              20210331   \n",
      "4                20210101  0.436923  0.375946     0.0              20210331   \n",
      "\n",
      "  Date of Analysis INT                     Selected Fields for Duplicates  \n",
      "0             20210331  ESInsuranceGlobal - FOEB2B2CTravelCarriers - A...  \n",
      "1             20210331  ESInsuranceGlobal - FOEB2CTravelDirect (Allian...  \n",
      "2             20210331  ESReinsuranceGlobal - FOEB2B2CTravelDirect (Al...  \n",
      "3             20210331  ESInsuranceGlobal - FOEB2B2CTravelOnline Trave...  \n",
      "4             20210331  ESInsuranceGlobal - FOEB2B2CTravelCarriers - A...  \n",
      "\n",
      "[5 rows x 75 columns]\n",
      "//hecate/Insurance_US/Product Development/Product Management/Global PPM/Reporting/Data Collection/Production/2021.Q1\\live_sources\\us_dat_gr_05252021115404.parquet - First 5 Samples:\n",
      "----------------------------------------------------------------------------------------------------\n",
      "  Business Unit Country Currency                           Region  \\\n",
      "0            GR      GR      EUR  North, Central & Eastern Europe   \n",
      "1            GR      GR      EUR  North, Central & Eastern Europe   \n",
      "2            GR      GR      EUR  North, Central & Eastern Europe   \n",
      "3            GR      GR      EUR  North, Central & Eastern Europe   \n",
      "4            GR      GR      EUR  North, Central & Eastern Europe   \n",
      "\n",
      "  Reporting Date From Reporting Date To Date of Analysis Type of Analysis  \\\n",
      "0          2021-01-01        2021-03-31       2021-05-17     Year To Date   \n",
      "1          2021-01-01        2021-03-31       2021-05-17     Year To Date   \n",
      "2          2021-01-01        2021-03-31       2021-05-17     Year To Date   \n",
      "3          2021-01-01        2021-03-31       2021-05-17     Year To Date   \n",
      "4          2021-01-01        2021-03-31       2021-05-17     Year To Date   \n",
      "\n",
      "   Analysed Months  Reporting Year  ...  Notes  Unnamed: 66 concat2  \\\n",
      "0                3            2021  ...      0          0.0   GREUR   \n",
      "1                3            2021  ...      0          0.0   GREUR   \n",
      "2                3            2021  ...      0          0.0   GREUR   \n",
      "3                3            2021  ...      0          0.0   GREUR   \n",
      "4                3            2021  ...      0          0.0   GREUR   \n",
      "\n",
      "  Reporting Date From INT    comsub    expsub ibnrsub Reporting Date To INT  \\\n",
      "0                20210101  0.627430  0.269061     0.0              20210331   \n",
      "1                20210101  0.471421  0.385159     0.0              20210331   \n",
      "2                20210101  0.000000  0.000000     0.0              20210331   \n",
      "3                20210101  0.000000  0.000000     0.0              20210331   \n",
      "4                20210101  0.000000  0.000000     0.0              20210331   \n",
      "\n",
      "  Date of Analysis INT                     Selected Fields for Duplicates  \n",
      "0             20210517  GRInsuranceGlobal - FOEB2B2CTravelCarriers - A...  \n",
      "1             20210517  GRInsuranceGlobal - FOEB2B2CTravelCarriers - A...  \n",
      "2             20210517  GRInsuranceGlobal - FOEB2B2CTravelCarriers - A...  \n",
      "3             20210517  GRInsuranceGlobal - FOEB2B2CTravelCarriers - A...  \n",
      "4             20210517  GRInsuranceGlobal - FOEB2B2CTravelCarriers - A...  \n",
      "\n",
      "[5 rows x 75 columns]\n",
      "//hecate/Insurance_US/Product Development/Product Management/Global PPM/Reporting/Data Collection/Production/2021.Q1\\live_sources\\us_dat_it_05242021111520.parquet - First 5 Samples:\n",
      "----------------------------------------------------------------------------------------------------\n",
      "  Business Unit Country Currency                       Region  \\\n",
      "0            IT      IT      EUR  Western Europe, LATAM & MEA   \n",
      "1            IT      IT      EUR  Western Europe, LATAM & MEA   \n",
      "2            IT      IT      EUR  Western Europe, LATAM & MEA   \n",
      "3            IT      IT      EUR  Western Europe, LATAM & MEA   \n",
      "4            IT      IT      EUR  Western Europe, LATAM & MEA   \n",
      "\n",
      "  Reporting Date From Reporting Date To Date of Analysis Type of Analysis  \\\n",
      "0          2021-01-01        2021-03-31       2021-04-23     Year To Date   \n",
      "1          2021-01-01        2021-03-31       2021-04-23     Year To Date   \n",
      "2          2021-01-01        2021-03-31       2021-04-23     Year To Date   \n",
      "3          2021-01-01        2021-03-31       2021-04-23     Year To Date   \n",
      "4          2021-01-01        2021-03-31       2021-04-23     Year To Date   \n",
      "\n",
      "   Analysed Months  Reporting Year  ...  \\\n",
      "0                3            2021  ...   \n",
      "1                3            2021  ...   \n",
      "2                3            2021  ...   \n",
      "3                3            2021  ...   \n",
      "4                3            2021  ...   \n",
      "\n",
      "                                               Notes  Unnamed: 66  \\\n",
      "0  The results are not considering exceptional ac...          0.0   \n",
      "1  The results are not considering exceptional ac...          0.0   \n",
      "2  The results are not considering exceptional ac...          0.0   \n",
      "3  The results are not considering exceptional ac...          0.0   \n",
      "4  The results are not considering exceptional ac...          0.0   \n",
      "\n",
      "  Reporting Date From INT concat2    comsub    expsub   ibnrsub  \\\n",
      "0                20210101   ITEUR  0.320795  1.514629  0.041494   \n",
      "1                20210101   ITEUR  0.223201  1.217285  0.054885   \n",
      "2                20210101   ITEUR  0.326961  1.804833  0.049736   \n",
      "3                20210101   ITEUR  0.337586  2.259027  0.067857   \n",
      "4                20210101   ITEUR  0.171111  2.577663  0.004587   \n",
      "\n",
      "  Reporting Date To INT Date of Analysis INT  \\\n",
      "0              20210331             20210423   \n",
      "1              20210331             20210423   \n",
      "2              20210331             20210423   \n",
      "3              20210331             20210423   \n",
      "4              20210331             20210423   \n",
      "\n",
      "                      Selected Fields for Duplicates  \n",
      "0  ITInsuranceLocalB2B2CTravelOffline Travel Agen...  \n",
      "1  ITInsuranceLocalB2B2CTravelOffline Travel Agen...  \n",
      "2  ITInsuranceLocalB2B2CTravelOffline Travel Agen...  \n",
      "3  ITInsuranceLocalB2B2CTravelOffline Travel Agen...  \n",
      "4  ITInsuranceLocalB2B2CTravelOffline Travel Agen...  \n",
      "\n",
      "[5 rows x 75 columns]\n",
      "//hecate/Insurance_US/Product Development/Product Management/Global PPM/Reporting/Data Collection/Production/2021.Q1\\live_sources\\us_dat_pl_05262021084450.parquet - First 5 Samples:\n",
      "----------------------------------------------------------------------------------------------------\n",
      "  Business Unit Country Currency                           Region  \\\n",
      "0            PL      PL      EUR  North, Central & Eastern Europe   \n",
      "1            PL      PL      EUR  North, Central & Eastern Europe   \n",
      "2            PL      PL      EUR  North, Central & Eastern Europe   \n",
      "3            PL      PL      EUR  North, Central & Eastern Europe   \n",
      "4            PL      PL      EUR  North, Central & Eastern Europe   \n",
      "\n",
      "  Reporting Date From Reporting Date To Date of Analysis Type of Analysis  \\\n",
      "0          2021-01-01        2021-03-31       2021-05-19     Year To Date   \n",
      "1          2021-01-01        2021-03-31       2021-05-19     Year To Date   \n",
      "2          2021-01-01        2021-03-31       2021-05-19     Year To Date   \n",
      "3          2021-01-01        2021-03-31       2021-05-19     Year To Date   \n",
      "4          2021-01-01        2021-03-31       2021-05-19     Year To Date   \n",
      "\n",
      "   Analysed Months  Reporting Year  ...  Notes  Unnamed: 66 concat2  \\\n",
      "0                1            2021  ...    0.0          0.0   PLEUR   \n",
      "1                1            2021  ...    0.0          0.0   PLEUR   \n",
      "2                1            2021  ...    0.0          0.0   PLEUR   \n",
      "3                1            2021  ...    0.0          0.0   PLEUR   \n",
      "4                1            2021  ...    0.0          0.0   PLEUR   \n",
      "\n",
      "  Reporting Date From INT    comsub    expsub   ibnrsub Reporting Date To INT  \\\n",
      "0                20210101  0.599600  0.164277  0.255688              20210331   \n",
      "1                20210101  0.342259  0.172815  0.168692              20210331   \n",
      "2                20210101  0.000000  0.634766  0.000000              20210331   \n",
      "3                20210101  0.110000  0.218639  0.156863              20210331   \n",
      "4                20210101  0.089748  0.542125  0.147059              20210331   \n",
      "\n",
      "  Date of Analysis INT                     Selected Fields for Duplicates  \n",
      "0             20210519  PLReinsuranceLocalB2B2CTravelOffline Tour Oper...  \n",
      "1             20210519  PLReinsuranceLocalB2B2CTravelAllianz Affiliati...  \n",
      "2             20210519  PLServiceLocalB2BTravelOther non-Allianz Insur...  \n",
      "3             20210519  PLReinsuranceLocalB2BTravelBanks / Credit Card...  \n",
      "4             20210519  PLInsuranceLocalB2BTravelOther non-Allianz Ins...  \n",
      "\n",
      "[5 rows x 75 columns]\n",
      "//hecate/Insurance_US/Product Development/Product Management/Global PPM/Reporting/Data Collection/Production/2021.Q1\\live_sources\\us_dat_pt_05202021121056.parquet - First 5 Samples:\n",
      "----------------------------------------------------------------------------------------------------\n",
      "  Business Unit Country Currency                       Region  \\\n",
      "0            PT      PT      EUR  Western Europe, LATAM & MEA   \n",
      "1            PT      PT      EUR  Western Europe, LATAM & MEA   \n",
      "2            PT      PT      EUR  Western Europe, LATAM & MEA   \n",
      "3            PT      PT      EUR  Western Europe, LATAM & MEA   \n",
      "4            PT      PT      EUR  Western Europe, LATAM & MEA   \n",
      "\n",
      "  Reporting Date From Reporting Date To Date of Analysis Type of Analysis  \\\n",
      "0          2021-01-01        2021-03-31       2021-03-31     Year To Date   \n",
      "1          2021-01-01        2021-03-31       2021-03-31     Year To Date   \n",
      "2          2021-01-01        2021-03-31       2021-03-31     Year To Date   \n",
      "3          2021-01-01        2021-03-31       2021-03-31     Year To Date   \n",
      "4          2021-01-01        2021-03-31       2021-03-31     Year To Date   \n",
      "\n",
      "   Analysed Months  Reporting Year  ...  Notes  Unnamed: 66 concat2  \\\n",
      "0                3            2021  ...    0.0          0.0   PTEUR   \n",
      "1                3            2021  ...    0.0          0.0   PTEUR   \n",
      "2                3            2021  ...    0.0          0.0   PTEUR   \n",
      "3                3            2021  ...    0.0          0.0   PTEUR   \n",
      "4                3            2021  ...    0.0          0.0   PTEUR   \n",
      "\n",
      "  Reporting Date From INT    comsub    expsub ibnrsub Reporting Date To INT  \\\n",
      "0                20210101  0.611161  0.212125     0.0              20210331   \n",
      "1                20210101  0.000000  0.457677     0.0              20210331   \n",
      "2                20210101  0.410011  0.260619     0.0              20210331   \n",
      "3                20210101  0.000000  1.124732     0.0              20210331   \n",
      "4                20210101  0.582738  0.186102     0.0              20210331   \n",
      "\n",
      "  Date of Analysis INT                     Selected Fields for Duplicates  \n",
      "0             20210331  PTInsuranceGlobal - FOEB2B2CTravelCarriers - A...  \n",
      "1             20210331  PTInsuranceGlobal - FOEB2B2CTravelCarriers - A...  \n",
      "2             20210331  PTInsuranceGlobal - FOEB2B2CTravelCarriers - A...  \n",
      "3             20210331  PTInsuranceGlobal - FOEB2B2CTravelCarriers - A...  \n",
      "4             20210331  PTInsuranceGlobal - FOEB2B2CTravelCarriers - A...  \n",
      "\n",
      "[5 rows x 75 columns]"
     ]
    },
    {
     "name": "stdout",
     "output_type": "stream",
     "text": [
      "\n"
     ]
    }
   ],
   "source": [
    "if run_control > 0:\n",
    "\n",
    "    for k, v in df_dict.items():\n",
    "        print(f\"{k} - First 5 Samples:\")\n",
    "        print(\"-\" * 100)\n",
    "        print(v.head())\n",
    "\n",
    "else:\n",
    "    print(\"Default Report 2 Skipped\")"
   ]
  },
  {
   "cell_type": "markdown",
   "id": "891eac83",
   "metadata": {
    "papermill": {
     "duration": 0.338344,
     "end_time": "2021-05-26T14:04:45.256028",
     "exception": false,
     "start_time": "2021-05-26T14:04:44.917684",
     "status": "completed"
    },
    "tags": []
   },
   "source": [
    "#### Summary Statisitics."
   ]
  },
  {
   "cell_type": "code",
   "execution_count": 16,
   "id": "dacd331a",
   "metadata": {
    "execution": {
     "iopub.execute_input": "2021-05-26T14:04:45.990954Z",
     "iopub.status.busy": "2021-05-26T14:04:45.984681Z",
     "iopub.status.idle": "2021-05-26T14:04:48.900424Z",
     "shell.execute_reply": "2021-05-26T14:04:48.903423Z"
    },
    "papermill": {
     "duration": 3.290665,
     "end_time": "2021-05-26T14:04:48.903423",
     "exception": false,
     "start_time": "2021-05-26T14:04:45.612758",
     "status": "completed"
    },
    "pycharm": {
     "name": "#%%\n"
    },
    "tags": []
   },
   "outputs": [
    {
     "name": "stdout",
     "output_type": "stream",
     "text": [
      "//hecate/Insurance_US/Product Development/Product Management/Global PPM/Reporting/Data Collection/Production/2021.Q1\\live_sources\\us_dat_au_05142021143612.parquet - Statistical summary:\n",
      "----------------------------------------------------------------------------------------------------\n"
     ]
    },
    {
     "name": "stdout",
     "output_type": "stream",
     "text": [
      "       Analysed Months  Reporting Year  Reporting Quarter  Reporting Month  \\\n",
      "count             53.0            53.0               53.0             53.0   \n",
      "mean               3.0          2021.0                1.0              3.0   \n",
      "std                0.0             0.0                0.0              0.0   \n",
      "min                3.0          2021.0                1.0              3.0   \n",
      "25%                3.0          2021.0                1.0              3.0   \n",
      "50%                3.0          2021.0                1.0              3.0   \n",
      "75%                3.0          2021.0                1.0              3.0   \n",
      "max                3.0          2021.0                1.0              3.0   \n",
      "\n",
      "       Number of Policies (Written)  Written Revenues net of Taxes  \\\n",
      "count                  5.300000e+01                      53.000000   \n",
      "mean                   5.487073e+04                    2669.469551   \n",
      "std                    2.088493e+05                   17234.130435   \n",
      "min                    0.000000e+00                       0.000000   \n",
      "25%                    0.000000e+00                       0.000000   \n",
      "50%                    0.000000e+00                       0.000000   \n",
      "75%                    7.000000e+00                       0.000000   \n",
      "max                    1.136720e+06                  125272.144500   \n",
      "\n",
      "       Earned Revenues net of Taxes  Earned Base Commissions  \\\n",
      "count                  5.300000e+01                53.000000   \n",
      "mean                   2.717187e+05              6292.585767   \n",
      "std                    1.092361e+06             28113.567016   \n",
      "min                    0.000000e+00                -3.070700   \n",
      "25%                    1.390070e+01                 0.000000   \n",
      "50%                    9.037324e+02                38.357000   \n",
      "75%                    3.214382e+04               467.933500   \n",
      "max                    7.085430e+06            192386.035500   \n",
      "\n",
      "       Earned Over-Commissions  Total Compensation  ...  Loss Ratio  \\\n",
      "count                     53.0           53.000000  ...   48.000000   \n",
      "mean                       0.0         6292.585767  ...    7.434125   \n",
      "std                        0.0        28113.567016  ...   47.218802   \n",
      "min                        0.0           -3.070700  ...    0.000000   \n",
      "25%                        0.0            0.000000  ...    0.150547   \n",
      "50%                        0.0           38.357000  ...    0.169336   \n",
      "75%                        0.0          467.933500  ...    0.305698   \n",
      "max                        0.0       192386.035500  ...  327.331085   \n",
      "\n",
      "       Commission Ratio  Expense Ratio  Combined Ratio  Profit or Loss  \\\n",
      "count         48.000000      48.000000       53.000000    5.300000e+01   \n",
      "mean           0.217857      32.415536       36.287563    7.197691e+04   \n",
      "std            0.236968     135.933285      168.489457    6.078650e+05   \n",
      "min           -0.251351       0.238691        0.000000   -1.258995e+06   \n",
      "25%            0.000203       3.242299        0.516665   -1.680814e+04   \n",
      "50%            0.210535       3.562310        3.874178   -5.538853e+02   \n",
      "75%            0.350171       4.130366        4.968345    0.000000e+00   \n",
      "max            0.908992     790.935475     1118.266560    3.720947e+06   \n",
      "\n",
      "          comsub      expsub  Reporting Date From INT  Reporting Date To INT  \\\n",
      "count  48.000000   48.000000                     53.0                   53.0   \n",
      "mean    0.217857   32.415536               20210101.0             20210331.0   \n",
      "std     0.236968  135.933285                      0.0                    0.0   \n",
      "min    -0.251351    0.238691               20210101.0             20210331.0   \n",
      "25%     0.000203    3.242299               20210101.0             20210331.0   \n",
      "50%     0.210535    3.562310               20210101.0             20210331.0   \n",
      "75%     0.350171    4.130366               20210101.0             20210331.0   \n",
      "max     0.908992  790.935475               20210101.0             20210331.0   \n",
      "\n",
      "       Date of Analysis INT  \n",
      "count                  53.0  \n",
      "mean             20210430.0  \n",
      "std                     0.0  \n",
      "min              20210430.0  \n",
      "25%              20210430.0  \n",
      "50%              20210430.0  \n",
      "75%              20210430.0  \n",
      "max              20210430.0  \n",
      "\n",
      "[8 rows x 37 columns]\n",
      "//hecate/Insurance_US/Product Development/Product Management/Global PPM/Reporting/Data Collection/Production/2021.Q1\\live_sources\\us_dat_ca_05202021134242.parquet - Statistical summary:\n",
      "----------------------------------------------------------------------------------------------------\n"
     ]
    },
    {
     "name": "stdout",
     "output_type": "stream",
     "text": [
      "       Analysed Months  Reporting Year  Reporting Quarter  Reporting Month  \\\n",
      "count             17.0            17.0               17.0             17.0   \n",
      "mean               3.0          2021.0                1.0              3.0   \n",
      "std                0.0             0.0                0.0              0.0   \n",
      "min                3.0          2021.0                1.0              3.0   \n",
      "25%                3.0          2021.0                1.0              3.0   \n",
      "50%                3.0          2021.0                1.0              3.0   \n",
      "75%                3.0          2021.0                1.0              3.0   \n",
      "max                3.0          2021.0                1.0              3.0   \n",
      "\n",
      "       Number of Products per Row  Number of B-Partners per Row  \\\n",
      "count                        17.0                          17.0   \n",
      "mean                          0.0                           0.0   \n",
      "std                           0.0                           0.0   \n",
      "min                           0.0                           0.0   \n",
      "25%                           0.0                           0.0   \n",
      "50%                           0.0                           0.0   \n",
      "75%                           0.0                           0.0   \n",
      "max                           0.0                           0.0   \n",
      "\n",
      "       Number of Policies (Written)  Units of Risk (Written)  \\\n",
      "count                     17.000000                17.000000   \n",
      "mean                    2813.764706              4230.235294   \n",
      "std                     5528.129719              8568.623449   \n",
      "min                       77.000000                77.000000   \n",
      "25%                      346.000000               355.000000   \n",
      "50%                      687.000000               841.000000   \n",
      "75%                     1371.000000              1635.000000   \n",
      "max                    20854.000000             28556.000000   \n",
      "\n",
      "       Written Revenues net of Taxes  Written Revenues  ...  Expense Ratio  \\\n",
      "count                   1.700000e+01      1.700000e+01  ...      17.000000   \n",
      "mean                    5.886452e+05      5.912323e+05  ...       0.256156   \n",
      "std                     1.861702e+06      1.861952e+06  ...       0.138657   \n",
      "min                     7.215930e+03      7.565870e+03  ...       0.117500   \n",
      "25%                     3.366154e+04      3.366154e+04  ...       0.190700   \n",
      "50%                     5.481878e+04      5.810576e+04  ...       0.209300   \n",
      "75%                     1.902312e+05      1.909976e+05  ...       0.251300   \n",
      "max                     7.747401e+06      7.749806e+06  ...       0.660800   \n",
      "\n",
      "       Combined Ratio  Profit or Loss  Unnamed: 66  Reporting Date From INT  \\\n",
      "count       17.000000       17.000000         17.0                     17.0   \n",
      "mean         0.768363   -44784.158319          0.0               20210101.0   \n",
      "std          0.431847   216342.293570          0.0                      0.0   \n",
      "min          0.151952  -846481.853805          0.0               20210101.0   \n",
      "25%          0.409671     -728.982168          0.0               20210101.0   \n",
      "50%          0.818465    12780.930435          0.0               20210101.0   \n",
      "75%          1.025137    34654.914519          0.0               20210101.0   \n",
      "max          1.620087    63386.297389          0.0               20210101.0   \n",
      "\n",
      "          comsub     expsub       ibnrsub  Reporting Date To INT  \\\n",
      "count  17.000000  17.000000  1.700000e+01                   17.0   \n",
      "mean    0.114148   0.256156 -3.483780e-01             20210331.0   \n",
      "std     0.161509   0.138657  1.144392e-16                    0.0   \n",
      "min     0.000000   0.117500 -3.483780e-01             20210331.0   \n",
      "25%     0.000000   0.190700 -3.483780e-01             20210331.0   \n",
      "50%     0.000000   0.209300 -3.483780e-01             20210331.0   \n",
      "75%     0.212110   0.251300 -3.483780e-01             20210331.0   \n",
      "max     0.440105   0.660800 -3.483780e-01             20210331.0   \n",
      "\n",
      "       Date of Analysis INT  \n",
      "count                  17.0  \n",
      "mean             20210516.0  \n",
      "std                     0.0  \n",
      "min              20210516.0  \n",
      "25%              20210516.0  \n",
      "50%              20210516.0  \n",
      "75%              20210516.0  \n",
      "max              20210516.0  \n",
      "\n",
      "[8 rows x 52 columns]\n",
      "//hecate/Insurance_US/Product Development/Product Management/Global PPM/Reporting/Data Collection/Production/2021.Q1\\live_sources\\us_dat_ch_05182021192455.parquet - Statistical summary:\n",
      "----------------------------------------------------------------------------------------------------\n"
     ]
    },
    {
     "name": "stdout",
     "output_type": "stream",
     "text": [
      "       Analysed Months  Reporting Year  Reporting Quarter  Reporting Month  \\\n",
      "count           3187.0          3187.0             3187.0           3187.0   \n",
      "mean              12.0          2021.0                1.0              3.0   \n",
      "std                0.0             0.0                0.0              0.0   \n",
      "min               12.0          2021.0                1.0              3.0   \n",
      "25%               12.0          2021.0                1.0              3.0   \n",
      "50%               12.0          2021.0                1.0              3.0   \n",
      "75%               12.0          2021.0                1.0              3.0   \n",
      "max               12.0          2021.0                1.0              3.0   \n",
      "\n",
      "       Number of Products per Row  Number of B-Partners per Row  \\\n",
      "count                      3187.0                   3187.000000   \n",
      "mean                          1.0                     10.396297   \n",
      "std                           0.0                     33.928521   \n",
      "min                           1.0                      1.000000   \n",
      "25%                           1.0                      1.000000   \n",
      "50%                           1.0                      1.000000   \n",
      "75%                           1.0                      5.000000   \n",
      "max                           1.0                    561.000000   \n",
      "\n",
      "       Number of Policies (Written)  Units of Risk (Written)  \\\n",
      "count                        3187.0                   3187.0   \n",
      "mean                            0.0                      0.0   \n",
      "std                             0.0                      0.0   \n",
      "min                             0.0                      0.0   \n",
      "25%                             0.0                      0.0   \n",
      "50%                             0.0                      0.0   \n",
      "75%                             0.0                      0.0   \n",
      "max                             0.0                      0.0   \n",
      "\n",
      "       Written Revenues net of Taxes  Written Revenues  ...  Expense Ratio  \\\n",
      "count                   3.187000e+03            3187.0  ...    3187.000000   \n",
      "mean                    9.434072e+03               0.0  ...       0.156057   \n",
      "std                     7.258983e+04               0.0  ...       0.156587   \n",
      "min                    -2.595101e+05               0.0  ...       0.000000   \n",
      "25%                     0.000000e+00               0.0  ...       0.000000   \n",
      "50%                     0.000000e+00               0.0  ...       0.215348   \n",
      "75%                     4.999000e+01               0.0  ...       0.298194   \n",
      "max                     1.614030e+06               0.0  ...       0.910916   \n",
      "\n",
      "       Combined Ratio  Profit or Loss  Unnamed: 66  Reporting Date From INT  \\\n",
      "count     3187.000000    3.187000e+03       3187.0                   3187.0   \n",
      "mean         0.353075    3.272793e+03          0.0               20200401.0   \n",
      "std          1.323275    3.927051e+04          0.0                      0.0   \n",
      "min         -6.883107   -5.281142e+05          0.0               20200401.0   \n",
      "25%          0.000000    0.000000e+00          0.0               20200401.0   \n",
      "50%          0.372000    0.000000e+00          0.0               20200401.0   \n",
      "75%          0.497952    3.197619e+02          0.0               20200401.0   \n",
      "max         41.336509    1.013611e+06          0.0               20200401.0   \n",
      "\n",
      "            comsub       expsub  ibnrsub  Reporting Date To INT  \\\n",
      "count  3187.000000  3187.000000   3187.0                 3187.0   \n",
      "mean      0.092573     0.156057      0.0             20210331.0   \n",
      "std       0.132725     0.156587      0.0                    0.0   \n",
      "min      -1.448700     0.000000      0.0             20210331.0   \n",
      "25%       0.000000     0.000000      0.0             20210331.0   \n",
      "50%       0.000000     0.215348      0.0             20210331.0   \n",
      "75%       0.199514     0.298194      0.0             20210331.0   \n",
      "max       0.688712     0.910916      0.0             20210331.0   \n",
      "\n",
      "       Date of Analysis INT  \n",
      "count                3187.0  \n",
      "mean             20210512.0  \n",
      "std                     0.0  \n",
      "min              20210512.0  \n",
      "25%              20210512.0  \n",
      "50%              20210512.0  \n",
      "75%              20210512.0  \n",
      "max              20210512.0  \n",
      "\n",
      "[8 rows x 52 columns]\n",
      "//hecate/Insurance_US/Product Development/Product Management/Global PPM/Reporting/Data Collection/Production/2021.Q1\\live_sources\\us_dat_cz_05262021090243.parquet - Statistical summary:\n",
      "----------------------------------------------------------------------------------------------------\n"
     ]
    },
    {
     "name": "stdout",
     "output_type": "stream",
     "text": [
      "       Analysed Months  Reporting Year  Reporting Quarter  Reporting Month  \\\n",
      "count              7.0             7.0                7.0              7.0   \n",
      "mean               3.0          2021.0                1.0              3.0   \n",
      "std                0.0             0.0                0.0              0.0   \n",
      "min                3.0          2021.0                1.0              3.0   \n",
      "25%                3.0          2021.0                1.0              3.0   \n",
      "50%                3.0          2021.0                1.0              3.0   \n",
      "75%                3.0          2021.0                1.0              3.0   \n",
      "max                3.0          2021.0                1.0              3.0   \n",
      "\n",
      "       Number of Products per Row  Number of B-Partners per Row  \\\n",
      "count                    7.000000                           7.0   \n",
      "mean                     2.285714                           1.0   \n",
      "std                      2.563480                           0.0   \n",
      "min                      1.000000                           1.0   \n",
      "25%                      1.000000                           1.0   \n",
      "50%                      1.000000                           1.0   \n",
      "75%                      2.000000                           1.0   \n",
      "max                      8.000000                           1.0   \n",
      "\n",
      "       Number of Policies (Written)  Units of Risk (Written)  \\\n",
      "count                           7.0                      7.0   \n",
      "mean                            0.0                      0.0   \n",
      "std                             0.0                      0.0   \n",
      "min                             0.0                      0.0   \n",
      "25%                             0.0                      0.0   \n",
      "50%                             0.0                      0.0   \n",
      "75%                             0.0                      0.0   \n",
      "max                             0.0                      0.0   \n",
      "\n",
      "       Written Revenues net of Taxes  Written Revenues  ...  Expense Ratio  \\\n",
      "count                       7.000000          7.000000  ...       7.000000   \n",
      "mean                    54976.810326      54976.810326  ...       1.014293   \n",
      "std                     98213.823589      98213.823589  ...       2.432371   \n",
      "min                         0.000000          0.000000  ...       0.000000   \n",
      "25%                      2584.226646       2584.226646  ...       0.054463   \n",
      "50%                      7477.411945       7477.411945  ...       0.063684   \n",
      "75%                     52471.477795      52471.477795  ...       0.200983   \n",
      "max                    267248.851455     267248.851455  ...       6.525471   \n",
      "\n",
      "       Combined Ratio  Profit or Loss  Unnamed: 66  Reporting Date From INT  \\\n",
      "count        7.000000        7.000000          7.0                      7.0   \n",
      "mean         2.611890   -17144.600953          0.0               20210101.0   \n",
      "std          5.252033    68176.792447          0.0                      0.0   \n",
      "min          0.000000  -151197.475881          0.0               20210101.0   \n",
      "25%          0.283802   -23582.865205          0.0               20210101.0   \n",
      "50%          0.726826      129.690505          0.0               20210101.0   \n",
      "75%          1.263621     1342.779575          0.0               20210101.0   \n",
      "max         14.461559    75535.749962          0.0               20210101.0   \n",
      "\n",
      "         comsub    expsub  ibnrsub  Reporting Date To INT  \\\n",
      "count  7.000000  7.000000      7.0                    7.0   \n",
      "mean   0.356916  1.014293      0.0             20210331.0   \n",
      "std    0.263743  2.432371      0.0                    0.0   \n",
      "min    0.000000  0.000000      0.0             20210331.0   \n",
      "25%    0.200158  0.054463      0.0             20210331.0   \n",
      "50%    0.418000  0.063684      0.0             20210331.0   \n",
      "75%    0.501561  0.200983      0.0             20210331.0   \n",
      "max    0.676975  6.525471      0.0             20210331.0   \n",
      "\n",
      "       Date of Analysis INT  \n",
      "count                   7.0  \n",
      "mean             20210520.0  \n",
      "std                     0.0  \n",
      "min              20210520.0  \n",
      "25%              20210520.0  \n",
      "50%              20210520.0  \n",
      "75%              20210520.0  \n",
      "max              20210520.0  \n",
      "\n",
      "[8 rows x 52 columns]\n",
      "//hecate/Insurance_US/Product Development/Product Management/Global PPM/Reporting/Data Collection/Production/2021.Q1\\live_sources\\us_dat_es_05202021105141.parquet - Statistical summary:\n",
      "----------------------------------------------------------------------------------------------------\n"
     ]
    },
    {
     "name": "stdout",
     "output_type": "stream",
     "text": [
      "       Analysed Months  Reporting Year  Reporting Quarter  Reporting Month  \\\n",
      "count             28.0            28.0               28.0             28.0   \n",
      "mean               3.0          2021.0                1.0              3.0   \n",
      "std                0.0             0.0                0.0              0.0   \n",
      "min                3.0          2021.0                1.0              3.0   \n",
      "25%                3.0          2021.0                1.0              3.0   \n",
      "50%                3.0          2021.0                1.0              3.0   \n",
      "75%                3.0          2021.0                1.0              3.0   \n",
      "max                3.0          2021.0                1.0              3.0   \n",
      "\n",
      "       Number of Products per Row  Number of B-Partners per Row  \\\n",
      "count                   28.000000                          28.0   \n",
      "mean                     2.428571                           1.0   \n",
      "std                      3.084352                           0.0   \n",
      "min                      1.000000                           1.0   \n",
      "25%                      1.000000                           1.0   \n",
      "50%                      1.000000                           1.0   \n",
      "75%                      2.000000                           1.0   \n",
      "max                     12.000000                           1.0   \n",
      "\n",
      "       Number of Policies (Written)  Units of Risk (Written)  \\\n",
      "count                          28.0                     28.0   \n",
      "mean                            0.0                      0.0   \n",
      "std                             0.0                      0.0   \n",
      "min                             0.0                      0.0   \n",
      "25%                             0.0                      0.0   \n",
      "50%                             0.0                      0.0   \n",
      "75%                             0.0                      0.0   \n",
      "max                             0.0                      0.0   \n",
      "\n",
      "       Written Revenues net of Taxes  Written Revenues  ...  Expense Ratio  \\\n",
      "count                      28.000000         28.000000  ...      28.000000   \n",
      "mean                    31871.121786      34468.618211  ...       0.341757   \n",
      "std                     91904.753965      99394.991414  ...       0.471154   \n",
      "min                      -226.850000       -245.338275  ...      -1.987020   \n",
      "25%                         0.000000          0.000000  ...       0.353640   \n",
      "50%                       554.725000        599.935088  ...       0.387643   \n",
      "75%                     26157.020000      28288.817130  ...       0.538002   \n",
      "max                    479491.400000     518569.949100  ...       0.752476   \n",
      "\n",
      "       Combined Ratio  Profit or Loss  Unnamed: 66  Reporting Date From INT  \\\n",
      "count       28.000000       28.000000         28.0                     28.0   \n",
      "mean         1.327690    -1261.838696          0.0               20210101.0   \n",
      "std          1.863748    13741.861647          0.0                      0.0   \n",
      "min          0.567100   -54866.736187          0.0               20210101.0   \n",
      "25%          0.789916    -1552.174154          0.0               20210101.0   \n",
      "50%          0.835556       34.204671          0.0               20210101.0   \n",
      "75%          1.055084      335.372969          0.0               20210101.0   \n",
      "max         10.210832    39618.377705          0.0               20210101.0   \n",
      "\n",
      "          comsub     expsub  ibnrsub  Reporting Date To INT  \\\n",
      "count  28.000000  28.000000     28.0                   28.0   \n",
      "mean    0.531725   0.341757      0.0             20210331.0   \n",
      "std     1.065411   0.471154      0.0                    0.0   \n",
      "min     0.000000  -1.987020      0.0             20210331.0   \n",
      "25%     0.077162   0.353640      0.0             20210331.0   \n",
      "50%     0.410187   0.387643      0.0             20210331.0   \n",
      "75%     0.487909   0.538002      0.0             20210331.0   \n",
      "max     5.837989   0.752476      0.0             20210331.0   \n",
      "\n",
      "       Date of Analysis INT  \n",
      "count                  28.0  \n",
      "mean             20210331.0  \n",
      "std                     0.0  \n",
      "min              20210331.0  \n",
      "25%              20210331.0  \n",
      "50%              20210331.0  \n",
      "75%              20210331.0  \n",
      "max              20210331.0  \n",
      "\n",
      "[8 rows x 52 columns]\n",
      "//hecate/Insurance_US/Product Development/Product Management/Global PPM/Reporting/Data Collection/Production/2021.Q1\\live_sources\\us_dat_gr_05252021115404.parquet - Statistical summary:\n",
      "----------------------------------------------------------------------------------------------------\n"
     ]
    },
    {
     "name": "stdout",
     "output_type": "stream",
     "text": [
      "       Analysed Months  Reporting Year  Reporting Quarter  Reporting Month  \\\n",
      "count             15.0            15.0               15.0             15.0   \n",
      "mean               3.0          2021.0                1.0              3.0   \n",
      "std                0.0             0.0                0.0              0.0   \n",
      "min                3.0          2021.0                1.0              3.0   \n",
      "25%                3.0          2021.0                1.0              3.0   \n",
      "50%                3.0          2021.0                1.0              3.0   \n",
      "75%                3.0          2021.0                1.0              3.0   \n",
      "max                3.0          2021.0                1.0              3.0   \n",
      "\n",
      "       Number of Products per Row  Number of B-Partners per Row  \\\n",
      "count                   15.000000                     15.000000   \n",
      "mean                     7.400000                     10.933333   \n",
      "std                     10.959666                     38.471635   \n",
      "min                      1.000000                      1.000000   \n",
      "25%                      2.000000                      1.000000   \n",
      "50%                      3.000000                      1.000000   \n",
      "75%                      7.000000                      1.000000   \n",
      "max                     40.000000                    150.000000   \n",
      "\n",
      "       Number of Policies (Written)  Units of Risk (Written)  \\\n",
      "count                     15.000000                     15.0   \n",
      "mean                     328.400000                      0.0   \n",
      "std                      961.537073                      0.0   \n",
      "min                        0.000000                      0.0   \n",
      "25%                        2.000000                      0.0   \n",
      "50%                       46.000000                      0.0   \n",
      "75%                       95.000000                      0.0   \n",
      "max                     3758.000000                      0.0   \n",
      "\n",
      "       Written Revenues net of Taxes  Written Revenues  ...  Expense Ratio  \\\n",
      "count                      15.000000         15.000000  ...      15.000000   \n",
      "mean                     9171.703333      10202.785433  ...       0.036170   \n",
      "std                     23053.928509      26638.085882  ...       0.482946   \n",
      "min                     -5547.000000      -6379.050000  ...      -1.642515   \n",
      "25%                        15.945000          0.000000  ...       0.000000   \n",
      "50%                        79.290000         73.887500  ...       0.187921   \n",
      "75%                      3500.220000       3337.547250  ...       0.236713   \n",
      "max                     78459.390000      90228.298500  ...       0.385159   \n",
      "\n",
      "       Combined Ratio  Profit or Loss  Unnamed: 66  Reporting Date From INT  \\\n",
      "count       15.000000       15.000000         15.0                     15.0   \n",
      "mean         0.267269     1504.650280          0.0               20210101.0   \n",
      "std          0.631112     4200.430583          0.0                      0.0   \n",
      "min         -1.518443    -1765.382760          0.0               20210101.0   \n",
      "25%          0.000000       -0.287690          0.0               20210101.0   \n",
      "50%          0.210112       42.401440          0.0               20210101.0   \n",
      "75%          0.801352     1469.904960          0.0               20210101.0   \n",
      "max          1.056116    16202.654060          0.0               20210101.0   \n",
      "\n",
      "          comsub     expsub  ibnrsub  Reporting Date To INT  \\\n",
      "count  15.000000  15.000000     15.0                   15.0   \n",
      "mean    0.168571   0.036170      0.0             20210331.0   \n",
      "std     0.239049   0.482946      0.0                    0.0   \n",
      "min     0.000000  -1.642515      0.0             20210331.0   \n",
      "25%     0.000000   0.000000      0.0             20210331.0   \n",
      "50%     0.000000   0.187921      0.0             20210331.0   \n",
      "75%     0.377868   0.236713      0.0             20210331.0   \n",
      "max     0.627430   0.385159      0.0             20210331.0   \n",
      "\n",
      "       Date of Analysis INT  \n",
      "count                  15.0  \n",
      "mean             20210517.0  \n",
      "std                     0.0  \n",
      "min              20210517.0  \n",
      "25%              20210517.0  \n",
      "50%              20210517.0  \n",
      "75%              20210517.0  \n",
      "max              20210517.0  \n",
      "\n",
      "[8 rows x 52 columns]\n",
      "//hecate/Insurance_US/Product Development/Product Management/Global PPM/Reporting/Data Collection/Production/2021.Q1\\live_sources\\us_dat_it_05242021111520.parquet - Statistical summary:\n",
      "----------------------------------------------------------------------------------------------------\n"
     ]
    },
    {
     "name": "stdout",
     "output_type": "stream",
     "text": [
      "       Analysed Months  Reporting Year  Reporting Quarter  Reporting Month  \\\n",
      "count            100.0           100.0              100.0            100.0   \n",
      "mean               3.0          2021.0                1.0              3.0   \n",
      "std                0.0             0.0                0.0              0.0   \n",
      "min                3.0          2021.0                1.0              3.0   \n",
      "25%                3.0          2021.0                1.0              3.0   \n",
      "50%                3.0          2021.0                1.0              3.0   \n",
      "75%                3.0          2021.0                1.0              3.0   \n",
      "max                3.0          2021.0                1.0              3.0   \n",
      "\n",
      "       Number of Products per Row  Number of B-Partners per Row  \\\n",
      "count                  100.000000                    100.000000   \n",
      "mean                     2.790000                     34.830000   \n",
      "std                      7.657168                    102.610478   \n",
      "min                      1.000000                      0.000000   \n",
      "25%                      1.000000                      0.000000   \n",
      "50%                      1.000000                      1.000000   \n",
      "75%                      3.000000                      1.250000   \n",
      "max                     77.000000                    718.000000   \n",
      "\n",
      "       Number of Policies (Written)  Units of Risk (Written)  \\\n",
      "count                    100.000000               100.000000   \n",
      "mean                     165.576418               265.686398   \n",
      "std                      375.395173               660.132576   \n",
      "min                       -1.000000              -187.000000   \n",
      "25%                        0.000000                 0.000000   \n",
      "50%                        6.000000                 9.500000   \n",
      "75%                       99.000000               124.999919   \n",
      "max                     1957.000000              3729.999998   \n",
      "\n",
      "       Written Revenues net of Taxes  Written Revenues  ...  Expense Ratio  \\\n",
      "count                     100.000000        100.000000  ...     100.000000   \n",
      "mean                    12189.608100      13739.244100  ...       2.097402   \n",
      "std                     42636.549114      50201.109872  ...       3.796974   \n",
      "min                     -7313.790000      -8868.190000  ...       0.000000   \n",
      "25%                         0.000000          0.000000  ...       0.649380   \n",
      "50%                       297.900000        330.200000  ...       1.217236   \n",
      "75%                      7183.357500       8208.787500  ...       2.262531   \n",
      "max                    371455.040000     450399.510000  ...      30.930267   \n",
      "\n",
      "       Combined Ratio  Profit or Loss  Unnamed: 66  Reporting Date From INT  \\\n",
      "count      100.000000      100.000000        100.0                    100.0   \n",
      "mean         2.464024   -18649.728235          0.0               20210101.0   \n",
      "std          4.232072    47971.933486          0.0                      0.0   \n",
      "min          0.000000  -282221.593989          0.0               20210101.0   \n",
      "25%          1.143015   -10064.871114          0.0               20210101.0   \n",
      "50%          1.768710     -117.421478          0.0               20210101.0   \n",
      "75%          2.320745       -0.012625          0.0               20210101.0   \n",
      "max         31.307820        0.097460          0.0               20210101.0   \n",
      "\n",
      "           comsub      expsub     ibnrsub  Reporting Date To INT  \\\n",
      "count  100.000000  100.000000  100.000000                  100.0   \n",
      "mean     0.236033    2.097402    0.031076             20210331.0   \n",
      "std      0.333152    3.796974    0.105916                    0.0   \n",
      "min      0.000000    0.000000    0.000000             20210331.0   \n",
      "25%      0.000000    0.649380    0.000000             20210331.0   \n",
      "50%      0.205893    1.217236    0.000000             20210331.0   \n",
      "75%      0.323508    2.262531    0.000000             20210331.0   \n",
      "max      2.517135   30.930267    0.692736             20210331.0   \n",
      "\n",
      "       Date of Analysis INT  \n",
      "count          1.000000e+02  \n",
      "mean           2.021044e+07  \n",
      "std            3.762586e+01  \n",
      "min            2.021042e+07  \n",
      "25%            2.021042e+07  \n",
      "50%            2.021043e+07  \n",
      "75%            2.021043e+07  \n",
      "max            2.021051e+07  \n",
      "\n",
      "[8 rows x 52 columns]\n",
      "//hecate/Insurance_US/Product Development/Product Management/Global PPM/Reporting/Data Collection/Production/2021.Q1\\live_sources\\us_dat_pl_05262021084450.parquet - Statistical summary:\n",
      "----------------------------------------------------------------------------------------------------\n"
     ]
    },
    {
     "name": "stdout",
     "output_type": "stream",
     "text": [
      "       Analysed Months  Reporting Year  Reporting Quarter  Reporting Month  \\\n",
      "count             27.0            27.0               27.0             27.0   \n",
      "mean               1.0          2021.0                1.0              1.0   \n",
      "std                0.0             0.0                0.0              0.0   \n",
      "min                1.0          2021.0                1.0              1.0   \n",
      "25%                1.0          2021.0                1.0              1.0   \n",
      "50%                1.0          2021.0                1.0              1.0   \n",
      "75%                1.0          2021.0                1.0              1.0   \n",
      "max                1.0          2021.0                1.0              1.0   \n",
      "\n",
      "       Number of Products per Row  Number of B-Partners per Row  \\\n",
      "count                   27.000000                          27.0   \n",
      "mean                     3.259259                           1.0   \n",
      "std                      3.898645                           0.0   \n",
      "min                      1.000000                           1.0   \n",
      "25%                      1.000000                           1.0   \n",
      "50%                      2.000000                           1.0   \n",
      "75%                      3.000000                           1.0   \n",
      "max                     20.000000                           1.0   \n",
      "\n",
      "       Number of Policies (Written)  Units of Risk (Written)  \\\n",
      "count                          27.0                     27.0   \n",
      "mean                            0.0                      0.0   \n",
      "std                             0.0                      0.0   \n",
      "min                             0.0                      0.0   \n",
      "25%                             0.0                      0.0   \n",
      "50%                             0.0                      0.0   \n",
      "75%                             0.0                      0.0   \n",
      "max                             0.0                      0.0   \n",
      "\n",
      "       Written Revenues net of Taxes  Written Revenues  ...  Expense Ratio  \\\n",
      "count                   2.700000e+01      2.700000e+01  ...      27.000000   \n",
      "mean                    2.398383e+05      2.398383e+05  ...       1.570929   \n",
      "std                     8.358677e+05      8.358677e+05  ...       3.938244   \n",
      "min                     0.000000e+00      0.000000e+00  ...       0.000000   \n",
      "25%                     2.102200e+03      2.102200e+03  ...       0.168546   \n",
      "50%                     1.139340e+04      1.139340e+04  ...       0.542125   \n",
      "75%                     7.002320e+04      7.002320e+04  ...       1.334387   \n",
      "max                     4.284736e+06      4.284736e+06  ...      20.699911   \n",
      "\n",
      "       Combined Ratio  Profit or Loss  Unnamed: 66  Reporting Date From INT  \\\n",
      "count       27.000000       27.000000         27.0                     27.0   \n",
      "mean         2.037374    -6017.392836          0.0               20210101.0   \n",
      "std          4.031984    66647.773844          0.0                      0.0   \n",
      "min          0.000000  -299439.183289          0.0               20210101.0   \n",
      "25%          0.654189    -7704.339384          0.0               20210101.0   \n",
      "50%          1.110604     -807.374693          0.0               20210101.0   \n",
      "75%          1.607863     4175.122662          0.0               20210101.0   \n",
      "max         21.648858   114024.620462          0.0               20210101.0   \n",
      "\n",
      "          comsub     expsub    ibnrsub  Reporting Date To INT  \\\n",
      "count  27.000000  27.000000  27.000000                   27.0   \n",
      "mean    0.200828   1.570929   0.081548             20210331.0   \n",
      "std     0.244328   3.938244   0.075751                    0.0   \n",
      "min     0.000000   0.000000   0.000000             20210331.0   \n",
      "25%     0.000000   0.168546   0.000000             20210331.0   \n",
      "50%     0.000000   0.542125   0.102810             20210331.0   \n",
      "75%     0.488323   1.334387   0.143317             20210331.0   \n",
      "max     0.644193  20.699911   0.255688             20210331.0   \n",
      "\n",
      "       Date of Analysis INT  \n",
      "count                  27.0  \n",
      "mean             20210519.0  \n",
      "std                     0.0  \n",
      "min              20210519.0  \n",
      "25%              20210519.0  \n",
      "50%              20210519.0  \n",
      "75%              20210519.0  \n",
      "max              20210519.0  \n",
      "\n",
      "[8 rows x 52 columns]\n",
      "//hecate/Insurance_US/Product Development/Product Management/Global PPM/Reporting/Data Collection/Production/2021.Q1\\live_sources\\us_dat_pt_05202021121056.parquet - Statistical summary:\n",
      "----------------------------------------------------------------------------------------------------\n"
     ]
    },
    {
     "name": "stdout",
     "output_type": "stream",
     "text": [
      "       Analysed Months  Reporting Year  Reporting Quarter  Reporting Month  \\\n",
      "count             39.0            39.0               39.0             39.0   \n",
      "mean               3.0          2021.0                1.0              3.0   \n",
      "std                0.0             0.0                0.0              0.0   \n",
      "min                3.0          2021.0                1.0              3.0   \n",
      "25%                3.0          2021.0                1.0              3.0   \n",
      "50%                3.0          2021.0                1.0              3.0   \n",
      "75%                3.0          2021.0                1.0              3.0   \n",
      "max                3.0          2021.0                1.0              3.0   \n",
      "\n",
      "       Number of Products per Row  Number of B-Partners per Row  \\\n",
      "count                        39.0                          39.0   \n",
      "mean                          1.0                           1.0   \n",
      "std                           0.0                           0.0   \n",
      "min                           1.0                           1.0   \n",
      "25%                           1.0                           1.0   \n",
      "50%                           1.0                           1.0   \n",
      "75%                           1.0                           1.0   \n",
      "max                           1.0                           1.0   \n",
      "\n",
      "       Number of Policies (Written)  Units of Risk (Written)  \\\n",
      "count                          39.0                     39.0   \n",
      "mean                            0.0                      0.0   \n",
      "std                             0.0                      0.0   \n",
      "min                             0.0                      0.0   \n",
      "25%                             0.0                      0.0   \n",
      "50%                             0.0                      0.0   \n",
      "75%                             0.0                      0.0   \n",
      "max                             0.0                      0.0   \n",
      "\n",
      "       Written Revenues net of Taxes  Written Revenues  ...  Expense Ratio  \\\n",
      "count                      39.000000         39.000000  ...      39.000000   \n",
      "mean                     1473.699487       1606.332441  ...       1.064882   \n",
      "std                      2887.217265       3147.066818  ...       2.950772   \n",
      "min                      -527.920000       -575.432800  ...       0.186102   \n",
      "25%                         0.000000          0.000000  ...       0.311490   \n",
      "50%                       246.950000        269.175500  ...       0.538397   \n",
      "75%                      1481.095000       1614.393550  ...       0.661524   \n",
      "max                     12844.270000      14000.254300  ...      18.673326   \n",
      "\n",
      "       Combined Ratio  Profit or Loss  Unnamed: 66  Reporting Date From INT  \\\n",
      "count       39.000000       39.000000         39.0                     39.0   \n",
      "mean         2.263683      235.746254          0.0               20210101.0   \n",
      "std          8.963638      880.199249          0.0                      0.0   \n",
      "min          0.263300    -1461.713685          0.0               20210101.0   \n",
      "25%          0.627300        3.231920          0.0               20210101.0   \n",
      "50%          0.700550       20.110892          0.0               20210101.0   \n",
      "75%          0.899469      110.266171          0.0               20210101.0   \n",
      "max         56.701087     3837.411339          0.0               20210101.0   \n",
      "\n",
      "          comsub     expsub  ibnrsub  Reporting Date To INT  \\\n",
      "count  39.000000  39.000000     39.0                   39.0   \n",
      "mean    0.143440   1.064882      0.0             20210331.0   \n",
      "std     0.231579   2.950772      0.0                    0.0   \n",
      "min    -0.279857   0.186102      0.0             20210331.0   \n",
      "25%     0.000000   0.311490      0.0             20210331.0   \n",
      "50%     0.000000   0.538397      0.0             20210331.0   \n",
      "75%     0.382389   0.661524      0.0             20210331.0   \n",
      "max     0.611161  18.673326      0.0             20210331.0   \n",
      "\n",
      "       Date of Analysis INT  \n",
      "count                  39.0  \n",
      "mean             20210331.0  \n",
      "std                     0.0  \n",
      "min              20210331.0  \n",
      "25%              20210331.0  \n",
      "50%              20210331.0  \n",
      "75%              20210331.0  \n",
      "max              20210331.0  \n",
      "\n",
      "[8 rows x 52 columns]\n"
     ]
    }
   ],
   "source": [
    "if run_control > 0:\n",
    "\n",
    "    for k, v in df_dict.items():\n",
    "        print(f\"{k} - Statistical summary:\")\n",
    "        print(\"-\" * 100)\n",
    "        print(v.describe())\n",
    "else:\n",
    "    print(\"Default Report 3 Skipped\")"
   ]
  },
  {
   "cell_type": "markdown",
   "id": "5cb105c9",
   "metadata": {
    "papermill": {
     "duration": 0.348217,
     "end_time": "2021-05-26T14:04:49.648765",
     "exception": false,
     "start_time": "2021-05-26T14:04:49.300548",
     "status": "completed"
    },
    "tags": []
   },
   "source": [
    "#### Null Value Report."
   ]
  },
  {
   "cell_type": "code",
   "execution_count": 17,
   "id": "5dcf96b3",
   "metadata": {
    "execution": {
     "iopub.execute_input": "2021-05-26T14:04:50.364251Z",
     "iopub.status.busy": "2021-05-26T14:04:50.360249Z",
     "iopub.status.idle": "2021-05-26T14:04:50.433086Z",
     "shell.execute_reply": "2021-05-26T14:04:50.435102Z"
    },
    "papermill": {
     "duration": 0.41643,
     "end_time": "2021-05-26T14:04:50.435102",
     "exception": false,
     "start_time": "2021-05-26T14:04:50.018672",
     "status": "completed"
    },
    "pycharm": {
     "name": "#%%\n"
    },
    "tags": []
   },
   "outputs": [
    {
     "name": "stdout",
     "output_type": "stream",
     "text": [
      "//hecate/Insurance_US/Product Development/Product Management/Global PPM/Reporting/Data Collection/Production/2021.Q1\\live_sources\\us_dat_au_05142021143612.parquet - Null values in the dataset:\n",
      "----------------------------------------------------------------------------------------------------\n",
      "Business Unit                     0\n",
      "Country                           0\n",
      "Currency                          0\n",
      "Region                            0\n",
      "Reporting Date From               0\n",
      "                                 ..\n",
      "expsub                            5\n",
      "Reporting Date From INT           0\n",
      "Reporting Date To INT             0\n",
      "Date of Analysis INT              0\n",
      "Selected Fields for Duplicates    0\n",
      "Length: 74, dtype: int64\n",
      "//hecate/Insurance_US/Product Development/Product Management/Global PPM/Reporting/Data Collection/Production/2021.Q1\\live_sources\\us_dat_ca_05202021134242.parquet - Null values in the dataset:\n",
      "----------------------------------------------------------------------------------------------------\n",
      "Business Unit                     0\n",
      "Country                           0\n",
      "Currency                          0\n",
      "Region                            0\n",
      "Reporting Date From               0\n",
      "                                 ..\n",
      "expsub                            0\n",
      "ibnrsub                           0\n",
      "Reporting Date To INT             0\n",
      "Date of Analysis INT              0\n",
      "Selected Fields for Duplicates    0\n",
      "Length: 75, dtype: int64\n",
      "//hecate/Insurance_US/Product Development/Product Management/Global PPM/Reporting/Data Collection/Production/2021.Q1\\live_sources\\us_dat_ch_05182021192455.parquet - Null values in the dataset:\n",
      "----------------------------------------------------------------------------------------------------\n",
      "Business Unit                     0\n",
      "Country                           0\n",
      "Currency                          0\n",
      "Region                            0\n",
      "Reporting Date From               0\n",
      "                                 ..\n",
      "expsub                            0\n",
      "ibnrsub                           0\n",
      "Reporting Date To INT             0\n",
      "Date of Analysis INT              0\n",
      "Selected Fields for Duplicates    0\n",
      "Length: 75, dtype: int64\n",
      "//hecate/Insurance_US/Product Development/Product Management/Global PPM/Reporting/Data Collection/Production/2021.Q1\\live_sources\\us_dat_cz_05262021090243.parquet - Null values in the dataset:\n",
      "----------------------------------------------------------------------------------------------------\n",
      "Business Unit                     0\n",
      "Country                           0\n",
      "Currency                          0\n",
      "Region                            0\n",
      "Reporting Date From               0\n",
      "                                 ..\n",
      "expsub                            0\n",
      "ibnrsub                           0\n",
      "Reporting Date To INT             0\n",
      "Date of Analysis INT              0\n",
      "Selected Fields for Duplicates    0\n",
      "Length: 75, dtype: int64\n",
      "//hecate/Insurance_US/Product Development/Product Management/Global PPM/Reporting/Data Collection/Production/2021.Q1\\live_sources\\us_dat_es_05202021105141.parquet - Null values in the dataset:\n",
      "----------------------------------------------------------------------------------------------------\n",
      "Business Unit                     0\n",
      "Country                           0\n",
      "Currency                          0\n",
      "Region                            0\n",
      "Reporting Date From               0\n",
      "                                 ..\n",
      "expsub                            0\n",
      "ibnrsub                           0\n",
      "Reporting Date To INT             0\n",
      "Date of Analysis INT              0\n",
      "Selected Fields for Duplicates    0\n",
      "Length: 75, dtype: int64\n",
      "//hecate/Insurance_US/Product Development/Product Management/Global PPM/Reporting/Data Collection/Production/2021.Q1\\live_sources\\us_dat_gr_05252021115404.parquet - Null values in the dataset:\n",
      "----------------------------------------------------------------------------------------------------\n",
      "Business Unit                     0\n",
      "Country                           0\n",
      "Currency                          0\n",
      "Region                            0\n",
      "Reporting Date From               0\n",
      "                                 ..\n",
      "expsub                            0\n",
      "ibnrsub                           0\n",
      "Reporting Date To INT             0\n",
      "Date of Analysis INT              0\n",
      "Selected Fields for Duplicates    0\n",
      "Length: 75, dtype: int64\n",
      "//hecate/Insurance_US/Product Development/Product Management/Global PPM/Reporting/Data Collection/Production/2021.Q1\\live_sources\\us_dat_it_05242021111520.parquet - Null values in the dataset:\n",
      "----------------------------------------------------------------------------------------------------\n",
      "Business Unit                     0\n",
      "Country                           0\n",
      "Currency                          0\n",
      "Region                            0\n",
      "Reporting Date From               0\n",
      "                                 ..\n",
      "expsub                            0\n",
      "ibnrsub                           0\n",
      "Reporting Date To INT             0\n",
      "Date of Analysis INT              0\n",
      "Selected Fields for Duplicates    0\n",
      "Length: 75, dtype: int64\n",
      "//hecate/Insurance_US/Product Development/Product Management/Global PPM/Reporting/Data Collection/Production/2021.Q1\\live_sources\\us_dat_pl_05262021084450.parquet - Null values in the dataset:\n",
      "----------------------------------------------------------------------------------------------------\n",
      "Business Unit                     0\n",
      "Country                           0\n",
      "Currency                          0\n",
      "Region                            0\n",
      "Reporting Date From               0\n",
      "                                 ..\n",
      "expsub                            0\n",
      "ibnrsub                           0\n",
      "Reporting Date To INT             0\n",
      "Date of Analysis INT              0\n",
      "Selected Fields for Duplicates    0\n",
      "Length: 75, dtype: int64\n",
      "//hecate/Insurance_US/Product Development/Product Management/Global PPM/Reporting/Data Collection/Production/2021.Q1\\live_sources\\us_dat_pt_05202021121056.parquet - Null values in the dataset:\n",
      "----------------------------------------------------------------------------------------------------\n",
      "Business Unit                     0\n",
      "Country                           0\n",
      "Currency                          0\n",
      "Region                            0\n",
      "Reporting Date From               0\n",
      "                                 ..\n",
      "expsub                            0\n",
      "ibnrsub                           0\n",
      "Reporting Date To INT             0\n",
      "Date of Analysis INT              0\n",
      "Selected Fields for Duplicates    0\n",
      "Length: 75, dtype: int64\n"
     ]
    }
   ],
   "source": [
    "if run_control > 0:\n",
    "\n",
    "    for k, v in df_dict.items():\n",
    "        print(f\"{k} - Null values in the dataset:\")\n",
    "        print(\"-\" * 100)\n",
    "        print(v.isnull().sum())\n",
    "else:\n",
    "    print(\"Default Report 4 Skipped\")"
   ]
  },
  {
   "cell_type": "markdown",
   "id": "804d173d",
   "metadata": {
    "papermill": {
     "duration": 0.504226,
     "end_time": "2021-05-26T14:04:51.295865",
     "exception": false,
     "start_time": "2021-05-26T14:04:50.791639",
     "status": "completed"
    },
    "tags": []
   },
   "source": [
    "#### Datatypes by field for each file."
   ]
  },
  {
   "cell_type": "code",
   "execution_count": 18,
   "id": "40a263f7",
   "metadata": {
    "execution": {
     "iopub.execute_input": "2021-05-26T14:04:52.181709Z",
     "iopub.status.busy": "2021-05-26T14:04:52.143698Z",
     "iopub.status.idle": "2021-05-26T14:04:52.205696Z",
     "shell.execute_reply": "2021-05-26T14:04:52.208706Z"
    },
    "papermill": {
     "duration": 0.57418,
     "end_time": "2021-05-26T14:04:52.209694",
     "exception": false,
     "start_time": "2021-05-26T14:04:51.635514",
     "status": "completed"
    },
    "pycharm": {
     "name": "#%%\n"
    },
    "tags": []
   },
   "outputs": [
    {
     "name": "stdout",
     "output_type": "stream",
     "text": [
      "//hecate/Insurance_US/Product Development/Product Management/Global PPM/Reporting/Data Collection/Production/2021.Q1\\live_sources\\us_dat_au_05142021143612.parquet - Datatypes:\n",
      "----------------------------------------------------------------------------------------------------\n",
      "Business Unit                             object\n",
      "Country                                   object\n",
      "Currency                                  object\n",
      "Region                                    object\n",
      "Reporting Date From               datetime64[ns]\n",
      "                                       ...      \n",
      "expsub                                   float64\n",
      "Reporting Date From INT                    int64\n",
      "Reporting Date To INT                      int64\n",
      "Date of Analysis INT                       int64\n",
      "Selected Fields for Duplicates            object\n",
      "Length: 74, dtype: object\n",
      "//hecate/Insurance_US/Product Development/Product Management/Global PPM/Reporting/Data Collection/Production/2021.Q1\\live_sources\\us_dat_ca_05202021134242.parquet - Datatypes:\n",
      "----------------------------------------------------------------------------------------------------\n",
      "Business Unit                             object\n",
      "Country                                   object\n",
      "Currency                                  object\n",
      "Region                                    object\n",
      "Reporting Date From               datetime64[ns]\n",
      "                                       ...      \n",
      "expsub                                   float64\n",
      "ibnrsub                                  float64\n",
      "Reporting Date To INT                      int32\n",
      "Date of Analysis INT                       int32\n",
      "Selected Fields for Duplicates            object\n",
      "Length: 75, dtype: object\n",
      "//hecate/Insurance_US/Product Development/Product Management/Global PPM/Reporting/Data Collection/Production/2021.Q1\\live_sources\\us_dat_ch_05182021192455.parquet - Datatypes:\n",
      "----------------------------------------------------------------------------------------------------\n",
      "Business Unit                             object\n",
      "Country                                   object\n",
      "Currency                                  object\n",
      "Region                                    object\n",
      "Reporting Date From               datetime64[ns]\n",
      "                                       ...      \n",
      "expsub                                   float64\n",
      "ibnrsub                                  float64\n",
      "Reporting Date To INT                      int32\n",
      "Date of Analysis INT                       int32\n",
      "Selected Fields for Duplicates            object\n",
      "Length: 75, dtype: object\n",
      "//hecate/Insurance_US/Product Development/Product Management/Global PPM/Reporting/Data Collection/Production/2021.Q1\\live_sources\\us_dat_cz_05262021090243.parquet - Datatypes:\n",
      "----------------------------------------------------------------------------------------------------\n",
      "Business Unit                             object\n",
      "Country                                   object\n",
      "Currency                                  object\n",
      "Region                                    object\n",
      "Reporting Date From               datetime64[ns]\n",
      "                                       ...      \n",
      "expsub                                   float64\n",
      "ibnrsub                                  float64\n",
      "Reporting Date To INT                      int32\n",
      "Date of Analysis INT                       int32\n",
      "Selected Fields for Duplicates            object\n",
      "Length: 75, dtype: object\n",
      "//hecate/Insurance_US/Product Development/Product Management/Global PPM/Reporting/Data Collection/Production/2021.Q1\\live_sources\\us_dat_es_05202021105141.parquet - Datatypes:\n",
      "----------------------------------------------------------------------------------------------------\n",
      "Business Unit                             object\n",
      "Country                                   object\n",
      "Currency                                  object\n",
      "Region                                    object\n",
      "Reporting Date From               datetime64[ns]\n",
      "                                       ...      \n",
      "expsub                                   float64\n",
      "ibnrsub                                  float64\n",
      "Reporting Date To INT                      int32\n",
      "Date of Analysis INT                       int32\n",
      "Selected Fields for Duplicates            object\n",
      "Length: 75, dtype: object\n",
      "//hecate/Insurance_US/Product Development/Product Management/Global PPM/Reporting/Data Collection/Production/2021.Q1\\live_sources\\us_dat_gr_05252021115404.parquet - Datatypes:\n",
      "----------------------------------------------------------------------------------------------------\n",
      "Business Unit                             object\n",
      "Country                                   object\n",
      "Currency                                  object\n",
      "Region                                    object\n",
      "Reporting Date From               datetime64[ns]\n",
      "                                       ...      \n",
      "expsub                                   float64\n",
      "ibnrsub                                  float64\n",
      "Reporting Date To INT                      int32\n",
      "Date of Analysis INT                       int32\n",
      "Selected Fields for Duplicates            object\n",
      "Length: 75, dtype: object\n",
      "//hecate/Insurance_US/Product Development/Product Management/Global PPM/Reporting/Data Collection/Production/2021.Q1\\live_sources\\us_dat_it_05242021111520.parquet - Datatypes:\n",
      "----------------------------------------------------------------------------------------------------\n",
      "Business Unit                             object\n",
      "Country                                   object\n",
      "Currency                                  object\n",
      "Region                                    object\n",
      "Reporting Date From               datetime64[ns]\n",
      "                                       ...      \n",
      "expsub                                   float64\n",
      "ibnrsub                                  float64\n",
      "Reporting Date To INT                      int32\n",
      "Date of Analysis INT                       int32\n",
      "Selected Fields for Duplicates            object\n",
      "Length: 75, dtype: object\n",
      "//hecate/Insurance_US/Product Development/Product Management/Global PPM/Reporting/Data Collection/Production/2021.Q1\\live_sources\\us_dat_pl_05262021084450.parquet - Datatypes:\n",
      "----------------------------------------------------------------------------------------------------\n",
      "Business Unit                             object\n",
      "Country                                   object\n",
      "Currency                                  object\n",
      "Region                                    object\n",
      "Reporting Date From               datetime64[ns]\n",
      "                                       ...      \n",
      "expsub                                   float64\n",
      "ibnrsub                                  float64\n",
      "Reporting Date To INT                      int32\n",
      "Date of Analysis INT                       int32\n",
      "Selected Fields for Duplicates            object\n",
      "Length: 75, dtype: object\n",
      "//hecate/Insurance_US/Product Development/Product Management/Global PPM/Reporting/Data Collection/Production/2021.Q1\\live_sources\\us_dat_pt_05202021121056.parquet - Datatypes:\n",
      "----------------------------------------------------------------------------------------------------\n",
      "Business Unit                             object\n",
      "Country                                   object\n",
      "Currency                                  object\n",
      "Region                                    object\n",
      "Reporting Date From               datetime64[ns]\n",
      "                                       ...      \n",
      "expsub                                   float64\n",
      "ibnrsub                                  float64\n",
      "Reporting Date To INT                      int32\n",
      "Date of Analysis INT                       int32\n",
      "Selected Fields for Duplicates            object\n",
      "Length: 75, dtype: object\n"
     ]
    }
   ],
   "source": [
    "if run_control > 0:\n",
    "\n",
    "    for k, v in df_dict.items():\n",
    "        print(f\"{k} - Datatypes:\")\n",
    "        print(\"-\" * 100)\n",
    "        print(v.dtypes)\n",
    "else:\n",
    "    print(\"Default Report 5 Skipped\")"
   ]
  },
  {
   "cell_type": "markdown",
   "id": "89782492",
   "metadata": {
    "papermill": {
     "duration": 0.349398,
     "end_time": "2021-05-26T14:04:52.917666",
     "exception": false,
     "start_time": "2021-05-26T14:04:52.568268",
     "status": "completed"
    },
    "tags": []
   },
   "source": [
    "#### Add the datafile name as a column in each source DataFrame"
   ]
  },
  {
   "cell_type": "code",
   "execution_count": 19,
   "id": "c849db58",
   "metadata": {
    "execution": {
     "iopub.execute_input": "2021-05-26T14:04:53.635290Z",
     "iopub.status.busy": "2021-05-26T14:04:53.630290Z",
     "iopub.status.idle": "2021-05-26T14:04:53.651289Z",
     "shell.execute_reply": "2021-05-26T14:04:53.650290Z"
    },
    "papermill": {
     "duration": 0.371331,
     "end_time": "2021-05-26T14:04:53.652289",
     "exception": false,
     "start_time": "2021-05-26T14:04:53.280958",
     "status": "completed"
    },
    "tags": []
   },
   "outputs": [],
   "source": [
    "for p, f in zip(pathfiles, files_sour):\n",
    "    df_dict[p].insert(0, \"Submission File\", f)"
   ]
  },
  {
   "cell_type": "markdown",
   "id": "7a76bf97",
   "metadata": {
    "papermill": {
     "duration": 0.391492,
     "end_time": "2021-05-26T14:04:54.398788",
     "exception": false,
     "start_time": "2021-05-26T14:04:54.007296",
     "status": "completed"
    },
    "tags": []
   },
   "source": [
    "#### append into a single DataFrame"
   ]
  },
  {
   "cell_type": "code",
   "execution_count": 20,
   "id": "1d221408",
   "metadata": {
    "execution": {
     "iopub.execute_input": "2021-05-26T14:04:57.358641Z",
     "iopub.status.busy": "2021-05-26T14:04:57.354631Z",
     "iopub.status.idle": "2021-05-26T14:04:57.938483Z",
     "shell.execute_reply": "2021-05-26T14:04:57.939482Z"
    },
    "papermill": {
     "duration": 3.189184,
     "end_time": "2021-05-26T14:04:57.940492",
     "exception": false,
     "start_time": "2021-05-26T14:04:54.751308",
     "status": "completed"
    },
    "pycharm": {
     "name": "#%%\n"
    },
    "tags": []
   },
   "outputs": [],
   "source": [
    "df = pd.DataFrame()\n",
    "\n",
    "for k, v in df_dict.items(): df = df.append(v)\n",
    "\n",
    "df = df.reset_index(drop=True)"
   ]
  },
  {
   "cell_type": "markdown",
   "id": "806edbf7",
   "metadata": {
    "papermill": {
     "duration": 0.614556,
     "end_time": "2021-05-26T14:04:59.174893",
     "exception": false,
     "start_time": "2021-05-26T14:04:58.560337",
     "status": "completed"
    },
    "tags": []
   },
   "source": [
    "#### Create Temporary csv Output\n",
    "- Create a direct output of the csv"
   ]
  },
  {
   "cell_type": "markdown",
   "id": "0f1f10e6",
   "metadata": {
    "papermill": {
     "duration": 0.380633,
     "end_time": "2021-05-26T14:04:59.949138",
     "exception": false,
     "start_time": "2021-05-26T14:04:59.568505",
     "status": "completed"
    },
    "tags": []
   },
   "source": [
    "##### This prep step helps parquet columns read columns with nulls or mixed dtypes. This is a good check that the data is what we expect."
   ]
  },
  {
   "cell_type": "code",
   "execution_count": 21,
   "id": "65db100c",
   "metadata": {
    "execution": {
     "iopub.execute_input": "2021-05-26T14:05:00.782946Z",
     "iopub.status.busy": "2021-05-26T14:05:00.772944Z",
     "iopub.status.idle": "2021-05-26T14:05:01.081654Z",
     "shell.execute_reply": "2021-05-26T14:05:01.082653Z"
    },
    "papermill": {
     "duration": 0.698785,
     "end_time": "2021-05-26T14:05:01.082653",
     "exception": false,
     "start_time": "2021-05-26T14:05:00.383868",
     "status": "completed"
    },
    "tags": []
   },
   "outputs": [],
   "source": [
    "\n",
    "# add any float columns that give a mixed type error below\n",
    "v_flo = ['Open Claims %', 'Contribution Margin % on Earned Revenues net of Taxes - BU View', \n",
    "         'Contribution Margin % on Earned Revenues net of Taxes - HQ View', 'Loss Ratio', 'Commission Ratio',\n",
    "         'Expense Ratio', 'comsub', 'expsub','% of IBNR on (OCR + IBNR)', 'Contribution Margin % on Fixed Costs - BU View',\n",
    "        'Contribution Margin % on Fixed Costs - HQ View', 'Units of Risk (Written)', 'Written Revenues', \n",
    "         'Number of Policies (Earned)','Units of Risk (Earned)', 'Earned Revenues','Upfront Cash Payments',\n",
    "         'Number of Open Claims','Number of Persons Involved in Claims (Paid + OCR + IBNR)','Frequency (Earned)',\n",
    "         'Units of Risk (Written)' ,'Severity','Risk Premium']\n",
    "\n",
    "\n",
    "# add any integer columns that give a mixed type error below\n",
    "v_int = ['Number of Products per Row',  'Number of B-Partners per Row']\n",
    "\n",
    "#v_obj = ['Units of Risk (Written)']\n",
    "\n",
    "\n",
    "# add any string columns that give a mixed type error below\n",
    "#v_str\n",
    "\n",
    "\n",
    "# add any datetime columns that give a mixed type error below\n",
    "#v_dat\n",
    "\n",
    "for i in v_flo:\n",
    "    df[i] = df[i].replace(r'^\\s*$', np.nan, regex=True)\n",
    "    df[i] = df[i].fillna(0)\n",
    "    df[i] = df[i].astype( 'float' )\n",
    "for i in v_int:\n",
    "    df[i] = df[i].replace(r'^\\s*$', np.nan, regex=True)\n",
    "    df[i] = df[i].fillna(0)\n",
    "    df[i] = df[i].astype('int64')\n",
    "\n",
    "#for i in v_int:\n",
    "#    df[i] = df[i].astype('str')\n",
    "#    for i in v_str: df[i] = df[i].astype('str'  )\n",
    "#    for i in v_dat: v[i] = v[i].astype('datetime64[ns]')"
   ]
  },
  {
   "cell_type": "markdown",
   "id": "c1664857",
   "metadata": {
    "tags": [
     "papermill-error-cell-tag"
    ]
   },
   "source": [
    "<span id=\"papermill-error-cell\" style=\"color:red; font-family:Helvetica Neue, Helvetica, Arial, sans-serif; font-size:2em;\">Execution using papermill encountered an exception here and stopped:</span>"
   ]
  },
  {
   "cell_type": "code",
   "execution_count": 22,
   "id": "5cd44743",
   "metadata": {
    "execution": {
     "iopub.execute_input": "2021-05-26T14:05:01.854842Z",
     "iopub.status.busy": "2021-05-26T14:05:01.846843Z",
     "iopub.status.idle": "2021-05-26T14:05:18.928914Z",
     "shell.execute_reply": "2021-05-26T14:05:18.923905Z"
    },
    "papermill": {
     "duration": 17.471621,
     "end_time": "2021-05-26T14:05:18.929909",
     "exception": true,
     "start_time": "2021-05-26T14:05:01.458288",
     "status": "failed"
    },
    "pycharm": {
     "name": "#%%\n"
    },
    "tags": []
   },
   "outputs": [
    {
     "name": "stdout",
     "output_type": "stream",
     "text": [
      "Stored 'prep_df' (DataFrame)\n"
     ]
    },
    {
     "ename": "ArrowTypeError",
     "evalue": "(\"Expected a bytes object, got a 'float' object\", 'Conversion failed for column Unnamed: 66 with type object')",
     "output_type": "error",
     "traceback": [
      "\u001b[1;31m---------------------------------------------------------------------------\u001b[0m",
      "\u001b[1;31mArrowTypeError\u001b[0m                            Traceback (most recent call last)",
      "\u001b[1;32m<ipython-input-22-81e4c47a3296>\u001b[0m in \u001b[0;36m<module>\u001b[1;34m\u001b[0m\n\u001b[0;32m     23\u001b[0m \u001b[1;33m\u001b[0m\u001b[0m\n\u001b[0;32m     24\u001b[0m     \u001b[0mdf\u001b[0m\u001b[1;33m.\u001b[0m\u001b[0mto_csv\u001b[0m\u001b[1;33m(\u001b[0m\u001b[0mos\u001b[0m\u001b[1;33m.\u001b[0m\u001b[0mpath\u001b[0m\u001b[1;33m.\u001b[0m\u001b[0mjoin\u001b[0m\u001b[1;33m(\u001b[0m\u001b[0mstr\u001b[0m\u001b[1;33m(\u001b[0m\u001b[0mrt_path\u001b[0m\u001b[1;33m)\u001b[0m\u001b[1;33m,\u001b[0m \u001b[0mprepfile\u001b[0m\u001b[1;33m)\u001b[0m\u001b[1;33m,\u001b[0m \u001b[1;34m','\u001b[0m\u001b[1;33m,\u001b[0m \u001b[0mindex\u001b[0m\u001b[1;33m=\u001b[0m\u001b[1;32mFalse\u001b[0m \u001b[1;33m,\u001b[0m \u001b[0mencoding\u001b[0m\u001b[1;33m=\u001b[0m\u001b[1;34m'utf-8-sig'\u001b[0m\u001b[1;33m)\u001b[0m\u001b[1;33m\u001b[0m\u001b[1;33m\u001b[0m\u001b[0m\n\u001b[1;32m---> 25\u001b[1;33m     \u001b[0mdf\u001b[0m\u001b[1;33m.\u001b[0m\u001b[0mto_parquet\u001b[0m\u001b[1;33m(\u001b[0m\u001b[0mos\u001b[0m\u001b[1;33m.\u001b[0m\u001b[0mpath\u001b[0m\u001b[1;33m.\u001b[0m\u001b[0mjoin\u001b[0m\u001b[1;33m(\u001b[0m\u001b[0mstr\u001b[0m\u001b[1;33m(\u001b[0m\u001b[0mrt_path\u001b[0m\u001b[1;33m)\u001b[0m\u001b[1;33m,\u001b[0m \u001b[0mprepparq\u001b[0m\u001b[1;33m)\u001b[0m\u001b[1;33m,\u001b[0m\u001b[0mengine\u001b[0m \u001b[1;33m=\u001b[0m \u001b[1;34m\"pyarrow\"\u001b[0m\u001b[1;33m)\u001b[0m\u001b[1;33m\u001b[0m\u001b[1;33m\u001b[0m\u001b[0m\n\u001b[0m\u001b[0;32m     26\u001b[0m \u001b[1;33m\u001b[0m\u001b[0m\n\u001b[0;32m     27\u001b[0m \u001b[1;32melse\u001b[0m\u001b[1;33m:\u001b[0m\u001b[1;33m\u001b[0m\u001b[1;33m\u001b[0m\u001b[0m\n",
      "\u001b[1;32m~\\Anaconda3\\lib\\site-packages\\pandas\\util\\_decorators.py\u001b[0m in \u001b[0;36mwrapper\u001b[1;34m(*args, **kwargs)\u001b[0m\n\u001b[0;32m    197\u001b[0m                 \u001b[1;32melse\u001b[0m\u001b[1;33m:\u001b[0m\u001b[1;33m\u001b[0m\u001b[1;33m\u001b[0m\u001b[0m\n\u001b[0;32m    198\u001b[0m                     \u001b[0mkwargs\u001b[0m\u001b[1;33m[\u001b[0m\u001b[0mnew_arg_name\u001b[0m\u001b[1;33m]\u001b[0m \u001b[1;33m=\u001b[0m \u001b[0mnew_arg_value\u001b[0m\u001b[1;33m\u001b[0m\u001b[1;33m\u001b[0m\u001b[0m\n\u001b[1;32m--> 199\u001b[1;33m             \u001b[1;32mreturn\u001b[0m \u001b[0mfunc\u001b[0m\u001b[1;33m(\u001b[0m\u001b[1;33m*\u001b[0m\u001b[0margs\u001b[0m\u001b[1;33m,\u001b[0m \u001b[1;33m**\u001b[0m\u001b[0mkwargs\u001b[0m\u001b[1;33m)\u001b[0m\u001b[1;33m\u001b[0m\u001b[1;33m\u001b[0m\u001b[0m\n\u001b[0m\u001b[0;32m    200\u001b[0m \u001b[1;33m\u001b[0m\u001b[0m\n\u001b[0;32m    201\u001b[0m         \u001b[1;32mreturn\u001b[0m \u001b[0mcast\u001b[0m\u001b[1;33m(\u001b[0m\u001b[0mF\u001b[0m\u001b[1;33m,\u001b[0m \u001b[0mwrapper\u001b[0m\u001b[1;33m)\u001b[0m\u001b[1;33m\u001b[0m\u001b[1;33m\u001b[0m\u001b[0m\n",
      "\u001b[1;32m~\\Anaconda3\\lib\\site-packages\\pandas\\core\\frame.py\u001b[0m in \u001b[0;36mto_parquet\u001b[1;34m(self, path, engine, compression, index, partition_cols, **kwargs)\u001b[0m\n\u001b[0;32m   2370\u001b[0m             \u001b[0mindex\u001b[0m\u001b[1;33m=\u001b[0m\u001b[0mindex\u001b[0m\u001b[1;33m,\u001b[0m\u001b[1;33m\u001b[0m\u001b[1;33m\u001b[0m\u001b[0m\n\u001b[0;32m   2371\u001b[0m             \u001b[0mpartition_cols\u001b[0m\u001b[1;33m=\u001b[0m\u001b[0mpartition_cols\u001b[0m\u001b[1;33m,\u001b[0m\u001b[1;33m\u001b[0m\u001b[1;33m\u001b[0m\u001b[0m\n\u001b[1;32m-> 2372\u001b[1;33m             \u001b[1;33m**\u001b[0m\u001b[0mkwargs\u001b[0m\u001b[1;33m,\u001b[0m\u001b[1;33m\u001b[0m\u001b[1;33m\u001b[0m\u001b[0m\n\u001b[0m\u001b[0;32m   2373\u001b[0m         )\n\u001b[0;32m   2374\u001b[0m \u001b[1;33m\u001b[0m\u001b[0m\n",
      "\u001b[1;32m~\\Anaconda3\\lib\\site-packages\\pandas\\io\\parquet.py\u001b[0m in \u001b[0;36mto_parquet\u001b[1;34m(df, path, engine, compression, index, partition_cols, **kwargs)\u001b[0m\n\u001b[0;32m    274\u001b[0m         \u001b[0mindex\u001b[0m\u001b[1;33m=\u001b[0m\u001b[0mindex\u001b[0m\u001b[1;33m,\u001b[0m\u001b[1;33m\u001b[0m\u001b[1;33m\u001b[0m\u001b[0m\n\u001b[0;32m    275\u001b[0m         \u001b[0mpartition_cols\u001b[0m\u001b[1;33m=\u001b[0m\u001b[0mpartition_cols\u001b[0m\u001b[1;33m,\u001b[0m\u001b[1;33m\u001b[0m\u001b[1;33m\u001b[0m\u001b[0m\n\u001b[1;32m--> 276\u001b[1;33m         \u001b[1;33m**\u001b[0m\u001b[0mkwargs\u001b[0m\u001b[1;33m,\u001b[0m\u001b[1;33m\u001b[0m\u001b[1;33m\u001b[0m\u001b[0m\n\u001b[0m\u001b[0;32m    277\u001b[0m     )\n\u001b[0;32m    278\u001b[0m \u001b[1;33m\u001b[0m\u001b[0m\n",
      "\u001b[1;32m~\\Anaconda3\\lib\\site-packages\\pandas\\io\\parquet.py\u001b[0m in \u001b[0;36mwrite\u001b[1;34m(self, df, path, compression, index, partition_cols, **kwargs)\u001b[0m\n\u001b[0;32m     99\u001b[0m             \u001b[0mfrom_pandas_kwargs\u001b[0m\u001b[1;33m[\u001b[0m\u001b[1;34m\"preserve_index\"\u001b[0m\u001b[1;33m]\u001b[0m \u001b[1;33m=\u001b[0m \u001b[0mindex\u001b[0m\u001b[1;33m\u001b[0m\u001b[1;33m\u001b[0m\u001b[0m\n\u001b[0;32m    100\u001b[0m \u001b[1;33m\u001b[0m\u001b[0m\n\u001b[1;32m--> 101\u001b[1;33m         \u001b[0mtable\u001b[0m \u001b[1;33m=\u001b[0m \u001b[0mself\u001b[0m\u001b[1;33m.\u001b[0m\u001b[0mapi\u001b[0m\u001b[1;33m.\u001b[0m\u001b[0mTable\u001b[0m\u001b[1;33m.\u001b[0m\u001b[0mfrom_pandas\u001b[0m\u001b[1;33m(\u001b[0m\u001b[0mdf\u001b[0m\u001b[1;33m,\u001b[0m \u001b[1;33m**\u001b[0m\u001b[0mfrom_pandas_kwargs\u001b[0m\u001b[1;33m)\u001b[0m\u001b[1;33m\u001b[0m\u001b[1;33m\u001b[0m\u001b[0m\n\u001b[0m\u001b[0;32m    102\u001b[0m \u001b[1;33m\u001b[0m\u001b[0m\n\u001b[0;32m    103\u001b[0m         \u001b[1;32mif\u001b[0m \u001b[0mis_fsspec_url\u001b[0m\u001b[1;33m(\u001b[0m\u001b[0mpath\u001b[0m\u001b[1;33m)\u001b[0m \u001b[1;32mand\u001b[0m \u001b[1;34m\"filesystem\"\u001b[0m \u001b[1;32mnot\u001b[0m \u001b[1;32min\u001b[0m \u001b[0mkwargs\u001b[0m\u001b[1;33m:\u001b[0m\u001b[1;33m\u001b[0m\u001b[1;33m\u001b[0m\u001b[0m\n",
      "\u001b[1;32m~\\Anaconda3\\lib\\site-packages\\pyarrow\\table.pxi\u001b[0m in \u001b[0;36mpyarrow.lib.Table.from_pandas\u001b[1;34m()\u001b[0m\n",
      "\u001b[1;32m~\\Anaconda3\\lib\\site-packages\\pyarrow\\pandas_compat.py\u001b[0m in \u001b[0;36mdataframe_to_arrays\u001b[1;34m(df, schema, preserve_index, nthreads, columns, safe)\u001b[0m\n\u001b[0;32m    573\u001b[0m     \u001b[1;32mif\u001b[0m \u001b[0mnthreads\u001b[0m \u001b[1;33m==\u001b[0m \u001b[1;36m1\u001b[0m\u001b[1;33m:\u001b[0m\u001b[1;33m\u001b[0m\u001b[1;33m\u001b[0m\u001b[0m\n\u001b[0;32m    574\u001b[0m         arrays = [convert_column(c, f)\n\u001b[1;32m--> 575\u001b[1;33m                   for c, f in zip(columns_to_convert, convert_fields)]\n\u001b[0m\u001b[0;32m    576\u001b[0m     \u001b[1;32melse\u001b[0m\u001b[1;33m:\u001b[0m\u001b[1;33m\u001b[0m\u001b[1;33m\u001b[0m\u001b[0m\n\u001b[0;32m    577\u001b[0m         \u001b[1;32mfrom\u001b[0m \u001b[0mconcurrent\u001b[0m \u001b[1;32mimport\u001b[0m \u001b[0mfutures\u001b[0m\u001b[1;33m\u001b[0m\u001b[1;33m\u001b[0m\u001b[0m\n",
      "\u001b[1;32m~\\Anaconda3\\lib\\site-packages\\pyarrow\\pandas_compat.py\u001b[0m in \u001b[0;36m<listcomp>\u001b[1;34m(.0)\u001b[0m\n\u001b[0;32m    573\u001b[0m     \u001b[1;32mif\u001b[0m \u001b[0mnthreads\u001b[0m \u001b[1;33m==\u001b[0m \u001b[1;36m1\u001b[0m\u001b[1;33m:\u001b[0m\u001b[1;33m\u001b[0m\u001b[1;33m\u001b[0m\u001b[0m\n\u001b[0;32m    574\u001b[0m         arrays = [convert_column(c, f)\n\u001b[1;32m--> 575\u001b[1;33m                   for c, f in zip(columns_to_convert, convert_fields)]\n\u001b[0m\u001b[0;32m    576\u001b[0m     \u001b[1;32melse\u001b[0m\u001b[1;33m:\u001b[0m\u001b[1;33m\u001b[0m\u001b[1;33m\u001b[0m\u001b[0m\n\u001b[0;32m    577\u001b[0m         \u001b[1;32mfrom\u001b[0m \u001b[0mconcurrent\u001b[0m \u001b[1;32mimport\u001b[0m \u001b[0mfutures\u001b[0m\u001b[1;33m\u001b[0m\u001b[1;33m\u001b[0m\u001b[0m\n",
      "\u001b[1;32m~\\Anaconda3\\lib\\site-packages\\pyarrow\\pandas_compat.py\u001b[0m in \u001b[0;36mconvert_column\u001b[1;34m(col, field)\u001b[0m\n\u001b[0;32m    564\u001b[0m             e.args += (\"Conversion failed for column {0!s} with type {1!s}\"\n\u001b[0;32m    565\u001b[0m                        .format(col.name, col.dtype),)\n\u001b[1;32m--> 566\u001b[1;33m             \u001b[1;32mraise\u001b[0m \u001b[0me\u001b[0m\u001b[1;33m\u001b[0m\u001b[1;33m\u001b[0m\u001b[0m\n\u001b[0m\u001b[0;32m    567\u001b[0m         \u001b[1;32mif\u001b[0m \u001b[1;32mnot\u001b[0m \u001b[0mfield_nullable\u001b[0m \u001b[1;32mand\u001b[0m \u001b[0mresult\u001b[0m\u001b[1;33m.\u001b[0m\u001b[0mnull_count\u001b[0m \u001b[1;33m>\u001b[0m \u001b[1;36m0\u001b[0m\u001b[1;33m:\u001b[0m\u001b[1;33m\u001b[0m\u001b[1;33m\u001b[0m\u001b[0m\n\u001b[0;32m    568\u001b[0m             raise ValueError(\"Field {} was non-nullable but pandas column \"\n",
      "\u001b[1;32m~\\Anaconda3\\lib\\site-packages\\pyarrow\\pandas_compat.py\u001b[0m in \u001b[0;36mconvert_column\u001b[1;34m(col, field)\u001b[0m\n\u001b[0;32m    558\u001b[0m \u001b[1;33m\u001b[0m\u001b[0m\n\u001b[0;32m    559\u001b[0m         \u001b[1;32mtry\u001b[0m\u001b[1;33m:\u001b[0m\u001b[1;33m\u001b[0m\u001b[1;33m\u001b[0m\u001b[0m\n\u001b[1;32m--> 560\u001b[1;33m             \u001b[0mresult\u001b[0m \u001b[1;33m=\u001b[0m \u001b[0mpa\u001b[0m\u001b[1;33m.\u001b[0m\u001b[0marray\u001b[0m\u001b[1;33m(\u001b[0m\u001b[0mcol\u001b[0m\u001b[1;33m,\u001b[0m \u001b[0mtype\u001b[0m\u001b[1;33m=\u001b[0m\u001b[0mtype_\u001b[0m\u001b[1;33m,\u001b[0m \u001b[0mfrom_pandas\u001b[0m\u001b[1;33m=\u001b[0m\u001b[1;32mTrue\u001b[0m\u001b[1;33m,\u001b[0m \u001b[0msafe\u001b[0m\u001b[1;33m=\u001b[0m\u001b[0msafe\u001b[0m\u001b[1;33m)\u001b[0m\u001b[1;33m\u001b[0m\u001b[1;33m\u001b[0m\u001b[0m\n\u001b[0m\u001b[0;32m    561\u001b[0m         except (pa.ArrowInvalid,\n\u001b[0;32m    562\u001b[0m                 \u001b[0mpa\u001b[0m\u001b[1;33m.\u001b[0m\u001b[0mArrowNotImplementedError\u001b[0m\u001b[1;33m,\u001b[0m\u001b[1;33m\u001b[0m\u001b[1;33m\u001b[0m\u001b[0m\n",
      "\u001b[1;32m~\\Anaconda3\\lib\\site-packages\\pyarrow\\array.pxi\u001b[0m in \u001b[0;36mpyarrow.lib.array\u001b[1;34m()\u001b[0m\n",
      "\u001b[1;32m~\\Anaconda3\\lib\\site-packages\\pyarrow\\array.pxi\u001b[0m in \u001b[0;36mpyarrow.lib._ndarray_to_array\u001b[1;34m()\u001b[0m\n",
      "\u001b[1;32m~\\Anaconda3\\lib\\site-packages\\pyarrow\\error.pxi\u001b[0m in \u001b[0;36mpyarrow.lib.check_status\u001b[1;34m()\u001b[0m\n",
      "\u001b[1;31mArrowTypeError\u001b[0m: (\"Expected a bytes object, got a 'float' object\", 'Conversion failed for column Unnamed: 66 with type object')"
     ]
    }
   ],
   "source": [
    "try:\n",
    "    prep_df = df\n",
    "    %store prep_df\n",
    "\n",
    "except:\n",
    "    pass\n",
    "\n",
    "if run_control > 0:\n",
    "    \n",
    "    prepfile = f'{str(percode)}prep.csv'\n",
    "    prepparq = f'{str(percode)}prep.parquet'\n",
    "    prephistfile = f'{str(percode)}_{inst_datetime}prep.csv'\n",
    "\n",
    "    try:\n",
    "        os.rename(os.path.join(str(rt_path), prepfile), os.path.join(str(rt_path), \"logs/raw_data_file_history/\" , prephistfile))\n",
    "\n",
    "    except FileNotFoundError:\n",
    "        pass\n",
    "\n",
    "    except FileExistsError:\n",
    "        os.remove(os.path.join(str(rt_path), \"logs/raw_data_file_history/\" , prephistfile))\n",
    "        os.rename(os.path.join(str(rt_path), prepfile), os.path.join(str(rt_path), \"logs/raw_data_file_history/\" , prephistfile))\n",
    "\n",
    "    df.to_csv(os.path.join(str(rt_path), prepfile), ',', index=False , encoding='utf-8-sig')\n",
    "    df.to_parquet(os.path.join(str(rt_path), prepparq),engine = \"pyarrow\")\n",
    "    \n",
    "else:\n",
    "    pass"
   ]
  },
  {
   "cell_type": "markdown",
   "id": "5bbffedd",
   "metadata": {
    "papermill": {
     "duration": null,
     "end_time": null,
     "exception": null,
     "start_time": null,
     "status": "pending"
    },
    "tags": []
   },
   "source": [
    "## This is considered \"pre-pipleine\" data prep. The next step is to read the resulting csv into the acutal data pipeline.\n",
    "\n",
    "## If you are not sure what is being loaded, this step provides a safe way to create a reviewable output file while keeping the production data files in tact.\n",
    "\n",
    "#### You can skip this step to speed up the procoess with run_contol == 0, not reccomended"
   ]
  },
  {
   "cell_type": "code",
   "execution_count": null,
   "id": "d0eb60f9",
   "metadata": {
    "papermill": {
     "duration": null,
     "end_time": null,
     "exception": null,
     "start_time": null,
     "status": "pending"
    },
    "tags": []
   },
   "outputs": [],
   "source": [
    "if run_control > 0:\n",
    "\n",
    "    dfp = (df.pivot_table(index=( \"Country\", \"Submission File\"), columns=(\"Reporting Date From\",\"Reporting Date To\" ), values=\"Earned Revenues net of Taxes\").fillna(0).astype(int))\n",
    "    dfp\n",
    "\n",
    "else:\n",
    "    pass"
   ]
  },
  {
   "cell_type": "markdown",
   "id": "cb423afc",
   "metadata": {
    "papermill": {
     "duration": null,
     "end_time": null,
     "exception": null,
     "start_time": null,
     "status": "pending"
    },
    "tags": []
   },
   "source": [
    "#### Store the DataFrame for other noteboks to use"
   ]
  },
  {
   "cell_type": "code",
   "execution_count": null,
   "id": "d01b8740",
   "metadata": {
    "papermill": {
     "duration": null,
     "end_time": null,
     "exception": null,
     "start_time": null,
     "status": "pending"
    },
    "tags": []
   },
   "outputs": [],
   "source": []
  },
  {
   "cell_type": "code",
   "execution_count": null,
   "id": "c2195837",
   "metadata": {
    "papermill": {
     "duration": null,
     "end_time": null,
     "exception": null,
     "start_time": null,
     "status": "pending"
    },
    "tags": []
   },
   "outputs": [],
   "source": []
  }
 ],
 "metadata": {
  "celltoolbar": "Tags",
  "kernelspec": {
   "display_name": "Python 3",
   "language": "python",
   "name": "python3"
  },
  "language_info": {
   "codemirror_mode": {
    "name": "ipython",
    "version": 3
   },
   "file_extension": ".py",
   "mimetype": "text/x-python",
   "name": "python",
   "nbconvert_exporter": "python",
   "pygments_lexer": "ipython3",
   "version": "3.7.6"
  },
  "papermill": {
   "default_parameters": {},
   "duration": 96.196657,
   "end_time": "2021-05-26T14:05:20.626042",
   "environment_variables": {},
   "exception": true,
   "input_path": "pipeline/prep.ipynb",
   "output_path": "//hecate/Insurance_US/Product Development/Product Management/Global PPM/Reporting/Data Collection/Pipeline Reporting Scripts/GPMpipeline/instances/2021.Q1\\pipeline\\prep05262021100343--Aus Problem.ipynb",
   "parameters": {
    "commit_message": "New AUS needed to be converted from json",
    "inst_datetime": "05262021100343",
    "percode": "2021.Q1",
    "run_control": 1,
    "source_type": "p"
   },
   "start_time": "2021-05-26T14:03:44.429385",
   "version": "2.3.3"
  }
 },
 "nbformat": 4,
 "nbformat_minor": 5
}