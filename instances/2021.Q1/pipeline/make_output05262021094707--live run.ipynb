{
 "cells": [
  {
   "cell_type": "markdown",
   "id": "b400aab8",
   "metadata": {
    "papermill": {
     "duration": 0.285297,
     "end_time": "2021-05-26T13:55:55.641244",
     "exception": false,
     "start_time": "2021-05-26T13:55:55.355947",
     "status": "completed"
    },
    "pycharm": {
     "name": "#%% md\n"
    },
    "tags": []
   },
   "source": [
    "<img src=\"../images/AzPTravel_PPM.png\">"
   ]
  },
  {
   "cell_type": "markdown",
   "id": "2c7f54f7",
   "metadata": {
    "papermill": {
     "duration": 0.241543,
     "end_time": "2021-05-26T13:55:56.189539",
     "exception": false,
     "start_time": "2021-05-26T13:55:55.947996",
     "status": "completed"
    },
    "tags": []
   },
   "source": [
    "## GPM Pipeline Output maker\n",
    "\n",
    "#### This script\n",
    "- loads the transformed parquet file\n",
    "- creates the file {parquet}.localcur.csv\n",
    "- makes the Euro conversions\n",
    "- outputs {parquet}.euroconv.csv\n"
   ]
  },
  {
   "cell_type": "markdown",
   "id": "4ebb9793",
   "metadata": {
    "papermill": {
     "duration": 0.261084,
     "end_time": "2021-05-26T13:55:56.753625",
     "exception": false,
     "start_time": "2021-05-26T13:55:56.492541",
     "status": "completed"
    },
    "tags": []
   },
   "source": [
    "#### Parameters section"
   ]
  },
  {
   "cell_type": "code",
   "execution_count": 1,
   "id": "e0be9e2d",
   "metadata": {
    "execution": {
     "iopub.execute_input": "2021-05-26T13:55:57.278785Z",
     "iopub.status.busy": "2021-05-26T13:55:57.273783Z",
     "iopub.status.idle": "2021-05-26T13:55:57.282785Z",
     "shell.execute_reply": "2021-05-26T13:55:57.311783Z"
    },
    "papermill": {
     "duration": 0.292639,
     "end_time": "2021-05-26T13:55:57.312783",
     "exception": false,
     "start_time": "2021-05-26T13:55:57.020144",
     "status": "completed"
    },
    "pycharm": {
     "name": "#%%\n"
    },
    "tags": [
     "parameters"
    ]
   },
   "outputs": [],
   "source": [
    "commit = \"\"\n",
    "# give a reason for the run\n",
    "\n",
    "percode = \"20XX.QX\"\n",
    "# Data Collection Code, this controls file paths and output names\n",
    "\n",
    "run_type = 1\n",
    "#run_type =  0 - lite run with no reporting, not recommended.\n",
    "#run_type =  1 - lite run with normal reporting, default setting.\n",
    "#run_type =  2 - Heavy run with full reporting, available for audits and troubleshooting.\n",
    "\n",
    "specialchars = \"-GTHtest\"\n",
    "# optional - add up to a 12 character code in order to mark your instance record .ipynb\n",
    "\n",
    "from datetime import datetime\n",
    "inst_datetime = datetime.now().strftime(\"%m%d%Y%H%M%S\")\n",
    "# a single datetime stamp for the full instance run\n"
   ]
  },
  {
   "cell_type": "code",
   "execution_count": 2,
   "id": "01947178",
   "metadata": {
    "execution": {
     "iopub.execute_input": "2021-05-26T13:55:57.906901Z",
     "iopub.status.busy": "2021-05-26T13:55:57.902895Z",
     "iopub.status.idle": "2021-05-26T13:55:57.911896Z",
     "shell.execute_reply": "2021-05-26T13:55:57.913897Z"
    },
    "papermill": {
     "duration": 0.273461,
     "end_time": "2021-05-26T13:55:57.913897",
     "exception": false,
     "start_time": "2021-05-26T13:55:57.640436",
     "status": "completed"
    },
    "tags": [
     "injected-parameters"
    ]
   },
   "outputs": [],
   "source": [
    "# Parameters\n",
    "run_control = 1\n",
    "percode = \"2021.Q1\"\n",
    "commit_message = \"Used the old AU file. Replaced, running again.\"\n",
    "inst_datetime = \"05262021094707\"\n"
   ]
  },
  {
   "cell_type": "markdown",
   "id": "856cbd0a",
   "metadata": {
    "papermill": {
     "duration": 0.24752,
     "end_time": "2021-05-26T13:55:58.418087",
     "exception": false,
     "start_time": "2021-05-26T13:55:58.170567",
     "status": "completed"
    },
    "tags": []
   },
   "source": [
    "### Set Run Control\n",
    "\n",
    "##### 0 - lite run with no reporting, not recommended.\n",
    "##### 1 - lite run with normal reporting, default setting.\n",
    "##### 2 - Heavy run with full reporting, available for audits and troubleshooting."
   ]
  },
  {
   "cell_type": "code",
   "execution_count": 3,
   "id": "9f5bdaec",
   "metadata": {
    "execution": {
     "iopub.execute_input": "2021-05-26T13:55:59.050147Z",
     "iopub.status.busy": "2021-05-26T13:55:59.048145Z",
     "iopub.status.idle": "2021-05-26T13:55:59.057149Z",
     "shell.execute_reply": "2021-05-26T13:55:59.060144Z"
    },
    "papermill": {
     "duration": 0.329061,
     "end_time": "2021-05-26T13:55:59.061146",
     "exception": false,
     "start_time": "2021-05-26T13:55:58.732085",
     "status": "completed"
    },
    "pycharm": {
     "name": "#%%\n"
    },
    "tags": []
   },
   "outputs": [],
   "source": [
    "run_control = 0 # in development mode"
   ]
  },
  {
   "cell_type": "markdown",
   "id": "7c040dfa",
   "metadata": {
    "papermill": {
     "duration": 0.240001,
     "end_time": "2021-05-26T13:55:59.567659",
     "exception": false,
     "start_time": "2021-05-26T13:55:59.327658",
     "status": "completed"
    },
    "tags": []
   },
   "source": [
    "#### Packages used"
   ]
  },
  {
   "cell_type": "code",
   "execution_count": 4,
   "id": "615116c2",
   "metadata": {
    "execution": {
     "iopub.execute_input": "2021-05-26T13:56:00.093735Z",
     "iopub.status.busy": "2021-05-26T13:56:00.092735Z",
     "iopub.status.idle": "2021-05-26T13:56:05.422731Z",
     "shell.execute_reply": "2021-05-26T13:56:05.425724Z"
    },
    "papermill": {
     "duration": 5.605857,
     "end_time": "2021-05-26T13:56:05.426725",
     "exception": false,
     "start_time": "2021-05-26T13:55:59.820868",
     "status": "completed"
    },
    "pycharm": {
     "name": "#%%\n"
    },
    "tags": []
   },
   "outputs": [],
   "source": [
    "import sys\n",
    "import os\n",
    "import pandas as pd"
   ]
  },
  {
   "cell_type": "code",
   "execution_count": 5,
   "id": "d96f3da7",
   "metadata": {
    "execution": {
     "iopub.execute_input": "2021-05-26T13:56:06.131149Z",
     "iopub.status.busy": "2021-05-26T13:56:06.130156Z",
     "iopub.status.idle": "2021-05-26T13:56:06.137149Z",
     "shell.execute_reply": "2021-05-26T13:56:06.139155Z"
    },
    "papermill": {
     "duration": 0.279067,
     "end_time": "2021-05-26T13:56:06.139155",
     "exception": false,
     "start_time": "2021-05-26T13:56:05.860088",
     "status": "completed"
    },
    "pycharm": {
     "name": "#%%\n"
    },
    "tags": []
   },
   "outputs": [],
   "source": [
    "default_DC = \"2021.Q1\"\n",
    "\n",
    "try:\n",
    "    if sys.argv[1] == \"-f\":\n",
    "        percode = default_DC\n",
    "    else:\n",
    "        percode = sys.argv[1]\n",
    "\n",
    "except IndexError:\n",
    "    percode = default_DC\n",
    "except NameError:\n",
    "    percode = default_DC"
   ]
  },
  {
   "cell_type": "markdown",
   "id": "e3fd96ef",
   "metadata": {
    "papermill": {
     "duration": 0.271531,
     "end_time": "2021-05-26T13:56:06.666680",
     "exception": false,
     "start_time": "2021-05-26T13:56:06.395149",
     "status": "completed"
    },
    "tags": []
   },
   "source": [
    "#### Convert paths and files to variables.\n",
    "#### Read data into pd DataFrames.\n",
    "#### Make paths for the live sources."
   ]
  },
  {
   "cell_type": "code",
   "execution_count": 6,
   "id": "7a05a4b3",
   "metadata": {
    "execution": {
     "iopub.execute_input": "2021-05-26T13:56:07.366802Z",
     "iopub.status.busy": "2021-05-26T13:56:07.361796Z",
     "iopub.status.idle": "2021-05-26T13:56:07.376795Z",
     "shell.execute_reply": "2021-05-26T13:56:07.377795Z"
    },
    "papermill": {
     "duration": 0.395594,
     "end_time": "2021-05-26T13:56:07.378800",
     "exception": false,
     "start_time": "2021-05-26T13:56:06.983206",
     "status": "completed"
    },
    "pycharm": {
     "name": "#%%\n"
    },
    "tags": []
   },
   "outputs": [],
   "source": [
    "rt_path = f'//hecate/Insurance_US/Product Development/Product Manag' \\\n",
    "          f'ement/Global PPM/Reporting/Data Collection/Production/{str(percode)}'\n",
    "tempfile = os.path.join(rt_path, f'{str(percode)}.localcur.parquet')\n",
    "gppm_file = os.path.join(rt_path, f'GPPM_Input_{str(percode)}.xlsx')"
   ]
  },
  {
   "cell_type": "markdown",
   "id": "4088f1e9",
   "metadata": {
    "papermill": {
     "duration": 0.245999,
     "end_time": "2021-05-26T13:56:07.893120",
     "exception": false,
     "start_time": "2021-05-26T13:56:07.647121",
     "status": "completed"
    },
    "tags": []
   },
   "source": [
    "#### Read source"
   ]
  },
  {
   "cell_type": "code",
   "execution_count": 7,
   "id": "31d6cf07",
   "metadata": {
    "execution": {
     "iopub.execute_input": "2021-05-26T13:56:08.453067Z",
     "iopub.status.busy": "2021-05-26T13:56:08.450481Z",
     "iopub.status.idle": "2021-05-26T13:56:10.705198Z",
     "shell.execute_reply": "2021-05-26T13:56:10.706199Z"
    },
    "papermill": {
     "duration": 2.536703,
     "end_time": "2021-05-26T13:56:10.707199",
     "exception": false,
     "start_time": "2021-05-26T13:56:08.170496",
     "status": "completed"
    },
    "pycharm": {
     "name": "#%%\n"
    },
    "tags": []
   },
   "outputs": [
    {
     "name": "stdout",
     "output_type": "stream",
     "text": [
      "     business_unit                   submission_file country currency  \\\n",
      "0               CA  us_dat_ca_05202021134242.parquet      CA      CAD   \n",
      "1               CA  us_dat_ca_05202021134242.parquet      CA      CAD   \n",
      "2               CA  us_dat_ca_05202021134242.parquet      CA      CAD   \n",
      "3               CA  us_dat_ca_05202021134242.parquet      CA      CAD   \n",
      "4               CA  us_dat_ca_05202021134242.parquet      CA      CAD   \n",
      "...            ...                               ...     ...      ...   \n",
      "1914            PT  us_dat_pt_05202021121056.parquet      PT      EUR   \n",
      "1915            PT  us_dat_pt_05202021121056.parquet      PT      EUR   \n",
      "1916            PT  us_dat_pt_05202021121056.parquet      PT      EUR   \n",
      "1917            PT  us_dat_pt_05202021121056.parquet      PT      EUR   \n",
      "1918            PT  us_dat_pt_05202021121056.parquet      PT      EUR   \n",
      "\n",
      "                           region reporting_date_from reporting_date_to  \\\n",
      "0                   North America          2021-01-01        2021-03-31   \n",
      "1                   North America          2021-01-01        2021-03-31   \n",
      "2                   North America          2021-01-01        2021-03-31   \n",
      "3                   North America          2021-01-01        2021-03-31   \n",
      "4                   North America          2021-01-01        2021-03-31   \n",
      "...                           ...                 ...               ...   \n",
      "1914  Western Europe, LATAM & MEA          2021-01-01        2021-03-31   \n",
      "1915  Western Europe, LATAM & MEA          2021-01-01        2021-03-31   \n",
      "1916  Western Europe, LATAM & MEA          2021-01-01        2021-03-31   \n",
      "1917  Western Europe, LATAM & MEA          2021-01-01        2021-03-31   \n",
      "1918  Western Europe, LATAM & MEA          2021-01-01        2021-03-31   \n",
      "\n",
      "     date_of_analysis type_of_analysis  analysed_months  ...     expsub  \\\n",
      "0          2021-05-16     Year To Date                3  ...   0.501000   \n",
      "1          2021-05-16     Year To Date                3  ...   0.117500   \n",
      "2          2021-05-16     Year To Date                3  ...   0.328200   \n",
      "3          2021-05-16     Year To Date                3  ...   0.209300   \n",
      "4          2021-05-16     Year To Date                3  ...   0.205723   \n",
      "...               ...              ...              ...  ...        ...   \n",
      "1914       2021-03-31     Year To Date                3  ...   0.538397   \n",
      "1915       2021-03-31     Year To Date                3  ...   0.426832   \n",
      "1916       2021-03-31     Year To Date                3  ...  18.673326   \n",
      "1917       2021-03-31     Year To Date                3  ...   0.859278   \n",
      "1918       2021-03-31     Year To Date                3  ...   1.023709   \n",
      "\n",
      "       ibnrsub  reporting_date_to_int date_of_analysis_int  \\\n",
      "0    -0.348378               20210331             20210516   \n",
      "1    -0.348378               20210331             20210516   \n",
      "2    -0.348378               20210331             20210516   \n",
      "3    -0.348378               20210331             20210516   \n",
      "4    -0.348378               20210331             20210516   \n",
      "...        ...                    ...                  ...   \n",
      "1914  0.000000               20210331             20210331   \n",
      "1915  0.000000               20210331             20210331   \n",
      "1916  0.000000               20210331             20210331   \n",
      "1917  0.000000               20210331             20210331   \n",
      "1918  0.000000               20210331             20210331   \n",
      "\n",
      "                         selected_fields_for_duplicates   rep_date  \\\n",
      "0     CAInsuranceLocalB2B2CTravelBanks / Credit Card... 2021-03-31   \n",
      "1     CAInsuranceGlobal - FOSB2CTravelEventTICKETMASTER 2021-03-31   \n",
      "2            CAInsuranceGlobal - FOSB2CTravelEventOther 2021-03-31   \n",
      "3     CAInsuranceLocalB2B2CTravelOffline Travel Agen... 2021-03-31   \n",
      "4     CAInsuranceLocalB2B2CTravelOffline Travel Agen... 2021-03-31   \n",
      "...                                                 ...        ...   \n",
      "1914  PTReinsuranceLocalB2B2CTravelDirect (Allianz P... 2021-03-31   \n",
      "1915  PTReinsuranceLocalB2B2CTravelDirect (Allianz P... 2021-03-31   \n",
      "1916  PTReinsuranceLocalB2B2CTravelDirect (Allianz P... 2021-03-31   \n",
      "1917  PTReinsuranceLocalB2B2CTravelDirect (Allianz P... 2021-03-31   \n",
      "1918  PTReinsuranceLocalB2BTravelDirect (Allianz Par... 2021-03-31   \n",
      "\n",
      "     __index_level_0__  bu_descr month_of_analysis_max      reporting_period  \n",
      "0                    0    Canada              2021 May  2021 Jan to 2021 Mar  \n",
      "1                    1    Canada              2021 May  2021 Jan to 2021 Mar  \n",
      "2                    2    Canada              2021 May  2021 Jan to 2021 Mar  \n",
      "3                    3    Canada              2021 May  2021 Jan to 2021 Mar  \n",
      "4                    4    Canada              2021 May  2021 Jan to 2021 Mar  \n",
      "...                ...       ...                   ...                   ...  \n",
      "1914              3415  Portugal              2021 Mar  2021 Jan to 2021 Mar  \n",
      "1915              3416  Portugal              2021 Mar  2021 Jan to 2021 Mar  \n",
      "1916              3417  Portugal              2021 Mar  2021 Jan to 2021 Mar  \n",
      "1917              3418  Portugal              2021 Mar  2021 Jan to 2021 Mar  \n",
      "1918              3419  Portugal              2021 Mar  2021 Jan to 2021 Mar  \n",
      "\n",
      "[1919 rows x 81 columns]\n"
     ]
    }
   ],
   "source": [
    "mo_input = pd.read_parquet(tempfile, engine='pyarrow')\n",
    "\n",
    "print(mo_input)"
   ]
  },
  {
   "cell_type": "markdown",
   "id": "efd33349",
   "metadata": {
    "papermill": {
     "duration": 0.278001,
     "end_time": "2021-05-26T13:56:11.245714",
     "exception": false,
     "start_time": "2021-05-26T13:56:10.967713",
     "status": "completed"
    },
    "tags": []
   },
   "source": [
    "#### Output local currency csv"
   ]
  },
  {
   "cell_type": "code",
   "execution_count": 8,
   "id": "0dc647ec",
   "metadata": {
    "execution": {
     "iopub.execute_input": "2021-05-26T13:56:11.764458Z",
     "iopub.status.busy": "2021-05-26T13:56:11.760460Z",
     "iopub.status.idle": "2021-05-26T13:56:22.455741Z",
     "shell.execute_reply": "2021-05-26T13:56:22.456739Z"
    },
    "papermill": {
     "duration": 10.955497,
     "end_time": "2021-05-26T13:56:22.457739",
     "exception": false,
     "start_time": "2021-05-26T13:56:11.502242",
     "status": "completed"
    },
    "pycharm": {
     "is_executing": true,
     "name": "#%%\n"
    },
    "tags": []
   },
   "outputs": [],
   "source": [
    "mo_input.to_csv(f'//hecate/Insurance_US/Product Development/Product Management/Global PPM/Reporting/Data Collection/Production/{str(percode)}\\\\{str(percode)}.localcur.csv', ',', index=False, encoding='utf-8-sig')"
   ]
  },
  {
   "cell_type": "markdown",
   "id": "463eab78",
   "metadata": {
    "papermill": {
     "duration": 0.257993,
     "end_time": "2021-05-26T13:56:23.010255",
     "exception": false,
     "start_time": "2021-05-26T13:56:22.752262",
     "status": "completed"
    },
    "tags": []
   },
   "source": [
    "#### Convert all currency to Euro\n"
   ]
  },
  {
   "cell_type": "code",
   "execution_count": 9,
   "id": "c7a34889",
   "metadata": {
    "execution": {
     "iopub.execute_input": "2021-05-26T13:56:23.559808Z",
     "iopub.status.busy": "2021-05-26T13:56:23.554804Z",
     "iopub.status.idle": "2021-05-26T13:56:25.032705Z",
     "shell.execute_reply": "2021-05-26T13:56:25.035703Z"
    },
    "papermill": {
     "duration": 1.748431,
     "end_time": "2021-05-26T13:56:25.035703",
     "exception": false,
     "start_time": "2021-05-26T13:56:23.287272",
     "status": "completed"
    },
    "pycharm": {
     "is_executing": true,
     "name": "#%%\n"
    },
    "tags": []
   },
   "outputs": [],
   "source": [
    "\n",
    "cflds = ['written_revenues_net_of_taxes', 'written_revenues', 'earned_revenues_net_of_taxes',\n",
    "         'earned_revenues', 'earned_base_commissions', 'earned_over_commissions', 'upfront_cash_payments',\n",
    "         'total_compensation', 'paid_claims', 'ocr__ibnr', 'actual_incurred_losses',\n",
    "         'internal_variable_costs', 'az_tech_fee', 'internal_fixed_costs',\n",
    "         'hq_fees', 'total_expenses', 'risk_premium', 'profit_or_loss', 'cm_hq_view', 'cm_bu_view', ]\n",
    "\n",
    "\n",
    "\"\"\"reads in the input for the Euro conversion\"\"\"\n",
    "euro = pd.read_excel(gppm_file, sheet_name=\"Euro_Rates\")\n"
   ]
  },
  {
   "cell_type": "markdown",
   "id": "27a2ce90",
   "metadata": {
    "papermill": {
     "duration": 0.301995,
     "end_time": "2021-05-26T13:56:25.637872",
     "exception": false,
     "start_time": "2021-05-26T13:56:25.335877",
     "status": "completed"
    },
    "tags": []
   },
   "source": [
    "#### Make a copy for debug purposes"
   ]
  },
  {
   "cell_type": "code",
   "execution_count": 10,
   "id": "e0aa26c9",
   "metadata": {
    "execution": {
     "iopub.execute_input": "2021-05-26T13:56:26.220022Z",
     "iopub.status.busy": "2021-05-26T13:56:26.216029Z",
     "iopub.status.idle": "2021-05-26T13:56:26.229024Z",
     "shell.execute_reply": "2021-05-26T13:56:26.231029Z"
    },
    "papermill": {
     "duration": 0.346918,
     "end_time": "2021-05-26T13:56:26.232020",
     "exception": false,
     "start_time": "2021-05-26T13:56:25.885102",
     "status": "completed"
    },
    "pycharm": {
     "is_executing": true,
     "name": "#%%\n"
    },
    "tags": []
   },
   "outputs": [],
   "source": [
    "trandata = mo_input.copy()"
   ]
  },
  {
   "cell_type": "markdown",
   "id": "011b1b27",
   "metadata": {
    "papermill": {
     "duration": 0.348041,
     "end_time": "2021-05-26T13:56:26.896625",
     "exception": false,
     "start_time": "2021-05-26T13:56:26.548584",
     "status": "completed"
    },
    "tags": []
   },
   "source": [
    "#### Convert Currency Below"
   ]
  },
  {
   "cell_type": "code",
   "execution_count": 11,
   "id": "9eaaafbe",
   "metadata": {
    "execution": {
     "iopub.execute_input": "2021-05-26T13:56:27.430286Z",
     "iopub.status.busy": "2021-05-26T13:56:27.422282Z",
     "iopub.status.idle": "2021-05-26T13:56:27.436285Z",
     "shell.execute_reply": "2021-05-26T13:56:27.437284Z"
    },
    "papermill": {
     "duration": 0.289122,
     "end_time": "2021-05-26T13:56:27.438284",
     "exception": false,
     "start_time": "2021-05-26T13:56:27.149162",
     "status": "completed"
    },
    "pycharm": {
     "is_executing": true,
     "name": "#%%\n"
    },
    "tags": []
   },
   "outputs": [],
   "source": [
    "# create DataFrame of unique currencies with rates\n",
    "\n",
    "fx_uni = euro[['CURR_CODE','RATE']]\n",
    "fx_uni = fx_uni.drop_duplicates()"
   ]
  },
  {
   "cell_type": "code",
   "execution_count": 12,
   "id": "2d8bd1f0",
   "metadata": {
    "execution": {
     "iopub.execute_input": "2021-05-26T13:56:28.075172Z",
     "iopub.status.busy": "2021-05-26T13:56:28.068180Z",
     "iopub.status.idle": "2021-05-26T13:56:28.084172Z",
     "shell.execute_reply": "2021-05-26T13:56:28.086172Z"
    },
    "papermill": {
     "duration": 0.303,
     "end_time": "2021-05-26T13:56:28.086172",
     "exception": false,
     "start_time": "2021-05-26T13:56:27.783172",
     "status": "completed"
    },
    "pycharm": {
     "is_executing": true,
     "name": "#%%\n"
    },
    "tags": []
   },
   "outputs": [],
   "source": [
    "# add euro conversion rates to trandata DataFrame as column 'eur_rate'\n",
    "\n",
    "eurdata = pd.merge(trandata['currency'], fx_uni, left_on='currency', right_on='CURR_CODE', how='left')\n",
    "\n",
    "trandata['eur_rate'] = eurdata['RATE']"
   ]
  },
  {
   "cell_type": "markdown",
   "id": "e6b4fc36",
   "metadata": {
    "papermill": {
     "duration": 0.280149,
     "end_time": "2021-05-26T13:56:28.755845",
     "exception": false,
     "start_time": "2021-05-26T13:56:28.475696",
     "status": "completed"
    },
    "tags": []
   },
   "source": [
    "#### Convert currency fields"
   ]
  },
  {
   "cell_type": "code",
   "execution_count": 13,
   "id": "ff9e1dc5",
   "metadata": {
    "execution": {
     "iopub.execute_input": "2021-05-26T13:56:29.340302Z",
     "iopub.status.busy": "2021-05-26T13:56:29.335296Z",
     "iopub.status.idle": "2021-05-26T13:56:29.637336Z",
     "shell.execute_reply": "2021-05-26T13:56:29.655362Z"
    },
    "papermill": {
     "duration": 0.603078,
     "end_time": "2021-05-26T13:56:29.656332",
     "exception": false,
     "start_time": "2021-05-26T13:56:29.053254",
     "status": "completed"
    },
    "pycharm": {
     "is_executing": true,
     "name": "#%%\n"
    },
    "tags": []
   },
   "outputs": [],
   "source": [
    "trandata[cflds] = trandata[cflds].divide(trandata['eur_rate'], axis=\"index\").fillna(0)\n"
   ]
  },
  {
   "cell_type": "markdown",
   "id": "3719c4f7",
   "metadata": {
    "papermill": {
     "duration": 0.378367,
     "end_time": "2021-05-26T13:56:30.383198",
     "exception": false,
     "start_time": "2021-05-26T13:56:30.004831",
     "status": "completed"
    },
    "tags": []
   },
   "source": [
    "#### Output to {percode}.euroconv.csv"
   ]
  },
  {
   "cell_type": "code",
   "execution_count": 14,
   "id": "d2567ac8",
   "metadata": {
    "execution": {
     "iopub.execute_input": "2021-05-26T13:56:30.942714Z",
     "iopub.status.busy": "2021-05-26T13:56:30.923709Z",
     "iopub.status.idle": "2021-05-26T13:56:41.096881Z",
     "shell.execute_reply": "2021-05-26T13:56:41.097889Z"
    },
    "papermill": {
     "duration": 10.447168,
     "end_time": "2021-05-26T13:56:41.098880",
     "exception": false,
     "start_time": "2021-05-26T13:56:30.651712",
     "status": "completed"
    },
    "pycharm": {
     "is_executing": true,
     "name": "#%%\n"
    },
    "tags": []
   },
   "outputs": [],
   "source": [
    "trandata.to_csv(f'//hecate/Insurance_US/Product Development/Product Management/Global PPM/Reporting/Data Collection/Production/{str(percode)}\\\\{str(percode)}.euroconv.csv', ',', index=False, encoding='utf-8-sig')\n",
    "\n",
    "\n"
   ]
  },
  {
   "cell_type": "markdown",
   "id": "02834c75",
   "metadata": {
    "papermill": {
     "duration": 0.298022,
     "end_time": "2021-05-26T13:56:41.678809",
     "exception": false,
     "start_time": "2021-05-26T13:56:41.380787",
     "status": "completed"
    },
    "tags": []
   },
   "source": [
    "#### Store the DataFrame for other notebooks to use"
   ]
  },
  {
   "cell_type": "code",
   "execution_count": 15,
   "id": "2a8ca276",
   "metadata": {
    "execution": {
     "iopub.execute_input": "2021-05-26T13:56:42.291764Z",
     "iopub.status.busy": "2021-05-26T13:56:42.287588Z",
     "iopub.status.idle": "2021-05-26T13:56:42.315585Z",
     "shell.execute_reply": "2021-05-26T13:56:42.317584Z"
    },
    "papermill": {
     "duration": 0.34511,
     "end_time": "2021-05-26T13:56:42.317584",
     "exception": false,
     "start_time": "2021-05-26T13:56:41.972474",
     "status": "completed"
    },
    "tags": []
   },
   "outputs": [
    {
     "name": "stdout",
     "output_type": "stream",
     "text": [
      "Stored 'mo_df' (DataFrame)\n"
     ]
    }
   ],
   "source": [
    "mo_df = trandata\n",
    "\n",
    "%store mo_df\n"
   ]
  }
 ],
 "metadata": {
  "celltoolbar": "Tags",
  "kernelspec": {
   "display_name": "Python 3",
   "language": "python",
   "name": "python3"
  },
  "language_info": {
   "codemirror_mode": {
    "name": "ipython",
    "version": 3
   },
   "file_extension": ".py",
   "mimetype": "text/x-python",
   "name": "python",
   "nbconvert_exporter": "python",
   "pygments_lexer": "ipython3",
   "version": "3.7.6"
  },
  "papermill": {
   "default_parameters": {},
   "duration": 64.786803,
   "end_time": "2021-05-26T13:56:43.025379",
   "environment_variables": {},
   "exception": null,
   "input_path": "pipeline/make_output.ipynb",
   "output_path": "//hecate/Insurance_US/Product Development/Product Management/Global PPM/Reporting/Data Collection/Pipeline Reporting Scripts/GPMpipeline/instances/2021.Q1\\pipeline\\make_output05262021094707--live run.ipynb",
   "parameters": {
    "commit_message": "Used the old AU file. Replaced, running again.",
    "inst_datetime": "05262021094707",
    "percode": "2021.Q1",
    "run_control": 1
   },
   "start_time": "2021-05-26T13:55:38.238576",
   "version": "2.3.3"
  }
 },
 "nbformat": 4,
 "nbformat_minor": 5
}