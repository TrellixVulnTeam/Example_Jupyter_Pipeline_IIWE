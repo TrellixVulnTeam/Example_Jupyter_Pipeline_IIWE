{
 "cells": [
  {
   "cell_type": "markdown",
   "id": "313d106a",
   "metadata": {
    "papermill": {
     "duration": 0.254042,
     "end_time": "2021-06-02T18:53:22.811507",
     "exception": false,
     "start_time": "2021-06-02T18:53:22.557465",
     "status": "completed"
    },
    "pycharm": {
     "name": "#%% md\n"
    },
    "tags": []
   },
   "source": [
    "<img src=\"../images/AzPTravel_PPM.png\">"
   ]
  },
  {
   "cell_type": "markdown",
   "id": "4c7b720d",
   "metadata": {
    "papermill": {
     "duration": 0.25352,
     "end_time": "2021-06-02T18:53:23.308635",
     "exception": false,
     "start_time": "2021-06-02T18:53:23.055115",
     "status": "completed"
    },
    "tags": []
   },
   "source": [
    "## GPM Pipeline Output maker\n",
    "\n",
    "#### This script\n",
    "- loads the transformed parquet file\n",
    "- creates the file {parquet}.localcur.csv\n",
    "- makes the Euro conversions\n",
    "- outputs {parquet}.euroconv.csv\n"
   ]
  },
  {
   "cell_type": "markdown",
   "id": "34846d38",
   "metadata": {
    "papermill": {
     "duration": 0.228339,
     "end_time": "2021-06-02T18:53:23.775506",
     "exception": false,
     "start_time": "2021-06-02T18:53:23.547167",
     "status": "completed"
    },
    "tags": []
   },
   "source": [
    "#### Parameters section"
   ]
  },
  {
   "cell_type": "code",
   "execution_count": 1,
   "id": "699f385d",
   "metadata": {
    "execution": {
     "iopub.execute_input": "2021-06-02T18:53:24.299508Z",
     "iopub.status.busy": "2021-06-02T18:53:24.297508Z",
     "iopub.status.idle": "2021-06-02T18:53:24.302508Z",
     "shell.execute_reply": "2021-06-02T18:53:24.317360Z"
    },
    "papermill": {
     "duration": 0.30085,
     "end_time": "2021-06-02T18:53:24.318360",
     "exception": false,
     "start_time": "2021-06-02T18:53:24.017510",
     "status": "completed"
    },
    "pycharm": {
     "name": "#%%\n"
    },
    "tags": [
     "parameters"
    ]
   },
   "outputs": [],
   "source": [
    "commit = \"\"\n",
    "# give a reason for the run\n",
    "\n",
    "percode = \"20XX.QX\"\n",
    "# Data Collection Code, this controls file paths and output names\n",
    "\n",
    "run_type = 1\n",
    "#run_type =  0 - lite run with no reporting, not recommended.\n",
    "#run_type =  1 - lite run with normal reporting, default setting.\n",
    "#run_type =  2 - Heavy run with full reporting, available for audits and troubleshooting.\n",
    "\n",
    "specialchars = \"-GTHtest\"\n",
    "# optional - add up to a 12 character code in order to mark your instance record .ipynb\n",
    "\n",
    "from datetime import datetime\n",
    "inst_datetime = datetime.now().strftime(\"%m%d%Y%H%M%S\")\n",
    "# a single datetime stamp for the full instance run\n"
   ]
  },
  {
   "cell_type": "code",
   "execution_count": 2,
   "id": "e2819c2e",
   "metadata": {
    "execution": {
     "iopub.execute_input": "2021-06-02T18:53:24.815426Z",
     "iopub.status.busy": "2021-06-02T18:53:24.814428Z",
     "iopub.status.idle": "2021-06-02T18:53:24.820430Z",
     "shell.execute_reply": "2021-06-02T18:53:24.819430Z"
    },
    "papermill": {
     "duration": 0.252924,
     "end_time": "2021-06-02T18:53:24.821426",
     "exception": false,
     "start_time": "2021-06-02T18:53:24.568502",
     "status": "completed"
    },
    "tags": [
     "injected-parameters"
    ]
   },
   "outputs": [],
   "source": [
    "# Parameters\n",
    "run_control = 1\n",
    "percode = \"2021.Q1\"\n",
    "commit_message = \"Live run, added AT, bad file name, rerun.\"\n",
    "inst_datetime = \"06022021144832\"\n"
   ]
  },
  {
   "cell_type": "markdown",
   "id": "f5f55077",
   "metadata": {
    "papermill": {
     "duration": 0.36911,
     "end_time": "2021-06-02T18:53:25.452009",
     "exception": false,
     "start_time": "2021-06-02T18:53:25.082899",
     "status": "completed"
    },
    "tags": []
   },
   "source": [
    "### Set Run Control\n",
    "\n",
    "##### 0 - lite run with no reporting, not recommended.\n",
    "##### 1 - lite run with normal reporting, default setting.\n",
    "##### 2 - Heavy run with full reporting, available for audits and troubleshooting."
   ]
  },
  {
   "cell_type": "code",
   "execution_count": 3,
   "id": "b08ef48e",
   "metadata": {
    "execution": {
     "iopub.execute_input": "2021-06-02T18:53:26.023896Z",
     "iopub.status.busy": "2021-06-02T18:53:26.022896Z",
     "iopub.status.idle": "2021-06-02T18:53:26.028896Z",
     "shell.execute_reply": "2021-06-02T18:53:26.029896Z"
    },
    "papermill": {
     "duration": 0.257301,
     "end_time": "2021-06-02T18:53:26.030896",
     "exception": false,
     "start_time": "2021-06-02T18:53:25.773595",
     "status": "completed"
    },
    "pycharm": {
     "name": "#%%\n"
    },
    "tags": []
   },
   "outputs": [],
   "source": [
    "run_control = 0 # in development mode"
   ]
  },
  {
   "cell_type": "markdown",
   "id": "cd795b2d",
   "metadata": {
    "papermill": {
     "duration": 0.239642,
     "end_time": "2021-06-02T18:53:26.511539",
     "exception": false,
     "start_time": "2021-06-02T18:53:26.271897",
     "status": "completed"
    },
    "tags": []
   },
   "source": [
    "#### Packages used"
   ]
  },
  {
   "cell_type": "code",
   "execution_count": 4,
   "id": "75d5cc7f",
   "metadata": {
    "execution": {
     "iopub.execute_input": "2021-06-02T18:53:27.026377Z",
     "iopub.status.busy": "2021-06-02T18:53:27.023382Z",
     "iopub.status.idle": "2021-06-02T18:53:30.593247Z",
     "shell.execute_reply": "2021-06-02T18:53:30.594258Z"
    },
    "papermill": {
     "duration": 3.836529,
     "end_time": "2021-06-02T18:53:30.594258",
     "exception": false,
     "start_time": "2021-06-02T18:53:26.757729",
     "status": "completed"
    },
    "pycharm": {
     "name": "#%%\n"
    },
    "tags": []
   },
   "outputs": [],
   "source": [
    "import sys\n",
    "import os\n",
    "import pandas as pd"
   ]
  },
  {
   "cell_type": "code",
   "execution_count": 5,
   "id": "62bb6d44",
   "metadata": {
    "execution": {
     "iopub.execute_input": "2021-06-02T18:53:31.182426Z",
     "iopub.status.busy": "2021-06-02T18:53:31.181434Z",
     "iopub.status.idle": "2021-06-02T18:53:31.188426Z",
     "shell.execute_reply": "2021-06-02T18:53:31.190732Z"
    },
    "papermill": {
     "duration": 0.30895,
     "end_time": "2021-06-02T18:53:31.190732",
     "exception": false,
     "start_time": "2021-06-02T18:53:30.881782",
     "status": "completed"
    },
    "pycharm": {
     "name": "#%%\n"
    },
    "tags": []
   },
   "outputs": [],
   "source": [
    "default_DC = \"2021.Q1\"\n",
    "\n",
    "try:\n",
    "    if sys.argv[1] == \"-f\":\n",
    "        percode = default_DC\n",
    "    else:\n",
    "        percode = sys.argv[1]\n",
    "\n",
    "except IndexError:\n",
    "    percode = default_DC\n",
    "except NameError:\n",
    "    percode = default_DC"
   ]
  },
  {
   "cell_type": "markdown",
   "id": "48ca04c9",
   "metadata": {
    "papermill": {
     "duration": 0.280604,
     "end_time": "2021-06-02T18:53:31.768845",
     "exception": false,
     "start_time": "2021-06-02T18:53:31.488241",
     "status": "completed"
    },
    "tags": []
   },
   "source": [
    "#### Convert paths and files to variables.\n",
    "#### Read data into pd DataFrames.\n",
    "#### Make paths for the live sources."
   ]
  },
  {
   "cell_type": "code",
   "execution_count": 6,
   "id": "ed26ecbd",
   "metadata": {
    "execution": {
     "iopub.execute_input": "2021-06-02T18:53:32.280504Z",
     "iopub.status.busy": "2021-06-02T18:53:32.278511Z",
     "iopub.status.idle": "2021-06-02T18:53:32.286503Z",
     "shell.execute_reply": "2021-06-02T18:53:32.287494Z"
    },
    "papermill": {
     "duration": 0.270053,
     "end_time": "2021-06-02T18:53:32.287494",
     "exception": false,
     "start_time": "2021-06-02T18:53:32.017441",
     "status": "completed"
    },
    "pycharm": {
     "name": "#%%\n"
    },
    "tags": []
   },
   "outputs": [],
   "source": [
    "rt_path = os.path.join('\\\\\\\\hecate\\\\Insurance_US\\\\Product Development\\\\Product Management\\\\Global PPM\\\\Reporting\\\\Data Collection\\\\Production',percode)\n",
    "\n",
    "tempfile = os.path.join(rt_path, f'{percode}.localcur.csv')\n",
    "\n",
    "gppm_file = os.path.join(rt_path, f'GPPM_Input_{str(percode)}.xlsx')\n",
    "\n"
   ]
  },
  {
   "cell_type": "markdown",
   "id": "6d9380ef",
   "metadata": {
    "papermill": {
     "duration": 0.25145,
     "end_time": "2021-06-02T18:53:32.765850",
     "exception": false,
     "start_time": "2021-06-02T18:53:32.514400",
     "status": "completed"
    },
    "tags": []
   },
   "source": [
    "### Make Files"
   ]
  },
  {
   "cell_type": "code",
   "execution_count": 7,
   "id": "f734f926",
   "metadata": {
    "execution": {
     "iopub.execute_input": "2021-06-02T18:53:33.447963Z",
     "iopub.status.busy": "2021-06-02T18:53:33.445962Z",
     "iopub.status.idle": "2021-06-02T18:53:33.453965Z",
     "shell.execute_reply": "2021-06-02T18:53:33.452963Z"
    },
    "papermill": {
     "duration": 0.294334,
     "end_time": "2021-06-02T18:53:33.454965",
     "exception": false,
     "start_time": "2021-06-02T18:53:33.160631",
     "status": "completed"
    },
    "tags": []
   },
   "outputs": [],
   "source": [
    "local_file = f'{percode}.localcur.csv'\n",
    "euro_file = f'{percode}.euroconv.csv'\n",
    "\n"
   ]
  },
  {
   "cell_type": "markdown",
   "id": "c58ae729",
   "metadata": {
    "papermill": {
     "duration": 0.304993,
     "end_time": "2021-06-02T18:53:34.034483",
     "exception": false,
     "start_time": "2021-06-02T18:53:33.729490",
     "status": "completed"
    },
    "tags": []
   },
   "source": [
    "#### Read source"
   ]
  },
  {
   "cell_type": "code",
   "execution_count": 8,
   "id": "fd39489c",
   "metadata": {
    "execution": {
     "iopub.execute_input": "2021-06-02T18:53:34.563704Z",
     "iopub.status.busy": "2021-06-02T18:53:34.561701Z",
     "iopub.status.idle": "2021-06-02T18:53:38.445910Z",
     "shell.execute_reply": "2021-06-02T18:53:38.446909Z"
    },
    "papermill": {
     "duration": 4.158904,
     "end_time": "2021-06-02T18:53:38.447906",
     "exception": false,
     "start_time": "2021-06-02T18:53:34.289002",
     "status": "completed"
    },
    "pycharm": {
     "name": "#%%\n"
    },
    "tags": []
   },
   "outputs": [],
   "source": [
    "\n",
    "mo_input = pd.read_csv(tempfile, engine='python')\n",
    "\n",
    "\n",
    "\"\"\"reads in the input for the Euro conversion\"\"\"\n",
    "euro = pd.read_excel(gppm_file, sheet_name=\"Euro_Rates\")\n"
   ]
  },
  {
   "cell_type": "markdown",
   "id": "8c170fb9",
   "metadata": {
    "papermill": {
     "duration": 0.247997,
     "end_time": "2021-06-02T18:53:38.938831",
     "exception": false,
     "start_time": "2021-06-02T18:53:38.690834",
     "status": "completed"
    },
    "tags": []
   },
   "source": [
    "#### Output local currency csv"
   ]
  },
  {
   "cell_type": "code",
   "execution_count": 9,
   "id": "281d1b00",
   "metadata": {
    "execution": {
     "iopub.execute_input": "2021-06-02T18:53:39.497364Z",
     "iopub.status.busy": "2021-06-02T18:53:39.493404Z",
     "iopub.status.idle": "2021-06-02T18:53:48.594162Z",
     "shell.execute_reply": "2021-06-02T18:53:48.596163Z"
    },
    "papermill": {
     "duration": 9.390295,
     "end_time": "2021-06-02T18:53:48.596163",
     "exception": false,
     "start_time": "2021-06-02T18:53:39.205868",
     "status": "completed"
    },
    "pycharm": {
     "is_executing": true,
     "name": "#%%\n"
    },
    "tags": []
   },
   "outputs": [],
   "source": [
    "mo_input.to_csv(os.path.join(rt_path,local_file), ',', index=False, encoding='utf-8-sig')"
   ]
  },
  {
   "cell_type": "markdown",
   "id": "7d88f0f1",
   "metadata": {
    "papermill": {
     "duration": 0.247179,
     "end_time": "2021-06-02T18:53:49.152360",
     "exception": false,
     "start_time": "2021-06-02T18:53:48.905181",
     "status": "completed"
    },
    "tags": []
   },
   "source": [
    "#### Convert all currency to Euro\n"
   ]
  },
  {
   "cell_type": "code",
   "execution_count": 10,
   "id": "1e7ffb32",
   "metadata": {
    "execution": {
     "iopub.execute_input": "2021-06-02T18:53:49.667324Z",
     "iopub.status.busy": "2021-06-02T18:53:49.665323Z",
     "iopub.status.idle": "2021-06-02T18:53:49.671322Z",
     "shell.execute_reply": "2021-06-02T18:53:49.673324Z"
    },
    "papermill": {
     "duration": 0.278799,
     "end_time": "2021-06-02T18:53:49.673324",
     "exception": false,
     "start_time": "2021-06-02T18:53:49.394525",
     "status": "completed"
    },
    "pycharm": {
     "is_executing": true,
     "name": "#%%\n"
    },
    "tags": []
   },
   "outputs": [],
   "source": [
    "\n",
    "\n",
    "cflds = ['written_revenues_net_of_taxes', 'written_revenues', 'earned_revenues_net_of_taxes',\n",
    "         'earned_revenues', 'earned_base_commissions', 'earned_over_commissions', 'upfront_cash_payments',\n",
    "         'total_compensation', 'paid_claims', 'ocr__ibnr', 'actual_incurred_losses',\n",
    "         'internal_variable_costs', 'az_tech_fee', 'internal_fixed_costs',\n",
    "         'hq_fees', 'total_expenses', 'risk_premium', 'profit_or_loss', 'cm_hq_view', 'cm_bu_view', ]\n",
    "\n",
    "alt_cflds = ['written_revenues_net_of_taxes', 'written_revenues', 'earned_revenues_net_of_taxes',\n",
    "         'earned_revenues', 'earned_base_commissions', 'earned_over-commissions', 'upfront_cash_payments',\n",
    "         'total_compensation', 'paid_claims', 'ocr_+_ibnr','actual_incurred_losses_(paid_+_ocr_+_ibnr)',\n",
    "         'internal_variable_costs_(excl._az_tech_fee)', 'az_tech_fee', 'internal_fixed_costs_(excl._hq_fees)',\n",
    "         'hq_fees', 'total_expenses', 'risk_premium', 'profit_or_loss', 'contribution_margin_-_hq_view', 'contribution_margin_-_bu_view', ]\n",
    "\n",
    "\n",
    "\n"
   ]
  },
  {
   "cell_type": "markdown",
   "id": "aca261b1",
   "metadata": {
    "papermill": {
     "duration": 0.244528,
     "end_time": "2021-06-02T18:53:50.179311",
     "exception": false,
     "start_time": "2021-06-02T18:53:49.934783",
     "status": "completed"
    },
    "tags": []
   },
   "source": [
    "#### Make a copy for debug purposes"
   ]
  },
  {
   "cell_type": "code",
   "execution_count": 11,
   "id": "af77cdfe",
   "metadata": {
    "execution": {
     "iopub.execute_input": "2021-06-02T18:53:50.708390Z",
     "iopub.status.busy": "2021-06-02T18:53:50.706396Z",
     "iopub.status.idle": "2021-06-02T18:53:50.714390Z",
     "shell.execute_reply": "2021-06-02T18:53:50.713392Z"
    },
    "papermill": {
     "duration": 0.274075,
     "end_time": "2021-06-02T18:53:50.714390",
     "exception": false,
     "start_time": "2021-06-02T18:53:50.440315",
     "status": "completed"
    },
    "pycharm": {
     "is_executing": true,
     "name": "#%%\n"
    },
    "tags": []
   },
   "outputs": [],
   "source": [
    "trandata = mo_input.copy()"
   ]
  },
  {
   "cell_type": "markdown",
   "id": "bbf2cad5",
   "metadata": {
    "papermill": {
     "duration": 0.247975,
     "end_time": "2021-06-02T18:53:51.200710",
     "exception": false,
     "start_time": "2021-06-02T18:53:50.952735",
     "status": "completed"
    },
    "tags": []
   },
   "source": [
    "#### Convert Currency Below"
   ]
  },
  {
   "cell_type": "code",
   "execution_count": 12,
   "id": "20a8c87f",
   "metadata": {
    "execution": {
     "iopub.execute_input": "2021-06-02T18:53:51.712037Z",
     "iopub.status.busy": "2021-06-02T18:53:51.704141Z",
     "iopub.status.idle": "2021-06-02T18:53:51.718036Z",
     "shell.execute_reply": "2021-06-02T18:53:51.719033Z"
    },
    "papermill": {
     "duration": 0.280004,
     "end_time": "2021-06-02T18:53:51.720041",
     "exception": false,
     "start_time": "2021-06-02T18:53:51.440037",
     "status": "completed"
    },
    "pycharm": {
     "is_executing": true,
     "name": "#%%\n"
    },
    "tags": []
   },
   "outputs": [],
   "source": [
    "# create DataFrame of unique currencies with rates\n",
    "\n",
    "fx_uni = euro[['CURR_CODE','RATE']]\n",
    "fx_uni = fx_uni.drop_duplicates()"
   ]
  },
  {
   "cell_type": "code",
   "execution_count": 13,
   "id": "ed750d32",
   "metadata": {
    "execution": {
     "iopub.execute_input": "2021-06-02T18:53:52.238251Z",
     "iopub.status.busy": "2021-06-02T18:53:52.233250Z",
     "iopub.status.idle": "2021-06-02T18:53:52.271258Z",
     "shell.execute_reply": "2021-06-02T18:53:52.272251Z"
    },
    "papermill": {
     "duration": 0.310564,
     "end_time": "2021-06-02T18:53:52.272251",
     "exception": false,
     "start_time": "2021-06-02T18:53:51.961687",
     "status": "completed"
    },
    "pycharm": {
     "is_executing": true,
     "name": "#%%\n"
    },
    "tags": []
   },
   "outputs": [],
   "source": [
    "# add euro conversion rates to trandata DataFrame as column 'eur_rate'\n",
    "\n",
    "fx_uni = fx_uni.rename(columns = {\"CURR_CODE\":\"currency\"})\n",
    "\n",
    "eurdata = trandata.merge(fx_uni, how='left', left_on='currency', right_on='currency')\n",
    "\n",
    "\n",
    "trandata['eur_rate'] = eurdata['RATE']\n"
   ]
  },
  {
   "cell_type": "markdown",
   "id": "1c8be21e",
   "metadata": {
    "papermill": {
     "duration": 0.249001,
     "end_time": "2021-06-02T18:53:52.783766",
     "exception": false,
     "start_time": "2021-06-02T18:53:52.534765",
     "status": "completed"
    },
    "tags": []
   },
   "source": [
    "#### Convert currency fields"
   ]
  },
  {
   "cell_type": "code",
   "execution_count": 14,
   "id": "ccd13648",
   "metadata": {
    "execution": {
     "iopub.execute_input": "2021-06-02T18:53:53.293328Z",
     "iopub.status.busy": "2021-06-02T18:53:53.291330Z",
     "iopub.status.idle": "2021-06-02T18:53:53.594013Z",
     "shell.execute_reply": "2021-06-02T18:53:53.595013Z"
    },
    "papermill": {
     "duration": 0.558011,
     "end_time": "2021-06-02T18:53:53.595013",
     "exception": false,
     "start_time": "2021-06-02T18:53:53.037002",
     "status": "completed"
    },
    "pycharm": {
     "is_executing": true,
     "name": "#%%\n"
    },
    "tags": []
   },
   "outputs": [],
   "source": [
    "try:\n",
    "    trandata[cflds] = trandata[cflds].divide(trandata['eur_rate'], axis=\"index\").fillna(0)\n",
    "\n",
    "except KeyError:\n",
    "    trandata[alt_cflds] = trandata[alt_cflds].divide(trandata['eur_rate'], axis=\"index\").fillna(0)\n",
    "\n",
    "    \n"
   ]
  },
  {
   "cell_type": "markdown",
   "id": "1a515ea3",
   "metadata": {
    "papermill": {
     "duration": 0.248519,
     "end_time": "2021-06-02T18:53:54.088060",
     "exception": false,
     "start_time": "2021-06-02T18:53:53.839541",
     "status": "completed"
    },
    "tags": []
   },
   "source": [
    "#### Output to {percode}.euroconv.csv"
   ]
  },
  {
   "cell_type": "code",
   "execution_count": 15,
   "id": "4bf40a1d",
   "metadata": {
    "execution": {
     "iopub.execute_input": "2021-06-02T18:53:54.610187Z",
     "iopub.status.busy": "2021-06-02T18:53:54.609187Z",
     "iopub.status.idle": "2021-06-02T18:54:03.928373Z",
     "shell.execute_reply": "2021-06-02T18:54:03.930375Z"
    },
    "papermill": {
     "duration": 9.590317,
     "end_time": "2021-06-02T18:54:03.930375",
     "exception": false,
     "start_time": "2021-06-02T18:53:54.340058",
     "status": "completed"
    },
    "pycharm": {
     "is_executing": true,
     "name": "#%%\n"
    },
    "tags": []
   },
   "outputs": [],
   "source": [
    "trandata.to_csv( os.path.join(   rt_path , euro_file) , ',', index=False, encoding='utf-8-sig')\n"
   ]
  },
  {
   "cell_type": "code",
   "execution_count": 16,
   "id": "19da1298",
   "metadata": {
    "execution": {
     "iopub.execute_input": "2021-06-02T18:54:04.521837Z",
     "iopub.status.busy": "2021-06-02T18:54:04.519832Z",
     "iopub.status.idle": "2021-06-02T18:54:04.527358Z",
     "shell.execute_reply": "2021-06-02T18:54:04.528372Z"
    },
    "papermill": {
     "duration": 0.276988,
     "end_time": "2021-06-02T18:54:04.529379",
     "exception": false,
     "start_time": "2021-06-02T18:54:04.252391",
     "status": "completed"
    },
    "tags": []
   },
   "outputs": [],
   "source": [
    "#### Store the DataFrame for other notebooks to use and open the file location for the user to view the new files"
   ]
  },
  {
   "cell_type": "code",
   "execution_count": 17,
   "id": "73de4b73",
   "metadata": {
    "execution": {
     "iopub.execute_input": "2021-06-02T18:54:05.038745Z",
     "iopub.status.busy": "2021-06-02T18:54:05.037755Z",
     "iopub.status.idle": "2021-06-02T18:54:05.302236Z",
     "shell.execute_reply": "2021-06-02T18:54:05.304244Z"
    },
    "papermill": {
     "duration": 0.522497,
     "end_time": "2021-06-02T18:54:05.305245",
     "exception": false,
     "start_time": "2021-06-02T18:54:04.782748",
     "status": "completed"
    },
    "tags": []
   },
   "outputs": [
    {
     "name": "stdout",
     "output_type": "stream",
     "text": [
      "Stored 'mo_df' (DataFrame)\n"
     ]
    }
   ],
   "source": [
    "mo_df = trandata\n",
    "\n",
    "%store mo_df\n",
    "\n",
    "\n",
    "os.startfile( rt_path   )\n",
    "\n"
   ]
  },
  {
   "cell_type": "code",
   "execution_count": null,
   "id": "3986f16a",
   "metadata": {
    "papermill": {
     "duration": 0.247991,
     "end_time": "2021-06-02T18:54:05.809822",
     "exception": false,
     "start_time": "2021-06-02T18:54:05.561831",
     "status": "completed"
    },
    "tags": []
   },
   "outputs": [],
   "source": []
  }
 ],
 "metadata": {
  "celltoolbar": "Tags",
  "kernelspec": {
   "display_name": "Python 3",
   "language": "python",
   "name": "python3"
  },
  "language_info": {
   "codemirror_mode": {
    "name": "ipython",
    "version": 3
   },
   "file_extension": ".py",
   "mimetype": "text/x-python",
   "name": "python",
   "nbconvert_exporter": "python",
   "pygments_lexer": "ipython3",
   "version": "3.7.6"
  },
  "papermill": {
   "default_parameters": {},
   "duration": 59.584599,
   "end_time": "2021-06-02T18:54:06.611698",
   "environment_variables": {},
   "exception": null,
   "input_path": "pipeline/make_output.ipynb",
   "output_path": "//hecate/Insurance_US/Product Development/Product Management/Global PPM/Reporting/Data Collection/Pipeline Reporting Scripts/GPMpipeline/instances/2021.Q1\\pipeline\\make_output06022021144832--live, add AT.ipynb",
   "parameters": {
    "commit_message": "Live run, added AT, bad file name, rerun.",
    "inst_datetime": "06022021144832",
    "percode": "2021.Q1",
    "run_control": 1
   },
   "start_time": "2021-06-02T18:53:07.027099",
   "version": "2.3.3"
  }
 },
 "nbformat": 4,
 "nbformat_minor": 5
}