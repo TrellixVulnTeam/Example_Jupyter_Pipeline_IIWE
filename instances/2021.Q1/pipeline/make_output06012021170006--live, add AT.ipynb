{
 "cells": [
  {
   "cell_type": "markdown",
   "id": "d850b31c",
   "metadata": {
    "papermill": {
     "duration": 0.341001,
     "end_time": "2021-06-01T21:04:24.654086",
     "exception": false,
     "start_time": "2021-06-01T21:04:24.313085",
     "status": "completed"
    },
    "pycharm": {
     "name": "#%% md\n"
    },
    "tags": []
   },
   "source": [
    "<img src=\"../images/AzPTravel_PPM.png\">"
   ]
  },
  {
   "cell_type": "markdown",
   "id": "423f08be",
   "metadata": {
    "papermill": {
     "duration": 0.282929,
     "end_time": "2021-06-01T21:04:25.299667",
     "exception": false,
     "start_time": "2021-06-01T21:04:25.016738",
     "status": "completed"
    },
    "tags": []
   },
   "source": [
    "## GPM Pipeline Output maker\n",
    "\n",
    "#### This script\n",
    "- loads the transformed parquet file\n",
    "- creates the file {parquet}.localcur.csv\n",
    "- makes the Euro conversions\n",
    "- outputs {parquet}.euroconv.csv\n"
   ]
  },
  {
   "cell_type": "markdown",
   "id": "08e399bf",
   "metadata": {
    "papermill": {
     "duration": 0.290382,
     "end_time": "2021-06-01T21:04:25.848591",
     "exception": false,
     "start_time": "2021-06-01T21:04:25.558209",
     "status": "completed"
    },
    "tags": []
   },
   "source": [
    "#### Parameters section"
   ]
  },
  {
   "cell_type": "code",
   "execution_count": 1,
   "id": "3e5d3887",
   "metadata": {
    "execution": {
     "iopub.execute_input": "2021-06-01T21:04:26.420744Z",
     "iopub.status.busy": "2021-06-01T21:04:26.417741Z",
     "iopub.status.idle": "2021-06-01T21:04:26.428747Z",
     "shell.execute_reply": "2021-06-01T21:04:26.439745Z"
    },
    "papermill": {
     "duration": 0.288618,
     "end_time": "2021-06-01T21:04:26.439745",
     "exception": false,
     "start_time": "2021-06-01T21:04:26.151127",
     "status": "completed"
    },
    "pycharm": {
     "name": "#%%\n"
    },
    "tags": [
     "parameters"
    ]
   },
   "outputs": [],
   "source": [
    "commit = \"\"\n",
    "# give a reason for the run\n",
    "\n",
    "percode = \"20XX.QX\"\n",
    "# Data Collection Code, this controls file paths and output names\n",
    "\n",
    "run_type = 1\n",
    "#run_type =  0 - lite run with no reporting, not recommended.\n",
    "#run_type =  1 - lite run with normal reporting, default setting.\n",
    "#run_type =  2 - Heavy run with full reporting, available for audits and troubleshooting.\n",
    "\n",
    "specialchars = \"-GTHtest\"\n",
    "# optional - add up to a 12 character code in order to mark your instance record .ipynb\n",
    "\n",
    "from datetime import datetime\n",
    "inst_datetime = datetime.now().strftime(\"%m%d%Y%H%M%S\")\n",
    "# a single datetime stamp for the full instance run\n"
   ]
  },
  {
   "cell_type": "code",
   "execution_count": 2,
   "id": "dbe73dcf",
   "metadata": {
    "execution": {
     "iopub.execute_input": "2021-06-01T21:04:26.924920Z",
     "iopub.status.busy": "2021-06-01T21:04:26.922923Z",
     "iopub.status.idle": "2021-06-01T21:04:26.930922Z",
     "shell.execute_reply": "2021-06-01T21:04:26.932924Z"
    },
    "papermill": {
     "duration": 0.284002,
     "end_time": "2021-06-01T21:04:26.932924",
     "exception": false,
     "start_time": "2021-06-01T21:04:26.648922",
     "status": "completed"
    },
    "tags": [
     "injected-parameters"
    ]
   },
   "outputs": [],
   "source": [
    "# Parameters\n",
    "run_control = 1\n",
    "percode = \"2021.Q1\"\n",
    "commit_message = \"Live run, added AT after conversion from Excel\"\n",
    "inst_datetime = \"06012021170006\"\n"
   ]
  },
  {
   "cell_type": "markdown",
   "id": "5d2f19f0",
   "metadata": {
    "papermill": {
     "duration": 0.450505,
     "end_time": "2021-06-01T21:04:27.664427",
     "exception": false,
     "start_time": "2021-06-01T21:04:27.213922",
     "status": "completed"
    },
    "tags": []
   },
   "source": [
    "### Set Run Control\n",
    "\n",
    "##### 0 - lite run with no reporting, not recommended.\n",
    "##### 1 - lite run with normal reporting, default setting.\n",
    "##### 2 - Heavy run with full reporting, available for audits and troubleshooting."
   ]
  },
  {
   "cell_type": "code",
   "execution_count": 3,
   "id": "d6bbea33",
   "metadata": {
    "execution": {
     "iopub.execute_input": "2021-06-01T21:04:28.272211Z",
     "iopub.status.busy": "2021-06-01T21:04:28.268207Z",
     "iopub.status.idle": "2021-06-01T21:04:28.279218Z",
     "shell.execute_reply": "2021-06-01T21:04:28.281244Z"
    },
    "papermill": {
     "duration": 0.327002,
     "end_time": "2021-06-01T21:04:28.282210",
     "exception": false,
     "start_time": "2021-06-01T21:04:27.955208",
     "status": "completed"
    },
    "pycharm": {
     "name": "#%%\n"
    },
    "tags": []
   },
   "outputs": [],
   "source": [
    "run_control = 0 # in development mode"
   ]
  },
  {
   "cell_type": "markdown",
   "id": "3b95fb89",
   "metadata": {
    "papermill": {
     "duration": 0.271999,
     "end_time": "2021-06-01T21:04:28.829205",
     "exception": false,
     "start_time": "2021-06-01T21:04:28.557206",
     "status": "completed"
    },
    "tags": []
   },
   "source": [
    "#### Packages used"
   ]
  },
  {
   "cell_type": "code",
   "execution_count": 4,
   "id": "eb8de98b",
   "metadata": {
    "execution": {
     "iopub.execute_input": "2021-06-01T21:04:29.513426Z",
     "iopub.status.busy": "2021-06-01T21:04:29.509429Z",
     "iopub.status.idle": "2021-06-01T21:04:32.557988Z",
     "shell.execute_reply": "2021-06-01T21:04:32.558990Z"
    },
    "papermill": {
     "duration": 3.448255,
     "end_time": "2021-06-01T21:04:32.559987",
     "exception": false,
     "start_time": "2021-06-01T21:04:29.111732",
     "status": "completed"
    },
    "pycharm": {
     "name": "#%%\n"
    },
    "tags": []
   },
   "outputs": [],
   "source": [
    "import sys\n",
    "import os\n",
    "import pandas as pd"
   ]
  },
  {
   "cell_type": "code",
   "execution_count": 5,
   "id": "6c8a9b49",
   "metadata": {
    "execution": {
     "iopub.execute_input": "2021-06-01T21:04:33.067915Z",
     "iopub.status.busy": "2021-06-01T21:04:33.061916Z",
     "iopub.status.idle": "2021-06-01T21:04:33.074597Z",
     "shell.execute_reply": "2021-06-01T21:04:33.075597Z"
    },
    "papermill": {
     "duration": 0.284296,
     "end_time": "2021-06-01T21:04:33.076600",
     "exception": false,
     "start_time": "2021-06-01T21:04:32.792304",
     "status": "completed"
    },
    "pycharm": {
     "name": "#%%\n"
    },
    "tags": []
   },
   "outputs": [],
   "source": [
    "default_DC = \"2021.Q1\"\n",
    "\n",
    "try:\n",
    "    if sys.argv[1] == \"-f\":\n",
    "        percode = default_DC\n",
    "    else:\n",
    "        percode = sys.argv[1]\n",
    "\n",
    "except IndexError:\n",
    "    percode = default_DC\n",
    "except NameError:\n",
    "    percode = default_DC"
   ]
  },
  {
   "cell_type": "markdown",
   "id": "85dc2e6c",
   "metadata": {
    "papermill": {
     "duration": 0.240444,
     "end_time": "2021-06-01T21:04:33.537143",
     "exception": false,
     "start_time": "2021-06-01T21:04:33.296699",
     "status": "completed"
    },
    "tags": []
   },
   "source": [
    "#### Convert paths and files to variables.\n",
    "#### Read data into pd DataFrames.\n",
    "#### Make paths for the live sources."
   ]
  },
  {
   "cell_type": "code",
   "execution_count": 6,
   "id": "716316cc",
   "metadata": {
    "execution": {
     "iopub.execute_input": "2021-06-01T21:04:34.214878Z",
     "iopub.status.busy": "2021-06-01T21:04:34.210881Z",
     "iopub.status.idle": "2021-06-01T21:04:34.220875Z",
     "shell.execute_reply": "2021-06-01T21:04:34.220875Z"
    },
    "papermill": {
     "duration": 0.423107,
     "end_time": "2021-06-01T21:04:34.221878",
     "exception": false,
     "start_time": "2021-06-01T21:04:33.798771",
     "status": "completed"
    },
    "pycharm": {
     "name": "#%%\n"
    },
    "tags": []
   },
   "outputs": [],
   "source": [
    "rt_path = os.path.join('\\\\\\\\hecate\\\\Insurance_US\\\\Product Development\\\\Product Management\\\\Global PPM\\\\Reporting\\\\Data Collection\\\\Production',percode)\n",
    "\n",
    "tempfile = os.path.join(rt_path, f'{percode}.localcur.csv')\n",
    "\n",
    "gppm_file = os.path.join(rt_path, f'GPPM_Input_{str(percode)}.xlsx')\n",
    "\n"
   ]
  },
  {
   "cell_type": "markdown",
   "id": "f844f30d",
   "metadata": {
    "papermill": {
     "duration": 0.276142,
     "end_time": "2021-06-01T21:04:34.726062",
     "exception": false,
     "start_time": "2021-06-01T21:04:34.449920",
     "status": "completed"
    },
    "tags": []
   },
   "source": [
    "### Make Files"
   ]
  },
  {
   "cell_type": "code",
   "execution_count": 7,
   "id": "b887e4b4",
   "metadata": {
    "execution": {
     "iopub.execute_input": "2021-06-01T21:04:35.248182Z",
     "iopub.status.busy": "2021-06-01T21:04:35.247154Z",
     "iopub.status.idle": "2021-06-01T21:04:35.256156Z",
     "shell.execute_reply": "2021-06-01T21:04:35.257155Z"
    },
    "papermill": {
     "duration": 0.276515,
     "end_time": "2021-06-01T21:04:35.257155",
     "exception": false,
     "start_time": "2021-06-01T21:04:34.980640",
     "status": "completed"
    },
    "tags": []
   },
   "outputs": [],
   "source": [
    "local_file = f'{percode}.localcur.csv'\n",
    "euro_file = f'{percode}.euroconv.csv'\n",
    "\n"
   ]
  },
  {
   "cell_type": "markdown",
   "id": "11a64ec4",
   "metadata": {
    "papermill": {
     "duration": 0.247048,
     "end_time": "2021-06-01T21:04:35.741496",
     "exception": false,
     "start_time": "2021-06-01T21:04:35.494448",
     "status": "completed"
    },
    "tags": []
   },
   "source": [
    "#### Read source"
   ]
  },
  {
   "cell_type": "code",
   "execution_count": 8,
   "id": "27c33d45",
   "metadata": {
    "execution": {
     "iopub.execute_input": "2021-06-01T21:04:36.259452Z",
     "iopub.status.busy": "2021-06-01T21:04:36.252919Z",
     "iopub.status.idle": "2021-06-01T21:04:40.444153Z",
     "shell.execute_reply": "2021-06-01T21:04:40.446164Z"
    },
    "papermill": {
     "duration": 4.455498,
     "end_time": "2021-06-01T21:04:40.446164",
     "exception": false,
     "start_time": "2021-06-01T21:04:35.990666",
     "status": "completed"
    },
    "pycharm": {
     "name": "#%%\n"
    },
    "tags": []
   },
   "outputs": [],
   "source": [
    "\n",
    "mo_input = pd.read_csv(tempfile, engine='python')\n",
    "\n",
    "\n",
    "\"\"\"reads in the input for the Euro conversion\"\"\"\n",
    "euro = pd.read_excel(gppm_file, sheet_name=\"Euro_Rates\")\n"
   ]
  },
  {
   "cell_type": "markdown",
   "id": "d32b23c2",
   "metadata": {
    "papermill": {
     "duration": 0.249101,
     "end_time": "2021-06-01T21:04:40.960428",
     "exception": false,
     "start_time": "2021-06-01T21:04:40.711327",
     "status": "completed"
    },
    "tags": []
   },
   "source": [
    "#### Output local currency csv"
   ]
  },
  {
   "cell_type": "code",
   "execution_count": 9,
   "id": "f6854fa7",
   "metadata": {
    "execution": {
     "iopub.execute_input": "2021-06-01T21:04:41.516569Z",
     "iopub.status.busy": "2021-06-01T21:04:41.511569Z",
     "iopub.status.idle": "2021-06-01T21:04:49.812821Z",
     "shell.execute_reply": "2021-06-01T21:04:49.813822Z"
    },
    "papermill": {
     "duration": 8.533678,
     "end_time": "2021-06-01T21:04:49.814817",
     "exception": false,
     "start_time": "2021-06-01T21:04:41.281139",
     "status": "completed"
    },
    "pycharm": {
     "is_executing": true,
     "name": "#%%\n"
    },
    "tags": []
   },
   "outputs": [],
   "source": [
    "mo_input.to_csv(os.path.join(rt_path,local_file), ',', index=False, encoding='utf-8-sig')"
   ]
  },
  {
   "cell_type": "markdown",
   "id": "98918060",
   "metadata": {
    "papermill": {
     "duration": 0.228,
     "end_time": "2021-06-01T21:04:50.343817",
     "exception": false,
     "start_time": "2021-06-01T21:04:50.115817",
     "status": "completed"
    },
    "tags": []
   },
   "source": [
    "#### Convert all currency to Euro\n"
   ]
  },
  {
   "cell_type": "code",
   "execution_count": 10,
   "id": "addb1d55",
   "metadata": {
    "execution": {
     "iopub.execute_input": "2021-06-01T21:04:50.882891Z",
     "iopub.status.busy": "2021-06-01T21:04:50.874895Z",
     "iopub.status.idle": "2021-06-01T21:04:50.889900Z",
     "shell.execute_reply": "2021-06-01T21:04:50.891893Z"
    },
    "papermill": {
     "duration": 0.285051,
     "end_time": "2021-06-01T21:04:50.891893",
     "exception": false,
     "start_time": "2021-06-01T21:04:50.606842",
     "status": "completed"
    },
    "pycharm": {
     "is_executing": true,
     "name": "#%%\n"
    },
    "tags": []
   },
   "outputs": [],
   "source": [
    "\n",
    "\n",
    "cflds = ['written_revenues_net_of_taxes', 'written_revenues', 'earned_revenues_net_of_taxes',\n",
    "         'earned_revenues', 'earned_base_commissions', 'earned_over_commissions', 'upfront_cash_payments',\n",
    "         'total_compensation', 'paid_claims', 'ocr__ibnr', 'actual_incurred_losses',\n",
    "         'internal_variable_costs', 'az_tech_fee', 'internal_fixed_costs',\n",
    "         'hq_fees', 'total_expenses', 'risk_premium', 'profit_or_loss', 'cm_hq_view', 'cm_bu_view', ]\n",
    "\n",
    "alt_cflds = ['written_revenues_net_of_taxes', 'written_revenues', 'earned_revenues_net_of_taxes',\n",
    "         'earned_revenues', 'earned_base_commissions', 'earned_over-commissions', 'upfront_cash_payments',\n",
    "         'total_compensation', 'paid_claims', 'ocr_+_ibnr','actual_incurred_losses_(paid_+_ocr_+_ibnr)',\n",
    "         'internal_variable_costs_(excl._az_tech_fee)', 'az_tech_fee', 'internal_fixed_costs_(excl._hq_fees)',\n",
    "         'hq_fees', 'total_expenses', 'risk_premium', 'profit_or_loss', 'contribution_margin_-_hq_view', 'contribution_margin_-_bu_view', ]\n",
    "\n",
    "\n",
    "\n"
   ]
  },
  {
   "cell_type": "markdown",
   "id": "2b295fce",
   "metadata": {
    "papermill": {
     "duration": 0.245945,
     "end_time": "2021-06-01T21:04:51.387399",
     "exception": false,
     "start_time": "2021-06-01T21:04:51.141454",
     "status": "completed"
    },
    "tags": []
   },
   "source": [
    "#### Make a copy for debug purposes"
   ]
  },
  {
   "cell_type": "code",
   "execution_count": 11,
   "id": "eca27436",
   "metadata": {
    "execution": {
     "iopub.execute_input": "2021-06-01T21:04:51.903510Z",
     "iopub.status.busy": "2021-06-01T21:04:51.902506Z",
     "iopub.status.idle": "2021-06-01T21:04:51.909513Z",
     "shell.execute_reply": "2021-06-01T21:04:51.910507Z"
    },
    "papermill": {
     "duration": 0.268999,
     "end_time": "2021-06-01T21:04:51.911511",
     "exception": false,
     "start_time": "2021-06-01T21:04:51.642512",
     "status": "completed"
    },
    "pycharm": {
     "is_executing": true,
     "name": "#%%\n"
    },
    "tags": []
   },
   "outputs": [],
   "source": [
    "trandata = mo_input.copy()"
   ]
  },
  {
   "cell_type": "markdown",
   "id": "3def30aa",
   "metadata": {
    "papermill": {
     "duration": 0.260817,
     "end_time": "2021-06-01T21:04:52.401431",
     "exception": false,
     "start_time": "2021-06-01T21:04:52.140614",
     "status": "completed"
    },
    "tags": []
   },
   "source": [
    "#### Convert Currency Below"
   ]
  },
  {
   "cell_type": "code",
   "execution_count": 12,
   "id": "0266b973",
   "metadata": {
    "execution": {
     "iopub.execute_input": "2021-06-01T21:04:53.039730Z",
     "iopub.status.busy": "2021-06-01T21:04:53.036730Z",
     "iopub.status.idle": "2021-06-01T21:04:53.042732Z",
     "shell.execute_reply": "2021-06-01T21:04:53.037732Z"
    },
    "papermill": {
     "duration": 0.329163,
     "end_time": "2021-06-01T21:04:53.043733",
     "exception": false,
     "start_time": "2021-06-01T21:04:52.714570",
     "status": "completed"
    },
    "pycharm": {
     "is_executing": true,
     "name": "#%%\n"
    },
    "tags": []
   },
   "outputs": [],
   "source": [
    "# create DataFrame of unique currencies with rates\n",
    "\n",
    "fx_uni = euro[['CURR_CODE','RATE']]\n",
    "fx_uni = fx_uni.drop_duplicates()"
   ]
  },
  {
   "cell_type": "code",
   "execution_count": 13,
   "id": "3349e7d0",
   "metadata": {
    "execution": {
     "iopub.execute_input": "2021-06-01T21:04:53.638417Z",
     "iopub.status.busy": "2021-06-01T21:04:53.630420Z",
     "iopub.status.idle": "2021-06-01T21:04:53.673424Z",
     "shell.execute_reply": "2021-06-01T21:04:53.675418Z"
    },
    "papermill": {
     "duration": 0.281518,
     "end_time": "2021-06-01T21:04:53.676422",
     "exception": false,
     "start_time": "2021-06-01T21:04:53.394904",
     "status": "completed"
    },
    "pycharm": {
     "is_executing": true,
     "name": "#%%\n"
    },
    "tags": []
   },
   "outputs": [],
   "source": [
    "# add euro conversion rates to trandata DataFrame as column 'eur_rate'\n",
    "\n",
    "fx_uni = fx_uni.rename(columns = {\"CURR_CODE\":\"currency\"})\n",
    "\n",
    "eurdata = trandata.merge(fx_uni, how='left', left_on='currency', right_on='currency')\n",
    "\n",
    "\n",
    "trandata['eur_rate'] = eurdata['RATE']\n"
   ]
  },
  {
   "cell_type": "markdown",
   "id": "73402cbb",
   "metadata": {
    "papermill": {
     "duration": 0.260537,
     "end_time": "2021-06-01T21:04:54.177013",
     "exception": false,
     "start_time": "2021-06-01T21:04:53.916476",
     "status": "completed"
    },
    "tags": []
   },
   "source": [
    "#### Convert currency fields"
   ]
  },
  {
   "cell_type": "code",
   "execution_count": 14,
   "id": "c2840822",
   "metadata": {
    "execution": {
     "iopub.execute_input": "2021-06-01T21:04:54.748522Z",
     "iopub.status.busy": "2021-06-01T21:04:54.741515Z",
     "iopub.status.idle": "2021-06-01T21:04:55.362334Z",
     "shell.execute_reply": "2021-06-01T21:04:55.364335Z"
    },
    "papermill": {
     "duration": 0.923401,
     "end_time": "2021-06-01T21:04:55.365342",
     "exception": false,
     "start_time": "2021-06-01T21:04:54.441941",
     "status": "completed"
    },
    "pycharm": {
     "is_executing": true,
     "name": "#%%\n"
    },
    "tags": []
   },
   "outputs": [],
   "source": [
    "try:\n",
    "    trandata[cflds] = trandata[cflds].divide(trandata['eur_rate'], axis=\"index\").fillna(0)\n",
    "\n",
    "except KeyError:\n",
    "    trandata[alt_cflds] = trandata[alt_cflds].divide(trandata['eur_rate'], axis=\"index\").fillna(0)\n",
    "\n",
    "    \n"
   ]
  },
  {
   "cell_type": "markdown",
   "id": "aaca0302",
   "metadata": {
    "papermill": {
     "duration": 0.261908,
     "end_time": "2021-06-01T21:04:55.888806",
     "exception": false,
     "start_time": "2021-06-01T21:04:55.626898",
     "status": "completed"
    },
    "tags": []
   },
   "source": [
    "#### Output to {percode}.euroconv.csv"
   ]
  },
  {
   "cell_type": "code",
   "execution_count": 15,
   "id": "5e26c6ce",
   "metadata": {
    "execution": {
     "iopub.execute_input": "2021-06-01T21:04:56.380621Z",
     "iopub.status.busy": "2021-06-01T21:04:56.375627Z",
     "iopub.status.idle": "2021-06-01T21:05:04.410230Z",
     "shell.execute_reply": "2021-06-01T21:05:04.412227Z"
    },
    "papermill": {
     "duration": 8.289784,
     "end_time": "2021-06-01T21:05:04.413233",
     "exception": false,
     "start_time": "2021-06-01T21:04:56.123449",
     "status": "completed"
    },
    "pycharm": {
     "is_executing": true,
     "name": "#%%\n"
    },
    "tags": []
   },
   "outputs": [],
   "source": [
    "trandata.to_csv( os.path.join(   rt_path , euro_file) , ',', index=False, encoding='utf-8-sig')\n"
   ]
  },
  {
   "cell_type": "code",
   "execution_count": 16,
   "id": "f7168b7d",
   "metadata": {
    "execution": {
     "iopub.execute_input": "2021-06-01T21:05:04.937238Z",
     "iopub.status.busy": "2021-06-01T21:05:04.936228Z",
     "iopub.status.idle": "2021-06-01T21:05:04.941227Z",
     "shell.execute_reply": "2021-06-01T21:05:04.943237Z"
    },
    "papermill": {
     "duration": 0.245006,
     "end_time": "2021-06-01T21:05:04.943237",
     "exception": false,
     "start_time": "2021-06-01T21:05:04.698231",
     "status": "completed"
    },
    "tags": []
   },
   "outputs": [],
   "source": [
    "#### Store the DataFrame for other notebooks to use and open the file location for the user to view the new files"
   ]
  },
  {
   "cell_type": "code",
   "execution_count": 17,
   "id": "1c060c8c",
   "metadata": {
    "execution": {
     "iopub.execute_input": "2021-06-01T21:05:05.429227Z",
     "iopub.status.busy": "2021-06-01T21:05:05.421226Z",
     "iopub.status.idle": "2021-06-01T21:05:05.773224Z",
     "shell.execute_reply": "2021-06-01T21:05:05.775222Z"
    },
    "papermill": {
     "duration": 0.608984,
     "end_time": "2021-06-01T21:05:05.775222",
     "exception": false,
     "start_time": "2021-06-01T21:05:05.166238",
     "status": "completed"
    },
    "tags": []
   },
   "outputs": [
    {
     "name": "stdout",
     "output_type": "stream",
     "text": [
      "Stored 'mo_df' (DataFrame)\n"
     ]
    }
   ],
   "source": [
    "mo_df = trandata\n",
    "\n",
    "%store mo_df\n",
    "\n",
    "\n",
    "os.startfile( rt_path   )\n",
    "\n"
   ]
  },
  {
   "cell_type": "code",
   "execution_count": null,
   "id": "d1f9bb4f",
   "metadata": {
    "papermill": {
     "duration": 0.351942,
     "end_time": "2021-06-01T21:05:06.452822",
     "exception": false,
     "start_time": "2021-06-01T21:05:06.100880",
     "status": "completed"
    },
    "tags": []
   },
   "outputs": [],
   "source": []
  }
 ],
 "metadata": {
  "celltoolbar": "Tags",
  "kernelspec": {
   "display_name": "Python 3",
   "language": "python",
   "name": "python3"
  },
  "language_info": {
   "codemirror_mode": {
    "name": "ipython",
    "version": 3
   },
   "file_extension": ".py",
   "mimetype": "text/x-python",
   "name": "python",
   "nbconvert_exporter": "python",
   "pygments_lexer": "ipython3",
   "version": "3.7.6"
  },
  "papermill": {
   "default_parameters": {},
   "duration": 59.040503,
   "end_time": "2021-06-01T21:05:07.493548",
   "environment_variables": {},
   "exception": null,
   "input_path": "pipeline/make_output.ipynb",
   "output_path": "//hecate/Insurance_US/Product Development/Product Management/Global PPM/Reporting/Data Collection/Pipeline Reporting Scripts/GPMpipeline/instances/2021.Q1\\pipeline\\make_output06012021170006--live, add AT.ipynb",
   "parameters": {
    "commit_message": "Live run, added AT after conversion from Excel",
    "inst_datetime": "06012021170006",
    "percode": "2021.Q1",
    "run_control": 1
   },
   "start_time": "2021-06-01T21:04:08.453045",
   "version": "2.3.3"
  }
 },
 "nbformat": 4,
 "nbformat_minor": 5
}