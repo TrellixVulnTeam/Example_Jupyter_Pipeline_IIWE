{
 "cells": [
  {
   "cell_type": "markdown",
   "id": "fff19568",
   "metadata": {
    "papermill": {
     "duration": 0.389483,
     "end_time": "2021-05-26T14:09:45.397240",
     "exception": false,
     "start_time": "2021-05-26T14:09:45.007757",
     "status": "completed"
    },
    "pycharm": {
     "name": "#%% md\n"
    },
    "tags": []
   },
   "source": [
    "<img src=\"../images/AzPTravel_PPM.png\">"
   ]
  },
  {
   "cell_type": "markdown",
   "id": "4cb06081",
   "metadata": {
    "papermill": {
     "duration": 0.380048,
     "end_time": "2021-05-26T14:09:46.124635",
     "exception": false,
     "start_time": "2021-05-26T14:09:45.744587",
     "status": "completed"
    },
    "tags": []
   },
   "source": [
    "## GPM Pipeline Output maker\n",
    "\n",
    "#### This script\n",
    "- loads the transformed parquet file\n",
    "- creates the file {parquet}.localcur.csv\n",
    "- makes the Euro conversions\n",
    "- outputs {parquet}.euroconv.csv\n"
   ]
  },
  {
   "cell_type": "markdown",
   "id": "367c4aa5",
   "metadata": {
    "papermill": {
     "duration": 0.346872,
     "end_time": "2021-05-26T14:09:46.814131",
     "exception": false,
     "start_time": "2021-05-26T14:09:46.467259",
     "status": "completed"
    },
    "tags": []
   },
   "source": [
    "#### Parameters section"
   ]
  },
  {
   "cell_type": "code",
   "execution_count": 1,
   "id": "2dc5e752",
   "metadata": {
    "execution": {
     "iopub.execute_input": "2021-05-26T14:09:47.539720Z",
     "iopub.status.busy": "2021-05-26T14:09:47.536721Z",
     "iopub.status.idle": "2021-05-26T14:09:47.546724Z",
     "shell.execute_reply": "2021-05-26T14:09:47.557722Z"
    },
    "papermill": {
     "duration": 0.347176,
     "end_time": "2021-05-26T14:09:47.557722",
     "exception": false,
     "start_time": "2021-05-26T14:09:47.210546",
     "status": "completed"
    },
    "pycharm": {
     "name": "#%%\n"
    },
    "tags": [
     "parameters"
    ]
   },
   "outputs": [],
   "source": [
    "commit = \"\"\n",
    "# give a reason for the run\n",
    "\n",
    "percode = \"20XX.QX\"\n",
    "# Data Collection Code, this controls file paths and output names\n",
    "\n",
    "run_type = 1\n",
    "#run_type =  0 - lite run with no reporting, not recommended.\n",
    "#run_type =  1 - lite run with normal reporting, default setting.\n",
    "#run_type =  2 - Heavy run with full reporting, available for audits and troubleshooting.\n",
    "\n",
    "specialchars = \"-GTHtest\"\n",
    "# optional - add up to a 12 character code in order to mark your instance record .ipynb\n",
    "\n",
    "from datetime import datetime\n",
    "inst_datetime = datetime.now().strftime(\"%m%d%Y%H%M%S\")\n",
    "# a single datetime stamp for the full instance run\n"
   ]
  },
  {
   "cell_type": "code",
   "execution_count": 2,
   "id": "0d112139",
   "metadata": {
    "execution": {
     "iopub.execute_input": "2021-05-26T14:09:48.567564Z",
     "iopub.status.busy": "2021-05-26T14:09:48.563572Z",
     "iopub.status.idle": "2021-05-26T14:09:48.575561Z",
     "shell.execute_reply": "2021-05-26T14:09:48.577569Z"
    },
    "papermill": {
     "duration": 0.41216,
     "end_time": "2021-05-26T14:09:48.577569",
     "exception": false,
     "start_time": "2021-05-26T14:09:48.165409",
     "status": "completed"
    },
    "tags": [
     "injected-parameters"
    ]
   },
   "outputs": [],
   "source": [
    "# Parameters\n",
    "run_control = 1\n",
    "percode = \"2021.Q1\"\n",
    "commit_message = \"New AUS needed to be converted from json\"\n",
    "inst_datetime = \"05262021100343\"\n"
   ]
  },
  {
   "cell_type": "markdown",
   "id": "8cd32c18",
   "metadata": {
    "papermill": {
     "duration": 0.649963,
     "end_time": "2021-05-26T14:09:49.605205",
     "exception": false,
     "start_time": "2021-05-26T14:09:48.955242",
     "status": "completed"
    },
    "tags": []
   },
   "source": [
    "### Set Run Control\n",
    "\n",
    "##### 0 - lite run with no reporting, not recommended.\n",
    "##### 1 - lite run with normal reporting, default setting.\n",
    "##### 2 - Heavy run with full reporting, available for audits and troubleshooting."
   ]
  },
  {
   "cell_type": "code",
   "execution_count": 3,
   "id": "0582aabb",
   "metadata": {
    "execution": {
     "iopub.execute_input": "2021-05-26T14:09:50.375341Z",
     "iopub.status.busy": "2021-05-26T14:09:50.370346Z",
     "iopub.status.idle": "2021-05-26T14:09:50.381343Z",
     "shell.execute_reply": "2021-05-26T14:09:50.372346Z"
    },
    "papermill": {
     "duration": 0.382112,
     "end_time": "2021-05-26T14:09:50.382387",
     "exception": false,
     "start_time": "2021-05-26T14:09:50.000275",
     "status": "completed"
    },
    "pycharm": {
     "name": "#%%\n"
    },
    "tags": []
   },
   "outputs": [],
   "source": [
    "run_control = 0 # in development mode"
   ]
  },
  {
   "cell_type": "markdown",
   "id": "2460afac",
   "metadata": {
    "papermill": {
     "duration": 0.347996,
     "end_time": "2021-05-26T14:09:51.116334",
     "exception": false,
     "start_time": "2021-05-26T14:09:50.768338",
     "status": "completed"
    },
    "tags": []
   },
   "source": [
    "#### Packages used"
   ]
  },
  {
   "cell_type": "code",
   "execution_count": 4,
   "id": "8253d52a",
   "metadata": {
    "execution": {
     "iopub.execute_input": "2021-05-26T14:09:51.900201Z",
     "iopub.status.busy": "2021-05-26T14:09:51.897211Z",
     "iopub.status.idle": "2021-05-26T14:09:54.232129Z",
     "shell.execute_reply": "2021-05-26T14:09:54.233136Z"
    },
    "papermill": {
     "duration": 2.761683,
     "end_time": "2021-05-26T14:09:54.234131",
     "exception": false,
     "start_time": "2021-05-26T14:09:51.472448",
     "status": "completed"
    },
    "pycharm": {
     "name": "#%%\n"
    },
    "tags": []
   },
   "outputs": [],
   "source": [
    "import sys\n",
    "import os\n",
    "import pandas as pd"
   ]
  },
  {
   "cell_type": "code",
   "execution_count": 5,
   "id": "8207910d",
   "metadata": {
    "execution": {
     "iopub.execute_input": "2021-05-26T14:09:54.977808Z",
     "iopub.status.busy": "2021-05-26T14:09:54.969809Z",
     "iopub.status.idle": "2021-05-26T14:09:54.990809Z",
     "shell.execute_reply": "2021-05-26T14:09:54.992815Z"
    },
    "papermill": {
     "duration": 0.421082,
     "end_time": "2021-05-26T14:09:54.992815",
     "exception": false,
     "start_time": "2021-05-26T14:09:54.571733",
     "status": "completed"
    },
    "pycharm": {
     "name": "#%%\n"
    },
    "tags": []
   },
   "outputs": [],
   "source": [
    "default_DC = \"2021.Q1\"\n",
    "\n",
    "try:\n",
    "    if sys.argv[1] == \"-f\":\n",
    "        percode = default_DC\n",
    "    else:\n",
    "        percode = sys.argv[1]\n",
    "\n",
    "except IndexError:\n",
    "    percode = default_DC\n",
    "except NameError:\n",
    "    percode = default_DC"
   ]
  },
  {
   "cell_type": "markdown",
   "id": "0d4c67e1",
   "metadata": {
    "papermill": {
     "duration": 0.289001,
     "end_time": "2021-05-26T14:09:55.809848",
     "exception": false,
     "start_time": "2021-05-26T14:09:55.520847",
     "status": "completed"
    },
    "tags": []
   },
   "source": [
    "#### Convert paths and files to variables.\n",
    "#### Read data into pd DataFrames.\n",
    "#### Make paths for the live sources."
   ]
  },
  {
   "cell_type": "code",
   "execution_count": 6,
   "id": "dab7babc",
   "metadata": {
    "execution": {
     "iopub.execute_input": "2021-05-26T14:09:56.549163Z",
     "iopub.status.busy": "2021-05-26T14:09:56.542156Z",
     "iopub.status.idle": "2021-05-26T14:09:56.557160Z",
     "shell.execute_reply": "2021-05-26T14:09:56.558156Z"
    },
    "papermill": {
     "duration": 0.373238,
     "end_time": "2021-05-26T14:09:56.559157",
     "exception": false,
     "start_time": "2021-05-26T14:09:56.185919",
     "status": "completed"
    },
    "pycharm": {
     "name": "#%%\n"
    },
    "tags": []
   },
   "outputs": [],
   "source": [
    "rt_path = f'//hecate/Insurance_US/Product Development/Product Manag' \\\n",
    "          f'ement/Global PPM/Reporting/Data Collection/Production/{str(percode)}'\n",
    "tempfile = os.path.join(rt_path, f'{str(percode)}.localcur.parquet')\n",
    "gppm_file = os.path.join(rt_path, f'GPPM_Input_{str(percode)}.xlsx')"
   ]
  },
  {
   "cell_type": "markdown",
   "id": "5805ada3",
   "metadata": {
    "papermill": {
     "duration": 0.389001,
     "end_time": "2021-05-26T14:09:57.260156",
     "exception": false,
     "start_time": "2021-05-26T14:09:56.871155",
     "status": "completed"
    },
    "tags": []
   },
   "source": [
    "#### Read source"
   ]
  },
  {
   "cell_type": "code",
   "execution_count": 7,
   "id": "0f5632d4",
   "metadata": {
    "execution": {
     "iopub.execute_input": "2021-05-26T14:09:57.979697Z",
     "iopub.status.busy": "2021-05-26T14:09:57.970694Z",
     "iopub.status.idle": "2021-05-26T14:09:59.904746Z",
     "shell.execute_reply": "2021-05-26T14:09:59.907767Z"
    },
    "papermill": {
     "duration": 2.325984,
     "end_time": "2021-05-26T14:09:59.908747",
     "exception": false,
     "start_time": "2021-05-26T14:09:57.582763",
     "status": "completed"
    },
    "pycharm": {
     "name": "#%%\n"
    },
    "tags": []
   },
   "outputs": [
    {
     "name": "stdout",
     "output_type": "stream",
     "text": [
      "     business_unit                   submission_file country currency  \\\n",
      "0               CA  us_dat_ca_05202021134242.parquet      CA      CAD   \n",
      "1               CA  us_dat_ca_05202021134242.parquet      CA      CAD   \n",
      "2               CA  us_dat_ca_05202021134242.parquet      CA      CAD   \n",
      "3               CA  us_dat_ca_05202021134242.parquet      CA      CAD   \n",
      "4               CA  us_dat_ca_05202021134242.parquet      CA      CAD   \n",
      "...            ...                               ...     ...      ...   \n",
      "1914            PT  us_dat_pt_05202021121056.parquet      PT      EUR   \n",
      "1915            PT  us_dat_pt_05202021121056.parquet      PT      EUR   \n",
      "1916            PT  us_dat_pt_05202021121056.parquet      PT      EUR   \n",
      "1917            PT  us_dat_pt_05202021121056.parquet      PT      EUR   \n",
      "1918            PT  us_dat_pt_05202021121056.parquet      PT      EUR   \n",
      "\n",
      "                           region reporting_date_from reporting_date_to  \\\n",
      "0                   North America          2021-01-01        2021-03-31   \n",
      "1                   North America          2021-01-01        2021-03-31   \n",
      "2                   North America          2021-01-01        2021-03-31   \n",
      "3                   North America          2021-01-01        2021-03-31   \n",
      "4                   North America          2021-01-01        2021-03-31   \n",
      "...                           ...                 ...               ...   \n",
      "1914  Western Europe, LATAM & MEA          2021-01-01        2021-03-31   \n",
      "1915  Western Europe, LATAM & MEA          2021-01-01        2021-03-31   \n",
      "1916  Western Europe, LATAM & MEA          2021-01-01        2021-03-31   \n",
      "1917  Western Europe, LATAM & MEA          2021-01-01        2021-03-31   \n",
      "1918  Western Europe, LATAM & MEA          2021-01-01        2021-03-31   \n",
      "\n",
      "     date_of_analysis type_of_analysis  analysed_months  ...     expsub  \\\n",
      "0          2021-05-16     Year To Date                3  ...   0.501000   \n",
      "1          2021-05-16     Year To Date                3  ...   0.117500   \n",
      "2          2021-05-16     Year To Date                3  ...   0.328200   \n",
      "3          2021-05-16     Year To Date                3  ...   0.209300   \n",
      "4          2021-05-16     Year To Date                3  ...   0.205723   \n",
      "...               ...              ...              ...  ...        ...   \n",
      "1914       2021-03-31     Year To Date                3  ...   0.538397   \n",
      "1915       2021-03-31     Year To Date                3  ...   0.426832   \n",
      "1916       2021-03-31     Year To Date                3  ...  18.673326   \n",
      "1917       2021-03-31     Year To Date                3  ...   0.859278   \n",
      "1918       2021-03-31     Year To Date                3  ...   1.023709   \n",
      "\n",
      "       ibnrsub  reporting_date_to_int date_of_analysis_int  \\\n",
      "0    -0.348378               20210331             20210516   \n",
      "1    -0.348378               20210331             20210516   \n",
      "2    -0.348378               20210331             20210516   \n",
      "3    -0.348378               20210331             20210516   \n",
      "4    -0.348378               20210331             20210516   \n",
      "...        ...                    ...                  ...   \n",
      "1914  0.000000               20210331             20210331   \n",
      "1915  0.000000               20210331             20210331   \n",
      "1916  0.000000               20210331             20210331   \n",
      "1917  0.000000               20210331             20210331   \n",
      "1918  0.000000               20210331             20210331   \n",
      "\n",
      "                         selected_fields_for_duplicates   rep_date  \\\n",
      "0     CAInsuranceLocalB2B2CTravelBanks / Credit Card... 2021-03-31   \n",
      "1     CAInsuranceGlobal - FOSB2CTravelEventTICKETMASTER 2021-03-31   \n",
      "2            CAInsuranceGlobal - FOSB2CTravelEventOther 2021-03-31   \n",
      "3     CAInsuranceLocalB2B2CTravelOffline Travel Agen... 2021-03-31   \n",
      "4     CAInsuranceLocalB2B2CTravelOffline Travel Agen... 2021-03-31   \n",
      "...                                                 ...        ...   \n",
      "1914  PTReinsuranceLocalB2B2CTravelDirect (Allianz P... 2021-03-31   \n",
      "1915  PTReinsuranceLocalB2B2CTravelDirect (Allianz P... 2021-03-31   \n",
      "1916  PTReinsuranceLocalB2B2CTravelDirect (Allianz P... 2021-03-31   \n",
      "1917  PTReinsuranceLocalB2B2CTravelDirect (Allianz P... 2021-03-31   \n",
      "1918  PTReinsuranceLocalB2BTravelDirect (Allianz Par... 2021-03-31   \n",
      "\n",
      "     __index_level_0__  bu_descr month_of_analysis_max      reporting_period  \n",
      "0                    0    Canada              2021 May  2021 Jan to 2021 Mar  \n",
      "1                    1    Canada              2021 May  2021 Jan to 2021 Mar  \n",
      "2                    2    Canada              2021 May  2021 Jan to 2021 Mar  \n",
      "3                    3    Canada              2021 May  2021 Jan to 2021 Mar  \n",
      "4                    4    Canada              2021 May  2021 Jan to 2021 Mar  \n",
      "...                ...       ...                   ...                   ...  \n",
      "1914              3415  Portugal              2021 Mar  2021 Jan to 2021 Mar  \n",
      "1915              3416  Portugal              2021 Mar  2021 Jan to 2021 Mar  \n",
      "1916              3417  Portugal              2021 Mar  2021 Jan to 2021 Mar  \n",
      "1917              3418  Portugal              2021 Mar  2021 Jan to 2021 Mar  \n",
      "1918              3419  Portugal              2021 Mar  2021 Jan to 2021 Mar  \n",
      "\n",
      "[1919 rows x 81 columns]\n"
     ]
    }
   ],
   "source": [
    "mo_input = pd.read_parquet(tempfile, engine='pyarrow')\n",
    "\n",
    "print(mo_input)"
   ]
  },
  {
   "cell_type": "markdown",
   "id": "49830f7d",
   "metadata": {
    "papermill": {
     "duration": 0.759923,
     "end_time": "2021-05-26T14:10:01.144367",
     "exception": false,
     "start_time": "2021-05-26T14:10:00.384444",
     "status": "completed"
    },
    "tags": []
   },
   "source": [
    "#### Output local currency csv"
   ]
  },
  {
   "cell_type": "code",
   "execution_count": 8,
   "id": "4bc02f0a",
   "metadata": {
    "execution": {
     "iopub.execute_input": "2021-05-26T14:10:02.365517Z",
     "iopub.status.busy": "2021-05-26T14:10:02.359520Z",
     "iopub.status.idle": "2021-05-26T14:10:27.069514Z",
     "shell.execute_reply": "2021-05-26T14:10:27.071509Z"
    },
    "papermill": {
     "duration": 25.271235,
     "end_time": "2021-05-26T14:10:27.072517",
     "exception": false,
     "start_time": "2021-05-26T14:10:01.801282",
     "status": "completed"
    },
    "pycharm": {
     "is_executing": true,
     "name": "#%%\n"
    },
    "tags": []
   },
   "outputs": [],
   "source": [
    "mo_input.to_csv(f'//hecate/Insurance_US/Product Development/Product Management/Global PPM/Reporting/Data Collection/Production/{str(percode)}\\\\{str(percode)}.localcur.csv', ',', index=False, encoding='utf-8-sig')"
   ]
  },
  {
   "cell_type": "markdown",
   "id": "2d0a9af9",
   "metadata": {
    "papermill": {
     "duration": 0.41605,
     "end_time": "2021-05-26T14:10:27.929804",
     "exception": false,
     "start_time": "2021-05-26T14:10:27.513754",
     "status": "completed"
    },
    "tags": []
   },
   "source": [
    "#### Convert all currency to Euro\n"
   ]
  },
  {
   "cell_type": "code",
   "execution_count": 9,
   "id": "0688695e",
   "metadata": {
    "execution": {
     "iopub.execute_input": "2021-05-26T14:10:28.804871Z",
     "iopub.status.busy": "2021-05-26T14:10:28.793850Z",
     "iopub.status.idle": "2021-05-26T14:10:30.766580Z",
     "shell.execute_reply": "2021-05-26T14:10:30.768581Z"
    },
    "papermill": {
     "duration": 2.407804,
     "end_time": "2021-05-26T14:10:30.769593",
     "exception": false,
     "start_time": "2021-05-26T14:10:28.361789",
     "status": "completed"
    },
    "pycharm": {
     "is_executing": true,
     "name": "#%%\n"
    },
    "tags": []
   },
   "outputs": [],
   "source": [
    "\n",
    "cflds = ['written_revenues_net_of_taxes', 'written_revenues', 'earned_revenues_net_of_taxes',\n",
    "         'earned_revenues', 'earned_base_commissions', 'earned_over_commissions', 'upfront_cash_payments',\n",
    "         'total_compensation', 'paid_claims', 'ocr__ibnr', 'actual_incurred_losses',\n",
    "         'internal_variable_costs', 'az_tech_fee', 'internal_fixed_costs',\n",
    "         'hq_fees', 'total_expenses', 'risk_premium', 'profit_or_loss', 'cm_hq_view', 'cm_bu_view', ]\n",
    "\n",
    "\n",
    "\"\"\"reads in the input for the Euro conversion\"\"\"\n",
    "euro = pd.read_excel(gppm_file, sheet_name=\"Euro_Rates\")\n"
   ]
  },
  {
   "cell_type": "markdown",
   "id": "87ba1bb9",
   "metadata": {
    "papermill": {
     "duration": 0.287995,
     "end_time": "2021-05-26T14:10:31.403490",
     "exception": false,
     "start_time": "2021-05-26T14:10:31.115495",
     "status": "completed"
    },
    "tags": []
   },
   "source": [
    "#### Make a copy for debug purposes"
   ]
  },
  {
   "cell_type": "code",
   "execution_count": 10,
   "id": "e1c753b9",
   "metadata": {
    "execution": {
     "iopub.execute_input": "2021-05-26T14:10:32.003926Z",
     "iopub.status.busy": "2021-05-26T14:10:32.001943Z",
     "iopub.status.idle": "2021-05-26T14:10:32.016925Z",
     "shell.execute_reply": "2021-05-26T14:10:32.017922Z"
    },
    "papermill": {
     "duration": 0.294291,
     "end_time": "2021-05-26T14:10:32.018922",
     "exception": false,
     "start_time": "2021-05-26T14:10:31.724631",
     "status": "completed"
    },
    "pycharm": {
     "is_executing": true,
     "name": "#%%\n"
    },
    "tags": []
   },
   "outputs": [],
   "source": [
    "trandata = mo_input.copy()"
   ]
  },
  {
   "cell_type": "markdown",
   "id": "2380c396",
   "metadata": {
    "papermill": {
     "duration": 0.281043,
     "end_time": "2021-05-26T14:10:32.607836",
     "exception": false,
     "start_time": "2021-05-26T14:10:32.326793",
     "status": "completed"
    },
    "tags": []
   },
   "source": [
    "#### Convert Currency Below"
   ]
  },
  {
   "cell_type": "code",
   "execution_count": 11,
   "id": "30332602",
   "metadata": {
    "execution": {
     "iopub.execute_input": "2021-05-26T14:10:33.186145Z",
     "iopub.status.busy": "2021-05-26T14:10:33.179155Z",
     "iopub.status.idle": "2021-05-26T14:10:33.199665Z",
     "shell.execute_reply": "2021-05-26T14:10:33.200674Z"
    },
    "papermill": {
     "duration": 0.297799,
     "end_time": "2021-05-26T14:10:33.200674",
     "exception": false,
     "start_time": "2021-05-26T14:10:32.902875",
     "status": "completed"
    },
    "pycharm": {
     "is_executing": true,
     "name": "#%%\n"
    },
    "tags": []
   },
   "outputs": [],
   "source": [
    "# create DataFrame of unique currencies with rates\n",
    "\n",
    "fx_uni = euro[['CURR_CODE','RATE']]\n",
    "fx_uni = fx_uni.drop_duplicates()"
   ]
  },
  {
   "cell_type": "code",
   "execution_count": 12,
   "id": "7209fad1",
   "metadata": {
    "execution": {
     "iopub.execute_input": "2021-05-26T14:10:33.811089Z",
     "iopub.status.busy": "2021-05-26T14:10:33.809170Z",
     "iopub.status.idle": "2021-05-26T14:10:33.828087Z",
     "shell.execute_reply": "2021-05-26T14:10:33.829086Z"
    },
    "papermill": {
     "duration": 0.36025,
     "end_time": "2021-05-26T14:10:33.830087",
     "exception": false,
     "start_time": "2021-05-26T14:10:33.469837",
     "status": "completed"
    },
    "pycharm": {
     "is_executing": true,
     "name": "#%%\n"
    },
    "tags": []
   },
   "outputs": [],
   "source": [
    "# add euro conversion rates to trandata DataFrame as column 'eur_rate'\n",
    "\n",
    "eurdata = pd.merge(trandata['currency'], fx_uni, left_on='currency', right_on='CURR_CODE', how='left')\n",
    "\n",
    "trandata['eur_rate'] = eurdata['RATE']"
   ]
  },
  {
   "cell_type": "markdown",
   "id": "c9eda004",
   "metadata": {
    "papermill": {
     "duration": 0.272523,
     "end_time": "2021-05-26T14:10:34.412604",
     "exception": false,
     "start_time": "2021-05-26T14:10:34.140081",
     "status": "completed"
    },
    "tags": []
   },
   "source": [
    "#### Convert currency fields"
   ]
  },
  {
   "cell_type": "code",
   "execution_count": 13,
   "id": "fafe4ecb",
   "metadata": {
    "execution": {
     "iopub.execute_input": "2021-05-26T14:10:35.014378Z",
     "iopub.status.busy": "2021-05-26T14:10:35.012375Z",
     "iopub.status.idle": "2021-05-26T14:10:35.313933Z",
     "shell.execute_reply": "2021-05-26T14:10:35.314931Z"
    },
    "papermill": {
     "duration": 0.612636,
     "end_time": "2021-05-26T14:10:35.315937",
     "exception": false,
     "start_time": "2021-05-26T14:10:34.703301",
     "status": "completed"
    },
    "pycharm": {
     "is_executing": true,
     "name": "#%%\n"
    },
    "tags": []
   },
   "outputs": [],
   "source": [
    "trandata[cflds] = trandata[cflds].divide(trandata['eur_rate'], axis=\"index\").fillna(0)\n"
   ]
  },
  {
   "cell_type": "markdown",
   "id": "9a51d57b",
   "metadata": {
    "papermill": {
     "duration": 0.266094,
     "end_time": "2021-05-26T14:10:35.862569",
     "exception": false,
     "start_time": "2021-05-26T14:10:35.596475",
     "status": "completed"
    },
    "tags": []
   },
   "source": [
    "#### Output to {percode}.euroconv.csv"
   ]
  },
  {
   "cell_type": "code",
   "execution_count": 14,
   "id": "370a1e96",
   "metadata": {
    "execution": {
     "iopub.execute_input": "2021-05-26T14:10:36.543789Z",
     "iopub.status.busy": "2021-05-26T14:10:36.536786Z",
     "iopub.status.idle": "2021-05-26T14:10:56.968748Z",
     "shell.execute_reply": "2021-05-26T14:10:56.970748Z"
    },
    "papermill": {
     "duration": 20.815492,
     "end_time": "2021-05-26T14:10:56.970748",
     "exception": false,
     "start_time": "2021-05-26T14:10:36.155256",
     "status": "completed"
    },
    "pycharm": {
     "is_executing": true,
     "name": "#%%\n"
    },
    "tags": []
   },
   "outputs": [],
   "source": [
    "trandata.to_csv(f'//hecate/Insurance_US/Product Development/Product Management/Global PPM/Reporting/Data Collection/Production/{str(percode)}\\\\{str(percode)}.euroconv.csv', ',', index=False, encoding='utf-8-sig')\n",
    "\n",
    "\n"
   ]
  },
  {
   "cell_type": "markdown",
   "id": "74232082",
   "metadata": {
    "papermill": {
     "duration": 0.569457,
     "end_time": "2021-05-26T14:10:57.972950",
     "exception": false,
     "start_time": "2021-05-26T14:10:57.403493",
     "status": "completed"
    },
    "tags": []
   },
   "source": [
    "#### Store the DataFrame for other notebooks to use"
   ]
  },
  {
   "cell_type": "code",
   "execution_count": 15,
   "id": "d25465e0",
   "metadata": {
    "execution": {
     "iopub.execute_input": "2021-05-26T14:10:59.198900Z",
     "iopub.status.busy": "2021-05-26T14:10:59.196904Z",
     "iopub.status.idle": "2021-05-26T14:10:59.241477Z",
     "shell.execute_reply": "2021-05-26T14:10:59.243475Z"
    },
    "papermill": {
     "duration": 0.689062,
     "end_time": "2021-05-26T14:10:59.243475",
     "exception": false,
     "start_time": "2021-05-26T14:10:58.554413",
     "status": "completed"
    },
    "tags": []
   },
   "outputs": [
    {
     "name": "stdout",
     "output_type": "stream",
     "text": [
      "Stored 'mo_df' (DataFrame)\n"
     ]
    }
   ],
   "source": [
    "mo_df = trandata\n",
    "\n",
    "%store mo_df\n"
   ]
  }
 ],
 "metadata": {
  "celltoolbar": "Tags",
  "kernelspec": {
   "display_name": "Python 3",
   "language": "python",
   "name": "python3"
  },
  "language_info": {
   "codemirror_mode": {
    "name": "ipython",
    "version": 3
   },
   "file_extension": ".py",
   "mimetype": "text/x-python",
   "name": "python",
   "nbconvert_exporter": "python",
   "pygments_lexer": "ipython3",
   "version": "3.7.6"
  },
  "papermill": {
   "default_parameters": {},
   "duration": 82.704253,
   "end_time": "2021-05-26T14:11:00.624659",
   "environment_variables": {},
   "exception": null,
   "input_path": "pipeline/make_output.ipynb",
   "output_path": "//hecate/Insurance_US/Product Development/Product Management/Global PPM/Reporting/Data Collection/Pipeline Reporting Scripts/GPMpipeline/instances/2021.Q1\\pipeline\\make_output05262021100343--Aus Problem.ipynb",
   "parameters": {
    "commit_message": "New AUS needed to be converted from json",
    "inst_datetime": "05262021100343",
    "percode": "2021.Q1",
    "run_control": 1
   },
   "start_time": "2021-05-26T14:09:37.920406",
   "version": "2.3.3"
  }
 },
 "nbformat": 4,
 "nbformat_minor": 5
}