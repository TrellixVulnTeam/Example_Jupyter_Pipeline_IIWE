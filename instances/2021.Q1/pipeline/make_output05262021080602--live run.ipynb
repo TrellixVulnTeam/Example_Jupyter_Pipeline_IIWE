{
 "cells": [
  {
   "cell_type": "markdown",
   "id": "1e0cbabd",
   "metadata": {
    "papermill": {
     "duration": 0.254613,
     "end_time": "2021-05-26T12:10:59.602883",
     "exception": false,
     "start_time": "2021-05-26T12:10:59.348270",
     "status": "completed"
    },
    "pycharm": {
     "name": "#%% md\n"
    },
    "tags": []
   },
   "source": [
    "<img src=\"../images/AzPTravel_PPM.png\">"
   ]
  },
  {
   "cell_type": "markdown",
   "id": "dcb27488",
   "metadata": {
    "papermill": {
     "duration": 0.318152,
     "end_time": "2021-05-26T12:11:00.170561",
     "exception": false,
     "start_time": "2021-05-26T12:10:59.852409",
     "status": "completed"
    },
    "tags": []
   },
   "source": [
    "## GPM Pipeline Output maker\n",
    "\n",
    "#### This script\n",
    "- loads the transformed parquet file\n",
    "- creates the file {parquet}.localcur.csv\n",
    "- makes the Euro conversions\n",
    "- outputs {parquet}.euroconv.csv\n"
   ]
  },
  {
   "cell_type": "markdown",
   "id": "be19cee6",
   "metadata": {
    "papermill": {
     "duration": 0.239602,
     "end_time": "2021-05-26T12:11:00.668295",
     "exception": false,
     "start_time": "2021-05-26T12:11:00.428693",
     "status": "completed"
    },
    "tags": []
   },
   "source": [
    "#### Parameters section"
   ]
  },
  {
   "cell_type": "code",
   "execution_count": 1,
   "id": "e799f8e0",
   "metadata": {
    "execution": {
     "iopub.execute_input": "2021-05-26T12:11:01.213517Z",
     "iopub.status.busy": "2021-05-26T12:11:01.208525Z",
     "iopub.status.idle": "2021-05-26T12:11:01.220518Z",
     "shell.execute_reply": "2021-05-26T12:11:01.222515Z"
    },
    "papermill": {
     "duration": 0.283564,
     "end_time": "2021-05-26T12:11:01.222515",
     "exception": false,
     "start_time": "2021-05-26T12:11:00.938951",
     "status": "completed"
    },
    "pycharm": {
     "name": "#%%\n"
    },
    "tags": [
     "parameters"
    ]
   },
   "outputs": [],
   "source": [
    "commit = \"\"\n",
    "# give a reason for the run\n",
    "\n",
    "percode = \"20XX.QX\"\n",
    "# Data Collection Code, this controls file paths and output names\n",
    "\n",
    "run_type = 1\n",
    "#run_type =  0 - lite run with no reporting, not recommended.\n",
    "#run_type =  1 - lite run with normal reporting, default setting.\n",
    "#run_type =  2 - Heavy run with full reporting, available for audits and troubleshooting.\n",
    "\n",
    "specialchars = \"-GTHtest\"\n",
    "# optional - add up to a 12 character code in order to mark your instance record .ipynb\n",
    "\n",
    "from datetime import datetime\n",
    "inst_datetime = datetime.now().strftime(\"%m%d%Y%H%M%S\")\n",
    "# a single datetime stamp for the full instance run\n"
   ]
  },
  {
   "cell_type": "code",
   "execution_count": 2,
   "id": "f114a311",
   "metadata": {
    "execution": {
     "iopub.execute_input": "2021-05-26T12:11:01.707895Z",
     "iopub.status.busy": "2021-05-26T12:11:01.703893Z",
     "iopub.status.idle": "2021-05-26T12:11:01.713899Z",
     "shell.execute_reply": "2021-05-26T12:11:01.715450Z"
    },
    "papermill": {
     "duration": 0.254104,
     "end_time": "2021-05-26T12:11:01.716432",
     "exception": false,
     "start_time": "2021-05-26T12:11:01.462328",
     "status": "completed"
    },
    "tags": [
     "injected-parameters"
    ]
   },
   "outputs": [],
   "source": [
    "# Parameters\n",
    "run_control = 1\n",
    "percode = \"2021.Q1\"\n",
    "commit_message = \"Add PL and CZ, added standard reporting to pipeline, Travel LOB report is not knitting.\"\n",
    "inst_datetime = \"05262021080602\"\n"
   ]
  },
  {
   "cell_type": "markdown",
   "id": "5e4ef2b3",
   "metadata": {
    "papermill": {
     "duration": 0.306529,
     "end_time": "2021-05-26T12:11:02.280471",
     "exception": false,
     "start_time": "2021-05-26T12:11:01.973942",
     "status": "completed"
    },
    "tags": []
   },
   "source": [
    "### Set Run Control\n",
    "\n",
    "##### 0 - lite run with no reporting, not recommended.\n",
    "##### 1 - lite run with normal reporting, default setting.\n",
    "##### 2 - Heavy run with full reporting, available for audits and troubleshooting."
   ]
  },
  {
   "cell_type": "code",
   "execution_count": 3,
   "id": "ab9bfccd",
   "metadata": {
    "execution": {
     "iopub.execute_input": "2021-05-26T12:11:02.774110Z",
     "iopub.status.busy": "2021-05-26T12:11:02.771113Z",
     "iopub.status.idle": "2021-05-26T12:11:02.783112Z",
     "shell.execute_reply": "2021-05-26T12:11:02.785110Z"
    },
    "papermill": {
     "duration": 0.263883,
     "end_time": "2021-05-26T12:11:02.785110",
     "exception": false,
     "start_time": "2021-05-26T12:11:02.521227",
     "status": "completed"
    },
    "pycharm": {
     "name": "#%%\n"
    },
    "tags": []
   },
   "outputs": [],
   "source": [
    "run_control = 0 # in development mode"
   ]
  },
  {
   "cell_type": "markdown",
   "id": "8fcf725c",
   "metadata": {
    "papermill": {
     "duration": 0.269185,
     "end_time": "2021-05-26T12:11:03.306209",
     "exception": false,
     "start_time": "2021-05-26T12:11:03.037024",
     "status": "completed"
    },
    "tags": []
   },
   "source": [
    "#### Packages used"
   ]
  },
  {
   "cell_type": "code",
   "execution_count": 4,
   "id": "13a9f1b5",
   "metadata": {
    "execution": {
     "iopub.execute_input": "2021-05-26T12:11:03.816460Z",
     "iopub.status.busy": "2021-05-26T12:11:03.813455Z",
     "iopub.status.idle": "2021-05-26T12:11:04.814305Z",
     "shell.execute_reply": "2021-05-26T12:11:04.816303Z"
    },
    "papermill": {
     "duration": 1.26485,
     "end_time": "2021-05-26T12:11:04.816303",
     "exception": false,
     "start_time": "2021-05-26T12:11:03.551453",
     "status": "completed"
    },
    "pycharm": {
     "name": "#%%\n"
    },
    "tags": []
   },
   "outputs": [],
   "source": [
    "import sys\n",
    "import os\n",
    "import pandas as pd"
   ]
  },
  {
   "cell_type": "code",
   "execution_count": 5,
   "id": "66fb72a9",
   "metadata": {
    "execution": {
     "iopub.execute_input": "2021-05-26T12:11:05.522734Z",
     "iopub.status.busy": "2021-05-26T12:11:05.516734Z",
     "iopub.status.idle": "2021-05-26T12:11:05.528734Z",
     "shell.execute_reply": "2021-05-26T12:11:05.529733Z"
    },
    "papermill": {
     "duration": 0.437715,
     "end_time": "2021-05-26T12:11:05.530734",
     "exception": false,
     "start_time": "2021-05-26T12:11:05.093019",
     "status": "completed"
    },
    "pycharm": {
     "name": "#%%\n"
    },
    "tags": []
   },
   "outputs": [],
   "source": [
    "default_DC = \"2021.Q1\"\n",
    "\n",
    "try:\n",
    "    if sys.argv[1] == \"-f\":\n",
    "        percode = default_DC\n",
    "    else:\n",
    "        percode = sys.argv[1]\n",
    "\n",
    "except IndexError:\n",
    "    percode = default_DC\n",
    "except NameError:\n",
    "    percode = default_DC"
   ]
  },
  {
   "cell_type": "markdown",
   "id": "4e45f903",
   "metadata": {
    "papermill": {
     "duration": 0.240993,
     "end_time": "2021-05-26T12:11:06.019375",
     "exception": false,
     "start_time": "2021-05-26T12:11:05.778382",
     "status": "completed"
    },
    "tags": []
   },
   "source": [
    "#### Convert paths and files to variables.\n",
    "#### Read data into pd DataFrames.\n",
    "#### Make paths for the live sources."
   ]
  },
  {
   "cell_type": "code",
   "execution_count": 6,
   "id": "db3b3a22",
   "metadata": {
    "execution": {
     "iopub.execute_input": "2021-05-26T12:11:06.533904Z",
     "iopub.status.busy": "2021-05-26T12:11:06.528910Z",
     "iopub.status.idle": "2021-05-26T12:11:06.540906Z",
     "shell.execute_reply": "2021-05-26T12:11:06.541906Z"
    },
    "papermill": {
     "duration": 0.257986,
     "end_time": "2021-05-26T12:11:06.542909",
     "exception": false,
     "start_time": "2021-05-26T12:11:06.284923",
     "status": "completed"
    },
    "pycharm": {
     "name": "#%%\n"
    },
    "tags": []
   },
   "outputs": [],
   "source": [
    "rt_path = f'//hecate/Insurance_US/Product Development/Product Manag' \\\n",
    "          f'ement/Global PPM/Reporting/Data Collection/Production/{str(percode)}'\n",
    "tempfile = os.path.join(rt_path, f'{str(percode)}.localcur.parquet')\n",
    "gppm_file = os.path.join(rt_path, f'GPPM_Input_{str(percode)}.xlsx')"
   ]
  },
  {
   "cell_type": "markdown",
   "id": "25bbb8d6",
   "metadata": {
    "papermill": {
     "duration": 0.306913,
     "end_time": "2021-05-26T12:11:07.092552",
     "exception": false,
     "start_time": "2021-05-26T12:11:06.785639",
     "status": "completed"
    },
    "tags": []
   },
   "source": [
    "#### Read source"
   ]
  },
  {
   "cell_type": "code",
   "execution_count": 7,
   "id": "b78ad30a",
   "metadata": {
    "execution": {
     "iopub.execute_input": "2021-05-26T12:11:07.617196Z",
     "iopub.status.busy": "2021-05-26T12:11:07.612198Z",
     "iopub.status.idle": "2021-05-26T12:11:08.890516Z",
     "shell.execute_reply": "2021-05-26T12:11:08.893518Z"
    },
    "papermill": {
     "duration": 1.555035,
     "end_time": "2021-05-26T12:11:08.893518",
     "exception": false,
     "start_time": "2021-05-26T12:11:07.338483",
     "status": "completed"
    },
    "pycharm": {
     "name": "#%%\n"
    },
    "tags": []
   },
   "outputs": [
    {
     "name": "stdout",
     "output_type": "stream",
     "text": [
      "     business_unit                   submission_file country currency  \\\n",
      "0               AU  us_dat_au_02172021174434.parquet      AU      AUD   \n",
      "1               AU  us_dat_au_02172021174434.parquet      AU      AUD   \n",
      "2               AU  us_dat_au_02172021174434.parquet      AU      AUD   \n",
      "3               AU  us_dat_au_02172021174434.parquet      AU      AUD   \n",
      "4               AU  us_dat_au_02172021174434.parquet      AU      AUD   \n",
      "...            ...                               ...     ...      ...   \n",
      "1965            PT  us_dat_pt_05202021121056.parquet      PT      EUR   \n",
      "1966            PT  us_dat_pt_05202021121056.parquet      PT      EUR   \n",
      "1967            PT  us_dat_pt_05202021121056.parquet      PT      EUR   \n",
      "1968            PT  us_dat_pt_05202021121056.parquet      PT      EUR   \n",
      "1969            PT  us_dat_pt_05202021121056.parquet      PT      EUR   \n",
      "\n",
      "                           region reporting_date_from reporting_date_to  \\\n",
      "0                            APAC          2020-01-01        2020-12-31   \n",
      "1                            APAC          2020-01-01        2020-12-31   \n",
      "2                            APAC          2020-01-01        2020-12-31   \n",
      "3                            APAC          2020-01-01        2020-12-31   \n",
      "4                            APAC          2020-01-01        2020-12-31   \n",
      "...                           ...                 ...               ...   \n",
      "1965  Western Europe, LATAM & MEA          2021-01-01        2021-03-31   \n",
      "1966  Western Europe, LATAM & MEA          2021-01-01        2021-03-31   \n",
      "1967  Western Europe, LATAM & MEA          2021-01-01        2021-03-31   \n",
      "1968  Western Europe, LATAM & MEA          2021-01-01        2021-03-31   \n",
      "1969  Western Europe, LATAM & MEA          2021-01-01        2021-03-31   \n",
      "\n",
      "     date_of_analysis         type_of_analysis  analysed_months  ...  \\\n",
      "0          2021-02-08  Most Recently 12 Months             12.0  ...   \n",
      "1          2021-02-08  Most Recently 12 Months             12.0  ...   \n",
      "2          2021-02-08  Most Recently 12 Months             12.0  ...   \n",
      "3          2021-02-08  Most Recently 12 Months             12.0  ...   \n",
      "4          2021-02-08  Most Recently 12 Months             12.0  ...   \n",
      "...               ...                      ...              ...  ...   \n",
      "1965       2021-03-31             Year To Date              3.0  ...   \n",
      "1966       2021-03-31             Year To Date              3.0  ...   \n",
      "1967       2021-03-31             Year To Date              3.0  ...   \n",
      "1968       2021-03-31             Year To Date              3.0  ...   \n",
      "1969       2021-03-31             Year To Date              3.0  ...   \n",
      "\n",
      "                         selected_fields_for_duplicates  \\\n",
      "0     AUInsuranceLocalB2B2CTravelAllianz Affiliation...   \n",
      "1     AUInsuranceLocalB2B2CTravelOffline Travel Agen...   \n",
      "2     AUInsuranceLocalB2B2CTravelOffline Travel Agen...   \n",
      "3     AUInsuranceLocalB2B2CTravelAllianz Affiliation...   \n",
      "4     AUInsuranceLocalB2B2CTravelCarriers - Airlines...   \n",
      "...                                                 ...   \n",
      "1965  PTReinsuranceLocalB2B2CTravelDirect (Allianz P...   \n",
      "1966  PTReinsuranceLocalB2B2CTravelDirect (Allianz P...   \n",
      "1967  PTReinsuranceLocalB2B2CTravelDirect (Allianz P...   \n",
      "1968  PTReinsuranceLocalB2B2CTravelDirect (Allianz P...   \n",
      "1969  PTReinsuranceLocalB2BTravelDirect (Allianz Par...   \n",
      "\n",
      "      pct_of_ibnr_on_ocr__ibnr  unnamed:_66 ibnrsub   rep_date  \\\n",
      "0                          0.0          0.0     0.0 2020-12-31   \n",
      "1                          0.0          0.0     0.0 2020-12-31   \n",
      "2                          0.0          0.0     0.0 2020-12-31   \n",
      "3                          0.0          0.0     0.0 2020-12-31   \n",
      "4                          0.0          0.0     0.0 2020-12-31   \n",
      "...                        ...          ...     ...        ...   \n",
      "1965                       0.0          0.0     0.0 2021-03-31   \n",
      "1966                       0.0          0.0     0.0 2021-03-31   \n",
      "1967                       0.0          0.0     0.0 2021-03-31   \n",
      "1968                       0.0          0.0     0.0 2021-03-31   \n",
      "1969                       0.0          0.0     0.0 2021-03-31   \n",
      "\n",
      "     __index_level_0__ bu_descr.x month_of_analysis_max      reporting_period  \\\n",
      "0                    0  Australia              2021 Feb  2020 Jan to 2020 Dec   \n",
      "1                    1  Australia              2021 Feb  2020 Jan to 2020 Dec   \n",
      "2                    2  Australia              2021 Feb  2020 Jan to 2020 Dec   \n",
      "3                    3  Australia              2021 Feb  2020 Jan to 2020 Dec   \n",
      "4                    4  Australia              2021 Feb  2020 Jan to 2020 Dec   \n",
      "...                ...        ...                   ...                   ...   \n",
      "1965              3466   Portugal              2021 Mar  2021 Jan to 2021 Mar   \n",
      "1966              3467   Portugal              2021 Mar  2021 Jan to 2021 Mar   \n",
      "1967              3468   Portugal              2021 Mar  2021 Jan to 2021 Mar   \n",
      "1968              3469   Portugal              2021 Mar  2021 Jan to 2021 Mar   \n",
      "1969              3470   Portugal              2021 Mar  2021 Jan to 2021 Mar   \n",
      "\n",
      "     bu_descr.y  \n",
      "0     Australia  \n",
      "1     Australia  \n",
      "2     Australia  \n",
      "3     Australia  \n",
      "4     Australia  \n",
      "...         ...  \n",
      "1965   Portugal  \n",
      "1966   Portugal  \n",
      "1967   Portugal  \n",
      "1968   Portugal  \n",
      "1969   Portugal  \n",
      "\n",
      "[1970 rows x 83 columns]\n"
     ]
    }
   ],
   "source": [
    "mo_input = pd.read_parquet(tempfile, engine='pyarrow')\n",
    "\n",
    "print(mo_input)"
   ]
  },
  {
   "cell_type": "markdown",
   "id": "ac93df50",
   "metadata": {
    "papermill": {
     "duration": 0.271205,
     "end_time": "2021-05-26T12:11:09.406913",
     "exception": false,
     "start_time": "2021-05-26T12:11:09.135708",
     "status": "completed"
    },
    "tags": []
   },
   "source": [
    "#### Output local currency csv"
   ]
  },
  {
   "cell_type": "code",
   "execution_count": 8,
   "id": "15cdfaf6",
   "metadata": {
    "execution": {
     "iopub.execute_input": "2021-05-26T12:11:09.932143Z",
     "iopub.status.busy": "2021-05-26T12:11:09.927142Z",
     "iopub.status.idle": "2021-05-26T12:11:18.962778Z",
     "shell.execute_reply": "2021-05-26T12:11:18.963777Z"
    },
    "papermill": {
     "duration": 9.288685,
     "end_time": "2021-05-26T12:11:18.963777",
     "exception": false,
     "start_time": "2021-05-26T12:11:09.675092",
     "status": "completed"
    },
    "pycharm": {
     "is_executing": true,
     "name": "#%%\n"
    },
    "tags": []
   },
   "outputs": [],
   "source": [
    "mo_input.to_csv(f'//hecate/Insurance_US/Product Development/Product Management/Global PPM/Reporting/Data Collection/Production/{str(percode)}\\\\{str(percode)}.localcur.csv', ',', index=False, encoding='utf-8-sig')"
   ]
  },
  {
   "cell_type": "markdown",
   "id": "11d1aa76",
   "metadata": {
    "papermill": {
     "duration": 0.252565,
     "end_time": "2021-05-26T12:11:19.543191",
     "exception": false,
     "start_time": "2021-05-26T12:11:19.290626",
     "status": "completed"
    },
    "tags": []
   },
   "source": [
    "#### Convert all currency to Euro\n"
   ]
  },
  {
   "cell_type": "code",
   "execution_count": 9,
   "id": "3a8ca000",
   "metadata": {
    "execution": {
     "iopub.execute_input": "2021-05-26T12:11:20.076154Z",
     "iopub.status.busy": "2021-05-26T12:11:20.069166Z",
     "iopub.status.idle": "2021-05-26T12:11:20.833099Z",
     "shell.execute_reply": "2021-05-26T12:11:20.834098Z"
    },
    "papermill": {
     "duration": 1.03594,
     "end_time": "2021-05-26T12:11:20.834098",
     "exception": false,
     "start_time": "2021-05-26T12:11:19.798158",
     "status": "completed"
    },
    "pycharm": {
     "is_executing": true,
     "name": "#%%\n"
    },
    "tags": []
   },
   "outputs": [],
   "source": [
    "\n",
    "cflds = ['written_revenues_net_of_taxes', 'written_revenues', 'earned_revenues_net_of_taxes',\n",
    "         'earned_revenues', 'earned_base_commissions', 'earned_over_commissions', 'upfront_cash_payments',\n",
    "         'total_compensation', 'paid_claims', 'ocr__ibnr', 'actual_incurred_losses',\n",
    "         'internal_variable_costs', 'az_tech_fee', 'internal_fixed_costs',\n",
    "         'hq_fees', 'total_expenses', 'risk_premium', 'profit_or_loss', 'cm_hq_view', 'cm_bu_view', ]\n",
    "\n",
    "\n",
    "\"\"\"reads in the input for the Euro conversion\"\"\"\n",
    "euro = pd.read_excel(gppm_file, sheet_name=\"Euro_Rates\")\n"
   ]
  },
  {
   "cell_type": "markdown",
   "id": "4b9e9695",
   "metadata": {
    "papermill": {
     "duration": 0.252995,
     "end_time": "2021-05-26T12:11:21.331250",
     "exception": false,
     "start_time": "2021-05-26T12:11:21.078255",
     "status": "completed"
    },
    "tags": []
   },
   "source": [
    "#### Make a copy for debug purposes"
   ]
  },
  {
   "cell_type": "code",
   "execution_count": 10,
   "id": "0b0eec76",
   "metadata": {
    "execution": {
     "iopub.execute_input": "2021-05-26T12:11:21.826140Z",
     "iopub.status.busy": "2021-05-26T12:11:21.823141Z",
     "iopub.status.idle": "2021-05-26T12:11:21.834142Z",
     "shell.execute_reply": "2021-05-26T12:11:21.835139Z"
    },
    "papermill": {
     "duration": 0.259419,
     "end_time": "2021-05-26T12:11:21.836138",
     "exception": false,
     "start_time": "2021-05-26T12:11:21.576719",
     "status": "completed"
    },
    "pycharm": {
     "is_executing": true,
     "name": "#%%\n"
    },
    "tags": []
   },
   "outputs": [],
   "source": [
    "trandata = mo_input.copy()"
   ]
  },
  {
   "cell_type": "markdown",
   "id": "68ac44c3",
   "metadata": {
    "papermill": {
     "duration": 0.239718,
     "end_time": "2021-05-26T12:11:22.322850",
     "exception": false,
     "start_time": "2021-05-26T12:11:22.083132",
     "status": "completed"
    },
    "tags": []
   },
   "source": [
    "#### Convert Currency Below"
   ]
  },
  {
   "cell_type": "code",
   "execution_count": 11,
   "id": "e7aac9e5",
   "metadata": {
    "execution": {
     "iopub.execute_input": "2021-05-26T12:11:22.812232Z",
     "iopub.status.busy": "2021-05-26T12:11:22.806247Z",
     "iopub.status.idle": "2021-05-26T12:11:22.819232Z",
     "shell.execute_reply": "2021-05-26T12:11:22.820234Z"
    },
    "papermill": {
     "duration": 0.268869,
     "end_time": "2021-05-26T12:11:22.821235",
     "exception": false,
     "start_time": "2021-05-26T12:11:22.552366",
     "status": "completed"
    },
    "pycharm": {
     "is_executing": true,
     "name": "#%%\n"
    },
    "tags": []
   },
   "outputs": [],
   "source": [
    "# create DataFrame of unique currencies with rates\n",
    "\n",
    "fx_uni = euro[['CURR_CODE','RATE']]\n",
    "fx_uni = fx_uni.drop_duplicates()"
   ]
  },
  {
   "cell_type": "code",
   "execution_count": 12,
   "id": "637b2140",
   "metadata": {
    "execution": {
     "iopub.execute_input": "2021-05-26T12:11:23.327352Z",
     "iopub.status.busy": "2021-05-26T12:11:23.320346Z",
     "iopub.status.idle": "2021-05-26T12:11:23.341344Z",
     "shell.execute_reply": "2021-05-26T12:11:23.342348Z"
    },
    "papermill": {
     "duration": 0.274997,
     "end_time": "2021-05-26T12:11:23.343348",
     "exception": false,
     "start_time": "2021-05-26T12:11:23.068351",
     "status": "completed"
    },
    "pycharm": {
     "is_executing": true,
     "name": "#%%\n"
    },
    "tags": []
   },
   "outputs": [],
   "source": [
    "# add euro conversion rates to trandata DataFrame as column 'eur_rate'\n",
    "\n",
    "eurdata = pd.merge(trandata['currency'], fx_uni, left_on='currency', right_on='CURR_CODE', how='left')\n",
    "\n",
    "trandata['eur_rate'] = eurdata['RATE']"
   ]
  },
  {
   "cell_type": "markdown",
   "id": "1e9ba3e1",
   "metadata": {
    "papermill": {
     "duration": 0.263937,
     "end_time": "2021-05-26T12:11:23.856254",
     "exception": false,
     "start_time": "2021-05-26T12:11:23.592317",
     "status": "completed"
    },
    "tags": []
   },
   "source": [
    "#### Convert currency fields"
   ]
  },
  {
   "cell_type": "code",
   "execution_count": 13,
   "id": "2ecc8714",
   "metadata": {
    "execution": {
     "iopub.execute_input": "2021-05-26T12:11:24.364814Z",
     "iopub.status.busy": "2021-05-26T12:11:24.359821Z",
     "iopub.status.idle": "2021-05-26T12:11:24.754181Z",
     "shell.execute_reply": "2021-05-26T12:11:24.755181Z"
    },
    "papermill": {
     "duration": 0.646367,
     "end_time": "2021-05-26T12:11:24.756194",
     "exception": false,
     "start_time": "2021-05-26T12:11:24.109827",
     "status": "completed"
    },
    "pycharm": {
     "is_executing": true,
     "name": "#%%\n"
    },
    "tags": []
   },
   "outputs": [],
   "source": [
    "trandata[cflds] = trandata[cflds].divide(trandata['eur_rate'], axis=\"index\").fillna(0)\n"
   ]
  },
  {
   "cell_type": "markdown",
   "id": "da46fa7b",
   "metadata": {
    "papermill": {
     "duration": 0.251848,
     "end_time": "2021-05-26T12:11:25.272080",
     "exception": false,
     "start_time": "2021-05-26T12:11:25.020232",
     "status": "completed"
    },
    "tags": []
   },
   "source": [
    "#### Output to {percode}.euroconv.csv"
   ]
  },
  {
   "cell_type": "code",
   "execution_count": 14,
   "id": "487a8192",
   "metadata": {
    "execution": {
     "iopub.execute_input": "2021-05-26T12:11:25.773122Z",
     "iopub.status.busy": "2021-05-26T12:11:25.769127Z",
     "iopub.status.idle": "2021-05-26T12:11:34.937602Z",
     "shell.execute_reply": "2021-05-26T12:11:34.938602Z"
    },
    "papermill": {
     "duration": 9.416037,
     "end_time": "2021-05-26T12:11:34.939615",
     "exception": false,
     "start_time": "2021-05-26T12:11:25.523578",
     "status": "completed"
    },
    "pycharm": {
     "is_executing": true,
     "name": "#%%\n"
    },
    "tags": []
   },
   "outputs": [],
   "source": [
    "trandata.to_csv(f'//hecate/Insurance_US/Product Development/Product Management/Global PPM/Reporting/Data Collection/Production/{str(percode)}\\\\{str(percode)}.euroconv.csv', ',', index=False, encoding='utf-8-sig')\n",
    "\n",
    "\n"
   ]
  },
  {
   "cell_type": "markdown",
   "id": "df106fb8",
   "metadata": {
    "papermill": {
     "duration": 0.245515,
     "end_time": "2021-05-26T12:11:35.489067",
     "exception": false,
     "start_time": "2021-05-26T12:11:35.243552",
     "status": "completed"
    },
    "tags": []
   },
   "source": [
    "#### Store the DataFrame for other notebooks to use"
   ]
  },
  {
   "cell_type": "code",
   "execution_count": 15,
   "id": "53e5c2e8",
   "metadata": {
    "execution": {
     "iopub.execute_input": "2021-05-26T12:11:36.434196Z",
     "iopub.status.busy": "2021-05-26T12:11:36.430196Z",
     "iopub.status.idle": "2021-05-26T12:11:36.471340Z",
     "shell.execute_reply": "2021-05-26T12:11:36.472358Z"
    },
    "papermill": {
     "duration": 0.312146,
     "end_time": "2021-05-26T12:11:36.473344",
     "exception": false,
     "start_time": "2021-05-26T12:11:36.161198",
     "status": "completed"
    },
    "tags": []
   },
   "outputs": [
    {
     "name": "stdout",
     "output_type": "stream",
     "text": [
      "Stored 'mo_df' (DataFrame)\n"
     ]
    }
   ],
   "source": [
    "mo_df = trandata\n",
    "\n",
    "%store mo_df\n"
   ]
  }
 ],
 "metadata": {
  "celltoolbar": "Tags",
  "kernelspec": {
   "display_name": "Python 3",
   "language": "python",
   "name": "python3"
  },
  "language_info": {
   "codemirror_mode": {
    "name": "ipython",
    "version": 3
   },
   "file_extension": ".py",
   "mimetype": "text/x-python",
   "name": "python",
   "nbconvert_exporter": "python",
   "pygments_lexer": "ipython3",
   "version": "3.7.6"
  },
  "papermill": {
   "default_parameters": {},
   "duration": 40.723601,
   "end_time": "2021-05-26T12:11:37.170541",
   "environment_variables": {},
   "exception": null,
   "input_path": "pipeline/make_output.ipynb",
   "output_path": "//hecate/Insurance_US/Product Development/Product Management/Global PPM/Reporting/Data Collection/Pipeline Reporting Scripts/GPMpipeline/instances/2021.Q1\\pipeline\\make_output05262021080602--live run.ipynb",
   "parameters": {
    "commit_message": "Add PL and CZ, added standard reporting to pipeline, Travel LOB report is not knitting.",
    "inst_datetime": "05262021080602",
    "percode": "2021.Q1",
    "run_control": 1
   },
   "start_time": "2021-05-26T12:10:56.446940",
   "version": "2.3.3"
  }
 },
 "nbformat": 4,
 "nbformat_minor": 5
}