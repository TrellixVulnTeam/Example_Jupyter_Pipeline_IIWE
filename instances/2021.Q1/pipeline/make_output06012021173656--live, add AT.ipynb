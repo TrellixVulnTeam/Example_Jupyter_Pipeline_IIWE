{
 "cells": [
  {
   "cell_type": "markdown",
   "id": "f7e637a6",
   "metadata": {
    "papermill": {
     "duration": 0.153041,
     "end_time": "2021-06-01T22:20:23.526227",
     "exception": false,
     "start_time": "2021-06-01T22:20:23.373186",
     "status": "completed"
    },
    "pycharm": {
     "name": "#%% md\n"
    },
    "tags": []
   },
   "source": [
    "<img src=\"../images/AzPTravel_PPM.png\">"
   ]
  },
  {
   "cell_type": "markdown",
   "id": "116bd513",
   "metadata": {
    "papermill": {
     "duration": 0.176515,
     "end_time": "2021-06-01T22:20:23.876737",
     "exception": false,
     "start_time": "2021-06-01T22:20:23.700222",
     "status": "completed"
    },
    "tags": []
   },
   "source": [
    "## GPM Pipeline Output maker\n",
    "\n",
    "#### This script\n",
    "- loads the transformed parquet file\n",
    "- creates the file {parquet}.localcur.csv\n",
    "- makes the Euro conversions\n",
    "- outputs {parquet}.euroconv.csv\n"
   ]
  },
  {
   "cell_type": "markdown",
   "id": "1eec125d",
   "metadata": {
    "papermill": {
     "duration": 0.174113,
     "end_time": "2021-06-01T22:20:24.253852",
     "exception": false,
     "start_time": "2021-06-01T22:20:24.079739",
     "status": "completed"
    },
    "tags": []
   },
   "source": [
    "#### Parameters section"
   ]
  },
  {
   "cell_type": "code",
   "execution_count": 1,
   "id": "4931c1cb",
   "metadata": {
    "execution": {
     "iopub.execute_input": "2021-06-01T22:20:24.648362Z",
     "iopub.status.busy": "2021-06-01T22:20:24.639352Z",
     "iopub.status.idle": "2021-06-01T22:20:24.654364Z",
     "shell.execute_reply": "2021-06-01T22:20:24.665362Z"
    },
    "papermill": {
     "duration": 0.232697,
     "end_time": "2021-06-01T22:20:24.665362",
     "exception": false,
     "start_time": "2021-06-01T22:20:24.432665",
     "status": "completed"
    },
    "pycharm": {
     "name": "#%%\n"
    },
    "tags": [
     "parameters"
    ]
   },
   "outputs": [],
   "source": [
    "commit = \"\"\n",
    "# give a reason for the run\n",
    "\n",
    "percode = \"20XX.QX\"\n",
    "# Data Collection Code, this controls file paths and output names\n",
    "\n",
    "run_type = 1\n",
    "#run_type =  0 - lite run with no reporting, not recommended.\n",
    "#run_type =  1 - lite run with normal reporting, default setting.\n",
    "#run_type =  2 - Heavy run with full reporting, available for audits and troubleshooting.\n",
    "\n",
    "specialchars = \"-GTHtest\"\n",
    "# optional - add up to a 12 character code in order to mark your instance record .ipynb\n",
    "\n",
    "from datetime import datetime\n",
    "inst_datetime = datetime.now().strftime(\"%m%d%Y%H%M%S\")\n",
    "# a single datetime stamp for the full instance run\n"
   ]
  },
  {
   "cell_type": "code",
   "execution_count": 2,
   "id": "a12b9be5",
   "metadata": {
    "execution": {
     "iopub.execute_input": "2021-06-01T22:20:25.017994Z",
     "iopub.status.busy": "2021-06-01T22:20:25.016993Z",
     "iopub.status.idle": "2021-06-01T22:20:25.025769Z",
     "shell.execute_reply": "2021-06-01T22:20:25.027762Z"
    },
    "papermill": {
     "duration": 0.185622,
     "end_time": "2021-06-01T22:20:25.028765",
     "exception": false,
     "start_time": "2021-06-01T22:20:24.843143",
     "status": "completed"
    },
    "tags": [
     "injected-parameters"
    ]
   },
   "outputs": [],
   "source": [
    "# Parameters\n",
    "run_control = 1\n",
    "percode = \"2021.Q1\"\n",
    "commit_message = \"Live run, added AT, bad file name, rerun.\"\n",
    "inst_datetime = \"06012021173656\"\n"
   ]
  },
  {
   "cell_type": "markdown",
   "id": "4ee70f19",
   "metadata": {
    "papermill": {
     "duration": 0.168819,
     "end_time": "2021-06-01T22:20:25.384118",
     "exception": false,
     "start_time": "2021-06-01T22:20:25.215299",
     "status": "completed"
    },
    "tags": []
   },
   "source": [
    "### Set Run Control\n",
    "\n",
    "##### 0 - lite run with no reporting, not recommended.\n",
    "##### 1 - lite run with normal reporting, default setting.\n",
    "##### 2 - Heavy run with full reporting, available for audits and troubleshooting."
   ]
  },
  {
   "cell_type": "code",
   "execution_count": 3,
   "id": "f171b943",
   "metadata": {
    "execution": {
     "iopub.execute_input": "2021-06-01T22:20:25.767738Z",
     "iopub.status.busy": "2021-06-01T22:20:25.764739Z",
     "iopub.status.idle": "2021-06-01T22:20:25.772737Z",
     "shell.execute_reply": "2021-06-01T22:20:25.776737Z"
    },
    "papermill": {
     "duration": 0.204631,
     "end_time": "2021-06-01T22:20:25.776737",
     "exception": false,
     "start_time": "2021-06-01T22:20:25.572106",
     "status": "completed"
    },
    "pycharm": {
     "name": "#%%\n"
    },
    "tags": []
   },
   "outputs": [],
   "source": [
    "run_control = 0 # in development mode"
   ]
  },
  {
   "cell_type": "markdown",
   "id": "ae066ccd",
   "metadata": {
    "papermill": {
     "duration": 0.201671,
     "end_time": "2021-06-01T22:20:26.170407",
     "exception": false,
     "start_time": "2021-06-01T22:20:25.968736",
     "status": "completed"
    },
    "tags": []
   },
   "source": [
    "#### Packages used"
   ]
  },
  {
   "cell_type": "code",
   "execution_count": 4,
   "id": "4e2d7491",
   "metadata": {
    "execution": {
     "iopub.execute_input": "2021-06-01T22:20:26.557886Z",
     "iopub.status.busy": "2021-06-01T22:20:26.555884Z",
     "iopub.status.idle": "2021-06-01T22:20:29.130981Z",
     "shell.execute_reply": "2021-06-01T22:20:29.132979Z"
    },
    "papermill": {
     "duration": 2.791044,
     "end_time": "2021-06-01T22:20:29.133987",
     "exception": false,
     "start_time": "2021-06-01T22:20:26.342943",
     "status": "completed"
    },
    "pycharm": {
     "name": "#%%\n"
    },
    "tags": []
   },
   "outputs": [],
   "source": [
    "import sys\n",
    "import os\n",
    "import pandas as pd"
   ]
  },
  {
   "cell_type": "code",
   "execution_count": 5,
   "id": "0628d2f2",
   "metadata": {
    "execution": {
     "iopub.execute_input": "2021-06-01T22:20:29.506623Z",
     "iopub.status.busy": "2021-06-01T22:20:29.499619Z",
     "iopub.status.idle": "2021-06-01T22:20:29.512610Z",
     "shell.execute_reply": "2021-06-01T22:20:29.513616Z"
    },
    "papermill": {
     "duration": 0.192515,
     "end_time": "2021-06-01T22:20:29.514608",
     "exception": false,
     "start_time": "2021-06-01T22:20:29.322093",
     "status": "completed"
    },
    "pycharm": {
     "name": "#%%\n"
    },
    "tags": []
   },
   "outputs": [],
   "source": [
    "default_DC = \"2021.Q1\"\n",
    "\n",
    "try:\n",
    "    if sys.argv[1] == \"-f\":\n",
    "        percode = default_DC\n",
    "    else:\n",
    "        percode = sys.argv[1]\n",
    "\n",
    "except IndexError:\n",
    "    percode = default_DC\n",
    "except NameError:\n",
    "    percode = default_DC"
   ]
  },
  {
   "cell_type": "markdown",
   "id": "4ba72e4b",
   "metadata": {
    "papermill": {
     "duration": 0.197051,
     "end_time": "2021-06-01T22:20:29.885657",
     "exception": false,
     "start_time": "2021-06-01T22:20:29.688606",
     "status": "completed"
    },
    "tags": []
   },
   "source": [
    "#### Convert paths and files to variables.\n",
    "#### Read data into pd DataFrames.\n",
    "#### Make paths for the live sources."
   ]
  },
  {
   "cell_type": "code",
   "execution_count": 6,
   "id": "fdae5ae7",
   "metadata": {
    "execution": {
     "iopub.execute_input": "2021-06-01T22:20:30.272882Z",
     "iopub.status.busy": "2021-06-01T22:20:30.267697Z",
     "iopub.status.idle": "2021-06-01T22:20:30.279993Z",
     "shell.execute_reply": "2021-06-01T22:20:30.280985Z"
    },
    "papermill": {
     "duration": 0.210796,
     "end_time": "2021-06-01T22:20:30.281976",
     "exception": false,
     "start_time": "2021-06-01T22:20:30.071180",
     "status": "completed"
    },
    "pycharm": {
     "name": "#%%\n"
    },
    "tags": []
   },
   "outputs": [],
   "source": [
    "rt_path = os.path.join('\\\\\\\\hecate\\\\Insurance_US\\\\Product Development\\\\Product Management\\\\Global PPM\\\\Reporting\\\\Data Collection\\\\Production',percode)\n",
    "\n",
    "tempfile = os.path.join(rt_path, f'{percode}.localcur.csv')\n",
    "\n",
    "gppm_file = os.path.join(rt_path, f'GPPM_Input_{str(percode)}.xlsx')\n",
    "\n"
   ]
  },
  {
   "cell_type": "markdown",
   "id": "29d6da60",
   "metadata": {
    "papermill": {
     "duration": 0.184291,
     "end_time": "2021-06-01T22:20:30.652794",
     "exception": false,
     "start_time": "2021-06-01T22:20:30.468503",
     "status": "completed"
    },
    "tags": []
   },
   "source": [
    "### Make Files"
   ]
  },
  {
   "cell_type": "code",
   "execution_count": 7,
   "id": "11a2f71f",
   "metadata": {
    "execution": {
     "iopub.execute_input": "2021-06-01T22:20:31.071646Z",
     "iopub.status.busy": "2021-06-01T22:20:31.068663Z",
     "iopub.status.idle": "2021-06-01T22:20:31.078653Z",
     "shell.execute_reply": "2021-06-01T22:20:31.080657Z"
    },
    "papermill": {
     "duration": 0.250861,
     "end_time": "2021-06-01T22:20:31.080657",
     "exception": false,
     "start_time": "2021-06-01T22:20:30.829796",
     "status": "completed"
    },
    "tags": []
   },
   "outputs": [],
   "source": [
    "local_file = f'{percode}.localcur.csv'\n",
    "euro_file = f'{percode}.euroconv.csv'\n",
    "\n"
   ]
  },
  {
   "cell_type": "markdown",
   "id": "ccafe004",
   "metadata": {
    "papermill": {
     "duration": 0.178553,
     "end_time": "2021-06-01T22:20:31.429426",
     "exception": false,
     "start_time": "2021-06-01T22:20:31.250873",
     "status": "completed"
    },
    "tags": []
   },
   "source": [
    "#### Read source"
   ]
  },
  {
   "cell_type": "code",
   "execution_count": 8,
   "id": "4639f9fc",
   "metadata": {
    "execution": {
     "iopub.execute_input": "2021-06-01T22:20:31.820436Z",
     "iopub.status.busy": "2021-06-01T22:20:31.814430Z",
     "iopub.status.idle": "2021-06-01T22:20:35.044450Z",
     "shell.execute_reply": "2021-06-01T22:20:35.046448Z"
    },
    "papermill": {
     "duration": 3.442021,
     "end_time": "2021-06-01T22:20:35.046448",
     "exception": false,
     "start_time": "2021-06-01T22:20:31.604427",
     "status": "completed"
    },
    "pycharm": {
     "name": "#%%\n"
    },
    "tags": []
   },
   "outputs": [],
   "source": [
    "\n",
    "mo_input = pd.read_csv(tempfile, engine='python')\n",
    "\n",
    "\n",
    "\"\"\"reads in the input for the Euro conversion\"\"\"\n",
    "euro = pd.read_excel(gppm_file, sheet_name=\"Euro_Rates\")\n"
   ]
  },
  {
   "cell_type": "markdown",
   "id": "a15b366b",
   "metadata": {
    "papermill": {
     "duration": 0.189767,
     "end_time": "2021-06-01T22:20:35.420359",
     "exception": false,
     "start_time": "2021-06-01T22:20:35.230592",
     "status": "completed"
    },
    "tags": []
   },
   "source": [
    "#### Output local currency csv"
   ]
  },
  {
   "cell_type": "code",
   "execution_count": 9,
   "id": "d5c2500f",
   "metadata": {
    "execution": {
     "iopub.execute_input": "2021-06-01T22:20:35.855902Z",
     "iopub.status.busy": "2021-06-01T22:20:35.850885Z",
     "iopub.status.idle": "2021-06-01T22:20:44.285426Z",
     "shell.execute_reply": "2021-06-01T22:20:44.288418Z"
    },
    "papermill": {
     "duration": 8.646053,
     "end_time": "2021-06-01T22:20:44.288418",
     "exception": false,
     "start_time": "2021-06-01T22:20:35.642365",
     "status": "completed"
    },
    "pycharm": {
     "is_executing": true,
     "name": "#%%\n"
    },
    "tags": []
   },
   "outputs": [],
   "source": [
    "mo_input.to_csv(os.path.join(rt_path,local_file), ',', index=False, encoding='utf-8-sig')"
   ]
  },
  {
   "cell_type": "markdown",
   "id": "3f3cf175",
   "metadata": {
    "papermill": {
     "duration": 0.21062,
     "end_time": "2021-06-01T22:20:44.749228",
     "exception": false,
     "start_time": "2021-06-01T22:20:44.538608",
     "status": "completed"
    },
    "tags": []
   },
   "source": [
    "#### Convert all currency to Euro\n"
   ]
  },
  {
   "cell_type": "code",
   "execution_count": 10,
   "id": "ca70df25",
   "metadata": {
    "execution": {
     "iopub.execute_input": "2021-06-01T22:20:45.160638Z",
     "iopub.status.busy": "2021-06-01T22:20:45.155627Z",
     "iopub.status.idle": "2021-06-01T22:20:45.171627Z",
     "shell.execute_reply": "2021-06-01T22:20:45.170626Z"
    },
    "papermill": {
     "duration": 0.224397,
     "end_time": "2021-06-01T22:20:45.172628",
     "exception": false,
     "start_time": "2021-06-01T22:20:44.948231",
     "status": "completed"
    },
    "pycharm": {
     "is_executing": true,
     "name": "#%%\n"
    },
    "tags": []
   },
   "outputs": [],
   "source": [
    "\n",
    "\n",
    "cflds = ['written_revenues_net_of_taxes', 'written_revenues', 'earned_revenues_net_of_taxes',\n",
    "         'earned_revenues', 'earned_base_commissions', 'earned_over_commissions', 'upfront_cash_payments',\n",
    "         'total_compensation', 'paid_claims', 'ocr__ibnr', 'actual_incurred_losses',\n",
    "         'internal_variable_costs', 'az_tech_fee', 'internal_fixed_costs',\n",
    "         'hq_fees', 'total_expenses', 'risk_premium', 'profit_or_loss', 'cm_hq_view', 'cm_bu_view', ]\n",
    "\n",
    "alt_cflds = ['written_revenues_net_of_taxes', 'written_revenues', 'earned_revenues_net_of_taxes',\n",
    "         'earned_revenues', 'earned_base_commissions', 'earned_over-commissions', 'upfront_cash_payments',\n",
    "         'total_compensation', 'paid_claims', 'ocr_+_ibnr','actual_incurred_losses_(paid_+_ocr_+_ibnr)',\n",
    "         'internal_variable_costs_(excl._az_tech_fee)', 'az_tech_fee', 'internal_fixed_costs_(excl._hq_fees)',\n",
    "         'hq_fees', 'total_expenses', 'risk_premium', 'profit_or_loss', 'contribution_margin_-_hq_view', 'contribution_margin_-_bu_view', ]\n",
    "\n",
    "\n",
    "\n"
   ]
  },
  {
   "cell_type": "markdown",
   "id": "c0cb3b9f",
   "metadata": {
    "papermill": {
     "duration": 0.222084,
     "end_time": "2021-06-01T22:20:45.594759",
     "exception": false,
     "start_time": "2021-06-01T22:20:45.372675",
     "status": "completed"
    },
    "tags": []
   },
   "source": [
    "#### Make a copy for debug purposes"
   ]
  },
  {
   "cell_type": "code",
   "execution_count": 11,
   "id": "d698a3b1",
   "metadata": {
    "execution": {
     "iopub.execute_input": "2021-06-01T22:20:46.004797Z",
     "iopub.status.busy": "2021-06-01T22:20:46.001799Z",
     "iopub.status.idle": "2021-06-01T22:20:46.012799Z",
     "shell.execute_reply": "2021-06-01T22:20:46.014799Z"
    },
    "papermill": {
     "duration": 0.222517,
     "end_time": "2021-06-01T22:20:46.014799",
     "exception": false,
     "start_time": "2021-06-01T22:20:45.792282",
     "status": "completed"
    },
    "pycharm": {
     "is_executing": true,
     "name": "#%%\n"
    },
    "tags": []
   },
   "outputs": [],
   "source": [
    "trandata = mo_input.copy()"
   ]
  },
  {
   "cell_type": "markdown",
   "id": "5dd51b18",
   "metadata": {
    "papermill": {
     "duration": 0.206096,
     "end_time": "2021-06-01T22:20:46.408901",
     "exception": false,
     "start_time": "2021-06-01T22:20:46.202805",
     "status": "completed"
    },
    "tags": []
   },
   "source": [
    "#### Convert Currency Below"
   ]
  },
  {
   "cell_type": "code",
   "execution_count": 12,
   "id": "16ade450",
   "metadata": {
    "execution": {
     "iopub.execute_input": "2021-06-01T22:20:46.858414Z",
     "iopub.status.busy": "2021-06-01T22:20:46.848431Z",
     "iopub.status.idle": "2021-06-01T22:20:46.866413Z",
     "shell.execute_reply": "2021-06-01T22:20:46.868413Z"
    },
    "papermill": {
     "duration": 0.228465,
     "end_time": "2021-06-01T22:20:46.868413",
     "exception": false,
     "start_time": "2021-06-01T22:20:46.639948",
     "status": "completed"
    },
    "pycharm": {
     "is_executing": true,
     "name": "#%%\n"
    },
    "tags": []
   },
   "outputs": [],
   "source": [
    "# create DataFrame of unique currencies with rates\n",
    "\n",
    "fx_uni = euro[['CURR_CODE','RATE']]\n",
    "fx_uni = fx_uni.drop_duplicates()"
   ]
  },
  {
   "cell_type": "code",
   "execution_count": 13,
   "id": "537492a4",
   "metadata": {
    "execution": {
     "iopub.execute_input": "2021-06-01T22:20:47.297806Z",
     "iopub.status.busy": "2021-06-01T22:20:47.285798Z",
     "iopub.status.idle": "2021-06-01T22:20:47.333817Z",
     "shell.execute_reply": "2021-06-01T22:20:47.335803Z"
    },
    "papermill": {
     "duration": 0.277389,
     "end_time": "2021-06-01T22:20:47.336802",
     "exception": false,
     "start_time": "2021-06-01T22:20:47.059413",
     "status": "completed"
    },
    "pycharm": {
     "is_executing": true,
     "name": "#%%\n"
    },
    "tags": []
   },
   "outputs": [],
   "source": [
    "# add euro conversion rates to trandata DataFrame as column 'eur_rate'\n",
    "\n",
    "fx_uni = fx_uni.rename(columns = {\"CURR_CODE\":\"currency\"})\n",
    "\n",
    "eurdata = trandata.merge(fx_uni, how='left', left_on='currency', right_on='currency')\n",
    "\n",
    "\n",
    "trandata['eur_rate'] = eurdata['RATE']\n"
   ]
  },
  {
   "cell_type": "markdown",
   "id": "c0018677",
   "metadata": {
    "papermill": {
     "duration": 0.214545,
     "end_time": "2021-06-01T22:20:47.745955",
     "exception": false,
     "start_time": "2021-06-01T22:20:47.531410",
     "status": "completed"
    },
    "tags": []
   },
   "source": [
    "#### Convert currency fields"
   ]
  },
  {
   "cell_type": "code",
   "execution_count": 14,
   "id": "28260017",
   "metadata": {
    "execution": {
     "iopub.execute_input": "2021-06-01T22:20:48.169245Z",
     "iopub.status.busy": "2021-06-01T22:20:48.159238Z",
     "iopub.status.idle": "2021-06-01T22:20:48.368236Z",
     "shell.execute_reply": "2021-06-01T22:20:48.370238Z"
    },
    "papermill": {
     "duration": 0.417294,
     "end_time": "2021-06-01T22:20:48.370238",
     "exception": false,
     "start_time": "2021-06-01T22:20:47.952944",
     "status": "completed"
    },
    "pycharm": {
     "is_executing": true,
     "name": "#%%\n"
    },
    "tags": []
   },
   "outputs": [],
   "source": [
    "try:\n",
    "    trandata[cflds] = trandata[cflds].divide(trandata['eur_rate'], axis=\"index\").fillna(0)\n",
    "\n",
    "except KeyError:\n",
    "    trandata[alt_cflds] = trandata[alt_cflds].divide(trandata['eur_rate'], axis=\"index\").fillna(0)\n",
    "\n",
    "    \n"
   ]
  },
  {
   "cell_type": "markdown",
   "id": "0470ce53",
   "metadata": {
    "papermill": {
     "duration": 0.204876,
     "end_time": "2021-06-01T22:20:48.760589",
     "exception": false,
     "start_time": "2021-06-01T22:20:48.555713",
     "status": "completed"
    },
    "tags": []
   },
   "source": [
    "#### Output to {percode}.euroconv.csv"
   ]
  },
  {
   "cell_type": "code",
   "execution_count": 15,
   "id": "15297250",
   "metadata": {
    "execution": {
     "iopub.execute_input": "2021-06-01T22:20:49.173915Z",
     "iopub.status.busy": "2021-06-01T22:20:49.168906Z",
     "iopub.status.idle": "2021-06-01T22:20:58.158899Z",
     "shell.execute_reply": "2021-06-01T22:20:58.159897Z"
    },
    "papermill": {
     "duration": 9.205247,
     "end_time": "2021-06-01T22:20:58.159897",
     "exception": false,
     "start_time": "2021-06-01T22:20:48.954650",
     "status": "completed"
    },
    "pycharm": {
     "is_executing": true,
     "name": "#%%\n"
    },
    "tags": []
   },
   "outputs": [],
   "source": [
    "trandata.to_csv( os.path.join(   rt_path , euro_file) , ',', index=False, encoding='utf-8-sig')\n"
   ]
  },
  {
   "cell_type": "code",
   "execution_count": 16,
   "id": "83df45d9",
   "metadata": {
    "execution": {
     "iopub.execute_input": "2021-06-01T22:20:58.596065Z",
     "iopub.status.busy": "2021-06-01T22:20:58.594073Z",
     "iopub.status.idle": "2021-06-01T22:20:58.602069Z",
     "shell.execute_reply": "2021-06-01T22:20:58.603063Z"
    },
    "papermill": {
     "duration": 0.214636,
     "end_time": "2021-06-01T22:20:58.603063",
     "exception": false,
     "start_time": "2021-06-01T22:20:58.388427",
     "status": "completed"
    },
    "tags": []
   },
   "outputs": [],
   "source": [
    "#### Store the DataFrame for other notebooks to use and open the file location for the user to view the new files"
   ]
  },
  {
   "cell_type": "code",
   "execution_count": 17,
   "id": "12b6a564",
   "metadata": {
    "execution": {
     "iopub.execute_input": "2021-06-01T22:20:58.979777Z",
     "iopub.status.busy": "2021-06-01T22:20:58.973774Z",
     "iopub.status.idle": "2021-06-01T22:20:59.267317Z",
     "shell.execute_reply": "2021-06-01T22:20:59.264321Z"
    },
    "papermill": {
     "duration": 0.483132,
     "end_time": "2021-06-01T22:20:59.267317",
     "exception": false,
     "start_time": "2021-06-01T22:20:58.784185",
     "status": "completed"
    },
    "tags": []
   },
   "outputs": [
    {
     "name": "stdout",
     "output_type": "stream",
     "text": [
      "Stored 'mo_df' (DataFrame)\n"
     ]
    }
   ],
   "source": [
    "mo_df = trandata\n",
    "\n",
    "%store mo_df\n",
    "\n",
    "\n",
    "os.startfile( rt_path   )\n",
    "\n"
   ]
  },
  {
   "cell_type": "code",
   "execution_count": null,
   "id": "09b00260",
   "metadata": {
    "papermill": {
     "duration": 0.219746,
     "end_time": "2021-06-01T22:20:59.676582",
     "exception": false,
     "start_time": "2021-06-01T22:20:59.456836",
     "status": "completed"
    },
    "tags": []
   },
   "outputs": [],
   "source": []
  }
 ],
 "metadata": {
  "celltoolbar": "Tags",
  "kernelspec": {
   "display_name": "Python 3",
   "language": "python",
   "name": "python3"
  },
  "language_info": {
   "codemirror_mode": {
    "name": "ipython",
    "version": 3
   },
   "file_extension": ".py",
   "mimetype": "text/x-python",
   "name": "python",
   "nbconvert_exporter": "python",
   "pygments_lexer": "ipython3",
   "version": "3.7.6"
  },
  "papermill": {
   "default_parameters": {},
   "duration": 49.914915,
   "end_time": "2021-06-01T22:21:01.286772",
   "environment_variables": {},
   "exception": null,
   "input_path": "pipeline/make_output.ipynb",
   "output_path": "//hecate/Insurance_US/Product Development/Product Management/Global PPM/Reporting/Data Collection/Pipeline Reporting Scripts/GPMpipeline/instances/2021.Q1\\pipeline\\make_output06012021173656--live, add AT.ipynb",
   "parameters": {
    "commit_message": "Live run, added AT, bad file name, rerun.",
    "inst_datetime": "06012021173656",
    "percode": "2021.Q1",
    "run_control": 1
   },
   "start_time": "2021-06-01T22:20:11.371857",
   "version": "2.3.3"
  }
 },
 "nbformat": 4,
 "nbformat_minor": 5
}