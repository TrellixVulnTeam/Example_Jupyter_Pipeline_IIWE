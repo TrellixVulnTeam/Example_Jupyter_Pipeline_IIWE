{
 "cells": [
  {
   "cell_type": "markdown",
   "id": "8ef538af",
   "metadata": {
    "papermill": {
     "duration": 0.469857,
     "end_time": "2021-06-09T19:50:41.461916",
     "exception": false,
     "start_time": "2021-06-09T19:50:40.992059",
     "status": "completed"
    },
    "pycharm": {
     "name": "#%% md\n"
    },
    "tags": []
   },
   "source": [
    "<img src=\"../images/AzPTravel_PPM.png\">"
   ]
  },
  {
   "cell_type": "markdown",
   "id": "c89c8d65",
   "metadata": {
    "collapsed": true,
    "papermill": {
     "duration": 0.418664,
     "end_time": "2021-06-09T19:50:42.314565",
     "exception": false,
     "start_time": "2021-06-09T19:50:41.895901",
     "status": "completed"
    },
    "pycharm": {
     "name": "#%% md\n"
    },
    "tags": []
   },
   "source": [
    "## GPM Data Transformation Script\n",
    "\n",
    "#### This script transforms the single consolidated raw file \"{Data Collection}.csv\" into it's final GPM input versions \"{Data Collection Code}localcur.csv\" and \"{Data Collection Code}euroconv.csv\"\n",
    "#### Current transformations\n",
    "\n",
    "-    make headers lowercase and replace spaces with hyphens\n",
    "-    Remove any rows with null BUs\n",
    "-    validate columns in validcols\n",
    "-    output documented here: \"Global_Attribute_Catalog.xlsx\" you can also edit dataframe entries using the instructions in the file\n",
    "-    replace various null or placeholder values with \"Not Provided\"\n"
   ]
  },
  {
   "cell_type": "markdown",
   "id": "8433484d",
   "metadata": {
    "papermill": {
     "duration": 0.516492,
     "end_time": "2021-06-09T19:50:43.292762",
     "exception": false,
     "start_time": "2021-06-09T19:50:42.776270",
     "status": "completed"
    },
    "tags": []
   },
   "source": [
    "###"
   ]
  },
  {
   "cell_type": "code",
   "execution_count": 1,
   "id": "1103ad10",
   "metadata": {
    "execution": {
     "iopub.execute_input": "2021-06-09T19:50:44.491462Z",
     "iopub.status.busy": "2021-06-09T19:50:44.486464Z",
     "iopub.status.idle": "2021-06-09T19:50:44.498461Z",
     "shell.execute_reply": "2021-06-09T19:50:44.511070Z"
    },
    "papermill": {
     "duration": 0.727825,
     "end_time": "2021-06-09T19:50:44.511070",
     "exception": false,
     "start_time": "2021-06-09T19:50:43.783245",
     "status": "completed"
    },
    "pycharm": {
     "name": "#%%\n"
    },
    "tags": [
     "parameters"
    ]
   },
   "outputs": [],
   "source": [
    "commit = \"\"\n",
    "# give a reason for the run\n",
    "\n",
    "percode = \"20XX.QX\"\n",
    "# Data Collection Code, this controls file paths and output names\n",
    "\n",
    "run_type = 1\n",
    "#run_type =  0 - lite run with no reporting, not recommended.\n",
    "#run_type =  1 - lite run with normal reporting, default setting.\n",
    "#run_type =  2 - Heavy run with full reporting, available for audits and troubleshooting.\n",
    "\n",
    "specialchars = \"-GTHtest\"\n",
    "# optional - add up to a 12 character code in order to mark your instance record .ipynb\n",
    "\n",
    "from datetime import datetime\n",
    "inst_datetime = datetime.now().strftime(\"%m%d%Y%H%M%S\")\n",
    "# a single datetime stamp for the full instance run\n"
   ]
  },
  {
   "cell_type": "code",
   "execution_count": 2,
   "id": "5f7d0a36",
   "metadata": {
    "execution": {
     "iopub.execute_input": "2021-06-09T19:50:45.563641Z",
     "iopub.status.busy": "2021-06-09T19:50:45.555653Z",
     "iopub.status.idle": "2021-06-09T19:50:45.603032Z",
     "shell.execute_reply": "2021-06-09T19:50:45.611033Z"
    },
    "papermill": {
     "duration": 0.648629,
     "end_time": "2021-06-09T19:50:45.612035",
     "exception": false,
     "start_time": "2021-06-09T19:50:44.963406",
     "status": "completed"
    },
    "tags": [
     "injected-parameters"
    ]
   },
   "outputs": [],
   "source": [
    "# Parameters\n",
    "run_control = 1\n",
    "percode = \"2021.Q1\"\n",
    "commit_message = \"Live run,Late additions EI was not present.\"\n",
    "inst_datetime = \"06092021152753\"\n"
   ]
  },
  {
   "cell_type": "markdown",
   "id": "dbc91b8a",
   "metadata": {
    "papermill": {
     "duration": 0.419759,
     "end_time": "2021-06-09T19:50:46.582686",
     "exception": false,
     "start_time": "2021-06-09T19:50:46.162927",
     "status": "completed"
    },
    "tags": []
   },
   "source": [
    "### Set Run Control\n",
    "\n",
    "##### 0 - lite run with no reporting, not recommended.\n",
    "##### 1 - lite run with normal reporting, default setting.\n",
    "##### 2 - Heavy run with full reporting, available for audits and troubleshooting."
   ]
  },
  {
   "cell_type": "code",
   "execution_count": 3,
   "id": "a87d85ce",
   "metadata": {
    "execution": {
     "iopub.execute_input": "2021-06-09T19:50:47.781434Z",
     "iopub.status.busy": "2021-06-09T19:50:47.781434Z",
     "iopub.status.idle": "2021-06-09T19:50:47.797059Z",
     "shell.execute_reply": "2021-06-09T19:50:47.797059Z"
    },
    "papermill": {
     "duration": 0.584104,
     "end_time": "2021-06-09T19:50:47.797059",
     "exception": false,
     "start_time": "2021-06-09T19:50:47.212955",
     "status": "completed"
    },
    "pycharm": {
     "name": "#%%\n"
    },
    "tags": []
   },
   "outputs": [],
   "source": [
    "run_control = 0  # in development mode"
   ]
  },
  {
   "cell_type": "code",
   "execution_count": 4,
   "id": "5b654d1e",
   "metadata": {
    "execution": {
     "iopub.execute_input": "2021-06-09T19:50:48.780644Z",
     "iopub.status.busy": "2021-06-09T19:50:48.779647Z",
     "iopub.status.idle": "2021-06-09T19:50:53.516900Z",
     "shell.execute_reply": "2021-06-09T19:50:53.518889Z"
    },
    "papermill": {
     "duration": 5.314475,
     "end_time": "2021-06-09T19:50:53.518889",
     "exception": false,
     "start_time": "2021-06-09T19:50:48.204414",
     "status": "completed"
    },
    "pycharm": {
     "name": "#%%\n"
    },
    "tags": []
   },
   "outputs": [],
   "source": [
    "#### Packages used\n",
    "import sys\n",
    "import os\n",
    "import pandas as pd\n",
    "from pandas import ExcelWriter\n",
    "from numpy import nan"
   ]
  },
  {
   "cell_type": "code",
   "execution_count": 5,
   "id": "37913932",
   "metadata": {
    "execution": {
     "iopub.execute_input": "2021-06-09T19:50:54.469340Z",
     "iopub.status.busy": "2021-06-09T19:50:54.438049Z",
     "iopub.status.idle": "2021-06-09T19:50:54.500586Z",
     "shell.execute_reply": "2021-06-09T19:50:54.500586Z"
    },
    "papermill": {
     "duration": 0.456963,
     "end_time": "2021-06-09T19:50:54.516202",
     "exception": false,
     "start_time": "2021-06-09T19:50:54.059239",
     "status": "completed"
    },
    "pycharm": {
     "name": "#%%\n"
    },
    "tags": []
   },
   "outputs": [],
   "source": [
    "default_dc = \"2021.Q1\"\n",
    "\n",
    "try:\n",
    "    if sys.argv[1] == \"-f\":\n",
    "        percode = default_dc\n",
    "    else:\n",
    "        percode = sys.argv[1]\n",
    "\n",
    "except IndexError:\n",
    "    percode = default_dc\n",
    "except NameError:\n",
    "    percode = default_dc"
   ]
  },
  {
   "cell_type": "markdown",
   "id": "a178debc",
   "metadata": {
    "papermill": {
     "duration": 0.549348,
     "end_time": "2021-06-09T19:50:55.504840",
     "exception": false,
     "start_time": "2021-06-09T19:50:54.955492",
     "status": "completed"
    },
    "tags": []
   },
   "source": [
    "#### style settings"
   ]
  },
  {
   "cell_type": "code",
   "execution_count": 6,
   "id": "89bd4d6c",
   "metadata": {
    "execution": {
     "iopub.execute_input": "2021-06-09T19:50:56.631886Z",
     "iopub.status.busy": "2021-06-09T19:50:56.625888Z",
     "iopub.status.idle": "2021-06-09T19:50:56.640883Z",
     "shell.execute_reply": "2021-06-09T19:50:56.641887Z"
    },
    "papermill": {
     "duration": 0.611036,
     "end_time": "2021-06-09T19:50:56.642887",
     "exception": false,
     "start_time": "2021-06-09T19:50:56.031851",
     "status": "completed"
    },
    "tags": []
   },
   "outputs": [],
   "source": [
    "from IPython.core.interactiveshell import InteractiveShell\n",
    "InteractiveShell.ast_node_interactivity = \"all\""
   ]
  },
  {
   "cell_type": "markdown",
   "id": "3338e9f2",
   "metadata": {
    "papermill": {
     "duration": 0.726788,
     "end_time": "2021-06-09T19:50:57.938521",
     "exception": false,
     "start_time": "2021-06-09T19:50:57.211733",
     "status": "completed"
    },
    "tags": []
   },
   "source": [
    "#### Convert paths and files to variables.\n",
    "#### Read data into pd DataFrames.\n",
    "#### Make paths for the live sources."
   ]
  },
  {
   "cell_type": "code",
   "execution_count": 7,
   "id": "322a3697",
   "metadata": {
    "execution": {
     "iopub.execute_input": "2021-06-09T19:50:59.018287Z",
     "iopub.status.busy": "2021-06-09T19:50:59.018287Z",
     "iopub.status.idle": "2021-06-09T19:50:59.065187Z",
     "shell.execute_reply": "2021-06-09T19:50:59.065187Z"
    },
    "papermill": {
     "duration": 0.581963,
     "end_time": "2021-06-09T19:50:59.065187",
     "exception": false,
     "start_time": "2021-06-09T19:50:58.483224",
     "status": "completed"
    },
    "pycharm": {
     "name": "#%%\n"
    },
    "tags": []
   },
   "outputs": [],
   "source": [
    "rt_path = os.path.join( f'\\\\\\\\hecate\\\\Insurance_US\\\\Product Development\\\\Product Management\\\\Global PPM\\\\Reporting\\\\Data Collection\\\\Production',percode)\n",
    "\n",
    "infile = os.path.join(rt_path, f'{str(percode)}.parquet')\n",
    "gppm_file = os.path.join(rt_path, f'GPPM_Input_{str(percode)}.xlsx')\n",
    "atcat = os.path.join(rt_path, f'{percode}_Attribute_Catalog.xlsx')\n"
   ]
  },
  {
   "cell_type": "code",
   "execution_count": 8,
   "id": "699b18c2",
   "metadata": {
    "execution": {
     "iopub.execute_input": "2021-06-09T19:51:00.401533Z",
     "iopub.status.busy": "2021-06-09T19:51:00.398530Z",
     "iopub.status.idle": "2021-06-09T19:51:00.405531Z",
     "shell.execute_reply": "2021-06-09T19:51:00.406529Z"
    },
    "papermill": {
     "duration": 0.628051,
     "end_time": "2021-06-09T19:51:00.406529",
     "exception": false,
     "start_time": "2021-06-09T19:50:59.778478",
     "status": "completed"
    },
    "tags": []
   },
   "outputs": [],
   "source": [
    "#### Read input file\n",
    "\n",
    "#### This reads the consolidated file that will be transformed or a stored dataframe based on the execution method."
   ]
  },
  {
   "cell_type": "code",
   "execution_count": 9,
   "id": "ec0cc2a6",
   "metadata": {
    "execution": {
     "iopub.execute_input": "2021-06-09T19:51:01.815523Z",
     "iopub.status.busy": "2021-06-09T19:51:01.815523Z",
     "iopub.status.idle": "2021-06-09T19:51:02.003547Z",
     "shell.execute_reply": "2021-06-09T19:51:02.005535Z"
    },
    "papermill": {
     "duration": 0.887255,
     "end_time": "2021-06-09T19:51:02.005535",
     "exception": false,
     "start_time": "2021-06-09T19:51:01.118280",
     "status": "completed"
    },
    "pycharm": {
     "name": "#%%\n"
    },
    "tags": []
   },
   "outputs": [
    {
     "name": "stdout",
     "output_type": "stream",
     "text": [
      "                        Submission File Business Unit Country Currency  \\\n",
      "0      us_dat_at_+te_q1_2021_at.parquet            AT      AT      EUR   \n",
      "1      us_dat_at_+te_q1_2021_at.parquet            AT      AT      EUR   \n",
      "2      us_dat_at_+te_q1_2021_at.parquet            AT      AT      EUR   \n",
      "3      us_dat_at_+te_q1_2021_at.parquet            AT      AT      EUR   \n",
      "4      us_dat_at_+te_q1_2021_at.parquet            AT      AT      EUR   \n",
      "...                                 ...           ...     ...      ...   \n",
      "13799  us_dat_us_06022021145526.parquet            US      US      USD   \n",
      "13800  us_dat_us_06022021145526.parquet            US      US      USD   \n",
      "13801  us_dat_us_06022021145526.parquet            US      US      USD   \n",
      "13802  us_dat_us_06022021145526.parquet            US      US      USD   \n",
      "13803  us_dat_us_06022021145526.parquet            US      US      USD   \n",
      "\n",
      "                                Region Reporting Date From Reporting Date To  \\\n",
      "0      North, Central & Eastern Europe          2021-01-01        2021-03-31   \n",
      "1      North, Central & Eastern Europe          2021-01-01        2021-03-31   \n",
      "2      North, Central & Eastern Europe          2021-01-01        2021-03-31   \n",
      "3      North, Central & Eastern Europe          2021-01-01        2021-03-31   \n",
      "4      North, Central & Eastern Europe          2021-01-01        2021-03-31   \n",
      "...                                ...                 ...               ...   \n",
      "13799                    North America          2021-01-01        2021-03-31   \n",
      "13800                    North America          2021-01-01        2021-03-31   \n",
      "13801                    North America          2021-01-01        2021-03-31   \n",
      "13802                    North America          2021-01-01        2021-03-31   \n",
      "13803                    North America          2021-01-01        2021-03-31   \n",
      "\n",
      "      Date of Analysis Type of Analysis  Analysed Months  ...    comsub  \\\n",
      "0           2021-05-07     Year To Date              3.0  ...  0.000000   \n",
      "1           2021-05-07     Year To Date              3.0  ...  0.000000   \n",
      "2           2021-05-07     Year To Date              3.0  ...  0.000000   \n",
      "3           2021-05-07     Year To Date              3.0  ...  0.000000   \n",
      "4           2021-05-07     Year To Date              3.0  ...  0.000000   \n",
      "...                ...              ...              ...  ...       ...   \n",
      "13799       2021-04-30     Year To Date              3.0  ...  0.000000   \n",
      "13800       2021-04-30     Year To Date              3.0  ...  0.000000   \n",
      "13801       2021-04-30     Year To Date              3.0  ...  0.000000   \n",
      "13802       2021-04-30     Year To Date              3.0  ...  0.344545   \n",
      "13803       2021-04-30     Year To Date              3.0  ...  0.271429   \n",
      "\n",
      "         expsub  Reporting Date From INT Reporting Date To INT  \\\n",
      "0      0.000000                      NaN                   NaN   \n",
      "1      0.000000                      NaN                   NaN   \n",
      "2      0.000000                      NaN                   NaN   \n",
      "3      0.000000                      NaN                   NaN   \n",
      "4      0.000000                      NaN                   NaN   \n",
      "...         ...                      ...                   ...   \n",
      "13799  0.000000               20210101.0            20210331.0   \n",
      "13800  0.000000               20210101.0            20210331.0   \n",
      "13801  0.000000               20210101.0            20210331.0   \n",
      "13802  0.200909               20210101.0            20210331.0   \n",
      "13803  0.208571               20210101.0            20210331.0   \n",
      "\n",
      "      Date of Analysis INT                     Selected Fields for Duplicates  \\\n",
      "0                      NaN                                                NaN   \n",
      "1                      NaN                                                NaN   \n",
      "2                      NaN                                                NaN   \n",
      "3                      NaN                                                NaN   \n",
      "4                      NaN                                                NaN   \n",
      "...                    ...                                                ...   \n",
      "13799           20210430.0  USInsuranceLocalB2B2CTravelOffline Travel Agen...   \n",
      "13800           20210430.0  USInsuranceLocalB2B2CTravelOffline Travel Agen...   \n",
      "13801           20210430.0  USInsuranceLocalB2B2CTravelOffline Travel Agen...   \n",
      "13802           20210430.0  USInsuranceLocalB2B2CTravelOffline Travel Agen...   \n",
      "13803           20210430.0  USInsuranceLocalB2B2CTravelOffline Travel Agen...   \n",
      "\n",
      "      ibnrsub Identifier to pull in results from Data tab Unnamed: 67  \\\n",
      "0         NaN                                         NaN         NaN   \n",
      "1         NaN                                         NaN         NaN   \n",
      "2         NaN                                         NaN         NaN   \n",
      "3         NaN                                         NaN         NaN   \n",
      "4         NaN                                         NaN         NaN   \n",
      "...       ...                                         ...         ...   \n",
      "13799     0.0                           314666064x1004320         0.0   \n",
      "13800     0.0                           315460246x1005115         0.0   \n",
      "13801     0.0                           319820436x1003748         0.0   \n",
      "13802     1.0                           319820436x1004320         0.0   \n",
      "13803     1.0                           319820436x1004534         0.0   \n",
      "\n",
      "      Unnamed: 68  \n",
      "0             NaN  \n",
      "1             NaN  \n",
      "2             NaN  \n",
      "3             NaN  \n",
      "4             NaN  \n",
      "...           ...  \n",
      "13799         0.0  \n",
      "13800         0.0  \n",
      "13801         0.0  \n",
      "13802         0.0  \n",
      "13803         0.0  \n",
      "\n",
      "[13804 rows x 79 columns]\n"
     ]
    }
   ],
   "source": [
    "try:\n",
    "    %store -r read_dc_df\n",
    "    input = read_dc_df\n",
    "        \n",
    "except:\n",
    "    input = pd.read_parquet(infile,engine = \"pyarrow\")\n",
    "    os.remove(infile)\n",
    "\n",
    "print(input)"
   ]
  },
  {
   "cell_type": "markdown",
   "id": "347da389",
   "metadata": {
    "papermill": {
     "duration": 0.536925,
     "end_time": "2021-06-09T19:51:03.115673",
     "exception": false,
     "start_time": "2021-06-09T19:51:02.578748",
     "status": "completed"
    },
    "tags": []
   },
   "source": [
    "#### Make a copy for debug purposes"
   ]
  },
  {
   "cell_type": "code",
   "execution_count": 10,
   "id": "efa0d78d",
   "metadata": {
    "execution": {
     "iopub.execute_input": "2021-06-09T19:51:04.407128Z",
     "iopub.status.busy": "2021-06-09T19:51:04.407128Z",
     "iopub.status.idle": "2021-06-09T19:51:04.407128Z",
     "shell.execute_reply": "2021-06-09T19:51:04.407128Z"
    },
    "papermill": {
     "duration": 0.68553,
     "end_time": "2021-06-09T19:51:04.407128",
     "exception": false,
     "start_time": "2021-06-09T19:51:03.721598",
     "status": "completed"
    },
    "pycharm": {
     "name": "#%%\n"
    },
    "tags": []
   },
   "outputs": [],
   "source": [
    "trandata = input.copy()"
   ]
  },
  {
   "cell_type": "markdown",
   "id": "7ece39fb",
   "metadata": {
    "papermill": {
     "duration": 0.54601,
     "end_time": "2021-06-09T19:51:05.489653",
     "exception": false,
     "start_time": "2021-06-09T19:51:04.943643",
     "status": "completed"
    },
    "tags": []
   },
   "source": [
    "#### Format Headers"
   ]
  },
  {
   "cell_type": "code",
   "execution_count": 11,
   "id": "aca420ea",
   "metadata": {
    "execution": {
     "iopub.execute_input": "2021-06-09T19:51:06.610399Z",
     "iopub.status.busy": "2021-06-09T19:51:06.605402Z",
     "iopub.status.idle": "2021-06-09T19:51:06.642398Z",
     "shell.execute_reply": "2021-06-09T19:51:06.643405Z"
    },
    "papermill": {
     "duration": 0.579747,
     "end_time": "2021-06-09T19:51:06.644399",
     "exception": false,
     "start_time": "2021-06-09T19:51:06.064652",
     "status": "completed"
    },
    "pycharm": {
     "name": "#%%\n"
    },
    "tags": []
   },
   "outputs": [
    {
     "data": {
      "text/plain": [
       "'format headers'"
      ]
     },
     "execution_count": 11,
     "metadata": {},
     "output_type": "execute_result"
    }
   ],
   "source": [
    "# save the column names to variable, format them, replace headers\n",
    "cols = trandata.columns.values\n",
    "\n",
    "\"\"\"format headers\"\"\"\n",
    "fixedcols = []\n",
    "\n",
    "for f in cols:\n",
    "    fixedhead = f.replace(' ', '_').lower()\n",
    "    fixedcols.append(fixedhead)\n",
    "\n",
    "trandata.columns = fixedcols"
   ]
  },
  {
   "cell_type": "markdown",
   "id": "ff916df1",
   "metadata": {
    "papermill": {
     "duration": 0.734937,
     "end_time": "2021-06-09T19:51:07.968443",
     "exception": false,
     "start_time": "2021-06-09T19:51:07.233506",
     "status": "completed"
    },
    "pycharm": {
     "name": "#%% md\n"
    },
    "tags": []
   },
   "source": [
    "#### Update Verification 1"
   ]
  },
  {
   "cell_type": "code",
   "execution_count": 12,
   "id": "c4371702",
   "metadata": {
    "execution": {
     "iopub.execute_input": "2021-06-09T19:51:10.933604Z",
     "iopub.status.busy": "2021-06-09T19:51:10.931609Z",
     "iopub.status.idle": "2021-06-09T19:51:11.904633Z",
     "shell.execute_reply": "2021-06-09T19:51:11.906631Z"
    },
    "papermill": {
     "duration": 3.210671,
     "end_time": "2021-06-09T19:51:11.907629",
     "exception": false,
     "start_time": "2021-06-09T19:51:08.696958",
     "status": "completed"
    },
    "pycharm": {
     "name": "#%%\n"
    },
    "tags": []
   },
   "outputs": [
    {
     "name": "stdout",
     "output_type": "stream",
     "text": [
      "|    | Original                                                        | Transformed                                                     |\n",
      "|---:|:----------------------------------------------------------------|:----------------------------------------------------------------|\n",
      "|  0 | Submission File                                                 | submission_file                                                 |\n",
      "|  1 | Business Unit                                                   | business_unit                                                   |\n",
      "|  2 | Country                                                         | country                                                         |\n",
      "|  3 | Currency                                                        | currency                                                        |\n",
      "|  4 | Region                                                          | region                                                          |\n",
      "|  5 | Reporting Date From                                             | reporting_date_from                                             |\n",
      "|  6 | Reporting Date To                                               | reporting_date_to                                               |\n",
      "|  7 | Date of Analysis                                                | date_of_analysis                                                |\n",
      "|  8 | Type of Analysis                                                | type_of_analysis                                                |\n",
      "|  9 | Analysed Months                                                 | analysed_months                                                 |\n",
      "| 10 | Reporting Year                                                  | reporting_year                                                  |\n",
      "| 11 | Reporting Quarter                                               | reporting_quarter                                               |\n",
      "| 12 | Reporting Month                                                 | reporting_month                                                 |\n",
      "| 13 | Type of Business                                                | type_of_business                                                |\n",
      "| 14 | Type of Account                                                 | type_of_account                                                 |\n",
      "| 15 | Distribution Type                                               | distribution_type                                               |\n",
      "| 16 | LOB                                                             | lob                                                             |\n",
      "| 17 | Distribution Channel                                            | distribution_channel                                            |\n",
      "| 18 | Sub LOB                                                         | sub_lob                                                         |\n",
      "| 19 | Business Partner Name                                           | business_partner_name                                           |\n",
      "| 20 | Business Partner ID Number                                      | business_partner_id_number                                      |\n",
      "| 21 | Product Name                                                    | product_name                                                    |\n",
      "| 22 | Product ID Number                                               | product_id_number                                               |\n",
      "| 23 | Product Family                                                  | product_family                                                  |\n",
      "| 24 | Standard Product                                                | standard_product                                                |\n",
      "| 25 | Number of Products per Row                                      | number_of_products_per_row                                      |\n",
      "| 26 | Number of B-Partners per Row                                    | number_of_b-partners_per_row                                    |\n",
      "| 27 | Number of Policies (Written)                                    | number_of_policies_(written)                                    |\n",
      "| 28 | Units of Risk (Written)                                         | units_of_risk_(written)                                         |\n",
      "| 29 | Written Revenues net of Taxes                                   | written_revenues_net_of_taxes                                   |\n",
      "| 30 | Written Revenues                                                | written_revenues                                                |\n",
      "| 31 | Number of Policies (Earned)                                     | number_of_policies_(earned)                                     |\n",
      "| 32 | Units of Risk (Earned)                                          | units_of_risk_(earned)                                          |\n",
      "| 33 | Earned Revenues net of Taxes                                    | earned_revenues_net_of_taxes                                    |\n",
      "| 34 | Earned Revenues                                                 | earned_revenues                                                 |\n",
      "| 35 | Earned Base Commissions                                         | earned_base_commissions                                         |\n",
      "| 36 | Earned Over-Commissions                                         | earned_over-commissions                                         |\n",
      "| 37 | Upfront Cash Payments                                           | upfront_cash_payments                                           |\n",
      "| 38 | Total Compensation                                              | total_compensation                                              |\n",
      "| 39 | Number of Claims (Paid + OCR + IBNR)                            | number_of_claims_(paid_+_ocr_+_ibnr)                            |\n",
      "| 40 | Number of Open Claims                                           | number_of_open_claims                                           |\n",
      "| 41 | Open Claims %                                                   | open_claims_%                                                   |\n",
      "| 42 | Number of Persons Involved in Claims (Paid + OCR + IBNR)        | number_of_persons_involved_in_claims_(paid_+_ocr_+_ibnr)        |\n",
      "| 43 | Paid Claims                                                     | paid_claims                                                     |\n",
      "| 44 | OCR + IBNR                                                      | ocr_+_ibnr                                                      |\n",
      "| 45 | % of IBNR on (OCR + IBNR)                                       | %_of_ibnr_on_(ocr_+_ibnr)                                       |\n",
      "| 46 | Actual Incurred Losses (Paid + OCR + IBNR)                      | actual_incurred_losses_(paid_+_ocr_+_ibnr)                      |\n",
      "| 47 | Internal Variable Costs (excl. AZ Tech Fee)                     | internal_variable_costs_(excl._az_tech_fee)                     |\n",
      "| 48 | AZ Tech Fee                                                     | az_tech_fee                                                     |\n",
      "| 49 | Internal Fixed Costs (excl. HQ Fees)                            | internal_fixed_costs_(excl._hq_fees)                            |\n",
      "| 50 | HQ Fees                                                         | hq_fees                                                         |\n",
      "| 51 | Total Expenses                                                  | total_expenses                                                  |\n",
      "| 52 | Frequency (Earned)                                              | frequency_(earned)                                              |\n",
      "| 53 | Severity                                                        | severity                                                        |\n",
      "| 54 | Risk Premium                                                    | risk_premium                                                    |\n",
      "| 55 | Contribution Margin - BU View                                   | contribution_margin_-_bu_view                                   |\n",
      "| 56 | Contribution Margin % on Fixed Costs - BU View                  | contribution_margin_%_on_fixed_costs_-_bu_view                  |\n",
      "| 57 | Contribution Margin % on Earned Revenues net of Taxes - BU View | contribution_margin_%_on_earned_revenues_net_of_taxes_-_bu_view |\n",
      "| 58 | Contribution Margin - HQ View                                   | contribution_margin_-_hq_view                                   |\n",
      "| 59 | Contribution Margin % on Fixed Costs - HQ View                  | contribution_margin_%_on_fixed_costs_-_hq_view                  |\n",
      "| 60 | Contribution Margin % on Earned Revenues net of Taxes - HQ View | contribution_margin_%_on_earned_revenues_net_of_taxes_-_hq_view |\n",
      "| 61 | Loss Ratio                                                      | loss_ratio                                                      |\n",
      "| 62 | Commission Ratio                                                | commission_ratio                                                |\n",
      "| 63 | Expense Ratio                                                   | expense_ratio                                                   |\n",
      "| 64 | Combined Ratio                                                  | combined_ratio                                                  |\n",
      "| 65 | Profit or Loss                                                  | profit_or_loss                                                  |\n",
      "| 66 | Notes                                                           | notes                                                           |\n",
      "| 67 | Unnamed: 66                                                     | unnamed:_66                                                     |\n",
      "| 68 | concat2                                                         | concat2                                                         |\n",
      "| 69 | comsub                                                          | comsub                                                          |\n",
      "| 70 | expsub                                                          | expsub                                                          |\n",
      "| 71 | Reporting Date From INT                                         | reporting_date_from_int                                         |\n",
      "| 72 | Reporting Date To INT                                           | reporting_date_to_int                                           |\n",
      "| 73 | Date of Analysis INT                                            | date_of_analysis_int                                            |\n",
      "| 74 | Selected Fields for Duplicates                                  | selected_fields_for_duplicates                                  |\n",
      "| 75 | ibnrsub                                                         | ibnrsub                                                         |\n",
      "| 76 | Identifier to pull in results from Data tab                     | identifier_to_pull_in_results_from_data_tab                     |\n",
      "| 77 | Unnamed: 67                                                     | unnamed:_67                                                     |\n",
      "| 78 | Unnamed: 68                                                     | unnamed:_68                                                     |\n"
     ]
    }
   ],
   "source": [
    "if run_control > -10:\n",
    "    disp = {\"Original\": input.columns, \"Transformed\": trandata.columns}\n",
    "\n",
    "    disp = pd.DataFrame(disp)\n",
    "\n",
    "    print(disp.to_markdown())\n",
    "else:\n",
    "    print(\"Skipped Transformation Report 1\")"
   ]
  },
  {
   "cell_type": "markdown",
   "id": "986ca941",
   "metadata": {
    "papermill": {
     "duration": 1.987387,
     "end_time": "2021-06-09T19:51:15.492266",
     "exception": false,
     "start_time": "2021-06-09T19:51:13.504879",
     "status": "completed"
    },
    "tags": []
   },
   "source": [
    "#### Remove rows with null business units\n"
   ]
  },
  {
   "cell_type": "code",
   "execution_count": 13,
   "id": "cac7c44c",
   "metadata": {
    "execution": {
     "iopub.execute_input": "2021-06-09T19:51:18.818224Z",
     "iopub.status.busy": "2021-06-09T19:51:18.816223Z",
     "iopub.status.idle": "2021-06-09T19:51:18.825223Z",
     "shell.execute_reply": "2021-06-09T19:51:18.820227Z"
    },
    "papermill": {
     "duration": 1.609017,
     "end_time": "2021-06-09T19:51:18.826225",
     "exception": false,
     "start_time": "2021-06-09T19:51:17.217208",
     "status": "completed"
    },
    "pycharm": {
     "name": "#%%\n"
    },
    "tags": []
   },
   "outputs": [],
   "source": [
    "# todo, remove this from read file\n",
    "trandata = trandata[trandata.business_unit.notnull()]"
   ]
  },
  {
   "cell_type": "markdown",
   "id": "bccc3f89",
   "metadata": {
    "papermill": {
     "duration": 1.289534,
     "end_time": "2021-06-09T19:51:21.107591",
     "exception": false,
     "start_time": "2021-06-09T19:51:19.818057",
     "status": "completed"
    },
    "tags": []
   },
   "source": [
    "#### Update Verification 2"
   ]
  },
  {
   "cell_type": "code",
   "execution_count": 14,
   "id": "59a1b489",
   "metadata": {
    "execution": {
     "iopub.execute_input": "2021-06-09T19:51:22.539520Z",
     "iopub.status.busy": "2021-06-09T19:51:22.489523Z",
     "iopub.status.idle": "2021-06-09T19:51:22.732825Z",
     "shell.execute_reply": "2021-06-09T19:51:22.734827Z"
    },
    "papermill": {
     "duration": 0.969887,
     "end_time": "2021-06-09T19:51:22.735822",
     "exception": false,
     "start_time": "2021-06-09T19:51:21.765935",
     "status": "completed"
    },
    "pycharm": {
     "name": "#%%\n"
    },
    "tags": []
   },
   "outputs": [
    {
     "name": "stdout",
     "output_type": "stream",
     "text": [
      "Row Counts\n",
      "|    | Business Unit   |   Original |   Transformed |\n",
      "|---:|:----------------|-----------:|--------------:|\n",
      "|  0 | AT              |        222 |           222 |\n",
      "|  1 | AU              |         53 |            53 |\n",
      "|  2 | CA              |         17 |            17 |\n",
      "|  3 | CH              |       3172 |          3172 |\n",
      "|  4 | CZ              |          7 |             7 |\n",
      "|  5 | DE              |         50 |            50 |\n",
      "|  6 | ES              |         28 |            28 |\n",
      "|  7 | GR              |         15 |            15 |\n",
      "|  8 | IE              |         14 |            14 |\n",
      "|  9 | IT              |        100 |           100 |\n",
      "| 10 | NL              |        151 |           151 |\n",
      "| 11 | PL              |         27 |            27 |\n",
      "| 12 | PT              |         40 |            40 |\n",
      "| 13 | US              |       9908 |          9908 |\n"
     ]
    }
   ],
   "source": [
    "if run_control > -10:\n",
    "\n",
    "    ibus = input.groupby(['Business Unit']).count()\n",
    "    ibus = ibus.reset_index()\n",
    "    tbus = trandata.groupby(['business_unit']).count()\n",
    "    tbus = tbus.reset_index()\n",
    "\n",
    "    compdata = pd.merge(ibus, tbus, left_on='Business Unit', right_on='business_unit', how='left')\n",
    "\n",
    "    disp = {\"Business Unit\": compdata['Business Unit'], \"Original\": compdata['Earned Revenues net of Taxes'],\n",
    "            \"Transformed\": compdata['earned_revenues_net_of_taxes']}\n",
    "\n",
    "    disp = pd.DataFrame(disp)\n",
    "\n",
    "    print(\"Row Counts\")\n",
    "    print(disp.to_markdown())\n",
    "    \n",
    "else:\n",
    "    \n",
    "    print(\"Skipped Transformation Report 2\")\n"
   ]
  },
  {
   "cell_type": "markdown",
   "id": "1edd9be7",
   "metadata": {
    "papermill": {
     "duration": 0.670498,
     "end_time": "2021-06-09T19:51:24.144871",
     "exception": false,
     "start_time": "2021-06-09T19:51:23.474373",
     "status": "completed"
    },
    "tags": []
   },
   "source": [
    "#### Swap  nulls for \"Not Provided\" in 'Sub Lob' and 'Distribution Channel'"
   ]
  },
  {
   "cell_type": "code",
   "execution_count": 15,
   "id": "75ec098b",
   "metadata": {
    "execution": {
     "iopub.execute_input": "2021-06-09T19:51:25.603445Z",
     "iopub.status.busy": "2021-06-09T19:51:25.582441Z",
     "iopub.status.idle": "2021-06-09T19:51:25.660439Z",
     "shell.execute_reply": "2021-06-09T19:51:25.661439Z"
    },
    "papermill": {
     "duration": 0.79944,
     "end_time": "2021-06-09T19:51:25.662442",
     "exception": false,
     "start_time": "2021-06-09T19:51:24.863002",
     "status": "completed"
    },
    "pycharm": {
     "name": "#%%\n"
    },
    "tags": []
   },
   "outputs": [
    {
     "data": {
      "text/plain": [
       "array(['0.0', '', '0', 'Travel Medical Multi Trip (Annual Insurance)',\n",
       "       'Collision Damage Waiver (CDW)', 'Corporate Travel',\n",
       "       'Event Ticket Cancellation', 'Other',\n",
       "       'Standalone Cancellation - Single Trip',\n",
       "       'TPA/Claims Handling / Service Only Products',\n",
       "       'Travel Medical Short Term - Single Trip',\n",
       "       'Travel Package w/o Cancellation Short Term Single Trip',\n",
       "       'Travel Package with Cancellation Multi Trip (Annual Insurance)',\n",
       "       'Travel Package with Cancellation Short Term Single Trip',\n",
       "       'Travel Package w/o Cancellation Multi Trip (Annual Insurance)',\n",
       "       'Travel Package with Cancellation Short Term Single Trip, Travel Package with Cancellation Multi Trip (Annual Insurance)',\n",
       "       'Travel Medical Long term - Single Trip, Travel Package with Cancellation Multi Trip (Annual Insurance), Travel Package with Cancellation Short Term Single Trip',\n",
       "       'Travel Medical Long term - Single Trip',\n",
       "       'Collision Damage Waiver (CDW), Travel Package w/o Cancellation Short Term Single Trip',\n",
       "       'Travel Medical Short Term - Single Trip, Travel Package with Cancellation Short Term Single Trip',\n",
       "       'Standalone Cancellation - Single Trip, Travel Package w/o Cancellation Short Term Single Trip, Travel Package with Cancellation Short Term Single Trip',\n",
       "       'Standalone Cancellation - Single Trip, Travel Package with Cancellation Short Term Single Trip',\n",
       "       'Travel Package with Cancellation Short Term Single Trip, Travel Package w/o Cancellation Short Term Single Trip',\n",
       "       'Standalone Cancellation - Single Trip, Travel Package w/o Cancellation Multi Trip (Annual Insurance), Travel Package w/o Cancellation Short Term Single Trip, Travel Package with Cancellation Short Term Single Trip',\n",
       "       'Travel Package w/o Cancellation Short Term Single Trip, Travel Package with Cancellation Short Term Single Trip',\n",
       "       'Collision Damage Waiver (CDW), Standalone Cancellation - Single Trip, Travel Package w/o Cancellation Multi Trip (Annual Insurance), Travel Package w/o Cancellation Short Term Single Trip, Travel Package with Cancellation Short Term Single Trip',\n",
       "       'Travel Package with Cancellation Short Term Single Trip, Travel Package w/o Cancellation Short Term Single Trip, Standalone Cancellation - Single Trip',\n",
       "       'Travel Package with Cancellation Short Term Single Trip, Travel Package with Cancellation Short Term Single Trip, Travel Package w/o Cancellation Short Term Single Trip, Standalone Cancellation - Single Trip',\n",
       "       'Travel Package with Cancellation Short Term Single Trip, Standalone Cancellation - Single Trip',\n",
       "       'Expatriates',\n",
       "       'Travel Package with Cancellation Short Term Single Trip, Travel Package w/o Cancellation Short Term Single Trip, Travel Medical Short Term - Single Trip',\n",
       "       'Travel Package w/o Cancellation Short Term Single Trip, Standalone Cancellation - Single Trip, Travel Medical Short Term - Single Trip',\n",
       "       'Travel Package w/o Cancellation Short Term Single Trip, Standalone Cancellation - Single Trip',\n",
       "       'Travel Package with Cancellation Short Term Single Trip, Travel Medical Short Term - Single Trip',\n",
       "       'Travel Package with Cancellation Short Term Single Trip, Travel Package w/o Cancellation Short Term Single Trip, Standalone Cancellation - Single Trip, Travel Medical Short Term - Single Trip',\n",
       "       'Travel Package w/o Cancellation Long Term Single Trip',\n",
       "       'Standalone Cancellation - Multi-Trip', 'Tuition'], dtype=object)"
      ]
     },
     "execution_count": 15,
     "metadata": {},
     "output_type": "execute_result"
    },
    {
     "data": {
      "text/plain": [
       "array(['Not Available', 'Travel Medical Multi Trip (Annual Insurance)',\n",
       "       'Collision Damage Waiver (CDW)', 'Corporate Travel',\n",
       "       'Event Ticket Cancellation', 'Other',\n",
       "       'Standalone Cancellation - Single Trip',\n",
       "       'TPA/Claims Handling / Service Only Products',\n",
       "       'Travel Medical Short Term - Single Trip',\n",
       "       'Travel Package w/o Cancellation Short Term Single Trip',\n",
       "       'Travel Package with Cancellation Multi Trip (Annual Insurance)',\n",
       "       'Travel Package with Cancellation Short Term Single Trip',\n",
       "       'Travel Package w/o Cancellation Multi Trip (Annual Insurance)',\n",
       "       'Travel Package with Cancellation Short Term Single Trip, Travel Package with Cancellation Multi Trip (Annual Insurance)',\n",
       "       'Travel Medical Long term - Single Trip, Travel Package with Cancellation Multi Trip (Annual Insurance), Travel Package with Cancellation Short Term Single Trip',\n",
       "       'Travel Medical Long term - Single Trip',\n",
       "       'Collision Damage Waiver (CDW), Travel Package w/o Cancellation Short Term Single Trip',\n",
       "       'Travel Medical Short Term - Single Trip, Travel Package with Cancellation Short Term Single Trip',\n",
       "       'Standalone Cancellation - Single Trip, Travel Package w/o Cancellation Short Term Single Trip, Travel Package with Cancellation Short Term Single Trip',\n",
       "       'Standalone Cancellation - Single Trip, Travel Package with Cancellation Short Term Single Trip',\n",
       "       'Travel Package with Cancellation Short Term Single Trip, Travel Package w/o Cancellation Short Term Single Trip',\n",
       "       'Standalone Cancellation - Single Trip, Travel Package w/o Cancellation Multi Trip (Annual Insurance), Travel Package w/o Cancellation Short Term Single Trip, Travel Package with Cancellation Short Term Single Trip',\n",
       "       'Travel Package w/o Cancellation Short Term Single Trip, Travel Package with Cancellation Short Term Single Trip',\n",
       "       'Collision Damage Waiver (CDW), Standalone Cancellation - Single Trip, Travel Package w/o Cancellation Multi Trip (Annual Insurance), Travel Package w/o Cancellation Short Term Single Trip, Travel Package with Cancellation Short Term Single Trip',\n",
       "       'Travel Package with Cancellation Short Term Single Trip, Travel Package w/o Cancellation Short Term Single Trip, Standalone Cancellation - Single Trip',\n",
       "       'Travel Package with Cancellation Short Term Single Trip, Travel Package with Cancellation Short Term Single Trip, Travel Package w/o Cancellation Short Term Single Trip, Standalone Cancellation - Single Trip',\n",
       "       'Travel Package with Cancellation Short Term Single Trip, Standalone Cancellation - Single Trip',\n",
       "       'Expatriates',\n",
       "       'Travel Package with Cancellation Short Term Single Trip, Travel Package w/o Cancellation Short Term Single Trip, Travel Medical Short Term - Single Trip',\n",
       "       'Travel Package w/o Cancellation Short Term Single Trip, Standalone Cancellation - Single Trip, Travel Medical Short Term - Single Trip',\n",
       "       'Travel Package w/o Cancellation Short Term Single Trip, Standalone Cancellation - Single Trip',\n",
       "       'Travel Package with Cancellation Short Term Single Trip, Travel Medical Short Term - Single Trip',\n",
       "       'Travel Package with Cancellation Short Term Single Trip, Travel Package w/o Cancellation Short Term Single Trip, Standalone Cancellation - Single Trip, Travel Medical Short Term - Single Trip',\n",
       "       'Travel Package w/o Cancellation Long Term Single Trip',\n",
       "       'Standalone Cancellation - Multi-Trip', 'Tuition'], dtype=object)"
      ]
     },
     "execution_count": 15,
     "metadata": {},
     "output_type": "execute_result"
    }
   ],
   "source": [
    "mults = trandata['sub_lob'][trandata.sub_lob.replace(nan, 'Not Available').str.contains(',', case=False)]\n",
    "mults = mults.unique()\n",
    "\n",
    "trandata['sub_lob'].unique()\n",
    "trandata['sub_lob'] = trandata['sub_lob'].fillna('Not Available')\n",
    "trandata['sub_lob'] = trandata['sub_lob'].replace('', 'Not Available')\n",
    "trandata['sub_lob'] = trandata['sub_lob'].replace('0', 'Not Available')\n",
    "trandata['sub_lob'] = trandata['sub_lob'].replace('0.0', 'Not Available')\n",
    "trandata['distribution_channel'] = trandata['distribution_channel'].replace('', 'Not Available').fillna('Not Available')\n",
    "\n",
    "trandata['sub_lob'].unique()\n"
   ]
  },
  {
   "cell_type": "markdown",
   "id": "bb312a6d",
   "metadata": {
    "papermill": {
     "duration": 0.693757,
     "end_time": "2021-06-09T19:51:26.941196",
     "exception": false,
     "start_time": "2021-06-09T19:51:26.247439",
     "status": "completed"
    },
    "tags": []
   },
   "source": [
    "#### Replace multiple entries in \"Sub Lob\" to \"Multiple\""
   ]
  },
  {
   "cell_type": "code",
   "execution_count": 16,
   "id": "28ac75cf",
   "metadata": {
    "execution": {
     "iopub.execute_input": "2021-06-09T19:51:28.414579Z",
     "iopub.status.busy": "2021-06-09T19:51:28.407580Z",
     "iopub.status.idle": "2021-06-09T19:51:28.462577Z",
     "shell.execute_reply": "2021-06-09T19:51:28.463576Z"
    },
    "papermill": {
     "duration": 0.805,
     "end_time": "2021-06-09T19:51:28.464578",
     "exception": false,
     "start_time": "2021-06-09T19:51:27.659578",
     "status": "completed"
    },
    "pycharm": {
     "name": "#%%\n"
    },
    "tags": []
   },
   "outputs": [],
   "source": [
    "for i in mults:\n",
    "    trandata['sub_lob'] = trandata['sub_lob'].replace(i, 'Multiple')\n",
    "\n",
    "# todo automate figuring out which fields fx rates should be applied to somehow"
   ]
  },
  {
   "cell_type": "markdown",
   "id": "60cb3a28",
   "metadata": {
    "papermill": {
     "duration": 0.775021,
     "end_time": "2021-06-09T19:51:29.963540",
     "exception": false,
     "start_time": "2021-06-09T19:51:29.188519",
     "status": "completed"
    },
    "tags": []
   },
   "source": [
    "#### Update Verification 3"
   ]
  },
  {
   "cell_type": "code",
   "execution_count": 17,
   "id": "09156502",
   "metadata": {
    "execution": {
     "iopub.execute_input": "2021-06-09T19:51:31.395222Z",
     "iopub.status.busy": "2021-06-09T19:51:31.386231Z",
     "iopub.status.idle": "2021-06-09T19:51:31.791222Z",
     "shell.execute_reply": "2021-06-09T19:51:31.792221Z"
    },
    "papermill": {
     "duration": 1.13257,
     "end_time": "2021-06-09T19:51:31.793221",
     "exception": false,
     "start_time": "2021-06-09T19:51:30.660651",
     "status": "completed"
    },
    "pycharm": {
     "name": "#%%\n"
    },
    "tags": []
   },
   "outputs": [],
   "source": [
    "if run_control > -10:\n",
    "\n",
    "    ibus = input.groupby(['Sub LOB']).sum()\n",
    "    ibus = ibus.reset_index()\n",
    "    tbus = trandata.groupby(['sub_lob']).sum()\n",
    "    tbus = tbus.reset_index()\n",
    "\n",
    "    compdatasublob = pd.merge(ibus, tbus, left_on='Sub LOB', right_on='sub_lob', how='outer')\n",
    "\n",
    "    disp1 = pd.DataFrame(\n",
    "        {'Original Sub LOB': compdatasublob['Sub LOB'], 'Transformed Sub LOB': compdatasublob['sub_lob'],\n",
    "         \"Original\": compdatasublob['Earned Revenues net of Taxes'] / 1000,\n",
    "         \"Transformed\": compdatasublob['earned_revenues_net_of_taxes'] / 1000})\n",
    "\n",
    "\n",
    "\n",
    "    tots1 = pd.DataFrame({'Original Total': (input['Earned Revenues net of Taxes']).sum() / 10000,\n",
    "                          \"Transformed Total\": (compdatasublob['earned_revenues_net_of_taxes']).sum() / 10000},\n",
    "                         index=[0])\n",
    "else:\n",
    "    print(\"Skipped Transformation Report 2\")"
   ]
  },
  {
   "cell_type": "markdown",
   "id": "4bcdab54",
   "metadata": {
    "papermill": {
     "duration": 0.611413,
     "end_time": "2021-06-09T19:51:32.992390",
     "exception": false,
     "start_time": "2021-06-09T19:51:32.380977",
     "status": "completed"
    },
    "tags": []
   },
   "source": [
    "#### Make cflds, a list of currency fields, force to float, coercion is null or string to 0"
   ]
  },
  {
   "cell_type": "code",
   "execution_count": 18,
   "id": "ec29b90a",
   "metadata": {
    "execution": {
     "iopub.execute_input": "2021-06-09T19:51:34.251615Z",
     "iopub.status.busy": "2021-06-09T19:51:34.233615Z",
     "iopub.status.idle": "2021-06-09T19:51:34.774053Z",
     "shell.execute_reply": "2021-06-09T19:51:34.776051Z"
    },
    "papermill": {
     "duration": 1.191898,
     "end_time": "2021-06-09T19:51:34.776051",
     "exception": false,
     "start_time": "2021-06-09T19:51:33.584153",
     "status": "completed"
    },
    "pycharm": {
     "name": "#%%\n"
    },
    "tags": []
   },
   "outputs": [
    {
     "data": {
      "text/plain": [
       "0            0.00\n",
       "1            0.00\n",
       "2            0.00\n",
       "3        31328.10\n",
       "4          887.19\n",
       "           ...   \n",
       "13799     3749.00\n",
       "13800      142.00\n",
       "13801      474.00\n",
       "13802        0.00\n",
       "13803      265.00\n",
       "Name: written_revenues_net_of_taxes, Length: 13804, dtype: float64"
      ]
     },
     "execution_count": 18,
     "metadata": {},
     "output_type": "execute_result"
    },
    {
     "data": {
      "text/plain": [
       "0            0.00\n",
       "1            0.00\n",
       "2            0.00\n",
       "3        34776.00\n",
       "4          998.08\n",
       "           ...   \n",
       "13799     3749.00\n",
       "13800      142.00\n",
       "13801      474.00\n",
       "13802        0.00\n",
       "13803      265.00\n",
       "Name: written_revenues, Length: 13804, dtype: float64"
      ]
     },
     "execution_count": 18,
     "metadata": {},
     "output_type": "execute_result"
    },
    {
     "data": {
      "text/plain": [
       "0            0.00\n",
       "1            0.00\n",
       "2            0.00\n",
       "3        31328.10\n",
       "4          887.19\n",
       "           ...   \n",
       "13799        0.00\n",
       "13800        0.00\n",
       "13801        0.00\n",
       "13802       11.00\n",
       "13803        7.00\n",
       "Name: earned_revenues_net_of_taxes, Length: 13804, dtype: float64"
      ]
     },
     "execution_count": 18,
     "metadata": {},
     "output_type": "execute_result"
    },
    {
     "data": {
      "text/plain": [
       "0            0.00\n",
       "1            0.00\n",
       "2            0.00\n",
       "3        34776.00\n",
       "4          998.08\n",
       "           ...   \n",
       "13799        0.00\n",
       "13800        0.00\n",
       "13801        0.00\n",
       "13802       11.00\n",
       "13803        7.00\n",
       "Name: earned_revenues, Length: 13804, dtype: float64"
      ]
     },
     "execution_count": 18,
     "metadata": {},
     "output_type": "execute_result"
    },
    {
     "data": {
      "text/plain": [
       "0           0.00\n",
       "1           0.00\n",
       "2           0.00\n",
       "3        4391.77\n",
       "4         406.87\n",
       "          ...   \n",
       "13799       0.00\n",
       "13800       0.00\n",
       "13801       0.00\n",
       "13802       3.14\n",
       "13803       1.47\n",
       "Name: earned_base_commissions, Length: 13804, dtype: float64"
      ]
     },
     "execution_count": 18,
     "metadata": {},
     "output_type": "execute_result"
    },
    {
     "data": {
      "text/plain": [
       "0        0.00\n",
       "1        0.00\n",
       "2        0.00\n",
       "3        0.00\n",
       "4        0.00\n",
       "         ... \n",
       "13799    0.00\n",
       "13800    0.00\n",
       "13801    0.00\n",
       "13802    0.65\n",
       "13803    0.43\n",
       "Name: earned_over-commissions, Length: 13804, dtype: float64"
      ]
     },
     "execution_count": 18,
     "metadata": {},
     "output_type": "execute_result"
    },
    {
     "data": {
      "text/plain": [
       "0        0.0\n",
       "1        0.0\n",
       "2        0.0\n",
       "3        0.0\n",
       "4        0.0\n",
       "        ... \n",
       "13799    0.0\n",
       "13800    0.0\n",
       "13801    0.0\n",
       "13802    0.0\n",
       "13803    0.0\n",
       "Name: upfront_cash_payments, Length: 13804, dtype: float64"
      ]
     },
     "execution_count": 18,
     "metadata": {},
     "output_type": "execute_result"
    },
    {
     "data": {
      "text/plain": [
       "0           0.00\n",
       "1           0.00\n",
       "2           0.00\n",
       "3        4391.77\n",
       "4         406.87\n",
       "          ...   \n",
       "13799       0.00\n",
       "13800       0.00\n",
       "13801       0.00\n",
       "13802       3.79\n",
       "13803       1.90\n",
       "Name: total_compensation, Length: 13804, dtype: float64"
      ]
     },
     "execution_count": 18,
     "metadata": {},
     "output_type": "execute_result"
    },
    {
     "data": {
      "text/plain": [
       "0        3028.6\n",
       "1           0.0\n",
       "2           0.0\n",
       "3         798.0\n",
       "4         400.0\n",
       "          ...  \n",
       "13799       0.0\n",
       "13800       0.0\n",
       "13801       0.0\n",
       "13802       0.0\n",
       "13803       0.0\n",
       "Name: paid_claims, Length: 13804, dtype: float64"
      ]
     },
     "execution_count": 18,
     "metadata": {},
     "output_type": "execute_result"
    },
    {
     "data": {
      "text/plain": [
       "0       -52275.64\n",
       "1         -100.00\n",
       "2        -1100.00\n",
       "3         1142.94\n",
       "4        -1084.00\n",
       "           ...   \n",
       "13799        0.00\n",
       "13800        0.00\n",
       "13801        0.00\n",
       "13802        0.12\n",
       "13803        0.08\n",
       "Name: ocr_+_ibnr, Length: 13804, dtype: float64"
      ]
     },
     "execution_count": 18,
     "metadata": {},
     "output_type": "execute_result"
    },
    {
     "data": {
      "text/plain": [
       "0       -49247.04\n",
       "1         -100.00\n",
       "2        -1100.00\n",
       "3         1940.94\n",
       "4         -684.00\n",
       "           ...   \n",
       "13799        0.00\n",
       "13800        0.00\n",
       "13801        0.00\n",
       "13802        0.12\n",
       "13803        0.08\n",
       "Name: actual_incurred_losses_(paid_+_ocr_+_ibnr), Length: 13804, dtype: float64"
      ]
     },
     "execution_count": 18,
     "metadata": {},
     "output_type": "execute_result"
    },
    {
     "data": {
      "text/plain": [
       "0           0.000000\n",
       "1           0.000000\n",
       "2           0.000000\n",
       "3        2229.996814\n",
       "4          63.151959\n",
       "            ...     \n",
       "13799       0.000000\n",
       "13800       0.000000\n",
       "13801       0.000000\n",
       "13802       0.720000\n",
       "13803       0.480000\n",
       "Name: internal_variable_costs_(excl._az_tech_fee), Length: 13804, dtype: float64"
      ]
     },
     "execution_count": 18,
     "metadata": {},
     "output_type": "execute_result"
    },
    {
     "data": {
      "text/plain": [
       "0          0.000000\n",
       "1          0.000000\n",
       "2          0.000000\n",
       "3        789.468120\n",
       "4         22.357188\n",
       "            ...    \n",
       "13799      0.000000\n",
       "13800      0.000000\n",
       "13801      0.000000\n",
       "13802      0.000000\n",
       "13803      0.000000\n",
       "Name: az_tech_fee, Length: 13804, dtype: float64"
      ]
     },
     "execution_count": 18,
     "metadata": {},
     "output_type": "execute_result"
    },
    {
     "data": {
      "text/plain": [
       "0           0.000000\n",
       "1           0.000000\n",
       "2           0.000000\n",
       "3        4593.555166\n",
       "4         144.211193\n",
       "            ...     \n",
       "13799       0.000000\n",
       "13800       0.000000\n",
       "13801       0.000000\n",
       "13802       1.210000\n",
       "13803       0.800000\n",
       "Name: internal_fixed_costs_(excl._hq_fees), Length: 13804, dtype: float64"
      ]
     },
     "execution_count": 18,
     "metadata": {},
     "output_type": "execute_result"
    },
    {
     "data": {
      "text/plain": [
       "0           0.0000\n",
       "1           0.0000\n",
       "2           0.0000\n",
       "3        1346.8165\n",
       "4          24.0160\n",
       "           ...    \n",
       "13799       0.0000\n",
       "13800       0.0000\n",
       "13801       0.0000\n",
       "13802       0.2800\n",
       "13803       0.1800\n",
       "Name: hq_fees, Length: 13804, dtype: float64"
      ]
     },
     "execution_count": 18,
     "metadata": {},
     "output_type": "execute_result"
    },
    {
     "data": {
      "text/plain": [
       "0           0.00000\n",
       "1           0.00000\n",
       "2           0.00000\n",
       "3        8959.83660\n",
       "4         253.73634\n",
       "            ...    \n",
       "13799       0.00000\n",
       "13800       0.00000\n",
       "13801       0.00000\n",
       "13802       2.21000\n",
       "13803       1.46000\n",
       "Name: total_expenses, Length: 13804, dtype: float64"
      ]
     },
     "execution_count": 18,
     "metadata": {},
     "output_type": "execute_result"
    },
    {
     "data": {
      "text/plain": [
       "0        0.0\n",
       "1        0.0\n",
       "2        0.0\n",
       "3        0.0\n",
       "4        0.0\n",
       "        ... \n",
       "13799    0.0\n",
       "13800    0.0\n",
       "13801    0.0\n",
       "13802    0.0\n",
       "13803    0.0\n",
       "Name: risk_premium, Length: 13804, dtype: float64"
      ]
     },
     "execution_count": 18,
     "metadata": {},
     "output_type": "execute_result"
    },
    {
     "data": {
      "text/plain": [
       "0        49247.04000\n",
       "1          100.00000\n",
       "2         1100.00000\n",
       "3        16035.55340\n",
       "4          910.58366\n",
       "            ...     \n",
       "13799        0.00000\n",
       "13800        0.00000\n",
       "13801        0.00000\n",
       "13802        4.88000\n",
       "13803        3.56000\n",
       "Name: profit_or_loss, Length: 13804, dtype: float64"
      ]
     },
     "execution_count": 18,
     "metadata": {},
     "output_type": "execute_result"
    },
    {
     "data": {
      "text/plain": [
       "0        49247.040000\n",
       "1          100.000000\n",
       "2         1100.000000\n",
       "3        21975.925066\n",
       "4         1078.810853\n",
       "             ...     \n",
       "13799        0.000000\n",
       "13800        0.000000\n",
       "13801        0.000000\n",
       "13802        6.370000\n",
       "13803        4.540000\n",
       "Name: contribution_margin_-_hq_view, Length: 13804, dtype: float64"
      ]
     },
     "execution_count": 18,
     "metadata": {},
     "output_type": "execute_result"
    },
    {
     "data": {
      "text/plain": [
       "0        49247.040000\n",
       "1          100.000000\n",
       "2         1100.000000\n",
       "3        20629.108566\n",
       "4         1054.794853\n",
       "             ...     \n",
       "13799        0.000000\n",
       "13800        0.000000\n",
       "13801        0.000000\n",
       "13802        6.090000\n",
       "13803        4.360000\n",
       "Name: contribution_margin_-_bu_view, Length: 13804, dtype: float64"
      ]
     },
     "execution_count": 18,
     "metadata": {},
     "output_type": "execute_result"
    }
   ],
   "source": [
    "cflds = ['written_revenues_net_of_taxes', 'written_revenues', 'earned_revenues_net_of_taxes',\n",
    "         'earned_revenues', 'earned_base_commissions', 'earned_over-commissions', 'upfront_cash_payments',\n",
    "         'total_compensation', 'paid_claims', 'ocr_+_ibnr', 'actual_incurred_losses_(paid_+_ocr_+_ibnr)',\n",
    "         'internal_variable_costs_(excl._az_tech_fee)', 'az_tech_fee', 'internal_fixed_costs_(excl._hq_fees)',\n",
    "         'hq_fees', 'total_expenses', 'risk_premium', 'profit_or_loss', 'contribution_margin_-_hq_view',\n",
    "         'contribution_margin_-_bu_view', ]\n",
    "\n",
    "for i in cflds:\n",
    "    pd.to_numeric(trandata[i], errors='coerce')"
   ]
  },
  {
   "cell_type": "markdown",
   "id": "06026ff4",
   "metadata": {
    "papermill": {
     "duration": 1.159438,
     "end_time": "2021-06-09T19:51:36.980532",
     "exception": false,
     "start_time": "2021-06-09T19:51:35.821094",
     "status": "completed"
    },
    "tags": []
   },
   "source": [
    "#### Turn selected columns values uppercase"
   ]
  },
  {
   "cell_type": "code",
   "execution_count": 19,
   "id": "c38306bd",
   "metadata": {
    "execution": {
     "iopub.execute_input": "2021-06-09T19:51:38.542189Z",
     "iopub.status.busy": "2021-06-09T19:51:38.526561Z",
     "iopub.status.idle": "2021-06-09T19:51:38.642468Z",
     "shell.execute_reply": "2021-06-09T19:51:38.642468Z"
    },
    "papermill": {
     "duration": 0.843641,
     "end_time": "2021-06-09T19:51:38.642468",
     "exception": false,
     "start_time": "2021-06-09T19:51:37.798827",
     "status": "completed"
    },
    "pycharm": {
     "name": "#%%\n"
    },
    "tags": []
   },
   "outputs": [],
   "source": [
    "validcols = ['business_unit', 'currency', 'region', 'type_of_analysis', 'type_of_business', 'type_of_account', 'lob',\n",
    "             'distribution_type', 'distribution_channel', ]\n",
    "\n",
    "for c in validcols:\n",
    "    trandata[c] = trandata[c].astype(str)\n",
    "    trandata[c] = trandata[c].apply(lambda x: x.upper())"
   ]
  },
  {
   "cell_type": "markdown",
   "id": "4ce86736",
   "metadata": {
    "papermill": {
     "duration": 0.709805,
     "end_time": "2021-06-09T19:51:40.091550",
     "exception": false,
     "start_time": "2021-06-09T19:51:39.381745",
     "status": "completed"
    },
    "tags": []
   },
   "source": [
    "#### Read the values from the Global Attribute Catalog, one field per loop iterance and xlsx sheet."
   ]
  },
  {
   "cell_type": "code",
   "execution_count": 20,
   "id": "50e676af",
   "metadata": {
    "execution": {
     "iopub.execute_input": "2021-06-09T19:51:42.184393Z",
     "iopub.status.busy": "2021-06-09T19:51:42.183394Z",
     "iopub.status.idle": "2021-06-09T19:51:49.448945Z",
     "shell.execute_reply": "2021-06-09T19:51:49.450945Z"
    },
    "papermill": {
     "duration": 8.488624,
     "end_time": "2021-06-09T19:51:49.451992",
     "exception": false,
     "start_time": "2021-06-09T19:51:40.963368",
     "status": "completed"
    },
    "pycharm": {
     "name": "#%%\n"
    },
    "tags": []
   },
   "outputs": [],
   "source": [
    "checktabs = []\n",
    "\n",
    "\n",
    "\n",
    "for s in validcols:\n",
    "    t = pd.read_excel(atcat, sheet_name = s )\n",
    "    checktabs.append([[s], [t]])\n",
    "\n",
    "gacout = []\n"
   ]
  },
  {
   "cell_type": "markdown",
   "id": "afd3516e",
   "metadata": {
    "papermill": {
     "duration": 0.656132,
     "end_time": "2021-06-09T19:51:50.688626",
     "exception": false,
     "start_time": "2021-06-09T19:51:50.032494",
     "status": "completed"
    },
    "tags": []
   },
   "source": [
    "#### Compare the lists from the previous step and each field. Find those that do not match, make lists of unique values\n",
    "#### replace any that have replacements in GPPM inoout already, make a list of values without any matches.\n"
   ]
  },
  {
   "cell_type": "code",
   "execution_count": 21,
   "id": "11a7994c",
   "metadata": {
    "execution": {
     "iopub.execute_input": "2021-06-09T19:51:52.146739Z",
     "iopub.status.busy": "2021-06-09T19:51:52.140740Z",
     "iopub.status.idle": "2021-06-09T19:51:52.647711Z",
     "shell.execute_reply": "2021-06-09T19:51:52.649705Z"
    },
    "papermill": {
     "duration": 1.384417,
     "end_time": "2021-06-09T19:51:52.649705",
     "exception": false,
     "start_time": "2021-06-09T19:51:51.265288",
     "status": "completed"
    },
    "pycharm": {
     "name": "#%%\n"
    },
    "tags": []
   },
   "outputs": [],
   "source": [
    "# todo rewrite this beginner code to use dicts and simplify\n",
    "\n",
    "for u in enumerate(validcols):\n",
    "    trandata.loc[0:len(trandata[u[1]]), u[1]] = trandata[u[1]].replace(\n",
    "        [checktabs[u[0]][1][0]['Upper_Vers']][0].to_numpy(), [checktabs[u[0]][1][0][u[1]]][0].to_numpy())\n",
    "    d = list(checktabs[u[0]][1][0]['Non Matches'].drop_duplicates().dropna().append(\n",
    "        pd.Series(trandata[u[1]][~trandata[u[1]].isin(checktabs[u[0]][1][0][u[1]])].drop_duplicates().dropna()),\n",
    "        ignore_index=True))\n",
    "    g = [checktabs[u[0]][1][0][str(u[1])], checktabs[u[0]][1][0]['Upper_Vers'], checktabs[u[0]][1][0]['Unnamed: 2'],\n",
    "         pd.Series(d, dtype='object').drop_duplicates().dropna(), checktabs[u[0]][1][0]['User Defined Corrections']]\n",
    "    gacout.append(list([g, u[1]]))"
   ]
  },
  {
   "cell_type": "markdown",
   "id": "cdbc828d",
   "metadata": {
    "papermill": {
     "duration": 0.859659,
     "end_time": "2021-06-09T19:51:54.378247",
     "exception": false,
     "start_time": "2021-06-09T19:51:53.518588",
     "status": "completed"
    },
    "tags": []
   },
   "source": [
    "#### Rebuild the GPPM input file, with the replaced values in the bad values column of each sheet.\n",
    "#### Step one, make and xlsx with a notes page."
   ]
  },
  {
   "cell_type": "code",
   "execution_count": 22,
   "id": "1efb0df7",
   "metadata": {
    "execution": {
     "iopub.execute_input": "2021-06-09T19:51:55.800582Z",
     "iopub.status.busy": "2021-06-09T19:51:55.800582Z",
     "iopub.status.idle": "2021-06-09T19:51:56.647435Z",
     "shell.execute_reply": "2021-06-09T19:51:56.648436Z"
    },
    "papermill": {
     "duration": 1.55478,
     "end_time": "2021-06-09T19:51:56.649436",
     "exception": false,
     "start_time": "2021-06-09T19:51:55.094656",
     "status": "completed"
    },
    "pycharm": {
     "name": "#%%\n"
    },
    "tags": []
   },
   "outputs": [],
   "source": [
    "w = ExcelWriter(atcat)\n",
    "notes = pd.DataFrame([\n",
    "    \"This page is script generated during the source creation process. Do not edit these notes directly in the file as they will be overwritten\",\n",
    "    \"\", \"\"\n",
    "    , \" Purpose :     to manage attribute entries in the data collection process, this workbook documents and organizes all entries and also allows a user to swap those that do \\\n",
    "                        not conform to validation rules  with an entry of their choice\",\n",
    "    \" Each attribute field that requires validation has its own sheet tab\", \"\"\n",
    "    , \"Column A:    of each sheet tab contains all unique acceptable responses\",\n",
    "    \"Column B:    an upper case version, to wrangle case mismatches\",\n",
    "    \"Column D:   is generated by the process, this is a list of an uppercase version of each unique unacceptable response, this builds over time with each collection\",\n",
    "    \"Column E:   you can enter accpetable response here (sase sensitive) to be swapped out in the data, save and exit this file, run the process again and they will be replaced\"\n",
    "    , \"\", \"\", \"Gavin Harmon 9 - July -2020\"])\n",
    "\n",
    "notes.columns = ['Notes']\n",
    "\n",
    "notes.to_excel(w, index=False, sheet_name=\"Notes\")"
   ]
  },
  {
   "cell_type": "markdown",
   "id": "c8b5e4bc",
   "metadata": {
    "papermill": {
     "duration": 0.835338,
     "end_time": "2021-06-09T19:51:58.106438",
     "exception": false,
     "start_time": "2021-06-09T19:51:57.271100",
     "status": "completed"
    },
    "tags": []
   },
   "source": [
    "#### Step two, build the new sheets for each validcols field"
   ]
  },
  {
   "cell_type": "code",
   "execution_count": 23,
   "id": "70286445",
   "metadata": {
    "execution": {
     "iopub.execute_input": "2021-06-09T19:51:59.607216Z",
     "iopub.status.busy": "2021-06-09T19:51:59.575913Z",
     "iopub.status.idle": "2021-06-09T19:52:00.446202Z",
     "shell.execute_reply": "2021-06-09T19:52:00.448201Z"
    },
    "papermill": {
     "duration": 1.642852,
     "end_time": "2021-06-09T19:52:00.449208",
     "exception": false,
     "start_time": "2021-06-09T19:51:58.806356",
     "status": "completed"
    },
    "pycharm": {
     "name": "#%%\n"
    },
    "scrolled": true,
    "tags": []
   },
   "outputs": [],
   "source": [
    "for v in enumerate(validcols):\n",
    "    df = pd.DataFrame(gacout[v[0]][0], index=[f\"{v[1]}\", 'Upper_Vers', '', 'Non Matches', 'User Defined Corrections']).T\n",
    "    df.to_excel(w, index=False, sheet_name=gacout[v[0]][1])\n",
    "w.save()"
   ]
  },
  {
   "cell_type": "markdown",
   "id": "f8345f36",
   "metadata": {
    "papermill": {
     "duration": 0.765527,
     "end_time": "2021-06-09T19:52:01.816165",
     "exception": false,
     "start_time": "2021-06-09T19:52:01.050638",
     "status": "completed"
    },
    "tags": []
   },
   "source": [
    "#### Step three, read these lists back in, make the necessary replacements in the DataFrame"
   ]
  },
  {
   "cell_type": "code",
   "execution_count": 24,
   "id": "b512e586",
   "metadata": {
    "execution": {
     "iopub.execute_input": "2021-06-09T19:52:03.636489Z",
     "iopub.status.busy": "2021-06-09T19:52:03.636489Z",
     "iopub.status.idle": "2021-06-09T19:52:08.697275Z",
     "shell.execute_reply": "2021-06-09T19:52:08.699276Z"
    },
    "papermill": {
     "duration": 5.957783,
     "end_time": "2021-06-09T19:52:08.699276",
     "exception": false,
     "start_time": "2021-06-09T19:52:02.741493",
     "status": "completed"
    },
    "pycharm": {
     "name": "#%%\n"
    },
    "tags": []
   },
   "outputs": [],
   "source": [
    "for s in validcols:\n",
    "    t = pd.read_excel(f'//hecate/Insurance_US/Product Development/Product Management/Global PPM/Reporting/Data Collection/Production/{str(percode)}\\\\{str(percode)}_Attribute_Catalog.xlsx', sheet_name = s )\n",
    "    checktabs.append([[s],[t]])"
   ]
  },
  {
   "cell_type": "code",
   "execution_count": 25,
   "id": "f2d610cc",
   "metadata": {
    "execution": {
     "iopub.execute_input": "2021-06-09T19:52:09.796793Z",
     "iopub.status.busy": "2021-06-09T19:52:09.796793Z",
     "iopub.status.idle": "2021-06-09T19:52:09.895381Z",
     "shell.execute_reply": "2021-06-09T19:52:09.895381Z"
    },
    "papermill": {
     "duration": 0.687587,
     "end_time": "2021-06-09T19:52:09.895381",
     "exception": false,
     "start_time": "2021-06-09T19:52:09.207794",
     "status": "completed"
    },
    "pycharm": {
     "name": "#%%\n"
    },
    "tags": []
   },
   "outputs": [],
   "source": [
    "gacout = []\n",
    "\n",
    "for u in enumerate(validcols):\n",
    "    trandata.loc[0:len(trandata[u[1]]), u[1]] = trandata[u[1]].replace(\n",
    "        [checktabs[u[0]][1][0]['Non Matches']][0].to_numpy(),\n",
    "        [checktabs[u[0]][1][0]['User Defined Corrections']][0].to_numpy())\n",
    "repper = trandata[['business_unit', 'reporting_date_to']]\n",
    "repper = pd.DataFrame({\"business_unit\": (repper['business_unit']), \"YearMo\": (repper['reporting_date_to'])})\n",
    "minrep = repper.groupby(['business_unit']).max()\n",
    "a = trandata['business_unit'].replace(list(minrep.axes[0]), minrep.get(\"YearMo\"))\n",
    "trandata['rep_date'] = a\n",
    "trandata.loc[0:len(trandata['business_partner_id_number']), 'business_partner_id_number'] = trandata[\n",
    "    'business_partner_id_number'].replace('0', 'Not Provided').fillna('Not Provided')\n",
    "trandata.loc[0:len(trandata['product_id_number']), 'product_id_number'] = trandata['product_id_number'].replace('0',\n",
    "                                                                                                                'Not Provided').replace(\n",
    "    '-', 'Not Provided').fillna('Not Provided')\n",
    "trandata.loc[0:len(trandata['sub_lob']), 'sub_lob'] = trandata['sub_lob'].replace('0', 'Not Provided').replace('-',\n",
    "                                                                                                               'Not Provided').replace(\n",
    "    'Other', 'Not Provided').fillna('Not Provided')"
   ]
  },
  {
   "cell_type": "markdown",
   "id": "ed4f5e33",
   "metadata": {
    "papermill": {
     "duration": 0.593486,
     "end_time": "2021-06-09T19:52:11.143162",
     "exception": false,
     "start_time": "2021-06-09T19:52:10.549676",
     "status": "completed"
    },
    "tags": []
   },
   "source": [
    "#### Evaluate the current state, alert the user if input is needed.\n",
    "- At the end of this process, alert the user with instructions if they need to adjust bad entries for validated fields.\n",
    "\n"
   ]
  },
  {
   "cell_type": "code",
   "execution_count": 26,
   "id": "62620b2f",
   "metadata": {
    "execution": {
     "iopub.execute_input": "2021-06-09T19:52:12.817220Z",
     "iopub.status.busy": "2021-06-09T19:52:12.780220Z",
     "iopub.status.idle": "2021-06-09T19:52:21.348573Z",
     "shell.execute_reply": "2021-06-09T19:52:21.364199Z"
    },
    "papermill": {
     "duration": 9.450585,
     "end_time": "2021-06-09T19:52:21.364199",
     "exception": false,
     "start_time": "2021-06-09T19:52:11.913614",
     "status": "completed"
    },
    "tags": []
   },
   "outputs": [],
   "source": [
    "#see above note about converting to dictionaries\n",
    "\n",
    "#Make lists of all the attribute catalog entries that do not have a correction as a list of errors.\n",
    "err_messages = []\n",
    "\n",
    "for idx, i in enumerate(checktabs):\n",
    "    subset_no_nans =  i[1][0][['Non Matches', 'User Defined Corrections']][~i[1][0]['Non Matches'].isna()]\n",
    "    entries = subset_no_nans['Non Matches'][subset_no_nans['User Defined Corrections'].isna()]. tolist()\n",
    "    if len(entries) > 0: \n",
    "        err_messages.append(f'Please deal with bad entries {entries} on tab {i[0][0]} of the Attribute Catalog.')\n",
    "\n",
    "#raise an error to stop the process and give instructions\n",
    "\n",
    "# define Python user-defined exceptions\n",
    "\n",
    "\n",
    "# define Python user-defined exceptions\n",
    "class Error(Exception):\n",
    "    \"\"\"Base class for other exceptions\"\"\"\n",
    "    pass\n",
    "\n",
    "class BadEntriesError(Error):\n",
    "    \"\"\"Raised when the input value is too large\"\"\"\n",
    "    for i in err_messages : print(i)\n",
    "    \n",
    "    os.startfile(atcat)\n",
    "\n",
    "if len(err_messages) > 0:\n",
    "    raise BadEntriesError\n",
    "else:\n",
    "    pass\n",
    "        "
   ]
  },
  {
   "cell_type": "markdown",
   "id": "d774a8ed",
   "metadata": {
    "papermill": {
     "duration": 0.701454,
     "end_time": "2021-06-09T19:52:22.697399",
     "exception": false,
     "start_time": "2021-06-09T19:52:21.995945",
     "status": "completed"
    },
    "tags": []
   },
   "source": [
    "#### Remove empty rows, if there is no claims experience and no revenue for a 12 month period, it should not be included"
   ]
  },
  {
   "cell_type": "code",
   "execution_count": 27,
   "id": "1d50dd50",
   "metadata": {
    "execution": {
     "iopub.execute_input": "2021-06-09T19:52:24.184946Z",
     "iopub.status.busy": "2021-06-09T19:52:24.162802Z",
     "iopub.status.idle": "2021-06-09T19:52:24.297774Z",
     "shell.execute_reply": "2021-06-09T19:52:24.299777Z"
    },
    "papermill": {
     "duration": 0.869262,
     "end_time": "2021-06-09T19:52:24.299777",
     "exception": false,
     "start_time": "2021-06-09T19:52:23.430515",
     "status": "completed"
    },
    "pycharm": {
     "name": "#%%\n"
    },
    "tags": []
   },
   "outputs": [],
   "source": [
    "trandata = trandata.loc[(trandata['units_of_risk_(written)'].fillna(0).replace('', 0)\n",
    "                         + trandata['written_revenues_net_of_taxes'].fillna(0).replace('', 0)\n",
    "                         + trandata['written_revenues'].fillna(0).replace('', 0)\n",
    "                         + trandata['number_of_policies_(earned)'].fillna(0).replace('', 0)\n",
    "                         + trandata['units_of_risk_(earned)'].fillna(0).replace('', 0)\n",
    "                         + trandata['earned_revenues_net_of_taxes'].fillna(0).replace('', 0)\n",
    "                         + trandata['earned_revenues'].fillna(0).replace('', 0)\n",
    "                         + trandata['earned_base_commissions'].fillna(0).replace('', 0)\n",
    "                         + trandata['upfront_cash_payments'].fillna(0).replace('', 0)\n",
    "                         + trandata['earned_over-commissions'].fillna(0).replace('', 0)\n",
    "                         + trandata['total_compensation'].fillna(0).replace('', 0)\n",
    "                         + trandata['number_of_claims_(paid_+_ocr_+_ibnr)'].fillna(0).replace('', 0)\n",
    "                         + trandata['number_of_open_claims'].fillna(0).replace('', 0)\n",
    "                         + trandata['open_claims_%'].fillna(0).replace('', 0)\n",
    "                         + trandata['number_of_persons_involved_in_claims_(paid_+_ocr_+_ibnr)'].fillna(0).replace('', 0)\n",
    "                         + trandata['paid_claims'].fillna(0).replace('', 0)\n",
    "                         + trandata['ocr_+_ibnr'].fillna(0).replace('', 0)\n",
    "                         + trandata['actual_incurred_losses_(paid_+_ocr_+_ibnr)'].fillna(0).replace('', 0)\n",
    "                         + trandata['internal_variable_costs_(excl._az_tech_fee)'].fillna(0).replace('', 0)\n",
    "                         + trandata['az_tech_fee'].fillna(0).replace('', 0)\n",
    "                         + trandata['internal_fixed_costs_(excl._hq_fees)'].fillna(0).replace('', 0)\n",
    "                         + trandata['hq_fees'].fillna(0).replace('', 0)\n",
    "                         + trandata['total_expenses'].fillna(0).replace('', 0)\n",
    "                         + trandata['frequency_(earned)'].fillna(0).replace('', 0)\n",
    "                         + trandata['severity'].fillna(0).replace('', 0))\n",
    "                        != 0]"
   ]
  },
  {
   "cell_type": "markdown",
   "id": "df2c6755",
   "metadata": {
    "papermill": {
     "duration": 0.654126,
     "end_time": "2021-06-09T19:52:25.704221",
     "exception": false,
     "start_time": "2021-06-09T19:52:25.050095",
     "status": "completed"
    },
    "tags": []
   },
   "source": [
    "#### special edit to fix a 1-row issue from US 2021.Q1 submission"
   ]
  },
  {
   "cell_type": "code",
   "execution_count": 28,
   "id": "73b42489",
   "metadata": {
    "execution": {
     "iopub.execute_input": "2021-06-09T19:52:27.507072Z",
     "iopub.status.busy": "2021-06-09T19:52:27.507072Z",
     "iopub.status.idle": "2021-06-09T19:52:27.542250Z",
     "shell.execute_reply": "2021-06-09T19:52:27.544444Z"
    },
    "papermill": {
     "duration": 1.029849,
     "end_time": "2021-06-09T19:52:27.544444",
     "exception": false,
     "start_time": "2021-06-09T19:52:26.514595",
     "status": "completed"
    },
    "tags": []
   },
   "outputs": [
    {
     "data": {
      "text/plain": [
       "6184    B2B2C\n",
       "Name: distribution_type, dtype: object"
      ]
     },
     "execution_count": 28,
     "metadata": {},
     "output_type": "execute_result"
    }
   ],
   "source": [
    "\n",
    "trandata.at[trandata.index[trandata['business_partner_name'] ==    \"Unique Travel\"][0],'distribution_type'] = \"B2B2C\"\n",
    "\n",
    "trandata[ trandata['business_partner_name'] ==    \"Unique Travel\"]['distribution_type']\n",
    "\n",
    "\n"
   ]
  },
  {
   "cell_type": "markdown",
   "id": "564715ab",
   "metadata": {
    "papermill": {
     "duration": 0.734424,
     "end_time": "2021-06-09T19:52:29.037551",
     "exception": false,
     "start_time": "2021-06-09T19:52:28.303127",
     "status": "completed"
    },
    "pycharm": {
     "name": "#%% md\n"
    },
    "tags": []
   },
   "source": [
    "#### Output temp file"
   ]
  },
  {
   "cell_type": "code",
   "execution_count": 29,
   "id": "021df295",
   "metadata": {
    "execution": {
     "iopub.execute_input": "2021-06-09T19:52:30.742428Z",
     "iopub.status.busy": "2021-06-09T19:52:30.741434Z",
     "iopub.status.idle": "2021-06-09T19:53:53.424904Z",
     "shell.execute_reply": "2021-06-09T19:53:53.424904Z"
    },
    "papermill": {
     "duration": 83.551551,
     "end_time": "2021-06-09T19:53:53.424904",
     "exception": false,
     "start_time": "2021-06-09T19:52:29.873353",
     "status": "completed"
    },
    "pycharm": {
     "name": "#%%\n"
    },
    "tags": []
   },
   "outputs": [],
   "source": [
    "# trandata.to_parquet(\n",
    "#     f'//hecate/Insurance_US/Product Development/Product Management/Global PPM/Reporting/Data Collection/Production/{str(percode)}\\\\{str(percode)}.localcur.parquet', engine = \"pyarrow\")\n",
    "\n",
    "trandata.to_csv(\n",
    "    \n",
    "     f'//hecate/Insurance_US/Product Development/Product Management/Global PPM/Reporting/Data Collection/Production/{str(percode)}\\\\{str(percode)}.localcur.csv', index = False)\n"
   ]
  },
  {
   "cell_type": "markdown",
   "id": "8aa459ac",
   "metadata": {
    "papermill": {
     "duration": 0.799996,
     "end_time": "2021-06-09T19:53:55.088434",
     "exception": false,
     "start_time": "2021-06-09T19:53:54.288438",
     "status": "completed"
    },
    "tags": []
   },
   "source": [
    "#### Store the DataFrame for other noteboks to use"
   ]
  },
  {
   "cell_type": "code",
   "execution_count": 30,
   "id": "19b0edce",
   "metadata": {
    "execution": {
     "iopub.execute_input": "2021-06-09T19:53:56.710283Z",
     "iopub.status.busy": "2021-06-09T19:53:56.709285Z",
     "iopub.status.idle": "2021-06-09T19:53:56.827283Z",
     "shell.execute_reply": "2021-06-09T19:53:56.828283Z"
    },
    "papermill": {
     "duration": 0.944581,
     "end_time": "2021-06-09T19:53:56.828283",
     "exception": false,
     "start_time": "2021-06-09T19:53:55.883702",
     "status": "completed"
    },
    "tags": []
   },
   "outputs": [
    {
     "name": "stdout",
     "output_type": "stream",
     "text": [
      "Stored 'py_t_df' (DataFrame)\n"
     ]
    }
   ],
   "source": [
    "py_t_df = trandata\n",
    "\n",
    "%store py_t_df\n"
   ]
  }
 ],
 "metadata": {
  "celltoolbar": "Tags",
  "kernelspec": {
   "display_name": "Python 3",
   "language": "python",
   "name": "python3"
  },
  "language_info": {
   "codemirror_mode": {
    "name": "ipython",
    "version": 3
   },
   "file_extension": ".py",
   "mimetype": "text/x-python",
   "name": "python",
   "nbconvert_exporter": "python",
   "pygments_lexer": "ipython3",
   "version": "3.7.6"
  },
  "papermill": {
   "default_parameters": {},
   "duration": 218.805904,
   "end_time": "2021-06-09T19:53:58.187827",
   "environment_variables": {},
   "exception": null,
   "input_path": "pipeline/py_transform.ipynb",
   "output_path": "//hecate/Insurance_US/Product Development/Product Management/Global PPM/Reporting/Data Collection/Pipeline Reporting Scripts/GPMpipeline/instances/2021.Q1\\pipeline\\py_transform06092021152753--live, add IE.ipynb",
   "parameters": {
    "commit_message": "Live run,Late additions EI was not present.",
    "inst_datetime": "06092021152753",
    "percode": "2021.Q1",
    "run_control": 1
   },
   "start_time": "2021-06-09T19:50:19.381923",
   "version": "2.3.3"
  }
 },
 "nbformat": 4,
 "nbformat_minor": 5
}