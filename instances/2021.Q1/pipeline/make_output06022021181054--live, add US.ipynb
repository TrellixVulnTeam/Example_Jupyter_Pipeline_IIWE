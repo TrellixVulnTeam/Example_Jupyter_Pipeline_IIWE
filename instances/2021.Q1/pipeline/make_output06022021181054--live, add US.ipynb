{
 "cells": [
  {
   "cell_type": "markdown",
   "id": "cee630c9",
   "metadata": {
    "papermill": {
     "duration": 0.314938,
     "end_time": "2021-06-02T22:17:49.900299",
     "exception": false,
     "start_time": "2021-06-02T22:17:49.585361",
     "status": "completed"
    },
    "pycharm": {
     "name": "#%% md\n"
    },
    "tags": []
   },
   "source": [
    "<img src=\"../images/AzPTravel_PPM.png\">"
   ]
  },
  {
   "cell_type": "markdown",
   "id": "e031fe3e",
   "metadata": {
    "papermill": {
     "duration": 0.261533,
     "end_time": "2021-06-02T22:17:50.437834",
     "exception": false,
     "start_time": "2021-06-02T22:17:50.176301",
     "status": "completed"
    },
    "tags": []
   },
   "source": [
    "## GPM Pipeline Output maker\n",
    "\n",
    "#### This script\n",
    "- loads the transformed parquet file\n",
    "- creates the file {parquet}.localcur.csv\n",
    "- makes the Euro conversions\n",
    "- outputs {parquet}.euroconv.csv\n"
   ]
  },
  {
   "cell_type": "markdown",
   "id": "f9dfc30d",
   "metadata": {
    "papermill": {
     "duration": 0.268005,
     "end_time": "2021-06-02T22:17:51.007353",
     "exception": false,
     "start_time": "2021-06-02T22:17:50.739348",
     "status": "completed"
    },
    "tags": []
   },
   "source": [
    "#### Parameters section"
   ]
  },
  {
   "cell_type": "code",
   "execution_count": 1,
   "id": "c31aa22b",
   "metadata": {
    "execution": {
     "iopub.execute_input": "2021-06-02T22:17:51.604864Z",
     "iopub.status.busy": "2021-06-02T22:17:51.598862Z",
     "iopub.status.idle": "2021-06-02T22:17:51.611863Z",
     "shell.execute_reply": "2021-06-02T22:17:51.618867Z"
    },
    "papermill": {
     "duration": 0.322995,
     "end_time": "2021-06-02T22:17:51.618867",
     "exception": false,
     "start_time": "2021-06-02T22:17:51.295872",
     "status": "completed"
    },
    "pycharm": {
     "name": "#%%\n"
    },
    "tags": [
     "parameters"
    ]
   },
   "outputs": [],
   "source": [
    "commit = \"\"\n",
    "# give a reason for the run\n",
    "\n",
    "percode = \"20XX.QX\"\n",
    "# Data Collection Code, this controls file paths and output names\n",
    "\n",
    "run_type = 1\n",
    "#run_type =  0 - lite run with no reporting, not recommended.\n",
    "#run_type =  1 - lite run with normal reporting, default setting.\n",
    "#run_type =  2 - Heavy run with full reporting, available for audits and troubleshooting.\n",
    "\n",
    "specialchars = \"-GTHtest\"\n",
    "# optional - add up to a 12 character code in order to mark your instance record .ipynb\n",
    "\n",
    "from datetime import datetime\n",
    "inst_datetime = datetime.now().strftime(\"%m%d%Y%H%M%S\")\n",
    "# a single datetime stamp for the full instance run\n"
   ]
  },
  {
   "cell_type": "code",
   "execution_count": 2,
   "id": "2ddb3c6d",
   "metadata": {
    "execution": {
     "iopub.execute_input": "2021-06-02T22:17:52.172954Z",
     "iopub.status.busy": "2021-06-02T22:17:52.169955Z",
     "iopub.status.idle": "2021-06-02T22:17:52.178960Z",
     "shell.execute_reply": "2021-06-02T22:17:52.180958Z"
    },
    "papermill": {
     "duration": 0.300053,
     "end_time": "2021-06-02T22:17:52.180958",
     "exception": false,
     "start_time": "2021-06-02T22:17:51.880905",
     "status": "completed"
    },
    "tags": [
     "injected-parameters"
    ]
   },
   "outputs": [],
   "source": [
    "# Parameters\n",
    "run_control = 1\n",
    "percode = \"2021.Q1\"\n",
    "commit_message = \"Live run, added US, some troubleshooting.\"\n",
    "inst_datetime = \"06022021181054\"\n"
   ]
  },
  {
   "cell_type": "markdown",
   "id": "e32e8643",
   "metadata": {
    "papermill": {
     "duration": 0.262002,
     "end_time": "2021-06-02T22:17:52.754006",
     "exception": false,
     "start_time": "2021-06-02T22:17:52.492004",
     "status": "completed"
    },
    "tags": []
   },
   "source": [
    "### Set Run Control\n",
    "\n",
    "##### 0 - lite run with no reporting, not recommended.\n",
    "##### 1 - lite run with normal reporting, default setting.\n",
    "##### 2 - Heavy run with full reporting, available for audits and troubleshooting."
   ]
  },
  {
   "cell_type": "code",
   "execution_count": 3,
   "id": "017bda4f",
   "metadata": {
    "execution": {
     "iopub.execute_input": "2021-06-02T22:17:53.283572Z",
     "iopub.status.busy": "2021-06-02T22:17:53.281575Z",
     "iopub.status.idle": "2021-06-02T22:17:53.289578Z",
     "shell.execute_reply": "2021-06-02T22:17:53.291580Z"
    },
    "papermill": {
     "duration": 0.274002,
     "end_time": "2021-06-02T22:17:53.291580",
     "exception": false,
     "start_time": "2021-06-02T22:17:53.017578",
     "status": "completed"
    },
    "pycharm": {
     "name": "#%%\n"
    },
    "tags": []
   },
   "outputs": [],
   "source": [
    "run_control = 0 # in development mode"
   ]
  },
  {
   "cell_type": "markdown",
   "id": "edbe5bce",
   "metadata": {
    "papermill": {
     "duration": 0.297827,
     "end_time": "2021-06-02T22:17:53.850447",
     "exception": false,
     "start_time": "2021-06-02T22:17:53.552620",
     "status": "completed"
    },
    "tags": []
   },
   "source": [
    "#### Packages used"
   ]
  },
  {
   "cell_type": "code",
   "execution_count": 4,
   "id": "d36ed44d",
   "metadata": {
    "execution": {
     "iopub.execute_input": "2021-06-02T22:17:54.441800Z",
     "iopub.status.busy": "2021-06-02T22:17:54.439801Z",
     "iopub.status.idle": "2021-06-02T22:17:57.479719Z",
     "shell.execute_reply": "2021-06-02T22:17:57.480718Z"
    },
    "papermill": {
     "duration": 3.316448,
     "end_time": "2021-06-02T22:17:57.481718",
     "exception": false,
     "start_time": "2021-06-02T22:17:54.165270",
     "status": "completed"
    },
    "pycharm": {
     "name": "#%%\n"
    },
    "tags": []
   },
   "outputs": [],
   "source": [
    "import sys\n",
    "import os\n",
    "import pandas as pd"
   ]
  },
  {
   "cell_type": "code",
   "execution_count": 5,
   "id": "206f2510",
   "metadata": {
    "execution": {
     "iopub.execute_input": "2021-06-02T22:17:58.037921Z",
     "iopub.status.busy": "2021-06-02T22:17:58.035916Z",
     "iopub.status.idle": "2021-06-02T22:17:58.041920Z",
     "shell.execute_reply": "2021-06-02T22:17:58.042921Z"
    },
    "papermill": {
     "duration": 0.285841,
     "end_time": "2021-06-02T22:17:58.043925",
     "exception": false,
     "start_time": "2021-06-02T22:17:57.758084",
     "status": "completed"
    },
    "pycharm": {
     "name": "#%%\n"
    },
    "tags": []
   },
   "outputs": [],
   "source": [
    "default_DC = \"2021.Q1\"\n",
    "\n",
    "try:\n",
    "    if sys.argv[1] == \"-f\":\n",
    "        percode = default_DC\n",
    "    else:\n",
    "        percode = sys.argv[1]\n",
    "\n",
    "except IndexError:\n",
    "    percode = default_DC\n",
    "except NameError:\n",
    "    percode = default_DC"
   ]
  },
  {
   "cell_type": "markdown",
   "id": "789ce4cd",
   "metadata": {
    "papermill": {
     "duration": 0.266049,
     "end_time": "2021-06-02T22:17:58.568846",
     "exception": false,
     "start_time": "2021-06-02T22:17:58.302797",
     "status": "completed"
    },
    "tags": []
   },
   "source": [
    "#### Convert paths and files to variables.\n",
    "#### Read data into pd DataFrames.\n",
    "#### Make paths for the live sources."
   ]
  },
  {
   "cell_type": "code",
   "execution_count": 6,
   "id": "fed04fa7",
   "metadata": {
    "execution": {
     "iopub.execute_input": "2021-06-02T22:17:59.137909Z",
     "iopub.status.busy": "2021-06-02T22:17:59.135908Z",
     "iopub.status.idle": "2021-06-02T22:17:59.141908Z",
     "shell.execute_reply": "2021-06-02T22:17:59.142907Z"
    },
    "papermill": {
     "duration": 0.279009,
     "end_time": "2021-06-02T22:17:59.142907",
     "exception": false,
     "start_time": "2021-06-02T22:17:58.863898",
     "status": "completed"
    },
    "pycharm": {
     "name": "#%%\n"
    },
    "tags": []
   },
   "outputs": [],
   "source": [
    "rt_path = os.path.join('\\\\\\\\hecate\\\\Insurance_US\\\\Product Development\\\\Product Management\\\\Global PPM\\\\Reporting\\\\Data Collection\\\\Production',percode)\n",
    "\n",
    "tempfile = os.path.join(rt_path, f'{percode}.localcur.csv')\n",
    "\n",
    "gppm_file = os.path.join(rt_path, f'GPPM_Input_{str(percode)}.xlsx')\n",
    "\n"
   ]
  },
  {
   "cell_type": "markdown",
   "id": "1b20bdb2",
   "metadata": {
    "papermill": {
     "duration": 0.303528,
     "end_time": "2021-06-02T22:17:59.701431",
     "exception": false,
     "start_time": "2021-06-02T22:17:59.397903",
     "status": "completed"
    },
    "tags": []
   },
   "source": [
    "### Make Files"
   ]
  },
  {
   "cell_type": "code",
   "execution_count": 7,
   "id": "6659b7ea",
   "metadata": {
    "execution": {
     "iopub.execute_input": "2021-06-02T22:18:00.334374Z",
     "iopub.status.busy": "2021-06-02T22:18:00.331370Z",
     "iopub.status.idle": "2021-06-02T22:18:00.340376Z",
     "shell.execute_reply": "2021-06-02T22:18:00.341376Z"
    },
    "papermill": {
     "duration": 0.345876,
     "end_time": "2021-06-02T22:18:00.341376",
     "exception": false,
     "start_time": "2021-06-02T22:17:59.995500",
     "status": "completed"
    },
    "tags": []
   },
   "outputs": [],
   "source": [
    "local_file = f'{percode}.localcur.csv'\n",
    "euro_file = f'{percode}.euroconv.csv'\n",
    "\n"
   ]
  },
  {
   "cell_type": "markdown",
   "id": "1285061e",
   "metadata": {
    "papermill": {
     "duration": 0.278995,
     "end_time": "2021-06-02T22:18:00.868892",
     "exception": false,
     "start_time": "2021-06-02T22:18:00.589897",
     "status": "completed"
    },
    "tags": []
   },
   "source": [
    "#### Read source"
   ]
  },
  {
   "cell_type": "code",
   "execution_count": 8,
   "id": "2afa5f02",
   "metadata": {
    "execution": {
     "iopub.execute_input": "2021-06-02T22:18:01.397590Z",
     "iopub.status.busy": "2021-06-02T22:18:01.396580Z",
     "iopub.status.idle": "2021-06-02T22:18:07.857537Z",
     "shell.execute_reply": "2021-06-02T22:18:07.858547Z"
    },
    "papermill": {
     "duration": 6.731492,
     "end_time": "2021-06-02T22:18:07.858547",
     "exception": false,
     "start_time": "2021-06-02T22:18:01.127055",
     "status": "completed"
    },
    "pycharm": {
     "name": "#%%\n"
    },
    "tags": []
   },
   "outputs": [],
   "source": [
    "\n",
    "mo_input = pd.read_csv(tempfile, engine='python')\n",
    "\n",
    "\n",
    "\"\"\"reads in the input for the Euro conversion\"\"\"\n",
    "euro = pd.read_excel(gppm_file, sheet_name=\"Euro_Rates\")\n"
   ]
  },
  {
   "cell_type": "markdown",
   "id": "6969fc48",
   "metadata": {
    "papermill": {
     "duration": 0.248806,
     "end_time": "2021-06-02T22:18:08.362047",
     "exception": false,
     "start_time": "2021-06-02T22:18:08.113241",
     "status": "completed"
    },
    "tags": []
   },
   "source": [
    "#### Output local currency csv"
   ]
  },
  {
   "cell_type": "code",
   "execution_count": 9,
   "id": "51fcb2ad",
   "metadata": {
    "execution": {
     "iopub.execute_input": "2021-06-02T22:18:08.910203Z",
     "iopub.status.busy": "2021-06-02T22:18:08.909208Z",
     "iopub.status.idle": "2021-06-02T22:18:53.994394Z",
     "shell.execute_reply": "2021-06-02T22:18:53.995384Z"
    },
    "papermill": {
     "duration": 45.381708,
     "end_time": "2021-06-02T22:18:53.995384",
     "exception": false,
     "start_time": "2021-06-02T22:18:08.613676",
     "status": "completed"
    },
    "pycharm": {
     "is_executing": true,
     "name": "#%%\n"
    },
    "tags": []
   },
   "outputs": [],
   "source": [
    "mo_input.to_csv(os.path.join(rt_path,local_file), ',', index=False, encoding='utf-8-sig')"
   ]
  },
  {
   "cell_type": "markdown",
   "id": "997017e7",
   "metadata": {
    "papermill": {
     "duration": 0.520933,
     "end_time": "2021-06-02T22:18:54.900611",
     "exception": false,
     "start_time": "2021-06-02T22:18:54.379678",
     "status": "completed"
    },
    "tags": []
   },
   "source": [
    "#### Convert all currency to Euro\n"
   ]
  },
  {
   "cell_type": "code",
   "execution_count": 10,
   "id": "ddae67bb",
   "metadata": {
    "execution": {
     "iopub.execute_input": "2021-06-02T22:18:55.500267Z",
     "iopub.status.busy": "2021-06-02T22:18:55.492243Z",
     "iopub.status.idle": "2021-06-02T22:18:55.507273Z",
     "shell.execute_reply": "2021-06-02T22:18:55.508270Z"
    },
    "papermill": {
     "duration": 0.28504,
     "end_time": "2021-06-02T22:18:55.508270",
     "exception": false,
     "start_time": "2021-06-02T22:18:55.223230",
     "status": "completed"
    },
    "pycharm": {
     "is_executing": true,
     "name": "#%%\n"
    },
    "tags": []
   },
   "outputs": [],
   "source": [
    "\n",
    "\n",
    "cflds = ['written_revenues_net_of_taxes', 'written_revenues', 'earned_revenues_net_of_taxes',\n",
    "         'earned_revenues', 'earned_base_commissions', 'earned_over_commissions', 'upfront_cash_payments',\n",
    "         'total_compensation', 'paid_claims', 'ocr__ibnr', 'actual_incurred_losses',\n",
    "         'internal_variable_costs', 'az_tech_fee', 'internal_fixed_costs',\n",
    "         'hq_fees', 'total_expenses', 'risk_premium', 'profit_or_loss', 'cm_hq_view', 'cm_bu_view', ]\n",
    "\n",
    "alt_cflds = ['written_revenues_net_of_taxes', 'written_revenues', 'earned_revenues_net_of_taxes',\n",
    "         'earned_revenues', 'earned_base_commissions', 'earned_over-commissions', 'upfront_cash_payments',\n",
    "         'total_compensation', 'paid_claims', 'ocr_+_ibnr','actual_incurred_losses_(paid_+_ocr_+_ibnr)',\n",
    "         'internal_variable_costs_(excl._az_tech_fee)', 'az_tech_fee', 'internal_fixed_costs_(excl._hq_fees)',\n",
    "         'hq_fees', 'total_expenses', 'risk_premium', 'profit_or_loss', 'contribution_margin_-_hq_view', 'contribution_margin_-_bu_view', ]\n",
    "\n",
    "\n",
    "\n"
   ]
  },
  {
   "cell_type": "markdown",
   "id": "5e6a9344",
   "metadata": {
    "papermill": {
     "duration": 0.260502,
     "end_time": "2021-06-02T22:18:56.034332",
     "exception": false,
     "start_time": "2021-06-02T22:18:55.773830",
     "status": "completed"
    },
    "tags": []
   },
   "source": [
    "#### Make a copy for debug purposes"
   ]
  },
  {
   "cell_type": "code",
   "execution_count": 11,
   "id": "198d5594",
   "metadata": {
    "execution": {
     "iopub.execute_input": "2021-06-02T22:18:56.527299Z",
     "iopub.status.busy": "2021-06-02T22:18:56.525285Z",
     "iopub.status.idle": "2021-06-02T22:18:56.542285Z",
     "shell.execute_reply": "2021-06-02T22:18:56.541286Z"
    },
    "papermill": {
     "duration": 0.268889,
     "end_time": "2021-06-02T22:18:56.542285",
     "exception": false,
     "start_time": "2021-06-02T22:18:56.273396",
     "status": "completed"
    },
    "pycharm": {
     "is_executing": true,
     "name": "#%%\n"
    },
    "tags": []
   },
   "outputs": [],
   "source": [
    "trandata = mo_input.copy()"
   ]
  },
  {
   "cell_type": "markdown",
   "id": "69f1584c",
   "metadata": {
    "papermill": {
     "duration": 0.244997,
     "end_time": "2021-06-02T22:18:57.042467",
     "exception": false,
     "start_time": "2021-06-02T22:18:56.797470",
     "status": "completed"
    },
    "tags": []
   },
   "source": [
    "#### Convert Currency Below"
   ]
  },
  {
   "cell_type": "code",
   "execution_count": 12,
   "id": "e71fa23d",
   "metadata": {
    "execution": {
     "iopub.execute_input": "2021-06-02T22:18:57.566629Z",
     "iopub.status.busy": "2021-06-02T22:18:57.565617Z",
     "iopub.status.idle": "2021-06-02T22:18:57.571612Z",
     "shell.execute_reply": "2021-06-02T22:18:57.572612Z"
    },
    "papermill": {
     "duration": 0.275145,
     "end_time": "2021-06-02T22:18:57.572612",
     "exception": false,
     "start_time": "2021-06-02T22:18:57.297467",
     "status": "completed"
    },
    "pycharm": {
     "is_executing": true,
     "name": "#%%\n"
    },
    "tags": []
   },
   "outputs": [],
   "source": [
    "# create DataFrame of unique currencies with rates\n",
    "\n",
    "fx_uni = euro[['CURR_CODE','RATE']]\n",
    "fx_uni = fx_uni.drop_duplicates()"
   ]
  },
  {
   "cell_type": "code",
   "execution_count": 13,
   "id": "da0ec21c",
   "metadata": {
    "execution": {
     "iopub.execute_input": "2021-06-02T22:18:58.110685Z",
     "iopub.status.busy": "2021-06-02T22:18:58.108684Z",
     "iopub.status.idle": "2021-06-02T22:18:58.274216Z",
     "shell.execute_reply": "2021-06-02T22:18:58.276209Z"
    },
    "papermill": {
     "duration": 0.436905,
     "end_time": "2021-06-02T22:18:58.276209",
     "exception": false,
     "start_time": "2021-06-02T22:18:57.839304",
     "status": "completed"
    },
    "pycharm": {
     "is_executing": true,
     "name": "#%%\n"
    },
    "tags": []
   },
   "outputs": [],
   "source": [
    "# add euro conversion rates to trandata DataFrame as column 'eur_rate'\n",
    "\n",
    "fx_uni = fx_uni.rename(columns = {\"CURR_CODE\":\"currency\"})\n",
    "\n",
    "eurdata = trandata.merge(fx_uni, how='left', left_on='currency', right_on='currency')\n",
    "\n",
    "\n",
    "trandata['eur_rate'] = eurdata['RATE']\n"
   ]
  },
  {
   "cell_type": "markdown",
   "id": "ff0c4ac1",
   "metadata": {
    "papermill": {
     "duration": 0.264923,
     "end_time": "2021-06-02T22:18:58.799863",
     "exception": false,
     "start_time": "2021-06-02T22:18:58.534940",
     "status": "completed"
    },
    "tags": []
   },
   "source": [
    "#### Convert currency fields"
   ]
  },
  {
   "cell_type": "code",
   "execution_count": 14,
   "id": "fd85661a",
   "metadata": {
    "execution": {
     "iopub.execute_input": "2021-06-02T22:18:59.364567Z",
     "iopub.status.busy": "2021-06-02T22:18:59.362581Z",
     "iopub.status.idle": "2021-06-02T22:19:00.020643Z",
     "shell.execute_reply": "2021-06-02T22:19:00.021643Z"
    },
    "papermill": {
     "duration": 0.929594,
     "end_time": "2021-06-02T22:19:00.022643",
     "exception": false,
     "start_time": "2021-06-02T22:18:59.093049",
     "status": "completed"
    },
    "pycharm": {
     "is_executing": true,
     "name": "#%%\n"
    },
    "tags": []
   },
   "outputs": [],
   "source": [
    "try:\n",
    "    trandata[cflds] = trandata[cflds].divide(trandata['eur_rate'], axis=\"index\").fillna(0)\n",
    "\n",
    "except KeyError:\n",
    "    trandata[alt_cflds] = trandata[alt_cflds].divide(trandata['eur_rate'], axis=\"index\").fillna(0)\n",
    "\n",
    "    \n"
   ]
  },
  {
   "cell_type": "markdown",
   "id": "bfdff343",
   "metadata": {
    "papermill": {
     "duration": 0.254468,
     "end_time": "2021-06-02T22:19:00.538643",
     "exception": false,
     "start_time": "2021-06-02T22:19:00.284175",
     "status": "completed"
    },
    "tags": []
   },
   "source": [
    "#### Output to {percode}.euroconv.csv"
   ]
  },
  {
   "cell_type": "code",
   "execution_count": 15,
   "id": "69afc7d1",
   "metadata": {
    "execution": {
     "iopub.execute_input": "2021-06-02T22:19:01.054896Z",
     "iopub.status.busy": "2021-06-02T22:19:01.053895Z",
     "iopub.status.idle": "2021-06-02T22:19:54.040486Z",
     "shell.execute_reply": "2021-06-02T22:19:54.041489Z"
    },
    "papermill": {
     "duration": 53.253661,
     "end_time": "2021-06-02T22:19:54.042487",
     "exception": false,
     "start_time": "2021-06-02T22:19:00.788826",
     "status": "completed"
    },
    "pycharm": {
     "is_executing": true,
     "name": "#%%\n"
    },
    "tags": []
   },
   "outputs": [],
   "source": [
    "trandata.to_csv( os.path.join(   rt_path , euro_file) , ',', index=False, encoding='utf-8-sig')\n"
   ]
  },
  {
   "cell_type": "code",
   "execution_count": 16,
   "id": "84e6db9b",
   "metadata": {
    "execution": {
     "iopub.execute_input": "2021-06-02T22:19:54.631199Z",
     "iopub.status.busy": "2021-06-02T22:19:54.630194Z",
     "iopub.status.idle": "2021-06-02T22:19:54.638198Z",
     "shell.execute_reply": "2021-06-02T22:19:54.640192Z"
    },
    "papermill": {
     "duration": 0.266045,
     "end_time": "2021-06-02T22:19:54.640192",
     "exception": false,
     "start_time": "2021-06-02T22:19:54.374147",
     "status": "completed"
    },
    "tags": []
   },
   "outputs": [],
   "source": [
    "#### Store the DataFrame for other notebooks to use and open the file location for the user to view the new files"
   ]
  },
  {
   "cell_type": "code",
   "execution_count": 17,
   "id": "d0752efa",
   "metadata": {
    "execution": {
     "iopub.execute_input": "2021-06-02T22:19:55.155715Z",
     "iopub.status.busy": "2021-06-02T22:19:55.153786Z",
     "iopub.status.idle": "2021-06-02T22:19:55.542236Z",
     "shell.execute_reply": "2021-06-02T22:19:55.544229Z"
    },
    "papermill": {
     "duration": 0.655031,
     "end_time": "2021-06-02T22:19:55.544229",
     "exception": false,
     "start_time": "2021-06-02T22:19:54.889198",
     "status": "completed"
    },
    "tags": []
   },
   "outputs": [
    {
     "name": "stdout",
     "output_type": "stream",
     "text": [
      "Stored 'mo_df' (DataFrame)\n"
     ]
    }
   ],
   "source": [
    "mo_df = trandata\n",
    "\n",
    "%store mo_df\n",
    "\n",
    "\n",
    "os.startfile( rt_path   )\n",
    "\n"
   ]
  },
  {
   "cell_type": "code",
   "execution_count": null,
   "id": "01d30f6c",
   "metadata": {
    "papermill": {
     "duration": 0.255997,
     "end_time": "2021-06-02T22:19:56.062771",
     "exception": false,
     "start_time": "2021-06-02T22:19:55.806774",
     "status": "completed"
    },
    "tags": []
   },
   "outputs": [],
   "source": []
  }
 ],
 "metadata": {
  "celltoolbar": "Tags",
  "kernelspec": {
   "display_name": "Python 3",
   "language": "python",
   "name": "python3"
  },
  "language_info": {
   "codemirror_mode": {
    "name": "ipython",
    "version": 3
   },
   "file_extension": ".py",
   "mimetype": "text/x-python",
   "name": "python",
   "nbconvert_exporter": "python",
   "pygments_lexer": "ipython3",
   "version": "3.7.6"
  },
  "papermill": {
   "default_parameters": {},
   "duration": 140.837285,
   "end_time": "2021-06-02T22:19:56.857616",
   "environment_variables": {},
   "exception": null,
   "input_path": "pipeline/make_output.ipynb",
   "output_path": "//hecate/Insurance_US/Product Development/Product Management/Global PPM/Reporting/Data Collection/Pipeline Reporting Scripts/GPMpipeline/instances/2021.Q1\\pipeline\\make_output06022021181054--live, add US.ipynb",
   "parameters": {
    "commit_message": "Live run, added US, some troubleshooting.",
    "inst_datetime": "06022021181054",
    "percode": "2021.Q1",
    "run_control": 1
   },
   "start_time": "2021-06-02T22:17:36.020331",
   "version": "2.3.3"
  }
 },
 "nbformat": 4,
 "nbformat_minor": 5
}