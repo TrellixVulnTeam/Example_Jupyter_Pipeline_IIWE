{
 "cells": [
  {
   "cell_type": "markdown",
   "id": "161cab44",
   "metadata": {
    "papermill": {
     "duration": 0.293515,
     "end_time": "2021-06-02T18:18:05.509331",
     "exception": false,
     "start_time": "2021-06-02T18:18:05.215816",
     "status": "completed"
    },
    "pycharm": {
     "name": "#%% md\n"
    },
    "tags": []
   },
   "source": [
    "<img src=\"../images/AzPTravel_PPM.png\">"
   ]
  },
  {
   "cell_type": "markdown",
   "id": "3ab99387",
   "metadata": {
    "papermill": {
     "duration": 0.257047,
     "end_time": "2021-06-02T18:18:06.009374",
     "exception": false,
     "start_time": "2021-06-02T18:18:05.752327",
     "status": "completed"
    },
    "tags": []
   },
   "source": [
    "## GPM Pipeline Output maker\n",
    "\n",
    "#### This script\n",
    "- loads the transformed parquet file\n",
    "- creates the file {parquet}.localcur.csv\n",
    "- makes the Euro conversions\n",
    "- outputs {parquet}.euroconv.csv\n"
   ]
  },
  {
   "cell_type": "markdown",
   "id": "584fe635",
   "metadata": {
    "papermill": {
     "duration": 0.249281,
     "end_time": "2021-06-02T18:18:06.520890",
     "exception": false,
     "start_time": "2021-06-02T18:18:06.271609",
     "status": "completed"
    },
    "tags": []
   },
   "source": [
    "#### Parameters section"
   ]
  },
  {
   "cell_type": "code",
   "execution_count": 1,
   "id": "1c66f46e",
   "metadata": {
    "execution": {
     "iopub.execute_input": "2021-06-02T18:18:07.031974Z",
     "iopub.status.busy": "2021-06-02T18:18:07.028969Z",
     "iopub.status.idle": "2021-06-02T18:18:07.034982Z",
     "shell.execute_reply": "2021-06-02T18:18:07.041967Z"
    },
    "papermill": {
     "duration": 0.268054,
     "end_time": "2021-06-02T18:18:07.041967",
     "exception": false,
     "start_time": "2021-06-02T18:18:06.773913",
     "status": "completed"
    },
    "pycharm": {
     "name": "#%%\n"
    },
    "tags": [
     "parameters"
    ]
   },
   "outputs": [],
   "source": [
    "commit = \"\"\n",
    "# give a reason for the run\n",
    "\n",
    "percode = \"20XX.QX\"\n",
    "# Data Collection Code, this controls file paths and output names\n",
    "\n",
    "run_type = 1\n",
    "#run_type =  0 - lite run with no reporting, not recommended.\n",
    "#run_type =  1 - lite run with normal reporting, default setting.\n",
    "#run_type =  2 - Heavy run with full reporting, available for audits and troubleshooting.\n",
    "\n",
    "specialchars = \"-GTHtest\"\n",
    "# optional - add up to a 12 character code in order to mark your instance record .ipynb\n",
    "\n",
    "from datetime import datetime\n",
    "inst_datetime = datetime.now().strftime(\"%m%d%Y%H%M%S\")\n",
    "# a single datetime stamp for the full instance run\n"
   ]
  },
  {
   "cell_type": "code",
   "execution_count": 2,
   "id": "8b6530ca",
   "metadata": {
    "execution": {
     "iopub.execute_input": "2021-06-02T18:18:07.583499Z",
     "iopub.status.busy": "2021-06-02T18:18:07.581488Z",
     "iopub.status.idle": "2021-06-02T18:18:07.588491Z",
     "shell.execute_reply": "2021-06-02T18:18:07.587490Z"
    },
    "papermill": {
     "duration": 0.288519,
     "end_time": "2021-06-02T18:18:07.588491",
     "exception": false,
     "start_time": "2021-06-02T18:18:07.299972",
     "status": "completed"
    },
    "tags": [
     "injected-parameters"
    ]
   },
   "outputs": [],
   "source": [
    "# Parameters\n",
    "run_control = 1\n",
    "percode = \"2021.Q1\"\n",
    "commit_message = \"Live run, added AT, bad file name, rerun.\"\n",
    "inst_datetime = \"06022021141349\"\n"
   ]
  },
  {
   "cell_type": "markdown",
   "id": "c21ebe9e",
   "metadata": {
    "papermill": {
     "duration": 0.242521,
     "end_time": "2021-06-02T18:18:08.099851",
     "exception": false,
     "start_time": "2021-06-02T18:18:07.857330",
     "status": "completed"
    },
    "tags": []
   },
   "source": [
    "### Set Run Control\n",
    "\n",
    "##### 0 - lite run with no reporting, not recommended.\n",
    "##### 1 - lite run with normal reporting, default setting.\n",
    "##### 2 - Heavy run with full reporting, available for audits and troubleshooting."
   ]
  },
  {
   "cell_type": "code",
   "execution_count": 3,
   "id": "a0ba682a",
   "metadata": {
    "execution": {
     "iopub.execute_input": "2021-06-02T18:18:08.725600Z",
     "iopub.status.busy": "2021-06-02T18:18:08.723595Z",
     "iopub.status.idle": "2021-06-02T18:18:08.735593Z",
     "shell.execute_reply": "2021-06-02T18:18:08.733596Z"
    },
    "papermill": {
     "duration": 0.336173,
     "end_time": "2021-06-02T18:18:08.735593",
     "exception": false,
     "start_time": "2021-06-02T18:18:08.399420",
     "status": "completed"
    },
    "pycharm": {
     "name": "#%%\n"
    },
    "tags": []
   },
   "outputs": [],
   "source": [
    "run_control = 0 # in development mode"
   ]
  },
  {
   "cell_type": "markdown",
   "id": "783b5171",
   "metadata": {
    "papermill": {
     "duration": 0.248824,
     "end_time": "2021-06-02T18:18:09.240969",
     "exception": false,
     "start_time": "2021-06-02T18:18:08.992145",
     "status": "completed"
    },
    "tags": []
   },
   "source": [
    "#### Packages used"
   ]
  },
  {
   "cell_type": "code",
   "execution_count": 4,
   "id": "8e59c4da",
   "metadata": {
    "execution": {
     "iopub.execute_input": "2021-06-02T18:18:09.757496Z",
     "iopub.status.busy": "2021-06-02T18:18:09.756489Z",
     "iopub.status.idle": "2021-06-02T18:18:12.611976Z",
     "shell.execute_reply": "2021-06-02T18:18:12.612982Z"
    },
    "papermill": {
     "duration": 3.106013,
     "end_time": "2021-06-02T18:18:12.612982",
     "exception": false,
     "start_time": "2021-06-02T18:18:09.506969",
     "status": "completed"
    },
    "pycharm": {
     "name": "#%%\n"
    },
    "tags": []
   },
   "outputs": [],
   "source": [
    "import sys\n",
    "import os\n",
    "import pandas as pd"
   ]
  },
  {
   "cell_type": "code",
   "execution_count": 5,
   "id": "8cdd980a",
   "metadata": {
    "execution": {
     "iopub.execute_input": "2021-06-02T18:18:13.120270Z",
     "iopub.status.busy": "2021-06-02T18:18:13.115274Z",
     "iopub.status.idle": "2021-06-02T18:18:13.126270Z",
     "shell.execute_reply": "2021-06-02T18:18:13.127277Z"
    },
    "papermill": {
     "duration": 0.27414,
     "end_time": "2021-06-02T18:18:13.128273",
     "exception": false,
     "start_time": "2021-06-02T18:18:12.854133",
     "status": "completed"
    },
    "pycharm": {
     "name": "#%%\n"
    },
    "tags": []
   },
   "outputs": [],
   "source": [
    "default_DC = \"2021.Q1\"\n",
    "\n",
    "try:\n",
    "    if sys.argv[1] == \"-f\":\n",
    "        percode = default_DC\n",
    "    else:\n",
    "        percode = sys.argv[1]\n",
    "\n",
    "except IndexError:\n",
    "    percode = default_DC\n",
    "except NameError:\n",
    "    percode = default_DC"
   ]
  },
  {
   "cell_type": "markdown",
   "id": "5377a117",
   "metadata": {
    "papermill": {
     "duration": 0.266532,
     "end_time": "2021-06-02T18:18:13.661505",
     "exception": false,
     "start_time": "2021-06-02T18:18:13.394973",
     "status": "completed"
    },
    "tags": []
   },
   "source": [
    "#### Convert paths and files to variables.\n",
    "#### Read data into pd DataFrames.\n",
    "#### Make paths for the live sources."
   ]
  },
  {
   "cell_type": "code",
   "execution_count": 6,
   "id": "6e299572",
   "metadata": {
    "execution": {
     "iopub.execute_input": "2021-06-02T18:18:14.163620Z",
     "iopub.status.busy": "2021-06-02T18:18:14.158617Z",
     "iopub.status.idle": "2021-06-02T18:18:14.170623Z",
     "shell.execute_reply": "2021-06-02T18:18:14.171618Z"
    },
    "papermill": {
     "duration": 0.272112,
     "end_time": "2021-06-02T18:18:14.172618",
     "exception": false,
     "start_time": "2021-06-02T18:18:13.900506",
     "status": "completed"
    },
    "pycharm": {
     "name": "#%%\n"
    },
    "tags": []
   },
   "outputs": [],
   "source": [
    "rt_path = os.path.join('\\\\\\\\hecate\\\\Insurance_US\\\\Product Development\\\\Product Management\\\\Global PPM\\\\Reporting\\\\Data Collection\\\\Production',percode)\n",
    "\n",
    "tempfile = os.path.join(rt_path, f'{percode}.localcur.csv')\n",
    "\n",
    "gppm_file = os.path.join(rt_path, f'GPPM_Input_{str(percode)}.xlsx')\n",
    "\n"
   ]
  },
  {
   "cell_type": "markdown",
   "id": "ca9a4279",
   "metadata": {
    "papermill": {
     "duration": 0.242998,
     "end_time": "2021-06-02T18:18:14.665863",
     "exception": false,
     "start_time": "2021-06-02T18:18:14.422865",
     "status": "completed"
    },
    "tags": []
   },
   "source": [
    "### Make Files"
   ]
  },
  {
   "cell_type": "code",
   "execution_count": 7,
   "id": "e30c6192",
   "metadata": {
    "execution": {
     "iopub.execute_input": "2021-06-02T18:18:15.170150Z",
     "iopub.status.busy": "2021-06-02T18:18:15.167148Z",
     "iopub.status.idle": "2021-06-02T18:18:15.177149Z",
     "shell.execute_reply": "2021-06-02T18:18:15.178162Z"
    },
    "papermill": {
     "duration": 0.247606,
     "end_time": "2021-06-02T18:18:15.178162",
     "exception": false,
     "start_time": "2021-06-02T18:18:14.930556",
     "status": "completed"
    },
    "tags": []
   },
   "outputs": [],
   "source": [
    "local_file = f'{percode}.localcur.csv'\n",
    "euro_file = f'{percode}.euroconv.csv'\n",
    "\n"
   ]
  },
  {
   "cell_type": "markdown",
   "id": "f1b25748",
   "metadata": {
    "papermill": {
     "duration": 0.337,
     "end_time": "2021-06-02T18:18:15.754150",
     "exception": false,
     "start_time": "2021-06-02T18:18:15.417150",
     "status": "completed"
    },
    "tags": []
   },
   "source": [
    "#### Read source"
   ]
  },
  {
   "cell_type": "code",
   "execution_count": 8,
   "id": "4743ce0b",
   "metadata": {
    "execution": {
     "iopub.execute_input": "2021-06-02T18:18:16.245540Z",
     "iopub.status.busy": "2021-06-02T18:18:16.244541Z",
     "iopub.status.idle": "2021-06-02T18:18:19.434567Z",
     "shell.execute_reply": "2021-06-02T18:18:19.432572Z"
    },
    "papermill": {
     "duration": 3.439614,
     "end_time": "2021-06-02T18:18:19.434567",
     "exception": false,
     "start_time": "2021-06-02T18:18:15.994953",
     "status": "completed"
    },
    "pycharm": {
     "name": "#%%\n"
    },
    "tags": []
   },
   "outputs": [],
   "source": [
    "\n",
    "mo_input = pd.read_csv(tempfile, engine='python')\n",
    "\n",
    "\n",
    "\"\"\"reads in the input for the Euro conversion\"\"\"\n",
    "euro = pd.read_excel(gppm_file, sheet_name=\"Euro_Rates\")\n"
   ]
  },
  {
   "cell_type": "markdown",
   "id": "f314e6d3",
   "metadata": {
    "papermill": {
     "duration": 0.235004,
     "end_time": "2021-06-02T18:18:19.908571",
     "exception": false,
     "start_time": "2021-06-02T18:18:19.673567",
     "status": "completed"
    },
    "tags": []
   },
   "source": [
    "#### Output local currency csv"
   ]
  },
  {
   "cell_type": "code",
   "execution_count": 9,
   "id": "faf40974",
   "metadata": {
    "execution": {
     "iopub.execute_input": "2021-06-02T18:18:20.422349Z",
     "iopub.status.busy": "2021-06-02T18:18:20.420783Z",
     "iopub.status.idle": "2021-06-02T18:18:29.181834Z",
     "shell.execute_reply": "2021-06-02T18:18:29.184833Z"
    },
    "papermill": {
     "duration": 9.029146,
     "end_time": "2021-06-02T18:18:29.184833",
     "exception": false,
     "start_time": "2021-06-02T18:18:20.155687",
     "status": "completed"
    },
    "pycharm": {
     "is_executing": true,
     "name": "#%%\n"
    },
    "tags": []
   },
   "outputs": [],
   "source": [
    "mo_input.to_csv(os.path.join(rt_path,local_file), ',', index=False, encoding='utf-8-sig')"
   ]
  },
  {
   "cell_type": "markdown",
   "id": "777a82d3",
   "metadata": {
    "papermill": {
     "duration": 0.250903,
     "end_time": "2021-06-02T18:18:29.735306",
     "exception": false,
     "start_time": "2021-06-02T18:18:29.484403",
     "status": "completed"
    },
    "tags": []
   },
   "source": [
    "#### Convert all currency to Euro\n"
   ]
  },
  {
   "cell_type": "code",
   "execution_count": 10,
   "id": "b29b441e",
   "metadata": {
    "execution": {
     "iopub.execute_input": "2021-06-02T18:18:30.260433Z",
     "iopub.status.busy": "2021-06-02T18:18:30.259435Z",
     "iopub.status.idle": "2021-06-02T18:18:30.267432Z",
     "shell.execute_reply": "2021-06-02T18:18:30.266436Z"
    },
    "papermill": {
     "duration": 0.283131,
     "end_time": "2021-06-02T18:18:30.268432",
     "exception": false,
     "start_time": "2021-06-02T18:18:29.985301",
     "status": "completed"
    },
    "pycharm": {
     "is_executing": true,
     "name": "#%%\n"
    },
    "tags": []
   },
   "outputs": [],
   "source": [
    "\n",
    "\n",
    "cflds = ['written_revenues_net_of_taxes', 'written_revenues', 'earned_revenues_net_of_taxes',\n",
    "         'earned_revenues', 'earned_base_commissions', 'earned_over_commissions', 'upfront_cash_payments',\n",
    "         'total_compensation', 'paid_claims', 'ocr__ibnr', 'actual_incurred_losses',\n",
    "         'internal_variable_costs', 'az_tech_fee', 'internal_fixed_costs',\n",
    "         'hq_fees', 'total_expenses', 'risk_premium', 'profit_or_loss', 'cm_hq_view', 'cm_bu_view', ]\n",
    "\n",
    "alt_cflds = ['written_revenues_net_of_taxes', 'written_revenues', 'earned_revenues_net_of_taxes',\n",
    "         'earned_revenues', 'earned_base_commissions', 'earned_over-commissions', 'upfront_cash_payments',\n",
    "         'total_compensation', 'paid_claims', 'ocr_+_ibnr','actual_incurred_losses_(paid_+_ocr_+_ibnr)',\n",
    "         'internal_variable_costs_(excl._az_tech_fee)', 'az_tech_fee', 'internal_fixed_costs_(excl._hq_fees)',\n",
    "         'hq_fees', 'total_expenses', 'risk_premium', 'profit_or_loss', 'contribution_margin_-_hq_view', 'contribution_margin_-_bu_view', ]\n",
    "\n",
    "\n",
    "\n"
   ]
  },
  {
   "cell_type": "markdown",
   "id": "9cc1fc57",
   "metadata": {
    "papermill": {
     "duration": 0.267991,
     "end_time": "2021-06-02T18:18:30.788764",
     "exception": false,
     "start_time": "2021-06-02T18:18:30.520773",
     "status": "completed"
    },
    "tags": []
   },
   "source": [
    "#### Make a copy for debug purposes"
   ]
  },
  {
   "cell_type": "code",
   "execution_count": 11,
   "id": "a334e0f4",
   "metadata": {
    "execution": {
     "iopub.execute_input": "2021-06-02T18:18:31.283875Z",
     "iopub.status.busy": "2021-06-02T18:18:31.282895Z",
     "iopub.status.idle": "2021-06-02T18:18:31.289873Z",
     "shell.execute_reply": "2021-06-02T18:18:31.289873Z"
    },
    "papermill": {
     "duration": 0.257999,
     "end_time": "2021-06-02T18:18:31.290872",
     "exception": false,
     "start_time": "2021-06-02T18:18:31.032873",
     "status": "completed"
    },
    "pycharm": {
     "is_executing": true,
     "name": "#%%\n"
    },
    "tags": []
   },
   "outputs": [],
   "source": [
    "trandata = mo_input.copy()"
   ]
  },
  {
   "cell_type": "markdown",
   "id": "e1d82409",
   "metadata": {
    "papermill": {
     "duration": 0.25203,
     "end_time": "2021-06-02T18:18:31.785902",
     "exception": false,
     "start_time": "2021-06-02T18:18:31.533872",
     "status": "completed"
    },
    "tags": []
   },
   "source": [
    "#### Convert Currency Below"
   ]
  },
  {
   "cell_type": "code",
   "execution_count": 12,
   "id": "a16c72c4",
   "metadata": {
    "execution": {
     "iopub.execute_input": "2021-06-02T18:18:32.291259Z",
     "iopub.status.busy": "2021-06-02T18:18:32.290242Z",
     "iopub.status.idle": "2021-06-02T18:18:32.296244Z",
     "shell.execute_reply": "2021-06-02T18:18:32.297010Z"
    },
    "papermill": {
     "duration": 0.277564,
     "end_time": "2021-06-02T18:18:32.297983",
     "exception": false,
     "start_time": "2021-06-02T18:18:32.020419",
     "status": "completed"
    },
    "pycharm": {
     "is_executing": true,
     "name": "#%%\n"
    },
    "tags": []
   },
   "outputs": [],
   "source": [
    "# create DataFrame of unique currencies with rates\n",
    "\n",
    "fx_uni = euro[['CURR_CODE','RATE']]\n",
    "fx_uni = fx_uni.drop_duplicates()"
   ]
  },
  {
   "cell_type": "code",
   "execution_count": 13,
   "id": "824c147f",
   "metadata": {
    "execution": {
     "iopub.execute_input": "2021-06-02T18:18:32.827727Z",
     "iopub.status.busy": "2021-06-02T18:18:32.824722Z",
     "iopub.status.idle": "2021-06-02T18:18:32.860728Z",
     "shell.execute_reply": "2021-06-02T18:18:32.861721Z"
    },
    "papermill": {
     "duration": 0.306853,
     "end_time": "2021-06-02T18:18:32.861721",
     "exception": false,
     "start_time": "2021-06-02T18:18:32.554868",
     "status": "completed"
    },
    "pycharm": {
     "is_executing": true,
     "name": "#%%\n"
    },
    "tags": []
   },
   "outputs": [],
   "source": [
    "# add euro conversion rates to trandata DataFrame as column 'eur_rate'\n",
    "\n",
    "fx_uni = fx_uni.rename(columns = {\"CURR_CODE\":\"currency\"})\n",
    "\n",
    "eurdata = trandata.merge(fx_uni, how='left', left_on='currency', right_on='currency')\n",
    "\n",
    "\n",
    "trandata['eur_rate'] = eurdata['RATE']\n"
   ]
  },
  {
   "cell_type": "markdown",
   "id": "b137dc31",
   "metadata": {
    "papermill": {
     "duration": 0.264524,
     "end_time": "2021-06-02T18:18:33.375680",
     "exception": false,
     "start_time": "2021-06-02T18:18:33.111156",
     "status": "completed"
    },
    "tags": []
   },
   "source": [
    "#### Convert currency fields"
   ]
  },
  {
   "cell_type": "code",
   "execution_count": 14,
   "id": "9ed97f13",
   "metadata": {
    "execution": {
     "iopub.execute_input": "2021-06-02T18:18:33.883792Z",
     "iopub.status.busy": "2021-06-02T18:18:33.882448Z",
     "iopub.status.idle": "2021-06-02T18:18:34.188303Z",
     "shell.execute_reply": "2021-06-02T18:18:34.190302Z"
    },
    "papermill": {
     "duration": 0.559539,
     "end_time": "2021-06-02T18:18:34.190302",
     "exception": false,
     "start_time": "2021-06-02T18:18:33.630763",
     "status": "completed"
    },
    "pycharm": {
     "is_executing": true,
     "name": "#%%\n"
    },
    "tags": []
   },
   "outputs": [],
   "source": [
    "try:\n",
    "    trandata[cflds] = trandata[cflds].divide(trandata['eur_rate'], axis=\"index\").fillna(0)\n",
    "\n",
    "except KeyError:\n",
    "    trandata[alt_cflds] = trandata[alt_cflds].divide(trandata['eur_rate'], axis=\"index\").fillna(0)\n",
    "\n",
    "    \n"
   ]
  },
  {
   "cell_type": "markdown",
   "id": "2fa827f9",
   "metadata": {
    "papermill": {
     "duration": 0.251572,
     "end_time": "2021-06-02T18:18:34.688098",
     "exception": false,
     "start_time": "2021-06-02T18:18:34.436526",
     "status": "completed"
    },
    "tags": []
   },
   "source": [
    "#### Output to {percode}.euroconv.csv"
   ]
  },
  {
   "cell_type": "code",
   "execution_count": 15,
   "id": "cbcdf1fb",
   "metadata": {
    "execution": {
     "iopub.execute_input": "2021-06-02T18:18:35.196002Z",
     "iopub.status.busy": "2021-06-02T18:18:35.191993Z",
     "iopub.status.idle": "2021-06-02T18:18:44.398016Z",
     "shell.execute_reply": "2021-06-02T18:18:44.401146Z"
    },
    "papermill": {
     "duration": 9.460711,
     "end_time": "2021-06-02T18:18:44.401682",
     "exception": false,
     "start_time": "2021-06-02T18:18:34.940971",
     "status": "completed"
    },
    "pycharm": {
     "is_executing": true,
     "name": "#%%\n"
    },
    "tags": []
   },
   "outputs": [],
   "source": [
    "trandata.to_csv( os.path.join(   rt_path , euro_file) , ',', index=False, encoding='utf-8-sig')\n"
   ]
  },
  {
   "cell_type": "code",
   "execution_count": 16,
   "id": "b16a0d51",
   "metadata": {
    "execution": {
     "iopub.execute_input": "2021-06-02T18:18:44.939773Z",
     "iopub.status.busy": "2021-06-02T18:18:44.937758Z",
     "iopub.status.idle": "2021-06-02T18:18:44.941758Z",
     "shell.execute_reply": "2021-06-02T18:18:44.942757Z"
    },
    "papermill": {
     "duration": 0.262738,
     "end_time": "2021-06-02T18:18:44.942757",
     "exception": false,
     "start_time": "2021-06-02T18:18:44.680019",
     "status": "completed"
    },
    "tags": []
   },
   "outputs": [],
   "source": [
    "#### Store the DataFrame for other notebooks to use and open the file location for the user to view the new files"
   ]
  },
  {
   "cell_type": "code",
   "execution_count": 17,
   "id": "3a3d6bb7",
   "metadata": {
    "execution": {
     "iopub.execute_input": "2021-06-02T18:18:45.465490Z",
     "iopub.status.busy": "2021-06-02T18:18:45.460496Z",
     "iopub.status.idle": "2021-06-02T18:18:45.712567Z",
     "shell.execute_reply": "2021-06-02T18:18:45.714562Z"
    },
    "papermill": {
     "duration": 0.51334,
     "end_time": "2021-06-02T18:18:45.714562",
     "exception": false,
     "start_time": "2021-06-02T18:18:45.201222",
     "status": "completed"
    },
    "tags": []
   },
   "outputs": [
    {
     "name": "stdout",
     "output_type": "stream",
     "text": [
      "Stored 'mo_df' (DataFrame)\n"
     ]
    }
   ],
   "source": [
    "mo_df = trandata\n",
    "\n",
    "%store mo_df\n",
    "\n",
    "\n",
    "os.startfile( rt_path   )\n",
    "\n"
   ]
  },
  {
   "cell_type": "code",
   "execution_count": null,
   "id": "f6e64d5c",
   "metadata": {
    "papermill": {
     "duration": 0.238121,
     "end_time": "2021-06-02T18:18:46.197793",
     "exception": false,
     "start_time": "2021-06-02T18:18:45.959672",
     "status": "completed"
    },
    "tags": []
   },
   "outputs": [],
   "source": []
  }
 ],
 "metadata": {
  "celltoolbar": "Tags",
  "kernelspec": {
   "display_name": "Python 3",
   "language": "python",
   "name": "python3"
  },
  "language_info": {
   "codemirror_mode": {
    "name": "ipython",
    "version": 3
   },
   "file_extension": ".py",
   "mimetype": "text/x-python",
   "name": "python",
   "nbconvert_exporter": "python",
   "pygments_lexer": "ipython3",
   "version": "3.7.6"
  },
  "papermill": {
   "default_parameters": {},
   "duration": 55.712774,
   "end_time": "2021-06-02T18:18:47.760043",
   "environment_variables": {},
   "exception": null,
   "input_path": "pipeline/make_output.ipynb",
   "output_path": "//hecate/Insurance_US/Product Development/Product Management/Global PPM/Reporting/Data Collection/Pipeline Reporting Scripts/GPMpipeline/instances/2021.Q1\\pipeline\\make_output06022021141349--live, add AT.ipynb",
   "parameters": {
    "commit_message": "Live run, added AT, bad file name, rerun.",
    "inst_datetime": "06022021141349",
    "percode": "2021.Q1",
    "run_control": 1
   },
   "start_time": "2021-06-02T18:17:52.047269",
   "version": "2.3.3"
  }
 },
 "nbformat": 4,
 "nbformat_minor": 5
}