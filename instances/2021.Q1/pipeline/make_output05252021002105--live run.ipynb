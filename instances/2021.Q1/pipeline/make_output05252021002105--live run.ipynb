{
 "cells": [
  {
   "cell_type": "markdown",
   "id": "ec960afd",
   "metadata": {
    "papermill": {
     "duration": 0.291526,
     "end_time": "2021-05-25T04:26:13.614920",
     "exception": false,
     "start_time": "2021-05-25T04:26:13.323394",
     "status": "completed"
    },
    "pycharm": {
     "name": "#%% md\n"
    },
    "tags": []
   },
   "source": [
    "<img src=\"../images/AzPTravel_PPM.png\">"
   ]
  },
  {
   "cell_type": "markdown",
   "id": "6ee2172f",
   "metadata": {
    "papermill": {
     "duration": 0.272052,
     "end_time": "2021-05-25T04:26:14.154974",
     "exception": false,
     "start_time": "2021-05-25T04:26:13.882922",
     "status": "completed"
    },
    "tags": []
   },
   "source": [
    "## GPM Pipeline Output maker\n",
    "\n",
    "#### This script\n",
    "- loads the transformed parquet file\n",
    "- creates the file {parquet}.localcur.csv\n",
    "- makes the Euro conversions\n",
    "- outputs {parquet}.euroconv.csv\n"
   ]
  },
  {
   "cell_type": "markdown",
   "id": "e10eaad0",
   "metadata": {
    "papermill": {
     "duration": 0.265179,
     "end_time": "2021-05-25T04:26:14.713685",
     "exception": false,
     "start_time": "2021-05-25T04:26:14.448506",
     "status": "completed"
    },
    "tags": []
   },
   "source": [
    "#### Parameters section"
   ]
  },
  {
   "cell_type": "code",
   "execution_count": 1,
   "id": "c2f52cab",
   "metadata": {
    "execution": {
     "iopub.execute_input": "2021-05-25T04:26:15.373241Z",
     "iopub.status.busy": "2021-05-25T04:26:15.371240Z",
     "iopub.status.idle": "2021-05-25T04:26:15.379240Z",
     "shell.execute_reply": "2021-05-25T04:26:15.381239Z"
    },
    "papermill": {
     "duration": 0.354006,
     "end_time": "2021-05-25T04:26:15.382246",
     "exception": false,
     "start_time": "2021-05-25T04:26:15.028240",
     "status": "completed"
    },
    "pycharm": {
     "name": "#%%\n"
    },
    "tags": [
     "parameters"
    ]
   },
   "outputs": [],
   "source": [
    "commit = \"\"\n",
    "# give a reason for the run\n",
    "\n",
    "percode = \"20XX.QX\"\n",
    "# Data Collection Code, this controls file paths and output names\n",
    "\n",
    "run_type = 1\n",
    "#run_type =  0 - lite run with no reporting, not recommended.\n",
    "#run_type =  1 - lite run with normal reporting, default setting.\n",
    "#run_type =  2 - Heavy run with full reporting, available for audits and troubleshooting.\n",
    "\n",
    "specialchars = \"-GTHtest\"\n",
    "# optional - add up to a 12 character code in order to mark your instance record .ipynb\n",
    "\n",
    "from datetime import datetime\n",
    "inst_datetime = datetime.now().strftime(\"%m%d%Y%H%M%S\")\n",
    "# a single datetime stamp for the full instance run\n"
   ]
  },
  {
   "cell_type": "code",
   "execution_count": 2,
   "id": "fd5992b0",
   "metadata": {
    "execution": {
     "iopub.execute_input": "2021-05-25T04:26:15.964251Z",
     "iopub.status.busy": "2021-05-25T04:26:15.961258Z",
     "iopub.status.idle": "2021-05-25T04:26:15.971246Z",
     "shell.execute_reply": "2021-05-25T04:26:15.972248Z"
    },
    "papermill": {
     "duration": 0.313007,
     "end_time": "2021-05-25T04:26:15.973252",
     "exception": false,
     "start_time": "2021-05-25T04:26:15.660245",
     "status": "completed"
    },
    "tags": [
     "injected-parameters"
    ]
   },
   "outputs": [],
   "source": [
    "# Parameters\n",
    "run_control = 1\n",
    "percode = \"2021.Q1\"\n",
    "commit_message = \"Edited data for Austraila, json 2 parquet and add comments from email. Begin general evaluation of data submissions.\"\n",
    "inst_datetime = \"05252021002105\"\n"
   ]
  },
  {
   "cell_type": "markdown",
   "id": "1ce1764b",
   "metadata": {
    "papermill": {
     "duration": 0.262532,
     "end_time": "2021-05-25T04:26:16.519837",
     "exception": false,
     "start_time": "2021-05-25T04:26:16.257305",
     "status": "completed"
    },
    "tags": []
   },
   "source": [
    "### Set Run Control\n",
    "\n",
    "##### 0 - lite run with no reporting, not recommended.\n",
    "##### 1 - lite run with normal reporting, default setting.\n",
    "##### 2 - Heavy run with full reporting, available for audits and troubleshooting."
   ]
  },
  {
   "cell_type": "code",
   "execution_count": 3,
   "id": "c4bd9b22",
   "metadata": {
    "execution": {
     "iopub.execute_input": "2021-05-25T04:26:17.127669Z",
     "iopub.status.busy": "2021-05-25T04:26:17.124668Z",
     "iopub.status.idle": "2021-05-25T04:26:17.132668Z",
     "shell.execute_reply": "2021-05-25T04:26:17.133667Z"
    },
    "papermill": {
     "duration": 0.356311,
     "end_time": "2021-05-25T04:26:17.134667",
     "exception": false,
     "start_time": "2021-05-25T04:26:16.778356",
     "status": "completed"
    },
    "pycharm": {
     "name": "#%%\n"
    },
    "tags": []
   },
   "outputs": [],
   "source": [
    "run_control = 0 # in development mode"
   ]
  },
  {
   "cell_type": "markdown",
   "id": "ca7f84ec",
   "metadata": {
    "papermill": {
     "duration": 0.251584,
     "end_time": "2021-05-25T04:26:17.644900",
     "exception": false,
     "start_time": "2021-05-25T04:26:17.393316",
     "status": "completed"
    },
    "tags": []
   },
   "source": [
    "#### Packages used"
   ]
  },
  {
   "cell_type": "code",
   "execution_count": 4,
   "id": "4d97628d",
   "metadata": {
    "execution": {
     "iopub.execute_input": "2021-05-25T04:26:18.181387Z",
     "iopub.status.busy": "2021-05-25T04:26:18.179358Z",
     "iopub.status.idle": "2021-05-25T04:26:19.253683Z",
     "shell.execute_reply": "2021-05-25T04:26:19.256915Z"
    },
    "papermill": {
     "duration": 1.367472,
     "end_time": "2021-05-25T04:26:19.257678",
     "exception": false,
     "start_time": "2021-05-25T04:26:17.890206",
     "status": "completed"
    },
    "pycharm": {
     "name": "#%%\n"
    },
    "tags": []
   },
   "outputs": [],
   "source": [
    "import sys\n",
    "import os\n",
    "import pandas as pd"
   ]
  },
  {
   "cell_type": "code",
   "execution_count": 5,
   "id": "ef42451b",
   "metadata": {
    "execution": {
     "iopub.execute_input": "2021-05-25T04:26:19.829452Z",
     "iopub.status.busy": "2021-05-25T04:26:19.825451Z",
     "iopub.status.idle": "2021-05-25T04:26:19.836465Z",
     "shell.execute_reply": "2021-05-25T04:26:19.838455Z"
    },
    "papermill": {
     "duration": 0.301108,
     "end_time": "2021-05-25T04:26:19.838455",
     "exception": false,
     "start_time": "2021-05-25T04:26:19.537347",
     "status": "completed"
    },
    "pycharm": {
     "name": "#%%\n"
    },
    "tags": []
   },
   "outputs": [],
   "source": [
    "default_DC = \"2021.Q1\"\n",
    "\n",
    "try:\n",
    "    if sys.argv[1] == \"-f\":\n",
    "        percode = default_DC\n",
    "    else:\n",
    "        percode = sys.argv[1]\n",
    "\n",
    "except IndexError:\n",
    "    percode = default_DC\n",
    "except NameError:\n",
    "    percode = default_DC"
   ]
  },
  {
   "cell_type": "markdown",
   "id": "ec2dad90",
   "metadata": {
    "papermill": {
     "duration": 0.272003,
     "end_time": "2021-05-25T04:26:20.375455",
     "exception": false,
     "start_time": "2021-05-25T04:26:20.103452",
     "status": "completed"
    },
    "tags": []
   },
   "source": [
    "#### Convert paths and files to variables.\n",
    "#### Read data into pd DataFrames.\n",
    "#### Make paths for the live sources."
   ]
  },
  {
   "cell_type": "code",
   "execution_count": 6,
   "id": "affa1981",
   "metadata": {
    "execution": {
     "iopub.execute_input": "2021-05-25T04:26:21.015200Z",
     "iopub.status.busy": "2021-05-25T04:26:21.008209Z",
     "iopub.status.idle": "2021-05-25T04:26:21.039199Z",
     "shell.execute_reply": "2021-05-25T04:26:21.043202Z"
    },
    "papermill": {
     "duration": 0.399529,
     "end_time": "2021-05-25T04:26:21.045209",
     "exception": false,
     "start_time": "2021-05-25T04:26:20.645680",
     "status": "completed"
    },
    "pycharm": {
     "name": "#%%\n"
    },
    "tags": []
   },
   "outputs": [],
   "source": [
    "rt_path = f'//hecate/Insurance_US/Product Development/Product Manag' \\\n",
    "          f'ement/Global PPM/Reporting/Data Collection/Production/{str(percode)}'\n",
    "tempfile = os.path.join(rt_path, f'{str(percode)}.localcur.parquet')\n",
    "gppm_file = os.path.join(rt_path, f'GPPM_Input_{str(percode)}.xlsx')"
   ]
  },
  {
   "cell_type": "markdown",
   "id": "a1f01086",
   "metadata": {
    "papermill": {
     "duration": 0.278576,
     "end_time": "2021-05-25T04:26:21.622430",
     "exception": false,
     "start_time": "2021-05-25T04:26:21.343854",
     "status": "completed"
    },
    "tags": []
   },
   "source": [
    "#### Read source"
   ]
  },
  {
   "cell_type": "code",
   "execution_count": 7,
   "id": "066103bc",
   "metadata": {
    "execution": {
     "iopub.execute_input": "2021-05-25T04:26:22.144493Z",
     "iopub.status.busy": "2021-05-25T04:26:22.141492Z",
     "iopub.status.idle": "2021-05-25T04:26:23.245313Z",
     "shell.execute_reply": "2021-05-25T04:26:23.246312Z"
    },
    "papermill": {
     "duration": 1.35488,
     "end_time": "2021-05-25T04:26:23.247310",
     "exception": false,
     "start_time": "2021-05-25T04:26:21.892430",
     "status": "completed"
    },
    "pycharm": {
     "name": "#%%\n"
    },
    "tags": []
   },
   "outputs": [
    {
     "name": "stdout",
     "output_type": "stream",
     "text": [
      "     business_unit                   submission_file country currency  \\\n",
      "0               AU  us_dat_au_02172021174434.parquet      AU      AUD   \n",
      "1               AU  us_dat_au_02172021174434.parquet      AU      AUD   \n",
      "2               AU  us_dat_au_02172021174434.parquet      AU      AUD   \n",
      "3               AU  us_dat_au_02172021174434.parquet      AU      AUD   \n",
      "4               AU  us_dat_au_02172021174434.parquet      AU      AUD   \n",
      "...            ...                               ...     ...      ...   \n",
      "1952            PT  us_dat_pt_05202021121056.parquet      PT      EUR   \n",
      "1953            PT  us_dat_pt_05202021121056.parquet      PT      EUR   \n",
      "1954            PT  us_dat_pt_05202021121056.parquet      PT      EUR   \n",
      "1955            PT  us_dat_pt_05202021121056.parquet      PT      EUR   \n",
      "1956            PT  us_dat_pt_05202021121056.parquet      PT      EUR   \n",
      "\n",
      "                           region reporting_date_from reporting_date_to  \\\n",
      "0                            APAC          2020-01-01        2020-12-31   \n",
      "1                            APAC          2020-01-01        2020-12-31   \n",
      "2                            APAC          2020-01-01        2020-12-31   \n",
      "3                            APAC          2020-01-01        2020-12-31   \n",
      "4                            APAC          2020-01-01        2020-12-31   \n",
      "...                           ...                 ...               ...   \n",
      "1952  Western Europe, LATAM & MEA          2021-01-01        2021-03-31   \n",
      "1953  Western Europe, LATAM & MEA          2021-01-01        2021-03-31   \n",
      "1954  Western Europe, LATAM & MEA          2021-01-01        2021-03-31   \n",
      "1955  Western Europe, LATAM & MEA          2021-01-01        2021-03-31   \n",
      "1956  Western Europe, LATAM & MEA          2021-01-01        2021-03-31   \n",
      "\n",
      "     date_of_analysis         type_of_analysis  analysed_months  ...  \\\n",
      "0          2021-02-08  Most Recently 12 Months             12.0  ...   \n",
      "1          2021-02-08  Most Recently 12 Months             12.0  ...   \n",
      "2          2021-02-08  Most Recently 12 Months             12.0  ...   \n",
      "3          2021-02-08  Most Recently 12 Months             12.0  ...   \n",
      "4          2021-02-08  Most Recently 12 Months             12.0  ...   \n",
      "...               ...                      ...              ...  ...   \n",
      "1952       2021-03-31             Year To Date              3.0  ...   \n",
      "1953       2021-03-31             Year To Date              3.0  ...   \n",
      "1954       2021-03-31             Year To Date              3.0  ...   \n",
      "1955       2021-03-31             Year To Date              3.0  ...   \n",
      "1956       2021-03-31             Year To Date              3.0  ...   \n",
      "\n",
      "      date_of_analysis_int                     selected_fields_for_duplicates  \\\n",
      "0                 20210208  AUInsuranceLocalB2B2CTravelAllianz Affiliation...   \n",
      "1                 20210208  AUInsuranceLocalB2B2CTravelOffline Travel Agen...   \n",
      "2                 20210208  AUInsuranceLocalB2B2CTravelOffline Travel Agen...   \n",
      "3                 20210208  AUInsuranceLocalB2B2CTravelAllianz Affiliation...   \n",
      "4                 20210208  AUInsuranceLocalB2B2CTravelCarriers - Airlines...   \n",
      "...                    ...                                                ...   \n",
      "1952              20210331  PTReinsuranceLocalB2B2CTravelDirect (Allianz P...   \n",
      "1953              20210331  PTReinsuranceLocalB2B2CTravelDirect (Allianz P...   \n",
      "1954              20210331  PTReinsuranceLocalB2B2CTravelDirect (Allianz P...   \n",
      "1955              20210331  PTReinsuranceLocalB2B2CTravelDirect (Allianz P...   \n",
      "1956              20210331  PTReinsuranceLocalB2BTravelDirect (Allianz Par...   \n",
      "\n",
      "      pct_of_ibnr_on_ocr__ibnr unnamed:_66 ibnrsub   rep_date  \\\n",
      "0                          0.0         0.0     0.0 2020-12-31   \n",
      "1                          0.0         0.0     0.0 2020-12-31   \n",
      "2                          0.0         0.0     0.0 2020-12-31   \n",
      "3                          0.0         0.0     0.0 2020-12-31   \n",
      "4                          0.0         0.0     0.0 2020-12-31   \n",
      "...                        ...         ...     ...        ...   \n",
      "1952                       0.0         0.0     0.0 2021-03-31   \n",
      "1953                       0.0         0.0     0.0 2021-03-31   \n",
      "1954                       0.0         0.0     0.0 2021-03-31   \n",
      "1955                       0.0         0.0     0.0 2021-03-31   \n",
      "1956                       0.0         0.0     0.0 2021-03-31   \n",
      "\n",
      "     __index_level_0__   bu_descr month_of_analysis_max      reporting_period  \n",
      "0                    0  Australia              2021 Feb  2020 Jan to 2020 Dec  \n",
      "1                    1  Australia              2021 Feb  2020 Jan to 2020 Dec  \n",
      "2                    2  Australia              2021 Feb  2020 Jan to 2020 Dec  \n",
      "3                    3  Australia              2021 Feb  2020 Jan to 2020 Dec  \n",
      "4                    4  Australia              2021 Feb  2020 Jan to 2020 Dec  \n",
      "...                ...        ...                   ...                   ...  \n",
      "1952              3451   Portugal              2021 Mar  2021 Jan to 2021 Mar  \n",
      "1953              3452   Portugal              2021 Mar  2021 Jan to 2021 Mar  \n",
      "1954              3453   Portugal              2021 Mar  2021 Jan to 2021 Mar  \n",
      "1955              3454   Portugal              2021 Mar  2021 Jan to 2021 Mar  \n",
      "1956              3455   Portugal              2021 Mar  2021 Jan to 2021 Mar  \n",
      "\n",
      "[1957 rows x 82 columns]\n"
     ]
    }
   ],
   "source": [
    "mo_input = pd.read_parquet(tempfile, engine='pyarrow')\n",
    "\n",
    "print(mo_input)"
   ]
  },
  {
   "cell_type": "markdown",
   "id": "068a3fdc",
   "metadata": {
    "papermill": {
     "duration": 0.267007,
     "end_time": "2021-05-25T04:26:23.773318",
     "exception": false,
     "start_time": "2021-05-25T04:26:23.506311",
     "status": "completed"
    },
    "tags": []
   },
   "source": [
    "#### Output local currency csv"
   ]
  },
  {
   "cell_type": "code",
   "execution_count": 8,
   "id": "2f4211f0",
   "metadata": {
    "execution": {
     "iopub.execute_input": "2021-05-25T04:26:24.327320Z",
     "iopub.status.busy": "2021-05-25T04:26:24.323319Z",
     "iopub.status.idle": "2021-05-25T04:26:34.090210Z",
     "shell.execute_reply": "2021-05-25T04:26:34.091205Z"
    },
    "papermill": {
     "duration": 10.046897,
     "end_time": "2021-05-25T04:26:34.092213",
     "exception": false,
     "start_time": "2021-05-25T04:26:24.045316",
     "status": "completed"
    },
    "pycharm": {
     "is_executing": true,
     "name": "#%%\n"
    },
    "tags": []
   },
   "outputs": [],
   "source": [
    "mo_input.to_csv(f'//hecate/Insurance_US/Product Development/Product Management/Global PPM/Reporting/Data Collection/Production/{str(percode)}\\\\{str(percode)}.localcur.csv', ',', index=False, encoding='utf-8-sig')"
   ]
  },
  {
   "cell_type": "markdown",
   "id": "358f4d89",
   "metadata": {
    "papermill": {
     "duration": 0.269232,
     "end_time": "2021-05-25T04:26:34.703753",
     "exception": false,
     "start_time": "2021-05-25T04:26:34.434521",
     "status": "completed"
    },
    "tags": []
   },
   "source": [
    "#### Convert all currency to Euro\n"
   ]
  },
  {
   "cell_type": "code",
   "execution_count": 9,
   "id": "75a6c393",
   "metadata": {
    "execution": {
     "iopub.execute_input": "2021-05-25T04:26:35.607823Z",
     "iopub.status.busy": "2021-05-25T04:26:35.603804Z",
     "iopub.status.idle": "2021-05-25T04:26:37.706077Z",
     "shell.execute_reply": "2021-05-25T04:26:37.707077Z"
    },
    "papermill": {
     "duration": 2.727401,
     "end_time": "2021-05-25T04:26:37.708079",
     "exception": false,
     "start_time": "2021-05-25T04:26:34.980678",
     "status": "completed"
    },
    "pycharm": {
     "is_executing": true,
     "name": "#%%\n"
    },
    "tags": []
   },
   "outputs": [],
   "source": [
    "\n",
    "cflds = ['written_revenues_net_of_taxes', 'written_revenues', 'earned_revenues_net_of_taxes',\n",
    "         'earned_revenues', 'earned_base_commissions', 'earned_over_commissions', 'upfront_cash_payments',\n",
    "         'total_compensation', 'paid_claims', 'ocr__ibnr', 'actual_incurred_losses',\n",
    "         'internal_variable_costs', 'az_tech_fee', 'internal_fixed_costs',\n",
    "         'hq_fees', 'total_expenses', 'risk_premium', 'profit_or_loss', 'cm_hq_view',\n",
    "         'cm_bu_view', ]\n",
    "\n",
    "\n",
    "\"\"\"reads in the input for the Euro conversion\"\"\"\n",
    "euro = pd.read_excel(gppm_file, sheet_name=\"Euro_Rates\")\n"
   ]
  },
  {
   "cell_type": "markdown",
   "id": "89db149a",
   "metadata": {
    "papermill": {
     "duration": 0.234001,
     "end_time": "2021-05-25T04:26:38.191228",
     "exception": false,
     "start_time": "2021-05-25T04:26:37.957227",
     "status": "completed"
    },
    "tags": []
   },
   "source": [
    "#### Make a copy for debug purposes"
   ]
  },
  {
   "cell_type": "code",
   "execution_count": 10,
   "id": "f2b3a86f",
   "metadata": {
    "execution": {
     "iopub.execute_input": "2021-05-25T04:26:38.745835Z",
     "iopub.status.busy": "2021-05-25T04:26:38.742837Z",
     "iopub.status.idle": "2021-05-25T04:26:38.754837Z",
     "shell.execute_reply": "2021-05-25T04:26:38.755844Z"
    },
    "papermill": {
     "duration": 0.290946,
     "end_time": "2021-05-25T04:26:38.755844",
     "exception": false,
     "start_time": "2021-05-25T04:26:38.464898",
     "status": "completed"
    },
    "pycharm": {
     "is_executing": true,
     "name": "#%%\n"
    },
    "tags": []
   },
   "outputs": [],
   "source": [
    "trandata = mo_input.copy()"
   ]
  },
  {
   "cell_type": "markdown",
   "id": "f89dd16e",
   "metadata": {
    "papermill": {
     "duration": 0.271522,
     "end_time": "2021-05-25T04:26:39.288520",
     "exception": false,
     "start_time": "2021-05-25T04:26:39.016998",
     "status": "completed"
    },
    "tags": []
   },
   "source": [
    "#### Convert Currency Below"
   ]
  },
  {
   "cell_type": "code",
   "execution_count": 11,
   "id": "e86e14e6",
   "metadata": {
    "execution": {
     "iopub.execute_input": "2021-05-25T04:26:39.895065Z",
     "iopub.status.busy": "2021-05-25T04:26:39.894065Z",
     "iopub.status.idle": "2021-05-25T04:26:39.901063Z",
     "shell.execute_reply": "2021-05-25T04:26:39.902067Z"
    },
    "papermill": {
     "duration": 0.308368,
     "end_time": "2021-05-25T04:26:39.903070",
     "exception": false,
     "start_time": "2021-05-25T04:26:39.594702",
     "status": "completed"
    },
    "pycharm": {
     "is_executing": true,
     "name": "#%%\n"
    },
    "tags": []
   },
   "outputs": [],
   "source": [
    "# create DataFrame of unique currencies with rates\n",
    "\n",
    "fx_uni = euro[['CURR_CODE','RATE']]\n",
    "fx_uni = fx_uni.drop_duplicates()"
   ]
  },
  {
   "cell_type": "code",
   "execution_count": 12,
   "id": "e9439555",
   "metadata": {
    "execution": {
     "iopub.execute_input": "2021-05-25T04:26:40.524068Z",
     "iopub.status.busy": "2021-05-25T04:26:40.520076Z",
     "iopub.status.idle": "2021-05-25T04:26:40.538071Z",
     "shell.execute_reply": "2021-05-25T04:26:40.539072Z"
    },
    "papermill": {
     "duration": 0.321006,
     "end_time": "2021-05-25T04:26:40.540074",
     "exception": false,
     "start_time": "2021-05-25T04:26:40.219068",
     "status": "completed"
    },
    "pycharm": {
     "is_executing": true,
     "name": "#%%\n"
    },
    "tags": []
   },
   "outputs": [],
   "source": [
    "# add euro conversion rates to trandata DataFrame as column 'eur_rate'\n",
    "\n",
    "eurdata = pd.merge(trandata['currency'], fx_uni, left_on='currency', right_on='CURR_CODE', how='left')\n",
    "\n",
    "trandata['eur_rate'] = eurdata['RATE']"
   ]
  },
  {
   "cell_type": "markdown",
   "id": "825cd479",
   "metadata": {
    "papermill": {
     "duration": 0.283516,
     "end_time": "2021-05-25T04:26:41.100064",
     "exception": false,
     "start_time": "2021-05-25T04:26:40.816548",
     "status": "completed"
    },
    "tags": []
   },
   "source": [
    "#### Convert currency fields"
   ]
  },
  {
   "cell_type": "code",
   "execution_count": 13,
   "id": "687467e3",
   "metadata": {
    "execution": {
     "iopub.execute_input": "2021-05-25T04:26:41.659096Z",
     "iopub.status.busy": "2021-05-25T04:26:41.655097Z",
     "iopub.status.idle": "2021-05-25T04:26:41.835879Z",
     "shell.execute_reply": "2021-05-25T04:26:41.837891Z"
    },
    "papermill": {
     "duration": 0.470813,
     "end_time": "2021-05-25T04:26:41.837891",
     "exception": false,
     "start_time": "2021-05-25T04:26:41.367078",
     "status": "completed"
    },
    "pycharm": {
     "is_executing": true,
     "name": "#%%\n"
    },
    "tags": []
   },
   "outputs": [],
   "source": [
    "trandata[cflds] = trandata[cflds].divide(trandata['eur_rate'], axis=\"index\").fillna(0)\n"
   ]
  },
  {
   "cell_type": "markdown",
   "id": "7b8b886f",
   "metadata": {
    "papermill": {
     "duration": 0.282002,
     "end_time": "2021-05-25T04:26:42.429900",
     "exception": false,
     "start_time": "2021-05-25T04:26:42.147898",
     "status": "completed"
    },
    "tags": []
   },
   "source": [
    "#### Output to {percode}.euroconv.csv"
   ]
  },
  {
   "cell_type": "code",
   "execution_count": 14,
   "id": "09179f97",
   "metadata": {
    "execution": {
     "iopub.execute_input": "2021-05-25T04:26:42.962726Z",
     "iopub.status.busy": "2021-05-25T04:26:42.958729Z",
     "iopub.status.idle": "2021-05-25T04:26:52.317027Z",
     "shell.execute_reply": "2021-05-25T04:26:52.318018Z"
    },
    "papermill": {
     "duration": 9.599075,
     "end_time": "2021-05-25T04:26:52.319015",
     "exception": false,
     "start_time": "2021-05-25T04:26:42.719940",
     "status": "completed"
    },
    "pycharm": {
     "is_executing": true,
     "name": "#%%\n"
    },
    "tags": []
   },
   "outputs": [],
   "source": [
    "trandata.to_csv(f'//hecate/Insurance_US/Product Development/Product Management/Global PPM/Reporting/Data Collection/Production/{str(percode)}\\\\{str(percode)}.euroconv.csv', ',', index=False, encoding='utf-8-sig')\n",
    "\n",
    "\n"
   ]
  },
  {
   "cell_type": "markdown",
   "id": "6c81a697",
   "metadata": {
    "papermill": {
     "duration": 0.314643,
     "end_time": "2021-05-25T04:26:52.987811",
     "exception": false,
     "start_time": "2021-05-25T04:26:52.673168",
     "status": "completed"
    },
    "tags": []
   },
   "source": [
    "#### Store the DataFrame for other notebooks to use"
   ]
  },
  {
   "cell_type": "code",
   "execution_count": 15,
   "id": "11b3307e",
   "metadata": {
    "execution": {
     "iopub.execute_input": "2021-05-25T04:26:53.584262Z",
     "iopub.status.busy": "2021-05-25T04:26:53.580262Z",
     "iopub.status.idle": "2021-05-25T04:26:53.611263Z",
     "shell.execute_reply": "2021-05-25T04:26:53.613263Z"
    },
    "papermill": {
     "duration": 0.336563,
     "end_time": "2021-05-25T04:26:53.613263",
     "exception": false,
     "start_time": "2021-05-25T04:26:53.276700",
     "status": "completed"
    },
    "tags": []
   },
   "outputs": [
    {
     "name": "stdout",
     "output_type": "stream",
     "text": [
      "Stored 'mo_df' (DataFrame)\n"
     ]
    }
   ],
   "source": [
    "mo_df = trandata\n",
    "\n",
    "%store mo_df\n"
   ]
  }
 ],
 "metadata": {
  "celltoolbar": "Tags",
  "kernelspec": {
   "display_name": "Python 3",
   "language": "python",
   "name": "python3"
  },
  "language_info": {
   "codemirror_mode": {
    "name": "ipython",
    "version": 3
   },
   "file_extension": ".py",
   "mimetype": "text/x-python",
   "name": "python",
   "nbconvert_exporter": "python",
   "pygments_lexer": "ipython3",
   "version": "3.7.6"
  },
  "papermill": {
   "default_parameters": {},
   "duration": 45.977822,
   "end_time": "2021-05-25T04:26:54.517621",
   "environment_variables": {},
   "exception": null,
   "input_path": "pipeline/make_output.ipynb",
   "output_path": "//hecate/Insurance_US/Product Development/Product Management/Global PPM/Reporting/Data Collection/Pipeline Reporting Scripts/GPMpipeline/instances/2021.Q1\\pipeline\\make_output05252021002105--live run.ipynb",
   "parameters": {
    "commit_message": "Edited data for Austraila, json 2 parquet and add comments from email. Begin general evaluation of data submissions.",
    "inst_datetime": "05252021002105",
    "percode": "2021.Q1",
    "run_control": 1
   },
   "start_time": "2021-05-25T04:26:08.539799",
   "version": "2.3.3"
  }
 },
 "nbformat": 4,
 "nbformat_minor": 5
}