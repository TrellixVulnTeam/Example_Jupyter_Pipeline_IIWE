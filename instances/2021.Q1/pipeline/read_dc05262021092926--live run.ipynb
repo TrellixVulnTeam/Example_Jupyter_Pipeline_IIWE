{
 "cells": [
  {
   "cell_type": "markdown",
   "id": "40057565",
   "metadata": {
    "papermill": {
     "duration": 0.2662,
     "end_time": "2021-05-26T13:31:31.536935",
     "exception": false,
     "start_time": "2021-05-26T13:31:31.270735",
     "status": "completed"
    },
    "tags": []
   },
   "source": [
    "<img src=\"../images/AzPTravel_PPM.png\">"
   ]
  },
  {
   "cell_type": "markdown",
   "id": "cd2abe70",
   "metadata": {
    "papermill": {
     "duration": 0.234906,
     "end_time": "2021-05-26T13:31:32.033839",
     "exception": false,
     "start_time": "2021-05-26T13:31:31.798933",
     "status": "completed"
    },
    "pycharm": {
     "name": "#%% md\n"
    },
    "tags": []
   },
   "source": [
    "## Read in Data Collection Source\n",
    "\n",
    "#### This script fetches the current data collection submission file from the completed \"prep.ipynb\" step into the pipeline.\n"
   ]
  },
  {
   "cell_type": "markdown",
   "id": "979bb899",
   "metadata": {
    "papermill": {
     "duration": 0.322652,
     "end_time": "2021-05-26T13:31:32.699894",
     "exception": false,
     "start_time": "2021-05-26T13:31:32.377242",
     "status": "completed"
    },
    "tags": []
   },
   "source": [
    "### User Variables\n",
    "- These are overwritten if inherited from run_control.ipynb.\n",
    "- Feel Free to reset them for a manual run if you like\n",
    "- Do not save without percode = \"-f\""
   ]
  },
  {
   "cell_type": "code",
   "execution_count": 1,
   "id": "1fad98ca",
   "metadata": {
    "execution": {
     "iopub.execute_input": "2021-05-26T13:31:33.677105Z",
     "iopub.status.busy": "2021-05-26T13:31:33.670103Z",
     "iopub.status.idle": "2021-05-26T13:31:33.682106Z",
     "shell.execute_reply": "2021-05-26T13:31:33.770104Z"
    },
    "papermill": {
     "duration": 0.557048,
     "end_time": "2021-05-26T13:31:33.771104",
     "exception": false,
     "start_time": "2021-05-26T13:31:33.214056",
     "status": "completed"
    },
    "pycharm": {
     "name": "#%%\n"
    },
    "tags": [
     "parameters"
    ]
   },
   "outputs": [],
   "source": [
    "commit_message = \"Development and testing.\"\n",
    "# Give a brief reason for the run.\n",
    "\n",
    "run_control = 1\n",
    "#run_type = 0 - Lite run with no reporting, not recommended.\n",
    "#run_type = 1 - Lite run with normal reporting, default setting.\n",
    "#run_type = 2 - Heavy run with full reporting, available for audits and troubleshooting.\n",
    "#run_type = 5 - A default setting. Indicates the script is being run by an outside process without an inherited value\n",
    "\n",
    "percode = \"2021.Q1\"\n",
    "# Data Collection Code, this controls file paths and output names\n",
    "# \"-f\" is the value indicating a bad inheritance from run with arg\n",
    "\n",
    "#----------\n",
    "# do not edit - this either inherits the full instance timestamp from the papermill book or captures the run time of this script.\n",
    "from datetime import datetime\n",
    "inst_datetime = datetime.now().strftime(\"%m%d%Y%H%M%S\")"
   ]
  },
  {
   "cell_type": "code",
   "execution_count": 2,
   "id": "a45f5f42",
   "metadata": {
    "execution": {
     "iopub.execute_input": "2021-05-26T13:31:34.365885Z",
     "iopub.status.busy": "2021-05-26T13:31:34.363885Z",
     "iopub.status.idle": "2021-05-26T13:31:34.370884Z",
     "shell.execute_reply": "2021-05-26T13:31:34.372886Z"
    },
    "papermill": {
     "duration": 0.31256,
     "end_time": "2021-05-26T13:31:34.372886",
     "exception": false,
     "start_time": "2021-05-26T13:31:34.060326",
     "status": "completed"
    },
    "tags": [
     "injected-parameters"
    ]
   },
   "outputs": [],
   "source": [
    "# Parameters\n",
    "run_control = 1\n",
    "percode = \"2021.Q1\"\n",
    "commit_message = \"Strange etnry found in the 'type of account'.\"\n",
    "inst_datetime = \"05262021092926\"\n"
   ]
  },
  {
   "cell_type": "markdown",
   "id": "a6a577ec",
   "metadata": {
    "papermill": {
     "duration": 0.26252,
     "end_time": "2021-05-26T13:31:34.875934",
     "exception": false,
     "start_time": "2021-05-26T13:31:34.613414",
     "status": "completed"
    },
    "tags": []
   },
   "source": [
    "#### import packages"
   ]
  },
  {
   "cell_type": "code",
   "execution_count": 3,
   "id": "cc789306",
   "metadata": {
    "execution": {
     "iopub.execute_input": "2021-05-26T13:31:35.656597Z",
     "iopub.status.busy": "2021-05-26T13:31:35.654598Z",
     "iopub.status.idle": "2021-05-26T13:31:45.115705Z",
     "shell.execute_reply": "2021-05-26T13:31:45.116702Z"
    },
    "papermill": {
     "duration": 9.808646,
     "end_time": "2021-05-26T13:31:45.117698",
     "exception": false,
     "start_time": "2021-05-26T13:31:35.309052",
     "status": "completed"
    },
    "pycharm": {
     "name": "#%%\n"
    },
    "tags": []
   },
   "outputs": [],
   "source": [
    "import os # System commands\n",
    "import sys # System commands\n",
    "\n",
    "import getpass # parquet file read/write\n",
    "import json # json file read/write\n",
    "from sklearn import datasets # pass vars between .ipynb s\n",
    "\n",
    "import matplotlib.pyplot as plt #Plots and Graphs\n",
    "import pandas as pd #DataFrame and math\n"
   ]
  },
  {
   "cell_type": "markdown",
   "id": "823eeffb",
   "metadata": {
    "papermill": {
     "duration": 0.23752,
     "end_time": "2021-05-26T13:31:45.632504",
     "exception": false,
     "start_time": "2021-05-26T13:31:45.394984",
     "status": "completed"
    },
    "tags": []
   },
   "source": [
    "#### Default Variables, these govern logic, do not edit."
   ]
  },
  {
   "cell_type": "code",
   "execution_count": 4,
   "id": "48ff4a31",
   "metadata": {
    "execution": {
     "iopub.execute_input": "2021-05-26T13:31:46.117720Z",
     "iopub.status.busy": "2021-05-26T13:31:46.115723Z",
     "iopub.status.idle": "2021-05-26T13:31:46.120725Z",
     "shell.execute_reply": "2021-05-26T13:31:46.121720Z"
    },
    "papermill": {
     "duration": 0.248001,
     "end_time": "2021-05-26T13:31:46.122723",
     "exception": false,
     "start_time": "2021-05-26T13:31:45.874722",
     "status": "completed"
    },
    "pycharm": {
     "name": "#%%\n"
    },
    "tags": []
   },
   "outputs": [],
   "source": [
    "default_dc = \"20XX.QX\"\n",
    "default_rc = 0 #extra lite mode\n",
    "dummy_perc = \"33Q3\" # bad inheritance"
   ]
  },
  {
   "cell_type": "markdown",
   "id": "bd9fe6d1",
   "metadata": {
    "papermill": {
     "duration": 0.245074,
     "end_time": "2021-05-26T13:31:46.616991",
     "exception": false,
     "start_time": "2021-05-26T13:31:46.371917",
     "status": "completed"
    },
    "pycharm": {
     "name": "#%% md\n"
    },
    "tags": []
   },
   "source": [
    "#### Script determining run context ie, manual, run_control.ipynb, or other."
   ]
  },
  {
   "cell_type": "code",
   "execution_count": 5,
   "id": "e6c282f6",
   "metadata": {
    "execution": {
     "iopub.execute_input": "2021-05-26T13:31:47.108647Z",
     "iopub.status.busy": "2021-05-26T13:31:47.101645Z",
     "iopub.status.idle": "2021-05-26T13:31:47.113643Z",
     "shell.execute_reply": "2021-05-26T13:31:47.114648Z"
    },
    "papermill": {
     "duration": 0.257431,
     "end_time": "2021-05-26T13:31:47.115642",
     "exception": false,
     "start_time": "2021-05-26T13:31:46.858211",
     "status": "completed"
    },
    "pycharm": {
     "name": "#%%\n"
    },
    "tags": [
     "parameters"
    ]
   },
   "outputs": [],
   "source": [
    "if run_control == 5:\n",
    "    \n",
    "    run_control = default_rc\n",
    "    \n",
    "else:\n",
    "    \n",
    "    run_control = run_control\n",
    "\n",
    "try:\n",
    "    \n",
    "    if sys.argv[1] == \"-f\":\n",
    "        \n",
    "        percode = percode\n",
    "        \n",
    "    else:\n",
    "        \n",
    "        percode = sys.argv[1]\n",
    "\n",
    "except IndexError:\n",
    "    \n",
    "    percode = default_dc\n",
    "\n",
    "except NameError:\n",
    "\n",
    "    percode = default_dc\n"
   ]
  },
  {
   "cell_type": "markdown",
   "id": "687f9823",
   "metadata": {
    "papermill": {
     "duration": 0.219205,
     "end_time": "2021-05-26T13:31:47.598685",
     "exception": false,
     "start_time": "2021-05-26T13:31:47.379480",
     "status": "completed"
    },
    "tags": []
   },
   "source": [
    "#### style settings"
   ]
  },
  {
   "cell_type": "code",
   "execution_count": 6,
   "id": "ceed9cdd",
   "metadata": {
    "execution": {
     "iopub.execute_input": "2021-05-26T13:31:48.147570Z",
     "iopub.status.busy": "2021-05-26T13:31:48.144590Z",
     "iopub.status.idle": "2021-05-26T13:31:48.154577Z",
     "shell.execute_reply": "2021-05-26T13:31:48.156688Z"
    },
    "papermill": {
     "duration": 0.287274,
     "end_time": "2021-05-26T13:31:48.157258",
     "exception": false,
     "start_time": "2021-05-26T13:31:47.869984",
     "status": "completed"
    },
    "tags": []
   },
   "outputs": [],
   "source": [
    "from IPython.core.interactiveshell import InteractiveShell\n",
    "InteractiveShell.ast_node_interactivity = \"all\""
   ]
  },
  {
   "cell_type": "markdown",
   "id": "2be6cde0",
   "metadata": {
    "papermill": {
     "duration": 0.250011,
     "end_time": "2021-05-26T13:31:48.663482",
     "exception": false,
     "start_time": "2021-05-26T13:31:48.413471",
     "status": "completed"
    },
    "pycharm": {
     "name": "#%% md\n"
    },
    "tags": []
   },
   "source": [
    "#### Make paths for the source folder"
   ]
  },
  {
   "cell_type": "code",
   "execution_count": 7,
   "id": "ac0f1642",
   "metadata": {
    "execution": {
     "iopub.execute_input": "2021-05-26T13:31:49.181242Z",
     "iopub.status.busy": "2021-05-26T13:31:49.179235Z",
     "iopub.status.idle": "2021-05-26T13:31:49.185239Z",
     "shell.execute_reply": "2021-05-26T13:31:49.187233Z"
    },
    "papermill": {
     "duration": 0.259233,
     "end_time": "2021-05-26T13:31:49.187233",
     "exception": false,
     "start_time": "2021-05-26T13:31:48.928000",
     "status": "completed"
    },
    "pycharm": {
     "name": "#%%\n"
    },
    "tags": []
   },
   "outputs": [],
   "source": [
    "rt_path = os.path.join(f'\\\\\\\\hecate\\Insurance_US\\Product Development\\Product Management\\Global PPM\\Reporting\\Data Collection\\Production',percode)\n",
    "\n",
    "#archive folders\n",
    "rawpath = os.path.join(rt_path, \"logs\", \"raw_data_file_history\")\n",
    "localpath = os.path.join(rt_path, \"logs\", \"local_currency_source_history\")\n",
    "europath = os.path.join(rt_path, \"logs\", \"euro_source_history\")\n",
    "\n",
    "#script folder\n",
    "scriptpath = os.path.abspath(os.path.join(rt_path, '..', '..', \"Pipeline Reporting Scripts\",\"GPMpipeline\"))\n",
    "\n",
    "piperunner = '//hecate/Insurance_US/Product Development/Product Management/Global PPM/Reporting/_Tools/GitHub/Production Repositories/Pipeline Runner/Pipeline Runner.xlsm'\n"
   ]
  },
  {
   "cell_type": "markdown",
   "id": "928d6b48",
   "metadata": {
    "papermill": {
     "duration": 0.310064,
     "end_time": "2021-05-26T13:31:49.760426",
     "exception": false,
     "start_time": "2021-05-26T13:31:49.450362",
     "status": "completed"
    },
    "tags": []
   },
   "source": [
    "#### Set file variables"
   ]
  },
  {
   "cell_type": "code",
   "execution_count": 8,
   "id": "e11d36de",
   "metadata": {
    "execution": {
     "iopub.execute_input": "2021-05-26T13:31:50.433135Z",
     "iopub.status.busy": "2021-05-26T13:31:50.428136Z",
     "iopub.status.idle": "2021-05-26T13:31:50.439140Z",
     "shell.execute_reply": "2021-05-26T13:31:50.444133Z"
    },
    "papermill": {
     "duration": 0.339228,
     "end_time": "2021-05-26T13:31:50.445181",
     "exception": false,
     "start_time": "2021-05-26T13:31:50.105953",
     "status": "completed"
    },
    "tags": []
   },
   "outputs": [],
   "source": [
    "rawfile = f'{str(percode)}.csv'\n",
    "parqfile = f'{str(percode)}.parquet'\n",
    "rawhistfile = f'{percode}_{inst_datetime}.csv'\n",
    "\n",
    "prepfile = f\"{percode}prep.csv\"\n",
    "prepparq = f\"{percode}prep.parquet\"\n",
    "prephistfile = f'{percode}_{inst_datetime}prep.csv'\n",
    "\n",
    "localfile = f'{percode}.localcur.csv'\n",
    "localhistfile = f'{percode}.localcur_{inst_datetime}.csv'\n",
    "\n",
    "eurofile = f'{percode}.euroconv.csv'\n",
    "eurohistfile = f'{percode}.euroconv_{inst_datetime}.csv'\n",
    "\n",
    "xls_runner = 'Pipeline Runner.xlsm'\n",
    "\n"
   ]
  },
  {
   "cell_type": "markdown",
   "id": "167a5426",
   "metadata": {
    "papermill": {
     "duration": 0.298527,
     "end_time": "2021-05-26T13:31:51.007179",
     "exception": false,
     "start_time": "2021-05-26T13:31:50.708652",
     "status": "completed"
    },
    "pycharm": {
     "name": "#%% md\n"
    },
    "tags": []
   },
   "source": [
    "- Read each json file into temp DataFrame \"data\".\n",
    "- Prep actions - Strip (trim) leading and trailing spaces values in string columns, remove rows without business units.\n",
    "- Append each json output to into 1 DataFrame \"df\".\n",
    "- Process Cleanup, the indices restart with each append, reset and drop the previous."
   ]
  },
  {
   "cell_type": "code",
   "execution_count": 9,
   "id": "d2320e53",
   "metadata": {
    "execution": {
     "iopub.execute_input": "2021-05-26T13:31:51.780678Z",
     "iopub.status.busy": "2021-05-26T13:31:51.762674Z",
     "iopub.status.idle": "2021-05-26T13:31:51.831676Z",
     "shell.execute_reply": "2021-05-26T13:31:51.833674Z"
    },
    "papermill": {
     "duration": 0.503118,
     "end_time": "2021-05-26T13:31:51.833674",
     "exception": false,
     "start_time": "2021-05-26T13:31:51.330556",
     "status": "completed"
    },
    "pycharm": {
     "name": "#%%\n"
    },
    "tags": []
   },
   "outputs": [],
   "source": [
    "\n",
    "try:\n",
    "    %store -r prep_df\n",
    "    df = prep_df\n",
    "\n",
    "except:\n",
    "    \n",
    "    try:\n",
    "        df = pd.read_parquet(os.path.join(rt_path,prepparq), engine = \"pyarrow\")\n",
    "    \n",
    "    except:\n",
    "        df = pd.read_csv(os.path.join(rt_path,prepfile) )\n",
    "\n",
    "if run_control > 0:\n",
    "     \n",
    "    try:\n",
    "        os.remove(prepfile)\n",
    "    \n",
    "    except FileNotFoundError:\n",
    "        pass\n",
    "    \n",
    "    try:\n",
    "        os.remove(prepparq)\n",
    "\n",
    "    except FileNotFoundError:\n",
    "        pass\n",
    "        \n",
    "else:\n",
    "\n",
    "    pass"
   ]
  },
  {
   "cell_type": "markdown",
   "id": "e68604cf",
   "metadata": {
    "papermill": {
     "duration": 0.355264,
     "end_time": "2021-05-26T13:31:52.519727",
     "exception": false,
     "start_time": "2021-05-26T13:31:52.164463",
     "status": "completed"
    },
    "pycharm": {
     "name": "#%% md\n"
    },
    "tags": []
   },
   "source": [
    "#### Upload Charts"
   ]
  },
  {
   "cell_type": "code",
   "execution_count": 10,
   "id": "e23dae42",
   "metadata": {
    "execution": {
     "iopub.execute_input": "2021-05-26T13:31:53.379795Z",
     "iopub.status.busy": "2021-05-26T13:31:53.360796Z",
     "iopub.status.idle": "2021-05-26T13:31:55.248400Z",
     "shell.execute_reply": "2021-05-26T13:31:55.250400Z"
    },
    "papermill": {
     "duration": 2.298301,
     "end_time": "2021-05-26T13:31:55.250400",
     "exception": false,
     "start_time": "2021-05-26T13:31:52.952099",
     "status": "completed"
    },
    "pycharm": {
     "name": "#%%\n"
    },
    "tags": []
   },
   "outputs": [
    {
     "data": {
      "text/plain": [
       "<BarContainer object of 9 artists>"
      ]
     },
     "execution_count": 10,
     "metadata": {},
     "output_type": "execute_result"
    },
    {
     "data": {
      "text/plain": [
       "Text(0.5, 1.0, 'Earned Revenue net of Taxes by BU in thousands LC')"
      ]
     },
     "execution_count": 10,
     "metadata": {},
     "output_type": "execute_result"
    },
    {
     "data": {
      "image/png": "[encoded data removed]",
      "text/plain": [
       "<Figure size 432x288 with 1 Axes>"
      ]
     },
     "metadata": {
      "needs_background": "light"
     },
     "output_type": "display_data"
    },
    {
     "data": {
      "text/plain": [
       "<BarContainer object of 9 artists>"
      ]
     },
     "execution_count": 10,
     "metadata": {},
     "output_type": "execute_result"
    },
    {
     "data": {
      "text/plain": [
       "Text(0.5, 1.0, 'Row Counts by BU')"
      ]
     },
     "execution_count": 10,
     "metadata": {},
     "output_type": "execute_result"
    },
    {
     "data": {
      "image/png": "[encoded data removed]",
      "text/plain": [
       "<Figure size 432x288 with 1 Axes>"
      ]
     },
     "metadata": {
      "needs_background": "light"
     },
     "output_type": "display_data"
    }
   ],
   "source": [
    "def num_format(x):\n",
    "    \"\"\"number format without a currency\"\"\"\n",
    "    return \"{:,.0f}\".format(x)\n",
    "\n",
    "if run_control > 0:\n",
    "\n",
    "    sumdata = df.groupby(['Business Unit']).sum()\n",
    "    sumdata = sumdata.reset_index()\n",
    "    plt.bar(sumdata['Business Unit'], sumdata['Earned Revenues net of Taxes']/1000)\n",
    "    plt.title('Earned Revenue net of Taxes by BU in thousands LC')\n",
    "    plt.show()\n",
    "\n",
    "    countdata = df.groupby(['Business Unit']).count()\n",
    "    countdata = countdata.reset_index()\n",
    "    plt.bar(countdata['Business Unit'], countdata['Earned Revenues net of Taxes'])\n",
    "    plt.title('Row Counts by BU')\n",
    "    plt.show()\n",
    "\n",
    "else:\n",
    "    print(\"Charts Skipped\")"
   ]
  },
  {
   "cell_type": "markdown",
   "id": "a0227a35",
   "metadata": {
    "papermill": {
     "duration": 0.412342,
     "end_time": "2021-05-26T13:31:56.032318",
     "exception": false,
     "start_time": "2021-05-26T13:31:55.619976",
     "status": "completed"
    },
    "tags": []
   },
   "source": [
    "#### Output Processes\n",
    "- Define File names.\n",
    "- If existing csv is found, archive it in \"raw_data_file_history\" folder.\n",
    "- Save new csv."
   ]
  },
  {
   "cell_type": "code",
   "execution_count": 11,
   "id": "b9251277",
   "metadata": {
    "execution": {
     "iopub.execute_input": "2021-05-26T13:31:56.675685Z",
     "iopub.status.busy": "2021-05-26T13:31:56.664684Z",
     "iopub.status.idle": "2021-05-26T13:32:16.012253Z",
     "shell.execute_reply": "2021-05-26T13:32:16.013246Z"
    },
    "papermill": {
     "duration": 19.67109,
     "end_time": "2021-05-26T13:32:16.014250",
     "exception": false,
     "start_time": "2021-05-26T13:31:56.343160",
     "status": "completed"
    },
    "pycharm": {
     "name": "#%%\n"
    },
    "tags": []
   },
   "outputs": [],
   "source": [
    "if run_control > 0:\n",
    "    \n",
    "    try:\n",
    "        os.rename(os.path.join(rt_path , rawfile), os.path.join(rawpath , rawhistfile))\n",
    "    except FileNotFoundError:\n",
    "        pass\n",
    "    try:\n",
    "         os.rename(os.path.join(rt_path , prepfile), os.path.join(rawpath , prephistfile))\n",
    "    except FileNotFoundError:\n",
    "        pass\n",
    "    try:\n",
    "         os.rename(os.path.join(rt_path , localfile), os.path.join(localpath , localhistfile))\n",
    "    except FileNotFoundError:\n",
    "        pass\n",
    "    try:\n",
    "         os.rename(os.path.join(rt_path , eurofile), os.path.join(europath , eurohistfile))\n",
    "    except FileNotFoundError:\n",
    "        pass\n",
    "\n",
    "    df.to_csv(os.path.join(rt_path , rawfile), ',', index=False , encoding='utf-8-sig')\n",
    "    df.to_parquet(os.path.join(rt_path , parqfile), engine = \"pyarrow\") \n",
    "\n",
    "else:\n",
    "    \n",
    "    pass"
   ]
  },
  {
   "cell_type": "markdown",
   "id": "741ea2e0",
   "metadata": {
    "papermill": {
     "duration": 0.324229,
     "end_time": "2021-05-26T13:32:16.703812",
     "exception": false,
     "start_time": "2021-05-26T13:32:16.379583",
     "status": "completed"
    },
    "tags": []
   },
   "source": [
    "- Log update record with commit message and time.\n",
    "- Determine commit message and make new entry"
   ]
  },
  {
   "cell_type": "code",
   "execution_count": 12,
   "id": "99d2bc13",
   "metadata": {
    "execution": {
     "iopub.execute_input": "2021-05-26T13:32:17.429988Z",
     "iopub.status.busy": "2021-05-26T13:32:17.428989Z",
     "iopub.status.idle": "2021-05-26T13:32:18.355923Z",
     "shell.execute_reply": "2021-05-26T13:32:18.356920Z"
    },
    "papermill": {
     "duration": 1.298598,
     "end_time": "2021-05-26T13:32:18.357920",
     "exception": false,
     "start_time": "2021-05-26T13:32:17.059322",
     "status": "completed"
    },
    "pycharm": {
     "name": "#%%\n"
    },
    "tags": []
   },
   "outputs": [
    {
     "data": {
      "text/html": [
       "<div>\n",
       "<style scoped>\n",
       "    .dataframe tbody tr th:only-of-type {\n",
       "        vertical-align: middle;\n",
       "    }\n",
       "\n",
       "    .dataframe tbody tr th {\n",
       "        vertical-align: top;\n",
       "    }\n",
       "\n",
       "    .dataframe thead th {\n",
       "        text-align: right;\n",
       "    }\n",
       "</style>\n",
       "<table border=\"1\" class=\"dataframe\">\n",
       "  <thead>\n",
       "    <tr style=\"text-align: right;\">\n",
       "      <th></th>\n",
       "      <th>run_message\\tdatetime\\tuser</th>\n",
       "      <th>run_message</th>\n",
       "      <th>datetime</th>\n",
       "      <th>user</th>\n",
       "      <th>raw_archive</th>\n",
       "      <th>local_archive</th>\n",
       "      <th>euro_archive</th>\n",
       "    </tr>\n",
       "  </thead>\n",
       "  <tbody>\n",
       "    <tr>\n",
       "      <th>0</th>\n",
       "      <td>NaN</td>\n",
       "      <td>Got something new it.</td>\n",
       "      <td>2021-05-21-090854</td>\n",
       "      <td>gharmo</td>\n",
       "      <td>NaN</td>\n",
       "      <td>NaN</td>\n",
       "      <td>NaN</td>\n",
       "    </tr>\n",
       "    <tr>\n",
       "      <th>1</th>\n",
       "      <td>NaN</td>\n",
       "      <td>Changed some folder names.</td>\n",
       "      <td>2021-05-21-153222</td>\n",
       "      <td>gharmo</td>\n",
       "      <td>NaN</td>\n",
       "      <td>NaN</td>\n",
       "      <td>NaN</td>\n",
       "    </tr>\n",
       "    <tr>\n",
       "      <th>2</th>\n",
       "      <td>NaN</td>\n",
       "      <td>Added finance report to the process flow.</td>\n",
       "      <td>2021-05-21-163305</td>\n",
       "      <td>gharmo</td>\n",
       "      <td>NaN</td>\n",
       "      <td>NaN</td>\n",
       "      <td>NaN</td>\n",
       "    </tr>\n",
       "    <tr>\n",
       "      <th>3</th>\n",
       "      <td>NaN</td>\n",
       "      <td>Added finance report to the process flow.</td>\n",
       "      <td>2021-05-21-165556</td>\n",
       "      <td>gharmo</td>\n",
       "      <td>NaN</td>\n",
       "      <td>NaN</td>\n",
       "      <td>NaN</td>\n",
       "    </tr>\n",
       "    <tr>\n",
       "      <th>4</th>\n",
       "      <td>NaN</td>\n",
       "      <td>Added finance report to the process flow.</td>\n",
       "      <td>2021-05-22-163757</td>\n",
       "      <td>gharmo</td>\n",
       "      <td>NaN</td>\n",
       "      <td>NaN</td>\n",
       "      <td>NaN</td>\n",
       "    </tr>\n",
       "    <tr>\n",
       "      <th>5</th>\n",
       "      <td>NaN</td>\n",
       "      <td>Development and testing.</td>\n",
       "      <td>2021-05-22-164026</td>\n",
       "      <td>gharmo</td>\n",
       "      <td>NaN</td>\n",
       "      <td>NaN</td>\n",
       "      <td>NaN</td>\n",
       "    </tr>\n",
       "    <tr>\n",
       "      <th>6</th>\n",
       "      <td>NaN</td>\n",
       "      <td>Development and testing.</td>\n",
       "      <td>2021-05-22-164505</td>\n",
       "      <td>gharmo</td>\n",
       "      <td>NaN</td>\n",
       "      <td>NaN</td>\n",
       "      <td>NaN</td>\n",
       "    </tr>\n",
       "    <tr>\n",
       "      <th>7</th>\n",
       "      <td>NaN</td>\n",
       "      <td>Added finance report to the process flow.</td>\n",
       "      <td>2021-05-22-164644</td>\n",
       "      <td>gharmo</td>\n",
       "      <td>NaN</td>\n",
       "      <td>NaN</td>\n",
       "      <td>NaN</td>\n",
       "    </tr>\n",
       "    <tr>\n",
       "      <th>8</th>\n",
       "      <td>NaN</td>\n",
       "      <td>Added finance report to the process flow.</td>\n",
       "      <td>2021-05-22-171225</td>\n",
       "      <td>gharmo</td>\n",
       "      <td>NaN</td>\n",
       "      <td>NaN</td>\n",
       "      <td>NaN</td>\n",
       "    </tr>\n",
       "    <tr>\n",
       "      <th>9</th>\n",
       "      <td>NaN</td>\n",
       "      <td>Added finance report to the process flow.</td>\n",
       "      <td>2021-05-22-171928</td>\n",
       "      <td>gharmo</td>\n",
       "      <td>NaN</td>\n",
       "      <td>NaN</td>\n",
       "      <td>NaN</td>\n",
       "    </tr>\n",
       "    <tr>\n",
       "      <th>10</th>\n",
       "      <td>NaN</td>\n",
       "      <td>Added finance report to the process flow.</td>\n",
       "      <td>2021-05-23-174300</td>\n",
       "      <td>gharmo</td>\n",
       "      <td>NaN</td>\n",
       "      <td>NaN</td>\n",
       "      <td>NaN</td>\n",
       "    </tr>\n",
       "    <tr>\n",
       "      <th>11</th>\n",
       "      <td>NaN</td>\n",
       "      <td>Added finance report to the process flow.</td>\n",
       "      <td>2021-05-24-091701</td>\n",
       "      <td>gharmo</td>\n",
       "      <td>NaN</td>\n",
       "      <td>NaN</td>\n",
       "      <td>NaN</td>\n",
       "    </tr>\n",
       "    <tr>\n",
       "      <th>12</th>\n",
       "      <td>NaN</td>\n",
       "      <td>Edited data for Austraila, json 2 parquet and ...</td>\n",
       "      <td>2021-05-24-132352</td>\n",
       "      <td>gharmo</td>\n",
       "      <td>NaN</td>\n",
       "      <td>NaN</td>\n",
       "      <td>NaN</td>\n",
       "    </tr>\n",
       "    <tr>\n",
       "      <th>13</th>\n",
       "      <td>NaN</td>\n",
       "      <td>Edited data for Austraila, json 2 parquet and ...</td>\n",
       "      <td>2021-05-24-155918</td>\n",
       "      <td>gharmo</td>\n",
       "      <td>NaN</td>\n",
       "      <td>NaN</td>\n",
       "      <td>NaN</td>\n",
       "    </tr>\n",
       "    <tr>\n",
       "      <th>14</th>\n",
       "      <td>NaN</td>\n",
       "      <td>Edited data for Austraila, json 2 parquet and ...</td>\n",
       "      <td>2021-05-24-173810</td>\n",
       "      <td>gharmo</td>\n",
       "      <td>NaN</td>\n",
       "      <td>NaN</td>\n",
       "      <td>NaN</td>\n",
       "    </tr>\n",
       "    <tr>\n",
       "      <th>15</th>\n",
       "      <td>NaN</td>\n",
       "      <td>Edited data for Austraila, json 2 parquet and ...</td>\n",
       "      <td>2021-05-24-183245</td>\n",
       "      <td>gharmo</td>\n",
       "      <td>NaN</td>\n",
       "      <td>NaN</td>\n",
       "      <td>NaN</td>\n",
       "    </tr>\n",
       "    <tr>\n",
       "      <th>16</th>\n",
       "      <td>NaN</td>\n",
       "      <td>Edited data for Austraila, json 2 parquet and ...</td>\n",
       "      <td>2021-05-24-234401</td>\n",
       "      <td>gharmo</td>\n",
       "      <td>NaN</td>\n",
       "      <td>NaN</td>\n",
       "      <td>NaN</td>\n",
       "    </tr>\n",
       "    <tr>\n",
       "      <th>17</th>\n",
       "      <td>NaN</td>\n",
       "      <td>Edited data for Austraila, json 2 parquet and ...</td>\n",
       "      <td>2021-05-25-002105</td>\n",
       "      <td>gharmo</td>\n",
       "      <td>NaN</td>\n",
       "      <td>NaN</td>\n",
       "      <td>NaN</td>\n",
       "    </tr>\n",
       "    <tr>\n",
       "      <th>18</th>\n",
       "      <td>NaN</td>\n",
       "      <td>Edited data for Austraila, json 2 parquet and ...</td>\n",
       "      <td>2021-05-25-004239</td>\n",
       "      <td>gharmo</td>\n",
       "      <td>NaN</td>\n",
       "      <td>NaN</td>\n",
       "      <td>NaN</td>\n",
       "    </tr>\n",
       "    <tr>\n",
       "      <th>19</th>\n",
       "      <td>NaN</td>\n",
       "      <td>Edited data for Austraila, json 2 parquet and ...</td>\n",
       "      <td>2021-05-25-084905</td>\n",
       "      <td>gharmo</td>\n",
       "      <td>NaN</td>\n",
       "      <td>NaN</td>\n",
       "      <td>NaN</td>\n",
       "    </tr>\n",
       "    <tr>\n",
       "      <th>20</th>\n",
       "      <td>NaN</td>\n",
       "      <td>Edited data for Austraila, json 2 parquet and ...</td>\n",
       "      <td>2021-05-25-114332</td>\n",
       "      <td>gharmo</td>\n",
       "      <td>NaN</td>\n",
       "      <td>NaN</td>\n",
       "      <td>NaN</td>\n",
       "    </tr>\n",
       "    <tr>\n",
       "      <th>21</th>\n",
       "      <td>NaN</td>\n",
       "      <td>Development and testing.</td>\n",
       "      <td>2021-05-25-130633</td>\n",
       "      <td>gharmo</td>\n",
       "      <td>=HYPERLINK(\"\\\\hecate\\Insurance_US\\Product Deve...</td>\n",
       "      <td>=HYPERLINK(\"\\\\hecate\\Insurance_US\\Product Deve...</td>\n",
       "      <td>=HYPERLINK(\"\\\\hecate\\Insurance_US\\Product Deve...</td>\n",
       "    </tr>\n",
       "    <tr>\n",
       "      <th>22</th>\n",
       "      <td>NaN</td>\n",
       "      <td>Development and testing.</td>\n",
       "      <td>2021-05-25-145858</td>\n",
       "      <td>gharmo</td>\n",
       "      <td>=HYPERLINK(\"\\\\hecate\\Insurance_US\\Product Deve...</td>\n",
       "      <td>=HYPERLINK(\"\\\\hecate\\Insurance_US\\Product Deve...</td>\n",
       "      <td>=HYPERLINK(\"\\\\hecate\\Insurance_US\\Product Deve...</td>\n",
       "    </tr>\n",
       "    <tr>\n",
       "      <th>23</th>\n",
       "      <td>NaN</td>\n",
       "      <td>Development and testing.</td>\n",
       "      <td>2021-05-25-150519</td>\n",
       "      <td>gharmo</td>\n",
       "      <td>=HYPERLINK(\"\\\\hecate\\Insurance_US\\Product Deve...</td>\n",
       "      <td>=HYPERLINK(\"\\\\hecate\\Insurance_US\\Product Deve...</td>\n",
       "      <td>=HYPERLINK(\"\\\\hecate\\Insurance_US\\Product Deve...</td>\n",
       "    </tr>\n",
       "    <tr>\n",
       "      <th>24</th>\n",
       "      <td>NaN</td>\n",
       "      <td>Development and testing.</td>\n",
       "      <td>2021-05-25-150834</td>\n",
       "      <td>gharmo</td>\n",
       "      <td>=HYPERLINK(\"\\\\hecate\\Insurance_US\\Product Deve...</td>\n",
       "      <td>=HYPERLINK(\"\\\\hecate\\Insurance_US\\Product Deve...</td>\n",
       "      <td>=HYPERLINK(\"\\\\hecate\\Insurance_US\\Product Deve...</td>\n",
       "    </tr>\n",
       "    <tr>\n",
       "      <th>25</th>\n",
       "      <td>NaN</td>\n",
       "      <td>Edited data for Austraila, json 2 parquet and ...</td>\n",
       "      <td>2021-05-25-152647</td>\n",
       "      <td>gharmo</td>\n",
       "      <td>=HYPERLINK(\"\\\\hecate\\Insurance_US\\Product Deve...</td>\n",
       "      <td>=HYPERLINK(\"\\\\hecate\\Insurance_US\\Product Deve...</td>\n",
       "      <td>=HYPERLINK(\"\\\\hecate\\Insurance_US\\Product Deve...</td>\n",
       "    </tr>\n",
       "    <tr>\n",
       "      <th>26</th>\n",
       "      <td>NaN</td>\n",
       "      <td>Add PL and CZ, added standard reporting to pip...</td>\n",
       "      <td>2021-05-26-080602</td>\n",
       "      <td>gharmo</td>\n",
       "      <td>=HYPERLINK(\"\\\\hecate\\Insurance_US\\Product Deve...</td>\n",
       "      <td>=HYPERLINK(\"\\\\hecate\\Insurance_US\\Product Deve...</td>\n",
       "      <td>=HYPERLINK(\"\\\\hecate\\Insurance_US\\Product Deve...</td>\n",
       "    </tr>\n",
       "    <tr>\n",
       "      <th>0</th>\n",
       "      <td>NaN</td>\n",
       "      <td>Strange etnry found in the 'type of account'.</td>\n",
       "      <td>2021-05-26-092926</td>\n",
       "      <td>gharmo</td>\n",
       "      <td>=HYPERLINK(\"\\\\hecate\\Insurance_US\\Product Deve...</td>\n",
       "      <td>=HYPERLINK(\"\\\\hecate\\Insurance_US\\Product Deve...</td>\n",
       "      <td>=HYPERLINK(\"\\\\hecate\\Insurance_US\\Product Deve...</td>\n",
       "    </tr>\n",
       "  </tbody>\n",
       "</table>\n",
       "</div>"
      ],
      "text/plain": [
       "    run_message\\tdatetime\\tuser  \\\n",
       "0                           NaN   \n",
       "1                           NaN   \n",
       "2                           NaN   \n",
       "3                           NaN   \n",
       "4                           NaN   \n",
       "5                           NaN   \n",
       "6                           NaN   \n",
       "7                           NaN   \n",
       "8                           NaN   \n",
       "9                           NaN   \n",
       "10                          NaN   \n",
       "11                          NaN   \n",
       "12                          NaN   \n",
       "13                          NaN   \n",
       "14                          NaN   \n",
       "15                          NaN   \n",
       "16                          NaN   \n",
       "17                          NaN   \n",
       "18                          NaN   \n",
       "19                          NaN   \n",
       "20                          NaN   \n",
       "21                          NaN   \n",
       "22                          NaN   \n",
       "23                          NaN   \n",
       "24                          NaN   \n",
       "25                          NaN   \n",
       "26                          NaN   \n",
       "0                           NaN   \n",
       "\n",
       "                                          run_message           datetime  \\\n",
       "0                               Got something new it.  2021-05-21-090854   \n",
       "1                          Changed some folder names.  2021-05-21-153222   \n",
       "2           Added finance report to the process flow.  2021-05-21-163305   \n",
       "3           Added finance report to the process flow.  2021-05-21-165556   \n",
       "4           Added finance report to the process flow.  2021-05-22-163757   \n",
       "5                            Development and testing.  2021-05-22-164026   \n",
       "6                            Development and testing.  2021-05-22-164505   \n",
       "7           Added finance report to the process flow.  2021-05-22-164644   \n",
       "8           Added finance report to the process flow.  2021-05-22-171225   \n",
       "9           Added finance report to the process flow.  2021-05-22-171928   \n",
       "10          Added finance report to the process flow.  2021-05-23-174300   \n",
       "11          Added finance report to the process flow.  2021-05-24-091701   \n",
       "12  Edited data for Austraila, json 2 parquet and ...  2021-05-24-132352   \n",
       "13  Edited data for Austraila, json 2 parquet and ...  2021-05-24-155918   \n",
       "14  Edited data for Austraila, json 2 parquet and ...  2021-05-24-173810   \n",
       "15  Edited data for Austraila, json 2 parquet and ...  2021-05-24-183245   \n",
       "16  Edited data for Austraila, json 2 parquet and ...  2021-05-24-234401   \n",
       "17  Edited data for Austraila, json 2 parquet and ...  2021-05-25-002105   \n",
       "18  Edited data for Austraila, json 2 parquet and ...  2021-05-25-004239   \n",
       "19  Edited data for Austraila, json 2 parquet and ...  2021-05-25-084905   \n",
       "20  Edited data for Austraila, json 2 parquet and ...  2021-05-25-114332   \n",
       "21                           Development and testing.  2021-05-25-130633   \n",
       "22                           Development and testing.  2021-05-25-145858   \n",
       "23                           Development and testing.  2021-05-25-150519   \n",
       "24                           Development and testing.  2021-05-25-150834   \n",
       "25  Edited data for Austraila, json 2 parquet and ...  2021-05-25-152647   \n",
       "26  Add PL and CZ, added standard reporting to pip...  2021-05-26-080602   \n",
       "0       Strange etnry found in the 'type of account'.  2021-05-26-092926   \n",
       "\n",
       "      user                                        raw_archive  \\\n",
       "0   gharmo                                                NaN   \n",
       "1   gharmo                                                NaN   \n",
       "2   gharmo                                                NaN   \n",
       "3   gharmo                                                NaN   \n",
       "4   gharmo                                                NaN   \n",
       "5   gharmo                                                NaN   \n",
       "6   gharmo                                                NaN   \n",
       "7   gharmo                                                NaN   \n",
       "8   gharmo                                                NaN   \n",
       "9   gharmo                                                NaN   \n",
       "10  gharmo                                                NaN   \n",
       "11  gharmo                                                NaN   \n",
       "12  gharmo                                                NaN   \n",
       "13  gharmo                                                NaN   \n",
       "14  gharmo                                                NaN   \n",
       "15  gharmo                                                NaN   \n",
       "16  gharmo                                                NaN   \n",
       "17  gharmo                                                NaN   \n",
       "18  gharmo                                                NaN   \n",
       "19  gharmo                                                NaN   \n",
       "20  gharmo                                                NaN   \n",
       "21  gharmo  =HYPERLINK(\"\\\\hecate\\Insurance_US\\Product Deve...   \n",
       "22  gharmo  =HYPERLINK(\"\\\\hecate\\Insurance_US\\Product Deve...   \n",
       "23  gharmo  =HYPERLINK(\"\\\\hecate\\Insurance_US\\Product Deve...   \n",
       "24  gharmo  =HYPERLINK(\"\\\\hecate\\Insurance_US\\Product Deve...   \n",
       "25  gharmo  =HYPERLINK(\"\\\\hecate\\Insurance_US\\Product Deve...   \n",
       "26  gharmo  =HYPERLINK(\"\\\\hecate\\Insurance_US\\Product Deve...   \n",
       "0   gharmo  =HYPERLINK(\"\\\\hecate\\Insurance_US\\Product Deve...   \n",
       "\n",
       "                                        local_archive  \\\n",
       "0                                                 NaN   \n",
       "1                                                 NaN   \n",
       "2                                                 NaN   \n",
       "3                                                 NaN   \n",
       "4                                                 NaN   \n",
       "5                                                 NaN   \n",
       "6                                                 NaN   \n",
       "7                                                 NaN   \n",
       "8                                                 NaN   \n",
       "9                                                 NaN   \n",
       "10                                                NaN   \n",
       "11                                                NaN   \n",
       "12                                                NaN   \n",
       "13                                                NaN   \n",
       "14                                                NaN   \n",
       "15                                                NaN   \n",
       "16                                                NaN   \n",
       "17                                                NaN   \n",
       "18                                                NaN   \n",
       "19                                                NaN   \n",
       "20                                                NaN   \n",
       "21  =HYPERLINK(\"\\\\hecate\\Insurance_US\\Product Deve...   \n",
       "22  =HYPERLINK(\"\\\\hecate\\Insurance_US\\Product Deve...   \n",
       "23  =HYPERLINK(\"\\\\hecate\\Insurance_US\\Product Deve...   \n",
       "24  =HYPERLINK(\"\\\\hecate\\Insurance_US\\Product Deve...   \n",
       "25  =HYPERLINK(\"\\\\hecate\\Insurance_US\\Product Deve...   \n",
       "26  =HYPERLINK(\"\\\\hecate\\Insurance_US\\Product Deve...   \n",
       "0   =HYPERLINK(\"\\\\hecate\\Insurance_US\\Product Deve...   \n",
       "\n",
       "                                         euro_archive  \n",
       "0                                                 NaN  \n",
       "1                                                 NaN  \n",
       "2                                                 NaN  \n",
       "3                                                 NaN  \n",
       "4                                                 NaN  \n",
       "5                                                 NaN  \n",
       "6                                                 NaN  \n",
       "7                                                 NaN  \n",
       "8                                                 NaN  \n",
       "9                                                 NaN  \n",
       "10                                                NaN  \n",
       "11                                                NaN  \n",
       "12                                                NaN  \n",
       "13                                                NaN  \n",
       "14                                                NaN  \n",
       "15                                                NaN  \n",
       "16                                                NaN  \n",
       "17                                                NaN  \n",
       "18                                                NaN  \n",
       "19                                                NaN  \n",
       "20                                                NaN  \n",
       "21  =HYPERLINK(\"\\\\hecate\\Insurance_US\\Product Deve...  \n",
       "22  =HYPERLINK(\"\\\\hecate\\Insurance_US\\Product Deve...  \n",
       "23  =HYPERLINK(\"\\\\hecate\\Insurance_US\\Product Deve...  \n",
       "24  =HYPERLINK(\"\\\\hecate\\Insurance_US\\Product Deve...  \n",
       "25  =HYPERLINK(\"\\\\hecate\\Insurance_US\\Product Deve...  \n",
       "26  =HYPERLINK(\"\\\\hecate\\Insurance_US\\Product Deve...  \n",
       "0   =HYPERLINK(\"\\\\hecate\\Insurance_US\\Product Deve...  "
      ]
     },
     "execution_count": 12,
     "metadata": {},
     "output_type": "execute_result"
    }
   ],
   "source": [
    "log = os.path.join(rt_path, \"logs\", 'pipline_log.csv' )\n",
    "\n",
    "try:\n",
    "    log_df = pd.read_csv(log)\n",
    "except NameError:\n",
    "    print(\"No log file present\")\n",
    "\n",
    "# determine if running from notebook or Excel controller and set commit message.\n",
    "if sys.argv[1] == \"-f\":\n",
    "    message = commit_message\n",
    "else:\n",
    "    piperunner = os.path.join(scriptpath, xls_runner)\n",
    "    wb = openpyxl.load_workbook(piperunner)\n",
    "    sh = wb['Pipeline Runner']\n",
    "    message = {sh['f13'].value}\n",
    "\n",
    "# find username\n",
    "username = getpass.getuser()\n",
    "\n",
    "# file links\n",
    "rawlink = f'=HYPERLINK(\"{os.path.join(rawpath,rawhistfile)}\")'\n",
    "locallink = f'=HYPERLINK(\"{os.path.join(localpath,localhistfile)}\")'\n",
    "eurolink = f'=HYPERLINK(\"{os.path.join(europath,eurohistfile)}\")'\n",
    "\n",
    "# record timestamp\n",
    "datetime = inst_datetime\n",
    "dateformat = datetime[4:8] + '-' + datetime[:2]  + '-' + datetime[2:4]  + '-' + datetime[8:]\n",
    "\n",
    "# add new line\n",
    "newline = { \"run_message\" : [message ],  \"datetime\" :[dateformat], \"user\" : [username ],\n",
    "          \n",
    "          \"raw_archive\" : [rawlink] ,\"local_archive\" :\t[locallink],\"euro_archive\" : [eurolink] }\n",
    "\n",
    "\n",
    "newline = pd.DataFrame.from_dict(newline)\n",
    "\n",
    "# make new file\n",
    "log_df = log_df.append(newline[0:])\n",
    "log_df\n",
    "log_df.to_csv(log, ',', index=False , encoding='utf-8-sig')\n"
   ]
  },
  {
   "cell_type": "markdown",
   "id": "ffcdf4ac",
   "metadata": {
    "papermill": {
     "duration": 0.31151,
     "end_time": "2021-05-26T13:32:19.027916",
     "exception": false,
     "start_time": "2021-05-26T13:32:18.716406",
     "status": "completed"
    },
    "tags": []
   },
   "source": [
    "#### Store the DataFrame for other noteboks to use"
   ]
  },
  {
   "cell_type": "code",
   "execution_count": 13,
   "id": "ac663445",
   "metadata": {
    "execution": {
     "iopub.execute_input": "2021-05-26T13:32:19.727637Z",
     "iopub.status.busy": "2021-05-26T13:32:19.725630Z",
     "iopub.status.idle": "2021-05-26T13:32:19.777625Z",
     "shell.execute_reply": "2021-05-26T13:32:19.778625Z"
    },
    "papermill": {
     "duration": 0.426188,
     "end_time": "2021-05-26T13:32:19.779629",
     "exception": false,
     "start_time": "2021-05-26T13:32:19.353441",
     "status": "completed"
    },
    "tags": []
   },
   "outputs": [
    {
     "name": "stdout",
     "output_type": "stream",
     "text": [
      "Stored 'read_dc_df' (DataFrame)\n"
     ]
    }
   ],
   "source": [
    "read_dc_df = df\n",
    "\n",
    "%store read_dc_df\n"
   ]
  }
 ],
 "metadata": {
  "celltoolbar": "Tags",
  "kernelspec": {
   "display_name": "Python 3",
   "language": "python",
   "name": "python3"
  },
  "language_info": {
   "codemirror_mode": {
    "name": "ipython",
    "version": 3
   },
   "file_extension": ".py",
   "mimetype": "text/x-python",
   "name": "python",
   "nbconvert_exporter": "python",
   "pygments_lexer": "ipython3",
   "version": "3.7.6"
  },
  "papermill": {
   "default_parameters": {},
   "duration": 64.987927,
   "end_time": "2021-05-26T13:32:21.828156",
   "environment_variables": {},
   "exception": null,
   "input_path": "pipeline/read_dc.ipynb",
   "output_path": "//hecate/Insurance_US/Product Development/Product Management/Global PPM/Reporting/Data Collection/Pipeline Reporting Scripts/GPMpipeline/instances/2021.Q1\\pipeline\\read_dc05262021092926--live run.ipynb",
   "parameters": {
    "commit_message": "Strange etnry found in the 'type of account'.",
    "inst_datetime": "05262021092926",
    "percode": "2021.Q1",
    "run_control": 1
   },
   "start_time": "2021-05-26T13:31:16.840229",
   "version": "2.3.3"
  }
 },
 "nbformat": 4,
 "nbformat_minor": 5
}