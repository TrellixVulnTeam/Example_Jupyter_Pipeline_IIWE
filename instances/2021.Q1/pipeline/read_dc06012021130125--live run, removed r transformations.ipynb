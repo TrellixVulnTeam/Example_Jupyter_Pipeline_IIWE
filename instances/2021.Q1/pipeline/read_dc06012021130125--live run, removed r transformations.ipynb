{
 "cells": [
  {
   "cell_type": "markdown",
   "id": "281c501e",
   "metadata": {
    "papermill": {
     "duration": 0.253527,
     "end_time": "2021-06-01T17:03:15.272325",
     "exception": false,
     "start_time": "2021-06-01T17:03:15.018798",
     "status": "completed"
    },
    "tags": []
   },
   "source": [
    "<img src=\"../images/AzPTravel_PPM.png\">"
   ]
  },
  {
   "cell_type": "markdown",
   "id": "ec85d14f",
   "metadata": {
    "papermill": {
     "duration": 0.225523,
     "end_time": "2021-06-01T17:03:15.746566",
     "exception": false,
     "start_time": "2021-06-01T17:03:15.521043",
     "status": "completed"
    },
    "pycharm": {
     "name": "#%% md\n"
    },
    "tags": []
   },
   "source": [
    "## Read in Data Collection Source\n",
    "\n",
    "#### This script fetches the current data collection submission file from the completed \"prep.ipynb\" step into the pipeline.\n"
   ]
  },
  {
   "cell_type": "markdown",
   "id": "7769ff62",
   "metadata": {
    "papermill": {
     "duration": 0.226644,
     "end_time": "2021-06-01T17:03:16.188962",
     "exception": false,
     "start_time": "2021-06-01T17:03:15.962318",
     "status": "completed"
    },
    "tags": []
   },
   "source": [
    "### User Variables\n",
    "- These are overwritten if inherited from run_control.ipynb.\n",
    "- Feel Free to reset them for a manual run if you like\n",
    "- Do not save without percode = \"-f\""
   ]
  },
  {
   "cell_type": "code",
   "execution_count": 1,
   "id": "d1f677d3",
   "metadata": {
    "execution": {
     "iopub.execute_input": "2021-06-01T17:03:16.634716Z",
     "iopub.status.busy": "2021-06-01T17:03:16.626062Z",
     "iopub.status.idle": "2021-06-01T17:03:16.636721Z",
     "shell.execute_reply": "2021-06-01T17:03:16.646477Z"
    },
    "papermill": {
     "duration": 0.247934,
     "end_time": "2021-06-01T17:03:16.646477",
     "exception": false,
     "start_time": "2021-06-01T17:03:16.398543",
     "status": "completed"
    },
    "pycharm": {
     "name": "#%%\n"
    },
    "tags": [
     "parameters"
    ]
   },
   "outputs": [],
   "source": [
    "commit_message = \"Development and testing.\"\n",
    "# Give a brief reason for the run.\n",
    "\n",
    "run_control = 1\n",
    "#run_type = 0 - Lite run with no reporting, not recommended.\n",
    "#run_type = 1 - Lite run with normal reporting, default setting.\n",
    "#run_type = 2 - Heavy run with full reporting, available for audits and troubleshooting.\n",
    "#run_type = 5 - A default setting. Indicates the script is being run by an outside process without an inherited value\n",
    "\n",
    "percode = \"2021.Q1\"\n",
    "# Data Collection Code, this controls file paths and output names\n",
    "# \"-f\" is the value indicating a bad inheritance from run with arg\n",
    "\n",
    "#----------\n",
    "# do not edit - this either inherits the full instance timestamp from the papermill book or captures the run time of this script.\n",
    "from datetime import datetime\n",
    "inst_datetime = datetime.now().strftime(\"%m%d%Y%H%M%S\")"
   ]
  },
  {
   "cell_type": "code",
   "execution_count": 2,
   "id": "26c5270c",
   "metadata": {
    "execution": {
     "iopub.execute_input": "2021-06-01T17:03:17.312822Z",
     "iopub.status.busy": "2021-06-01T17:03:17.306283Z",
     "iopub.status.idle": "2021-06-01T17:03:17.329280Z",
     "shell.execute_reply": "2021-06-01T17:03:17.331278Z"
    },
    "papermill": {
     "duration": 0.40879,
     "end_time": "2021-06-01T17:03:17.332279",
     "exception": false,
     "start_time": "2021-06-01T17:03:16.923489",
     "status": "completed"
    },
    "tags": [
     "injected-parameters"
    ]
   },
   "outputs": [],
   "source": [
    "# Parameters\n",
    "run_control = 1\n",
    "percode = \"2021.Q1\"\n",
    "commit_message = \"Demo Test\"\n",
    "inst_datetime = \"06012021130125\"\n"
   ]
  },
  {
   "cell_type": "markdown",
   "id": "c0e6529f",
   "metadata": {
    "papermill": {
     "duration": 0.523108,
     "end_time": "2021-06-01T17:03:18.196724",
     "exception": false,
     "start_time": "2021-06-01T17:03:17.673616",
     "status": "completed"
    },
    "tags": []
   },
   "source": [
    "#### import packages"
   ]
  },
  {
   "cell_type": "code",
   "execution_count": 3,
   "id": "a88eb371",
   "metadata": {
    "execution": {
     "iopub.execute_input": "2021-06-01T17:03:19.108790Z",
     "iopub.status.busy": "2021-06-01T17:03:19.098791Z",
     "iopub.status.idle": "2021-06-01T17:03:27.524834Z",
     "shell.execute_reply": "2021-06-01T17:03:27.532824Z"
    },
    "papermill": {
     "duration": 8.897538,
     "end_time": "2021-06-01T17:03:27.532824",
     "exception": false,
     "start_time": "2021-06-01T17:03:18.635286",
     "status": "completed"
    },
    "pycharm": {
     "name": "#%%\n"
    },
    "tags": []
   },
   "outputs": [],
   "source": [
    "import os # System commands\n",
    "import sys # System commands\n",
    "\n",
    "import getpass # parquet file read/write\n",
    "import json # json file read/write\n",
    "from sklearn import datasets # pass vars between .ipynb s\n",
    "\n",
    "import matplotlib.pyplot as plt #Plots and Graphs\n",
    "import pandas as pd #DataFrame and math\n"
   ]
  },
  {
   "cell_type": "markdown",
   "id": "4566d105",
   "metadata": {
    "papermill": {
     "duration": 0.233263,
     "end_time": "2021-06-01T17:03:28.035669",
     "exception": false,
     "start_time": "2021-06-01T17:03:27.802406",
     "status": "completed"
    },
    "tags": []
   },
   "source": [
    "#### Default Variables, these govern logic, do not edit."
   ]
  },
  {
   "cell_type": "code",
   "execution_count": 4,
   "id": "cd3b7e84",
   "metadata": {
    "execution": {
     "iopub.execute_input": "2021-06-01T17:03:28.496240Z",
     "iopub.status.busy": "2021-06-01T17:03:28.494240Z",
     "iopub.status.idle": "2021-06-01T17:03:28.500241Z",
     "shell.execute_reply": "2021-06-01T17:03:28.501240Z"
    },
    "papermill": {
     "duration": 0.251056,
     "end_time": "2021-06-01T17:03:28.502242",
     "exception": false,
     "start_time": "2021-06-01T17:03:28.251186",
     "status": "completed"
    },
    "pycharm": {
     "name": "#%%\n"
    },
    "tags": []
   },
   "outputs": [],
   "source": [
    "default_dc = \"20XX.QX\"\n",
    "default_rc = 0 #extra lite mode\n",
    "dummy_perc = \"33Q3\" # bad inheritance"
   ]
  },
  {
   "cell_type": "markdown",
   "id": "826ee629",
   "metadata": {
    "papermill": {
     "duration": 0.241118,
     "end_time": "2021-06-01T17:03:28.974944",
     "exception": false,
     "start_time": "2021-06-01T17:03:28.733826",
     "status": "completed"
    },
    "pycharm": {
     "name": "#%% md\n"
    },
    "tags": []
   },
   "source": [
    "#### Script determining run context ie, manual, run_control.ipynb, or other."
   ]
  },
  {
   "cell_type": "code",
   "execution_count": 5,
   "id": "5240c5ee",
   "metadata": {
    "execution": {
     "iopub.execute_input": "2021-06-01T17:03:29.422804Z",
     "iopub.status.busy": "2021-06-01T17:03:29.421796Z",
     "iopub.status.idle": "2021-06-01T17:03:29.427801Z",
     "shell.execute_reply": "2021-06-01T17:03:29.429421Z"
    },
    "papermill": {
     "duration": 0.250512,
     "end_time": "2021-06-01T17:03:29.429797",
     "exception": false,
     "start_time": "2021-06-01T17:03:29.179285",
     "status": "completed"
    },
    "pycharm": {
     "name": "#%%\n"
    },
    "tags": [
     "parameters"
    ]
   },
   "outputs": [],
   "source": [
    "if run_control == 5:\n",
    "    \n",
    "    run_control = default_rc\n",
    "    \n",
    "else:\n",
    "    \n",
    "    run_control = run_control\n",
    "\n",
    "try:\n",
    "    \n",
    "    if sys.argv[1] == \"-f\":\n",
    "        \n",
    "        percode = percode\n",
    "        \n",
    "    else:\n",
    "        \n",
    "        percode = sys.argv[1]\n",
    "\n",
    "except IndexError:\n",
    "    \n",
    "    percode = default_dc\n",
    "\n",
    "except NameError:\n",
    "\n",
    "    percode = default_dc\n"
   ]
  },
  {
   "cell_type": "markdown",
   "id": "52280247",
   "metadata": {
    "papermill": {
     "duration": 0.23706,
     "end_time": "2021-06-01T17:03:29.916744",
     "exception": false,
     "start_time": "2021-06-01T17:03:29.679684",
     "status": "completed"
    },
    "tags": []
   },
   "source": [
    "#### style settings"
   ]
  },
  {
   "cell_type": "code",
   "execution_count": 6,
   "id": "55475d4a",
   "metadata": {
    "execution": {
     "iopub.execute_input": "2021-06-01T17:03:30.378089Z",
     "iopub.status.busy": "2021-06-01T17:03:30.376092Z",
     "iopub.status.idle": "2021-06-01T17:03:30.383095Z",
     "shell.execute_reply": "2021-06-01T17:03:30.384095Z"
    },
    "papermill": {
     "duration": 0.254832,
     "end_time": "2021-06-01T17:03:30.385094",
     "exception": false,
     "start_time": "2021-06-01T17:03:30.130262",
     "status": "completed"
    },
    "tags": []
   },
   "outputs": [],
   "source": [
    "from IPython.core.interactiveshell import InteractiveShell\n",
    "InteractiveShell.ast_node_interactivity = \"all\""
   ]
  },
  {
   "cell_type": "markdown",
   "id": "f8d66705",
   "metadata": {
    "papermill": {
     "duration": 0.231631,
     "end_time": "2021-06-01T17:03:30.828755",
     "exception": false,
     "start_time": "2021-06-01T17:03:30.597124",
     "status": "completed"
    },
    "pycharm": {
     "name": "#%% md\n"
    },
    "tags": []
   },
   "source": [
    "#### Make paths for the source folder"
   ]
  },
  {
   "cell_type": "code",
   "execution_count": 7,
   "id": "77e2cd06",
   "metadata": {
    "execution": {
     "iopub.execute_input": "2021-06-01T17:03:31.288494Z",
     "iopub.status.busy": "2021-06-01T17:03:31.284494Z",
     "iopub.status.idle": "2021-06-01T17:03:31.296494Z",
     "shell.execute_reply": "2021-06-01T17:03:31.298496Z"
    },
    "papermill": {
     "duration": 0.259015,
     "end_time": "2021-06-01T17:03:31.298496",
     "exception": false,
     "start_time": "2021-06-01T17:03:31.039481",
     "status": "completed"
    },
    "pycharm": {
     "name": "#%%\n"
    },
    "tags": []
   },
   "outputs": [],
   "source": [
    "rt_path = os.path.join(f'\\\\\\\\hecate\\Insurance_US\\Product Development\\Product Management\\Global PPM\\Reporting\\Data Collection\\Production',percode)\n",
    "\n",
    "#archive folders\n",
    "rawpath = os.path.join(rt_path, \"logs\", \"raw_data_file_history\")\n",
    "localpath = os.path.join(rt_path, \"logs\", \"local_currency_source_history\")\n",
    "europath = os.path.join(rt_path, \"logs\", \"euro_source_history\")\n",
    "\n",
    "#script folder\n",
    "scriptpath = os.path.abspath(os.path.join(rt_path, '..', '..', \"Pipeline Reporting Scripts\",\"GPMpipeline\"))\n",
    "\n",
    "piperunner = '//hecate/Insurance_US/Product Development/Product Management/Global PPM/Reporting/_Tools/GitHub/Production Repositories/Pipeline Runner/Pipeline Runner.xlsm'\n"
   ]
  },
  {
   "cell_type": "markdown",
   "id": "24fa8b63",
   "metadata": {
    "papermill": {
     "duration": 0.244996,
     "end_time": "2021-06-01T17:03:31.767079",
     "exception": false,
     "start_time": "2021-06-01T17:03:31.522083",
     "status": "completed"
    },
    "tags": []
   },
   "source": [
    "#### Set file variables"
   ]
  },
  {
   "cell_type": "code",
   "execution_count": 8,
   "id": "653b5fa4",
   "metadata": {
    "execution": {
     "iopub.execute_input": "2021-06-01T17:03:32.227611Z",
     "iopub.status.busy": "2021-06-01T17:03:32.225600Z",
     "iopub.status.idle": "2021-06-01T17:03:32.231604Z",
     "shell.execute_reply": "2021-06-01T17:03:32.231604Z"
    },
    "papermill": {
     "duration": 0.244277,
     "end_time": "2021-06-01T17:03:32.231604",
     "exception": false,
     "start_time": "2021-06-01T17:03:31.987327",
     "status": "completed"
    },
    "tags": []
   },
   "outputs": [],
   "source": [
    "rawfile = f'{str(percode)}.csv'\n",
    "parqfile = f'{str(percode)}.parquet'\n",
    "rawhistfile = f'{percode}_{inst_datetime}.csv'\n",
    "\n",
    "prepfile = f\"{percode}prep.csv\"\n",
    "prepparq = f\"{percode}prep.parquet\"\n",
    "prephistfile = f'{percode}_{inst_datetime}prep.csv'\n",
    "\n",
    "localfile = f'{percode}.localcur.csv'\n",
    "localhistfile = f'{percode}.localcur_{inst_datetime}.csv'\n",
    "\n",
    "eurofile = f'{percode}.euroconv.csv'\n",
    "eurohistfile = f'{percode}.euroconv_{inst_datetime}.csv'\n",
    "\n",
    "xls_runner = 'Pipeline Runner.xlsm'\n",
    "\n"
   ]
  },
  {
   "cell_type": "markdown",
   "id": "0d35d46d",
   "metadata": {
    "papermill": {
     "duration": 0.229187,
     "end_time": "2021-06-01T17:03:32.674802",
     "exception": false,
     "start_time": "2021-06-01T17:03:32.445615",
     "status": "completed"
    },
    "pycharm": {
     "name": "#%% md\n"
    },
    "tags": []
   },
   "source": [
    "- Read each json file into temp DataFrame \"data\".\n",
    "- Prep actions - Strip (trim) leading and trailing spaces values in string columns, remove rows without business units.\n",
    "- Append each json output to into 1 DataFrame \"df\".\n",
    "- Process Cleanup, the indices restart with each append, reset and drop the previous."
   ]
  },
  {
   "cell_type": "code",
   "execution_count": 9,
   "id": "407b6424",
   "metadata": {
    "execution": {
     "iopub.execute_input": "2021-06-01T17:03:33.184058Z",
     "iopub.status.busy": "2021-06-01T17:03:33.166055Z",
     "iopub.status.idle": "2021-06-01T17:03:33.225051Z",
     "shell.execute_reply": "2021-06-01T17:03:33.226056Z"
    },
    "papermill": {
     "duration": 0.29875,
     "end_time": "2021-06-01T17:03:33.226056",
     "exception": false,
     "start_time": "2021-06-01T17:03:32.927306",
     "status": "completed"
    },
    "pycharm": {
     "name": "#%%\n"
    },
    "tags": []
   },
   "outputs": [],
   "source": [
    "\n",
    "try:\n",
    "    %store -r prep_df\n",
    "    df = prep_df\n",
    "\n",
    "except:\n",
    "    \n",
    "    try:\n",
    "        df = pd.read_parquet(os.path.join(rt_path,prepparq), engine = \"pyarrow\")\n",
    "    \n",
    "    except:\n",
    "        df = pd.read_csv(os.path.join(rt_path,prepfile) )\n",
    "\n",
    "if run_control > 0:\n",
    "     \n",
    "    try:\n",
    "        os.remove(prepfile)\n",
    "    \n",
    "    except FileNotFoundError:\n",
    "        pass\n",
    "    \n",
    "    try:\n",
    "        os.remove(prepparq)\n",
    "\n",
    "    except FileNotFoundError:\n",
    "        pass\n",
    "        \n",
    "else:\n",
    "\n",
    "    pass"
   ]
  },
  {
   "cell_type": "markdown",
   "id": "93d44129",
   "metadata": {
    "papermill": {
     "duration": 0.235745,
     "end_time": "2021-06-01T17:03:33.689368",
     "exception": false,
     "start_time": "2021-06-01T17:03:33.453623",
     "status": "completed"
    },
    "pycharm": {
     "name": "#%% md\n"
    },
    "tags": []
   },
   "source": [
    "#### Upload Charts"
   ]
  },
  {
   "cell_type": "code",
   "execution_count": 10,
   "id": "52f8428a",
   "metadata": {
    "execution": {
     "iopub.execute_input": "2021-06-01T17:03:34.147691Z",
     "iopub.status.busy": "2021-06-01T17:03:34.145584Z",
     "iopub.status.idle": "2021-06-01T17:03:35.142609Z",
     "shell.execute_reply": "2021-06-01T17:03:35.144608Z"
    },
    "papermill": {
     "duration": 1.237108,
     "end_time": "2021-06-01T17:03:35.144608",
     "exception": false,
     "start_time": "2021-06-01T17:03:33.907500",
     "status": "completed"
    },
    "pycharm": {
     "name": "#%%\n"
    },
    "tags": []
   },
   "outputs": [
    {
     "data": {
      "text/plain": [
       "<BarContainer object of 10 artists>"
      ]
     },
     "execution_count": 10,
     "metadata": {},
     "output_type": "execute_result"
    },
    {
     "data": {
      "text/plain": [
       "Text(0.5, 1.0, 'Earned Revenue net of Taxes by BU in thousands LC')"
      ]
     },
     "execution_count": 10,
     "metadata": {},
     "output_type": "execute_result"
    },
    {
     "data": {
      "image/png": "[encoded data removed]",
      "text/plain": [
       "<Figure size 432x288 with 1 Axes>"
      ]
     },
     "metadata": {
      "needs_background": "light"
     },
     "output_type": "display_data"
    },
    {
     "data": {
      "text/plain": [
       "<BarContainer object of 10 artists>"
      ]
     },
     "execution_count": 10,
     "metadata": {},
     "output_type": "execute_result"
    },
    {
     "data": {
      "text/plain": [
       "Text(0.5, 1.0, 'Row Counts by BU')"
      ]
     },
     "execution_count": 10,
     "metadata": {},
     "output_type": "execute_result"
    },
    {
     "data": {
      "image/png": "[encoded data removed]",
      "text/plain": [
       "<Figure size 432x288 with 1 Axes>"
      ]
     },
     "metadata": {
      "needs_background": "light"
     },
     "output_type": "display_data"
    }
   ],
   "source": [
    "def num_format(x):\n",
    "    \"\"\"number format without a currency\"\"\"\n",
    "    return \"{:,.0f}\".format(x)\n",
    "\n",
    "if run_control > 0:\n",
    "\n",
    "    sumdata = df.groupby(['Business Unit']).sum()\n",
    "    sumdata = sumdata.reset_index()\n",
    "    plt.bar(sumdata['Business Unit'], sumdata['Earned Revenues net of Taxes']/1000)\n",
    "    plt.title('Earned Revenue net of Taxes by BU in thousands LC')\n",
    "    plt.show()\n",
    "\n",
    "    countdata = df.groupby(['Business Unit']).count()\n",
    "    countdata = countdata.reset_index()\n",
    "    plt.bar(countdata['Business Unit'], countdata['Earned Revenues net of Taxes'])\n",
    "    plt.title('Row Counts by BU')\n",
    "    plt.show()\n",
    "\n",
    "else:\n",
    "    print(\"Charts Skipped\")"
   ]
  },
  {
   "cell_type": "markdown",
   "id": "554b119b",
   "metadata": {
    "papermill": {
     "duration": 0.346334,
     "end_time": "2021-06-01T17:03:35.726943",
     "exception": false,
     "start_time": "2021-06-01T17:03:35.380609",
     "status": "completed"
    },
    "tags": []
   },
   "source": [
    "#### Output Processes\n",
    "- Define File names.\n",
    "- If existing csv is found, archive it in \"raw_data_file_history\" folder.\n",
    "- Save new csv."
   ]
  },
  {
   "cell_type": "code",
   "execution_count": 11,
   "id": "4c8b992a",
   "metadata": {
    "execution": {
     "iopub.execute_input": "2021-06-01T17:03:36.296747Z",
     "iopub.status.busy": "2021-06-01T17:03:36.278742Z",
     "iopub.status.idle": "2021-06-01T17:03:54.452611Z",
     "shell.execute_reply": "2021-06-01T17:03:54.453615Z"
    },
    "papermill": {
     "duration": 18.4519,
     "end_time": "2021-06-01T17:03:54.454610",
     "exception": false,
     "start_time": "2021-06-01T17:03:36.002710",
     "status": "completed"
    },
    "pycharm": {
     "name": "#%%\n"
    },
    "tags": []
   },
   "outputs": [],
   "source": [
    "if run_control > 0:\n",
    "    \n",
    "    try:\n",
    "        os.rename(os.path.join(rt_path , rawfile), os.path.join(rawpath , rawhistfile))\n",
    "        \n",
    "    except FileNotFoundError:\n",
    "        pass\n",
    "    \n",
    "    try:\n",
    "         os.rename(os.path.join(rt_path , prepfile), os.path.join(rawpath , prephistfile))\n",
    "    \n",
    "    except FileNotFoundError:\n",
    "        pass      \n",
    "    \n",
    "    except FileExistsError:\n",
    "        os.remove(os.path.join(rawpath , prephistfile))\n",
    "        os.rename(os.path.join(rt_path , prepfile), os.path.join(rawpath , prephistfile))    \n",
    "\n",
    "    try:\n",
    "         os.rename(os.path.join(rt_path , localfile), os.path.join(localpath , localhistfile))\n",
    "    \n",
    "    except FileNotFoundError:\n",
    "        pass\n",
    "    \n",
    "    try:\n",
    "         os.rename(os.path.join(rt_path , eurofile), os.path.join(europath , eurohistfile))\n",
    "    \n",
    "    except FileNotFoundError:\n",
    "        pass\n",
    "\n",
    "    df.to_csv(os.path.join(rt_path , rawfile), ',', index=False , encoding='utf-8-sig')\n",
    "    df.to_parquet(os.path.join(rt_path , parqfile), engine = \"pyarrow\") \n",
    "\n",
    "else:\n",
    "    \n",
    "    pass"
   ]
  },
  {
   "cell_type": "markdown",
   "id": "aecb4517",
   "metadata": {
    "papermill": {
     "duration": 0.250917,
     "end_time": "2021-06-01T17:03:54.966045",
     "exception": false,
     "start_time": "2021-06-01T17:03:54.715128",
     "status": "completed"
    },
    "tags": []
   },
   "source": [
    "- Log update record with commit message and time.\n",
    "- Determine commit message and make new entry"
   ]
  },
  {
   "cell_type": "code",
   "execution_count": 12,
   "id": "c6558edc",
   "metadata": {
    "execution": {
     "iopub.execute_input": "2021-06-01T17:03:55.525331Z",
     "iopub.status.busy": "2021-06-01T17:03:55.487334Z",
     "iopub.status.idle": "2021-06-01T17:03:56.352721Z",
     "shell.execute_reply": "2021-06-01T17:03:56.352721Z"
    },
    "papermill": {
     "duration": 1.154976,
     "end_time": "2021-06-01T17:03:56.353722",
     "exception": false,
     "start_time": "2021-06-01T17:03:55.198746",
     "status": "completed"
    },
    "pycharm": {
     "name": "#%%\n"
    },
    "tags": []
   },
   "outputs": [
    {
     "data": {
      "text/html": [
       "<div>\n",
       "<style scoped>\n",
       "    .dataframe tbody tr th:only-of-type {\n",
       "        vertical-align: middle;\n",
       "    }\n",
       "\n",
       "    .dataframe tbody tr th {\n",
       "        vertical-align: top;\n",
       "    }\n",
       "\n",
       "    .dataframe thead th {\n",
       "        text-align: right;\n",
       "    }\n",
       "</style>\n",
       "<table border=\"1\" class=\"dataframe\">\n",
       "  <thead>\n",
       "    <tr style=\"text-align: right;\">\n",
       "      <th></th>\n",
       "      <th>run_message\\tdatetime\\tuser</th>\n",
       "      <th>run_message</th>\n",
       "      <th>datetime</th>\n",
       "      <th>user</th>\n",
       "      <th>raw_archive</th>\n",
       "      <th>local_archive</th>\n",
       "      <th>euro_archive</th>\n",
       "    </tr>\n",
       "  </thead>\n",
       "  <tbody>\n",
       "    <tr>\n",
       "      <th>0</th>\n",
       "      <td>NaN</td>\n",
       "      <td>Got something new it.</td>\n",
       "      <td>2021-05-21-090854</td>\n",
       "      <td>gharmo</td>\n",
       "      <td>NaN</td>\n",
       "      <td>NaN</td>\n",
       "      <td>NaN</td>\n",
       "    </tr>\n",
       "    <tr>\n",
       "      <th>1</th>\n",
       "      <td>NaN</td>\n",
       "      <td>Changed some folder names.</td>\n",
       "      <td>2021-05-21-153222</td>\n",
       "      <td>gharmo</td>\n",
       "      <td>NaN</td>\n",
       "      <td>NaN</td>\n",
       "      <td>NaN</td>\n",
       "    </tr>\n",
       "    <tr>\n",
       "      <th>2</th>\n",
       "      <td>NaN</td>\n",
       "      <td>Added finance report to the process flow.</td>\n",
       "      <td>2021-05-21-163305</td>\n",
       "      <td>gharmo</td>\n",
       "      <td>NaN</td>\n",
       "      <td>NaN</td>\n",
       "      <td>NaN</td>\n",
       "    </tr>\n",
       "    <tr>\n",
       "      <th>3</th>\n",
       "      <td>NaN</td>\n",
       "      <td>Added finance report to the process flow.</td>\n",
       "      <td>2021-05-21-165556</td>\n",
       "      <td>gharmo</td>\n",
       "      <td>NaN</td>\n",
       "      <td>NaN</td>\n",
       "      <td>NaN</td>\n",
       "    </tr>\n",
       "    <tr>\n",
       "      <th>4</th>\n",
       "      <td>NaN</td>\n",
       "      <td>Added finance report to the process flow.</td>\n",
       "      <td>2021-05-22-163757</td>\n",
       "      <td>gharmo</td>\n",
       "      <td>NaN</td>\n",
       "      <td>NaN</td>\n",
       "      <td>NaN</td>\n",
       "    </tr>\n",
       "    <tr>\n",
       "      <th>5</th>\n",
       "      <td>NaN</td>\n",
       "      <td>Development and testing.</td>\n",
       "      <td>2021-05-22-164026</td>\n",
       "      <td>gharmo</td>\n",
       "      <td>NaN</td>\n",
       "      <td>NaN</td>\n",
       "      <td>NaN</td>\n",
       "    </tr>\n",
       "    <tr>\n",
       "      <th>6</th>\n",
       "      <td>NaN</td>\n",
       "      <td>Development and testing.</td>\n",
       "      <td>2021-05-22-164505</td>\n",
       "      <td>gharmo</td>\n",
       "      <td>NaN</td>\n",
       "      <td>NaN</td>\n",
       "      <td>NaN</td>\n",
       "    </tr>\n",
       "    <tr>\n",
       "      <th>7</th>\n",
       "      <td>NaN</td>\n",
       "      <td>Added finance report to the process flow.</td>\n",
       "      <td>2021-05-22-164644</td>\n",
       "      <td>gharmo</td>\n",
       "      <td>NaN</td>\n",
       "      <td>NaN</td>\n",
       "      <td>NaN</td>\n",
       "    </tr>\n",
       "    <tr>\n",
       "      <th>8</th>\n",
       "      <td>NaN</td>\n",
       "      <td>Added finance report to the process flow.</td>\n",
       "      <td>2021-05-22-171225</td>\n",
       "      <td>gharmo</td>\n",
       "      <td>NaN</td>\n",
       "      <td>NaN</td>\n",
       "      <td>NaN</td>\n",
       "    </tr>\n",
       "    <tr>\n",
       "      <th>9</th>\n",
       "      <td>NaN</td>\n",
       "      <td>Added finance report to the process flow.</td>\n",
       "      <td>2021-05-22-171928</td>\n",
       "      <td>gharmo</td>\n",
       "      <td>NaN</td>\n",
       "      <td>NaN</td>\n",
       "      <td>NaN</td>\n",
       "    </tr>\n",
       "    <tr>\n",
       "      <th>10</th>\n",
       "      <td>NaN</td>\n",
       "      <td>Added finance report to the process flow.</td>\n",
       "      <td>2021-05-23-174300</td>\n",
       "      <td>gharmo</td>\n",
       "      <td>NaN</td>\n",
       "      <td>NaN</td>\n",
       "      <td>NaN</td>\n",
       "    </tr>\n",
       "    <tr>\n",
       "      <th>11</th>\n",
       "      <td>NaN</td>\n",
       "      <td>Added finance report to the process flow.</td>\n",
       "      <td>2021-05-24-091701</td>\n",
       "      <td>gharmo</td>\n",
       "      <td>NaN</td>\n",
       "      <td>NaN</td>\n",
       "      <td>NaN</td>\n",
       "    </tr>\n",
       "    <tr>\n",
       "      <th>12</th>\n",
       "      <td>NaN</td>\n",
       "      <td>Edited data for Austraila, json 2 parquet and ...</td>\n",
       "      <td>2021-05-24-132352</td>\n",
       "      <td>gharmo</td>\n",
       "      <td>NaN</td>\n",
       "      <td>NaN</td>\n",
       "      <td>NaN</td>\n",
       "    </tr>\n",
       "    <tr>\n",
       "      <th>13</th>\n",
       "      <td>NaN</td>\n",
       "      <td>Edited data for Austraila, json 2 parquet and ...</td>\n",
       "      <td>2021-05-24-155918</td>\n",
       "      <td>gharmo</td>\n",
       "      <td>NaN</td>\n",
       "      <td>NaN</td>\n",
       "      <td>NaN</td>\n",
       "    </tr>\n",
       "    <tr>\n",
       "      <th>14</th>\n",
       "      <td>NaN</td>\n",
       "      <td>Edited data for Austraila, json 2 parquet and ...</td>\n",
       "      <td>2021-05-24-173810</td>\n",
       "      <td>gharmo</td>\n",
       "      <td>NaN</td>\n",
       "      <td>NaN</td>\n",
       "      <td>NaN</td>\n",
       "    </tr>\n",
       "    <tr>\n",
       "      <th>15</th>\n",
       "      <td>NaN</td>\n",
       "      <td>Edited data for Austraila, json 2 parquet and ...</td>\n",
       "      <td>2021-05-24-183245</td>\n",
       "      <td>gharmo</td>\n",
       "      <td>NaN</td>\n",
       "      <td>NaN</td>\n",
       "      <td>NaN</td>\n",
       "    </tr>\n",
       "    <tr>\n",
       "      <th>16</th>\n",
       "      <td>NaN</td>\n",
       "      <td>Edited data for Austraila, json 2 parquet and ...</td>\n",
       "      <td>2021-05-24-234401</td>\n",
       "      <td>gharmo</td>\n",
       "      <td>NaN</td>\n",
       "      <td>NaN</td>\n",
       "      <td>NaN</td>\n",
       "    </tr>\n",
       "    <tr>\n",
       "      <th>17</th>\n",
       "      <td>NaN</td>\n",
       "      <td>Edited data for Austraila, json 2 parquet and ...</td>\n",
       "      <td>2021-05-25-002105</td>\n",
       "      <td>gharmo</td>\n",
       "      <td>NaN</td>\n",
       "      <td>NaN</td>\n",
       "      <td>NaN</td>\n",
       "    </tr>\n",
       "    <tr>\n",
       "      <th>18</th>\n",
       "      <td>NaN</td>\n",
       "      <td>Edited data for Austraila, json 2 parquet and ...</td>\n",
       "      <td>2021-05-25-004239</td>\n",
       "      <td>gharmo</td>\n",
       "      <td>NaN</td>\n",
       "      <td>NaN</td>\n",
       "      <td>NaN</td>\n",
       "    </tr>\n",
       "    <tr>\n",
       "      <th>19</th>\n",
       "      <td>NaN</td>\n",
       "      <td>Edited data for Austraila, json 2 parquet and ...</td>\n",
       "      <td>2021-05-25-084905</td>\n",
       "      <td>gharmo</td>\n",
       "      <td>NaN</td>\n",
       "      <td>NaN</td>\n",
       "      <td>NaN</td>\n",
       "    </tr>\n",
       "    <tr>\n",
       "      <th>20</th>\n",
       "      <td>NaN</td>\n",
       "      <td>Edited data for Austraila, json 2 parquet and ...</td>\n",
       "      <td>2021-05-25-114332</td>\n",
       "      <td>gharmo</td>\n",
       "      <td>NaN</td>\n",
       "      <td>NaN</td>\n",
       "      <td>NaN</td>\n",
       "    </tr>\n",
       "    <tr>\n",
       "      <th>21</th>\n",
       "      <td>NaN</td>\n",
       "      <td>Development and testing.</td>\n",
       "      <td>2021-05-25-130633</td>\n",
       "      <td>gharmo</td>\n",
       "      <td>=HYPERLINK(\"\\\\hecate\\Insurance_US\\Product Deve...</td>\n",
       "      <td>=HYPERLINK(\"\\\\hecate\\Insurance_US\\Product Deve...</td>\n",
       "      <td>=HYPERLINK(\"\\\\hecate\\Insurance_US\\Product Deve...</td>\n",
       "    </tr>\n",
       "    <tr>\n",
       "      <th>22</th>\n",
       "      <td>NaN</td>\n",
       "      <td>Development and testing.</td>\n",
       "      <td>2021-05-25-145858</td>\n",
       "      <td>gharmo</td>\n",
       "      <td>=HYPERLINK(\"\\\\hecate\\Insurance_US\\Product Deve...</td>\n",
       "      <td>=HYPERLINK(\"\\\\hecate\\Insurance_US\\Product Deve...</td>\n",
       "      <td>=HYPERLINK(\"\\\\hecate\\Insurance_US\\Product Deve...</td>\n",
       "    </tr>\n",
       "    <tr>\n",
       "      <th>23</th>\n",
       "      <td>NaN</td>\n",
       "      <td>Development and testing.</td>\n",
       "      <td>2021-05-25-150519</td>\n",
       "      <td>gharmo</td>\n",
       "      <td>=HYPERLINK(\"\\\\hecate\\Insurance_US\\Product Deve...</td>\n",
       "      <td>=HYPERLINK(\"\\\\hecate\\Insurance_US\\Product Deve...</td>\n",
       "      <td>=HYPERLINK(\"\\\\hecate\\Insurance_US\\Product Deve...</td>\n",
       "    </tr>\n",
       "    <tr>\n",
       "      <th>24</th>\n",
       "      <td>NaN</td>\n",
       "      <td>Development and testing.</td>\n",
       "      <td>2021-05-25-150834</td>\n",
       "      <td>gharmo</td>\n",
       "      <td>=HYPERLINK(\"\\\\hecate\\Insurance_US\\Product Deve...</td>\n",
       "      <td>=HYPERLINK(\"\\\\hecate\\Insurance_US\\Product Deve...</td>\n",
       "      <td>=HYPERLINK(\"\\\\hecate\\Insurance_US\\Product Deve...</td>\n",
       "    </tr>\n",
       "    <tr>\n",
       "      <th>25</th>\n",
       "      <td>NaN</td>\n",
       "      <td>Edited data for Austraila, json 2 parquet and ...</td>\n",
       "      <td>2021-05-25-152647</td>\n",
       "      <td>gharmo</td>\n",
       "      <td>=HYPERLINK(\"\\\\hecate\\Insurance_US\\Product Deve...</td>\n",
       "      <td>=HYPERLINK(\"\\\\hecate\\Insurance_US\\Product Deve...</td>\n",
       "      <td>=HYPERLINK(\"\\\\hecate\\Insurance_US\\Product Deve...</td>\n",
       "    </tr>\n",
       "    <tr>\n",
       "      <th>26</th>\n",
       "      <td>NaN</td>\n",
       "      <td>Add PL and CZ, added standard reporting to pip...</td>\n",
       "      <td>2021-05-26-080602</td>\n",
       "      <td>gharmo</td>\n",
       "      <td>=HYPERLINK(\"\\\\hecate\\Insurance_US\\Product Deve...</td>\n",
       "      <td>=HYPERLINK(\"\\\\hecate\\Insurance_US\\Product Deve...</td>\n",
       "      <td>=HYPERLINK(\"\\\\hecate\\Insurance_US\\Product Deve...</td>\n",
       "    </tr>\n",
       "    <tr>\n",
       "      <th>27</th>\n",
       "      <td>NaN</td>\n",
       "      <td>Strange etnry found in the 'type of account'.</td>\n",
       "      <td>2021-05-26-092926</td>\n",
       "      <td>gharmo</td>\n",
       "      <td>=HYPERLINK(\"\\\\hecate\\Insurance_US\\Product Deve...</td>\n",
       "      <td>=HYPERLINK(\"\\\\hecate\\Insurance_US\\Product Deve...</td>\n",
       "      <td>=HYPERLINK(\"\\\\hecate\\Insurance_US\\Product Deve...</td>\n",
       "    </tr>\n",
       "    <tr>\n",
       "      <th>28</th>\n",
       "      <td>NaN</td>\n",
       "      <td>Used the old AU file. Replaced, running again.</td>\n",
       "      <td>2021-05-26-094043</td>\n",
       "      <td>gharmo</td>\n",
       "      <td>=HYPERLINK(\"\\\\hecate\\Insurance_US\\Product Deve...</td>\n",
       "      <td>=HYPERLINK(\"\\\\hecate\\Insurance_US\\Product Deve...</td>\n",
       "      <td>=HYPERLINK(\"\\\\hecate\\Insurance_US\\Product Deve...</td>\n",
       "    </tr>\n",
       "    <tr>\n",
       "      <th>29</th>\n",
       "      <td>NaN</td>\n",
       "      <td>Used the old AU file. Replaced, running again.</td>\n",
       "      <td>2021-05-26-094707</td>\n",
       "      <td>gharmo</td>\n",
       "      <td>=HYPERLINK(\"\\\\hecate\\Insurance_US\\Product Deve...</td>\n",
       "      <td>=HYPERLINK(\"\\\\hecate\\Insurance_US\\Product Deve...</td>\n",
       "      <td>=HYPERLINK(\"\\\\hecate\\Insurance_US\\Product Deve...</td>\n",
       "    </tr>\n",
       "    <tr>\n",
       "      <th>30</th>\n",
       "      <td>NaN</td>\n",
       "      <td>Development and testing.</td>\n",
       "      <td>2021-05-26-102233</td>\n",
       "      <td>gharmo</td>\n",
       "      <td>=HYPERLINK(\"\\\\hecate\\Insurance_US\\Product Deve...</td>\n",
       "      <td>=HYPERLINK(\"\\\\hecate\\Insurance_US\\Product Deve...</td>\n",
       "      <td>=HYPERLINK(\"\\\\hecate\\Insurance_US\\Product Deve...</td>\n",
       "    </tr>\n",
       "    <tr>\n",
       "      <th>31</th>\n",
       "      <td>NaN</td>\n",
       "      <td>New AUS needed to be converted from json</td>\n",
       "      <td>2021-05-26-102758</td>\n",
       "      <td>gharmo</td>\n",
       "      <td>=HYPERLINK(\"\\\\hecate\\Insurance_US\\Product Deve...</td>\n",
       "      <td>=HYPERLINK(\"\\\\hecate\\Insurance_US\\Product Deve...</td>\n",
       "      <td>=HYPERLINK(\"\\\\hecate\\Insurance_US\\Product Deve...</td>\n",
       "    </tr>\n",
       "    <tr>\n",
       "      <th>32</th>\n",
       "      <td>NaN</td>\n",
       "      <td>New AUS needed to be converted from json</td>\n",
       "      <td>2021-05-26-110640</td>\n",
       "      <td>gharmo</td>\n",
       "      <td>=HYPERLINK(\"\\\\hecate\\Insurance_US\\Product Deve...</td>\n",
       "      <td>=HYPERLINK(\"\\\\hecate\\Insurance_US\\Product Deve...</td>\n",
       "      <td>=HYPERLINK(\"\\\\hecate\\Insurance_US\\Product Deve...</td>\n",
       "    </tr>\n",
       "    <tr>\n",
       "      <th>33</th>\n",
       "      <td>NaN</td>\n",
       "      <td>Demo Test</td>\n",
       "      <td>2021-05-26-182323</td>\n",
       "      <td>gharmo</td>\n",
       "      <td>=HYPERLINK(\"\\\\hecate\\Insurance_US\\Product Deve...</td>\n",
       "      <td>=HYPERLINK(\"\\\\hecate\\Insurance_US\\Product Deve...</td>\n",
       "      <td>=HYPERLINK(\"\\\\hecate\\Insurance_US\\Product Deve...</td>\n",
       "    </tr>\n",
       "    <tr>\n",
       "      <th>34</th>\n",
       "      <td>NaN</td>\n",
       "      <td>Demo Test</td>\n",
       "      <td>2021-05-27-121925</td>\n",
       "      <td>gharmo</td>\n",
       "      <td>=HYPERLINK(\"\\\\hecate\\Insurance_US\\Product Deve...</td>\n",
       "      <td>=HYPERLINK(\"\\\\hecate\\Insurance_US\\Product Deve...</td>\n",
       "      <td>=HYPERLINK(\"\\\\hecate\\Insurance_US\\Product Deve...</td>\n",
       "    </tr>\n",
       "    <tr>\n",
       "      <th>35</th>\n",
       "      <td>NaN</td>\n",
       "      <td>Demo Test</td>\n",
       "      <td>2021-05-28-130404</td>\n",
       "      <td>gharmo</td>\n",
       "      <td>=HYPERLINK(\"\\\\hecate\\Insurance_US\\Product Deve...</td>\n",
       "      <td>=HYPERLINK(\"\\\\hecate\\Insurance_US\\Product Deve...</td>\n",
       "      <td>=HYPERLINK(\"\\\\hecate\\Insurance_US\\Product Deve...</td>\n",
       "    </tr>\n",
       "    <tr>\n",
       "      <th>36</th>\n",
       "      <td>NaN</td>\n",
       "      <td>Demo Test</td>\n",
       "      <td>2021-05-28-135440</td>\n",
       "      <td>gharmo</td>\n",
       "      <td>=HYPERLINK(\"\\\\hecate\\Insurance_US\\Product Deve...</td>\n",
       "      <td>=HYPERLINK(\"\\\\hecate\\Insurance_US\\Product Deve...</td>\n",
       "      <td>=HYPERLINK(\"\\\\hecate\\Insurance_US\\Product Deve...</td>\n",
       "    </tr>\n",
       "    <tr>\n",
       "      <th>37</th>\n",
       "      <td>NaN</td>\n",
       "      <td>Demo Test</td>\n",
       "      <td>2021-05-28-141936</td>\n",
       "      <td>gharmo</td>\n",
       "      <td>=HYPERLINK(\"\\\\hecate\\Insurance_US\\Product Deve...</td>\n",
       "      <td>=HYPERLINK(\"\\\\hecate\\Insurance_US\\Product Deve...</td>\n",
       "      <td>=HYPERLINK(\"\\\\hecate\\Insurance_US\\Product Deve...</td>\n",
       "    </tr>\n",
       "    <tr>\n",
       "      <th>38</th>\n",
       "      <td>NaN</td>\n",
       "      <td>Demo Test</td>\n",
       "      <td>2021-05-28-164134</td>\n",
       "      <td>gharmo</td>\n",
       "      <td>=HYPERLINK(\"\\\\hecate\\Insurance_US\\Product Deve...</td>\n",
       "      <td>=HYPERLINK(\"\\\\hecate\\Insurance_US\\Product Deve...</td>\n",
       "      <td>=HYPERLINK(\"\\\\hecate\\Insurance_US\\Product Deve...</td>\n",
       "    </tr>\n",
       "    <tr>\n",
       "      <th>0</th>\n",
       "      <td>NaN</td>\n",
       "      <td>Demo Test</td>\n",
       "      <td>2021-06-01-130125</td>\n",
       "      <td>gharmo</td>\n",
       "      <td>=HYPERLINK(\"\\\\hecate\\Insurance_US\\Product Deve...</td>\n",
       "      <td>=HYPERLINK(\"\\\\hecate\\Insurance_US\\Product Deve...</td>\n",
       "      <td>=HYPERLINK(\"\\\\hecate\\Insurance_US\\Product Deve...</td>\n",
       "    </tr>\n",
       "  </tbody>\n",
       "</table>\n",
       "</div>"
      ],
      "text/plain": [
       "    run_message\\tdatetime\\tuser  \\\n",
       "0                           NaN   \n",
       "1                           NaN   \n",
       "2                           NaN   \n",
       "3                           NaN   \n",
       "4                           NaN   \n",
       "5                           NaN   \n",
       "6                           NaN   \n",
       "7                           NaN   \n",
       "8                           NaN   \n",
       "9                           NaN   \n",
       "10                          NaN   \n",
       "11                          NaN   \n",
       "12                          NaN   \n",
       "13                          NaN   \n",
       "14                          NaN   \n",
       "15                          NaN   \n",
       "16                          NaN   \n",
       "17                          NaN   \n",
       "18                          NaN   \n",
       "19                          NaN   \n",
       "20                          NaN   \n",
       "21                          NaN   \n",
       "22                          NaN   \n",
       "23                          NaN   \n",
       "24                          NaN   \n",
       "25                          NaN   \n",
       "26                          NaN   \n",
       "27                          NaN   \n",
       "28                          NaN   \n",
       "29                          NaN   \n",
       "30                          NaN   \n",
       "31                          NaN   \n",
       "32                          NaN   \n",
       "33                          NaN   \n",
       "34                          NaN   \n",
       "35                          NaN   \n",
       "36                          NaN   \n",
       "37                          NaN   \n",
       "38                          NaN   \n",
       "0                           NaN   \n",
       "\n",
       "                                          run_message           datetime  \\\n",
       "0                               Got something new it.  2021-05-21-090854   \n",
       "1                          Changed some folder names.  2021-05-21-153222   \n",
       "2           Added finance report to the process flow.  2021-05-21-163305   \n",
       "3           Added finance report to the process flow.  2021-05-21-165556   \n",
       "4           Added finance report to the process flow.  2021-05-22-163757   \n",
       "5                            Development and testing.  2021-05-22-164026   \n",
       "6                            Development and testing.  2021-05-22-164505   \n",
       "7           Added finance report to the process flow.  2021-05-22-164644   \n",
       "8           Added finance report to the process flow.  2021-05-22-171225   \n",
       "9           Added finance report to the process flow.  2021-05-22-171928   \n",
       "10          Added finance report to the process flow.  2021-05-23-174300   \n",
       "11          Added finance report to the process flow.  2021-05-24-091701   \n",
       "12  Edited data for Austraila, json 2 parquet and ...  2021-05-24-132352   \n",
       "13  Edited data for Austraila, json 2 parquet and ...  2021-05-24-155918   \n",
       "14  Edited data for Austraila, json 2 parquet and ...  2021-05-24-173810   \n",
       "15  Edited data for Austraila, json 2 parquet and ...  2021-05-24-183245   \n",
       "16  Edited data for Austraila, json 2 parquet and ...  2021-05-24-234401   \n",
       "17  Edited data for Austraila, json 2 parquet and ...  2021-05-25-002105   \n",
       "18  Edited data for Austraila, json 2 parquet and ...  2021-05-25-004239   \n",
       "19  Edited data for Austraila, json 2 parquet and ...  2021-05-25-084905   \n",
       "20  Edited data for Austraila, json 2 parquet and ...  2021-05-25-114332   \n",
       "21                           Development and testing.  2021-05-25-130633   \n",
       "22                           Development and testing.  2021-05-25-145858   \n",
       "23                           Development and testing.  2021-05-25-150519   \n",
       "24                           Development and testing.  2021-05-25-150834   \n",
       "25  Edited data for Austraila, json 2 parquet and ...  2021-05-25-152647   \n",
       "26  Add PL and CZ, added standard reporting to pip...  2021-05-26-080602   \n",
       "27      Strange etnry found in the 'type of account'.  2021-05-26-092926   \n",
       "28     Used the old AU file. Replaced, running again.  2021-05-26-094043   \n",
       "29     Used the old AU file. Replaced, running again.  2021-05-26-094707   \n",
       "30                           Development and testing.  2021-05-26-102233   \n",
       "31           New AUS needed to be converted from json  2021-05-26-102758   \n",
       "32           New AUS needed to be converted from json  2021-05-26-110640   \n",
       "33                                          Demo Test  2021-05-26-182323   \n",
       "34                                          Demo Test  2021-05-27-121925   \n",
       "35                                          Demo Test  2021-05-28-130404   \n",
       "36                                          Demo Test  2021-05-28-135440   \n",
       "37                                          Demo Test  2021-05-28-141936   \n",
       "38                                          Demo Test  2021-05-28-164134   \n",
       "0                                           Demo Test  2021-06-01-130125   \n",
       "\n",
       "      user                                        raw_archive  \\\n",
       "0   gharmo                                                NaN   \n",
       "1   gharmo                                                NaN   \n",
       "2   gharmo                                                NaN   \n",
       "3   gharmo                                                NaN   \n",
       "4   gharmo                                                NaN   \n",
       "5   gharmo                                                NaN   \n",
       "6   gharmo                                                NaN   \n",
       "7   gharmo                                                NaN   \n",
       "8   gharmo                                                NaN   \n",
       "9   gharmo                                                NaN   \n",
       "10  gharmo                                                NaN   \n",
       "11  gharmo                                                NaN   \n",
       "12  gharmo                                                NaN   \n",
       "13  gharmo                                                NaN   \n",
       "14  gharmo                                                NaN   \n",
       "15  gharmo                                                NaN   \n",
       "16  gharmo                                                NaN   \n",
       "17  gharmo                                                NaN   \n",
       "18  gharmo                                                NaN   \n",
       "19  gharmo                                                NaN   \n",
       "20  gharmo                                                NaN   \n",
       "21  gharmo  =HYPERLINK(\"\\\\hecate\\Insurance_US\\Product Deve...   \n",
       "22  gharmo  =HYPERLINK(\"\\\\hecate\\Insurance_US\\Product Deve...   \n",
       "23  gharmo  =HYPERLINK(\"\\\\hecate\\Insurance_US\\Product Deve...   \n",
       "24  gharmo  =HYPERLINK(\"\\\\hecate\\Insurance_US\\Product Deve...   \n",
       "25  gharmo  =HYPERLINK(\"\\\\hecate\\Insurance_US\\Product Deve...   \n",
       "26  gharmo  =HYPERLINK(\"\\\\hecate\\Insurance_US\\Product Deve...   \n",
       "27  gharmo  =HYPERLINK(\"\\\\hecate\\Insurance_US\\Product Deve...   \n",
       "28  gharmo  =HYPERLINK(\"\\\\hecate\\Insurance_US\\Product Deve...   \n",
       "29  gharmo  =HYPERLINK(\"\\\\hecate\\Insurance_US\\Product Deve...   \n",
       "30  gharmo  =HYPERLINK(\"\\\\hecate\\Insurance_US\\Product Deve...   \n",
       "31  gharmo  =HYPERLINK(\"\\\\hecate\\Insurance_US\\Product Deve...   \n",
       "32  gharmo  =HYPERLINK(\"\\\\hecate\\Insurance_US\\Product Deve...   \n",
       "33  gharmo  =HYPERLINK(\"\\\\hecate\\Insurance_US\\Product Deve...   \n",
       "34  gharmo  =HYPERLINK(\"\\\\hecate\\Insurance_US\\Product Deve...   \n",
       "35  gharmo  =HYPERLINK(\"\\\\hecate\\Insurance_US\\Product Deve...   \n",
       "36  gharmo  =HYPERLINK(\"\\\\hecate\\Insurance_US\\Product Deve...   \n",
       "37  gharmo  =HYPERLINK(\"\\\\hecate\\Insurance_US\\Product Deve...   \n",
       "38  gharmo  =HYPERLINK(\"\\\\hecate\\Insurance_US\\Product Deve...   \n",
       "0   gharmo  =HYPERLINK(\"\\\\hecate\\Insurance_US\\Product Deve...   \n",
       "\n",
       "                                        local_archive  \\\n",
       "0                                                 NaN   \n",
       "1                                                 NaN   \n",
       "2                                                 NaN   \n",
       "3                                                 NaN   \n",
       "4                                                 NaN   \n",
       "5                                                 NaN   \n",
       "6                                                 NaN   \n",
       "7                                                 NaN   \n",
       "8                                                 NaN   \n",
       "9                                                 NaN   \n",
       "10                                                NaN   \n",
       "11                                                NaN   \n",
       "12                                                NaN   \n",
       "13                                                NaN   \n",
       "14                                                NaN   \n",
       "15                                                NaN   \n",
       "16                                                NaN   \n",
       "17                                                NaN   \n",
       "18                                                NaN   \n",
       "19                                                NaN   \n",
       "20                                                NaN   \n",
       "21  =HYPERLINK(\"\\\\hecate\\Insurance_US\\Product Deve...   \n",
       "22  =HYPERLINK(\"\\\\hecate\\Insurance_US\\Product Deve...   \n",
       "23  =HYPERLINK(\"\\\\hecate\\Insurance_US\\Product Deve...   \n",
       "24  =HYPERLINK(\"\\\\hecate\\Insurance_US\\Product Deve...   \n",
       "25  =HYPERLINK(\"\\\\hecate\\Insurance_US\\Product Deve...   \n",
       "26  =HYPERLINK(\"\\\\hecate\\Insurance_US\\Product Deve...   \n",
       "27  =HYPERLINK(\"\\\\hecate\\Insurance_US\\Product Deve...   \n",
       "28  =HYPERLINK(\"\\\\hecate\\Insurance_US\\Product Deve...   \n",
       "29  =HYPERLINK(\"\\\\hecate\\Insurance_US\\Product Deve...   \n",
       "30  =HYPERLINK(\"\\\\hecate\\Insurance_US\\Product Deve...   \n",
       "31  =HYPERLINK(\"\\\\hecate\\Insurance_US\\Product Deve...   \n",
       "32  =HYPERLINK(\"\\\\hecate\\Insurance_US\\Product Deve...   \n",
       "33  =HYPERLINK(\"\\\\hecate\\Insurance_US\\Product Deve...   \n",
       "34  =HYPERLINK(\"\\\\hecate\\Insurance_US\\Product Deve...   \n",
       "35  =HYPERLINK(\"\\\\hecate\\Insurance_US\\Product Deve...   \n",
       "36  =HYPERLINK(\"\\\\hecate\\Insurance_US\\Product Deve...   \n",
       "37  =HYPERLINK(\"\\\\hecate\\Insurance_US\\Product Deve...   \n",
       "38  =HYPERLINK(\"\\\\hecate\\Insurance_US\\Product Deve...   \n",
       "0   =HYPERLINK(\"\\\\hecate\\Insurance_US\\Product Deve...   \n",
       "\n",
       "                                         euro_archive  \n",
       "0                                                 NaN  \n",
       "1                                                 NaN  \n",
       "2                                                 NaN  \n",
       "3                                                 NaN  \n",
       "4                                                 NaN  \n",
       "5                                                 NaN  \n",
       "6                                                 NaN  \n",
       "7                                                 NaN  \n",
       "8                                                 NaN  \n",
       "9                                                 NaN  \n",
       "10                                                NaN  \n",
       "11                                                NaN  \n",
       "12                                                NaN  \n",
       "13                                                NaN  \n",
       "14                                                NaN  \n",
       "15                                                NaN  \n",
       "16                                                NaN  \n",
       "17                                                NaN  \n",
       "18                                                NaN  \n",
       "19                                                NaN  \n",
       "20                                                NaN  \n",
       "21  =HYPERLINK(\"\\\\hecate\\Insurance_US\\Product Deve...  \n",
       "22  =HYPERLINK(\"\\\\hecate\\Insurance_US\\Product Deve...  \n",
       "23  =HYPERLINK(\"\\\\hecate\\Insurance_US\\Product Deve...  \n",
       "24  =HYPERLINK(\"\\\\hecate\\Insurance_US\\Product Deve...  \n",
       "25  =HYPERLINK(\"\\\\hecate\\Insurance_US\\Product Deve...  \n",
       "26  =HYPERLINK(\"\\\\hecate\\Insurance_US\\Product Deve...  \n",
       "27  =HYPERLINK(\"\\\\hecate\\Insurance_US\\Product Deve...  \n",
       "28  =HYPERLINK(\"\\\\hecate\\Insurance_US\\Product Deve...  \n",
       "29  =HYPERLINK(\"\\\\hecate\\Insurance_US\\Product Deve...  \n",
       "30  =HYPERLINK(\"\\\\hecate\\Insurance_US\\Product Deve...  \n",
       "31  =HYPERLINK(\"\\\\hecate\\Insurance_US\\Product Deve...  \n",
       "32  =HYPERLINK(\"\\\\hecate\\Insurance_US\\Product Deve...  \n",
       "33  =HYPERLINK(\"\\\\hecate\\Insurance_US\\Product Deve...  \n",
       "34  =HYPERLINK(\"\\\\hecate\\Insurance_US\\Product Deve...  \n",
       "35  =HYPERLINK(\"\\\\hecate\\Insurance_US\\Product Deve...  \n",
       "36  =HYPERLINK(\"\\\\hecate\\Insurance_US\\Product Deve...  \n",
       "37  =HYPERLINK(\"\\\\hecate\\Insurance_US\\Product Deve...  \n",
       "38  =HYPERLINK(\"\\\\hecate\\Insurance_US\\Product Deve...  \n",
       "0   =HYPERLINK(\"\\\\hecate\\Insurance_US\\Product Deve...  "
      ]
     },
     "execution_count": 12,
     "metadata": {},
     "output_type": "execute_result"
    }
   ],
   "source": [
    "log = os.path.join(rt_path, \"logs\", 'pipline_log.csv' )\n",
    "\n",
    "try:\n",
    "    log_df = pd.read_csv(log)\n",
    "except NameError:\n",
    "    print(\"No log file present\")\n",
    "\n",
    "# determine if running from notebook or Excel controller and set commit message.\n",
    "if sys.argv[1] == \"-f\":\n",
    "    message = commit_message\n",
    "else:\n",
    "    piperunner = os.path.join(scriptpath, xls_runner)\n",
    "    wb = openpyxl.load_workbook(piperunner)\n",
    "    sh = wb['Pipeline Runner']\n",
    "    message = {sh['f13'].value}\n",
    "\n",
    "# find username\n",
    "username = getpass.getuser()\n",
    "\n",
    "# file links\n",
    "rawlink = f'=HYPERLINK(\"{os.path.join(rawpath,rawhistfile)}\")'\n",
    "locallink = f'=HYPERLINK(\"{os.path.join(localpath,localhistfile)}\")'\n",
    "eurolink = f'=HYPERLINK(\"{os.path.join(europath,eurohistfile)}\")'\n",
    "\n",
    "# record timestamp\n",
    "datetime = inst_datetime\n",
    "dateformat = datetime[4:8] + '-' + datetime[:2]  + '-' + datetime[2:4]  + '-' + datetime[8:]\n",
    "\n",
    "# add new line\n",
    "newline = { \"run_message\" : [message ],  \"datetime\" :[dateformat], \"user\" : [username ],\n",
    "          \n",
    "          \"raw_archive\" : [rawlink] ,\"local_archive\" :\t[locallink],\"euro_archive\" : [eurolink] }\n",
    "\n",
    "\n",
    "newline = pd.DataFrame.from_dict(newline)\n",
    "\n",
    "# make new file\n",
    "log_df = log_df.append(newline[0:])\n",
    "log_df\n",
    "log_df.to_csv(log, ',', index=False , encoding='utf-8-sig')\n"
   ]
  },
  {
   "cell_type": "markdown",
   "id": "b49ccab2",
   "metadata": {
    "papermill": {
     "duration": 0.263,
     "end_time": "2021-06-01T17:03:56.879753",
     "exception": false,
     "start_time": "2021-06-01T17:03:56.616753",
     "status": "completed"
    },
    "tags": []
   },
   "source": [
    "#### Store the DataFrame for other noteboks to use"
   ]
  },
  {
   "cell_type": "code",
   "execution_count": 13,
   "id": "05dd27fa",
   "metadata": {
    "execution": {
     "iopub.execute_input": "2021-06-01T17:03:57.415420Z",
     "iopub.status.busy": "2021-06-01T17:03:57.413412Z",
     "iopub.status.idle": "2021-06-01T17:03:57.482932Z",
     "shell.execute_reply": "2021-06-01T17:03:57.483937Z"
    },
    "papermill": {
     "duration": 0.342611,
     "end_time": "2021-06-01T17:03:57.484930",
     "exception": false,
     "start_time": "2021-06-01T17:03:57.142319",
     "status": "completed"
    },
    "tags": []
   },
   "outputs": [
    {
     "name": "stdout",
     "output_type": "stream",
     "text": [
      "Stored 'read_dc_df' (DataFrame)\n"
     ]
    }
   ],
   "source": [
    "read_dc_df = df\n",
    "\n",
    "%store read_dc_df\n"
   ]
  }
 ],
 "metadata": {
  "celltoolbar": "Tags",
  "kernelspec": {
   "display_name": "Python 3",
   "language": "python",
   "name": "python3"
  },
  "language_info": {
   "codemirror_mode": {
    "name": "ipython",
    "version": 3
   },
   "file_extension": ".py",
   "mimetype": "text/x-python",
   "name": "python",
   "nbconvert_exporter": "python",
   "pygments_lexer": "ipython3",
   "version": "3.7.6"
  },
  "papermill": {
   "default_parameters": {},
   "duration": 56.521199,
   "end_time": "2021-06-01T17:03:58.410108",
   "environment_variables": {},
   "exception": null,
   "input_path": "pipeline/read_dc.ipynb",
   "output_path": "//hecate/Insurance_US/Product Development/Product Management/Global PPM/Reporting/Data Collection/Pipeline Reporting Scripts/GPMpipeline/instances/2021.Q1\\pipeline\\read_dc06012021130125--live run, removed r transformations.ipynb",
   "parameters": {
    "commit_message": "Demo Test",
    "inst_datetime": "06012021130125",
    "percode": "2021.Q1",
    "run_control": 1
   },
   "start_time": "2021-06-01T17:03:01.888909",
   "version": "2.3.3"
  }
 },
 "nbformat": 4,
 "nbformat_minor": 5
}