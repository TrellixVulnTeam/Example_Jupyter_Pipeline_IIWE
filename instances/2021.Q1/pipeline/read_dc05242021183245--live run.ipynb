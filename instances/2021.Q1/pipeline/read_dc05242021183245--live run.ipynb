{
 "cells": [
  {
   "cell_type": "markdown",
   "id": "0ccaa4a0",
   "metadata": {
    "papermill": {
     "duration": 0.307232,
     "end_time": "2021-05-24T22:34:37.544788",
     "exception": false,
     "start_time": "2021-05-24T22:34:37.237556",
     "status": "completed"
    },
    "tags": []
   },
   "source": [
    "<img src=\"../images/AzPTravel_PPM.png\">"
   ]
  },
  {
   "cell_type": "markdown",
   "id": "487d22cb",
   "metadata": {
    "papermill": {
     "duration": 0.255043,
     "end_time": "2021-05-24T22:34:38.038415",
     "exception": false,
     "start_time": "2021-05-24T22:34:37.783372",
     "status": "completed"
    },
    "pycharm": {
     "name": "#%% md\n"
    },
    "tags": []
   },
   "source": [
    "## Read in Data Collection Source\n",
    "\n",
    "#### This script fetches the current data collection submission file from the completed \"prep.ipynb\" step into the pipeline.\n"
   ]
  },
  {
   "cell_type": "markdown",
   "id": "1e14dd79",
   "metadata": {
    "papermill": {
     "duration": 0.283206,
     "end_time": "2021-05-24T22:34:38.567623",
     "exception": false,
     "start_time": "2021-05-24T22:34:38.284417",
     "status": "completed"
    },
    "tags": []
   },
   "source": [
    "### User Variables\n",
    "- These are overwritten if inherited from run_control.ipynb.\n",
    "- Feel Free to reset them for a manual run if you like\n",
    "- Do not save without percode = \"-f\""
   ]
  },
  {
   "cell_type": "code",
   "execution_count": 1,
   "id": "027ade92",
   "metadata": {
    "execution": {
     "iopub.execute_input": "2021-05-24T22:34:39.069127Z",
     "iopub.status.busy": "2021-05-24T22:34:39.065131Z",
     "iopub.status.idle": "2021-05-24T22:34:39.071130Z",
     "shell.execute_reply": "2021-05-24T22:34:39.078136Z"
    },
    "papermill": {
     "duration": 0.262009,
     "end_time": "2021-05-24T22:34:39.079136",
     "exception": false,
     "start_time": "2021-05-24T22:34:38.817127",
     "status": "completed"
    },
    "pycharm": {
     "name": "#%%\n"
    },
    "tags": [
     "parameters"
    ]
   },
   "outputs": [],
   "source": [
    "commit_message = \"Development and testing.\"\n",
    "# Give a brief reason for the run.\n",
    "\n",
    "run_control = 0\n",
    "#run_type = 0 - Lite run with no reporting, not recommended.\n",
    "#run_type = 1 - Lite run with normal reporting, default setting.\n",
    "#run_type = 2 - Heavy run with full reporting, available for audits and troubleshooting.\n",
    "#run_type = 5 - A default setting. Indicates the script is being run by an outside process without an inherited value\n",
    "\n",
    "percode = \"2021.Q1\"\n",
    "# Data Collection Code, this controls file paths and output names\n",
    "# \"-f\" is the value indicating a bad inheritance from run with arg\n",
    "\n",
    "#----------\n",
    "# do not edit - this either inherits the full instance timestamp from the papermill book or captures the run time of this script.\n",
    "from datetime import datetime\n",
    "inst_datetime = datetime.now().strftime(\"%m%d%Y%H%M%S\")"
   ]
  },
  {
   "cell_type": "code",
   "execution_count": 2,
   "id": "b5807487",
   "metadata": {
    "execution": {
     "iopub.execute_input": "2021-05-24T22:34:39.691871Z",
     "iopub.status.busy": "2021-05-24T22:34:39.689871Z",
     "iopub.status.idle": "2021-05-24T22:34:39.695872Z",
     "shell.execute_reply": "2021-05-24T22:34:39.696879Z"
    },
    "papermill": {
     "duration": 0.321955,
     "end_time": "2021-05-24T22:34:39.697790",
     "exception": false,
     "start_time": "2021-05-24T22:34:39.375835",
     "status": "completed"
    },
    "tags": [
     "injected-parameters"
    ]
   },
   "outputs": [],
   "source": [
    "# Parameters\n",
    "run_control = 1\n",
    "percode = \"2021.Q1\"\n",
    "commit_message = \"Edited data for Austraila, json 2 parquet and add comments from email. Begin general evaluation of data submissions.\"\n",
    "inst_datetime = \"05242021183245\"\n"
   ]
  },
  {
   "cell_type": "markdown",
   "id": "f53fdc4c",
   "metadata": {
    "papermill": {
     "duration": 0.289015,
     "end_time": "2021-05-24T22:34:40.297789",
     "exception": false,
     "start_time": "2021-05-24T22:34:40.008774",
     "status": "completed"
    },
    "tags": []
   },
   "source": [
    "#### import packages"
   ]
  },
  {
   "cell_type": "code",
   "execution_count": 3,
   "id": "9d32f485",
   "metadata": {
    "execution": {
     "iopub.execute_input": "2021-05-24T22:34:40.878757Z",
     "iopub.status.busy": "2021-05-24T22:34:40.877753Z",
     "iopub.status.idle": "2021-05-24T22:34:49.522684Z",
     "shell.execute_reply": "2021-05-24T22:34:49.524671Z"
    },
    "papermill": {
     "duration": 8.933463,
     "end_time": "2021-05-24T22:34:49.524671",
     "exception": false,
     "start_time": "2021-05-24T22:34:40.591208",
     "status": "completed"
    },
    "pycharm": {
     "name": "#%%\n"
    },
    "tags": []
   },
   "outputs": [],
   "source": [
    "import os # System commands\n",
    "import sys # System commands\n",
    "\n",
    "import getpass # parquet file read/write\n",
    "import json # json file read/write\n",
    "from sklearn import datasets # pass vars between .ipynb s\n",
    "\n",
    "import matplotlib.pyplot as plt #Plots and Graphs\n",
    "import pandas as pd #DataFrame and math\n"
   ]
  },
  {
   "cell_type": "markdown",
   "id": "ba86b0dc",
   "metadata": {
    "papermill": {
     "duration": 0.244515,
     "end_time": "2021-05-24T22:34:50.017704",
     "exception": false,
     "start_time": "2021-05-24T22:34:49.773189",
     "status": "completed"
    },
    "tags": []
   },
   "source": [
    "#### Default Variables, these govern logic, do not edit."
   ]
  },
  {
   "cell_type": "code",
   "execution_count": 4,
   "id": "d16597af",
   "metadata": {
    "execution": {
     "iopub.execute_input": "2021-05-24T22:34:50.503755Z",
     "iopub.status.busy": "2021-05-24T22:34:50.502758Z",
     "iopub.status.idle": "2021-05-24T22:34:50.506753Z",
     "shell.execute_reply": "2021-05-24T22:34:50.507753Z"
    },
    "papermill": {
     "duration": 0.253511,
     "end_time": "2021-05-24T22:34:50.507753",
     "exception": false,
     "start_time": "2021-05-24T22:34:50.254242",
     "status": "completed"
    },
    "pycharm": {
     "name": "#%%\n"
    },
    "tags": []
   },
   "outputs": [],
   "source": [
    "default_dc = \"20XX.QX\"\n",
    "default_rc = 0 #extra lite mode\n",
    "dummy_perc = \"33Q3\" # bad inheritance"
   ]
  },
  {
   "cell_type": "markdown",
   "id": "3fb7f031",
   "metadata": {
    "papermill": {
     "duration": 0.233544,
     "end_time": "2021-05-24T22:34:50.984049",
     "exception": false,
     "start_time": "2021-05-24T22:34:50.750505",
     "status": "completed"
    },
    "pycharm": {
     "name": "#%% md\n"
    },
    "tags": []
   },
   "source": [
    "#### Script determining run context ie, manual, run_control.ipynb, or other."
   ]
  },
  {
   "cell_type": "code",
   "execution_count": 5,
   "id": "1e0876f9",
   "metadata": {
    "execution": {
     "iopub.execute_input": "2021-05-24T22:34:51.534914Z",
     "iopub.status.busy": "2021-05-24T22:34:51.533914Z",
     "iopub.status.idle": "2021-05-24T22:34:51.538907Z",
     "shell.execute_reply": "2021-05-24T22:34:51.539910Z"
    },
    "papermill": {
     "duration": 0.282212,
     "end_time": "2021-05-24T22:34:51.539910",
     "exception": false,
     "start_time": "2021-05-24T22:34:51.257698",
     "status": "completed"
    },
    "pycharm": {
     "name": "#%%\n"
    },
    "tags": [
     "parameters"
    ]
   },
   "outputs": [],
   "source": [
    "if run_control == 5:\n",
    "    \n",
    "    run_control = default_rc\n",
    "    \n",
    "else:\n",
    "    \n",
    "    run_control = run_control\n",
    "\n",
    "try:\n",
    "    \n",
    "    if sys.argv[1] == \"-f\":\n",
    "        \n",
    "        percode = percode\n",
    "        \n",
    "    else:\n",
    "        \n",
    "        percode = sys.argv[1]\n",
    "\n",
    "except IndexError:\n",
    "    \n",
    "    percode = default_dc\n",
    "\n",
    "except NameError:\n",
    "\n",
    "    percode = default_dc\n"
   ]
  },
  {
   "cell_type": "markdown",
   "id": "8a0ac7ef",
   "metadata": {
    "papermill": {
     "duration": 0.290557,
     "end_time": "2021-05-24T22:34:52.085517",
     "exception": false,
     "start_time": "2021-05-24T22:34:51.794960",
     "status": "completed"
    },
    "tags": []
   },
   "source": [
    "#### style settings"
   ]
  },
  {
   "cell_type": "code",
   "execution_count": 6,
   "id": "a364e135",
   "metadata": {
    "execution": {
     "iopub.execute_input": "2021-05-24T22:34:52.637593Z",
     "iopub.status.busy": "2021-05-24T22:34:52.634593Z",
     "iopub.status.idle": "2021-05-24T22:34:52.643596Z",
     "shell.execute_reply": "2021-05-24T22:34:52.644592Z"
    },
    "papermill": {
     "duration": 0.278589,
     "end_time": "2021-05-24T22:34:52.644592",
     "exception": false,
     "start_time": "2021-05-24T22:34:52.366003",
     "status": "completed"
    },
    "tags": []
   },
   "outputs": [],
   "source": [
    "from IPython.core.interactiveshell import InteractiveShell\n",
    "InteractiveShell.ast_node_interactivity = \"all\""
   ]
  },
  {
   "cell_type": "markdown",
   "id": "8d8ba5de",
   "metadata": {
    "papermill": {
     "duration": 0.236002,
     "end_time": "2021-05-24T22:34:53.126304",
     "exception": false,
     "start_time": "2021-05-24T22:34:52.890302",
     "status": "completed"
    },
    "pycharm": {
     "name": "#%% md\n"
    },
    "tags": []
   },
   "source": [
    "#### Make paths for the source folder"
   ]
  },
  {
   "cell_type": "code",
   "execution_count": 7,
   "id": "6b4b1698",
   "metadata": {
    "execution": {
     "iopub.execute_input": "2021-05-24T22:34:53.608016Z",
     "iopub.status.busy": "2021-05-24T22:34:53.606014Z",
     "iopub.status.idle": "2021-05-24T22:34:53.611019Z",
     "shell.execute_reply": "2021-05-24T22:34:53.612020Z"
    },
    "papermill": {
     "duration": 0.247722,
     "end_time": "2021-05-24T22:34:53.613022",
     "exception": false,
     "start_time": "2021-05-24T22:34:53.365300",
     "status": "completed"
    },
    "pycharm": {
     "name": "#%%\n"
    },
    "tags": []
   },
   "outputs": [],
   "source": [
    "rt_path = f'//hecate/Insurance_US/Product Development/Product Management/Global PPM/Reporting/Data Collection/Production/{str(percode)}'\n"
   ]
  },
  {
   "cell_type": "markdown",
   "id": "ce7dbe4c",
   "metadata": {
    "papermill": {
     "duration": 0.26527,
     "end_time": "2021-05-24T22:34:54.106288",
     "exception": false,
     "start_time": "2021-05-24T22:34:53.841018",
     "status": "completed"
    },
    "tags": []
   },
   "source": [
    "#### Set file variables"
   ]
  },
  {
   "cell_type": "code",
   "execution_count": 8,
   "id": "35350ec8",
   "metadata": {
    "execution": {
     "iopub.execute_input": "2021-05-24T22:34:54.697398Z",
     "iopub.status.busy": "2021-05-24T22:34:54.693396Z",
     "iopub.status.idle": "2021-05-24T22:34:54.701395Z",
     "shell.execute_reply": "2021-05-24T22:34:54.702394Z"
    },
    "papermill": {
     "duration": 0.281034,
     "end_time": "2021-05-24T22:34:54.702394",
     "exception": false,
     "start_time": "2021-05-24T22:34:54.421360",
     "status": "completed"
    },
    "tags": []
   },
   "outputs": [],
   "source": [
    "prepparq = os.path.join(str(rt_path), f\"{percode}prep.parquet\")\n",
    "prepfile = os.path.join(str(rt_path), f\"{percode}prep.csv\")\n"
   ]
  },
  {
   "cell_type": "markdown",
   "id": "c2c19bee",
   "metadata": {
    "papermill": {
     "duration": 0.296866,
     "end_time": "2021-05-24T22:34:55.268085",
     "exception": false,
     "start_time": "2021-05-24T22:34:54.971219",
     "status": "completed"
    },
    "pycharm": {
     "name": "#%% md\n"
    },
    "tags": []
   },
   "source": [
    "- Read each json file into temp DataFrame \"data\".\n",
    "- Prep actions - Strip (trim) leading and trailing spaces values in string columns, remove rows without business units.\n",
    "- Append each json output to into 1 DataFrame \"df\".\n",
    "- Process Cleanup, the indices restart with each append, reset and drop the previous."
   ]
  },
  {
   "cell_type": "code",
   "execution_count": 9,
   "id": "eaac5358",
   "metadata": {
    "execution": {
     "iopub.execute_input": "2021-05-24T22:34:55.799584Z",
     "iopub.status.busy": "2021-05-24T22:34:55.797583Z",
     "iopub.status.idle": "2021-05-24T22:34:56.142805Z",
     "shell.execute_reply": "2021-05-24T22:34:56.141810Z"
    },
    "papermill": {
     "duration": 0.617239,
     "end_time": "2021-05-24T22:34:56.143812",
     "exception": false,
     "start_time": "2021-05-24T22:34:55.526573",
     "status": "completed"
    },
    "pycharm": {
     "name": "#%%\n"
    },
    "tags": []
   },
   "outputs": [],
   "source": [
    "\n",
    "try:\n",
    "    %store -r prep_df\n",
    "    df = prep_df\n",
    "\n",
    "except:\n",
    "    \n",
    "    try:\n",
    "        df = pd.read_parquet(prepparq, engine = \"pyarrow\")\n",
    "    \n",
    "    except:\n",
    "        df = pd.read_csv(prepfile )\n",
    "\n",
    "if run_control > 0:\n",
    "  \n",
    "    os.remove(prepfile)\n",
    "    os.remove(prepparq)\n",
    "\n",
    "else:\n",
    "\n",
    "    pass"
   ]
  },
  {
   "cell_type": "markdown",
   "id": "2d8721c2",
   "metadata": {
    "papermill": {
     "duration": 0.283454,
     "end_time": "2021-05-24T22:34:56.694836",
     "exception": false,
     "start_time": "2021-05-24T22:34:56.411382",
     "status": "completed"
    },
    "pycharm": {
     "name": "#%% md\n"
    },
    "tags": []
   },
   "source": [
    "#### Upload Charts"
   ]
  },
  {
   "cell_type": "code",
   "execution_count": 10,
   "id": "ba440ee3",
   "metadata": {
    "execution": {
     "iopub.execute_input": "2021-05-24T22:34:57.284403Z",
     "iopub.status.busy": "2021-05-24T22:34:57.283406Z",
     "iopub.status.idle": "2021-05-24T22:34:58.101072Z",
     "shell.execute_reply": "2021-05-24T22:34:58.102073Z"
    },
    "papermill": {
     "duration": 1.137246,
     "end_time": "2021-05-24T22:34:58.103075",
     "exception": false,
     "start_time": "2021-05-24T22:34:56.965829",
     "status": "completed"
    },
    "pycharm": {
     "name": "#%%\n"
    },
    "tags": []
   },
   "outputs": [
    {
     "data": {
      "text/plain": [
       "<BarContainer object of 6 artists>"
      ]
     },
     "execution_count": 10,
     "metadata": {},
     "output_type": "execute_result"
    },
    {
     "data": {
      "text/plain": [
       "Text(0.5, 1.0, 'Earned Revenue net of Taxes by BU in thousands LC')"
      ]
     },
     "execution_count": 10,
     "metadata": {},
     "output_type": "execute_result"
    },
    {
     "data": {
      "image/png": "[encoded data removed]",
      "text/plain": [
       "<Figure size 432x288 with 1 Axes>"
      ]
     },
     "metadata": {
      "needs_background": "light"
     },
     "output_type": "display_data"
    },
    {
     "data": {
      "text/plain": [
       "<BarContainer object of 6 artists>"
      ]
     },
     "execution_count": 10,
     "metadata": {},
     "output_type": "execute_result"
    },
    {
     "data": {
      "text/plain": [
       "Text(0.5, 1.0, 'Row Counts by BU')"
      ]
     },
     "execution_count": 10,
     "metadata": {},
     "output_type": "execute_result"
    },
    {
     "data": {
      "image/png": "[encoded data removed]",
      "text/plain": [
       "<Figure size 432x288 with 1 Axes>"
      ]
     },
     "metadata": {
      "needs_background": "light"
     },
     "output_type": "display_data"
    }
   ],
   "source": [
    "def num_format(x):\n",
    "    \"\"\"number format without a currency\"\"\"\n",
    "    return \"{:,.0f}\".format(x)\n",
    "\n",
    "if run_control > 0:\n",
    "\n",
    "    sumdata = df.groupby(['Business Unit']).sum()\n",
    "    sumdata = sumdata.reset_index()\n",
    "    plt.bar(sumdata['Business Unit'], sumdata['Earned Revenues net of Taxes']/1000)\n",
    "    plt.title('Earned Revenue net of Taxes by BU in thousands LC')\n",
    "    plt.show()\n",
    "\n",
    "    countdata = df.groupby(['Business Unit']).count()\n",
    "    countdata = countdata.reset_index()\n",
    "    plt.bar(countdata['Business Unit'], countdata['Earned Revenues net of Taxes'])\n",
    "    plt.title('Row Counts by BU')\n",
    "    plt.show()\n",
    "\n",
    "else:\n",
    "    print(\"Charts Skipped\")"
   ]
  },
  {
   "cell_type": "markdown",
   "id": "eb8ba9d2",
   "metadata": {
    "papermill": {
     "duration": 0.344717,
     "end_time": "2021-05-24T22:34:58.757382",
     "exception": false,
     "start_time": "2021-05-24T22:34:58.412665",
     "status": "completed"
    },
    "tags": []
   },
   "source": [
    "#### Raw files - extensive audit, best to skip unless troubleshooting, may crash a browser"
   ]
  },
  {
   "cell_type": "code",
   "execution_count": 11,
   "id": "a9522c02",
   "metadata": {
    "execution": {
     "iopub.execute_input": "2021-05-24T22:34:59.414872Z",
     "iopub.status.busy": "2021-05-24T22:34:59.412877Z",
     "iopub.status.idle": "2021-05-24T22:34:59.417885Z",
     "shell.execute_reply": "2021-05-24T22:34:59.417885Z"
    },
    "papermill": {
     "duration": 0.348345,
     "end_time": "2021-05-24T22:34:59.418879",
     "exception": false,
     "start_time": "2021-05-24T22:34:59.070534",
     "status": "completed"
    },
    "pycharm": {
     "name": "#%%\n"
    },
    "tags": []
   },
   "outputs": [],
   "source": [
    "# setup for json only\n",
    "# if run_control > 1:\n",
    "#     for f in pathfiles:\n",
    "#         with open(f, 'r') as json_file:\n",
    "#             json_object = json.load(json_file)\n",
    "#         print(json.dumps(json_object, indent=1))\n",
    "#\n",
    "# else:\n",
    "#     print(\"Audit Report 1 Skipped\")"
   ]
  },
  {
   "cell_type": "markdown",
   "id": "bab11274",
   "metadata": {
    "papermill": {
     "duration": 0.353988,
     "end_time": "2021-05-24T22:35:00.103616",
     "exception": false,
     "start_time": "2021-05-24T22:34:59.749628",
     "status": "completed"
    },
    "tags": []
   },
   "source": [
    "#### Output Processes\n",
    "- Define File names.\n",
    "- If existing csv is found, archive it in \"raw_data_file_history\" folder.\n",
    "- Save new csv."
   ]
  },
  {
   "cell_type": "code",
   "execution_count": 12,
   "id": "5e1f33f9",
   "metadata": {
    "execution": {
     "iopub.execute_input": "2021-05-24T22:35:00.802696Z",
     "iopub.status.busy": "2021-05-24T22:35:00.801696Z",
     "iopub.status.idle": "2021-05-24T22:35:18.190834Z",
     "shell.execute_reply": "2021-05-24T22:35:18.191820Z"
    },
    "papermill": {
     "duration": 17.753119,
     "end_time": "2021-05-24T22:35:18.192822",
     "exception": false,
     "start_time": "2021-05-24T22:35:00.439703",
     "status": "completed"
    },
    "pycharm": {
     "name": "#%%\n"
    },
    "tags": []
   },
   "outputs": [],
   "source": [
    "if run_control > 0:\n",
    "    \n",
    "    file = f'{str(percode)}.csv'\n",
    "    pfile = f'{str(percode)}.parquet'\n",
    "    histfile = f'{str(percode)}_{inst_datetime}.csv'\n",
    "\n",
    "    try:\n",
    "        os.rename(os.path.join(str(rt_path), file), os.path.join(str(rt_path), \"logs/raw_data_file_history/\" , histfile))\n",
    "    except FileNotFoundError:\n",
    "        pass\n",
    "\n",
    "    df.to_csv(os.path.join(str(rt_path), file), ',', index=False , encoding='utf-8-sig')\n",
    "    df.to_parquet(os.path.join(str(rt_path), pfile), engine = \"pyarrow\")\n",
    "\n",
    "else:\n",
    "    \n",
    "    pass"
   ]
  },
  {
   "cell_type": "markdown",
   "id": "f578b754",
   "metadata": {
    "papermill": {
     "duration": 0.351987,
     "end_time": "2021-05-24T22:35:18.937802",
     "exception": false,
     "start_time": "2021-05-24T22:35:18.585815",
     "status": "completed"
    },
    "tags": []
   },
   "source": [
    "- Log update record with commit message and time.\n",
    "- Determine commit message and make new entry"
   ]
  },
  {
   "cell_type": "code",
   "execution_count": 13,
   "id": "402b2f04",
   "metadata": {
    "execution": {
     "iopub.execute_input": "2021-05-24T22:35:19.682961Z",
     "iopub.status.busy": "2021-05-24T22:35:19.681961Z",
     "iopub.status.idle": "2021-05-24T22:35:20.493877Z",
     "shell.execute_reply": "2021-05-24T22:35:20.494878Z"
    },
    "papermill": {
     "duration": 1.198455,
     "end_time": "2021-05-24T22:35:20.494878",
     "exception": false,
     "start_time": "2021-05-24T22:35:19.296423",
     "status": "completed"
    },
    "pycharm": {
     "name": "#%%\n"
    },
    "tags": []
   },
   "outputs": [
    {
     "data": {
      "text/html": [
       "<div>\n",
       "<style scoped>\n",
       "    .dataframe tbody tr th:only-of-type {\n",
       "        vertical-align: middle;\n",
       "    }\n",
       "\n",
       "    .dataframe tbody tr th {\n",
       "        vertical-align: top;\n",
       "    }\n",
       "\n",
       "    .dataframe thead th {\n",
       "        text-align: right;\n",
       "    }\n",
       "</style>\n",
       "<table border=\"1\" class=\"dataframe\">\n",
       "  <thead>\n",
       "    <tr style=\"text-align: right;\">\n",
       "      <th></th>\n",
       "      <th>run_message\\tdatetime\\tuser</th>\n",
       "      <th>run_message</th>\n",
       "      <th>datetime</th>\n",
       "      <th>user</th>\n",
       "    </tr>\n",
       "  </thead>\n",
       "  <tbody>\n",
       "    <tr>\n",
       "      <th>0</th>\n",
       "      <td>NaN</td>\n",
       "      <td>Got something new it.</td>\n",
       "      <td>2021-05-21-090854</td>\n",
       "      <td>gharmo</td>\n",
       "    </tr>\n",
       "    <tr>\n",
       "      <th>1</th>\n",
       "      <td>NaN</td>\n",
       "      <td>Changed some folder names.</td>\n",
       "      <td>2021-05-21-153222</td>\n",
       "      <td>gharmo</td>\n",
       "    </tr>\n",
       "    <tr>\n",
       "      <th>2</th>\n",
       "      <td>NaN</td>\n",
       "      <td>Added finance report to the process flow.</td>\n",
       "      <td>2021-05-21-163305</td>\n",
       "      <td>gharmo</td>\n",
       "    </tr>\n",
       "    <tr>\n",
       "      <th>3</th>\n",
       "      <td>NaN</td>\n",
       "      <td>Added finance report to the process flow.</td>\n",
       "      <td>2021-05-21-165556</td>\n",
       "      <td>gharmo</td>\n",
       "    </tr>\n",
       "    <tr>\n",
       "      <th>4</th>\n",
       "      <td>NaN</td>\n",
       "      <td>Added finance report to the process flow.</td>\n",
       "      <td>2021-05-22-163757</td>\n",
       "      <td>gharmo</td>\n",
       "    </tr>\n",
       "    <tr>\n",
       "      <th>5</th>\n",
       "      <td>NaN</td>\n",
       "      <td>Development and testing.</td>\n",
       "      <td>2021-05-22-164026</td>\n",
       "      <td>gharmo</td>\n",
       "    </tr>\n",
       "    <tr>\n",
       "      <th>6</th>\n",
       "      <td>NaN</td>\n",
       "      <td>Development and testing.</td>\n",
       "      <td>2021-05-22-164505</td>\n",
       "      <td>gharmo</td>\n",
       "    </tr>\n",
       "    <tr>\n",
       "      <th>7</th>\n",
       "      <td>NaN</td>\n",
       "      <td>Added finance report to the process flow.</td>\n",
       "      <td>2021-05-22-164644</td>\n",
       "      <td>gharmo</td>\n",
       "    </tr>\n",
       "    <tr>\n",
       "      <th>8</th>\n",
       "      <td>NaN</td>\n",
       "      <td>Added finance report to the process flow.</td>\n",
       "      <td>2021-05-22-171225</td>\n",
       "      <td>gharmo</td>\n",
       "    </tr>\n",
       "    <tr>\n",
       "      <th>9</th>\n",
       "      <td>NaN</td>\n",
       "      <td>Added finance report to the process flow.</td>\n",
       "      <td>2021-05-22-171928</td>\n",
       "      <td>gharmo</td>\n",
       "    </tr>\n",
       "    <tr>\n",
       "      <th>10</th>\n",
       "      <td>NaN</td>\n",
       "      <td>Added finance report to the process flow.</td>\n",
       "      <td>2021-05-23-174300</td>\n",
       "      <td>gharmo</td>\n",
       "    </tr>\n",
       "    <tr>\n",
       "      <th>11</th>\n",
       "      <td>NaN</td>\n",
       "      <td>Added finance report to the process flow.</td>\n",
       "      <td>2021-05-24-091701</td>\n",
       "      <td>gharmo</td>\n",
       "    </tr>\n",
       "    <tr>\n",
       "      <th>12</th>\n",
       "      <td>NaN</td>\n",
       "      <td>Edited data for Austraila, json 2 parquet and ...</td>\n",
       "      <td>2021-05-24-132352</td>\n",
       "      <td>gharmo</td>\n",
       "    </tr>\n",
       "    <tr>\n",
       "      <th>13</th>\n",
       "      <td>NaN</td>\n",
       "      <td>Edited data for Austraila, json 2 parquet and ...</td>\n",
       "      <td>2021-05-24-155918</td>\n",
       "      <td>gharmo</td>\n",
       "    </tr>\n",
       "    <tr>\n",
       "      <th>14</th>\n",
       "      <td>NaN</td>\n",
       "      <td>Edited data for Austraila, json 2 parquet and ...</td>\n",
       "      <td>2021-05-24-173810</td>\n",
       "      <td>gharmo</td>\n",
       "    </tr>\n",
       "    <tr>\n",
       "      <th>0</th>\n",
       "      <td>NaN</td>\n",
       "      <td>Edited data for Austraila, json 2 parquet and ...</td>\n",
       "      <td>2021-05-24-183245</td>\n",
       "      <td>gharmo</td>\n",
       "    </tr>\n",
       "  </tbody>\n",
       "</table>\n",
       "</div>"
      ],
      "text/plain": [
       "    run_message\\tdatetime\\tuser  \\\n",
       "0                           NaN   \n",
       "1                           NaN   \n",
       "2                           NaN   \n",
       "3                           NaN   \n",
       "4                           NaN   \n",
       "5                           NaN   \n",
       "6                           NaN   \n",
       "7                           NaN   \n",
       "8                           NaN   \n",
       "9                           NaN   \n",
       "10                          NaN   \n",
       "11                          NaN   \n",
       "12                          NaN   \n",
       "13                          NaN   \n",
       "14                          NaN   \n",
       "0                           NaN   \n",
       "\n",
       "                                          run_message           datetime  \\\n",
       "0                               Got something new it.  2021-05-21-090854   \n",
       "1                          Changed some folder names.  2021-05-21-153222   \n",
       "2           Added finance report to the process flow.  2021-05-21-163305   \n",
       "3           Added finance report to the process flow.  2021-05-21-165556   \n",
       "4           Added finance report to the process flow.  2021-05-22-163757   \n",
       "5                            Development and testing.  2021-05-22-164026   \n",
       "6                            Development and testing.  2021-05-22-164505   \n",
       "7           Added finance report to the process flow.  2021-05-22-164644   \n",
       "8           Added finance report to the process flow.  2021-05-22-171225   \n",
       "9           Added finance report to the process flow.  2021-05-22-171928   \n",
       "10          Added finance report to the process flow.  2021-05-23-174300   \n",
       "11          Added finance report to the process flow.  2021-05-24-091701   \n",
       "12  Edited data for Austraila, json 2 parquet and ...  2021-05-24-132352   \n",
       "13  Edited data for Austraila, json 2 parquet and ...  2021-05-24-155918   \n",
       "14  Edited data for Austraila, json 2 parquet and ...  2021-05-24-173810   \n",
       "0   Edited data for Austraila, json 2 parquet and ...  2021-05-24-183245   \n",
       "\n",
       "      user  \n",
       "0   gharmo  \n",
       "1   gharmo  \n",
       "2   gharmo  \n",
       "3   gharmo  \n",
       "4   gharmo  \n",
       "5   gharmo  \n",
       "6   gharmo  \n",
       "7   gharmo  \n",
       "8   gharmo  \n",
       "9   gharmo  \n",
       "10  gharmo  \n",
       "11  gharmo  \n",
       "12  gharmo  \n",
       "13  gharmo  \n",
       "14  gharmo  \n",
       "0   gharmo  "
      ]
     },
     "execution_count": 13,
     "metadata": {},
     "output_type": "execute_result"
    }
   ],
   "source": [
    "log = os.path.join(str(rt_path), f'logs/pipline_log.csv' )\n",
    "\n",
    "try:\n",
    "    log_df = pd.read_csv(log)\n",
    "except NameError:\n",
    "    print(\"No log file present\")\n",
    "\n",
    "# determine if running from notebook or Excel controller and set commit message.\n",
    "if sys.argv[1] == \"-f\":\n",
    "    message = commit_message\n",
    "else:\n",
    "    piperunner = '//hecate/Insurance_US/Product Development/Product Management/Global PPM/Reporting/_To' \\\n",
    "                 'ols/GitHub/Production Repositories/Pipeline Runner/Pipeline Runner.xlsm'\n",
    "    wb = openpyxl.load_workbook(piperunner)\n",
    "    sh = wb['Pipeline Runner']\n",
    "    message = sh['f13'].value\n",
    "\n",
    "# find username\n",
    "username = getpass.getuser()\n",
    "\n",
    "# record timestamp\n",
    "datetime = inst_datetime\n",
    "dateformat = datetime[4:8] + '-' + datetime[:2]  + '-' + datetime[2:4]  + '-' + datetime[8:]\n",
    "\n",
    "# add new line\n",
    "newline = { \"run_message\" : [message ],  \"datetime\" :[dateformat], \"user\" : [username ]}\n",
    "newline = pd.DataFrame.from_dict(newline)\n",
    "\n",
    "# make new file\n",
    "log_df = log_df.append(newline[0:])\n",
    "log_df\n",
    "log_df.to_csv(log, ',', index=False , encoding='utf-8-sig')\n"
   ]
  },
  {
   "cell_type": "markdown",
   "id": "54dbe8e3",
   "metadata": {
    "papermill": {
     "duration": 0.350515,
     "end_time": "2021-05-24T22:35:21.136498",
     "exception": false,
     "start_time": "2021-05-24T22:35:20.785983",
     "status": "completed"
    },
    "tags": []
   },
   "source": [
    "#### Store the DataFrame for other noteboks to use"
   ]
  },
  {
   "cell_type": "code",
   "execution_count": 14,
   "id": "8438c9e4",
   "metadata": {
    "execution": {
     "iopub.execute_input": "2021-05-24T22:35:21.866810Z",
     "iopub.status.busy": "2021-05-24T22:35:21.864806Z",
     "iopub.status.idle": "2021-05-24T22:35:21.914812Z",
     "shell.execute_reply": "2021-05-24T22:35:21.912810Z"
    },
    "papermill": {
     "duration": 0.422652,
     "end_time": "2021-05-24T22:35:21.914812",
     "exception": false,
     "start_time": "2021-05-24T22:35:21.492160",
     "status": "completed"
    },
    "tags": []
   },
   "outputs": [
    {
     "name": "stdout",
     "output_type": "stream",
     "text": [
      "Stored 'read_dc_df' (DataFrame)\n"
     ]
    }
   ],
   "source": [
    "read_dc_df = df\n",
    "\n",
    "%store read_dc_df\n"
   ]
  }
 ],
 "metadata": {
  "celltoolbar": "Tags",
  "kernelspec": {
   "display_name": "Python 3",
   "language": "python",
   "name": "python3"
  },
  "language_info": {
   "codemirror_mode": {
    "name": "ipython",
    "version": 3
   },
   "file_extension": ".py",
   "mimetype": "text/x-python",
   "name": "python",
   "nbconvert_exporter": "python",
   "pygments_lexer": "ipython3",
   "version": "3.7.6"
  },
  "papermill": {
   "default_parameters": {},
   "duration": 59.523783,
   "end_time": "2021-05-24T22:35:22.866187",
   "environment_variables": {},
   "exception": null,
   "input_path": "pipeline/read_dc.ipynb",
   "output_path": "//hecate/Insurance_US/Product Development/Product Management/Global PPM/Reporting/Data Collection/Pipeline Reporting Scripts/GPMpipeline/instances/2021.Q1\\pipeline\\read_dc05242021183245--live run.ipynb",
   "parameters": {
    "commit_message": "Edited data for Austraila, json 2 parquet and add comments from email. Begin general evaluation of data submissions.",
    "inst_datetime": "05242021183245",
    "percode": "2021.Q1",
    "run_control": 1
   },
   "start_time": "2021-05-24T22:34:23.342404",
   "version": "2.3.3"
  }
 },
 "nbformat": 4,
 "nbformat_minor": 5
}