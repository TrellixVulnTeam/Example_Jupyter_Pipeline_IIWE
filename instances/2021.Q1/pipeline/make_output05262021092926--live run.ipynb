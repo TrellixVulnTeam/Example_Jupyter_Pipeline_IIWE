{
 "cells": [
  {
   "cell_type": "markdown",
   "id": "58ecb9cd",
   "metadata": {
    "papermill": {
     "duration": 0.278514,
     "end_time": "2021-05-26T13:35:17.980543",
     "exception": false,
     "start_time": "2021-05-26T13:35:17.702029",
     "status": "completed"
    },
    "pycharm": {
     "name": "#%% md\n"
    },
    "tags": []
   },
   "source": [
    "<img src=\"../images/AzPTravel_PPM.png\">"
   ]
  },
  {
   "cell_type": "markdown",
   "id": "3bfd0972",
   "metadata": {
    "papermill": {
     "duration": 0.263112,
     "end_time": "2021-05-26T13:35:18.641500",
     "exception": false,
     "start_time": "2021-05-26T13:35:18.378388",
     "status": "completed"
    },
    "tags": []
   },
   "source": [
    "## GPM Pipeline Output maker\n",
    "\n",
    "#### This script\n",
    "- loads the transformed parquet file\n",
    "- creates the file {parquet}.localcur.csv\n",
    "- makes the Euro conversions\n",
    "- outputs {parquet}.euroconv.csv\n"
   ]
  },
  {
   "cell_type": "markdown",
   "id": "6a9a8a91",
   "metadata": {
    "papermill": {
     "duration": 0.263987,
     "end_time": "2021-05-26T13:35:19.162076",
     "exception": false,
     "start_time": "2021-05-26T13:35:18.898089",
     "status": "completed"
    },
    "tags": []
   },
   "source": [
    "#### Parameters section"
   ]
  },
  {
   "cell_type": "code",
   "execution_count": 1,
   "id": "64fdee0a",
   "metadata": {
    "execution": {
     "iopub.execute_input": "2021-05-26T13:35:19.713818Z",
     "iopub.status.busy": "2021-05-26T13:35:19.709814Z",
     "iopub.status.idle": "2021-05-26T13:35:19.716813Z",
     "shell.execute_reply": "2021-05-26T13:35:19.730828Z"
    },
    "papermill": {
     "duration": 0.292512,
     "end_time": "2021-05-26T13:35:19.731818",
     "exception": false,
     "start_time": "2021-05-26T13:35:19.439306",
     "status": "completed"
    },
    "pycharm": {
     "name": "#%%\n"
    },
    "tags": [
     "parameters"
    ]
   },
   "outputs": [],
   "source": [
    "commit = \"\"\n",
    "# give a reason for the run\n",
    "\n",
    "percode = \"20XX.QX\"\n",
    "# Data Collection Code, this controls file paths and output names\n",
    "\n",
    "run_type = 1\n",
    "#run_type =  0 - lite run with no reporting, not recommended.\n",
    "#run_type =  1 - lite run with normal reporting, default setting.\n",
    "#run_type =  2 - Heavy run with full reporting, available for audits and troubleshooting.\n",
    "\n",
    "specialchars = \"-GTHtest\"\n",
    "# optional - add up to a 12 character code in order to mark your instance record .ipynb\n",
    "\n",
    "from datetime import datetime\n",
    "inst_datetime = datetime.now().strftime(\"%m%d%Y%H%M%S\")\n",
    "# a single datetime stamp for the full instance run\n"
   ]
  },
  {
   "cell_type": "code",
   "execution_count": 2,
   "id": "42eb6a5e",
   "metadata": {
    "execution": {
     "iopub.execute_input": "2021-05-26T13:35:20.288412Z",
     "iopub.status.busy": "2021-05-26T13:35:20.284418Z",
     "iopub.status.idle": "2021-05-26T13:35:20.295419Z",
     "shell.execute_reply": "2021-05-26T13:35:20.297413Z"
    },
    "papermill": {
     "duration": 0.265279,
     "end_time": "2021-05-26T13:35:20.298409",
     "exception": false,
     "start_time": "2021-05-26T13:35:20.033130",
     "status": "completed"
    },
    "tags": [
     "injected-parameters"
    ]
   },
   "outputs": [],
   "source": [
    "# Parameters\n",
    "run_control = 1\n",
    "percode = \"2021.Q1\"\n",
    "commit_message = \"Strange etnry found in the 'type of account'.\"\n",
    "inst_datetime = \"05262021092926\"\n"
   ]
  },
  {
   "cell_type": "markdown",
   "id": "9df7f0a2",
   "metadata": {
    "papermill": {
     "duration": 0.258111,
     "end_time": "2021-05-26T13:35:20.804028",
     "exception": false,
     "start_time": "2021-05-26T13:35:20.545917",
     "status": "completed"
    },
    "tags": []
   },
   "source": [
    "### Set Run Control\n",
    "\n",
    "##### 0 - lite run with no reporting, not recommended.\n",
    "##### 1 - lite run with normal reporting, default setting.\n",
    "##### 2 - Heavy run with full reporting, available for audits and troubleshooting."
   ]
  },
  {
   "cell_type": "code",
   "execution_count": 3,
   "id": "b9fa027b",
   "metadata": {
    "execution": {
     "iopub.execute_input": "2021-05-26T13:35:21.311543Z",
     "iopub.status.busy": "2021-05-26T13:35:21.308544Z",
     "iopub.status.idle": "2021-05-26T13:35:21.316548Z",
     "shell.execute_reply": "2021-05-26T13:35:21.317545Z"
    },
    "papermill": {
     "duration": 0.274474,
     "end_time": "2021-05-26T13:35:21.318544",
     "exception": false,
     "start_time": "2021-05-26T13:35:21.044070",
     "status": "completed"
    },
    "pycharm": {
     "name": "#%%\n"
    },
    "tags": []
   },
   "outputs": [],
   "source": [
    "run_control = 0 # in development mode"
   ]
  },
  {
   "cell_type": "markdown",
   "id": "ec153aaf",
   "metadata": {
    "papermill": {
     "duration": 0.247043,
     "end_time": "2021-05-26T13:35:21.813580",
     "exception": false,
     "start_time": "2021-05-26T13:35:21.566537",
     "status": "completed"
    },
    "tags": []
   },
   "source": [
    "#### Packages used"
   ]
  },
  {
   "cell_type": "code",
   "execution_count": 4,
   "id": "0efe4c06",
   "metadata": {
    "execution": {
     "iopub.execute_input": "2021-05-26T13:35:22.327576Z",
     "iopub.status.busy": "2021-05-26T13:35:22.325580Z",
     "iopub.status.idle": "2021-05-26T13:35:25.536049Z",
     "shell.execute_reply": "2021-05-26T13:35:25.538052Z"
    },
    "papermill": {
     "duration": 3.483474,
     "end_time": "2021-05-26T13:35:25.539051",
     "exception": false,
     "start_time": "2021-05-26T13:35:22.055577",
     "status": "completed"
    },
    "pycharm": {
     "name": "#%%\n"
    },
    "tags": []
   },
   "outputs": [],
   "source": [
    "import sys\n",
    "import os\n",
    "import pandas as pd"
   ]
  },
  {
   "cell_type": "code",
   "execution_count": 5,
   "id": "7d3fdce8",
   "metadata": {
    "execution": {
     "iopub.execute_input": "2021-05-26T13:35:26.043936Z",
     "iopub.status.busy": "2021-05-26T13:35:26.036937Z",
     "iopub.status.idle": "2021-05-26T13:35:26.049929Z",
     "shell.execute_reply": "2021-05-26T13:35:26.050936Z"
    },
    "papermill": {
     "duration": 0.271512,
     "end_time": "2021-05-26T13:35:26.051931",
     "exception": false,
     "start_time": "2021-05-26T13:35:25.780419",
     "status": "completed"
    },
    "pycharm": {
     "name": "#%%\n"
    },
    "tags": []
   },
   "outputs": [],
   "source": [
    "default_DC = \"2021.Q1\"\n",
    "\n",
    "try:\n",
    "    if sys.argv[1] == \"-f\":\n",
    "        percode = default_DC\n",
    "    else:\n",
    "        percode = sys.argv[1]\n",
    "\n",
    "except IndexError:\n",
    "    percode = default_DC\n",
    "except NameError:\n",
    "    percode = default_DC"
   ]
  },
  {
   "cell_type": "markdown",
   "id": "567aab22",
   "metadata": {
    "papermill": {
     "duration": 0.249738,
     "end_time": "2021-05-26T13:35:26.559184",
     "exception": false,
     "start_time": "2021-05-26T13:35:26.309446",
     "status": "completed"
    },
    "tags": []
   },
   "source": [
    "#### Convert paths and files to variables.\n",
    "#### Read data into pd DataFrames.\n",
    "#### Make paths for the live sources."
   ]
  },
  {
   "cell_type": "code",
   "execution_count": 6,
   "id": "f702e237",
   "metadata": {
    "execution": {
     "iopub.execute_input": "2021-05-26T13:35:27.116812Z",
     "iopub.status.busy": "2021-05-26T13:35:27.109815Z",
     "iopub.status.idle": "2021-05-26T13:35:27.124812Z",
     "shell.execute_reply": "2021-05-26T13:35:27.125821Z"
    },
    "papermill": {
     "duration": 0.289118,
     "end_time": "2021-05-26T13:35:27.126812",
     "exception": false,
     "start_time": "2021-05-26T13:35:26.837694",
     "status": "completed"
    },
    "pycharm": {
     "name": "#%%\n"
    },
    "tags": []
   },
   "outputs": [],
   "source": [
    "rt_path = f'//hecate/Insurance_US/Product Development/Product Manag' \\\n",
    "          f'ement/Global PPM/Reporting/Data Collection/Production/{str(percode)}'\n",
    "tempfile = os.path.join(rt_path, f'{str(percode)}.localcur.parquet')\n",
    "gppm_file = os.path.join(rt_path, f'GPPM_Input_{str(percode)}.xlsx')"
   ]
  },
  {
   "cell_type": "markdown",
   "id": "4abd9bb0",
   "metadata": {
    "papermill": {
     "duration": 0.237997,
     "end_time": "2021-05-26T13:35:27.630932",
     "exception": false,
     "start_time": "2021-05-26T13:35:27.392935",
     "status": "completed"
    },
    "tags": []
   },
   "source": [
    "#### Read source"
   ]
  },
  {
   "cell_type": "code",
   "execution_count": 7,
   "id": "2bed7505",
   "metadata": {
    "execution": {
     "iopub.execute_input": "2021-05-26T13:35:28.215817Z",
     "iopub.status.busy": "2021-05-26T13:35:28.213819Z",
     "iopub.status.idle": "2021-05-26T13:35:30.462553Z",
     "shell.execute_reply": "2021-05-26T13:35:30.464543Z"
    },
    "papermill": {
     "duration": 2.556608,
     "end_time": "2021-05-26T13:35:30.464543",
     "exception": false,
     "start_time": "2021-05-26T13:35:27.907935",
     "status": "completed"
    },
    "pycharm": {
     "name": "#%%\n"
    },
    "tags": []
   },
   "outputs": [
    {
     "name": "stdout",
     "output_type": "stream",
     "text": [
      "     business_unit                   submission_file country currency  \\\n",
      "0               AU  us_dat_au_02172021174434.parquet      AU      AUD   \n",
      "1               AU  us_dat_au_02172021174434.parquet      AU      AUD   \n",
      "2               AU  us_dat_au_02172021174434.parquet      AU      AUD   \n",
      "3               AU  us_dat_au_02172021174434.parquet      AU      AUD   \n",
      "4               AU  us_dat_au_02172021174434.parquet      AU      AUD   \n",
      "...            ...                               ...     ...      ...   \n",
      "1999            PT  us_dat_pt_05202021121056.parquet      PT      EUR   \n",
      "2000            PT  us_dat_pt_05202021121056.parquet      PT      EUR   \n",
      "2001            PT  us_dat_pt_05202021121056.parquet      PT      EUR   \n",
      "2002            PT  us_dat_pt_05202021121056.parquet      PT      EUR   \n",
      "2003            PT  us_dat_pt_05202021121056.parquet      PT      EUR   \n",
      "\n",
      "                           region reporting_date_from reporting_date_to  \\\n",
      "0                            APAC          2020-01-01        2020-12-31   \n",
      "1                            APAC          2020-01-01        2020-12-31   \n",
      "2                            APAC          2020-01-01        2020-12-31   \n",
      "3                            APAC          2020-01-01        2020-12-31   \n",
      "4                            APAC          2020-01-01        2020-12-31   \n",
      "...                           ...                 ...               ...   \n",
      "1999  Western Europe, LATAM & MEA          2021-01-01        2021-03-31   \n",
      "2000  Western Europe, LATAM & MEA          2021-01-01        2021-03-31   \n",
      "2001  Western Europe, LATAM & MEA          2021-01-01        2021-03-31   \n",
      "2002  Western Europe, LATAM & MEA          2021-01-01        2021-03-31   \n",
      "2003  Western Europe, LATAM & MEA          2021-01-01        2021-03-31   \n",
      "\n",
      "     date_of_analysis         type_of_analysis  analysed_months  ...  \\\n",
      "0          2021-02-08  Most Recently 12 Months             12.0  ...   \n",
      "1          2021-02-08  Most Recently 12 Months             12.0  ...   \n",
      "2          2021-02-08  Most Recently 12 Months             12.0  ...   \n",
      "3          2021-02-08  Most Recently 12 Months             12.0  ...   \n",
      "4          2021-02-08  Most Recently 12 Months             12.0  ...   \n",
      "...               ...                      ...              ...  ...   \n",
      "1999       2021-03-31             Year To Date              3.0  ...   \n",
      "2000       2021-03-31             Year To Date              3.0  ...   \n",
      "2001       2021-03-31             Year To Date              3.0  ...   \n",
      "2002       2021-03-31             Year To Date              3.0  ...   \n",
      "2003       2021-03-31             Year To Date              3.0  ...   \n",
      "\n",
      "      date_of_analysis_int                     selected_fields_for_duplicates  \\\n",
      "0                 20210208  AUInsuranceLocalB2B2CTravelAllianz Affiliation...   \n",
      "1                 20210208  AUInsuranceLocalB2B2CTravelOffline Travel Agen...   \n",
      "2                 20210208  AUInsuranceLocalB2B2CTravelOffline Travel Agen...   \n",
      "3                 20210208  AUInsuranceLocalB2B2CTravelAllianz Affiliation...   \n",
      "4                 20210208  AUInsuranceLocalB2B2CTravelCarriers - Airlines...   \n",
      "...                    ...                                                ...   \n",
      "1999              20210331  PTReinsuranceLocalB2B2CTravelDirect (Allianz P...   \n",
      "2000              20210331  PTReinsuranceLocalB2B2CTravelDirect (Allianz P...   \n",
      "2001              20210331  PTReinsuranceLocalB2B2CTravelDirect (Allianz P...   \n",
      "2002              20210331  PTReinsuranceLocalB2B2CTravelDirect (Allianz P...   \n",
      "2003              20210331  PTReinsuranceLocalB2BTravelDirect (Allianz Par...   \n",
      "\n",
      "      pct_of_ibnr_on_ocr__ibnr unnamed:_66 ibnrsub   rep_date  \\\n",
      "0                          0.0         0.0     0.0 2020-12-31   \n",
      "1                          0.0         0.0     0.0 2020-12-31   \n",
      "2                          0.0         0.0     0.0 2020-12-31   \n",
      "3                          0.0         0.0     0.0 2020-12-31   \n",
      "4                          0.0         0.0     0.0 2020-12-31   \n",
      "...                        ...         ...     ...        ...   \n",
      "1999                       0.0         0.0     0.0 2021-03-31   \n",
      "2000                       0.0         0.0     0.0 2021-03-31   \n",
      "2001                       0.0         0.0     0.0 2021-03-31   \n",
      "2002                       0.0         0.0     0.0 2021-03-31   \n",
      "2003                       0.0         0.0     0.0 2021-03-31   \n",
      "\n",
      "     __index_level_0__   bu_descr month_of_analysis_max      reporting_period  \n",
      "0                    0  Australia              2021 Feb  2020 Jan to 2020 Dec  \n",
      "1                    1  Australia              2021 Feb  2020 Jan to 2020 Dec  \n",
      "2                    2  Australia              2021 Feb  2020 Jan to 2020 Dec  \n",
      "3                    3  Australia              2021 Feb  2020 Jan to 2020 Dec  \n",
      "4                    4  Australia              2021 Feb  2020 Jan to 2020 Dec  \n",
      "...                ...        ...                   ...                   ...  \n",
      "1999              3500   Portugal              2021 Mar  2021 Jan to 2021 Mar  \n",
      "2000              3501   Portugal              2021 Mar  2021 Jan to 2021 Mar  \n",
      "2001              3502   Portugal              2021 Mar  2021 Jan to 2021 Mar  \n",
      "2002              3503   Portugal              2021 Mar  2021 Jan to 2021 Mar  \n",
      "2003              3504   Portugal              2021 Mar  2021 Jan to 2021 Mar  \n",
      "\n",
      "[2004 rows x 82 columns]\n"
     ]
    }
   ],
   "source": [
    "mo_input = pd.read_parquet(tempfile, engine='pyarrow')\n",
    "\n",
    "print(mo_input)"
   ]
  },
  {
   "cell_type": "markdown",
   "id": "65e5f9c5",
   "metadata": {
    "papermill": {
     "duration": 0.271,
     "end_time": "2021-05-26T13:35:30.995237",
     "exception": false,
     "start_time": "2021-05-26T13:35:30.724237",
     "status": "completed"
    },
    "tags": []
   },
   "source": [
    "#### Output local currency csv"
   ]
  },
  {
   "cell_type": "code",
   "execution_count": 8,
   "id": "8b6c7407",
   "metadata": {
    "execution": {
     "iopub.execute_input": "2021-05-26T13:35:31.512701Z",
     "iopub.status.busy": "2021-05-26T13:35:31.510702Z",
     "iopub.status.idle": "2021-05-26T13:35:41.421451Z",
     "shell.execute_reply": "2021-05-26T13:35:41.423453Z"
    },
    "papermill": {
     "duration": 10.177918,
     "end_time": "2021-05-26T13:35:41.423453",
     "exception": false,
     "start_time": "2021-05-26T13:35:31.245535",
     "status": "completed"
    },
    "pycharm": {
     "is_executing": true,
     "name": "#%%\n"
    },
    "tags": []
   },
   "outputs": [],
   "source": [
    "mo_input.to_csv(f'//hecate/Insurance_US/Product Development/Product Management/Global PPM/Reporting/Data Collection/Production/{str(percode)}\\\\{str(percode)}.localcur.csv', ',', index=False, encoding='utf-8-sig')"
   ]
  },
  {
   "cell_type": "markdown",
   "id": "4abcd2e6",
   "metadata": {
    "papermill": {
     "duration": 0.259998,
     "end_time": "2021-05-26T13:35:42.010779",
     "exception": false,
     "start_time": "2021-05-26T13:35:41.750781",
     "status": "completed"
    },
    "tags": []
   },
   "source": [
    "#### Convert all currency to Euro\n"
   ]
  },
  {
   "cell_type": "code",
   "execution_count": 9,
   "id": "384ec9be",
   "metadata": {
    "execution": {
     "iopub.execute_input": "2021-05-26T13:35:42.531586Z",
     "iopub.status.busy": "2021-05-26T13:35:42.524588Z",
     "iopub.status.idle": "2021-05-26T13:35:43.886106Z",
     "shell.execute_reply": "2021-05-26T13:35:43.887113Z"
    },
    "papermill": {
     "duration": 1.598887,
     "end_time": "2021-05-26T13:35:43.887113",
     "exception": false,
     "start_time": "2021-05-26T13:35:42.288226",
     "status": "completed"
    },
    "pycharm": {
     "is_executing": true,
     "name": "#%%\n"
    },
    "tags": []
   },
   "outputs": [],
   "source": [
    "\n",
    "cflds = ['written_revenues_net_of_taxes', 'written_revenues', 'earned_revenues_net_of_taxes',\n",
    "         'earned_revenues', 'earned_base_commissions', 'earned_over_commissions', 'upfront_cash_payments',\n",
    "         'total_compensation', 'paid_claims', 'ocr__ibnr', 'actual_incurred_losses',\n",
    "         'internal_variable_costs', 'az_tech_fee', 'internal_fixed_costs',\n",
    "         'hq_fees', 'total_expenses', 'risk_premium', 'profit_or_loss', 'cm_hq_view', 'cm_bu_view', ]\n",
    "\n",
    "\n",
    "\"\"\"reads in the input for the Euro conversion\"\"\"\n",
    "euro = pd.read_excel(gppm_file, sheet_name=\"Euro_Rates\")\n"
   ]
  },
  {
   "cell_type": "markdown",
   "id": "d84527cd",
   "metadata": {
    "papermill": {
     "duration": 0.268854,
     "end_time": "2021-05-26T13:35:44.408992",
     "exception": false,
     "start_time": "2021-05-26T13:35:44.140138",
     "status": "completed"
    },
    "tags": []
   },
   "source": [
    "#### Make a copy for debug purposes"
   ]
  },
  {
   "cell_type": "code",
   "execution_count": 10,
   "id": "e047bde2",
   "metadata": {
    "execution": {
     "iopub.execute_input": "2021-05-26T13:35:45.185114Z",
     "iopub.status.busy": "2021-05-26T13:35:45.183115Z",
     "iopub.status.idle": "2021-05-26T13:35:45.189116Z",
     "shell.execute_reply": "2021-05-26T13:35:45.190117Z"
    },
    "papermill": {
     "duration": 0.347916,
     "end_time": "2021-05-26T13:35:45.191117",
     "exception": false,
     "start_time": "2021-05-26T13:35:44.843201",
     "status": "completed"
    },
    "pycharm": {
     "is_executing": true,
     "name": "#%%\n"
    },
    "tags": []
   },
   "outputs": [],
   "source": [
    "trandata = mo_input.copy()"
   ]
  },
  {
   "cell_type": "markdown",
   "id": "716ac4e6",
   "metadata": {
    "papermill": {
     "duration": 0.268074,
     "end_time": "2021-05-26T13:35:45.724181",
     "exception": false,
     "start_time": "2021-05-26T13:35:45.456107",
     "status": "completed"
    },
    "tags": []
   },
   "source": [
    "#### Convert Currency Below"
   ]
  },
  {
   "cell_type": "code",
   "execution_count": 11,
   "id": "50a65f49",
   "metadata": {
    "execution": {
     "iopub.execute_input": "2021-05-26T13:35:46.359680Z",
     "iopub.status.busy": "2021-05-26T13:35:46.357684Z",
     "iopub.status.idle": "2021-05-26T13:35:46.364681Z",
     "shell.execute_reply": "2021-05-26T13:35:46.366683Z"
    },
    "papermill": {
     "duration": 0.351903,
     "end_time": "2021-05-26T13:35:46.366683",
     "exception": false,
     "start_time": "2021-05-26T13:35:46.014780",
     "status": "completed"
    },
    "pycharm": {
     "is_executing": true,
     "name": "#%%\n"
    },
    "tags": []
   },
   "outputs": [],
   "source": [
    "# create DataFrame of unique currencies with rates\n",
    "\n",
    "fx_uni = euro[['CURR_CODE','RATE']]\n",
    "fx_uni = fx_uni.drop_duplicates()"
   ]
  },
  {
   "cell_type": "code",
   "execution_count": 12,
   "id": "5531b32f",
   "metadata": {
    "execution": {
     "iopub.execute_input": "2021-05-26T13:35:46.904075Z",
     "iopub.status.busy": "2021-05-26T13:35:46.898081Z",
     "iopub.status.idle": "2021-05-26T13:35:46.911077Z",
     "shell.execute_reply": "2021-05-26T13:35:46.912075Z"
    },
    "papermill": {
     "duration": 0.283602,
     "end_time": "2021-05-26T13:35:46.913080",
     "exception": false,
     "start_time": "2021-05-26T13:35:46.629478",
     "status": "completed"
    },
    "pycharm": {
     "is_executing": true,
     "name": "#%%\n"
    },
    "tags": []
   },
   "outputs": [],
   "source": [
    "# add euro conversion rates to trandata DataFrame as column 'eur_rate'\n",
    "\n",
    "eurdata = pd.merge(trandata['currency'], fx_uni, left_on='currency', right_on='CURR_CODE', how='left')\n",
    "\n",
    "trandata['eur_rate'] = eurdata['RATE']"
   ]
  },
  {
   "cell_type": "markdown",
   "id": "b2915e5b",
   "metadata": {
    "papermill": {
     "duration": 0.249501,
     "end_time": "2021-05-26T13:35:47.409910",
     "exception": false,
     "start_time": "2021-05-26T13:35:47.160409",
     "status": "completed"
    },
    "tags": []
   },
   "source": [
    "#### Convert currency fields"
   ]
  },
  {
   "cell_type": "code",
   "execution_count": 13,
   "id": "d750ffe5",
   "metadata": {
    "execution": {
     "iopub.execute_input": "2021-05-26T13:35:47.980364Z",
     "iopub.status.busy": "2021-05-26T13:35:47.979362Z",
     "iopub.status.idle": "2021-05-26T13:35:48.411678Z",
     "shell.execute_reply": "2021-05-26T13:35:48.411678Z"
    },
    "papermill": {
     "duration": 0.72808,
     "end_time": "2021-05-26T13:35:48.412678",
     "exception": false,
     "start_time": "2021-05-26T13:35:47.684598",
     "status": "completed"
    },
    "pycharm": {
     "is_executing": true,
     "name": "#%%\n"
    },
    "tags": []
   },
   "outputs": [],
   "source": [
    "trandata[cflds] = trandata[cflds].divide(trandata['eur_rate'], axis=\"index\").fillna(0)\n"
   ]
  },
  {
   "cell_type": "markdown",
   "id": "66a2c444",
   "metadata": {
    "papermill": {
     "duration": 0.290573,
     "end_time": "2021-05-26T13:35:48.950857",
     "exception": false,
     "start_time": "2021-05-26T13:35:48.660284",
     "status": "completed"
    },
    "tags": []
   },
   "source": [
    "#### Output to {percode}.euroconv.csv"
   ]
  },
  {
   "cell_type": "code",
   "execution_count": 14,
   "id": "f7bd44f3",
   "metadata": {
    "execution": {
     "iopub.execute_input": "2021-05-26T13:35:49.540742Z",
     "iopub.status.busy": "2021-05-26T13:35:49.535792Z",
     "iopub.status.idle": "2021-05-26T13:35:59.439001Z",
     "shell.execute_reply": "2021-05-26T13:35:59.440003Z"
    },
    "papermill": {
     "duration": 10.214523,
     "end_time": "2021-05-26T13:35:59.440003",
     "exception": false,
     "start_time": "2021-05-26T13:35:49.225480",
     "status": "completed"
    },
    "pycharm": {
     "is_executing": true,
     "name": "#%%\n"
    },
    "tags": []
   },
   "outputs": [],
   "source": [
    "trandata.to_csv(f'//hecate/Insurance_US/Product Development/Product Management/Global PPM/Reporting/Data Collection/Production/{str(percode)}\\\\{str(percode)}.euroconv.csv', ',', index=False, encoding='utf-8-sig')\n",
    "\n",
    "\n"
   ]
  },
  {
   "cell_type": "markdown",
   "id": "841176e4",
   "metadata": {
    "papermill": {
     "duration": 0.283523,
     "end_time": "2021-05-26T13:36:00.088124",
     "exception": false,
     "start_time": "2021-05-26T13:35:59.804601",
     "status": "completed"
    },
    "tags": []
   },
   "source": [
    "#### Store the DataFrame for other notebooks to use"
   ]
  },
  {
   "cell_type": "code",
   "execution_count": 15,
   "id": "41f6343f",
   "metadata": {
    "execution": {
     "iopub.execute_input": "2021-05-26T13:36:00.715572Z",
     "iopub.status.busy": "2021-05-26T13:36:00.711510Z",
     "iopub.status.idle": "2021-05-26T13:36:00.739295Z",
     "shell.execute_reply": "2021-05-26T13:36:00.741288Z"
    },
    "papermill": {
     "duration": 0.334593,
     "end_time": "2021-05-26T13:36:00.741288",
     "exception": false,
     "start_time": "2021-05-26T13:36:00.406695",
     "status": "completed"
    },
    "tags": []
   },
   "outputs": [
    {
     "name": "stdout",
     "output_type": "stream",
     "text": [
      "Stored 'mo_df' (DataFrame)\n"
     ]
    }
   ],
   "source": [
    "mo_df = trandata\n",
    "\n",
    "%store mo_df\n"
   ]
  }
 ],
 "metadata": {
  "celltoolbar": "Tags",
  "kernelspec": {
   "display_name": "Python 3",
   "language": "python",
   "name": "python3"
  },
  "language_info": {
   "codemirror_mode": {
    "name": "ipython",
    "version": 3
   },
   "file_extension": ".py",
   "mimetype": "text/x-python",
   "name": "python",
   "nbconvert_exporter": "python",
   "pygments_lexer": "ipython3",
   "version": "3.7.6"
  },
  "papermill": {
   "default_parameters": {},
   "duration": 59.847495,
   "end_time": "2021-05-26T13:36:01.445209",
   "environment_variables": {},
   "exception": null,
   "input_path": "pipeline/make_output.ipynb",
   "output_path": "//hecate/Insurance_US/Product Development/Product Management/Global PPM/Reporting/Data Collection/Pipeline Reporting Scripts/GPMpipeline/instances/2021.Q1\\pipeline\\make_output05262021092926--live run.ipynb",
   "parameters": {
    "commit_message": "Strange etnry found in the 'type of account'.",
    "inst_datetime": "05262021092926",
    "percode": "2021.Q1",
    "run_control": 1
   },
   "start_time": "2021-05-26T13:35:01.597714",
   "version": "2.3.3"
  }
 },
 "nbformat": 4,
 "nbformat_minor": 5
}