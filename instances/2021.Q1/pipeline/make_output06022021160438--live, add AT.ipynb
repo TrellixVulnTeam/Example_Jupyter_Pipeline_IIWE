{
 "cells": [
  {
   "cell_type": "markdown",
   "id": "2cb27160",
   "metadata": {
    "papermill": {
     "duration": 0.38496,
     "end_time": "2021-06-02T20:11:43.533458",
     "exception": false,
     "start_time": "2021-06-02T20:11:43.148498",
     "status": "completed"
    },
    "pycharm": {
     "name": "#%% md\n"
    },
    "tags": []
   },
   "source": [
    "<img src=\"../images/AzPTravel_PPM.png\">"
   ]
  },
  {
   "cell_type": "markdown",
   "id": "8e63c66a",
   "metadata": {
    "papermill": {
     "duration": 0.364235,
     "end_time": "2021-06-02T20:11:44.218729",
     "exception": false,
     "start_time": "2021-06-02T20:11:43.854494",
     "status": "completed"
    },
    "tags": []
   },
   "source": [
    "## GPM Pipeline Output maker\n",
    "\n",
    "#### This script\n",
    "- loads the transformed parquet file\n",
    "- creates the file {parquet}.localcur.csv\n",
    "- makes the Euro conversions\n",
    "- outputs {parquet}.euroconv.csv\n"
   ]
  },
  {
   "cell_type": "markdown",
   "id": "751a4442",
   "metadata": {
    "papermill": {
     "duration": 0.265167,
     "end_time": "2021-06-02T20:11:44.817876",
     "exception": false,
     "start_time": "2021-06-02T20:11:44.552709",
     "status": "completed"
    },
    "tags": []
   },
   "source": [
    "#### Parameters section"
   ]
  },
  {
   "cell_type": "code",
   "execution_count": 1,
   "id": "c7cb93e4",
   "metadata": {
    "execution": {
     "iopub.execute_input": "2021-06-02T20:11:45.529920Z",
     "iopub.status.busy": "2021-06-02T20:11:45.512919Z",
     "iopub.status.idle": "2021-06-02T20:11:45.533920Z",
     "shell.execute_reply": "2021-06-02T20:11:45.614924Z"
    },
    "papermill": {
     "duration": 0.490033,
     "end_time": "2021-06-02T20:11:45.615919",
     "exception": false,
     "start_time": "2021-06-02T20:11:45.125886",
     "status": "completed"
    },
    "pycharm": {
     "name": "#%%\n"
    },
    "tags": [
     "parameters"
    ]
   },
   "outputs": [],
   "source": [
    "commit = \"\"\n",
    "# give a reason for the run\n",
    "\n",
    "percode = \"20XX.QX\"\n",
    "# Data Collection Code, this controls file paths and output names\n",
    "\n",
    "run_type = 1\n",
    "#run_type =  0 - lite run with no reporting, not recommended.\n",
    "#run_type =  1 - lite run with normal reporting, default setting.\n",
    "#run_type =  2 - Heavy run with full reporting, available for audits and troubleshooting.\n",
    "\n",
    "specialchars = \"-GTHtest\"\n",
    "# optional - add up to a 12 character code in order to mark your instance record .ipynb\n",
    "\n",
    "from datetime import datetime\n",
    "inst_datetime = datetime.now().strftime(\"%m%d%Y%H%M%S\")\n",
    "# a single datetime stamp for the full instance run\n"
   ]
  },
  {
   "cell_type": "code",
   "execution_count": 2,
   "id": "2d5e0635",
   "metadata": {
    "execution": {
     "iopub.execute_input": "2021-06-02T20:11:46.254513Z",
     "iopub.status.busy": "2021-06-02T20:11:46.252515Z",
     "iopub.status.idle": "2021-06-02T20:11:46.257514Z",
     "shell.execute_reply": "2021-06-02T20:11:46.259521Z"
    },
    "papermill": {
     "duration": 0.341218,
     "end_time": "2021-06-02T20:11:46.259521",
     "exception": false,
     "start_time": "2021-06-02T20:11:45.918303",
     "status": "completed"
    },
    "tags": [
     "injected-parameters"
    ]
   },
   "outputs": [],
   "source": [
    "# Parameters\n",
    "run_control = 1\n",
    "percode = \"2021.Q1\"\n",
    "commit_message = \"Live run, added AT, bad file name, rerun.\"\n",
    "inst_datetime = \"06022021160438\"\n"
   ]
  },
  {
   "cell_type": "markdown",
   "id": "fdd39809",
   "metadata": {
    "papermill": {
     "duration": 0.275838,
     "end_time": "2021-06-02T20:11:46.813737",
     "exception": false,
     "start_time": "2021-06-02T20:11:46.537899",
     "status": "completed"
    },
    "tags": []
   },
   "source": [
    "### Set Run Control\n",
    "\n",
    "##### 0 - lite run with no reporting, not recommended.\n",
    "##### 1 - lite run with normal reporting, default setting.\n",
    "##### 2 - Heavy run with full reporting, available for audits and troubleshooting."
   ]
  },
  {
   "cell_type": "code",
   "execution_count": 3,
   "id": "23324e90",
   "metadata": {
    "execution": {
     "iopub.execute_input": "2021-06-02T20:11:47.411724Z",
     "iopub.status.busy": "2021-06-02T20:11:47.410724Z",
     "iopub.status.idle": "2021-06-02T20:11:47.415722Z",
     "shell.execute_reply": "2021-06-02T20:11:47.416724Z"
    },
    "papermill": {
     "duration": 0.29302,
     "end_time": "2021-06-02T20:11:47.416724",
     "exception": false,
     "start_time": "2021-06-02T20:11:47.123704",
     "status": "completed"
    },
    "pycharm": {
     "name": "#%%\n"
    },
    "tags": []
   },
   "outputs": [],
   "source": [
    "run_control = 0 # in development mode"
   ]
  },
  {
   "cell_type": "markdown",
   "id": "428e3337",
   "metadata": {
    "papermill": {
     "duration": 0.255845,
     "end_time": "2021-06-02T20:11:47.923581",
     "exception": false,
     "start_time": "2021-06-02T20:11:47.667736",
     "status": "completed"
    },
    "tags": []
   },
   "source": [
    "#### Packages used"
   ]
  },
  {
   "cell_type": "code",
   "execution_count": 4,
   "id": "7264d05a",
   "metadata": {
    "execution": {
     "iopub.execute_input": "2021-06-02T20:11:48.594006Z",
     "iopub.status.busy": "2021-06-02T20:11:48.592002Z",
     "iopub.status.idle": "2021-06-02T20:11:51.677416Z",
     "shell.execute_reply": "2021-06-02T20:11:51.679426Z"
    },
    "papermill": {
     "duration": 3.399811,
     "end_time": "2021-06-02T20:11:51.679426",
     "exception": false,
     "start_time": "2021-06-02T20:11:48.279615",
     "status": "completed"
    },
    "pycharm": {
     "name": "#%%\n"
    },
    "tags": []
   },
   "outputs": [],
   "source": [
    "import sys\n",
    "import os\n",
    "import pandas as pd"
   ]
  },
  {
   "cell_type": "code",
   "execution_count": 5,
   "id": "d3a799ee",
   "metadata": {
    "execution": {
     "iopub.execute_input": "2021-06-02T20:11:52.302302Z",
     "iopub.status.busy": "2021-06-02T20:11:52.295297Z",
     "iopub.status.idle": "2021-06-02T20:11:52.307299Z",
     "shell.execute_reply": "2021-06-02T20:11:52.308295Z"
    },
    "papermill": {
     "duration": 0.363876,
     "end_time": "2021-06-02T20:11:52.308295",
     "exception": false,
     "start_time": "2021-06-02T20:11:51.944419",
     "status": "completed"
    },
    "pycharm": {
     "name": "#%%\n"
    },
    "tags": []
   },
   "outputs": [],
   "source": [
    "default_DC = \"2021.Q1\"\n",
    "\n",
    "try:\n",
    "    if sys.argv[1] == \"-f\":\n",
    "        percode = default_DC\n",
    "    else:\n",
    "        percode = sys.argv[1]\n",
    "\n",
    "except IndexError:\n",
    "    percode = default_DC\n",
    "except NameError:\n",
    "    percode = default_DC"
   ]
  },
  {
   "cell_type": "markdown",
   "id": "b34f4062",
   "metadata": {
    "papermill": {
     "duration": 0.284043,
     "end_time": "2021-06-02T20:11:52.857001",
     "exception": false,
     "start_time": "2021-06-02T20:11:52.572958",
     "status": "completed"
    },
    "tags": []
   },
   "source": [
    "#### Convert paths and files to variables.\n",
    "#### Read data into pd DataFrames.\n",
    "#### Make paths for the live sources."
   ]
  },
  {
   "cell_type": "code",
   "execution_count": 6,
   "id": "0277f7c1",
   "metadata": {
    "execution": {
     "iopub.execute_input": "2021-06-02T20:11:53.432666Z",
     "iopub.status.busy": "2021-06-02T20:11:53.428648Z",
     "iopub.status.idle": "2021-06-02T20:11:53.437648Z",
     "shell.execute_reply": "2021-06-02T20:11:53.439647Z"
    },
    "papermill": {
     "duration": 0.325534,
     "end_time": "2021-06-02T20:11:53.439647",
     "exception": false,
     "start_time": "2021-06-02T20:11:53.114113",
     "status": "completed"
    },
    "pycharm": {
     "name": "#%%\n"
    },
    "tags": []
   },
   "outputs": [],
   "source": [
    "rt_path = os.path.join('\\\\\\\\hecate\\\\Insurance_US\\\\Product Development\\\\Product Management\\\\Global PPM\\\\Reporting\\\\Data Collection\\\\Production',percode)\n",
    "\n",
    "tempfile = os.path.join(rt_path, f'{percode}.localcur.csv')\n",
    "\n",
    "gppm_file = os.path.join(rt_path, f'GPPM_Input_{str(percode)}.xlsx')\n",
    "\n"
   ]
  },
  {
   "cell_type": "markdown",
   "id": "2fe18504",
   "metadata": {
    "papermill": {
     "duration": 0.283923,
     "end_time": "2021-06-02T20:11:54.013632",
     "exception": false,
     "start_time": "2021-06-02T20:11:53.729709",
     "status": "completed"
    },
    "tags": []
   },
   "source": [
    "### Make Files"
   ]
  },
  {
   "cell_type": "code",
   "execution_count": 7,
   "id": "e9a402f1",
   "metadata": {
    "execution": {
     "iopub.execute_input": "2021-06-02T20:11:54.586208Z",
     "iopub.status.busy": "2021-06-02T20:11:54.584191Z",
     "iopub.status.idle": "2021-06-02T20:11:54.590188Z",
     "shell.execute_reply": "2021-06-02T20:11:54.591190Z"
    },
    "papermill": {
     "duration": 0.303034,
     "end_time": "2021-06-02T20:11:54.592192",
     "exception": false,
     "start_time": "2021-06-02T20:11:54.289158",
     "status": "completed"
    },
    "tags": []
   },
   "outputs": [],
   "source": [
    "local_file = f'{percode}.localcur.csv'\n",
    "euro_file = f'{percode}.euroconv.csv'\n",
    "\n"
   ]
  },
  {
   "cell_type": "markdown",
   "id": "6f808c2f",
   "metadata": {
    "papermill": {
     "duration": 0.268044,
     "end_time": "2021-06-02T20:11:55.115460",
     "exception": false,
     "start_time": "2021-06-02T20:11:54.847416",
     "status": "completed"
    },
    "tags": []
   },
   "source": [
    "#### Read source"
   ]
  },
  {
   "cell_type": "code",
   "execution_count": 8,
   "id": "3ba3cc73",
   "metadata": {
    "execution": {
     "iopub.execute_input": "2021-06-02T20:11:55.688095Z",
     "iopub.status.busy": "2021-06-02T20:11:55.687095Z",
     "iopub.status.idle": "2021-06-02T20:12:04.356219Z",
     "shell.execute_reply": "2021-06-02T20:12:04.358212Z"
    },
    "papermill": {
     "duration": 8.94766,
     "end_time": "2021-06-02T20:12:04.359220",
     "exception": false,
     "start_time": "2021-06-02T20:11:55.411560",
     "status": "completed"
    },
    "pycharm": {
     "name": "#%%\n"
    },
    "tags": []
   },
   "outputs": [],
   "source": [
    "\n",
    "mo_input = pd.read_csv(tempfile, engine='python')\n",
    "\n",
    "\n",
    "\"\"\"reads in the input for the Euro conversion\"\"\"\n",
    "euro = pd.read_excel(gppm_file, sheet_name=\"Euro_Rates\")\n"
   ]
  },
  {
   "cell_type": "markdown",
   "id": "49d6f979",
   "metadata": {
    "papermill": {
     "duration": 0.253131,
     "end_time": "2021-06-02T20:12:04.908297",
     "exception": false,
     "start_time": "2021-06-02T20:12:04.655166",
     "status": "completed"
    },
    "tags": []
   },
   "source": [
    "#### Output local currency csv"
   ]
  },
  {
   "cell_type": "code",
   "execution_count": 9,
   "id": "5ab013b3",
   "metadata": {
    "execution": {
     "iopub.execute_input": "2021-06-02T20:12:05.461672Z",
     "iopub.status.busy": "2021-06-02T20:12:05.459680Z",
     "iopub.status.idle": "2021-06-02T20:12:53.284126Z",
     "shell.execute_reply": "2021-06-02T20:12:53.285142Z"
    },
    "papermill": {
     "duration": 48.127683,
     "end_time": "2021-06-02T20:12:53.286134",
     "exception": false,
     "start_time": "2021-06-02T20:12:05.158451",
     "status": "completed"
    },
    "pycharm": {
     "is_executing": true,
     "name": "#%%\n"
    },
    "tags": []
   },
   "outputs": [],
   "source": [
    "mo_input.to_csv(os.path.join(rt_path,local_file), ',', index=False, encoding='utf-8-sig')"
   ]
  },
  {
   "cell_type": "markdown",
   "id": "9a8f958f",
   "metadata": {
    "papermill": {
     "duration": 0.285794,
     "end_time": "2021-06-02T20:12:53.904478",
     "exception": false,
     "start_time": "2021-06-02T20:12:53.618684",
     "status": "completed"
    },
    "tags": []
   },
   "source": [
    "#### Convert all currency to Euro\n"
   ]
  },
  {
   "cell_type": "code",
   "execution_count": 10,
   "id": "1a3f538f",
   "metadata": {
    "execution": {
     "iopub.execute_input": "2021-06-02T20:12:54.521038Z",
     "iopub.status.busy": "2021-06-02T20:12:54.517043Z",
     "iopub.status.idle": "2021-06-02T20:12:54.533047Z",
     "shell.execute_reply": "2021-06-02T20:12:54.531292Z"
    },
    "papermill": {
     "duration": 0.325646,
     "end_time": "2021-06-02T20:12:54.534037",
     "exception": false,
     "start_time": "2021-06-02T20:12:54.208391",
     "status": "completed"
    },
    "pycharm": {
     "is_executing": true,
     "name": "#%%\n"
    },
    "tags": []
   },
   "outputs": [],
   "source": [
    "\n",
    "\n",
    "cflds = ['written_revenues_net_of_taxes', 'written_revenues', 'earned_revenues_net_of_taxes',\n",
    "         'earned_revenues', 'earned_base_commissions', 'earned_over_commissions', 'upfront_cash_payments',\n",
    "         'total_compensation', 'paid_claims', 'ocr__ibnr', 'actual_incurred_losses',\n",
    "         'internal_variable_costs', 'az_tech_fee', 'internal_fixed_costs',\n",
    "         'hq_fees', 'total_expenses', 'risk_premium', 'profit_or_loss', 'cm_hq_view', 'cm_bu_view', ]\n",
    "\n",
    "alt_cflds = ['written_revenues_net_of_taxes', 'written_revenues', 'earned_revenues_net_of_taxes',\n",
    "         'earned_revenues', 'earned_base_commissions', 'earned_over-commissions', 'upfront_cash_payments',\n",
    "         'total_compensation', 'paid_claims', 'ocr_+_ibnr','actual_incurred_losses_(paid_+_ocr_+_ibnr)',\n",
    "         'internal_variable_costs_(excl._az_tech_fee)', 'az_tech_fee', 'internal_fixed_costs_(excl._hq_fees)',\n",
    "         'hq_fees', 'total_expenses', 'risk_premium', 'profit_or_loss', 'contribution_margin_-_hq_view', 'contribution_margin_-_bu_view', ]\n",
    "\n",
    "\n",
    "\n"
   ]
  },
  {
   "cell_type": "markdown",
   "id": "2023c70b",
   "metadata": {
    "papermill": {
     "duration": 0.28364,
     "end_time": "2021-06-02T20:12:55.084133",
     "exception": false,
     "start_time": "2021-06-02T20:12:54.800493",
     "status": "completed"
    },
    "tags": []
   },
   "source": [
    "#### Make a copy for debug purposes"
   ]
  },
  {
   "cell_type": "code",
   "execution_count": 11,
   "id": "2fe2947e",
   "metadata": {
    "execution": {
     "iopub.execute_input": "2021-06-02T20:12:55.671841Z",
     "iopub.status.busy": "2021-06-02T20:12:55.669843Z",
     "iopub.status.idle": "2021-06-02T20:12:55.686845Z",
     "shell.execute_reply": "2021-06-02T20:12:55.687847Z"
    },
    "papermill": {
     "duration": 0.308669,
     "end_time": "2021-06-02T20:12:55.687847",
     "exception": false,
     "start_time": "2021-06-02T20:12:55.379178",
     "status": "completed"
    },
    "pycharm": {
     "is_executing": true,
     "name": "#%%\n"
    },
    "tags": []
   },
   "outputs": [],
   "source": [
    "trandata = mo_input.copy()"
   ]
  },
  {
   "cell_type": "markdown",
   "id": "2d5ea5ea",
   "metadata": {
    "papermill": {
     "duration": 0.273721,
     "end_time": "2021-06-02T20:12:56.213317",
     "exception": false,
     "start_time": "2021-06-02T20:12:55.939596",
     "status": "completed"
    },
    "tags": []
   },
   "source": [
    "#### Convert Currency Below"
   ]
  },
  {
   "cell_type": "code",
   "execution_count": 12,
   "id": "8287b59b",
   "metadata": {
    "execution": {
     "iopub.execute_input": "2021-06-02T20:12:56.849383Z",
     "iopub.status.busy": "2021-06-02T20:12:56.843374Z",
     "iopub.status.idle": "2021-06-02T20:12:56.853375Z",
     "shell.execute_reply": "2021-06-02T20:12:56.854371Z"
    },
    "papermill": {
     "duration": 0.303014,
     "end_time": "2021-06-02T20:12:56.854371",
     "exception": false,
     "start_time": "2021-06-02T20:12:56.551357",
     "status": "completed"
    },
    "pycharm": {
     "is_executing": true,
     "name": "#%%\n"
    },
    "tags": []
   },
   "outputs": [],
   "source": [
    "# create DataFrame of unique currencies with rates\n",
    "\n",
    "fx_uni = euro[['CURR_CODE','RATE']]\n",
    "fx_uni = fx_uni.drop_duplicates()"
   ]
  },
  {
   "cell_type": "code",
   "execution_count": 13,
   "id": "db401c3e",
   "metadata": {
    "execution": {
     "iopub.execute_input": "2021-06-02T20:12:57.445687Z",
     "iopub.status.busy": "2021-06-02T20:12:57.436690Z",
     "iopub.status.idle": "2021-06-02T20:12:57.685345Z",
     "shell.execute_reply": "2021-06-02T20:12:57.687350Z"
    },
    "papermill": {
     "duration": 0.556089,
     "end_time": "2021-06-02T20:12:57.688359",
     "exception": false,
     "start_time": "2021-06-02T20:12:57.132270",
     "status": "completed"
    },
    "pycharm": {
     "is_executing": true,
     "name": "#%%\n"
    },
    "tags": []
   },
   "outputs": [],
   "source": [
    "# add euro conversion rates to trandata DataFrame as column 'eur_rate'\n",
    "\n",
    "fx_uni = fx_uni.rename(columns = {\"CURR_CODE\":\"currency\"})\n",
    "\n",
    "eurdata = trandata.merge(fx_uni, how='left', left_on='currency', right_on='currency')\n",
    "\n",
    "\n",
    "trandata['eur_rate'] = eurdata['RATE']\n"
   ]
  },
  {
   "cell_type": "markdown",
   "id": "d3060c94",
   "metadata": {
    "papermill": {
     "duration": 0.292525,
     "end_time": "2021-06-02T20:12:58.267371",
     "exception": false,
     "start_time": "2021-06-02T20:12:57.974846",
     "status": "completed"
    },
    "tags": []
   },
   "source": [
    "#### Convert currency fields"
   ]
  },
  {
   "cell_type": "code",
   "execution_count": 14,
   "id": "79beb27e",
   "metadata": {
    "execution": {
     "iopub.execute_input": "2021-06-02T20:12:58.968082Z",
     "iopub.status.busy": "2021-06-02T20:12:58.966084Z",
     "iopub.status.idle": "2021-06-02T20:12:59.335770Z",
     "shell.execute_reply": "2021-06-02T20:12:59.336769Z"
    },
    "papermill": {
     "duration": 0.735395,
     "end_time": "2021-06-02T20:12:59.337769",
     "exception": false,
     "start_time": "2021-06-02T20:12:58.602374",
     "status": "completed"
    },
    "pycharm": {
     "is_executing": true,
     "name": "#%%\n"
    },
    "tags": []
   },
   "outputs": [],
   "source": [
    "try:\n",
    "    trandata[cflds] = trandata[cflds].divide(trandata['eur_rate'], axis=\"index\").fillna(0)\n",
    "\n",
    "except KeyError:\n",
    "    trandata[alt_cflds] = trandata[alt_cflds].divide(trandata['eur_rate'], axis=\"index\").fillna(0)\n",
    "\n",
    "    \n"
   ]
  },
  {
   "cell_type": "markdown",
   "id": "1736926c",
   "metadata": {
    "papermill": {
     "duration": 0.293334,
     "end_time": "2021-06-02T20:12:59.908675",
     "exception": false,
     "start_time": "2021-06-02T20:12:59.615341",
     "status": "completed"
    },
    "tags": []
   },
   "source": [
    "#### Output to {percode}.euroconv.csv"
   ]
  },
  {
   "cell_type": "code",
   "execution_count": 15,
   "id": "f4098ebe",
   "metadata": {
    "execution": {
     "iopub.execute_input": "2021-06-02T20:13:00.495476Z",
     "iopub.status.busy": "2021-06-02T20:13:00.491468Z",
     "iopub.status.idle": "2021-06-02T20:13:53.886998Z",
     "shell.execute_reply": "2021-06-02T20:13:53.885865Z"
    },
    "papermill": {
     "duration": 53.678073,
     "end_time": "2021-06-02T20:13:53.887972",
     "exception": false,
     "start_time": "2021-06-02T20:13:00.209899",
     "status": "completed"
    },
    "pycharm": {
     "is_executing": true,
     "name": "#%%\n"
    },
    "tags": []
   },
   "outputs": [],
   "source": [
    "trandata.to_csv( os.path.join(   rt_path , euro_file) , ',', index=False, encoding='utf-8-sig')\n"
   ]
  },
  {
   "cell_type": "code",
   "execution_count": 16,
   "id": "defa9cbf",
   "metadata": {
    "execution": {
     "iopub.execute_input": "2021-06-02T20:13:54.548484Z",
     "iopub.status.busy": "2021-06-02T20:13:54.546485Z",
     "iopub.status.idle": "2021-06-02T20:13:54.555948Z",
     "shell.execute_reply": "2021-06-02T20:13:54.556488Z"
    },
    "papermill": {
     "duration": 0.328036,
     "end_time": "2021-06-02T20:13:54.557483",
     "exception": false,
     "start_time": "2021-06-02T20:13:54.229447",
     "status": "completed"
    },
    "tags": []
   },
   "outputs": [],
   "source": [
    "#### Store the DataFrame for other notebooks to use and open the file location for the user to view the new files"
   ]
  },
  {
   "cell_type": "code",
   "execution_count": 17,
   "id": "3ccd4c3e",
   "metadata": {
    "execution": {
     "iopub.execute_input": "2021-06-02T20:13:55.308654Z",
     "iopub.status.busy": "2021-06-02T20:13:55.307105Z",
     "iopub.status.idle": "2021-06-02T20:13:55.840755Z",
     "shell.execute_reply": "2021-06-02T20:13:55.842761Z"
    },
    "papermill": {
     "duration": 0.885607,
     "end_time": "2021-06-02T20:13:55.843764",
     "exception": false,
     "start_time": "2021-06-02T20:13:54.958157",
     "status": "completed"
    },
    "tags": []
   },
   "outputs": [
    {
     "name": "stdout",
     "output_type": "stream",
     "text": [
      "Stored 'mo_df' (DataFrame)\n"
     ]
    }
   ],
   "source": [
    "mo_df = trandata\n",
    "\n",
    "%store mo_df\n",
    "\n",
    "\n",
    "os.startfile( rt_path   )\n",
    "\n"
   ]
  },
  {
   "cell_type": "code",
   "execution_count": null,
   "id": "90c3607c",
   "metadata": {
    "papermill": {
     "duration": 0.407297,
     "end_time": "2021-06-02T20:13:56.525504",
     "exception": false,
     "start_time": "2021-06-02T20:13:56.118207",
     "status": "completed"
    },
    "tags": []
   },
   "outputs": [],
   "source": []
  }
 ],
 "metadata": {
  "celltoolbar": "Tags",
  "kernelspec": {
   "display_name": "Python 3",
   "language": "python",
   "name": "python3"
  },
  "language_info": {
   "codemirror_mode": {
    "name": "ipython",
    "version": 3
   },
   "file_extension": ".py",
   "mimetype": "text/x-python",
   "name": "python",
   "nbconvert_exporter": "python",
   "pygments_lexer": "ipython3",
   "version": "3.7.6"
  },
  "papermill": {
   "default_parameters": {},
   "duration": 151.226601,
   "end_time": "2021-06-02T20:13:58.689716",
   "environment_variables": {},
   "exception": null,
   "input_path": "pipeline/make_output.ipynb",
   "output_path": "//hecate/Insurance_US/Product Development/Product Management/Global PPM/Reporting/Data Collection/Pipeline Reporting Scripts/GPMpipeline/instances/2021.Q1\\pipeline\\make_output06022021160438--live, add AT.ipynb",
   "parameters": {
    "commit_message": "Live run, added AT, bad file name, rerun.",
    "inst_datetime": "06022021160438",
    "percode": "2021.Q1",
    "run_control": 1
   },
   "start_time": "2021-06-02T20:11:27.463115",
   "version": "2.3.3"
  }
 },
 "nbformat": 4,
 "nbformat_minor": 5
}