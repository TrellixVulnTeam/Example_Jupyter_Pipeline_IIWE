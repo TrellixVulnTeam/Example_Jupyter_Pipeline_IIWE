{
 "cells": [
  {
   "cell_type": "markdown",
   "id": "835d738c",
   "metadata": {
    "tags": [
     "papermill-error-cell-tag"
    ]
   },
   "source": [
    "<span style=\"color:red; font-family:Helvetica Neue, Helvetica, Arial, sans-serif; font-size:2em;\">An Exception was encountered at '<a href=\"#papermill-error-cell\">In [11]</a>'.</span>"
   ]
  },
  {
   "cell_type": "markdown",
   "id": "e2b72849",
   "metadata": {
    "papermill": {
     "duration": 0.385171,
     "end_time": "2021-05-26T14:05:34.800973",
     "exception": false,
     "start_time": "2021-05-26T14:05:34.415802",
     "status": "completed"
    },
    "tags": []
   },
   "source": [
    "<img src=\"../images/AzPTravel_PPM.png\">"
   ]
  },
  {
   "cell_type": "markdown",
   "id": "c482c59f",
   "metadata": {
    "papermill": {
     "duration": 0.540159,
     "end_time": "2021-05-26T14:05:35.670129",
     "exception": false,
     "start_time": "2021-05-26T14:05:35.129970",
     "status": "completed"
    },
    "pycharm": {
     "name": "#%% md\n"
    },
    "tags": []
   },
   "source": [
    "## Read in Data Collection Source\n",
    "\n",
    "#### This script fetches the current data collection submission file from the completed \"prep.ipynb\" step into the pipeline.\n"
   ]
  },
  {
   "cell_type": "markdown",
   "id": "ce5ad52b",
   "metadata": {
    "papermill": {
     "duration": 0.425322,
     "end_time": "2021-05-26T14:05:36.613357",
     "exception": false,
     "start_time": "2021-05-26T14:05:36.188035",
     "status": "completed"
    },
    "tags": []
   },
   "source": [
    "### User Variables\n",
    "- These are overwritten if inherited from run_control.ipynb.\n",
    "- Feel Free to reset them for a manual run if you like\n",
    "- Do not save without percode = \"-f\""
   ]
  },
  {
   "cell_type": "code",
   "execution_count": 1,
   "id": "074f6c19",
   "metadata": {
    "execution": {
     "iopub.execute_input": "2021-05-26T14:05:37.295723Z",
     "iopub.status.busy": "2021-05-26T14:05:37.291722Z",
     "iopub.status.idle": "2021-05-26T14:05:37.298726Z",
     "shell.execute_reply": "2021-05-26T14:05:37.300718Z"
    },
    "papermill": {
     "duration": 0.396351,
     "end_time": "2021-05-26T14:05:37.300718",
     "exception": false,
     "start_time": "2021-05-26T14:05:36.904367",
     "status": "completed"
    },
    "pycharm": {
     "name": "#%%\n"
    },
    "tags": [
     "parameters"
    ]
   },
   "outputs": [],
   "source": [
    "commit_message = \"Development and testing.\"\n",
    "# Give a brief reason for the run.\n",
    "\n",
    "run_control = 1\n",
    "#run_type = 0 - Lite run with no reporting, not recommended.\n",
    "#run_type = 1 - Lite run with normal reporting, default setting.\n",
    "#run_type = 2 - Heavy run with full reporting, available for audits and troubleshooting.\n",
    "#run_type = 5 - A default setting. Indicates the script is being run by an outside process without an inherited value\n",
    "\n",
    "percode = \"2021.Q1\"\n",
    "# Data Collection Code, this controls file paths and output names\n",
    "# \"-f\" is the value indicating a bad inheritance from run with arg\n",
    "\n",
    "#----------\n",
    "# do not edit - this either inherits the full instance timestamp from the papermill book or captures the run time of this script.\n",
    "from datetime import datetime\n",
    "inst_datetime = datetime.now().strftime(\"%m%d%Y%H%M%S\")"
   ]
  },
  {
   "cell_type": "code",
   "execution_count": 2,
   "id": "7dd2a7ef",
   "metadata": {
    "execution": {
     "iopub.execute_input": "2021-05-26T14:05:38.376293Z",
     "iopub.status.busy": "2021-05-26T14:05:38.374294Z",
     "iopub.status.idle": "2021-05-26T14:05:38.379295Z",
     "shell.execute_reply": "2021-05-26T14:05:38.381631Z"
    },
    "papermill": {
     "duration": 0.44381,
     "end_time": "2021-05-26T14:05:38.382155",
     "exception": false,
     "start_time": "2021-05-26T14:05:37.938345",
     "status": "completed"
    },
    "tags": [
     "injected-parameters"
    ]
   },
   "outputs": [],
   "source": [
    "# Parameters\n",
    "run_control = 1\n",
    "percode = \"2021.Q1\"\n",
    "commit_message = \"New AUS needed to be converted from json\"\n",
    "inst_datetime = \"05262021100343\"\n"
   ]
  },
  {
   "cell_type": "markdown",
   "id": "da041114",
   "metadata": {
    "papermill": {
     "duration": 0.407477,
     "end_time": "2021-05-26T14:05:39.330227",
     "exception": false,
     "start_time": "2021-05-26T14:05:38.922750",
     "status": "completed"
    },
    "tags": []
   },
   "source": [
    "#### import packages"
   ]
  },
  {
   "cell_type": "code",
   "execution_count": 3,
   "id": "42e7bdba",
   "metadata": {
    "execution": {
     "iopub.execute_input": "2021-05-26T14:05:40.438863Z",
     "iopub.status.busy": "2021-05-26T14:05:40.425864Z",
     "iopub.status.idle": "2021-05-26T14:05:45.187861Z",
     "shell.execute_reply": "2021-05-26T14:05:45.188859Z"
    },
    "papermill": {
     "duration": 5.316722,
     "end_time": "2021-05-26T14:05:45.189859",
     "exception": false,
     "start_time": "2021-05-26T14:05:39.873137",
     "status": "completed"
    },
    "pycharm": {
     "name": "#%%\n"
    },
    "tags": []
   },
   "outputs": [],
   "source": [
    "import os # System commands\n",
    "import sys # System commands\n",
    "\n",
    "import getpass # parquet file read/write\n",
    "import json # json file read/write\n",
    "from sklearn import datasets # pass vars between .ipynb s\n",
    "\n",
    "import matplotlib.pyplot as plt #Plots and Graphs\n",
    "import pandas as pd #DataFrame and math\n"
   ]
  },
  {
   "cell_type": "markdown",
   "id": "264f48f0",
   "metadata": {
    "papermill": {
     "duration": 0.368053,
     "end_time": "2021-05-26T14:05:45.874536",
     "exception": false,
     "start_time": "2021-05-26T14:05:45.506483",
     "status": "completed"
    },
    "tags": []
   },
   "source": [
    "#### Default Variables, these govern logic, do not edit."
   ]
  },
  {
   "cell_type": "code",
   "execution_count": 4,
   "id": "5a204c63",
   "metadata": {
    "execution": {
     "iopub.execute_input": "2021-05-26T14:05:46.459287Z",
     "iopub.status.busy": "2021-05-26T14:05:46.456271Z",
     "iopub.status.idle": "2021-05-26T14:05:46.465272Z",
     "shell.execute_reply": "2021-05-26T14:05:46.467275Z"
    },
    "papermill": {
     "duration": 0.290143,
     "end_time": "2021-05-26T14:05:46.467275",
     "exception": false,
     "start_time": "2021-05-26T14:05:46.177132",
     "status": "completed"
    },
    "pycharm": {
     "name": "#%%\n"
    },
    "tags": []
   },
   "outputs": [],
   "source": [
    "default_dc = \"20XX.QX\"\n",
    "default_rc = 0 #extra lite mode\n",
    "dummy_perc = \"33Q3\" # bad inheritance"
   ]
  },
  {
   "cell_type": "markdown",
   "id": "7e797dc4",
   "metadata": {
    "papermill": {
     "duration": 0.330112,
     "end_time": "2021-05-26T14:05:47.118216",
     "exception": false,
     "start_time": "2021-05-26T14:05:46.788104",
     "status": "completed"
    },
    "pycharm": {
     "name": "#%% md\n"
    },
    "tags": []
   },
   "source": [
    "#### Script determining run context ie, manual, run_control.ipynb, or other."
   ]
  },
  {
   "cell_type": "code",
   "execution_count": 5,
   "id": "8fb722ee",
   "metadata": {
    "execution": {
     "iopub.execute_input": "2021-05-26T14:05:47.858740Z",
     "iopub.status.busy": "2021-05-26T14:05:47.848733Z",
     "iopub.status.idle": "2021-05-26T14:05:47.866734Z",
     "shell.execute_reply": "2021-05-26T14:05:47.868739Z"
    },
    "papermill": {
     "duration": 0.465906,
     "end_time": "2021-05-26T14:05:47.869736",
     "exception": false,
     "start_time": "2021-05-26T14:05:47.403830",
     "status": "completed"
    },
    "pycharm": {
     "name": "#%%\n"
    },
    "tags": [
     "parameters"
    ]
   },
   "outputs": [],
   "source": [
    "if run_control == 5:\n",
    "    \n",
    "    run_control = default_rc\n",
    "    \n",
    "else:\n",
    "    \n",
    "    run_control = run_control\n",
    "\n",
    "try:\n",
    "    \n",
    "    if sys.argv[1] == \"-f\":\n",
    "        \n",
    "        percode = percode\n",
    "        \n",
    "    else:\n",
    "        \n",
    "        percode = sys.argv[1]\n",
    "\n",
    "except IndexError:\n",
    "    \n",
    "    percode = default_dc\n",
    "\n",
    "except NameError:\n",
    "\n",
    "    percode = default_dc\n"
   ]
  },
  {
   "cell_type": "markdown",
   "id": "6a91ef9e",
   "metadata": {
    "papermill": {
     "duration": 0.333006,
     "end_time": "2021-05-26T14:05:48.773802",
     "exception": false,
     "start_time": "2021-05-26T14:05:48.440796",
     "status": "completed"
    },
    "tags": []
   },
   "source": [
    "#### style settings"
   ]
  },
  {
   "cell_type": "code",
   "execution_count": 6,
   "id": "1094e223",
   "metadata": {
    "execution": {
     "iopub.execute_input": "2021-05-26T14:05:49.649404Z",
     "iopub.status.busy": "2021-05-26T14:05:49.647405Z",
     "iopub.status.idle": "2021-05-26T14:05:49.653401Z",
     "shell.execute_reply": "2021-05-26T14:05:49.650403Z"
    },
    "papermill": {
     "duration": 0.461445,
     "end_time": "2021-05-26T14:05:49.654403",
     "exception": false,
     "start_time": "2021-05-26T14:05:49.192958",
     "status": "completed"
    },
    "tags": []
   },
   "outputs": [],
   "source": [
    "from IPython.core.interactiveshell import InteractiveShell\n",
    "InteractiveShell.ast_node_interactivity = \"all\""
   ]
  },
  {
   "cell_type": "markdown",
   "id": "d200f3ae",
   "metadata": {
    "papermill": {
     "duration": 0.321103,
     "end_time": "2021-05-26T14:05:50.454585",
     "exception": false,
     "start_time": "2021-05-26T14:05:50.133482",
     "status": "completed"
    },
    "pycharm": {
     "name": "#%% md\n"
    },
    "tags": []
   },
   "source": [
    "#### Make paths for the source folder"
   ]
  },
  {
   "cell_type": "code",
   "execution_count": 7,
   "id": "e40d869f",
   "metadata": {
    "execution": {
     "iopub.execute_input": "2021-05-26T14:05:51.249330Z",
     "iopub.status.busy": "2021-05-26T14:05:51.241336Z",
     "iopub.status.idle": "2021-05-26T14:05:51.256338Z",
     "shell.execute_reply": "2021-05-26T14:05:51.257335Z"
    },
    "papermill": {
     "duration": 0.404883,
     "end_time": "2021-05-26T14:05:51.258331",
     "exception": false,
     "start_time": "2021-05-26T14:05:50.853448",
     "status": "completed"
    },
    "pycharm": {
     "name": "#%%\n"
    },
    "tags": []
   },
   "outputs": [],
   "source": [
    "rt_path = os.path.join(f'\\\\\\\\hecate\\Insurance_US\\Product Development\\Product Management\\Global PPM\\Reporting\\Data Collection\\Production',percode)\n",
    "\n",
    "#archive folders\n",
    "rawpath = os.path.join(rt_path, \"logs\", \"raw_data_file_history\")\n",
    "localpath = os.path.join(rt_path, \"logs\", \"local_currency_source_history\")\n",
    "europath = os.path.join(rt_path, \"logs\", \"euro_source_history\")\n",
    "\n",
    "#script folder\n",
    "scriptpath = os.path.abspath(os.path.join(rt_path, '..', '..', \"Pipeline Reporting Scripts\",\"GPMpipeline\"))\n",
    "\n",
    "piperunner = '//hecate/Insurance_US/Product Development/Product Management/Global PPM/Reporting/_Tools/GitHub/Production Repositories/Pipeline Runner/Pipeline Runner.xlsm'\n"
   ]
  },
  {
   "cell_type": "markdown",
   "id": "6a321108",
   "metadata": {
    "papermill": {
     "duration": 0.552076,
     "end_time": "2021-05-26T14:05:52.297520",
     "exception": false,
     "start_time": "2021-05-26T14:05:51.745444",
     "status": "completed"
    },
    "tags": []
   },
   "source": [
    "#### Set file variables"
   ]
  },
  {
   "cell_type": "code",
   "execution_count": 8,
   "id": "320f9b63",
   "metadata": {
    "execution": {
     "iopub.execute_input": "2021-05-26T14:05:53.757515Z",
     "iopub.status.busy": "2021-05-26T14:05:53.746447Z",
     "iopub.status.idle": "2021-05-26T14:05:53.761517Z",
     "shell.execute_reply": "2021-05-26T14:05:53.749533Z"
    },
    "papermill": {
     "duration": 0.758296,
     "end_time": "2021-05-26T14:05:53.762518",
     "exception": false,
     "start_time": "2021-05-26T14:05:53.004222",
     "status": "completed"
    },
    "tags": []
   },
   "outputs": [],
   "source": [
    "rawfile = f'{str(percode)}.csv'\n",
    "parqfile = f'{str(percode)}.parquet'\n",
    "rawhistfile = f'{percode}_{inst_datetime}.csv'\n",
    "\n",
    "prepfile = f\"{percode}prep.csv\"\n",
    "prepparq = f\"{percode}prep.parquet\"\n",
    "prephistfile = f'{percode}_{inst_datetime}prep.csv'\n",
    "\n",
    "localfile = f'{percode}.localcur.csv'\n",
    "localhistfile = f'{percode}.localcur_{inst_datetime}.csv'\n",
    "\n",
    "eurofile = f'{percode}.euroconv.csv'\n",
    "eurohistfile = f'{percode}.euroconv_{inst_datetime}.csv'\n",
    "\n",
    "xls_runner = 'Pipeline Runner.xlsm'\n",
    "\n"
   ]
  },
  {
   "cell_type": "markdown",
   "id": "52a8bf21",
   "metadata": {
    "papermill": {
     "duration": 0.264986,
     "end_time": "2021-05-26T14:05:54.528457",
     "exception": false,
     "start_time": "2021-05-26T14:05:54.263471",
     "status": "completed"
    },
    "pycharm": {
     "name": "#%% md\n"
    },
    "tags": []
   },
   "source": [
    "- Read each json file into temp DataFrame \"data\".\n",
    "- Prep actions - Strip (trim) leading and trailing spaces values in string columns, remove rows without business units.\n",
    "- Append each json output to into 1 DataFrame \"df\".\n",
    "- Process Cleanup, the indices restart with each append, reset and drop the previous."
   ]
  },
  {
   "cell_type": "code",
   "execution_count": 9,
   "id": "1c6cce20",
   "metadata": {
    "execution": {
     "iopub.execute_input": "2021-05-26T14:05:55.252115Z",
     "iopub.status.busy": "2021-05-26T14:05:55.246110Z",
     "iopub.status.idle": "2021-05-26T14:05:55.295878Z",
     "shell.execute_reply": "2021-05-26T14:05:55.297359Z"
    },
    "papermill": {
     "duration": 0.432447,
     "end_time": "2021-05-26T14:05:55.297919",
     "exception": false,
     "start_time": "2021-05-26T14:05:54.865472",
     "status": "completed"
    },
    "pycharm": {
     "name": "#%%\n"
    },
    "tags": []
   },
   "outputs": [],
   "source": [
    "\n",
    "try:\n",
    "    %store -r prep_df\n",
    "    df = prep_df\n",
    "\n",
    "except:\n",
    "    \n",
    "    try:\n",
    "        df = pd.read_parquet(os.path.join(rt_path,prepparq), engine = \"pyarrow\")\n",
    "    \n",
    "    except:\n",
    "        df = pd.read_csv(os.path.join(rt_path,prepfile) )\n",
    "\n",
    "if run_control > 0:\n",
    "     \n",
    "    try:\n",
    "        os.remove(prepfile)\n",
    "    \n",
    "    except FileNotFoundError:\n",
    "        pass\n",
    "    \n",
    "    try:\n",
    "        os.remove(prepparq)\n",
    "\n",
    "    except FileNotFoundError:\n",
    "        pass\n",
    "        \n",
    "else:\n",
    "\n",
    "    pass"
   ]
  },
  {
   "cell_type": "markdown",
   "id": "1395222f",
   "metadata": {
    "papermill": {
     "duration": 0.345995,
     "end_time": "2021-05-26T14:05:55.960022",
     "exception": false,
     "start_time": "2021-05-26T14:05:55.614027",
     "status": "completed"
    },
    "pycharm": {
     "name": "#%% md\n"
    },
    "tags": []
   },
   "source": [
    "#### Upload Charts"
   ]
  },
  {
   "cell_type": "code",
   "execution_count": 10,
   "id": "9b76bf31",
   "metadata": {
    "execution": {
     "iopub.execute_input": "2021-05-26T14:05:56.672280Z",
     "iopub.status.busy": "2021-05-26T14:05:56.652276Z",
     "iopub.status.idle": "2021-05-26T14:05:58.264717Z",
     "shell.execute_reply": "2021-05-26T14:05:58.268722Z"
    },
    "papermill": {
     "duration": 1.918556,
     "end_time": "2021-05-26T14:05:58.269717",
     "exception": false,
     "start_time": "2021-05-26T14:05:56.351161",
     "status": "completed"
    },
    "pycharm": {
     "name": "#%%\n"
    },
    "tags": []
   },
   "outputs": [
    {
     "data": {
      "text/plain": [
       "<BarContainer object of 9 artists>"
      ]
     },
     "execution_count": 10,
     "metadata": {},
     "output_type": "execute_result"
    },
    {
     "data": {
      "text/plain": [
       "Text(0.5, 1.0, 'Earned Revenue net of Taxes by BU in thousands LC')"
      ]
     },
     "execution_count": 10,
     "metadata": {},
     "output_type": "execute_result"
    },
    {
     "data": {
      "image/png": "[encoded data removed]",
      "text/plain": [
       "<Figure size 432x288 with 1 Axes>"
      ]
     },
     "metadata": {
      "needs_background": "light"
     },
     "output_type": "display_data"
    },
    {
     "data": {
      "text/plain": [
       "<BarContainer object of 9 artists>"
      ]
     },
     "execution_count": 10,
     "metadata": {},
     "output_type": "execute_result"
    },
    {
     "data": {
      "text/plain": [
       "Text(0.5, 1.0, 'Row Counts by BU')"
      ]
     },
     "execution_count": 10,
     "metadata": {},
     "output_type": "execute_result"
    },
    {
     "data": {
      "image/png": "[encoded data removed]",
      "text/plain": [
       "<Figure size 432x288 with 1 Axes>"
      ]
     },
     "metadata": {
      "needs_background": "light"
     },
     "output_type": "display_data"
    }
   ],
   "source": [
    "def num_format(x):\n",
    "    \"\"\"number format without a currency\"\"\"\n",
    "    return \"{:,.0f}\".format(x)\n",
    "\n",
    "if run_control > 0:\n",
    "\n",
    "    sumdata = df.groupby(['Business Unit']).sum()\n",
    "    sumdata = sumdata.reset_index()\n",
    "    plt.bar(sumdata['Business Unit'], sumdata['Earned Revenues net of Taxes']/1000)\n",
    "    plt.title('Earned Revenue net of Taxes by BU in thousands LC')\n",
    "    plt.show()\n",
    "\n",
    "    countdata = df.groupby(['Business Unit']).count()\n",
    "    countdata = countdata.reset_index()\n",
    "    plt.bar(countdata['Business Unit'], countdata['Earned Revenues net of Taxes'])\n",
    "    plt.title('Row Counts by BU')\n",
    "    plt.show()\n",
    "\n",
    "else:\n",
    "    print(\"Charts Skipped\")"
   ]
  },
  {
   "cell_type": "markdown",
   "id": "53b04b0b",
   "metadata": {
    "papermill": {
     "duration": 0.570217,
     "end_time": "2021-05-26T14:05:59.607029",
     "exception": false,
     "start_time": "2021-05-26T14:05:59.036812",
     "status": "completed"
    },
    "tags": []
   },
   "source": [
    "#### Output Processes\n",
    "- Define File names.\n",
    "- If existing csv is found, archive it in \"raw_data_file_history\" folder.\n",
    "- Save new csv."
   ]
  },
  {
   "cell_type": "markdown",
   "id": "4e2a99b3",
   "metadata": {
    "tags": [
     "papermill-error-cell-tag"
    ]
   },
   "source": [
    "<span id=\"papermill-error-cell\" style=\"color:red; font-family:Helvetica Neue, Helvetica, Arial, sans-serif; font-size:2em;\">Execution using papermill encountered an exception here and stopped:</span>"
   ]
  },
  {
   "cell_type": "code",
   "execution_count": 11,
   "id": "75cc2d62",
   "metadata": {
    "execution": {
     "iopub.execute_input": "2021-05-26T14:06:00.770022Z",
     "iopub.status.busy": "2021-05-26T14:06:00.757024Z",
     "iopub.status.idle": "2021-05-26T14:06:26.142495Z",
     "shell.execute_reply": "2021-05-26T14:06:26.138500Z"
    },
    "papermill": {
     "duration": 25.944784,
     "end_time": "2021-05-26T14:06:26.142495",
     "exception": true,
     "start_time": "2021-05-26T14:06:00.197711",
     "status": "failed"
    },
    "pycharm": {
     "name": "#%%\n"
    },
    "tags": []
   },
   "outputs": [
    {
     "ename": "ArrowTypeError",
     "evalue": "(\"Expected a bytes object, got a 'float' object\", 'Conversion failed for column Unnamed: 66 with type object')",
     "output_type": "error",
     "traceback": [
      "\u001b[1;31m---------------------------------------------------------------------------\u001b[0m",
      "\u001b[1;31mArrowTypeError\u001b[0m                            Traceback (most recent call last)",
      "\u001b[1;32m<ipython-input-11-63013ac7b932>\u001b[0m in \u001b[0;36m<module>\u001b[1;34m\u001b[0m\n\u001b[0;32m     19\u001b[0m \u001b[1;33m\u001b[0m\u001b[0m\n\u001b[0;32m     20\u001b[0m     \u001b[0mdf\u001b[0m\u001b[1;33m.\u001b[0m\u001b[0mto_csv\u001b[0m\u001b[1;33m(\u001b[0m\u001b[0mos\u001b[0m\u001b[1;33m.\u001b[0m\u001b[0mpath\u001b[0m\u001b[1;33m.\u001b[0m\u001b[0mjoin\u001b[0m\u001b[1;33m(\u001b[0m\u001b[0mrt_path\u001b[0m \u001b[1;33m,\u001b[0m \u001b[0mrawfile\u001b[0m\u001b[1;33m)\u001b[0m\u001b[1;33m,\u001b[0m \u001b[1;34m','\u001b[0m\u001b[1;33m,\u001b[0m \u001b[0mindex\u001b[0m\u001b[1;33m=\u001b[0m\u001b[1;32mFalse\u001b[0m \u001b[1;33m,\u001b[0m \u001b[0mencoding\u001b[0m\u001b[1;33m=\u001b[0m\u001b[1;34m'utf-8-sig'\u001b[0m\u001b[1;33m)\u001b[0m\u001b[1;33m\u001b[0m\u001b[1;33m\u001b[0m\u001b[0m\n\u001b[1;32m---> 21\u001b[1;33m     \u001b[0mdf\u001b[0m\u001b[1;33m.\u001b[0m\u001b[0mto_parquet\u001b[0m\u001b[1;33m(\u001b[0m\u001b[0mos\u001b[0m\u001b[1;33m.\u001b[0m\u001b[0mpath\u001b[0m\u001b[1;33m.\u001b[0m\u001b[0mjoin\u001b[0m\u001b[1;33m(\u001b[0m\u001b[0mrt_path\u001b[0m \u001b[1;33m,\u001b[0m \u001b[0mparqfile\u001b[0m\u001b[1;33m)\u001b[0m\u001b[1;33m,\u001b[0m \u001b[0mengine\u001b[0m \u001b[1;33m=\u001b[0m \u001b[1;34m\"pyarrow\"\u001b[0m\u001b[1;33m)\u001b[0m\u001b[1;33m\u001b[0m\u001b[1;33m\u001b[0m\u001b[0m\n\u001b[0m\u001b[0;32m     22\u001b[0m \u001b[1;33m\u001b[0m\u001b[0m\n\u001b[0;32m     23\u001b[0m \u001b[1;32melse\u001b[0m\u001b[1;33m:\u001b[0m\u001b[1;33m\u001b[0m\u001b[1;33m\u001b[0m\u001b[0m\n",
      "\u001b[1;32m~\\Anaconda3\\lib\\site-packages\\pandas\\util\\_decorators.py\u001b[0m in \u001b[0;36mwrapper\u001b[1;34m(*args, **kwargs)\u001b[0m\n\u001b[0;32m    197\u001b[0m                 \u001b[1;32melse\u001b[0m\u001b[1;33m:\u001b[0m\u001b[1;33m\u001b[0m\u001b[1;33m\u001b[0m\u001b[0m\n\u001b[0;32m    198\u001b[0m                     \u001b[0mkwargs\u001b[0m\u001b[1;33m[\u001b[0m\u001b[0mnew_arg_name\u001b[0m\u001b[1;33m]\u001b[0m \u001b[1;33m=\u001b[0m \u001b[0mnew_arg_value\u001b[0m\u001b[1;33m\u001b[0m\u001b[1;33m\u001b[0m\u001b[0m\n\u001b[1;32m--> 199\u001b[1;33m             \u001b[1;32mreturn\u001b[0m \u001b[0mfunc\u001b[0m\u001b[1;33m(\u001b[0m\u001b[1;33m*\u001b[0m\u001b[0margs\u001b[0m\u001b[1;33m,\u001b[0m \u001b[1;33m**\u001b[0m\u001b[0mkwargs\u001b[0m\u001b[1;33m)\u001b[0m\u001b[1;33m\u001b[0m\u001b[1;33m\u001b[0m\u001b[0m\n\u001b[0m\u001b[0;32m    200\u001b[0m \u001b[1;33m\u001b[0m\u001b[0m\n\u001b[0;32m    201\u001b[0m         \u001b[1;32mreturn\u001b[0m \u001b[0mcast\u001b[0m\u001b[1;33m(\u001b[0m\u001b[0mF\u001b[0m\u001b[1;33m,\u001b[0m \u001b[0mwrapper\u001b[0m\u001b[1;33m)\u001b[0m\u001b[1;33m\u001b[0m\u001b[1;33m\u001b[0m\u001b[0m\n",
      "\u001b[1;32m~\\Anaconda3\\lib\\site-packages\\pandas\\core\\frame.py\u001b[0m in \u001b[0;36mto_parquet\u001b[1;34m(self, path, engine, compression, index, partition_cols, **kwargs)\u001b[0m\n\u001b[0;32m   2370\u001b[0m             \u001b[0mindex\u001b[0m\u001b[1;33m=\u001b[0m\u001b[0mindex\u001b[0m\u001b[1;33m,\u001b[0m\u001b[1;33m\u001b[0m\u001b[1;33m\u001b[0m\u001b[0m\n\u001b[0;32m   2371\u001b[0m             \u001b[0mpartition_cols\u001b[0m\u001b[1;33m=\u001b[0m\u001b[0mpartition_cols\u001b[0m\u001b[1;33m,\u001b[0m\u001b[1;33m\u001b[0m\u001b[1;33m\u001b[0m\u001b[0m\n\u001b[1;32m-> 2372\u001b[1;33m             \u001b[1;33m**\u001b[0m\u001b[0mkwargs\u001b[0m\u001b[1;33m,\u001b[0m\u001b[1;33m\u001b[0m\u001b[1;33m\u001b[0m\u001b[0m\n\u001b[0m\u001b[0;32m   2373\u001b[0m         )\n\u001b[0;32m   2374\u001b[0m \u001b[1;33m\u001b[0m\u001b[0m\n",
      "\u001b[1;32m~\\Anaconda3\\lib\\site-packages\\pandas\\io\\parquet.py\u001b[0m in \u001b[0;36mto_parquet\u001b[1;34m(df, path, engine, compression, index, partition_cols, **kwargs)\u001b[0m\n\u001b[0;32m    274\u001b[0m         \u001b[0mindex\u001b[0m\u001b[1;33m=\u001b[0m\u001b[0mindex\u001b[0m\u001b[1;33m,\u001b[0m\u001b[1;33m\u001b[0m\u001b[1;33m\u001b[0m\u001b[0m\n\u001b[0;32m    275\u001b[0m         \u001b[0mpartition_cols\u001b[0m\u001b[1;33m=\u001b[0m\u001b[0mpartition_cols\u001b[0m\u001b[1;33m,\u001b[0m\u001b[1;33m\u001b[0m\u001b[1;33m\u001b[0m\u001b[0m\n\u001b[1;32m--> 276\u001b[1;33m         \u001b[1;33m**\u001b[0m\u001b[0mkwargs\u001b[0m\u001b[1;33m,\u001b[0m\u001b[1;33m\u001b[0m\u001b[1;33m\u001b[0m\u001b[0m\n\u001b[0m\u001b[0;32m    277\u001b[0m     )\n\u001b[0;32m    278\u001b[0m \u001b[1;33m\u001b[0m\u001b[0m\n",
      "\u001b[1;32m~\\Anaconda3\\lib\\site-packages\\pandas\\io\\parquet.py\u001b[0m in \u001b[0;36mwrite\u001b[1;34m(self, df, path, compression, index, partition_cols, **kwargs)\u001b[0m\n\u001b[0;32m     99\u001b[0m             \u001b[0mfrom_pandas_kwargs\u001b[0m\u001b[1;33m[\u001b[0m\u001b[1;34m\"preserve_index\"\u001b[0m\u001b[1;33m]\u001b[0m \u001b[1;33m=\u001b[0m \u001b[0mindex\u001b[0m\u001b[1;33m\u001b[0m\u001b[1;33m\u001b[0m\u001b[0m\n\u001b[0;32m    100\u001b[0m \u001b[1;33m\u001b[0m\u001b[0m\n\u001b[1;32m--> 101\u001b[1;33m         \u001b[0mtable\u001b[0m \u001b[1;33m=\u001b[0m \u001b[0mself\u001b[0m\u001b[1;33m.\u001b[0m\u001b[0mapi\u001b[0m\u001b[1;33m.\u001b[0m\u001b[0mTable\u001b[0m\u001b[1;33m.\u001b[0m\u001b[0mfrom_pandas\u001b[0m\u001b[1;33m(\u001b[0m\u001b[0mdf\u001b[0m\u001b[1;33m,\u001b[0m \u001b[1;33m**\u001b[0m\u001b[0mfrom_pandas_kwargs\u001b[0m\u001b[1;33m)\u001b[0m\u001b[1;33m\u001b[0m\u001b[1;33m\u001b[0m\u001b[0m\n\u001b[0m\u001b[0;32m    102\u001b[0m \u001b[1;33m\u001b[0m\u001b[0m\n\u001b[0;32m    103\u001b[0m         \u001b[1;32mif\u001b[0m \u001b[0mis_fsspec_url\u001b[0m\u001b[1;33m(\u001b[0m\u001b[0mpath\u001b[0m\u001b[1;33m)\u001b[0m \u001b[1;32mand\u001b[0m \u001b[1;34m\"filesystem\"\u001b[0m \u001b[1;32mnot\u001b[0m \u001b[1;32min\u001b[0m \u001b[0mkwargs\u001b[0m\u001b[1;33m:\u001b[0m\u001b[1;33m\u001b[0m\u001b[1;33m\u001b[0m\u001b[0m\n",
      "\u001b[1;32m~\\Anaconda3\\lib\\site-packages\\pyarrow\\table.pxi\u001b[0m in \u001b[0;36mpyarrow.lib.Table.from_pandas\u001b[1;34m()\u001b[0m\n",
      "\u001b[1;32m~\\Anaconda3\\lib\\site-packages\\pyarrow\\pandas_compat.py\u001b[0m in \u001b[0;36mdataframe_to_arrays\u001b[1;34m(df, schema, preserve_index, nthreads, columns, safe)\u001b[0m\n\u001b[0;32m    573\u001b[0m     \u001b[1;32mif\u001b[0m \u001b[0mnthreads\u001b[0m \u001b[1;33m==\u001b[0m \u001b[1;36m1\u001b[0m\u001b[1;33m:\u001b[0m\u001b[1;33m\u001b[0m\u001b[1;33m\u001b[0m\u001b[0m\n\u001b[0;32m    574\u001b[0m         arrays = [convert_column(c, f)\n\u001b[1;32m--> 575\u001b[1;33m                   for c, f in zip(columns_to_convert, convert_fields)]\n\u001b[0m\u001b[0;32m    576\u001b[0m     \u001b[1;32melse\u001b[0m\u001b[1;33m:\u001b[0m\u001b[1;33m\u001b[0m\u001b[1;33m\u001b[0m\u001b[0m\n\u001b[0;32m    577\u001b[0m         \u001b[1;32mfrom\u001b[0m \u001b[0mconcurrent\u001b[0m \u001b[1;32mimport\u001b[0m \u001b[0mfutures\u001b[0m\u001b[1;33m\u001b[0m\u001b[1;33m\u001b[0m\u001b[0m\n",
      "\u001b[1;32m~\\Anaconda3\\lib\\site-packages\\pyarrow\\pandas_compat.py\u001b[0m in \u001b[0;36m<listcomp>\u001b[1;34m(.0)\u001b[0m\n\u001b[0;32m    573\u001b[0m     \u001b[1;32mif\u001b[0m \u001b[0mnthreads\u001b[0m \u001b[1;33m==\u001b[0m \u001b[1;36m1\u001b[0m\u001b[1;33m:\u001b[0m\u001b[1;33m\u001b[0m\u001b[1;33m\u001b[0m\u001b[0m\n\u001b[0;32m    574\u001b[0m         arrays = [convert_column(c, f)\n\u001b[1;32m--> 575\u001b[1;33m                   for c, f in zip(columns_to_convert, convert_fields)]\n\u001b[0m\u001b[0;32m    576\u001b[0m     \u001b[1;32melse\u001b[0m\u001b[1;33m:\u001b[0m\u001b[1;33m\u001b[0m\u001b[1;33m\u001b[0m\u001b[0m\n\u001b[0;32m    577\u001b[0m         \u001b[1;32mfrom\u001b[0m \u001b[0mconcurrent\u001b[0m \u001b[1;32mimport\u001b[0m \u001b[0mfutures\u001b[0m\u001b[1;33m\u001b[0m\u001b[1;33m\u001b[0m\u001b[0m\n",
      "\u001b[1;32m~\\Anaconda3\\lib\\site-packages\\pyarrow\\pandas_compat.py\u001b[0m in \u001b[0;36mconvert_column\u001b[1;34m(col, field)\u001b[0m\n\u001b[0;32m    564\u001b[0m             e.args += (\"Conversion failed for column {0!s} with type {1!s}\"\n\u001b[0;32m    565\u001b[0m                        .format(col.name, col.dtype),)\n\u001b[1;32m--> 566\u001b[1;33m             \u001b[1;32mraise\u001b[0m \u001b[0me\u001b[0m\u001b[1;33m\u001b[0m\u001b[1;33m\u001b[0m\u001b[0m\n\u001b[0m\u001b[0;32m    567\u001b[0m         \u001b[1;32mif\u001b[0m \u001b[1;32mnot\u001b[0m \u001b[0mfield_nullable\u001b[0m \u001b[1;32mand\u001b[0m \u001b[0mresult\u001b[0m\u001b[1;33m.\u001b[0m\u001b[0mnull_count\u001b[0m \u001b[1;33m>\u001b[0m \u001b[1;36m0\u001b[0m\u001b[1;33m:\u001b[0m\u001b[1;33m\u001b[0m\u001b[1;33m\u001b[0m\u001b[0m\n\u001b[0;32m    568\u001b[0m             raise ValueError(\"Field {} was non-nullable but pandas column \"\n",
      "\u001b[1;32m~\\Anaconda3\\lib\\site-packages\\pyarrow\\pandas_compat.py\u001b[0m in \u001b[0;36mconvert_column\u001b[1;34m(col, field)\u001b[0m\n\u001b[0;32m    558\u001b[0m \u001b[1;33m\u001b[0m\u001b[0m\n\u001b[0;32m    559\u001b[0m         \u001b[1;32mtry\u001b[0m\u001b[1;33m:\u001b[0m\u001b[1;33m\u001b[0m\u001b[1;33m\u001b[0m\u001b[0m\n\u001b[1;32m--> 560\u001b[1;33m             \u001b[0mresult\u001b[0m \u001b[1;33m=\u001b[0m \u001b[0mpa\u001b[0m\u001b[1;33m.\u001b[0m\u001b[0marray\u001b[0m\u001b[1;33m(\u001b[0m\u001b[0mcol\u001b[0m\u001b[1;33m,\u001b[0m \u001b[0mtype\u001b[0m\u001b[1;33m=\u001b[0m\u001b[0mtype_\u001b[0m\u001b[1;33m,\u001b[0m \u001b[0mfrom_pandas\u001b[0m\u001b[1;33m=\u001b[0m\u001b[1;32mTrue\u001b[0m\u001b[1;33m,\u001b[0m \u001b[0msafe\u001b[0m\u001b[1;33m=\u001b[0m\u001b[0msafe\u001b[0m\u001b[1;33m)\u001b[0m\u001b[1;33m\u001b[0m\u001b[1;33m\u001b[0m\u001b[0m\n\u001b[0m\u001b[0;32m    561\u001b[0m         except (pa.ArrowInvalid,\n\u001b[0;32m    562\u001b[0m                 \u001b[0mpa\u001b[0m\u001b[1;33m.\u001b[0m\u001b[0mArrowNotImplementedError\u001b[0m\u001b[1;33m,\u001b[0m\u001b[1;33m\u001b[0m\u001b[1;33m\u001b[0m\u001b[0m\n",
      "\u001b[1;32m~\\Anaconda3\\lib\\site-packages\\pyarrow\\array.pxi\u001b[0m in \u001b[0;36mpyarrow.lib.array\u001b[1;34m()\u001b[0m\n",
      "\u001b[1;32m~\\Anaconda3\\lib\\site-packages\\pyarrow\\array.pxi\u001b[0m in \u001b[0;36mpyarrow.lib._ndarray_to_array\u001b[1;34m()\u001b[0m\n",
      "\u001b[1;32m~\\Anaconda3\\lib\\site-packages\\pyarrow\\error.pxi\u001b[0m in \u001b[0;36mpyarrow.lib.check_status\u001b[1;34m()\u001b[0m\n",
      "\u001b[1;31mArrowTypeError\u001b[0m: (\"Expected a bytes object, got a 'float' object\", 'Conversion failed for column Unnamed: 66 with type object')"
     ]
    }
   ],
   "source": [
    "if run_control > 0:\n",
    "    \n",
    "    try:\n",
    "        os.rename(os.path.join(rt_path , rawfile), os.path.join(rawpath , rawhistfile))\n",
    "    except FileNotFoundError:\n",
    "        pass\n",
    "    try:\n",
    "         os.rename(os.path.join(rt_path , prepfile), os.path.join(rawpath , prephistfile))\n",
    "    except FileNotFoundError:\n",
    "        pass\n",
    "    try:\n",
    "         os.rename(os.path.join(rt_path , localfile), os.path.join(localpath , localhistfile))\n",
    "    except FileNotFoundError:\n",
    "        pass\n",
    "    try:\n",
    "         os.rename(os.path.join(rt_path , eurofile), os.path.join(europath , eurohistfile))\n",
    "    except FileNotFoundError:\n",
    "        pass\n",
    "\n",
    "    df.to_csv(os.path.join(rt_path , rawfile), ',', index=False , encoding='utf-8-sig')\n",
    "    df.to_parquet(os.path.join(rt_path , parqfile), engine = \"pyarrow\") \n",
    "\n",
    "else:\n",
    "    \n",
    "    pass"
   ]
  },
  {
   "cell_type": "markdown",
   "id": "e37f382e",
   "metadata": {
    "papermill": {
     "duration": null,
     "end_time": null,
     "exception": null,
     "start_time": null,
     "status": "pending"
    },
    "tags": []
   },
   "source": [
    "- Log update record with commit message and time.\n",
    "- Determine commit message and make new entry"
   ]
  },
  {
   "cell_type": "code",
   "execution_count": null,
   "id": "cbcb9070",
   "metadata": {
    "papermill": {
     "duration": null,
     "end_time": null,
     "exception": null,
     "start_time": null,
     "status": "pending"
    },
    "pycharm": {
     "name": "#%%\n"
    },
    "tags": []
   },
   "outputs": [],
   "source": [
    "log = os.path.join(rt_path, \"logs\", 'pipline_log.csv' )\n",
    "\n",
    "try:\n",
    "    log_df = pd.read_csv(log)\n",
    "except NameError:\n",
    "    print(\"No log file present\")\n",
    "\n",
    "# determine if running from notebook or Excel controller and set commit message.\n",
    "if sys.argv[1] == \"-f\":\n",
    "    message = commit_message\n",
    "else:\n",
    "    piperunner = os.path.join(scriptpath, xls_runner)\n",
    "    wb = openpyxl.load_workbook(piperunner)\n",
    "    sh = wb['Pipeline Runner']\n",
    "    message = {sh['f13'].value}\n",
    "\n",
    "# find username\n",
    "username = getpass.getuser()\n",
    "\n",
    "# file links\n",
    "rawlink = f'=HYPERLINK(\"{os.path.join(rawpath,rawhistfile)}\")'\n",
    "locallink = f'=HYPERLINK(\"{os.path.join(localpath,localhistfile)}\")'\n",
    "eurolink = f'=HYPERLINK(\"{os.path.join(europath,eurohistfile)}\")'\n",
    "\n",
    "# record timestamp\n",
    "datetime = inst_datetime\n",
    "dateformat = datetime[4:8] + '-' + datetime[:2]  + '-' + datetime[2:4]  + '-' + datetime[8:]\n",
    "\n",
    "# add new line\n",
    "newline = { \"run_message\" : [message ],  \"datetime\" :[dateformat], \"user\" : [username ],\n",
    "          \n",
    "          \"raw_archive\" : [rawlink] ,\"local_archive\" :\t[locallink],\"euro_archive\" : [eurolink] }\n",
    "\n",
    "\n",
    "newline = pd.DataFrame.from_dict(newline)\n",
    "\n",
    "# make new file\n",
    "log_df = log_df.append(newline[0:])\n",
    "log_df\n",
    "log_df.to_csv(log, ',', index=False , encoding='utf-8-sig')\n"
   ]
  },
  {
   "cell_type": "markdown",
   "id": "f77d06c6",
   "metadata": {
    "papermill": {
     "duration": null,
     "end_time": null,
     "exception": null,
     "start_time": null,
     "status": "pending"
    },
    "tags": []
   },
   "source": [
    "#### Store the DataFrame for other noteboks to use"
   ]
  },
  {
   "cell_type": "code",
   "execution_count": null,
   "id": "de17f80e",
   "metadata": {
    "papermill": {
     "duration": null,
     "end_time": null,
     "exception": null,
     "start_time": null,
     "status": "pending"
    },
    "tags": []
   },
   "outputs": [],
   "source": [
    "read_dc_df = df\n",
    "\n",
    "%store read_dc_df\n"
   ]
  }
 ],
 "metadata": {
  "celltoolbar": "Tags",
  "kernelspec": {
   "display_name": "Python 3",
   "language": "python",
   "name": "python3"
  },
  "language_info": {
   "codemirror_mode": {
    "name": "ipython",
    "version": 3
   },
   "file_extension": ".py",
   "mimetype": "text/x-python",
   "name": "python",
   "nbconvert_exporter": "python",
   "pygments_lexer": "ipython3",
   "version": "3.7.6"
  },
  "papermill": {
   "default_parameters": {},
   "duration": 63.017143,
   "end_time": "2021-05-26T14:06:28.890122",
   "environment_variables": {},
   "exception": true,
   "input_path": "pipeline/read_dc.ipynb",
   "output_path": "//hecate/Insurance_US/Product Development/Product Management/Global PPM/Reporting/Data Collection/Pipeline Reporting Scripts/GPMpipeline/instances/2021.Q1\\pipeline\\read_dc05262021100343--Aus Problem.ipynb",
   "parameters": {
    "commit_message": "New AUS needed to be converted from json",
    "inst_datetime": "05262021100343",
    "percode": "2021.Q1",
    "run_control": 1
   },
   "start_time": "2021-05-26T14:05:25.872979",
   "version": "2.3.3"
  }
 },
 "nbformat": 4,
 "nbformat_minor": 5
}