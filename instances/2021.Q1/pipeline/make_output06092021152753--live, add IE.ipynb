{
 "cells": [
  {
   "cell_type": "markdown",
   "id": "ddd01b63",
   "metadata": {
    "papermill": {
     "duration": 0.460902,
     "end_time": "2021-06-09T19:54:39.840770",
     "exception": false,
     "start_time": "2021-06-09T19:54:39.379868",
     "status": "completed"
    },
    "pycharm": {
     "name": "#%% md\n"
    },
    "tags": []
   },
   "source": [
    "<img src=\"../images/AzPTravel_PPM.png\">"
   ]
  },
  {
   "cell_type": "markdown",
   "id": "bb9ff4a7",
   "metadata": {
    "papermill": {
     "duration": 0.402222,
     "end_time": "2021-06-09T19:54:40.779635",
     "exception": false,
     "start_time": "2021-06-09T19:54:40.377413",
     "status": "completed"
    },
    "tags": []
   },
   "source": [
    "## GPM Pipeline Output maker\n",
    "\n",
    "#### This script\n",
    "- loads the transformed parquet file\n",
    "- creates the file {parquet}.localcur.csv\n",
    "- makes the Euro conversions\n",
    "- outputs {parquet}.euroconv.csv\n"
   ]
  },
  {
   "cell_type": "markdown",
   "id": "942806ac",
   "metadata": {
    "papermill": {
     "duration": 0.410895,
     "end_time": "2021-06-09T19:54:41.712204",
     "exception": false,
     "start_time": "2021-06-09T19:54:41.301309",
     "status": "completed"
    },
    "tags": []
   },
   "source": [
    "#### Parameters section"
   ]
  },
  {
   "cell_type": "code",
   "execution_count": 1,
   "id": "6899bc9b",
   "metadata": {
    "execution": {
     "iopub.execute_input": "2021-06-09T19:54:42.426111Z",
     "iopub.status.busy": "2021-06-09T19:54:42.417111Z",
     "iopub.status.idle": "2021-06-09T19:54:42.432110Z",
     "shell.execute_reply": "2021-06-09T19:54:42.491110Z"
    },
    "papermill": {
     "duration": 0.430942,
     "end_time": "2021-06-09T19:54:42.491110",
     "exception": false,
     "start_time": "2021-06-09T19:54:42.060168",
     "status": "completed"
    },
    "pycharm": {
     "name": "#%%\n"
    },
    "tags": [
     "parameters"
    ]
   },
   "outputs": [],
   "source": [
    "commit = \"\"\n",
    "# give a reason for the run\n",
    "\n",
    "percode = \"20XX.QX\"\n",
    "# Data Collection Code, this controls file paths and output names\n",
    "\n",
    "run_type = 1\n",
    "#run_type =  0 - lite run with no reporting, not recommended.\n",
    "#run_type =  1 - lite run with normal reporting, default setting.\n",
    "#run_type =  2 - Heavy run with full reporting, available for audits and troubleshooting.\n",
    "\n",
    "specialchars = \"-GTHtest\"\n",
    "# optional - add up to a 12 character code in order to mark your instance record .ipynb\n",
    "\n",
    "from datetime import datetime\n",
    "inst_datetime = datetime.now().strftime(\"%m%d%Y%H%M%S\")\n",
    "# a single datetime stamp for the full instance run\n"
   ]
  },
  {
   "cell_type": "code",
   "execution_count": 2,
   "id": "757c10bf",
   "metadata": {
    "execution": {
     "iopub.execute_input": "2021-06-09T19:54:43.443453Z",
     "iopub.status.busy": "2021-06-09T19:54:43.442451Z",
     "iopub.status.idle": "2021-06-09T19:54:43.448451Z",
     "shell.execute_reply": "2021-06-09T19:54:43.450449Z"
    },
    "papermill": {
     "duration": 0.480511,
     "end_time": "2021-06-09T19:54:43.450449",
     "exception": false,
     "start_time": "2021-06-09T19:54:42.969938",
     "status": "completed"
    },
    "tags": [
     "injected-parameters"
    ]
   },
   "outputs": [],
   "source": [
    "# Parameters\n",
    "run_control = 1\n",
    "percode = \"2021.Q1\"\n",
    "commit_message = \"Live run,Late additions EI was not present.\"\n",
    "inst_datetime = \"06092021152753\"\n"
   ]
  },
  {
   "cell_type": "markdown",
   "id": "921b107d",
   "metadata": {
    "papermill": {
     "duration": 0.361426,
     "end_time": "2021-06-09T19:54:44.329347",
     "exception": false,
     "start_time": "2021-06-09T19:54:43.967921",
     "status": "completed"
    },
    "tags": []
   },
   "source": [
    "### Set Run Control\n",
    "\n",
    "##### 0 - lite run with no reporting, not recommended.\n",
    "##### 1 - lite run with normal reporting, default setting.\n",
    "##### 2 - Heavy run with full reporting, available for audits and troubleshooting."
   ]
  },
  {
   "cell_type": "code",
   "execution_count": 3,
   "id": "7171c208",
   "metadata": {
    "execution": {
     "iopub.execute_input": "2021-06-09T19:54:45.296782Z",
     "iopub.status.busy": "2021-06-09T19:54:45.294797Z",
     "iopub.status.idle": "2021-06-09T19:54:45.308844Z",
     "shell.execute_reply": "2021-06-09T19:54:45.310784Z"
    },
    "papermill": {
     "duration": 0.617058,
     "end_time": "2021-06-09T19:54:45.310784",
     "exception": false,
     "start_time": "2021-06-09T19:54:44.693726",
     "status": "completed"
    },
    "pycharm": {
     "name": "#%%\n"
    },
    "tags": []
   },
   "outputs": [],
   "source": [
    "run_control = 0 # in development mode"
   ]
  },
  {
   "cell_type": "markdown",
   "id": "3be28b12",
   "metadata": {
    "papermill": {
     "duration": 0.481906,
     "end_time": "2021-06-09T19:54:46.179352",
     "exception": false,
     "start_time": "2021-06-09T19:54:45.697446",
     "status": "completed"
    },
    "tags": []
   },
   "source": [
    "#### Packages used"
   ]
  },
  {
   "cell_type": "code",
   "execution_count": 4,
   "id": "5cc026b5",
   "metadata": {
    "execution": {
     "iopub.execute_input": "2021-06-09T19:54:47.033876Z",
     "iopub.status.busy": "2021-06-09T19:54:47.030876Z",
     "iopub.status.idle": "2021-06-09T19:54:51.052129Z",
     "shell.execute_reply": "2021-06-09T19:54:51.053130Z"
    },
    "papermill": {
     "duration": 4.468242,
     "end_time": "2021-06-09T19:54:51.053130",
     "exception": false,
     "start_time": "2021-06-09T19:54:46.584888",
     "status": "completed"
    },
    "pycharm": {
     "name": "#%%\n"
    },
    "tags": []
   },
   "outputs": [],
   "source": [
    "import sys\n",
    "import os\n",
    "import pandas as pd"
   ]
  },
  {
   "cell_type": "code",
   "execution_count": 5,
   "id": "d3d86a3e",
   "metadata": {
    "execution": {
     "iopub.execute_input": "2021-06-09T19:54:51.769184Z",
     "iopub.status.busy": "2021-06-09T19:54:51.764174Z",
     "iopub.status.idle": "2021-06-09T19:54:51.775167Z",
     "shell.execute_reply": "2021-06-09T19:54:51.777169Z"
    },
    "papermill": {
     "duration": 0.37304,
     "end_time": "2021-06-09T19:54:51.777169",
     "exception": false,
     "start_time": "2021-06-09T19:54:51.404129",
     "status": "completed"
    },
    "pycharm": {
     "name": "#%%\n"
    },
    "tags": []
   },
   "outputs": [],
   "source": [
    "default_DC = \"2021.Q1\"\n",
    "\n",
    "try:\n",
    "    if sys.argv[1] == \"-f\":\n",
    "        percode = default_DC\n",
    "    else:\n",
    "        percode = sys.argv[1]\n",
    "\n",
    "except IndexError:\n",
    "    percode = default_DC\n",
    "except NameError:\n",
    "    percode = default_DC"
   ]
  },
  {
   "cell_type": "markdown",
   "id": "3cf826f9",
   "metadata": {
    "papermill": {
     "duration": 0.350113,
     "end_time": "2021-06-09T19:54:52.495029",
     "exception": false,
     "start_time": "2021-06-09T19:54:52.144916",
     "status": "completed"
    },
    "tags": []
   },
   "source": [
    "#### Convert paths and files to variables.\n",
    "#### Read data into pd DataFrames.\n",
    "#### Make paths for the live sources."
   ]
  },
  {
   "cell_type": "code",
   "execution_count": 6,
   "id": "423f5cbc",
   "metadata": {
    "execution": {
     "iopub.execute_input": "2021-06-09T19:54:53.200888Z",
     "iopub.status.busy": "2021-06-09T19:54:53.198742Z",
     "iopub.status.idle": "2021-06-09T19:54:53.205742Z",
     "shell.execute_reply": "2021-06-09T19:54:53.206740Z"
    },
    "papermill": {
     "duration": 0.350708,
     "end_time": "2021-06-09T19:54:53.207741",
     "exception": false,
     "start_time": "2021-06-09T19:54:52.857033",
     "status": "completed"
    },
    "pycharm": {
     "name": "#%%\n"
    },
    "tags": []
   },
   "outputs": [],
   "source": [
    "rt_path = os.path.join('\\\\\\\\hecate\\\\Insurance_US\\\\Product Development\\\\Product Management\\\\Global PPM\\\\Reporting\\\\Data Collection\\\\Production',percode)\n",
    "\n",
    "tempfile = os.path.join(rt_path, f'{percode}.localcur.csv')\n",
    "\n",
    "gppm_file = os.path.join(rt_path, f'GPPM_Input_{str(percode)}.xlsx')\n",
    "\n"
   ]
  },
  {
   "cell_type": "markdown",
   "id": "b068e658",
   "metadata": {
    "papermill": {
     "duration": 0.358997,
     "end_time": "2021-06-09T19:54:53.937120",
     "exception": false,
     "start_time": "2021-06-09T19:54:53.578123",
     "status": "completed"
    },
    "tags": []
   },
   "source": [
    "### Make Files"
   ]
  },
  {
   "cell_type": "code",
   "execution_count": 7,
   "id": "74473180",
   "metadata": {
    "execution": {
     "iopub.execute_input": "2021-06-09T19:54:54.668253Z",
     "iopub.status.busy": "2021-06-09T19:54:54.666261Z",
     "iopub.status.idle": "2021-06-09T19:54:54.675251Z",
     "shell.execute_reply": "2021-06-09T19:54:54.674262Z"
    },
    "papermill": {
     "duration": 0.377218,
     "end_time": "2021-06-09T19:54:54.676252",
     "exception": false,
     "start_time": "2021-06-09T19:54:54.299034",
     "status": "completed"
    },
    "tags": []
   },
   "outputs": [],
   "source": [
    "local_file = f'{percode}.localcur.csv'\n",
    "euro_file = f'{percode}.euroconv.csv'\n",
    "\n"
   ]
  },
  {
   "cell_type": "markdown",
   "id": "94033c84",
   "metadata": {
    "papermill": {
     "duration": 0.385391,
     "end_time": "2021-06-09T19:54:55.445679",
     "exception": false,
     "start_time": "2021-06-09T19:54:55.060288",
     "status": "completed"
    },
    "tags": []
   },
   "source": [
    "#### Read source"
   ]
  },
  {
   "cell_type": "code",
   "execution_count": 8,
   "id": "d17693e8",
   "metadata": {
    "execution": {
     "iopub.execute_input": "2021-06-09T19:54:56.303853Z",
     "iopub.status.busy": "2021-06-09T19:54:56.301852Z",
     "iopub.status.idle": "2021-06-09T19:55:10.655681Z",
     "shell.execute_reply": "2021-06-09T19:55:10.656681Z"
    },
    "papermill": {
     "duration": 14.755533,
     "end_time": "2021-06-09T19:55:10.657679",
     "exception": false,
     "start_time": "2021-06-09T19:54:55.902146",
     "status": "completed"
    },
    "pycharm": {
     "name": "#%%\n"
    },
    "tags": []
   },
   "outputs": [],
   "source": [
    "\n",
    "mo_input = pd.read_csv(tempfile, engine='python')\n",
    "\n",
    "\n",
    "\"\"\"reads in the input for the Euro conversion\"\"\"\n",
    "euro = pd.read_excel(gppm_file, sheet_name=\"Euro_Rates\")\n"
   ]
  },
  {
   "cell_type": "markdown",
   "id": "be07ea0f",
   "metadata": {
    "papermill": {
     "duration": 0.338999,
     "end_time": "2021-06-09T19:55:11.435194",
     "exception": false,
     "start_time": "2021-06-09T19:55:11.096195",
     "status": "completed"
    },
    "tags": []
   },
   "source": [
    "#### Output local currency csv"
   ]
  },
  {
   "cell_type": "code",
   "execution_count": 9,
   "id": "246d3d4a",
   "metadata": {
    "execution": {
     "iopub.execute_input": "2021-06-09T19:55:12.572883Z",
     "iopub.status.busy": "2021-06-09T19:55:12.570882Z",
     "iopub.status.idle": "2021-06-09T19:56:35.098790Z",
     "shell.execute_reply": "2021-06-09T19:56:35.103635Z"
    },
    "papermill": {
     "duration": 83.256325,
     "end_time": "2021-06-09T19:56:35.104146",
     "exception": false,
     "start_time": "2021-06-09T19:55:11.847821",
     "status": "completed"
    },
    "pycharm": {
     "is_executing": true,
     "name": "#%%\n"
    },
    "tags": []
   },
   "outputs": [],
   "source": [
    "mo_input.to_csv(os.path.join(rt_path,local_file), ',', index=False, encoding='utf-8-sig')"
   ]
  },
  {
   "cell_type": "markdown",
   "id": "c96321e8",
   "metadata": {
    "papermill": {
     "duration": 0.492117,
     "end_time": "2021-06-09T19:56:36.252650",
     "exception": false,
     "start_time": "2021-06-09T19:56:35.760533",
     "status": "completed"
    },
    "tags": []
   },
   "source": [
    "#### Convert all currency to Euro\n"
   ]
  },
  {
   "cell_type": "code",
   "execution_count": 10,
   "id": "61a20f54",
   "metadata": {
    "execution": {
     "iopub.execute_input": "2021-06-09T19:56:37.422658Z",
     "iopub.status.busy": "2021-06-09T19:56:37.422658Z",
     "iopub.status.idle": "2021-06-09T19:56:37.439917Z",
     "shell.execute_reply": "2021-06-09T19:56:37.439917Z"
    },
    "papermill": {
     "duration": 0.537545,
     "end_time": "2021-06-09T19:56:37.439917",
     "exception": false,
     "start_time": "2021-06-09T19:56:36.902372",
     "status": "completed"
    },
    "pycharm": {
     "is_executing": true,
     "name": "#%%\n"
    },
    "tags": []
   },
   "outputs": [],
   "source": [
    "\n",
    "\n",
    "cflds = ['written_revenues_net_of_taxes', 'written_revenues', 'earned_revenues_net_of_taxes',\n",
    "         'earned_revenues', 'earned_base_commissions', 'earned_over_commissions', 'upfront_cash_payments',\n",
    "         'total_compensation', 'paid_claims', 'ocr__ibnr', 'actual_incurred_losses',\n",
    "         'internal_variable_costs', 'az_tech_fee', 'internal_fixed_costs',\n",
    "         'hq_fees', 'total_expenses', 'risk_premium', 'profit_or_loss', 'cm_hq_view', 'cm_bu_view', ]\n",
    "\n",
    "alt_cflds = ['written_revenues_net_of_taxes', 'written_revenues', 'earned_revenues_net_of_taxes',\n",
    "         'earned_revenues', 'earned_base_commissions', 'earned_over-commissions', 'upfront_cash_payments',\n",
    "         'total_compensation', 'paid_claims', 'ocr_+_ibnr','actual_incurred_losses_(paid_+_ocr_+_ibnr)',\n",
    "         'internal_variable_costs_(excl._az_tech_fee)', 'az_tech_fee', 'internal_fixed_costs_(excl._hq_fees)',\n",
    "         'hq_fees', 'total_expenses', 'risk_premium', 'profit_or_loss', 'contribution_margin_-_hq_view', 'contribution_margin_-_bu_view', ]\n",
    "\n",
    "\n",
    "\n"
   ]
  },
  {
   "cell_type": "markdown",
   "id": "8272a18c",
   "metadata": {
    "papermill": {
     "duration": 0.348061,
     "end_time": "2021-06-09T19:56:38.258052",
     "exception": false,
     "start_time": "2021-06-09T19:56:37.909991",
     "status": "completed"
    },
    "tags": []
   },
   "source": [
    "#### Make a copy for debug purposes"
   ]
  },
  {
   "cell_type": "code",
   "execution_count": 11,
   "id": "f3667323",
   "metadata": {
    "execution": {
     "iopub.execute_input": "2021-06-09T19:56:39.225081Z",
     "iopub.status.busy": "2021-06-09T19:56:39.225081Z",
     "iopub.status.idle": "2021-06-09T19:56:39.256351Z",
     "shell.execute_reply": "2021-06-09T19:56:39.256351Z"
    },
    "papermill": {
     "duration": 0.51988,
     "end_time": "2021-06-09T19:56:39.256351",
     "exception": false,
     "start_time": "2021-06-09T19:56:38.736471",
     "status": "completed"
    },
    "pycharm": {
     "is_executing": true,
     "name": "#%%\n"
    },
    "tags": []
   },
   "outputs": [],
   "source": [
    "trandata = mo_input.copy()"
   ]
  },
  {
   "cell_type": "markdown",
   "id": "4482276c",
   "metadata": {
    "papermill": {
     "duration": 0.436408,
     "end_time": "2021-06-09T19:56:40.274256",
     "exception": false,
     "start_time": "2021-06-09T19:56:39.837848",
     "status": "completed"
    },
    "tags": []
   },
   "source": [
    "#### Convert Currency Below"
   ]
  },
  {
   "cell_type": "code",
   "execution_count": 12,
   "id": "9d5ba636",
   "metadata": {
    "execution": {
     "iopub.execute_input": "2021-06-09T19:56:41.334428Z",
     "iopub.status.busy": "2021-06-09T19:56:41.328427Z",
     "iopub.status.idle": "2021-06-09T19:56:41.339427Z",
     "shell.execute_reply": "2021-06-09T19:56:41.340425Z"
    },
    "papermill": {
     "duration": 0.596226,
     "end_time": "2021-06-09T19:56:41.341427",
     "exception": false,
     "start_time": "2021-06-09T19:56:40.745201",
     "status": "completed"
    },
    "pycharm": {
     "is_executing": true,
     "name": "#%%\n"
    },
    "tags": []
   },
   "outputs": [],
   "source": [
    "# create DataFrame of unique currencies with rates\n",
    "\n",
    "fx_uni = euro[['CURR_CODE','RATE']]\n",
    "fx_uni = fx_uni.drop_duplicates()"
   ]
  },
  {
   "cell_type": "code",
   "execution_count": 13,
   "id": "4528bd32",
   "metadata": {
    "execution": {
     "iopub.execute_input": "2021-06-09T19:56:42.813535Z",
     "iopub.status.busy": "2021-06-09T19:56:42.803536Z",
     "iopub.status.idle": "2021-06-09T19:56:42.985532Z",
     "shell.execute_reply": "2021-06-09T19:56:42.986531Z"
    },
    "papermill": {
     "duration": 0.905157,
     "end_time": "2021-06-09T19:56:42.986531",
     "exception": false,
     "start_time": "2021-06-09T19:56:42.081374",
     "status": "completed"
    },
    "pycharm": {
     "is_executing": true,
     "name": "#%%\n"
    },
    "tags": []
   },
   "outputs": [],
   "source": [
    "# add euro conversion rates to trandata DataFrame as column 'eur_rate'\n",
    "\n",
    "fx_uni = fx_uni.rename(columns = {\"CURR_CODE\":\"currency\"})\n",
    "\n",
    "eurdata = trandata.merge(fx_uni, how='left', left_on='currency', right_on='currency')\n",
    "\n",
    "\n",
    "trandata['eur_rate'] = eurdata['RATE']\n"
   ]
  },
  {
   "cell_type": "markdown",
   "id": "09f74c68",
   "metadata": {
    "papermill": {
     "duration": 0.627877,
     "end_time": "2021-06-09T19:56:44.260034",
     "exception": false,
     "start_time": "2021-06-09T19:56:43.632157",
     "status": "completed"
    },
    "tags": []
   },
   "source": [
    "#### Convert currency fields"
   ]
  },
  {
   "cell_type": "code",
   "execution_count": 14,
   "id": "a696949c",
   "metadata": {
    "execution": {
     "iopub.execute_input": "2021-06-09T19:56:45.277271Z",
     "iopub.status.busy": "2021-06-09T19:56:45.269270Z",
     "iopub.status.idle": "2021-06-09T19:56:45.794004Z",
     "shell.execute_reply": "2021-06-09T19:56:45.795998Z"
    },
    "papermill": {
     "duration": 0.94334,
     "end_time": "2021-06-09T19:56:45.795998",
     "exception": false,
     "start_time": "2021-06-09T19:56:44.852658",
     "status": "completed"
    },
    "pycharm": {
     "is_executing": true,
     "name": "#%%\n"
    },
    "tags": []
   },
   "outputs": [],
   "source": [
    "try:\n",
    "    trandata[cflds] = trandata[cflds].divide(trandata['eur_rate'], axis=\"index\").fillna(0)\n",
    "\n",
    "except KeyError:\n",
    "    trandata[alt_cflds] = trandata[alt_cflds].divide(trandata['eur_rate'], axis=\"index\").fillna(0)\n",
    "\n",
    "    \n"
   ]
  },
  {
   "cell_type": "markdown",
   "id": "6a5e5b29",
   "metadata": {
    "papermill": {
     "duration": 0.445998,
     "end_time": "2021-06-09T19:56:46.637433",
     "exception": false,
     "start_time": "2021-06-09T19:56:46.191435",
     "status": "completed"
    },
    "tags": []
   },
   "source": [
    "#### Output to {percode}.euroconv.csv"
   ]
  },
  {
   "cell_type": "code",
   "execution_count": 15,
   "id": "7088d551",
   "metadata": {
    "execution": {
     "iopub.execute_input": "2021-06-09T19:56:47.475237Z",
     "iopub.status.busy": "2021-06-09T19:56:47.471233Z",
     "iopub.status.idle": "2021-06-09T19:58:07.322051Z",
     "shell.execute_reply": "2021-06-09T19:58:07.323053Z"
    },
    "papermill": {
     "duration": 80.294615,
     "end_time": "2021-06-09T19:58:07.324050",
     "exception": false,
     "start_time": "2021-06-09T19:56:47.029435",
     "status": "completed"
    },
    "pycharm": {
     "is_executing": true,
     "name": "#%%\n"
    },
    "tags": []
   },
   "outputs": [],
   "source": [
    "trandata.to_csv( os.path.join(   rt_path , euro_file) , ',', index=False, encoding='utf-8-sig')\n"
   ]
  },
  {
   "cell_type": "code",
   "execution_count": 16,
   "id": "3e1a0190",
   "metadata": {
    "execution": {
     "iopub.execute_input": "2021-06-09T19:58:08.342860Z",
     "iopub.status.busy": "2021-06-09T19:58:08.338860Z",
     "iopub.status.idle": "2021-06-09T19:58:08.349859Z",
     "shell.execute_reply": "2021-06-09T19:58:08.347859Z"
    },
    "papermill": {
     "duration": 0.511997,
     "end_time": "2021-06-09T19:58:08.349859",
     "exception": false,
     "start_time": "2021-06-09T19:58:07.837862",
     "status": "completed"
    },
    "tags": []
   },
   "outputs": [],
   "source": [
    "#### Store the DataFrame for other notebooks to use and open the file location for the user to view the new files"
   ]
  },
  {
   "cell_type": "code",
   "execution_count": 17,
   "id": "1e869651",
   "metadata": {
    "execution": {
     "iopub.execute_input": "2021-06-09T19:58:09.237797Z",
     "iopub.status.busy": "2021-06-09T19:58:09.232797Z",
     "iopub.status.idle": "2021-06-09T19:58:09.884259Z",
     "shell.execute_reply": "2021-06-09T19:58:09.885259Z"
    },
    "papermill": {
     "duration": 1.108462,
     "end_time": "2021-06-09T19:58:09.886256",
     "exception": false,
     "start_time": "2021-06-09T19:58:08.777794",
     "status": "completed"
    },
    "tags": []
   },
   "outputs": [
    {
     "name": "stdout",
     "output_type": "stream",
     "text": [
      "Stored 'mo_df' (DataFrame)\n"
     ]
    }
   ],
   "source": [
    "mo_df = trandata\n",
    "\n",
    "%store mo_df\n",
    "\n",
    "\n",
    "os.startfile( rt_path   )\n",
    "\n"
   ]
  },
  {
   "cell_type": "code",
   "execution_count": null,
   "id": "1018b909",
   "metadata": {
    "papermill": {
     "duration": 0.554648,
     "end_time": "2021-06-09T19:58:11.050905",
     "exception": false,
     "start_time": "2021-06-09T19:58:10.496257",
     "status": "completed"
    },
    "tags": []
   },
   "outputs": [],
   "source": []
  }
 ],
 "metadata": {
  "celltoolbar": "Tags",
  "kernelspec": {
   "display_name": "Python 3",
   "language": "python",
   "name": "python3"
  },
  "language_info": {
   "codemirror_mode": {
    "name": "ipython",
    "version": 3
   },
   "file_extension": ".py",
   "mimetype": "text/x-python",
   "name": "python",
   "nbconvert_exporter": "python",
   "pygments_lexer": "ipython3",
   "version": "3.7.6"
  },
  "papermill": {
   "default_parameters": {},
   "duration": 243.790261,
   "end_time": "2021-06-09T19:58:13.429726",
   "environment_variables": {},
   "exception": null,
   "input_path": "pipeline/make_output.ipynb",
   "output_path": "//hecate/Insurance_US/Product Development/Product Management/Global PPM/Reporting/Data Collection/Pipeline Reporting Scripts/GPMpipeline/instances/2021.Q1\\pipeline\\make_output06092021152753--live, add IE.ipynb",
   "parameters": {
    "commit_message": "Live run,Late additions EI was not present.",
    "inst_datetime": "06092021152753",
    "percode": "2021.Q1",
    "run_control": 1
   },
   "start_time": "2021-06-09T19:54:09.639465",
   "version": "2.3.3"
  }
 },
 "nbformat": 4,
 "nbformat_minor": 5
}