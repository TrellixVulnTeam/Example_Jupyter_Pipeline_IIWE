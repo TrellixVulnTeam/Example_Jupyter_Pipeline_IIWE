{
 "cells": [
  {
   "cell_type": "markdown",
   "id": "06c86dd6",
   "metadata": {
    "papermill": {
     "duration": 0.281837,
     "end_time": "2021-05-25T19:28:36.501381",
     "exception": false,
     "start_time": "2021-05-25T19:28:36.219544",
     "status": "completed"
    },
    "tags": []
   },
   "source": [
    "<img src=\"../images/AzPTravel_PPM.png\">"
   ]
  },
  {
   "cell_type": "markdown",
   "id": "0e05b484",
   "metadata": {
    "papermill": {
     "duration": 0.264534,
     "end_time": "2021-05-25T19:28:37.032971",
     "exception": false,
     "start_time": "2021-05-25T19:28:36.768437",
     "status": "completed"
    },
    "pycharm": {
     "name": "#%% md\n"
    },
    "tags": []
   },
   "source": [
    "## Read in Data Collection Source\n",
    "\n",
    "#### This script fetches the current data collection submission file from the completed \"prep.ipynb\" step into the pipeline.\n"
   ]
  },
  {
   "cell_type": "markdown",
   "id": "c929a682",
   "metadata": {
    "papermill": {
     "duration": 0.285199,
     "end_time": "2021-05-25T19:28:37.606164",
     "exception": false,
     "start_time": "2021-05-25T19:28:37.320965",
     "status": "completed"
    },
    "tags": []
   },
   "source": [
    "### User Variables\n",
    "- These are overwritten if inherited from run_control.ipynb.\n",
    "- Feel Free to reset them for a manual run if you like\n",
    "- Do not save without percode = \"-f\""
   ]
  },
  {
   "cell_type": "code",
   "execution_count": 1,
   "id": "5bc6e3ed",
   "metadata": {
    "execution": {
     "iopub.execute_input": "2021-05-25T19:28:38.175215Z",
     "iopub.status.busy": "2021-05-25T19:28:38.170226Z",
     "iopub.status.idle": "2021-05-25T19:28:38.180220Z",
     "shell.execute_reply": "2021-05-25T19:28:38.197950Z"
    },
    "papermill": {
     "duration": 0.313799,
     "end_time": "2021-05-25T19:28:38.198492",
     "exception": false,
     "start_time": "2021-05-25T19:28:37.884693",
     "status": "completed"
    },
    "pycharm": {
     "name": "#%%\n"
    },
    "tags": [
     "parameters"
    ]
   },
   "outputs": [],
   "source": [
    "commit_message = \"Development and testing.\"\n",
    "# Give a brief reason for the run.\n",
    "\n",
    "run_control = 1\n",
    "#run_type = 0 - Lite run with no reporting, not recommended.\n",
    "#run_type = 1 - Lite run with normal reporting, default setting.\n",
    "#run_type = 2 - Heavy run with full reporting, available for audits and troubleshooting.\n",
    "#run_type = 5 - A default setting. Indicates the script is being run by an outside process without an inherited value\n",
    "\n",
    "percode = \"2021.Q1\"\n",
    "# Data Collection Code, this controls file paths and output names\n",
    "# \"-f\" is the value indicating a bad inheritance from run with arg\n",
    "\n",
    "#----------\n",
    "# do not edit - this either inherits the full instance timestamp from the papermill book or captures the run time of this script.\n",
    "from datetime import datetime\n",
    "inst_datetime = datetime.now().strftime(\"%m%d%Y%H%M%S\")"
   ]
  },
  {
   "cell_type": "code",
   "execution_count": 2,
   "id": "e85f5aab",
   "metadata": {
    "execution": {
     "iopub.execute_input": "2021-05-25T19:28:38.753328Z",
     "iopub.status.busy": "2021-05-25T19:28:38.746794Z",
     "iopub.status.idle": "2021-05-25T19:28:38.761326Z",
     "shell.execute_reply": "2021-05-25T19:28:38.763336Z"
    },
    "papermill": {
     "duration": 0.282586,
     "end_time": "2021-05-25T19:28:38.763336",
     "exception": false,
     "start_time": "2021-05-25T19:28:38.480750",
     "status": "completed"
    },
    "tags": [
     "injected-parameters"
    ]
   },
   "outputs": [],
   "source": [
    "# Parameters\n",
    "run_control = 1\n",
    "percode = \"2021.Q1\"\n",
    "commit_message = \"Edited data for Austraila, json 2 parquet and add comments from email. Begin general evaluation of data submissions.\"\n",
    "inst_datetime = \"05252021152647\"\n"
   ]
  },
  {
   "cell_type": "markdown",
   "id": "29d74811",
   "metadata": {
    "papermill": {
     "duration": 0.283985,
     "end_time": "2021-05-25T19:28:39.316942",
     "exception": false,
     "start_time": "2021-05-25T19:28:39.032957",
     "status": "completed"
    },
    "tags": []
   },
   "source": [
    "#### import packages"
   ]
  },
  {
   "cell_type": "code",
   "execution_count": 3,
   "id": "9cf57e81",
   "metadata": {
    "execution": {
     "iopub.execute_input": "2021-05-25T19:28:39.880584Z",
     "iopub.status.busy": "2021-05-25T19:28:39.873583Z",
     "iopub.status.idle": "2021-05-25T19:28:48.833291Z",
     "shell.execute_reply": "2021-05-25T19:28:48.836284Z"
    },
    "papermill": {
     "duration": 9.263694,
     "end_time": "2021-05-25T19:28:48.836284",
     "exception": false,
     "start_time": "2021-05-25T19:28:39.572590",
     "status": "completed"
    },
    "pycharm": {
     "name": "#%%\n"
    },
    "tags": []
   },
   "outputs": [],
   "source": [
    "import os # System commands\n",
    "import sys # System commands\n",
    "\n",
    "import getpass # parquet file read/write\n",
    "import json # json file read/write\n",
    "from sklearn import datasets # pass vars between .ipynb s\n",
    "\n",
    "import matplotlib.pyplot as plt #Plots and Graphs\n",
    "import pandas as pd #DataFrame and math\n"
   ]
  },
  {
   "cell_type": "markdown",
   "id": "7cbd4269",
   "metadata": {
    "papermill": {
     "duration": 0.267998,
     "end_time": "2021-05-25T19:28:49.377799",
     "exception": false,
     "start_time": "2021-05-25T19:28:49.109801",
     "status": "completed"
    },
    "tags": []
   },
   "source": [
    "#### Default Variables, these govern logic, do not edit."
   ]
  },
  {
   "cell_type": "code",
   "execution_count": 4,
   "id": "b8baf557",
   "metadata": {
    "execution": {
     "iopub.execute_input": "2021-05-25T19:28:49.875764Z",
     "iopub.status.busy": "2021-05-25T19:28:49.874758Z",
     "iopub.status.idle": "2021-05-25T19:28:49.883760Z",
     "shell.execute_reply": "2021-05-25T19:28:49.884760Z"
    },
    "papermill": {
     "duration": 0.261774,
     "end_time": "2021-05-25T19:28:49.885757",
     "exception": false,
     "start_time": "2021-05-25T19:28:49.623983",
     "status": "completed"
    },
    "pycharm": {
     "name": "#%%\n"
    },
    "tags": []
   },
   "outputs": [],
   "source": [
    "default_dc = \"20XX.QX\"\n",
    "default_rc = 0 #extra lite mode\n",
    "dummy_perc = \"33Q3\" # bad inheritance"
   ]
  },
  {
   "cell_type": "markdown",
   "id": "d596e10c",
   "metadata": {
    "papermill": {
     "duration": 0.253924,
     "end_time": "2021-05-25T19:28:50.412848",
     "exception": false,
     "start_time": "2021-05-25T19:28:50.158924",
     "status": "completed"
    },
    "pycharm": {
     "name": "#%% md\n"
    },
    "tags": []
   },
   "source": [
    "#### Script determining run context ie, manual, run_control.ipynb, or other."
   ]
  },
  {
   "cell_type": "code",
   "execution_count": 5,
   "id": "8455a535",
   "metadata": {
    "execution": {
     "iopub.execute_input": "2021-05-25T19:28:50.959263Z",
     "iopub.status.busy": "2021-05-25T19:28:50.950265Z",
     "iopub.status.idle": "2021-05-25T19:28:50.967262Z",
     "shell.execute_reply": "2021-05-25T19:28:50.966262Z"
    },
    "papermill": {
     "duration": 0.271533,
     "end_time": "2021-05-25T19:28:50.968265",
     "exception": false,
     "start_time": "2021-05-25T19:28:50.696732",
     "status": "completed"
    },
    "pycharm": {
     "name": "#%%\n"
    },
    "tags": [
     "parameters"
    ]
   },
   "outputs": [],
   "source": [
    "if run_control == 5:\n",
    "    \n",
    "    run_control = default_rc\n",
    "    \n",
    "else:\n",
    "    \n",
    "    run_control = run_control\n",
    "\n",
    "try:\n",
    "    \n",
    "    if sys.argv[1] == \"-f\":\n",
    "        \n",
    "        percode = percode\n",
    "        \n",
    "    else:\n",
    "        \n",
    "        percode = sys.argv[1]\n",
    "\n",
    "except IndexError:\n",
    "    \n",
    "    percode = default_dc\n",
    "\n",
    "except NameError:\n",
    "\n",
    "    percode = default_dc\n"
   ]
  },
  {
   "cell_type": "markdown",
   "id": "4d7fb2dd",
   "metadata": {
    "papermill": {
     "duration": 0.259011,
     "end_time": "2021-05-25T19:28:51.485303",
     "exception": false,
     "start_time": "2021-05-25T19:28:51.226292",
     "status": "completed"
    },
    "tags": []
   },
   "source": [
    "#### style settings"
   ]
  },
  {
   "cell_type": "code",
   "execution_count": 6,
   "id": "3aec2aed",
   "metadata": {
    "execution": {
     "iopub.execute_input": "2021-05-25T19:28:51.988256Z",
     "iopub.status.busy": "2021-05-25T19:28:51.985245Z",
     "iopub.status.idle": "2021-05-25T19:28:51.994246Z",
     "shell.execute_reply": "2021-05-25T19:28:51.995246Z"
    },
    "papermill": {
     "duration": 0.257199,
     "end_time": "2021-05-25T19:28:51.996248",
     "exception": false,
     "start_time": "2021-05-25T19:28:51.739049",
     "status": "completed"
    },
    "tags": []
   },
   "outputs": [],
   "source": [
    "from IPython.core.interactiveshell import InteractiveShell\n",
    "InteractiveShell.ast_node_interactivity = \"all\""
   ]
  },
  {
   "cell_type": "markdown",
   "id": "d6dd5fb6",
   "metadata": {
    "papermill": {
     "duration": 0.251743,
     "end_time": "2021-05-25T19:28:52.498357",
     "exception": false,
     "start_time": "2021-05-25T19:28:52.246614",
     "status": "completed"
    },
    "pycharm": {
     "name": "#%% md\n"
    },
    "tags": []
   },
   "source": [
    "#### Make paths for the source folder"
   ]
  },
  {
   "cell_type": "code",
   "execution_count": 7,
   "id": "5dc52c01",
   "metadata": {
    "execution": {
     "iopub.execute_input": "2021-05-25T19:28:53.017696Z",
     "iopub.status.busy": "2021-05-25T19:28:53.011700Z",
     "iopub.status.idle": "2021-05-25T19:28:53.024701Z",
     "shell.execute_reply": "2021-05-25T19:28:53.025698Z"
    },
    "papermill": {
     "duration": 0.268273,
     "end_time": "2021-05-25T19:28:53.025698",
     "exception": false,
     "start_time": "2021-05-25T19:28:52.757425",
     "status": "completed"
    },
    "pycharm": {
     "name": "#%%\n"
    },
    "tags": []
   },
   "outputs": [],
   "source": [
    "rt_path = os.path.join(f'\\\\\\\\hecate\\Insurance_US\\Product Development\\Product Management\\Global PPM\\Reporting\\Data Collection\\Production',percode)\n",
    "\n",
    "#archive folders\n",
    "rawpath = os.path.join(rt_path, \"logs\", \"raw_data_file_history\")\n",
    "localpath = os.path.join(rt_path, \"logs\", \"local_currency_source_history\")\n",
    "europath = os.path.join(rt_path, \"logs\", \"euro_source_history\")\n",
    "\n",
    "#script folder\n",
    "scriptpath = os.path.abspath(os.path.join(rt_path, '..', '..', \"Pipeline Reporting Scripts\",\"GPMpipeline\"))\n",
    "\n",
    "piperunner = '//hecate/Insurance_US/Product Development/Product Management/Global PPM/Reporting/_Tools/GitHub/Production Repositories/Pipeline Runner/Pipeline Runner.xlsm'\n"
   ]
  },
  {
   "cell_type": "markdown",
   "id": "12a73576",
   "metadata": {
    "papermill": {
     "duration": 0.260979,
     "end_time": "2021-05-25T19:28:53.548676",
     "exception": false,
     "start_time": "2021-05-25T19:28:53.287697",
     "status": "completed"
    },
    "tags": []
   },
   "source": [
    "#### Set file variables"
   ]
  },
  {
   "cell_type": "code",
   "execution_count": 8,
   "id": "16cc1d0a",
   "metadata": {
    "execution": {
     "iopub.execute_input": "2021-05-25T19:28:54.060390Z",
     "iopub.status.busy": "2021-05-25T19:28:54.053394Z",
     "iopub.status.idle": "2021-05-25T19:28:54.067392Z",
     "shell.execute_reply": "2021-05-25T19:28:54.068390Z"
    },
    "papermill": {
     "duration": 0.261197,
     "end_time": "2021-05-25T19:28:54.069389",
     "exception": false,
     "start_time": "2021-05-25T19:28:53.808192",
     "status": "completed"
    },
    "tags": []
   },
   "outputs": [],
   "source": [
    "rawfile = f'{str(percode)}.csv'\n",
    "parqfile = f'{str(percode)}.parquet'\n",
    "rawhistfile = f'{percode}_{inst_datetime}.csv'\n",
    "\n",
    "prepfile = f\"{percode}prep.csv\"\n",
    "prepparq = f\"{percode}prep.parquet\"\n",
    "prephistfile = f'{percode}_{inst_datetime}prep.csv'\n",
    "\n",
    "localfile = f'{percode}.localcur.csv'\n",
    "localhistfile = f'{percode}.localcur_{inst_datetime}.csv'\n",
    "\n",
    "eurofile = f'{percode}.euroconv.csv'\n",
    "eurohistfile = f'{percode}.euroconv_{inst_datetime}.csv'\n",
    "\n",
    "xls_runner = 'Pipeline Runner.xlsm'\n",
    "\n"
   ]
  },
  {
   "cell_type": "markdown",
   "id": "7d9e550b",
   "metadata": {
    "papermill": {
     "duration": 0.261146,
     "end_time": "2021-05-25T19:28:54.576343",
     "exception": false,
     "start_time": "2021-05-25T19:28:54.315197",
     "status": "completed"
    },
    "pycharm": {
     "name": "#%% md\n"
    },
    "tags": []
   },
   "source": [
    "- Read each json file into temp DataFrame \"data\".\n",
    "- Prep actions - Strip (trim) leading and trailing spaces values in string columns, remove rows without business units.\n",
    "- Append each json output to into 1 DataFrame \"df\".\n",
    "- Process Cleanup, the indices restart with each append, reset and drop the previous."
   ]
  },
  {
   "cell_type": "code",
   "execution_count": 9,
   "id": "d9053d1f",
   "metadata": {
    "execution": {
     "iopub.execute_input": "2021-05-25T19:28:55.106948Z",
     "iopub.status.busy": "2021-05-25T19:28:55.089943Z",
     "iopub.status.idle": "2021-05-25T19:28:55.140940Z",
     "shell.execute_reply": "2021-05-25T19:28:55.142938Z"
    },
    "papermill": {
     "duration": 0.316064,
     "end_time": "2021-05-25T19:28:55.143938",
     "exception": false,
     "start_time": "2021-05-25T19:28:54.827874",
     "status": "completed"
    },
    "pycharm": {
     "name": "#%%\n"
    },
    "tags": []
   },
   "outputs": [],
   "source": [
    "\n",
    "try:\n",
    "    %store -r prep_df\n",
    "    df = prep_df\n",
    "\n",
    "except:\n",
    "    \n",
    "    try:\n",
    "        df = pd.read_parquet(os.path.join(rt_path,prepparq), engine = \"pyarrow\")\n",
    "    \n",
    "    except:\n",
    "        df = pd.read_csv(os.path.join(rt_path,prepfile) )\n",
    "\n",
    "if run_control > 0:\n",
    "     \n",
    "    try:\n",
    "        os.remove(prepfile)\n",
    "    \n",
    "    except FileNotFoundError:\n",
    "        pass\n",
    "    \n",
    "    try:\n",
    "        os.remove(prepparq)\n",
    "\n",
    "    except FileNotFoundError:\n",
    "        pass\n",
    "        \n",
    "else:\n",
    "\n",
    "    pass"
   ]
  },
  {
   "cell_type": "markdown",
   "id": "9dc77c3e",
   "metadata": {
    "papermill": {
     "duration": 0.244346,
     "end_time": "2021-05-25T19:28:55.657943",
     "exception": false,
     "start_time": "2021-05-25T19:28:55.413597",
     "status": "completed"
    },
    "pycharm": {
     "name": "#%% md\n"
    },
    "tags": []
   },
   "source": [
    "#### Upload Charts"
   ]
  },
  {
   "cell_type": "code",
   "execution_count": 10,
   "id": "313bfb72",
   "metadata": {
    "execution": {
     "iopub.execute_input": "2021-05-25T19:28:56.160666Z",
     "iopub.status.busy": "2021-05-25T19:28:56.157666Z",
     "iopub.status.idle": "2021-05-25T19:28:57.059404Z",
     "shell.execute_reply": "2021-05-25T19:28:57.060413Z"
    },
    "papermill": {
     "duration": 1.173459,
     "end_time": "2021-05-25T19:28:57.061407",
     "exception": false,
     "start_time": "2021-05-25T19:28:55.887948",
     "status": "completed"
    },
    "pycharm": {
     "name": "#%%\n"
    },
    "tags": []
   },
   "outputs": [
    {
     "data": {
      "text/plain": [
       "<BarContainer object of 7 artists>"
      ]
     },
     "execution_count": 10,
     "metadata": {},
     "output_type": "execute_result"
    },
    {
     "data": {
      "text/plain": [
       "Text(0.5, 1.0, 'Earned Revenue net of Taxes by BU in thousands LC')"
      ]
     },
     "execution_count": 10,
     "metadata": {},
     "output_type": "execute_result"
    },
    {
     "data": {
      "image/png": "[encoded data removed]",
      "text/plain": [
       "<Figure size 432x288 with 1 Axes>"
      ]
     },
     "metadata": {
      "needs_background": "light"
     },
     "output_type": "display_data"
    },
    {
     "data": {
      "text/plain": [
       "<BarContainer object of 7 artists>"
      ]
     },
     "execution_count": 10,
     "metadata": {},
     "output_type": "execute_result"
    },
    {
     "data": {
      "text/plain": [
       "Text(0.5, 1.0, 'Row Counts by BU')"
      ]
     },
     "execution_count": 10,
     "metadata": {},
     "output_type": "execute_result"
    },
    {
     "data": {
      "image/png": "[encoded data removed]",
      "text/plain": [
       "<Figure size 432x288 with 1 Axes>"
      ]
     },
     "metadata": {
      "needs_background": "light"
     },
     "output_type": "display_data"
    }
   ],
   "source": [
    "def num_format(x):\n",
    "    \"\"\"number format without a currency\"\"\"\n",
    "    return \"{:,.0f}\".format(x)\n",
    "\n",
    "if run_control > 0:\n",
    "\n",
    "    sumdata = df.groupby(['Business Unit']).sum()\n",
    "    sumdata = sumdata.reset_index()\n",
    "    plt.bar(sumdata['Business Unit'], sumdata['Earned Revenues net of Taxes']/1000)\n",
    "    plt.title('Earned Revenue net of Taxes by BU in thousands LC')\n",
    "    plt.show()\n",
    "\n",
    "    countdata = df.groupby(['Business Unit']).count()\n",
    "    countdata = countdata.reset_index()\n",
    "    plt.bar(countdata['Business Unit'], countdata['Earned Revenues net of Taxes'])\n",
    "    plt.title('Row Counts by BU')\n",
    "    plt.show()\n",
    "\n",
    "else:\n",
    "    print(\"Charts Skipped\")"
   ]
  },
  {
   "cell_type": "markdown",
   "id": "2a1ef962",
   "metadata": {
    "papermill": {
     "duration": 0.298129,
     "end_time": "2021-05-25T19:28:57.628531",
     "exception": false,
     "start_time": "2021-05-25T19:28:57.330402",
     "status": "completed"
    },
    "tags": []
   },
   "source": [
    "#### Output Processes\n",
    "- Define File names.\n",
    "- If existing csv is found, archive it in \"raw_data_file_history\" folder.\n",
    "- Save new csv."
   ]
  },
  {
   "cell_type": "code",
   "execution_count": 11,
   "id": "bfc17b22",
   "metadata": {
    "execution": {
     "iopub.execute_input": "2021-05-25T19:28:58.243182Z",
     "iopub.status.busy": "2021-05-25T19:28:58.238179Z",
     "iopub.status.idle": "2021-05-25T19:29:15.366436Z",
     "shell.execute_reply": "2021-05-25T19:29:15.368432Z"
    },
    "papermill": {
     "duration": 17.437294,
     "end_time": "2021-05-25T19:29:15.368432",
     "exception": false,
     "start_time": "2021-05-25T19:28:57.931138",
     "status": "completed"
    },
    "pycharm": {
     "name": "#%%\n"
    },
    "tags": []
   },
   "outputs": [],
   "source": [
    "if run_control > 0:\n",
    "    \n",
    "    try:\n",
    "        os.rename(os.path.join(rt_path , rawfile), os.path.join(rawpath , rawhistfile))\n",
    "    except FileNotFoundError:\n",
    "        pass\n",
    "    try:\n",
    "         os.rename(os.path.join(rt_path , prepfile), os.path.join(rawpath , prephistfile))\n",
    "    except FileNotFoundError:\n",
    "        pass\n",
    "    try:\n",
    "         os.rename(os.path.join(rt_path , localfile), os.path.join(localpath , localhistfile))\n",
    "    except FileNotFoundError:\n",
    "        pass\n",
    "    try:\n",
    "         os.rename(os.path.join(rt_path , eurofile), os.path.join(europath , eurohistfile))\n",
    "    except FileNotFoundError:\n",
    "        pass\n",
    "\n",
    "    df.to_csv(os.path.join(rt_path , rawfile), ',', index=False , encoding='utf-8-sig')\n",
    "    df.to_parquet(os.path.join(rt_path , parqfile), engine = \"pyarrow\") \n",
    "\n",
    "else:\n",
    "    \n",
    "    pass"
   ]
  },
  {
   "cell_type": "markdown",
   "id": "22a671a4",
   "metadata": {
    "papermill": {
     "duration": 0.304535,
     "end_time": "2021-05-25T19:29:15.970389",
     "exception": false,
     "start_time": "2021-05-25T19:29:15.665854",
     "status": "completed"
    },
    "tags": []
   },
   "source": [
    "- Log update record with commit message and time.\n",
    "- Determine commit message and make new entry"
   ]
  },
  {
   "cell_type": "code",
   "execution_count": 12,
   "id": "a81b9591",
   "metadata": {
    "execution": {
     "iopub.execute_input": "2021-05-25T19:29:16.535869Z",
     "iopub.status.busy": "2021-05-25T19:29:16.499228Z",
     "iopub.status.idle": "2021-05-25T19:29:17.385359Z",
     "shell.execute_reply": "2021-05-25T19:29:17.387363Z"
    },
    "papermill": {
     "duration": 1.156967,
     "end_time": "2021-05-25T19:29:17.387363",
     "exception": false,
     "start_time": "2021-05-25T19:29:16.230396",
     "status": "completed"
    },
    "pycharm": {
     "name": "#%%\n"
    },
    "tags": []
   },
   "outputs": [
    {
     "data": {
      "text/html": [
       "<div>\n",
       "<style scoped>\n",
       "    .dataframe tbody tr th:only-of-type {\n",
       "        vertical-align: middle;\n",
       "    }\n",
       "\n",
       "    .dataframe tbody tr th {\n",
       "        vertical-align: top;\n",
       "    }\n",
       "\n",
       "    .dataframe thead th {\n",
       "        text-align: right;\n",
       "    }\n",
       "</style>\n",
       "<table border=\"1\" class=\"dataframe\">\n",
       "  <thead>\n",
       "    <tr style=\"text-align: right;\">\n",
       "      <th></th>\n",
       "      <th>run_message\\tdatetime\\tuser</th>\n",
       "      <th>run_message</th>\n",
       "      <th>datetime</th>\n",
       "      <th>user</th>\n",
       "      <th>raw_archive</th>\n",
       "      <th>local_archive</th>\n",
       "      <th>euro_archive</th>\n",
       "    </tr>\n",
       "  </thead>\n",
       "  <tbody>\n",
       "    <tr>\n",
       "      <th>0</th>\n",
       "      <td>NaN</td>\n",
       "      <td>Got something new it.</td>\n",
       "      <td>2021-05-21-090854</td>\n",
       "      <td>gharmo</td>\n",
       "      <td>NaN</td>\n",
       "      <td>NaN</td>\n",
       "      <td>NaN</td>\n",
       "    </tr>\n",
       "    <tr>\n",
       "      <th>1</th>\n",
       "      <td>NaN</td>\n",
       "      <td>Changed some folder names.</td>\n",
       "      <td>2021-05-21-153222</td>\n",
       "      <td>gharmo</td>\n",
       "      <td>NaN</td>\n",
       "      <td>NaN</td>\n",
       "      <td>NaN</td>\n",
       "    </tr>\n",
       "    <tr>\n",
       "      <th>2</th>\n",
       "      <td>NaN</td>\n",
       "      <td>Added finance report to the process flow.</td>\n",
       "      <td>2021-05-21-163305</td>\n",
       "      <td>gharmo</td>\n",
       "      <td>NaN</td>\n",
       "      <td>NaN</td>\n",
       "      <td>NaN</td>\n",
       "    </tr>\n",
       "    <tr>\n",
       "      <th>3</th>\n",
       "      <td>NaN</td>\n",
       "      <td>Added finance report to the process flow.</td>\n",
       "      <td>2021-05-21-165556</td>\n",
       "      <td>gharmo</td>\n",
       "      <td>NaN</td>\n",
       "      <td>NaN</td>\n",
       "      <td>NaN</td>\n",
       "    </tr>\n",
       "    <tr>\n",
       "      <th>4</th>\n",
       "      <td>NaN</td>\n",
       "      <td>Added finance report to the process flow.</td>\n",
       "      <td>2021-05-22-163757</td>\n",
       "      <td>gharmo</td>\n",
       "      <td>NaN</td>\n",
       "      <td>NaN</td>\n",
       "      <td>NaN</td>\n",
       "    </tr>\n",
       "    <tr>\n",
       "      <th>5</th>\n",
       "      <td>NaN</td>\n",
       "      <td>Development and testing.</td>\n",
       "      <td>2021-05-22-164026</td>\n",
       "      <td>gharmo</td>\n",
       "      <td>NaN</td>\n",
       "      <td>NaN</td>\n",
       "      <td>NaN</td>\n",
       "    </tr>\n",
       "    <tr>\n",
       "      <th>6</th>\n",
       "      <td>NaN</td>\n",
       "      <td>Development and testing.</td>\n",
       "      <td>2021-05-22-164505</td>\n",
       "      <td>gharmo</td>\n",
       "      <td>NaN</td>\n",
       "      <td>NaN</td>\n",
       "      <td>NaN</td>\n",
       "    </tr>\n",
       "    <tr>\n",
       "      <th>7</th>\n",
       "      <td>NaN</td>\n",
       "      <td>Added finance report to the process flow.</td>\n",
       "      <td>2021-05-22-164644</td>\n",
       "      <td>gharmo</td>\n",
       "      <td>NaN</td>\n",
       "      <td>NaN</td>\n",
       "      <td>NaN</td>\n",
       "    </tr>\n",
       "    <tr>\n",
       "      <th>8</th>\n",
       "      <td>NaN</td>\n",
       "      <td>Added finance report to the process flow.</td>\n",
       "      <td>2021-05-22-171225</td>\n",
       "      <td>gharmo</td>\n",
       "      <td>NaN</td>\n",
       "      <td>NaN</td>\n",
       "      <td>NaN</td>\n",
       "    </tr>\n",
       "    <tr>\n",
       "      <th>9</th>\n",
       "      <td>NaN</td>\n",
       "      <td>Added finance report to the process flow.</td>\n",
       "      <td>2021-05-22-171928</td>\n",
       "      <td>gharmo</td>\n",
       "      <td>NaN</td>\n",
       "      <td>NaN</td>\n",
       "      <td>NaN</td>\n",
       "    </tr>\n",
       "    <tr>\n",
       "      <th>10</th>\n",
       "      <td>NaN</td>\n",
       "      <td>Added finance report to the process flow.</td>\n",
       "      <td>2021-05-23-174300</td>\n",
       "      <td>gharmo</td>\n",
       "      <td>NaN</td>\n",
       "      <td>NaN</td>\n",
       "      <td>NaN</td>\n",
       "    </tr>\n",
       "    <tr>\n",
       "      <th>11</th>\n",
       "      <td>NaN</td>\n",
       "      <td>Added finance report to the process flow.</td>\n",
       "      <td>2021-05-24-091701</td>\n",
       "      <td>gharmo</td>\n",
       "      <td>NaN</td>\n",
       "      <td>NaN</td>\n",
       "      <td>NaN</td>\n",
       "    </tr>\n",
       "    <tr>\n",
       "      <th>12</th>\n",
       "      <td>NaN</td>\n",
       "      <td>Edited data for Austraila, json 2 parquet and ...</td>\n",
       "      <td>2021-05-24-132352</td>\n",
       "      <td>gharmo</td>\n",
       "      <td>NaN</td>\n",
       "      <td>NaN</td>\n",
       "      <td>NaN</td>\n",
       "    </tr>\n",
       "    <tr>\n",
       "      <th>13</th>\n",
       "      <td>NaN</td>\n",
       "      <td>Edited data for Austraila, json 2 parquet and ...</td>\n",
       "      <td>2021-05-24-155918</td>\n",
       "      <td>gharmo</td>\n",
       "      <td>NaN</td>\n",
       "      <td>NaN</td>\n",
       "      <td>NaN</td>\n",
       "    </tr>\n",
       "    <tr>\n",
       "      <th>14</th>\n",
       "      <td>NaN</td>\n",
       "      <td>Edited data for Austraila, json 2 parquet and ...</td>\n",
       "      <td>2021-05-24-173810</td>\n",
       "      <td>gharmo</td>\n",
       "      <td>NaN</td>\n",
       "      <td>NaN</td>\n",
       "      <td>NaN</td>\n",
       "    </tr>\n",
       "    <tr>\n",
       "      <th>15</th>\n",
       "      <td>NaN</td>\n",
       "      <td>Edited data for Austraila, json 2 parquet and ...</td>\n",
       "      <td>2021-05-24-183245</td>\n",
       "      <td>gharmo</td>\n",
       "      <td>NaN</td>\n",
       "      <td>NaN</td>\n",
       "      <td>NaN</td>\n",
       "    </tr>\n",
       "    <tr>\n",
       "      <th>16</th>\n",
       "      <td>NaN</td>\n",
       "      <td>Edited data for Austraila, json 2 parquet and ...</td>\n",
       "      <td>2021-05-24-234401</td>\n",
       "      <td>gharmo</td>\n",
       "      <td>NaN</td>\n",
       "      <td>NaN</td>\n",
       "      <td>NaN</td>\n",
       "    </tr>\n",
       "    <tr>\n",
       "      <th>17</th>\n",
       "      <td>NaN</td>\n",
       "      <td>Edited data for Austraila, json 2 parquet and ...</td>\n",
       "      <td>2021-05-25-002105</td>\n",
       "      <td>gharmo</td>\n",
       "      <td>NaN</td>\n",
       "      <td>NaN</td>\n",
       "      <td>NaN</td>\n",
       "    </tr>\n",
       "    <tr>\n",
       "      <th>18</th>\n",
       "      <td>NaN</td>\n",
       "      <td>Edited data for Austraila, json 2 parquet and ...</td>\n",
       "      <td>2021-05-25-004239</td>\n",
       "      <td>gharmo</td>\n",
       "      <td>NaN</td>\n",
       "      <td>NaN</td>\n",
       "      <td>NaN</td>\n",
       "    </tr>\n",
       "    <tr>\n",
       "      <th>19</th>\n",
       "      <td>NaN</td>\n",
       "      <td>Edited data for Austraila, json 2 parquet and ...</td>\n",
       "      <td>2021-05-25-084905</td>\n",
       "      <td>gharmo</td>\n",
       "      <td>NaN</td>\n",
       "      <td>NaN</td>\n",
       "      <td>NaN</td>\n",
       "    </tr>\n",
       "    <tr>\n",
       "      <th>20</th>\n",
       "      <td>NaN</td>\n",
       "      <td>Edited data for Austraila, json 2 parquet and ...</td>\n",
       "      <td>2021-05-25-114332</td>\n",
       "      <td>gharmo</td>\n",
       "      <td>NaN</td>\n",
       "      <td>NaN</td>\n",
       "      <td>NaN</td>\n",
       "    </tr>\n",
       "    <tr>\n",
       "      <th>21</th>\n",
       "      <td>NaN</td>\n",
       "      <td>Development and testing.</td>\n",
       "      <td>2021-05-25-130633</td>\n",
       "      <td>gharmo</td>\n",
       "      <td>=HYPERLINK(\"\\\\hecate\\Insurance_US\\Product Deve...</td>\n",
       "      <td>=HYPERLINK(\"\\\\hecate\\Insurance_US\\Product Deve...</td>\n",
       "      <td>=HYPERLINK(\"\\\\hecate\\Insurance_US\\Product Deve...</td>\n",
       "    </tr>\n",
       "    <tr>\n",
       "      <th>22</th>\n",
       "      <td>NaN</td>\n",
       "      <td>Development and testing.</td>\n",
       "      <td>2021-05-25-145858</td>\n",
       "      <td>gharmo</td>\n",
       "      <td>=HYPERLINK(\"\\\\hecate\\Insurance_US\\Product Deve...</td>\n",
       "      <td>=HYPERLINK(\"\\\\hecate\\Insurance_US\\Product Deve...</td>\n",
       "      <td>=HYPERLINK(\"\\\\hecate\\Insurance_US\\Product Deve...</td>\n",
       "    </tr>\n",
       "    <tr>\n",
       "      <th>23</th>\n",
       "      <td>NaN</td>\n",
       "      <td>Development and testing.</td>\n",
       "      <td>2021-05-25-150519</td>\n",
       "      <td>gharmo</td>\n",
       "      <td>=HYPERLINK(\"\\\\hecate\\Insurance_US\\Product Deve...</td>\n",
       "      <td>=HYPERLINK(\"\\\\hecate\\Insurance_US\\Product Deve...</td>\n",
       "      <td>=HYPERLINK(\"\\\\hecate\\Insurance_US\\Product Deve...</td>\n",
       "    </tr>\n",
       "    <tr>\n",
       "      <th>24</th>\n",
       "      <td>NaN</td>\n",
       "      <td>Development and testing.</td>\n",
       "      <td>2021-05-25-150834</td>\n",
       "      <td>gharmo</td>\n",
       "      <td>=HYPERLINK(\"\\\\hecate\\Insurance_US\\Product Deve...</td>\n",
       "      <td>=HYPERLINK(\"\\\\hecate\\Insurance_US\\Product Deve...</td>\n",
       "      <td>=HYPERLINK(\"\\\\hecate\\Insurance_US\\Product Deve...</td>\n",
       "    </tr>\n",
       "    <tr>\n",
       "      <th>0</th>\n",
       "      <td>NaN</td>\n",
       "      <td>Edited data for Austraila, json 2 parquet and ...</td>\n",
       "      <td>2021-05-25-152647</td>\n",
       "      <td>gharmo</td>\n",
       "      <td>=HYPERLINK(\"\\\\hecate\\Insurance_US\\Product Deve...</td>\n",
       "      <td>=HYPERLINK(\"\\\\hecate\\Insurance_US\\Product Deve...</td>\n",
       "      <td>=HYPERLINK(\"\\\\hecate\\Insurance_US\\Product Deve...</td>\n",
       "    </tr>\n",
       "  </tbody>\n",
       "</table>\n",
       "</div>"
      ],
      "text/plain": [
       "    run_message\\tdatetime\\tuser  \\\n",
       "0                           NaN   \n",
       "1                           NaN   \n",
       "2                           NaN   \n",
       "3                           NaN   \n",
       "4                           NaN   \n",
       "5                           NaN   \n",
       "6                           NaN   \n",
       "7                           NaN   \n",
       "8                           NaN   \n",
       "9                           NaN   \n",
       "10                          NaN   \n",
       "11                          NaN   \n",
       "12                          NaN   \n",
       "13                          NaN   \n",
       "14                          NaN   \n",
       "15                          NaN   \n",
       "16                          NaN   \n",
       "17                          NaN   \n",
       "18                          NaN   \n",
       "19                          NaN   \n",
       "20                          NaN   \n",
       "21                          NaN   \n",
       "22                          NaN   \n",
       "23                          NaN   \n",
       "24                          NaN   \n",
       "0                           NaN   \n",
       "\n",
       "                                          run_message           datetime  \\\n",
       "0                               Got something new it.  2021-05-21-090854   \n",
       "1                          Changed some folder names.  2021-05-21-153222   \n",
       "2           Added finance report to the process flow.  2021-05-21-163305   \n",
       "3           Added finance report to the process flow.  2021-05-21-165556   \n",
       "4           Added finance report to the process flow.  2021-05-22-163757   \n",
       "5                            Development and testing.  2021-05-22-164026   \n",
       "6                            Development and testing.  2021-05-22-164505   \n",
       "7           Added finance report to the process flow.  2021-05-22-164644   \n",
       "8           Added finance report to the process flow.  2021-05-22-171225   \n",
       "9           Added finance report to the process flow.  2021-05-22-171928   \n",
       "10          Added finance report to the process flow.  2021-05-23-174300   \n",
       "11          Added finance report to the process flow.  2021-05-24-091701   \n",
       "12  Edited data for Austraila, json 2 parquet and ...  2021-05-24-132352   \n",
       "13  Edited data for Austraila, json 2 parquet and ...  2021-05-24-155918   \n",
       "14  Edited data for Austraila, json 2 parquet and ...  2021-05-24-173810   \n",
       "15  Edited data for Austraila, json 2 parquet and ...  2021-05-24-183245   \n",
       "16  Edited data for Austraila, json 2 parquet and ...  2021-05-24-234401   \n",
       "17  Edited data for Austraila, json 2 parquet and ...  2021-05-25-002105   \n",
       "18  Edited data for Austraila, json 2 parquet and ...  2021-05-25-004239   \n",
       "19  Edited data for Austraila, json 2 parquet and ...  2021-05-25-084905   \n",
       "20  Edited data for Austraila, json 2 parquet and ...  2021-05-25-114332   \n",
       "21                           Development and testing.  2021-05-25-130633   \n",
       "22                           Development and testing.  2021-05-25-145858   \n",
       "23                           Development and testing.  2021-05-25-150519   \n",
       "24                           Development and testing.  2021-05-25-150834   \n",
       "0   Edited data for Austraila, json 2 parquet and ...  2021-05-25-152647   \n",
       "\n",
       "      user                                        raw_archive  \\\n",
       "0   gharmo                                                NaN   \n",
       "1   gharmo                                                NaN   \n",
       "2   gharmo                                                NaN   \n",
       "3   gharmo                                                NaN   \n",
       "4   gharmo                                                NaN   \n",
       "5   gharmo                                                NaN   \n",
       "6   gharmo                                                NaN   \n",
       "7   gharmo                                                NaN   \n",
       "8   gharmo                                                NaN   \n",
       "9   gharmo                                                NaN   \n",
       "10  gharmo                                                NaN   \n",
       "11  gharmo                                                NaN   \n",
       "12  gharmo                                                NaN   \n",
       "13  gharmo                                                NaN   \n",
       "14  gharmo                                                NaN   \n",
       "15  gharmo                                                NaN   \n",
       "16  gharmo                                                NaN   \n",
       "17  gharmo                                                NaN   \n",
       "18  gharmo                                                NaN   \n",
       "19  gharmo                                                NaN   \n",
       "20  gharmo                                                NaN   \n",
       "21  gharmo  =HYPERLINK(\"\\\\hecate\\Insurance_US\\Product Deve...   \n",
       "22  gharmo  =HYPERLINK(\"\\\\hecate\\Insurance_US\\Product Deve...   \n",
       "23  gharmo  =HYPERLINK(\"\\\\hecate\\Insurance_US\\Product Deve...   \n",
       "24  gharmo  =HYPERLINK(\"\\\\hecate\\Insurance_US\\Product Deve...   \n",
       "0   gharmo  =HYPERLINK(\"\\\\hecate\\Insurance_US\\Product Deve...   \n",
       "\n",
       "                                        local_archive  \\\n",
       "0                                                 NaN   \n",
       "1                                                 NaN   \n",
       "2                                                 NaN   \n",
       "3                                                 NaN   \n",
       "4                                                 NaN   \n",
       "5                                                 NaN   \n",
       "6                                                 NaN   \n",
       "7                                                 NaN   \n",
       "8                                                 NaN   \n",
       "9                                                 NaN   \n",
       "10                                                NaN   \n",
       "11                                                NaN   \n",
       "12                                                NaN   \n",
       "13                                                NaN   \n",
       "14                                                NaN   \n",
       "15                                                NaN   \n",
       "16                                                NaN   \n",
       "17                                                NaN   \n",
       "18                                                NaN   \n",
       "19                                                NaN   \n",
       "20                                                NaN   \n",
       "21  =HYPERLINK(\"\\\\hecate\\Insurance_US\\Product Deve...   \n",
       "22  =HYPERLINK(\"\\\\hecate\\Insurance_US\\Product Deve...   \n",
       "23  =HYPERLINK(\"\\\\hecate\\Insurance_US\\Product Deve...   \n",
       "24  =HYPERLINK(\"\\\\hecate\\Insurance_US\\Product Deve...   \n",
       "0   =HYPERLINK(\"\\\\hecate\\Insurance_US\\Product Deve...   \n",
       "\n",
       "                                         euro_archive  \n",
       "0                                                 NaN  \n",
       "1                                                 NaN  \n",
       "2                                                 NaN  \n",
       "3                                                 NaN  \n",
       "4                                                 NaN  \n",
       "5                                                 NaN  \n",
       "6                                                 NaN  \n",
       "7                                                 NaN  \n",
       "8                                                 NaN  \n",
       "9                                                 NaN  \n",
       "10                                                NaN  \n",
       "11                                                NaN  \n",
       "12                                                NaN  \n",
       "13                                                NaN  \n",
       "14                                                NaN  \n",
       "15                                                NaN  \n",
       "16                                                NaN  \n",
       "17                                                NaN  \n",
       "18                                                NaN  \n",
       "19                                                NaN  \n",
       "20                                                NaN  \n",
       "21  =HYPERLINK(\"\\\\hecate\\Insurance_US\\Product Deve...  \n",
       "22  =HYPERLINK(\"\\\\hecate\\Insurance_US\\Product Deve...  \n",
       "23  =HYPERLINK(\"\\\\hecate\\Insurance_US\\Product Deve...  \n",
       "24  =HYPERLINK(\"\\\\hecate\\Insurance_US\\Product Deve...  \n",
       "0   =HYPERLINK(\"\\\\hecate\\Insurance_US\\Product Deve...  "
      ]
     },
     "execution_count": 12,
     "metadata": {},
     "output_type": "execute_result"
    }
   ],
   "source": [
    "log = os.path.join(rt_path, \"logs\", 'pipline_log.csv' )\n",
    "\n",
    "try:\n",
    "    log_df = pd.read_csv(log)\n",
    "except NameError:\n",
    "    print(\"No log file present\")\n",
    "\n",
    "# determine if running from notebook or Excel controller and set commit message.\n",
    "if sys.argv[1] == \"-f\":\n",
    "    message = commit_message\n",
    "else:\n",
    "    piperunner = os.path.join(scriptpath, xls_runner)\n",
    "    wb = openpyxl.load_workbook(piperunner)\n",
    "    sh = wb['Pipeline Runner']\n",
    "    message = {sh['f13'].value}\n",
    "\n",
    "# find username\n",
    "username = getpass.getuser()\n",
    "\n",
    "# file links\n",
    "rawlink = f'=HYPERLINK(\"{os.path.join(rawpath,rawhistfile)}\")'\n",
    "locallink = f'=HYPERLINK(\"{os.path.join(localpath,localhistfile)}\")'\n",
    "eurolink = f'=HYPERLINK(\"{os.path.join(europath,eurohistfile)}\")'\n",
    "\n",
    "# record timestamp\n",
    "datetime = inst_datetime\n",
    "dateformat = datetime[4:8] + '-' + datetime[:2]  + '-' + datetime[2:4]  + '-' + datetime[8:]\n",
    "\n",
    "# add new line\n",
    "newline = { \"run_message\" : [message ],  \"datetime\" :[dateformat], \"user\" : [username ],\n",
    "          \n",
    "          \"raw_archive\" : [rawlink] ,\"local_archive\" :\t[locallink],\"euro_archive\" : [eurolink] }\n",
    "\n",
    "\n",
    "newline = pd.DataFrame.from_dict(newline)\n",
    "\n",
    "# make new file\n",
    "log_df = log_df.append(newline[0:])\n",
    "log_df\n",
    "log_df.to_csv(log, ',', index=False , encoding='utf-8-sig')\n"
   ]
  },
  {
   "cell_type": "markdown",
   "id": "6f362704",
   "metadata": {
    "papermill": {
     "duration": 0.279532,
     "end_time": "2021-05-25T19:29:17.941070",
     "exception": false,
     "start_time": "2021-05-25T19:29:17.661538",
     "status": "completed"
    },
    "tags": []
   },
   "source": [
    "#### Store the DataFrame for other noteboks to use"
   ]
  },
  {
   "cell_type": "code",
   "execution_count": 13,
   "id": "4880e26f",
   "metadata": {
    "execution": {
     "iopub.execute_input": "2021-05-25T19:29:18.545172Z",
     "iopub.status.busy": "2021-05-25T19:29:18.541171Z",
     "iopub.status.idle": "2021-05-25T19:29:18.602685Z",
     "shell.execute_reply": "2021-05-25T19:29:18.603690Z"
    },
    "papermill": {
     "duration": 0.377601,
     "end_time": "2021-05-25T19:29:18.604683",
     "exception": false,
     "start_time": "2021-05-25T19:29:18.227082",
     "status": "completed"
    },
    "tags": []
   },
   "outputs": [
    {
     "name": "stdout",
     "output_type": "stream",
     "text": [
      "Stored 'read_dc_df' (DataFrame)\n"
     ]
    }
   ],
   "source": [
    "read_dc_df = df\n",
    "\n",
    "%store read_dc_df\n"
   ]
  }
 ],
 "metadata": {
  "celltoolbar": "Tags",
  "kernelspec": {
   "display_name": "Python 3",
   "language": "python",
   "name": "python3"
  },
  "language_info": {
   "codemirror_mode": {
    "name": "ipython",
    "version": 3
   },
   "file_extension": ".py",
   "mimetype": "text/x-python",
   "name": "python",
   "nbconvert_exporter": "python",
   "pygments_lexer": "ipython3",
   "version": "3.7.6"
  },
  "papermill": {
   "default_parameters": {},
   "duration": 57.537483,
   "end_time": "2021-05-25T19:29:19.554685",
   "environment_variables": {},
   "exception": null,
   "input_path": "pipeline/read_dc.ipynb",
   "output_path": "//hecate/Insurance_US/Product Development/Product Management/Global PPM/Reporting/Data Collection/Pipeline Reporting Scripts/GPMpipeline/instances/2021.Q1\\pipeline\\read_dc05252021152647--live run.ipynb",
   "parameters": {
    "commit_message": "Edited data for Austraila, json 2 parquet and add comments from email. Begin general evaluation of data submissions.",
    "inst_datetime": "05252021152647",
    "percode": "2021.Q1",
    "run_control": 1
   },
   "start_time": "2021-05-25T19:28:22.017202",
   "version": "2.3.3"
  }
 },
 "nbformat": 4,
 "nbformat_minor": 5
}