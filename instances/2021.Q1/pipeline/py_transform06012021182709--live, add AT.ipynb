{
 "cells": [
  {
   "cell_type": "markdown",
   "id": "f82f9f96",
   "metadata": {
    "papermill": {
     "duration": 0.281184,
     "end_time": "2021-06-01T22:29:45.902957",
     "exception": false,
     "start_time": "2021-06-01T22:29:45.621773",
     "status": "completed"
    },
    "pycharm": {
     "name": "#%% md\n"
    },
    "tags": []
   },
   "source": [
    "<img src=\"../images/AzPTravel_PPM.png\">"
   ]
  },
  {
   "cell_type": "markdown",
   "id": "f5bf3ede",
   "metadata": {
    "collapsed": true,
    "papermill": {
     "duration": 0.256592,
     "end_time": "2021-06-01T22:29:46.437849",
     "exception": false,
     "start_time": "2021-06-01T22:29:46.181257",
     "status": "completed"
    },
    "pycharm": {
     "name": "#%% md\n"
    },
    "tags": []
   },
   "source": [
    "## GPM Data Transformation Script\n",
    "\n",
    "#### This script transforms the single consolidated raw file \"{Data Collection}.csv\" into it's final GPM input versions \"{Data Collection Code}localcur.csv\" and \"{Data Collection Code}euroconv.csv\"\n",
    "#### Current transformations\n",
    "\n",
    "-    make headers lowercase and replace spaces with hyphens\n",
    "-    Remove any rows with null BUs\n",
    "-    validate columns in validcols\n",
    "-    output documented here: \"Global_Attribute_Catalog.xlsx\" you can also edit dataframe entries using the instructions in the file\n",
    "-    replace various null or placeholder values with \"Not Provided\"\n"
   ]
  },
  {
   "cell_type": "markdown",
   "id": "56399aff",
   "metadata": {
    "papermill": {
     "duration": 0.294621,
     "end_time": "2021-06-01T22:29:47.018490",
     "exception": false,
     "start_time": "2021-06-01T22:29:46.723869",
     "status": "completed"
    },
    "tags": []
   },
   "source": [
    "###"
   ]
  },
  {
   "cell_type": "code",
   "execution_count": 1,
   "id": "4f7a8065",
   "metadata": {
    "execution": {
     "iopub.execute_input": "2021-06-01T22:29:47.581518Z",
     "iopub.status.busy": "2021-06-01T22:29:47.571522Z",
     "iopub.status.idle": "2021-06-01T22:29:47.586517Z",
     "shell.execute_reply": "2021-06-01T22:29:47.591518Z"
    },
    "papermill": {
     "duration": 0.318101,
     "end_time": "2021-06-01T22:29:47.592518",
     "exception": false,
     "start_time": "2021-06-01T22:29:47.274417",
     "status": "completed"
    },
    "pycharm": {
     "name": "#%%\n"
    },
    "tags": [
     "parameters"
    ]
   },
   "outputs": [],
   "source": [
    "commit = \"\"\n",
    "# give a reason for the run\n",
    "\n",
    "percode = \"20XX.QX\"\n",
    "# Data Collection Code, this controls file paths and output names\n",
    "\n",
    "run_type = 1\n",
    "#run_type =  0 - lite run with no reporting, not recommended.\n",
    "#run_type =  1 - lite run with normal reporting, default setting.\n",
    "#run_type =  2 - Heavy run with full reporting, available for audits and troubleshooting.\n",
    "\n",
    "specialchars = \"-GTHtest\"\n",
    "# optional - add up to a 12 character code in order to mark your instance record .ipynb\n",
    "\n",
    "from datetime import datetime\n",
    "inst_datetime = datetime.now().strftime(\"%m%d%Y%H%M%S\")\n",
    "# a single datetime stamp for the full instance run\n"
   ]
  },
  {
   "cell_type": "code",
   "execution_count": 2,
   "id": "3bad43a0",
   "metadata": {
    "execution": {
     "iopub.execute_input": "2021-06-01T22:29:48.151169Z",
     "iopub.status.busy": "2021-06-01T22:29:48.150169Z",
     "iopub.status.idle": "2021-06-01T22:29:48.160170Z",
     "shell.execute_reply": "2021-06-01T22:29:48.161170Z"
    },
    "papermill": {
     "duration": 0.310589,
     "end_time": "2021-06-01T22:29:48.161170",
     "exception": false,
     "start_time": "2021-06-01T22:29:47.850581",
     "status": "completed"
    },
    "tags": [
     "injected-parameters"
    ]
   },
   "outputs": [],
   "source": [
    "# Parameters\n",
    "run_control = 1\n",
    "percode = \"2021.Q1\"\n",
    "commit_message = \"Live run, added AT, bad file name, rerun.\"\n",
    "inst_datetime = \"06012021182709\"\n"
   ]
  },
  {
   "cell_type": "markdown",
   "id": "6c925120",
   "metadata": {
    "papermill": {
     "duration": 0.31753,
     "end_time": "2021-06-01T22:29:48.746264",
     "exception": false,
     "start_time": "2021-06-01T22:29:48.428734",
     "status": "completed"
    },
    "tags": []
   },
   "source": [
    "### Set Run Control\n",
    "\n",
    "##### 0 - lite run with no reporting, not recommended.\n",
    "##### 1 - lite run with normal reporting, default setting.\n",
    "##### 2 - Heavy run with full reporting, available for audits and troubleshooting."
   ]
  },
  {
   "cell_type": "code",
   "execution_count": 3,
   "id": "c333f759",
   "metadata": {
    "execution": {
     "iopub.execute_input": "2021-06-01T22:29:49.289886Z",
     "iopub.status.busy": "2021-06-01T22:29:49.286879Z",
     "iopub.status.idle": "2021-06-01T22:29:49.297884Z",
     "shell.execute_reply": "2021-06-01T22:29:49.298882Z"
    },
    "papermill": {
     "duration": 0.301378,
     "end_time": "2021-06-01T22:29:49.299881",
     "exception": false,
     "start_time": "2021-06-01T22:29:48.998503",
     "status": "completed"
    },
    "pycharm": {
     "name": "#%%\n"
    },
    "tags": []
   },
   "outputs": [],
   "source": [
    "run_control = 0  # in development mode"
   ]
  },
  {
   "cell_type": "code",
   "execution_count": 4,
   "id": "23040994",
   "metadata": {
    "execution": {
     "iopub.execute_input": "2021-06-01T22:29:49.873869Z",
     "iopub.status.busy": "2021-06-01T22:29:49.869875Z",
     "iopub.status.idle": "2021-06-01T22:29:52.401316Z",
     "shell.execute_reply": "2021-06-01T22:29:52.402316Z"
    },
    "papermill": {
     "duration": 2.820368,
     "end_time": "2021-06-01T22:29:52.403316",
     "exception": false,
     "start_time": "2021-06-01T22:29:49.582948",
     "status": "completed"
    },
    "pycharm": {
     "name": "#%%\n"
    },
    "tags": []
   },
   "outputs": [],
   "source": [
    "#### Packages used\n",
    "import sys\n",
    "import os\n",
    "import pandas as pd\n",
    "from pandas import ExcelWriter\n",
    "from numpy import nan"
   ]
  },
  {
   "cell_type": "code",
   "execution_count": 5,
   "id": "d51c9596",
   "metadata": {
    "execution": {
     "iopub.execute_input": "2021-06-01T22:29:52.987494Z",
     "iopub.status.busy": "2021-06-01T22:29:52.981947Z",
     "iopub.status.idle": "2021-06-01T22:29:52.994495Z",
     "shell.execute_reply": "2021-06-01T22:29:52.995497Z"
    },
    "papermill": {
     "duration": 0.301187,
     "end_time": "2021-06-01T22:29:52.995497",
     "exception": false,
     "start_time": "2021-06-01T22:29:52.694310",
     "status": "completed"
    },
    "pycharm": {
     "name": "#%%\n"
    },
    "tags": []
   },
   "outputs": [],
   "source": [
    "default_dc = \"2021.Q1\"\n",
    "\n",
    "try:\n",
    "    if sys.argv[1] == \"-f\":\n",
    "        percode = default_dc\n",
    "    else:\n",
    "        percode = sys.argv[1]\n",
    "\n",
    "except IndexError:\n",
    "    percode = default_dc\n",
    "except NameError:\n",
    "    percode = default_dc"
   ]
  },
  {
   "cell_type": "markdown",
   "id": "942c9b0b",
   "metadata": {
    "papermill": {
     "duration": 0.285039,
     "end_time": "2021-06-01T22:29:53.565344",
     "exception": false,
     "start_time": "2021-06-01T22:29:53.280305",
     "status": "completed"
    },
    "tags": []
   },
   "source": [
    "#### style settings"
   ]
  },
  {
   "cell_type": "code",
   "execution_count": 6,
   "id": "1403898e",
   "metadata": {
    "execution": {
     "iopub.execute_input": "2021-06-01T22:29:54.154149Z",
     "iopub.status.busy": "2021-06-01T22:29:54.150808Z",
     "iopub.status.idle": "2021-06-01T22:29:54.160159Z",
     "shell.execute_reply": "2021-06-01T22:29:54.161163Z"
    },
    "papermill": {
     "duration": 0.327117,
     "end_time": "2021-06-01T22:29:54.162162",
     "exception": false,
     "start_time": "2021-06-01T22:29:53.835045",
     "status": "completed"
    },
    "tags": []
   },
   "outputs": [],
   "source": [
    "from IPython.core.interactiveshell import InteractiveShell\n",
    "InteractiveShell.ast_node_interactivity = \"all\""
   ]
  },
  {
   "cell_type": "markdown",
   "id": "567b8943",
   "metadata": {
    "papermill": {
     "duration": 0.274098,
     "end_time": "2021-06-01T22:29:54.714255",
     "exception": false,
     "start_time": "2021-06-01T22:29:54.440157",
     "status": "completed"
    },
    "tags": []
   },
   "source": [
    "#### Convert paths and files to variables.\n",
    "#### Read data into pd DataFrames.\n",
    "#### Make paths for the live sources."
   ]
  },
  {
   "cell_type": "code",
   "execution_count": 7,
   "id": "6372cb4c",
   "metadata": {
    "execution": {
     "iopub.execute_input": "2021-06-01T22:29:55.273617Z",
     "iopub.status.busy": "2021-06-01T22:29:55.272474Z",
     "iopub.status.idle": "2021-06-01T22:29:55.284473Z",
     "shell.execute_reply": "2021-06-01T22:29:55.285473Z"
    },
    "papermill": {
     "duration": 0.303462,
     "end_time": "2021-06-01T22:29:55.286473",
     "exception": false,
     "start_time": "2021-06-01T22:29:54.983011",
     "status": "completed"
    },
    "pycharm": {
     "name": "#%%\n"
    },
    "tags": []
   },
   "outputs": [],
   "source": [
    "rt_path = os.path.join( f'\\\\\\\\hecate\\\\Insurance_US\\\\Product Development\\\\Product Management\\\\Global PPM\\\\Reporting\\\\Data Collection\\\\Production',percode)\n",
    "\n",
    "infile = os.path.join(rt_path, f'{str(percode)}.parquet')\n",
    "gppm_file = os.path.join(rt_path, f'GPPM_Input_{str(percode)}.xlsx')\n",
    "atcat = os.path.join(rt_path, f'{percode}_Attribute_Catalog.xlsx')\n"
   ]
  },
  {
   "cell_type": "code",
   "execution_count": 8,
   "id": "efdad1d2",
   "metadata": {
    "execution": {
     "iopub.execute_input": "2021-06-01T22:29:55.852260Z",
     "iopub.status.busy": "2021-06-01T22:29:55.849263Z",
     "iopub.status.idle": "2021-06-01T22:29:55.859494Z",
     "shell.execute_reply": "2021-06-01T22:29:55.860495Z"
    },
    "papermill": {
     "duration": 0.323934,
     "end_time": "2021-06-01T22:29:55.861493",
     "exception": false,
     "start_time": "2021-06-01T22:29:55.537559",
     "status": "completed"
    },
    "tags": []
   },
   "outputs": [],
   "source": [
    "#### Read input file\n",
    "\n",
    "#### This reads the consolidated file that will be transformed or a stored dataframe based on the execution method."
   ]
  },
  {
   "cell_type": "code",
   "execution_count": 9,
   "id": "e30cbb2b",
   "metadata": {
    "execution": {
     "iopub.execute_input": "2021-06-01T22:29:56.494422Z",
     "iopub.status.busy": "2021-06-01T22:29:56.492417Z",
     "iopub.status.idle": "2021-06-01T22:29:56.596425Z",
     "shell.execute_reply": "2021-06-01T22:29:56.597414Z"
    },
    "papermill": {
     "duration": 0.402734,
     "end_time": "2021-06-01T22:29:56.597414",
     "exception": false,
     "start_time": "2021-06-01T22:29:56.194680",
     "status": "completed"
    },
    "pycharm": {
     "name": "#%%\n"
    },
    "tags": []
   },
   "outputs": [
    {
     "name": "stdout",
     "output_type": "stream",
     "text": [
      "                       Submission File Business Unit Country Currency  \\\n",
      "0     us_dat_at_+te_q1_2021_at.parquet            AT      AT      EUR   \n",
      "1     us_dat_at_+te_q1_2021_at.parquet            AT      AT      EUR   \n",
      "2     us_dat_at_+te_q1_2021_at.parquet            AT      AT      EUR   \n",
      "3     us_dat_at_+te_q1_2021_at.parquet            AT      AT      EUR   \n",
      "4     us_dat_at_+te_q1_2021_at.parquet            AT      AT      EUR   \n",
      "...                                ...           ...     ...      ...   \n",
      "3841  us_dat_pt_05202021121056.parquet            PT      PT      EUR   \n",
      "3842  us_dat_pt_05202021121056.parquet            PT      PT      EUR   \n",
      "3843  us_dat_pt_05202021121056.parquet            PT      PT      EUR   \n",
      "3844  us_dat_pt_05202021121056.parquet            PT      PT      EUR   \n",
      "3845  us_dat_pt_05202021121056.parquet            PT      PT      EUR   \n",
      "\n",
      "                               Region Reporting Date From Reporting Date To  \\\n",
      "0     North, Central & Eastern Europe          2021-01-01        2021-03-31   \n",
      "1     North, Central & Eastern Europe          2021-01-01        2021-03-31   \n",
      "2     North, Central & Eastern Europe          2021-01-01        2021-03-31   \n",
      "3     North, Central & Eastern Europe          2021-01-01        2021-03-31   \n",
      "4     North, Central & Eastern Europe          2021-01-01        2021-03-31   \n",
      "...                               ...                 ...               ...   \n",
      "3841      Western Europe, LATAM & MEA          2021-01-01        2021-03-31   \n",
      "3842      Western Europe, LATAM & MEA          2021-01-01        2021-03-31   \n",
      "3843      Western Europe, LATAM & MEA          2021-01-01        2021-03-31   \n",
      "3844      Western Europe, LATAM & MEA          2021-01-01        2021-03-31   \n",
      "3845      Western Europe, LATAM & MEA          2021-01-01        2021-03-31   \n",
      "\n",
      "     Date of Analysis Type of Analysis  Analysed Months  ...  Notes  \\\n",
      "0          2021-05-07     Year To Date              3.0  ...      0   \n",
      "1          2021-05-07     Year To Date              3.0  ...      0   \n",
      "2          2021-05-07     Year To Date              3.0  ...      0   \n",
      "3          2021-05-07     Year To Date              3.0  ...      0   \n",
      "4          2021-05-07     Year To Date              3.0  ...      0   \n",
      "...               ...              ...              ...  ...    ...   \n",
      "3841       2021-03-31     Year To Date              3.0  ...    0.0   \n",
      "3842       2021-03-31     Year To Date              3.0  ...    0.0   \n",
      "3843       2021-03-31     Year To Date              3.0  ...    0.0   \n",
      "3844       2021-03-31     Year To Date              3.0  ...    0.0   \n",
      "3845       2021-03-31     Year To Date              3.0  ...    0.0   \n",
      "\n",
      "      Unnamed: 66  concat2 comsub     expsub Reporting Date From INT  \\\n",
      "0             0.0      NaN    0.0   0.000000                     NaN   \n",
      "1             0.0      NaN    0.0   0.000000                     NaN   \n",
      "2             0.0      NaN    0.0   0.000000                     NaN   \n",
      "3             0.0      NaN    0.0   0.000000                     NaN   \n",
      "4             0.0      NaN    0.0   0.000000                     NaN   \n",
      "...           ...      ...    ...        ...                     ...   \n",
      "3841          0.0    PTEUR    0.0   0.538397              20210101.0   \n",
      "3842          0.0    PTEUR    0.0   0.426832              20210101.0   \n",
      "3843          0.0    PTEUR    0.0  18.673326              20210101.0   \n",
      "3844          0.0    PTEUR    0.0   0.859278              20210101.0   \n",
      "3845          0.0    PTEUR    0.0   1.023709              20210101.0   \n",
      "\n",
      "     Reporting Date To INT Date of Analysis INT  \\\n",
      "0                      NaN                  NaN   \n",
      "1                      NaN                  NaN   \n",
      "2                      NaN                  NaN   \n",
      "3                      NaN                  NaN   \n",
      "4                      NaN                  NaN   \n",
      "...                    ...                  ...   \n",
      "3841            20210331.0           20210331.0   \n",
      "3842            20210331.0           20210331.0   \n",
      "3843            20210331.0           20210331.0   \n",
      "3844            20210331.0           20210331.0   \n",
      "3845            20210331.0           20210331.0   \n",
      "\n",
      "                         Selected Fields for Duplicates ibnrsub  \n",
      "0                                                   NaN     NaN  \n",
      "1                                                   NaN     NaN  \n",
      "2                                                   NaN     NaN  \n",
      "3                                                   NaN     NaN  \n",
      "4                                                   NaN     NaN  \n",
      "...                                                 ...     ...  \n",
      "3841  PTReinsuranceLocalB2B2CTravelDirect (Allianz P...     0.0  \n",
      "3842  PTReinsuranceLocalB2B2CTravelDirect (Allianz P...     0.0  \n",
      "3843  PTReinsuranceLocalB2B2CTravelDirect (Allianz P...     0.0  \n",
      "3844  PTReinsuranceLocalB2B2CTravelDirect (Allianz P...     0.0  \n",
      "3845  PTReinsuranceLocalB2BTravelDirect (Allianz Par...     0.0  \n",
      "\n",
      "[3846 rows x 76 columns]\n"
     ]
    }
   ],
   "source": [
    "try:\n",
    "    %store -r read_dc_df\n",
    "    input = read_dc_df\n",
    "        \n",
    "except:\n",
    "    input = pd.read_parquet(infile,engine = \"pyarrow\")\n",
    "    os.remove(infile)\n",
    "\n",
    "print(input)"
   ]
  },
  {
   "cell_type": "markdown",
   "id": "dd8359c3",
   "metadata": {
    "papermill": {
     "duration": 0.300905,
     "end_time": "2021-06-01T22:29:57.187673",
     "exception": false,
     "start_time": "2021-06-01T22:29:56.886768",
     "status": "completed"
    },
    "tags": []
   },
   "source": [
    "#### Make a copy for debug purposes"
   ]
  },
  {
   "cell_type": "code",
   "execution_count": 10,
   "id": "b6f1c059",
   "metadata": {
    "execution": {
     "iopub.execute_input": "2021-06-01T22:29:57.793229Z",
     "iopub.status.busy": "2021-06-01T22:29:57.789216Z",
     "iopub.status.idle": "2021-06-01T22:29:57.802215Z",
     "shell.execute_reply": "2021-06-01T22:29:57.803215Z"
    },
    "papermill": {
     "duration": 0.314544,
     "end_time": "2021-06-01T22:29:57.804212",
     "exception": false,
     "start_time": "2021-06-01T22:29:57.489668",
     "status": "completed"
    },
    "pycharm": {
     "name": "#%%\n"
    },
    "tags": []
   },
   "outputs": [],
   "source": [
    "trandata = input.copy()"
   ]
  },
  {
   "cell_type": "markdown",
   "id": "dab32f69",
   "metadata": {
    "papermill": {
     "duration": 0.298531,
     "end_time": "2021-06-01T22:29:58.396956",
     "exception": false,
     "start_time": "2021-06-01T22:29:58.098425",
     "status": "completed"
    },
    "tags": []
   },
   "source": [
    "#### Format Headers"
   ]
  },
  {
   "cell_type": "code",
   "execution_count": 11,
   "id": "724e8c7a",
   "metadata": {
    "execution": {
     "iopub.execute_input": "2021-06-01T22:29:59.002799Z",
     "iopub.status.busy": "2021-06-01T22:29:58.990801Z",
     "iopub.status.idle": "2021-06-01T22:29:59.018805Z",
     "shell.execute_reply": "2021-06-01T22:29:59.020799Z"
    },
    "papermill": {
     "duration": 0.336327,
     "end_time": "2021-06-01T22:29:59.020799",
     "exception": false,
     "start_time": "2021-06-01T22:29:58.684472",
     "status": "completed"
    },
    "pycharm": {
     "name": "#%%\n"
    },
    "tags": []
   },
   "outputs": [
    {
     "data": {
      "text/plain": [
       "'format headers'"
      ]
     },
     "execution_count": 11,
     "metadata": {},
     "output_type": "execute_result"
    }
   ],
   "source": [
    "# save the column names to variable, format them, replace headers\n",
    "cols = trandata.columns.values\n",
    "\n",
    "\"\"\"format headers\"\"\"\n",
    "fixedcols = []\n",
    "\n",
    "for f in cols:\n",
    "    fixedhead = f.replace(' ', '_').lower()\n",
    "    fixedcols.append(fixedhead)\n",
    "\n",
    "trandata.columns = fixedcols"
   ]
  },
  {
   "cell_type": "markdown",
   "id": "8c2da7ce",
   "metadata": {
    "papermill": {
     "duration": 0.306569,
     "end_time": "2021-06-01T22:29:59.623098",
     "exception": false,
     "start_time": "2021-06-01T22:29:59.316529",
     "status": "completed"
    },
    "pycharm": {
     "name": "#%% md\n"
    },
    "tags": []
   },
   "source": [
    "#### Update Verification 1"
   ]
  },
  {
   "cell_type": "code",
   "execution_count": 12,
   "id": "9ce7d285",
   "metadata": {
    "execution": {
     "iopub.execute_input": "2021-06-01T22:30:00.274504Z",
     "iopub.status.busy": "2021-06-01T22:30:00.268508Z",
     "iopub.status.idle": "2021-06-01T22:30:00.508604Z",
     "shell.execute_reply": "2021-06-01T22:30:00.510605Z"
    },
    "papermill": {
     "duration": 0.592121,
     "end_time": "2021-06-01T22:30:00.510605",
     "exception": false,
     "start_time": "2021-06-01T22:29:59.918484",
     "status": "completed"
    },
    "pycharm": {
     "name": "#%%\n"
    },
    "tags": []
   },
   "outputs": [
    {
     "name": "stdout",
     "output_type": "stream",
     "text": [
      "|    | Original                                                        | Transformed                                                     |\n",
      "|---:|:----------------------------------------------------------------|:----------------------------------------------------------------|\n",
      "|  0 | Submission File                                                 | submission_file                                                 |\n",
      "|  1 | Business Unit                                                   | business_unit                                                   |\n",
      "|  2 | Country                                                         | country                                                         |\n",
      "|  3 | Currency                                                        | currency                                                        |\n",
      "|  4 | Region                                                          | region                                                          |\n",
      "|  5 | Reporting Date From                                             | reporting_date_from                                             |\n",
      "|  6 | Reporting Date To                                               | reporting_date_to                                               |\n",
      "|  7 | Date of Analysis                                                | date_of_analysis                                                |\n",
      "|  8 | Type of Analysis                                                | type_of_analysis                                                |\n",
      "|  9 | Analysed Months                                                 | analysed_months                                                 |\n",
      "| 10 | Reporting Year                                                  | reporting_year                                                  |\n",
      "| 11 | Reporting Quarter                                               | reporting_quarter                                               |\n",
      "| 12 | Reporting Month                                                 | reporting_month                                                 |\n",
      "| 13 | Type of Business                                                | type_of_business                                                |\n",
      "| 14 | Type of Account                                                 | type_of_account                                                 |\n",
      "| 15 | Distribution Type                                               | distribution_type                                               |\n",
      "| 16 | LOB                                                             | lob                                                             |\n",
      "| 17 | Distribution Channel                                            | distribution_channel                                            |\n",
      "| 18 | Sub LOB                                                         | sub_lob                                                         |\n",
      "| 19 | Business Partner Name                                           | business_partner_name                                           |\n",
      "| 20 | Business Partner ID Number                                      | business_partner_id_number                                      |\n",
      "| 21 | Product Name                                                    | product_name                                                    |\n",
      "| 22 | Product ID Number                                               | product_id_number                                               |\n",
      "| 23 | Product Family                                                  | product_family                                                  |\n",
      "| 24 | Standard Product                                                | standard_product                                                |\n",
      "| 25 | Number of Products per Row                                      | number_of_products_per_row                                      |\n",
      "| 26 | Number of B-Partners per Row                                    | number_of_b-partners_per_row                                    |\n",
      "| 27 | Number of Policies (Written)                                    | number_of_policies_(written)                                    |\n",
      "| 28 | Units of Risk (Written)                                         | units_of_risk_(written)                                         |\n",
      "| 29 | Written Revenues net of Taxes                                   | written_revenues_net_of_taxes                                   |\n",
      "| 30 | Written Revenues                                                | written_revenues                                                |\n",
      "| 31 | Number of Policies (Earned)                                     | number_of_policies_(earned)                                     |\n",
      "| 32 | Units of Risk (Earned)                                          | units_of_risk_(earned)                                          |\n",
      "| 33 | Earned Revenues net of Taxes                                    | earned_revenues_net_of_taxes                                    |\n",
      "| 34 | Earned Revenues                                                 | earned_revenues                                                 |\n",
      "| 35 | Earned Base Commissions                                         | earned_base_commissions                                         |\n",
      "| 36 | Earned Over-Commissions                                         | earned_over-commissions                                         |\n",
      "| 37 | Upfront Cash Payments                                           | upfront_cash_payments                                           |\n",
      "| 38 | Total Compensation                                              | total_compensation                                              |\n",
      "| 39 | Number of Claims (Paid + OCR + IBNR)                            | number_of_claims_(paid_+_ocr_+_ibnr)                            |\n",
      "| 40 | Number of Open Claims                                           | number_of_open_claims                                           |\n",
      "| 41 | Open Claims %                                                   | open_claims_%                                                   |\n",
      "| 42 | Number of Persons Involved in Claims (Paid + OCR + IBNR)        | number_of_persons_involved_in_claims_(paid_+_ocr_+_ibnr)        |\n",
      "| 43 | Paid Claims                                                     | paid_claims                                                     |\n",
      "| 44 | OCR + IBNR                                                      | ocr_+_ibnr                                                      |\n",
      "| 45 | % of IBNR on (OCR + IBNR)                                       | %_of_ibnr_on_(ocr_+_ibnr)                                       |\n",
      "| 46 | Actual Incurred Losses (Paid + OCR + IBNR)                      | actual_incurred_losses_(paid_+_ocr_+_ibnr)                      |\n",
      "| 47 | Internal Variable Costs (excl. AZ Tech Fee)                     | internal_variable_costs_(excl._az_tech_fee)                     |\n",
      "| 48 | AZ Tech Fee                                                     | az_tech_fee                                                     |\n",
      "| 49 | Internal Fixed Costs (excl. HQ Fees)                            | internal_fixed_costs_(excl._hq_fees)                            |\n",
      "| 50 | HQ Fees                                                         | hq_fees                                                         |\n",
      "| 51 | Total Expenses                                                  | total_expenses                                                  |\n",
      "| 52 | Frequency (Earned)                                              | frequency_(earned)                                              |\n",
      "| 53 | Severity                                                        | severity                                                        |\n",
      "| 54 | Risk Premium                                                    | risk_premium                                                    |\n",
      "| 55 | Contribution Margin - BU View                                   | contribution_margin_-_bu_view                                   |\n",
      "| 56 | Contribution Margin % on Fixed Costs - BU View                  | contribution_margin_%_on_fixed_costs_-_bu_view                  |\n",
      "| 57 | Contribution Margin % on Earned Revenues net of Taxes - BU View | contribution_margin_%_on_earned_revenues_net_of_taxes_-_bu_view |\n",
      "| 58 | Contribution Margin - HQ View                                   | contribution_margin_-_hq_view                                   |\n",
      "| 59 | Contribution Margin % on Fixed Costs - HQ View                  | contribution_margin_%_on_fixed_costs_-_hq_view                  |\n",
      "| 60 | Contribution Margin % on Earned Revenues net of Taxes - HQ View | contribution_margin_%_on_earned_revenues_net_of_taxes_-_hq_view |\n",
      "| 61 | Loss Ratio                                                      | loss_ratio                                                      |\n",
      "| 62 | Commission Ratio                                                | commission_ratio                                                |\n",
      "| 63 | Expense Ratio                                                   | expense_ratio                                                   |\n",
      "| 64 | Combined Ratio                                                  | combined_ratio                                                  |\n",
      "| 65 | Profit or Loss                                                  | profit_or_loss                                                  |\n",
      "| 66 | Notes                                                           | notes                                                           |\n",
      "| 67 | Unnamed: 66                                                     | unnamed:_66                                                     |\n",
      "| 68 | concat2                                                         | concat2                                                         |\n",
      "| 69 | comsub                                                          | comsub                                                          |\n",
      "| 70 | expsub                                                          | expsub                                                          |\n",
      "| 71 | Reporting Date From INT                                         | reporting_date_from_int                                         |\n",
      "| 72 | Reporting Date To INT                                           | reporting_date_to_int                                           |\n",
      "| 73 | Date of Analysis INT                                            | date_of_analysis_int                                            |\n",
      "| 74 | Selected Fields for Duplicates                                  | selected_fields_for_duplicates                                  |\n",
      "| 75 | ibnrsub                                                         | ibnrsub                                                         |\n"
     ]
    }
   ],
   "source": [
    "if run_control > -10:\n",
    "    disp = {\"Original\": input.columns, \"Transformed\": trandata.columns}\n",
    "\n",
    "    disp = pd.DataFrame(disp)\n",
    "\n",
    "    print(disp.to_markdown())\n",
    "else:\n",
    "    print(\"Skipped Transformation Report 1\")"
   ]
  },
  {
   "cell_type": "markdown",
   "id": "9dfc4a6e",
   "metadata": {
    "papermill": {
     "duration": 0.298662,
     "end_time": "2021-06-01T22:30:01.084265",
     "exception": false,
     "start_time": "2021-06-01T22:30:00.785603",
     "status": "completed"
    },
    "tags": []
   },
   "source": [
    "#### Remove rows with null business units\n"
   ]
  },
  {
   "cell_type": "code",
   "execution_count": 13,
   "id": "e7b1519e",
   "metadata": {
    "execution": {
     "iopub.execute_input": "2021-06-01T22:30:01.693405Z",
     "iopub.status.busy": "2021-06-01T22:30:01.685416Z",
     "iopub.status.idle": "2021-06-01T22:30:01.703402Z",
     "shell.execute_reply": "2021-06-01T22:30:01.704859Z"
    },
    "papermill": {
     "duration": 0.33482,
     "end_time": "2021-06-01T22:30:01.705402",
     "exception": false,
     "start_time": "2021-06-01T22:30:01.370582",
     "status": "completed"
    },
    "pycharm": {
     "name": "#%%\n"
    },
    "tags": []
   },
   "outputs": [],
   "source": [
    "# todo, remove this from read file\n",
    "trandata = trandata[trandata.business_unit.notnull()]"
   ]
  },
  {
   "cell_type": "markdown",
   "id": "52f7c244",
   "metadata": {
    "papermill": {
     "duration": 0.326645,
     "end_time": "2021-06-01T22:30:02.320244",
     "exception": false,
     "start_time": "2021-06-01T22:30:01.993599",
     "status": "completed"
    },
    "tags": []
   },
   "source": [
    "#### Update Verification 2"
   ]
  },
  {
   "cell_type": "code",
   "execution_count": 14,
   "id": "c195fcbb",
   "metadata": {
    "execution": {
     "iopub.execute_input": "2021-06-01T22:30:02.964189Z",
     "iopub.status.busy": "2021-06-01T22:30:02.948191Z",
     "iopub.status.idle": "2021-06-01T22:30:03.042226Z",
     "shell.execute_reply": "2021-06-01T22:30:03.044235Z"
    },
    "papermill": {
     "duration": 0.420935,
     "end_time": "2021-06-01T22:30:03.045233",
     "exception": false,
     "start_time": "2021-06-01T22:30:02.624298",
     "status": "completed"
    },
    "pycharm": {
     "name": "#%%\n"
    },
    "tags": []
   },
   "outputs": [
    {
     "name": "stdout",
     "output_type": "stream",
     "text": [
      "Row Counts\n",
      "|    | Business Unit   |   Original |   Transformed |\n",
      "|---:|:----------------|-----------:|--------------:|\n",
      "|  0 | AT              |        222 |           222 |\n",
      "|  1 | AU              |         53 |            53 |\n",
      "|  2 | CA              |         17 |            17 |\n",
      "|  3 | CH              |       3187 |          3187 |\n",
      "|  4 | CZ              |          7 |             7 |\n",
      "|  5 | ES              |         28 |            28 |\n",
      "|  6 | GR              |         15 |            15 |\n",
      "|  7 | IT              |        100 |           100 |\n",
      "|  8 | NL              |        151 |           151 |\n",
      "|  9 | PL              |         27 |            27 |\n",
      "| 10 | PT              |         39 |            39 |\n"
     ]
    }
   ],
   "source": [
    "if run_control > -10:\n",
    "\n",
    "    ibus = input.groupby(['Business Unit']).count()\n",
    "    ibus = ibus.reset_index()\n",
    "    tbus = trandata.groupby(['business_unit']).count()\n",
    "    tbus = tbus.reset_index()\n",
    "\n",
    "    compdata = pd.merge(ibus, tbus, left_on='Business Unit', right_on='business_unit', how='left')\n",
    "\n",
    "    disp = {\"Business Unit\": compdata['Business Unit'], \"Original\": compdata['Earned Revenues net of Taxes'],\n",
    "            \"Transformed\": compdata['earned_revenues_net_of_taxes']}\n",
    "\n",
    "    disp = pd.DataFrame(disp)\n",
    "\n",
    "    print(\"Row Counts\")\n",
    "    print(disp.to_markdown())\n",
    "    \n",
    "else:\n",
    "    \n",
    "    print(\"Skipped Transformation Report 2\")\n"
   ]
  },
  {
   "cell_type": "markdown",
   "id": "8b5a030f",
   "metadata": {
    "papermill": {
     "duration": 0.317004,
     "end_time": "2021-06-01T22:30:03.671866",
     "exception": false,
     "start_time": "2021-06-01T22:30:03.354862",
     "status": "completed"
    },
    "tags": []
   },
   "source": [
    "#### Swap  nulls for \"Not Provided\" in 'Sub Lob' and 'Distribution Channel'"
   ]
  },
  {
   "cell_type": "code",
   "execution_count": 15,
   "id": "f9968aa8",
   "metadata": {
    "execution": {
     "iopub.execute_input": "2021-06-01T22:30:04.317912Z",
     "iopub.status.busy": "2021-06-01T22:30:04.301913Z",
     "iopub.status.idle": "2021-06-01T22:30:04.331914Z",
     "shell.execute_reply": "2021-06-01T22:30:04.333921Z"
    },
    "papermill": {
     "duration": 0.339439,
     "end_time": "2021-06-01T22:30:04.333921",
     "exception": false,
     "start_time": "2021-06-01T22:30:03.994482",
     "status": "completed"
    },
    "pycharm": {
     "name": "#%%\n"
    },
    "tags": []
   },
   "outputs": [],
   "source": [
    "mults = trandata['sub_lob'][trandata.sub_lob.replace(nan, 'Not Provided').str.contains(',', case=False)]\n",
    "mults = mults.unique()\n",
    "\n",
    "trandata['sub_lob'] = trandata['sub_lob'].fillna('Not Provided')\n",
    "trandata['sub_lob'] = trandata['sub_lob'].replace('', 'Not Provided')\n",
    "trandata['distribution_channel'] = trandata['distribution_channel'].replace('', 'Not Provided').fillna('Not Provided')"
   ]
  },
  {
   "cell_type": "markdown",
   "id": "88f3fef7",
   "metadata": {
    "papermill": {
     "duration": 0.323612,
     "end_time": "2021-06-01T22:30:04.977046",
     "exception": false,
     "start_time": "2021-06-01T22:30:04.653434",
     "status": "completed"
    },
    "tags": []
   },
   "source": [
    "#### Replace multiple entries in \"Sub Lob\" to \"Multiple\""
   ]
  },
  {
   "cell_type": "code",
   "execution_count": 16,
   "id": "64127350",
   "metadata": {
    "execution": {
     "iopub.execute_input": "2021-06-01T22:30:05.664303Z",
     "iopub.status.busy": "2021-06-01T22:30:05.637787Z",
     "iopub.status.idle": "2021-06-01T22:30:05.673300Z",
     "shell.execute_reply": "2021-06-01T22:30:05.675297Z"
    },
    "papermill": {
     "duration": 0.358615,
     "end_time": "2021-06-01T22:30:05.676297",
     "exception": false,
     "start_time": "2021-06-01T22:30:05.317682",
     "status": "completed"
    },
    "pycharm": {
     "name": "#%%\n"
    },
    "tags": []
   },
   "outputs": [],
   "source": [
    "for i in mults:\n",
    "    trandata['sub_lob'] = trandata['sub_lob'].replace(i, 'Multiple')\n",
    "\n",
    "# todo automate figuring out which fields fx rates should be applied to somehow"
   ]
  },
  {
   "cell_type": "markdown",
   "id": "56c5ad9f",
   "metadata": {
    "papermill": {
     "duration": 0.367538,
     "end_time": "2021-06-01T22:30:06.393454",
     "exception": false,
     "start_time": "2021-06-01T22:30:06.025916",
     "status": "completed"
    },
    "tags": []
   },
   "source": [
    "#### Update Verification 3"
   ]
  },
  {
   "cell_type": "code",
   "execution_count": 17,
   "id": "4c20d39e",
   "metadata": {
    "execution": {
     "iopub.execute_input": "2021-06-01T22:30:07.048606Z",
     "iopub.status.busy": "2021-06-01T22:30:07.036610Z",
     "iopub.status.idle": "2021-06-01T22:30:07.273795Z",
     "shell.execute_reply": "2021-06-01T22:30:07.274799Z"
    },
    "papermill": {
     "duration": 0.551167,
     "end_time": "2021-06-01T22:30:07.275812",
     "exception": false,
     "start_time": "2021-06-01T22:30:06.724645",
     "status": "completed"
    },
    "pycharm": {
     "name": "#%%\n"
    },
    "tags": []
   },
   "outputs": [],
   "source": [
    "if run_control > -10:\n",
    "\n",
    "    ibus = input.groupby(['Sub LOB']).sum()\n",
    "    ibus = ibus.reset_index()\n",
    "    tbus = trandata.groupby(['sub_lob']).sum()\n",
    "    tbus = tbus.reset_index()\n",
    "\n",
    "    compdatasublob = pd.merge(ibus, tbus, left_on='Sub LOB', right_on='sub_lob', how='outer')\n",
    "\n",
    "    disp1 = pd.DataFrame(\n",
    "        {'Original Sub LOB': compdatasublob['Sub LOB'], 'Transformed Sub LOB': compdatasublob['sub_lob'],\n",
    "         \"Original\": compdatasublob['Earned Revenues net of Taxes'] / 1000,\n",
    "         \"Transformed\": compdatasublob['earned_revenues_net_of_taxes'] / 1000})\n",
    "\n",
    "\n",
    "\n",
    "    tots1 = pd.DataFrame({'Original Total': (input['Earned Revenues net of Taxes']).sum() / 10000,\n",
    "                          \"Transformed Total\": (compdatasublob['earned_revenues_net_of_taxes']).sum() / 10000},\n",
    "                         index=[0])\n",
    "else:\n",
    "    print(\"Skipped Transformation Report 2\")"
   ]
  },
  {
   "cell_type": "markdown",
   "id": "2fe94fbc",
   "metadata": {
    "papermill": {
     "duration": 0.288516,
     "end_time": "2021-06-01T22:30:07.871404",
     "exception": false,
     "start_time": "2021-06-01T22:30:07.582888",
     "status": "completed"
    },
    "tags": []
   },
   "source": [
    "#### Make cflds, a list of currency fields, force to float, coercion is null or string to 0"
   ]
  },
  {
   "cell_type": "code",
   "execution_count": 18,
   "id": "60e0c021",
   "metadata": {
    "execution": {
     "iopub.execute_input": "2021-06-01T22:30:08.533493Z",
     "iopub.status.busy": "2021-06-01T22:30:08.525491Z",
     "iopub.status.idle": "2021-06-01T22:30:08.737490Z",
     "shell.execute_reply": "2021-06-01T22:30:08.738491Z"
    },
    "papermill": {
     "duration": 0.555027,
     "end_time": "2021-06-01T22:30:08.739490",
     "exception": false,
     "start_time": "2021-06-01T22:30:08.184463",
     "status": "completed"
    },
    "pycharm": {
     "name": "#%%\n"
    },
    "tags": []
   },
   "outputs": [
    {
     "data": {
      "text/plain": [
       "0           0.00\n",
       "1           0.00\n",
       "2           0.00\n",
       "3       31328.10\n",
       "4         887.19\n",
       "          ...   \n",
       "3841     1509.16\n",
       "3842     2164.11\n",
       "3843      309.72\n",
       "3844        0.00\n",
       "3845     1260.00\n",
       "Name: written_revenues_net_of_taxes, Length: 3846, dtype: float64"
      ]
     },
     "execution_count": 18,
     "metadata": {},
     "output_type": "execute_result"
    },
    {
     "data": {
      "text/plain": [
       "0           0.0000\n",
       "1           0.0000\n",
       "2           0.0000\n",
       "3       34776.0000\n",
       "4         998.0800\n",
       "           ...    \n",
       "3841     1644.9844\n",
       "3842     2358.8799\n",
       "3843      337.5948\n",
       "3844        0.0000\n",
       "3845     1373.4000\n",
       "Name: written_revenues, Length: 3846, dtype: float64"
      ]
     },
     "execution_count": 18,
     "metadata": {},
     "output_type": "execute_result"
    },
    {
     "data": {
      "text/plain": [
       "0           0.00\n",
       "1           0.00\n",
       "2           0.00\n",
       "3       31328.10\n",
       "4         887.19\n",
       "          ...   \n",
       "3841     1576.86\n",
       "3842     2085.80\n",
       "3843       16.57\n",
       "3844       68.00\n",
       "3845     1260.00\n",
       "Name: earned_revenues_net_of_taxes, Length: 3846, dtype: float64"
      ]
     },
     "execution_count": 18,
     "metadata": {},
     "output_type": "execute_result"
    },
    {
     "data": {
      "text/plain": [
       "0           0.0000\n",
       "1           0.0000\n",
       "2           0.0000\n",
       "3       34776.0000\n",
       "4         998.0800\n",
       "           ...    \n",
       "3841     1718.7774\n",
       "3842     2273.5220\n",
       "3843       18.0613\n",
       "3844       74.1200\n",
       "3845     1373.4000\n",
       "Name: earned_revenues, Length: 3846, dtype: float64"
      ]
     },
     "execution_count": 18,
     "metadata": {},
     "output_type": "execute_result"
    },
    {
     "data": {
      "text/plain": [
       "0          0.00\n",
       "1          0.00\n",
       "2          0.00\n",
       "3       4391.77\n",
       "4        406.87\n",
       "         ...   \n",
       "3841       0.00\n",
       "3842       0.00\n",
       "3843       0.00\n",
       "3844       0.00\n",
       "3845       0.00\n",
       "Name: earned_base_commissions, Length: 3846, dtype: float64"
      ]
     },
     "execution_count": 18,
     "metadata": {},
     "output_type": "execute_result"
    },
    {
     "data": {
      "text/plain": [
       "0       0.0\n",
       "1       0.0\n",
       "2       0.0\n",
       "3       0.0\n",
       "4       0.0\n",
       "       ... \n",
       "3841    0.0\n",
       "3842    0.0\n",
       "3843    0.0\n",
       "3844    0.0\n",
       "3845    0.0\n",
       "Name: earned_over-commissions, Length: 3846, dtype: float64"
      ]
     },
     "execution_count": 18,
     "metadata": {},
     "output_type": "execute_result"
    },
    {
     "data": {
      "text/plain": [
       "0       0.0\n",
       "1       0.0\n",
       "2       0.0\n",
       "3       0.0\n",
       "4       0.0\n",
       "       ... \n",
       "3841    0.0\n",
       "3842    0.0\n",
       "3843    0.0\n",
       "3844    0.0\n",
       "3845    0.0\n",
       "Name: upfront_cash_payments, Length: 3846, dtype: float64"
      ]
     },
     "execution_count": 18,
     "metadata": {},
     "output_type": "execute_result"
    },
    {
     "data": {
      "text/plain": [
       "0          0.00\n",
       "1          0.00\n",
       "2          0.00\n",
       "3       4391.77\n",
       "4        406.87\n",
       "         ...   \n",
       "3841       0.00\n",
       "3842       0.00\n",
       "3843       0.00\n",
       "3844       0.00\n",
       "3845       0.00\n",
       "Name: total_compensation, Length: 3846, dtype: float64"
      ]
     },
     "execution_count": 18,
     "metadata": {},
     "output_type": "execute_result"
    },
    {
     "data": {
      "text/plain": [
       "0       3028.60\n",
       "1          0.00\n",
       "2          0.00\n",
       "3        798.00\n",
       "4        400.00\n",
       "         ...   \n",
       "3841      69.45\n",
       "3842       0.00\n",
       "3843     630.12\n",
       "3844       0.00\n",
       "3845       0.00\n",
       "Name: paid_claims, Length: 3846, dtype: float64"
      ]
     },
     "execution_count": 18,
     "metadata": {},
     "output_type": "execute_result"
    },
    {
     "data": {
      "text/plain": [
       "0      -52275.64\n",
       "1        -100.00\n",
       "2       -1100.00\n",
       "3        1142.94\n",
       "4       -1084.00\n",
       "          ...   \n",
       "3841     1472.11\n",
       "3842      608.72\n",
       "3843        0.00\n",
       "3844        0.00\n",
       "3845        0.00\n",
       "Name: ocr_+_ibnr, Length: 3846, dtype: float64"
      ]
     },
     "execution_count": 18,
     "metadata": {},
     "output_type": "execute_result"
    },
    {
     "data": {
      "text/plain": [
       "0      -49247.04\n",
       "1        -100.00\n",
       "2       -1100.00\n",
       "3        1940.94\n",
       "4        -684.00\n",
       "          ...   \n",
       "3841     1541.56\n",
       "3842      608.72\n",
       "3843      630.12\n",
       "3844        0.00\n",
       "3845        0.00\n",
       "Name: actual_incurred_losses_(paid_+_ocr_+_ibnr), Length: 3846, dtype: float64"
      ]
     },
     "execution_count": 18,
     "metadata": {},
     "output_type": "execute_result"
    },
    {
     "data": {
      "text/plain": [
       "0          0.000000\n",
       "1          0.000000\n",
       "2          0.000000\n",
       "3       2229.996814\n",
       "4         63.151959\n",
       "           ...     \n",
       "3841     433.790006\n",
       "3842     341.095979\n",
       "3843     305.054137\n",
       "3844      33.114511\n",
       "3845     835.265953\n",
       "Name: internal_variable_costs_(excl._az_tech_fee), Length: 3846, dtype: float64"
      ]
     },
     "execution_count": 18,
     "metadata": {},
     "output_type": "execute_result"
    },
    {
     "data": {
      "text/plain": [
       "0         0.000000\n",
       "1         0.000000\n",
       "2         0.000000\n",
       "3       789.468120\n",
       "4        22.357188\n",
       "           ...    \n",
       "3841     45.413568\n",
       "3842     60.071040\n",
       "3843      0.477216\n",
       "3844      1.958400\n",
       "3845     36.288000\n",
       "Name: az_tech_fee, Length: 3846, dtype: float64"
      ]
     },
     "execution_count": 18,
     "metadata": {},
     "output_type": "execute_result"
    },
    {
     "data": {
      "text/plain": [
       "0          0.000000\n",
       "1          0.000000\n",
       "2          0.000000\n",
       "3       4593.555166\n",
       "4        144.211193\n",
       "           ...     \n",
       "3841     272.796780\n",
       "3842     360.843400\n",
       "3843       2.866610\n",
       "3844      19.176000\n",
       "3845     355.320000\n",
       "Name: internal_fixed_costs_(excl._hq_fees), Length: 3846, dtype: float64"
      ]
     },
     "execution_count": 18,
     "metadata": {},
     "output_type": "execute_result"
    },
    {
     "data": {
      "text/plain": [
       "0          0.000000\n",
       "1          0.000000\n",
       "2          0.000000\n",
       "3       1346.816500\n",
       "4         24.016000\n",
       "           ...     \n",
       "3841      96.976890\n",
       "3842     128.276700\n",
       "3843       1.019055\n",
       "3844       4.182000\n",
       "3845      63.000000\n",
       "Name: hq_fees, Length: 3846, dtype: float64"
      ]
     },
     "execution_count": 18,
     "metadata": {},
     "output_type": "execute_result"
    },
    {
     "data": {
      "text/plain": [
       "0          0.000000\n",
       "1          0.000000\n",
       "2          0.000000\n",
       "3       8959.836600\n",
       "4        253.736340\n",
       "           ...     \n",
       "3841     848.977244\n",
       "3842     890.287119\n",
       "3843     309.417018\n",
       "3844      58.430911\n",
       "3845    1289.873953\n",
       "Name: total_expenses, Length: 3846, dtype: float64"
      ]
     },
     "execution_count": 18,
     "metadata": {},
     "output_type": "execute_result"
    },
    {
     "data": {
      "text/plain": [
       "0       0.0\n",
       "1       0.0\n",
       "2       0.0\n",
       "3       0.0\n",
       "4       0.0\n",
       "       ... \n",
       "3841    0.0\n",
       "3842    0.0\n",
       "3843    0.0\n",
       "3844    0.0\n",
       "3845    0.0\n",
       "Name: risk_premium, Length: 3846, dtype: float64"
      ]
     },
     "execution_count": 18,
     "metadata": {},
     "output_type": "execute_result"
    },
    {
     "data": {
      "text/plain": [
       "0       49247.040000\n",
       "1         100.000000\n",
       "2        1100.000000\n",
       "3       16035.553400\n",
       "4         910.583660\n",
       "            ...     \n",
       "3841     -813.677244\n",
       "3842      586.792881\n",
       "3843     -922.967018\n",
       "3844        9.569089\n",
       "3845      -29.873953\n",
       "Name: profit_or_loss, Length: 3846, dtype: float64"
      ]
     },
     "execution_count": 18,
     "metadata": {},
     "output_type": "execute_result"
    },
    {
     "data": {
      "text/plain": [
       "0       49247.040000\n",
       "1         100.000000\n",
       "2        1100.000000\n",
       "3       21975.925066\n",
       "4        1078.810853\n",
       "            ...     \n",
       "3841     -443.903574\n",
       "3842     1075.912981\n",
       "3843     -919.081353\n",
       "3844       32.927089\n",
       "3845      388.446047\n",
       "Name: contribution_margin_-_hq_view, Length: 3846, dtype: float64"
      ]
     },
     "execution_count": 18,
     "metadata": {},
     "output_type": "execute_result"
    },
    {
     "data": {
      "text/plain": [
       "0       49247.040000\n",
       "1         100.000000\n",
       "2        1100.000000\n",
       "3       20629.108566\n",
       "4        1054.794853\n",
       "            ...     \n",
       "3841     -540.880464\n",
       "3842      947.636281\n",
       "3843     -920.100408\n",
       "3844       28.745089\n",
       "3845      325.446047\n",
       "Name: contribution_margin_-_bu_view, Length: 3846, dtype: float64"
      ]
     },
     "execution_count": 18,
     "metadata": {},
     "output_type": "execute_result"
    }
   ],
   "source": [
    "cflds = ['written_revenues_net_of_taxes', 'written_revenues', 'earned_revenues_net_of_taxes',\n",
    "         'earned_revenues', 'earned_base_commissions', 'earned_over-commissions', 'upfront_cash_payments',\n",
    "         'total_compensation', 'paid_claims', 'ocr_+_ibnr', 'actual_incurred_losses_(paid_+_ocr_+_ibnr)',\n",
    "         'internal_variable_costs_(excl._az_tech_fee)', 'az_tech_fee', 'internal_fixed_costs_(excl._hq_fees)',\n",
    "         'hq_fees', 'total_expenses', 'risk_premium', 'profit_or_loss', 'contribution_margin_-_hq_view',\n",
    "         'contribution_margin_-_bu_view', ]\n",
    "\n",
    "for i in cflds:\n",
    "    pd.to_numeric(trandata[i], errors='coerce')"
   ]
  },
  {
   "cell_type": "markdown",
   "id": "975d7130",
   "metadata": {
    "papermill": {
     "duration": 0.372965,
     "end_time": "2021-06-01T22:30:09.464602",
     "exception": false,
     "start_time": "2021-06-01T22:30:09.091637",
     "status": "completed"
    },
    "tags": []
   },
   "source": [
    "#### Turn selected columns values uppercase"
   ]
  },
  {
   "cell_type": "code",
   "execution_count": 19,
   "id": "fa006d0a",
   "metadata": {
    "execution": {
     "iopub.execute_input": "2021-06-01T22:30:10.205097Z",
     "iopub.status.busy": "2021-06-01T22:30:10.148054Z",
     "iopub.status.idle": "2021-06-01T22:30:10.214103Z",
     "shell.execute_reply": "2021-06-01T22:30:10.216101Z"
    },
    "papermill": {
     "duration": 0.403842,
     "end_time": "2021-06-01T22:30:10.216101",
     "exception": false,
     "start_time": "2021-06-01T22:30:09.812259",
     "status": "completed"
    },
    "pycharm": {
     "name": "#%%\n"
    },
    "tags": []
   },
   "outputs": [],
   "source": [
    "validcols = ['business_unit', 'currency', 'region', 'type_of_analysis', 'type_of_business', 'type_of_account', 'lob',\n",
    "             'distribution_type', 'distribution_channel', ]\n",
    "\n",
    "for c in validcols:\n",
    "    trandata[c] = trandata[c].astype(str)\n",
    "    trandata[c] = trandata[c].apply(lambda x: x.upper())"
   ]
  },
  {
   "cell_type": "markdown",
   "id": "f2a1629b",
   "metadata": {
    "papermill": {
     "duration": 0.329936,
     "end_time": "2021-06-01T22:30:10.905694",
     "exception": false,
     "start_time": "2021-06-01T22:30:10.575758",
     "status": "completed"
    },
    "tags": []
   },
   "source": [
    "#### Read the values from the Global Attribute Catalog, one field per loop iterance and xlsx sheet."
   ]
  },
  {
   "cell_type": "code",
   "execution_count": 20,
   "id": "b0573be2",
   "metadata": {
    "execution": {
     "iopub.execute_input": "2021-06-01T22:30:11.613406Z",
     "iopub.status.busy": "2021-06-01T22:30:11.607346Z",
     "iopub.status.idle": "2021-06-01T22:30:14.848885Z",
     "shell.execute_reply": "2021-06-01T22:30:14.849883Z"
    },
    "papermill": {
     "duration": 3.612002,
     "end_time": "2021-06-01T22:30:14.850885",
     "exception": false,
     "start_time": "2021-06-01T22:30:11.238883",
     "status": "completed"
    },
    "pycharm": {
     "name": "#%%\n"
    },
    "tags": []
   },
   "outputs": [],
   "source": [
    "checktabs = []\n",
    "\n",
    "\n",
    "\n",
    "for s in validcols:\n",
    "    t = pd.read_excel(atcat, sheet_name = s )\n",
    "    checktabs.append([[s], [t]])\n",
    "\n",
    "gacout = []\n"
   ]
  },
  {
   "cell_type": "markdown",
   "id": "1d70e2ad",
   "metadata": {
    "papermill": {
     "duration": 0.345675,
     "end_time": "2021-06-01T22:30:15.512734",
     "exception": false,
     "start_time": "2021-06-01T22:30:15.167059",
     "status": "completed"
    },
    "tags": []
   },
   "source": [
    "#### Compare the lists from the previous step and each field. Find those that do not match, make lists of unique values\n",
    "#### replace any that have replacements in GPPM inoout already, make a list of values without any matches.\n"
   ]
  },
  {
   "cell_type": "code",
   "execution_count": 21,
   "id": "f97959c8",
   "metadata": {
    "execution": {
     "iopub.execute_input": "2021-06-01T22:30:16.251134Z",
     "iopub.status.busy": "2021-06-01T22:30:16.250139Z",
     "iopub.status.idle": "2021-06-01T22:30:16.434715Z",
     "shell.execute_reply": "2021-06-01T22:30:16.435703Z"
    },
    "papermill": {
     "duration": 0.520322,
     "end_time": "2021-06-01T22:30:16.436702",
     "exception": false,
     "start_time": "2021-06-01T22:30:15.916380",
     "status": "completed"
    },
    "pycharm": {
     "name": "#%%\n"
    },
    "tags": []
   },
   "outputs": [],
   "source": [
    "# todo rewrite this beginner code to use dicts and simplify\n",
    "\n",
    "for u in enumerate(validcols):\n",
    "    trandata.loc[0:len(trandata[u[1]]), u[1]] = trandata[u[1]].replace(\n",
    "        [checktabs[u[0]][1][0]['Upper_Vers']][0].to_numpy(), [checktabs[u[0]][1][0][u[1]]][0].to_numpy())\n",
    "    d = list(checktabs[u[0]][1][0]['Non Matches'].drop_duplicates().dropna().append(\n",
    "        pd.Series(trandata[u[1]][~trandata[u[1]].isin(checktabs[u[0]][1][0][u[1]])].drop_duplicates().dropna()),\n",
    "        ignore_index=True))\n",
    "    g = [checktabs[u[0]][1][0][str(u[1])], checktabs[u[0]][1][0]['Upper_Vers'], checktabs[u[0]][1][0]['Unnamed: 2'],\n",
    "         pd.Series(d, dtype='object').drop_duplicates().dropna(), checktabs[u[0]][1][0]['User Defined Corrections']]\n",
    "    gacout.append(list([g, u[1]]))"
   ]
  },
  {
   "cell_type": "markdown",
   "id": "8bfef5cd",
   "metadata": {
    "papermill": {
     "duration": 0.325363,
     "end_time": "2021-06-01T22:30:17.152102",
     "exception": false,
     "start_time": "2021-06-01T22:30:16.826739",
     "status": "completed"
    },
    "tags": []
   },
   "source": [
    "#### Rebuild the GPPM input file, with the replaced values in the bad values column of each sheet.\n",
    "#### Step one, make and xlsx with a notes page."
   ]
  },
  {
   "cell_type": "code",
   "execution_count": 22,
   "id": "7a5bf471",
   "metadata": {
    "execution": {
     "iopub.execute_input": "2021-06-01T22:30:17.851785Z",
     "iopub.status.busy": "2021-06-01T22:30:17.845775Z",
     "iopub.status.idle": "2021-06-01T22:30:18.287203Z",
     "shell.execute_reply": "2021-06-01T22:30:18.288211Z"
    },
    "papermill": {
     "duration": 0.787638,
     "end_time": "2021-06-01T22:30:18.288211",
     "exception": false,
     "start_time": "2021-06-01T22:30:17.500573",
     "status": "completed"
    },
    "pycharm": {
     "name": "#%%\n"
    },
    "tags": []
   },
   "outputs": [],
   "source": [
    "w = ExcelWriter(atcat)\n",
    "notes = pd.DataFrame([\n",
    "    \"This page is script generated during the source creation process. Do not edit these notes directly in the file as they will be overwritten\",\n",
    "    \"\", \"\"\n",
    "    , \" Purpose :     to manage attribute entries in the data collection process, this workbook documents and organizes all entries and also allows a user to swap those that do \\\n",
    "                        not conform to validation rules  with an entry of their choice\",\n",
    "    \" Each attribute field that requires validation has its own sheet tab\", \"\"\n",
    "    , \"Column A:    of each sheet tab contains all unique acceptable responses\",\n",
    "    \"Column B:    an upper case version, to wrangle case mismatches\",\n",
    "    \"Column D:   is generated by the process, this is a list of an uppercase version of each unique unacceptable response, this builds over time with each collection\",\n",
    "    \"Column E:   you can enter accpetable response here (sase sensitive) to be swapped out in the data, save and exit this file, run the process again and they will be replaced\"\n",
    "    , \"\", \"\", \"Gavin Harmon 9 - July -2020\"])\n",
    "\n",
    "notes.columns = ['Notes']\n",
    "\n",
    "notes.to_excel(w, index=False, sheet_name=\"Notes\")"
   ]
  },
  {
   "cell_type": "markdown",
   "id": "9f7afa5c",
   "metadata": {
    "papermill": {
     "duration": 0.345041,
     "end_time": "2021-06-01T22:30:18.941241",
     "exception": false,
     "start_time": "2021-06-01T22:30:18.596200",
     "status": "completed"
    },
    "tags": []
   },
   "source": [
    "#### Step two, build the new sheets for each validcols field"
   ]
  },
  {
   "cell_type": "code",
   "execution_count": 23,
   "id": "c80d3389",
   "metadata": {
    "execution": {
     "iopub.execute_input": "2021-06-01T22:30:19.699550Z",
     "iopub.status.busy": "2021-06-01T22:30:19.663026Z",
     "iopub.status.idle": "2021-06-01T22:30:20.310141Z",
     "shell.execute_reply": "2021-06-01T22:30:20.312134Z"
    },
    "papermill": {
     "duration": 1.022317,
     "end_time": "2021-06-01T22:30:20.312134",
     "exception": false,
     "start_time": "2021-06-01T22:30:19.289817",
     "status": "completed"
    },
    "pycharm": {
     "name": "#%%\n"
    },
    "tags": []
   },
   "outputs": [],
   "source": [
    "for v in enumerate(validcols):\n",
    "    df = pd.DataFrame(gacout[v[0]][0], index=[f\"{v[1]}\", 'Upper_Vers', '', 'Non Matches', 'User Defined Corrections']).T\n",
    "    df.to_excel(w, index=False, sheet_name=gacout[v[0]][1])\n",
    "w.save()"
   ]
  },
  {
   "cell_type": "markdown",
   "id": "153d1167",
   "metadata": {
    "papermill": {
     "duration": 0.35434,
     "end_time": "2021-06-01T22:30:21.036246",
     "exception": false,
     "start_time": "2021-06-01T22:30:20.681906",
     "status": "completed"
    },
    "tags": []
   },
   "source": [
    "#### Step three, read these lists back in, make the necessary replacements in the DataFrame"
   ]
  },
  {
   "cell_type": "code",
   "execution_count": 24,
   "id": "44b85b0c",
   "metadata": {
    "execution": {
     "iopub.execute_input": "2021-06-01T22:30:21.748680Z",
     "iopub.status.busy": "2021-06-01T22:30:21.742666Z",
     "iopub.status.idle": "2021-06-01T22:30:24.421441Z",
     "shell.execute_reply": "2021-06-01T22:30:24.423438Z"
    },
    "papermill": {
     "duration": 3.034362,
     "end_time": "2021-06-01T22:30:24.423438",
     "exception": false,
     "start_time": "2021-06-01T22:30:21.389076",
     "status": "completed"
    },
    "pycharm": {
     "name": "#%%\n"
    },
    "tags": []
   },
   "outputs": [],
   "source": [
    "for s in validcols:\n",
    "    t = pd.read_excel(f'//hecate/Insurance_US/Product Development/Product Management/Global PPM/Reporting/Data Collection/Production/{str(percode)}\\\\{str(percode)}_Attribute_Catalog.xlsx', sheet_name = s )\n",
    "    checktabs.append([[s],[t]])"
   ]
  },
  {
   "cell_type": "code",
   "execution_count": 25,
   "id": "82b91810",
   "metadata": {
    "execution": {
     "iopub.execute_input": "2021-06-01T22:30:25.116269Z",
     "iopub.status.busy": "2021-06-01T22:30:25.109278Z",
     "iopub.status.idle": "2021-06-01T22:30:25.217268Z",
     "shell.execute_reply": "2021-06-01T22:30:25.219270Z"
    },
    "papermill": {
     "duration": 0.449267,
     "end_time": "2021-06-01T22:30:25.219270",
     "exception": false,
     "start_time": "2021-06-01T22:30:24.770003",
     "status": "completed"
    },
    "pycharm": {
     "name": "#%%\n"
    },
    "tags": []
   },
   "outputs": [],
   "source": [
    "gacout = []\n",
    "\n",
    "for u in enumerate(validcols):\n",
    "    trandata.loc[0:len(trandata[u[1]]), u[1]] = trandata[u[1]].replace(\n",
    "        [checktabs[u[0]][1][0]['Non Matches']][0].to_numpy(),\n",
    "        [checktabs[u[0]][1][0]['User Defined Corrections']][0].to_numpy())\n",
    "repper = trandata[['business_unit', 'reporting_date_to']]\n",
    "repper = pd.DataFrame({\"business_unit\": (repper['business_unit']), \"YearMo\": (repper['reporting_date_to'])})\n",
    "minrep = repper.groupby(['business_unit']).max()\n",
    "a = trandata['business_unit'].replace(list(minrep.axes[0]), minrep.get(\"YearMo\"))\n",
    "trandata['rep_date'] = a\n",
    "trandata.loc[0:len(trandata['business_partner_id_number']), 'business_partner_id_number'] = trandata[\n",
    "    'business_partner_id_number'].replace('0', 'Not Provided').fillna('Not Provided')\n",
    "trandata.loc[0:len(trandata['product_id_number']), 'product_id_number'] = trandata['product_id_number'].replace('0',\n",
    "                                                                                                                'Not Provided').replace(\n",
    "    '-', 'Not Provided').fillna('Not Provided')\n",
    "trandata.loc[0:len(trandata['sub_lob']), 'sub_lob'] = trandata['sub_lob'].replace('0', 'Not Provided').replace('-',\n",
    "                                                                                                               'Not Provided').replace(\n",
    "    'Other', 'Not Provided').fillna('Not Provided')"
   ]
  },
  {
   "cell_type": "markdown",
   "id": "a6f96309",
   "metadata": {
    "papermill": {
     "duration": 0.309705,
     "end_time": "2021-06-01T22:30:25.859136",
     "exception": false,
     "start_time": "2021-06-01T22:30:25.549431",
     "status": "completed"
    },
    "tags": []
   },
   "source": [
    "#### Evaluate the current state, alert the user if input is needed.\n",
    "- At the end of this process, alert the user with instructions if they need to adjust bad entries for validated fields.\n",
    "\n"
   ]
  },
  {
   "cell_type": "code",
   "execution_count": 26,
   "id": "5512c24d",
   "metadata": {
    "execution": {
     "iopub.execute_input": "2021-06-01T22:30:26.577110Z",
     "iopub.status.busy": "2021-06-01T22:30:26.539097Z",
     "iopub.status.idle": "2021-06-01T22:30:30.443497Z",
     "shell.execute_reply": "2021-06-01T22:30:30.444497Z"
    },
    "papermill": {
     "duration": 4.245317,
     "end_time": "2021-06-01T22:30:30.445497",
     "exception": false,
     "start_time": "2021-06-01T22:30:26.200180",
     "status": "completed"
    },
    "tags": []
   },
   "outputs": [],
   "source": [
    "#see above note about converting to dictionaries\n",
    "\n",
    "#Make lists of all the attribute catalog entries that do not have a correction as a list of errors.\n",
    "err_messages = []\n",
    "\n",
    "for idx, i in enumerate(checktabs):\n",
    "    subset_no_nans =  i[1][0][['Non Matches', 'User Defined Corrections']][~i[1][0]['Non Matches'].isna()]\n",
    "    entries = subset_no_nans['Non Matches'][subset_no_nans['User Defined Corrections'].isna()]. tolist()\n",
    "    if len(entries) > 0: \n",
    "        err_messages.append(f'Please deal with bad entries {entries} on tab {i[0][0]} of the Attribute Catalog.')\n",
    "\n",
    "#raise an error to stop the process and give instructions\n",
    "\n",
    "# define Python user-defined exceptions\n",
    "\n",
    "\n",
    "# define Python user-defined exceptions\n",
    "class Error(Exception):\n",
    "    \"\"\"Base class for other exceptions\"\"\"\n",
    "    pass\n",
    "\n",
    "class BadEntriesError(Error):\n",
    "    \"\"\"Raised when the input value is too large\"\"\"\n",
    "    for i in err_messages : print(i)\n",
    "    \n",
    "    os.startfile(atcat)\n",
    "\n",
    "if len(err_messages) > 0:\n",
    "    raise BadEntriesError\n",
    "else:\n",
    "    pass\n",
    "        "
   ]
  },
  {
   "cell_type": "markdown",
   "id": "c97b3e39",
   "metadata": {
    "papermill": {
     "duration": 0.51749,
     "end_time": "2021-06-01T22:30:32.317289",
     "exception": false,
     "start_time": "2021-06-01T22:30:31.799799",
     "status": "completed"
    },
    "tags": []
   },
   "source": [
    "#### Remove empty rows, if there is no claims experience and no revenue for a 12 month period, it should not be included"
   ]
  },
  {
   "cell_type": "code",
   "execution_count": 27,
   "id": "e9532c93",
   "metadata": {
    "execution": {
     "iopub.execute_input": "2021-06-01T22:30:33.064523Z",
     "iopub.status.busy": "2021-06-01T22:30:33.041522Z",
     "iopub.status.idle": "2021-06-01T22:30:33.105525Z",
     "shell.execute_reply": "2021-06-01T22:30:33.106519Z"
    },
    "papermill": {
     "duration": 0.42715,
     "end_time": "2021-06-01T22:30:33.107524",
     "exception": false,
     "start_time": "2021-06-01T22:30:32.680374",
     "status": "completed"
    },
    "pycharm": {
     "name": "#%%\n"
    },
    "tags": []
   },
   "outputs": [],
   "source": [
    "trandata = trandata.loc[(trandata['units_of_risk_(written)'].fillna(0).replace('', 0)\n",
    "                         + trandata['written_revenues_net_of_taxes'].fillna(0).replace('', 0)\n",
    "                         + trandata['written_revenues'].fillna(0).replace('', 0)\n",
    "                         + trandata['number_of_policies_(earned)'].fillna(0).replace('', 0)\n",
    "                         + trandata['units_of_risk_(earned)'].fillna(0).replace('', 0)\n",
    "                         + trandata['earned_revenues_net_of_taxes'].fillna(0).replace('', 0)\n",
    "                         + trandata['earned_revenues'].fillna(0).replace('', 0)\n",
    "                         + trandata['earned_base_commissions'].fillna(0).replace('', 0)\n",
    "                         + trandata['upfront_cash_payments'].fillna(0).replace('', 0)\n",
    "                         + trandata['earned_over-commissions'].fillna(0).replace('', 0)\n",
    "                         + trandata['total_compensation'].fillna(0).replace('', 0)\n",
    "                         + trandata['number_of_claims_(paid_+_ocr_+_ibnr)'].fillna(0).replace('', 0)\n",
    "                         + trandata['number_of_open_claims'].fillna(0).replace('', 0)\n",
    "                         + trandata['open_claims_%'].fillna(0).replace('', 0)\n",
    "                         + trandata['number_of_persons_involved_in_claims_(paid_+_ocr_+_ibnr)'].fillna(0).replace('', 0)\n",
    "                         + trandata['paid_claims'].fillna(0).replace('', 0)\n",
    "                         + trandata['ocr_+_ibnr'].fillna(0).replace('', 0)\n",
    "                         + trandata['actual_incurred_losses_(paid_+_ocr_+_ibnr)'].fillna(0).replace('', 0)\n",
    "                         + trandata['internal_variable_costs_(excl._az_tech_fee)'].fillna(0).replace('', 0)\n",
    "                         + trandata['az_tech_fee'].fillna(0).replace('', 0)\n",
    "                         + trandata['internal_fixed_costs_(excl._hq_fees)'].fillna(0).replace('', 0)\n",
    "                         + trandata['hq_fees'].fillna(0).replace('', 0)\n",
    "                         + trandata['total_expenses'].fillna(0).replace('', 0)\n",
    "                         + trandata['frequency_(earned)'].fillna(0).replace('', 0)\n",
    "                         + trandata['severity'].fillna(0).replace('', 0))\n",
    "                        != 0]"
   ]
  },
  {
   "cell_type": "markdown",
   "id": "3ef7b402",
   "metadata": {
    "papermill": {
     "duration": 0.377677,
     "end_time": "2021-06-01T22:30:33.866300",
     "exception": false,
     "start_time": "2021-06-01T22:30:33.488623",
     "status": "completed"
    },
    "pycharm": {
     "name": "#%% md\n"
    },
    "tags": []
   },
   "source": [
    "#### Output temp file"
   ]
  },
  {
   "cell_type": "code",
   "execution_count": 28,
   "id": "201eccd7",
   "metadata": {
    "execution": {
     "iopub.execute_input": "2021-06-01T22:30:34.511445Z",
     "iopub.status.busy": "2021-06-01T22:30:34.508456Z",
     "iopub.status.idle": "2021-06-01T22:30:42.904941Z",
     "shell.execute_reply": "2021-06-01T22:30:42.905939Z"
    },
    "papermill": {
     "duration": 8.73953,
     "end_time": "2021-06-01T22:30:42.905939",
     "exception": false,
     "start_time": "2021-06-01T22:30:34.166409",
     "status": "completed"
    },
    "pycharm": {
     "name": "#%%\n"
    },
    "tags": []
   },
   "outputs": [],
   "source": [
    "# trandata.to_parquet(\n",
    "#     f'//hecate/Insurance_US/Product Development/Product Management/Global PPM/Reporting/Data Collection/Production/{str(percode)}\\\\{str(percode)}.localcur.parquet', engine = \"pyarrow\")\n",
    "\n",
    "trandata.to_csv(\n",
    "    \n",
    "     f'//hecate/Insurance_US/Product Development/Product Management/Global PPM/Reporting/Data Collection/Production/{str(percode)}\\\\{str(percode)}.localcur.csv', index = False)\n"
   ]
  },
  {
   "cell_type": "markdown",
   "id": "9df9b97d",
   "metadata": {
    "papermill": {
     "duration": 0.304782,
     "end_time": "2021-06-01T22:30:43.552312",
     "exception": false,
     "start_time": "2021-06-01T22:30:43.247530",
     "status": "completed"
    },
    "tags": []
   },
   "source": [
    "#### Store the DataFrame for other noteboks to use"
   ]
  },
  {
   "cell_type": "code",
   "execution_count": 29,
   "id": "4a62a486",
   "metadata": {
    "execution": {
     "iopub.execute_input": "2021-06-01T22:30:44.231921Z",
     "iopub.status.busy": "2021-06-01T22:30:44.227926Z",
     "iopub.status.idle": "2021-06-01T22:30:44.264920Z",
     "shell.execute_reply": "2021-06-01T22:30:44.265919Z"
    },
    "papermill": {
     "duration": 0.385821,
     "end_time": "2021-06-01T22:30:44.266924",
     "exception": false,
     "start_time": "2021-06-01T22:30:43.881103",
     "status": "completed"
    },
    "tags": []
   },
   "outputs": [
    {
     "name": "stdout",
     "output_type": "stream",
     "text": [
      "Stored 'py_t_df' (DataFrame)\n"
     ]
    }
   ],
   "source": [
    "py_t_df = trandata\n",
    "\n",
    "%store py_t_df\n"
   ]
  }
 ],
 "metadata": {
  "celltoolbar": "Tags",
  "kernelspec": {
   "display_name": "Python 3",
   "language": "python",
   "name": "python3"
  },
  "language_info": {
   "codemirror_mode": {
    "name": "ipython",
    "version": 3
   },
   "file_extension": ".py",
   "mimetype": "text/x-python",
   "name": "python",
   "nbconvert_exporter": "python",
   "pygments_lexer": "ipython3",
   "version": "3.7.6"
  },
  "papermill": {
   "default_parameters": {},
   "duration": 71.282551,
   "end_time": "2021-06-01T22:30:45.108254",
   "environment_variables": {},
   "exception": null,
   "input_path": "pipeline/py_transform.ipynb",
   "output_path": "//hecate/Insurance_US/Product Development/Product Management/Global PPM/Reporting/Data Collection/Pipeline Reporting Scripts/GPMpipeline/instances/2021.Q1\\pipeline\\py_transform06012021182709--live, add AT.ipynb",
   "parameters": {
    "commit_message": "Live run, added AT, bad file name, rerun.",
    "inst_datetime": "06012021182709",
    "percode": "2021.Q1",
    "run_control": 1
   },
   "start_time": "2021-06-01T22:29:33.825703",
   "version": "2.3.3"
  }
 },
 "nbformat": 4,
 "nbformat_minor": 5
}