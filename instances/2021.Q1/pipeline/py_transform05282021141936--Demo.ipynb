{
 "cells": [
  {
   "cell_type": "markdown",
   "id": "64d5dffd",
   "metadata": {
    "papermill": {
     "duration": 0.306813,
     "end_time": "2021-05-28T18:22:15.739479",
     "exception": false,
     "start_time": "2021-05-28T18:22:15.432666",
     "status": "completed"
    },
    "pycharm": {
     "name": "#%% md\n"
    },
    "tags": []
   },
   "source": [
    "<img src=\"../images/AzPTravel_PPM.png\">"
   ]
  },
  {
   "cell_type": "markdown",
   "id": "c727d0f7",
   "metadata": {
    "collapsed": true,
    "papermill": {
     "duration": 0.276479,
     "end_time": "2021-05-28T18:22:16.272504",
     "exception": false,
     "start_time": "2021-05-28T18:22:15.996025",
     "status": "completed"
    },
    "pycharm": {
     "name": "#%% md\n"
    },
    "tags": []
   },
   "source": [
    "## GPM Data Transformation Script\n",
    "\n",
    "#### This script transforms the single consolidated raw file \"{Data Collection}.csv\" into it's final GPM input versions \"{Data Collection Code}localcur.csv\" and \"{Data Collection Code}euroconv.csv\"\n",
    "#### Current transformations\n",
    "\n",
    "-    make headers lowercase and replace spaces with hyphens\n",
    "-    Remove any rows with null BUs\n",
    "-    validate columns in validcols\n",
    "-    output documented here: \"Global_Attribute_Catalog.xlsx\" you can also edit dataframe entries using the instructions in the file\n",
    "-    replace various null or placeholder values with \"Not Provided\"\n"
   ]
  },
  {
   "cell_type": "markdown",
   "id": "6a806ec0",
   "metadata": {
    "papermill": {
     "duration": 0.31057,
     "end_time": "2021-05-28T18:22:16.856119",
     "exception": false,
     "start_time": "2021-05-28T18:22:16.545549",
     "status": "completed"
    },
    "tags": []
   },
   "source": [
    "###"
   ]
  },
  {
   "cell_type": "code",
   "execution_count": 1,
   "id": "65965d50",
   "metadata": {
    "execution": {
     "iopub.execute_input": "2021-05-28T18:22:17.418730Z",
     "iopub.status.busy": "2021-05-28T18:22:17.412731Z",
     "iopub.status.idle": "2021-05-28T18:22:17.423730Z",
     "shell.execute_reply": "2021-05-28T18:22:17.430730Z"
    },
    "papermill": {
     "duration": 0.307339,
     "end_time": "2021-05-28T18:22:17.431731",
     "exception": false,
     "start_time": "2021-05-28T18:22:17.124392",
     "status": "completed"
    },
    "pycharm": {
     "name": "#%%\n"
    },
    "tags": [
     "parameters"
    ]
   },
   "outputs": [],
   "source": [
    "commit = \"\"\n",
    "# give a reason for the run\n",
    "\n",
    "percode = \"20XX.QX\"\n",
    "# Data Collection Code, this controls file paths and output names\n",
    "\n",
    "run_type = 1\n",
    "#run_type =  0 - lite run with no reporting, not recommended.\n",
    "#run_type =  1 - lite run with normal reporting, default setting.\n",
    "#run_type =  2 - Heavy run with full reporting, available for audits and troubleshooting.\n",
    "\n",
    "specialchars = \"-GTHtest\"\n",
    "# optional - add up to a 12 character code in order to mark your instance record .ipynb\n",
    "\n",
    "from datetime import datetime\n",
    "inst_datetime = datetime.now().strftime(\"%m%d%Y%H%M%S\")\n",
    "# a single datetime stamp for the full instance run\n"
   ]
  },
  {
   "cell_type": "code",
   "execution_count": 2,
   "id": "652ec2b4",
   "metadata": {
    "execution": {
     "iopub.execute_input": "2021-05-28T18:22:18.025872Z",
     "iopub.status.busy": "2021-05-28T18:22:18.021857Z",
     "iopub.status.idle": "2021-05-28T18:22:18.035856Z",
     "shell.execute_reply": "2021-05-28T18:22:18.036860Z"
    },
    "papermill": {
     "duration": 0.314131,
     "end_time": "2021-05-28T18:22:18.037862",
     "exception": false,
     "start_time": "2021-05-28T18:22:17.723731",
     "status": "completed"
    },
    "tags": [
     "injected-parameters"
    ]
   },
   "outputs": [],
   "source": [
    "# Parameters\n",
    "run_control = 1\n",
    "percode = \"2021.Q1\"\n",
    "commit_message = \"Demo Test\"\n",
    "inst_datetime = \"05282021141936\"\n"
   ]
  },
  {
   "cell_type": "markdown",
   "id": "0c479bc8",
   "metadata": {
    "papermill": {
     "duration": 0.266644,
     "end_time": "2021-05-28T18:22:18.580014",
     "exception": false,
     "start_time": "2021-05-28T18:22:18.313370",
     "status": "completed"
    },
    "tags": []
   },
   "source": [
    "### Set Run Control\n",
    "\n",
    "##### 0 - lite run with no reporting, not recommended.\n",
    "##### 1 - lite run with normal reporting, default setting.\n",
    "##### 2 - Heavy run with full reporting, available for audits and troubleshooting."
   ]
  },
  {
   "cell_type": "code",
   "execution_count": 3,
   "id": "5029ee42",
   "metadata": {
    "execution": {
     "iopub.execute_input": "2021-05-28T18:22:19.128769Z",
     "iopub.status.busy": "2021-05-28T18:22:19.127765Z",
     "iopub.status.idle": "2021-05-28T18:22:19.131764Z",
     "shell.execute_reply": "2021-05-28T18:22:19.132764Z"
    },
    "papermill": {
     "duration": 0.279121,
     "end_time": "2021-05-28T18:22:19.132764",
     "exception": false,
     "start_time": "2021-05-28T18:22:18.853643",
     "status": "completed"
    },
    "pycharm": {
     "name": "#%%\n"
    },
    "tags": []
   },
   "outputs": [],
   "source": [
    "run_control = 0  # in development mode"
   ]
  },
  {
   "cell_type": "code",
   "execution_count": 4,
   "id": "f0c1953a",
   "metadata": {
    "execution": {
     "iopub.execute_input": "2021-05-28T18:22:19.714707Z",
     "iopub.status.busy": "2021-05-28T18:22:19.713693Z",
     "iopub.status.idle": "2021-05-28T18:22:22.152298Z",
     "shell.execute_reply": "2021-05-28T18:22:22.153295Z"
    },
    "papermill": {
     "duration": 2.760601,
     "end_time": "2021-05-28T18:22:22.154296",
     "exception": false,
     "start_time": "2021-05-28T18:22:19.393695",
     "status": "completed"
    },
    "pycharm": {
     "name": "#%%\n"
    },
    "tags": []
   },
   "outputs": [],
   "source": [
    "#### Packages used\n",
    "import sys\n",
    "import os\n",
    "import pandas as pd\n",
    "from pandas import ExcelWriter\n",
    "from numpy import nan"
   ]
  },
  {
   "cell_type": "code",
   "execution_count": 5,
   "id": "15a23609",
   "metadata": {
    "execution": {
     "iopub.execute_input": "2021-05-28T18:22:22.725937Z",
     "iopub.status.busy": "2021-05-28T18:22:22.724939Z",
     "iopub.status.idle": "2021-05-28T18:22:22.731944Z",
     "shell.execute_reply": "2021-05-28T18:22:22.732943Z"
    },
    "papermill": {
     "duration": 0.308056,
     "end_time": "2021-05-28T18:22:22.733942",
     "exception": false,
     "start_time": "2021-05-28T18:22:22.425886",
     "status": "completed"
    },
    "pycharm": {
     "name": "#%%\n"
    },
    "tags": []
   },
   "outputs": [],
   "source": [
    "default_dc = \"2021.Q1\"\n",
    "\n",
    "try:\n",
    "    if sys.argv[1] == \"-f\":\n",
    "        percode = default_dc\n",
    "    else:\n",
    "        percode = sys.argv[1]\n",
    "\n",
    "except IndexError:\n",
    "    percode = default_dc\n",
    "except NameError:\n",
    "    percode = default_dc"
   ]
  },
  {
   "cell_type": "markdown",
   "id": "e562b36e",
   "metadata": {
    "papermill": {
     "duration": 0.275545,
     "end_time": "2021-05-28T18:22:23.274484",
     "exception": false,
     "start_time": "2021-05-28T18:22:22.998939",
     "status": "completed"
    },
    "tags": []
   },
   "source": [
    "#### style settings"
   ]
  },
  {
   "cell_type": "code",
   "execution_count": 6,
   "id": "8b0c6cf4",
   "metadata": {
    "execution": {
     "iopub.execute_input": "2021-05-28T18:22:23.895938Z",
     "iopub.status.busy": "2021-05-28T18:22:23.894938Z",
     "iopub.status.idle": "2021-05-28T18:22:23.901735Z",
     "shell.execute_reply": "2021-05-28T18:22:23.899938Z"
    },
    "papermill": {
     "duration": 0.349455,
     "end_time": "2021-05-28T18:22:23.901934",
     "exception": false,
     "start_time": "2021-05-28T18:22:23.552479",
     "status": "completed"
    },
    "tags": []
   },
   "outputs": [],
   "source": [
    "from IPython.core.interactiveshell import InteractiveShell\n",
    "InteractiveShell.ast_node_interactivity = \"all\""
   ]
  },
  {
   "cell_type": "markdown",
   "id": "de3af854",
   "metadata": {
    "papermill": {
     "duration": 0.287999,
     "end_time": "2021-05-28T18:22:24.480255",
     "exception": false,
     "start_time": "2021-05-28T18:22:24.192256",
     "status": "completed"
    },
    "tags": []
   },
   "source": [
    "#### Convert paths and files to variables.\n",
    "#### Read data into pd DataFrames.\n",
    "#### Make paths for the live sources."
   ]
  },
  {
   "cell_type": "code",
   "execution_count": 7,
   "id": "3b461ef7",
   "metadata": {
    "execution": {
     "iopub.execute_input": "2021-05-28T18:22:25.007780Z",
     "iopub.status.busy": "2021-05-28T18:22:25.005770Z",
     "iopub.status.idle": "2021-05-28T18:22:25.014475Z",
     "shell.execute_reply": "2021-05-28T18:22:25.015481Z"
    },
    "papermill": {
     "duration": 0.276705,
     "end_time": "2021-05-28T18:22:25.016476",
     "exception": false,
     "start_time": "2021-05-28T18:22:24.739771",
     "status": "completed"
    },
    "pycharm": {
     "name": "#%%\n"
    },
    "tags": []
   },
   "outputs": [],
   "source": [
    "rt_path = os.path.join( f'\\\\\\\\hecate\\\\Insurance_US\\\\Product Development\\\\Product Management\\\\Global PPM\\\\Reporting\\\\Data Collection\\\\Production',percode)\n",
    "\n",
    "infile = os.path.join(rt_path, f'{str(percode)}.parquet')\n",
    "gppm_file = os.path.join(rt_path, f'GPPM_Input_{str(percode)}.xlsx')\n",
    "atcat = os.path.join(rt_path, f'{percode}_Attribute_Catalog.xlsx')\n"
   ]
  },
  {
   "cell_type": "code",
   "execution_count": 8,
   "id": "738a633b",
   "metadata": {
    "execution": {
     "iopub.execute_input": "2021-05-28T18:22:25.542750Z",
     "iopub.status.busy": "2021-05-28T18:22:25.540770Z",
     "iopub.status.idle": "2021-05-28T18:22:25.547749Z",
     "shell.execute_reply": "2021-05-28T18:22:25.548761Z"
    },
    "papermill": {
     "duration": 0.267013,
     "end_time": "2021-05-28T18:22:25.548761",
     "exception": false,
     "start_time": "2021-05-28T18:22:25.281748",
     "status": "completed"
    },
    "tags": []
   },
   "outputs": [],
   "source": [
    "#### Read input file\n",
    "\n",
    "#### This reads the consolidated file that will be transformed or a stored dataframe based on the execution method."
   ]
  },
  {
   "cell_type": "code",
   "execution_count": 9,
   "id": "4a438a4f",
   "metadata": {
    "execution": {
     "iopub.execute_input": "2021-05-28T18:22:26.170490Z",
     "iopub.status.busy": "2021-05-28T18:22:26.168490Z",
     "iopub.status.idle": "2021-05-28T18:22:26.264488Z",
     "shell.execute_reply": "2021-05-28T18:22:26.266490Z"
    },
    "papermill": {
     "duration": 0.391346,
     "end_time": "2021-05-28T18:22:26.266490",
     "exception": false,
     "start_time": "2021-05-28T18:22:25.875144",
     "status": "completed"
    },
    "pycharm": {
     "name": "#%%\n"
    },
    "tags": []
   },
   "outputs": [
    {
     "name": "stdout",
     "output_type": "stream",
     "text": [
      "                       Submission File Business Unit Country Currency  \\\n",
      "0     us_dat_au_05142021143612.parquet            AU      AU      AUD   \n",
      "1     us_dat_au_05142021143612.parquet            AU      AU      AUD   \n",
      "2     us_dat_au_05142021143612.parquet            AU      AU      AUD   \n",
      "3     us_dat_au_05142021143612.parquet            AU      AU      AUD   \n",
      "4     us_dat_au_05142021143612.parquet            AU      AU      AUD   \n",
      "...                                ...           ...     ...      ...   \n",
      "3619  us_dat_pt_05202021121056.parquet            PT      PT      EUR   \n",
      "3620  us_dat_pt_05202021121056.parquet            PT      PT      EUR   \n",
      "3621  us_dat_pt_05202021121056.parquet            PT      PT      EUR   \n",
      "3622  us_dat_pt_05202021121056.parquet            PT      PT      EUR   \n",
      "3623  us_dat_pt_05202021121056.parquet            PT      PT      EUR   \n",
      "\n",
      "                           Region Reporting Date From Reporting Date To  \\\n",
      "0                            APAC          2021-01-01        2021-03-31   \n",
      "1                            APAC          2021-01-01        2021-03-31   \n",
      "2                            APAC          2021-01-01        2021-03-31   \n",
      "3                            APAC          2021-01-01        2021-03-31   \n",
      "4                            APAC          2021-01-01        2021-03-31   \n",
      "...                           ...                 ...               ...   \n",
      "3619  Western Europe, LATAM & MEA          2021-01-01        2021-03-31   \n",
      "3620  Western Europe, LATAM & MEA          2021-01-01        2021-03-31   \n",
      "3621  Western Europe, LATAM & MEA          2021-01-01        2021-03-31   \n",
      "3622  Western Europe, LATAM & MEA          2021-01-01        2021-03-31   \n",
      "3623  Western Europe, LATAM & MEA          2021-01-01        2021-03-31   \n",
      "\n",
      "     Date of Analysis Type of Analysis  Analysed Months  ...  Notes  \\\n",
      "0          2021-04-30     Year To Date              3.0  ...          \n",
      "1          2021-04-30     Year To Date              3.0  ...          \n",
      "2          2021-04-30     Year To Date              3.0  ...          \n",
      "3          2021-04-30     Year To Date              3.0  ...          \n",
      "4          2021-04-30     Year To Date              3.0  ...          \n",
      "...               ...              ...              ...  ...    ...   \n",
      "3619       2021-03-31     Year To Date              3.0  ...    0.0   \n",
      "3620       2021-03-31     Year To Date              3.0  ...    0.0   \n",
      "3621       2021-03-31     Year To Date              3.0  ...    0.0   \n",
      "3622       2021-03-31     Year To Date              3.0  ...    0.0   \n",
      "3623       2021-03-31     Year To Date              3.0  ...    0.0   \n",
      "\n",
      "      Unnamed: 66  concat2    comsub     expsub Reporting Date From INT  \\\n",
      "0             0.0    AUAUD  0.100998   3.245346                20210101   \n",
      "1             0.0    AUAUD  0.233379   3.589092                20210101   \n",
      "2             0.0    AUAUD  0.000000   0.000000                20210101   \n",
      "3             0.0    AUAUD  0.000000   4.723789                20210101   \n",
      "4             0.0    AUAUD  0.220000   4.239521                20210101   \n",
      "...           ...      ...       ...        ...                     ...   \n",
      "3619          0.0    PTEUR  0.000000   0.538397                20210101   \n",
      "3620          0.0    PTEUR  0.000000   0.426832                20210101   \n",
      "3621          0.0    PTEUR  0.000000  18.673326                20210101   \n",
      "3622          0.0    PTEUR  0.000000   0.859278                20210101   \n",
      "3623          0.0    PTEUR  0.000000   1.023709                20210101   \n",
      "\n",
      "     Reporting Date To INT Date of Analysis INT  \\\n",
      "0                 20210331             20210430   \n",
      "1                 20210331             20210430   \n",
      "2                 20210331             20210430   \n",
      "3                 20210331             20210430   \n",
      "4                 20210331             20210430   \n",
      "...                    ...                  ...   \n",
      "3619              20210331             20210331   \n",
      "3620              20210331             20210331   \n",
      "3621              20210331             20210331   \n",
      "3622              20210331             20210331   \n",
      "3623              20210331             20210331   \n",
      "\n",
      "                         Selected Fields for Duplicates ibnrsub  \n",
      "0     AUInsuranceLocalB2B2CTravelAllianz Affiliation...     NaN  \n",
      "1     AUInsuranceLocalB2B2CTravelOffline Travel Agen...     NaN  \n",
      "2     AUInsuranceLocalB2B2CTravelOffline Travel Agen...     NaN  \n",
      "3     AUInsuranceLocalB2B2CTravelAllianz Affiliation...     NaN  \n",
      "4     AUInsuranceLocalB2CTravelDirect (Allianz Partn...     NaN  \n",
      "...                                                 ...     ...  \n",
      "3619  PTReinsuranceLocalB2B2CTravelDirect (Allianz P...     0.0  \n",
      "3620  PTReinsuranceLocalB2B2CTravelDirect (Allianz P...     0.0  \n",
      "3621  PTReinsuranceLocalB2B2CTravelDirect (Allianz P...     0.0  \n",
      "3622  PTReinsuranceLocalB2B2CTravelDirect (Allianz P...     0.0  \n",
      "3623  PTReinsuranceLocalB2BTravelDirect (Allianz Par...     0.0  \n",
      "\n",
      "[3624 rows x 76 columns]\n"
     ]
    }
   ],
   "source": [
    "try:\n",
    "    %store -r read_dc_df\n",
    "    input = read_dc_df\n",
    "        \n",
    "except:\n",
    "    input = pd.read_parquet(infile,engine = \"pyarrow\")\n",
    "    os.remove(infile)\n",
    "\n",
    "print(input)"
   ]
  },
  {
   "cell_type": "markdown",
   "id": "f3e50ad4",
   "metadata": {
    "papermill": {
     "duration": 0.324721,
     "end_time": "2021-05-28T18:22:26.872782",
     "exception": false,
     "start_time": "2021-05-28T18:22:26.548061",
     "status": "completed"
    },
    "tags": []
   },
   "source": [
    "#### Make a copy for debug purposes"
   ]
  },
  {
   "cell_type": "code",
   "execution_count": 10,
   "id": "dec3af24",
   "metadata": {
    "execution": {
     "iopub.execute_input": "2021-05-28T18:22:27.422321Z",
     "iopub.status.busy": "2021-05-28T18:22:27.421322Z",
     "iopub.status.idle": "2021-05-28T18:22:27.429849Z",
     "shell.execute_reply": "2021-05-28T18:22:27.430849Z"
    },
    "papermill": {
     "duration": 0.297916,
     "end_time": "2021-05-28T18:22:27.431853",
     "exception": false,
     "start_time": "2021-05-28T18:22:27.133937",
     "status": "completed"
    },
    "pycharm": {
     "name": "#%%\n"
    },
    "tags": []
   },
   "outputs": [],
   "source": [
    "trandata = input.copy()"
   ]
  },
  {
   "cell_type": "markdown",
   "id": "24b1810a",
   "metadata": {
    "papermill": {
     "duration": 0.278057,
     "end_time": "2021-05-28T18:22:27.985923",
     "exception": false,
     "start_time": "2021-05-28T18:22:27.707866",
     "status": "completed"
    },
    "tags": []
   },
   "source": [
    "#### Format Headers"
   ]
  },
  {
   "cell_type": "code",
   "execution_count": 11,
   "id": "242f0513",
   "metadata": {
    "execution": {
     "iopub.execute_input": "2021-05-28T18:22:28.587461Z",
     "iopub.status.busy": "2021-05-28T18:22:28.566459Z",
     "iopub.status.idle": "2021-05-28T18:22:28.597468Z",
     "shell.execute_reply": "2021-05-28T18:22:28.598460Z"
    },
    "papermill": {
     "duration": 0.323522,
     "end_time": "2021-05-28T18:22:28.599459",
     "exception": false,
     "start_time": "2021-05-28T18:22:28.275937",
     "status": "completed"
    },
    "pycharm": {
     "name": "#%%\n"
    },
    "tags": []
   },
   "outputs": [
    {
     "data": {
      "text/plain": [
       "'format headers'"
      ]
     },
     "execution_count": 11,
     "metadata": {},
     "output_type": "execute_result"
    }
   ],
   "source": [
    "# save the column names to variable, format them, replace headers\n",
    "cols = trandata.columns.values\n",
    "\n",
    "\"\"\"format headers\"\"\"\n",
    "fixedcols = []\n",
    "\n",
    "for f in cols:\n",
    "    fixedhead = f.replace(' ', '_').lower()\n",
    "    fixedcols.append(fixedhead)\n",
    "\n",
    "trandata.columns = fixedcols"
   ]
  },
  {
   "cell_type": "markdown",
   "id": "33c5699b",
   "metadata": {
    "papermill": {
     "duration": 0.286722,
     "end_time": "2021-05-28T18:22:29.178177",
     "exception": false,
     "start_time": "2021-05-28T18:22:28.891455",
     "status": "completed"
    },
    "pycharm": {
     "name": "#%% md\n"
    },
    "tags": []
   },
   "source": [
    "#### Update Verification 1"
   ]
  },
  {
   "cell_type": "code",
   "execution_count": 12,
   "id": "7d009271",
   "metadata": {
    "execution": {
     "iopub.execute_input": "2021-05-28T18:22:29.822895Z",
     "iopub.status.busy": "2021-05-28T18:22:29.816889Z",
     "iopub.status.idle": "2021-05-28T18:22:30.041812Z",
     "shell.execute_reply": "2021-05-28T18:22:30.042826Z"
    },
    "papermill": {
     "duration": 0.532927,
     "end_time": "2021-05-28T18:22:30.042826",
     "exception": false,
     "start_time": "2021-05-28T18:22:29.509899",
     "status": "completed"
    },
    "pycharm": {
     "name": "#%%\n"
    },
    "tags": []
   },
   "outputs": [
    {
     "name": "stdout",
     "output_type": "stream",
     "text": [
      "|    | Original                                                        | Transformed                                                     |\n",
      "|---:|:----------------------------------------------------------------|:----------------------------------------------------------------|\n",
      "|  0 | Submission File                                                 | submission_file                                                 |\n",
      "|  1 | Business Unit                                                   | business_unit                                                   |\n",
      "|  2 | Country                                                         | country                                                         |\n",
      "|  3 | Currency                                                        | currency                                                        |\n",
      "|  4 | Region                                                          | region                                                          |\n",
      "|  5 | Reporting Date From                                             | reporting_date_from                                             |\n",
      "|  6 | Reporting Date To                                               | reporting_date_to                                               |\n",
      "|  7 | Date of Analysis                                                | date_of_analysis                                                |\n",
      "|  8 | Type of Analysis                                                | type_of_analysis                                                |\n",
      "|  9 | Analysed Months                                                 | analysed_months                                                 |\n",
      "| 10 | Reporting Year                                                  | reporting_year                                                  |\n",
      "| 11 | Reporting Quarter                                               | reporting_quarter                                               |\n",
      "| 12 | Reporting Month                                                 | reporting_month                                                 |\n",
      "| 13 | Type of Business                                                | type_of_business                                                |\n",
      "| 14 | Type of Account                                                 | type_of_account                                                 |\n",
      "| 15 | Distribution Type                                               | distribution_type                                               |\n",
      "| 16 | LOB                                                             | lob                                                             |\n",
      "| 17 | Distribution Channel                                            | distribution_channel                                            |\n",
      "| 18 | Sub LOB                                                         | sub_lob                                                         |\n",
      "| 19 | Business Partner Name                                           | business_partner_name                                           |\n",
      "| 20 | Business Partner ID Number                                      | business_partner_id_number                                      |\n",
      "| 21 | Product Name                                                    | product_name                                                    |\n",
      "| 22 | Product ID Number                                               | product_id_number                                               |\n",
      "| 23 | Product Family                                                  | product_family                                                  |\n",
      "| 24 | Standard Product                                                | standard_product                                                |\n",
      "| 25 | Number of Products per Row                                      | number_of_products_per_row                                      |\n",
      "| 26 | Number of B-Partners per Row                                    | number_of_b-partners_per_row                                    |\n",
      "| 27 | Number of Policies (Written)                                    | number_of_policies_(written)                                    |\n",
      "| 28 | Units of Risk (Written)                                         | units_of_risk_(written)                                         |\n",
      "| 29 | Written Revenues net of Taxes                                   | written_revenues_net_of_taxes                                   |\n",
      "| 30 | Written Revenues                                                | written_revenues                                                |\n",
      "| 31 | Number of Policies (Earned)                                     | number_of_policies_(earned)                                     |\n",
      "| 32 | Units of Risk (Earned)                                          | units_of_risk_(earned)                                          |\n",
      "| 33 | Earned Revenues net of Taxes                                    | earned_revenues_net_of_taxes                                    |\n",
      "| 34 | Earned Revenues                                                 | earned_revenues                                                 |\n",
      "| 35 | Earned Base Commissions                                         | earned_base_commissions                                         |\n",
      "| 36 | Earned Over-Commissions                                         | earned_over-commissions                                         |\n",
      "| 37 | Upfront Cash Payments                                           | upfront_cash_payments                                           |\n",
      "| 38 | Total Compensation                                              | total_compensation                                              |\n",
      "| 39 | Number of Claims (Paid + OCR + IBNR)                            | number_of_claims_(paid_+_ocr_+_ibnr)                            |\n",
      "| 40 | Number of Open Claims                                           | number_of_open_claims                                           |\n",
      "| 41 | Open Claims %                                                   | open_claims_%                                                   |\n",
      "| 42 | Number of Persons Involved in Claims (Paid + OCR + IBNR)        | number_of_persons_involved_in_claims_(paid_+_ocr_+_ibnr)        |\n",
      "| 43 | Paid Claims                                                     | paid_claims                                                     |\n",
      "| 44 | OCR + IBNR                                                      | ocr_+_ibnr                                                      |\n",
      "| 45 | % of IBNR on (OCR + IBNR)                                       | %_of_ibnr_on_(ocr_+_ibnr)                                       |\n",
      "| 46 | Actual Incurred Losses (Paid + OCR + IBNR)                      | actual_incurred_losses_(paid_+_ocr_+_ibnr)                      |\n",
      "| 47 | Internal Variable Costs (excl. AZ Tech Fee)                     | internal_variable_costs_(excl._az_tech_fee)                     |\n",
      "| 48 | AZ Tech Fee                                                     | az_tech_fee                                                     |\n",
      "| 49 | Internal Fixed Costs (excl. HQ Fees)                            | internal_fixed_costs_(excl._hq_fees)                            |\n",
      "| 50 | HQ Fees                                                         | hq_fees                                                         |\n",
      "| 51 | Total Expenses                                                  | total_expenses                                                  |\n",
      "| 52 | Frequency (Earned)                                              | frequency_(earned)                                              |\n",
      "| 53 | Severity                                                        | severity                                                        |\n",
      "| 54 | Risk Premium                                                    | risk_premium                                                    |\n",
      "| 55 | Contribution Margin - BU View                                   | contribution_margin_-_bu_view                                   |\n",
      "| 56 | Contribution Margin % on Fixed Costs - BU View                  | contribution_margin_%_on_fixed_costs_-_bu_view                  |\n",
      "| 57 | Contribution Margin % on Earned Revenues net of Taxes - BU View | contribution_margin_%_on_earned_revenues_net_of_taxes_-_bu_view |\n",
      "| 58 | Contribution Margin - HQ View                                   | contribution_margin_-_hq_view                                   |\n",
      "| 59 | Contribution Margin % on Fixed Costs - HQ View                  | contribution_margin_%_on_fixed_costs_-_hq_view                  |\n",
      "| 60 | Contribution Margin % on Earned Revenues net of Taxes - HQ View | contribution_margin_%_on_earned_revenues_net_of_taxes_-_hq_view |\n",
      "| 61 | Loss Ratio                                                      | loss_ratio                                                      |\n",
      "| 62 | Commission Ratio                                                | commission_ratio                                                |\n",
      "| 63 | Expense Ratio                                                   | expense_ratio                                                   |\n",
      "| 64 | Combined Ratio                                                  | combined_ratio                                                  |\n",
      "| 65 | Profit or Loss                                                  | profit_or_loss                                                  |\n",
      "| 66 | Notes                                                           | notes                                                           |\n",
      "| 67 | Unnamed: 66                                                     | unnamed:_66                                                     |\n",
      "| 68 | concat2                                                         | concat2                                                         |\n",
      "| 69 | comsub                                                          | comsub                                                          |\n",
      "| 70 | expsub                                                          | expsub                                                          |\n",
      "| 71 | Reporting Date From INT                                         | reporting_date_from_int                                         |\n",
      "| 72 | Reporting Date To INT                                           | reporting_date_to_int                                           |\n",
      "| 73 | Date of Analysis INT                                            | date_of_analysis_int                                            |\n",
      "| 74 | Selected Fields for Duplicates                                  | selected_fields_for_duplicates                                  |\n",
      "| 75 | ibnrsub                                                         | ibnrsub                                                         |\n"
     ]
    }
   ],
   "source": [
    "if run_control > -10:\n",
    "    disp = {\"Original\": input.columns, \"Transformed\": trandata.columns}\n",
    "\n",
    "    disp = pd.DataFrame(disp)\n",
    "\n",
    "    print(disp.to_markdown())\n",
    "else:\n",
    "    print(\"Skipped Transformation Report 1\")"
   ]
  },
  {
   "cell_type": "markdown",
   "id": "75361676",
   "metadata": {
    "papermill": {
     "duration": 0.289238,
     "end_time": "2021-05-28T18:22:30.660564",
     "exception": false,
     "start_time": "2021-05-28T18:22:30.371326",
     "status": "completed"
    },
    "tags": []
   },
   "source": [
    "#### Remove rows with null business units\n"
   ]
  },
  {
   "cell_type": "code",
   "execution_count": 13,
   "id": "e12aaa03",
   "metadata": {
    "execution": {
     "iopub.execute_input": "2021-05-28T18:22:31.224394Z",
     "iopub.status.busy": "2021-05-28T18:22:31.219393Z",
     "iopub.status.idle": "2021-05-28T18:22:31.236395Z",
     "shell.execute_reply": "2021-05-28T18:22:31.238397Z"
    },
    "papermill": {
     "duration": 0.300308,
     "end_time": "2021-05-28T18:22:31.238397",
     "exception": false,
     "start_time": "2021-05-28T18:22:30.938089",
     "status": "completed"
    },
    "pycharm": {
     "name": "#%%\n"
    },
    "tags": []
   },
   "outputs": [],
   "source": [
    "# todo, remove this from read file\n",
    "trandata = trandata[trandata.business_unit.notnull()]"
   ]
  },
  {
   "cell_type": "markdown",
   "id": "690f7206",
   "metadata": {
    "papermill": {
     "duration": 0.32596,
     "end_time": "2021-05-28T18:22:31.908650",
     "exception": false,
     "start_time": "2021-05-28T18:22:31.582690",
     "status": "completed"
    },
    "tags": []
   },
   "source": [
    "#### Update Verification 2"
   ]
  },
  {
   "cell_type": "code",
   "execution_count": 14,
   "id": "ac9888be",
   "metadata": {
    "execution": {
     "iopub.execute_input": "2021-05-28T18:22:33.127345Z",
     "iopub.status.busy": "2021-05-28T18:22:33.110351Z",
     "iopub.status.idle": "2021-05-28T18:22:33.306345Z",
     "shell.execute_reply": "2021-05-28T18:22:33.309350Z"
    },
    "papermill": {
     "duration": 0.745804,
     "end_time": "2021-05-28T18:22:33.309350",
     "exception": false,
     "start_time": "2021-05-28T18:22:32.563546",
     "status": "completed"
    },
    "pycharm": {
     "name": "#%%\n"
    },
    "tags": []
   },
   "outputs": [
    {
     "name": "stdout",
     "output_type": "stream",
     "text": [
      "Row Counts\n",
      "|    | Business Unit   |   Original |   Transformed |\n",
      "|---:|:----------------|-----------:|--------------:|\n",
      "|  0 | AU              |         53 |            53 |\n",
      "|  1 | CA              |         17 |            17 |\n",
      "|  2 | CH              |       3187 |          3187 |\n",
      "|  3 | CZ              |          7 |             7 |\n",
      "|  4 | ES              |         28 |            28 |\n",
      "|  5 | GR              |         15 |            15 |\n",
      "|  6 | IT              |        100 |           100 |\n",
      "|  7 | NL              |        151 |           151 |\n",
      "|  8 | PL              |         27 |            27 |\n",
      "|  9 | PT              |         39 |            39 |\n"
     ]
    }
   ],
   "source": [
    "if run_control > -10:\n",
    "\n",
    "    ibus = input.groupby(['Business Unit']).count()\n",
    "    ibus = ibus.reset_index()\n",
    "    tbus = trandata.groupby(['business_unit']).count()\n",
    "    tbus = tbus.reset_index()\n",
    "\n",
    "    compdata = pd.merge(ibus, tbus, left_on='Business Unit', right_on='business_unit', how='left')\n",
    "\n",
    "    disp = {\"Business Unit\": compdata['Business Unit'], \"Original\": compdata['Earned Revenues net of Taxes'],\n",
    "            \"Transformed\": compdata['earned_revenues_net_of_taxes']}\n",
    "\n",
    "    disp = pd.DataFrame(disp)\n",
    "\n",
    "    print(\"Row Counts\")\n",
    "    print(disp.to_markdown())\n",
    "    \n",
    "else:\n",
    "    \n",
    "    print(\"Skipped Transformation Report 2\")\n"
   ]
  },
  {
   "cell_type": "markdown",
   "id": "a25fe43c",
   "metadata": {
    "papermill": {
     "duration": 0.48121,
     "end_time": "2021-05-28T18:22:34.262360",
     "exception": false,
     "start_time": "2021-05-28T18:22:33.781150",
     "status": "completed"
    },
    "tags": []
   },
   "source": [
    "#### Swap  nulls for \"Not Provided\" in 'Sub Lob' and 'Distribution Channel'"
   ]
  },
  {
   "cell_type": "code",
   "execution_count": 15,
   "id": "ab29b091",
   "metadata": {
    "execution": {
     "iopub.execute_input": "2021-05-28T18:22:35.411155Z",
     "iopub.status.busy": "2021-05-28T18:22:35.410153Z",
     "iopub.status.idle": "2021-05-28T18:22:35.440664Z",
     "shell.execute_reply": "2021-05-28T18:22:35.439143Z"
    },
    "papermill": {
     "duration": 0.651243,
     "end_time": "2021-05-28T18:22:35.440664",
     "exception": false,
     "start_time": "2021-05-28T18:22:34.789421",
     "status": "completed"
    },
    "pycharm": {
     "name": "#%%\n"
    },
    "tags": []
   },
   "outputs": [],
   "source": [
    "mults = trandata['sub_lob'][trandata.sub_lob.replace(nan, 'Not Provided').str.contains(',', case=False)]\n",
    "mults = mults.unique()\n",
    "\n",
    "trandata['sub_lob'] = trandata['sub_lob'].fillna('Not Provided')\n",
    "trandata['sub_lob'] = trandata['sub_lob'].replace('', 'Not Provided')\n",
    "trandata['distribution_channel'] = trandata['distribution_channel'].replace('', 'Not Provided').fillna('Not Provided')"
   ]
  },
  {
   "cell_type": "markdown",
   "id": "f9bbc289",
   "metadata": {
    "papermill": {
     "duration": 0.327055,
     "end_time": "2021-05-28T18:22:36.091043",
     "exception": false,
     "start_time": "2021-05-28T18:22:35.763988",
     "status": "completed"
    },
    "tags": []
   },
   "source": [
    "#### Replace multiple entries in \"Sub Lob\" to \"Multiple\""
   ]
  },
  {
   "cell_type": "code",
   "execution_count": 16,
   "id": "c1eeeb9e",
   "metadata": {
    "execution": {
     "iopub.execute_input": "2021-05-28T18:22:36.746453Z",
     "iopub.status.busy": "2021-05-28T18:22:36.719470Z",
     "iopub.status.idle": "2021-05-28T18:22:36.752453Z",
     "shell.execute_reply": "2021-05-28T18:22:36.753453Z"
    },
    "papermill": {
     "duration": 0.333143,
     "end_time": "2021-05-28T18:22:36.754453",
     "exception": false,
     "start_time": "2021-05-28T18:22:36.421310",
     "status": "completed"
    },
    "pycharm": {
     "name": "#%%\n"
    },
    "tags": []
   },
   "outputs": [],
   "source": [
    "for i in mults:\n",
    "    trandata['sub_lob'] = trandata['sub_lob'].replace(i, 'Multiple')\n",
    "\n",
    "# todo automate figuring out which fields fx rates should be applied to somehow"
   ]
  },
  {
   "cell_type": "markdown",
   "id": "45251a05",
   "metadata": {
    "papermill": {
     "duration": 0.348481,
     "end_time": "2021-05-28T18:22:37.397934",
     "exception": false,
     "start_time": "2021-05-28T18:22:37.049453",
     "status": "completed"
    },
    "tags": []
   },
   "source": [
    "#### Update Verification 3"
   ]
  },
  {
   "cell_type": "code",
   "execution_count": 17,
   "id": "ea0cacb5",
   "metadata": {
    "execution": {
     "iopub.execute_input": "2021-05-28T18:22:38.025746Z",
     "iopub.status.busy": "2021-05-28T18:22:38.016753Z",
     "iopub.status.idle": "2021-05-28T18:22:38.238755Z",
     "shell.execute_reply": "2021-05-28T18:22:38.239753Z"
    },
    "papermill": {
     "duration": 0.533207,
     "end_time": "2021-05-28T18:22:38.240752",
     "exception": false,
     "start_time": "2021-05-28T18:22:37.707545",
     "status": "completed"
    },
    "pycharm": {
     "name": "#%%\n"
    },
    "tags": []
   },
   "outputs": [],
   "source": [
    "if run_control > -10:\n",
    "\n",
    "    ibus = input.groupby(['Sub LOB']).sum()\n",
    "    ibus = ibus.reset_index()\n",
    "    tbus = trandata.groupby(['sub_lob']).sum()\n",
    "    tbus = tbus.reset_index()\n",
    "\n",
    "    compdatasublob = pd.merge(ibus, tbus, left_on='Sub LOB', right_on='sub_lob', how='outer')\n",
    "\n",
    "    disp1 = pd.DataFrame(\n",
    "        {'Original Sub LOB': compdatasublob['Sub LOB'], 'Transformed Sub LOB': compdatasublob['sub_lob'],\n",
    "         \"Original\": compdatasublob['Earned Revenues net of Taxes'] / 1000,\n",
    "         \"Transformed\": compdatasublob['earned_revenues_net_of_taxes'] / 1000})\n",
    "\n",
    "\n",
    "\n",
    "    tots1 = pd.DataFrame({'Original Total': (input['Earned Revenues net of Taxes']).sum() / 10000,\n",
    "                          \"Transformed Total\": (compdatasublob['earned_revenues_net_of_taxes']).sum() / 10000},\n",
    "                         index=[0])\n",
    "else:\n",
    "    print(\"Skipped Transformation Report 2\")"
   ]
  },
  {
   "cell_type": "markdown",
   "id": "dc2648c5",
   "metadata": {
    "papermill": {
     "duration": 0.326573,
     "end_time": "2021-05-28T18:22:38.873055",
     "exception": false,
     "start_time": "2021-05-28T18:22:38.546482",
     "status": "completed"
    },
    "tags": []
   },
   "source": [
    "#### Make cflds, a list of currency fields, force to float, coercion is null or string to 0"
   ]
  },
  {
   "cell_type": "code",
   "execution_count": 18,
   "id": "283a8380",
   "metadata": {
    "execution": {
     "iopub.execute_input": "2021-05-28T18:22:39.569897Z",
     "iopub.status.busy": "2021-05-28T18:22:39.554899Z",
     "iopub.status.idle": "2021-05-28T18:22:39.846453Z",
     "shell.execute_reply": "2021-05-28T18:22:39.848459Z"
    },
    "papermill": {
     "duration": 0.681924,
     "end_time": "2021-05-28T18:22:39.848459",
     "exception": false,
     "start_time": "2021-05-28T18:22:39.166535",
     "status": "completed"
    },
    "pycharm": {
     "name": "#%%\n"
    },
    "tags": []
   },
   "outputs": [
    {
     "data": {
      "text/plain": [
       "0          0.00\n",
       "1          0.00\n",
       "2          0.00\n",
       "3        142.68\n",
       "4          0.00\n",
       "         ...   \n",
       "3619    1509.16\n",
       "3620    2164.11\n",
       "3621     309.72\n",
       "3622       0.00\n",
       "3623    1260.00\n",
       "Name: written_revenues_net_of_taxes, Length: 3624, dtype: float64"
      ]
     },
     "execution_count": 18,
     "metadata": {},
     "output_type": "execute_result"
    },
    {
     "data": {
      "text/plain": [
       "0          0.0000\n",
       "1          0.0000\n",
       "2          0.0000\n",
       "3          0.0000\n",
       "4          0.0000\n",
       "          ...    \n",
       "3619    1644.9844\n",
       "3620    2358.8799\n",
       "3621     337.5948\n",
       "3622       0.0000\n",
       "3623    1373.4000\n",
       "Name: written_revenues, Length: 3624, dtype: float64"
      ]
     },
     "execution_count": 18,
     "metadata": {},
     "output_type": "execute_result"
    },
    {
     "data": {
      "text/plain": [
       "0          55.8953\n",
       "1        5529.9513\n",
       "2           0.0000\n",
       "3         142.6800\n",
       "4       32143.8185\n",
       "           ...    \n",
       "3619     1576.8600\n",
       "3620     2085.8000\n",
       "3621       16.5700\n",
       "3622       68.0000\n",
       "3623     1260.0000\n",
       "Name: earned_revenues_net_of_taxes, Length: 3624, dtype: float64"
      ]
     },
     "execution_count": 18,
     "metadata": {},
     "output_type": "execute_result"
    },
    {
     "data": {
      "text/plain": [
       "0          0.0000\n",
       "1          0.0000\n",
       "2          0.0000\n",
       "3          0.0000\n",
       "4          0.0000\n",
       "          ...    \n",
       "3619    1718.7774\n",
       "3620    2273.5220\n",
       "3621      18.0613\n",
       "3622      74.1200\n",
       "3623    1373.4000\n",
       "Name: earned_revenues, Length: 3624, dtype: float64"
      ]
     },
     "execution_count": 18,
     "metadata": {},
     "output_type": "execute_result"
    },
    {
     "data": {
      "text/plain": [
       "0          5.64530\n",
       "1       1290.57530\n",
       "2          0.00000\n",
       "3          0.00000\n",
       "4       7071.64007\n",
       "           ...    \n",
       "3619       0.00000\n",
       "3620       0.00000\n",
       "3621       0.00000\n",
       "3622       0.00000\n",
       "3623       0.00000\n",
       "Name: earned_base_commissions, Length: 3624, dtype: float64"
      ]
     },
     "execution_count": 18,
     "metadata": {},
     "output_type": "execute_result"
    },
    {
     "data": {
      "text/plain": [
       "0       0.0\n",
       "1       0.0\n",
       "2       0.0\n",
       "3       0.0\n",
       "4       0.0\n",
       "       ... \n",
       "3619    0.0\n",
       "3620    0.0\n",
       "3621    0.0\n",
       "3622    0.0\n",
       "3623    0.0\n",
       "Name: earned_over-commissions, Length: 3624, dtype: float64"
      ]
     },
     "execution_count": 18,
     "metadata": {},
     "output_type": "execute_result"
    },
    {
     "data": {
      "text/plain": [
       "0       0.0\n",
       "1       0.0\n",
       "2       0.0\n",
       "3       0.0\n",
       "4       0.0\n",
       "       ... \n",
       "3619    0.0\n",
       "3620    0.0\n",
       "3621    0.0\n",
       "3622    0.0\n",
       "3623    0.0\n",
       "Name: upfront_cash_payments, Length: 3624, dtype: float64"
      ]
     },
     "execution_count": 18,
     "metadata": {},
     "output_type": "execute_result"
    },
    {
     "data": {
      "text/plain": [
       "0          5.64530\n",
       "1       1290.57530\n",
       "2          0.00000\n",
       "3          0.00000\n",
       "4       7071.64007\n",
       "           ...    \n",
       "3619       0.00000\n",
       "3620       0.00000\n",
       "3621       0.00000\n",
       "3622       0.00000\n",
       "3623       0.00000\n",
       "Name: total_compensation, Length: 3624, dtype: float64"
      ]
     },
     "execution_count": 18,
     "metadata": {},
     "output_type": "execute_result"
    },
    {
     "data": {
      "text/plain": [
       "0         0.0000\n",
       "1         0.0000\n",
       "2         0.0000\n",
       "3         0.0000\n",
       "4       819.1621\n",
       "          ...   \n",
       "3619     69.4500\n",
       "3620      0.0000\n",
       "3621    630.1200\n",
       "3622      0.0000\n",
       "3623      0.0000\n",
       "Name: paid_claims, Length: 3624, dtype: float64"
      ]
     },
     "execution_count": 18,
     "metadata": {},
     "output_type": "execute_result"
    },
    {
     "data": {
      "text/plain": [
       "0          8.250237\n",
       "1       1843.793403\n",
       "2          0.000000\n",
       "3         22.575091\n",
       "4       7248.046696\n",
       "           ...     \n",
       "3619    1472.110000\n",
       "3620     608.720000\n",
       "3621       0.000000\n",
       "3622       0.000000\n",
       "3623       0.000000\n",
       "Name: ocr_+_ibnr, Length: 3624, dtype: float64"
      ]
     },
     "execution_count": 18,
     "metadata": {},
     "output_type": "execute_result"
    },
    {
     "data": {
      "text/plain": [
       "0          8.250237\n",
       "1       1843.793403\n",
       "2          0.000000\n",
       "3         22.575091\n",
       "4       8067.208796\n",
       "           ...     \n",
       "3619    1541.560000\n",
       "3620     608.720000\n",
       "3621     630.120000\n",
       "3622       0.000000\n",
       "3623       0.000000\n",
       "Name: actual_incurred_losses_(paid_+_ocr_+_ibnr), Length: 3624, dtype: float64"
      ]
     },
     "execution_count": 18,
     "metadata": {},
     "output_type": "execute_result"
    },
    {
     "data": {
      "text/plain": [
       "0           2.195253\n",
       "1         240.488514\n",
       "2           0.000000\n",
       "3           8.187503\n",
       "4       21750.364703\n",
       "            ...     \n",
       "3619      433.790006\n",
       "3620      341.095979\n",
       "3621      305.054137\n",
       "3622       33.114511\n",
       "3623      835.265953\n",
       "Name: internal_variable_costs_(excl._az_tech_fee), Length: 3624, dtype: float64"
      ]
     },
     "execution_count": 18,
     "metadata": {},
     "output_type": "execute_result"
    },
    {
     "data": {
      "text/plain": [
       "0         1.013645\n",
       "1       111.044207\n",
       "2         0.000000\n",
       "3         3.780533\n",
       "4       625.285543\n",
       "           ...    \n",
       "3619     45.413568\n",
       "3620     60.071040\n",
       "3621      0.477216\n",
       "3622      1.958400\n",
       "3623     36.288000\n",
       "Name: az_tech_fee, Length: 3624, dtype: float64"
      ]
     },
     "execution_count": 18,
     "metadata": {},
     "output_type": "execute_result"
    },
    {
     "data": {
      "text/plain": [
       "0          167.140499\n",
       "1        18285.429711\n",
       "2            0.000000\n",
       "3          620.808918\n",
       "4       107082.243725\n",
       "            ...      \n",
       "3619       272.796780\n",
       "3620       360.843400\n",
       "3621         2.866610\n",
       "3622        19.176000\n",
       "3623       355.320000\n",
       "Name: internal_fixed_costs_(excl._hq_fees), Length: 3624, dtype: float64"
      ]
     },
     "execution_count": 18,
     "metadata": {},
     "output_type": "execute_result"
    },
    {
     "data": {
      "text/plain": [
       "0         11.050191\n",
       "1       1210.541320\n",
       "2          0.000000\n",
       "3         41.213241\n",
       "4       6816.510337\n",
       "           ...     \n",
       "3619      96.976890\n",
       "3620     128.276700\n",
       "3621       1.019055\n",
       "3622       4.182000\n",
       "3623      63.000000\n",
       "Name: hq_fees, Length: 3624, dtype: float64"
      ]
     },
     "execution_count": 18,
     "metadata": {},
     "output_type": "execute_result"
    },
    {
     "data": {
      "text/plain": [
       "0          181.399588\n",
       "1        19847.503753\n",
       "2            0.000000\n",
       "3          673.990196\n",
       "4       136274.404308\n",
       "            ...      \n",
       "3619       848.977244\n",
       "3620       890.287119\n",
       "3621       309.417018\n",
       "3622        58.430911\n",
       "3623      1289.873953\n",
       "Name: total_expenses, Length: 3624, dtype: float64"
      ]
     },
     "execution_count": 18,
     "metadata": {},
     "output_type": "execute_result"
    },
    {
     "data": {
      "text/plain": [
       "0       0.0\n",
       "1       0.0\n",
       "2       0.0\n",
       "3       0.0\n",
       "4       0.0\n",
       "       ... \n",
       "3619    0.0\n",
       "3620    0.0\n",
       "3621    0.0\n",
       "3622    0.0\n",
       "3623    0.0\n",
       "Name: risk_premium, Length: 3624, dtype: float64"
      ]
     },
     "execution_count": 18,
     "metadata": {},
     "output_type": "execute_result"
    },
    {
     "data": {
      "text/plain": [
       "0         -139.399826\n",
       "1       -17451.921156\n",
       "2            0.000000\n",
       "3         -553.885287\n",
       "4      -119269.434674\n",
       "            ...      \n",
       "3619      -813.677244\n",
       "3620       586.792881\n",
       "3621      -922.967018\n",
       "3622         9.569089\n",
       "3623       -29.873953\n",
       "Name: profit_or_loss, Length: 3624, dtype: float64"
      ]
     },
     "execution_count": 18,
     "metadata": {},
     "output_type": "execute_result"
    },
    {
     "data": {
      "text/plain": [
       "0         38.790864\n",
       "1       2044.049876\n",
       "2          0.000000\n",
       "3        108.136872\n",
       "4      -5370.680611\n",
       "           ...     \n",
       "3619    -443.903574\n",
       "3620    1075.912981\n",
       "3621    -919.081353\n",
       "3622      32.927089\n",
       "3623     388.446047\n",
       "Name: contribution_margin_-_hq_view, Length: 3624, dtype: float64"
      ]
     },
     "execution_count": 18,
     "metadata": {},
     "output_type": "execute_result"
    },
    {
     "data": {
      "text/plain": [
       "0          27.740673\n",
       "1         833.508556\n",
       "2           0.000000\n",
       "3          66.923631\n",
       "4      -12187.190948\n",
       "            ...     \n",
       "3619     -540.880464\n",
       "3620      947.636281\n",
       "3621     -920.100408\n",
       "3622       28.745089\n",
       "3623      325.446047\n",
       "Name: contribution_margin_-_bu_view, Length: 3624, dtype: float64"
      ]
     },
     "execution_count": 18,
     "metadata": {},
     "output_type": "execute_result"
    }
   ],
   "source": [
    "cflds = ['written_revenues_net_of_taxes', 'written_revenues', 'earned_revenues_net_of_taxes',\n",
    "         'earned_revenues', 'earned_base_commissions', 'earned_over-commissions', 'upfront_cash_payments',\n",
    "         'total_compensation', 'paid_claims', 'ocr_+_ibnr', 'actual_incurred_losses_(paid_+_ocr_+_ibnr)',\n",
    "         'internal_variable_costs_(excl._az_tech_fee)', 'az_tech_fee', 'internal_fixed_costs_(excl._hq_fees)',\n",
    "         'hq_fees', 'total_expenses', 'risk_premium', 'profit_or_loss', 'contribution_margin_-_hq_view',\n",
    "         'contribution_margin_-_bu_view', ]\n",
    "\n",
    "for i in cflds:\n",
    "    pd.to_numeric(trandata[i], errors='coerce')"
   ]
  },
  {
   "cell_type": "markdown",
   "id": "7a54e942",
   "metadata": {
    "papermill": {
     "duration": 0.419791,
     "end_time": "2021-05-28T18:22:40.619164",
     "exception": false,
     "start_time": "2021-05-28T18:22:40.199373",
     "status": "completed"
    },
    "tags": []
   },
   "source": [
    "#### Turn selected columns values uppercase"
   ]
  },
  {
   "cell_type": "code",
   "execution_count": 19,
   "id": "d6ccc902",
   "metadata": {
    "execution": {
     "iopub.execute_input": "2021-05-28T18:22:41.419924Z",
     "iopub.status.busy": "2021-05-28T18:22:41.418907Z",
     "iopub.status.idle": "2021-05-28T18:22:41.477494Z",
     "shell.execute_reply": "2021-05-28T18:22:41.479488Z"
    },
    "papermill": {
     "duration": 0.52523,
     "end_time": "2021-05-28T18:22:41.479488",
     "exception": false,
     "start_time": "2021-05-28T18:22:40.954258",
     "status": "completed"
    },
    "pycharm": {
     "name": "#%%\n"
    },
    "tags": []
   },
   "outputs": [],
   "source": [
    "validcols = ['business_unit', 'currency', 'region', 'type_of_analysis', 'type_of_business', 'type_of_account', 'lob',\n",
    "             'distribution_type', 'distribution_channel', ]\n",
    "\n",
    "for c in validcols:\n",
    "    trandata[c] = trandata[c].astype(str)\n",
    "    trandata[c] = trandata[c].apply(lambda x: x.upper())"
   ]
  },
  {
   "cell_type": "markdown",
   "id": "6b52dd19",
   "metadata": {
    "papermill": {
     "duration": 0.353542,
     "end_time": "2021-05-28T18:22:42.143194",
     "exception": false,
     "start_time": "2021-05-28T18:22:41.789652",
     "status": "completed"
    },
    "tags": []
   },
   "source": [
    "#### Read the values from the Global Attribute Catalog, one field per loop iterance and xlsx sheet."
   ]
  },
  {
   "cell_type": "code",
   "execution_count": 20,
   "id": "1ba6656b",
   "metadata": {
    "execution": {
     "iopub.execute_input": "2021-05-28T18:22:42.803572Z",
     "iopub.status.busy": "2021-05-28T18:22:42.802571Z",
     "iopub.status.idle": "2021-05-28T18:22:45.902138Z",
     "shell.execute_reply": "2021-05-28T18:22:45.904147Z"
    },
    "papermill": {
     "duration": 3.442623,
     "end_time": "2021-05-28T18:22:45.904147",
     "exception": false,
     "start_time": "2021-05-28T18:22:42.461524",
     "status": "completed"
    },
    "pycharm": {
     "name": "#%%\n"
    },
    "tags": []
   },
   "outputs": [],
   "source": [
    "checktabs = []\n",
    "\n",
    "\n",
    "\n",
    "for s in validcols:\n",
    "    t = pd.read_excel(atcat, sheet_name = s )\n",
    "    checktabs.append([[s], [t]])\n",
    "\n",
    "gacout = []\n"
   ]
  },
  {
   "cell_type": "markdown",
   "id": "d4463f5f",
   "metadata": {
    "papermill": {
     "duration": 0.332534,
     "end_time": "2021-05-28T18:22:46.558566",
     "exception": false,
     "start_time": "2021-05-28T18:22:46.226032",
     "status": "completed"
    },
    "tags": []
   },
   "source": [
    "#### Compare the lists from the previous step and each field. Find those that do not match, make lists of unique values\n",
    "#### replace any that have replacements in GPPM inoout already, make a list of values without any matches.\n"
   ]
  },
  {
   "cell_type": "code",
   "execution_count": 21,
   "id": "ced9985e",
   "metadata": {
    "execution": {
     "iopub.execute_input": "2021-05-28T18:22:47.248008Z",
     "iopub.status.busy": "2021-05-28T18:22:47.226010Z",
     "iopub.status.idle": "2021-05-28T18:22:47.428010Z",
     "shell.execute_reply": "2021-05-28T18:22:47.429009Z"
    },
    "papermill": {
     "duration": 0.55235,
     "end_time": "2021-05-28T18:22:47.430010",
     "exception": false,
     "start_time": "2021-05-28T18:22:46.877660",
     "status": "completed"
    },
    "pycharm": {
     "name": "#%%\n"
    },
    "tags": []
   },
   "outputs": [],
   "source": [
    "# todo rewrite this beginner code to use dicts and simplify\n",
    "\n",
    "for u in enumerate(validcols):\n",
    "    trandata.loc[0:len(trandata[u[1]]), u[1]] = trandata[u[1]].replace(\n",
    "        [checktabs[u[0]][1][0]['Upper_Vers']][0].to_numpy(), [checktabs[u[0]][1][0][u[1]]][0].to_numpy())\n",
    "    d = list(checktabs[u[0]][1][0]['Non Matches'].drop_duplicates().dropna().append(\n",
    "        pd.Series(trandata[u[1]][~trandata[u[1]].isin(checktabs[u[0]][1][0][u[1]])].drop_duplicates().dropna()),\n",
    "        ignore_index=True))\n",
    "    g = [checktabs[u[0]][1][0][str(u[1])], checktabs[u[0]][1][0]['Upper_Vers'], checktabs[u[0]][1][0]['Unnamed: 2'],\n",
    "         pd.Series(d, dtype='object').drop_duplicates().dropna(), checktabs[u[0]][1][0]['User Defined Corrections']]\n",
    "    gacout.append(list([g, u[1]]))"
   ]
  },
  {
   "cell_type": "markdown",
   "id": "c529579e",
   "metadata": {
    "papermill": {
     "duration": 0.407383,
     "end_time": "2021-05-28T18:22:48.177828",
     "exception": false,
     "start_time": "2021-05-28T18:22:47.770445",
     "status": "completed"
    },
    "tags": []
   },
   "source": [
    "#### Rebuild the GPPM input file, with the replaced values in the bad values column of each sheet.\n",
    "#### Step one, make and xlsx with a notes page."
   ]
  },
  {
   "cell_type": "code",
   "execution_count": 22,
   "id": "130ce32b",
   "metadata": {
    "execution": {
     "iopub.execute_input": "2021-05-28T18:22:48.901843Z",
     "iopub.status.busy": "2021-05-28T18:22:48.894834Z",
     "iopub.status.idle": "2021-05-28T18:22:49.347533Z",
     "shell.execute_reply": "2021-05-28T18:22:49.348532Z"
    },
    "papermill": {
     "duration": 0.820216,
     "end_time": "2021-05-28T18:22:49.349533",
     "exception": false,
     "start_time": "2021-05-28T18:22:48.529317",
     "status": "completed"
    },
    "pycharm": {
     "name": "#%%\n"
    },
    "tags": []
   },
   "outputs": [],
   "source": [
    "w = ExcelWriter(atcat)\n",
    "notes = pd.DataFrame([\n",
    "    \"This page is script generated during the source creation process. Do not edit these notes directly in the file as they will be overwritten\",\n",
    "    \"\", \"\"\n",
    "    , \" Purpose :     to manage attribute entries in the data collection process, this workbook documents and organizes all entries and also allows a user to swap those that do \\\n",
    "                        not conform to validation rules  with an entry of their choice\",\n",
    "    \" Each attribute field that requires validation has its own sheet tab\", \"\"\n",
    "    , \"Column A:    of each sheet tab contains all unique acceptable responses\",\n",
    "    \"Column B:    an upper case version, to wrangle case mismatches\",\n",
    "    \"Column D:   is generated by the process, this is a list of an uppercase version of each unique unacceptable response, this builds over time with each collection\",\n",
    "    \"Column E:   you can enter accpetable response here (sase sensitive) to be swapped out in the data, save and exit this file, run the process again and they will be replaced\"\n",
    "    , \"\", \"\", \"Gavin Harmon 9 - July -2020\"])\n",
    "\n",
    "notes.columns = ['Notes']\n",
    "\n",
    "notes.to_excel(w, index=False, sheet_name=\"Notes\")"
   ]
  },
  {
   "cell_type": "markdown",
   "id": "2f9feb55",
   "metadata": {
    "papermill": {
     "duration": 0.328085,
     "end_time": "2021-05-28T18:22:49.997920",
     "exception": false,
     "start_time": "2021-05-28T18:22:49.669835",
     "status": "completed"
    },
    "tags": []
   },
   "source": [
    "#### Step two, build the new sheets for each validcols field"
   ]
  },
  {
   "cell_type": "code",
   "execution_count": 23,
   "id": "e8072caf",
   "metadata": {
    "execution": {
     "iopub.execute_input": "2021-05-28T18:22:50.722380Z",
     "iopub.status.busy": "2021-05-28T18:22:50.674385Z",
     "iopub.status.idle": "2021-05-28T18:22:51.291353Z",
     "shell.execute_reply": "2021-05-28T18:22:51.293351Z"
    },
    "papermill": {
     "duration": 0.976419,
     "end_time": "2021-05-28T18:22:51.294351",
     "exception": false,
     "start_time": "2021-05-28T18:22:50.317932",
     "status": "completed"
    },
    "pycharm": {
     "name": "#%%\n"
    },
    "tags": []
   },
   "outputs": [],
   "source": [
    "for v in enumerate(validcols):\n",
    "    df = pd.DataFrame(gacout[v[0]][0], index=[f\"{v[1]}\", 'Upper_Vers', '', 'Non Matches', 'User Defined Corrections']).T\n",
    "    df.to_excel(w, index=False, sheet_name=gacout[v[0]][1])\n",
    "w.save()"
   ]
  },
  {
   "cell_type": "markdown",
   "id": "042f2dff",
   "metadata": {
    "papermill": {
     "duration": 0.299071,
     "end_time": "2021-05-28T18:22:51.937171",
     "exception": false,
     "start_time": "2021-05-28T18:22:51.638100",
     "status": "completed"
    },
    "tags": []
   },
   "source": [
    "#### Step three, read these lists back in, make the necessary replacements in the DataFrame"
   ]
  },
  {
   "cell_type": "code",
   "execution_count": 24,
   "id": "7ff937c6",
   "metadata": {
    "execution": {
     "iopub.execute_input": "2021-05-28T18:22:52.621612Z",
     "iopub.status.busy": "2021-05-28T18:22:52.620613Z",
     "iopub.status.idle": "2021-05-28T18:22:55.118134Z",
     "shell.execute_reply": "2021-05-28T18:22:55.117134Z"
    },
    "papermill": {
     "duration": 2.854944,
     "end_time": "2021-05-28T18:22:55.118134",
     "exception": false,
     "start_time": "2021-05-28T18:22:52.263190",
     "status": "completed"
    },
    "pycharm": {
     "name": "#%%\n"
    },
    "tags": []
   },
   "outputs": [],
   "source": [
    "for s in validcols:\n",
    "    t = pd.read_excel(f'//hecate/Insurance_US/Product Development/Product Management/Global PPM/Reporting/Data Collection/Production/{str(percode)}\\\\{str(percode)}_Attribute_Catalog.xlsx', sheet_name = s )\n",
    "    checktabs.append([[s],[t]])"
   ]
  },
  {
   "cell_type": "code",
   "execution_count": 25,
   "id": "3a49b31e",
   "metadata": {
    "execution": {
     "iopub.execute_input": "2021-05-28T18:22:55.710510Z",
     "iopub.status.busy": "2021-05-28T18:22:55.700515Z",
     "iopub.status.idle": "2021-05-28T18:22:55.799033Z",
     "shell.execute_reply": "2021-05-28T18:22:55.798033Z"
    },
    "papermill": {
     "duration": 0.379254,
     "end_time": "2021-05-28T18:22:55.799033",
     "exception": false,
     "start_time": "2021-05-28T18:22:55.419779",
     "status": "completed"
    },
    "pycharm": {
     "name": "#%%\n"
    },
    "tags": []
   },
   "outputs": [],
   "source": [
    "gacout = []\n",
    "\n",
    "for u in enumerate(validcols):\n",
    "    trandata.loc[0:len(trandata[u[1]]), u[1]] = trandata[u[1]].replace(\n",
    "        [checktabs[u[0]][1][0]['Non Matches']][0].to_numpy(),\n",
    "        [checktabs[u[0]][1][0]['User Defined Corrections']][0].to_numpy())\n",
    "repper = trandata[['business_unit', 'reporting_date_to']]\n",
    "repper = pd.DataFrame({\"business_unit\": (repper['business_unit']), \"YearMo\": (repper['reporting_date_to'])})\n",
    "minrep = repper.groupby(['business_unit']).max()\n",
    "a = trandata['business_unit'].replace(list(minrep.axes[0]), minrep.get(\"YearMo\"))\n",
    "trandata['rep_date'] = a\n",
    "trandata.loc[0:len(trandata['business_partner_id_number']), 'business_partner_id_number'] = trandata[\n",
    "    'business_partner_id_number'].replace('0', 'Not Provided').fillna('Not Provided')\n",
    "trandata.loc[0:len(trandata['product_id_number']), 'product_id_number'] = trandata['product_id_number'].replace('0',\n",
    "                                                                                                                'Not Provided').replace(\n",
    "    '-', 'Not Provided').fillna('Not Provided')\n",
    "trandata.loc[0:len(trandata['sub_lob']), 'sub_lob'] = trandata['sub_lob'].replace('0', 'Not Provided').replace('-',\n",
    "                                                                                                               'Not Provided').replace(\n",
    "    'Other', 'Not Provided').fillna('Not Provided')"
   ]
  },
  {
   "cell_type": "markdown",
   "id": "08c8a76c",
   "metadata": {
    "papermill": {
     "duration": 0.330997,
     "end_time": "2021-05-28T18:22:56.432361",
     "exception": false,
     "start_time": "2021-05-28T18:22:56.101364",
     "status": "completed"
    },
    "tags": []
   },
   "source": [
    "#### Evaluate the current state, alert the user if input is needed.\n",
    "- At the end of this process, alert the user with instructions if they need to adjust bad entries for validated fields.\n",
    "\n"
   ]
  },
  {
   "cell_type": "code",
   "execution_count": 26,
   "id": "eb7ac967",
   "metadata": {
    "execution": {
     "iopub.execute_input": "2021-05-28T18:22:57.098132Z",
     "iopub.status.busy": "2021-05-28T18:22:57.055130Z",
     "iopub.status.idle": "2021-05-28T18:23:00.148852Z",
     "shell.execute_reply": "2021-05-28T18:23:00.150855Z"
    },
    "papermill": {
     "duration": 3.422291,
     "end_time": "2021-05-28T18:23:00.152882",
     "exception": false,
     "start_time": "2021-05-28T18:22:56.730591",
     "status": "completed"
    },
    "tags": []
   },
   "outputs": [],
   "source": [
    "#see above note about converting to dictionaries\n",
    "\n",
    "#Make lists of all the attribute catalog entries that do not have a correction as a list of errors.\n",
    "err_messages = []\n",
    "\n",
    "for idx, i in enumerate(checktabs):\n",
    "    subset_no_nans =  i[1][0][['Non Matches', 'User Defined Corrections']][~i[1][0]['Non Matches'].isna()]\n",
    "    entries = subset_no_nans['Non Matches'][subset_no_nans['User Defined Corrections'].isna()]. tolist()\n",
    "    if len(entries) > 0: \n",
    "        err_messages.append(f'Please deal with bad entries {entries} on tab {i[0][0]} of the Attribute Catalog.')\n",
    "\n",
    "#raise an error to stop the process and give instructions\n",
    "\n",
    "# define Python user-defined exceptions\n",
    "\n",
    "\n",
    "# define Python user-defined exceptions\n",
    "class Error(Exception):\n",
    "    \"\"\"Base class for other exceptions\"\"\"\n",
    "    pass\n",
    "\n",
    "class BadEntriesError(Error):\n",
    "    \"\"\"Raised when the input value is too large\"\"\"\n",
    "    for i in err_messages : print(i)\n",
    "    \n",
    "    os.startfile(atcat)\n",
    "\n",
    "if len(err_messages) > 0:\n",
    "    raise BadEntriesError\n",
    "else:\n",
    "    pass\n",
    "        "
   ]
  },
  {
   "cell_type": "markdown",
   "id": "918d5cfd",
   "metadata": {
    "papermill": {
     "duration": 0.44983,
     "end_time": "2021-05-28T18:23:01.468052",
     "exception": false,
     "start_time": "2021-05-28T18:23:01.018222",
     "status": "completed"
    },
    "tags": []
   },
   "source": [
    "#### Remove empty rows, if there is no claims experience and no revenue for a 12 month period, it should not be included"
   ]
  },
  {
   "cell_type": "code",
   "execution_count": 27,
   "id": "d80da9ad",
   "metadata": {
    "execution": {
     "iopub.execute_input": "2021-05-28T18:23:02.542931Z",
     "iopub.status.busy": "2021-05-28T18:23:02.529883Z",
     "iopub.status.idle": "2021-05-28T18:23:02.590927Z",
     "shell.execute_reply": "2021-05-28T18:23:02.592934Z"
    },
    "papermill": {
     "duration": 0.795662,
     "end_time": "2021-05-28T18:23:02.592934",
     "exception": false,
     "start_time": "2021-05-28T18:23:01.797272",
     "status": "completed"
    },
    "pycharm": {
     "name": "#%%\n"
    },
    "tags": []
   },
   "outputs": [],
   "source": [
    "trandata = trandata.loc[(trandata['units_of_risk_(written)'].fillna(0).replace('', 0)\n",
    "                         + trandata['written_revenues_net_of_taxes'].fillna(0).replace('', 0)\n",
    "                         + trandata['written_revenues'].fillna(0).replace('', 0)\n",
    "                         + trandata['number_of_policies_(earned)'].fillna(0).replace('', 0)\n",
    "                         + trandata['units_of_risk_(earned)'].fillna(0).replace('', 0)\n",
    "                         + trandata['earned_revenues_net_of_taxes'].fillna(0).replace('', 0)\n",
    "                         + trandata['earned_revenues'].fillna(0).replace('', 0)\n",
    "                         + trandata['earned_base_commissions'].fillna(0).replace('', 0)\n",
    "                         + trandata['upfront_cash_payments'].fillna(0).replace('', 0)\n",
    "                         + trandata['earned_over-commissions'].fillna(0).replace('', 0)\n",
    "                         + trandata['total_compensation'].fillna(0).replace('', 0)\n",
    "                         + trandata['number_of_claims_(paid_+_ocr_+_ibnr)'].fillna(0).replace('', 0)\n",
    "                         + trandata['number_of_open_claims'].fillna(0).replace('', 0)\n",
    "                         + trandata['open_claims_%'].fillna(0).replace('', 0)\n",
    "                         + trandata['number_of_persons_involved_in_claims_(paid_+_ocr_+_ibnr)'].fillna(0).replace('', 0)\n",
    "                         + trandata['paid_claims'].fillna(0).replace('', 0)\n",
    "                         + trandata['ocr_+_ibnr'].fillna(0).replace('', 0)\n",
    "                         + trandata['actual_incurred_losses_(paid_+_ocr_+_ibnr)'].fillna(0).replace('', 0)\n",
    "                         + trandata['internal_variable_costs_(excl._az_tech_fee)'].fillna(0).replace('', 0)\n",
    "                         + trandata['az_tech_fee'].fillna(0).replace('', 0)\n",
    "                         + trandata['internal_fixed_costs_(excl._hq_fees)'].fillna(0).replace('', 0)\n",
    "                         + trandata['hq_fees'].fillna(0).replace('', 0)\n",
    "                         + trandata['total_expenses'].fillna(0).replace('', 0)\n",
    "                         + trandata['frequency_(earned)'].fillna(0).replace('', 0)\n",
    "                         + trandata['severity'].fillna(0).replace('', 0))\n",
    "                        != 0]"
   ]
  },
  {
   "cell_type": "markdown",
   "id": "cae1186e",
   "metadata": {
    "papermill": {
     "duration": 1.245065,
     "end_time": "2021-05-28T18:23:04.192065",
     "exception": false,
     "start_time": "2021-05-28T18:23:02.947000",
     "status": "completed"
    },
    "pycharm": {
     "name": "#%% md\n"
    },
    "tags": []
   },
   "source": [
    "#### Output temp file"
   ]
  },
  {
   "cell_type": "code",
   "execution_count": 28,
   "id": "b9cfa66e",
   "metadata": {
    "execution": {
     "iopub.execute_input": "2021-05-28T18:23:04.996519Z",
     "iopub.status.busy": "2021-05-28T18:23:04.994517Z",
     "iopub.status.idle": "2021-05-28T18:23:07.675752Z",
     "shell.execute_reply": "2021-05-28T18:23:07.676753Z"
    },
    "papermill": {
     "duration": 3.033096,
     "end_time": "2021-05-28T18:23:07.676753",
     "exception": false,
     "start_time": "2021-05-28T18:23:04.643657",
     "status": "completed"
    },
    "pycharm": {
     "name": "#%%\n"
    },
    "tags": []
   },
   "outputs": [],
   "source": [
    "trandata.to_parquet(\n",
    "    f'//hecate/Insurance_US/Product Development/Product Management/Global PPM/Reporting/Data Collection/Production/{str(percode)}\\\\{str(percode)}.localcur.parquet', engine = \"pyarrow\")\n",
    "\n"
   ]
  },
  {
   "cell_type": "markdown",
   "id": "810d0231",
   "metadata": {
    "papermill": {
     "duration": 0.290131,
     "end_time": "2021-05-28T18:23:08.241939",
     "exception": false,
     "start_time": "2021-05-28T18:23:07.951808",
     "status": "completed"
    },
    "tags": []
   },
   "source": [
    "#### Store the DataFrame for other noteboks to use"
   ]
  },
  {
   "cell_type": "code",
   "execution_count": 29,
   "id": "41d12656",
   "metadata": {
    "execution": {
     "iopub.execute_input": "2021-05-28T18:23:08.878168Z",
     "iopub.status.busy": "2021-05-28T18:23:08.875170Z",
     "iopub.status.idle": "2021-05-28T18:23:08.905172Z",
     "shell.execute_reply": "2021-05-28T18:23:08.906168Z"
    },
    "papermill": {
     "duration": 0.341236,
     "end_time": "2021-05-28T18:23:08.906168",
     "exception": false,
     "start_time": "2021-05-28T18:23:08.564932",
     "status": "completed"
    },
    "tags": []
   },
   "outputs": [
    {
     "name": "stdout",
     "output_type": "stream",
     "text": [
      "Stored 'py_t_df' (DataFrame)\n"
     ]
    }
   ],
   "source": [
    "py_t_df = trandata\n",
    "\n",
    "%store py_t_df\n"
   ]
  }
 ],
 "metadata": {
  "celltoolbar": "Tags",
  "kernelspec": {
   "display_name": "Python 3",
   "language": "python",
   "name": "python3"
  },
  "language_info": {
   "codemirror_mode": {
    "name": "ipython",
    "version": 3
   },
   "file_extension": ".py",
   "mimetype": "text/x-python",
   "name": "python",
   "nbconvert_exporter": "python",
   "pygments_lexer": "ipython3",
   "version": "3.7.6"
  },
  "papermill": {
   "default_parameters": {},
   "duration": 66.719171,
   "end_time": "2021-05-28T18:23:09.725000",
   "environment_variables": {},
   "exception": null,
   "input_path": "pipeline/py_transform.ipynb",
   "output_path": "//hecate/Insurance_US/Product Development/Product Management/Global PPM/Reporting/Data Collection/Pipeline Reporting Scripts/GPMpipeline/instances/2021.Q1\\pipeline\\py_transform05282021141936--Demo.ipynb",
   "parameters": {
    "commit_message": "Demo Test",
    "inst_datetime": "05282021141936",
    "percode": "2021.Q1",
    "run_control": 1
   },
   "start_time": "2021-05-28T18:22:03.005829",
   "version": "2.3.3"
  }
 },
 "nbformat": 4,
 "nbformat_minor": 5
}