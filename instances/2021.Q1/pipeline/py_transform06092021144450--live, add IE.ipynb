{
 "cells": [
  {
   "cell_type": "markdown",
   "id": "70c49f05",
   "metadata": {
    "tags": [
     "papermill-error-cell-tag"
    ]
   },
   "source": [
    "<span style=\"color:red; font-family:Helvetica Neue, Helvetica, Arial, sans-serif; font-size:2em;\">An Exception was encountered at '<a href=\"#papermill-error-cell\">In [23]</a>'.</span>"
   ]
  },
  {
   "cell_type": "markdown",
   "id": "3d6f87c9",
   "metadata": {
    "papermill": {
     "duration": 0.451243,
     "end_time": "2021-06-09T18:54:01.072898",
     "exception": false,
     "start_time": "2021-06-09T18:54:00.621655",
     "status": "completed"
    },
    "pycharm": {
     "name": "#%% md\n"
    },
    "tags": []
   },
   "source": [
    "<img src=\"../images/AzPTravel_PPM.png\">"
   ]
  },
  {
   "cell_type": "markdown",
   "id": "b9f8c794",
   "metadata": {
    "collapsed": true,
    "papermill": {
     "duration": 0.517124,
     "end_time": "2021-06-09T18:54:02.057420",
     "exception": false,
     "start_time": "2021-06-09T18:54:01.540296",
     "status": "completed"
    },
    "pycharm": {
     "name": "#%% md\n"
    },
    "tags": []
   },
   "source": [
    "## GPM Data Transformation Script\n",
    "\n",
    "#### This script transforms the single consolidated raw file \"{Data Collection}.csv\" into it's final GPM input versions \"{Data Collection Code}localcur.csv\" and \"{Data Collection Code}euroconv.csv\"\n",
    "#### Current transformations\n",
    "\n",
    "-    make headers lowercase and replace spaces with hyphens\n",
    "-    Remove any rows with null BUs\n",
    "-    validate columns in validcols\n",
    "-    output documented here: \"Global_Attribute_Catalog.xlsx\" you can also edit dataframe entries using the instructions in the file\n",
    "-    replace various null or placeholder values with \"Not Provided\"\n"
   ]
  },
  {
   "cell_type": "markdown",
   "id": "658fe205",
   "metadata": {
    "papermill": {
     "duration": 0.727807,
     "end_time": "2021-06-09T18:54:03.301745",
     "exception": false,
     "start_time": "2021-06-09T18:54:02.573938",
     "status": "completed"
    },
    "tags": []
   },
   "source": [
    "###"
   ]
  },
  {
   "cell_type": "code",
   "execution_count": 1,
   "id": "fa3d56be",
   "metadata": {
    "execution": {
     "iopub.execute_input": "2021-06-09T18:54:04.357160Z",
     "iopub.status.busy": "2021-06-09T18:54:04.357160Z",
     "iopub.status.idle": "2021-06-09T18:54:04.388431Z",
     "shell.execute_reply": "2021-06-09T18:54:04.404056Z"
    },
    "papermill": {
     "duration": 0.532854,
     "end_time": "2021-06-09T18:54:04.404056",
     "exception": false,
     "start_time": "2021-06-09T18:54:03.871202",
     "status": "completed"
    },
    "pycharm": {
     "name": "#%%\n"
    },
    "tags": [
     "parameters"
    ]
   },
   "outputs": [],
   "source": [
    "commit = \"\"\n",
    "# give a reason for the run\n",
    "\n",
    "percode = \"20XX.QX\"\n",
    "# Data Collection Code, this controls file paths and output names\n",
    "\n",
    "run_type = 1\n",
    "#run_type =  0 - lite run with no reporting, not recommended.\n",
    "#run_type =  1 - lite run with normal reporting, default setting.\n",
    "#run_type =  2 - Heavy run with full reporting, available for audits and troubleshooting.\n",
    "\n",
    "specialchars = \"-GTHtest\"\n",
    "# optional - add up to a 12 character code in order to mark your instance record .ipynb\n",
    "\n",
    "from datetime import datetime\n",
    "inst_datetime = datetime.now().strftime(\"%m%d%Y%H%M%S\")\n",
    "# a single datetime stamp for the full instance run\n"
   ]
  },
  {
   "cell_type": "code",
   "execution_count": 2,
   "id": "a5d53266",
   "metadata": {
    "execution": {
     "iopub.execute_input": "2021-06-09T18:54:05.527156Z",
     "iopub.status.busy": "2021-06-09T18:54:05.525146Z",
     "iopub.status.idle": "2021-06-09T18:54:05.542803Z",
     "shell.execute_reply": "2021-06-09T18:54:05.542803Z"
    },
    "papermill": {
     "duration": 0.609424,
     "end_time": "2021-06-09T18:54:05.542803",
     "exception": false,
     "start_time": "2021-06-09T18:54:04.933379",
     "status": "completed"
    },
    "tags": [
     "injected-parameters"
    ]
   },
   "outputs": [],
   "source": [
    "# Parameters\n",
    "run_control = 1\n",
    "percode = \"2021.Q1\"\n",
    "commit_message = \"Live run,Late additions EI was not present.\"\n",
    "inst_datetime = \"06092021144450\"\n"
   ]
  },
  {
   "cell_type": "markdown",
   "id": "8b3c1874",
   "metadata": {
    "papermill": {
     "duration": 0.616271,
     "end_time": "2021-06-09T18:54:06.796940",
     "exception": false,
     "start_time": "2021-06-09T18:54:06.180669",
     "status": "completed"
    },
    "tags": []
   },
   "source": [
    "### Set Run Control\n",
    "\n",
    "##### 0 - lite run with no reporting, not recommended.\n",
    "##### 1 - lite run with normal reporting, default setting.\n",
    "##### 2 - Heavy run with full reporting, available for audits and troubleshooting."
   ]
  },
  {
   "cell_type": "code",
   "execution_count": 3,
   "id": "f8a1a6fe",
   "metadata": {
    "execution": {
     "iopub.execute_input": "2021-06-09T18:54:07.775891Z",
     "iopub.status.busy": "2021-06-09T18:54:07.760262Z",
     "iopub.status.idle": "2021-06-09T18:54:07.782464Z",
     "shell.execute_reply": "2021-06-09T18:54:07.782464Z"
    },
    "papermill": {
     "duration": 0.469702,
     "end_time": "2021-06-09T18:54:07.782464",
     "exception": false,
     "start_time": "2021-06-09T18:54:07.312762",
     "status": "completed"
    },
    "pycharm": {
     "name": "#%%\n"
    },
    "tags": []
   },
   "outputs": [],
   "source": [
    "run_control = 0  # in development mode"
   ]
  },
  {
   "cell_type": "code",
   "execution_count": 4,
   "id": "13b9caaa",
   "metadata": {
    "execution": {
     "iopub.execute_input": "2021-06-09T18:54:08.900540Z",
     "iopub.status.busy": "2021-06-09T18:54:08.884894Z",
     "iopub.status.idle": "2021-06-09T18:54:13.224569Z",
     "shell.execute_reply": "2021-06-09T18:54:13.224569Z"
    },
    "papermill": {
     "duration": 4.863345,
     "end_time": "2021-06-09T18:54:13.224569",
     "exception": false,
     "start_time": "2021-06-09T18:54:08.361224",
     "status": "completed"
    },
    "pycharm": {
     "name": "#%%\n"
    },
    "tags": []
   },
   "outputs": [],
   "source": [
    "#### Packages used\n",
    "import sys\n",
    "import os\n",
    "import pandas as pd\n",
    "from pandas import ExcelWriter\n",
    "from numpy import nan"
   ]
  },
  {
   "cell_type": "code",
   "execution_count": 5,
   "id": "465852ad",
   "metadata": {
    "execution": {
     "iopub.execute_input": "2021-06-09T18:54:14.173316Z",
     "iopub.status.busy": "2021-06-09T18:54:14.157676Z",
     "iopub.status.idle": "2021-06-09T18:54:14.195468Z",
     "shell.execute_reply": "2021-06-09T18:54:14.195468Z"
    },
    "papermill": {
     "duration": 0.520522,
     "end_time": "2021-06-09T18:54:14.195468",
     "exception": false,
     "start_time": "2021-06-09T18:54:13.674946",
     "status": "completed"
    },
    "pycharm": {
     "name": "#%%\n"
    },
    "tags": []
   },
   "outputs": [],
   "source": [
    "default_dc = \"2021.Q1\"\n",
    "\n",
    "try:\n",
    "    if sys.argv[1] == \"-f\":\n",
    "        percode = default_dc\n",
    "    else:\n",
    "        percode = sys.argv[1]\n",
    "\n",
    "except IndexError:\n",
    "    percode = default_dc\n",
    "except NameError:\n",
    "    percode = default_dc"
   ]
  },
  {
   "cell_type": "markdown",
   "id": "b5cdf5b0",
   "metadata": {
    "papermill": {
     "duration": 0.601176,
     "end_time": "2021-06-09T18:54:15.298126",
     "exception": false,
     "start_time": "2021-06-09T18:54:14.696950",
     "status": "completed"
    },
    "tags": []
   },
   "source": [
    "#### style settings"
   ]
  },
  {
   "cell_type": "code",
   "execution_count": 6,
   "id": "f21f44dd",
   "metadata": {
    "execution": {
     "iopub.execute_input": "2021-06-09T18:54:16.516411Z",
     "iopub.status.busy": "2021-06-09T18:54:16.516411Z",
     "iopub.status.idle": "2021-06-09T18:54:16.531651Z",
     "shell.execute_reply": "2021-06-09T18:54:16.531651Z"
    },
    "papermill": {
     "duration": 0.569623,
     "end_time": "2021-06-09T18:54:16.531651",
     "exception": false,
     "start_time": "2021-06-09T18:54:15.962028",
     "status": "completed"
    },
    "tags": []
   },
   "outputs": [],
   "source": [
    "from IPython.core.interactiveshell import InteractiveShell\n",
    "InteractiveShell.ast_node_interactivity = \"all\""
   ]
  },
  {
   "cell_type": "markdown",
   "id": "08d560d0",
   "metadata": {
    "papermill": {
     "duration": 0.508428,
     "end_time": "2021-06-09T18:54:17.572044",
     "exception": false,
     "start_time": "2021-06-09T18:54:17.063616",
     "status": "completed"
    },
    "tags": []
   },
   "source": [
    "#### Convert paths and files to variables.\n",
    "#### Read data into pd DataFrames.\n",
    "#### Make paths for the live sources."
   ]
  },
  {
   "cell_type": "code",
   "execution_count": 7,
   "id": "ef3b2ed3",
   "metadata": {
    "execution": {
     "iopub.execute_input": "2021-06-09T18:54:18.672705Z",
     "iopub.status.busy": "2021-06-09T18:54:18.657082Z",
     "iopub.status.idle": "2021-06-09T18:54:18.672705Z",
     "shell.execute_reply": "2021-06-09T18:54:18.672705Z"
    },
    "papermill": {
     "duration": 0.552847,
     "end_time": "2021-06-09T18:54:18.672705",
     "exception": false,
     "start_time": "2021-06-09T18:54:18.119858",
     "status": "completed"
    },
    "pycharm": {
     "name": "#%%\n"
    },
    "tags": []
   },
   "outputs": [],
   "source": [
    "rt_path = os.path.join( f'\\\\\\\\hecate\\\\Insurance_US\\\\Product Development\\\\Product Management\\\\Global PPM\\\\Reporting\\\\Data Collection\\\\Production',percode)\n",
    "\n",
    "infile = os.path.join(rt_path, f'{str(percode)}.parquet')\n",
    "gppm_file = os.path.join(rt_path, f'GPPM_Input_{str(percode)}.xlsx')\n",
    "atcat = os.path.join(rt_path, f'{percode}_Attribute_Catalog.xlsx')\n"
   ]
  },
  {
   "cell_type": "code",
   "execution_count": 8,
   "id": "7d8560b7",
   "metadata": {
    "execution": {
     "iopub.execute_input": "2021-06-09T18:54:19.897873Z",
     "iopub.status.busy": "2021-06-09T18:54:19.897873Z",
     "iopub.status.idle": "2021-06-09T18:54:19.897873Z",
     "shell.execute_reply": "2021-06-09T18:54:19.897873Z"
    },
    "papermill": {
     "duration": 0.588387,
     "end_time": "2021-06-09T18:54:19.897873",
     "exception": false,
     "start_time": "2021-06-09T18:54:19.309486",
     "status": "completed"
    },
    "tags": []
   },
   "outputs": [],
   "source": [
    "#### Read input file\n",
    "\n",
    "#### This reads the consolidated file that will be transformed or a stored dataframe based on the execution method."
   ]
  },
  {
   "cell_type": "code",
   "execution_count": 9,
   "id": "c2e8d9f7",
   "metadata": {
    "execution": {
     "iopub.execute_input": "2021-06-09T18:54:21.083249Z",
     "iopub.status.busy": "2021-06-09T18:54:21.083249Z",
     "iopub.status.idle": "2021-06-09T18:54:21.253175Z",
     "shell.execute_reply": "2021-06-09T18:54:21.253175Z"
    },
    "papermill": {
     "duration": 0.652812,
     "end_time": "2021-06-09T18:54:21.253175",
     "exception": false,
     "start_time": "2021-06-09T18:54:20.600363",
     "status": "completed"
    },
    "pycharm": {
     "name": "#%%\n"
    },
    "tags": []
   },
   "outputs": [
    {
     "name": "stdout",
     "output_type": "stream",
     "text": [
      "                        Submission File Business Unit Country Currency  \\\n",
      "0      us_dat_at_+te_q1_2021_at.parquet            AT      AT      EUR   \n",
      "1      us_dat_at_+te_q1_2021_at.parquet            AT      AT      EUR   \n",
      "2      us_dat_at_+te_q1_2021_at.parquet            AT      AT      EUR   \n",
      "3      us_dat_at_+te_q1_2021_at.parquet            AT      AT      EUR   \n",
      "4      us_dat_at_+te_q1_2021_at.parquet            AT      AT      EUR   \n",
      "...                                 ...           ...     ...      ...   \n",
      "13799  us_dat_us_06022021145526.parquet            US      US      USD   \n",
      "13800  us_dat_us_06022021145526.parquet            US      US      USD   \n",
      "13801  us_dat_us_06022021145526.parquet            US      US      USD   \n",
      "13802  us_dat_us_06022021145526.parquet            US      US      USD   \n",
      "13803  us_dat_us_06022021145526.parquet            US      US      USD   \n",
      "\n",
      "                                Region Reporting Date From Reporting Date To  \\\n",
      "0      North, Central & Eastern Europe          2021-01-01        2021-03-31   \n",
      "1      North, Central & Eastern Europe          2021-01-01        2021-03-31   \n",
      "2      North, Central & Eastern Europe          2021-01-01        2021-03-31   \n",
      "3      North, Central & Eastern Europe          2021-01-01        2021-03-31   \n",
      "4      North, Central & Eastern Europe          2021-01-01        2021-03-31   \n",
      "...                                ...                 ...               ...   \n",
      "13799                    North America          2021-01-01        2021-03-31   \n",
      "13800                    North America          2021-01-01        2021-03-31   \n",
      "13801                    North America          2021-01-01        2021-03-31   \n",
      "13802                    North America          2021-01-01        2021-03-31   \n",
      "13803                    North America          2021-01-01        2021-03-31   \n",
      "\n",
      "      Date of Analysis Type of Analysis  Analysed Months  ...    comsub  \\\n",
      "0           2021-05-07     Year To Date              3.0  ...  0.000000   \n",
      "1           2021-05-07     Year To Date              3.0  ...  0.000000   \n",
      "2           2021-05-07     Year To Date              3.0  ...  0.000000   \n",
      "3           2021-05-07     Year To Date              3.0  ...  0.000000   \n",
      "4           2021-05-07     Year To Date              3.0  ...  0.000000   \n",
      "...                ...              ...              ...  ...       ...   \n",
      "13799       2021-04-30     Year To Date              3.0  ...  0.000000   \n",
      "13800       2021-04-30     Year To Date              3.0  ...  0.000000   \n",
      "13801       2021-04-30     Year To Date              3.0  ...  0.000000   \n",
      "13802       2021-04-30     Year To Date              3.0  ...  0.344545   \n",
      "13803       2021-04-30     Year To Date              3.0  ...  0.271429   \n",
      "\n",
      "         expsub  Reporting Date From INT Reporting Date To INT  \\\n",
      "0      0.000000                      NaN                   NaN   \n",
      "1      0.000000                      NaN                   NaN   \n",
      "2      0.000000                      NaN                   NaN   \n",
      "3      0.000000                      NaN                   NaN   \n",
      "4      0.000000                      NaN                   NaN   \n",
      "...         ...                      ...                   ...   \n",
      "13799  0.000000               20210101.0            20210331.0   \n",
      "13800  0.000000               20210101.0            20210331.0   \n",
      "13801  0.000000               20210101.0            20210331.0   \n",
      "13802  0.200909               20210101.0            20210331.0   \n",
      "13803  0.208571               20210101.0            20210331.0   \n",
      "\n",
      "      Date of Analysis INT                     Selected Fields for Duplicates  \\\n",
      "0                      NaN                                                NaN   \n",
      "1                      NaN                                                NaN   \n",
      "2                      NaN                                                NaN   \n",
      "3                      NaN                                                NaN   \n",
      "4                      NaN                                                NaN   \n",
      "...                    ...                                                ...   \n",
      "13799           20210430.0  USInsuranceLocalB2B2CTravelOffline Travel Agen...   \n",
      "13800           20210430.0  USInsuranceLocalB2B2CTravelOffline Travel Agen...   \n",
      "13801           20210430.0  USInsuranceLocalB2B2CTravelOffline Travel Agen...   \n",
      "13802           20210430.0  USInsuranceLocalB2B2CTravelOffline Travel Agen...   \n",
      "13803           20210430.0  USInsuranceLocalB2B2CTravelOffline Travel Agen...   \n",
      "\n",
      "      ibnrsub Identifier to pull in results from Data tab Unnamed: 67  \\\n",
      "0         NaN                                         NaN         NaN   \n",
      "1         NaN                                         NaN         NaN   \n",
      "2         NaN                                         NaN         NaN   \n",
      "3         NaN                                         NaN         NaN   \n",
      "4         NaN                                         NaN         NaN   \n",
      "...       ...                                         ...         ...   \n",
      "13799     0.0                           314666064x1004320         0.0   \n",
      "13800     0.0                           315460246x1005115         0.0   \n",
      "13801     0.0                           319820436x1003748         0.0   \n",
      "13802     1.0                           319820436x1004320         0.0   \n",
      "13803     1.0                           319820436x1004534         0.0   \n",
      "\n",
      "      Unnamed: 68  \n",
      "0             NaN  \n",
      "1             NaN  \n",
      "2             NaN  \n",
      "3             NaN  \n",
      "4             NaN  \n",
      "...           ...  \n",
      "13799         0.0  \n",
      "13800         0.0  \n",
      "13801         0.0  \n",
      "13802         0.0  \n",
      "13803         0.0  \n",
      "\n",
      "[13804 rows x 79 columns]\n"
     ]
    }
   ],
   "source": [
    "try:\n",
    "    %store -r read_dc_df\n",
    "    input = read_dc_df\n",
    "        \n",
    "except:\n",
    "    input = pd.read_parquet(infile,engine = \"pyarrow\")\n",
    "    os.remove(infile)\n",
    "\n",
    "print(input)"
   ]
  },
  {
   "cell_type": "markdown",
   "id": "dce4d085",
   "metadata": {
    "papermill": {
     "duration": 0.572827,
     "end_time": "2021-06-09T18:54:22.401161",
     "exception": false,
     "start_time": "2021-06-09T18:54:21.828334",
     "status": "completed"
    },
    "tags": []
   },
   "source": [
    "#### Make a copy for debug purposes"
   ]
  },
  {
   "cell_type": "code",
   "execution_count": 10,
   "id": "a774eed6",
   "metadata": {
    "execution": {
     "iopub.execute_input": "2021-06-09T18:54:23.686791Z",
     "iopub.status.busy": "2021-06-09T18:54:23.686791Z",
     "iopub.status.idle": "2021-06-09T18:54:23.702591Z",
     "shell.execute_reply": "2021-06-09T18:54:23.702591Z"
    },
    "papermill": {
     "duration": 0.585611,
     "end_time": "2021-06-09T18:54:23.702591",
     "exception": false,
     "start_time": "2021-06-09T18:54:23.116980",
     "status": "completed"
    },
    "pycharm": {
     "name": "#%%\n"
    },
    "tags": []
   },
   "outputs": [],
   "source": [
    "trandata = input.copy()"
   ]
  },
  {
   "cell_type": "markdown",
   "id": "d042f119",
   "metadata": {
    "papermill": {
     "duration": 0.447617,
     "end_time": "2021-06-09T18:54:24.688981",
     "exception": false,
     "start_time": "2021-06-09T18:54:24.241364",
     "status": "completed"
    },
    "tags": []
   },
   "source": [
    "#### Format Headers"
   ]
  },
  {
   "cell_type": "code",
   "execution_count": 11,
   "id": "87da7b43",
   "metadata": {
    "execution": {
     "iopub.execute_input": "2021-06-09T18:54:26.068263Z",
     "iopub.status.busy": "2021-06-09T18:54:26.029845Z",
     "iopub.status.idle": "2021-06-09T18:54:26.121708Z",
     "shell.execute_reply": "2021-06-09T18:54:26.122698Z"
    },
    "papermill": {
     "duration": 0.934421,
     "end_time": "2021-06-09T18:54:26.123698",
     "exception": false,
     "start_time": "2021-06-09T18:54:25.189277",
     "status": "completed"
    },
    "pycharm": {
     "name": "#%%\n"
    },
    "tags": []
   },
   "outputs": [
    {
     "data": {
      "text/plain": [
       "'format headers'"
      ]
     },
     "execution_count": 11,
     "metadata": {},
     "output_type": "execute_result"
    }
   ],
   "source": [
    "# save the column names to variable, format them, replace headers\n",
    "cols = trandata.columns.values\n",
    "\n",
    "\"\"\"format headers\"\"\"\n",
    "fixedcols = []\n",
    "\n",
    "for f in cols:\n",
    "    fixedhead = f.replace(' ', '_').lower()\n",
    "    fixedcols.append(fixedhead)\n",
    "\n",
    "trandata.columns = fixedcols"
   ]
  },
  {
   "cell_type": "markdown",
   "id": "ef595df8",
   "metadata": {
    "papermill": {
     "duration": 0.651762,
     "end_time": "2021-06-09T18:54:28.009216",
     "exception": false,
     "start_time": "2021-06-09T18:54:27.357454",
     "status": "completed"
    },
    "pycharm": {
     "name": "#%% md\n"
    },
    "tags": []
   },
   "source": [
    "#### Update Verification 1"
   ]
  },
  {
   "cell_type": "code",
   "execution_count": 12,
   "id": "bec28639",
   "metadata": {
    "execution": {
     "iopub.execute_input": "2021-06-09T18:54:29.126560Z",
     "iopub.status.busy": "2021-06-09T18:54:29.126560Z",
     "iopub.status.idle": "2021-06-09T18:54:30.219220Z",
     "shell.execute_reply": "2021-06-09T18:54:30.221218Z"
    },
    "papermill": {
     "duration": 1.696159,
     "end_time": "2021-06-09T18:54:30.221218",
     "exception": false,
     "start_time": "2021-06-09T18:54:28.525059",
     "status": "completed"
    },
    "pycharm": {
     "name": "#%%\n"
    },
    "tags": []
   },
   "outputs": [
    {
     "name": "stdout",
     "output_type": "stream",
     "text": [
      "|    | Original                                                        | Transformed                                                     |\n",
      "|---:|:----------------------------------------------------------------|:----------------------------------------------------------------|\n",
      "|  0 | Submission File                                                 | submission_file                                                 |\n",
      "|  1 | Business Unit                                                   | business_unit                                                   |\n",
      "|  2 | Country                                                         | country                                                         |\n",
      "|  3 | Currency                                                        | currency                                                        |\n",
      "|  4 | Region                                                          | region                                                          |\n",
      "|  5 | Reporting Date From                                             | reporting_date_from                                             |\n",
      "|  6 | Reporting Date To                                               | reporting_date_to                                               |\n",
      "|  7 | Date of Analysis                                                | date_of_analysis                                                |\n",
      "|  8 | Type of Analysis                                                | type_of_analysis                                                |\n",
      "|  9 | Analysed Months                                                 | analysed_months                                                 |\n",
      "| 10 | Reporting Year                                                  | reporting_year                                                  |\n",
      "| 11 | Reporting Quarter                                               | reporting_quarter                                               |\n",
      "| 12 | Reporting Month                                                 | reporting_month                                                 |\n",
      "| 13 | Type of Business                                                | type_of_business                                                |\n",
      "| 14 | Type of Account                                                 | type_of_account                                                 |\n",
      "| 15 | Distribution Type                                               | distribution_type                                               |\n",
      "| 16 | LOB                                                             | lob                                                             |\n",
      "| 17 | Distribution Channel                                            | distribution_channel                                            |\n",
      "| 18 | Sub LOB                                                         | sub_lob                                                         |\n",
      "| 19 | Business Partner Name                                           | business_partner_name                                           |\n",
      "| 20 | Business Partner ID Number                                      | business_partner_id_number                                      |\n",
      "| 21 | Product Name                                                    | product_name                                                    |\n",
      "| 22 | Product ID Number                                               | product_id_number                                               |\n",
      "| 23 | Product Family                                                  | product_family                                                  |\n",
      "| 24 | Standard Product                                                | standard_product                                                |\n",
      "| 25 | Number of Products per Row                                      | number_of_products_per_row                                      |\n",
      "| 26 | Number of B-Partners per Row                                    | number_of_b-partners_per_row                                    |\n",
      "| 27 | Number of Policies (Written)                                    | number_of_policies_(written)                                    |\n",
      "| 28 | Units of Risk (Written)                                         | units_of_risk_(written)                                         |\n",
      "| 29 | Written Revenues net of Taxes                                   | written_revenues_net_of_taxes                                   |\n",
      "| 30 | Written Revenues                                                | written_revenues                                                |\n",
      "| 31 | Number of Policies (Earned)                                     | number_of_policies_(earned)                                     |\n",
      "| 32 | Units of Risk (Earned)                                          | units_of_risk_(earned)                                          |\n",
      "| 33 | Earned Revenues net of Taxes                                    | earned_revenues_net_of_taxes                                    |\n",
      "| 34 | Earned Revenues                                                 | earned_revenues                                                 |\n",
      "| 35 | Earned Base Commissions                                         | earned_base_commissions                                         |\n",
      "| 36 | Earned Over-Commissions                                         | earned_over-commissions                                         |\n",
      "| 37 | Upfront Cash Payments                                           | upfront_cash_payments                                           |\n",
      "| 38 | Total Compensation                                              | total_compensation                                              |\n",
      "| 39 | Number of Claims (Paid + OCR + IBNR)                            | number_of_claims_(paid_+_ocr_+_ibnr)                            |\n",
      "| 40 | Number of Open Claims                                           | number_of_open_claims                                           |\n",
      "| 41 | Open Claims %                                                   | open_claims_%                                                   |\n",
      "| 42 | Number of Persons Involved in Claims (Paid + OCR + IBNR)        | number_of_persons_involved_in_claims_(paid_+_ocr_+_ibnr)        |\n",
      "| 43 | Paid Claims                                                     | paid_claims                                                     |\n",
      "| 44 | OCR + IBNR                                                      | ocr_+_ibnr                                                      |\n",
      "| 45 | % of IBNR on (OCR + IBNR)                                       | %_of_ibnr_on_(ocr_+_ibnr)                                       |\n",
      "| 46 | Actual Incurred Losses (Paid + OCR + IBNR)                      | actual_incurred_losses_(paid_+_ocr_+_ibnr)                      |\n",
      "| 47 | Internal Variable Costs (excl. AZ Tech Fee)                     | internal_variable_costs_(excl._az_tech_fee)                     |\n",
      "| 48 | AZ Tech Fee                                                     | az_tech_fee                                                     |\n",
      "| 49 | Internal Fixed Costs (excl. HQ Fees)                            | internal_fixed_costs_(excl._hq_fees)                            |\n",
      "| 50 | HQ Fees                                                         | hq_fees                                                         |\n",
      "| 51 | Total Expenses                                                  | total_expenses                                                  |\n",
      "| 52 | Frequency (Earned)                                              | frequency_(earned)                                              |\n",
      "| 53 | Severity                                                        | severity                                                        |\n",
      "| 54 | Risk Premium                                                    | risk_premium                                                    |\n",
      "| 55 | Contribution Margin - BU View                                   | contribution_margin_-_bu_view                                   |\n",
      "| 56 | Contribution Margin % on Fixed Costs - BU View                  | contribution_margin_%_on_fixed_costs_-_bu_view                  |\n",
      "| 57 | Contribution Margin % on Earned Revenues net of Taxes - BU View | contribution_margin_%_on_earned_revenues_net_of_taxes_-_bu_view |\n",
      "| 58 | Contribution Margin - HQ View                                   | contribution_margin_-_hq_view                                   |\n",
      "| 59 | Contribution Margin % on Fixed Costs - HQ View                  | contribution_margin_%_on_fixed_costs_-_hq_view                  |\n",
      "| 60 | Contribution Margin % on Earned Revenues net of Taxes - HQ View | contribution_margin_%_on_earned_revenues_net_of_taxes_-_hq_view |\n",
      "| 61 | Loss Ratio                                                      | loss_ratio                                                      |\n",
      "| 62 | Commission Ratio                                                | commission_ratio                                                |\n",
      "| 63 | Expense Ratio                                                   | expense_ratio                                                   |\n",
      "| 64 | Combined Ratio                                                  | combined_ratio                                                  |\n",
      "| 65 | Profit or Loss                                                  | profit_or_loss                                                  |\n",
      "| 66 | Notes                                                           | notes                                                           |\n",
      "| 67 | Unnamed: 66                                                     | unnamed:_66                                                     |\n",
      "| 68 | concat2                                                         | concat2                                                         |\n",
      "| 69 | comsub                                                          | comsub                                                          |\n",
      "| 70 | expsub                                                          | expsub                                                          |\n",
      "| 71 | Reporting Date From INT                                         | reporting_date_from_int                                         |\n",
      "| 72 | Reporting Date To INT                                           | reporting_date_to_int                                           |\n",
      "| 73 | Date of Analysis INT                                            | date_of_analysis_int                                            |\n",
      "| 74 | Selected Fields for Duplicates                                  | selected_fields_for_duplicates                                  |\n",
      "| 75 | ibnrsub                                                         | ibnrsub                                                         |\n",
      "| 76 | Identifier to pull in results from Data tab                     | identifier_to_pull_in_results_from_data_tab                     |\n",
      "| 77 | Unnamed: 67                                                     | unnamed:_67                                                     |\n",
      "| 78 | Unnamed: 68                                                     | unnamed:_68                                                     |\n"
     ]
    }
   ],
   "source": [
    "if run_control > -10:\n",
    "    disp = {\"Original\": input.columns, \"Transformed\": trandata.columns}\n",
    "\n",
    "    disp = pd.DataFrame(disp)\n",
    "\n",
    "    print(disp.to_markdown())\n",
    "else:\n",
    "    print(\"Skipped Transformation Report 1\")"
   ]
  },
  {
   "cell_type": "markdown",
   "id": "1bdd6d81",
   "metadata": {
    "papermill": {
     "duration": 1.457954,
     "end_time": "2021-06-09T18:54:32.790484",
     "exception": false,
     "start_time": "2021-06-09T18:54:31.332530",
     "status": "completed"
    },
    "tags": []
   },
   "source": [
    "#### Remove rows with null business units\n"
   ]
  },
  {
   "cell_type": "code",
   "execution_count": 13,
   "id": "2fb8832c",
   "metadata": {
    "execution": {
     "iopub.execute_input": "2021-06-09T18:54:34.227770Z",
     "iopub.status.busy": "2021-06-09T18:54:34.227770Z",
     "iopub.status.idle": "2021-06-09T18:54:34.290294Z",
     "shell.execute_reply": "2021-06-09T18:54:34.290294Z"
    },
    "papermill": {
     "duration": 0.714497,
     "end_time": "2021-06-09T18:54:34.290294",
     "exception": false,
     "start_time": "2021-06-09T18:54:33.575797",
     "status": "completed"
    },
    "pycharm": {
     "name": "#%%\n"
    },
    "tags": []
   },
   "outputs": [],
   "source": [
    "# todo, remove this from read file\n",
    "trandata = trandata[trandata.business_unit.notnull()]"
   ]
  },
  {
   "cell_type": "markdown",
   "id": "e3c58ba5",
   "metadata": {
    "papermill": {
     "duration": 0.609551,
     "end_time": "2021-06-09T18:54:35.631326",
     "exception": false,
     "start_time": "2021-06-09T18:54:35.021775",
     "status": "completed"
    },
    "tags": []
   },
   "source": [
    "#### Update Verification 2"
   ]
  },
  {
   "cell_type": "code",
   "execution_count": 14,
   "id": "1499991d",
   "metadata": {
    "execution": {
     "iopub.execute_input": "2021-06-09T18:54:37.107216Z",
     "iopub.status.busy": "2021-06-09T18:54:37.086996Z",
     "iopub.status.idle": "2021-06-09T18:54:37.228733Z",
     "shell.execute_reply": "2021-06-09T18:54:37.236775Z"
    },
    "papermill": {
     "duration": 0.888222,
     "end_time": "2021-06-09T18:54:37.236775",
     "exception": false,
     "start_time": "2021-06-09T18:54:36.348553",
     "status": "completed"
    },
    "pycharm": {
     "name": "#%%\n"
    },
    "tags": []
   },
   "outputs": [
    {
     "name": "stdout",
     "output_type": "stream",
     "text": [
      "Row Counts\n",
      "|    | Business Unit   |   Original |   Transformed |\n",
      "|---:|:----------------|-----------:|--------------:|\n",
      "|  0 | AT              |        222 |           222 |\n",
      "|  1 | AU              |         53 |            53 |\n",
      "|  2 | CA              |         17 |            17 |\n",
      "|  3 | CH              |       3172 |          3172 |\n",
      "|  4 | CZ              |          7 |             7 |\n",
      "|  5 | DE              |         50 |            50 |\n",
      "|  6 | ES              |         28 |            28 |\n",
      "|  7 | GR              |         15 |            15 |\n",
      "|  8 | IT              |        100 |           100 |\n",
      "|  9 | NL              |        165 |           165 |\n",
      "| 10 | PL              |         27 |            27 |\n",
      "| 11 | PT              |         40 |            40 |\n",
      "| 12 | US              |       9908 |          9908 |\n"
     ]
    }
   ],
   "source": [
    "if run_control > -10:\n",
    "\n",
    "    ibus = input.groupby(['Business Unit']).count()\n",
    "    ibus = ibus.reset_index()\n",
    "    tbus = trandata.groupby(['business_unit']).count()\n",
    "    tbus = tbus.reset_index()\n",
    "\n",
    "    compdata = pd.merge(ibus, tbus, left_on='Business Unit', right_on='business_unit', how='left')\n",
    "\n",
    "    disp = {\"Business Unit\": compdata['Business Unit'], \"Original\": compdata['Earned Revenues net of Taxes'],\n",
    "            \"Transformed\": compdata['earned_revenues_net_of_taxes']}\n",
    "\n",
    "    disp = pd.DataFrame(disp)\n",
    "\n",
    "    print(\"Row Counts\")\n",
    "    print(disp.to_markdown())\n",
    "    \n",
    "else:\n",
    "    \n",
    "    print(\"Skipped Transformation Report 2\")\n"
   ]
  },
  {
   "cell_type": "markdown",
   "id": "02e136a9",
   "metadata": {
    "papermill": {
     "duration": 1.601605,
     "end_time": "2021-06-09T18:54:40.149870",
     "exception": false,
     "start_time": "2021-06-09T18:54:38.548265",
     "status": "completed"
    },
    "tags": []
   },
   "source": [
    "#### Swap  nulls for \"Not Provided\" in 'Sub Lob' and 'Distribution Channel'"
   ]
  },
  {
   "cell_type": "code",
   "execution_count": 15,
   "id": "a50bbffb",
   "metadata": {
    "execution": {
     "iopub.execute_input": "2021-06-09T18:54:42.569028Z",
     "iopub.status.busy": "2021-06-09T18:54:42.561029Z",
     "iopub.status.idle": "2021-06-09T18:54:42.634859Z",
     "shell.execute_reply": "2021-06-09T18:54:42.635861Z"
    },
    "papermill": {
     "duration": 1.183219,
     "end_time": "2021-06-09T18:54:42.635861",
     "exception": false,
     "start_time": "2021-06-09T18:54:41.452642",
     "status": "completed"
    },
    "pycharm": {
     "name": "#%%\n"
    },
    "tags": []
   },
   "outputs": [
    {
     "data": {
      "text/plain": [
       "array(['0.0', '', '0', 'Travel Medical Multi Trip (Annual Insurance)',\n",
       "       'Collision Damage Waiver (CDW)', 'Corporate Travel',\n",
       "       'Event Ticket Cancellation', 'Other',\n",
       "       'Standalone Cancellation - Single Trip',\n",
       "       'TPA/Claims Handling / Service Only Products',\n",
       "       'Travel Medical Short Term - Single Trip',\n",
       "       'Travel Package w/o Cancellation Short Term Single Trip',\n",
       "       'Travel Package with Cancellation Multi Trip (Annual Insurance)',\n",
       "       'Travel Package with Cancellation Short Term Single Trip',\n",
       "       'Travel Package w/o Cancellation Multi Trip (Annual Insurance)',\n",
       "       'Travel Package with Cancellation Short Term Single Trip, Travel Package with Cancellation Multi Trip (Annual Insurance)',\n",
       "       'Travel Medical Long term - Single Trip, Travel Package with Cancellation Multi Trip (Annual Insurance), Travel Package with Cancellation Short Term Single Trip',\n",
       "       'Travel Medical Long term - Single Trip',\n",
       "       'Collision Damage Waiver (CDW), Travel Package w/o Cancellation Short Term Single Trip',\n",
       "       'Travel Medical Short Term - Single Trip, Travel Package with Cancellation Short Term Single Trip',\n",
       "       'Standalone Cancellation - Single Trip, Travel Package w/o Cancellation Short Term Single Trip, Travel Package with Cancellation Short Term Single Trip',\n",
       "       'Standalone Cancellation - Single Trip, Travel Package with Cancellation Short Term Single Trip',\n",
       "       'Travel Package with Cancellation Short Term Single Trip, Travel Package w/o Cancellation Short Term Single Trip',\n",
       "       'Standalone Cancellation - Single Trip, Travel Package w/o Cancellation Multi Trip (Annual Insurance), Travel Package w/o Cancellation Short Term Single Trip, Travel Package with Cancellation Short Term Single Trip',\n",
       "       'Travel Package w/o Cancellation Short Term Single Trip, Travel Package with Cancellation Short Term Single Trip',\n",
       "       'Collision Damage Waiver (CDW), Standalone Cancellation - Single Trip, Travel Package w/o Cancellation Multi Trip (Annual Insurance), Travel Package w/o Cancellation Short Term Single Trip, Travel Package with Cancellation Short Term Single Trip',\n",
       "       'Travel Package with Cancellation Short Term Single Trip, Travel Package w/o Cancellation Short Term Single Trip, Standalone Cancellation - Single Trip',\n",
       "       'Travel Package with Cancellation Short Term Single Trip, Travel Package with Cancellation Short Term Single Trip, Travel Package w/o Cancellation Short Term Single Trip, Standalone Cancellation - Single Trip',\n",
       "       'Travel Package with Cancellation Short Term Single Trip, Standalone Cancellation - Single Trip',\n",
       "       'Expatriates',\n",
       "       'Travel Package with Cancellation Short Term Single Trip, Travel Package w/o Cancellation Short Term Single Trip, Travel Medical Short Term - Single Trip',\n",
       "       'Travel Package w/o Cancellation Short Term Single Trip, Standalone Cancellation - Single Trip, Travel Medical Short Term - Single Trip',\n",
       "       'Travel Package w/o Cancellation Short Term Single Trip, Standalone Cancellation - Single Trip',\n",
       "       'Travel Package with Cancellation Short Term Single Trip, Travel Medical Short Term - Single Trip',\n",
       "       'Travel Package with Cancellation Short Term Single Trip, Travel Package w/o Cancellation Short Term Single Trip, Standalone Cancellation - Single Trip, Travel Medical Short Term - Single Trip',\n",
       "       'Travel Package w/o Cancellation Long Term Single Trip',\n",
       "       'Standalone Cancellation - Multi-Trip', 'Tuition'], dtype=object)"
      ]
     },
     "execution_count": 15,
     "metadata": {},
     "output_type": "execute_result"
    },
    {
     "data": {
      "text/plain": [
       "array(['Not Available', 'Travel Medical Multi Trip (Annual Insurance)',\n",
       "       'Collision Damage Waiver (CDW)', 'Corporate Travel',\n",
       "       'Event Ticket Cancellation', 'Other',\n",
       "       'Standalone Cancellation - Single Trip',\n",
       "       'TPA/Claims Handling / Service Only Products',\n",
       "       'Travel Medical Short Term - Single Trip',\n",
       "       'Travel Package w/o Cancellation Short Term Single Trip',\n",
       "       'Travel Package with Cancellation Multi Trip (Annual Insurance)',\n",
       "       'Travel Package with Cancellation Short Term Single Trip',\n",
       "       'Travel Package w/o Cancellation Multi Trip (Annual Insurance)',\n",
       "       'Travel Package with Cancellation Short Term Single Trip, Travel Package with Cancellation Multi Trip (Annual Insurance)',\n",
       "       'Travel Medical Long term - Single Trip, Travel Package with Cancellation Multi Trip (Annual Insurance), Travel Package with Cancellation Short Term Single Trip',\n",
       "       'Travel Medical Long term - Single Trip',\n",
       "       'Collision Damage Waiver (CDW), Travel Package w/o Cancellation Short Term Single Trip',\n",
       "       'Travel Medical Short Term - Single Trip, Travel Package with Cancellation Short Term Single Trip',\n",
       "       'Standalone Cancellation - Single Trip, Travel Package w/o Cancellation Short Term Single Trip, Travel Package with Cancellation Short Term Single Trip',\n",
       "       'Standalone Cancellation - Single Trip, Travel Package with Cancellation Short Term Single Trip',\n",
       "       'Travel Package with Cancellation Short Term Single Trip, Travel Package w/o Cancellation Short Term Single Trip',\n",
       "       'Standalone Cancellation - Single Trip, Travel Package w/o Cancellation Multi Trip (Annual Insurance), Travel Package w/o Cancellation Short Term Single Trip, Travel Package with Cancellation Short Term Single Trip',\n",
       "       'Travel Package w/o Cancellation Short Term Single Trip, Travel Package with Cancellation Short Term Single Trip',\n",
       "       'Collision Damage Waiver (CDW), Standalone Cancellation - Single Trip, Travel Package w/o Cancellation Multi Trip (Annual Insurance), Travel Package w/o Cancellation Short Term Single Trip, Travel Package with Cancellation Short Term Single Trip',\n",
       "       'Travel Package with Cancellation Short Term Single Trip, Travel Package w/o Cancellation Short Term Single Trip, Standalone Cancellation - Single Trip',\n",
       "       'Travel Package with Cancellation Short Term Single Trip, Travel Package with Cancellation Short Term Single Trip, Travel Package w/o Cancellation Short Term Single Trip, Standalone Cancellation - Single Trip',\n",
       "       'Travel Package with Cancellation Short Term Single Trip, Standalone Cancellation - Single Trip',\n",
       "       'Expatriates',\n",
       "       'Travel Package with Cancellation Short Term Single Trip, Travel Package w/o Cancellation Short Term Single Trip, Travel Medical Short Term - Single Trip',\n",
       "       'Travel Package w/o Cancellation Short Term Single Trip, Standalone Cancellation - Single Trip, Travel Medical Short Term - Single Trip',\n",
       "       'Travel Package w/o Cancellation Short Term Single Trip, Standalone Cancellation - Single Trip',\n",
       "       'Travel Package with Cancellation Short Term Single Trip, Travel Medical Short Term - Single Trip',\n",
       "       'Travel Package with Cancellation Short Term Single Trip, Travel Package w/o Cancellation Short Term Single Trip, Standalone Cancellation - Single Trip, Travel Medical Short Term - Single Trip',\n",
       "       'Travel Package w/o Cancellation Long Term Single Trip',\n",
       "       'Standalone Cancellation - Multi-Trip', 'Tuition'], dtype=object)"
      ]
     },
     "execution_count": 15,
     "metadata": {},
     "output_type": "execute_result"
    }
   ],
   "source": [
    "mults = trandata['sub_lob'][trandata.sub_lob.replace(nan, 'Not Available').str.contains(',', case=False)]\n",
    "mults = mults.unique()\n",
    "\n",
    "trandata['sub_lob'].unique()\n",
    "trandata['sub_lob'] = trandata['sub_lob'].fillna('Not Available')\n",
    "trandata['sub_lob'] = trandata['sub_lob'].replace('', 'Not Available')\n",
    "trandata['sub_lob'] = trandata['sub_lob'].replace('0', 'Not Available')\n",
    "trandata['sub_lob'] = trandata['sub_lob'].replace('0.0', 'Not Available')\n",
    "trandata['distribution_channel'] = trandata['distribution_channel'].replace('', 'Not Available').fillna('Not Available')\n",
    "\n",
    "trandata['sub_lob'].unique()\n"
   ]
  },
  {
   "cell_type": "markdown",
   "id": "c93cf7e6",
   "metadata": {
    "papermill": {
     "duration": 0.805087,
     "end_time": "2021-06-09T18:54:44.092223",
     "exception": false,
     "start_time": "2021-06-09T18:54:43.287136",
     "status": "completed"
    },
    "tags": []
   },
   "source": [
    "#### Replace multiple entries in \"Sub Lob\" to \"Multiple\""
   ]
  },
  {
   "cell_type": "code",
   "execution_count": 16,
   "id": "2ac5c9c8",
   "metadata": {
    "execution": {
     "iopub.execute_input": "2021-06-09T18:54:45.624688Z",
     "iopub.status.busy": "2021-06-09T18:54:45.609061Z",
     "iopub.status.idle": "2021-06-09T18:54:45.666361Z",
     "shell.execute_reply": "2021-06-09T18:54:45.667365Z"
    },
    "papermill": {
     "duration": 0.7517,
     "end_time": "2021-06-09T18:54:45.668361",
     "exception": false,
     "start_time": "2021-06-09T18:54:44.916661",
     "status": "completed"
    },
    "pycharm": {
     "name": "#%%\n"
    },
    "tags": []
   },
   "outputs": [],
   "source": [
    "for i in mults:\n",
    "    trandata['sub_lob'] = trandata['sub_lob'].replace(i, 'Multiple')\n",
    "\n",
    "# todo automate figuring out which fields fx rates should be applied to somehow"
   ]
  },
  {
   "cell_type": "markdown",
   "id": "073d59cc",
   "metadata": {
    "papermill": {
     "duration": 0.739337,
     "end_time": "2021-06-09T18:54:47.074695",
     "exception": false,
     "start_time": "2021-06-09T18:54:46.335358",
     "status": "completed"
    },
    "tags": []
   },
   "source": [
    "#### Update Verification 3"
   ]
  },
  {
   "cell_type": "code",
   "execution_count": 17,
   "id": "061a01d6",
   "metadata": {
    "execution": {
     "iopub.execute_input": "2021-06-09T18:54:48.841099Z",
     "iopub.status.busy": "2021-06-09T18:54:48.804102Z",
     "iopub.status.idle": "2021-06-09T18:54:49.296249Z",
     "shell.execute_reply": "2021-06-09T18:54:49.297333Z"
    },
    "papermill": {
     "duration": 1.231404,
     "end_time": "2021-06-09T18:54:49.297333",
     "exception": false,
     "start_time": "2021-06-09T18:54:48.065929",
     "status": "completed"
    },
    "pycharm": {
     "name": "#%%\n"
    },
    "tags": []
   },
   "outputs": [],
   "source": [
    "if run_control > -10:\n",
    "\n",
    "    ibus = input.groupby(['Sub LOB']).sum()\n",
    "    ibus = ibus.reset_index()\n",
    "    tbus = trandata.groupby(['sub_lob']).sum()\n",
    "    tbus = tbus.reset_index()\n",
    "\n",
    "    compdatasublob = pd.merge(ibus, tbus, left_on='Sub LOB', right_on='sub_lob', how='outer')\n",
    "\n",
    "    disp1 = pd.DataFrame(\n",
    "        {'Original Sub LOB': compdatasublob['Sub LOB'], 'Transformed Sub LOB': compdatasublob['sub_lob'],\n",
    "         \"Original\": compdatasublob['Earned Revenues net of Taxes'] / 1000,\n",
    "         \"Transformed\": compdatasublob['earned_revenues_net_of_taxes'] / 1000})\n",
    "\n",
    "\n",
    "\n",
    "    tots1 = pd.DataFrame({'Original Total': (input['Earned Revenues net of Taxes']).sum() / 10000,\n",
    "                          \"Transformed Total\": (compdatasublob['earned_revenues_net_of_taxes']).sum() / 10000},\n",
    "                         index=[0])\n",
    "else:\n",
    "    print(\"Skipped Transformation Report 2\")"
   ]
  },
  {
   "cell_type": "markdown",
   "id": "aae17454",
   "metadata": {
    "papermill": {
     "duration": 0.683214,
     "end_time": "2021-06-09T18:54:50.630077",
     "exception": false,
     "start_time": "2021-06-09T18:54:49.946863",
     "status": "completed"
    },
    "tags": []
   },
   "source": [
    "#### Make cflds, a list of currency fields, force to float, coercion is null or string to 0"
   ]
  },
  {
   "cell_type": "code",
   "execution_count": 18,
   "id": "78abc32d",
   "metadata": {
    "execution": {
     "iopub.execute_input": "2021-06-09T18:54:52.047541Z",
     "iopub.status.busy": "2021-06-09T18:54:52.045542Z",
     "iopub.status.idle": "2021-06-09T18:54:52.238084Z",
     "shell.execute_reply": "2021-06-09T18:54:52.240084Z"
    },
    "papermill": {
     "duration": 0.900254,
     "end_time": "2021-06-09T18:54:52.240084",
     "exception": false,
     "start_time": "2021-06-09T18:54:51.339830",
     "status": "completed"
    },
    "pycharm": {
     "name": "#%%\n"
    },
    "tags": []
   },
   "outputs": [
    {
     "data": {
      "text/plain": [
       "0            0.00\n",
       "1            0.00\n",
       "2            0.00\n",
       "3        31328.10\n",
       "4          887.19\n",
       "           ...   \n",
       "13799     3749.00\n",
       "13800      142.00\n",
       "13801      474.00\n",
       "13802        0.00\n",
       "13803      265.00\n",
       "Name: written_revenues_net_of_taxes, Length: 13804, dtype: float64"
      ]
     },
     "execution_count": 18,
     "metadata": {},
     "output_type": "execute_result"
    },
    {
     "data": {
      "text/plain": [
       "0            0.00\n",
       "1            0.00\n",
       "2            0.00\n",
       "3        34776.00\n",
       "4          998.08\n",
       "           ...   \n",
       "13799     3749.00\n",
       "13800      142.00\n",
       "13801      474.00\n",
       "13802        0.00\n",
       "13803      265.00\n",
       "Name: written_revenues, Length: 13804, dtype: float64"
      ]
     },
     "execution_count": 18,
     "metadata": {},
     "output_type": "execute_result"
    },
    {
     "data": {
      "text/plain": [
       "0            0.00\n",
       "1            0.00\n",
       "2            0.00\n",
       "3        31328.10\n",
       "4          887.19\n",
       "           ...   \n",
       "13799        0.00\n",
       "13800        0.00\n",
       "13801        0.00\n",
       "13802       11.00\n",
       "13803        7.00\n",
       "Name: earned_revenues_net_of_taxes, Length: 13804, dtype: float64"
      ]
     },
     "execution_count": 18,
     "metadata": {},
     "output_type": "execute_result"
    },
    {
     "data": {
      "text/plain": [
       "0            0.00\n",
       "1            0.00\n",
       "2            0.00\n",
       "3        34776.00\n",
       "4          998.08\n",
       "           ...   \n",
       "13799        0.00\n",
       "13800        0.00\n",
       "13801        0.00\n",
       "13802       11.00\n",
       "13803        7.00\n",
       "Name: earned_revenues, Length: 13804, dtype: float64"
      ]
     },
     "execution_count": 18,
     "metadata": {},
     "output_type": "execute_result"
    },
    {
     "data": {
      "text/plain": [
       "0           0.00\n",
       "1           0.00\n",
       "2           0.00\n",
       "3        4391.77\n",
       "4         406.87\n",
       "          ...   \n",
       "13799       0.00\n",
       "13800       0.00\n",
       "13801       0.00\n",
       "13802       3.14\n",
       "13803       1.47\n",
       "Name: earned_base_commissions, Length: 13804, dtype: float64"
      ]
     },
     "execution_count": 18,
     "metadata": {},
     "output_type": "execute_result"
    },
    {
     "data": {
      "text/plain": [
       "0        0.00\n",
       "1        0.00\n",
       "2        0.00\n",
       "3        0.00\n",
       "4        0.00\n",
       "         ... \n",
       "13799    0.00\n",
       "13800    0.00\n",
       "13801    0.00\n",
       "13802    0.65\n",
       "13803    0.43\n",
       "Name: earned_over-commissions, Length: 13804, dtype: float64"
      ]
     },
     "execution_count": 18,
     "metadata": {},
     "output_type": "execute_result"
    },
    {
     "data": {
      "text/plain": [
       "0        0.0\n",
       "1        0.0\n",
       "2        0.0\n",
       "3        0.0\n",
       "4        0.0\n",
       "        ... \n",
       "13799    0.0\n",
       "13800    0.0\n",
       "13801    0.0\n",
       "13802    0.0\n",
       "13803    0.0\n",
       "Name: upfront_cash_payments, Length: 13804, dtype: float64"
      ]
     },
     "execution_count": 18,
     "metadata": {},
     "output_type": "execute_result"
    },
    {
     "data": {
      "text/plain": [
       "0           0.00\n",
       "1           0.00\n",
       "2           0.00\n",
       "3        4391.77\n",
       "4         406.87\n",
       "          ...   \n",
       "13799       0.00\n",
       "13800       0.00\n",
       "13801       0.00\n",
       "13802       3.79\n",
       "13803       1.90\n",
       "Name: total_compensation, Length: 13804, dtype: float64"
      ]
     },
     "execution_count": 18,
     "metadata": {},
     "output_type": "execute_result"
    },
    {
     "data": {
      "text/plain": [
       "0        3028.6\n",
       "1           0.0\n",
       "2           0.0\n",
       "3         798.0\n",
       "4         400.0\n",
       "          ...  \n",
       "13799       0.0\n",
       "13800       0.0\n",
       "13801       0.0\n",
       "13802       0.0\n",
       "13803       0.0\n",
       "Name: paid_claims, Length: 13804, dtype: float64"
      ]
     },
     "execution_count": 18,
     "metadata": {},
     "output_type": "execute_result"
    },
    {
     "data": {
      "text/plain": [
       "0       -52275.64\n",
       "1         -100.00\n",
       "2        -1100.00\n",
       "3         1142.94\n",
       "4        -1084.00\n",
       "           ...   \n",
       "13799        0.00\n",
       "13800        0.00\n",
       "13801        0.00\n",
       "13802        0.12\n",
       "13803        0.08\n",
       "Name: ocr_+_ibnr, Length: 13804, dtype: float64"
      ]
     },
     "execution_count": 18,
     "metadata": {},
     "output_type": "execute_result"
    },
    {
     "data": {
      "text/plain": [
       "0       -49247.04\n",
       "1         -100.00\n",
       "2        -1100.00\n",
       "3         1940.94\n",
       "4         -684.00\n",
       "           ...   \n",
       "13799        0.00\n",
       "13800        0.00\n",
       "13801        0.00\n",
       "13802        0.12\n",
       "13803        0.08\n",
       "Name: actual_incurred_losses_(paid_+_ocr_+_ibnr), Length: 13804, dtype: float64"
      ]
     },
     "execution_count": 18,
     "metadata": {},
     "output_type": "execute_result"
    },
    {
     "data": {
      "text/plain": [
       "0           0.000000\n",
       "1           0.000000\n",
       "2           0.000000\n",
       "3        2229.996814\n",
       "4          63.151959\n",
       "            ...     \n",
       "13799       0.000000\n",
       "13800       0.000000\n",
       "13801       0.000000\n",
       "13802       0.720000\n",
       "13803       0.480000\n",
       "Name: internal_variable_costs_(excl._az_tech_fee), Length: 13804, dtype: float64"
      ]
     },
     "execution_count": 18,
     "metadata": {},
     "output_type": "execute_result"
    },
    {
     "data": {
      "text/plain": [
       "0          0.000000\n",
       "1          0.000000\n",
       "2          0.000000\n",
       "3        789.468120\n",
       "4         22.357188\n",
       "            ...    \n",
       "13799      0.000000\n",
       "13800      0.000000\n",
       "13801      0.000000\n",
       "13802      0.000000\n",
       "13803      0.000000\n",
       "Name: az_tech_fee, Length: 13804, dtype: float64"
      ]
     },
     "execution_count": 18,
     "metadata": {},
     "output_type": "execute_result"
    },
    {
     "data": {
      "text/plain": [
       "0           0.000000\n",
       "1           0.000000\n",
       "2           0.000000\n",
       "3        4593.555166\n",
       "4         144.211193\n",
       "            ...     \n",
       "13799       0.000000\n",
       "13800       0.000000\n",
       "13801       0.000000\n",
       "13802       1.210000\n",
       "13803       0.800000\n",
       "Name: internal_fixed_costs_(excl._hq_fees), Length: 13804, dtype: float64"
      ]
     },
     "execution_count": 18,
     "metadata": {},
     "output_type": "execute_result"
    },
    {
     "data": {
      "text/plain": [
       "0           0.0000\n",
       "1           0.0000\n",
       "2           0.0000\n",
       "3        1346.8165\n",
       "4          24.0160\n",
       "           ...    \n",
       "13799       0.0000\n",
       "13800       0.0000\n",
       "13801       0.0000\n",
       "13802       0.2800\n",
       "13803       0.1800\n",
       "Name: hq_fees, Length: 13804, dtype: float64"
      ]
     },
     "execution_count": 18,
     "metadata": {},
     "output_type": "execute_result"
    },
    {
     "data": {
      "text/plain": [
       "0           0.00000\n",
       "1           0.00000\n",
       "2           0.00000\n",
       "3        8959.83660\n",
       "4         253.73634\n",
       "            ...    \n",
       "13799       0.00000\n",
       "13800       0.00000\n",
       "13801       0.00000\n",
       "13802       2.21000\n",
       "13803       1.46000\n",
       "Name: total_expenses, Length: 13804, dtype: float64"
      ]
     },
     "execution_count": 18,
     "metadata": {},
     "output_type": "execute_result"
    },
    {
     "data": {
      "text/plain": [
       "0        0.0\n",
       "1        0.0\n",
       "2        0.0\n",
       "3        0.0\n",
       "4        0.0\n",
       "        ... \n",
       "13799    0.0\n",
       "13800    0.0\n",
       "13801    0.0\n",
       "13802    0.0\n",
       "13803    0.0\n",
       "Name: risk_premium, Length: 13804, dtype: float64"
      ]
     },
     "execution_count": 18,
     "metadata": {},
     "output_type": "execute_result"
    },
    {
     "data": {
      "text/plain": [
       "0        49247.04000\n",
       "1          100.00000\n",
       "2         1100.00000\n",
       "3        16035.55340\n",
       "4          910.58366\n",
       "            ...     \n",
       "13799        0.00000\n",
       "13800        0.00000\n",
       "13801        0.00000\n",
       "13802        4.88000\n",
       "13803        3.56000\n",
       "Name: profit_or_loss, Length: 13804, dtype: float64"
      ]
     },
     "execution_count": 18,
     "metadata": {},
     "output_type": "execute_result"
    },
    {
     "data": {
      "text/plain": [
       "0        49247.040000\n",
       "1          100.000000\n",
       "2         1100.000000\n",
       "3        21975.925066\n",
       "4         1078.810853\n",
       "             ...     \n",
       "13799        0.000000\n",
       "13800        0.000000\n",
       "13801        0.000000\n",
       "13802        6.370000\n",
       "13803        4.540000\n",
       "Name: contribution_margin_-_hq_view, Length: 13804, dtype: float64"
      ]
     },
     "execution_count": 18,
     "metadata": {},
     "output_type": "execute_result"
    },
    {
     "data": {
      "text/plain": [
       "0        49247.040000\n",
       "1          100.000000\n",
       "2         1100.000000\n",
       "3        20629.108566\n",
       "4         1054.794853\n",
       "             ...     \n",
       "13799        0.000000\n",
       "13800        0.000000\n",
       "13801        0.000000\n",
       "13802        6.090000\n",
       "13803        4.360000\n",
       "Name: contribution_margin_-_bu_view, Length: 13804, dtype: float64"
      ]
     },
     "execution_count": 18,
     "metadata": {},
     "output_type": "execute_result"
    }
   ],
   "source": [
    "cflds = ['written_revenues_net_of_taxes', 'written_revenues', 'earned_revenues_net_of_taxes',\n",
    "         'earned_revenues', 'earned_base_commissions', 'earned_over-commissions', 'upfront_cash_payments',\n",
    "         'total_compensation', 'paid_claims', 'ocr_+_ibnr', 'actual_incurred_losses_(paid_+_ocr_+_ibnr)',\n",
    "         'internal_variable_costs_(excl._az_tech_fee)', 'az_tech_fee', 'internal_fixed_costs_(excl._hq_fees)',\n",
    "         'hq_fees', 'total_expenses', 'risk_premium', 'profit_or_loss', 'contribution_margin_-_hq_view',\n",
    "         'contribution_margin_-_bu_view', ]\n",
    "\n",
    "for i in cflds:\n",
    "    pd.to_numeric(trandata[i], errors='coerce')"
   ]
  },
  {
   "cell_type": "markdown",
   "id": "9364d722",
   "metadata": {
    "papermill": {
     "duration": 0.790653,
     "end_time": "2021-06-09T18:54:53.891125",
     "exception": false,
     "start_time": "2021-06-09T18:54:53.100472",
     "status": "completed"
    },
    "tags": []
   },
   "source": [
    "#### Turn selected columns values uppercase"
   ]
  },
  {
   "cell_type": "code",
   "execution_count": 19,
   "id": "08548f9b",
   "metadata": {
    "execution": {
     "iopub.execute_input": "2021-06-09T18:54:55.679295Z",
     "iopub.status.busy": "2021-06-09T18:54:55.666050Z",
     "iopub.status.idle": "2021-06-09T18:54:55.863416Z",
     "shell.execute_reply": "2021-06-09T18:54:55.864415Z"
    },
    "papermill": {
     "duration": 1.034961,
     "end_time": "2021-06-09T18:54:55.864415",
     "exception": false,
     "start_time": "2021-06-09T18:54:54.829454",
     "status": "completed"
    },
    "pycharm": {
     "name": "#%%\n"
    },
    "tags": []
   },
   "outputs": [],
   "source": [
    "validcols = ['business_unit', 'currency', 'region', 'type_of_analysis', 'type_of_business', 'type_of_account', 'lob',\n",
    "             'distribution_type', 'distribution_channel', ]\n",
    "\n",
    "for c in validcols:\n",
    "    trandata[c] = trandata[c].astype(str)\n",
    "    trandata[c] = trandata[c].apply(lambda x: x.upper())"
   ]
  },
  {
   "cell_type": "markdown",
   "id": "b37673a6",
   "metadata": {
    "papermill": {
     "duration": 0.939624,
     "end_time": "2021-06-09T18:54:57.614394",
     "exception": false,
     "start_time": "2021-06-09T18:54:56.674770",
     "status": "completed"
    },
    "tags": []
   },
   "source": [
    "#### Read the values from the Global Attribute Catalog, one field per loop iterance and xlsx sheet."
   ]
  },
  {
   "cell_type": "code",
   "execution_count": 20,
   "id": "110e73cd",
   "metadata": {
    "execution": {
     "iopub.execute_input": "2021-06-09T18:54:59.270399Z",
     "iopub.status.busy": "2021-06-09T18:54:59.268395Z",
     "iopub.status.idle": "2021-06-09T18:55:16.595787Z",
     "shell.execute_reply": "2021-06-09T18:55:16.596789Z"
    },
    "papermill": {
     "duration": 18.137399,
     "end_time": "2021-06-09T18:55:16.596789",
     "exception": false,
     "start_time": "2021-06-09T18:54:58.459390",
     "status": "completed"
    },
    "pycharm": {
     "name": "#%%\n"
    },
    "tags": []
   },
   "outputs": [],
   "source": [
    "checktabs = []\n",
    "\n",
    "\n",
    "\n",
    "for s in validcols:\n",
    "    t = pd.read_excel(atcat, sheet_name = s )\n",
    "    checktabs.append([[s], [t]])\n",
    "\n",
    "gacout = []\n"
   ]
  },
  {
   "cell_type": "markdown",
   "id": "e08d0296",
   "metadata": {
    "papermill": {
     "duration": 0.671533,
     "end_time": "2021-06-09T18:55:18.437116",
     "exception": false,
     "start_time": "2021-06-09T18:55:17.765583",
     "status": "completed"
    },
    "tags": []
   },
   "source": [
    "#### Compare the lists from the previous step and each field. Find those that do not match, make lists of unique values\n",
    "#### replace any that have replacements in GPPM inoout already, make a list of values without any matches.\n"
   ]
  },
  {
   "cell_type": "code",
   "execution_count": 21,
   "id": "706a51a9",
   "metadata": {
    "execution": {
     "iopub.execute_input": "2021-06-09T18:55:20.673621Z",
     "iopub.status.busy": "2021-06-09T18:55:20.663622Z",
     "iopub.status.idle": "2021-06-09T18:55:21.236760Z",
     "shell.execute_reply": "2021-06-09T18:55:21.238758Z"
    },
    "papermill": {
     "duration": 1.697675,
     "end_time": "2021-06-09T18:55:21.238758",
     "exception": false,
     "start_time": "2021-06-09T18:55:19.541083",
     "status": "completed"
    },
    "pycharm": {
     "name": "#%%\n"
    },
    "tags": []
   },
   "outputs": [],
   "source": [
    "# todo rewrite this beginner code to use dicts and simplify\n",
    "\n",
    "for u in enumerate(validcols):\n",
    "    trandata.loc[0:len(trandata[u[1]]), u[1]] = trandata[u[1]].replace(\n",
    "        [checktabs[u[0]][1][0]['Upper_Vers']][0].to_numpy(), [checktabs[u[0]][1][0][u[1]]][0].to_numpy())\n",
    "    d = list(checktabs[u[0]][1][0]['Non Matches'].drop_duplicates().dropna().append(\n",
    "        pd.Series(trandata[u[1]][~trandata[u[1]].isin(checktabs[u[0]][1][0][u[1]])].drop_duplicates().dropna()),\n",
    "        ignore_index=True))\n",
    "    g = [checktabs[u[0]][1][0][str(u[1])], checktabs[u[0]][1][0]['Upper_Vers'], checktabs[u[0]][1][0]['Unnamed: 2'],\n",
    "         pd.Series(d, dtype='object').drop_duplicates().dropna(), checktabs[u[0]][1][0]['User Defined Corrections']]\n",
    "    gacout.append(list([g, u[1]]))"
   ]
  },
  {
   "cell_type": "markdown",
   "id": "becdeb09",
   "metadata": {
    "papermill": {
     "duration": 0.819408,
     "end_time": "2021-06-09T18:55:22.847699",
     "exception": false,
     "start_time": "2021-06-09T18:55:22.028291",
     "status": "completed"
    },
    "tags": []
   },
   "source": [
    "#### Rebuild the GPPM input file, with the replaced values in the bad values column of each sheet.\n",
    "#### Step one, make and xlsx with a notes page."
   ]
  },
  {
   "cell_type": "code",
   "execution_count": 22,
   "id": "e0a0e841",
   "metadata": {
    "execution": {
     "iopub.execute_input": "2021-06-09T18:55:24.724052Z",
     "iopub.status.busy": "2021-06-09T18:55:24.705057Z",
     "iopub.status.idle": "2021-06-09T18:55:25.765779Z",
     "shell.execute_reply": "2021-06-09T18:55:25.767796Z"
    },
    "papermill": {
     "duration": 2.032267,
     "end_time": "2021-06-09T18:55:25.767796",
     "exception": false,
     "start_time": "2021-06-09T18:55:23.735529",
     "status": "completed"
    },
    "pycharm": {
     "name": "#%%\n"
    },
    "tags": []
   },
   "outputs": [],
   "source": [
    "w = ExcelWriter(atcat)\n",
    "notes = pd.DataFrame([\n",
    "    \"This page is script generated during the source creation process. Do not edit these notes directly in the file as they will be overwritten\",\n",
    "    \"\", \"\"\n",
    "    , \" Purpose :     to manage attribute entries in the data collection process, this workbook documents and organizes all entries and also allows a user to swap those that do \\\n",
    "                        not conform to validation rules  with an entry of their choice\",\n",
    "    \" Each attribute field that requires validation has its own sheet tab\", \"\"\n",
    "    , \"Column A:    of each sheet tab contains all unique acceptable responses\",\n",
    "    \"Column B:    an upper case version, to wrangle case mismatches\",\n",
    "    \"Column D:   is generated by the process, this is a list of an uppercase version of each unique unacceptable response, this builds over time with each collection\",\n",
    "    \"Column E:   you can enter accpetable response here (sase sensitive) to be swapped out in the data, save and exit this file, run the process again and they will be replaced\"\n",
    "    , \"\", \"\", \"Gavin Harmon 9 - July -2020\"])\n",
    "\n",
    "notes.columns = ['Notes']\n",
    "\n",
    "notes.to_excel(w, index=False, sheet_name=\"Notes\")"
   ]
  },
  {
   "cell_type": "markdown",
   "id": "698993d4",
   "metadata": {
    "papermill": {
     "duration": 0.71905,
     "end_time": "2021-06-09T18:55:27.294888",
     "exception": false,
     "start_time": "2021-06-09T18:55:26.575838",
     "status": "completed"
    },
    "tags": []
   },
   "source": [
    "#### Step two, build the new sheets for each validcols field"
   ]
  },
  {
   "cell_type": "markdown",
   "id": "d474f46c",
   "metadata": {
    "tags": [
     "papermill-error-cell-tag"
    ]
   },
   "source": [
    "<span id=\"papermill-error-cell\" style=\"color:red; font-family:Helvetica Neue, Helvetica, Arial, sans-serif; font-size:2em;\">Execution using papermill encountered an exception here and stopped:</span>"
   ]
  },
  {
   "cell_type": "code",
   "execution_count": 23,
   "id": "3ba8a886",
   "metadata": {
    "execution": {
     "iopub.execute_input": "2021-06-09T18:55:28.936263Z",
     "iopub.status.busy": "2021-06-09T18:55:28.914267Z",
     "iopub.status.idle": "2021-06-09T18:55:29.322674Z",
     "shell.execute_reply": "2021-06-09T18:55:29.322674Z"
    },
    "papermill": {
     "duration": 1.133058,
     "end_time": "2021-06-09T18:55:29.322674",
     "exception": true,
     "start_time": "2021-06-09T18:55:28.189616",
     "status": "failed"
    },
    "pycharm": {
     "name": "#%%\n"
    },
    "tags": []
   },
   "outputs": [
    {
     "ename": "FileCreateError",
     "evalue": "[Errno 13] Permission denied: '\\\\\\\\hecate\\\\Insurance_US\\\\Product Development\\\\Product Management\\\\Global PPM\\\\Reporting\\\\Data Collection\\\\Production\\\\2021.Q1\\\\2021.Q1_Attribute_Catalog.xlsx'",
     "output_type": "error",
     "traceback": [
      "\u001b[1;31m---------------------------------------------------------------------------\u001b[0m",
      "\u001b[1;31mPermissionError\u001b[0m                           Traceback (most recent call last)",
      "\u001b[1;32m~\\Anaconda3\\lib\\site-packages\\xlsxwriter\\workbook.py\u001b[0m in \u001b[0;36mclose\u001b[1;34m(self)\u001b[0m\n\u001b[0;32m    315\u001b[0m             \u001b[1;32mtry\u001b[0m\u001b[1;33m:\u001b[0m\u001b[1;33m\u001b[0m\u001b[1;33m\u001b[0m\u001b[0m\n\u001b[1;32m--> 316\u001b[1;33m                 \u001b[0mself\u001b[0m\u001b[1;33m.\u001b[0m\u001b[0m_store_workbook\u001b[0m\u001b[1;33m(\u001b[0m\u001b[1;33m)\u001b[0m\u001b[1;33m\u001b[0m\u001b[1;33m\u001b[0m\u001b[0m\n\u001b[0m\u001b[0;32m    317\u001b[0m             \u001b[1;32mexcept\u001b[0m \u001b[0mIOError\u001b[0m \u001b[1;32mas\u001b[0m \u001b[0me\u001b[0m\u001b[1;33m:\u001b[0m\u001b[1;33m\u001b[0m\u001b[1;33m\u001b[0m\u001b[0m\n",
      "\u001b[1;32m~\\Anaconda3\\lib\\site-packages\\xlsxwriter\\workbook.py\u001b[0m in \u001b[0;36m_store_workbook\u001b[1;34m(self)\u001b[0m\n\u001b[0;32m    631\u001b[0m         \u001b[1;32mexcept\u001b[0m \u001b[0mIOError\u001b[0m \u001b[1;32mas\u001b[0m \u001b[0me\u001b[0m\u001b[1;33m:\u001b[0m\u001b[1;33m\u001b[0m\u001b[1;33m\u001b[0m\u001b[0m\n\u001b[1;32m--> 632\u001b[1;33m             \u001b[1;32mraise\u001b[0m \u001b[0me\u001b[0m\u001b[1;33m\u001b[0m\u001b[1;33m\u001b[0m\u001b[0m\n\u001b[0m\u001b[0;32m    633\u001b[0m \u001b[1;33m\u001b[0m\u001b[0m\n",
      "\u001b[1;32m~\\Anaconda3\\lib\\site-packages\\xlsxwriter\\workbook.py\u001b[0m in \u001b[0;36m_store_workbook\u001b[1;34m(self)\u001b[0m\n\u001b[0;32m    629\u001b[0m             xlsx_file = ZipFile(self.filename, \"w\", compression=ZIP_DEFLATED,\n\u001b[1;32m--> 630\u001b[1;33m                                 allowZip64=self.allow_zip64)\n\u001b[0m\u001b[0;32m    631\u001b[0m         \u001b[1;32mexcept\u001b[0m \u001b[0mIOError\u001b[0m \u001b[1;32mas\u001b[0m \u001b[0me\u001b[0m\u001b[1;33m:\u001b[0m\u001b[1;33m\u001b[0m\u001b[1;33m\u001b[0m\u001b[0m\n",
      "\u001b[1;32m~\\Anaconda3\\lib\\zipfile.py\u001b[0m in \u001b[0;36m__init__\u001b[1;34m(self, file, mode, compression, allowZip64, compresslevel)\u001b[0m\n\u001b[0;32m   1239\u001b[0m                 \u001b[1;32mtry\u001b[0m\u001b[1;33m:\u001b[0m\u001b[1;33m\u001b[0m\u001b[1;33m\u001b[0m\u001b[0m\n\u001b[1;32m-> 1240\u001b[1;33m                     \u001b[0mself\u001b[0m\u001b[1;33m.\u001b[0m\u001b[0mfp\u001b[0m \u001b[1;33m=\u001b[0m \u001b[0mio\u001b[0m\u001b[1;33m.\u001b[0m\u001b[0mopen\u001b[0m\u001b[1;33m(\u001b[0m\u001b[0mfile\u001b[0m\u001b[1;33m,\u001b[0m \u001b[0mfilemode\u001b[0m\u001b[1;33m)\u001b[0m\u001b[1;33m\u001b[0m\u001b[1;33m\u001b[0m\u001b[0m\n\u001b[0m\u001b[0;32m   1241\u001b[0m                 \u001b[1;32mexcept\u001b[0m \u001b[0mOSError\u001b[0m\u001b[1;33m:\u001b[0m\u001b[1;33m\u001b[0m\u001b[1;33m\u001b[0m\u001b[0m\n",
      "\u001b[1;31mPermissionError\u001b[0m: [Errno 13] Permission denied: '\\\\\\\\hecate\\\\Insurance_US\\\\Product Development\\\\Product Management\\\\Global PPM\\\\Reporting\\\\Data Collection\\\\Production\\\\2021.Q1\\\\2021.Q1_Attribute_Catalog.xlsx'",
      "\nDuring handling of the above exception, another exception occurred:\n",
      "\u001b[1;31mFileCreateError\u001b[0m                           Traceback (most recent call last)",
      "\u001b[1;32m<ipython-input-23-9ee06525c672>\u001b[0m in \u001b[0;36m<module>\u001b[1;34m\u001b[0m\n\u001b[0;32m      2\u001b[0m     \u001b[0mdf\u001b[0m \u001b[1;33m=\u001b[0m \u001b[0mpd\u001b[0m\u001b[1;33m.\u001b[0m\u001b[0mDataFrame\u001b[0m\u001b[1;33m(\u001b[0m\u001b[0mgacout\u001b[0m\u001b[1;33m[\u001b[0m\u001b[0mv\u001b[0m\u001b[1;33m[\u001b[0m\u001b[1;36m0\u001b[0m\u001b[1;33m]\u001b[0m\u001b[1;33m]\u001b[0m\u001b[1;33m[\u001b[0m\u001b[1;36m0\u001b[0m\u001b[1;33m]\u001b[0m\u001b[1;33m,\u001b[0m \u001b[0mindex\u001b[0m\u001b[1;33m=\u001b[0m\u001b[1;33m[\u001b[0m\u001b[1;34mf\"{v[1]}\"\u001b[0m\u001b[1;33m,\u001b[0m \u001b[1;34m'Upper_Vers'\u001b[0m\u001b[1;33m,\u001b[0m \u001b[1;34m''\u001b[0m\u001b[1;33m,\u001b[0m \u001b[1;34m'Non Matches'\u001b[0m\u001b[1;33m,\u001b[0m \u001b[1;34m'User Defined Corrections'\u001b[0m\u001b[1;33m]\u001b[0m\u001b[1;33m)\u001b[0m\u001b[1;33m.\u001b[0m\u001b[0mT\u001b[0m\u001b[1;33m\u001b[0m\u001b[1;33m\u001b[0m\u001b[0m\n\u001b[0;32m      3\u001b[0m     \u001b[0mdf\u001b[0m\u001b[1;33m.\u001b[0m\u001b[0mto_excel\u001b[0m\u001b[1;33m(\u001b[0m\u001b[0mw\u001b[0m\u001b[1;33m,\u001b[0m \u001b[0mindex\u001b[0m\u001b[1;33m=\u001b[0m\u001b[1;32mFalse\u001b[0m\u001b[1;33m,\u001b[0m \u001b[0msheet_name\u001b[0m\u001b[1;33m=\u001b[0m\u001b[0mgacout\u001b[0m\u001b[1;33m[\u001b[0m\u001b[0mv\u001b[0m\u001b[1;33m[\u001b[0m\u001b[1;36m0\u001b[0m\u001b[1;33m]\u001b[0m\u001b[1;33m]\u001b[0m\u001b[1;33m[\u001b[0m\u001b[1;36m1\u001b[0m\u001b[1;33m]\u001b[0m\u001b[1;33m)\u001b[0m\u001b[1;33m\u001b[0m\u001b[1;33m\u001b[0m\u001b[0m\n\u001b[1;32m----> 4\u001b[1;33m \u001b[0mw\u001b[0m\u001b[1;33m.\u001b[0m\u001b[0msave\u001b[0m\u001b[1;33m(\u001b[0m\u001b[1;33m)\u001b[0m\u001b[1;33m\u001b[0m\u001b[1;33m\u001b[0m\u001b[0m\n\u001b[0m",
      "\u001b[1;32m~\\Anaconda3\\lib\\site-packages\\pandas\\io\\excel\\_xlsxwriter.py\u001b[0m in \u001b[0;36msave\u001b[1;34m(self)\u001b[0m\n\u001b[0;32m    191\u001b[0m         \u001b[0mSave\u001b[0m \u001b[0mworkbook\u001b[0m \u001b[0mto\u001b[0m \u001b[0mdisk\u001b[0m\u001b[1;33m.\u001b[0m\u001b[1;33m\u001b[0m\u001b[1;33m\u001b[0m\u001b[0m\n\u001b[0;32m    192\u001b[0m         \"\"\"\n\u001b[1;32m--> 193\u001b[1;33m         \u001b[1;32mreturn\u001b[0m \u001b[0mself\u001b[0m\u001b[1;33m.\u001b[0m\u001b[0mbook\u001b[0m\u001b[1;33m.\u001b[0m\u001b[0mclose\u001b[0m\u001b[1;33m(\u001b[0m\u001b[1;33m)\u001b[0m\u001b[1;33m\u001b[0m\u001b[1;33m\u001b[0m\u001b[0m\n\u001b[0m\u001b[0;32m    194\u001b[0m \u001b[1;33m\u001b[0m\u001b[0m\n\u001b[0;32m    195\u001b[0m     def write_cells(\n",
      "\u001b[1;32m~\\Anaconda3\\lib\\site-packages\\xlsxwriter\\workbook.py\u001b[0m in \u001b[0;36mclose\u001b[1;34m(self)\u001b[0m\n\u001b[0;32m    316\u001b[0m                 \u001b[0mself\u001b[0m\u001b[1;33m.\u001b[0m\u001b[0m_store_workbook\u001b[0m\u001b[1;33m(\u001b[0m\u001b[1;33m)\u001b[0m\u001b[1;33m\u001b[0m\u001b[1;33m\u001b[0m\u001b[0m\n\u001b[0;32m    317\u001b[0m             \u001b[1;32mexcept\u001b[0m \u001b[0mIOError\u001b[0m \u001b[1;32mas\u001b[0m \u001b[0me\u001b[0m\u001b[1;33m:\u001b[0m\u001b[1;33m\u001b[0m\u001b[1;33m\u001b[0m\u001b[0m\n\u001b[1;32m--> 318\u001b[1;33m                 \u001b[1;32mraise\u001b[0m \u001b[0mFileCreateError\u001b[0m\u001b[1;33m(\u001b[0m\u001b[0me\u001b[0m\u001b[1;33m)\u001b[0m\u001b[1;33m\u001b[0m\u001b[1;33m\u001b[0m\u001b[0m\n\u001b[0m\u001b[0;32m    319\u001b[0m             \u001b[1;32mexcept\u001b[0m \u001b[0mLargeZipFile\u001b[0m \u001b[1;32mas\u001b[0m \u001b[0me\u001b[0m\u001b[1;33m:\u001b[0m\u001b[1;33m\u001b[0m\u001b[1;33m\u001b[0m\u001b[0m\n\u001b[0;32m    320\u001b[0m                 raise FileSizeError(\"Filesize would require ZIP64 extensions. \"\n",
      "\u001b[1;31mFileCreateError\u001b[0m: [Errno 13] Permission denied: '\\\\\\\\hecate\\\\Insurance_US\\\\Product Development\\\\Product Management\\\\Global PPM\\\\Reporting\\\\Data Collection\\\\Production\\\\2021.Q1\\\\2021.Q1_Attribute_Catalog.xlsx'"
     ]
    }
   ],
   "source": [
    "for v in enumerate(validcols):\n",
    "    df = pd.DataFrame(gacout[v[0]][0], index=[f\"{v[1]}\", 'Upper_Vers', '', 'Non Matches', 'User Defined Corrections']).T\n",
    "    df.to_excel(w, index=False, sheet_name=gacout[v[0]][1])\n",
    "w.save()"
   ]
  },
  {
   "cell_type": "markdown",
   "id": "fb898f13",
   "metadata": {
    "papermill": {
     "duration": null,
     "end_time": null,
     "exception": null,
     "start_time": null,
     "status": "pending"
    },
    "tags": []
   },
   "source": [
    "#### Step three, read these lists back in, make the necessary replacements in the DataFrame"
   ]
  },
  {
   "cell_type": "code",
   "execution_count": null,
   "id": "6196a7e6",
   "metadata": {
    "papermill": {
     "duration": null,
     "end_time": null,
     "exception": null,
     "start_time": null,
     "status": "pending"
    },
    "pycharm": {
     "name": "#%%\n"
    },
    "tags": []
   },
   "outputs": [],
   "source": [
    "for s in validcols:\n",
    "    t = pd.read_excel(f'//hecate/Insurance_US/Product Development/Product Management/Global PPM/Reporting/Data Collection/Production/{str(percode)}\\\\{str(percode)}_Attribute_Catalog.xlsx', sheet_name = s )\n",
    "    checktabs.append([[s],[t]])"
   ]
  },
  {
   "cell_type": "code",
   "execution_count": null,
   "id": "f422ad9e",
   "metadata": {
    "papermill": {
     "duration": null,
     "end_time": null,
     "exception": null,
     "start_time": null,
     "status": "pending"
    },
    "pycharm": {
     "name": "#%%\n"
    },
    "tags": []
   },
   "outputs": [],
   "source": [
    "gacout = []\n",
    "\n",
    "for u in enumerate(validcols):\n",
    "    trandata.loc[0:len(trandata[u[1]]), u[1]] = trandata[u[1]].replace(\n",
    "        [checktabs[u[0]][1][0]['Non Matches']][0].to_numpy(),\n",
    "        [checktabs[u[0]][1][0]['User Defined Corrections']][0].to_numpy())\n",
    "repper = trandata[['business_unit', 'reporting_date_to']]\n",
    "repper = pd.DataFrame({\"business_unit\": (repper['business_unit']), \"YearMo\": (repper['reporting_date_to'])})\n",
    "minrep = repper.groupby(['business_unit']).max()\n",
    "a = trandata['business_unit'].replace(list(minrep.axes[0]), minrep.get(\"YearMo\"))\n",
    "trandata['rep_date'] = a\n",
    "trandata.loc[0:len(trandata['business_partner_id_number']), 'business_partner_id_number'] = trandata[\n",
    "    'business_partner_id_number'].replace('0', 'Not Provided').fillna('Not Provided')\n",
    "trandata.loc[0:len(trandata['product_id_number']), 'product_id_number'] = trandata['product_id_number'].replace('0',\n",
    "                                                                                                                'Not Provided').replace(\n",
    "    '-', 'Not Provided').fillna('Not Provided')\n",
    "trandata.loc[0:len(trandata['sub_lob']), 'sub_lob'] = trandata['sub_lob'].replace('0', 'Not Provided').replace('-',\n",
    "                                                                                                               'Not Provided').replace(\n",
    "    'Other', 'Not Provided').fillna('Not Provided')"
   ]
  },
  {
   "cell_type": "markdown",
   "id": "f8dedbd4",
   "metadata": {
    "papermill": {
     "duration": null,
     "end_time": null,
     "exception": null,
     "start_time": null,
     "status": "pending"
    },
    "tags": []
   },
   "source": [
    "#### Evaluate the current state, alert the user if input is needed.\n",
    "- At the end of this process, alert the user with instructions if they need to adjust bad entries for validated fields.\n",
    "\n"
   ]
  },
  {
   "cell_type": "code",
   "execution_count": null,
   "id": "860b7338",
   "metadata": {
    "papermill": {
     "duration": null,
     "end_time": null,
     "exception": null,
     "start_time": null,
     "status": "pending"
    },
    "tags": []
   },
   "outputs": [],
   "source": [
    "#see above note about converting to dictionaries\n",
    "\n",
    "#Make lists of all the attribute catalog entries that do not have a correction as a list of errors.\n",
    "err_messages = []\n",
    "\n",
    "for idx, i in enumerate(checktabs):\n",
    "    subset_no_nans =  i[1][0][['Non Matches', 'User Defined Corrections']][~i[1][0]['Non Matches'].isna()]\n",
    "    entries = subset_no_nans['Non Matches'][subset_no_nans['User Defined Corrections'].isna()]. tolist()\n",
    "    if len(entries) > 0: \n",
    "        err_messages.append(f'Please deal with bad entries {entries} on tab {i[0][0]} of the Attribute Catalog.')\n",
    "\n",
    "#raise an error to stop the process and give instructions\n",
    "\n",
    "# define Python user-defined exceptions\n",
    "\n",
    "\n",
    "# define Python user-defined exceptions\n",
    "class Error(Exception):\n",
    "    \"\"\"Base class for other exceptions\"\"\"\n",
    "    pass\n",
    "\n",
    "class BadEntriesError(Error):\n",
    "    \"\"\"Raised when the input value is too large\"\"\"\n",
    "    for i in err_messages : print(i)\n",
    "    \n",
    "    os.startfile(atcat)\n",
    "\n",
    "if len(err_messages) > 0:\n",
    "    raise BadEntriesError\n",
    "else:\n",
    "    pass\n",
    "        "
   ]
  },
  {
   "cell_type": "markdown",
   "id": "4b86ef46",
   "metadata": {
    "papermill": {
     "duration": null,
     "end_time": null,
     "exception": null,
     "start_time": null,
     "status": "pending"
    },
    "tags": []
   },
   "source": [
    "#### Remove empty rows, if there is no claims experience and no revenue for a 12 month period, it should not be included"
   ]
  },
  {
   "cell_type": "code",
   "execution_count": null,
   "id": "563f81b6",
   "metadata": {
    "papermill": {
     "duration": null,
     "end_time": null,
     "exception": null,
     "start_time": null,
     "status": "pending"
    },
    "pycharm": {
     "name": "#%%\n"
    },
    "tags": []
   },
   "outputs": [],
   "source": [
    "trandata = trandata.loc[(trandata['units_of_risk_(written)'].fillna(0).replace('', 0)\n",
    "                         + trandata['written_revenues_net_of_taxes'].fillna(0).replace('', 0)\n",
    "                         + trandata['written_revenues'].fillna(0).replace('', 0)\n",
    "                         + trandata['number_of_policies_(earned)'].fillna(0).replace('', 0)\n",
    "                         + trandata['units_of_risk_(earned)'].fillna(0).replace('', 0)\n",
    "                         + trandata['earned_revenues_net_of_taxes'].fillna(0).replace('', 0)\n",
    "                         + trandata['earned_revenues'].fillna(0).replace('', 0)\n",
    "                         + trandata['earned_base_commissions'].fillna(0).replace('', 0)\n",
    "                         + trandata['upfront_cash_payments'].fillna(0).replace('', 0)\n",
    "                         + trandata['earned_over-commissions'].fillna(0).replace('', 0)\n",
    "                         + trandata['total_compensation'].fillna(0).replace('', 0)\n",
    "                         + trandata['number_of_claims_(paid_+_ocr_+_ibnr)'].fillna(0).replace('', 0)\n",
    "                         + trandata['number_of_open_claims'].fillna(0).replace('', 0)\n",
    "                         + trandata['open_claims_%'].fillna(0).replace('', 0)\n",
    "                         + trandata['number_of_persons_involved_in_claims_(paid_+_ocr_+_ibnr)'].fillna(0).replace('', 0)\n",
    "                         + trandata['paid_claims'].fillna(0).replace('', 0)\n",
    "                         + trandata['ocr_+_ibnr'].fillna(0).replace('', 0)\n",
    "                         + trandata['actual_incurred_losses_(paid_+_ocr_+_ibnr)'].fillna(0).replace('', 0)\n",
    "                         + trandata['internal_variable_costs_(excl._az_tech_fee)'].fillna(0).replace('', 0)\n",
    "                         + trandata['az_tech_fee'].fillna(0).replace('', 0)\n",
    "                         + trandata['internal_fixed_costs_(excl._hq_fees)'].fillna(0).replace('', 0)\n",
    "                         + trandata['hq_fees'].fillna(0).replace('', 0)\n",
    "                         + trandata['total_expenses'].fillna(0).replace('', 0)\n",
    "                         + trandata['frequency_(earned)'].fillna(0).replace('', 0)\n",
    "                         + trandata['severity'].fillna(0).replace('', 0))\n",
    "                        != 0]"
   ]
  },
  {
   "cell_type": "code",
   "execution_count": null,
   "id": "be6c8e90",
   "metadata": {
    "papermill": {
     "duration": null,
     "end_time": null,
     "exception": null,
     "start_time": null,
     "status": "pending"
    },
    "tags": []
   },
   "outputs": [],
   "source": [
    "#special eidt to fix a 1-row issue from US 2021.Q1 submission"
   ]
  },
  {
   "cell_type": "code",
   "execution_count": null,
   "id": "96a70a32",
   "metadata": {
    "papermill": {
     "duration": null,
     "end_time": null,
     "exception": null,
     "start_time": null,
     "status": "pending"
    },
    "tags": []
   },
   "outputs": [],
   "source": []
  },
  {
   "cell_type": "markdown",
   "id": "8dcff459",
   "metadata": {
    "papermill": {
     "duration": null,
     "end_time": null,
     "exception": null,
     "start_time": null,
     "status": "pending"
    },
    "pycharm": {
     "name": "#%% md\n"
    },
    "tags": []
   },
   "source": [
    "#### Output temp file"
   ]
  },
  {
   "cell_type": "code",
   "execution_count": null,
   "id": "32bc3f1c",
   "metadata": {
    "papermill": {
     "duration": null,
     "end_time": null,
     "exception": null,
     "start_time": null,
     "status": "pending"
    },
    "pycharm": {
     "name": "#%%\n"
    },
    "tags": []
   },
   "outputs": [],
   "source": [
    "# trandata.to_parquet(\n",
    "#     f'//hecate/Insurance_US/Product Development/Product Management/Global PPM/Reporting/Data Collection/Production/{str(percode)}\\\\{str(percode)}.localcur.parquet', engine = \"pyarrow\")\n",
    "\n",
    "trandata.to_csv(\n",
    "    \n",
    "     f'//hecate/Insurance_US/Product Development/Product Management/Global PPM/Reporting/Data Collection/Production/{str(percode)}\\\\{str(percode)}.localcur.csv', index = False)\n"
   ]
  },
  {
   "cell_type": "markdown",
   "id": "5ed51d34",
   "metadata": {
    "papermill": {
     "duration": null,
     "end_time": null,
     "exception": null,
     "start_time": null,
     "status": "pending"
    },
    "tags": []
   },
   "source": [
    "#### Store the DataFrame for other noteboks to use"
   ]
  },
  {
   "cell_type": "code",
   "execution_count": null,
   "id": "816d4b1e",
   "metadata": {
    "papermill": {
     "duration": null,
     "end_time": null,
     "exception": null,
     "start_time": null,
     "status": "pending"
    },
    "tags": []
   },
   "outputs": [],
   "source": [
    "py_t_df = trandata\n",
    "\n",
    "%store py_t_df\n"
   ]
  }
 ],
 "metadata": {
  "celltoolbar": "Tags",
  "kernelspec": {
   "display_name": "Python 3",
   "language": "python",
   "name": "python3"
  },
  "language_info": {
   "codemirror_mode": {
    "name": "ipython",
    "version": 3
   },
   "file_extension": ".py",
   "mimetype": "text/x-python",
   "name": "python",
   "nbconvert_exporter": "python",
   "pygments_lexer": "ipython3",
   "version": "3.7.6"
  },
  "papermill": {
   "default_parameters": {},
   "duration": 113.781311,
   "end_time": "2021-06-09T18:55:30.722041",
   "environment_variables": {},
   "exception": true,
   "input_path": "pipeline/py_transform.ipynb",
   "output_path": "//hecate/Insurance_US/Product Development/Product Management/Global PPM/Reporting/Data Collection/Pipeline Reporting Scripts/GPMpipeline/instances/2021.Q1\\pipeline\\py_transform06092021144450--live, add IE.ipynb",
   "parameters": {
    "commit_message": "Live run,Late additions EI was not present.",
    "inst_datetime": "06092021144450",
    "percode": "2021.Q1",
    "run_control": 1
   },
   "start_time": "2021-06-09T18:53:36.940730",
   "version": "2.3.3"
  }
 },
 "nbformat": 4,
 "nbformat_minor": 5
}