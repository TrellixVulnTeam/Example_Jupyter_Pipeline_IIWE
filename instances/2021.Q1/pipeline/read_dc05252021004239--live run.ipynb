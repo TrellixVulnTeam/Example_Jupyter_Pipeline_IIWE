{
 "cells": [
  {
   "cell_type": "markdown",
   "id": "aaa9c645",
   "metadata": {
    "papermill": {
     "duration": 0.263042,
     "end_time": "2021-05-25T04:44:32.698607",
     "exception": false,
     "start_time": "2021-05-25T04:44:32.435565",
     "status": "completed"
    },
    "tags": []
   },
   "source": [
    "<img src=\"../images/AzPTravel_PPM.png\">"
   ]
  },
  {
   "cell_type": "markdown",
   "id": "0d7bc133",
   "metadata": {
    "papermill": {
     "duration": 0.245134,
     "end_time": "2021-05-25T04:44:33.184749",
     "exception": false,
     "start_time": "2021-05-25T04:44:32.939615",
     "status": "completed"
    },
    "pycharm": {
     "name": "#%% md\n"
    },
    "tags": []
   },
   "source": [
    "## Read in Data Collection Source\n",
    "\n",
    "#### This script fetches the current data collection submission file from the completed \"prep.ipynb\" step into the pipeline.\n"
   ]
  },
  {
   "cell_type": "markdown",
   "id": "fbd7c908",
   "metadata": {
    "papermill": {
     "duration": 0.261039,
     "end_time": "2021-05-25T04:44:33.699783",
     "exception": false,
     "start_time": "2021-05-25T04:44:33.438744",
     "status": "completed"
    },
    "tags": []
   },
   "source": [
    "### User Variables\n",
    "- These are overwritten if inherited from run_control.ipynb.\n",
    "- Feel Free to reset them for a manual run if you like\n",
    "- Do not save without percode = \"-f\""
   ]
  },
  {
   "cell_type": "code",
   "execution_count": 1,
   "id": "32d26ac8",
   "metadata": {
    "execution": {
     "iopub.execute_input": "2021-05-25T04:44:34.187029Z",
     "iopub.status.busy": "2021-05-25T04:44:34.181042Z",
     "iopub.status.idle": "2021-05-25T04:44:34.193031Z",
     "shell.execute_reply": "2021-05-25T04:44:34.199031Z"
    },
    "papermill": {
     "duration": 0.269233,
     "end_time": "2021-05-25T04:44:34.200029",
     "exception": false,
     "start_time": "2021-05-25T04:44:33.930796",
     "status": "completed"
    },
    "pycharm": {
     "name": "#%%\n"
    },
    "tags": [
     "parameters"
    ]
   },
   "outputs": [],
   "source": [
    "commit_message = \"Development and testing.\"\n",
    "# Give a brief reason for the run.\n",
    "\n",
    "run_control = 0\n",
    "#run_type = 0 - Lite run with no reporting, not recommended.\n",
    "#run_type = 1 - Lite run with normal reporting, default setting.\n",
    "#run_type = 2 - Heavy run with full reporting, available for audits and troubleshooting.\n",
    "#run_type = 5 - A default setting. Indicates the script is being run by an outside process without an inherited value\n",
    "\n",
    "percode = \"2021.Q1\"\n",
    "# Data Collection Code, this controls file paths and output names\n",
    "# \"-f\" is the value indicating a bad inheritance from run with arg\n",
    "\n",
    "#----------\n",
    "# do not edit - this either inherits the full instance timestamp from the papermill book or captures the run time of this script.\n",
    "from datetime import datetime\n",
    "inst_datetime = datetime.now().strftime(\"%m%d%Y%H%M%S\")"
   ]
  },
  {
   "cell_type": "code",
   "execution_count": 2,
   "id": "3b3e1e6b",
   "metadata": {
    "execution": {
     "iopub.execute_input": "2021-05-25T04:44:34.799179Z",
     "iopub.status.busy": "2021-05-25T04:44:34.797173Z",
     "iopub.status.idle": "2021-05-25T04:44:34.805174Z",
     "shell.execute_reply": "2021-05-25T04:44:34.806175Z"
    },
    "papermill": {
     "duration": 0.332187,
     "end_time": "2021-05-25T04:44:34.807185",
     "exception": false,
     "start_time": "2021-05-25T04:44:34.474998",
     "status": "completed"
    },
    "tags": [
     "injected-parameters"
    ]
   },
   "outputs": [],
   "source": [
    "# Parameters\n",
    "run_control = 1\n",
    "percode = \"2021.Q1\"\n",
    "commit_message = \"Edited data for Austraila, json 2 parquet and add comments from email. Begin general evaluation of data submissions.\"\n",
    "inst_datetime = \"05252021004239\"\n"
   ]
  },
  {
   "cell_type": "markdown",
   "id": "302a4c3a",
   "metadata": {
    "papermill": {
     "duration": 0.297651,
     "end_time": "2021-05-25T04:44:35.365822",
     "exception": false,
     "start_time": "2021-05-25T04:44:35.068171",
     "status": "completed"
    },
    "tags": []
   },
   "source": [
    "#### import packages"
   ]
  },
  {
   "cell_type": "code",
   "execution_count": 3,
   "id": "b5f471a2",
   "metadata": {
    "execution": {
     "iopub.execute_input": "2021-05-25T04:44:35.878261Z",
     "iopub.status.busy": "2021-05-25T04:44:35.873263Z",
     "iopub.status.idle": "2021-05-25T04:44:43.180216Z",
     "shell.execute_reply": "2021-05-25T04:44:43.181980Z"
    },
    "papermill": {
     "duration": 7.562827,
     "end_time": "2021-05-25T04:44:43.182240",
     "exception": false,
     "start_time": "2021-05-25T04:44:35.619413",
     "status": "completed"
    },
    "pycharm": {
     "name": "#%%\n"
    },
    "tags": []
   },
   "outputs": [],
   "source": [
    "import os # System commands\n",
    "import sys # System commands\n",
    "\n",
    "import getpass # parquet file read/write\n",
    "import json # json file read/write\n",
    "from sklearn import datasets # pass vars between .ipynb s\n",
    "\n",
    "import matplotlib.pyplot as plt #Plots and Graphs\n",
    "import pandas as pd #DataFrame and math\n"
   ]
  },
  {
   "cell_type": "markdown",
   "id": "4ce18192",
   "metadata": {
    "papermill": {
     "duration": 0.244526,
     "end_time": "2021-05-25T04:44:43.677740",
     "exception": false,
     "start_time": "2021-05-25T04:44:43.433214",
     "status": "completed"
    },
    "tags": []
   },
   "source": [
    "#### Default Variables, these govern logic, do not edit."
   ]
  },
  {
   "cell_type": "code",
   "execution_count": 4,
   "id": "bc1b087d",
   "metadata": {
    "execution": {
     "iopub.execute_input": "2021-05-25T04:44:44.201950Z",
     "iopub.status.busy": "2021-05-25T04:44:44.199956Z",
     "iopub.status.idle": "2021-05-25T04:44:44.204962Z",
     "shell.execute_reply": "2021-05-25T04:44:44.206952Z"
    },
    "papermill": {
     "duration": 0.262217,
     "end_time": "2021-05-25T04:44:44.206952",
     "exception": false,
     "start_time": "2021-05-25T04:44:43.944735",
     "status": "completed"
    },
    "pycharm": {
     "name": "#%%\n"
    },
    "tags": []
   },
   "outputs": [],
   "source": [
    "default_dc = \"20XX.QX\"\n",
    "default_rc = 0 #extra lite mode\n",
    "dummy_perc = \"33Q3\" # bad inheritance"
   ]
  },
  {
   "cell_type": "markdown",
   "id": "ccadcfbd",
   "metadata": {
    "papermill": {
     "duration": 0.231991,
     "end_time": "2021-05-25T04:44:44.682632",
     "exception": false,
     "start_time": "2021-05-25T04:44:44.450641",
     "status": "completed"
    },
    "pycharm": {
     "name": "#%% md\n"
    },
    "tags": []
   },
   "source": [
    "#### Script determining run context ie, manual, run_control.ipynb, or other."
   ]
  },
  {
   "cell_type": "code",
   "execution_count": 5,
   "id": "b285f66f",
   "metadata": {
    "execution": {
     "iopub.execute_input": "2021-05-25T04:44:45.165160Z",
     "iopub.status.busy": "2021-05-25T04:44:45.157169Z",
     "iopub.status.idle": "2021-05-25T04:44:45.170983Z",
     "shell.execute_reply": "2021-05-25T04:44:45.171973Z"
    },
    "papermill": {
     "duration": 0.254342,
     "end_time": "2021-05-25T04:44:45.171973",
     "exception": false,
     "start_time": "2021-05-25T04:44:44.917631",
     "status": "completed"
    },
    "pycharm": {
     "name": "#%%\n"
    },
    "tags": [
     "parameters"
    ]
   },
   "outputs": [],
   "source": [
    "if run_control == 5:\n",
    "    \n",
    "    run_control = default_rc\n",
    "    \n",
    "else:\n",
    "    \n",
    "    run_control = run_control\n",
    "\n",
    "try:\n",
    "    \n",
    "    if sys.argv[1] == \"-f\":\n",
    "        \n",
    "        percode = percode\n",
    "        \n",
    "    else:\n",
    "        \n",
    "        percode = sys.argv[1]\n",
    "\n",
    "except IndexError:\n",
    "    \n",
    "    percode = default_dc\n",
    "\n",
    "except NameError:\n",
    "\n",
    "    percode = default_dc\n"
   ]
  },
  {
   "cell_type": "markdown",
   "id": "abe098f9",
   "metadata": {
    "papermill": {
     "duration": 0.244924,
     "end_time": "2021-05-25T04:44:45.692515",
     "exception": false,
     "start_time": "2021-05-25T04:44:45.447591",
     "status": "completed"
    },
    "tags": []
   },
   "source": [
    "#### style settings"
   ]
  },
  {
   "cell_type": "code",
   "execution_count": 6,
   "id": "38160781",
   "metadata": {
    "execution": {
     "iopub.execute_input": "2021-05-25T04:44:46.209360Z",
     "iopub.status.busy": "2021-05-25T04:44:46.207359Z",
     "iopub.status.idle": "2021-05-25T04:44:46.215356Z",
     "shell.execute_reply": "2021-05-25T04:44:46.217356Z"
    },
    "papermill": {
     "duration": 0.278081,
     "end_time": "2021-05-25T04:44:46.217356",
     "exception": false,
     "start_time": "2021-05-25T04:44:45.939275",
     "status": "completed"
    },
    "tags": []
   },
   "outputs": [],
   "source": [
    "from IPython.core.interactiveshell import InteractiveShell\n",
    "InteractiveShell.ast_node_interactivity = \"all\""
   ]
  },
  {
   "cell_type": "markdown",
   "id": "fa1bb2e1",
   "metadata": {
    "papermill": {
     "duration": 0.250015,
     "end_time": "2021-05-25T04:44:46.830990",
     "exception": false,
     "start_time": "2021-05-25T04:44:46.580975",
     "status": "completed"
    },
    "pycharm": {
     "name": "#%% md\n"
    },
    "tags": []
   },
   "source": [
    "#### Make paths for the source folder"
   ]
  },
  {
   "cell_type": "code",
   "execution_count": 7,
   "id": "46a9df0f",
   "metadata": {
    "execution": {
     "iopub.execute_input": "2021-05-25T04:44:47.335640Z",
     "iopub.status.busy": "2021-05-25T04:44:47.334642Z",
     "iopub.status.idle": "2021-05-25T04:44:47.341643Z",
     "shell.execute_reply": "2021-05-25T04:44:47.343642Z"
    },
    "papermill": {
     "duration": 0.259652,
     "end_time": "2021-05-25T04:44:47.343642",
     "exception": false,
     "start_time": "2021-05-25T04:44:47.083990",
     "status": "completed"
    },
    "pycharm": {
     "name": "#%%\n"
    },
    "tags": []
   },
   "outputs": [],
   "source": [
    "rt_path = f'//hecate/Insurance_US/Product Development/Product Management/Global PPM/Reporting/Data Collection/Production/{str(percode)}'\n"
   ]
  },
  {
   "cell_type": "markdown",
   "id": "05cb4d4a",
   "metadata": {
    "papermill": {
     "duration": 0.284658,
     "end_time": "2021-05-25T04:44:47.864353",
     "exception": false,
     "start_time": "2021-05-25T04:44:47.579695",
     "status": "completed"
    },
    "tags": []
   },
   "source": [
    "#### Set file variables"
   ]
  },
  {
   "cell_type": "code",
   "execution_count": 8,
   "id": "634828ad",
   "metadata": {
    "execution": {
     "iopub.execute_input": "2021-05-25T04:44:48.404442Z",
     "iopub.status.busy": "2021-05-25T04:44:48.400445Z",
     "iopub.status.idle": "2021-05-25T04:44:48.411450Z",
     "shell.execute_reply": "2021-05-25T04:44:48.412439Z"
    },
    "papermill": {
     "duration": 0.287559,
     "end_time": "2021-05-25T04:44:48.413450",
     "exception": false,
     "start_time": "2021-05-25T04:44:48.125891",
     "status": "completed"
    },
    "tags": []
   },
   "outputs": [],
   "source": [
    "prepparq = os.path.join(str(rt_path), f\"{percode}prep.parquet\")\n",
    "prepfile = os.path.join(str(rt_path), f\"{percode}prep.csv\")\n"
   ]
  },
  {
   "cell_type": "markdown",
   "id": "b305ff5e",
   "metadata": {
    "papermill": {
     "duration": 0.249067,
     "end_time": "2021-05-25T04:44:48.905800",
     "exception": false,
     "start_time": "2021-05-25T04:44:48.656733",
     "status": "completed"
    },
    "pycharm": {
     "name": "#%% md\n"
    },
    "tags": []
   },
   "source": [
    "- Read each json file into temp DataFrame \"data\".\n",
    "- Prep actions - Strip (trim) leading and trailing spaces values in string columns, remove rows without business units.\n",
    "- Append each json output to into 1 DataFrame \"df\".\n",
    "- Process Cleanup, the indices restart with each append, reset and drop the previous."
   ]
  },
  {
   "cell_type": "code",
   "execution_count": 9,
   "id": "e09cfabd",
   "metadata": {
    "execution": {
     "iopub.execute_input": "2021-05-25T04:44:49.443328Z",
     "iopub.status.busy": "2021-05-25T04:44:49.432329Z",
     "iopub.status.idle": "2021-05-25T04:44:49.672865Z",
     "shell.execute_reply": "2021-05-25T04:44:49.673860Z"
    },
    "papermill": {
     "duration": 0.527528,
     "end_time": "2021-05-25T04:44:49.673860",
     "exception": false,
     "start_time": "2021-05-25T04:44:49.146332",
     "status": "completed"
    },
    "pycharm": {
     "name": "#%%\n"
    },
    "tags": []
   },
   "outputs": [],
   "source": [
    "\n",
    "try:\n",
    "    %store -r prep_df\n",
    "    df = prep_df\n",
    "\n",
    "except:\n",
    "    \n",
    "    try:\n",
    "        df = pd.read_parquet(prepparq, engine = \"pyarrow\")\n",
    "    \n",
    "    except:\n",
    "        df = pd.read_csv(prepfile )\n",
    "\n",
    "if run_control > 0:\n",
    "  \n",
    "    os.remove(prepfile)\n",
    "    os.remove(prepparq)\n",
    "\n",
    "else:\n",
    "\n",
    "    pass"
   ]
  },
  {
   "cell_type": "markdown",
   "id": "ff2e72b0",
   "metadata": {
    "papermill": {
     "duration": 0.234107,
     "end_time": "2021-05-25T04:44:50.174630",
     "exception": false,
     "start_time": "2021-05-25T04:44:49.940523",
     "status": "completed"
    },
    "pycharm": {
     "name": "#%% md\n"
    },
    "tags": []
   },
   "source": [
    "#### Upload Charts"
   ]
  },
  {
   "cell_type": "code",
   "execution_count": 10,
   "id": "b4524179",
   "metadata": {
    "execution": {
     "iopub.execute_input": "2021-05-25T04:44:50.721939Z",
     "iopub.status.busy": "2021-05-25T04:44:50.719942Z",
     "iopub.status.idle": "2021-05-25T04:44:51.728785Z",
     "shell.execute_reply": "2021-05-25T04:44:51.730785Z"
    },
    "papermill": {
     "duration": 1.3206,
     "end_time": "2021-05-25T04:44:51.731786",
     "exception": false,
     "start_time": "2021-05-25T04:44:50.411186",
     "status": "completed"
    },
    "pycharm": {
     "name": "#%%\n"
    },
    "tags": []
   },
   "outputs": [
    {
     "data": {
      "text/plain": [
       "<BarContainer object of 6 artists>"
      ]
     },
     "execution_count": 10,
     "metadata": {},
     "output_type": "execute_result"
    },
    {
     "data": {
      "text/plain": [
       "Text(0.5, 1.0, 'Earned Revenue net of Taxes by BU in thousands LC')"
      ]
     },
     "execution_count": 10,
     "metadata": {},
     "output_type": "execute_result"
    },
    {
     "data": {
      "image/png": "[encoded data removed]",
      "text/plain": [
       "<Figure size 432x288 with 1 Axes>"
      ]
     },
     "metadata": {
      "needs_background": "light"
     },
     "output_type": "display_data"
    },
    {
     "data": {
      "text/plain": [
       "<BarContainer object of 6 artists>"
      ]
     },
     "execution_count": 10,
     "metadata": {},
     "output_type": "execute_result"
    },
    {
     "data": {
      "text/plain": [
       "Text(0.5, 1.0, 'Row Counts by BU')"
      ]
     },
     "execution_count": 10,
     "metadata": {},
     "output_type": "execute_result"
    },
    {
     "data": {
      "image/png": "[encoded data removed]",
      "text/plain": [
       "<Figure size 432x288 with 1 Axes>"
      ]
     },
     "metadata": {
      "needs_background": "light"
     },
     "output_type": "display_data"
    }
   ],
   "source": [
    "def num_format(x):\n",
    "    \"\"\"number format without a currency\"\"\"\n",
    "    return \"{:,.0f}\".format(x)\n",
    "\n",
    "if run_control > 0:\n",
    "\n",
    "    sumdata = df.groupby(['Business Unit']).sum()\n",
    "    sumdata = sumdata.reset_index()\n",
    "    plt.bar(sumdata['Business Unit'], sumdata['Earned Revenues net of Taxes']/1000)\n",
    "    plt.title('Earned Revenue net of Taxes by BU in thousands LC')\n",
    "    plt.show()\n",
    "\n",
    "    countdata = df.groupby(['Business Unit']).count()\n",
    "    countdata = countdata.reset_index()\n",
    "    plt.bar(countdata['Business Unit'], countdata['Earned Revenues net of Taxes'])\n",
    "    plt.title('Row Counts by BU')\n",
    "    plt.show()\n",
    "\n",
    "else:\n",
    "    print(\"Charts Skipped\")"
   ]
  },
  {
   "cell_type": "markdown",
   "id": "a2ea7f59",
   "metadata": {
    "papermill": {
     "duration": 0.326999,
     "end_time": "2021-05-25T04:44:52.360802",
     "exception": false,
     "start_time": "2021-05-25T04:44:52.033803",
     "status": "completed"
    },
    "tags": []
   },
   "source": [
    "#### Raw files - extensive audit, best to skip unless troubleshooting, may crash a browser"
   ]
  },
  {
   "cell_type": "code",
   "execution_count": 11,
   "id": "164c2071",
   "metadata": {
    "execution": {
     "iopub.execute_input": "2021-05-25T04:44:53.017788Z",
     "iopub.status.busy": "2021-05-25T04:44:53.015781Z",
     "iopub.status.idle": "2021-05-25T04:44:53.022794Z",
     "shell.execute_reply": "2021-05-25T04:44:53.024787Z"
    },
    "papermill": {
     "duration": 0.3256,
     "end_time": "2021-05-25T04:44:53.024787",
     "exception": false,
     "start_time": "2021-05-25T04:44:52.699187",
     "status": "completed"
    },
    "pycharm": {
     "name": "#%%\n"
    },
    "tags": []
   },
   "outputs": [],
   "source": [
    "# setup for json only\n",
    "# if run_control > 1:\n",
    "#     for f in pathfiles:\n",
    "#         with open(f, 'r') as json_file:\n",
    "#             json_object = json.load(json_file)\n",
    "#         print(json.dumps(json_object, indent=1))\n",
    "#\n",
    "# else:\n",
    "#     print(\"Audit Report 1 Skipped\")"
   ]
  },
  {
   "cell_type": "markdown",
   "id": "4075bd01",
   "metadata": {
    "papermill": {
     "duration": 0.35552,
     "end_time": "2021-05-25T04:44:53.686096",
     "exception": false,
     "start_time": "2021-05-25T04:44:53.330576",
     "status": "completed"
    },
    "tags": []
   },
   "source": [
    "#### Output Processes\n",
    "- Define File names.\n",
    "- If existing csv is found, archive it in \"raw_data_file_history\" folder.\n",
    "- Save new csv."
   ]
  },
  {
   "cell_type": "code",
   "execution_count": 12,
   "id": "7fbe83ee",
   "metadata": {
    "execution": {
     "iopub.execute_input": "2021-05-25T04:44:54.306152Z",
     "iopub.status.busy": "2021-05-25T04:44:54.305140Z",
     "iopub.status.idle": "2021-05-25T04:45:13.307494Z",
     "shell.execute_reply": "2021-05-25T04:45:13.308493Z"
    },
    "papermill": {
     "duration": 19.307873,
     "end_time": "2021-05-25T04:45:13.308493",
     "exception": false,
     "start_time": "2021-05-25T04:44:54.000620",
     "status": "completed"
    },
    "pycharm": {
     "name": "#%%\n"
    },
    "tags": []
   },
   "outputs": [],
   "source": [
    "if run_control > 0:\n",
    "    \n",
    "    file = f'{str(percode)}.csv'\n",
    "    pfile = f'{str(percode)}.parquet'\n",
    "    histfile = f'{str(percode)}_{inst_datetime}.csv'\n",
    "\n",
    "    try:\n",
    "        os.rename(os.path.join(str(rt_path), file), os.path.join(str(rt_path), \"logs/raw_data_file_history/\" , histfile))\n",
    "    except FileNotFoundError:\n",
    "        pass\n",
    "\n",
    "    df.to_csv(os.path.join(str(rt_path), file), ',', index=False , encoding='utf-8-sig')\n",
    "    df.to_parquet(os.path.join(str(rt_path), pfile), engine = \"pyarrow\")\n",
    "\n",
    "else:\n",
    "    \n",
    "    pass"
   ]
  },
  {
   "cell_type": "markdown",
   "id": "115c2346",
   "metadata": {
    "papermill": {
     "duration": 0.308947,
     "end_time": "2021-05-25T04:45:13.983976",
     "exception": false,
     "start_time": "2021-05-25T04:45:13.675029",
     "status": "completed"
    },
    "tags": []
   },
   "source": [
    "- Log update record with commit message and time.\n",
    "- Determine commit message and make new entry"
   ]
  },
  {
   "cell_type": "code",
   "execution_count": 13,
   "id": "dd8925ec",
   "metadata": {
    "execution": {
     "iopub.execute_input": "2021-05-25T04:45:14.758073Z",
     "iopub.status.busy": "2021-05-25T04:45:14.710525Z",
     "iopub.status.idle": "2021-05-25T04:45:15.591720Z",
     "shell.execute_reply": "2021-05-25T04:45:15.592721Z"
    },
    "papermill": {
     "duration": 1.24668,
     "end_time": "2021-05-25T04:45:15.593720",
     "exception": false,
     "start_time": "2021-05-25T04:45:14.347040",
     "status": "completed"
    },
    "pycharm": {
     "name": "#%%\n"
    },
    "tags": []
   },
   "outputs": [
    {
     "data": {
      "text/html": [
       "<div>\n",
       "<style scoped>\n",
       "    .dataframe tbody tr th:only-of-type {\n",
       "        vertical-align: middle;\n",
       "    }\n",
       "\n",
       "    .dataframe tbody tr th {\n",
       "        vertical-align: top;\n",
       "    }\n",
       "\n",
       "    .dataframe thead th {\n",
       "        text-align: right;\n",
       "    }\n",
       "</style>\n",
       "<table border=\"1\" class=\"dataframe\">\n",
       "  <thead>\n",
       "    <tr style=\"text-align: right;\">\n",
       "      <th></th>\n",
       "      <th>run_message\\tdatetime\\tuser</th>\n",
       "      <th>run_message</th>\n",
       "      <th>datetime</th>\n",
       "      <th>user</th>\n",
       "    </tr>\n",
       "  </thead>\n",
       "  <tbody>\n",
       "    <tr>\n",
       "      <th>0</th>\n",
       "      <td>NaN</td>\n",
       "      <td>Got something new it.</td>\n",
       "      <td>2021-05-21-090854</td>\n",
       "      <td>gharmo</td>\n",
       "    </tr>\n",
       "    <tr>\n",
       "      <th>1</th>\n",
       "      <td>NaN</td>\n",
       "      <td>Changed some folder names.</td>\n",
       "      <td>2021-05-21-153222</td>\n",
       "      <td>gharmo</td>\n",
       "    </tr>\n",
       "    <tr>\n",
       "      <th>2</th>\n",
       "      <td>NaN</td>\n",
       "      <td>Added finance report to the process flow.</td>\n",
       "      <td>2021-05-21-163305</td>\n",
       "      <td>gharmo</td>\n",
       "    </tr>\n",
       "    <tr>\n",
       "      <th>3</th>\n",
       "      <td>NaN</td>\n",
       "      <td>Added finance report to the process flow.</td>\n",
       "      <td>2021-05-21-165556</td>\n",
       "      <td>gharmo</td>\n",
       "    </tr>\n",
       "    <tr>\n",
       "      <th>4</th>\n",
       "      <td>NaN</td>\n",
       "      <td>Added finance report to the process flow.</td>\n",
       "      <td>2021-05-22-163757</td>\n",
       "      <td>gharmo</td>\n",
       "    </tr>\n",
       "    <tr>\n",
       "      <th>5</th>\n",
       "      <td>NaN</td>\n",
       "      <td>Development and testing.</td>\n",
       "      <td>2021-05-22-164026</td>\n",
       "      <td>gharmo</td>\n",
       "    </tr>\n",
       "    <tr>\n",
       "      <th>6</th>\n",
       "      <td>NaN</td>\n",
       "      <td>Development and testing.</td>\n",
       "      <td>2021-05-22-164505</td>\n",
       "      <td>gharmo</td>\n",
       "    </tr>\n",
       "    <tr>\n",
       "      <th>7</th>\n",
       "      <td>NaN</td>\n",
       "      <td>Added finance report to the process flow.</td>\n",
       "      <td>2021-05-22-164644</td>\n",
       "      <td>gharmo</td>\n",
       "    </tr>\n",
       "    <tr>\n",
       "      <th>8</th>\n",
       "      <td>NaN</td>\n",
       "      <td>Added finance report to the process flow.</td>\n",
       "      <td>2021-05-22-171225</td>\n",
       "      <td>gharmo</td>\n",
       "    </tr>\n",
       "    <tr>\n",
       "      <th>9</th>\n",
       "      <td>NaN</td>\n",
       "      <td>Added finance report to the process flow.</td>\n",
       "      <td>2021-05-22-171928</td>\n",
       "      <td>gharmo</td>\n",
       "    </tr>\n",
       "    <tr>\n",
       "      <th>10</th>\n",
       "      <td>NaN</td>\n",
       "      <td>Added finance report to the process flow.</td>\n",
       "      <td>2021-05-23-174300</td>\n",
       "      <td>gharmo</td>\n",
       "    </tr>\n",
       "    <tr>\n",
       "      <th>11</th>\n",
       "      <td>NaN</td>\n",
       "      <td>Added finance report to the process flow.</td>\n",
       "      <td>2021-05-24-091701</td>\n",
       "      <td>gharmo</td>\n",
       "    </tr>\n",
       "    <tr>\n",
       "      <th>12</th>\n",
       "      <td>NaN</td>\n",
       "      <td>Edited data for Austraila, json 2 parquet and ...</td>\n",
       "      <td>2021-05-24-132352</td>\n",
       "      <td>gharmo</td>\n",
       "    </tr>\n",
       "    <tr>\n",
       "      <th>13</th>\n",
       "      <td>NaN</td>\n",
       "      <td>Edited data for Austraila, json 2 parquet and ...</td>\n",
       "      <td>2021-05-24-155918</td>\n",
       "      <td>gharmo</td>\n",
       "    </tr>\n",
       "    <tr>\n",
       "      <th>14</th>\n",
       "      <td>NaN</td>\n",
       "      <td>Edited data for Austraila, json 2 parquet and ...</td>\n",
       "      <td>2021-05-24-173810</td>\n",
       "      <td>gharmo</td>\n",
       "    </tr>\n",
       "    <tr>\n",
       "      <th>15</th>\n",
       "      <td>NaN</td>\n",
       "      <td>Edited data for Austraila, json 2 parquet and ...</td>\n",
       "      <td>2021-05-24-183245</td>\n",
       "      <td>gharmo</td>\n",
       "    </tr>\n",
       "    <tr>\n",
       "      <th>16</th>\n",
       "      <td>NaN</td>\n",
       "      <td>Edited data for Austraila, json 2 parquet and ...</td>\n",
       "      <td>2021-05-24-234401</td>\n",
       "      <td>gharmo</td>\n",
       "    </tr>\n",
       "    <tr>\n",
       "      <th>17</th>\n",
       "      <td>NaN</td>\n",
       "      <td>Edited data for Austraila, json 2 parquet and ...</td>\n",
       "      <td>2021-05-25-002105</td>\n",
       "      <td>gharmo</td>\n",
       "    </tr>\n",
       "    <tr>\n",
       "      <th>0</th>\n",
       "      <td>NaN</td>\n",
       "      <td>Edited data for Austraila, json 2 parquet and ...</td>\n",
       "      <td>2021-05-25-004239</td>\n",
       "      <td>gharmo</td>\n",
       "    </tr>\n",
       "  </tbody>\n",
       "</table>\n",
       "</div>"
      ],
      "text/plain": [
       "    run_message\\tdatetime\\tuser  \\\n",
       "0                           NaN   \n",
       "1                           NaN   \n",
       "2                           NaN   \n",
       "3                           NaN   \n",
       "4                           NaN   \n",
       "5                           NaN   \n",
       "6                           NaN   \n",
       "7                           NaN   \n",
       "8                           NaN   \n",
       "9                           NaN   \n",
       "10                          NaN   \n",
       "11                          NaN   \n",
       "12                          NaN   \n",
       "13                          NaN   \n",
       "14                          NaN   \n",
       "15                          NaN   \n",
       "16                          NaN   \n",
       "17                          NaN   \n",
       "0                           NaN   \n",
       "\n",
       "                                          run_message           datetime  \\\n",
       "0                               Got something new it.  2021-05-21-090854   \n",
       "1                          Changed some folder names.  2021-05-21-153222   \n",
       "2           Added finance report to the process flow.  2021-05-21-163305   \n",
       "3           Added finance report to the process flow.  2021-05-21-165556   \n",
       "4           Added finance report to the process flow.  2021-05-22-163757   \n",
       "5                            Development and testing.  2021-05-22-164026   \n",
       "6                            Development and testing.  2021-05-22-164505   \n",
       "7           Added finance report to the process flow.  2021-05-22-164644   \n",
       "8           Added finance report to the process flow.  2021-05-22-171225   \n",
       "9           Added finance report to the process flow.  2021-05-22-171928   \n",
       "10          Added finance report to the process flow.  2021-05-23-174300   \n",
       "11          Added finance report to the process flow.  2021-05-24-091701   \n",
       "12  Edited data for Austraila, json 2 parquet and ...  2021-05-24-132352   \n",
       "13  Edited data for Austraila, json 2 parquet and ...  2021-05-24-155918   \n",
       "14  Edited data for Austraila, json 2 parquet and ...  2021-05-24-173810   \n",
       "15  Edited data for Austraila, json 2 parquet and ...  2021-05-24-183245   \n",
       "16  Edited data for Austraila, json 2 parquet and ...  2021-05-24-234401   \n",
       "17  Edited data for Austraila, json 2 parquet and ...  2021-05-25-002105   \n",
       "0   Edited data for Austraila, json 2 parquet and ...  2021-05-25-004239   \n",
       "\n",
       "      user  \n",
       "0   gharmo  \n",
       "1   gharmo  \n",
       "2   gharmo  \n",
       "3   gharmo  \n",
       "4   gharmo  \n",
       "5   gharmo  \n",
       "6   gharmo  \n",
       "7   gharmo  \n",
       "8   gharmo  \n",
       "9   gharmo  \n",
       "10  gharmo  \n",
       "11  gharmo  \n",
       "12  gharmo  \n",
       "13  gharmo  \n",
       "14  gharmo  \n",
       "15  gharmo  \n",
       "16  gharmo  \n",
       "17  gharmo  \n",
       "0   gharmo  "
      ]
     },
     "execution_count": 13,
     "metadata": {},
     "output_type": "execute_result"
    }
   ],
   "source": [
    "log = os.path.join(str(rt_path), f'logs/pipline_log.csv' )\n",
    "\n",
    "try:\n",
    "    log_df = pd.read_csv(log)\n",
    "except NameError:\n",
    "    print(\"No log file present\")\n",
    "\n",
    "# determine if running from notebook or Excel controller and set commit message.\n",
    "if sys.argv[1] == \"-f\":\n",
    "    message = commit_message\n",
    "else:\n",
    "    piperunner = '//hecate/Insurance_US/Product Development/Product Management/Global PPM/Reporting/_To' \\\n",
    "                 'ols/GitHub/Production Repositories/Pipeline Runner/Pipeline Runner.xlsm'\n",
    "    wb = openpyxl.load_workbook(piperunner)\n",
    "    sh = wb['Pipeline Runner']\n",
    "    message = sh['f13'].value\n",
    "\n",
    "# find username\n",
    "username = getpass.getuser()\n",
    "\n",
    "# record timestamp\n",
    "datetime = inst_datetime\n",
    "dateformat = datetime[4:8] + '-' + datetime[:2]  + '-' + datetime[2:4]  + '-' + datetime[8:]\n",
    "\n",
    "# add new line\n",
    "newline = { \"run_message\" : [message ],  \"datetime\" :[dateformat], \"user\" : [username ]}\n",
    "newline = pd.DataFrame.from_dict(newline)\n",
    "\n",
    "# make new file\n",
    "log_df = log_df.append(newline[0:])\n",
    "log_df\n",
    "log_df.to_csv(log, ',', index=False , encoding='utf-8-sig')\n"
   ]
  },
  {
   "cell_type": "markdown",
   "id": "63771be7",
   "metadata": {
    "papermill": {
     "duration": 0.304977,
     "end_time": "2021-05-25T04:45:16.223717",
     "exception": false,
     "start_time": "2021-05-25T04:45:15.918740",
     "status": "completed"
    },
    "tags": []
   },
   "source": [
    "#### Store the DataFrame for other noteboks to use"
   ]
  },
  {
   "cell_type": "code",
   "execution_count": 14,
   "id": "4ffa8783",
   "metadata": {
    "execution": {
     "iopub.execute_input": "2021-05-25T04:45:16.863433Z",
     "iopub.status.busy": "2021-05-25T04:45:16.859435Z",
     "iopub.status.idle": "2021-05-25T04:45:16.915440Z",
     "shell.execute_reply": "2021-05-25T04:45:16.917440Z"
    },
    "papermill": {
     "duration": 0.391569,
     "end_time": "2021-05-25T04:45:16.917440",
     "exception": false,
     "start_time": "2021-05-25T04:45:16.525871",
     "status": "completed"
    },
    "tags": []
   },
   "outputs": [
    {
     "name": "stdout",
     "output_type": "stream",
     "text": [
      "Stored 'read_dc_df' (DataFrame)\n"
     ]
    }
   ],
   "source": [
    "read_dc_df = df\n",
    "\n",
    "%store read_dc_df\n"
   ]
  }
 ],
 "metadata": {
  "celltoolbar": "Tags",
  "kernelspec": {
   "display_name": "Python 3",
   "language": "python",
   "name": "python3"
  },
  "language_info": {
   "codemirror_mode": {
    "name": "ipython",
    "version": 3
   },
   "file_extension": ".py",
   "mimetype": "text/x-python",
   "name": "python",
   "nbconvert_exporter": "python",
   "pygments_lexer": "ipython3",
   "version": "3.7.6"
  },
  "papermill": {
   "default_parameters": {},
   "duration": 59.828221,
   "end_time": "2021-05-25T04:45:18.577226",
   "environment_variables": {},
   "exception": null,
   "input_path": "pipeline/read_dc.ipynb",
   "output_path": "//hecate/Insurance_US/Product Development/Product Management/Global PPM/Reporting/Data Collection/Pipeline Reporting Scripts/GPMpipeline/instances/2021.Q1\\pipeline\\read_dc05252021004239--live run.ipynb",
   "parameters": {
    "commit_message": "Edited data for Austraila, json 2 parquet and add comments from email. Begin general evaluation of data submissions.",
    "inst_datetime": "05252021004239",
    "percode": "2021.Q1",
    "run_control": 1
   },
   "start_time": "2021-05-25T04:44:18.749005",
   "version": "2.3.3"
  }
 },
 "nbformat": 4,
 "nbformat_minor": 5
}