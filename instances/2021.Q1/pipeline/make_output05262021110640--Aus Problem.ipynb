{
 "cells": [
  {
   "cell_type": "markdown",
   "id": "ca304f6e",
   "metadata": {
    "papermill": {
     "duration": 0.276828,
     "end_time": "2021-05-26T15:12:16.834983",
     "exception": false,
     "start_time": "2021-05-26T15:12:16.558155",
     "status": "completed"
    },
    "pycharm": {
     "name": "#%% md\n"
    },
    "tags": []
   },
   "source": [
    "<img src=\"../images/AzPTravel_PPM.png\">"
   ]
  },
  {
   "cell_type": "markdown",
   "id": "94a11c13",
   "metadata": {
    "papermill": {
     "duration": 0.254227,
     "end_time": "2021-05-26T15:12:17.411812",
     "exception": false,
     "start_time": "2021-05-26T15:12:17.157585",
     "status": "completed"
    },
    "tags": []
   },
   "source": [
    "## GPM Pipeline Output maker\n",
    "\n",
    "#### This script\n",
    "- loads the transformed parquet file\n",
    "- creates the file {parquet}.localcur.csv\n",
    "- makes the Euro conversions\n",
    "- outputs {parquet}.euroconv.csv\n"
   ]
  },
  {
   "cell_type": "markdown",
   "id": "e6e0ea00",
   "metadata": {
    "papermill": {
     "duration": 0.297216,
     "end_time": "2021-05-26T15:12:17.961348",
     "exception": false,
     "start_time": "2021-05-26T15:12:17.664132",
     "status": "completed"
    },
    "tags": []
   },
   "source": [
    "#### Parameters section"
   ]
  },
  {
   "cell_type": "code",
   "execution_count": 1,
   "id": "86480963",
   "metadata": {
    "execution": {
     "iopub.execute_input": "2021-05-26T15:12:18.524941Z",
     "iopub.status.busy": "2021-05-26T15:12:18.521937Z",
     "iopub.status.idle": "2021-05-26T15:12:18.526935Z",
     "shell.execute_reply": "2021-05-26T15:12:18.528948Z"
    },
    "papermill": {
     "duration": 0.309077,
     "end_time": "2021-05-26T15:12:18.528948",
     "exception": false,
     "start_time": "2021-05-26T15:12:18.219871",
     "status": "completed"
    },
    "pycharm": {
     "name": "#%%\n"
    },
    "tags": [
     "parameters"
    ]
   },
   "outputs": [],
   "source": [
    "commit = \"\"\n",
    "# give a reason for the run\n",
    "\n",
    "percode = \"20XX.QX\"\n",
    "# Data Collection Code, this controls file paths and output names\n",
    "\n",
    "run_type = 1\n",
    "#run_type =  0 - lite run with no reporting, not recommended.\n",
    "#run_type =  1 - lite run with normal reporting, default setting.\n",
    "#run_type =  2 - Heavy run with full reporting, available for audits and troubleshooting.\n",
    "\n",
    "specialchars = \"-GTHtest\"\n",
    "# optional - add up to a 12 character code in order to mark your instance record .ipynb\n",
    "\n",
    "from datetime import datetime\n",
    "inst_datetime = datetime.now().strftime(\"%m%d%Y%H%M%S\")\n",
    "# a single datetime stamp for the full instance run\n"
   ]
  },
  {
   "cell_type": "code",
   "execution_count": 2,
   "id": "537b54c0",
   "metadata": {
    "execution": {
     "iopub.execute_input": "2021-05-26T15:12:19.040598Z",
     "iopub.status.busy": "2021-05-26T15:12:19.036587Z",
     "iopub.status.idle": "2021-05-26T15:12:19.045588Z",
     "shell.execute_reply": "2021-05-26T15:12:19.046587Z"
    },
    "papermill": {
     "duration": 0.275069,
     "end_time": "2021-05-26T15:12:19.047589",
     "exception": false,
     "start_time": "2021-05-26T15:12:18.772520",
     "status": "completed"
    },
    "tags": [
     "injected-parameters"
    ]
   },
   "outputs": [],
   "source": [
    "# Parameters\n",
    "run_control = 1\n",
    "percode = \"2021.Q1\"\n",
    "commit_message = \"New AUS needed to be converted from json\"\n",
    "inst_datetime = \"05262021110640\"\n"
   ]
  },
  {
   "cell_type": "markdown",
   "id": "21a754c2",
   "metadata": {
    "papermill": {
     "duration": 0.330521,
     "end_time": "2021-05-26T15:12:19.622156",
     "exception": false,
     "start_time": "2021-05-26T15:12:19.291635",
     "status": "completed"
    },
    "tags": []
   },
   "source": [
    "### Set Run Control\n",
    "\n",
    "##### 0 - lite run with no reporting, not recommended.\n",
    "##### 1 - lite run with normal reporting, default setting.\n",
    "##### 2 - Heavy run with full reporting, available for audits and troubleshooting."
   ]
  },
  {
   "cell_type": "code",
   "execution_count": 3,
   "id": "4b842c1a",
   "metadata": {
    "execution": {
     "iopub.execute_input": "2021-05-26T15:12:20.336387Z",
     "iopub.status.busy": "2021-05-26T15:12:20.333388Z",
     "iopub.status.idle": "2021-05-26T15:12:20.341400Z",
     "shell.execute_reply": "2021-05-26T15:12:20.342386Z"
    },
    "papermill": {
     "duration": 0.311536,
     "end_time": "2021-05-26T15:12:20.343393",
     "exception": false,
     "start_time": "2021-05-26T15:12:20.031857",
     "status": "completed"
    },
    "pycharm": {
     "name": "#%%\n"
    },
    "tags": []
   },
   "outputs": [],
   "source": [
    "run_control = 0 # in development mode"
   ]
  },
  {
   "cell_type": "markdown",
   "id": "f85fe05f",
   "metadata": {
    "papermill": {
     "duration": 0.314117,
     "end_time": "2021-05-26T15:12:20.921163",
     "exception": false,
     "start_time": "2021-05-26T15:12:20.607046",
     "status": "completed"
    },
    "tags": []
   },
   "source": [
    "#### Packages used"
   ]
  },
  {
   "cell_type": "code",
   "execution_count": 4,
   "id": "a819b839",
   "metadata": {
    "execution": {
     "iopub.execute_input": "2021-05-26T15:12:21.494697Z",
     "iopub.status.busy": "2021-05-26T15:12:21.492702Z",
     "iopub.status.idle": "2021-05-26T15:12:22.672029Z",
     "shell.execute_reply": "2021-05-26T15:12:22.673041Z"
    },
    "papermill": {
     "duration": 1.491328,
     "end_time": "2021-05-26T15:12:22.674030",
     "exception": false,
     "start_time": "2021-05-26T15:12:21.182702",
     "status": "completed"
    },
    "pycharm": {
     "name": "#%%\n"
    },
    "tags": []
   },
   "outputs": [],
   "source": [
    "import sys\n",
    "import os\n",
    "import pandas as pd"
   ]
  },
  {
   "cell_type": "code",
   "execution_count": 5,
   "id": "f9d77c53",
   "metadata": {
    "execution": {
     "iopub.execute_input": "2021-05-26T15:12:23.267518Z",
     "iopub.status.busy": "2021-05-26T15:12:23.265530Z",
     "iopub.status.idle": "2021-05-26T15:12:23.269525Z",
     "shell.execute_reply": "2021-05-26T15:12:23.270520Z"
    },
    "papermill": {
     "duration": 0.334045,
     "end_time": "2021-05-26T15:12:23.271520",
     "exception": false,
     "start_time": "2021-05-26T15:12:22.937475",
     "status": "completed"
    },
    "pycharm": {
     "name": "#%%\n"
    },
    "tags": []
   },
   "outputs": [],
   "source": [
    "default_DC = \"2021.Q1\"\n",
    "\n",
    "try:\n",
    "    if sys.argv[1] == \"-f\":\n",
    "        percode = default_DC\n",
    "    else:\n",
    "        percode = sys.argv[1]\n",
    "\n",
    "except IndexError:\n",
    "    percode = default_DC\n",
    "except NameError:\n",
    "    percode = default_DC"
   ]
  },
  {
   "cell_type": "markdown",
   "id": "cf067550",
   "metadata": {
    "papermill": {
     "duration": 0.26763,
     "end_time": "2021-05-26T15:12:23.819879",
     "exception": false,
     "start_time": "2021-05-26T15:12:23.552249",
     "status": "completed"
    },
    "tags": []
   },
   "source": [
    "#### Convert paths and files to variables.\n",
    "#### Read data into pd DataFrames.\n",
    "#### Make paths for the live sources."
   ]
  },
  {
   "cell_type": "code",
   "execution_count": 6,
   "id": "c58800d1",
   "metadata": {
    "execution": {
     "iopub.execute_input": "2021-05-26T15:12:24.438472Z",
     "iopub.status.busy": "2021-05-26T15:12:24.436471Z",
     "iopub.status.idle": "2021-05-26T15:12:24.444203Z",
     "shell.execute_reply": "2021-05-26T15:12:24.445473Z"
    },
    "papermill": {
     "duration": 0.338612,
     "end_time": "2021-05-26T15:12:24.445473",
     "exception": false,
     "start_time": "2021-05-26T15:12:24.106861",
     "status": "completed"
    },
    "pycharm": {
     "name": "#%%\n"
    },
    "tags": []
   },
   "outputs": [],
   "source": [
    "rt_path = f'//hecate/Insurance_US/Product Development/Product Manag' \\\n",
    "          f'ement/Global PPM/Reporting/Data Collection/Production/{str(percode)}'\n",
    "tempfile = os.path.join(rt_path, f'{str(percode)}.localcur.parquet')\n",
    "gppm_file = os.path.join(rt_path, f'GPPM_Input_{str(percode)}.xlsx')"
   ]
  },
  {
   "cell_type": "markdown",
   "id": "fd96f664",
   "metadata": {
    "papermill": {
     "duration": 0.263249,
     "end_time": "2021-05-26T15:12:25.011251",
     "exception": false,
     "start_time": "2021-05-26T15:12:24.748002",
     "status": "completed"
    },
    "tags": []
   },
   "source": [
    "#### Read source"
   ]
  },
  {
   "cell_type": "code",
   "execution_count": 7,
   "id": "37af590e",
   "metadata": {
    "execution": {
     "iopub.execute_input": "2021-05-26T15:12:25.563253Z",
     "iopub.status.busy": "2021-05-26T15:12:25.561251Z",
     "iopub.status.idle": "2021-05-26T15:12:30.375588Z",
     "shell.execute_reply": "2021-05-26T15:12:30.377576Z"
    },
    "papermill": {
     "duration": 5.118323,
     "end_time": "2021-05-26T15:12:30.377576",
     "exception": false,
     "start_time": "2021-05-26T15:12:25.259253",
     "status": "completed"
    },
    "pycharm": {
     "name": "#%%\n"
    },
    "tags": []
   },
   "outputs": [
    {
     "name": "stdout",
     "output_type": "stream",
     "text": [
      "     business_unit                   submission_file country currency  \\\n",
      "0               AU  us_dat_au_05142021143612.parquet      AU      AUD   \n",
      "1               AU  us_dat_au_05142021143612.parquet      AU      AUD   \n",
      "2               AU  us_dat_au_05142021143612.parquet      AU      AUD   \n",
      "3               AU  us_dat_au_05142021143612.parquet      AU      AUD   \n",
      "4               AU  us_dat_au_05142021143612.parquet      AU      AUD   \n",
      "...            ...                               ...     ...      ...   \n",
      "1963            PT  us_dat_pt_05202021121056.parquet      PT      EUR   \n",
      "1964            PT  us_dat_pt_05202021121056.parquet      PT      EUR   \n",
      "1965            PT  us_dat_pt_05202021121056.parquet      PT      EUR   \n",
      "1966            PT  us_dat_pt_05202021121056.parquet      PT      EUR   \n",
      "1967            PT  us_dat_pt_05202021121056.parquet      PT      EUR   \n",
      "\n",
      "                           region reporting_date_from reporting_date_to  \\\n",
      "0                            APAC          2021-01-01        2021-03-31   \n",
      "1                            APAC          2021-01-01        2021-03-31   \n",
      "2                            APAC          2021-01-01        2021-03-31   \n",
      "3                            APAC          2021-01-01        2021-03-31   \n",
      "4                            APAC          2021-01-01        2021-03-31   \n",
      "...                           ...                 ...               ...   \n",
      "1963  Western Europe, LATAM & MEA          2021-01-01        2021-03-31   \n",
      "1964  Western Europe, LATAM & MEA          2021-01-01        2021-03-31   \n",
      "1965  Western Europe, LATAM & MEA          2021-01-01        2021-03-31   \n",
      "1966  Western Europe, LATAM & MEA          2021-01-01        2021-03-31   \n",
      "1967  Western Europe, LATAM & MEA          2021-01-01        2021-03-31   \n",
      "\n",
      "     date_of_analysis type_of_analysis  analysed_months  ...  \\\n",
      "0          2021-04-30     Year To Date              3.0  ...   \n",
      "1          2021-04-30     Year To Date              3.0  ...   \n",
      "2          2021-04-30     Year To Date              3.0  ...   \n",
      "3          2021-04-30     Year To Date              3.0  ...   \n",
      "4          2021-04-30     Year To Date              3.0  ...   \n",
      "...               ...              ...              ...  ...   \n",
      "1963       2021-03-31     Year To Date              3.0  ...   \n",
      "1964       2021-03-31     Year To Date              3.0  ...   \n",
      "1965       2021-03-31     Year To Date              3.0  ...   \n",
      "1966       2021-03-31     Year To Date              3.0  ...   \n",
      "1967       2021-03-31     Year To Date              3.0  ...   \n",
      "\n",
      "      reporting_date_from_int  reporting_date_to_int  date_of_analysis_int  \\\n",
      "0                    20210101               20210331              20210430   \n",
      "1                    20210101               20210331              20210430   \n",
      "2                    20210101               20210331              20210430   \n",
      "3                    20210101               20210331              20210430   \n",
      "4                    20210101               20210331              20210430   \n",
      "...                       ...                    ...                   ...   \n",
      "1963                 20210101               20210331              20210331   \n",
      "1964                 20210101               20210331              20210331   \n",
      "1965                 20210101               20210331              20210331   \n",
      "1966                 20210101               20210331              20210331   \n",
      "1967                 20210101               20210331              20210331   \n",
      "\n",
      "                         selected_fields_for_duplicates ibnrsub   rep_date  \\\n",
      "0     AUInsuranceLocalB2B2CTravelAllianz Affiliation...     0.0 2021-03-31   \n",
      "1     AUInsuranceLocalB2B2CTravelOffline Travel Agen...     0.0 2021-03-31   \n",
      "2     AUInsuranceLocalB2B2CTravelAllianz Affiliation...     0.0 2021-03-31   \n",
      "3     AUInsuranceLocalB2CTravelDirect (Allianz Partn...     0.0 2021-03-31   \n",
      "4     AUInsuranceLocalB2B2CTravelBanks / Credit Card...     0.0 2021-03-31   \n",
      "...                                                 ...     ...        ...   \n",
      "1963  PTReinsuranceLocalB2B2CTravelDirect (Allianz P...     0.0 2021-03-31   \n",
      "1964  PTReinsuranceLocalB2B2CTravelDirect (Allianz P...     0.0 2021-03-31   \n",
      "1965  PTReinsuranceLocalB2B2CTravelDirect (Allianz P...     0.0 2021-03-31   \n",
      "1966  PTReinsuranceLocalB2B2CTravelDirect (Allianz P...     0.0 2021-03-31   \n",
      "1967  PTReinsuranceLocalB2BTravelDirect (Allianz Par...     0.0 2021-03-31   \n",
      "\n",
      "     __index_level_0__   bu_descr month_of_analysis_max      reporting_period  \n",
      "0                    0  Australia              2021 Apr  2021 Jan to 2021 Mar  \n",
      "1                    1  Australia              2021 Apr  2021 Jan to 2021 Mar  \n",
      "2                    3  Australia              2021 Apr  2021 Jan to 2021 Mar  \n",
      "3                    4  Australia              2021 Apr  2021 Jan to 2021 Mar  \n",
      "4                    5  Australia              2021 Apr  2021 Jan to 2021 Mar  \n",
      "...                ...        ...                   ...                   ...  \n",
      "1963              3468   Portugal              2021 Mar  2021 Jan to 2021 Mar  \n",
      "1964              3469   Portugal              2021 Mar  2021 Jan to 2021 Mar  \n",
      "1965              3470   Portugal              2021 Mar  2021 Jan to 2021 Mar  \n",
      "1966              3471   Portugal              2021 Mar  2021 Jan to 2021 Mar  \n",
      "1967              3472   Portugal              2021 Mar  2021 Jan to 2021 Mar  \n",
      "\n",
      "[1968 rows x 81 columns]\n"
     ]
    }
   ],
   "source": [
    "mo_input = pd.read_parquet(tempfile, engine='pyarrow')\n",
    "\n",
    "print(mo_input)"
   ]
  },
  {
   "cell_type": "markdown",
   "id": "f8af2f7f",
   "metadata": {
    "papermill": {
     "duration": 0.539069,
     "end_time": "2021-05-26T15:12:31.273780",
     "exception": false,
     "start_time": "2021-05-26T15:12:30.734711",
     "status": "completed"
    },
    "tags": []
   },
   "source": [
    "#### Output local currency csv"
   ]
  },
  {
   "cell_type": "code",
   "execution_count": 8,
   "id": "48649f6b",
   "metadata": {
    "execution": {
     "iopub.execute_input": "2021-05-26T15:12:32.774391Z",
     "iopub.status.busy": "2021-05-26T15:12:32.770383Z",
     "iopub.status.idle": "2021-05-26T15:12:44.760782Z",
     "shell.execute_reply": "2021-05-26T15:12:44.762780Z"
    },
    "papermill": {
     "duration": 12.722066,
     "end_time": "2021-05-26T15:12:44.763785",
     "exception": false,
     "start_time": "2021-05-26T15:12:32.041719",
     "status": "completed"
    },
    "pycharm": {
     "is_executing": true,
     "name": "#%%\n"
    },
    "tags": []
   },
   "outputs": [],
   "source": [
    "mo_input.to_csv(f'//hecate/Insurance_US/Product Development/Product Management/Global PPM/Reporting/Data Collection/Production/{str(percode)}\\\\{str(percode)}.localcur.csv', ',', index=False, encoding='utf-8-sig')"
   ]
  },
  {
   "cell_type": "markdown",
   "id": "aa98898d",
   "metadata": {
    "papermill": {
     "duration": 0.320674,
     "end_time": "2021-05-26T15:12:45.572547",
     "exception": false,
     "start_time": "2021-05-26T15:12:45.251873",
     "status": "completed"
    },
    "tags": []
   },
   "source": [
    "#### Convert all currency to Euro\n"
   ]
  },
  {
   "cell_type": "code",
   "execution_count": 9,
   "id": "3c43d8a3",
   "metadata": {
    "execution": {
     "iopub.execute_input": "2021-05-26T15:12:46.296945Z",
     "iopub.status.busy": "2021-05-26T15:12:46.295944Z",
     "iopub.status.idle": "2021-05-26T15:12:47.861391Z",
     "shell.execute_reply": "2021-05-26T15:12:47.865399Z"
    },
    "papermill": {
     "duration": 1.915013,
     "end_time": "2021-05-26T15:12:47.866391",
     "exception": false,
     "start_time": "2021-05-26T15:12:45.951378",
     "status": "completed"
    },
    "pycharm": {
     "is_executing": true,
     "name": "#%%\n"
    },
    "tags": []
   },
   "outputs": [],
   "source": [
    "\n",
    "cflds = ['written_revenues_net_of_taxes', 'written_revenues', 'earned_revenues_net_of_taxes',\n",
    "         'earned_revenues', 'earned_base_commissions', 'earned_over_commissions', 'upfront_cash_payments',\n",
    "         'total_compensation', 'paid_claims', 'ocr__ibnr', 'actual_incurred_losses',\n",
    "         'internal_variable_costs', 'az_tech_fee', 'internal_fixed_costs',\n",
    "         'hq_fees', 'total_expenses', 'risk_premium', 'profit_or_loss', 'cm_hq_view', 'cm_bu_view', ]\n",
    "\n",
    "\n",
    "\"\"\"reads in the input for the Euro conversion\"\"\"\n",
    "euro = pd.read_excel(gppm_file, sheet_name=\"Euro_Rates\")\n"
   ]
  },
  {
   "cell_type": "markdown",
   "id": "29f9b84b",
   "metadata": {
    "papermill": {
     "duration": 0.352774,
     "end_time": "2021-05-26T15:12:48.578031",
     "exception": false,
     "start_time": "2021-05-26T15:12:48.225257",
     "status": "completed"
    },
    "tags": []
   },
   "source": [
    "#### Make a copy for debug purposes"
   ]
  },
  {
   "cell_type": "code",
   "execution_count": 10,
   "id": "1078edf8",
   "metadata": {
    "execution": {
     "iopub.execute_input": "2021-05-26T15:12:49.261755Z",
     "iopub.status.busy": "2021-05-26T15:12:49.258759Z",
     "iopub.status.idle": "2021-05-26T15:12:49.267759Z",
     "shell.execute_reply": "2021-05-26T15:12:49.269758Z"
    },
    "papermill": {
     "duration": 0.358988,
     "end_time": "2021-05-26T15:12:49.270759",
     "exception": false,
     "start_time": "2021-05-26T15:12:48.911771",
     "status": "completed"
    },
    "pycharm": {
     "is_executing": true,
     "name": "#%%\n"
    },
    "tags": []
   },
   "outputs": [],
   "source": [
    "trandata = mo_input.copy()"
   ]
  },
  {
   "cell_type": "markdown",
   "id": "54fc1afb",
   "metadata": {
    "papermill": {
     "duration": 0.413786,
     "end_time": "2021-05-26T15:12:50.019128",
     "exception": false,
     "start_time": "2021-05-26T15:12:49.605342",
     "status": "completed"
    },
    "tags": []
   },
   "source": [
    "#### Convert Currency Below"
   ]
  },
  {
   "cell_type": "code",
   "execution_count": 11,
   "id": "f9e4a00b",
   "metadata": {
    "execution": {
     "iopub.execute_input": "2021-05-26T15:12:50.811457Z",
     "iopub.status.busy": "2021-05-26T15:12:50.797459Z",
     "iopub.status.idle": "2021-05-26T15:12:50.823993Z",
     "shell.execute_reply": "2021-05-26T15:12:50.820456Z"
    },
    "papermill": {
     "duration": 0.36425,
     "end_time": "2021-05-26T15:12:50.824454",
     "exception": false,
     "start_time": "2021-05-26T15:12:50.460204",
     "status": "completed"
    },
    "pycharm": {
     "is_executing": true,
     "name": "#%%\n"
    },
    "tags": []
   },
   "outputs": [],
   "source": [
    "# create DataFrame of unique currencies with rates\n",
    "\n",
    "fx_uni = euro[['CURR_CODE','RATE']]\n",
    "fx_uni = fx_uni.drop_duplicates()"
   ]
  },
  {
   "cell_type": "code",
   "execution_count": 12,
   "id": "c7048a02",
   "metadata": {
    "execution": {
     "iopub.execute_input": "2021-05-26T15:12:51.604019Z",
     "iopub.status.busy": "2021-05-26T15:12:51.586020Z",
     "iopub.status.idle": "2021-05-26T15:12:51.609023Z",
     "shell.execute_reply": "2021-05-26T15:12:51.611023Z"
    },
    "papermill": {
     "duration": 0.390556,
     "end_time": "2021-05-26T15:12:51.612577",
     "exception": false,
     "start_time": "2021-05-26T15:12:51.222021",
     "status": "completed"
    },
    "pycharm": {
     "is_executing": true,
     "name": "#%%\n"
    },
    "tags": []
   },
   "outputs": [],
   "source": [
    "# add euro conversion rates to trandata DataFrame as column 'eur_rate'\n",
    "\n",
    "eurdata = pd.merge(trandata['currency'], fx_uni, left_on='currency', right_on='CURR_CODE', how='left')\n",
    "\n",
    "trandata['eur_rate'] = eurdata['RATE']"
   ]
  },
  {
   "cell_type": "markdown",
   "id": "7d189dfc",
   "metadata": {
    "papermill": {
     "duration": 0.376348,
     "end_time": "2021-05-26T15:12:52.283509",
     "exception": false,
     "start_time": "2021-05-26T15:12:51.907161",
     "status": "completed"
    },
    "tags": []
   },
   "source": [
    "#### Convert currency fields"
   ]
  },
  {
   "cell_type": "code",
   "execution_count": 13,
   "id": "556d04b7",
   "metadata": {
    "execution": {
     "iopub.execute_input": "2021-05-26T15:12:53.002143Z",
     "iopub.status.busy": "2021-05-26T15:12:53.000142Z",
     "iopub.status.idle": "2021-05-26T15:12:53.268316Z",
     "shell.execute_reply": "2021-05-26T15:12:53.271308Z"
    },
    "papermill": {
     "duration": 0.651205,
     "end_time": "2021-05-26T15:12:53.271308",
     "exception": false,
     "start_time": "2021-05-26T15:12:52.620103",
     "status": "completed"
    },
    "pycharm": {
     "is_executing": true,
     "name": "#%%\n"
    },
    "tags": []
   },
   "outputs": [],
   "source": [
    "trandata[cflds] = trandata[cflds].divide(trandata['eur_rate'], axis=\"index\").fillna(0)\n"
   ]
  },
  {
   "cell_type": "markdown",
   "id": "d9cf613b",
   "metadata": {
    "papermill": {
     "duration": 0.534289,
     "end_time": "2021-05-26T15:12:54.178853",
     "exception": false,
     "start_time": "2021-05-26T15:12:53.644564",
     "status": "completed"
    },
    "tags": []
   },
   "source": [
    "#### Output to {percode}.euroconv.csv"
   ]
  },
  {
   "cell_type": "code",
   "execution_count": 14,
   "id": "b8ab7fff",
   "metadata": {
    "execution": {
     "iopub.execute_input": "2021-05-26T15:12:54.865089Z",
     "iopub.status.busy": "2021-05-26T15:12:54.861085Z",
     "iopub.status.idle": "2021-05-26T15:13:05.875102Z",
     "shell.execute_reply": "2021-05-26T15:13:05.876923Z"
    },
    "papermill": {
     "duration": 11.386543,
     "end_time": "2021-05-26T15:13:05.877087",
     "exception": false,
     "start_time": "2021-05-26T15:12:54.490544",
     "status": "completed"
    },
    "pycharm": {
     "is_executing": true,
     "name": "#%%\n"
    },
    "tags": []
   },
   "outputs": [],
   "source": [
    "trandata.to_csv(f'//hecate/Insurance_US/Product Development/Product Management/Global PPM/Reporting/Data Collection/Production/{str(percode)}\\\\{str(percode)}.euroconv.csv', ',', index=False, encoding='utf-8-sig')\n",
    "\n",
    "\n"
   ]
  },
  {
   "cell_type": "markdown",
   "id": "056a7fbe",
   "metadata": {
    "papermill": {
     "duration": 0.280528,
     "end_time": "2021-05-26T15:13:06.490615",
     "exception": false,
     "start_time": "2021-05-26T15:13:06.210087",
     "status": "completed"
    },
    "tags": []
   },
   "source": [
    "#### Store the DataFrame for other notebooks to use"
   ]
  },
  {
   "cell_type": "code",
   "execution_count": 15,
   "id": "22f166d9",
   "metadata": {
    "execution": {
     "iopub.execute_input": "2021-05-26T15:13:07.060185Z",
     "iopub.status.busy": "2021-05-26T15:13:07.058185Z",
     "iopub.status.idle": "2021-05-26T15:13:07.082183Z",
     "shell.execute_reply": "2021-05-26T15:13:07.083182Z"
    },
    "papermill": {
     "duration": 0.325088,
     "end_time": "2021-05-26T15:13:07.083182",
     "exception": false,
     "start_time": "2021-05-26T15:13:06.758094",
     "status": "completed"
    },
    "tags": []
   },
   "outputs": [
    {
     "name": "stdout",
     "output_type": "stream",
     "text": [
      "Stored 'mo_df' (DataFrame)\n"
     ]
    }
   ],
   "source": [
    "mo_df = trandata\n",
    "\n",
    "%store mo_df\n"
   ]
  }
 ],
 "metadata": {
  "celltoolbar": "Tags",
  "kernelspec": {
   "display_name": "Python 3",
   "language": "python",
   "name": "python3"
  },
  "language_info": {
   "codemirror_mode": {
    "name": "ipython",
    "version": 3
   },
   "file_extension": ".py",
   "mimetype": "text/x-python",
   "name": "python",
   "nbconvert_exporter": "python",
   "pygments_lexer": "ipython3",
   "version": "3.7.6"
  },
  "papermill": {
   "default_parameters": {},
   "duration": 59.6555,
   "end_time": "2021-05-26T15:13:07.762657",
   "environment_variables": {},
   "exception": null,
   "input_path": "pipeline/make_output.ipynb",
   "output_path": "//hecate/Insurance_US/Product Development/Product Management/Global PPM/Reporting/Data Collection/Pipeline Reporting Scripts/GPMpipeline/instances/2021.Q1\\pipeline\\make_output05262021110640--Aus Problem.ipynb",
   "parameters": {
    "commit_message": "New AUS needed to be converted from json",
    "inst_datetime": "05262021110640",
    "percode": "2021.Q1",
    "run_control": 1
   },
   "start_time": "2021-05-26T15:12:08.107157",
   "version": "2.3.3"
  }
 },
 "nbformat": 4,
 "nbformat_minor": 5
}