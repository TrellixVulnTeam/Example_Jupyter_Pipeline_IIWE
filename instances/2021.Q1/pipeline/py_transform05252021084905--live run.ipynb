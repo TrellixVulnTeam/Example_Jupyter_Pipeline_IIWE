{
 "cells": [
  {
   "cell_type": "markdown",
   "id": "e3a06b43",
   "metadata": {
    "papermill": {
     "duration": 0.266917,
     "end_time": "2021-05-25T12:51:17.793975",
     "exception": false,
     "start_time": "2021-05-25T12:51:17.527058",
     "status": "completed"
    },
    "pycharm": {
     "name": "#%% md\n"
    },
    "tags": []
   },
   "source": [
    "<img src=\"../images/AzPTravel_PPM.png\">"
   ]
  },
  {
   "cell_type": "markdown",
   "id": "f41957f6",
   "metadata": {
    "collapsed": true,
    "papermill": {
     "duration": 0.242497,
     "end_time": "2021-05-25T12:51:18.281851",
     "exception": false,
     "start_time": "2021-05-25T12:51:18.039354",
     "status": "completed"
    },
    "pycharm": {
     "name": "#%% md\n"
    },
    "tags": []
   },
   "source": [
    "## GPM Data Transformation Script\n",
    "\n",
    "#### This script transforms the single consolidated raw file \"{Data Collection}.csv\" into it's final GPM input versions \"{Data Collection Code}localcur.csv\" and \"{Data Collection Code}euroconv.csv\"\n",
    "#### Current transformations\n",
    "\n",
    "-    make headers lowercase and replace spaces with hyphens\n",
    "-    Remove any rows with null BUs\n",
    "-    validate columns in validcols\n",
    "-    output documented here: \"Global_Attribute_Catalog.xlsx\" you can also edit dataframe entries using the instructions in the file\n",
    "-    replace various null or placeholder values with \"Not Provided\"\n"
   ]
  },
  {
   "cell_type": "markdown",
   "id": "3300815d",
   "metadata": {
    "papermill": {
     "duration": 0.255899,
     "end_time": "2021-05-25T12:51:18.786265",
     "exception": false,
     "start_time": "2021-05-25T12:51:18.530366",
     "status": "completed"
    },
    "tags": []
   },
   "source": [
    "###"
   ]
  },
  {
   "cell_type": "code",
   "execution_count": 1,
   "id": "feca0663",
   "metadata": {
    "execution": {
     "iopub.execute_input": "2021-05-25T12:51:19.289220Z",
     "iopub.status.busy": "2021-05-25T12:51:19.283219Z",
     "iopub.status.idle": "2021-05-25T12:51:19.293222Z",
     "shell.execute_reply": "2021-05-25T12:51:19.297221Z"
    },
    "papermill": {
     "duration": 0.264966,
     "end_time": "2021-05-25T12:51:19.298222",
     "exception": false,
     "start_time": "2021-05-25T12:51:19.033256",
     "status": "completed"
    },
    "pycharm": {
     "name": "#%%\n"
    },
    "tags": [
     "parameters"
    ]
   },
   "outputs": [],
   "source": [
    "commit = \"\"\n",
    "# give a reason for the run\n",
    "\n",
    "percode = \"20XX.QX\"\n",
    "# Data Collection Code, this controls file paths and output names\n",
    "\n",
    "run_type = 1\n",
    "#run_type =  0 - lite run with no reporting, not recommended.\n",
    "#run_type =  1 - lite run with normal reporting, default setting.\n",
    "#run_type =  2 - Heavy run with full reporting, available for audits and troubleshooting.\n",
    "\n",
    "specialchars = \"-GTHtest\"\n",
    "# optional - add up to a 12 character code in order to mark your instance record .ipynb\n",
    "\n",
    "from datetime import datetime\n",
    "\n",
    "inst_datetime = datetime.now().strftime(\"%m%d%Y%H%M%S\")\n",
    "# a single datetime stamp for the full instance run\n"
   ]
  },
  {
   "cell_type": "code",
   "execution_count": 2,
   "id": "73ddcb86",
   "metadata": {
    "execution": {
     "iopub.execute_input": "2021-05-25T12:51:19.805225Z",
     "iopub.status.busy": "2021-05-25T12:51:19.804227Z",
     "iopub.status.idle": "2021-05-25T12:51:19.810226Z",
     "shell.execute_reply": "2021-05-25T12:51:19.811226Z"
    },
    "papermill": {
     "duration": 0.239982,
     "end_time": "2021-05-25T12:51:19.811226",
     "exception": false,
     "start_time": "2021-05-25T12:51:19.571244",
     "status": "completed"
    },
    "tags": [
     "injected-parameters"
    ]
   },
   "outputs": [],
   "source": [
    "# Parameters\n",
    "run_control = 1\n",
    "percode = \"2021.Q1\"\n",
    "commit_message = \"Edited data for Austraila, json 2 parquet and add comments from email. Begin general evaluation of data submissions.\"\n",
    "inst_datetime = \"05252021084905\"\n"
   ]
  },
  {
   "cell_type": "markdown",
   "id": "e69f47a9",
   "metadata": {
    "papermill": {
     "duration": 0.251828,
     "end_time": "2021-05-25T12:51:20.306618",
     "exception": false,
     "start_time": "2021-05-25T12:51:20.054790",
     "status": "completed"
    },
    "tags": []
   },
   "source": [
    "### Set Run Control\n",
    "\n",
    "##### 0 - lite run with no reporting, not recommended.\n",
    "##### 1 - lite run with normal reporting, default setting.\n",
    "##### 2 - Heavy run with full reporting, available for audits and troubleshooting."
   ]
  },
  {
   "cell_type": "code",
   "execution_count": 3,
   "id": "72308349",
   "metadata": {
    "execution": {
     "iopub.execute_input": "2021-05-25T12:51:20.803163Z",
     "iopub.status.busy": "2021-05-25T12:51:20.799635Z",
     "iopub.status.idle": "2021-05-25T12:51:20.809171Z",
     "shell.execute_reply": "2021-05-25T12:51:20.810165Z"
    },
    "papermill": {
     "duration": 0.267557,
     "end_time": "2021-05-25T12:51:20.810165",
     "exception": false,
     "start_time": "2021-05-25T12:51:20.542608",
     "status": "completed"
    },
    "pycharm": {
     "name": "#%%\n"
    },
    "tags": []
   },
   "outputs": [],
   "source": [
    "run_control = 0  # in development mode"
   ]
  },
  {
   "cell_type": "code",
   "execution_count": 4,
   "id": "a8760dc5",
   "metadata": {
    "execution": {
     "iopub.execute_input": "2021-05-25T12:51:21.336464Z",
     "iopub.status.busy": "2021-05-25T12:51:21.333473Z",
     "iopub.status.idle": "2021-05-25T12:51:23.644231Z",
     "shell.execute_reply": "2021-05-25T12:51:23.645228Z"
    },
    "papermill": {
     "duration": 2.600016,
     "end_time": "2021-05-25T12:51:23.646229",
     "exception": false,
     "start_time": "2021-05-25T12:51:21.046213",
     "status": "completed"
    },
    "pycharm": {
     "name": "#%%\n"
    },
    "tags": []
   },
   "outputs": [],
   "source": [
    "#### Packages used\n",
    "import sys\n",
    "import os\n",
    "import pandas as pd\n",
    "from pandas import ExcelWriter\n",
    "from numpy import nan"
   ]
  },
  {
   "cell_type": "code",
   "execution_count": 5,
   "id": "d2f74c80",
   "metadata": {
    "execution": {
     "iopub.execute_input": "2021-05-25T12:51:24.154724Z",
     "iopub.status.busy": "2021-05-25T12:51:24.148724Z",
     "iopub.status.idle": "2021-05-25T12:51:24.161729Z",
     "shell.execute_reply": "2021-05-25T12:51:24.162723Z"
    },
    "papermill": {
     "duration": 0.275515,
     "end_time": "2021-05-25T12:51:24.163732",
     "exception": false,
     "start_time": "2021-05-25T12:51:23.888217",
     "status": "completed"
    },
    "pycharm": {
     "name": "#%%\n"
    },
    "tags": []
   },
   "outputs": [],
   "source": [
    "default_dc = \"2021.Q1\"\n",
    "\n",
    "try:\n",
    "    if sys.argv[1] == \"-f\":\n",
    "        percode = default_dc\n",
    "    else:\n",
    "        percode = sys.argv[1]\n",
    "\n",
    "except IndexError:\n",
    "    percode = default_dc\n",
    "except NameError:\n",
    "    percode = default_dc"
   ]
  },
  {
   "cell_type": "markdown",
   "id": "942d32d8",
   "metadata": {
    "papermill": {
     "duration": 0.256838,
     "end_time": "2021-05-25T12:51:24.695550",
     "exception": false,
     "start_time": "2021-05-25T12:51:24.438712",
     "status": "completed"
    },
    "tags": []
   },
   "source": [
    "#### style settings"
   ]
  },
  {
   "cell_type": "code",
   "execution_count": 6,
   "id": "c168cd85",
   "metadata": {
    "execution": {
     "iopub.execute_input": "2021-05-25T12:51:25.240051Z",
     "iopub.status.busy": "2021-05-25T12:51:25.237048Z",
     "iopub.status.idle": "2021-05-25T12:51:25.246046Z",
     "shell.execute_reply": "2021-05-25T12:51:25.247046Z"
    },
    "papermill": {
     "duration": 0.285985,
     "end_time": "2021-05-25T12:51:25.248046",
     "exception": false,
     "start_time": "2021-05-25T12:51:24.962061",
     "status": "completed"
    },
    "tags": []
   },
   "outputs": [],
   "source": [
    "from IPython.core.interactiveshell import InteractiveShell\n",
    "InteractiveShell.ast_node_interactivity = \"all\""
   ]
  },
  {
   "cell_type": "markdown",
   "id": "50192431",
   "metadata": {
    "papermill": {
     "duration": 0.25113,
     "end_time": "2021-05-25T12:51:25.745213",
     "exception": false,
     "start_time": "2021-05-25T12:51:25.494083",
     "status": "completed"
    },
    "tags": []
   },
   "source": [
    "#### Convert paths and files to variables.\n",
    "#### Read data into pd DataFrames.\n",
    "#### Make paths for the live sources."
   ]
  },
  {
   "cell_type": "code",
   "execution_count": 7,
   "id": "171caa8d",
   "metadata": {
    "execution": {
     "iopub.execute_input": "2021-05-25T12:51:26.306861Z",
     "iopub.status.busy": "2021-05-25T12:51:26.301765Z",
     "iopub.status.idle": "2021-05-25T12:51:26.311765Z",
     "shell.execute_reply": "2021-05-25T12:51:26.313765Z"
    },
    "papermill": {
     "duration": 0.282989,
     "end_time": "2021-05-25T12:51:26.313765",
     "exception": false,
     "start_time": "2021-05-25T12:51:26.030776",
     "status": "completed"
    },
    "pycharm": {
     "name": "#%%\n"
    },
    "tags": []
   },
   "outputs": [],
   "source": [
    "rt_path = f'//hecate/Insurance_US/Product Development/Product Management/Global PPM/Reporting/Data Collection/Production/{str(percode)}'\n",
    "\n",
    "infile = os.path.join(rt_path, f'{str(percode)}.parquet')\n",
    "gppm_file = os.path.join(rt_path, f'GPPM_Input_{str(percode)}.xlsx')\n",
    "atcat = f'//hecate/Insurance_US/Product Development/Product Management/Global PPM/Reporting/Data Collection/Production/{str(percode)}\\\\{str(percode)}_Attribute_Catalog.xlsx'\n"
   ]
  },
  {
   "cell_type": "code",
   "execution_count": 8,
   "id": "5bc24379",
   "metadata": {
    "execution": {
     "iopub.execute_input": "2021-05-25T12:51:26.845845Z",
     "iopub.status.busy": "2021-05-25T12:51:26.843842Z",
     "iopub.status.idle": "2021-05-25T12:51:26.850845Z",
     "shell.execute_reply": "2021-05-25T12:51:26.852850Z"
    },
    "papermill": {
     "duration": 0.296097,
     "end_time": "2021-05-25T12:51:26.852850",
     "exception": false,
     "start_time": "2021-05-25T12:51:26.556753",
     "status": "completed"
    },
    "tags": []
   },
   "outputs": [],
   "source": [
    "#### Read input file\n",
    "\n",
    "#### This reads the consolidated file that will be transformed or a stored dataframe based on the execution method."
   ]
  },
  {
   "cell_type": "code",
   "execution_count": 9,
   "id": "403db394",
   "metadata": {
    "execution": {
     "iopub.execute_input": "2021-05-25T12:51:27.350938Z",
     "iopub.status.busy": "2021-05-25T12:51:27.348938Z",
     "iopub.status.idle": "2021-05-25T12:51:27.432274Z",
     "shell.execute_reply": "2021-05-25T12:51:27.434275Z"
    },
    "papermill": {
     "duration": 0.341849,
     "end_time": "2021-05-25T12:51:27.434275",
     "exception": false,
     "start_time": "2021-05-25T12:51:27.092426",
     "status": "completed"
    },
    "pycharm": {
     "name": "#%%\n"
    },
    "tags": []
   },
   "outputs": [
    {
     "name": "stdout",
     "output_type": "stream",
     "text": [
      "                       Submission File Business Unit Country Currency  \\\n",
      "0     us_dat_au_02172021174434.parquet            AU      AU      AUD   \n",
      "1     us_dat_au_02172021174434.parquet            AU      AU      AUD   \n",
      "2     us_dat_au_02172021174434.parquet            AU      AU      AUD   \n",
      "3     us_dat_au_02172021174434.parquet            AU      AU      AUD   \n",
      "4     us_dat_au_02172021174434.parquet            AU      AU      AUD   \n",
      "...                                ...           ...     ...      ...   \n",
      "3466  us_dat_pt_05202021121056.parquet            PT      PT      EUR   \n",
      "3467  us_dat_pt_05202021121056.parquet            PT      PT      EUR   \n",
      "3468  us_dat_pt_05202021121056.parquet            PT      PT      EUR   \n",
      "3469  us_dat_pt_05202021121056.parquet            PT      PT      EUR   \n",
      "3470  us_dat_pt_05202021121056.parquet            PT      PT      EUR   \n",
      "\n",
      "                           Region Reporting Date From Reporting Date To  \\\n",
      "0                            APAC          2020-01-01        2020-12-31   \n",
      "1                            APAC          2020-01-01        2020-12-31   \n",
      "2                            APAC          2020-01-01        2020-12-31   \n",
      "3                            APAC          2020-01-01        2020-12-31   \n",
      "4                            APAC          2020-01-01        2020-12-31   \n",
      "...                           ...                 ...               ...   \n",
      "3466  Western Europe, LATAM & MEA          2021-01-01        2021-03-31   \n",
      "3467  Western Europe, LATAM & MEA          2021-01-01        2021-03-31   \n",
      "3468  Western Europe, LATAM & MEA          2021-01-01        2021-03-31   \n",
      "3469  Western Europe, LATAM & MEA          2021-01-01        2021-03-31   \n",
      "3470  Western Europe, LATAM & MEA          2021-01-01        2021-03-31   \n",
      "\n",
      "     Date of Analysis         Type of Analysis  Analysed Months  ...  concat2  \\\n",
      "0          2021-02-08  Most Recently 12 Months             12.0  ...    AUAUD   \n",
      "1          2021-02-08  Most Recently 12 Months             12.0  ...    AUAUD   \n",
      "2          2021-02-08  Most Recently 12 Months             12.0  ...    AUAUD   \n",
      "3          2021-02-08  Most Recently 12 Months             12.0  ...    AUAUD   \n",
      "4          2021-02-08  Most Recently 12 Months             12.0  ...    AUAUD   \n",
      "...               ...                      ...              ...  ...      ...   \n",
      "3466       2021-03-31             Year To Date              3.0  ...    PTEUR   \n",
      "3467       2021-03-31             Year To Date              3.0  ...    PTEUR   \n",
      "3468       2021-03-31             Year To Date              3.0  ...    PTEUR   \n",
      "3469       2021-03-31             Year To Date              3.0  ...    PTEUR   \n",
      "3470       2021-03-31             Year To Date              3.0  ...    PTEUR   \n",
      "\n",
      "        comsub     expsub Reporting Date From INT Reporting Date To INT  \\\n",
      "0     0.074481   0.591379                20200101              20201231   \n",
      "1     0.361526   0.622344                20200101              20201231   \n",
      "2     0.143009   0.495955                20200101              20201231   \n",
      "3     0.196379   0.351713                20200101              20201231   \n",
      "4     0.403473   0.493019                20200101              20201231   \n",
      "...        ...        ...                     ...                   ...   \n",
      "3466  0.000000   0.538397                20210101              20210331   \n",
      "3467  0.000000   0.426832                20210101              20210331   \n",
      "3468  0.000000  18.673326                20210101              20210331   \n",
      "3469  0.000000   0.859278                20210101              20210331   \n",
      "3470  0.000000   1.023709                20210101              20210331   \n",
      "\n",
      "     Date of Analysis INT                     Selected Fields for Duplicates  \\\n",
      "0                20210208  AUInsuranceLocalB2B2CTravelAllianz Affiliation...   \n",
      "1                20210208  AUInsuranceLocalB2B2CTravelOffline Travel Agen...   \n",
      "2                20210208  AUInsuranceLocalB2B2CTravelOffline Travel Agen...   \n",
      "3                20210208  AUInsuranceLocalB2B2CTravelAllianz Affiliation...   \n",
      "4                20210208  AUInsuranceLocalB2B2CTravelCarriers - Airlines...   \n",
      "...                   ...                                                ...   \n",
      "3466             20210331  PTReinsuranceLocalB2B2CTravelDirect (Allianz P...   \n",
      "3467             20210331  PTReinsuranceLocalB2B2CTravelDirect (Allianz P...   \n",
      "3468             20210331  PTReinsuranceLocalB2B2CTravelDirect (Allianz P...   \n",
      "3469             20210331  PTReinsuranceLocalB2B2CTravelDirect (Allianz P...   \n",
      "3470             20210331  PTReinsuranceLocalB2BTravelDirect (Allianz Par...   \n",
      "\n",
      "     % of IBNR on (OCR + IBNR) Unnamed: 66 ibnrsub  \n",
      "0                          0.0         NaN     NaN  \n",
      "1                          0.0         NaN     NaN  \n",
      "2                          0.0         NaN     NaN  \n",
      "3                          0.0         NaN     NaN  \n",
      "4                          0.0         NaN     NaN  \n",
      "...                        ...         ...     ...  \n",
      "3466                       0.0         0.0     0.0  \n",
      "3467                       0.0         0.0     0.0  \n",
      "3468                       0.0         0.0     0.0  \n",
      "3469                       0.0         0.0     0.0  \n",
      "3470                       0.0         0.0     0.0  \n",
      "\n",
      "[3471 rows x 77 columns]\n"
     ]
    }
   ],
   "source": [
    "try:\n",
    "    %store -r read_dc_df\n",
    "    input = read_dc_df\n",
    "        \n",
    "except:\n",
    "    input = pd.read_parquet(infile,engine = \"pyarrow\")\n",
    "    os.remove(infile)\n",
    "\n",
    "print(input)"
   ]
  },
  {
   "cell_type": "markdown",
   "id": "73a434f4",
   "metadata": {
    "papermill": {
     "duration": 0.266837,
     "end_time": "2021-05-25T12:51:27.961998",
     "exception": false,
     "start_time": "2021-05-25T12:51:27.695161",
     "status": "completed"
    },
    "tags": []
   },
   "source": [
    "#### Make a copy for debug purposes"
   ]
  },
  {
   "cell_type": "code",
   "execution_count": 10,
   "id": "b523343d",
   "metadata": {
    "execution": {
     "iopub.execute_input": "2021-05-25T12:51:28.495393Z",
     "iopub.status.busy": "2021-05-25T12:51:28.493382Z",
     "iopub.status.idle": "2021-05-25T12:51:28.503911Z",
     "shell.execute_reply": "2021-05-25T12:51:28.504910Z"
    },
    "papermill": {
     "duration": 0.26735,
     "end_time": "2021-05-25T12:51:28.504910",
     "exception": false,
     "start_time": "2021-05-25T12:51:28.237560",
     "status": "completed"
    },
    "pycharm": {
     "name": "#%%\n"
    },
    "tags": []
   },
   "outputs": [],
   "source": [
    "trandata = input.copy()"
   ]
  },
  {
   "cell_type": "markdown",
   "id": "43bf0ef2",
   "metadata": {
    "papermill": {
     "duration": 0.261991,
     "end_time": "2021-05-25T12:51:29.027888",
     "exception": false,
     "start_time": "2021-05-25T12:51:28.765897",
     "status": "completed"
    },
    "tags": []
   },
   "source": [
    "#### Format Headers"
   ]
  },
  {
   "cell_type": "code",
   "execution_count": 11,
   "id": "e03fe931",
   "metadata": {
    "execution": {
     "iopub.execute_input": "2021-05-25T12:51:29.536800Z",
     "iopub.status.busy": "2021-05-25T12:51:29.518273Z",
     "iopub.status.idle": "2021-05-25T12:51:29.545796Z",
     "shell.execute_reply": "2021-05-25T12:51:29.546794Z"
    },
    "papermill": {
     "duration": 0.282822,
     "end_time": "2021-05-25T12:51:29.547799",
     "exception": false,
     "start_time": "2021-05-25T12:51:29.264977",
     "status": "completed"
    },
    "pycharm": {
     "name": "#%%\n"
    },
    "tags": []
   },
   "outputs": [
    {
     "data": {
      "text/plain": [
       "'format headers'"
      ]
     },
     "execution_count": 11,
     "metadata": {},
     "output_type": "execute_result"
    }
   ],
   "source": [
    "# save the column names to variable, format them, replace headers\n",
    "cols = trandata.columns.values\n",
    "\n",
    "\"\"\"format headers\"\"\"\n",
    "fixedcols = []\n",
    "\n",
    "for f in cols:\n",
    "    fixedhead = f.replace(' ', '_').lower()\n",
    "    fixedcols.append(fixedhead)\n",
    "\n",
    "trandata.columns = fixedcols"
   ]
  },
  {
   "cell_type": "markdown",
   "id": "385a764e",
   "metadata": {
    "papermill": {
     "duration": 0.246981,
     "end_time": "2021-05-25T12:51:30.047955",
     "exception": false,
     "start_time": "2021-05-25T12:51:29.800974",
     "status": "completed"
    },
    "pycharm": {
     "name": "#%% md\n"
    },
    "tags": []
   },
   "source": [
    "#### Update Verification 1"
   ]
  },
  {
   "cell_type": "code",
   "execution_count": 12,
   "id": "94e7ac1f",
   "metadata": {
    "execution": {
     "iopub.execute_input": "2021-05-25T12:51:30.562106Z",
     "iopub.status.busy": "2021-05-25T12:51:30.556101Z",
     "iopub.status.idle": "2021-05-25T12:51:30.765746Z",
     "shell.execute_reply": "2021-05-25T12:51:30.766745Z"
    },
    "papermill": {
     "duration": 0.474218,
     "end_time": "2021-05-25T12:51:30.767745",
     "exception": false,
     "start_time": "2021-05-25T12:51:30.293527",
     "status": "completed"
    },
    "pycharm": {
     "name": "#%%\n"
    },
    "tags": []
   },
   "outputs": [
    {
     "name": "stdout",
     "output_type": "stream",
     "text": [
      "|    | Original                                                        | Transformed                                                     |\n",
      "|---:|:----------------------------------------------------------------|:----------------------------------------------------------------|\n",
      "|  0 | Submission File                                                 | submission_file                                                 |\n",
      "|  1 | Business Unit                                                   | business_unit                                                   |\n",
      "|  2 | Country                                                         | country                                                         |\n",
      "|  3 | Currency                                                        | currency                                                        |\n",
      "|  4 | Region                                                          | region                                                          |\n",
      "|  5 | Reporting Date From                                             | reporting_date_from                                             |\n",
      "|  6 | Reporting Date To                                               | reporting_date_to                                               |\n",
      "|  7 | Date of Analysis                                                | date_of_analysis                                                |\n",
      "|  8 | Type of Analysis                                                | type_of_analysis                                                |\n",
      "|  9 | Analysed Months                                                 | analysed_months                                                 |\n",
      "| 10 | Reporting Year                                                  | reporting_year                                                  |\n",
      "| 11 | Reporting Quarter                                               | reporting_quarter                                               |\n",
      "| 12 | Reporting Month                                                 | reporting_month                                                 |\n",
      "| 13 | Type of Business                                                | type_of_business                                                |\n",
      "| 14 | Type of Account                                                 | type_of_account                                                 |\n",
      "| 15 | Distribution Type                                               | distribution_type                                               |\n",
      "| 16 | LOB                                                             | lob                                                             |\n",
      "| 17 | Distribution Channel                                            | distribution_channel                                            |\n",
      "| 18 | Sub LOB                                                         | sub_lob                                                         |\n",
      "| 19 | Business Partner Name                                           | business_partner_name                                           |\n",
      "| 20 | Business Partner ID Number                                      | business_partner_id_number                                      |\n",
      "| 21 | Product Name                                                    | product_name                                                    |\n",
      "| 22 | Product ID Number                                               | product_id_number                                               |\n",
      "| 23 | Product Family                                                  | product_family                                                  |\n",
      "| 24 | Standard Product                                                | standard_product                                                |\n",
      "| 25 | Number of Products per Row                                      | number_of_products_per_row                                      |\n",
      "| 26 | Number of B-Partners per Row                                    | number_of_b-partners_per_row                                    |\n",
      "| 27 | Number of Policies (Written)                                    | number_of_policies_(written)                                    |\n",
      "| 28 | Units of Risk (Written)                                         | units_of_risk_(written)                                         |\n",
      "| 29 | Written Revenues net of Taxes                                   | written_revenues_net_of_taxes                                   |\n",
      "| 30 | Written Revenues                                                | written_revenues                                                |\n",
      "| 31 | Number of Policies (Earned)                                     | number_of_policies_(earned)                                     |\n",
      "| 32 | Units of Risk (Earned)                                          | units_of_risk_(earned)                                          |\n",
      "| 33 | Earned Revenues net of Taxes                                    | earned_revenues_net_of_taxes                                    |\n",
      "| 34 | Earned Revenues                                                 | earned_revenues                                                 |\n",
      "| 35 | Earned Base Commissions                                         | earned_base_commissions                                         |\n",
      "| 36 | Earned Over-Commissions                                         | earned_over-commissions                                         |\n",
      "| 37 | Upfront Cash Payments                                           | upfront_cash_payments                                           |\n",
      "| 38 | Total Compensation                                              | total_compensation                                              |\n",
      "| 39 | Number of Claims (Paid + OCR + IBNR)                            | number_of_claims_(paid_+_ocr_+_ibnr)                            |\n",
      "| 40 | Number of Open Claims                                           | number_of_open_claims                                           |\n",
      "| 41 | Open Claims %                                                   | open_claims_%                                                   |\n",
      "| 42 | Number of Persons Involved in Claims (Paid + OCR + IBNR)        | number_of_persons_involved_in_claims_(paid_+_ocr_+_ibnr)        |\n",
      "| 43 | Paid Claims                                                     | paid_claims                                                     |\n",
      "| 44 | OCR + IBNR                                                      | ocr_+_ibnr                                                      |\n",
      "| 45 | Actual Incurred Losses (Paid + OCR + IBNR)                      | actual_incurred_losses_(paid_+_ocr_+_ibnr)                      |\n",
      "| 46 | Internal Variable Costs (excl. AZ Tech Fee)                     | internal_variable_costs_(excl._az_tech_fee)                     |\n",
      "| 47 | AZ Tech Fee                                                     | az_tech_fee                                                     |\n",
      "| 48 | Internal Fixed Costs (excl. HQ Fees)                            | internal_fixed_costs_(excl._hq_fees)                            |\n",
      "| 49 | HQ Fees                                                         | hq_fees                                                         |\n",
      "| 50 | Total Expenses                                                  | total_expenses                                                  |\n",
      "| 51 | Frequency (Earned)                                              | frequency_(earned)                                              |\n",
      "| 52 | Severity                                                        | severity                                                        |\n",
      "| 53 | Risk Premium                                                    | risk_premium                                                    |\n",
      "| 54 | Contribution Margin - BU View                                   | contribution_margin_-_bu_view                                   |\n",
      "| 55 | Contribution Margin % on Fixed Costs - BU View                  | contribution_margin_%_on_fixed_costs_-_bu_view                  |\n",
      "| 56 | Contribution Margin % on Earned Revenues net of Taxes - BU View | contribution_margin_%_on_earned_revenues_net_of_taxes_-_bu_view |\n",
      "| 57 | Contribution Margin - HQ View                                   | contribution_margin_-_hq_view                                   |\n",
      "| 58 | Contribution Margin % on Fixed Costs - HQ View                  | contribution_margin_%_on_fixed_costs_-_hq_view                  |\n",
      "| 59 | Contribution Margin % on Earned Revenues net of Taxes - HQ View | contribution_margin_%_on_earned_revenues_net_of_taxes_-_hq_view |\n",
      "| 60 | Loss Ratio                                                      | loss_ratio                                                      |\n",
      "| 61 | Commission Ratio                                                | commission_ratio                                                |\n",
      "| 62 | Expense Ratio                                                   | expense_ratio                                                   |\n",
      "| 63 | Combined Ratio                                                  | combined_ratio                                                  |\n",
      "| 64 | Profit or Loss                                                  | profit_or_loss                                                  |\n",
      "| 65 | Notes                                                           | notes                                                           |\n",
      "| 66 | Unnamed: 65                                                     | unnamed:_65                                                     |\n",
      "| 67 | concat2                                                         | concat2                                                         |\n",
      "| 68 | comsub                                                          | comsub                                                          |\n",
      "| 69 | expsub                                                          | expsub                                                          |\n",
      "| 70 | Reporting Date From INT                                         | reporting_date_from_int                                         |\n",
      "| 71 | Reporting Date To INT                                           | reporting_date_to_int                                           |\n",
      "| 72 | Date of Analysis INT                                            | date_of_analysis_int                                            |\n",
      "| 73 | Selected Fields for Duplicates                                  | selected_fields_for_duplicates                                  |\n",
      "| 74 | % of IBNR on (OCR + IBNR)                                       | %_of_ibnr_on_(ocr_+_ibnr)                                       |\n",
      "| 75 | Unnamed: 66                                                     | unnamed:_66                                                     |\n",
      "| 76 | ibnrsub                                                         | ibnrsub                                                         |\n"
     ]
    }
   ],
   "source": [
    "if run_control > -10:\n",
    "    disp = {\"Original\": input.columns, \"Transformed\": trandata.columns}\n",
    "\n",
    "    disp = pd.DataFrame(disp)\n",
    "\n",
    "    print(disp.to_markdown())\n",
    "else:\n",
    "    print(\"Skipped Transformation Report 1\")"
   ]
  },
  {
   "cell_type": "markdown",
   "id": "cd1ece20",
   "metadata": {
    "papermill": {
     "duration": 0.261033,
     "end_time": "2021-05-25T12:51:31.291292",
     "exception": false,
     "start_time": "2021-05-25T12:51:31.030259",
     "status": "completed"
    },
    "tags": []
   },
   "source": [
    "#### Remove rows with null business units\n"
   ]
  },
  {
   "cell_type": "code",
   "execution_count": 13,
   "id": "1ad38ecc",
   "metadata": {
    "execution": {
     "iopub.execute_input": "2021-05-25T12:51:31.808403Z",
     "iopub.status.busy": "2021-05-25T12:51:31.807402Z",
     "iopub.status.idle": "2021-05-25T12:51:31.823406Z",
     "shell.execute_reply": "2021-05-25T12:51:31.822406Z"
    },
    "papermill": {
     "duration": 0.286813,
     "end_time": "2021-05-25T12:51:31.824406",
     "exception": false,
     "start_time": "2021-05-25T12:51:31.537593",
     "status": "completed"
    },
    "pycharm": {
     "name": "#%%\n"
    },
    "tags": []
   },
   "outputs": [],
   "source": [
    "# todo, remove this from read file\n",
    "trandata = trandata[trandata.business_unit.notnull()]"
   ]
  },
  {
   "cell_type": "markdown",
   "id": "5381e0fd",
   "metadata": {
    "papermill": {
     "duration": 0.264265,
     "end_time": "2021-05-25T12:51:32.354570",
     "exception": false,
     "start_time": "2021-05-25T12:51:32.090305",
     "status": "completed"
    },
    "tags": []
   },
   "source": [
    "#### Update Verification 2"
   ]
  },
  {
   "cell_type": "code",
   "execution_count": 14,
   "id": "47be19a5",
   "metadata": {
    "execution": {
     "iopub.execute_input": "2021-05-25T12:51:32.942119Z",
     "iopub.status.busy": "2021-05-25T12:51:32.925120Z",
     "iopub.status.idle": "2021-05-25T12:51:33.002633Z",
     "shell.execute_reply": "2021-05-25T12:51:33.001638Z"
    },
    "papermill": {
     "duration": 0.369355,
     "end_time": "2021-05-25T12:51:33.002633",
     "exception": false,
     "start_time": "2021-05-25T12:51:32.633278",
     "status": "completed"
    },
    "pycharm": {
     "name": "#%%\n"
    },
    "tags": []
   },
   "outputs": [
    {
     "name": "stdout",
     "output_type": "stream",
     "text": [
      "Row Counts\n",
      "|    | Business Unit   |   Original |   Transformed |\n",
      "|---:|:----------------|-----------:|--------------:|\n",
      "|  0 | AU              |         85 |            85 |\n",
      "|  1 | CA              |         17 |            17 |\n",
      "|  2 | CH              |       3187 |          3187 |\n",
      "|  3 | ES              |         28 |            28 |\n",
      "|  4 | GR              |         15 |            15 |\n",
      "|  5 | IT              |        100 |           100 |\n",
      "|  6 | PT              |         39 |            39 |\n"
     ]
    }
   ],
   "source": [
    "if run_control > -10:\n",
    "\n",
    "    ibus = input.groupby(['Business Unit']).count()\n",
    "    ibus = ibus.reset_index()\n",
    "    tbus = trandata.groupby(['business_unit']).count()\n",
    "    tbus = tbus.reset_index()\n",
    "\n",
    "    compdata = pd.merge(ibus, tbus, left_on='Business Unit', right_on='business_unit', how='left')\n",
    "\n",
    "    disp = {\"Business Unit\": compdata['Business Unit'], \"Original\": compdata['Earned Revenues net of Taxes'],\n",
    "            \"Transformed\": compdata['earned_revenues_net_of_taxes']}\n",
    "\n",
    "    disp = pd.DataFrame(disp)\n",
    "\n",
    "    print(\"Row Counts\")\n",
    "    print(disp.to_markdown())\n",
    "    \n",
    "else:\n",
    "    \n",
    "    print(\"Skipped Transformation Report 2\")\n"
   ]
  },
  {
   "cell_type": "markdown",
   "id": "2d0b5a22",
   "metadata": {
    "papermill": {
     "duration": 0.249623,
     "end_time": "2021-05-25T12:51:33.522290",
     "exception": false,
     "start_time": "2021-05-25T12:51:33.272667",
     "status": "completed"
    },
    "tags": []
   },
   "source": [
    "#### Swap  nulls for \"Not Provided\" in 'Sub Lob' and 'Distribution Channel'"
   ]
  },
  {
   "cell_type": "code",
   "execution_count": 15,
   "id": "53ea4632",
   "metadata": {
    "execution": {
     "iopub.execute_input": "2021-05-25T12:51:34.073569Z",
     "iopub.status.busy": "2021-05-25T12:51:34.056577Z",
     "iopub.status.idle": "2021-05-25T12:51:34.080574Z",
     "shell.execute_reply": "2021-05-25T12:51:34.081568Z"
    },
    "papermill": {
     "duration": 0.295497,
     "end_time": "2021-05-25T12:51:34.082568",
     "exception": false,
     "start_time": "2021-05-25T12:51:33.787071",
     "status": "completed"
    },
    "pycharm": {
     "name": "#%%\n"
    },
    "tags": []
   },
   "outputs": [],
   "source": [
    "mults = trandata['sub_lob'][trandata.sub_lob.replace(nan, 'Not Provided').str.contains(',', case=False)]\n",
    "mults = mults.unique()\n",
    "\n",
    "trandata['sub_lob'] = trandata['sub_lob'].fillna('Not Provided')\n",
    "trandata['sub_lob'] = trandata['sub_lob'].replace('', 'Not Provided')\n",
    "trandata['distribution_channel'] = trandata['distribution_channel'].replace('', 'Not Provided').fillna('Not Provided')"
   ]
  },
  {
   "cell_type": "markdown",
   "id": "71e3a0ab",
   "metadata": {
    "papermill": {
     "duration": 0.265926,
     "end_time": "2021-05-25T12:51:34.625486",
     "exception": false,
     "start_time": "2021-05-25T12:51:34.359560",
     "status": "completed"
    },
    "tags": []
   },
   "source": [
    "#### Replace multiple entries in \"Sub Lob\" to \"Multiple\""
   ]
  },
  {
   "cell_type": "code",
   "execution_count": 16,
   "id": "019a8b16",
   "metadata": {
    "execution": {
     "iopub.execute_input": "2021-05-25T12:51:35.184231Z",
     "iopub.status.busy": "2021-05-25T12:51:35.183232Z",
     "iopub.status.idle": "2021-05-25T12:51:35.188227Z",
     "shell.execute_reply": "2021-05-25T12:51:35.189227Z"
    },
    "papermill": {
     "duration": 0.29304,
     "end_time": "2021-05-25T12:51:35.190225",
     "exception": false,
     "start_time": "2021-05-25T12:51:34.897185",
     "status": "completed"
    },
    "pycharm": {
     "name": "#%%\n"
    },
    "tags": []
   },
   "outputs": [],
   "source": [
    "for i in mults:\n",
    "    trandata['sub_lob'] = trandata['sub_lob'].replace(i, 'Multiple')\n",
    "\n",
    "# todo automate figuring out which fields fx rates should be applied to somehow"
   ]
  },
  {
   "cell_type": "markdown",
   "id": "31c4a9d7",
   "metadata": {
    "papermill": {
     "duration": 0.261056,
     "end_time": "2021-05-25T12:51:35.713119",
     "exception": false,
     "start_time": "2021-05-25T12:51:35.452063",
     "status": "completed"
    },
    "tags": []
   },
   "source": [
    "#### Update Verification 3"
   ]
  },
  {
   "cell_type": "code",
   "execution_count": 17,
   "id": "6dceb8c4",
   "metadata": {
    "execution": {
     "iopub.execute_input": "2021-05-25T12:51:36.288718Z",
     "iopub.status.busy": "2021-05-25T12:51:36.269720Z",
     "iopub.status.idle": "2021-05-25T12:51:36.474237Z",
     "shell.execute_reply": "2021-05-25T12:51:36.476237Z"
    },
    "papermill": {
     "duration": 0.473626,
     "end_time": "2021-05-25T12:51:36.476237",
     "exception": false,
     "start_time": "2021-05-25T12:51:36.002611",
     "status": "completed"
    },
    "pycharm": {
     "name": "#%%\n"
    },
    "tags": []
   },
   "outputs": [],
   "source": [
    "if run_control > -10:\n",
    "\n",
    "    ibus = input.groupby(['Sub LOB']).sum()\n",
    "    ibus = ibus.reset_index()\n",
    "    tbus = trandata.groupby(['sub_lob']).sum()\n",
    "    tbus = tbus.reset_index()\n",
    "\n",
    "    compdatasublob = pd.merge(ibus, tbus, left_on='Sub LOB', right_on='sub_lob', how='outer')\n",
    "\n",
    "    disp1 = pd.DataFrame(\n",
    "        {'Original Sub LOB': compdatasublob['Sub LOB'], 'Transformed Sub LOB': compdatasublob['sub_lob'],\n",
    "         \"Original\": compdatasublob['Earned Revenues net of Taxes'] / 1000,\n",
    "         \"Transformed\": compdatasublob['earned_revenues_net_of_taxes'] / 1000})\n",
    "\n",
    "\n",
    "\n",
    "    tots1 = pd.DataFrame({'Original Total': (input['Earned Revenues net of Taxes']).sum() / 10000,\n",
    "                          \"Transformed Total\": (compdatasublob['earned_revenues_net_of_taxes']).sum() / 10000},\n",
    "                         index=[0])\n",
    "else:\n",
    "    print(\"Skipped Transformation Report 2\")"
   ]
  },
  {
   "cell_type": "markdown",
   "id": "65eda525",
   "metadata": {
    "papermill": {
     "duration": 0.250761,
     "end_time": "2021-05-25T12:51:37.014534",
     "exception": false,
     "start_time": "2021-05-25T12:51:36.763773",
     "status": "completed"
    },
    "tags": []
   },
   "source": [
    "#### Make cflds, a list of currency fields, force to float, coercion is null or string to 0"
   ]
  },
  {
   "cell_type": "code",
   "execution_count": 18,
   "id": "7f996a28",
   "metadata": {
    "execution": {
     "iopub.execute_input": "2021-05-25T12:51:37.543468Z",
     "iopub.status.busy": "2021-05-25T12:51:37.536475Z",
     "iopub.status.idle": "2021-05-25T12:51:37.715263Z",
     "shell.execute_reply": "2021-05-25T12:51:37.716266Z"
    },
    "papermill": {
     "duration": 0.454705,
     "end_time": "2021-05-25T12:51:37.717277",
     "exception": false,
     "start_time": "2021-05-25T12:51:37.262572",
     "status": "completed"
    },
    "pycharm": {
     "name": "#%%\n"
    },
    "tags": []
   },
   "outputs": [
    {
     "data": {
      "text/plain": [
       "0        1772.4400\n",
       "1       73384.9866\n",
       "2        4193.4300\n",
       "3         874.8900\n",
       "4        3388.4715\n",
       "           ...    \n",
       "3466     1509.1600\n",
       "3467     2164.1100\n",
       "3468      309.7200\n",
       "3469        0.0000\n",
       "3470     1260.0000\n",
       "Name: written_revenues_net_of_taxes, Length: 3471, dtype: float64"
      ]
     },
     "execution_count": 18,
     "metadata": {},
     "output_type": "execute_result"
    },
    {
     "data": {
      "text/plain": [
       "0          0.0000\n",
       "1          0.0000\n",
       "2          0.0000\n",
       "3          0.0000\n",
       "4          0.0000\n",
       "          ...    \n",
       "3466    1644.9844\n",
       "3467    2358.8799\n",
       "3468     337.5948\n",
       "3469       0.0000\n",
       "3470    1373.4000\n",
       "Name: written_revenues, Length: 3471, dtype: float64"
      ]
     },
     "execution_count": 18,
     "metadata": {},
     "output_type": "execute_result"
    },
    {
     "data": {
      "text/plain": [
       "0         5524.7718\n",
       "1       517217.3011\n",
       "2        12578.4759\n",
       "3          874.8900\n",
       "4        11928.4636\n",
       "           ...     \n",
       "3466      1576.8600\n",
       "3467      2085.8000\n",
       "3468        16.5700\n",
       "3469        68.0000\n",
       "3470      1260.0000\n",
       "Name: earned_revenues_net_of_taxes, Length: 3471, dtype: float64"
      ]
     },
     "execution_count": 18,
     "metadata": {},
     "output_type": "execute_result"
    },
    {
     "data": {
      "text/plain": [
       "0          0.0000\n",
       "1          0.0000\n",
       "2          0.0000\n",
       "3          0.0000\n",
       "4          0.0000\n",
       "          ...    \n",
       "3466    1718.7774\n",
       "3467    2273.5220\n",
       "3468      18.0613\n",
       "3469      74.1200\n",
       "3470    1373.4000\n",
       "Name: earned_revenues, Length: 3471, dtype: float64"
      ]
     },
     "execution_count": 18,
     "metadata": {},
     "output_type": "execute_result"
    },
    {
     "data": {
      "text/plain": [
       "0          411.4924\n",
       "1       186987.7598\n",
       "2         1798.8306\n",
       "3          171.8100\n",
       "4         4812.8102\n",
       "           ...     \n",
       "3466         0.0000\n",
       "3467         0.0000\n",
       "3468         0.0000\n",
       "3469         0.0000\n",
       "3470         0.0000\n",
       "Name: earned_base_commissions, Length: 3471, dtype: float64"
      ]
     },
     "execution_count": 18,
     "metadata": {},
     "output_type": "execute_result"
    },
    {
     "data": {
      "text/plain": [
       "0       0.0\n",
       "1       0.0\n",
       "2       0.0\n",
       "3       0.0\n",
       "4       0.0\n",
       "       ... \n",
       "3466    0.0\n",
       "3467    0.0\n",
       "3468    0.0\n",
       "3469    0.0\n",
       "3470    0.0\n",
       "Name: earned_over-commissions, Length: 3471, dtype: float64"
      ]
     },
     "execution_count": 18,
     "metadata": {},
     "output_type": "execute_result"
    },
    {
     "data": {
      "text/plain": [
       "0       0.0\n",
       "1       0.0\n",
       "2       0.0\n",
       "3       0.0\n",
       "4       0.0\n",
       "       ... \n",
       "3466    0.0\n",
       "3467    0.0\n",
       "3468    0.0\n",
       "3469    0.0\n",
       "3470    0.0\n",
       "Name: upfront_cash_payments, Length: 3471, dtype: float64"
      ]
     },
     "execution_count": 18,
     "metadata": {},
     "output_type": "execute_result"
    },
    {
     "data": {
      "text/plain": [
       "0          411.4924\n",
       "1       186987.7598\n",
       "2         1798.8306\n",
       "3          171.8100\n",
       "4         4812.8102\n",
       "           ...     \n",
       "3466         0.0000\n",
       "3467         0.0000\n",
       "3468         0.0000\n",
       "3469         0.0000\n",
       "3470         0.0000\n",
       "Name: total_compensation, Length: 3471, dtype: float64"
      ]
     },
     "execution_count": 18,
     "metadata": {},
     "output_type": "execute_result"
    },
    {
     "data": {
      "text/plain": [
       "0          841.6000\n",
       "1       179952.5261\n",
       "2            0.0000\n",
       "3            0.0000\n",
       "4          650.3800\n",
       "           ...     \n",
       "3466        69.4500\n",
       "3467         0.0000\n",
       "3468       630.1200\n",
       "3469         0.0000\n",
       "3470         0.0000\n",
       "Name: paid_claims, Length: 3471, dtype: float64"
      ]
     },
     "execution_count": 18,
     "metadata": {},
     "output_type": "execute_result"
    },
    {
     "data": {
      "text/plain": [
       "0         158.949826\n",
       "1       30986.379636\n",
       "2         284.268956\n",
       "3          16.847558\n",
       "4         317.166200\n",
       "            ...     \n",
       "3466     1472.110000\n",
       "3467      608.720000\n",
       "3468        0.000000\n",
       "3469        0.000000\n",
       "3470        0.000000\n",
       "Name: ocr_+_ibnr, Length: 3471, dtype: float64"
      ]
     },
     "execution_count": 18,
     "metadata": {},
     "output_type": "execute_result"
    },
    {
     "data": {
      "text/plain": [
       "0         1000.549826\n",
       "1       210938.905736\n",
       "2          284.268956\n",
       "3           16.847558\n",
       "4          967.546200\n",
       "            ...      \n",
       "3466      1541.560000\n",
       "3467       608.720000\n",
       "3468       630.120000\n",
       "3469         0.000000\n",
       "3470         0.000000\n",
       "Name: actual_incurred_losses_(paid_+_ocr_+_ibnr), Length: 3471, dtype: float64"
      ]
     },
     "execution_count": 18,
     "metadata": {},
     "output_type": "execute_result"
    },
    {
     "data": {
      "text/plain": [
       "0         930.696166\n",
       "1       91986.087535\n",
       "2        1076.945043\n",
       "3          55.083911\n",
       "4        1236.770428\n",
       "            ...     \n",
       "3466      433.790006\n",
       "3467      341.095979\n",
       "3468      305.054137\n",
       "3469       33.114511\n",
       "3470      835.265953\n",
       "Name: internal_variable_costs_(excl._az_tech_fee), Length: 3471, dtype: float64"
      ]
     },
     "execution_count": 18,
     "metadata": {},
     "output_type": "execute_result"
    },
    {
     "data": {
      "text/plain": [
       "0         315.488111\n",
       "1       29535.321094\n",
       "2         718.284798\n",
       "3          49.959963\n",
       "4         681.166314\n",
       "            ...     \n",
       "3466       45.413568\n",
       "3467       60.071040\n",
       "3468        0.477216\n",
       "3469        1.958400\n",
       "3470       36.288000\n",
       "Name: az_tech_fee, Length: 3471, dtype: float64"
      ]
     },
     "execution_count": 18,
     "metadata": {},
     "output_type": "execute_result"
    },
    {
     "data": {
      "text/plain": [
       "0         1474.395339\n",
       "1       145930.890587\n",
       "2         3144.451670\n",
       "3          151.527925\n",
       "4         2633.394389\n",
       "            ...      \n",
       "3466       272.796780\n",
       "3467       360.843400\n",
       "3468         2.866610\n",
       "3469        19.176000\n",
       "3470       355.320000\n",
       "Name: internal_fixed_costs_(excl._hq_fees), Length: 3471, dtype: float64"
      ]
     },
     "execution_count": 18,
     "metadata": {},
     "output_type": "execute_result"
    },
    {
     "data": {
      "text/plain": [
       "0         546.657015\n",
       "1       54435.025836\n",
       "2        1298.674892\n",
       "3          51.138343\n",
       "4        1329.630483\n",
       "            ...     \n",
       "3466       96.976890\n",
       "3467      128.276700\n",
       "3468        1.019055\n",
       "3469        4.182000\n",
       "3470       63.000000\n",
       "Name: hq_fees, Length: 3471, dtype: float64"
      ]
     },
     "execution_count": 18,
     "metadata": {},
     "output_type": "execute_result"
    },
    {
     "data": {
      "text/plain": [
       "0         3267.236631\n",
       "1       321887.325052\n",
       "2         6238.356404\n",
       "3          307.710141\n",
       "4         5880.961615\n",
       "            ...      \n",
       "3466       848.977244\n",
       "3467       890.287119\n",
       "3468       309.417018\n",
       "3469        58.430911\n",
       "3470      1289.873953\n",
       "Name: total_expenses, Length: 3471, dtype: float64"
      ]
     },
     "execution_count": 18,
     "metadata": {},
     "output_type": "execute_result"
    },
    {
     "data": {
      "text/plain": [
       "0       0.0\n",
       "1       0.0\n",
       "2       0.0\n",
       "3       0.0\n",
       "4       0.0\n",
       "       ... \n",
       "3466    0.0\n",
       "3467    0.0\n",
       "3468    0.0\n",
       "3469    0.0\n",
       "3470    0.0\n",
       "Name: risk_premium, Length: 3471, dtype: float64"
      ]
     },
     "execution_count": 18,
     "metadata": {},
     "output_type": "execute_result"
    },
    {
     "data": {
      "text/plain": [
       "0          845.492943\n",
       "1      -202596.689488\n",
       "2         4257.019941\n",
       "3          378.522301\n",
       "4          267.145586\n",
       "            ...      \n",
       "3466      -813.677244\n",
       "3467       586.792881\n",
       "3468      -922.967018\n",
       "3469         9.569089\n",
       "3470       -29.873953\n",
       "Name: profit_or_loss, Length: 3471, dtype: float64"
      ]
     },
     "execution_count": 18,
     "metadata": {},
     "output_type": "execute_result"
    },
    {
     "data": {
      "text/plain": [
       "0       2866.545298\n",
       "1      -2230.773065\n",
       "2       8700.146503\n",
       "3        581.188569\n",
       "4       4230.170458\n",
       "           ...     \n",
       "3466    -443.903574\n",
       "3467    1075.912981\n",
       "3468    -919.081353\n",
       "3469      32.927089\n",
       "3470     388.446047\n",
       "Name: contribution_margin_-_hq_view, Length: 3471, dtype: float64"
      ]
     },
     "execution_count": 18,
     "metadata": {},
     "output_type": "execute_result"
    },
    {
     "data": {
      "text/plain": [
       "0        2319.888282\n",
       "1      -56665.798901\n",
       "2        7401.471611\n",
       "3         530.050226\n",
       "4        2900.539975\n",
       "            ...     \n",
       "3466     -540.880464\n",
       "3467      947.636281\n",
       "3468     -920.100408\n",
       "3469       28.745089\n",
       "3470      325.446047\n",
       "Name: contribution_margin_-_bu_view, Length: 3471, dtype: float64"
      ]
     },
     "execution_count": 18,
     "metadata": {},
     "output_type": "execute_result"
    }
   ],
   "source": [
    "cflds = ['written_revenues_net_of_taxes', 'written_revenues', 'earned_revenues_net_of_taxes',\n",
    "         'earned_revenues', 'earned_base_commissions', 'earned_over-commissions', 'upfront_cash_payments',\n",
    "         'total_compensation', 'paid_claims', 'ocr_+_ibnr', 'actual_incurred_losses_(paid_+_ocr_+_ibnr)',\n",
    "         'internal_variable_costs_(excl._az_tech_fee)', 'az_tech_fee', 'internal_fixed_costs_(excl._hq_fees)',\n",
    "         'hq_fees', 'total_expenses', 'risk_premium', 'profit_or_loss', 'contribution_margin_-_hq_view',\n",
    "         'contribution_margin_-_bu_view', ]\n",
    "\n",
    "for i in cflds:\n",
    "    pd.to_numeric(trandata[i], errors='coerce')"
   ]
  },
  {
   "cell_type": "markdown",
   "id": "1f0dab82",
   "metadata": {
    "papermill": {
     "duration": 0.302579,
     "end_time": "2021-05-25T12:51:38.339978",
     "exception": false,
     "start_time": "2021-05-25T12:51:38.037399",
     "status": "completed"
    },
    "tags": []
   },
   "source": [
    "#### Turn selected columns values uppercase"
   ]
  },
  {
   "cell_type": "code",
   "execution_count": 19,
   "id": "68219649",
   "metadata": {
    "execution": {
     "iopub.execute_input": "2021-05-25T12:51:39.008585Z",
     "iopub.status.busy": "2021-05-25T12:51:39.003585Z",
     "iopub.status.idle": "2021-05-25T12:51:39.056104Z",
     "shell.execute_reply": "2021-05-25T12:51:39.058104Z"
    },
    "papermill": {
     "duration": 0.35961,
     "end_time": "2021-05-25T12:51:39.058104",
     "exception": false,
     "start_time": "2021-05-25T12:51:38.698494",
     "status": "completed"
    },
    "pycharm": {
     "name": "#%%\n"
    },
    "tags": []
   },
   "outputs": [],
   "source": [
    "validcols = ['business_unit', 'currency', 'region', 'type_of_analysis', 'type_of_business', 'type_of_account', 'lob',\n",
    "             'distribution_type', 'distribution_channel', ]\n",
    "\n",
    "for c in validcols:\n",
    "    trandata[c] = trandata[c].astype(str)\n",
    "    trandata[c] = trandata[c].apply(lambda x: x.upper())"
   ]
  },
  {
   "cell_type": "markdown",
   "id": "8873a013",
   "metadata": {
    "papermill": {
     "duration": 0.286959,
     "end_time": "2021-05-25T12:51:39.641802",
     "exception": false,
     "start_time": "2021-05-25T12:51:39.354843",
     "status": "completed"
    },
    "tags": []
   },
   "source": [
    "#### Read the values from the Global Attribute Catalog, one field per loop iterance and xlsx sheet."
   ]
  },
  {
   "cell_type": "code",
   "execution_count": 20,
   "id": "1f734689",
   "metadata": {
    "execution": {
     "iopub.execute_input": "2021-05-25T12:51:40.352879Z",
     "iopub.status.busy": "2021-05-25T12:51:40.348881Z",
     "iopub.status.idle": "2021-05-25T12:51:43.329739Z",
     "shell.execute_reply": "2021-05-25T12:51:43.328736Z"
    },
    "papermill": {
     "duration": 3.272027,
     "end_time": "2021-05-25T12:51:43.330732",
     "exception": false,
     "start_time": "2021-05-25T12:51:40.058705",
     "status": "completed"
    },
    "pycharm": {
     "name": "#%%\n"
    },
    "tags": []
   },
   "outputs": [],
   "source": [
    "checktabs = []\n",
    "\n",
    "\n",
    "\n",
    "for s in validcols:\n",
    "    t = pd.read_excel(atcat, sheet_name = s )\n",
    "    checktabs.append([[s], [t]])\n",
    "\n",
    "gacout = []\n"
   ]
  },
  {
   "cell_type": "markdown",
   "id": "2c5ef496",
   "metadata": {
    "papermill": {
     "duration": 0.334514,
     "end_time": "2021-05-25T12:51:43.970716",
     "exception": false,
     "start_time": "2021-05-25T12:51:43.636202",
     "status": "completed"
    },
    "tags": []
   },
   "source": [
    "#### Compare the lists from the previous step and each field. Find those that do not match, make lists of unique values\n",
    "#### replace any that have replacements in GPPM inoout already, make a list of values without any matches.\n"
   ]
  },
  {
   "cell_type": "code",
   "execution_count": 21,
   "id": "314aa6bc",
   "metadata": {
    "execution": {
     "iopub.execute_input": "2021-05-25T12:51:44.637835Z",
     "iopub.status.busy": "2021-05-25T12:51:44.635836Z",
     "iopub.status.idle": "2021-05-25T12:51:44.805830Z",
     "shell.execute_reply": "2021-05-25T12:51:44.807833Z"
    },
    "papermill": {
     "duration": 0.513134,
     "end_time": "2021-05-25T12:51:44.807833",
     "exception": false,
     "start_time": "2021-05-25T12:51:44.294699",
     "status": "completed"
    },
    "pycharm": {
     "name": "#%%\n"
    },
    "tags": []
   },
   "outputs": [],
   "source": [
    "for u in enumerate(validcols):\n",
    "    trandata.loc[0:len(trandata[u[1]]), u[1]] = trandata[u[1]].replace(\n",
    "        [checktabs[u[0]][1][0]['Upper_Vers']][0].to_numpy(), [checktabs[u[0]][1][0][u[1]]][0].to_numpy())\n",
    "    d = list(checktabs[u[0]][1][0]['Non Matches'].drop_duplicates().dropna().append(\n",
    "        pd.Series(trandata[u[1]][~trandata[u[1]].isin(checktabs[u[0]][1][0][u[1]])].drop_duplicates().dropna()),\n",
    "        ignore_index=True))\n",
    "    g = [checktabs[u[0]][1][0][str(u[1])], checktabs[u[0]][1][0]['Upper_Vers'], checktabs[u[0]][1][0]['Unnamed: 2'],\n",
    "         pd.Series(d, dtype='object').drop_duplicates().dropna(), checktabs[u[0]][1][0]['User Defined Corrections']]\n",
    "    gacout.append(list([g, u[1]]))"
   ]
  },
  {
   "cell_type": "markdown",
   "id": "e060fdb1",
   "metadata": {
    "papermill": {
     "duration": 0.308615,
     "end_time": "2021-05-25T12:51:45.406627",
     "exception": false,
     "start_time": "2021-05-25T12:51:45.098012",
     "status": "completed"
    },
    "tags": []
   },
   "source": [
    "#### Rebuild the GPPM input file, with the replaced values in the bad values column of each sheet.\n",
    "#### Step one, make and xlsx with a notes page."
   ]
  },
  {
   "cell_type": "code",
   "execution_count": 22,
   "id": "456ff40b",
   "metadata": {
    "execution": {
     "iopub.execute_input": "2021-05-25T12:51:46.043053Z",
     "iopub.status.busy": "2021-05-25T12:51:46.041058Z",
     "iopub.status.idle": "2021-05-25T12:51:46.473201Z",
     "shell.execute_reply": "2021-05-25T12:51:46.474201Z"
    },
    "papermill": {
     "duration": 0.758275,
     "end_time": "2021-05-25T12:51:46.475200",
     "exception": false,
     "start_time": "2021-05-25T12:51:45.716925",
     "status": "completed"
    },
    "pycharm": {
     "name": "#%%\n"
    },
    "tags": []
   },
   "outputs": [],
   "source": [
    "w = ExcelWriter(atcat)\n",
    "notes = pd.DataFrame([\n",
    "    \"This page is script generated during the source creation process. Do not edit these notes directly in the file as they will be overwritten\",\n",
    "    \"\", \"\"\n",
    "    , \" Purpose :     to manage attribute entries in the data collection process, this workbook documents and organizes all entries and also allows a user to swap those that do \\\n",
    "                        not conform to validation rules  with an entry of their choice\",\n",
    "    \" Each attribute field that requires validation has its own sheet tab\", \"\"\n",
    "    , \"Column A:    of each sheet tab contains all unique acceptable responses\",\n",
    "    \"Column B:    an upper case version, to wrangle case mismatches\",\n",
    "    \"Column D:   is generated by the process, this is a list of an uppercase version of each unique unacceptable response, this builds over time with each collection\",\n",
    "    \"Column E:   you can enter accpetable response here (sase sensitive) to be swapped out in the data, save and exit this file, run the process again and they will be replaced\"\n",
    "    , \"\", \"\", \"Gavin Harmon 9 - July -2020\"])\n",
    "\n",
    "notes.columns = ['Notes']\n",
    "\n",
    "notes.to_excel(w, index=False, sheet_name=\"Notes\")"
   ]
  },
  {
   "cell_type": "markdown",
   "id": "52a04e24",
   "metadata": {
    "papermill": {
     "duration": 0.330352,
     "end_time": "2021-05-25T12:51:47.132598",
     "exception": false,
     "start_time": "2021-05-25T12:51:46.802246",
     "status": "completed"
    },
    "tags": []
   },
   "source": [
    "#### Step two, build the new sheets for each validcols field"
   ]
  },
  {
   "cell_type": "code",
   "execution_count": 23,
   "id": "a6103591",
   "metadata": {
    "execution": {
     "iopub.execute_input": "2021-05-25T12:51:47.844320Z",
     "iopub.status.busy": "2021-05-25T12:51:47.831317Z",
     "iopub.status.idle": "2021-05-25T12:51:48.440687Z",
     "shell.execute_reply": "2021-05-25T12:51:48.442686Z"
    },
    "papermill": {
     "duration": 0.96152,
     "end_time": "2021-05-25T12:51:48.442686",
     "exception": false,
     "start_time": "2021-05-25T12:51:47.481166",
     "status": "completed"
    },
    "pycharm": {
     "name": "#%%\n"
    },
    "tags": []
   },
   "outputs": [],
   "source": [
    "for v in enumerate(validcols):\n",
    "    df = pd.DataFrame(gacout[v[0]][0], index=[f\"{v[1]}\", 'Upper_Vers', '', 'Non Matches', 'User Defined Corrections']).T\n",
    "    df.to_excel(w, index=False, sheet_name=gacout[v[0]][1])\n",
    "w.save()"
   ]
  },
  {
   "cell_type": "markdown",
   "id": "3e5916ad",
   "metadata": {
    "papermill": {
     "duration": 0.301061,
     "end_time": "2021-05-25T12:51:49.076973",
     "exception": false,
     "start_time": "2021-05-25T12:51:48.775912",
     "status": "completed"
    },
    "tags": []
   },
   "source": [
    "#### Step three, read these lists back in, make the necessary replacements in the DataFrame"
   ]
  },
  {
   "cell_type": "code",
   "execution_count": 24,
   "id": "8cf2b007",
   "metadata": {
    "execution": {
     "iopub.execute_input": "2021-05-25T12:51:49.772826Z",
     "iopub.status.busy": "2021-05-25T12:51:49.766825Z",
     "iopub.status.idle": "2021-05-25T12:51:52.415222Z",
     "shell.execute_reply": "2021-05-25T12:51:52.416221Z"
    },
    "papermill": {
     "duration": 2.997188,
     "end_time": "2021-05-25T12:51:52.417224",
     "exception": false,
     "start_time": "2021-05-25T12:51:49.420036",
     "status": "completed"
    },
    "pycharm": {
     "name": "#%%\n"
    },
    "tags": []
   },
   "outputs": [],
   "source": [
    "for s in validcols:\n",
    "    t = pd.read_excel(f'//hecate/Insurance_US/Product Development/Product Management/Global PPM/Reporting/Data Collection/Production/{str(percode)}\\\\{str(percode)}_Attribute_Catalog.xlsx', sheet_name = s )\n",
    "    checktabs.append([[s],[t]])"
   ]
  },
  {
   "cell_type": "code",
   "execution_count": 25,
   "id": "e0710564",
   "metadata": {
    "execution": {
     "iopub.execute_input": "2021-05-25T12:51:53.070519Z",
     "iopub.status.busy": "2021-05-25T12:51:53.049520Z",
     "iopub.status.idle": "2021-05-25T12:51:53.144523Z",
     "shell.execute_reply": "2021-05-25T12:51:53.147515Z"
    },
    "papermill": {
     "duration": 0.416704,
     "end_time": "2021-05-25T12:51:53.147515",
     "exception": false,
     "start_time": "2021-05-25T12:51:52.730811",
     "status": "completed"
    },
    "pycharm": {
     "name": "#%%\n"
    },
    "tags": []
   },
   "outputs": [],
   "source": [
    "gacout = []\n",
    "\n",
    "for u in enumerate(validcols):\n",
    "    trandata.loc[0:len(trandata[u[1]]), u[1]] = trandata[u[1]].replace(\n",
    "        [checktabs[u[0]][1][0]['Non Matches']][0].to_numpy(),\n",
    "        [checktabs[u[0]][1][0]['User Defined Corrections']][0].to_numpy())\n",
    "repper = trandata[['business_unit', 'reporting_date_to']]\n",
    "repper = pd.DataFrame({\"business_unit\": (repper['business_unit']), \"YearMo\": (repper['reporting_date_to'])})\n",
    "minrep = repper.groupby(['business_unit']).max()\n",
    "a = trandata['business_unit'].replace(list(minrep.axes[0]), minrep.get(\"YearMo\"))\n",
    "trandata['rep_date'] = a\n",
    "trandata.loc[0:len(trandata['business_partner_id_number']), 'business_partner_id_number'] = trandata[\n",
    "    'business_partner_id_number'].replace('0', 'Not Provided').fillna('Not Provided')\n",
    "trandata.loc[0:len(trandata['product_id_number']), 'product_id_number'] = trandata['product_id_number'].replace('0',\n",
    "                                                                                                                'Not Provided').replace(\n",
    "    '-', 'Not Provided').fillna('Not Provided')\n",
    "trandata.loc[0:len(trandata['sub_lob']), 'sub_lob'] = trandata['sub_lob'].replace('0', 'Not Provided').replace('-',\n",
    "                                                                                                               'Not Provided').replace(\n",
    "    'Other', 'Not Provided').fillna('Not Provided')"
   ]
  },
  {
   "cell_type": "markdown",
   "id": "bd6fe0f3",
   "metadata": {
    "papermill": {
     "duration": 0.308892,
     "end_time": "2021-05-25T12:51:53.764397",
     "exception": false,
     "start_time": "2021-05-25T12:51:53.455505",
     "status": "completed"
    },
    "tags": []
   },
   "source": [
    "#### Remove empty rows, if there is no claims experience and no revenue for a 12 month period, it should not be included"
   ]
  },
  {
   "cell_type": "code",
   "execution_count": 26,
   "id": "edc98fdc",
   "metadata": {
    "execution": {
     "iopub.execute_input": "2021-05-25T12:51:54.413077Z",
     "iopub.status.busy": "2021-05-25T12:51:54.383077Z",
     "iopub.status.idle": "2021-05-25T12:51:54.443174Z",
     "shell.execute_reply": "2021-05-25T12:51:54.445076Z"
    },
    "papermill": {
     "duration": 0.366494,
     "end_time": "2021-05-25T12:51:54.445076",
     "exception": false,
     "start_time": "2021-05-25T12:51:54.078582",
     "status": "completed"
    },
    "pycharm": {
     "name": "#%%\n"
    },
    "tags": []
   },
   "outputs": [],
   "source": [
    "trandata = trandata.loc[(trandata['units_of_risk_(written)'].fillna(0).replace('', 0)\n",
    "                         + trandata['written_revenues_net_of_taxes'].fillna(0).replace('', 0)\n",
    "                         + trandata['written_revenues'].fillna(0).replace('', 0)\n",
    "                         + trandata['number_of_policies_(earned)'].fillna(0).replace('', 0)\n",
    "                         + trandata['units_of_risk_(earned)'].fillna(0).replace('', 0)\n",
    "                         + trandata['earned_revenues_net_of_taxes'].fillna(0).replace('', 0)\n",
    "                         + trandata['earned_revenues'].fillna(0).replace('', 0)\n",
    "                         + trandata['earned_base_commissions'].fillna(0).replace('', 0)\n",
    "                         + trandata['upfront_cash_payments'].fillna(0).replace('', 0)\n",
    "                         + trandata['earned_over-commissions'].fillna(0).replace('', 0)\n",
    "                         + trandata['total_compensation'].fillna(0).replace('', 0)\n",
    "                         + trandata['number_of_claims_(paid_+_ocr_+_ibnr)'].fillna(0).replace('', 0)\n",
    "                         + trandata['number_of_open_claims'].fillna(0).replace('', 0)\n",
    "                         + trandata['open_claims_%'].fillna(0).replace('', 0)\n",
    "                         + trandata['number_of_persons_involved_in_claims_(paid_+_ocr_+_ibnr)'].fillna(0).replace('', 0)\n",
    "                         + trandata['paid_claims'].fillna(0).replace('', 0)\n",
    "                         + trandata['ocr_+_ibnr'].fillna(0).replace('', 0)\n",
    "                         + trandata['actual_incurred_losses_(paid_+_ocr_+_ibnr)'].fillna(0).replace('', 0)\n",
    "                         + trandata['internal_variable_costs_(excl._az_tech_fee)'].fillna(0).replace('', 0)\n",
    "                         + trandata['az_tech_fee'].fillna(0).replace('', 0)\n",
    "                         + trandata['internal_fixed_costs_(excl._hq_fees)'].fillna(0).replace('', 0)\n",
    "                         + trandata['hq_fees'].fillna(0).replace('', 0)\n",
    "                         + trandata['total_expenses'].fillna(0).replace('', 0)\n",
    "                         + trandata['frequency_(earned)'].fillna(0).replace('', 0)\n",
    "                         + trandata['severity'].fillna(0).replace('', 0))\n",
    "                        != 0]"
   ]
  },
  {
   "cell_type": "markdown",
   "id": "41d5a2c8",
   "metadata": {
    "papermill": {
     "duration": 0.331684,
     "end_time": "2021-05-25T12:51:55.068094",
     "exception": false,
     "start_time": "2021-05-25T12:51:54.736410",
     "status": "completed"
    },
    "pycharm": {
     "name": "#%% md\n"
    },
    "tags": []
   },
   "source": [
    "#### Output temp file"
   ]
  },
  {
   "cell_type": "code",
   "execution_count": 27,
   "id": "f3560545",
   "metadata": {
    "execution": {
     "iopub.execute_input": "2021-05-25T12:51:55.736007Z",
     "iopub.status.busy": "2021-05-25T12:51:55.734004Z",
     "iopub.status.idle": "2021-05-25T12:51:58.357487Z",
     "shell.execute_reply": "2021-05-25T12:51:58.358491Z"
    },
    "papermill": {
     "duration": 2.956844,
     "end_time": "2021-05-25T12:51:58.359490",
     "exception": false,
     "start_time": "2021-05-25T12:51:55.402646",
     "status": "completed"
    },
    "pycharm": {
     "name": "#%%\n"
    },
    "tags": []
   },
   "outputs": [],
   "source": [
    "trandata.to_parquet(\n",
    "    f'//hecate/Insurance_US/Product Development/Product Management/Global PPM/Reporting/Data Collection/Production/{str(percode)}\\\\{str(percode)}.localcur.parquet', engine = \"pyarrow\")\n",
    "\n",
    "\n",
    "\n",
    "\n"
   ]
  },
  {
   "cell_type": "markdown",
   "id": "131d1eb6",
   "metadata": {
    "papermill": {
     "duration": 0.330274,
     "end_time": "2021-05-25T12:51:59.002749",
     "exception": false,
     "start_time": "2021-05-25T12:51:58.672475",
     "status": "completed"
    },
    "tags": []
   },
   "source": [
    "#### Store the DataFrame for other noteboks to use"
   ]
  },
  {
   "cell_type": "code",
   "execution_count": 28,
   "id": "fc3419cf",
   "metadata": {
    "execution": {
     "iopub.execute_input": "2021-05-25T12:51:59.608763Z",
     "iopub.status.busy": "2021-05-25T12:51:59.607766Z",
     "iopub.status.idle": "2021-05-25T12:51:59.634759Z",
     "shell.execute_reply": "2021-05-25T12:51:59.635765Z"
    },
    "papermill": {
     "duration": 0.35149,
     "end_time": "2021-05-25T12:51:59.636762",
     "exception": false,
     "start_time": "2021-05-25T12:51:59.285272",
     "status": "completed"
    },
    "tags": []
   },
   "outputs": [
    {
     "name": "stdout",
     "output_type": "stream",
     "text": [
      "Stored 'py_t_df' (DataFrame)\n"
     ]
    }
   ],
   "source": [
    "py_t_df = trandata\n",
    "\n",
    "%store py_t_df\n"
   ]
  }
 ],
 "metadata": {
  "celltoolbar": "Tags",
  "kernelspec": {
   "display_name": "Python 3",
   "language": "python",
   "name": "python3"
  },
  "language_info": {
   "codemirror_mode": {
    "name": "ipython",
    "version": 3
   },
   "file_extension": ".py",
   "mimetype": "text/x-python",
   "name": "python",
   "nbconvert_exporter": "python",
   "pygments_lexer": "ipython3",
   "version": "3.7.6"
  },
  "papermill": {
   "default_parameters": {},
   "duration": 54.840258,
   "end_time": "2021-05-25T12:52:00.380975",
   "environment_variables": {},
   "exception": null,
   "input_path": "pipeline/py_transform.ipynb",
   "output_path": "//hecate/Insurance_US/Product Development/Product Management/Global PPM/Reporting/Data Collection/Pipeline Reporting Scripts/GPMpipeline/instances/2021.Q1\\pipeline\\py_transform05252021084905--live run.ipynb",
   "parameters": {
    "commit_message": "Edited data for Austraila, json 2 parquet and add comments from email. Begin general evaluation of data submissions.",
    "inst_datetime": "05252021084905",
    "percode": "2021.Q1",
    "run_control": 1
   },
   "start_time": "2021-05-25T12:51:05.540717",
   "version": "2.3.3"
  }
 },
 "nbformat": 4,
 "nbformat_minor": 5
}