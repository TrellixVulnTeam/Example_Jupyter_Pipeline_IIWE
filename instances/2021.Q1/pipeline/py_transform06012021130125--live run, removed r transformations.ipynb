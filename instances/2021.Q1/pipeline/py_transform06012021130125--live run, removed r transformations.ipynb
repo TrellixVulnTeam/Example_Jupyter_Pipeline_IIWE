{
 "cells": [
  {
   "cell_type": "markdown",
   "id": "d54e3e9a",
   "metadata": {
    "papermill": {
     "duration": 0.322577,
     "end_time": "2021-06-01T17:04:17.005953",
     "exception": false,
     "start_time": "2021-06-01T17:04:16.683376",
     "status": "completed"
    },
    "pycharm": {
     "name": "#%% md\n"
    },
    "tags": []
   },
   "source": [
    "<img src=\"../images/AzPTravel_PPM.png\">"
   ]
  },
  {
   "cell_type": "markdown",
   "id": "b4862909",
   "metadata": {
    "collapsed": true,
    "papermill": {
     "duration": 0.292308,
     "end_time": "2021-06-01T17:04:17.580507",
     "exception": false,
     "start_time": "2021-06-01T17:04:17.288199",
     "status": "completed"
    },
    "pycharm": {
     "name": "#%% md\n"
    },
    "tags": []
   },
   "source": [
    "## GPM Data Transformation Script\n",
    "\n",
    "#### This script transforms the single consolidated raw file \"{Data Collection}.csv\" into it's final GPM input versions \"{Data Collection Code}localcur.csv\" and \"{Data Collection Code}euroconv.csv\"\n",
    "#### Current transformations\n",
    "\n",
    "-    make headers lowercase and replace spaces with hyphens\n",
    "-    Remove any rows with null BUs\n",
    "-    validate columns in validcols\n",
    "-    output documented here: \"Global_Attribute_Catalog.xlsx\" you can also edit dataframe entries using the instructions in the file\n",
    "-    replace various null or placeholder values with \"Not Provided\"\n"
   ]
  },
  {
   "cell_type": "markdown",
   "id": "a441b647",
   "metadata": {
    "papermill": {
     "duration": 0.289003,
     "end_time": "2021-06-01T17:04:18.196483",
     "exception": false,
     "start_time": "2021-06-01T17:04:17.907480",
     "status": "completed"
    },
    "tags": []
   },
   "source": [
    "###"
   ]
  },
  {
   "cell_type": "code",
   "execution_count": 1,
   "id": "e1ca9380",
   "metadata": {
    "execution": {
     "iopub.execute_input": "2021-06-01T17:04:18.803315Z",
     "iopub.status.busy": "2021-06-01T17:04:18.795309Z",
     "iopub.status.idle": "2021-06-01T17:04:18.807302Z",
     "shell.execute_reply": "2021-06-01T17:04:18.821307Z"
    },
    "papermill": {
     "duration": 0.313997,
     "end_time": "2021-06-01T17:04:18.822302",
     "exception": false,
     "start_time": "2021-06-01T17:04:18.508305",
     "status": "completed"
    },
    "pycharm": {
     "name": "#%%\n"
    },
    "tags": [
     "parameters"
    ]
   },
   "outputs": [],
   "source": [
    "commit = \"\"\n",
    "# give a reason for the run\n",
    "\n",
    "percode = \"20XX.QX\"\n",
    "# Data Collection Code, this controls file paths and output names\n",
    "\n",
    "run_type = 1\n",
    "#run_type =  0 - lite run with no reporting, not recommended.\n",
    "#run_type =  1 - lite run with normal reporting, default setting.\n",
    "#run_type =  2 - Heavy run with full reporting, available for audits and troubleshooting.\n",
    "\n",
    "specialchars = \"-GTHtest\"\n",
    "# optional - add up to a 12 character code in order to mark your instance record .ipynb\n",
    "\n",
    "from datetime import datetime\n",
    "inst_datetime = datetime.now().strftime(\"%m%d%Y%H%M%S\")\n",
    "# a single datetime stamp for the full instance run\n"
   ]
  },
  {
   "cell_type": "code",
   "execution_count": 2,
   "id": "0ca35d11",
   "metadata": {
    "execution": {
     "iopub.execute_input": "2021-06-01T17:04:19.372035Z",
     "iopub.status.busy": "2021-06-01T17:04:19.368034Z",
     "iopub.status.idle": "2021-06-01T17:04:19.378029Z",
     "shell.execute_reply": "2021-06-01T17:04:19.379029Z"
    },
    "papermill": {
     "duration": 0.303591,
     "end_time": "2021-06-01T17:04:19.380031",
     "exception": false,
     "start_time": "2021-06-01T17:04:19.076440",
     "status": "completed"
    },
    "tags": [
     "injected-parameters"
    ]
   },
   "outputs": [],
   "source": [
    "# Parameters\n",
    "run_control = 1\n",
    "percode = \"2021.Q1\"\n",
    "commit_message = \"Demo Test\"\n",
    "inst_datetime = \"06012021130125\"\n"
   ]
  },
  {
   "cell_type": "markdown",
   "id": "3b9afb22",
   "metadata": {
    "papermill": {
     "duration": 0.302877,
     "end_time": "2021-06-01T17:04:19.954154",
     "exception": false,
     "start_time": "2021-06-01T17:04:19.651277",
     "status": "completed"
    },
    "tags": []
   },
   "source": [
    "### Set Run Control\n",
    "\n",
    "##### 0 - lite run with no reporting, not recommended.\n",
    "##### 1 - lite run with normal reporting, default setting.\n",
    "##### 2 - Heavy run with full reporting, available for audits and troubleshooting."
   ]
  },
  {
   "cell_type": "code",
   "execution_count": 3,
   "id": "8628ce7e",
   "metadata": {
    "execution": {
     "iopub.execute_input": "2021-06-01T17:04:20.630547Z",
     "iopub.status.busy": "2021-06-01T17:04:20.628551Z",
     "iopub.status.idle": "2021-06-01T17:04:20.636549Z",
     "shell.execute_reply": "2021-06-01T17:04:20.638549Z"
    },
    "papermill": {
     "duration": 0.392391,
     "end_time": "2021-06-01T17:04:20.638549",
     "exception": false,
     "start_time": "2021-06-01T17:04:20.246158",
     "status": "completed"
    },
    "pycharm": {
     "name": "#%%\n"
    },
    "tags": []
   },
   "outputs": [],
   "source": [
    "run_control = 0  # in development mode"
   ]
  },
  {
   "cell_type": "code",
   "execution_count": 4,
   "id": "e712ec34",
   "metadata": {
    "execution": {
     "iopub.execute_input": "2021-06-01T17:04:21.245968Z",
     "iopub.status.busy": "2021-06-01T17:04:21.243964Z",
     "iopub.status.idle": "2021-06-01T17:04:24.101707Z",
     "shell.execute_reply": "2021-06-01T17:04:24.103709Z"
    },
    "papermill": {
     "duration": 3.146067,
     "end_time": "2021-06-01T17:04:24.103709",
     "exception": false,
     "start_time": "2021-06-01T17:04:20.957642",
     "status": "completed"
    },
    "pycharm": {
     "name": "#%%\n"
    },
    "tags": []
   },
   "outputs": [],
   "source": [
    "#### Packages used\n",
    "import sys\n",
    "import os\n",
    "import pandas as pd\n",
    "from pandas import ExcelWriter\n",
    "from numpy import nan"
   ]
  },
  {
   "cell_type": "code",
   "execution_count": 5,
   "id": "f04d78fb",
   "metadata": {
    "execution": {
     "iopub.execute_input": "2021-06-01T17:04:24.647315Z",
     "iopub.status.busy": "2021-06-01T17:04:24.643327Z",
     "iopub.status.idle": "2021-06-01T17:04:24.653323Z",
     "shell.execute_reply": "2021-06-01T17:04:24.654317Z"
    },
    "papermill": {
     "duration": 0.301287,
     "end_time": "2021-06-01T17:04:24.655316",
     "exception": false,
     "start_time": "2021-06-01T17:04:24.354029",
     "status": "completed"
    },
    "pycharm": {
     "name": "#%%\n"
    },
    "tags": []
   },
   "outputs": [],
   "source": [
    "default_dc = \"2021.Q1\"\n",
    "\n",
    "try:\n",
    "    if sys.argv[1] == \"-f\":\n",
    "        percode = default_dc\n",
    "    else:\n",
    "        percode = sys.argv[1]\n",
    "\n",
    "except IndexError:\n",
    "    percode = default_dc\n",
    "except NameError:\n",
    "    percode = default_dc"
   ]
  },
  {
   "cell_type": "markdown",
   "id": "1a770eae",
   "metadata": {
    "papermill": {
     "duration": 0.274768,
     "end_time": "2021-06-01T17:04:25.205308",
     "exception": false,
     "start_time": "2021-06-01T17:04:24.930540",
     "status": "completed"
    },
    "tags": []
   },
   "source": [
    "#### style settings"
   ]
  },
  {
   "cell_type": "code",
   "execution_count": 6,
   "id": "326b49b2",
   "metadata": {
    "execution": {
     "iopub.execute_input": "2021-06-01T17:04:26.134110Z",
     "iopub.status.busy": "2021-06-01T17:04:26.130109Z",
     "iopub.status.idle": "2021-06-01T17:04:26.147113Z",
     "shell.execute_reply": "2021-06-01T17:04:26.137111Z"
    },
    "papermill": {
     "duration": 0.549281,
     "end_time": "2021-06-01T17:04:26.149114",
     "exception": false,
     "start_time": "2021-06-01T17:04:25.599833",
     "status": "completed"
    },
    "tags": []
   },
   "outputs": [],
   "source": [
    "from IPython.core.interactiveshell import InteractiveShell\n",
    "InteractiveShell.ast_node_interactivity = \"all\""
   ]
  },
  {
   "cell_type": "markdown",
   "id": "1758b015",
   "metadata": {
    "papermill": {
     "duration": 0.297002,
     "end_time": "2021-06-01T17:04:26.756771",
     "exception": false,
     "start_time": "2021-06-01T17:04:26.459769",
     "status": "completed"
    },
    "tags": []
   },
   "source": [
    "#### Convert paths and files to variables.\n",
    "#### Read data into pd DataFrames.\n",
    "#### Make paths for the live sources."
   ]
  },
  {
   "cell_type": "code",
   "execution_count": 7,
   "id": "c8b051b7",
   "metadata": {
    "execution": {
     "iopub.execute_input": "2021-06-01T17:04:27.355437Z",
     "iopub.status.busy": "2021-06-01T17:04:27.354422Z",
     "iopub.status.idle": "2021-06-01T17:04:27.365421Z",
     "shell.execute_reply": "2021-06-01T17:04:27.366424Z"
    },
    "papermill": {
     "duration": 0.326118,
     "end_time": "2021-06-01T17:04:27.367425",
     "exception": false,
     "start_time": "2021-06-01T17:04:27.041307",
     "status": "completed"
    },
    "pycharm": {
     "name": "#%%\n"
    },
    "tags": []
   },
   "outputs": [],
   "source": [
    "rt_path = os.path.join( f'\\\\\\\\hecate\\\\Insurance_US\\\\Product Development\\\\Product Management\\\\Global PPM\\\\Reporting\\\\Data Collection\\\\Production',percode)\n",
    "\n",
    "infile = os.path.join(rt_path, f'{str(percode)}.parquet')\n",
    "gppm_file = os.path.join(rt_path, f'GPPM_Input_{str(percode)}.xlsx')\n",
    "atcat = os.path.join(rt_path, f'{percode}_Attribute_Catalog.xlsx')\n"
   ]
  },
  {
   "cell_type": "code",
   "execution_count": 8,
   "id": "496916d1",
   "metadata": {
    "execution": {
     "iopub.execute_input": "2021-06-01T17:04:28.253589Z",
     "iopub.status.busy": "2021-06-01T17:04:28.252590Z",
     "iopub.status.idle": "2021-06-01T17:04:28.268588Z",
     "shell.execute_reply": "2021-06-01T17:04:28.266586Z"
    },
    "papermill": {
     "duration": 0.482741,
     "end_time": "2021-06-01T17:04:28.268588",
     "exception": false,
     "start_time": "2021-06-01T17:04:27.785847",
     "status": "completed"
    },
    "tags": []
   },
   "outputs": [],
   "source": [
    "#### Read input file\n",
    "\n",
    "#### This reads the consolidated file that will be transformed or a stored dataframe based on the execution method."
   ]
  },
  {
   "cell_type": "code",
   "execution_count": 9,
   "id": "9aed5349",
   "metadata": {
    "execution": {
     "iopub.execute_input": "2021-06-01T17:04:29.159880Z",
     "iopub.status.busy": "2021-06-01T17:04:29.148877Z",
     "iopub.status.idle": "2021-06-01T17:04:29.364179Z",
     "shell.execute_reply": "2021-06-01T17:04:29.371172Z"
    },
    "papermill": {
     "duration": 0.644815,
     "end_time": "2021-06-01T17:04:29.372170",
     "exception": false,
     "start_time": "2021-06-01T17:04:28.727355",
     "status": "completed"
    },
    "pycharm": {
     "name": "#%%\n"
    },
    "tags": []
   },
   "outputs": [
    {
     "name": "stdout",
     "output_type": "stream",
     "text": [
      "                       Submission File Business Unit Country Currency  \\\n",
      "0     us_dat_au_05142021143612.parquet            AU      AU      AUD   \n",
      "1     us_dat_au_05142021143612.parquet            AU      AU      AUD   \n",
      "2     us_dat_au_05142021143612.parquet            AU      AU      AUD   \n",
      "3     us_dat_au_05142021143612.parquet            AU      AU      AUD   \n",
      "4     us_dat_au_05142021143612.parquet            AU      AU      AUD   \n",
      "...                                ...           ...     ...      ...   \n",
      "3619  us_dat_pt_05202021121056.parquet            PT      PT      EUR   \n",
      "3620  us_dat_pt_05202021121056.parquet            PT      PT      EUR   \n",
      "3621  us_dat_pt_05202021121056.parquet            PT      PT      EUR   \n",
      "3622  us_dat_pt_05202021121056.parquet            PT      PT      EUR   \n",
      "3623  us_dat_pt_05202021121056.parquet            PT      PT      EUR   \n",
      "\n",
      "                           Region Reporting Date From Reporting Date To  \\\n",
      "0                            APAC          2021-01-01        2021-03-31   \n",
      "1                            APAC          2021-01-01        2021-03-31   \n",
      "2                            APAC          2021-01-01        2021-03-31   \n",
      "3                            APAC          2021-01-01        2021-03-31   \n",
      "4                            APAC          2021-01-01        2021-03-31   \n",
      "...                           ...                 ...               ...   \n",
      "3619  Western Europe, LATAM & MEA          2021-01-01        2021-03-31   \n",
      "3620  Western Europe, LATAM & MEA          2021-01-01        2021-03-31   \n",
      "3621  Western Europe, LATAM & MEA          2021-01-01        2021-03-31   \n",
      "3622  Western Europe, LATAM & MEA          2021-01-01        2021-03-31   \n",
      "3623  Western Europe, LATAM & MEA          2021-01-01        2021-03-31   \n",
      "\n",
      "     Date of Analysis Type of Analysis  Analysed Months  ...  Notes  \\\n",
      "0          2021-04-30     Year To Date              3.0  ...          \n",
      "1          2021-04-30     Year To Date              3.0  ...          \n",
      "2          2021-04-30     Year To Date              3.0  ...          \n",
      "3          2021-04-30     Year To Date              3.0  ...          \n",
      "4          2021-04-30     Year To Date              3.0  ...          \n",
      "...               ...              ...              ...  ...    ...   \n",
      "3619       2021-03-31     Year To Date              3.0  ...    0.0   \n",
      "3620       2021-03-31     Year To Date              3.0  ...    0.0   \n",
      "3621       2021-03-31     Year To Date              3.0  ...    0.0   \n",
      "3622       2021-03-31     Year To Date              3.0  ...    0.0   \n",
      "3623       2021-03-31     Year To Date              3.0  ...    0.0   \n",
      "\n",
      "      Unnamed: 66  concat2    comsub     expsub Reporting Date From INT  \\\n",
      "0             0.0    AUAUD  0.100998   3.245346                20210101   \n",
      "1             0.0    AUAUD  0.233379   3.589092                20210101   \n",
      "2             0.0    AUAUD  0.000000   0.000000                20210101   \n",
      "3             0.0    AUAUD  0.000000   4.723789                20210101   \n",
      "4             0.0    AUAUD  0.220000   4.239521                20210101   \n",
      "...           ...      ...       ...        ...                     ...   \n",
      "3619          0.0    PTEUR  0.000000   0.538397                20210101   \n",
      "3620          0.0    PTEUR  0.000000   0.426832                20210101   \n",
      "3621          0.0    PTEUR  0.000000  18.673326                20210101   \n",
      "3622          0.0    PTEUR  0.000000   0.859278                20210101   \n",
      "3623          0.0    PTEUR  0.000000   1.023709                20210101   \n",
      "\n",
      "     Reporting Date To INT Date of Analysis INT  \\\n",
      "0                 20210331             20210430   \n",
      "1                 20210331             20210430   \n",
      "2                 20210331             20210430   \n",
      "3                 20210331             20210430   \n",
      "4                 20210331             20210430   \n",
      "...                    ...                  ...   \n",
      "3619              20210331             20210331   \n",
      "3620              20210331             20210331   \n",
      "3621              20210331             20210331   \n",
      "3622              20210331             20210331   \n",
      "3623              20210331             20210331   \n",
      "\n",
      "                         Selected Fields for Duplicates ibnrsub  \n",
      "0     AUInsuranceLocalB2B2CTravelAllianz Affiliation...     NaN  \n",
      "1     AUInsuranceLocalB2B2CTravelOffline Travel Agen...     NaN  \n",
      "2     AUInsuranceLocalB2B2CTravelOffline Travel Agen...     NaN  \n",
      "3     AUInsuranceLocalB2B2CTravelAllianz Affiliation...     NaN  \n",
      "4     AUInsuranceLocalB2CTravelDirect (Allianz Partn...     NaN  \n",
      "...                                                 ...     ...  \n",
      "3619  PTReinsuranceLocalB2B2CTravelDirect (Allianz P...     0.0  \n",
      "3620  PTReinsuranceLocalB2B2CTravelDirect (Allianz P...     0.0  \n",
      "3621  PTReinsuranceLocalB2B2CTravelDirect (Allianz P...     0.0  \n",
      "3622  PTReinsuranceLocalB2B2CTravelDirect (Allianz P...     0.0  \n",
      "3623  PTReinsuranceLocalB2BTravelDirect (Allianz Par...     0.0  \n",
      "\n",
      "[3624 rows x 76 columns]\n"
     ]
    }
   ],
   "source": [
    "try:\n",
    "    %store -r read_dc_df\n",
    "    input = read_dc_df\n",
    "        \n",
    "except:\n",
    "    input = pd.read_parquet(infile,engine = \"pyarrow\")\n",
    "    os.remove(infile)\n",
    "\n",
    "print(input)"
   ]
  },
  {
   "cell_type": "markdown",
   "id": "6942f9e0",
   "metadata": {
    "papermill": {
     "duration": 0.405205,
     "end_time": "2021-06-01T17:04:30.263633",
     "exception": false,
     "start_time": "2021-06-01T17:04:29.858428",
     "status": "completed"
    },
    "tags": []
   },
   "source": [
    "#### Make a copy for debug purposes"
   ]
  },
  {
   "cell_type": "code",
   "execution_count": 10,
   "id": "c7a5b70a",
   "metadata": {
    "execution": {
     "iopub.execute_input": "2021-06-01T17:04:30.887545Z",
     "iopub.status.busy": "2021-06-01T17:04:30.885549Z",
     "iopub.status.idle": "2021-06-01T17:04:30.893544Z",
     "shell.execute_reply": "2021-06-01T17:04:30.894543Z"
    },
    "papermill": {
     "duration": 0.310552,
     "end_time": "2021-06-01T17:04:30.894543",
     "exception": false,
     "start_time": "2021-06-01T17:04:30.583991",
     "status": "completed"
    },
    "pycharm": {
     "name": "#%%\n"
    },
    "tags": []
   },
   "outputs": [],
   "source": [
    "trandata = input.copy()"
   ]
  },
  {
   "cell_type": "markdown",
   "id": "e62d7d92",
   "metadata": {
    "papermill": {
     "duration": 0.29104,
     "end_time": "2021-06-01T17:04:31.448170",
     "exception": false,
     "start_time": "2021-06-01T17:04:31.157130",
     "status": "completed"
    },
    "tags": []
   },
   "source": [
    "#### Format Headers"
   ]
  },
  {
   "cell_type": "code",
   "execution_count": 11,
   "id": "0247c727",
   "metadata": {
    "execution": {
     "iopub.execute_input": "2021-06-01T17:04:32.056683Z",
     "iopub.status.busy": "2021-06-01T17:04:32.049676Z",
     "iopub.status.idle": "2021-06-01T17:04:32.071227Z",
     "shell.execute_reply": "2021-06-01T17:04:32.073218Z"
    },
    "papermill": {
     "duration": 0.316285,
     "end_time": "2021-06-01T17:04:32.073776",
     "exception": false,
     "start_time": "2021-06-01T17:04:31.757491",
     "status": "completed"
    },
    "pycharm": {
     "name": "#%%\n"
    },
    "tags": []
   },
   "outputs": [
    {
     "data": {
      "text/plain": [
       "'format headers'"
      ]
     },
     "execution_count": 11,
     "metadata": {},
     "output_type": "execute_result"
    }
   ],
   "source": [
    "# save the column names to variable, format them, replace headers\n",
    "cols = trandata.columns.values\n",
    "\n",
    "\"\"\"format headers\"\"\"\n",
    "fixedcols = []\n",
    "\n",
    "for f in cols:\n",
    "    fixedhead = f.replace(' ', '_').lower()\n",
    "    fixedcols.append(fixedhead)\n",
    "\n",
    "trandata.columns = fixedcols"
   ]
  },
  {
   "cell_type": "markdown",
   "id": "1326d19a",
   "metadata": {
    "papermill": {
     "duration": 0.265239,
     "end_time": "2021-06-01T17:04:32.615623",
     "exception": false,
     "start_time": "2021-06-01T17:04:32.350384",
     "status": "completed"
    },
    "pycharm": {
     "name": "#%% md\n"
    },
    "tags": []
   },
   "source": [
    "#### Update Verification 1"
   ]
  },
  {
   "cell_type": "code",
   "execution_count": 12,
   "id": "f6682223",
   "metadata": {
    "execution": {
     "iopub.execute_input": "2021-06-01T17:04:33.188663Z",
     "iopub.status.busy": "2021-06-01T17:04:33.186667Z",
     "iopub.status.idle": "2021-06-01T17:04:33.520831Z",
     "shell.execute_reply": "2021-06-01T17:04:33.521833Z"
    },
    "papermill": {
     "duration": 0.619165,
     "end_time": "2021-06-01T17:04:33.522832",
     "exception": false,
     "start_time": "2021-06-01T17:04:32.903667",
     "status": "completed"
    },
    "pycharm": {
     "name": "#%%\n"
    },
    "tags": []
   },
   "outputs": [
    {
     "name": "stdout",
     "output_type": "stream",
     "text": [
      "|    | Original                                                        | Transformed                                                     |\n",
      "|---:|:----------------------------------------------------------------|:----------------------------------------------------------------|\n",
      "|  0 | Submission File                                                 | submission_file                                                 |\n",
      "|  1 | Business Unit                                                   | business_unit                                                   |\n",
      "|  2 | Country                                                         | country                                                         |\n",
      "|  3 | Currency                                                        | currency                                                        |\n",
      "|  4 | Region                                                          | region                                                          |\n",
      "|  5 | Reporting Date From                                             | reporting_date_from                                             |\n",
      "|  6 | Reporting Date To                                               | reporting_date_to                                               |\n",
      "|  7 | Date of Analysis                                                | date_of_analysis                                                |\n",
      "|  8 | Type of Analysis                                                | type_of_analysis                                                |\n",
      "|  9 | Analysed Months                                                 | analysed_months                                                 |\n",
      "| 10 | Reporting Year                                                  | reporting_year                                                  |\n",
      "| 11 | Reporting Quarter                                               | reporting_quarter                                               |\n",
      "| 12 | Reporting Month                                                 | reporting_month                                                 |\n",
      "| 13 | Type of Business                                                | type_of_business                                                |\n",
      "| 14 | Type of Account                                                 | type_of_account                                                 |\n",
      "| 15 | Distribution Type                                               | distribution_type                                               |\n",
      "| 16 | LOB                                                             | lob                                                             |\n",
      "| 17 | Distribution Channel                                            | distribution_channel                                            |\n",
      "| 18 | Sub LOB                                                         | sub_lob                                                         |\n",
      "| 19 | Business Partner Name                                           | business_partner_name                                           |\n",
      "| 20 | Business Partner ID Number                                      | business_partner_id_number                                      |\n",
      "| 21 | Product Name                                                    | product_name                                                    |\n",
      "| 22 | Product ID Number                                               | product_id_number                                               |\n",
      "| 23 | Product Family                                                  | product_family                                                  |\n",
      "| 24 | Standard Product                                                | standard_product                                                |\n",
      "| 25 | Number of Products per Row                                      | number_of_products_per_row                                      |\n",
      "| 26 | Number of B-Partners per Row                                    | number_of_b-partners_per_row                                    |\n",
      "| 27 | Number of Policies (Written)                                    | number_of_policies_(written)                                    |\n",
      "| 28 | Units of Risk (Written)                                         | units_of_risk_(written)                                         |\n",
      "| 29 | Written Revenues net of Taxes                                   | written_revenues_net_of_taxes                                   |\n",
      "| 30 | Written Revenues                                                | written_revenues                                                |\n",
      "| 31 | Number of Policies (Earned)                                     | number_of_policies_(earned)                                     |\n",
      "| 32 | Units of Risk (Earned)                                          | units_of_risk_(earned)                                          |\n",
      "| 33 | Earned Revenues net of Taxes                                    | earned_revenues_net_of_taxes                                    |\n",
      "| 34 | Earned Revenues                                                 | earned_revenues                                                 |\n",
      "| 35 | Earned Base Commissions                                         | earned_base_commissions                                         |\n",
      "| 36 | Earned Over-Commissions                                         | earned_over-commissions                                         |\n",
      "| 37 | Upfront Cash Payments                                           | upfront_cash_payments                                           |\n",
      "| 38 | Total Compensation                                              | total_compensation                                              |\n",
      "| 39 | Number of Claims (Paid + OCR + IBNR)                            | number_of_claims_(paid_+_ocr_+_ibnr)                            |\n",
      "| 40 | Number of Open Claims                                           | number_of_open_claims                                           |\n",
      "| 41 | Open Claims %                                                   | open_claims_%                                                   |\n",
      "| 42 | Number of Persons Involved in Claims (Paid + OCR + IBNR)        | number_of_persons_involved_in_claims_(paid_+_ocr_+_ibnr)        |\n",
      "| 43 | Paid Claims                                                     | paid_claims                                                     |\n",
      "| 44 | OCR + IBNR                                                      | ocr_+_ibnr                                                      |\n",
      "| 45 | % of IBNR on (OCR + IBNR)                                       | %_of_ibnr_on_(ocr_+_ibnr)                                       |\n",
      "| 46 | Actual Incurred Losses (Paid + OCR + IBNR)                      | actual_incurred_losses_(paid_+_ocr_+_ibnr)                      |\n",
      "| 47 | Internal Variable Costs (excl. AZ Tech Fee)                     | internal_variable_costs_(excl._az_tech_fee)                     |\n",
      "| 48 | AZ Tech Fee                                                     | az_tech_fee                                                     |\n",
      "| 49 | Internal Fixed Costs (excl. HQ Fees)                            | internal_fixed_costs_(excl._hq_fees)                            |\n",
      "| 50 | HQ Fees                                                         | hq_fees                                                         |\n",
      "| 51 | Total Expenses                                                  | total_expenses                                                  |\n",
      "| 52 | Frequency (Earned)                                              | frequency_(earned)                                              |\n",
      "| 53 | Severity                                                        | severity                                                        |\n",
      "| 54 | Risk Premium                                                    | risk_premium                                                    |\n",
      "| 55 | Contribution Margin - BU View                                   | contribution_margin_-_bu_view                                   |\n",
      "| 56 | Contribution Margin % on Fixed Costs - BU View                  | contribution_margin_%_on_fixed_costs_-_bu_view                  |\n",
      "| 57 | Contribution Margin % on Earned Revenues net of Taxes - BU View | contribution_margin_%_on_earned_revenues_net_of_taxes_-_bu_view |\n",
      "| 58 | Contribution Margin - HQ View                                   | contribution_margin_-_hq_view                                   |\n",
      "| 59 | Contribution Margin % on Fixed Costs - HQ View                  | contribution_margin_%_on_fixed_costs_-_hq_view                  |\n",
      "| 60 | Contribution Margin % on Earned Revenues net of Taxes - HQ View | contribution_margin_%_on_earned_revenues_net_of_taxes_-_hq_view |\n",
      "| 61 | Loss Ratio                                                      | loss_ratio                                                      |\n",
      "| 62 | Commission Ratio                                                | commission_ratio                                                |\n",
      "| 63 | Expense Ratio                                                   | expense_ratio                                                   |\n",
      "| 64 | Combined Ratio                                                  | combined_ratio                                                  |\n",
      "| 65 | Profit or Loss                                                  | profit_or_loss                                                  |\n",
      "| 66 | Notes                                                           | notes                                                           |\n",
      "| 67 | Unnamed: 66                                                     | unnamed:_66                                                     |\n",
      "| 68 | concat2                                                         | concat2                                                         |\n",
      "| 69 | comsub                                                          | comsub                                                          |\n",
      "| 70 | expsub                                                          | expsub                                                          |\n",
      "| 71 | Reporting Date From INT                                         | reporting_date_from_int                                         |\n",
      "| 72 | Reporting Date To INT                                           | reporting_date_to_int                                           |\n",
      "| 73 | Date of Analysis INT                                            | date_of_analysis_int                                            |\n",
      "| 74 | Selected Fields for Duplicates                                  | selected_fields_for_duplicates                                  |\n",
      "| 75 | ibnrsub                                                         | ibnrsub                                                         |\n"
     ]
    }
   ],
   "source": [
    "if run_control > -10:\n",
    "    disp = {\"Original\": input.columns, \"Transformed\": trandata.columns}\n",
    "\n",
    "    disp = pd.DataFrame(disp)\n",
    "\n",
    "    print(disp.to_markdown())\n",
    "else:\n",
    "    print(\"Skipped Transformation Report 1\")"
   ]
  },
  {
   "cell_type": "markdown",
   "id": "75593dbe",
   "metadata": {
    "papermill": {
     "duration": 0.286256,
     "end_time": "2021-06-01T17:04:34.131566",
     "exception": false,
     "start_time": "2021-06-01T17:04:33.845310",
     "status": "completed"
    },
    "tags": []
   },
   "source": [
    "#### Remove rows with null business units\n"
   ]
  },
  {
   "cell_type": "code",
   "execution_count": 13,
   "id": "cc7fcf6b",
   "metadata": {
    "execution": {
     "iopub.execute_input": "2021-06-01T17:04:34.742924Z",
     "iopub.status.busy": "2021-06-01T17:04:34.738924Z",
     "iopub.status.idle": "2021-06-01T17:04:34.754450Z",
     "shell.execute_reply": "2021-06-01T17:04:34.755453Z"
    },
    "papermill": {
     "duration": 0.353976,
     "end_time": "2021-06-01T17:04:34.756063",
     "exception": false,
     "start_time": "2021-06-01T17:04:34.402087",
     "status": "completed"
    },
    "pycharm": {
     "name": "#%%\n"
    },
    "tags": []
   },
   "outputs": [],
   "source": [
    "# todo, remove this from read file\n",
    "trandata = trandata[trandata.business_unit.notnull()]"
   ]
  },
  {
   "cell_type": "markdown",
   "id": "2adf8766",
   "metadata": {
    "papermill": {
     "duration": 0.292197,
     "end_time": "2021-06-01T17:04:35.340222",
     "exception": false,
     "start_time": "2021-06-01T17:04:35.048025",
     "status": "completed"
    },
    "tags": []
   },
   "source": [
    "#### Update Verification 2"
   ]
  },
  {
   "cell_type": "code",
   "execution_count": 14,
   "id": "ce4d72a1",
   "metadata": {
    "execution": {
     "iopub.execute_input": "2021-06-01T17:04:36.025609Z",
     "iopub.status.busy": "2021-06-01T17:04:36.010613Z",
     "iopub.status.idle": "2021-06-01T17:04:36.093197Z",
     "shell.execute_reply": "2021-06-01T17:04:36.093737Z"
    },
    "papermill": {
     "duration": 0.491715,
     "end_time": "2021-06-01T17:04:36.094725",
     "exception": false,
     "start_time": "2021-06-01T17:04:35.603010",
     "status": "completed"
    },
    "pycharm": {
     "name": "#%%\n"
    },
    "tags": []
   },
   "outputs": [
    {
     "name": "stdout",
     "output_type": "stream",
     "text": [
      "Row Counts\n",
      "|    | Business Unit   |   Original |   Transformed |\n",
      "|---:|:----------------|-----------:|--------------:|\n",
      "|  0 | AU              |         53 |            53 |\n",
      "|  1 | CA              |         17 |            17 |\n",
      "|  2 | CH              |       3187 |          3187 |\n",
      "|  3 | CZ              |          7 |             7 |\n",
      "|  4 | ES              |         28 |            28 |\n",
      "|  5 | GR              |         15 |            15 |\n",
      "|  6 | IT              |        100 |           100 |\n",
      "|  7 | NL              |        151 |           151 |\n",
      "|  8 | PL              |         27 |            27 |\n",
      "|  9 | PT              |         39 |            39 |\n"
     ]
    }
   ],
   "source": [
    "if run_control > -10:\n",
    "\n",
    "    ibus = input.groupby(['Business Unit']).count()\n",
    "    ibus = ibus.reset_index()\n",
    "    tbus = trandata.groupby(['business_unit']).count()\n",
    "    tbus = tbus.reset_index()\n",
    "\n",
    "    compdata = pd.merge(ibus, tbus, left_on='Business Unit', right_on='business_unit', how='left')\n",
    "\n",
    "    disp = {\"Business Unit\": compdata['Business Unit'], \"Original\": compdata['Earned Revenues net of Taxes'],\n",
    "            \"Transformed\": compdata['earned_revenues_net_of_taxes']}\n",
    "\n",
    "    disp = pd.DataFrame(disp)\n",
    "\n",
    "    print(\"Row Counts\")\n",
    "    print(disp.to_markdown())\n",
    "    \n",
    "else:\n",
    "    \n",
    "    print(\"Skipped Transformation Report 2\")\n"
   ]
  },
  {
   "cell_type": "markdown",
   "id": "e842d71a",
   "metadata": {
    "papermill": {
     "duration": 0.283389,
     "end_time": "2021-06-01T17:04:36.676007",
     "exception": false,
     "start_time": "2021-06-01T17:04:36.392618",
     "status": "completed"
    },
    "tags": []
   },
   "source": [
    "#### Swap  nulls for \"Not Provided\" in 'Sub Lob' and 'Distribution Channel'"
   ]
  },
  {
   "cell_type": "code",
   "execution_count": 15,
   "id": "9fca084c",
   "metadata": {
    "execution": {
     "iopub.execute_input": "2021-06-01T17:04:37.316049Z",
     "iopub.status.busy": "2021-06-01T17:04:37.300042Z",
     "iopub.status.idle": "2021-06-01T17:04:37.321529Z",
     "shell.execute_reply": "2021-06-01T17:04:37.322527Z"
    },
    "papermill": {
     "duration": 0.33348,
     "end_time": "2021-06-01T17:04:37.322527",
     "exception": false,
     "start_time": "2021-06-01T17:04:36.989047",
     "status": "completed"
    },
    "pycharm": {
     "name": "#%%\n"
    },
    "tags": []
   },
   "outputs": [],
   "source": [
    "mults = trandata['sub_lob'][trandata.sub_lob.replace(nan, 'Not Provided').str.contains(',', case=False)]\n",
    "mults = mults.unique()\n",
    "\n",
    "trandata['sub_lob'] = trandata['sub_lob'].fillna('Not Provided')\n",
    "trandata['sub_lob'] = trandata['sub_lob'].replace('', 'Not Provided')\n",
    "trandata['distribution_channel'] = trandata['distribution_channel'].replace('', 'Not Provided').fillna('Not Provided')"
   ]
  },
  {
   "cell_type": "markdown",
   "id": "d3cac5de",
   "metadata": {
    "papermill": {
     "duration": 0.316571,
     "end_time": "2021-06-01T17:04:37.913383",
     "exception": false,
     "start_time": "2021-06-01T17:04:37.596812",
     "status": "completed"
    },
    "tags": []
   },
   "source": [
    "#### Replace multiple entries in \"Sub Lob\" to \"Multiple\""
   ]
  },
  {
   "cell_type": "code",
   "execution_count": 16,
   "id": "c5daba38",
   "metadata": {
    "execution": {
     "iopub.execute_input": "2021-06-01T17:04:38.529481Z",
     "iopub.status.busy": "2021-06-01T17:04:38.523442Z",
     "iopub.status.idle": "2021-06-01T17:04:38.552804Z",
     "shell.execute_reply": "2021-06-01T17:04:38.553811Z"
    },
    "papermill": {
     "duration": 0.326363,
     "end_time": "2021-06-01T17:04:38.554807",
     "exception": false,
     "start_time": "2021-06-01T17:04:38.228444",
     "status": "completed"
    },
    "pycharm": {
     "name": "#%%\n"
    },
    "tags": []
   },
   "outputs": [],
   "source": [
    "for i in mults:\n",
    "    trandata['sub_lob'] = trandata['sub_lob'].replace(i, 'Multiple')\n",
    "\n",
    "# todo automate figuring out which fields fx rates should be applied to somehow"
   ]
  },
  {
   "cell_type": "markdown",
   "id": "488aad4a",
   "metadata": {
    "papermill": {
     "duration": 0.284037,
     "end_time": "2021-06-01T17:04:39.278970",
     "exception": false,
     "start_time": "2021-06-01T17:04:38.994933",
     "status": "completed"
    },
    "tags": []
   },
   "source": [
    "#### Update Verification 3"
   ]
  },
  {
   "cell_type": "code",
   "execution_count": 17,
   "id": "6d6dbdcf",
   "metadata": {
    "execution": {
     "iopub.execute_input": "2021-06-01T17:04:39.872365Z",
     "iopub.status.busy": "2021-06-01T17:04:39.871360Z",
     "iopub.status.idle": "2021-06-01T17:04:40.088665Z",
     "shell.execute_reply": "2021-06-01T17:04:40.090664Z"
    },
    "papermill": {
     "duration": 0.520779,
     "end_time": "2021-06-01T17:04:40.090664",
     "exception": false,
     "start_time": "2021-06-01T17:04:39.569885",
     "status": "completed"
    },
    "pycharm": {
     "name": "#%%\n"
    },
    "tags": []
   },
   "outputs": [],
   "source": [
    "if run_control > -10:\n",
    "\n",
    "    ibus = input.groupby(['Sub LOB']).sum()\n",
    "    ibus = ibus.reset_index()\n",
    "    tbus = trandata.groupby(['sub_lob']).sum()\n",
    "    tbus = tbus.reset_index()\n",
    "\n",
    "    compdatasublob = pd.merge(ibus, tbus, left_on='Sub LOB', right_on='sub_lob', how='outer')\n",
    "\n",
    "    disp1 = pd.DataFrame(\n",
    "        {'Original Sub LOB': compdatasublob['Sub LOB'], 'Transformed Sub LOB': compdatasublob['sub_lob'],\n",
    "         \"Original\": compdatasublob['Earned Revenues net of Taxes'] / 1000,\n",
    "         \"Transformed\": compdatasublob['earned_revenues_net_of_taxes'] / 1000})\n",
    "\n",
    "\n",
    "\n",
    "    tots1 = pd.DataFrame({'Original Total': (input['Earned Revenues net of Taxes']).sum() / 10000,\n",
    "                          \"Transformed Total\": (compdatasublob['earned_revenues_net_of_taxes']).sum() / 10000},\n",
    "                         index=[0])\n",
    "else:\n",
    "    print(\"Skipped Transformation Report 2\")"
   ]
  },
  {
   "cell_type": "markdown",
   "id": "064017dc",
   "metadata": {
    "papermill": {
     "duration": 0.312767,
     "end_time": "2021-06-01T17:04:40.679315",
     "exception": false,
     "start_time": "2021-06-01T17:04:40.366548",
     "status": "completed"
    },
    "tags": []
   },
   "source": [
    "#### Make cflds, a list of currency fields, force to float, coercion is null or string to 0"
   ]
  },
  {
   "cell_type": "code",
   "execution_count": 18,
   "id": "b584561c",
   "metadata": {
    "execution": {
     "iopub.execute_input": "2021-06-01T17:04:41.371850Z",
     "iopub.status.busy": "2021-06-01T17:04:41.364840Z",
     "iopub.status.idle": "2021-06-01T17:04:41.684726Z",
     "shell.execute_reply": "2021-06-01T17:04:41.685727Z"
    },
    "papermill": {
     "duration": 0.687773,
     "end_time": "2021-06-01T17:04:41.686727",
     "exception": false,
     "start_time": "2021-06-01T17:04:40.998954",
     "status": "completed"
    },
    "pycharm": {
     "name": "#%%\n"
    },
    "tags": []
   },
   "outputs": [
    {
     "data": {
      "text/plain": [
       "0          0.00\n",
       "1          0.00\n",
       "2          0.00\n",
       "3        142.68\n",
       "4          0.00\n",
       "         ...   \n",
       "3619    1509.16\n",
       "3620    2164.11\n",
       "3621     309.72\n",
       "3622       0.00\n",
       "3623    1260.00\n",
       "Name: written_revenues_net_of_taxes, Length: 3624, dtype: float64"
      ]
     },
     "execution_count": 18,
     "metadata": {},
     "output_type": "execute_result"
    },
    {
     "data": {
      "text/plain": [
       "0          0.0000\n",
       "1          0.0000\n",
       "2          0.0000\n",
       "3          0.0000\n",
       "4          0.0000\n",
       "          ...    \n",
       "3619    1644.9844\n",
       "3620    2358.8799\n",
       "3621     337.5948\n",
       "3622       0.0000\n",
       "3623    1373.4000\n",
       "Name: written_revenues, Length: 3624, dtype: float64"
      ]
     },
     "execution_count": 18,
     "metadata": {},
     "output_type": "execute_result"
    },
    {
     "data": {
      "text/plain": [
       "0          55.8953\n",
       "1        5529.9513\n",
       "2           0.0000\n",
       "3         142.6800\n",
       "4       32143.8185\n",
       "           ...    \n",
       "3619     1576.8600\n",
       "3620     2085.8000\n",
       "3621       16.5700\n",
       "3622       68.0000\n",
       "3623     1260.0000\n",
       "Name: earned_revenues_net_of_taxes, Length: 3624, dtype: float64"
      ]
     },
     "execution_count": 18,
     "metadata": {},
     "output_type": "execute_result"
    },
    {
     "data": {
      "text/plain": [
       "0          0.0000\n",
       "1          0.0000\n",
       "2          0.0000\n",
       "3          0.0000\n",
       "4          0.0000\n",
       "          ...    \n",
       "3619    1718.7774\n",
       "3620    2273.5220\n",
       "3621      18.0613\n",
       "3622      74.1200\n",
       "3623    1373.4000\n",
       "Name: earned_revenues, Length: 3624, dtype: float64"
      ]
     },
     "execution_count": 18,
     "metadata": {},
     "output_type": "execute_result"
    },
    {
     "data": {
      "text/plain": [
       "0          5.64530\n",
       "1       1290.57530\n",
       "2          0.00000\n",
       "3          0.00000\n",
       "4       7071.64007\n",
       "           ...    \n",
       "3619       0.00000\n",
       "3620       0.00000\n",
       "3621       0.00000\n",
       "3622       0.00000\n",
       "3623       0.00000\n",
       "Name: earned_base_commissions, Length: 3624, dtype: float64"
      ]
     },
     "execution_count": 18,
     "metadata": {},
     "output_type": "execute_result"
    },
    {
     "data": {
      "text/plain": [
       "0       0.0\n",
       "1       0.0\n",
       "2       0.0\n",
       "3       0.0\n",
       "4       0.0\n",
       "       ... \n",
       "3619    0.0\n",
       "3620    0.0\n",
       "3621    0.0\n",
       "3622    0.0\n",
       "3623    0.0\n",
       "Name: earned_over-commissions, Length: 3624, dtype: float64"
      ]
     },
     "execution_count": 18,
     "metadata": {},
     "output_type": "execute_result"
    },
    {
     "data": {
      "text/plain": [
       "0       0.0\n",
       "1       0.0\n",
       "2       0.0\n",
       "3       0.0\n",
       "4       0.0\n",
       "       ... \n",
       "3619    0.0\n",
       "3620    0.0\n",
       "3621    0.0\n",
       "3622    0.0\n",
       "3623    0.0\n",
       "Name: upfront_cash_payments, Length: 3624, dtype: float64"
      ]
     },
     "execution_count": 18,
     "metadata": {},
     "output_type": "execute_result"
    },
    {
     "data": {
      "text/plain": [
       "0          5.64530\n",
       "1       1290.57530\n",
       "2          0.00000\n",
       "3          0.00000\n",
       "4       7071.64007\n",
       "           ...    \n",
       "3619       0.00000\n",
       "3620       0.00000\n",
       "3621       0.00000\n",
       "3622       0.00000\n",
       "3623       0.00000\n",
       "Name: total_compensation, Length: 3624, dtype: float64"
      ]
     },
     "execution_count": 18,
     "metadata": {},
     "output_type": "execute_result"
    },
    {
     "data": {
      "text/plain": [
       "0         0.0000\n",
       "1         0.0000\n",
       "2         0.0000\n",
       "3         0.0000\n",
       "4       819.1621\n",
       "          ...   \n",
       "3619     69.4500\n",
       "3620      0.0000\n",
       "3621    630.1200\n",
       "3622      0.0000\n",
       "3623      0.0000\n",
       "Name: paid_claims, Length: 3624, dtype: float64"
      ]
     },
     "execution_count": 18,
     "metadata": {},
     "output_type": "execute_result"
    },
    {
     "data": {
      "text/plain": [
       "0          8.250237\n",
       "1       1843.793403\n",
       "2          0.000000\n",
       "3         22.575091\n",
       "4       7248.046696\n",
       "           ...     \n",
       "3619    1472.110000\n",
       "3620     608.720000\n",
       "3621       0.000000\n",
       "3622       0.000000\n",
       "3623       0.000000\n",
       "Name: ocr_+_ibnr, Length: 3624, dtype: float64"
      ]
     },
     "execution_count": 18,
     "metadata": {},
     "output_type": "execute_result"
    },
    {
     "data": {
      "text/plain": [
       "0          8.250237\n",
       "1       1843.793403\n",
       "2          0.000000\n",
       "3         22.575091\n",
       "4       8067.208796\n",
       "           ...     \n",
       "3619    1541.560000\n",
       "3620     608.720000\n",
       "3621     630.120000\n",
       "3622       0.000000\n",
       "3623       0.000000\n",
       "Name: actual_incurred_losses_(paid_+_ocr_+_ibnr), Length: 3624, dtype: float64"
      ]
     },
     "execution_count": 18,
     "metadata": {},
     "output_type": "execute_result"
    },
    {
     "data": {
      "text/plain": [
       "0           2.195253\n",
       "1         240.488514\n",
       "2           0.000000\n",
       "3           8.187503\n",
       "4       21750.364703\n",
       "            ...     \n",
       "3619      433.790006\n",
       "3620      341.095979\n",
       "3621      305.054137\n",
       "3622       33.114511\n",
       "3623      835.265953\n",
       "Name: internal_variable_costs_(excl._az_tech_fee), Length: 3624, dtype: float64"
      ]
     },
     "execution_count": 18,
     "metadata": {},
     "output_type": "execute_result"
    },
    {
     "data": {
      "text/plain": [
       "0         1.013645\n",
       "1       111.044207\n",
       "2         0.000000\n",
       "3         3.780533\n",
       "4       625.285543\n",
       "           ...    \n",
       "3619     45.413568\n",
       "3620     60.071040\n",
       "3621      0.477216\n",
       "3622      1.958400\n",
       "3623     36.288000\n",
       "Name: az_tech_fee, Length: 3624, dtype: float64"
      ]
     },
     "execution_count": 18,
     "metadata": {},
     "output_type": "execute_result"
    },
    {
     "data": {
      "text/plain": [
       "0          167.140499\n",
       "1        18285.429711\n",
       "2            0.000000\n",
       "3          620.808918\n",
       "4       107082.243725\n",
       "            ...      \n",
       "3619       272.796780\n",
       "3620       360.843400\n",
       "3621         2.866610\n",
       "3622        19.176000\n",
       "3623       355.320000\n",
       "Name: internal_fixed_costs_(excl._hq_fees), Length: 3624, dtype: float64"
      ]
     },
     "execution_count": 18,
     "metadata": {},
     "output_type": "execute_result"
    },
    {
     "data": {
      "text/plain": [
       "0         11.050191\n",
       "1       1210.541320\n",
       "2          0.000000\n",
       "3         41.213241\n",
       "4       6816.510337\n",
       "           ...     \n",
       "3619      96.976890\n",
       "3620     128.276700\n",
       "3621       1.019055\n",
       "3622       4.182000\n",
       "3623      63.000000\n",
       "Name: hq_fees, Length: 3624, dtype: float64"
      ]
     },
     "execution_count": 18,
     "metadata": {},
     "output_type": "execute_result"
    },
    {
     "data": {
      "text/plain": [
       "0          181.399588\n",
       "1        19847.503753\n",
       "2            0.000000\n",
       "3          673.990196\n",
       "4       136274.404308\n",
       "            ...      \n",
       "3619       848.977244\n",
       "3620       890.287119\n",
       "3621       309.417018\n",
       "3622        58.430911\n",
       "3623      1289.873953\n",
       "Name: total_expenses, Length: 3624, dtype: float64"
      ]
     },
     "execution_count": 18,
     "metadata": {},
     "output_type": "execute_result"
    },
    {
     "data": {
      "text/plain": [
       "0       0.0\n",
       "1       0.0\n",
       "2       0.0\n",
       "3       0.0\n",
       "4       0.0\n",
       "       ... \n",
       "3619    0.0\n",
       "3620    0.0\n",
       "3621    0.0\n",
       "3622    0.0\n",
       "3623    0.0\n",
       "Name: risk_premium, Length: 3624, dtype: float64"
      ]
     },
     "execution_count": 18,
     "metadata": {},
     "output_type": "execute_result"
    },
    {
     "data": {
      "text/plain": [
       "0         -139.399826\n",
       "1       -17451.921156\n",
       "2            0.000000\n",
       "3         -553.885287\n",
       "4      -119269.434674\n",
       "            ...      \n",
       "3619      -813.677244\n",
       "3620       586.792881\n",
       "3621      -922.967018\n",
       "3622         9.569089\n",
       "3623       -29.873953\n",
       "Name: profit_or_loss, Length: 3624, dtype: float64"
      ]
     },
     "execution_count": 18,
     "metadata": {},
     "output_type": "execute_result"
    },
    {
     "data": {
      "text/plain": [
       "0         38.790864\n",
       "1       2044.049876\n",
       "2          0.000000\n",
       "3        108.136872\n",
       "4      -5370.680611\n",
       "           ...     \n",
       "3619    -443.903574\n",
       "3620    1075.912981\n",
       "3621    -919.081353\n",
       "3622      32.927089\n",
       "3623     388.446047\n",
       "Name: contribution_margin_-_hq_view, Length: 3624, dtype: float64"
      ]
     },
     "execution_count": 18,
     "metadata": {},
     "output_type": "execute_result"
    },
    {
     "data": {
      "text/plain": [
       "0          27.740673\n",
       "1         833.508556\n",
       "2           0.000000\n",
       "3          66.923631\n",
       "4      -12187.190948\n",
       "            ...     \n",
       "3619     -540.880464\n",
       "3620      947.636281\n",
       "3621     -920.100408\n",
       "3622       28.745089\n",
       "3623      325.446047\n",
       "Name: contribution_margin_-_bu_view, Length: 3624, dtype: float64"
      ]
     },
     "execution_count": 18,
     "metadata": {},
     "output_type": "execute_result"
    }
   ],
   "source": [
    "cflds = ['written_revenues_net_of_taxes', 'written_revenues', 'earned_revenues_net_of_taxes',\n",
    "         'earned_revenues', 'earned_base_commissions', 'earned_over-commissions', 'upfront_cash_payments',\n",
    "         'total_compensation', 'paid_claims', 'ocr_+_ibnr', 'actual_incurred_losses_(paid_+_ocr_+_ibnr)',\n",
    "         'internal_variable_costs_(excl._az_tech_fee)', 'az_tech_fee', 'internal_fixed_costs_(excl._hq_fees)',\n",
    "         'hq_fees', 'total_expenses', 'risk_premium', 'profit_or_loss', 'contribution_margin_-_hq_view',\n",
    "         'contribution_margin_-_bu_view', ]\n",
    "\n",
    "for i in cflds:\n",
    "    pd.to_numeric(trandata[i], errors='coerce')"
   ]
  },
  {
   "cell_type": "markdown",
   "id": "c4ce7077",
   "metadata": {
    "papermill": {
     "duration": 0.336371,
     "end_time": "2021-06-01T17:04:42.396255",
     "exception": false,
     "start_time": "2021-06-01T17:04:42.059884",
     "status": "completed"
    },
    "tags": []
   },
   "source": [
    "#### Turn selected columns values uppercase"
   ]
  },
  {
   "cell_type": "code",
   "execution_count": 19,
   "id": "14793ac6",
   "metadata": {
    "execution": {
     "iopub.execute_input": "2021-06-01T17:04:43.261420Z",
     "iopub.status.busy": "2021-06-01T17:04:43.224884Z",
     "iopub.status.idle": "2021-06-01T17:04:43.283412Z",
     "shell.execute_reply": "2021-06-01T17:04:43.285409Z"
    },
    "papermill": {
     "duration": 0.399507,
     "end_time": "2021-06-01T17:04:43.286411",
     "exception": false,
     "start_time": "2021-06-01T17:04:42.886904",
     "status": "completed"
    },
    "pycharm": {
     "name": "#%%\n"
    },
    "tags": []
   },
   "outputs": [],
   "source": [
    "validcols = ['business_unit', 'currency', 'region', 'type_of_analysis', 'type_of_business', 'type_of_account', 'lob',\n",
    "             'distribution_type', 'distribution_channel', ]\n",
    "\n",
    "for c in validcols:\n",
    "    trandata[c] = trandata[c].astype(str)\n",
    "    trandata[c] = trandata[c].apply(lambda x: x.upper())"
   ]
  },
  {
   "cell_type": "markdown",
   "id": "77f6cea3",
   "metadata": {
    "papermill": {
     "duration": 0.311321,
     "end_time": "2021-06-01T17:04:43.956019",
     "exception": false,
     "start_time": "2021-06-01T17:04:43.644698",
     "status": "completed"
    },
    "tags": []
   },
   "source": [
    "#### Read the values from the Global Attribute Catalog, one field per loop iterance and xlsx sheet."
   ]
  },
  {
   "cell_type": "code",
   "execution_count": 20,
   "id": "da2d642f",
   "metadata": {
    "execution": {
     "iopub.execute_input": "2021-06-01T17:04:44.639386Z",
     "iopub.status.busy": "2021-06-01T17:04:44.634368Z",
     "iopub.status.idle": "2021-06-01T17:04:47.752653Z",
     "shell.execute_reply": "2021-06-01T17:04:47.750657Z"
    },
    "papermill": {
     "duration": 3.470538,
     "end_time": "2021-06-01T17:04:47.752653",
     "exception": false,
     "start_time": "2021-06-01T17:04:44.282115",
     "status": "completed"
    },
    "pycharm": {
     "name": "#%%\n"
    },
    "tags": []
   },
   "outputs": [],
   "source": [
    "checktabs = []\n",
    "\n",
    "\n",
    "\n",
    "for s in validcols:\n",
    "    t = pd.read_excel(atcat, sheet_name = s )\n",
    "    checktabs.append([[s], [t]])\n",
    "\n",
    "gacout = []\n"
   ]
  },
  {
   "cell_type": "markdown",
   "id": "4e809830",
   "metadata": {
    "papermill": {
     "duration": 0.296387,
     "end_time": "2021-06-01T17:04:48.367023",
     "exception": false,
     "start_time": "2021-06-01T17:04:48.070636",
     "status": "completed"
    },
    "tags": []
   },
   "source": [
    "#### Compare the lists from the previous step and each field. Find those that do not match, make lists of unique values\n",
    "#### replace any that have replacements in GPPM inoout already, make a list of values without any matches.\n"
   ]
  },
  {
   "cell_type": "code",
   "execution_count": 21,
   "id": "ff66d437",
   "metadata": {
    "execution": {
     "iopub.execute_input": "2021-06-01T17:04:49.090554Z",
     "iopub.status.busy": "2021-06-01T17:04:49.069027Z",
     "iopub.status.idle": "2021-06-01T17:04:49.227083Z",
     "shell.execute_reply": "2021-06-01T17:04:49.228075Z"
    },
    "papermill": {
     "duration": 0.559149,
     "end_time": "2021-06-01T17:04:49.229078",
     "exception": false,
     "start_time": "2021-06-01T17:04:48.669929",
     "status": "completed"
    },
    "pycharm": {
     "name": "#%%\n"
    },
    "tags": []
   },
   "outputs": [],
   "source": [
    "# todo rewrite this beginner code to use dicts and simplify\n",
    "\n",
    "for u in enumerate(validcols):\n",
    "    trandata.loc[0:len(trandata[u[1]]), u[1]] = trandata[u[1]].replace(\n",
    "        [checktabs[u[0]][1][0]['Upper_Vers']][0].to_numpy(), [checktabs[u[0]][1][0][u[1]]][0].to_numpy())\n",
    "    d = list(checktabs[u[0]][1][0]['Non Matches'].drop_duplicates().dropna().append(\n",
    "        pd.Series(trandata[u[1]][~trandata[u[1]].isin(checktabs[u[0]][1][0][u[1]])].drop_duplicates().dropna()),\n",
    "        ignore_index=True))\n",
    "    g = [checktabs[u[0]][1][0][str(u[1])], checktabs[u[0]][1][0]['Upper_Vers'], checktabs[u[0]][1][0]['Unnamed: 2'],\n",
    "         pd.Series(d, dtype='object').drop_duplicates().dropna(), checktabs[u[0]][1][0]['User Defined Corrections']]\n",
    "    gacout.append(list([g, u[1]]))"
   ]
  },
  {
   "cell_type": "markdown",
   "id": "1e168717",
   "metadata": {
    "papermill": {
     "duration": 0.308741,
     "end_time": "2021-06-01T17:04:49.855741",
     "exception": false,
     "start_time": "2021-06-01T17:04:49.547000",
     "status": "completed"
    },
    "tags": []
   },
   "source": [
    "#### Rebuild the GPPM input file, with the replaced values in the bad values column of each sheet.\n",
    "#### Step one, make and xlsx with a notes page."
   ]
  },
  {
   "cell_type": "code",
   "execution_count": 22,
   "id": "19f83ac5",
   "metadata": {
    "execution": {
     "iopub.execute_input": "2021-06-01T17:04:50.499369Z",
     "iopub.status.busy": "2021-06-01T17:04:50.497351Z",
     "iopub.status.idle": "2021-06-01T17:04:50.913272Z",
     "shell.execute_reply": "2021-06-01T17:04:50.914277Z"
    },
    "papermill": {
     "duration": 0.734716,
     "end_time": "2021-06-01T17:04:50.914277",
     "exception": false,
     "start_time": "2021-06-01T17:04:50.179561",
     "status": "completed"
    },
    "pycharm": {
     "name": "#%%\n"
    },
    "tags": []
   },
   "outputs": [],
   "source": [
    "w = ExcelWriter(atcat)\n",
    "notes = pd.DataFrame([\n",
    "    \"This page is script generated during the source creation process. Do not edit these notes directly in the file as they will be overwritten\",\n",
    "    \"\", \"\"\n",
    "    , \" Purpose :     to manage attribute entries in the data collection process, this workbook documents and organizes all entries and also allows a user to swap those that do \\\n",
    "                        not conform to validation rules  with an entry of their choice\",\n",
    "    \" Each attribute field that requires validation has its own sheet tab\", \"\"\n",
    "    , \"Column A:    of each sheet tab contains all unique acceptable responses\",\n",
    "    \"Column B:    an upper case version, to wrangle case mismatches\",\n",
    "    \"Column D:   is generated by the process, this is a list of an uppercase version of each unique unacceptable response, this builds over time with each collection\",\n",
    "    \"Column E:   you can enter accpetable response here (sase sensitive) to be swapped out in the data, save and exit this file, run the process again and they will be replaced\"\n",
    "    , \"\", \"\", \"Gavin Harmon 9 - July -2020\"])\n",
    "\n",
    "notes.columns = ['Notes']\n",
    "\n",
    "notes.to_excel(w, index=False, sheet_name=\"Notes\")"
   ]
  },
  {
   "cell_type": "markdown",
   "id": "6a506461",
   "metadata": {
    "papermill": {
     "duration": 0.303867,
     "end_time": "2021-06-01T17:04:51.517791",
     "exception": false,
     "start_time": "2021-06-01T17:04:51.213924",
     "status": "completed"
    },
    "tags": []
   },
   "source": [
    "#### Step two, build the new sheets for each validcols field"
   ]
  },
  {
   "cell_type": "code",
   "execution_count": 23,
   "id": "08df5b77",
   "metadata": {
    "execution": {
     "iopub.execute_input": "2021-06-01T17:04:52.197132Z",
     "iopub.status.busy": "2021-06-01T17:04:52.166129Z",
     "iopub.status.idle": "2021-06-01T17:04:52.789428Z",
     "shell.execute_reply": "2021-06-01T17:04:52.790429Z"
    },
    "papermill": {
     "duration": 0.944417,
     "end_time": "2021-06-01T17:04:52.791428",
     "exception": false,
     "start_time": "2021-06-01T17:04:51.847011",
     "status": "completed"
    },
    "pycharm": {
     "name": "#%%\n"
    },
    "tags": []
   },
   "outputs": [],
   "source": [
    "for v in enumerate(validcols):\n",
    "    df = pd.DataFrame(gacout[v[0]][0], index=[f\"{v[1]}\", 'Upper_Vers', '', 'Non Matches', 'User Defined Corrections']).T\n",
    "    df.to_excel(w, index=False, sheet_name=gacout[v[0]][1])\n",
    "w.save()"
   ]
  },
  {
   "cell_type": "markdown",
   "id": "a3758512",
   "metadata": {
    "papermill": {
     "duration": 0.317104,
     "end_time": "2021-06-01T17:04:53.423138",
     "exception": false,
     "start_time": "2021-06-01T17:04:53.106034",
     "status": "completed"
    },
    "tags": []
   },
   "source": [
    "#### Step three, read these lists back in, make the necessary replacements in the DataFrame"
   ]
  },
  {
   "cell_type": "code",
   "execution_count": 24,
   "id": "e3e115dd",
   "metadata": {
    "execution": {
     "iopub.execute_input": "2021-06-01T17:04:54.070016Z",
     "iopub.status.busy": "2021-06-01T17:04:54.065500Z",
     "iopub.status.idle": "2021-06-01T17:04:56.709513Z",
     "shell.execute_reply": "2021-06-01T17:04:56.711512Z"
    },
    "papermill": {
     "duration": 2.965526,
     "end_time": "2021-06-01T17:04:56.711512",
     "exception": false,
     "start_time": "2021-06-01T17:04:53.745986",
     "status": "completed"
    },
    "pycharm": {
     "name": "#%%\n"
    },
    "tags": []
   },
   "outputs": [],
   "source": [
    "for s in validcols:\n",
    "    t = pd.read_excel(f'//hecate/Insurance_US/Product Development/Product Management/Global PPM/Reporting/Data Collection/Production/{str(percode)}\\\\{str(percode)}_Attribute_Catalog.xlsx', sheet_name = s )\n",
    "    checktabs.append([[s],[t]])"
   ]
  },
  {
   "cell_type": "code",
   "execution_count": 25,
   "id": "1010f051",
   "metadata": {
    "execution": {
     "iopub.execute_input": "2021-06-01T17:04:57.415169Z",
     "iopub.status.busy": "2021-06-01T17:04:57.393168Z",
     "iopub.status.idle": "2021-06-01T17:04:57.491818Z",
     "shell.execute_reply": "2021-06-01T17:04:57.493820Z"
    },
    "papermill": {
     "duration": 0.454574,
     "end_time": "2021-06-01T17:04:57.493820",
     "exception": false,
     "start_time": "2021-06-01T17:04:57.039246",
     "status": "completed"
    },
    "pycharm": {
     "name": "#%%\n"
    },
    "tags": []
   },
   "outputs": [],
   "source": [
    "gacout = []\n",
    "\n",
    "for u in enumerate(validcols):\n",
    "    trandata.loc[0:len(trandata[u[1]]), u[1]] = trandata[u[1]].replace(\n",
    "        [checktabs[u[0]][1][0]['Non Matches']][0].to_numpy(),\n",
    "        [checktabs[u[0]][1][0]['User Defined Corrections']][0].to_numpy())\n",
    "repper = trandata[['business_unit', 'reporting_date_to']]\n",
    "repper = pd.DataFrame({\"business_unit\": (repper['business_unit']), \"YearMo\": (repper['reporting_date_to'])})\n",
    "minrep = repper.groupby(['business_unit']).max()\n",
    "a = trandata['business_unit'].replace(list(minrep.axes[0]), minrep.get(\"YearMo\"))\n",
    "trandata['rep_date'] = a\n",
    "trandata.loc[0:len(trandata['business_partner_id_number']), 'business_partner_id_number'] = trandata[\n",
    "    'business_partner_id_number'].replace('0', 'Not Provided').fillna('Not Provided')\n",
    "trandata.loc[0:len(trandata['product_id_number']), 'product_id_number'] = trandata['product_id_number'].replace('0',\n",
    "                                                                                                                'Not Provided').replace(\n",
    "    '-', 'Not Provided').fillna('Not Provided')\n",
    "trandata.loc[0:len(trandata['sub_lob']), 'sub_lob'] = trandata['sub_lob'].replace('0', 'Not Provided').replace('-',\n",
    "                                                                                                               'Not Provided').replace(\n",
    "    'Other', 'Not Provided').fillna('Not Provided')"
   ]
  },
  {
   "cell_type": "markdown",
   "id": "18715266",
   "metadata": {
    "papermill": {
     "duration": 0.302523,
     "end_time": "2021-06-01T17:04:58.112979",
     "exception": false,
     "start_time": "2021-06-01T17:04:57.810456",
     "status": "completed"
    },
    "tags": []
   },
   "source": [
    "#### Evaluate the current state, alert the user if input is needed.\n",
    "- At the end of this process, alert the user with instructions if they need to adjust bad entries for validated fields.\n",
    "\n"
   ]
  },
  {
   "cell_type": "code",
   "execution_count": 26,
   "id": "49192c1c",
   "metadata": {
    "execution": {
     "iopub.execute_input": "2021-06-01T17:04:58.775909Z",
     "iopub.status.busy": "2021-06-01T17:04:58.774909Z",
     "iopub.status.idle": "2021-06-01T17:05:02.901146Z",
     "shell.execute_reply": "2021-06-01T17:05:02.902146Z"
    },
    "papermill": {
     "duration": 4.485591,
     "end_time": "2021-06-01T17:05:02.903159",
     "exception": false,
     "start_time": "2021-06-01T17:04:58.417568",
     "status": "completed"
    },
    "tags": []
   },
   "outputs": [],
   "source": [
    "#see above note about converting to dictionaries\n",
    "\n",
    "#Make lists of all the attribute catalog entries that do not have a correction as a list of errors.\n",
    "err_messages = []\n",
    "\n",
    "for idx, i in enumerate(checktabs):\n",
    "    subset_no_nans =  i[1][0][['Non Matches', 'User Defined Corrections']][~i[1][0]['Non Matches'].isna()]\n",
    "    entries = subset_no_nans['Non Matches'][subset_no_nans['User Defined Corrections'].isna()]. tolist()\n",
    "    if len(entries) > 0: \n",
    "        err_messages.append(f'Please deal with bad entries {entries} on tab {i[0][0]} of the Attribute Catalog.')\n",
    "\n",
    "#raise an error to stop the process and give instructions\n",
    "\n",
    "# define Python user-defined exceptions\n",
    "\n",
    "\n",
    "# define Python user-defined exceptions\n",
    "class Error(Exception):\n",
    "    \"\"\"Base class for other exceptions\"\"\"\n",
    "    pass\n",
    "\n",
    "class BadEntriesError(Error):\n",
    "    \"\"\"Raised when the input value is too large\"\"\"\n",
    "    for i in err_messages : print(i)\n",
    "    \n",
    "    os.startfile(atcat)\n",
    "\n",
    "if len(err_messages) > 0:\n",
    "    raise BadEntriesError\n",
    "else:\n",
    "    pass\n",
    "        "
   ]
  },
  {
   "cell_type": "markdown",
   "id": "6d3c4e5b",
   "metadata": {
    "papermill": {
     "duration": 0.353106,
     "end_time": "2021-06-01T17:05:04.318089",
     "exception": false,
     "start_time": "2021-06-01T17:05:03.964983",
     "status": "completed"
    },
    "tags": []
   },
   "source": [
    "#### Remove empty rows, if there is no claims experience and no revenue for a 12 month period, it should not be included"
   ]
  },
  {
   "cell_type": "code",
   "execution_count": 27,
   "id": "dcd7afe2",
   "metadata": {
    "execution": {
     "iopub.execute_input": "2021-06-01T17:05:05.050946Z",
     "iopub.status.busy": "2021-06-01T17:05:05.048947Z",
     "iopub.status.idle": "2021-06-01T17:05:05.089944Z",
     "shell.execute_reply": "2021-06-01T17:05:05.090952Z"
    },
    "papermill": {
     "duration": 0.445712,
     "end_time": "2021-06-01T17:05:05.091948",
     "exception": false,
     "start_time": "2021-06-01T17:05:04.646236",
     "status": "completed"
    },
    "pycharm": {
     "name": "#%%\n"
    },
    "tags": []
   },
   "outputs": [],
   "source": [
    "trandata = trandata.loc[(trandata['units_of_risk_(written)'].fillna(0).replace('', 0)\n",
    "                         + trandata['written_revenues_net_of_taxes'].fillna(0).replace('', 0)\n",
    "                         + trandata['written_revenues'].fillna(0).replace('', 0)\n",
    "                         + trandata['number_of_policies_(earned)'].fillna(0).replace('', 0)\n",
    "                         + trandata['units_of_risk_(earned)'].fillna(0).replace('', 0)\n",
    "                         + trandata['earned_revenues_net_of_taxes'].fillna(0).replace('', 0)\n",
    "                         + trandata['earned_revenues'].fillna(0).replace('', 0)\n",
    "                         + trandata['earned_base_commissions'].fillna(0).replace('', 0)\n",
    "                         + trandata['upfront_cash_payments'].fillna(0).replace('', 0)\n",
    "                         + trandata['earned_over-commissions'].fillna(0).replace('', 0)\n",
    "                         + trandata['total_compensation'].fillna(0).replace('', 0)\n",
    "                         + trandata['number_of_claims_(paid_+_ocr_+_ibnr)'].fillna(0).replace('', 0)\n",
    "                         + trandata['number_of_open_claims'].fillna(0).replace('', 0)\n",
    "                         + trandata['open_claims_%'].fillna(0).replace('', 0)\n",
    "                         + trandata['number_of_persons_involved_in_claims_(paid_+_ocr_+_ibnr)'].fillna(0).replace('', 0)\n",
    "                         + trandata['paid_claims'].fillna(0).replace('', 0)\n",
    "                         + trandata['ocr_+_ibnr'].fillna(0).replace('', 0)\n",
    "                         + trandata['actual_incurred_losses_(paid_+_ocr_+_ibnr)'].fillna(0).replace('', 0)\n",
    "                         + trandata['internal_variable_costs_(excl._az_tech_fee)'].fillna(0).replace('', 0)\n",
    "                         + trandata['az_tech_fee'].fillna(0).replace('', 0)\n",
    "                         + trandata['internal_fixed_costs_(excl._hq_fees)'].fillna(0).replace('', 0)\n",
    "                         + trandata['hq_fees'].fillna(0).replace('', 0)\n",
    "                         + trandata['total_expenses'].fillna(0).replace('', 0)\n",
    "                         + trandata['frequency_(earned)'].fillna(0).replace('', 0)\n",
    "                         + trandata['severity'].fillna(0).replace('', 0))\n",
    "                        != 0]"
   ]
  },
  {
   "cell_type": "markdown",
   "id": "091d4a03",
   "metadata": {
    "papermill": {
     "duration": 0.307954,
     "end_time": "2021-06-01T17:05:05.737981",
     "exception": false,
     "start_time": "2021-06-01T17:05:05.430027",
     "status": "completed"
    },
    "pycharm": {
     "name": "#%% md\n"
    },
    "tags": []
   },
   "source": [
    "#### Output temp file"
   ]
  },
  {
   "cell_type": "code",
   "execution_count": 28,
   "id": "dedfbc8b",
   "metadata": {
    "execution": {
     "iopub.execute_input": "2021-06-01T17:05:06.644690Z",
     "iopub.status.busy": "2021-06-01T17:05:06.623689Z",
     "iopub.status.idle": "2021-06-01T17:05:16.097620Z",
     "shell.execute_reply": "2021-06-01T17:05:16.098619Z"
    },
    "papermill": {
     "duration": 10.050788,
     "end_time": "2021-06-01T17:05:16.098619",
     "exception": false,
     "start_time": "2021-06-01T17:05:06.047831",
     "status": "completed"
    },
    "pycharm": {
     "name": "#%%\n"
    },
    "tags": []
   },
   "outputs": [],
   "source": [
    "# trandata.to_parquet(\n",
    "#     f'//hecate/Insurance_US/Product Development/Product Management/Global PPM/Reporting/Data Collection/Production/{str(percode)}\\\\{str(percode)}.localcur.parquet', engine = \"pyarrow\")\n",
    "\n",
    "trandata.to_csv(\n",
    "    \n",
    "     f'//hecate/Insurance_US/Product Development/Product Management/Global PPM/Reporting/Data Collection/Production/{str(percode)}\\\\{str(percode)}.localcur.csv', index = False)\n"
   ]
  },
  {
   "cell_type": "markdown",
   "id": "1269b883",
   "metadata": {
    "papermill": {
     "duration": 0.388277,
     "end_time": "2021-06-01T17:05:16.830778",
     "exception": false,
     "start_time": "2021-06-01T17:05:16.442501",
     "status": "completed"
    },
    "tags": []
   },
   "source": [
    "#### Store the DataFrame for other noteboks to use"
   ]
  },
  {
   "cell_type": "code",
   "execution_count": 29,
   "id": "7c94128d",
   "metadata": {
    "execution": {
     "iopub.execute_input": "2021-06-01T17:05:18.047649Z",
     "iopub.status.busy": "2021-06-01T17:05:18.045648Z",
     "iopub.status.idle": "2021-06-01T17:05:18.092800Z",
     "shell.execute_reply": "2021-06-01T17:05:18.094795Z"
    },
    "papermill": {
     "duration": 0.522279,
     "end_time": "2021-06-01T17:05:18.094795",
     "exception": false,
     "start_time": "2021-06-01T17:05:17.572516",
     "status": "completed"
    },
    "tags": []
   },
   "outputs": [
    {
     "name": "stdout",
     "output_type": "stream",
     "text": [
      "Stored 'py_t_df' (DataFrame)\n"
     ]
    }
   ],
   "source": [
    "py_t_df = trandata\n",
    "\n",
    "%store py_t_df\n"
   ]
  }
 ],
 "metadata": {
  "celltoolbar": "Tags",
  "kernelspec": {
   "display_name": "Python 3",
   "language": "python",
   "name": "python3"
  },
  "language_info": {
   "codemirror_mode": {
    "name": "ipython",
    "version": 3
   },
   "file_extension": ".py",
   "mimetype": "text/x-python",
   "name": "python",
   "nbconvert_exporter": "python",
   "pygments_lexer": "ipython3",
   "version": "3.7.6"
  },
  "papermill": {
   "default_parameters": {},
   "duration": 76.102,
   "end_time": "2021-06-01T17:05:19.165503",
   "environment_variables": {},
   "exception": null,
   "input_path": "pipeline/py_transform.ipynb",
   "output_path": "//hecate/Insurance_US/Product Development/Product Management/Global PPM/Reporting/Data Collection/Pipeline Reporting Scripts/GPMpipeline/instances/2021.Q1\\pipeline\\py_transform06012021130125--live run, removed r transformations.ipynb",
   "parameters": {
    "commit_message": "Demo Test",
    "inst_datetime": "06012021130125",
    "percode": "2021.Q1",
    "run_control": 1
   },
   "start_time": "2021-06-01T17:04:03.063503",
   "version": "2.3.3"
  }
 },
 "nbformat": 4,
 "nbformat_minor": 5
}