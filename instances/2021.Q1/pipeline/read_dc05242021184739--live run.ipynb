{
 "cells": [
  {
   "cell_type": "markdown",
   "id": "7c422b81",
   "metadata": {
    "papermill": {
     "duration": 0.266573,
     "end_time": "2021-05-25T03:24:37.680743",
     "exception": false,
     "start_time": "2021-05-25T03:24:37.414170",
     "status": "completed"
    },
    "tags": []
   },
   "source": [
    "<img src=\"../images/AzPTravel_PPM.png\">"
   ]
  },
  {
   "cell_type": "markdown",
   "id": "2ea5b41e",
   "metadata": {
    "papermill": {
     "duration": null,
     "end_time": null,
     "exception": null,
     "start_time": null,
     "status": "completed"
    },
    "pycharm": {
     "name": "#%% md\n"
    },
    "tags": []
   },
   "source": [
    "## Read in Data Collection Source\n",
    "\n",
    "#### This script fetches the current data collection submission file from the completed \"prep.ipynb\" step into the pipeline.\n"
   ]
  },
  {
   "cell_type": "markdown",
   "id": "53e044eb",
   "metadata": {
    "papermill": {
     "duration": null,
     "end_time": null,
     "exception": null,
     "start_time": null,
     "status": "completed"
    },
    "tags": []
   },
   "source": [
    "### User Variables\n",
    "- These are overwritten if inherited from run_control.ipynb.\n",
    "- Feel Free to reset them for a manual run if you like\n",
    "- Do not save without percode = \"-f\""
   ]
  },
  {
   "cell_type": "code",
   "execution_count": null,
   "id": "75fba52f",
   "metadata": {
    "papermill": {
     "duration": null,
     "end_time": null,
     "exception": null,
     "start_time": null,
     "status": "completed"
    },
    "pycharm": {
     "name": "#%%\n"
    },
    "tags": [
     "parameters"
    ]
   },
   "outputs": [],
   "source": [
    "commit_message = \"Development and testing.\"\n",
    "# Give a brief reason for the run.\n",
    "\n",
    "run_control = 0\n",
    "#run_type = 0 - Lite run with no reporting, not recommended.\n",
    "#run_type = 1 - Lite run with normal reporting, default setting.\n",
    "#run_type = 2 - Heavy run with full reporting, available for audits and troubleshooting.\n",
    "#run_type = 5 - A default setting. Indicates the script is being run by an outside process without an inherited value\n",
    "\n",
    "percode = \"2021.Q1\"\n",
    "# Data Collection Code, this controls file paths and output names\n",
    "# \"-f\" is the value indicating a bad inheritance from run with arg\n",
    "\n",
    "#----------\n",
    "# do not edit - this either inherits the full instance timestamp from the papermill book or captures the run time of this script.\n",
    "from datetime import datetime\n",
    "inst_datetime = datetime.now().strftime(\"%m%d%Y%H%M%S\")"
   ]
  },
  {
   "cell_type": "code",
   "execution_count": null,
   "id": "39947a9b",
   "metadata": {
    "papermill": {
     "duration": null,
     "end_time": null,
     "exception": null,
     "start_time": null,
     "status": "completed"
    },
    "tags": [
     "injected-parameters"
    ]
   },
   "outputs": [],
   "source": [
    "# Parameters\n",
    "run_control = 1\n",
    "percode = \"2021.Q1\"\n",
    "commit_message = \"Edited data for Austraila, json 2 parquet and add comments from email. Begin general evaluation of data submissions.\"\n",
    "inst_datetime = \"05242021184739\"\n"
   ]
  },
  {
   "cell_type": "markdown",
   "id": "6641ba55",
   "metadata": {
    "papermill": {
     "duration": null,
     "end_time": null,
     "exception": null,
     "start_time": null,
     "status": "completed"
    },
    "tags": []
   },
   "source": [
    "#### import packages"
   ]
  },
  {
   "cell_type": "code",
   "execution_count": null,
   "id": "bf41a844",
   "metadata": {
    "papermill": {
     "duration": null,
     "end_time": null,
     "exception": null,
     "start_time": null,
     "status": "completed"
    },
    "pycharm": {
     "name": "#%%\n"
    },
    "tags": []
   },
   "outputs": [],
   "source": [
    "import os # System commands\n",
    "import sys # System commands\n",
    "\n",
    "import getpass # parquet file read/write\n",
    "import json # json file read/write\n",
    "from sklearn import datasets # pass vars between .ipynb s\n",
    "\n",
    "import matplotlib.pyplot as plt #Plots and Graphs\n",
    "import pandas as pd #DataFrame and math\n"
   ]
  },
  {
   "cell_type": "markdown",
   "id": "987a25c5",
   "metadata": {
    "papermill": {
     "duration": null,
     "end_time": null,
     "exception": null,
     "start_time": null,
     "status": "completed"
    },
    "tags": []
   },
   "source": [
    "#### Default Variables, these govern logic, do not edit."
   ]
  },
  {
   "cell_type": "code",
   "execution_count": null,
   "id": "b799e540",
   "metadata": {
    "papermill": {
     "duration": null,
     "end_time": null,
     "exception": null,
     "start_time": null,
     "status": "completed"
    },
    "pycharm": {
     "name": "#%%\n"
    },
    "tags": []
   },
   "outputs": [],
   "source": [
    "default_dc = \"20XX.QX\"\n",
    "default_rc = 0 #extra lite mode\n",
    "dummy_perc = \"33Q3\" # bad inheritance"
   ]
  },
  {
   "cell_type": "markdown",
   "id": "3e583b6f",
   "metadata": {
    "papermill": {
     "duration": null,
     "end_time": null,
     "exception": null,
     "start_time": null,
     "status": "completed"
    },
    "pycharm": {
     "name": "#%% md\n"
    },
    "tags": []
   },
   "source": [
    "#### Script determining run context ie, manual, run_control.ipynb, or other."
   ]
  },
  {
   "cell_type": "code",
   "execution_count": null,
   "id": "5bad37c1",
   "metadata": {
    "papermill": {
     "duration": null,
     "end_time": null,
     "exception": null,
     "start_time": null,
     "status": "completed"
    },
    "pycharm": {
     "name": "#%%\n"
    },
    "tags": [
     "parameters"
    ]
   },
   "outputs": [],
   "source": [
    "if run_control == 5:\n",
    "    \n",
    "    run_control = default_rc\n",
    "    \n",
    "else:\n",
    "    \n",
    "    run_control = run_control\n",
    "\n",
    "try:\n",
    "    \n",
    "    if sys.argv[1] == \"-f\":\n",
    "        \n",
    "        percode = percode\n",
    "        \n",
    "    else:\n",
    "        \n",
    "        percode = sys.argv[1]\n",
    "\n",
    "except IndexError:\n",
    "    \n",
    "    percode = default_dc\n",
    "\n",
    "except NameError:\n",
    "\n",
    "    percode = default_dc\n"
   ]
  },
  {
   "cell_type": "markdown",
   "id": "e33a26bd",
   "metadata": {
    "papermill": {
     "duration": null,
     "end_time": null,
     "exception": null,
     "start_time": null,
     "status": "completed"
    },
    "tags": []
   },
   "source": [
    "#### style settings"
   ]
  },
  {
   "cell_type": "code",
   "execution_count": null,
   "id": "5fa5eb61",
   "metadata": {
    "papermill": {
     "duration": null,
     "end_time": null,
     "exception": null,
     "start_time": null,
     "status": "completed"
    },
    "tags": []
   },
   "outputs": [],
   "source": [
    "from IPython.core.interactiveshell import InteractiveShell\n",
    "InteractiveShell.ast_node_interactivity = \"all\""
   ]
  },
  {
   "cell_type": "markdown",
   "id": "1768ed2f",
   "metadata": {
    "papermill": {
     "duration": null,
     "end_time": null,
     "exception": null,
     "start_time": null,
     "status": "completed"
    },
    "pycharm": {
     "name": "#%% md\n"
    },
    "tags": []
   },
   "source": [
    "#### Make paths for the source folder"
   ]
  },
  {
   "cell_type": "code",
   "execution_count": null,
   "id": "2dc090f7",
   "metadata": {
    "papermill": {
     "duration": null,
     "end_time": null,
     "exception": null,
     "start_time": null,
     "status": "completed"
    },
    "pycharm": {
     "name": "#%%\n"
    },
    "tags": []
   },
   "outputs": [],
   "source": [
    "rt_path = f'//hecate/Insurance_US/Product Development/Product Management/Global PPM/Reporting/Data Collection/Production/{str(percode)}'\n"
   ]
  },
  {
   "cell_type": "markdown",
   "id": "61c18394",
   "metadata": {
    "papermill": {
     "duration": null,
     "end_time": null,
     "exception": null,
     "start_time": null,
     "status": "completed"
    },
    "tags": []
   },
   "source": [
    "#### Set file variables"
   ]
  },
  {
   "cell_type": "code",
   "execution_count": null,
   "id": "821e9c94",
   "metadata": {
    "papermill": {
     "duration": null,
     "end_time": null,
     "exception": null,
     "start_time": null,
     "status": "completed"
    },
    "tags": []
   },
   "outputs": [],
   "source": [
    "prepparq = os.path.join(str(rt_path), f\"{percode}prep.parquet\")\n",
    "prepfile = os.path.join(str(rt_path), f\"{percode}prep.csv\")\n"
   ]
  },
  {
   "cell_type": "markdown",
   "id": "a1b4a1e8",
   "metadata": {
    "papermill": {
     "duration": null,
     "end_time": null,
     "exception": null,
     "start_time": null,
     "status": "completed"
    },
    "pycharm": {
     "name": "#%% md\n"
    },
    "tags": []
   },
   "source": [
    "- Read each json file into temp DataFrame \"data\".\n",
    "- Prep actions - Strip (trim) leading and trailing spaces values in string columns, remove rows without business units.\n",
    "- Append each json output to into 1 DataFrame \"df\".\n",
    "- Process Cleanup, the indices restart with each append, reset and drop the previous."
   ]
  },
  {
   "cell_type": "code",
   "execution_count": null,
   "id": "5aba64cb",
   "metadata": {
    "papermill": {
     "duration": null,
     "end_time": null,
     "exception": null,
     "start_time": null,
     "status": "completed"
    },
    "pycharm": {
     "name": "#%%\n"
    },
    "tags": []
   },
   "outputs": [],
   "source": [
    "\n",
    "try:\n",
    "    %store -r prep_df\n",
    "    df = prep_df\n",
    "\n",
    "except:\n",
    "    \n",
    "    try:\n",
    "        df = pd.read_parquet(prepparq, engine = \"pyarrow\")\n",
    "    \n",
    "    except:\n",
    "        df = pd.read_csv(prepfile )\n",
    "\n",
    "if run_control > 0:\n",
    "  \n",
    "    os.remove(prepfile)\n",
    "    os.remove(prepparq)\n",
    "\n",
    "else:\n",
    "\n",
    "    pass"
   ]
  },
  {
   "cell_type": "markdown",
   "id": "e6c9c3e1",
   "metadata": {
    "papermill": {
     "duration": null,
     "end_time": null,
     "exception": null,
     "start_time": null,
     "status": "completed"
    },
    "pycharm": {
     "name": "#%% md\n"
    },
    "tags": []
   },
   "source": [
    "#### Upload Charts"
   ]
  },
  {
   "cell_type": "code",
   "execution_count": null,
   "id": "037efea7",
   "metadata": {
    "papermill": {
     "duration": null,
     "end_time": null,
     "exception": null,
     "start_time": null,
     "status": "completed"
    },
    "pycharm": {
     "name": "#%%\n"
    },
    "tags": []
   },
   "outputs": [],
   "source": [
    "def num_format(x):\n",
    "    \"\"\"number format without a currency\"\"\"\n",
    "    return \"{:,.0f}\".format(x)\n",
    "\n",
    "if run_control > 0:\n",
    "\n",
    "    sumdata = df.groupby(['Business Unit']).sum()\n",
    "    sumdata = sumdata.reset_index()\n",
    "    plt.bar(sumdata['Business Unit'], sumdata['Earned Revenues net of Taxes']/1000)\n",
    "    plt.title('Earned Revenue net of Taxes by BU in thousands LC')\n",
    "    plt.show()\n",
    "\n",
    "    countdata = df.groupby(['Business Unit']).count()\n",
    "    countdata = countdata.reset_index()\n",
    "    plt.bar(countdata['Business Unit'], countdata['Earned Revenues net of Taxes'])\n",
    "    plt.title('Row Counts by BU')\n",
    "    plt.show()\n",
    "\n",
    "else:\n",
    "    print(\"Charts Skipped\")"
   ]
  },
  {
   "cell_type": "markdown",
   "id": "037087d7",
   "metadata": {
    "papermill": {
     "duration": null,
     "end_time": null,
     "exception": null,
     "start_time": null,
     "status": "completed"
    },
    "tags": []
   },
   "source": [
    "#### Raw files - extensive audit, best to skip unless troubleshooting, may crash a browser"
   ]
  },
  {
   "cell_type": "code",
   "execution_count": null,
   "id": "43b1e342",
   "metadata": {
    "papermill": {
     "duration": null,
     "end_time": null,
     "exception": null,
     "start_time": null,
     "status": "completed"
    },
    "pycharm": {
     "name": "#%%\n"
    },
    "tags": []
   },
   "outputs": [],
   "source": [
    "# setup for json only\n",
    "# if run_control > 1:\n",
    "#     for f in pathfiles:\n",
    "#         with open(f, 'r') as json_file:\n",
    "#             json_object = json.load(json_file)\n",
    "#         print(json.dumps(json_object, indent=1))\n",
    "#\n",
    "# else:\n",
    "#     print(\"Audit Report 1 Skipped\")"
   ]
  },
  {
   "cell_type": "markdown",
   "id": "3932a758",
   "metadata": {
    "papermill": {
     "duration": null,
     "end_time": null,
     "exception": null,
     "start_time": null,
     "status": "completed"
    },
    "tags": []
   },
   "source": [
    "#### Output Processes\n",
    "- Define File names.\n",
    "- If existing csv is found, archive it in \"raw_data_file_history\" folder.\n",
    "- Save new csv."
   ]
  },
  {
   "cell_type": "code",
   "execution_count": null,
   "id": "93b40d24",
   "metadata": {
    "papermill": {
     "duration": null,
     "end_time": null,
     "exception": null,
     "start_time": null,
     "status": "completed"
    },
    "pycharm": {
     "name": "#%%\n"
    },
    "tags": []
   },
   "outputs": [],
   "source": [
    "if run_control > 0:\n",
    "    \n",
    "    file = f'{str(percode)}.csv'\n",
    "    pfile = f'{str(percode)}.parquet'\n",
    "    histfile = f'{str(percode)}_{inst_datetime}.csv'\n",
    "\n",
    "    try:\n",
    "        os.rename(os.path.join(str(rt_path), file), os.path.join(str(rt_path), \"logs/raw_data_file_history/\" , histfile))\n",
    "    except FileNotFoundError:\n",
    "        pass\n",
    "\n",
    "    df.to_csv(os.path.join(str(rt_path), file), ',', index=False , encoding='utf-8-sig')\n",
    "    df.to_parquet(os.path.join(str(rt_path), pfile), engine = \"pyarrow\")\n",
    "\n",
    "else:\n",
    "    \n",
    "    pass"
   ]
  },
  {
   "cell_type": "markdown",
   "id": "b6e3150d",
   "metadata": {
    "papermill": {
     "duration": null,
     "end_time": null,
     "exception": null,
     "start_time": null,
     "status": "completed"
    },
    "tags": []
   },
   "source": [
    "- Log update record with commit message and time.\n",
    "- Determine commit message and make new entry"
   ]
  },
  {
   "cell_type": "code",
   "execution_count": null,
   "id": "6bf9423e",
   "metadata": {
    "papermill": {
     "duration": null,
     "end_time": null,
     "exception": null,
     "start_time": null,
     "status": "completed"
    },
    "pycharm": {
     "name": "#%%\n"
    },
    "tags": []
   },
   "outputs": [],
   "source": [
    "log = os.path.join(str(rt_path), f'logs/pipline_log.csv' )\n",
    "\n",
    "try:\n",
    "    log_df = pd.read_csv(log)\n",
    "except NameError:\n",
    "    print(\"No log file present\")\n",
    "\n",
    "# determine if running from notebook or Excel controller and set commit message.\n",
    "if sys.argv[1] == \"-f\":\n",
    "    message = commit_message\n",
    "else:\n",
    "    piperunner = '//hecate/Insurance_US/Product Development/Product Management/Global PPM/Reporting/_To' \\\n",
    "                 'ols/GitHub/Production Repositories/Pipeline Runner/Pipeline Runner.xlsm'\n",
    "    wb = openpyxl.load_workbook(piperunner)\n",
    "    sh = wb['Pipeline Runner']\n",
    "    message = sh['f13'].value\n",
    "\n",
    "# find username\n",
    "username = getpass.getuser()\n",
    "\n",
    "# record timestamp\n",
    "datetime = inst_datetime\n",
    "dateformat = datetime[4:8] + '-' + datetime[:2]  + '-' + datetime[2:4]  + '-' + datetime[8:]\n",
    "\n",
    "# add new line\n",
    "newline = { \"run_message\" : [message ],  \"datetime\" :[dateformat], \"user\" : [username ]}\n",
    "newline = pd.DataFrame.from_dict(newline)\n",
    "\n",
    "# make new file\n",
    "log_df = log_df.append(newline[0:])\n",
    "log_df\n",
    "log_df.to_csv(log, ',', index=False , encoding='utf-8-sig')\n"
   ]
  },
  {
   "cell_type": "markdown",
   "id": "4e967557",
   "metadata": {
    "papermill": {
     "duration": null,
     "end_time": null,
     "exception": null,
     "start_time": null,
     "status": "completed"
    },
    "tags": []
   },
   "source": [
    "#### Store the DataFrame for other noteboks to use"
   ]
  },
  {
   "cell_type": "code",
   "execution_count": null,
   "id": "e2711181",
   "metadata": {
    "papermill": {
     "duration": null,
     "end_time": null,
     "exception": null,
     "start_time": null,
     "status": "completed"
    },
    "tags": []
   },
   "outputs": [],
   "source": [
    "read_dc_df = df\n",
    "\n",
    "%store read_dc_df\n"
   ]
  }
 ],
 "metadata": {
  "celltoolbar": "Tags",
  "kernelspec": {
   "display_name": "Python 3",
   "language": "python",
   "name": "python3"
  },
  "language_info": {
   "codemirror_mode": {
    "name": "ipython",
    "version": 3
   },
   "file_extension": ".py",
   "mimetype": "text/x-python",
   "name": "python",
   "nbconvert_exporter": "python",
   "pygments_lexer": "ipython3",
   "version": "3.7.6"
  },
  "papermill": {
   "default_parameters": {},
   "duration": 4.321265,
   "end_time": "2021-05-25T03:24:38.479321",
   "environment_variables": {},
   "exception": null,
   "input_path": "pipeline/read_dc.ipynb",
   "output_path": "//hecate/Insurance_US/Product Development/Product Management/Global PPM/Reporting/Data Collection/Pipeline Reporting Scripts/GPMpipeline/instances/2021.Q1\\pipeline\\read_dc05242021184739--live run.ipynb",
   "parameters": {
    "commit_message": "Edited data for Austraila, json 2 parquet and add comments from email. Begin general evaluation of data submissions.",
    "inst_datetime": "05242021184739",
    "percode": "2021.Q1",
    "run_control": 1
   },
   "start_time": "2021-05-25T03:24:34.158056",
   "version": "2.3.3"
  }
 },
 "nbformat": 4,
 "nbformat_minor": 5
}