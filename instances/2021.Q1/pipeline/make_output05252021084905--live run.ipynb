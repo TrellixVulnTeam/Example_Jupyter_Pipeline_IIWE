{
 "cells": [
  {
   "cell_type": "markdown",
   "id": "41649006",
   "metadata": {
    "papermill": {
     "duration": 0.22462,
     "end_time": "2021-05-25T12:52:52.695225",
     "exception": false,
     "start_time": "2021-05-25T12:52:52.470605",
     "status": "completed"
    },
    "pycharm": {
     "name": "#%% md\n"
    },
    "tags": []
   },
   "source": [
    "<img src=\"../images/AzPTravel_PPM.png\">"
   ]
  },
  {
   "cell_type": "markdown",
   "id": "c9ff94c0",
   "metadata": {
    "papermill": {
     "duration": 0.198848,
     "end_time": "2021-05-25T12:52:53.096629",
     "exception": false,
     "start_time": "2021-05-25T12:52:52.897781",
     "status": "completed"
    },
    "tags": []
   },
   "source": [
    "## GPM Pipeline Output maker\n",
    "\n",
    "#### This script\n",
    "- loads the transformed parquet file\n",
    "- creates the file {parquet}.localcur.csv\n",
    "- makes the Euro conversions\n",
    "- outputs {parquet}.euroconv.csv\n"
   ]
  },
  {
   "cell_type": "markdown",
   "id": "da89a77b",
   "metadata": {
    "papermill": {
     "duration": 0.23251,
     "end_time": "2021-05-25T12:52:53.543186",
     "exception": false,
     "start_time": "2021-05-25T12:52:53.310676",
     "status": "completed"
    },
    "tags": []
   },
   "source": [
    "#### Parameters section"
   ]
  },
  {
   "cell_type": "code",
   "execution_count": 1,
   "id": "2cf63196",
   "metadata": {
    "execution": {
     "iopub.execute_input": "2021-05-25T12:52:53.969359Z",
     "iopub.status.busy": "2021-05-25T12:52:53.966357Z",
     "iopub.status.idle": "2021-05-25T12:52:53.977356Z",
     "shell.execute_reply": "2021-05-25T12:52:53.980356Z"
    },
    "papermill": {
     "duration": 0.238164,
     "end_time": "2021-05-25T12:52:53.980356",
     "exception": false,
     "start_time": "2021-05-25T12:52:53.742192",
     "status": "completed"
    },
    "pycharm": {
     "name": "#%%\n"
    },
    "tags": [
     "parameters"
    ]
   },
   "outputs": [],
   "source": [
    "commit = \"\"\n",
    "# give a reason for the run\n",
    "\n",
    "percode = \"20XX.QX\"\n",
    "# Data Collection Code, this controls file paths and output names\n",
    "\n",
    "run_type = 1\n",
    "#run_type =  0 - lite run with no reporting, not recommended.\n",
    "#run_type =  1 - lite run with normal reporting, default setting.\n",
    "#run_type =  2 - Heavy run with full reporting, available for audits and troubleshooting.\n",
    "\n",
    "specialchars = \"-GTHtest\"\n",
    "# optional - add up to a 12 character code in order to mark your instance record .ipynb\n",
    "\n",
    "from datetime import datetime\n",
    "inst_datetime = datetime.now().strftime(\"%m%d%Y%H%M%S\")\n",
    "# a single datetime stamp for the full instance run\n"
   ]
  },
  {
   "cell_type": "code",
   "execution_count": 2,
   "id": "6ff3783d",
   "metadata": {
    "execution": {
     "iopub.execute_input": "2021-05-25T12:52:54.414899Z",
     "iopub.status.busy": "2021-05-25T12:52:54.411901Z",
     "iopub.status.idle": "2021-05-25T12:52:54.420899Z",
     "shell.execute_reply": "2021-05-25T12:52:54.421903Z"
    },
    "papermill": {
     "duration": 0.232313,
     "end_time": "2021-05-25T12:52:54.422902",
     "exception": false,
     "start_time": "2021-05-25T12:52:54.190589",
     "status": "completed"
    },
    "tags": [
     "injected-parameters"
    ]
   },
   "outputs": [],
   "source": [
    "# Parameters\n",
    "run_control = 1\n",
    "percode = \"2021.Q1\"\n",
    "commit_message = \"Edited data for Austraila, json 2 parquet and add comments from email. Begin general evaluation of data submissions.\"\n",
    "inst_datetime = \"05252021084905\"\n"
   ]
  },
  {
   "cell_type": "markdown",
   "id": "6f1892ac",
   "metadata": {
    "papermill": {
     "duration": 0.200023,
     "end_time": "2021-05-25T12:52:54.822819",
     "exception": false,
     "start_time": "2021-05-25T12:52:54.622796",
     "status": "completed"
    },
    "tags": []
   },
   "source": [
    "### Set Run Control\n",
    "\n",
    "##### 0 - lite run with no reporting, not recommended.\n",
    "##### 1 - lite run with normal reporting, default setting.\n",
    "##### 2 - Heavy run with full reporting, available for audits and troubleshooting."
   ]
  },
  {
   "cell_type": "code",
   "execution_count": 3,
   "id": "77d9fc8b",
   "metadata": {
    "execution": {
     "iopub.execute_input": "2021-05-25T12:52:55.227411Z",
     "iopub.status.busy": "2021-05-25T12:52:55.224409Z",
     "iopub.status.idle": "2021-05-25T12:52:55.234411Z",
     "shell.execute_reply": "2021-05-25T12:52:55.235411Z"
    },
    "papermill": {
     "duration": 0.209564,
     "end_time": "2021-05-25T12:52:55.235411",
     "exception": false,
     "start_time": "2021-05-25T12:52:55.025847",
     "status": "completed"
    },
    "pycharm": {
     "name": "#%%\n"
    },
    "tags": []
   },
   "outputs": [],
   "source": [
    "run_control = 0 # in development mode"
   ]
  },
  {
   "cell_type": "markdown",
   "id": "e719a3aa",
   "metadata": {
    "papermill": {
     "duration": 0.208197,
     "end_time": "2021-05-25T12:52:55.652669",
     "exception": false,
     "start_time": "2021-05-25T12:52:55.444472",
     "status": "completed"
    },
    "tags": []
   },
   "source": [
    "#### Packages used"
   ]
  },
  {
   "cell_type": "code",
   "execution_count": 4,
   "id": "e1976a4a",
   "metadata": {
    "execution": {
     "iopub.execute_input": "2021-05-25T12:52:56.069664Z",
     "iopub.status.busy": "2021-05-25T12:52:56.066663Z",
     "iopub.status.idle": "2021-05-25T12:52:58.437710Z",
     "shell.execute_reply": "2021-05-25T12:52:58.438710Z"
    },
    "papermill": {
     "duration": 2.584053,
     "end_time": "2021-05-25T12:52:58.439711",
     "exception": false,
     "start_time": "2021-05-25T12:52:55.855658",
     "status": "completed"
    },
    "pycharm": {
     "name": "#%%\n"
    },
    "tags": []
   },
   "outputs": [],
   "source": [
    "import sys\n",
    "import os\n",
    "import pandas as pd"
   ]
  },
  {
   "cell_type": "code",
   "execution_count": 5,
   "id": "96c44694",
   "metadata": {
    "execution": {
     "iopub.execute_input": "2021-05-25T12:52:58.866268Z",
     "iopub.status.busy": "2021-05-25T12:52:58.864274Z",
     "iopub.status.idle": "2021-05-25T12:52:58.869267Z",
     "shell.execute_reply": "2021-05-25T12:52:58.871266Z"
    },
    "papermill": {
     "duration": 0.215549,
     "end_time": "2021-05-25T12:52:58.871266",
     "exception": false,
     "start_time": "2021-05-25T12:52:58.655717",
     "status": "completed"
    },
    "pycharm": {
     "name": "#%%\n"
    },
    "tags": []
   },
   "outputs": [],
   "source": [
    "default_DC = \"2021.Q1\"\n",
    "\n",
    "try:\n",
    "    if sys.argv[1] == \"-f\":\n",
    "        percode = default_DC\n",
    "    else:\n",
    "        percode = sys.argv[1]\n",
    "\n",
    "except IndexError:\n",
    "    percode = default_DC\n",
    "except NameError:\n",
    "    percode = default_DC"
   ]
  },
  {
   "cell_type": "markdown",
   "id": "68fa3036",
   "metadata": {
    "papermill": {
     "duration": 0.232995,
     "end_time": "2021-05-25T12:52:59.299778",
     "exception": false,
     "start_time": "2021-05-25T12:52:59.066783",
     "status": "completed"
    },
    "tags": []
   },
   "source": [
    "#### Convert paths and files to variables.\n",
    "#### Read data into pd DataFrames.\n",
    "#### Make paths for the live sources."
   ]
  },
  {
   "cell_type": "code",
   "execution_count": 6,
   "id": "d0093c9d",
   "metadata": {
    "execution": {
     "iopub.execute_input": "2021-05-25T12:52:59.777745Z",
     "iopub.status.busy": "2021-05-25T12:52:59.773746Z",
     "iopub.status.idle": "2021-05-25T12:52:59.784771Z",
     "shell.execute_reply": "2021-05-25T12:52:59.785743Z"
    },
    "papermill": {
     "duration": 0.231981,
     "end_time": "2021-05-25T12:52:59.786748",
     "exception": false,
     "start_time": "2021-05-25T12:52:59.554767",
     "status": "completed"
    },
    "pycharm": {
     "name": "#%%\n"
    },
    "tags": []
   },
   "outputs": [],
   "source": [
    "rt_path = f'//hecate/Insurance_US/Product Development/Product Manag' \\\n",
    "          f'ement/Global PPM/Reporting/Data Collection/Production/{str(percode)}'\n",
    "tempfile = os.path.join(rt_path, f'{str(percode)}.localcur.parquet')\n",
    "gppm_file = os.path.join(rt_path, f'GPPM_Input_{str(percode)}.xlsx')"
   ]
  },
  {
   "cell_type": "markdown",
   "id": "24eae3f3",
   "metadata": {
    "papermill": {
     "duration": 0.233334,
     "end_time": "2021-05-25T12:53:00.242113",
     "exception": false,
     "start_time": "2021-05-25T12:53:00.008779",
     "status": "completed"
    },
    "tags": []
   },
   "source": [
    "#### Read source"
   ]
  },
  {
   "cell_type": "code",
   "execution_count": 7,
   "id": "e34df6f3",
   "metadata": {
    "execution": {
     "iopub.execute_input": "2021-05-25T12:53:00.705576Z",
     "iopub.status.busy": "2021-05-25T12:53:00.702580Z",
     "iopub.status.idle": "2021-05-25T12:53:02.500150Z",
     "shell.execute_reply": "2021-05-25T12:53:02.502148Z"
    },
    "papermill": {
     "duration": 2.013623,
     "end_time": "2021-05-25T12:53:02.502148",
     "exception": false,
     "start_time": "2021-05-25T12:53:00.488525",
     "status": "completed"
    },
    "pycharm": {
     "name": "#%%\n"
    },
    "tags": []
   },
   "outputs": [
    {
     "name": "stdout",
     "output_type": "stream",
     "text": [
      "     business_unit                   submission_file country currency  \\\n",
      "0               AU  us_dat_au_02172021174434.parquet      AU      AUD   \n",
      "1               AU  us_dat_au_02172021174434.parquet      AU      AUD   \n",
      "2               AU  us_dat_au_02172021174434.parquet      AU      AUD   \n",
      "3               AU  us_dat_au_02172021174434.parquet      AU      AUD   \n",
      "4               AU  us_dat_au_02172021174434.parquet      AU      AUD   \n",
      "...            ...                               ...     ...      ...   \n",
      "1965            PT  us_dat_pt_05202021121056.parquet      PT      EUR   \n",
      "1966            PT  us_dat_pt_05202021121056.parquet      PT      EUR   \n",
      "1967            PT  us_dat_pt_05202021121056.parquet      PT      EUR   \n",
      "1968            PT  us_dat_pt_05202021121056.parquet      PT      EUR   \n",
      "1969            PT  us_dat_pt_05202021121056.parquet      PT      EUR   \n",
      "\n",
      "                           region reporting_date_from reporting_date_to  \\\n",
      "0                            APAC          2020-01-01        2020-12-31   \n",
      "1                            APAC          2020-01-01        2020-12-31   \n",
      "2                            APAC          2020-01-01        2020-12-31   \n",
      "3                            APAC          2020-01-01        2020-12-31   \n",
      "4                            APAC          2020-01-01        2020-12-31   \n",
      "...                           ...                 ...               ...   \n",
      "1965  Western Europe, LATAM & MEA          2021-01-01        2021-03-31   \n",
      "1966  Western Europe, LATAM & MEA          2021-01-01        2021-03-31   \n",
      "1967  Western Europe, LATAM & MEA          2021-01-01        2021-03-31   \n",
      "1968  Western Europe, LATAM & MEA          2021-01-01        2021-03-31   \n",
      "1969  Western Europe, LATAM & MEA          2021-01-01        2021-03-31   \n",
      "\n",
      "     date_of_analysis         type_of_analysis  analysed_months  ...  \\\n",
      "0          2021-02-08  Most Recently 12 Months             12.0  ...   \n",
      "1          2021-02-08  Most Recently 12 Months             12.0  ...   \n",
      "2          2021-02-08  Most Recently 12 Months             12.0  ...   \n",
      "3          2021-02-08  Most Recently 12 Months             12.0  ...   \n",
      "4          2021-02-08  Most Recently 12 Months             12.0  ...   \n",
      "...               ...                      ...              ...  ...   \n",
      "1965       2021-03-31             Year To Date              3.0  ...   \n",
      "1966       2021-03-31             Year To Date              3.0  ...   \n",
      "1967       2021-03-31             Year To Date              3.0  ...   \n",
      "1968       2021-03-31             Year To Date              3.0  ...   \n",
      "1969       2021-03-31             Year To Date              3.0  ...   \n",
      "\n",
      "      date_of_analysis_int                     selected_fields_for_duplicates  \\\n",
      "0                 20210208  AUInsuranceLocalB2B2CTravelAllianz Affiliation...   \n",
      "1                 20210208  AUInsuranceLocalB2B2CTravelOffline Travel Agen...   \n",
      "2                 20210208  AUInsuranceLocalB2B2CTravelOffline Travel Agen...   \n",
      "3                 20210208  AUInsuranceLocalB2B2CTravelAllianz Affiliation...   \n",
      "4                 20210208  AUInsuranceLocalB2B2CTravelCarriers - Airlines...   \n",
      "...                    ...                                                ...   \n",
      "1965              20210331  PTReinsuranceLocalB2B2CTravelDirect (Allianz P...   \n",
      "1966              20210331  PTReinsuranceLocalB2B2CTravelDirect (Allianz P...   \n",
      "1967              20210331  PTReinsuranceLocalB2B2CTravelDirect (Allianz P...   \n",
      "1968              20210331  PTReinsuranceLocalB2B2CTravelDirect (Allianz P...   \n",
      "1969              20210331  PTReinsuranceLocalB2BTravelDirect (Allianz Par...   \n",
      "\n",
      "      pct_of_ibnr_on_ocr__ibnr unnamed:_66 ibnrsub   rep_date  \\\n",
      "0                          0.0         0.0     0.0 2020-12-31   \n",
      "1                          0.0         0.0     0.0 2020-12-31   \n",
      "2                          0.0         0.0     0.0 2020-12-31   \n",
      "3                          0.0         0.0     0.0 2020-12-31   \n",
      "4                          0.0         0.0     0.0 2020-12-31   \n",
      "...                        ...         ...     ...        ...   \n",
      "1965                       0.0         0.0     0.0 2021-03-31   \n",
      "1966                       0.0         0.0     0.0 2021-03-31   \n",
      "1967                       0.0         0.0     0.0 2021-03-31   \n",
      "1968                       0.0         0.0     0.0 2021-03-31   \n",
      "1969                       0.0         0.0     0.0 2021-03-31   \n",
      "\n",
      "     __index_level_0__   bu_descr month_of_analysis_max      reporting_period  \n",
      "0                    0  Australia              2021 Feb  2020 Jan to 2020 Dec  \n",
      "1                    1  Australia              2021 Feb  2020 Jan to 2020 Dec  \n",
      "2                    2  Australia              2021 Feb  2020 Jan to 2020 Dec  \n",
      "3                    3  Australia              2021 Feb  2020 Jan to 2020 Dec  \n",
      "4                    4  Australia              2021 Feb  2020 Jan to 2020 Dec  \n",
      "...                ...        ...                   ...                   ...  \n",
      "1965              3466   Portugal              2021 Mar  2021 Jan to 2021 Mar  \n",
      "1966              3467   Portugal              2021 Mar  2021 Jan to 2021 Mar  \n",
      "1967              3468   Portugal              2021 Mar  2021 Jan to 2021 Mar  \n",
      "1968              3469   Portugal              2021 Mar  2021 Jan to 2021 Mar  \n",
      "1969              3470   Portugal              2021 Mar  2021 Jan to 2021 Mar  \n",
      "\n",
      "[1970 rows x 82 columns]\n"
     ]
    }
   ],
   "source": [
    "mo_input = pd.read_parquet(tempfile, engine='pyarrow')\n",
    "\n",
    "print(mo_input)"
   ]
  },
  {
   "cell_type": "markdown",
   "id": "468c016d",
   "metadata": {
    "papermill": {
     "duration": 0.213095,
     "end_time": "2021-05-25T12:53:02.989297",
     "exception": false,
     "start_time": "2021-05-25T12:53:02.776202",
     "status": "completed"
    },
    "tags": []
   },
   "source": [
    "#### Output local currency csv"
   ]
  },
  {
   "cell_type": "code",
   "execution_count": 8,
   "id": "f5c78758",
   "metadata": {
    "execution": {
     "iopub.execute_input": "2021-05-25T12:53:03.474359Z",
     "iopub.status.busy": "2021-05-25T12:53:03.469346Z",
     "iopub.status.idle": "2021-05-25T12:53:10.891244Z",
     "shell.execute_reply": "2021-05-25T12:53:10.893242Z"
    },
    "papermill": {
     "duration": 7.670883,
     "end_time": "2021-05-25T12:53:10.893242",
     "exception": false,
     "start_time": "2021-05-25T12:53:03.222359",
     "status": "completed"
    },
    "pycharm": {
     "is_executing": true,
     "name": "#%%\n"
    },
    "tags": []
   },
   "outputs": [],
   "source": [
    "mo_input.to_csv(f'//hecate/Insurance_US/Product Development/Product Management/Global PPM/Reporting/Data Collection/Production/{str(percode)}\\\\{str(percode)}.localcur.csv', ',', index=False, encoding='utf-8-sig')"
   ]
  },
  {
   "cell_type": "markdown",
   "id": "dd5d78b9",
   "metadata": {
    "papermill": {
     "duration": 0.214985,
     "end_time": "2021-05-25T12:53:11.361222",
     "exception": false,
     "start_time": "2021-05-25T12:53:11.146237",
     "status": "completed"
    },
    "tags": []
   },
   "source": [
    "#### Convert all currency to Euro\n"
   ]
  },
  {
   "cell_type": "code",
   "execution_count": 9,
   "id": "7d1f22ae",
   "metadata": {
    "execution": {
     "iopub.execute_input": "2021-05-25T12:53:11.798299Z",
     "iopub.status.busy": "2021-05-25T12:53:11.791292Z",
     "iopub.status.idle": "2021-05-25T12:53:13.469669Z",
     "shell.execute_reply": "2021-05-25T12:53:13.471667Z"
    },
    "papermill": {
     "duration": 1.899881,
     "end_time": "2021-05-25T12:53:13.472666",
     "exception": false,
     "start_time": "2021-05-25T12:53:11.572785",
     "status": "completed"
    },
    "pycharm": {
     "is_executing": true,
     "name": "#%%\n"
    },
    "tags": []
   },
   "outputs": [],
   "source": [
    "\n",
    "cflds = ['written_revenues_net_of_taxes', 'written_revenues', 'earned_revenues_net_of_taxes',\n",
    "         'earned_revenues', 'earned_base_commissions', 'earned_over_commissions', 'upfront_cash_payments',\n",
    "         'total_compensation', 'paid_claims', 'ocr__ibnr', 'actual_incurred_losses',\n",
    "         'internal_variable_costs', 'az_tech_fee', 'internal_fixed_costs',\n",
    "         'hq_fees', 'total_expenses', 'risk_premium', 'profit_or_loss', 'cm_hq_view',\n",
    "         'cm_bu_view', ]\n",
    "\n",
    "\n",
    "\"\"\"reads in the input for the Euro conversion\"\"\"\n",
    "euro = pd.read_excel(gppm_file, sheet_name=\"Euro_Rates\")\n"
   ]
  },
  {
   "cell_type": "markdown",
   "id": "20f44e9e",
   "metadata": {
    "papermill": {
     "duration": 0.228989,
     "end_time": "2021-05-25T12:53:13.943235",
     "exception": false,
     "start_time": "2021-05-25T12:53:13.714246",
     "status": "completed"
    },
    "tags": []
   },
   "source": [
    "#### Make a copy for debug purposes"
   ]
  },
  {
   "cell_type": "code",
   "execution_count": 10,
   "id": "6e179f5f",
   "metadata": {
    "execution": {
     "iopub.execute_input": "2021-05-25T12:53:14.382390Z",
     "iopub.status.busy": "2021-05-25T12:53:14.379394Z",
     "iopub.status.idle": "2021-05-25T12:53:14.390389Z",
     "shell.execute_reply": "2021-05-25T12:53:14.391389Z"
    },
    "papermill": {
     "duration": 0.234924,
     "end_time": "2021-05-25T12:53:14.392389",
     "exception": false,
     "start_time": "2021-05-25T12:53:14.157465",
     "status": "completed"
    },
    "pycharm": {
     "is_executing": true,
     "name": "#%%\n"
    },
    "tags": []
   },
   "outputs": [],
   "source": [
    "trandata = mo_input.copy()"
   ]
  },
  {
   "cell_type": "markdown",
   "id": "89a7bf30",
   "metadata": {
    "papermill": {
     "duration": 0.205039,
     "end_time": "2021-05-25T12:53:14.822981",
     "exception": false,
     "start_time": "2021-05-25T12:53:14.617942",
     "status": "completed"
    },
    "tags": []
   },
   "source": [
    "#### Convert Currency Below"
   ]
  },
  {
   "cell_type": "code",
   "execution_count": 11,
   "id": "21dce207",
   "metadata": {
    "execution": {
     "iopub.execute_input": "2021-05-25T12:53:15.305954Z",
     "iopub.status.busy": "2021-05-25T12:53:15.295956Z",
     "iopub.status.idle": "2021-05-25T12:53:15.312965Z",
     "shell.execute_reply": "2021-05-25T12:53:15.314955Z"
    },
    "papermill": {
     "duration": 0.264984,
     "end_time": "2021-05-25T12:53:15.314955",
     "exception": false,
     "start_time": "2021-05-25T12:53:15.049971",
     "status": "completed"
    },
    "pycharm": {
     "is_executing": true,
     "name": "#%%\n"
    },
    "tags": []
   },
   "outputs": [],
   "source": [
    "# create DataFrame of unique currencies with rates\n",
    "\n",
    "fx_uni = euro[['CURR_CODE','RATE']]\n",
    "fx_uni = fx_uni.drop_duplicates()"
   ]
  },
  {
   "cell_type": "code",
   "execution_count": 12,
   "id": "62876f8a",
   "metadata": {
    "execution": {
     "iopub.execute_input": "2021-05-25T12:53:15.761203Z",
     "iopub.status.busy": "2021-05-25T12:53:15.749205Z",
     "iopub.status.idle": "2021-05-25T12:53:15.768204Z",
     "shell.execute_reply": "2021-05-25T12:53:15.769201Z"
    },
    "papermill": {
     "duration": 0.230505,
     "end_time": "2021-05-25T12:53:15.770202",
     "exception": false,
     "start_time": "2021-05-25T12:53:15.539697",
     "status": "completed"
    },
    "pycharm": {
     "is_executing": true,
     "name": "#%%\n"
    },
    "tags": []
   },
   "outputs": [],
   "source": [
    "# add euro conversion rates to trandata DataFrame as column 'eur_rate'\n",
    "\n",
    "eurdata = pd.merge(trandata['currency'], fx_uni, left_on='currency', right_on='CURR_CODE', how='left')\n",
    "\n",
    "trandata['eur_rate'] = eurdata['RATE']"
   ]
  },
  {
   "cell_type": "markdown",
   "id": "d4b23b77",
   "metadata": {
    "papermill": {
     "duration": 0.227049,
     "end_time": "2021-05-25T12:53:16.198244",
     "exception": false,
     "start_time": "2021-05-25T12:53:15.971195",
     "status": "completed"
    },
    "tags": []
   },
   "source": [
    "#### Convert currency fields"
   ]
  },
  {
   "cell_type": "code",
   "execution_count": 13,
   "id": "8b55e344",
   "metadata": {
    "execution": {
     "iopub.execute_input": "2021-05-25T12:53:16.650640Z",
     "iopub.status.busy": "2021-05-25T12:53:16.645645Z",
     "iopub.status.idle": "2021-05-25T12:53:16.862265Z",
     "shell.execute_reply": "2021-05-25T12:53:16.863266Z"
    },
    "papermill": {
     "duration": 0.448682,
     "end_time": "2021-05-25T12:53:16.864272",
     "exception": false,
     "start_time": "2021-05-25T12:53:16.415590",
     "status": "completed"
    },
    "pycharm": {
     "is_executing": true,
     "name": "#%%\n"
    },
    "tags": []
   },
   "outputs": [],
   "source": [
    "trandata[cflds] = trandata[cflds].divide(trandata['eur_rate'], axis=\"index\").fillna(0)\n"
   ]
  },
  {
   "cell_type": "markdown",
   "id": "ed4b6ce9",
   "metadata": {
    "papermill": {
     "duration": 0.207558,
     "end_time": "2021-05-25T12:53:17.291608",
     "exception": false,
     "start_time": "2021-05-25T12:53:17.084050",
     "status": "completed"
    },
    "tags": []
   },
   "source": [
    "#### Output to {percode}.euroconv.csv"
   ]
  },
  {
   "cell_type": "code",
   "execution_count": 14,
   "id": "3985e4d8",
   "metadata": {
    "execution": {
     "iopub.execute_input": "2021-05-25T12:53:17.785282Z",
     "iopub.status.busy": "2021-05-25T12:53:17.782275Z",
     "iopub.status.idle": "2021-05-25T12:53:25.798959Z",
     "shell.execute_reply": "2021-05-25T12:53:25.800959Z"
    },
    "papermill": {
     "duration": 8.229722,
     "end_time": "2021-05-25T12:53:25.800959",
     "exception": false,
     "start_time": "2021-05-25T12:53:17.571237",
     "status": "completed"
    },
    "pycharm": {
     "is_executing": true,
     "name": "#%%\n"
    },
    "tags": []
   },
   "outputs": [],
   "source": [
    "trandata.to_csv(f'//hecate/Insurance_US/Product Development/Product Management/Global PPM/Reporting/Data Collection/Production/{str(percode)}\\\\{str(percode)}.euroconv.csv', ',', index=False, encoding='utf-8-sig')\n",
    "\n",
    "\n"
   ]
  },
  {
   "cell_type": "markdown",
   "id": "af1784a0",
   "metadata": {
    "papermill": {
     "duration": 0.218597,
     "end_time": "2021-05-25T12:53:26.279538",
     "exception": false,
     "start_time": "2021-05-25T12:53:26.060941",
     "status": "completed"
    },
    "tags": []
   },
   "source": [
    "#### Store the DataFrame for other notebooks to use"
   ]
  },
  {
   "cell_type": "code",
   "execution_count": 15,
   "id": "d71956d4",
   "metadata": {
    "execution": {
     "iopub.execute_input": "2021-05-25T12:53:26.796000Z",
     "iopub.status.busy": "2021-05-25T12:53:26.792001Z",
     "iopub.status.idle": "2021-05-25T12:53:26.833048Z",
     "shell.execute_reply": "2021-05-25T12:53:26.835060Z"
    },
    "papermill": {
     "duration": 0.30957,
     "end_time": "2021-05-25T12:53:26.835060",
     "exception": false,
     "start_time": "2021-05-25T12:53:26.525490",
     "status": "completed"
    },
    "tags": []
   },
   "outputs": [
    {
     "name": "stdout",
     "output_type": "stream",
     "text": [
      "Stored 'mo_df' (DataFrame)\n"
     ]
    }
   ],
   "source": [
    "mo_df = trandata\n",
    "\n",
    "%store mo_df\n"
   ]
  }
 ],
 "metadata": {
  "celltoolbar": "Tags",
  "kernelspec": {
   "display_name": "Python 3",
   "language": "python",
   "name": "python3"
  },
  "language_info": {
   "codemirror_mode": {
    "name": "ipython",
    "version": 3
   },
   "file_extension": ".py",
   "mimetype": "text/x-python",
   "name": "python",
   "nbconvert_exporter": "python",
   "pygments_lexer": "ipython3",
   "version": "3.7.6"
  },
  "papermill": {
   "default_parameters": {},
   "duration": 46.867953,
   "end_time": "2021-05-25T12:53:28.280256",
   "environment_variables": {},
   "exception": null,
   "input_path": "pipeline/make_output.ipynb",
   "output_path": "//hecate/Insurance_US/Product Development/Product Management/Global PPM/Reporting/Data Collection/Pipeline Reporting Scripts/GPMpipeline/instances/2021.Q1\\pipeline\\make_output05252021084905--live run.ipynb",
   "parameters": {
    "commit_message": "Edited data for Austraila, json 2 parquet and add comments from email. Begin general evaluation of data submissions.",
    "inst_datetime": "05252021084905",
    "percode": "2021.Q1",
    "run_control": 1
   },
   "start_time": "2021-05-25T12:52:41.412303",
   "version": "2.3.3"
  }
 },
 "nbformat": 4,
 "nbformat_minor": 5
}