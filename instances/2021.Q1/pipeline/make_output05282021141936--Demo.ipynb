{
 "cells": [
  {
   "cell_type": "markdown",
   "id": "84fc7c32",
   "metadata": {
    "papermill": {
     "duration": 0.25817,
     "end_time": "2021-05-28T18:27:00.216699",
     "exception": false,
     "start_time": "2021-05-28T18:26:59.958529",
     "status": "completed"
    },
    "pycharm": {
     "name": "#%% md\n"
    },
    "tags": []
   },
   "source": [
    "<img src=\"../images/AzPTravel_PPM.png\">"
   ]
  },
  {
   "cell_type": "markdown",
   "id": "2b83049c",
   "metadata": {
    "papermill": {
     "duration": 0.346793,
     "end_time": "2021-05-28T18:27:00.814837",
     "exception": false,
     "start_time": "2021-05-28T18:27:00.468044",
     "status": "completed"
    },
    "tags": []
   },
   "source": [
    "## GPM Pipeline Output maker\n",
    "\n",
    "#### This script\n",
    "- loads the transformed parquet file\n",
    "- creates the file {parquet}.localcur.csv\n",
    "- makes the Euro conversions\n",
    "- outputs {parquet}.euroconv.csv\n"
   ]
  },
  {
   "cell_type": "markdown",
   "id": "95254dcd",
   "metadata": {
    "papermill": {
     "duration": 0.228043,
     "end_time": "2021-05-28T18:27:01.275032",
     "exception": false,
     "start_time": "2021-05-28T18:27:01.046989",
     "status": "completed"
    },
    "tags": []
   },
   "source": [
    "#### Parameters section"
   ]
  },
  {
   "cell_type": "code",
   "execution_count": 1,
   "id": "b01a8bc5",
   "metadata": {
    "execution": {
     "iopub.execute_input": "2021-05-28T18:27:01.798784Z",
     "iopub.status.busy": "2021-05-28T18:27:01.793777Z",
     "iopub.status.idle": "2021-05-28T18:27:01.802776Z",
     "shell.execute_reply": "2021-05-28T18:27:01.809776Z"
    },
    "papermill": {
     "duration": 0.255743,
     "end_time": "2021-05-28T18:27:01.809776",
     "exception": false,
     "start_time": "2021-05-28T18:27:01.554033",
     "status": "completed"
    },
    "pycharm": {
     "name": "#%%\n"
    },
    "tags": [
     "parameters"
    ]
   },
   "outputs": [],
   "source": [
    "commit = \"\"\n",
    "# give a reason for the run\n",
    "\n",
    "percode = \"20XX.QX\"\n",
    "# Data Collection Code, this controls file paths and output names\n",
    "\n",
    "run_type = 1\n",
    "#run_type =  0 - lite run with no reporting, not recommended.\n",
    "#run_type =  1 - lite run with normal reporting, default setting.\n",
    "#run_type =  2 - Heavy run with full reporting, available for audits and troubleshooting.\n",
    "\n",
    "specialchars = \"-GTHtest\"\n",
    "# optional - add up to a 12 character code in order to mark your instance record .ipynb\n",
    "\n",
    "from datetime import datetime\n",
    "inst_datetime = datetime.now().strftime(\"%m%d%Y%H%M%S\")\n",
    "# a single datetime stamp for the full instance run\n"
   ]
  },
  {
   "cell_type": "code",
   "execution_count": 2,
   "id": "85a329a4",
   "metadata": {
    "execution": {
     "iopub.execute_input": "2021-05-28T18:27:02.255207Z",
     "iopub.status.busy": "2021-05-28T18:27:02.253210Z",
     "iopub.status.idle": "2021-05-28T18:27:02.260726Z",
     "shell.execute_reply": "2021-05-28T18:27:02.261840Z"
    },
    "papermill": {
     "duration": 0.237836,
     "end_time": "2021-05-28T18:27:02.262729",
     "exception": false,
     "start_time": "2021-05-28T18:27:02.024893",
     "status": "completed"
    },
    "tags": [
     "injected-parameters"
    ]
   },
   "outputs": [],
   "source": [
    "# Parameters\n",
    "run_control = 1\n",
    "percode = \"2021.Q1\"\n",
    "commit_message = \"Demo Test\"\n",
    "inst_datetime = \"05282021141936\"\n"
   ]
  },
  {
   "cell_type": "markdown",
   "id": "71e9cb2d",
   "metadata": {
    "papermill": {
     "duration": 0.231517,
     "end_time": "2021-05-28T18:27:02.717474",
     "exception": false,
     "start_time": "2021-05-28T18:27:02.485957",
     "status": "completed"
    },
    "tags": []
   },
   "source": [
    "### Set Run Control\n",
    "\n",
    "##### 0 - lite run with no reporting, not recommended.\n",
    "##### 1 - lite run with normal reporting, default setting.\n",
    "##### 2 - Heavy run with full reporting, available for audits and troubleshooting."
   ]
  },
  {
   "cell_type": "code",
   "execution_count": 3,
   "id": "46d5195c",
   "metadata": {
    "execution": {
     "iopub.execute_input": "2021-05-28T18:27:03.189301Z",
     "iopub.status.busy": "2021-05-28T18:27:03.187302Z",
     "iopub.status.idle": "2021-05-28T18:27:03.195304Z",
     "shell.execute_reply": "2021-05-28T18:27:03.197303Z"
    },
    "papermill": {
     "duration": 0.236836,
     "end_time": "2021-05-28T18:27:03.197303",
     "exception": false,
     "start_time": "2021-05-28T18:27:02.960467",
     "status": "completed"
    },
    "pycharm": {
     "name": "#%%\n"
    },
    "tags": []
   },
   "outputs": [],
   "source": [
    "run_control = 0 # in development mode"
   ]
  },
  {
   "cell_type": "markdown",
   "id": "81e890a9",
   "metadata": {
    "papermill": {
     "duration": 0.281517,
     "end_time": "2021-05-28T18:27:03.695812",
     "exception": false,
     "start_time": "2021-05-28T18:27:03.414295",
     "status": "completed"
    },
    "tags": []
   },
   "source": [
    "#### Packages used"
   ]
  },
  {
   "cell_type": "code",
   "execution_count": 4,
   "id": "ce766d7d",
   "metadata": {
    "execution": {
     "iopub.execute_input": "2021-05-28T18:27:04.200794Z",
     "iopub.status.busy": "2021-05-28T18:27:04.198796Z",
     "iopub.status.idle": "2021-05-28T18:27:06.669129Z",
     "shell.execute_reply": "2021-05-28T18:27:06.671124Z"
    },
    "papermill": {
     "duration": 2.760058,
     "end_time": "2021-05-28T18:27:06.671124",
     "exception": false,
     "start_time": "2021-05-28T18:27:03.911066",
     "status": "completed"
    },
    "pycharm": {
     "name": "#%%\n"
    },
    "tags": []
   },
   "outputs": [],
   "source": [
    "import sys\n",
    "import os\n",
    "import pandas as pd"
   ]
  },
  {
   "cell_type": "code",
   "execution_count": 5,
   "id": "d015e11f",
   "metadata": {
    "execution": {
     "iopub.execute_input": "2021-05-28T18:27:07.251304Z",
     "iopub.status.busy": "2021-05-28T18:27:07.250289Z",
     "iopub.status.idle": "2021-05-28T18:27:07.258287Z",
     "shell.execute_reply": "2021-05-28T18:27:07.260287Z"
    },
    "papermill": {
     "duration": 0.31158,
     "end_time": "2021-05-28T18:27:07.260287",
     "exception": false,
     "start_time": "2021-05-28T18:27:06.948707",
     "status": "completed"
    },
    "pycharm": {
     "name": "#%%\n"
    },
    "tags": []
   },
   "outputs": [],
   "source": [
    "default_DC = \"2021.Q1\"\n",
    "\n",
    "try:\n",
    "    if sys.argv[1] == \"-f\":\n",
    "        percode = default_DC\n",
    "    else:\n",
    "        percode = sys.argv[1]\n",
    "\n",
    "except IndexError:\n",
    "    percode = default_DC\n",
    "except NameError:\n",
    "    percode = default_DC"
   ]
  },
  {
   "cell_type": "markdown",
   "id": "c57ad121",
   "metadata": {
    "papermill": {
     "duration": 0.238266,
     "end_time": "2021-05-28T18:27:07.740550",
     "exception": false,
     "start_time": "2021-05-28T18:27:07.502284",
     "status": "completed"
    },
    "tags": []
   },
   "source": [
    "#### Convert paths and files to variables.\n",
    "#### Read data into pd DataFrames.\n",
    "#### Make paths for the live sources."
   ]
  },
  {
   "cell_type": "code",
   "execution_count": 6,
   "id": "0557a436",
   "metadata": {
    "execution": {
     "iopub.execute_input": "2021-05-28T18:27:08.213189Z",
     "iopub.status.busy": "2021-05-28T18:27:08.211187Z",
     "iopub.status.idle": "2021-05-28T18:27:08.216198Z",
     "shell.execute_reply": "2021-05-28T18:27:08.217182Z"
    },
    "papermill": {
     "duration": 0.253651,
     "end_time": "2021-05-28T18:27:08.218189",
     "exception": false,
     "start_time": "2021-05-28T18:27:07.964538",
     "status": "completed"
    },
    "pycharm": {
     "name": "#%%\n"
    },
    "tags": []
   },
   "outputs": [],
   "source": [
    "rt_path = os.path.join('\\\\\\\\hecate\\\\Insurance_US\\\\Product Development\\\\Product Management\\\\Global PPM\\\\Reporting\\\\Data Collection\\\\Production',percode)\n",
    "\n",
    "\n",
    "\n"
   ]
  },
  {
   "cell_type": "markdown",
   "id": "89c48b06",
   "metadata": {
    "papermill": {
     "duration": 0.244997,
     "end_time": "2021-05-28T18:27:08.684174",
     "exception": false,
     "start_time": "2021-05-28T18:27:08.439177",
     "status": "completed"
    },
    "tags": []
   },
   "source": [
    "#### File names"
   ]
  },
  {
   "cell_type": "code",
   "execution_count": 7,
   "id": "145b8494",
   "metadata": {
    "execution": {
     "iopub.execute_input": "2021-05-28T18:27:09.250262Z",
     "iopub.status.busy": "2021-05-28T18:27:09.247268Z",
     "iopub.status.idle": "2021-05-28T18:27:09.253273Z",
     "shell.execute_reply": "2021-05-28T18:27:09.249262Z"
    },
    "papermill": {
     "duration": 0.264519,
     "end_time": "2021-05-28T18:27:09.254264",
     "exception": false,
     "start_time": "2021-05-28T18:27:08.989745",
     "status": "completed"
    },
    "tags": []
   },
   "outputs": [],
   "source": [
    "## Input files\n",
    "tempfile = os.path.join(rt_path, f'{percode}.localcur.parquet')\n",
    "gppm_file = os.path.join(rt_path, f'GPPM_Input_{str(percode)}.xlsx')\n",
    "\n",
    "## Output files\n",
    "local_file = f'{percode}.localcur.csv'\n",
    "euro_file = f'{percode}.euroconv.csv'\n",
    "\n"
   ]
  },
  {
   "cell_type": "markdown",
   "id": "99eb6ff0",
   "metadata": {
    "papermill": {
     "duration": 0.233227,
     "end_time": "2021-05-28T18:27:09.780490",
     "exception": false,
     "start_time": "2021-05-28T18:27:09.547263",
     "status": "completed"
    },
    "tags": []
   },
   "source": [
    "#### Read source"
   ]
  },
  {
   "cell_type": "code",
   "execution_count": 8,
   "id": "ae03914a",
   "metadata": {
    "execution": {
     "iopub.execute_input": "2021-05-28T18:27:10.266129Z",
     "iopub.status.busy": "2021-05-28T18:27:10.264122Z",
     "iopub.status.idle": "2021-05-28T18:27:13.946534Z",
     "shell.execute_reply": "2021-05-28T18:27:13.945533Z"
    },
    "papermill": {
     "duration": 3.941086,
     "end_time": "2021-05-28T18:27:13.946534",
     "exception": false,
     "start_time": "2021-05-28T18:27:10.005448",
     "status": "completed"
    },
    "pycharm": {
     "name": "#%%\n"
    },
    "tags": []
   },
   "outputs": [],
   "source": [
    "mo_input = pd.read_parquet(tempfile, engine='pyarrow')\n",
    "\n",
    "\n",
    "\"\"\"reads in the input for the Euro conversion\"\"\"\n",
    "euro = pd.read_excel(gppm_file, sheet_name=\"Euro_Rates\")\n"
   ]
  },
  {
   "cell_type": "markdown",
   "id": "29be89f7",
   "metadata": {
    "papermill": {
     "duration": 0.278522,
     "end_time": "2021-05-28T18:27:14.471052",
     "exception": false,
     "start_time": "2021-05-28T18:27:14.192530",
     "status": "completed"
    },
    "tags": []
   },
   "source": [
    "#### Output local currency csv"
   ]
  },
  {
   "cell_type": "code",
   "execution_count": 9,
   "id": "bab24977",
   "metadata": {
    "execution": {
     "iopub.execute_input": "2021-05-28T18:27:14.927234Z",
     "iopub.status.busy": "2021-05-28T18:27:14.925233Z",
     "iopub.status.idle": "2021-05-28T18:27:22.819297Z",
     "shell.execute_reply": "2021-05-28T18:27:22.820300Z"
    },
    "papermill": {
     "duration": 8.126065,
     "end_time": "2021-05-28T18:27:22.820300",
     "exception": false,
     "start_time": "2021-05-28T18:27:14.694235",
     "status": "completed"
    },
    "pycharm": {
     "is_executing": true,
     "name": "#%%\n"
    },
    "tags": []
   },
   "outputs": [],
   "source": [
    "mo_input.to_csv(os.path.join(rt_path,local_file), ',', index=False, encoding='utf-8-sig')"
   ]
  },
  {
   "cell_type": "markdown",
   "id": "3e6d5ed0",
   "metadata": {
    "papermill": {
     "duration": 0.228999,
     "end_time": "2021-05-28T18:27:23.320341",
     "exception": false,
     "start_time": "2021-05-28T18:27:23.091342",
     "status": "completed"
    },
    "tags": []
   },
   "source": [
    "#### Convert all currency to Euro\n"
   ]
  },
  {
   "cell_type": "code",
   "execution_count": 10,
   "id": "1c9b86fe",
   "metadata": {
    "execution": {
     "iopub.execute_input": "2021-05-28T18:27:23.797072Z",
     "iopub.status.busy": "2021-05-28T18:27:23.791080Z",
     "iopub.status.idle": "2021-05-28T18:27:23.801071Z",
     "shell.execute_reply": "2021-05-28T18:27:23.803071Z"
    },
    "papermill": {
     "duration": 0.262874,
     "end_time": "2021-05-28T18:27:23.803071",
     "exception": false,
     "start_time": "2021-05-28T18:27:23.540197",
     "status": "completed"
    },
    "pycharm": {
     "is_executing": true,
     "name": "#%%\n"
    },
    "tags": []
   },
   "outputs": [],
   "source": [
    "\n",
    "cflds = ['written_revenues_net_of_taxes', 'written_revenues', 'earned_revenues_net_of_taxes',\n",
    "         'earned_revenues', 'earned_base_commissions', 'earned_over_commissions', 'upfront_cash_payments',\n",
    "         'total_compensation', 'paid_claims', 'ocr__ibnr', 'actual_incurred_losses',\n",
    "         'internal_variable_costs', 'az_tech_fee', 'internal_fixed_costs',\n",
    "         'hq_fees', 'total_expenses', 'risk_premium', 'profit_or_loss', 'cm_hq_view', 'cm_bu_view', ]\n",
    "\n",
    "alt_cflds = ['written_revenues_net_of_taxes', 'written_revenues', 'earned_revenues_net_of_taxes',\n",
    "         'earned_revenues', 'earned_base_commissions', 'earned_over-commissions', 'upfront_cash_payments',\n",
    "         'total_compensation', 'paid_claims', 'ocr_+_ibnr','actual_incurred_losses_(paid_+_ocr_+_ibnr)',\n",
    "         'internal_variable_costs_(excl._az_tech_fee)', 'az_tech_fee', 'internal_fixed_costs_(excl._hq_fees)',\n",
    "         'hq_fees', 'total_expenses', 'risk_premium', 'profit_or_loss', 'contribution_margin_-_hq_view', 'contribution_margin_-_bu_view', ]\n",
    "\n",
    "\n"
   ]
  },
  {
   "cell_type": "markdown",
   "id": "73ee90d4",
   "metadata": {
    "papermill": {
     "duration": 0.305221,
     "end_time": "2021-05-28T18:27:24.346968",
     "exception": false,
     "start_time": "2021-05-28T18:27:24.041747",
     "status": "completed"
    },
    "tags": []
   },
   "source": [
    "#### Make a copy for debug purposes"
   ]
  },
  {
   "cell_type": "code",
   "execution_count": 11,
   "id": "0843091c",
   "metadata": {
    "execution": {
     "iopub.execute_input": "2021-05-28T18:27:24.849182Z",
     "iopub.status.busy": "2021-05-28T18:27:24.845173Z",
     "iopub.status.idle": "2021-05-28T18:27:24.856171Z",
     "shell.execute_reply": "2021-05-28T18:27:24.858184Z"
    },
    "papermill": {
     "duration": 0.263876,
     "end_time": "2021-05-28T18:27:24.858184",
     "exception": false,
     "start_time": "2021-05-28T18:27:24.594308",
     "status": "completed"
    },
    "pycharm": {
     "is_executing": true,
     "name": "#%%\n"
    },
    "tags": []
   },
   "outputs": [],
   "source": [
    "trandata = mo_input.copy()"
   ]
  },
  {
   "cell_type": "markdown",
   "id": "fea5f169",
   "metadata": {
    "papermill": {
     "duration": 0.252988,
     "end_time": "2021-05-28T18:27:25.339177",
     "exception": false,
     "start_time": "2021-05-28T18:27:25.086189",
     "status": "completed"
    },
    "tags": []
   },
   "source": [
    "#### Convert Currency Below"
   ]
  },
  {
   "cell_type": "code",
   "execution_count": 12,
   "id": "06a657d0",
   "metadata": {
    "execution": {
     "iopub.execute_input": "2021-05-28T18:27:25.851878Z",
     "iopub.status.busy": "2021-05-28T18:27:25.850879Z",
     "iopub.status.idle": "2021-05-28T18:27:25.856871Z",
     "shell.execute_reply": "2021-05-28T18:27:25.857886Z"
    },
    "papermill": {
     "duration": 0.291597,
     "end_time": "2021-05-28T18:27:25.858889",
     "exception": false,
     "start_time": "2021-05-28T18:27:25.567292",
     "status": "completed"
    },
    "pycharm": {
     "is_executing": true,
     "name": "#%%\n"
    },
    "tags": []
   },
   "outputs": [],
   "source": [
    "# create DataFrame of unique currencies with rates\n",
    "\n",
    "fx_uni = euro[['CURR_CODE','RATE']]\n",
    "fx_uni = fx_uni.drop_duplicates()"
   ]
  },
  {
   "cell_type": "code",
   "execution_count": 13,
   "id": "c296ae7d",
   "metadata": {
    "execution": {
     "iopub.execute_input": "2021-05-28T18:27:26.352429Z",
     "iopub.status.busy": "2021-05-28T18:27:26.348431Z",
     "iopub.status.idle": "2021-05-28T18:27:26.359428Z",
     "shell.execute_reply": "2021-05-28T18:27:26.360432Z"
    },
    "papermill": {
     "duration": 0.27439,
     "end_time": "2021-05-28T18:27:26.360432",
     "exception": false,
     "start_time": "2021-05-28T18:27:26.086042",
     "status": "completed"
    },
    "pycharm": {
     "is_executing": true,
     "name": "#%%\n"
    },
    "tags": []
   },
   "outputs": [],
   "source": [
    "# add euro conversion rates to trandata DataFrame as column 'eur_rate'\n",
    "\n",
    "eurdata = pd.merge(trandata['currency'], fx_uni, left_on='currency', right_on='CURR_CODE', how='left')\n",
    "\n",
    "trandata['eur_rate'] = eurdata['RATE']"
   ]
  },
  {
   "cell_type": "markdown",
   "id": "d3585a03",
   "metadata": {
    "papermill": {
     "duration": 0.276752,
     "end_time": "2021-05-28T18:27:26.847119",
     "exception": false,
     "start_time": "2021-05-28T18:27:26.570367",
     "status": "completed"
    },
    "tags": []
   },
   "source": [
    "#### Convert currency fields"
   ]
  },
  {
   "cell_type": "code",
   "execution_count": 14,
   "id": "71f84746",
   "metadata": {
    "execution": {
     "iopub.execute_input": "2021-05-28T18:27:27.354119Z",
     "iopub.status.busy": "2021-05-28T18:27:27.349116Z",
     "iopub.status.idle": "2021-05-28T18:27:27.906372Z",
     "shell.execute_reply": "2021-05-28T18:27:27.907866Z"
    },
    "papermill": {
     "duration": 0.837745,
     "end_time": "2021-05-28T18:27:27.907866",
     "exception": false,
     "start_time": "2021-05-28T18:27:27.070121",
     "status": "completed"
    },
    "pycharm": {
     "is_executing": true,
     "name": "#%%\n"
    },
    "tags": []
   },
   "outputs": [],
   "source": [
    "try:\n",
    "    trandata[cflds] = trandata[cflds].divide(trandata['eur_rate'], axis=\"index\").fillna(0)\n",
    "\n",
    "except KeyError:\n",
    "    trandata[alt_cflds] = trandata[alt_cflds].divide(trandata['eur_rate'], axis=\"index\").fillna(0)\n",
    "\n",
    "    "
   ]
  },
  {
   "cell_type": "markdown",
   "id": "6bbe2823",
   "metadata": {
    "papermill": {
     "duration": 0.237241,
     "end_time": "2021-05-28T18:27:28.369988",
     "exception": false,
     "start_time": "2021-05-28T18:27:28.132747",
     "status": "completed"
    },
    "tags": []
   },
   "source": [
    "#### Output to {percode}.euroconv.csv"
   ]
  },
  {
   "cell_type": "code",
   "execution_count": 15,
   "id": "5ab1faa9",
   "metadata": {
    "execution": {
     "iopub.execute_input": "2021-05-28T18:27:28.849195Z",
     "iopub.status.busy": "2021-05-28T18:27:28.845198Z",
     "iopub.status.idle": "2021-05-28T18:27:36.358265Z",
     "shell.execute_reply": "2021-05-28T18:27:36.359790Z"
    },
    "papermill": {
     "duration": 7.775649,
     "end_time": "2021-05-28T18:27:36.359790",
     "exception": false,
     "start_time": "2021-05-28T18:27:28.584141",
     "status": "completed"
    },
    "pycharm": {
     "is_executing": true,
     "name": "#%%\n"
    },
    "tags": []
   },
   "outputs": [],
   "source": [
    "trandata.to_csv( os.path.join(   rt_path , euro_file) , ',', index=False, encoding='utf-8-sig')\n"
   ]
  },
  {
   "cell_type": "code",
   "execution_count": 16,
   "id": "1de49ecd",
   "metadata": {
    "execution": {
     "iopub.execute_input": "2021-05-28T18:27:36.896486Z",
     "iopub.status.busy": "2021-05-28T18:27:36.894482Z",
     "iopub.status.idle": "2021-05-28T18:27:36.901492Z",
     "shell.execute_reply": "2021-05-28T18:27:36.900491Z"
    },
    "papermill": {
     "duration": 0.273623,
     "end_time": "2021-05-28T18:27:36.901492",
     "exception": false,
     "start_time": "2021-05-28T18:27:36.627869",
     "status": "completed"
    },
    "tags": []
   },
   "outputs": [],
   "source": [
    "#### Store the DataFrame for other notebooks to use and open the file location for the user to view the new files"
   ]
  },
  {
   "cell_type": "code",
   "execution_count": 17,
   "id": "55bb9e01",
   "metadata": {
    "execution": {
     "iopub.execute_input": "2021-05-28T18:27:37.395919Z",
     "iopub.status.busy": "2021-05-28T18:27:37.394382Z",
     "iopub.status.idle": "2021-05-28T18:27:37.649181Z",
     "shell.execute_reply": "2021-05-28T18:27:37.650177Z"
    },
    "papermill": {
     "duration": 0.531175,
     "end_time": "2021-05-28T18:27:37.650177",
     "exception": false,
     "start_time": "2021-05-28T18:27:37.119002",
     "status": "completed"
    },
    "tags": []
   },
   "outputs": [
    {
     "name": "stdout",
     "output_type": "stream",
     "text": [
      "Stored 'mo_df' (DataFrame)\n"
     ]
    }
   ],
   "source": [
    "mo_df = trandata\n",
    "\n",
    "%store mo_df\n",
    "\n",
    "\n",
    "os.startfile( rt_path   )\n",
    "\n"
   ]
  },
  {
   "cell_type": "code",
   "execution_count": null,
   "id": "5b5e4129",
   "metadata": {
    "papermill": {
     "duration": 0.224115,
     "end_time": "2021-05-28T18:27:38.113327",
     "exception": false,
     "start_time": "2021-05-28T18:27:37.889212",
     "status": "completed"
    },
    "tags": []
   },
   "outputs": [],
   "source": []
  }
 ],
 "metadata": {
  "celltoolbar": "Tags",
  "kernelspec": {
   "display_name": "Python 3",
   "language": "python",
   "name": "python3"
  },
  "language_info": {
   "codemirror_mode": {
    "name": "ipython",
    "version": 3
   },
   "file_extension": ".py",
   "mimetype": "text/x-python",
   "name": "python",
   "nbconvert_exporter": "python",
   "pygments_lexer": "ipython3",
   "version": "3.7.6"
  },
  "papermill": {
   "default_parameters": {},
   "duration": 51.6979,
   "end_time": "2021-05-28T18:27:39.755969",
   "environment_variables": {},
   "exception": null,
   "input_path": "pipeline/make_output.ipynb",
   "output_path": "//hecate/Insurance_US/Product Development/Product Management/Global PPM/Reporting/Data Collection/Pipeline Reporting Scripts/GPMpipeline/instances/2021.Q1\\pipeline\\make_output05282021141936--Demo.ipynb",
   "parameters": {
    "commit_message": "Demo Test",
    "inst_datetime": "05282021141936",
    "percode": "2021.Q1",
    "run_control": 1
   },
   "start_time": "2021-05-28T18:26:48.058069",
   "version": "2.3.3"
  }
 },
 "nbformat": 4,
 "nbformat_minor": 5
}