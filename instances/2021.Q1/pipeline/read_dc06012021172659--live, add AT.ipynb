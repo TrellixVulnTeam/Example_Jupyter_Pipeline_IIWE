{
 "cells": [
  {
   "cell_type": "markdown",
   "id": "e69d606a",
   "metadata": {
    "papermill": {
     "duration": 0.231518,
     "end_time": "2021-06-01T21:28:44.209062",
     "exception": false,
     "start_time": "2021-06-01T21:28:43.977544",
     "status": "completed"
    },
    "tags": []
   },
   "source": [
    "<img src=\"../images/AzPTravel_PPM.png\">"
   ]
  },
  {
   "cell_type": "markdown",
   "id": "90a4b8dc",
   "metadata": {
    "papermill": {
     "duration": 0.222531,
     "end_time": "2021-06-01T21:28:44.655590",
     "exception": false,
     "start_time": "2021-06-01T21:28:44.433059",
     "status": "completed"
    },
    "pycharm": {
     "name": "#%% md\n"
    },
    "tags": []
   },
   "source": [
    "## Read in Data Collection Source\n",
    "\n",
    "#### This script fetches the current data collection submission file from the completed \"prep.ipynb\" step into the pipeline.\n"
   ]
  },
  {
   "cell_type": "markdown",
   "id": "42111837",
   "metadata": {
    "papermill": {
     "duration": 0.230999,
     "end_time": "2021-06-01T21:28:45.114602",
     "exception": false,
     "start_time": "2021-06-01T21:28:44.883603",
     "status": "completed"
    },
    "tags": []
   },
   "source": [
    "### User Variables\n",
    "- These are overwritten if inherited from run_control.ipynb.\n",
    "- Feel Free to reset them for a manual run if you like\n",
    "- Do not save without percode = \"-f\""
   ]
  },
  {
   "cell_type": "code",
   "execution_count": 1,
   "id": "0d92ad00",
   "metadata": {
    "execution": {
     "iopub.execute_input": "2021-06-01T21:28:45.568071Z",
     "iopub.status.busy": "2021-06-01T21:28:45.558066Z",
     "iopub.status.idle": "2021-06-01T21:28:45.570071Z",
     "shell.execute_reply": "2021-06-01T21:28:45.577573Z"
    },
    "papermill": {
     "duration": 0.244697,
     "end_time": "2021-06-01T21:28:45.577573",
     "exception": false,
     "start_time": "2021-06-01T21:28:45.332876",
     "status": "completed"
    },
    "pycharm": {
     "name": "#%%\n"
    },
    "tags": [
     "parameters"
    ]
   },
   "outputs": [],
   "source": [
    "commit_message = \"Development and testing.\"\n",
    "# Give a brief reason for the run.\n",
    "\n",
    "run_control = 1\n",
    "#run_type = 0 - Lite run with no reporting, not recommended.\n",
    "#run_type = 1 - Lite run with normal reporting, default setting.\n",
    "#run_type = 2 - Heavy run with full reporting, available for audits and troubleshooting.\n",
    "#run_type = 5 - A default setting. Indicates the script is being run by an outside process without an inherited value\n",
    "\n",
    "percode = \"2021.Q1\"\n",
    "# Data Collection Code, this controls file paths and output names\n",
    "# \"-f\" is the value indicating a bad inheritance from run with arg\n",
    "\n",
    "#----------\n",
    "# do not edit - this either inherits the full instance timestamp from the papermill book or captures the run time of this script.\n",
    "from datetime import datetime\n",
    "inst_datetime = datetime.now().strftime(\"%m%d%Y%H%M%S\")"
   ]
  },
  {
   "cell_type": "code",
   "execution_count": 2,
   "id": "0ba267cb",
   "metadata": {
    "execution": {
     "iopub.execute_input": "2021-06-01T21:28:46.039919Z",
     "iopub.status.busy": "2021-06-01T21:28:46.036915Z",
     "iopub.status.idle": "2021-06-01T21:28:46.045915Z",
     "shell.execute_reply": "2021-06-01T21:28:46.046916Z"
    },
    "papermill": {
     "duration": 0.240416,
     "end_time": "2021-06-01T21:28:46.047917",
     "exception": false,
     "start_time": "2021-06-01T21:28:45.807501",
     "status": "completed"
    },
    "tags": [
     "injected-parameters"
    ]
   },
   "outputs": [],
   "source": [
    "# Parameters\n",
    "run_control = 1\n",
    "percode = \"2021.Q1\"\n",
    "commit_message = \"Live run, added AT, bad file name, rerun.\"\n",
    "inst_datetime = \"06012021172659\"\n"
   ]
  },
  {
   "cell_type": "markdown",
   "id": "ba57f689",
   "metadata": {
    "papermill": {
     "duration": 0.210562,
     "end_time": "2021-06-01T21:28:46.483646",
     "exception": false,
     "start_time": "2021-06-01T21:28:46.273084",
     "status": "completed"
    },
    "tags": []
   },
   "source": [
    "#### import packages"
   ]
  },
  {
   "cell_type": "code",
   "execution_count": 3,
   "id": "335df720",
   "metadata": {
    "execution": {
     "iopub.execute_input": "2021-06-01T21:28:47.045813Z",
     "iopub.status.busy": "2021-06-01T21:28:47.041796Z",
     "iopub.status.idle": "2021-06-01T21:28:54.005374Z",
     "shell.execute_reply": "2021-06-01T21:28:54.006375Z"
    },
    "papermill": {
     "duration": 7.269169,
     "end_time": "2021-06-01T21:28:54.007379",
     "exception": false,
     "start_time": "2021-06-01T21:28:46.738210",
     "status": "completed"
    },
    "pycharm": {
     "name": "#%%\n"
    },
    "tags": []
   },
   "outputs": [],
   "source": [
    "import os # System commands\n",
    "import sys # System commands\n",
    "\n",
    "import getpass # parquet file read/write\n",
    "import json # json file read/write\n",
    "from sklearn import datasets # pass vars between .ipynb s\n",
    "\n",
    "import matplotlib.pyplot as plt #Plots and Graphs\n",
    "import pandas as pd #DataFrame and math\n"
   ]
  },
  {
   "cell_type": "markdown",
   "id": "0b1a1880",
   "metadata": {
    "papermill": {
     "duration": 0.22201,
     "end_time": "2021-06-01T21:28:54.489487",
     "exception": false,
     "start_time": "2021-06-01T21:28:54.267477",
     "status": "completed"
    },
    "tags": []
   },
   "source": [
    "#### Default Variables, these govern logic, do not edit."
   ]
  },
  {
   "cell_type": "code",
   "execution_count": 4,
   "id": "ad3fcd75",
   "metadata": {
    "execution": {
     "iopub.execute_input": "2021-06-01T21:28:54.964569Z",
     "iopub.status.busy": "2021-06-01T21:28:54.961569Z",
     "iopub.status.idle": "2021-06-01T21:28:54.972179Z",
     "shell.execute_reply": "2021-06-01T21:28:54.974184Z"
    },
    "papermill": {
     "duration": 0.265687,
     "end_time": "2021-06-01T21:28:54.974184",
     "exception": false,
     "start_time": "2021-06-01T21:28:54.708497",
     "status": "completed"
    },
    "pycharm": {
     "name": "#%%\n"
    },
    "tags": []
   },
   "outputs": [],
   "source": [
    "default_dc = \"20XX.QX\"\n",
    "default_rc = 0 #extra lite mode\n",
    "dummy_perc = \"33Q3\" # bad inheritance"
   ]
  },
  {
   "cell_type": "markdown",
   "id": "9f92ce3d",
   "metadata": {
    "papermill": {
     "duration": 0.24128,
     "end_time": "2021-06-01T21:28:55.453754",
     "exception": false,
     "start_time": "2021-06-01T21:28:55.212474",
     "status": "completed"
    },
    "pycharm": {
     "name": "#%% md\n"
    },
    "tags": []
   },
   "source": [
    "#### Script determining run context ie, manual, run_control.ipynb, or other."
   ]
  },
  {
   "cell_type": "code",
   "execution_count": 5,
   "id": "c1a6579b",
   "metadata": {
    "execution": {
     "iopub.execute_input": "2021-06-01T21:28:55.942995Z",
     "iopub.status.busy": "2021-06-01T21:28:55.935995Z",
     "iopub.status.idle": "2021-06-01T21:28:55.949996Z",
     "shell.execute_reply": "2021-06-01T21:28:55.951996Z"
    },
    "papermill": {
     "duration": 0.26915,
     "end_time": "2021-06-01T21:28:55.951996",
     "exception": false,
     "start_time": "2021-06-01T21:28:55.682846",
     "status": "completed"
    },
    "pycharm": {
     "name": "#%%\n"
    },
    "tags": [
     "parameters"
    ]
   },
   "outputs": [],
   "source": [
    "if run_control == 5:\n",
    "    \n",
    "    run_control = default_rc\n",
    "    \n",
    "else:\n",
    "    \n",
    "    run_control = run_control\n",
    "\n",
    "try:\n",
    "    \n",
    "    if sys.argv[1] == \"-f\":\n",
    "        \n",
    "        percode = percode\n",
    "        \n",
    "    else:\n",
    "        \n",
    "        percode = sys.argv[1]\n",
    "\n",
    "except IndexError:\n",
    "    \n",
    "    percode = default_dc\n",
    "\n",
    "except NameError:\n",
    "\n",
    "    percode = default_dc\n"
   ]
  },
  {
   "cell_type": "markdown",
   "id": "a54d9f8a",
   "metadata": {
    "papermill": {
     "duration": 0.234867,
     "end_time": "2021-06-01T21:28:56.421865",
     "exception": false,
     "start_time": "2021-06-01T21:28:56.186998",
     "status": "completed"
    },
    "tags": []
   },
   "source": [
    "#### style settings"
   ]
  },
  {
   "cell_type": "code",
   "execution_count": 6,
   "id": "34822cda",
   "metadata": {
    "execution": {
     "iopub.execute_input": "2021-06-01T21:28:56.860962Z",
     "iopub.status.busy": "2021-06-01T21:28:56.857445Z",
     "iopub.status.idle": "2021-06-01T21:28:56.866962Z",
     "shell.execute_reply": "2021-06-01T21:28:56.868963Z"
    },
    "papermill": {
     "duration": 0.238517,
     "end_time": "2021-06-01T21:28:56.868963",
     "exception": false,
     "start_time": "2021-06-01T21:28:56.630446",
     "status": "completed"
    },
    "tags": []
   },
   "outputs": [],
   "source": [
    "from IPython.core.interactiveshell import InteractiveShell\n",
    "InteractiveShell.ast_node_interactivity = \"all\""
   ]
  },
  {
   "cell_type": "markdown",
   "id": "852e9177",
   "metadata": {
    "papermill": {
     "duration": 0.225144,
     "end_time": "2021-06-01T21:28:57.308901",
     "exception": false,
     "start_time": "2021-06-01T21:28:57.083757",
     "status": "completed"
    },
    "pycharm": {
     "name": "#%% md\n"
    },
    "tags": []
   },
   "source": [
    "#### Make paths for the source folder"
   ]
  },
  {
   "cell_type": "code",
   "execution_count": 7,
   "id": "a465d93f",
   "metadata": {
    "execution": {
     "iopub.execute_input": "2021-06-01T21:28:57.778748Z",
     "iopub.status.busy": "2021-06-01T21:28:57.777742Z",
     "iopub.status.idle": "2021-06-01T21:28:57.791744Z",
     "shell.execute_reply": "2021-06-01T21:28:57.793744Z"
    },
    "papermill": {
     "duration": 0.246854,
     "end_time": "2021-06-01T21:28:57.794749",
     "exception": false,
     "start_time": "2021-06-01T21:28:57.547895",
     "status": "completed"
    },
    "pycharm": {
     "name": "#%%\n"
    },
    "tags": []
   },
   "outputs": [],
   "source": [
    "rt_path = os.path.join(f'\\\\\\\\hecate\\Insurance_US\\Product Development\\Product Management\\Global PPM\\Reporting\\Data Collection\\Production',percode)\n",
    "\n",
    "#archive folders\n",
    "rawpath = os.path.join(rt_path, \"logs\", \"raw_data_file_history\")\n",
    "localpath = os.path.join(rt_path, \"logs\", \"local_currency_source_history\")\n",
    "europath = os.path.join(rt_path, \"logs\", \"euro_source_history\")\n",
    "\n",
    "#script folder\n",
    "scriptpath = os.path.abspath(os.path.join(rt_path, '..', '..', \"Pipeline Reporting Scripts\",\"GPMpipeline\"))\n",
    "\n",
    "piperunner = '//hecate/Insurance_US/Product Development/Product Management/Global PPM/Reporting/_Tools/GitHub/Production Repositories/Pipeline Runner/Pipeline Runner.xlsm'\n"
   ]
  },
  {
   "cell_type": "markdown",
   "id": "f422cbc0",
   "metadata": {
    "papermill": {
     "duration": 0.26599,
     "end_time": "2021-06-01T21:28:58.290595",
     "exception": false,
     "start_time": "2021-06-01T21:28:58.024605",
     "status": "completed"
    },
    "tags": []
   },
   "source": [
    "#### Set file variables"
   ]
  },
  {
   "cell_type": "code",
   "execution_count": 8,
   "id": "a3a32a80",
   "metadata": {
    "execution": {
     "iopub.execute_input": "2021-06-01T21:28:58.737353Z",
     "iopub.status.busy": "2021-06-01T21:28:58.730548Z",
     "iopub.status.idle": "2021-06-01T21:28:58.744352Z",
     "shell.execute_reply": "2021-06-01T21:28:58.745353Z"
    },
    "papermill": {
     "duration": 0.241634,
     "end_time": "2021-06-01T21:28:58.746353",
     "exception": false,
     "start_time": "2021-06-01T21:28:58.504719",
     "status": "completed"
    },
    "tags": []
   },
   "outputs": [],
   "source": [
    "rawfile = f'{str(percode)}.csv'\n",
    "parqfile = f'{str(percode)}.parquet'\n",
    "rawhistfile = f'{percode}_{inst_datetime}.csv'\n",
    "\n",
    "prepfile = f\"{percode}prep.csv\"\n",
    "prepparq = f\"{percode}prep.parquet\"\n",
    "prephistfile = f'{percode}_{inst_datetime}prep.csv'\n",
    "\n",
    "localfile = f'{percode}.localcur.csv'\n",
    "localhistfile = f'{percode}.localcur_{inst_datetime}.csv'\n",
    "\n",
    "eurofile = f'{percode}.euroconv.csv'\n",
    "eurohistfile = f'{percode}.euroconv_{inst_datetime}.csv'\n",
    "\n",
    "xls_runner = 'Pipeline Runner.xlsm'\n",
    "\n"
   ]
  },
  {
   "cell_type": "markdown",
   "id": "e1e711f5",
   "metadata": {
    "papermill": {
     "duration": 0.227771,
     "end_time": "2021-06-01T21:28:59.204833",
     "exception": false,
     "start_time": "2021-06-01T21:28:58.977062",
     "status": "completed"
    },
    "pycharm": {
     "name": "#%% md\n"
    },
    "tags": []
   },
   "source": [
    "- Read each json file into temp DataFrame \"data\".\n",
    "- Prep actions - Strip (trim) leading and trailing spaces values in string columns, remove rows without business units.\n",
    "- Append each json output to into 1 DataFrame \"df\".\n",
    "- Process Cleanup, the indices restart with each append, reset and drop the previous."
   ]
  },
  {
   "cell_type": "code",
   "execution_count": 9,
   "id": "60aa2bce",
   "metadata": {
    "execution": {
     "iopub.execute_input": "2021-06-01T21:28:59.648918Z",
     "iopub.status.busy": "2021-06-01T21:28:59.647918Z",
     "iopub.status.idle": "2021-06-01T21:28:59.702921Z",
     "shell.execute_reply": "2021-06-01T21:28:59.704922Z"
    },
    "papermill": {
     "duration": 0.272656,
     "end_time": "2021-06-01T21:28:59.704922",
     "exception": false,
     "start_time": "2021-06-01T21:28:59.432266",
     "status": "completed"
    },
    "pycharm": {
     "name": "#%%\n"
    },
    "tags": []
   },
   "outputs": [],
   "source": [
    "\n",
    "try:\n",
    "    %store -r prep_df\n",
    "    df = prep_df\n",
    "\n",
    "except:\n",
    "    \n",
    "    try:\n",
    "        df = pd.read_parquet(os.path.join(rt_path,prepparq), engine = \"pyarrow\")\n",
    "    \n",
    "    except:\n",
    "        df = pd.read_csv(os.path.join(rt_path,prepfile) )\n",
    "\n",
    "if run_control > 0:\n",
    "     \n",
    "    try:\n",
    "        os.remove(prepfile)\n",
    "    \n",
    "    except FileNotFoundError:\n",
    "        pass\n",
    "    \n",
    "    try:\n",
    "        os.remove(prepparq)\n",
    "\n",
    "    except FileNotFoundError:\n",
    "        pass\n",
    "        \n",
    "else:\n",
    "\n",
    "    pass"
   ]
  },
  {
   "cell_type": "markdown",
   "id": "ea0b165e",
   "metadata": {
    "papermill": {
     "duration": 0.246692,
     "end_time": "2021-06-01T21:29:00.183166",
     "exception": false,
     "start_time": "2021-06-01T21:28:59.936474",
     "status": "completed"
    },
    "pycharm": {
     "name": "#%% md\n"
    },
    "tags": []
   },
   "source": [
    "#### Upload Charts"
   ]
  },
  {
   "cell_type": "code",
   "execution_count": 10,
   "id": "12e33991",
   "metadata": {
    "execution": {
     "iopub.execute_input": "2021-06-01T21:29:00.672671Z",
     "iopub.status.busy": "2021-06-01T21:29:00.661674Z",
     "iopub.status.idle": "2021-06-01T21:29:01.740230Z",
     "shell.execute_reply": "2021-06-01T21:29:01.742228Z"
    },
    "papermill": {
     "duration": 1.316552,
     "end_time": "2021-06-01T21:29:01.742228",
     "exception": false,
     "start_time": "2021-06-01T21:29:00.425676",
     "status": "completed"
    },
    "pycharm": {
     "name": "#%%\n"
    },
    "tags": []
   },
   "outputs": [
    {
     "data": {
      "text/plain": [
       "<BarContainer object of 11 artists>"
      ]
     },
     "execution_count": 10,
     "metadata": {},
     "output_type": "execute_result"
    },
    {
     "data": {
      "text/plain": [
       "Text(0.5, 1.0, 'Earned Revenue net of Taxes by BU in thousands LC')"
      ]
     },
     "execution_count": 10,
     "metadata": {},
     "output_type": "execute_result"
    },
    {
     "data": {
      "image/png": "[encoded data removed]",
      "text/plain": [
       "<Figure size 432x288 with 1 Axes>"
      ]
     },
     "metadata": {
      "needs_background": "light"
     },
     "output_type": "display_data"
    },
    {
     "data": {
      "text/plain": [
       "<BarContainer object of 11 artists>"
      ]
     },
     "execution_count": 10,
     "metadata": {},
     "output_type": "execute_result"
    },
    {
     "data": {
      "text/plain": [
       "Text(0.5, 1.0, 'Row Counts by BU')"
      ]
     },
     "execution_count": 10,
     "metadata": {},
     "output_type": "execute_result"
    },
    {
     "data": {
      "image/png": "[encoded data removed]",
      "text/plain": [
       "<Figure size 432x288 with 1 Axes>"
      ]
     },
     "metadata": {
      "needs_background": "light"
     },
     "output_type": "display_data"
    }
   ],
   "source": [
    "def num_format(x):\n",
    "    \"\"\"number format without a currency\"\"\"\n",
    "    return \"{:,.0f}\".format(x)\n",
    "\n",
    "if run_control > 0:\n",
    "\n",
    "    sumdata = df.groupby(['Business Unit']).sum()\n",
    "    sumdata = sumdata.reset_index()\n",
    "    plt.bar(sumdata['Business Unit'], sumdata['Earned Revenues net of Taxes']/1000)\n",
    "    plt.title('Earned Revenue net of Taxes by BU in thousands LC')\n",
    "    plt.show()\n",
    "\n",
    "    countdata = df.groupby(['Business Unit']).count()\n",
    "    countdata = countdata.reset_index()\n",
    "    plt.bar(countdata['Business Unit'], countdata['Earned Revenues net of Taxes'])\n",
    "    plt.title('Row Counts by BU')\n",
    "    plt.show()\n",
    "\n",
    "else:\n",
    "    print(\"Charts Skipped\")"
   ]
  },
  {
   "cell_type": "markdown",
   "id": "d573f9aa",
   "metadata": {
    "papermill": {
     "duration": 0.242028,
     "end_time": "2021-06-01T21:29:02.297570",
     "exception": false,
     "start_time": "2021-06-01T21:29:02.055542",
     "status": "completed"
    },
    "tags": []
   },
   "source": [
    "#### Output Processes\n",
    "- Define File names.\n",
    "- If existing csv is found, archive it in \"raw_data_file_history\" folder.\n",
    "- Save new csv."
   ]
  },
  {
   "cell_type": "code",
   "execution_count": 11,
   "id": "fa57879a",
   "metadata": {
    "execution": {
     "iopub.execute_input": "2021-06-01T21:29:02.851422Z",
     "iopub.status.busy": "2021-06-01T21:29:02.830431Z",
     "iopub.status.idle": "2021-06-01T21:29:20.906619Z",
     "shell.execute_reply": "2021-06-01T21:29:20.907614Z"
    },
    "papermill": {
     "duration": 18.340517,
     "end_time": "2021-06-01T21:29:20.908614",
     "exception": false,
     "start_time": "2021-06-01T21:29:02.568097",
     "status": "completed"
    },
    "pycharm": {
     "name": "#%%\n"
    },
    "tags": []
   },
   "outputs": [],
   "source": [
    "if run_control > 0:\n",
    "    \n",
    "    try:\n",
    "        os.rename(os.path.join(rt_path , rawfile), os.path.join(rawpath , rawhistfile))\n",
    "        \n",
    "    except FileNotFoundError:\n",
    "        pass\n",
    "    \n",
    "    try:\n",
    "         os.rename(os.path.join(rt_path , prepfile), os.path.join(rawpath , prephistfile))\n",
    "    \n",
    "    except FileNotFoundError:\n",
    "        pass      \n",
    "    \n",
    "    except FileExistsError:\n",
    "        os.remove(os.path.join(rawpath , prephistfile))\n",
    "        os.rename(os.path.join(rt_path , prepfile), os.path.join(rawpath , prephistfile))    \n",
    "\n",
    "    try:\n",
    "         os.rename(os.path.join(rt_path , localfile), os.path.join(localpath , localhistfile))\n",
    "    \n",
    "    except FileNotFoundError:\n",
    "        pass\n",
    "    \n",
    "    try:\n",
    "         os.rename(os.path.join(rt_path , eurofile), os.path.join(europath , eurohistfile))\n",
    "    \n",
    "    except FileNotFoundError:\n",
    "        pass\n",
    "\n",
    "    df.to_csv(os.path.join(rt_path , rawfile), ',', index=False , encoding='utf-8-sig')\n",
    "    df.to_parquet(os.path.join(rt_path , parqfile), engine = \"pyarrow\") \n",
    "\n",
    "else:\n",
    "    \n",
    "    pass"
   ]
  },
  {
   "cell_type": "markdown",
   "id": "2bd6d864",
   "metadata": {
    "papermill": {
     "duration": 0.257738,
     "end_time": "2021-06-01T21:29:21.451103",
     "exception": false,
     "start_time": "2021-06-01T21:29:21.193365",
     "status": "completed"
    },
    "tags": []
   },
   "source": [
    "- Log update record with commit message and time.\n",
    "- Determine commit message and make new entry"
   ]
  },
  {
   "cell_type": "code",
   "execution_count": 12,
   "id": "3b03649d",
   "metadata": {
    "execution": {
     "iopub.execute_input": "2021-06-01T21:29:21.951489Z",
     "iopub.status.busy": "2021-06-01T21:29:21.938489Z",
     "iopub.status.idle": "2021-06-01T21:29:22.989044Z",
     "shell.execute_reply": "2021-06-01T21:29:22.991044Z"
    },
    "papermill": {
     "duration": 1.315208,
     "end_time": "2021-06-01T21:29:22.992045",
     "exception": false,
     "start_time": "2021-06-01T21:29:21.676837",
     "status": "completed"
    },
    "pycharm": {
     "name": "#%%\n"
    },
    "tags": []
   },
   "outputs": [
    {
     "data": {
      "text/html": [
       "<div>\n",
       "<style scoped>\n",
       "    .dataframe tbody tr th:only-of-type {\n",
       "        vertical-align: middle;\n",
       "    }\n",
       "\n",
       "    .dataframe tbody tr th {\n",
       "        vertical-align: top;\n",
       "    }\n",
       "\n",
       "    .dataframe thead th {\n",
       "        text-align: right;\n",
       "    }\n",
       "</style>\n",
       "<table border=\"1\" class=\"dataframe\">\n",
       "  <thead>\n",
       "    <tr style=\"text-align: right;\">\n",
       "      <th></th>\n",
       "      <th>run_message\\tdatetime\\tuser</th>\n",
       "      <th>run_message</th>\n",
       "      <th>datetime</th>\n",
       "      <th>user</th>\n",
       "      <th>raw_archive</th>\n",
       "      <th>local_archive</th>\n",
       "      <th>euro_archive</th>\n",
       "    </tr>\n",
       "  </thead>\n",
       "  <tbody>\n",
       "    <tr>\n",
       "      <th>0</th>\n",
       "      <td>NaN</td>\n",
       "      <td>Got something new it.</td>\n",
       "      <td>2021-05-21-090854</td>\n",
       "      <td>gharmo</td>\n",
       "      <td>NaN</td>\n",
       "      <td>NaN</td>\n",
       "      <td>NaN</td>\n",
       "    </tr>\n",
       "    <tr>\n",
       "      <th>1</th>\n",
       "      <td>NaN</td>\n",
       "      <td>Changed some folder names.</td>\n",
       "      <td>2021-05-21-153222</td>\n",
       "      <td>gharmo</td>\n",
       "      <td>NaN</td>\n",
       "      <td>NaN</td>\n",
       "      <td>NaN</td>\n",
       "    </tr>\n",
       "    <tr>\n",
       "      <th>2</th>\n",
       "      <td>NaN</td>\n",
       "      <td>Added finance report to the process flow.</td>\n",
       "      <td>2021-05-21-163305</td>\n",
       "      <td>gharmo</td>\n",
       "      <td>NaN</td>\n",
       "      <td>NaN</td>\n",
       "      <td>NaN</td>\n",
       "    </tr>\n",
       "    <tr>\n",
       "      <th>3</th>\n",
       "      <td>NaN</td>\n",
       "      <td>Added finance report to the process flow.</td>\n",
       "      <td>2021-05-21-165556</td>\n",
       "      <td>gharmo</td>\n",
       "      <td>NaN</td>\n",
       "      <td>NaN</td>\n",
       "      <td>NaN</td>\n",
       "    </tr>\n",
       "    <tr>\n",
       "      <th>4</th>\n",
       "      <td>NaN</td>\n",
       "      <td>Added finance report to the process flow.</td>\n",
       "      <td>2021-05-22-163757</td>\n",
       "      <td>gharmo</td>\n",
       "      <td>NaN</td>\n",
       "      <td>NaN</td>\n",
       "      <td>NaN</td>\n",
       "    </tr>\n",
       "    <tr>\n",
       "      <th>5</th>\n",
       "      <td>NaN</td>\n",
       "      <td>Development and testing.</td>\n",
       "      <td>2021-05-22-164026</td>\n",
       "      <td>gharmo</td>\n",
       "      <td>NaN</td>\n",
       "      <td>NaN</td>\n",
       "      <td>NaN</td>\n",
       "    </tr>\n",
       "    <tr>\n",
       "      <th>6</th>\n",
       "      <td>NaN</td>\n",
       "      <td>Development and testing.</td>\n",
       "      <td>2021-05-22-164505</td>\n",
       "      <td>gharmo</td>\n",
       "      <td>NaN</td>\n",
       "      <td>NaN</td>\n",
       "      <td>NaN</td>\n",
       "    </tr>\n",
       "    <tr>\n",
       "      <th>7</th>\n",
       "      <td>NaN</td>\n",
       "      <td>Added finance report to the process flow.</td>\n",
       "      <td>2021-05-22-164644</td>\n",
       "      <td>gharmo</td>\n",
       "      <td>NaN</td>\n",
       "      <td>NaN</td>\n",
       "      <td>NaN</td>\n",
       "    </tr>\n",
       "    <tr>\n",
       "      <th>8</th>\n",
       "      <td>NaN</td>\n",
       "      <td>Added finance report to the process flow.</td>\n",
       "      <td>2021-05-22-171225</td>\n",
       "      <td>gharmo</td>\n",
       "      <td>NaN</td>\n",
       "      <td>NaN</td>\n",
       "      <td>NaN</td>\n",
       "    </tr>\n",
       "    <tr>\n",
       "      <th>9</th>\n",
       "      <td>NaN</td>\n",
       "      <td>Added finance report to the process flow.</td>\n",
       "      <td>2021-05-22-171928</td>\n",
       "      <td>gharmo</td>\n",
       "      <td>NaN</td>\n",
       "      <td>NaN</td>\n",
       "      <td>NaN</td>\n",
       "    </tr>\n",
       "    <tr>\n",
       "      <th>10</th>\n",
       "      <td>NaN</td>\n",
       "      <td>Added finance report to the process flow.</td>\n",
       "      <td>2021-05-23-174300</td>\n",
       "      <td>gharmo</td>\n",
       "      <td>NaN</td>\n",
       "      <td>NaN</td>\n",
       "      <td>NaN</td>\n",
       "    </tr>\n",
       "    <tr>\n",
       "      <th>11</th>\n",
       "      <td>NaN</td>\n",
       "      <td>Added finance report to the process flow.</td>\n",
       "      <td>2021-05-24-091701</td>\n",
       "      <td>gharmo</td>\n",
       "      <td>NaN</td>\n",
       "      <td>NaN</td>\n",
       "      <td>NaN</td>\n",
       "    </tr>\n",
       "    <tr>\n",
       "      <th>12</th>\n",
       "      <td>NaN</td>\n",
       "      <td>Edited data for Austraila, json 2 parquet and ...</td>\n",
       "      <td>2021-05-24-132352</td>\n",
       "      <td>gharmo</td>\n",
       "      <td>NaN</td>\n",
       "      <td>NaN</td>\n",
       "      <td>NaN</td>\n",
       "    </tr>\n",
       "    <tr>\n",
       "      <th>13</th>\n",
       "      <td>NaN</td>\n",
       "      <td>Edited data for Austraila, json 2 parquet and ...</td>\n",
       "      <td>2021-05-24-155918</td>\n",
       "      <td>gharmo</td>\n",
       "      <td>NaN</td>\n",
       "      <td>NaN</td>\n",
       "      <td>NaN</td>\n",
       "    </tr>\n",
       "    <tr>\n",
       "      <th>14</th>\n",
       "      <td>NaN</td>\n",
       "      <td>Edited data for Austraila, json 2 parquet and ...</td>\n",
       "      <td>2021-05-24-173810</td>\n",
       "      <td>gharmo</td>\n",
       "      <td>NaN</td>\n",
       "      <td>NaN</td>\n",
       "      <td>NaN</td>\n",
       "    </tr>\n",
       "    <tr>\n",
       "      <th>15</th>\n",
       "      <td>NaN</td>\n",
       "      <td>Edited data for Austraila, json 2 parquet and ...</td>\n",
       "      <td>2021-05-24-183245</td>\n",
       "      <td>gharmo</td>\n",
       "      <td>NaN</td>\n",
       "      <td>NaN</td>\n",
       "      <td>NaN</td>\n",
       "    </tr>\n",
       "    <tr>\n",
       "      <th>16</th>\n",
       "      <td>NaN</td>\n",
       "      <td>Edited data for Austraila, json 2 parquet and ...</td>\n",
       "      <td>2021-05-24-234401</td>\n",
       "      <td>gharmo</td>\n",
       "      <td>NaN</td>\n",
       "      <td>NaN</td>\n",
       "      <td>NaN</td>\n",
       "    </tr>\n",
       "    <tr>\n",
       "      <th>17</th>\n",
       "      <td>NaN</td>\n",
       "      <td>Edited data for Austraila, json 2 parquet and ...</td>\n",
       "      <td>2021-05-25-002105</td>\n",
       "      <td>gharmo</td>\n",
       "      <td>NaN</td>\n",
       "      <td>NaN</td>\n",
       "      <td>NaN</td>\n",
       "    </tr>\n",
       "    <tr>\n",
       "      <th>18</th>\n",
       "      <td>NaN</td>\n",
       "      <td>Edited data for Austraila, json 2 parquet and ...</td>\n",
       "      <td>2021-05-25-004239</td>\n",
       "      <td>gharmo</td>\n",
       "      <td>NaN</td>\n",
       "      <td>NaN</td>\n",
       "      <td>NaN</td>\n",
       "    </tr>\n",
       "    <tr>\n",
       "      <th>19</th>\n",
       "      <td>NaN</td>\n",
       "      <td>Edited data for Austraila, json 2 parquet and ...</td>\n",
       "      <td>2021-05-25-084905</td>\n",
       "      <td>gharmo</td>\n",
       "      <td>NaN</td>\n",
       "      <td>NaN</td>\n",
       "      <td>NaN</td>\n",
       "    </tr>\n",
       "    <tr>\n",
       "      <th>20</th>\n",
       "      <td>NaN</td>\n",
       "      <td>Edited data for Austraila, json 2 parquet and ...</td>\n",
       "      <td>2021-05-25-114332</td>\n",
       "      <td>gharmo</td>\n",
       "      <td>NaN</td>\n",
       "      <td>NaN</td>\n",
       "      <td>NaN</td>\n",
       "    </tr>\n",
       "    <tr>\n",
       "      <th>21</th>\n",
       "      <td>NaN</td>\n",
       "      <td>Development and testing.</td>\n",
       "      <td>2021-05-25-130633</td>\n",
       "      <td>gharmo</td>\n",
       "      <td>=HYPERLINK(\"\\\\hecate\\Insurance_US\\Product Deve...</td>\n",
       "      <td>=HYPERLINK(\"\\\\hecate\\Insurance_US\\Product Deve...</td>\n",
       "      <td>=HYPERLINK(\"\\\\hecate\\Insurance_US\\Product Deve...</td>\n",
       "    </tr>\n",
       "    <tr>\n",
       "      <th>22</th>\n",
       "      <td>NaN</td>\n",
       "      <td>Development and testing.</td>\n",
       "      <td>2021-05-25-145858</td>\n",
       "      <td>gharmo</td>\n",
       "      <td>=HYPERLINK(\"\\\\hecate\\Insurance_US\\Product Deve...</td>\n",
       "      <td>=HYPERLINK(\"\\\\hecate\\Insurance_US\\Product Deve...</td>\n",
       "      <td>=HYPERLINK(\"\\\\hecate\\Insurance_US\\Product Deve...</td>\n",
       "    </tr>\n",
       "    <tr>\n",
       "      <th>23</th>\n",
       "      <td>NaN</td>\n",
       "      <td>Development and testing.</td>\n",
       "      <td>2021-05-25-150519</td>\n",
       "      <td>gharmo</td>\n",
       "      <td>=HYPERLINK(\"\\\\hecate\\Insurance_US\\Product Deve...</td>\n",
       "      <td>=HYPERLINK(\"\\\\hecate\\Insurance_US\\Product Deve...</td>\n",
       "      <td>=HYPERLINK(\"\\\\hecate\\Insurance_US\\Product Deve...</td>\n",
       "    </tr>\n",
       "    <tr>\n",
       "      <th>24</th>\n",
       "      <td>NaN</td>\n",
       "      <td>Development and testing.</td>\n",
       "      <td>2021-05-25-150834</td>\n",
       "      <td>gharmo</td>\n",
       "      <td>=HYPERLINK(\"\\\\hecate\\Insurance_US\\Product Deve...</td>\n",
       "      <td>=HYPERLINK(\"\\\\hecate\\Insurance_US\\Product Deve...</td>\n",
       "      <td>=HYPERLINK(\"\\\\hecate\\Insurance_US\\Product Deve...</td>\n",
       "    </tr>\n",
       "    <tr>\n",
       "      <th>25</th>\n",
       "      <td>NaN</td>\n",
       "      <td>Edited data for Austraila, json 2 parquet and ...</td>\n",
       "      <td>2021-05-25-152647</td>\n",
       "      <td>gharmo</td>\n",
       "      <td>=HYPERLINK(\"\\\\hecate\\Insurance_US\\Product Deve...</td>\n",
       "      <td>=HYPERLINK(\"\\\\hecate\\Insurance_US\\Product Deve...</td>\n",
       "      <td>=HYPERLINK(\"\\\\hecate\\Insurance_US\\Product Deve...</td>\n",
       "    </tr>\n",
       "    <tr>\n",
       "      <th>26</th>\n",
       "      <td>NaN</td>\n",
       "      <td>Add PL and CZ, added standard reporting to pip...</td>\n",
       "      <td>2021-05-26-080602</td>\n",
       "      <td>gharmo</td>\n",
       "      <td>=HYPERLINK(\"\\\\hecate\\Insurance_US\\Product Deve...</td>\n",
       "      <td>=HYPERLINK(\"\\\\hecate\\Insurance_US\\Product Deve...</td>\n",
       "      <td>=HYPERLINK(\"\\\\hecate\\Insurance_US\\Product Deve...</td>\n",
       "    </tr>\n",
       "    <tr>\n",
       "      <th>27</th>\n",
       "      <td>NaN</td>\n",
       "      <td>Strange etnry found in the 'type of account'.</td>\n",
       "      <td>2021-05-26-092926</td>\n",
       "      <td>gharmo</td>\n",
       "      <td>=HYPERLINK(\"\\\\hecate\\Insurance_US\\Product Deve...</td>\n",
       "      <td>=HYPERLINK(\"\\\\hecate\\Insurance_US\\Product Deve...</td>\n",
       "      <td>=HYPERLINK(\"\\\\hecate\\Insurance_US\\Product Deve...</td>\n",
       "    </tr>\n",
       "    <tr>\n",
       "      <th>28</th>\n",
       "      <td>NaN</td>\n",
       "      <td>Used the old AU file. Replaced, running again.</td>\n",
       "      <td>2021-05-26-094043</td>\n",
       "      <td>gharmo</td>\n",
       "      <td>=HYPERLINK(\"\\\\hecate\\Insurance_US\\Product Deve...</td>\n",
       "      <td>=HYPERLINK(\"\\\\hecate\\Insurance_US\\Product Deve...</td>\n",
       "      <td>=HYPERLINK(\"\\\\hecate\\Insurance_US\\Product Deve...</td>\n",
       "    </tr>\n",
       "    <tr>\n",
       "      <th>29</th>\n",
       "      <td>NaN</td>\n",
       "      <td>Used the old AU file. Replaced, running again.</td>\n",
       "      <td>2021-05-26-094707</td>\n",
       "      <td>gharmo</td>\n",
       "      <td>=HYPERLINK(\"\\\\hecate\\Insurance_US\\Product Deve...</td>\n",
       "      <td>=HYPERLINK(\"\\\\hecate\\Insurance_US\\Product Deve...</td>\n",
       "      <td>=HYPERLINK(\"\\\\hecate\\Insurance_US\\Product Deve...</td>\n",
       "    </tr>\n",
       "    <tr>\n",
       "      <th>30</th>\n",
       "      <td>NaN</td>\n",
       "      <td>Development and testing.</td>\n",
       "      <td>2021-05-26-102233</td>\n",
       "      <td>gharmo</td>\n",
       "      <td>=HYPERLINK(\"\\\\hecate\\Insurance_US\\Product Deve...</td>\n",
       "      <td>=HYPERLINK(\"\\\\hecate\\Insurance_US\\Product Deve...</td>\n",
       "      <td>=HYPERLINK(\"\\\\hecate\\Insurance_US\\Product Deve...</td>\n",
       "    </tr>\n",
       "    <tr>\n",
       "      <th>31</th>\n",
       "      <td>NaN</td>\n",
       "      <td>New AUS needed to be converted from json</td>\n",
       "      <td>2021-05-26-102758</td>\n",
       "      <td>gharmo</td>\n",
       "      <td>=HYPERLINK(\"\\\\hecate\\Insurance_US\\Product Deve...</td>\n",
       "      <td>=HYPERLINK(\"\\\\hecate\\Insurance_US\\Product Deve...</td>\n",
       "      <td>=HYPERLINK(\"\\\\hecate\\Insurance_US\\Product Deve...</td>\n",
       "    </tr>\n",
       "    <tr>\n",
       "      <th>32</th>\n",
       "      <td>NaN</td>\n",
       "      <td>New AUS needed to be converted from json</td>\n",
       "      <td>2021-05-26-110640</td>\n",
       "      <td>gharmo</td>\n",
       "      <td>=HYPERLINK(\"\\\\hecate\\Insurance_US\\Product Deve...</td>\n",
       "      <td>=HYPERLINK(\"\\\\hecate\\Insurance_US\\Product Deve...</td>\n",
       "      <td>=HYPERLINK(\"\\\\hecate\\Insurance_US\\Product Deve...</td>\n",
       "    </tr>\n",
       "    <tr>\n",
       "      <th>33</th>\n",
       "      <td>NaN</td>\n",
       "      <td>Demo Test</td>\n",
       "      <td>2021-05-26-182323</td>\n",
       "      <td>gharmo</td>\n",
       "      <td>=HYPERLINK(\"\\\\hecate\\Insurance_US\\Product Deve...</td>\n",
       "      <td>=HYPERLINK(\"\\\\hecate\\Insurance_US\\Product Deve...</td>\n",
       "      <td>=HYPERLINK(\"\\\\hecate\\Insurance_US\\Product Deve...</td>\n",
       "    </tr>\n",
       "    <tr>\n",
       "      <th>34</th>\n",
       "      <td>NaN</td>\n",
       "      <td>Demo Test</td>\n",
       "      <td>2021-05-27-121925</td>\n",
       "      <td>gharmo</td>\n",
       "      <td>=HYPERLINK(\"\\\\hecate\\Insurance_US\\Product Deve...</td>\n",
       "      <td>=HYPERLINK(\"\\\\hecate\\Insurance_US\\Product Deve...</td>\n",
       "      <td>=HYPERLINK(\"\\\\hecate\\Insurance_US\\Product Deve...</td>\n",
       "    </tr>\n",
       "    <tr>\n",
       "      <th>35</th>\n",
       "      <td>NaN</td>\n",
       "      <td>Demo Test</td>\n",
       "      <td>2021-05-28-130404</td>\n",
       "      <td>gharmo</td>\n",
       "      <td>=HYPERLINK(\"\\\\hecate\\Insurance_US\\Product Deve...</td>\n",
       "      <td>=HYPERLINK(\"\\\\hecate\\Insurance_US\\Product Deve...</td>\n",
       "      <td>=HYPERLINK(\"\\\\hecate\\Insurance_US\\Product Deve...</td>\n",
       "    </tr>\n",
       "    <tr>\n",
       "      <th>36</th>\n",
       "      <td>NaN</td>\n",
       "      <td>Demo Test</td>\n",
       "      <td>2021-05-28-135440</td>\n",
       "      <td>gharmo</td>\n",
       "      <td>=HYPERLINK(\"\\\\hecate\\Insurance_US\\Product Deve...</td>\n",
       "      <td>=HYPERLINK(\"\\\\hecate\\Insurance_US\\Product Deve...</td>\n",
       "      <td>=HYPERLINK(\"\\\\hecate\\Insurance_US\\Product Deve...</td>\n",
       "    </tr>\n",
       "    <tr>\n",
       "      <th>37</th>\n",
       "      <td>NaN</td>\n",
       "      <td>Demo Test</td>\n",
       "      <td>2021-05-28-141936</td>\n",
       "      <td>gharmo</td>\n",
       "      <td>=HYPERLINK(\"\\\\hecate\\Insurance_US\\Product Deve...</td>\n",
       "      <td>=HYPERLINK(\"\\\\hecate\\Insurance_US\\Product Deve...</td>\n",
       "      <td>=HYPERLINK(\"\\\\hecate\\Insurance_US\\Product Deve...</td>\n",
       "    </tr>\n",
       "    <tr>\n",
       "      <th>38</th>\n",
       "      <td>NaN</td>\n",
       "      <td>Demo Test</td>\n",
       "      <td>2021-05-28-164134</td>\n",
       "      <td>gharmo</td>\n",
       "      <td>=HYPERLINK(\"\\\\hecate\\Insurance_US\\Product Deve...</td>\n",
       "      <td>=HYPERLINK(\"\\\\hecate\\Insurance_US\\Product Deve...</td>\n",
       "      <td>=HYPERLINK(\"\\\\hecate\\Insurance_US\\Product Deve...</td>\n",
       "    </tr>\n",
       "    <tr>\n",
       "      <th>39</th>\n",
       "      <td>NaN</td>\n",
       "      <td>Demo Test</td>\n",
       "      <td>2021-06-01-130125</td>\n",
       "      <td>gharmo</td>\n",
       "      <td>=HYPERLINK(\"\\\\hecate\\Insurance_US\\Product Deve...</td>\n",
       "      <td>=HYPERLINK(\"\\\\hecate\\Insurance_US\\Product Deve...</td>\n",
       "      <td>=HYPERLINK(\"\\\\hecate\\Insurance_US\\Product Deve...</td>\n",
       "    </tr>\n",
       "    <tr>\n",
       "      <th>40</th>\n",
       "      <td>NaN</td>\n",
       "      <td>Live run, added AT after conversion from Excel</td>\n",
       "      <td>2021-06-01-170006</td>\n",
       "      <td>gharmo</td>\n",
       "      <td>=HYPERLINK(\"\\\\hecate\\Insurance_US\\Product Deve...</td>\n",
       "      <td>=HYPERLINK(\"\\\\hecate\\Insurance_US\\Product Deve...</td>\n",
       "      <td>=HYPERLINK(\"\\\\hecate\\Insurance_US\\Product Deve...</td>\n",
       "    </tr>\n",
       "    <tr>\n",
       "      <th>0</th>\n",
       "      <td>NaN</td>\n",
       "      <td>Live run, added AT, bad file name, rerun.</td>\n",
       "      <td>2021-06-01-172659</td>\n",
       "      <td>gharmo</td>\n",
       "      <td>=HYPERLINK(\"\\\\hecate\\Insurance_US\\Product Deve...</td>\n",
       "      <td>=HYPERLINK(\"\\\\hecate\\Insurance_US\\Product Deve...</td>\n",
       "      <td>=HYPERLINK(\"\\\\hecate\\Insurance_US\\Product Deve...</td>\n",
       "    </tr>\n",
       "  </tbody>\n",
       "</table>\n",
       "</div>"
      ],
      "text/plain": [
       "    run_message\\tdatetime\\tuser  \\\n",
       "0                           NaN   \n",
       "1                           NaN   \n",
       "2                           NaN   \n",
       "3                           NaN   \n",
       "4                           NaN   \n",
       "5                           NaN   \n",
       "6                           NaN   \n",
       "7                           NaN   \n",
       "8                           NaN   \n",
       "9                           NaN   \n",
       "10                          NaN   \n",
       "11                          NaN   \n",
       "12                          NaN   \n",
       "13                          NaN   \n",
       "14                          NaN   \n",
       "15                          NaN   \n",
       "16                          NaN   \n",
       "17                          NaN   \n",
       "18                          NaN   \n",
       "19                          NaN   \n",
       "20                          NaN   \n",
       "21                          NaN   \n",
       "22                          NaN   \n",
       "23                          NaN   \n",
       "24                          NaN   \n",
       "25                          NaN   \n",
       "26                          NaN   \n",
       "27                          NaN   \n",
       "28                          NaN   \n",
       "29                          NaN   \n",
       "30                          NaN   \n",
       "31                          NaN   \n",
       "32                          NaN   \n",
       "33                          NaN   \n",
       "34                          NaN   \n",
       "35                          NaN   \n",
       "36                          NaN   \n",
       "37                          NaN   \n",
       "38                          NaN   \n",
       "39                          NaN   \n",
       "40                          NaN   \n",
       "0                           NaN   \n",
       "\n",
       "                                          run_message           datetime  \\\n",
       "0                               Got something new it.  2021-05-21-090854   \n",
       "1                          Changed some folder names.  2021-05-21-153222   \n",
       "2           Added finance report to the process flow.  2021-05-21-163305   \n",
       "3           Added finance report to the process flow.  2021-05-21-165556   \n",
       "4           Added finance report to the process flow.  2021-05-22-163757   \n",
       "5                            Development and testing.  2021-05-22-164026   \n",
       "6                            Development and testing.  2021-05-22-164505   \n",
       "7           Added finance report to the process flow.  2021-05-22-164644   \n",
       "8           Added finance report to the process flow.  2021-05-22-171225   \n",
       "9           Added finance report to the process flow.  2021-05-22-171928   \n",
       "10          Added finance report to the process flow.  2021-05-23-174300   \n",
       "11          Added finance report to the process flow.  2021-05-24-091701   \n",
       "12  Edited data for Austraila, json 2 parquet and ...  2021-05-24-132352   \n",
       "13  Edited data for Austraila, json 2 parquet and ...  2021-05-24-155918   \n",
       "14  Edited data for Austraila, json 2 parquet and ...  2021-05-24-173810   \n",
       "15  Edited data for Austraila, json 2 parquet and ...  2021-05-24-183245   \n",
       "16  Edited data for Austraila, json 2 parquet and ...  2021-05-24-234401   \n",
       "17  Edited data for Austraila, json 2 parquet and ...  2021-05-25-002105   \n",
       "18  Edited data for Austraila, json 2 parquet and ...  2021-05-25-004239   \n",
       "19  Edited data for Austraila, json 2 parquet and ...  2021-05-25-084905   \n",
       "20  Edited data for Austraila, json 2 parquet and ...  2021-05-25-114332   \n",
       "21                           Development and testing.  2021-05-25-130633   \n",
       "22                           Development and testing.  2021-05-25-145858   \n",
       "23                           Development and testing.  2021-05-25-150519   \n",
       "24                           Development and testing.  2021-05-25-150834   \n",
       "25  Edited data for Austraila, json 2 parquet and ...  2021-05-25-152647   \n",
       "26  Add PL and CZ, added standard reporting to pip...  2021-05-26-080602   \n",
       "27      Strange etnry found in the 'type of account'.  2021-05-26-092926   \n",
       "28     Used the old AU file. Replaced, running again.  2021-05-26-094043   \n",
       "29     Used the old AU file. Replaced, running again.  2021-05-26-094707   \n",
       "30                           Development and testing.  2021-05-26-102233   \n",
       "31           New AUS needed to be converted from json  2021-05-26-102758   \n",
       "32           New AUS needed to be converted from json  2021-05-26-110640   \n",
       "33                                          Demo Test  2021-05-26-182323   \n",
       "34                                          Demo Test  2021-05-27-121925   \n",
       "35                                          Demo Test  2021-05-28-130404   \n",
       "36                                          Demo Test  2021-05-28-135440   \n",
       "37                                          Demo Test  2021-05-28-141936   \n",
       "38                                          Demo Test  2021-05-28-164134   \n",
       "39                                          Demo Test  2021-06-01-130125   \n",
       "40     Live run, added AT after conversion from Excel  2021-06-01-170006   \n",
       "0           Live run, added AT, bad file name, rerun.  2021-06-01-172659   \n",
       "\n",
       "      user                                        raw_archive  \\\n",
       "0   gharmo                                                NaN   \n",
       "1   gharmo                                                NaN   \n",
       "2   gharmo                                                NaN   \n",
       "3   gharmo                                                NaN   \n",
       "4   gharmo                                                NaN   \n",
       "5   gharmo                                                NaN   \n",
       "6   gharmo                                                NaN   \n",
       "7   gharmo                                                NaN   \n",
       "8   gharmo                                                NaN   \n",
       "9   gharmo                                                NaN   \n",
       "10  gharmo                                                NaN   \n",
       "11  gharmo                                                NaN   \n",
       "12  gharmo                                                NaN   \n",
       "13  gharmo                                                NaN   \n",
       "14  gharmo                                                NaN   \n",
       "15  gharmo                                                NaN   \n",
       "16  gharmo                                                NaN   \n",
       "17  gharmo                                                NaN   \n",
       "18  gharmo                                                NaN   \n",
       "19  gharmo                                                NaN   \n",
       "20  gharmo                                                NaN   \n",
       "21  gharmo  =HYPERLINK(\"\\\\hecate\\Insurance_US\\Product Deve...   \n",
       "22  gharmo  =HYPERLINK(\"\\\\hecate\\Insurance_US\\Product Deve...   \n",
       "23  gharmo  =HYPERLINK(\"\\\\hecate\\Insurance_US\\Product Deve...   \n",
       "24  gharmo  =HYPERLINK(\"\\\\hecate\\Insurance_US\\Product Deve...   \n",
       "25  gharmo  =HYPERLINK(\"\\\\hecate\\Insurance_US\\Product Deve...   \n",
       "26  gharmo  =HYPERLINK(\"\\\\hecate\\Insurance_US\\Product Deve...   \n",
       "27  gharmo  =HYPERLINK(\"\\\\hecate\\Insurance_US\\Product Deve...   \n",
       "28  gharmo  =HYPERLINK(\"\\\\hecate\\Insurance_US\\Product Deve...   \n",
       "29  gharmo  =HYPERLINK(\"\\\\hecate\\Insurance_US\\Product Deve...   \n",
       "30  gharmo  =HYPERLINK(\"\\\\hecate\\Insurance_US\\Product Deve...   \n",
       "31  gharmo  =HYPERLINK(\"\\\\hecate\\Insurance_US\\Product Deve...   \n",
       "32  gharmo  =HYPERLINK(\"\\\\hecate\\Insurance_US\\Product Deve...   \n",
       "33  gharmo  =HYPERLINK(\"\\\\hecate\\Insurance_US\\Product Deve...   \n",
       "34  gharmo  =HYPERLINK(\"\\\\hecate\\Insurance_US\\Product Deve...   \n",
       "35  gharmo  =HYPERLINK(\"\\\\hecate\\Insurance_US\\Product Deve...   \n",
       "36  gharmo  =HYPERLINK(\"\\\\hecate\\Insurance_US\\Product Deve...   \n",
       "37  gharmo  =HYPERLINK(\"\\\\hecate\\Insurance_US\\Product Deve...   \n",
       "38  gharmo  =HYPERLINK(\"\\\\hecate\\Insurance_US\\Product Deve...   \n",
       "39  gharmo  =HYPERLINK(\"\\\\hecate\\Insurance_US\\Product Deve...   \n",
       "40  gharmo  =HYPERLINK(\"\\\\hecate\\Insurance_US\\Product Deve...   \n",
       "0   gharmo  =HYPERLINK(\"\\\\hecate\\Insurance_US\\Product Deve...   \n",
       "\n",
       "                                        local_archive  \\\n",
       "0                                                 NaN   \n",
       "1                                                 NaN   \n",
       "2                                                 NaN   \n",
       "3                                                 NaN   \n",
       "4                                                 NaN   \n",
       "5                                                 NaN   \n",
       "6                                                 NaN   \n",
       "7                                                 NaN   \n",
       "8                                                 NaN   \n",
       "9                                                 NaN   \n",
       "10                                                NaN   \n",
       "11                                                NaN   \n",
       "12                                                NaN   \n",
       "13                                                NaN   \n",
       "14                                                NaN   \n",
       "15                                                NaN   \n",
       "16                                                NaN   \n",
       "17                                                NaN   \n",
       "18                                                NaN   \n",
       "19                                                NaN   \n",
       "20                                                NaN   \n",
       "21  =HYPERLINK(\"\\\\hecate\\Insurance_US\\Product Deve...   \n",
       "22  =HYPERLINK(\"\\\\hecate\\Insurance_US\\Product Deve...   \n",
       "23  =HYPERLINK(\"\\\\hecate\\Insurance_US\\Product Deve...   \n",
       "24  =HYPERLINK(\"\\\\hecate\\Insurance_US\\Product Deve...   \n",
       "25  =HYPERLINK(\"\\\\hecate\\Insurance_US\\Product Deve...   \n",
       "26  =HYPERLINK(\"\\\\hecate\\Insurance_US\\Product Deve...   \n",
       "27  =HYPERLINK(\"\\\\hecate\\Insurance_US\\Product Deve...   \n",
       "28  =HYPERLINK(\"\\\\hecate\\Insurance_US\\Product Deve...   \n",
       "29  =HYPERLINK(\"\\\\hecate\\Insurance_US\\Product Deve...   \n",
       "30  =HYPERLINK(\"\\\\hecate\\Insurance_US\\Product Deve...   \n",
       "31  =HYPERLINK(\"\\\\hecate\\Insurance_US\\Product Deve...   \n",
       "32  =HYPERLINK(\"\\\\hecate\\Insurance_US\\Product Deve...   \n",
       "33  =HYPERLINK(\"\\\\hecate\\Insurance_US\\Product Deve...   \n",
       "34  =HYPERLINK(\"\\\\hecate\\Insurance_US\\Product Deve...   \n",
       "35  =HYPERLINK(\"\\\\hecate\\Insurance_US\\Product Deve...   \n",
       "36  =HYPERLINK(\"\\\\hecate\\Insurance_US\\Product Deve...   \n",
       "37  =HYPERLINK(\"\\\\hecate\\Insurance_US\\Product Deve...   \n",
       "38  =HYPERLINK(\"\\\\hecate\\Insurance_US\\Product Deve...   \n",
       "39  =HYPERLINK(\"\\\\hecate\\Insurance_US\\Product Deve...   \n",
       "40  =HYPERLINK(\"\\\\hecate\\Insurance_US\\Product Deve...   \n",
       "0   =HYPERLINK(\"\\\\hecate\\Insurance_US\\Product Deve...   \n",
       "\n",
       "                                         euro_archive  \n",
       "0                                                 NaN  \n",
       "1                                                 NaN  \n",
       "2                                                 NaN  \n",
       "3                                                 NaN  \n",
       "4                                                 NaN  \n",
       "5                                                 NaN  \n",
       "6                                                 NaN  \n",
       "7                                                 NaN  \n",
       "8                                                 NaN  \n",
       "9                                                 NaN  \n",
       "10                                                NaN  \n",
       "11                                                NaN  \n",
       "12                                                NaN  \n",
       "13                                                NaN  \n",
       "14                                                NaN  \n",
       "15                                                NaN  \n",
       "16                                                NaN  \n",
       "17                                                NaN  \n",
       "18                                                NaN  \n",
       "19                                                NaN  \n",
       "20                                                NaN  \n",
       "21  =HYPERLINK(\"\\\\hecate\\Insurance_US\\Product Deve...  \n",
       "22  =HYPERLINK(\"\\\\hecate\\Insurance_US\\Product Deve...  \n",
       "23  =HYPERLINK(\"\\\\hecate\\Insurance_US\\Product Deve...  \n",
       "24  =HYPERLINK(\"\\\\hecate\\Insurance_US\\Product Deve...  \n",
       "25  =HYPERLINK(\"\\\\hecate\\Insurance_US\\Product Deve...  \n",
       "26  =HYPERLINK(\"\\\\hecate\\Insurance_US\\Product Deve...  \n",
       "27  =HYPERLINK(\"\\\\hecate\\Insurance_US\\Product Deve...  \n",
       "28  =HYPERLINK(\"\\\\hecate\\Insurance_US\\Product Deve...  \n",
       "29  =HYPERLINK(\"\\\\hecate\\Insurance_US\\Product Deve...  \n",
       "30  =HYPERLINK(\"\\\\hecate\\Insurance_US\\Product Deve...  \n",
       "31  =HYPERLINK(\"\\\\hecate\\Insurance_US\\Product Deve...  \n",
       "32  =HYPERLINK(\"\\\\hecate\\Insurance_US\\Product Deve...  \n",
       "33  =HYPERLINK(\"\\\\hecate\\Insurance_US\\Product Deve...  \n",
       "34  =HYPERLINK(\"\\\\hecate\\Insurance_US\\Product Deve...  \n",
       "35  =HYPERLINK(\"\\\\hecate\\Insurance_US\\Product Deve...  \n",
       "36  =HYPERLINK(\"\\\\hecate\\Insurance_US\\Product Deve...  \n",
       "37  =HYPERLINK(\"\\\\hecate\\Insurance_US\\Product Deve...  \n",
       "38  =HYPERLINK(\"\\\\hecate\\Insurance_US\\Product Deve...  \n",
       "39  =HYPERLINK(\"\\\\hecate\\Insurance_US\\Product Deve...  \n",
       "40  =HYPERLINK(\"\\\\hecate\\Insurance_US\\Product Deve...  \n",
       "0   =HYPERLINK(\"\\\\hecate\\Insurance_US\\Product Deve...  "
      ]
     },
     "execution_count": 12,
     "metadata": {},
     "output_type": "execute_result"
    }
   ],
   "source": [
    "log = os.path.join(rt_path, \"logs\", 'pipline_log.csv' )\n",
    "\n",
    "try:\n",
    "    log_df = pd.read_csv(log)\n",
    "except NameError:\n",
    "    print(\"No log file present\")\n",
    "\n",
    "# determine if running from notebook or Excel controller and set commit message.\n",
    "if sys.argv[1] == \"-f\":\n",
    "    message = commit_message\n",
    "else:\n",
    "    piperunner = os.path.join(scriptpath, xls_runner)\n",
    "    wb = openpyxl.load_workbook(piperunner)\n",
    "    sh = wb['Pipeline Runner']\n",
    "    message = {sh['f13'].value}\n",
    "\n",
    "# find username\n",
    "username = getpass.getuser()\n",
    "\n",
    "# file links\n",
    "rawlink = f'=HYPERLINK(\"{os.path.join(rawpath,rawhistfile)}\")'\n",
    "locallink = f'=HYPERLINK(\"{os.path.join(localpath,localhistfile)}\")'\n",
    "eurolink = f'=HYPERLINK(\"{os.path.join(europath,eurohistfile)}\")'\n",
    "\n",
    "# record timestamp\n",
    "datetime = inst_datetime\n",
    "dateformat = datetime[4:8] + '-' + datetime[:2]  + '-' + datetime[2:4]  + '-' + datetime[8:]\n",
    "\n",
    "# add new line\n",
    "newline = { \"run_message\" : [message ],  \"datetime\" :[dateformat], \"user\" : [username ],\n",
    "          \n",
    "          \"raw_archive\" : [rawlink] ,\"local_archive\" :\t[locallink],\"euro_archive\" : [eurolink] }\n",
    "\n",
    "\n",
    "newline = pd.DataFrame.from_dict(newline)\n",
    "\n",
    "# make new file\n",
    "log_df = log_df.append(newline[0:])\n",
    "log_df\n",
    "log_df.to_csv(log, ',', index=False , encoding='utf-8-sig')\n"
   ]
  },
  {
   "cell_type": "markdown",
   "id": "a328dab4",
   "metadata": {
    "papermill": {
     "duration": 0.26395,
     "end_time": "2021-06-01T21:29:23.535863",
     "exception": false,
     "start_time": "2021-06-01T21:29:23.271913",
     "status": "completed"
    },
    "tags": []
   },
   "source": [
    "#### Store the DataFrame for other noteboks to use"
   ]
  },
  {
   "cell_type": "code",
   "execution_count": 13,
   "id": "9ab988a7",
   "metadata": {
    "execution": {
     "iopub.execute_input": "2021-06-01T21:29:24.099482Z",
     "iopub.status.busy": "2021-06-01T21:29:24.095479Z",
     "iopub.status.idle": "2021-06-01T21:29:24.158487Z",
     "shell.execute_reply": "2021-06-01T21:29:24.160483Z"
    },
    "papermill": {
     "duration": 0.347435,
     "end_time": "2021-06-01T21:29:24.160483",
     "exception": false,
     "start_time": "2021-06-01T21:29:23.813048",
     "status": "completed"
    },
    "tags": []
   },
   "outputs": [
    {
     "name": "stdout",
     "output_type": "stream",
     "text": [
      "Stored 'read_dc_df' (DataFrame)\n"
     ]
    }
   ],
   "source": [
    "read_dc_df = df\n",
    "\n",
    "%store read_dc_df\n"
   ]
  }
 ],
 "metadata": {
  "celltoolbar": "Tags",
  "kernelspec": {
   "display_name": "Python 3",
   "language": "python",
   "name": "python3"
  },
  "language_info": {
   "codemirror_mode": {
    "name": "ipython",
    "version": 3
   },
   "file_extension": ".py",
   "mimetype": "text/x-python",
   "name": "python",
   "nbconvert_exporter": "python",
   "pygments_lexer": "ipython3",
   "version": "3.7.6"
  },
  "papermill": {
   "default_parameters": {},
   "duration": 53.513851,
   "end_time": "2021-06-01T21:29:25.173431",
   "environment_variables": {},
   "exception": null,
   "input_path": "pipeline/read_dc.ipynb",
   "output_path": "//hecate/Insurance_US/Product Development/Product Management/Global PPM/Reporting/Data Collection/Pipeline Reporting Scripts/GPMpipeline/instances/2021.Q1\\pipeline\\read_dc06012021172659--live, add AT.ipynb",
   "parameters": {
    "commit_message": "Live run, added AT, bad file name, rerun.",
    "inst_datetime": "06012021172659",
    "percode": "2021.Q1",
    "run_control": 1
   },
   "start_time": "2021-06-01T21:28:31.659580",
   "version": "2.3.3"
  }
 },
 "nbformat": 4,
 "nbformat_minor": 5
}