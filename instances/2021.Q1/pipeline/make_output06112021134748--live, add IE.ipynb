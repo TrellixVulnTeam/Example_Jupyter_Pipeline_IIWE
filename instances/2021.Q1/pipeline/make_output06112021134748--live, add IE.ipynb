{
 "cells": [
  {
   "cell_type": "markdown",
   "id": "9a05580e",
   "metadata": {
    "papermill": {
     "duration": 0.432665,
     "end_time": "2021-06-11T18:20:19.212742",
     "exception": false,
     "start_time": "2021-06-11T18:20:18.780077",
     "status": "completed"
    },
    "pycharm": {
     "name": "#%% md\n"
    },
    "tags": []
   },
   "source": [
    "<img src=\"../images/AzPTravel_PPM.png\">"
   ]
  },
  {
   "cell_type": "markdown",
   "id": "8fbeb4c2",
   "metadata": {
    "papermill": {
     "duration": 0.34225,
     "end_time": "2021-06-11T18:20:19.911384",
     "exception": false,
     "start_time": "2021-06-11T18:20:19.569134",
     "status": "completed"
    },
    "tags": []
   },
   "source": [
    "## GPM Pipeline Output maker\n",
    "\n",
    "#### This script\n",
    "- loads the transformed parquet file\n",
    "- creates the file {parquet}.localcur.csv\n",
    "- makes the Euro conversions\n",
    "- outputs {parquet}.euroconv.csv\n"
   ]
  },
  {
   "cell_type": "markdown",
   "id": "138fe1a2",
   "metadata": {
    "papermill": {
     "duration": 0.317457,
     "end_time": "2021-06-11T18:20:20.577949",
     "exception": false,
     "start_time": "2021-06-11T18:20:20.260492",
     "status": "completed"
    },
    "tags": []
   },
   "source": [
    "#### Parameters section"
   ]
  },
  {
   "cell_type": "code",
   "execution_count": 1,
   "id": "f3175812",
   "metadata": {
    "execution": {
     "iopub.execute_input": "2021-06-11T18:20:21.362658Z",
     "iopub.status.busy": "2021-06-11T18:20:21.362658Z",
     "iopub.status.idle": "2021-06-11T18:20:21.378317Z",
     "shell.execute_reply": "2021-06-11T18:20:21.378317Z"
    },
    "papermill": {
     "duration": 0.454386,
     "end_time": "2021-06-11T18:20:21.378317",
     "exception": false,
     "start_time": "2021-06-11T18:20:20.923931",
     "status": "completed"
    },
    "pycharm": {
     "name": "#%%\n"
    },
    "tags": [
     "parameters"
    ]
   },
   "outputs": [],
   "source": [
    "commit = \"\"\n",
    "# give a reason for the run\n",
    "\n",
    "percode = \"20XX.QX\"\n",
    "# Data Collection Code, this controls file paths and output names\n",
    "\n",
    "run_type = 1\n",
    "#run_type =  0 - lite run with no reporting, not recommended.\n",
    "#run_type =  1 - lite run with normal reporting, default setting.\n",
    "#run_type =  2 - Heavy run with full reporting, available for audits and troubleshooting.\n",
    "\n",
    "specialchars = \"-GTHtest\"\n",
    "# optional - add up to a 12 character code in order to mark your instance record .ipynb\n",
    "\n",
    "from datetime import datetime\n",
    "inst_datetime = datetime.now().strftime(\"%m%d%Y%H%M%S\")\n",
    "# a single datetime stamp for the full instance run\n"
   ]
  },
  {
   "cell_type": "code",
   "execution_count": 2,
   "id": "54157d2a",
   "metadata": {
    "execution": {
     "iopub.execute_input": "2021-06-11T18:20:22.129902Z",
     "iopub.status.busy": "2021-06-11T18:20:22.125903Z",
     "iopub.status.idle": "2021-06-11T18:20:22.135902Z",
     "shell.execute_reply": "2021-06-11T18:20:22.136907Z"
    },
    "papermill": {
     "duration": 0.363621,
     "end_time": "2021-06-11T18:20:22.136907",
     "exception": false,
     "start_time": "2021-06-11T18:20:21.773286",
     "status": "completed"
    },
    "tags": [
     "injected-parameters"
    ]
   },
   "outputs": [],
   "source": [
    "# Parameters\n",
    "run_control = 1\n",
    "percode = \"2021.Q1\"\n",
    "commit_message = \"Live run,Late additions EI was not present.\"\n",
    "inst_datetime = \"06112021134748\"\n"
   ]
  },
  {
   "cell_type": "markdown",
   "id": "735d7f42",
   "metadata": {
    "papermill": {
     "duration": 0.387499,
     "end_time": "2021-06-11T18:20:22.851498",
     "exception": false,
     "start_time": "2021-06-11T18:20:22.463999",
     "status": "completed"
    },
    "tags": []
   },
   "source": [
    "### Set Run Control\n",
    "\n",
    "##### 0 - lite run with no reporting, not recommended.\n",
    "##### 1 - lite run with normal reporting, default setting.\n",
    "##### 2 - Heavy run with full reporting, available for audits and troubleshooting."
   ]
  },
  {
   "cell_type": "code",
   "execution_count": 3,
   "id": "5a66be41",
   "metadata": {
    "execution": {
     "iopub.execute_input": "2021-06-11T18:20:23.535722Z",
     "iopub.status.busy": "2021-06-11T18:20:23.535722Z",
     "iopub.status.idle": "2021-06-11T18:20:23.551343Z",
     "shell.execute_reply": "2021-06-11T18:20:23.551343Z"
    },
    "papermill": {
     "duration": 0.361217,
     "end_time": "2021-06-11T18:20:23.551343",
     "exception": false,
     "start_time": "2021-06-11T18:20:23.190126",
     "status": "completed"
    },
    "pycharm": {
     "name": "#%%\n"
    },
    "tags": []
   },
   "outputs": [],
   "source": [
    "run_control = 0 # in development mode"
   ]
  },
  {
   "cell_type": "markdown",
   "id": "4cea09b0",
   "metadata": {
    "papermill": {
     "duration": 0.377089,
     "end_time": "2021-06-11T18:20:24.299385",
     "exception": false,
     "start_time": "2021-06-11T18:20:23.922296",
     "status": "completed"
    },
    "tags": []
   },
   "source": [
    "#### Packages used"
   ]
  },
  {
   "cell_type": "code",
   "execution_count": 4,
   "id": "476da4e5",
   "metadata": {
    "execution": {
     "iopub.execute_input": "2021-06-11T18:20:25.035818Z",
     "iopub.status.busy": "2021-06-11T18:20:25.033813Z",
     "iopub.status.idle": "2021-06-11T18:20:28.406637Z",
     "shell.execute_reply": "2021-06-11T18:20:28.406637Z"
    },
    "papermill": {
     "duration": 3.74159,
     "end_time": "2021-06-11T18:20:28.406637",
     "exception": false,
     "start_time": "2021-06-11T18:20:24.665047",
     "status": "completed"
    },
    "pycharm": {
     "name": "#%%\n"
    },
    "tags": []
   },
   "outputs": [],
   "source": [
    "import sys\n",
    "import os\n",
    "import pandas as pd"
   ]
  },
  {
   "cell_type": "code",
   "execution_count": 5,
   "id": "d69129ea",
   "metadata": {
    "execution": {
     "iopub.execute_input": "2021-06-11T18:20:29.176178Z",
     "iopub.status.busy": "2021-06-11T18:20:29.176178Z",
     "iopub.status.idle": "2021-06-11T18:20:29.191818Z",
     "shell.execute_reply": "2021-06-11T18:20:29.191818Z"
    },
    "papermill": {
     "duration": 0.416151,
     "end_time": "2021-06-11T18:20:29.191818",
     "exception": false,
     "start_time": "2021-06-11T18:20:28.775667",
     "status": "completed"
    },
    "pycharm": {
     "name": "#%%\n"
    },
    "tags": []
   },
   "outputs": [],
   "source": [
    "default_DC = \"2021.Q1\"\n",
    "\n",
    "try:\n",
    "    if sys.argv[1] == \"-f\":\n",
    "        percode = default_DC\n",
    "    else:\n",
    "        percode = sys.argv[1]\n",
    "\n",
    "except IndexError:\n",
    "    percode = default_DC\n",
    "except NameError:\n",
    "    percode = default_DC"
   ]
  },
  {
   "cell_type": "markdown",
   "id": "901fc3f0",
   "metadata": {
    "papermill": {
     "duration": 1.093127,
     "end_time": "2021-06-11T18:20:30.736839",
     "exception": false,
     "start_time": "2021-06-11T18:20:29.643712",
     "status": "completed"
    },
    "tags": []
   },
   "source": [
    "#### Convert paths and files to variables.\n",
    "#### Read data into pd DataFrames.\n",
    "#### Make paths for the live sources."
   ]
  },
  {
   "cell_type": "code",
   "execution_count": 6,
   "id": "1d2fa8cc",
   "metadata": {
    "execution": {
     "iopub.execute_input": "2021-06-11T18:20:31.467424Z",
     "iopub.status.busy": "2021-06-11T18:20:31.460426Z",
     "iopub.status.idle": "2021-06-11T18:20:31.473427Z",
     "shell.execute_reply": "2021-06-11T18:20:31.475426Z"
    },
    "papermill": {
     "duration": 0.375494,
     "end_time": "2021-06-11T18:20:31.476424",
     "exception": false,
     "start_time": "2021-06-11T18:20:31.100930",
     "status": "completed"
    },
    "pycharm": {
     "name": "#%%\n"
    },
    "tags": []
   },
   "outputs": [],
   "source": [
    "rt_path = os.path.join('\\\\\\\\hecate\\\\Insurance_US\\\\Product Development\\\\Product Management\\\\Global PPM\\\\Reporting\\\\Data Collection\\\\Production',percode)\n",
    "\n",
    "tempfile = os.path.join(rt_path, f'{percode}.localcur.csv')\n",
    "\n",
    "gppm_file = os.path.join(rt_path, f'GPPM_Input_{str(percode)}.xlsx')\n",
    "\n"
   ]
  },
  {
   "cell_type": "markdown",
   "id": "6ecdc7d9",
   "metadata": {
    "papermill": {
     "duration": 0.399809,
     "end_time": "2021-06-11T18:20:32.236939",
     "exception": false,
     "start_time": "2021-06-11T18:20:31.837130",
     "status": "completed"
    },
    "tags": []
   },
   "source": [
    "### Make Files"
   ]
  },
  {
   "cell_type": "code",
   "execution_count": 7,
   "id": "60c7e255",
   "metadata": {
    "execution": {
     "iopub.execute_input": "2021-06-11T18:20:33.031003Z",
     "iopub.status.busy": "2021-06-11T18:20:32.999741Z",
     "iopub.status.idle": "2021-06-11T18:20:33.031003Z",
     "shell.execute_reply": "2021-06-11T18:20:33.046616Z"
    },
    "papermill": {
     "duration": 0.419871,
     "end_time": "2021-06-11T18:20:33.046616",
     "exception": false,
     "start_time": "2021-06-11T18:20:32.626745",
     "status": "completed"
    },
    "tags": []
   },
   "outputs": [],
   "source": [
    "local_file = f'{percode}.localcur.csv'\n",
    "euro_file = f'{percode}.euroconv.csv'\n",
    "\n"
   ]
  },
  {
   "cell_type": "markdown",
   "id": "b3649437",
   "metadata": {
    "papermill": {
     "duration": 0.404598,
     "end_time": "2021-06-11T18:20:33.780740",
     "exception": false,
     "start_time": "2021-06-11T18:20:33.376142",
     "status": "completed"
    },
    "tags": []
   },
   "source": [
    "#### Read source"
   ]
  },
  {
   "cell_type": "code",
   "execution_count": 8,
   "id": "1fa800d8",
   "metadata": {
    "execution": {
     "iopub.execute_input": "2021-06-11T18:20:34.518242Z",
     "iopub.status.busy": "2021-06-11T18:20:34.502613Z",
     "iopub.status.idle": "2021-06-11T18:20:46.780438Z",
     "shell.execute_reply": "2021-06-11T18:20:46.780438Z"
    },
    "papermill": {
     "duration": 12.632742,
     "end_time": "2021-06-11T18:20:46.780438",
     "exception": false,
     "start_time": "2021-06-11T18:20:34.147696",
     "status": "completed"
    },
    "pycharm": {
     "name": "#%%\n"
    },
    "tags": []
   },
   "outputs": [],
   "source": [
    "\n",
    "mo_input = pd.read_csv(tempfile, engine='python')\n",
    "\n",
    "\n",
    "\"\"\"reads in the input for the Euro conversion\"\"\"\n",
    "euro = pd.read_excel(gppm_file, sheet_name=\"Euro_Rates\")\n"
   ]
  },
  {
   "cell_type": "markdown",
   "id": "beb2d756",
   "metadata": {
    "papermill": {
     "duration": 0.33203,
     "end_time": "2021-06-11T18:20:47.589353",
     "exception": false,
     "start_time": "2021-06-11T18:20:47.257323",
     "status": "completed"
    },
    "tags": []
   },
   "source": [
    "#### Output local currency csv"
   ]
  },
  {
   "cell_type": "code",
   "execution_count": 9,
   "id": "67440d82",
   "metadata": {
    "execution": {
     "iopub.execute_input": "2021-06-11T18:20:48.389786Z",
     "iopub.status.busy": "2021-06-11T18:20:48.384784Z",
     "iopub.status.idle": "2021-06-11T18:21:56.200590Z",
     "shell.execute_reply": "2021-06-11T18:21:56.200590Z"
    },
    "papermill": {
     "duration": 68.229802,
     "end_time": "2021-06-11T18:21:56.200590",
     "exception": false,
     "start_time": "2021-06-11T18:20:47.970788",
     "status": "completed"
    },
    "pycharm": {
     "is_executing": true,
     "name": "#%%\n"
    },
    "tags": []
   },
   "outputs": [],
   "source": [
    "mo_input.to_csv(os.path.join(rt_path,local_file), ',', index=False, encoding='utf-8-sig')"
   ]
  },
  {
   "cell_type": "markdown",
   "id": "65f780b6",
   "metadata": {
    "papermill": {
     "duration": 0.392013,
     "end_time": "2021-06-11T18:21:57.122498",
     "exception": false,
     "start_time": "2021-06-11T18:21:56.730485",
     "status": "completed"
    },
    "tags": []
   },
   "source": [
    "#### Convert all currency to Euro\n"
   ]
  },
  {
   "cell_type": "code",
   "execution_count": 10,
   "id": "ddfab544",
   "metadata": {
    "execution": {
     "iopub.execute_input": "2021-06-11T18:21:57.886908Z",
     "iopub.status.busy": "2021-06-11T18:21:57.886908Z",
     "iopub.status.idle": "2021-06-11T18:21:57.902532Z",
     "shell.execute_reply": "2021-06-11T18:21:57.902532Z"
    },
    "papermill": {
     "duration": 0.417026,
     "end_time": "2021-06-11T18:21:57.902532",
     "exception": false,
     "start_time": "2021-06-11T18:21:57.485506",
     "status": "completed"
    },
    "pycharm": {
     "is_executing": true,
     "name": "#%%\n"
    },
    "tags": []
   },
   "outputs": [],
   "source": [
    "\n",
    "\n",
    "cflds = ['written_revenues_net_of_taxes', 'written_revenues', 'earned_revenues_net_of_taxes',\n",
    "         'earned_revenues', 'earned_base_commissions', 'earned_over_commissions', 'upfront_cash_payments',\n",
    "         'total_compensation', 'paid_claims', 'ocr__ibnr', 'actual_incurred_losses',\n",
    "         'internal_variable_costs', 'az_tech_fee', 'internal_fixed_costs',\n",
    "         'hq_fees', 'total_expenses', 'risk_premium', 'profit_or_loss', 'cm_hq_view', 'cm_bu_view', ]\n",
    "\n",
    "alt_cflds = ['written_revenues_net_of_taxes', 'written_revenues', 'earned_revenues_net_of_taxes',\n",
    "         'earned_revenues', 'earned_base_commissions', 'earned_over-commissions', 'upfront_cash_payments',\n",
    "         'total_compensation', 'paid_claims', 'ocr_+_ibnr','actual_incurred_losses_(paid_+_ocr_+_ibnr)',\n",
    "         'internal_variable_costs_(excl._az_tech_fee)', 'az_tech_fee', 'internal_fixed_costs_(excl._hq_fees)',\n",
    "         'hq_fees', 'total_expenses', 'risk_premium', 'profit_or_loss', 'contribution_margin_-_hq_view', 'contribution_margin_-_bu_view', ]\n",
    "\n",
    "\n",
    "\n"
   ]
  },
  {
   "cell_type": "markdown",
   "id": "1c1f3c0a",
   "metadata": {
    "papermill": {
     "duration": 0.455419,
     "end_time": "2021-06-11T18:21:58.828490",
     "exception": false,
     "start_time": "2021-06-11T18:21:58.373071",
     "status": "completed"
    },
    "tags": []
   },
   "source": [
    "#### Make a copy for debug purposes"
   ]
  },
  {
   "cell_type": "code",
   "execution_count": 11,
   "id": "a02811c8",
   "metadata": {
    "execution": {
     "iopub.execute_input": "2021-06-11T18:21:59.726004Z",
     "iopub.status.busy": "2021-06-11T18:21:59.726004Z",
     "iopub.status.idle": "2021-06-11T18:21:59.756273Z",
     "shell.execute_reply": "2021-06-11T18:21:59.756273Z"
    },
    "papermill": {
     "duration": 0.434198,
     "end_time": "2021-06-11T18:21:59.756273",
     "exception": false,
     "start_time": "2021-06-11T18:21:59.322075",
     "status": "completed"
    },
    "pycharm": {
     "is_executing": true,
     "name": "#%%\n"
    },
    "tags": []
   },
   "outputs": [],
   "source": [
    "trandata = mo_input.copy()"
   ]
  },
  {
   "cell_type": "markdown",
   "id": "1236dbc0",
   "metadata": {
    "papermill": {
     "duration": 0.537454,
     "end_time": "2021-06-11T18:22:00.756655",
     "exception": false,
     "start_time": "2021-06-11T18:22:00.219201",
     "status": "completed"
    },
    "tags": []
   },
   "source": [
    "#### Convert Currency Below"
   ]
  },
  {
   "cell_type": "code",
   "execution_count": 12,
   "id": "67a1a5bc",
   "metadata": {
    "execution": {
     "iopub.execute_input": "2021-06-11T18:22:01.586094Z",
     "iopub.status.busy": "2021-06-11T18:22:01.584092Z",
     "iopub.status.idle": "2021-06-11T18:22:01.592093Z",
     "shell.execute_reply": "2021-06-11T18:22:01.594093Z"
    },
    "papermill": {
     "duration": 0.450286,
     "end_time": "2021-06-11T18:22:01.595093",
     "exception": false,
     "start_time": "2021-06-11T18:22:01.144807",
     "status": "completed"
    },
    "pycharm": {
     "is_executing": true,
     "name": "#%%\n"
    },
    "tags": []
   },
   "outputs": [],
   "source": [
    "# create DataFrame of unique currencies with rates\n",
    "\n",
    "fx_uni = euro[['CURR_CODE','RATE']]\n",
    "fx_uni = fx_uni.drop_duplicates()"
   ]
  },
  {
   "cell_type": "code",
   "execution_count": 13,
   "id": "597295b1",
   "metadata": {
    "execution": {
     "iopub.execute_input": "2021-06-11T18:22:02.360080Z",
     "iopub.status.busy": "2021-06-11T18:22:02.357080Z",
     "iopub.status.idle": "2021-06-11T18:22:02.482125Z",
     "shell.execute_reply": "2021-06-11T18:22:02.482125Z"
    },
    "papermill": {
     "duration": 0.512045,
     "end_time": "2021-06-11T18:22:02.482125",
     "exception": false,
     "start_time": "2021-06-11T18:22:01.970080",
     "status": "completed"
    },
    "pycharm": {
     "is_executing": true,
     "name": "#%%\n"
    },
    "tags": []
   },
   "outputs": [],
   "source": [
    "# add euro conversion rates to trandata DataFrame as column 'eur_rate'\n",
    "\n",
    "fx_uni = fx_uni.rename(columns = {\"CURR_CODE\":\"currency\"})\n",
    "\n",
    "eurdata = trandata.merge(fx_uni, how='left', left_on='currency', right_on='currency')\n",
    "\n",
    "\n",
    "trandata['eur_rate'] = eurdata['RATE']\n"
   ]
  },
  {
   "cell_type": "markdown",
   "id": "5c4a93e6",
   "metadata": {
    "papermill": {
     "duration": 0.479745,
     "end_time": "2021-06-11T18:22:03.346235",
     "exception": false,
     "start_time": "2021-06-11T18:22:02.866490",
     "status": "completed"
    },
    "tags": []
   },
   "source": [
    "#### Convert currency fields"
   ]
  },
  {
   "cell_type": "code",
   "execution_count": 14,
   "id": "d5683e5b",
   "metadata": {
    "execution": {
     "iopub.execute_input": "2021-06-11T18:22:04.127408Z",
     "iopub.status.busy": "2021-06-11T18:22:04.114412Z",
     "iopub.status.idle": "2021-06-11T18:22:04.892617Z",
     "shell.execute_reply": "2021-06-11T18:22:04.892617Z"
    },
    "papermill": {
     "duration": 1.167607,
     "end_time": "2021-06-11T18:22:04.892617",
     "exception": false,
     "start_time": "2021-06-11T18:22:03.725010",
     "status": "completed"
    },
    "pycharm": {
     "is_executing": true,
     "name": "#%%\n"
    },
    "tags": []
   },
   "outputs": [],
   "source": [
    "try:\n",
    "    trandata[cflds] = trandata[cflds].divide(trandata['eur_rate'], axis=\"index\").fillna(0)\n",
    "\n",
    "except KeyError:\n",
    "    trandata[alt_cflds] = trandata[alt_cflds].divide(trandata['eur_rate'], axis=\"index\").fillna(0)\n",
    "\n",
    "    \n"
   ]
  },
  {
   "cell_type": "markdown",
   "id": "1a86cd48",
   "metadata": {
    "papermill": {
     "duration": 0.489126,
     "end_time": "2021-06-11T18:22:05.797763",
     "exception": false,
     "start_time": "2021-06-11T18:22:05.308637",
     "status": "completed"
    },
    "tags": []
   },
   "source": [
    "#### Output to {percode}.euroconv.csv"
   ]
  },
  {
   "cell_type": "code",
   "execution_count": 15,
   "id": "28a99581",
   "metadata": {
    "execution": {
     "iopub.execute_input": "2021-06-11T18:22:06.726638Z",
     "iopub.status.busy": "2021-06-11T18:22:06.726638Z",
     "iopub.status.idle": "2021-06-11T18:23:33.167221Z",
     "shell.execute_reply": "2021-06-11T18:23:33.174214Z"
    },
    "papermill": {
     "duration": 87.001253,
     "end_time": "2021-06-11T18:23:33.175214",
     "exception": false,
     "start_time": "2021-06-11T18:22:06.173961",
     "status": "completed"
    },
    "pycharm": {
     "is_executing": true,
     "name": "#%%\n"
    },
    "tags": []
   },
   "outputs": [],
   "source": [
    "trandata.to_csv( os.path.join(   rt_path , euro_file) , ',', index=False, encoding='utf-8-sig')\n"
   ]
  },
  {
   "cell_type": "code",
   "execution_count": 16,
   "id": "a30d835d",
   "metadata": {
    "execution": {
     "iopub.execute_input": "2021-06-11T18:23:34.222998Z",
     "iopub.status.busy": "2021-06-11T18:23:34.220998Z",
     "iopub.status.idle": "2021-06-11T18:23:34.227923Z",
     "shell.execute_reply": "2021-06-11T18:23:34.229021Z"
    },
    "papermill": {
     "duration": 0.480934,
     "end_time": "2021-06-11T18:23:34.229998",
     "exception": false,
     "start_time": "2021-06-11T18:23:33.749064",
     "status": "completed"
    },
    "tags": []
   },
   "outputs": [],
   "source": [
    "#### Store the DataFrame for other notebooks to use and open the file location for the user to view the new files"
   ]
  },
  {
   "cell_type": "code",
   "execution_count": 17,
   "id": "052a4f37",
   "metadata": {
    "execution": {
     "iopub.execute_input": "2021-06-11T18:23:35.278753Z",
     "iopub.status.busy": "2021-06-11T18:23:35.278753Z",
     "iopub.status.idle": "2021-06-11T18:23:35.811110Z",
     "shell.execute_reply": "2021-06-11T18:23:35.813112Z"
    },
    "papermill": {
     "duration": 1.095075,
     "end_time": "2021-06-11T18:23:35.814114",
     "exception": false,
     "start_time": "2021-06-11T18:23:34.719039",
     "status": "completed"
    },
    "tags": []
   },
   "outputs": [
    {
     "name": "stdout",
     "output_type": "stream",
     "text": [
      "Stored 'mo_df' (DataFrame)\n"
     ]
    }
   ],
   "source": [
    "mo_df = trandata\n",
    "\n",
    "%store mo_df\n",
    "\n",
    "\n",
    "os.startfile( rt_path   )\n",
    "\n"
   ]
  },
  {
   "cell_type": "code",
   "execution_count": null,
   "id": "ce37ee97",
   "metadata": {
    "papermill": {
     "duration": 0.587373,
     "end_time": "2021-06-11T18:23:36.760001",
     "exception": false,
     "start_time": "2021-06-11T18:23:36.172628",
     "status": "completed"
    },
    "tags": []
   },
   "outputs": [],
   "source": []
  }
 ],
 "metadata": {
  "celltoolbar": "Tags",
  "kernelspec": {
   "display_name": "Python 3",
   "language": "python",
   "name": "python3"
  },
  "language_info": {
   "codemirror_mode": {
    "name": "ipython",
    "version": 3
   },
   "file_extension": ".py",
   "mimetype": "text/x-python",
   "name": "python",
   "nbconvert_exporter": "python",
   "pygments_lexer": "ipython3",
   "version": "3.7.6"
  },
  "papermill": {
   "default_parameters": {},
   "duration": 219.010528,
   "end_time": "2021-06-11T18:23:38.565436",
   "environment_variables": {},
   "exception": null,
   "input_path": "pipeline/make_output.ipynb",
   "output_path": "//hecate/Insurance_US/Product Development/Product Management/Global PPM/Reporting/Data Collection/Pipeline Reporting Scripts/GPMpipeline/instances/2021.Q1\\pipeline\\make_output06112021134748--live, add IE.ipynb",
   "parameters": {
    "commit_message": "Live run,Late additions EI was not present.",
    "inst_datetime": "06112021134748",
    "percode": "2021.Q1",
    "run_control": 1
   },
   "start_time": "2021-06-11T18:19:59.554908",
   "version": "2.3.3"
  }
 },
 "nbformat": 4,
 "nbformat_minor": 5
}