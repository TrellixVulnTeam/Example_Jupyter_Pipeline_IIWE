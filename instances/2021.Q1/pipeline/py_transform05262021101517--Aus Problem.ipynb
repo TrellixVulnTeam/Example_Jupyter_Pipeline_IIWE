{
 "cells": [
  {
   "cell_type": "markdown",
   "id": "8a9721eb",
   "metadata": {
    "papermill": {
     "duration": 0.26451,
     "end_time": "2021-05-26T14:30:59.955863",
     "exception": false,
     "start_time": "2021-05-26T14:30:59.691353",
     "status": "completed"
    },
    "pycharm": {
     "name": "#%% md\n"
    },
    "tags": []
   },
   "source": [
    "<img src=\"../images/AzPTravel_PPM.png\">"
   ]
  },
  {
   "cell_type": "markdown",
   "id": "7244313c",
   "metadata": {
    "collapsed": true,
    "papermill": {
     "duration": 0.324578,
     "end_time": "2021-05-26T14:31:00.628535",
     "exception": false,
     "start_time": "2021-05-26T14:31:00.303957",
     "status": "completed"
    },
    "pycharm": {
     "name": "#%% md\n"
    },
    "tags": []
   },
   "source": [
    "## GPM Data Transformation Script\n",
    "\n",
    "#### This script transforms the single consolidated raw file \"{Data Collection}.csv\" into it's final GPM input versions \"{Data Collection Code}localcur.csv\" and \"{Data Collection Code}euroconv.csv\"\n",
    "#### Current transformations\n",
    "\n",
    "-    make headers lowercase and replace spaces with hyphens\n",
    "-    Remove any rows with null BUs\n",
    "-    validate columns in validcols\n",
    "-    output documented here: \"Global_Attribute_Catalog.xlsx\" you can also edit dataframe entries using the instructions in the file\n",
    "-    replace various null or placeholder values with \"Not Provided\"\n"
   ]
  },
  {
   "cell_type": "markdown",
   "id": "4f92fb36",
   "metadata": {
    "papermill": {
     "duration": 0.319711,
     "end_time": "2021-05-26T14:31:01.225814",
     "exception": false,
     "start_time": "2021-05-26T14:31:00.906103",
     "status": "completed"
    },
    "tags": []
   },
   "source": [
    "###"
   ]
  },
  {
   "cell_type": "code",
   "execution_count": 1,
   "id": "e3e09e23",
   "metadata": {
    "execution": {
     "iopub.execute_input": "2021-05-26T14:31:01.798848Z",
     "iopub.status.busy": "2021-05-26T14:31:01.790848Z",
     "iopub.status.idle": "2021-05-26T14:31:01.800847Z",
     "shell.execute_reply": "2021-05-26T14:31:01.818847Z"
    },
    "papermill": {
     "duration": 0.315519,
     "end_time": "2021-05-26T14:31:01.819846",
     "exception": false,
     "start_time": "2021-05-26T14:31:01.504327",
     "status": "completed"
    },
    "pycharm": {
     "name": "#%%\n"
    },
    "tags": [
     "parameters"
    ]
   },
   "outputs": [],
   "source": [
    "commit = \"\"\n",
    "# give a reason for the run\n",
    "\n",
    "percode = \"20XX.QX\"\n",
    "# Data Collection Code, this controls file paths and output names\n",
    "\n",
    "run_type = 1\n",
    "#run_type =  0 - lite run with no reporting, not recommended.\n",
    "#run_type =  1 - lite run with normal reporting, default setting.\n",
    "#run_type =  2 - Heavy run with full reporting, available for audits and troubleshooting.\n",
    "\n",
    "specialchars = \"-GTHtest\"\n",
    "# optional - add up to a 12 character code in order to mark your instance record .ipynb\n",
    "\n",
    "from datetime import datetime\n",
    "inst_datetime = datetime.now().strftime(\"%m%d%Y%H%M%S\")\n",
    "# a single datetime stamp for the full instance run\n"
   ]
  },
  {
   "cell_type": "code",
   "execution_count": 2,
   "id": "d56a1d1e",
   "metadata": {
    "execution": {
     "iopub.execute_input": "2021-05-26T14:31:02.403016Z",
     "iopub.status.busy": "2021-05-26T14:31:02.400028Z",
     "iopub.status.idle": "2021-05-26T14:31:02.410016Z",
     "shell.execute_reply": "2021-05-26T14:31:02.411021Z"
    },
    "papermill": {
     "duration": 0.305175,
     "end_time": "2021-05-26T14:31:02.412019",
     "exception": false,
     "start_time": "2021-05-26T14:31:02.106844",
     "status": "completed"
    },
    "tags": [
     "injected-parameters"
    ]
   },
   "outputs": [],
   "source": [
    "# Parameters\n",
    "run_control = 1\n",
    "percode = \"2021.Q1\"\n",
    "commit_message = \"New AUS needed to be converted from json\"\n",
    "inst_datetime = \"05262021101517\"\n"
   ]
  },
  {
   "cell_type": "markdown",
   "id": "0e3d5067",
   "metadata": {
    "papermill": {
     "duration": 0.285473,
     "end_time": "2021-05-26T14:31:02.972532",
     "exception": false,
     "start_time": "2021-05-26T14:31:02.687059",
     "status": "completed"
    },
    "tags": []
   },
   "source": [
    "### Set Run Control\n",
    "\n",
    "##### 0 - lite run with no reporting, not recommended.\n",
    "##### 1 - lite run with normal reporting, default setting.\n",
    "##### 2 - Heavy run with full reporting, available for audits and troubleshooting."
   ]
  },
  {
   "cell_type": "code",
   "execution_count": 3,
   "id": "f40186f4",
   "metadata": {
    "execution": {
     "iopub.execute_input": "2021-05-26T14:31:03.598649Z",
     "iopub.status.busy": "2021-05-26T14:31:03.595647Z",
     "iopub.status.idle": "2021-05-26T14:31:03.602648Z",
     "shell.execute_reply": "2021-05-26T14:31:03.603647Z"
    },
    "papermill": {
     "duration": 0.321133,
     "end_time": "2021-05-26T14:31:03.603647",
     "exception": false,
     "start_time": "2021-05-26T14:31:03.282514",
     "status": "completed"
    },
    "pycharm": {
     "name": "#%%\n"
    },
    "tags": []
   },
   "outputs": [],
   "source": [
    "run_control = 0  # in development mode"
   ]
  },
  {
   "cell_type": "code",
   "execution_count": 4,
   "id": "d2a95cbc",
   "metadata": {
    "execution": {
     "iopub.execute_input": "2021-05-26T14:31:04.172920Z",
     "iopub.status.busy": "2021-05-26T14:31:04.168920Z",
     "iopub.status.idle": "2021-05-26T14:31:06.830565Z",
     "shell.execute_reply": "2021-05-26T14:31:06.833020Z"
    },
    "papermill": {
     "duration": 2.926374,
     "end_time": "2021-05-26T14:31:06.833020",
     "exception": false,
     "start_time": "2021-05-26T14:31:03.906646",
     "status": "completed"
    },
    "pycharm": {
     "name": "#%%\n"
    },
    "tags": []
   },
   "outputs": [],
   "source": [
    "#### Packages used\n",
    "import sys\n",
    "import os\n",
    "import pandas as pd\n",
    "from pandas import ExcelWriter\n",
    "from numpy import nan"
   ]
  },
  {
   "cell_type": "code",
   "execution_count": 5,
   "id": "5ce68618",
   "metadata": {
    "execution": {
     "iopub.execute_input": "2021-05-26T14:31:07.494674Z",
     "iopub.status.busy": "2021-05-26T14:31:07.487667Z",
     "iopub.status.idle": "2021-05-26T14:31:07.504663Z",
     "shell.execute_reply": "2021-05-26T14:31:07.506669Z"
    },
    "papermill": {
     "duration": 0.36356,
     "end_time": "2021-05-26T14:31:07.506669",
     "exception": false,
     "start_time": "2021-05-26T14:31:07.143109",
     "status": "completed"
    },
    "pycharm": {
     "name": "#%%\n"
    },
    "tags": []
   },
   "outputs": [],
   "source": [
    "default_dc = \"2021.Q1\"\n",
    "\n",
    "try:\n",
    "    if sys.argv[1] == \"-f\":\n",
    "        percode = default_dc\n",
    "    else:\n",
    "        percode = sys.argv[1]\n",
    "\n",
    "except IndexError:\n",
    "    percode = default_dc\n",
    "except NameError:\n",
    "    percode = default_dc"
   ]
  },
  {
   "cell_type": "markdown",
   "id": "a1f6dcd9",
   "metadata": {
    "papermill": {
     "duration": 0.379284,
     "end_time": "2021-05-26T14:31:08.188545",
     "exception": false,
     "start_time": "2021-05-26T14:31:07.809261",
     "status": "completed"
    },
    "tags": []
   },
   "source": [
    "#### style settings"
   ]
  },
  {
   "cell_type": "code",
   "execution_count": 6,
   "id": "74f4b41e",
   "metadata": {
    "execution": {
     "iopub.execute_input": "2021-05-26T14:31:11.734151Z",
     "iopub.status.busy": "2021-05-26T14:31:11.731153Z",
     "iopub.status.idle": "2021-05-26T14:31:11.740150Z",
     "shell.execute_reply": "2021-05-26T14:31:11.742151Z"
    },
    "papermill": {
     "duration": 3.233188,
     "end_time": "2021-05-26T14:31:11.742151",
     "exception": false,
     "start_time": "2021-05-26T14:31:08.508963",
     "status": "completed"
    },
    "tags": []
   },
   "outputs": [],
   "source": [
    "from IPython.core.interactiveshell import InteractiveShell\n",
    "InteractiveShell.ast_node_interactivity = \"all\""
   ]
  },
  {
   "cell_type": "markdown",
   "id": "1a981af9",
   "metadata": {
    "papermill": {
     "duration": 0.330876,
     "end_time": "2021-05-26T14:31:12.372081",
     "exception": false,
     "start_time": "2021-05-26T14:31:12.041205",
     "status": "completed"
    },
    "tags": []
   },
   "source": [
    "#### Convert paths and files to variables.\n",
    "#### Read data into pd DataFrames.\n",
    "#### Make paths for the live sources."
   ]
  },
  {
   "cell_type": "code",
   "execution_count": 7,
   "id": "082274b6",
   "metadata": {
    "execution": {
     "iopub.execute_input": "2021-05-26T14:31:13.039149Z",
     "iopub.status.busy": "2021-05-26T14:31:13.032150Z",
     "iopub.status.idle": "2021-05-26T14:31:13.049158Z",
     "shell.execute_reply": "2021-05-26T14:31:13.050150Z"
    },
    "papermill": {
     "duration": 0.346822,
     "end_time": "2021-05-26T14:31:13.050150",
     "exception": false,
     "start_time": "2021-05-26T14:31:12.703328",
     "status": "completed"
    },
    "pycharm": {
     "name": "#%%\n"
    },
    "tags": []
   },
   "outputs": [],
   "source": [
    "rt_path = os.path.join( f'\\\\\\\\hecate\\\\Insurance_US\\\\Product Development\\\\Product Management\\\\Global PPM\\\\Reporting\\\\Data Collection\\\\Production',percode)\n",
    "\n",
    "infile = os.path.join(rt_path, f'{str(percode)}.parquet')\n",
    "gppm_file = os.path.join(rt_path, f'GPPM_Input_{str(percode)}.xlsx')\n",
    "atcat = os.path.join(rt_path, f'{percode}_Attribute_Catalog.xlsx')\n"
   ]
  },
  {
   "cell_type": "code",
   "execution_count": 8,
   "id": "817492a0",
   "metadata": {
    "execution": {
     "iopub.execute_input": "2021-05-26T14:31:13.709276Z",
     "iopub.status.busy": "2021-05-26T14:31:13.707274Z",
     "iopub.status.idle": "2021-05-26T14:31:13.714283Z",
     "shell.execute_reply": "2021-05-26T14:31:13.716273Z"
    },
    "papermill": {
     "duration": 0.353867,
     "end_time": "2021-05-26T14:31:13.716273",
     "exception": false,
     "start_time": "2021-05-26T14:31:13.362406",
     "status": "completed"
    },
    "tags": []
   },
   "outputs": [],
   "source": [
    "#### Read input file\n",
    "\n",
    "#### This reads the consolidated file that will be transformed or a stored dataframe based on the execution method."
   ]
  },
  {
   "cell_type": "code",
   "execution_count": 9,
   "id": "dc825e34",
   "metadata": {
    "execution": {
     "iopub.execute_input": "2021-05-26T14:31:14.369222Z",
     "iopub.status.busy": "2021-05-26T14:31:14.362211Z",
     "iopub.status.idle": "2021-05-26T14:31:14.483763Z",
     "shell.execute_reply": "2021-05-26T14:31:14.484763Z"
    },
    "papermill": {
     "duration": 0.469978,
     "end_time": "2021-05-26T14:31:14.485772",
     "exception": false,
     "start_time": "2021-05-26T14:31:14.015794",
     "status": "completed"
    },
    "pycharm": {
     "name": "#%%\n"
    },
    "tags": []
   },
   "outputs": [
    {
     "name": "stdout",
     "output_type": "stream",
     "text": [
      "                       Submission File Business Unit Country Currency  \\\n",
      "0     us_dat_au_05142021143612.parquet            AU      AU      AUD   \n",
      "1     us_dat_au_05142021143612.parquet            AU      AU      AUD   \n",
      "2     us_dat_au_05142021143612.parquet            AU      AU      AUD   \n",
      "3     us_dat_au_05142021143612.parquet            AU      AU      AUD   \n",
      "4     us_dat_au_05142021143612.parquet            AU      AU      AUD   \n",
      "...                                ...           ...     ...      ...   \n",
      "3468  us_dat_pt_05202021121056.parquet            PT      PT      EUR   \n",
      "3469  us_dat_pt_05202021121056.parquet            PT      PT      EUR   \n",
      "3470  us_dat_pt_05202021121056.parquet            PT      PT      EUR   \n",
      "3471  us_dat_pt_05202021121056.parquet            PT      PT      EUR   \n",
      "3472  us_dat_pt_05202021121056.parquet            PT      PT      EUR   \n",
      "\n",
      "                           Region Reporting Date From Reporting Date To  \\\n",
      "0                            APAC          2021-01-01        2021-03-31   \n",
      "1                            APAC          2021-01-01        2021-03-31   \n",
      "2                            APAC          2021-01-01        2021-03-31   \n",
      "3                            APAC          2021-01-01        2021-03-31   \n",
      "4                            APAC          2021-01-01        2021-03-31   \n",
      "...                           ...                 ...               ...   \n",
      "3468  Western Europe, LATAM & MEA          2021-01-01        2021-03-31   \n",
      "3469  Western Europe, LATAM & MEA          2021-01-01        2021-03-31   \n",
      "3470  Western Europe, LATAM & MEA          2021-01-01        2021-03-31   \n",
      "3471  Western Europe, LATAM & MEA          2021-01-01        2021-03-31   \n",
      "3472  Western Europe, LATAM & MEA          2021-01-01        2021-03-31   \n",
      "\n",
      "     Date of Analysis Type of Analysis  Analysed Months  ...  Notes  \\\n",
      "0          2021-04-30     Year To Date              3.0  ...          \n",
      "1          2021-04-30     Year To Date              3.0  ...          \n",
      "2          2021-04-30     Year To Date              3.0  ...          \n",
      "3          2021-04-30     Year To Date              3.0  ...          \n",
      "4          2021-04-30     Year To Date              3.0  ...          \n",
      "...               ...              ...              ...  ...    ...   \n",
      "3468       2021-03-31     Year To Date              3.0  ...    0.0   \n",
      "3469       2021-03-31     Year To Date              3.0  ...    0.0   \n",
      "3470       2021-03-31     Year To Date              3.0  ...    0.0   \n",
      "3471       2021-03-31     Year To Date              3.0  ...    0.0   \n",
      "3472       2021-03-31     Year To Date              3.0  ...    0.0   \n",
      "\n",
      "      Unnamed: 66  concat2    comsub     expsub Reporting Date From INT  \\\n",
      "0             0.0    AUAUD  0.100998   3.245346                20210101   \n",
      "1             0.0    AUAUD  0.233379   3.589092                20210101   \n",
      "2             0.0    AUAUD  0.000000   0.000000                20210101   \n",
      "3             0.0    AUAUD  0.000000   4.723789                20210101   \n",
      "4             0.0    AUAUD  0.220000   4.239521                20210101   \n",
      "...           ...      ...       ...        ...                     ...   \n",
      "3468          0.0    PTEUR  0.000000   0.538397                20210101   \n",
      "3469          0.0    PTEUR  0.000000   0.426832                20210101   \n",
      "3470          0.0    PTEUR  0.000000  18.673326                20210101   \n",
      "3471          0.0    PTEUR  0.000000   0.859278                20210101   \n",
      "3472          0.0    PTEUR  0.000000   1.023709                20210101   \n",
      "\n",
      "     Reporting Date To INT Date of Analysis INT  \\\n",
      "0                 20210331             20210430   \n",
      "1                 20210331             20210430   \n",
      "2                 20210331             20210430   \n",
      "3                 20210331             20210430   \n",
      "4                 20210331             20210430   \n",
      "...                    ...                  ...   \n",
      "3468              20210331             20210331   \n",
      "3469              20210331             20210331   \n",
      "3470              20210331             20210331   \n",
      "3471              20210331             20210331   \n",
      "3472              20210331             20210331   \n",
      "\n",
      "                         Selected Fields for Duplicates ibnrsub  \n",
      "0     AUInsuranceLocalB2B2CTravelAllianz Affiliation...     NaN  \n",
      "1     AUInsuranceLocalB2B2CTravelOffline Travel Agen...     NaN  \n",
      "2     AUInsuranceLocalB2B2CTravelOffline Travel Agen...     NaN  \n",
      "3     AUInsuranceLocalB2B2CTravelAllianz Affiliation...     NaN  \n",
      "4     AUInsuranceLocalB2CTravelDirect (Allianz Partn...     NaN  \n",
      "...                                                 ...     ...  \n",
      "3468  PTReinsuranceLocalB2B2CTravelDirect (Allianz P...     0.0  \n",
      "3469  PTReinsuranceLocalB2B2CTravelDirect (Allianz P...     0.0  \n",
      "3470  PTReinsuranceLocalB2B2CTravelDirect (Allianz P...     0.0  \n",
      "3471  PTReinsuranceLocalB2B2CTravelDirect (Allianz P...     0.0  \n",
      "3472  PTReinsuranceLocalB2BTravelDirect (Allianz Par...     0.0  \n",
      "\n",
      "[3473 rows x 76 columns]\n"
     ]
    }
   ],
   "source": [
    "try:\n",
    "    %store -r read_dc_df\n",
    "    input = read_dc_df\n",
    "        \n",
    "except:\n",
    "    input = pd.read_parquet(infile,engine = \"pyarrow\")\n",
    "    os.remove(infile)\n",
    "\n",
    "print(input)"
   ]
  },
  {
   "cell_type": "markdown",
   "id": "ffe4209c",
   "metadata": {
    "papermill": {
     "duration": 0.699958,
     "end_time": "2021-05-26T14:31:15.670025",
     "exception": false,
     "start_time": "2021-05-26T14:31:14.970067",
     "status": "completed"
    },
    "tags": []
   },
   "source": [
    "#### Make a copy for debug purposes"
   ]
  },
  {
   "cell_type": "code",
   "execution_count": 10,
   "id": "aa15e111",
   "metadata": {
    "execution": {
     "iopub.execute_input": "2021-05-26T14:31:17.374304Z",
     "iopub.status.busy": "2021-05-26T14:31:17.369306Z",
     "iopub.status.idle": "2021-05-26T14:31:17.380308Z",
     "shell.execute_reply": "2021-05-26T14:31:17.382306Z"
    },
    "papermill": {
     "duration": 1.002398,
     "end_time": "2021-05-26T14:31:17.382306",
     "exception": false,
     "start_time": "2021-05-26T14:31:16.379908",
     "status": "completed"
    },
    "pycharm": {
     "name": "#%%\n"
    },
    "tags": []
   },
   "outputs": [],
   "source": [
    "trandata = input.copy()"
   ]
  },
  {
   "cell_type": "markdown",
   "id": "4fe4afa5",
   "metadata": {
    "papermill": {
     "duration": 0.457661,
     "end_time": "2021-05-26T14:31:18.279238",
     "exception": false,
     "start_time": "2021-05-26T14:31:17.821577",
     "status": "completed"
    },
    "tags": []
   },
   "source": [
    "#### Format Headers"
   ]
  },
  {
   "cell_type": "code",
   "execution_count": 11,
   "id": "99a352f3",
   "metadata": {
    "execution": {
     "iopub.execute_input": "2021-05-26T14:31:19.147281Z",
     "iopub.status.busy": "2021-05-26T14:31:19.146281Z",
     "iopub.status.idle": "2021-05-26T14:31:19.167281Z",
     "shell.execute_reply": "2021-05-26T14:31:19.168289Z"
    },
    "papermill": {
     "duration": 0.443515,
     "end_time": "2021-05-26T14:31:19.169282",
     "exception": false,
     "start_time": "2021-05-26T14:31:18.725767",
     "status": "completed"
    },
    "pycharm": {
     "name": "#%%\n"
    },
    "tags": []
   },
   "outputs": [
    {
     "data": {
      "text/plain": [
       "'format headers'"
      ]
     },
     "execution_count": 11,
     "metadata": {},
     "output_type": "execute_result"
    }
   ],
   "source": [
    "# save the column names to variable, format them, replace headers\n",
    "cols = trandata.columns.values\n",
    "\n",
    "\"\"\"format headers\"\"\"\n",
    "fixedcols = []\n",
    "\n",
    "for f in cols:\n",
    "    fixedhead = f.replace(' ', '_').lower()\n",
    "    fixedcols.append(fixedhead)\n",
    "\n",
    "trandata.columns = fixedcols"
   ]
  },
  {
   "cell_type": "markdown",
   "id": "40956f0d",
   "metadata": {
    "papermill": {
     "duration": 0.47562,
     "end_time": "2021-05-26T14:31:22.754511",
     "exception": false,
     "start_time": "2021-05-26T14:31:22.278891",
     "status": "completed"
    },
    "pycharm": {
     "name": "#%% md\n"
    },
    "tags": []
   },
   "source": [
    "#### Update Verification 1"
   ]
  },
  {
   "cell_type": "code",
   "execution_count": 12,
   "id": "4881be7a",
   "metadata": {
    "execution": {
     "iopub.execute_input": "2021-05-26T14:31:23.547186Z",
     "iopub.status.busy": "2021-05-26T14:31:23.540183Z",
     "iopub.status.idle": "2021-05-26T14:31:23.801701Z",
     "shell.execute_reply": "2021-05-26T14:31:23.802706Z"
    },
    "papermill": {
     "duration": 0.612049,
     "end_time": "2021-05-26T14:31:23.803704",
     "exception": false,
     "start_time": "2021-05-26T14:31:23.191655",
     "status": "completed"
    },
    "pycharm": {
     "name": "#%%\n"
    },
    "tags": []
   },
   "outputs": [
    {
     "name": "stdout",
     "output_type": "stream",
     "text": [
      "|    | Original                                                        | Transformed                                                     |\n",
      "|---:|:----------------------------------------------------------------|:----------------------------------------------------------------|\n",
      "|  0 | Submission File                                                 | submission_file                                                 |\n",
      "|  1 | Business Unit                                                   | business_unit                                                   |\n",
      "|  2 | Country                                                         | country                                                         |\n",
      "|  3 | Currency                                                        | currency                                                        |\n",
      "|  4 | Region                                                          | region                                                          |\n",
      "|  5 | Reporting Date From                                             | reporting_date_from                                             |\n",
      "|  6 | Reporting Date To                                               | reporting_date_to                                               |\n",
      "|  7 | Date of Analysis                                                | date_of_analysis                                                |\n",
      "|  8 | Type of Analysis                                                | type_of_analysis                                                |\n",
      "|  9 | Analysed Months                                                 | analysed_months                                                 |\n",
      "| 10 | Reporting Year                                                  | reporting_year                                                  |\n",
      "| 11 | Reporting Quarter                                               | reporting_quarter                                               |\n",
      "| 12 | Reporting Month                                                 | reporting_month                                                 |\n",
      "| 13 | Type of Business                                                | type_of_business                                                |\n",
      "| 14 | Type of Account                                                 | type_of_account                                                 |\n",
      "| 15 | Distribution Type                                               | distribution_type                                               |\n",
      "| 16 | LOB                                                             | lob                                                             |\n",
      "| 17 | Distribution Channel                                            | distribution_channel                                            |\n",
      "| 18 | Sub LOB                                                         | sub_lob                                                         |\n",
      "| 19 | Business Partner Name                                           | business_partner_name                                           |\n",
      "| 20 | Business Partner ID Number                                      | business_partner_id_number                                      |\n",
      "| 21 | Product Name                                                    | product_name                                                    |\n",
      "| 22 | Product ID Number                                               | product_id_number                                               |\n",
      "| 23 | Product Family                                                  | product_family                                                  |\n",
      "| 24 | Standard Product                                                | standard_product                                                |\n",
      "| 25 | Number of Products per Row                                      | number_of_products_per_row                                      |\n",
      "| 26 | Number of B-Partners per Row                                    | number_of_b-partners_per_row                                    |\n",
      "| 27 | Number of Policies (Written)                                    | number_of_policies_(written)                                    |\n",
      "| 28 | Units of Risk (Written)                                         | units_of_risk_(written)                                         |\n",
      "| 29 | Written Revenues net of Taxes                                   | written_revenues_net_of_taxes                                   |\n",
      "| 30 | Written Revenues                                                | written_revenues                                                |\n",
      "| 31 | Number of Policies (Earned)                                     | number_of_policies_(earned)                                     |\n",
      "| 32 | Units of Risk (Earned)                                          | units_of_risk_(earned)                                          |\n",
      "| 33 | Earned Revenues net of Taxes                                    | earned_revenues_net_of_taxes                                    |\n",
      "| 34 | Earned Revenues                                                 | earned_revenues                                                 |\n",
      "| 35 | Earned Base Commissions                                         | earned_base_commissions                                         |\n",
      "| 36 | Earned Over-Commissions                                         | earned_over-commissions                                         |\n",
      "| 37 | Upfront Cash Payments                                           | upfront_cash_payments                                           |\n",
      "| 38 | Total Compensation                                              | total_compensation                                              |\n",
      "| 39 | Number of Claims (Paid + OCR + IBNR)                            | number_of_claims_(paid_+_ocr_+_ibnr)                            |\n",
      "| 40 | Number of Open Claims                                           | number_of_open_claims                                           |\n",
      "| 41 | Open Claims %                                                   | open_claims_%                                                   |\n",
      "| 42 | Number of Persons Involved in Claims (Paid + OCR + IBNR)        | number_of_persons_involved_in_claims_(paid_+_ocr_+_ibnr)        |\n",
      "| 43 | Paid Claims                                                     | paid_claims                                                     |\n",
      "| 44 | OCR + IBNR                                                      | ocr_+_ibnr                                                      |\n",
      "| 45 | % of IBNR on (OCR + IBNR)                                       | %_of_ibnr_on_(ocr_+_ibnr)                                       |\n",
      "| 46 | Actual Incurred Losses (Paid + OCR + IBNR)                      | actual_incurred_losses_(paid_+_ocr_+_ibnr)                      |\n",
      "| 47 | Internal Variable Costs (excl. AZ Tech Fee)                     | internal_variable_costs_(excl._az_tech_fee)                     |\n",
      "| 48 | AZ Tech Fee                                                     | az_tech_fee                                                     |\n",
      "| 49 | Internal Fixed Costs (excl. HQ Fees)                            | internal_fixed_costs_(excl._hq_fees)                            |\n",
      "| 50 | HQ Fees                                                         | hq_fees                                                         |\n",
      "| 51 | Total Expenses                                                  | total_expenses                                                  |\n",
      "| 52 | Frequency (Earned)                                              | frequency_(earned)                                              |\n",
      "| 53 | Severity                                                        | severity                                                        |\n",
      "| 54 | Risk Premium                                                    | risk_premium                                                    |\n",
      "| 55 | Contribution Margin - BU View                                   | contribution_margin_-_bu_view                                   |\n",
      "| 56 | Contribution Margin % on Fixed Costs - BU View                  | contribution_margin_%_on_fixed_costs_-_bu_view                  |\n",
      "| 57 | Contribution Margin % on Earned Revenues net of Taxes - BU View | contribution_margin_%_on_earned_revenues_net_of_taxes_-_bu_view |\n",
      "| 58 | Contribution Margin - HQ View                                   | contribution_margin_-_hq_view                                   |\n",
      "| 59 | Contribution Margin % on Fixed Costs - HQ View                  | contribution_margin_%_on_fixed_costs_-_hq_view                  |\n",
      "| 60 | Contribution Margin % on Earned Revenues net of Taxes - HQ View | contribution_margin_%_on_earned_revenues_net_of_taxes_-_hq_view |\n",
      "| 61 | Loss Ratio                                                      | loss_ratio                                                      |\n",
      "| 62 | Commission Ratio                                                | commission_ratio                                                |\n",
      "| 63 | Expense Ratio                                                   | expense_ratio                                                   |\n",
      "| 64 | Combined Ratio                                                  | combined_ratio                                                  |\n",
      "| 65 | Profit or Loss                                                  | profit_or_loss                                                  |\n",
      "| 66 | Notes                                                           | notes                                                           |\n",
      "| 67 | Unnamed: 66                                                     | unnamed:_66                                                     |\n",
      "| 68 | concat2                                                         | concat2                                                         |\n",
      "| 69 | comsub                                                          | comsub                                                          |\n",
      "| 70 | expsub                                                          | expsub                                                          |\n",
      "| 71 | Reporting Date From INT                                         | reporting_date_from_int                                         |\n",
      "| 72 | Reporting Date To INT                                           | reporting_date_to_int                                           |\n",
      "| 73 | Date of Analysis INT                                            | date_of_analysis_int                                            |\n",
      "| 74 | Selected Fields for Duplicates                                  | selected_fields_for_duplicates                                  |\n",
      "| 75 | ibnrsub                                                         | ibnrsub                                                         |\n"
     ]
    }
   ],
   "source": [
    "if run_control > -10:\n",
    "    disp = {\"Original\": input.columns, \"Transformed\": trandata.columns}\n",
    "\n",
    "    disp = pd.DataFrame(disp)\n",
    "\n",
    "    print(disp.to_markdown())\n",
    "else:\n",
    "    print(\"Skipped Transformation Report 1\")"
   ]
  },
  {
   "cell_type": "markdown",
   "id": "ecfce01f",
   "metadata": {
    "papermill": {
     "duration": 0.357897,
     "end_time": "2021-05-26T14:31:24.531707",
     "exception": false,
     "start_time": "2021-05-26T14:31:24.173810",
     "status": "completed"
    },
    "tags": []
   },
   "source": [
    "#### Remove rows with null business units\n"
   ]
  },
  {
   "cell_type": "code",
   "execution_count": 13,
   "id": "a22229c3",
   "metadata": {
    "execution": {
     "iopub.execute_input": "2021-05-26T14:31:25.205378Z",
     "iopub.status.busy": "2021-05-26T14:31:25.199965Z",
     "iopub.status.idle": "2021-05-26T14:31:25.217899Z",
     "shell.execute_reply": "2021-05-26T14:31:25.217899Z"
    },
    "papermill": {
     "duration": 0.361033,
     "end_time": "2021-05-26T14:31:25.218901",
     "exception": false,
     "start_time": "2021-05-26T14:31:24.857868",
     "status": "completed"
    },
    "pycharm": {
     "name": "#%%\n"
    },
    "tags": []
   },
   "outputs": [],
   "source": [
    "# todo, remove this from read file\n",
    "trandata = trandata[trandata.business_unit.notnull()]"
   ]
  },
  {
   "cell_type": "markdown",
   "id": "bf0136b3",
   "metadata": {
    "papermill": {
     "duration": 0.323525,
     "end_time": "2021-05-26T14:31:26.035516",
     "exception": false,
     "start_time": "2021-05-26T14:31:25.711991",
     "status": "completed"
    },
    "tags": []
   },
   "source": [
    "#### Update Verification 2"
   ]
  },
  {
   "cell_type": "code",
   "execution_count": 14,
   "id": "b904c399",
   "metadata": {
    "execution": {
     "iopub.execute_input": "2021-05-26T14:31:26.939018Z",
     "iopub.status.busy": "2021-05-26T14:31:26.925017Z",
     "iopub.status.idle": "2021-05-26T14:31:27.001761Z",
     "shell.execute_reply": "2021-05-26T14:31:27.003764Z"
    },
    "papermill": {
     "duration": 0.512298,
     "end_time": "2021-05-26T14:31:27.003764",
     "exception": false,
     "start_time": "2021-05-26T14:31:26.491466",
     "status": "completed"
    },
    "pycharm": {
     "name": "#%%\n"
    },
    "tags": []
   },
   "outputs": [
    {
     "name": "stdout",
     "output_type": "stream",
     "text": [
      "Row Counts\n",
      "|    | Business Unit   |   Original |   Transformed |\n",
      "|---:|:----------------|-----------:|--------------:|\n",
      "|  0 | AU              |         53 |            53 |\n",
      "|  1 | CA              |         17 |            17 |\n",
      "|  2 | CH              |       3187 |          3187 |\n",
      "|  3 | CZ              |          7 |             7 |\n",
      "|  4 | ES              |         28 |            28 |\n",
      "|  5 | GR              |         15 |            15 |\n",
      "|  6 | IT              |        100 |           100 |\n",
      "|  7 | PL              |         27 |            27 |\n",
      "|  8 | PT              |         39 |            39 |\n"
     ]
    }
   ],
   "source": [
    "if run_control > -10:\n",
    "\n",
    "    ibus = input.groupby(['Business Unit']).count()\n",
    "    ibus = ibus.reset_index()\n",
    "    tbus = trandata.groupby(['business_unit']).count()\n",
    "    tbus = tbus.reset_index()\n",
    "\n",
    "    compdata = pd.merge(ibus, tbus, left_on='Business Unit', right_on='business_unit', how='left')\n",
    "\n",
    "    disp = {\"Business Unit\": compdata['Business Unit'], \"Original\": compdata['Earned Revenues net of Taxes'],\n",
    "            \"Transformed\": compdata['earned_revenues_net_of_taxes']}\n",
    "\n",
    "    disp = pd.DataFrame(disp)\n",
    "\n",
    "    print(\"Row Counts\")\n",
    "    print(disp.to_markdown())\n",
    "    \n",
    "else:\n",
    "    \n",
    "    print(\"Skipped Transformation Report 2\")\n"
   ]
  },
  {
   "cell_type": "markdown",
   "id": "d75e891b",
   "metadata": {
    "papermill": {
     "duration": 0.356021,
     "end_time": "2021-05-26T14:31:27.804070",
     "exception": false,
     "start_time": "2021-05-26T14:31:27.448049",
     "status": "completed"
    },
    "tags": []
   },
   "source": [
    "#### Swap  nulls for \"Not Provided\" in 'Sub Lob' and 'Distribution Channel'"
   ]
  },
  {
   "cell_type": "code",
   "execution_count": 15,
   "id": "796cc100",
   "metadata": {
    "execution": {
     "iopub.execute_input": "2021-05-26T14:31:28.546846Z",
     "iopub.status.busy": "2021-05-26T14:31:28.527861Z",
     "iopub.status.idle": "2021-05-26T14:31:28.552848Z",
     "shell.execute_reply": "2021-05-26T14:31:28.554851Z"
    },
    "papermill": {
     "duration": 0.379531,
     "end_time": "2021-05-26T14:31:28.554851",
     "exception": false,
     "start_time": "2021-05-26T14:31:28.175320",
     "status": "completed"
    },
    "pycharm": {
     "name": "#%%\n"
    },
    "tags": []
   },
   "outputs": [],
   "source": [
    "mults = trandata['sub_lob'][trandata.sub_lob.replace(nan, 'Not Provided').str.contains(',', case=False)]\n",
    "mults = mults.unique()\n",
    "\n",
    "trandata['sub_lob'] = trandata['sub_lob'].fillna('Not Provided')\n",
    "trandata['sub_lob'] = trandata['sub_lob'].replace('', 'Not Provided')\n",
    "trandata['distribution_channel'] = trandata['distribution_channel'].replace('', 'Not Provided').fillna('Not Provided')"
   ]
  },
  {
   "cell_type": "markdown",
   "id": "cb26bfee",
   "metadata": {
    "papermill": {
     "duration": 0.528844,
     "end_time": "2021-05-26T14:31:29.437690",
     "exception": false,
     "start_time": "2021-05-26T14:31:28.908846",
     "status": "completed"
    },
    "tags": []
   },
   "source": [
    "#### Replace multiple entries in \"Sub Lob\" to \"Multiple\""
   ]
  },
  {
   "cell_type": "code",
   "execution_count": 16,
   "id": "a3e9dbc4",
   "metadata": {
    "execution": {
     "iopub.execute_input": "2021-05-26T14:31:30.659139Z",
     "iopub.status.busy": "2021-05-26T14:31:30.647589Z",
     "iopub.status.idle": "2021-05-26T14:31:30.679120Z",
     "shell.execute_reply": "2021-05-26T14:31:30.680118Z"
    },
    "papermill": {
     "duration": 0.617741,
     "end_time": "2021-05-26T14:31:30.680118",
     "exception": false,
     "start_time": "2021-05-26T14:31:30.062377",
     "status": "completed"
    },
    "pycharm": {
     "name": "#%%\n"
    },
    "tags": []
   },
   "outputs": [],
   "source": [
    "for i in mults:\n",
    "    trandata['sub_lob'] = trandata['sub_lob'].replace(i, 'Multiple')\n",
    "\n",
    "# todo automate figuring out which fields fx rates should be applied to somehow"
   ]
  },
  {
   "cell_type": "markdown",
   "id": "1b0bcee0",
   "metadata": {
    "papermill": {
     "duration": 0.506791,
     "end_time": "2021-05-26T14:31:31.675370",
     "exception": false,
     "start_time": "2021-05-26T14:31:31.168579",
     "status": "completed"
    },
    "tags": []
   },
   "source": [
    "#### Update Verification 3"
   ]
  },
  {
   "cell_type": "code",
   "execution_count": 17,
   "id": "4b0124cc",
   "metadata": {
    "execution": {
     "iopub.execute_input": "2021-05-26T14:31:32.595309Z",
     "iopub.status.busy": "2021-05-26T14:31:32.577302Z",
     "iopub.status.idle": "2021-05-26T14:31:32.849960Z",
     "shell.execute_reply": "2021-05-26T14:31:32.851967Z"
    },
    "papermill": {
     "duration": 0.664706,
     "end_time": "2021-05-26T14:31:32.851967",
     "exception": false,
     "start_time": "2021-05-26T14:31:32.187261",
     "status": "completed"
    },
    "pycharm": {
     "name": "#%%\n"
    },
    "tags": []
   },
   "outputs": [],
   "source": [
    "if run_control > -10:\n",
    "\n",
    "    ibus = input.groupby(['Sub LOB']).sum()\n",
    "    ibus = ibus.reset_index()\n",
    "    tbus = trandata.groupby(['sub_lob']).sum()\n",
    "    tbus = tbus.reset_index()\n",
    "\n",
    "    compdatasublob = pd.merge(ibus, tbus, left_on='Sub LOB', right_on='sub_lob', how='outer')\n",
    "\n",
    "    disp1 = pd.DataFrame(\n",
    "        {'Original Sub LOB': compdatasublob['Sub LOB'], 'Transformed Sub LOB': compdatasublob['sub_lob'],\n",
    "         \"Original\": compdatasublob['Earned Revenues net of Taxes'] / 1000,\n",
    "         \"Transformed\": compdatasublob['earned_revenues_net_of_taxes'] / 1000})\n",
    "\n",
    "\n",
    "\n",
    "    tots1 = pd.DataFrame({'Original Total': (input['Earned Revenues net of Taxes']).sum() / 10000,\n",
    "                          \"Transformed Total\": (compdatasublob['earned_revenues_net_of_taxes']).sum() / 10000},\n",
    "                         index=[0])\n",
    "else:\n",
    "    print(\"Skipped Transformation Report 2\")"
   ]
  },
  {
   "cell_type": "markdown",
   "id": "04536229",
   "metadata": {
    "papermill": {
     "duration": 0.54689,
     "end_time": "2021-05-26T14:31:33.970592",
     "exception": false,
     "start_time": "2021-05-26T14:31:33.423702",
     "status": "completed"
    },
    "tags": []
   },
   "source": [
    "#### Make cflds, a list of currency fields, force to float, coercion is null or string to 0"
   ]
  },
  {
   "cell_type": "code",
   "execution_count": 18,
   "id": "add19d47",
   "metadata": {
    "execution": {
     "iopub.execute_input": "2021-05-26T14:31:34.611149Z",
     "iopub.status.busy": "2021-05-26T14:31:34.610149Z",
     "iopub.status.idle": "2021-05-26T14:31:34.822670Z",
     "shell.execute_reply": "2021-05-26T14:31:34.824676Z"
    },
    "papermill": {
     "duration": 0.536044,
     "end_time": "2021-05-26T14:31:34.824676",
     "exception": false,
     "start_time": "2021-05-26T14:31:34.288632",
     "status": "completed"
    },
    "pycharm": {
     "name": "#%%\n"
    },
    "tags": []
   },
   "outputs": [
    {
     "data": {
      "text/plain": [
       "0          0.00\n",
       "1          0.00\n",
       "2          0.00\n",
       "3        142.68\n",
       "4          0.00\n",
       "         ...   \n",
       "3468    1509.16\n",
       "3469    2164.11\n",
       "3470     309.72\n",
       "3471       0.00\n",
       "3472    1260.00\n",
       "Name: written_revenues_net_of_taxes, Length: 3473, dtype: float64"
      ]
     },
     "execution_count": 18,
     "metadata": {},
     "output_type": "execute_result"
    },
    {
     "data": {
      "text/plain": [
       "0          0.0000\n",
       "1          0.0000\n",
       "2          0.0000\n",
       "3          0.0000\n",
       "4          0.0000\n",
       "          ...    \n",
       "3468    1644.9844\n",
       "3469    2358.8799\n",
       "3470     337.5948\n",
       "3471       0.0000\n",
       "3472    1373.4000\n",
       "Name: written_revenues, Length: 3473, dtype: float64"
      ]
     },
     "execution_count": 18,
     "metadata": {},
     "output_type": "execute_result"
    },
    {
     "data": {
      "text/plain": [
       "0          55.8953\n",
       "1        5529.9513\n",
       "2           0.0000\n",
       "3         142.6800\n",
       "4       32143.8185\n",
       "           ...    \n",
       "3468     1576.8600\n",
       "3469     2085.8000\n",
       "3470       16.5700\n",
       "3471       68.0000\n",
       "3472     1260.0000\n",
       "Name: earned_revenues_net_of_taxes, Length: 3473, dtype: float64"
      ]
     },
     "execution_count": 18,
     "metadata": {},
     "output_type": "execute_result"
    },
    {
     "data": {
      "text/plain": [
       "0          0.0000\n",
       "1          0.0000\n",
       "2          0.0000\n",
       "3          0.0000\n",
       "4          0.0000\n",
       "          ...    \n",
       "3468    1718.7774\n",
       "3469    2273.5220\n",
       "3470      18.0613\n",
       "3471      74.1200\n",
       "3472    1373.4000\n",
       "Name: earned_revenues, Length: 3473, dtype: float64"
      ]
     },
     "execution_count": 18,
     "metadata": {},
     "output_type": "execute_result"
    },
    {
     "data": {
      "text/plain": [
       "0          5.64530\n",
       "1       1290.57530\n",
       "2          0.00000\n",
       "3          0.00000\n",
       "4       7071.64007\n",
       "           ...    \n",
       "3468       0.00000\n",
       "3469       0.00000\n",
       "3470       0.00000\n",
       "3471       0.00000\n",
       "3472       0.00000\n",
       "Name: earned_base_commissions, Length: 3473, dtype: float64"
      ]
     },
     "execution_count": 18,
     "metadata": {},
     "output_type": "execute_result"
    },
    {
     "data": {
      "text/plain": [
       "0       0.0\n",
       "1       0.0\n",
       "2       0.0\n",
       "3       0.0\n",
       "4       0.0\n",
       "       ... \n",
       "3468    0.0\n",
       "3469    0.0\n",
       "3470    0.0\n",
       "3471    0.0\n",
       "3472    0.0\n",
       "Name: earned_over-commissions, Length: 3473, dtype: float64"
      ]
     },
     "execution_count": 18,
     "metadata": {},
     "output_type": "execute_result"
    },
    {
     "data": {
      "text/plain": [
       "0       0.0\n",
       "1       0.0\n",
       "2       0.0\n",
       "3       0.0\n",
       "4       0.0\n",
       "       ... \n",
       "3468    0.0\n",
       "3469    0.0\n",
       "3470    0.0\n",
       "3471    0.0\n",
       "3472    0.0\n",
       "Name: upfront_cash_payments, Length: 3473, dtype: float64"
      ]
     },
     "execution_count": 18,
     "metadata": {},
     "output_type": "execute_result"
    },
    {
     "data": {
      "text/plain": [
       "0          5.64530\n",
       "1       1290.57530\n",
       "2          0.00000\n",
       "3          0.00000\n",
       "4       7071.64007\n",
       "           ...    \n",
       "3468       0.00000\n",
       "3469       0.00000\n",
       "3470       0.00000\n",
       "3471       0.00000\n",
       "3472       0.00000\n",
       "Name: total_compensation, Length: 3473, dtype: float64"
      ]
     },
     "execution_count": 18,
     "metadata": {},
     "output_type": "execute_result"
    },
    {
     "data": {
      "text/plain": [
       "0         0.0000\n",
       "1         0.0000\n",
       "2         0.0000\n",
       "3         0.0000\n",
       "4       819.1621\n",
       "          ...   \n",
       "3468     69.4500\n",
       "3469      0.0000\n",
       "3470    630.1200\n",
       "3471      0.0000\n",
       "3472      0.0000\n",
       "Name: paid_claims, Length: 3473, dtype: float64"
      ]
     },
     "execution_count": 18,
     "metadata": {},
     "output_type": "execute_result"
    },
    {
     "data": {
      "text/plain": [
       "0          8.250237\n",
       "1       1843.793403\n",
       "2          0.000000\n",
       "3         22.575091\n",
       "4       7248.046696\n",
       "           ...     \n",
       "3468    1472.110000\n",
       "3469     608.720000\n",
       "3470       0.000000\n",
       "3471       0.000000\n",
       "3472       0.000000\n",
       "Name: ocr_+_ibnr, Length: 3473, dtype: float64"
      ]
     },
     "execution_count": 18,
     "metadata": {},
     "output_type": "execute_result"
    },
    {
     "data": {
      "text/plain": [
       "0          8.250237\n",
       "1       1843.793403\n",
       "2          0.000000\n",
       "3         22.575091\n",
       "4       8067.208796\n",
       "           ...     \n",
       "3468    1541.560000\n",
       "3469     608.720000\n",
       "3470     630.120000\n",
       "3471       0.000000\n",
       "3472       0.000000\n",
       "Name: actual_incurred_losses_(paid_+_ocr_+_ibnr), Length: 3473, dtype: float64"
      ]
     },
     "execution_count": 18,
     "metadata": {},
     "output_type": "execute_result"
    },
    {
     "data": {
      "text/plain": [
       "0           2.195253\n",
       "1         240.488514\n",
       "2           0.000000\n",
       "3           8.187503\n",
       "4       21750.364703\n",
       "            ...     \n",
       "3468      433.790006\n",
       "3469      341.095979\n",
       "3470      305.054137\n",
       "3471       33.114511\n",
       "3472      835.265953\n",
       "Name: internal_variable_costs_(excl._az_tech_fee), Length: 3473, dtype: float64"
      ]
     },
     "execution_count": 18,
     "metadata": {},
     "output_type": "execute_result"
    },
    {
     "data": {
      "text/plain": [
       "0         1.013645\n",
       "1       111.044207\n",
       "2         0.000000\n",
       "3         3.780533\n",
       "4       625.285543\n",
       "           ...    \n",
       "3468     45.413568\n",
       "3469     60.071040\n",
       "3470      0.477216\n",
       "3471      1.958400\n",
       "3472     36.288000\n",
       "Name: az_tech_fee, Length: 3473, dtype: float64"
      ]
     },
     "execution_count": 18,
     "metadata": {},
     "output_type": "execute_result"
    },
    {
     "data": {
      "text/plain": [
       "0          167.140499\n",
       "1        18285.429711\n",
       "2            0.000000\n",
       "3          620.808918\n",
       "4       107082.243725\n",
       "            ...      \n",
       "3468       272.796780\n",
       "3469       360.843400\n",
       "3470         2.866610\n",
       "3471        19.176000\n",
       "3472       355.320000\n",
       "Name: internal_fixed_costs_(excl._hq_fees), Length: 3473, dtype: float64"
      ]
     },
     "execution_count": 18,
     "metadata": {},
     "output_type": "execute_result"
    },
    {
     "data": {
      "text/plain": [
       "0         11.050191\n",
       "1       1210.541320\n",
       "2          0.000000\n",
       "3         41.213241\n",
       "4       6816.510337\n",
       "           ...     \n",
       "3468      96.976890\n",
       "3469     128.276700\n",
       "3470       1.019055\n",
       "3471       4.182000\n",
       "3472      63.000000\n",
       "Name: hq_fees, Length: 3473, dtype: float64"
      ]
     },
     "execution_count": 18,
     "metadata": {},
     "output_type": "execute_result"
    },
    {
     "data": {
      "text/plain": [
       "0          181.399588\n",
       "1        19847.503753\n",
       "2            0.000000\n",
       "3          673.990196\n",
       "4       136274.404308\n",
       "            ...      \n",
       "3468       848.977244\n",
       "3469       890.287119\n",
       "3470       309.417018\n",
       "3471        58.430911\n",
       "3472      1289.873953\n",
       "Name: total_expenses, Length: 3473, dtype: float64"
      ]
     },
     "execution_count": 18,
     "metadata": {},
     "output_type": "execute_result"
    },
    {
     "data": {
      "text/plain": [
       "0       0.0\n",
       "1       0.0\n",
       "2       0.0\n",
       "3       0.0\n",
       "4       0.0\n",
       "       ... \n",
       "3468    0.0\n",
       "3469    0.0\n",
       "3470    0.0\n",
       "3471    0.0\n",
       "3472    0.0\n",
       "Name: risk_premium, Length: 3473, dtype: float64"
      ]
     },
     "execution_count": 18,
     "metadata": {},
     "output_type": "execute_result"
    },
    {
     "data": {
      "text/plain": [
       "0         -139.399826\n",
       "1       -17451.921156\n",
       "2            0.000000\n",
       "3         -553.885287\n",
       "4      -119269.434674\n",
       "            ...      \n",
       "3468      -813.677244\n",
       "3469       586.792881\n",
       "3470      -922.967018\n",
       "3471         9.569089\n",
       "3472       -29.873953\n",
       "Name: profit_or_loss, Length: 3473, dtype: float64"
      ]
     },
     "execution_count": 18,
     "metadata": {},
     "output_type": "execute_result"
    },
    {
     "data": {
      "text/plain": [
       "0         38.790864\n",
       "1       2044.049876\n",
       "2          0.000000\n",
       "3        108.136872\n",
       "4      -5370.680611\n",
       "           ...     \n",
       "3468    -443.903574\n",
       "3469    1075.912981\n",
       "3470    -919.081353\n",
       "3471      32.927089\n",
       "3472     388.446047\n",
       "Name: contribution_margin_-_hq_view, Length: 3473, dtype: float64"
      ]
     },
     "execution_count": 18,
     "metadata": {},
     "output_type": "execute_result"
    },
    {
     "data": {
      "text/plain": [
       "0          27.740673\n",
       "1         833.508556\n",
       "2           0.000000\n",
       "3          66.923631\n",
       "4      -12187.190948\n",
       "            ...     \n",
       "3468     -540.880464\n",
       "3469      947.636281\n",
       "3470     -920.100408\n",
       "3471       28.745089\n",
       "3472      325.446047\n",
       "Name: contribution_margin_-_bu_view, Length: 3473, dtype: float64"
      ]
     },
     "execution_count": 18,
     "metadata": {},
     "output_type": "execute_result"
    }
   ],
   "source": [
    "cflds = ['written_revenues_net_of_taxes', 'written_revenues', 'earned_revenues_net_of_taxes',\n",
    "         'earned_revenues', 'earned_base_commissions', 'earned_over-commissions', 'upfront_cash_payments',\n",
    "         'total_compensation', 'paid_claims', 'ocr_+_ibnr', 'actual_incurred_losses_(paid_+_ocr_+_ibnr)',\n",
    "         'internal_variable_costs_(excl._az_tech_fee)', 'az_tech_fee', 'internal_fixed_costs_(excl._hq_fees)',\n",
    "         'hq_fees', 'total_expenses', 'risk_premium', 'profit_or_loss', 'contribution_margin_-_hq_view',\n",
    "         'contribution_margin_-_bu_view', ]\n",
    "\n",
    "for i in cflds:\n",
    "    pd.to_numeric(trandata[i], errors='coerce')"
   ]
  },
  {
   "cell_type": "markdown",
   "id": "081fc8f9",
   "metadata": {
    "papermill": {
     "duration": 0.355635,
     "end_time": "2021-05-26T14:31:35.505394",
     "exception": false,
     "start_time": "2021-05-26T14:31:35.149759",
     "status": "completed"
    },
    "tags": []
   },
   "source": [
    "#### Turn selected columns values uppercase"
   ]
  },
  {
   "cell_type": "code",
   "execution_count": 19,
   "id": "afaf97f0",
   "metadata": {
    "execution": {
     "iopub.execute_input": "2021-05-26T14:31:36.514584Z",
     "iopub.status.busy": "2021-05-26T14:31:36.512584Z",
     "iopub.status.idle": "2021-05-26T14:31:36.552589Z",
     "shell.execute_reply": "2021-05-26T14:31:36.553582Z"
    },
    "papermill": {
     "duration": 0.620024,
     "end_time": "2021-05-26T14:31:36.553582",
     "exception": false,
     "start_time": "2021-05-26T14:31:35.933558",
     "status": "completed"
    },
    "pycharm": {
     "name": "#%%\n"
    },
    "tags": []
   },
   "outputs": [],
   "source": [
    "validcols = ['business_unit', 'currency', 'region', 'type_of_analysis', 'type_of_business', 'type_of_account', 'lob',\n",
    "             'distribution_type', 'distribution_channel', ]\n",
    "\n",
    "for c in validcols:\n",
    "    trandata[c] = trandata[c].astype(str)\n",
    "    trandata[c] = trandata[c].apply(lambda x: x.upper())"
   ]
  },
  {
   "cell_type": "markdown",
   "id": "948d503a",
   "metadata": {
    "papermill": {
     "duration": 0.575424,
     "end_time": "2021-05-26T14:31:37.618131",
     "exception": false,
     "start_time": "2021-05-26T14:31:37.042707",
     "status": "completed"
    },
    "tags": []
   },
   "source": [
    "#### Read the values from the Global Attribute Catalog, one field per loop iterance and xlsx sheet."
   ]
  },
  {
   "cell_type": "code",
   "execution_count": 20,
   "id": "4a3f911e",
   "metadata": {
    "execution": {
     "iopub.execute_input": "2021-05-26T14:31:38.628657Z",
     "iopub.status.busy": "2021-05-26T14:31:38.626657Z",
     "iopub.status.idle": "2021-05-26T14:31:43.884993Z",
     "shell.execute_reply": "2021-05-26T14:31:43.885968Z"
    },
    "papermill": {
     "duration": 5.85187,
     "end_time": "2021-05-26T14:31:43.885968",
     "exception": false,
     "start_time": "2021-05-26T14:31:38.034098",
     "status": "completed"
    },
    "pycharm": {
     "name": "#%%\n"
    },
    "tags": []
   },
   "outputs": [],
   "source": [
    "checktabs = []\n",
    "\n",
    "\n",
    "\n",
    "for s in validcols:\n",
    "    t = pd.read_excel(atcat, sheet_name = s )\n",
    "    checktabs.append([[s], [t]])\n",
    "\n",
    "gacout = []\n"
   ]
  },
  {
   "cell_type": "markdown",
   "id": "8e0a78a9",
   "metadata": {
    "papermill": {
     "duration": 0.343011,
     "end_time": "2021-05-26T14:31:44.593619",
     "exception": false,
     "start_time": "2021-05-26T14:31:44.250608",
     "status": "completed"
    },
    "tags": []
   },
   "source": [
    "#### Compare the lists from the previous step and each field. Find those that do not match, make lists of unique values\n",
    "#### replace any that have replacements in GPPM inoout already, make a list of values without any matches.\n"
   ]
  },
  {
   "cell_type": "code",
   "execution_count": 21,
   "id": "675788c8",
   "metadata": {
    "execution": {
     "iopub.execute_input": "2021-05-26T14:31:45.444545Z",
     "iopub.status.busy": "2021-05-26T14:31:45.423239Z",
     "iopub.status.idle": "2021-05-26T14:31:45.598357Z",
     "shell.execute_reply": "2021-05-26T14:31:45.600345Z"
    },
    "papermill": {
     "duration": 0.604159,
     "end_time": "2021-05-26T14:31:45.600345",
     "exception": false,
     "start_time": "2021-05-26T14:31:44.996186",
     "status": "completed"
    },
    "pycharm": {
     "name": "#%%\n"
    },
    "tags": []
   },
   "outputs": [],
   "source": [
    "# todo rewrite this beginner code to use dicts and simplify\n",
    "\n",
    "for u in enumerate(validcols):\n",
    "    trandata.loc[0:len(trandata[u[1]]), u[1]] = trandata[u[1]].replace(\n",
    "        [checktabs[u[0]][1][0]['Upper_Vers']][0].to_numpy(), [checktabs[u[0]][1][0][u[1]]][0].to_numpy())\n",
    "    d = list(checktabs[u[0]][1][0]['Non Matches'].drop_duplicates().dropna().append(\n",
    "        pd.Series(trandata[u[1]][~trandata[u[1]].isin(checktabs[u[0]][1][0][u[1]])].drop_duplicates().dropna()),\n",
    "        ignore_index=True))\n",
    "    g = [checktabs[u[0]][1][0][str(u[1])], checktabs[u[0]][1][0]['Upper_Vers'], checktabs[u[0]][1][0]['Unnamed: 2'],\n",
    "         pd.Series(d, dtype='object').drop_duplicates().dropna(), checktabs[u[0]][1][0]['User Defined Corrections']]\n",
    "    gacout.append(list([g, u[1]]))"
   ]
  },
  {
   "cell_type": "markdown",
   "id": "31b2079c",
   "metadata": {
    "papermill": {
     "duration": 0.4399,
     "end_time": "2021-05-26T14:31:46.482947",
     "exception": false,
     "start_time": "2021-05-26T14:31:46.043047",
     "status": "completed"
    },
    "tags": []
   },
   "source": [
    "#### Rebuild the GPPM input file, with the replaced values in the bad values column of each sheet.\n",
    "#### Step one, make and xlsx with a notes page."
   ]
  },
  {
   "cell_type": "code",
   "execution_count": 22,
   "id": "61a6bda3",
   "metadata": {
    "execution": {
     "iopub.execute_input": "2021-05-26T14:31:47.629482Z",
     "iopub.status.busy": "2021-05-26T14:31:47.623489Z",
     "iopub.status.idle": "2021-05-26T14:31:48.405826Z",
     "shell.execute_reply": "2021-05-26T14:31:48.406824Z"
    },
    "papermill": {
     "duration": 1.414331,
     "end_time": "2021-05-26T14:31:48.407836",
     "exception": false,
     "start_time": "2021-05-26T14:31:46.993505",
     "status": "completed"
    },
    "pycharm": {
     "name": "#%%\n"
    },
    "tags": []
   },
   "outputs": [],
   "source": [
    "w = ExcelWriter(atcat)\n",
    "notes = pd.DataFrame([\n",
    "    \"This page is script generated during the source creation process. Do not edit these notes directly in the file as they will be overwritten\",\n",
    "    \"\", \"\"\n",
    "    , \" Purpose :     to manage attribute entries in the data collection process, this workbook documents and organizes all entries and also allows a user to swap those that do \\\n",
    "                        not conform to validation rules  with an entry of their choice\",\n",
    "    \" Each attribute field that requires validation has its own sheet tab\", \"\"\n",
    "    , \"Column A:    of each sheet tab contains all unique acceptable responses\",\n",
    "    \"Column B:    an upper case version, to wrangle case mismatches\",\n",
    "    \"Column D:   is generated by the process, this is a list of an uppercase version of each unique unacceptable response, this builds over time with each collection\",\n",
    "    \"Column E:   you can enter accpetable response here (sase sensitive) to be swapped out in the data, save and exit this file, run the process again and they will be replaced\"\n",
    "    , \"\", \"\", \"Gavin Harmon 9 - July -2020\"])\n",
    "\n",
    "notes.columns = ['Notes']\n",
    "\n",
    "notes.to_excel(w, index=False, sheet_name=\"Notes\")"
   ]
  },
  {
   "cell_type": "markdown",
   "id": "2900ae8c",
   "metadata": {
    "papermill": {
     "duration": 0.352991,
     "end_time": "2021-05-26T14:31:49.142089",
     "exception": false,
     "start_time": "2021-05-26T14:31:48.789098",
     "status": "completed"
    },
    "tags": []
   },
   "source": [
    "#### Step two, build the new sheets for each validcols field"
   ]
  },
  {
   "cell_type": "code",
   "execution_count": 23,
   "id": "581d4e89",
   "metadata": {
    "execution": {
     "iopub.execute_input": "2021-05-26T14:31:50.048515Z",
     "iopub.status.busy": "2021-05-26T14:31:49.957509Z",
     "iopub.status.idle": "2021-05-26T14:31:50.646552Z",
     "shell.execute_reply": "2021-05-26T14:31:50.647552Z"
    },
    "papermill": {
     "duration": 1.125274,
     "end_time": "2021-05-26T14:31:50.648548",
     "exception": false,
     "start_time": "2021-05-26T14:31:49.523274",
     "status": "completed"
    },
    "pycharm": {
     "name": "#%%\n"
    },
    "tags": []
   },
   "outputs": [],
   "source": [
    "for v in enumerate(validcols):\n",
    "    df = pd.DataFrame(gacout[v[0]][0], index=[f\"{v[1]}\", 'Upper_Vers', '', 'Non Matches', 'User Defined Corrections']).T\n",
    "    df.to_excel(w, index=False, sheet_name=gacout[v[0]][1])\n",
    "w.save()"
   ]
  },
  {
   "cell_type": "markdown",
   "id": "c5e1ed01",
   "metadata": {
    "papermill": {
     "duration": 0.43503,
     "end_time": "2021-05-26T14:31:51.473766",
     "exception": false,
     "start_time": "2021-05-26T14:31:51.038736",
     "status": "completed"
    },
    "tags": []
   },
   "source": [
    "#### Step three, read these lists back in, make the necessary replacements in the DataFrame"
   ]
  },
  {
   "cell_type": "code",
   "execution_count": 24,
   "id": "fe88331c",
   "metadata": {
    "execution": {
     "iopub.execute_input": "2021-05-26T14:31:52.376326Z",
     "iopub.status.busy": "2021-05-26T14:31:52.372341Z",
     "iopub.status.idle": "2021-05-26T14:31:58.596341Z",
     "shell.execute_reply": "2021-05-26T14:31:58.598337Z"
    },
    "papermill": {
     "duration": 6.719038,
     "end_time": "2021-05-26T14:31:58.598337",
     "exception": false,
     "start_time": "2021-05-26T14:31:51.879299",
     "status": "completed"
    },
    "pycharm": {
     "name": "#%%\n"
    },
    "tags": []
   },
   "outputs": [],
   "source": [
    "for s in validcols:\n",
    "    t = pd.read_excel(f'//hecate/Insurance_US/Product Development/Product Management/Global PPM/Reporting/Data Collection/Production/{str(percode)}\\\\{str(percode)}_Attribute_Catalog.xlsx', sheet_name = s )\n",
    "    checktabs.append([[s],[t]])"
   ]
  },
  {
   "cell_type": "code",
   "execution_count": 25,
   "id": "419e3ead",
   "metadata": {
    "execution": {
     "iopub.execute_input": "2021-05-26T14:31:59.548478Z",
     "iopub.status.busy": "2021-05-26T14:31:59.535476Z",
     "iopub.status.idle": "2021-05-26T14:31:59.630515Z",
     "shell.execute_reply": "2021-05-26T14:31:59.632521Z"
    },
    "papermill": {
     "duration": 0.53496,
     "end_time": "2021-05-26T14:31:59.632521",
     "exception": false,
     "start_time": "2021-05-26T14:31:59.097561",
     "status": "completed"
    },
    "pycharm": {
     "name": "#%%\n"
    },
    "tags": []
   },
   "outputs": [],
   "source": [
    "gacout = []\n",
    "\n",
    "for u in enumerate(validcols):\n",
    "    trandata.loc[0:len(trandata[u[1]]), u[1]] = trandata[u[1]].replace(\n",
    "        [checktabs[u[0]][1][0]['Non Matches']][0].to_numpy(),\n",
    "        [checktabs[u[0]][1][0]['User Defined Corrections']][0].to_numpy())\n",
    "repper = trandata[['business_unit', 'reporting_date_to']]\n",
    "repper = pd.DataFrame({\"business_unit\": (repper['business_unit']), \"YearMo\": (repper['reporting_date_to'])})\n",
    "minrep = repper.groupby(['business_unit']).max()\n",
    "a = trandata['business_unit'].replace(list(minrep.axes[0]), minrep.get(\"YearMo\"))\n",
    "trandata['rep_date'] = a\n",
    "trandata.loc[0:len(trandata['business_partner_id_number']), 'business_partner_id_number'] = trandata[\n",
    "    'business_partner_id_number'].replace('0', 'Not Provided').fillna('Not Provided')\n",
    "trandata.loc[0:len(trandata['product_id_number']), 'product_id_number'] = trandata['product_id_number'].replace('0',\n",
    "                                                                                                                'Not Provided').replace(\n",
    "    '-', 'Not Provided').fillna('Not Provided')\n",
    "trandata.loc[0:len(trandata['sub_lob']), 'sub_lob'] = trandata['sub_lob'].replace('0', 'Not Provided').replace('-',\n",
    "                                                                                                               'Not Provided').replace(\n",
    "    'Other', 'Not Provided').fillna('Not Provided')"
   ]
  },
  {
   "cell_type": "markdown",
   "id": "bf01180f",
   "metadata": {
    "papermill": {
     "duration": 0.498519,
     "end_time": "2021-05-26T14:32:00.598476",
     "exception": false,
     "start_time": "2021-05-26T14:32:00.099957",
     "status": "completed"
    },
    "tags": []
   },
   "source": [
    "#### Evaluate the current state, alert the user if input is needed.\n",
    "- At the end of this process, alert the user with instructions if they need to adjust bad entries for validated fields.\n",
    "\n"
   ]
  },
  {
   "cell_type": "code",
   "execution_count": 26,
   "id": "f73858c4",
   "metadata": {
    "execution": {
     "iopub.execute_input": "2021-05-26T14:32:01.720851Z",
     "iopub.status.busy": "2021-05-26T14:32:01.670138Z",
     "iopub.status.idle": "2021-05-26T14:32:08.996278Z",
     "shell.execute_reply": "2021-05-26T14:32:09.000278Z"
    },
    "papermill": {
     "duration": 7.858702,
     "end_time": "2021-05-26T14:32:09.001280",
     "exception": false,
     "start_time": "2021-05-26T14:32:01.142578",
     "status": "completed"
    },
    "tags": []
   },
   "outputs": [],
   "source": [
    "#see above note about converting to dictionaries\n",
    "\n",
    "#Make lists of all the attribute catalog entries that do not have a correction as a list of errors.\n",
    "err_messages = []\n",
    "\n",
    "for idx, i in enumerate(checktabs):\n",
    "    subset_no_nans =  i[1][0][['Non Matches', 'User Defined Corrections']][~i[1][0]['Non Matches'].isna()]\n",
    "    entries = subset_no_nans['Non Matches'][subset_no_nans['User Defined Corrections'].isna()]. tolist()\n",
    "    if len(entries) > 0: \n",
    "        err_messages.append(f'Please deal with bad entries {entries} on tab {i[0][0]} of the Attribute Catalog.')\n",
    "\n",
    "#raise an error to stop the process and give instructions\n",
    "\n",
    "# define Python user-defined exceptions\n",
    "\n",
    "\n",
    "# define Python user-defined exceptions\n",
    "class Error(Exception):\n",
    "    \"\"\"Base class for other exceptions\"\"\"\n",
    "    pass\n",
    "\n",
    "class BadEntriesError(Error):\n",
    "    \"\"\"Raised when the input value is too large\"\"\"\n",
    "    for i in err_messages : print(i)\n",
    "    \n",
    "    os.startfile(atcat)\n",
    "\n",
    "if len(err_messages) > 0:\n",
    "    raise BadEntriesError\n",
    "else:\n",
    "    pass\n",
    "        "
   ]
  },
  {
   "cell_type": "markdown",
   "id": "397ee014",
   "metadata": {
    "papermill": {
     "duration": 0.733807,
     "end_time": "2021-05-26T14:32:10.959145",
     "exception": false,
     "start_time": "2021-05-26T14:32:10.225338",
     "status": "completed"
    },
    "tags": []
   },
   "source": [
    "#### Remove empty rows, if there is no claims experience and no revenue for a 12 month period, it should not be included"
   ]
  },
  {
   "cell_type": "code",
   "execution_count": 27,
   "id": "e5e744d2",
   "metadata": {
    "execution": {
     "iopub.execute_input": "2021-05-26T14:32:12.275335Z",
     "iopub.status.busy": "2021-05-26T14:32:12.274333Z",
     "iopub.status.idle": "2021-05-26T14:32:12.333348Z",
     "shell.execute_reply": "2021-05-26T14:32:12.335353Z"
    },
    "papermill": {
     "duration": 0.646074,
     "end_time": "2021-05-26T14:32:12.335353",
     "exception": false,
     "start_time": "2021-05-26T14:32:11.689279",
     "status": "completed"
    },
    "pycharm": {
     "name": "#%%\n"
    },
    "tags": []
   },
   "outputs": [],
   "source": [
    "trandata = trandata.loc[(trandata['units_of_risk_(written)'].fillna(0).replace('', 0)\n",
    "                         + trandata['written_revenues_net_of_taxes'].fillna(0).replace('', 0)\n",
    "                         + trandata['written_revenues'].fillna(0).replace('', 0)\n",
    "                         + trandata['number_of_policies_(earned)'].fillna(0).replace('', 0)\n",
    "                         + trandata['units_of_risk_(earned)'].fillna(0).replace('', 0)\n",
    "                         + trandata['earned_revenues_net_of_taxes'].fillna(0).replace('', 0)\n",
    "                         + trandata['earned_revenues'].fillna(0).replace('', 0)\n",
    "                         + trandata['earned_base_commissions'].fillna(0).replace('', 0)\n",
    "                         + trandata['upfront_cash_payments'].fillna(0).replace('', 0)\n",
    "                         + trandata['earned_over-commissions'].fillna(0).replace('', 0)\n",
    "                         + trandata['total_compensation'].fillna(0).replace('', 0)\n",
    "                         + trandata['number_of_claims_(paid_+_ocr_+_ibnr)'].fillna(0).replace('', 0)\n",
    "                         + trandata['number_of_open_claims'].fillna(0).replace('', 0)\n",
    "                         + trandata['open_claims_%'].fillna(0).replace('', 0)\n",
    "                         + trandata['number_of_persons_involved_in_claims_(paid_+_ocr_+_ibnr)'].fillna(0).replace('', 0)\n",
    "                         + trandata['paid_claims'].fillna(0).replace('', 0)\n",
    "                         + trandata['ocr_+_ibnr'].fillna(0).replace('', 0)\n",
    "                         + trandata['actual_incurred_losses_(paid_+_ocr_+_ibnr)'].fillna(0).replace('', 0)\n",
    "                         + trandata['internal_variable_costs_(excl._az_tech_fee)'].fillna(0).replace('', 0)\n",
    "                         + trandata['az_tech_fee'].fillna(0).replace('', 0)\n",
    "                         + trandata['internal_fixed_costs_(excl._hq_fees)'].fillna(0).replace('', 0)\n",
    "                         + trandata['hq_fees'].fillna(0).replace('', 0)\n",
    "                         + trandata['total_expenses'].fillna(0).replace('', 0)\n",
    "                         + trandata['frequency_(earned)'].fillna(0).replace('', 0)\n",
    "                         + trandata['severity'].fillna(0).replace('', 0))\n",
    "                        != 0]"
   ]
  },
  {
   "cell_type": "markdown",
   "id": "f7e6d565",
   "metadata": {
    "papermill": {
     "duration": 0.492602,
     "end_time": "2021-05-26T14:32:13.470266",
     "exception": false,
     "start_time": "2021-05-26T14:32:12.977664",
     "status": "completed"
    },
    "pycharm": {
     "name": "#%% md\n"
    },
    "tags": []
   },
   "source": [
    "#### Output temp file"
   ]
  },
  {
   "cell_type": "code",
   "execution_count": 28,
   "id": "4cd3711a",
   "metadata": {
    "execution": {
     "iopub.execute_input": "2021-05-26T14:32:14.526923Z",
     "iopub.status.busy": "2021-05-26T14:32:14.522924Z",
     "iopub.status.idle": "2021-05-26T14:32:19.600512Z",
     "shell.execute_reply": "2021-05-26T14:32:19.602267Z"
    },
    "papermill": {
     "duration": 5.647203,
     "end_time": "2021-05-26T14:32:19.602267",
     "exception": false,
     "start_time": "2021-05-26T14:32:13.955064",
     "status": "completed"
    },
    "pycharm": {
     "name": "#%%\n"
    },
    "tags": []
   },
   "outputs": [],
   "source": [
    "trandata.to_parquet(\n",
    "    f'//hecate/Insurance_US/Product Development/Product Management/Global PPM/Reporting/Data Collection/Production/{str(percode)}\\\\{str(percode)}.localcur.parquet', engine = \"pyarrow\")\n",
    "\n"
   ]
  },
  {
   "cell_type": "markdown",
   "id": "f175ed99",
   "metadata": {
    "papermill": {
     "duration": 0.49231,
     "end_time": "2021-05-26T14:32:20.675617",
     "exception": false,
     "start_time": "2021-05-26T14:32:20.183307",
     "status": "completed"
    },
    "tags": []
   },
   "source": [
    "#### Store the DataFrame for other noteboks to use"
   ]
  },
  {
   "cell_type": "code",
   "execution_count": 29,
   "id": "0e93bd53",
   "metadata": {
    "execution": {
     "iopub.execute_input": "2021-05-26T14:32:21.887787Z",
     "iopub.status.busy": "2021-05-26T14:32:21.883786Z",
     "iopub.status.idle": "2021-05-26T14:32:21.917787Z",
     "shell.execute_reply": "2021-05-26T14:32:21.922787Z"
    },
    "papermill": {
     "duration": 0.639087,
     "end_time": "2021-05-26T14:32:21.925809",
     "exception": false,
     "start_time": "2021-05-26T14:32:21.286722",
     "status": "completed"
    },
    "tags": []
   },
   "outputs": [
    {
     "name": "stdout",
     "output_type": "stream",
     "text": [
      "Stored 'py_t_df' (DataFrame)\n"
     ]
    }
   ],
   "source": [
    "py_t_df = trandata\n",
    "\n",
    "%store py_t_df\n"
   ]
  }
 ],
 "metadata": {
  "celltoolbar": "Tags",
  "kernelspec": {
   "display_name": "Python 3",
   "language": "python",
   "name": "python3"
  },
  "language_info": {
   "codemirror_mode": {
    "name": "ipython",
    "version": 3
   },
   "file_extension": ".py",
   "mimetype": "text/x-python",
   "name": "python",
   "nbconvert_exporter": "python",
   "pygments_lexer": "ipython3",
   "version": "3.7.6"
  },
  "papermill": {
   "default_parameters": {},
   "duration": 102.810513,
   "end_time": "2021-05-26T14:32:23.907501",
   "environment_variables": {},
   "exception": null,
   "input_path": "pipeline/py_transform.ipynb",
   "output_path": "//hecate/Insurance_US/Product Development/Product Management/Global PPM/Reporting/Data Collection/Pipeline Reporting Scripts/GPMpipeline/instances/2021.Q1\\pipeline\\py_transform05262021101517--Aus Problem.ipynb",
   "parameters": {
    "commit_message": "New AUS needed to be converted from json",
    "inst_datetime": "05262021101517",
    "percode": "2021.Q1",
    "run_control": 1
   },
   "start_time": "2021-05-26T14:30:41.096988",
   "version": "2.3.3"
  }
 },
 "nbformat": 4,
 "nbformat_minor": 5
}