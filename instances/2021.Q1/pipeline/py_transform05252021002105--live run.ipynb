{
 "cells": [
  {
   "cell_type": "markdown",
   "id": "5d230493",
   "metadata": {
    "papermill": {
     "duration": 0.316411,
     "end_time": "2021-05-25T04:24:13.778550",
     "exception": false,
     "start_time": "2021-05-25T04:24:13.462139",
     "status": "completed"
    },
    "pycharm": {
     "name": "#%% md\n"
    },
    "tags": []
   },
   "source": [
    "<img src=\"../images/AzPTravel_PPM.png\">"
   ]
  },
  {
   "cell_type": "markdown",
   "id": "c91a08be",
   "metadata": {
    "collapsed": true,
    "papermill": {
     "duration": 0.282023,
     "end_time": "2021-05-25T04:24:14.341611",
     "exception": false,
     "start_time": "2021-05-25T04:24:14.059588",
     "status": "completed"
    },
    "pycharm": {
     "name": "#%% md\n"
    },
    "tags": []
   },
   "source": [
    "## GPM Data Transformation Script\n",
    "\n",
    "#### This script transforms the single consolidated raw file \"{Data Collection}.csv\" into it's final GPM input versions \"{Data Collection Code}localcur.csv\" and \"{Data Collection Code}euroconv.csv\"\n",
    "#### Current transformations\n",
    "\n",
    "-    make headers lowercase and replace spaces with hyphens\n",
    "-    Remove any rows with null BUs\n",
    "-    validate columns in validcols\n",
    "-    output documented here: \"Global_Attribute_Catalog.xlsx\" you can also edit dataframe entries using the instructions in the file\n",
    "-    replace various null or placeholder values with \"Not Provided\"\n"
   ]
  },
  {
   "cell_type": "markdown",
   "id": "235db673",
   "metadata": {
    "papermill": {
     "duration": 0.275004,
     "end_time": "2021-05-25T04:24:14.895414",
     "exception": false,
     "start_time": "2021-05-25T04:24:14.620410",
     "status": "completed"
    },
    "tags": []
   },
   "source": [
    "###"
   ]
  },
  {
   "cell_type": "code",
   "execution_count": 1,
   "id": "82dc941c",
   "metadata": {
    "execution": {
     "iopub.execute_input": "2021-05-25T04:24:15.499143Z",
     "iopub.status.busy": "2021-05-25T04:24:15.493138Z",
     "iopub.status.idle": "2021-05-25T04:24:15.505142Z",
     "shell.execute_reply": "2021-05-25T04:24:15.509143Z"
    },
    "papermill": {
     "duration": 0.33018,
     "end_time": "2021-05-25T04:24:15.509143",
     "exception": false,
     "start_time": "2021-05-25T04:24:15.178963",
     "status": "completed"
    },
    "pycharm": {
     "name": "#%%\n"
    },
    "tags": [
     "parameters"
    ]
   },
   "outputs": [],
   "source": [
    "commit = \"\"\n",
    "# give a reason for the run\n",
    "\n",
    "percode = \"20XX.QX\"\n",
    "# Data Collection Code, this controls file paths and output names\n",
    "\n",
    "run_type = 1\n",
    "#run_type =  0 - lite run with no reporting, not recommended.\n",
    "#run_type =  1 - lite run with normal reporting, default setting.\n",
    "#run_type =  2 - Heavy run with full reporting, available for audits and troubleshooting.\n",
    "\n",
    "specialchars = \"-GTHtest\"\n",
    "# optional - add up to a 12 character code in order to mark your instance record .ipynb\n",
    "\n",
    "from datetime import datetime\n",
    "\n",
    "inst_datetime = datetime.now().strftime(\"%m%d%Y%H%M%S\")\n",
    "# a single datetime stamp for the full instance run\n"
   ]
  },
  {
   "cell_type": "code",
   "execution_count": 2,
   "id": "359e68fa",
   "metadata": {
    "execution": {
     "iopub.execute_input": "2021-05-25T04:24:16.126763Z",
     "iopub.status.busy": "2021-05-25T04:24:16.122764Z",
     "iopub.status.idle": "2021-05-25T04:24:16.130765Z",
     "shell.execute_reply": "2021-05-25T04:24:16.132765Z"
    },
    "papermill": {
     "duration": 0.304004,
     "end_time": "2021-05-25T04:24:16.132765",
     "exception": false,
     "start_time": "2021-05-25T04:24:15.828761",
     "status": "completed"
    },
    "tags": [
     "injected-parameters"
    ]
   },
   "outputs": [],
   "source": [
    "# Parameters\n",
    "run_control = 1\n",
    "percode = \"2021.Q1\"\n",
    "commit_message = \"Edited data for Austraila, json 2 parquet and add comments from email. Begin general evaluation of data submissions.\"\n",
    "inst_datetime = \"05252021002105\"\n"
   ]
  },
  {
   "cell_type": "markdown",
   "id": "de6ac1cb",
   "metadata": {
    "papermill": {
     "duration": 0.305635,
     "end_time": "2021-05-25T04:24:16.746407",
     "exception": false,
     "start_time": "2021-05-25T04:24:16.440772",
     "status": "completed"
    },
    "tags": []
   },
   "source": [
    "### Set Run Control\n",
    "\n",
    "##### 0 - lite run with no reporting, not recommended.\n",
    "##### 1 - lite run with normal reporting, default setting.\n",
    "##### 2 - Heavy run with full reporting, available for audits and troubleshooting."
   ]
  },
  {
   "cell_type": "code",
   "execution_count": 3,
   "id": "666664ab",
   "metadata": {
    "execution": {
     "iopub.execute_input": "2021-05-25T04:24:17.339646Z",
     "iopub.status.busy": "2021-05-25T04:24:17.336645Z",
     "iopub.status.idle": "2021-05-25T04:24:17.344646Z",
     "shell.execute_reply": "2021-05-25T04:24:17.345647Z"
    },
    "papermill": {
     "duration": 0.303068,
     "end_time": "2021-05-25T04:24:17.345647",
     "exception": false,
     "start_time": "2021-05-25T04:24:17.042579",
     "status": "completed"
    },
    "pycharm": {
     "name": "#%%\n"
    },
    "tags": []
   },
   "outputs": [],
   "source": [
    "run_control = 0  # in development mode"
   ]
  },
  {
   "cell_type": "code",
   "execution_count": 4,
   "id": "b5d3ca5f",
   "metadata": {
    "execution": {
     "iopub.execute_input": "2021-05-25T04:24:18.048393Z",
     "iopub.status.busy": "2021-05-25T04:24:18.045394Z",
     "iopub.status.idle": "2021-05-25T04:24:20.692663Z",
     "shell.execute_reply": "2021-05-25T04:24:20.694656Z"
    },
    "papermill": {
     "duration": 3.021418,
     "end_time": "2021-05-25T04:24:20.694656",
     "exception": false,
     "start_time": "2021-05-25T04:24:17.673238",
     "status": "completed"
    },
    "pycharm": {
     "name": "#%%\n"
    },
    "tags": []
   },
   "outputs": [],
   "source": [
    "#### Packages used\n",
    "import sys\n",
    "import os\n",
    "import pandas as pd\n",
    "from pandas import ExcelWriter\n",
    "from numpy import nan"
   ]
  },
  {
   "cell_type": "code",
   "execution_count": 5,
   "id": "458192e7",
   "metadata": {
    "execution": {
     "iopub.execute_input": "2021-05-25T04:24:21.290187Z",
     "iopub.status.busy": "2021-05-25T04:24:21.289187Z",
     "iopub.status.idle": "2021-05-25T04:24:21.301188Z",
     "shell.execute_reply": "2021-05-25T04:24:21.302189Z"
    },
    "papermill": {
     "duration": 0.306528,
     "end_time": "2021-05-25T04:24:21.302189",
     "exception": false,
     "start_time": "2021-05-25T04:24:20.995661",
     "status": "completed"
    },
    "pycharm": {
     "name": "#%%\n"
    },
    "tags": []
   },
   "outputs": [],
   "source": [
    "default_dc = \"2021.Q1\"\n",
    "\n",
    "try:\n",
    "    if sys.argv[1] == \"-f\":\n",
    "        percode = default_dc\n",
    "    else:\n",
    "        percode = sys.argv[1]\n",
    "\n",
    "except IndexError:\n",
    "    percode = default_dc\n",
    "except NameError:\n",
    "    percode = default_dc"
   ]
  },
  {
   "cell_type": "markdown",
   "id": "2bd170d7",
   "metadata": {
    "papermill": {
     "duration": 0.295041,
     "end_time": "2021-05-25T04:24:21.876759",
     "exception": false,
     "start_time": "2021-05-25T04:24:21.581718",
     "status": "completed"
    },
    "tags": []
   },
   "source": [
    "#### style settings"
   ]
  },
  {
   "cell_type": "code",
   "execution_count": 6,
   "id": "9fc45692",
   "metadata": {
    "execution": {
     "iopub.execute_input": "2021-05-25T04:24:22.584122Z",
     "iopub.status.busy": "2021-05-25T04:24:22.580119Z",
     "iopub.status.idle": "2021-05-25T04:24:22.590128Z",
     "shell.execute_reply": "2021-05-25T04:24:22.591122Z"
    },
    "papermill": {
     "duration": 0.378848,
     "end_time": "2021-05-25T04:24:22.592116",
     "exception": false,
     "start_time": "2021-05-25T04:24:22.213268",
     "status": "completed"
    },
    "tags": []
   },
   "outputs": [],
   "source": [
    "from IPython.core.interactiveshell import InteractiveShell\n",
    "InteractiveShell.ast_node_interactivity = \"all\""
   ]
  },
  {
   "cell_type": "markdown",
   "id": "5ca61429",
   "metadata": {
    "papermill": {
     "duration": 0.324995,
     "end_time": "2021-05-25T04:24:23.276236",
     "exception": false,
     "start_time": "2021-05-25T04:24:22.951241",
     "status": "completed"
    },
    "tags": []
   },
   "source": [
    "#### Convert paths and files to variables.\n",
    "#### Read data into pd DataFrames.\n",
    "#### Make paths for the live sources."
   ]
  },
  {
   "cell_type": "code",
   "execution_count": 7,
   "id": "0b4275b3",
   "metadata": {
    "execution": {
     "iopub.execute_input": "2021-05-25T04:24:23.964217Z",
     "iopub.status.busy": "2021-05-25T04:24:23.963228Z",
     "iopub.status.idle": "2021-05-25T04:24:23.968216Z",
     "shell.execute_reply": "2021-05-25T04:24:23.970226Z"
    },
    "papermill": {
     "duration": 0.362529,
     "end_time": "2021-05-25T04:24:23.970226",
     "exception": false,
     "start_time": "2021-05-25T04:24:23.607697",
     "status": "completed"
    },
    "pycharm": {
     "name": "#%%\n"
    },
    "tags": []
   },
   "outputs": [],
   "source": [
    "rt_path = f'//hecate/Insurance_US/Product Development/Product Management/Global PPM/Reporting/Data Collection/Production/{str(percode)}'\n",
    "\n",
    "infile = os.path.join(rt_path, f'{str(percode)}.parquet')\n",
    "gppm_file = os.path.join(rt_path, f'GPPM_Input_{str(percode)}.xlsx')\n",
    "atcat = f'//hecate/Insurance_US/Product Development/Product Management/Global PPM/Reporting/Data Collection/Production/{str(percode)}\\\\{str(percode)}_Attribute_Catalog.xlsx'\n"
   ]
  },
  {
   "cell_type": "code",
   "execution_count": 8,
   "id": "baf58d36",
   "metadata": {
    "execution": {
     "iopub.execute_input": "2021-05-25T04:24:24.599705Z",
     "iopub.status.busy": "2021-05-25T04:24:24.596703Z",
     "iopub.status.idle": "2021-05-25T04:24:24.605703Z",
     "shell.execute_reply": "2021-05-25T04:24:24.606702Z"
    },
    "papermill": {
     "duration": 0.305114,
     "end_time": "2021-05-25T04:24:24.607702",
     "exception": false,
     "start_time": "2021-05-25T04:24:24.302588",
     "status": "completed"
    },
    "tags": []
   },
   "outputs": [],
   "source": [
    "#### Read input file\n",
    "\n",
    "#### This reads the consolidated file that will be transformed or a stored dataframe based on the execution method."
   ]
  },
  {
   "cell_type": "code",
   "execution_count": 9,
   "id": "36528ef4",
   "metadata": {
    "execution": {
     "iopub.execute_input": "2021-05-25T04:24:25.296902Z",
     "iopub.status.busy": "2021-05-25T04:24:25.288891Z",
     "iopub.status.idle": "2021-05-25T04:24:25.389422Z",
     "shell.execute_reply": "2021-05-25T04:24:25.390425Z"
    },
    "papermill": {
     "duration": 0.45105,
     "end_time": "2021-05-25T04:24:25.391417",
     "exception": false,
     "start_time": "2021-05-25T04:24:24.940367",
     "status": "completed"
    },
    "pycharm": {
     "name": "#%%\n"
    },
    "tags": []
   },
   "outputs": [
    {
     "name": "stdout",
     "output_type": "stream",
     "text": [
      "                       Submission File Business Unit Country Currency  \\\n",
      "0     us_dat_au_02172021174434.parquet            AU      AU      AUD   \n",
      "1     us_dat_au_02172021174434.parquet            AU      AU      AUD   \n",
      "2     us_dat_au_02172021174434.parquet            AU      AU      AUD   \n",
      "3     us_dat_au_02172021174434.parquet            AU      AU      AUD   \n",
      "4     us_dat_au_02172021174434.parquet            AU      AU      AUD   \n",
      "...                                ...           ...     ...      ...   \n",
      "3451  us_dat_pt_05202021121056.parquet            PT      PT      EUR   \n",
      "3452  us_dat_pt_05202021121056.parquet            PT      PT      EUR   \n",
      "3453  us_dat_pt_05202021121056.parquet            PT      PT      EUR   \n",
      "3454  us_dat_pt_05202021121056.parquet            PT      PT      EUR   \n",
      "3455  us_dat_pt_05202021121056.parquet            PT      PT      EUR   \n",
      "\n",
      "                           Region Reporting Date From Reporting Date To  \\\n",
      "0                            APAC          2020-01-01        2020-12-31   \n",
      "1                            APAC          2020-01-01        2020-12-31   \n",
      "2                            APAC          2020-01-01        2020-12-31   \n",
      "3                            APAC          2020-01-01        2020-12-31   \n",
      "4                            APAC          2020-01-01        2020-12-31   \n",
      "...                           ...                 ...               ...   \n",
      "3451  Western Europe, LATAM & MEA          2021-01-01        2021-03-31   \n",
      "3452  Western Europe, LATAM & MEA          2021-01-01        2021-03-31   \n",
      "3453  Western Europe, LATAM & MEA          2021-01-01        2021-03-31   \n",
      "3454  Western Europe, LATAM & MEA          2021-01-01        2021-03-31   \n",
      "3455  Western Europe, LATAM & MEA          2021-01-01        2021-03-31   \n",
      "\n",
      "     Date of Analysis         Type of Analysis  Analysed Months  ...  concat2  \\\n",
      "0          2021-02-08  Most Recently 12 Months             12.0  ...    AUAUD   \n",
      "1          2021-02-08  Most Recently 12 Months             12.0  ...    AUAUD   \n",
      "2          2021-02-08  Most Recently 12 Months             12.0  ...    AUAUD   \n",
      "3          2021-02-08  Most Recently 12 Months             12.0  ...    AUAUD   \n",
      "4          2021-02-08  Most Recently 12 Months             12.0  ...    AUAUD   \n",
      "...               ...                      ...              ...  ...      ...   \n",
      "3451       2021-03-31             Year To Date              3.0  ...    PTEUR   \n",
      "3452       2021-03-31             Year To Date              3.0  ...    PTEUR   \n",
      "3453       2021-03-31             Year To Date              3.0  ...    PTEUR   \n",
      "3454       2021-03-31             Year To Date              3.0  ...    PTEUR   \n",
      "3455       2021-03-31             Year To Date              3.0  ...    PTEUR   \n",
      "\n",
      "        comsub     expsub Reporting Date From INT Reporting Date To INT  \\\n",
      "0     0.074481   0.591379                20200101              20201231   \n",
      "1     0.361526   0.622344                20200101              20201231   \n",
      "2     0.143009   0.495955                20200101              20201231   \n",
      "3     0.196379   0.351713                20200101              20201231   \n",
      "4     0.403473   0.493019                20200101              20201231   \n",
      "...        ...        ...                     ...                   ...   \n",
      "3451  0.000000   0.538397                20210101              20210331   \n",
      "3452  0.000000   0.426832                20210101              20210331   \n",
      "3453  0.000000  18.673326                20210101              20210331   \n",
      "3454  0.000000   0.859278                20210101              20210331   \n",
      "3455  0.000000   1.023709                20210101              20210331   \n",
      "\n",
      "     Date of Analysis INT                     Selected Fields for Duplicates  \\\n",
      "0                20210208  AUInsuranceLocalB2B2CTravelAllianz Affiliation...   \n",
      "1                20210208  AUInsuranceLocalB2B2CTravelOffline Travel Agen...   \n",
      "2                20210208  AUInsuranceLocalB2B2CTravelOffline Travel Agen...   \n",
      "3                20210208  AUInsuranceLocalB2B2CTravelAllianz Affiliation...   \n",
      "4                20210208  AUInsuranceLocalB2B2CTravelCarriers - Airlines...   \n",
      "...                   ...                                                ...   \n",
      "3451             20210331  PTReinsuranceLocalB2B2CTravelDirect (Allianz P...   \n",
      "3452             20210331  PTReinsuranceLocalB2B2CTravelDirect (Allianz P...   \n",
      "3453             20210331  PTReinsuranceLocalB2B2CTravelDirect (Allianz P...   \n",
      "3454             20210331  PTReinsuranceLocalB2B2CTravelDirect (Allianz P...   \n",
      "3455             20210331  PTReinsuranceLocalB2BTravelDirect (Allianz Par...   \n",
      "\n",
      "     % of IBNR on (OCR + IBNR) Unnamed: 66 ibnrsub  \n",
      "0                          0.0         NaN     NaN  \n",
      "1                          0.0         NaN     NaN  \n",
      "2                          0.0         NaN     NaN  \n",
      "3                          0.0         NaN     NaN  \n",
      "4                          0.0         NaN     NaN  \n",
      "...                        ...         ...     ...  \n",
      "3451                       0.0         0.0     0.0  \n",
      "3452                       0.0         0.0     0.0  \n",
      "3453                       0.0         0.0     0.0  \n",
      "3454                       0.0         0.0     0.0  \n",
      "3455                       0.0         0.0     0.0  \n",
      "\n",
      "[3456 rows x 77 columns]\n"
     ]
    }
   ],
   "source": [
    "try:\n",
    "    %store -r read_dc_df\n",
    "    input = read_dc_df\n",
    "        \n",
    "except:\n",
    "    input = pd.read_parquet(infile,engine = \"pyarrow\")\n",
    "    os.remove(infile)\n",
    "\n",
    "print(input)"
   ]
  },
  {
   "cell_type": "markdown",
   "id": "3fcacce1",
   "metadata": {
    "papermill": {
     "duration": 0.412538,
     "end_time": "2021-05-25T04:24:26.190788",
     "exception": false,
     "start_time": "2021-05-25T04:24:25.778250",
     "status": "completed"
    },
    "tags": []
   },
   "source": [
    "#### Make a copy for debug purposes"
   ]
  },
  {
   "cell_type": "code",
   "execution_count": 10,
   "id": "8b26d4df",
   "metadata": {
    "execution": {
     "iopub.execute_input": "2021-05-25T04:24:26.939116Z",
     "iopub.status.busy": "2021-05-25T04:24:26.938126Z",
     "iopub.status.idle": "2021-05-25T04:24:26.948112Z",
     "shell.execute_reply": "2021-05-25T04:24:26.949117Z"
    },
    "papermill": {
     "duration": 0.386266,
     "end_time": "2021-05-25T04:24:26.949117",
     "exception": false,
     "start_time": "2021-05-25T04:24:26.562851",
     "status": "completed"
    },
    "pycharm": {
     "name": "#%%\n"
    },
    "tags": []
   },
   "outputs": [],
   "source": [
    "trandata = input.copy()"
   ]
  },
  {
   "cell_type": "markdown",
   "id": "6db8921f",
   "metadata": {
    "papermill": {
     "duration": 0.326774,
     "end_time": "2021-05-25T04:24:27.655420",
     "exception": false,
     "start_time": "2021-05-25T04:24:27.328646",
     "status": "completed"
    },
    "tags": []
   },
   "source": [
    "#### Format Headers"
   ]
  },
  {
   "cell_type": "code",
   "execution_count": 11,
   "id": "ece053ad",
   "metadata": {
    "execution": {
     "iopub.execute_input": "2021-05-25T04:24:28.565435Z",
     "iopub.status.busy": "2021-05-25T04:24:28.543442Z",
     "iopub.status.idle": "2021-05-25T04:24:28.576439Z",
     "shell.execute_reply": "2021-05-25T04:24:28.578442Z"
    },
    "papermill": {
     "duration": 0.498864,
     "end_time": "2021-05-25T04:24:28.580443",
     "exception": false,
     "start_time": "2021-05-25T04:24:28.081579",
     "status": "completed"
    },
    "pycharm": {
     "name": "#%%\n"
    },
    "tags": []
   },
   "outputs": [
    {
     "data": {
      "text/plain": [
       "'format headers'"
      ]
     },
     "execution_count": 11,
     "metadata": {},
     "output_type": "execute_result"
    }
   ],
   "source": [
    "# save the column names to variable, format them, replace headers\n",
    "cols = trandata.columns.values\n",
    "\n",
    "\"\"\"format headers\"\"\"\n",
    "fixedcols = []\n",
    "\n",
    "for f in cols:\n",
    "    fixedhead = f.replace(' ', '_').lower()\n",
    "    fixedcols.append(fixedhead)\n",
    "\n",
    "trandata.columns = fixedcols"
   ]
  },
  {
   "cell_type": "markdown",
   "id": "c8fd292f",
   "metadata": {
    "papermill": {
     "duration": 0.324096,
     "end_time": "2021-05-25T04:24:29.312114",
     "exception": false,
     "start_time": "2021-05-25T04:24:28.988018",
     "status": "completed"
    },
    "pycharm": {
     "name": "#%% md\n"
    },
    "tags": []
   },
   "source": [
    "#### Update Verification 1"
   ]
  },
  {
   "cell_type": "code",
   "execution_count": 12,
   "id": "20ffbbb6",
   "metadata": {
    "execution": {
     "iopub.execute_input": "2021-05-25T04:24:29.968917Z",
     "iopub.status.busy": "2021-05-25T04:24:29.966924Z",
     "iopub.status.idle": "2021-05-25T04:24:30.110436Z",
     "shell.execute_reply": "2021-05-25T04:24:30.111440Z"
    },
    "papermill": {
     "duration": 0.46283,
     "end_time": "2021-05-25T04:24:30.112437",
     "exception": false,
     "start_time": "2021-05-25T04:24:29.649607",
     "status": "completed"
    },
    "pycharm": {
     "name": "#%%\n"
    },
    "tags": []
   },
   "outputs": [
    {
     "name": "stdout",
     "output_type": "stream",
     "text": [
      "|    | Original                                                        | Transformed                                                     |\n",
      "|---:|:----------------------------------------------------------------|:----------------------------------------------------------------|\n",
      "|  0 | Submission File                                                 | submission_file                                                 |\n",
      "|  1 | Business Unit                                                   | business_unit                                                   |\n",
      "|  2 | Country                                                         | country                                                         |\n",
      "|  3 | Currency                                                        | currency                                                        |\n",
      "|  4 | Region                                                          | region                                                          |\n",
      "|  5 | Reporting Date From                                             | reporting_date_from                                             |\n",
      "|  6 | Reporting Date To                                               | reporting_date_to                                               |\n",
      "|  7 | Date of Analysis                                                | date_of_analysis                                                |\n",
      "|  8 | Type of Analysis                                                | type_of_analysis                                                |\n",
      "|  9 | Analysed Months                                                 | analysed_months                                                 |\n",
      "| 10 | Reporting Year                                                  | reporting_year                                                  |\n",
      "| 11 | Reporting Quarter                                               | reporting_quarter                                               |\n",
      "| 12 | Reporting Month                                                 | reporting_month                                                 |\n",
      "| 13 | Type of Business                                                | type_of_business                                                |\n",
      "| 14 | Type of Account                                                 | type_of_account                                                 |\n",
      "| 15 | Distribution Type                                               | distribution_type                                               |\n",
      "| 16 | LOB                                                             | lob                                                             |\n",
      "| 17 | Distribution Channel                                            | distribution_channel                                            |\n",
      "| 18 | Sub LOB                                                         | sub_lob                                                         |\n",
      "| 19 | Business Partner Name                                           | business_partner_name                                           |\n",
      "| 20 | Business Partner ID Number                                      | business_partner_id_number                                      |\n",
      "| 21 | Product Name                                                    | product_name                                                    |\n",
      "| 22 | Product ID Number                                               | product_id_number                                               |\n",
      "| 23 | Product Family                                                  | product_family                                                  |\n",
      "| 24 | Standard Product                                                | standard_product                                                |\n",
      "| 25 | Number of Products per Row                                      | number_of_products_per_row                                      |\n",
      "| 26 | Number of B-Partners per Row                                    | number_of_b-partners_per_row                                    |\n",
      "| 27 | Number of Policies (Written)                                    | number_of_policies_(written)                                    |\n",
      "| 28 | Units of Risk (Written)                                         | units_of_risk_(written)                                         |\n",
      "| 29 | Written Revenues net of Taxes                                   | written_revenues_net_of_taxes                                   |\n",
      "| 30 | Written Revenues                                                | written_revenues                                                |\n",
      "| 31 | Number of Policies (Earned)                                     | number_of_policies_(earned)                                     |\n",
      "| 32 | Units of Risk (Earned)                                          | units_of_risk_(earned)                                          |\n",
      "| 33 | Earned Revenues net of Taxes                                    | earned_revenues_net_of_taxes                                    |\n",
      "| 34 | Earned Revenues                                                 | earned_revenues                                                 |\n",
      "| 35 | Earned Base Commissions                                         | earned_base_commissions                                         |\n",
      "| 36 | Earned Over-Commissions                                         | earned_over-commissions                                         |\n",
      "| 37 | Upfront Cash Payments                                           | upfront_cash_payments                                           |\n",
      "| 38 | Total Compensation                                              | total_compensation                                              |\n",
      "| 39 | Number of Claims (Paid + OCR + IBNR)                            | number_of_claims_(paid_+_ocr_+_ibnr)                            |\n",
      "| 40 | Number of Open Claims                                           | number_of_open_claims                                           |\n",
      "| 41 | Open Claims %                                                   | open_claims_%                                                   |\n",
      "| 42 | Number of Persons Involved in Claims (Paid + OCR + IBNR)        | number_of_persons_involved_in_claims_(paid_+_ocr_+_ibnr)        |\n",
      "| 43 | Paid Claims                                                     | paid_claims                                                     |\n",
      "| 44 | OCR + IBNR                                                      | ocr_+_ibnr                                                      |\n",
      "| 45 | Actual Incurred Losses (Paid + OCR + IBNR)                      | actual_incurred_losses_(paid_+_ocr_+_ibnr)                      |\n",
      "| 46 | Internal Variable Costs (excl. AZ Tech Fee)                     | internal_variable_costs_(excl._az_tech_fee)                     |\n",
      "| 47 | AZ Tech Fee                                                     | az_tech_fee                                                     |\n",
      "| 48 | Internal Fixed Costs (excl. HQ Fees)                            | internal_fixed_costs_(excl._hq_fees)                            |\n",
      "| 49 | HQ Fees                                                         | hq_fees                                                         |\n",
      "| 50 | Total Expenses                                                  | total_expenses                                                  |\n",
      "| 51 | Frequency (Earned)                                              | frequency_(earned)                                              |\n",
      "| 52 | Severity                                                        | severity                                                        |\n",
      "| 53 | Risk Premium                                                    | risk_premium                                                    |\n",
      "| 54 | Contribution Margin - BU View                                   | contribution_margin_-_bu_view                                   |\n",
      "| 55 | Contribution Margin % on Fixed Costs - BU View                  | contribution_margin_%_on_fixed_costs_-_bu_view                  |\n",
      "| 56 | Contribution Margin % on Earned Revenues net of Taxes - BU View | contribution_margin_%_on_earned_revenues_net_of_taxes_-_bu_view |\n",
      "| 57 | Contribution Margin - HQ View                                   | contribution_margin_-_hq_view                                   |\n",
      "| 58 | Contribution Margin % on Fixed Costs - HQ View                  | contribution_margin_%_on_fixed_costs_-_hq_view                  |\n",
      "| 59 | Contribution Margin % on Earned Revenues net of Taxes - HQ View | contribution_margin_%_on_earned_revenues_net_of_taxes_-_hq_view |\n",
      "| 60 | Loss Ratio                                                      | loss_ratio                                                      |\n",
      "| 61 | Commission Ratio                                                | commission_ratio                                                |\n",
      "| 62 | Expense Ratio                                                   | expense_ratio                                                   |\n",
      "| 63 | Combined Ratio                                                  | combined_ratio                                                  |\n",
      "| 64 | Profit or Loss                                                  | profit_or_loss                                                  |\n",
      "| 65 | Notes                                                           | notes                                                           |\n",
      "| 66 | Unnamed: 65                                                     | unnamed:_65                                                     |\n",
      "| 67 | concat2                                                         | concat2                                                         |\n",
      "| 68 | comsub                                                          | comsub                                                          |\n",
      "| 69 | expsub                                                          | expsub                                                          |\n",
      "| 70 | Reporting Date From INT                                         | reporting_date_from_int                                         |\n",
      "| 71 | Reporting Date To INT                                           | reporting_date_to_int                                           |\n",
      "| 72 | Date of Analysis INT                                            | date_of_analysis_int                                            |\n",
      "| 73 | Selected Fields for Duplicates                                  | selected_fields_for_duplicates                                  |\n",
      "| 74 | % of IBNR on (OCR + IBNR)                                       | %_of_ibnr_on_(ocr_+_ibnr)                                       |\n",
      "| 75 | Unnamed: 66                                                     | unnamed:_66                                                     |\n",
      "| 76 | ibnrsub                                                         | ibnrsub                                                         |\n"
     ]
    }
   ],
   "source": [
    "if run_control > -10:\n",
    "    disp = {\"Original\": input.columns, \"Transformed\": trandata.columns}\n",
    "\n",
    "    disp = pd.DataFrame(disp)\n",
    "\n",
    "    print(disp.to_markdown())\n",
    "else:\n",
    "    print(\"Skipped Transformation Report 1\")"
   ]
  },
  {
   "cell_type": "markdown",
   "id": "3df41ee7",
   "metadata": {
    "papermill": {
     "duration": 0.352953,
     "end_time": "2021-05-25T04:24:30.805611",
     "exception": false,
     "start_time": "2021-05-25T04:24:30.452658",
     "status": "completed"
    },
    "tags": []
   },
   "source": [
    "#### Remove rows with null business units\n"
   ]
  },
  {
   "cell_type": "code",
   "execution_count": 13,
   "id": "cd42b88e",
   "metadata": {
    "execution": {
     "iopub.execute_input": "2021-05-25T04:24:31.494723Z",
     "iopub.status.busy": "2021-05-25T04:24:31.487724Z",
     "iopub.status.idle": "2021-05-25T04:24:31.504724Z",
     "shell.execute_reply": "2021-05-25T04:24:31.506721Z"
    },
    "papermill": {
     "duration": 0.375511,
     "end_time": "2021-05-25T04:24:31.506721",
     "exception": false,
     "start_time": "2021-05-25T04:24:31.131210",
     "status": "completed"
    },
    "pycharm": {
     "name": "#%%\n"
    },
    "tags": []
   },
   "outputs": [],
   "source": [
    "# todo, remove this from read file\n",
    "trandata = trandata[trandata.business_unit.notnull()]"
   ]
  },
  {
   "cell_type": "markdown",
   "id": "4dbfee17",
   "metadata": {
    "papermill": {
     "duration": 0.430416,
     "end_time": "2021-05-25T04:24:32.448196",
     "exception": false,
     "start_time": "2021-05-25T04:24:32.017780",
     "status": "completed"
    },
    "tags": []
   },
   "source": [
    "#### Update Verification 2"
   ]
  },
  {
   "cell_type": "code",
   "execution_count": 14,
   "id": "48928671",
   "metadata": {
    "execution": {
     "iopub.execute_input": "2021-05-25T04:24:33.194603Z",
     "iopub.status.busy": "2021-05-25T04:24:33.182598Z",
     "iopub.status.idle": "2021-05-25T04:24:33.259610Z",
     "shell.execute_reply": "2021-05-25T04:24:33.260599Z"
    },
    "papermill": {
     "duration": 0.439529,
     "end_time": "2021-05-25T04:24:33.261601",
     "exception": false,
     "start_time": "2021-05-25T04:24:32.822072",
     "status": "completed"
    },
    "pycharm": {
     "name": "#%%\n"
    },
    "tags": []
   },
   "outputs": [
    {
     "name": "stdout",
     "output_type": "stream",
     "text": [
      "Row Counts\n",
      "|    | Business Unit   |   Original |   Transformed |\n",
      "|---:|:----------------|-----------:|--------------:|\n",
      "|  0 | AU              |         85 |            85 |\n",
      "|  1 | CA              |         17 |            17 |\n",
      "|  2 | CH              |       3187 |          3187 |\n",
      "|  3 | ES              |         28 |            28 |\n",
      "|  4 | IT              |        100 |           100 |\n",
      "|  5 | PT              |         39 |            39 |\n"
     ]
    }
   ],
   "source": [
    "if run_control > -10:\n",
    "\n",
    "    ibus = input.groupby(['Business Unit']).count()\n",
    "    ibus = ibus.reset_index()\n",
    "    tbus = trandata.groupby(['business_unit']).count()\n",
    "    tbus = tbus.reset_index()\n",
    "\n",
    "    compdata = pd.merge(ibus, tbus, left_on='Business Unit', right_on='business_unit', how='left')\n",
    "\n",
    "    disp = {\"Business Unit\": compdata['Business Unit'], \"Original\": compdata['Earned Revenues net of Taxes'],\n",
    "            \"Transformed\": compdata['earned_revenues_net_of_taxes']}\n",
    "\n",
    "    disp = pd.DataFrame(disp)\n",
    "\n",
    "    print(\"Row Counts\")\n",
    "    print(disp.to_markdown())\n",
    "    \n",
    "else:\n",
    "    \n",
    "    print(\"Skipped Transformation Report 2\")\n"
   ]
  },
  {
   "cell_type": "markdown",
   "id": "8c5e5d6c",
   "metadata": {
    "papermill": {
     "duration": 0.364005,
     "end_time": "2021-05-25T04:24:33.953644",
     "exception": false,
     "start_time": "2021-05-25T04:24:33.589639",
     "status": "completed"
    },
    "tags": []
   },
   "source": [
    "#### Swap  nulls for \"Not Provided\" in 'Sub Lob' and 'Distribution Channel'"
   ]
  },
  {
   "cell_type": "code",
   "execution_count": 15,
   "id": "e531e9e9",
   "metadata": {
    "execution": {
     "iopub.execute_input": "2021-05-25T04:24:34.937815Z",
     "iopub.status.busy": "2021-05-25T04:24:34.935812Z",
     "iopub.status.idle": "2021-05-25T04:24:34.942812Z",
     "shell.execute_reply": "2021-05-25T04:24:34.944812Z"
    },
    "papermill": {
     "duration": 0.603033,
     "end_time": "2021-05-25T04:24:34.944812",
     "exception": false,
     "start_time": "2021-05-25T04:24:34.341779",
     "status": "completed"
    },
    "pycharm": {
     "name": "#%%\n"
    },
    "tags": []
   },
   "outputs": [],
   "source": [
    "mults = trandata['sub_lob'][trandata.sub_lob.replace(nan, 'Not Provided').str.contains(',', case=False)]\n",
    "mults = mults.unique()\n",
    "\n",
    "trandata['sub_lob'] = trandata['sub_lob'].fillna('Not Provided')\n",
    "trandata['sub_lob'] = trandata['sub_lob'].replace('', 'Not Provided')\n",
    "trandata['distribution_channel'] = trandata['distribution_channel'].replace('', 'Not Provided').fillna('Not Provided')"
   ]
  },
  {
   "cell_type": "markdown",
   "id": "d13035dc",
   "metadata": {
    "papermill": {
     "duration": 0.378681,
     "end_time": "2021-05-25T04:24:35.698763",
     "exception": false,
     "start_time": "2021-05-25T04:24:35.320082",
     "status": "completed"
    },
    "tags": []
   },
   "source": [
    "#### Replace multiple entries in \"Sub Lob\" to \"Multiple\""
   ]
  },
  {
   "cell_type": "code",
   "execution_count": 16,
   "id": "8123f8ba",
   "metadata": {
    "execution": {
     "iopub.execute_input": "2021-05-25T04:24:36.414335Z",
     "iopub.status.busy": "2021-05-25T04:24:36.396333Z",
     "iopub.status.idle": "2021-05-25T04:24:36.419335Z",
     "shell.execute_reply": "2021-05-25T04:24:36.421335Z"
    },
    "papermill": {
     "duration": 0.361461,
     "end_time": "2021-05-25T04:24:36.422335",
     "exception": false,
     "start_time": "2021-05-25T04:24:36.060874",
     "status": "completed"
    },
    "pycharm": {
     "name": "#%%\n"
    },
    "tags": []
   },
   "outputs": [],
   "source": [
    "for i in mults:\n",
    "    trandata['sub_lob'] = trandata['sub_lob'].replace(i, 'Multiple')\n",
    "\n",
    "# todo automate figuring out which fields fx rates should be applied to somehow"
   ]
  },
  {
   "cell_type": "markdown",
   "id": "f0fa006c",
   "metadata": {
    "papermill": {
     "duration": 0.337007,
     "end_time": "2021-05-25T04:24:37.119072",
     "exception": false,
     "start_time": "2021-05-25T04:24:36.782065",
     "status": "completed"
    },
    "tags": []
   },
   "source": [
    "#### Update Verification 3"
   ]
  },
  {
   "cell_type": "code",
   "execution_count": 17,
   "id": "d8ccd35e",
   "metadata": {
    "execution": {
     "iopub.execute_input": "2021-05-25T04:24:37.873492Z",
     "iopub.status.busy": "2021-05-25T04:24:37.850489Z",
     "iopub.status.idle": "2021-05-25T04:24:38.128056Z",
     "shell.execute_reply": "2021-05-25T04:24:38.130054Z"
    },
    "papermill": {
     "duration": 0.666443,
     "end_time": "2021-05-25T04:24:38.131054",
     "exception": false,
     "start_time": "2021-05-25T04:24:37.464611",
     "status": "completed"
    },
    "pycharm": {
     "name": "#%%\n"
    },
    "tags": []
   },
   "outputs": [],
   "source": [
    "if run_control > -10:\n",
    "\n",
    "    ibus = input.groupby(['Sub LOB']).sum()\n",
    "    ibus = ibus.reset_index()\n",
    "    tbus = trandata.groupby(['sub_lob']).sum()\n",
    "    tbus = tbus.reset_index()\n",
    "\n",
    "    compdatasublob = pd.merge(ibus, tbus, left_on='Sub LOB', right_on='sub_lob', how='outer')\n",
    "\n",
    "    disp1 = pd.DataFrame(\n",
    "        {'Original Sub LOB': compdatasublob['Sub LOB'], 'Transformed Sub LOB': compdatasublob['sub_lob'],\n",
    "         \"Original\": compdatasublob['Earned Revenues net of Taxes'] / 1000,\n",
    "         \"Transformed\": compdatasublob['earned_revenues_net_of_taxes'] / 1000})\n",
    "\n",
    "\n",
    "\n",
    "    tots1 = pd.DataFrame({'Original Total': (input['Earned Revenues net of Taxes']).sum() / 10000,\n",
    "                          \"Transformed Total\": (compdatasublob['earned_revenues_net_of_taxes']).sum() / 10000},\n",
    "                         index=[0])\n",
    "else:\n",
    "    print(\"Skipped Transformation Report 2\")"
   ]
  },
  {
   "cell_type": "markdown",
   "id": "71db6449",
   "metadata": {
    "papermill": {
     "duration": 0.331154,
     "end_time": "2021-05-25T04:24:38.989679",
     "exception": false,
     "start_time": "2021-05-25T04:24:38.658525",
     "status": "completed"
    },
    "tags": []
   },
   "source": [
    "#### Make cflds, a list of currency fields, force to float, coercion is null or string to 0"
   ]
  },
  {
   "cell_type": "code",
   "execution_count": 18,
   "id": "411c14be",
   "metadata": {
    "execution": {
     "iopub.execute_input": "2021-05-25T04:24:39.772690Z",
     "iopub.status.busy": "2021-05-25T04:24:39.760695Z",
     "iopub.status.idle": "2021-05-25T04:24:40.020693Z",
     "shell.execute_reply": "2021-05-25T04:24:40.021699Z"
    },
    "papermill": {
     "duration": 0.665506,
     "end_time": "2021-05-25T04:24:40.022691",
     "exception": false,
     "start_time": "2021-05-25T04:24:39.357185",
     "status": "completed"
    },
    "pycharm": {
     "name": "#%%\n"
    },
    "tags": []
   },
   "outputs": [
    {
     "data": {
      "text/plain": [
       "0        1772.4400\n",
       "1       73384.9866\n",
       "2        4193.4300\n",
       "3         874.8900\n",
       "4        3388.4715\n",
       "           ...    \n",
       "3451     1509.1600\n",
       "3452     2164.1100\n",
       "3453      309.7200\n",
       "3454        0.0000\n",
       "3455     1260.0000\n",
       "Name: written_revenues_net_of_taxes, Length: 3456, dtype: float64"
      ]
     },
     "execution_count": 18,
     "metadata": {},
     "output_type": "execute_result"
    },
    {
     "data": {
      "text/plain": [
       "0          0.0000\n",
       "1          0.0000\n",
       "2          0.0000\n",
       "3          0.0000\n",
       "4          0.0000\n",
       "          ...    \n",
       "3451    1644.9844\n",
       "3452    2358.8799\n",
       "3453     337.5948\n",
       "3454       0.0000\n",
       "3455    1373.4000\n",
       "Name: written_revenues, Length: 3456, dtype: float64"
      ]
     },
     "execution_count": 18,
     "metadata": {},
     "output_type": "execute_result"
    },
    {
     "data": {
      "text/plain": [
       "0         5524.7718\n",
       "1       517217.3011\n",
       "2        12578.4759\n",
       "3          874.8900\n",
       "4        11928.4636\n",
       "           ...     \n",
       "3451      1576.8600\n",
       "3452      2085.8000\n",
       "3453        16.5700\n",
       "3454        68.0000\n",
       "3455      1260.0000\n",
       "Name: earned_revenues_net_of_taxes, Length: 3456, dtype: float64"
      ]
     },
     "execution_count": 18,
     "metadata": {},
     "output_type": "execute_result"
    },
    {
     "data": {
      "text/plain": [
       "0          0.0000\n",
       "1          0.0000\n",
       "2          0.0000\n",
       "3          0.0000\n",
       "4          0.0000\n",
       "          ...    \n",
       "3451    1718.7774\n",
       "3452    2273.5220\n",
       "3453      18.0613\n",
       "3454      74.1200\n",
       "3455    1373.4000\n",
       "Name: earned_revenues, Length: 3456, dtype: float64"
      ]
     },
     "execution_count": 18,
     "metadata": {},
     "output_type": "execute_result"
    },
    {
     "data": {
      "text/plain": [
       "0          411.4924\n",
       "1       186987.7598\n",
       "2         1798.8306\n",
       "3          171.8100\n",
       "4         4812.8102\n",
       "           ...     \n",
       "3451         0.0000\n",
       "3452         0.0000\n",
       "3453         0.0000\n",
       "3454         0.0000\n",
       "3455         0.0000\n",
       "Name: earned_base_commissions, Length: 3456, dtype: float64"
      ]
     },
     "execution_count": 18,
     "metadata": {},
     "output_type": "execute_result"
    },
    {
     "data": {
      "text/plain": [
       "0       0.0\n",
       "1       0.0\n",
       "2       0.0\n",
       "3       0.0\n",
       "4       0.0\n",
       "       ... \n",
       "3451    0.0\n",
       "3452    0.0\n",
       "3453    0.0\n",
       "3454    0.0\n",
       "3455    0.0\n",
       "Name: earned_over-commissions, Length: 3456, dtype: float64"
      ]
     },
     "execution_count": 18,
     "metadata": {},
     "output_type": "execute_result"
    },
    {
     "data": {
      "text/plain": [
       "0       0.0\n",
       "1       0.0\n",
       "2       0.0\n",
       "3       0.0\n",
       "4       0.0\n",
       "       ... \n",
       "3451    0.0\n",
       "3452    0.0\n",
       "3453    0.0\n",
       "3454    0.0\n",
       "3455    0.0\n",
       "Name: upfront_cash_payments, Length: 3456, dtype: float64"
      ]
     },
     "execution_count": 18,
     "metadata": {},
     "output_type": "execute_result"
    },
    {
     "data": {
      "text/plain": [
       "0          411.4924\n",
       "1       186987.7598\n",
       "2         1798.8306\n",
       "3          171.8100\n",
       "4         4812.8102\n",
       "           ...     \n",
       "3451         0.0000\n",
       "3452         0.0000\n",
       "3453         0.0000\n",
       "3454         0.0000\n",
       "3455         0.0000\n",
       "Name: total_compensation, Length: 3456, dtype: float64"
      ]
     },
     "execution_count": 18,
     "metadata": {},
     "output_type": "execute_result"
    },
    {
     "data": {
      "text/plain": [
       "0          841.6000\n",
       "1       179952.5261\n",
       "2            0.0000\n",
       "3            0.0000\n",
       "4          650.3800\n",
       "           ...     \n",
       "3451        69.4500\n",
       "3452         0.0000\n",
       "3453       630.1200\n",
       "3454         0.0000\n",
       "3455         0.0000\n",
       "Name: paid_claims, Length: 3456, dtype: float64"
      ]
     },
     "execution_count": 18,
     "metadata": {},
     "output_type": "execute_result"
    },
    {
     "data": {
      "text/plain": [
       "0         158.949826\n",
       "1       30986.379636\n",
       "2         284.268956\n",
       "3          16.847558\n",
       "4         317.166200\n",
       "            ...     \n",
       "3451     1472.110000\n",
       "3452      608.720000\n",
       "3453        0.000000\n",
       "3454        0.000000\n",
       "3455        0.000000\n",
       "Name: ocr_+_ibnr, Length: 3456, dtype: float64"
      ]
     },
     "execution_count": 18,
     "metadata": {},
     "output_type": "execute_result"
    },
    {
     "data": {
      "text/plain": [
       "0         1000.549826\n",
       "1       210938.905736\n",
       "2          284.268956\n",
       "3           16.847558\n",
       "4          967.546200\n",
       "            ...      \n",
       "3451      1541.560000\n",
       "3452       608.720000\n",
       "3453       630.120000\n",
       "3454         0.000000\n",
       "3455         0.000000\n",
       "Name: actual_incurred_losses_(paid_+_ocr_+_ibnr), Length: 3456, dtype: float64"
      ]
     },
     "execution_count": 18,
     "metadata": {},
     "output_type": "execute_result"
    },
    {
     "data": {
      "text/plain": [
       "0         930.696166\n",
       "1       91986.087535\n",
       "2        1076.945043\n",
       "3          55.083911\n",
       "4        1236.770428\n",
       "            ...     \n",
       "3451      433.790006\n",
       "3452      341.095979\n",
       "3453      305.054137\n",
       "3454       33.114511\n",
       "3455      835.265953\n",
       "Name: internal_variable_costs_(excl._az_tech_fee), Length: 3456, dtype: float64"
      ]
     },
     "execution_count": 18,
     "metadata": {},
     "output_type": "execute_result"
    },
    {
     "data": {
      "text/plain": [
       "0         315.488111\n",
       "1       29535.321094\n",
       "2         718.284798\n",
       "3          49.959963\n",
       "4         681.166314\n",
       "            ...     \n",
       "3451       45.413568\n",
       "3452       60.071040\n",
       "3453        0.477216\n",
       "3454        1.958400\n",
       "3455       36.288000\n",
       "Name: az_tech_fee, Length: 3456, dtype: float64"
      ]
     },
     "execution_count": 18,
     "metadata": {},
     "output_type": "execute_result"
    },
    {
     "data": {
      "text/plain": [
       "0         1474.395339\n",
       "1       145930.890587\n",
       "2         3144.451670\n",
       "3          151.527925\n",
       "4         2633.394389\n",
       "            ...      \n",
       "3451       272.796780\n",
       "3452       360.843400\n",
       "3453         2.866610\n",
       "3454        19.176000\n",
       "3455       355.320000\n",
       "Name: internal_fixed_costs_(excl._hq_fees), Length: 3456, dtype: float64"
      ]
     },
     "execution_count": 18,
     "metadata": {},
     "output_type": "execute_result"
    },
    {
     "data": {
      "text/plain": [
       "0         546.657015\n",
       "1       54435.025836\n",
       "2        1298.674892\n",
       "3          51.138343\n",
       "4        1329.630483\n",
       "            ...     \n",
       "3451       96.976890\n",
       "3452      128.276700\n",
       "3453        1.019055\n",
       "3454        4.182000\n",
       "3455       63.000000\n",
       "Name: hq_fees, Length: 3456, dtype: float64"
      ]
     },
     "execution_count": 18,
     "metadata": {},
     "output_type": "execute_result"
    },
    {
     "data": {
      "text/plain": [
       "0         3267.236631\n",
       "1       321887.325052\n",
       "2         6238.356404\n",
       "3          307.710141\n",
       "4         5880.961615\n",
       "            ...      \n",
       "3451       848.977244\n",
       "3452       890.287119\n",
       "3453       309.417018\n",
       "3454        58.430911\n",
       "3455      1289.873953\n",
       "Name: total_expenses, Length: 3456, dtype: float64"
      ]
     },
     "execution_count": 18,
     "metadata": {},
     "output_type": "execute_result"
    },
    {
     "data": {
      "text/plain": [
       "0       0.0\n",
       "1       0.0\n",
       "2       0.0\n",
       "3       0.0\n",
       "4       0.0\n",
       "       ... \n",
       "3451    0.0\n",
       "3452    0.0\n",
       "3453    0.0\n",
       "3454    0.0\n",
       "3455    0.0\n",
       "Name: risk_premium, Length: 3456, dtype: float64"
      ]
     },
     "execution_count": 18,
     "metadata": {},
     "output_type": "execute_result"
    },
    {
     "data": {
      "text/plain": [
       "0          845.492943\n",
       "1      -202596.689488\n",
       "2         4257.019941\n",
       "3          378.522301\n",
       "4          267.145586\n",
       "            ...      \n",
       "3451      -813.677244\n",
       "3452       586.792881\n",
       "3453      -922.967018\n",
       "3454         9.569089\n",
       "3455       -29.873953\n",
       "Name: profit_or_loss, Length: 3456, dtype: float64"
      ]
     },
     "execution_count": 18,
     "metadata": {},
     "output_type": "execute_result"
    },
    {
     "data": {
      "text/plain": [
       "0       2866.545298\n",
       "1      -2230.773065\n",
       "2       8700.146503\n",
       "3        581.188569\n",
       "4       4230.170458\n",
       "           ...     \n",
       "3451    -443.903574\n",
       "3452    1075.912981\n",
       "3453    -919.081353\n",
       "3454      32.927089\n",
       "3455     388.446047\n",
       "Name: contribution_margin_-_hq_view, Length: 3456, dtype: float64"
      ]
     },
     "execution_count": 18,
     "metadata": {},
     "output_type": "execute_result"
    },
    {
     "data": {
      "text/plain": [
       "0        2319.888282\n",
       "1      -56665.798901\n",
       "2        7401.471611\n",
       "3         530.050226\n",
       "4        2900.539975\n",
       "            ...     \n",
       "3451     -540.880464\n",
       "3452      947.636281\n",
       "3453     -920.100408\n",
       "3454       28.745089\n",
       "3455      325.446047\n",
       "Name: contribution_margin_-_bu_view, Length: 3456, dtype: float64"
      ]
     },
     "execution_count": 18,
     "metadata": {},
     "output_type": "execute_result"
    }
   ],
   "source": [
    "cflds = ['written_revenues_net_of_taxes', 'written_revenues', 'earned_revenues_net_of_taxes',\n",
    "         'earned_revenues', 'earned_base_commissions', 'earned_over-commissions', 'upfront_cash_payments',\n",
    "         'total_compensation', 'paid_claims', 'ocr_+_ibnr', 'actual_incurred_losses_(paid_+_ocr_+_ibnr)',\n",
    "         'internal_variable_costs_(excl._az_tech_fee)', 'az_tech_fee', 'internal_fixed_costs_(excl._hq_fees)',\n",
    "         'hq_fees', 'total_expenses', 'risk_premium', 'profit_or_loss', 'contribution_margin_-_hq_view',\n",
    "         'contribution_margin_-_bu_view', ]\n",
    "\n",
    "for i in cflds:\n",
    "    pd.to_numeric(trandata[i], errors='coerce')"
   ]
  },
  {
   "cell_type": "markdown",
   "id": "f16ae646",
   "metadata": {
    "papermill": {
     "duration": 0.433005,
     "end_time": "2021-05-25T04:24:41.073886",
     "exception": false,
     "start_time": "2021-05-25T04:24:40.640881",
     "status": "completed"
    },
    "tags": []
   },
   "source": [
    "#### Turn selected columns values uppercase"
   ]
  },
  {
   "cell_type": "code",
   "execution_count": 19,
   "id": "fda82494",
   "metadata": {
    "execution": {
     "iopub.execute_input": "2021-05-25T04:24:41.955398Z",
     "iopub.status.busy": "2021-05-25T04:24:41.954400Z",
     "iopub.status.idle": "2021-05-25T04:24:41.959428Z",
     "shell.execute_reply": "2021-05-25T04:24:41.960402Z"
    },
    "papermill": {
     "duration": 0.498441,
     "end_time": "2021-05-25T04:24:41.961400",
     "exception": false,
     "start_time": "2021-05-25T04:24:41.462959",
     "status": "completed"
    },
    "pycharm": {
     "name": "#%%\n"
    },
    "tags": []
   },
   "outputs": [],
   "source": [
    "validcols = ['business_unit', 'currency', 'region', 'type_of_analysis', 'type_of_business', 'type_of_account', 'lob',\n",
    "             'distribution_type', 'distribution_channel', ]\n",
    "\n",
    "for c in validcols:\n",
    "    trandata[c] = trandata[c].astype(str)\n",
    "    trandata[c] = trandata[c].apply(lambda x: x.upper())"
   ]
  },
  {
   "cell_type": "markdown",
   "id": "a8a78211",
   "metadata": {
    "papermill": {
     "duration": 0.399593,
     "end_time": "2021-05-25T04:24:42.752053",
     "exception": false,
     "start_time": "2021-05-25T04:24:42.352460",
     "status": "completed"
    },
    "tags": []
   },
   "source": [
    "#### Read the values from the Global Attribute Catalog, one field per loop iterance and xlsx sheet."
   ]
  },
  {
   "cell_type": "code",
   "execution_count": 20,
   "id": "0f87b7cd",
   "metadata": {
    "execution": {
     "iopub.execute_input": "2021-05-25T04:24:43.567405Z",
     "iopub.status.busy": "2021-05-25T04:24:43.562402Z",
     "iopub.status.idle": "2021-05-25T04:24:45.420494Z",
     "shell.execute_reply": "2021-05-25T04:24:45.421481Z"
    },
    "papermill": {
     "duration": 2.196757,
     "end_time": "2021-05-25T04:24:45.422478",
     "exception": false,
     "start_time": "2021-05-25T04:24:43.225721",
     "status": "completed"
    },
    "pycharm": {
     "name": "#%%\n"
    },
    "tags": []
   },
   "outputs": [],
   "source": [
    "checktabs = []\n",
    "\n",
    "\n",
    "\n",
    "for s in validcols:\n",
    "    t = pd.read_excel(atcat, sheet_name = s )\n",
    "    checktabs.append([[s], [t]])\n",
    "\n",
    "gacout = []\n"
   ]
  },
  {
   "cell_type": "markdown",
   "id": "cb297287",
   "metadata": {
    "papermill": {
     "duration": 0.395096,
     "end_time": "2021-05-25T04:24:46.228673",
     "exception": false,
     "start_time": "2021-05-25T04:24:45.833577",
     "status": "completed"
    },
    "tags": []
   },
   "source": [
    "#### Compare the lists from the previous step and each field. Find those that do not match, make lists of unique values\n",
    "#### replace any that have replacements in GPPM inoout already, make a list of values without any matches.\n"
   ]
  },
  {
   "cell_type": "code",
   "execution_count": 21,
   "id": "80513f95",
   "metadata": {
    "execution": {
     "iopub.execute_input": "2021-05-25T04:24:46.975019Z",
     "iopub.status.busy": "2021-05-25T04:24:46.954027Z",
     "iopub.status.idle": "2021-05-25T04:24:47.100073Z",
     "shell.execute_reply": "2021-05-25T04:24:47.101073Z"
    },
    "papermill": {
     "duration": 0.537159,
     "end_time": "2021-05-25T04:24:47.102077",
     "exception": false,
     "start_time": "2021-05-25T04:24:46.564918",
     "status": "completed"
    },
    "pycharm": {
     "name": "#%%\n"
    },
    "tags": []
   },
   "outputs": [],
   "source": [
    "for u in enumerate(validcols):\n",
    "    trandata.loc[0:len(trandata[u[1]]), u[1]] = trandata[u[1]].replace(\n",
    "        [checktabs[u[0]][1][0]['Upper_Vers']][0].to_numpy(), [checktabs[u[0]][1][0][u[1]]][0].to_numpy())\n",
    "    d = list(checktabs[u[0]][1][0]['Non Matches'].drop_duplicates().dropna().append(\n",
    "        pd.Series(trandata[u[1]][~trandata[u[1]].isin(checktabs[u[0]][1][0][u[1]])].drop_duplicates().dropna()),\n",
    "        ignore_index=True))\n",
    "    g = [checktabs[u[0]][1][0][str(u[1])], checktabs[u[0]][1][0]['Upper_Vers'], checktabs[u[0]][1][0]['Unnamed: 2'],\n",
    "         pd.Series(d, dtype='object').drop_duplicates().dropna(), checktabs[u[0]][1][0]['User Defined Corrections']]\n",
    "    gacout.append(list([g, u[1]]))"
   ]
  },
  {
   "cell_type": "markdown",
   "id": "be84778a",
   "metadata": {
    "papermill": {
     "duration": 0.428529,
     "end_time": "2021-05-25T04:24:47.904669",
     "exception": false,
     "start_time": "2021-05-25T04:24:47.476140",
     "status": "completed"
    },
    "tags": []
   },
   "source": [
    "#### Rebuild the GPPM input file, with the replaced values in the bad values column of each sheet.\n",
    "#### Step one, make and xlsx with a notes page."
   ]
  },
  {
   "cell_type": "code",
   "execution_count": 22,
   "id": "f847b3b6",
   "metadata": {
    "execution": {
     "iopub.execute_input": "2021-05-25T04:24:48.869231Z",
     "iopub.status.busy": "2021-05-25T04:24:48.863230Z",
     "iopub.status.idle": "2021-05-25T04:24:48.949232Z",
     "shell.execute_reply": "2021-05-25T04:24:48.951231Z"
    },
    "papermill": {
     "duration": 0.608889,
     "end_time": "2021-05-25T04:24:48.951231",
     "exception": false,
     "start_time": "2021-05-25T04:24:48.342342",
     "status": "completed"
    },
    "pycharm": {
     "name": "#%%\n"
    },
    "tags": []
   },
   "outputs": [],
   "source": [
    "w = ExcelWriter(atcat)\n",
    "notes = pd.DataFrame([\n",
    "    \"This page is script generated during the source creation process. Do not edit these notes directly in the file as they will be overwritten\",\n",
    "    \"\", \"\"\n",
    "    , \" Purpose :     to manage attribute entries in the data collection process, this workbook documents and organizes all entries and also allows a user to swap those that do \\\n",
    "                        not conform to validation rules  with an entry of their choice\",\n",
    "    \" Each attribute field that requires validation has its own sheet tab\", \"\"\n",
    "    , \"Column A:    of each sheet tab contains all unique acceptable responses\",\n",
    "    \"Column B:    an upper case version, to wrangle case mismatches\",\n",
    "    \"Column D:   is generated by the process, this is a list of an uppercase version of each unique unacceptable response, this builds over time with each collection\",\n",
    "    \"Column E:   you can enter accpetable response here (sase sensitive) to be swapped out in the data, save and exit this file, run the process again and they will be replaced\"\n",
    "    , \"\", \"\", \"Gavin Harmon 9 - July -2020\"])\n",
    "\n",
    "notes.columns = ['Notes']\n",
    "\n",
    "notes.to_excel(w, index=False, sheet_name=\"Notes\")"
   ]
  },
  {
   "cell_type": "markdown",
   "id": "04ff634b",
   "metadata": {
    "papermill": {
     "duration": 0.507268,
     "end_time": "2021-05-25T04:24:49.820751",
     "exception": false,
     "start_time": "2021-05-25T04:24:49.313483",
     "status": "completed"
    },
    "tags": []
   },
   "source": [
    "#### Step two, build the new sheets for each validcols field"
   ]
  },
  {
   "cell_type": "code",
   "execution_count": 23,
   "id": "7efd0d82",
   "metadata": {
    "execution": {
     "iopub.execute_input": "2021-05-25T04:24:50.800281Z",
     "iopub.status.busy": "2021-05-25T04:24:50.760286Z",
     "iopub.status.idle": "2021-05-25T04:24:51.840421Z",
     "shell.execute_reply": "2021-05-25T04:24:51.842421Z"
    },
    "papermill": {
     "duration": 1.544911,
     "end_time": "2021-05-25T04:24:51.842421",
     "exception": false,
     "start_time": "2021-05-25T04:24:50.297510",
     "status": "completed"
    },
    "pycharm": {
     "name": "#%%\n"
    },
    "tags": []
   },
   "outputs": [],
   "source": [
    "for v in enumerate(validcols):\n",
    "    df = pd.DataFrame(gacout[v[0]][0], index=[f\"{v[1]}\", 'Upper_Vers', '', 'Non Matches', 'User Defined Corrections']).T\n",
    "    df.to_excel(w, index=False, sheet_name=gacout[v[0]][1])\n",
    "w.save()"
   ]
  },
  {
   "cell_type": "markdown",
   "id": "9ec395ee",
   "metadata": {
    "papermill": {
     "duration": 0.560433,
     "end_time": "2021-05-25T04:24:52.883735",
     "exception": false,
     "start_time": "2021-05-25T04:24:52.323302",
     "status": "completed"
    },
    "tags": []
   },
   "source": [
    "#### Step three, read these lists back in, make the necessary replacements in the DataFrame"
   ]
  },
  {
   "cell_type": "code",
   "execution_count": 24,
   "id": "02a6bb0e",
   "metadata": {
    "execution": {
     "iopub.execute_input": "2021-05-25T04:24:53.993359Z",
     "iopub.status.busy": "2021-05-25T04:24:53.991358Z",
     "iopub.status.idle": "2021-05-25T04:25:03.996164Z",
     "shell.execute_reply": "2021-05-25T04:25:03.998164Z"
    },
    "papermill": {
     "duration": 10.559451,
     "end_time": "2021-05-25T04:25:03.999164",
     "exception": false,
     "start_time": "2021-05-25T04:24:53.439713",
     "status": "completed"
    },
    "pycharm": {
     "name": "#%%\n"
    },
    "tags": []
   },
   "outputs": [],
   "source": [
    "for s in validcols:\n",
    "    t = pd.read_excel(f'//hecate/Insurance_US/Product Development/Product Management/Global PPM/Reporting/Data Collection/Production/{str(percode)}\\\\{str(percode)}_Attribute_Catalog.xlsx', sheet_name = s )\n",
    "    checktabs.append([[s],[t]])"
   ]
  },
  {
   "cell_type": "code",
   "execution_count": 25,
   "id": "5e4dbdc3",
   "metadata": {
    "execution": {
     "iopub.execute_input": "2021-05-25T04:25:04.581824Z",
     "iopub.status.busy": "2021-05-25T04:25:04.558826Z",
     "iopub.status.idle": "2021-05-25T04:25:04.667831Z",
     "shell.execute_reply": "2021-05-25T04:25:04.669835Z"
    },
    "papermill": {
     "duration": 0.40266,
     "end_time": "2021-05-25T04:25:04.670826",
     "exception": false,
     "start_time": "2021-05-25T04:25:04.268166",
     "status": "completed"
    },
    "pycharm": {
     "name": "#%%\n"
    },
    "tags": []
   },
   "outputs": [],
   "source": [
    "gacout = []\n",
    "\n",
    "for u in enumerate(validcols):\n",
    "    trandata.loc[0:len(trandata[u[1]]), u[1]] = trandata[u[1]].replace(\n",
    "        [checktabs[u[0]][1][0]['Non Matches']][0].to_numpy(),\n",
    "        [checktabs[u[0]][1][0]['User Defined Corrections']][0].to_numpy())\n",
    "repper = trandata[['business_unit', 'reporting_date_to']]\n",
    "repper = pd.DataFrame({\"business_unit\": (repper['business_unit']), \"YearMo\": (repper['reporting_date_to'])})\n",
    "minrep = repper.groupby(['business_unit']).max()\n",
    "a = trandata['business_unit'].replace(list(minrep.axes[0]), minrep.get(\"YearMo\"))\n",
    "trandata['rep_date'] = a\n",
    "trandata.loc[0:len(trandata['business_partner_id_number']), 'business_partner_id_number'] = trandata[\n",
    "    'business_partner_id_number'].replace('0', 'Not Provided').fillna('Not Provided')\n",
    "trandata.loc[0:len(trandata['product_id_number']), 'product_id_number'] = trandata['product_id_number'].replace('0',\n",
    "                                                                                                                'Not Provided').replace(\n",
    "    '-', 'Not Provided').fillna('Not Provided')\n",
    "trandata.loc[0:len(trandata['sub_lob']), 'sub_lob'] = trandata['sub_lob'].replace('0', 'Not Provided').replace('-',\n",
    "                                                                                                               'Not Provided').replace(\n",
    "    'Other', 'Not Provided').fillna('Not Provided')"
   ]
  },
  {
   "cell_type": "markdown",
   "id": "25c974c3",
   "metadata": {
    "papermill": {
     "duration": 0.449201,
     "end_time": "2021-05-25T04:25:05.449536",
     "exception": false,
     "start_time": "2021-05-25T04:25:05.000335",
     "status": "completed"
    },
    "tags": []
   },
   "source": [
    "#### Remove empty rows, if there is no claims experience and no revenue for a 12 month period, it should not be included"
   ]
  },
  {
   "cell_type": "code",
   "execution_count": 26,
   "id": "589568b6",
   "metadata": {
    "execution": {
     "iopub.execute_input": "2021-05-25T04:25:06.406802Z",
     "iopub.status.busy": "2021-05-25T04:25:06.376803Z",
     "iopub.status.idle": "2021-05-25T04:25:06.444812Z",
     "shell.execute_reply": "2021-05-25T04:25:06.446806Z"
    },
    "papermill": {
     "duration": 0.567159,
     "end_time": "2021-05-25T04:25:06.447802",
     "exception": false,
     "start_time": "2021-05-25T04:25:05.880643",
     "status": "completed"
    },
    "pycharm": {
     "name": "#%%\n"
    },
    "tags": []
   },
   "outputs": [],
   "source": [
    "trandata = trandata.loc[(trandata['units_of_risk_(written)'].fillna(0).replace('', 0)\n",
    "                         + trandata['written_revenues_net_of_taxes'].fillna(0).replace('', 0)\n",
    "                         + trandata['written_revenues'].fillna(0).replace('', 0)\n",
    "                         + trandata['number_of_policies_(earned)'].fillna(0).replace('', 0)\n",
    "                         + trandata['units_of_risk_(earned)'].fillna(0).replace('', 0)\n",
    "                         + trandata['earned_revenues_net_of_taxes'].fillna(0).replace('', 0)\n",
    "                         + trandata['earned_revenues'].fillna(0).replace('', 0)\n",
    "                         + trandata['earned_base_commissions'].fillna(0).replace('', 0)\n",
    "                         + trandata['upfront_cash_payments'].fillna(0).replace('', 0)\n",
    "                         + trandata['earned_over-commissions'].fillna(0).replace('', 0)\n",
    "                         + trandata['total_compensation'].fillna(0).replace('', 0)\n",
    "                         + trandata['number_of_claims_(paid_+_ocr_+_ibnr)'].fillna(0).replace('', 0)\n",
    "                         + trandata['number_of_open_claims'].fillna(0).replace('', 0)\n",
    "                         + trandata['open_claims_%'].fillna(0).replace('', 0)\n",
    "                         + trandata['number_of_persons_involved_in_claims_(paid_+_ocr_+_ibnr)'].fillna(0).replace('', 0)\n",
    "                         + trandata['paid_claims'].fillna(0).replace('', 0)\n",
    "                         + trandata['ocr_+_ibnr'].fillna(0).replace('', 0)\n",
    "                         + trandata['actual_incurred_losses_(paid_+_ocr_+_ibnr)'].fillna(0).replace('', 0)\n",
    "                         + trandata['internal_variable_costs_(excl._az_tech_fee)'].fillna(0).replace('', 0)\n",
    "                         + trandata['az_tech_fee'].fillna(0).replace('', 0)\n",
    "                         + trandata['internal_fixed_costs_(excl._hq_fees)'].fillna(0).replace('', 0)\n",
    "                         + trandata['hq_fees'].fillna(0).replace('', 0)\n",
    "                         + trandata['total_expenses'].fillna(0).replace('', 0)\n",
    "                         + trandata['frequency_(earned)'].fillna(0).replace('', 0)\n",
    "                         + trandata['severity'].fillna(0).replace('', 0))\n",
    "                        != 0]"
   ]
  },
  {
   "cell_type": "markdown",
   "id": "5f6f4f15",
   "metadata": {
    "papermill": {
     "duration": 0.374695,
     "end_time": "2021-05-25T04:25:07.263890",
     "exception": false,
     "start_time": "2021-05-25T04:25:06.889195",
     "status": "completed"
    },
    "pycharm": {
     "name": "#%% md\n"
    },
    "tags": []
   },
   "source": [
    "#### Output temp file"
   ]
  },
  {
   "cell_type": "code",
   "execution_count": 27,
   "id": "0ff60648",
   "metadata": {
    "execution": {
     "iopub.execute_input": "2021-05-25T04:25:08.228504Z",
     "iopub.status.busy": "2021-05-25T04:25:08.226505Z",
     "iopub.status.idle": "2021-05-25T04:25:11.372909Z",
     "shell.execute_reply": "2021-05-25T04:25:11.375911Z"
    },
    "papermill": {
     "duration": 3.703428,
     "end_time": "2021-05-25T04:25:11.376912",
     "exception": false,
     "start_time": "2021-05-25T04:25:07.673484",
     "status": "completed"
    },
    "pycharm": {
     "name": "#%%\n"
    },
    "tags": []
   },
   "outputs": [],
   "source": [
    "trandata.to_parquet(\n",
    "    f'//hecate/Insurance_US/Product Development/Product Management/Global PPM/Reporting/Data Collection/Production/{str(percode)}\\\\{str(percode)}.localcur.parquet', engine = \"pyarrow\")\n",
    "\n",
    "\n",
    "\n",
    "\n"
   ]
  },
  {
   "cell_type": "markdown",
   "id": "73d80f6e",
   "metadata": {
    "papermill": {
     "duration": 0.580491,
     "end_time": "2021-05-25T04:25:12.494934",
     "exception": false,
     "start_time": "2021-05-25T04:25:11.914443",
     "status": "completed"
    },
    "tags": []
   },
   "source": [
    "#### Store the DataFrame for other noteboks to use"
   ]
  },
  {
   "cell_type": "code",
   "execution_count": 28,
   "id": "cd6a1206",
   "metadata": {
    "execution": {
     "iopub.execute_input": "2021-05-25T04:25:13.364650Z",
     "iopub.status.busy": "2021-05-25T04:25:13.359125Z",
     "iopub.status.idle": "2021-05-25T04:25:13.382653Z",
     "shell.execute_reply": "2021-05-25T04:25:13.384651Z"
    },
    "papermill": {
     "duration": 0.471495,
     "end_time": "2021-05-25T04:25:13.384651",
     "exception": false,
     "start_time": "2021-05-25T04:25:12.913156",
     "status": "completed"
    },
    "tags": []
   },
   "outputs": [
    {
     "name": "stdout",
     "output_type": "stream",
     "text": [
      "Stored 'py_t_df' (DataFrame)\n"
     ]
    }
   ],
   "source": [
    "py_t_df = trandata\n",
    "\n",
    "%store py_t_df\n"
   ]
  }
 ],
 "metadata": {
  "celltoolbar": "Tags",
  "kernelspec": {
   "display_name": "Python 3",
   "language": "python",
   "name": "python3"
  },
  "language_info": {
   "codemirror_mode": {
    "name": "ipython",
    "version": 3
   },
   "file_extension": ".py",
   "mimetype": "text/x-python",
   "name": "python",
   "nbconvert_exporter": "python",
   "pygments_lexer": "ipython3",
   "version": "3.7.6"
  },
  "papermill": {
   "default_parameters": {},
   "duration": 75.573067,
   "end_time": "2021-05-25T04:25:15.160475",
   "environment_variables": {},
   "exception": null,
   "input_path": "pipeline/py_transform.ipynb",
   "output_path": "//hecate/Insurance_US/Product Development/Product Management/Global PPM/Reporting/Data Collection/Pipeline Reporting Scripts/GPMpipeline/instances/2021.Q1\\pipeline\\py_transform05252021002105--live run.ipynb",
   "parameters": {
    "commit_message": "Edited data for Austraila, json 2 parquet and add comments from email. Begin general evaluation of data submissions.",
    "inst_datetime": "05252021002105",
    "percode": "2021.Q1",
    "run_control": 1
   },
   "start_time": "2021-05-25T04:23:59.587408",
   "version": "2.3.3"
  }
 },
 "nbformat": 4,
 "nbformat_minor": 5
}