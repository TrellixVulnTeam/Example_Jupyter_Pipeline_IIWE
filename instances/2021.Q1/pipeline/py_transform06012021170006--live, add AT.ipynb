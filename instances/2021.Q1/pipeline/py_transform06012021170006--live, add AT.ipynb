{
 "cells": [
  {
   "cell_type": "markdown",
   "id": "deb88877",
   "metadata": {
    "papermill": {
     "duration": 0.297977,
     "end_time": "2021-06-01T21:02:56.528057",
     "exception": false,
     "start_time": "2021-06-01T21:02:56.230080",
     "status": "completed"
    },
    "pycharm": {
     "name": "#%% md\n"
    },
    "tags": []
   },
   "source": [
    "<img src=\"../images/AzPTravel_PPM.png\">"
   ]
  },
  {
   "cell_type": "markdown",
   "id": "ed9a15e9",
   "metadata": {
    "collapsed": true,
    "papermill": {
     "duration": 0.446615,
     "end_time": "2021-06-01T21:02:57.340671",
     "exception": false,
     "start_time": "2021-06-01T21:02:56.894056",
     "status": "completed"
    },
    "pycharm": {
     "name": "#%% md\n"
    },
    "tags": []
   },
   "source": [
    "## GPM Data Transformation Script\n",
    "\n",
    "#### This script transforms the single consolidated raw file \"{Data Collection}.csv\" into it's final GPM input versions \"{Data Collection Code}localcur.csv\" and \"{Data Collection Code}euroconv.csv\"\n",
    "#### Current transformations\n",
    "\n",
    "-    make headers lowercase and replace spaces with hyphens\n",
    "-    Remove any rows with null BUs\n",
    "-    validate columns in validcols\n",
    "-    output documented here: \"Global_Attribute_Catalog.xlsx\" you can also edit dataframe entries using the instructions in the file\n",
    "-    replace various null or placeholder values with \"Not Provided\"\n"
   ]
  },
  {
   "cell_type": "markdown",
   "id": "a5211443",
   "metadata": {
    "papermill": {
     "duration": 0.311627,
     "end_time": "2021-06-01T21:02:58.118899",
     "exception": false,
     "start_time": "2021-06-01T21:02:57.807272",
     "status": "completed"
    },
    "tags": []
   },
   "source": [
    "###"
   ]
  },
  {
   "cell_type": "code",
   "execution_count": 1,
   "id": "26b610ec",
   "metadata": {
    "execution": {
     "iopub.execute_input": "2021-06-01T21:02:58.826378Z",
     "iopub.status.busy": "2021-06-01T21:02:58.823378Z",
     "iopub.status.idle": "2021-06-01T21:02:58.833909Z",
     "shell.execute_reply": "2021-06-01T21:02:58.854433Z"
    },
    "papermill": {
     "duration": 0.338563,
     "end_time": "2021-06-01T21:02:58.855429",
     "exception": false,
     "start_time": "2021-06-01T21:02:58.516866",
     "status": "completed"
    },
    "pycharm": {
     "name": "#%%\n"
    },
    "tags": [
     "parameters"
    ]
   },
   "outputs": [],
   "source": [
    "commit = \"\"\n",
    "# give a reason for the run\n",
    "\n",
    "percode = \"20XX.QX\"\n",
    "# Data Collection Code, this controls file paths and output names\n",
    "\n",
    "run_type = 1\n",
    "#run_type =  0 - lite run with no reporting, not recommended.\n",
    "#run_type =  1 - lite run with normal reporting, default setting.\n",
    "#run_type =  2 - Heavy run with full reporting, available for audits and troubleshooting.\n",
    "\n",
    "specialchars = \"-GTHtest\"\n",
    "# optional - add up to a 12 character code in order to mark your instance record .ipynb\n",
    "\n",
    "from datetime import datetime\n",
    "inst_datetime = datetime.now().strftime(\"%m%d%Y%H%M%S\")\n",
    "# a single datetime stamp for the full instance run\n"
   ]
  },
  {
   "cell_type": "code",
   "execution_count": 2,
   "id": "15d3dbfc",
   "metadata": {
    "execution": {
     "iopub.execute_input": "2021-06-01T21:02:59.553551Z",
     "iopub.status.busy": "2021-06-01T21:02:59.548550Z",
     "iopub.status.idle": "2021-06-01T21:02:59.562541Z",
     "shell.execute_reply": "2021-06-01T21:02:59.564559Z"
    },
    "papermill": {
     "duration": 0.355095,
     "end_time": "2021-06-01T21:02:59.564559",
     "exception": false,
     "start_time": "2021-06-01T21:02:59.209464",
     "status": "completed"
    },
    "tags": [
     "injected-parameters"
    ]
   },
   "outputs": [],
   "source": [
    "# Parameters\n",
    "run_control = 1\n",
    "percode = \"2021.Q1\"\n",
    "commit_message = \"Live run, added AT after conversion from Excel\"\n",
    "inst_datetime = \"06012021170006\"\n"
   ]
  },
  {
   "cell_type": "markdown",
   "id": "5fb041b8",
   "metadata": {
    "papermill": {
     "duration": 0.330003,
     "end_time": "2021-06-01T21:03:00.221073",
     "exception": false,
     "start_time": "2021-06-01T21:02:59.891070",
     "status": "completed"
    },
    "tags": []
   },
   "source": [
    "### Set Run Control\n",
    "\n",
    "##### 0 - lite run with no reporting, not recommended.\n",
    "##### 1 - lite run with normal reporting, default setting.\n",
    "##### 2 - Heavy run with full reporting, available for audits and troubleshooting."
   ]
  },
  {
   "cell_type": "code",
   "execution_count": 3,
   "id": "cbf36170",
   "metadata": {
    "execution": {
     "iopub.execute_input": "2021-06-01T21:03:00.823089Z",
     "iopub.status.busy": "2021-06-01T21:03:00.821089Z",
     "iopub.status.idle": "2021-06-01T21:03:00.828088Z",
     "shell.execute_reply": "2021-06-01T21:03:00.830088Z"
    },
    "papermill": {
     "duration": 0.289995,
     "end_time": "2021-06-01T21:03:00.830088",
     "exception": false,
     "start_time": "2021-06-01T21:03:00.540093",
     "status": "completed"
    },
    "pycharm": {
     "name": "#%%\n"
    },
    "tags": []
   },
   "outputs": [],
   "source": [
    "run_control = 0  # in development mode"
   ]
  },
  {
   "cell_type": "code",
   "execution_count": 4,
   "id": "1cf38e4a",
   "metadata": {
    "execution": {
     "iopub.execute_input": "2021-06-01T21:03:01.380124Z",
     "iopub.status.busy": "2021-06-01T21:03:01.376126Z",
     "iopub.status.idle": "2021-06-01T21:03:04.191719Z",
     "shell.execute_reply": "2021-06-01T21:03:04.192718Z"
    },
    "papermill": {
     "duration": 3.090632,
     "end_time": "2021-06-01T21:03:04.192718",
     "exception": false,
     "start_time": "2021-06-01T21:03:01.102086",
     "status": "completed"
    },
    "pycharm": {
     "name": "#%%\n"
    },
    "tags": []
   },
   "outputs": [],
   "source": [
    "#### Packages used\n",
    "import sys\n",
    "import os\n",
    "import pandas as pd\n",
    "from pandas import ExcelWriter\n",
    "from numpy import nan"
   ]
  },
  {
   "cell_type": "code",
   "execution_count": 5,
   "id": "9433b60b",
   "metadata": {
    "execution": {
     "iopub.execute_input": "2021-06-01T21:03:04.764928Z",
     "iopub.status.busy": "2021-06-01T21:03:04.762927Z",
     "iopub.status.idle": "2021-06-01T21:03:04.767927Z",
     "shell.execute_reply": "2021-06-01T21:03:04.769928Z"
    },
    "papermill": {
     "duration": 0.292203,
     "end_time": "2021-06-01T21:03:04.769928",
     "exception": false,
     "start_time": "2021-06-01T21:03:04.477725",
     "status": "completed"
    },
    "pycharm": {
     "name": "#%%\n"
    },
    "tags": []
   },
   "outputs": [],
   "source": [
    "default_dc = \"2021.Q1\"\n",
    "\n",
    "try:\n",
    "    if sys.argv[1] == \"-f\":\n",
    "        percode = default_dc\n",
    "    else:\n",
    "        percode = sys.argv[1]\n",
    "\n",
    "except IndexError:\n",
    "    percode = default_dc\n",
    "except NameError:\n",
    "    percode = default_dc"
   ]
  },
  {
   "cell_type": "markdown",
   "id": "76baa5d2",
   "metadata": {
    "papermill": {
     "duration": 0.326638,
     "end_time": "2021-06-01T21:03:05.371569",
     "exception": false,
     "start_time": "2021-06-01T21:03:05.044931",
     "status": "completed"
    },
    "tags": []
   },
   "source": [
    "#### style settings"
   ]
  },
  {
   "cell_type": "code",
   "execution_count": 6,
   "id": "d9ddd2a8",
   "metadata": {
    "execution": {
     "iopub.execute_input": "2021-06-01T21:03:06.098333Z",
     "iopub.status.busy": "2021-06-01T21:03:06.093334Z",
     "iopub.status.idle": "2021-06-01T21:03:06.106332Z",
     "shell.execute_reply": "2021-06-01T21:03:06.109333Z"
    },
    "papermill": {
     "duration": 0.329527,
     "end_time": "2021-06-01T21:03:06.109333",
     "exception": false,
     "start_time": "2021-06-01T21:03:05.779806",
     "status": "completed"
    },
    "tags": []
   },
   "outputs": [],
   "source": [
    "from IPython.core.interactiveshell import InteractiveShell\n",
    "InteractiveShell.ast_node_interactivity = \"all\""
   ]
  },
  {
   "cell_type": "markdown",
   "id": "90740592",
   "metadata": {
    "papermill": {
     "duration": 0.281129,
     "end_time": "2021-06-01T21:03:06.685538",
     "exception": false,
     "start_time": "2021-06-01T21:03:06.404409",
     "status": "completed"
    },
    "tags": []
   },
   "source": [
    "#### Convert paths and files to variables.\n",
    "#### Read data into pd DataFrames.\n",
    "#### Make paths for the live sources."
   ]
  },
  {
   "cell_type": "code",
   "execution_count": 7,
   "id": "4be73d98",
   "metadata": {
    "execution": {
     "iopub.execute_input": "2021-06-01T21:03:07.250368Z",
     "iopub.status.busy": "2021-06-01T21:03:07.245362Z",
     "iopub.status.idle": "2021-06-01T21:03:07.257361Z",
     "shell.execute_reply": "2021-06-01T21:03:07.257361Z"
    },
    "papermill": {
     "duration": 0.292824,
     "end_time": "2021-06-01T21:03:07.257361",
     "exception": false,
     "start_time": "2021-06-01T21:03:06.964537",
     "status": "completed"
    },
    "pycharm": {
     "name": "#%%\n"
    },
    "tags": []
   },
   "outputs": [],
   "source": [
    "rt_path = os.path.join( f'\\\\\\\\hecate\\\\Insurance_US\\\\Product Development\\\\Product Management\\\\Global PPM\\\\Reporting\\\\Data Collection\\\\Production',percode)\n",
    "\n",
    "infile = os.path.join(rt_path, f'{str(percode)}.parquet')\n",
    "gppm_file = os.path.join(rt_path, f'GPPM_Input_{str(percode)}.xlsx')\n",
    "atcat = os.path.join(rt_path, f'{percode}_Attribute_Catalog.xlsx')\n"
   ]
  },
  {
   "cell_type": "code",
   "execution_count": 8,
   "id": "4d8a9af6",
   "metadata": {
    "execution": {
     "iopub.execute_input": "2021-06-01T21:03:07.826576Z",
     "iopub.status.busy": "2021-06-01T21:03:07.823569Z",
     "iopub.status.idle": "2021-06-01T21:03:07.832568Z",
     "shell.execute_reply": "2021-06-01T21:03:07.834573Z"
    },
    "papermill": {
     "duration": 0.297032,
     "end_time": "2021-06-01T21:03:07.835570",
     "exception": false,
     "start_time": "2021-06-01T21:03:07.538538",
     "status": "completed"
    },
    "tags": []
   },
   "outputs": [],
   "source": [
    "#### Read input file\n",
    "\n",
    "#### This reads the consolidated file that will be transformed or a stored dataframe based on the execution method."
   ]
  },
  {
   "cell_type": "code",
   "execution_count": 9,
   "id": "82b326d9",
   "metadata": {
    "execution": {
     "iopub.execute_input": "2021-06-01T21:03:08.559218Z",
     "iopub.status.busy": "2021-06-01T21:03:08.558244Z",
     "iopub.status.idle": "2021-06-01T21:03:08.704744Z",
     "shell.execute_reply": "2021-06-01T21:03:08.706756Z"
    },
    "papermill": {
     "duration": 0.566698,
     "end_time": "2021-06-01T21:03:08.708268",
     "exception": false,
     "start_time": "2021-06-01T21:03:08.141570",
     "status": "completed"
    },
    "pycharm": {
     "name": "#%%\n"
    },
    "tags": []
   },
   "outputs": [
    {
     "name": "stdout",
     "output_type": "stream",
     "text": [
      "                       Submission File Business Unit Country Currency  \\\n",
      "0     us_dat_au_05142021143612.parquet            AU      AU      AUD   \n",
      "1     us_dat_au_05142021143612.parquet            AU      AU      AUD   \n",
      "2     us_dat_au_05142021143612.parquet            AU      AU      AUD   \n",
      "3     us_dat_au_05142021143612.parquet            AU      AU      AUD   \n",
      "4     us_dat_au_05142021143612.parquet            AU      AU      AUD   \n",
      "...                                ...           ...     ...      ...   \n",
      "3619  us_dat_pt_05202021121056.parquet            PT      PT      EUR   \n",
      "3620  us_dat_pt_05202021121056.parquet            PT      PT      EUR   \n",
      "3621  us_dat_pt_05202021121056.parquet            PT      PT      EUR   \n",
      "3622  us_dat_pt_05202021121056.parquet            PT      PT      EUR   \n",
      "3623  us_dat_pt_05202021121056.parquet            PT      PT      EUR   \n",
      "\n",
      "                           Region Reporting Date From Reporting Date To  \\\n",
      "0                            APAC          2021-01-01        2021-03-31   \n",
      "1                            APAC          2021-01-01        2021-03-31   \n",
      "2                            APAC          2021-01-01        2021-03-31   \n",
      "3                            APAC          2021-01-01        2021-03-31   \n",
      "4                            APAC          2021-01-01        2021-03-31   \n",
      "...                           ...                 ...               ...   \n",
      "3619  Western Europe, LATAM & MEA          2021-01-01        2021-03-31   \n",
      "3620  Western Europe, LATAM & MEA          2021-01-01        2021-03-31   \n",
      "3621  Western Europe, LATAM & MEA          2021-01-01        2021-03-31   \n",
      "3622  Western Europe, LATAM & MEA          2021-01-01        2021-03-31   \n",
      "3623  Western Europe, LATAM & MEA          2021-01-01        2021-03-31   \n",
      "\n",
      "     Date of Analysis Type of Analysis  Analysed Months  ...  Notes  \\\n",
      "0          2021-04-30     Year To Date              3.0  ...          \n",
      "1          2021-04-30     Year To Date              3.0  ...          \n",
      "2          2021-04-30     Year To Date              3.0  ...          \n",
      "3          2021-04-30     Year To Date              3.0  ...          \n",
      "4          2021-04-30     Year To Date              3.0  ...          \n",
      "...               ...              ...              ...  ...    ...   \n",
      "3619       2021-03-31     Year To Date              3.0  ...    0.0   \n",
      "3620       2021-03-31     Year To Date              3.0  ...    0.0   \n",
      "3621       2021-03-31     Year To Date              3.0  ...    0.0   \n",
      "3622       2021-03-31     Year To Date              3.0  ...    0.0   \n",
      "3623       2021-03-31     Year To Date              3.0  ...    0.0   \n",
      "\n",
      "      Unnamed: 66  concat2    comsub     expsub Reporting Date From INT  \\\n",
      "0             0.0    AUAUD  0.100998   3.245346                20210101   \n",
      "1             0.0    AUAUD  0.233379   3.589092                20210101   \n",
      "2             0.0    AUAUD  0.000000   0.000000                20210101   \n",
      "3             0.0    AUAUD  0.000000   4.723789                20210101   \n",
      "4             0.0    AUAUD  0.220000   4.239521                20210101   \n",
      "...           ...      ...       ...        ...                     ...   \n",
      "3619          0.0    PTEUR  0.000000   0.538397                20210101   \n",
      "3620          0.0    PTEUR  0.000000   0.426832                20210101   \n",
      "3621          0.0    PTEUR  0.000000  18.673326                20210101   \n",
      "3622          0.0    PTEUR  0.000000   0.859278                20210101   \n",
      "3623          0.0    PTEUR  0.000000   1.023709                20210101   \n",
      "\n",
      "     Reporting Date To INT Date of Analysis INT  \\\n",
      "0                 20210331             20210430   \n",
      "1                 20210331             20210430   \n",
      "2                 20210331             20210430   \n",
      "3                 20210331             20210430   \n",
      "4                 20210331             20210430   \n",
      "...                    ...                  ...   \n",
      "3619              20210331             20210331   \n",
      "3620              20210331             20210331   \n",
      "3621              20210331             20210331   \n",
      "3622              20210331             20210331   \n",
      "3623              20210331             20210331   \n",
      "\n",
      "                         Selected Fields for Duplicates ibnrsub  \n",
      "0     AUInsuranceLocalB2B2CTravelAllianz Affiliation...     NaN  \n",
      "1     AUInsuranceLocalB2B2CTravelOffline Travel Agen...     NaN  \n",
      "2     AUInsuranceLocalB2B2CTravelOffline Travel Agen...     NaN  \n",
      "3     AUInsuranceLocalB2B2CTravelAllianz Affiliation...     NaN  \n",
      "4     AUInsuranceLocalB2CTravelDirect (Allianz Partn...     NaN  \n",
      "...                                                 ...     ...  \n",
      "3619  PTReinsuranceLocalB2B2CTravelDirect (Allianz P...     0.0  \n",
      "3620  PTReinsuranceLocalB2B2CTravelDirect (Allianz P...     0.0  \n",
      "3621  PTReinsuranceLocalB2B2CTravelDirect (Allianz P...     0.0  \n",
      "3622  PTReinsuranceLocalB2B2CTravelDirect (Allianz P...     0.0  \n",
      "3623  PTReinsuranceLocalB2BTravelDirect (Allianz Par...     0.0  \n",
      "\n",
      "[3624 rows x 76 columns]\n"
     ]
    }
   ],
   "source": [
    "try:\n",
    "    %store -r read_dc_df\n",
    "    input = read_dc_df\n",
    "        \n",
    "except:\n",
    "    input = pd.read_parquet(infile,engine = \"pyarrow\")\n",
    "    os.remove(infile)\n",
    "\n",
    "print(input)"
   ]
  },
  {
   "cell_type": "markdown",
   "id": "0322fd62",
   "metadata": {
    "papermill": {
     "duration": 0.335999,
     "end_time": "2021-06-01T21:03:09.364819",
     "exception": false,
     "start_time": "2021-06-01T21:03:09.028820",
     "status": "completed"
    },
    "tags": []
   },
   "source": [
    "#### Make a copy for debug purposes"
   ]
  },
  {
   "cell_type": "code",
   "execution_count": 10,
   "id": "3477ffd6",
   "metadata": {
    "execution": {
     "iopub.execute_input": "2021-06-01T21:03:09.957742Z",
     "iopub.status.busy": "2021-06-01T21:03:09.954741Z",
     "iopub.status.idle": "2021-06-01T21:03:09.966745Z",
     "shell.execute_reply": "2021-06-01T21:03:09.968743Z"
    },
    "papermill": {
     "duration": 0.300004,
     "end_time": "2021-06-01T21:03:09.968743",
     "exception": false,
     "start_time": "2021-06-01T21:03:09.668739",
     "status": "completed"
    },
    "pycharm": {
     "name": "#%%\n"
    },
    "tags": []
   },
   "outputs": [],
   "source": [
    "trandata = input.copy()"
   ]
  },
  {
   "cell_type": "markdown",
   "id": "05b678e7",
   "metadata": {
    "papermill": {
     "duration": 0.288828,
     "end_time": "2021-06-01T21:03:10.550572",
     "exception": false,
     "start_time": "2021-06-01T21:03:10.261744",
     "status": "completed"
    },
    "tags": []
   },
   "source": [
    "#### Format Headers"
   ]
  },
  {
   "cell_type": "code",
   "execution_count": 11,
   "id": "dc260d34",
   "metadata": {
    "execution": {
     "iopub.execute_input": "2021-06-01T21:03:11.154718Z",
     "iopub.status.busy": "2021-06-01T21:03:11.134718Z",
     "iopub.status.idle": "2021-06-01T21:03:11.165717Z",
     "shell.execute_reply": "2021-06-01T21:03:11.167717Z"
    },
    "papermill": {
     "duration": 0.329035,
     "end_time": "2021-06-01T21:03:11.168719",
     "exception": false,
     "start_time": "2021-06-01T21:03:10.839684",
     "status": "completed"
    },
    "pycharm": {
     "name": "#%%\n"
    },
    "tags": []
   },
   "outputs": [
    {
     "data": {
      "text/plain": [
       "'format headers'"
      ]
     },
     "execution_count": 11,
     "metadata": {},
     "output_type": "execute_result"
    }
   ],
   "source": [
    "# save the column names to variable, format them, replace headers\n",
    "cols = trandata.columns.values\n",
    "\n",
    "\"\"\"format headers\"\"\"\n",
    "fixedcols = []\n",
    "\n",
    "for f in cols:\n",
    "    fixedhead = f.replace(' ', '_').lower()\n",
    "    fixedcols.append(fixedhead)\n",
    "\n",
    "trandata.columns = fixedcols"
   ]
  },
  {
   "cell_type": "markdown",
   "id": "c9fe8e28",
   "metadata": {
    "papermill": {
     "duration": 0.311971,
     "end_time": "2021-06-01T21:03:11.824883",
     "exception": false,
     "start_time": "2021-06-01T21:03:11.512912",
     "status": "completed"
    },
    "pycharm": {
     "name": "#%% md\n"
    },
    "tags": []
   },
   "source": [
    "#### Update Verification 1"
   ]
  },
  {
   "cell_type": "code",
   "execution_count": 12,
   "id": "b2f3e777",
   "metadata": {
    "execution": {
     "iopub.execute_input": "2021-06-01T21:03:12.485542Z",
     "iopub.status.busy": "2021-06-01T21:03:12.483551Z",
     "iopub.status.idle": "2021-06-01T21:03:12.762796Z",
     "shell.execute_reply": "2021-06-01T21:03:12.763795Z"
    },
    "papermill": {
     "duration": 0.625313,
     "end_time": "2021-06-01T21:03:12.764798",
     "exception": false,
     "start_time": "2021-06-01T21:03:12.139485",
     "status": "completed"
    },
    "pycharm": {
     "name": "#%%\n"
    },
    "tags": []
   },
   "outputs": [
    {
     "name": "stdout",
     "output_type": "stream",
     "text": [
      "|    | Original                                                        | Transformed                                                     |\n",
      "|---:|:----------------------------------------------------------------|:----------------------------------------------------------------|\n",
      "|  0 | Submission File                                                 | submission_file                                                 |\n",
      "|  1 | Business Unit                                                   | business_unit                                                   |\n",
      "|  2 | Country                                                         | country                                                         |\n",
      "|  3 | Currency                                                        | currency                                                        |\n",
      "|  4 | Region                                                          | region                                                          |\n",
      "|  5 | Reporting Date From                                             | reporting_date_from                                             |\n",
      "|  6 | Reporting Date To                                               | reporting_date_to                                               |\n",
      "|  7 | Date of Analysis                                                | date_of_analysis                                                |\n",
      "|  8 | Type of Analysis                                                | type_of_analysis                                                |\n",
      "|  9 | Analysed Months                                                 | analysed_months                                                 |\n",
      "| 10 | Reporting Year                                                  | reporting_year                                                  |\n",
      "| 11 | Reporting Quarter                                               | reporting_quarter                                               |\n",
      "| 12 | Reporting Month                                                 | reporting_month                                                 |\n",
      "| 13 | Type of Business                                                | type_of_business                                                |\n",
      "| 14 | Type of Account                                                 | type_of_account                                                 |\n",
      "| 15 | Distribution Type                                               | distribution_type                                               |\n",
      "| 16 | LOB                                                             | lob                                                             |\n",
      "| 17 | Distribution Channel                                            | distribution_channel                                            |\n",
      "| 18 | Sub LOB                                                         | sub_lob                                                         |\n",
      "| 19 | Business Partner Name                                           | business_partner_name                                           |\n",
      "| 20 | Business Partner ID Number                                      | business_partner_id_number                                      |\n",
      "| 21 | Product Name                                                    | product_name                                                    |\n",
      "| 22 | Product ID Number                                               | product_id_number                                               |\n",
      "| 23 | Product Family                                                  | product_family                                                  |\n",
      "| 24 | Standard Product                                                | standard_product                                                |\n",
      "| 25 | Number of Products per Row                                      | number_of_products_per_row                                      |\n",
      "| 26 | Number of B-Partners per Row                                    | number_of_b-partners_per_row                                    |\n",
      "| 27 | Number of Policies (Written)                                    | number_of_policies_(written)                                    |\n",
      "| 28 | Units of Risk (Written)                                         | units_of_risk_(written)                                         |\n",
      "| 29 | Written Revenues net of Taxes                                   | written_revenues_net_of_taxes                                   |\n",
      "| 30 | Written Revenues                                                | written_revenues                                                |\n",
      "| 31 | Number of Policies (Earned)                                     | number_of_policies_(earned)                                     |\n",
      "| 32 | Units of Risk (Earned)                                          | units_of_risk_(earned)                                          |\n",
      "| 33 | Earned Revenues net of Taxes                                    | earned_revenues_net_of_taxes                                    |\n",
      "| 34 | Earned Revenues                                                 | earned_revenues                                                 |\n",
      "| 35 | Earned Base Commissions                                         | earned_base_commissions                                         |\n",
      "| 36 | Earned Over-Commissions                                         | earned_over-commissions                                         |\n",
      "| 37 | Upfront Cash Payments                                           | upfront_cash_payments                                           |\n",
      "| 38 | Total Compensation                                              | total_compensation                                              |\n",
      "| 39 | Number of Claims (Paid + OCR + IBNR)                            | number_of_claims_(paid_+_ocr_+_ibnr)                            |\n",
      "| 40 | Number of Open Claims                                           | number_of_open_claims                                           |\n",
      "| 41 | Open Claims %                                                   | open_claims_%                                                   |\n",
      "| 42 | Number of Persons Involved in Claims (Paid + OCR + IBNR)        | number_of_persons_involved_in_claims_(paid_+_ocr_+_ibnr)        |\n",
      "| 43 | Paid Claims                                                     | paid_claims                                                     |\n",
      "| 44 | OCR + IBNR                                                      | ocr_+_ibnr                                                      |\n",
      "| 45 | % of IBNR on (OCR + IBNR)                                       | %_of_ibnr_on_(ocr_+_ibnr)                                       |\n",
      "| 46 | Actual Incurred Losses (Paid + OCR + IBNR)                      | actual_incurred_losses_(paid_+_ocr_+_ibnr)                      |\n",
      "| 47 | Internal Variable Costs (excl. AZ Tech Fee)                     | internal_variable_costs_(excl._az_tech_fee)                     |\n",
      "| 48 | AZ Tech Fee                                                     | az_tech_fee                                                     |\n",
      "| 49 | Internal Fixed Costs (excl. HQ Fees)                            | internal_fixed_costs_(excl._hq_fees)                            |\n",
      "| 50 | HQ Fees                                                         | hq_fees                                                         |\n",
      "| 51 | Total Expenses                                                  | total_expenses                                                  |\n",
      "| 52 | Frequency (Earned)                                              | frequency_(earned)                                              |\n",
      "| 53 | Severity                                                        | severity                                                        |\n",
      "| 54 | Risk Premium                                                    | risk_premium                                                    |\n",
      "| 55 | Contribution Margin - BU View                                   | contribution_margin_-_bu_view                                   |\n",
      "| 56 | Contribution Margin % on Fixed Costs - BU View                  | contribution_margin_%_on_fixed_costs_-_bu_view                  |\n",
      "| 57 | Contribution Margin % on Earned Revenues net of Taxes - BU View | contribution_margin_%_on_earned_revenues_net_of_taxes_-_bu_view |\n",
      "| 58 | Contribution Margin - HQ View                                   | contribution_margin_-_hq_view                                   |\n",
      "| 59 | Contribution Margin % on Fixed Costs - HQ View                  | contribution_margin_%_on_fixed_costs_-_hq_view                  |\n",
      "| 60 | Contribution Margin % on Earned Revenues net of Taxes - HQ View | contribution_margin_%_on_earned_revenues_net_of_taxes_-_hq_view |\n",
      "| 61 | Loss Ratio                                                      | loss_ratio                                                      |\n",
      "| 62 | Commission Ratio                                                | commission_ratio                                                |\n",
      "| 63 | Expense Ratio                                                   | expense_ratio                                                   |\n",
      "| 64 | Combined Ratio                                                  | combined_ratio                                                  |\n",
      "| 65 | Profit or Loss                                                  | profit_or_loss                                                  |\n",
      "| 66 | Notes                                                           | notes                                                           |\n",
      "| 67 | Unnamed: 66                                                     | unnamed:_66                                                     |\n",
      "| 68 | concat2                                                         | concat2                                                         |\n",
      "| 69 | comsub                                                          | comsub                                                          |\n",
      "| 70 | expsub                                                          | expsub                                                          |\n",
      "| 71 | Reporting Date From INT                                         | reporting_date_from_int                                         |\n",
      "| 72 | Reporting Date To INT                                           | reporting_date_to_int                                           |\n",
      "| 73 | Date of Analysis INT                                            | date_of_analysis_int                                            |\n",
      "| 74 | Selected Fields for Duplicates                                  | selected_fields_for_duplicates                                  |\n",
      "| 75 | ibnrsub                                                         | ibnrsub                                                         |\n"
     ]
    }
   ],
   "source": [
    "if run_control > -10:\n",
    "    disp = {\"Original\": input.columns, \"Transformed\": trandata.columns}\n",
    "\n",
    "    disp = pd.DataFrame(disp)\n",
    "\n",
    "    print(disp.to_markdown())\n",
    "else:\n",
    "    print(\"Skipped Transformation Report 1\")"
   ]
  },
  {
   "cell_type": "markdown",
   "id": "e6710e99",
   "metadata": {
    "papermill": {
     "duration": 0.343527,
     "end_time": "2021-06-01T21:03:13.402861",
     "exception": false,
     "start_time": "2021-06-01T21:03:13.059334",
     "status": "completed"
    },
    "tags": []
   },
   "source": [
    "#### Remove rows with null business units\n"
   ]
  },
  {
   "cell_type": "code",
   "execution_count": 13,
   "id": "f117c837",
   "metadata": {
    "execution": {
     "iopub.execute_input": "2021-06-01T21:03:14.160911Z",
     "iopub.status.busy": "2021-06-01T21:03:14.154913Z",
     "iopub.status.idle": "2021-06-01T21:03:14.174913Z",
     "shell.execute_reply": "2021-06-01T21:03:14.176911Z"
    },
    "papermill": {
     "duration": 0.429006,
     "end_time": "2021-06-01T21:03:14.177916",
     "exception": false,
     "start_time": "2021-06-01T21:03:13.748910",
     "status": "completed"
    },
    "pycharm": {
     "name": "#%%\n"
    },
    "tags": []
   },
   "outputs": [],
   "source": [
    "# todo, remove this from read file\n",
    "trandata = trandata[trandata.business_unit.notnull()]"
   ]
  },
  {
   "cell_type": "markdown",
   "id": "b8d8c80e",
   "metadata": {
    "papermill": {
     "duration": 0.382517,
     "end_time": "2021-06-01T21:03:14.986523",
     "exception": false,
     "start_time": "2021-06-01T21:03:14.604006",
     "status": "completed"
    },
    "tags": []
   },
   "source": [
    "#### Update Verification 2"
   ]
  },
  {
   "cell_type": "code",
   "execution_count": 14,
   "id": "6d8b0e34",
   "metadata": {
    "execution": {
     "iopub.execute_input": "2021-06-01T21:03:15.751635Z",
     "iopub.status.busy": "2021-06-01T21:03:15.721634Z",
     "iopub.status.idle": "2021-06-01T21:03:15.876295Z",
     "shell.execute_reply": "2021-06-01T21:03:15.878294Z"
    },
    "papermill": {
     "duration": 0.487181,
     "end_time": "2021-06-01T21:03:15.878294",
     "exception": false,
     "start_time": "2021-06-01T21:03:15.391113",
     "status": "completed"
    },
    "pycharm": {
     "name": "#%%\n"
    },
    "tags": []
   },
   "outputs": [
    {
     "name": "stdout",
     "output_type": "stream",
     "text": [
      "Row Counts\n",
      "|    | Business Unit   |   Original |   Transformed |\n",
      "|---:|:----------------|-----------:|--------------:|\n",
      "|  0 | AU              |         53 |            53 |\n",
      "|  1 | CA              |         17 |            17 |\n",
      "|  2 | CH              |       3187 |          3187 |\n",
      "|  3 | CZ              |          7 |             7 |\n",
      "|  4 | ES              |         28 |            28 |\n",
      "|  5 | GR              |         15 |            15 |\n",
      "|  6 | IT              |        100 |           100 |\n",
      "|  7 | NL              |        151 |           151 |\n",
      "|  8 | PL              |         27 |            27 |\n",
      "|  9 | PT              |         39 |            39 |\n"
     ]
    }
   ],
   "source": [
    "if run_control > -10:\n",
    "\n",
    "    ibus = input.groupby(['Business Unit']).count()\n",
    "    ibus = ibus.reset_index()\n",
    "    tbus = trandata.groupby(['business_unit']).count()\n",
    "    tbus = tbus.reset_index()\n",
    "\n",
    "    compdata = pd.merge(ibus, tbus, left_on='Business Unit', right_on='business_unit', how='left')\n",
    "\n",
    "    disp = {\"Business Unit\": compdata['Business Unit'], \"Original\": compdata['Earned Revenues net of Taxes'],\n",
    "            \"Transformed\": compdata['earned_revenues_net_of_taxes']}\n",
    "\n",
    "    disp = pd.DataFrame(disp)\n",
    "\n",
    "    print(\"Row Counts\")\n",
    "    print(disp.to_markdown())\n",
    "    \n",
    "else:\n",
    "    \n",
    "    print(\"Skipped Transformation Report 2\")\n"
   ]
  },
  {
   "cell_type": "markdown",
   "id": "5e9a2e16",
   "metadata": {
    "papermill": {
     "duration": 0.360717,
     "end_time": "2021-06-01T21:03:16.534530",
     "exception": false,
     "start_time": "2021-06-01T21:03:16.173813",
     "status": "completed"
    },
    "tags": []
   },
   "source": [
    "#### Swap  nulls for \"Not Provided\" in 'Sub Lob' and 'Distribution Channel'"
   ]
  },
  {
   "cell_type": "code",
   "execution_count": 15,
   "id": "ef97406d",
   "metadata": {
    "execution": {
     "iopub.execute_input": "2021-06-01T21:03:17.209285Z",
     "iopub.status.busy": "2021-06-01T21:03:17.200284Z",
     "iopub.status.idle": "2021-06-01T21:03:17.227283Z",
     "shell.execute_reply": "2021-06-01T21:03:17.229282Z"
    },
    "papermill": {
     "duration": 0.34061,
     "end_time": "2021-06-01T21:03:17.229282",
     "exception": false,
     "start_time": "2021-06-01T21:03:16.888672",
     "status": "completed"
    },
    "pycharm": {
     "name": "#%%\n"
    },
    "tags": []
   },
   "outputs": [],
   "source": [
    "mults = trandata['sub_lob'][trandata.sub_lob.replace(nan, 'Not Provided').str.contains(',', case=False)]\n",
    "mults = mults.unique()\n",
    "\n",
    "trandata['sub_lob'] = trandata['sub_lob'].fillna('Not Provided')\n",
    "trandata['sub_lob'] = trandata['sub_lob'].replace('', 'Not Provided')\n",
    "trandata['distribution_channel'] = trandata['distribution_channel'].replace('', 'Not Provided').fillna('Not Provided')"
   ]
  },
  {
   "cell_type": "markdown",
   "id": "1e846f72",
   "metadata": {
    "papermill": {
     "duration": 0.304491,
     "end_time": "2021-06-01T21:03:17.872836",
     "exception": false,
     "start_time": "2021-06-01T21:03:17.568345",
     "status": "completed"
    },
    "tags": []
   },
   "source": [
    "#### Replace multiple entries in \"Sub Lob\" to \"Multiple\""
   ]
  },
  {
   "cell_type": "code",
   "execution_count": 16,
   "id": "407de92c",
   "metadata": {
    "execution": {
     "iopub.execute_input": "2021-06-01T21:03:18.545930Z",
     "iopub.status.busy": "2021-06-01T21:03:18.517929Z",
     "iopub.status.idle": "2021-06-01T21:03:18.552934Z",
     "shell.execute_reply": "2021-06-01T21:03:18.554938Z"
    },
    "papermill": {
     "duration": 0.362107,
     "end_time": "2021-06-01T21:03:18.555933",
     "exception": false,
     "start_time": "2021-06-01T21:03:18.193826",
     "status": "completed"
    },
    "pycharm": {
     "name": "#%%\n"
    },
    "tags": []
   },
   "outputs": [],
   "source": [
    "for i in mults:\n",
    "    trandata['sub_lob'] = trandata['sub_lob'].replace(i, 'Multiple')\n",
    "\n",
    "# todo automate figuring out which fields fx rates should be applied to somehow"
   ]
  },
  {
   "cell_type": "markdown",
   "id": "c30c0dd4",
   "metadata": {
    "papermill": {
     "duration": 0.304599,
     "end_time": "2021-06-01T21:03:19.190028",
     "exception": false,
     "start_time": "2021-06-01T21:03:18.885429",
     "status": "completed"
    },
    "tags": []
   },
   "source": [
    "#### Update Verification 3"
   ]
  },
  {
   "cell_type": "code",
   "execution_count": 17,
   "id": "d58f762e",
   "metadata": {
    "execution": {
     "iopub.execute_input": "2021-06-01T21:03:19.882241Z",
     "iopub.status.busy": "2021-06-01T21:03:19.861050Z",
     "iopub.status.idle": "2021-06-01T21:03:20.158902Z",
     "shell.execute_reply": "2021-06-01T21:03:20.160900Z"
    },
    "papermill": {
     "duration": 0.613763,
     "end_time": "2021-06-01T21:03:20.160900",
     "exception": false,
     "start_time": "2021-06-01T21:03:19.547137",
     "status": "completed"
    },
    "pycharm": {
     "name": "#%%\n"
    },
    "tags": []
   },
   "outputs": [],
   "source": [
    "if run_control > -10:\n",
    "\n",
    "    ibus = input.groupby(['Sub LOB']).sum()\n",
    "    ibus = ibus.reset_index()\n",
    "    tbus = trandata.groupby(['sub_lob']).sum()\n",
    "    tbus = tbus.reset_index()\n",
    "\n",
    "    compdatasublob = pd.merge(ibus, tbus, left_on='Sub LOB', right_on='sub_lob', how='outer')\n",
    "\n",
    "    disp1 = pd.DataFrame(\n",
    "        {'Original Sub LOB': compdatasublob['Sub LOB'], 'Transformed Sub LOB': compdatasublob['sub_lob'],\n",
    "         \"Original\": compdatasublob['Earned Revenues net of Taxes'] / 1000,\n",
    "         \"Transformed\": compdatasublob['earned_revenues_net_of_taxes'] / 1000})\n",
    "\n",
    "\n",
    "\n",
    "    tots1 = pd.DataFrame({'Original Total': (input['Earned Revenues net of Taxes']).sum() / 10000,\n",
    "                          \"Transformed Total\": (compdatasublob['earned_revenues_net_of_taxes']).sum() / 10000},\n",
    "                         index=[0])\n",
    "else:\n",
    "    print(\"Skipped Transformation Report 2\")"
   ]
  },
  {
   "cell_type": "markdown",
   "id": "0af0301d",
   "metadata": {
    "papermill": {
     "duration": 0.322353,
     "end_time": "2021-06-01T21:03:20.793238",
     "exception": false,
     "start_time": "2021-06-01T21:03:20.470885",
     "status": "completed"
    },
    "tags": []
   },
   "source": [
    "#### Make cflds, a list of currency fields, force to float, coercion is null or string to 0"
   ]
  },
  {
   "cell_type": "code",
   "execution_count": 18,
   "id": "04352872",
   "metadata": {
    "execution": {
     "iopub.execute_input": "2021-06-01T21:03:21.451625Z",
     "iopub.status.busy": "2021-06-01T21:03:21.449626Z",
     "iopub.status.idle": "2021-06-01T21:03:21.703156Z",
     "shell.execute_reply": "2021-06-01T21:03:21.705141Z"
    },
    "papermill": {
     "duration": 0.568562,
     "end_time": "2021-06-01T21:03:21.706139",
     "exception": false,
     "start_time": "2021-06-01T21:03:21.137577",
     "status": "completed"
    },
    "pycharm": {
     "name": "#%%\n"
    },
    "tags": []
   },
   "outputs": [
    {
     "data": {
      "text/plain": [
       "0          0.00\n",
       "1          0.00\n",
       "2          0.00\n",
       "3        142.68\n",
       "4          0.00\n",
       "         ...   \n",
       "3619    1509.16\n",
       "3620    2164.11\n",
       "3621     309.72\n",
       "3622       0.00\n",
       "3623    1260.00\n",
       "Name: written_revenues_net_of_taxes, Length: 3624, dtype: float64"
      ]
     },
     "execution_count": 18,
     "metadata": {},
     "output_type": "execute_result"
    },
    {
     "data": {
      "text/plain": [
       "0          0.0000\n",
       "1          0.0000\n",
       "2          0.0000\n",
       "3          0.0000\n",
       "4          0.0000\n",
       "          ...    \n",
       "3619    1644.9844\n",
       "3620    2358.8799\n",
       "3621     337.5948\n",
       "3622       0.0000\n",
       "3623    1373.4000\n",
       "Name: written_revenues, Length: 3624, dtype: float64"
      ]
     },
     "execution_count": 18,
     "metadata": {},
     "output_type": "execute_result"
    },
    {
     "data": {
      "text/plain": [
       "0          55.8953\n",
       "1        5529.9513\n",
       "2           0.0000\n",
       "3         142.6800\n",
       "4       32143.8185\n",
       "           ...    \n",
       "3619     1576.8600\n",
       "3620     2085.8000\n",
       "3621       16.5700\n",
       "3622       68.0000\n",
       "3623     1260.0000\n",
       "Name: earned_revenues_net_of_taxes, Length: 3624, dtype: float64"
      ]
     },
     "execution_count": 18,
     "metadata": {},
     "output_type": "execute_result"
    },
    {
     "data": {
      "text/plain": [
       "0          0.0000\n",
       "1          0.0000\n",
       "2          0.0000\n",
       "3          0.0000\n",
       "4          0.0000\n",
       "          ...    \n",
       "3619    1718.7774\n",
       "3620    2273.5220\n",
       "3621      18.0613\n",
       "3622      74.1200\n",
       "3623    1373.4000\n",
       "Name: earned_revenues, Length: 3624, dtype: float64"
      ]
     },
     "execution_count": 18,
     "metadata": {},
     "output_type": "execute_result"
    },
    {
     "data": {
      "text/plain": [
       "0          5.64530\n",
       "1       1290.57530\n",
       "2          0.00000\n",
       "3          0.00000\n",
       "4       7071.64007\n",
       "           ...    \n",
       "3619       0.00000\n",
       "3620       0.00000\n",
       "3621       0.00000\n",
       "3622       0.00000\n",
       "3623       0.00000\n",
       "Name: earned_base_commissions, Length: 3624, dtype: float64"
      ]
     },
     "execution_count": 18,
     "metadata": {},
     "output_type": "execute_result"
    },
    {
     "data": {
      "text/plain": [
       "0       0.0\n",
       "1       0.0\n",
       "2       0.0\n",
       "3       0.0\n",
       "4       0.0\n",
       "       ... \n",
       "3619    0.0\n",
       "3620    0.0\n",
       "3621    0.0\n",
       "3622    0.0\n",
       "3623    0.0\n",
       "Name: earned_over-commissions, Length: 3624, dtype: float64"
      ]
     },
     "execution_count": 18,
     "metadata": {},
     "output_type": "execute_result"
    },
    {
     "data": {
      "text/plain": [
       "0       0.0\n",
       "1       0.0\n",
       "2       0.0\n",
       "3       0.0\n",
       "4       0.0\n",
       "       ... \n",
       "3619    0.0\n",
       "3620    0.0\n",
       "3621    0.0\n",
       "3622    0.0\n",
       "3623    0.0\n",
       "Name: upfront_cash_payments, Length: 3624, dtype: float64"
      ]
     },
     "execution_count": 18,
     "metadata": {},
     "output_type": "execute_result"
    },
    {
     "data": {
      "text/plain": [
       "0          5.64530\n",
       "1       1290.57530\n",
       "2          0.00000\n",
       "3          0.00000\n",
       "4       7071.64007\n",
       "           ...    \n",
       "3619       0.00000\n",
       "3620       0.00000\n",
       "3621       0.00000\n",
       "3622       0.00000\n",
       "3623       0.00000\n",
       "Name: total_compensation, Length: 3624, dtype: float64"
      ]
     },
     "execution_count": 18,
     "metadata": {},
     "output_type": "execute_result"
    },
    {
     "data": {
      "text/plain": [
       "0         0.0000\n",
       "1         0.0000\n",
       "2         0.0000\n",
       "3         0.0000\n",
       "4       819.1621\n",
       "          ...   \n",
       "3619     69.4500\n",
       "3620      0.0000\n",
       "3621    630.1200\n",
       "3622      0.0000\n",
       "3623      0.0000\n",
       "Name: paid_claims, Length: 3624, dtype: float64"
      ]
     },
     "execution_count": 18,
     "metadata": {},
     "output_type": "execute_result"
    },
    {
     "data": {
      "text/plain": [
       "0          8.250237\n",
       "1       1843.793403\n",
       "2          0.000000\n",
       "3         22.575091\n",
       "4       7248.046696\n",
       "           ...     \n",
       "3619    1472.110000\n",
       "3620     608.720000\n",
       "3621       0.000000\n",
       "3622       0.000000\n",
       "3623       0.000000\n",
       "Name: ocr_+_ibnr, Length: 3624, dtype: float64"
      ]
     },
     "execution_count": 18,
     "metadata": {},
     "output_type": "execute_result"
    },
    {
     "data": {
      "text/plain": [
       "0          8.250237\n",
       "1       1843.793403\n",
       "2          0.000000\n",
       "3         22.575091\n",
       "4       8067.208796\n",
       "           ...     \n",
       "3619    1541.560000\n",
       "3620     608.720000\n",
       "3621     630.120000\n",
       "3622       0.000000\n",
       "3623       0.000000\n",
       "Name: actual_incurred_losses_(paid_+_ocr_+_ibnr), Length: 3624, dtype: float64"
      ]
     },
     "execution_count": 18,
     "metadata": {},
     "output_type": "execute_result"
    },
    {
     "data": {
      "text/plain": [
       "0           2.195253\n",
       "1         240.488514\n",
       "2           0.000000\n",
       "3           8.187503\n",
       "4       21750.364703\n",
       "            ...     \n",
       "3619      433.790006\n",
       "3620      341.095979\n",
       "3621      305.054137\n",
       "3622       33.114511\n",
       "3623      835.265953\n",
       "Name: internal_variable_costs_(excl._az_tech_fee), Length: 3624, dtype: float64"
      ]
     },
     "execution_count": 18,
     "metadata": {},
     "output_type": "execute_result"
    },
    {
     "data": {
      "text/plain": [
       "0         1.013645\n",
       "1       111.044207\n",
       "2         0.000000\n",
       "3         3.780533\n",
       "4       625.285543\n",
       "           ...    \n",
       "3619     45.413568\n",
       "3620     60.071040\n",
       "3621      0.477216\n",
       "3622      1.958400\n",
       "3623     36.288000\n",
       "Name: az_tech_fee, Length: 3624, dtype: float64"
      ]
     },
     "execution_count": 18,
     "metadata": {},
     "output_type": "execute_result"
    },
    {
     "data": {
      "text/plain": [
       "0          167.140499\n",
       "1        18285.429711\n",
       "2            0.000000\n",
       "3          620.808918\n",
       "4       107082.243725\n",
       "            ...      \n",
       "3619       272.796780\n",
       "3620       360.843400\n",
       "3621         2.866610\n",
       "3622        19.176000\n",
       "3623       355.320000\n",
       "Name: internal_fixed_costs_(excl._hq_fees), Length: 3624, dtype: float64"
      ]
     },
     "execution_count": 18,
     "metadata": {},
     "output_type": "execute_result"
    },
    {
     "data": {
      "text/plain": [
       "0         11.050191\n",
       "1       1210.541320\n",
       "2          0.000000\n",
       "3         41.213241\n",
       "4       6816.510337\n",
       "           ...     \n",
       "3619      96.976890\n",
       "3620     128.276700\n",
       "3621       1.019055\n",
       "3622       4.182000\n",
       "3623      63.000000\n",
       "Name: hq_fees, Length: 3624, dtype: float64"
      ]
     },
     "execution_count": 18,
     "metadata": {},
     "output_type": "execute_result"
    },
    {
     "data": {
      "text/plain": [
       "0          181.399588\n",
       "1        19847.503753\n",
       "2            0.000000\n",
       "3          673.990196\n",
       "4       136274.404308\n",
       "            ...      \n",
       "3619       848.977244\n",
       "3620       890.287119\n",
       "3621       309.417018\n",
       "3622        58.430911\n",
       "3623      1289.873953\n",
       "Name: total_expenses, Length: 3624, dtype: float64"
      ]
     },
     "execution_count": 18,
     "metadata": {},
     "output_type": "execute_result"
    },
    {
     "data": {
      "text/plain": [
       "0       0.0\n",
       "1       0.0\n",
       "2       0.0\n",
       "3       0.0\n",
       "4       0.0\n",
       "       ... \n",
       "3619    0.0\n",
       "3620    0.0\n",
       "3621    0.0\n",
       "3622    0.0\n",
       "3623    0.0\n",
       "Name: risk_premium, Length: 3624, dtype: float64"
      ]
     },
     "execution_count": 18,
     "metadata": {},
     "output_type": "execute_result"
    },
    {
     "data": {
      "text/plain": [
       "0         -139.399826\n",
       "1       -17451.921156\n",
       "2            0.000000\n",
       "3         -553.885287\n",
       "4      -119269.434674\n",
       "            ...      \n",
       "3619      -813.677244\n",
       "3620       586.792881\n",
       "3621      -922.967018\n",
       "3622         9.569089\n",
       "3623       -29.873953\n",
       "Name: profit_or_loss, Length: 3624, dtype: float64"
      ]
     },
     "execution_count": 18,
     "metadata": {},
     "output_type": "execute_result"
    },
    {
     "data": {
      "text/plain": [
       "0         38.790864\n",
       "1       2044.049876\n",
       "2          0.000000\n",
       "3        108.136872\n",
       "4      -5370.680611\n",
       "           ...     \n",
       "3619    -443.903574\n",
       "3620    1075.912981\n",
       "3621    -919.081353\n",
       "3622      32.927089\n",
       "3623     388.446047\n",
       "Name: contribution_margin_-_hq_view, Length: 3624, dtype: float64"
      ]
     },
     "execution_count": 18,
     "metadata": {},
     "output_type": "execute_result"
    },
    {
     "data": {
      "text/plain": [
       "0          27.740673\n",
       "1         833.508556\n",
       "2           0.000000\n",
       "3          66.923631\n",
       "4      -12187.190948\n",
       "            ...     \n",
       "3619     -540.880464\n",
       "3620      947.636281\n",
       "3621     -920.100408\n",
       "3622       28.745089\n",
       "3623      325.446047\n",
       "Name: contribution_margin_-_bu_view, Length: 3624, dtype: float64"
      ]
     },
     "execution_count": 18,
     "metadata": {},
     "output_type": "execute_result"
    }
   ],
   "source": [
    "cflds = ['written_revenues_net_of_taxes', 'written_revenues', 'earned_revenues_net_of_taxes',\n",
    "         'earned_revenues', 'earned_base_commissions', 'earned_over-commissions', 'upfront_cash_payments',\n",
    "         'total_compensation', 'paid_claims', 'ocr_+_ibnr', 'actual_incurred_losses_(paid_+_ocr_+_ibnr)',\n",
    "         'internal_variable_costs_(excl._az_tech_fee)', 'az_tech_fee', 'internal_fixed_costs_(excl._hq_fees)',\n",
    "         'hq_fees', 'total_expenses', 'risk_premium', 'profit_or_loss', 'contribution_margin_-_hq_view',\n",
    "         'contribution_margin_-_bu_view', ]\n",
    "\n",
    "for i in cflds:\n",
    "    pd.to_numeric(trandata[i], errors='coerce')"
   ]
  },
  {
   "cell_type": "markdown",
   "id": "325d42ee",
   "metadata": {
    "papermill": {
     "duration": 0.310511,
     "end_time": "2021-06-01T21:03:22.355305",
     "exception": false,
     "start_time": "2021-06-01T21:03:22.044794",
     "status": "completed"
    },
    "tags": []
   },
   "source": [
    "#### Turn selected columns values uppercase"
   ]
  },
  {
   "cell_type": "code",
   "execution_count": 19,
   "id": "63e70885",
   "metadata": {
    "execution": {
     "iopub.execute_input": "2021-06-01T21:03:23.091677Z",
     "iopub.status.busy": "2021-06-01T21:03:23.081270Z",
     "iopub.status.idle": "2021-06-01T21:03:23.129675Z",
     "shell.execute_reply": "2021-06-01T21:03:23.130682Z"
    },
    "papermill": {
     "duration": 0.489833,
     "end_time": "2021-06-01T21:03:23.130682",
     "exception": false,
     "start_time": "2021-06-01T21:03:22.640849",
     "status": "completed"
    },
    "pycharm": {
     "name": "#%%\n"
    },
    "tags": []
   },
   "outputs": [],
   "source": [
    "validcols = ['business_unit', 'currency', 'region', 'type_of_analysis', 'type_of_business', 'type_of_account', 'lob',\n",
    "             'distribution_type', 'distribution_channel', ]\n",
    "\n",
    "for c in validcols:\n",
    "    trandata[c] = trandata[c].astype(str)\n",
    "    trandata[c] = trandata[c].apply(lambda x: x.upper())"
   ]
  },
  {
   "cell_type": "markdown",
   "id": "5cb29336",
   "metadata": {
    "papermill": {
     "duration": 0.333086,
     "end_time": "2021-06-01T21:03:23.778503",
     "exception": false,
     "start_time": "2021-06-01T21:03:23.445417",
     "status": "completed"
    },
    "tags": []
   },
   "source": [
    "#### Read the values from the Global Attribute Catalog, one field per loop iterance and xlsx sheet."
   ]
  },
  {
   "cell_type": "code",
   "execution_count": 20,
   "id": "e3e09ae1",
   "metadata": {
    "execution": {
     "iopub.execute_input": "2021-06-01T21:03:24.423261Z",
     "iopub.status.busy": "2021-06-01T21:03:24.419261Z",
     "iopub.status.idle": "2021-06-01T21:03:27.480116Z",
     "shell.execute_reply": "2021-06-01T21:03:27.482116Z"
    },
    "papermill": {
     "duration": 3.376337,
     "end_time": "2021-06-01T21:03:27.482116",
     "exception": false,
     "start_time": "2021-06-01T21:03:24.105779",
     "status": "completed"
    },
    "pycharm": {
     "name": "#%%\n"
    },
    "tags": []
   },
   "outputs": [],
   "source": [
    "checktabs = []\n",
    "\n",
    "\n",
    "\n",
    "for s in validcols:\n",
    "    t = pd.read_excel(atcat, sheet_name = s )\n",
    "    checktabs.append([[s], [t]])\n",
    "\n",
    "gacout = []\n"
   ]
  },
  {
   "cell_type": "markdown",
   "id": "07d108d0",
   "metadata": {
    "papermill": {
     "duration": 0.361701,
     "end_time": "2021-06-01T21:03:28.180501",
     "exception": false,
     "start_time": "2021-06-01T21:03:27.818800",
     "status": "completed"
    },
    "tags": []
   },
   "source": [
    "#### Compare the lists from the previous step and each field. Find those that do not match, make lists of unique values\n",
    "#### replace any that have replacements in GPPM inoout already, make a list of values without any matches.\n"
   ]
  },
  {
   "cell_type": "code",
   "execution_count": 21,
   "id": "a0576441",
   "metadata": {
    "execution": {
     "iopub.execute_input": "2021-06-01T21:03:28.982732Z",
     "iopub.status.busy": "2021-06-01T21:03:28.968745Z",
     "iopub.status.idle": "2021-06-01T21:03:29.189254Z",
     "shell.execute_reply": "2021-06-01T21:03:29.191254Z"
    },
    "papermill": {
     "duration": 0.637197,
     "end_time": "2021-06-01T21:03:29.191254",
     "exception": false,
     "start_time": "2021-06-01T21:03:28.554057",
     "status": "completed"
    },
    "pycharm": {
     "name": "#%%\n"
    },
    "tags": []
   },
   "outputs": [],
   "source": [
    "# todo rewrite this beginner code to use dicts and simplify\n",
    "\n",
    "for u in enumerate(validcols):\n",
    "    trandata.loc[0:len(trandata[u[1]]), u[1]] = trandata[u[1]].replace(\n",
    "        [checktabs[u[0]][1][0]['Upper_Vers']][0].to_numpy(), [checktabs[u[0]][1][0][u[1]]][0].to_numpy())\n",
    "    d = list(checktabs[u[0]][1][0]['Non Matches'].drop_duplicates().dropna().append(\n",
    "        pd.Series(trandata[u[1]][~trandata[u[1]].isin(checktabs[u[0]][1][0][u[1]])].drop_duplicates().dropna()),\n",
    "        ignore_index=True))\n",
    "    g = [checktabs[u[0]][1][0][str(u[1])], checktabs[u[0]][1][0]['Upper_Vers'], checktabs[u[0]][1][0]['Unnamed: 2'],\n",
    "         pd.Series(d, dtype='object').drop_duplicates().dropna(), checktabs[u[0]][1][0]['User Defined Corrections']]\n",
    "    gacout.append(list([g, u[1]]))"
   ]
  },
  {
   "cell_type": "markdown",
   "id": "ef986d66",
   "metadata": {
    "papermill": {
     "duration": 0.357516,
     "end_time": "2021-06-01T21:03:29.969355",
     "exception": false,
     "start_time": "2021-06-01T21:03:29.611839",
     "status": "completed"
    },
    "tags": []
   },
   "source": [
    "#### Rebuild the GPPM input file, with the replaced values in the bad values column of each sheet.\n",
    "#### Step one, make and xlsx with a notes page."
   ]
  },
  {
   "cell_type": "code",
   "execution_count": 22,
   "id": "7627ec33",
   "metadata": {
    "execution": {
     "iopub.execute_input": "2021-06-01T21:03:30.850043Z",
     "iopub.status.busy": "2021-06-01T21:03:30.848049Z",
     "iopub.status.idle": "2021-06-01T21:03:31.359423Z",
     "shell.execute_reply": "2021-06-01T21:03:31.360411Z"
    },
    "papermill": {
     "duration": 1.034052,
     "end_time": "2021-06-01T21:03:31.361409",
     "exception": false,
     "start_time": "2021-06-01T21:03:30.327357",
     "status": "completed"
    },
    "pycharm": {
     "name": "#%%\n"
    },
    "tags": []
   },
   "outputs": [],
   "source": [
    "w = ExcelWriter(atcat)\n",
    "notes = pd.DataFrame([\n",
    "    \"This page is script generated during the source creation process. Do not edit these notes directly in the file as they will be overwritten\",\n",
    "    \"\", \"\"\n",
    "    , \" Purpose :     to manage attribute entries in the data collection process, this workbook documents and organizes all entries and also allows a user to swap those that do \\\n",
    "                        not conform to validation rules  with an entry of their choice\",\n",
    "    \" Each attribute field that requires validation has its own sheet tab\", \"\"\n",
    "    , \"Column A:    of each sheet tab contains all unique acceptable responses\",\n",
    "    \"Column B:    an upper case version, to wrangle case mismatches\",\n",
    "    \"Column D:   is generated by the process, this is a list of an uppercase version of each unique unacceptable response, this builds over time with each collection\",\n",
    "    \"Column E:   you can enter accpetable response here (sase sensitive) to be swapped out in the data, save and exit this file, run the process again and they will be replaced\"\n",
    "    , \"\", \"\", \"Gavin Harmon 9 - July -2020\"])\n",
    "\n",
    "notes.columns = ['Notes']\n",
    "\n",
    "notes.to_excel(w, index=False, sheet_name=\"Notes\")"
   ]
  },
  {
   "cell_type": "markdown",
   "id": "79ababb4",
   "metadata": {
    "papermill": {
     "duration": 0.446714,
     "end_time": "2021-06-01T21:03:32.237641",
     "exception": false,
     "start_time": "2021-06-01T21:03:31.790927",
     "status": "completed"
    },
    "tags": []
   },
   "source": [
    "#### Step two, build the new sheets for each validcols field"
   ]
  },
  {
   "cell_type": "code",
   "execution_count": 23,
   "id": "e00f8dcb",
   "metadata": {
    "execution": {
     "iopub.execute_input": "2021-06-01T21:03:33.227645Z",
     "iopub.status.busy": "2021-06-01T21:03:33.201646Z",
     "iopub.status.idle": "2021-06-01T21:03:33.828208Z",
     "shell.execute_reply": "2021-06-01T21:03:33.830202Z"
    },
    "papermill": {
     "duration": 1.09694,
     "end_time": "2021-06-01T21:03:33.830202",
     "exception": false,
     "start_time": "2021-06-01T21:03:32.733262",
     "status": "completed"
    },
    "pycharm": {
     "name": "#%%\n"
    },
    "tags": []
   },
   "outputs": [],
   "source": [
    "for v in enumerate(validcols):\n",
    "    df = pd.DataFrame(gacout[v[0]][0], index=[f\"{v[1]}\", 'Upper_Vers', '', 'Non Matches', 'User Defined Corrections']).T\n",
    "    df.to_excel(w, index=False, sheet_name=gacout[v[0]][1])\n",
    "w.save()"
   ]
  },
  {
   "cell_type": "markdown",
   "id": "cc27a30d",
   "metadata": {
    "papermill": {
     "duration": 0.315995,
     "end_time": "2021-06-01T21:03:34.470781",
     "exception": false,
     "start_time": "2021-06-01T21:03:34.154786",
     "status": "completed"
    },
    "tags": []
   },
   "source": [
    "#### Step three, read these lists back in, make the necessary replacements in the DataFrame"
   ]
  },
  {
   "cell_type": "code",
   "execution_count": 24,
   "id": "acf082ec",
   "metadata": {
    "execution": {
     "iopub.execute_input": "2021-06-01T21:03:35.129793Z",
     "iopub.status.busy": "2021-06-01T21:03:35.124793Z",
     "iopub.status.idle": "2021-06-01T21:03:37.728108Z",
     "shell.execute_reply": "2021-06-01T21:03:37.730107Z"
    },
    "papermill": {
     "duration": 2.92699,
     "end_time": "2021-06-01T21:03:37.730107",
     "exception": false,
     "start_time": "2021-06-01T21:03:34.803117",
     "status": "completed"
    },
    "pycharm": {
     "name": "#%%\n"
    },
    "tags": []
   },
   "outputs": [],
   "source": [
    "for s in validcols:\n",
    "    t = pd.read_excel(f'//hecate/Insurance_US/Product Development/Product Management/Global PPM/Reporting/Data Collection/Production/{str(percode)}\\\\{str(percode)}_Attribute_Catalog.xlsx', sheet_name = s )\n",
    "    checktabs.append([[s],[t]])"
   ]
  },
  {
   "cell_type": "code",
   "execution_count": 25,
   "id": "e3847263",
   "metadata": {
    "execution": {
     "iopub.execute_input": "2021-06-01T21:03:38.427275Z",
     "iopub.status.busy": "2021-06-01T21:03:38.419277Z",
     "iopub.status.idle": "2021-06-01T21:03:38.527428Z",
     "shell.execute_reply": "2021-06-01T21:03:38.528427Z"
    },
    "papermill": {
     "duration": 0.442145,
     "end_time": "2021-06-01T21:03:38.529423",
     "exception": false,
     "start_time": "2021-06-01T21:03:38.087278",
     "status": "completed"
    },
    "pycharm": {
     "name": "#%%\n"
    },
    "tags": []
   },
   "outputs": [],
   "source": [
    "gacout = []\n",
    "\n",
    "for u in enumerate(validcols):\n",
    "    trandata.loc[0:len(trandata[u[1]]), u[1]] = trandata[u[1]].replace(\n",
    "        [checktabs[u[0]][1][0]['Non Matches']][0].to_numpy(),\n",
    "        [checktabs[u[0]][1][0]['User Defined Corrections']][0].to_numpy())\n",
    "repper = trandata[['business_unit', 'reporting_date_to']]\n",
    "repper = pd.DataFrame({\"business_unit\": (repper['business_unit']), \"YearMo\": (repper['reporting_date_to'])})\n",
    "minrep = repper.groupby(['business_unit']).max()\n",
    "a = trandata['business_unit'].replace(list(minrep.axes[0]), minrep.get(\"YearMo\"))\n",
    "trandata['rep_date'] = a\n",
    "trandata.loc[0:len(trandata['business_partner_id_number']), 'business_partner_id_number'] = trandata[\n",
    "    'business_partner_id_number'].replace('0', 'Not Provided').fillna('Not Provided')\n",
    "trandata.loc[0:len(trandata['product_id_number']), 'product_id_number'] = trandata['product_id_number'].replace('0',\n",
    "                                                                                                                'Not Provided').replace(\n",
    "    '-', 'Not Provided').fillna('Not Provided')\n",
    "trandata.loc[0:len(trandata['sub_lob']), 'sub_lob'] = trandata['sub_lob'].replace('0', 'Not Provided').replace('-',\n",
    "                                                                                                               'Not Provided').replace(\n",
    "    'Other', 'Not Provided').fillna('Not Provided')"
   ]
  },
  {
   "cell_type": "markdown",
   "id": "98071567",
   "metadata": {
    "papermill": {
     "duration": 0.35609,
     "end_time": "2021-06-01T21:03:39.243143",
     "exception": false,
     "start_time": "2021-06-01T21:03:38.887053",
     "status": "completed"
    },
    "tags": []
   },
   "source": [
    "#### Evaluate the current state, alert the user if input is needed.\n",
    "- At the end of this process, alert the user with instructions if they need to adjust bad entries for validated fields.\n",
    "\n"
   ]
  },
  {
   "cell_type": "code",
   "execution_count": 26,
   "id": "b58ed185",
   "metadata": {
    "execution": {
     "iopub.execute_input": "2021-06-01T21:03:39.937088Z",
     "iopub.status.busy": "2021-06-01T21:03:39.927086Z",
     "iopub.status.idle": "2021-06-01T21:03:46.098707Z",
     "shell.execute_reply": "2021-06-01T21:03:46.102710Z"
    },
    "papermill": {
     "duration": 6.51349,
     "end_time": "2021-06-01T21:03:46.106719",
     "exception": false,
     "start_time": "2021-06-01T21:03:39.593229",
     "status": "completed"
    },
    "tags": []
   },
   "outputs": [],
   "source": [
    "#see above note about converting to dictionaries\n",
    "\n",
    "#Make lists of all the attribute catalog entries that do not have a correction as a list of errors.\n",
    "err_messages = []\n",
    "\n",
    "for idx, i in enumerate(checktabs):\n",
    "    subset_no_nans =  i[1][0][['Non Matches', 'User Defined Corrections']][~i[1][0]['Non Matches'].isna()]\n",
    "    entries = subset_no_nans['Non Matches'][subset_no_nans['User Defined Corrections'].isna()]. tolist()\n",
    "    if len(entries) > 0: \n",
    "        err_messages.append(f'Please deal with bad entries {entries} on tab {i[0][0]} of the Attribute Catalog.')\n",
    "\n",
    "#raise an error to stop the process and give instructions\n",
    "\n",
    "# define Python user-defined exceptions\n",
    "\n",
    "\n",
    "# define Python user-defined exceptions\n",
    "class Error(Exception):\n",
    "    \"\"\"Base class for other exceptions\"\"\"\n",
    "    pass\n",
    "\n",
    "class BadEntriesError(Error):\n",
    "    \"\"\"Raised when the input value is too large\"\"\"\n",
    "    for i in err_messages : print(i)\n",
    "    \n",
    "    os.startfile(atcat)\n",
    "\n",
    "if len(err_messages) > 0:\n",
    "    raise BadEntriesError\n",
    "else:\n",
    "    pass\n",
    "        "
   ]
  },
  {
   "cell_type": "markdown",
   "id": "ee8338dd",
   "metadata": {
    "papermill": {
     "duration": 0.386749,
     "end_time": "2021-06-01T21:03:47.183921",
     "exception": false,
     "start_time": "2021-06-01T21:03:46.797172",
     "status": "completed"
    },
    "tags": []
   },
   "source": [
    "#### Remove empty rows, if there is no claims experience and no revenue for a 12 month period, it should not be included"
   ]
  },
  {
   "cell_type": "code",
   "execution_count": 27,
   "id": "4b68e2bb",
   "metadata": {
    "execution": {
     "iopub.execute_input": "2021-06-01T21:03:48.010154Z",
     "iopub.status.busy": "2021-06-01T21:03:47.987154Z",
     "iopub.status.idle": "2021-06-01T21:03:48.168871Z",
     "shell.execute_reply": "2021-06-01T21:03:48.170871Z"
    },
    "papermill": {
     "duration": 0.562351,
     "end_time": "2021-06-01T21:03:48.170871",
     "exception": false,
     "start_time": "2021-06-01T21:03:47.608520",
     "status": "completed"
    },
    "pycharm": {
     "name": "#%%\n"
    },
    "tags": []
   },
   "outputs": [],
   "source": [
    "trandata = trandata.loc[(trandata['units_of_risk_(written)'].fillna(0).replace('', 0)\n",
    "                         + trandata['written_revenues_net_of_taxes'].fillna(0).replace('', 0)\n",
    "                         + trandata['written_revenues'].fillna(0).replace('', 0)\n",
    "                         + trandata['number_of_policies_(earned)'].fillna(0).replace('', 0)\n",
    "                         + trandata['units_of_risk_(earned)'].fillna(0).replace('', 0)\n",
    "                         + trandata['earned_revenues_net_of_taxes'].fillna(0).replace('', 0)\n",
    "                         + trandata['earned_revenues'].fillna(0).replace('', 0)\n",
    "                         + trandata['earned_base_commissions'].fillna(0).replace('', 0)\n",
    "                         + trandata['upfront_cash_payments'].fillna(0).replace('', 0)\n",
    "                         + trandata['earned_over-commissions'].fillna(0).replace('', 0)\n",
    "                         + trandata['total_compensation'].fillna(0).replace('', 0)\n",
    "                         + trandata['number_of_claims_(paid_+_ocr_+_ibnr)'].fillna(0).replace('', 0)\n",
    "                         + trandata['number_of_open_claims'].fillna(0).replace('', 0)\n",
    "                         + trandata['open_claims_%'].fillna(0).replace('', 0)\n",
    "                         + trandata['number_of_persons_involved_in_claims_(paid_+_ocr_+_ibnr)'].fillna(0).replace('', 0)\n",
    "                         + trandata['paid_claims'].fillna(0).replace('', 0)\n",
    "                         + trandata['ocr_+_ibnr'].fillna(0).replace('', 0)\n",
    "                         + trandata['actual_incurred_losses_(paid_+_ocr_+_ibnr)'].fillna(0).replace('', 0)\n",
    "                         + trandata['internal_variable_costs_(excl._az_tech_fee)'].fillna(0).replace('', 0)\n",
    "                         + trandata['az_tech_fee'].fillna(0).replace('', 0)\n",
    "                         + trandata['internal_fixed_costs_(excl._hq_fees)'].fillna(0).replace('', 0)\n",
    "                         + trandata['hq_fees'].fillna(0).replace('', 0)\n",
    "                         + trandata['total_expenses'].fillna(0).replace('', 0)\n",
    "                         + trandata['frequency_(earned)'].fillna(0).replace('', 0)\n",
    "                         + trandata['severity'].fillna(0).replace('', 0))\n",
    "                        != 0]"
   ]
  },
  {
   "cell_type": "markdown",
   "id": "37b398a7",
   "metadata": {
    "papermill": {
     "duration": 0.362137,
     "end_time": "2021-06-01T21:03:49.442280",
     "exception": false,
     "start_time": "2021-06-01T21:03:49.080143",
     "status": "completed"
    },
    "pycharm": {
     "name": "#%% md\n"
    },
    "tags": []
   },
   "source": [
    "#### Output temp file"
   ]
  },
  {
   "cell_type": "code",
   "execution_count": 28,
   "id": "9a60144f",
   "metadata": {
    "execution": {
     "iopub.execute_input": "2021-06-01T21:03:50.240034Z",
     "iopub.status.busy": "2021-06-01T21:03:50.236035Z",
     "iopub.status.idle": "2021-06-01T21:04:01.306744Z",
     "shell.execute_reply": "2021-06-01T21:04:01.308744Z"
    },
    "papermill": {
     "duration": 11.430276,
     "end_time": "2021-06-01T21:04:01.309746",
     "exception": false,
     "start_time": "2021-06-01T21:03:49.879470",
     "status": "completed"
    },
    "pycharm": {
     "name": "#%%\n"
    },
    "tags": []
   },
   "outputs": [],
   "source": [
    "# trandata.to_parquet(\n",
    "#     f'//hecate/Insurance_US/Product Development/Product Management/Global PPM/Reporting/Data Collection/Production/{str(percode)}\\\\{str(percode)}.localcur.parquet', engine = \"pyarrow\")\n",
    "\n",
    "trandata.to_csv(\n",
    "    \n",
    "     f'//hecate/Insurance_US/Product Development/Product Management/Global PPM/Reporting/Data Collection/Production/{str(percode)}\\\\{str(percode)}.localcur.csv', index = False)\n"
   ]
  },
  {
   "cell_type": "markdown",
   "id": "652c0472",
   "metadata": {
    "papermill": {
     "duration": 0.360999,
     "end_time": "2021-06-01T21:04:02.066436",
     "exception": false,
     "start_time": "2021-06-01T21:04:01.705437",
     "status": "completed"
    },
    "tags": []
   },
   "source": [
    "#### Store the DataFrame for other noteboks to use"
   ]
  },
  {
   "cell_type": "code",
   "execution_count": 29,
   "id": "c857dfd9",
   "metadata": {
    "execution": {
     "iopub.execute_input": "2021-06-01T21:04:02.848973Z",
     "iopub.status.busy": "2021-06-01T21:04:02.843972Z",
     "iopub.status.idle": "2021-06-01T21:04:02.887971Z",
     "shell.execute_reply": "2021-06-01T21:04:02.888971Z"
    },
    "papermill": {
     "duration": 0.470488,
     "end_time": "2021-06-01T21:04:02.889972",
     "exception": false,
     "start_time": "2021-06-01T21:04:02.419484",
     "status": "completed"
    },
    "tags": []
   },
   "outputs": [
    {
     "name": "stdout",
     "output_type": "stream",
     "text": [
      "Stored 'py_t_df' (DataFrame)\n"
     ]
    }
   ],
   "source": [
    "py_t_df = trandata\n",
    "\n",
    "%store py_t_df\n"
   ]
  }
 ],
 "metadata": {
  "celltoolbar": "Tags",
  "kernelspec": {
   "display_name": "Python 3",
   "language": "python",
   "name": "python3"
  },
  "language_info": {
   "codemirror_mode": {
    "name": "ipython",
    "version": 3
   },
   "file_extension": ".py",
   "mimetype": "text/x-python",
   "name": "python",
   "nbconvert_exporter": "python",
   "pygments_lexer": "ipython3",
   "version": "3.7.6"
  },
  "papermill": {
   "default_parameters": {},
   "duration": 82.63514,
   "end_time": "2021-06-01T21:04:03.865964",
   "environment_variables": {},
   "exception": null,
   "input_path": "pipeline/py_transform.ipynb",
   "output_path": "//hecate/Insurance_US/Product Development/Product Management/Global PPM/Reporting/Data Collection/Pipeline Reporting Scripts/GPMpipeline/instances/2021.Q1\\pipeline\\py_transform06012021170006--live, add AT.ipynb",
   "parameters": {
    "commit_message": "Live run, added AT after conversion from Excel",
    "inst_datetime": "06012021170006",
    "percode": "2021.Q1",
    "run_control": 1
   },
   "start_time": "2021-06-01T21:02:41.230824",
   "version": "2.3.3"
  }
 },
 "nbformat": 4,
 "nbformat_minor": 5
}