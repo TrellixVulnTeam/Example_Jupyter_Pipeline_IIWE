{
 "cells": [
  {
   "cell_type": "markdown",
   "id": "3d880056",
   "metadata": {
    "papermill": {
     "duration": 0.238022,
     "end_time": "2021-06-15T18:02:57.171993",
     "exception": false,
     "start_time": "2021-06-15T18:02:56.933971",
     "status": "completed"
    },
    "pycharm": {
     "name": "#%% md\n"
    },
    "tags": []
   },
   "source": [
    "<img src=\"../images/AzPTravel_PPM.png\">"
   ]
  },
  {
   "cell_type": "markdown",
   "id": "e26b44d2",
   "metadata": {
    "papermill": {
     "duration": 0.333559,
     "end_time": "2021-06-15T18:02:57.749930",
     "exception": false,
     "start_time": "2021-06-15T18:02:57.416371",
     "status": "completed"
    },
    "tags": []
   },
   "source": [
    "## GPM Pipeline Output maker\n",
    "\n",
    "#### This script\n",
    "- loads the transformed parquet file\n",
    "- creates the file {parquet}.localcur.csv\n",
    "- makes the Euro conversions\n",
    "- outputs {parquet}.euroconv.csv\n"
   ]
  },
  {
   "cell_type": "markdown",
   "id": "888b1f09",
   "metadata": {
    "papermill": {
     "duration": 0.25206,
     "end_time": "2021-06-15T18:02:58.278999",
     "exception": false,
     "start_time": "2021-06-15T18:02:58.026939",
     "status": "completed"
    },
    "tags": []
   },
   "source": [
    "#### Parameters section"
   ]
  },
  {
   "cell_type": "code",
   "execution_count": 1,
   "id": "20794df9",
   "metadata": {
    "execution": {
     "iopub.execute_input": "2021-06-15T18:02:58.783204Z",
     "iopub.status.busy": "2021-06-15T18:02:58.780171Z",
     "iopub.status.idle": "2021-06-15T18:02:58.785204Z",
     "shell.execute_reply": "2021-06-15T18:02:58.795174Z"
    },
    "papermill": {
     "duration": 0.285164,
     "end_time": "2021-06-15T18:02:58.795174",
     "exception": false,
     "start_time": "2021-06-15T18:02:58.510010",
     "status": "completed"
    },
    "pycharm": {
     "name": "#%%\n"
    },
    "tags": [
     "parameters"
    ]
   },
   "outputs": [],
   "source": [
    "commit = \"\"\n",
    "# give a reason for the run\n",
    "\n",
    "percode = \"20XX.QX\"\n",
    "# Data Collection Code, this controls file paths and output names\n",
    "\n",
    "run_type = 1\n",
    "#run_type =  0 - lite run with no reporting, not recommended.\n",
    "#run_type =  1 - lite run with normal reporting, default setting.\n",
    "#run_type =  2 - Heavy run with full reporting, available for audits and troubleshooting.\n",
    "\n",
    "specialchars = \"-GTHtest\"\n",
    "# optional - add up to a 12 character code in order to mark your instance record .ipynb\n",
    "\n",
    "from datetime import datetime\n",
    "inst_datetime = datetime.now().strftime(\"%m%d%Y%H%M%S\")\n",
    "# a single datetime stamp for the full instance run\n"
   ]
  },
  {
   "cell_type": "code",
   "execution_count": 2,
   "id": "c4c4ca03",
   "metadata": {
    "execution": {
     "iopub.execute_input": "2021-06-15T18:02:59.296514Z",
     "iopub.status.busy": "2021-06-15T18:02:59.296514Z",
     "iopub.status.idle": "2021-06-15T18:02:59.312167Z",
     "shell.execute_reply": "2021-06-15T18:02:59.312167Z"
    },
    "papermill": {
     "duration": 0.285485,
     "end_time": "2021-06-15T18:02:59.312167",
     "exception": false,
     "start_time": "2021-06-15T18:02:59.026682",
     "status": "completed"
    },
    "tags": [
     "injected-parameters"
    ]
   },
   "outputs": [],
   "source": [
    "# Parameters\n",
    "run_control = 1\n",
    "percode = \"2021.Q1\"\n",
    "commit_message = \"Live run, add DE Allocations\"\n",
    "inst_datetime = \"06152021135514\"\n"
   ]
  },
  {
   "cell_type": "markdown",
   "id": "5df3b754",
   "metadata": {
    "papermill": {
     "duration": 0.23106,
     "end_time": "2021-06-15T18:02:59.774960",
     "exception": false,
     "start_time": "2021-06-15T18:02:59.543900",
     "status": "completed"
    },
    "tags": []
   },
   "source": [
    "### Set Run Control\n",
    "\n",
    "##### 0 - lite run with no reporting, not recommended.\n",
    "##### 1 - lite run with normal reporting, default setting.\n",
    "##### 2 - Heavy run with full reporting, available for audits and troubleshooting."
   ]
  },
  {
   "cell_type": "code",
   "execution_count": 3,
   "id": "2a6e6e43",
   "metadata": {
    "execution": {
     "iopub.execute_input": "2021-06-15T18:03:00.345960Z",
     "iopub.status.busy": "2021-06-15T18:03:00.344965Z",
     "iopub.status.idle": "2021-06-15T18:03:00.351959Z",
     "shell.execute_reply": "2021-06-15T18:03:00.352962Z"
    },
    "papermill": {
     "duration": 0.310989,
     "end_time": "2021-06-15T18:03:00.353961",
     "exception": false,
     "start_time": "2021-06-15T18:03:00.042972",
     "status": "completed"
    },
    "pycharm": {
     "name": "#%%\n"
    },
    "tags": []
   },
   "outputs": [],
   "source": [
    "run_control = 0 # in development mode"
   ]
  },
  {
   "cell_type": "markdown",
   "id": "2a1db68a",
   "metadata": {
    "papermill": {
     "duration": 0.263667,
     "end_time": "2021-06-15T18:03:00.936204",
     "exception": false,
     "start_time": "2021-06-15T18:03:00.672537",
     "status": "completed"
    },
    "tags": []
   },
   "source": [
    "#### Packages used"
   ]
  },
  {
   "cell_type": "code",
   "execution_count": 4,
   "id": "71c15c96",
   "metadata": {
    "execution": {
     "iopub.execute_input": "2021-06-15T18:03:01.556251Z",
     "iopub.status.busy": "2021-06-15T18:03:01.554247Z",
     "iopub.status.idle": "2021-06-15T18:03:05.758284Z",
     "shell.execute_reply": "2021-06-15T18:03:05.759273Z"
    },
    "papermill": {
     "duration": 4.496049,
     "end_time": "2021-06-15T18:03:05.760274",
     "exception": false,
     "start_time": "2021-06-15T18:03:01.264225",
     "status": "completed"
    },
    "pycharm": {
     "name": "#%%\n"
    },
    "tags": []
   },
   "outputs": [],
   "source": [
    "import sys\n",
    "import os\n",
    "import pandas as pd"
   ]
  },
  {
   "cell_type": "code",
   "execution_count": 5,
   "id": "6a07977f",
   "metadata": {
    "execution": {
     "iopub.execute_input": "2021-06-15T18:03:06.382608Z",
     "iopub.status.busy": "2021-06-15T18:03:06.376573Z",
     "iopub.status.idle": "2021-06-15T18:03:06.386569Z",
     "shell.execute_reply": "2021-06-15T18:03:06.386569Z"
    },
    "papermill": {
     "duration": 0.34429,
     "end_time": "2021-06-15T18:03:06.387583",
     "exception": false,
     "start_time": "2021-06-15T18:03:06.043293",
     "status": "completed"
    },
    "pycharm": {
     "name": "#%%\n"
    },
    "tags": []
   },
   "outputs": [],
   "source": [
    "default_DC = \"2021.Q1\"\n",
    "\n",
    "try:\n",
    "    if sys.argv[1] == \"-f\":\n",
    "        percode = default_DC\n",
    "    else:\n",
    "        percode = sys.argv[1]\n",
    "\n",
    "except IndexError:\n",
    "    percode = default_DC\n",
    "except NameError:\n",
    "    percode = default_DC"
   ]
  },
  {
   "cell_type": "markdown",
   "id": "dfbd4db6",
   "metadata": {
    "papermill": {
     "duration": 0.215667,
     "end_time": "2021-06-15T18:03:06.826233",
     "exception": false,
     "start_time": "2021-06-15T18:03:06.610566",
     "status": "completed"
    },
    "tags": []
   },
   "source": [
    "#### Convert paths and files to variables.\n",
    "#### Read data into pd DataFrames.\n",
    "#### Make paths for the live sources."
   ]
  },
  {
   "cell_type": "code",
   "execution_count": 6,
   "id": "b7ef8a1b",
   "metadata": {
    "execution": {
     "iopub.execute_input": "2021-06-15T18:03:07.362449Z",
     "iopub.status.busy": "2021-06-15T18:03:07.361450Z",
     "iopub.status.idle": "2021-06-15T18:03:07.368450Z",
     "shell.execute_reply": "2021-06-15T18:03:07.370451Z"
    },
    "papermill": {
     "duration": 0.298201,
     "end_time": "2021-06-15T18:03:07.370451",
     "exception": false,
     "start_time": "2021-06-15T18:03:07.072250",
     "status": "completed"
    },
    "pycharm": {
     "name": "#%%\n"
    },
    "tags": []
   },
   "outputs": [],
   "source": [
    "rt_path = os.path.join('\\\\\\\\hecate\\\\Insurance_US\\\\Product Development\\\\Product Management\\\\Global PPM\\\\Reporting\\\\Data Collection\\\\Production',percode)\n",
    "\n",
    "tempfile = os.path.join(rt_path, f'{percode}.localcur.csv')\n",
    "\n",
    "gppm_file = os.path.join(rt_path, f'GPPM_Input_{str(percode)}.xlsx')\n",
    "\n"
   ]
  },
  {
   "cell_type": "markdown",
   "id": "b3633105",
   "metadata": {
    "papermill": {
     "duration": 0.282052,
     "end_time": "2021-06-15T18:03:07.876615",
     "exception": false,
     "start_time": "2021-06-15T18:03:07.594563",
     "status": "completed"
    },
    "tags": []
   },
   "source": [
    "### Make Files"
   ]
  },
  {
   "cell_type": "code",
   "execution_count": 7,
   "id": "80760460",
   "metadata": {
    "execution": {
     "iopub.execute_input": "2021-06-15T18:03:08.466988Z",
     "iopub.status.busy": "2021-06-15T18:03:08.465988Z",
     "iopub.status.idle": "2021-06-15T18:03:08.472988Z",
     "shell.execute_reply": "2021-06-15T18:03:08.473988Z"
    },
    "papermill": {
     "duration": 0.312017,
     "end_time": "2021-06-15T18:03:08.474988",
     "exception": false,
     "start_time": "2021-06-15T18:03:08.162971",
     "status": "completed"
    },
    "tags": []
   },
   "outputs": [],
   "source": [
    "local_file = f'{percode}.localcur.csv'\n",
    "euro_file = f'{percode}.euroconv.csv'\n",
    "\n"
   ]
  },
  {
   "cell_type": "markdown",
   "id": "5d594575",
   "metadata": {
    "papermill": {
     "duration": 0.268751,
     "end_time": "2021-06-15T18:03:08.958887",
     "exception": false,
     "start_time": "2021-06-15T18:03:08.690136",
     "status": "completed"
    },
    "tags": []
   },
   "source": [
    "#### Read source"
   ]
  },
  {
   "cell_type": "code",
   "execution_count": 8,
   "id": "3dac05df",
   "metadata": {
    "execution": {
     "iopub.execute_input": "2021-06-15T18:03:10.132241Z",
     "iopub.status.busy": "2021-06-15T18:03:10.128240Z",
     "iopub.status.idle": "2021-06-15T18:03:41.603287Z",
     "shell.execute_reply": "2021-06-15T18:03:41.606288Z"
    },
    "papermill": {
     "duration": 32.094374,
     "end_time": "2021-06-15T18:03:41.607291",
     "exception": false,
     "start_time": "2021-06-15T18:03:09.512917",
     "status": "completed"
    },
    "pycharm": {
     "name": "#%%\n"
    },
    "tags": []
   },
   "outputs": [],
   "source": [
    "\n",
    "mo_input = pd.read_csv(tempfile,  encoding='utf-8', engine='python')\n",
    "\n",
    "\n",
    "\"\"\"reads in the input for the Euro conversion\"\"\"\n",
    "euro = pd.read_excel(gppm_file, sheet_name=\"Euro_Rates\")\n"
   ]
  },
  {
   "cell_type": "markdown",
   "id": "169a2974",
   "metadata": {
    "papermill": {
     "duration": 1.176765,
     "end_time": "2021-06-15T18:03:44.112000",
     "exception": false,
     "start_time": "2021-06-15T18:03:42.935235",
     "status": "completed"
    },
    "tags": []
   },
   "source": [
    "#### Output local currency csv"
   ]
  },
  {
   "cell_type": "code",
   "execution_count": 9,
   "id": "d363d3d5",
   "metadata": {
    "execution": {
     "iopub.execute_input": "2021-06-15T18:03:45.036316Z",
     "iopub.status.busy": "2021-06-15T18:03:45.028206Z",
     "iopub.status.idle": "2021-06-15T18:04:29.674270Z",
     "shell.execute_reply": "2021-06-15T18:04:29.675263Z"
    },
    "papermill": {
     "duration": 45.112011,
     "end_time": "2021-06-15T18:04:29.676265",
     "exception": false,
     "start_time": "2021-06-15T18:03:44.564254",
     "status": "completed"
    },
    "pycharm": {
     "is_executing": true,
     "name": "#%%\n"
    },
    "tags": []
   },
   "outputs": [],
   "source": [
    "mo_input.to_csv(os.path.join(rt_path,local_file), ',', index=False, encoding='utf-8-sig')"
   ]
  },
  {
   "cell_type": "markdown",
   "id": "aff66881",
   "metadata": {
    "papermill": {
     "duration": 0.26922,
     "end_time": "2021-06-15T18:04:30.246072",
     "exception": false,
     "start_time": "2021-06-15T18:04:29.976852",
     "status": "completed"
    },
    "tags": []
   },
   "source": [
    "#### Convert all currency to Euro\n"
   ]
  },
  {
   "cell_type": "code",
   "execution_count": 10,
   "id": "97da020c",
   "metadata": {
    "execution": {
     "iopub.execute_input": "2021-06-15T18:04:30.805105Z",
     "iopub.status.busy": "2021-06-15T18:04:30.804106Z",
     "iopub.status.idle": "2021-06-15T18:04:30.810107Z",
     "shell.execute_reply": "2021-06-15T18:04:30.812107Z"
    },
    "papermill": {
     "duration": 0.346008,
     "end_time": "2021-06-15T18:04:30.813112",
     "exception": false,
     "start_time": "2021-06-15T18:04:30.467104",
     "status": "completed"
    },
    "pycharm": {
     "is_executing": true,
     "name": "#%%\n"
    },
    "tags": []
   },
   "outputs": [],
   "source": [
    "\n",
    "\n",
    "cflds = ['written_revenues_net_of_taxes', 'written_revenues', 'earned_revenues_net_of_taxes',\n",
    "         'earned_revenues', 'earned_base_commissions', 'earned_over_commissions', 'upfront_cash_payments',\n",
    "         'total_compensation', 'paid_claims', 'ocr__ibnr', 'actual_incurred_losses',\n",
    "         'internal_variable_costs', 'az_tech_fee', 'internal_fixed_costs',\n",
    "         'hq_fees', 'total_expenses', 'risk_premium', 'profit_or_loss', 'cm_hq_view', 'cm_bu_view', ]\n",
    "\n",
    "alt_cflds = ['written_revenues_net_of_taxes', 'written_revenues', 'earned_revenues_net_of_taxes',\n",
    "         'earned_revenues', 'earned_base_commissions', 'earned_over-commissions', 'upfront_cash_payments',\n",
    "         'total_compensation', 'paid_claims', 'ocr_+_ibnr','actual_incurred_losses_(paid_+_ocr_+_ibnr)',\n",
    "         'internal_variable_costs_(excl._az_tech_fee)', 'az_tech_fee', 'internal_fixed_costs_(excl._hq_fees)',\n",
    "         'hq_fees', 'total_expenses', 'risk_premium', 'profit_or_loss', 'contribution_margin_-_hq_view', 'contribution_margin_-_bu_view', ]\n",
    "\n",
    "\n",
    "\n"
   ]
  },
  {
   "cell_type": "markdown",
   "id": "cb43d4a8",
   "metadata": {
    "papermill": {
     "duration": 0.237601,
     "end_time": "2021-06-15T18:04:31.287733",
     "exception": false,
     "start_time": "2021-06-15T18:04:31.050132",
     "status": "completed"
    },
    "tags": []
   },
   "source": [
    "#### Make a copy for debug purposes"
   ]
  },
  {
   "cell_type": "code",
   "execution_count": 11,
   "id": "e7cbaef4",
   "metadata": {
    "execution": {
     "iopub.execute_input": "2021-06-15T18:04:31.906983Z",
     "iopub.status.busy": "2021-06-15T18:04:31.904984Z",
     "iopub.status.idle": "2021-06-15T18:04:31.920984Z",
     "shell.execute_reply": "2021-06-15T18:04:31.923982Z"
    },
    "papermill": {
     "duration": 0.326017,
     "end_time": "2021-06-15T18:04:31.924982",
     "exception": false,
     "start_time": "2021-06-15T18:04:31.598965",
     "status": "completed"
    },
    "pycharm": {
     "is_executing": true,
     "name": "#%%\n"
    },
    "tags": []
   },
   "outputs": [],
   "source": [
    "trandata = mo_input.copy()"
   ]
  },
  {
   "cell_type": "markdown",
   "id": "37344d4a",
   "metadata": {
    "papermill": {
     "duration": 0.313208,
     "end_time": "2021-06-15T18:04:32.490901",
     "exception": false,
     "start_time": "2021-06-15T18:04:32.177693",
     "status": "completed"
    },
    "tags": []
   },
   "source": [
    "#### Convert Currency Below"
   ]
  },
  {
   "cell_type": "code",
   "execution_count": 12,
   "id": "16395e57",
   "metadata": {
    "execution": {
     "iopub.execute_input": "2021-06-15T18:04:33.070863Z",
     "iopub.status.busy": "2021-06-15T18:04:33.067863Z",
     "iopub.status.idle": "2021-06-15T18:04:33.071863Z",
     "shell.execute_reply": "2021-06-15T18:04:33.068865Z"
    },
    "papermill": {
     "duration": 0.302766,
     "end_time": "2021-06-15T18:04:33.074867",
     "exception": false,
     "start_time": "2021-06-15T18:04:32.772101",
     "status": "completed"
    },
    "pycharm": {
     "is_executing": true,
     "name": "#%%\n"
    },
    "tags": []
   },
   "outputs": [],
   "source": [
    "# create DataFrame of unique currencies with rates\n",
    "\n",
    "fx_uni = euro[['CURR_CODE','RATE']]\n",
    "fx_uni = fx_uni.drop_duplicates()"
   ]
  },
  {
   "cell_type": "code",
   "execution_count": 13,
   "id": "c1593244",
   "metadata": {
    "execution": {
     "iopub.execute_input": "2021-06-15T18:04:35.311961Z",
     "iopub.status.busy": "2021-06-15T18:04:35.302958Z",
     "iopub.status.idle": "2021-06-15T18:04:35.450968Z",
     "shell.execute_reply": "2021-06-15T18:04:35.452966Z"
    },
    "papermill": {
     "duration": 0.508024,
     "end_time": "2021-06-15T18:04:35.452966",
     "exception": false,
     "start_time": "2021-06-15T18:04:34.944942",
     "status": "completed"
    },
    "pycharm": {
     "is_executing": true,
     "name": "#%%\n"
    },
    "tags": []
   },
   "outputs": [],
   "source": [
    "# add euro conversion rates to trandata DataFrame as column 'eur_rate'\n",
    "\n",
    "fx_uni = fx_uni.rename(columns = {\"CURR_CODE\":\"currency\"})\n",
    "\n",
    "eurdata = trandata.merge(fx_uni, how='left', left_on='currency', right_on='currency')\n",
    "\n",
    "\n",
    "trandata['eur_rate'] = eurdata['RATE']\n"
   ]
  },
  {
   "cell_type": "markdown",
   "id": "2d98520a",
   "metadata": {
    "papermill": {
     "duration": 0.245662,
     "end_time": "2021-06-15T18:04:35.962970",
     "exception": false,
     "start_time": "2021-06-15T18:04:35.717308",
     "status": "completed"
    },
    "tags": []
   },
   "source": [
    "#### Convert currency fields"
   ]
  },
  {
   "cell_type": "code",
   "execution_count": 14,
   "id": "c60c1cd4",
   "metadata": {
    "execution": {
     "iopub.execute_input": "2021-06-15T18:04:36.464595Z",
     "iopub.status.busy": "2021-06-15T18:04:36.463593Z",
     "iopub.status.idle": "2021-06-15T18:04:36.963672Z",
     "shell.execute_reply": "2021-06-15T18:04:36.965671Z"
    },
    "papermill": {
     "duration": 0.760095,
     "end_time": "2021-06-15T18:04:36.965671",
     "exception": false,
     "start_time": "2021-06-15T18:04:36.205576",
     "status": "completed"
    },
    "pycharm": {
     "is_executing": true,
     "name": "#%%\n"
    },
    "tags": []
   },
   "outputs": [],
   "source": [
    "try:\n",
    "    trandata[cflds] = trandata[cflds].divide(trandata['eur_rate'], axis=\"index\").fillna(0)\n",
    "\n",
    "except KeyError:\n",
    "    trandata[alt_cflds] = trandata[alt_cflds].divide(trandata['eur_rate'], axis=\"index\").fillna(0)\n",
    "\n",
    "    \n"
   ]
  },
  {
   "cell_type": "markdown",
   "id": "ff7b820c",
   "metadata": {
    "papermill": {
     "duration": 0.220978,
     "end_time": "2021-06-15T18:04:37.410701",
     "exception": false,
     "start_time": "2021-06-15T18:04:37.189723",
     "status": "completed"
    },
    "tags": []
   },
   "source": [
    "#### Output to {percode}.euroconv.csv"
   ]
  },
  {
   "cell_type": "code",
   "execution_count": 15,
   "id": "324116df",
   "metadata": {
    "execution": {
     "iopub.execute_input": "2021-06-15T18:04:37.954993Z",
     "iopub.status.busy": "2021-06-15T18:04:37.951994Z",
     "iopub.status.idle": "2021-06-15T18:05:34.332563Z",
     "shell.execute_reply": "2021-06-15T18:05:34.333554Z"
    },
    "papermill": {
     "duration": 56.665181,
     "end_time": "2021-06-15T18:05:34.334551",
     "exception": false,
     "start_time": "2021-06-15T18:04:37.669370",
     "status": "completed"
    },
    "pycharm": {
     "is_executing": true,
     "name": "#%%\n"
    },
    "tags": []
   },
   "outputs": [],
   "source": [
    "trandata.to_csv( os.path.join(   rt_path , euro_file) , ',', index=False, encoding='utf-8-sig')\n"
   ]
  },
  {
   "cell_type": "code",
   "execution_count": 16,
   "id": "8c332582",
   "metadata": {
    "execution": {
     "iopub.execute_input": "2021-06-15T18:05:35.051597Z",
     "iopub.status.busy": "2021-06-15T18:05:35.049598Z",
     "iopub.status.idle": "2021-06-15T18:05:35.054604Z",
     "shell.execute_reply": "2021-06-15T18:05:35.055637Z"
    },
    "papermill": {
     "duration": 0.397062,
     "end_time": "2021-06-15T18:05:35.055637",
     "exception": false,
     "start_time": "2021-06-15T18:05:34.658575",
     "status": "completed"
    },
    "tags": []
   },
   "outputs": [],
   "source": [
    "#### Store the DataFrame for other notebooks to use and open the file location for the user to view the new files"
   ]
  },
  {
   "cell_type": "code",
   "execution_count": 17,
   "id": "05b5f32d",
   "metadata": {
    "execution": {
     "iopub.execute_input": "2021-06-15T18:05:35.639184Z",
     "iopub.status.busy": "2021-06-15T18:05:35.636187Z",
     "iopub.status.idle": "2021-06-15T18:05:36.130350Z",
     "shell.execute_reply": "2021-06-15T18:05:36.132350Z"
    },
    "papermill": {
     "duration": 0.854733,
     "end_time": "2021-06-15T18:05:36.132350",
     "exception": false,
     "start_time": "2021-06-15T18:05:35.277617",
     "status": "completed"
    },
    "tags": []
   },
   "outputs": [
    {
     "name": "stdout",
     "output_type": "stream",
     "text": [
      "Stored 'mo_df' (DataFrame)\n"
     ]
    }
   ],
   "source": [
    "mo_df = trandata\n",
    "\n",
    "%store mo_df\n",
    "\n",
    "\n",
    "os.startfile( rt_path   )\n",
    "\n"
   ]
  },
  {
   "cell_type": "code",
   "execution_count": null,
   "id": "78cf26cf",
   "metadata": {
    "papermill": {
     "duration": 0.281808,
     "end_time": "2021-06-15T18:05:38.328307",
     "exception": false,
     "start_time": "2021-06-15T18:05:38.046499",
     "status": "completed"
    },
    "tags": []
   },
   "outputs": [],
   "source": []
  }
 ],
 "metadata": {
  "celltoolbar": "Tags",
  "kernelspec": {
   "display_name": "Python 3",
   "language": "python",
   "name": "python3"
  },
  "language_info": {
   "codemirror_mode": {
    "name": "ipython",
    "version": 3
   },
   "file_extension": ".py",
   "mimetype": "text/x-python",
   "name": "python",
   "nbconvert_exporter": "python",
   "pygments_lexer": "ipython3",
   "version": "3.7.6"
  },
  "papermill": {
   "default_parameters": {},
   "duration": 176.296601,
   "end_time": "2021-06-15T18:05:39.225446",
   "environment_variables": {},
   "exception": null,
   "input_path": "pipeline/make_output.ipynb",
   "output_path": "//hecate/Insurance_US/Product Development/Product Management/Global PPM/Reporting/Data Collection/Pipeline Reporting Scripts/GPMpipeline/instances/2021.Q1\\pipeline\\make_output06152021135514--live DE Allocations.ipynb",
   "parameters": {
    "commit_message": "Live run, add DE Allocations",
    "inst_datetime": "06152021135514",
    "percode": "2021.Q1",
    "run_control": 1
   },
   "start_time": "2021-06-15T18:02:42.928845",
   "version": "2.3.3"
  }
 },
 "nbformat": 4,
 "nbformat_minor": 5
}