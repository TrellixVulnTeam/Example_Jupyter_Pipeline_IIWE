{
 "cells": [
  {
   "cell_type": "markdown",
   "id": "22acf65a",
   "metadata": {
    "papermill": {
     "duration": 0.328763,
     "end_time": "2021-06-02T20:09:30.181440",
     "exception": false,
     "start_time": "2021-06-02T20:09:29.852677",
     "status": "completed"
    },
    "pycharm": {
     "name": "#%% md\n"
    },
    "tags": []
   },
   "source": [
    "<img src=\"../images/AzPTravel_PPM.png\">"
   ]
  },
  {
   "cell_type": "markdown",
   "id": "7aec0a5a",
   "metadata": {
    "collapsed": true,
    "papermill": {
     "duration": 0.296457,
     "end_time": "2021-06-02T20:09:30.852026",
     "exception": false,
     "start_time": "2021-06-02T20:09:30.555569",
     "status": "completed"
    },
    "pycharm": {
     "name": "#%% md\n"
    },
    "tags": []
   },
   "source": [
    "## GPM Data Transformation Script\n",
    "\n",
    "#### This script transforms the single consolidated raw file \"{Data Collection}.csv\" into it's final GPM input versions \"{Data Collection Code}localcur.csv\" and \"{Data Collection Code}euroconv.csv\"\n",
    "#### Current transformations\n",
    "\n",
    "-    make headers lowercase and replace spaces with hyphens\n",
    "-    Remove any rows with null BUs\n",
    "-    validate columns in validcols\n",
    "-    output documented here: \"Global_Attribute_Catalog.xlsx\" you can also edit dataframe entries using the instructions in the file\n",
    "-    replace various null or placeholder values with \"Not Provided\"\n"
   ]
  },
  {
   "cell_type": "markdown",
   "id": "78d5715b",
   "metadata": {
    "papermill": {
     "duration": 0.297518,
     "end_time": "2021-06-02T20:09:31.455301",
     "exception": false,
     "start_time": "2021-06-02T20:09:31.157783",
     "status": "completed"
    },
    "tags": []
   },
   "source": [
    "###"
   ]
  },
  {
   "cell_type": "code",
   "execution_count": 1,
   "id": "ee3e9b43",
   "metadata": {
    "execution": {
     "iopub.execute_input": "2021-06-02T20:09:32.111815Z",
     "iopub.status.busy": "2021-06-02T20:09:32.108813Z",
     "iopub.status.idle": "2021-06-02T20:09:32.115816Z",
     "shell.execute_reply": "2021-06-02T20:09:32.132818Z"
    },
    "papermill": {
     "duration": 0.371,
     "end_time": "2021-06-02T20:09:32.132818",
     "exception": false,
     "start_time": "2021-06-02T20:09:31.761818",
     "status": "completed"
    },
    "pycharm": {
     "name": "#%%\n"
    },
    "tags": [
     "parameters"
    ]
   },
   "outputs": [],
   "source": [
    "commit = \"\"\n",
    "# give a reason for the run\n",
    "\n",
    "percode = \"20XX.QX\"\n",
    "# Data Collection Code, this controls file paths and output names\n",
    "\n",
    "run_type = 1\n",
    "#run_type =  0 - lite run with no reporting, not recommended.\n",
    "#run_type =  1 - lite run with normal reporting, default setting.\n",
    "#run_type =  2 - Heavy run with full reporting, available for audits and troubleshooting.\n",
    "\n",
    "specialchars = \"-GTHtest\"\n",
    "# optional - add up to a 12 character code in order to mark your instance record .ipynb\n",
    "\n",
    "from datetime import datetime\n",
    "inst_datetime = datetime.now().strftime(\"%m%d%Y%H%M%S\")\n",
    "# a single datetime stamp for the full instance run\n"
   ]
  },
  {
   "cell_type": "code",
   "execution_count": 2,
   "id": "08cfd095",
   "metadata": {
    "execution": {
     "iopub.execute_input": "2021-06-02T20:09:32.843414Z",
     "iopub.status.busy": "2021-06-02T20:09:32.841414Z",
     "iopub.status.idle": "2021-06-02T20:09:32.848416Z",
     "shell.execute_reply": "2021-06-02T20:09:32.849413Z"
    },
    "papermill": {
     "duration": 0.369595,
     "end_time": "2021-06-02T20:09:32.850417",
     "exception": false,
     "start_time": "2021-06-02T20:09:32.480822",
     "status": "completed"
    },
    "tags": [
     "injected-parameters"
    ]
   },
   "outputs": [],
   "source": [
    "# Parameters\n",
    "run_control = 1\n",
    "percode = \"2021.Q1\"\n",
    "commit_message = \"Live run, added AT, bad file name, rerun.\"\n",
    "inst_datetime = \"06022021160438\"\n"
   ]
  },
  {
   "cell_type": "markdown",
   "id": "5980d54c",
   "metadata": {
    "papermill": {
     "duration": 0.380571,
     "end_time": "2021-06-02T20:09:33.576985",
     "exception": false,
     "start_time": "2021-06-02T20:09:33.196414",
     "status": "completed"
    },
    "tags": []
   },
   "source": [
    "### Set Run Control\n",
    "\n",
    "##### 0 - lite run with no reporting, not recommended.\n",
    "##### 1 - lite run with normal reporting, default setting.\n",
    "##### 2 - Heavy run with full reporting, available for audits and troubleshooting."
   ]
  },
  {
   "cell_type": "code",
   "execution_count": 3,
   "id": "d72d5e99",
   "metadata": {
    "execution": {
     "iopub.execute_input": "2021-06-02T20:09:34.226508Z",
     "iopub.status.busy": "2021-06-02T20:09:34.224511Z",
     "iopub.status.idle": "2021-06-02T20:09:34.231515Z",
     "shell.execute_reply": "2021-06-02T20:09:34.233509Z"
    },
    "papermill": {
     "duration": 0.337527,
     "end_time": "2021-06-02T20:09:34.233509",
     "exception": false,
     "start_time": "2021-06-02T20:09:33.895982",
     "status": "completed"
    },
    "pycharm": {
     "name": "#%%\n"
    },
    "tags": []
   },
   "outputs": [],
   "source": [
    "run_control = 0  # in development mode"
   ]
  },
  {
   "cell_type": "code",
   "execution_count": 4,
   "id": "2e6f243d",
   "metadata": {
    "execution": {
     "iopub.execute_input": "2021-06-02T20:09:34.851141Z",
     "iopub.status.busy": "2021-06-02T20:09:34.847138Z",
     "iopub.status.idle": "2021-06-02T20:09:37.831022Z",
     "shell.execute_reply": "2021-06-02T20:09:37.832013Z"
    },
    "papermill": {
     "duration": 3.291939,
     "end_time": "2021-06-02T20:09:37.833014",
     "exception": false,
     "start_time": "2021-06-02T20:09:34.541075",
     "status": "completed"
    },
    "pycharm": {
     "name": "#%%\n"
    },
    "tags": []
   },
   "outputs": [],
   "source": [
    "#### Packages used\n",
    "import sys\n",
    "import os\n",
    "import pandas as pd\n",
    "from pandas import ExcelWriter\n",
    "from numpy import nan"
   ]
  },
  {
   "cell_type": "code",
   "execution_count": 5,
   "id": "98f3c0cc",
   "metadata": {
    "execution": {
     "iopub.execute_input": "2021-06-02T20:09:38.464353Z",
     "iopub.status.busy": "2021-06-02T20:09:38.462357Z",
     "iopub.status.idle": "2021-06-02T20:09:38.469347Z",
     "shell.execute_reply": "2021-06-02T20:09:38.471346Z"
    },
    "papermill": {
     "duration": 0.356999,
     "end_time": "2021-06-02T20:09:38.471346",
     "exception": false,
     "start_time": "2021-06-02T20:09:38.114347",
     "status": "completed"
    },
    "pycharm": {
     "name": "#%%\n"
    },
    "tags": []
   },
   "outputs": [],
   "source": [
    "default_dc = \"2021.Q1\"\n",
    "\n",
    "try:\n",
    "    if sys.argv[1] == \"-f\":\n",
    "        percode = default_dc\n",
    "    else:\n",
    "        percode = sys.argv[1]\n",
    "\n",
    "except IndexError:\n",
    "    percode = default_dc\n",
    "except NameError:\n",
    "    percode = default_dc"
   ]
  },
  {
   "cell_type": "markdown",
   "id": "afc30201",
   "metadata": {
    "papermill": {
     "duration": 0.315526,
     "end_time": "2021-06-02T20:09:39.089397",
     "exception": false,
     "start_time": "2021-06-02T20:09:38.773871",
     "status": "completed"
    },
    "tags": []
   },
   "source": [
    "#### style settings"
   ]
  },
  {
   "cell_type": "code",
   "execution_count": 6,
   "id": "3728aa45",
   "metadata": {
    "execution": {
     "iopub.execute_input": "2021-06-02T20:09:39.776329Z",
     "iopub.status.busy": "2021-06-02T20:09:39.775329Z",
     "iopub.status.idle": "2021-06-02T20:09:39.785329Z",
     "shell.execute_reply": "2021-06-02T20:09:39.786663Z"
    },
    "papermill": {
     "duration": 0.353848,
     "end_time": "2021-06-02T20:09:39.787329",
     "exception": false,
     "start_time": "2021-06-02T20:09:39.433481",
     "status": "completed"
    },
    "tags": []
   },
   "outputs": [],
   "source": [
    "from IPython.core.interactiveshell import InteractiveShell\n",
    "InteractiveShell.ast_node_interactivity = \"all\""
   ]
  },
  {
   "cell_type": "markdown",
   "id": "80edadae",
   "metadata": {
    "papermill": {
     "duration": 0.356507,
     "end_time": "2021-06-02T20:09:40.441461",
     "exception": false,
     "start_time": "2021-06-02T20:09:40.084954",
     "status": "completed"
    },
    "tags": []
   },
   "source": [
    "#### Convert paths and files to variables.\n",
    "#### Read data into pd DataFrames.\n",
    "#### Make paths for the live sources."
   ]
  },
  {
   "cell_type": "code",
   "execution_count": 7,
   "id": "1512f51a",
   "metadata": {
    "execution": {
     "iopub.execute_input": "2021-06-02T20:09:41.094708Z",
     "iopub.status.busy": "2021-06-02T20:09:41.092720Z",
     "iopub.status.idle": "2021-06-02T20:09:41.100719Z",
     "shell.execute_reply": "2021-06-02T20:09:41.101707Z"
    },
    "papermill": {
     "duration": 0.344684,
     "end_time": "2021-06-02T20:09:41.102705",
     "exception": false,
     "start_time": "2021-06-02T20:09:40.758021",
     "status": "completed"
    },
    "pycharm": {
     "name": "#%%\n"
    },
    "tags": []
   },
   "outputs": [],
   "source": [
    "rt_path = os.path.join( f'\\\\\\\\hecate\\\\Insurance_US\\\\Product Development\\\\Product Management\\\\Global PPM\\\\Reporting\\\\Data Collection\\\\Production',percode)\n",
    "\n",
    "infile = os.path.join(rt_path, f'{str(percode)}.parquet')\n",
    "gppm_file = os.path.join(rt_path, f'GPPM_Input_{str(percode)}.xlsx')\n",
    "atcat = os.path.join(rt_path, f'{percode}_Attribute_Catalog.xlsx')\n"
   ]
  },
  {
   "cell_type": "code",
   "execution_count": 8,
   "id": "c1936a19",
   "metadata": {
    "execution": {
     "iopub.execute_input": "2021-06-02T20:09:41.775870Z",
     "iopub.status.busy": "2021-06-02T20:09:41.773870Z",
     "iopub.status.idle": "2021-06-02T20:09:41.780878Z",
     "shell.execute_reply": "2021-06-02T20:09:41.781869Z"
    },
    "papermill": {
     "duration": 0.361351,
     "end_time": "2021-06-02T20:09:41.781869",
     "exception": false,
     "start_time": "2021-06-02T20:09:41.420518",
     "status": "completed"
    },
    "tags": []
   },
   "outputs": [],
   "source": [
    "#### Read input file\n",
    "\n",
    "#### This reads the consolidated file that will be transformed or a stored dataframe based on the execution method."
   ]
  },
  {
   "cell_type": "code",
   "execution_count": 9,
   "id": "b09b4b59",
   "metadata": {
    "execution": {
     "iopub.execute_input": "2021-06-02T20:09:42.478845Z",
     "iopub.status.busy": "2021-06-02T20:09:42.476846Z",
     "iopub.status.idle": "2021-06-02T20:09:42.697897Z",
     "shell.execute_reply": "2021-06-02T20:09:42.699896Z"
    },
    "papermill": {
     "duration": 0.583053,
     "end_time": "2021-06-02T20:09:42.700898",
     "exception": false,
     "start_time": "2021-06-02T20:09:42.117845",
     "status": "completed"
    },
    "pycharm": {
     "name": "#%%\n"
    },
    "tags": []
   },
   "outputs": [
    {
     "name": "stdout",
     "output_type": "stream",
     "text": [
      "                        Submission File Business Unit Country Currency  \\\n",
      "0      us_dat_at_+te_q1_2021_at.parquet            AT      AT      EUR   \n",
      "1      us_dat_at_+te_q1_2021_at.parquet            AT      AT      EUR   \n",
      "2      us_dat_at_+te_q1_2021_at.parquet            AT      AT      EUR   \n",
      "3      us_dat_at_+te_q1_2021_at.parquet            AT      AT      EUR   \n",
      "4      us_dat_at_+te_q1_2021_at.parquet            AT      AT      EUR   \n",
      "...                                 ...           ...     ...      ...   \n",
      "13749  us_dat_us_06022021154724.parquet            US      US      USD   \n",
      "13750  us_dat_us_06022021154724.parquet            US      US      USD   \n",
      "13751  us_dat_us_06022021154724.parquet            US      US      USD   \n",
      "13752  us_dat_us_06022021154724.parquet            US      US      USD   \n",
      "13753  us_dat_us_06022021154724.parquet            US      US      USD   \n",
      "\n",
      "                                Region Reporting Date From Reporting Date To  \\\n",
      "0      North, Central & Eastern Europe          2021-01-01        2021-03-31   \n",
      "1      North, Central & Eastern Europe          2021-01-01        2021-03-31   \n",
      "2      North, Central & Eastern Europe          2021-01-01        2021-03-31   \n",
      "3      North, Central & Eastern Europe          2021-01-01        2021-03-31   \n",
      "4      North, Central & Eastern Europe          2021-01-01        2021-03-31   \n",
      "...                                ...                 ...               ...   \n",
      "13749                    North America          2021-01-01        2021-03-31   \n",
      "13750                    North America          2021-01-01        2021-03-31   \n",
      "13751                    North America          2021-01-01        2021-03-31   \n",
      "13752                    North America          2021-01-01        2021-03-31   \n",
      "13753                    North America          2021-01-01        2021-03-31   \n",
      "\n",
      "      Date of Analysis Type of Analysis  Analysed Months  ...    comsub  \\\n",
      "0           2021-05-07     Year To Date              3.0  ...  0.000000   \n",
      "1           2021-05-07     Year To Date              3.0  ...  0.000000   \n",
      "2           2021-05-07     Year To Date              3.0  ...  0.000000   \n",
      "3           2021-05-07     Year To Date              3.0  ...  0.000000   \n",
      "4           2021-05-07     Year To Date              3.0  ...  0.000000   \n",
      "...                ...              ...              ...  ...       ...   \n",
      "13749       2021-04-30     Year To Date              3.0  ...  0.000000   \n",
      "13750       2021-04-30     Year To Date              3.0  ...  0.000000   \n",
      "13751       2021-04-30     Year To Date              3.0  ...  0.000000   \n",
      "13752       2021-04-30     Year To Date              3.0  ...  0.344545   \n",
      "13753       2021-04-30     Year To Date              3.0  ...  0.271429   \n",
      "\n",
      "         expsub  Reporting Date From INT Reporting Date To INT  \\\n",
      "0      0.000000                      NaN                   NaN   \n",
      "1      0.000000                      NaN                   NaN   \n",
      "2      0.000000                      NaN                   NaN   \n",
      "3      0.000000                      NaN                   NaN   \n",
      "4      0.000000                      NaN                   NaN   \n",
      "...         ...                      ...                   ...   \n",
      "13749  0.000000               20210101.0            20210331.0   \n",
      "13750  0.000000               20210101.0            20210331.0   \n",
      "13751  0.000000               20210101.0            20210331.0   \n",
      "13752  0.200909               20210101.0            20210331.0   \n",
      "13753  0.208571               20210101.0            20210331.0   \n",
      "\n",
      "      Date of Analysis INT                     Selected Fields for Duplicates  \\\n",
      "0                      NaN                                                NaN   \n",
      "1                      NaN                                                NaN   \n",
      "2                      NaN                                                NaN   \n",
      "3                      NaN                                                NaN   \n",
      "4                      NaN                                                NaN   \n",
      "...                    ...                                                ...   \n",
      "13749           20210430.0  USInsuranceLocalB2B2CTravelOffline Travel Agen...   \n",
      "13750           20210430.0  USInsuranceLocalB2B2CTravelOffline Travel Agen...   \n",
      "13751           20210430.0  USInsuranceLocalB2B2CTravelOffline Travel Agen...   \n",
      "13752           20210430.0  USInsuranceLocalB2B2CTravelOffline Travel Agen...   \n",
      "13753           20210430.0  USInsuranceLocalB2B2CTravelOffline Travel Agen...   \n",
      "\n",
      "      ibnrsub Identifier to pull in results from Data tab Unnamed: 67  \\\n",
      "0         NaN                                         NaN         NaN   \n",
      "1         NaN                                         NaN         NaN   \n",
      "2         NaN                                         NaN         NaN   \n",
      "3         NaN                                         NaN         NaN   \n",
      "4         NaN                                         NaN         NaN   \n",
      "...       ...                                         ...         ...   \n",
      "13749     0.0                           314666064x1004320         0.0   \n",
      "13750     0.0                           315460246x1005115         0.0   \n",
      "13751     0.0                           319820436x1003748         0.0   \n",
      "13752     1.0                           319820436x1004320         0.0   \n",
      "13753     1.0                           319820436x1004534         0.0   \n",
      "\n",
      "      Unnamed: 68  \n",
      "0             NaN  \n",
      "1             NaN  \n",
      "2             NaN  \n",
      "3             NaN  \n",
      "4             NaN  \n",
      "...           ...  \n",
      "13749         0.0  \n",
      "13750         0.0  \n",
      "13751         0.0  \n",
      "13752         0.0  \n",
      "13753         0.0  \n",
      "\n",
      "[13754 rows x 79 columns]\n"
     ]
    }
   ],
   "source": [
    "try:\n",
    "    %store -r read_dc_df\n",
    "    input = read_dc_df\n",
    "        \n",
    "except:\n",
    "    input = pd.read_parquet(infile,engine = \"pyarrow\")\n",
    "    os.remove(infile)\n",
    "\n",
    "print(input)"
   ]
  },
  {
   "cell_type": "markdown",
   "id": "67eca0de",
   "metadata": {
    "papermill": {
     "duration": 0.306239,
     "end_time": "2021-06-02T20:09:43.315663",
     "exception": false,
     "start_time": "2021-06-02T20:09:43.009424",
     "status": "completed"
    },
    "tags": []
   },
   "source": [
    "#### Make a copy for debug purposes"
   ]
  },
  {
   "cell_type": "code",
   "execution_count": 10,
   "id": "5877d475",
   "metadata": {
    "execution": {
     "iopub.execute_input": "2021-06-02T20:09:43.977831Z",
     "iopub.status.busy": "2021-06-02T20:09:43.975965Z",
     "iopub.status.idle": "2021-06-02T20:09:43.994396Z",
     "shell.execute_reply": "2021-06-02T20:09:43.995389Z"
    },
    "papermill": {
     "duration": 0.336994,
     "end_time": "2021-06-02T20:09:43.995931",
     "exception": false,
     "start_time": "2021-06-02T20:09:43.658937",
     "status": "completed"
    },
    "pycharm": {
     "name": "#%%\n"
    },
    "tags": []
   },
   "outputs": [],
   "source": [
    "trandata = input.copy()"
   ]
  },
  {
   "cell_type": "markdown",
   "id": "a36bb4ab",
   "metadata": {
    "papermill": {
     "duration": 0.318001,
     "end_time": "2021-06-02T20:09:44.611563",
     "exception": false,
     "start_time": "2021-06-02T20:09:44.293562",
     "status": "completed"
    },
    "tags": []
   },
   "source": [
    "#### Format Headers"
   ]
  },
  {
   "cell_type": "code",
   "execution_count": 11,
   "id": "b7c6747c",
   "metadata": {
    "execution": {
     "iopub.execute_input": "2021-06-02T20:09:45.272819Z",
     "iopub.status.busy": "2021-06-02T20:09:45.267817Z",
     "iopub.status.idle": "2021-06-02T20:09:45.287817Z",
     "shell.execute_reply": "2021-06-02T20:09:45.288817Z"
    },
    "papermill": {
     "duration": 0.3601,
     "end_time": "2021-06-02T20:09:45.288817",
     "exception": false,
     "start_time": "2021-06-02T20:09:44.928717",
     "status": "completed"
    },
    "pycharm": {
     "name": "#%%\n"
    },
    "tags": []
   },
   "outputs": [
    {
     "data": {
      "text/plain": [
       "'format headers'"
      ]
     },
     "execution_count": 11,
     "metadata": {},
     "output_type": "execute_result"
    }
   ],
   "source": [
    "# save the column names to variable, format them, replace headers\n",
    "cols = trandata.columns.values\n",
    "\n",
    "\"\"\"format headers\"\"\"\n",
    "fixedcols = []\n",
    "\n",
    "for f in cols:\n",
    "    fixedhead = f.replace(' ', '_').lower()\n",
    "    fixedcols.append(fixedhead)\n",
    "\n",
    "trandata.columns = fixedcols"
   ]
  },
  {
   "cell_type": "markdown",
   "id": "c448d667",
   "metadata": {
    "papermill": {
     "duration": 0.398401,
     "end_time": "2021-06-02T20:09:46.000056",
     "exception": false,
     "start_time": "2021-06-02T20:09:45.601655",
     "status": "completed"
    },
    "pycharm": {
     "name": "#%% md\n"
    },
    "tags": []
   },
   "source": [
    "#### Update Verification 1"
   ]
  },
  {
   "cell_type": "code",
   "execution_count": 12,
   "id": "7be4dd4c",
   "metadata": {
    "execution": {
     "iopub.execute_input": "2021-06-02T20:09:46.688133Z",
     "iopub.status.busy": "2021-06-02T20:09:46.686136Z",
     "iopub.status.idle": "2021-06-02T20:09:46.898226Z",
     "shell.execute_reply": "2021-06-02T20:09:46.896753Z"
    },
    "papermill": {
     "duration": 0.555939,
     "end_time": "2021-06-02T20:09:46.898226",
     "exception": false,
     "start_time": "2021-06-02T20:09:46.342287",
     "status": "completed"
    },
    "pycharm": {
     "name": "#%%\n"
    },
    "tags": []
   },
   "outputs": [
    {
     "name": "stdout",
     "output_type": "stream",
     "text": [
      "|    | Original                                                        | Transformed                                                     |\n",
      "|---:|:----------------------------------------------------------------|:----------------------------------------------------------------|\n",
      "|  0 | Submission File                                                 | submission_file                                                 |\n",
      "|  1 | Business Unit                                                   | business_unit                                                   |\n",
      "|  2 | Country                                                         | country                                                         |\n",
      "|  3 | Currency                                                        | currency                                                        |\n",
      "|  4 | Region                                                          | region                                                          |\n",
      "|  5 | Reporting Date From                                             | reporting_date_from                                             |\n",
      "|  6 | Reporting Date To                                               | reporting_date_to                                               |\n",
      "|  7 | Date of Analysis                                                | date_of_analysis                                                |\n",
      "|  8 | Type of Analysis                                                | type_of_analysis                                                |\n",
      "|  9 | Analysed Months                                                 | analysed_months                                                 |\n",
      "| 10 | Reporting Year                                                  | reporting_year                                                  |\n",
      "| 11 | Reporting Quarter                                               | reporting_quarter                                               |\n",
      "| 12 | Reporting Month                                                 | reporting_month                                                 |\n",
      "| 13 | Type of Business                                                | type_of_business                                                |\n",
      "| 14 | Type of Account                                                 | type_of_account                                                 |\n",
      "| 15 | Distribution Type                                               | distribution_type                                               |\n",
      "| 16 | LOB                                                             | lob                                                             |\n",
      "| 17 | Distribution Channel                                            | distribution_channel                                            |\n",
      "| 18 | Sub LOB                                                         | sub_lob                                                         |\n",
      "| 19 | Business Partner Name                                           | business_partner_name                                           |\n",
      "| 20 | Business Partner ID Number                                      | business_partner_id_number                                      |\n",
      "| 21 | Product Name                                                    | product_name                                                    |\n",
      "| 22 | Product ID Number                                               | product_id_number                                               |\n",
      "| 23 | Product Family                                                  | product_family                                                  |\n",
      "| 24 | Standard Product                                                | standard_product                                                |\n",
      "| 25 | Number of Products per Row                                      | number_of_products_per_row                                      |\n",
      "| 26 | Number of B-Partners per Row                                    | number_of_b-partners_per_row                                    |\n",
      "| 27 | Number of Policies (Written)                                    | number_of_policies_(written)                                    |\n",
      "| 28 | Units of Risk (Written)                                         | units_of_risk_(written)                                         |\n",
      "| 29 | Written Revenues net of Taxes                                   | written_revenues_net_of_taxes                                   |\n",
      "| 30 | Written Revenues                                                | written_revenues                                                |\n",
      "| 31 | Number of Policies (Earned)                                     | number_of_policies_(earned)                                     |\n",
      "| 32 | Units of Risk (Earned)                                          | units_of_risk_(earned)                                          |\n",
      "| 33 | Earned Revenues net of Taxes                                    | earned_revenues_net_of_taxes                                    |\n",
      "| 34 | Earned Revenues                                                 | earned_revenues                                                 |\n",
      "| 35 | Earned Base Commissions                                         | earned_base_commissions                                         |\n",
      "| 36 | Earned Over-Commissions                                         | earned_over-commissions                                         |\n",
      "| 37 | Upfront Cash Payments                                           | upfront_cash_payments                                           |\n",
      "| 38 | Total Compensation                                              | total_compensation                                              |\n",
      "| 39 | Number of Claims (Paid + OCR + IBNR)                            | number_of_claims_(paid_+_ocr_+_ibnr)                            |\n",
      "| 40 | Number of Open Claims                                           | number_of_open_claims                                           |\n",
      "| 41 | Open Claims %                                                   | open_claims_%                                                   |\n",
      "| 42 | Number of Persons Involved in Claims (Paid + OCR + IBNR)        | number_of_persons_involved_in_claims_(paid_+_ocr_+_ibnr)        |\n",
      "| 43 | Paid Claims                                                     | paid_claims                                                     |\n",
      "| 44 | OCR + IBNR                                                      | ocr_+_ibnr                                                      |\n",
      "| 45 | % of IBNR on (OCR + IBNR)                                       | %_of_ibnr_on_(ocr_+_ibnr)                                       |\n",
      "| 46 | Actual Incurred Losses (Paid + OCR + IBNR)                      | actual_incurred_losses_(paid_+_ocr_+_ibnr)                      |\n",
      "| 47 | Internal Variable Costs (excl. AZ Tech Fee)                     | internal_variable_costs_(excl._az_tech_fee)                     |\n",
      "| 48 | AZ Tech Fee                                                     | az_tech_fee                                                     |\n",
      "| 49 | Internal Fixed Costs (excl. HQ Fees)                            | internal_fixed_costs_(excl._hq_fees)                            |\n",
      "| 50 | HQ Fees                                                         | hq_fees                                                         |\n",
      "| 51 | Total Expenses                                                  | total_expenses                                                  |\n",
      "| 52 | Frequency (Earned)                                              | frequency_(earned)                                              |\n",
      "| 53 | Severity                                                        | severity                                                        |\n",
      "| 54 | Risk Premium                                                    | risk_premium                                                    |\n",
      "| 55 | Contribution Margin - BU View                                   | contribution_margin_-_bu_view                                   |\n",
      "| 56 | Contribution Margin % on Fixed Costs - BU View                  | contribution_margin_%_on_fixed_costs_-_bu_view                  |\n",
      "| 57 | Contribution Margin % on Earned Revenues net of Taxes - BU View | contribution_margin_%_on_earned_revenues_net_of_taxes_-_bu_view |\n",
      "| 58 | Contribution Margin - HQ View                                   | contribution_margin_-_hq_view                                   |\n",
      "| 59 | Contribution Margin % on Fixed Costs - HQ View                  | contribution_margin_%_on_fixed_costs_-_hq_view                  |\n",
      "| 60 | Contribution Margin % on Earned Revenues net of Taxes - HQ View | contribution_margin_%_on_earned_revenues_net_of_taxes_-_hq_view |\n",
      "| 61 | Loss Ratio                                                      | loss_ratio                                                      |\n",
      "| 62 | Commission Ratio                                                | commission_ratio                                                |\n",
      "| 63 | Expense Ratio                                                   | expense_ratio                                                   |\n",
      "| 64 | Combined Ratio                                                  | combined_ratio                                                  |\n",
      "| 65 | Profit or Loss                                                  | profit_or_loss                                                  |\n",
      "| 66 | Notes                                                           | notes                                                           |\n",
      "| 67 | Unnamed: 66                                                     | unnamed:_66                                                     |\n",
      "| 68 | concat2                                                         | concat2                                                         |\n",
      "| 69 | comsub                                                          | comsub                                                          |\n",
      "| 70 | expsub                                                          | expsub                                                          |\n",
      "| 71 | Reporting Date From INT                                         | reporting_date_from_int                                         |\n",
      "| 72 | Reporting Date To INT                                           | reporting_date_to_int                                           |\n",
      "| 73 | Date of Analysis INT                                            | date_of_analysis_int                                            |\n",
      "| 74 | Selected Fields for Duplicates                                  | selected_fields_for_duplicates                                  |\n",
      "| 75 | ibnrsub                                                         | ibnrsub                                                         |\n",
      "| 76 | Identifier to pull in results from Data tab                     | identifier_to_pull_in_results_from_data_tab                     |\n",
      "| 77 | Unnamed: 67                                                     | unnamed:_67                                                     |\n",
      "| 78 | Unnamed: 68                                                     | unnamed:_68                                                     |\n"
     ]
    }
   ],
   "source": [
    "if run_control > -10:\n",
    "    disp = {\"Original\": input.columns, \"Transformed\": trandata.columns}\n",
    "\n",
    "    disp = pd.DataFrame(disp)\n",
    "\n",
    "    print(disp.to_markdown())\n",
    "else:\n",
    "    print(\"Skipped Transformation Report 1\")"
   ]
  },
  {
   "cell_type": "markdown",
   "id": "2f4fd080",
   "metadata": {
    "papermill": {
     "duration": 0.343669,
     "end_time": "2021-06-02T20:09:47.560045",
     "exception": false,
     "start_time": "2021-06-02T20:09:47.216376",
     "status": "completed"
    },
    "tags": []
   },
   "source": [
    "#### Remove rows with null business units\n"
   ]
  },
  {
   "cell_type": "code",
   "execution_count": 13,
   "id": "0d17219b",
   "metadata": {
    "execution": {
     "iopub.execute_input": "2021-06-02T20:09:48.249514Z",
     "iopub.status.busy": "2021-06-02T20:09:48.239515Z",
     "iopub.status.idle": "2021-06-02T20:09:48.267521Z",
     "shell.execute_reply": "2021-06-02T20:09:48.268519Z"
    },
    "papermill": {
     "duration": 0.379895,
     "end_time": "2021-06-02T20:09:48.268519",
     "exception": false,
     "start_time": "2021-06-02T20:09:47.888624",
     "status": "completed"
    },
    "pycharm": {
     "name": "#%%\n"
    },
    "tags": []
   },
   "outputs": [],
   "source": [
    "# todo, remove this from read file\n",
    "trandata = trandata[trandata.business_unit.notnull()]"
   ]
  },
  {
   "cell_type": "markdown",
   "id": "9bb4c76c",
   "metadata": {
    "papermill": {
     "duration": 0.344,
     "end_time": "2021-06-02T20:09:48.930513",
     "exception": false,
     "start_time": "2021-06-02T20:09:48.586513",
     "status": "completed"
    },
    "tags": []
   },
   "source": [
    "#### Update Verification 2"
   ]
  },
  {
   "cell_type": "code",
   "execution_count": 14,
   "id": "2e6b567d",
   "metadata": {
    "execution": {
     "iopub.execute_input": "2021-06-02T20:09:49.716635Z",
     "iopub.status.busy": "2021-06-02T20:09:49.713647Z",
     "iopub.status.idle": "2021-06-02T20:09:49.930612Z",
     "shell.execute_reply": "2021-06-02T20:09:49.931613Z"
    },
    "papermill": {
     "duration": 0.627708,
     "end_time": "2021-06-02T20:09:49.932610",
     "exception": false,
     "start_time": "2021-06-02T20:09:49.304902",
     "status": "completed"
    },
    "pycharm": {
     "name": "#%%\n"
    },
    "tags": []
   },
   "outputs": [
    {
     "name": "stdout",
     "output_type": "stream",
     "text": [
      "Row Counts\n",
      "|    | Business Unit   |   Original |   Transformed |\n",
      "|---:|:----------------|-----------:|--------------:|\n",
      "|  0 | AT              |        222 |           222 |\n",
      "|  1 | AU              |         53 |            53 |\n",
      "|  2 | CA              |         17 |            17 |\n",
      "|  3 | CH              |       3187 |          3187 |\n",
      "|  4 | CZ              |          7 |             7 |\n",
      "|  5 | ES              |         28 |            28 |\n",
      "|  6 | GR              |         15 |            15 |\n",
      "|  7 | IT              |        100 |           100 |\n",
      "|  8 | NL              |        151 |           151 |\n",
      "|  9 | PL              |         27 |            27 |\n",
      "| 10 | PT              |         39 |            39 |\n",
      "| 11 | US              |       9908 |          9908 |\n"
     ]
    }
   ],
   "source": [
    "if run_control > -10:\n",
    "\n",
    "    ibus = input.groupby(['Business Unit']).count()\n",
    "    ibus = ibus.reset_index()\n",
    "    tbus = trandata.groupby(['business_unit']).count()\n",
    "    tbus = tbus.reset_index()\n",
    "\n",
    "    compdata = pd.merge(ibus, tbus, left_on='Business Unit', right_on='business_unit', how='left')\n",
    "\n",
    "    disp = {\"Business Unit\": compdata['Business Unit'], \"Original\": compdata['Earned Revenues net of Taxes'],\n",
    "            \"Transformed\": compdata['earned_revenues_net_of_taxes']}\n",
    "\n",
    "    disp = pd.DataFrame(disp)\n",
    "\n",
    "    print(\"Row Counts\")\n",
    "    print(disp.to_markdown())\n",
    "    \n",
    "else:\n",
    "    \n",
    "    print(\"Skipped Transformation Report 2\")\n"
   ]
  },
  {
   "cell_type": "markdown",
   "id": "9a75a831",
   "metadata": {
    "papermill": {
     "duration": 0.486134,
     "end_time": "2021-06-02T20:09:50.775942",
     "exception": false,
     "start_time": "2021-06-02T20:09:50.289808",
     "status": "completed"
    },
    "tags": []
   },
   "source": [
    "#### Swap  nulls for \"Not Provided\" in 'Sub Lob' and 'Distribution Channel'"
   ]
  },
  {
   "cell_type": "code",
   "execution_count": 15,
   "id": "5a9b4860",
   "metadata": {
    "execution": {
     "iopub.execute_input": "2021-06-02T20:09:51.505971Z",
     "iopub.status.busy": "2021-06-02T20:09:51.500954Z",
     "iopub.status.idle": "2021-06-02T20:09:51.525959Z",
     "shell.execute_reply": "2021-06-02T20:09:51.527955Z"
    },
    "papermill": {
     "duration": 0.395974,
     "end_time": "2021-06-02T20:09:51.528958",
     "exception": false,
     "start_time": "2021-06-02T20:09:51.132984",
     "status": "completed"
    },
    "pycharm": {
     "name": "#%%\n"
    },
    "tags": []
   },
   "outputs": [],
   "source": [
    "mults = trandata['sub_lob'][trandata.sub_lob.replace(nan, 'Not Provided').str.contains(',', case=False)]\n",
    "mults = mults.unique()\n",
    "\n",
    "trandata['sub_lob'] = trandata['sub_lob'].fillna('Not Provided')\n",
    "trandata['sub_lob'] = trandata['sub_lob'].replace('', 'Not Provided')\n",
    "trandata['distribution_channel'] = trandata['distribution_channel'].replace('', 'Not Provided').fillna('Not Provided')"
   ]
  },
  {
   "cell_type": "markdown",
   "id": "f0c807cf",
   "metadata": {
    "papermill": {
     "duration": 0.359512,
     "end_time": "2021-06-02T20:09:52.241095",
     "exception": false,
     "start_time": "2021-06-02T20:09:51.881583",
     "status": "completed"
    },
    "tags": []
   },
   "source": [
    "#### Replace multiple entries in \"Sub Lob\" to \"Multiple\""
   ]
  },
  {
   "cell_type": "code",
   "execution_count": 16,
   "id": "f675a9e7",
   "metadata": {
    "execution": {
     "iopub.execute_input": "2021-06-02T20:09:53.085357Z",
     "iopub.status.busy": "2021-06-02T20:09:53.079367Z",
     "iopub.status.idle": "2021-06-02T20:09:53.126359Z",
     "shell.execute_reply": "2021-06-02T20:09:53.127363Z"
    },
    "papermill": {
     "duration": 0.447579,
     "end_time": "2021-06-02T20:09:53.127363",
     "exception": false,
     "start_time": "2021-06-02T20:09:52.679784",
     "status": "completed"
    },
    "pycharm": {
     "name": "#%%\n"
    },
    "tags": []
   },
   "outputs": [],
   "source": [
    "for i in mults:\n",
    "    trandata['sub_lob'] = trandata['sub_lob'].replace(i, 'Multiple')\n",
    "\n",
    "# todo automate figuring out which fields fx rates should be applied to somehow"
   ]
  },
  {
   "cell_type": "markdown",
   "id": "fff185ad",
   "metadata": {
    "papermill": {
     "duration": 0.375267,
     "end_time": "2021-06-02T20:09:53.883153",
     "exception": false,
     "start_time": "2021-06-02T20:09:53.507886",
     "status": "completed"
    },
    "tags": []
   },
   "source": [
    "#### Update Verification 3"
   ]
  },
  {
   "cell_type": "code",
   "execution_count": 17,
   "id": "d8a5e939",
   "metadata": {
    "execution": {
     "iopub.execute_input": "2021-06-02T20:09:54.763044Z",
     "iopub.status.busy": "2021-06-02T20:09:54.761034Z",
     "iopub.status.idle": "2021-06-02T20:09:55.204605Z",
     "shell.execute_reply": "2021-06-02T20:09:55.205606Z"
    },
    "papermill": {
     "duration": 0.909973,
     "end_time": "2021-06-02T20:09:55.206612",
     "exception": false,
     "start_time": "2021-06-02T20:09:54.296639",
     "status": "completed"
    },
    "pycharm": {
     "name": "#%%\n"
    },
    "tags": []
   },
   "outputs": [],
   "source": [
    "if run_control > -10:\n",
    "\n",
    "    ibus = input.groupby(['Sub LOB']).sum()\n",
    "    ibus = ibus.reset_index()\n",
    "    tbus = trandata.groupby(['sub_lob']).sum()\n",
    "    tbus = tbus.reset_index()\n",
    "\n",
    "    compdatasublob = pd.merge(ibus, tbus, left_on='Sub LOB', right_on='sub_lob', how='outer')\n",
    "\n",
    "    disp1 = pd.DataFrame(\n",
    "        {'Original Sub LOB': compdatasublob['Sub LOB'], 'Transformed Sub LOB': compdatasublob['sub_lob'],\n",
    "         \"Original\": compdatasublob['Earned Revenues net of Taxes'] / 1000,\n",
    "         \"Transformed\": compdatasublob['earned_revenues_net_of_taxes'] / 1000})\n",
    "\n",
    "\n",
    "\n",
    "    tots1 = pd.DataFrame({'Original Total': (input['Earned Revenues net of Taxes']).sum() / 10000,\n",
    "                          \"Transformed Total\": (compdatasublob['earned_revenues_net_of_taxes']).sum() / 10000},\n",
    "                         index=[0])\n",
    "else:\n",
    "    print(\"Skipped Transformation Report 2\")"
   ]
  },
  {
   "cell_type": "markdown",
   "id": "24e48b6b",
   "metadata": {
    "papermill": {
     "duration": 0.365732,
     "end_time": "2021-06-02T20:09:55.907355",
     "exception": false,
     "start_time": "2021-06-02T20:09:55.541623",
     "status": "completed"
    },
    "tags": []
   },
   "source": [
    "#### Make cflds, a list of currency fields, force to float, coercion is null or string to 0"
   ]
  },
  {
   "cell_type": "code",
   "execution_count": 18,
   "id": "cd0ddec6",
   "metadata": {
    "execution": {
     "iopub.execute_input": "2021-06-02T20:09:56.739119Z",
     "iopub.status.busy": "2021-06-02T20:09:56.733115Z",
     "iopub.status.idle": "2021-06-02T20:09:57.005649Z",
     "shell.execute_reply": "2021-06-02T20:09:57.006648Z"
    },
    "papermill": {
     "duration": 0.699754,
     "end_time": "2021-06-02T20:09:57.007642",
     "exception": false,
     "start_time": "2021-06-02T20:09:56.307888",
     "status": "completed"
    },
    "pycharm": {
     "name": "#%%\n"
    },
    "tags": []
   },
   "outputs": [
    {
     "data": {
      "text/plain": [
       "0            0.00\n",
       "1            0.00\n",
       "2            0.00\n",
       "3        31328.10\n",
       "4          887.19\n",
       "           ...   \n",
       "13749     3749.00\n",
       "13750      142.00\n",
       "13751      474.00\n",
       "13752        0.00\n",
       "13753      265.00\n",
       "Name: written_revenues_net_of_taxes, Length: 13754, dtype: float64"
      ]
     },
     "execution_count": 18,
     "metadata": {},
     "output_type": "execute_result"
    },
    {
     "data": {
      "text/plain": [
       "0            0.00\n",
       "1            0.00\n",
       "2            0.00\n",
       "3        34776.00\n",
       "4          998.08\n",
       "           ...   \n",
       "13749     3749.00\n",
       "13750      142.00\n",
       "13751      474.00\n",
       "13752        0.00\n",
       "13753      265.00\n",
       "Name: written_revenues, Length: 13754, dtype: float64"
      ]
     },
     "execution_count": 18,
     "metadata": {},
     "output_type": "execute_result"
    },
    {
     "data": {
      "text/plain": [
       "0            0.00\n",
       "1            0.00\n",
       "2            0.00\n",
       "3        31328.10\n",
       "4          887.19\n",
       "           ...   \n",
       "13749        0.00\n",
       "13750        0.00\n",
       "13751        0.00\n",
       "13752       11.00\n",
       "13753        7.00\n",
       "Name: earned_revenues_net_of_taxes, Length: 13754, dtype: float64"
      ]
     },
     "execution_count": 18,
     "metadata": {},
     "output_type": "execute_result"
    },
    {
     "data": {
      "text/plain": [
       "0            0.00\n",
       "1            0.00\n",
       "2            0.00\n",
       "3        34776.00\n",
       "4          998.08\n",
       "           ...   \n",
       "13749        0.00\n",
       "13750        0.00\n",
       "13751        0.00\n",
       "13752       11.00\n",
       "13753        7.00\n",
       "Name: earned_revenues, Length: 13754, dtype: float64"
      ]
     },
     "execution_count": 18,
     "metadata": {},
     "output_type": "execute_result"
    },
    {
     "data": {
      "text/plain": [
       "0           0.00\n",
       "1           0.00\n",
       "2           0.00\n",
       "3        4391.77\n",
       "4         406.87\n",
       "          ...   \n",
       "13749       0.00\n",
       "13750       0.00\n",
       "13751       0.00\n",
       "13752       3.14\n",
       "13753       1.47\n",
       "Name: earned_base_commissions, Length: 13754, dtype: float64"
      ]
     },
     "execution_count": 18,
     "metadata": {},
     "output_type": "execute_result"
    },
    {
     "data": {
      "text/plain": [
       "0        0.00\n",
       "1        0.00\n",
       "2        0.00\n",
       "3        0.00\n",
       "4        0.00\n",
       "         ... \n",
       "13749    0.00\n",
       "13750    0.00\n",
       "13751    0.00\n",
       "13752    0.65\n",
       "13753    0.43\n",
       "Name: earned_over-commissions, Length: 13754, dtype: float64"
      ]
     },
     "execution_count": 18,
     "metadata": {},
     "output_type": "execute_result"
    },
    {
     "data": {
      "text/plain": [
       "0        0.0\n",
       "1        0.0\n",
       "2        0.0\n",
       "3        0.0\n",
       "4        0.0\n",
       "        ... \n",
       "13749    0.0\n",
       "13750    0.0\n",
       "13751    0.0\n",
       "13752    0.0\n",
       "13753    0.0\n",
       "Name: upfront_cash_payments, Length: 13754, dtype: float64"
      ]
     },
     "execution_count": 18,
     "metadata": {},
     "output_type": "execute_result"
    },
    {
     "data": {
      "text/plain": [
       "0           0.00\n",
       "1           0.00\n",
       "2           0.00\n",
       "3        4391.77\n",
       "4         406.87\n",
       "          ...   \n",
       "13749       0.00\n",
       "13750       0.00\n",
       "13751       0.00\n",
       "13752       3.79\n",
       "13753       1.90\n",
       "Name: total_compensation, Length: 13754, dtype: float64"
      ]
     },
     "execution_count": 18,
     "metadata": {},
     "output_type": "execute_result"
    },
    {
     "data": {
      "text/plain": [
       "0        3028.6\n",
       "1           0.0\n",
       "2           0.0\n",
       "3         798.0\n",
       "4         400.0\n",
       "          ...  \n",
       "13749       0.0\n",
       "13750       0.0\n",
       "13751       0.0\n",
       "13752       0.0\n",
       "13753       0.0\n",
       "Name: paid_claims, Length: 13754, dtype: float64"
      ]
     },
     "execution_count": 18,
     "metadata": {},
     "output_type": "execute_result"
    },
    {
     "data": {
      "text/plain": [
       "0       -52275.64\n",
       "1         -100.00\n",
       "2        -1100.00\n",
       "3         1142.94\n",
       "4        -1084.00\n",
       "           ...   \n",
       "13749        0.00\n",
       "13750        0.00\n",
       "13751        0.00\n",
       "13752        0.12\n",
       "13753        0.08\n",
       "Name: ocr_+_ibnr, Length: 13754, dtype: float64"
      ]
     },
     "execution_count": 18,
     "metadata": {},
     "output_type": "execute_result"
    },
    {
     "data": {
      "text/plain": [
       "0       -49247.04\n",
       "1         -100.00\n",
       "2        -1100.00\n",
       "3         1940.94\n",
       "4         -684.00\n",
       "           ...   \n",
       "13749        0.00\n",
       "13750        0.00\n",
       "13751        0.00\n",
       "13752        0.12\n",
       "13753        0.08\n",
       "Name: actual_incurred_losses_(paid_+_ocr_+_ibnr), Length: 13754, dtype: float64"
      ]
     },
     "execution_count": 18,
     "metadata": {},
     "output_type": "execute_result"
    },
    {
     "data": {
      "text/plain": [
       "0           0.000000\n",
       "1           0.000000\n",
       "2           0.000000\n",
       "3        2229.996814\n",
       "4          63.151959\n",
       "            ...     \n",
       "13749       0.000000\n",
       "13750       0.000000\n",
       "13751       0.000000\n",
       "13752       0.720000\n",
       "13753       0.480000\n",
       "Name: internal_variable_costs_(excl._az_tech_fee), Length: 13754, dtype: float64"
      ]
     },
     "execution_count": 18,
     "metadata": {},
     "output_type": "execute_result"
    },
    {
     "data": {
      "text/plain": [
       "0          0.000000\n",
       "1          0.000000\n",
       "2          0.000000\n",
       "3        789.468120\n",
       "4         22.357188\n",
       "            ...    \n",
       "13749      0.000000\n",
       "13750      0.000000\n",
       "13751      0.000000\n",
       "13752      0.000000\n",
       "13753      0.000000\n",
       "Name: az_tech_fee, Length: 13754, dtype: float64"
      ]
     },
     "execution_count": 18,
     "metadata": {},
     "output_type": "execute_result"
    },
    {
     "data": {
      "text/plain": [
       "0           0.000000\n",
       "1           0.000000\n",
       "2           0.000000\n",
       "3        4593.555166\n",
       "4         144.211193\n",
       "            ...     \n",
       "13749       0.000000\n",
       "13750       0.000000\n",
       "13751       0.000000\n",
       "13752       1.210000\n",
       "13753       0.800000\n",
       "Name: internal_fixed_costs_(excl._hq_fees), Length: 13754, dtype: float64"
      ]
     },
     "execution_count": 18,
     "metadata": {},
     "output_type": "execute_result"
    },
    {
     "data": {
      "text/plain": [
       "0           0.0000\n",
       "1           0.0000\n",
       "2           0.0000\n",
       "3        1346.8165\n",
       "4          24.0160\n",
       "           ...    \n",
       "13749       0.0000\n",
       "13750       0.0000\n",
       "13751       0.0000\n",
       "13752       0.2800\n",
       "13753       0.1800\n",
       "Name: hq_fees, Length: 13754, dtype: float64"
      ]
     },
     "execution_count": 18,
     "metadata": {},
     "output_type": "execute_result"
    },
    {
     "data": {
      "text/plain": [
       "0           0.00000\n",
       "1           0.00000\n",
       "2           0.00000\n",
       "3        8959.83660\n",
       "4         253.73634\n",
       "            ...    \n",
       "13749       0.00000\n",
       "13750       0.00000\n",
       "13751       0.00000\n",
       "13752       2.21000\n",
       "13753       1.46000\n",
       "Name: total_expenses, Length: 13754, dtype: float64"
      ]
     },
     "execution_count": 18,
     "metadata": {},
     "output_type": "execute_result"
    },
    {
     "data": {
      "text/plain": [
       "0        0.0\n",
       "1        0.0\n",
       "2        0.0\n",
       "3        0.0\n",
       "4        0.0\n",
       "        ... \n",
       "13749    0.0\n",
       "13750    0.0\n",
       "13751    0.0\n",
       "13752    0.0\n",
       "13753    0.0\n",
       "Name: risk_premium, Length: 13754, dtype: float64"
      ]
     },
     "execution_count": 18,
     "metadata": {},
     "output_type": "execute_result"
    },
    {
     "data": {
      "text/plain": [
       "0        49247.04000\n",
       "1          100.00000\n",
       "2         1100.00000\n",
       "3        16035.55340\n",
       "4          910.58366\n",
       "            ...     \n",
       "13749        0.00000\n",
       "13750        0.00000\n",
       "13751        0.00000\n",
       "13752        4.88000\n",
       "13753        3.56000\n",
       "Name: profit_or_loss, Length: 13754, dtype: float64"
      ]
     },
     "execution_count": 18,
     "metadata": {},
     "output_type": "execute_result"
    },
    {
     "data": {
      "text/plain": [
       "0        49247.040000\n",
       "1          100.000000\n",
       "2         1100.000000\n",
       "3        21975.925066\n",
       "4         1078.810853\n",
       "             ...     \n",
       "13749        0.000000\n",
       "13750        0.000000\n",
       "13751        0.000000\n",
       "13752        6.370000\n",
       "13753        4.540000\n",
       "Name: contribution_margin_-_hq_view, Length: 13754, dtype: float64"
      ]
     },
     "execution_count": 18,
     "metadata": {},
     "output_type": "execute_result"
    },
    {
     "data": {
      "text/plain": [
       "0        49247.040000\n",
       "1          100.000000\n",
       "2         1100.000000\n",
       "3        20629.108566\n",
       "4         1054.794853\n",
       "             ...     \n",
       "13749        0.000000\n",
       "13750        0.000000\n",
       "13751        0.000000\n",
       "13752        6.090000\n",
       "13753        4.360000\n",
       "Name: contribution_margin_-_bu_view, Length: 13754, dtype: float64"
      ]
     },
     "execution_count": 18,
     "metadata": {},
     "output_type": "execute_result"
    }
   ],
   "source": [
    "cflds = ['written_revenues_net_of_taxes', 'written_revenues', 'earned_revenues_net_of_taxes',\n",
    "         'earned_revenues', 'earned_base_commissions', 'earned_over-commissions', 'upfront_cash_payments',\n",
    "         'total_compensation', 'paid_claims', 'ocr_+_ibnr', 'actual_incurred_losses_(paid_+_ocr_+_ibnr)',\n",
    "         'internal_variable_costs_(excl._az_tech_fee)', 'az_tech_fee', 'internal_fixed_costs_(excl._hq_fees)',\n",
    "         'hq_fees', 'total_expenses', 'risk_premium', 'profit_or_loss', 'contribution_margin_-_hq_view',\n",
    "         'contribution_margin_-_bu_view', ]\n",
    "\n",
    "for i in cflds:\n",
    "    pd.to_numeric(trandata[i], errors='coerce')"
   ]
  },
  {
   "cell_type": "markdown",
   "id": "0aa28f31",
   "metadata": {
    "papermill": {
     "duration": 0.448051,
     "end_time": "2021-06-02T20:09:57.828230",
     "exception": false,
     "start_time": "2021-06-02T20:09:57.380179",
     "status": "completed"
    },
    "tags": []
   },
   "source": [
    "#### Turn selected columns values uppercase"
   ]
  },
  {
   "cell_type": "code",
   "execution_count": 19,
   "id": "63f74585",
   "metadata": {
    "execution": {
     "iopub.execute_input": "2021-06-02T20:09:59.280548Z",
     "iopub.status.busy": "2021-06-02T20:09:59.273543Z",
     "iopub.status.idle": "2021-06-02T20:09:59.472066Z",
     "shell.execute_reply": "2021-06-02T20:09:59.474057Z"
    },
    "papermill": {
     "duration": 1.262206,
     "end_time": "2021-06-02T20:09:59.474057",
     "exception": false,
     "start_time": "2021-06-02T20:09:58.211851",
     "status": "completed"
    },
    "pycharm": {
     "name": "#%%\n"
    },
    "tags": []
   },
   "outputs": [],
   "source": [
    "validcols = ['business_unit', 'currency', 'region', 'type_of_analysis', 'type_of_business', 'type_of_account', 'lob',\n",
    "             'distribution_type', 'distribution_channel', ]\n",
    "\n",
    "for c in validcols:\n",
    "    trandata[c] = trandata[c].astype(str)\n",
    "    trandata[c] = trandata[c].apply(lambda x: x.upper())"
   ]
  },
  {
   "cell_type": "markdown",
   "id": "0a0f2afe",
   "metadata": {
    "papermill": {
     "duration": 0.438987,
     "end_time": "2021-06-02T20:10:00.306755",
     "exception": false,
     "start_time": "2021-06-02T20:09:59.867768",
     "status": "completed"
    },
    "tags": []
   },
   "source": [
    "#### Read the values from the Global Attribute Catalog, one field per loop iterance and xlsx sheet."
   ]
  },
  {
   "cell_type": "code",
   "execution_count": 20,
   "id": "24d55d62",
   "metadata": {
    "execution": {
     "iopub.execute_input": "2021-06-02T20:10:01.168972Z",
     "iopub.status.busy": "2021-06-02T20:10:01.163970Z",
     "iopub.status.idle": "2021-06-02T20:10:04.884899Z",
     "shell.execute_reply": "2021-06-02T20:10:04.885901Z"
    },
    "papermill": {
     "duration": 4.178753,
     "end_time": "2021-06-02T20:10:04.886900",
     "exception": false,
     "start_time": "2021-06-02T20:10:00.708147",
     "status": "completed"
    },
    "pycharm": {
     "name": "#%%\n"
    },
    "tags": []
   },
   "outputs": [],
   "source": [
    "checktabs = []\n",
    "\n",
    "\n",
    "\n",
    "for s in validcols:\n",
    "    t = pd.read_excel(atcat, sheet_name = s )\n",
    "    checktabs.append([[s], [t]])\n",
    "\n",
    "gacout = []\n"
   ]
  },
  {
   "cell_type": "markdown",
   "id": "85e65bb1",
   "metadata": {
    "papermill": {
     "duration": 0.468689,
     "end_time": "2021-06-02T20:10:05.751115",
     "exception": false,
     "start_time": "2021-06-02T20:10:05.282426",
     "status": "completed"
    },
    "tags": []
   },
   "source": [
    "#### Compare the lists from the previous step and each field. Find those that do not match, make lists of unique values\n",
    "#### replace any that have replacements in GPPM inoout already, make a list of values without any matches.\n"
   ]
  },
  {
   "cell_type": "code",
   "execution_count": 21,
   "id": "920f349e",
   "metadata": {
    "execution": {
     "iopub.execute_input": "2021-06-02T20:10:06.610502Z",
     "iopub.status.busy": "2021-06-02T20:10:06.596510Z",
     "iopub.status.idle": "2021-06-02T20:10:07.094377Z",
     "shell.execute_reply": "2021-06-02T20:10:07.097374Z"
    },
    "papermill": {
     "duration": 0.939993,
     "end_time": "2021-06-02T20:10:07.097374",
     "exception": false,
     "start_time": "2021-06-02T20:10:06.157381",
     "status": "completed"
    },
    "pycharm": {
     "name": "#%%\n"
    },
    "tags": []
   },
   "outputs": [],
   "source": [
    "# todo rewrite this beginner code to use dicts and simplify\n",
    "\n",
    "for u in enumerate(validcols):\n",
    "    trandata.loc[0:len(trandata[u[1]]), u[1]] = trandata[u[1]].replace(\n",
    "        [checktabs[u[0]][1][0]['Upper_Vers']][0].to_numpy(), [checktabs[u[0]][1][0][u[1]]][0].to_numpy())\n",
    "    d = list(checktabs[u[0]][1][0]['Non Matches'].drop_duplicates().dropna().append(\n",
    "        pd.Series(trandata[u[1]][~trandata[u[1]].isin(checktabs[u[0]][1][0][u[1]])].drop_duplicates().dropna()),\n",
    "        ignore_index=True))\n",
    "    g = [checktabs[u[0]][1][0][str(u[1])], checktabs[u[0]][1][0]['Upper_Vers'], checktabs[u[0]][1][0]['Unnamed: 2'],\n",
    "         pd.Series(d, dtype='object').drop_duplicates().dropna(), checktabs[u[0]][1][0]['User Defined Corrections']]\n",
    "    gacout.append(list([g, u[1]]))"
   ]
  },
  {
   "cell_type": "markdown",
   "id": "fd23c9d7",
   "metadata": {
    "papermill": {
     "duration": 0.435427,
     "end_time": "2021-06-02T20:10:07.882329",
     "exception": false,
     "start_time": "2021-06-02T20:10:07.446902",
     "status": "completed"
    },
    "tags": []
   },
   "source": [
    "#### Rebuild the GPPM input file, with the replaced values in the bad values column of each sheet.\n",
    "#### Step one, make and xlsx with a notes page."
   ]
  },
  {
   "cell_type": "code",
   "execution_count": 22,
   "id": "4938015a",
   "metadata": {
    "execution": {
     "iopub.execute_input": "2021-06-02T20:10:08.876967Z",
     "iopub.status.busy": "2021-06-02T20:10:08.868970Z",
     "iopub.status.idle": "2021-06-02T20:10:09.459938Z",
     "shell.execute_reply": "2021-06-02T20:10:09.460933Z"
    },
    "papermill": {
     "duration": 1.156578,
     "end_time": "2021-06-02T20:10:09.461941",
     "exception": false,
     "start_time": "2021-06-02T20:10:08.305363",
     "status": "completed"
    },
    "pycharm": {
     "name": "#%%\n"
    },
    "tags": []
   },
   "outputs": [],
   "source": [
    "w = ExcelWriter(atcat)\n",
    "notes = pd.DataFrame([\n",
    "    \"This page is script generated during the source creation process. Do not edit these notes directly in the file as they will be overwritten\",\n",
    "    \"\", \"\"\n",
    "    , \" Purpose :     to manage attribute entries in the data collection process, this workbook documents and organizes all entries and also allows a user to swap those that do \\\n",
    "                        not conform to validation rules  with an entry of their choice\",\n",
    "    \" Each attribute field that requires validation has its own sheet tab\", \"\"\n",
    "    , \"Column A:    of each sheet tab contains all unique acceptable responses\",\n",
    "    \"Column B:    an upper case version, to wrangle case mismatches\",\n",
    "    \"Column D:   is generated by the process, this is a list of an uppercase version of each unique unacceptable response, this builds over time with each collection\",\n",
    "    \"Column E:   you can enter accpetable response here (sase sensitive) to be swapped out in the data, save and exit this file, run the process again and they will be replaced\"\n",
    "    , \"\", \"\", \"Gavin Harmon 9 - July -2020\"])\n",
    "\n",
    "notes.columns = ['Notes']\n",
    "\n",
    "notes.to_excel(w, index=False, sheet_name=\"Notes\")"
   ]
  },
  {
   "cell_type": "markdown",
   "id": "adb533a2",
   "metadata": {
    "papermill": {
     "duration": 0.491072,
     "end_time": "2021-06-02T20:10:10.359751",
     "exception": false,
     "start_time": "2021-06-02T20:10:09.868679",
     "status": "completed"
    },
    "tags": []
   },
   "source": [
    "#### Step two, build the new sheets for each validcols field"
   ]
  },
  {
   "cell_type": "code",
   "execution_count": 23,
   "id": "6bd9dbb7",
   "metadata": {
    "execution": {
     "iopub.execute_input": "2021-06-02T20:10:11.250018Z",
     "iopub.status.busy": "2021-06-02T20:10:11.243013Z",
     "iopub.status.idle": "2021-06-02T20:10:11.922681Z",
     "shell.execute_reply": "2021-06-02T20:10:11.923682Z"
    },
    "papermill": {
     "duration": 1.108604,
     "end_time": "2021-06-02T20:10:11.924684",
     "exception": false,
     "start_time": "2021-06-02T20:10:10.816080",
     "status": "completed"
    },
    "pycharm": {
     "name": "#%%\n"
    },
    "tags": []
   },
   "outputs": [],
   "source": [
    "for v in enumerate(validcols):\n",
    "    df = pd.DataFrame(gacout[v[0]][0], index=[f\"{v[1]}\", 'Upper_Vers', '', 'Non Matches', 'User Defined Corrections']).T\n",
    "    df.to_excel(w, index=False, sheet_name=gacout[v[0]][1])\n",
    "w.save()"
   ]
  },
  {
   "cell_type": "markdown",
   "id": "157c971e",
   "metadata": {
    "papermill": {
     "duration": 0.472573,
     "end_time": "2021-06-02T20:10:12.757873",
     "exception": false,
     "start_time": "2021-06-02T20:10:12.285300",
     "status": "completed"
    },
    "tags": []
   },
   "source": [
    "#### Step three, read these lists back in, make the necessary replacements in the DataFrame"
   ]
  },
  {
   "cell_type": "code",
   "execution_count": 24,
   "id": "73e3fedd",
   "metadata": {
    "execution": {
     "iopub.execute_input": "2021-06-02T20:10:13.515661Z",
     "iopub.status.busy": "2021-06-02T20:10:13.514656Z",
     "iopub.status.idle": "2021-06-02T20:10:16.849438Z",
     "shell.execute_reply": "2021-06-02T20:10:16.850440Z"
    },
    "papermill": {
     "duration": 3.716352,
     "end_time": "2021-06-02T20:10:16.851439",
     "exception": false,
     "start_time": "2021-06-02T20:10:13.135087",
     "status": "completed"
    },
    "pycharm": {
     "name": "#%%\n"
    },
    "tags": []
   },
   "outputs": [],
   "source": [
    "for s in validcols:\n",
    "    t = pd.read_excel(f'//hecate/Insurance_US/Product Development/Product Management/Global PPM/Reporting/Data Collection/Production/{str(percode)}\\\\{str(percode)}_Attribute_Catalog.xlsx', sheet_name = s )\n",
    "    checktabs.append([[s],[t]])"
   ]
  },
  {
   "cell_type": "code",
   "execution_count": 25,
   "id": "696d5abe",
   "metadata": {
    "execution": {
     "iopub.execute_input": "2021-06-02T20:10:17.698671Z",
     "iopub.status.busy": "2021-06-02T20:10:17.682672Z",
     "iopub.status.idle": "2021-06-02T20:10:17.971557Z",
     "shell.execute_reply": "2021-06-02T20:10:17.973567Z"
    },
    "papermill": {
     "duration": 0.743795,
     "end_time": "2021-06-02T20:10:17.973567",
     "exception": false,
     "start_time": "2021-06-02T20:10:17.229772",
     "status": "completed"
    },
    "pycharm": {
     "name": "#%%\n"
    },
    "tags": []
   },
   "outputs": [],
   "source": [
    "gacout = []\n",
    "\n",
    "for u in enumerate(validcols):\n",
    "    trandata.loc[0:len(trandata[u[1]]), u[1]] = trandata[u[1]].replace(\n",
    "        [checktabs[u[0]][1][0]['Non Matches']][0].to_numpy(),\n",
    "        [checktabs[u[0]][1][0]['User Defined Corrections']][0].to_numpy())\n",
    "repper = trandata[['business_unit', 'reporting_date_to']]\n",
    "repper = pd.DataFrame({\"business_unit\": (repper['business_unit']), \"YearMo\": (repper['reporting_date_to'])})\n",
    "minrep = repper.groupby(['business_unit']).max()\n",
    "a = trandata['business_unit'].replace(list(minrep.axes[0]), minrep.get(\"YearMo\"))\n",
    "trandata['rep_date'] = a\n",
    "trandata.loc[0:len(trandata['business_partner_id_number']), 'business_partner_id_number'] = trandata[\n",
    "    'business_partner_id_number'].replace('0', 'Not Provided').fillna('Not Provided')\n",
    "trandata.loc[0:len(trandata['product_id_number']), 'product_id_number'] = trandata['product_id_number'].replace('0',\n",
    "                                                                                                                'Not Provided').replace(\n",
    "    '-', 'Not Provided').fillna('Not Provided')\n",
    "trandata.loc[0:len(trandata['sub_lob']), 'sub_lob'] = trandata['sub_lob'].replace('0', 'Not Provided').replace('-',\n",
    "                                                                                                               'Not Provided').replace(\n",
    "    'Other', 'Not Provided').fillna('Not Provided')"
   ]
  },
  {
   "cell_type": "markdown",
   "id": "9d816d2e",
   "metadata": {
    "papermill": {
     "duration": 0.516855,
     "end_time": "2021-06-02T20:10:18.931579",
     "exception": false,
     "start_time": "2021-06-02T20:10:18.414724",
     "status": "completed"
    },
    "tags": []
   },
   "source": [
    "#### Evaluate the current state, alert the user if input is needed.\n",
    "- At the end of this process, alert the user with instructions if they need to adjust bad entries for validated fields.\n",
    "\n"
   ]
  },
  {
   "cell_type": "code",
   "execution_count": 26,
   "id": "55533ec6",
   "metadata": {
    "execution": {
     "iopub.execute_input": "2021-06-02T20:10:19.719011Z",
     "iopub.status.busy": "2021-06-02T20:10:19.687008Z",
     "iopub.status.idle": "2021-06-02T20:10:25.173226Z",
     "shell.execute_reply": "2021-06-02T20:10:25.175229Z"
    },
    "papermill": {
     "duration": 5.872647,
     "end_time": "2021-06-02T20:10:25.176227",
     "exception": false,
     "start_time": "2021-06-02T20:10:19.303580",
     "status": "completed"
    },
    "tags": []
   },
   "outputs": [],
   "source": [
    "#see above note about converting to dictionaries\n",
    "\n",
    "#Make lists of all the attribute catalog entries that do not have a correction as a list of errors.\n",
    "err_messages = []\n",
    "\n",
    "for idx, i in enumerate(checktabs):\n",
    "    subset_no_nans =  i[1][0][['Non Matches', 'User Defined Corrections']][~i[1][0]['Non Matches'].isna()]\n",
    "    entries = subset_no_nans['Non Matches'][subset_no_nans['User Defined Corrections'].isna()]. tolist()\n",
    "    if len(entries) > 0: \n",
    "        err_messages.append(f'Please deal with bad entries {entries} on tab {i[0][0]} of the Attribute Catalog.')\n",
    "\n",
    "#raise an error to stop the process and give instructions\n",
    "\n",
    "# define Python user-defined exceptions\n",
    "\n",
    "\n",
    "# define Python user-defined exceptions\n",
    "class Error(Exception):\n",
    "    \"\"\"Base class for other exceptions\"\"\"\n",
    "    pass\n",
    "\n",
    "class BadEntriesError(Error):\n",
    "    \"\"\"Raised when the input value is too large\"\"\"\n",
    "    for i in err_messages : print(i)\n",
    "    \n",
    "    os.startfile(atcat)\n",
    "\n",
    "if len(err_messages) > 0:\n",
    "    raise BadEntriesError\n",
    "else:\n",
    "    pass\n",
    "        "
   ]
  },
  {
   "cell_type": "markdown",
   "id": "fd515f58",
   "metadata": {
    "papermill": {
     "duration": 1.289249,
     "end_time": "2021-06-02T20:10:27.842360",
     "exception": false,
     "start_time": "2021-06-02T20:10:26.553111",
     "status": "completed"
    },
    "tags": []
   },
   "source": [
    "#### Remove empty rows, if there is no claims experience and no revenue for a 12 month period, it should not be included"
   ]
  },
  {
   "cell_type": "code",
   "execution_count": 27,
   "id": "8b2f2737",
   "metadata": {
    "execution": {
     "iopub.execute_input": "2021-06-02T20:10:28.733308Z",
     "iopub.status.busy": "2021-06-02T20:10:28.727309Z",
     "iopub.status.idle": "2021-06-02T20:10:28.815842Z",
     "shell.execute_reply": "2021-06-02T20:10:28.816843Z"
    },
    "papermill": {
     "duration": 0.472041,
     "end_time": "2021-06-02T20:10:28.817844",
     "exception": false,
     "start_time": "2021-06-02T20:10:28.345803",
     "status": "completed"
    },
    "pycharm": {
     "name": "#%%\n"
    },
    "tags": []
   },
   "outputs": [],
   "source": [
    "trandata = trandata.loc[(trandata['units_of_risk_(written)'].fillna(0).replace('', 0)\n",
    "                         + trandata['written_revenues_net_of_taxes'].fillna(0).replace('', 0)\n",
    "                         + trandata['written_revenues'].fillna(0).replace('', 0)\n",
    "                         + trandata['number_of_policies_(earned)'].fillna(0).replace('', 0)\n",
    "                         + trandata['units_of_risk_(earned)'].fillna(0).replace('', 0)\n",
    "                         + trandata['earned_revenues_net_of_taxes'].fillna(0).replace('', 0)\n",
    "                         + trandata['earned_revenues'].fillna(0).replace('', 0)\n",
    "                         + trandata['earned_base_commissions'].fillna(0).replace('', 0)\n",
    "                         + trandata['upfront_cash_payments'].fillna(0).replace('', 0)\n",
    "                         + trandata['earned_over-commissions'].fillna(0).replace('', 0)\n",
    "                         + trandata['total_compensation'].fillna(0).replace('', 0)\n",
    "                         + trandata['number_of_claims_(paid_+_ocr_+_ibnr)'].fillna(0).replace('', 0)\n",
    "                         + trandata['number_of_open_claims'].fillna(0).replace('', 0)\n",
    "                         + trandata['open_claims_%'].fillna(0).replace('', 0)\n",
    "                         + trandata['number_of_persons_involved_in_claims_(paid_+_ocr_+_ibnr)'].fillna(0).replace('', 0)\n",
    "                         + trandata['paid_claims'].fillna(0).replace('', 0)\n",
    "                         + trandata['ocr_+_ibnr'].fillna(0).replace('', 0)\n",
    "                         + trandata['actual_incurred_losses_(paid_+_ocr_+_ibnr)'].fillna(0).replace('', 0)\n",
    "                         + trandata['internal_variable_costs_(excl._az_tech_fee)'].fillna(0).replace('', 0)\n",
    "                         + trandata['az_tech_fee'].fillna(0).replace('', 0)\n",
    "                         + trandata['internal_fixed_costs_(excl._hq_fees)'].fillna(0).replace('', 0)\n",
    "                         + trandata['hq_fees'].fillna(0).replace('', 0)\n",
    "                         + trandata['total_expenses'].fillna(0).replace('', 0)\n",
    "                         + trandata['frequency_(earned)'].fillna(0).replace('', 0)\n",
    "                         + trandata['severity'].fillna(0).replace('', 0))\n",
    "                        != 0]"
   ]
  },
  {
   "cell_type": "markdown",
   "id": "ef2f0e47",
   "metadata": {
    "papermill": {
     "duration": 0.388056,
     "end_time": "2021-06-02T20:10:29.632416",
     "exception": false,
     "start_time": "2021-06-02T20:10:29.244360",
     "status": "completed"
    },
    "pycharm": {
     "name": "#%% md\n"
    },
    "tags": []
   },
   "source": [
    "#### Output temp file"
   ]
  },
  {
   "cell_type": "code",
   "execution_count": 28,
   "id": "eee4d77f",
   "metadata": {
    "execution": {
     "iopub.execute_input": "2021-06-02T20:10:30.374843Z",
     "iopub.status.busy": "2021-06-02T20:10:30.373844Z",
     "iopub.status.idle": "2021-06-02T20:11:18.931609Z",
     "shell.execute_reply": "2021-06-02T20:11:18.932608Z"
    },
    "papermill": {
     "duration": 48.942028,
     "end_time": "2021-06-02T20:11:18.932608",
     "exception": false,
     "start_time": "2021-06-02T20:10:29.990580",
     "status": "completed"
    },
    "pycharm": {
     "name": "#%%\n"
    },
    "tags": []
   },
   "outputs": [],
   "source": [
    "# trandata.to_parquet(\n",
    "#     f'//hecate/Insurance_US/Product Development/Product Management/Global PPM/Reporting/Data Collection/Production/{str(percode)}\\\\{str(percode)}.localcur.parquet', engine = \"pyarrow\")\n",
    "\n",
    "trandata.to_csv(\n",
    "    \n",
    "     f'//hecate/Insurance_US/Product Development/Product Management/Global PPM/Reporting/Data Collection/Production/{str(percode)}\\\\{str(percode)}.localcur.csv', index = False)\n"
   ]
  },
  {
   "cell_type": "markdown",
   "id": "a8c5eb58",
   "metadata": {
    "papermill": {
     "duration": 0.359542,
     "end_time": "2021-06-02T20:11:19.707678",
     "exception": false,
     "start_time": "2021-06-02T20:11:19.348136",
     "status": "completed"
    },
    "tags": []
   },
   "source": [
    "#### Store the DataFrame for other noteboks to use"
   ]
  },
  {
   "cell_type": "code",
   "execution_count": 29,
   "id": "a9438c39",
   "metadata": {
    "execution": {
     "iopub.execute_input": "2021-06-02T20:11:20.534229Z",
     "iopub.status.busy": "2021-06-02T20:11:20.528228Z",
     "iopub.status.idle": "2021-06-02T20:11:20.704775Z",
     "shell.execute_reply": "2021-06-02T20:11:20.705774Z"
    },
    "papermill": {
     "duration": 0.563107,
     "end_time": "2021-06-02T20:11:20.706772",
     "exception": false,
     "start_time": "2021-06-02T20:11:20.143665",
     "status": "completed"
    },
    "tags": []
   },
   "outputs": [
    {
     "name": "stdout",
     "output_type": "stream",
     "text": [
      "Stored 'py_t_df' (DataFrame)\n"
     ]
    }
   ],
   "source": [
    "py_t_df = trandata\n",
    "\n",
    "%store py_t_df\n"
   ]
  }
 ],
 "metadata": {
  "celltoolbar": "Tags",
  "kernelspec": {
   "display_name": "Python 3",
   "language": "python",
   "name": "python3"
  },
  "language_info": {
   "codemirror_mode": {
    "name": "ipython",
    "version": 3
   },
   "file_extension": ".py",
   "mimetype": "text/x-python",
   "name": "python",
   "nbconvert_exporter": "python",
   "pygments_lexer": "ipython3",
   "version": "3.7.6"
  },
  "papermill": {
   "default_parameters": {},
   "duration": 127.515824,
   "end_time": "2021-06-02T20:11:21.853253",
   "environment_variables": {},
   "exception": null,
   "input_path": "pipeline/py_transform.ipynb",
   "output_path": "//hecate/Insurance_US/Product Development/Product Management/Global PPM/Reporting/Data Collection/Pipeline Reporting Scripts/GPMpipeline/instances/2021.Q1\\pipeline\\py_transform06022021160438--live, add AT.ipynb",
   "parameters": {
    "commit_message": "Live run, added AT, bad file name, rerun.",
    "inst_datetime": "06022021160438",
    "percode": "2021.Q1",
    "run_control": 1
   },
   "start_time": "2021-06-02T20:09:14.337429",
   "version": "2.3.3"
  }
 },
 "nbformat": 4,
 "nbformat_minor": 5
}