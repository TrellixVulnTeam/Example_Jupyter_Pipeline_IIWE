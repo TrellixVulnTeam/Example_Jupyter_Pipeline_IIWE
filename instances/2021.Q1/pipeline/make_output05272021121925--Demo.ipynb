{
 "cells": [
  {
   "cell_type": "markdown",
   "id": "3842f2b1",
   "metadata": {
    "papermill": {
     "duration": 0.246004,
     "end_time": "2021-05-27T16:24:11.608334",
     "exception": false,
     "start_time": "2021-05-27T16:24:11.362330",
     "status": "completed"
    },
    "pycharm": {
     "name": "#%% md\n"
    },
    "tags": []
   },
   "source": [
    "<img src=\"../images/AzPTravel_PPM.png\">"
   ]
  },
  {
   "cell_type": "markdown",
   "id": "71224196",
   "metadata": {
    "papermill": {
     "duration": 0.232083,
     "end_time": "2021-05-27T16:24:12.083644",
     "exception": false,
     "start_time": "2021-05-27T16:24:11.851561",
     "status": "completed"
    },
    "tags": []
   },
   "source": [
    "## GPM Pipeline Output maker\n",
    "\n",
    "#### This script\n",
    "- loads the transformed parquet file\n",
    "- creates the file {parquet}.localcur.csv\n",
    "- makes the Euro conversions\n",
    "- outputs {parquet}.euroconv.csv\n"
   ]
  },
  {
   "cell_type": "markdown",
   "id": "9f1dac7c",
   "metadata": {
    "papermill": {
     "duration": 0.235496,
     "end_time": "2021-05-27T16:24:12.575586",
     "exception": false,
     "start_time": "2021-05-27T16:24:12.340090",
     "status": "completed"
    },
    "tags": []
   },
   "source": [
    "#### Parameters section"
   ]
  },
  {
   "cell_type": "code",
   "execution_count": 1,
   "id": "bbae857b",
   "metadata": {
    "execution": {
     "iopub.execute_input": "2021-05-27T16:24:13.173995Z",
     "iopub.status.busy": "2021-05-27T16:24:13.170002Z",
     "iopub.status.idle": "2021-05-27T16:24:13.179994Z",
     "shell.execute_reply": "2021-05-27T16:24:13.178991Z"
    },
    "papermill": {
     "duration": 0.310728,
     "end_time": "2021-05-27T16:24:13.180994",
     "exception": false,
     "start_time": "2021-05-27T16:24:12.870266",
     "status": "completed"
    },
    "pycharm": {
     "name": "#%%\n"
    },
    "tags": [
     "parameters"
    ]
   },
   "outputs": [],
   "source": [
    "commit = \"\"\n",
    "# give a reason for the run\n",
    "\n",
    "percode = \"20XX.QX\"\n",
    "# Data Collection Code, this controls file paths and output names\n",
    "\n",
    "run_type = 1\n",
    "#run_type =  0 - lite run with no reporting, not recommended.\n",
    "#run_type =  1 - lite run with normal reporting, default setting.\n",
    "#run_type =  2 - Heavy run with full reporting, available for audits and troubleshooting.\n",
    "\n",
    "specialchars = \"-GTHtest\"\n",
    "# optional - add up to a 12 character code in order to mark your instance record .ipynb\n",
    "\n",
    "from datetime import datetime\n",
    "inst_datetime = datetime.now().strftime(\"%m%d%Y%H%M%S\")\n",
    "# a single datetime stamp for the full instance run\n"
   ]
  },
  {
   "cell_type": "code",
   "execution_count": 2,
   "id": "4dc9f131",
   "metadata": {
    "execution": {
     "iopub.execute_input": "2021-05-27T16:24:13.655895Z",
     "iopub.status.busy": "2021-05-27T16:24:13.653909Z",
     "iopub.status.idle": "2021-05-27T16:24:13.657897Z",
     "shell.execute_reply": "2021-05-27T16:24:13.659898Z"
    },
    "papermill": {
     "duration": 0.236002,
     "end_time": "2021-05-27T16:24:13.659898",
     "exception": false,
     "start_time": "2021-05-27T16:24:13.423896",
     "status": "completed"
    },
    "tags": [
     "injected-parameters"
    ]
   },
   "outputs": [],
   "source": [
    "# Parameters\n",
    "run_control = 1\n",
    "percode = \"2021.Q1\"\n",
    "commit_message = \"Demo Test\"\n",
    "inst_datetime = \"05272021121925\"\n"
   ]
  },
  {
   "cell_type": "markdown",
   "id": "2e98d29b",
   "metadata": {
    "papermill": {
     "duration": 0.276114,
     "end_time": "2021-05-27T16:24:14.157316",
     "exception": false,
     "start_time": "2021-05-27T16:24:13.881202",
     "status": "completed"
    },
    "tags": []
   },
   "source": [
    "### Set Run Control\n",
    "\n",
    "##### 0 - lite run with no reporting, not recommended.\n",
    "##### 1 - lite run with normal reporting, default setting.\n",
    "##### 2 - Heavy run with full reporting, available for audits and troubleshooting."
   ]
  },
  {
   "cell_type": "code",
   "execution_count": 3,
   "id": "3c91a6e6",
   "metadata": {
    "execution": {
     "iopub.execute_input": "2021-05-27T16:24:14.719541Z",
     "iopub.status.busy": "2021-05-27T16:24:14.717546Z",
     "iopub.status.idle": "2021-05-27T16:24:14.724547Z",
     "shell.execute_reply": "2021-05-27T16:24:14.725545Z"
    },
    "papermill": {
     "duration": 0.333105,
     "end_time": "2021-05-27T16:24:14.726544",
     "exception": false,
     "start_time": "2021-05-27T16:24:14.393439",
     "status": "completed"
    },
    "pycharm": {
     "name": "#%%\n"
    },
    "tags": []
   },
   "outputs": [],
   "source": [
    "run_control = 0 # in development mode"
   ]
  },
  {
   "cell_type": "markdown",
   "id": "179cc11b",
   "metadata": {
    "papermill": {
     "duration": 0.27612,
     "end_time": "2021-05-27T16:24:15.234674",
     "exception": false,
     "start_time": "2021-05-27T16:24:14.958554",
     "status": "completed"
    },
    "tags": []
   },
   "source": [
    "#### Packages used"
   ]
  },
  {
   "cell_type": "code",
   "execution_count": 4,
   "id": "3b36128d",
   "metadata": {
    "execution": {
     "iopub.execute_input": "2021-05-27T16:24:15.699459Z",
     "iopub.status.busy": "2021-05-27T16:24:15.697460Z",
     "iopub.status.idle": "2021-05-27T16:24:16.723811Z",
     "shell.execute_reply": "2021-05-27T16:24:16.724818Z"
    },
    "papermill": {
     "duration": 1.269356,
     "end_time": "2021-05-27T16:24:16.725815",
     "exception": false,
     "start_time": "2021-05-27T16:24:15.456459",
     "status": "completed"
    },
    "pycharm": {
     "name": "#%%\n"
    },
    "tags": []
   },
   "outputs": [],
   "source": [
    "import sys\n",
    "import os\n",
    "import pandas as pd"
   ]
  },
  {
   "cell_type": "code",
   "execution_count": 5,
   "id": "55585ea9",
   "metadata": {
    "execution": {
     "iopub.execute_input": "2021-05-27T16:24:17.238341Z",
     "iopub.status.busy": "2021-05-27T16:24:17.231351Z",
     "iopub.status.idle": "2021-05-27T16:24:17.244341Z",
     "shell.execute_reply": "2021-05-27T16:24:17.245350Z"
    },
    "papermill": {
     "duration": 0.264537,
     "end_time": "2021-05-27T16:24:17.245350",
     "exception": false,
     "start_time": "2021-05-27T16:24:16.980813",
     "status": "completed"
    },
    "pycharm": {
     "name": "#%%\n"
    },
    "tags": []
   },
   "outputs": [],
   "source": [
    "default_DC = \"2021.Q1\"\n",
    "\n",
    "try:\n",
    "    if sys.argv[1] == \"-f\":\n",
    "        percode = default_DC\n",
    "    else:\n",
    "        percode = sys.argv[1]\n",
    "\n",
    "except IndexError:\n",
    "    percode = default_DC\n",
    "except NameError:\n",
    "    percode = default_DC"
   ]
  },
  {
   "cell_type": "markdown",
   "id": "2465d3d9",
   "metadata": {
    "papermill": {
     "duration": 0.218997,
     "end_time": "2021-05-27T16:24:17.682576",
     "exception": false,
     "start_time": "2021-05-27T16:24:17.463579",
     "status": "completed"
    },
    "tags": []
   },
   "source": [
    "#### Convert paths and files to variables.\n",
    "#### Read data into pd DataFrames.\n",
    "#### Make paths for the live sources."
   ]
  },
  {
   "cell_type": "code",
   "execution_count": 6,
   "id": "6a2de83a",
   "metadata": {
    "execution": {
     "iopub.execute_input": "2021-05-27T16:24:18.198211Z",
     "iopub.status.busy": "2021-05-27T16:24:18.196210Z",
     "iopub.status.idle": "2021-05-27T16:24:18.199210Z",
     "shell.execute_reply": "2021-05-27T16:24:18.197211Z"
    },
    "papermill": {
     "duration": 0.292997,
     "end_time": "2021-05-27T16:24:18.199210",
     "exception": false,
     "start_time": "2021-05-27T16:24:17.906213",
     "status": "completed"
    },
    "pycharm": {
     "name": "#%%\n"
    },
    "tags": []
   },
   "outputs": [],
   "source": [
    "rt_path = f'//hecate/Insurance_US/Product Development/Product Manag' \\\n",
    "          f'ement/Global PPM/Reporting/Data Collection/Production/{str(percode)}'\n",
    "tempfile = os.path.join(rt_path, f'{str(percode)}.localcur.parquet')\n",
    "gppm_file = os.path.join(rt_path, f'GPPM_Input_{str(percode)}.xlsx')"
   ]
  },
  {
   "cell_type": "markdown",
   "id": "7eef3cf4",
   "metadata": {
    "papermill": {
     "duration": 0.235429,
     "end_time": "2021-05-27T16:24:18.711824",
     "exception": false,
     "start_time": "2021-05-27T16:24:18.476395",
     "status": "completed"
    },
    "tags": []
   },
   "source": [
    "#### Read source"
   ]
  },
  {
   "cell_type": "code",
   "execution_count": 7,
   "id": "a85692ed",
   "metadata": {
    "execution": {
     "iopub.execute_input": "2021-05-27T16:24:19.196354Z",
     "iopub.status.busy": "2021-05-27T16:24:19.194354Z",
     "iopub.status.idle": "2021-05-27T16:24:20.372647Z",
     "shell.execute_reply": "2021-05-27T16:24:20.373646Z"
    },
    "papermill": {
     "duration": 1.399296,
     "end_time": "2021-05-27T16:24:20.373646",
     "exception": false,
     "start_time": "2021-05-27T16:24:18.974350",
     "status": "completed"
    },
    "pycharm": {
     "name": "#%%\n"
    },
    "tags": []
   },
   "outputs": [
    {
     "name": "stdout",
     "output_type": "stream",
     "text": [
      "     business_unit                   submission_file country currency  \\\n",
      "0               AU  us_dat_au_05142021143612.parquet      AU      AUD   \n",
      "1               AU  us_dat_au_05142021143612.parquet      AU      AUD   \n",
      "2               AU  us_dat_au_05142021143612.parquet      AU      AUD   \n",
      "3               AU  us_dat_au_05142021143612.parquet      AU      AUD   \n",
      "4               AU  us_dat_au_05142021143612.parquet      AU      AUD   \n",
      "...            ...                               ...     ...      ...   \n",
      "2114            PT  us_dat_pt_05202021121056.parquet      PT      EUR   \n",
      "2115            PT  us_dat_pt_05202021121056.parquet      PT      EUR   \n",
      "2116            PT  us_dat_pt_05202021121056.parquet      PT      EUR   \n",
      "2117            PT  us_dat_pt_05202021121056.parquet      PT      EUR   \n",
      "2118            PT  us_dat_pt_05202021121056.parquet      PT      EUR   \n",
      "\n",
      "                           region reporting_date_from reporting_date_to  \\\n",
      "0                            APAC          2021-01-01        2021-03-31   \n",
      "1                            APAC          2021-01-01        2021-03-31   \n",
      "2                            APAC          2021-01-01        2021-03-31   \n",
      "3                            APAC          2021-01-01        2021-03-31   \n",
      "4                            APAC          2021-01-01        2021-03-31   \n",
      "...                           ...                 ...               ...   \n",
      "2114  Western Europe, LATAM & MEA          2021-01-01        2021-03-31   \n",
      "2115  Western Europe, LATAM & MEA          2021-01-01        2021-03-31   \n",
      "2116  Western Europe, LATAM & MEA          2021-01-01        2021-03-31   \n",
      "2117  Western Europe, LATAM & MEA          2021-01-01        2021-03-31   \n",
      "2118  Western Europe, LATAM & MEA          2021-01-01        2021-03-31   \n",
      "\n",
      "     date_of_analysis type_of_analysis  analysed_months  ...  \\\n",
      "0          2021-04-30     Year To Date              3.0  ...   \n",
      "1          2021-04-30     Year To Date              3.0  ...   \n",
      "2          2021-04-30     Year To Date              3.0  ...   \n",
      "3          2021-04-30     Year To Date              3.0  ...   \n",
      "4          2021-04-30     Year To Date              3.0  ...   \n",
      "...               ...              ...              ...  ...   \n",
      "2114       2021-03-31     Year To Date              3.0  ...   \n",
      "2115       2021-03-31     Year To Date              3.0  ...   \n",
      "2116       2021-03-31     Year To Date              3.0  ...   \n",
      "2117       2021-03-31     Year To Date              3.0  ...   \n",
      "2118       2021-03-31     Year To Date              3.0  ...   \n",
      "\n",
      "      reporting_date_from_int  reporting_date_to_int  date_of_analysis_int  \\\n",
      "0                    20210101               20210331              20210430   \n",
      "1                    20210101               20210331              20210430   \n",
      "2                    20210101               20210331              20210430   \n",
      "3                    20210101               20210331              20210430   \n",
      "4                    20210101               20210331              20210430   \n",
      "...                       ...                    ...                   ...   \n",
      "2114                 20210101               20210331              20210331   \n",
      "2115                 20210101               20210331              20210331   \n",
      "2116                 20210101               20210331              20210331   \n",
      "2117                 20210101               20210331              20210331   \n",
      "2118                 20210101               20210331              20210331   \n",
      "\n",
      "                         selected_fields_for_duplicates ibnrsub   rep_date  \\\n",
      "0     AUInsuranceLocalB2B2CTravelAllianz Affiliation...     0.0 2021-03-31   \n",
      "1     AUInsuranceLocalB2B2CTravelOffline Travel Agen...     0.0 2021-03-31   \n",
      "2     AUInsuranceLocalB2B2CTravelAllianz Affiliation...     0.0 2021-03-31   \n",
      "3     AUInsuranceLocalB2CTravelDirect (Allianz Partn...     0.0 2021-03-31   \n",
      "4     AUInsuranceLocalB2B2CTravelBanks / Credit Card...     0.0 2021-03-31   \n",
      "...                                                 ...     ...        ...   \n",
      "2114  PTReinsuranceLocalB2B2CTravelDirect (Allianz P...     0.0 2021-03-31   \n",
      "2115  PTReinsuranceLocalB2B2CTravelDirect (Allianz P...     0.0 2021-03-31   \n",
      "2116  PTReinsuranceLocalB2B2CTravelDirect (Allianz P...     0.0 2021-03-31   \n",
      "2117  PTReinsuranceLocalB2B2CTravelDirect (Allianz P...     0.0 2021-03-31   \n",
      "2118  PTReinsuranceLocalB2BTravelDirect (Allianz Par...     0.0 2021-03-31   \n",
      "\n",
      "     __index_level_0__   bu_descr month_of_analysis_max      reporting_period  \n",
      "0                    0  Australia              2021 Apr  2021 Jan to 2021 Mar  \n",
      "1                    1  Australia              2021 Apr  2021 Jan to 2021 Mar  \n",
      "2                    3  Australia              2021 Apr  2021 Jan to 2021 Mar  \n",
      "3                    4  Australia              2021 Apr  2021 Jan to 2021 Mar  \n",
      "4                    5  Australia              2021 Apr  2021 Jan to 2021 Mar  \n",
      "...                ...        ...                   ...                   ...  \n",
      "2114              3619   Portugal              2021 Mar  2021 Jan to 2021 Mar  \n",
      "2115              3620   Portugal              2021 Mar  2021 Jan to 2021 Mar  \n",
      "2116              3621   Portugal              2021 Mar  2021 Jan to 2021 Mar  \n",
      "2117              3622   Portugal              2021 Mar  2021 Jan to 2021 Mar  \n",
      "2118              3623   Portugal              2021 Mar  2021 Jan to 2021 Mar  \n",
      "\n",
      "[2119 rows x 81 columns]\n"
     ]
    }
   ],
   "source": [
    "mo_input = pd.read_parquet(tempfile, engine='pyarrow')\n",
    "\n",
    "print(mo_input)"
   ]
  },
  {
   "cell_type": "markdown",
   "id": "087abb5f",
   "metadata": {
    "papermill": {
     "duration": 0.243153,
     "end_time": "2021-05-27T16:24:20.863102",
     "exception": false,
     "start_time": "2021-05-27T16:24:20.619949",
     "status": "completed"
    },
    "tags": []
   },
   "source": [
    "#### Output local currency csv"
   ]
  },
  {
   "cell_type": "code",
   "execution_count": 8,
   "id": "9beaeef1",
   "metadata": {
    "execution": {
     "iopub.execute_input": "2021-05-27T16:24:21.363361Z",
     "iopub.status.busy": "2021-05-27T16:24:21.361361Z",
     "iopub.status.idle": "2021-05-27T16:24:29.697072Z",
     "shell.execute_reply": "2021-05-27T16:24:29.698072Z"
    },
    "papermill": {
     "duration": 8.609439,
     "end_time": "2021-05-27T16:24:29.698072",
     "exception": false,
     "start_time": "2021-05-27T16:24:21.088633",
     "status": "completed"
    },
    "pycharm": {
     "is_executing": true,
     "name": "#%%\n"
    },
    "tags": []
   },
   "outputs": [],
   "source": [
    "mo_input.to_csv(f'//hecate/Insurance_US/Product Development/Product Management/Global PPM/Reporting/Data Collection/Production/{str(percode)}\\\\{str(percode)}.localcur.csv', ',', index=False, encoding='utf-8-sig')"
   ]
  },
  {
   "cell_type": "markdown",
   "id": "54e19304",
   "metadata": {
    "papermill": {
     "duration": 0.275707,
     "end_time": "2021-05-27T16:24:30.269735",
     "exception": false,
     "start_time": "2021-05-27T16:24:29.994028",
     "status": "completed"
    },
    "tags": []
   },
   "source": [
    "#### Convert all currency to Euro\n"
   ]
  },
  {
   "cell_type": "code",
   "execution_count": 9,
   "id": "2bde3dee",
   "metadata": {
    "execution": {
     "iopub.execute_input": "2021-05-27T16:24:30.722081Z",
     "iopub.status.busy": "2021-05-27T16:24:30.720081Z",
     "iopub.status.idle": "2021-05-27T16:24:31.260464Z",
     "shell.execute_reply": "2021-05-27T16:24:31.262463Z"
    },
    "papermill": {
     "duration": 0.784871,
     "end_time": "2021-05-27T16:24:31.262463",
     "exception": false,
     "start_time": "2021-05-27T16:24:30.477592",
     "status": "completed"
    },
    "pycharm": {
     "is_executing": true,
     "name": "#%%\n"
    },
    "tags": []
   },
   "outputs": [],
   "source": [
    "\n",
    "cflds = ['written_revenues_net_of_taxes', 'written_revenues', 'earned_revenues_net_of_taxes',\n",
    "         'earned_revenues', 'earned_base_commissions', 'earned_over_commissions', 'upfront_cash_payments',\n",
    "         'total_compensation', 'paid_claims', 'ocr__ibnr', 'actual_incurred_losses',\n",
    "         'internal_variable_costs', 'az_tech_fee', 'internal_fixed_costs',\n",
    "         'hq_fees', 'total_expenses', 'risk_premium', 'profit_or_loss', 'cm_hq_view', 'cm_bu_view', ]\n",
    "\n",
    "\n",
    "\"\"\"reads in the input for the Euro conversion\"\"\"\n",
    "euro = pd.read_excel(gppm_file, sheet_name=\"Euro_Rates\")\n"
   ]
  },
  {
   "cell_type": "markdown",
   "id": "2341524e",
   "metadata": {
    "papermill": {
     "duration": 0.215528,
     "end_time": "2021-05-27T16:24:31.709718",
     "exception": false,
     "start_time": "2021-05-27T16:24:31.494190",
     "status": "completed"
    },
    "tags": []
   },
   "source": [
    "#### Make a copy for debug purposes"
   ]
  },
  {
   "cell_type": "code",
   "execution_count": 10,
   "id": "3327cb44",
   "metadata": {
    "execution": {
     "iopub.execute_input": "2021-05-27T16:24:32.229776Z",
     "iopub.status.busy": "2021-05-27T16:24:32.227775Z",
     "iopub.status.idle": "2021-05-27T16:24:32.233773Z",
     "shell.execute_reply": "2021-05-27T16:24:32.234773Z"
    },
    "papermill": {
     "duration": 0.249539,
     "end_time": "2021-05-27T16:24:32.235780",
     "exception": false,
     "start_time": "2021-05-27T16:24:31.986241",
     "status": "completed"
    },
    "pycharm": {
     "is_executing": true,
     "name": "#%%\n"
    },
    "tags": []
   },
   "outputs": [],
   "source": [
    "trandata = mo_input.copy()"
   ]
  },
  {
   "cell_type": "markdown",
   "id": "63aedd65",
   "metadata": {
    "papermill": {
     "duration": 0.233473,
     "end_time": "2021-05-27T16:24:32.700016",
     "exception": false,
     "start_time": "2021-05-27T16:24:32.466543",
     "status": "completed"
    },
    "tags": []
   },
   "source": [
    "#### Convert Currency Below"
   ]
  },
  {
   "cell_type": "code",
   "execution_count": 11,
   "id": "77edb229",
   "metadata": {
    "execution": {
     "iopub.execute_input": "2021-05-27T16:24:33.176677Z",
     "iopub.status.busy": "2021-05-27T16:24:33.169676Z",
     "iopub.status.idle": "2021-05-27T16:24:33.183674Z",
     "shell.execute_reply": "2021-05-27T16:24:33.185676Z"
    },
    "papermill": {
     "duration": 0.259061,
     "end_time": "2021-05-27T16:24:33.185676",
     "exception": false,
     "start_time": "2021-05-27T16:24:32.926615",
     "status": "completed"
    },
    "pycharm": {
     "is_executing": true,
     "name": "#%%\n"
    },
    "tags": []
   },
   "outputs": [],
   "source": [
    "# create DataFrame of unique currencies with rates\n",
    "\n",
    "fx_uni = euro[['CURR_CODE','RATE']]\n",
    "fx_uni = fx_uni.drop_duplicates()"
   ]
  },
  {
   "cell_type": "code",
   "execution_count": 12,
   "id": "b191394c",
   "metadata": {
    "execution": {
     "iopub.execute_input": "2021-05-27T16:24:33.677415Z",
     "iopub.status.busy": "2021-05-27T16:24:33.674416Z",
     "iopub.status.idle": "2021-05-27T16:24:33.687418Z",
     "shell.execute_reply": "2021-05-27T16:24:33.688417Z"
    },
    "papermill": {
     "duration": 0.273733,
     "end_time": "2021-05-27T16:24:33.689413",
     "exception": false,
     "start_time": "2021-05-27T16:24:33.415680",
     "status": "completed"
    },
    "pycharm": {
     "is_executing": true,
     "name": "#%%\n"
    },
    "tags": []
   },
   "outputs": [],
   "source": [
    "# add euro conversion rates to trandata DataFrame as column 'eur_rate'\n",
    "\n",
    "eurdata = pd.merge(trandata['currency'], fx_uni, left_on='currency', right_on='CURR_CODE', how='left')\n",
    "\n",
    "trandata['eur_rate'] = eurdata['RATE']"
   ]
  },
  {
   "cell_type": "markdown",
   "id": "61b2c2aa",
   "metadata": {
    "papermill": {
     "duration": 0.43728,
     "end_time": "2021-05-27T16:24:34.368646",
     "exception": false,
     "start_time": "2021-05-27T16:24:33.931366",
     "status": "completed"
    },
    "tags": []
   },
   "source": [
    "#### Convert currency fields"
   ]
  },
  {
   "cell_type": "code",
   "execution_count": 13,
   "id": "b6bd00a2",
   "metadata": {
    "execution": {
     "iopub.execute_input": "2021-05-27T16:24:34.883960Z",
     "iopub.status.busy": "2021-05-27T16:24:34.882959Z",
     "iopub.status.idle": "2021-05-27T16:24:35.296083Z",
     "shell.execute_reply": "2021-05-27T16:24:35.297082Z"
    },
    "papermill": {
     "duration": 0.669043,
     "end_time": "2021-05-27T16:24:35.298081",
     "exception": false,
     "start_time": "2021-05-27T16:24:34.629038",
     "status": "completed"
    },
    "pycharm": {
     "is_executing": true,
     "name": "#%%\n"
    },
    "tags": []
   },
   "outputs": [],
   "source": [
    "trandata[cflds] = trandata[cflds].divide(trandata['eur_rate'], axis=\"index\").fillna(0)\n"
   ]
  },
  {
   "cell_type": "markdown",
   "id": "a03017bf",
   "metadata": {
    "papermill": {
     "duration": 0.254281,
     "end_time": "2021-05-27T16:24:35.799992",
     "exception": false,
     "start_time": "2021-05-27T16:24:35.545711",
     "status": "completed"
    },
    "tags": []
   },
   "source": [
    "#### Output to {percode}.euroconv.csv"
   ]
  },
  {
   "cell_type": "code",
   "execution_count": 14,
   "id": "863a4c58",
   "metadata": {
    "execution": {
     "iopub.execute_input": "2021-05-27T16:24:36.388293Z",
     "iopub.status.busy": "2021-05-27T16:24:36.386288Z",
     "iopub.status.idle": "2021-05-27T16:24:44.827999Z",
     "shell.execute_reply": "2021-05-27T16:24:44.830998Z"
    },
    "papermill": {
     "duration": 8.774835,
     "end_time": "2021-05-27T16:24:44.831997",
     "exception": false,
     "start_time": "2021-05-27T16:24:36.057162",
     "status": "completed"
    },
    "pycharm": {
     "is_executing": true,
     "name": "#%%\n"
    },
    "tags": []
   },
   "outputs": [],
   "source": [
    "trandata.to_csv(f'//hecate/Insurance_US/Product Development/Product Management/Global PPM/Reporting/Data Collection/Production/{str(percode)}\\\\{str(percode)}.euroconv.csv', ',', index=False, encoding='utf-8-sig')\n",
    "\n",
    "\n"
   ]
  },
  {
   "cell_type": "markdown",
   "id": "045f0a77",
   "metadata": {
    "papermill": {
     "duration": 0.308973,
     "end_time": "2021-05-27T16:24:45.525389",
     "exception": false,
     "start_time": "2021-05-27T16:24:45.216416",
     "status": "completed"
    },
    "tags": []
   },
   "source": [
    "#### Store the DataFrame for other notebooks to use"
   ]
  },
  {
   "cell_type": "code",
   "execution_count": 15,
   "id": "dff34387",
   "metadata": {
    "execution": {
     "iopub.execute_input": "2021-05-27T16:24:45.982399Z",
     "iopub.status.busy": "2021-05-27T16:24:45.981400Z",
     "iopub.status.idle": "2021-05-27T16:24:46.015397Z",
     "shell.execute_reply": "2021-05-27T16:24:46.016398Z"
    },
    "papermill": {
     "duration": 0.274017,
     "end_time": "2021-05-27T16:24:46.016398",
     "exception": false,
     "start_time": "2021-05-27T16:24:45.742381",
     "status": "completed"
    },
    "tags": []
   },
   "outputs": [
    {
     "name": "stdout",
     "output_type": "stream",
     "text": [
      "Stored 'mo_df' (DataFrame)\n"
     ]
    }
   ],
   "source": [
    "mo_df = trandata\n",
    "\n",
    "%store mo_df\n"
   ]
  }
 ],
 "metadata": {
  "celltoolbar": "Tags",
  "kernelspec": {
   "display_name": "Python 3",
   "language": "python",
   "name": "python3"
  },
  "language_info": {
   "codemirror_mode": {
    "name": "ipython",
    "version": 3
   },
   "file_extension": ".py",
   "mimetype": "text/x-python",
   "name": "python",
   "nbconvert_exporter": "python",
   "pygments_lexer": "ipython3",
   "version": "3.7.6"
  },
  "papermill": {
   "default_parameters": {},
   "duration": 39.337195,
   "end_time": "2021-05-27T16:24:46.764541",
   "environment_variables": {},
   "exception": null,
   "input_path": "pipeline/make_output.ipynb",
   "output_path": "//hecate/Insurance_US/Product Development/Product Management/Global PPM/Reporting/Data Collection/Pipeline Reporting Scripts/GPMpipeline/instances/2021.Q1\\pipeline\\make_output05272021121925--Demo.ipynb",
   "parameters": {
    "commit_message": "Demo Test",
    "inst_datetime": "05272021121925",
    "percode": "2021.Q1",
    "run_control": 1
   },
   "start_time": "2021-05-27T16:24:07.427346",
   "version": "2.3.3"
  }
 },
 "nbformat": 4,
 "nbformat_minor": 5
}