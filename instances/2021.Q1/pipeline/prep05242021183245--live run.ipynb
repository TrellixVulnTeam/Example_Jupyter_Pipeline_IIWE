{
 "cells": [
  {
   "cell_type": "markdown",
   "id": "adcf28f5",
   "metadata": {
    "papermill": {
     "duration": 0.303076,
     "end_time": "2021-05-24T22:33:03.773275",
     "exception": false,
     "start_time": "2021-05-24T22:33:03.470199",
     "status": "completed"
    },
    "tags": []
   },
   "source": [
    "<img src=\"../images/AzPTravel_PPM.png\">"
   ]
  },
  {
   "cell_type": "markdown",
   "id": "699eef7b",
   "metadata": {
    "papermill": {
     "duration": 0.275162,
     "end_time": "2021-05-24T22:33:04.330509",
     "exception": false,
     "start_time": "2021-05-24T22:33:04.055347",
     "status": "completed"
    },
    "pycharm": {
     "name": "#%% md\n"
    },
    "tags": []
   },
   "source": [
    "## Source File Consolidation\n",
    "\n",
    "#### This script fetches the current data collection submission files, consolidates them in to a combined csv file, and outputs that to the network.\n",
    "- All source files stored in the path are read, summarized, and then consolidated into a single dataframe named 'df'.\n",
    "- This process assumes that the multiple sources are in no way duplicates of each other.\n",
    "- df is then output in the data collection subfolder of the \"Production\" folder.\n"
   ]
  },
  {
   "cell_type": "markdown",
   "id": "790d7879",
   "metadata": {
    "papermill": {
     "duration": 0.262916,
     "end_time": "2021-05-24T22:33:04.871519",
     "exception": false,
     "start_time": "2021-05-24T22:33:04.608603",
     "status": "completed"
    },
    "tags": []
   },
   "source": [
    "### User Variables\n",
    "- These are overwritten if inherited from run_control.ipynb.\n",
    "- Feel Free to reset them for a manual run if you like\n",
    "- Do not save without percode = \"-f\""
   ]
  },
  {
   "cell_type": "code",
   "execution_count": 1,
   "id": "13133dbf",
   "metadata": {
    "execution": {
     "iopub.execute_input": "2021-05-24T22:33:05.457264Z",
     "iopub.status.busy": "2021-05-24T22:33:05.454271Z",
     "iopub.status.idle": "2021-05-24T22:33:05.462264Z",
     "shell.execute_reply": "2021-05-24T22:33:05.471259Z"
    },
    "papermill": {
     "duration": 0.302217,
     "end_time": "2021-05-24T22:33:05.471259",
     "exception": false,
     "start_time": "2021-05-24T22:33:05.169042",
     "status": "completed"
    },
    "pycharm": {
     "is_executing": true,
     "name": "#%%\n"
    },
    "tags": [
     "parameters"
    ]
   },
   "outputs": [],
   "source": [
    "commit_message = \"Development and testing.\"\n",
    "# Give a brief reason for the run.\n",
    "\n",
    "run_control = 1\n",
    "#run_type = 0 - Lite run with no reporting, not recommended.\n",
    "#run_type = 1 - Lite run with normal reporting, default setting.\n",
    "#run_type = 2 - Heavy run with full reporting, available for audits and troubleshooting.\n",
    "#run_type = 5 - A default setting. Indicates the script is being run by an outside process without an inherited value\n",
    "\n",
    "percode = \"2021.Q1\"\n",
    "# Data Collection Code, this controls file paths and output names\n",
    "# \"-f\" is the value indicating a bad inheritance from run with arg\n",
    "\n",
    "s_format = \"p\"\n",
    "# denotes the source data format x == Excel; j == json, p == parquet\n",
    "\n",
    "#----------\n",
    "# do not edit - this either inherits the full instance timestamp from the papermill book or captures the run time of this script.\n",
    "from datetime import datetime\n",
    "inst_datetime = datetime.now().strftime(\"%m%d%Y%H%M%S\")"
   ]
  },
  {
   "cell_type": "code",
   "execution_count": 2,
   "id": "92c1dba7",
   "metadata": {
    "execution": {
     "iopub.execute_input": "2021-05-24T22:33:06.114301Z",
     "iopub.status.busy": "2021-05-24T22:33:06.113301Z",
     "iopub.status.idle": "2021-05-24T22:33:06.122305Z",
     "shell.execute_reply": "2021-05-24T22:33:06.121301Z"
    },
    "papermill": {
     "duration": 0.332529,
     "end_time": "2021-05-24T22:33:06.123311",
     "exception": false,
     "start_time": "2021-05-24T22:33:05.790782",
     "status": "completed"
    },
    "tags": [
     "injected-parameters"
    ]
   },
   "outputs": [],
   "source": [
    "# Parameters\n",
    "run_control = 1\n",
    "percode = \"2021.Q1\"\n",
    "commit_message = \"Edited data for Austraila, json 2 parquet and add comments from email. Begin general evaluation of data submissions.\"\n",
    "inst_datetime = \"05242021183245\"\n",
    "source_type = \"p\"\n"
   ]
  },
  {
   "cell_type": "markdown",
   "id": "2af72552",
   "metadata": {
    "papermill": {
     "duration": 0.36619,
     "end_time": "2021-05-24T22:33:06.913066",
     "exception": false,
     "start_time": "2021-05-24T22:33:06.546876",
     "status": "completed"
    },
    "tags": []
   },
   "source": [
    "#### Notebook display options"
   ]
  },
  {
   "cell_type": "code",
   "execution_count": 3,
   "id": "32147d6a",
   "metadata": {
    "execution": {
     "iopub.execute_input": "2021-05-24T22:33:07.682446Z",
     "iopub.status.busy": "2021-05-24T22:33:07.680445Z",
     "iopub.status.idle": "2021-05-24T22:33:07.696448Z",
     "shell.execute_reply": "2021-05-24T22:33:07.694447Z"
    },
    "papermill": {
     "duration": 0.428344,
     "end_time": "2021-05-24T22:33:07.696448",
     "exception": false,
     "start_time": "2021-05-24T22:33:07.268104",
     "status": "completed"
    },
    "tags": []
   },
   "outputs": [],
   "source": [
    "from IPython.core.interactiveshell import InteractiveShell\n",
    "InteractiveShell.ast_node_interactivity = \"all\""
   ]
  },
  {
   "cell_type": "markdown",
   "id": "4b929808",
   "metadata": {
    "papermill": {
     "duration": 0.339482,
     "end_time": "2021-05-24T22:33:08.423007",
     "exception": false,
     "start_time": "2021-05-24T22:33:08.083525",
     "status": "completed"
    },
    "tags": []
   },
   "source": [
    "#### import packages"
   ]
  },
  {
   "cell_type": "code",
   "execution_count": 4,
   "id": "36ac18ac",
   "metadata": {
    "execution": {
     "iopub.execute_input": "2021-05-24T22:33:09.118671Z",
     "iopub.status.busy": "2021-05-24T22:33:09.116673Z",
     "iopub.status.idle": "2021-05-24T22:33:17.550258Z",
     "shell.execute_reply": "2021-05-24T22:33:17.552263Z"
    },
    "papermill": {
     "duration": 8.801154,
     "end_time": "2021-05-24T22:33:17.552263",
     "exception": false,
     "start_time": "2021-05-24T22:33:08.751109",
     "status": "completed"
    },
    "pycharm": {
     "name": "#%%\n"
    },
    "tags": []
   },
   "outputs": [],
   "source": [
    "#### Packages used\n",
    "\n",
    "import os # System commands\n",
    "import sys # System commands\n",
    "\n",
    "from datetime import datetime # datetime options\n",
    "import warnings # custom warnigns options\n",
    "\n",
    "import getpass # parquet file read/write\n",
    "import json # json file read/write\n",
    "\n",
    "import matplotlib.pyplot as plt #Plots and Graphs\n",
    "import openpyxl # Excel operations\n",
    "import numpy as np\n",
    "import pandas as pd #DataFrame and math\n",
    "\n",
    "\n",
    "\n"
   ]
  },
  {
   "cell_type": "markdown",
   "id": "da967661",
   "metadata": {
    "papermill": {
     "duration": 0.310997,
     "end_time": "2021-05-24T22:33:18.157247",
     "exception": false,
     "start_time": "2021-05-24T22:33:17.846250",
     "status": "completed"
    },
    "tags": []
   },
   "source": [
    "#### Default Variables, these govern logic, do not edit."
   ]
  },
  {
   "cell_type": "code",
   "execution_count": 5,
   "id": "6f0cbb81",
   "metadata": {
    "execution": {
     "iopub.execute_input": "2021-05-24T22:33:18.899688Z",
     "iopub.status.busy": "2021-05-24T22:33:18.897690Z",
     "iopub.status.idle": "2021-05-24T22:33:18.909219Z",
     "shell.execute_reply": "2021-05-24T22:33:18.910228Z"
    },
    "papermill": {
     "duration": 0.387451,
     "end_time": "2021-05-24T22:33:18.911227",
     "exception": false,
     "start_time": "2021-05-24T22:33:18.523776",
     "status": "completed"
    },
    "pycharm": {
     "name": "#%%\n"
    },
    "tags": []
   },
   "outputs": [],
   "source": [
    "default_dc = \"20XX.QX\"\n",
    "default_rc = 0 #extra lite mode\n",
    "dummy_perc = \"33Q3\" # bad inheritance"
   ]
  },
  {
   "cell_type": "markdown",
   "id": "ba3d47f0",
   "metadata": {
    "papermill": {
     "duration": 0.368489,
     "end_time": "2021-05-24T22:33:19.592331",
     "exception": false,
     "start_time": "2021-05-24T22:33:19.223842",
     "status": "completed"
    },
    "pycharm": {
     "name": "#%% md\n"
    },
    "tags": []
   },
   "source": [
    "#### Script determining run context ie, manual, run_control.ipynb, or other."
   ]
  },
  {
   "cell_type": "code",
   "execution_count": 6,
   "id": "9b45e3f4",
   "metadata": {
    "execution": {
     "iopub.execute_input": "2021-05-24T22:33:20.311389Z",
     "iopub.status.busy": "2021-05-24T22:33:20.310389Z",
     "iopub.status.idle": "2021-05-24T22:33:20.316397Z",
     "shell.execute_reply": "2021-05-24T22:33:20.317394Z"
    },
    "papermill": {
     "duration": 0.414066,
     "end_time": "2021-05-24T22:33:20.318391",
     "exception": false,
     "start_time": "2021-05-24T22:33:19.904325",
     "status": "completed"
    },
    "pycharm": {
     "name": "#%%\n"
    },
    "tags": [
     "parameters"
    ]
   },
   "outputs": [],
   "source": [
    "if run_control == 5:\n",
    "    run_control = default_rc \n",
    "else:\n",
    "    run_control = run_control\n",
    "\n",
    "try:\n",
    "    if sys.argv[1] == \"-f\":\n",
    "        percode = percode\n",
    "    else:\n",
    "        percode = sys.argv[1]\n",
    "\n",
    "except IndexError:\n",
    "    percode = default_dc\n",
    "except NameError:\n",
    "    percode = default_dc\n"
   ]
  },
  {
   "cell_type": "markdown",
   "id": "cd301a90",
   "metadata": {
    "papermill": {
     "duration": 0.302373,
     "end_time": "2021-05-24T22:33:20.953762",
     "exception": false,
     "start_time": "2021-05-24T22:33:20.651389",
     "status": "completed"
    },
    "pycharm": {
     "name": "#%% md\n"
    },
    "tags": []
   },
   "source": [
    "#### Make paths for the source folder"
   ]
  },
  {
   "cell_type": "code",
   "execution_count": 7,
   "id": "06552133",
   "metadata": {
    "execution": {
     "iopub.execute_input": "2021-05-24T22:33:21.643972Z",
     "iopub.status.busy": "2021-05-24T22:33:21.639973Z",
     "iopub.status.idle": "2021-05-24T22:33:21.649973Z",
     "shell.execute_reply": "2021-05-24T22:33:21.650969Z"
    },
    "papermill": {
     "duration": 0.364209,
     "end_time": "2021-05-24T22:33:21.650969",
     "exception": false,
     "start_time": "2021-05-24T22:33:21.286760",
     "status": "completed"
    },
    "pycharm": {
     "name": "#%%\n"
    },
    "tags": []
   },
   "outputs": [],
   "source": [
    "rt_path = f'//hecate/Insurance_US/Product Development/Product Management/Global PPM/Reporting/Data Collection/Production/{str(percode)}'\n",
    "ls_path = os.path.join( rt_path, 'live_sources')\n"
   ]
  },
  {
   "cell_type": "markdown",
   "id": "89a075e8",
   "metadata": {
    "papermill": {
     "duration": 0.31352,
     "end_time": "2021-05-24T22:33:22.265488",
     "exception": false,
     "start_time": "2021-05-24T22:33:21.951968",
     "status": "completed"
    },
    "pycharm": {
     "name": "#%% md\n"
    },
    "tags": []
   },
   "source": [
    "#### Get a list of only source files in the path that start with \"us_dat\".\n",
    "#### Logic determines the source file types.\n",
    "\n",
    "#### User instructions:\n",
    "- Make sure that you have 1 file per source in this folder.\n",
    "    -  For instance, do not have two files for Portugal. If there is an update, archive the old one.\n",
    "- Do not overwrite files in the archive.\n",
    "    - Rename newly archived files, no strict convention, we keep track of these by the modified date.\n",
    "- It is ok to have multiple sources in one file."
   ]
  },
  {
   "cell_type": "code",
   "execution_count": 8,
   "id": "ab9e6993",
   "metadata": {
    "execution": {
     "iopub.execute_input": "2021-05-24T22:33:22.911018Z",
     "iopub.status.busy": "2021-05-24T22:33:22.910018Z",
     "iopub.status.idle": "2021-05-24T22:33:22.995016Z",
     "shell.execute_reply": "2021-05-24T22:33:22.996019Z"
    },
    "papermill": {
     "duration": 0.399447,
     "end_time": "2021-05-24T22:33:22.996019",
     "exception": false,
     "start_time": "2021-05-24T22:33:22.596572",
     "status": "completed"
    },
    "pycharm": {
     "name": "#%%\n"
    },
    "tags": []
   },
   "outputs": [],
   "source": [
    "files = os.listdir(ls_path)\n",
    "files = [files.lower() for files in files]\n",
    "\n",
    "if s_format == \"x\":\n",
    "    files_sour = [f for f in files if f[-3:] in ('lsx' , 'lsm' ,'xls')]\n",
    "\n",
    "elif s_format == \"j\":\n",
    "    files_sour = [f for f in files if f[:6] == 'us_dat'  and  f[-5:]  == '.json']\n",
    "\n",
    "elif s_format == \"p\":\n",
    "    files_sour = [f for f in files if f[:6] == 'us_dat' and  f[-8:]  == '.parquet']\n"
   ]
  },
  {
   "cell_type": "markdown",
   "id": "5985fb61",
   "metadata": {
    "papermill": {
     "duration": 0.344685,
     "end_time": "2021-05-24T22:33:23.636232",
     "exception": false,
     "start_time": "2021-05-24T22:33:23.291547",
     "status": "completed"
    },
    "pycharm": {
     "name": "#%% md\n"
    },
    "tags": []
   },
   "source": [
    "#### Create a list 'pathfiles' that has every source file with the full path."
   ]
  },
  {
   "cell_type": "code",
   "execution_count": 9,
   "id": "cdc595fd",
   "metadata": {
    "execution": {
     "iopub.execute_input": "2021-05-24T22:33:24.307012Z",
     "iopub.status.busy": "2021-05-24T22:33:24.302010Z",
     "iopub.status.idle": "2021-05-24T22:33:24.313011Z",
     "shell.execute_reply": "2021-05-24T22:33:24.314023Z"
    },
    "papermill": {
     "duration": 0.340569,
     "end_time": "2021-05-24T22:33:24.314023",
     "exception": false,
     "start_time": "2021-05-24T22:33:23.973454",
     "status": "completed"
    },
    "pycharm": {
     "name": "#%%\n"
    },
    "tags": []
   },
   "outputs": [],
   "source": [
    "pathfiles = []\n",
    "\n",
    "for f in files_sour:\n",
    "    makepathsfiles = os.path.join(str(ls_path), str(f))\n",
    "    pathfiles.append(makepathsfiles)\n"
   ]
  },
  {
   "cell_type": "markdown",
   "id": "b96000ff",
   "metadata": {
    "papermill": {
     "duration": 0.393692,
     "end_time": "2021-05-24T22:33:25.043705",
     "exception": false,
     "start_time": "2021-05-24T22:33:24.650013",
     "status": "completed"
    },
    "tags": []
   },
   "source": [
    "#### File Check\n",
    "\n",
    "- create file information Data.Frame \"file_info_df\" with name, size, and modified date of each source file\n",
    "- import previous source file list for comparison\n",
    "- print all new files, store as a list \"newfiles\"\n",
    "- print all dropped files, store as a list \"dropped_files\""
   ]
  },
  {
   "cell_type": "code",
   "execution_count": 10,
   "id": "66aed715",
   "metadata": {
    "execution": {
     "iopub.execute_input": "2021-05-24T22:33:25.762952Z",
     "iopub.status.busy": "2021-05-24T22:33:25.745952Z",
     "iopub.status.idle": "2021-05-24T22:33:27.322416Z",
     "shell.execute_reply": "2021-05-24T22:33:27.324414Z"
    },
    "papermill": {
     "duration": 1.925098,
     "end_time": "2021-05-24T22:33:27.324414",
     "exception": false,
     "start_time": "2021-05-24T22:33:25.399316",
     "status": "completed"
    },
    "pycharm": {
     "name": "#%%\n"
    },
    "tags": []
   },
   "outputs": [
    {
     "name": "stdout",
     "output_type": "stream",
     "text": [
      "New new or changed data files found in live sources folder.\n"
     ]
    }
   ],
   "source": [
    "#print(\"Current Source Files\")\n",
    "cols = [\"Filename\", \"Size\", \"Last Modified\" ]\n",
    "\n",
    "file_info_df = pd.DataFrame(columns = cols)\n",
    "for f, p in zip(files_sour, pathfiles):\n",
    "    name = f\n",
    "    size = os.path.getsize(p) # size in bytes\n",
    "    moddate = os.path.getctime(p)# time of last metadata change;\n",
    "    moddate =  datetime.fromtimestamp(moddate).strftime('%Y-%m-%d %H:%M:%S')# format change;\n",
    "    new_row = pd.DataFrame([[name, size, moddate]], columns = cols)\n",
    "    file_info_df = file_info_df.append(new_row, ignore_index=True)\n",
    "\n",
    "#print(file_info_df)\n",
    "\n",
    "file_list = os.path.join( rt_path, 'Current_Source_Files.csv')\n",
    "prev_files = pd.read_csv(file_list)\n",
    "\n",
    "\n",
    "fl_comp = file_info_df[\"Filename\"] + file_info_df[\"Size\"].astype(str) + file_info_df[\"Last Modified\"].astype(str)\n",
    "\n",
    "prev_comp = prev_files[\"Filename\"] + prev_files[\"Size\"].astype(str) + prev_files[\"Last Modified\"].astype(str)\n",
    "\n",
    "newfiles = []\n",
    "\n",
    "for idx, r in enumerate(fl_comp):\n",
    "    \n",
    "    if r in prev_comp.values:\n",
    "    \n",
    "        pass\n",
    "     \n",
    "    else:\n",
    "        if file_info_df['Filename'][idx] in prev_files[\"Filename\"].values:\n",
    "            print(\"\")\n",
    "            print(f\"Changed data file found: {file_info_df['Filename'][idx]}, last update {file_info_df['Last Modified'][idx]}.\")\n",
    "            newfiles.append(pathfiles[idx])\n",
    "        else:\n",
    "            print(\"\")\n",
    "            print(f\"New data file found: {file_info_df['Filename'][idx]}, last update {file_info_df['Last Modified'][idx]}.\")\n",
    "            newfiles.append(pathfiles[idx])\n",
    "\n",
    "if len(newfiles) == 0:\n",
    "    \n",
    "    print(\"New new or changed data files found in live sources folder.\")\n",
    "\n",
    "else:\n",
    "\n",
    "    pass\n",
    "\n",
    "dropped_files = []\n",
    "\n",
    "for r in prev_files[\"Filename\"]:\n",
    "    \n",
    "    if r in file_info_df[\"Filename\"].values:\n",
    "        \n",
    "        pass\n",
    "    \n",
    "    else:\n",
    "        print(\"\")\n",
    "        print(f\"File {r} has been archived or removed from live sources folder.\")\n",
    "        dropped_files.append(os.path.join( ls_path, r))\n",
    "    \n",
    "    \n",
    "    \n",
    "    \n",
    "file_info_df.to_csv(file_list, index = False)\n",
    "\n",
    "\n"
   ]
  },
  {
   "cell_type": "markdown",
   "id": "61520a66",
   "metadata": {
    "papermill": {
     "duration": 0.328096,
     "end_time": "2021-05-24T22:33:27.938377",
     "exception": false,
     "start_time": "2021-05-24T22:33:27.610281",
     "status": "completed"
    },
    "tags": []
   },
   "source": [
    "#### Business Unit Check\n",
    "\n",
    "- import existing Business Unit and raw file list\n",
    "- enusure there is a 1 to 1 relationship\n",
    "- throw error if not\n"
   ]
  },
  {
   "cell_type": "code",
   "execution_count": 11,
   "id": "bcc9adf7",
   "metadata": {
    "execution": {
     "iopub.execute_input": "2021-05-24T22:33:28.686373Z",
     "iopub.status.busy": "2021-05-24T22:33:28.669184Z",
     "iopub.status.idle": "2021-05-24T22:33:35.098583Z",
     "shell.execute_reply": "2021-05-24T22:33:35.099570Z"
    },
    "papermill": {
     "duration": 6.802149,
     "end_time": "2021-05-24T22:33:35.100568",
     "exception": false,
     "start_time": "2021-05-24T22:33:28.298419",
     "status": "completed"
    },
    "pycharm": {
     "name": "#%%\n"
    },
    "tags": []
   },
   "outputs": [],
   "source": [
    "cols = [ \"Business Unit\", \"File\"]\n",
    "\n",
    "bu_x_file = pd.DataFrame(columns = cols ) \n",
    "\n",
    "for p, f  in zip(pathfiles,files_sour):\n",
    "\n",
    "    if s_format == \"x\":\n",
    "\n",
    "        try:\n",
    "            data = pd.read_excel(p, sheet_name = 'Portfolio_Monitoring', na_values = [0], header=3, converters={ 'Business Partner Name': str, 'Type of Business': str, 'Type of Account': str, 'Distribution Type': str, 'LOB': str, 'Distribution Channel': str,\n",
    "            'Sub LOB': str,'Business Partner ID Number': str,  'Product Name': str, 'Product ID Number': str,  'Product Family': str,  'Standard Product': str, 'Total Expenses': float,    })\n",
    "\n",
    "        except:\n",
    "            data = pd.read_excel(p, sheet_name = 'Ptf_Monitoring_GROSS_Reins', na_values = [0], header=3, converters={ 'Business Partner Name': str, 'Type of Business': str, 'Type of Account': str, 'Distribution Type': str, 'LOB': str, 'Distribution Channel': str,\n",
    "            'Sub LOB': str,'Business Partner ID Number': str,  'Product Name': str, 'Product ID Number': str,  'Product Family': str,  'Standard Product': str, 'Total Expenses': float,    })\n",
    "\n",
    "\n",
    "    elif s_format == \"j\":\n",
    "\n",
    "        data = pd.read_json(p, orient=\"table\")\n",
    "\n",
    "    elif s_format == \"p\":\n",
    "\n",
    "        data = pd.read_parquet(p, engine = \"pyarrow\")\n",
    "\n",
    "    bus = data[\"Business Unit\"].unique()\n",
    "    \n",
    "    for i in bus: bu_x_file = bu_x_file.append({\"Business Unit\": i,\"File\": f} , ignore_index=True)\n",
    "\n",
    "        \n",
    "#This is a list of BU's that are included in the raw data files, and the file name(s) they are contained in.\n",
    "bu_filelist = bu_x_file.sort_values(by='Business Unit').style.hide_index()\n",
    "\n",
    "\n"
   ]
  },
  {
   "cell_type": "code",
   "execution_count": 12,
   "id": "bd502c1b",
   "metadata": {
    "execution": {
     "iopub.execute_input": "2021-05-24T22:33:35.702444Z",
     "iopub.status.busy": "2021-05-24T22:33:35.701442Z",
     "iopub.status.idle": "2021-05-24T22:33:35.707446Z",
     "shell.execute_reply": "2021-05-24T22:33:35.708445Z"
    },
    "papermill": {
     "duration": 0.321687,
     "end_time": "2021-05-24T22:33:35.708445",
     "exception": false,
     "start_time": "2021-05-24T22:33:35.386758",
     "status": "completed"
    },
    "tags": []
   },
   "outputs": [
    {
     "data": {
      "text/plain": [
       "1.0"
      ]
     },
     "execution_count": 12,
     "metadata": {},
     "output_type": "execute_result"
    }
   ],
   "source": [
    "\n",
    "bucount =  bu_x_file.groupby(\"Business Unit\").count().sort_values(by='File', ascending=False)\n",
    "\n",
    "filecount =  bu_x_file.groupby(\"File\").count().sort_values(by='File')\n",
    "\n",
    "err_check = 1\n",
    "\n",
    "if len(bucount[bucount[\"File\"] > 4]) > 0: # change this back to 1\n",
    "    warnings.warn(\"\\n \\nThere is a Business Unit with data in multiple source files.\\nReview the file counts and filenames to resolve the issue.\\nThis is a critical control.\")\n",
    "    err_check = 0\n",
    "else:\n",
    "    pass\n",
    "\n",
    "try:\n",
    "    1 / err_check\n",
    "\n",
    "except ZeroDivisionError:\n",
    "    print(\"Execution halted due to multiple source file per one or more Business Units.\")\n"
   ]
  },
  {
   "cell_type": "code",
   "execution_count": 13,
   "id": "aaad6681",
   "metadata": {
    "execution": {
     "iopub.execute_input": "2021-05-24T22:33:36.317830Z",
     "iopub.status.busy": "2021-05-24T22:33:36.309829Z",
     "iopub.status.idle": "2021-05-24T22:33:36.367963Z",
     "shell.execute_reply": "2021-05-24T22:33:36.368968Z"
    },
    "papermill": {
     "duration": 0.381914,
     "end_time": "2021-05-24T22:33:36.369968",
     "exception": false,
     "start_time": "2021-05-24T22:33:35.988054",
     "status": "completed"
    },
    "tags": []
   },
   "outputs": [
    {
     "name": "stdout",
     "output_type": "stream",
     "text": [
      "This is a count of how many BUs appear in each file. It is fine to submit multiple BUs in one source.\n"
     ]
    },
    {
     "data": {
      "text/html": [
       "<div>\n",
       "<style scoped>\n",
       "    .dataframe tbody tr th:only-of-type {\n",
       "        vertical-align: middle;\n",
       "    }\n",
       "\n",
       "    .dataframe tbody tr th {\n",
       "        vertical-align: top;\n",
       "    }\n",
       "\n",
       "    .dataframe thead th {\n",
       "        text-align: right;\n",
       "    }\n",
       "</style>\n",
       "<table border=\"1\" class=\"dataframe\">\n",
       "  <thead>\n",
       "    <tr style=\"text-align: right;\">\n",
       "      <th></th>\n",
       "      <th>Business Unit</th>\n",
       "    </tr>\n",
       "    <tr>\n",
       "      <th>File</th>\n",
       "      <th></th>\n",
       "    </tr>\n",
       "  </thead>\n",
       "  <tbody>\n",
       "    <tr>\n",
       "      <th>us_dat_au_02172021174434.parquet</th>\n",
       "      <td>1</td>\n",
       "    </tr>\n",
       "    <tr>\n",
       "      <th>us_dat_ca_05202021134242.parquet</th>\n",
       "      <td>1</td>\n",
       "    </tr>\n",
       "    <tr>\n",
       "      <th>us_dat_ch_05182021192455.parquet</th>\n",
       "      <td>1</td>\n",
       "    </tr>\n",
       "    <tr>\n",
       "      <th>us_dat_es_05202021105141.parquet</th>\n",
       "      <td>1</td>\n",
       "    </tr>\n",
       "    <tr>\n",
       "      <th>us_dat_it_05242021111520.parquet</th>\n",
       "      <td>1</td>\n",
       "    </tr>\n",
       "    <tr>\n",
       "      <th>us_dat_pt_05202021121056.parquet</th>\n",
       "      <td>1</td>\n",
       "    </tr>\n",
       "  </tbody>\n",
       "</table>\n",
       "</div>"
      ],
      "text/plain": [
       "                                  Business Unit\n",
       "File                                           \n",
       "us_dat_au_02172021174434.parquet              1\n",
       "us_dat_ca_05202021134242.parquet              1\n",
       "us_dat_ch_05182021192455.parquet              1\n",
       "us_dat_es_05202021105141.parquet              1\n",
       "us_dat_it_05242021111520.parquet              1\n",
       "us_dat_pt_05202021121056.parquet              1"
      ]
     },
     "execution_count": 13,
     "metadata": {},
     "output_type": "execute_result"
    },
    {
     "name": "stdout",
     "output_type": "stream",
     "text": [
      "\n",
      "This is a count of how many files each BU appears in. In all cases the count values should be one (1). The process as desgined, should have a single submission and source for each BU.\n"
     ]
    },
    {
     "data": {
      "text/html": [
       "<div>\n",
       "<style scoped>\n",
       "    .dataframe tbody tr th:only-of-type {\n",
       "        vertical-align: middle;\n",
       "    }\n",
       "\n",
       "    .dataframe tbody tr th {\n",
       "        vertical-align: top;\n",
       "    }\n",
       "\n",
       "    .dataframe thead th {\n",
       "        text-align: right;\n",
       "    }\n",
       "</style>\n",
       "<table border=\"1\" class=\"dataframe\">\n",
       "  <thead>\n",
       "    <tr style=\"text-align: right;\">\n",
       "      <th></th>\n",
       "      <th>File</th>\n",
       "    </tr>\n",
       "    <tr>\n",
       "      <th>Business Unit</th>\n",
       "      <th></th>\n",
       "    </tr>\n",
       "  </thead>\n",
       "  <tbody>\n",
       "    <tr>\n",
       "      <th>AU</th>\n",
       "      <td>1</td>\n",
       "    </tr>\n",
       "    <tr>\n",
       "      <th>CA</th>\n",
       "      <td>1</td>\n",
       "    </tr>\n",
       "    <tr>\n",
       "      <th>CH</th>\n",
       "      <td>1</td>\n",
       "    </tr>\n",
       "    <tr>\n",
       "      <th>ES</th>\n",
       "      <td>1</td>\n",
       "    </tr>\n",
       "    <tr>\n",
       "      <th>IT</th>\n",
       "      <td>1</td>\n",
       "    </tr>\n",
       "    <tr>\n",
       "      <th>PT</th>\n",
       "      <td>1</td>\n",
       "    </tr>\n",
       "  </tbody>\n",
       "</table>\n",
       "</div>"
      ],
      "text/plain": [
       "               File\n",
       "Business Unit      \n",
       "AU                1\n",
       "CA                1\n",
       "CH                1\n",
       "ES                1\n",
       "IT                1\n",
       "PT                1"
      ]
     },
     "execution_count": 13,
     "metadata": {},
     "output_type": "execute_result"
    },
    {
     "name": "stdout",
     "output_type": "stream",
     "text": [
      "This is a list of BU's that are included in the raw data files, and the file name(s) they are contained in.\n"
     ]
    },
    {
     "data": {
      "text/html": [
       "<style  type=\"text/css\" >\n",
       "</style><table id=\"T_14427bae_bce0_11eb_8219_8c1645d87358\" ><thead>    <tr>        <th class=\"col_heading level0 col0\" >Business Unit</th>        <th class=\"col_heading level0 col1\" >File</th>    </tr></thead><tbody>\n",
       "                <tr>\n",
       "                                <td id=\"T_14427bae_bce0_11eb_8219_8c1645d87358row0_col0\" class=\"data row0 col0\" >AU</td>\n",
       "                        <td id=\"T_14427bae_bce0_11eb_8219_8c1645d87358row0_col1\" class=\"data row0 col1\" >us_dat_au_02172021174434.parquet</td>\n",
       "            </tr>\n",
       "            <tr>\n",
       "                                <td id=\"T_14427bae_bce0_11eb_8219_8c1645d87358row1_col0\" class=\"data row1 col0\" >CA</td>\n",
       "                        <td id=\"T_14427bae_bce0_11eb_8219_8c1645d87358row1_col1\" class=\"data row1 col1\" >us_dat_ca_05202021134242.parquet</td>\n",
       "            </tr>\n",
       "            <tr>\n",
       "                                <td id=\"T_14427bae_bce0_11eb_8219_8c1645d87358row2_col0\" class=\"data row2 col0\" >CH</td>\n",
       "                        <td id=\"T_14427bae_bce0_11eb_8219_8c1645d87358row2_col1\" class=\"data row2 col1\" >us_dat_ch_05182021192455.parquet</td>\n",
       "            </tr>\n",
       "            <tr>\n",
       "                                <td id=\"T_14427bae_bce0_11eb_8219_8c1645d87358row3_col0\" class=\"data row3 col0\" >ES</td>\n",
       "                        <td id=\"T_14427bae_bce0_11eb_8219_8c1645d87358row3_col1\" class=\"data row3 col1\" >us_dat_es_05202021105141.parquet</td>\n",
       "            </tr>\n",
       "            <tr>\n",
       "                                <td id=\"T_14427bae_bce0_11eb_8219_8c1645d87358row4_col0\" class=\"data row4 col0\" >IT</td>\n",
       "                        <td id=\"T_14427bae_bce0_11eb_8219_8c1645d87358row4_col1\" class=\"data row4 col1\" >us_dat_it_05242021111520.parquet</td>\n",
       "            </tr>\n",
       "            <tr>\n",
       "                                <td id=\"T_14427bae_bce0_11eb_8219_8c1645d87358row5_col0\" class=\"data row5 col0\" >PT</td>\n",
       "                        <td id=\"T_14427bae_bce0_11eb_8219_8c1645d87358row5_col1\" class=\"data row5 col1\" >us_dat_pt_05202021121056.parquet</td>\n",
       "            </tr>\n",
       "    </tbody></table>"
      ],
      "text/plain": [
       "<pandas.io.formats.style.Styler at 0x174b816c9c8>"
      ]
     },
     "execution_count": 13,
     "metadata": {},
     "output_type": "execute_result"
    }
   ],
   "source": [
    "\n",
    "print(\"This is a count of how many BUs appear in each file. It is fine to submit multiple BUs in one source.\")\n",
    "filecount\n",
    "\n",
    "\n",
    "print(\"\\nThis is a count of how many files each BU appears in. In all cases the count values should be one (1). The process as desgined, should have a single submission and source for each BU.\")\n",
    "bucount\n",
    "\n",
    "print(\"This is a list of BU's that are included in the raw data files, and the file name(s) they are contained in.\")   \n",
    "\n",
    "bu_filelist"
   ]
  },
  {
   "cell_type": "markdown",
   "id": "dbe54224",
   "metadata": {
    "papermill": {
     "duration": 0.278698,
     "end_time": "2021-05-24T22:33:36.963935",
     "exception": false,
     "start_time": "2021-05-24T22:33:36.685237",
     "status": "completed"
    },
    "pycharm": {
     "name": "#%% md\n"
    },
    "tags": []
   },
   "source": [
    "- Read each json file into temp DataFrame \"data\".\n",
    "- Prep actions - Strip (trim) leading and trailing spaces values in string columns, remove rows without business units.\n",
    "- Append each json output to into 1 DataFrame \"df\".\n",
    "- Process Cleanup, the indices restart with each append, reset and drop the previous."
   ]
  },
  {
   "cell_type": "code",
   "execution_count": 14,
   "id": "ab52e763",
   "metadata": {
    "execution": {
     "iopub.execute_input": "2021-05-24T22:33:37.607269Z",
     "iopub.status.busy": "2021-05-24T22:33:37.605270Z",
     "iopub.status.idle": "2021-05-24T22:33:38.385514Z",
     "shell.execute_reply": "2021-05-24T22:33:38.387519Z"
    },
    "papermill": {
     "duration": 1.128331,
     "end_time": "2021-05-24T22:33:38.387519",
     "exception": false,
     "start_time": "2021-05-24T22:33:37.259188",
     "status": "completed"
    },
    "pycharm": {
     "name": "#%%\n"
    },
    "tags": []
   },
   "outputs": [],
   "source": [
    "df_dict = {}\n",
    "#empty dict to append each file's DataFrame to\n",
    "\n",
    "for f in pathfiles:\n",
    "\n",
    "    if s_format == \"x\":\n",
    "\n",
    "        try:\n",
    "            data = pd.read_excel(f, sheet_name = 'Portfolio_Monitoring', na_values = [0], header=3, converters={ 'Business Partner Name': str, 'Type of Business': str, 'Type of Account': str, 'Distribution Type': str, 'LOB': str, 'Distribution Channel': str,\n",
    "            'Sub LOB': str,'Business Partner ID Number': str,  'Product Name': str, 'Product ID Number': str,  'Product Family': str,  'Standard Product': str, 'Total Expenses': float,    })\n",
    "\n",
    "        except:\n",
    "            data = pd.read_excel(f, sheet_name = 'Ptf_Monitoring_GROSS_Reins', na_values = [0], header=3, converters={ 'Business Partner Name': str, 'Type of Business': str, 'Type of Account': str, 'Distribution Type': str, 'LOB': str, 'Distribution Channel': str,\n",
    "            'Sub LOB': str,'Business Partner ID Number': str,  'Product Name': str, 'Product ID Number': str,  'Product Family': str,  'Standard Product': str, 'Total Expenses': float,    })\n",
    "\n",
    "\n",
    "    elif s_format == \"j\":\n",
    "\n",
    "        data = pd.read_json(f, orient=\"table\")\n",
    "\n",
    "    elif s_format == \"p\":\n",
    "\n",
    "        data = pd.read_parquet(f, engine = \"pyarrow\")\n",
    "\n",
    "    df_dict.update({f: data})"
   ]
  },
  {
   "cell_type": "markdown",
   "id": "9048e79d",
   "metadata": {
    "papermill": {
     "duration": 0.321173,
     "end_time": "2021-05-24T22:33:39.025370",
     "exception": false,
     "start_time": "2021-05-24T22:33:38.704197",
     "status": "completed"
    },
    "tags": []
   },
   "source": [
    "## Raw file Summaries\n",
    "\n",
    "#### First 5 rows of each file."
   ]
  },
  {
   "cell_type": "code",
   "execution_count": 15,
   "id": "3f9304b1",
   "metadata": {
    "execution": {
     "iopub.execute_input": "2021-05-24T22:33:39.863526Z",
     "iopub.status.busy": "2021-05-24T22:33:39.837526Z",
     "iopub.status.idle": "2021-05-24T22:33:39.919531Z",
     "shell.execute_reply": "2021-05-24T22:33:39.921526Z"
    },
    "papermill": {
     "duration": 0.532404,
     "end_time": "2021-05-24T22:33:39.921526",
     "exception": false,
     "start_time": "2021-05-24T22:33:39.389122",
     "status": "completed"
    },
    "pycharm": {
     "name": "#%%\n"
    },
    "tags": []
   },
   "outputs": [
    {
     "name": "stdout",
     "output_type": "stream",
     "text": [
      "//hecate/Insurance_US/Product Development/Product Management/Global PPM/Reporting/Data Collection/Production/2021.Q1\\live_sources\\us_dat_au_02172021174434.parquet - First 5 Samples:\n",
      "----------------------------------------------------------------------------------------------------\n",
      "  Business Unit Country Currency Region Reporting Date From Reporting Date To  \\\n",
      "0            AU      AU      AUD   APAC          2020-01-01        2020-12-31   \n",
      "1            AU      AU      AUD   APAC          2020-01-01        2020-12-31   \n",
      "2            AU      AU      AUD   APAC          2020-01-01        2020-12-31   \n",
      "3            AU      AU      AUD   APAC          2020-01-01        2020-12-31   \n",
      "4            AU      AU      AUD   APAC          2020-01-01        2020-12-31   \n",
      "\n",
      "  Date of Analysis         Type of Analysis  Analysed Months  Reporting Year  \\\n",
      "0       2021-02-08  Most Recently 12 Months             12.0          2020.0   \n",
      "1       2021-02-08  Most Recently 12 Months             12.0          2020.0   \n",
      "2       2021-02-08  Most Recently 12 Months             12.0          2020.0   \n",
      "3       2021-02-08  Most Recently 12 Months             12.0          2020.0   \n",
      "4       2021-02-08  Most Recently 12 Months             12.0          2020.0   \n",
      "\n",
      "   ...  Profit or Loss  Notes Unnamed: 65 concat2    comsub    expsub  \\\n",
      "0  ...      845.492943                      AUAUD  0.074481  0.591379   \n",
      "1  ...  -202596.689488                      AUAUD  0.361526  0.622344   \n",
      "2  ...     4257.019941                      AUAUD  0.143009  0.495955   \n",
      "3  ...      378.522301                      AUAUD  0.196379  0.351713   \n",
      "4  ...      267.145586                      AUAUD  0.403473  0.493019   \n",
      "\n",
      "  Reporting Date From INT Reporting Date To INT Date of Analysis INT  \\\n",
      "0                20200101              20201231             20210208   \n",
      "1                20200101              20201231             20210208   \n",
      "2                20200101              20201231             20210208   \n",
      "3                20200101              20201231             20210208   \n",
      "4                20200101              20201231             20210208   \n",
      "\n",
      "                      Selected Fields for Duplicates  \n",
      "0  AUInsuranceLocalB2B2CTravelAllianz Affiliation...  \n",
      "1  AUInsuranceLocalB2B2CTravelOffline Travel Agen...  \n",
      "2  AUInsuranceLocalB2B2CTravelOffline Travel Agen...  \n",
      "3  AUInsuranceLocalB2B2CTravelAllianz Affiliation...  \n",
      "4  AUInsuranceLocalB2B2CTravelCarriers - Airlines...  \n",
      "\n",
      "[5 rows x 73 columns]\n",
      "//hecate/Insurance_US/Product Development/Product Management/Global PPM/Reporting/Data Collection/Production/2021.Q1\\live_sources\\us_dat_ca_05202021134242.parquet - First 5 Samples:\n",
      "----------------------------------------------------------------------------------------------------\n",
      "  Business Unit Country Currency         Region Reporting Date From  \\\n",
      "0            CA      CA      CAD  North America          2021-01-01   \n",
      "1            CA      CA      CAD  North America          2021-01-01   \n",
      "2            CA      CA      CAD  North America          2021-01-01   \n",
      "3            CA      CA      CAD  North America          2021-01-01   \n",
      "4            CA      CA      CAD  North America          2021-01-01   \n",
      "\n",
      "  Reporting Date To Date of Analysis Type of Analysis  Analysed Months  \\\n",
      "0        2021-03-31       2021-05-16     Year To Date                3   \n",
      "1        2021-03-31       2021-05-16     Year To Date                3   \n",
      "2        2021-03-31       2021-05-16     Year To Date                3   \n",
      "3        2021-03-31       2021-05-16     Year To Date                3   \n",
      "4        2021-03-31       2021-05-16     Year To Date                3   \n",
      "\n",
      "   Reporting Year  ...                                              Notes  \\\n",
      "0            2021  ...                                                  0   \n",
      "1            2021  ...  Earned premium volume is low. When travel mark...   \n",
      "2            2021  ...  Earned premium volume is low. When travel mark...   \n",
      "3            2021  ...                                                  0   \n",
      "4            2021  ...  Most claims are trip cancelation. $1.1M of inc...   \n",
      "\n",
      "   Unnamed: 66 Reporting Date From INT concat2    comsub    expsub   ibnrsub  \\\n",
      "0          0.0                20210101   CACAD  0.000000  0.501000 -0.348378   \n",
      "1          0.0                20210101   CACAD  0.000000  0.117500 -0.348378   \n",
      "2          0.0                20210101   CACAD  0.000000  0.328200 -0.348378   \n",
      "3          0.0                20210101   CACAD  0.373457  0.209300 -0.348378   \n",
      "4          0.0                20210101   CACAD  0.382848  0.205723 -0.348378   \n",
      "\n",
      "  Reporting Date To INT Date of Analysis INT  \\\n",
      "0              20210331             20210516   \n",
      "1              20210331             20210516   \n",
      "2              20210331             20210516   \n",
      "3              20210331             20210516   \n",
      "4              20210331             20210516   \n",
      "\n",
      "                      Selected Fields for Duplicates  \n",
      "0  CAInsuranceLocalB2B2CTravelBanks / Credit Card...  \n",
      "1  CAInsuranceGlobal - FOSB2CTravelEventTICKETMASTER  \n",
      "2         CAInsuranceGlobal - FOSB2CTravelEventOther  \n",
      "3  CAInsuranceLocalB2B2CTravelOffline Travel Agen...  \n",
      "4  CAInsuranceLocalB2B2CTravelOffline Travel Agen...  \n",
      "\n",
      "[5 rows x 75 columns]\n",
      "//hecate/Insurance_US/Product Development/Product Management/Global PPM/Reporting/Data Collection/Production/2021.Q1\\live_sources\\us_dat_ch_05182021192455.parquet - First 5 Samples:\n",
      "----------------------------------------------------------------------------------------------------\n",
      "  Business Unit Country Currency                           Region  \\\n",
      "0            CH      CH      CHF  North, Central & Eastern Europe   \n",
      "1            CH      CH      CHF  North, Central & Eastern Europe   \n",
      "2            CH      CH      CHF  North, Central & Eastern Europe   \n",
      "3            CH      CH      CHF  North, Central & Eastern Europe   \n",
      "4            CH      CH      CHF  North, Central & Eastern Europe   \n",
      "\n",
      "  Reporting Date From Reporting Date To Date of Analysis  \\\n",
      "0          2020-04-01        2021-03-31       2021-05-12   \n",
      "1          2020-04-01        2021-03-31       2021-05-12   \n",
      "2          2020-04-01        2021-03-31       2021-05-12   \n",
      "3          2020-04-01        2021-03-31       2021-05-12   \n",
      "4          2020-04-01        2021-03-31       2021-05-12   \n",
      "\n",
      "          Type of Analysis  Analysed Months  Reporting Year  ...  Notes  \\\n",
      "0  Most Recently 12 Months               12            2021  ...    0.0   \n",
      "1  Most Recently 12 Months               12            2021  ...    0.0   \n",
      "2  Most Recently 12 Months               12            2021  ...    0.0   \n",
      "3  Most Recently 12 Months               12            2021  ...    0.0   \n",
      "4  Most Recently 12 Months               12            2021  ...    0.0   \n",
      "\n",
      "   Unnamed: 66 concat2 Reporting Date From INT comsub expsub ibnrsub  \\\n",
      "0          0.0   CHCHF                20200401    0.0    0.0     0.0   \n",
      "1          0.0   CHCHF                20200401    0.0    0.0     0.0   \n",
      "2          0.0   CHCHF                20200401    0.0    0.0     0.0   \n",
      "3          0.0   CHCHF                20200401    0.0    0.0     0.0   \n",
      "4          0.0   CHCHF                20200401    0.0    0.0     0.0   \n",
      "\n",
      "  Reporting Date To INT Date of Analysis INT  \\\n",
      "0              20210331             20210512   \n",
      "1              20210331             20210512   \n",
      "2              20210331             20210512   \n",
      "3              20210331             20210512   \n",
      "4              20210331             20210512   \n",
      "\n",
      "                      Selected Fields for Duplicates  \n",
      "0  CHInsuranceGlobal - FOEB2B2CTravelCollision Da...  \n",
      "1  CHInsuranceGlobal - FOEB2B2CTravelCollision Da...  \n",
      "2  CHInsuranceGlobal - FOEB2B2CTravelCollision Da...  \n",
      "3  CHInsuranceGlobal - FOEB2B2CTravelCollision Da...  \n",
      "4  CHInsuranceGlobal - FOEB2B2CTravelCollision Da...  \n",
      "\n",
      "[5 rows x 75 columns]\n",
      "//hecate/Insurance_US/Product Development/Product Management/Global PPM/Reporting/Data Collection/Production/2021.Q1\\live_sources\\us_dat_es_05202021105141.parquet - First 5 Samples:\n",
      "----------------------------------------------------------------------------------------------------\n",
      "  Business Unit Country Currency                       Region  \\\n",
      "0            ES      ES      EUR  Western Europe, LATAM & MEA   \n",
      "1            ES      ES      EUR  Western Europe, LATAM & MEA   \n",
      "2            ES      ES      EUR  Western Europe, LATAM & MEA   \n",
      "3            ES      ES      EUR  Western Europe, LATAM & MEA   \n",
      "4            ES      ES      EUR  Western Europe, LATAM & MEA   \n",
      "\n",
      "  Reporting Date From Reporting Date To Date of Analysis Type of Analysis  \\\n",
      "0          2021-01-01        2021-03-31       2021-03-31     Year To Date   \n",
      "1          2021-01-01        2021-03-31       2021-03-31     Year To Date   \n",
      "2          2021-01-01        2021-03-31       2021-03-31     Year To Date   \n",
      "3          2021-01-01        2021-03-31       2021-03-31     Year To Date   \n",
      "4          2021-01-01        2021-03-31       2021-03-31     Year To Date   \n",
      "\n",
      "   Analysed Months  Reporting Year  ...  Notes  Unnamed: 66 concat2  \\\n",
      "0                3            2021  ...    0.0          0.0   ESEUR   \n",
      "1                3            2021  ...    0.0          0.0   ESEUR   \n",
      "2                3            2021  ...    0.0          0.0   ESEUR   \n",
      "3                3            2021  ...    0.0          0.0   ESEUR   \n",
      "4                3            2021  ...    0.0          0.0   ESEUR   \n",
      "\n",
      "  Reporting Date From INT    comsub    expsub ibnrsub Reporting Date To INT  \\\n",
      "0                20210101  0.686417  0.266793     0.0              20210331   \n",
      "1                20210101  0.042612  0.752476     0.0              20210331   \n",
      "2                20210101  0.000000  0.567100     0.0              20210331   \n",
      "3                20210101  0.671371  0.273375     0.0              20210331   \n",
      "4                20210101  0.436923  0.375946     0.0              20210331   \n",
      "\n",
      "  Date of Analysis INT                     Selected Fields for Duplicates  \n",
      "0             20210331  ESInsuranceGlobal - FOEB2B2CTravelCarriers - A...  \n",
      "1             20210331  ESInsuranceGlobal - FOEB2CTravelDirect (Allian...  \n",
      "2             20210331  ESReinsuranceGlobal - FOEB2B2CTravelDirect (Al...  \n",
      "3             20210331  ESInsuranceGlobal - FOEB2B2CTravelOnline Trave...  \n",
      "4             20210331  ESInsuranceGlobal - FOEB2B2CTravelCarriers - A...  \n",
      "\n",
      "[5 rows x 75 columns]\n",
      "//hecate/Insurance_US/Product Development/Product Management/Global PPM/Reporting/Data Collection/Production/2021.Q1\\live_sources\\us_dat_it_05242021111520.parquet - First 5 Samples:\n",
      "----------------------------------------------------------------------------------------------------\n",
      "  Business Unit Country Currency                       Region  \\\n",
      "0            IT      IT      EUR  Western Europe, LATAM & MEA   \n",
      "1            IT      IT      EUR  Western Europe, LATAM & MEA   \n",
      "2            IT      IT      EUR  Western Europe, LATAM & MEA   \n",
      "3            IT      IT      EUR  Western Europe, LATAM & MEA   \n",
      "4            IT      IT      EUR  Western Europe, LATAM & MEA   \n",
      "\n",
      "  Reporting Date From Reporting Date To Date of Analysis Type of Analysis  \\\n",
      "0          2021-01-01        2021-03-31       2021-04-23     Year To Date   \n",
      "1          2021-01-01        2021-03-31       2021-04-23     Year To Date   \n",
      "2          2021-01-01        2021-03-31       2021-04-23     Year To Date   \n",
      "3          2021-01-01        2021-03-31       2021-04-23     Year To Date   \n",
      "4          2021-01-01        2021-03-31       2021-04-23     Year To Date   \n",
      "\n",
      "   Analysed Months  Reporting Year  ...  \\\n",
      "0                3            2021  ...   \n",
      "1                3            2021  ...   \n",
      "2                3            2021  ...   \n",
      "3                3            2021  ...   \n",
      "4                3            2021  ...   \n",
      "\n",
      "                                               Notes  Unnamed: 66  \\\n",
      "0  The results are not considering exceptional ac...          0.0   \n",
      "1  The results are not considering exceptional ac...          0.0   \n",
      "2  The results are not considering exceptional ac...          0.0   \n",
      "3  The results are not considering exceptional ac...          0.0   \n",
      "4  The results are not considering exceptional ac...          0.0   \n",
      "\n",
      "  Reporting Date From INT concat2    comsub    expsub   ibnrsub  \\\n",
      "0                20210101   ITEUR  0.320795  1.514629  0.041494   \n",
      "1                20210101   ITEUR  0.223201  1.217285  0.054885   \n",
      "2                20210101   ITEUR  0.326961  1.804833  0.049736   \n",
      "3                20210101   ITEUR  0.337586  2.259027  0.067857   \n",
      "4                20210101   ITEUR  0.171111  2.577663  0.004587   \n",
      "\n",
      "  Reporting Date To INT Date of Analysis INT  \\\n",
      "0              20210331             20210423   \n",
      "1              20210331             20210423   \n",
      "2              20210331             20210423   \n",
      "3              20210331             20210423   \n",
      "4              20210331             20210423   \n",
      "\n",
      "                      Selected Fields for Duplicates  \n",
      "0  ITInsuranceLocalB2B2CTravelOffline Travel Agen...  \n",
      "1  ITInsuranceLocalB2B2CTravelOffline Travel Agen...  \n",
      "2  ITInsuranceLocalB2B2CTravelOffline Travel Agen...  \n",
      "3  ITInsuranceLocalB2B2CTravelOffline Travel Agen...  \n",
      "4  ITInsuranceLocalB2B2CTravelOffline Travel Agen...  \n",
      "\n",
      "[5 rows x 75 columns]\n",
      "//hecate/Insurance_US/Product Development/Product Management/Global PPM/Reporting/Data Collection/Production/2021.Q1\\live_sources\\us_dat_pt_05202021121056.parquet - First 5 Samples:\n",
      "----------------------------------------------------------------------------------------------------\n",
      "  Business Unit Country Currency                       Region  \\\n",
      "0            PT      PT      EUR  Western Europe, LATAM & MEA   \n",
      "1            PT      PT      EUR  Western Europe, LATAM & MEA   \n",
      "2            PT      PT      EUR  Western Europe, LATAM & MEA   \n",
      "3            PT      PT      EUR  Western Europe, LATAM & MEA   \n",
      "4            PT      PT      EUR  Western Europe, LATAM & MEA   \n",
      "\n",
      "  Reporting Date From Reporting Date To Date of Analysis Type of Analysis  \\\n",
      "0          2021-01-01        2021-03-31       2021-03-31     Year To Date   \n",
      "1          2021-01-01        2021-03-31       2021-03-31     Year To Date   \n",
      "2          2021-01-01        2021-03-31       2021-03-31     Year To Date   \n",
      "3          2021-01-01        2021-03-31       2021-03-31     Year To Date   \n",
      "4          2021-01-01        2021-03-31       2021-03-31     Year To Date   \n",
      "\n",
      "   Analysed Months  Reporting Year  ...  Notes  Unnamed: 66 concat2  \\\n",
      "0                3            2021  ...    0.0          0.0   PTEUR   \n",
      "1                3            2021  ...    0.0          0.0   PTEUR   \n",
      "2                3            2021  ...    0.0          0.0   PTEUR   \n",
      "3                3            2021  ...    0.0          0.0   PTEUR   \n",
      "4                3            2021  ...    0.0          0.0   PTEUR   \n",
      "\n",
      "  Reporting Date From INT    comsub    expsub ibnrsub Reporting Date To INT  \\\n",
      "0                20210101  0.611161  0.212125     0.0              20210331   \n",
      "1                20210101  0.000000  0.457677     0.0              20210331   \n",
      "2                20210101  0.410011  0.260619     0.0              20210331   \n",
      "3                20210101  0.000000  1.124732     0.0              20210331   \n",
      "4                20210101  0.582738  0.186102     0.0              20210331   \n",
      "\n",
      "  Date of Analysis INT                     Selected Fields for Duplicates  \n",
      "0             20210331  PTInsuranceGlobal - FOEB2B2CTravelCarriers - A...  \n",
      "1             20210331  PTInsuranceGlobal - FOEB2B2CTravelCarriers - A...  \n",
      "2             20210331  PTInsuranceGlobal - FOEB2B2CTravelCarriers - A...  \n",
      "3             20210331  PTInsuranceGlobal - FOEB2B2CTravelCarriers - A...  \n",
      "4             20210331  PTInsuranceGlobal - FOEB2B2CTravelCarriers - A...  \n",
      "\n",
      "[5 rows x 75 columns]\n"
     ]
    }
   ],
   "source": [
    "if run_control > 0:\n",
    "\n",
    "    for k, v in df_dict.items():\n",
    "        print(f\"{k} - First 5 Samples:\")\n",
    "        print(\"-\" * 100)\n",
    "        print(v.head())\n",
    "\n",
    "else:\n",
    "    print(\"Default Report 2 Skipped\")"
   ]
  },
  {
   "cell_type": "markdown",
   "id": "e7e4aea5",
   "metadata": {
    "papermill": {
     "duration": 0.406512,
     "end_time": "2021-05-24T22:33:40.718763",
     "exception": false,
     "start_time": "2021-05-24T22:33:40.312251",
     "status": "completed"
    },
    "tags": []
   },
   "source": [
    "#### Summary Statisitics."
   ]
  },
  {
   "cell_type": "code",
   "execution_count": 16,
   "id": "64556fef",
   "metadata": {
    "execution": {
     "iopub.execute_input": "2021-05-24T22:33:41.706664Z",
     "iopub.status.busy": "2021-05-24T22:33:41.689664Z",
     "iopub.status.idle": "2021-05-24T22:33:43.056151Z",
     "shell.execute_reply": "2021-05-24T22:33:43.056151Z"
    },
    "papermill": {
     "duration": 1.874343,
     "end_time": "2021-05-24T22:33:43.057149",
     "exception": false,
     "start_time": "2021-05-24T22:33:41.182806",
     "status": "completed"
    },
    "pycharm": {
     "name": "#%%\n"
    },
    "tags": []
   },
   "outputs": [
    {
     "name": "stdout",
     "output_type": "stream",
     "text": [
      "//hecate/Insurance_US/Product Development/Product Management/Global PPM/Reporting/Data Collection/Production/2021.Q1\\live_sources\\us_dat_au_02172021174434.parquet - Statistical summary:\n",
      "----------------------------------------------------------------------------------------------------\n",
      "       Analysed Months  Reporting Year  Reporting Quarter  Reporting Month  \\\n",
      "count             85.0            85.0               85.0             85.0   \n",
      "mean              12.0          2020.0                4.0             12.0   \n",
      "std                0.0             0.0                0.0              0.0   \n",
      "min               12.0          2020.0                4.0             12.0   \n",
      "25%               12.0          2020.0                4.0             12.0   \n",
      "50%               12.0          2020.0                4.0             12.0   \n",
      "75%               12.0          2020.0                4.0             12.0   \n",
      "max               12.0          2020.0                4.0             12.0   \n",
      "\n",
      "       Number of Policies (Written)  Written Revenues net of Taxes  \\\n",
      "count                  8.500000e+01                   8.500000e+01   \n",
      "mean                   3.759312e+04                   8.548919e+05   \n",
      "std                    1.717855e+05                   3.651625e+06   \n",
      "min                    0.000000e+00                  -6.000000e-02   \n",
      "25%                    0.000000e+00                   0.000000e+00   \n",
      "50%                    4.000000e+00                   6.414310e+03   \n",
      "75%                    2.866292e+03                   1.282057e+05   \n",
      "max                    1.179829e+06                   2.856292e+07   \n",
      "\n",
      "       Earned Revenues net of Taxes  Earned Base Commissions  \\\n",
      "count                  8.500000e+01             8.500000e+01   \n",
      "mean                   1.270249e+06             1.398060e+05   \n",
      "std                    4.288740e+06             5.578316e+05   \n",
      "min                    0.000000e+00             0.000000e+00   \n",
      "25%                    1.538900e+03             3.333150e+01   \n",
      "50%                    1.879826e+04             1.798831e+03   \n",
      "75%                    3.918308e+05             2.566228e+04   \n",
      "max                    2.931660e+07             4.548288e+06   \n",
      "\n",
      "       Earned Over-Commissions  Total Compensation  ...  Loss Ratio  \\\n",
      "count                     85.0        8.500000e+01  ...   83.000000   \n",
      "mean                       0.0        1.398060e+05  ...    0.462099   \n",
      "std                        0.0        5.578316e+05  ...    1.243853   \n",
      "min                        0.0        0.000000e+00  ...    0.000000   \n",
      "25%                        0.0        3.333150e+01  ...    0.025043   \n",
      "50%                        0.0        1.798831e+03  ...    0.181102   \n",
      "75%                        0.0        2.566228e+04  ...    0.435760   \n",
      "max                        0.0        4.548288e+06  ...   10.284581   \n",
      "\n",
      "       Commission Ratio  Expense Ratio  Combined Ratio  Profit or Loss  \\\n",
      "count         83.000000      83.000000       85.000000    8.500000e+01   \n",
      "mean           0.261198       0.783300        1.471147   -4.118352e+04   \n",
      "std            0.206592       1.153513        2.126577    1.135069e+06   \n",
      "min            0.000000       0.207825        0.000000   -5.761272e+06   \n",
      "25%            0.131675       0.357614        0.705795   -1.702785e+04   \n",
      "50%            0.283592       0.541776        1.024381   -1.308312e+01   \n",
      "75%            0.324113       0.762481        1.518018    1.215381e+03   \n",
      "max            1.313479      10.091894       14.919998    5.947419e+06   \n",
      "\n",
      "          comsub     expsub  Reporting Date From INT  Reporting Date To INT  \\\n",
      "count  83.000000  83.000000                     85.0                   85.0   \n",
      "mean    0.261198   0.783300               20200101.0             20201231.0   \n",
      "std     0.206592   1.153513                      0.0                    0.0   \n",
      "min     0.000000   0.207825               20200101.0             20201231.0   \n",
      "25%     0.131675   0.357614               20200101.0             20201231.0   \n",
      "50%     0.283592   0.541776               20200101.0             20201231.0   \n",
      "75%     0.324113   0.762481               20200101.0             20201231.0   \n",
      "max     1.313479  10.091894               20200101.0             20201231.0   \n",
      "\n",
      "       Date of Analysis INT  \n",
      "count                  85.0  \n",
      "mean             20210208.0  \n",
      "std                     0.0  \n",
      "min              20210208.0  \n",
      "25%              20210208.0  \n",
      "50%              20210208.0  \n",
      "75%              20210208.0  \n",
      "max              20210208.0  \n",
      "\n",
      "[8 rows x 36 columns]\n",
      "//hecate/Insurance_US/Product Development/Product Management/Global PPM/Reporting/Data Collection/Production/2021.Q1\\live_sources\\us_dat_ca_05202021134242.parquet - Statistical summary:\n",
      "----------------------------------------------------------------------------------------------------\n"
     ]
    },
    {
     "name": "stdout",
     "output_type": "stream",
     "text": [
      "       Analysed Months  Reporting Year  Reporting Quarter  Reporting Month  \\\n",
      "count             17.0            17.0               17.0             17.0   \n",
      "mean               3.0          2021.0                1.0              3.0   \n",
      "std                0.0             0.0                0.0              0.0   \n",
      "min                3.0          2021.0                1.0              3.0   \n",
      "25%                3.0          2021.0                1.0              3.0   \n",
      "50%                3.0          2021.0                1.0              3.0   \n",
      "75%                3.0          2021.0                1.0              3.0   \n",
      "max                3.0          2021.0                1.0              3.0   \n",
      "\n",
      "       Number of Products per Row  Number of B-Partners per Row  \\\n",
      "count                        17.0                          17.0   \n",
      "mean                          0.0                           0.0   \n",
      "std                           0.0                           0.0   \n",
      "min                           0.0                           0.0   \n",
      "25%                           0.0                           0.0   \n",
      "50%                           0.0                           0.0   \n",
      "75%                           0.0                           0.0   \n",
      "max                           0.0                           0.0   \n",
      "\n",
      "       Number of Policies (Written)  Units of Risk (Written)  \\\n",
      "count                     17.000000                17.000000   \n",
      "mean                    2813.764706              4230.235294   \n",
      "std                     5528.129719              8568.623449   \n",
      "min                       77.000000                77.000000   \n",
      "25%                      346.000000               355.000000   \n",
      "50%                      687.000000               841.000000   \n",
      "75%                     1371.000000              1635.000000   \n",
      "max                    20854.000000             28556.000000   \n",
      "\n",
      "       Written Revenues net of Taxes  Written Revenues  ...  Expense Ratio  \\\n",
      "count                   1.700000e+01      1.700000e+01  ...      17.000000   \n",
      "mean                    5.886452e+05      5.912323e+05  ...       0.256156   \n",
      "std                     1.861702e+06      1.861952e+06  ...       0.138657   \n",
      "min                     7.215930e+03      7.565870e+03  ...       0.117500   \n",
      "25%                     3.366154e+04      3.366154e+04  ...       0.190700   \n",
      "50%                     5.481878e+04      5.810576e+04  ...       0.209300   \n",
      "75%                     1.902312e+05      1.909976e+05  ...       0.251300   \n",
      "max                     7.747401e+06      7.749806e+06  ...       0.660800   \n",
      "\n",
      "       Combined Ratio  Profit or Loss  Unnamed: 66  Reporting Date From INT  \\\n",
      "count       17.000000       17.000000         17.0                     17.0   \n",
      "mean         0.768363   -44784.158319          0.0               20210101.0   \n",
      "std          0.431847   216342.293570          0.0                      0.0   \n",
      "min          0.151952  -846481.853805          0.0               20210101.0   \n",
      "25%          0.409671     -728.982168          0.0               20210101.0   \n",
      "50%          0.818465    12780.930435          0.0               20210101.0   \n",
      "75%          1.025137    34654.914519          0.0               20210101.0   \n",
      "max          1.620087    63386.297389          0.0               20210101.0   \n",
      "\n",
      "          comsub     expsub       ibnrsub  Reporting Date To INT  \\\n",
      "count  17.000000  17.000000  1.700000e+01                   17.0   \n",
      "mean    0.114148   0.256156 -3.483780e-01             20210331.0   \n",
      "std     0.161509   0.138657  1.144392e-16                    0.0   \n",
      "min     0.000000   0.117500 -3.483780e-01             20210331.0   \n",
      "25%     0.000000   0.190700 -3.483780e-01             20210331.0   \n",
      "50%     0.000000   0.209300 -3.483780e-01             20210331.0   \n",
      "75%     0.212110   0.251300 -3.483780e-01             20210331.0   \n",
      "max     0.440105   0.660800 -3.483780e-01             20210331.0   \n",
      "\n",
      "       Date of Analysis INT  \n",
      "count                  17.0  \n",
      "mean             20210516.0  \n",
      "std                     0.0  \n",
      "min              20210516.0  \n",
      "25%              20210516.0  \n",
      "50%              20210516.0  \n",
      "75%              20210516.0  \n",
      "max              20210516.0  \n",
      "\n",
      "[8 rows x 52 columns]\n",
      "//hecate/Insurance_US/Product Development/Product Management/Global PPM/Reporting/Data Collection/Production/2021.Q1\\live_sources\\us_dat_ch_05182021192455.parquet - Statistical summary:\n",
      "----------------------------------------------------------------------------------------------------\n"
     ]
    },
    {
     "name": "stdout",
     "output_type": "stream",
     "text": [
      "       Analysed Months  Reporting Year  Reporting Quarter  Reporting Month  \\\n",
      "count           3187.0          3187.0             3187.0           3187.0   \n",
      "mean              12.0          2021.0                1.0              3.0   \n",
      "std                0.0             0.0                0.0              0.0   \n",
      "min               12.0          2021.0                1.0              3.0   \n",
      "25%               12.0          2021.0                1.0              3.0   \n",
      "50%               12.0          2021.0                1.0              3.0   \n",
      "75%               12.0          2021.0                1.0              3.0   \n",
      "max               12.0          2021.0                1.0              3.0   \n",
      "\n",
      "       Number of Products per Row  Number of B-Partners per Row  \\\n",
      "count                      3187.0                   3187.000000   \n",
      "mean                          1.0                     10.396297   \n",
      "std                           0.0                     33.928521   \n",
      "min                           1.0                      1.000000   \n",
      "25%                           1.0                      1.000000   \n",
      "50%                           1.0                      1.000000   \n",
      "75%                           1.0                      5.000000   \n",
      "max                           1.0                    561.000000   \n",
      "\n",
      "       Number of Policies (Written)  Units of Risk (Written)  \\\n",
      "count                        3187.0                   3187.0   \n",
      "mean                            0.0                      0.0   \n",
      "std                             0.0                      0.0   \n",
      "min                             0.0                      0.0   \n",
      "25%                             0.0                      0.0   \n",
      "50%                             0.0                      0.0   \n",
      "75%                             0.0                      0.0   \n",
      "max                             0.0                      0.0   \n",
      "\n",
      "       Written Revenues net of Taxes  Written Revenues  ...  Expense Ratio  \\\n",
      "count                   3.187000e+03            3187.0  ...    3187.000000   \n",
      "mean                    9.434072e+03               0.0  ...       0.156057   \n",
      "std                     7.258983e+04               0.0  ...       0.156587   \n",
      "min                    -2.595101e+05               0.0  ...       0.000000   \n",
      "25%                     0.000000e+00               0.0  ...       0.000000   \n",
      "50%                     0.000000e+00               0.0  ...       0.215348   \n",
      "75%                     4.999000e+01               0.0  ...       0.298194   \n",
      "max                     1.614030e+06               0.0  ...       0.910916   \n",
      "\n",
      "       Combined Ratio  Profit or Loss  Unnamed: 66  Reporting Date From INT  \\\n",
      "count     3187.000000    3.187000e+03       3187.0                   3187.0   \n",
      "mean         0.353075    3.272793e+03          0.0               20200401.0   \n",
      "std          1.323275    3.927051e+04          0.0                      0.0   \n",
      "min         -6.883107   -5.281142e+05          0.0               20200401.0   \n",
      "25%          0.000000    0.000000e+00          0.0               20200401.0   \n",
      "50%          0.372000    0.000000e+00          0.0               20200401.0   \n",
      "75%          0.497952    3.197619e+02          0.0               20200401.0   \n",
      "max         41.336509    1.013611e+06          0.0               20200401.0   \n",
      "\n",
      "            comsub       expsub  ibnrsub  Reporting Date To INT  \\\n",
      "count  3187.000000  3187.000000   3187.0                 3187.0   \n",
      "mean      0.092573     0.156057      0.0             20210331.0   \n",
      "std       0.132725     0.156587      0.0                    0.0   \n",
      "min      -1.448700     0.000000      0.0             20210331.0   \n",
      "25%       0.000000     0.000000      0.0             20210331.0   \n",
      "50%       0.000000     0.215348      0.0             20210331.0   \n",
      "75%       0.199514     0.298194      0.0             20210331.0   \n",
      "max       0.688712     0.910916      0.0             20210331.0   \n",
      "\n",
      "       Date of Analysis INT  \n",
      "count                3187.0  \n",
      "mean             20210512.0  \n",
      "std                     0.0  \n",
      "min              20210512.0  \n",
      "25%              20210512.0  \n",
      "50%              20210512.0  \n",
      "75%              20210512.0  \n",
      "max              20210512.0  \n",
      "\n",
      "[8 rows x 52 columns]\n",
      "//hecate/Insurance_US/Product Development/Product Management/Global PPM/Reporting/Data Collection/Production/2021.Q1\\live_sources\\us_dat_es_05202021105141.parquet - Statistical summary:\n",
      "----------------------------------------------------------------------------------------------------\n"
     ]
    },
    {
     "name": "stdout",
     "output_type": "stream",
     "text": [
      "       Analysed Months  Reporting Year  Reporting Quarter  Reporting Month  \\\n",
      "count             28.0            28.0               28.0             28.0   \n",
      "mean               3.0          2021.0                1.0              3.0   \n",
      "std                0.0             0.0                0.0              0.0   \n",
      "min                3.0          2021.0                1.0              3.0   \n",
      "25%                3.0          2021.0                1.0              3.0   \n",
      "50%                3.0          2021.0                1.0              3.0   \n",
      "75%                3.0          2021.0                1.0              3.0   \n",
      "max                3.0          2021.0                1.0              3.0   \n",
      "\n",
      "       Number of Products per Row  Number of B-Partners per Row  \\\n",
      "count                   28.000000                          28.0   \n",
      "mean                     2.428571                           1.0   \n",
      "std                      3.084352                           0.0   \n",
      "min                      1.000000                           1.0   \n",
      "25%                      1.000000                           1.0   \n",
      "50%                      1.000000                           1.0   \n",
      "75%                      2.000000                           1.0   \n",
      "max                     12.000000                           1.0   \n",
      "\n",
      "       Number of Policies (Written)  Units of Risk (Written)  \\\n",
      "count                          28.0                     28.0   \n",
      "mean                            0.0                      0.0   \n",
      "std                             0.0                      0.0   \n",
      "min                             0.0                      0.0   \n",
      "25%                             0.0                      0.0   \n",
      "50%                             0.0                      0.0   \n",
      "75%                             0.0                      0.0   \n",
      "max                             0.0                      0.0   \n",
      "\n",
      "       Written Revenues net of Taxes  Written Revenues  ...  Expense Ratio  \\\n",
      "count                      28.000000         28.000000  ...      28.000000   \n",
      "mean                    31871.121786      34468.618211  ...       0.341757   \n",
      "std                     91904.753965      99394.991414  ...       0.471154   \n",
      "min                      -226.850000       -245.338275  ...      -1.987020   \n",
      "25%                         0.000000          0.000000  ...       0.353640   \n",
      "50%                       554.725000        599.935088  ...       0.387643   \n",
      "75%                     26157.020000      28288.817130  ...       0.538002   \n",
      "max                    479491.400000     518569.949100  ...       0.752476   \n",
      "\n",
      "       Combined Ratio  Profit or Loss  Unnamed: 66  Reporting Date From INT  \\\n",
      "count       28.000000       28.000000         28.0                     28.0   \n",
      "mean         1.327690    -1261.838696          0.0               20210101.0   \n",
      "std          1.863748    13741.861647          0.0                      0.0   \n",
      "min          0.567100   -54866.736187          0.0               20210101.0   \n",
      "25%          0.789916    -1552.174154          0.0               20210101.0   \n",
      "50%          0.835556       34.204671          0.0               20210101.0   \n",
      "75%          1.055084      335.372969          0.0               20210101.0   \n",
      "max         10.210832    39618.377705          0.0               20210101.0   \n",
      "\n",
      "          comsub     expsub  ibnrsub  Reporting Date To INT  \\\n",
      "count  28.000000  28.000000     28.0                   28.0   \n",
      "mean    0.531725   0.341757      0.0             20210331.0   \n",
      "std     1.065411   0.471154      0.0                    0.0   \n",
      "min     0.000000  -1.987020      0.0             20210331.0   \n",
      "25%     0.077162   0.353640      0.0             20210331.0   \n",
      "50%     0.410187   0.387643      0.0             20210331.0   \n",
      "75%     0.487909   0.538002      0.0             20210331.0   \n",
      "max     5.837989   0.752476      0.0             20210331.0   \n",
      "\n",
      "       Date of Analysis INT  \n",
      "count                  28.0  \n",
      "mean             20210331.0  \n",
      "std                     0.0  \n",
      "min              20210331.0  \n",
      "25%              20210331.0  \n",
      "50%              20210331.0  \n",
      "75%              20210331.0  \n",
      "max              20210331.0  \n",
      "\n",
      "[8 rows x 52 columns]\n",
      "//hecate/Insurance_US/Product Development/Product Management/Global PPM/Reporting/Data Collection/Production/2021.Q1\\live_sources\\us_dat_it_05242021111520.parquet - Statistical summary:\n",
      "----------------------------------------------------------------------------------------------------\n"
     ]
    },
    {
     "name": "stdout",
     "output_type": "stream",
     "text": [
      "       Analysed Months  Reporting Year  Reporting Quarter  Reporting Month  \\\n",
      "count            100.0           100.0              100.0            100.0   \n",
      "mean               3.0          2021.0                1.0              3.0   \n",
      "std                0.0             0.0                0.0              0.0   \n",
      "min                3.0          2021.0                1.0              3.0   \n",
      "25%                3.0          2021.0                1.0              3.0   \n",
      "50%                3.0          2021.0                1.0              3.0   \n",
      "75%                3.0          2021.0                1.0              3.0   \n",
      "max                3.0          2021.0                1.0              3.0   \n",
      "\n",
      "       Number of Products per Row  Number of B-Partners per Row  \\\n",
      "count                  100.000000                    100.000000   \n",
      "mean                     2.790000                     34.830000   \n",
      "std                      7.657168                    102.610478   \n",
      "min                      1.000000                      0.000000   \n",
      "25%                      1.000000                      0.000000   \n",
      "50%                      1.000000                      1.000000   \n",
      "75%                      3.000000                      1.250000   \n",
      "max                     77.000000                    718.000000   \n",
      "\n",
      "       Number of Policies (Written)  Units of Risk (Written)  \\\n",
      "count                    100.000000               100.000000   \n",
      "mean                     165.576418               265.686398   \n",
      "std                      375.395173               660.132576   \n",
      "min                       -1.000000              -187.000000   \n",
      "25%                        0.000000                 0.000000   \n",
      "50%                        6.000000                 9.500000   \n",
      "75%                       99.000000               124.999919   \n",
      "max                     1957.000000              3729.999998   \n",
      "\n",
      "       Written Revenues net of Taxes  Written Revenues  ...  Expense Ratio  \\\n",
      "count                     100.000000        100.000000  ...     100.000000   \n",
      "mean                    12189.608100      13739.244100  ...       2.097402   \n",
      "std                     42636.549114      50201.109872  ...       3.796974   \n",
      "min                     -7313.790000      -8868.190000  ...       0.000000   \n",
      "25%                         0.000000          0.000000  ...       0.649380   \n",
      "50%                       297.900000        330.200000  ...       1.217236   \n",
      "75%                      7183.357500       8208.787500  ...       2.262531   \n",
      "max                    371455.040000     450399.510000  ...      30.930267   \n",
      "\n",
      "       Combined Ratio  Profit or Loss  Unnamed: 66  Reporting Date From INT  \\\n",
      "count      100.000000      100.000000        100.0                    100.0   \n",
      "mean         2.464024   -18649.728235          0.0               20210101.0   \n",
      "std          4.232072    47971.933486          0.0                      0.0   \n",
      "min          0.000000  -282221.593989          0.0               20210101.0   \n",
      "25%          1.143015   -10064.871114          0.0               20210101.0   \n",
      "50%          1.768710     -117.421478          0.0               20210101.0   \n",
      "75%          2.320745       -0.012625          0.0               20210101.0   \n",
      "max         31.307820        0.097460          0.0               20210101.0   \n",
      "\n",
      "           comsub      expsub     ibnrsub  Reporting Date To INT  \\\n",
      "count  100.000000  100.000000  100.000000                  100.0   \n",
      "mean     0.236033    2.097402    0.031076             20210331.0   \n",
      "std      0.333152    3.796974    0.105916                    0.0   \n",
      "min      0.000000    0.000000    0.000000             20210331.0   \n",
      "25%      0.000000    0.649380    0.000000             20210331.0   \n",
      "50%      0.205893    1.217236    0.000000             20210331.0   \n",
      "75%      0.323508    2.262531    0.000000             20210331.0   \n",
      "max      2.517135   30.930267    0.692736             20210331.0   \n",
      "\n",
      "       Date of Analysis INT  \n",
      "count          1.000000e+02  \n",
      "mean           2.021044e+07  \n",
      "std            3.762586e+01  \n",
      "min            2.021042e+07  \n",
      "25%            2.021042e+07  \n",
      "50%            2.021043e+07  \n",
      "75%            2.021043e+07  \n",
      "max            2.021051e+07  \n",
      "\n",
      "[8 rows x 52 columns]\n",
      "//hecate/Insurance_US/Product Development/Product Management/Global PPM/Reporting/Data Collection/Production/2021.Q1\\live_sources\\us_dat_pt_05202021121056.parquet - Statistical summary:\n",
      "----------------------------------------------------------------------------------------------------\n"
     ]
    },
    {
     "name": "stdout",
     "output_type": "stream",
     "text": [
      "       Analysed Months  Reporting Year  Reporting Quarter  Reporting Month  \\\n",
      "count             39.0            39.0               39.0             39.0   \n",
      "mean               3.0          2021.0                1.0              3.0   \n",
      "std                0.0             0.0                0.0              0.0   \n",
      "min                3.0          2021.0                1.0              3.0   \n",
      "25%                3.0          2021.0                1.0              3.0   \n",
      "50%                3.0          2021.0                1.0              3.0   \n",
      "75%                3.0          2021.0                1.0              3.0   \n",
      "max                3.0          2021.0                1.0              3.0   \n",
      "\n",
      "       Number of Products per Row  Number of B-Partners per Row  \\\n",
      "count                        39.0                          39.0   \n",
      "mean                          1.0                           1.0   \n",
      "std                           0.0                           0.0   \n",
      "min                           1.0                           1.0   \n",
      "25%                           1.0                           1.0   \n",
      "50%                           1.0                           1.0   \n",
      "75%                           1.0                           1.0   \n",
      "max                           1.0                           1.0   \n",
      "\n",
      "       Number of Policies (Written)  Units of Risk (Written)  \\\n",
      "count                          39.0                     39.0   \n",
      "mean                            0.0                      0.0   \n",
      "std                             0.0                      0.0   \n",
      "min                             0.0                      0.0   \n",
      "25%                             0.0                      0.0   \n",
      "50%                             0.0                      0.0   \n",
      "75%                             0.0                      0.0   \n",
      "max                             0.0                      0.0   \n",
      "\n",
      "       Written Revenues net of Taxes  Written Revenues  ...  Expense Ratio  \\\n",
      "count                      39.000000         39.000000  ...      39.000000   \n",
      "mean                     1473.699487       1606.332441  ...       1.064882   \n",
      "std                      2887.217265       3147.066818  ...       2.950772   \n",
      "min                      -527.920000       -575.432800  ...       0.186102   \n",
      "25%                         0.000000          0.000000  ...       0.311490   \n",
      "50%                       246.950000        269.175500  ...       0.538397   \n",
      "75%                      1481.095000       1614.393550  ...       0.661524   \n",
      "max                     12844.270000      14000.254300  ...      18.673326   \n",
      "\n",
      "       Combined Ratio  Profit or Loss  Unnamed: 66  Reporting Date From INT  \\\n",
      "count       39.000000       39.000000         39.0                     39.0   \n",
      "mean         2.263683      235.746254          0.0               20210101.0   \n",
      "std          8.963638      880.199249          0.0                      0.0   \n",
      "min          0.263300    -1461.713685          0.0               20210101.0   \n",
      "25%          0.627300        3.231920          0.0               20210101.0   \n",
      "50%          0.700550       20.110892          0.0               20210101.0   \n",
      "75%          0.899469      110.266171          0.0               20210101.0   \n",
      "max         56.701087     3837.411339          0.0               20210101.0   \n",
      "\n",
      "          comsub     expsub  ibnrsub  Reporting Date To INT  \\\n",
      "count  39.000000  39.000000     39.0                   39.0   \n",
      "mean    0.143440   1.064882      0.0             20210331.0   \n",
      "std     0.231579   2.950772      0.0                    0.0   \n",
      "min    -0.279857   0.186102      0.0             20210331.0   \n",
      "25%     0.000000   0.311490      0.0             20210331.0   \n",
      "50%     0.000000   0.538397      0.0             20210331.0   \n",
      "75%     0.382389   0.661524      0.0             20210331.0   \n",
      "max     0.611161  18.673326      0.0             20210331.0   \n",
      "\n",
      "       Date of Analysis INT  \n",
      "count                  39.0  \n",
      "mean             20210331.0  \n",
      "std                     0.0  \n",
      "min              20210331.0  \n",
      "25%              20210331.0  \n",
      "50%              20210331.0  \n",
      "75%              20210331.0  \n",
      "max              20210331.0  \n",
      "\n",
      "[8 rows x 52 columns]\n"
     ]
    }
   ],
   "source": [
    "if run_control > 0:\n",
    "\n",
    "    for k, v in df_dict.items():\n",
    "        print(f\"{k} - Statistical summary:\")\n",
    "        print(\"-\" * 100)\n",
    "        print(v.describe())\n",
    "else:\n",
    "    print(\"Default Report 3 Skipped\")"
   ]
  },
  {
   "cell_type": "markdown",
   "id": "066c7b20",
   "metadata": {
    "papermill": {
     "duration": 0.544739,
     "end_time": "2021-05-24T22:33:44.184683",
     "exception": false,
     "start_time": "2021-05-24T22:33:43.639944",
     "status": "completed"
    },
    "tags": []
   },
   "source": [
    "#### Null Value Report."
   ]
  },
  {
   "cell_type": "code",
   "execution_count": 17,
   "id": "ef9df1a0",
   "metadata": {
    "execution": {
     "iopub.execute_input": "2021-05-24T22:33:45.265676Z",
     "iopub.status.busy": "2021-05-24T22:33:45.257014Z",
     "iopub.status.idle": "2021-05-24T22:33:45.296678Z",
     "shell.execute_reply": "2021-05-24T22:33:45.297679Z"
    },
    "papermill": {
     "duration": 0.569952,
     "end_time": "2021-05-24T22:33:45.297974",
     "exception": false,
     "start_time": "2021-05-24T22:33:44.728022",
     "status": "completed"
    },
    "pycharm": {
     "name": "#%%\n"
    },
    "tags": []
   },
   "outputs": [
    {
     "name": "stdout",
     "output_type": "stream",
     "text": [
      "//hecate/Insurance_US/Product Development/Product Management/Global PPM/Reporting/Data Collection/Production/2021.Q1\\live_sources\\us_dat_au_02172021174434.parquet - Null values in the dataset:\n",
      "----------------------------------------------------------------------------------------------------\n",
      "Business Unit                     0\n",
      "Country                           0\n",
      "Currency                          0\n",
      "Region                            0\n",
      "Reporting Date From               0\n",
      "                                 ..\n",
      "expsub                            2\n",
      "Reporting Date From INT           0\n",
      "Reporting Date To INT             0\n",
      "Date of Analysis INT              0\n",
      "Selected Fields for Duplicates    0\n",
      "Length: 73, dtype: int64\n",
      "//hecate/Insurance_US/Product Development/Product Management/Global PPM/Reporting/Data Collection/Production/2021.Q1\\live_sources\\us_dat_ca_05202021134242.parquet - Null values in the dataset:\n",
      "----------------------------------------------------------------------------------------------------\n",
      "Business Unit                     0\n",
      "Country                           0\n",
      "Currency                          0\n",
      "Region                            0\n",
      "Reporting Date From               0\n",
      "                                 ..\n",
      "expsub                            0\n",
      "ibnrsub                           0\n",
      "Reporting Date To INT             0\n",
      "Date of Analysis INT              0\n",
      "Selected Fields for Duplicates    0\n",
      "Length: 75, dtype: int64\n",
      "//hecate/Insurance_US/Product Development/Product Management/Global PPM/Reporting/Data Collection/Production/2021.Q1\\live_sources\\us_dat_ch_05182021192455.parquet - Null values in the dataset:\n",
      "----------------------------------------------------------------------------------------------------\n",
      "Business Unit                     0\n",
      "Country                           0\n",
      "Currency                          0\n",
      "Region                            0\n",
      "Reporting Date From               0\n",
      "                                 ..\n",
      "expsub                            0\n",
      "ibnrsub                           0\n",
      "Reporting Date To INT             0\n",
      "Date of Analysis INT              0\n",
      "Selected Fields for Duplicates    0\n",
      "Length: 75, dtype: int64\n",
      "//hecate/Insurance_US/Product Development/Product Management/Global PPM/Reporting/Data Collection/Production/2021.Q1\\live_sources\\us_dat_es_05202021105141.parquet - Null values in the dataset:\n",
      "----------------------------------------------------------------------------------------------------\n",
      "Business Unit                     0\n",
      "Country                           0\n",
      "Currency                          0\n",
      "Region                            0\n",
      "Reporting Date From               0\n",
      "                                 ..\n",
      "expsub                            0\n",
      "ibnrsub                           0\n",
      "Reporting Date To INT             0\n",
      "Date of Analysis INT              0\n",
      "Selected Fields for Duplicates    0\n",
      "Length: 75, dtype: int64\n",
      "//hecate/Insurance_US/Product Development/Product Management/Global PPM/Reporting/Data Collection/Production/2021.Q1\\live_sources\\us_dat_it_05242021111520.parquet - Null values in the dataset:\n",
      "----------------------------------------------------------------------------------------------------\n",
      "Business Unit                     0\n",
      "Country                           0\n",
      "Currency                          0\n",
      "Region                            0\n",
      "Reporting Date From               0\n",
      "                                 ..\n",
      "expsub                            0\n",
      "ibnrsub                           0\n",
      "Reporting Date To INT             0\n",
      "Date of Analysis INT              0\n",
      "Selected Fields for Duplicates    0\n",
      "Length: 75, dtype: int64\n",
      "//hecate/Insurance_US/Product Development/Product Management/Global PPM/Reporting/Data Collection/Production/2021.Q1\\live_sources\\us_dat_pt_05202021121056.parquet - Null values in the dataset:\n",
      "----------------------------------------------------------------------------------------------------\n",
      "Business Unit                     0\n",
      "Country                           0\n",
      "Currency                          0\n",
      "Region                            0\n",
      "Reporting Date From               0\n",
      "                                 ..\n",
      "expsub                            0\n",
      "ibnrsub                           0\n",
      "Reporting Date To INT             0\n",
      "Date of Analysis INT              0\n",
      "Selected Fields for Duplicates    0\n",
      "Length: 75, dtype: int64\n"
     ]
    }
   ],
   "source": [
    "if run_control > 0:\n",
    "\n",
    "    for k, v in df_dict.items():\n",
    "        print(f\"{k} - Null values in the dataset:\")\n",
    "        print(\"-\" * 100)\n",
    "        print(v.isnull().sum())\n",
    "else:\n",
    "    print(\"Default Report 4 Skipped\")"
   ]
  },
  {
   "cell_type": "markdown",
   "id": "28f1eff9",
   "metadata": {
    "papermill": {
     "duration": 0.615119,
     "end_time": "2021-05-24T22:33:46.458805",
     "exception": false,
     "start_time": "2021-05-24T22:33:45.843686",
     "status": "completed"
    },
    "tags": []
   },
   "source": [
    "#### Datatypes by field for each file."
   ]
  },
  {
   "cell_type": "code",
   "execution_count": 18,
   "id": "cfbc59ff",
   "metadata": {
    "execution": {
     "iopub.execute_input": "2021-05-24T22:33:47.651890Z",
     "iopub.status.busy": "2021-05-24T22:33:47.634889Z",
     "iopub.status.idle": "2021-05-24T22:33:47.659895Z",
     "shell.execute_reply": "2021-05-24T22:33:47.661890Z"
    },
    "papermill": {
     "duration": 0.580693,
     "end_time": "2021-05-24T22:33:47.661890",
     "exception": false,
     "start_time": "2021-05-24T22:33:47.081197",
     "status": "completed"
    },
    "pycharm": {
     "name": "#%%\n"
    },
    "tags": []
   },
   "outputs": [
    {
     "name": "stdout",
     "output_type": "stream",
     "text": [
      "//hecate/Insurance_US/Product Development/Product Management/Global PPM/Reporting/Data Collection/Production/2021.Q1\\live_sources\\us_dat_au_02172021174434.parquet - Datatypes:\n",
      "----------------------------------------------------------------------------------------------------\n",
      "Business Unit                             object\n",
      "Country                                   object\n",
      "Currency                                  object\n",
      "Region                                    object\n",
      "Reporting Date From               datetime64[ns]\n",
      "                                       ...      \n",
      "expsub                                   float64\n",
      "Reporting Date From INT                    int64\n",
      "Reporting Date To INT                      int64\n",
      "Date of Analysis INT                       int64\n",
      "Selected Fields for Duplicates            object\n",
      "Length: 73, dtype: object\n",
      "//hecate/Insurance_US/Product Development/Product Management/Global PPM/Reporting/Data Collection/Production/2021.Q1\\live_sources\\us_dat_ca_05202021134242.parquet - Datatypes:\n",
      "----------------------------------------------------------------------------------------------------\n",
      "Business Unit                             object\n",
      "Country                                   object\n",
      "Currency                                  object\n",
      "Region                                    object\n",
      "Reporting Date From               datetime64[ns]\n",
      "                                       ...      \n",
      "expsub                                   float64\n",
      "ibnrsub                                  float64\n",
      "Reporting Date To INT                      int32\n",
      "Date of Analysis INT                       int32\n",
      "Selected Fields for Duplicates            object\n",
      "Length: 75, dtype: object\n",
      "//hecate/Insurance_US/Product Development/Product Management/Global PPM/Reporting/Data Collection/Production/2021.Q1\\live_sources\\us_dat_ch_05182021192455.parquet - Datatypes:\n",
      "----------------------------------------------------------------------------------------------------\n",
      "Business Unit                             object\n",
      "Country                                   object\n",
      "Currency                                  object\n",
      "Region                                    object\n",
      "Reporting Date From               datetime64[ns]\n",
      "                                       ...      \n",
      "expsub                                   float64\n",
      "ibnrsub                                  float64\n",
      "Reporting Date To INT                      int32\n",
      "Date of Analysis INT                       int32\n",
      "Selected Fields for Duplicates            object\n",
      "Length: 75, dtype: object\n",
      "//hecate/Insurance_US/Product Development/Product Management/Global PPM/Reporting/Data Collection/Production/2021.Q1\\live_sources\\us_dat_es_05202021105141.parquet - Datatypes:\n",
      "----------------------------------------------------------------------------------------------------\n",
      "Business Unit                             object\n",
      "Country                                   object\n",
      "Currency                                  object\n",
      "Region                                    object\n",
      "Reporting Date From               datetime64[ns]\n",
      "                                       ...      \n",
      "expsub                                   float64\n",
      "ibnrsub                                  float64\n",
      "Reporting Date To INT                      int32\n",
      "Date of Analysis INT                       int32\n",
      "Selected Fields for Duplicates            object\n",
      "Length: 75, dtype: object\n",
      "//hecate/Insurance_US/Product Development/Product Management/Global PPM/Reporting/Data Collection/Production/2021.Q1\\live_sources\\us_dat_it_05242021111520.parquet - Datatypes:\n",
      "----------------------------------------------------------------------------------------------------\n",
      "Business Unit                             object\n",
      "Country                                   object\n",
      "Currency                                  object\n",
      "Region                                    object\n",
      "Reporting Date From               datetime64[ns]\n",
      "                                       ...      \n",
      "expsub                                   float64\n",
      "ibnrsub                                  float64\n",
      "Reporting Date To INT                      int32\n",
      "Date of Analysis INT                       int32\n",
      "Selected Fields for Duplicates            object\n",
      "Length: 75, dtype: object\n",
      "//hecate/Insurance_US/Product Development/Product Management/Global PPM/Reporting/Data Collection/Production/2021.Q1\\live_sources\\us_dat_pt_05202021121056.parquet - Datatypes:\n",
      "----------------------------------------------------------------------------------------------------\n",
      "Business Unit                             object\n",
      "Country                                   object\n",
      "Currency                                  object\n",
      "Region                                    object\n",
      "Reporting Date From               datetime64[ns]\n",
      "                                       ...      \n",
      "expsub                                   float64\n",
      "ibnrsub                                  float64\n",
      "Reporting Date To INT                      int32\n",
      "Date of Analysis INT                       int32\n",
      "Selected Fields for Duplicates            object\n",
      "Length: 75, dtype: object\n"
     ]
    }
   ],
   "source": [
    "if run_control > 0:\n",
    "\n",
    "    for k, v in df_dict.items():\n",
    "        print(f\"{k} - Datatypes:\")\n",
    "        print(\"-\" * 100)\n",
    "        print(v.dtypes)\n",
    "else:\n",
    "    print(\"Default Report 5 Skipped\")"
   ]
  },
  {
   "cell_type": "markdown",
   "id": "6a066bf7",
   "metadata": {
    "papermill": {
     "duration": 0.603151,
     "end_time": "2021-05-24T22:33:48.770592",
     "exception": false,
     "start_time": "2021-05-24T22:33:48.167441",
     "status": "completed"
    },
    "tags": []
   },
   "source": [
    "#### Add the datafile name as a column in each source DataFrame"
   ]
  },
  {
   "cell_type": "code",
   "execution_count": 19,
   "id": "d1e38431",
   "metadata": {
    "execution": {
     "iopub.execute_input": "2021-05-24T22:33:49.934139Z",
     "iopub.status.busy": "2021-05-24T22:33:49.932141Z",
     "iopub.status.idle": "2021-05-24T22:33:49.939144Z",
     "shell.execute_reply": "2021-05-24T22:33:49.937143Z"
    },
    "papermill": {
     "duration": 0.594651,
     "end_time": "2021-05-24T22:33:49.939144",
     "exception": false,
     "start_time": "2021-05-24T22:33:49.344493",
     "status": "completed"
    },
    "tags": []
   },
   "outputs": [],
   "source": [
    "for p, f in zip(pathfiles, files_sour):\n",
    "    df_dict[p].insert(0, \"Submission File\", f)"
   ]
  },
  {
   "cell_type": "markdown",
   "id": "39065cda",
   "metadata": {
    "papermill": {
     "duration": 0.586213,
     "end_time": "2021-05-24T22:33:51.100858",
     "exception": false,
     "start_time": "2021-05-24T22:33:50.514645",
     "status": "completed"
    },
    "tags": []
   },
   "source": [
    "#### append into a single DataFrame"
   ]
  },
  {
   "cell_type": "code",
   "execution_count": 20,
   "id": "365e23d2",
   "metadata": {
    "execution": {
     "iopub.execute_input": "2021-05-24T22:33:52.275499Z",
     "iopub.status.busy": "2021-05-24T22:33:52.265500Z",
     "iopub.status.idle": "2021-05-24T22:33:52.421497Z",
     "shell.execute_reply": "2021-05-24T22:33:52.422496Z"
    },
    "papermill": {
     "duration": 0.771012,
     "end_time": "2021-05-24T22:33:52.422496",
     "exception": false,
     "start_time": "2021-05-24T22:33:51.651484",
     "status": "completed"
    },
    "pycharm": {
     "name": "#%%\n"
    },
    "tags": []
   },
   "outputs": [],
   "source": [
    "df = pd.DataFrame()\n",
    "\n",
    "for k, v in df_dict.items(): df = df.append(v)\n",
    "\n",
    "df = df.reset_index(drop=True)"
   ]
  },
  {
   "cell_type": "markdown",
   "id": "c6808735",
   "metadata": {
    "papermill": {
     "duration": 0.565181,
     "end_time": "2021-05-24T22:33:53.533000",
     "exception": false,
     "start_time": "2021-05-24T22:33:52.967819",
     "status": "completed"
    },
    "tags": []
   },
   "source": [
    "#### Create Temporary csv Output\n",
    "- Create a direct output of the csv"
   ]
  },
  {
   "cell_type": "markdown",
   "id": "c66893c4",
   "metadata": {
    "papermill": {
     "duration": 0.630332,
     "end_time": "2021-05-24T22:33:54.787924",
     "exception": false,
     "start_time": "2021-05-24T22:33:54.157592",
     "status": "completed"
    },
    "tags": []
   },
   "source": [
    "##### This prep step helps parquet columns read columns with nulls or mixed dtypes. This is a good check that the data is what we expect."
   ]
  },
  {
   "cell_type": "code",
   "execution_count": 21,
   "id": "19badca8",
   "metadata": {
    "execution": {
     "iopub.execute_input": "2021-05-24T22:33:55.851098Z",
     "iopub.status.busy": "2021-05-24T22:33:55.820102Z",
     "iopub.status.idle": "2021-05-24T22:33:55.985768Z",
     "shell.execute_reply": "2021-05-24T22:33:55.986768Z"
    },
    "papermill": {
     "duration": 0.652273,
     "end_time": "2021-05-24T22:33:55.986768",
     "exception": false,
     "start_time": "2021-05-24T22:33:55.334495",
     "status": "completed"
    },
    "tags": []
   },
   "outputs": [],
   "source": [
    "\n",
    "# add any float columns that give a mixed type error below\n",
    "v_flo = ['Open Claims %', 'Contribution Margin % on Earned Revenues net of Taxes - BU View', \n",
    "         'Contribution Margin % on Earned Revenues net of Taxes - HQ View', 'Loss Ratio', 'Commission Ratio',\n",
    "         'Expense Ratio', 'comsub', 'expsub','% of IBNR on (OCR + IBNR)', 'Contribution Margin % on Fixed Costs - BU View',\n",
    "        'Contribution Margin % on Fixed Costs - HQ View', 'Units of Risk (Written)', 'Written Revenues', \n",
    "         'Number of Policies (Earned)','Units of Risk (Earned)', 'Earned Revenues','Upfront Cash Payments',\n",
    "         'Number of Open Claims','Number of Persons Involved in Claims (Paid + OCR + IBNR)','Frequency (Earned)',\n",
    "         'Units of Risk (Written)' ,'Severity','Risk Premium']\n",
    "\n",
    "\n",
    "# add any integer columns that give a mixed type error below\n",
    "v_int = ['Number of Products per Row',  'Number of B-Partners per Row']\n",
    "\n",
    "#v_obj = ['Units of Risk (Written)']\n",
    "\n",
    "\n",
    "# add any string columns that give a mixed type error below\n",
    "#v_str\n",
    "\n",
    "\n",
    "# add any datetime columns that give a mixed type error below\n",
    "#v_dat\n",
    "\n",
    "for i in v_flo:\n",
    "    df[i] = df[i].replace(r'^\\s*$', np.nan, regex=True)\n",
    "    df[i] = df[i].fillna(0)\n",
    "    df[i] = df[i].astype( 'float' )\n",
    "for i in v_int:\n",
    "    df[i] = df[i].replace(r'^\\s*$', np.nan, regex=True)\n",
    "    df[i] = df[i].fillna(0)\n",
    "    df[i] = df[i].astype('int64')\n",
    "\n",
    "#for i in v_int:\n",
    "#    df[i] = df[i].astype('str')\n",
    "#    for i in v_str: df[i] = df[i].astype('str'  )\n",
    "#    for i in v_dat: v[i] = v[i].astype('datetime64[ns]')"
   ]
  },
  {
   "cell_type": "code",
   "execution_count": 22,
   "id": "57a8f62a",
   "metadata": {
    "execution": {
     "iopub.execute_input": "2021-05-24T22:33:57.067835Z",
     "iopub.status.busy": "2021-05-24T22:33:57.045837Z",
     "iopub.status.idle": "2021-05-24T22:34:13.242192Z",
     "shell.execute_reply": "2021-05-24T22:34:13.244192Z"
    },
    "papermill": {
     "duration": 16.757906,
     "end_time": "2021-05-24T22:34:13.244192",
     "exception": false,
     "start_time": "2021-05-24T22:33:56.486286",
     "status": "completed"
    },
    "pycharm": {
     "name": "#%%\n"
    },
    "tags": []
   },
   "outputs": [
    {
     "name": "stdout",
     "output_type": "stream",
     "text": [
      "Stored 'prep_df' (DataFrame)\n"
     ]
    }
   ],
   "source": [
    "try:\n",
    "    prep_df = df\n",
    "    %store prep_df\n",
    "\n",
    "except:\n",
    "    pass\n",
    "\n",
    "if run_control > 0:\n",
    "    \n",
    "    prepfile = f'{str(percode)}prep.csv'\n",
    "    prepparq = f'{str(percode)}prep.parquet'\n",
    "    prephistfile = f'{str(percode)}_{inst_datetime}prep.csv'\n",
    "\n",
    "    try:\n",
    "        os.rename(os.path.join(str(rt_path), prepfile), os.path.join(str(rt_path), \"logs/raw_data_file_history/\" , prephistfile))\n",
    "\n",
    "    except FileNotFoundError:\n",
    "        pass\n",
    "\n",
    "    except FileExistsError:\n",
    "        os.remove(os.path.join(str(rt_path), \"logs/raw_data_file_history/\" , prephistfile))\n",
    "        os.rename(os.path.join(str(rt_path), prepfile), os.path.join(str(rt_path), \"logs/raw_data_file_history/\" , prephistfile))\n",
    "\n",
    "    df.to_csv(os.path.join(str(rt_path), prepfile), ',', index=False , encoding='utf-8-sig')\n",
    "    df.to_parquet(os.path.join(str(rt_path), prepparq),engine = \"pyarrow\")\n",
    "    \n",
    "else:\n",
    "    pass"
   ]
  },
  {
   "cell_type": "markdown",
   "id": "610d86d7",
   "metadata": {
    "papermill": {
     "duration": 0.633556,
     "end_time": "2021-05-24T22:34:14.459433",
     "exception": false,
     "start_time": "2021-05-24T22:34:13.825877",
     "status": "completed"
    },
    "tags": []
   },
   "source": [
    "## This is considered \"pre-pipleine\" data prep. The next step is to read the resulting csv into the acutal data pipeline.\n",
    "\n",
    "## If you are not sure what is being loaded, this step provides a safe way to create a reviewable output file while keeping the production data files in tact.\n",
    "\n",
    "#### You can skip this step to speed up the procoess with run_contol == 0, not reccomended"
   ]
  },
  {
   "cell_type": "code",
   "execution_count": 23,
   "id": "b41d5bac",
   "metadata": {
    "execution": {
     "iopub.execute_input": "2021-05-24T22:34:15.670504Z",
     "iopub.status.busy": "2021-05-24T22:34:15.664479Z",
     "iopub.status.idle": "2021-05-24T22:34:15.739477Z",
     "shell.execute_reply": "2021-05-24T22:34:15.741476Z"
    },
    "papermill": {
     "duration": 0.683938,
     "end_time": "2021-05-24T22:34:15.741476",
     "exception": false,
     "start_time": "2021-05-24T22:34:15.057538",
     "status": "completed"
    },
    "tags": []
   },
   "outputs": [
    {
     "data": {
      "text/html": [
       "<div>\n",
       "<style scoped>\n",
       "    .dataframe tbody tr th:only-of-type {\n",
       "        vertical-align: middle;\n",
       "    }\n",
       "\n",
       "    .dataframe tbody tr th {\n",
       "        vertical-align: top;\n",
       "    }\n",
       "\n",
       "    .dataframe thead tr th {\n",
       "        text-align: left;\n",
       "    }\n",
       "\n",
       "    .dataframe thead tr:last-of-type th {\n",
       "        text-align: right;\n",
       "    }\n",
       "</style>\n",
       "<table border=\"1\" class=\"dataframe\">\n",
       "  <thead>\n",
       "    <tr>\n",
       "      <th></th>\n",
       "      <th>Reporting Date From</th>\n",
       "      <th>2020-01-01</th>\n",
       "      <th>2020-04-01</th>\n",
       "      <th>2021-01-01</th>\n",
       "    </tr>\n",
       "    <tr>\n",
       "      <th></th>\n",
       "      <th>Reporting Date To</th>\n",
       "      <th>2020-12-31</th>\n",
       "      <th>2021-03-31</th>\n",
       "      <th>2021-03-31</th>\n",
       "    </tr>\n",
       "    <tr>\n",
       "      <th>Country</th>\n",
       "      <th>Submission File</th>\n",
       "      <th></th>\n",
       "      <th></th>\n",
       "      <th></th>\n",
       "    </tr>\n",
       "  </thead>\n",
       "  <tbody>\n",
       "    <tr>\n",
       "      <th>AU</th>\n",
       "      <th>us_dat_au_02172021174434.parquet</th>\n",
       "      <td>1270248</td>\n",
       "      <td>0</td>\n",
       "      <td>0</td>\n",
       "    </tr>\n",
       "    <tr>\n",
       "      <th>CA</th>\n",
       "      <th>us_dat_ca_05202021134242.parquet</th>\n",
       "      <td>0</td>\n",
       "      <td>0</td>\n",
       "      <td>687067</td>\n",
       "    </tr>\n",
       "    <tr>\n",
       "      <th>CH</th>\n",
       "      <th>us_dat_ch_05182021192455.parquet</th>\n",
       "      <td>0</td>\n",
       "      <td>10845</td>\n",
       "      <td>0</td>\n",
       "    </tr>\n",
       "    <tr>\n",
       "      <th>ES</th>\n",
       "      <th>us_dat_es_05202021105141.parquet</th>\n",
       "      <td>0</td>\n",
       "      <td>0</td>\n",
       "      <td>26294</td>\n",
       "    </tr>\n",
       "    <tr>\n",
       "      <th>IT</th>\n",
       "      <th>us_dat_it_05242021111520.parquet</th>\n",
       "      <td>0</td>\n",
       "      <td>0</td>\n",
       "      <td>10182</td>\n",
       "    </tr>\n",
       "    <tr>\n",
       "      <th>PT</th>\n",
       "      <th>us_dat_pt_05202021121056.parquet</th>\n",
       "      <td>0</td>\n",
       "      <td>0</td>\n",
       "      <td>1188</td>\n",
       "    </tr>\n",
       "  </tbody>\n",
       "</table>\n",
       "</div>"
      ],
      "text/plain": [
       "Reporting Date From                      2020-01-01 2020-04-01 2021-01-01\n",
       "Reporting Date To                        2020-12-31 2021-03-31 2021-03-31\n",
       "Country Submission File                                                  \n",
       "AU      us_dat_au_02172021174434.parquet    1270248          0          0\n",
       "CA      us_dat_ca_05202021134242.parquet          0          0     687067\n",
       "CH      us_dat_ch_05182021192455.parquet          0      10845          0\n",
       "ES      us_dat_es_05202021105141.parquet          0          0      26294\n",
       "IT      us_dat_it_05242021111520.parquet          0          0      10182\n",
       "PT      us_dat_pt_05202021121056.parquet          0          0       1188"
      ]
     },
     "execution_count": 23,
     "metadata": {},
     "output_type": "execute_result"
    }
   ],
   "source": [
    "if run_control > 0:\n",
    "\n",
    "    dfp = (df.pivot_table(index=( \"Country\", \"Submission File\"), columns=(\"Reporting Date From\",\"Reporting Date To\" ), values=\"Earned Revenues net of Taxes\").fillna(0).astype(int))\n",
    "    dfp\n",
    "\n",
    "else:\n",
    "    pass"
   ]
  },
  {
   "cell_type": "markdown",
   "id": "65219370",
   "metadata": {
    "papermill": {
     "duration": 0.707309,
     "end_time": "2021-05-24T22:34:17.056835",
     "exception": false,
     "start_time": "2021-05-24T22:34:16.349526",
     "status": "completed"
    },
    "tags": []
   },
   "source": [
    "#### Store the DataFrame for other noteboks to use"
   ]
  },
  {
   "cell_type": "code",
   "execution_count": null,
   "id": "88763d2a",
   "metadata": {
    "papermill": {
     "duration": 0.611528,
     "end_time": "2021-05-24T22:34:18.323660",
     "exception": false,
     "start_time": "2021-05-24T22:34:17.712132",
     "status": "completed"
    },
    "tags": []
   },
   "outputs": [],
   "source": []
  },
  {
   "cell_type": "code",
   "execution_count": null,
   "id": "42f7c279",
   "metadata": {
    "papermill": {
     "duration": 0.592225,
     "end_time": "2021-05-24T22:34:19.516260",
     "exception": false,
     "start_time": "2021-05-24T22:34:18.924035",
     "status": "completed"
    },
    "tags": []
   },
   "outputs": [],
   "source": []
  }
 ],
 "metadata": {
  "celltoolbar": "Tags",
  "kernelspec": {
   "display_name": "Python 3",
   "language": "python",
   "name": "python3"
  },
  "language_info": {
   "codemirror_mode": {
    "name": "ipython",
    "version": 3
   },
   "file_extension": ".py",
   "mimetype": "text/x-python",
   "name": "python",
   "nbconvert_exporter": "python",
   "pygments_lexer": "ipython3",
   "version": "3.7.6"
  },
  "papermill": {
   "default_parameters": {},
   "duration": 91.531546,
   "end_time": "2021-05-24T22:34:20.634961",
   "environment_variables": {},
   "exception": null,
   "input_path": "pipeline/prep.ipynb",
   "output_path": "//hecate/Insurance_US/Product Development/Product Management/Global PPM/Reporting/Data Collection/Pipeline Reporting Scripts/GPMpipeline/instances/2021.Q1\\pipeline\\prep05242021183245--live run.ipynb",
   "parameters": {
    "commit_message": "Edited data for Austraila, json 2 parquet and add comments from email. Begin general evaluation of data submissions.",
    "inst_datetime": "05242021183245",
    "percode": "2021.Q1",
    "run_control": 1,
    "source_type": "p"
   },
   "start_time": "2021-05-24T22:32:49.103415",
   "version": "2.3.3"
  }
 },
 "nbformat": 4,
 "nbformat_minor": 5
}