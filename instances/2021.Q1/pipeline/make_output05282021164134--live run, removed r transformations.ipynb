{
 "cells": [
  {
   "cell_type": "markdown",
   "id": "9fe549c7",
   "metadata": {
    "tags": [
     "papermill-error-cell-tag"
    ]
   },
   "source": [
    "<span style=\"color:red; font-family:Helvetica Neue, Helvetica, Arial, sans-serif; font-size:2em;\">An Exception was encountered at '<a href=\"#papermill-error-cell\">In [14]</a>'.</span>"
   ]
  },
  {
   "cell_type": "markdown",
   "id": "48cd0f03",
   "metadata": {
    "papermill": {
     "duration": 0.273045,
     "end_time": "2021-05-28T20:51:15.979840",
     "exception": false,
     "start_time": "2021-05-28T20:51:15.706795",
     "status": "completed"
    },
    "pycharm": {
     "name": "#%% md\n"
    },
    "tags": []
   },
   "source": [
    "<img src=\"../images/AzPTravel_PPM.png\">"
   ]
  },
  {
   "cell_type": "markdown",
   "id": "c28662eb",
   "metadata": {
    "papermill": {
     "duration": 0.23506,
     "end_time": "2021-05-28T20:51:16.452070",
     "exception": false,
     "start_time": "2021-05-28T20:51:16.217010",
     "status": "completed"
    },
    "tags": []
   },
   "source": [
    "## GPM Pipeline Output maker\n",
    "\n",
    "#### This script\n",
    "- loads the transformed parquet file\n",
    "- creates the file {parquet}.localcur.csv\n",
    "- makes the Euro conversions\n",
    "- outputs {parquet}.euroconv.csv\n"
   ]
  },
  {
   "cell_type": "markdown",
   "id": "625cf84e",
   "metadata": {
    "papermill": {
     "duration": 0.248088,
     "end_time": "2021-05-28T20:51:16.941098",
     "exception": false,
     "start_time": "2021-05-28T20:51:16.693010",
     "status": "completed"
    },
    "tags": []
   },
   "source": [
    "#### Parameters section"
   ]
  },
  {
   "cell_type": "code",
   "execution_count": 1,
   "id": "0ccd0605",
   "metadata": {
    "execution": {
     "iopub.execute_input": "2021-05-28T20:51:17.450702Z",
     "iopub.status.busy": "2021-05-28T20:51:17.443711Z",
     "iopub.status.idle": "2021-05-28T20:51:17.453708Z",
     "shell.execute_reply": "2021-05-28T20:51:17.462705Z"
    },
    "papermill": {
     "duration": 0.288331,
     "end_time": "2021-05-28T20:51:17.462705",
     "exception": false,
     "start_time": "2021-05-28T20:51:17.174374",
     "status": "completed"
    },
    "pycharm": {
     "name": "#%%\n"
    },
    "tags": [
     "parameters"
    ]
   },
   "outputs": [],
   "source": [
    "commit = \"\"\n",
    "# give a reason for the run\n",
    "\n",
    "percode = \"20XX.QX\"\n",
    "# Data Collection Code, this controls file paths and output names\n",
    "\n",
    "run_type = 1\n",
    "#run_type =  0 - lite run with no reporting, not recommended.\n",
    "#run_type =  1 - lite run with normal reporting, default setting.\n",
    "#run_type =  2 - Heavy run with full reporting, available for audits and troubleshooting.\n",
    "\n",
    "specialchars = \"-GTHtest\"\n",
    "# optional - add up to a 12 character code in order to mark your instance record .ipynb\n",
    "\n",
    "from datetime import datetime\n",
    "inst_datetime = datetime.now().strftime(\"%m%d%Y%H%M%S\")\n",
    "# a single datetime stamp for the full instance run\n"
   ]
  },
  {
   "cell_type": "code",
   "execution_count": 2,
   "id": "d116b97b",
   "metadata": {
    "execution": {
     "iopub.execute_input": "2021-05-28T20:51:17.958610Z",
     "iopub.status.busy": "2021-05-28T20:51:17.957618Z",
     "iopub.status.idle": "2021-05-28T20:51:17.963635Z",
     "shell.execute_reply": "2021-05-28T20:51:17.965611Z"
    },
    "papermill": {
     "duration": 0.264142,
     "end_time": "2021-05-28T20:51:17.965611",
     "exception": false,
     "start_time": "2021-05-28T20:51:17.701469",
     "status": "completed"
    },
    "tags": [
     "injected-parameters"
    ]
   },
   "outputs": [],
   "source": [
    "# Parameters\n",
    "run_control = 1\n",
    "percode = \"2021.Q1\"\n",
    "commit_message = \"Demo Test\"\n",
    "inst_datetime = \"05282021164134\"\n"
   ]
  },
  {
   "cell_type": "markdown",
   "id": "b7bb076a",
   "metadata": {
    "papermill": {
     "duration": 0.251573,
     "end_time": "2021-05-28T20:51:18.443763",
     "exception": false,
     "start_time": "2021-05-28T20:51:18.192190",
     "status": "completed"
    },
    "tags": []
   },
   "source": [
    "### Set Run Control\n",
    "\n",
    "##### 0 - lite run with no reporting, not recommended.\n",
    "##### 1 - lite run with normal reporting, default setting.\n",
    "##### 2 - Heavy run with full reporting, available for audits and troubleshooting."
   ]
  },
  {
   "cell_type": "code",
   "execution_count": 3,
   "id": "37abc47a",
   "metadata": {
    "execution": {
     "iopub.execute_input": "2021-05-28T20:51:19.015697Z",
     "iopub.status.busy": "2021-05-28T20:51:19.013684Z",
     "iopub.status.idle": "2021-05-28T20:51:19.019696Z",
     "shell.execute_reply": "2021-05-28T20:51:19.020688Z"
    },
    "papermill": {
     "duration": 0.295699,
     "end_time": "2021-05-28T20:51:19.020688",
     "exception": false,
     "start_time": "2021-05-28T20:51:18.724989",
     "status": "completed"
    },
    "pycharm": {
     "name": "#%%\n"
    },
    "tags": []
   },
   "outputs": [],
   "source": [
    "run_control = 0 # in development mode"
   ]
  },
  {
   "cell_type": "markdown",
   "id": "56b32f4e",
   "metadata": {
    "papermill": {
     "duration": 0.238695,
     "end_time": "2021-05-28T20:51:19.551038",
     "exception": false,
     "start_time": "2021-05-28T20:51:19.312343",
     "status": "completed"
    },
    "tags": []
   },
   "source": [
    "#### Packages used"
   ]
  },
  {
   "cell_type": "code",
   "execution_count": 4,
   "id": "73baadb9",
   "metadata": {
    "execution": {
     "iopub.execute_input": "2021-05-28T20:51:20.316689Z",
     "iopub.status.busy": "2021-05-28T20:51:20.315693Z",
     "iopub.status.idle": "2021-05-28T20:51:24.514757Z",
     "shell.execute_reply": "2021-05-28T20:51:24.524756Z"
    },
    "papermill": {
     "duration": 4.502145,
     "end_time": "2021-05-28T20:51:24.524756",
     "exception": false,
     "start_time": "2021-05-28T20:51:20.022611",
     "status": "completed"
    },
    "pycharm": {
     "name": "#%%\n"
    },
    "tags": []
   },
   "outputs": [],
   "source": [
    "import sys\n",
    "import os\n",
    "import pandas as pd"
   ]
  },
  {
   "cell_type": "code",
   "execution_count": 5,
   "id": "e2d8be30",
   "metadata": {
    "execution": {
     "iopub.execute_input": "2021-05-28T20:51:26.138719Z",
     "iopub.status.busy": "2021-05-28T20:51:26.133720Z",
     "iopub.status.idle": "2021-05-28T20:51:26.146721Z",
     "shell.execute_reply": "2021-05-28T20:51:26.161723Z"
    },
    "papermill": {
     "duration": 0.648258,
     "end_time": "2021-05-28T20:51:26.161723",
     "exception": false,
     "start_time": "2021-05-28T20:51:25.513465",
     "status": "completed"
    },
    "pycharm": {
     "name": "#%%\n"
    },
    "tags": []
   },
   "outputs": [],
   "source": [
    "default_DC = \"2021.Q1\"\n",
    "\n",
    "try:\n",
    "    if sys.argv[1] == \"-f\":\n",
    "        percode = default_DC\n",
    "    else:\n",
    "        percode = sys.argv[1]\n",
    "\n",
    "except IndexError:\n",
    "    percode = default_DC\n",
    "except NameError:\n",
    "    percode = default_DC"
   ]
  },
  {
   "cell_type": "markdown",
   "id": "3ed96f8f",
   "metadata": {
    "papermill": {
     "duration": 0.335056,
     "end_time": "2021-05-28T20:51:27.145420",
     "exception": false,
     "start_time": "2021-05-28T20:51:26.810364",
     "status": "completed"
    },
    "tags": []
   },
   "source": [
    "#### Convert paths and files to variables.\n",
    "#### Read data into pd DataFrames.\n",
    "#### Make paths for the live sources."
   ]
  },
  {
   "cell_type": "code",
   "execution_count": 6,
   "id": "5d2e126a",
   "metadata": {
    "execution": {
     "iopub.execute_input": "2021-05-28T20:51:27.693135Z",
     "iopub.status.busy": "2021-05-28T20:51:27.689137Z",
     "iopub.status.idle": "2021-05-28T20:51:27.699131Z",
     "shell.execute_reply": "2021-05-28T20:51:27.701129Z"
    },
    "papermill": {
     "duration": 0.271753,
     "end_time": "2021-05-28T20:51:27.701129",
     "exception": false,
     "start_time": "2021-05-28T20:51:27.429376",
     "status": "completed"
    },
    "pycharm": {
     "name": "#%%\n"
    },
    "tags": []
   },
   "outputs": [],
   "source": [
    "rt_path = os.path.join('\\\\\\\\hecate\\\\Insurance_US\\\\Product Development\\\\Product Management\\\\Global PPM\\\\Reporting\\\\Data Collection\\\\Production',percode)\n",
    "\n",
    "tempfile = os.path.join(rt_path, f'{percode}.localcur.parquet')\n",
    "\n",
    "gppm_file = os.path.join(rt_path, f'GPPM_Input_{str(percode)}.xlsx')\n",
    "\n"
   ]
  },
  {
   "cell_type": "markdown",
   "id": "26f77166",
   "metadata": {
    "papermill": {
     "duration": 0.286859,
     "end_time": "2021-05-28T20:51:28.226573",
     "exception": false,
     "start_time": "2021-05-28T20:51:27.939714",
     "status": "completed"
    },
    "tags": []
   },
   "source": [
    "### Make Files"
   ]
  },
  {
   "cell_type": "code",
   "execution_count": 7,
   "id": "fde1620d",
   "metadata": {
    "execution": {
     "iopub.execute_input": "2021-05-28T20:51:28.731500Z",
     "iopub.status.busy": "2021-05-28T20:51:28.729497Z",
     "iopub.status.idle": "2021-05-28T20:51:28.735498Z",
     "shell.execute_reply": "2021-05-28T20:51:28.736503Z"
    },
    "papermill": {
     "duration": 0.260321,
     "end_time": "2021-05-28T20:51:28.736503",
     "exception": false,
     "start_time": "2021-05-28T20:51:28.476182",
     "status": "completed"
    },
    "tags": []
   },
   "outputs": [],
   "source": [
    "local_file = f'{percode}.localcur.csv'\n",
    "euro_file = f'{percode}.euroconv.csv'\n",
    "\n"
   ]
  },
  {
   "cell_type": "markdown",
   "id": "e63020ee",
   "metadata": {
    "papermill": {
     "duration": 0.255526,
     "end_time": "2021-05-28T20:51:29.249027",
     "exception": false,
     "start_time": "2021-05-28T20:51:28.993501",
     "status": "completed"
    },
    "tags": []
   },
   "source": [
    "#### Read source"
   ]
  },
  {
   "cell_type": "code",
   "execution_count": 8,
   "id": "5dd81841",
   "metadata": {
    "execution": {
     "iopub.execute_input": "2021-05-28T20:51:30.441405Z",
     "iopub.status.busy": "2021-05-28T20:51:30.440402Z",
     "iopub.status.idle": "2021-05-28T20:51:32.577731Z",
     "shell.execute_reply": "2021-05-28T20:51:32.578739Z"
    },
    "papermill": {
     "duration": 2.446334,
     "end_time": "2021-05-28T20:51:32.578739",
     "exception": false,
     "start_time": "2021-05-28T20:51:30.132405",
     "status": "completed"
    },
    "pycharm": {
     "name": "#%%\n"
    },
    "tags": []
   },
   "outputs": [
    {
     "name": "stdout",
     "output_type": "stream",
     "text": [
      "                       submission_file business_unit country currency  \\\n",
      "0     us_dat_au_05142021143612.parquet            AU      AU      AUD   \n",
      "1     us_dat_au_05142021143612.parquet            AU      AU      AUD   \n",
      "3     us_dat_au_05142021143612.parquet            AU      AU      AUD   \n",
      "4     us_dat_au_05142021143612.parquet            AU      AU      AUD   \n",
      "5     us_dat_au_05142021143612.parquet            AU      AU      AUD   \n",
      "...                                ...           ...     ...      ...   \n",
      "3619  us_dat_pt_05202021121056.parquet            PT      PT      EUR   \n",
      "3620  us_dat_pt_05202021121056.parquet            PT      PT      EUR   \n",
      "3621  us_dat_pt_05202021121056.parquet            PT      PT      EUR   \n",
      "3622  us_dat_pt_05202021121056.parquet            PT      PT      EUR   \n",
      "3623  us_dat_pt_05202021121056.parquet            PT      PT      EUR   \n",
      "\n",
      "                           region reporting_date_from reporting_date_to  \\\n",
      "0                            APAC          2021-01-01        2021-03-31   \n",
      "1                            APAC          2021-01-01        2021-03-31   \n",
      "3                            APAC          2021-01-01        2021-03-31   \n",
      "4                            APAC          2021-01-01        2021-03-31   \n",
      "5                            APAC          2021-01-01        2021-03-31   \n",
      "...                           ...                 ...               ...   \n",
      "3619  Western Europe, LATAM & MEA          2021-01-01        2021-03-31   \n",
      "3620  Western Europe, LATAM & MEA          2021-01-01        2021-03-31   \n",
      "3621  Western Europe, LATAM & MEA          2021-01-01        2021-03-31   \n",
      "3622  Western Europe, LATAM & MEA          2021-01-01        2021-03-31   \n",
      "3623  Western Europe, LATAM & MEA          2021-01-01        2021-03-31   \n",
      "\n",
      "     date_of_analysis type_of_analysis  analysed_months  ...  unnamed:_66  \\\n",
      "0          2021-04-30     Year To Date              3.0  ...          0.0   \n",
      "1          2021-04-30     Year To Date              3.0  ...          0.0   \n",
      "3          2021-04-30     Year To Date              3.0  ...          0.0   \n",
      "4          2021-04-30     Year To Date              3.0  ...          0.0   \n",
      "5          2021-04-30     Year To Date              3.0  ...          0.0   \n",
      "...               ...              ...              ...  ...          ...   \n",
      "3619       2021-03-31     Year To Date              3.0  ...          0.0   \n",
      "3620       2021-03-31     Year To Date              3.0  ...          0.0   \n",
      "3621       2021-03-31     Year To Date              3.0  ...          0.0   \n",
      "3622       2021-03-31     Year To Date              3.0  ...          0.0   \n",
      "3623       2021-03-31     Year To Date              3.0  ...          0.0   \n",
      "\n",
      "      concat2    comsub     expsub reporting_date_from_int  \\\n",
      "0       AUAUD  0.100998   3.245346                20210101   \n",
      "1       AUAUD  0.233379   3.589092                20210101   \n",
      "3       AUAUD  0.000000   4.723789                20210101   \n",
      "4       AUAUD  0.220000   4.239521                20210101   \n",
      "5       AUAUD  0.000000   0.305728                20210101   \n",
      "...       ...       ...        ...                     ...   \n",
      "3619    PTEUR  0.000000   0.538397                20210101   \n",
      "3620    PTEUR  0.000000   0.426832                20210101   \n",
      "3621    PTEUR  0.000000  18.673326                20210101   \n",
      "3622    PTEUR  0.000000   0.859278                20210101   \n",
      "3623    PTEUR  0.000000   1.023709                20210101   \n",
      "\n",
      "     reporting_date_to_int date_of_analysis_int  \\\n",
      "0                 20210331             20210430   \n",
      "1                 20210331             20210430   \n",
      "3                 20210331             20210430   \n",
      "4                 20210331             20210430   \n",
      "5                 20210331             20210430   \n",
      "...                    ...                  ...   \n",
      "3619              20210331             20210331   \n",
      "3620              20210331             20210331   \n",
      "3621              20210331             20210331   \n",
      "3622              20210331             20210331   \n",
      "3623              20210331             20210331   \n",
      "\n",
      "                         selected_fields_for_duplicates ibnrsub   rep_date  \n",
      "0     AUInsuranceLocalB2B2CTravelAllianz Affiliation...     NaN 2021-03-31  \n",
      "1     AUInsuranceLocalB2B2CTravelOffline Travel Agen...     NaN 2021-03-31  \n",
      "3     AUInsuranceLocalB2B2CTravelAllianz Affiliation...     NaN 2021-03-31  \n",
      "4     AUInsuranceLocalB2CTravelDirect (Allianz Partn...     NaN 2021-03-31  \n",
      "5     AUInsuranceLocalB2B2CTravelBanks / Credit Card...     NaN 2021-03-31  \n",
      "...                                                 ...     ...        ...  \n",
      "3619  PTReinsuranceLocalB2B2CTravelDirect (Allianz P...     0.0 2021-03-31  \n",
      "3620  PTReinsuranceLocalB2B2CTravelDirect (Allianz P...     0.0 2021-03-31  \n",
      "3621  PTReinsuranceLocalB2B2CTravelDirect (Allianz P...     0.0 2021-03-31  \n",
      "3622  PTReinsuranceLocalB2B2CTravelDirect (Allianz P...     0.0 2021-03-31  \n",
      "3623  PTReinsuranceLocalB2BTravelDirect (Allianz Par...     0.0 2021-03-31  \n",
      "\n",
      "[2119 rows x 77 columns]\n"
     ]
    }
   ],
   "source": [
    "mo_input = pd.read_parquet(tempfile, engine='pyarrow')\n",
    "\n",
    "print(mo_input)"
   ]
  },
  {
   "cell_type": "markdown",
   "id": "207e6fcb",
   "metadata": {
    "papermill": {
     "duration": 0.26701,
     "end_time": "2021-05-28T20:51:33.089001",
     "exception": false,
     "start_time": "2021-05-28T20:51:32.821991",
     "status": "completed"
    },
    "tags": []
   },
   "source": [
    "#### Output local currency csv"
   ]
  },
  {
   "cell_type": "code",
   "execution_count": 9,
   "id": "a9b185b9",
   "metadata": {
    "execution": {
     "iopub.execute_input": "2021-05-28T20:51:33.632985Z",
     "iopub.status.busy": "2021-05-28T20:51:33.630988Z",
     "iopub.status.idle": "2021-05-28T20:51:44.286323Z",
     "shell.execute_reply": "2021-05-28T20:51:44.287322Z"
    },
    "papermill": {
     "duration": 10.934333,
     "end_time": "2021-05-28T20:51:44.287322",
     "exception": false,
     "start_time": "2021-05-28T20:51:33.352989",
     "status": "completed"
    },
    "pycharm": {
     "is_executing": true,
     "name": "#%%\n"
    },
    "tags": []
   },
   "outputs": [],
   "source": [
    "mo_input.to_csv(os.path.join(rt_path,local_file), ',', index=False, encoding='utf-8-sig')"
   ]
  },
  {
   "cell_type": "markdown",
   "id": "28889ff8",
   "metadata": {
    "papermill": {
     "duration": 0.258515,
     "end_time": "2021-05-28T20:51:44.840274",
     "exception": false,
     "start_time": "2021-05-28T20:51:44.581759",
     "status": "completed"
    },
    "tags": []
   },
   "source": [
    "#### Convert all currency to Euro\n"
   ]
  },
  {
   "cell_type": "code",
   "execution_count": 10,
   "id": "baf412ae",
   "metadata": {
    "execution": {
     "iopub.execute_input": "2021-05-28T20:51:45.456639Z",
     "iopub.status.busy": "2021-05-28T20:51:45.450994Z",
     "iopub.status.idle": "2021-05-28T20:51:47.929262Z",
     "shell.execute_reply": "2021-05-28T20:51:47.930261Z"
    },
    "papermill": {
     "duration": 2.817983,
     "end_time": "2021-05-28T20:51:47.930261",
     "exception": false,
     "start_time": "2021-05-28T20:51:45.112278",
     "status": "completed"
    },
    "pycharm": {
     "is_executing": true,
     "name": "#%%\n"
    },
    "tags": []
   },
   "outputs": [],
   "source": [
    "\n",
    "cflds = ['written_revenues_net_of_taxes', 'written_revenues', 'earned_revenues_net_of_taxes',\n",
    "         'earned_revenues', 'earned_base_commissions', 'earned_over_commissions', 'upfront_cash_payments',\n",
    "         'total_compensation', 'paid_claims', 'ocr__ibnr', 'actual_incurred_losses',\n",
    "         'internal_variable_costs', 'az_tech_fee', 'internal_fixed_costs',\n",
    "         'hq_fees', 'total_expenses', 'risk_premium', 'profit_or_loss', 'cm_hq_view', 'cm_bu_view', ]\n",
    "\n",
    "\n",
    "\"\"\"reads in the input for the Euro conversion\"\"\"\n",
    "euro = pd.read_excel(gppm_file, sheet_name=\"Euro_Rates\")\n"
   ]
  },
  {
   "cell_type": "markdown",
   "id": "6380ee4d",
   "metadata": {
    "papermill": {
     "duration": 0.276521,
     "end_time": "2021-05-28T20:51:48.637184",
     "exception": false,
     "start_time": "2021-05-28T20:51:48.360663",
     "status": "completed"
    },
    "tags": []
   },
   "source": [
    "#### Make a copy for debug purposes"
   ]
  },
  {
   "cell_type": "code",
   "execution_count": 11,
   "id": "8a0a989f",
   "metadata": {
    "execution": {
     "iopub.execute_input": "2021-05-28T20:51:49.753614Z",
     "iopub.status.busy": "2021-05-28T20:51:49.751616Z",
     "iopub.status.idle": "2021-05-28T20:51:49.760614Z",
     "shell.execute_reply": "2021-05-28T20:51:49.761612Z"
    },
    "papermill": {
     "duration": 0.58422,
     "end_time": "2021-05-28T20:51:49.762612",
     "exception": false,
     "start_time": "2021-05-28T20:51:49.178392",
     "status": "completed"
    },
    "pycharm": {
     "is_executing": true,
     "name": "#%%\n"
    },
    "tags": []
   },
   "outputs": [],
   "source": [
    "trandata = mo_input.copy()"
   ]
  },
  {
   "cell_type": "markdown",
   "id": "3b4c0b08",
   "metadata": {
    "papermill": {
     "duration": 0.296574,
     "end_time": "2021-05-28T20:51:50.644937",
     "exception": false,
     "start_time": "2021-05-28T20:51:50.348363",
     "status": "completed"
    },
    "tags": []
   },
   "source": [
    "#### Convert Currency Below"
   ]
  },
  {
   "cell_type": "code",
   "execution_count": 12,
   "id": "58d6d1b1",
   "metadata": {
    "execution": {
     "iopub.execute_input": "2021-05-28T20:51:51.247547Z",
     "iopub.status.busy": "2021-05-28T20:51:51.240917Z",
     "iopub.status.idle": "2021-05-28T20:51:51.252545Z",
     "shell.execute_reply": "2021-05-28T20:51:51.253545Z"
    },
    "papermill": {
     "duration": 0.325088,
     "end_time": "2021-05-28T20:51:51.254546",
     "exception": false,
     "start_time": "2021-05-28T20:51:50.929458",
     "status": "completed"
    },
    "pycharm": {
     "is_executing": true,
     "name": "#%%\n"
    },
    "tags": []
   },
   "outputs": [],
   "source": [
    "# create DataFrame of unique currencies with rates\n",
    "\n",
    "fx_uni = euro[['CURR_CODE','RATE']]\n",
    "fx_uni = fx_uni.drop_duplicates()"
   ]
  },
  {
   "cell_type": "code",
   "execution_count": 13,
   "id": "ba058be0",
   "metadata": {
    "execution": {
     "iopub.execute_input": "2021-05-28T20:51:51.891447Z",
     "iopub.status.busy": "2021-05-28T20:51:51.886452Z",
     "iopub.status.idle": "2021-05-28T20:51:51.906448Z",
     "shell.execute_reply": "2021-05-28T20:51:51.904448Z"
    },
    "papermill": {
     "duration": 0.350983,
     "end_time": "2021-05-28T20:51:51.906448",
     "exception": false,
     "start_time": "2021-05-28T20:51:51.555465",
     "status": "completed"
    },
    "pycharm": {
     "is_executing": true,
     "name": "#%%\n"
    },
    "tags": []
   },
   "outputs": [],
   "source": [
    "# add euro conversion rates to trandata DataFrame as column 'eur_rate'\n",
    "\n",
    "eurdata = pd.merge(trandata['currency'], fx_uni, left_on='currency', right_on='CURR_CODE', how='left')\n",
    "\n",
    "trandata['eur_rate'] = eurdata['RATE']"
   ]
  },
  {
   "cell_type": "markdown",
   "id": "1c76af33",
   "metadata": {
    "papermill": {
     "duration": 0.344386,
     "end_time": "2021-05-28T20:51:52.547059",
     "exception": false,
     "start_time": "2021-05-28T20:51:52.202673",
     "status": "completed"
    },
    "tags": []
   },
   "source": [
    "#### Convert currency fields"
   ]
  },
  {
   "cell_type": "markdown",
   "id": "f0881714",
   "metadata": {
    "tags": [
     "papermill-error-cell-tag"
    ]
   },
   "source": [
    "<span id=\"papermill-error-cell\" style=\"color:red; font-family:Helvetica Neue, Helvetica, Arial, sans-serif; font-size:2em;\">Execution using papermill encountered an exception here and stopped:</span>"
   ]
  },
  {
   "cell_type": "code",
   "execution_count": 14,
   "id": "3234c8c2",
   "metadata": {
    "execution": {
     "iopub.execute_input": "2021-05-28T20:51:53.107785Z",
     "iopub.status.busy": "2021-05-28T20:51:53.106794Z",
     "iopub.status.idle": "2021-05-28T20:51:53.401731Z",
     "shell.execute_reply": "2021-05-28T20:51:53.398718Z"
    },
    "papermill": {
     "duration": 0.581019,
     "end_time": "2021-05-28T20:51:53.402727",
     "exception": true,
     "start_time": "2021-05-28T20:51:52.821708",
     "status": "failed"
    },
    "pycharm": {
     "is_executing": true,
     "name": "#%%\n"
    },
    "tags": []
   },
   "outputs": [
    {
     "ename": "KeyError",
     "evalue": "\"['cm_hq_view', 'actual_incurred_losses', 'internal_variable_costs', 'earned_over_commissions', 'internal_fixed_costs', 'cm_bu_view', 'ocr__ibnr'] not in index\"",
     "output_type": "error",
     "traceback": [
      "\u001b[1;31m---------------------------------------------------------------------------\u001b[0m",
      "\u001b[1;31mKeyError\u001b[0m                                  Traceback (most recent call last)",
      "\u001b[1;32m<ipython-input-14-2ad0bbe2dfc4>\u001b[0m in \u001b[0;36m<module>\u001b[1;34m\u001b[0m\n\u001b[1;32m----> 1\u001b[1;33m \u001b[0mtrandata\u001b[0m\u001b[1;33m[\u001b[0m\u001b[0mcflds\u001b[0m\u001b[1;33m]\u001b[0m \u001b[1;33m=\u001b[0m \u001b[0mtrandata\u001b[0m\u001b[1;33m[\u001b[0m\u001b[0mcflds\u001b[0m\u001b[1;33m]\u001b[0m\u001b[1;33m.\u001b[0m\u001b[0mdivide\u001b[0m\u001b[1;33m(\u001b[0m\u001b[0mtrandata\u001b[0m\u001b[1;33m[\u001b[0m\u001b[1;34m'eur_rate'\u001b[0m\u001b[1;33m]\u001b[0m\u001b[1;33m,\u001b[0m \u001b[0maxis\u001b[0m\u001b[1;33m=\u001b[0m\u001b[1;34m\"index\"\u001b[0m\u001b[1;33m)\u001b[0m\u001b[1;33m.\u001b[0m\u001b[0mfillna\u001b[0m\u001b[1;33m(\u001b[0m\u001b[1;36m0\u001b[0m\u001b[1;33m)\u001b[0m\u001b[1;33m\u001b[0m\u001b[1;33m\u001b[0m\u001b[0m\n\u001b[0m",
      "\u001b[1;32m~\\Anaconda3\\lib\\site-packages\\pandas\\core\\frame.py\u001b[0m in \u001b[0;36m__getitem__\u001b[1;34m(self, key)\u001b[0m\n\u001b[0;32m   2906\u001b[0m             \u001b[1;32mif\u001b[0m \u001b[0mis_iterator\u001b[0m\u001b[1;33m(\u001b[0m\u001b[0mkey\u001b[0m\u001b[1;33m)\u001b[0m\u001b[1;33m:\u001b[0m\u001b[1;33m\u001b[0m\u001b[1;33m\u001b[0m\u001b[0m\n\u001b[0;32m   2907\u001b[0m                 \u001b[0mkey\u001b[0m \u001b[1;33m=\u001b[0m \u001b[0mlist\u001b[0m\u001b[1;33m(\u001b[0m\u001b[0mkey\u001b[0m\u001b[1;33m)\u001b[0m\u001b[1;33m\u001b[0m\u001b[1;33m\u001b[0m\u001b[0m\n\u001b[1;32m-> 2908\u001b[1;33m             \u001b[0mindexer\u001b[0m \u001b[1;33m=\u001b[0m \u001b[0mself\u001b[0m\u001b[1;33m.\u001b[0m\u001b[0mloc\u001b[0m\u001b[1;33m.\u001b[0m\u001b[0m_get_listlike_indexer\u001b[0m\u001b[1;33m(\u001b[0m\u001b[0mkey\u001b[0m\u001b[1;33m,\u001b[0m \u001b[0maxis\u001b[0m\u001b[1;33m=\u001b[0m\u001b[1;36m1\u001b[0m\u001b[1;33m,\u001b[0m \u001b[0mraise_missing\u001b[0m\u001b[1;33m=\u001b[0m\u001b[1;32mTrue\u001b[0m\u001b[1;33m)\u001b[0m\u001b[1;33m[\u001b[0m\u001b[1;36m1\u001b[0m\u001b[1;33m]\u001b[0m\u001b[1;33m\u001b[0m\u001b[1;33m\u001b[0m\u001b[0m\n\u001b[0m\u001b[0;32m   2909\u001b[0m \u001b[1;33m\u001b[0m\u001b[0m\n\u001b[0;32m   2910\u001b[0m         \u001b[1;31m# take() does not accept boolean indexers\u001b[0m\u001b[1;33m\u001b[0m\u001b[1;33m\u001b[0m\u001b[1;33m\u001b[0m\u001b[0m\n",
      "\u001b[1;32m~\\Anaconda3\\lib\\site-packages\\pandas\\core\\indexing.py\u001b[0m in \u001b[0;36m_get_listlike_indexer\u001b[1;34m(self, key, axis, raise_missing)\u001b[0m\n\u001b[0;32m   1252\u001b[0m             \u001b[0mkeyarr\u001b[0m\u001b[1;33m,\u001b[0m \u001b[0mindexer\u001b[0m\u001b[1;33m,\u001b[0m \u001b[0mnew_indexer\u001b[0m \u001b[1;33m=\u001b[0m \u001b[0max\u001b[0m\u001b[1;33m.\u001b[0m\u001b[0m_reindex_non_unique\u001b[0m\u001b[1;33m(\u001b[0m\u001b[0mkeyarr\u001b[0m\u001b[1;33m)\u001b[0m\u001b[1;33m\u001b[0m\u001b[1;33m\u001b[0m\u001b[0m\n\u001b[0;32m   1253\u001b[0m \u001b[1;33m\u001b[0m\u001b[0m\n\u001b[1;32m-> 1254\u001b[1;33m         \u001b[0mself\u001b[0m\u001b[1;33m.\u001b[0m\u001b[0m_validate_read_indexer\u001b[0m\u001b[1;33m(\u001b[0m\u001b[0mkeyarr\u001b[0m\u001b[1;33m,\u001b[0m \u001b[0mindexer\u001b[0m\u001b[1;33m,\u001b[0m \u001b[0maxis\u001b[0m\u001b[1;33m,\u001b[0m \u001b[0mraise_missing\u001b[0m\u001b[1;33m=\u001b[0m\u001b[0mraise_missing\u001b[0m\u001b[1;33m)\u001b[0m\u001b[1;33m\u001b[0m\u001b[1;33m\u001b[0m\u001b[0m\n\u001b[0m\u001b[0;32m   1255\u001b[0m         \u001b[1;32mreturn\u001b[0m \u001b[0mkeyarr\u001b[0m\u001b[1;33m,\u001b[0m \u001b[0mindexer\u001b[0m\u001b[1;33m\u001b[0m\u001b[1;33m\u001b[0m\u001b[0m\n\u001b[0;32m   1256\u001b[0m \u001b[1;33m\u001b[0m\u001b[0m\n",
      "\u001b[1;32m~\\Anaconda3\\lib\\site-packages\\pandas\\core\\indexing.py\u001b[0m in \u001b[0;36m_validate_read_indexer\u001b[1;34m(self, key, indexer, axis, raise_missing)\u001b[0m\n\u001b[0;32m   1302\u001b[0m             \u001b[1;32mif\u001b[0m \u001b[0mraise_missing\u001b[0m\u001b[1;33m:\u001b[0m\u001b[1;33m\u001b[0m\u001b[1;33m\u001b[0m\u001b[0m\n\u001b[0;32m   1303\u001b[0m                 \u001b[0mnot_found\u001b[0m \u001b[1;33m=\u001b[0m \u001b[0mlist\u001b[0m\u001b[1;33m(\u001b[0m\u001b[0mset\u001b[0m\u001b[1;33m(\u001b[0m\u001b[0mkey\u001b[0m\u001b[1;33m)\u001b[0m \u001b[1;33m-\u001b[0m \u001b[0mset\u001b[0m\u001b[1;33m(\u001b[0m\u001b[0max\u001b[0m\u001b[1;33m)\u001b[0m\u001b[1;33m)\u001b[0m\u001b[1;33m\u001b[0m\u001b[1;33m\u001b[0m\u001b[0m\n\u001b[1;32m-> 1304\u001b[1;33m                 \u001b[1;32mraise\u001b[0m \u001b[0mKeyError\u001b[0m\u001b[1;33m(\u001b[0m\u001b[1;34mf\"{not_found} not in index\"\u001b[0m\u001b[1;33m)\u001b[0m\u001b[1;33m\u001b[0m\u001b[1;33m\u001b[0m\u001b[0m\n\u001b[0m\u001b[0;32m   1305\u001b[0m \u001b[1;33m\u001b[0m\u001b[0m\n\u001b[0;32m   1306\u001b[0m             \u001b[1;31m# we skip the warning on Categorical\u001b[0m\u001b[1;33m\u001b[0m\u001b[1;33m\u001b[0m\u001b[1;33m\u001b[0m\u001b[0m\n",
      "\u001b[1;31mKeyError\u001b[0m: \"['cm_hq_view', 'actual_incurred_losses', 'internal_variable_costs', 'earned_over_commissions', 'internal_fixed_costs', 'cm_bu_view', 'ocr__ibnr'] not in index\""
     ]
    }
   ],
   "source": [
    "trandata[cflds] = trandata[cflds].divide(trandata['eur_rate'], axis=\"index\").fillna(0)\n"
   ]
  },
  {
   "cell_type": "markdown",
   "id": "4ed0d2b7",
   "metadata": {
    "papermill": {
     "duration": null,
     "end_time": null,
     "exception": null,
     "start_time": null,
     "status": "pending"
    },
    "tags": []
   },
   "source": [
    "#### Output to {percode}.euroconv.csv"
   ]
  },
  {
   "cell_type": "code",
   "execution_count": null,
   "id": "f598848e",
   "metadata": {
    "papermill": {
     "duration": null,
     "end_time": null,
     "exception": null,
     "start_time": null,
     "status": "pending"
    },
    "pycharm": {
     "is_executing": true,
     "name": "#%%\n"
    },
    "tags": []
   },
   "outputs": [],
   "source": [
    "trandata.to_csv( os.path.join(   rt_path , euro_file) , ',', index=False, encoding='utf-8-sig')\n"
   ]
  },
  {
   "cell_type": "code",
   "execution_count": null,
   "id": "2b1f0d7c",
   "metadata": {
    "papermill": {
     "duration": null,
     "end_time": null,
     "exception": null,
     "start_time": null,
     "status": "pending"
    },
    "tags": []
   },
   "outputs": [],
   "source": [
    "#### Store the DataFrame for other notebooks to use and open the file location for the user to view the new files"
   ]
  },
  {
   "cell_type": "code",
   "execution_count": null,
   "id": "84fb90ae",
   "metadata": {
    "papermill": {
     "duration": null,
     "end_time": null,
     "exception": null,
     "start_time": null,
     "status": "pending"
    },
    "tags": []
   },
   "outputs": [],
   "source": [
    "mo_df = trandata\n",
    "\n",
    "%store mo_df\n",
    "\n",
    "\n",
    "os.startfile( rt_path   )\n",
    "\n"
   ]
  },
  {
   "cell_type": "code",
   "execution_count": null,
   "id": "a44b890f",
   "metadata": {
    "papermill": {
     "duration": null,
     "end_time": null,
     "exception": null,
     "start_time": null,
     "status": "pending"
    },
    "tags": []
   },
   "outputs": [],
   "source": []
  }
 ],
 "metadata": {
  "celltoolbar": "Tags",
  "kernelspec": {
   "display_name": "Python 3",
   "language": "python",
   "name": "python3"
  },
  "language_info": {
   "codemirror_mode": {
    "name": "ipython",
    "version": 3
   },
   "file_extension": ".py",
   "mimetype": "text/x-python",
   "name": "python",
   "nbconvert_exporter": "python",
   "pygments_lexer": "ipython3",
   "version": "3.7.6"
  },
  "papermill": {
   "default_parameters": {},
   "duration": 52.913238,
   "end_time": "2021-05-28T20:51:54.342466",
   "environment_variables": {},
   "exception": true,
   "input_path": "pipeline/make_output.ipynb",
   "output_path": "//hecate/Insurance_US/Product Development/Product Management/Global PPM/Reporting/Data Collection/Pipeline Reporting Scripts/GPMpipeline/instances/2021.Q1\\pipeline\\make_output05282021164134--live run, removed r transformations.ipynb",
   "parameters": {
    "commit_message": "Demo Test",
    "inst_datetime": "05282021164134",
    "percode": "2021.Q1",
    "run_control": 1
   },
   "start_time": "2021-05-28T20:51:01.429228",
   "version": "2.3.3"
  }
 },
 "nbformat": 4,
 "nbformat_minor": 5
}