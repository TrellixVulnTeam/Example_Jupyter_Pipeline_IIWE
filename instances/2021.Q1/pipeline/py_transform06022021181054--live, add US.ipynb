{
 "cells": [
  {
   "cell_type": "markdown",
   "id": "b089a3ea",
   "metadata": {
    "papermill": {
     "duration": 0.32143,
     "end_time": "2021-06-02T22:15:41.432439",
     "exception": false,
     "start_time": "2021-06-02T22:15:41.111009",
     "status": "completed"
    },
    "pycharm": {
     "name": "#%% md\n"
    },
    "tags": []
   },
   "source": [
    "<img src=\"../images/AzPTravel_PPM.png\">"
   ]
  },
  {
   "cell_type": "markdown",
   "id": "d8479598",
   "metadata": {
    "collapsed": true,
    "papermill": {
     "duration": 0.293994,
     "end_time": "2021-06-02T22:15:42.019205",
     "exception": false,
     "start_time": "2021-06-02T22:15:41.725211",
     "status": "completed"
    },
    "pycharm": {
     "name": "#%% md\n"
    },
    "tags": []
   },
   "source": [
    "## GPM Data Transformation Script\n",
    "\n",
    "#### This script transforms the single consolidated raw file \"{Data Collection}.csv\" into it's final GPM input versions \"{Data Collection Code}localcur.csv\" and \"{Data Collection Code}euroconv.csv\"\n",
    "#### Current transformations\n",
    "\n",
    "-    make headers lowercase and replace spaces with hyphens\n",
    "-    Remove any rows with null BUs\n",
    "-    validate columns in validcols\n",
    "-    output documented here: \"Global_Attribute_Catalog.xlsx\" you can also edit dataframe entries using the instructions in the file\n",
    "-    replace various null or placeholder values with \"Not Provided\"\n"
   ]
  },
  {
   "cell_type": "markdown",
   "id": "6196d040",
   "metadata": {
    "papermill": {
     "duration": 0.310687,
     "end_time": "2021-06-02T22:15:42.751941",
     "exception": false,
     "start_time": "2021-06-02T22:15:42.441254",
     "status": "completed"
    },
    "tags": []
   },
   "source": [
    "###"
   ]
  },
  {
   "cell_type": "code",
   "execution_count": 1,
   "id": "2da815f5",
   "metadata": {
    "execution": {
     "iopub.execute_input": "2021-06-02T22:15:43.378018Z",
     "iopub.status.busy": "2021-06-02T22:15:43.370023Z",
     "iopub.status.idle": "2021-06-02T22:15:43.382021Z",
     "shell.execute_reply": "2021-06-02T22:15:43.395023Z"
    },
    "papermill": {
     "duration": 0.339558,
     "end_time": "2021-06-02T22:15:43.395023",
     "exception": false,
     "start_time": "2021-06-02T22:15:43.055465",
     "status": "completed"
    },
    "pycharm": {
     "name": "#%%\n"
    },
    "tags": [
     "parameters"
    ]
   },
   "outputs": [],
   "source": [
    "commit = \"\"\n",
    "# give a reason for the run\n",
    "\n",
    "percode = \"20XX.QX\"\n",
    "# Data Collection Code, this controls file paths and output names\n",
    "\n",
    "run_type = 1\n",
    "#run_type =  0 - lite run with no reporting, not recommended.\n",
    "#run_type =  1 - lite run with normal reporting, default setting.\n",
    "#run_type =  2 - Heavy run with full reporting, available for audits and troubleshooting.\n",
    "\n",
    "specialchars = \"-GTHtest\"\n",
    "# optional - add up to a 12 character code in order to mark your instance record .ipynb\n",
    "\n",
    "from datetime import datetime\n",
    "inst_datetime = datetime.now().strftime(\"%m%d%Y%H%M%S\")\n",
    "# a single datetime stamp for the full instance run\n"
   ]
  },
  {
   "cell_type": "code",
   "execution_count": 2,
   "id": "0ddddb02",
   "metadata": {
    "execution": {
     "iopub.execute_input": "2021-06-02T22:15:44.031065Z",
     "iopub.status.busy": "2021-06-02T22:15:44.030066Z",
     "iopub.status.idle": "2021-06-02T22:15:44.038061Z",
     "shell.execute_reply": "2021-06-02T22:15:44.036069Z"
    },
    "papermill": {
     "duration": 0.309755,
     "end_time": "2021-06-02T22:15:44.038300",
     "exception": false,
     "start_time": "2021-06-02T22:15:43.728545",
     "status": "completed"
    },
    "tags": [
     "injected-parameters"
    ]
   },
   "outputs": [],
   "source": [
    "# Parameters\n",
    "run_control = 1\n",
    "percode = \"2021.Q1\"\n",
    "commit_message = \"Live run, added US, some troubleshooting.\"\n",
    "inst_datetime = \"06022021181054\"\n"
   ]
  },
  {
   "cell_type": "markdown",
   "id": "1e81df61",
   "metadata": {
    "papermill": {
     "duration": 0.326521,
     "end_time": "2021-06-02T22:15:44.672594",
     "exception": false,
     "start_time": "2021-06-02T22:15:44.346073",
     "status": "completed"
    },
    "tags": []
   },
   "source": [
    "### Set Run Control\n",
    "\n",
    "##### 0 - lite run with no reporting, not recommended.\n",
    "##### 1 - lite run with normal reporting, default setting.\n",
    "##### 2 - Heavy run with full reporting, available for audits and troubleshooting."
   ]
  },
  {
   "cell_type": "code",
   "execution_count": 3,
   "id": "070161cb",
   "metadata": {
    "execution": {
     "iopub.execute_input": "2021-06-02T22:15:45.286881Z",
     "iopub.status.busy": "2021-06-02T22:15:45.284882Z",
     "iopub.status.idle": "2021-06-02T22:15:45.291880Z",
     "shell.execute_reply": "2021-06-02T22:15:45.292882Z"
    },
    "papermill": {
     "duration": 0.320148,
     "end_time": "2021-06-02T22:15:45.292882",
     "exception": false,
     "start_time": "2021-06-02T22:15:44.972734",
     "status": "completed"
    },
    "pycharm": {
     "name": "#%%\n"
    },
    "tags": []
   },
   "outputs": [],
   "source": [
    "run_control = 0  # in development mode"
   ]
  },
  {
   "cell_type": "code",
   "execution_count": 4,
   "id": "d0911130",
   "metadata": {
    "execution": {
     "iopub.execute_input": "2021-06-02T22:15:45.912806Z",
     "iopub.status.busy": "2021-06-02T22:15:45.911807Z",
     "iopub.status.idle": "2021-06-02T22:15:49.250108Z",
     "shell.execute_reply": "2021-06-02T22:15:49.252106Z"
    },
    "papermill": {
     "duration": 3.666692,
     "end_time": "2021-06-02T22:15:49.252106",
     "exception": false,
     "start_time": "2021-06-02T22:15:45.585414",
     "status": "completed"
    },
    "pycharm": {
     "name": "#%%\n"
    },
    "tags": []
   },
   "outputs": [],
   "source": [
    "#### Packages used\n",
    "import sys\n",
    "import os\n",
    "import pandas as pd\n",
    "from pandas import ExcelWriter\n",
    "from numpy import nan"
   ]
  },
  {
   "cell_type": "code",
   "execution_count": 5,
   "id": "e7a0b510",
   "metadata": {
    "execution": {
     "iopub.execute_input": "2021-06-02T22:15:49.925798Z",
     "iopub.status.busy": "2021-06-02T22:15:49.917805Z",
     "iopub.status.idle": "2021-06-02T22:15:49.934789Z",
     "shell.execute_reply": "2021-06-02T22:15:49.936795Z"
    },
    "papermill": {
     "duration": 0.349632,
     "end_time": "2021-06-02T22:15:49.937297",
     "exception": false,
     "start_time": "2021-06-02T22:15:49.587665",
     "status": "completed"
    },
    "pycharm": {
     "name": "#%%\n"
    },
    "tags": []
   },
   "outputs": [],
   "source": [
    "default_dc = \"2021.Q1\"\n",
    "\n",
    "try:\n",
    "    if sys.argv[1] == \"-f\":\n",
    "        percode = default_dc\n",
    "    else:\n",
    "        percode = sys.argv[1]\n",
    "\n",
    "except IndexError:\n",
    "    percode = default_dc\n",
    "except NameError:\n",
    "    percode = default_dc"
   ]
  },
  {
   "cell_type": "markdown",
   "id": "0fa6e670",
   "metadata": {
    "papermill": {
     "duration": 0.315521,
     "end_time": "2021-06-02T22:15:50.686867",
     "exception": false,
     "start_time": "2021-06-02T22:15:50.371346",
     "status": "completed"
    },
    "tags": []
   },
   "source": [
    "#### style settings"
   ]
  },
  {
   "cell_type": "code",
   "execution_count": 6,
   "id": "7b961d24",
   "metadata": {
    "execution": {
     "iopub.execute_input": "2021-06-02T22:15:51.273987Z",
     "iopub.status.busy": "2021-06-02T22:15:51.271994Z",
     "iopub.status.idle": "2021-06-02T22:15:51.278988Z",
     "shell.execute_reply": "2021-06-02T22:15:51.280993Z"
    },
    "papermill": {
     "duration": 0.322061,
     "end_time": "2021-06-02T22:15:51.280993",
     "exception": false,
     "start_time": "2021-06-02T22:15:50.958932",
     "status": "completed"
    },
    "tags": []
   },
   "outputs": [],
   "source": [
    "from IPython.core.interactiveshell import InteractiveShell\n",
    "InteractiveShell.ast_node_interactivity = \"all\""
   ]
  },
  {
   "cell_type": "markdown",
   "id": "516b387e",
   "metadata": {
    "papermill": {
     "duration": 0.299001,
     "end_time": "2021-06-02T22:15:51.889045",
     "exception": false,
     "start_time": "2021-06-02T22:15:51.590044",
     "status": "completed"
    },
    "tags": []
   },
   "source": [
    "#### Convert paths and files to variables.\n",
    "#### Read data into pd DataFrames.\n",
    "#### Make paths for the live sources."
   ]
  },
  {
   "cell_type": "code",
   "execution_count": 7,
   "id": "3c45b3da",
   "metadata": {
    "execution": {
     "iopub.execute_input": "2021-06-02T22:15:52.498044Z",
     "iopub.status.busy": "2021-06-02T22:15:52.493044Z",
     "iopub.status.idle": "2021-06-02T22:15:52.504039Z",
     "shell.execute_reply": "2021-06-02T22:15:52.505048Z"
    },
    "papermill": {
     "duration": 0.323995,
     "end_time": "2021-06-02T22:15:52.506043",
     "exception": false,
     "start_time": "2021-06-02T22:15:52.182048",
     "status": "completed"
    },
    "pycharm": {
     "name": "#%%\n"
    },
    "tags": []
   },
   "outputs": [],
   "source": [
    "rt_path = os.path.join( f'\\\\\\\\hecate\\\\Insurance_US\\\\Product Development\\\\Product Management\\\\Global PPM\\\\Reporting\\\\Data Collection\\\\Production',percode)\n",
    "\n",
    "infile = os.path.join(rt_path, f'{str(percode)}.parquet')\n",
    "gppm_file = os.path.join(rt_path, f'GPPM_Input_{str(percode)}.xlsx')\n",
    "atcat = os.path.join(rt_path, f'{percode}_Attribute_Catalog.xlsx')\n"
   ]
  },
  {
   "cell_type": "code",
   "execution_count": 8,
   "id": "0069dc28",
   "metadata": {
    "execution": {
     "iopub.execute_input": "2021-06-02T22:15:53.153238Z",
     "iopub.status.busy": "2021-06-02T22:15:53.151238Z",
     "iopub.status.idle": "2021-06-02T22:15:53.158237Z",
     "shell.execute_reply": "2021-06-02T22:15:53.159248Z"
    },
    "papermill": {
     "duration": 0.354334,
     "end_time": "2021-06-02T22:15:53.159248",
     "exception": false,
     "start_time": "2021-06-02T22:15:52.804914",
     "status": "completed"
    },
    "tags": []
   },
   "outputs": [],
   "source": [
    "#### Read input file\n",
    "\n",
    "#### This reads the consolidated file that will be transformed or a stored dataframe based on the execution method."
   ]
  },
  {
   "cell_type": "code",
   "execution_count": 9,
   "id": "845b2926",
   "metadata": {
    "execution": {
     "iopub.execute_input": "2021-06-02T22:15:53.763473Z",
     "iopub.status.busy": "2021-06-02T22:15:53.762477Z",
     "iopub.status.idle": "2021-06-02T22:15:54.007471Z",
     "shell.execute_reply": "2021-06-02T22:15:54.008474Z"
    },
    "papermill": {
     "duration": 0.553001,
     "end_time": "2021-06-02T22:15:54.009472",
     "exception": false,
     "start_time": "2021-06-02T22:15:53.456471",
     "status": "completed"
    },
    "pycharm": {
     "name": "#%%\n"
    },
    "tags": []
   },
   "outputs": [
    {
     "name": "stdout",
     "output_type": "stream",
     "text": [
      "                        Submission File Business Unit Country Currency  \\\n",
      "0      us_dat_at_+te_q1_2021_at.parquet            AT      AT      EUR   \n",
      "1      us_dat_at_+te_q1_2021_at.parquet            AT      AT      EUR   \n",
      "2      us_dat_at_+te_q1_2021_at.parquet            AT      AT      EUR   \n",
      "3      us_dat_at_+te_q1_2021_at.parquet            AT      AT      EUR   \n",
      "4      us_dat_at_+te_q1_2021_at.parquet            AT      AT      EUR   \n",
      "...                                 ...           ...     ...      ...   \n",
      "13749  us_dat_us_06022021145526.parquet            US      US      USD   \n",
      "13750  us_dat_us_06022021145526.parquet            US      US      USD   \n",
      "13751  us_dat_us_06022021145526.parquet            US      US      USD   \n",
      "13752  us_dat_us_06022021145526.parquet            US      US      USD   \n",
      "13753  us_dat_us_06022021145526.parquet            US      US      USD   \n",
      "\n",
      "                                Region Reporting Date From Reporting Date To  \\\n",
      "0      North, Central & Eastern Europe          2021-01-01        2021-03-31   \n",
      "1      North, Central & Eastern Europe          2021-01-01        2021-03-31   \n",
      "2      North, Central & Eastern Europe          2021-01-01        2021-03-31   \n",
      "3      North, Central & Eastern Europe          2021-01-01        2021-03-31   \n",
      "4      North, Central & Eastern Europe          2021-01-01        2021-03-31   \n",
      "...                                ...                 ...               ...   \n",
      "13749                    North America          2021-01-01        2021-03-31   \n",
      "13750                    North America          2021-01-01        2021-03-31   \n",
      "13751                    North America          2021-01-01        2021-03-31   \n",
      "13752                    North America          2021-01-01        2021-03-31   \n",
      "13753                    North America          2021-01-01        2021-03-31   \n",
      "\n",
      "      Date of Analysis Type of Analysis  Analysed Months  ...    comsub  \\\n",
      "0           2021-05-07     Year To Date              3.0  ...  0.000000   \n",
      "1           2021-05-07     Year To Date              3.0  ...  0.000000   \n",
      "2           2021-05-07     Year To Date              3.0  ...  0.000000   \n",
      "3           2021-05-07     Year To Date              3.0  ...  0.000000   \n",
      "4           2021-05-07     Year To Date              3.0  ...  0.000000   \n",
      "...                ...              ...              ...  ...       ...   \n",
      "13749       2021-04-30     Year To Date              3.0  ...  0.000000   \n",
      "13750       2021-04-30     Year To Date              3.0  ...  0.000000   \n",
      "13751       2021-04-30     Year To Date              3.0  ...  0.000000   \n",
      "13752       2021-04-30     Year To Date              3.0  ...  0.344545   \n",
      "13753       2021-04-30     Year To Date              3.0  ...  0.271429   \n",
      "\n",
      "         expsub  Reporting Date From INT Reporting Date To INT  \\\n",
      "0      0.000000                      NaN                   NaN   \n",
      "1      0.000000                      NaN                   NaN   \n",
      "2      0.000000                      NaN                   NaN   \n",
      "3      0.000000                      NaN                   NaN   \n",
      "4      0.000000                      NaN                   NaN   \n",
      "...         ...                      ...                   ...   \n",
      "13749  0.000000               20210101.0            20210331.0   \n",
      "13750  0.000000               20210101.0            20210331.0   \n",
      "13751  0.000000               20210101.0            20210331.0   \n",
      "13752  0.200909               20210101.0            20210331.0   \n",
      "13753  0.208571               20210101.0            20210331.0   \n",
      "\n",
      "      Date of Analysis INT                     Selected Fields for Duplicates  \\\n",
      "0                      NaN                                                NaN   \n",
      "1                      NaN                                                NaN   \n",
      "2                      NaN                                                NaN   \n",
      "3                      NaN                                                NaN   \n",
      "4                      NaN                                                NaN   \n",
      "...                    ...                                                ...   \n",
      "13749           20210430.0  USInsuranceLocalB2B2CTravelOffline Travel Agen...   \n",
      "13750           20210430.0  USInsuranceLocalB2B2CTravelOffline Travel Agen...   \n",
      "13751           20210430.0  USInsuranceLocalB2B2CTravelOffline Travel Agen...   \n",
      "13752           20210430.0  USInsuranceLocalB2B2CTravelOffline Travel Agen...   \n",
      "13753           20210430.0  USInsuranceLocalB2B2CTravelOffline Travel Agen...   \n",
      "\n",
      "      ibnrsub Identifier to pull in results from Data tab Unnamed: 67  \\\n",
      "0         NaN                                         NaN         NaN   \n",
      "1         NaN                                         NaN         NaN   \n",
      "2         NaN                                         NaN         NaN   \n",
      "3         NaN                                         NaN         NaN   \n",
      "4         NaN                                         NaN         NaN   \n",
      "...       ...                                         ...         ...   \n",
      "13749     0.0                           314666064x1004320         0.0   \n",
      "13750     0.0                           315460246x1005115         0.0   \n",
      "13751     0.0                           319820436x1003748         0.0   \n",
      "13752     1.0                           319820436x1004320         0.0   \n",
      "13753     1.0                           319820436x1004534         0.0   \n",
      "\n",
      "      Unnamed: 68  \n",
      "0             NaN  \n",
      "1             NaN  \n",
      "2             NaN  \n",
      "3             NaN  \n",
      "4             NaN  \n",
      "...           ...  \n",
      "13749         0.0  \n",
      "13750         0.0  \n",
      "13751         0.0  \n",
      "13752         0.0  \n",
      "13753         0.0  \n",
      "\n",
      "[13754 rows x 79 columns]\n"
     ]
    }
   ],
   "source": [
    "try:\n",
    "    %store -r read_dc_df\n",
    "    input = read_dc_df\n",
    "        \n",
    "except:\n",
    "    input = pd.read_parquet(infile,engine = \"pyarrow\")\n",
    "    os.remove(infile)\n",
    "\n",
    "print(input)"
   ]
  },
  {
   "cell_type": "markdown",
   "id": "e77b37c2",
   "metadata": {
    "papermill": {
     "duration": 0.327254,
     "end_time": "2021-06-02T22:15:54.652417",
     "exception": false,
     "start_time": "2021-06-02T22:15:54.325163",
     "status": "completed"
    },
    "tags": []
   },
   "source": [
    "#### Make a copy for debug purposes"
   ]
  },
  {
   "cell_type": "code",
   "execution_count": 10,
   "id": "8e3ccc3d",
   "metadata": {
    "execution": {
     "iopub.execute_input": "2021-06-02T22:15:55.375244Z",
     "iopub.status.busy": "2021-06-02T22:15:55.372244Z",
     "iopub.status.idle": "2021-06-02T22:15:55.392240Z",
     "shell.execute_reply": "2021-06-02T22:15:55.393242Z"
    },
    "papermill": {
     "duration": 0.350001,
     "end_time": "2021-06-02T22:15:55.394242",
     "exception": false,
     "start_time": "2021-06-02T22:15:55.044241",
     "status": "completed"
    },
    "pycharm": {
     "name": "#%%\n"
    },
    "tags": []
   },
   "outputs": [],
   "source": [
    "trandata = input.copy()"
   ]
  },
  {
   "cell_type": "markdown",
   "id": "7c99fc6a",
   "metadata": {
    "papermill": {
     "duration": 0.309695,
     "end_time": "2021-06-02T22:15:56.028369",
     "exception": false,
     "start_time": "2021-06-02T22:15:55.718674",
     "status": "completed"
    },
    "tags": []
   },
   "source": [
    "#### Format Headers"
   ]
  },
  {
   "cell_type": "code",
   "execution_count": 11,
   "id": "b4f7278b",
   "metadata": {
    "execution": {
     "iopub.execute_input": "2021-06-02T22:15:56.690690Z",
     "iopub.status.busy": "2021-06-02T22:15:56.671693Z",
     "iopub.status.idle": "2021-06-02T22:15:56.700697Z",
     "shell.execute_reply": "2021-06-02T22:15:56.701689Z"
    },
    "papermill": {
     "duration": 0.348516,
     "end_time": "2021-06-02T22:15:56.701689",
     "exception": false,
     "start_time": "2021-06-02T22:15:56.353173",
     "status": "completed"
    },
    "pycharm": {
     "name": "#%%\n"
    },
    "tags": []
   },
   "outputs": [
    {
     "data": {
      "text/plain": [
       "'format headers'"
      ]
     },
     "execution_count": 11,
     "metadata": {},
     "output_type": "execute_result"
    }
   ],
   "source": [
    "# save the column names to variable, format them, replace headers\n",
    "cols = trandata.columns.values\n",
    "\n",
    "\"\"\"format headers\"\"\"\n",
    "fixedcols = []\n",
    "\n",
    "for f in cols:\n",
    "    fixedhead = f.replace(' ', '_').lower()\n",
    "    fixedcols.append(fixedhead)\n",
    "\n",
    "trandata.columns = fixedcols"
   ]
  },
  {
   "cell_type": "markdown",
   "id": "cd05269c",
   "metadata": {
    "papermill": {
     "duration": 0.343545,
     "end_time": "2021-06-02T22:15:57.338914",
     "exception": false,
     "start_time": "2021-06-02T22:15:56.995369",
     "status": "completed"
    },
    "pycharm": {
     "name": "#%% md\n"
    },
    "tags": []
   },
   "source": [
    "#### Update Verification 1"
   ]
  },
  {
   "cell_type": "code",
   "execution_count": 12,
   "id": "66925bfe",
   "metadata": {
    "execution": {
     "iopub.execute_input": "2021-06-02T22:15:58.027160Z",
     "iopub.status.busy": "2021-06-02T22:15:58.025155Z",
     "iopub.status.idle": "2021-06-02T22:15:58.246421Z",
     "shell.execute_reply": "2021-06-02T22:15:58.247420Z"
    },
    "papermill": {
     "duration": 0.587508,
     "end_time": "2021-06-02T22:15:58.247420",
     "exception": false,
     "start_time": "2021-06-02T22:15:57.659912",
     "status": "completed"
    },
    "pycharm": {
     "name": "#%%\n"
    },
    "tags": []
   },
   "outputs": [
    {
     "name": "stdout",
     "output_type": "stream",
     "text": [
      "|    | Original                                                        | Transformed                                                     |\n",
      "|---:|:----------------------------------------------------------------|:----------------------------------------------------------------|\n",
      "|  0 | Submission File                                                 | submission_file                                                 |\n",
      "|  1 | Business Unit                                                   | business_unit                                                   |\n",
      "|  2 | Country                                                         | country                                                         |\n",
      "|  3 | Currency                                                        | currency                                                        |\n",
      "|  4 | Region                                                          | region                                                          |\n",
      "|  5 | Reporting Date From                                             | reporting_date_from                                             |\n",
      "|  6 | Reporting Date To                                               | reporting_date_to                                               |\n",
      "|  7 | Date of Analysis                                                | date_of_analysis                                                |\n",
      "|  8 | Type of Analysis                                                | type_of_analysis                                                |\n",
      "|  9 | Analysed Months                                                 | analysed_months                                                 |\n",
      "| 10 | Reporting Year                                                  | reporting_year                                                  |\n",
      "| 11 | Reporting Quarter                                               | reporting_quarter                                               |\n",
      "| 12 | Reporting Month                                                 | reporting_month                                                 |\n",
      "| 13 | Type of Business                                                | type_of_business                                                |\n",
      "| 14 | Type of Account                                                 | type_of_account                                                 |\n",
      "| 15 | Distribution Type                                               | distribution_type                                               |\n",
      "| 16 | LOB                                                             | lob                                                             |\n",
      "| 17 | Distribution Channel                                            | distribution_channel                                            |\n",
      "| 18 | Sub LOB                                                         | sub_lob                                                         |\n",
      "| 19 | Business Partner Name                                           | business_partner_name                                           |\n",
      "| 20 | Business Partner ID Number                                      | business_partner_id_number                                      |\n",
      "| 21 | Product Name                                                    | product_name                                                    |\n",
      "| 22 | Product ID Number                                               | product_id_number                                               |\n",
      "| 23 | Product Family                                                  | product_family                                                  |\n",
      "| 24 | Standard Product                                                | standard_product                                                |\n",
      "| 25 | Number of Products per Row                                      | number_of_products_per_row                                      |\n",
      "| 26 | Number of B-Partners per Row                                    | number_of_b-partners_per_row                                    |\n",
      "| 27 | Number of Policies (Written)                                    | number_of_policies_(written)                                    |\n",
      "| 28 | Units of Risk (Written)                                         | units_of_risk_(written)                                         |\n",
      "| 29 | Written Revenues net of Taxes                                   | written_revenues_net_of_taxes                                   |\n",
      "| 30 | Written Revenues                                                | written_revenues                                                |\n",
      "| 31 | Number of Policies (Earned)                                     | number_of_policies_(earned)                                     |\n",
      "| 32 | Units of Risk (Earned)                                          | units_of_risk_(earned)                                          |\n",
      "| 33 | Earned Revenues net of Taxes                                    | earned_revenues_net_of_taxes                                    |\n",
      "| 34 | Earned Revenues                                                 | earned_revenues                                                 |\n",
      "| 35 | Earned Base Commissions                                         | earned_base_commissions                                         |\n",
      "| 36 | Earned Over-Commissions                                         | earned_over-commissions                                         |\n",
      "| 37 | Upfront Cash Payments                                           | upfront_cash_payments                                           |\n",
      "| 38 | Total Compensation                                              | total_compensation                                              |\n",
      "| 39 | Number of Claims (Paid + OCR + IBNR)                            | number_of_claims_(paid_+_ocr_+_ibnr)                            |\n",
      "| 40 | Number of Open Claims                                           | number_of_open_claims                                           |\n",
      "| 41 | Open Claims %                                                   | open_claims_%                                                   |\n",
      "| 42 | Number of Persons Involved in Claims (Paid + OCR + IBNR)        | number_of_persons_involved_in_claims_(paid_+_ocr_+_ibnr)        |\n",
      "| 43 | Paid Claims                                                     | paid_claims                                                     |\n",
      "| 44 | OCR + IBNR                                                      | ocr_+_ibnr                                                      |\n",
      "| 45 | % of IBNR on (OCR + IBNR)                                       | %_of_ibnr_on_(ocr_+_ibnr)                                       |\n",
      "| 46 | Actual Incurred Losses (Paid + OCR + IBNR)                      | actual_incurred_losses_(paid_+_ocr_+_ibnr)                      |\n",
      "| 47 | Internal Variable Costs (excl. AZ Tech Fee)                     | internal_variable_costs_(excl._az_tech_fee)                     |\n",
      "| 48 | AZ Tech Fee                                                     | az_tech_fee                                                     |\n",
      "| 49 | Internal Fixed Costs (excl. HQ Fees)                            | internal_fixed_costs_(excl._hq_fees)                            |\n",
      "| 50 | HQ Fees                                                         | hq_fees                                                         |\n",
      "| 51 | Total Expenses                                                  | total_expenses                                                  |\n",
      "| 52 | Frequency (Earned)                                              | frequency_(earned)                                              |\n",
      "| 53 | Severity                                                        | severity                                                        |\n",
      "| 54 | Risk Premium                                                    | risk_premium                                                    |\n",
      "| 55 | Contribution Margin - BU View                                   | contribution_margin_-_bu_view                                   |\n",
      "| 56 | Contribution Margin % on Fixed Costs - BU View                  | contribution_margin_%_on_fixed_costs_-_bu_view                  |\n",
      "| 57 | Contribution Margin % on Earned Revenues net of Taxes - BU View | contribution_margin_%_on_earned_revenues_net_of_taxes_-_bu_view |\n",
      "| 58 | Contribution Margin - HQ View                                   | contribution_margin_-_hq_view                                   |\n",
      "| 59 | Contribution Margin % on Fixed Costs - HQ View                  | contribution_margin_%_on_fixed_costs_-_hq_view                  |\n",
      "| 60 | Contribution Margin % on Earned Revenues net of Taxes - HQ View | contribution_margin_%_on_earned_revenues_net_of_taxes_-_hq_view |\n",
      "| 61 | Loss Ratio                                                      | loss_ratio                                                      |\n",
      "| 62 | Commission Ratio                                                | commission_ratio                                                |\n",
      "| 63 | Expense Ratio                                                   | expense_ratio                                                   |\n",
      "| 64 | Combined Ratio                                                  | combined_ratio                                                  |\n",
      "| 65 | Profit or Loss                                                  | profit_or_loss                                                  |\n",
      "| 66 | Notes                                                           | notes                                                           |\n",
      "| 67 | Unnamed: 66                                                     | unnamed:_66                                                     |\n",
      "| 68 | concat2                                                         | concat2                                                         |\n",
      "| 69 | comsub                                                          | comsub                                                          |\n",
      "| 70 | expsub                                                          | expsub                                                          |\n",
      "| 71 | Reporting Date From INT                                         | reporting_date_from_int                                         |\n",
      "| 72 | Reporting Date To INT                                           | reporting_date_to_int                                           |\n",
      "| 73 | Date of Analysis INT                                            | date_of_analysis_int                                            |\n",
      "| 74 | Selected Fields for Duplicates                                  | selected_fields_for_duplicates                                  |\n",
      "| 75 | ibnrsub                                                         | ibnrsub                                                         |\n",
      "| 76 | Identifier to pull in results from Data tab                     | identifier_to_pull_in_results_from_data_tab                     |\n",
      "| 77 | Unnamed: 67                                                     | unnamed:_67                                                     |\n",
      "| 78 | Unnamed: 68                                                     | unnamed:_68                                                     |\n"
     ]
    }
   ],
   "source": [
    "if run_control > -10:\n",
    "    disp = {\"Original\": input.columns, \"Transformed\": trandata.columns}\n",
    "\n",
    "    disp = pd.DataFrame(disp)\n",
    "\n",
    "    print(disp.to_markdown())\n",
    "else:\n",
    "    print(\"Skipped Transformation Report 1\")"
   ]
  },
  {
   "cell_type": "markdown",
   "id": "02b9636a",
   "metadata": {
    "papermill": {
     "duration": 0.310632,
     "end_time": "2021-06-02T22:15:58.884581",
     "exception": false,
     "start_time": "2021-06-02T22:15:58.573949",
     "status": "completed"
    },
    "tags": []
   },
   "source": [
    "#### Remove rows with null business units\n"
   ]
  },
  {
   "cell_type": "code",
   "execution_count": 13,
   "id": "b4141dac",
   "metadata": {
    "execution": {
     "iopub.execute_input": "2021-06-02T22:15:59.519990Z",
     "iopub.status.busy": "2021-06-02T22:15:59.508988Z",
     "iopub.status.idle": "2021-06-02T22:15:59.544990Z",
     "shell.execute_reply": "2021-06-02T22:15:59.546990Z"
    },
    "papermill": {
     "duration": 0.352405,
     "end_time": "2021-06-02T22:15:59.546990",
     "exception": false,
     "start_time": "2021-06-02T22:15:59.194585",
     "status": "completed"
    },
    "pycharm": {
     "name": "#%%\n"
    },
    "tags": []
   },
   "outputs": [],
   "source": [
    "# todo, remove this from read file\n",
    "trandata = trandata[trandata.business_unit.notnull()]"
   ]
  },
  {
   "cell_type": "markdown",
   "id": "0e4e043d",
   "metadata": {
    "papermill": {
     "duration": 0.363517,
     "end_time": "2021-06-02T22:16:00.209976",
     "exception": false,
     "start_time": "2021-06-02T22:15:59.846459",
     "status": "completed"
    },
    "tags": []
   },
   "source": [
    "#### Update Verification 2"
   ]
  },
  {
   "cell_type": "code",
   "execution_count": 14,
   "id": "9eced403",
   "metadata": {
    "execution": {
     "iopub.execute_input": "2021-06-02T22:16:00.841603Z",
     "iopub.status.busy": "2021-06-02T22:16:00.829609Z",
     "iopub.status.idle": "2021-06-02T22:16:00.974231Z",
     "shell.execute_reply": "2021-06-02T22:16:00.975230Z"
    },
    "papermill": {
     "duration": 0.464588,
     "end_time": "2021-06-02T22:16:00.975230",
     "exception": false,
     "start_time": "2021-06-02T22:16:00.510642",
     "status": "completed"
    },
    "pycharm": {
     "name": "#%%\n"
    },
    "tags": []
   },
   "outputs": [
    {
     "name": "stdout",
     "output_type": "stream",
     "text": [
      "Row Counts\n",
      "|    | Business Unit   |   Original |   Transformed |\n",
      "|---:|:----------------|-----------:|--------------:|\n",
      "|  0 | AT              |        222 |           222 |\n",
      "|  1 | AU              |         53 |            53 |\n",
      "|  2 | CA              |         17 |            17 |\n",
      "|  3 | CH              |       3187 |          3187 |\n",
      "|  4 | CZ              |          7 |             7 |\n",
      "|  5 | ES              |         28 |            28 |\n",
      "|  6 | GR              |         15 |            15 |\n",
      "|  7 | IT              |        100 |           100 |\n",
      "|  8 | NL              |        151 |           151 |\n",
      "|  9 | PL              |         27 |            27 |\n",
      "| 10 | PT              |         39 |            39 |\n",
      "| 11 | US              |       9908 |          9908 |\n"
     ]
    }
   ],
   "source": [
    "if run_control > -10:\n",
    "\n",
    "    ibus = input.groupby(['Business Unit']).count()\n",
    "    ibus = ibus.reset_index()\n",
    "    tbus = trandata.groupby(['business_unit']).count()\n",
    "    tbus = tbus.reset_index()\n",
    "\n",
    "    compdata = pd.merge(ibus, tbus, left_on='Business Unit', right_on='business_unit', how='left')\n",
    "\n",
    "    disp = {\"Business Unit\": compdata['Business Unit'], \"Original\": compdata['Earned Revenues net of Taxes'],\n",
    "            \"Transformed\": compdata['earned_revenues_net_of_taxes']}\n",
    "\n",
    "    disp = pd.DataFrame(disp)\n",
    "\n",
    "    print(\"Row Counts\")\n",
    "    print(disp.to_markdown())\n",
    "    \n",
    "else:\n",
    "    \n",
    "    print(\"Skipped Transformation Report 2\")\n"
   ]
  },
  {
   "cell_type": "markdown",
   "id": "b3a93a3f",
   "metadata": {
    "papermill": {
     "duration": 0.343461,
     "end_time": "2021-06-02T22:16:01.670528",
     "exception": false,
     "start_time": "2021-06-02T22:16:01.327067",
     "status": "completed"
    },
    "tags": []
   },
   "source": [
    "#### Swap  nulls for \"Not Provided\" in 'Sub Lob' and 'Distribution Channel'"
   ]
  },
  {
   "cell_type": "code",
   "execution_count": 15,
   "id": "0ade8209",
   "metadata": {
    "execution": {
     "iopub.execute_input": "2021-06-02T22:16:02.359848Z",
     "iopub.status.busy": "2021-06-02T22:16:02.346857Z",
     "iopub.status.idle": "2021-06-02T22:16:02.403856Z",
     "shell.execute_reply": "2021-06-02T22:16:02.404845Z"
    },
    "papermill": {
     "duration": 0.413509,
     "end_time": "2021-06-02T22:16:02.404845",
     "exception": false,
     "start_time": "2021-06-02T22:16:01.991336",
     "status": "completed"
    },
    "pycharm": {
     "name": "#%%\n"
    },
    "tags": []
   },
   "outputs": [
    {
     "data": {
      "text/plain": [
       "array(['0.0', '', '0', 'Collision Damage Waiver (CDW)',\n",
       "       'Corporate Travel', 'Other',\n",
       "       'Standalone Cancellation - Single Trip',\n",
       "       'Travel Medical Short Term - Single Trip',\n",
       "       'Travel Package w/o Cancellation Short Term Single Trip',\n",
       "       'Travel Package with Cancellation Multi Trip (Annual Insurance)',\n",
       "       'Travel Package with Cancellation Short Term Single Trip',\n",
       "       'Event Ticket Cancellation',\n",
       "       'TPA/Claims Handling / Service Only Products',\n",
       "       'Travel Medical Multi Trip (Annual Insurance)',\n",
       "       'Travel Package w/o Cancellation Multi Trip (Annual Insurance)',\n",
       "       'Travel Medical Short Term - Single Trip, Travel Package with Cancellation Short Term Single Trip',\n",
       "       'Standalone Cancellation - Single Trip, Travel Package w/o Cancellation Short Term Single Trip, Travel Package with Cancellation Short Term Single Trip',\n",
       "       'Standalone Cancellation - Single Trip, Travel Package with Cancellation Short Term Single Trip',\n",
       "       'Travel Package with Cancellation Short Term Single Trip, Travel Package w/o Cancellation Short Term Single Trip',\n",
       "       'Standalone Cancellation - Single Trip, Travel Package w/o Cancellation Multi Trip (Annual Insurance), Travel Package w/o Cancellation Short Term Single Trip, Travel Package with Cancellation Short Term Single Trip',\n",
       "       'Travel Package w/o Cancellation Short Term Single Trip, Travel Package with Cancellation Short Term Single Trip',\n",
       "       'Collision Damage Waiver (CDW), Standalone Cancellation - Single Trip, Travel Package w/o Cancellation Multi Trip (Annual Insurance), Travel Package w/o Cancellation Short Term Single Trip, Travel Package with Cancellation Short Term Single Trip',\n",
       "       'Travel Package with Cancellation Short Term Single Trip, Travel Package w/o Cancellation Short Term Single Trip, Standalone Cancellation - Single Trip',\n",
       "       'Travel Package with Cancellation Short Term Single Trip, Travel Package with Cancellation Short Term Single Trip, Travel Package w/o Cancellation Short Term Single Trip, Standalone Cancellation - Single Trip',\n",
       "       'Travel Package with Cancellation Short Term Single Trip, Standalone Cancellation - Single Trip',\n",
       "       'Expatriates',\n",
       "       'Travel Package with Cancellation Short Term Single Trip, Travel Package w/o Cancellation Short Term Single Trip, Travel Medical Short Term - Single Trip',\n",
       "       'Travel Package w/o Cancellation Short Term Single Trip, Standalone Cancellation - Single Trip, Travel Medical Short Term - Single Trip',\n",
       "       'Travel Package w/o Cancellation Short Term Single Trip, Standalone Cancellation - Single Trip',\n",
       "       'Travel Package with Cancellation Short Term Single Trip, Travel Medical Short Term - Single Trip',\n",
       "       'Travel Package with Cancellation Short Term Single Trip, Travel Package w/o Cancellation Short Term Single Trip, Standalone Cancellation - Single Trip, Travel Medical Short Term - Single Trip',\n",
       "       'Travel Package w/o Cancellation Long Term Single Trip',\n",
       "       'Standalone Cancellation - Multi-Trip', 'Tuition'], dtype=object)"
      ]
     },
     "execution_count": 15,
     "metadata": {},
     "output_type": "execute_result"
    },
    {
     "data": {
      "text/plain": [
       "array(['Not Available', 'Collision Damage Waiver (CDW)',\n",
       "       'Corporate Travel', 'Other',\n",
       "       'Standalone Cancellation - Single Trip',\n",
       "       'Travel Medical Short Term - Single Trip',\n",
       "       'Travel Package w/o Cancellation Short Term Single Trip',\n",
       "       'Travel Package with Cancellation Multi Trip (Annual Insurance)',\n",
       "       'Travel Package with Cancellation Short Term Single Trip',\n",
       "       'Event Ticket Cancellation',\n",
       "       'TPA/Claims Handling / Service Only Products',\n",
       "       'Travel Medical Multi Trip (Annual Insurance)',\n",
       "       'Travel Package w/o Cancellation Multi Trip (Annual Insurance)',\n",
       "       'Travel Medical Short Term - Single Trip, Travel Package with Cancellation Short Term Single Trip',\n",
       "       'Standalone Cancellation - Single Trip, Travel Package w/o Cancellation Short Term Single Trip, Travel Package with Cancellation Short Term Single Trip',\n",
       "       'Standalone Cancellation - Single Trip, Travel Package with Cancellation Short Term Single Trip',\n",
       "       'Travel Package with Cancellation Short Term Single Trip, Travel Package w/o Cancellation Short Term Single Trip',\n",
       "       'Standalone Cancellation - Single Trip, Travel Package w/o Cancellation Multi Trip (Annual Insurance), Travel Package w/o Cancellation Short Term Single Trip, Travel Package with Cancellation Short Term Single Trip',\n",
       "       'Travel Package w/o Cancellation Short Term Single Trip, Travel Package with Cancellation Short Term Single Trip',\n",
       "       'Collision Damage Waiver (CDW), Standalone Cancellation - Single Trip, Travel Package w/o Cancellation Multi Trip (Annual Insurance), Travel Package w/o Cancellation Short Term Single Trip, Travel Package with Cancellation Short Term Single Trip',\n",
       "       'Travel Package with Cancellation Short Term Single Trip, Travel Package w/o Cancellation Short Term Single Trip, Standalone Cancellation - Single Trip',\n",
       "       'Travel Package with Cancellation Short Term Single Trip, Travel Package with Cancellation Short Term Single Trip, Travel Package w/o Cancellation Short Term Single Trip, Standalone Cancellation - Single Trip',\n",
       "       'Travel Package with Cancellation Short Term Single Trip, Standalone Cancellation - Single Trip',\n",
       "       'Expatriates',\n",
       "       'Travel Package with Cancellation Short Term Single Trip, Travel Package w/o Cancellation Short Term Single Trip, Travel Medical Short Term - Single Trip',\n",
       "       'Travel Package w/o Cancellation Short Term Single Trip, Standalone Cancellation - Single Trip, Travel Medical Short Term - Single Trip',\n",
       "       'Travel Package w/o Cancellation Short Term Single Trip, Standalone Cancellation - Single Trip',\n",
       "       'Travel Package with Cancellation Short Term Single Trip, Travel Medical Short Term - Single Trip',\n",
       "       'Travel Package with Cancellation Short Term Single Trip, Travel Package w/o Cancellation Short Term Single Trip, Standalone Cancellation - Single Trip, Travel Medical Short Term - Single Trip',\n",
       "       'Travel Package w/o Cancellation Long Term Single Trip',\n",
       "       'Standalone Cancellation - Multi-Trip', 'Tuition'], dtype=object)"
      ]
     },
     "execution_count": 15,
     "metadata": {},
     "output_type": "execute_result"
    }
   ],
   "source": [
    "mults = trandata['sub_lob'][trandata.sub_lob.replace(nan, 'Not Available').str.contains(',', case=False)]\n",
    "mults = mults.unique()\n",
    "\n",
    "trandata['sub_lob'].unique()\n",
    "trandata['sub_lob'] = trandata['sub_lob'].fillna('Not Available')\n",
    "trandata['sub_lob'] = trandata['sub_lob'].replace('', 'Not Available')\n",
    "trandata['sub_lob'] = trandata['sub_lob'].replace('0', 'Not Available')\n",
    "trandata['sub_lob'] = trandata['sub_lob'].replace('0.0', 'Not Available')\n",
    "trandata['distribution_channel'] = trandata['distribution_channel'].replace('', 'Not Available').fillna('Not Available')\n",
    "\n",
    "trandata['sub_lob'].unique()\n"
   ]
  },
  {
   "cell_type": "markdown",
   "id": "7a718b9a",
   "metadata": {
    "papermill": {
     "duration": 0.352052,
     "end_time": "2021-06-02T22:16:03.103994",
     "exception": false,
     "start_time": "2021-06-02T22:16:02.751942",
     "status": "completed"
    },
    "tags": []
   },
   "source": [
    "#### Replace multiple entries in \"Sub Lob\" to \"Multiple\""
   ]
  },
  {
   "cell_type": "code",
   "execution_count": 16,
   "id": "965094a1",
   "metadata": {
    "execution": {
     "iopub.execute_input": "2021-06-02T22:16:03.823488Z",
     "iopub.status.busy": "2021-06-02T22:16:03.820489Z",
     "iopub.status.idle": "2021-06-02T22:16:03.852482Z",
     "shell.execute_reply": "2021-06-02T22:16:03.853480Z"
    },
    "papermill": {
     "duration": 0.393544,
     "end_time": "2021-06-02T22:16:03.853480",
     "exception": false,
     "start_time": "2021-06-02T22:16:03.459936",
     "status": "completed"
    },
    "pycharm": {
     "name": "#%%\n"
    },
    "tags": []
   },
   "outputs": [],
   "source": [
    "for i in mults:\n",
    "    trandata['sub_lob'] = trandata['sub_lob'].replace(i, 'Multiple')\n",
    "\n",
    "# todo automate figuring out which fields fx rates should be applied to somehow"
   ]
  },
  {
   "cell_type": "markdown",
   "id": "d0d04de9",
   "metadata": {
    "papermill": {
     "duration": 0.32101,
     "end_time": "2021-06-02T22:16:04.487488",
     "exception": false,
     "start_time": "2021-06-02T22:16:04.166478",
     "status": "completed"
    },
    "tags": []
   },
   "source": [
    "#### Update Verification 3"
   ]
  },
  {
   "cell_type": "code",
   "execution_count": 17,
   "id": "63579e30",
   "metadata": {
    "execution": {
     "iopub.execute_input": "2021-06-02T22:16:05.179477Z",
     "iopub.status.busy": "2021-06-02T22:16:05.178476Z",
     "iopub.status.idle": "2021-06-02T22:16:05.452057Z",
     "shell.execute_reply": "2021-06-02T22:16:05.451058Z"
    },
    "papermill": {
     "duration": 0.641565,
     "end_time": "2021-06-02T22:16:05.453057",
     "exception": false,
     "start_time": "2021-06-02T22:16:04.811492",
     "status": "completed"
    },
    "pycharm": {
     "name": "#%%\n"
    },
    "tags": []
   },
   "outputs": [],
   "source": [
    "if run_control > -10:\n",
    "\n",
    "    ibus = input.groupby(['Sub LOB']).sum()\n",
    "    ibus = ibus.reset_index()\n",
    "    tbus = trandata.groupby(['sub_lob']).sum()\n",
    "    tbus = tbus.reset_index()\n",
    "\n",
    "    compdatasublob = pd.merge(ibus, tbus, left_on='Sub LOB', right_on='sub_lob', how='outer')\n",
    "\n",
    "    disp1 = pd.DataFrame(\n",
    "        {'Original Sub LOB': compdatasublob['Sub LOB'], 'Transformed Sub LOB': compdatasublob['sub_lob'],\n",
    "         \"Original\": compdatasublob['Earned Revenues net of Taxes'] / 1000,\n",
    "         \"Transformed\": compdatasublob['earned_revenues_net_of_taxes'] / 1000})\n",
    "\n",
    "\n",
    "\n",
    "    tots1 = pd.DataFrame({'Original Total': (input['Earned Revenues net of Taxes']).sum() / 10000,\n",
    "                          \"Transformed Total\": (compdatasublob['earned_revenues_net_of_taxes']).sum() / 10000},\n",
    "                         index=[0])\n",
    "else:\n",
    "    print(\"Skipped Transformation Report 2\")"
   ]
  },
  {
   "cell_type": "markdown",
   "id": "8d6a9101",
   "metadata": {
    "papermill": {
     "duration": 0.332456,
     "end_time": "2021-06-02T22:16:06.115568",
     "exception": false,
     "start_time": "2021-06-02T22:16:05.783112",
     "status": "completed"
    },
    "tags": []
   },
   "source": [
    "#### Make cflds, a list of currency fields, force to float, coercion is null or string to 0"
   ]
  },
  {
   "cell_type": "code",
   "execution_count": 18,
   "id": "11cd3057",
   "metadata": {
    "execution": {
     "iopub.execute_input": "2021-06-02T22:16:06.778723Z",
     "iopub.status.busy": "2021-06-02T22:16:06.769726Z",
     "iopub.status.idle": "2021-06-02T22:16:06.978249Z",
     "shell.execute_reply": "2021-06-02T22:16:06.980250Z"
    },
    "papermill": {
     "duration": 0.544117,
     "end_time": "2021-06-02T22:16:06.980250",
     "exception": false,
     "start_time": "2021-06-02T22:16:06.436133",
     "status": "completed"
    },
    "pycharm": {
     "name": "#%%\n"
    },
    "tags": []
   },
   "outputs": [
    {
     "data": {
      "text/plain": [
       "0            0.00\n",
       "1            0.00\n",
       "2            0.00\n",
       "3        31328.10\n",
       "4          887.19\n",
       "           ...   \n",
       "13749     3749.00\n",
       "13750      142.00\n",
       "13751      474.00\n",
       "13752        0.00\n",
       "13753      265.00\n",
       "Name: written_revenues_net_of_taxes, Length: 13754, dtype: float64"
      ]
     },
     "execution_count": 18,
     "metadata": {},
     "output_type": "execute_result"
    },
    {
     "data": {
      "text/plain": [
       "0            0.00\n",
       "1            0.00\n",
       "2            0.00\n",
       "3        34776.00\n",
       "4          998.08\n",
       "           ...   \n",
       "13749     3749.00\n",
       "13750      142.00\n",
       "13751      474.00\n",
       "13752        0.00\n",
       "13753      265.00\n",
       "Name: written_revenues, Length: 13754, dtype: float64"
      ]
     },
     "execution_count": 18,
     "metadata": {},
     "output_type": "execute_result"
    },
    {
     "data": {
      "text/plain": [
       "0            0.00\n",
       "1            0.00\n",
       "2            0.00\n",
       "3        31328.10\n",
       "4          887.19\n",
       "           ...   \n",
       "13749        0.00\n",
       "13750        0.00\n",
       "13751        0.00\n",
       "13752       11.00\n",
       "13753        7.00\n",
       "Name: earned_revenues_net_of_taxes, Length: 13754, dtype: float64"
      ]
     },
     "execution_count": 18,
     "metadata": {},
     "output_type": "execute_result"
    },
    {
     "data": {
      "text/plain": [
       "0            0.00\n",
       "1            0.00\n",
       "2            0.00\n",
       "3        34776.00\n",
       "4          998.08\n",
       "           ...   \n",
       "13749        0.00\n",
       "13750        0.00\n",
       "13751        0.00\n",
       "13752       11.00\n",
       "13753        7.00\n",
       "Name: earned_revenues, Length: 13754, dtype: float64"
      ]
     },
     "execution_count": 18,
     "metadata": {},
     "output_type": "execute_result"
    },
    {
     "data": {
      "text/plain": [
       "0           0.00\n",
       "1           0.00\n",
       "2           0.00\n",
       "3        4391.77\n",
       "4         406.87\n",
       "          ...   \n",
       "13749       0.00\n",
       "13750       0.00\n",
       "13751       0.00\n",
       "13752       3.14\n",
       "13753       1.47\n",
       "Name: earned_base_commissions, Length: 13754, dtype: float64"
      ]
     },
     "execution_count": 18,
     "metadata": {},
     "output_type": "execute_result"
    },
    {
     "data": {
      "text/plain": [
       "0        0.00\n",
       "1        0.00\n",
       "2        0.00\n",
       "3        0.00\n",
       "4        0.00\n",
       "         ... \n",
       "13749    0.00\n",
       "13750    0.00\n",
       "13751    0.00\n",
       "13752    0.65\n",
       "13753    0.43\n",
       "Name: earned_over-commissions, Length: 13754, dtype: float64"
      ]
     },
     "execution_count": 18,
     "metadata": {},
     "output_type": "execute_result"
    },
    {
     "data": {
      "text/plain": [
       "0        0.0\n",
       "1        0.0\n",
       "2        0.0\n",
       "3        0.0\n",
       "4        0.0\n",
       "        ... \n",
       "13749    0.0\n",
       "13750    0.0\n",
       "13751    0.0\n",
       "13752    0.0\n",
       "13753    0.0\n",
       "Name: upfront_cash_payments, Length: 13754, dtype: float64"
      ]
     },
     "execution_count": 18,
     "metadata": {},
     "output_type": "execute_result"
    },
    {
     "data": {
      "text/plain": [
       "0           0.00\n",
       "1           0.00\n",
       "2           0.00\n",
       "3        4391.77\n",
       "4         406.87\n",
       "          ...   \n",
       "13749       0.00\n",
       "13750       0.00\n",
       "13751       0.00\n",
       "13752       3.79\n",
       "13753       1.90\n",
       "Name: total_compensation, Length: 13754, dtype: float64"
      ]
     },
     "execution_count": 18,
     "metadata": {},
     "output_type": "execute_result"
    },
    {
     "data": {
      "text/plain": [
       "0        3028.6\n",
       "1           0.0\n",
       "2           0.0\n",
       "3         798.0\n",
       "4         400.0\n",
       "          ...  \n",
       "13749       0.0\n",
       "13750       0.0\n",
       "13751       0.0\n",
       "13752       0.0\n",
       "13753       0.0\n",
       "Name: paid_claims, Length: 13754, dtype: float64"
      ]
     },
     "execution_count": 18,
     "metadata": {},
     "output_type": "execute_result"
    },
    {
     "data": {
      "text/plain": [
       "0       -52275.64\n",
       "1         -100.00\n",
       "2        -1100.00\n",
       "3         1142.94\n",
       "4        -1084.00\n",
       "           ...   \n",
       "13749        0.00\n",
       "13750        0.00\n",
       "13751        0.00\n",
       "13752        0.12\n",
       "13753        0.08\n",
       "Name: ocr_+_ibnr, Length: 13754, dtype: float64"
      ]
     },
     "execution_count": 18,
     "metadata": {},
     "output_type": "execute_result"
    },
    {
     "data": {
      "text/plain": [
       "0       -49247.04\n",
       "1         -100.00\n",
       "2        -1100.00\n",
       "3         1940.94\n",
       "4         -684.00\n",
       "           ...   \n",
       "13749        0.00\n",
       "13750        0.00\n",
       "13751        0.00\n",
       "13752        0.12\n",
       "13753        0.08\n",
       "Name: actual_incurred_losses_(paid_+_ocr_+_ibnr), Length: 13754, dtype: float64"
      ]
     },
     "execution_count": 18,
     "metadata": {},
     "output_type": "execute_result"
    },
    {
     "data": {
      "text/plain": [
       "0           0.000000\n",
       "1           0.000000\n",
       "2           0.000000\n",
       "3        2229.996814\n",
       "4          63.151959\n",
       "            ...     \n",
       "13749       0.000000\n",
       "13750       0.000000\n",
       "13751       0.000000\n",
       "13752       0.720000\n",
       "13753       0.480000\n",
       "Name: internal_variable_costs_(excl._az_tech_fee), Length: 13754, dtype: float64"
      ]
     },
     "execution_count": 18,
     "metadata": {},
     "output_type": "execute_result"
    },
    {
     "data": {
      "text/plain": [
       "0          0.000000\n",
       "1          0.000000\n",
       "2          0.000000\n",
       "3        789.468120\n",
       "4         22.357188\n",
       "            ...    \n",
       "13749      0.000000\n",
       "13750      0.000000\n",
       "13751      0.000000\n",
       "13752      0.000000\n",
       "13753      0.000000\n",
       "Name: az_tech_fee, Length: 13754, dtype: float64"
      ]
     },
     "execution_count": 18,
     "metadata": {},
     "output_type": "execute_result"
    },
    {
     "data": {
      "text/plain": [
       "0           0.000000\n",
       "1           0.000000\n",
       "2           0.000000\n",
       "3        4593.555166\n",
       "4         144.211193\n",
       "            ...     \n",
       "13749       0.000000\n",
       "13750       0.000000\n",
       "13751       0.000000\n",
       "13752       1.210000\n",
       "13753       0.800000\n",
       "Name: internal_fixed_costs_(excl._hq_fees), Length: 13754, dtype: float64"
      ]
     },
     "execution_count": 18,
     "metadata": {},
     "output_type": "execute_result"
    },
    {
     "data": {
      "text/plain": [
       "0           0.0000\n",
       "1           0.0000\n",
       "2           0.0000\n",
       "3        1346.8165\n",
       "4          24.0160\n",
       "           ...    \n",
       "13749       0.0000\n",
       "13750       0.0000\n",
       "13751       0.0000\n",
       "13752       0.2800\n",
       "13753       0.1800\n",
       "Name: hq_fees, Length: 13754, dtype: float64"
      ]
     },
     "execution_count": 18,
     "metadata": {},
     "output_type": "execute_result"
    },
    {
     "data": {
      "text/plain": [
       "0           0.00000\n",
       "1           0.00000\n",
       "2           0.00000\n",
       "3        8959.83660\n",
       "4         253.73634\n",
       "            ...    \n",
       "13749       0.00000\n",
       "13750       0.00000\n",
       "13751       0.00000\n",
       "13752       2.21000\n",
       "13753       1.46000\n",
       "Name: total_expenses, Length: 13754, dtype: float64"
      ]
     },
     "execution_count": 18,
     "metadata": {},
     "output_type": "execute_result"
    },
    {
     "data": {
      "text/plain": [
       "0        0.0\n",
       "1        0.0\n",
       "2        0.0\n",
       "3        0.0\n",
       "4        0.0\n",
       "        ... \n",
       "13749    0.0\n",
       "13750    0.0\n",
       "13751    0.0\n",
       "13752    0.0\n",
       "13753    0.0\n",
       "Name: risk_premium, Length: 13754, dtype: float64"
      ]
     },
     "execution_count": 18,
     "metadata": {},
     "output_type": "execute_result"
    },
    {
     "data": {
      "text/plain": [
       "0        49247.04000\n",
       "1          100.00000\n",
       "2         1100.00000\n",
       "3        16035.55340\n",
       "4          910.58366\n",
       "            ...     \n",
       "13749        0.00000\n",
       "13750        0.00000\n",
       "13751        0.00000\n",
       "13752        4.88000\n",
       "13753        3.56000\n",
       "Name: profit_or_loss, Length: 13754, dtype: float64"
      ]
     },
     "execution_count": 18,
     "metadata": {},
     "output_type": "execute_result"
    },
    {
     "data": {
      "text/plain": [
       "0        49247.040000\n",
       "1          100.000000\n",
       "2         1100.000000\n",
       "3        21975.925066\n",
       "4         1078.810853\n",
       "             ...     \n",
       "13749        0.000000\n",
       "13750        0.000000\n",
       "13751        0.000000\n",
       "13752        6.370000\n",
       "13753        4.540000\n",
       "Name: contribution_margin_-_hq_view, Length: 13754, dtype: float64"
      ]
     },
     "execution_count": 18,
     "metadata": {},
     "output_type": "execute_result"
    },
    {
     "data": {
      "text/plain": [
       "0        49247.040000\n",
       "1          100.000000\n",
       "2         1100.000000\n",
       "3        20629.108566\n",
       "4         1054.794853\n",
       "             ...     \n",
       "13749        0.000000\n",
       "13750        0.000000\n",
       "13751        0.000000\n",
       "13752        6.090000\n",
       "13753        4.360000\n",
       "Name: contribution_margin_-_bu_view, Length: 13754, dtype: float64"
      ]
     },
     "execution_count": 18,
     "metadata": {},
     "output_type": "execute_result"
    }
   ],
   "source": [
    "cflds = ['written_revenues_net_of_taxes', 'written_revenues', 'earned_revenues_net_of_taxes',\n",
    "         'earned_revenues', 'earned_base_commissions', 'earned_over-commissions', 'upfront_cash_payments',\n",
    "         'total_compensation', 'paid_claims', 'ocr_+_ibnr', 'actual_incurred_losses_(paid_+_ocr_+_ibnr)',\n",
    "         'internal_variable_costs_(excl._az_tech_fee)', 'az_tech_fee', 'internal_fixed_costs_(excl._hq_fees)',\n",
    "         'hq_fees', 'total_expenses', 'risk_premium', 'profit_or_loss', 'contribution_margin_-_hq_view',\n",
    "         'contribution_margin_-_bu_view', ]\n",
    "\n",
    "for i in cflds:\n",
    "    pd.to_numeric(trandata[i], errors='coerce')"
   ]
  },
  {
   "cell_type": "markdown",
   "id": "0a5cb5f3",
   "metadata": {
    "papermill": {
     "duration": 0.3705,
     "end_time": "2021-06-02T22:16:07.708851",
     "exception": false,
     "start_time": "2021-06-02T22:16:07.338351",
     "status": "completed"
    },
    "tags": []
   },
   "source": [
    "#### Turn selected columns values uppercase"
   ]
  },
  {
   "cell_type": "code",
   "execution_count": 19,
   "id": "53fa6bca",
   "metadata": {
    "execution": {
     "iopub.execute_input": "2021-06-02T22:16:08.468767Z",
     "iopub.status.busy": "2021-06-02T22:16:08.457762Z",
     "iopub.status.idle": "2021-06-02T22:16:08.587762Z",
     "shell.execute_reply": "2021-06-02T22:16:08.589764Z"
    },
    "papermill": {
     "duration": 0.47756,
     "end_time": "2021-06-02T22:16:08.589764",
     "exception": false,
     "start_time": "2021-06-02T22:16:08.112204",
     "status": "completed"
    },
    "pycharm": {
     "name": "#%%\n"
    },
    "tags": []
   },
   "outputs": [],
   "source": [
    "validcols = ['business_unit', 'currency', 'region', 'type_of_analysis', 'type_of_business', 'type_of_account', 'lob',\n",
    "             'distribution_type', 'distribution_channel', ]\n",
    "\n",
    "for c in validcols:\n",
    "    trandata[c] = trandata[c].astype(str)\n",
    "    trandata[c] = trandata[c].apply(lambda x: x.upper())"
   ]
  },
  {
   "cell_type": "markdown",
   "id": "d510b1be",
   "metadata": {
    "papermill": {
     "duration": 0.354055,
     "end_time": "2021-06-02T22:16:09.280694",
     "exception": false,
     "start_time": "2021-06-02T22:16:08.926639",
     "status": "completed"
    },
    "tags": []
   },
   "source": [
    "#### Read the values from the Global Attribute Catalog, one field per loop iterance and xlsx sheet."
   ]
  },
  {
   "cell_type": "code",
   "execution_count": 20,
   "id": "2f628fb3",
   "metadata": {
    "execution": {
     "iopub.execute_input": "2021-06-02T22:16:09.980796Z",
     "iopub.status.busy": "2021-06-02T22:16:09.979791Z",
     "iopub.status.idle": "2021-06-02T22:16:13.491393Z",
     "shell.execute_reply": "2021-06-02T22:16:13.491755Z"
    },
    "papermill": {
     "duration": 3.869229,
     "end_time": "2021-06-02T22:16:13.492755",
     "exception": false,
     "start_time": "2021-06-02T22:16:09.623526",
     "status": "completed"
    },
    "pycharm": {
     "name": "#%%\n"
    },
    "tags": []
   },
   "outputs": [],
   "source": [
    "checktabs = []\n",
    "\n",
    "\n",
    "\n",
    "for s in validcols:\n",
    "    t = pd.read_excel(atcat, sheet_name = s )\n",
    "    checktabs.append([[s], [t]])\n",
    "\n",
    "gacout = []\n"
   ]
  },
  {
   "cell_type": "markdown",
   "id": "9741aa76",
   "metadata": {
    "papermill": {
     "duration": 0.337901,
     "end_time": "2021-06-02T22:16:14.172177",
     "exception": false,
     "start_time": "2021-06-02T22:16:13.834276",
     "status": "completed"
    },
    "tags": []
   },
   "source": [
    "#### Compare the lists from the previous step and each field. Find those that do not match, make lists of unique values\n",
    "#### replace any that have replacements in GPPM inoout already, make a list of values without any matches.\n"
   ]
  },
  {
   "cell_type": "code",
   "execution_count": 21,
   "id": "f107df12",
   "metadata": {
    "execution": {
     "iopub.execute_input": "2021-06-02T22:16:14.888191Z",
     "iopub.status.busy": "2021-06-02T22:16:14.886186Z",
     "iopub.status.idle": "2021-06-02T22:16:15.218854Z",
     "shell.execute_reply": "2021-06-02T22:16:15.220855Z"
    },
    "papermill": {
     "duration": 0.725563,
     "end_time": "2021-06-02T22:16:15.221854",
     "exception": false,
     "start_time": "2021-06-02T22:16:14.496291",
     "status": "completed"
    },
    "pycharm": {
     "name": "#%%\n"
    },
    "tags": []
   },
   "outputs": [],
   "source": [
    "# todo rewrite this beginner code to use dicts and simplify\n",
    "\n",
    "for u in enumerate(validcols):\n",
    "    trandata.loc[0:len(trandata[u[1]]), u[1]] = trandata[u[1]].replace(\n",
    "        [checktabs[u[0]][1][0]['Upper_Vers']][0].to_numpy(), [checktabs[u[0]][1][0][u[1]]][0].to_numpy())\n",
    "    d = list(checktabs[u[0]][1][0]['Non Matches'].drop_duplicates().dropna().append(\n",
    "        pd.Series(trandata[u[1]][~trandata[u[1]].isin(checktabs[u[0]][1][0][u[1]])].drop_duplicates().dropna()),\n",
    "        ignore_index=True))\n",
    "    g = [checktabs[u[0]][1][0][str(u[1])], checktabs[u[0]][1][0]['Upper_Vers'], checktabs[u[0]][1][0]['Unnamed: 2'],\n",
    "         pd.Series(d, dtype='object').drop_duplicates().dropna(), checktabs[u[0]][1][0]['User Defined Corrections']]\n",
    "    gacout.append(list([g, u[1]]))"
   ]
  },
  {
   "cell_type": "markdown",
   "id": "d0bcfafb",
   "metadata": {
    "papermill": {
     "duration": 0.347821,
     "end_time": "2021-06-02T22:16:15.914896",
     "exception": false,
     "start_time": "2021-06-02T22:16:15.567075",
     "status": "completed"
    },
    "tags": []
   },
   "source": [
    "#### Rebuild the GPPM input file, with the replaced values in the bad values column of each sheet.\n",
    "#### Step one, make and xlsx with a notes page."
   ]
  },
  {
   "cell_type": "code",
   "execution_count": 22,
   "id": "7c18daeb",
   "metadata": {
    "execution": {
     "iopub.execute_input": "2021-06-02T22:16:16.610128Z",
     "iopub.status.busy": "2021-06-02T22:16:16.603124Z",
     "iopub.status.idle": "2021-06-02T22:16:17.104263Z",
     "shell.execute_reply": "2021-06-02T22:16:17.105258Z"
    },
    "papermill": {
     "duration": 0.845136,
     "end_time": "2021-06-02T22:16:17.106257",
     "exception": false,
     "start_time": "2021-06-02T22:16:16.261121",
     "status": "completed"
    },
    "pycharm": {
     "name": "#%%\n"
    },
    "tags": []
   },
   "outputs": [],
   "source": [
    "w = ExcelWriter(atcat)\n",
    "notes = pd.DataFrame([\n",
    "    \"This page is script generated during the source creation process. Do not edit these notes directly in the file as they will be overwritten\",\n",
    "    \"\", \"\"\n",
    "    , \" Purpose :     to manage attribute entries in the data collection process, this workbook documents and organizes all entries and also allows a user to swap those that do \\\n",
    "                        not conform to validation rules  with an entry of their choice\",\n",
    "    \" Each attribute field that requires validation has its own sheet tab\", \"\"\n",
    "    , \"Column A:    of each sheet tab contains all unique acceptable responses\",\n",
    "    \"Column B:    an upper case version, to wrangle case mismatches\",\n",
    "    \"Column D:   is generated by the process, this is a list of an uppercase version of each unique unacceptable response, this builds over time with each collection\",\n",
    "    \"Column E:   you can enter accpetable response here (sase sensitive) to be swapped out in the data, save and exit this file, run the process again and they will be replaced\"\n",
    "    , \"\", \"\", \"Gavin Harmon 9 - July -2020\"])\n",
    "\n",
    "notes.columns = ['Notes']\n",
    "\n",
    "notes.to_excel(w, index=False, sheet_name=\"Notes\")"
   ]
  },
  {
   "cell_type": "markdown",
   "id": "e58cb5f7",
   "metadata": {
    "papermill": {
     "duration": 0.35761,
     "end_time": "2021-06-02T22:16:17.795946",
     "exception": false,
     "start_time": "2021-06-02T22:16:17.438336",
     "status": "completed"
    },
    "tags": []
   },
   "source": [
    "#### Step two, build the new sheets for each validcols field"
   ]
  },
  {
   "cell_type": "code",
   "execution_count": 23,
   "id": "7b239a2b",
   "metadata": {
    "execution": {
     "iopub.execute_input": "2021-06-02T22:16:18.596666Z",
     "iopub.status.busy": "2021-06-02T22:16:18.584660Z",
     "iopub.status.idle": "2021-06-02T22:16:19.245963Z",
     "shell.execute_reply": "2021-06-02T22:16:19.246967Z"
    },
    "papermill": {
     "duration": 1.063375,
     "end_time": "2021-06-02T22:16:19.247969",
     "exception": false,
     "start_time": "2021-06-02T22:16:18.184594",
     "status": "completed"
    },
    "pycharm": {
     "name": "#%%\n"
    },
    "tags": []
   },
   "outputs": [],
   "source": [
    "for v in enumerate(validcols):\n",
    "    df = pd.DataFrame(gacout[v[0]][0], index=[f\"{v[1]}\", 'Upper_Vers', '', 'Non Matches', 'User Defined Corrections']).T\n",
    "    df.to_excel(w, index=False, sheet_name=gacout[v[0]][1])\n",
    "w.save()"
   ]
  },
  {
   "cell_type": "markdown",
   "id": "d8b9c543",
   "metadata": {
    "papermill": {
     "duration": 0.368305,
     "end_time": "2021-06-02T22:16:19.954327",
     "exception": false,
     "start_time": "2021-06-02T22:16:19.586022",
     "status": "completed"
    },
    "tags": []
   },
   "source": [
    "#### Step three, read these lists back in, make the necessary replacements in the DataFrame"
   ]
  },
  {
   "cell_type": "code",
   "execution_count": 24,
   "id": "59ec58fb",
   "metadata": {
    "execution": {
     "iopub.execute_input": "2021-06-02T22:16:20.664366Z",
     "iopub.status.busy": "2021-06-02T22:16:20.663377Z",
     "iopub.status.idle": "2021-06-02T22:16:23.710363Z",
     "shell.execute_reply": "2021-06-02T22:16:23.711748Z"
    },
    "papermill": {
     "duration": 3.420388,
     "end_time": "2021-06-02T22:16:23.711748",
     "exception": false,
     "start_time": "2021-06-02T22:16:20.291360",
     "status": "completed"
    },
    "pycharm": {
     "name": "#%%\n"
    },
    "tags": []
   },
   "outputs": [],
   "source": [
    "for s in validcols:\n",
    "    t = pd.read_excel(f'//hecate/Insurance_US/Product Development/Product Management/Global PPM/Reporting/Data Collection/Production/{str(percode)}\\\\{str(percode)}_Attribute_Catalog.xlsx', sheet_name = s )\n",
    "    checktabs.append([[s],[t]])"
   ]
  },
  {
   "cell_type": "code",
   "execution_count": 25,
   "id": "fbb50dfb",
   "metadata": {
    "execution": {
     "iopub.execute_input": "2021-06-02T22:16:24.578784Z",
     "iopub.status.busy": "2021-06-02T22:16:24.557782Z",
     "iopub.status.idle": "2021-06-02T22:16:24.745790Z",
     "shell.execute_reply": "2021-06-02T22:16:24.746786Z"
    },
    "papermill": {
     "duration": 0.631998,
     "end_time": "2021-06-02T22:16:24.747780",
     "exception": false,
     "start_time": "2021-06-02T22:16:24.115782",
     "status": "completed"
    },
    "pycharm": {
     "name": "#%%\n"
    },
    "tags": []
   },
   "outputs": [],
   "source": [
    "gacout = []\n",
    "\n",
    "for u in enumerate(validcols):\n",
    "    trandata.loc[0:len(trandata[u[1]]), u[1]] = trandata[u[1]].replace(\n",
    "        [checktabs[u[0]][1][0]['Non Matches']][0].to_numpy(),\n",
    "        [checktabs[u[0]][1][0]['User Defined Corrections']][0].to_numpy())\n",
    "repper = trandata[['business_unit', 'reporting_date_to']]\n",
    "repper = pd.DataFrame({\"business_unit\": (repper['business_unit']), \"YearMo\": (repper['reporting_date_to'])})\n",
    "minrep = repper.groupby(['business_unit']).max()\n",
    "a = trandata['business_unit'].replace(list(minrep.axes[0]), minrep.get(\"YearMo\"))\n",
    "trandata['rep_date'] = a\n",
    "trandata.loc[0:len(trandata['business_partner_id_number']), 'business_partner_id_number'] = trandata[\n",
    "    'business_partner_id_number'].replace('0', 'Not Provided').fillna('Not Provided')\n",
    "trandata.loc[0:len(trandata['product_id_number']), 'product_id_number'] = trandata['product_id_number'].replace('0',\n",
    "                                                                                                                'Not Provided').replace(\n",
    "    '-', 'Not Provided').fillna('Not Provided')\n",
    "trandata.loc[0:len(trandata['sub_lob']), 'sub_lob'] = trandata['sub_lob'].replace('0', 'Not Provided').replace('-',\n",
    "                                                                                                               'Not Provided').replace(\n",
    "    'Other', 'Not Provided').fillna('Not Provided')"
   ]
  },
  {
   "cell_type": "markdown",
   "id": "48fb0bef",
   "metadata": {
    "papermill": {
     "duration": 0.422078,
     "end_time": "2021-06-02T22:16:25.544472",
     "exception": false,
     "start_time": "2021-06-02T22:16:25.122394",
     "status": "completed"
    },
    "tags": []
   },
   "source": [
    "#### Evaluate the current state, alert the user if input is needed.\n",
    "- At the end of this process, alert the user with instructions if they need to adjust bad entries for validated fields.\n",
    "\n"
   ]
  },
  {
   "cell_type": "code",
   "execution_count": 26,
   "id": "0ce4fd90",
   "metadata": {
    "execution": {
     "iopub.execute_input": "2021-06-02T22:16:26.429165Z",
     "iopub.status.busy": "2021-06-02T22:16:26.409174Z",
     "iopub.status.idle": "2021-06-02T22:16:34.544598Z",
     "shell.execute_reply": "2021-06-02T22:16:34.545599Z"
    },
    "papermill": {
     "duration": 8.608199,
     "end_time": "2021-06-02T22:16:34.546600",
     "exception": false,
     "start_time": "2021-06-02T22:16:25.938401",
     "status": "completed"
    },
    "tags": []
   },
   "outputs": [],
   "source": [
    "#see above note about converting to dictionaries\n",
    "\n",
    "#Make lists of all the attribute catalog entries that do not have a correction as a list of errors.\n",
    "err_messages = []\n",
    "\n",
    "for idx, i in enumerate(checktabs):\n",
    "    subset_no_nans =  i[1][0][['Non Matches', 'User Defined Corrections']][~i[1][0]['Non Matches'].isna()]\n",
    "    entries = subset_no_nans['Non Matches'][subset_no_nans['User Defined Corrections'].isna()]. tolist()\n",
    "    if len(entries) > 0: \n",
    "        err_messages.append(f'Please deal with bad entries {entries} on tab {i[0][0]} of the Attribute Catalog.')\n",
    "\n",
    "#raise an error to stop the process and give instructions\n",
    "\n",
    "# define Python user-defined exceptions\n",
    "\n",
    "\n",
    "# define Python user-defined exceptions\n",
    "class Error(Exception):\n",
    "    \"\"\"Base class for other exceptions\"\"\"\n",
    "    pass\n",
    "\n",
    "class BadEntriesError(Error):\n",
    "    \"\"\"Raised when the input value is too large\"\"\"\n",
    "    for i in err_messages : print(i)\n",
    "    \n",
    "    os.startfile(atcat)\n",
    "\n",
    "if len(err_messages) > 0:\n",
    "    raise BadEntriesError\n",
    "else:\n",
    "    pass\n",
    "        "
   ]
  },
  {
   "cell_type": "markdown",
   "id": "16515032",
   "metadata": {
    "papermill": {
     "duration": 0.392141,
     "end_time": "2021-06-02T22:16:35.554862",
     "exception": false,
     "start_time": "2021-06-02T22:16:35.162721",
     "status": "completed"
    },
    "tags": []
   },
   "source": [
    "#### Remove empty rows, if there is no claims experience and no revenue for a 12 month period, it should not be included"
   ]
  },
  {
   "cell_type": "code",
   "execution_count": 27,
   "id": "8cf4fd6c",
   "metadata": {
    "execution": {
     "iopub.execute_input": "2021-06-02T22:16:36.360912Z",
     "iopub.status.busy": "2021-06-02T22:16:36.359909Z",
     "iopub.status.idle": "2021-06-02T22:16:36.448910Z",
     "shell.execute_reply": "2021-06-02T22:16:36.450917Z"
    },
    "papermill": {
     "duration": 0.488038,
     "end_time": "2021-06-02T22:16:36.450917",
     "exception": false,
     "start_time": "2021-06-02T22:16:35.962879",
     "status": "completed"
    },
    "pycharm": {
     "name": "#%%\n"
    },
    "tags": []
   },
   "outputs": [],
   "source": [
    "trandata = trandata.loc[(trandata['units_of_risk_(written)'].fillna(0).replace('', 0)\n",
    "                         + trandata['written_revenues_net_of_taxes'].fillna(0).replace('', 0)\n",
    "                         + trandata['written_revenues'].fillna(0).replace('', 0)\n",
    "                         + trandata['number_of_policies_(earned)'].fillna(0).replace('', 0)\n",
    "                         + trandata['units_of_risk_(earned)'].fillna(0).replace('', 0)\n",
    "                         + trandata['earned_revenues_net_of_taxes'].fillna(0).replace('', 0)\n",
    "                         + trandata['earned_revenues'].fillna(0).replace('', 0)\n",
    "                         + trandata['earned_base_commissions'].fillna(0).replace('', 0)\n",
    "                         + trandata['upfront_cash_payments'].fillna(0).replace('', 0)\n",
    "                         + trandata['earned_over-commissions'].fillna(0).replace('', 0)\n",
    "                         + trandata['total_compensation'].fillna(0).replace('', 0)\n",
    "                         + trandata['number_of_claims_(paid_+_ocr_+_ibnr)'].fillna(0).replace('', 0)\n",
    "                         + trandata['number_of_open_claims'].fillna(0).replace('', 0)\n",
    "                         + trandata['open_claims_%'].fillna(0).replace('', 0)\n",
    "                         + trandata['number_of_persons_involved_in_claims_(paid_+_ocr_+_ibnr)'].fillna(0).replace('', 0)\n",
    "                         + trandata['paid_claims'].fillna(0).replace('', 0)\n",
    "                         + trandata['ocr_+_ibnr'].fillna(0).replace('', 0)\n",
    "                         + trandata['actual_incurred_losses_(paid_+_ocr_+_ibnr)'].fillna(0).replace('', 0)\n",
    "                         + trandata['internal_variable_costs_(excl._az_tech_fee)'].fillna(0).replace('', 0)\n",
    "                         + trandata['az_tech_fee'].fillna(0).replace('', 0)\n",
    "                         + trandata['internal_fixed_costs_(excl._hq_fees)'].fillna(0).replace('', 0)\n",
    "                         + trandata['hq_fees'].fillna(0).replace('', 0)\n",
    "                         + trandata['total_expenses'].fillna(0).replace('', 0)\n",
    "                         + trandata['frequency_(earned)'].fillna(0).replace('', 0)\n",
    "                         + trandata['severity'].fillna(0).replace('', 0))\n",
    "                        != 0]"
   ]
  },
  {
   "cell_type": "markdown",
   "id": "38aed15f",
   "metadata": {
    "papermill": {
     "duration": 0.579187,
     "end_time": "2021-06-02T22:16:37.634788",
     "exception": false,
     "start_time": "2021-06-02T22:16:37.055601",
     "status": "completed"
    },
    "pycharm": {
     "name": "#%% md\n"
    },
    "tags": []
   },
   "source": [
    "#### Output temp file"
   ]
  },
  {
   "cell_type": "code",
   "execution_count": 28,
   "id": "ea85dbd1",
   "metadata": {
    "execution": {
     "iopub.execute_input": "2021-06-02T22:16:39.254107Z",
     "iopub.status.busy": "2021-06-02T22:16:39.252111Z",
     "iopub.status.idle": "2021-06-02T22:17:29.237614Z",
     "shell.execute_reply": "2021-06-02T22:17:29.238613Z"
    },
    "papermill": {
     "duration": 50.792733,
     "end_time": "2021-06-02T22:17:29.238613",
     "exception": false,
     "start_time": "2021-06-02T22:16:38.445880",
     "status": "completed"
    },
    "pycharm": {
     "name": "#%%\n"
    },
    "tags": []
   },
   "outputs": [],
   "source": [
    "# trandata.to_parquet(\n",
    "#     f'//hecate/Insurance_US/Product Development/Product Management/Global PPM/Reporting/Data Collection/Production/{str(percode)}\\\\{str(percode)}.localcur.parquet', engine = \"pyarrow\")\n",
    "\n",
    "trandata.to_csv(\n",
    "    \n",
    "     f'//hecate/Insurance_US/Product Development/Product Management/Global PPM/Reporting/Data Collection/Production/{str(percode)}\\\\{str(percode)}.localcur.csv', index = False)\n"
   ]
  },
  {
   "cell_type": "markdown",
   "id": "384cb526",
   "metadata": {
    "papermill": {
     "duration": 0.382414,
     "end_time": "2021-06-02T22:17:30.027762",
     "exception": false,
     "start_time": "2021-06-02T22:17:29.645348",
     "status": "completed"
    },
    "tags": []
   },
   "source": [
    "#### Store the DataFrame for other noteboks to use"
   ]
  },
  {
   "cell_type": "code",
   "execution_count": 29,
   "id": "1ceb9004",
   "metadata": {
    "execution": {
     "iopub.execute_input": "2021-06-02T22:17:30.761247Z",
     "iopub.status.busy": "2021-06-02T22:17:30.758250Z",
     "iopub.status.idle": "2021-06-02T22:17:30.888827Z",
     "shell.execute_reply": "2021-06-02T22:17:30.889821Z"
    },
    "papermill": {
     "duration": 0.518179,
     "end_time": "2021-06-02T22:17:30.890820",
     "exception": false,
     "start_time": "2021-06-02T22:17:30.372641",
     "status": "completed"
    },
    "tags": []
   },
   "outputs": [
    {
     "name": "stdout",
     "output_type": "stream",
     "text": [
      "Stored 'py_t_df' (DataFrame)\n"
     ]
    }
   ],
   "source": [
    "py_t_df = trandata\n",
    "\n",
    "%store py_t_df\n"
   ]
  }
 ],
 "metadata": {
  "celltoolbar": "Tags",
  "kernelspec": {
   "display_name": "Python 3",
   "language": "python",
   "name": "python3"
  },
  "language_info": {
   "codemirror_mode": {
    "name": "ipython",
    "version": 3
   },
   "file_extension": ".py",
   "mimetype": "text/x-python",
   "name": "python",
   "nbconvert_exporter": "python",
   "pygments_lexer": "ipython3",
   "version": "3.7.6"
  },
  "papermill": {
   "default_parameters": {},
   "duration": 127.173262,
   "end_time": "2021-06-02T22:17:31.812277",
   "environment_variables": {},
   "exception": null,
   "input_path": "pipeline/py_transform.ipynb",
   "output_path": "//hecate/Insurance_US/Product Development/Product Management/Global PPM/Reporting/Data Collection/Pipeline Reporting Scripts/GPMpipeline/instances/2021.Q1\\pipeline\\py_transform06022021181054--live, add US.ipynb",
   "parameters": {
    "commit_message": "Live run, added US, some troubleshooting.",
    "inst_datetime": "06022021181054",
    "percode": "2021.Q1",
    "run_control": 1
   },
   "start_time": "2021-06-02T22:15:24.639015",
   "version": "2.3.3"
  }
 },
 "nbformat": 4,
 "nbformat_minor": 5
}