{
 "cells": [
  {
   "cell_type": "markdown",
   "id": "406aa3a5",
   "metadata": {
    "papermill": {
     "duration": 0.328163,
     "end_time": "2021-05-26T13:32:43.835002",
     "exception": false,
     "start_time": "2021-05-26T13:32:43.506839",
     "status": "completed"
    },
    "pycharm": {
     "name": "#%% md\n"
    },
    "tags": []
   },
   "source": [
    "<img src=\"../images/AzPTravel_PPM.png\">"
   ]
  },
  {
   "cell_type": "markdown",
   "id": "17f86317",
   "metadata": {
    "collapsed": true,
    "papermill": {
     "duration": 0.389667,
     "end_time": "2021-05-26T13:32:44.627210",
     "exception": false,
     "start_time": "2021-05-26T13:32:44.237543",
     "status": "completed"
    },
    "pycharm": {
     "name": "#%% md\n"
    },
    "tags": []
   },
   "source": [
    "## GPM Data Transformation Script\n",
    "\n",
    "#### This script transforms the single consolidated raw file \"{Data Collection}.csv\" into it's final GPM input versions \"{Data Collection Code}localcur.csv\" and \"{Data Collection Code}euroconv.csv\"\n",
    "#### Current transformations\n",
    "\n",
    "-    make headers lowercase and replace spaces with hyphens\n",
    "-    Remove any rows with null BUs\n",
    "-    validate columns in validcols\n",
    "-    output documented here: \"Global_Attribute_Catalog.xlsx\" you can also edit dataframe entries using the instructions in the file\n",
    "-    replace various null or placeholder values with \"Not Provided\"\n"
   ]
  },
  {
   "cell_type": "markdown",
   "id": "b552a7c2",
   "metadata": {
    "papermill": {
     "duration": 0.341624,
     "end_time": "2021-05-26T13:32:45.367342",
     "exception": false,
     "start_time": "2021-05-26T13:32:45.025718",
     "status": "completed"
    },
    "tags": []
   },
   "source": [
    "###"
   ]
  },
  {
   "cell_type": "code",
   "execution_count": 1,
   "id": "438527a5",
   "metadata": {
    "execution": {
     "iopub.execute_input": "2021-05-26T13:32:46.007665Z",
     "iopub.status.busy": "2021-05-26T13:32:46.004670Z",
     "iopub.status.idle": "2021-05-26T13:32:46.011674Z",
     "shell.execute_reply": "2021-05-26T13:32:46.031670Z"
    },
    "papermill": {
     "duration": 0.368729,
     "end_time": "2021-05-26T13:32:46.033670",
     "exception": false,
     "start_time": "2021-05-26T13:32:45.664941",
     "status": "completed"
    },
    "pycharm": {
     "name": "#%%\n"
    },
    "tags": [
     "parameters"
    ]
   },
   "outputs": [],
   "source": [
    "commit = \"\"\n",
    "# give a reason for the run\n",
    "\n",
    "percode = \"20XX.QX\"\n",
    "# Data Collection Code, this controls file paths and output names\n",
    "\n",
    "run_type = 1\n",
    "#run_type =  0 - lite run with no reporting, not recommended.\n",
    "#run_type =  1 - lite run with normal reporting, default setting.\n",
    "#run_type =  2 - Heavy run with full reporting, available for audits and troubleshooting.\n",
    "\n",
    "specialchars = \"-GTHtest\"\n",
    "# optional - add up to a 12 character code in order to mark your instance record .ipynb\n",
    "\n",
    "from datetime import datetime\n",
    "inst_datetime = datetime.now().strftime(\"%m%d%Y%H%M%S\")\n",
    "# a single datetime stamp for the full instance run\n"
   ]
  },
  {
   "cell_type": "code",
   "execution_count": 2,
   "id": "c4e1b80a",
   "metadata": {
    "execution": {
     "iopub.execute_input": "2021-05-26T13:32:46.692770Z",
     "iopub.status.busy": "2021-05-26T13:32:46.691771Z",
     "iopub.status.idle": "2021-05-26T13:32:46.699774Z",
     "shell.execute_reply": "2021-05-26T13:32:46.697770Z"
    },
    "papermill": {
     "duration": 0.314586,
     "end_time": "2021-05-26T13:32:46.699774",
     "exception": false,
     "start_time": "2021-05-26T13:32:46.385188",
     "status": "completed"
    },
    "tags": [
     "injected-parameters"
    ]
   },
   "outputs": [],
   "source": [
    "# Parameters\n",
    "run_control = 1\n",
    "percode = \"2021.Q1\"\n",
    "commit_message = \"Strange etnry found in the 'type of account'.\"\n",
    "inst_datetime = \"05262021092926\"\n"
   ]
  },
  {
   "cell_type": "markdown",
   "id": "5cc4a180",
   "metadata": {
    "papermill": {
     "duration": 0.293497,
     "end_time": "2021-05-26T13:32:47.283266",
     "exception": false,
     "start_time": "2021-05-26T13:32:46.989769",
     "status": "completed"
    },
    "tags": []
   },
   "source": [
    "### Set Run Control\n",
    "\n",
    "##### 0 - lite run with no reporting, not recommended.\n",
    "##### 1 - lite run with normal reporting, default setting.\n",
    "##### 2 - Heavy run with full reporting, available for audits and troubleshooting."
   ]
  },
  {
   "cell_type": "code",
   "execution_count": 3,
   "id": "1b647c07",
   "metadata": {
    "execution": {
     "iopub.execute_input": "2021-05-26T13:32:47.895165Z",
     "iopub.status.busy": "2021-05-26T13:32:47.889170Z",
     "iopub.status.idle": "2021-05-26T13:32:47.901167Z",
     "shell.execute_reply": "2021-05-26T13:32:47.902172Z"
    },
    "papermill": {
     "duration": 0.327821,
     "end_time": "2021-05-26T13:32:47.902172",
     "exception": false,
     "start_time": "2021-05-26T13:32:47.574351",
     "status": "completed"
    },
    "pycharm": {
     "name": "#%%\n"
    },
    "tags": []
   },
   "outputs": [],
   "source": [
    "run_control = 0  # in development mode"
   ]
  },
  {
   "cell_type": "code",
   "execution_count": 4,
   "id": "59c5cd88",
   "metadata": {
    "execution": {
     "iopub.execute_input": "2021-05-26T13:32:48.543266Z",
     "iopub.status.busy": "2021-05-26T13:32:48.541785Z",
     "iopub.status.idle": "2021-05-26T13:32:51.406242Z",
     "shell.execute_reply": "2021-05-26T13:32:51.407239Z"
    },
    "papermill": {
     "duration": 3.162279,
     "end_time": "2021-05-26T13:32:51.408234",
     "exception": false,
     "start_time": "2021-05-26T13:32:48.245955",
     "status": "completed"
    },
    "pycharm": {
     "name": "#%%\n"
    },
    "tags": []
   },
   "outputs": [],
   "source": [
    "#### Packages used\n",
    "import sys\n",
    "import os\n",
    "import pandas as pd\n",
    "from pandas import ExcelWriter\n",
    "from numpy import nan"
   ]
  },
  {
   "cell_type": "code",
   "execution_count": 5,
   "id": "f63432f5",
   "metadata": {
    "execution": {
     "iopub.execute_input": "2021-05-26T13:32:52.058682Z",
     "iopub.status.busy": "2021-05-26T13:32:52.052544Z",
     "iopub.status.idle": "2021-05-26T13:32:52.065543Z",
     "shell.execute_reply": "2021-05-26T13:32:52.066542Z"
    },
    "papermill": {
     "duration": 0.333787,
     "end_time": "2021-05-26T13:32:52.067543",
     "exception": false,
     "start_time": "2021-05-26T13:32:51.733756",
     "status": "completed"
    },
    "pycharm": {
     "name": "#%%\n"
    },
    "tags": []
   },
   "outputs": [],
   "source": [
    "default_dc = \"2021.Q1\"\n",
    "\n",
    "try:\n",
    "    if sys.argv[1] == \"-f\":\n",
    "        percode = default_dc\n",
    "    else:\n",
    "        percode = sys.argv[1]\n",
    "\n",
    "except IndexError:\n",
    "    percode = default_dc\n",
    "except NameError:\n",
    "    percode = default_dc"
   ]
  },
  {
   "cell_type": "markdown",
   "id": "d45ec56b",
   "metadata": {
    "papermill": {
     "duration": 0.356006,
     "end_time": "2021-05-26T13:32:52.738124",
     "exception": false,
     "start_time": "2021-05-26T13:32:52.382118",
     "status": "completed"
    },
    "tags": []
   },
   "source": [
    "#### style settings"
   ]
  },
  {
   "cell_type": "code",
   "execution_count": 6,
   "id": "ca5078bf",
   "metadata": {
    "execution": {
     "iopub.execute_input": "2021-05-26T13:32:53.371570Z",
     "iopub.status.busy": "2021-05-26T13:32:53.368564Z",
     "iopub.status.idle": "2021-05-26T13:32:53.377563Z",
     "shell.execute_reply": "2021-05-26T13:32:53.378567Z"
    },
    "papermill": {
     "duration": 0.291868,
     "end_time": "2021-05-26T13:32:53.378567",
     "exception": false,
     "start_time": "2021-05-26T13:32:53.086699",
     "status": "completed"
    },
    "tags": []
   },
   "outputs": [],
   "source": [
    "from IPython.core.interactiveshell import InteractiveShell\n",
    "InteractiveShell.ast_node_interactivity = \"all\""
   ]
  },
  {
   "cell_type": "markdown",
   "id": "a66b88bc",
   "metadata": {
    "papermill": {
     "duration": 0.732779,
     "end_time": "2021-05-26T13:32:54.453863",
     "exception": false,
     "start_time": "2021-05-26T13:32:53.721084",
     "status": "completed"
    },
    "tags": []
   },
   "source": [
    "#### Convert paths and files to variables.\n",
    "#### Read data into pd DataFrames.\n",
    "#### Make paths for the live sources."
   ]
  },
  {
   "cell_type": "code",
   "execution_count": 7,
   "id": "3b9129df",
   "metadata": {
    "execution": {
     "iopub.execute_input": "2021-05-26T13:32:55.542096Z",
     "iopub.status.busy": "2021-05-26T13:32:55.535082Z",
     "iopub.status.idle": "2021-05-26T13:32:55.550083Z",
     "shell.execute_reply": "2021-05-26T13:32:55.551084Z"
    },
    "papermill": {
     "duration": 0.491743,
     "end_time": "2021-05-26T13:32:55.551084",
     "exception": false,
     "start_time": "2021-05-26T13:32:55.059341",
     "status": "completed"
    },
    "pycharm": {
     "name": "#%%\n"
    },
    "tags": []
   },
   "outputs": [],
   "source": [
    "rt_path = os.path.join( f'\\\\\\\\hecate\\\\Insurance_US\\\\Product Development\\\\Product Management\\\\Global PPM\\\\Reporting\\\\Data Collection\\\\Production',percode)\n",
    "\n",
    "infile = os.path.join(rt_path, f'{str(percode)}.parquet')\n",
    "gppm_file = os.path.join(rt_path, f'GPPM_Input_{str(percode)}.xlsx')\n",
    "atcat = os.path.join(rt_path, f'{percode}_Attribute_Catalog.xlsx')\n"
   ]
  },
  {
   "cell_type": "code",
   "execution_count": 8,
   "id": "a3fd0a32",
   "metadata": {
    "execution": {
     "iopub.execute_input": "2021-05-26T13:32:56.344244Z",
     "iopub.status.busy": "2021-05-26T13:32:56.343241Z",
     "iopub.status.idle": "2021-05-26T13:32:56.350245Z",
     "shell.execute_reply": "2021-05-26T13:32:56.352250Z"
    },
    "papermill": {
     "duration": 0.377485,
     "end_time": "2021-05-26T13:32:56.352250",
     "exception": false,
     "start_time": "2021-05-26T13:32:55.974765",
     "status": "completed"
    },
    "tags": []
   },
   "outputs": [],
   "source": [
    "#### Read input file\n",
    "\n",
    "#### This reads the consolidated file that will be transformed or a stored dataframe based on the execution method."
   ]
  },
  {
   "cell_type": "code",
   "execution_count": 9,
   "id": "57b00875",
   "metadata": {
    "execution": {
     "iopub.execute_input": "2021-05-26T13:32:57.887882Z",
     "iopub.status.busy": "2021-05-26T13:32:57.879883Z",
     "iopub.status.idle": "2021-05-26T13:32:57.960963Z",
     "shell.execute_reply": "2021-05-26T13:32:57.961965Z"
    },
    "papermill": {
     "duration": 0.706283,
     "end_time": "2021-05-26T13:32:57.961965",
     "exception": false,
     "start_time": "2021-05-26T13:32:57.255682",
     "status": "completed"
    },
    "pycharm": {
     "name": "#%%\n"
    },
    "tags": []
   },
   "outputs": [
    {
     "name": "stdout",
     "output_type": "stream",
     "text": [
      "                       Submission File Business Unit Country Currency  \\\n",
      "0     us_dat_au_02172021174434.parquet            AU      AU      AUD   \n",
      "1     us_dat_au_02172021174434.parquet            AU      AU      AUD   \n",
      "2     us_dat_au_02172021174434.parquet            AU      AU      AUD   \n",
      "3     us_dat_au_02172021174434.parquet            AU      AU      AUD   \n",
      "4     us_dat_au_02172021174434.parquet            AU      AU      AUD   \n",
      "...                                ...           ...     ...      ...   \n",
      "3500  us_dat_pt_05202021121056.parquet            PT      PT      EUR   \n",
      "3501  us_dat_pt_05202021121056.parquet            PT      PT      EUR   \n",
      "3502  us_dat_pt_05202021121056.parquet            PT      PT      EUR   \n",
      "3503  us_dat_pt_05202021121056.parquet            PT      PT      EUR   \n",
      "3504  us_dat_pt_05202021121056.parquet            PT      PT      EUR   \n",
      "\n",
      "                           Region Reporting Date From Reporting Date To  \\\n",
      "0                            APAC          2020-01-01        2020-12-31   \n",
      "1                            APAC          2020-01-01        2020-12-31   \n",
      "2                            APAC          2020-01-01        2020-12-31   \n",
      "3                            APAC          2020-01-01        2020-12-31   \n",
      "4                            APAC          2020-01-01        2020-12-31   \n",
      "...                           ...                 ...               ...   \n",
      "3500  Western Europe, LATAM & MEA          2021-01-01        2021-03-31   \n",
      "3501  Western Europe, LATAM & MEA          2021-01-01        2021-03-31   \n",
      "3502  Western Europe, LATAM & MEA          2021-01-01        2021-03-31   \n",
      "3503  Western Europe, LATAM & MEA          2021-01-01        2021-03-31   \n",
      "3504  Western Europe, LATAM & MEA          2021-01-01        2021-03-31   \n",
      "\n",
      "     Date of Analysis         Type of Analysis  Analysed Months  ...  concat2  \\\n",
      "0          2021-02-08  Most Recently 12 Months             12.0  ...    AUAUD   \n",
      "1          2021-02-08  Most Recently 12 Months             12.0  ...    AUAUD   \n",
      "2          2021-02-08  Most Recently 12 Months             12.0  ...    AUAUD   \n",
      "3          2021-02-08  Most Recently 12 Months             12.0  ...    AUAUD   \n",
      "4          2021-02-08  Most Recently 12 Months             12.0  ...    AUAUD   \n",
      "...               ...                      ...              ...  ...      ...   \n",
      "3500       2021-03-31             Year To Date              3.0  ...    PTEUR   \n",
      "3501       2021-03-31             Year To Date              3.0  ...    PTEUR   \n",
      "3502       2021-03-31             Year To Date              3.0  ...    PTEUR   \n",
      "3503       2021-03-31             Year To Date              3.0  ...    PTEUR   \n",
      "3504       2021-03-31             Year To Date              3.0  ...    PTEUR   \n",
      "\n",
      "        comsub     expsub Reporting Date From INT Reporting Date To INT  \\\n",
      "0     0.074481   0.591379                20200101              20201231   \n",
      "1     0.361526   0.622344                20200101              20201231   \n",
      "2     0.143009   0.495955                20200101              20201231   \n",
      "3     0.196379   0.351713                20200101              20201231   \n",
      "4     0.403473   0.493019                20200101              20201231   \n",
      "...        ...        ...                     ...                   ...   \n",
      "3500  0.000000   0.538397                20210101              20210331   \n",
      "3501  0.000000   0.426832                20210101              20210331   \n",
      "3502  0.000000  18.673326                20210101              20210331   \n",
      "3503  0.000000   0.859278                20210101              20210331   \n",
      "3504  0.000000   1.023709                20210101              20210331   \n",
      "\n",
      "     Date of Analysis INT                     Selected Fields for Duplicates  \\\n",
      "0                20210208  AUInsuranceLocalB2B2CTravelAllianz Affiliation...   \n",
      "1                20210208  AUInsuranceLocalB2B2CTravelOffline Travel Agen...   \n",
      "2                20210208  AUInsuranceLocalB2B2CTravelOffline Travel Agen...   \n",
      "3                20210208  AUInsuranceLocalB2B2CTravelAllianz Affiliation...   \n",
      "4                20210208  AUInsuranceLocalB2B2CTravelCarriers - Airlines...   \n",
      "...                   ...                                                ...   \n",
      "3500             20210331  PTReinsuranceLocalB2B2CTravelDirect (Allianz P...   \n",
      "3501             20210331  PTReinsuranceLocalB2B2CTravelDirect (Allianz P...   \n",
      "3502             20210331  PTReinsuranceLocalB2B2CTravelDirect (Allianz P...   \n",
      "3503             20210331  PTReinsuranceLocalB2B2CTravelDirect (Allianz P...   \n",
      "3504             20210331  PTReinsuranceLocalB2BTravelDirect (Allianz Par...   \n",
      "\n",
      "     % of IBNR on (OCR + IBNR) Unnamed: 66 ibnrsub  \n",
      "0                          0.0         NaN     NaN  \n",
      "1                          0.0         NaN     NaN  \n",
      "2                          0.0         NaN     NaN  \n",
      "3                          0.0         NaN     NaN  \n",
      "4                          0.0         NaN     NaN  \n",
      "...                        ...         ...     ...  \n",
      "3500                       0.0         0.0     0.0  \n",
      "3501                       0.0         0.0     0.0  \n",
      "3502                       0.0         0.0     0.0  \n",
      "3503                       0.0         0.0     0.0  \n",
      "3504                       0.0         0.0     0.0  \n",
      "\n",
      "[3505 rows x 77 columns]\n"
     ]
    }
   ],
   "source": [
    "try:\n",
    "    %store -r read_dc_df\n",
    "    input = read_dc_df\n",
    "        \n",
    "except:\n",
    "    input = pd.read_parquet(infile,engine = \"pyarrow\")\n",
    "    os.remove(infile)\n",
    "\n",
    "print(input)"
   ]
  },
  {
   "cell_type": "markdown",
   "id": "ea079bf8",
   "metadata": {
    "papermill": {
     "duration": 0.344118,
     "end_time": "2021-05-26T13:32:59.001958",
     "exception": false,
     "start_time": "2021-05-26T13:32:58.657840",
     "status": "completed"
    },
    "tags": []
   },
   "source": [
    "#### Make a copy for debug purposes"
   ]
  },
  {
   "cell_type": "code",
   "execution_count": 10,
   "id": "a66a0a88",
   "metadata": {
    "execution": {
     "iopub.execute_input": "2021-05-26T13:32:59.997415Z",
     "iopub.status.busy": "2021-05-26T13:32:59.992409Z",
     "iopub.status.idle": "2021-05-26T13:33:00.006410Z",
     "shell.execute_reply": "2021-05-26T13:33:00.008402Z"
    },
    "papermill": {
     "duration": 0.63239,
     "end_time": "2021-05-26T13:33:00.008402",
     "exception": false,
     "start_time": "2021-05-26T13:32:59.376012",
     "status": "completed"
    },
    "pycharm": {
     "name": "#%%\n"
    },
    "tags": []
   },
   "outputs": [],
   "source": [
    "trandata = input.copy()"
   ]
  },
  {
   "cell_type": "markdown",
   "id": "660115da",
   "metadata": {
    "papermill": {
     "duration": 0.414162,
     "end_time": "2021-05-26T13:33:00.884296",
     "exception": false,
     "start_time": "2021-05-26T13:33:00.470134",
     "status": "completed"
    },
    "tags": []
   },
   "source": [
    "#### Format Headers"
   ]
  },
  {
   "cell_type": "code",
   "execution_count": 11,
   "id": "86d95ec2",
   "metadata": {
    "execution": {
     "iopub.execute_input": "2021-05-26T13:33:02.025062Z",
     "iopub.status.busy": "2021-05-26T13:33:02.017064Z",
     "iopub.status.idle": "2021-05-26T13:33:02.055072Z",
     "shell.execute_reply": "2021-05-26T13:33:02.057060Z"
    },
    "papermill": {
     "duration": 0.738226,
     "end_time": "2021-05-26T13:33:02.057060",
     "exception": false,
     "start_time": "2021-05-26T13:33:01.318834",
     "status": "completed"
    },
    "pycharm": {
     "name": "#%%\n"
    },
    "tags": []
   },
   "outputs": [
    {
     "data": {
      "text/plain": [
       "'format headers'"
      ]
     },
     "execution_count": 11,
     "metadata": {},
     "output_type": "execute_result"
    }
   ],
   "source": [
    "# save the column names to variable, format them, replace headers\n",
    "cols = trandata.columns.values\n",
    "\n",
    "\"\"\"format headers\"\"\"\n",
    "fixedcols = []\n",
    "\n",
    "for f in cols:\n",
    "    fixedhead = f.replace(' ', '_').lower()\n",
    "    fixedcols.append(fixedhead)\n",
    "\n",
    "trandata.columns = fixedcols"
   ]
  },
  {
   "cell_type": "markdown",
   "id": "e3fde6f6",
   "metadata": {
    "papermill": {
     "duration": 0.563912,
     "end_time": "2021-05-26T13:33:03.048316",
     "exception": false,
     "start_time": "2021-05-26T13:33:02.484404",
     "status": "completed"
    },
    "pycharm": {
     "name": "#%% md\n"
    },
    "tags": []
   },
   "source": [
    "#### Update Verification 1"
   ]
  },
  {
   "cell_type": "code",
   "execution_count": 12,
   "id": "2d74ea5d",
   "metadata": {
    "execution": {
     "iopub.execute_input": "2021-05-26T13:33:04.011800Z",
     "iopub.status.busy": "2021-05-26T13:33:04.002797Z",
     "iopub.status.idle": "2021-05-26T13:33:04.344778Z",
     "shell.execute_reply": "2021-05-26T13:33:04.351778Z"
    },
    "papermill": {
     "duration": 0.713499,
     "end_time": "2021-05-26T13:33:04.351778",
     "exception": false,
     "start_time": "2021-05-26T13:33:03.638279",
     "status": "completed"
    },
    "pycharm": {
     "name": "#%%\n"
    },
    "tags": []
   },
   "outputs": [
    {
     "name": "stdout",
     "output_type": "stream",
     "text": [
      "|    | Original                                                        | Transformed                                                     |\n",
      "|---:|:----------------------------------------------------------------|:----------------------------------------------------------------|\n",
      "|  0 | Submission File                                                 | submission_file                                                 |\n",
      "|  1 | Business Unit                                                   | business_unit                                                   |\n",
      "|  2 | Country                                                         | country                                                         |\n",
      "|  3 | Currency                                                        | currency                                                        |\n",
      "|  4 | Region                                                          | region                                                          |\n",
      "|  5 | Reporting Date From                                             | reporting_date_from                                             |\n",
      "|  6 | Reporting Date To                                               | reporting_date_to                                               |\n",
      "|  7 | Date of Analysis                                                | date_of_analysis                                                |\n",
      "|  8 | Type of Analysis                                                | type_of_analysis                                                |\n",
      "|  9 | Analysed Months                                                 | analysed_months                                                 |\n",
      "| 10 | Reporting Year                                                  | reporting_year                                                  |\n",
      "| 11 | Reporting Quarter                                               | reporting_quarter                                               |\n",
      "| 12 | Reporting Month                                                 | reporting_month                                                 |\n",
      "| 13 | Type of Business                                                | type_of_business                                                |\n",
      "| 14 | Type of Account                                                 | type_of_account                                                 |\n",
      "| 15 | Distribution Type                                               | distribution_type                                               |\n",
      "| 16 | LOB                                                             | lob                                                             |\n",
      "| 17 | Distribution Channel                                            | distribution_channel                                            |\n",
      "| 18 | Sub LOB                                                         | sub_lob                                                         |\n",
      "| 19 | Business Partner Name                                           | business_partner_name                                           |\n",
      "| 20 | Business Partner ID Number                                      | business_partner_id_number                                      |\n",
      "| 21 | Product Name                                                    | product_name                                                    |\n",
      "| 22 | Product ID Number                                               | product_id_number                                               |\n",
      "| 23 | Product Family                                                  | product_family                                                  |\n",
      "| 24 | Standard Product                                                | standard_product                                                |\n",
      "| 25 | Number of Products per Row                                      | number_of_products_per_row                                      |\n",
      "| 26 | Number of B-Partners per Row                                    | number_of_b-partners_per_row                                    |\n",
      "| 27 | Number of Policies (Written)                                    | number_of_policies_(written)                                    |\n",
      "| 28 | Units of Risk (Written)                                         | units_of_risk_(written)                                         |\n",
      "| 29 | Written Revenues net of Taxes                                   | written_revenues_net_of_taxes                                   |\n",
      "| 30 | Written Revenues                                                | written_revenues                                                |\n",
      "| 31 | Number of Policies (Earned)                                     | number_of_policies_(earned)                                     |\n",
      "| 32 | Units of Risk (Earned)                                          | units_of_risk_(earned)                                          |\n",
      "| 33 | Earned Revenues net of Taxes                                    | earned_revenues_net_of_taxes                                    |\n",
      "| 34 | Earned Revenues                                                 | earned_revenues                                                 |\n",
      "| 35 | Earned Base Commissions                                         | earned_base_commissions                                         |\n",
      "| 36 | Earned Over-Commissions                                         | earned_over-commissions                                         |\n",
      "| 37 | Upfront Cash Payments                                           | upfront_cash_payments                                           |\n",
      "| 38 | Total Compensation                                              | total_compensation                                              |\n",
      "| 39 | Number of Claims (Paid + OCR + IBNR)                            | number_of_claims_(paid_+_ocr_+_ibnr)                            |\n",
      "| 40 | Number of Open Claims                                           | number_of_open_claims                                           |\n",
      "| 41 | Open Claims %                                                   | open_claims_%                                                   |\n",
      "| 42 | Number of Persons Involved in Claims (Paid + OCR + IBNR)        | number_of_persons_involved_in_claims_(paid_+_ocr_+_ibnr)        |\n",
      "| 43 | Paid Claims                                                     | paid_claims                                                     |\n",
      "| 44 | OCR + IBNR                                                      | ocr_+_ibnr                                                      |\n",
      "| 45 | Actual Incurred Losses (Paid + OCR + IBNR)                      | actual_incurred_losses_(paid_+_ocr_+_ibnr)                      |\n",
      "| 46 | Internal Variable Costs (excl. AZ Tech Fee)                     | internal_variable_costs_(excl._az_tech_fee)                     |\n",
      "| 47 | AZ Tech Fee                                                     | az_tech_fee                                                     |\n",
      "| 48 | Internal Fixed Costs (excl. HQ Fees)                            | internal_fixed_costs_(excl._hq_fees)                            |\n",
      "| 49 | HQ Fees                                                         | hq_fees                                                         |\n",
      "| 50 | Total Expenses                                                  | total_expenses                                                  |\n",
      "| 51 | Frequency (Earned)                                              | frequency_(earned)                                              |\n",
      "| 52 | Severity                                                        | severity                                                        |\n",
      "| 53 | Risk Premium                                                    | risk_premium                                                    |\n",
      "| 54 | Contribution Margin - BU View                                   | contribution_margin_-_bu_view                                   |\n",
      "| 55 | Contribution Margin % on Fixed Costs - BU View                  | contribution_margin_%_on_fixed_costs_-_bu_view                  |\n",
      "| 56 | Contribution Margin % on Earned Revenues net of Taxes - BU View | contribution_margin_%_on_earned_revenues_net_of_taxes_-_bu_view |\n",
      "| 57 | Contribution Margin - HQ View                                   | contribution_margin_-_hq_view                                   |\n",
      "| 58 | Contribution Margin % on Fixed Costs - HQ View                  | contribution_margin_%_on_fixed_costs_-_hq_view                  |\n",
      "| 59 | Contribution Margin % on Earned Revenues net of Taxes - HQ View | contribution_margin_%_on_earned_revenues_net_of_taxes_-_hq_view |\n",
      "| 60 | Loss Ratio                                                      | loss_ratio                                                      |\n",
      "| 61 | Commission Ratio                                                | commission_ratio                                                |\n",
      "| 62 | Expense Ratio                                                   | expense_ratio                                                   |\n",
      "| 63 | Combined Ratio                                                  | combined_ratio                                                  |\n",
      "| 64 | Profit or Loss                                                  | profit_or_loss                                                  |\n",
      "| 65 | Notes                                                           | notes                                                           |\n",
      "| 66 | Unnamed: 65                                                     | unnamed:_65                                                     |\n",
      "| 67 | concat2                                                         | concat2                                                         |\n",
      "| 68 | comsub                                                          | comsub                                                          |\n",
      "| 69 | expsub                                                          | expsub                                                          |\n",
      "| 70 | Reporting Date From INT                                         | reporting_date_from_int                                         |\n",
      "| 71 | Reporting Date To INT                                           | reporting_date_to_int                                           |\n",
      "| 72 | Date of Analysis INT                                            | date_of_analysis_int                                            |\n",
      "| 73 | Selected Fields for Duplicates                                  | selected_fields_for_duplicates                                  |\n",
      "| 74 | % of IBNR on (OCR + IBNR)                                       | %_of_ibnr_on_(ocr_+_ibnr)                                       |\n",
      "| 75 | Unnamed: 66                                                     | unnamed:_66                                                     |\n",
      "| 76 | ibnrsub                                                         | ibnrsub                                                         |\n"
     ]
    }
   ],
   "source": [
    "if run_control > -10:\n",
    "    disp = {\"Original\": input.columns, \"Transformed\": trandata.columns}\n",
    "\n",
    "    disp = pd.DataFrame(disp)\n",
    "\n",
    "    print(disp.to_markdown())\n",
    "else:\n",
    "    print(\"Skipped Transformation Report 1\")"
   ]
  },
  {
   "cell_type": "markdown",
   "id": "45c46145",
   "metadata": {
    "papermill": {
     "duration": 0.47495,
     "end_time": "2021-05-26T13:33:05.423622",
     "exception": false,
     "start_time": "2021-05-26T13:33:04.948672",
     "status": "completed"
    },
    "tags": []
   },
   "source": [
    "#### Remove rows with null business units\n"
   ]
  },
  {
   "cell_type": "code",
   "execution_count": 13,
   "id": "6b9c8f8b",
   "metadata": {
    "execution": {
     "iopub.execute_input": "2021-05-26T13:33:06.691783Z",
     "iopub.status.busy": "2021-05-26T13:33:06.684781Z",
     "iopub.status.idle": "2021-05-26T13:33:06.700783Z",
     "shell.execute_reply": "2021-05-26T13:33:06.702779Z"
    },
    "papermill": {
     "duration": 0.546004,
     "end_time": "2021-05-26T13:33:06.702779",
     "exception": false,
     "start_time": "2021-05-26T13:33:06.156775",
     "status": "completed"
    },
    "pycharm": {
     "name": "#%%\n"
    },
    "tags": []
   },
   "outputs": [],
   "source": [
    "# todo, remove this from read file\n",
    "trandata = trandata[trandata.business_unit.notnull()]"
   ]
  },
  {
   "cell_type": "markdown",
   "id": "9532485c",
   "metadata": {
    "papermill": {
     "duration": 0.475129,
     "end_time": "2021-05-26T13:33:07.594203",
     "exception": false,
     "start_time": "2021-05-26T13:33:07.119074",
     "status": "completed"
    },
    "tags": []
   },
   "source": [
    "#### Update Verification 2"
   ]
  },
  {
   "cell_type": "code",
   "execution_count": 14,
   "id": "36fee176",
   "metadata": {
    "execution": {
     "iopub.execute_input": "2021-05-26T13:33:08.546967Z",
     "iopub.status.busy": "2021-05-26T13:33:08.531948Z",
     "iopub.status.idle": "2021-05-26T13:33:08.600953Z",
     "shell.execute_reply": "2021-05-26T13:33:08.602962Z"
    },
    "papermill": {
     "duration": 0.496667,
     "end_time": "2021-05-26T13:33:08.602962",
     "exception": false,
     "start_time": "2021-05-26T13:33:08.106295",
     "status": "completed"
    },
    "pycharm": {
     "name": "#%%\n"
    },
    "tags": []
   },
   "outputs": [
    {
     "name": "stdout",
     "output_type": "stream",
     "text": [
      "Row Counts\n",
      "|    | Business Unit   |   Original |   Transformed |\n",
      "|---:|:----------------|-----------:|--------------:|\n",
      "|  0 | AU              |         85 |            85 |\n",
      "|  1 | CA              |         17 |            17 |\n",
      "|  2 | CH              |       3187 |          3187 |\n",
      "|  3 | CZ              |          7 |             7 |\n",
      "|  4 | ES              |         28 |            28 |\n",
      "|  5 | GR              |         15 |            15 |\n",
      "|  6 | IT              |        100 |           100 |\n",
      "|  7 | PL              |         27 |            27 |\n",
      "|  8 | PT              |         39 |            39 |\n"
     ]
    }
   ],
   "source": [
    "if run_control > -10:\n",
    "\n",
    "    ibus = input.groupby(['Business Unit']).count()\n",
    "    ibus = ibus.reset_index()\n",
    "    tbus = trandata.groupby(['business_unit']).count()\n",
    "    tbus = tbus.reset_index()\n",
    "\n",
    "    compdata = pd.merge(ibus, tbus, left_on='Business Unit', right_on='business_unit', how='left')\n",
    "\n",
    "    disp = {\"Business Unit\": compdata['Business Unit'], \"Original\": compdata['Earned Revenues net of Taxes'],\n",
    "            \"Transformed\": compdata['earned_revenues_net_of_taxes']}\n",
    "\n",
    "    disp = pd.DataFrame(disp)\n",
    "\n",
    "    print(\"Row Counts\")\n",
    "    print(disp.to_markdown())\n",
    "    \n",
    "else:\n",
    "    \n",
    "    print(\"Skipped Transformation Report 2\")\n"
   ]
  },
  {
   "cell_type": "markdown",
   "id": "7f7c9ebb",
   "metadata": {
    "papermill": {
     "duration": 0.375722,
     "end_time": "2021-05-26T13:33:09.332090",
     "exception": false,
     "start_time": "2021-05-26T13:33:08.956368",
     "status": "completed"
    },
    "tags": []
   },
   "source": [
    "#### Swap  nulls for \"Not Provided\" in 'Sub Lob' and 'Distribution Channel'"
   ]
  },
  {
   "cell_type": "code",
   "execution_count": 15,
   "id": "8a289958",
   "metadata": {
    "execution": {
     "iopub.execute_input": "2021-05-26T13:33:10.349924Z",
     "iopub.status.busy": "2021-05-26T13:33:10.328854Z",
     "iopub.status.idle": "2021-05-26T13:33:10.355920Z",
     "shell.execute_reply": "2021-05-26T13:33:10.356909Z"
    },
    "papermill": {
     "duration": 0.505688,
     "end_time": "2021-05-26T13:33:10.356909",
     "exception": false,
     "start_time": "2021-05-26T13:33:09.851221",
     "status": "completed"
    },
    "pycharm": {
     "name": "#%%\n"
    },
    "tags": []
   },
   "outputs": [],
   "source": [
    "mults = trandata['sub_lob'][trandata.sub_lob.replace(nan, 'Not Provided').str.contains(',', case=False)]\n",
    "mults = mults.unique()\n",
    "\n",
    "trandata['sub_lob'] = trandata['sub_lob'].fillna('Not Provided')\n",
    "trandata['sub_lob'] = trandata['sub_lob'].replace('', 'Not Provided')\n",
    "trandata['distribution_channel'] = trandata['distribution_channel'].replace('', 'Not Provided').fillna('Not Provided')"
   ]
  },
  {
   "cell_type": "markdown",
   "id": "6ad7dd73",
   "metadata": {
    "papermill": {
     "duration": 0.444432,
     "end_time": "2021-05-26T13:33:11.258605",
     "exception": false,
     "start_time": "2021-05-26T13:33:10.814173",
     "status": "completed"
    },
    "tags": []
   },
   "source": [
    "#### Replace multiple entries in \"Sub Lob\" to \"Multiple\""
   ]
  },
  {
   "cell_type": "code",
   "execution_count": 16,
   "id": "002cb6b5",
   "metadata": {
    "execution": {
     "iopub.execute_input": "2021-05-26T13:33:12.193997Z",
     "iopub.status.busy": "2021-05-26T13:33:12.184793Z",
     "iopub.status.idle": "2021-05-26T13:33:12.202793Z",
     "shell.execute_reply": "2021-05-26T13:33:12.201795Z"
    },
    "papermill": {
     "duration": 0.459995,
     "end_time": "2021-05-26T13:33:12.202793",
     "exception": false,
     "start_time": "2021-05-26T13:33:11.742798",
     "status": "completed"
    },
    "pycharm": {
     "name": "#%%\n"
    },
    "tags": []
   },
   "outputs": [],
   "source": [
    "for i in mults:\n",
    "    trandata['sub_lob'] = trandata['sub_lob'].replace(i, 'Multiple')\n",
    "\n",
    "# todo automate figuring out which fields fx rates should be applied to somehow"
   ]
  },
  {
   "cell_type": "markdown",
   "id": "8eb93743",
   "metadata": {
    "papermill": {
     "duration": 0.412341,
     "end_time": "2021-05-26T13:33:13.010028",
     "exception": false,
     "start_time": "2021-05-26T13:33:12.597687",
     "status": "completed"
    },
    "tags": []
   },
   "source": [
    "#### Update Verification 3"
   ]
  },
  {
   "cell_type": "code",
   "execution_count": 17,
   "id": "d359dffc",
   "metadata": {
    "execution": {
     "iopub.execute_input": "2021-05-26T13:33:13.979861Z",
     "iopub.status.busy": "2021-05-26T13:33:13.977870Z",
     "iopub.status.idle": "2021-05-26T13:33:14.244870Z",
     "shell.execute_reply": "2021-05-26T13:33:14.245863Z"
    },
    "papermill": {
     "duration": 0.817513,
     "end_time": "2021-05-26T13:33:14.246862",
     "exception": false,
     "start_time": "2021-05-26T13:33:13.429349",
     "status": "completed"
    },
    "pycharm": {
     "name": "#%%\n"
    },
    "tags": []
   },
   "outputs": [],
   "source": [
    "if run_control > -10:\n",
    "\n",
    "    ibus = input.groupby(['Sub LOB']).sum()\n",
    "    ibus = ibus.reset_index()\n",
    "    tbus = trandata.groupby(['sub_lob']).sum()\n",
    "    tbus = tbus.reset_index()\n",
    "\n",
    "    compdatasublob = pd.merge(ibus, tbus, left_on='Sub LOB', right_on='sub_lob', how='outer')\n",
    "\n",
    "    disp1 = pd.DataFrame(\n",
    "        {'Original Sub LOB': compdatasublob['Sub LOB'], 'Transformed Sub LOB': compdatasublob['sub_lob'],\n",
    "         \"Original\": compdatasublob['Earned Revenues net of Taxes'] / 1000,\n",
    "         \"Transformed\": compdatasublob['earned_revenues_net_of_taxes'] / 1000})\n",
    "\n",
    "\n",
    "\n",
    "    tots1 = pd.DataFrame({'Original Total': (input['Earned Revenues net of Taxes']).sum() / 10000,\n",
    "                          \"Transformed Total\": (compdatasublob['earned_revenues_net_of_taxes']).sum() / 10000},\n",
    "                         index=[0])\n",
    "else:\n",
    "    print(\"Skipped Transformation Report 2\")"
   ]
  },
  {
   "cell_type": "markdown",
   "id": "40de8a7f",
   "metadata": {
    "papermill": {
     "duration": 0.498048,
     "end_time": "2021-05-26T13:33:15.162264",
     "exception": false,
     "start_time": "2021-05-26T13:33:14.664216",
     "status": "completed"
    },
    "tags": []
   },
   "source": [
    "#### Make cflds, a list of currency fields, force to float, coercion is null or string to 0"
   ]
  },
  {
   "cell_type": "code",
   "execution_count": 18,
   "id": "5f5f15fd",
   "metadata": {
    "execution": {
     "iopub.execute_input": "2021-05-26T13:33:16.035402Z",
     "iopub.status.busy": "2021-05-26T13:33:16.025402Z",
     "iopub.status.idle": "2021-05-26T13:33:16.237179Z",
     "shell.execute_reply": "2021-05-26T13:33:16.238187Z"
    },
    "papermill": {
     "duration": 0.63487,
     "end_time": "2021-05-26T13:33:16.239178",
     "exception": false,
     "start_time": "2021-05-26T13:33:15.604308",
     "status": "completed"
    },
    "pycharm": {
     "name": "#%%\n"
    },
    "tags": []
   },
   "outputs": [
    {
     "data": {
      "text/plain": [
       "0        1772.4400\n",
       "1       73384.9866\n",
       "2        4193.4300\n",
       "3         874.8900\n",
       "4        3388.4715\n",
       "           ...    \n",
       "3500     1509.1600\n",
       "3501     2164.1100\n",
       "3502      309.7200\n",
       "3503        0.0000\n",
       "3504     1260.0000\n",
       "Name: written_revenues_net_of_taxes, Length: 3505, dtype: float64"
      ]
     },
     "execution_count": 18,
     "metadata": {},
     "output_type": "execute_result"
    },
    {
     "data": {
      "text/plain": [
       "0          0.0000\n",
       "1          0.0000\n",
       "2          0.0000\n",
       "3          0.0000\n",
       "4          0.0000\n",
       "          ...    \n",
       "3500    1644.9844\n",
       "3501    2358.8799\n",
       "3502     337.5948\n",
       "3503       0.0000\n",
       "3504    1373.4000\n",
       "Name: written_revenues, Length: 3505, dtype: float64"
      ]
     },
     "execution_count": 18,
     "metadata": {},
     "output_type": "execute_result"
    },
    {
     "data": {
      "text/plain": [
       "0         5524.7718\n",
       "1       517217.3011\n",
       "2        12578.4759\n",
       "3          874.8900\n",
       "4        11928.4636\n",
       "           ...     \n",
       "3500      1576.8600\n",
       "3501      2085.8000\n",
       "3502        16.5700\n",
       "3503        68.0000\n",
       "3504      1260.0000\n",
       "Name: earned_revenues_net_of_taxes, Length: 3505, dtype: float64"
      ]
     },
     "execution_count": 18,
     "metadata": {},
     "output_type": "execute_result"
    },
    {
     "data": {
      "text/plain": [
       "0          0.0000\n",
       "1          0.0000\n",
       "2          0.0000\n",
       "3          0.0000\n",
       "4          0.0000\n",
       "          ...    \n",
       "3500    1718.7774\n",
       "3501    2273.5220\n",
       "3502      18.0613\n",
       "3503      74.1200\n",
       "3504    1373.4000\n",
       "Name: earned_revenues, Length: 3505, dtype: float64"
      ]
     },
     "execution_count": 18,
     "metadata": {},
     "output_type": "execute_result"
    },
    {
     "data": {
      "text/plain": [
       "0          411.4924\n",
       "1       186987.7598\n",
       "2         1798.8306\n",
       "3          171.8100\n",
       "4         4812.8102\n",
       "           ...     \n",
       "3500         0.0000\n",
       "3501         0.0000\n",
       "3502         0.0000\n",
       "3503         0.0000\n",
       "3504         0.0000\n",
       "Name: earned_base_commissions, Length: 3505, dtype: float64"
      ]
     },
     "execution_count": 18,
     "metadata": {},
     "output_type": "execute_result"
    },
    {
     "data": {
      "text/plain": [
       "0       0.0\n",
       "1       0.0\n",
       "2       0.0\n",
       "3       0.0\n",
       "4       0.0\n",
       "       ... \n",
       "3500    0.0\n",
       "3501    0.0\n",
       "3502    0.0\n",
       "3503    0.0\n",
       "3504    0.0\n",
       "Name: earned_over-commissions, Length: 3505, dtype: float64"
      ]
     },
     "execution_count": 18,
     "metadata": {},
     "output_type": "execute_result"
    },
    {
     "data": {
      "text/plain": [
       "0       0.0\n",
       "1       0.0\n",
       "2       0.0\n",
       "3       0.0\n",
       "4       0.0\n",
       "       ... \n",
       "3500    0.0\n",
       "3501    0.0\n",
       "3502    0.0\n",
       "3503    0.0\n",
       "3504    0.0\n",
       "Name: upfront_cash_payments, Length: 3505, dtype: float64"
      ]
     },
     "execution_count": 18,
     "metadata": {},
     "output_type": "execute_result"
    },
    {
     "data": {
      "text/plain": [
       "0          411.4924\n",
       "1       186987.7598\n",
       "2         1798.8306\n",
       "3          171.8100\n",
       "4         4812.8102\n",
       "           ...     \n",
       "3500         0.0000\n",
       "3501         0.0000\n",
       "3502         0.0000\n",
       "3503         0.0000\n",
       "3504         0.0000\n",
       "Name: total_compensation, Length: 3505, dtype: float64"
      ]
     },
     "execution_count": 18,
     "metadata": {},
     "output_type": "execute_result"
    },
    {
     "data": {
      "text/plain": [
       "0          841.6000\n",
       "1       179952.5261\n",
       "2            0.0000\n",
       "3            0.0000\n",
       "4          650.3800\n",
       "           ...     \n",
       "3500        69.4500\n",
       "3501         0.0000\n",
       "3502       630.1200\n",
       "3503         0.0000\n",
       "3504         0.0000\n",
       "Name: paid_claims, Length: 3505, dtype: float64"
      ]
     },
     "execution_count": 18,
     "metadata": {},
     "output_type": "execute_result"
    },
    {
     "data": {
      "text/plain": [
       "0         158.949826\n",
       "1       30986.379636\n",
       "2         284.268956\n",
       "3          16.847558\n",
       "4         317.166200\n",
       "            ...     \n",
       "3500     1472.110000\n",
       "3501      608.720000\n",
       "3502        0.000000\n",
       "3503        0.000000\n",
       "3504        0.000000\n",
       "Name: ocr_+_ibnr, Length: 3505, dtype: float64"
      ]
     },
     "execution_count": 18,
     "metadata": {},
     "output_type": "execute_result"
    },
    {
     "data": {
      "text/plain": [
       "0         1000.549826\n",
       "1       210938.905736\n",
       "2          284.268956\n",
       "3           16.847558\n",
       "4          967.546200\n",
       "            ...      \n",
       "3500      1541.560000\n",
       "3501       608.720000\n",
       "3502       630.120000\n",
       "3503         0.000000\n",
       "3504         0.000000\n",
       "Name: actual_incurred_losses_(paid_+_ocr_+_ibnr), Length: 3505, dtype: float64"
      ]
     },
     "execution_count": 18,
     "metadata": {},
     "output_type": "execute_result"
    },
    {
     "data": {
      "text/plain": [
       "0         930.696166\n",
       "1       91986.087535\n",
       "2        1076.945043\n",
       "3          55.083911\n",
       "4        1236.770428\n",
       "            ...     \n",
       "3500      433.790006\n",
       "3501      341.095979\n",
       "3502      305.054137\n",
       "3503       33.114511\n",
       "3504      835.265953\n",
       "Name: internal_variable_costs_(excl._az_tech_fee), Length: 3505, dtype: float64"
      ]
     },
     "execution_count": 18,
     "metadata": {},
     "output_type": "execute_result"
    },
    {
     "data": {
      "text/plain": [
       "0         315.488111\n",
       "1       29535.321094\n",
       "2         718.284798\n",
       "3          49.959963\n",
       "4         681.166314\n",
       "            ...     \n",
       "3500       45.413568\n",
       "3501       60.071040\n",
       "3502        0.477216\n",
       "3503        1.958400\n",
       "3504       36.288000\n",
       "Name: az_tech_fee, Length: 3505, dtype: float64"
      ]
     },
     "execution_count": 18,
     "metadata": {},
     "output_type": "execute_result"
    },
    {
     "data": {
      "text/plain": [
       "0         1474.395339\n",
       "1       145930.890587\n",
       "2         3144.451670\n",
       "3          151.527925\n",
       "4         2633.394389\n",
       "            ...      \n",
       "3500       272.796780\n",
       "3501       360.843400\n",
       "3502         2.866610\n",
       "3503        19.176000\n",
       "3504       355.320000\n",
       "Name: internal_fixed_costs_(excl._hq_fees), Length: 3505, dtype: float64"
      ]
     },
     "execution_count": 18,
     "metadata": {},
     "output_type": "execute_result"
    },
    {
     "data": {
      "text/plain": [
       "0         546.657015\n",
       "1       54435.025836\n",
       "2        1298.674892\n",
       "3          51.138343\n",
       "4        1329.630483\n",
       "            ...     \n",
       "3500       96.976890\n",
       "3501      128.276700\n",
       "3502        1.019055\n",
       "3503        4.182000\n",
       "3504       63.000000\n",
       "Name: hq_fees, Length: 3505, dtype: float64"
      ]
     },
     "execution_count": 18,
     "metadata": {},
     "output_type": "execute_result"
    },
    {
     "data": {
      "text/plain": [
       "0         3267.236631\n",
       "1       321887.325052\n",
       "2         6238.356404\n",
       "3          307.710141\n",
       "4         5880.961615\n",
       "            ...      \n",
       "3500       848.977244\n",
       "3501       890.287119\n",
       "3502       309.417018\n",
       "3503        58.430911\n",
       "3504      1289.873953\n",
       "Name: total_expenses, Length: 3505, dtype: float64"
      ]
     },
     "execution_count": 18,
     "metadata": {},
     "output_type": "execute_result"
    },
    {
     "data": {
      "text/plain": [
       "0       0.0\n",
       "1       0.0\n",
       "2       0.0\n",
       "3       0.0\n",
       "4       0.0\n",
       "       ... \n",
       "3500    0.0\n",
       "3501    0.0\n",
       "3502    0.0\n",
       "3503    0.0\n",
       "3504    0.0\n",
       "Name: risk_premium, Length: 3505, dtype: float64"
      ]
     },
     "execution_count": 18,
     "metadata": {},
     "output_type": "execute_result"
    },
    {
     "data": {
      "text/plain": [
       "0          845.492943\n",
       "1      -202596.689488\n",
       "2         4257.019941\n",
       "3          378.522301\n",
       "4          267.145586\n",
       "            ...      \n",
       "3500      -813.677244\n",
       "3501       586.792881\n",
       "3502      -922.967018\n",
       "3503         9.569089\n",
       "3504       -29.873953\n",
       "Name: profit_or_loss, Length: 3505, dtype: float64"
      ]
     },
     "execution_count": 18,
     "metadata": {},
     "output_type": "execute_result"
    },
    {
     "data": {
      "text/plain": [
       "0       2866.545298\n",
       "1      -2230.773065\n",
       "2       8700.146503\n",
       "3        581.188569\n",
       "4       4230.170458\n",
       "           ...     \n",
       "3500    -443.903574\n",
       "3501    1075.912981\n",
       "3502    -919.081353\n",
       "3503      32.927089\n",
       "3504     388.446047\n",
       "Name: contribution_margin_-_hq_view, Length: 3505, dtype: float64"
      ]
     },
     "execution_count": 18,
     "metadata": {},
     "output_type": "execute_result"
    },
    {
     "data": {
      "text/plain": [
       "0        2319.888282\n",
       "1      -56665.798901\n",
       "2        7401.471611\n",
       "3         530.050226\n",
       "4        2900.539975\n",
       "            ...     \n",
       "3500     -540.880464\n",
       "3501      947.636281\n",
       "3502     -920.100408\n",
       "3503       28.745089\n",
       "3504      325.446047\n",
       "Name: contribution_margin_-_bu_view, Length: 3505, dtype: float64"
      ]
     },
     "execution_count": 18,
     "metadata": {},
     "output_type": "execute_result"
    }
   ],
   "source": [
    "cflds = ['written_revenues_net_of_taxes', 'written_revenues', 'earned_revenues_net_of_taxes',\n",
    "         'earned_revenues', 'earned_base_commissions', 'earned_over-commissions', 'upfront_cash_payments',\n",
    "         'total_compensation', 'paid_claims', 'ocr_+_ibnr', 'actual_incurred_losses_(paid_+_ocr_+_ibnr)',\n",
    "         'internal_variable_costs_(excl._az_tech_fee)', 'az_tech_fee', 'internal_fixed_costs_(excl._hq_fees)',\n",
    "         'hq_fees', 'total_expenses', 'risk_premium', 'profit_or_loss', 'contribution_margin_-_hq_view',\n",
    "         'contribution_margin_-_bu_view', ]\n",
    "\n",
    "for i in cflds:\n",
    "    pd.to_numeric(trandata[i], errors='coerce')"
   ]
  },
  {
   "cell_type": "markdown",
   "id": "a9a08905",
   "metadata": {
    "papermill": {
     "duration": 0.546068,
     "end_time": "2021-05-26T13:33:17.448974",
     "exception": false,
     "start_time": "2021-05-26T13:33:16.902906",
     "status": "completed"
    },
    "tags": []
   },
   "source": [
    "#### Turn selected columns values uppercase"
   ]
  },
  {
   "cell_type": "code",
   "execution_count": 19,
   "id": "11d2b14c",
   "metadata": {
    "execution": {
     "iopub.execute_input": "2021-05-26T13:33:18.681177Z",
     "iopub.status.busy": "2021-05-26T13:33:18.631172Z",
     "iopub.status.idle": "2021-05-26T13:33:18.745050Z",
     "shell.execute_reply": "2021-05-26T13:33:18.747053Z"
    },
    "papermill": {
     "duration": 0.82021,
     "end_time": "2021-05-26T13:33:18.747053",
     "exception": false,
     "start_time": "2021-05-26T13:33:17.926843",
     "status": "completed"
    },
    "pycharm": {
     "name": "#%%\n"
    },
    "tags": []
   },
   "outputs": [],
   "source": [
    "validcols = ['business_unit', 'currency', 'region', 'type_of_analysis', 'type_of_business', 'type_of_account', 'lob',\n",
    "             'distribution_type', 'distribution_channel', ]\n",
    "\n",
    "for c in validcols:\n",
    "    trandata[c] = trandata[c].astype(str)\n",
    "    trandata[c] = trandata[c].apply(lambda x: x.upper())"
   ]
  },
  {
   "cell_type": "markdown",
   "id": "ef90fee1",
   "metadata": {
    "papermill": {
     "duration": 0.572252,
     "end_time": "2021-05-26T13:33:20.028375",
     "exception": false,
     "start_time": "2021-05-26T13:33:19.456123",
     "status": "completed"
    },
    "tags": []
   },
   "source": [
    "#### Read the values from the Global Attribute Catalog, one field per loop iterance and xlsx sheet."
   ]
  },
  {
   "cell_type": "code",
   "execution_count": 20,
   "id": "66b46b92",
   "metadata": {
    "execution": {
     "iopub.execute_input": "2021-05-26T13:33:20.992291Z",
     "iopub.status.busy": "2021-05-26T13:33:20.987294Z",
     "iopub.status.idle": "2021-05-26T13:33:24.387712Z",
     "shell.execute_reply": "2021-05-26T13:33:24.388708Z"
    },
    "papermill": {
     "duration": 3.874506,
     "end_time": "2021-05-26T13:33:24.389709",
     "exception": false,
     "start_time": "2021-05-26T13:33:20.515203",
     "status": "completed"
    },
    "pycharm": {
     "name": "#%%\n"
    },
    "tags": []
   },
   "outputs": [],
   "source": [
    "checktabs = []\n",
    "\n",
    "\n",
    "\n",
    "for s in validcols:\n",
    "    t = pd.read_excel(atcat, sheet_name = s )\n",
    "    checktabs.append([[s], [t]])\n",
    "\n",
    "gacout = []\n"
   ]
  },
  {
   "cell_type": "markdown",
   "id": "12701688",
   "metadata": {
    "papermill": {
     "duration": 0.440125,
     "end_time": "2021-05-26T13:33:25.172569",
     "exception": false,
     "start_time": "2021-05-26T13:33:24.732444",
     "status": "completed"
    },
    "tags": []
   },
   "source": [
    "#### Compare the lists from the previous step and each field. Find those that do not match, make lists of unique values\n",
    "#### replace any that have replacements in GPPM inoout already, make a list of values without any matches.\n"
   ]
  },
  {
   "cell_type": "code",
   "execution_count": 21,
   "id": "390cb955",
   "metadata": {
    "execution": {
     "iopub.execute_input": "2021-05-26T13:33:26.114449Z",
     "iopub.status.busy": "2021-05-26T13:33:26.109453Z",
     "iopub.status.idle": "2021-05-26T13:33:26.267453Z",
     "shell.execute_reply": "2021-05-26T13:33:26.268452Z"
    },
    "papermill": {
     "duration": 0.67621,
     "end_time": "2021-05-26T13:33:26.269452",
     "exception": false,
     "start_time": "2021-05-26T13:33:25.593242",
     "status": "completed"
    },
    "pycharm": {
     "name": "#%%\n"
    },
    "tags": []
   },
   "outputs": [],
   "source": [
    "# todo rewrite this beginner code to use dicts and simplify\n",
    "\n",
    "for u in enumerate(validcols):\n",
    "    trandata.loc[0:len(trandata[u[1]]), u[1]] = trandata[u[1]].replace(\n",
    "        [checktabs[u[0]][1][0]['Upper_Vers']][0].to_numpy(), [checktabs[u[0]][1][0][u[1]]][0].to_numpy())\n",
    "    d = list(checktabs[u[0]][1][0]['Non Matches'].drop_duplicates().dropna().append(\n",
    "        pd.Series(trandata[u[1]][~trandata[u[1]].isin(checktabs[u[0]][1][0][u[1]])].drop_duplicates().dropna()),\n",
    "        ignore_index=True))\n",
    "    g = [checktabs[u[0]][1][0][str(u[1])], checktabs[u[0]][1][0]['Upper_Vers'], checktabs[u[0]][1][0]['Unnamed: 2'],\n",
    "         pd.Series(d, dtype='object').drop_duplicates().dropna(), checktabs[u[0]][1][0]['User Defined Corrections']]\n",
    "    gacout.append(list([g, u[1]]))"
   ]
  },
  {
   "cell_type": "markdown",
   "id": "a2b9c3d1",
   "metadata": {
    "papermill": {
     "duration": 0.526992,
     "end_time": "2021-05-26T13:33:27.322144",
     "exception": false,
     "start_time": "2021-05-26T13:33:26.795152",
     "status": "completed"
    },
    "tags": []
   },
   "source": [
    "#### Rebuild the GPPM input file, with the replaced values in the bad values column of each sheet.\n",
    "#### Step one, make and xlsx with a notes page."
   ]
  },
  {
   "cell_type": "code",
   "execution_count": 22,
   "id": "af9e31b2",
   "metadata": {
    "execution": {
     "iopub.execute_input": "2021-05-26T13:33:28.754692Z",
     "iopub.status.busy": "2021-05-26T13:33:28.752692Z",
     "iopub.status.idle": "2021-05-26T13:33:29.477354Z",
     "shell.execute_reply": "2021-05-26T13:33:29.478362Z"
    },
    "papermill": {
     "duration": 1.40017,
     "end_time": "2021-05-26T13:33:29.479351",
     "exception": false,
     "start_time": "2021-05-26T13:33:28.079181",
     "status": "completed"
    },
    "pycharm": {
     "name": "#%%\n"
    },
    "tags": []
   },
   "outputs": [],
   "source": [
    "w = ExcelWriter(atcat)\n",
    "notes = pd.DataFrame([\n",
    "    \"This page is script generated during the source creation process. Do not edit these notes directly in the file as they will be overwritten\",\n",
    "    \"\", \"\"\n",
    "    , \" Purpose :     to manage attribute entries in the data collection process, this workbook documents and organizes all entries and also allows a user to swap those that do \\\n",
    "                        not conform to validation rules  with an entry of their choice\",\n",
    "    \" Each attribute field that requires validation has its own sheet tab\", \"\"\n",
    "    , \"Column A:    of each sheet tab contains all unique acceptable responses\",\n",
    "    \"Column B:    an upper case version, to wrangle case mismatches\",\n",
    "    \"Column D:   is generated by the process, this is a list of an uppercase version of each unique unacceptable response, this builds over time with each collection\",\n",
    "    \"Column E:   you can enter accpetable response here (sase sensitive) to be swapped out in the data, save and exit this file, run the process again and they will be replaced\"\n",
    "    , \"\", \"\", \"Gavin Harmon 9 - July -2020\"])\n",
    "\n",
    "notes.columns = ['Notes']\n",
    "\n",
    "notes.to_excel(w, index=False, sheet_name=\"Notes\")"
   ]
  },
  {
   "cell_type": "markdown",
   "id": "e94c6dc7",
   "metadata": {
    "papermill": {
     "duration": 0.615586,
     "end_time": "2021-05-26T13:33:30.620479",
     "exception": false,
     "start_time": "2021-05-26T13:33:30.004893",
     "status": "completed"
    },
    "tags": []
   },
   "source": [
    "#### Step two, build the new sheets for each validcols field"
   ]
  },
  {
   "cell_type": "code",
   "execution_count": 23,
   "id": "a255ee79",
   "metadata": {
    "execution": {
     "iopub.execute_input": "2021-05-26T13:33:31.690726Z",
     "iopub.status.busy": "2021-05-26T13:33:31.673750Z",
     "iopub.status.idle": "2021-05-26T13:33:32.403059Z",
     "shell.execute_reply": "2021-05-26T13:33:32.401267Z"
    },
    "papermill": {
     "duration": 1.226059,
     "end_time": "2021-05-26T13:33:32.403059",
     "exception": false,
     "start_time": "2021-05-26T13:33:31.177000",
     "status": "completed"
    },
    "pycharm": {
     "name": "#%%\n"
    },
    "tags": []
   },
   "outputs": [],
   "source": [
    "for v in enumerate(validcols):\n",
    "    df = pd.DataFrame(gacout[v[0]][0], index=[f\"{v[1]}\", 'Upper_Vers', '', 'Non Matches', 'User Defined Corrections']).T\n",
    "    df.to_excel(w, index=False, sheet_name=gacout[v[0]][1])\n",
    "w.save()"
   ]
  },
  {
   "cell_type": "markdown",
   "id": "5fd11f62",
   "metadata": {
    "papermill": {
     "duration": 0.474239,
     "end_time": "2021-05-26T13:33:33.262816",
     "exception": false,
     "start_time": "2021-05-26T13:33:32.788577",
     "status": "completed"
    },
    "tags": []
   },
   "source": [
    "#### Step three, read these lists back in, make the necessary replacements in the DataFrame"
   ]
  },
  {
   "cell_type": "code",
   "execution_count": 24,
   "id": "ea580a9c",
   "metadata": {
    "execution": {
     "iopub.execute_input": "2021-05-26T13:33:34.303261Z",
     "iopub.status.busy": "2021-05-26T13:33:34.302259Z",
     "iopub.status.idle": "2021-05-26T13:33:37.558058Z",
     "shell.execute_reply": "2021-05-26T13:33:37.559308Z"
    },
    "papermill": {
     "duration": 3.783562,
     "end_time": "2021-05-26T13:33:37.559830",
     "exception": false,
     "start_time": "2021-05-26T13:33:33.776268",
     "status": "completed"
    },
    "pycharm": {
     "name": "#%%\n"
    },
    "tags": []
   },
   "outputs": [],
   "source": [
    "for s in validcols:\n",
    "    t = pd.read_excel(f'//hecate/Insurance_US/Product Development/Product Management/Global PPM/Reporting/Data Collection/Production/{str(percode)}\\\\{str(percode)}_Attribute_Catalog.xlsx', sheet_name = s )\n",
    "    checktabs.append([[s],[t]])"
   ]
  },
  {
   "cell_type": "code",
   "execution_count": 25,
   "id": "cfd7aff6",
   "metadata": {
    "execution": {
     "iopub.execute_input": "2021-05-26T13:33:38.341953Z",
     "iopub.status.busy": "2021-05-26T13:33:38.340950Z",
     "iopub.status.idle": "2021-05-26T13:33:38.421953Z",
     "shell.execute_reply": "2021-05-26T13:33:38.424175Z"
    },
    "papermill": {
     "duration": 0.493614,
     "end_time": "2021-05-26T13:33:38.424950",
     "exception": false,
     "start_time": "2021-05-26T13:33:37.931336",
     "status": "completed"
    },
    "pycharm": {
     "name": "#%%\n"
    },
    "tags": []
   },
   "outputs": [],
   "source": [
    "gacout = []\n",
    "\n",
    "for u in enumerate(validcols):\n",
    "    trandata.loc[0:len(trandata[u[1]]), u[1]] = trandata[u[1]].replace(\n",
    "        [checktabs[u[0]][1][0]['Non Matches']][0].to_numpy(),\n",
    "        [checktabs[u[0]][1][0]['User Defined Corrections']][0].to_numpy())\n",
    "repper = trandata[['business_unit', 'reporting_date_to']]\n",
    "repper = pd.DataFrame({\"business_unit\": (repper['business_unit']), \"YearMo\": (repper['reporting_date_to'])})\n",
    "minrep = repper.groupby(['business_unit']).max()\n",
    "a = trandata['business_unit'].replace(list(minrep.axes[0]), minrep.get(\"YearMo\"))\n",
    "trandata['rep_date'] = a\n",
    "trandata.loc[0:len(trandata['business_partner_id_number']), 'business_partner_id_number'] = trandata[\n",
    "    'business_partner_id_number'].replace('0', 'Not Provided').fillna('Not Provided')\n",
    "trandata.loc[0:len(trandata['product_id_number']), 'product_id_number'] = trandata['product_id_number'].replace('0',\n",
    "                                                                                                                'Not Provided').replace(\n",
    "    '-', 'Not Provided').fillna('Not Provided')\n",
    "trandata.loc[0:len(trandata['sub_lob']), 'sub_lob'] = trandata['sub_lob'].replace('0', 'Not Provided').replace('-',\n",
    "                                                                                                               'Not Provided').replace(\n",
    "    'Other', 'Not Provided').fillna('Not Provided')"
   ]
  },
  {
   "cell_type": "markdown",
   "id": "19c29fdc",
   "metadata": {
    "papermill": {
     "duration": 0.416521,
     "end_time": "2021-05-26T13:33:39.244324",
     "exception": false,
     "start_time": "2021-05-26T13:33:38.827803",
     "status": "completed"
    },
    "tags": []
   },
   "source": [
    "#### Evaluate the current state, alert the user if input is needed.\n",
    "- At the end of this process, alert the user with instructions if they need to adjust bad entries for validated fields.\n",
    "\n"
   ]
  },
  {
   "cell_type": "code",
   "execution_count": 26,
   "id": "e1f7bc1a",
   "metadata": {
    "execution": {
     "iopub.execute_input": "2021-05-26T13:33:40.302437Z",
     "iopub.status.busy": "2021-05-26T13:33:40.273907Z",
     "iopub.status.idle": "2021-05-26T13:33:44.874430Z",
     "shell.execute_reply": "2021-05-26T13:33:44.876428Z"
    },
    "papermill": {
     "duration": 5.119264,
     "end_time": "2021-05-26T13:33:44.876428",
     "exception": false,
     "start_time": "2021-05-26T13:33:39.757164",
     "status": "completed"
    },
    "tags": []
   },
   "outputs": [],
   "source": [
    "#see above note about converting to dictionaries\n",
    "\n",
    "#Make lists of all the attribute catalog entries that do not have a correction as a list of errors.\n",
    "err_messages = []\n",
    "\n",
    "for idx, i in enumerate(checktabs):\n",
    "    subset_no_nans =  i[1][0][['Non Matches', 'User Defined Corrections']][~i[1][0]['Non Matches'].isna()]\n",
    "    entries = subset_no_nans['Non Matches'][subset_no_nans['User Defined Corrections'].isna()]. tolist()\n",
    "    if len(entries) > 0: \n",
    "        err_messages.append(f'Please deal with bad entries {entries} on tab {i[0][0]} of the Attribute Catalog.')\n",
    "\n",
    "#raise an error to stop the process and give instructions\n",
    "\n",
    "# define Python user-defined exceptions\n",
    "\n",
    "\n",
    "# define Python user-defined exceptions\n",
    "class Error(Exception):\n",
    "    \"\"\"Base class for other exceptions\"\"\"\n",
    "    pass\n",
    "\n",
    "class BadEntriesError(Error):\n",
    "    \"\"\"Raised when the input value is too large\"\"\"\n",
    "    for i in err_messages : print(i)\n",
    "    \n",
    "    os.startfile(atcat)\n",
    "\n",
    "if len(err_messages) > 0:\n",
    "    raise BadEntriesError\n",
    "else:\n",
    "    pass\n",
    "        "
   ]
  },
  {
   "cell_type": "markdown",
   "id": "d527f6b0",
   "metadata": {
    "papermill": {
     "duration": 2.115236,
     "end_time": "2021-05-26T13:33:47.581885",
     "exception": false,
     "start_time": "2021-05-26T13:33:45.466649",
     "status": "completed"
    },
    "tags": []
   },
   "source": [
    "#### Remove empty rows, if there is no claims experience and no revenue for a 12 month period, it should not be included"
   ]
  },
  {
   "cell_type": "code",
   "execution_count": 27,
   "id": "6d219f6c",
   "metadata": {
    "execution": {
     "iopub.execute_input": "2021-05-26T13:33:48.664586Z",
     "iopub.status.busy": "2021-05-26T13:33:48.659587Z",
     "iopub.status.idle": "2021-05-26T13:33:48.719585Z",
     "shell.execute_reply": "2021-05-26T13:33:48.723861Z"
    },
    "papermill": {
     "duration": 0.536728,
     "end_time": "2021-05-26T13:33:48.724402",
     "exception": false,
     "start_time": "2021-05-26T13:33:48.187674",
     "status": "completed"
    },
    "pycharm": {
     "name": "#%%\n"
    },
    "tags": []
   },
   "outputs": [],
   "source": [
    "trandata = trandata.loc[(trandata['units_of_risk_(written)'].fillna(0).replace('', 0)\n",
    "                         + trandata['written_revenues_net_of_taxes'].fillna(0).replace('', 0)\n",
    "                         + trandata['written_revenues'].fillna(0).replace('', 0)\n",
    "                         + trandata['number_of_policies_(earned)'].fillna(0).replace('', 0)\n",
    "                         + trandata['units_of_risk_(earned)'].fillna(0).replace('', 0)\n",
    "                         + trandata['earned_revenues_net_of_taxes'].fillna(0).replace('', 0)\n",
    "                         + trandata['earned_revenues'].fillna(0).replace('', 0)\n",
    "                         + trandata['earned_base_commissions'].fillna(0).replace('', 0)\n",
    "                         + trandata['upfront_cash_payments'].fillna(0).replace('', 0)\n",
    "                         + trandata['earned_over-commissions'].fillna(0).replace('', 0)\n",
    "                         + trandata['total_compensation'].fillna(0).replace('', 0)\n",
    "                         + trandata['number_of_claims_(paid_+_ocr_+_ibnr)'].fillna(0).replace('', 0)\n",
    "                         + trandata['number_of_open_claims'].fillna(0).replace('', 0)\n",
    "                         + trandata['open_claims_%'].fillna(0).replace('', 0)\n",
    "                         + trandata['number_of_persons_involved_in_claims_(paid_+_ocr_+_ibnr)'].fillna(0).replace('', 0)\n",
    "                         + trandata['paid_claims'].fillna(0).replace('', 0)\n",
    "                         + trandata['ocr_+_ibnr'].fillna(0).replace('', 0)\n",
    "                         + trandata['actual_incurred_losses_(paid_+_ocr_+_ibnr)'].fillna(0).replace('', 0)\n",
    "                         + trandata['internal_variable_costs_(excl._az_tech_fee)'].fillna(0).replace('', 0)\n",
    "                         + trandata['az_tech_fee'].fillna(0).replace('', 0)\n",
    "                         + trandata['internal_fixed_costs_(excl._hq_fees)'].fillna(0).replace('', 0)\n",
    "                         + trandata['hq_fees'].fillna(0).replace('', 0)\n",
    "                         + trandata['total_expenses'].fillna(0).replace('', 0)\n",
    "                         + trandata['frequency_(earned)'].fillna(0).replace('', 0)\n",
    "                         + trandata['severity'].fillna(0).replace('', 0))\n",
    "                        != 0]"
   ]
  },
  {
   "cell_type": "markdown",
   "id": "8801aa9d",
   "metadata": {
    "papermill": {
     "duration": 0.523308,
     "end_time": "2021-05-26T13:33:49.762762",
     "exception": false,
     "start_time": "2021-05-26T13:33:49.239454",
     "status": "completed"
    },
    "pycharm": {
     "name": "#%% md\n"
    },
    "tags": []
   },
   "source": [
    "#### Output temp file"
   ]
  },
  {
   "cell_type": "code",
   "execution_count": 28,
   "id": "4e8e6e36",
   "metadata": {
    "execution": {
     "iopub.execute_input": "2021-05-26T13:33:51.026356Z",
     "iopub.status.busy": "2021-05-26T13:33:51.025357Z",
     "iopub.status.idle": "2021-05-26T13:33:54.671129Z",
     "shell.execute_reply": "2021-05-26T13:33:54.681141Z"
    },
    "papermill": {
     "duration": 4.246077,
     "end_time": "2021-05-26T13:33:54.681141",
     "exception": false,
     "start_time": "2021-05-26T13:33:50.435064",
     "status": "completed"
    },
    "pycharm": {
     "name": "#%%\n"
    },
    "tags": []
   },
   "outputs": [],
   "source": [
    "trandata.to_parquet(\n",
    "    f'//hecate/Insurance_US/Product Development/Product Management/Global PPM/Reporting/Data Collection/Production/{str(percode)}\\\\{str(percode)}.localcur.parquet', engine = \"pyarrow\")\n",
    "\n"
   ]
  },
  {
   "cell_type": "markdown",
   "id": "9e423643",
   "metadata": {
    "papermill": {
     "duration": 0.644267,
     "end_time": "2021-05-26T13:33:55.785669",
     "exception": false,
     "start_time": "2021-05-26T13:33:55.141402",
     "status": "completed"
    },
    "tags": []
   },
   "source": [
    "#### Store the DataFrame for other noteboks to use"
   ]
  },
  {
   "cell_type": "code",
   "execution_count": 29,
   "id": "8ec023ad",
   "metadata": {
    "execution": {
     "iopub.execute_input": "2021-05-26T13:33:57.063314Z",
     "iopub.status.busy": "2021-05-26T13:33:57.061312Z",
     "iopub.status.idle": "2021-05-26T13:33:57.090310Z",
     "shell.execute_reply": "2021-05-26T13:33:57.091312Z"
    },
    "papermill": {
     "duration": 0.656128,
     "end_time": "2021-05-26T13:33:57.092311",
     "exception": false,
     "start_time": "2021-05-26T13:33:56.436183",
     "status": "completed"
    },
    "tags": []
   },
   "outputs": [
    {
     "name": "stdout",
     "output_type": "stream",
     "text": [
      "Stored 'py_t_df' (DataFrame)\n"
     ]
    }
   ],
   "source": [
    "py_t_df = trandata\n",
    "\n",
    "%store py_t_df\n"
   ]
  }
 ],
 "metadata": {
  "celltoolbar": "Tags",
  "kernelspec": {
   "display_name": "Python 3",
   "language": "python",
   "name": "python3"
  },
  "language_info": {
   "codemirror_mode": {
    "name": "ipython",
    "version": 3
   },
   "file_extension": ".py",
   "mimetype": "text/x-python",
   "name": "python",
   "nbconvert_exporter": "python",
   "pygments_lexer": "ipython3",
   "version": "3.7.6"
  },
  "papermill": {
   "default_parameters": {},
   "duration": 90.790287,
   "end_time": "2021-05-26T13:33:58.962895",
   "environment_variables": {},
   "exception": null,
   "input_path": "pipeline/py_transform.ipynb",
   "output_path": "//hecate/Insurance_US/Product Development/Product Management/Global PPM/Reporting/Data Collection/Pipeline Reporting Scripts/GPMpipeline/instances/2021.Q1\\pipeline\\py_transform05262021092926--live run.ipynb",
   "parameters": {
    "commit_message": "Strange etnry found in the 'type of account'.",
    "inst_datetime": "05262021092926",
    "percode": "2021.Q1",
    "run_control": 1
   },
   "start_time": "2021-05-26T13:32:28.172608",
   "version": "2.3.3"
  }
 },
 "nbformat": 4,
 "nbformat_minor": 5
}