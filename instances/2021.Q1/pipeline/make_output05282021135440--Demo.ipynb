{
 "cells": [
  {
   "cell_type": "markdown",
   "id": "bb3c5e01",
   "metadata": {
    "tags": [
     "papermill-error-cell-tag"
    ]
   },
   "source": [
    "<span style=\"color:red; font-family:Helvetica Neue, Helvetica, Arial, sans-serif; font-size:2em;\">An Exception was encountered at '<a href=\"#papermill-error-cell\">In [12]</a>'.</span>"
   ]
  },
  {
   "cell_type": "markdown",
   "id": "3d30d11d",
   "metadata": {
    "papermill": {
     "duration": 0.27207,
     "end_time": "2021-05-28T18:17:43.017918",
     "exception": false,
     "start_time": "2021-05-28T18:17:42.745848",
     "status": "completed"
    },
    "pycharm": {
     "name": "#%% md\n"
    },
    "tags": []
   },
   "source": [
    "<img src=\"../images/AzPTravel_PPM.png\">"
   ]
  },
  {
   "cell_type": "markdown",
   "id": "68d0c441",
   "metadata": {
    "papermill": {
     "duration": 0.230034,
     "end_time": "2021-05-28T18:17:43.500219",
     "exception": false,
     "start_time": "2021-05-28T18:17:43.270185",
     "status": "completed"
    },
    "tags": []
   },
   "source": [
    "## GPM Pipeline Output maker\n",
    "\n",
    "#### This script\n",
    "- loads the transformed parquet file\n",
    "- creates the file {parquet}.localcur.csv\n",
    "- makes the Euro conversions\n",
    "- outputs {parquet}.euroconv.csv\n"
   ]
  },
  {
   "cell_type": "markdown",
   "id": "134befae",
   "metadata": {
    "papermill": {
     "duration": 0.247086,
     "end_time": "2021-05-28T18:17:43.983755",
     "exception": false,
     "start_time": "2021-05-28T18:17:43.736669",
     "status": "completed"
    },
    "tags": []
   },
   "source": [
    "#### Parameters section"
   ]
  },
  {
   "cell_type": "code",
   "execution_count": 1,
   "id": "ca93fbab",
   "metadata": {
    "execution": {
     "iopub.execute_input": "2021-05-28T18:17:44.472369Z",
     "iopub.status.busy": "2021-05-28T18:17:44.467366Z",
     "iopub.status.idle": "2021-05-28T18:17:44.475084Z",
     "shell.execute_reply": "2021-05-28T18:17:44.480372Z"
    },
    "papermill": {
     "duration": 0.258,
     "end_time": "2021-05-28T18:17:44.481365",
     "exception": false,
     "start_time": "2021-05-28T18:17:44.223365",
     "status": "completed"
    },
    "pycharm": {
     "name": "#%%\n"
    },
    "tags": [
     "parameters"
    ]
   },
   "outputs": [],
   "source": [
    "commit = \"\"\n",
    "# give a reason for the run\n",
    "\n",
    "percode = \"20XX.QX\"\n",
    "# Data Collection Code, this controls file paths and output names\n",
    "\n",
    "run_type = 1\n",
    "#run_type =  0 - lite run with no reporting, not recommended.\n",
    "#run_type =  1 - lite run with normal reporting, default setting.\n",
    "#run_type =  2 - Heavy run with full reporting, available for audits and troubleshooting.\n",
    "\n",
    "specialchars = \"-GTHtest\"\n",
    "# optional - add up to a 12 character code in order to mark your instance record .ipynb\n",
    "\n",
    "from datetime import datetime\n",
    "inst_datetime = datetime.now().strftime(\"%m%d%Y%H%M%S\")\n",
    "# a single datetime stamp for the full instance run\n"
   ]
  },
  {
   "cell_type": "code",
   "execution_count": 2,
   "id": "c5afc787",
   "metadata": {
    "execution": {
     "iopub.execute_input": "2021-05-28T18:17:44.967155Z",
     "iopub.status.busy": "2021-05-28T18:17:44.966136Z",
     "iopub.status.idle": "2021-05-28T18:17:44.970138Z",
     "shell.execute_reply": "2021-05-28T18:17:44.971931Z"
    },
    "papermill": {
     "duration": 0.269535,
     "end_time": "2021-05-28T18:17:44.971931",
     "exception": false,
     "start_time": "2021-05-28T18:17:44.702396",
     "status": "completed"
    },
    "tags": [
     "injected-parameters"
    ]
   },
   "outputs": [],
   "source": [
    "# Parameters\n",
    "run_control = 1\n",
    "percode = \"2021.Q1\"\n",
    "commit_message = \"Demo Test\"\n",
    "inst_datetime = \"05282021135440\"\n"
   ]
  },
  {
   "cell_type": "markdown",
   "id": "04b2f358",
   "metadata": {
    "papermill": {
     "duration": 0.269114,
     "end_time": "2021-05-28T18:17:45.457710",
     "exception": false,
     "start_time": "2021-05-28T18:17:45.188596",
     "status": "completed"
    },
    "tags": []
   },
   "source": [
    "### Set Run Control\n",
    "\n",
    "##### 0 - lite run with no reporting, not recommended.\n",
    "##### 1 - lite run with normal reporting, default setting.\n",
    "##### 2 - Heavy run with full reporting, available for audits and troubleshooting."
   ]
  },
  {
   "cell_type": "code",
   "execution_count": 3,
   "id": "77414000",
   "metadata": {
    "execution": {
     "iopub.execute_input": "2021-05-28T18:17:45.967440Z",
     "iopub.status.busy": "2021-05-28T18:17:45.965439Z",
     "iopub.status.idle": "2021-05-28T18:17:45.973439Z",
     "shell.execute_reply": "2021-05-28T18:17:45.974442Z"
    },
    "papermill": {
     "duration": 0.296328,
     "end_time": "2021-05-28T18:17:45.975442",
     "exception": false,
     "start_time": "2021-05-28T18:17:45.679114",
     "status": "completed"
    },
    "pycharm": {
     "name": "#%%\n"
    },
    "tags": []
   },
   "outputs": [],
   "source": [
    "run_control = 0 # in development mode"
   ]
  },
  {
   "cell_type": "markdown",
   "id": "1fb36ec7",
   "metadata": {
    "papermill": {
     "duration": 0.25573,
     "end_time": "2021-05-28T18:17:46.450329",
     "exception": false,
     "start_time": "2021-05-28T18:17:46.194599",
     "status": "completed"
    },
    "tags": []
   },
   "source": [
    "#### Packages used"
   ]
  },
  {
   "cell_type": "code",
   "execution_count": 4,
   "id": "d1f5392c",
   "metadata": {
    "execution": {
     "iopub.execute_input": "2021-05-28T18:17:46.958622Z",
     "iopub.status.busy": "2021-05-28T18:17:46.955622Z",
     "iopub.status.idle": "2021-05-28T18:17:49.308222Z",
     "shell.execute_reply": "2021-05-28T18:17:49.309223Z"
    },
    "papermill": {
     "duration": 2.620608,
     "end_time": "2021-05-28T18:17:49.310229",
     "exception": false,
     "start_time": "2021-05-28T18:17:46.689621",
     "status": "completed"
    },
    "pycharm": {
     "name": "#%%\n"
    },
    "tags": []
   },
   "outputs": [],
   "source": [
    "import sys\n",
    "import os\n",
    "import pandas as pd"
   ]
  },
  {
   "cell_type": "code",
   "execution_count": 5,
   "id": "d325267b",
   "metadata": {
    "execution": {
     "iopub.execute_input": "2021-05-28T18:17:49.784637Z",
     "iopub.status.busy": "2021-05-28T18:17:49.779638Z",
     "iopub.status.idle": "2021-05-28T18:17:49.790646Z",
     "shell.execute_reply": "2021-05-28T18:17:49.789638Z"
    },
    "papermill": {
     "duration": 0.248718,
     "end_time": "2021-05-28T18:17:49.790646",
     "exception": false,
     "start_time": "2021-05-28T18:17:49.541928",
     "status": "completed"
    },
    "pycharm": {
     "name": "#%%\n"
    },
    "tags": []
   },
   "outputs": [],
   "source": [
    "default_DC = \"2021.Q1\"\n",
    "\n",
    "try:\n",
    "    if sys.argv[1] == \"-f\":\n",
    "        percode = default_DC\n",
    "    else:\n",
    "        percode = sys.argv[1]\n",
    "\n",
    "except IndexError:\n",
    "    percode = default_DC\n",
    "except NameError:\n",
    "    percode = default_DC"
   ]
  },
  {
   "cell_type": "markdown",
   "id": "9919e2a9",
   "metadata": {
    "papermill": {
     "duration": 0.235993,
     "end_time": "2021-05-28T18:17:50.237158",
     "exception": false,
     "start_time": "2021-05-28T18:17:50.001165",
     "status": "completed"
    },
    "tags": []
   },
   "source": [
    "#### Convert paths and files to variables.\n",
    "#### Read data into pd DataFrames.\n",
    "#### Make paths for the live sources."
   ]
  },
  {
   "cell_type": "code",
   "execution_count": 6,
   "id": "e7be46af",
   "metadata": {
    "execution": {
     "iopub.execute_input": "2021-05-28T18:17:50.751585Z",
     "iopub.status.busy": "2021-05-28T18:17:50.750590Z",
     "iopub.status.idle": "2021-05-28T18:17:50.756588Z",
     "shell.execute_reply": "2021-05-28T18:17:50.755596Z"
    },
    "papermill": {
     "duration": 0.260355,
     "end_time": "2021-05-28T18:17:50.756588",
     "exception": false,
     "start_time": "2021-05-28T18:17:50.496233",
     "status": "completed"
    },
    "pycharm": {
     "name": "#%%\n"
    },
    "tags": []
   },
   "outputs": [],
   "source": [
    "rt_path = os.path.join('\\\\\\\\hecate\\\\Insurance_US\\\\Product Development\\\\Product Management\\\\Global PPM\\\\Reporting\\\\Data Collection\\\\Production',percode)\n",
    "\n",
    "\n",
    "\n"
   ]
  },
  {
   "cell_type": "markdown",
   "id": "efd54185",
   "metadata": {
    "papermill": {
     "duration": 0.210617,
     "end_time": "2021-05-28T18:17:51.212289",
     "exception": false,
     "start_time": "2021-05-28T18:17:51.001672",
     "status": "completed"
    },
    "tags": []
   },
   "source": [
    "#### File names"
   ]
  },
  {
   "cell_type": "code",
   "execution_count": 7,
   "id": "cff0d21a",
   "metadata": {
    "execution": {
     "iopub.execute_input": "2021-05-28T18:17:51.652700Z",
     "iopub.status.busy": "2021-05-28T18:17:51.650696Z",
     "iopub.status.idle": "2021-05-28T18:17:51.655698Z",
     "shell.execute_reply": "2021-05-28T18:17:51.657699Z"
    },
    "papermill": {
     "duration": 0.221211,
     "end_time": "2021-05-28T18:17:51.657699",
     "exception": false,
     "start_time": "2021-05-28T18:17:51.436488",
     "status": "completed"
    },
    "tags": []
   },
   "outputs": [],
   "source": [
    "## Input files\n",
    "tempfile = os.path.join(rt_path, f'{percode}.localcur.parquet')\n",
    "gppm_file = os.path.join(rt_path, f'GPPM_Input_{str(percode)}.xlsx')\n",
    "\n",
    "## Output files\n",
    "local_file = f'{percode}.localcur.csv'\n",
    "euro_file = f'{percode}.euroconv.csv'\n",
    "\n"
   ]
  },
  {
   "cell_type": "markdown",
   "id": "ce61448b",
   "metadata": {
    "papermill": {
     "duration": 0.236,
     "end_time": "2021-05-28T18:17:52.106744",
     "exception": false,
     "start_time": "2021-05-28T18:17:51.870744",
     "status": "completed"
    },
    "tags": []
   },
   "source": [
    "#### Read source"
   ]
  },
  {
   "cell_type": "code",
   "execution_count": 8,
   "id": "f86e0051",
   "metadata": {
    "execution": {
     "iopub.execute_input": "2021-05-28T18:17:52.595266Z",
     "iopub.status.busy": "2021-05-28T18:17:52.593264Z",
     "iopub.status.idle": "2021-05-28T18:17:54.183077Z",
     "shell.execute_reply": "2021-05-28T18:17:54.185082Z"
    },
    "papermill": {
     "duration": 1.857819,
     "end_time": "2021-05-28T18:17:54.185082",
     "exception": false,
     "start_time": "2021-05-28T18:17:52.327263",
     "status": "completed"
    },
    "pycharm": {
     "name": "#%%\n"
    },
    "tags": []
   },
   "outputs": [],
   "source": [
    "mo_input = pd.read_parquet(tempfile, engine='pyarrow')\n"
   ]
  },
  {
   "cell_type": "markdown",
   "id": "43b3611c",
   "metadata": {
    "papermill": {
     "duration": 0.23957,
     "end_time": "2021-05-28T18:17:54.643644",
     "exception": false,
     "start_time": "2021-05-28T18:17:54.404074",
     "status": "completed"
    },
    "tags": []
   },
   "source": [
    "#### Output local currency csv"
   ]
  },
  {
   "cell_type": "code",
   "execution_count": 9,
   "id": "0ef1dfed",
   "metadata": {
    "execution": {
     "iopub.execute_input": "2021-05-28T18:17:55.096690Z",
     "iopub.status.busy": "2021-05-28T18:17:55.094690Z",
     "iopub.status.idle": "2021-05-28T18:18:02.821467Z",
     "shell.execute_reply": "2021-05-28T18:18:02.823464Z"
    },
    "papermill": {
     "duration": 7.959297,
     "end_time": "2021-05-28T18:18:02.823464",
     "exception": false,
     "start_time": "2021-05-28T18:17:54.864167",
     "status": "completed"
    },
    "pycharm": {
     "is_executing": true,
     "name": "#%%\n"
    },
    "tags": []
   },
   "outputs": [],
   "source": [
    "mo_input.to_csv(os.path.join(rt_path,local_file), ',', index=False, encoding='utf-8-sig')"
   ]
  },
  {
   "cell_type": "markdown",
   "id": "dbefd191",
   "metadata": {
    "papermill": {
     "duration": 0.291626,
     "end_time": "2021-05-28T18:18:03.363355",
     "exception": false,
     "start_time": "2021-05-28T18:18:03.071729",
     "status": "completed"
    },
    "tags": []
   },
   "source": [
    "#### Convert all currency to Euro\n"
   ]
  },
  {
   "cell_type": "code",
   "execution_count": 10,
   "id": "bb12887e",
   "metadata": {
    "execution": {
     "iopub.execute_input": "2021-05-28T18:18:03.869741Z",
     "iopub.status.busy": "2021-05-28T18:18:03.867744Z",
     "iopub.status.idle": "2021-05-28T18:18:03.873740Z",
     "shell.execute_reply": "2021-05-28T18:18:03.874740Z"
    },
    "papermill": {
     "duration": 0.307269,
     "end_time": "2021-05-28T18:18:03.875740",
     "exception": false,
     "start_time": "2021-05-28T18:18:03.568471",
     "status": "completed"
    },
    "pycharm": {
     "is_executing": true,
     "name": "#%%\n"
    },
    "tags": []
   },
   "outputs": [],
   "source": [
    "\n",
    "cflds = ['written_revenues_net_of_taxes', 'written_revenues', 'earned_revenues_net_of_taxes',\n",
    "         'earned_revenues', 'earned_base_commissions', 'earned_over_commissions', 'upfront_cash_payments',\n",
    "         'total_compensation', 'paid_claims', 'ocr__ibnr', 'actual_incurred_losses',\n",
    "         'internal_variable_costs', 'az_tech_fee', 'internal_fixed_costs',\n",
    "         'hq_fees', 'total_expenses', 'risk_premium', 'profit_or_loss', 'cm_hq_view', 'cm_bu_view', ]\n",
    "\n",
    "alt_cflds = ['written_revenues_net_of_taxes', 'written_revenues', 'earned_revenues_net_of_taxes',\n",
    "         'earned_revenues', 'earned_base_commissions', 'earned_over-commissions', 'upfront_cash_payments',\n",
    "         'total_compensation', 'paid_claims', 'ocr_+_ibnr','actual_incurred_losses_(paid_+_ocr_+_ibnr)',\n",
    "         'internal_variable_costs_(excl._az_tech_fee)', 'az_tech_fee', 'internal_fixed_costs_(excl._hq_fees)',\n",
    "         'hq_fees', 'total_expenses', 'risk_premium', 'profit_or_loss', 'contribution_margin_-_hq_view', 'contribution_margin_-_bu_view', ]\n",
    "\n",
    "\n"
   ]
  },
  {
   "cell_type": "markdown",
   "id": "dec3bd0a",
   "metadata": {
    "papermill": {
     "duration": 0.278049,
     "end_time": "2021-05-28T18:18:04.394008",
     "exception": false,
     "start_time": "2021-05-28T18:18:04.115959",
     "status": "completed"
    },
    "tags": []
   },
   "source": [
    "#### Make a copy for debug purposes"
   ]
  },
  {
   "cell_type": "code",
   "execution_count": 11,
   "id": "8244f79f",
   "metadata": {
    "execution": {
     "iopub.execute_input": "2021-05-28T18:18:04.915527Z",
     "iopub.status.busy": "2021-05-28T18:18:04.914536Z",
     "iopub.status.idle": "2021-05-28T18:18:04.922528Z",
     "shell.execute_reply": "2021-05-28T18:18:04.923530Z"
    },
    "papermill": {
     "duration": 0.317514,
     "end_time": "2021-05-28T18:18:04.926527",
     "exception": false,
     "start_time": "2021-05-28T18:18:04.609013",
     "status": "completed"
    },
    "pycharm": {
     "is_executing": true,
     "name": "#%%\n"
    },
    "tags": []
   },
   "outputs": [],
   "source": [
    "trandata = mo_input.copy()"
   ]
  },
  {
   "cell_type": "markdown",
   "id": "ae71e49d",
   "metadata": {
    "papermill": {
     "duration": 0.25361,
     "end_time": "2021-05-28T18:18:05.429664",
     "exception": false,
     "start_time": "2021-05-28T18:18:05.176054",
     "status": "completed"
    },
    "tags": []
   },
   "source": [
    "#### Convert Currency Below"
   ]
  },
  {
   "cell_type": "markdown",
   "id": "ec1535c9",
   "metadata": {
    "tags": [
     "papermill-error-cell-tag"
    ]
   },
   "source": [
    "<span id=\"papermill-error-cell\" style=\"color:red; font-family:Helvetica Neue, Helvetica, Arial, sans-serif; font-size:2em;\">Execution using papermill encountered an exception here and stopped:</span>"
   ]
  },
  {
   "cell_type": "code",
   "execution_count": 12,
   "id": "8017bb12",
   "metadata": {
    "execution": {
     "iopub.execute_input": "2021-05-28T18:18:05.959702Z",
     "iopub.status.busy": "2021-05-28T18:18:05.958701Z",
     "iopub.status.idle": "2021-05-28T18:18:06.173519Z",
     "shell.execute_reply": "2021-05-28T18:18:06.167290Z"
    },
    "papermill": {
     "duration": 0.484167,
     "end_time": "2021-05-28T18:18:06.173519",
     "exception": true,
     "start_time": "2021-05-28T18:18:05.689352",
     "status": "failed"
    },
    "pycharm": {
     "is_executing": true,
     "name": "#%%\n"
    },
    "tags": []
   },
   "outputs": [
    {
     "ename": "NameError",
     "evalue": "name 'euro' is not defined",
     "output_type": "error",
     "traceback": [
      "\u001b[1;31m---------------------------------------------------------------------------\u001b[0m",
      "\u001b[1;31mNameError\u001b[0m                                 Traceback (most recent call last)",
      "\u001b[1;32m<ipython-input-12-1f193b2287a8>\u001b[0m in \u001b[0;36m<module>\u001b[1;34m\u001b[0m\n\u001b[0;32m      1\u001b[0m \u001b[1;31m# create DataFrame of unique currencies with rates\u001b[0m\u001b[1;33m\u001b[0m\u001b[1;33m\u001b[0m\u001b[1;33m\u001b[0m\u001b[0m\n\u001b[0;32m      2\u001b[0m \u001b[1;33m\u001b[0m\u001b[0m\n\u001b[1;32m----> 3\u001b[1;33m \u001b[0mfx_uni\u001b[0m \u001b[1;33m=\u001b[0m \u001b[0meuro\u001b[0m\u001b[1;33m[\u001b[0m\u001b[1;33m[\u001b[0m\u001b[1;34m'CURR_CODE'\u001b[0m\u001b[1;33m,\u001b[0m\u001b[1;34m'RATE'\u001b[0m\u001b[1;33m]\u001b[0m\u001b[1;33m]\u001b[0m\u001b[1;33m\u001b[0m\u001b[1;33m\u001b[0m\u001b[0m\n\u001b[0m\u001b[0;32m      4\u001b[0m \u001b[0mfx_uni\u001b[0m \u001b[1;33m=\u001b[0m \u001b[0mfx_uni\u001b[0m\u001b[1;33m.\u001b[0m\u001b[0mdrop_duplicates\u001b[0m\u001b[1;33m(\u001b[0m\u001b[1;33m)\u001b[0m\u001b[1;33m\u001b[0m\u001b[1;33m\u001b[0m\u001b[0m\n",
      "\u001b[1;31mNameError\u001b[0m: name 'euro' is not defined"
     ]
    }
   ],
   "source": [
    "# create DataFrame of unique currencies with rates\n",
    "\n",
    "fx_uni = euro[['CURR_CODE','RATE']]\n",
    "fx_uni = fx_uni.drop_duplicates()"
   ]
  },
  {
   "cell_type": "code",
   "execution_count": null,
   "id": "0a8235fb",
   "metadata": {
    "papermill": {
     "duration": null,
     "end_time": null,
     "exception": null,
     "start_time": null,
     "status": "pending"
    },
    "pycharm": {
     "is_executing": true,
     "name": "#%%\n"
    },
    "tags": []
   },
   "outputs": [],
   "source": [
    "# add euro conversion rates to trandata DataFrame as column 'eur_rate'\n",
    "\n",
    "eurdata = pd.merge(trandata['currency'], fx_uni, left_on='currency', right_on='CURR_CODE', how='left')\n",
    "\n",
    "trandata['eur_rate'] = eurdata['RATE']"
   ]
  },
  {
   "cell_type": "markdown",
   "id": "bc6024d8",
   "metadata": {
    "papermill": {
     "duration": null,
     "end_time": null,
     "exception": null,
     "start_time": null,
     "status": "pending"
    },
    "tags": []
   },
   "source": [
    "#### Convert currency fields"
   ]
  },
  {
   "cell_type": "code",
   "execution_count": null,
   "id": "011d5be5",
   "metadata": {
    "papermill": {
     "duration": null,
     "end_time": null,
     "exception": null,
     "start_time": null,
     "status": "pending"
    },
    "pycharm": {
     "is_executing": true,
     "name": "#%%\n"
    },
    "tags": []
   },
   "outputs": [],
   "source": [
    "try:\n",
    "    trandata[cflds] = trandata[cflds].divide(trandata['eur_rate'], axis=\"index\").fillna(0)\n",
    "\n",
    "except KeyError:\n",
    "    trandata[alt_cflds] = trandata[alt_cflds].divide(trandata['eur_rate'], axis=\"index\").fillna(0)\n",
    "\n",
    "    "
   ]
  },
  {
   "cell_type": "markdown",
   "id": "4215b12e",
   "metadata": {
    "papermill": {
     "duration": null,
     "end_time": null,
     "exception": null,
     "start_time": null,
     "status": "pending"
    },
    "tags": []
   },
   "source": [
    "#### Output to {percode}.euroconv.csv"
   ]
  },
  {
   "cell_type": "code",
   "execution_count": null,
   "id": "16435996",
   "metadata": {
    "papermill": {
     "duration": null,
     "end_time": null,
     "exception": null,
     "start_time": null,
     "status": "pending"
    },
    "pycharm": {
     "is_executing": true,
     "name": "#%%\n"
    },
    "tags": []
   },
   "outputs": [],
   "source": [
    "trandata.to_csv( os.path.join(   rt_path , euro_file) , ',', index=False, encoding='utf-8-sig')\n"
   ]
  },
  {
   "cell_type": "code",
   "execution_count": null,
   "id": "5e4f92ba",
   "metadata": {
    "papermill": {
     "duration": null,
     "end_time": null,
     "exception": null,
     "start_time": null,
     "status": "pending"
    },
    "tags": []
   },
   "outputs": [],
   "source": [
    "#### Store the DataFrame for other notebooks to use and open the file location for the user to view the new files"
   ]
  },
  {
   "cell_type": "code",
   "execution_count": null,
   "id": "ec8e0a3c",
   "metadata": {
    "papermill": {
     "duration": null,
     "end_time": null,
     "exception": null,
     "start_time": null,
     "status": "pending"
    },
    "tags": []
   },
   "outputs": [],
   "source": [
    "mo_df = trandata\n",
    "\n",
    "%store mo_df\n",
    "\n",
    "\n",
    "os.startfile( rt_path   )\n",
    "\n"
   ]
  },
  {
   "cell_type": "code",
   "execution_count": null,
   "id": "d48b2dcc",
   "metadata": {
    "papermill": {
     "duration": null,
     "end_time": null,
     "exception": null,
     "start_time": null,
     "status": "pending"
    },
    "tags": []
   },
   "outputs": [],
   "source": []
  }
 ],
 "metadata": {
  "celltoolbar": "Tags",
  "kernelspec": {
   "display_name": "Python 3",
   "language": "python",
   "name": "python3"
  },
  "language_info": {
   "codemirror_mode": {
    "name": "ipython",
    "version": 3
   },
   "file_extension": ".py",
   "mimetype": "text/x-python",
   "name": "python",
   "nbconvert_exporter": "python",
   "pygments_lexer": "ipython3",
   "version": "3.7.6"
  },
  "papermill": {
   "default_parameters": {},
   "duration": 36.675144,
   "end_time": "2021-05-28T18:18:07.769173",
   "environment_variables": {},
   "exception": true,
   "input_path": "pipeline/make_output.ipynb",
   "output_path": "//hecate/Insurance_US/Product Development/Product Management/Global PPM/Reporting/Data Collection/Pipeline Reporting Scripts/GPMpipeline/instances/2021.Q1\\pipeline\\make_output05282021135440--Demo.ipynb",
   "parameters": {
    "commit_message": "Demo Test",
    "inst_datetime": "05282021135440",
    "percode": "2021.Q1",
    "run_control": 1
   },
   "start_time": "2021-05-28T18:17:31.094029",
   "version": "2.3.3"
  }
 },
 "nbformat": 4,
 "nbformat_minor": 5
}