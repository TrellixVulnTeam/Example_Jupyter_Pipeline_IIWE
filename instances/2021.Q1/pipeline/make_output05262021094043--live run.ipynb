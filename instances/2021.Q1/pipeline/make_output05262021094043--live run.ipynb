{
 "cells": [
  {
   "cell_type": "markdown",
   "id": "0852007d",
   "metadata": {
    "papermill": {
     "duration": 0.396712,
     "end_time": "2021-05-26T13:49:16.051992",
     "exception": false,
     "start_time": "2021-05-26T13:49:15.655280",
     "status": "completed"
    },
    "pycharm": {
     "name": "#%% md\n"
    },
    "tags": []
   },
   "source": [
    "<img src=\"../images/AzPTravel_PPM.png\">"
   ]
  },
  {
   "cell_type": "markdown",
   "id": "7c412c50",
   "metadata": {
    "papermill": {
     "duration": 1.024504,
     "end_time": "2021-05-26T13:49:18.042569",
     "exception": false,
     "start_time": "2021-05-26T13:49:17.018065",
     "status": "completed"
    },
    "tags": []
   },
   "source": [
    "## GPM Pipeline Output maker\n",
    "\n",
    "#### This script\n",
    "- loads the transformed parquet file\n",
    "- creates the file {parquet}.localcur.csv\n",
    "- makes the Euro conversions\n",
    "- outputs {parquet}.euroconv.csv\n"
   ]
  },
  {
   "cell_type": "markdown",
   "id": "2c818e8b",
   "metadata": {
    "papermill": {
     "duration": 1.051064,
     "end_time": "2021-05-26T13:49:20.077382",
     "exception": false,
     "start_time": "2021-05-26T13:49:19.026318",
     "status": "completed"
    },
    "tags": []
   },
   "source": [
    "#### Parameters section"
   ]
  },
  {
   "cell_type": "code",
   "execution_count": 1,
   "id": "4ffd6160",
   "metadata": {
    "execution": {
     "iopub.execute_input": "2021-05-26T13:49:21.809620Z",
     "iopub.status.busy": "2021-05-26T13:49:21.790624Z",
     "iopub.status.idle": "2021-05-26T13:49:21.813625Z",
     "shell.execute_reply": "2021-05-26T13:49:22.050731Z"
    },
    "papermill": {
     "duration": 0.970125,
     "end_time": "2021-05-26T13:49:22.058687",
     "exception": false,
     "start_time": "2021-05-26T13:49:21.088562",
     "status": "completed"
    },
    "pycharm": {
     "name": "#%%\n"
    },
    "tags": [
     "parameters"
    ]
   },
   "outputs": [],
   "source": [
    "commit = \"\"\n",
    "# give a reason for the run\n",
    "\n",
    "percode = \"20XX.QX\"\n",
    "# Data Collection Code, this controls file paths and output names\n",
    "\n",
    "run_type = 1\n",
    "#run_type =  0 - lite run with no reporting, not recommended.\n",
    "#run_type =  1 - lite run with normal reporting, default setting.\n",
    "#run_type =  2 - Heavy run with full reporting, available for audits and troubleshooting.\n",
    "\n",
    "specialchars = \"-GTHtest\"\n",
    "# optional - add up to a 12 character code in order to mark your instance record .ipynb\n",
    "\n",
    "from datetime import datetime\n",
    "inst_datetime = datetime.now().strftime(\"%m%d%Y%H%M%S\")\n",
    "# a single datetime stamp for the full instance run\n"
   ]
  },
  {
   "cell_type": "code",
   "execution_count": 2,
   "id": "c538bad5",
   "metadata": {
    "execution": {
     "iopub.execute_input": "2021-05-26T13:49:23.431212Z",
     "iopub.status.busy": "2021-05-26T13:49:23.425276Z",
     "iopub.status.idle": "2021-05-26T13:49:23.443199Z",
     "shell.execute_reply": "2021-05-26T13:49:23.448252Z"
    },
    "papermill": {
     "duration": 0.533233,
     "end_time": "2021-05-26T13:49:23.449201",
     "exception": false,
     "start_time": "2021-05-26T13:49:22.915968",
     "status": "completed"
    },
    "tags": [
     "injected-parameters"
    ]
   },
   "outputs": [],
   "source": [
    "# Parameters\n",
    "run_control = 1\n",
    "percode = \"2021.Q1\"\n",
    "commit_message = \"Used the old AU file. Replaced, running again.\"\n",
    "inst_datetime = \"05262021094043\"\n"
   ]
  },
  {
   "cell_type": "markdown",
   "id": "13003b9b",
   "metadata": {
    "papermill": {
     "duration": 1.288412,
     "end_time": "2021-05-26T13:49:25.830047",
     "exception": false,
     "start_time": "2021-05-26T13:49:24.541635",
     "status": "completed"
    },
    "tags": []
   },
   "source": [
    "### Set Run Control\n",
    "\n",
    "##### 0 - lite run with no reporting, not recommended.\n",
    "##### 1 - lite run with normal reporting, default setting.\n",
    "##### 2 - Heavy run with full reporting, available for audits and troubleshooting."
   ]
  },
  {
   "cell_type": "code",
   "execution_count": 3,
   "id": "79ac5e0b",
   "metadata": {
    "execution": {
     "iopub.execute_input": "2021-05-26T13:49:27.704305Z",
     "iopub.status.busy": "2021-05-26T13:49:27.702297Z",
     "iopub.status.idle": "2021-05-26T13:49:27.710308Z",
     "shell.execute_reply": "2021-05-26T13:49:27.712312Z"
    },
    "papermill": {
     "duration": 0.672023,
     "end_time": "2021-05-26T13:49:27.713301",
     "exception": false,
     "start_time": "2021-05-26T13:49:27.041278",
     "status": "completed"
    },
    "pycharm": {
     "name": "#%%\n"
    },
    "tags": []
   },
   "outputs": [],
   "source": [
    "run_control = 0 # in development mode"
   ]
  },
  {
   "cell_type": "markdown",
   "id": "eae20e3f",
   "metadata": {
    "papermill": {
     "duration": 0.809848,
     "end_time": "2021-05-26T13:49:29.661836",
     "exception": false,
     "start_time": "2021-05-26T13:49:28.851988",
     "status": "completed"
    },
    "tags": []
   },
   "source": [
    "#### Packages used"
   ]
  },
  {
   "cell_type": "code",
   "execution_count": 4,
   "id": "84e12e18",
   "metadata": {
    "execution": {
     "iopub.execute_input": "2021-05-26T13:49:30.887792Z",
     "iopub.status.busy": "2021-05-26T13:49:30.879800Z",
     "iopub.status.idle": "2021-05-26T13:49:37.718388Z",
     "shell.execute_reply": "2021-05-26T13:49:37.723393Z"
    },
    "papermill": {
     "duration": 7.462382,
     "end_time": "2021-05-26T13:49:37.724391",
     "exception": false,
     "start_time": "2021-05-26T13:49:30.262009",
     "status": "completed"
    },
    "pycharm": {
     "name": "#%%\n"
    },
    "tags": []
   },
   "outputs": [],
   "source": [
    "import sys\n",
    "import os\n",
    "import pandas as pd"
   ]
  },
  {
   "cell_type": "code",
   "execution_count": 5,
   "id": "628b5f4a",
   "metadata": {
    "execution": {
     "iopub.execute_input": "2021-05-26T13:49:38.619940Z",
     "iopub.status.busy": "2021-05-26T13:49:38.614930Z",
     "iopub.status.idle": "2021-05-26T13:49:38.621926Z",
     "shell.execute_reply": "2021-05-26T13:49:38.622928Z"
    },
    "papermill": {
     "duration": 0.527999,
     "end_time": "2021-05-26T13:49:38.623930",
     "exception": false,
     "start_time": "2021-05-26T13:49:38.095931",
     "status": "completed"
    },
    "pycharm": {
     "name": "#%%\n"
    },
    "tags": []
   },
   "outputs": [],
   "source": [
    "default_DC = \"2021.Q1\"\n",
    "\n",
    "try:\n",
    "    if sys.argv[1] == \"-f\":\n",
    "        percode = default_DC\n",
    "    else:\n",
    "        percode = sys.argv[1]\n",
    "\n",
    "except IndexError:\n",
    "    percode = default_DC\n",
    "except NameError:\n",
    "    percode = default_DC"
   ]
  },
  {
   "cell_type": "markdown",
   "id": "1b2ceed4",
   "metadata": {
    "papermill": {
     "duration": 0.744328,
     "end_time": "2021-05-26T13:49:39.924430",
     "exception": false,
     "start_time": "2021-05-26T13:49:39.180102",
     "status": "completed"
    },
    "tags": []
   },
   "source": [
    "#### Convert paths and files to variables.\n",
    "#### Read data into pd DataFrames.\n",
    "#### Make paths for the live sources."
   ]
  },
  {
   "cell_type": "code",
   "execution_count": 6,
   "id": "deccc8a7",
   "metadata": {
    "execution": {
     "iopub.execute_input": "2021-05-26T13:49:41.752375Z",
     "iopub.status.busy": "2021-05-26T13:49:41.746375Z",
     "iopub.status.idle": "2021-05-26T13:49:41.758381Z",
     "shell.execute_reply": "2021-05-26T13:49:41.760377Z"
    },
    "papermill": {
     "duration": 0.703993,
     "end_time": "2021-05-26T13:49:41.760377",
     "exception": false,
     "start_time": "2021-05-26T13:49:41.056384",
     "status": "completed"
    },
    "pycharm": {
     "name": "#%%\n"
    },
    "tags": []
   },
   "outputs": [],
   "source": [
    "rt_path = f'//hecate/Insurance_US/Product Development/Product Manag' \\\n",
    "          f'ement/Global PPM/Reporting/Data Collection/Production/{str(percode)}'\n",
    "tempfile = os.path.join(rt_path, f'{str(percode)}.localcur.parquet')\n",
    "gppm_file = os.path.join(rt_path, f'GPPM_Input_{str(percode)}.xlsx')"
   ]
  },
  {
   "cell_type": "markdown",
   "id": "2b5e61e0",
   "metadata": {
    "papermill": {
     "duration": 0.789683,
     "end_time": "2021-05-26T13:49:43.246211",
     "exception": false,
     "start_time": "2021-05-26T13:49:42.456528",
     "status": "completed"
    },
    "tags": []
   },
   "source": [
    "#### Read source"
   ]
  },
  {
   "cell_type": "code",
   "execution_count": 7,
   "id": "ac1ff0c2",
   "metadata": {
    "execution": {
     "iopub.execute_input": "2021-05-26T13:49:44.864214Z",
     "iopub.status.busy": "2021-05-26T13:49:44.856204Z",
     "iopub.status.idle": "2021-05-26T13:49:51.844395Z",
     "shell.execute_reply": "2021-05-26T13:49:51.846394Z"
    },
    "papermill": {
     "duration": 7.573719,
     "end_time": "2021-05-26T13:49:51.846394",
     "exception": false,
     "start_time": "2021-05-26T13:49:44.272675",
     "status": "completed"
    },
    "pycharm": {
     "name": "#%%\n"
    },
    "tags": []
   },
   "outputs": [
    {
     "name": "stdout",
     "output_type": "stream",
     "text": [
      "     business_unit                   submission_file country currency  \\\n",
      "0               CA  us_dat_ca_05202021134242.parquet      CA      CAD   \n",
      "1               CA  us_dat_ca_05202021134242.parquet      CA      CAD   \n",
      "2               CA  us_dat_ca_05202021134242.parquet      CA      CAD   \n",
      "3               CA  us_dat_ca_05202021134242.parquet      CA      CAD   \n",
      "4               CA  us_dat_ca_05202021134242.parquet      CA      CAD   \n",
      "...            ...                               ...     ...      ...   \n",
      "1914            PT  us_dat_pt_05202021121056.parquet      PT      EUR   \n",
      "1915            PT  us_dat_pt_05202021121056.parquet      PT      EUR   \n",
      "1916            PT  us_dat_pt_05202021121056.parquet      PT      EUR   \n",
      "1917            PT  us_dat_pt_05202021121056.parquet      PT      EUR   \n",
      "1918            PT  us_dat_pt_05202021121056.parquet      PT      EUR   \n",
      "\n",
      "                           region reporting_date_from reporting_date_to  \\\n",
      "0                   North America          2021-01-01        2021-03-31   \n",
      "1                   North America          2021-01-01        2021-03-31   \n",
      "2                   North America          2021-01-01        2021-03-31   \n",
      "3                   North America          2021-01-01        2021-03-31   \n",
      "4                   North America          2021-01-01        2021-03-31   \n",
      "...                           ...                 ...               ...   \n",
      "1914  Western Europe, LATAM & MEA          2021-01-01        2021-03-31   \n",
      "1915  Western Europe, LATAM & MEA          2021-01-01        2021-03-31   \n",
      "1916  Western Europe, LATAM & MEA          2021-01-01        2021-03-31   \n",
      "1917  Western Europe, LATAM & MEA          2021-01-01        2021-03-31   \n",
      "1918  Western Europe, LATAM & MEA          2021-01-01        2021-03-31   \n",
      "\n",
      "     date_of_analysis type_of_analysis  analysed_months  ...     expsub  \\\n",
      "0          2021-05-16     Year To Date                3  ...   0.501000   \n",
      "1          2021-05-16     Year To Date                3  ...   0.117500   \n",
      "2          2021-05-16     Year To Date                3  ...   0.328200   \n",
      "3          2021-05-16     Year To Date                3  ...   0.209300   \n",
      "4          2021-05-16     Year To Date                3  ...   0.205723   \n",
      "...               ...              ...              ...  ...        ...   \n",
      "1914       2021-03-31     Year To Date                3  ...   0.538397   \n",
      "1915       2021-03-31     Year To Date                3  ...   0.426832   \n",
      "1916       2021-03-31     Year To Date                3  ...  18.673326   \n",
      "1917       2021-03-31     Year To Date                3  ...   0.859278   \n",
      "1918       2021-03-31     Year To Date                3  ...   1.023709   \n",
      "\n",
      "       ibnrsub  reporting_date_to_int date_of_analysis_int  \\\n",
      "0    -0.348378               20210331             20210516   \n",
      "1    -0.348378               20210331             20210516   \n",
      "2    -0.348378               20210331             20210516   \n",
      "3    -0.348378               20210331             20210516   \n",
      "4    -0.348378               20210331             20210516   \n",
      "...        ...                    ...                  ...   \n",
      "1914  0.000000               20210331             20210331   \n",
      "1915  0.000000               20210331             20210331   \n",
      "1916  0.000000               20210331             20210331   \n",
      "1917  0.000000               20210331             20210331   \n",
      "1918  0.000000               20210331             20210331   \n",
      "\n",
      "                         selected_fields_for_duplicates   rep_date  \\\n",
      "0     CAInsuranceLocalB2B2CTravelBanks / Credit Card... 2021-03-31   \n",
      "1     CAInsuranceGlobal - FOSB2CTravelEventTICKETMASTER 2021-03-31   \n",
      "2            CAInsuranceGlobal - FOSB2CTravelEventOther 2021-03-31   \n",
      "3     CAInsuranceLocalB2B2CTravelOffline Travel Agen... 2021-03-31   \n",
      "4     CAInsuranceLocalB2B2CTravelOffline Travel Agen... 2021-03-31   \n",
      "...                                                 ...        ...   \n",
      "1914  PTReinsuranceLocalB2B2CTravelDirect (Allianz P... 2021-03-31   \n",
      "1915  PTReinsuranceLocalB2B2CTravelDirect (Allianz P... 2021-03-31   \n",
      "1916  PTReinsuranceLocalB2B2CTravelDirect (Allianz P... 2021-03-31   \n",
      "1917  PTReinsuranceLocalB2B2CTravelDirect (Allianz P... 2021-03-31   \n",
      "1918  PTReinsuranceLocalB2BTravelDirect (Allianz Par... 2021-03-31   \n",
      "\n",
      "     __index_level_0__  bu_descr month_of_analysis_max      reporting_period  \n",
      "0                    0    Canada              2021 May  2021 Jan to 2021 Mar  \n",
      "1                    1    Canada              2021 May  2021 Jan to 2021 Mar  \n",
      "2                    2    Canada              2021 May  2021 Jan to 2021 Mar  \n",
      "3                    3    Canada              2021 May  2021 Jan to 2021 Mar  \n",
      "4                    4    Canada              2021 May  2021 Jan to 2021 Mar  \n",
      "...                ...       ...                   ...                   ...  \n",
      "1914              3415  Portugal              2021 Mar  2021 Jan to 2021 Mar  \n",
      "1915              3416  Portugal              2021 Mar  2021 Jan to 2021 Mar  \n",
      "1916              3417  Portugal              2021 Mar  2021 Jan to 2021 Mar  \n",
      "1917              3418  Portugal              2021 Mar  2021 Jan to 2021 Mar  \n",
      "1918              3419  Portugal              2021 Mar  2021 Jan to 2021 Mar  \n",
      "\n",
      "[1919 rows x 81 columns]\n"
     ]
    }
   ],
   "source": [
    "mo_input = pd.read_parquet(tempfile, engine='pyarrow')\n",
    "\n",
    "print(mo_input)"
   ]
  },
  {
   "cell_type": "markdown",
   "id": "094df8ee",
   "metadata": {
    "papermill": {
     "duration": 0.390605,
     "end_time": "2021-05-26T13:49:52.596788",
     "exception": false,
     "start_time": "2021-05-26T13:49:52.206183",
     "status": "completed"
    },
    "tags": []
   },
   "source": [
    "#### Output local currency csv"
   ]
  },
  {
   "cell_type": "code",
   "execution_count": 8,
   "id": "abae8a20",
   "metadata": {
    "execution": {
     "iopub.execute_input": "2021-05-26T13:49:53.956707Z",
     "iopub.status.busy": "2021-05-26T13:49:53.953705Z",
     "iopub.status.idle": "2021-05-26T13:50:14.586077Z",
     "shell.execute_reply": "2021-05-26T13:50:14.588086Z"
    },
    "papermill": {
     "duration": 21.26162,
     "end_time": "2021-05-26T13:50:14.589071",
     "exception": false,
     "start_time": "2021-05-26T13:49:53.327451",
     "status": "completed"
    },
    "pycharm": {
     "is_executing": true,
     "name": "#%%\n"
    },
    "tags": []
   },
   "outputs": [],
   "source": [
    "mo_input.to_csv(f'//hecate/Insurance_US/Product Development/Product Management/Global PPM/Reporting/Data Collection/Production/{str(percode)}\\\\{str(percode)}.localcur.csv', ',', index=False, encoding='utf-8-sig')"
   ]
  },
  {
   "cell_type": "markdown",
   "id": "6c249539",
   "metadata": {
    "papermill": {
     "duration": 0.748465,
     "end_time": "2021-05-26T13:50:16.033133",
     "exception": false,
     "start_time": "2021-05-26T13:50:15.284668",
     "status": "completed"
    },
    "tags": []
   },
   "source": [
    "#### Convert all currency to Euro\n"
   ]
  },
  {
   "cell_type": "code",
   "execution_count": 9,
   "id": "d5bf7752",
   "metadata": {
    "execution": {
     "iopub.execute_input": "2021-05-26T13:50:17.816948Z",
     "iopub.status.busy": "2021-05-26T13:50:17.808905Z",
     "iopub.status.idle": "2021-05-26T13:50:22.198480Z",
     "shell.execute_reply": "2021-05-26T13:50:22.200495Z"
    },
    "papermill": {
     "duration": 5.167921,
     "end_time": "2021-05-26T13:50:22.201480",
     "exception": false,
     "start_time": "2021-05-26T13:50:17.033559",
     "status": "completed"
    },
    "pycharm": {
     "is_executing": true,
     "name": "#%%\n"
    },
    "tags": []
   },
   "outputs": [],
   "source": [
    "\n",
    "cflds = ['written_revenues_net_of_taxes', 'written_revenues', 'earned_revenues_net_of_taxes',\n",
    "         'earned_revenues', 'earned_base_commissions', 'earned_over_commissions', 'upfront_cash_payments',\n",
    "         'total_compensation', 'paid_claims', 'ocr__ibnr', 'actual_incurred_losses',\n",
    "         'internal_variable_costs', 'az_tech_fee', 'internal_fixed_costs',\n",
    "         'hq_fees', 'total_expenses', 'risk_premium', 'profit_or_loss', 'cm_hq_view', 'cm_bu_view', ]\n",
    "\n",
    "\n",
    "\"\"\"reads in the input for the Euro conversion\"\"\"\n",
    "euro = pd.read_excel(gppm_file, sheet_name=\"Euro_Rates\")\n"
   ]
  },
  {
   "cell_type": "markdown",
   "id": "3a43ff0c",
   "metadata": {
    "papermill": {
     "duration": 0.620268,
     "end_time": "2021-05-26T13:50:23.838624",
     "exception": false,
     "start_time": "2021-05-26T13:50:23.218356",
     "status": "completed"
    },
    "tags": []
   },
   "source": [
    "#### Make a copy for debug purposes"
   ]
  },
  {
   "cell_type": "code",
   "execution_count": 10,
   "id": "010413ef",
   "metadata": {
    "execution": {
     "iopub.execute_input": "2021-05-26T13:50:24.942337Z",
     "iopub.status.busy": "2021-05-26T13:50:24.940346Z",
     "iopub.status.idle": "2021-05-26T13:50:24.948349Z",
     "shell.execute_reply": "2021-05-26T13:50:24.951341Z"
    },
    "papermill": {
     "duration": 0.420975,
     "end_time": "2021-05-26T13:50:24.952340",
     "exception": false,
     "start_time": "2021-05-26T13:50:24.531365",
     "status": "completed"
    },
    "pycharm": {
     "is_executing": true,
     "name": "#%%\n"
    },
    "tags": []
   },
   "outputs": [],
   "source": [
    "trandata = mo_input.copy()"
   ]
  },
  {
   "cell_type": "markdown",
   "id": "52ecd674",
   "metadata": {
    "papermill": {
     "duration": 0.9065,
     "end_time": "2021-05-26T13:50:26.252192",
     "exception": false,
     "start_time": "2021-05-26T13:50:25.345692",
     "status": "completed"
    },
    "tags": []
   },
   "source": [
    "#### Convert Currency Below"
   ]
  },
  {
   "cell_type": "code",
   "execution_count": 11,
   "id": "80040c23",
   "metadata": {
    "execution": {
     "iopub.execute_input": "2021-05-26T13:50:27.884316Z",
     "iopub.status.busy": "2021-05-26T13:50:27.868790Z",
     "iopub.status.idle": "2021-05-26T13:50:27.917633Z",
     "shell.execute_reply": "2021-05-26T13:50:27.877332Z"
    },
    "papermill": {
     "duration": 0.92246,
     "end_time": "2021-05-26T13:50:27.918639",
     "exception": false,
     "start_time": "2021-05-26T13:50:26.996179",
     "status": "completed"
    },
    "pycharm": {
     "is_executing": true,
     "name": "#%%\n"
    },
    "tags": []
   },
   "outputs": [],
   "source": [
    "# create DataFrame of unique currencies with rates\n",
    "\n",
    "fx_uni = euro[['CURR_CODE','RATE']]\n",
    "fx_uni = fx_uni.drop_duplicates()"
   ]
  },
  {
   "cell_type": "code",
   "execution_count": 12,
   "id": "3d34499d",
   "metadata": {
    "execution": {
     "iopub.execute_input": "2021-05-26T13:50:29.233386Z",
     "iopub.status.busy": "2021-05-26T13:50:29.232385Z",
     "iopub.status.idle": "2021-05-26T13:50:29.252419Z",
     "shell.execute_reply": "2021-05-26T13:50:29.254428Z"
    },
    "papermill": {
     "duration": 0.438636,
     "end_time": "2021-05-26T13:50:29.254428",
     "exception": false,
     "start_time": "2021-05-26T13:50:28.815792",
     "status": "completed"
    },
    "pycharm": {
     "is_executing": true,
     "name": "#%%\n"
    },
    "tags": []
   },
   "outputs": [],
   "source": [
    "# add euro conversion rates to trandata DataFrame as column 'eur_rate'\n",
    "\n",
    "eurdata = pd.merge(trandata['currency'], fx_uni, left_on='currency', right_on='CURR_CODE', how='left')\n",
    "\n",
    "trandata['eur_rate'] = eurdata['RATE']"
   ]
  },
  {
   "cell_type": "markdown",
   "id": "c65c64e6",
   "metadata": {
    "papermill": {
     "duration": 0.729581,
     "end_time": "2021-05-26T13:50:30.460401",
     "exception": false,
     "start_time": "2021-05-26T13:50:29.730820",
     "status": "completed"
    },
    "tags": []
   },
   "source": [
    "#### Convert currency fields"
   ]
  },
  {
   "cell_type": "code",
   "execution_count": 13,
   "id": "48febee8",
   "metadata": {
    "execution": {
     "iopub.execute_input": "2021-05-26T13:50:31.419555Z",
     "iopub.status.busy": "2021-05-26T13:50:31.417559Z",
     "iopub.status.idle": "2021-05-26T13:50:33.404018Z",
     "shell.execute_reply": "2021-05-26T13:50:33.406018Z"
    },
    "papermill": {
     "duration": 2.505744,
     "end_time": "2021-05-26T13:50:33.406018",
     "exception": false,
     "start_time": "2021-05-26T13:50:30.900274",
     "status": "completed"
    },
    "pycharm": {
     "is_executing": true,
     "name": "#%%\n"
    },
    "tags": []
   },
   "outputs": [],
   "source": [
    "trandata[cflds] = trandata[cflds].divide(trandata['eur_rate'], axis=\"index\").fillna(0)\n"
   ]
  },
  {
   "cell_type": "markdown",
   "id": "fd2681c7",
   "metadata": {
    "papermill": {
     "duration": 1.073536,
     "end_time": "2021-05-26T13:50:35.307842",
     "exception": false,
     "start_time": "2021-05-26T13:50:34.234306",
     "status": "completed"
    },
    "tags": []
   },
   "source": [
    "#### Output to {percode}.euroconv.csv"
   ]
  },
  {
   "cell_type": "code",
   "execution_count": 14,
   "id": "331741c2",
   "metadata": {
    "execution": {
     "iopub.execute_input": "2021-05-26T13:50:37.272786Z",
     "iopub.status.busy": "2021-05-26T13:50:37.268797Z",
     "iopub.status.idle": "2021-05-26T13:50:55.378721Z",
     "shell.execute_reply": "2021-05-26T13:50:55.382795Z"
    },
    "papermill": {
     "duration": 18.866269,
     "end_time": "2021-05-26T13:50:55.383720",
     "exception": false,
     "start_time": "2021-05-26T13:50:36.517451",
     "status": "completed"
    },
    "pycharm": {
     "is_executing": true,
     "name": "#%%\n"
    },
    "tags": []
   },
   "outputs": [],
   "source": [
    "trandata.to_csv(f'//hecate/Insurance_US/Product Development/Product Management/Global PPM/Reporting/Data Collection/Production/{str(percode)}\\\\{str(percode)}.euroconv.csv', ',', index=False, encoding='utf-8-sig')\n",
    "\n",
    "\n"
   ]
  },
  {
   "cell_type": "markdown",
   "id": "b6eacbc0",
   "metadata": {
    "papermill": {
     "duration": 0.733155,
     "end_time": "2021-05-26T13:50:56.604574",
     "exception": false,
     "start_time": "2021-05-26T13:50:55.871419",
     "status": "completed"
    },
    "tags": []
   },
   "source": [
    "#### Store the DataFrame for other notebooks to use"
   ]
  },
  {
   "cell_type": "code",
   "execution_count": 15,
   "id": "6dc1eceb",
   "metadata": {
    "execution": {
     "iopub.execute_input": "2021-05-26T13:50:58.772495Z",
     "iopub.status.busy": "2021-05-26T13:50:58.762505Z",
     "iopub.status.idle": "2021-05-26T13:50:58.812491Z",
     "shell.execute_reply": "2021-05-26T13:50:58.814490Z"
    },
    "papermill": {
     "duration": 1.266708,
     "end_time": "2021-05-26T13:50:58.814490",
     "exception": false,
     "start_time": "2021-05-26T13:50:57.547782",
     "status": "completed"
    },
    "tags": []
   },
   "outputs": [
    {
     "name": "stdout",
     "output_type": "stream",
     "text": [
      "Stored 'mo_df' (DataFrame)\n"
     ]
    }
   ],
   "source": [
    "mo_df = trandata\n",
    "\n",
    "%store mo_df\n"
   ]
  }
 ],
 "metadata": {
  "celltoolbar": "Tags",
  "kernelspec": {
   "display_name": "Python 3",
   "language": "python",
   "name": "python3"
  },
  "language_info": {
   "codemirror_mode": {
    "name": "ipython",
    "version": 3
   },
   "file_extension": ".py",
   "mimetype": "text/x-python",
   "name": "python",
   "nbconvert_exporter": "python",
   "pygments_lexer": "ipython3",
   "version": "3.7.6"
  },
  "papermill": {
   "default_parameters": {},
   "duration": 131.052032,
   "end_time": "2021-05-26T13:51:02.086988",
   "environment_variables": {},
   "exception": null,
   "input_path": "pipeline/make_output.ipynb",
   "output_path": "//hecate/Insurance_US/Product Development/Product Management/Global PPM/Reporting/Data Collection/Pipeline Reporting Scripts/GPMpipeline/instances/2021.Q1\\pipeline\\make_output05262021094043--live run.ipynb",
   "parameters": {
    "commit_message": "Used the old AU file. Replaced, running again.",
    "inst_datetime": "05262021094043",
    "percode": "2021.Q1",
    "run_control": 1
   },
   "start_time": "2021-05-26T13:48:51.034956",
   "version": "2.3.3"
  }
 },
 "nbformat": 4,
 "nbformat_minor": 5
}