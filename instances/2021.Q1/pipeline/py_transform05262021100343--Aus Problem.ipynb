{
 "cells": [
  {
   "cell_type": "markdown",
   "id": "d8158a8b",
   "metadata": {
    "papermill": {
     "duration": 0.351483,
     "end_time": "2021-05-26T14:06:51.235153",
     "exception": false,
     "start_time": "2021-05-26T14:06:50.883670",
     "status": "completed"
    },
    "pycharm": {
     "name": "#%% md\n"
    },
    "tags": []
   },
   "source": [
    "<img src=\"../images/AzPTravel_PPM.png\">"
   ]
  },
  {
   "cell_type": "markdown",
   "id": "f8e91676",
   "metadata": {
    "collapsed": true,
    "papermill": {
     "duration": 0.497949,
     "end_time": "2021-05-26T14:06:52.077124",
     "exception": false,
     "start_time": "2021-05-26T14:06:51.579175",
     "status": "completed"
    },
    "pycharm": {
     "name": "#%% md\n"
    },
    "tags": []
   },
   "source": [
    "## GPM Data Transformation Script\n",
    "\n",
    "#### This script transforms the single consolidated raw file \"{Data Collection}.csv\" into it's final GPM input versions \"{Data Collection Code}localcur.csv\" and \"{Data Collection Code}euroconv.csv\"\n",
    "#### Current transformations\n",
    "\n",
    "-    make headers lowercase and replace spaces with hyphens\n",
    "-    Remove any rows with null BUs\n",
    "-    validate columns in validcols\n",
    "-    output documented here: \"Global_Attribute_Catalog.xlsx\" you can also edit dataframe entries using the instructions in the file\n",
    "-    replace various null or placeholder values with \"Not Provided\"\n"
   ]
  },
  {
   "cell_type": "markdown",
   "id": "a4d9f224",
   "metadata": {
    "papermill": {
     "duration": 0.541598,
     "end_time": "2021-05-26T14:06:53.159789",
     "exception": false,
     "start_time": "2021-05-26T14:06:52.618191",
     "status": "completed"
    },
    "tags": []
   },
   "source": [
    "###"
   ]
  },
  {
   "cell_type": "code",
   "execution_count": 1,
   "id": "256f8bdd",
   "metadata": {
    "execution": {
     "iopub.execute_input": "2021-05-26T14:06:54.322583Z",
     "iopub.status.busy": "2021-05-26T14:06:54.311499Z",
     "iopub.status.idle": "2021-05-26T14:06:54.326105Z",
     "shell.execute_reply": "2021-05-26T14:06:54.347115Z"
    },
    "papermill": {
     "duration": 0.614305,
     "end_time": "2021-05-26T14:06:54.347115",
     "exception": false,
     "start_time": "2021-05-26T14:06:53.732810",
     "status": "completed"
    },
    "pycharm": {
     "name": "#%%\n"
    },
    "tags": [
     "parameters"
    ]
   },
   "outputs": [],
   "source": [
    "commit = \"\"\n",
    "# give a reason for the run\n",
    "\n",
    "percode = \"20XX.QX\"\n",
    "# Data Collection Code, this controls file paths and output names\n",
    "\n",
    "run_type = 1\n",
    "#run_type =  0 - lite run with no reporting, not recommended.\n",
    "#run_type =  1 - lite run with normal reporting, default setting.\n",
    "#run_type =  2 - Heavy run with full reporting, available for audits and troubleshooting.\n",
    "\n",
    "specialchars = \"-GTHtest\"\n",
    "# optional - add up to a 12 character code in order to mark your instance record .ipynb\n",
    "\n",
    "from datetime import datetime\n",
    "inst_datetime = datetime.now().strftime(\"%m%d%Y%H%M%S\")\n",
    "# a single datetime stamp for the full instance run\n"
   ]
  },
  {
   "cell_type": "code",
   "execution_count": 2,
   "id": "8e098f9d",
   "metadata": {
    "execution": {
     "iopub.execute_input": "2021-05-26T14:06:55.674253Z",
     "iopub.status.busy": "2021-05-26T14:06:55.672256Z",
     "iopub.status.idle": "2021-05-26T14:06:55.684257Z",
     "shell.execute_reply": "2021-05-26T14:06:55.687255Z"
    },
    "papermill": {
     "duration": 0.771715,
     "end_time": "2021-05-26T14:06:55.688258",
     "exception": false,
     "start_time": "2021-05-26T14:06:54.916543",
     "status": "completed"
    },
    "tags": [
     "injected-parameters"
    ]
   },
   "outputs": [],
   "source": [
    "# Parameters\n",
    "run_control = 1\n",
    "percode = \"2021.Q1\"\n",
    "commit_message = \"New AUS needed to be converted from json\"\n",
    "inst_datetime = \"05262021100343\"\n"
   ]
  },
  {
   "cell_type": "markdown",
   "id": "57cd5cda",
   "metadata": {
    "papermill": {
     "duration": 0.515312,
     "end_time": "2021-05-26T14:06:56.646596",
     "exception": false,
     "start_time": "2021-05-26T14:06:56.131284",
     "status": "completed"
    },
    "tags": []
   },
   "source": [
    "### Set Run Control\n",
    "\n",
    "##### 0 - lite run with no reporting, not recommended.\n",
    "##### 1 - lite run with normal reporting, default setting.\n",
    "##### 2 - Heavy run with full reporting, available for audits and troubleshooting."
   ]
  },
  {
   "cell_type": "code",
   "execution_count": 3,
   "id": "0f42c87f",
   "metadata": {
    "execution": {
     "iopub.execute_input": "2021-05-26T14:06:58.946619Z",
     "iopub.status.busy": "2021-05-26T14:06:58.940647Z",
     "iopub.status.idle": "2021-05-26T14:06:58.957624Z",
     "shell.execute_reply": "2021-05-26T14:06:58.958624Z"
    },
    "papermill": {
     "duration": 0.743954,
     "end_time": "2021-05-26T14:06:58.959624",
     "exception": false,
     "start_time": "2021-05-26T14:06:58.215670",
     "status": "completed"
    },
    "pycharm": {
     "name": "#%%\n"
    },
    "tags": []
   },
   "outputs": [],
   "source": [
    "run_control = 0  # in development mode"
   ]
  },
  {
   "cell_type": "code",
   "execution_count": 4,
   "id": "caeeaae8",
   "metadata": {
    "execution": {
     "iopub.execute_input": "2021-05-26T14:06:59.736468Z",
     "iopub.status.busy": "2021-05-26T14:06:59.732487Z",
     "iopub.status.idle": "2021-05-26T14:07:03.628736Z",
     "shell.execute_reply": "2021-05-26T14:07:03.630734Z"
    },
    "papermill": {
     "duration": 4.308384,
     "end_time": "2021-05-26T14:07:03.631738",
     "exception": false,
     "start_time": "2021-05-26T14:06:59.323354",
     "status": "completed"
    },
    "pycharm": {
     "name": "#%%\n"
    },
    "tags": []
   },
   "outputs": [],
   "source": [
    "#### Packages used\n",
    "import sys\n",
    "import os\n",
    "import pandas as pd\n",
    "from pandas import ExcelWriter\n",
    "from numpy import nan"
   ]
  },
  {
   "cell_type": "code",
   "execution_count": 5,
   "id": "51782e7c",
   "metadata": {
    "execution": {
     "iopub.execute_input": "2021-05-26T14:07:04.562108Z",
     "iopub.status.busy": "2021-05-26T14:07:04.556105Z",
     "iopub.status.idle": "2021-05-26T14:07:04.568110Z",
     "shell.execute_reply": "2021-05-26T14:07:04.569105Z"
    },
    "papermill": {
     "duration": 0.373328,
     "end_time": "2021-05-26T14:07:04.570107",
     "exception": false,
     "start_time": "2021-05-26T14:07:04.196779",
     "status": "completed"
    },
    "pycharm": {
     "name": "#%%\n"
    },
    "tags": []
   },
   "outputs": [],
   "source": [
    "default_dc = \"2021.Q1\"\n",
    "\n",
    "try:\n",
    "    if sys.argv[1] == \"-f\":\n",
    "        percode = default_dc\n",
    "    else:\n",
    "        percode = sys.argv[1]\n",
    "\n",
    "except IndexError:\n",
    "    percode = default_dc\n",
    "except NameError:\n",
    "    percode = default_dc"
   ]
  },
  {
   "cell_type": "markdown",
   "id": "161e68ae",
   "metadata": {
    "papermill": {
     "duration": 0.369347,
     "end_time": "2021-05-26T14:07:05.267587",
     "exception": false,
     "start_time": "2021-05-26T14:07:04.898240",
     "status": "completed"
    },
    "tags": []
   },
   "source": [
    "#### style settings"
   ]
  },
  {
   "cell_type": "code",
   "execution_count": 6,
   "id": "0b79a21a",
   "metadata": {
    "execution": {
     "iopub.execute_input": "2021-05-26T14:07:06.133474Z",
     "iopub.status.busy": "2021-05-26T14:07:06.127462Z",
     "iopub.status.idle": "2021-05-26T14:07:06.139464Z",
     "shell.execute_reply": "2021-05-26T14:07:06.140464Z"
    },
    "papermill": {
     "duration": 0.446166,
     "end_time": "2021-05-26T14:07:06.140464",
     "exception": false,
     "start_time": "2021-05-26T14:07:05.694298",
     "status": "completed"
    },
    "tags": []
   },
   "outputs": [],
   "source": [
    "from IPython.core.interactiveshell import InteractiveShell\n",
    "InteractiveShell.ast_node_interactivity = \"all\""
   ]
  },
  {
   "cell_type": "markdown",
   "id": "34d0d4d5",
   "metadata": {
    "papermill": {
     "duration": 0.366999,
     "end_time": "2021-05-26T14:07:06.838367",
     "exception": false,
     "start_time": "2021-05-26T14:07:06.471368",
     "status": "completed"
    },
    "tags": []
   },
   "source": [
    "#### Convert paths and files to variables.\n",
    "#### Read data into pd DataFrames.\n",
    "#### Make paths for the live sources."
   ]
  },
  {
   "cell_type": "code",
   "execution_count": 7,
   "id": "31236b7f",
   "metadata": {
    "execution": {
     "iopub.execute_input": "2021-05-26T14:07:07.758674Z",
     "iopub.status.busy": "2021-05-26T14:07:07.750669Z",
     "iopub.status.idle": "2021-05-26T14:07:07.767675Z",
     "shell.execute_reply": "2021-05-26T14:07:07.769672Z"
    },
    "papermill": {
     "duration": 0.398615,
     "end_time": "2021-05-26T14:07:07.770672",
     "exception": false,
     "start_time": "2021-05-26T14:07:07.372057",
     "status": "completed"
    },
    "pycharm": {
     "name": "#%%\n"
    },
    "tags": []
   },
   "outputs": [],
   "source": [
    "rt_path = os.path.join( f'\\\\\\\\hecate\\\\Insurance_US\\\\Product Development\\\\Product Management\\\\Global PPM\\\\Reporting\\\\Data Collection\\\\Production',percode)\n",
    "\n",
    "infile = os.path.join(rt_path, f'{str(percode)}.parquet')\n",
    "gppm_file = os.path.join(rt_path, f'GPPM_Input_{str(percode)}.xlsx')\n",
    "atcat = os.path.join(rt_path, f'{percode}_Attribute_Catalog.xlsx')\n"
   ]
  },
  {
   "cell_type": "code",
   "execution_count": 8,
   "id": "a4f43d48",
   "metadata": {
    "execution": {
     "iopub.execute_input": "2021-05-26T14:07:08.689141Z",
     "iopub.status.busy": "2021-05-26T14:07:08.687160Z",
     "iopub.status.idle": "2021-05-26T14:07:08.696142Z",
     "shell.execute_reply": "2021-05-26T14:07:08.698148Z"
    },
    "papermill": {
     "duration": 0.449778,
     "end_time": "2021-05-26T14:07:08.698148",
     "exception": false,
     "start_time": "2021-05-26T14:07:08.248370",
     "status": "completed"
    },
    "tags": []
   },
   "outputs": [],
   "source": [
    "#### Read input file\n",
    "\n",
    "#### This reads the consolidated file that will be transformed or a stored dataframe based on the execution method."
   ]
  },
  {
   "cell_type": "code",
   "execution_count": 9,
   "id": "7d1a7b22",
   "metadata": {
    "execution": {
     "iopub.execute_input": "2021-05-26T14:07:09.464775Z",
     "iopub.status.busy": "2021-05-26T14:07:09.458774Z",
     "iopub.status.idle": "2021-05-26T14:07:09.542777Z",
     "shell.execute_reply": "2021-05-26T14:07:09.544779Z"
    },
    "papermill": {
     "duration": 0.497035,
     "end_time": "2021-05-26T14:07:09.544779",
     "exception": false,
     "start_time": "2021-05-26T14:07:09.047744",
     "status": "completed"
    },
    "pycharm": {
     "name": "#%%\n"
    },
    "tags": []
   },
   "outputs": [
    {
     "name": "stdout",
     "output_type": "stream",
     "text": [
      "                       Submission File Business Unit Country Currency  \\\n",
      "0     us_dat_ca_05202021134242.parquet            CA      CA      CAD   \n",
      "1     us_dat_ca_05202021134242.parquet            CA      CA      CAD   \n",
      "2     us_dat_ca_05202021134242.parquet            CA      CA      CAD   \n",
      "3     us_dat_ca_05202021134242.parquet            CA      CA      CAD   \n",
      "4     us_dat_ca_05202021134242.parquet            CA      CA      CAD   \n",
      "...                                ...           ...     ...      ...   \n",
      "3415  us_dat_pt_05202021121056.parquet            PT      PT      EUR   \n",
      "3416  us_dat_pt_05202021121056.parquet            PT      PT      EUR   \n",
      "3417  us_dat_pt_05202021121056.parquet            PT      PT      EUR   \n",
      "3418  us_dat_pt_05202021121056.parquet            PT      PT      EUR   \n",
      "3419  us_dat_pt_05202021121056.parquet            PT      PT      EUR   \n",
      "\n",
      "                           Region Reporting Date From Reporting Date To  \\\n",
      "0                   North America          2021-01-01        2021-03-31   \n",
      "1                   North America          2021-01-01        2021-03-31   \n",
      "2                   North America          2021-01-01        2021-03-31   \n",
      "3                   North America          2021-01-01        2021-03-31   \n",
      "4                   North America          2021-01-01        2021-03-31   \n",
      "...                           ...                 ...               ...   \n",
      "3415  Western Europe, LATAM & MEA          2021-01-01        2021-03-31   \n",
      "3416  Western Europe, LATAM & MEA          2021-01-01        2021-03-31   \n",
      "3417  Western Europe, LATAM & MEA          2021-01-01        2021-03-31   \n",
      "3418  Western Europe, LATAM & MEA          2021-01-01        2021-03-31   \n",
      "3419  Western Europe, LATAM & MEA          2021-01-01        2021-03-31   \n",
      "\n",
      "     Date of Analysis Type of Analysis  Analysed Months  ...  \\\n",
      "0          2021-05-16     Year To Date                3  ...   \n",
      "1          2021-05-16     Year To Date                3  ...   \n",
      "2          2021-05-16     Year To Date                3  ...   \n",
      "3          2021-05-16     Year To Date                3  ...   \n",
      "4          2021-05-16     Year To Date                3  ...   \n",
      "...               ...              ...              ...  ...   \n",
      "3415       2021-03-31     Year To Date                3  ...   \n",
      "3416       2021-03-31     Year To Date                3  ...   \n",
      "3417       2021-03-31     Year To Date                3  ...   \n",
      "3418       2021-03-31     Year To Date                3  ...   \n",
      "3419       2021-03-31     Year To Date                3  ...   \n",
      "\n",
      "                                                  Notes  Unnamed: 66  \\\n",
      "0                                                     0          0.0   \n",
      "1     Earned premium volume is low. When travel mark...          0.0   \n",
      "2     Earned premium volume is low. When travel mark...          0.0   \n",
      "3                                                     0          0.0   \n",
      "4     Most claims are trip cancelation. $1.1M of inc...          0.0   \n",
      "...                                                 ...          ...   \n",
      "3415                                                0.0          0.0   \n",
      "3416                                                0.0          0.0   \n",
      "3417                                                0.0          0.0   \n",
      "3418                                                0.0          0.0   \n",
      "3419                                                0.0          0.0   \n",
      "\n",
      "      Reporting Date From INT concat2    comsub     expsub   ibnrsub  \\\n",
      "0                    20210101   CACAD  0.000000   0.501000 -0.348378   \n",
      "1                    20210101   CACAD  0.000000   0.117500 -0.348378   \n",
      "2                    20210101   CACAD  0.000000   0.328200 -0.348378   \n",
      "3                    20210101   CACAD  0.373457   0.209300 -0.348378   \n",
      "4                    20210101   CACAD  0.382848   0.205723 -0.348378   \n",
      "...                       ...     ...       ...        ...       ...   \n",
      "3415                 20210101   PTEUR  0.000000   0.538397  0.000000   \n",
      "3416                 20210101   PTEUR  0.000000   0.426832  0.000000   \n",
      "3417                 20210101   PTEUR  0.000000  18.673326  0.000000   \n",
      "3418                 20210101   PTEUR  0.000000   0.859278  0.000000   \n",
      "3419                 20210101   PTEUR  0.000000   1.023709  0.000000   \n",
      "\n",
      "     Reporting Date To INT Date of Analysis INT  \\\n",
      "0                 20210331             20210516   \n",
      "1                 20210331             20210516   \n",
      "2                 20210331             20210516   \n",
      "3                 20210331             20210516   \n",
      "4                 20210331             20210516   \n",
      "...                    ...                  ...   \n",
      "3415              20210331             20210331   \n",
      "3416              20210331             20210331   \n",
      "3417              20210331             20210331   \n",
      "3418              20210331             20210331   \n",
      "3419              20210331             20210331   \n",
      "\n",
      "                         Selected Fields for Duplicates  \n",
      "0     CAInsuranceLocalB2B2CTravelBanks / Credit Card...  \n",
      "1     CAInsuranceGlobal - FOSB2CTravelEventTICKETMASTER  \n",
      "2            CAInsuranceGlobal - FOSB2CTravelEventOther  \n",
      "3     CAInsuranceLocalB2B2CTravelOffline Travel Agen...  \n",
      "4     CAInsuranceLocalB2B2CTravelOffline Travel Agen...  \n",
      "...                                                 ...  \n",
      "3415  PTReinsuranceLocalB2B2CTravelDirect (Allianz P...  \n",
      "3416  PTReinsuranceLocalB2B2CTravelDirect (Allianz P...  \n",
      "3417  PTReinsuranceLocalB2B2CTravelDirect (Allianz P...  \n",
      "3418  PTReinsuranceLocalB2B2CTravelDirect (Allianz P...  \n",
      "3419  PTReinsuranceLocalB2BTravelDirect (Allianz Par...  \n",
      "\n",
      "[3420 rows x 76 columns]\n"
     ]
    }
   ],
   "source": [
    "try:\n",
    "    %store -r read_dc_df\n",
    "    input = read_dc_df\n",
    "        \n",
    "except:\n",
    "    input = pd.read_parquet(infile,engine = \"pyarrow\")\n",
    "    os.remove(infile)\n",
    "\n",
    "print(input)"
   ]
  },
  {
   "cell_type": "markdown",
   "id": "e8ff44c4",
   "metadata": {
    "papermill": {
     "duration": 0.355299,
     "end_time": "2021-05-26T14:07:10.284514",
     "exception": false,
     "start_time": "2021-05-26T14:07:09.929215",
     "status": "completed"
    },
    "tags": []
   },
   "source": [
    "#### Make a copy for debug purposes"
   ]
  },
  {
   "cell_type": "code",
   "execution_count": 10,
   "id": "98c35d6d",
   "metadata": {
    "execution": {
     "iopub.execute_input": "2021-05-26T14:07:11.149163Z",
     "iopub.status.busy": "2021-05-26T14:07:11.146161Z",
     "iopub.status.idle": "2021-05-26T14:07:11.159165Z",
     "shell.execute_reply": "2021-05-26T14:07:11.161161Z"
    },
    "papermill": {
     "duration": 0.462345,
     "end_time": "2021-05-26T14:07:11.161161",
     "exception": false,
     "start_time": "2021-05-26T14:07:10.698816",
     "status": "completed"
    },
    "pycharm": {
     "name": "#%%\n"
    },
    "tags": []
   },
   "outputs": [],
   "source": [
    "trandata = input.copy()"
   ]
  },
  {
   "cell_type": "markdown",
   "id": "72aa5347",
   "metadata": {
    "papermill": {
     "duration": 0.514372,
     "end_time": "2021-05-26T14:07:12.171900",
     "exception": false,
     "start_time": "2021-05-26T14:07:11.657528",
     "status": "completed"
    },
    "tags": []
   },
   "source": [
    "#### Format Headers"
   ]
  },
  {
   "cell_type": "code",
   "execution_count": 11,
   "id": "709c6305",
   "metadata": {
    "execution": {
     "iopub.execute_input": "2021-05-26T14:07:14.838355Z",
     "iopub.status.busy": "2021-05-26T14:07:14.837355Z",
     "iopub.status.idle": "2021-05-26T14:07:14.858364Z",
     "shell.execute_reply": "2021-05-26T14:07:14.860354Z"
    },
    "papermill": {
     "duration": 2.241783,
     "end_time": "2021-05-26T14:07:14.860354",
     "exception": false,
     "start_time": "2021-05-26T14:07:12.618571",
     "status": "completed"
    },
    "pycharm": {
     "name": "#%%\n"
    },
    "tags": []
   },
   "outputs": [
    {
     "data": {
      "text/plain": [
       "'format headers'"
      ]
     },
     "execution_count": 11,
     "metadata": {},
     "output_type": "execute_result"
    }
   ],
   "source": [
    "# save the column names to variable, format them, replace headers\n",
    "cols = trandata.columns.values\n",
    "\n",
    "\"\"\"format headers\"\"\"\n",
    "fixedcols = []\n",
    "\n",
    "for f in cols:\n",
    "    fixedhead = f.replace(' ', '_').lower()\n",
    "    fixedcols.append(fixedhead)\n",
    "\n",
    "trandata.columns = fixedcols"
   ]
  },
  {
   "cell_type": "markdown",
   "id": "fe21ceee",
   "metadata": {
    "papermill": {
     "duration": 0.383662,
     "end_time": "2021-05-26T14:07:15.834462",
     "exception": false,
     "start_time": "2021-05-26T14:07:15.450800",
     "status": "completed"
    },
    "pycharm": {
     "name": "#%% md\n"
    },
    "tags": []
   },
   "source": [
    "#### Update Verification 1"
   ]
  },
  {
   "cell_type": "code",
   "execution_count": 12,
   "id": "1280f0fa",
   "metadata": {
    "execution": {
     "iopub.execute_input": "2021-05-26T14:07:16.686230Z",
     "iopub.status.busy": "2021-05-26T14:07:16.680229Z",
     "iopub.status.idle": "2021-05-26T14:07:16.983220Z",
     "shell.execute_reply": "2021-05-26T14:07:16.985218Z"
    },
    "papermill": {
     "duration": 0.737996,
     "end_time": "2021-05-26T14:07:16.985218",
     "exception": false,
     "start_time": "2021-05-26T14:07:16.247222",
     "status": "completed"
    },
    "pycharm": {
     "name": "#%%\n"
    },
    "tags": []
   },
   "outputs": [
    {
     "name": "stdout",
     "output_type": "stream",
     "text": [
      "|    | Original                                                        | Transformed                                                     |\n",
      "|---:|:----------------------------------------------------------------|:----------------------------------------------------------------|\n",
      "|  0 | Submission File                                                 | submission_file                                                 |\n",
      "|  1 | Business Unit                                                   | business_unit                                                   |\n",
      "|  2 | Country                                                         | country                                                         |\n",
      "|  3 | Currency                                                        | currency                                                        |\n",
      "|  4 | Region                                                          | region                                                          |\n",
      "|  5 | Reporting Date From                                             | reporting_date_from                                             |\n",
      "|  6 | Reporting Date To                                               | reporting_date_to                                               |\n",
      "|  7 | Date of Analysis                                                | date_of_analysis                                                |\n",
      "|  8 | Type of Analysis                                                | type_of_analysis                                                |\n",
      "|  9 | Analysed Months                                                 | analysed_months                                                 |\n",
      "| 10 | Reporting Year                                                  | reporting_year                                                  |\n",
      "| 11 | Reporting Quarter                                               | reporting_quarter                                               |\n",
      "| 12 | Reporting Month                                                 | reporting_month                                                 |\n",
      "| 13 | Type of Business                                                | type_of_business                                                |\n",
      "| 14 | Type of Account                                                 | type_of_account                                                 |\n",
      "| 15 | Distribution Type                                               | distribution_type                                               |\n",
      "| 16 | LOB                                                             | lob                                                             |\n",
      "| 17 | Distribution Channel                                            | distribution_channel                                            |\n",
      "| 18 | Sub LOB                                                         | sub_lob                                                         |\n",
      "| 19 | Business Partner Name                                           | business_partner_name                                           |\n",
      "| 20 | Business Partner ID Number                                      | business_partner_id_number                                      |\n",
      "| 21 | Product Name                                                    | product_name                                                    |\n",
      "| 22 | Product ID Number                                               | product_id_number                                               |\n",
      "| 23 | Product Family                                                  | product_family                                                  |\n",
      "| 24 | Standard Product                                                | standard_product                                                |\n",
      "| 25 | Number of Products per Row                                      | number_of_products_per_row                                      |\n",
      "| 26 | Number of B-Partners per Row                                    | number_of_b-partners_per_row                                    |\n",
      "| 27 | Number of Policies (Written)                                    | number_of_policies_(written)                                    |\n",
      "| 28 | Units of Risk (Written)                                         | units_of_risk_(written)                                         |\n",
      "| 29 | Written Revenues net of Taxes                                   | written_revenues_net_of_taxes                                   |\n",
      "| 30 | Written Revenues                                                | written_revenues                                                |\n",
      "| 31 | Number of Policies (Earned)                                     | number_of_policies_(earned)                                     |\n",
      "| 32 | Units of Risk (Earned)                                          | units_of_risk_(earned)                                          |\n",
      "| 33 | Earned Revenues net of Taxes                                    | earned_revenues_net_of_taxes                                    |\n",
      "| 34 | Earned Revenues                                                 | earned_revenues                                                 |\n",
      "| 35 | Earned Base Commissions                                         | earned_base_commissions                                         |\n",
      "| 36 | Earned Over-Commissions                                         | earned_over-commissions                                         |\n",
      "| 37 | Upfront Cash Payments                                           | upfront_cash_payments                                           |\n",
      "| 38 | Total Compensation                                              | total_compensation                                              |\n",
      "| 39 | Number of Claims (Paid + OCR + IBNR)                            | number_of_claims_(paid_+_ocr_+_ibnr)                            |\n",
      "| 40 | Number of Open Claims                                           | number_of_open_claims                                           |\n",
      "| 41 | Open Claims %                                                   | open_claims_%                                                   |\n",
      "| 42 | Number of Persons Involved in Claims (Paid + OCR + IBNR)        | number_of_persons_involved_in_claims_(paid_+_ocr_+_ibnr)        |\n",
      "| 43 | Paid Claims                                                     | paid_claims                                                     |\n",
      "| 44 | OCR + IBNR                                                      | ocr_+_ibnr                                                      |\n",
      "| 45 | % of IBNR on (OCR + IBNR)                                       | %_of_ibnr_on_(ocr_+_ibnr)                                       |\n",
      "| 46 | Actual Incurred Losses (Paid + OCR + IBNR)                      | actual_incurred_losses_(paid_+_ocr_+_ibnr)                      |\n",
      "| 47 | Internal Variable Costs (excl. AZ Tech Fee)                     | internal_variable_costs_(excl._az_tech_fee)                     |\n",
      "| 48 | AZ Tech Fee                                                     | az_tech_fee                                                     |\n",
      "| 49 | Internal Fixed Costs (excl. HQ Fees)                            | internal_fixed_costs_(excl._hq_fees)                            |\n",
      "| 50 | HQ Fees                                                         | hq_fees                                                         |\n",
      "| 51 | Total Expenses                                                  | total_expenses                                                  |\n",
      "| 52 | Frequency (Earned)                                              | frequency_(earned)                                              |\n",
      "| 53 | Severity                                                        | severity                                                        |\n",
      "| 54 | Risk Premium                                                    | risk_premium                                                    |\n",
      "| 55 | Contribution Margin - BU View                                   | contribution_margin_-_bu_view                                   |\n",
      "| 56 | Contribution Margin % on Fixed Costs - BU View                  | contribution_margin_%_on_fixed_costs_-_bu_view                  |\n",
      "| 57 | Contribution Margin % on Earned Revenues net of Taxes - BU View | contribution_margin_%_on_earned_revenues_net_of_taxes_-_bu_view |\n",
      "| 58 | Contribution Margin - HQ View                                   | contribution_margin_-_hq_view                                   |\n",
      "| 59 | Contribution Margin % on Fixed Costs - HQ View                  | contribution_margin_%_on_fixed_costs_-_hq_view                  |\n",
      "| 60 | Contribution Margin % on Earned Revenues net of Taxes - HQ View | contribution_margin_%_on_earned_revenues_net_of_taxes_-_hq_view |\n",
      "| 61 | Loss Ratio                                                      | loss_ratio                                                      |\n",
      "| 62 | Commission Ratio                                                | commission_ratio                                                |\n",
      "| 63 | Expense Ratio                                                   | expense_ratio                                                   |\n",
      "| 64 | Combined Ratio                                                  | combined_ratio                                                  |\n",
      "| 65 | Profit or Loss                                                  | profit_or_loss                                                  |\n",
      "| 66 | Notes                                                           | notes                                                           |\n",
      "| 67 | Unnamed: 66                                                     | unnamed:_66                                                     |\n",
      "| 68 | Reporting Date From INT                                         | reporting_date_from_int                                         |\n",
      "| 69 | concat2                                                         | concat2                                                         |\n",
      "| 70 | comsub                                                          | comsub                                                          |\n",
      "| 71 | expsub                                                          | expsub                                                          |\n",
      "| 72 | ibnrsub                                                         | ibnrsub                                                         |\n",
      "| 73 | Reporting Date To INT                                           | reporting_date_to_int                                           |\n",
      "| 74 | Date of Analysis INT                                            | date_of_analysis_int                                            |\n",
      "| 75 | Selected Fields for Duplicates                                  | selected_fields_for_duplicates                                  |\n"
     ]
    }
   ],
   "source": [
    "if run_control > -10:\n",
    "    disp = {\"Original\": input.columns, \"Transformed\": trandata.columns}\n",
    "\n",
    "    disp = pd.DataFrame(disp)\n",
    "\n",
    "    print(disp.to_markdown())\n",
    "else:\n",
    "    print(\"Skipped Transformation Report 1\")"
   ]
  },
  {
   "cell_type": "markdown",
   "id": "3c45e89f",
   "metadata": {
    "papermill": {
     "duration": 0.511526,
     "end_time": "2021-05-26T14:07:17.923178",
     "exception": false,
     "start_time": "2021-05-26T14:07:17.411652",
     "status": "completed"
    },
    "tags": []
   },
   "source": [
    "#### Remove rows with null business units\n"
   ]
  },
  {
   "cell_type": "code",
   "execution_count": 13,
   "id": "851e14f5",
   "metadata": {
    "execution": {
     "iopub.execute_input": "2021-05-26T14:07:18.772608Z",
     "iopub.status.busy": "2021-05-26T14:07:18.765590Z",
     "iopub.status.idle": "2021-05-26T14:07:18.781589Z",
     "shell.execute_reply": "2021-05-26T14:07:18.783590Z"
    },
    "papermill": {
     "duration": 0.418423,
     "end_time": "2021-05-26T14:07:18.783590",
     "exception": false,
     "start_time": "2021-05-26T14:07:18.365167",
     "status": "completed"
    },
    "pycharm": {
     "name": "#%%\n"
    },
    "tags": []
   },
   "outputs": [],
   "source": [
    "# todo, remove this from read file\n",
    "trandata = trandata[trandata.business_unit.notnull()]"
   ]
  },
  {
   "cell_type": "markdown",
   "id": "e03b31e4",
   "metadata": {
    "papermill": {
     "duration": 0.453086,
     "end_time": "2021-05-26T14:07:19.730933",
     "exception": false,
     "start_time": "2021-05-26T14:07:19.277847",
     "status": "completed"
    },
    "tags": []
   },
   "source": [
    "#### Update Verification 2"
   ]
  },
  {
   "cell_type": "code",
   "execution_count": 14,
   "id": "745aaa41",
   "metadata": {
    "execution": {
     "iopub.execute_input": "2021-05-26T14:07:20.633649Z",
     "iopub.status.busy": "2021-05-26T14:07:20.617650Z",
     "iopub.status.idle": "2021-05-26T14:07:20.699650Z",
     "shell.execute_reply": "2021-05-26T14:07:20.700656Z"
    },
    "papermill": {
     "duration": 0.520045,
     "end_time": "2021-05-26T14:07:20.701651",
     "exception": false,
     "start_time": "2021-05-26T14:07:20.181606",
     "status": "completed"
    },
    "pycharm": {
     "name": "#%%\n"
    },
    "tags": []
   },
   "outputs": [
    {
     "name": "stdout",
     "output_type": "stream",
     "text": [
      "Row Counts\n",
      "|    | Business Unit   |   Original |   Transformed |\n",
      "|---:|:----------------|-----------:|--------------:|\n",
      "|  0 | CA              |         17 |            17 |\n",
      "|  1 | CH              |       3187 |          3187 |\n",
      "|  2 | CZ              |          7 |             7 |\n",
      "|  3 | ES              |         28 |            28 |\n",
      "|  4 | GR              |         15 |            15 |\n",
      "|  5 | IT              |        100 |           100 |\n",
      "|  6 | PL              |         27 |            27 |\n",
      "|  7 | PT              |         39 |            39 |\n"
     ]
    }
   ],
   "source": [
    "if run_control > -10:\n",
    "\n",
    "    ibus = input.groupby(['Business Unit']).count()\n",
    "    ibus = ibus.reset_index()\n",
    "    tbus = trandata.groupby(['business_unit']).count()\n",
    "    tbus = tbus.reset_index()\n",
    "\n",
    "    compdata = pd.merge(ibus, tbus, left_on='Business Unit', right_on='business_unit', how='left')\n",
    "\n",
    "    disp = {\"Business Unit\": compdata['Business Unit'], \"Original\": compdata['Earned Revenues net of Taxes'],\n",
    "            \"Transformed\": compdata['earned_revenues_net_of_taxes']}\n",
    "\n",
    "    disp = pd.DataFrame(disp)\n",
    "\n",
    "    print(\"Row Counts\")\n",
    "    print(disp.to_markdown())\n",
    "    \n",
    "else:\n",
    "    \n",
    "    print(\"Skipped Transformation Report 2\")\n"
   ]
  },
  {
   "cell_type": "markdown",
   "id": "f742eeb4",
   "metadata": {
    "papermill": {
     "duration": 0.430642,
     "end_time": "2021-05-26T14:07:21.557288",
     "exception": false,
     "start_time": "2021-05-26T14:07:21.126646",
     "status": "completed"
    },
    "tags": []
   },
   "source": [
    "#### Swap  nulls for \"Not Provided\" in 'Sub Lob' and 'Distribution Channel'"
   ]
  },
  {
   "cell_type": "code",
   "execution_count": 15,
   "id": "465364be",
   "metadata": {
    "execution": {
     "iopub.execute_input": "2021-05-26T14:07:22.514514Z",
     "iopub.status.busy": "2021-05-26T14:07:22.499518Z",
     "iopub.status.idle": "2021-05-26T14:07:22.524515Z",
     "shell.execute_reply": "2021-05-26T14:07:22.526514Z"
    },
    "papermill": {
     "duration": 0.500236,
     "end_time": "2021-05-26T14:07:22.526514",
     "exception": false,
     "start_time": "2021-05-26T14:07:22.026278",
     "status": "completed"
    },
    "pycharm": {
     "name": "#%%\n"
    },
    "tags": []
   },
   "outputs": [],
   "source": [
    "mults = trandata['sub_lob'][trandata.sub_lob.replace(nan, 'Not Provided').str.contains(',', case=False)]\n",
    "mults = mults.unique()\n",
    "\n",
    "trandata['sub_lob'] = trandata['sub_lob'].fillna('Not Provided')\n",
    "trandata['sub_lob'] = trandata['sub_lob'].replace('', 'Not Provided')\n",
    "trandata['distribution_channel'] = trandata['distribution_channel'].replace('', 'Not Provided').fillna('Not Provided')"
   ]
  },
  {
   "cell_type": "markdown",
   "id": "886a11c2",
   "metadata": {
    "papermill": {
     "duration": 0.570663,
     "end_time": "2021-05-26T14:07:23.453175",
     "exception": false,
     "start_time": "2021-05-26T14:07:22.882512",
     "status": "completed"
    },
    "tags": []
   },
   "source": [
    "#### Replace multiple entries in \"Sub Lob\" to \"Multiple\""
   ]
  },
  {
   "cell_type": "code",
   "execution_count": 16,
   "id": "02607fb2",
   "metadata": {
    "execution": {
     "iopub.execute_input": "2021-05-26T14:07:24.355423Z",
     "iopub.status.busy": "2021-05-26T14:07:24.350428Z",
     "iopub.status.idle": "2021-05-26T14:07:24.381442Z",
     "shell.execute_reply": "2021-05-26T14:07:24.382428Z"
    },
    "papermill": {
     "duration": 0.463985,
     "end_time": "2021-05-26T14:07:24.383427",
     "exception": false,
     "start_time": "2021-05-26T14:07:23.919442",
     "status": "completed"
    },
    "pycharm": {
     "name": "#%%\n"
    },
    "tags": []
   },
   "outputs": [],
   "source": [
    "for i in mults:\n",
    "    trandata['sub_lob'] = trandata['sub_lob'].replace(i, 'Multiple')\n",
    "\n",
    "# todo automate figuring out which fields fx rates should be applied to somehow"
   ]
  },
  {
   "cell_type": "markdown",
   "id": "bc057cbd",
   "metadata": {
    "papermill": {
     "duration": 0.519824,
     "end_time": "2021-05-26T14:07:25.316068",
     "exception": false,
     "start_time": "2021-05-26T14:07:24.796244",
     "status": "completed"
    },
    "tags": []
   },
   "source": [
    "#### Update Verification 3"
   ]
  },
  {
   "cell_type": "code",
   "execution_count": 17,
   "id": "196044e7",
   "metadata": {
    "execution": {
     "iopub.execute_input": "2021-05-26T14:07:26.631774Z",
     "iopub.status.busy": "2021-05-26T14:07:26.616774Z",
     "iopub.status.idle": "2021-05-26T14:07:27.014821Z",
     "shell.execute_reply": "2021-05-26T14:07:27.015817Z"
    },
    "papermill": {
     "duration": 1.202783,
     "end_time": "2021-05-26T14:07:27.015817",
     "exception": false,
     "start_time": "2021-05-26T14:07:25.813034",
     "status": "completed"
    },
    "pycharm": {
     "name": "#%%\n"
    },
    "tags": []
   },
   "outputs": [],
   "source": [
    "if run_control > -10:\n",
    "\n",
    "    ibus = input.groupby(['Sub LOB']).sum()\n",
    "    ibus = ibus.reset_index()\n",
    "    tbus = trandata.groupby(['sub_lob']).sum()\n",
    "    tbus = tbus.reset_index()\n",
    "\n",
    "    compdatasublob = pd.merge(ibus, tbus, left_on='Sub LOB', right_on='sub_lob', how='outer')\n",
    "\n",
    "    disp1 = pd.DataFrame(\n",
    "        {'Original Sub LOB': compdatasublob['Sub LOB'], 'Transformed Sub LOB': compdatasublob['sub_lob'],\n",
    "         \"Original\": compdatasublob['Earned Revenues net of Taxes'] / 1000,\n",
    "         \"Transformed\": compdatasublob['earned_revenues_net_of_taxes'] / 1000})\n",
    "\n",
    "\n",
    "\n",
    "    tots1 = pd.DataFrame({'Original Total': (input['Earned Revenues net of Taxes']).sum() / 10000,\n",
    "                          \"Transformed Total\": (compdatasublob['earned_revenues_net_of_taxes']).sum() / 10000},\n",
    "                         index=[0])\n",
    "else:\n",
    "    print(\"Skipped Transformation Report 2\")"
   ]
  },
  {
   "cell_type": "markdown",
   "id": "cfa1a92e",
   "metadata": {
    "papermill": {
     "duration": 0.412013,
     "end_time": "2021-05-26T14:07:27.812154",
     "exception": false,
     "start_time": "2021-05-26T14:07:27.400141",
     "status": "completed"
    },
    "tags": []
   },
   "source": [
    "#### Make cflds, a list of currency fields, force to float, coercion is null or string to 0"
   ]
  },
  {
   "cell_type": "code",
   "execution_count": 18,
   "id": "9b4d6902",
   "metadata": {
    "execution": {
     "iopub.execute_input": "2021-05-26T14:07:28.749822Z",
     "iopub.status.busy": "2021-05-26T14:07:28.741813Z",
     "iopub.status.idle": "2021-05-26T14:07:28.957813Z",
     "shell.execute_reply": "2021-05-26T14:07:28.965810Z"
    },
    "papermill": {
     "duration": 0.703947,
     "end_time": "2021-05-26T14:07:28.966816",
     "exception": false,
     "start_time": "2021-05-26T14:07:28.262869",
     "status": "completed"
    },
    "pycharm": {
     "name": "#%%\n"
    },
    "tags": []
   },
   "outputs": [
    {
     "data": {
      "text/plain": [
       "0        102326.71\n",
       "1        224588.84\n",
       "2          7215.93\n",
       "3         34379.14\n",
       "4       1075443.42\n",
       "           ...    \n",
       "3415       1509.16\n",
       "3416       2164.11\n",
       "3417        309.72\n",
       "3418          0.00\n",
       "3419       1260.00\n",
       "Name: written_revenues_net_of_taxes, Length: 3420, dtype: float64"
      ]
     },
     "execution_count": 18,
     "metadata": {},
     "output_type": "execute_result"
    },
    {
     "data": {
      "text/plain": [
       "0       1.078022e+05\n",
       "1       2.401660e+05\n",
       "2       7.565870e+03\n",
       "3       3.503791e+04\n",
       "4       1.084236e+06\n",
       "            ...     \n",
       "3415    1.644984e+03\n",
       "3416    2.358880e+03\n",
       "3417    3.375948e+02\n",
       "3418    0.000000e+00\n",
       "3419    1.373400e+03\n",
       "Name: written_revenues, Length: 3420, dtype: float64"
      ]
     },
     "execution_count": 18,
     "metadata": {},
     "output_type": "execute_result"
    },
    {
     "data": {
      "text/plain": [
       "0       1.632947e+05\n",
       "1       5.200202e+04\n",
       "2       2.670489e+03\n",
       "3       1.063628e+05\n",
       "4       1.365103e+06\n",
       "            ...     \n",
       "3415    1.576860e+03\n",
       "3416    2.085800e+03\n",
       "3417    1.657000e+01\n",
       "3418    6.800000e+01\n",
       "3419    1.260000e+03\n",
       "Name: earned_revenues_net_of_taxes, Length: 3420, dtype: float64"
      ]
     },
     "execution_count": 18,
     "metadata": {},
     "output_type": "execute_result"
    },
    {
     "data": {
      "text/plain": [
       "0          0.0000\n",
       "1          0.0000\n",
       "2          0.0000\n",
       "3          0.0000\n",
       "4          0.0000\n",
       "          ...    \n",
       "3415    1718.7774\n",
       "3416    2273.5220\n",
       "3417      18.0613\n",
       "3418      74.1200\n",
       "3419    1373.4000\n",
       "Name: earned_revenues, Length: 3420, dtype: float64"
      ]
     },
     "execution_count": 18,
     "metadata": {},
     "output_type": "execute_result"
    },
    {
     "data": {
      "text/plain": [
       "0            0.000000\n",
       "1            0.000000\n",
       "2            0.000000\n",
       "3        39721.919817\n",
       "4       522627.322646\n",
       "            ...      \n",
       "3415         0.000000\n",
       "3416         0.000000\n",
       "3417         0.000000\n",
       "3418         0.000000\n",
       "3419         0.000000\n",
       "Name: earned_base_commissions, Length: 3420, dtype: float64"
      ]
     },
     "execution_count": 18,
     "metadata": {},
     "output_type": "execute_result"
    },
    {
     "data": {
      "text/plain": [
       "0       0.0\n",
       "1       0.0\n",
       "2       0.0\n",
       "3       0.0\n",
       "4       0.0\n",
       "       ... \n",
       "3415    0.0\n",
       "3416    0.0\n",
       "3417    0.0\n",
       "3418    0.0\n",
       "3419    0.0\n",
       "Name: earned_over-commissions, Length: 3420, dtype: float64"
      ]
     },
     "execution_count": 18,
     "metadata": {},
     "output_type": "execute_result"
    },
    {
     "data": {
      "text/plain": [
       "0       0.0\n",
       "1       0.0\n",
       "2       0.0\n",
       "3       0.0\n",
       "4       0.0\n",
       "       ... \n",
       "3415    0.0\n",
       "3416    0.0\n",
       "3417    0.0\n",
       "3418    0.0\n",
       "3419    0.0\n",
       "Name: upfront_cash_payments, Length: 3420, dtype: float64"
      ]
     },
     "execution_count": 18,
     "metadata": {},
     "output_type": "execute_result"
    },
    {
     "data": {
      "text/plain": [
       "0            0.000000\n",
       "1            0.000000\n",
       "2            0.000000\n",
       "3        39721.919817\n",
       "4       522627.322646\n",
       "            ...      \n",
       "3415         0.000000\n",
       "3416         0.000000\n",
       "3417         0.000000\n",
       "3418         0.000000\n",
       "3419         0.000000\n",
       "Name: total_compensation, Length: 3420, dtype: float64"
      ]
     },
     "execution_count": 18,
     "metadata": {},
     "output_type": "execute_result"
    },
    {
     "data": {
      "text/plain": [
       "0       5.296454e+03\n",
       "1       7.698500e+02\n",
       "2       2.325750e+03\n",
       "3       2.589060e+04\n",
       "4       1.191550e+06\n",
       "            ...     \n",
       "3415    6.945000e+01\n",
       "3416    0.000000e+00\n",
       "3417    6.301200e+02\n",
       "3418    0.000000e+00\n",
       "3419    0.000000e+00\n",
       "Name: paid_claims, Length: 3420, dtype: float64"
      ]
     },
     "execution_count": 18,
     "metadata": {},
     "output_type": "execute_result"
    },
    {
     "data": {
      "text/plain": [
       "0        63406.650616\n",
       "1         1021.749016\n",
       "2          197.266659\n",
       "3         9902.505438\n",
       "4       216574.609716\n",
       "            ...      \n",
       "3415      1472.110000\n",
       "3416       608.720000\n",
       "3417         0.000000\n",
       "3418         0.000000\n",
       "3419         0.000000\n",
       "Name: ocr_+_ibnr, Length: 3420, dtype: float64"
      ]
     },
     "execution_count": 18,
     "metadata": {},
     "output_type": "execute_result"
    },
    {
     "data": {
      "text/plain": [
       "0       6.870310e+04\n",
       "1       1.791599e+03\n",
       "2       2.523017e+03\n",
       "3       3.579311e+04\n",
       "4       1.408124e+06\n",
       "            ...     \n",
       "3415    1.541560e+03\n",
       "3416    6.087200e+02\n",
       "3417    6.301200e+02\n",
       "3418    0.000000e+00\n",
       "3419    0.000000e+00\n",
       "Name: actual_incurred_losses_(paid_+_ocr_+_ibnr), Length: 3420, dtype: float64"
      ]
     },
     "execution_count": 18,
     "metadata": {},
     "output_type": "execute_result"
    },
    {
     "data": {
      "text/plain": [
       "0        81810.624078\n",
       "1         6110.237565\n",
       "2          876.454480\n",
       "3        22261.727281\n",
       "4       280832.943967\n",
       "            ...      \n",
       "3415       433.790006\n",
       "3416       341.095979\n",
       "3417       305.054137\n",
       "3418        33.114511\n",
       "3419       835.265953\n",
       "Name: internal_variable_costs_(excl._az_tech_fee), Length: 3420, dtype: float64"
      ]
     },
     "execution_count": 18,
     "metadata": {},
     "output_type": "execute_result"
    },
    {
     "data": {
      "text/plain": [
       "0        0.000000\n",
       "1        0.000000\n",
       "2        0.000000\n",
       "3        0.000000\n",
       "4        0.000000\n",
       "          ...    \n",
       "3415    45.413568\n",
       "3416    60.071040\n",
       "3417     0.477216\n",
       "3418     1.958400\n",
       "3419    36.288000\n",
       "Name: az_tech_fee, Length: 3420, dtype: float64"
      ]
     },
     "execution_count": 18,
     "metadata": {},
     "output_type": "execute_result"
    },
    {
     "data": {
      "text/plain": [
       "0         0.00000\n",
       "1         0.00000\n",
       "2         0.00000\n",
       "3         0.00000\n",
       "4         0.00000\n",
       "          ...    \n",
       "3415    272.79678\n",
       "3416    360.84340\n",
       "3417      2.86661\n",
       "3418     19.17600\n",
       "3419    355.32000\n",
       "Name: internal_fixed_costs_(excl._hq_fees), Length: 3420, dtype: float64"
      ]
     },
     "execution_count": 18,
     "metadata": {},
     "output_type": "execute_result"
    },
    {
     "data": {
      "text/plain": [
       "0         0.000000\n",
       "1         0.000000\n",
       "2         0.000000\n",
       "3         0.000000\n",
       "4         0.000000\n",
       "           ...    \n",
       "3415     96.976890\n",
       "3416    128.276700\n",
       "3417      1.019055\n",
       "3418      4.182000\n",
       "3419     63.000000\n",
       "Name: hq_fees, Length: 3420, dtype: float64"
      ]
     },
     "execution_count": 18,
     "metadata": {},
     "output_type": "execute_result"
    },
    {
     "data": {
      "text/plain": [
       "0        81810.624078\n",
       "1         6110.237565\n",
       "2          876.454480\n",
       "3        22261.727281\n",
       "4       280832.943967\n",
       "            ...      \n",
       "3415       848.977244\n",
       "3416       890.287119\n",
       "3417       309.417018\n",
       "3418        58.430911\n",
       "3419      1289.873953\n",
       "Name: total_expenses, Length: 3420, dtype: float64"
      ]
     },
     "execution_count": 18,
     "metadata": {},
     "output_type": "execute_result"
    },
    {
     "data": {
      "text/plain": [
       "0       0.0\n",
       "1       0.0\n",
       "2       0.0\n",
       "3       0.0\n",
       "4       0.0\n",
       "       ... \n",
       "3415    0.0\n",
       "3416    0.0\n",
       "3417    0.0\n",
       "3418    0.0\n",
       "3419    0.0\n",
       "Name: risk_premium, Length: 3420, dtype: float64"
      ]
     },
     "execution_count": 18,
     "metadata": {},
     "output_type": "execute_result"
    },
    {
     "data": {
      "text/plain": [
       "0        12780.930435\n",
       "1        44100.185249\n",
       "2         -728.982168\n",
       "3         8586.015172\n",
       "4      -846481.853805\n",
       "            ...      \n",
       "3415      -813.677244\n",
       "3416       586.792881\n",
       "3417      -922.967018\n",
       "3418         9.569089\n",
       "3419       -29.873953\n",
       "Name: profit_or_loss, Length: 3420, dtype: float64"
      ]
     },
     "execution_count": 18,
     "metadata": {},
     "output_type": "execute_result"
    },
    {
     "data": {
      "text/plain": [
       "0        12780.930435\n",
       "1        44100.185249\n",
       "2         -728.982168\n",
       "3         8586.015172\n",
       "4      -846481.853805\n",
       "            ...      \n",
       "3415      -443.903574\n",
       "3416      1075.912981\n",
       "3417      -919.081353\n",
       "3418        32.927089\n",
       "3419       388.446047\n",
       "Name: contribution_margin_-_hq_view, Length: 3420, dtype: float64"
      ]
     },
     "execution_count": 18,
     "metadata": {},
     "output_type": "execute_result"
    },
    {
     "data": {
      "text/plain": [
       "0        12780.930435\n",
       "1        44100.185249\n",
       "2         -728.982168\n",
       "3         8586.015172\n",
       "4      -846481.853805\n",
       "            ...      \n",
       "3415      -540.880464\n",
       "3416       947.636281\n",
       "3417      -920.100408\n",
       "3418        28.745089\n",
       "3419       325.446047\n",
       "Name: contribution_margin_-_bu_view, Length: 3420, dtype: float64"
      ]
     },
     "execution_count": 18,
     "metadata": {},
     "output_type": "execute_result"
    }
   ],
   "source": [
    "cflds = ['written_revenues_net_of_taxes', 'written_revenues', 'earned_revenues_net_of_taxes',\n",
    "         'earned_revenues', 'earned_base_commissions', 'earned_over-commissions', 'upfront_cash_payments',\n",
    "         'total_compensation', 'paid_claims', 'ocr_+_ibnr', 'actual_incurred_losses_(paid_+_ocr_+_ibnr)',\n",
    "         'internal_variable_costs_(excl._az_tech_fee)', 'az_tech_fee', 'internal_fixed_costs_(excl._hq_fees)',\n",
    "         'hq_fees', 'total_expenses', 'risk_premium', 'profit_or_loss', 'contribution_margin_-_hq_view',\n",
    "         'contribution_margin_-_bu_view', ]\n",
    "\n",
    "for i in cflds:\n",
    "    pd.to_numeric(trandata[i], errors='coerce')"
   ]
  },
  {
   "cell_type": "markdown",
   "id": "539822d6",
   "metadata": {
    "papermill": {
     "duration": 0.568355,
     "end_time": "2021-05-26T14:07:30.053907",
     "exception": false,
     "start_time": "2021-05-26T14:07:29.485552",
     "status": "completed"
    },
    "tags": []
   },
   "source": [
    "#### Turn selected columns values uppercase"
   ]
  },
  {
   "cell_type": "code",
   "execution_count": 19,
   "id": "74f484d2",
   "metadata": {
    "execution": {
     "iopub.execute_input": "2021-05-26T14:07:31.092621Z",
     "iopub.status.busy": "2021-05-26T14:07:31.058615Z",
     "iopub.status.idle": "2021-05-26T14:07:31.115616Z",
     "shell.execute_reply": "2021-05-26T14:07:31.116614Z"
    },
    "papermill": {
     "duration": 0.557576,
     "end_time": "2021-05-26T14:07:31.117632",
     "exception": false,
     "start_time": "2021-05-26T14:07:30.560056",
     "status": "completed"
    },
    "pycharm": {
     "name": "#%%\n"
    },
    "tags": []
   },
   "outputs": [],
   "source": [
    "validcols = ['business_unit', 'currency', 'region', 'type_of_analysis', 'type_of_business', 'type_of_account', 'lob',\n",
    "             'distribution_type', 'distribution_channel', ]\n",
    "\n",
    "for c in validcols:\n",
    "    trandata[c] = trandata[c].astype(str)\n",
    "    trandata[c] = trandata[c].apply(lambda x: x.upper())"
   ]
  },
  {
   "cell_type": "markdown",
   "id": "05a76db6",
   "metadata": {
    "papermill": {
     "duration": 0.5081,
     "end_time": "2021-05-26T14:07:32.145760",
     "exception": false,
     "start_time": "2021-05-26T14:07:31.637660",
     "status": "completed"
    },
    "tags": []
   },
   "source": [
    "#### Read the values from the Global Attribute Catalog, one field per loop iterance and xlsx sheet."
   ]
  },
  {
   "cell_type": "code",
   "execution_count": 20,
   "id": "fe14e598",
   "metadata": {
    "execution": {
     "iopub.execute_input": "2021-05-26T14:07:33.144009Z",
     "iopub.status.busy": "2021-05-26T14:07:33.138997Z",
     "iopub.status.idle": "2021-05-26T14:07:36.864745Z",
     "shell.execute_reply": "2021-05-26T14:07:36.866753Z"
    },
    "papermill": {
     "duration": 4.248791,
     "end_time": "2021-05-26T14:07:36.866753",
     "exception": false,
     "start_time": "2021-05-26T14:07:32.617962",
     "status": "completed"
    },
    "pycharm": {
     "name": "#%%\n"
    },
    "tags": []
   },
   "outputs": [],
   "source": [
    "checktabs = []\n",
    "\n",
    "\n",
    "\n",
    "for s in validcols:\n",
    "    t = pd.read_excel(atcat, sheet_name = s )\n",
    "    checktabs.append([[s], [t]])\n",
    "\n",
    "gacout = []\n"
   ]
  },
  {
   "cell_type": "markdown",
   "id": "1b72c1ad",
   "metadata": {
    "papermill": {
     "duration": 0.718213,
     "end_time": "2021-05-26T14:07:37.956652",
     "exception": false,
     "start_time": "2021-05-26T14:07:37.238439",
     "status": "completed"
    },
    "tags": []
   },
   "source": [
    "#### Compare the lists from the previous step and each field. Find those that do not match, make lists of unique values\n",
    "#### replace any that have replacements in GPPM inoout already, make a list of values without any matches.\n"
   ]
  },
  {
   "cell_type": "code",
   "execution_count": 21,
   "id": "2c8e9066",
   "metadata": {
    "execution": {
     "iopub.execute_input": "2021-05-26T14:07:39.081607Z",
     "iopub.status.busy": "2021-05-26T14:07:39.060603Z",
     "iopub.status.idle": "2021-05-26T14:07:39.253310Z",
     "shell.execute_reply": "2021-05-26T14:07:39.254313Z"
    },
    "papermill": {
     "duration": 0.698957,
     "end_time": "2021-05-26T14:07:39.255315",
     "exception": false,
     "start_time": "2021-05-26T14:07:38.556358",
     "status": "completed"
    },
    "pycharm": {
     "name": "#%%\n"
    },
    "tags": []
   },
   "outputs": [],
   "source": [
    "# todo rewrite this beginner code to use dicts and simplify\n",
    "\n",
    "for u in enumerate(validcols):\n",
    "    trandata.loc[0:len(trandata[u[1]]), u[1]] = trandata[u[1]].replace(\n",
    "        [checktabs[u[0]][1][0]['Upper_Vers']][0].to_numpy(), [checktabs[u[0]][1][0][u[1]]][0].to_numpy())\n",
    "    d = list(checktabs[u[0]][1][0]['Non Matches'].drop_duplicates().dropna().append(\n",
    "        pd.Series(trandata[u[1]][~trandata[u[1]].isin(checktabs[u[0]][1][0][u[1]])].drop_duplicates().dropna()),\n",
    "        ignore_index=True))\n",
    "    g = [checktabs[u[0]][1][0][str(u[1])], checktabs[u[0]][1][0]['Upper_Vers'], checktabs[u[0]][1][0]['Unnamed: 2'],\n",
    "         pd.Series(d, dtype='object').drop_duplicates().dropna(), checktabs[u[0]][1][0]['User Defined Corrections']]\n",
    "    gacout.append(list([g, u[1]]))"
   ]
  },
  {
   "cell_type": "markdown",
   "id": "e504a249",
   "metadata": {
    "papermill": {
     "duration": 2.367694,
     "end_time": "2021-05-26T14:07:42.049429",
     "exception": false,
     "start_time": "2021-05-26T14:07:39.681735",
     "status": "completed"
    },
    "tags": []
   },
   "source": [
    "#### Rebuild the GPPM input file, with the replaced values in the bad values column of each sheet.\n",
    "#### Step one, make and xlsx with a notes page."
   ]
  },
  {
   "cell_type": "code",
   "execution_count": 22,
   "id": "24cef0a0",
   "metadata": {
    "execution": {
     "iopub.execute_input": "2021-05-26T14:07:43.454044Z",
     "iopub.status.busy": "2021-05-26T14:07:43.447515Z",
     "iopub.status.idle": "2021-05-26T14:07:43.974281Z",
     "shell.execute_reply": "2021-05-26T14:07:43.975693Z"
    },
    "papermill": {
     "duration": 1.209483,
     "end_time": "2021-05-26T14:07:43.975693",
     "exception": false,
     "start_time": "2021-05-26T14:07:42.766210",
     "status": "completed"
    },
    "pycharm": {
     "name": "#%%\n"
    },
    "tags": []
   },
   "outputs": [],
   "source": [
    "w = ExcelWriter(atcat)\n",
    "notes = pd.DataFrame([\n",
    "    \"This page is script generated during the source creation process. Do not edit these notes directly in the file as they will be overwritten\",\n",
    "    \"\", \"\"\n",
    "    , \" Purpose :     to manage attribute entries in the data collection process, this workbook documents and organizes all entries and also allows a user to swap those that do \\\n",
    "                        not conform to validation rules  with an entry of their choice\",\n",
    "    \" Each attribute field that requires validation has its own sheet tab\", \"\"\n",
    "    , \"Column A:    of each sheet tab contains all unique acceptable responses\",\n",
    "    \"Column B:    an upper case version, to wrangle case mismatches\",\n",
    "    \"Column D:   is generated by the process, this is a list of an uppercase version of each unique unacceptable response, this builds over time with each collection\",\n",
    "    \"Column E:   you can enter accpetable response here (sase sensitive) to be swapped out in the data, save and exit this file, run the process again and they will be replaced\"\n",
    "    , \"\", \"\", \"Gavin Harmon 9 - July -2020\"])\n",
    "\n",
    "notes.columns = ['Notes']\n",
    "\n",
    "notes.to_excel(w, index=False, sheet_name=\"Notes\")"
   ]
  },
  {
   "cell_type": "markdown",
   "id": "be17e0ad",
   "metadata": {
    "papermill": {
     "duration": 0.435595,
     "end_time": "2021-05-26T14:07:44.874339",
     "exception": false,
     "start_time": "2021-05-26T14:07:44.438744",
     "status": "completed"
    },
    "tags": []
   },
   "source": [
    "#### Step two, build the new sheets for each validcols field"
   ]
  },
  {
   "cell_type": "code",
   "execution_count": 23,
   "id": "b855f8a5",
   "metadata": {
    "execution": {
     "iopub.execute_input": "2021-05-26T14:07:45.880640Z",
     "iopub.status.busy": "2021-05-26T14:07:45.843120Z",
     "iopub.status.idle": "2021-05-26T14:07:46.521775Z",
     "shell.execute_reply": "2021-05-26T14:07:46.523773Z"
    },
    "papermill": {
     "duration": 1.205833,
     "end_time": "2021-05-26T14:07:46.523773",
     "exception": false,
     "start_time": "2021-05-26T14:07:45.317940",
     "status": "completed"
    },
    "pycharm": {
     "name": "#%%\n"
    },
    "tags": []
   },
   "outputs": [],
   "source": [
    "for v in enumerate(validcols):\n",
    "    df = pd.DataFrame(gacout[v[0]][0], index=[f\"{v[1]}\", 'Upper_Vers', '', 'Non Matches', 'User Defined Corrections']).T\n",
    "    df.to_excel(w, index=False, sheet_name=gacout[v[0]][1])\n",
    "w.save()"
   ]
  },
  {
   "cell_type": "markdown",
   "id": "1cee92a1",
   "metadata": {
    "papermill": {
     "duration": 0.536533,
     "end_time": "2021-05-26T14:07:47.506864",
     "exception": false,
     "start_time": "2021-05-26T14:07:46.970331",
     "status": "completed"
    },
    "tags": []
   },
   "source": [
    "#### Step three, read these lists back in, make the necessary replacements in the DataFrame"
   ]
  },
  {
   "cell_type": "code",
   "execution_count": 24,
   "id": "b265a1be",
   "metadata": {
    "execution": {
     "iopub.execute_input": "2021-05-26T14:07:48.488578Z",
     "iopub.status.busy": "2021-05-26T14:07:48.486577Z",
     "iopub.status.idle": "2021-05-26T14:07:51.428628Z",
     "shell.execute_reply": "2021-05-26T14:07:51.429628Z"
    },
    "papermill": {
     "duration": 3.487099,
     "end_time": "2021-05-26T14:07:51.430627",
     "exception": false,
     "start_time": "2021-05-26T14:07:47.943528",
     "status": "completed"
    },
    "pycharm": {
     "name": "#%%\n"
    },
    "tags": []
   },
   "outputs": [],
   "source": [
    "for s in validcols:\n",
    "    t = pd.read_excel(f'//hecate/Insurance_US/Product Development/Product Management/Global PPM/Reporting/Data Collection/Production/{str(percode)}\\\\{str(percode)}_Attribute_Catalog.xlsx', sheet_name = s )\n",
    "    checktabs.append([[s],[t]])"
   ]
  },
  {
   "cell_type": "code",
   "execution_count": 25,
   "id": "55c9ef71",
   "metadata": {
    "execution": {
     "iopub.execute_input": "2021-05-26T14:07:52.299239Z",
     "iopub.status.busy": "2021-05-26T14:07:52.287239Z",
     "iopub.status.idle": "2021-05-26T14:07:52.922921Z",
     "shell.execute_reply": "2021-05-26T14:07:52.924919Z"
    },
    "papermill": {
     "duration": 1.112287,
     "end_time": "2021-05-26T14:07:52.924919",
     "exception": false,
     "start_time": "2021-05-26T14:07:51.812632",
     "status": "completed"
    },
    "pycharm": {
     "name": "#%%\n"
    },
    "tags": []
   },
   "outputs": [],
   "source": [
    "gacout = []\n",
    "\n",
    "for u in enumerate(validcols):\n",
    "    trandata.loc[0:len(trandata[u[1]]), u[1]] = trandata[u[1]].replace(\n",
    "        [checktabs[u[0]][1][0]['Non Matches']][0].to_numpy(),\n",
    "        [checktabs[u[0]][1][0]['User Defined Corrections']][0].to_numpy())\n",
    "repper = trandata[['business_unit', 'reporting_date_to']]\n",
    "repper = pd.DataFrame({\"business_unit\": (repper['business_unit']), \"YearMo\": (repper['reporting_date_to'])})\n",
    "minrep = repper.groupby(['business_unit']).max()\n",
    "a = trandata['business_unit'].replace(list(minrep.axes[0]), minrep.get(\"YearMo\"))\n",
    "trandata['rep_date'] = a\n",
    "trandata.loc[0:len(trandata['business_partner_id_number']), 'business_partner_id_number'] = trandata[\n",
    "    'business_partner_id_number'].replace('0', 'Not Provided').fillna('Not Provided')\n",
    "trandata.loc[0:len(trandata['product_id_number']), 'product_id_number'] = trandata['product_id_number'].replace('0',\n",
    "                                                                                                                'Not Provided').replace(\n",
    "    '-', 'Not Provided').fillna('Not Provided')\n",
    "trandata.loc[0:len(trandata['sub_lob']), 'sub_lob'] = trandata['sub_lob'].replace('0', 'Not Provided').replace('-',\n",
    "                                                                                                               'Not Provided').replace(\n",
    "    'Other', 'Not Provided').fillna('Not Provided')"
   ]
  },
  {
   "cell_type": "markdown",
   "id": "c9c2f272",
   "metadata": {
    "papermill": {
     "duration": 0.680919,
     "end_time": "2021-05-26T14:07:55.234226",
     "exception": false,
     "start_time": "2021-05-26T14:07:54.553307",
     "status": "completed"
    },
    "tags": []
   },
   "source": [
    "#### Evaluate the current state, alert the user if input is needed.\n",
    "- At the end of this process, alert the user with instructions if they need to adjust bad entries for validated fields.\n",
    "\n"
   ]
  },
  {
   "cell_type": "code",
   "execution_count": 26,
   "id": "1696b979",
   "metadata": {
    "execution": {
     "iopub.execute_input": "2021-05-26T14:07:56.571895Z",
     "iopub.status.busy": "2021-05-26T14:07:56.538897Z",
     "iopub.status.idle": "2021-05-26T14:08:01.837583Z",
     "shell.execute_reply": "2021-05-26T14:08:01.838579Z"
    },
    "papermill": {
     "duration": 5.742528,
     "end_time": "2021-05-26T14:08:01.839580",
     "exception": false,
     "start_time": "2021-05-26T14:07:56.097052",
     "status": "completed"
    },
    "tags": []
   },
   "outputs": [],
   "source": [
    "#see above note about converting to dictionaries\n",
    "\n",
    "#Make lists of all the attribute catalog entries that do not have a correction as a list of errors.\n",
    "err_messages = []\n",
    "\n",
    "for idx, i in enumerate(checktabs):\n",
    "    subset_no_nans =  i[1][0][['Non Matches', 'User Defined Corrections']][~i[1][0]['Non Matches'].isna()]\n",
    "    entries = subset_no_nans['Non Matches'][subset_no_nans['User Defined Corrections'].isna()]. tolist()\n",
    "    if len(entries) > 0: \n",
    "        err_messages.append(f'Please deal with bad entries {entries} on tab {i[0][0]} of the Attribute Catalog.')\n",
    "\n",
    "#raise an error to stop the process and give instructions\n",
    "\n",
    "# define Python user-defined exceptions\n",
    "\n",
    "\n",
    "# define Python user-defined exceptions\n",
    "class Error(Exception):\n",
    "    \"\"\"Base class for other exceptions\"\"\"\n",
    "    pass\n",
    "\n",
    "class BadEntriesError(Error):\n",
    "    \"\"\"Raised when the input value is too large\"\"\"\n",
    "    for i in err_messages : print(i)\n",
    "    \n",
    "    os.startfile(atcat)\n",
    "\n",
    "if len(err_messages) > 0:\n",
    "    raise BadEntriesError\n",
    "else:\n",
    "    pass\n",
    "        "
   ]
  },
  {
   "cell_type": "markdown",
   "id": "1d4a2f2c",
   "metadata": {
    "papermill": {
     "duration": 0.482372,
     "end_time": "2021-05-26T14:08:02.874046",
     "exception": false,
     "start_time": "2021-05-26T14:08:02.391674",
     "status": "completed"
    },
    "tags": []
   },
   "source": [
    "#### Remove empty rows, if there is no claims experience and no revenue for a 12 month period, it should not be included"
   ]
  },
  {
   "cell_type": "code",
   "execution_count": 27,
   "id": "a8659b8e",
   "metadata": {
    "execution": {
     "iopub.execute_input": "2021-05-26T14:08:03.924634Z",
     "iopub.status.busy": "2021-05-26T14:08:03.918627Z",
     "iopub.status.idle": "2021-05-26T14:08:03.977628Z",
     "shell.execute_reply": "2021-05-26T14:08:03.978627Z"
    },
    "papermill": {
     "duration": 0.595895,
     "end_time": "2021-05-26T14:08:03.979629",
     "exception": false,
     "start_time": "2021-05-26T14:08:03.383734",
     "status": "completed"
    },
    "pycharm": {
     "name": "#%%\n"
    },
    "tags": []
   },
   "outputs": [],
   "source": [
    "trandata = trandata.loc[(trandata['units_of_risk_(written)'].fillna(0).replace('', 0)\n",
    "                         + trandata['written_revenues_net_of_taxes'].fillna(0).replace('', 0)\n",
    "                         + trandata['written_revenues'].fillna(0).replace('', 0)\n",
    "                         + trandata['number_of_policies_(earned)'].fillna(0).replace('', 0)\n",
    "                         + trandata['units_of_risk_(earned)'].fillna(0).replace('', 0)\n",
    "                         + trandata['earned_revenues_net_of_taxes'].fillna(0).replace('', 0)\n",
    "                         + trandata['earned_revenues'].fillna(0).replace('', 0)\n",
    "                         + trandata['earned_base_commissions'].fillna(0).replace('', 0)\n",
    "                         + trandata['upfront_cash_payments'].fillna(0).replace('', 0)\n",
    "                         + trandata['earned_over-commissions'].fillna(0).replace('', 0)\n",
    "                         + trandata['total_compensation'].fillna(0).replace('', 0)\n",
    "                         + trandata['number_of_claims_(paid_+_ocr_+_ibnr)'].fillna(0).replace('', 0)\n",
    "                         + trandata['number_of_open_claims'].fillna(0).replace('', 0)\n",
    "                         + trandata['open_claims_%'].fillna(0).replace('', 0)\n",
    "                         + trandata['number_of_persons_involved_in_claims_(paid_+_ocr_+_ibnr)'].fillna(0).replace('', 0)\n",
    "                         + trandata['paid_claims'].fillna(0).replace('', 0)\n",
    "                         + trandata['ocr_+_ibnr'].fillna(0).replace('', 0)\n",
    "                         + trandata['actual_incurred_losses_(paid_+_ocr_+_ibnr)'].fillna(0).replace('', 0)\n",
    "                         + trandata['internal_variable_costs_(excl._az_tech_fee)'].fillna(0).replace('', 0)\n",
    "                         + trandata['az_tech_fee'].fillna(0).replace('', 0)\n",
    "                         + trandata['internal_fixed_costs_(excl._hq_fees)'].fillna(0).replace('', 0)\n",
    "                         + trandata['hq_fees'].fillna(0).replace('', 0)\n",
    "                         + trandata['total_expenses'].fillna(0).replace('', 0)\n",
    "                         + trandata['frequency_(earned)'].fillna(0).replace('', 0)\n",
    "                         + trandata['severity'].fillna(0).replace('', 0))\n",
    "                        != 0]"
   ]
  },
  {
   "cell_type": "markdown",
   "id": "415a6fbf",
   "metadata": {
    "papermill": {
     "duration": 0.511851,
     "end_time": "2021-05-26T14:08:04.957995",
     "exception": false,
     "start_time": "2021-05-26T14:08:04.446144",
     "status": "completed"
    },
    "pycharm": {
     "name": "#%% md\n"
    },
    "tags": []
   },
   "source": [
    "#### Output temp file"
   ]
  },
  {
   "cell_type": "code",
   "execution_count": 28,
   "id": "d7c5ae35",
   "metadata": {
    "execution": {
     "iopub.execute_input": "2021-05-26T14:08:06.014085Z",
     "iopub.status.busy": "2021-05-26T14:08:06.011092Z",
     "iopub.status.idle": "2021-05-26T14:08:09.662845Z",
     "shell.execute_reply": "2021-05-26T14:08:09.666848Z"
    },
    "papermill": {
     "duration": 4.169011,
     "end_time": "2021-05-26T14:08:09.666848",
     "exception": false,
     "start_time": "2021-05-26T14:08:05.497837",
     "status": "completed"
    },
    "pycharm": {
     "name": "#%%\n"
    },
    "tags": []
   },
   "outputs": [],
   "source": [
    "trandata.to_parquet(\n",
    "    f'//hecate/Insurance_US/Product Development/Product Management/Global PPM/Reporting/Data Collection/Production/{str(percode)}\\\\{str(percode)}.localcur.parquet', engine = \"pyarrow\")\n",
    "\n"
   ]
  },
  {
   "cell_type": "markdown",
   "id": "2338d798",
   "metadata": {
    "papermill": {
     "duration": 0.539753,
     "end_time": "2021-05-26T14:08:10.880884",
     "exception": false,
     "start_time": "2021-05-26T14:08:10.341131",
     "status": "completed"
    },
    "tags": []
   },
   "source": [
    "#### Store the DataFrame for other noteboks to use"
   ]
  },
  {
   "cell_type": "code",
   "execution_count": 29,
   "id": "26b3e707",
   "metadata": {
    "execution": {
     "iopub.execute_input": "2021-05-26T14:08:12.201288Z",
     "iopub.status.busy": "2021-05-26T14:08:12.196287Z",
     "iopub.status.idle": "2021-05-26T14:08:12.232291Z",
     "shell.execute_reply": "2021-05-26T14:08:12.234292Z"
    },
    "papermill": {
     "duration": 0.732289,
     "end_time": "2021-05-26T14:08:12.234432",
     "exception": false,
     "start_time": "2021-05-26T14:08:11.502143",
     "status": "completed"
    },
    "tags": []
   },
   "outputs": [
    {
     "name": "stdout",
     "output_type": "stream",
     "text": [
      "Stored 'py_t_df' (DataFrame)\n"
     ]
    }
   ],
   "source": [
    "py_t_df = trandata\n",
    "\n",
    "%store py_t_df\n"
   ]
  }
 ],
 "metadata": {
  "celltoolbar": "Tags",
  "kernelspec": {
   "display_name": "Python 3",
   "language": "python",
   "name": "python3"
  },
  "language_info": {
   "codemirror_mode": {
    "name": "ipython",
    "version": 3
   },
   "file_extension": ".py",
   "mimetype": "text/x-python",
   "name": "python",
   "nbconvert_exporter": "python",
   "pygments_lexer": "ipython3",
   "version": "3.7.6"
  },
  "papermill": {
   "default_parameters": {},
   "duration": 100.099966,
   "end_time": "2021-05-26T14:08:13.991804",
   "environment_variables": {},
   "exception": null,
   "input_path": "pipeline/py_transform.ipynb",
   "output_path": "//hecate/Insurance_US/Product Development/Product Management/Global PPM/Reporting/Data Collection/Pipeline Reporting Scripts/GPMpipeline/instances/2021.Q1\\pipeline\\py_transform05262021100343--Aus Problem.ipynb",
   "parameters": {
    "commit_message": "New AUS needed to be converted from json",
    "inst_datetime": "05262021100343",
    "percode": "2021.Q1",
    "run_control": 1
   },
   "start_time": "2021-05-26T14:06:33.891838",
   "version": "2.3.3"
  }
 },
 "nbformat": 4,
 "nbformat_minor": 5
}