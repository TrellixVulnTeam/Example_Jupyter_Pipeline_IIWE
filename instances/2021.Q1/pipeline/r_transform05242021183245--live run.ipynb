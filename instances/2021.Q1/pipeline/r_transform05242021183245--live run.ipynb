{
 "cells": [
  {
   "cell_type": "markdown",
   "id": "413efa20",
   "metadata": {
    "papermill": {
     "duration": 0.320134,
     "end_time": "2021-05-24T22:36:50.554652",
     "exception": false,
     "start_time": "2021-05-24T22:36:50.234518",
     "status": "completed"
    },
    "tags": []
   },
   "source": [
    "<img src=\"../images/AzPTravel_PPM.png\">"
   ]
  },
  {
   "cell_type": "markdown",
   "id": "bb046013",
   "metadata": {
    "papermill": {
     "duration": 0.239787,
     "end_time": "2021-05-24T22:36:51.047033",
     "exception": false,
     "start_time": "2021-05-24T22:36:50.807246",
     "status": "completed"
    },
    "tags": []
   },
   "source": [
    "# Minimal R file for Proof of Concept\n",
    "### To be built into all trasformations from the Travel Global Report\n",
    "### Adapted from Travel_Global_Report_Pipeline_Version.Rmd with all Python code removed"
   ]
  },
  {
   "cell_type": "markdown",
   "id": "2b63edd9",
   "metadata": {
    "papermill": {
     "duration": 0.260617,
     "end_time": "2021-05-24T22:36:51.572646",
     "exception": false,
     "start_time": "2021-05-24T22:36:51.312029",
     "status": "completed"
    },
    "tags": []
   },
   "source": [
    "##### Parameters section"
   ]
  },
  {
   "cell_type": "code",
   "execution_count": 1,
   "id": "888a6330",
   "metadata": {
    "execution": {
     "iopub.execute_input": "2021-05-24T22:36:52.154878Z",
     "iopub.status.busy": "2021-05-24T22:36:52.145883Z",
     "iopub.status.idle": "2021-05-24T22:36:52.313947Z",
     "shell.execute_reply": "2021-05-24T22:36:52.303953Z"
    },
    "papermill": {
     "duration": 0.476175,
     "end_time": "2021-05-24T22:36:52.313947",
     "exception": false,
     "start_time": "2021-05-24T22:36:51.837772",
     "status": "completed"
    },
    "tags": [
     "parameters"
    ]
   },
   "outputs": [],
   "source": [
    "\n",
    "commit <- \"New German Data.\"\n",
    "# give a reason for the run\n",
    "\n",
    "percode <- \"2021.Q1\"\n",
    "# Data Collection Code, this controls file paths and output names\n",
    "\n",
    "run_type <- 1\n",
    "#run_type =  0 - lite run with no reporting, not recommended.\n",
    "#run_type =  1 - lite run with normal reporting, default setting.\n",
    "#run_type =  2 - Heavy run with full reporting, available for audits and troubleshooting.\n",
    "\n",
    "specialchars <- \"-GTHtest\"\n",
    "# optional - add up to a 12 character code in order to mark your instance record .ipynb\n",
    "\n",
    "#inst_datetime <- datetime.now().strftime(\"%m%d%Y%H%M%S\")\n",
    "# a single datetime stamp for the full instance run\n",
    "\n"
   ]
  },
  {
   "cell_type": "code",
   "execution_count": 2,
   "id": "f2d45a14",
   "metadata": {
    "execution": {
     "iopub.execute_input": "2021-05-24T22:36:52.892544Z",
     "iopub.status.busy": "2021-05-24T22:36:52.829415Z",
     "iopub.status.idle": "2021-05-24T22:36:52.949548Z",
     "shell.execute_reply": "2021-05-24T22:36:52.943541Z"
    },
    "papermill": {
     "duration": 0.375922,
     "end_time": "2021-05-24T22:36:52.949548",
     "exception": false,
     "start_time": "2021-05-24T22:36:52.573626",
     "status": "completed"
    },
    "tags": [
     "injected-parameters"
    ]
   },
   "outputs": [],
   "source": [
    "# Parameters\n",
    "run_control = 1\n",
    "percode = \"2021.Q1\"\n",
    "commit_message = \"Edited data for Austraila, json 2 parquet and add comments from email. Begin general evaluation of data submissions.\"\n",
    "inst_datetime = \"05242021183245\"\n"
   ]
  },
  {
   "cell_type": "markdown",
   "id": "01f100f7",
   "metadata": {
    "papermill": {
     "duration": 0.290003,
     "end_time": "2021-05-24T22:36:53.496559",
     "exception": false,
     "start_time": "2021-05-24T22:36:53.206556",
     "status": "completed"
    },
    "tags": []
   },
   "source": [
    "##### Packages"
   ]
  },
  {
   "cell_type": "code",
   "execution_count": 3,
   "id": "22bbe074",
   "metadata": {
    "execution": {
     "iopub.execute_input": "2021-05-24T22:36:54.066250Z",
     "iopub.status.busy": "2021-05-24T22:36:54.064252Z",
     "iopub.status.idle": "2021-05-24T22:36:59.364257Z",
     "shell.execute_reply": "2021-05-24T22:36:59.358673Z"
    },
    "papermill": {
     "duration": 5.583138,
     "end_time": "2021-05-24T22:36:59.365258",
     "exception": false,
     "start_time": "2021-05-24T22:36:53.782120",
     "status": "completed"
    },
    "tags": []
   },
   "outputs": [
    {
     "name": "stderr",
     "output_type": "stream",
     "text": [
      "Warning message:\n",
      "\"package 'arrow' was built under R version 3.6.3\""
     ]
    },
    {
     "name": "stderr",
     "output_type": "stream",
     "text": [
      "See arrow_info() for available features\n"
     ]
    },
    {
     "name": "stderr",
     "output_type": "stream",
     "text": [
      "\n",
      "Attaching package: 'arrow'\n",
      "\n"
     ]
    },
    {
     "name": "stderr",
     "output_type": "stream",
     "text": [
      "The following object is masked from 'package:utils':\n",
      "\n",
      "    timestamp\n",
      "\n"
     ]
    },
    {
     "name": "stderr",
     "output_type": "stream",
     "text": [
      "Warning message:\n",
      "\"package 'openxlsx' was built under R version 3.6.3\""
     ]
    },
    {
     "name": "stderr",
     "output_type": "stream",
     "text": [
      "Warning message:\n",
      "\"package 'data.table' was built under R version 3.6.3\""
     ]
    },
    {
     "name": "stderr",
     "output_type": "stream",
     "text": [
      "Warning message:\n",
      "\"package 'dplyr' was built under R version 3.6.3\""
     ]
    },
    {
     "name": "stderr",
     "output_type": "stream",
     "text": [
      "Registered S3 methods overwritten by 'tibble':\n",
      "  method     from  \n",
      "  format.tbl pillar\n",
      "  print.tbl  pillar\n"
     ]
    },
    {
     "name": "stderr",
     "output_type": "stream",
     "text": [
      "\n",
      "Attaching package: 'dplyr'\n",
      "\n"
     ]
    },
    {
     "name": "stderr",
     "output_type": "stream",
     "text": [
      "The following objects are masked from 'package:data.table':\n",
      "\n",
      "    between, first, last\n",
      "\n"
     ]
    },
    {
     "name": "stderr",
     "output_type": "stream",
     "text": [
      "The following objects are masked from 'package:stats':\n",
      "\n",
      "    filter, lag\n",
      "\n"
     ]
    },
    {
     "name": "stderr",
     "output_type": "stream",
     "text": [
      "The following objects are masked from 'package:base':\n",
      "\n",
      "    intersect, setdiff, setequal, union\n",
      "\n"
     ]
    },
    {
     "name": "stderr",
     "output_type": "stream",
     "text": [
      "Warning message:\n",
      "\"package 'magrittr' was built under R version 3.6.3\""
     ]
    },
    {
     "name": "stderr",
     "output_type": "stream",
     "text": [
      "\n",
      "Attaching package: 'magrittr'\n",
      "\n"
     ]
    },
    {
     "name": "stderr",
     "output_type": "stream",
     "text": [
      "The following object is masked from 'package:arrow':\n",
      "\n",
      "    is_in\n",
      "\n"
     ]
    },
    {
     "name": "stderr",
     "output_type": "stream",
     "text": [
      "Warning message:\n",
      "\"package 'knitr' was built under R version 3.6.3\""
     ]
    },
    {
     "name": "stderr",
     "output_type": "stream",
     "text": [
      "Warning message:\n",
      "\"package 'kableExtra' was built under R version 3.6.3\""
     ]
    },
    {
     "name": "stderr",
     "output_type": "stream",
     "text": [
      "\n",
      "Attaching package: 'kableExtra'\n",
      "\n"
     ]
    },
    {
     "name": "stderr",
     "output_type": "stream",
     "text": [
      "The following object is masked from 'package:dplyr':\n",
      "\n",
      "    group_rows\n",
      "\n"
     ]
    },
    {
     "name": "stderr",
     "output_type": "stream",
     "text": [
      "Warning message:\n",
      "\"package 'ggplot2' was built under R version 3.6.3\""
     ]
    },
    {
     "name": "stderr",
     "output_type": "stream",
     "text": [
      "Warning message:\n",
      "\"package 'patchwork' was built under R version 3.6.3\""
     ]
    },
    {
     "name": "stderr",
     "output_type": "stream",
     "text": [
      "Warning message:\n",
      "\"package 'DT' was built under R version 3.6.3\""
     ]
    },
    {
     "name": "stderr",
     "output_type": "stream",
     "text": [
      "Warning message:\n",
      "\"package 'scales' was built under R version 3.6.3\""
     ]
    },
    {
     "name": "stderr",
     "output_type": "stream",
     "text": [
      "Warning message:\n",
      "\"package 'stringr' was built under R version 3.6.3\""
     ]
    },
    {
     "name": "stderr",
     "output_type": "stream",
     "text": [
      "Warning message:\n",
      "\"package 'arsenal' was built under R version 3.6.3\""
     ]
    },
    {
     "name": "stderr",
     "output_type": "stream",
     "text": [
      "\n",
      "Attaching package: 'arsenal'\n",
      "\n"
     ]
    },
    {
     "name": "stderr",
     "output_type": "stream",
     "text": [
      "The following object is masked from 'package:scales':\n",
      "\n",
      "    ordinal\n",
      "\n"
     ]
    },
    {
     "name": "stderr",
     "output_type": "stream",
     "text": [
      "The following object is masked from 'package:magrittr':\n",
      "\n",
      "    set_attr\n",
      "\n"
     ]
    }
   ],
   "source": [
    "\n",
    "# Optional ultimately maybe parameterize if people need libs installed.\n",
    "\n",
    "# install.packages(\"arrow\")\n",
    "# install.packages(\"openxlsx\") # excel\n",
    "# install.packages(\"data.table\") # data manipulation\n",
    "# install.packages(\"dplyr\") # data manipulation used in some of the viz\n",
    "# install.packages(\"magrittr\") # chaining\n",
    "# install.packages(\"knitr\") # html table output with kable function\n",
    "# install.packages(\"kableExtra\") # addtl styling to kable tables\n",
    "# install.packages(\"ggplot2\") # visualization\n",
    "# install.packages(\"patchwork\") # viz, combine plots in one image\n",
    "# install.packages(\"DT\") # html table output (javascript)\n",
    "# install.packages(\"scales\") # plot scales\n",
    "# install.packages(\"stringr\") # string replace\n",
    "# install.packages(\"arsenal\") # comparison functionality\n",
    "\n",
    "\n",
    "#----- Libraries ------\n",
    "\n",
    "library(arrow) # read/write parquet\n",
    "library(openxlsx) # excel\n",
    "library(data.table) # data manipulation\n",
    "library(dplyr) # data manipulation used in some of the viz\n",
    "library(magrittr) # chaining\n",
    "library(knitr) # html table output with kable function\n",
    "library(kableExtra) # addtl styling to kable tables\n",
    "library(ggplot2) # visualization\n",
    "library(patchwork) # viz, combine plots in one image\n",
    "library(DT) # html table output (javascript)\n",
    "library(scales) # plot scales\n",
    "library(stringr) # string replace\n",
    "library(arsenal) # comparison functionality\n",
    "\n"
   ]
  },
  {
   "cell_type": "markdown",
   "id": "661d5c1d",
   "metadata": {
    "papermill": {
     "duration": 0.306813,
     "end_time": "2021-05-24T22:37:00.029258",
     "exception": false,
     "start_time": "2021-05-24T22:36:59.722445",
     "status": "completed"
    },
    "tags": []
   },
   "source": [
    "##### Read parquet file "
   ]
  },
  {
   "cell_type": "code",
   "execution_count": 4,
   "id": "22346089",
   "metadata": {
    "execution": {
     "iopub.execute_input": "2021-05-24T22:37:00.679794Z",
     "iopub.status.busy": "2021-05-24T22:37:00.674805Z",
     "iopub.status.idle": "2021-05-24T22:37:02.628987Z",
     "shell.execute_reply": "2021-05-24T22:37:02.624989Z"
    },
    "papermill": {
     "duration": 2.304847,
     "end_time": "2021-05-24T22:37:02.628987",
     "exception": false,
     "start_time": "2021-05-24T22:37:00.324140",
     "status": "completed"
    },
    "tags": []
   },
   "outputs": [],
   "source": [
    "rt_path <- file.path('//hecate/Insurance_US/Product Development/Product Management/Global PPM/Reporting/Data Collection/Production', percode )\n",
    "\n",
    "tempfile <- file.path(rt_path,'2021.Q1.localcur.parquet' )\n",
    "\n",
    "pq_input <-  read_parquet( tempfile,  col_select = NULL,\n",
    "  as_data_frame = TRUE,  props = ParquetArrowReaderProperties$create())"
   ]
  },
  {
   "cell_type": "markdown",
   "id": "e4d4d723",
   "metadata": {
    "papermill": {
     "duration": 0.294516,
     "end_time": "2021-05-24T22:37:03.236634",
     "exception": false,
     "start_time": "2021-05-24T22:37:02.942118",
     "status": "completed"
    },
    "tags": []
   },
   "source": [
    "##### Original data input section, some adaptations for i_bu"
   ]
  },
  {
   "cell_type": "code",
   "execution_count": 5,
   "id": "c86cdebc",
   "metadata": {
    "execution": {
     "iopub.execute_input": "2021-05-24T22:37:03.811803Z",
     "iopub.status.busy": "2021-05-24T22:37:03.807790Z",
     "iopub.status.idle": "2021-05-24T22:37:06.758760Z",
     "shell.execute_reply": "2021-05-24T22:37:06.751762Z"
    },
    "papermill": {
     "duration": 3.246068,
     "end_time": "2021-05-24T22:37:06.758760",
     "exception": false,
     "start_time": "2021-05-24T22:37:03.512692",
     "status": "completed"
    },
    "tags": []
   },
   "outputs": [
    {
     "name": "stdout",
     "output_type": "stream",
     "text": [
      "                       submission_file business_unit country currency\n",
      "   1: us_dat_au_02172021174434.parquet            AU      AU      AUD\n",
      "   2: us_dat_au_02172021174434.parquet            AU      AU      AUD\n",
      "   3: us_dat_au_02172021174434.parquet            AU      AU      AUD\n",
      "   4: us_dat_au_02172021174434.parquet            AU      AU      AUD\n",
      "   5: us_dat_au_02172021174434.parquet            AU      AU      AUD\n",
      "  ---                                                                \n",
      "1953: us_dat_pt_05202021121056.parquet            PT      PT      EUR\n",
      "1954: us_dat_pt_05202021121056.parquet            PT      PT      EUR\n",
      "1955: us_dat_pt_05202021121056.parquet            PT      PT      EUR\n",
      "1956: us_dat_pt_05202021121056.parquet            PT      PT      EUR\n",
      "1957: us_dat_pt_05202021121056.parquet            PT      PT      EUR\n",
      "                           region reporting_date_from   reporting_date_to\n",
      "   1:                        APAC 2019-12-31 19:00:00 2020-12-30 19:00:00\n",
      "   2:                        APAC 2019-12-31 19:00:00 2020-12-30 19:00:00\n",
      "   3:                        APAC 2019-12-31 19:00:00 2020-12-30 19:00:00\n",
      "   4:                        APAC 2019-12-31 19:00:00 2020-12-30 19:00:00\n",
      "   5:                        APAC 2019-12-31 19:00:00 2020-12-30 19:00:00\n",
      "  ---                                                                    \n",
      "1953: Western Europe, LATAM & MEA 2020-12-31 19:00:00 2021-03-30 20:00:00\n",
      "1954: Western Europe, LATAM & MEA 2020-12-31 19:00:00 2021-03-30 20:00:00\n",
      "1955: Western Europe, LATAM & MEA 2020-12-31 19:00:00 2021-03-30 20:00:00\n",
      "1956: Western Europe, LATAM & MEA 2020-12-31 19:00:00 2021-03-30 20:00:00\n",
      "1957: Western Europe, LATAM & MEA 2020-12-31 19:00:00 2021-03-30 20:00:00\n",
      "         date_of_analysis        type_of_analysis analysed_months\n",
      "   1: 2021-02-07 19:00:00 Most Recently 12 Months              12\n",
      "   2: 2021-02-07 19:00:00 Most Recently 12 Months              12\n",
      "   3: 2021-02-07 19:00:00 Most Recently 12 Months              12\n",
      "   4: 2021-02-07 19:00:00 Most Recently 12 Months              12\n",
      "   5: 2021-02-07 19:00:00 Most Recently 12 Months              12\n",
      "  ---                                                            \n",
      "1953: 2021-03-30 20:00:00            Year To Date               3\n",
      "1954: 2021-03-30 20:00:00            Year To Date               3\n",
      "1955: 2021-03-30 20:00:00            Year To Date               3\n",
      "1956: 2021-03-30 20:00:00            Year To Date               3\n",
      "1957: 2021-03-30 20:00:00            Year To Date               3\n",
      "      reporting_year reporting_quarter reporting_month type_of_business\n",
      "   1:           2020                 4              12        Insurance\n",
      "   2:           2020                 4              12        Insurance\n",
      "   3:           2020                 4              12        Insurance\n",
      "   4:           2020                 4              12        Insurance\n",
      "   5:           2020                 4              12        Insurance\n",
      "  ---                                                                  \n",
      "1953:           2021                 1               3      Reinsurance\n",
      "1954:           2021                 1               3      Reinsurance\n",
      "1955:           2021                 1               3      Reinsurance\n",
      "1956:           2021                 1               3      Reinsurance\n",
      "1957:           2021                 1               3      Reinsurance\n",
      "      type_of_account distribution_type    lob      distribution_channel\n",
      "   1:           Local             B2B2C Travel      Allianz Affiliations\n",
      "   2:           Local             B2B2C Travel   Offline Travel Agencies\n",
      "   3:           Local             B2B2C Travel   Offline Travel Agencies\n",
      "   4:           Local             B2B2C Travel      Allianz Affiliations\n",
      "   5:           Local             B2B2C Travel       Carriers - Airlines\n",
      "  ---                                                                   \n",
      "1953:           Local             B2B2C Travel Direct (Allianz Partners)\n",
      "1954:           Local             B2B2C Travel Direct (Allianz Partners)\n",
      "1955:           Local             B2B2C Travel Direct (Allianz Partners)\n",
      "1956:           Local             B2B2C Travel Direct (Allianz Partners)\n",
      "1957:           Local               B2B Travel Direct (Allianz Partners)\n",
      "                                      sub_lob\n",
      "   1:                            Not Provided\n",
      "   2:                            Not Provided\n",
      "   3:                            Not Provided\n",
      "   4:                            Not Provided\n",
      "   5:                            Not Provided\n",
      "  ---                                        \n",
      "1953: Travel Medical Short Term - Single Trip\n",
      "1954: Travel Medical Short Term - Single Trip\n",
      "1955: Travel Medical Short Term - Single Trip\n",
      "1956: Travel Medical Short Term - Single Trip\n",
      "1957:   Standalone Cancellation - Single Trip\n",
      "                      business_partner_name business_partner_id_number\n",
      "   1:                              1300 INS                       2876\n",
      "   2:                                 AGAAU                       6034\n",
      "   3:                                 AGDIR                       6261\n",
      "   4:                                   AHL                       6763\n",
      "   5:                              AIRPACAU                       5880\n",
      "  ---                                                                 \n",
      "1953: AZ AP Grupo Viagens Opção A e Opção B                 Assistance\n",
      "1954:                      AZ AP Individual                 Assistance\n",
      "1955:            AZ Viagens 2011 (ex-APAVT)                 Assistance\n",
      "1956:                        Nossa Seguros                  Assistance\n",
      "1957:           AZ Trabalhadores Deslocados                Assistance \n",
      "      product_name product_id_number product_family standard_product\n",
      "   1:                                                               \n",
      "   2:                                                               \n",
      "   3:                                                               \n",
      "   4:                                                               \n",
      "   5:                                                               \n",
      "  ---                                                               \n",
      "1953:   Assistance      Not Provided     Assistance              Yes\n",
      "1954:   Assistance      Not Provided     Assistance              Yes\n",
      "1955:   Assistance      Not Provided     Assistance              Yes\n",
      "1956:   Assistance      Not Provided     Assistance              Yes\n",
      "1957:   Assistance      Not Provided     Assistance              Yes\n",
      "      number_of_products_per_row number_of_b-partners_per_row\n",
      "   1:                          0                            0\n",
      "   2:                          0                            0\n",
      "   3:                          0                            0\n",
      "   4:                          0                            0\n",
      "   5:                          0                            0\n",
      "  ---                                                        \n",
      "1953:                          1                            1\n",
      "1954:                          1                            1\n",
      "1955:                          1                            1\n",
      "1956:                          1                            1\n",
      "1957:                          1                            1\n",
      "      number_of_policies_(written) units_of_risk_(written)\n",
      "   1:                           13                       0\n",
      "   2:                          238                       0\n",
      "   3:                           40                       0\n",
      "   4:                            4                       0\n",
      "   5:                           49                       0\n",
      "  ---                                                     \n",
      "1953:                            0                       0\n",
      "1954:                            0                       0\n",
      "1955:                            0                       0\n",
      "1956:                            0                       0\n",
      "1957:                            0                       0\n",
      "      written_revenues_net_of_taxes written_revenues\n",
      "   1:                      1772.440           0.0000\n",
      "   2:                     73384.987           0.0000\n",
      "   3:                      4193.430           0.0000\n",
      "   4:                       874.890           0.0000\n",
      "   5:                      3388.472           0.0000\n",
      "  ---                                               \n",
      "1953:                      1509.160        1644.9844\n",
      "1954:                      2164.110        2358.8799\n",
      "1955:                       309.720         337.5948\n",
      "1956:                         0.000           0.0000\n",
      "1957:                      1260.000        1373.4000\n",
      "      number_of_policies_(earned) units_of_risk_(earned)\n",
      "   1:                           0                      0\n",
      "   2:                           0                      0\n",
      "   3:                           0                      0\n",
      "   4:                           0                      0\n",
      "   5:                           0                      0\n",
      "  ---                                                   \n",
      "1953:                           0                      0\n",
      "1954:                           0                      0\n",
      "1955:                           0                      0\n",
      "1956:                           0                      0\n",
      "1957:                           0                      0\n",
      "      earned_revenues_net_of_taxes earned_revenues earned_base_commissions\n",
      "   1:                     5524.772          0.0000                411.4924\n",
      "   2:                   517217.301          0.0000             186987.7598\n",
      "   3:                    12578.476          0.0000               1798.8306\n",
      "   4:                      874.890          0.0000                171.8100\n",
      "   5:                    11928.464          0.0000               4812.8102\n",
      "  ---                                                                     \n",
      "1953:                     1576.860       1718.7774                  0.0000\n",
      "1954:                     2085.800       2273.5220                  0.0000\n",
      "1955:                       16.570         18.0613                  0.0000\n",
      "1956:                       68.000         74.1200                  0.0000\n",
      "1957:                     1260.000       1373.4000                  0.0000\n",
      "      earned_over-commissions upfront_cash_payments total_compensation\n",
      "   1:                       0                     0           411.4924\n",
      "   2:                       0                     0        186987.7598\n",
      "   3:                       0                     0          1798.8306\n",
      "   4:                       0                     0           171.8100\n",
      "   5:                       0                     0          4812.8102\n",
      "  ---                                                                 \n",
      "1953:                       0                     0             0.0000\n",
      "1954:                       0                     0             0.0000\n",
      "1955:                       0                     0             0.0000\n",
      "1956:                       0                     0             0.0000\n",
      "1957:                       0                     0             0.0000\n",
      "      number_of_claims_(paid_+_ocr_+_ibnr) number_of_open_claims open_claims_%\n",
      "   1:                                    2                     0             0\n",
      "   2:                                   88                     0             0\n",
      "   3:                                    1                     0             0\n",
      "   4:                                    0                     0             0\n",
      "   5:                                    2                     0             0\n",
      "  ---                                                                         \n",
      "1953:                                    0                     0             0\n",
      "1954:                                    0                     0             0\n",
      "1955:                                    0                     0             0\n",
      "1956:                                    0                     0             0\n",
      "1957:                                    0                     0             0\n",
      "      number_of_persons_involved_in_claims_(paid_+_ocr_+_ibnr) paid_claims\n",
      "   1:                                                        0      841.60\n",
      "   2:                                                        0   179952.53\n",
      "   3:                                                        0        0.00\n",
      "   4:                                                        0        0.00\n",
      "   5:                                                        0      650.38\n",
      "  ---                                                                     \n",
      "1953:                                                        0       69.45\n",
      "1954:                                                        0        0.00\n",
      "1955:                                                        0      630.12\n",
      "1956:                                                        0        0.00\n",
      "1957:                                                        0        0.00\n",
      "       ocr_+_ibnr actual_incurred_losses_(paid_+_ocr_+_ibnr)\n",
      "   1:   158.94983                                 1000.54983\n",
      "   2: 30986.37964                               210938.90574\n",
      "   3:   284.26896                                  284.26896\n",
      "   4:    16.84756                                   16.84756\n",
      "   5:   317.16620                                  967.54620\n",
      "  ---                                                       \n",
      "1953:  1472.11000                                 1541.56000\n",
      "1954:   608.72000                                  608.72000\n",
      "1955:     0.00000                                  630.12000\n",
      "1956:     0.00000                                    0.00000\n",
      "1957:     0.00000                                    0.00000\n",
      "      internal_variable_costs_(excl._az_tech_fee)  az_tech_fee\n",
      "   1:                                   930.69617   315.488111\n",
      "   2:                                 91986.08754 29535.321094\n",
      "   3:                                  1076.94504   718.284798\n",
      "   4:                                    55.08391    49.959963\n",
      "   5:                                  1236.77043   681.166314\n",
      "  ---                                                         \n",
      "1953:                                   433.79001    45.413568\n",
      "1954:                                   341.09598    60.071040\n",
      "1955:                                   305.05414     0.477216\n",
      "1956:                                    33.11451     1.958400\n",
      "1957:                                   835.26595    36.288000\n",
      "      internal_fixed_costs_(excl._hq_fees)      hq_fees total_expenses\n",
      "   1:                           1474.39534   546.657015     3267.23663\n",
      "   2:                         145930.89059 54435.025836   321887.32505\n",
      "   3:                           3144.45167  1298.674892     6238.35640\n",
      "   4:                            151.52792    51.138343      307.71014\n",
      "   5:                           2633.39439  1329.630483     5880.96161\n",
      "  ---                                                                 \n",
      "1953:                            272.79678    96.976890      848.97724\n",
      "1954:                            360.84340   128.276700      890.28712\n",
      "1955:                              2.86661     1.019055      309.41702\n",
      "1956:                             19.17600     4.182000       58.43091\n",
      "1957:                            355.32000    63.000000     1289.87395\n",
      "      frequency_(earned) severity risk_premium contribution_margin_-_bu_view\n",
      "   1:                  0        0            0                    2319.88828\n",
      "   2:                  0        0            0                  -56665.79890\n",
      "   3:                  0        0            0                    7401.47161\n",
      "   4:                  0        0            0                     530.05023\n",
      "   5:                  0        0            0                    2900.53997\n",
      "  ---                                                                       \n",
      "1953:                  0        0            0                    -540.88046\n",
      "1954:                  0        0            0                     947.63628\n",
      "1955:                  0        0            0                    -920.10041\n",
      "1956:                  0        0            0                      28.74509\n",
      "1957:                  0        0            0                     325.44605\n",
      "      contribution_margin_%_on_fixed_costs_-_bu_view\n",
      "   1:                                      1.5734506\n",
      "   2:                                     -0.3883057\n",
      "   3:                                      2.3538195\n",
      "   4:                                      3.4980366\n",
      "   5:                                      1.1014453\n",
      "  ---                                               \n",
      "1953:                                     -1.9827231\n",
      "1954:                                      2.6261705\n",
      "1955:                                   -320.9716034\n",
      "1956:                                      1.4990138\n",
      "1957:                                      0.9159238\n",
      "      contribution_margin_%_on_earned_revenues_net_of_taxes_-_bu_view\n",
      "   1:                                                       0.4199066\n",
      "   2:                                                      -0.1095590\n",
      "   3:                                                       0.5884236\n",
      "   4:                                                       0.6058479\n",
      "   5:                                                       0.2431612\n",
      "  ---                                                                \n",
      "1953:                                                      -0.3430111\n",
      "1954:                                                       0.4543275\n",
      "1955:                                                     -55.5280874\n",
      "1956:                                                       0.4227219\n",
      "1957:                                                       0.2582905\n",
      "      contribution_margin_-_hq_view\n",
      "   1:                    2866.54530\n",
      "   2:                   -2230.77307\n",
      "   3:                    8700.14650\n",
      "   4:                     581.18857\n",
      "   5:                    4230.17046\n",
      "  ---                              \n",
      "1953:                    -443.90357\n",
      "1954:                    1075.91298\n",
      "1955:                    -919.08135\n",
      "1956:                      32.92709\n",
      "1957:                     388.44605\n",
      "      contribution_margin_%_on_fixed_costs_-_hq_view\n",
      "   1:                                      1.4183429\n",
      "   2:                                     -0.0111335\n",
      "   3:                                      1.9581136\n",
      "   4:                                      2.8677124\n",
      "   5:                                      1.0674095\n",
      "  ---                                               \n",
      "1953:                                     -1.2004737\n",
      "1954:                                      2.1996908\n",
      "1955:                                   -236.5312895\n",
      "1956:                                      1.4096707\n",
      "1957:                                      0.9285859\n",
      "      contribution_margin_%_on_earned_revenues_net_of_taxes_-_hq_view\n",
      "   1:                                                     0.518853158\n",
      "   2:                                                    -0.004313029\n",
      "   3:                                                     0.691669370\n",
      "   4:                                                     0.664299019\n",
      "   5:                                                     0.354628274\n",
      "  ---                                                                \n",
      "1953:                                                    -0.281511088\n",
      "1954:                                                     0.515827491\n",
      "1955:                                                   -55.466587383\n",
      "1956:                                                     0.484221891\n",
      "1957:                                                     0.308290514\n",
      "       loss_ratio commission_ratio expense_ratio combined_ratio profit_or_loss\n",
      "   1:  0.18110247       0.07448134     0.5913795      0.8469633   8.454929e+02\n",
      "   2:  0.40783420       0.36152650     0.6223445      1.3917052  -2.025967e+05\n",
      "   3:  0.02259963       0.14300863     0.4959549      0.6615631   4.257020e+03\n",
      "   4:  0.01925677       0.19637897     0.3517129      0.5673487   3.785223e+02\n",
      "   5:  0.08111239       0.40347277     0.4930192      0.9776044   2.671456e+02\n",
      "  ---                                                                         \n",
      "1953:  0.97761374       0.00000000     0.5383973      1.5160111  -8.136772e+02\n",
      "1954:  0.29184006       0.00000000     0.4268324      0.7186725   5.867929e+02\n",
      "1955: 38.02776101       0.00000000    18.6733264     56.7010874  -9.229670e+02\n",
      "1956:  0.00000000       0.00000000     0.8592781      0.8592781   9.569089e+00\n",
      "1957:  0.00000000       0.00000000     1.0237095      1.0237095  -2.987395e+01\n",
      "      notes unnamed:_65 concat2     comsub     expsub reporting_date_from_int\n",
      "   1:                     AUAUD 0.07448134  0.5913795                20200101\n",
      "   2:                     AUAUD 0.36152650  0.6223445                20200101\n",
      "   3:                     AUAUD 0.14300863  0.4959549                20200101\n",
      "   4:                     AUAUD 0.19637897  0.3517129                20200101\n",
      "   5:                     AUAUD 0.40347277  0.4930192                20200101\n",
      "  ---                                                                        \n",
      "1953:   0.0        <NA>   PTEUR 0.00000000  0.5383973                20210101\n",
      "1954:   0.0        <NA>   PTEUR 0.00000000  0.4268324                20210101\n",
      "1955:   0.0        <NA>   PTEUR 0.00000000 18.6733264                20210101\n",
      "1956:   0.0        <NA>   PTEUR 0.00000000  0.8592781                20210101\n",
      "1957:   0.0        <NA>   PTEUR 0.00000000  1.0237095                20210101\n",
      "      reporting_date_to_int date_of_analysis_int\n",
      "   1:              20201231             20210208\n",
      "   2:              20201231             20210208\n",
      "   3:              20201231             20210208\n",
      "   4:              20201231             20210208\n",
      "   5:              20201231             20210208\n",
      "  ---                                           \n",
      "1953:              20210331             20210331\n",
      "1954:              20210331             20210331\n",
      "1955:              20210331             20210331\n",
      "1956:              20210331             20210331\n",
      "1957:              20210331             20210331\n",
      "                                                                                                                                           selected_fields_for_duplicates\n",
      "   1:                                                                                                         AUInsuranceLocalB2B2CTravelAllianz Affiliations1300 INS2876\n",
      "   2:                                                                                                         AUInsuranceLocalB2B2CTravelOffline Travel AgenciesAGAAU6034\n",
      "   3:                                                                                                         AUInsuranceLocalB2B2CTravelOffline Travel AgenciesAGDIR6261\n",
      "   4:                                                                                                              AUInsuranceLocalB2B2CTravelAllianz AffiliationsAHL6763\n",
      "   5:                                                                                                          AUInsuranceLocalB2B2CTravelCarriers - AirlinesAIRPACAU5880\n",
      "  ---                                                                                                                                                                    \n",
      "1953: PTReinsuranceLocalB2B2CTravelDirect (Allianz Partners)Travel Medical Short Term - Single TripAZ AP Grupo Viagens Opção A e Opção BAssistanceAssistanceAssistanceYes\n",
      "1954:                      PTReinsuranceLocalB2B2CTravelDirect (Allianz Partners)Travel Medical Short Term - Single TripAZ AP IndividualAssistanceAssistanceAssistanceYes\n",
      "1955:            PTReinsuranceLocalB2B2CTravelDirect (Allianz Partners)Travel Medical Short Term - Single TripAZ Viagens 2011 (ex-APAVT)AssistanceAssistanceAssistanceYes\n",
      "1956:                         PTReinsuranceLocalB2B2CTravelDirect (Allianz Partners)Travel Medical Short Term - Single TripNossa SegurosAssistanceAssistanceAssistanceYes\n",
      "1957:               PTReinsuranceLocalB2BTravelDirect (Allianz Partners)Standalone Cancellation - Single TripAZ Trabalhadores DeslocadosAssistanceAssistanceAssistanceYes\n",
      "      %_of_ibnr_on_(ocr_+_ibnr) unnamed:_66 ibnrsub            rep_date\n",
      "   1:                         0          NA      NA 2020-12-30 19:00:00\n",
      "   2:                         0          NA      NA 2020-12-30 19:00:00\n",
      "   3:                         0          NA      NA 2020-12-30 19:00:00\n",
      "   4:                         0          NA      NA 2020-12-30 19:00:00\n",
      "   5:                         0          NA      NA 2020-12-30 19:00:00\n",
      "  ---                                                                  \n",
      "1953:                         0           0       0 2021-03-30 20:00:00\n",
      "1954:                         0           0       0 2021-03-30 20:00:00\n",
      "1955:                         0           0       0 2021-03-30 20:00:00\n",
      "1956:                         0           0       0 2021-03-30 20:00:00\n",
      "1957:                         0           0       0 2021-03-30 20:00:00\n",
      "      __index_level_0__\n",
      "   1:                 0\n",
      "   2:                 1\n",
      "   3:                 2\n",
      "   4:                 3\n",
      "   5:                 4\n",
      "  ---                  \n",
      "1953:              3451\n",
      "1954:              3452\n",
      "1955:              3453\n",
      "1956:              3454\n",
      "1957:              3455\n"
     ]
    }
   ],
   "source": [
    "\n",
    "# source('ColorPalette.R')\n",
    "\n",
    "#----- Data ------\n",
    "\n",
    "# define data directory\n",
    "data_dir <- rt_path\n",
    "\n",
    "\n",
    "\n",
    "# read in BU datasets\n",
    "# data has been pre-processed and already converted to one currency (euro)\n",
    "#d_input <- fread(file.path(data_dir, '2020.Q4.euroconv.csv'))\n",
    "\n",
    "\n",
    "\n",
    "\n",
    "# read in dataset for reference items\n",
    "# file for inputs\n",
    "inputs <- paste(\"GPPM_Input_\",percode,\".xlsx\",sep=\"\")\n",
    "\n",
    "# read in Euro exchange rates\n",
    "# !!! use rates as of the end of the reporting period\n",
    "# From Az Connect, https://connect.allianz.com/docs/DOC-220762\n",
    "i_rates <- as.data.table(\n",
    "  read.xlsx(\n",
    "    xlsxFile = file.path(data_dir, inputs), \n",
    "    sheet = 'Euro_Rates'\n",
    "    )\n",
    "  )\n",
    "\n",
    "i_def <- as.data.table(read.xlsx(\n",
    "  xlsxFile = file.path(data_dir, inputs), \n",
    "  sheet = 'Definitions', \n",
    "  startRow = 1\n",
    "  )\n",
    ")\n",
    "names(i_def)[names(i_def) == 'Data.Type'] <- 'Data Type' # quick way (base R) to replace the \".\" in Data Type header\n",
    "\n",
    "i_bu <- as.data.table(\n",
    "  read.xlsx(\n",
    "  xlsxFile = file.path(data_dir, inputs), \n",
    "  sheet = 'BU_Descr', \n",
    "  startRow = 1\n",
    "  )\n",
    ")\n",
    "\n",
    "#create R object from py variable\n",
    "\n",
    "d_input <- as.data.table(pq_input)\n",
    "\n",
    "print(d_input)"
   ]
  },
  {
   "cell_type": "markdown",
   "id": "9e5df278",
   "metadata": {
    "papermill": {
     "duration": 0.57729,
     "end_time": "2021-05-24T22:37:07.701425",
     "exception": false,
     "start_time": "2021-05-24T22:37:07.124135",
     "status": "completed"
    },
    "tags": []
   },
   "source": [
    "##### Data manipulation functions"
   ]
  },
  {
   "cell_type": "code",
   "execution_count": 6,
   "id": "09c16056",
   "metadata": {
    "execution": {
     "iopub.execute_input": "2021-05-24T22:37:08.558513Z",
     "iopub.status.busy": "2021-05-24T22:37:08.548511Z",
     "iopub.status.idle": "2021-05-24T22:37:08.617511Z",
     "shell.execute_reply": "2021-05-24T22:37:08.614523Z"
    },
    "papermill": {
     "duration": 0.477532,
     "end_time": "2021-05-24T22:37:08.617511",
     "exception": false,
     "start_time": "2021-05-24T22:37:08.139979",
     "status": "completed"
    },
    "tags": []
   },
   "outputs": [],
   "source": [
    "# replace all NAs with 0\n",
    "# stolen from https://stackoverflow.com/questions/7235657/fastest-way-to-replace-nas-in-a-large-data-table\n",
    "replaceNA <- function(dt, replace = 0) {\n",
    "  for (j in seq_len(ncol(dt)))\n",
    "    set(dt, which(is.na(dt[[j]])), j , replace)\n",
    "}\n",
    "\n",
    "# Rename columns to make easier to work with in a function\n",
    "# Replace \".\"s with \"_\"s & make lower case\n",
    "# replace other patterns not needed in description\n",
    "fixNames <- function(columns) {\n",
    "  columns <- columns %>%\n",
    "    tolower() %>% \n",
    "    gsub(pattern = '.', replacement = '_', fixed = TRUE) %>% \n",
    "    gsub(pattern = '_(paid_+_ocr_+_ibnr)', replacement = '', fixed = TRUE) %>%\n",
    "    gsub(pattern = '_(excl__az_tech_fee)', replacement = '', fixed = TRUE) %>%\n",
    "    gsub(pattern = '_(excl__hq_fees)', replacement = '', fixed = TRUE) %>%\n",
    "    gsub(pattern = 'persons_involved_in_claims', replacement = 'claimants', fixed = TRUE) %>%\n",
    "    gsub(pattern = 'units_of_risk', replacement = 'insureds', fixed = TRUE) %>%\n",
    "    gsub(pattern = 'contribution_margin', replacement = 'cm', fixed = TRUE) %>%\n",
    "    gsub(pattern = 'number_of', replacement = 'num', fixed = TRUE) %>%\n",
    "    gsub(pattern = '%', replacement = 'pct', fixed = TRUE) %>%\n",
    "    gsub(pattern = '(', replacement = '', fixed = TRUE) %>% \n",
    "    gsub(pattern = ')', replacement = '', fixed = TRUE) %>% \n",
    "    gsub(pattern = '-_', replacement = '', fixed = TRUE) %>%\n",
    "    gsub(pattern = '+', replacement = '', fixed = TRUE) %>% \n",
    "    gsub(pattern = '-', replacement = '_', fixed = TRUE)\n",
    "\n",
    "  return(columns)\n",
    "}\n",
    "\n"
   ]
  },
  {
   "cell_type": "markdown",
   "id": "d9b98775",
   "metadata": {
    "papermill": {
     "duration": 0.432135,
     "end_time": "2021-05-24T22:37:09.452045",
     "exception": false,
     "start_time": "2021-05-24T22:37:09.019910",
     "status": "completed"
    },
    "tags": []
   },
   "source": [
    "##### Sample Data Manipulation Applied"
   ]
  },
  {
   "cell_type": "code",
   "execution_count": 7,
   "id": "19405faf",
   "metadata": {
    "execution": {
     "iopub.execute_input": "2021-05-24T22:37:10.319820Z",
     "iopub.status.busy": "2021-05-24T22:37:10.306809Z",
     "iopub.status.idle": "2021-05-24T22:37:10.958684Z",
     "shell.execute_reply": "2021-05-24T22:37:10.950687Z"
    },
    "papermill": {
     "duration": 1.107023,
     "end_time": "2021-05-24T22:37:10.959686",
     "exception": false,
     "start_time": "2021-05-24T22:37:09.852663",
     "status": "completed"
    },
    "tags": []
   },
   "outputs": [
    {
     "name": "stdout",
     "output_type": "stream",
     "text": [
      "      business_unit                  submission_file country currency\n",
      "   1:            AU us_dat_au_02172021174434.parquet      AU      AUD\n",
      "   2:            AU us_dat_au_02172021174434.parquet      AU      AUD\n",
      "   3:            AU us_dat_au_02172021174434.parquet      AU      AUD\n",
      "   4:            AU us_dat_au_02172021174434.parquet      AU      AUD\n",
      "   5:            AU us_dat_au_02172021174434.parquet      AU      AUD\n",
      "  ---                                                                \n",
      "1953:            PT us_dat_pt_05202021121056.parquet      PT      EUR\n",
      "1954:            PT us_dat_pt_05202021121056.parquet      PT      EUR\n",
      "1955:            PT us_dat_pt_05202021121056.parquet      PT      EUR\n",
      "1956:            PT us_dat_pt_05202021121056.parquet      PT      EUR\n",
      "1957:            PT us_dat_pt_05202021121056.parquet      PT      EUR\n",
      "                           region reporting_date_from   reporting_date_to\n",
      "   1:                        APAC 2019-12-31 19:00:00 2020-12-30 19:00:00\n",
      "   2:                        APAC 2019-12-31 19:00:00 2020-12-30 19:00:00\n",
      "   3:                        APAC 2019-12-31 19:00:00 2020-12-30 19:00:00\n",
      "   4:                        APAC 2019-12-31 19:00:00 2020-12-30 19:00:00\n",
      "   5:                        APAC 2019-12-31 19:00:00 2020-12-30 19:00:00\n",
      "  ---                                                                    \n",
      "1953: Western Europe, LATAM & MEA 2020-12-31 19:00:00 2021-03-30 20:00:00\n",
      "1954: Western Europe, LATAM & MEA 2020-12-31 19:00:00 2021-03-30 20:00:00\n",
      "1955: Western Europe, LATAM & MEA 2020-12-31 19:00:00 2021-03-30 20:00:00\n",
      "1956: Western Europe, LATAM & MEA 2020-12-31 19:00:00 2021-03-30 20:00:00\n",
      "1957: Western Europe, LATAM & MEA 2020-12-31 19:00:00 2021-03-30 20:00:00\n",
      "         date_of_analysis        type_of_analysis analysed_months\n",
      "   1: 2021-02-07 19:00:00 Most Recently 12 Months              12\n",
      "   2: 2021-02-07 19:00:00 Most Recently 12 Months              12\n",
      "   3: 2021-02-07 19:00:00 Most Recently 12 Months              12\n",
      "   4: 2021-02-07 19:00:00 Most Recently 12 Months              12\n",
      "   5: 2021-02-07 19:00:00 Most Recently 12 Months              12\n",
      "  ---                                                            \n",
      "1953: 2021-03-30 20:00:00            Year To Date               3\n",
      "1954: 2021-03-30 20:00:00            Year To Date               3\n",
      "1955: 2021-03-30 20:00:00            Year To Date               3\n",
      "1956: 2021-03-30 20:00:00            Year To Date               3\n",
      "1957: 2021-03-30 20:00:00            Year To Date               3\n",
      "      reporting_year reporting_quarter reporting_month type_of_business\n",
      "   1:           2020                 4              12        Insurance\n",
      "   2:           2020                 4              12        Insurance\n",
      "   3:           2020                 4              12        Insurance\n",
      "   4:           2020                 4              12        Insurance\n",
      "   5:           2020                 4              12        Insurance\n",
      "  ---                                                                  \n",
      "1953:           2021                 1               3      Reinsurance\n",
      "1954:           2021                 1               3      Reinsurance\n",
      "1955:           2021                 1               3      Reinsurance\n",
      "1956:           2021                 1               3      Reinsurance\n",
      "1957:           2021                 1               3      Reinsurance\n",
      "      type_of_account distribution_type    lob      distribution_channel\n",
      "   1:           Local             B2B2C Travel      Allianz Affiliations\n",
      "   2:           Local             B2B2C Travel   Offline Travel Agencies\n",
      "   3:           Local             B2B2C Travel   Offline Travel Agencies\n",
      "   4:           Local             B2B2C Travel      Allianz Affiliations\n",
      "   5:           Local             B2B2C Travel       Carriers - Airlines\n",
      "  ---                                                                   \n",
      "1953:           Local             B2B2C Travel Direct (Allianz Partners)\n",
      "1954:           Local             B2B2C Travel Direct (Allianz Partners)\n",
      "1955:           Local             B2B2C Travel Direct (Allianz Partners)\n",
      "1956:           Local             B2B2C Travel Direct (Allianz Partners)\n",
      "1957:           Local               B2B Travel Direct (Allianz Partners)\n",
      "                                      sub_lob\n",
      "   1:                            Not Provided\n",
      "   2:                            Not Provided\n",
      "   3:                            Not Provided\n",
      "   4:                            Not Provided\n",
      "   5:                            Not Provided\n",
      "  ---                                        \n",
      "1953: Travel Medical Short Term - Single Trip\n",
      "1954: Travel Medical Short Term - Single Trip\n",
      "1955: Travel Medical Short Term - Single Trip\n",
      "1956: Travel Medical Short Term - Single Trip\n",
      "1957:   Standalone Cancellation - Single Trip\n",
      "                      business_partner_name business_partner_id_number\n",
      "   1:                              1300 INS                       2876\n",
      "   2:                                 AGAAU                       6034\n",
      "   3:                                 AGDIR                       6261\n",
      "   4:                                   AHL                       6763\n",
      "   5:                              AIRPACAU                       5880\n",
      "  ---                                                                 \n",
      "1953: AZ AP Grupo Viagens Opção A e Opção B                 Assistance\n",
      "1954:                      AZ AP Individual                 Assistance\n",
      "1955:            AZ Viagens 2011 (ex-APAVT)                 Assistance\n",
      "1956:                        Nossa Seguros                  Assistance\n",
      "1957:           AZ Trabalhadores Deslocados                Assistance \n",
      "      product_name product_id_number product_family standard_product\n",
      "   1: Not Provided                                                  \n",
      "   2: Not Provided                                                  \n",
      "   3: Not Provided                                                  \n",
      "   4: Not Provided                                                  \n",
      "   5: Not Provided                                                  \n",
      "  ---                                                               \n",
      "1953:   Assistance      Not Provided     Assistance              Yes\n",
      "1954:   Assistance      Not Provided     Assistance              Yes\n",
      "1955:   Assistance      Not Provided     Assistance              Yes\n",
      "1956:   Assistance      Not Provided     Assistance              Yes\n",
      "1957:   Assistance      Not Provided     Assistance              Yes\n",
      "      num_products_per_row num_b_partners_per_row num_policies_written\n",
      "   1:                    0                      0                   13\n",
      "   2:                    0                      0                  238\n",
      "   3:                    0                      0                   40\n",
      "   4:                    0                      0                    4\n",
      "   5:                    0                      0                   49\n",
      "  ---                                                                 \n",
      "1953:                    1                      1                    0\n",
      "1954:                    1                      1                    0\n",
      "1955:                    1                      1                    0\n",
      "1956:                    1                      1                    0\n",
      "1957:                    1                      1                    0\n",
      "      insureds_written written_revenues_net_of_taxes written_revenues\n",
      "   1:                0                      1772.440           0.0000\n",
      "   2:                0                     73384.987           0.0000\n",
      "   3:                0                      4193.430           0.0000\n",
      "   4:                0                       874.890           0.0000\n",
      "   5:                0                      3388.472           0.0000\n",
      "  ---                                                                \n",
      "1953:                0                      1509.160        1644.9844\n",
      "1954:                0                      2164.110        2358.8799\n",
      "1955:                0                       309.720         337.5948\n",
      "1956:                0                         0.000           0.0000\n",
      "1957:                0                      1260.000        1373.4000\n",
      "      num_policies_earned insureds_earned earned_revenues_net_of_taxes\n",
      "   1:                   0               0                     5524.772\n",
      "   2:                   0               0                   517217.301\n",
      "   3:                   0               0                    12578.476\n",
      "   4:                   0               0                      874.890\n",
      "   5:                   0               0                    11928.464\n",
      "  ---                                                                 \n",
      "1953:                   0               0                     1576.860\n",
      "1954:                   0               0                     2085.800\n",
      "1955:                   0               0                       16.570\n",
      "1956:                   0               0                       68.000\n",
      "1957:                   0               0                     1260.000\n",
      "      earned_revenues earned_base_commissions earned_over_commissions\n",
      "   1:          0.0000                411.4924                       0\n",
      "   2:          0.0000             186987.7598                       0\n",
      "   3:          0.0000               1798.8306                       0\n",
      "   4:          0.0000                171.8100                       0\n",
      "   5:          0.0000               4812.8102                       0\n",
      "  ---                                                                \n",
      "1953:       1718.7774                  0.0000                       0\n",
      "1954:       2273.5220                  0.0000                       0\n",
      "1955:         18.0613                  0.0000                       0\n",
      "1956:         74.1200                  0.0000                       0\n",
      "1957:       1373.4000                  0.0000                       0\n",
      "      upfront_cash_payments total_compensation num_claims num_open_claims\n",
      "   1:                     0           411.4924          2               0\n",
      "   2:                     0        186987.7598         88               0\n",
      "   3:                     0          1798.8306          1               0\n",
      "   4:                     0           171.8100          0               0\n",
      "   5:                     0          4812.8102          2               0\n",
      "  ---                                                                    \n",
      "1953:                     0             0.0000          0               0\n",
      "1954:                     0             0.0000          0               0\n",
      "1955:                     0             0.0000          0               0\n",
      "1956:                     0             0.0000          0               0\n",
      "1957:                     0             0.0000          0               0\n",
      "      open_claims_pct num_claimants paid_claims   ocr__ibnr\n",
      "   1:               0             0      841.60   158.94983\n",
      "   2:               0             0   179952.53 30986.37964\n",
      "   3:               0             0        0.00   284.26896\n",
      "   4:               0             0        0.00    16.84756\n",
      "   5:               0             0      650.38   317.16620\n",
      "  ---                                                      \n",
      "1953:               0             0       69.45  1472.11000\n",
      "1954:               0             0        0.00   608.72000\n",
      "1955:               0             0      630.12     0.00000\n",
      "1956:               0             0        0.00     0.00000\n",
      "1957:               0             0        0.00     0.00000\n",
      "      actual_incurred_losses internal_variable_costs  az_tech_fee\n",
      "   1:             1000.54983               930.69617   315.488111\n",
      "   2:           210938.90574             91986.08754 29535.321094\n",
      "   3:              284.26896              1076.94504   718.284798\n",
      "   4:               16.84756                55.08391    49.959963\n",
      "   5:              967.54620              1236.77043   681.166314\n",
      "  ---                                                            \n",
      "1953:             1541.56000               433.79001    45.413568\n",
      "1954:              608.72000               341.09598    60.071040\n",
      "1955:              630.12000               305.05414     0.477216\n",
      "1956:                0.00000                33.11451     1.958400\n",
      "1957:                0.00000               835.26595    36.288000\n",
      "      internal_fixed_costs      hq_fees total_expenses frequency_earned\n",
      "   1:           1474.39534   546.657015     3267.23663                0\n",
      "   2:         145930.89059 54435.025836   321887.32505                0\n",
      "   3:           3144.45167  1298.674892     6238.35640                0\n",
      "   4:            151.52792    51.138343      307.71014                0\n",
      "   5:           2633.39439  1329.630483     5880.96161                0\n",
      "  ---                                                                  \n",
      "1953:            272.79678    96.976890      848.97724                0\n",
      "1954:            360.84340   128.276700      890.28712                0\n",
      "1955:              2.86661     1.019055      309.41702                0\n",
      "1956:             19.17600     4.182000       58.43091                0\n",
      "1957:            355.32000    63.000000     1289.87395                0\n",
      "      severity risk_premium   cm_bu_view cm_pct_on_fixed_costs_bu_view\n",
      "   1:        0            0   2319.88828                     1.5734506\n",
      "   2:        0            0 -56665.79890                    -0.3883057\n",
      "   3:        0            0   7401.47161                     2.3538195\n",
      "   4:        0            0    530.05023                     3.4980366\n",
      "   5:        0            0   2900.53997                     1.1014453\n",
      "  ---                                                                 \n",
      "1953:        0            0   -540.88046                    -1.9827231\n",
      "1954:        0            0    947.63628                     2.6261705\n",
      "1955:        0            0   -920.10041                  -320.9716034\n",
      "1956:        0            0     28.74509                     1.4990138\n",
      "1957:        0            0    325.44605                     0.9159238\n",
      "      cm_pct_on_earned_revenues_net_of_taxes_bu_view  cm_hq_view\n",
      "   1:                                      0.4199066  2866.54530\n",
      "   2:                                     -0.1095590 -2230.77307\n",
      "   3:                                      0.5884236  8700.14650\n",
      "   4:                                      0.6058479   581.18857\n",
      "   5:                                      0.2431612  4230.17046\n",
      "  ---                                                           \n",
      "1953:                                     -0.3430111  -443.90357\n",
      "1954:                                      0.4543275  1075.91298\n",
      "1955:                                    -55.5280874  -919.08135\n",
      "1956:                                      0.4227219    32.92709\n",
      "1957:                                      0.2582905   388.44605\n",
      "      cm_pct_on_fixed_costs_hq_view\n",
      "   1:                     1.4183429\n",
      "   2:                    -0.0111335\n",
      "   3:                     1.9581136\n",
      "   4:                     2.8677124\n",
      "   5:                     1.0674095\n",
      "  ---                              \n",
      "1953:                    -1.2004737\n",
      "1954:                     2.1996908\n",
      "1955:                  -236.5312895\n",
      "1956:                     1.4096707\n",
      "1957:                     0.9285859\n",
      "      cm_pct_on_earned_revenues_net_of_taxes_hq_view  loss_ratio\n",
      "   1:                                    0.518853158  0.18110247\n",
      "   2:                                   -0.004313029  0.40783420\n",
      "   3:                                    0.691669370  0.02259963\n",
      "   4:                                    0.664299019  0.01925677\n",
      "   5:                                    0.354628274  0.08111239\n",
      "  ---                                                           \n",
      "1953:                                   -0.281511088  0.97761374\n",
      "1954:                                    0.515827491  0.29184006\n",
      "1955:                                  -55.466587383 38.02776101\n",
      "1956:                                    0.484221891  0.00000000\n",
      "1957:                                    0.308290514  0.00000000\n",
      "      commission_ratio expense_ratio combined_ratio profit_or_loss notes\n",
      "   1:       0.07448134     0.5913795      0.8469633   8.454929e+02      \n",
      "   2:       0.36152650     0.6223445      1.3917052  -2.025967e+05      \n",
      "   3:       0.14300863     0.4959549      0.6615631   4.257020e+03      \n",
      "   4:       0.19637897     0.3517129      0.5673487   3.785223e+02      \n",
      "   5:       0.40347277     0.4930192      0.9776044   2.671456e+02      \n",
      "  ---                                                                   \n",
      "1953:       0.00000000     0.5383973      1.5160111  -8.136772e+02   0.0\n",
      "1954:       0.00000000     0.4268324      0.7186725   5.867929e+02   0.0\n",
      "1955:       0.00000000    18.6733264     56.7010874  -9.229670e+02   0.0\n",
      "1956:       0.00000000     0.8592781      0.8592781   9.569089e+00   0.0\n",
      "1957:       0.00000000     1.0237095      1.0237095  -2.987395e+01   0.0\n",
      "      unnamed:_65 concat2     comsub     expsub reporting_date_from_int\n",
      "   1:               AUAUD 0.07448134  0.5913795                20200101\n",
      "   2:               AUAUD 0.36152650  0.6223445                20200101\n",
      "   3:               AUAUD 0.14300863  0.4959549                20200101\n",
      "   4:               AUAUD 0.19637897  0.3517129                20200101\n",
      "   5:               AUAUD 0.40347277  0.4930192                20200101\n",
      "  ---                                                                  \n",
      "1953:           0   PTEUR 0.00000000  0.5383973                20210101\n",
      "1954:           0   PTEUR 0.00000000  0.4268324                20210101\n",
      "1955:           0   PTEUR 0.00000000 18.6733264                20210101\n",
      "1956:           0   PTEUR 0.00000000  0.8592781                20210101\n",
      "1957:           0   PTEUR 0.00000000  1.0237095                20210101\n",
      "      reporting_date_to_int date_of_analysis_int\n",
      "   1:              20201231             20210208\n",
      "   2:              20201231             20210208\n",
      "   3:              20201231             20210208\n",
      "   4:              20201231             20210208\n",
      "   5:              20201231             20210208\n",
      "  ---                                           \n",
      "1953:              20210331             20210331\n",
      "1954:              20210331             20210331\n",
      "1955:              20210331             20210331\n",
      "1956:              20210331             20210331\n",
      "1957:              20210331             20210331\n",
      "                                                                                                                                           selected_fields_for_duplicates\n",
      "   1:                                                                                                         AUInsuranceLocalB2B2CTravelAllianz Affiliations1300 INS2876\n",
      "   2:                                                                                                         AUInsuranceLocalB2B2CTravelOffline Travel AgenciesAGAAU6034\n",
      "   3:                                                                                                         AUInsuranceLocalB2B2CTravelOffline Travel AgenciesAGDIR6261\n",
      "   4:                                                                                                              AUInsuranceLocalB2B2CTravelAllianz AffiliationsAHL6763\n",
      "   5:                                                                                                          AUInsuranceLocalB2B2CTravelCarriers - AirlinesAIRPACAU5880\n",
      "  ---                                                                                                                                                                    \n",
      "1953: PTReinsuranceLocalB2B2CTravelDirect (Allianz Partners)Travel Medical Short Term - Single TripAZ AP Grupo Viagens Opção A e Opção BAssistanceAssistanceAssistanceYes\n",
      "1954:                      PTReinsuranceLocalB2B2CTravelDirect (Allianz Partners)Travel Medical Short Term - Single TripAZ AP IndividualAssistanceAssistanceAssistanceYes\n",
      "1955:            PTReinsuranceLocalB2B2CTravelDirect (Allianz Partners)Travel Medical Short Term - Single TripAZ Viagens 2011 (ex-APAVT)AssistanceAssistanceAssistanceYes\n",
      "1956:                         PTReinsuranceLocalB2B2CTravelDirect (Allianz Partners)Travel Medical Short Term - Single TripNossa SegurosAssistanceAssistanceAssistanceYes\n",
      "1957:               PTReinsuranceLocalB2BTravelDirect (Allianz Partners)Standalone Cancellation - Single TripAZ Trabalhadores DeslocadosAssistanceAssistanceAssistanceYes\n",
      "      pct_of_ibnr_on_ocr__ibnr unnamed:_66 ibnrsub            rep_date\n",
      "   1:                        0           0       0 2020-12-30 19:00:00\n",
      "   2:                        0           0       0 2020-12-30 19:00:00\n",
      "   3:                        0           0       0 2020-12-30 19:00:00\n",
      "   4:                        0           0       0 2020-12-30 19:00:00\n",
      "   5:                        0           0       0 2020-12-30 19:00:00\n",
      "  ---                                                                 \n",
      "1953:                        0           0       0 2021-03-30 20:00:00\n",
      "1954:                        0           0       0 2021-03-30 20:00:00\n",
      "1955:                        0           0       0 2021-03-30 20:00:00\n",
      "1956:                        0           0       0 2021-03-30 20:00:00\n",
      "1957:                        0           0       0 2021-03-30 20:00:00\n",
      "      __index_level_0__  bu_descr month_of_analysis_max     reporting_period\n",
      "   1:                 0 Australia              2021 Feb 2020 Jan to 2020 Dec\n",
      "   2:                 1 Australia              2021 Feb 2020 Jan to 2020 Dec\n",
      "   3:                 2 Australia              2021 Feb 2020 Jan to 2020 Dec\n",
      "   4:                 3 Australia              2021 Feb 2020 Jan to 2020 Dec\n",
      "   5:                 4 Australia              2021 Feb 2020 Jan to 2020 Dec\n",
      "  ---                                                                       \n",
      "1953:              3451  Portugal              2021 Mar 2021 Jan to 2021 Mar\n",
      "1954:              3452  Portugal              2021 Mar 2021 Jan to 2021 Mar\n",
      "1955:              3453  Portugal              2021 Mar 2021 Jan to 2021 Mar\n",
      "1956:              3454  Portugal              2021 Mar 2021 Jan to 2021 Mar\n",
      "1957:              3455  Portugal              2021 Mar 2021 Jan to 2021 Mar\n"
     ]
    }
   ],
   "source": [
    "\n",
    "# create a copy of the data.table to make check transformations in next step\n",
    "d_input_in <- d_input\n",
    "\n",
    "# set new column names\n",
    "setnames(x = d_input, old = names(d_input), new = fixNames(names(d_input))) \n",
    "\n",
    "#----- Data Cleaning (Specific to BU) ------\n",
    "# !!! temporary step\n",
    "# pre-processing removes \"Global\" entry under the \"type_of_account\" field since it isn't an option in the template\n",
    "# Currently, only Global-FoS and GLobal-FoE are options, but this is specific to Europe\n",
    "# this step replaces these blanks with \"Global\"\n",
    "\n",
    "\n",
    "d_input[business_unit == 'US' & type_of_account != 'Local', type_of_account := 'Global']\n",
    "d_input[business_partner_name == 'Delta Vacations, LLC', business_partner_name := 'Delta Airlines'] #US had a change in main office; manual correction to the name\n",
    "\n",
    "# fix channel for \"Car Trawler\" for all BUs\n",
    "d_input[business_partner_name == 'Car Trawler', distribution_channel := 'Online Travel Agencies (OTAs)']\n",
    "\n",
    "# change \"Other\" in Switzerland's channel and sublob to \"Not Provided\"\n",
    "d_input[business_unit == 'CH' & distribution_channel %in% c('', 'Other'), distribution_channel := 'Not Provided']\n",
    "d_input[business_unit == 'CH' & sub_lob == 'Other', sub_lob := 'Not Provided']\n",
    "\n",
    "# Fix some of the characters for b-partners that got distorted in pre-processing\n",
    "d_input[business_partner_name == 'CornÃ¨r Banca', business_partner_name := 'Cornèr Banca']\n",
    "d_input[business_partner_name == 'ESL SÃ©jours Linguistiques', business_partner_name := 'ESL Séjours Linguistiques']\n",
    "d_input[business_partner_name == 'ReisebÃ¼ro Mittelthurgau', business_partner_name := 'Reisebüro Mittelthurgau']\n",
    "d_input[business_partner_name == 'Ã–KK', business_partner_name := 'ÖKK']\n",
    "d_input[business_partner_name == 'HK fÃ¼r GÃ¤ste', business_partner_name := 'HK für Gäste']\n",
    "d_input[business_partner_name == 'Twerenbold â€“ Busreisen Assistance Europa', business_partner_name := 'Twerenbold Busreisen Assistance Europa']\n",
    "d_input[business_partner_name == 'VÃ¶gele Reisen', business_partner_name := 'Vögele Reisen']\n",
    "d_input[business_partner_name == 'Last Minute Tours RestplatzbÃ¶rse', business_partner_name := 'Last Minute Tours Restplatzbörse']\n",
    "d_input[business_partner_name == 'InterdiÃ¶zesane Lourdeswallfahrt', business_partner_name := 'Interdiözesane Lourdeswallfahrt']\n",
    "d_input[business_partner_name == 'StÃ¶cklin Reisen', business_partner_name := 'Stöcklin Reisen']\n",
    "d_input[business_partner_name == 'Heilungskosten fÃ¼r GÃ¤ste', business_partner_name := 'Heilungskosten für Gäste']\n",
    "d_input[business_partner_name == 'Tourasia RÃ¶mer', business_partner_name := 'Tourasia Römer']\n",
    "d_input[business_partner_name == 'Sumiswalder GrundgebÃ¼hr', business_partner_name := 'Sumiswalder Grundgebühr']\n",
    "\n",
    "\n",
    "\n",
    "#----- Add currency conversion to raw data ------\n",
    "# define columns that will need a conversion\n",
    "curr_cols <- c(\n",
    " 'written_revenues_net_of_taxes',\n",
    " 'written_revenues',\n",
    " 'earned_revenues_net_of_taxes',\n",
    "'earned_revenues',\n",
    " 'earned_base_commissions',\n",
    " 'earned_over_commissions',\n",
    " 'upfront_cash_payments',\n",
    " 'total_compensation',\n",
    " 'paid_claims',\n",
    " 'actual_incurred_losses',\n",
    " 'internal_variable_costs',\n",
    " 'az_tech_fee',\n",
    " 'internal_fixed_costs',\n",
    " 'hq_fees',\n",
    " 'total_expenses',\n",
    " 'severity',\n",
    " 'risk_premium',\n",
    " 'cm_bu_view',\n",
    " 'cm_hq_view',\n",
    " 'profit_or_loss'\n",
    ")\n",
    "\n",
    "# replace existing China in main dataset\n",
    "d <- rbindlist(list(d_input), use.names = TRUE, fill = TRUE)\n",
    "\n",
    "#----- addtl TEMP data manipulation ------\n",
    "\n",
    "\n",
    "#----- Data Cleaning ------\n",
    "\n",
    "\n",
    "# save copy of data to manipulate\n",
    "d <- d_input\n",
    "\n",
    "# replace all NAs with 0s\n",
    "replaceNA(d)\n",
    "\n",
    "# additional manipulations\n",
    "# change unknown channels and sublobs to \"Other\"\n",
    "# ! now completed in pre-processing\n",
    "#d[distribution_channel == '0', distribution_channel := 'Other']\n",
    "#d[sub_lob == '0', sub_lob := 'Other']\n",
    "\n",
    "# add bu names to dataset\n",
    "# rename \"Scandinavia\" to \"Scandinavia/Baltics\" (more inclusive of the dataset)\n",
    "# changed upstream in process\n",
    "#i_bu[BU_CODE == 'SC', BU_DESCR := 'Scandinavia/Baltics']\n",
    "\n",
    "## test\n",
    "d <- merge(d, i_bu[, .(BU_CODE, bu_descr = BU_DESCR)], by.x = 'business_unit', by.y = 'BU_CODE', all.x = TRUE)\n",
    "\n",
    "\n",
    "# Fix text in fields\n",
    "\n",
    "d[product_name %in% c('0', '', '-'), product_name := 'Not Provided']\n",
    "d[business_partner_name %in% c('-', '0', ''), business_partner_name := 'Not Provided']\n",
    "\n",
    "\n",
    "# Add a reporting period and combined date of analysis\n",
    "# F version: changed from \"min\" to \"max\"\n",
    "# !!! special case for CN with different format\n",
    "#d[business_unit == 'CN', \n",
    "#  month_of_analysis_max := format(as.Date(max(as.numeric(date_of_analysis)), \n",
    "#                                            origin = '1899-12-30'), '%Y %b'), \n",
    "#  by = business_unit]\n",
    "\n",
    "d[,  month_of_analysis_max := format(as.Date(max(date_of_analysis)), '%Y %b'),  by = business_unit]\n",
    "\n",
    "#d[,  month_of_analysis_max := max(date_of_analysis),  by = business_unit]\n",
    "\n",
    "#d[business_unit == 'CN',\n",
    "#  reporting_period := paste(\n",
    "#  format(as.Date(as.numeric(reporting_date_from), origin = '1899-12-30'), '%Y %b'),\n",
    "#  'to',\n",
    "#  format(as.Date(as.numeric(reporting_date_to), origin = '1899-12-30'), '%Y %b')\n",
    "#  )]\n",
    "\n",
    "d[, \n",
    "  reporting_period := paste(\n",
    "  format(as.Date(reporting_date_from), '%Y %b'),\n",
    "  'to',\n",
    "  format(as.Date(reporting_date_to), '%Y %b')\n",
    "  )]\n",
    "\n",
    "# Replace LoB column with \"Travel\" since some show up blank or NA\n",
    "d[, lob := 'Travel']\n",
    "\n",
    "print(d)\n"
   ]
  },
  {
   "cell_type": "code",
   "execution_count": 8,
   "id": "4ec5c15a",
   "metadata": {
    "execution": {
     "iopub.execute_input": "2021-05-24T22:37:11.955703Z",
     "iopub.status.busy": "2021-05-24T22:37:11.949685Z",
     "iopub.status.idle": "2021-05-24T22:37:12.032676Z",
     "shell.execute_reply": "2021-05-24T22:37:12.021683Z"
    },
    "papermill": {
     "duration": 0.581476,
     "end_time": "2021-05-24T22:37:12.032676",
     "exception": false,
     "start_time": "2021-05-24T22:37:11.451200",
     "status": "completed"
    },
    "tags": []
   },
   "outputs": [],
   "source": [
    "##### Compare the original data.table to the transformed version, example to be built upon."
   ]
  },
  {
   "cell_type": "code",
   "execution_count": 9,
   "id": "0a519778",
   "metadata": {
    "execution": {
     "iopub.execute_input": "2021-05-24T22:37:13.165416Z",
     "iopub.status.busy": "2021-05-24T22:37:13.157418Z",
     "iopub.status.idle": "2021-05-24T22:37:16.999411Z",
     "shell.execute_reply": "2021-05-24T22:37:16.991406Z"
    },
    "papermill": {
     "duration": 4.401078,
     "end_time": "2021-05-24T22:37:17.000408",
     "exception": false,
     "start_time": "2021-05-24T22:37:12.599330",
     "status": "completed"
    },
    "scrolled": false,
    "tags": []
   },
   "outputs": [
    {
     "name": "stdout",
     "output_type": "stream",
     "text": [
      "[1] \"Compare d_input_in to d_input, should be no transformations.\"\n"
     ]
    },
    {
     "data": {
      "text/plain": [
       "Compare Object\n",
       "\n",
       "Function Call: \n",
       "comparedf(x = d_input_in, y = d_input)\n",
       "\n",
       "Shared: 79 non-by variables and 1957 observations.\n",
       "Not shared: 0 variables and 0 observations.\n",
       "\n",
       "Differences found in 0/79 variables compared.\n",
       "0 variables compared have non-identical attributes."
      ]
     },
     "metadata": {},
     "output_type": "display_data"
    },
    {
     "name": "stdout",
     "output_type": "stream",
     "text": [
      "[1] \"Compare d_input to d, should be all transformations.\"\n"
     ]
    },
    {
     "data": {
      "text/plain": [
       "Compare Object\n",
       "\n",
       "Function Call: \n",
       "comparedf(x = d, y = d_input)\n",
       "\n",
       "Shared: 79 non-by variables and 1957 observations.\n",
       "Not shared: 3 variables and 0 observations.\n",
       "\n",
       "Differences found in 1/79 variables compared.\n",
       "0 variables compared have non-identical attributes."
      ]
     },
     "metadata": {},
     "output_type": "display_data"
    }
   ],
   "source": [
    "print(\"Compare d_input_in to d_input, should be no transformations.\")\n",
    "\n",
    "comparedf(d_input_in, d_input)\n",
    "\n",
    "print(\"Compare d_input to d, should be all transformations.\")\n",
    "comparedf(d, d_input)"
   ]
  },
  {
   "cell_type": "code",
   "execution_count": 10,
   "id": "b1a2088b",
   "metadata": {
    "execution": {
     "iopub.execute_input": "2021-05-24T22:37:18.156109Z",
     "iopub.status.busy": "2021-05-24T22:37:18.152105Z",
     "iopub.status.idle": "2021-05-24T22:37:18.198105Z",
     "shell.execute_reply": "2021-05-24T22:37:18.194105Z"
    },
    "papermill": {
     "duration": 0.623429,
     "end_time": "2021-05-24T22:37:18.198105",
     "exception": false,
     "start_time": "2021-05-24T22:37:17.574676",
     "status": "completed"
    },
    "tags": []
   },
   "outputs": [],
   "source": [
    "##### Output a tempfile to be turned into final outputs"
   ]
  },
  {
   "cell_type": "code",
   "execution_count": 11,
   "id": "969df970",
   "metadata": {
    "execution": {
     "iopub.execute_input": "2021-05-24T22:37:19.189796Z",
     "iopub.status.busy": "2021-05-24T22:37:19.186791Z",
     "iopub.status.idle": "2021-05-24T22:37:33.271401Z",
     "shell.execute_reply": "2021-05-24T22:37:33.262383Z"
    },
    "papermill": {
     "duration": 14.583751,
     "end_time": "2021-05-24T22:37:33.272384",
     "exception": false,
     "start_time": "2021-05-24T22:37:18.688633",
     "status": "completed"
    },
    "tags": []
   },
   "outputs": [],
   "source": [
    "write_parquet(d, tempfile)"
   ]
  },
  {
   "cell_type": "markdown",
   "id": "46d9b2bb",
   "metadata": {
    "papermill": {
     "duration": 0.395038,
     "end_time": "2021-05-24T22:37:34.224345",
     "exception": false,
     "start_time": "2021-05-24T22:37:33.829307",
     "status": "completed"
    },
    "tags": []
   },
   "source": [
    "#### todo Figure out how to store r objects for runner notebook\n"
   ]
  }
 ],
 "metadata": {
  "celltoolbar": "Tags",
  "kernelspec": {
   "display_name": "R",
   "language": "R",
   "name": "ir"
  },
  "language_info": {
   "codemirror_mode": "r",
   "file_extension": ".r",
   "mimetype": "text/x-r-source",
   "name": "R",
   "pygments_lexer": "r",
   "version": "3.6.1"
  },
  "papermill": {
   "default_parameters": {},
   "duration": 52.43874,
   "end_time": "2021-05-24T22:37:34.964541",
   "environment_variables": {},
   "exception": null,
   "input_path": "pipeline/r_transform.ipynb",
   "output_path": "//hecate/Insurance_US/Product Development/Product Management/Global PPM/Reporting/Data Collection/Pipeline Reporting Scripts/GPMpipeline/instances/2021.Q1\\pipeline\\r_transform05242021183245--live run.ipynb",
   "parameters": {
    "commit_message": "Edited data for Austraila, json 2 parquet and add comments from email. Begin general evaluation of data submissions.",
    "inst_datetime": "05242021183245",
    "percode": "2021.Q1",
    "run_control": 1
   },
   "start_time": "2021-05-24T22:36:42.525801",
   "version": "2.3.3"
  }
 },
 "nbformat": 4,
 "nbformat_minor": 5
}