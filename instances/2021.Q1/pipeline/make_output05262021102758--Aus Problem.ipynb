{
 "cells": [
  {
   "cell_type": "markdown",
   "id": "90fd9e8e",
   "metadata": {
    "papermill": {
     "duration": 0.212512,
     "end_time": "2021-05-26T14:33:54.118163",
     "exception": false,
     "start_time": "2021-05-26T14:33:53.905651",
     "status": "completed"
    },
    "pycharm": {
     "name": "#%% md\n"
    },
    "tags": []
   },
   "source": [
    "<img src=\"../images/AzPTravel_PPM.png\">"
   ]
  },
  {
   "cell_type": "markdown",
   "id": "a40c2800",
   "metadata": {
    "papermill": {
     "duration": 0.196988,
     "end_time": "2021-05-26T14:33:54.549826",
     "exception": false,
     "start_time": "2021-05-26T14:33:54.352838",
     "status": "completed"
    },
    "tags": []
   },
   "source": [
    "## GPM Pipeline Output maker\n",
    "\n",
    "#### This script\n",
    "- loads the transformed parquet file\n",
    "- creates the file {parquet}.localcur.csv\n",
    "- makes the Euro conversions\n",
    "- outputs {parquet}.euroconv.csv\n"
   ]
  },
  {
   "cell_type": "markdown",
   "id": "a7a3c470",
   "metadata": {
    "papermill": {
     "duration": 0.24135,
     "end_time": "2021-05-26T14:33:54.987179",
     "exception": false,
     "start_time": "2021-05-26T14:33:54.745829",
     "status": "completed"
    },
    "tags": []
   },
   "source": [
    "#### Parameters section"
   ]
  },
  {
   "cell_type": "code",
   "execution_count": 1,
   "id": "4eb01254",
   "metadata": {
    "execution": {
     "iopub.execute_input": "2021-05-26T14:33:55.761517Z",
     "iopub.status.busy": "2021-05-26T14:33:55.759517Z",
     "iopub.status.idle": "2021-05-26T14:33:55.763516Z",
     "shell.execute_reply": "2021-05-26T14:33:55.812518Z"
    },
    "papermill": {
     "duration": 0.531345,
     "end_time": "2021-05-26T14:33:55.812518",
     "exception": false,
     "start_time": "2021-05-26T14:33:55.281173",
     "status": "completed"
    },
    "pycharm": {
     "name": "#%%\n"
    },
    "tags": [
     "parameters"
    ]
   },
   "outputs": [],
   "source": [
    "commit = \"\"\n",
    "# give a reason for the run\n",
    "\n",
    "percode = \"20XX.QX\"\n",
    "# Data Collection Code, this controls file paths and output names\n",
    "\n",
    "run_type = 1\n",
    "#run_type =  0 - lite run with no reporting, not recommended.\n",
    "#run_type =  1 - lite run with normal reporting, default setting.\n",
    "#run_type =  2 - Heavy run with full reporting, available for audits and troubleshooting.\n",
    "\n",
    "specialchars = \"-GTHtest\"\n",
    "# optional - add up to a 12 character code in order to mark your instance record .ipynb\n",
    "\n",
    "from datetime import datetime\n",
    "inst_datetime = datetime.now().strftime(\"%m%d%Y%H%M%S\")\n",
    "# a single datetime stamp for the full instance run\n"
   ]
  },
  {
   "cell_type": "code",
   "execution_count": 2,
   "id": "1623d541",
   "metadata": {
    "execution": {
     "iopub.execute_input": "2021-05-26T14:33:56.348144Z",
     "iopub.status.busy": "2021-05-26T14:33:56.344137Z",
     "iopub.status.idle": "2021-05-26T14:33:56.349673Z",
     "shell.execute_reply": "2021-05-26T14:33:56.346136Z"
    },
    "papermill": {
     "duration": 0.288073,
     "end_time": "2021-05-26T14:33:56.350656",
     "exception": false,
     "start_time": "2021-05-26T14:33:56.062583",
     "status": "completed"
    },
    "tags": [
     "injected-parameters"
    ]
   },
   "outputs": [],
   "source": [
    "# Parameters\n",
    "run_control = 1\n",
    "percode = \"2021.Q1\"\n",
    "commit_message = \"New AUS needed to be converted from json\"\n",
    "inst_datetime = \"05262021102758\"\n"
   ]
  },
  {
   "cell_type": "markdown",
   "id": "26e9af29",
   "metadata": {
    "papermill": {
     "duration": 0.203696,
     "end_time": "2021-05-26T14:33:56.875885",
     "exception": false,
     "start_time": "2021-05-26T14:33:56.672189",
     "status": "completed"
    },
    "tags": []
   },
   "source": [
    "### Set Run Control\n",
    "\n",
    "##### 0 - lite run with no reporting, not recommended.\n",
    "##### 1 - lite run with normal reporting, default setting.\n",
    "##### 2 - Heavy run with full reporting, available for audits and troubleshooting."
   ]
  },
  {
   "cell_type": "code",
   "execution_count": 3,
   "id": "6f2d5bfd",
   "metadata": {
    "execution": {
     "iopub.execute_input": "2021-05-26T14:33:57.358004Z",
     "iopub.status.busy": "2021-05-26T14:33:57.354999Z",
     "iopub.status.idle": "2021-05-26T14:33:57.363999Z",
     "shell.execute_reply": "2021-05-26T14:33:57.365998Z"
    },
    "papermill": {
     "duration": 0.233068,
     "end_time": "2021-05-26T14:33:57.365998",
     "exception": false,
     "start_time": "2021-05-26T14:33:57.132930",
     "status": "completed"
    },
    "pycharm": {
     "name": "#%%\n"
    },
    "tags": []
   },
   "outputs": [],
   "source": [
    "run_control = 0 # in development mode"
   ]
  },
  {
   "cell_type": "markdown",
   "id": "4f00bed7",
   "metadata": {
    "papermill": {
     "duration": 0.63428,
     "end_time": "2021-05-26T14:33:59.152107",
     "exception": false,
     "start_time": "2021-05-26T14:33:58.517827",
     "status": "completed"
    },
    "tags": []
   },
   "source": [
    "#### Packages used"
   ]
  },
  {
   "cell_type": "code",
   "execution_count": 4,
   "id": "5ca0a881",
   "metadata": {
    "execution": {
     "iopub.execute_input": "2021-05-26T14:33:59.665372Z",
     "iopub.status.busy": "2021-05-26T14:33:59.662374Z",
     "iopub.status.idle": "2021-05-26T14:34:03.290547Z",
     "shell.execute_reply": "2021-05-26T14:34:03.291543Z"
    },
    "papermill": {
     "duration": 3.846179,
     "end_time": "2021-05-26T14:34:03.292551",
     "exception": false,
     "start_time": "2021-05-26T14:33:59.446372",
     "status": "completed"
    },
    "pycharm": {
     "name": "#%%\n"
    },
    "tags": []
   },
   "outputs": [],
   "source": [
    "import sys\n",
    "import os\n",
    "import pandas as pd"
   ]
  },
  {
   "cell_type": "code",
   "execution_count": 5,
   "id": "c42c8cce",
   "metadata": {
    "execution": {
     "iopub.execute_input": "2021-05-26T14:34:03.742288Z",
     "iopub.status.busy": "2021-05-26T14:34:03.736289Z",
     "iopub.status.idle": "2021-05-26T14:34:03.749287Z",
     "shell.execute_reply": "2021-05-26T14:34:03.751288Z"
    },
    "papermill": {
     "duration": 0.2286,
     "end_time": "2021-05-26T14:34:03.752289",
     "exception": false,
     "start_time": "2021-05-26T14:34:03.523689",
     "status": "completed"
    },
    "pycharm": {
     "name": "#%%\n"
    },
    "tags": []
   },
   "outputs": [],
   "source": [
    "default_DC = \"2021.Q1\"\n",
    "\n",
    "try:\n",
    "    if sys.argv[1] == \"-f\":\n",
    "        percode = default_DC\n",
    "    else:\n",
    "        percode = sys.argv[1]\n",
    "\n",
    "except IndexError:\n",
    "    percode = default_DC\n",
    "except NameError:\n",
    "    percode = default_DC"
   ]
  },
  {
   "cell_type": "markdown",
   "id": "6c8a983a",
   "metadata": {
    "papermill": {
     "duration": 0.245396,
     "end_time": "2021-05-26T14:34:04.202437",
     "exception": false,
     "start_time": "2021-05-26T14:34:03.957041",
     "status": "completed"
    },
    "tags": []
   },
   "source": [
    "#### Convert paths and files to variables.\n",
    "#### Read data into pd DataFrames.\n",
    "#### Make paths for the live sources."
   ]
  },
  {
   "cell_type": "code",
   "execution_count": 6,
   "id": "41a84427",
   "metadata": {
    "execution": {
     "iopub.execute_input": "2021-05-26T14:34:04.681934Z",
     "iopub.status.busy": "2021-05-26T14:34:04.678933Z",
     "iopub.status.idle": "2021-05-26T14:34:04.688938Z",
     "shell.execute_reply": "2021-05-26T14:34:04.689938Z"
    },
    "papermill": {
     "duration": 0.301495,
     "end_time": "2021-05-26T14:34:04.690933",
     "exception": false,
     "start_time": "2021-05-26T14:34:04.389438",
     "status": "completed"
    },
    "pycharm": {
     "name": "#%%\n"
    },
    "tags": []
   },
   "outputs": [],
   "source": [
    "rt_path = f'//hecate/Insurance_US/Product Development/Product Manag' \\\n",
    "          f'ement/Global PPM/Reporting/Data Collection/Production/{str(percode)}'\n",
    "tempfile = os.path.join(rt_path, f'{str(percode)}.localcur.parquet')\n",
    "gppm_file = os.path.join(rt_path, f'GPPM_Input_{str(percode)}.xlsx')"
   ]
  },
  {
   "cell_type": "markdown",
   "id": "e1bc3785",
   "metadata": {
    "papermill": {
     "duration": 0.2981,
     "end_time": "2021-05-26T14:34:05.178554",
     "exception": false,
     "start_time": "2021-05-26T14:34:04.880454",
     "status": "completed"
    },
    "tags": []
   },
   "source": [
    "#### Read source"
   ]
  },
  {
   "cell_type": "code",
   "execution_count": 7,
   "id": "b7e27cf3",
   "metadata": {
    "execution": {
     "iopub.execute_input": "2021-05-26T14:34:05.641662Z",
     "iopub.status.busy": "2021-05-26T14:34:05.638666Z",
     "iopub.status.idle": "2021-05-26T14:34:07.970710Z",
     "shell.execute_reply": "2021-05-26T14:34:07.972646Z"
    },
    "papermill": {
     "duration": 2.543574,
     "end_time": "2021-05-26T14:34:07.972646",
     "exception": false,
     "start_time": "2021-05-26T14:34:05.429072",
     "status": "completed"
    },
    "pycharm": {
     "name": "#%%\n"
    },
    "tags": []
   },
   "outputs": [
    {
     "name": "stdout",
     "output_type": "stream",
     "text": [
      "     business_unit                   submission_file country currency  \\\n",
      "0               AU  us_dat_au_05142021143612.parquet      AU      AUD   \n",
      "1               AU  us_dat_au_05142021143612.parquet      AU      AUD   \n",
      "2               AU  us_dat_au_05142021143612.parquet      AU      AUD   \n",
      "3               AU  us_dat_au_05142021143612.parquet      AU      AUD   \n",
      "4               AU  us_dat_au_05142021143612.parquet      AU      AUD   \n",
      "...            ...                               ...     ...      ...   \n",
      "1963            PT  us_dat_pt_05202021121056.parquet      PT      EUR   \n",
      "1964            PT  us_dat_pt_05202021121056.parquet      PT      EUR   \n",
      "1965            PT  us_dat_pt_05202021121056.parquet      PT      EUR   \n",
      "1966            PT  us_dat_pt_05202021121056.parquet      PT      EUR   \n",
      "1967            PT  us_dat_pt_05202021121056.parquet      PT      EUR   \n",
      "\n",
      "                           region reporting_date_from reporting_date_to  \\\n",
      "0                            APAC          2021-01-01        2021-03-31   \n",
      "1                            APAC          2021-01-01        2021-03-31   \n",
      "2                            APAC          2021-01-01        2021-03-31   \n",
      "3                            APAC          2021-01-01        2021-03-31   \n",
      "4                            APAC          2021-01-01        2021-03-31   \n",
      "...                           ...                 ...               ...   \n",
      "1963  Western Europe, LATAM & MEA          2021-01-01        2021-03-31   \n",
      "1964  Western Europe, LATAM & MEA          2021-01-01        2021-03-31   \n",
      "1965  Western Europe, LATAM & MEA          2021-01-01        2021-03-31   \n",
      "1966  Western Europe, LATAM & MEA          2021-01-01        2021-03-31   \n",
      "1967  Western Europe, LATAM & MEA          2021-01-01        2021-03-31   \n",
      "\n",
      "     date_of_analysis type_of_analysis  analysed_months  ...  \\\n",
      "0          2021-04-30     Year To Date              3.0  ...   \n",
      "1          2021-04-30     Year To Date              3.0  ...   \n",
      "2          2021-04-30     Year To Date              3.0  ...   \n",
      "3          2021-04-30     Year To Date              3.0  ...   \n",
      "4          2021-04-30     Year To Date              3.0  ...   \n",
      "...               ...              ...              ...  ...   \n",
      "1963       2021-03-31     Year To Date              3.0  ...   \n",
      "1964       2021-03-31     Year To Date              3.0  ...   \n",
      "1965       2021-03-31     Year To Date              3.0  ...   \n",
      "1966       2021-03-31     Year To Date              3.0  ...   \n",
      "1967       2021-03-31     Year To Date              3.0  ...   \n",
      "\n",
      "      reporting_date_from_int  reporting_date_to_int  date_of_analysis_int  \\\n",
      "0                    20210101               20210331              20210430   \n",
      "1                    20210101               20210331              20210430   \n",
      "2                    20210101               20210331              20210430   \n",
      "3                    20210101               20210331              20210430   \n",
      "4                    20210101               20210331              20210430   \n",
      "...                       ...                    ...                   ...   \n",
      "1963                 20210101               20210331              20210331   \n",
      "1964                 20210101               20210331              20210331   \n",
      "1965                 20210101               20210331              20210331   \n",
      "1966                 20210101               20210331              20210331   \n",
      "1967                 20210101               20210331              20210331   \n",
      "\n",
      "                         selected_fields_for_duplicates ibnrsub   rep_date  \\\n",
      "0     AUInsuranceLocalB2B2CTravelAllianz Affiliation...     0.0 2021-03-31   \n",
      "1     AUInsuranceLocalB2B2CTravelOffline Travel Agen...     0.0 2021-03-31   \n",
      "2     AUInsuranceLocalB2B2CTravelAllianz Affiliation...     0.0 2021-03-31   \n",
      "3     AUInsuranceLocalB2CTravelDirect (Allianz Partn...     0.0 2021-03-31   \n",
      "4     AUInsuranceLocalB2B2CTravelBanks / Credit Card...     0.0 2021-03-31   \n",
      "...                                                 ...     ...        ...   \n",
      "1963  PTReinsuranceLocalB2B2CTravelDirect (Allianz P...     0.0 2021-03-31   \n",
      "1964  PTReinsuranceLocalB2B2CTravelDirect (Allianz P...     0.0 2021-03-31   \n",
      "1965  PTReinsuranceLocalB2B2CTravelDirect (Allianz P...     0.0 2021-03-31   \n",
      "1966  PTReinsuranceLocalB2B2CTravelDirect (Allianz P...     0.0 2021-03-31   \n",
      "1967  PTReinsuranceLocalB2BTravelDirect (Allianz Par...     0.0 2021-03-31   \n",
      "\n",
      "     __index_level_0__   bu_descr month_of_analysis_max      reporting_period  \n",
      "0                    0  Australia              2021 Apr  2021 Jan to 2021 Mar  \n",
      "1                    1  Australia              2021 Apr  2021 Jan to 2021 Mar  \n",
      "2                    3  Australia              2021 Apr  2021 Jan to 2021 Mar  \n",
      "3                    4  Australia              2021 Apr  2021 Jan to 2021 Mar  \n",
      "4                    5  Australia              2021 Apr  2021 Jan to 2021 Mar  \n",
      "...                ...        ...                   ...                   ...  \n",
      "1963              3468   Portugal              2021 Mar  2021 Jan to 2021 Mar  \n",
      "1964              3469   Portugal              2021 Mar  2021 Jan to 2021 Mar  \n",
      "1965              3470   Portugal              2021 Mar  2021 Jan to 2021 Mar  \n",
      "1966              3471   Portugal              2021 Mar  2021 Jan to 2021 Mar  \n",
      "1967              3472   Portugal              2021 Mar  2021 Jan to 2021 Mar  \n",
      "\n",
      "[1968 rows x 81 columns]\n"
     ]
    }
   ],
   "source": [
    "mo_input = pd.read_parquet(tempfile, engine='pyarrow')\n",
    "\n",
    "print(mo_input)"
   ]
  },
  {
   "cell_type": "markdown",
   "id": "1f126d7a",
   "metadata": {
    "papermill": {
     "duration": 0.235512,
     "end_time": "2021-05-26T14:34:08.408689",
     "exception": false,
     "start_time": "2021-05-26T14:34:08.173177",
     "status": "completed"
    },
    "tags": []
   },
   "source": [
    "#### Output local currency csv"
   ]
  },
  {
   "cell_type": "code",
   "execution_count": 8,
   "id": "72b20613",
   "metadata": {
    "execution": {
     "iopub.execute_input": "2021-05-26T14:34:08.923361Z",
     "iopub.status.busy": "2021-05-26T14:34:08.919361Z",
     "iopub.status.idle": "2021-05-26T14:34:39.428078Z",
     "shell.execute_reply": "2021-05-26T14:34:39.433077Z"
    },
    "papermill": {
     "duration": 30.789781,
     "end_time": "2021-05-26T14:34:39.434089",
     "exception": false,
     "start_time": "2021-05-26T14:34:08.644308",
     "status": "completed"
    },
    "pycharm": {
     "is_executing": true,
     "name": "#%%\n"
    },
    "tags": []
   },
   "outputs": [],
   "source": [
    "mo_input.to_csv(f'//hecate/Insurance_US/Product Development/Product Management/Global PPM/Reporting/Data Collection/Production/{str(percode)}\\\\{str(percode)}.localcur.csv', ',', index=False, encoding='utf-8-sig')"
   ]
  },
  {
   "cell_type": "markdown",
   "id": "944e257d",
   "metadata": {
    "papermill": {
     "duration": 0.620386,
     "end_time": "2021-05-26T14:34:40.791683",
     "exception": false,
     "start_time": "2021-05-26T14:34:40.171297",
     "status": "completed"
    },
    "tags": []
   },
   "source": [
    "#### Convert all currency to Euro\n"
   ]
  },
  {
   "cell_type": "code",
   "execution_count": 9,
   "id": "d8195506",
   "metadata": {
    "execution": {
     "iopub.execute_input": "2021-05-26T14:34:42.222038Z",
     "iopub.status.busy": "2021-05-26T14:34:42.215033Z",
     "iopub.status.idle": "2021-05-26T14:34:48.469059Z",
     "shell.execute_reply": "2021-05-26T14:34:48.472056Z"
    },
    "papermill": {
     "duration": 7.112031,
     "end_time": "2021-05-26T14:34:48.473055",
     "exception": false,
     "start_time": "2021-05-26T14:34:41.361024",
     "status": "completed"
    },
    "pycharm": {
     "is_executing": true,
     "name": "#%%\n"
    },
    "tags": []
   },
   "outputs": [],
   "source": [
    "\n",
    "cflds = ['written_revenues_net_of_taxes', 'written_revenues', 'earned_revenues_net_of_taxes',\n",
    "         'earned_revenues', 'earned_base_commissions', 'earned_over_commissions', 'upfront_cash_payments',\n",
    "         'total_compensation', 'paid_claims', 'ocr__ibnr', 'actual_incurred_losses',\n",
    "         'internal_variable_costs', 'az_tech_fee', 'internal_fixed_costs',\n",
    "         'hq_fees', 'total_expenses', 'risk_premium', 'profit_or_loss', 'cm_hq_view', 'cm_bu_view', ]\n",
    "\n",
    "\n",
    "\"\"\"reads in the input for the Euro conversion\"\"\"\n",
    "euro = pd.read_excel(gppm_file, sheet_name=\"Euro_Rates\")\n"
   ]
  },
  {
   "cell_type": "markdown",
   "id": "66c8c41f",
   "metadata": {
    "papermill": {
     "duration": 0.795528,
     "end_time": "2021-05-26T14:34:50.154462",
     "exception": false,
     "start_time": "2021-05-26T14:34:49.358934",
     "status": "completed"
    },
    "tags": []
   },
   "source": [
    "#### Make a copy for debug purposes"
   ]
  },
  {
   "cell_type": "code",
   "execution_count": 10,
   "id": "9c756393",
   "metadata": {
    "execution": {
     "iopub.execute_input": "2021-05-26T14:34:52.505603Z",
     "iopub.status.busy": "2021-05-26T14:34:52.490604Z",
     "iopub.status.idle": "2021-05-26T14:34:52.507602Z",
     "shell.execute_reply": "2021-05-26T14:34:52.503602Z"
    },
    "papermill": {
     "duration": 1.331936,
     "end_time": "2021-05-26T14:34:52.507602",
     "exception": false,
     "start_time": "2021-05-26T14:34:51.175666",
     "status": "completed"
    },
    "pycharm": {
     "is_executing": true,
     "name": "#%%\n"
    },
    "tags": []
   },
   "outputs": [],
   "source": [
    "trandata = mo_input.copy()"
   ]
  },
  {
   "cell_type": "markdown",
   "id": "0a6875cb",
   "metadata": {
    "papermill": {
     "duration": 1.329669,
     "end_time": "2021-05-26T14:34:55.066047",
     "exception": false,
     "start_time": "2021-05-26T14:34:53.736378",
     "status": "completed"
    },
    "tags": []
   },
   "source": [
    "#### Convert Currency Below"
   ]
  },
  {
   "cell_type": "code",
   "execution_count": 11,
   "id": "4a442d9b",
   "metadata": {
    "execution": {
     "iopub.execute_input": "2021-05-26T14:34:57.564610Z",
     "iopub.status.busy": "2021-05-26T14:34:57.562608Z",
     "iopub.status.idle": "2021-05-26T14:34:57.575610Z",
     "shell.execute_reply": "2021-05-26T14:34:57.574610Z"
    },
    "papermill": {
     "duration": 1.374543,
     "end_time": "2021-05-26T14:34:57.577619",
     "exception": false,
     "start_time": "2021-05-26T14:34:56.203076",
     "status": "completed"
    },
    "pycharm": {
     "is_executing": true,
     "name": "#%%\n"
    },
    "tags": []
   },
   "outputs": [],
   "source": [
    "# create DataFrame of unique currencies with rates\n",
    "\n",
    "fx_uni = euro[['CURR_CODE','RATE']]\n",
    "fx_uni = fx_uni.drop_duplicates()"
   ]
  },
  {
   "cell_type": "code",
   "execution_count": 12,
   "id": "8725c97f",
   "metadata": {
    "execution": {
     "iopub.execute_input": "2021-05-26T14:35:06.239810Z",
     "iopub.status.busy": "2021-05-26T14:35:06.235814Z",
     "iopub.status.idle": "2021-05-26T14:35:06.258811Z",
     "shell.execute_reply": "2021-05-26T14:35:06.261811Z"
    },
    "papermill": {
     "duration": 0.35979,
     "end_time": "2021-05-26T14:35:06.263815",
     "exception": false,
     "start_time": "2021-05-26T14:35:05.904025",
     "status": "completed"
    },
    "pycharm": {
     "is_executing": true,
     "name": "#%%\n"
    },
    "tags": []
   },
   "outputs": [],
   "source": [
    "# add euro conversion rates to trandata DataFrame as column 'eur_rate'\n",
    "\n",
    "eurdata = pd.merge(trandata['currency'], fx_uni, left_on='currency', right_on='CURR_CODE', how='left')\n",
    "\n",
    "trandata['eur_rate'] = eurdata['RATE']"
   ]
  },
  {
   "cell_type": "markdown",
   "id": "9c6d5e9b",
   "metadata": {
    "papermill": {
     "duration": 0.353685,
     "end_time": "2021-05-26T14:35:06.967836",
     "exception": false,
     "start_time": "2021-05-26T14:35:06.614151",
     "status": "completed"
    },
    "tags": []
   },
   "source": [
    "#### Convert currency fields"
   ]
  },
  {
   "cell_type": "code",
   "execution_count": 13,
   "id": "d5701b9f",
   "metadata": {
    "execution": {
     "iopub.execute_input": "2021-05-26T14:35:08.624806Z",
     "iopub.status.busy": "2021-05-26T14:35:08.613804Z",
     "iopub.status.idle": "2021-05-26T14:35:08.963620Z",
     "shell.execute_reply": "2021-05-26T14:35:08.965367Z"
    },
    "papermill": {
     "duration": 0.953748,
     "end_time": "2021-05-26T14:35:08.965900",
     "exception": false,
     "start_time": "2021-05-26T14:35:08.012152",
     "status": "completed"
    },
    "pycharm": {
     "is_executing": true,
     "name": "#%%\n"
    },
    "tags": []
   },
   "outputs": [],
   "source": [
    "trandata[cflds] = trandata[cflds].divide(trandata['eur_rate'], axis=\"index\").fillna(0)\n"
   ]
  },
  {
   "cell_type": "markdown",
   "id": "de57d09c",
   "metadata": {
    "papermill": {
     "duration": 0.464322,
     "end_time": "2021-05-26T14:35:09.773214",
     "exception": false,
     "start_time": "2021-05-26T14:35:09.308892",
     "status": "completed"
    },
    "tags": []
   },
   "source": [
    "#### Output to {percode}.euroconv.csv"
   ]
  },
  {
   "cell_type": "code",
   "execution_count": 14,
   "id": "d5aa30bc",
   "metadata": {
    "execution": {
     "iopub.execute_input": "2021-05-26T14:35:10.486941Z",
     "iopub.status.busy": "2021-05-26T14:35:10.481941Z",
     "iopub.status.idle": "2021-05-26T14:35:44.724454Z",
     "shell.execute_reply": "2021-05-26T14:35:44.725452Z"
    },
    "papermill": {
     "duration": 34.560189,
     "end_time": "2021-05-26T14:35:44.726451",
     "exception": false,
     "start_time": "2021-05-26T14:35:10.166262",
     "status": "completed"
    },
    "pycharm": {
     "is_executing": true,
     "name": "#%%\n"
    },
    "tags": []
   },
   "outputs": [],
   "source": [
    "trandata.to_csv(f'//hecate/Insurance_US/Product Development/Product Management/Global PPM/Reporting/Data Collection/Production/{str(percode)}\\\\{str(percode)}.euroconv.csv', ',', index=False, encoding='utf-8-sig')\n",
    "\n",
    "\n"
   ]
  },
  {
   "cell_type": "markdown",
   "id": "0d6d1b47",
   "metadata": {
    "papermill": {
     "duration": 0.265038,
     "end_time": "2021-05-26T14:35:45.857031",
     "exception": false,
     "start_time": "2021-05-26T14:35:45.591993",
     "status": "completed"
    },
    "tags": []
   },
   "source": [
    "#### Store the DataFrame for other notebooks to use"
   ]
  },
  {
   "cell_type": "code",
   "execution_count": 15,
   "id": "c1945e9a",
   "metadata": {
    "execution": {
     "iopub.execute_input": "2021-05-26T14:35:46.479492Z",
     "iopub.status.busy": "2021-05-26T14:35:46.475491Z",
     "iopub.status.idle": "2021-05-26T14:35:46.506830Z",
     "shell.execute_reply": "2021-05-26T14:35:46.507887Z"
    },
    "papermill": {
     "duration": 0.325874,
     "end_time": "2021-05-26T14:35:46.507887",
     "exception": false,
     "start_time": "2021-05-26T14:35:46.182013",
     "status": "completed"
    },
    "tags": []
   },
   "outputs": [
    {
     "name": "stdout",
     "output_type": "stream",
     "text": [
      "Stored 'mo_df' (DataFrame)\n"
     ]
    }
   ],
   "source": [
    "mo_df = trandata\n",
    "\n",
    "%store mo_df\n"
   ]
  }
 ],
 "metadata": {
  "celltoolbar": "Tags",
  "kernelspec": {
   "display_name": "Python 3",
   "language": "python",
   "name": "python3"
  },
  "language_info": {
   "codemirror_mode": {
    "name": "ipython",
    "version": 3
   },
   "file_extension": ".py",
   "mimetype": "text/x-python",
   "name": "python",
   "nbconvert_exporter": "python",
   "pygments_lexer": "ipython3",
   "version": "3.7.6"
  },
  "papermill": {
   "default_parameters": {},
   "duration": 143.716053,
   "end_time": "2021-05-26T14:35:48.607377",
   "environment_variables": {},
   "exception": null,
   "input_path": "pipeline/make_output.ipynb",
   "output_path": "//hecate/Insurance_US/Product Development/Product Management/Global PPM/Reporting/Data Collection/Pipeline Reporting Scripts/GPMpipeline/instances/2021.Q1\\pipeline\\make_output05262021102758--Aus Problem.ipynb",
   "parameters": {
    "commit_message": "New AUS needed to be converted from json",
    "inst_datetime": "05262021102758",
    "percode": "2021.Q1",
    "run_control": 1
   },
   "start_time": "2021-05-26T14:33:24.891324",
   "version": "2.3.3"
  }
 },
 "nbformat": 4,
 "nbformat_minor": 5
}