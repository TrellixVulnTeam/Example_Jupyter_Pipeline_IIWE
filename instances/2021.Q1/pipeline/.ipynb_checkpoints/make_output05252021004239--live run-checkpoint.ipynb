{
 "cells": [
  {
   "cell_type": "markdown",
   "id": "c37306fc",
   "metadata": {
    "papermill": {
     "duration": 0.234599,
     "end_time": "2021-05-25T04:47:24.926072",
     "exception": false,
     "start_time": "2021-05-25T04:47:24.691473",
     "status": "completed"
    },
    "pycharm": {
     "name": "#%% md\n"
    },
    "tags": []
   },
   "source": [
    "<img src=\"../images/AzPTravel_PPM.png\">"
   ]
  },
  {
   "cell_type": "markdown",
   "id": "2a89b748",
   "metadata": {
    "papermill": {
     "duration": 0.256703,
     "end_time": "2021-05-25T04:47:25.438028",
     "exception": false,
     "start_time": "2021-05-25T04:47:25.181325",
     "status": "completed"
    },
    "tags": []
   },
   "source": [
    "## GPM Pipeline Output maker\n",
    "\n",
    "#### This script\n",
    "- loads the transformed parquet file\n",
    "- creates the file {parquet}.localcur.csv\n",
    "- makes the Euro conversions\n",
    "- outputs {parquet}.euroconv.csv\n"
   ]
  },
  {
   "cell_type": "markdown",
   "id": "510fe1d7",
   "metadata": {
    "papermill": {
     "duration": 0.289003,
     "end_time": "2021-05-25T04:47:25.980152",
     "exception": false,
     "start_time": "2021-05-25T04:47:25.691149",
     "status": "completed"
    },
    "tags": []
   },
   "source": [
    "#### Parameters section"
   ]
  },
  {
   "cell_type": "code",
   "execution_count": 2,
   "id": "89ea5bd5",
   "metadata": {
    "execution": {
     "iopub.execute_input": "2021-05-25T04:47:26.489830Z",
     "iopub.status.busy": "2021-05-25T04:47:26.485839Z",
     "iopub.status.idle": "2021-05-25T04:47:26.497823Z",
     "shell.execute_reply": "2021-05-25T04:47:26.499294Z"
    },
    "papermill": {
     "duration": 0.255062,
     "end_time": "2021-05-25T04:47:26.499828",
     "exception": false,
     "start_time": "2021-05-25T04:47:26.244766",
     "status": "completed"
    },
    "pycharm": {
     "name": "#%%\n"
    },
    "tags": [
     "parameters"
    ]
   },
   "outputs": [],
   "source": [
    "commit = \"\"\n",
    "# give a reason for the run\n",
    "\n",
    "percode = \"20XX.QX\"\n",
    "# Data Collection Code, this controls file paths and output names\n",
    "\n",
    "run_type = 1\n",
    "#run_type =  0 - lite run with no reporting, not recommended.\n",
    "#run_type =  1 - lite run with normal reporting, default setting.\n",
    "#run_type =  2 - Heavy run with full reporting, available for audits and troubleshooting.\n",
    "\n",
    "specialchars = \"-GTHtest\"\n",
    "# optional - add up to a 12 character code in order to mark your instance record .ipynb\n",
    "\n",
    "from datetime import datetime\n",
    "inst_datetime = datetime.now().strftime(\"%m%d%Y%H%M%S\")\n",
    "# a single datetime stamp for the full instance run\n"
   ]
  },
  {
   "cell_type": "code",
   "execution_count": 3,
   "id": "573ef4c3",
   "metadata": {
    "execution": {
     "iopub.execute_input": "2021-05-25T04:47:26.997302Z",
     "iopub.status.busy": "2021-05-25T04:47:26.994300Z",
     "iopub.status.idle": "2021-05-25T04:47:27.002298Z",
     "shell.execute_reply": "2021-05-25T04:47:27.004299Z"
    },
    "papermill": {
     "duration": 0.263568,
     "end_time": "2021-05-25T04:47:27.005299",
     "exception": false,
     "start_time": "2021-05-25T04:47:26.741731",
     "status": "completed"
    },
    "tags": [
     "injected-parameters"
    ]
   },
   "outputs": [],
   "source": [
    "# Parameters\n",
    "run_control = 1\n",
    "percode = \"2021.Q1\"\n",
    "commit_message = \"Edited data for Austraila, json 2 parquet and add comments from email. Begin general evaluation of data submissions.\"\n",
    "inst_datetime = \"05252021004239\"\n"
   ]
  },
  {
   "cell_type": "markdown",
   "id": "ef35c3a7",
   "metadata": {
    "papermill": {
     "duration": 0.236641,
     "end_time": "2021-05-25T04:47:27.492477",
     "exception": false,
     "start_time": "2021-05-25T04:47:27.255836",
     "status": "completed"
    },
    "tags": []
   },
   "source": [
    "### Set Run Control\n",
    "\n",
    "##### 0 - lite run with no reporting, not recommended.\n",
    "##### 1 - lite run with normal reporting, default setting.\n",
    "##### 2 - Heavy run with full reporting, available for audits and troubleshooting."
   ]
  },
  {
   "cell_type": "code",
   "execution_count": 4,
   "id": "30872c70",
   "metadata": {
    "execution": {
     "iopub.execute_input": "2021-05-25T04:47:27.989564Z",
     "iopub.status.busy": "2021-05-25T04:47:27.987565Z",
     "iopub.status.idle": "2021-05-25T04:47:27.996566Z",
     "shell.execute_reply": "2021-05-25T04:47:27.997566Z"
    },
    "papermill": {
     "duration": 0.265994,
     "end_time": "2021-05-25T04:47:27.997566",
     "exception": false,
     "start_time": "2021-05-25T04:47:27.731572",
     "status": "completed"
    },
    "pycharm": {
     "name": "#%%\n"
    },
    "tags": []
   },
   "outputs": [],
   "source": [
    "run_control = 0 # in development mode"
   ]
  },
  {
   "cell_type": "markdown",
   "id": "d4e3d973",
   "metadata": {
    "papermill": {
     "duration": 0.238416,
     "end_time": "2021-05-25T04:47:28.479564",
     "exception": false,
     "start_time": "2021-05-25T04:47:28.241148",
     "status": "completed"
    },
    "tags": []
   },
   "source": [
    "#### Packages used"
   ]
  },
  {
   "cell_type": "code",
   "execution_count": 5,
   "id": "380e20c6",
   "metadata": {
    "execution": {
     "iopub.execute_input": "2021-05-25T04:47:29.061392Z",
     "iopub.status.busy": "2021-05-25T04:47:29.059386Z",
     "iopub.status.idle": "2021-05-25T04:47:29.932081Z",
     "shell.execute_reply": "2021-05-25T04:47:29.935078Z"
    },
    "papermill": {
     "duration": 1.185216,
     "end_time": "2021-05-25T04:47:29.935078",
     "exception": false,
     "start_time": "2021-05-25T04:47:28.749862",
     "status": "completed"
    },
    "pycharm": {
     "name": "#%%\n"
    },
    "tags": []
   },
   "outputs": [],
   "source": [
    "import sys\n",
    "import os\n",
    "import pandas as pd"
   ]
  },
  {
   "cell_type": "code",
   "execution_count": 6,
   "id": "cf651354",
   "metadata": {
    "execution": {
     "iopub.execute_input": "2021-05-25T04:47:30.525473Z",
     "iopub.status.busy": "2021-05-25T04:47:30.518502Z",
     "iopub.status.idle": "2021-05-25T04:47:30.531468Z",
     "shell.execute_reply": "2021-05-25T04:47:30.532478Z"
    },
    "papermill": {
     "duration": 0.265303,
     "end_time": "2021-05-25T04:47:30.532478",
     "exception": false,
     "start_time": "2021-05-25T04:47:30.267175",
     "status": "completed"
    },
    "pycharm": {
     "name": "#%%\n"
    },
    "tags": []
   },
   "outputs": [],
   "source": [
    "default_DC = \"2021.Q1\"\n",
    "\n",
    "try:\n",
    "    if sys.argv[1] == \"-f\":\n",
    "        percode = default_DC\n",
    "    else:\n",
    "        percode = sys.argv[1]\n",
    "\n",
    "except IndexError:\n",
    "    percode = default_DC\n",
    "except NameError:\n",
    "    percode = default_DC"
   ]
  },
  {
   "cell_type": "markdown",
   "id": "a7944688",
   "metadata": {
    "papermill": {
     "duration": 0.261059,
     "end_time": "2021-05-25T04:47:31.055654",
     "exception": false,
     "start_time": "2021-05-25T04:47:30.794595",
     "status": "completed"
    },
    "tags": []
   },
   "source": [
    "#### Convert paths and files to variables.\n",
    "#### Read data into pd DataFrames.\n",
    "#### Make paths for the live sources."
   ]
  },
  {
   "cell_type": "code",
   "execution_count": 7,
   "id": "49367804",
   "metadata": {
    "execution": {
     "iopub.execute_input": "2021-05-25T04:47:31.575460Z",
     "iopub.status.busy": "2021-05-25T04:47:31.573930Z",
     "iopub.status.idle": "2021-05-25T04:47:31.580456Z",
     "shell.execute_reply": "2021-05-25T04:47:31.582457Z"
    },
    "papermill": {
     "duration": 0.270717,
     "end_time": "2021-05-25T04:47:31.583461",
     "exception": false,
     "start_time": "2021-05-25T04:47:31.312744",
     "status": "completed"
    },
    "pycharm": {
     "name": "#%%\n"
    },
    "tags": []
   },
   "outputs": [],
   "source": [
    "rt_path = f'//hecate/Insurance_US/Product Development/Product Manag' \\\n",
    "          f'ement/Global PPM/Reporting/Data Collection/Production/{str(percode)}'\n",
    "tempfile = os.path.join(rt_path, f'{str(percode)}.localcur.parquet')\n",
    "gppm_file = os.path.join(rt_path, f'GPPM_Input_{str(percode)}.xlsx')"
   ]
  },
  {
   "cell_type": "markdown",
   "id": "04a2cdfd",
   "metadata": {
    "papermill": {
     "duration": 0.285588,
     "end_time": "2021-05-25T04:47:32.125041",
     "exception": false,
     "start_time": "2021-05-25T04:47:31.839453",
     "status": "completed"
    },
    "tags": []
   },
   "source": [
    "#### Read source"
   ]
  },
  {
   "cell_type": "code",
   "execution_count": 8,
   "id": "23cb3905",
   "metadata": {
    "execution": {
     "iopub.execute_input": "2021-05-25T04:47:32.649555Z",
     "iopub.status.busy": "2021-05-25T04:47:32.646554Z",
     "iopub.status.idle": "2021-05-25T04:47:33.799131Z",
     "shell.execute_reply": "2021-05-25T04:47:33.800129Z"
    },
    "papermill": {
     "duration": 1.427004,
     "end_time": "2021-05-25T04:47:33.801126",
     "exception": false,
     "start_time": "2021-05-25T04:47:32.374122",
     "status": "completed"
    },
    "pycharm": {
     "name": "#%%\n"
    },
    "tags": []
   },
   "outputs": [
    {
     "name": "stdout",
     "output_type": "stream",
     "text": [
      "                       submission_file business_unit country currency  \\\n",
      "0     us_dat_au_05142021143612.parquet            AU      AU      AUD   \n",
      "1     us_dat_au_05142021143612.parquet            AU      AU      AUD   \n",
      "3     us_dat_au_05142021143612.parquet            AU      AU      AUD   \n",
      "4     us_dat_au_05142021143612.parquet            AU      AU      AUD   \n",
      "5     us_dat_au_05142021143612.parquet            AU      AU      AUD   \n",
      "...                                ...           ...     ...      ...   \n",
      "3619  us_dat_pt_05202021121056.parquet            PT      PT      EUR   \n",
      "3620  us_dat_pt_05202021121056.parquet            PT      PT      EUR   \n",
      "3621  us_dat_pt_05202021121056.parquet            PT      PT      EUR   \n",
      "3622  us_dat_pt_05202021121056.parquet            PT      PT      EUR   \n",
      "3623  us_dat_pt_05202021121056.parquet            PT      PT      EUR   \n",
      "\n",
      "                           region reporting_date_from reporting_date_to  \\\n",
      "0                            APAC          2021-01-01        2021-03-31   \n",
      "1                            APAC          2021-01-01        2021-03-31   \n",
      "3                            APAC          2021-01-01        2021-03-31   \n",
      "4                            APAC          2021-01-01        2021-03-31   \n",
      "5                            APAC          2021-01-01        2021-03-31   \n",
      "...                           ...                 ...               ...   \n",
      "3619  Western Europe, LATAM & MEA          2021-01-01        2021-03-31   \n",
      "3620  Western Europe, LATAM & MEA          2021-01-01        2021-03-31   \n",
      "3621  Western Europe, LATAM & MEA          2021-01-01        2021-03-31   \n",
      "3622  Western Europe, LATAM & MEA          2021-01-01        2021-03-31   \n",
      "3623  Western Europe, LATAM & MEA          2021-01-01        2021-03-31   \n",
      "\n",
      "     date_of_analysis type_of_analysis  analysed_months  ...  unnamed:_66  \\\n",
      "0          2021-04-30     Year To Date              3.0  ...          0.0   \n",
      "1          2021-04-30     Year To Date              3.0  ...          0.0   \n",
      "3          2021-04-30     Year To Date              3.0  ...          0.0   \n",
      "4          2021-04-30     Year To Date              3.0  ...          0.0   \n",
      "5          2021-04-30     Year To Date              3.0  ...          0.0   \n",
      "...               ...              ...              ...  ...          ...   \n",
      "3619       2021-03-31     Year To Date              3.0  ...          0.0   \n",
      "3620       2021-03-31     Year To Date              3.0  ...          0.0   \n",
      "3621       2021-03-31     Year To Date              3.0  ...          0.0   \n",
      "3622       2021-03-31     Year To Date              3.0  ...          0.0   \n",
      "3623       2021-03-31     Year To Date              3.0  ...          0.0   \n",
      "\n",
      "      concat2    comsub     expsub reporting_date_from_int  \\\n",
      "0       AUAUD  0.100998   3.245346                20210101   \n",
      "1       AUAUD  0.233379   3.589092                20210101   \n",
      "3       AUAUD  0.000000   4.723789                20210101   \n",
      "4       AUAUD  0.220000   4.239521                20210101   \n",
      "5       AUAUD  0.000000   0.305728                20210101   \n",
      "...       ...       ...        ...                     ...   \n",
      "3619    PTEUR  0.000000   0.538397                20210101   \n",
      "3620    PTEUR  0.000000   0.426832                20210101   \n",
      "3621    PTEUR  0.000000  18.673326                20210101   \n",
      "3622    PTEUR  0.000000   0.859278                20210101   \n",
      "3623    PTEUR  0.000000   1.023709                20210101   \n",
      "\n",
      "     reporting_date_to_int date_of_analysis_int  \\\n",
      "0                 20210331             20210430   \n",
      "1                 20210331             20210430   \n",
      "3                 20210331             20210430   \n",
      "4                 20210331             20210430   \n",
      "5                 20210331             20210430   \n",
      "...                    ...                  ...   \n",
      "3619              20210331             20210331   \n",
      "3620              20210331             20210331   \n",
      "3621              20210331             20210331   \n",
      "3622              20210331             20210331   \n",
      "3623              20210331             20210331   \n",
      "\n",
      "                         selected_fields_for_duplicates ibnrsub   rep_date  \n",
      "0     AUInsuranceLocalB2B2CTravelAllianz Affiliation...     NaN 2021-03-31  \n",
      "1     AUInsuranceLocalB2B2CTravelOffline Travel Agen...     NaN 2021-03-31  \n",
      "3     AUInsuranceLocalB2B2CTravelAllianz Affiliation...     NaN 2021-03-31  \n",
      "4     AUInsuranceLocalB2CTravelDirect (Allianz Partn...     NaN 2021-03-31  \n",
      "5     AUInsuranceLocalB2B2CTravelBanks / Credit Card...     NaN 2021-03-31  \n",
      "...                                                 ...     ...        ...  \n",
      "3619  PTReinsuranceLocalB2B2CTravelDirect (Allianz P...     0.0 2021-03-31  \n",
      "3620  PTReinsuranceLocalB2B2CTravelDirect (Allianz P...     0.0 2021-03-31  \n",
      "3621  PTReinsuranceLocalB2B2CTravelDirect (Allianz P...     0.0 2021-03-31  \n",
      "3622  PTReinsuranceLocalB2B2CTravelDirect (Allianz P...     0.0 2021-03-31  \n",
      "3623  PTReinsuranceLocalB2BTravelDirect (Allianz Par...     0.0 2021-03-31  \n",
      "\n",
      "[2119 rows x 77 columns]\n"
     ]
    }
   ],
   "source": [
    "mo_input = pd.read_parquet(tempfile, engine='pyarrow')\n",
    "\n",
    "print(mo_input)"
   ]
  },
  {
   "cell_type": "markdown",
   "id": "6674c987",
   "metadata": {
    "papermill": {
     "duration": 0.252049,
     "end_time": "2021-05-25T04:47:34.325701",
     "exception": false,
     "start_time": "2021-05-25T04:47:34.073652",
     "status": "completed"
    },
    "tags": []
   },
   "source": [
    "#### Output local currency csv"
   ]
  },
  {
   "cell_type": "code",
   "execution_count": 9,
   "id": "09738179",
   "metadata": {
    "execution": {
     "iopub.execute_input": "2021-05-25T04:47:34.906056Z",
     "iopub.status.busy": "2021-05-25T04:47:34.903053Z",
     "iopub.status.idle": "2021-05-25T04:47:43.847989Z",
     "shell.execute_reply": "2021-05-25T04:47:43.849992Z"
    },
    "papermill": {
     "duration": 9.269859,
     "end_time": "2021-05-25T04:47:43.849992",
     "exception": false,
     "start_time": "2021-05-25T04:47:34.580133",
     "status": "completed"
    },
    "pycharm": {
     "is_executing": true,
     "name": "#%%\n"
    },
    "tags": []
   },
   "outputs": [],
   "source": [
    "mo_input.to_csv(f'//hecate/Insurance_US/Product Development/Product Management/Global PPM/Reporting/Data Collection/Production/{str(percode)}\\\\{str(percode)}.localcur.csv', ',', index=False, encoding='utf-8-sig')"
   ]
  },
  {
   "cell_type": "markdown",
   "id": "da5543f6",
   "metadata": {
    "papermill": {
     "duration": 0.263066,
     "end_time": "2021-05-25T04:47:44.452576",
     "exception": false,
     "start_time": "2021-05-25T04:47:44.189510",
     "status": "completed"
    },
    "tags": []
   },
   "source": [
    "#### Convert all currency to Euro\n"
   ]
  },
  {
   "cell_type": "code",
   "execution_count": 10,
   "id": "27b2357f",
   "metadata": {
    "execution": {
     "iopub.execute_input": "2021-05-25T04:47:45.034085Z",
     "iopub.status.busy": "2021-05-25T04:47:45.027080Z",
     "iopub.status.idle": "2021-05-25T04:47:46.412491Z",
     "shell.execute_reply": "2021-05-25T04:47:46.413486Z"
    },
    "papermill": {
     "duration": 1.708805,
     "end_time": "2021-05-25T04:47:46.414484",
     "exception": false,
     "start_time": "2021-05-25T04:47:44.705679",
     "status": "completed"
    },
    "pycharm": {
     "is_executing": true,
     "name": "#%%\n"
    },
    "tags": []
   },
   "outputs": [],
   "source": [
    "\n",
    "cflds = ['written_revenues_net_of_taxes', 'written_revenues', 'earned_revenues_net_of_taxes',\n",
    "         'earned_revenues', 'earned_base_commissions', 'earned_over_commissions', 'upfront_cash_payments',\n",
    "         'total_compensation', 'paid_claims', 'ocr__ibnr', 'actual_incurred_losses',\n",
    "         'internal_variable_costs', 'az_tech_fee', 'internal_fixed_costs',\n",
    "         'hq_fees', 'total_expenses', 'risk_premium', 'profit_or_loss', 'cm_hq_view',\n",
    "         'cm_bu_view', ]\n",
    "\n",
    "\n",
    "\"\"\"reads in the input for the Euro conversion\"\"\"\n",
    "euro = pd.read_excel(gppm_file, sheet_name=\"Euro_Rates\")\n"
   ]
  },
  {
   "cell_type": "markdown",
   "id": "c41e6e53",
   "metadata": {
    "papermill": {
     "duration": 0.275796,
     "end_time": "2021-05-25T04:47:46.967966",
     "exception": false,
     "start_time": "2021-05-25T04:47:46.692170",
     "status": "completed"
    },
    "tags": []
   },
   "source": [
    "#### Make a copy for debug purposes"
   ]
  },
  {
   "cell_type": "code",
   "execution_count": 13,
   "id": "526077f2",
   "metadata": {
    "execution": {
     "iopub.execute_input": "2021-05-25T04:47:47.506488Z",
     "iopub.status.busy": "2021-05-25T04:47:47.504487Z",
     "iopub.status.idle": "2021-05-25T04:47:47.513495Z",
     "shell.execute_reply": "2021-05-25T04:47:47.514492Z"
    },
    "papermill": {
     "duration": 0.28299,
     "end_time": "2021-05-25T04:47:47.515493",
     "exception": false,
     "start_time": "2021-05-25T04:47:47.232503",
     "status": "completed"
    },
    "pycharm": {
     "is_executing": true,
     "name": "#%%\n"
    },
    "tags": []
   },
   "outputs": [
    {
     "data": {
      "text/html": [
       "<div>\n",
       "<style scoped>\n",
       "    .dataframe tbody tr th:only-of-type {\n",
       "        vertical-align: middle;\n",
       "    }\n",
       "\n",
       "    .dataframe tbody tr th {\n",
       "        vertical-align: top;\n",
       "    }\n",
       "\n",
       "    .dataframe thead th {\n",
       "        text-align: right;\n",
       "    }\n",
       "</style>\n",
       "<table border=\"1\" class=\"dataframe\">\n",
       "  <thead>\n",
       "    <tr style=\"text-align: right;\">\n",
       "      <th></th>\n",
       "      <th>submission_file</th>\n",
       "      <th>business_unit</th>\n",
       "      <th>country</th>\n",
       "      <th>currency</th>\n",
       "      <th>region</th>\n",
       "      <th>reporting_date_from</th>\n",
       "      <th>reporting_date_to</th>\n",
       "      <th>date_of_analysis</th>\n",
       "      <th>type_of_analysis</th>\n",
       "      <th>analysed_months</th>\n",
       "      <th>...</th>\n",
       "      <th>unnamed:_66</th>\n",
       "      <th>concat2</th>\n",
       "      <th>comsub</th>\n",
       "      <th>expsub</th>\n",
       "      <th>reporting_date_from_int</th>\n",
       "      <th>reporting_date_to_int</th>\n",
       "      <th>date_of_analysis_int</th>\n",
       "      <th>selected_fields_for_duplicates</th>\n",
       "      <th>ibnrsub</th>\n",
       "      <th>rep_date</th>\n",
       "    </tr>\n",
       "  </thead>\n",
       "  <tbody>\n",
       "    <tr>\n",
       "      <th>0</th>\n",
       "      <td>us_dat_au_05142021143612.parquet</td>\n",
       "      <td>AU</td>\n",
       "      <td>AU</td>\n",
       "      <td>AUD</td>\n",
       "      <td>APAC</td>\n",
       "      <td>2021-01-01</td>\n",
       "      <td>2021-03-31</td>\n",
       "      <td>2021-04-30</td>\n",
       "      <td>Year To Date</td>\n",
       "      <td>3.0</td>\n",
       "      <td>...</td>\n",
       "      <td>0.0</td>\n",
       "      <td>AUAUD</td>\n",
       "      <td>0.100998</td>\n",
       "      <td>3.245346</td>\n",
       "      <td>20210101</td>\n",
       "      <td>20210331</td>\n",
       "      <td>20210430</td>\n",
       "      <td>AUInsuranceLocalB2B2CTravelAllianz Affiliation...</td>\n",
       "      <td>NaN</td>\n",
       "      <td>2021-03-31</td>\n",
       "    </tr>\n",
       "    <tr>\n",
       "      <th>1</th>\n",
       "      <td>us_dat_au_05142021143612.parquet</td>\n",
       "      <td>AU</td>\n",
       "      <td>AU</td>\n",
       "      <td>AUD</td>\n",
       "      <td>APAC</td>\n",
       "      <td>2021-01-01</td>\n",
       "      <td>2021-03-31</td>\n",
       "      <td>2021-04-30</td>\n",
       "      <td>Year To Date</td>\n",
       "      <td>3.0</td>\n",
       "      <td>...</td>\n",
       "      <td>0.0</td>\n",
       "      <td>AUAUD</td>\n",
       "      <td>0.233379</td>\n",
       "      <td>3.589092</td>\n",
       "      <td>20210101</td>\n",
       "      <td>20210331</td>\n",
       "      <td>20210430</td>\n",
       "      <td>AUInsuranceLocalB2B2CTravelOffline Travel Agen...</td>\n",
       "      <td>NaN</td>\n",
       "      <td>2021-03-31</td>\n",
       "    </tr>\n",
       "    <tr>\n",
       "      <th>3</th>\n",
       "      <td>us_dat_au_05142021143612.parquet</td>\n",
       "      <td>AU</td>\n",
       "      <td>AU</td>\n",
       "      <td>AUD</td>\n",
       "      <td>APAC</td>\n",
       "      <td>2021-01-01</td>\n",
       "      <td>2021-03-31</td>\n",
       "      <td>2021-04-30</td>\n",
       "      <td>Year To Date</td>\n",
       "      <td>3.0</td>\n",
       "      <td>...</td>\n",
       "      <td>0.0</td>\n",
       "      <td>AUAUD</td>\n",
       "      <td>0.000000</td>\n",
       "      <td>4.723789</td>\n",
       "      <td>20210101</td>\n",
       "      <td>20210331</td>\n",
       "      <td>20210430</td>\n",
       "      <td>AUInsuranceLocalB2B2CTravelAllianz Affiliation...</td>\n",
       "      <td>NaN</td>\n",
       "      <td>2021-03-31</td>\n",
       "    </tr>\n",
       "    <tr>\n",
       "      <th>4</th>\n",
       "      <td>us_dat_au_05142021143612.parquet</td>\n",
       "      <td>AU</td>\n",
       "      <td>AU</td>\n",
       "      <td>AUD</td>\n",
       "      <td>APAC</td>\n",
       "      <td>2021-01-01</td>\n",
       "      <td>2021-03-31</td>\n",
       "      <td>2021-04-30</td>\n",
       "      <td>Year To Date</td>\n",
       "      <td>3.0</td>\n",
       "      <td>...</td>\n",
       "      <td>0.0</td>\n",
       "      <td>AUAUD</td>\n",
       "      <td>0.220000</td>\n",
       "      <td>4.239521</td>\n",
       "      <td>20210101</td>\n",
       "      <td>20210331</td>\n",
       "      <td>20210430</td>\n",
       "      <td>AUInsuranceLocalB2CTravelDirect (Allianz Partn...</td>\n",
       "      <td>NaN</td>\n",
       "      <td>2021-03-31</td>\n",
       "    </tr>\n",
       "    <tr>\n",
       "      <th>5</th>\n",
       "      <td>us_dat_au_05142021143612.parquet</td>\n",
       "      <td>AU</td>\n",
       "      <td>AU</td>\n",
       "      <td>AUD</td>\n",
       "      <td>APAC</td>\n",
       "      <td>2021-01-01</td>\n",
       "      <td>2021-03-31</td>\n",
       "      <td>2021-04-30</td>\n",
       "      <td>Year To Date</td>\n",
       "      <td>3.0</td>\n",
       "      <td>...</td>\n",
       "      <td>0.0</td>\n",
       "      <td>AUAUD</td>\n",
       "      <td>0.000000</td>\n",
       "      <td>0.305728</td>\n",
       "      <td>20210101</td>\n",
       "      <td>20210331</td>\n",
       "      <td>20210430</td>\n",
       "      <td>AUInsuranceLocalB2B2CTravelBanks / Credit Card...</td>\n",
       "      <td>NaN</td>\n",
       "      <td>2021-03-31</td>\n",
       "    </tr>\n",
       "    <tr>\n",
       "      <th>...</th>\n",
       "      <td>...</td>\n",
       "      <td>...</td>\n",
       "      <td>...</td>\n",
       "      <td>...</td>\n",
       "      <td>...</td>\n",
       "      <td>...</td>\n",
       "      <td>...</td>\n",
       "      <td>...</td>\n",
       "      <td>...</td>\n",
       "      <td>...</td>\n",
       "      <td>...</td>\n",
       "      <td>...</td>\n",
       "      <td>...</td>\n",
       "      <td>...</td>\n",
       "      <td>...</td>\n",
       "      <td>...</td>\n",
       "      <td>...</td>\n",
       "      <td>...</td>\n",
       "      <td>...</td>\n",
       "      <td>...</td>\n",
       "      <td>...</td>\n",
       "    </tr>\n",
       "    <tr>\n",
       "      <th>3619</th>\n",
       "      <td>us_dat_pt_05202021121056.parquet</td>\n",
       "      <td>PT</td>\n",
       "      <td>PT</td>\n",
       "      <td>EUR</td>\n",
       "      <td>Western Europe, LATAM &amp; MEA</td>\n",
       "      <td>2021-01-01</td>\n",
       "      <td>2021-03-31</td>\n",
       "      <td>2021-03-31</td>\n",
       "      <td>Year To Date</td>\n",
       "      <td>3.0</td>\n",
       "      <td>...</td>\n",
       "      <td>0.0</td>\n",
       "      <td>PTEUR</td>\n",
       "      <td>0.000000</td>\n",
       "      <td>0.538397</td>\n",
       "      <td>20210101</td>\n",
       "      <td>20210331</td>\n",
       "      <td>20210331</td>\n",
       "      <td>PTReinsuranceLocalB2B2CTravelDirect (Allianz P...</td>\n",
       "      <td>0.0</td>\n",
       "      <td>2021-03-31</td>\n",
       "    </tr>\n",
       "    <tr>\n",
       "      <th>3620</th>\n",
       "      <td>us_dat_pt_05202021121056.parquet</td>\n",
       "      <td>PT</td>\n",
       "      <td>PT</td>\n",
       "      <td>EUR</td>\n",
       "      <td>Western Europe, LATAM &amp; MEA</td>\n",
       "      <td>2021-01-01</td>\n",
       "      <td>2021-03-31</td>\n",
       "      <td>2021-03-31</td>\n",
       "      <td>Year To Date</td>\n",
       "      <td>3.0</td>\n",
       "      <td>...</td>\n",
       "      <td>0.0</td>\n",
       "      <td>PTEUR</td>\n",
       "      <td>0.000000</td>\n",
       "      <td>0.426832</td>\n",
       "      <td>20210101</td>\n",
       "      <td>20210331</td>\n",
       "      <td>20210331</td>\n",
       "      <td>PTReinsuranceLocalB2B2CTravelDirect (Allianz P...</td>\n",
       "      <td>0.0</td>\n",
       "      <td>2021-03-31</td>\n",
       "    </tr>\n",
       "    <tr>\n",
       "      <th>3621</th>\n",
       "      <td>us_dat_pt_05202021121056.parquet</td>\n",
       "      <td>PT</td>\n",
       "      <td>PT</td>\n",
       "      <td>EUR</td>\n",
       "      <td>Western Europe, LATAM &amp; MEA</td>\n",
       "      <td>2021-01-01</td>\n",
       "      <td>2021-03-31</td>\n",
       "      <td>2021-03-31</td>\n",
       "      <td>Year To Date</td>\n",
       "      <td>3.0</td>\n",
       "      <td>...</td>\n",
       "      <td>0.0</td>\n",
       "      <td>PTEUR</td>\n",
       "      <td>0.000000</td>\n",
       "      <td>18.673326</td>\n",
       "      <td>20210101</td>\n",
       "      <td>20210331</td>\n",
       "      <td>20210331</td>\n",
       "      <td>PTReinsuranceLocalB2B2CTravelDirect (Allianz P...</td>\n",
       "      <td>0.0</td>\n",
       "      <td>2021-03-31</td>\n",
       "    </tr>\n",
       "    <tr>\n",
       "      <th>3622</th>\n",
       "      <td>us_dat_pt_05202021121056.parquet</td>\n",
       "      <td>PT</td>\n",
       "      <td>PT</td>\n",
       "      <td>EUR</td>\n",
       "      <td>Western Europe, LATAM &amp; MEA</td>\n",
       "      <td>2021-01-01</td>\n",
       "      <td>2021-03-31</td>\n",
       "      <td>2021-03-31</td>\n",
       "      <td>Year To Date</td>\n",
       "      <td>3.0</td>\n",
       "      <td>...</td>\n",
       "      <td>0.0</td>\n",
       "      <td>PTEUR</td>\n",
       "      <td>0.000000</td>\n",
       "      <td>0.859278</td>\n",
       "      <td>20210101</td>\n",
       "      <td>20210331</td>\n",
       "      <td>20210331</td>\n",
       "      <td>PTReinsuranceLocalB2B2CTravelDirect (Allianz P...</td>\n",
       "      <td>0.0</td>\n",
       "      <td>2021-03-31</td>\n",
       "    </tr>\n",
       "    <tr>\n",
       "      <th>3623</th>\n",
       "      <td>us_dat_pt_05202021121056.parquet</td>\n",
       "      <td>PT</td>\n",
       "      <td>PT</td>\n",
       "      <td>EUR</td>\n",
       "      <td>Western Europe, LATAM &amp; MEA</td>\n",
       "      <td>2021-01-01</td>\n",
       "      <td>2021-03-31</td>\n",
       "      <td>2021-03-31</td>\n",
       "      <td>Year To Date</td>\n",
       "      <td>3.0</td>\n",
       "      <td>...</td>\n",
       "      <td>0.0</td>\n",
       "      <td>PTEUR</td>\n",
       "      <td>0.000000</td>\n",
       "      <td>1.023709</td>\n",
       "      <td>20210101</td>\n",
       "      <td>20210331</td>\n",
       "      <td>20210331</td>\n",
       "      <td>PTReinsuranceLocalB2BTravelDirect (Allianz Par...</td>\n",
       "      <td>0.0</td>\n",
       "      <td>2021-03-31</td>\n",
       "    </tr>\n",
       "  </tbody>\n",
       "</table>\n",
       "<p>2119 rows × 77 columns</p>\n",
       "</div>"
      ],
      "text/plain": [
       "                       submission_file business_unit country currency  \\\n",
       "0     us_dat_au_05142021143612.parquet            AU      AU      AUD   \n",
       "1     us_dat_au_05142021143612.parquet            AU      AU      AUD   \n",
       "3     us_dat_au_05142021143612.parquet            AU      AU      AUD   \n",
       "4     us_dat_au_05142021143612.parquet            AU      AU      AUD   \n",
       "5     us_dat_au_05142021143612.parquet            AU      AU      AUD   \n",
       "...                                ...           ...     ...      ...   \n",
       "3619  us_dat_pt_05202021121056.parquet            PT      PT      EUR   \n",
       "3620  us_dat_pt_05202021121056.parquet            PT      PT      EUR   \n",
       "3621  us_dat_pt_05202021121056.parquet            PT      PT      EUR   \n",
       "3622  us_dat_pt_05202021121056.parquet            PT      PT      EUR   \n",
       "3623  us_dat_pt_05202021121056.parquet            PT      PT      EUR   \n",
       "\n",
       "                           region reporting_date_from reporting_date_to  \\\n",
       "0                            APAC          2021-01-01        2021-03-31   \n",
       "1                            APAC          2021-01-01        2021-03-31   \n",
       "3                            APAC          2021-01-01        2021-03-31   \n",
       "4                            APAC          2021-01-01        2021-03-31   \n",
       "5                            APAC          2021-01-01        2021-03-31   \n",
       "...                           ...                 ...               ...   \n",
       "3619  Western Europe, LATAM & MEA          2021-01-01        2021-03-31   \n",
       "3620  Western Europe, LATAM & MEA          2021-01-01        2021-03-31   \n",
       "3621  Western Europe, LATAM & MEA          2021-01-01        2021-03-31   \n",
       "3622  Western Europe, LATAM & MEA          2021-01-01        2021-03-31   \n",
       "3623  Western Europe, LATAM & MEA          2021-01-01        2021-03-31   \n",
       "\n",
       "     date_of_analysis type_of_analysis  analysed_months  ...  unnamed:_66  \\\n",
       "0          2021-04-30     Year To Date              3.0  ...          0.0   \n",
       "1          2021-04-30     Year To Date              3.0  ...          0.0   \n",
       "3          2021-04-30     Year To Date              3.0  ...          0.0   \n",
       "4          2021-04-30     Year To Date              3.0  ...          0.0   \n",
       "5          2021-04-30     Year To Date              3.0  ...          0.0   \n",
       "...               ...              ...              ...  ...          ...   \n",
       "3619       2021-03-31     Year To Date              3.0  ...          0.0   \n",
       "3620       2021-03-31     Year To Date              3.0  ...          0.0   \n",
       "3621       2021-03-31     Year To Date              3.0  ...          0.0   \n",
       "3622       2021-03-31     Year To Date              3.0  ...          0.0   \n",
       "3623       2021-03-31     Year To Date              3.0  ...          0.0   \n",
       "\n",
       "      concat2    comsub     expsub reporting_date_from_int  \\\n",
       "0       AUAUD  0.100998   3.245346                20210101   \n",
       "1       AUAUD  0.233379   3.589092                20210101   \n",
       "3       AUAUD  0.000000   4.723789                20210101   \n",
       "4       AUAUD  0.220000   4.239521                20210101   \n",
       "5       AUAUD  0.000000   0.305728                20210101   \n",
       "...       ...       ...        ...                     ...   \n",
       "3619    PTEUR  0.000000   0.538397                20210101   \n",
       "3620    PTEUR  0.000000   0.426832                20210101   \n",
       "3621    PTEUR  0.000000  18.673326                20210101   \n",
       "3622    PTEUR  0.000000   0.859278                20210101   \n",
       "3623    PTEUR  0.000000   1.023709                20210101   \n",
       "\n",
       "     reporting_date_to_int date_of_analysis_int  \\\n",
       "0                 20210331             20210430   \n",
       "1                 20210331             20210430   \n",
       "3                 20210331             20210430   \n",
       "4                 20210331             20210430   \n",
       "5                 20210331             20210430   \n",
       "...                    ...                  ...   \n",
       "3619              20210331             20210331   \n",
       "3620              20210331             20210331   \n",
       "3621              20210331             20210331   \n",
       "3622              20210331             20210331   \n",
       "3623              20210331             20210331   \n",
       "\n",
       "                         selected_fields_for_duplicates ibnrsub   rep_date  \n",
       "0     AUInsuranceLocalB2B2CTravelAllianz Affiliation...     NaN 2021-03-31  \n",
       "1     AUInsuranceLocalB2B2CTravelOffline Travel Agen...     NaN 2021-03-31  \n",
       "3     AUInsuranceLocalB2B2CTravelAllianz Affiliation...     NaN 2021-03-31  \n",
       "4     AUInsuranceLocalB2CTravelDirect (Allianz Partn...     NaN 2021-03-31  \n",
       "5     AUInsuranceLocalB2B2CTravelBanks / Credit Card...     NaN 2021-03-31  \n",
       "...                                                 ...     ...        ...  \n",
       "3619  PTReinsuranceLocalB2B2CTravelDirect (Allianz P...     0.0 2021-03-31  \n",
       "3620  PTReinsuranceLocalB2B2CTravelDirect (Allianz P...     0.0 2021-03-31  \n",
       "3621  PTReinsuranceLocalB2B2CTravelDirect (Allianz P...     0.0 2021-03-31  \n",
       "3622  PTReinsuranceLocalB2B2CTravelDirect (Allianz P...     0.0 2021-03-31  \n",
       "3623  PTReinsuranceLocalB2BTravelDirect (Allianz Par...     0.0 2021-03-31  \n",
       "\n",
       "[2119 rows x 77 columns]"
      ]
     },
     "execution_count": 13,
     "metadata": {},
     "output_type": "execute_result"
    }
   ],
   "source": [
    "mo_input\n"
   ]
  },
  {
   "cell_type": "markdown",
   "id": "28d5597b",
   "metadata": {
    "papermill": {
     "duration": 0.256004,
     "end_time": "2021-05-25T04:47:48.024167",
     "exception": false,
     "start_time": "2021-05-25T04:47:47.768163",
     "status": "completed"
    },
    "tags": []
   },
   "source": [
    "#### Convert Currency Below"
   ]
  },
  {
   "cell_type": "code",
   "execution_count": 11,
   "id": "c2316677",
   "metadata": {
    "execution": {
     "iopub.execute_input": "2021-05-25T04:47:48.559426Z",
     "iopub.status.busy": "2021-05-25T04:47:48.548431Z",
     "iopub.status.idle": "2021-05-25T04:47:48.565426Z",
     "shell.execute_reply": "2021-05-25T04:47:48.567426Z"
    },
    "papermill": {
     "duration": 0.285249,
     "end_time": "2021-05-25T04:47:48.567426",
     "exception": false,
     "start_time": "2021-05-25T04:47:48.282177",
     "status": "completed"
    },
    "pycharm": {
     "is_executing": true,
     "name": "#%%\n"
    },
    "tags": []
   },
   "outputs": [],
   "source": [
    "# create DataFrame of unique currencies with rates\n",
    "\n",
    "fx_uni = euro[['CURR_CODE','RATE']]\n",
    "fx_uni = fx_uni.drop_duplicates()"
   ]
  },
  {
   "cell_type": "code",
   "execution_count": 12,
   "id": "eb40ec8b",
   "metadata": {
    "execution": {
     "iopub.execute_input": "2021-05-25T04:47:49.194017Z",
     "iopub.status.busy": "2021-05-25T04:47:49.188018Z",
     "iopub.status.idle": "2021-05-25T04:47:49.203026Z",
     "shell.execute_reply": "2021-05-25T04:47:49.204019Z"
    },
    "papermill": {
     "duration": 0.369007,
     "end_time": "2021-05-25T04:47:49.205026",
     "exception": false,
     "start_time": "2021-05-25T04:47:48.836019",
     "status": "completed"
    },
    "pycharm": {
     "is_executing": true,
     "name": "#%%\n"
    },
    "tags": []
   },
   "outputs": [],
   "source": [
    "# add euro conversion rates to trandata DataFrame as column 'eur_rate'\n",
    "\n",
    "eurdata = pd.merge(trandata['currency'], fx_uni, left_on='currency', right_on='CURR_CODE', how='left')\n",
    "\n",
    "trandata['eur_rate'] = eurdata['RATE']"
   ]
  },
  {
   "cell_type": "markdown",
   "id": "6d20a671",
   "metadata": {
    "papermill": {
     "duration": 0.26357,
     "end_time": "2021-05-25T04:47:49.712584",
     "exception": false,
     "start_time": "2021-05-25T04:47:49.449014",
     "status": "completed"
    },
    "tags": []
   },
   "source": [
    "#### Convert currency fields"
   ]
  },
  {
   "cell_type": "code",
   "execution_count": 13,
   "id": "abdab6e9",
   "metadata": {
    "execution": {
     "iopub.execute_input": "2021-05-25T04:47:50.213642Z",
     "iopub.status.busy": "2021-05-25T04:47:50.208641Z",
     "iopub.status.idle": "2021-05-25T04:47:50.271677Z",
     "shell.execute_reply": "2021-05-25T04:47:50.272677Z"
    },
    "papermill": {
     "duration": 0.316031,
     "end_time": "2021-05-25T04:47:50.273675",
     "exception": false,
     "start_time": "2021-05-25T04:47:49.957644",
     "status": "completed"
    },
    "pycharm": {
     "is_executing": true,
     "name": "#%%\n"
    },
    "tags": []
   },
   "outputs": [],
   "source": [
    "trandata[cflds] = trandata[cflds].divide(trandata['eur_rate'], axis=\"index\").fillna(0)\n"
   ]
  },
  {
   "cell_type": "markdown",
   "id": "487e0bbd",
   "metadata": {
    "papermill": {
     "duration": 0.242067,
     "end_time": "2021-05-25T04:47:50.757280",
     "exception": false,
     "start_time": "2021-05-25T04:47:50.515213",
     "status": "completed"
    },
    "tags": []
   },
   "source": [
    "#### Output to {percode}.euroconv.csv"
   ]
  },
  {
   "cell_type": "code",
   "execution_count": 14,
   "id": "4e6d7d77",
   "metadata": {
    "execution": {
     "iopub.execute_input": "2021-05-25T04:47:51.274905Z",
     "iopub.status.busy": "2021-05-25T04:47:51.273905Z",
     "iopub.status.idle": "2021-05-25T04:48:00.208000Z",
     "shell.execute_reply": "2021-05-25T04:48:00.209008Z"
    },
    "papermill": {
     "duration": 9.180735,
     "end_time": "2021-05-25T04:48:00.210007",
     "exception": false,
     "start_time": "2021-05-25T04:47:51.029272",
     "status": "completed"
    },
    "pycharm": {
     "is_executing": true,
     "name": "#%%\n"
    },
    "tags": []
   },
   "outputs": [],
   "source": [
    "trandata.to_csv(f'//hecate/Insurance_US/Product Development/Product Management/Global PPM/Reporting/Data Collection/Production/{str(percode)}\\\\{str(percode)}.euroconv.csv', ',', index=False, encoding='utf-8-sig')\n",
    "\n",
    "\n"
   ]
  },
  {
   "cell_type": "markdown",
   "id": "49c2f888",
   "metadata": {
    "papermill": {
     "duration": 0.250431,
     "end_time": "2021-05-25T04:48:00.767329",
     "exception": false,
     "start_time": "2021-05-25T04:48:00.516898",
     "status": "completed"
    },
    "tags": []
   },
   "source": [
    "#### Store the DataFrame for other notebooks to use"
   ]
  },
  {
   "cell_type": "code",
   "execution_count": 15,
   "id": "adcd4602",
   "metadata": {
    "execution": {
     "iopub.execute_input": "2021-05-25T04:48:01.263766Z",
     "iopub.status.busy": "2021-05-25T04:48:01.259759Z",
     "iopub.status.idle": "2021-05-25T04:48:01.289755Z",
     "shell.execute_reply": "2021-05-25T04:48:01.292756Z"
    },
    "papermill": {
     "duration": 0.287716,
     "end_time": "2021-05-25T04:48:01.292756",
     "exception": false,
     "start_time": "2021-05-25T04:48:01.005040",
     "status": "completed"
    },
    "tags": []
   },
   "outputs": [
    {
     "name": "stdout",
     "output_type": "stream",
     "text": [
      "Stored 'mo_df' (DataFrame)\n"
     ]
    }
   ],
   "source": [
    "mo_df = trandata\n",
    "\n",
    "%store mo_df\n"
   ]
  }
 ],
 "metadata": {
  "celltoolbar": "Tags",
  "kernelspec": {
   "display_name": "Python 3",
   "language": "python",
   "name": "python3"
  },
  "language_info": {
   "codemirror_mode": {
    "name": "ipython",
    "version": 3
   },
   "file_extension": ".py",
   "mimetype": "text/x-python",
   "name": "python",
   "nbconvert_exporter": "python",
   "pygments_lexer": "ipython3",
   "version": "3.7.6"
  },
  "papermill": {
   "default_parameters": {},
   "duration": 40.429429,
   "end_time": "2021-05-25T04:48:02.009588",
   "environment_variables": {},
   "exception": null,
   "input_path": "pipeline/make_output.ipynb",
   "output_path": "//hecate/Insurance_US/Product Development/Product Management/Global PPM/Reporting/Data Collection/Pipeline Reporting Scripts/GPMpipeline/instances/2021.Q1\\pipeline\\make_output05252021004239--live run.ipynb",
   "parameters": {
    "commit_message": "Edited data for Austraila, json 2 parquet and add comments from email. Begin general evaluation of data submissions.",
    "inst_datetime": "05252021004239",
    "percode": "2021.Q1",
    "run_control": 1
   },
   "start_time": "2021-05-25T04:47:21.580159",
   "version": "2.3.3"
  }
 },
 "nbformat": 4,
 "nbformat_minor": 5
}
