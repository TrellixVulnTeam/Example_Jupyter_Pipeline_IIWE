{
 "cells": [
  {
   "cell_type": "markdown",
   "id": "1f6a8846",
   "metadata": {
    "papermill": {
     "duration": 0.916196,
     "end_time": "2021-05-26T13:45:02.295547",
     "exception": false,
     "start_time": "2021-05-26T13:45:01.379351",
     "status": "completed"
    },
    "pycharm": {
     "name": "#%% md\n"
    },
    "tags": []
   },
   "source": [
    "<img src=\"../images/AzPTravel_PPM.png\">"
   ]
  },
  {
   "cell_type": "markdown",
   "id": "60d84c84",
   "metadata": {
    "collapsed": true,
    "papermill": {
     "duration": 1.137211,
     "end_time": "2021-05-26T13:45:04.239662",
     "exception": false,
     "start_time": "2021-05-26T13:45:03.102451",
     "status": "completed"
    },
    "pycharm": {
     "name": "#%% md\n"
    },
    "tags": []
   },
   "source": [
    "## GPM Data Transformation Script\n",
    "\n",
    "#### This script transforms the single consolidated raw file \"{Data Collection}.csv\" into it's final GPM input versions \"{Data Collection Code}localcur.csv\" and \"{Data Collection Code}euroconv.csv\"\n",
    "#### Current transformations\n",
    "\n",
    "-    make headers lowercase and replace spaces with hyphens\n",
    "-    Remove any rows with null BUs\n",
    "-    validate columns in validcols\n",
    "-    output documented here: \"Global_Attribute_Catalog.xlsx\" you can also edit dataframe entries using the instructions in the file\n",
    "-    replace various null or placeholder values with \"Not Provided\"\n"
   ]
  },
  {
   "cell_type": "markdown",
   "id": "ee438cb9",
   "metadata": {
    "papermill": {
     "duration": 0.849306,
     "end_time": "2021-05-26T13:45:05.896224",
     "exception": false,
     "start_time": "2021-05-26T13:45:05.046918",
     "status": "completed"
    },
    "tags": []
   },
   "source": [
    "###"
   ]
  },
  {
   "cell_type": "code",
   "execution_count": 1,
   "id": "3fe3c14b",
   "metadata": {
    "execution": {
     "iopub.execute_input": "2021-05-26T13:45:08.065552Z",
     "iopub.status.busy": "2021-05-26T13:45:08.050555Z",
     "iopub.status.idle": "2021-05-26T13:45:08.070539Z",
     "shell.execute_reply": "2021-05-26T13:45:08.142245Z"
    },
    "papermill": {
     "duration": 1.17525,
     "end_time": "2021-05-26T13:45:08.142245",
     "exception": false,
     "start_time": "2021-05-26T13:45:06.966995",
     "status": "completed"
    },
    "pycharm": {
     "name": "#%%\n"
    },
    "tags": [
     "parameters"
    ]
   },
   "outputs": [],
   "source": [
    "commit = \"\"\n",
    "# give a reason for the run\n",
    "\n",
    "percode = \"20XX.QX\"\n",
    "# Data Collection Code, this controls file paths and output names\n",
    "\n",
    "run_type = 1\n",
    "#run_type =  0 - lite run with no reporting, not recommended.\n",
    "#run_type =  1 - lite run with normal reporting, default setting.\n",
    "#run_type =  2 - Heavy run with full reporting, available for audits and troubleshooting.\n",
    "\n",
    "specialchars = \"-GTHtest\"\n",
    "# optional - add up to a 12 character code in order to mark your instance record .ipynb\n",
    "\n",
    "from datetime import datetime\n",
    "inst_datetime = datetime.now().strftime(\"%m%d%Y%H%M%S\")\n",
    "# a single datetime stamp for the full instance run\n"
   ]
  },
  {
   "cell_type": "code",
   "execution_count": 2,
   "id": "b8002200",
   "metadata": {
    "execution": {
     "iopub.execute_input": "2021-05-26T13:45:09.941011Z",
     "iopub.status.busy": "2021-05-26T13:45:09.933083Z",
     "iopub.status.idle": "2021-05-26T13:45:09.945090Z",
     "shell.execute_reply": "2021-05-26T13:45:09.943012Z"
    },
    "papermill": {
     "duration": 1.047386,
     "end_time": "2021-05-26T13:45:09.946634",
     "exception": false,
     "start_time": "2021-05-26T13:45:08.899248",
     "status": "completed"
    },
    "tags": [
     "injected-parameters"
    ]
   },
   "outputs": [],
   "source": [
    "# Parameters\n",
    "run_control = 1\n",
    "percode = \"2021.Q1\"\n",
    "commit_message = \"Used the old AU file. Replaced, running again.\"\n",
    "inst_datetime = \"05262021094043\"\n"
   ]
  },
  {
   "cell_type": "markdown",
   "id": "5dbb3a5e",
   "metadata": {
    "papermill": {
     "duration": 2.029412,
     "end_time": "2021-05-26T13:45:13.129799",
     "exception": false,
     "start_time": "2021-05-26T13:45:11.100387",
     "status": "completed"
    },
    "tags": []
   },
   "source": [
    "### Set Run Control\n",
    "\n",
    "##### 0 - lite run with no reporting, not recommended.\n",
    "##### 1 - lite run with normal reporting, default setting.\n",
    "##### 2 - Heavy run with full reporting, available for audits and troubleshooting."
   ]
  },
  {
   "cell_type": "code",
   "execution_count": 3,
   "id": "cd9d481e",
   "metadata": {
    "execution": {
     "iopub.execute_input": "2021-05-26T13:45:15.360114Z",
     "iopub.status.busy": "2021-05-26T13:45:15.356112Z",
     "iopub.status.idle": "2021-05-26T13:45:15.371105Z",
     "shell.execute_reply": "2021-05-26T13:45:15.376130Z"
    },
    "papermill": {
     "duration": 1.275423,
     "end_time": "2021-05-26T13:45:15.376130",
     "exception": false,
     "start_time": "2021-05-26T13:45:14.100707",
     "status": "completed"
    },
    "pycharm": {
     "name": "#%%\n"
    },
    "tags": []
   },
   "outputs": [],
   "source": [
    "run_control = 0  # in development mode"
   ]
  },
  {
   "cell_type": "code",
   "execution_count": 4,
   "id": "478519ab",
   "metadata": {
    "execution": {
     "iopub.execute_input": "2021-05-26T13:45:17.532676Z",
     "iopub.status.busy": "2021-05-26T13:45:17.530676Z",
     "iopub.status.idle": "2021-05-26T13:45:27.611996Z",
     "shell.execute_reply": "2021-05-26T13:45:27.613998Z"
    },
    "papermill": {
     "duration": 11.127859,
     "end_time": "2021-05-26T13:45:27.615014",
     "exception": false,
     "start_time": "2021-05-26T13:45:16.487155",
     "status": "completed"
    },
    "pycharm": {
     "name": "#%%\n"
    },
    "tags": []
   },
   "outputs": [],
   "source": [
    "#### Packages used\n",
    "import sys\n",
    "import os\n",
    "import pandas as pd\n",
    "from pandas import ExcelWriter\n",
    "from numpy import nan"
   ]
  },
  {
   "cell_type": "code",
   "execution_count": 5,
   "id": "fdc73132",
   "metadata": {
    "execution": {
     "iopub.execute_input": "2021-05-26T13:45:28.979701Z",
     "iopub.status.busy": "2021-05-26T13:45:28.975709Z",
     "iopub.status.idle": "2021-05-26T13:45:28.989238Z",
     "shell.execute_reply": "2021-05-26T13:45:28.993241Z"
    },
    "papermill": {
     "duration": 0.605594,
     "end_time": "2021-05-26T13:45:28.993241",
     "exception": false,
     "start_time": "2021-05-26T13:45:28.387647",
     "status": "completed"
    },
    "pycharm": {
     "name": "#%%\n"
    },
    "tags": []
   },
   "outputs": [],
   "source": [
    "default_dc = \"2021.Q1\"\n",
    "\n",
    "try:\n",
    "    if sys.argv[1] == \"-f\":\n",
    "        percode = default_dc\n",
    "    else:\n",
    "        percode = sys.argv[1]\n",
    "\n",
    "except IndexError:\n",
    "    percode = default_dc\n",
    "except NameError:\n",
    "    percode = default_dc"
   ]
  },
  {
   "cell_type": "markdown",
   "id": "835d5492",
   "metadata": {
    "papermill": {
     "duration": 0.688769,
     "end_time": "2021-05-26T13:45:30.186477",
     "exception": false,
     "start_time": "2021-05-26T13:45:29.497708",
     "status": "completed"
    },
    "tags": []
   },
   "source": [
    "#### style settings"
   ]
  },
  {
   "cell_type": "code",
   "execution_count": 6,
   "id": "4de451ca",
   "metadata": {
    "execution": {
     "iopub.execute_input": "2021-05-26T13:45:32.098386Z",
     "iopub.status.busy": "2021-05-26T13:45:32.087372Z",
     "iopub.status.idle": "2021-05-26T13:45:32.100379Z",
     "shell.execute_reply": "2021-05-26T13:45:32.101372Z"
    },
    "papermill": {
     "duration": 0.93761,
     "end_time": "2021-05-26T13:45:32.101372",
     "exception": false,
     "start_time": "2021-05-26T13:45:31.163762",
     "status": "completed"
    },
    "tags": []
   },
   "outputs": [],
   "source": [
    "from IPython.core.interactiveshell import InteractiveShell\n",
    "InteractiveShell.ast_node_interactivity = \"all\""
   ]
  },
  {
   "cell_type": "markdown",
   "id": "55a6cfce",
   "metadata": {
    "papermill": {
     "duration": 1.544489,
     "end_time": "2021-05-26T13:45:37.142204",
     "exception": false,
     "start_time": "2021-05-26T13:45:35.597715",
     "status": "completed"
    },
    "tags": []
   },
   "source": [
    "#### Convert paths and files to variables.\n",
    "#### Read data into pd DataFrames.\n",
    "#### Make paths for the live sources."
   ]
  },
  {
   "cell_type": "code",
   "execution_count": 7,
   "id": "ccfbd919",
   "metadata": {
    "execution": {
     "iopub.execute_input": "2021-05-26T13:45:39.134085Z",
     "iopub.status.busy": "2021-05-26T13:45:39.121078Z",
     "iopub.status.idle": "2021-05-26T13:45:39.146664Z",
     "shell.execute_reply": "2021-05-26T13:45:39.145667Z"
    },
    "papermill": {
     "duration": 0.937493,
     "end_time": "2021-05-26T13:45:39.146664",
     "exception": false,
     "start_time": "2021-05-26T13:45:38.209171",
     "status": "completed"
    },
    "pycharm": {
     "name": "#%%\n"
    },
    "tags": []
   },
   "outputs": [],
   "source": [
    "rt_path = os.path.join( f'\\\\\\\\hecate\\\\Insurance_US\\\\Product Development\\\\Product Management\\\\Global PPM\\\\Reporting\\\\Data Collection\\\\Production',percode)\n",
    "\n",
    "infile = os.path.join(rt_path, f'{str(percode)}.parquet')\n",
    "gppm_file = os.path.join(rt_path, f'GPPM_Input_{str(percode)}.xlsx')\n",
    "atcat = os.path.join(rt_path, f'{percode}_Attribute_Catalog.xlsx')\n"
   ]
  },
  {
   "cell_type": "code",
   "execution_count": 8,
   "id": "be49a40d",
   "metadata": {
    "execution": {
     "iopub.execute_input": "2021-05-26T13:45:41.166231Z",
     "iopub.status.busy": "2021-05-26T13:45:41.164218Z",
     "iopub.status.idle": "2021-05-26T13:45:41.172218Z",
     "shell.execute_reply": "2021-05-26T13:45:41.179245Z"
    },
    "papermill": {
     "duration": 0.931778,
     "end_time": "2021-05-26T13:45:41.180272",
     "exception": false,
     "start_time": "2021-05-26T13:45:40.248494",
     "status": "completed"
    },
    "tags": []
   },
   "outputs": [],
   "source": [
    "#### Read input file\n",
    "\n",
    "#### This reads the consolidated file that will be transformed or a stored dataframe based on the execution method."
   ]
  },
  {
   "cell_type": "code",
   "execution_count": 9,
   "id": "f090dcf6",
   "metadata": {
    "execution": {
     "iopub.execute_input": "2021-05-26T13:45:42.602054Z",
     "iopub.status.busy": "2021-05-26T13:45:42.599049Z",
     "iopub.status.idle": "2021-05-26T13:45:42.803044Z",
     "shell.execute_reply": "2021-05-26T13:45:42.804045Z"
    },
    "papermill": {
     "duration": 0.71872,
     "end_time": "2021-05-26T13:45:42.805051",
     "exception": false,
     "start_time": "2021-05-26T13:45:42.086331",
     "status": "completed"
    },
    "pycharm": {
     "name": "#%%\n"
    },
    "tags": []
   },
   "outputs": [
    {
     "name": "stdout",
     "output_type": "stream",
     "text": [
      "                       Submission File Business Unit Country Currency  \\\n",
      "0     us_dat_ca_05202021134242.parquet            CA      CA      CAD   \n",
      "1     us_dat_ca_05202021134242.parquet            CA      CA      CAD   \n",
      "2     us_dat_ca_05202021134242.parquet            CA      CA      CAD   \n",
      "3     us_dat_ca_05202021134242.parquet            CA      CA      CAD   \n",
      "4     us_dat_ca_05202021134242.parquet            CA      CA      CAD   \n",
      "...                                ...           ...     ...      ...   \n",
      "3415  us_dat_pt_05202021121056.parquet            PT      PT      EUR   \n",
      "3416  us_dat_pt_05202021121056.parquet            PT      PT      EUR   \n",
      "3417  us_dat_pt_05202021121056.parquet            PT      PT      EUR   \n",
      "3418  us_dat_pt_05202021121056.parquet            PT      PT      EUR   \n",
      "3419  us_dat_pt_05202021121056.parquet            PT      PT      EUR   \n",
      "\n",
      "                           Region Reporting Date From Reporting Date To  \\\n",
      "0                   North America          2021-01-01        2021-03-31   \n",
      "1                   North America          2021-01-01        2021-03-31   \n",
      "2                   North America          2021-01-01        2021-03-31   \n",
      "3                   North America          2021-01-01        2021-03-31   \n",
      "4                   North America          2021-01-01        2021-03-31   \n",
      "...                           ...                 ...               ...   \n",
      "3415  Western Europe, LATAM & MEA          2021-01-01        2021-03-31   \n",
      "3416  Western Europe, LATAM & MEA          2021-01-01        2021-03-31   \n",
      "3417  Western Europe, LATAM & MEA          2021-01-01        2021-03-31   \n",
      "3418  Western Europe, LATAM & MEA          2021-01-01        2021-03-31   \n",
      "3419  Western Europe, LATAM & MEA          2021-01-01        2021-03-31   \n",
      "\n",
      "     Date of Analysis Type of Analysis  Analysed Months  ...  \\\n",
      "0          2021-05-16     Year To Date                3  ...   \n",
      "1          2021-05-16     Year To Date                3  ...   \n",
      "2          2021-05-16     Year To Date                3  ...   \n",
      "3          2021-05-16     Year To Date                3  ...   \n",
      "4          2021-05-16     Year To Date                3  ...   \n",
      "...               ...              ...              ...  ...   \n",
      "3415       2021-03-31     Year To Date                3  ...   \n",
      "3416       2021-03-31     Year To Date                3  ...   \n",
      "3417       2021-03-31     Year To Date                3  ...   \n",
      "3418       2021-03-31     Year To Date                3  ...   \n",
      "3419       2021-03-31     Year To Date                3  ...   \n",
      "\n",
      "                                                  Notes  Unnamed: 66  \\\n",
      "0                                                     0          0.0   \n",
      "1     Earned premium volume is low. When travel mark...          0.0   \n",
      "2     Earned premium volume is low. When travel mark...          0.0   \n",
      "3                                                     0          0.0   \n",
      "4     Most claims are trip cancelation. $1.1M of inc...          0.0   \n",
      "...                                                 ...          ...   \n",
      "3415                                                0.0          0.0   \n",
      "3416                                                0.0          0.0   \n",
      "3417                                                0.0          0.0   \n",
      "3418                                                0.0          0.0   \n",
      "3419                                                0.0          0.0   \n",
      "\n",
      "      Reporting Date From INT concat2    comsub     expsub   ibnrsub  \\\n",
      "0                    20210101   CACAD  0.000000   0.501000 -0.348378   \n",
      "1                    20210101   CACAD  0.000000   0.117500 -0.348378   \n",
      "2                    20210101   CACAD  0.000000   0.328200 -0.348378   \n",
      "3                    20210101   CACAD  0.373457   0.209300 -0.348378   \n",
      "4                    20210101   CACAD  0.382848   0.205723 -0.348378   \n",
      "...                       ...     ...       ...        ...       ...   \n",
      "3415                 20210101   PTEUR  0.000000   0.538397  0.000000   \n",
      "3416                 20210101   PTEUR  0.000000   0.426832  0.000000   \n",
      "3417                 20210101   PTEUR  0.000000  18.673326  0.000000   \n",
      "3418                 20210101   PTEUR  0.000000   0.859278  0.000000   \n",
      "3419                 20210101   PTEUR  0.000000   1.023709  0.000000   \n",
      "\n",
      "     Reporting Date To INT Date of Analysis INT  \\\n",
      "0                 20210331             20210516   \n",
      "1                 20210331             20210516   \n",
      "2                 20210331             20210516   \n",
      "3                 20210331             20210516   \n",
      "4                 20210331             20210516   \n",
      "...                    ...                  ...   \n",
      "3415              20210331             20210331   \n",
      "3416              20210331             20210331   \n",
      "3417              20210331             20210331   \n",
      "3418              20210331             20210331   \n",
      "3419              20210331             20210331   \n",
      "\n",
      "                         Selected Fields for Duplicates  \n",
      "0     CAInsuranceLocalB2B2CTravelBanks / Credit Card...  \n",
      "1     CAInsuranceGlobal - FOSB2CTravelEventTICKETMASTER  \n",
      "2            CAInsuranceGlobal - FOSB2CTravelEventOther  \n",
      "3     CAInsuranceLocalB2B2CTravelOffline Travel Agen...  \n",
      "4     CAInsuranceLocalB2B2CTravelOffline Travel Agen...  \n",
      "...                                                 ...  \n",
      "3415  PTReinsuranceLocalB2B2CTravelDirect (Allianz P...  \n",
      "3416  PTReinsuranceLocalB2B2CTravelDirect (Allianz P...  \n",
      "3417  PTReinsuranceLocalB2B2CTravelDirect (Allianz P...  \n",
      "3418  PTReinsuranceLocalB2B2CTravelDirect (Allianz P...  \n",
      "3419  PTReinsuranceLocalB2BTravelDirect (Allianz Par...  \n",
      "\n",
      "[3420 rows x 76 columns]\n"
     ]
    }
   ],
   "source": [
    "try:\n",
    "    %store -r read_dc_df\n",
    "    input = read_dc_df\n",
    "        \n",
    "except:\n",
    "    input = pd.read_parquet(infile,engine = \"pyarrow\")\n",
    "    os.remove(infile)\n",
    "\n",
    "print(input)"
   ]
  },
  {
   "cell_type": "markdown",
   "id": "3e1676fd",
   "metadata": {
    "papermill": {
     "duration": 0.563637,
     "end_time": "2021-05-26T13:45:43.942775",
     "exception": false,
     "start_time": "2021-05-26T13:45:43.379138",
     "status": "completed"
    },
    "tags": []
   },
   "source": [
    "#### Make a copy for debug purposes"
   ]
  },
  {
   "cell_type": "code",
   "execution_count": 10,
   "id": "9c6b57aa",
   "metadata": {
    "execution": {
     "iopub.execute_input": "2021-05-26T13:45:45.126782Z",
     "iopub.status.busy": "2021-05-26T13:45:45.124274Z",
     "iopub.status.idle": "2021-05-26T13:45:45.133784Z",
     "shell.execute_reply": "2021-05-26T13:45:45.135782Z"
    },
    "papermill": {
     "duration": 0.661613,
     "end_time": "2021-05-26T13:45:45.135782",
     "exception": false,
     "start_time": "2021-05-26T13:45:44.474169",
     "status": "completed"
    },
    "pycharm": {
     "name": "#%%\n"
    },
    "tags": []
   },
   "outputs": [],
   "source": [
    "trandata = input.copy()"
   ]
  },
  {
   "cell_type": "markdown",
   "id": "652c33fb",
   "metadata": {
    "papermill": {
     "duration": 0.827896,
     "end_time": "2021-05-26T13:45:46.494678",
     "exception": false,
     "start_time": "2021-05-26T13:45:45.666782",
     "status": "completed"
    },
    "tags": []
   },
   "source": [
    "#### Format Headers"
   ]
  },
  {
   "cell_type": "code",
   "execution_count": 11,
   "id": "9c16f95b",
   "metadata": {
    "execution": {
     "iopub.execute_input": "2021-05-26T13:45:47.831403Z",
     "iopub.status.busy": "2021-05-26T13:45:47.816403Z",
     "iopub.status.idle": "2021-05-26T13:45:47.841404Z",
     "shell.execute_reply": "2021-05-26T13:45:47.842402Z"
    },
    "papermill": {
     "duration": 0.717218,
     "end_time": "2021-05-26T13:45:47.843406",
     "exception": false,
     "start_time": "2021-05-26T13:45:47.126188",
     "status": "completed"
    },
    "pycharm": {
     "name": "#%%\n"
    },
    "tags": []
   },
   "outputs": [
    {
     "data": {
      "text/plain": [
       "'format headers'"
      ]
     },
     "execution_count": 11,
     "metadata": {},
     "output_type": "execute_result"
    }
   ],
   "source": [
    "# save the column names to variable, format them, replace headers\n",
    "cols = trandata.columns.values\n",
    "\n",
    "\"\"\"format headers\"\"\"\n",
    "fixedcols = []\n",
    "\n",
    "for f in cols:\n",
    "    fixedhead = f.replace(' ', '_').lower()\n",
    "    fixedcols.append(fixedhead)\n",
    "\n",
    "trandata.columns = fixedcols"
   ]
  },
  {
   "cell_type": "markdown",
   "id": "5e551e66",
   "metadata": {
    "papermill": {
     "duration": 0.645273,
     "end_time": "2021-05-26T13:45:49.413783",
     "exception": false,
     "start_time": "2021-05-26T13:45:48.768510",
     "status": "completed"
    },
    "pycharm": {
     "name": "#%% md\n"
    },
    "tags": []
   },
   "source": [
    "#### Update Verification 1"
   ]
  },
  {
   "cell_type": "code",
   "execution_count": 12,
   "id": "914742a7",
   "metadata": {
    "execution": {
     "iopub.execute_input": "2021-05-26T13:45:51.379258Z",
     "iopub.status.busy": "2021-05-26T13:45:51.369261Z",
     "iopub.status.idle": "2021-05-26T13:45:51.583149Z",
     "shell.execute_reply": "2021-05-26T13:45:51.585146Z"
    },
    "papermill": {
     "duration": 1.173745,
     "end_time": "2021-05-26T13:45:51.586144",
     "exception": false,
     "start_time": "2021-05-26T13:45:50.412399",
     "status": "completed"
    },
    "pycharm": {
     "name": "#%%\n"
    },
    "tags": []
   },
   "outputs": [
    {
     "name": "stdout",
     "output_type": "stream",
     "text": [
      "|    | Original                                                        | Transformed                                                     |\n",
      "|---:|:----------------------------------------------------------------|:----------------------------------------------------------------|\n",
      "|  0 | Submission File                                                 | submission_file                                                 |\n",
      "|  1 | Business Unit                                                   | business_unit                                                   |\n",
      "|  2 | Country                                                         | country                                                         |\n",
      "|  3 | Currency                                                        | currency                                                        |\n",
      "|  4 | Region                                                          | region                                                          |\n",
      "|  5 | Reporting Date From                                             | reporting_date_from                                             |\n",
      "|  6 | Reporting Date To                                               | reporting_date_to                                               |\n",
      "|  7 | Date of Analysis                                                | date_of_analysis                                                |\n",
      "|  8 | Type of Analysis                                                | type_of_analysis                                                |\n",
      "|  9 | Analysed Months                                                 | analysed_months                                                 |\n",
      "| 10 | Reporting Year                                                  | reporting_year                                                  |\n",
      "| 11 | Reporting Quarter                                               | reporting_quarter                                               |\n",
      "| 12 | Reporting Month                                                 | reporting_month                                                 |\n",
      "| 13 | Type of Business                                                | type_of_business                                                |\n",
      "| 14 | Type of Account                                                 | type_of_account                                                 |\n",
      "| 15 | Distribution Type                                               | distribution_type                                               |\n",
      "| 16 | LOB                                                             | lob                                                             |\n",
      "| 17 | Distribution Channel                                            | distribution_channel                                            |\n",
      "| 18 | Sub LOB                                                         | sub_lob                                                         |\n",
      "| 19 | Business Partner Name                                           | business_partner_name                                           |\n",
      "| 20 | Business Partner ID Number                                      | business_partner_id_number                                      |\n",
      "| 21 | Product Name                                                    | product_name                                                    |\n",
      "| 22 | Product ID Number                                               | product_id_number                                               |\n",
      "| 23 | Product Family                                                  | product_family                                                  |\n",
      "| 24 | Standard Product                                                | standard_product                                                |\n",
      "| 25 | Number of Products per Row                                      | number_of_products_per_row                                      |\n",
      "| 26 | Number of B-Partners per Row                                    | number_of_b-partners_per_row                                    |\n",
      "| 27 | Number of Policies (Written)                                    | number_of_policies_(written)                                    |\n",
      "| 28 | Units of Risk (Written)                                         | units_of_risk_(written)                                         |\n",
      "| 29 | Written Revenues net of Taxes                                   | written_revenues_net_of_taxes                                   |\n",
      "| 30 | Written Revenues                                                | written_revenues                                                |\n",
      "| 31 | Number of Policies (Earned)                                     | number_of_policies_(earned)                                     |\n",
      "| 32 | Units of Risk (Earned)                                          | units_of_risk_(earned)                                          |\n",
      "| 33 | Earned Revenues net of Taxes                                    | earned_revenues_net_of_taxes                                    |\n",
      "| 34 | Earned Revenues                                                 | earned_revenues                                                 |\n",
      "| 35 | Earned Base Commissions                                         | earned_base_commissions                                         |\n",
      "| 36 | Earned Over-Commissions                                         | earned_over-commissions                                         |\n",
      "| 37 | Upfront Cash Payments                                           | upfront_cash_payments                                           |\n",
      "| 38 | Total Compensation                                              | total_compensation                                              |\n",
      "| 39 | Number of Claims (Paid + OCR + IBNR)                            | number_of_claims_(paid_+_ocr_+_ibnr)                            |\n",
      "| 40 | Number of Open Claims                                           | number_of_open_claims                                           |\n",
      "| 41 | Open Claims %                                                   | open_claims_%                                                   |\n",
      "| 42 | Number of Persons Involved in Claims (Paid + OCR + IBNR)        | number_of_persons_involved_in_claims_(paid_+_ocr_+_ibnr)        |\n",
      "| 43 | Paid Claims                                                     | paid_claims                                                     |\n",
      "| 44 | OCR + IBNR                                                      | ocr_+_ibnr                                                      |\n",
      "| 45 | % of IBNR on (OCR + IBNR)                                       | %_of_ibnr_on_(ocr_+_ibnr)                                       |\n",
      "| 46 | Actual Incurred Losses (Paid + OCR + IBNR)                      | actual_incurred_losses_(paid_+_ocr_+_ibnr)                      |\n",
      "| 47 | Internal Variable Costs (excl. AZ Tech Fee)                     | internal_variable_costs_(excl._az_tech_fee)                     |\n",
      "| 48 | AZ Tech Fee                                                     | az_tech_fee                                                     |\n",
      "| 49 | Internal Fixed Costs (excl. HQ Fees)                            | internal_fixed_costs_(excl._hq_fees)                            |\n",
      "| 50 | HQ Fees                                                         | hq_fees                                                         |\n",
      "| 51 | Total Expenses                                                  | total_expenses                                                  |\n",
      "| 52 | Frequency (Earned)                                              | frequency_(earned)                                              |\n",
      "| 53 | Severity                                                        | severity                                                        |\n",
      "| 54 | Risk Premium                                                    | risk_premium                                                    |\n",
      "| 55 | Contribution Margin - BU View                                   | contribution_margin_-_bu_view                                   |\n",
      "| 56 | Contribution Margin % on Fixed Costs - BU View                  | contribution_margin_%_on_fixed_costs_-_bu_view                  |\n",
      "| 57 | Contribution Margin % on Earned Revenues net of Taxes - BU View | contribution_margin_%_on_earned_revenues_net_of_taxes_-_bu_view |\n",
      "| 58 | Contribution Margin - HQ View                                   | contribution_margin_-_hq_view                                   |\n",
      "| 59 | Contribution Margin % on Fixed Costs - HQ View                  | contribution_margin_%_on_fixed_costs_-_hq_view                  |\n",
      "| 60 | Contribution Margin % on Earned Revenues net of Taxes - HQ View | contribution_margin_%_on_earned_revenues_net_of_taxes_-_hq_view |\n",
      "| 61 | Loss Ratio                                                      | loss_ratio                                                      |\n",
      "| 62 | Commission Ratio                                                | commission_ratio                                                |\n",
      "| 63 | Expense Ratio                                                   | expense_ratio                                                   |\n",
      "| 64 | Combined Ratio                                                  | combined_ratio                                                  |\n",
      "| 65 | Profit or Loss                                                  | profit_or_loss                                                  |\n",
      "| 66 | Notes                                                           | notes                                                           |\n",
      "| 67 | Unnamed: 66                                                     | unnamed:_66                                                     |\n",
      "| 68 | Reporting Date From INT                                         | reporting_date_from_int                                         |\n",
      "| 69 | concat2                                                         | concat2                                                         |\n",
      "| 70 | comsub                                                          | comsub                                                          |\n",
      "| 71 | expsub                                                          | expsub                                                          |\n",
      "| 72 | ibnrsub                                                         | ibnrsub                                                         |\n",
      "| 73 | Reporting Date To INT                                           | reporting_date_to_int                                           |\n",
      "| 74 | Date of Analysis INT                                            | date_of_analysis_int                                            |\n",
      "| 75 | Selected Fields for Duplicates                                  | selected_fields_for_duplicates                                  |\n"
     ]
    }
   ],
   "source": [
    "if run_control > -10:\n",
    "    disp = {\"Original\": input.columns, \"Transformed\": trandata.columns}\n",
    "\n",
    "    disp = pd.DataFrame(disp)\n",
    "\n",
    "    print(disp.to_markdown())\n",
    "else:\n",
    "    print(\"Skipped Transformation Report 1\")"
   ]
  },
  {
   "cell_type": "markdown",
   "id": "9b856cab",
   "metadata": {
    "papermill": {
     "duration": 0.944134,
     "end_time": "2021-05-26T13:45:53.178058",
     "exception": false,
     "start_time": "2021-05-26T13:45:52.233924",
     "status": "completed"
    },
    "tags": []
   },
   "source": [
    "#### Remove rows with null business units\n"
   ]
  },
  {
   "cell_type": "code",
   "execution_count": 13,
   "id": "4ba1ba37",
   "metadata": {
    "execution": {
     "iopub.execute_input": "2021-05-26T13:45:54.979513Z",
     "iopub.status.busy": "2021-05-26T13:45:54.973509Z",
     "iopub.status.idle": "2021-05-26T13:45:54.991087Z",
     "shell.execute_reply": "2021-05-26T13:45:54.993137Z"
    },
    "papermill": {
     "duration": 0.747778,
     "end_time": "2021-05-26T13:45:54.994147",
     "exception": false,
     "start_time": "2021-05-26T13:45:54.246369",
     "status": "completed"
    },
    "pycharm": {
     "name": "#%%\n"
    },
    "tags": []
   },
   "outputs": [],
   "source": [
    "# todo, remove this from read file\n",
    "trandata = trandata[trandata.business_unit.notnull()]"
   ]
  },
  {
   "cell_type": "markdown",
   "id": "dc1ccfb4",
   "metadata": {
    "papermill": {
     "duration": 0.904493,
     "end_time": "2021-05-26T13:45:56.562216",
     "exception": false,
     "start_time": "2021-05-26T13:45:55.657723",
     "status": "completed"
    },
    "tags": []
   },
   "source": [
    "#### Update Verification 2"
   ]
  },
  {
   "cell_type": "code",
   "execution_count": 14,
   "id": "0f01da46",
   "metadata": {
    "execution": {
     "iopub.execute_input": "2021-05-26T13:45:57.887205Z",
     "iopub.status.busy": "2021-05-26T13:45:57.856118Z",
     "iopub.status.idle": "2021-05-26T13:45:58.012168Z",
     "shell.execute_reply": "2021-05-26T13:45:58.023124Z"
    },
    "papermill": {
     "duration": 0.856001,
     "end_time": "2021-05-26T13:45:58.023124",
     "exception": false,
     "start_time": "2021-05-26T13:45:57.167123",
     "status": "completed"
    },
    "pycharm": {
     "name": "#%%\n"
    },
    "tags": []
   },
   "outputs": [
    {
     "name": "stdout",
     "output_type": "stream",
     "text": [
      "Row Counts\n",
      "|    | Business Unit   |   Original |   Transformed |\n",
      "|---:|:----------------|-----------:|--------------:|\n",
      "|  0 | CA              |         17 |            17 |\n",
      "|  1 | CH              |       3187 |          3187 |\n",
      "|  2 | CZ              |          7 |             7 |\n",
      "|  3 | ES              |         28 |            28 |\n",
      "|  4 | GR              |         15 |            15 |\n",
      "|  5 | IT              |        100 |           100 |\n",
      "|  6 | PL              |         27 |            27 |\n",
      "|  7 | PT              |         39 |            39 |\n"
     ]
    }
   ],
   "source": [
    "if run_control > -10:\n",
    "\n",
    "    ibus = input.groupby(['Business Unit']).count()\n",
    "    ibus = ibus.reset_index()\n",
    "    tbus = trandata.groupby(['business_unit']).count()\n",
    "    tbus = tbus.reset_index()\n",
    "\n",
    "    compdata = pd.merge(ibus, tbus, left_on='Business Unit', right_on='business_unit', how='left')\n",
    "\n",
    "    disp = {\"Business Unit\": compdata['Business Unit'], \"Original\": compdata['Earned Revenues net of Taxes'],\n",
    "            \"Transformed\": compdata['earned_revenues_net_of_taxes']}\n",
    "\n",
    "    disp = pd.DataFrame(disp)\n",
    "\n",
    "    print(\"Row Counts\")\n",
    "    print(disp.to_markdown())\n",
    "    \n",
    "else:\n",
    "    \n",
    "    print(\"Skipped Transformation Report 2\")\n"
   ]
  },
  {
   "cell_type": "markdown",
   "id": "456deed9",
   "metadata": {
    "papermill": {
     "duration": 0.567523,
     "end_time": "2021-05-26T13:45:59.150229",
     "exception": false,
     "start_time": "2021-05-26T13:45:58.582706",
     "status": "completed"
    },
    "tags": []
   },
   "source": [
    "#### Swap  nulls for \"Not Provided\" in 'Sub Lob' and 'Distribution Channel'"
   ]
  },
  {
   "cell_type": "code",
   "execution_count": 15,
   "id": "42a2087e",
   "metadata": {
    "execution": {
     "iopub.execute_input": "2021-05-26T13:46:01.007852Z",
     "iopub.status.busy": "2021-05-26T13:46:00.981854Z",
     "iopub.status.idle": "2021-05-26T13:46:01.020664Z",
     "shell.execute_reply": "2021-05-26T13:46:01.022660Z"
    },
    "papermill": {
     "duration": 0.946085,
     "end_time": "2021-05-26T13:46:01.022660",
     "exception": false,
     "start_time": "2021-05-26T13:46:00.076575",
     "status": "completed"
    },
    "pycharm": {
     "name": "#%%\n"
    },
    "tags": []
   },
   "outputs": [],
   "source": [
    "mults = trandata['sub_lob'][trandata.sub_lob.replace(nan, 'Not Provided').str.contains(',', case=False)]\n",
    "mults = mults.unique()\n",
    "\n",
    "trandata['sub_lob'] = trandata['sub_lob'].fillna('Not Provided')\n",
    "trandata['sub_lob'] = trandata['sub_lob'].replace('', 'Not Provided')\n",
    "trandata['distribution_channel'] = trandata['distribution_channel'].replace('', 'Not Provided').fillna('Not Provided')"
   ]
  },
  {
   "cell_type": "markdown",
   "id": "52952da2",
   "metadata": {
    "papermill": {
     "duration": 0.752026,
     "end_time": "2021-05-26T13:46:02.517906",
     "exception": false,
     "start_time": "2021-05-26T13:46:01.765880",
     "status": "completed"
    },
    "tags": []
   },
   "source": [
    "#### Replace multiple entries in \"Sub Lob\" to \"Multiple\""
   ]
  },
  {
   "cell_type": "code",
   "execution_count": 16,
   "id": "20ac1289",
   "metadata": {
    "execution": {
     "iopub.execute_input": "2021-05-26T13:46:03.691541Z",
     "iopub.status.busy": "2021-05-26T13:46:03.662542Z",
     "iopub.status.idle": "2021-05-26T13:46:03.721165Z",
     "shell.execute_reply": "2021-05-26T13:46:03.725170Z"
    },
    "papermill": {
     "duration": 0.549796,
     "end_time": "2021-05-26T13:46:03.726172",
     "exception": false,
     "start_time": "2021-05-26T13:46:03.176376",
     "status": "completed"
    },
    "pycharm": {
     "name": "#%%\n"
    },
    "tags": []
   },
   "outputs": [],
   "source": [
    "for i in mults:\n",
    "    trandata['sub_lob'] = trandata['sub_lob'].replace(i, 'Multiple')\n",
    "\n",
    "# todo automate figuring out which fields fx rates should be applied to somehow"
   ]
  },
  {
   "cell_type": "markdown",
   "id": "aa92cac8",
   "metadata": {
    "papermill": {
     "duration": 0.470605,
     "end_time": "2021-05-26T13:46:04.718995",
     "exception": false,
     "start_time": "2021-05-26T13:46:04.248390",
     "status": "completed"
    },
    "tags": []
   },
   "source": [
    "#### Update Verification 3"
   ]
  },
  {
   "cell_type": "code",
   "execution_count": 17,
   "id": "7777cf80",
   "metadata": {
    "execution": {
     "iopub.execute_input": "2021-05-26T13:46:05.838304Z",
     "iopub.status.busy": "2021-05-26T13:46:05.814301Z",
     "iopub.status.idle": "2021-05-26T13:46:06.305564Z",
     "shell.execute_reply": "2021-05-26T13:46:06.306574Z"
    },
    "papermill": {
     "duration": 1.101544,
     "end_time": "2021-05-26T13:46:06.307572",
     "exception": false,
     "start_time": "2021-05-26T13:46:05.206028",
     "status": "completed"
    },
    "pycharm": {
     "name": "#%%\n"
    },
    "tags": []
   },
   "outputs": [],
   "source": [
    "if run_control > -10:\n",
    "\n",
    "    ibus = input.groupby(['Sub LOB']).sum()\n",
    "    ibus = ibus.reset_index()\n",
    "    tbus = trandata.groupby(['sub_lob']).sum()\n",
    "    tbus = tbus.reset_index()\n",
    "\n",
    "    compdatasublob = pd.merge(ibus, tbus, left_on='Sub LOB', right_on='sub_lob', how='outer')\n",
    "\n",
    "    disp1 = pd.DataFrame(\n",
    "        {'Original Sub LOB': compdatasublob['Sub LOB'], 'Transformed Sub LOB': compdatasublob['sub_lob'],\n",
    "         \"Original\": compdatasublob['Earned Revenues net of Taxes'] / 1000,\n",
    "         \"Transformed\": compdatasublob['earned_revenues_net_of_taxes'] / 1000})\n",
    "\n",
    "\n",
    "\n",
    "    tots1 = pd.DataFrame({'Original Total': (input['Earned Revenues net of Taxes']).sum() / 10000,\n",
    "                          \"Transformed Total\": (compdatasublob['earned_revenues_net_of_taxes']).sum() / 10000},\n",
    "                         index=[0])\n",
    "else:\n",
    "    print(\"Skipped Transformation Report 2\")"
   ]
  },
  {
   "cell_type": "markdown",
   "id": "1b196843",
   "metadata": {
    "papermill": {
     "duration": 0.559037,
     "end_time": "2021-05-26T13:46:07.388520",
     "exception": false,
     "start_time": "2021-05-26T13:46:06.829483",
     "status": "completed"
    },
    "tags": []
   },
   "source": [
    "#### Make cflds, a list of currency fields, force to float, coercion is null or string to 0"
   ]
  },
  {
   "cell_type": "code",
   "execution_count": 18,
   "id": "c71cb2b8",
   "metadata": {
    "execution": {
     "iopub.execute_input": "2021-05-26T13:46:08.533380Z",
     "iopub.status.busy": "2021-05-26T13:46:08.526379Z",
     "iopub.status.idle": "2021-05-26T13:46:09.087448Z",
     "shell.execute_reply": "2021-05-26T13:46:09.103004Z"
    },
    "papermill": {
     "duration": 1.103005,
     "end_time": "2021-05-26T13:46:09.104019",
     "exception": false,
     "start_time": "2021-05-26T13:46:08.001014",
     "status": "completed"
    },
    "pycharm": {
     "name": "#%%\n"
    },
    "tags": []
   },
   "outputs": [
    {
     "data": {
      "text/plain": [
       "0        102326.71\n",
       "1        224588.84\n",
       "2          7215.93\n",
       "3         34379.14\n",
       "4       1075443.42\n",
       "           ...    \n",
       "3415       1509.16\n",
       "3416       2164.11\n",
       "3417        309.72\n",
       "3418          0.00\n",
       "3419       1260.00\n",
       "Name: written_revenues_net_of_taxes, Length: 3420, dtype: float64"
      ]
     },
     "execution_count": 18,
     "metadata": {},
     "output_type": "execute_result"
    },
    {
     "data": {
      "text/plain": [
       "0       1.078022e+05\n",
       "1       2.401660e+05\n",
       "2       7.565870e+03\n",
       "3       3.503791e+04\n",
       "4       1.084236e+06\n",
       "            ...     \n",
       "3415    1.644984e+03\n",
       "3416    2.358880e+03\n",
       "3417    3.375948e+02\n",
       "3418    0.000000e+00\n",
       "3419    1.373400e+03\n",
       "Name: written_revenues, Length: 3420, dtype: float64"
      ]
     },
     "execution_count": 18,
     "metadata": {},
     "output_type": "execute_result"
    },
    {
     "data": {
      "text/plain": [
       "0       1.632947e+05\n",
       "1       5.200202e+04\n",
       "2       2.670489e+03\n",
       "3       1.063628e+05\n",
       "4       1.365103e+06\n",
       "            ...     \n",
       "3415    1.576860e+03\n",
       "3416    2.085800e+03\n",
       "3417    1.657000e+01\n",
       "3418    6.800000e+01\n",
       "3419    1.260000e+03\n",
       "Name: earned_revenues_net_of_taxes, Length: 3420, dtype: float64"
      ]
     },
     "execution_count": 18,
     "metadata": {},
     "output_type": "execute_result"
    },
    {
     "data": {
      "text/plain": [
       "0          0.0000\n",
       "1          0.0000\n",
       "2          0.0000\n",
       "3          0.0000\n",
       "4          0.0000\n",
       "          ...    \n",
       "3415    1718.7774\n",
       "3416    2273.5220\n",
       "3417      18.0613\n",
       "3418      74.1200\n",
       "3419    1373.4000\n",
       "Name: earned_revenues, Length: 3420, dtype: float64"
      ]
     },
     "execution_count": 18,
     "metadata": {},
     "output_type": "execute_result"
    },
    {
     "data": {
      "text/plain": [
       "0            0.000000\n",
       "1            0.000000\n",
       "2            0.000000\n",
       "3        39721.919817\n",
       "4       522627.322646\n",
       "            ...      \n",
       "3415         0.000000\n",
       "3416         0.000000\n",
       "3417         0.000000\n",
       "3418         0.000000\n",
       "3419         0.000000\n",
       "Name: earned_base_commissions, Length: 3420, dtype: float64"
      ]
     },
     "execution_count": 18,
     "metadata": {},
     "output_type": "execute_result"
    },
    {
     "data": {
      "text/plain": [
       "0       0.0\n",
       "1       0.0\n",
       "2       0.0\n",
       "3       0.0\n",
       "4       0.0\n",
       "       ... \n",
       "3415    0.0\n",
       "3416    0.0\n",
       "3417    0.0\n",
       "3418    0.0\n",
       "3419    0.0\n",
       "Name: earned_over-commissions, Length: 3420, dtype: float64"
      ]
     },
     "execution_count": 18,
     "metadata": {},
     "output_type": "execute_result"
    },
    {
     "data": {
      "text/plain": [
       "0       0.0\n",
       "1       0.0\n",
       "2       0.0\n",
       "3       0.0\n",
       "4       0.0\n",
       "       ... \n",
       "3415    0.0\n",
       "3416    0.0\n",
       "3417    0.0\n",
       "3418    0.0\n",
       "3419    0.0\n",
       "Name: upfront_cash_payments, Length: 3420, dtype: float64"
      ]
     },
     "execution_count": 18,
     "metadata": {},
     "output_type": "execute_result"
    },
    {
     "data": {
      "text/plain": [
       "0            0.000000\n",
       "1            0.000000\n",
       "2            0.000000\n",
       "3        39721.919817\n",
       "4       522627.322646\n",
       "            ...      \n",
       "3415         0.000000\n",
       "3416         0.000000\n",
       "3417         0.000000\n",
       "3418         0.000000\n",
       "3419         0.000000\n",
       "Name: total_compensation, Length: 3420, dtype: float64"
      ]
     },
     "execution_count": 18,
     "metadata": {},
     "output_type": "execute_result"
    },
    {
     "data": {
      "text/plain": [
       "0       5.296454e+03\n",
       "1       7.698500e+02\n",
       "2       2.325750e+03\n",
       "3       2.589060e+04\n",
       "4       1.191550e+06\n",
       "            ...     \n",
       "3415    6.945000e+01\n",
       "3416    0.000000e+00\n",
       "3417    6.301200e+02\n",
       "3418    0.000000e+00\n",
       "3419    0.000000e+00\n",
       "Name: paid_claims, Length: 3420, dtype: float64"
      ]
     },
     "execution_count": 18,
     "metadata": {},
     "output_type": "execute_result"
    },
    {
     "data": {
      "text/plain": [
       "0        63406.650616\n",
       "1         1021.749016\n",
       "2          197.266659\n",
       "3         9902.505438\n",
       "4       216574.609716\n",
       "            ...      \n",
       "3415      1472.110000\n",
       "3416       608.720000\n",
       "3417         0.000000\n",
       "3418         0.000000\n",
       "3419         0.000000\n",
       "Name: ocr_+_ibnr, Length: 3420, dtype: float64"
      ]
     },
     "execution_count": 18,
     "metadata": {},
     "output_type": "execute_result"
    },
    {
     "data": {
      "text/plain": [
       "0       6.870310e+04\n",
       "1       1.791599e+03\n",
       "2       2.523017e+03\n",
       "3       3.579311e+04\n",
       "4       1.408124e+06\n",
       "            ...     \n",
       "3415    1.541560e+03\n",
       "3416    6.087200e+02\n",
       "3417    6.301200e+02\n",
       "3418    0.000000e+00\n",
       "3419    0.000000e+00\n",
       "Name: actual_incurred_losses_(paid_+_ocr_+_ibnr), Length: 3420, dtype: float64"
      ]
     },
     "execution_count": 18,
     "metadata": {},
     "output_type": "execute_result"
    },
    {
     "data": {
      "text/plain": [
       "0        81810.624078\n",
       "1         6110.237565\n",
       "2          876.454480\n",
       "3        22261.727281\n",
       "4       280832.943967\n",
       "            ...      \n",
       "3415       433.790006\n",
       "3416       341.095979\n",
       "3417       305.054137\n",
       "3418        33.114511\n",
       "3419       835.265953\n",
       "Name: internal_variable_costs_(excl._az_tech_fee), Length: 3420, dtype: float64"
      ]
     },
     "execution_count": 18,
     "metadata": {},
     "output_type": "execute_result"
    },
    {
     "data": {
      "text/plain": [
       "0        0.000000\n",
       "1        0.000000\n",
       "2        0.000000\n",
       "3        0.000000\n",
       "4        0.000000\n",
       "          ...    \n",
       "3415    45.413568\n",
       "3416    60.071040\n",
       "3417     0.477216\n",
       "3418     1.958400\n",
       "3419    36.288000\n",
       "Name: az_tech_fee, Length: 3420, dtype: float64"
      ]
     },
     "execution_count": 18,
     "metadata": {},
     "output_type": "execute_result"
    },
    {
     "data": {
      "text/plain": [
       "0         0.00000\n",
       "1         0.00000\n",
       "2         0.00000\n",
       "3         0.00000\n",
       "4         0.00000\n",
       "          ...    \n",
       "3415    272.79678\n",
       "3416    360.84340\n",
       "3417      2.86661\n",
       "3418     19.17600\n",
       "3419    355.32000\n",
       "Name: internal_fixed_costs_(excl._hq_fees), Length: 3420, dtype: float64"
      ]
     },
     "execution_count": 18,
     "metadata": {},
     "output_type": "execute_result"
    },
    {
     "data": {
      "text/plain": [
       "0         0.000000\n",
       "1         0.000000\n",
       "2         0.000000\n",
       "3         0.000000\n",
       "4         0.000000\n",
       "           ...    \n",
       "3415     96.976890\n",
       "3416    128.276700\n",
       "3417      1.019055\n",
       "3418      4.182000\n",
       "3419     63.000000\n",
       "Name: hq_fees, Length: 3420, dtype: float64"
      ]
     },
     "execution_count": 18,
     "metadata": {},
     "output_type": "execute_result"
    },
    {
     "data": {
      "text/plain": [
       "0        81810.624078\n",
       "1         6110.237565\n",
       "2          876.454480\n",
       "3        22261.727281\n",
       "4       280832.943967\n",
       "            ...      \n",
       "3415       848.977244\n",
       "3416       890.287119\n",
       "3417       309.417018\n",
       "3418        58.430911\n",
       "3419      1289.873953\n",
       "Name: total_expenses, Length: 3420, dtype: float64"
      ]
     },
     "execution_count": 18,
     "metadata": {},
     "output_type": "execute_result"
    },
    {
     "data": {
      "text/plain": [
       "0       0.0\n",
       "1       0.0\n",
       "2       0.0\n",
       "3       0.0\n",
       "4       0.0\n",
       "       ... \n",
       "3415    0.0\n",
       "3416    0.0\n",
       "3417    0.0\n",
       "3418    0.0\n",
       "3419    0.0\n",
       "Name: risk_premium, Length: 3420, dtype: float64"
      ]
     },
     "execution_count": 18,
     "metadata": {},
     "output_type": "execute_result"
    },
    {
     "data": {
      "text/plain": [
       "0        12780.930435\n",
       "1        44100.185249\n",
       "2         -728.982168\n",
       "3         8586.015172\n",
       "4      -846481.853805\n",
       "            ...      \n",
       "3415      -813.677244\n",
       "3416       586.792881\n",
       "3417      -922.967018\n",
       "3418         9.569089\n",
       "3419       -29.873953\n",
       "Name: profit_or_loss, Length: 3420, dtype: float64"
      ]
     },
     "execution_count": 18,
     "metadata": {},
     "output_type": "execute_result"
    },
    {
     "data": {
      "text/plain": [
       "0        12780.930435\n",
       "1        44100.185249\n",
       "2         -728.982168\n",
       "3         8586.015172\n",
       "4      -846481.853805\n",
       "            ...      \n",
       "3415      -443.903574\n",
       "3416      1075.912981\n",
       "3417      -919.081353\n",
       "3418        32.927089\n",
       "3419       388.446047\n",
       "Name: contribution_margin_-_hq_view, Length: 3420, dtype: float64"
      ]
     },
     "execution_count": 18,
     "metadata": {},
     "output_type": "execute_result"
    },
    {
     "data": {
      "text/plain": [
       "0        12780.930435\n",
       "1        44100.185249\n",
       "2         -728.982168\n",
       "3         8586.015172\n",
       "4      -846481.853805\n",
       "            ...      \n",
       "3415      -540.880464\n",
       "3416       947.636281\n",
       "3417      -920.100408\n",
       "3418        28.745089\n",
       "3419       325.446047\n",
       "Name: contribution_margin_-_bu_view, Length: 3420, dtype: float64"
      ]
     },
     "execution_count": 18,
     "metadata": {},
     "output_type": "execute_result"
    }
   ],
   "source": [
    "cflds = ['written_revenues_net_of_taxes', 'written_revenues', 'earned_revenues_net_of_taxes',\n",
    "         'earned_revenues', 'earned_base_commissions', 'earned_over-commissions', 'upfront_cash_payments',\n",
    "         'total_compensation', 'paid_claims', 'ocr_+_ibnr', 'actual_incurred_losses_(paid_+_ocr_+_ibnr)',\n",
    "         'internal_variable_costs_(excl._az_tech_fee)', 'az_tech_fee', 'internal_fixed_costs_(excl._hq_fees)',\n",
    "         'hq_fees', 'total_expenses', 'risk_premium', 'profit_or_loss', 'contribution_margin_-_hq_view',\n",
    "         'contribution_margin_-_bu_view', ]\n",
    "\n",
    "for i in cflds:\n",
    "    pd.to_numeric(trandata[i], errors='coerce')"
   ]
  },
  {
   "cell_type": "markdown",
   "id": "69c7a21a",
   "metadata": {
    "papermill": {
     "duration": 0.758204,
     "end_time": "2021-05-26T13:46:10.695126",
     "exception": false,
     "start_time": "2021-05-26T13:46:09.936922",
     "status": "completed"
    },
    "tags": []
   },
   "source": [
    "#### Turn selected columns values uppercase"
   ]
  },
  {
   "cell_type": "code",
   "execution_count": 19,
   "id": "6014a97d",
   "metadata": {
    "execution": {
     "iopub.execute_input": "2021-05-26T13:46:12.056932Z",
     "iopub.status.busy": "2021-05-26T13:46:12.041937Z",
     "iopub.status.idle": "2021-05-26T13:46:12.146459Z",
     "shell.execute_reply": "2021-05-26T13:46:12.148461Z"
    },
    "papermill": {
     "duration": 0.833649,
     "end_time": "2021-05-26T13:46:12.149459",
     "exception": false,
     "start_time": "2021-05-26T13:46:11.315810",
     "status": "completed"
    },
    "pycharm": {
     "name": "#%%\n"
    },
    "tags": []
   },
   "outputs": [],
   "source": [
    "validcols = ['business_unit', 'currency', 'region', 'type_of_analysis', 'type_of_business', 'type_of_account', 'lob',\n",
    "             'distribution_type', 'distribution_channel', ]\n",
    "\n",
    "for c in validcols:\n",
    "    trandata[c] = trandata[c].astype(str)\n",
    "    trandata[c] = trandata[c].apply(lambda x: x.upper())"
   ]
  },
  {
   "cell_type": "markdown",
   "id": "c2955742",
   "metadata": {
    "papermill": {
     "duration": 0.833467,
     "end_time": "2021-05-26T13:46:13.709833",
     "exception": false,
     "start_time": "2021-05-26T13:46:12.876366",
     "status": "completed"
    },
    "tags": []
   },
   "source": [
    "#### Read the values from the Global Attribute Catalog, one field per loop iterance and xlsx sheet."
   ]
  },
  {
   "cell_type": "code",
   "execution_count": 20,
   "id": "12d3dc76",
   "metadata": {
    "execution": {
     "iopub.execute_input": "2021-05-26T13:46:16.079439Z",
     "iopub.status.busy": "2021-05-26T13:46:16.038440Z",
     "iopub.status.idle": "2021-05-26T13:46:23.162419Z",
     "shell.execute_reply": "2021-05-26T13:46:23.165253Z"
    },
    "papermill": {
     "duration": 8.143626,
     "end_time": "2021-05-26T13:46:23.165253",
     "exception": false,
     "start_time": "2021-05-26T13:46:15.021627",
     "status": "completed"
    },
    "pycharm": {
     "name": "#%%\n"
    },
    "tags": []
   },
   "outputs": [],
   "source": [
    "checktabs = []\n",
    "\n",
    "\n",
    "\n",
    "for s in validcols:\n",
    "    t = pd.read_excel(atcat, sheet_name = s )\n",
    "    checktabs.append([[s], [t]])\n",
    "\n",
    "gacout = []\n"
   ]
  },
  {
   "cell_type": "markdown",
   "id": "97f3b107",
   "metadata": {
    "papermill": {
     "duration": 1.080461,
     "end_time": "2021-05-26T13:46:25.224943",
     "exception": false,
     "start_time": "2021-05-26T13:46:24.144482",
     "status": "completed"
    },
    "tags": []
   },
   "source": [
    "#### Compare the lists from the previous step and each field. Find those that do not match, make lists of unique values\n",
    "#### replace any that have replacements in GPPM inoout already, make a list of values without any matches.\n"
   ]
  },
  {
   "cell_type": "code",
   "execution_count": 21,
   "id": "15a111bb",
   "metadata": {
    "execution": {
     "iopub.execute_input": "2021-05-26T13:46:27.201522Z",
     "iopub.status.busy": "2021-05-26T13:46:27.182521Z",
     "iopub.status.idle": "2021-05-26T13:46:27.629180Z",
     "shell.execute_reply": "2021-05-26T13:46:27.635199Z"
    },
    "papermill": {
     "duration": 1.450554,
     "end_time": "2021-05-26T13:46:27.636185",
     "exception": false,
     "start_time": "2021-05-26T13:46:26.185631",
     "status": "completed"
    },
    "pycharm": {
     "name": "#%%\n"
    },
    "tags": []
   },
   "outputs": [],
   "source": [
    "# todo rewrite this beginner code to use dicts and simplify\n",
    "\n",
    "for u in enumerate(validcols):\n",
    "    trandata.loc[0:len(trandata[u[1]]), u[1]] = trandata[u[1]].replace(\n",
    "        [checktabs[u[0]][1][0]['Upper_Vers']][0].to_numpy(), [checktabs[u[0]][1][0][u[1]]][0].to_numpy())\n",
    "    d = list(checktabs[u[0]][1][0]['Non Matches'].drop_duplicates().dropna().append(\n",
    "        pd.Series(trandata[u[1]][~trandata[u[1]].isin(checktabs[u[0]][1][0][u[1]])].drop_duplicates().dropna()),\n",
    "        ignore_index=True))\n",
    "    g = [checktabs[u[0]][1][0][str(u[1])], checktabs[u[0]][1][0]['Upper_Vers'], checktabs[u[0]][1][0]['Unnamed: 2'],\n",
    "         pd.Series(d, dtype='object').drop_duplicates().dropna(), checktabs[u[0]][1][0]['User Defined Corrections']]\n",
    "    gacout.append(list([g, u[1]]))"
   ]
  },
  {
   "cell_type": "markdown",
   "id": "9dc12ada",
   "metadata": {
    "papermill": {
     "duration": 0.829999,
     "end_time": "2021-05-26T13:46:29.238695",
     "exception": false,
     "start_time": "2021-05-26T13:46:28.408696",
     "status": "completed"
    },
    "tags": []
   },
   "source": [
    "#### Rebuild the GPPM input file, with the replaced values in the bad values column of each sheet.\n",
    "#### Step one, make and xlsx with a notes page."
   ]
  },
  {
   "cell_type": "code",
   "execution_count": 22,
   "id": "490ab6ef",
   "metadata": {
    "execution": {
     "iopub.execute_input": "2021-05-26T13:46:30.855755Z",
     "iopub.status.busy": "2021-05-26T13:46:30.848754Z",
     "iopub.status.idle": "2021-05-26T13:46:31.842317Z",
     "shell.execute_reply": "2021-05-26T13:46:31.844323Z"
    },
    "papermill": {
     "duration": 1.914725,
     "end_time": "2021-05-26T13:46:31.845312",
     "exception": false,
     "start_time": "2021-05-26T13:46:29.930587",
     "status": "completed"
    },
    "pycharm": {
     "name": "#%%\n"
    },
    "tags": []
   },
   "outputs": [],
   "source": [
    "w = ExcelWriter(atcat)\n",
    "notes = pd.DataFrame([\n",
    "    \"This page is script generated during the source creation process. Do not edit these notes directly in the file as they will be overwritten\",\n",
    "    \"\", \"\"\n",
    "    , \" Purpose :     to manage attribute entries in the data collection process, this workbook documents and organizes all entries and also allows a user to swap those that do \\\n",
    "                        not conform to validation rules  with an entry of their choice\",\n",
    "    \" Each attribute field that requires validation has its own sheet tab\", \"\"\n",
    "    , \"Column A:    of each sheet tab contains all unique acceptable responses\",\n",
    "    \"Column B:    an upper case version, to wrangle case mismatches\",\n",
    "    \"Column D:   is generated by the process, this is a list of an uppercase version of each unique unacceptable response, this builds over time with each collection\",\n",
    "    \"Column E:   you can enter accpetable response here (sase sensitive) to be swapped out in the data, save and exit this file, run the process again and they will be replaced\"\n",
    "    , \"\", \"\", \"Gavin Harmon 9 - July -2020\"])\n",
    "\n",
    "notes.columns = ['Notes']\n",
    "\n",
    "notes.to_excel(w, index=False, sheet_name=\"Notes\")"
   ]
  },
  {
   "cell_type": "markdown",
   "id": "99fcb22f",
   "metadata": {
    "papermill": {
     "duration": 0.749666,
     "end_time": "2021-05-26T13:46:33.428898",
     "exception": false,
     "start_time": "2021-05-26T13:46:32.679232",
     "status": "completed"
    },
    "tags": []
   },
   "source": [
    "#### Step two, build the new sheets for each validcols field"
   ]
  },
  {
   "cell_type": "code",
   "execution_count": 23,
   "id": "617b5d6c",
   "metadata": {
    "execution": {
     "iopub.execute_input": "2021-05-26T13:46:35.581441Z",
     "iopub.status.busy": "2021-05-26T13:46:35.552901Z",
     "iopub.status.idle": "2021-05-26T13:46:38.948846Z",
     "shell.execute_reply": "2021-05-26T13:46:38.951837Z"
    },
    "papermill": {
     "duration": 4.386097,
     "end_time": "2021-05-26T13:46:38.953866",
     "exception": false,
     "start_time": "2021-05-26T13:46:34.567769",
     "status": "completed"
    },
    "pycharm": {
     "name": "#%%\n"
    },
    "tags": []
   },
   "outputs": [],
   "source": [
    "for v in enumerate(validcols):\n",
    "    df = pd.DataFrame(gacout[v[0]][0], index=[f\"{v[1]}\", 'Upper_Vers', '', 'Non Matches', 'User Defined Corrections']).T\n",
    "    df.to_excel(w, index=False, sheet_name=gacout[v[0]][1])\n",
    "w.save()"
   ]
  },
  {
   "cell_type": "markdown",
   "id": "3387a478",
   "metadata": {
    "papermill": {
     "duration": 1.112539,
     "end_time": "2021-05-26T13:46:41.134589",
     "exception": false,
     "start_time": "2021-05-26T13:46:40.022050",
     "status": "completed"
    },
    "tags": []
   },
   "source": [
    "#### Step three, read these lists back in, make the necessary replacements in the DataFrame"
   ]
  },
  {
   "cell_type": "code",
   "execution_count": 24,
   "id": "815e45a6",
   "metadata": {
    "execution": {
     "iopub.execute_input": "2021-05-26T13:46:43.534029Z",
     "iopub.status.busy": "2021-05-26T13:46:43.533029Z",
     "iopub.status.idle": "2021-05-26T13:46:50.599469Z",
     "shell.execute_reply": "2021-05-26T13:46:50.601459Z"
    },
    "papermill": {
     "duration": 8.541407,
     "end_time": "2021-05-26T13:46:50.602449",
     "exception": false,
     "start_time": "2021-05-26T13:46:42.061042",
     "status": "completed"
    },
    "pycharm": {
     "name": "#%%\n"
    },
    "tags": []
   },
   "outputs": [],
   "source": [
    "for s in validcols:\n",
    "    t = pd.read_excel(f'//hecate/Insurance_US/Product Development/Product Management/Global PPM/Reporting/Data Collection/Production/{str(percode)}\\\\{str(percode)}_Attribute_Catalog.xlsx', sheet_name = s )\n",
    "    checktabs.append([[s],[t]])"
   ]
  },
  {
   "cell_type": "code",
   "execution_count": 25,
   "id": "4b9ca76f",
   "metadata": {
    "execution": {
     "iopub.execute_input": "2021-05-26T13:46:51.718757Z",
     "iopub.status.busy": "2021-05-26T13:46:51.706759Z",
     "iopub.status.idle": "2021-05-26T13:46:51.947519Z",
     "shell.execute_reply": "2021-05-26T13:46:51.949519Z"
    },
    "papermill": {
     "duration": 0.825083,
     "end_time": "2021-05-26T13:46:51.950527",
     "exception": false,
     "start_time": "2021-05-26T13:46:51.125444",
     "status": "completed"
    },
    "pycharm": {
     "name": "#%%\n"
    },
    "tags": []
   },
   "outputs": [],
   "source": [
    "gacout = []\n",
    "\n",
    "for u in enumerate(validcols):\n",
    "    trandata.loc[0:len(trandata[u[1]]), u[1]] = trandata[u[1]].replace(\n",
    "        [checktabs[u[0]][1][0]['Non Matches']][0].to_numpy(),\n",
    "        [checktabs[u[0]][1][0]['User Defined Corrections']][0].to_numpy())\n",
    "repper = trandata[['business_unit', 'reporting_date_to']]\n",
    "repper = pd.DataFrame({\"business_unit\": (repper['business_unit']), \"YearMo\": (repper['reporting_date_to'])})\n",
    "minrep = repper.groupby(['business_unit']).max()\n",
    "a = trandata['business_unit'].replace(list(minrep.axes[0]), minrep.get(\"YearMo\"))\n",
    "trandata['rep_date'] = a\n",
    "trandata.loc[0:len(trandata['business_partner_id_number']), 'business_partner_id_number'] = trandata[\n",
    "    'business_partner_id_number'].replace('0', 'Not Provided').fillna('Not Provided')\n",
    "trandata.loc[0:len(trandata['product_id_number']), 'product_id_number'] = trandata['product_id_number'].replace('0',\n",
    "                                                                                                                'Not Provided').replace(\n",
    "    '-', 'Not Provided').fillna('Not Provided')\n",
    "trandata.loc[0:len(trandata['sub_lob']), 'sub_lob'] = trandata['sub_lob'].replace('0', 'Not Provided').replace('-',\n",
    "                                                                                                               'Not Provided').replace(\n",
    "    'Other', 'Not Provided').fillna('Not Provided')"
   ]
  },
  {
   "cell_type": "markdown",
   "id": "727ba855",
   "metadata": {
    "papermill": {
     "duration": 0.77002,
     "end_time": "2021-05-26T13:46:53.518162",
     "exception": false,
     "start_time": "2021-05-26T13:46:52.748142",
     "status": "completed"
    },
    "tags": []
   },
   "source": [
    "#### Evaluate the current state, alert the user if input is needed.\n",
    "- At the end of this process, alert the user with instructions if they need to adjust bad entries for validated fields.\n",
    "\n"
   ]
  },
  {
   "cell_type": "code",
   "execution_count": 26,
   "id": "563970f5",
   "metadata": {
    "execution": {
     "iopub.execute_input": "2021-05-26T13:46:55.248049Z",
     "iopub.status.busy": "2021-05-26T13:46:55.229056Z",
     "iopub.status.idle": "2021-05-26T13:47:07.942857Z",
     "shell.execute_reply": "2021-05-26T13:47:07.944858Z"
    },
    "papermill": {
     "duration": 13.517757,
     "end_time": "2021-05-26T13:47:07.944858",
     "exception": false,
     "start_time": "2021-05-26T13:46:54.427101",
     "status": "completed"
    },
    "tags": []
   },
   "outputs": [],
   "source": [
    "#see above note about converting to dictionaries\n",
    "\n",
    "#Make lists of all the attribute catalog entries that do not have a correction as a list of errors.\n",
    "err_messages = []\n",
    "\n",
    "for idx, i in enumerate(checktabs):\n",
    "    subset_no_nans =  i[1][0][['Non Matches', 'User Defined Corrections']][~i[1][0]['Non Matches'].isna()]\n",
    "    entries = subset_no_nans['Non Matches'][subset_no_nans['User Defined Corrections'].isna()]. tolist()\n",
    "    if len(entries) > 0: \n",
    "        err_messages.append(f'Please deal with bad entries {entries} on tab {i[0][0]} of the Attribute Catalog.')\n",
    "\n",
    "#raise an error to stop the process and give instructions\n",
    "\n",
    "# define Python user-defined exceptions\n",
    "\n",
    "\n",
    "# define Python user-defined exceptions\n",
    "class Error(Exception):\n",
    "    \"\"\"Base class for other exceptions\"\"\"\n",
    "    pass\n",
    "\n",
    "class BadEntriesError(Error):\n",
    "    \"\"\"Raised when the input value is too large\"\"\"\n",
    "    for i in err_messages : print(i)\n",
    "    \n",
    "    os.startfile(atcat)\n",
    "\n",
    "if len(err_messages) > 0:\n",
    "    raise BadEntriesError\n",
    "else:\n",
    "    pass\n",
    "        "
   ]
  },
  {
   "cell_type": "markdown",
   "id": "22e98c11",
   "metadata": {
    "papermill": {
     "duration": 0.672718,
     "end_time": "2021-05-26T13:47:09.812934",
     "exception": false,
     "start_time": "2021-05-26T13:47:09.140216",
     "status": "completed"
    },
    "tags": []
   },
   "source": [
    "#### Remove empty rows, if there is no claims experience and no revenue for a 12 month period, it should not be included"
   ]
  },
  {
   "cell_type": "code",
   "execution_count": 27,
   "id": "b6976c78",
   "metadata": {
    "execution": {
     "iopub.execute_input": "2021-05-26T13:47:11.777013Z",
     "iopub.status.busy": "2021-05-26T13:47:11.745015Z",
     "iopub.status.idle": "2021-05-26T13:47:11.869250Z",
     "shell.execute_reply": "2021-05-26T13:47:11.872253Z"
    },
    "papermill": {
     "duration": 1.171025,
     "end_time": "2021-05-26T13:47:11.872546",
     "exception": false,
     "start_time": "2021-05-26T13:47:10.701521",
     "status": "completed"
    },
    "pycharm": {
     "name": "#%%\n"
    },
    "tags": []
   },
   "outputs": [],
   "source": [
    "trandata = trandata.loc[(trandata['units_of_risk_(written)'].fillna(0).replace('', 0)\n",
    "                         + trandata['written_revenues_net_of_taxes'].fillna(0).replace('', 0)\n",
    "                         + trandata['written_revenues'].fillna(0).replace('', 0)\n",
    "                         + trandata['number_of_policies_(earned)'].fillna(0).replace('', 0)\n",
    "                         + trandata['units_of_risk_(earned)'].fillna(0).replace('', 0)\n",
    "                         + trandata['earned_revenues_net_of_taxes'].fillna(0).replace('', 0)\n",
    "                         + trandata['earned_revenues'].fillna(0).replace('', 0)\n",
    "                         + trandata['earned_base_commissions'].fillna(0).replace('', 0)\n",
    "                         + trandata['upfront_cash_payments'].fillna(0).replace('', 0)\n",
    "                         + trandata['earned_over-commissions'].fillna(0).replace('', 0)\n",
    "                         + trandata['total_compensation'].fillna(0).replace('', 0)\n",
    "                         + trandata['number_of_claims_(paid_+_ocr_+_ibnr)'].fillna(0).replace('', 0)\n",
    "                         + trandata['number_of_open_claims'].fillna(0).replace('', 0)\n",
    "                         + trandata['open_claims_%'].fillna(0).replace('', 0)\n",
    "                         + trandata['number_of_persons_involved_in_claims_(paid_+_ocr_+_ibnr)'].fillna(0).replace('', 0)\n",
    "                         + trandata['paid_claims'].fillna(0).replace('', 0)\n",
    "                         + trandata['ocr_+_ibnr'].fillna(0).replace('', 0)\n",
    "                         + trandata['actual_incurred_losses_(paid_+_ocr_+_ibnr)'].fillna(0).replace('', 0)\n",
    "                         + trandata['internal_variable_costs_(excl._az_tech_fee)'].fillna(0).replace('', 0)\n",
    "                         + trandata['az_tech_fee'].fillna(0).replace('', 0)\n",
    "                         + trandata['internal_fixed_costs_(excl._hq_fees)'].fillna(0).replace('', 0)\n",
    "                         + trandata['hq_fees'].fillna(0).replace('', 0)\n",
    "                         + trandata['total_expenses'].fillna(0).replace('', 0)\n",
    "                         + trandata['frequency_(earned)'].fillna(0).replace('', 0)\n",
    "                         + trandata['severity'].fillna(0).replace('', 0))\n",
    "                        != 0]"
   ]
  },
  {
   "cell_type": "markdown",
   "id": "8cc850fe",
   "metadata": {
    "papermill": {
     "duration": 0.580275,
     "end_time": "2021-05-26T13:47:13.297674",
     "exception": false,
     "start_time": "2021-05-26T13:47:12.717399",
     "status": "completed"
    },
    "pycharm": {
     "name": "#%% md\n"
    },
    "tags": []
   },
   "source": [
    "#### Output temp file"
   ]
  },
  {
   "cell_type": "code",
   "execution_count": 28,
   "id": "9e41926d",
   "metadata": {
    "execution": {
     "iopub.execute_input": "2021-05-26T13:47:14.435523Z",
     "iopub.status.busy": "2021-05-26T13:47:14.431514Z",
     "iopub.status.idle": "2021-05-26T13:47:20.710636Z",
     "shell.execute_reply": "2021-05-26T13:47:20.713620Z"
    },
    "papermill": {
     "duration": 6.88343,
     "end_time": "2021-05-26T13:47:20.713620",
     "exception": false,
     "start_time": "2021-05-26T13:47:13.830190",
     "status": "completed"
    },
    "pycharm": {
     "name": "#%%\n"
    },
    "tags": []
   },
   "outputs": [],
   "source": [
    "trandata.to_parquet(\n",
    "    f'//hecate/Insurance_US/Product Development/Product Management/Global PPM/Reporting/Data Collection/Production/{str(percode)}\\\\{str(percode)}.localcur.parquet', engine = \"pyarrow\")\n",
    "\n"
   ]
  },
  {
   "cell_type": "markdown",
   "id": "7e163ef8",
   "metadata": {
    "papermill": {
     "duration": 1.144529,
     "end_time": "2021-05-26T13:47:22.796800",
     "exception": false,
     "start_time": "2021-05-26T13:47:21.652271",
     "status": "completed"
    },
    "tags": []
   },
   "source": [
    "#### Store the DataFrame for other noteboks to use"
   ]
  },
  {
   "cell_type": "code",
   "execution_count": 29,
   "id": "838a8bc3",
   "metadata": {
    "execution": {
     "iopub.execute_input": "2021-05-26T13:47:24.316978Z",
     "iopub.status.busy": "2021-05-26T13:47:24.307971Z",
     "iopub.status.idle": "2021-05-26T13:47:24.361975Z",
     "shell.execute_reply": "2021-05-26T13:47:24.366007Z"
    },
    "papermill": {
     "duration": 0.855822,
     "end_time": "2021-05-26T13:47:24.366972",
     "exception": false,
     "start_time": "2021-05-26T13:47:23.511150",
     "status": "completed"
    },
    "tags": []
   },
   "outputs": [
    {
     "name": "stdout",
     "output_type": "stream",
     "text": [
      "Stored 'py_t_df' (DataFrame)\n"
     ]
    }
   ],
   "source": [
    "py_t_df = trandata\n",
    "\n",
    "%store py_t_df\n"
   ]
  }
 ],
 "metadata": {
  "celltoolbar": "Tags",
  "kernelspec": {
   "display_name": "Python 3",
   "language": "python",
   "name": "python3"
  },
  "language_info": {
   "codemirror_mode": {
    "name": "ipython",
    "version": 3
   },
   "file_extension": ".py",
   "mimetype": "text/x-python",
   "name": "python",
   "nbconvert_exporter": "python",
   "pygments_lexer": "ipython3",
   "version": "3.7.6"
  },
  "papermill": {
   "default_parameters": {},
   "duration": 158.245198,
   "end_time": "2021-05-26T13:47:26.572196",
   "environment_variables": {},
   "exception": null,
   "input_path": "pipeline/py_transform.ipynb",
   "output_path": "//hecate/Insurance_US/Product Development/Product Management/Global PPM/Reporting/Data Collection/Pipeline Reporting Scripts/GPMpipeline/instances/2021.Q1\\pipeline\\py_transform05262021094043--live run.ipynb",
   "parameters": {
    "commit_message": "Used the old AU file. Replaced, running again.",
    "inst_datetime": "05262021094043",
    "percode": "2021.Q1",
    "run_control": 1
   },
   "start_time": "2021-05-26T13:44:48.326998",
   "version": "2.3.3"
  }
 },
 "nbformat": 4,
 "nbformat_minor": 5
}