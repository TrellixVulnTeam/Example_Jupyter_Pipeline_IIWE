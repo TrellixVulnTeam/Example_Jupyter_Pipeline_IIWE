{
 "cells": [
  {
   "cell_type": "markdown",
   "id": "8911dc0a",
   "metadata": {
    "papermill": {
     "duration": 0.23599,
     "end_time": "2021-06-01T22:31:31.862333",
     "exception": false,
     "start_time": "2021-06-01T22:31:31.626343",
     "status": "completed"
    },
    "pycharm": {
     "name": "#%% md\n"
    },
    "tags": []
   },
   "source": [
    "<img src=\"../images/AzPTravel_PPM.png\">"
   ]
  },
  {
   "cell_type": "markdown",
   "id": "72cd45f1",
   "metadata": {
    "papermill": {
     "duration": 0.247366,
     "end_time": "2021-06-01T22:31:32.361162",
     "exception": false,
     "start_time": "2021-06-01T22:31:32.113796",
     "status": "completed"
    },
    "tags": []
   },
   "source": [
    "## GPM Pipeline Output maker\n",
    "\n",
    "#### This script\n",
    "- loads the transformed parquet file\n",
    "- creates the file {parquet}.localcur.csv\n",
    "- makes the Euro conversions\n",
    "- outputs {parquet}.euroconv.csv\n"
   ]
  },
  {
   "cell_type": "markdown",
   "id": "f30d25a4",
   "metadata": {
    "papermill": {
     "duration": 0.240035,
     "end_time": "2021-06-01T22:31:32.857321",
     "exception": false,
     "start_time": "2021-06-01T22:31:32.617286",
     "status": "completed"
    },
    "tags": []
   },
   "source": [
    "#### Parameters section"
   ]
  },
  {
   "cell_type": "code",
   "execution_count": 1,
   "id": "469f7433",
   "metadata": {
    "execution": {
     "iopub.execute_input": "2021-06-01T22:31:33.383936Z",
     "iopub.status.busy": "2021-06-01T22:31:33.381936Z",
     "iopub.status.idle": "2021-06-01T22:31:33.386937Z",
     "shell.execute_reply": "2021-06-01T22:31:33.382935Z"
    },
    "papermill": {
     "duration": 0.273529,
     "end_time": "2021-06-01T22:31:33.387937",
     "exception": false,
     "start_time": "2021-06-01T22:31:33.114408",
     "status": "completed"
    },
    "pycharm": {
     "name": "#%%\n"
    },
    "tags": [
     "parameters"
    ]
   },
   "outputs": [],
   "source": [
    "commit = \"\"\n",
    "# give a reason for the run\n",
    "\n",
    "percode = \"20XX.QX\"\n",
    "# Data Collection Code, this controls file paths and output names\n",
    "\n",
    "run_type = 1\n",
    "#run_type =  0 - lite run with no reporting, not recommended.\n",
    "#run_type =  1 - lite run with normal reporting, default setting.\n",
    "#run_type =  2 - Heavy run with full reporting, available for audits and troubleshooting.\n",
    "\n",
    "specialchars = \"-GTHtest\"\n",
    "# optional - add up to a 12 character code in order to mark your instance record .ipynb\n",
    "\n",
    "from datetime import datetime\n",
    "inst_datetime = datetime.now().strftime(\"%m%d%Y%H%M%S\")\n",
    "# a single datetime stamp for the full instance run\n"
   ]
  },
  {
   "cell_type": "code",
   "execution_count": 2,
   "id": "81d1676f",
   "metadata": {
    "execution": {
     "iopub.execute_input": "2021-06-01T22:31:33.942501Z",
     "iopub.status.busy": "2021-06-01T22:31:33.940507Z",
     "iopub.status.idle": "2021-06-01T22:31:33.949503Z",
     "shell.execute_reply": "2021-06-01T22:31:33.950503Z"
    },
    "papermill": {
     "duration": 0.327529,
     "end_time": "2021-06-01T22:31:33.951502",
     "exception": false,
     "start_time": "2021-06-01T22:31:33.623973",
     "status": "completed"
    },
    "tags": [
     "injected-parameters"
    ]
   },
   "outputs": [],
   "source": [
    "# Parameters\n",
    "run_control = 1\n",
    "percode = \"2021.Q1\"\n",
    "commit_message = \"Live run, added AT, bad file name, rerun.\"\n",
    "inst_datetime = \"06012021182709\"\n"
   ]
  },
  {
   "cell_type": "markdown",
   "id": "8660d5b5",
   "metadata": {
    "papermill": {
     "duration": 0.252243,
     "end_time": "2021-06-01T22:31:34.437734",
     "exception": false,
     "start_time": "2021-06-01T22:31:34.185491",
     "status": "completed"
    },
    "tags": []
   },
   "source": [
    "### Set Run Control\n",
    "\n",
    "##### 0 - lite run with no reporting, not recommended.\n",
    "##### 1 - lite run with normal reporting, default setting.\n",
    "##### 2 - Heavy run with full reporting, available for audits and troubleshooting."
   ]
  },
  {
   "cell_type": "code",
   "execution_count": 3,
   "id": "30de45df",
   "metadata": {
    "execution": {
     "iopub.execute_input": "2021-06-01T22:31:34.953584Z",
     "iopub.status.busy": "2021-06-01T22:31:34.950596Z",
     "iopub.status.idle": "2021-06-01T22:31:34.960586Z",
     "shell.execute_reply": "2021-06-01T22:31:34.961583Z"
    },
    "papermill": {
     "duration": 0.264517,
     "end_time": "2021-06-01T22:31:34.962582",
     "exception": false,
     "start_time": "2021-06-01T22:31:34.698065",
     "status": "completed"
    },
    "pycharm": {
     "name": "#%%\n"
    },
    "tags": []
   },
   "outputs": [],
   "source": [
    "run_control = 0 # in development mode"
   ]
  },
  {
   "cell_type": "markdown",
   "id": "8d7c4679",
   "metadata": {
    "papermill": {
     "duration": 0.245004,
     "end_time": "2021-06-01T22:31:35.459172",
     "exception": false,
     "start_time": "2021-06-01T22:31:35.214168",
     "status": "completed"
    },
    "tags": []
   },
   "source": [
    "#### Packages used"
   ]
  },
  {
   "cell_type": "code",
   "execution_count": 4,
   "id": "948e2896",
   "metadata": {
    "execution": {
     "iopub.execute_input": "2021-06-01T22:31:35.923336Z",
     "iopub.status.busy": "2021-06-01T22:31:35.919335Z",
     "iopub.status.idle": "2021-06-01T22:31:36.991682Z",
     "shell.execute_reply": "2021-06-01T22:31:36.992684Z"
    },
    "papermill": {
     "duration": 1.303871,
     "end_time": "2021-06-01T22:31:36.992684",
     "exception": false,
     "start_time": "2021-06-01T22:31:35.688813",
     "status": "completed"
    },
    "pycharm": {
     "name": "#%%\n"
    },
    "tags": []
   },
   "outputs": [],
   "source": [
    "import sys\n",
    "import os\n",
    "import pandas as pd"
   ]
  },
  {
   "cell_type": "code",
   "execution_count": 5,
   "id": "3166901a",
   "metadata": {
    "execution": {
     "iopub.execute_input": "2021-06-01T22:31:37.533283Z",
     "iopub.status.busy": "2021-06-01T22:31:37.528286Z",
     "iopub.status.idle": "2021-06-01T22:31:37.540806Z",
     "shell.execute_reply": "2021-06-01T22:31:37.541807Z"
    },
    "papermill": {
     "duration": 0.270568,
     "end_time": "2021-06-01T22:31:37.542821",
     "exception": false,
     "start_time": "2021-06-01T22:31:37.272253",
     "status": "completed"
    },
    "pycharm": {
     "name": "#%%\n"
    },
    "tags": []
   },
   "outputs": [],
   "source": [
    "default_DC = \"2021.Q1\"\n",
    "\n",
    "try:\n",
    "    if sys.argv[1] == \"-f\":\n",
    "        percode = default_DC\n",
    "    else:\n",
    "        percode = sys.argv[1]\n",
    "\n",
    "except IndexError:\n",
    "    percode = default_DC\n",
    "except NameError:\n",
    "    percode = default_DC"
   ]
  },
  {
   "cell_type": "markdown",
   "id": "574f8813",
   "metadata": {
    "papermill": {
     "duration": 0.335119,
     "end_time": "2021-06-01T22:31:38.125046",
     "exception": false,
     "start_time": "2021-06-01T22:31:37.789927",
     "status": "completed"
    },
    "tags": []
   },
   "source": [
    "#### Convert paths and files to variables.\n",
    "#### Read data into pd DataFrames.\n",
    "#### Make paths for the live sources."
   ]
  },
  {
   "cell_type": "code",
   "execution_count": 6,
   "id": "e3764d58",
   "metadata": {
    "execution": {
     "iopub.execute_input": "2021-06-01T22:31:39.401493Z",
     "iopub.status.busy": "2021-06-01T22:31:39.397192Z",
     "iopub.status.idle": "2021-06-01T22:31:39.408498Z",
     "shell.execute_reply": "2021-06-01T22:31:39.410495Z"
    },
    "papermill": {
     "duration": 0.608742,
     "end_time": "2021-06-01T22:31:39.410495",
     "exception": false,
     "start_time": "2021-06-01T22:31:38.801753",
     "status": "completed"
    },
    "pycharm": {
     "name": "#%%\n"
    },
    "tags": []
   },
   "outputs": [],
   "source": [
    "rt_path = os.path.join('\\\\\\\\hecate\\\\Insurance_US\\\\Product Development\\\\Product Management\\\\Global PPM\\\\Reporting\\\\Data Collection\\\\Production',percode)\n",
    "\n",
    "tempfile = os.path.join(rt_path, f'{percode}.localcur.csv')\n",
    "\n",
    "gppm_file = os.path.join(rt_path, f'GPPM_Input_{str(percode)}.xlsx')\n",
    "\n"
   ]
  },
  {
   "cell_type": "markdown",
   "id": "21de37f2",
   "metadata": {
    "papermill": {
     "duration": 0.606734,
     "end_time": "2021-06-01T22:31:40.587782",
     "exception": false,
     "start_time": "2021-06-01T22:31:39.981048",
     "status": "completed"
    },
    "tags": []
   },
   "source": [
    "### Make Files"
   ]
  },
  {
   "cell_type": "code",
   "execution_count": 7,
   "id": "f303007f",
   "metadata": {
    "execution": {
     "iopub.execute_input": "2021-06-01T22:31:41.260390Z",
     "iopub.status.busy": "2021-06-01T22:31:41.259388Z",
     "iopub.status.idle": "2021-06-01T22:31:41.265395Z",
     "shell.execute_reply": "2021-06-01T22:31:41.266388Z"
    },
    "papermill": {
     "duration": 0.270723,
     "end_time": "2021-06-01T22:31:41.267387",
     "exception": false,
     "start_time": "2021-06-01T22:31:40.996664",
     "status": "completed"
    },
    "tags": []
   },
   "outputs": [],
   "source": [
    "local_file = f'{percode}.localcur.csv'\n",
    "euro_file = f'{percode}.euroconv.csv'\n",
    "\n"
   ]
  },
  {
   "cell_type": "markdown",
   "id": "a0f58136",
   "metadata": {
    "papermill": {
     "duration": 0.250519,
     "end_time": "2021-06-01T22:31:41.866593",
     "exception": false,
     "start_time": "2021-06-01T22:31:41.616074",
     "status": "completed"
    },
    "tags": []
   },
   "source": [
    "#### Read source"
   ]
  },
  {
   "cell_type": "code",
   "execution_count": 8,
   "id": "42eaafa8",
   "metadata": {
    "execution": {
     "iopub.execute_input": "2021-06-01T22:31:42.393434Z",
     "iopub.status.busy": "2021-06-01T22:31:42.391437Z",
     "iopub.status.idle": "2021-06-01T22:31:45.215714Z",
     "shell.execute_reply": "2021-06-01T22:31:45.217713Z"
    },
    "papermill": {
     "duration": 3.083268,
     "end_time": "2021-06-01T22:31:45.217713",
     "exception": false,
     "start_time": "2021-06-01T22:31:42.134445",
     "status": "completed"
    },
    "pycharm": {
     "name": "#%%\n"
    },
    "tags": []
   },
   "outputs": [],
   "source": [
    "\n",
    "mo_input = pd.read_csv(tempfile, engine='python')\n",
    "\n",
    "\n",
    "\"\"\"reads in the input for the Euro conversion\"\"\"\n",
    "euro = pd.read_excel(gppm_file, sheet_name=\"Euro_Rates\")\n"
   ]
  },
  {
   "cell_type": "markdown",
   "id": "0ee0d3da",
   "metadata": {
    "papermill": {
     "duration": 0.245002,
     "end_time": "2021-06-01T22:31:45.701292",
     "exception": false,
     "start_time": "2021-06-01T22:31:45.456290",
     "status": "completed"
    },
    "tags": []
   },
   "source": [
    "#### Output local currency csv"
   ]
  },
  {
   "cell_type": "code",
   "execution_count": 9,
   "id": "fec1dde5",
   "metadata": {
    "execution": {
     "iopub.execute_input": "2021-06-01T22:31:46.213405Z",
     "iopub.status.busy": "2021-06-01T22:31:46.208405Z",
     "iopub.status.idle": "2021-06-01T22:31:54.322111Z",
     "shell.execute_reply": "2021-06-01T22:31:54.323718Z"
    },
    "papermill": {
     "duration": 8.373871,
     "end_time": "2021-06-01T22:31:54.323718",
     "exception": false,
     "start_time": "2021-06-01T22:31:45.949847",
     "status": "completed"
    },
    "pycharm": {
     "is_executing": true,
     "name": "#%%\n"
    },
    "tags": []
   },
   "outputs": [],
   "source": [
    "mo_input.to_csv(os.path.join(rt_path,local_file), ',', index=False, encoding='utf-8-sig')"
   ]
  },
  {
   "cell_type": "markdown",
   "id": "31bcb764",
   "metadata": {
    "papermill": {
     "duration": 0.239204,
     "end_time": "2021-06-01T22:31:54.848899",
     "exception": false,
     "start_time": "2021-06-01T22:31:54.609695",
     "status": "completed"
    },
    "tags": []
   },
   "source": [
    "#### Convert all currency to Euro\n"
   ]
  },
  {
   "cell_type": "code",
   "execution_count": 10,
   "id": "a318c154",
   "metadata": {
    "execution": {
     "iopub.execute_input": "2021-06-01T22:31:55.308901Z",
     "iopub.status.busy": "2021-06-01T22:31:55.307901Z",
     "iopub.status.idle": "2021-06-01T22:31:55.323899Z",
     "shell.execute_reply": "2021-06-01T22:31:55.325906Z"
    },
    "papermill": {
     "duration": 0.26004,
     "end_time": "2021-06-01T22:31:55.325906",
     "exception": false,
     "start_time": "2021-06-01T22:31:55.065866",
     "status": "completed"
    },
    "pycharm": {
     "is_executing": true,
     "name": "#%%\n"
    },
    "tags": []
   },
   "outputs": [],
   "source": [
    "\n",
    "\n",
    "cflds = ['written_revenues_net_of_taxes', 'written_revenues', 'earned_revenues_net_of_taxes',\n",
    "         'earned_revenues', 'earned_base_commissions', 'earned_over_commissions', 'upfront_cash_payments',\n",
    "         'total_compensation', 'paid_claims', 'ocr__ibnr', 'actual_incurred_losses',\n",
    "         'internal_variable_costs', 'az_tech_fee', 'internal_fixed_costs',\n",
    "         'hq_fees', 'total_expenses', 'risk_premium', 'profit_or_loss', 'cm_hq_view', 'cm_bu_view', ]\n",
    "\n",
    "alt_cflds = ['written_revenues_net_of_taxes', 'written_revenues', 'earned_revenues_net_of_taxes',\n",
    "         'earned_revenues', 'earned_base_commissions', 'earned_over-commissions', 'upfront_cash_payments',\n",
    "         'total_compensation', 'paid_claims', 'ocr_+_ibnr','actual_incurred_losses_(paid_+_ocr_+_ibnr)',\n",
    "         'internal_variable_costs_(excl._az_tech_fee)', 'az_tech_fee', 'internal_fixed_costs_(excl._hq_fees)',\n",
    "         'hq_fees', 'total_expenses', 'risk_premium', 'profit_or_loss', 'contribution_margin_-_hq_view', 'contribution_margin_-_bu_view', ]\n",
    "\n",
    "\n",
    "\n"
   ]
  },
  {
   "cell_type": "markdown",
   "id": "3e83b829",
   "metadata": {
    "papermill": {
     "duration": 0.244181,
     "end_time": "2021-06-01T22:31:55.827224",
     "exception": false,
     "start_time": "2021-06-01T22:31:55.583043",
     "status": "completed"
    },
    "tags": []
   },
   "source": [
    "#### Make a copy for debug purposes"
   ]
  },
  {
   "cell_type": "code",
   "execution_count": 11,
   "id": "cf041ee6",
   "metadata": {
    "execution": {
     "iopub.execute_input": "2021-06-01T22:31:56.291633Z",
     "iopub.status.busy": "2021-06-01T22:31:56.287636Z",
     "iopub.status.idle": "2021-06-01T22:31:56.301635Z",
     "shell.execute_reply": "2021-06-01T22:31:56.299631Z"
    },
    "papermill": {
     "duration": 0.243282,
     "end_time": "2021-06-01T22:31:56.301635",
     "exception": false,
     "start_time": "2021-06-01T22:31:56.058353",
     "status": "completed"
    },
    "pycharm": {
     "is_executing": true,
     "name": "#%%\n"
    },
    "tags": []
   },
   "outputs": [],
   "source": [
    "trandata = mo_input.copy()"
   ]
  },
  {
   "cell_type": "markdown",
   "id": "b2eecd5d",
   "metadata": {
    "papermill": {
     "duration": 0.231998,
     "end_time": "2021-06-01T22:31:56.769827",
     "exception": false,
     "start_time": "2021-06-01T22:31:56.537829",
     "status": "completed"
    },
    "tags": []
   },
   "source": [
    "#### Convert Currency Below"
   ]
  },
  {
   "cell_type": "code",
   "execution_count": 12,
   "id": "8af580de",
   "metadata": {
    "execution": {
     "iopub.execute_input": "2021-06-01T22:31:57.263591Z",
     "iopub.status.busy": "2021-06-01T22:31:57.262595Z",
     "iopub.status.idle": "2021-06-01T22:31:57.268603Z",
     "shell.execute_reply": "2021-06-01T22:31:57.269593Z"
    },
    "papermill": {
     "duration": 0.263247,
     "end_time": "2021-06-01T22:31:57.270592",
     "exception": false,
     "start_time": "2021-06-01T22:31:57.007345",
     "status": "completed"
    },
    "pycharm": {
     "is_executing": true,
     "name": "#%%\n"
    },
    "tags": []
   },
   "outputs": [],
   "source": [
    "# create DataFrame of unique currencies with rates\n",
    "\n",
    "fx_uni = euro[['CURR_CODE','RATE']]\n",
    "fx_uni = fx_uni.drop_duplicates()"
   ]
  },
  {
   "cell_type": "code",
   "execution_count": 13,
   "id": "64d1b275",
   "metadata": {
    "execution": {
     "iopub.execute_input": "2021-06-01T22:31:57.761161Z",
     "iopub.status.busy": "2021-06-01T22:31:57.755160Z",
     "iopub.status.idle": "2021-06-01T22:31:57.793160Z",
     "shell.execute_reply": "2021-06-01T22:31:57.794166Z"
    },
    "papermill": {
     "duration": 0.280004,
     "end_time": "2021-06-01T22:31:57.794166",
     "exception": false,
     "start_time": "2021-06-01T22:31:57.514162",
     "status": "completed"
    },
    "pycharm": {
     "is_executing": true,
     "name": "#%%\n"
    },
    "tags": []
   },
   "outputs": [],
   "source": [
    "# add euro conversion rates to trandata DataFrame as column 'eur_rate'\n",
    "\n",
    "fx_uni = fx_uni.rename(columns = {\"CURR_CODE\":\"currency\"})\n",
    "\n",
    "eurdata = trandata.merge(fx_uni, how='left', left_on='currency', right_on='currency')\n",
    "\n",
    "\n",
    "trandata['eur_rate'] = eurdata['RATE']\n"
   ]
  },
  {
   "cell_type": "markdown",
   "id": "e212f02e",
   "metadata": {
    "papermill": {
     "duration": 0.235655,
     "end_time": "2021-06-01T22:31:58.252658",
     "exception": false,
     "start_time": "2021-06-01T22:31:58.017003",
     "status": "completed"
    },
    "tags": []
   },
   "source": [
    "#### Convert currency fields"
   ]
  },
  {
   "cell_type": "code",
   "execution_count": 14,
   "id": "b663a58a",
   "metadata": {
    "execution": {
     "iopub.execute_input": "2021-06-01T22:31:58.759653Z",
     "iopub.status.busy": "2021-06-01T22:31:58.751638Z",
     "iopub.status.idle": "2021-06-01T22:31:58.818664Z",
     "shell.execute_reply": "2021-06-01T22:31:58.820195Z"
    },
    "papermill": {
     "duration": 0.301123,
     "end_time": "2021-06-01T22:31:58.820195",
     "exception": false,
     "start_time": "2021-06-01T22:31:58.519072",
     "status": "completed"
    },
    "pycharm": {
     "is_executing": true,
     "name": "#%%\n"
    },
    "tags": []
   },
   "outputs": [],
   "source": [
    "try:\n",
    "    trandata[cflds] = trandata[cflds].divide(trandata['eur_rate'], axis=\"index\").fillna(0)\n",
    "\n",
    "except KeyError:\n",
    "    trandata[alt_cflds] = trandata[alt_cflds].divide(trandata['eur_rate'], axis=\"index\").fillna(0)\n",
    "\n",
    "    \n"
   ]
  },
  {
   "cell_type": "markdown",
   "id": "db0d1a1c",
   "metadata": {
    "papermill": {
     "duration": 0.257048,
     "end_time": "2021-06-01T22:31:59.309751",
     "exception": false,
     "start_time": "2021-06-01T22:31:59.052703",
     "status": "completed"
    },
    "tags": []
   },
   "source": [
    "#### Output to {percode}.euroconv.csv"
   ]
  },
  {
   "cell_type": "code",
   "execution_count": 15,
   "id": "531c13e0",
   "metadata": {
    "execution": {
     "iopub.execute_input": "2021-06-01T22:31:59.798858Z",
     "iopub.status.busy": "2021-06-01T22:31:59.793861Z",
     "iopub.status.idle": "2021-06-01T22:32:08.207607Z",
     "shell.execute_reply": "2021-06-01T22:32:08.208603Z"
    },
    "papermill": {
     "duration": 8.669814,
     "end_time": "2021-06-01T22:32:08.209607",
     "exception": false,
     "start_time": "2021-06-01T22:31:59.539793",
     "status": "completed"
    },
    "pycharm": {
     "is_executing": true,
     "name": "#%%\n"
    },
    "tags": []
   },
   "outputs": [],
   "source": [
    "trandata.to_csv( os.path.join(   rt_path , euro_file) , ',', index=False, encoding='utf-8-sig')\n"
   ]
  },
  {
   "cell_type": "code",
   "execution_count": 16,
   "id": "fcc725f4",
   "metadata": {
    "execution": {
     "iopub.execute_input": "2021-06-01T22:32:08.723276Z",
     "iopub.status.busy": "2021-06-01T22:32:08.721273Z",
     "iopub.status.idle": "2021-06-01T22:32:08.729276Z",
     "shell.execute_reply": "2021-06-01T22:32:08.730283Z"
    },
    "papermill": {
     "duration": 0.235888,
     "end_time": "2021-06-01T22:32:08.730283",
     "exception": false,
     "start_time": "2021-06-01T22:32:08.494395",
     "status": "completed"
    },
    "tags": []
   },
   "outputs": [],
   "source": [
    "#### Store the DataFrame for other notebooks to use and open the file location for the user to view the new files"
   ]
  },
  {
   "cell_type": "code",
   "execution_count": 17,
   "id": "65b96f1c",
   "metadata": {
    "execution": {
     "iopub.execute_input": "2021-06-01T22:32:09.188783Z",
     "iopub.status.busy": "2021-06-01T22:32:09.182782Z",
     "iopub.status.idle": "2021-06-01T22:32:09.435819Z",
     "shell.execute_reply": "2021-06-01T22:32:09.437823Z"
    },
    "papermill": {
     "duration": 0.476523,
     "end_time": "2021-06-01T22:32:09.438819",
     "exception": false,
     "start_time": "2021-06-01T22:32:08.962296",
     "status": "completed"
    },
    "tags": []
   },
   "outputs": [
    {
     "name": "stdout",
     "output_type": "stream",
     "text": [
      "Stored 'mo_df' (DataFrame)\n"
     ]
    }
   ],
   "source": [
    "mo_df = trandata\n",
    "\n",
    "%store mo_df\n",
    "\n",
    "\n",
    "os.startfile( rt_path   )\n",
    "\n"
   ]
  },
  {
   "cell_type": "code",
   "execution_count": null,
   "id": "63d79a32",
   "metadata": {
    "papermill": {
     "duration": 0.218998,
     "end_time": "2021-06-01T22:32:09.918031",
     "exception": false,
     "start_time": "2021-06-01T22:32:09.699033",
     "status": "completed"
    },
    "tags": []
   },
   "outputs": [],
   "source": []
  }
 ],
 "metadata": {
  "celltoolbar": "Tags",
  "kernelspec": {
   "display_name": "Python 3",
   "language": "python",
   "name": "python3"
  },
  "language_info": {
   "codemirror_mode": {
    "name": "ipython",
    "version": 3
   },
   "file_extension": ".py",
   "mimetype": "text/x-python",
   "name": "python",
   "nbconvert_exporter": "python",
   "pygments_lexer": "ipython3",
   "version": "3.7.6"
  },
  "papermill": {
   "default_parameters": {},
   "duration": 43.733863,
   "end_time": "2021-06-01T22:32:11.410676",
   "environment_variables": {},
   "exception": null,
   "input_path": "pipeline/make_output.ipynb",
   "output_path": "//hecate/Insurance_US/Product Development/Product Management/Global PPM/Reporting/Data Collection/Pipeline Reporting Scripts/GPMpipeline/instances/2021.Q1\\pipeline\\make_output06012021182709--live, add AT.ipynb",
   "parameters": {
    "commit_message": "Live run, added AT, bad file name, rerun.",
    "inst_datetime": "06012021182709",
    "percode": "2021.Q1",
    "run_control": 1
   },
   "start_time": "2021-06-01T22:31:27.676813",
   "version": "2.3.3"
  }
 },
 "nbformat": 4,
 "nbformat_minor": 5
}