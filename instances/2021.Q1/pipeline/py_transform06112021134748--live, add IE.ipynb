{
 "cells": [
  {
   "cell_type": "markdown",
   "id": "9fc37c52",
   "metadata": {
    "papermill": {
     "duration": 0.733341,
     "end_time": "2021-06-11T18:16:52.978346",
     "exception": false,
     "start_time": "2021-06-11T18:16:52.245005",
     "status": "completed"
    },
    "pycharm": {
     "name": "#%% md\n"
    },
    "tags": []
   },
   "source": [
    "<img src=\"../images/AzPTravel_PPM.png\">"
   ]
  },
  {
   "cell_type": "markdown",
   "id": "f57ee94d",
   "metadata": {
    "collapsed": true,
    "papermill": {
     "duration": 0.408277,
     "end_time": "2021-06-11T18:16:53.917538",
     "exception": false,
     "start_time": "2021-06-11T18:16:53.509261",
     "status": "completed"
    },
    "pycharm": {
     "name": "#%% md\n"
    },
    "tags": []
   },
   "source": [
    "## GPM Data Transformation Script\n",
    "\n",
    "#### This script transforms the single consolidated raw file \"{Data Collection}.csv\" into it's final GPM input versions \"{Data Collection Code}localcur.csv\" and \"{Data Collection Code}euroconv.csv\"\n",
    "#### Current transformations\n",
    "\n",
    "-    make headers lowercase and replace spaces with hyphens\n",
    "-    Remove any rows with null BUs\n",
    "-    validate columns in validcols\n",
    "-    output documented here: \"Global_Attribute_Catalog.xlsx\" you can also edit dataframe entries using the instructions in the file\n",
    "-    replace various null or placeholder values with \"Not Provided\"\n"
   ]
  },
  {
   "cell_type": "markdown",
   "id": "75c00b33",
   "metadata": {
    "papermill": {
     "duration": 0.388894,
     "end_time": "2021-06-11T18:16:54.677921",
     "exception": false,
     "start_time": "2021-06-11T18:16:54.289027",
     "status": "completed"
    },
    "tags": []
   },
   "source": [
    "###"
   ]
  },
  {
   "cell_type": "code",
   "execution_count": 1,
   "id": "8f0f687c",
   "metadata": {
    "execution": {
     "iopub.execute_input": "2021-06-11T18:16:55.692234Z",
     "iopub.status.busy": "2021-06-11T18:16:55.677053Z",
     "iopub.status.idle": "2021-06-11T18:16:55.710460Z",
     "shell.execute_reply": "2021-06-11T18:16:55.760888Z"
    },
    "papermill": {
     "duration": 0.559975,
     "end_time": "2021-06-11T18:16:55.760888",
     "exception": false,
     "start_time": "2021-06-11T18:16:55.200913",
     "status": "completed"
    },
    "pycharm": {
     "name": "#%%\n"
    },
    "tags": [
     "parameters"
    ]
   },
   "outputs": [],
   "source": [
    "commit = \"\"\n",
    "# give a reason for the run\n",
    "\n",
    "percode = \"20XX.QX\"\n",
    "# Data Collection Code, this controls file paths and output names\n",
    "\n",
    "run_type = 1\n",
    "#run_type =  0 - lite run with no reporting, not recommended.\n",
    "#run_type =  1 - lite run with normal reporting, default setting.\n",
    "#run_type =  2 - Heavy run with full reporting, available for audits and troubleshooting.\n",
    "\n",
    "specialchars = \"-GTHtest\"\n",
    "# optional - add up to a 12 character code in order to mark your instance record .ipynb\n",
    "\n",
    "from datetime import datetime\n",
    "inst_datetime = datetime.now().strftime(\"%m%d%Y%H%M%S\")\n",
    "# a single datetime stamp for the full instance run\n"
   ]
  },
  {
   "cell_type": "code",
   "execution_count": 2,
   "id": "1b178eba",
   "metadata": {
    "execution": {
     "iopub.execute_input": "2021-06-11T18:16:56.747075Z",
     "iopub.status.busy": "2021-06-11T18:16:56.746079Z",
     "iopub.status.idle": "2021-06-11T18:16:56.751075Z",
     "shell.execute_reply": "2021-06-11T18:16:56.752111Z"
    },
    "papermill": {
     "duration": 0.549652,
     "end_time": "2021-06-11T18:16:56.753081",
     "exception": false,
     "start_time": "2021-06-11T18:16:56.203429",
     "status": "completed"
    },
    "tags": [
     "injected-parameters"
    ]
   },
   "outputs": [],
   "source": [
    "# Parameters\n",
    "run_control = 1\n",
    "percode = \"2021.Q1\"\n",
    "commit_message = \"Live run,Late additions EI was not present.\"\n",
    "inst_datetime = \"06112021134748\"\n"
   ]
  },
  {
   "cell_type": "markdown",
   "id": "30d3a301",
   "metadata": {
    "papermill": {
     "duration": 0.4112,
     "end_time": "2021-06-11T18:16:57.575304",
     "exception": false,
     "start_time": "2021-06-11T18:16:57.164104",
     "status": "completed"
    },
    "tags": []
   },
   "source": [
    "### Set Run Control\n",
    "\n",
    "##### 0 - lite run with no reporting, not recommended.\n",
    "##### 1 - lite run with normal reporting, default setting.\n",
    "##### 2 - Heavy run with full reporting, available for audits and troubleshooting."
   ]
  },
  {
   "cell_type": "code",
   "execution_count": 3,
   "id": "f3133e94",
   "metadata": {
    "execution": {
     "iopub.execute_input": "2021-06-11T18:16:58.826906Z",
     "iopub.status.busy": "2021-06-11T18:16:58.824900Z",
     "iopub.status.idle": "2021-06-11T18:16:58.831899Z",
     "shell.execute_reply": "2021-06-11T18:16:58.833898Z"
    },
    "papermill": {
     "duration": 0.730722,
     "end_time": "2021-06-11T18:16:58.833898",
     "exception": false,
     "start_time": "2021-06-11T18:16:58.103176",
     "status": "completed"
    },
    "pycharm": {
     "name": "#%%\n"
    },
    "tags": []
   },
   "outputs": [],
   "source": [
    "run_control = 0  # in development mode"
   ]
  },
  {
   "cell_type": "code",
   "execution_count": 4,
   "id": "e88c5bb7",
   "metadata": {
    "execution": {
     "iopub.execute_input": "2021-06-11T18:16:59.819167Z",
     "iopub.status.busy": "2021-06-11T18:16:59.819167Z",
     "iopub.status.idle": "2021-06-11T18:17:03.691972Z",
     "shell.execute_reply": "2021-06-11T18:17:03.692972Z"
    },
    "papermill": {
     "duration": 4.367893,
     "end_time": "2021-06-11T18:17:03.693971",
     "exception": false,
     "start_time": "2021-06-11T18:16:59.326078",
     "status": "completed"
    },
    "pycharm": {
     "name": "#%%\n"
    },
    "tags": []
   },
   "outputs": [],
   "source": [
    "#### Packages used\n",
    "import sys\n",
    "import os\n",
    "import pandas as pd\n",
    "from pandas import ExcelWriter\n",
    "from numpy import nan"
   ]
  },
  {
   "cell_type": "code",
   "execution_count": 5,
   "id": "332ccb69",
   "metadata": {
    "execution": {
     "iopub.execute_input": "2021-06-11T18:17:04.565918Z",
     "iopub.status.busy": "2021-06-11T18:17:04.560922Z",
     "iopub.status.idle": "2021-06-11T18:17:04.575925Z",
     "shell.execute_reply": "2021-06-11T18:17:04.578475Z"
    },
    "papermill": {
     "duration": 0.497038,
     "end_time": "2021-06-11T18:17:04.578475",
     "exception": false,
     "start_time": "2021-06-11T18:17:04.081437",
     "status": "completed"
    },
    "pycharm": {
     "name": "#%%\n"
    },
    "tags": []
   },
   "outputs": [],
   "source": [
    "default_dc = \"2021.Q1\"\n",
    "\n",
    "try:\n",
    "    if sys.argv[1] == \"-f\":\n",
    "        percode = default_dc\n",
    "    else:\n",
    "        percode = sys.argv[1]\n",
    "\n",
    "except IndexError:\n",
    "    percode = default_dc\n",
    "except NameError:\n",
    "    percode = default_dc"
   ]
  },
  {
   "cell_type": "markdown",
   "id": "51632573",
   "metadata": {
    "papermill": {
     "duration": 0.488694,
     "end_time": "2021-06-11T18:17:05.580327",
     "exception": false,
     "start_time": "2021-06-11T18:17:05.091633",
     "status": "completed"
    },
    "tags": []
   },
   "source": [
    "#### style settings"
   ]
  },
  {
   "cell_type": "code",
   "execution_count": 6,
   "id": "b7fca962",
   "metadata": {
    "execution": {
     "iopub.execute_input": "2021-06-11T18:17:06.634355Z",
     "iopub.status.busy": "2021-06-11T18:17:06.631357Z",
     "iopub.status.idle": "2021-06-11T18:17:06.637355Z",
     "shell.execute_reply": "2021-06-11T18:17:06.639356Z"
    },
    "papermill": {
     "duration": 0.524677,
     "end_time": "2021-06-11T18:17:06.640352",
     "exception": false,
     "start_time": "2021-06-11T18:17:06.115675",
     "status": "completed"
    },
    "tags": []
   },
   "outputs": [],
   "source": [
    "from IPython.core.interactiveshell import InteractiveShell\n",
    "InteractiveShell.ast_node_interactivity = \"all\""
   ]
  },
  {
   "cell_type": "markdown",
   "id": "4abfce18",
   "metadata": {
    "papermill": {
     "duration": 0.626032,
     "end_time": "2021-06-11T18:17:07.773649",
     "exception": false,
     "start_time": "2021-06-11T18:17:07.147617",
     "status": "completed"
    },
    "tags": []
   },
   "source": [
    "#### Convert paths and files to variables.\n",
    "#### Read data into pd DataFrames.\n",
    "#### Make paths for the live sources."
   ]
  },
  {
   "cell_type": "code",
   "execution_count": 7,
   "id": "2d8ce23d",
   "metadata": {
    "execution": {
     "iopub.execute_input": "2021-06-11T18:17:08.922534Z",
     "iopub.status.busy": "2021-06-11T18:17:08.921534Z",
     "iopub.status.idle": "2021-06-11T18:17:08.926535Z",
     "shell.execute_reply": "2021-06-11T18:17:08.927533Z"
    },
    "papermill": {
     "duration": 0.591417,
     "end_time": "2021-06-11T18:17:08.927533",
     "exception": false,
     "start_time": "2021-06-11T18:17:08.336116",
     "status": "completed"
    },
    "pycharm": {
     "name": "#%%\n"
    },
    "tags": []
   },
   "outputs": [],
   "source": [
    "rt_path = os.path.join( f'\\\\\\\\hecate\\\\Insurance_US\\\\Product Development\\\\Product Management\\\\Global PPM\\\\Reporting\\\\Data Collection\\\\Production',percode)\n",
    "\n",
    "infile = os.path.join(rt_path, f'{str(percode)}.parquet')\n",
    "gppm_file = os.path.join(rt_path, f'GPPM_Input_{str(percode)}.xlsx')\n",
    "atcat = os.path.join(rt_path, f'{percode}_Attribute_Catalog.xlsx')\n"
   ]
  },
  {
   "cell_type": "code",
   "execution_count": 8,
   "id": "37fa1be5",
   "metadata": {
    "execution": {
     "iopub.execute_input": "2021-06-11T18:17:09.979777Z",
     "iopub.status.busy": "2021-06-11T18:17:09.977782Z",
     "iopub.status.idle": "2021-06-11T18:17:09.987781Z",
     "shell.execute_reply": "2021-06-11T18:17:09.988779Z"
    },
    "papermill": {
     "duration": 0.5697,
     "end_time": "2021-06-11T18:17:09.988779",
     "exception": false,
     "start_time": "2021-06-11T18:17:09.419079",
     "status": "completed"
    },
    "tags": []
   },
   "outputs": [],
   "source": [
    "#### Read input file\n",
    "\n",
    "#### This reads the consolidated file that will be transformed or a stored dataframe based on the execution method."
   ]
  },
  {
   "cell_type": "code",
   "execution_count": 9,
   "id": "969cead4",
   "metadata": {
    "execution": {
     "iopub.execute_input": "2021-06-11T18:17:10.958310Z",
     "iopub.status.busy": "2021-06-11T18:17:10.956312Z",
     "iopub.status.idle": "2021-06-11T18:17:11.130877Z",
     "shell.execute_reply": "2021-06-11T18:17:11.129878Z"
    },
    "papermill": {
     "duration": 0.69089,
     "end_time": "2021-06-11T18:17:11.130877",
     "exception": false,
     "start_time": "2021-06-11T18:17:10.439987",
     "status": "completed"
    },
    "pycharm": {
     "name": "#%%\n"
    },
    "tags": []
   },
   "outputs": [
    {
     "name": "stdout",
     "output_type": "stream",
     "text": [
      "                        Submission File Business Unit Country Currency  \\\n",
      "0      us_dat_at_+te_q1_2021_at.parquet            AT      AT      EUR   \n",
      "1      us_dat_at_+te_q1_2021_at.parquet            AT      AT      EUR   \n",
      "2      us_dat_at_+te_q1_2021_at.parquet            AT      AT      EUR   \n",
      "3      us_dat_at_+te_q1_2021_at.parquet            AT      AT      EUR   \n",
      "4      us_dat_at_+te_q1_2021_at.parquet            AT      AT      EUR   \n",
      "...                                 ...           ...     ...      ...   \n",
      "13799  us_dat_us_06022021145526.parquet            US      US      USD   \n",
      "13800  us_dat_us_06022021145526.parquet            US      US      USD   \n",
      "13801  us_dat_us_06022021145526.parquet            US      US      USD   \n",
      "13802  us_dat_us_06022021145526.parquet            US      US      USD   \n",
      "13803  us_dat_us_06022021145526.parquet            US      US      USD   \n",
      "\n",
      "                                Region Reporting Date From Reporting Date To  \\\n",
      "0      North, Central & Eastern Europe          2021-01-01        2021-03-31   \n",
      "1      North, Central & Eastern Europe          2021-01-01        2021-03-31   \n",
      "2      North, Central & Eastern Europe          2021-01-01        2021-03-31   \n",
      "3      North, Central & Eastern Europe          2021-01-01        2021-03-31   \n",
      "4      North, Central & Eastern Europe          2021-01-01        2021-03-31   \n",
      "...                                ...                 ...               ...   \n",
      "13799                    North America          2021-01-01        2021-03-31   \n",
      "13800                    North America          2021-01-01        2021-03-31   \n",
      "13801                    North America          2021-01-01        2021-03-31   \n",
      "13802                    North America          2021-01-01        2021-03-31   \n",
      "13803                    North America          2021-01-01        2021-03-31   \n",
      "\n",
      "      Date of Analysis Type of Analysis  Analysed Months  ...    comsub  \\\n",
      "0           2021-05-07     Year To Date              3.0  ...  0.000000   \n",
      "1           2021-05-07     Year To Date              3.0  ...  0.000000   \n",
      "2           2021-05-07     Year To Date              3.0  ...  0.000000   \n",
      "3           2021-05-07     Year To Date              3.0  ...  0.000000   \n",
      "4           2021-05-07     Year To Date              3.0  ...  0.000000   \n",
      "...                ...              ...              ...  ...       ...   \n",
      "13799       2021-04-30     Year To Date              3.0  ...  0.000000   \n",
      "13800       2021-04-30     Year To Date              3.0  ...  0.000000   \n",
      "13801       2021-04-30     Year To Date              3.0  ...  0.000000   \n",
      "13802       2021-04-30     Year To Date              3.0  ...  0.344545   \n",
      "13803       2021-04-30     Year To Date              3.0  ...  0.271429   \n",
      "\n",
      "         expsub  Reporting Date From INT Reporting Date To INT  \\\n",
      "0      0.000000                      NaN                   NaN   \n",
      "1      0.000000                      NaN                   NaN   \n",
      "2      0.000000                      NaN                   NaN   \n",
      "3      0.000000                      NaN                   NaN   \n",
      "4      0.000000                      NaN                   NaN   \n",
      "...         ...                      ...                   ...   \n",
      "13799  0.000000               20210101.0            20210331.0   \n",
      "13800  0.000000               20210101.0            20210331.0   \n",
      "13801  0.000000               20210101.0            20210331.0   \n",
      "13802  0.200909               20210101.0            20210331.0   \n",
      "13803  0.208571               20210101.0            20210331.0   \n",
      "\n",
      "      Date of Analysis INT                     Selected Fields for Duplicates  \\\n",
      "0                      NaN                                                NaN   \n",
      "1                      NaN                                                NaN   \n",
      "2                      NaN                                                NaN   \n",
      "3                      NaN                                                NaN   \n",
      "4                      NaN                                                NaN   \n",
      "...                    ...                                                ...   \n",
      "13799           20210430.0  USInsuranceLocalB2B2CTravelOffline Travel Agen...   \n",
      "13800           20210430.0  USInsuranceLocalB2B2CTravelOffline Travel Agen...   \n",
      "13801           20210430.0  USInsuranceLocalB2B2CTravelOffline Travel Agen...   \n",
      "13802           20210430.0  USInsuranceLocalB2B2CTravelOffline Travel Agen...   \n",
      "13803           20210430.0  USInsuranceLocalB2B2CTravelOffline Travel Agen...   \n",
      "\n",
      "      ibnrsub Identifier to pull in results from Data tab Unnamed: 67  \\\n",
      "0         NaN                                         NaN         NaN   \n",
      "1         NaN                                         NaN         NaN   \n",
      "2         NaN                                         NaN         NaN   \n",
      "3         NaN                                         NaN         NaN   \n",
      "4         NaN                                         NaN         NaN   \n",
      "...       ...                                         ...         ...   \n",
      "13799     0.0                           314666064x1004320         0.0   \n",
      "13800     0.0                           315460246x1005115         0.0   \n",
      "13801     0.0                           319820436x1003748         0.0   \n",
      "13802     1.0                           319820436x1004320         0.0   \n",
      "13803     1.0                           319820436x1004534         0.0   \n",
      "\n",
      "      Unnamed: 68  \n",
      "0             NaN  \n",
      "1             NaN  \n",
      "2             NaN  \n",
      "3             NaN  \n",
      "4             NaN  \n",
      "...           ...  \n",
      "13799         0.0  \n",
      "13800         0.0  \n",
      "13801         0.0  \n",
      "13802         0.0  \n",
      "13803         0.0  \n",
      "\n",
      "[13804 rows x 79 columns]\n"
     ]
    }
   ],
   "source": [
    "try:\n",
    "    %store -r read_dc_df\n",
    "    input = read_dc_df\n",
    "        \n",
    "except:\n",
    "    input = pd.read_parquet(infile,engine = \"pyarrow\")\n",
    "    os.remove(infile)\n",
    "\n",
    "print(input)"
   ]
  },
  {
   "cell_type": "markdown",
   "id": "e9b4550d",
   "metadata": {
    "papermill": {
     "duration": 0.551557,
     "end_time": "2021-06-11T18:17:12.171613",
     "exception": false,
     "start_time": "2021-06-11T18:17:11.620056",
     "status": "completed"
    },
    "tags": []
   },
   "source": [
    "#### Make a copy for debug purposes"
   ]
  },
  {
   "cell_type": "code",
   "execution_count": 10,
   "id": "6e8c9234",
   "metadata": {
    "execution": {
     "iopub.execute_input": "2021-06-11T18:17:13.327198Z",
     "iopub.status.busy": "2021-06-11T18:17:13.318951Z",
     "iopub.status.idle": "2021-06-11T18:17:13.356458Z",
     "shell.execute_reply": "2021-06-11T18:17:13.356458Z"
    },
    "papermill": {
     "duration": 0.62778,
     "end_time": "2021-06-11T18:17:13.356458",
     "exception": false,
     "start_time": "2021-06-11T18:17:12.728678",
     "status": "completed"
    },
    "pycharm": {
     "name": "#%%\n"
    },
    "tags": []
   },
   "outputs": [],
   "source": [
    "trandata = input.copy()"
   ]
  },
  {
   "cell_type": "markdown",
   "id": "84bbfaf0",
   "metadata": {
    "papermill": {
     "duration": 0.55852,
     "end_time": "2021-06-11T18:17:14.552182",
     "exception": false,
     "start_time": "2021-06-11T18:17:13.993662",
     "status": "completed"
    },
    "tags": []
   },
   "source": [
    "#### Format Headers"
   ]
  },
  {
   "cell_type": "code",
   "execution_count": 11,
   "id": "271a590e",
   "metadata": {
    "execution": {
     "iopub.execute_input": "2021-06-11T18:17:15.590172Z",
     "iopub.status.busy": "2021-06-11T18:17:15.584175Z",
     "iopub.status.idle": "2021-06-11T18:17:15.614174Z",
     "shell.execute_reply": "2021-06-11T18:17:15.613176Z"
    },
    "papermill": {
     "duration": 0.557337,
     "end_time": "2021-06-11T18:17:15.614174",
     "exception": false,
     "start_time": "2021-06-11T18:17:15.056837",
     "status": "completed"
    },
    "pycharm": {
     "name": "#%%\n"
    },
    "tags": []
   },
   "outputs": [
    {
     "data": {
      "text/plain": [
       "'format headers'"
      ]
     },
     "execution_count": 11,
     "metadata": {},
     "output_type": "execute_result"
    }
   ],
   "source": [
    "# save the column names to variable, format them, replace headers\n",
    "cols = trandata.columns.values\n",
    "\n",
    "\"\"\"format headers\"\"\"\n",
    "fixedcols = []\n",
    "\n",
    "for f in cols:\n",
    "    fixedhead = f.replace(' ', '_').lower()\n",
    "    fixedcols.append(fixedhead)\n",
    "\n",
    "trandata.columns = fixedcols"
   ]
  },
  {
   "cell_type": "markdown",
   "id": "c003412f",
   "metadata": {
    "papermill": {
     "duration": 0.546355,
     "end_time": "2021-06-11T18:17:16.707997",
     "exception": false,
     "start_time": "2021-06-11T18:17:16.161642",
     "status": "completed"
    },
    "pycharm": {
     "name": "#%% md\n"
    },
    "tags": []
   },
   "source": [
    "#### Update Verification 1"
   ]
  },
  {
   "cell_type": "code",
   "execution_count": 12,
   "id": "6eb77b89",
   "metadata": {
    "execution": {
     "iopub.execute_input": "2021-06-11T18:17:18.086322Z",
     "iopub.status.busy": "2021-06-11T18:17:18.080322Z",
     "iopub.status.idle": "2021-06-11T18:17:18.410413Z",
     "shell.execute_reply": "2021-06-11T18:17:18.409414Z"
    },
    "papermill": {
     "duration": 0.994016,
     "end_time": "2021-06-11T18:17:18.410413",
     "exception": false,
     "start_time": "2021-06-11T18:17:17.416397",
     "status": "completed"
    },
    "pycharm": {
     "name": "#%%\n"
    },
    "tags": []
   },
   "outputs": [
    {
     "name": "stdout",
     "output_type": "stream",
     "text": [
      "|    | Original                                                        | Transformed                                                     |\n",
      "|---:|:----------------------------------------------------------------|:----------------------------------------------------------------|\n",
      "|  0 | Submission File                                                 | submission_file                                                 |\n",
      "|  1 | Business Unit                                                   | business_unit                                                   |\n",
      "|  2 | Country                                                         | country                                                         |\n",
      "|  3 | Currency                                                        | currency                                                        |\n",
      "|  4 | Region                                                          | region                                                          |\n",
      "|  5 | Reporting Date From                                             | reporting_date_from                                             |\n",
      "|  6 | Reporting Date To                                               | reporting_date_to                                               |\n",
      "|  7 | Date of Analysis                                                | date_of_analysis                                                |\n",
      "|  8 | Type of Analysis                                                | type_of_analysis                                                |\n",
      "|  9 | Analysed Months                                                 | analysed_months                                                 |\n",
      "| 10 | Reporting Year                                                  | reporting_year                                                  |\n",
      "| 11 | Reporting Quarter                                               | reporting_quarter                                               |\n",
      "| 12 | Reporting Month                                                 | reporting_month                                                 |\n",
      "| 13 | Type of Business                                                | type_of_business                                                |\n",
      "| 14 | Type of Account                                                 | type_of_account                                                 |\n",
      "| 15 | Distribution Type                                               | distribution_type                                               |\n",
      "| 16 | LOB                                                             | lob                                                             |\n",
      "| 17 | Distribution Channel                                            | distribution_channel                                            |\n",
      "| 18 | Sub LOB                                                         | sub_lob                                                         |\n",
      "| 19 | Business Partner Name                                           | business_partner_name                                           |\n",
      "| 20 | Business Partner ID Number                                      | business_partner_id_number                                      |\n",
      "| 21 | Product Name                                                    | product_name                                                    |\n",
      "| 22 | Product ID Number                                               | product_id_number                                               |\n",
      "| 23 | Product Family                                                  | product_family                                                  |\n",
      "| 24 | Standard Product                                                | standard_product                                                |\n",
      "| 25 | Number of Products per Row                                      | number_of_products_per_row                                      |\n",
      "| 26 | Number of B-Partners per Row                                    | number_of_b-partners_per_row                                    |\n",
      "| 27 | Number of Policies (Written)                                    | number_of_policies_(written)                                    |\n",
      "| 28 | Units of Risk (Written)                                         | units_of_risk_(written)                                         |\n",
      "| 29 | Written Revenues net of Taxes                                   | written_revenues_net_of_taxes                                   |\n",
      "| 30 | Written Revenues                                                | written_revenues                                                |\n",
      "| 31 | Number of Policies (Earned)                                     | number_of_policies_(earned)                                     |\n",
      "| 32 | Units of Risk (Earned)                                          | units_of_risk_(earned)                                          |\n",
      "| 33 | Earned Revenues net of Taxes                                    | earned_revenues_net_of_taxes                                    |\n",
      "| 34 | Earned Revenues                                                 | earned_revenues                                                 |\n",
      "| 35 | Earned Base Commissions                                         | earned_base_commissions                                         |\n",
      "| 36 | Earned Over-Commissions                                         | earned_over-commissions                                         |\n",
      "| 37 | Upfront Cash Payments                                           | upfront_cash_payments                                           |\n",
      "| 38 | Total Compensation                                              | total_compensation                                              |\n",
      "| 39 | Number of Claims (Paid + OCR + IBNR)                            | number_of_claims_(paid_+_ocr_+_ibnr)                            |\n",
      "| 40 | Number of Open Claims                                           | number_of_open_claims                                           |\n",
      "| 41 | Open Claims %                                                   | open_claims_%                                                   |\n",
      "| 42 | Number of Persons Involved in Claims (Paid + OCR + IBNR)        | number_of_persons_involved_in_claims_(paid_+_ocr_+_ibnr)        |\n",
      "| 43 | Paid Claims                                                     | paid_claims                                                     |\n",
      "| 44 | OCR + IBNR                                                      | ocr_+_ibnr                                                      |\n",
      "| 45 | % of IBNR on (OCR + IBNR)                                       | %_of_ibnr_on_(ocr_+_ibnr)                                       |\n",
      "| 46 | Actual Incurred Losses (Paid + OCR + IBNR)                      | actual_incurred_losses_(paid_+_ocr_+_ibnr)                      |\n",
      "| 47 | Internal Variable Costs (excl. AZ Tech Fee)                     | internal_variable_costs_(excl._az_tech_fee)                     |\n",
      "| 48 | AZ Tech Fee                                                     | az_tech_fee                                                     |\n",
      "| 49 | Internal Fixed Costs (excl. HQ Fees)                            | internal_fixed_costs_(excl._hq_fees)                            |\n",
      "| 50 | HQ Fees                                                         | hq_fees                                                         |\n",
      "| 51 | Total Expenses                                                  | total_expenses                                                  |\n",
      "| 52 | Frequency (Earned)                                              | frequency_(earned)                                              |\n",
      "| 53 | Severity                                                        | severity                                                        |\n",
      "| 54 | Risk Premium                                                    | risk_premium                                                    |\n",
      "| 55 | Contribution Margin - BU View                                   | contribution_margin_-_bu_view                                   |\n",
      "| 56 | Contribution Margin % on Fixed Costs - BU View                  | contribution_margin_%_on_fixed_costs_-_bu_view                  |\n",
      "| 57 | Contribution Margin % on Earned Revenues net of Taxes - BU View | contribution_margin_%_on_earned_revenues_net_of_taxes_-_bu_view |\n",
      "| 58 | Contribution Margin - HQ View                                   | contribution_margin_-_hq_view                                   |\n",
      "| 59 | Contribution Margin % on Fixed Costs - HQ View                  | contribution_margin_%_on_fixed_costs_-_hq_view                  |\n",
      "| 60 | Contribution Margin % on Earned Revenues net of Taxes - HQ View | contribution_margin_%_on_earned_revenues_net_of_taxes_-_hq_view |\n",
      "| 61 | Loss Ratio                                                      | loss_ratio                                                      |\n",
      "| 62 | Commission Ratio                                                | commission_ratio                                                |\n",
      "| 63 | Expense Ratio                                                   | expense_ratio                                                   |\n",
      "| 64 | Combined Ratio                                                  | combined_ratio                                                  |\n",
      "| 65 | Profit or Loss                                                  | profit_or_loss                                                  |\n",
      "| 66 | Notes                                                           | notes                                                           |\n",
      "| 67 | Unnamed: 66                                                     | unnamed:_66                                                     |\n",
      "| 68 | concat2                                                         | concat2                                                         |\n",
      "| 69 | comsub                                                          | comsub                                                          |\n",
      "| 70 | expsub                                                          | expsub                                                          |\n",
      "| 71 | Reporting Date From INT                                         | reporting_date_from_int                                         |\n",
      "| 72 | Reporting Date To INT                                           | reporting_date_to_int                                           |\n",
      "| 73 | Date of Analysis INT                                            | date_of_analysis_int                                            |\n",
      "| 74 | Selected Fields for Duplicates                                  | selected_fields_for_duplicates                                  |\n",
      "| 75 | ibnrsub                                                         | ibnrsub                                                         |\n",
      "| 76 | Identifier to pull in results from Data tab                     | identifier_to_pull_in_results_from_data_tab                     |\n",
      "| 77 | Unnamed: 67                                                     | unnamed:_67                                                     |\n",
      "| 78 | Unnamed: 68                                                     | unnamed:_68                                                     |\n"
     ]
    }
   ],
   "source": [
    "if run_control > -10:\n",
    "    disp = {\"Original\": input.columns, \"Transformed\": trandata.columns}\n",
    "\n",
    "    disp = pd.DataFrame(disp)\n",
    "\n",
    "    print(disp.to_markdown())\n",
    "else:\n",
    "    print(\"Skipped Transformation Report 1\")"
   ]
  },
  {
   "cell_type": "markdown",
   "id": "8eeecfef",
   "metadata": {
    "papermill": {
     "duration": 0.484489,
     "end_time": "2021-06-11T18:17:19.444905",
     "exception": false,
     "start_time": "2021-06-11T18:17:18.960416",
     "status": "completed"
    },
    "tags": []
   },
   "source": [
    "#### Remove rows with null business units\n"
   ]
  },
  {
   "cell_type": "code",
   "execution_count": 13,
   "id": "be0c8519",
   "metadata": {
    "execution": {
     "iopub.execute_input": "2021-06-11T18:17:20.758839Z",
     "iopub.status.busy": "2021-06-11T18:17:20.742844Z",
     "iopub.status.idle": "2021-06-11T18:17:20.813940Z",
     "shell.execute_reply": "2021-06-11T18:17:20.812938Z"
    },
    "papermill": {
     "duration": 0.745422,
     "end_time": "2021-06-11T18:17:20.814951",
     "exception": false,
     "start_time": "2021-06-11T18:17:20.069529",
     "status": "completed"
    },
    "pycharm": {
     "name": "#%%\n"
    },
    "tags": []
   },
   "outputs": [],
   "source": [
    "# todo, remove this from read file\n",
    "trandata = trandata[trandata.business_unit.notnull()]"
   ]
  },
  {
   "cell_type": "markdown",
   "id": "eefaa059",
   "metadata": {
    "papermill": {
     "duration": 0.620914,
     "end_time": "2021-06-11T18:17:22.142139",
     "exception": false,
     "start_time": "2021-06-11T18:17:21.521225",
     "status": "completed"
    },
    "tags": []
   },
   "source": [
    "#### Update Verification 2"
   ]
  },
  {
   "cell_type": "code",
   "execution_count": 14,
   "id": "5433c1c2",
   "metadata": {
    "execution": {
     "iopub.execute_input": "2021-06-11T18:17:23.558135Z",
     "iopub.status.busy": "2021-06-11T18:17:23.539123Z",
     "iopub.status.idle": "2021-06-11T18:17:23.722119Z",
     "shell.execute_reply": "2021-06-11T18:17:23.722119Z"
    },
    "papermill": {
     "duration": 0.902194,
     "end_time": "2021-06-11T18:17:23.723120",
     "exception": false,
     "start_time": "2021-06-11T18:17:22.820926",
     "status": "completed"
    },
    "pycharm": {
     "name": "#%%\n"
    },
    "tags": []
   },
   "outputs": [
    {
     "name": "stdout",
     "output_type": "stream",
     "text": [
      "Row Counts\n",
      "|    | Business Unit   |   Original |   Transformed |\n",
      "|---:|:----------------|-----------:|--------------:|\n",
      "|  0 | AT              |        222 |           222 |\n",
      "|  1 | AU              |         53 |            53 |\n",
      "|  2 | CA              |         17 |            17 |\n",
      "|  3 | CH              |       3172 |          3172 |\n",
      "|  4 | CZ              |          7 |             7 |\n",
      "|  5 | DE              |         50 |            50 |\n",
      "|  6 | ES              |         28 |            28 |\n",
      "|  7 | GR              |         15 |            15 |\n",
      "|  8 | IE              |         14 |            14 |\n",
      "|  9 | IT              |        100 |           100 |\n",
      "| 10 | NL              |        151 |           151 |\n",
      "| 11 | PL              |         27 |            27 |\n",
      "| 12 | PT              |         40 |            40 |\n",
      "| 13 | US              |       9908 |          9908 |\n"
     ]
    }
   ],
   "source": [
    "if run_control > -10:\n",
    "\n",
    "    ibus = input.groupby(['Business Unit']).count()\n",
    "    ibus = ibus.reset_index()\n",
    "    tbus = trandata.groupby(['business_unit']).count()\n",
    "    tbus = tbus.reset_index()\n",
    "\n",
    "    compdata = pd.merge(ibus, tbus, left_on='Business Unit', right_on='business_unit', how='left')\n",
    "\n",
    "    disp = {\"Business Unit\": compdata['Business Unit'], \"Original\": compdata['Earned Revenues net of Taxes'],\n",
    "            \"Transformed\": compdata['earned_revenues_net_of_taxes']}\n",
    "\n",
    "    disp = pd.DataFrame(disp)\n",
    "\n",
    "    print(\"Row Counts\")\n",
    "    print(disp.to_markdown())\n",
    "    \n",
    "else:\n",
    "    \n",
    "    print(\"Skipped Transformation Report 2\")\n"
   ]
  },
  {
   "cell_type": "markdown",
   "id": "62800eee",
   "metadata": {
    "papermill": {
     "duration": 0.779823,
     "end_time": "2021-06-11T18:17:25.067739",
     "exception": false,
     "start_time": "2021-06-11T18:17:24.287916",
     "status": "completed"
    },
    "tags": []
   },
   "source": [
    "#### Swap  nulls for \"Not Provided\" in 'Sub Lob' and 'Distribution Channel'"
   ]
  },
  {
   "cell_type": "code",
   "execution_count": 15,
   "id": "206302cd",
   "metadata": {
    "execution": {
     "iopub.execute_input": "2021-06-11T18:17:26.354043Z",
     "iopub.status.busy": "2021-06-11T18:17:26.337039Z",
     "iopub.status.idle": "2021-06-11T18:17:26.415041Z",
     "shell.execute_reply": "2021-06-11T18:17:26.416045Z"
    },
    "papermill": {
     "duration": 0.67698,
     "end_time": "2021-06-11T18:17:26.417040",
     "exception": false,
     "start_time": "2021-06-11T18:17:25.740060",
     "status": "completed"
    },
    "pycharm": {
     "name": "#%%\n"
    },
    "tags": []
   },
   "outputs": [
    {
     "data": {
      "text/plain": [
       "array(['0.0', '', '0', 'Travel Medical Multi Trip (Annual Insurance)',\n",
       "       'Collision Damage Waiver (CDW)', 'Corporate Travel',\n",
       "       'Event Ticket Cancellation', 'Other',\n",
       "       'Standalone Cancellation - Single Trip',\n",
       "       'TPA/Claims Handling / Service Only Products',\n",
       "       'Travel Medical Short Term - Single Trip',\n",
       "       'Travel Package w/o Cancellation Short Term Single Trip',\n",
       "       'Travel Package with Cancellation Multi Trip (Annual Insurance)',\n",
       "       'Travel Package with Cancellation Short Term Single Trip',\n",
       "       'Travel Package w/o Cancellation Multi Trip (Annual Insurance)',\n",
       "       'Travel Package with Cancellation Short Term Single Trip, Travel Package with Cancellation Multi Trip (Annual Insurance)',\n",
       "       'Travel Medical Long term - Single Trip, Travel Package with Cancellation Multi Trip (Annual Insurance), Travel Package with Cancellation Short Term Single Trip',\n",
       "       'Travel Medical Long term - Single Trip',\n",
       "       'Collision Damage Waiver (CDW), Travel Package w/o Cancellation Short Term Single Trip',\n",
       "       'Travel Medical Short Term - Single Trip, Travel Package with Cancellation Short Term Single Trip',\n",
       "       'Standalone Cancellation - Single Trip, Travel Package w/o Cancellation Short Term Single Trip, Travel Package with Cancellation Short Term Single Trip',\n",
       "       'Standalone Cancellation - Single Trip, Travel Package with Cancellation Short Term Single Trip',\n",
       "       'Travel Package with Cancellation Short Term Single Trip, Travel Package w/o Cancellation Short Term Single Trip',\n",
       "       'Standalone Cancellation - Single Trip, Travel Package w/o Cancellation Multi Trip (Annual Insurance), Travel Package w/o Cancellation Short Term Single Trip, Travel Package with Cancellation Short Term Single Trip',\n",
       "       'Travel Package w/o Cancellation Short Term Single Trip, Travel Package with Cancellation Short Term Single Trip',\n",
       "       'Collision Damage Waiver (CDW), Standalone Cancellation - Single Trip, Travel Package w/o Cancellation Multi Trip (Annual Insurance), Travel Package w/o Cancellation Short Term Single Trip, Travel Package with Cancellation Short Term Single Trip',\n",
       "       'Travel Package with Cancellation Short Term Single Trip, Travel Package w/o Cancellation Short Term Single Trip, Standalone Cancellation - Single Trip',\n",
       "       'Travel Package with Cancellation Short Term Single Trip, Travel Package with Cancellation Short Term Single Trip, Travel Package w/o Cancellation Short Term Single Trip, Standalone Cancellation - Single Trip',\n",
       "       'Travel Package with Cancellation Short Term Single Trip, Standalone Cancellation - Single Trip',\n",
       "       'Expatriates',\n",
       "       'Travel Package with Cancellation Short Term Single Trip, Travel Package w/o Cancellation Short Term Single Trip, Travel Medical Short Term - Single Trip',\n",
       "       'Travel Package w/o Cancellation Short Term Single Trip, Standalone Cancellation - Single Trip, Travel Medical Short Term - Single Trip',\n",
       "       'Travel Package w/o Cancellation Short Term Single Trip, Standalone Cancellation - Single Trip',\n",
       "       'Travel Package with Cancellation Short Term Single Trip, Travel Medical Short Term - Single Trip',\n",
       "       'Travel Package with Cancellation Short Term Single Trip, Travel Package w/o Cancellation Short Term Single Trip, Standalone Cancellation - Single Trip, Travel Medical Short Term - Single Trip',\n",
       "       'Travel Package w/o Cancellation Long Term Single Trip',\n",
       "       'Standalone Cancellation - Multi-Trip', 'Tuition'], dtype=object)"
      ]
     },
     "execution_count": 15,
     "metadata": {},
     "output_type": "execute_result"
    },
    {
     "data": {
      "text/plain": [
       "array(['Not Available', 'Travel Medical Multi Trip (Annual Insurance)',\n",
       "       'Collision Damage Waiver (CDW)', 'Corporate Travel',\n",
       "       'Event Ticket Cancellation', 'Other',\n",
       "       'Standalone Cancellation - Single Trip',\n",
       "       'TPA/Claims Handling / Service Only Products',\n",
       "       'Travel Medical Short Term - Single Trip',\n",
       "       'Travel Package w/o Cancellation Short Term Single Trip',\n",
       "       'Travel Package with Cancellation Multi Trip (Annual Insurance)',\n",
       "       'Travel Package with Cancellation Short Term Single Trip',\n",
       "       'Travel Package w/o Cancellation Multi Trip (Annual Insurance)',\n",
       "       'Travel Package with Cancellation Short Term Single Trip, Travel Package with Cancellation Multi Trip (Annual Insurance)',\n",
       "       'Travel Medical Long term - Single Trip, Travel Package with Cancellation Multi Trip (Annual Insurance), Travel Package with Cancellation Short Term Single Trip',\n",
       "       'Travel Medical Long term - Single Trip',\n",
       "       'Collision Damage Waiver (CDW), Travel Package w/o Cancellation Short Term Single Trip',\n",
       "       'Travel Medical Short Term - Single Trip, Travel Package with Cancellation Short Term Single Trip',\n",
       "       'Standalone Cancellation - Single Trip, Travel Package w/o Cancellation Short Term Single Trip, Travel Package with Cancellation Short Term Single Trip',\n",
       "       'Standalone Cancellation - Single Trip, Travel Package with Cancellation Short Term Single Trip',\n",
       "       'Travel Package with Cancellation Short Term Single Trip, Travel Package w/o Cancellation Short Term Single Trip',\n",
       "       'Standalone Cancellation - Single Trip, Travel Package w/o Cancellation Multi Trip (Annual Insurance), Travel Package w/o Cancellation Short Term Single Trip, Travel Package with Cancellation Short Term Single Trip',\n",
       "       'Travel Package w/o Cancellation Short Term Single Trip, Travel Package with Cancellation Short Term Single Trip',\n",
       "       'Collision Damage Waiver (CDW), Standalone Cancellation - Single Trip, Travel Package w/o Cancellation Multi Trip (Annual Insurance), Travel Package w/o Cancellation Short Term Single Trip, Travel Package with Cancellation Short Term Single Trip',\n",
       "       'Travel Package with Cancellation Short Term Single Trip, Travel Package w/o Cancellation Short Term Single Trip, Standalone Cancellation - Single Trip',\n",
       "       'Travel Package with Cancellation Short Term Single Trip, Travel Package with Cancellation Short Term Single Trip, Travel Package w/o Cancellation Short Term Single Trip, Standalone Cancellation - Single Trip',\n",
       "       'Travel Package with Cancellation Short Term Single Trip, Standalone Cancellation - Single Trip',\n",
       "       'Expatriates',\n",
       "       'Travel Package with Cancellation Short Term Single Trip, Travel Package w/o Cancellation Short Term Single Trip, Travel Medical Short Term - Single Trip',\n",
       "       'Travel Package w/o Cancellation Short Term Single Trip, Standalone Cancellation - Single Trip, Travel Medical Short Term - Single Trip',\n",
       "       'Travel Package w/o Cancellation Short Term Single Trip, Standalone Cancellation - Single Trip',\n",
       "       'Travel Package with Cancellation Short Term Single Trip, Travel Medical Short Term - Single Trip',\n",
       "       'Travel Package with Cancellation Short Term Single Trip, Travel Package w/o Cancellation Short Term Single Trip, Standalone Cancellation - Single Trip, Travel Medical Short Term - Single Trip',\n",
       "       'Travel Package w/o Cancellation Long Term Single Trip',\n",
       "       'Standalone Cancellation - Multi-Trip', 'Tuition'], dtype=object)"
      ]
     },
     "execution_count": 15,
     "metadata": {},
     "output_type": "execute_result"
    }
   ],
   "source": [
    "mults = trandata['sub_lob'][trandata.sub_lob.replace(nan, 'Not Available').str.contains(',', case=False)]\n",
    "mults = mults.unique()\n",
    "\n",
    "trandata['sub_lob'].unique()\n",
    "trandata['sub_lob'] = trandata['sub_lob'].fillna('Not Available')\n",
    "trandata['sub_lob'] = trandata['sub_lob'].replace('', 'Not Available')\n",
    "trandata['sub_lob'] = trandata['sub_lob'].replace('0', 'Not Available')\n",
    "trandata['sub_lob'] = trandata['sub_lob'].replace('0.0', 'Not Available')\n",
    "trandata['distribution_channel'] = trandata['distribution_channel'].replace('', 'Not Available').fillna('Not Available')\n",
    "\n",
    "trandata['sub_lob'].unique()\n"
   ]
  },
  {
   "cell_type": "markdown",
   "id": "244c6d4f",
   "metadata": {
    "papermill": {
     "duration": 0.631706,
     "end_time": "2021-06-11T18:17:27.703606",
     "exception": false,
     "start_time": "2021-06-11T18:17:27.071900",
     "status": "completed"
    },
    "tags": []
   },
   "source": [
    "#### Replace multiple entries in \"Sub Lob\" to \"Multiple\""
   ]
  },
  {
   "cell_type": "code",
   "execution_count": 16,
   "id": "65fd7723",
   "metadata": {
    "execution": {
     "iopub.execute_input": "2021-06-11T18:17:29.111228Z",
     "iopub.status.busy": "2021-06-11T18:17:29.106231Z",
     "iopub.status.idle": "2021-06-11T18:17:29.153228Z",
     "shell.execute_reply": "2021-06-11T18:17:29.154222Z"
    },
    "papermill": {
     "duration": 0.772712,
     "end_time": "2021-06-11T18:17:29.155225",
     "exception": false,
     "start_time": "2021-06-11T18:17:28.382513",
     "status": "completed"
    },
    "pycharm": {
     "name": "#%%\n"
    },
    "tags": []
   },
   "outputs": [],
   "source": [
    "for i in mults:\n",
    "    trandata['sub_lob'] = trandata['sub_lob'].replace(i, 'Multiple')\n",
    "\n",
    "# todo automate figuring out which fields fx rates should be applied to somehow"
   ]
  },
  {
   "cell_type": "markdown",
   "id": "da6a5cb8",
   "metadata": {
    "papermill": {
     "duration": 0.606757,
     "end_time": "2021-06-11T18:17:30.454950",
     "exception": false,
     "start_time": "2021-06-11T18:17:29.848193",
     "status": "completed"
    },
    "tags": []
   },
   "source": [
    "#### Update Verification 3"
   ]
  },
  {
   "cell_type": "code",
   "execution_count": 17,
   "id": "b11f2971",
   "metadata": {
    "execution": {
     "iopub.execute_input": "2021-06-11T18:17:31.811945Z",
     "iopub.status.busy": "2021-06-11T18:17:31.811945Z",
     "iopub.status.idle": "2021-06-11T18:17:32.213111Z",
     "shell.execute_reply": "2021-06-11T18:17:32.213111Z"
    },
    "papermill": {
     "duration": 1.04992,
     "end_time": "2021-06-11T18:17:32.213111",
     "exception": false,
     "start_time": "2021-06-11T18:17:31.163191",
     "status": "completed"
    },
    "pycharm": {
     "name": "#%%\n"
    },
    "tags": []
   },
   "outputs": [],
   "source": [
    "if run_control > -10:\n",
    "\n",
    "    ibus = input.groupby(['Sub LOB']).sum()\n",
    "    ibus = ibus.reset_index()\n",
    "    tbus = trandata.groupby(['sub_lob']).sum()\n",
    "    tbus = tbus.reset_index()\n",
    "\n",
    "    compdatasublob = pd.merge(ibus, tbus, left_on='Sub LOB', right_on='sub_lob', how='outer')\n",
    "\n",
    "    disp1 = pd.DataFrame(\n",
    "        {'Original Sub LOB': compdatasublob['Sub LOB'], 'Transformed Sub LOB': compdatasublob['sub_lob'],\n",
    "         \"Original\": compdatasublob['Earned Revenues net of Taxes'] / 1000,\n",
    "         \"Transformed\": compdatasublob['earned_revenues_net_of_taxes'] / 1000})\n",
    "\n",
    "\n",
    "\n",
    "    tots1 = pd.DataFrame({'Original Total': (input['Earned Revenues net of Taxes']).sum() / 10000,\n",
    "                          \"Transformed Total\": (compdatasublob['earned_revenues_net_of_taxes']).sum() / 10000},\n",
    "                         index=[0])\n",
    "else:\n",
    "    print(\"Skipped Transformation Report 2\")"
   ]
  },
  {
   "cell_type": "markdown",
   "id": "df1bde90",
   "metadata": {
    "papermill": {
     "duration": 0.725027,
     "end_time": "2021-06-11T18:17:33.555799",
     "exception": false,
     "start_time": "2021-06-11T18:17:32.830772",
     "status": "completed"
    },
    "tags": []
   },
   "source": [
    "#### Make cflds, a list of currency fields, force to float, coercion is null or string to 0"
   ]
  },
  {
   "cell_type": "code",
   "execution_count": 18,
   "id": "2d7f3e75",
   "metadata": {
    "execution": {
     "iopub.execute_input": "2021-06-11T18:17:34.865206Z",
     "iopub.status.busy": "2021-06-11T18:17:34.865206Z",
     "iopub.status.idle": "2021-06-11T18:17:35.126147Z",
     "shell.execute_reply": "2021-06-11T18:17:35.127147Z"
    },
    "papermill": {
     "duration": 0.966392,
     "end_time": "2021-06-11T18:17:35.128145",
     "exception": false,
     "start_time": "2021-06-11T18:17:34.161753",
     "status": "completed"
    },
    "pycharm": {
     "name": "#%%\n"
    },
    "tags": []
   },
   "outputs": [
    {
     "data": {
      "text/plain": [
       "0            0.00\n",
       "1            0.00\n",
       "2            0.00\n",
       "3        31328.10\n",
       "4          887.19\n",
       "           ...   \n",
       "13799     3749.00\n",
       "13800      142.00\n",
       "13801      474.00\n",
       "13802        0.00\n",
       "13803      265.00\n",
       "Name: written_revenues_net_of_taxes, Length: 13804, dtype: float64"
      ]
     },
     "execution_count": 18,
     "metadata": {},
     "output_type": "execute_result"
    },
    {
     "data": {
      "text/plain": [
       "0            0.00\n",
       "1            0.00\n",
       "2            0.00\n",
       "3        34776.00\n",
       "4          998.08\n",
       "           ...   \n",
       "13799     3749.00\n",
       "13800      142.00\n",
       "13801      474.00\n",
       "13802        0.00\n",
       "13803      265.00\n",
       "Name: written_revenues, Length: 13804, dtype: float64"
      ]
     },
     "execution_count": 18,
     "metadata": {},
     "output_type": "execute_result"
    },
    {
     "data": {
      "text/plain": [
       "0            0.00\n",
       "1            0.00\n",
       "2            0.00\n",
       "3        31328.10\n",
       "4          887.19\n",
       "           ...   \n",
       "13799        0.00\n",
       "13800        0.00\n",
       "13801        0.00\n",
       "13802       11.00\n",
       "13803        7.00\n",
       "Name: earned_revenues_net_of_taxes, Length: 13804, dtype: float64"
      ]
     },
     "execution_count": 18,
     "metadata": {},
     "output_type": "execute_result"
    },
    {
     "data": {
      "text/plain": [
       "0            0.00\n",
       "1            0.00\n",
       "2            0.00\n",
       "3        34776.00\n",
       "4          998.08\n",
       "           ...   \n",
       "13799        0.00\n",
       "13800        0.00\n",
       "13801        0.00\n",
       "13802       11.00\n",
       "13803        7.00\n",
       "Name: earned_revenues, Length: 13804, dtype: float64"
      ]
     },
     "execution_count": 18,
     "metadata": {},
     "output_type": "execute_result"
    },
    {
     "data": {
      "text/plain": [
       "0           0.00\n",
       "1           0.00\n",
       "2           0.00\n",
       "3        4391.77\n",
       "4         406.87\n",
       "          ...   \n",
       "13799       0.00\n",
       "13800       0.00\n",
       "13801       0.00\n",
       "13802       3.14\n",
       "13803       1.47\n",
       "Name: earned_base_commissions, Length: 13804, dtype: float64"
      ]
     },
     "execution_count": 18,
     "metadata": {},
     "output_type": "execute_result"
    },
    {
     "data": {
      "text/plain": [
       "0        0.00\n",
       "1        0.00\n",
       "2        0.00\n",
       "3        0.00\n",
       "4        0.00\n",
       "         ... \n",
       "13799    0.00\n",
       "13800    0.00\n",
       "13801    0.00\n",
       "13802    0.65\n",
       "13803    0.43\n",
       "Name: earned_over-commissions, Length: 13804, dtype: float64"
      ]
     },
     "execution_count": 18,
     "metadata": {},
     "output_type": "execute_result"
    },
    {
     "data": {
      "text/plain": [
       "0        0.0\n",
       "1        0.0\n",
       "2        0.0\n",
       "3        0.0\n",
       "4        0.0\n",
       "        ... \n",
       "13799    0.0\n",
       "13800    0.0\n",
       "13801    0.0\n",
       "13802    0.0\n",
       "13803    0.0\n",
       "Name: upfront_cash_payments, Length: 13804, dtype: float64"
      ]
     },
     "execution_count": 18,
     "metadata": {},
     "output_type": "execute_result"
    },
    {
     "data": {
      "text/plain": [
       "0           0.00\n",
       "1           0.00\n",
       "2           0.00\n",
       "3        4391.77\n",
       "4         406.87\n",
       "          ...   \n",
       "13799       0.00\n",
       "13800       0.00\n",
       "13801       0.00\n",
       "13802       3.79\n",
       "13803       1.90\n",
       "Name: total_compensation, Length: 13804, dtype: float64"
      ]
     },
     "execution_count": 18,
     "metadata": {},
     "output_type": "execute_result"
    },
    {
     "data": {
      "text/plain": [
       "0        3028.6\n",
       "1           0.0\n",
       "2           0.0\n",
       "3         798.0\n",
       "4         400.0\n",
       "          ...  \n",
       "13799       0.0\n",
       "13800       0.0\n",
       "13801       0.0\n",
       "13802       0.0\n",
       "13803       0.0\n",
       "Name: paid_claims, Length: 13804, dtype: float64"
      ]
     },
     "execution_count": 18,
     "metadata": {},
     "output_type": "execute_result"
    },
    {
     "data": {
      "text/plain": [
       "0       -52275.64\n",
       "1         -100.00\n",
       "2        -1100.00\n",
       "3         1142.94\n",
       "4        -1084.00\n",
       "           ...   \n",
       "13799        0.00\n",
       "13800        0.00\n",
       "13801        0.00\n",
       "13802        0.12\n",
       "13803        0.08\n",
       "Name: ocr_+_ibnr, Length: 13804, dtype: float64"
      ]
     },
     "execution_count": 18,
     "metadata": {},
     "output_type": "execute_result"
    },
    {
     "data": {
      "text/plain": [
       "0       -49247.04\n",
       "1         -100.00\n",
       "2        -1100.00\n",
       "3         1940.94\n",
       "4         -684.00\n",
       "           ...   \n",
       "13799        0.00\n",
       "13800        0.00\n",
       "13801        0.00\n",
       "13802        0.12\n",
       "13803        0.08\n",
       "Name: actual_incurred_losses_(paid_+_ocr_+_ibnr), Length: 13804, dtype: float64"
      ]
     },
     "execution_count": 18,
     "metadata": {},
     "output_type": "execute_result"
    },
    {
     "data": {
      "text/plain": [
       "0           0.000000\n",
       "1           0.000000\n",
       "2           0.000000\n",
       "3        2229.996814\n",
       "4          63.151959\n",
       "            ...     \n",
       "13799       0.000000\n",
       "13800       0.000000\n",
       "13801       0.000000\n",
       "13802       0.720000\n",
       "13803       0.480000\n",
       "Name: internal_variable_costs_(excl._az_tech_fee), Length: 13804, dtype: float64"
      ]
     },
     "execution_count": 18,
     "metadata": {},
     "output_type": "execute_result"
    },
    {
     "data": {
      "text/plain": [
       "0          0.000000\n",
       "1          0.000000\n",
       "2          0.000000\n",
       "3        789.468120\n",
       "4         22.357188\n",
       "            ...    \n",
       "13799      0.000000\n",
       "13800      0.000000\n",
       "13801      0.000000\n",
       "13802      0.000000\n",
       "13803      0.000000\n",
       "Name: az_tech_fee, Length: 13804, dtype: float64"
      ]
     },
     "execution_count": 18,
     "metadata": {},
     "output_type": "execute_result"
    },
    {
     "data": {
      "text/plain": [
       "0           0.000000\n",
       "1           0.000000\n",
       "2           0.000000\n",
       "3        4593.555166\n",
       "4         144.211193\n",
       "            ...     \n",
       "13799       0.000000\n",
       "13800       0.000000\n",
       "13801       0.000000\n",
       "13802       1.210000\n",
       "13803       0.800000\n",
       "Name: internal_fixed_costs_(excl._hq_fees), Length: 13804, dtype: float64"
      ]
     },
     "execution_count": 18,
     "metadata": {},
     "output_type": "execute_result"
    },
    {
     "data": {
      "text/plain": [
       "0           0.0000\n",
       "1           0.0000\n",
       "2           0.0000\n",
       "3        1346.8165\n",
       "4          24.0160\n",
       "           ...    \n",
       "13799       0.0000\n",
       "13800       0.0000\n",
       "13801       0.0000\n",
       "13802       0.2800\n",
       "13803       0.1800\n",
       "Name: hq_fees, Length: 13804, dtype: float64"
      ]
     },
     "execution_count": 18,
     "metadata": {},
     "output_type": "execute_result"
    },
    {
     "data": {
      "text/plain": [
       "0           0.00000\n",
       "1           0.00000\n",
       "2           0.00000\n",
       "3        8959.83660\n",
       "4         253.73634\n",
       "            ...    \n",
       "13799       0.00000\n",
       "13800       0.00000\n",
       "13801       0.00000\n",
       "13802       2.21000\n",
       "13803       1.46000\n",
       "Name: total_expenses, Length: 13804, dtype: float64"
      ]
     },
     "execution_count": 18,
     "metadata": {},
     "output_type": "execute_result"
    },
    {
     "data": {
      "text/plain": [
       "0        0.0\n",
       "1        0.0\n",
       "2        0.0\n",
       "3        0.0\n",
       "4        0.0\n",
       "        ... \n",
       "13799    0.0\n",
       "13800    0.0\n",
       "13801    0.0\n",
       "13802    0.0\n",
       "13803    0.0\n",
       "Name: risk_premium, Length: 13804, dtype: float64"
      ]
     },
     "execution_count": 18,
     "metadata": {},
     "output_type": "execute_result"
    },
    {
     "data": {
      "text/plain": [
       "0        49247.04000\n",
       "1          100.00000\n",
       "2         1100.00000\n",
       "3        16035.55340\n",
       "4          910.58366\n",
       "            ...     \n",
       "13799        0.00000\n",
       "13800        0.00000\n",
       "13801        0.00000\n",
       "13802        4.88000\n",
       "13803        3.56000\n",
       "Name: profit_or_loss, Length: 13804, dtype: float64"
      ]
     },
     "execution_count": 18,
     "metadata": {},
     "output_type": "execute_result"
    },
    {
     "data": {
      "text/plain": [
       "0        49247.040000\n",
       "1          100.000000\n",
       "2         1100.000000\n",
       "3        21975.925066\n",
       "4         1078.810853\n",
       "             ...     \n",
       "13799        0.000000\n",
       "13800        0.000000\n",
       "13801        0.000000\n",
       "13802        6.370000\n",
       "13803        4.540000\n",
       "Name: contribution_margin_-_hq_view, Length: 13804, dtype: float64"
      ]
     },
     "execution_count": 18,
     "metadata": {},
     "output_type": "execute_result"
    },
    {
     "data": {
      "text/plain": [
       "0        49247.040000\n",
       "1          100.000000\n",
       "2         1100.000000\n",
       "3        20629.108566\n",
       "4         1054.794853\n",
       "             ...     \n",
       "13799        0.000000\n",
       "13800        0.000000\n",
       "13801        0.000000\n",
       "13802        6.090000\n",
       "13803        4.360000\n",
       "Name: contribution_margin_-_bu_view, Length: 13804, dtype: float64"
      ]
     },
     "execution_count": 18,
     "metadata": {},
     "output_type": "execute_result"
    }
   ],
   "source": [
    "cflds = ['written_revenues_net_of_taxes', 'written_revenues', 'earned_revenues_net_of_taxes',\n",
    "         'earned_revenues', 'earned_base_commissions', 'earned_over-commissions', 'upfront_cash_payments',\n",
    "         'total_compensation', 'paid_claims', 'ocr_+_ibnr', 'actual_incurred_losses_(paid_+_ocr_+_ibnr)',\n",
    "         'internal_variable_costs_(excl._az_tech_fee)', 'az_tech_fee', 'internal_fixed_costs_(excl._hq_fees)',\n",
    "         'hq_fees', 'total_expenses', 'risk_premium', 'profit_or_loss', 'contribution_margin_-_hq_view',\n",
    "         'contribution_margin_-_bu_view', ]\n",
    "\n",
    "for i in cflds:\n",
    "    pd.to_numeric(trandata[i], errors='coerce')"
   ]
  },
  {
   "cell_type": "markdown",
   "id": "f065b00e",
   "metadata": {
    "papermill": {
     "duration": 0.679941,
     "end_time": "2021-06-11T18:17:36.476629",
     "exception": false,
     "start_time": "2021-06-11T18:17:35.796688",
     "status": "completed"
    },
    "tags": []
   },
   "source": [
    "#### Turn selected columns values uppercase"
   ]
  },
  {
   "cell_type": "code",
   "execution_count": 19,
   "id": "3c499b1b",
   "metadata": {
    "execution": {
     "iopub.execute_input": "2021-06-11T18:17:38.057013Z",
     "iopub.status.busy": "2021-06-11T18:17:38.024774Z",
     "iopub.status.idle": "2021-06-11T18:17:38.138621Z",
     "shell.execute_reply": "2021-06-11T18:17:38.138621Z"
    },
    "papermill": {
     "duration": 0.912019,
     "end_time": "2021-06-11T18:17:38.138621",
     "exception": false,
     "start_time": "2021-06-11T18:17:37.226602",
     "status": "completed"
    },
    "pycharm": {
     "name": "#%%\n"
    },
    "tags": []
   },
   "outputs": [],
   "source": [
    "validcols = ['business_unit', 'currency', 'region', 'type_of_analysis', 'type_of_business', 'type_of_account', 'lob',\n",
    "             'distribution_type', 'distribution_channel', ]\n",
    "\n",
    "for c in validcols:\n",
    "    trandata[c] = trandata[c].astype(str)\n",
    "    trandata[c] = trandata[c].apply(lambda x: x.upper())"
   ]
  },
  {
   "cell_type": "markdown",
   "id": "49be0f01",
   "metadata": {
    "papermill": {
     "duration": 0.802256,
     "end_time": "2021-06-11T18:17:39.686969",
     "exception": false,
     "start_time": "2021-06-11T18:17:38.884713",
     "status": "completed"
    },
    "tags": []
   },
   "source": [
    "#### Read the values from the Global Attribute Catalog, one field per loop iterance and xlsx sheet."
   ]
  },
  {
   "cell_type": "code",
   "execution_count": 20,
   "id": "e5a5778e",
   "metadata": {
    "execution": {
     "iopub.execute_input": "2021-06-11T18:17:41.290970Z",
     "iopub.status.busy": "2021-06-11T18:17:41.284969Z",
     "iopub.status.idle": "2021-06-11T18:17:46.433050Z",
     "shell.execute_reply": "2021-06-11T18:17:46.435054Z"
    },
    "papermill": {
     "duration": 5.99204,
     "end_time": "2021-06-11T18:17:46.435054",
     "exception": false,
     "start_time": "2021-06-11T18:17:40.443014",
     "status": "completed"
    },
    "pycharm": {
     "name": "#%%\n"
    },
    "tags": []
   },
   "outputs": [],
   "source": [
    "checktabs = []\n",
    "\n",
    "\n",
    "\n",
    "for s in validcols:\n",
    "    t = pd.read_excel(atcat, sheet_name = s )\n",
    "    checktabs.append([[s], [t]])\n",
    "\n",
    "gacout = []\n"
   ]
  },
  {
   "cell_type": "markdown",
   "id": "f8ec7865",
   "metadata": {
    "papermill": {
     "duration": 0.525073,
     "end_time": "2021-06-11T18:17:47.455402",
     "exception": false,
     "start_time": "2021-06-11T18:17:46.930329",
     "status": "completed"
    },
    "tags": []
   },
   "source": [
    "#### Compare the lists from the previous step and each field. Find those that do not match, make lists of unique values\n",
    "#### replace any that have replacements in GPPM inoout already, make a list of values without any matches.\n"
   ]
  },
  {
   "cell_type": "code",
   "execution_count": 21,
   "id": "d4836b0c",
   "metadata": {
    "execution": {
     "iopub.execute_input": "2021-06-11T18:17:48.628428Z",
     "iopub.status.busy": "2021-06-11T18:17:48.612808Z",
     "iopub.status.idle": "2021-06-11T18:17:48.824836Z",
     "shell.execute_reply": "2021-06-11T18:17:48.825835Z"
    },
    "papermill": {
     "duration": 0.815918,
     "end_time": "2021-06-11T18:17:48.825835",
     "exception": false,
     "start_time": "2021-06-11T18:17:48.009917",
     "status": "completed"
    },
    "pycharm": {
     "name": "#%%\n"
    },
    "tags": []
   },
   "outputs": [],
   "source": [
    "# todo rewrite this beginner code to use dicts and simplify\n",
    "\n",
    "for u in enumerate(validcols):\n",
    "    trandata.loc[0:len(trandata[u[1]]), u[1]] = trandata[u[1]].replace(\n",
    "        [checktabs[u[0]][1][0]['Upper_Vers']][0].to_numpy(), [checktabs[u[0]][1][0][u[1]]][0].to_numpy())\n",
    "    d = list(checktabs[u[0]][1][0]['Non Matches'].drop_duplicates().dropna().append(\n",
    "        pd.Series(trandata[u[1]][~trandata[u[1]].isin(checktabs[u[0]][1][0][u[1]])].drop_duplicates().dropna()),\n",
    "        ignore_index=True))\n",
    "    g = [checktabs[u[0]][1][0][str(u[1])], checktabs[u[0]][1][0]['Upper_Vers'], checktabs[u[0]][1][0]['Unnamed: 2'],\n",
    "         pd.Series(d, dtype='object').drop_duplicates().dropna(), checktabs[u[0]][1][0]['User Defined Corrections']]\n",
    "    gacout.append(list([g, u[1]]))"
   ]
  },
  {
   "cell_type": "markdown",
   "id": "71df8e01",
   "metadata": {
    "papermill": {
     "duration": 0.639025,
     "end_time": "2021-06-11T18:17:50.079601",
     "exception": false,
     "start_time": "2021-06-11T18:17:49.440576",
     "status": "completed"
    },
    "tags": []
   },
   "source": [
    "#### Rebuild the GPPM input file, with the replaced values in the bad values column of each sheet.\n",
    "#### Step one, make and xlsx with a notes page."
   ]
  },
  {
   "cell_type": "code",
   "execution_count": 22,
   "id": "2f121e06",
   "metadata": {
    "execution": {
     "iopub.execute_input": "2021-06-11T18:17:51.334696Z",
     "iopub.status.busy": "2021-06-11T18:17:51.333696Z",
     "iopub.status.idle": "2021-06-11T18:17:52.030067Z",
     "shell.execute_reply": "2021-06-11T18:17:52.030067Z"
    },
    "papermill": {
     "duration": 1.307308,
     "end_time": "2021-06-11T18:17:52.030067",
     "exception": false,
     "start_time": "2021-06-11T18:17:50.722759",
     "status": "completed"
    },
    "pycharm": {
     "name": "#%%\n"
    },
    "tags": []
   },
   "outputs": [],
   "source": [
    "w = ExcelWriter(atcat)\n",
    "notes = pd.DataFrame([\n",
    "    \"This page is script generated during the source creation process. Do not edit these notes directly in the file as they will be overwritten\",\n",
    "    \"\", \"\"\n",
    "    , \" Purpose :     to manage attribute entries in the data collection process, this workbook documents and organizes all entries and also allows a user to swap those that do \\\n",
    "                        not conform to validation rules  with an entry of their choice\",\n",
    "    \" Each attribute field that requires validation has its own sheet tab\", \"\"\n",
    "    , \"Column A:    of each sheet tab contains all unique acceptable responses\",\n",
    "    \"Column B:    an upper case version, to wrangle case mismatches\",\n",
    "    \"Column D:   is generated by the process, this is a list of an uppercase version of each unique unacceptable response, this builds over time with each collection\",\n",
    "    \"Column E:   you can enter accpetable response here (sase sensitive) to be swapped out in the data, save and exit this file, run the process again and they will be replaced\"\n",
    "    , \"\", \"\", \"Gavin Harmon 9 - July -2020\"])\n",
    "\n",
    "notes.columns = ['Notes']\n",
    "\n",
    "notes.to_excel(w, index=False, sheet_name=\"Notes\")"
   ]
  },
  {
   "cell_type": "markdown",
   "id": "bfe1dc0b",
   "metadata": {
    "papermill": {
     "duration": 0.664005,
     "end_time": "2021-06-11T18:17:53.345841",
     "exception": false,
     "start_time": "2021-06-11T18:17:52.681836",
     "status": "completed"
    },
    "tags": []
   },
   "source": [
    "#### Step two, build the new sheets for each validcols field"
   ]
  },
  {
   "cell_type": "code",
   "execution_count": 23,
   "id": "8e64962c",
   "metadata": {
    "execution": {
     "iopub.execute_input": "2021-06-11T18:17:55.032421Z",
     "iopub.status.busy": "2021-06-11T18:17:54.988422Z",
     "iopub.status.idle": "2021-06-11T18:17:55.776997Z",
     "shell.execute_reply": "2021-06-11T18:17:55.778002Z"
    },
    "papermill": {
     "duration": 1.643227,
     "end_time": "2021-06-11T18:17:55.778996",
     "exception": false,
     "start_time": "2021-06-11T18:17:54.135769",
     "status": "completed"
    },
    "pycharm": {
     "name": "#%%\n"
    },
    "scrolled": true,
    "tags": []
   },
   "outputs": [],
   "source": [
    "for v in enumerate(validcols):\n",
    "    df = pd.DataFrame(gacout[v[0]][0], index=[f\"{v[1]}\", 'Upper_Vers', '', 'Non Matches', 'User Defined Corrections']).T\n",
    "    df.to_excel(w, index=False, sheet_name=gacout[v[0]][1])\n",
    "w.save()"
   ]
  },
  {
   "cell_type": "markdown",
   "id": "a2ba4ed2",
   "metadata": {
    "papermill": {
     "duration": 0.686067,
     "end_time": "2021-06-11T18:17:57.044219",
     "exception": false,
     "start_time": "2021-06-11T18:17:56.358152",
     "status": "completed"
    },
    "tags": []
   },
   "source": [
    "#### Step three, read these lists back in, make the necessary replacements in the DataFrame"
   ]
  },
  {
   "cell_type": "code",
   "execution_count": 24,
   "id": "219783a3",
   "metadata": {
    "execution": {
     "iopub.execute_input": "2021-06-11T18:17:58.541382Z",
     "iopub.status.busy": "2021-06-11T18:17:58.540382Z",
     "iopub.status.idle": "2021-06-11T18:18:03.217153Z",
     "shell.execute_reply": "2021-06-11T18:18:03.218153Z"
    },
    "papermill": {
     "duration": 5.386779,
     "end_time": "2021-06-11T18:18:03.219152",
     "exception": false,
     "start_time": "2021-06-11T18:17:57.832373",
     "status": "completed"
    },
    "pycharm": {
     "name": "#%%\n"
    },
    "tags": []
   },
   "outputs": [],
   "source": [
    "for s in validcols:\n",
    "    t = pd.read_excel(f'//hecate/Insurance_US/Product Development/Product Management/Global PPM/Reporting/Data Collection/Production/{str(percode)}\\\\{str(percode)}_Attribute_Catalog.xlsx', sheet_name = s )\n",
    "    checktabs.append([[s],[t]])"
   ]
  },
  {
   "cell_type": "code",
   "execution_count": 25,
   "id": "75bf11d7",
   "metadata": {
    "execution": {
     "iopub.execute_input": "2021-06-11T18:18:04.549415Z",
     "iopub.status.busy": "2021-06-11T18:18:04.533790Z",
     "iopub.status.idle": "2021-06-11T18:18:04.786852Z",
     "shell.execute_reply": "2021-06-11T18:18:04.789852Z"
    },
    "papermill": {
     "duration": 1.104275,
     "end_time": "2021-06-11T18:18:04.790854",
     "exception": false,
     "start_time": "2021-06-11T18:18:03.686579",
     "status": "completed"
    },
    "pycharm": {
     "name": "#%%\n"
    },
    "tags": []
   },
   "outputs": [],
   "source": [
    "gacout = []\n",
    "\n",
    "for u in enumerate(validcols):\n",
    "    trandata.loc[0:len(trandata[u[1]]), u[1]] = trandata[u[1]].replace(\n",
    "        [checktabs[u[0]][1][0]['Non Matches']][0].to_numpy(),\n",
    "        [checktabs[u[0]][1][0]['User Defined Corrections']][0].to_numpy())\n",
    "repper = trandata[['business_unit', 'reporting_date_to']]\n",
    "repper = pd.DataFrame({\"business_unit\": (repper['business_unit']), \"YearMo\": (repper['reporting_date_to'])})\n",
    "minrep = repper.groupby(['business_unit']).max()\n",
    "a = trandata['business_unit'].replace(list(minrep.axes[0]), minrep.get(\"YearMo\"))\n",
    "trandata['rep_date'] = a\n",
    "trandata.loc[0:len(trandata['business_partner_id_number']), 'business_partner_id_number'] = trandata[\n",
    "    'business_partner_id_number'].replace('0', 'Not Provided').fillna('Not Provided')\n",
    "trandata.loc[0:len(trandata['product_id_number']), 'product_id_number'] = trandata['product_id_number'].replace('0',\n",
    "                                                                                                                'Not Provided').replace(\n",
    "    '-', 'Not Provided').fillna('Not Provided')\n",
    "trandata.loc[0:len(trandata['sub_lob']), 'sub_lob'] = trandata['sub_lob'].replace('0', 'Not Provided').replace('-',\n",
    "                                                                                                               'Not Provided').replace(\n",
    "    'Other', 'Not Provided').fillna('Not Provided')"
   ]
  },
  {
   "cell_type": "markdown",
   "id": "6289e4b9",
   "metadata": {
    "papermill": {
     "duration": 0.67082,
     "end_time": "2021-06-11T18:18:06.260042",
     "exception": false,
     "start_time": "2021-06-11T18:18:05.589222",
     "status": "completed"
    },
    "tags": []
   },
   "source": [
    "#### Evaluate the current state, alert the user if input is needed.\n",
    "- At the end of this process, alert the user with instructions if they need to adjust bad entries for validated fields.\n",
    "\n"
   ]
  },
  {
   "cell_type": "code",
   "execution_count": 26,
   "id": "84e426af",
   "metadata": {
    "execution": {
     "iopub.execute_input": "2021-06-11T18:18:07.579515Z",
     "iopub.status.busy": "2021-06-11T18:18:07.514517Z",
     "iopub.status.idle": "2021-06-11T18:18:12.466229Z",
     "shell.execute_reply": "2021-06-11T18:18:12.468234Z"
    },
    "papermill": {
     "duration": 5.588971,
     "end_time": "2021-06-11T18:18:12.468234",
     "exception": false,
     "start_time": "2021-06-11T18:18:06.879263",
     "status": "completed"
    },
    "tags": []
   },
   "outputs": [],
   "source": [
    "#see above note about converting to dictionaries\n",
    "\n",
    "#Make lists of all the attribute catalog entries that do not have a correction as a list of errors.\n",
    "err_messages = []\n",
    "\n",
    "for idx, i in enumerate(checktabs):\n",
    "    subset_no_nans =  i[1][0][['Non Matches', 'User Defined Corrections']][~i[1][0]['Non Matches'].isna()]\n",
    "    entries = subset_no_nans['Non Matches'][subset_no_nans['User Defined Corrections'].isna()]. tolist()\n",
    "    if len(entries) > 0: \n",
    "        err_messages.append(f'Please deal with bad entries {entries} on tab {i[0][0]} of the Attribute Catalog.')\n",
    "\n",
    "#raise an error to stop the process and give instructions\n",
    "\n",
    "# define Python user-defined exceptions\n",
    "\n",
    "\n",
    "# define Python user-defined exceptions\n",
    "class Error(Exception):\n",
    "    \"\"\"Base class for other exceptions\"\"\"\n",
    "    pass\n",
    "\n",
    "class BadEntriesError(Error):\n",
    "    \"\"\"Raised when the input value is too large\"\"\"\n",
    "    for i in err_messages : print(i)\n",
    "    \n",
    "    os.startfile(atcat)\n",
    "\n",
    "if len(err_messages) > 0:\n",
    "    raise BadEntriesError\n",
    "else:\n",
    "    pass\n",
    "        "
   ]
  },
  {
   "cell_type": "markdown",
   "id": "f7d79faa",
   "metadata": {
    "papermill": {
     "duration": 0.660498,
     "end_time": "2021-06-11T18:18:14.128831",
     "exception": false,
     "start_time": "2021-06-11T18:18:13.468333",
     "status": "completed"
    },
    "tags": []
   },
   "source": [
    "#### Remove empty rows, if there is no claims experience and no revenue for a 12 month period, it should not be included"
   ]
  },
  {
   "cell_type": "code",
   "execution_count": 27,
   "id": "94d9eaf2",
   "metadata": {
    "execution": {
     "iopub.execute_input": "2021-06-11T18:18:15.485591Z",
     "iopub.status.busy": "2021-06-11T18:18:15.460599Z",
     "iopub.status.idle": "2021-06-11T18:18:15.588586Z",
     "shell.execute_reply": "2021-06-11T18:18:15.588586Z"
    },
    "papermill": {
     "duration": 0.813427,
     "end_time": "2021-06-11T18:18:15.588586",
     "exception": false,
     "start_time": "2021-06-11T18:18:14.775159",
     "status": "completed"
    },
    "pycharm": {
     "name": "#%%\n"
    },
    "tags": []
   },
   "outputs": [],
   "source": [
    "trandata = trandata.loc[(trandata['units_of_risk_(written)'].fillna(0).replace('', 0)\n",
    "                         + trandata['written_revenues_net_of_taxes'].fillna(0).replace('', 0)\n",
    "                         + trandata['written_revenues'].fillna(0).replace('', 0)\n",
    "                         + trandata['number_of_policies_(earned)'].fillna(0).replace('', 0)\n",
    "                         + trandata['units_of_risk_(earned)'].fillna(0).replace('', 0)\n",
    "                         + trandata['earned_revenues_net_of_taxes'].fillna(0).replace('', 0)\n",
    "                         + trandata['earned_revenues'].fillna(0).replace('', 0)\n",
    "                         + trandata['earned_base_commissions'].fillna(0).replace('', 0)\n",
    "                         + trandata['upfront_cash_payments'].fillna(0).replace('', 0)\n",
    "                         + trandata['earned_over-commissions'].fillna(0).replace('', 0)\n",
    "                         + trandata['total_compensation'].fillna(0).replace('', 0)\n",
    "                         + trandata['number_of_claims_(paid_+_ocr_+_ibnr)'].fillna(0).replace('', 0)\n",
    "                         + trandata['number_of_open_claims'].fillna(0).replace('', 0)\n",
    "                         + trandata['open_claims_%'].fillna(0).replace('', 0)\n",
    "                         + trandata['number_of_persons_involved_in_claims_(paid_+_ocr_+_ibnr)'].fillna(0).replace('', 0)\n",
    "                         + trandata['paid_claims'].fillna(0).replace('', 0)\n",
    "                         + trandata['ocr_+_ibnr'].fillna(0).replace('', 0)\n",
    "                         + trandata['actual_incurred_losses_(paid_+_ocr_+_ibnr)'].fillna(0).replace('', 0)\n",
    "                         + trandata['internal_variable_costs_(excl._az_tech_fee)'].fillna(0).replace('', 0)\n",
    "                         + trandata['az_tech_fee'].fillna(0).replace('', 0)\n",
    "                         + trandata['internal_fixed_costs_(excl._hq_fees)'].fillna(0).replace('', 0)\n",
    "                         + trandata['hq_fees'].fillna(0).replace('', 0)\n",
    "                         + trandata['total_expenses'].fillna(0).replace('', 0)\n",
    "                         + trandata['frequency_(earned)'].fillna(0).replace('', 0)\n",
    "                         + trandata['severity'].fillna(0).replace('', 0))\n",
    "                        != 0]"
   ]
  },
  {
   "cell_type": "markdown",
   "id": "6d1c2c7e",
   "metadata": {
    "papermill": {
     "duration": 0.743877,
     "end_time": "2021-06-11T18:18:17.021532",
     "exception": false,
     "start_time": "2021-06-11T18:18:16.277655",
     "status": "completed"
    },
    "tags": []
   },
   "source": [
    "#### special edit to fix a 1-row issue from US 2021.Q1 submission"
   ]
  },
  {
   "cell_type": "code",
   "execution_count": 28,
   "id": "c0fc4aab",
   "metadata": {
    "execution": {
     "iopub.execute_input": "2021-06-11T18:18:18.555087Z",
     "iopub.status.busy": "2021-06-11T18:18:18.531647Z",
     "iopub.status.idle": "2021-06-11T18:18:18.562105Z",
     "shell.execute_reply": "2021-06-11T18:18:18.562105Z"
    },
    "papermill": {
     "duration": 0.775816,
     "end_time": "2021-06-11T18:18:18.563061",
     "exception": false,
     "start_time": "2021-06-11T18:18:17.787245",
     "status": "completed"
    },
    "tags": []
   },
   "outputs": [
    {
     "data": {
      "text/plain": [
       "6184    Offline Travel Agencies\n",
       "Name: distribution_type, dtype: object"
      ]
     },
     "execution_count": 28,
     "metadata": {},
     "output_type": "execute_result"
    }
   ],
   "source": [
    "\n",
    "trandata.at[trandata.index[trandata['business_partner_name'] ==    \"Unique Travel\"][0],'distribution_type'] = \"B2B2C\"\n",
    "\n",
    "trandata.at[trandata.index[trandata['business_partner_name'] ==    \"Unique Travel\"][0],'distribution_type'] = \"Offline Travel Agencies\"\n",
    "\n",
    "\n",
    "trandata[ trandata['business_partner_name'] ==    \"Unique Travel\"]['distribution_type']\n",
    "\n",
    "\n"
   ]
  },
  {
   "cell_type": "markdown",
   "id": "49bec167",
   "metadata": {
    "papermill": {
     "duration": 0.72875,
     "end_time": "2021-06-11T18:18:20.328445",
     "exception": false,
     "start_time": "2021-06-11T18:18:19.599695",
     "status": "completed"
    },
    "pycharm": {
     "name": "#%% md\n"
    },
    "tags": []
   },
   "source": [
    "#### Output temp file"
   ]
  },
  {
   "cell_type": "code",
   "execution_count": 29,
   "id": "76a80c7d",
   "metadata": {
    "execution": {
     "iopub.execute_input": "2021-06-11T18:18:21.569577Z",
     "iopub.status.busy": "2021-06-11T18:18:21.569577Z",
     "iopub.status.idle": "2021-06-11T18:19:31.177390Z",
     "shell.execute_reply": "2021-06-11T18:19:31.184386Z"
    },
    "papermill": {
     "duration": 70.25429,
     "end_time": "2021-06-11T18:19:31.185371",
     "exception": false,
     "start_time": "2021-06-11T18:18:20.931081",
     "status": "completed"
    },
    "pycharm": {
     "name": "#%%\n"
    },
    "tags": []
   },
   "outputs": [],
   "source": [
    "# trandata.to_parquet(\n",
    "#     f'//hecate/Insurance_US/Product Development/Product Management/Global PPM/Reporting/Data Collection/Production/{str(percode)}\\\\{str(percode)}.localcur.parquet', engine = \"pyarrow\")\n",
    "\n",
    "trandata.to_csv(\n",
    "    \n",
    "     f'//hecate/Insurance_US/Product Development/Product Management/Global PPM/Reporting/Data Collection/Production/{str(percode)}\\\\{str(percode)}.localcur.csv', index = False)\n"
   ]
  },
  {
   "cell_type": "markdown",
   "id": "fb76adb0",
   "metadata": {
    "papermill": {
     "duration": 0.811423,
     "end_time": "2021-06-11T18:19:32.723307",
     "exception": false,
     "start_time": "2021-06-11T18:19:31.911884",
     "status": "completed"
    },
    "tags": []
   },
   "source": [
    "#### Store the DataFrame for other noteboks to use"
   ]
  },
  {
   "cell_type": "code",
   "execution_count": 30,
   "id": "106245c8",
   "metadata": {
    "execution": {
     "iopub.execute_input": "2021-06-11T18:19:34.227850Z",
     "iopub.status.busy": "2021-06-11T18:19:34.216753Z",
     "iopub.status.idle": "2021-06-11T18:19:34.336100Z",
     "shell.execute_reply": "2021-06-11T18:19:34.335064Z"
    },
    "papermill": {
     "duration": 0.873291,
     "end_time": "2021-06-11T18:19:34.336100",
     "exception": false,
     "start_time": "2021-06-11T18:19:33.462809",
     "status": "completed"
    },
    "tags": []
   },
   "outputs": [
    {
     "name": "stdout",
     "output_type": "stream",
     "text": [
      "Stored 'py_t_df' (DataFrame)\n"
     ]
    }
   ],
   "source": [
    "py_t_df = trandata\n",
    "\n",
    "%store py_t_df\n"
   ]
  }
 ],
 "metadata": {
  "celltoolbar": "Tags",
  "kernelspec": {
   "display_name": "Python 3",
   "language": "python",
   "name": "python3"
  },
  "language_info": {
   "codemirror_mode": {
    "name": "ipython",
    "version": 3
   },
   "file_extension": ".py",
   "mimetype": "text/x-python",
   "name": "python",
   "nbconvert_exporter": "python",
   "pygments_lexer": "ipython3",
   "version": "3.7.6"
  },
  "papermill": {
   "default_parameters": {},
   "duration": 183.713531,
   "end_time": "2021-06-11T18:19:35.542123",
   "environment_variables": {},
   "exception": null,
   "input_path": "pipeline/py_transform.ipynb",
   "output_path": "//hecate/Insurance_US/Product Development/Product Management/Global PPM/Reporting/Data Collection/Pipeline Reporting Scripts/GPMpipeline/instances/2021.Q1\\pipeline\\py_transform06112021134748--live, add IE.ipynb",
   "parameters": {
    "commit_message": "Live run,Late additions EI was not present.",
    "inst_datetime": "06112021134748",
    "percode": "2021.Q1",
    "run_control": 1
   },
   "start_time": "2021-06-11T18:16:31.828592",
   "version": "2.3.3"
  }
 },
 "nbformat": 4,
 "nbformat_minor": 5
}