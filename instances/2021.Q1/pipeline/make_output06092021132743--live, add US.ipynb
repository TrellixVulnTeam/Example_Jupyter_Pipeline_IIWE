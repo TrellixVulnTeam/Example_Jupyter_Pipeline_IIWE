{
 "cells": [
  {
   "cell_type": "markdown",
   "id": "10933b9a",
   "metadata": {
    "papermill": {
     "duration": 0.384018,
     "end_time": "2021-06-09T17:42:44.473933",
     "exception": false,
     "start_time": "2021-06-09T17:42:44.089915",
     "status": "completed"
    },
    "pycharm": {
     "name": "#%% md\n"
    },
    "tags": []
   },
   "source": [
    "<img src=\"../images/AzPTravel_PPM.png\">"
   ]
  },
  {
   "cell_type": "markdown",
   "id": "a2b52d7a",
   "metadata": {
    "papermill": {
     "duration": 0.397996,
     "end_time": "2021-06-09T17:42:45.225523",
     "exception": false,
     "start_time": "2021-06-09T17:42:44.827527",
     "status": "completed"
    },
    "tags": []
   },
   "source": [
    "## GPM Pipeline Output maker\n",
    "\n",
    "#### This script\n",
    "- loads the transformed parquet file\n",
    "- creates the file {parquet}.localcur.csv\n",
    "- makes the Euro conversions\n",
    "- outputs {parquet}.euroconv.csv\n"
   ]
  },
  {
   "cell_type": "markdown",
   "id": "f02d946b",
   "metadata": {
    "papermill": {
     "duration": 0.529099,
     "end_time": "2021-06-09T17:42:46.147760",
     "exception": false,
     "start_time": "2021-06-09T17:42:45.618661",
     "status": "completed"
    },
    "tags": []
   },
   "source": [
    "#### Parameters section"
   ]
  },
  {
   "cell_type": "code",
   "execution_count": 1,
   "id": "357c425e",
   "metadata": {
    "execution": {
     "iopub.execute_input": "2021-06-09T17:42:47.272168Z",
     "iopub.status.busy": "2021-06-09T17:42:47.228105Z",
     "iopub.status.idle": "2021-06-09T17:42:47.286172Z",
     "shell.execute_reply": "2021-06-09T17:42:47.367707Z"
    },
    "papermill": {
     "duration": 0.671147,
     "end_time": "2021-06-09T17:42:47.368695",
     "exception": false,
     "start_time": "2021-06-09T17:42:46.697548",
     "status": "completed"
    },
    "pycharm": {
     "name": "#%%\n"
    },
    "tags": [
     "parameters"
    ]
   },
   "outputs": [],
   "source": [
    "commit = \"\"\n",
    "# give a reason for the run\n",
    "\n",
    "percode = \"20XX.QX\"\n",
    "# Data Collection Code, this controls file paths and output names\n",
    "\n",
    "run_type = 1\n",
    "#run_type =  0 - lite run with no reporting, not recommended.\n",
    "#run_type =  1 - lite run with normal reporting, default setting.\n",
    "#run_type =  2 - Heavy run with full reporting, available for audits and troubleshooting.\n",
    "\n",
    "specialchars = \"-GTHtest\"\n",
    "# optional - add up to a 12 character code in order to mark your instance record .ipynb\n",
    "\n",
    "from datetime import datetime\n",
    "inst_datetime = datetime.now().strftime(\"%m%d%Y%H%M%S\")\n",
    "# a single datetime stamp for the full instance run\n"
   ]
  },
  {
   "cell_type": "code",
   "execution_count": 2,
   "id": "d51f8e07",
   "metadata": {
    "execution": {
     "iopub.execute_input": "2021-06-09T17:42:48.377098Z",
     "iopub.status.busy": "2021-06-09T17:42:48.372084Z",
     "iopub.status.idle": "2021-06-09T17:42:48.390094Z",
     "shell.execute_reply": "2021-06-09T17:42:48.387095Z"
    },
    "papermill": {
     "duration": 0.438015,
     "end_time": "2021-06-09T17:42:48.391093",
     "exception": false,
     "start_time": "2021-06-09T17:42:47.953078",
     "status": "completed"
    },
    "tags": [
     "injected-parameters"
    ]
   },
   "outputs": [],
   "source": [
    "# Parameters\n",
    "run_control = 1\n",
    "percode = \"2021.Q1\"\n",
    "commit_message = \"Live run,Late additions EI, CH, PTupdate, and DE.\"\n",
    "inst_datetime = \"06092021132743\"\n"
   ]
  },
  {
   "cell_type": "markdown",
   "id": "8ed00054",
   "metadata": {
    "papermill": {
     "duration": 0.417531,
     "end_time": "2021-06-09T17:42:49.199620",
     "exception": false,
     "start_time": "2021-06-09T17:42:48.782089",
     "status": "completed"
    },
    "tags": []
   },
   "source": [
    "### Set Run Control\n",
    "\n",
    "##### 0 - lite run with no reporting, not recommended.\n",
    "##### 1 - lite run with normal reporting, default setting.\n",
    "##### 2 - Heavy run with full reporting, available for audits and troubleshooting."
   ]
  },
  {
   "cell_type": "code",
   "execution_count": 3,
   "id": "959facc4",
   "metadata": {
    "execution": {
     "iopub.execute_input": "2021-06-09T17:42:49.963972Z",
     "iopub.status.busy": "2021-06-09T17:42:49.962974Z",
     "iopub.status.idle": "2021-06-09T17:42:49.967982Z",
     "shell.execute_reply": "2021-06-09T17:42:49.968973Z"
    },
    "papermill": {
     "duration": 0.415955,
     "end_time": "2021-06-09T17:42:49.969971",
     "exception": false,
     "start_time": "2021-06-09T17:42:49.554016",
     "status": "completed"
    },
    "pycharm": {
     "name": "#%%\n"
    },
    "tags": []
   },
   "outputs": [],
   "source": [
    "run_control = 0 # in development mode"
   ]
  },
  {
   "cell_type": "markdown",
   "id": "b30b2c16",
   "metadata": {
    "papermill": {
     "duration": 0.459314,
     "end_time": "2021-06-09T17:42:50.760193",
     "exception": false,
     "start_time": "2021-06-09T17:42:50.300879",
     "status": "completed"
    },
    "tags": []
   },
   "source": [
    "#### Packages used"
   ]
  },
  {
   "cell_type": "code",
   "execution_count": 4,
   "id": "0c8a3424",
   "metadata": {
    "execution": {
     "iopub.execute_input": "2021-06-09T17:42:51.539107Z",
     "iopub.status.busy": "2021-06-09T17:42:51.539107Z",
     "iopub.status.idle": "2021-06-09T17:42:55.647577Z",
     "shell.execute_reply": "2021-06-09T17:42:55.663199Z"
    },
    "papermill": {
     "duration": 4.539851,
     "end_time": "2021-06-09T17:42:55.663199",
     "exception": false,
     "start_time": "2021-06-09T17:42:51.123348",
     "status": "completed"
    },
    "pycharm": {
     "name": "#%%\n"
    },
    "tags": []
   },
   "outputs": [],
   "source": [
    "import sys\n",
    "import os\n",
    "import pandas as pd"
   ]
  },
  {
   "cell_type": "code",
   "execution_count": 5,
   "id": "eb30501a",
   "metadata": {
    "execution": {
     "iopub.execute_input": "2021-06-09T17:42:56.516599Z",
     "iopub.status.busy": "2021-06-09T17:42:56.509600Z",
     "iopub.status.idle": "2021-06-09T17:42:56.518600Z",
     "shell.execute_reply": "2021-06-09T17:42:56.511601Z"
    },
    "papermill": {
     "duration": 0.414473,
     "end_time": "2021-06-09T17:42:56.519601",
     "exception": false,
     "start_time": "2021-06-09T17:42:56.105128",
     "status": "completed"
    },
    "pycharm": {
     "name": "#%%\n"
    },
    "tags": []
   },
   "outputs": [],
   "source": [
    "default_DC = \"2021.Q1\"\n",
    "\n",
    "try:\n",
    "    if sys.argv[1] == \"-f\":\n",
    "        percode = default_DC\n",
    "    else:\n",
    "        percode = sys.argv[1]\n",
    "\n",
    "except IndexError:\n",
    "    percode = default_DC\n",
    "except NameError:\n",
    "    percode = default_DC"
   ]
  },
  {
   "cell_type": "markdown",
   "id": "5a99aa2d",
   "metadata": {
    "papermill": {
     "duration": 0.351671,
     "end_time": "2021-06-09T17:42:57.252272",
     "exception": false,
     "start_time": "2021-06-09T17:42:56.900601",
     "status": "completed"
    },
    "tags": []
   },
   "source": [
    "#### Convert paths and files to variables.\n",
    "#### Read data into pd DataFrames.\n",
    "#### Make paths for the live sources."
   ]
  },
  {
   "cell_type": "code",
   "execution_count": 6,
   "id": "33aa8857",
   "metadata": {
    "execution": {
     "iopub.execute_input": "2021-06-09T17:42:58.020512Z",
     "iopub.status.busy": "2021-06-09T17:42:58.004402Z",
     "iopub.status.idle": "2021-06-09T17:42:58.024743Z",
     "shell.execute_reply": "2021-06-09T17:42:58.026819Z"
    },
    "papermill": {
     "duration": 0.427097,
     "end_time": "2021-06-09T17:42:58.026819",
     "exception": false,
     "start_time": "2021-06-09T17:42:57.599722",
     "status": "completed"
    },
    "pycharm": {
     "name": "#%%\n"
    },
    "tags": []
   },
   "outputs": [],
   "source": [
    "rt_path = os.path.join('\\\\\\\\hecate\\\\Insurance_US\\\\Product Development\\\\Product Management\\\\Global PPM\\\\Reporting\\\\Data Collection\\\\Production',percode)\n",
    "\n",
    "tempfile = os.path.join(rt_path, f'{percode}.localcur.csv')\n",
    "\n",
    "gppm_file = os.path.join(rt_path, f'GPPM_Input_{str(percode)}.xlsx')\n",
    "\n"
   ]
  },
  {
   "cell_type": "markdown",
   "id": "a71f1f58",
   "metadata": {
    "papermill": {
     "duration": 0.36453,
     "end_time": "2021-06-09T17:42:58.753336",
     "exception": false,
     "start_time": "2021-06-09T17:42:58.388806",
     "status": "completed"
    },
    "tags": []
   },
   "source": [
    "### Make Files"
   ]
  },
  {
   "cell_type": "code",
   "execution_count": 7,
   "id": "0311704c",
   "metadata": {
    "execution": {
     "iopub.execute_input": "2021-06-09T17:42:59.586666Z",
     "iopub.status.busy": "2021-06-09T17:42:59.586666Z",
     "iopub.status.idle": "2021-06-09T17:42:59.602328Z",
     "shell.execute_reply": "2021-06-09T17:42:59.602328Z"
    },
    "papermill": {
     "duration": 0.466054,
     "end_time": "2021-06-09T17:42:59.602328",
     "exception": false,
     "start_time": "2021-06-09T17:42:59.136274",
     "status": "completed"
    },
    "tags": []
   },
   "outputs": [],
   "source": [
    "local_file = f'{percode}.localcur.csv'\n",
    "euro_file = f'{percode}.euroconv.csv'\n",
    "\n"
   ]
  },
  {
   "cell_type": "markdown",
   "id": "f838c6a1",
   "metadata": {
    "papermill": {
     "duration": 0.480662,
     "end_time": "2021-06-09T17:43:00.584066",
     "exception": false,
     "start_time": "2021-06-09T17:43:00.103404",
     "status": "completed"
    },
    "tags": []
   },
   "source": [
    "#### Read source"
   ]
  },
  {
   "cell_type": "code",
   "execution_count": 8,
   "id": "7fc4f3fa",
   "metadata": {
    "execution": {
     "iopub.execute_input": "2021-06-09T17:43:01.475599Z",
     "iopub.status.busy": "2021-06-09T17:43:01.468003Z",
     "iopub.status.idle": "2021-06-09T17:43:14.182969Z",
     "shell.execute_reply": "2021-06-09T17:43:14.182969Z"
    },
    "papermill": {
     "duration": 13.147151,
     "end_time": "2021-06-09T17:43:14.182969",
     "exception": false,
     "start_time": "2021-06-09T17:43:01.035818",
     "status": "completed"
    },
    "pycharm": {
     "name": "#%%\n"
    },
    "tags": []
   },
   "outputs": [],
   "source": [
    "\n",
    "mo_input = pd.read_csv(tempfile, engine='python')\n",
    "\n",
    "\n",
    "\"\"\"reads in the input for the Euro conversion\"\"\"\n",
    "euro = pd.read_excel(gppm_file, sheet_name=\"Euro_Rates\")\n"
   ]
  },
  {
   "cell_type": "markdown",
   "id": "ef3f0e20",
   "metadata": {
    "papermill": {
     "duration": 0.35023,
     "end_time": "2021-06-09T17:43:14.872114",
     "exception": false,
     "start_time": "2021-06-09T17:43:14.521884",
     "status": "completed"
    },
    "tags": []
   },
   "source": [
    "#### Output local currency csv"
   ]
  },
  {
   "cell_type": "code",
   "execution_count": 9,
   "id": "5f30ec0c",
   "metadata": {
    "execution": {
     "iopub.execute_input": "2021-06-09T17:43:15.707223Z",
     "iopub.status.busy": "2021-06-09T17:43:15.707223Z",
     "iopub.status.idle": "2021-06-09T17:44:30.572039Z",
     "shell.execute_reply": "2021-06-09T17:44:30.574039Z"
    },
    "papermill": {
     "duration": 75.299352,
     "end_time": "2021-06-09T17:44:30.574039",
     "exception": false,
     "start_time": "2021-06-09T17:43:15.274687",
     "status": "completed"
    },
    "pycharm": {
     "is_executing": true,
     "name": "#%%\n"
    },
    "tags": []
   },
   "outputs": [],
   "source": [
    "mo_input.to_csv(os.path.join(rt_path,local_file), ',', index=False, encoding='utf-8-sig')"
   ]
  },
  {
   "cell_type": "markdown",
   "id": "fe776908",
   "metadata": {
    "papermill": {
     "duration": 0.381136,
     "end_time": "2021-06-09T17:44:31.477349",
     "exception": false,
     "start_time": "2021-06-09T17:44:31.096213",
     "status": "completed"
    },
    "tags": []
   },
   "source": [
    "#### Convert all currency to Euro\n"
   ]
  },
  {
   "cell_type": "code",
   "execution_count": 10,
   "id": "8eff35a0",
   "metadata": {
    "execution": {
     "iopub.execute_input": "2021-06-09T17:44:32.299103Z",
     "iopub.status.busy": "2021-06-09T17:44:32.298099Z",
     "iopub.status.idle": "2021-06-09T17:44:32.302099Z",
     "shell.execute_reply": "2021-06-09T17:44:32.303101Z"
    },
    "papermill": {
     "duration": 0.425681,
     "end_time": "2021-06-09T17:44:32.304101",
     "exception": false,
     "start_time": "2021-06-09T17:44:31.878420",
     "status": "completed"
    },
    "pycharm": {
     "is_executing": true,
     "name": "#%%\n"
    },
    "tags": []
   },
   "outputs": [],
   "source": [
    "\n",
    "\n",
    "cflds = ['written_revenues_net_of_taxes', 'written_revenues', 'earned_revenues_net_of_taxes',\n",
    "         'earned_revenues', 'earned_base_commissions', 'earned_over_commissions', 'upfront_cash_payments',\n",
    "         'total_compensation', 'paid_claims', 'ocr__ibnr', 'actual_incurred_losses',\n",
    "         'internal_variable_costs', 'az_tech_fee', 'internal_fixed_costs',\n",
    "         'hq_fees', 'total_expenses', 'risk_premium', 'profit_or_loss', 'cm_hq_view', 'cm_bu_view', ]\n",
    "\n",
    "alt_cflds = ['written_revenues_net_of_taxes', 'written_revenues', 'earned_revenues_net_of_taxes',\n",
    "         'earned_revenues', 'earned_base_commissions', 'earned_over-commissions', 'upfront_cash_payments',\n",
    "         'total_compensation', 'paid_claims', 'ocr_+_ibnr','actual_incurred_losses_(paid_+_ocr_+_ibnr)',\n",
    "         'internal_variable_costs_(excl._az_tech_fee)', 'az_tech_fee', 'internal_fixed_costs_(excl._hq_fees)',\n",
    "         'hq_fees', 'total_expenses', 'risk_premium', 'profit_or_loss', 'contribution_margin_-_hq_view', 'contribution_margin_-_bu_view', ]\n",
    "\n",
    "\n",
    "\n"
   ]
  },
  {
   "cell_type": "markdown",
   "id": "3c84ad11",
   "metadata": {
    "papermill": {
     "duration": 0.43168,
     "end_time": "2021-06-09T17:44:33.068744",
     "exception": false,
     "start_time": "2021-06-09T17:44:32.637064",
     "status": "completed"
    },
    "tags": []
   },
   "source": [
    "#### Make a copy for debug purposes"
   ]
  },
  {
   "cell_type": "code",
   "execution_count": 11,
   "id": "81251a2c",
   "metadata": {
    "execution": {
     "iopub.execute_input": "2021-06-09T17:44:33.867271Z",
     "iopub.status.busy": "2021-06-09T17:44:33.867271Z",
     "iopub.status.idle": "2021-06-09T17:44:33.891909Z",
     "shell.execute_reply": "2021-06-09T17:44:33.889918Z"
    },
    "papermill": {
     "duration": 0.44139,
     "end_time": "2021-06-09T17:44:33.891909",
     "exception": false,
     "start_time": "2021-06-09T17:44:33.450519",
     "status": "completed"
    },
    "pycharm": {
     "is_executing": true,
     "name": "#%%\n"
    },
    "tags": []
   },
   "outputs": [],
   "source": [
    "trandata = mo_input.copy()"
   ]
  },
  {
   "cell_type": "markdown",
   "id": "d9fc9df9",
   "metadata": {
    "papermill": {
     "duration": 0.455627,
     "end_time": "2021-06-09T17:44:34.743370",
     "exception": false,
     "start_time": "2021-06-09T17:44:34.287743",
     "status": "completed"
    },
    "tags": []
   },
   "source": [
    "#### Convert Currency Below"
   ]
  },
  {
   "cell_type": "code",
   "execution_count": 12,
   "id": "c1546076",
   "metadata": {
    "execution": {
     "iopub.execute_input": "2021-06-09T17:44:35.706613Z",
     "iopub.status.busy": "2021-06-09T17:44:35.706613Z",
     "iopub.status.idle": "2021-06-09T17:44:35.722254Z",
     "shell.execute_reply": "2021-06-09T17:44:35.722254Z"
    },
    "papermill": {
     "duration": 0.519852,
     "end_time": "2021-06-09T17:44:35.722254",
     "exception": false,
     "start_time": "2021-06-09T17:44:35.202402",
     "status": "completed"
    },
    "pycharm": {
     "is_executing": true,
     "name": "#%%\n"
    },
    "tags": []
   },
   "outputs": [],
   "source": [
    "# create DataFrame of unique currencies with rates\n",
    "\n",
    "fx_uni = euro[['CURR_CODE','RATE']]\n",
    "fx_uni = fx_uni.drop_duplicates()"
   ]
  },
  {
   "cell_type": "code",
   "execution_count": 13,
   "id": "f39cc37d",
   "metadata": {
    "execution": {
     "iopub.execute_input": "2021-06-09T17:44:36.520378Z",
     "iopub.status.busy": "2021-06-09T17:44:36.514377Z",
     "iopub.status.idle": "2021-06-09T17:44:36.709221Z",
     "shell.execute_reply": "2021-06-09T17:44:36.710183Z"
    },
    "papermill": {
     "duration": 0.619988,
     "end_time": "2021-06-09T17:44:36.710183",
     "exception": false,
     "start_time": "2021-06-09T17:44:36.090195",
     "status": "completed"
    },
    "pycharm": {
     "is_executing": true,
     "name": "#%%\n"
    },
    "tags": []
   },
   "outputs": [],
   "source": [
    "# add euro conversion rates to trandata DataFrame as column 'eur_rate'\n",
    "\n",
    "fx_uni = fx_uni.rename(columns = {\"CURR_CODE\":\"currency\"})\n",
    "\n",
    "eurdata = trandata.merge(fx_uni, how='left', left_on='currency', right_on='currency')\n",
    "\n",
    "\n",
    "trandata['eur_rate'] = eurdata['RATE']\n"
   ]
  },
  {
   "cell_type": "markdown",
   "id": "824986fa",
   "metadata": {
    "papermill": {
     "duration": 0.460011,
     "end_time": "2021-06-09T17:44:37.610458",
     "exception": false,
     "start_time": "2021-06-09T17:44:37.150447",
     "status": "completed"
    },
    "tags": []
   },
   "source": [
    "#### Convert currency fields"
   ]
  },
  {
   "cell_type": "code",
   "execution_count": 14,
   "id": "010ed517",
   "metadata": {
    "execution": {
     "iopub.execute_input": "2021-06-09T17:44:38.592682Z",
     "iopub.status.busy": "2021-06-09T17:44:38.592682Z",
     "iopub.status.idle": "2021-06-09T17:44:39.572277Z",
     "shell.execute_reply": "2021-06-09T17:44:39.572277Z"
    },
    "papermill": {
     "duration": 1.480344,
     "end_time": "2021-06-09T17:44:39.572277",
     "exception": false,
     "start_time": "2021-06-09T17:44:38.091933",
     "status": "completed"
    },
    "pycharm": {
     "is_executing": true,
     "name": "#%%\n"
    },
    "tags": []
   },
   "outputs": [],
   "source": [
    "try:\n",
    "    trandata[cflds] = trandata[cflds].divide(trandata['eur_rate'], axis=\"index\").fillna(0)\n",
    "\n",
    "except KeyError:\n",
    "    trandata[alt_cflds] = trandata[alt_cflds].divide(trandata['eur_rate'], axis=\"index\").fillna(0)\n",
    "\n",
    "    \n"
   ]
  },
  {
   "cell_type": "markdown",
   "id": "cd1936f4",
   "metadata": {
    "papermill": {
     "duration": 0.390748,
     "end_time": "2021-06-09T17:44:40.357502",
     "exception": false,
     "start_time": "2021-06-09T17:44:39.966754",
     "status": "completed"
    },
    "tags": []
   },
   "source": [
    "#### Output to {percode}.euroconv.csv"
   ]
  },
  {
   "cell_type": "code",
   "execution_count": 15,
   "id": "9baed87e",
   "metadata": {
    "execution": {
     "iopub.execute_input": "2021-06-09T17:44:41.405924Z",
     "iopub.status.busy": "2021-06-09T17:44:41.400913Z",
     "iopub.status.idle": "2021-06-09T17:46:03.597155Z",
     "shell.execute_reply": "2021-06-09T17:46:03.597155Z"
    },
    "papermill": {
     "duration": 82.777129,
     "end_time": "2021-06-09T17:46:03.597155",
     "exception": false,
     "start_time": "2021-06-09T17:44:40.820026",
     "status": "completed"
    },
    "pycharm": {
     "is_executing": true,
     "name": "#%%\n"
    },
    "tags": []
   },
   "outputs": [],
   "source": [
    "trandata.to_csv( os.path.join(   rt_path , euro_file) , ',', index=False, encoding='utf-8-sig')\n"
   ]
  },
  {
   "cell_type": "code",
   "execution_count": 16,
   "id": "5cd64df4",
   "metadata": {
    "execution": {
     "iopub.execute_input": "2021-06-09T17:46:04.615034Z",
     "iopub.status.busy": "2021-06-09T17:46:04.610048Z",
     "iopub.status.idle": "2021-06-09T17:46:04.636031Z",
     "shell.execute_reply": "2021-06-09T17:46:04.640034Z"
    },
    "papermill": {
     "duration": 0.500234,
     "end_time": "2021-06-09T17:46:04.642038",
     "exception": false,
     "start_time": "2021-06-09T17:46:04.141804",
     "status": "completed"
    },
    "tags": []
   },
   "outputs": [],
   "source": [
    "#### Store the DataFrame for other notebooks to use and open the file location for the user to view the new files"
   ]
  },
  {
   "cell_type": "code",
   "execution_count": 17,
   "id": "07b39778",
   "metadata": {
    "execution": {
     "iopub.execute_input": "2021-06-09T17:46:05.545610Z",
     "iopub.status.busy": "2021-06-09T17:46:05.542487Z",
     "iopub.status.idle": "2021-06-09T17:46:06.022095Z",
     "shell.execute_reply": "2021-06-09T17:46:06.022095Z"
    },
    "papermill": {
     "duration": 0.96706,
     "end_time": "2021-06-09T17:46:06.022095",
     "exception": false,
     "start_time": "2021-06-09T17:46:05.055035",
     "status": "completed"
    },
    "tags": []
   },
   "outputs": [
    {
     "name": "stdout",
     "output_type": "stream",
     "text": [
      "Stored 'mo_df' (DataFrame)\n"
     ]
    }
   ],
   "source": [
    "mo_df = trandata\n",
    "\n",
    "%store mo_df\n",
    "\n",
    "\n",
    "os.startfile( rt_path   )\n",
    "\n"
   ]
  },
  {
   "cell_type": "code",
   "execution_count": null,
   "id": "b8e9d995",
   "metadata": {
    "papermill": {
     "duration": 0.423692,
     "end_time": "2021-06-09T17:46:06.800698",
     "exception": false,
     "start_time": "2021-06-09T17:46:06.377006",
     "status": "completed"
    },
    "tags": []
   },
   "outputs": [],
   "source": []
  }
 ],
 "metadata": {
  "celltoolbar": "Tags",
  "kernelspec": {
   "display_name": "Python 3",
   "language": "python",
   "name": "python3"
  },
  "language_info": {
   "codemirror_mode": {
    "name": "ipython",
    "version": 3
   },
   "file_extension": ".py",
   "mimetype": "text/x-python",
   "name": "python",
   "nbconvert_exporter": "python",
   "pygments_lexer": "ipython3",
   "version": "3.7.6"
  },
  "papermill": {
   "default_parameters": {},
   "duration": 227.341804,
   "end_time": "2021-06-09T17:46:08.737220",
   "environment_variables": {},
   "exception": null,
   "input_path": "pipeline/make_output.ipynb",
   "output_path": "//hecate/Insurance_US/Product Development/Product Management/Global PPM/Reporting/Data Collection/Pipeline Reporting Scripts/GPMpipeline/instances/2021.Q1\\pipeline\\make_output06092021132743--live, add US.ipynb",
   "parameters": {
    "commit_message": "Live run,Late additions EI, CH, PTupdate, and DE.",
    "inst_datetime": "06092021132743",
    "percode": "2021.Q1",
    "run_control": 1
   },
   "start_time": "2021-06-09T17:42:21.395416",
   "version": "2.3.3"
  }
 },
 "nbformat": 4,
 "nbformat_minor": 5
}