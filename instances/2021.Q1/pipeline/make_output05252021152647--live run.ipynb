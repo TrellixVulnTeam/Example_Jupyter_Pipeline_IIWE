{
 "cells": [
  {
   "cell_type": "markdown",
   "id": "87a0b40c",
   "metadata": {
    "papermill": {
     "duration": 0.210209,
     "end_time": "2021-05-25T19:39:35.452589",
     "exception": false,
     "start_time": "2021-05-25T19:39:35.242380",
     "status": "completed"
    },
    "pycharm": {
     "name": "#%% md\n"
    },
    "tags": []
   },
   "source": [
    "<img src=\"../images/AzPTravel_PPM.png\">"
   ]
  },
  {
   "cell_type": "markdown",
   "id": "eae2e83e",
   "metadata": {
    "papermill": {
     "duration": 0.299749,
     "end_time": "2021-05-25T19:39:35.989902",
     "exception": false,
     "start_time": "2021-05-25T19:39:35.690153",
     "status": "completed"
    },
    "tags": []
   },
   "source": [
    "## GPM Pipeline Output maker\n",
    "\n",
    "#### This script\n",
    "- loads the transformed parquet file\n",
    "- creates the file {parquet}.localcur.csv\n",
    "- makes the Euro conversions\n",
    "- outputs {parquet}.euroconv.csv\n"
   ]
  },
  {
   "cell_type": "markdown",
   "id": "5ee8bee3",
   "metadata": {
    "papermill": {
     "duration": 0.193518,
     "end_time": "2021-05-25T19:39:36.426699",
     "exception": false,
     "start_time": "2021-05-25T19:39:36.233181",
     "status": "completed"
    },
    "tags": []
   },
   "source": [
    "#### Parameters section"
   ]
  },
  {
   "cell_type": "code",
   "execution_count": 1,
   "id": "ac27fe39",
   "metadata": {
    "execution": {
     "iopub.execute_input": "2021-05-25T19:39:36.837404Z",
     "iopub.status.busy": "2021-05-25T19:39:36.833400Z",
     "iopub.status.idle": "2021-05-25T19:39:36.844399Z",
     "shell.execute_reply": "2021-05-25T19:39:36.845400Z"
    },
    "papermill": {
     "duration": 0.216663,
     "end_time": "2021-05-25T19:39:36.846407",
     "exception": false,
     "start_time": "2021-05-25T19:39:36.629744",
     "status": "completed"
    },
    "pycharm": {
     "name": "#%%\n"
    },
    "tags": [
     "parameters"
    ]
   },
   "outputs": [],
   "source": [
    "commit = \"\"\n",
    "# give a reason for the run\n",
    "\n",
    "percode = \"20XX.QX\"\n",
    "# Data Collection Code, this controls file paths and output names\n",
    "\n",
    "run_type = 1\n",
    "#run_type =  0 - lite run with no reporting, not recommended.\n",
    "#run_type =  1 - lite run with normal reporting, default setting.\n",
    "#run_type =  2 - Heavy run with full reporting, available for audits and troubleshooting.\n",
    "\n",
    "specialchars = \"-GTHtest\"\n",
    "# optional - add up to a 12 character code in order to mark your instance record .ipynb\n",
    "\n",
    "from datetime import datetime\n",
    "inst_datetime = datetime.now().strftime(\"%m%d%Y%H%M%S\")\n",
    "# a single datetime stamp for the full instance run\n"
   ]
  },
  {
   "cell_type": "code",
   "execution_count": 2,
   "id": "54c052a5",
   "metadata": {
    "execution": {
     "iopub.execute_input": "2021-05-25T19:39:37.216413Z",
     "iopub.status.busy": "2021-05-25T19:39:37.212406Z",
     "iopub.status.idle": "2021-05-25T19:39:37.226421Z",
     "shell.execute_reply": "2021-05-25T19:39:37.227400Z"
    },
    "papermill": {
     "duration": 0.2,
     "end_time": "2021-05-25T19:39:37.228400",
     "exception": false,
     "start_time": "2021-05-25T19:39:37.028400",
     "status": "completed"
    },
    "tags": [
     "injected-parameters"
    ]
   },
   "outputs": [],
   "source": [
    "# Parameters\n",
    "run_control = 1\n",
    "percode = \"2021.Q1\"\n",
    "commit_message = \"Edited data for Austraila, json 2 parquet and add comments from email. Begin general evaluation of data submissions.\"\n",
    "inst_datetime = \"05252021152647\"\n"
   ]
  },
  {
   "cell_type": "markdown",
   "id": "6f549a6f",
   "metadata": {
    "papermill": {
     "duration": 0.180975,
     "end_time": "2021-05-25T19:39:37.595109",
     "exception": false,
     "start_time": "2021-05-25T19:39:37.414134",
     "status": "completed"
    },
    "tags": []
   },
   "source": [
    "### Set Run Control\n",
    "\n",
    "##### 0 - lite run with no reporting, not recommended.\n",
    "##### 1 - lite run with normal reporting, default setting.\n",
    "##### 2 - Heavy run with full reporting, available for audits and troubleshooting."
   ]
  },
  {
   "cell_type": "code",
   "execution_count": 3,
   "id": "8220442c",
   "metadata": {
    "execution": {
     "iopub.execute_input": "2021-05-25T19:39:38.001130Z",
     "iopub.status.busy": "2021-05-25T19:39:38.000111Z",
     "iopub.status.idle": "2021-05-25T19:39:38.008114Z",
     "shell.execute_reply": "2021-05-25T19:39:38.009493Z"
    },
    "papermill": {
     "duration": 0.217919,
     "end_time": "2021-05-25T19:39:38.010033",
     "exception": false,
     "start_time": "2021-05-25T19:39:37.792114",
     "status": "completed"
    },
    "pycharm": {
     "name": "#%%\n"
    },
    "tags": []
   },
   "outputs": [],
   "source": [
    "run_control = 0 # in development mode"
   ]
  },
  {
   "cell_type": "markdown",
   "id": "c18f24fa",
   "metadata": {
    "papermill": {
     "duration": 0.19851,
     "end_time": "2021-05-25T19:39:38.399652",
     "exception": false,
     "start_time": "2021-05-25T19:39:38.201142",
     "status": "completed"
    },
    "tags": []
   },
   "source": [
    "#### Packages used"
   ]
  },
  {
   "cell_type": "code",
   "execution_count": 4,
   "id": "57a8ef4e",
   "metadata": {
    "execution": {
     "iopub.execute_input": "2021-05-25T19:39:38.831999Z",
     "iopub.status.busy": "2021-05-25T19:39:38.827994Z",
     "iopub.status.idle": "2021-05-25T19:39:39.751163Z",
     "shell.execute_reply": "2021-05-25T19:39:39.752161Z"
    },
    "papermill": {
     "duration": 1.138459,
     "end_time": "2021-05-25T19:39:39.753164",
     "exception": false,
     "start_time": "2021-05-25T19:39:38.614705",
     "status": "completed"
    },
    "pycharm": {
     "name": "#%%\n"
    },
    "tags": []
   },
   "outputs": [],
   "source": [
    "import sys\n",
    "import os\n",
    "import pandas as pd"
   ]
  },
  {
   "cell_type": "code",
   "execution_count": 5,
   "id": "ca5d8a45",
   "metadata": {
    "execution": {
     "iopub.execute_input": "2021-05-25T19:39:40.153761Z",
     "iopub.status.busy": "2021-05-25T19:39:40.146757Z",
     "iopub.status.idle": "2021-05-25T19:39:40.159757Z",
     "shell.execute_reply": "2021-05-25T19:39:40.161757Z"
    },
    "papermill": {
     "duration": 0.232589,
     "end_time": "2021-05-25T19:39:40.161757",
     "exception": false,
     "start_time": "2021-05-25T19:39:39.929168",
     "status": "completed"
    },
    "pycharm": {
     "name": "#%%\n"
    },
    "tags": []
   },
   "outputs": [],
   "source": [
    "default_DC = \"2021.Q1\"\n",
    "\n",
    "try:\n",
    "    if sys.argv[1] == \"-f\":\n",
    "        percode = default_DC\n",
    "    else:\n",
    "        percode = sys.argv[1]\n",
    "\n",
    "except IndexError:\n",
    "    percode = default_DC\n",
    "except NameError:\n",
    "    percode = default_DC"
   ]
  },
  {
   "cell_type": "markdown",
   "id": "483c3184",
   "metadata": {
    "papermill": {
     "duration": 0.214526,
     "end_time": "2021-05-25T19:39:40.584799",
     "exception": false,
     "start_time": "2021-05-25T19:39:40.370273",
     "status": "completed"
    },
    "tags": []
   },
   "source": [
    "#### Convert paths and files to variables.\n",
    "#### Read data into pd DataFrames.\n",
    "#### Make paths for the live sources."
   ]
  },
  {
   "cell_type": "code",
   "execution_count": 6,
   "id": "49a66079",
   "metadata": {
    "execution": {
     "iopub.execute_input": "2021-05-25T19:39:40.980701Z",
     "iopub.status.busy": "2021-05-25T19:39:40.978702Z",
     "iopub.status.idle": "2021-05-25T19:39:40.991702Z",
     "shell.execute_reply": "2021-05-25T19:39:40.990703Z"
    },
    "papermill": {
     "duration": 0.207357,
     "end_time": "2021-05-25T19:39:40.991702",
     "exception": false,
     "start_time": "2021-05-25T19:39:40.784345",
     "status": "completed"
    },
    "pycharm": {
     "name": "#%%\n"
    },
    "tags": []
   },
   "outputs": [],
   "source": [
    "rt_path = f'//hecate/Insurance_US/Product Development/Product Manag' \\\n",
    "          f'ement/Global PPM/Reporting/Data Collection/Production/{str(percode)}'\n",
    "tempfile = os.path.join(rt_path, f'{str(percode)}.localcur.parquet')\n",
    "gppm_file = os.path.join(rt_path, f'GPPM_Input_{str(percode)}.xlsx')"
   ]
  },
  {
   "cell_type": "markdown",
   "id": "13355b9f",
   "metadata": {
    "papermill": {
     "duration": 0.192164,
     "end_time": "2021-05-25T19:39:41.363165",
     "exception": false,
     "start_time": "2021-05-25T19:39:41.171001",
     "status": "completed"
    },
    "tags": []
   },
   "source": [
    "#### Read source"
   ]
  },
  {
   "cell_type": "code",
   "execution_count": 7,
   "id": "05eaeb69",
   "metadata": {
    "execution": {
     "iopub.execute_input": "2021-05-25T19:39:41.783253Z",
     "iopub.status.busy": "2021-05-25T19:39:41.782254Z",
     "iopub.status.idle": "2021-05-25T19:39:43.147985Z",
     "shell.execute_reply": "2021-05-25T19:39:43.148989Z"
    },
    "papermill": {
     "duration": 1.58978,
     "end_time": "2021-05-25T19:39:43.149987",
     "exception": false,
     "start_time": "2021-05-25T19:39:41.560207",
     "status": "completed"
    },
    "pycharm": {
     "name": "#%%\n"
    },
    "tags": []
   },
   "outputs": [
    {
     "name": "stdout",
     "output_type": "stream",
     "text": [
      "     business_unit                   submission_file country currency  \\\n",
      "0               AU  us_dat_au_02172021174434.parquet      AU      AUD   \n",
      "1               AU  us_dat_au_02172021174434.parquet      AU      AUD   \n",
      "2               AU  us_dat_au_02172021174434.parquet      AU      AUD   \n",
      "3               AU  us_dat_au_02172021174434.parquet      AU      AUD   \n",
      "4               AU  us_dat_au_02172021174434.parquet      AU      AUD   \n",
      "...            ...                               ...     ...      ...   \n",
      "1965            PT  us_dat_pt_05202021121056.parquet      PT      EUR   \n",
      "1966            PT  us_dat_pt_05202021121056.parquet      PT      EUR   \n",
      "1967            PT  us_dat_pt_05202021121056.parquet      PT      EUR   \n",
      "1968            PT  us_dat_pt_05202021121056.parquet      PT      EUR   \n",
      "1969            PT  us_dat_pt_05202021121056.parquet      PT      EUR   \n",
      "\n",
      "                           region reporting_date_from reporting_date_to  \\\n",
      "0                            APAC          2020-01-01        2020-12-31   \n",
      "1                            APAC          2020-01-01        2020-12-31   \n",
      "2                            APAC          2020-01-01        2020-12-31   \n",
      "3                            APAC          2020-01-01        2020-12-31   \n",
      "4                            APAC          2020-01-01        2020-12-31   \n",
      "...                           ...                 ...               ...   \n",
      "1965  Western Europe, LATAM & MEA          2021-01-01        2021-03-31   \n",
      "1966  Western Europe, LATAM & MEA          2021-01-01        2021-03-31   \n",
      "1967  Western Europe, LATAM & MEA          2021-01-01        2021-03-31   \n",
      "1968  Western Europe, LATAM & MEA          2021-01-01        2021-03-31   \n",
      "1969  Western Europe, LATAM & MEA          2021-01-01        2021-03-31   \n",
      "\n",
      "     date_of_analysis         type_of_analysis  analysed_months  ...  \\\n",
      "0          2021-02-08  Most Recently 12 Months             12.0  ...   \n",
      "1          2021-02-08  Most Recently 12 Months             12.0  ...   \n",
      "2          2021-02-08  Most Recently 12 Months             12.0  ...   \n",
      "3          2021-02-08  Most Recently 12 Months             12.0  ...   \n",
      "4          2021-02-08  Most Recently 12 Months             12.0  ...   \n",
      "...               ...                      ...              ...  ...   \n",
      "1965       2021-03-31             Year To Date              3.0  ...   \n",
      "1966       2021-03-31             Year To Date              3.0  ...   \n",
      "1967       2021-03-31             Year To Date              3.0  ...   \n",
      "1968       2021-03-31             Year To Date              3.0  ...   \n",
      "1969       2021-03-31             Year To Date              3.0  ...   \n",
      "\n",
      "      date_of_analysis_int                     selected_fields_for_duplicates  \\\n",
      "0                 20210208  AUInsuranceLocalB2B2CTravelAllianz Affiliation...   \n",
      "1                 20210208  AUInsuranceLocalB2B2CTravelOffline Travel Agen...   \n",
      "2                 20210208  AUInsuranceLocalB2B2CTravelOffline Travel Agen...   \n",
      "3                 20210208  AUInsuranceLocalB2B2CTravelAllianz Affiliation...   \n",
      "4                 20210208  AUInsuranceLocalB2B2CTravelCarriers - Airlines...   \n",
      "...                    ...                                                ...   \n",
      "1965              20210331  PTReinsuranceLocalB2B2CTravelDirect (Allianz P...   \n",
      "1966              20210331  PTReinsuranceLocalB2B2CTravelDirect (Allianz P...   \n",
      "1967              20210331  PTReinsuranceLocalB2B2CTravelDirect (Allianz P...   \n",
      "1968              20210331  PTReinsuranceLocalB2B2CTravelDirect (Allianz P...   \n",
      "1969              20210331  PTReinsuranceLocalB2BTravelDirect (Allianz Par...   \n",
      "\n",
      "      pct_of_ibnr_on_ocr__ibnr unnamed:_66 ibnrsub   rep_date  \\\n",
      "0                          0.0         0.0     0.0 2020-12-31   \n",
      "1                          0.0         0.0     0.0 2020-12-31   \n",
      "2                          0.0         0.0     0.0 2020-12-31   \n",
      "3                          0.0         0.0     0.0 2020-12-31   \n",
      "4                          0.0         0.0     0.0 2020-12-31   \n",
      "...                        ...         ...     ...        ...   \n",
      "1965                       0.0         0.0     0.0 2021-03-31   \n",
      "1966                       0.0         0.0     0.0 2021-03-31   \n",
      "1967                       0.0         0.0     0.0 2021-03-31   \n",
      "1968                       0.0         0.0     0.0 2021-03-31   \n",
      "1969                       0.0         0.0     0.0 2021-03-31   \n",
      "\n",
      "     __index_level_0__   bu_descr month_of_analysis_max      reporting_period  \n",
      "0                    0  Australia              2021 Feb  2020 Jan to 2020 Dec  \n",
      "1                    1  Australia              2021 Feb  2020 Jan to 2020 Dec  \n",
      "2                    2  Australia              2021 Feb  2020 Jan to 2020 Dec  \n",
      "3                    3  Australia              2021 Feb  2020 Jan to 2020 Dec  \n",
      "4                    4  Australia              2021 Feb  2020 Jan to 2020 Dec  \n",
      "...                ...        ...                   ...                   ...  \n",
      "1965              3466   Portugal              2021 Mar  2021 Jan to 2021 Mar  \n",
      "1966              3467   Portugal              2021 Mar  2021 Jan to 2021 Mar  \n",
      "1967              3468   Portugal              2021 Mar  2021 Jan to 2021 Mar  \n",
      "1968              3469   Portugal              2021 Mar  2021 Jan to 2021 Mar  \n",
      "1969              3470   Portugal              2021 Mar  2021 Jan to 2021 Mar  \n",
      "\n",
      "[1970 rows x 82 columns]\n"
     ]
    }
   ],
   "source": [
    "mo_input = pd.read_parquet(tempfile, engine='pyarrow')\n",
    "\n",
    "print(mo_input)"
   ]
  },
  {
   "cell_type": "markdown",
   "id": "27fe06dd",
   "metadata": {
    "papermill": {
     "duration": 0.193991,
     "end_time": "2021-05-25T19:39:43.551695",
     "exception": false,
     "start_time": "2021-05-25T19:39:43.357704",
     "status": "completed"
    },
    "tags": []
   },
   "source": [
    "#### Output local currency csv"
   ]
  },
  {
   "cell_type": "code",
   "execution_count": 8,
   "id": "d7d21005",
   "metadata": {
    "execution": {
     "iopub.execute_input": "2021-05-25T19:39:43.958692Z",
     "iopub.status.busy": "2021-05-25T19:39:43.954699Z",
     "iopub.status.idle": "2021-05-25T19:39:52.782539Z",
     "shell.execute_reply": "2021-05-25T19:39:52.784524Z"
    },
    "papermill": {
     "duration": 9.047831,
     "end_time": "2021-05-25T19:39:52.784524",
     "exception": false,
     "start_time": "2021-05-25T19:39:43.736693",
     "status": "completed"
    },
    "pycharm": {
     "is_executing": true,
     "name": "#%%\n"
    },
    "tags": []
   },
   "outputs": [],
   "source": [
    "mo_input.to_csv(f'//hecate/Insurance_US/Product Development/Product Management/Global PPM/Reporting/Data Collection/Production/{str(percode)}\\\\{str(percode)}.localcur.csv', ',', index=False, encoding='utf-8-sig')"
   ]
  },
  {
   "cell_type": "markdown",
   "id": "b948853f",
   "metadata": {
    "papermill": {
     "duration": 0.255756,
     "end_time": "2021-05-25T19:39:53.373756",
     "exception": false,
     "start_time": "2021-05-25T19:39:53.118000",
     "status": "completed"
    },
    "tags": []
   },
   "source": [
    "#### Convert all currency to Euro\n"
   ]
  },
  {
   "cell_type": "code",
   "execution_count": 9,
   "id": "ada0c51f",
   "metadata": {
    "execution": {
     "iopub.execute_input": "2021-05-25T19:39:53.893417Z",
     "iopub.status.busy": "2021-05-25T19:39:53.887423Z",
     "iopub.status.idle": "2021-05-25T19:39:54.350295Z",
     "shell.execute_reply": "2021-05-25T19:39:54.351294Z"
    },
    "papermill": {
     "duration": 0.726395,
     "end_time": "2021-05-25T19:39:54.351294",
     "exception": false,
     "start_time": "2021-05-25T19:39:53.624899",
     "status": "completed"
    },
    "pycharm": {
     "is_executing": true,
     "name": "#%%\n"
    },
    "tags": []
   },
   "outputs": [],
   "source": [
    "\n",
    "cflds = ['written_revenues_net_of_taxes', 'written_revenues', 'earned_revenues_net_of_taxes',\n",
    "         'earned_revenues', 'earned_base_commissions', 'earned_over_commissions', 'upfront_cash_payments',\n",
    "         'total_compensation', 'paid_claims', 'ocr__ibnr', 'actual_incurred_losses',\n",
    "         'internal_variable_costs', 'az_tech_fee', 'internal_fixed_costs',\n",
    "         'hq_fees', 'total_expenses', 'risk_premium', 'profit_or_loss', 'cm_hq_view', 'cm_bu_view', ]\n",
    "\n",
    "\n",
    "\"\"\"reads in the input for the Euro conversion\"\"\"\n",
    "euro = pd.read_excel(gppm_file, sheet_name=\"Euro_Rates\")\n"
   ]
  },
  {
   "cell_type": "markdown",
   "id": "3e50a97b",
   "metadata": {
    "papermill": {
     "duration": 0.263009,
     "end_time": "2021-05-25T19:39:54.862119",
     "exception": false,
     "start_time": "2021-05-25T19:39:54.599110",
     "status": "completed"
    },
    "tags": []
   },
   "source": [
    "#### Make a copy for debug purposes"
   ]
  },
  {
   "cell_type": "code",
   "execution_count": 10,
   "id": "402f4bad",
   "metadata": {
    "execution": {
     "iopub.execute_input": "2021-05-25T19:39:55.405632Z",
     "iopub.status.busy": "2021-05-25T19:39:55.403628Z",
     "iopub.status.idle": "2021-05-25T19:39:55.414632Z",
     "shell.execute_reply": "2021-05-25T19:39:55.415627Z"
    },
    "papermill": {
     "duration": 0.286148,
     "end_time": "2021-05-25T19:39:55.416629",
     "exception": false,
     "start_time": "2021-05-25T19:39:55.130481",
     "status": "completed"
    },
    "pycharm": {
     "is_executing": true,
     "name": "#%%\n"
    },
    "tags": []
   },
   "outputs": [],
   "source": [
    "trandata = mo_input.copy()"
   ]
  },
  {
   "cell_type": "markdown",
   "id": "92352bb2",
   "metadata": {
    "papermill": {
     "duration": 0.28305,
     "end_time": "2021-05-25T19:39:55.973533",
     "exception": false,
     "start_time": "2021-05-25T19:39:55.690483",
     "status": "completed"
    },
    "tags": []
   },
   "source": [
    "#### Convert Currency Below"
   ]
  },
  {
   "cell_type": "code",
   "execution_count": 11,
   "id": "46fbe0f6",
   "metadata": {
    "execution": {
     "iopub.execute_input": "2021-05-25T19:39:56.529697Z",
     "iopub.status.busy": "2021-05-25T19:39:56.528687Z",
     "iopub.status.idle": "2021-05-25T19:39:56.534678Z",
     "shell.execute_reply": "2021-05-25T19:39:56.536685Z"
    },
    "papermill": {
     "duration": 0.291049,
     "end_time": "2021-05-25T19:39:56.536685",
     "exception": false,
     "start_time": "2021-05-25T19:39:56.245636",
     "status": "completed"
    },
    "pycharm": {
     "is_executing": true,
     "name": "#%%\n"
    },
    "tags": []
   },
   "outputs": [],
   "source": [
    "# create DataFrame of unique currencies with rates\n",
    "\n",
    "fx_uni = euro[['CURR_CODE','RATE']]\n",
    "fx_uni = fx_uni.drop_duplicates()"
   ]
  },
  {
   "cell_type": "code",
   "execution_count": 12,
   "id": "634f6b08",
   "metadata": {
    "execution": {
     "iopub.execute_input": "2021-05-25T19:39:57.052970Z",
     "iopub.status.busy": "2021-05-25T19:39:57.051957Z",
     "iopub.status.idle": "2021-05-25T19:39:57.070956Z",
     "shell.execute_reply": "2021-05-25T19:39:57.069957Z"
    },
    "papermill": {
     "duration": 0.276755,
     "end_time": "2021-05-25T19:39:57.071957",
     "exception": false,
     "start_time": "2021-05-25T19:39:56.795202",
     "status": "completed"
    },
    "pycharm": {
     "is_executing": true,
     "name": "#%%\n"
    },
    "tags": []
   },
   "outputs": [],
   "source": [
    "# add euro conversion rates to trandata DataFrame as column 'eur_rate'\n",
    "\n",
    "eurdata = pd.merge(trandata['currency'], fx_uni, left_on='currency', right_on='CURR_CODE', how='left')\n",
    "\n",
    "trandata['eur_rate'] = eurdata['RATE']"
   ]
  },
  {
   "cell_type": "markdown",
   "id": "4db9bdad",
   "metadata": {
    "papermill": {
     "duration": 0.25585,
     "end_time": "2021-05-25T19:39:57.571811",
     "exception": false,
     "start_time": "2021-05-25T19:39:57.315961",
     "status": "completed"
    },
    "tags": []
   },
   "source": [
    "#### Convert currency fields"
   ]
  },
  {
   "cell_type": "code",
   "execution_count": 13,
   "id": "ace900be",
   "metadata": {
    "execution": {
     "iopub.execute_input": "2021-05-25T19:39:58.096252Z",
     "iopub.status.busy": "2021-05-25T19:39:58.091333Z",
     "iopub.status.idle": "2021-05-25T19:39:58.154114Z",
     "shell.execute_reply": "2021-05-25T19:39:58.156112Z"
    },
    "papermill": {
     "duration": 0.317783,
     "end_time": "2021-05-25T19:39:58.156112",
     "exception": false,
     "start_time": "2021-05-25T19:39:57.838329",
     "status": "completed"
    },
    "pycharm": {
     "is_executing": true,
     "name": "#%%\n"
    },
    "tags": []
   },
   "outputs": [],
   "source": [
    "trandata[cflds] = trandata[cflds].divide(trandata['eur_rate'], axis=\"index\").fillna(0)\n"
   ]
  },
  {
   "cell_type": "markdown",
   "id": "2ad193dc",
   "metadata": {
    "papermill": {
     "duration": 0.249063,
     "end_time": "2021-05-25T19:39:58.676177",
     "exception": false,
     "start_time": "2021-05-25T19:39:58.427114",
     "status": "completed"
    },
    "tags": []
   },
   "source": [
    "#### Output to {percode}.euroconv.csv"
   ]
  },
  {
   "cell_type": "code",
   "execution_count": 14,
   "id": "c13b55fd",
   "metadata": {
    "execution": {
     "iopub.execute_input": "2021-05-25T19:39:59.166350Z",
     "iopub.status.busy": "2021-05-25T19:39:59.161354Z",
     "iopub.status.idle": "2021-05-25T19:40:08.587828Z",
     "shell.execute_reply": "2021-05-25T19:40:08.588844Z"
    },
    "papermill": {
     "duration": 9.671635,
     "end_time": "2021-05-25T19:40:08.589840",
     "exception": false,
     "start_time": "2021-05-25T19:39:58.918205",
     "status": "completed"
    },
    "pycharm": {
     "is_executing": true,
     "name": "#%%\n"
    },
    "tags": []
   },
   "outputs": [],
   "source": [
    "trandata.to_csv(f'//hecate/Insurance_US/Product Development/Product Management/Global PPM/Reporting/Data Collection/Production/{str(percode)}\\\\{str(percode)}.euroconv.csv', ',', index=False, encoding='utf-8-sig')\n",
    "\n",
    "\n"
   ]
  },
  {
   "cell_type": "markdown",
   "id": "139fc00b",
   "metadata": {
    "papermill": {
     "duration": 0.253189,
     "end_time": "2021-05-25T19:40:09.157212",
     "exception": false,
     "start_time": "2021-05-25T19:40:08.904023",
     "status": "completed"
    },
    "tags": []
   },
   "source": [
    "#### Store the DataFrame for other notebooks to use"
   ]
  },
  {
   "cell_type": "code",
   "execution_count": 15,
   "id": "0db9fb20",
   "metadata": {
    "execution": {
     "iopub.execute_input": "2021-05-25T19:40:09.669046Z",
     "iopub.status.busy": "2021-05-25T19:40:09.665039Z",
     "iopub.status.idle": "2021-05-25T19:40:09.696035Z",
     "shell.execute_reply": "2021-05-25T19:40:09.698036Z"
    },
    "papermill": {
     "duration": 0.303,
     "end_time": "2021-05-25T19:40:09.698036",
     "exception": false,
     "start_time": "2021-05-25T19:40:09.395036",
     "status": "completed"
    },
    "tags": []
   },
   "outputs": [
    {
     "name": "stdout",
     "output_type": "stream",
     "text": [
      "Stored 'mo_df' (DataFrame)\n"
     ]
    }
   ],
   "source": [
    "mo_df = trandata\n",
    "\n",
    "%store mo_df\n"
   ]
  }
 ],
 "metadata": {
  "celltoolbar": "Tags",
  "kernelspec": {
   "display_name": "Python 3",
   "language": "python",
   "name": "python3"
  },
  "language_info": {
   "codemirror_mode": {
    "name": "ipython",
    "version": 3
   },
   "file_extension": ".py",
   "mimetype": "text/x-python",
   "name": "python",
   "nbconvert_exporter": "python",
   "pygments_lexer": "ipython3",
   "version": "3.7.6"
  },
  "papermill": {
   "default_parameters": {},
   "duration": 39.813776,
   "end_time": "2021-05-25T19:40:10.592266",
   "environment_variables": {},
   "exception": null,
   "input_path": "pipeline/make_output.ipynb",
   "output_path": "//hecate/Insurance_US/Product Development/Product Management/Global PPM/Reporting/Data Collection/Pipeline Reporting Scripts/GPMpipeline/instances/2021.Q1\\pipeline\\make_output05252021152647--live run.ipynb",
   "parameters": {
    "commit_message": "Edited data for Austraila, json 2 parquet and add comments from email. Begin general evaluation of data submissions.",
    "inst_datetime": "05252021152647",
    "percode": "2021.Q1",
    "run_control": 1
   },
   "start_time": "2021-05-25T19:39:30.778490",
   "version": "2.3.3"
  }
 },
 "nbformat": 4,
 "nbformat_minor": 5
}