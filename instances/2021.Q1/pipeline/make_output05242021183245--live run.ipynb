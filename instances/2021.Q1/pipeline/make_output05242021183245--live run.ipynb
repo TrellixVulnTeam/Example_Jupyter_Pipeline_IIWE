{
 "cells": [
  {
   "cell_type": "markdown",
   "id": "c6152ff0",
   "metadata": {
    "papermill": {
     "duration": 0.298188,
     "end_time": "2021-05-24T22:37:40.733431",
     "exception": false,
     "start_time": "2021-05-24T22:37:40.435243",
     "status": "completed"
    },
    "pycharm": {
     "name": "#%% md\n"
    },
    "tags": []
   },
   "source": [
    "<img src=\"../images/AzPTravel_PPM.png\">"
   ]
  },
  {
   "cell_type": "markdown",
   "id": "c06af89d",
   "metadata": {
    "papermill": {
     "duration": 0.235992,
     "end_time": "2021-05-24T22:37:41.231585",
     "exception": false,
     "start_time": "2021-05-24T22:37:40.995593",
     "status": "completed"
    },
    "tags": []
   },
   "source": [
    "## GPM Pipeline Output maker\n",
    "\n",
    "#### This script\n",
    "- loads the transformed parquet file\n",
    "- creates the file {parquet}.localcur.csv\n",
    "- makes the Euro conversions\n",
    "- outputs {parquet}.euroconv.csv\n"
   ]
  },
  {
   "cell_type": "markdown",
   "id": "a1f74e7d",
   "metadata": {
    "papermill": {
     "duration": 0.239,
     "end_time": "2021-05-24T22:37:41.716154",
     "exception": false,
     "start_time": "2021-05-24T22:37:41.477154",
     "status": "completed"
    },
    "tags": []
   },
   "source": [
    "#### Parameters section"
   ]
  },
  {
   "cell_type": "code",
   "execution_count": 1,
   "id": "14b7a60d",
   "metadata": {
    "execution": {
     "iopub.execute_input": "2021-05-24T22:37:42.220161Z",
     "iopub.status.busy": "2021-05-24T22:37:42.216165Z",
     "iopub.status.idle": "2021-05-24T22:37:42.226162Z",
     "shell.execute_reply": "2021-05-24T22:37:42.225161Z"
    },
    "papermill": {
     "duration": 0.269072,
     "end_time": "2021-05-24T22:37:42.226162",
     "exception": false,
     "start_time": "2021-05-24T22:37:41.957090",
     "status": "completed"
    },
    "pycharm": {
     "name": "#%%\n"
    },
    "tags": [
     "parameters"
    ]
   },
   "outputs": [],
   "source": [
    "commit = \"\"\n",
    "# give a reason for the run\n",
    "\n",
    "percode = \"20XX.QX\"\n",
    "# Data Collection Code, this controls file paths and output names\n",
    "\n",
    "run_type = 1\n",
    "#run_type =  0 - lite run with no reporting, not recommended.\n",
    "#run_type =  1 - lite run with normal reporting, default setting.\n",
    "#run_type =  2 - Heavy run with full reporting, available for audits and troubleshooting.\n",
    "\n",
    "specialchars = \"-GTHtest\"\n",
    "# optional - add up to a 12 character code in order to mark your instance record .ipynb\n",
    "\n",
    "from datetime import datetime\n",
    "inst_datetime = datetime.now().strftime(\"%m%d%Y%H%M%S\")\n",
    "# a single datetime stamp for the full instance run\n"
   ]
  },
  {
   "cell_type": "code",
   "execution_count": 2,
   "id": "bcfe444d",
   "metadata": {
    "execution": {
     "iopub.execute_input": "2021-05-24T22:37:42.803161Z",
     "iopub.status.busy": "2021-05-24T22:37:42.800167Z",
     "iopub.status.idle": "2021-05-24T22:37:42.808162Z",
     "shell.execute_reply": "2021-05-24T22:37:42.809160Z"
    },
    "papermill": {
     "duration": 0.313992,
     "end_time": "2021-05-24T22:37:42.809160",
     "exception": false,
     "start_time": "2021-05-24T22:37:42.495168",
     "status": "completed"
    },
    "tags": [
     "injected-parameters"
    ]
   },
   "outputs": [],
   "source": [
    "# Parameters\n",
    "run_control = 1\n",
    "percode = \"2021.Q1\"\n",
    "commit_message = \"Edited data for Austraila, json 2 parquet and add comments from email. Begin general evaluation of data submissions.\"\n",
    "inst_datetime = \"05242021183245\"\n"
   ]
  },
  {
   "cell_type": "markdown",
   "id": "87c391fd",
   "metadata": {
    "papermill": {
     "duration": 0.253138,
     "end_time": "2021-05-24T22:37:43.325287",
     "exception": false,
     "start_time": "2021-05-24T22:37:43.072149",
     "status": "completed"
    },
    "tags": []
   },
   "source": [
    "### Set Run Control\n",
    "\n",
    "##### 0 - lite run with no reporting, not recommended.\n",
    "##### 1 - lite run with normal reporting, default setting.\n",
    "##### 2 - Heavy run with full reporting, available for audits and troubleshooting."
   ]
  },
  {
   "cell_type": "code",
   "execution_count": 3,
   "id": "2703255b",
   "metadata": {
    "execution": {
     "iopub.execute_input": "2021-05-24T22:37:43.900861Z",
     "iopub.status.busy": "2021-05-24T22:37:43.899864Z",
     "iopub.status.idle": "2021-05-24T22:37:43.905863Z",
     "shell.execute_reply": "2021-05-24T22:37:43.905863Z"
    },
    "papermill": {
     "duration": 0.31758,
     "end_time": "2021-05-24T22:37:43.906860",
     "exception": false,
     "start_time": "2021-05-24T22:37:43.589280",
     "status": "completed"
    },
    "pycharm": {
     "name": "#%%\n"
    },
    "tags": []
   },
   "outputs": [],
   "source": [
    "run_control = 0 # in development mode"
   ]
  },
  {
   "cell_type": "markdown",
   "id": "86f27434",
   "metadata": {
    "papermill": {
     "duration": 0.252255,
     "end_time": "2021-05-24T22:37:44.398844",
     "exception": false,
     "start_time": "2021-05-24T22:37:44.146589",
     "status": "completed"
    },
    "tags": []
   },
   "source": [
    "#### Packages used"
   ]
  },
  {
   "cell_type": "code",
   "execution_count": 4,
   "id": "50bd0fd4",
   "metadata": {
    "execution": {
     "iopub.execute_input": "2021-05-24T22:37:44.882406Z",
     "iopub.status.busy": "2021-05-24T22:37:44.880408Z",
     "iopub.status.idle": "2021-05-24T22:37:45.798055Z",
     "shell.execute_reply": "2021-05-24T22:37:45.797055Z"
    },
    "papermill": {
     "duration": 1.157525,
     "end_time": "2021-05-24T22:37:45.799055",
     "exception": false,
     "start_time": "2021-05-24T22:37:44.641530",
     "status": "completed"
    },
    "pycharm": {
     "name": "#%%\n"
    },
    "tags": []
   },
   "outputs": [],
   "source": [
    "import sys\n",
    "import os\n",
    "import pandas as pd"
   ]
  },
  {
   "cell_type": "code",
   "execution_count": 5,
   "id": "e995c7b5",
   "metadata": {
    "execution": {
     "iopub.execute_input": "2021-05-24T22:37:46.314236Z",
     "iopub.status.busy": "2021-05-24T22:37:46.308242Z",
     "iopub.status.idle": "2021-05-24T22:37:46.319249Z",
     "shell.execute_reply": "2021-05-24T22:37:46.320234Z"
    },
    "papermill": {
     "duration": 0.261995,
     "end_time": "2021-05-24T22:37:46.321234",
     "exception": false,
     "start_time": "2021-05-24T22:37:46.059239",
     "status": "completed"
    },
    "pycharm": {
     "name": "#%%\n"
    },
    "tags": []
   },
   "outputs": [],
   "source": [
    "default_DC = \"2021.Q1\"\n",
    "\n",
    "try:\n",
    "    if sys.argv[1] == \"-f\":\n",
    "        percode = default_DC\n",
    "    else:\n",
    "        percode = sys.argv[1]\n",
    "\n",
    "except IndexError:\n",
    "    percode = default_DC\n",
    "except NameError:\n",
    "    percode = default_DC"
   ]
  },
  {
   "cell_type": "markdown",
   "id": "63eb920c",
   "metadata": {
    "papermill": {
     "duration": 0.258995,
     "end_time": "2021-05-24T22:37:46.839879",
     "exception": false,
     "start_time": "2021-05-24T22:37:46.580884",
     "status": "completed"
    },
    "tags": []
   },
   "source": [
    "#### Convert paths and files to variables.\n",
    "#### Read data into pd DataFrames.\n",
    "#### Make paths for the live sources."
   ]
  },
  {
   "cell_type": "code",
   "execution_count": 6,
   "id": "714104e5",
   "metadata": {
    "execution": {
     "iopub.execute_input": "2021-05-24T22:37:47.386610Z",
     "iopub.status.busy": "2021-05-24T22:37:47.385613Z",
     "iopub.status.idle": "2021-05-24T22:37:47.391614Z",
     "shell.execute_reply": "2021-05-24T22:37:47.392614Z"
    },
    "papermill": {
     "duration": 0.258003,
     "end_time": "2021-05-24T22:37:47.392614",
     "exception": false,
     "start_time": "2021-05-24T22:37:47.134611",
     "status": "completed"
    },
    "pycharm": {
     "name": "#%%\n"
    },
    "tags": []
   },
   "outputs": [],
   "source": [
    "rt_path = f'//hecate/Insurance_US/Product Development/Product Manag' \\\n",
    "          f'ement/Global PPM/Reporting/Data Collection/Production/{str(percode)}'\n",
    "tempfile = os.path.join(rt_path, f'{str(percode)}.localcur.parquet')\n",
    "gppm_file = os.path.join(rt_path, f'GPPM_Input_{str(percode)}.xlsx')"
   ]
  },
  {
   "cell_type": "markdown",
   "id": "f2cb365a",
   "metadata": {
    "papermill": {
     "duration": 0.262928,
     "end_time": "2021-05-24T22:37:47.903552",
     "exception": false,
     "start_time": "2021-05-24T22:37:47.640624",
     "status": "completed"
    },
    "tags": []
   },
   "source": [
    "#### Read source"
   ]
  },
  {
   "cell_type": "code",
   "execution_count": 7,
   "id": "e1606bbc",
   "metadata": {
    "execution": {
     "iopub.execute_input": "2021-05-24T22:37:48.509829Z",
     "iopub.status.busy": "2021-05-24T22:37:48.507830Z",
     "iopub.status.idle": "2021-05-24T22:37:49.755997Z",
     "shell.execute_reply": "2021-05-24T22:37:49.753987Z"
    },
    "papermill": {
     "duration": 1.551431,
     "end_time": "2021-05-24T22:37:49.755997",
     "exception": false,
     "start_time": "2021-05-24T22:37:48.204566",
     "status": "completed"
    },
    "pycharm": {
     "name": "#%%\n"
    },
    "tags": []
   },
   "outputs": [
    {
     "name": "stdout",
     "output_type": "stream",
     "text": [
      "     business_unit                   submission_file country currency  \\\n",
      "0               AU  us_dat_au_02172021174434.parquet      AU      AUD   \n",
      "1               AU  us_dat_au_02172021174434.parquet      AU      AUD   \n",
      "2               AU  us_dat_au_02172021174434.parquet      AU      AUD   \n",
      "3               AU  us_dat_au_02172021174434.parquet      AU      AUD   \n",
      "4               AU  us_dat_au_02172021174434.parquet      AU      AUD   \n",
      "...            ...                               ...     ...      ...   \n",
      "1952            PT  us_dat_pt_05202021121056.parquet      PT      EUR   \n",
      "1953            PT  us_dat_pt_05202021121056.parquet      PT      EUR   \n",
      "1954            PT  us_dat_pt_05202021121056.parquet      PT      EUR   \n",
      "1955            PT  us_dat_pt_05202021121056.parquet      PT      EUR   \n",
      "1956            PT  us_dat_pt_05202021121056.parquet      PT      EUR   \n",
      "\n",
      "                           region reporting_date_from reporting_date_to  \\\n",
      "0                            APAC          2020-01-01        2020-12-31   \n",
      "1                            APAC          2020-01-01        2020-12-31   \n",
      "2                            APAC          2020-01-01        2020-12-31   \n",
      "3                            APAC          2020-01-01        2020-12-31   \n",
      "4                            APAC          2020-01-01        2020-12-31   \n",
      "...                           ...                 ...               ...   \n",
      "1952  Western Europe, LATAM & MEA          2021-01-01        2021-03-31   \n",
      "1953  Western Europe, LATAM & MEA          2021-01-01        2021-03-31   \n",
      "1954  Western Europe, LATAM & MEA          2021-01-01        2021-03-31   \n",
      "1955  Western Europe, LATAM & MEA          2021-01-01        2021-03-31   \n",
      "1956  Western Europe, LATAM & MEA          2021-01-01        2021-03-31   \n",
      "\n",
      "     date_of_analysis         type_of_analysis  analysed_months  ...  \\\n",
      "0          2021-02-08  Most Recently 12 Months             12.0  ...   \n",
      "1          2021-02-08  Most Recently 12 Months             12.0  ...   \n",
      "2          2021-02-08  Most Recently 12 Months             12.0  ...   \n",
      "3          2021-02-08  Most Recently 12 Months             12.0  ...   \n",
      "4          2021-02-08  Most Recently 12 Months             12.0  ...   \n",
      "...               ...                      ...              ...  ...   \n",
      "1952       2021-03-31             Year To Date              3.0  ...   \n",
      "1953       2021-03-31             Year To Date              3.0  ...   \n",
      "1954       2021-03-31             Year To Date              3.0  ...   \n",
      "1955       2021-03-31             Year To Date              3.0  ...   \n",
      "1956       2021-03-31             Year To Date              3.0  ...   \n",
      "\n",
      "      date_of_analysis_int                     selected_fields_for_duplicates  \\\n",
      "0                 20210208  AUInsuranceLocalB2B2CTravelAllianz Affiliation...   \n",
      "1                 20210208  AUInsuranceLocalB2B2CTravelOffline Travel Agen...   \n",
      "2                 20210208  AUInsuranceLocalB2B2CTravelOffline Travel Agen...   \n",
      "3                 20210208  AUInsuranceLocalB2B2CTravelAllianz Affiliation...   \n",
      "4                 20210208  AUInsuranceLocalB2B2CTravelCarriers - Airlines...   \n",
      "...                    ...                                                ...   \n",
      "1952              20210331  PTReinsuranceLocalB2B2CTravelDirect (Allianz P...   \n",
      "1953              20210331  PTReinsuranceLocalB2B2CTravelDirect (Allianz P...   \n",
      "1954              20210331  PTReinsuranceLocalB2B2CTravelDirect (Allianz P...   \n",
      "1955              20210331  PTReinsuranceLocalB2B2CTravelDirect (Allianz P...   \n",
      "1956              20210331  PTReinsuranceLocalB2BTravelDirect (Allianz Par...   \n",
      "\n",
      "      pct_of_ibnr_on_ocr__ibnr unnamed:_66 ibnrsub   rep_date  \\\n",
      "0                          0.0         0.0     0.0 2020-12-31   \n",
      "1                          0.0         0.0     0.0 2020-12-31   \n",
      "2                          0.0         0.0     0.0 2020-12-31   \n",
      "3                          0.0         0.0     0.0 2020-12-31   \n",
      "4                          0.0         0.0     0.0 2020-12-31   \n",
      "...                        ...         ...     ...        ...   \n",
      "1952                       0.0         0.0     0.0 2021-03-31   \n",
      "1953                       0.0         0.0     0.0 2021-03-31   \n",
      "1954                       0.0         0.0     0.0 2021-03-31   \n",
      "1955                       0.0         0.0     0.0 2021-03-31   \n",
      "1956                       0.0         0.0     0.0 2021-03-31   \n",
      "\n",
      "     __index_level_0__   bu_descr month_of_analysis_max      reporting_period  \n",
      "0                    0  Australia              2021 Feb  2020 Jan to 2020 Dec  \n",
      "1                    1  Australia              2021 Feb  2020 Jan to 2020 Dec  \n",
      "2                    2  Australia              2021 Feb  2020 Jan to 2020 Dec  \n",
      "3                    3  Australia              2021 Feb  2020 Jan to 2020 Dec  \n",
      "4                    4  Australia              2021 Feb  2020 Jan to 2020 Dec  \n",
      "...                ...        ...                   ...                   ...  \n",
      "1952              3451   Portugal              2021 Mar  2021 Jan to 2021 Mar  \n",
      "1953              3452   Portugal              2021 Mar  2021 Jan to 2021 Mar  \n",
      "1954              3453   Portugal              2021 Mar  2021 Jan to 2021 Mar  \n",
      "1955              3454   Portugal              2021 Mar  2021 Jan to 2021 Mar  \n",
      "1956              3455   Portugal              2021 Mar  2021 Jan to 2021 Mar  \n",
      "\n",
      "[1957 rows x 82 columns]\n"
     ]
    }
   ],
   "source": [
    "mo_input = pd.read_parquet(tempfile, engine='pyarrow')\n",
    "\n",
    "print(mo_input)"
   ]
  },
  {
   "cell_type": "markdown",
   "id": "fcd60aff",
   "metadata": {
    "papermill": {
     "duration": 0.27653,
     "end_time": "2021-05-24T22:37:50.277049",
     "exception": false,
     "start_time": "2021-05-24T22:37:50.000519",
     "status": "completed"
    },
    "tags": []
   },
   "source": [
    "#### Output local currency csv"
   ]
  },
  {
   "cell_type": "code",
   "execution_count": 8,
   "id": "e9e0a560",
   "metadata": {
    "execution": {
     "iopub.execute_input": "2021-05-24T22:37:50.825751Z",
     "iopub.status.busy": "2021-05-24T22:37:50.823752Z",
     "iopub.status.idle": "2021-05-24T22:38:00.172919Z",
     "shell.execute_reply": "2021-05-24T22:38:00.174917Z"
    },
    "papermill": {
     "duration": 9.637158,
     "end_time": "2021-05-24T22:38:00.174917",
     "exception": false,
     "start_time": "2021-05-24T22:37:50.537759",
     "status": "completed"
    },
    "pycharm": {
     "is_executing": true,
     "name": "#%%\n"
    },
    "tags": []
   },
   "outputs": [],
   "source": [
    "mo_input.to_csv(f'//hecate/Insurance_US/Product Development/Product Management/Global PPM/Reporting/Data Collection/Production/{str(percode)}\\\\{str(percode)}.localcur.csv', ',', index=False, encoding='utf-8-sig')"
   ]
  },
  {
   "cell_type": "markdown",
   "id": "69a9a8e1",
   "metadata": {
    "papermill": {
     "duration": 0.276263,
     "end_time": "2021-05-24T22:38:00.770829",
     "exception": false,
     "start_time": "2021-05-24T22:38:00.494566",
     "status": "completed"
    },
    "tags": []
   },
   "source": [
    "#### Convert all currency to Euro\n"
   ]
  },
  {
   "cell_type": "code",
   "execution_count": 9,
   "id": "0f074d8f",
   "metadata": {
    "execution": {
     "iopub.execute_input": "2021-05-24T22:38:01.457678Z",
     "iopub.status.busy": "2021-05-24T22:38:01.451665Z",
     "iopub.status.idle": "2021-05-24T22:38:03.209575Z",
     "shell.execute_reply": "2021-05-24T22:38:03.210577Z"
    },
    "papermill": {
     "duration": 2.138502,
     "end_time": "2021-05-24T22:38:03.210577",
     "exception": false,
     "start_time": "2021-05-24T22:38:01.072075",
     "status": "completed"
    },
    "pycharm": {
     "is_executing": true,
     "name": "#%%\n"
    },
    "tags": []
   },
   "outputs": [],
   "source": [
    "\n",
    "cflds = ['written_revenues_net_of_taxes', 'written_revenues', 'earned_revenues_net_of_taxes',\n",
    "         'earned_revenues', 'earned_base_commissions', 'earned_over_commissions', 'upfront_cash_payments',\n",
    "         'total_compensation', 'paid_claims', 'ocr__ibnr', 'actual_incurred_losses',\n",
    "         'internal_variable_costs', 'az_tech_fee', 'internal_fixed_costs',\n",
    "         'hq_fees', 'total_expenses', 'risk_premium', 'profit_or_loss', 'cm_hq_view',\n",
    "         'cm_bu_view', ]\n",
    "\n",
    "\n",
    "\"\"\"reads in the input for the Euro conversion\"\"\"\n",
    "euro = pd.read_excel(gppm_file, sheet_name=\"Euro_Rates\")\n"
   ]
  },
  {
   "cell_type": "markdown",
   "id": "7068af7a",
   "metadata": {
    "papermill": {
     "duration": 0.289999,
     "end_time": "2021-05-24T22:38:03.781666",
     "exception": false,
     "start_time": "2021-05-24T22:38:03.491667",
     "status": "completed"
    },
    "tags": []
   },
   "source": [
    "#### Make a copy for debug purposes"
   ]
  },
  {
   "cell_type": "code",
   "execution_count": 10,
   "id": "4f366494",
   "metadata": {
    "execution": {
     "iopub.execute_input": "2021-05-24T22:38:04.465252Z",
     "iopub.status.busy": "2021-05-24T22:38:04.460254Z",
     "iopub.status.idle": "2021-05-24T22:38:04.472242Z",
     "shell.execute_reply": "2021-05-24T22:38:04.474252Z"
    },
    "papermill": {
     "duration": 0.323663,
     "end_time": "2021-05-24T22:38:04.474252",
     "exception": false,
     "start_time": "2021-05-24T22:38:04.150589",
     "status": "completed"
    },
    "pycharm": {
     "is_executing": true,
     "name": "#%%\n"
    },
    "tags": []
   },
   "outputs": [],
   "source": [
    "trandata = mo_input.copy()"
   ]
  },
  {
   "cell_type": "markdown",
   "id": "4674cab1",
   "metadata": {
    "papermill": {
     "duration": 0.411459,
     "end_time": "2021-05-24T22:38:05.263424",
     "exception": false,
     "start_time": "2021-05-24T22:38:04.851965",
     "status": "completed"
    },
    "tags": []
   },
   "source": [
    "#### Convert Currency Below"
   ]
  },
  {
   "cell_type": "code",
   "execution_count": 11,
   "id": "44476286",
   "metadata": {
    "execution": {
     "iopub.execute_input": "2021-05-24T22:38:05.897741Z",
     "iopub.status.busy": "2021-05-24T22:38:05.891741Z",
     "iopub.status.idle": "2021-05-24T22:38:05.905749Z",
     "shell.execute_reply": "2021-05-24T22:38:05.907740Z"
    },
    "papermill": {
     "duration": 0.307715,
     "end_time": "2021-05-24T22:38:05.907740",
     "exception": false,
     "start_time": "2021-05-24T22:38:05.600025",
     "status": "completed"
    },
    "pycharm": {
     "is_executing": true,
     "name": "#%%\n"
    },
    "tags": []
   },
   "outputs": [],
   "source": [
    "# create DataFrame of unique currencies with rates\n",
    "\n",
    "fx_uni = euro[['CURR_CODE','RATE']]\n",
    "fx_uni = fx_uni.drop_duplicates()"
   ]
  },
  {
   "cell_type": "code",
   "execution_count": 12,
   "id": "e3706019",
   "metadata": {
    "execution": {
     "iopub.execute_input": "2021-05-24T22:38:06.503737Z",
     "iopub.status.busy": "2021-05-24T22:38:06.502736Z",
     "iopub.status.idle": "2021-05-24T22:38:06.513742Z",
     "shell.execute_reply": "2021-05-24T22:38:06.514741Z"
    },
    "papermill": {
     "duration": 0.308,
     "end_time": "2021-05-24T22:38:06.515742",
     "exception": false,
     "start_time": "2021-05-24T22:38:06.207742",
     "status": "completed"
    },
    "pycharm": {
     "is_executing": true,
     "name": "#%%\n"
    },
    "tags": []
   },
   "outputs": [],
   "source": [
    "# add euro conversion rates to trandata DataFrame as column 'eur_rate'\n",
    "\n",
    "eurdata = pd.merge(trandata['currency'], fx_uni, left_on='currency', right_on='CURR_CODE', how='left')\n",
    "\n",
    "trandata['eur_rate'] = eurdata['RATE']"
   ]
  },
  {
   "cell_type": "markdown",
   "id": "f51e7ee7",
   "metadata": {
    "papermill": {
     "duration": 0.301532,
     "end_time": "2021-05-24T22:38:07.089634",
     "exception": false,
     "start_time": "2021-05-24T22:38:06.788102",
     "status": "completed"
    },
    "tags": []
   },
   "source": [
    "#### Convert currency fields"
   ]
  },
  {
   "cell_type": "code",
   "execution_count": 13,
   "id": "a4a384c9",
   "metadata": {
    "execution": {
     "iopub.execute_input": "2021-05-24T22:38:07.786561Z",
     "iopub.status.busy": "2021-05-24T22:38:07.785560Z",
     "iopub.status.idle": "2021-05-24T22:38:08.151624Z",
     "shell.execute_reply": "2021-05-24T22:38:08.150621Z"
    },
    "papermill": {
     "duration": 0.71997,
     "end_time": "2021-05-24T22:38:08.151624",
     "exception": false,
     "start_time": "2021-05-24T22:38:07.431654",
     "status": "completed"
    },
    "pycharm": {
     "is_executing": true,
     "name": "#%%\n"
    },
    "tags": []
   },
   "outputs": [],
   "source": [
    "trandata[cflds] = trandata[cflds].divide(trandata['eur_rate'], axis=\"index\").fillna(0)\n"
   ]
  },
  {
   "cell_type": "markdown",
   "id": "9979e943",
   "metadata": {
    "papermill": {
     "duration": 0.320998,
     "end_time": "2021-05-24T22:38:08.798675",
     "exception": false,
     "start_time": "2021-05-24T22:38:08.477677",
     "status": "completed"
    },
    "tags": []
   },
   "source": [
    "#### Output to {percode}.euroconv.csv"
   ]
  },
  {
   "cell_type": "code",
   "execution_count": 14,
   "id": "42cb4482",
   "metadata": {
    "execution": {
     "iopub.execute_input": "2021-05-24T22:38:09.402881Z",
     "iopub.status.busy": "2021-05-24T22:38:09.398357Z",
     "iopub.status.idle": "2021-05-24T22:38:18.837438Z",
     "shell.execute_reply": "2021-05-24T22:38:18.839440Z"
    },
    "papermill": {
     "duration": 9.731618,
     "end_time": "2021-05-24T22:38:18.839440",
     "exception": false,
     "start_time": "2021-05-24T22:38:09.107822",
     "status": "completed"
    },
    "pycharm": {
     "is_executing": true,
     "name": "#%%\n"
    },
    "tags": []
   },
   "outputs": [],
   "source": [
    "trandata.to_csv(f'//hecate/Insurance_US/Product Development/Product Management/Global PPM/Reporting/Data Collection/Production/{str(percode)}\\\\{str(percode)}.euroconv.csv', ',', index=False, encoding='utf-8-sig')\n",
    "\n",
    "\n"
   ]
  },
  {
   "cell_type": "markdown",
   "id": "a668b876",
   "metadata": {
    "papermill": {
     "duration": 0.303383,
     "end_time": "2021-05-24T22:38:19.502945",
     "exception": false,
     "start_time": "2021-05-24T22:38:19.199562",
     "status": "completed"
    },
    "tags": []
   },
   "source": [
    "#### Store the DataFrame for other notebooks to use"
   ]
  },
  {
   "cell_type": "code",
   "execution_count": 15,
   "id": "300f5320",
   "metadata": {
    "execution": {
     "iopub.execute_input": "2021-05-24T22:38:20.071276Z",
     "iopub.status.busy": "2021-05-24T22:38:20.070271Z",
     "iopub.status.idle": "2021-05-24T22:38:20.096276Z",
     "shell.execute_reply": "2021-05-24T22:38:20.097271Z"
    },
    "papermill": {
     "duration": 0.324739,
     "end_time": "2021-05-24T22:38:20.098276",
     "exception": false,
     "start_time": "2021-05-24T22:38:19.773537",
     "status": "completed"
    },
    "tags": []
   },
   "outputs": [
    {
     "name": "stdout",
     "output_type": "stream",
     "text": [
      "Stored 'mo_df' (DataFrame)\n"
     ]
    }
   ],
   "source": [
    "mo_df = trandata\n",
    "\n",
    "%store mo_df\n"
   ]
  }
 ],
 "metadata": {
  "celltoolbar": "Tags",
  "kernelspec": {
   "display_name": "Python 3",
   "language": "python",
   "name": "python3"
  },
  "language_info": {
   "codemirror_mode": {
    "name": "ipython",
    "version": 3
   },
   "file_extension": ".py",
   "mimetype": "text/x-python",
   "name": "python",
   "nbconvert_exporter": "python",
   "pygments_lexer": "ipython3",
   "version": "3.7.6"
  },
  "papermill": {
   "default_parameters": {},
   "duration": 44.666508,
   "end_time": "2021-05-24T22:38:21.572472",
   "environment_variables": {},
   "exception": null,
   "input_path": "pipeline/make_output.ipynb",
   "output_path": "//hecate/Insurance_US/Product Development/Product Management/Global PPM/Reporting/Data Collection/Pipeline Reporting Scripts/GPMpipeline/instances/2021.Q1\\pipeline\\make_output05242021183245--live run.ipynb",
   "parameters": {
    "commit_message": "Edited data for Austraila, json 2 parquet and add comments from email. Begin general evaluation of data submissions.",
    "inst_datetime": "05242021183245",
    "percode": "2021.Q1",
    "run_control": 1
   },
   "start_time": "2021-05-24T22:37:36.905964",
   "version": "2.3.3"
  }
 },
 "nbformat": 4,
 "nbformat_minor": 5
}