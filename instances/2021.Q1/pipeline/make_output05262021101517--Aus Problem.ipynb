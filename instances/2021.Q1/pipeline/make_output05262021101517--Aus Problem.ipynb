{
 "cells": [
  {
   "cell_type": "markdown",
   "id": "61c542d9",
   "metadata": {
    "papermill": {
     "duration": 0.405,
     "end_time": "2021-05-26T14:33:55.591174",
     "exception": false,
     "start_time": "2021-05-26T14:33:55.186174",
     "status": "completed"
    },
    "pycharm": {
     "name": "#%% md\n"
    },
    "tags": []
   },
   "source": [
    "<img src=\"../images/AzPTravel_PPM.png\">"
   ]
  },
  {
   "cell_type": "markdown",
   "id": "9acccdd4",
   "metadata": {
    "papermill": {
     "duration": 0.235999,
     "end_time": "2021-05-26T14:33:56.115577",
     "exception": false,
     "start_time": "2021-05-26T14:33:55.879578",
     "status": "completed"
    },
    "tags": []
   },
   "source": [
    "## GPM Pipeline Output maker\n",
    "\n",
    "#### This script\n",
    "- loads the transformed parquet file\n",
    "- creates the file {parquet}.localcur.csv\n",
    "- makes the Euro conversions\n",
    "- outputs {parquet}.euroconv.csv\n"
   ]
  },
  {
   "cell_type": "markdown",
   "id": "13d6a63e",
   "metadata": {
    "papermill": {
     "duration": 0.260537,
     "end_time": "2021-05-26T14:33:56.719195",
     "exception": false,
     "start_time": "2021-05-26T14:33:56.458658",
     "status": "completed"
    },
    "tags": []
   },
   "source": [
    "#### Parameters section"
   ]
  },
  {
   "cell_type": "code",
   "execution_count": 1,
   "id": "ed966c24",
   "metadata": {
    "execution": {
     "iopub.execute_input": "2021-05-26T14:33:57.183922Z",
     "iopub.status.busy": "2021-05-26T14:33:57.179922Z",
     "iopub.status.idle": "2021-05-26T14:33:57.187927Z",
     "shell.execute_reply": "2021-05-26T14:33:57.226929Z"
    },
    "papermill": {
     "duration": 0.25875,
     "end_time": "2021-05-26T14:33:57.226929",
     "exception": false,
     "start_time": "2021-05-26T14:33:56.968179",
     "status": "completed"
    },
    "pycharm": {
     "name": "#%%\n"
    },
    "tags": [
     "parameters"
    ]
   },
   "outputs": [],
   "source": [
    "commit = \"\"\n",
    "# give a reason for the run\n",
    "\n",
    "percode = \"20XX.QX\"\n",
    "# Data Collection Code, this controls file paths and output names\n",
    "\n",
    "run_type = 1\n",
    "#run_type =  0 - lite run with no reporting, not recommended.\n",
    "#run_type =  1 - lite run with normal reporting, default setting.\n",
    "#run_type =  2 - Heavy run with full reporting, available for audits and troubleshooting.\n",
    "\n",
    "specialchars = \"-GTHtest\"\n",
    "# optional - add up to a 12 character code in order to mark your instance record .ipynb\n",
    "\n",
    "from datetime import datetime\n",
    "inst_datetime = datetime.now().strftime(\"%m%d%Y%H%M%S\")\n",
    "# a single datetime stamp for the full instance run\n"
   ]
  },
  {
   "cell_type": "code",
   "execution_count": 2,
   "id": "8017740d",
   "metadata": {
    "execution": {
     "iopub.execute_input": "2021-05-26T14:33:58.925830Z",
     "iopub.status.busy": "2021-05-26T14:33:58.920834Z",
     "iopub.status.idle": "2021-05-26T14:33:58.933349Z",
     "shell.execute_reply": "2021-05-26T14:33:58.934366Z"
    },
    "papermill": {
     "duration": 1.326821,
     "end_time": "2021-05-26T14:33:58.935352",
     "exception": false,
     "start_time": "2021-05-26T14:33:57.608531",
     "status": "completed"
    },
    "tags": [
     "injected-parameters"
    ]
   },
   "outputs": [],
   "source": [
    "# Parameters\n",
    "run_control = 1\n",
    "percode = \"2021.Q1\"\n",
    "commit_message = \"New AUS needed to be converted from json\"\n",
    "inst_datetime = \"05262021101517\"\n"
   ]
  },
  {
   "cell_type": "markdown",
   "id": "f8b98f2f",
   "metadata": {
    "papermill": {
     "duration": 0.228252,
     "end_time": "2021-05-26T14:33:59.482368",
     "exception": false,
     "start_time": "2021-05-26T14:33:59.254116",
     "status": "completed"
    },
    "tags": []
   },
   "source": [
    "### Set Run Control\n",
    "\n",
    "##### 0 - lite run with no reporting, not recommended.\n",
    "##### 1 - lite run with normal reporting, default setting.\n",
    "##### 2 - Heavy run with full reporting, available for audits and troubleshooting."
   ]
  },
  {
   "cell_type": "code",
   "execution_count": 3,
   "id": "697eb54a",
   "metadata": {
    "execution": {
     "iopub.execute_input": "2021-05-26T14:33:59.903230Z",
     "iopub.status.busy": "2021-05-26T14:33:59.902232Z",
     "iopub.status.idle": "2021-05-26T14:33:59.911232Z",
     "shell.execute_reply": "2021-05-26T14:33:59.912232Z"
    },
    "papermill": {
     "duration": 0.221865,
     "end_time": "2021-05-26T14:33:59.912232",
     "exception": false,
     "start_time": "2021-05-26T14:33:59.690367",
     "status": "completed"
    },
    "pycharm": {
     "name": "#%%\n"
    },
    "tags": []
   },
   "outputs": [],
   "source": [
    "run_control = 0 # in development mode"
   ]
  },
  {
   "cell_type": "markdown",
   "id": "4eb88a75",
   "metadata": {
    "papermill": {
     "duration": 0.236995,
     "end_time": "2021-05-26T14:34:00.327012",
     "exception": false,
     "start_time": "2021-05-26T14:34:00.090017",
     "status": "completed"
    },
    "tags": []
   },
   "source": [
    "#### Packages used"
   ]
  },
  {
   "cell_type": "code",
   "execution_count": 4,
   "id": "88135b27",
   "metadata": {
    "execution": {
     "iopub.execute_input": "2021-05-26T14:34:00.767061Z",
     "iopub.status.busy": "2021-05-26T14:34:00.765067Z",
     "iopub.status.idle": "2021-05-26T14:34:04.447940Z",
     "shell.execute_reply": "2021-05-26T14:34:04.448938Z"
    },
    "papermill": {
     "duration": 3.873922,
     "end_time": "2021-05-26T14:34:04.448938",
     "exception": false,
     "start_time": "2021-05-26T14:34:00.575016",
     "status": "completed"
    },
    "pycharm": {
     "name": "#%%\n"
    },
    "tags": []
   },
   "outputs": [],
   "source": [
    "import sys\n",
    "import os\n",
    "import pandas as pd"
   ]
  },
  {
   "cell_type": "code",
   "execution_count": 5,
   "id": "ac385088",
   "metadata": {
    "execution": {
     "iopub.execute_input": "2021-05-26T14:34:04.917454Z",
     "iopub.status.busy": "2021-05-26T14:34:04.912452Z",
     "iopub.status.idle": "2021-05-26T14:34:04.921464Z",
     "shell.execute_reply": "2021-05-26T14:34:04.923460Z"
    },
    "papermill": {
     "duration": 0.217526,
     "end_time": "2021-05-26T14:34:04.923460",
     "exception": false,
     "start_time": "2021-05-26T14:34:04.705934",
     "status": "completed"
    },
    "pycharm": {
     "name": "#%%\n"
    },
    "tags": []
   },
   "outputs": [],
   "source": [
    "default_DC = \"2021.Q1\"\n",
    "\n",
    "try:\n",
    "    if sys.argv[1] == \"-f\":\n",
    "        percode = default_DC\n",
    "    else:\n",
    "        percode = sys.argv[1]\n",
    "\n",
    "except IndexError:\n",
    "    percode = default_DC\n",
    "except NameError:\n",
    "    percode = default_DC"
   ]
  },
  {
   "cell_type": "markdown",
   "id": "bfe8fcb1",
   "metadata": {
    "papermill": {
     "duration": 0.235526,
     "end_time": "2021-05-26T14:34:05.386080",
     "exception": false,
     "start_time": "2021-05-26T14:34:05.150554",
     "status": "completed"
    },
    "tags": []
   },
   "source": [
    "#### Convert paths and files to variables.\n",
    "#### Read data into pd DataFrames.\n",
    "#### Make paths for the live sources."
   ]
  },
  {
   "cell_type": "code",
   "execution_count": 6,
   "id": "a31981e0",
   "metadata": {
    "execution": {
     "iopub.execute_input": "2021-05-26T14:34:05.819732Z",
     "iopub.status.busy": "2021-05-26T14:34:05.813732Z",
     "iopub.status.idle": "2021-05-26T14:34:05.832735Z",
     "shell.execute_reply": "2021-05-26T14:34:05.833731Z"
    },
    "papermill": {
     "duration": 0.235065,
     "end_time": "2021-05-26T14:34:05.834731",
     "exception": false,
     "start_time": "2021-05-26T14:34:05.599666",
     "status": "completed"
    },
    "pycharm": {
     "name": "#%%\n"
    },
    "tags": []
   },
   "outputs": [],
   "source": [
    "rt_path = f'//hecate/Insurance_US/Product Development/Product Manag' \\\n",
    "          f'ement/Global PPM/Reporting/Data Collection/Production/{str(percode)}'\n",
    "tempfile = os.path.join(rt_path, f'{str(percode)}.localcur.parquet')\n",
    "gppm_file = os.path.join(rt_path, f'GPPM_Input_{str(percode)}.xlsx')"
   ]
  },
  {
   "cell_type": "markdown",
   "id": "935d5bdc",
   "metadata": {
    "papermill": {
     "duration": 0.216819,
     "end_time": "2021-05-26T14:34:06.235072",
     "exception": false,
     "start_time": "2021-05-26T14:34:06.018253",
     "status": "completed"
    },
    "tags": []
   },
   "source": [
    "#### Read source"
   ]
  },
  {
   "cell_type": "code",
   "execution_count": 7,
   "id": "9d9e270b",
   "metadata": {
    "execution": {
     "iopub.execute_input": "2021-05-26T14:34:06.603103Z",
     "iopub.status.busy": "2021-05-26T14:34:06.602111Z",
     "iopub.status.idle": "2021-05-26T14:34:08.149182Z",
     "shell.execute_reply": "2021-05-26T14:34:08.150178Z"
    },
    "papermill": {
     "duration": 1.734591,
     "end_time": "2021-05-26T14:34:08.151177",
     "exception": false,
     "start_time": "2021-05-26T14:34:06.416586",
     "status": "completed"
    },
    "pycharm": {
     "name": "#%%\n"
    },
    "tags": []
   },
   "outputs": [
    {
     "name": "stdout",
     "output_type": "stream",
     "text": [
      "     business_unit                   submission_file country currency  \\\n",
      "0               AU  us_dat_au_05142021143612.parquet      AU      AUD   \n",
      "1               AU  us_dat_au_05142021143612.parquet      AU      AUD   \n",
      "2               AU  us_dat_au_05142021143612.parquet      AU      AUD   \n",
      "3               AU  us_dat_au_05142021143612.parquet      AU      AUD   \n",
      "4               AU  us_dat_au_05142021143612.parquet      AU      AUD   \n",
      "...            ...                               ...     ...      ...   \n",
      "1963            PT  us_dat_pt_05202021121056.parquet      PT      EUR   \n",
      "1964            PT  us_dat_pt_05202021121056.parquet      PT      EUR   \n",
      "1965            PT  us_dat_pt_05202021121056.parquet      PT      EUR   \n",
      "1966            PT  us_dat_pt_05202021121056.parquet      PT      EUR   \n",
      "1967            PT  us_dat_pt_05202021121056.parquet      PT      EUR   \n",
      "\n",
      "                           region reporting_date_from reporting_date_to  \\\n",
      "0                            APAC          2021-01-01        2021-03-31   \n",
      "1                            APAC          2021-01-01        2021-03-31   \n",
      "2                            APAC          2021-01-01        2021-03-31   \n",
      "3                            APAC          2021-01-01        2021-03-31   \n",
      "4                            APAC          2021-01-01        2021-03-31   \n",
      "...                           ...                 ...               ...   \n",
      "1963  Western Europe, LATAM & MEA          2021-01-01        2021-03-31   \n",
      "1964  Western Europe, LATAM & MEA          2021-01-01        2021-03-31   \n",
      "1965  Western Europe, LATAM & MEA          2021-01-01        2021-03-31   \n",
      "1966  Western Europe, LATAM & MEA          2021-01-01        2021-03-31   \n",
      "1967  Western Europe, LATAM & MEA          2021-01-01        2021-03-31   \n",
      "\n",
      "     date_of_analysis type_of_analysis  analysed_months  ...  \\\n",
      "0          2021-04-30     Year To Date              3.0  ...   \n",
      "1          2021-04-30     Year To Date              3.0  ...   \n",
      "2          2021-04-30     Year To Date              3.0  ...   \n",
      "3          2021-04-30     Year To Date              3.0  ...   \n",
      "4          2021-04-30     Year To Date              3.0  ...   \n",
      "...               ...              ...              ...  ...   \n",
      "1963       2021-03-31     Year To Date              3.0  ...   \n",
      "1964       2021-03-31     Year To Date              3.0  ...   \n",
      "1965       2021-03-31     Year To Date              3.0  ...   \n",
      "1966       2021-03-31     Year To Date              3.0  ...   \n",
      "1967       2021-03-31     Year To Date              3.0  ...   \n",
      "\n",
      "      reporting_date_from_int  reporting_date_to_int  date_of_analysis_int  \\\n",
      "0                    20210101               20210331              20210430   \n",
      "1                    20210101               20210331              20210430   \n",
      "2                    20210101               20210331              20210430   \n",
      "3                    20210101               20210331              20210430   \n",
      "4                    20210101               20210331              20210430   \n",
      "...                       ...                    ...                   ...   \n",
      "1963                 20210101               20210331              20210331   \n",
      "1964                 20210101               20210331              20210331   \n",
      "1965                 20210101               20210331              20210331   \n",
      "1966                 20210101               20210331              20210331   \n",
      "1967                 20210101               20210331              20210331   \n",
      "\n",
      "                         selected_fields_for_duplicates ibnrsub   rep_date  \\\n",
      "0     AUInsuranceLocalB2B2CTravelAllianz Affiliation...     0.0 2021-03-31   \n",
      "1     AUInsuranceLocalB2B2CTravelOffline Travel Agen...     0.0 2021-03-31   \n",
      "2     AUInsuranceLocalB2B2CTravelAllianz Affiliation...     0.0 2021-03-31   \n",
      "3     AUInsuranceLocalB2CTravelDirect (Allianz Partn...     0.0 2021-03-31   \n",
      "4     AUInsuranceLocalB2B2CTravelBanks / Credit Card...     0.0 2021-03-31   \n",
      "...                                                 ...     ...        ...   \n",
      "1963  PTReinsuranceLocalB2B2CTravelDirect (Allianz P...     0.0 2021-03-31   \n",
      "1964  PTReinsuranceLocalB2B2CTravelDirect (Allianz P...     0.0 2021-03-31   \n",
      "1965  PTReinsuranceLocalB2B2CTravelDirect (Allianz P...     0.0 2021-03-31   \n",
      "1966  PTReinsuranceLocalB2B2CTravelDirect (Allianz P...     0.0 2021-03-31   \n",
      "1967  PTReinsuranceLocalB2BTravelDirect (Allianz Par...     0.0 2021-03-31   \n",
      "\n",
      "     __index_level_0__   bu_descr month_of_analysis_max      reporting_period  \n",
      "0                    0  Australia              2021 Apr  2021 Jan to 2021 Mar  \n",
      "1                    1  Australia              2021 Apr  2021 Jan to 2021 Mar  \n",
      "2                    3  Australia              2021 Apr  2021 Jan to 2021 Mar  \n",
      "3                    4  Australia              2021 Apr  2021 Jan to 2021 Mar  \n",
      "4                    5  Australia              2021 Apr  2021 Jan to 2021 Mar  \n",
      "...                ...        ...                   ...                   ...  \n",
      "1963              3468   Portugal              2021 Mar  2021 Jan to 2021 Mar  \n",
      "1964              3469   Portugal              2021 Mar  2021 Jan to 2021 Mar  \n",
      "1965              3470   Portugal              2021 Mar  2021 Jan to 2021 Mar  \n",
      "1966              3471   Portugal              2021 Mar  2021 Jan to 2021 Mar  \n",
      "1967              3472   Portugal              2021 Mar  2021 Jan to 2021 Mar  \n",
      "\n",
      "[1968 rows x 81 columns]\n"
     ]
    }
   ],
   "source": [
    "mo_input = pd.read_parquet(tempfile, engine='pyarrow')\n",
    "\n",
    "print(mo_input)"
   ]
  },
  {
   "cell_type": "markdown",
   "id": "d47b2d80",
   "metadata": {
    "papermill": {
     "duration": 0.224059,
     "end_time": "2021-05-26T14:34:08.603304",
     "exception": false,
     "start_time": "2021-05-26T14:34:08.379245",
     "status": "completed"
    },
    "tags": []
   },
   "source": [
    "#### Output local currency csv"
   ]
  },
  {
   "cell_type": "code",
   "execution_count": 8,
   "id": "bfce126b",
   "metadata": {
    "execution": {
     "iopub.execute_input": "2021-05-26T14:34:09.100883Z",
     "iopub.status.busy": "2021-05-26T14:34:09.096884Z",
     "iopub.status.idle": "2021-05-26T14:34:39.977504Z",
     "shell.execute_reply": "2021-05-26T14:34:39.979511Z"
    },
    "papermill": {
     "duration": 31.104201,
     "end_time": "2021-05-26T14:34:39.981561",
     "exception": false,
     "start_time": "2021-05-26T14:34:08.877360",
     "status": "completed"
    },
    "pycharm": {
     "is_executing": true,
     "name": "#%%\n"
    },
    "tags": []
   },
   "outputs": [],
   "source": [
    "mo_input.to_csv(f'//hecate/Insurance_US/Product Development/Product Management/Global PPM/Reporting/Data Collection/Production/{str(percode)}\\\\{str(percode)}.localcur.csv', ',', index=False, encoding='utf-8-sig')"
   ]
  },
  {
   "cell_type": "markdown",
   "id": "ef189ee0",
   "metadata": {
    "papermill": {
     "duration": 0.440498,
     "end_time": "2021-05-26T14:34:40.983206",
     "exception": false,
     "start_time": "2021-05-26T14:34:40.542708",
     "status": "completed"
    },
    "tags": []
   },
   "source": [
    "#### Convert all currency to Euro\n"
   ]
  },
  {
   "cell_type": "code",
   "execution_count": 9,
   "id": "47fadb47",
   "metadata": {
    "execution": {
     "iopub.execute_input": "2021-05-26T14:34:42.408362Z",
     "iopub.status.busy": "2021-05-26T14:34:42.396841Z",
     "iopub.status.idle": "2021-05-26T14:34:48.707608Z",
     "shell.execute_reply": "2021-05-26T14:34:48.708623Z"
    },
    "papermill": {
     "duration": 6.981638,
     "end_time": "2021-05-26T14:34:48.709608",
     "exception": false,
     "start_time": "2021-05-26T14:34:41.727970",
     "status": "completed"
    },
    "pycharm": {
     "is_executing": true,
     "name": "#%%\n"
    },
    "tags": []
   },
   "outputs": [],
   "source": [
    "\n",
    "cflds = ['written_revenues_net_of_taxes', 'written_revenues', 'earned_revenues_net_of_taxes',\n",
    "         'earned_revenues', 'earned_base_commissions', 'earned_over_commissions', 'upfront_cash_payments',\n",
    "         'total_compensation', 'paid_claims', 'ocr__ibnr', 'actual_incurred_losses',\n",
    "         'internal_variable_costs', 'az_tech_fee', 'internal_fixed_costs',\n",
    "         'hq_fees', 'total_expenses', 'risk_premium', 'profit_or_loss', 'cm_hq_view', 'cm_bu_view', ]\n",
    "\n",
    "\n",
    "\"\"\"reads in the input for the Euro conversion\"\"\"\n",
    "euro = pd.read_excel(gppm_file, sheet_name=\"Euro_Rates\")\n"
   ]
  },
  {
   "cell_type": "markdown",
   "id": "e06b8725",
   "metadata": {
    "papermill": {
     "duration": 1.468754,
     "end_time": "2021-05-26T14:34:51.024665",
     "exception": false,
     "start_time": "2021-05-26T14:34:49.555911",
     "status": "completed"
    },
    "tags": []
   },
   "source": [
    "#### Make a copy for debug purposes"
   ]
  },
  {
   "cell_type": "code",
   "execution_count": 10,
   "id": "cc21af62",
   "metadata": {
    "execution": {
     "iopub.execute_input": "2021-05-26T14:34:53.628839Z",
     "iopub.status.busy": "2021-05-26T14:34:53.611851Z",
     "iopub.status.idle": "2021-05-26T14:34:53.674840Z",
     "shell.execute_reply": "2021-05-26T14:34:53.614840Z"
    },
    "papermill": {
     "duration": 1.417516,
     "end_time": "2021-05-26T14:34:53.690841",
     "exception": false,
     "start_time": "2021-05-26T14:34:52.273325",
     "status": "completed"
    },
    "pycharm": {
     "is_executing": true,
     "name": "#%%\n"
    },
    "tags": []
   },
   "outputs": [],
   "source": [
    "trandata = mo_input.copy()"
   ]
  },
  {
   "cell_type": "markdown",
   "id": "7e90d5e0",
   "metadata": {
    "papermill": {
     "duration": 1.011848,
     "end_time": "2021-05-26T14:34:55.879883",
     "exception": false,
     "start_time": "2021-05-26T14:34:54.868035",
     "status": "completed"
    },
    "tags": []
   },
   "source": [
    "#### Convert Currency Below"
   ]
  },
  {
   "cell_type": "code",
   "execution_count": 11,
   "id": "b377ea10",
   "metadata": {
    "execution": {
     "iopub.execute_input": "2021-05-26T14:35:05.434214Z",
     "iopub.status.busy": "2021-05-26T14:35:05.421214Z",
     "iopub.status.idle": "2021-05-26T14:35:05.443215Z",
     "shell.execute_reply": "2021-05-26T14:35:05.444217Z"
    },
    "papermill": {
     "duration": 8.461994,
     "end_time": "2021-05-26T14:35:05.445217",
     "exception": false,
     "start_time": "2021-05-26T14:34:56.983223",
     "status": "completed"
    },
    "pycharm": {
     "is_executing": true,
     "name": "#%%\n"
    },
    "tags": []
   },
   "outputs": [],
   "source": [
    "# create DataFrame of unique currencies with rates\n",
    "\n",
    "fx_uni = euro[['CURR_CODE','RATE']]\n",
    "fx_uni = fx_uni.drop_duplicates()"
   ]
  },
  {
   "cell_type": "code",
   "execution_count": 12,
   "id": "e56a2dce",
   "metadata": {
    "execution": {
     "iopub.execute_input": "2021-05-26T14:35:06.285335Z",
     "iopub.status.busy": "2021-05-26T14:35:06.277334Z",
     "iopub.status.idle": "2021-05-26T14:35:06.299341Z",
     "shell.execute_reply": "2021-05-26T14:35:06.301334Z"
    },
    "papermill": {
     "duration": 0.354309,
     "end_time": "2021-05-26T14:35:06.302334",
     "exception": false,
     "start_time": "2021-05-26T14:35:05.948025",
     "status": "completed"
    },
    "pycharm": {
     "is_executing": true,
     "name": "#%%\n"
    },
    "tags": []
   },
   "outputs": [],
   "source": [
    "# add euro conversion rates to trandata DataFrame as column 'eur_rate'\n",
    "\n",
    "eurdata = pd.merge(trandata['currency'], fx_uni, left_on='currency', right_on='CURR_CODE', how='left')\n",
    "\n",
    "trandata['eur_rate'] = eurdata['RATE']"
   ]
  },
  {
   "cell_type": "markdown",
   "id": "8522ffd3",
   "metadata": {
    "papermill": {
     "duration": 0.678207,
     "end_time": "2021-05-26T14:35:07.316354",
     "exception": false,
     "start_time": "2021-05-26T14:35:06.638147",
     "status": "completed"
    },
    "tags": []
   },
   "source": [
    "#### Convert currency fields"
   ]
  },
  {
   "cell_type": "code",
   "execution_count": 13,
   "id": "e32b9b13",
   "metadata": {
    "execution": {
     "iopub.execute_input": "2021-05-26T14:35:08.657806Z",
     "iopub.status.busy": "2021-05-26T14:35:08.650809Z",
     "iopub.status.idle": "2021-05-26T14:35:09.002891Z",
     "shell.execute_reply": "2021-05-26T14:35:09.004896Z"
    },
    "papermill": {
     "duration": 0.921199,
     "end_time": "2021-05-26T14:35:09.005887",
     "exception": false,
     "start_time": "2021-05-26T14:35:08.084688",
     "status": "completed"
    },
    "pycharm": {
     "is_executing": true,
     "name": "#%%\n"
    },
    "tags": []
   },
   "outputs": [],
   "source": [
    "trandata[cflds] = trandata[cflds].divide(trandata['eur_rate'], axis=\"index\").fillna(0)\n"
   ]
  },
  {
   "cell_type": "markdown",
   "id": "713296ab",
   "metadata": {
    "papermill": {
     "duration": 0.354789,
     "end_time": "2021-05-26T14:35:09.728217",
     "exception": false,
     "start_time": "2021-05-26T14:35:09.373428",
     "status": "completed"
    },
    "tags": []
   },
   "source": [
    "#### Output to {percode}.euroconv.csv"
   ]
  },
  {
   "cell_type": "code",
   "execution_count": 14,
   "id": "d9023d98",
   "metadata": {
    "execution": {
     "iopub.execute_input": "2021-05-26T14:35:10.414941Z",
     "iopub.status.busy": "2021-05-26T14:35:10.411941Z",
     "iopub.status.idle": "2021-05-26T14:35:45.390650Z",
     "shell.execute_reply": "2021-05-26T14:35:45.391653Z"
    },
    "papermill": {
     "duration": 35.265402,
     "end_time": "2021-05-26T14:35:45.392660",
     "exception": false,
     "start_time": "2021-05-26T14:35:10.127258",
     "status": "completed"
    },
    "pycharm": {
     "is_executing": true,
     "name": "#%%\n"
    },
    "tags": []
   },
   "outputs": [],
   "source": [
    "trandata.to_csv(f'//hecate/Insurance_US/Product Development/Product Management/Global PPM/Reporting/Data Collection/Production/{str(percode)}\\\\{str(percode)}.euroconv.csv', ',', index=False, encoding='utf-8-sig')\n",
    "\n",
    "\n"
   ]
  },
  {
   "cell_type": "markdown",
   "id": "391ca563",
   "metadata": {
    "papermill": {
     "duration": 0.353977,
     "end_time": "2021-05-26T14:35:46.036013",
     "exception": false,
     "start_time": "2021-05-26T14:35:45.682036",
     "status": "completed"
    },
    "tags": []
   },
   "source": [
    "#### Store the DataFrame for other notebooks to use"
   ]
  },
  {
   "cell_type": "code",
   "execution_count": 15,
   "id": "b11c2acd",
   "metadata": {
    "execution": {
     "iopub.execute_input": "2021-05-26T14:35:46.624398Z",
     "iopub.status.busy": "2021-05-26T14:35:46.620385Z",
     "iopub.status.idle": "2021-05-26T14:35:46.651387Z",
     "shell.execute_reply": "2021-05-26T14:35:46.653391Z"
    },
    "papermill": {
     "duration": 0.323428,
     "end_time": "2021-05-26T14:35:46.653391",
     "exception": false,
     "start_time": "2021-05-26T14:35:46.329963",
     "status": "completed"
    },
    "tags": []
   },
   "outputs": [
    {
     "name": "stdout",
     "output_type": "stream",
     "text": [
      "Stored 'mo_df' (DataFrame)\n"
     ]
    }
   ],
   "source": [
    "mo_df = trandata\n",
    "\n",
    "%store mo_df\n"
   ]
  }
 ],
 "metadata": {
  "celltoolbar": "Tags",
  "kernelspec": {
   "display_name": "Python 3",
   "language": "python",
   "name": "python3"
  },
  "language_info": {
   "codemirror_mode": {
    "name": "ipython",
    "version": 3
   },
   "file_extension": ".py",
   "mimetype": "text/x-python",
   "name": "python",
   "nbconvert_exporter": "python",
   "pygments_lexer": "ipython3",
   "version": "3.7.6"
  },
  "papermill": {
   "default_parameters": {},
   "duration": 142.071761,
   "end_time": "2021-05-26T14:35:48.790917",
   "environment_variables": {},
   "exception": null,
   "input_path": "pipeline/make_output.ipynb",
   "output_path": "//hecate/Insurance_US/Product Development/Product Management/Global PPM/Reporting/Data Collection/Pipeline Reporting Scripts/GPMpipeline/instances/2021.Q1\\pipeline\\make_output05262021101517--Aus Problem.ipynb",
   "parameters": {
    "commit_message": "New AUS needed to be converted from json",
    "inst_datetime": "05262021101517",
    "percode": "2021.Q1",
    "run_control": 1
   },
   "start_time": "2021-05-26T14:33:26.719156",
   "version": "2.3.3"
  }
 },
 "nbformat": 4,
 "nbformat_minor": 5
}