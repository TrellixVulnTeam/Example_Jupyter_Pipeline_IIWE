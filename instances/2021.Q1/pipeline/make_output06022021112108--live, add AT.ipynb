{
 "cells": [
  {
   "cell_type": "markdown",
   "id": "5358e0b1",
   "metadata": {
    "papermill": {
     "duration": 0.292855,
     "end_time": "2021-06-02T15:26:50.148638",
     "exception": false,
     "start_time": "2021-06-02T15:26:49.855783",
     "status": "completed"
    },
    "pycharm": {
     "name": "#%% md\n"
    },
    "tags": []
   },
   "source": [
    "<img src=\"../images/AzPTravel_PPM.png\">"
   ]
  },
  {
   "cell_type": "markdown",
   "id": "5c735917",
   "metadata": {
    "papermill": {
     "duration": 0.266532,
     "end_time": "2021-06-02T15:26:50.713700",
     "exception": false,
     "start_time": "2021-06-02T15:26:50.447168",
     "status": "completed"
    },
    "tags": []
   },
   "source": [
    "## GPM Pipeline Output maker\n",
    "\n",
    "#### This script\n",
    "- loads the transformed parquet file\n",
    "- creates the file {parquet}.localcur.csv\n",
    "- makes the Euro conversions\n",
    "- outputs {parquet}.euroconv.csv\n"
   ]
  },
  {
   "cell_type": "markdown",
   "id": "8e213b5d",
   "metadata": {
    "papermill": {
     "duration": 0.263325,
     "end_time": "2021-06-02T15:26:51.233170",
     "exception": false,
     "start_time": "2021-06-02T15:26:50.969845",
     "status": "completed"
    },
    "tags": []
   },
   "source": [
    "#### Parameters section"
   ]
  },
  {
   "cell_type": "code",
   "execution_count": 1,
   "id": "a3643749",
   "metadata": {
    "execution": {
     "iopub.execute_input": "2021-06-02T15:26:51.789256Z",
     "iopub.status.busy": "2021-06-02T15:26:51.786253Z",
     "iopub.status.idle": "2021-06-02T15:26:51.793253Z",
     "shell.execute_reply": "2021-06-02T15:26:51.803251Z"
    },
    "papermill": {
     "duration": 0.297565,
     "end_time": "2021-06-02T15:26:51.804253",
     "exception": false,
     "start_time": "2021-06-02T15:26:51.506688",
     "status": "completed"
    },
    "pycharm": {
     "name": "#%%\n"
    },
    "tags": [
     "parameters"
    ]
   },
   "outputs": [],
   "source": [
    "commit = \"\"\n",
    "# give a reason for the run\n",
    "\n",
    "percode = \"20XX.QX\"\n",
    "# Data Collection Code, this controls file paths and output names\n",
    "\n",
    "run_type = 1\n",
    "#run_type =  0 - lite run with no reporting, not recommended.\n",
    "#run_type =  1 - lite run with normal reporting, default setting.\n",
    "#run_type =  2 - Heavy run with full reporting, available for audits and troubleshooting.\n",
    "\n",
    "specialchars = \"-GTHtest\"\n",
    "# optional - add up to a 12 character code in order to mark your instance record .ipynb\n",
    "\n",
    "from datetime import datetime\n",
    "inst_datetime = datetime.now().strftime(\"%m%d%Y%H%M%S\")\n",
    "# a single datetime stamp for the full instance run\n"
   ]
  },
  {
   "cell_type": "code",
   "execution_count": 2,
   "id": "f363078f",
   "metadata": {
    "execution": {
     "iopub.execute_input": "2021-06-02T15:26:52.307047Z",
     "iopub.status.busy": "2021-06-02T15:26:52.305046Z",
     "iopub.status.idle": "2021-06-02T15:26:52.312048Z",
     "shell.execute_reply": "2021-06-02T15:26:52.313048Z"
    },
    "papermill": {
     "duration": 0.27479,
     "end_time": "2021-06-02T15:26:52.313048",
     "exception": false,
     "start_time": "2021-06-02T15:26:52.038258",
     "status": "completed"
    },
    "tags": [
     "injected-parameters"
    ]
   },
   "outputs": [],
   "source": [
    "# Parameters\n",
    "run_control = 1\n",
    "percode = \"2021.Q1\"\n",
    "commit_message = \"Live run, added AT, bad file name, rerun.\"\n",
    "inst_datetime = \"06022021112108\"\n"
   ]
  },
  {
   "cell_type": "markdown",
   "id": "47230a21",
   "metadata": {
    "papermill": {
     "duration": 0.281036,
     "end_time": "2021-06-02T15:26:52.835625",
     "exception": false,
     "start_time": "2021-06-02T15:26:52.554589",
     "status": "completed"
    },
    "tags": []
   },
   "source": [
    "### Set Run Control\n",
    "\n",
    "##### 0 - lite run with no reporting, not recommended.\n",
    "##### 1 - lite run with normal reporting, default setting.\n",
    "##### 2 - Heavy run with full reporting, available for audits and troubleshooting."
   ]
  },
  {
   "cell_type": "code",
   "execution_count": 3,
   "id": "b923dbb3",
   "metadata": {
    "execution": {
     "iopub.execute_input": "2021-06-02T15:26:53.380007Z",
     "iopub.status.busy": "2021-06-02T15:26:53.377011Z",
     "iopub.status.idle": "2021-06-02T15:26:53.381008Z",
     "shell.execute_reply": "2021-06-02T15:26:53.379009Z"
    },
    "papermill": {
     "duration": 0.295999,
     "end_time": "2021-06-02T15:26:53.382007",
     "exception": false,
     "start_time": "2021-06-02T15:26:53.086008",
     "status": "completed"
    },
    "pycharm": {
     "name": "#%%\n"
    },
    "tags": []
   },
   "outputs": [],
   "source": [
    "run_control = 0 # in development mode"
   ]
  },
  {
   "cell_type": "markdown",
   "id": "d82ae1d1",
   "metadata": {
    "papermill": {
     "duration": 0.264029,
     "end_time": "2021-06-02T15:26:54.045265",
     "exception": false,
     "start_time": "2021-06-02T15:26:53.781236",
     "status": "completed"
    },
    "tags": []
   },
   "source": [
    "#### Packages used"
   ]
  },
  {
   "cell_type": "code",
   "execution_count": 4,
   "id": "9d2f5ddc",
   "metadata": {
    "execution": {
     "iopub.execute_input": "2021-06-02T15:26:54.616348Z",
     "iopub.status.busy": "2021-06-02T15:26:54.612350Z",
     "iopub.status.idle": "2021-06-02T15:26:57.550654Z",
     "shell.execute_reply": "2021-06-02T15:26:57.552654Z"
    },
    "papermill": {
     "duration": 3.246538,
     "end_time": "2021-06-02T15:26:57.552654",
     "exception": false,
     "start_time": "2021-06-02T15:26:54.306116",
     "status": "completed"
    },
    "pycharm": {
     "name": "#%%\n"
    },
    "tags": []
   },
   "outputs": [],
   "source": [
    "import sys\n",
    "import os\n",
    "import pandas as pd"
   ]
  },
  {
   "cell_type": "code",
   "execution_count": 5,
   "id": "caad1f5e",
   "metadata": {
    "execution": {
     "iopub.execute_input": "2021-06-02T15:26:58.104948Z",
     "iopub.status.busy": "2021-06-02T15:26:58.102729Z",
     "iopub.status.idle": "2021-06-02T15:26:58.109735Z",
     "shell.execute_reply": "2021-06-02T15:26:58.110730Z"
    },
    "papermill": {
     "duration": 0.283001,
     "end_time": "2021-06-02T15:26:58.110730",
     "exception": false,
     "start_time": "2021-06-02T15:26:57.827729",
     "status": "completed"
    },
    "pycharm": {
     "name": "#%%\n"
    },
    "tags": []
   },
   "outputs": [],
   "source": [
    "default_DC = \"2021.Q1\"\n",
    "\n",
    "try:\n",
    "    if sys.argv[1] == \"-f\":\n",
    "        percode = default_DC\n",
    "    else:\n",
    "        percode = sys.argv[1]\n",
    "\n",
    "except IndexError:\n",
    "    percode = default_DC\n",
    "except NameError:\n",
    "    percode = default_DC"
   ]
  },
  {
   "cell_type": "markdown",
   "id": "0a9d0070",
   "metadata": {
    "papermill": {
     "duration": 0.282522,
     "end_time": "2021-06-02T15:26:58.655544",
     "exception": false,
     "start_time": "2021-06-02T15:26:58.373022",
     "status": "completed"
    },
    "tags": []
   },
   "source": [
    "#### Convert paths and files to variables.\n",
    "#### Read data into pd DataFrames.\n",
    "#### Make paths for the live sources."
   ]
  },
  {
   "cell_type": "code",
   "execution_count": 6,
   "id": "6cb0939e",
   "metadata": {
    "execution": {
     "iopub.execute_input": "2021-06-02T15:26:59.220958Z",
     "iopub.status.busy": "2021-06-02T15:26:59.215953Z",
     "iopub.status.idle": "2021-06-02T15:26:59.224953Z",
     "shell.execute_reply": "2021-06-02T15:26:59.226962Z"
    },
    "papermill": {
     "duration": 0.263726,
     "end_time": "2021-06-02T15:26:59.226962",
     "exception": false,
     "start_time": "2021-06-02T15:26:58.963236",
     "status": "completed"
    },
    "pycharm": {
     "name": "#%%\n"
    },
    "tags": []
   },
   "outputs": [],
   "source": [
    "rt_path = os.path.join('\\\\\\\\hecate\\\\Insurance_US\\\\Product Development\\\\Product Management\\\\Global PPM\\\\Reporting\\\\Data Collection\\\\Production',percode)\n",
    "\n",
    "tempfile = os.path.join(rt_path, f'{percode}.localcur.csv')\n",
    "\n",
    "gppm_file = os.path.join(rt_path, f'GPPM_Input_{str(percode)}.xlsx')\n",
    "\n"
   ]
  },
  {
   "cell_type": "markdown",
   "id": "44553969",
   "metadata": {
    "papermill": {
     "duration": 0.271057,
     "end_time": "2021-06-02T15:26:59.778061",
     "exception": false,
     "start_time": "2021-06-02T15:26:59.507004",
     "status": "completed"
    },
    "tags": []
   },
   "source": [
    "### Make Files"
   ]
  },
  {
   "cell_type": "code",
   "execution_count": 7,
   "id": "ef8c3993",
   "metadata": {
    "execution": {
     "iopub.execute_input": "2021-06-02T15:27:00.471713Z",
     "iopub.status.busy": "2021-06-02T15:27:00.467712Z",
     "iopub.status.idle": "2021-06-02T15:27:00.472714Z",
     "shell.execute_reply": "2021-06-02T15:27:00.469713Z"
    },
    "papermill": {
     "duration": 0.314525,
     "end_time": "2021-06-02T15:27:00.473714",
     "exception": false,
     "start_time": "2021-06-02T15:27:00.159189",
     "status": "completed"
    },
    "tags": []
   },
   "outputs": [],
   "source": [
    "local_file = f'{percode}.localcur.csv'\n",
    "euro_file = f'{percode}.euroconv.csv'\n",
    "\n"
   ]
  },
  {
   "cell_type": "markdown",
   "id": "0d7bcd91",
   "metadata": {
    "papermill": {
     "duration": 0.265757,
     "end_time": "2021-06-02T15:27:01.015013",
     "exception": false,
     "start_time": "2021-06-02T15:27:00.749256",
     "status": "completed"
    },
    "tags": []
   },
   "source": [
    "#### Read source"
   ]
  },
  {
   "cell_type": "code",
   "execution_count": 8,
   "id": "ffd292b1",
   "metadata": {
    "execution": {
     "iopub.execute_input": "2021-06-02T15:27:01.564413Z",
     "iopub.status.busy": "2021-06-02T15:27:01.563408Z",
     "iopub.status.idle": "2021-06-02T15:27:06.270249Z",
     "shell.execute_reply": "2021-06-02T15:27:06.271251Z"
    },
    "papermill": {
     "duration": 4.976381,
     "end_time": "2021-06-02T15:27:06.272251",
     "exception": false,
     "start_time": "2021-06-02T15:27:01.295870",
     "status": "completed"
    },
    "pycharm": {
     "name": "#%%\n"
    },
    "tags": []
   },
   "outputs": [],
   "source": [
    "\n",
    "mo_input = pd.read_csv(tempfile, engine='python')\n",
    "\n",
    "\n",
    "\"\"\"reads in the input for the Euro conversion\"\"\"\n",
    "euro = pd.read_excel(gppm_file, sheet_name=\"Euro_Rates\")\n"
   ]
  },
  {
   "cell_type": "markdown",
   "id": "6392694a",
   "metadata": {
    "papermill": {
     "duration": 0.255714,
     "end_time": "2021-06-02T15:27:06.793601",
     "exception": false,
     "start_time": "2021-06-02T15:27:06.537887",
     "status": "completed"
    },
    "tags": []
   },
   "source": [
    "#### Output local currency csv"
   ]
  },
  {
   "cell_type": "code",
   "execution_count": 9,
   "id": "fb5a5c8d",
   "metadata": {
    "execution": {
     "iopub.execute_input": "2021-06-02T15:27:07.347039Z",
     "iopub.status.busy": "2021-06-02T15:27:07.345041Z",
     "iopub.status.idle": "2021-06-02T15:27:18.587680Z",
     "shell.execute_reply": "2021-06-02T15:27:18.592684Z"
    },
    "papermill": {
     "duration": 11.523602,
     "end_time": "2021-06-02T15:27:18.593679",
     "exception": false,
     "start_time": "2021-06-02T15:27:07.070077",
     "status": "completed"
    },
    "pycharm": {
     "is_executing": true,
     "name": "#%%\n"
    },
    "tags": []
   },
   "outputs": [],
   "source": [
    "mo_input.to_csv(os.path.join(rt_path,local_file), ',', index=False, encoding='utf-8-sig')"
   ]
  },
  {
   "cell_type": "markdown",
   "id": "85abaadf",
   "metadata": {
    "papermill": {
     "duration": 0.299556,
     "end_time": "2021-06-02T15:27:19.282042",
     "exception": false,
     "start_time": "2021-06-02T15:27:18.982486",
     "status": "completed"
    },
    "tags": []
   },
   "source": [
    "#### Convert all currency to Euro\n"
   ]
  },
  {
   "cell_type": "code",
   "execution_count": 10,
   "id": "bb1d9bd5",
   "metadata": {
    "execution": {
     "iopub.execute_input": "2021-06-02T15:27:20.196850Z",
     "iopub.status.busy": "2021-06-02T15:27:20.191852Z",
     "iopub.status.idle": "2021-06-02T15:27:20.204851Z",
     "shell.execute_reply": "2021-06-02T15:27:20.202850Z"
    },
    "papermill": {
     "duration": 0.395996,
     "end_time": "2021-06-02T15:27:20.204851",
     "exception": false,
     "start_time": "2021-06-02T15:27:19.808855",
     "status": "completed"
    },
    "pycharm": {
     "is_executing": true,
     "name": "#%%\n"
    },
    "tags": []
   },
   "outputs": [],
   "source": [
    "\n",
    "\n",
    "cflds = ['written_revenues_net_of_taxes', 'written_revenues', 'earned_revenues_net_of_taxes',\n",
    "         'earned_revenues', 'earned_base_commissions', 'earned_over_commissions', 'upfront_cash_payments',\n",
    "         'total_compensation', 'paid_claims', 'ocr__ibnr', 'actual_incurred_losses',\n",
    "         'internal_variable_costs', 'az_tech_fee', 'internal_fixed_costs',\n",
    "         'hq_fees', 'total_expenses', 'risk_premium', 'profit_or_loss', 'cm_hq_view', 'cm_bu_view', ]\n",
    "\n",
    "alt_cflds = ['written_revenues_net_of_taxes', 'written_revenues', 'earned_revenues_net_of_taxes',\n",
    "         'earned_revenues', 'earned_base_commissions', 'earned_over-commissions', 'upfront_cash_payments',\n",
    "         'total_compensation', 'paid_claims', 'ocr_+_ibnr','actual_incurred_losses_(paid_+_ocr_+_ibnr)',\n",
    "         'internal_variable_costs_(excl._az_tech_fee)', 'az_tech_fee', 'internal_fixed_costs_(excl._hq_fees)',\n",
    "         'hq_fees', 'total_expenses', 'risk_premium', 'profit_or_loss', 'contribution_margin_-_hq_view', 'contribution_margin_-_bu_view', ]\n",
    "\n",
    "\n",
    "\n"
   ]
  },
  {
   "cell_type": "markdown",
   "id": "c1ab98e7",
   "metadata": {
    "papermill": {
     "duration": 0.317045,
     "end_time": "2021-06-02T15:27:20.815896",
     "exception": false,
     "start_time": "2021-06-02T15:27:20.498851",
     "status": "completed"
    },
    "tags": []
   },
   "source": [
    "#### Make a copy for debug purposes"
   ]
  },
  {
   "cell_type": "code",
   "execution_count": 11,
   "id": "d2700acd",
   "metadata": {
    "execution": {
     "iopub.execute_input": "2021-06-02T15:27:21.421544Z",
     "iopub.status.busy": "2021-06-02T15:27:21.419553Z",
     "iopub.status.idle": "2021-06-02T15:27:21.427552Z",
     "shell.execute_reply": "2021-06-02T15:27:21.428547Z"
    },
    "papermill": {
     "duration": 0.294249,
     "end_time": "2021-06-02T15:27:21.429546",
     "exception": false,
     "start_time": "2021-06-02T15:27:21.135297",
     "status": "completed"
    },
    "pycharm": {
     "is_executing": true,
     "name": "#%%\n"
    },
    "tags": []
   },
   "outputs": [],
   "source": [
    "trandata = mo_input.copy()"
   ]
  },
  {
   "cell_type": "markdown",
   "id": "09fb0501",
   "metadata": {
    "papermill": {
     "duration": 0.297515,
     "end_time": "2021-06-02T15:27:22.006591",
     "exception": false,
     "start_time": "2021-06-02T15:27:21.709076",
     "status": "completed"
    },
    "tags": []
   },
   "source": [
    "#### Convert Currency Below"
   ]
  },
  {
   "cell_type": "code",
   "execution_count": 12,
   "id": "893034cc",
   "metadata": {
    "execution": {
     "iopub.execute_input": "2021-06-02T15:27:22.697629Z",
     "iopub.status.busy": "2021-06-02T15:27:22.696627Z",
     "iopub.status.idle": "2021-06-02T15:27:22.701626Z",
     "shell.execute_reply": "2021-06-02T15:27:22.702625Z"
    },
    "papermill": {
     "duration": 0.373035,
     "end_time": "2021-06-02T15:27:22.703625",
     "exception": false,
     "start_time": "2021-06-02T15:27:22.330590",
     "status": "completed"
    },
    "pycharm": {
     "is_executing": true,
     "name": "#%%\n"
    },
    "tags": []
   },
   "outputs": [],
   "source": [
    "# create DataFrame of unique currencies with rates\n",
    "\n",
    "fx_uni = euro[['CURR_CODE','RATE']]\n",
    "fx_uni = fx_uni.drop_duplicates()"
   ]
  },
  {
   "cell_type": "code",
   "execution_count": 13,
   "id": "e66111fb",
   "metadata": {
    "execution": {
     "iopub.execute_input": "2021-06-02T15:27:23.267141Z",
     "iopub.status.busy": "2021-06-02T15:27:23.265064Z",
     "iopub.status.idle": "2021-06-02T15:27:23.302056Z",
     "shell.execute_reply": "2021-06-02T15:27:23.301059Z"
    },
    "papermill": {
     "duration": 0.339309,
     "end_time": "2021-06-02T15:27:23.303061",
     "exception": false,
     "start_time": "2021-06-02T15:27:22.963752",
     "status": "completed"
    },
    "pycharm": {
     "is_executing": true,
     "name": "#%%\n"
    },
    "tags": []
   },
   "outputs": [],
   "source": [
    "# add euro conversion rates to trandata DataFrame as column 'eur_rate'\n",
    "\n",
    "fx_uni = fx_uni.rename(columns = {\"CURR_CODE\":\"currency\"})\n",
    "\n",
    "eurdata = trandata.merge(fx_uni, how='left', left_on='currency', right_on='currency')\n",
    "\n",
    "\n",
    "trandata['eur_rate'] = eurdata['RATE']\n"
   ]
  },
  {
   "cell_type": "markdown",
   "id": "3117fce0",
   "metadata": {
    "papermill": {
     "duration": 0.352396,
     "end_time": "2021-06-02T15:27:23.927720",
     "exception": false,
     "start_time": "2021-06-02T15:27:23.575324",
     "status": "completed"
    },
    "tags": []
   },
   "source": [
    "#### Convert currency fields"
   ]
  },
  {
   "cell_type": "code",
   "execution_count": 14,
   "id": "a2e1bd50",
   "metadata": {
    "execution": {
     "iopub.execute_input": "2021-06-02T15:27:24.546715Z",
     "iopub.status.busy": "2021-06-02T15:27:24.544717Z",
     "iopub.status.idle": "2021-06-02T15:27:25.209544Z",
     "shell.execute_reply": "2021-06-02T15:27:25.211549Z"
    },
    "papermill": {
     "duration": 1.001828,
     "end_time": "2021-06-02T15:27:25.212552",
     "exception": false,
     "start_time": "2021-06-02T15:27:24.210724",
     "status": "completed"
    },
    "pycharm": {
     "is_executing": true,
     "name": "#%%\n"
    },
    "tags": []
   },
   "outputs": [],
   "source": [
    "try:\n",
    "    trandata[cflds] = trandata[cflds].divide(trandata['eur_rate'], axis=\"index\").fillna(0)\n",
    "\n",
    "except KeyError:\n",
    "    trandata[alt_cflds] = trandata[alt_cflds].divide(trandata['eur_rate'], axis=\"index\").fillna(0)\n",
    "\n",
    "    \n"
   ]
  },
  {
   "cell_type": "markdown",
   "id": "526cfcbb",
   "metadata": {
    "papermill": {
     "duration": 0.333033,
     "end_time": "2021-06-02T15:27:25.816864",
     "exception": false,
     "start_time": "2021-06-02T15:27:25.483831",
     "status": "completed"
    },
    "tags": []
   },
   "source": [
    "#### Output to {percode}.euroconv.csv"
   ]
  },
  {
   "cell_type": "code",
   "execution_count": 15,
   "id": "260145d3",
   "metadata": {
    "execution": {
     "iopub.execute_input": "2021-06-02T15:27:26.447414Z",
     "iopub.status.busy": "2021-06-02T15:27:26.444413Z",
     "iopub.status.idle": "2021-06-02T15:27:36.516058Z",
     "shell.execute_reply": "2021-06-02T15:27:36.518057Z"
    },
    "papermill": {
     "duration": 10.392639,
     "end_time": "2021-06-02T15:27:36.518057",
     "exception": false,
     "start_time": "2021-06-02T15:27:26.125418",
     "status": "completed"
    },
    "pycharm": {
     "is_executing": true,
     "name": "#%%\n"
    },
    "tags": []
   },
   "outputs": [],
   "source": [
    "trandata.to_csv( os.path.join(   rt_path , euro_file) , ',', index=False, encoding='utf-8-sig')\n"
   ]
  },
  {
   "cell_type": "code",
   "execution_count": 16,
   "id": "81589a99",
   "metadata": {
    "execution": {
     "iopub.execute_input": "2021-06-02T15:27:37.118429Z",
     "iopub.status.busy": "2021-06-02T15:27:37.116419Z",
     "iopub.status.idle": "2021-06-02T15:27:37.122418Z",
     "shell.execute_reply": "2021-06-02T15:27:37.123418Z"
    },
    "papermill": {
     "duration": 0.265366,
     "end_time": "2021-06-02T15:27:37.124421",
     "exception": false,
     "start_time": "2021-06-02T15:27:36.859055",
     "status": "completed"
    },
    "tags": []
   },
   "outputs": [],
   "source": [
    "#### Store the DataFrame for other notebooks to use and open the file location for the user to view the new files"
   ]
  },
  {
   "cell_type": "code",
   "execution_count": 17,
   "id": "e24ac40e",
   "metadata": {
    "execution": {
     "iopub.execute_input": "2021-06-02T15:27:37.669383Z",
     "iopub.status.busy": "2021-06-02T15:27:37.667377Z",
     "iopub.status.idle": "2021-06-02T15:27:38.065944Z",
     "shell.execute_reply": "2021-06-02T15:27:38.067944Z"
    },
    "papermill": {
     "duration": 0.683269,
     "end_time": "2021-06-02T15:27:38.067944",
     "exception": false,
     "start_time": "2021-06-02T15:27:37.384675",
     "status": "completed"
    },
    "tags": []
   },
   "outputs": [
    {
     "name": "stdout",
     "output_type": "stream",
     "text": [
      "Stored 'mo_df' (DataFrame)\n"
     ]
    }
   ],
   "source": [
    "mo_df = trandata\n",
    "\n",
    "%store mo_df\n",
    "\n",
    "\n",
    "os.startfile( rt_path   )\n",
    "\n"
   ]
  },
  {
   "cell_type": "code",
   "execution_count": null,
   "id": "9f7fa13c",
   "metadata": {
    "papermill": {
     "duration": 0.314994,
     "end_time": "2021-06-02T15:27:38.653938",
     "exception": false,
     "start_time": "2021-06-02T15:27:38.338944",
     "status": "completed"
    },
    "tags": []
   },
   "outputs": [],
   "source": []
  }
 ],
 "metadata": {
  "celltoolbar": "Tags",
  "kernelspec": {
   "display_name": "Python 3",
   "language": "python",
   "name": "python3"
  },
  "language_info": {
   "codemirror_mode": {
    "name": "ipython",
    "version": 3
   },
   "file_extension": ".py",
   "mimetype": "text/x-python",
   "name": "python",
   "nbconvert_exporter": "python",
   "pygments_lexer": "ipython3",
   "version": "3.7.6"
  },
  "papermill": {
   "default_parameters": {},
   "duration": 64.826656,
   "end_time": "2021-06-02T15:27:40.797983",
   "environment_variables": {},
   "exception": null,
   "input_path": "pipeline/make_output.ipynb",
   "output_path": "//hecate/Insurance_US/Product Development/Product Management/Global PPM/Reporting/Data Collection/Pipeline Reporting Scripts/GPMpipeline/instances/2021.Q1\\pipeline\\make_output06022021112108--live, add AT.ipynb",
   "parameters": {
    "commit_message": "Live run, added AT, bad file name, rerun.",
    "inst_datetime": "06022021112108",
    "percode": "2021.Q1",
    "run_control": 1
   },
   "start_time": "2021-06-02T15:26:35.971327",
   "version": "2.3.3"
  }
 },
 "nbformat": 4,
 "nbformat_minor": 5
}