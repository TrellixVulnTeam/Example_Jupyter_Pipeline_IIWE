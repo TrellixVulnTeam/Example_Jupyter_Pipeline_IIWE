{
 "cells": [
  {
   "cell_type": "markdown",
   "id": "bc040c13",
   "metadata": {
    "tags": [
     "papermill-error-cell-tag"
    ]
   },
   "source": [
    "<span style=\"color:red; font-family:Helvetica Neue, Helvetica, Arial, sans-serif; font-size:2em;\">An Exception was encountered at '<a href=\"#papermill-error-cell\">In [14]</a>'.</span>"
   ]
  },
  {
   "cell_type": "markdown",
   "id": "df0d70c9",
   "metadata": {
    "papermill": {
     "duration": 0.269628,
     "end_time": "2021-05-28T17:08:20.527319",
     "exception": false,
     "start_time": "2021-05-28T17:08:20.257691",
     "status": "completed"
    },
    "pycharm": {
     "name": "#%% md\n"
    },
    "tags": []
   },
   "source": [
    "<img src=\"../images/AzPTravel_PPM.png\">"
   ]
  },
  {
   "cell_type": "markdown",
   "id": "145cf281",
   "metadata": {
    "papermill": {
     "duration": 0.237558,
     "end_time": "2021-05-28T17:08:21.002905",
     "exception": false,
     "start_time": "2021-05-28T17:08:20.765347",
     "status": "completed"
    },
    "tags": []
   },
   "source": [
    "## GPM Pipeline Output maker\n",
    "\n",
    "#### This script\n",
    "- loads the transformed parquet file\n",
    "- creates the file {parquet}.localcur.csv\n",
    "- makes the Euro conversions\n",
    "- outputs {parquet}.euroconv.csv\n"
   ]
  },
  {
   "cell_type": "markdown",
   "id": "6bbb77b1",
   "metadata": {
    "papermill": {
     "duration": 0.261593,
     "end_time": "2021-05-28T17:08:21.512670",
     "exception": false,
     "start_time": "2021-05-28T17:08:21.251077",
     "status": "completed"
    },
    "tags": []
   },
   "source": [
    "#### Parameters section"
   ]
  },
  {
   "cell_type": "code",
   "execution_count": 1,
   "id": "bbbea936",
   "metadata": {
    "execution": {
     "iopub.execute_input": "2021-05-28T17:08:22.035661Z",
     "iopub.status.busy": "2021-05-28T17:08:22.030662Z",
     "iopub.status.idle": "2021-05-28T17:08:22.038664Z",
     "shell.execute_reply": "2021-05-28T17:08:22.047665Z"
    },
    "papermill": {
     "duration": 0.294831,
     "end_time": "2021-05-28T17:08:22.048665",
     "exception": false,
     "start_time": "2021-05-28T17:08:21.753834",
     "status": "completed"
    },
    "pycharm": {
     "name": "#%%\n"
    },
    "tags": [
     "parameters"
    ]
   },
   "outputs": [],
   "source": [
    "commit = \"\"\n",
    "# give a reason for the run\n",
    "\n",
    "percode = \"20XX.QX\"\n",
    "# Data Collection Code, this controls file paths and output names\n",
    "\n",
    "run_type = 1\n",
    "#run_type =  0 - lite run with no reporting, not recommended.\n",
    "#run_type =  1 - lite run with normal reporting, default setting.\n",
    "#run_type =  2 - Heavy run with full reporting, available for audits and troubleshooting.\n",
    "\n",
    "specialchars = \"-GTHtest\"\n",
    "# optional - add up to a 12 character code in order to mark your instance record .ipynb\n",
    "\n",
    "from datetime import datetime\n",
    "inst_datetime = datetime.now().strftime(\"%m%d%Y%H%M%S\")\n",
    "# a single datetime stamp for the full instance run\n"
   ]
  },
  {
   "cell_type": "code",
   "execution_count": 2,
   "id": "0bfb6919",
   "metadata": {
    "execution": {
     "iopub.execute_input": "2021-05-28T17:08:22.552351Z",
     "iopub.status.busy": "2021-05-28T17:08:22.550344Z",
     "iopub.status.idle": "2021-05-28T17:08:22.555343Z",
     "shell.execute_reply": "2021-05-28T17:08:22.557342Z"
    },
    "papermill": {
     "duration": 0.258011,
     "end_time": "2021-05-28T17:08:22.557342",
     "exception": false,
     "start_time": "2021-05-28T17:08:22.299331",
     "status": "completed"
    },
    "tags": [
     "injected-parameters"
    ]
   },
   "outputs": [],
   "source": [
    "# Parameters\n",
    "run_control = 1\n",
    "percode = \"2021.Q1\"\n",
    "commit_message = \"Demo Test\"\n",
    "inst_datetime = \"05282021130404\"\n"
   ]
  },
  {
   "cell_type": "markdown",
   "id": "f5210dce",
   "metadata": {
    "papermill": {
     "duration": 0.258006,
     "end_time": "2021-05-28T17:08:23.061342",
     "exception": false,
     "start_time": "2021-05-28T17:08:22.803336",
     "status": "completed"
    },
    "tags": []
   },
   "source": [
    "### Set Run Control\n",
    "\n",
    "##### 0 - lite run with no reporting, not recommended.\n",
    "##### 1 - lite run with normal reporting, default setting.\n",
    "##### 2 - Heavy run with full reporting, available for audits and troubleshooting."
   ]
  },
  {
   "cell_type": "code",
   "execution_count": 3,
   "id": "a64b08e0",
   "metadata": {
    "execution": {
     "iopub.execute_input": "2021-05-28T17:08:23.585693Z",
     "iopub.status.busy": "2021-05-28T17:08:23.583689Z",
     "iopub.status.idle": "2021-05-28T17:08:23.590684Z",
     "shell.execute_reply": "2021-05-28T17:08:23.591682Z"
    },
    "papermill": {
     "duration": 0.277598,
     "end_time": "2021-05-28T17:08:23.592682",
     "exception": false,
     "start_time": "2021-05-28T17:08:23.315084",
     "status": "completed"
    },
    "pycharm": {
     "name": "#%%\n"
    },
    "tags": []
   },
   "outputs": [],
   "source": [
    "run_control = 0 # in development mode"
   ]
  },
  {
   "cell_type": "markdown",
   "id": "f8504512",
   "metadata": {
    "papermill": {
     "duration": 0.252419,
     "end_time": "2021-05-28T17:08:24.097105",
     "exception": false,
     "start_time": "2021-05-28T17:08:23.844686",
     "status": "completed"
    },
    "tags": []
   },
   "source": [
    "#### Packages used"
   ]
  },
  {
   "cell_type": "code",
   "execution_count": 4,
   "id": "f022fad1",
   "metadata": {
    "execution": {
     "iopub.execute_input": "2021-05-28T17:08:24.589665Z",
     "iopub.status.busy": "2021-05-28T17:08:24.587665Z",
     "iopub.status.idle": "2021-05-28T17:08:28.717021Z",
     "shell.execute_reply": "2021-05-28T17:08:28.719018Z"
    },
    "papermill": {
     "duration": 4.374914,
     "end_time": "2021-05-28T17:08:28.720024",
     "exception": false,
     "start_time": "2021-05-28T17:08:24.345110",
     "status": "completed"
    },
    "pycharm": {
     "name": "#%%\n"
    },
    "tags": []
   },
   "outputs": [],
   "source": [
    "import sys\n",
    "import os\n",
    "import pandas as pd"
   ]
  },
  {
   "cell_type": "code",
   "execution_count": 5,
   "id": "03ba65c2",
   "metadata": {
    "execution": {
     "iopub.execute_input": "2021-05-28T17:08:29.354368Z",
     "iopub.status.busy": "2021-05-28T17:08:29.349380Z",
     "iopub.status.idle": "2021-05-28T17:08:29.363365Z",
     "shell.execute_reply": "2021-05-28T17:08:29.364365Z"
    },
    "papermill": {
     "duration": 0.354092,
     "end_time": "2021-05-28T17:08:29.364365",
     "exception": false,
     "start_time": "2021-05-28T17:08:29.010273",
     "status": "completed"
    },
    "pycharm": {
     "name": "#%%\n"
    },
    "tags": []
   },
   "outputs": [],
   "source": [
    "default_DC = \"2021.Q1\"\n",
    "\n",
    "try:\n",
    "    if sys.argv[1] == \"-f\":\n",
    "        percode = default_DC\n",
    "    else:\n",
    "        percode = sys.argv[1]\n",
    "\n",
    "except IndexError:\n",
    "    percode = default_DC\n",
    "except NameError:\n",
    "    percode = default_DC"
   ]
  },
  {
   "cell_type": "markdown",
   "id": "869c20cb",
   "metadata": {
    "papermill": {
     "duration": 0.288052,
     "end_time": "2021-05-28T17:08:29.936937",
     "exception": false,
     "start_time": "2021-05-28T17:08:29.648885",
     "status": "completed"
    },
    "tags": []
   },
   "source": [
    "#### Convert paths and files to variables.\n",
    "#### Read data into pd DataFrames.\n",
    "#### Make paths for the live sources."
   ]
  },
  {
   "cell_type": "code",
   "execution_count": 6,
   "id": "0aa58db0",
   "metadata": {
    "execution": {
     "iopub.execute_input": "2021-05-28T17:08:30.538161Z",
     "iopub.status.busy": "2021-05-28T17:08:30.535161Z",
     "iopub.status.idle": "2021-05-28T17:08:30.540160Z",
     "shell.execute_reply": "2021-05-28T17:08:30.541160Z"
    },
    "papermill": {
     "duration": 0.293219,
     "end_time": "2021-05-28T17:08:30.542157",
     "exception": false,
     "start_time": "2021-05-28T17:08:30.248938",
     "status": "completed"
    },
    "pycharm": {
     "name": "#%%\n"
    },
    "tags": []
   },
   "outputs": [],
   "source": [
    "rt_path = os.path.join('\\\\\\\\hecate\\\\Insurance_US\\\\Product Development\\\\Product Management\\\\Global PPM\\\\Reporting\\\\Data Collection\\\\Production',percode)\n",
    "\n",
    "tempfile = os.path.join(rt_path, f'{percode}.localcur.parquet')\n",
    "\n",
    "gppm_file = os.path.join(rt_path, f'GPPM_Input_{str(percode)}.xlsx')\n",
    "\n"
   ]
  },
  {
   "cell_type": "markdown",
   "id": "cd089bbc",
   "metadata": {
    "papermill": {
     "duration": 0.272969,
     "end_time": "2021-05-28T17:08:31.136297",
     "exception": false,
     "start_time": "2021-05-28T17:08:30.863328",
     "status": "completed"
    },
    "tags": []
   },
   "source": [
    "### Make Files"
   ]
  },
  {
   "cell_type": "code",
   "execution_count": 7,
   "id": "cb77445d",
   "metadata": {
    "execution": {
     "iopub.execute_input": "2021-05-28T17:08:31.710286Z",
     "iopub.status.busy": "2021-05-28T17:08:31.707257Z",
     "iopub.status.idle": "2021-05-28T17:08:31.715259Z",
     "shell.execute_reply": "2021-05-28T17:08:31.714259Z"
    },
    "papermill": {
     "duration": 0.288533,
     "end_time": "2021-05-28T17:08:31.716260",
     "exception": false,
     "start_time": "2021-05-28T17:08:31.427727",
     "status": "completed"
    },
    "tags": []
   },
   "outputs": [],
   "source": [
    "local_file = f'{percode}.localcur.csv'\n",
    "euro_file = f'{percode}.euroconv.csv'\n",
    "\n"
   ]
  },
  {
   "cell_type": "markdown",
   "id": "0ada26e9",
   "metadata": {
    "papermill": {
     "duration": 0.281747,
     "end_time": "2021-05-28T17:08:32.340183",
     "exception": false,
     "start_time": "2021-05-28T17:08:32.058436",
     "status": "completed"
    },
    "tags": []
   },
   "source": [
    "#### Read source"
   ]
  },
  {
   "cell_type": "code",
   "execution_count": 8,
   "id": "6af4d5aa",
   "metadata": {
    "execution": {
     "iopub.execute_input": "2021-05-28T17:08:32.953258Z",
     "iopub.status.busy": "2021-05-28T17:08:32.951266Z",
     "iopub.status.idle": "2021-05-28T17:08:35.306140Z",
     "shell.execute_reply": "2021-05-28T17:08:35.308135Z"
    },
    "papermill": {
     "duration": 2.651954,
     "end_time": "2021-05-28T17:08:35.309142",
     "exception": false,
     "start_time": "2021-05-28T17:08:32.657188",
     "status": "completed"
    },
    "pycharm": {
     "name": "#%%\n"
    },
    "tags": []
   },
   "outputs": [
    {
     "name": "stdout",
     "output_type": "stream",
     "text": [
      "                       submission_file business_unit country currency  \\\n",
      "0     us_dat_au_05142021143612.parquet            AU      AU      AUD   \n",
      "1     us_dat_au_05142021143612.parquet            AU      AU      AUD   \n",
      "3     us_dat_au_05142021143612.parquet            AU      AU      AUD   \n",
      "4     us_dat_au_05142021143612.parquet            AU      AU      AUD   \n",
      "5     us_dat_au_05142021143612.parquet            AU      AU      AUD   \n",
      "...                                ...           ...     ...      ...   \n",
      "3619  us_dat_pt_05202021121056.parquet            PT      PT      EUR   \n",
      "3620  us_dat_pt_05202021121056.parquet            PT      PT      EUR   \n",
      "3621  us_dat_pt_05202021121056.parquet            PT      PT      EUR   \n",
      "3622  us_dat_pt_05202021121056.parquet            PT      PT      EUR   \n",
      "3623  us_dat_pt_05202021121056.parquet            PT      PT      EUR   \n",
      "\n",
      "                           region reporting_date_from reporting_date_to  \\\n",
      "0                            APAC          2021-01-01        2021-03-31   \n",
      "1                            APAC          2021-01-01        2021-03-31   \n",
      "3                            APAC          2021-01-01        2021-03-31   \n",
      "4                            APAC          2021-01-01        2021-03-31   \n",
      "5                            APAC          2021-01-01        2021-03-31   \n",
      "...                           ...                 ...               ...   \n",
      "3619  Western Europe, LATAM & MEA          2021-01-01        2021-03-31   \n",
      "3620  Western Europe, LATAM & MEA          2021-01-01        2021-03-31   \n",
      "3621  Western Europe, LATAM & MEA          2021-01-01        2021-03-31   \n",
      "3622  Western Europe, LATAM & MEA          2021-01-01        2021-03-31   \n",
      "3623  Western Europe, LATAM & MEA          2021-01-01        2021-03-31   \n",
      "\n",
      "     date_of_analysis type_of_analysis  analysed_months  ...  unnamed:_66  \\\n",
      "0          2021-04-30     Year To Date              3.0  ...          0.0   \n",
      "1          2021-04-30     Year To Date              3.0  ...          0.0   \n",
      "3          2021-04-30     Year To Date              3.0  ...          0.0   \n",
      "4          2021-04-30     Year To Date              3.0  ...          0.0   \n",
      "5          2021-04-30     Year To Date              3.0  ...          0.0   \n",
      "...               ...              ...              ...  ...          ...   \n",
      "3619       2021-03-31     Year To Date              3.0  ...          0.0   \n",
      "3620       2021-03-31     Year To Date              3.0  ...          0.0   \n",
      "3621       2021-03-31     Year To Date              3.0  ...          0.0   \n",
      "3622       2021-03-31     Year To Date              3.0  ...          0.0   \n",
      "3623       2021-03-31     Year To Date              3.0  ...          0.0   \n",
      "\n",
      "      concat2    comsub     expsub reporting_date_from_int  \\\n",
      "0       AUAUD  0.100998   3.245346                20210101   \n",
      "1       AUAUD  0.233379   3.589092                20210101   \n",
      "3       AUAUD  0.000000   4.723789                20210101   \n",
      "4       AUAUD  0.220000   4.239521                20210101   \n",
      "5       AUAUD  0.000000   0.305728                20210101   \n",
      "...       ...       ...        ...                     ...   \n",
      "3619    PTEUR  0.000000   0.538397                20210101   \n",
      "3620    PTEUR  0.000000   0.426832                20210101   \n",
      "3621    PTEUR  0.000000  18.673326                20210101   \n",
      "3622    PTEUR  0.000000   0.859278                20210101   \n",
      "3623    PTEUR  0.000000   1.023709                20210101   \n",
      "\n",
      "     reporting_date_to_int date_of_analysis_int  \\\n",
      "0                 20210331             20210430   \n",
      "1                 20210331             20210430   \n",
      "3                 20210331             20210430   \n",
      "4                 20210331             20210430   \n",
      "5                 20210331             20210430   \n",
      "...                    ...                  ...   \n",
      "3619              20210331             20210331   \n",
      "3620              20210331             20210331   \n",
      "3621              20210331             20210331   \n",
      "3622              20210331             20210331   \n",
      "3623              20210331             20210331   \n",
      "\n",
      "                         selected_fields_for_duplicates ibnrsub   rep_date  \n",
      "0     AUInsuranceLocalB2B2CTravelAllianz Affiliation...     NaN 2021-03-31  \n",
      "1     AUInsuranceLocalB2B2CTravelOffline Travel Agen...     NaN 2021-03-31  \n",
      "3     AUInsuranceLocalB2B2CTravelAllianz Affiliation...     NaN 2021-03-31  \n",
      "4     AUInsuranceLocalB2CTravelDirect (Allianz Partn...     NaN 2021-03-31  \n",
      "5     AUInsuranceLocalB2B2CTravelBanks / Credit Card...     NaN 2021-03-31  \n",
      "...                                                 ...     ...        ...  \n",
      "3619  PTReinsuranceLocalB2B2CTravelDirect (Allianz P...     0.0 2021-03-31  \n",
      "3620  PTReinsuranceLocalB2B2CTravelDirect (Allianz P...     0.0 2021-03-31  \n",
      "3621  PTReinsuranceLocalB2B2CTravelDirect (Allianz P...     0.0 2021-03-31  \n",
      "3622  PTReinsuranceLocalB2B2CTravelDirect (Allianz P...     0.0 2021-03-31  \n",
      "3623  PTReinsuranceLocalB2BTravelDirect (Allianz Par...     0.0 2021-03-31  \n",
      "\n",
      "[2119 rows x 77 columns]\n"
     ]
    }
   ],
   "source": [
    "mo_input = pd.read_parquet(tempfile, engine='pyarrow')\n",
    "\n",
    "print(mo_input)"
   ]
  },
  {
   "cell_type": "markdown",
   "id": "36428b6f",
   "metadata": {
    "papermill": {
     "duration": 0.275562,
     "end_time": "2021-05-28T17:08:35.907698",
     "exception": false,
     "start_time": "2021-05-28T17:08:35.632136",
     "status": "completed"
    },
    "tags": []
   },
   "source": [
    "#### Output local currency csv"
   ]
  },
  {
   "cell_type": "code",
   "execution_count": 9,
   "id": "3ad519fa",
   "metadata": {
    "execution": {
     "iopub.execute_input": "2021-05-28T17:08:36.457560Z",
     "iopub.status.busy": "2021-05-28T17:08:36.456561Z",
     "iopub.status.idle": "2021-05-28T17:08:46.305661Z",
     "shell.execute_reply": "2021-05-28T17:08:46.307651Z"
    },
    "papermill": {
     "duration": 10.152256,
     "end_time": "2021-05-28T17:08:46.307651",
     "exception": false,
     "start_time": "2021-05-28T17:08:36.155395",
     "status": "completed"
    },
    "pycharm": {
     "is_executing": true,
     "name": "#%%\n"
    },
    "tags": []
   },
   "outputs": [],
   "source": [
    "mo_input.to_csv(os.path.join(rt_path,local_file), ',', index=False, encoding='utf-8-sig')"
   ]
  },
  {
   "cell_type": "markdown",
   "id": "1f298164",
   "metadata": {
    "papermill": {
     "duration": 0.267756,
     "end_time": "2021-05-28T17:08:46.923630",
     "exception": false,
     "start_time": "2021-05-28T17:08:46.655874",
     "status": "completed"
    },
    "tags": []
   },
   "source": [
    "#### Convert all currency to Euro\n"
   ]
  },
  {
   "cell_type": "code",
   "execution_count": 10,
   "id": "72571247",
   "metadata": {
    "execution": {
     "iopub.execute_input": "2021-05-28T17:08:47.468106Z",
     "iopub.status.busy": "2021-05-28T17:08:47.462106Z",
     "iopub.status.idle": "2021-05-28T17:08:49.278366Z",
     "shell.execute_reply": "2021-05-28T17:08:49.279370Z"
    },
    "papermill": {
     "duration": 2.089217,
     "end_time": "2021-05-28T17:08:49.280366",
     "exception": false,
     "start_time": "2021-05-28T17:08:47.191149",
     "status": "completed"
    },
    "pycharm": {
     "is_executing": true,
     "name": "#%%\n"
    },
    "tags": []
   },
   "outputs": [],
   "source": [
    "\n",
    "cflds = ['written_revenues_net_of_taxes', 'written_revenues', 'earned_revenues_net_of_taxes',\n",
    "         'earned_revenues', 'earned_base_commissions', 'earned_over_commissions', 'upfront_cash_payments',\n",
    "         'total_compensation', 'paid_claims', 'ocr__ibnr', 'actual_incurred_losses',\n",
    "         'internal_variable_costs', 'az_tech_fee', 'internal_fixed_costs',\n",
    "         'hq_fees', 'total_expenses', 'risk_premium', 'profit_or_loss', 'cm_hq_view', 'cm_bu_view', ]\n",
    "\n",
    "\n",
    "\"\"\"reads in the input for the Euro conversion\"\"\"\n",
    "euro = pd.read_excel(gppm_file, sheet_name=\"Euro_Rates\")\n"
   ]
  },
  {
   "cell_type": "markdown",
   "id": "0f09d5c1",
   "metadata": {
    "papermill": {
     "duration": 0.268589,
     "end_time": "2021-05-28T17:08:49.811526",
     "exception": false,
     "start_time": "2021-05-28T17:08:49.542937",
     "status": "completed"
    },
    "tags": []
   },
   "source": [
    "#### Make a copy for debug purposes"
   ]
  },
  {
   "cell_type": "code",
   "execution_count": 11,
   "id": "c4b3f79e",
   "metadata": {
    "execution": {
     "iopub.execute_input": "2021-05-28T17:08:50.368939Z",
     "iopub.status.busy": "2021-05-28T17:08:50.367938Z",
     "iopub.status.idle": "2021-05-28T17:08:50.374937Z",
     "shell.execute_reply": "2021-05-28T17:08:50.376936Z"
    },
    "papermill": {
     "duration": 0.303699,
     "end_time": "2021-05-28T17:08:50.376936",
     "exception": false,
     "start_time": "2021-05-28T17:08:50.073237",
     "status": "completed"
    },
    "pycharm": {
     "is_executing": true,
     "name": "#%%\n"
    },
    "tags": []
   },
   "outputs": [],
   "source": [
    "trandata = mo_input.copy()"
   ]
  },
  {
   "cell_type": "markdown",
   "id": "f5ec00c9",
   "metadata": {
    "papermill": {
     "duration": 0.632937,
     "end_time": "2021-05-28T17:08:51.704285",
     "exception": false,
     "start_time": "2021-05-28T17:08:51.071348",
     "status": "completed"
    },
    "tags": []
   },
   "source": [
    "#### Convert Currency Below"
   ]
  },
  {
   "cell_type": "code",
   "execution_count": 12,
   "id": "1dd99b63",
   "metadata": {
    "execution": {
     "iopub.execute_input": "2021-05-28T17:08:52.562909Z",
     "iopub.status.busy": "2021-05-28T17:08:52.555384Z",
     "iopub.status.idle": "2021-05-28T17:08:52.566904Z",
     "shell.execute_reply": "2021-05-28T17:08:52.568901Z"
    },
    "papermill": {
     "duration": 0.545616,
     "end_time": "2021-05-28T17:08:52.568901",
     "exception": false,
     "start_time": "2021-05-28T17:08:52.023285",
     "status": "completed"
    },
    "pycharm": {
     "is_executing": true,
     "name": "#%%\n"
    },
    "tags": []
   },
   "outputs": [],
   "source": [
    "# create DataFrame of unique currencies with rates\n",
    "\n",
    "fx_uni = euro[['CURR_CODE','RATE']]\n",
    "fx_uni = fx_uni.drop_duplicates()"
   ]
  },
  {
   "cell_type": "code",
   "execution_count": 13,
   "id": "b61355c7",
   "metadata": {
    "execution": {
     "iopub.execute_input": "2021-05-28T17:08:53.098932Z",
     "iopub.status.busy": "2021-05-28T17:08:53.090933Z",
     "iopub.status.idle": "2021-05-28T17:08:53.110933Z",
     "shell.execute_reply": "2021-05-28T17:08:53.111933Z"
    },
    "papermill": {
     "duration": 0.281514,
     "end_time": "2021-05-28T17:08:53.111933",
     "exception": false,
     "start_time": "2021-05-28T17:08:52.830419",
     "status": "completed"
    },
    "pycharm": {
     "is_executing": true,
     "name": "#%%\n"
    },
    "tags": []
   },
   "outputs": [],
   "source": [
    "# add euro conversion rates to trandata DataFrame as column 'eur_rate'\n",
    "\n",
    "eurdata = pd.merge(trandata['currency'], fx_uni, left_on='currency', right_on='CURR_CODE', how='left')\n",
    "\n",
    "trandata['eur_rate'] = eurdata['RATE']"
   ]
  },
  {
   "cell_type": "markdown",
   "id": "e5801032",
   "metadata": {
    "papermill": {
     "duration": 0.314166,
     "end_time": "2021-05-28T17:08:53.686098",
     "exception": false,
     "start_time": "2021-05-28T17:08:53.371932",
     "status": "completed"
    },
    "tags": []
   },
   "source": [
    "#### Convert currency fields"
   ]
  },
  {
   "cell_type": "markdown",
   "id": "e4938dab",
   "metadata": {
    "tags": [
     "papermill-error-cell-tag"
    ]
   },
   "source": [
    "<span id=\"papermill-error-cell\" style=\"color:red; font-family:Helvetica Neue, Helvetica, Arial, sans-serif; font-size:2em;\">Execution using papermill encountered an exception here and stopped:</span>"
   ]
  },
  {
   "cell_type": "code",
   "execution_count": 14,
   "id": "ba8ffecb",
   "metadata": {
    "execution": {
     "iopub.execute_input": "2021-05-28T17:08:54.248693Z",
     "iopub.status.busy": "2021-05-28T17:08:54.246725Z",
     "iopub.status.idle": "2021-05-28T17:08:54.833746Z",
     "shell.execute_reply": "2021-05-28T17:08:54.822745Z"
    },
    "papermill": {
     "duration": 0.881042,
     "end_time": "2021-05-28T17:08:54.834733",
     "exception": true,
     "start_time": "2021-05-28T17:08:53.953691",
     "status": "failed"
    },
    "pycharm": {
     "is_executing": true,
     "name": "#%%\n"
    },
    "tags": []
   },
   "outputs": [
    {
     "ename": "KeyError",
     "evalue": "\"['cm_hq_view', 'internal_variable_costs', 'earned_over_commissions', 'ocr__ibnr', 'internal_fixed_costs', 'cm_bu_view', 'actual_incurred_losses'] not in index\"",
     "output_type": "error",
     "traceback": [
      "\u001b[1;31m---------------------------------------------------------------------------\u001b[0m",
      "\u001b[1;31mKeyError\u001b[0m                                  Traceback (most recent call last)",
      "\u001b[1;32m<ipython-input-14-2ad0bbe2dfc4>\u001b[0m in \u001b[0;36m<module>\u001b[1;34m\u001b[0m\n\u001b[1;32m----> 1\u001b[1;33m \u001b[0mtrandata\u001b[0m\u001b[1;33m[\u001b[0m\u001b[0mcflds\u001b[0m\u001b[1;33m]\u001b[0m \u001b[1;33m=\u001b[0m \u001b[0mtrandata\u001b[0m\u001b[1;33m[\u001b[0m\u001b[0mcflds\u001b[0m\u001b[1;33m]\u001b[0m\u001b[1;33m.\u001b[0m\u001b[0mdivide\u001b[0m\u001b[1;33m(\u001b[0m\u001b[0mtrandata\u001b[0m\u001b[1;33m[\u001b[0m\u001b[1;34m'eur_rate'\u001b[0m\u001b[1;33m]\u001b[0m\u001b[1;33m,\u001b[0m \u001b[0maxis\u001b[0m\u001b[1;33m=\u001b[0m\u001b[1;34m\"index\"\u001b[0m\u001b[1;33m)\u001b[0m\u001b[1;33m.\u001b[0m\u001b[0mfillna\u001b[0m\u001b[1;33m(\u001b[0m\u001b[1;36m0\u001b[0m\u001b[1;33m)\u001b[0m\u001b[1;33m\u001b[0m\u001b[1;33m\u001b[0m\u001b[0m\n\u001b[0m",
      "\u001b[1;32m~\\Anaconda3\\lib\\site-packages\\pandas\\core\\frame.py\u001b[0m in \u001b[0;36m__getitem__\u001b[1;34m(self, key)\u001b[0m\n\u001b[0;32m   2906\u001b[0m             \u001b[1;32mif\u001b[0m \u001b[0mis_iterator\u001b[0m\u001b[1;33m(\u001b[0m\u001b[0mkey\u001b[0m\u001b[1;33m)\u001b[0m\u001b[1;33m:\u001b[0m\u001b[1;33m\u001b[0m\u001b[1;33m\u001b[0m\u001b[0m\n\u001b[0;32m   2907\u001b[0m                 \u001b[0mkey\u001b[0m \u001b[1;33m=\u001b[0m \u001b[0mlist\u001b[0m\u001b[1;33m(\u001b[0m\u001b[0mkey\u001b[0m\u001b[1;33m)\u001b[0m\u001b[1;33m\u001b[0m\u001b[1;33m\u001b[0m\u001b[0m\n\u001b[1;32m-> 2908\u001b[1;33m             \u001b[0mindexer\u001b[0m \u001b[1;33m=\u001b[0m \u001b[0mself\u001b[0m\u001b[1;33m.\u001b[0m\u001b[0mloc\u001b[0m\u001b[1;33m.\u001b[0m\u001b[0m_get_listlike_indexer\u001b[0m\u001b[1;33m(\u001b[0m\u001b[0mkey\u001b[0m\u001b[1;33m,\u001b[0m \u001b[0maxis\u001b[0m\u001b[1;33m=\u001b[0m\u001b[1;36m1\u001b[0m\u001b[1;33m,\u001b[0m \u001b[0mraise_missing\u001b[0m\u001b[1;33m=\u001b[0m\u001b[1;32mTrue\u001b[0m\u001b[1;33m)\u001b[0m\u001b[1;33m[\u001b[0m\u001b[1;36m1\u001b[0m\u001b[1;33m]\u001b[0m\u001b[1;33m\u001b[0m\u001b[1;33m\u001b[0m\u001b[0m\n\u001b[0m\u001b[0;32m   2909\u001b[0m \u001b[1;33m\u001b[0m\u001b[0m\n\u001b[0;32m   2910\u001b[0m         \u001b[1;31m# take() does not accept boolean indexers\u001b[0m\u001b[1;33m\u001b[0m\u001b[1;33m\u001b[0m\u001b[1;33m\u001b[0m\u001b[0m\n",
      "\u001b[1;32m~\\Anaconda3\\lib\\site-packages\\pandas\\core\\indexing.py\u001b[0m in \u001b[0;36m_get_listlike_indexer\u001b[1;34m(self, key, axis, raise_missing)\u001b[0m\n\u001b[0;32m   1252\u001b[0m             \u001b[0mkeyarr\u001b[0m\u001b[1;33m,\u001b[0m \u001b[0mindexer\u001b[0m\u001b[1;33m,\u001b[0m \u001b[0mnew_indexer\u001b[0m \u001b[1;33m=\u001b[0m \u001b[0max\u001b[0m\u001b[1;33m.\u001b[0m\u001b[0m_reindex_non_unique\u001b[0m\u001b[1;33m(\u001b[0m\u001b[0mkeyarr\u001b[0m\u001b[1;33m)\u001b[0m\u001b[1;33m\u001b[0m\u001b[1;33m\u001b[0m\u001b[0m\n\u001b[0;32m   1253\u001b[0m \u001b[1;33m\u001b[0m\u001b[0m\n\u001b[1;32m-> 1254\u001b[1;33m         \u001b[0mself\u001b[0m\u001b[1;33m.\u001b[0m\u001b[0m_validate_read_indexer\u001b[0m\u001b[1;33m(\u001b[0m\u001b[0mkeyarr\u001b[0m\u001b[1;33m,\u001b[0m \u001b[0mindexer\u001b[0m\u001b[1;33m,\u001b[0m \u001b[0maxis\u001b[0m\u001b[1;33m,\u001b[0m \u001b[0mraise_missing\u001b[0m\u001b[1;33m=\u001b[0m\u001b[0mraise_missing\u001b[0m\u001b[1;33m)\u001b[0m\u001b[1;33m\u001b[0m\u001b[1;33m\u001b[0m\u001b[0m\n\u001b[0m\u001b[0;32m   1255\u001b[0m         \u001b[1;32mreturn\u001b[0m \u001b[0mkeyarr\u001b[0m\u001b[1;33m,\u001b[0m \u001b[0mindexer\u001b[0m\u001b[1;33m\u001b[0m\u001b[1;33m\u001b[0m\u001b[0m\n\u001b[0;32m   1256\u001b[0m \u001b[1;33m\u001b[0m\u001b[0m\n",
      "\u001b[1;32m~\\Anaconda3\\lib\\site-packages\\pandas\\core\\indexing.py\u001b[0m in \u001b[0;36m_validate_read_indexer\u001b[1;34m(self, key, indexer, axis, raise_missing)\u001b[0m\n\u001b[0;32m   1302\u001b[0m             \u001b[1;32mif\u001b[0m \u001b[0mraise_missing\u001b[0m\u001b[1;33m:\u001b[0m\u001b[1;33m\u001b[0m\u001b[1;33m\u001b[0m\u001b[0m\n\u001b[0;32m   1303\u001b[0m                 \u001b[0mnot_found\u001b[0m \u001b[1;33m=\u001b[0m \u001b[0mlist\u001b[0m\u001b[1;33m(\u001b[0m\u001b[0mset\u001b[0m\u001b[1;33m(\u001b[0m\u001b[0mkey\u001b[0m\u001b[1;33m)\u001b[0m \u001b[1;33m-\u001b[0m \u001b[0mset\u001b[0m\u001b[1;33m(\u001b[0m\u001b[0max\u001b[0m\u001b[1;33m)\u001b[0m\u001b[1;33m)\u001b[0m\u001b[1;33m\u001b[0m\u001b[1;33m\u001b[0m\u001b[0m\n\u001b[1;32m-> 1304\u001b[1;33m                 \u001b[1;32mraise\u001b[0m \u001b[0mKeyError\u001b[0m\u001b[1;33m(\u001b[0m\u001b[1;34mf\"{not_found} not in index\"\u001b[0m\u001b[1;33m)\u001b[0m\u001b[1;33m\u001b[0m\u001b[1;33m\u001b[0m\u001b[0m\n\u001b[0m\u001b[0;32m   1305\u001b[0m \u001b[1;33m\u001b[0m\u001b[0m\n\u001b[0;32m   1306\u001b[0m             \u001b[1;31m# we skip the warning on Categorical\u001b[0m\u001b[1;33m\u001b[0m\u001b[1;33m\u001b[0m\u001b[1;33m\u001b[0m\u001b[0m\n",
      "\u001b[1;31mKeyError\u001b[0m: \"['cm_hq_view', 'internal_variable_costs', 'earned_over_commissions', 'ocr__ibnr', 'internal_fixed_costs', 'cm_bu_view', 'actual_incurred_losses'] not in index\""
     ]
    }
   ],
   "source": [
    "trandata[cflds] = trandata[cflds].divide(trandata['eur_rate'], axis=\"index\").fillna(0)\n"
   ]
  },
  {
   "cell_type": "markdown",
   "id": "3968c0b0",
   "metadata": {
    "papermill": {
     "duration": null,
     "end_time": null,
     "exception": null,
     "start_time": null,
     "status": "pending"
    },
    "tags": []
   },
   "source": [
    "#### Output to {percode}.euroconv.csv"
   ]
  },
  {
   "cell_type": "code",
   "execution_count": null,
   "id": "8a8f74a8",
   "metadata": {
    "papermill": {
     "duration": null,
     "end_time": null,
     "exception": null,
     "start_time": null,
     "status": "pending"
    },
    "pycharm": {
     "is_executing": true,
     "name": "#%%\n"
    },
    "tags": []
   },
   "outputs": [],
   "source": [
    "trandata.to_csv( os.path.join(   rt_path , euro_file) , ',', index=False, encoding='utf-8-sig')\n"
   ]
  },
  {
   "cell_type": "code",
   "execution_count": null,
   "id": "cb05cb24",
   "metadata": {
    "papermill": {
     "duration": null,
     "end_time": null,
     "exception": null,
     "start_time": null,
     "status": "pending"
    },
    "tags": []
   },
   "outputs": [],
   "source": [
    "#### Store the DataFrame for other notebooks to use and open the file location for the user to view the new files"
   ]
  },
  {
   "cell_type": "code",
   "execution_count": null,
   "id": "ba72256c",
   "metadata": {
    "papermill": {
     "duration": null,
     "end_time": null,
     "exception": null,
     "start_time": null,
     "status": "pending"
    },
    "tags": []
   },
   "outputs": [],
   "source": [
    "mo_df = trandata\n",
    "\n",
    "%store mo_df\n",
    "\n",
    "\n",
    "os.startfile( rt_path   )\n",
    "\n"
   ]
  },
  {
   "cell_type": "code",
   "execution_count": null,
   "id": "5e33e67c",
   "metadata": {
    "papermill": {
     "duration": null,
     "end_time": null,
     "exception": null,
     "start_time": null,
     "status": "pending"
    },
    "tags": []
   },
   "outputs": [],
   "source": []
  }
 ],
 "metadata": {
  "celltoolbar": "Tags",
  "kernelspec": {
   "display_name": "Python 3",
   "language": "python",
   "name": "python3"
  },
  "language_info": {
   "codemirror_mode": {
    "name": "ipython",
    "version": 3
   },
   "file_extension": ".py",
   "mimetype": "text/x-python",
   "name": "python",
   "nbconvert_exporter": "python",
   "pygments_lexer": "ipython3",
   "version": "3.7.6"
  },
  "papermill": {
   "default_parameters": {},
   "duration": 49.713519,
   "end_time": "2021-05-28T17:08:56.502426",
   "environment_variables": {},
   "exception": true,
   "input_path": "pipeline/make_output.ipynb",
   "output_path": "//hecate/Insurance_US/Product Development/Product Management/Global PPM/Reporting/Data Collection/Pipeline Reporting Scripts/GPMpipeline/instances/2021.Q1\\pipeline\\make_output05282021130404--Demo.ipynb",
   "parameters": {
    "commit_message": "Demo Test",
    "inst_datetime": "05282021130404",
    "percode": "2021.Q1",
    "run_control": 1
   },
   "start_time": "2021-05-28T17:08:06.788907",
   "version": "2.3.3"
  }
 },
 "nbformat": 4,
 "nbformat_minor": 5
}