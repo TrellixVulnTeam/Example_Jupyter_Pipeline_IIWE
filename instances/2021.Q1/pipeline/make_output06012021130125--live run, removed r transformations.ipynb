{
 "cells": [
  {
   "cell_type": "markdown",
   "id": "d0def035",
   "metadata": {
    "papermill": {
     "duration": 0.317809,
     "end_time": "2021-06-01T17:05:40.341339",
     "exception": false,
     "start_time": "2021-06-01T17:05:40.023530",
     "status": "completed"
    },
    "pycharm": {
     "name": "#%% md\n"
    },
    "tags": []
   },
   "source": [
    "<img src=\"../images/AzPTravel_PPM.png\">"
   ]
  },
  {
   "cell_type": "markdown",
   "id": "149e3c7c",
   "metadata": {
    "papermill": {
     "duration": 0.399724,
     "end_time": "2021-06-01T17:05:41.073197",
     "exception": false,
     "start_time": "2021-06-01T17:05:40.673473",
     "status": "completed"
    },
    "tags": []
   },
   "source": [
    "## GPM Pipeline Output maker\n",
    "\n",
    "#### This script\n",
    "- loads the transformed parquet file\n",
    "- creates the file {parquet}.localcur.csv\n",
    "- makes the Euro conversions\n",
    "- outputs {parquet}.euroconv.csv\n"
   ]
  },
  {
   "cell_type": "markdown",
   "id": "c0d52dab",
   "metadata": {
    "papermill": {
     "duration": 0.246998,
     "end_time": "2021-06-01T17:05:41.643551",
     "exception": false,
     "start_time": "2021-06-01T17:05:41.396553",
     "status": "completed"
    },
    "tags": []
   },
   "source": [
    "#### Parameters section"
   ]
  },
  {
   "cell_type": "code",
   "execution_count": 1,
   "id": "38c3466f",
   "metadata": {
    "execution": {
     "iopub.execute_input": "2021-06-01T17:05:42.166493Z",
     "iopub.status.busy": "2021-06-01T17:05:42.163893Z",
     "iopub.status.idle": "2021-06-01T17:05:42.169488Z",
     "shell.execute_reply": "2021-06-01T17:05:42.180486Z"
    },
    "papermill": {
     "duration": 0.293672,
     "end_time": "2021-06-01T17:05:42.180486",
     "exception": false,
     "start_time": "2021-06-01T17:05:41.886814",
     "status": "completed"
    },
    "pycharm": {
     "name": "#%%\n"
    },
    "tags": [
     "parameters"
    ]
   },
   "outputs": [],
   "source": [
    "commit = \"\"\n",
    "# give a reason for the run\n",
    "\n",
    "percode = \"20XX.QX\"\n",
    "# Data Collection Code, this controls file paths and output names\n",
    "\n",
    "run_type = 1\n",
    "#run_type =  0 - lite run with no reporting, not recommended.\n",
    "#run_type =  1 - lite run with normal reporting, default setting.\n",
    "#run_type =  2 - Heavy run with full reporting, available for audits and troubleshooting.\n",
    "\n",
    "specialchars = \"-GTHtest\"\n",
    "# optional - add up to a 12 character code in order to mark your instance record .ipynb\n",
    "\n",
    "from datetime import datetime\n",
    "inst_datetime = datetime.now().strftime(\"%m%d%Y%H%M%S\")\n",
    "# a single datetime stamp for the full instance run\n"
   ]
  },
  {
   "cell_type": "code",
   "execution_count": 2,
   "id": "2fdcc103",
   "metadata": {
    "execution": {
     "iopub.execute_input": "2021-06-01T17:05:42.671170Z",
     "iopub.status.busy": "2021-06-01T17:05:42.667179Z",
     "iopub.status.idle": "2021-06-01T17:05:42.679170Z",
     "shell.execute_reply": "2021-06-01T17:05:42.678170Z"
    },
    "papermill": {
     "duration": 0.239999,
     "end_time": "2021-06-01T17:05:42.680169",
     "exception": false,
     "start_time": "2021-06-01T17:05:42.440170",
     "status": "completed"
    },
    "tags": [
     "injected-parameters"
    ]
   },
   "outputs": [],
   "source": [
    "# Parameters\n",
    "run_control = 1\n",
    "percode = \"2021.Q1\"\n",
    "commit_message = \"Demo Test\"\n",
    "inst_datetime = \"06012021130125\"\n"
   ]
  },
  {
   "cell_type": "markdown",
   "id": "4dd1d385",
   "metadata": {
    "papermill": {
     "duration": 0.242996,
     "end_time": "2021-06-01T17:05:43.162199",
     "exception": false,
     "start_time": "2021-06-01T17:05:42.919203",
     "status": "completed"
    },
    "tags": []
   },
   "source": [
    "### Set Run Control\n",
    "\n",
    "##### 0 - lite run with no reporting, not recommended.\n",
    "##### 1 - lite run with normal reporting, default setting.\n",
    "##### 2 - Heavy run with full reporting, available for audits and troubleshooting."
   ]
  },
  {
   "cell_type": "code",
   "execution_count": 3,
   "id": "9b77eb1f",
   "metadata": {
    "execution": {
     "iopub.execute_input": "2021-06-01T17:05:44.029578Z",
     "iopub.status.busy": "2021-06-01T17:05:44.026578Z",
     "iopub.status.idle": "2021-06-01T17:05:44.034588Z",
     "shell.execute_reply": "2021-06-01T17:05:44.036591Z"
    },
    "papermill": {
     "duration": 0.35446,
     "end_time": "2021-06-01T17:05:44.036591",
     "exception": false,
     "start_time": "2021-06-01T17:05:43.682131",
     "status": "completed"
    },
    "pycharm": {
     "name": "#%%\n"
    },
    "tags": []
   },
   "outputs": [],
   "source": [
    "run_control = 0 # in development mode"
   ]
  },
  {
   "cell_type": "markdown",
   "id": "1237cdc5",
   "metadata": {
    "papermill": {
     "duration": 0.327249,
     "end_time": "2021-06-01T17:05:44.619612",
     "exception": false,
     "start_time": "2021-06-01T17:05:44.292363",
     "status": "completed"
    },
    "tags": []
   },
   "source": [
    "#### Packages used"
   ]
  },
  {
   "cell_type": "code",
   "execution_count": 4,
   "id": "9742e88c",
   "metadata": {
    "execution": {
     "iopub.execute_input": "2021-06-01T17:05:45.251435Z",
     "iopub.status.busy": "2021-06-01T17:05:45.248434Z",
     "iopub.status.idle": "2021-06-01T17:05:48.803671Z",
     "shell.execute_reply": "2021-06-01T17:05:48.806148Z"
    },
    "papermill": {
     "duration": 3.90618,
     "end_time": "2021-06-01T17:05:48.806672",
     "exception": false,
     "start_time": "2021-06-01T17:05:44.900492",
     "status": "completed"
    },
    "pycharm": {
     "name": "#%%\n"
    },
    "tags": []
   },
   "outputs": [],
   "source": [
    "import sys\n",
    "import os\n",
    "import pandas as pd"
   ]
  },
  {
   "cell_type": "code",
   "execution_count": 5,
   "id": "10e702fd",
   "metadata": {
    "execution": {
     "iopub.execute_input": "2021-06-01T17:05:49.436733Z",
     "iopub.status.busy": "2021-06-01T17:05:49.430733Z",
     "iopub.status.idle": "2021-06-01T17:05:49.442731Z",
     "shell.execute_reply": "2021-06-01T17:05:49.441731Z"
    },
    "papermill": {
     "duration": 0.318153,
     "end_time": "2021-06-01T17:05:49.443733",
     "exception": false,
     "start_time": "2021-06-01T17:05:49.125580",
     "status": "completed"
    },
    "pycharm": {
     "name": "#%%\n"
    },
    "tags": []
   },
   "outputs": [],
   "source": [
    "default_DC = \"2021.Q1\"\n",
    "\n",
    "try:\n",
    "    if sys.argv[1] == \"-f\":\n",
    "        percode = default_DC\n",
    "    else:\n",
    "        percode = sys.argv[1]\n",
    "\n",
    "except IndexError:\n",
    "    percode = default_DC\n",
    "except NameError:\n",
    "    percode = default_DC"
   ]
  },
  {
   "cell_type": "markdown",
   "id": "91ded17b",
   "metadata": {
    "papermill": {
     "duration": 0.433976,
     "end_time": "2021-06-01T17:05:50.120802",
     "exception": false,
     "start_time": "2021-06-01T17:05:49.686826",
     "status": "completed"
    },
    "tags": []
   },
   "source": [
    "#### Convert paths and files to variables.\n",
    "#### Read data into pd DataFrames.\n",
    "#### Make paths for the live sources."
   ]
  },
  {
   "cell_type": "code",
   "execution_count": 6,
   "id": "ef36b3e5",
   "metadata": {
    "execution": {
     "iopub.execute_input": "2021-06-01T17:05:50.859689Z",
     "iopub.status.busy": "2021-06-01T17:05:50.852686Z",
     "iopub.status.idle": "2021-06-01T17:05:50.865685Z",
     "shell.execute_reply": "2021-06-01T17:05:50.867686Z"
    },
    "papermill": {
     "duration": 0.274119,
     "end_time": "2021-06-01T17:05:50.867686",
     "exception": false,
     "start_time": "2021-06-01T17:05:50.593567",
     "status": "completed"
    },
    "pycharm": {
     "name": "#%%\n"
    },
    "tags": []
   },
   "outputs": [],
   "source": [
    "rt_path = os.path.join('\\\\\\\\hecate\\\\Insurance_US\\\\Product Development\\\\Product Management\\\\Global PPM\\\\Reporting\\\\Data Collection\\\\Production',percode)\n",
    "\n",
    "tempfile = os.path.join(rt_path, f'{percode}.localcur.csv')\n",
    "\n",
    "gppm_file = os.path.join(rt_path, f'GPPM_Input_{str(percode)}.xlsx')\n",
    "\n"
   ]
  },
  {
   "cell_type": "markdown",
   "id": "d90bea37",
   "metadata": {
    "papermill": {
     "duration": 0.280528,
     "end_time": "2021-06-01T17:05:51.432211",
     "exception": false,
     "start_time": "2021-06-01T17:05:51.151683",
     "status": "completed"
    },
    "tags": []
   },
   "source": [
    "### Make Files"
   ]
  },
  {
   "cell_type": "code",
   "execution_count": 7,
   "id": "b544b367",
   "metadata": {
    "execution": {
     "iopub.execute_input": "2021-06-01T17:05:51.949276Z",
     "iopub.status.busy": "2021-06-01T17:05:51.946280Z",
     "iopub.status.idle": "2021-06-01T17:05:51.954275Z",
     "shell.execute_reply": "2021-06-01T17:05:51.956277Z"
    },
    "papermill": {
     "duration": 0.275523,
     "end_time": "2021-06-01T17:05:51.956277",
     "exception": false,
     "start_time": "2021-06-01T17:05:51.680754",
     "status": "completed"
    },
    "tags": []
   },
   "outputs": [],
   "source": [
    "local_file = f'{percode}.localcur.csv'\n",
    "euro_file = f'{percode}.euroconv.csv'\n",
    "\n"
   ]
  },
  {
   "cell_type": "markdown",
   "id": "50d78b9e",
   "metadata": {
    "papermill": {
     "duration": 0.277446,
     "end_time": "2021-06-01T17:05:52.470725",
     "exception": false,
     "start_time": "2021-06-01T17:05:52.193279",
     "status": "completed"
    },
    "tags": []
   },
   "source": [
    "#### Read source"
   ]
  },
  {
   "cell_type": "code",
   "execution_count": 8,
   "id": "db4ff9cd",
   "metadata": {
    "execution": {
     "iopub.execute_input": "2021-06-01T17:05:53.030833Z",
     "iopub.status.busy": "2021-06-01T17:05:53.026831Z",
     "iopub.status.idle": "2021-06-01T17:05:56.778871Z",
     "shell.execute_reply": "2021-06-01T17:05:56.782871Z"
    },
    "papermill": {
     "duration": 4.014041,
     "end_time": "2021-06-01T17:05:56.782871",
     "exception": false,
     "start_time": "2021-06-01T17:05:52.768830",
     "status": "completed"
    },
    "pycharm": {
     "name": "#%%\n"
    },
    "tags": []
   },
   "outputs": [],
   "source": [
    "\n",
    "mo_input = pd.read_csv(tempfile, engine='python')\n",
    "\n",
    "\n",
    "\"\"\"reads in the input for the Euro conversion\"\"\"\n",
    "euro = pd.read_excel(gppm_file, sheet_name=\"Euro_Rates\")\n"
   ]
  },
  {
   "cell_type": "markdown",
   "id": "a5db00a2",
   "metadata": {
    "papermill": {
     "duration": 0.269511,
     "end_time": "2021-06-01T17:05:57.352501",
     "exception": false,
     "start_time": "2021-06-01T17:05:57.082990",
     "status": "completed"
    },
    "tags": []
   },
   "source": [
    "#### Output local currency csv"
   ]
  },
  {
   "cell_type": "code",
   "execution_count": 9,
   "id": "d9a9518a",
   "metadata": {
    "execution": {
     "iopub.execute_input": "2021-06-01T17:05:57.918067Z",
     "iopub.status.busy": "2021-06-01T17:05:57.917057Z",
     "iopub.status.idle": "2021-06-01T17:06:06.375897Z",
     "shell.execute_reply": "2021-06-01T17:06:06.376903Z"
    },
    "papermill": {
     "duration": 8.740861,
     "end_time": "2021-06-01T17:06:06.377895",
     "exception": false,
     "start_time": "2021-06-01T17:05:57.637034",
     "status": "completed"
    },
    "pycharm": {
     "is_executing": true,
     "name": "#%%\n"
    },
    "tags": []
   },
   "outputs": [],
   "source": [
    "mo_input.to_csv(os.path.join(rt_path,local_file), ',', index=False, encoding='utf-8-sig')"
   ]
  },
  {
   "cell_type": "markdown",
   "id": "589c81e5",
   "metadata": {
    "papermill": {
     "duration": 0.259821,
     "end_time": "2021-06-01T17:06:06.910253",
     "exception": false,
     "start_time": "2021-06-01T17:06:06.650432",
     "status": "completed"
    },
    "tags": []
   },
   "source": [
    "#### Convert all currency to Euro\n"
   ]
  },
  {
   "cell_type": "code",
   "execution_count": 10,
   "id": "a3c32dff",
   "metadata": {
    "execution": {
     "iopub.execute_input": "2021-06-01T17:06:07.410244Z",
     "iopub.status.busy": "2021-06-01T17:06:07.408246Z",
     "iopub.status.idle": "2021-06-01T17:06:07.413243Z",
     "shell.execute_reply": "2021-06-01T17:06:07.414246Z"
    },
    "papermill": {
     "duration": 0.253995,
     "end_time": "2021-06-01T17:06:07.415246",
     "exception": false,
     "start_time": "2021-06-01T17:06:07.161251",
     "status": "completed"
    },
    "pycharm": {
     "is_executing": true,
     "name": "#%%\n"
    },
    "tags": []
   },
   "outputs": [],
   "source": [
    "\n",
    "\n",
    "cflds = ['written_revenues_net_of_taxes', 'written_revenues', 'earned_revenues_net_of_taxes',\n",
    "         'earned_revenues', 'earned_base_commissions', 'earned_over_commissions', 'upfront_cash_payments',\n",
    "         'total_compensation', 'paid_claims', 'ocr__ibnr', 'actual_incurred_losses',\n",
    "         'internal_variable_costs', 'az_tech_fee', 'internal_fixed_costs',\n",
    "         'hq_fees', 'total_expenses', 'risk_premium', 'profit_or_loss', 'cm_hq_view', 'cm_bu_view', ]\n",
    "\n",
    "alt_cflds = ['written_revenues_net_of_taxes', 'written_revenues', 'earned_revenues_net_of_taxes',\n",
    "         'earned_revenues', 'earned_base_commissions', 'earned_over-commissions', 'upfront_cash_payments',\n",
    "         'total_compensation', 'paid_claims', 'ocr_+_ibnr','actual_incurred_losses_(paid_+_ocr_+_ibnr)',\n",
    "         'internal_variable_costs_(excl._az_tech_fee)', 'az_tech_fee', 'internal_fixed_costs_(excl._hq_fees)',\n",
    "         'hq_fees', 'total_expenses', 'risk_premium', 'profit_or_loss', 'contribution_margin_-_hq_view', 'contribution_margin_-_bu_view', ]\n",
    "\n",
    "\n",
    "\n"
   ]
  },
  {
   "cell_type": "markdown",
   "id": "ef8aed8a",
   "metadata": {
    "papermill": {
     "duration": 0.245,
     "end_time": "2021-06-01T17:06:07.906244",
     "exception": false,
     "start_time": "2021-06-01T17:06:07.661244",
     "status": "completed"
    },
    "tags": []
   },
   "source": [
    "#### Make a copy for debug purposes"
   ]
  },
  {
   "cell_type": "code",
   "execution_count": 11,
   "id": "e5c68ca1",
   "metadata": {
    "execution": {
     "iopub.execute_input": "2021-06-01T17:06:08.400650Z",
     "iopub.status.busy": "2021-06-01T17:06:08.397650Z",
     "iopub.status.idle": "2021-06-01T17:06:08.406650Z",
     "shell.execute_reply": "2021-06-01T17:06:08.408649Z"
    },
    "papermill": {
     "duration": 0.258999,
     "end_time": "2021-06-01T17:06:08.408649",
     "exception": false,
     "start_time": "2021-06-01T17:06:08.149650",
     "status": "completed"
    },
    "pycharm": {
     "is_executing": true,
     "name": "#%%\n"
    },
    "tags": []
   },
   "outputs": [],
   "source": [
    "trandata = mo_input.copy()"
   ]
  },
  {
   "cell_type": "markdown",
   "id": "159b7d43",
   "metadata": {
    "papermill": {
     "duration": 0.247019,
     "end_time": "2021-06-01T17:06:08.886666",
     "exception": false,
     "start_time": "2021-06-01T17:06:08.639647",
     "status": "completed"
    },
    "tags": []
   },
   "source": [
    "#### Convert Currency Below"
   ]
  },
  {
   "cell_type": "code",
   "execution_count": 12,
   "id": "947c52f6",
   "metadata": {
    "execution": {
     "iopub.execute_input": "2021-06-01T17:06:09.402190Z",
     "iopub.status.busy": "2021-06-01T17:06:09.396189Z",
     "iopub.status.idle": "2021-06-01T17:06:09.410191Z",
     "shell.execute_reply": "2021-06-01T17:06:09.411188Z"
    },
    "papermill": {
     "duration": 0.295525,
     "end_time": "2021-06-01T17:06:09.412188",
     "exception": false,
     "start_time": "2021-06-01T17:06:09.116663",
     "status": "completed"
    },
    "pycharm": {
     "is_executing": true,
     "name": "#%%\n"
    },
    "tags": []
   },
   "outputs": [],
   "source": [
    "# create DataFrame of unique currencies with rates\n",
    "\n",
    "fx_uni = euro[['CURR_CODE','RATE']]\n",
    "fx_uni = fx_uni.drop_duplicates()"
   ]
  },
  {
   "cell_type": "code",
   "execution_count": 13,
   "id": "cfb5534d",
   "metadata": {
    "execution": {
     "iopub.execute_input": "2021-06-01T17:06:09.896229Z",
     "iopub.status.busy": "2021-06-01T17:06:09.887231Z",
     "iopub.status.idle": "2021-06-01T17:06:09.926233Z",
     "shell.execute_reply": "2021-06-01T17:06:09.927229Z"
    },
    "papermill": {
     "duration": 0.265999,
     "end_time": "2021-06-01T17:06:09.927229",
     "exception": false,
     "start_time": "2021-06-01T17:06:09.661230",
     "status": "completed"
    },
    "pycharm": {
     "is_executing": true,
     "name": "#%%\n"
    },
    "tags": []
   },
   "outputs": [],
   "source": [
    "# add euro conversion rates to trandata DataFrame as column 'eur_rate'\n",
    "\n",
    "fx_uni = fx_uni.rename(columns = {\"CURR_CODE\":\"currency\"})\n",
    "\n",
    "eurdata = trandata.merge(fx_uni, how='left', left_on='currency', right_on='currency')\n",
    "\n",
    "\n",
    "trandata['eur_rate'] = eurdata['RATE']\n"
   ]
  },
  {
   "cell_type": "markdown",
   "id": "a41cf6f0",
   "metadata": {
    "papermill": {
     "duration": 0.251154,
     "end_time": "2021-06-01T17:06:10.409831",
     "exception": false,
     "start_time": "2021-06-01T17:06:10.158677",
     "status": "completed"
    },
    "tags": []
   },
   "source": [
    "#### Convert currency fields"
   ]
  },
  {
   "cell_type": "code",
   "execution_count": 14,
   "id": "ff4cb764",
   "metadata": {
    "execution": {
     "iopub.execute_input": "2021-06-01T17:06:10.914200Z",
     "iopub.status.busy": "2021-06-01T17:06:10.912202Z",
     "iopub.status.idle": "2021-06-01T17:06:11.496435Z",
     "shell.execute_reply": "2021-06-01T17:06:11.497436Z"
    },
    "papermill": {
     "duration": 0.834085,
     "end_time": "2021-06-01T17:06:11.498434",
     "exception": false,
     "start_time": "2021-06-01T17:06:10.664349",
     "status": "completed"
    },
    "pycharm": {
     "is_executing": true,
     "name": "#%%\n"
    },
    "tags": []
   },
   "outputs": [],
   "source": [
    "try:\n",
    "    trandata[cflds] = trandata[cflds].divide(trandata['eur_rate'], axis=\"index\").fillna(0)\n",
    "\n",
    "except KeyError:\n",
    "    trandata[alt_cflds] = trandata[alt_cflds].divide(trandata['eur_rate'], axis=\"index\").fillna(0)\n",
    "\n",
    "    \n"
   ]
  },
  {
   "cell_type": "markdown",
   "id": "22f399d7",
   "metadata": {
    "papermill": {
     "duration": 0.227017,
     "end_time": "2021-06-01T17:06:11.949009",
     "exception": false,
     "start_time": "2021-06-01T17:06:11.721992",
     "status": "completed"
    },
    "tags": []
   },
   "source": [
    "#### Output to {percode}.euroconv.csv"
   ]
  },
  {
   "cell_type": "code",
   "execution_count": 15,
   "id": "788c5bfe",
   "metadata": {
    "execution": {
     "iopub.execute_input": "2021-06-01T17:06:12.418243Z",
     "iopub.status.busy": "2021-06-01T17:06:12.416241Z",
     "iopub.status.idle": "2021-06-01T17:06:20.899330Z",
     "shell.execute_reply": "2021-06-01T17:06:20.900333Z"
    },
    "papermill": {
     "duration": 8.741089,
     "end_time": "2021-06-01T17:06:20.901329",
     "exception": false,
     "start_time": "2021-06-01T17:06:12.160240",
     "status": "completed"
    },
    "pycharm": {
     "is_executing": true,
     "name": "#%%\n"
    },
    "tags": []
   },
   "outputs": [],
   "source": [
    "trandata.to_csv( os.path.join(   rt_path , euro_file) , ',', index=False, encoding='utf-8-sig')\n"
   ]
  },
  {
   "cell_type": "code",
   "execution_count": 16,
   "id": "edf88456",
   "metadata": {
    "execution": {
     "iopub.execute_input": "2021-06-01T17:06:21.475950Z",
     "iopub.status.busy": "2021-06-01T17:06:21.472945Z",
     "iopub.status.idle": "2021-06-01T17:06:21.480944Z",
     "shell.execute_reply": "2021-06-01T17:06:21.481950Z"
    },
    "papermill": {
     "duration": 0.296409,
     "end_time": "2021-06-01T17:06:21.481950",
     "exception": false,
     "start_time": "2021-06-01T17:06:21.185541",
     "status": "completed"
    },
    "tags": []
   },
   "outputs": [],
   "source": [
    "#### Store the DataFrame for other notebooks to use and open the file location for the user to view the new files"
   ]
  },
  {
   "cell_type": "code",
   "execution_count": 17,
   "id": "a6ff4d4d",
   "metadata": {
    "execution": {
     "iopub.execute_input": "2021-06-01T17:06:21.955057Z",
     "iopub.status.busy": "2021-06-01T17:06:21.949050Z",
     "iopub.status.idle": "2021-06-01T17:06:22.239215Z",
     "shell.execute_reply": "2021-06-01T17:06:22.241216Z"
    },
    "papermill": {
     "duration": 0.538156,
     "end_time": "2021-06-01T17:06:22.241216",
     "exception": false,
     "start_time": "2021-06-01T17:06:21.703060",
     "status": "completed"
    },
    "tags": []
   },
   "outputs": [
    {
     "name": "stdout",
     "output_type": "stream",
     "text": [
      "Stored 'mo_df' (DataFrame)\n"
     ]
    }
   ],
   "source": [
    "mo_df = trandata\n",
    "\n",
    "%store mo_df\n",
    "\n",
    "\n",
    "os.startfile( rt_path   )\n",
    "\n"
   ]
  },
  {
   "cell_type": "code",
   "execution_count": null,
   "id": "5fa15b6f",
   "metadata": {
    "papermill": {
     "duration": 0.284635,
     "end_time": "2021-06-01T17:06:22.871455",
     "exception": false,
     "start_time": "2021-06-01T17:06:22.586820",
     "status": "completed"
    },
    "tags": []
   },
   "outputs": [],
   "source": []
  }
 ],
 "metadata": {
  "celltoolbar": "Tags",
  "kernelspec": {
   "display_name": "Python 3",
   "language": "python",
   "name": "python3"
  },
  "language_info": {
   "codemirror_mode": {
    "name": "ipython",
    "version": 3
   },
   "file_extension": ".py",
   "mimetype": "text/x-python",
   "name": "python",
   "nbconvert_exporter": "python",
   "pygments_lexer": "ipython3",
   "version": "3.7.6"
  },
  "papermill": {
   "default_parameters": {},
   "duration": 59.636347,
   "end_time": "2021-06-01T17:06:23.918817",
   "environment_variables": {},
   "exception": null,
   "input_path": "pipeline/make_output.ipynb",
   "output_path": "//hecate/Insurance_US/Product Development/Product Management/Global PPM/Reporting/Data Collection/Pipeline Reporting Scripts/GPMpipeline/instances/2021.Q1\\pipeline\\make_output06012021130125--live run, removed r transformations.ipynb",
   "parameters": {
    "commit_message": "Demo Test",
    "inst_datetime": "06012021130125",
    "percode": "2021.Q1",
    "run_control": 1
   },
   "start_time": "2021-06-01T17:05:24.282470",
   "version": "2.3.3"
  }
 },
 "nbformat": 4,
 "nbformat_minor": 5
}