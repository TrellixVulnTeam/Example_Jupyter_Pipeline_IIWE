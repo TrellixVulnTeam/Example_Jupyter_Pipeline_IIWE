{
 "cells": [
  {
   "cell_type": "markdown",
   "id": "6f9d7bdb",
   "metadata": {
    "papermill": {
     "duration": 0.268237,
     "end_time": "2021-06-02T15:33:04.331117",
     "exception": false,
     "start_time": "2021-06-02T15:33:04.062880",
     "status": "completed"
    },
    "tags": []
   },
   "source": [
    "<img src=\"../images/AzPTravel_PPM.png\">"
   ]
  },
  {
   "cell_type": "markdown",
   "id": "97ffd499",
   "metadata": {
    "papermill": {
     "duration": 0.279522,
     "end_time": "2021-06-02T15:33:04.872665",
     "exception": false,
     "start_time": "2021-06-02T15:33:04.593143",
     "status": "completed"
    },
    "tags": []
   },
   "source": [
    "## Validation Report Creation Script\n",
    "\n",
    "#### This script reads the output of the \"us_vdf*\" and \"us_vcomments*\" data files and summarizes  them into a report: Validations Review _{BU}.xlsx\n",
    "\n",
    "#### When finished, it will be able to be run on its own or as part of the pipeline wherever called (ie from a papermill script or other user inteface).\n"
   ]
  },
  {
   "cell_type": "markdown",
   "id": "15b8640e",
   "metadata": {
    "papermill": {
     "duration": 0.258862,
     "end_time": "2021-06-02T15:33:05.438679",
     "exception": false,
     "start_time": "2021-06-02T15:33:05.179817",
     "status": "completed"
    },
    "tags": []
   },
   "source": [
    "### User Variables\n",
    "- These are overwritten if inherited from run_control.ipynb.\n",
    "- Feel Free to reset them for a manual run if you like\n",
    "- Do not save without percode = \"-f\""
   ]
  },
  {
   "cell_type": "code",
   "execution_count": 1,
   "id": "f65623ed",
   "metadata": {
    "execution": {
     "iopub.execute_input": "2021-06-02T15:33:06.099075Z",
     "iopub.status.busy": "2021-06-02T15:33:06.085078Z",
     "iopub.status.idle": "2021-06-02T15:33:06.103080Z",
     "shell.execute_reply": "2021-06-02T15:33:06.120603Z"
    },
    "papermill": {
     "duration": 0.417878,
     "end_time": "2021-06-02T15:33:06.120603",
     "exception": false,
     "start_time": "2021-06-02T15:33:05.702725",
     "status": "completed"
    },
    "tags": [
     "parameters"
    ]
   },
   "outputs": [],
   "source": [
    "commit_message = \"Development and testing.\"\n",
    "# Give a brief reason for the run.\n",
    "\n",
    "run_control = 1\n",
    "#run_type = 0 - Lite run with no reporting, not recommended.\n",
    "#run_type = 1 - Lite run with normal reporting, default setting.\n",
    "#run_type = 2 - Heavy run with full reporting, available for audits and troubleshooting.\n",
    "#run_type = 5 - A default setting. Indicates the script is being run by an outside process without an inherited value\n",
    "\n",
    "percode = \"2021.Q1\"\n",
    "# Data Collection Code, this controls file paths and output names\n",
    "# \"-f\" is the value indicating a bad inheritance from run with arg\n",
    "\n",
    "s_format = \"p\"\n",
    "# denotes the source data format x == Excel; j == json, p == parquet\n",
    "\n",
    "#----------\n",
    "# do not edit - this either inherits the full instance timestamp from the papermill book or captures the run time of this script.\n",
    "from datetime import datetime  # datetime options\n",
    "inst_datetime = datetime.now().strftime(\"%m%d%Y%H%M%S\")"
   ]
  },
  {
   "cell_type": "code",
   "execution_count": 2,
   "id": "0a8f080f",
   "metadata": {
    "execution": {
     "iopub.execute_input": "2021-06-02T15:33:06.983066Z",
     "iopub.status.busy": "2021-06-02T15:33:06.981068Z",
     "iopub.status.idle": "2021-06-02T15:33:06.990065Z",
     "shell.execute_reply": "2021-06-02T15:33:06.994064Z"
    },
    "papermill": {
     "duration": 0.412255,
     "end_time": "2021-06-02T15:33:06.994064",
     "exception": false,
     "start_time": "2021-06-02T15:33:06.581809",
     "status": "completed"
    },
    "tags": [
     "injected-parameters"
    ]
   },
   "outputs": [],
   "source": [
    "# Parameters\n",
    "run_control = 1\n",
    "percode = \"2021.Q1\"\n",
    "commit_message = \"Live run, added AT, bad file name, rerun.\"\n",
    "inst_datetime = \"06022021112108\"\n"
   ]
  },
  {
   "cell_type": "markdown",
   "id": "46e513ed",
   "metadata": {
    "papermill": {
     "duration": 0.389362,
     "end_time": "2021-06-02T15:33:07.671004",
     "exception": false,
     "start_time": "2021-06-02T15:33:07.281642",
     "status": "completed"
    },
    "tags": []
   },
   "source": [
    "#### Notebook display options"
   ]
  },
  {
   "cell_type": "code",
   "execution_count": 3,
   "id": "3d57659f",
   "metadata": {
    "execution": {
     "iopub.execute_input": "2021-06-02T15:33:08.738375Z",
     "iopub.status.busy": "2021-06-02T15:33:08.735381Z",
     "iopub.status.idle": "2021-06-02T15:33:08.746376Z",
     "shell.execute_reply": "2021-06-02T15:33:08.743375Z"
    },
    "papermill": {
     "duration": 0.4702,
     "end_time": "2021-06-02T15:33:08.747376",
     "exception": false,
     "start_time": "2021-06-02T15:33:08.277176",
     "status": "completed"
    },
    "tags": []
   },
   "outputs": [],
   "source": [
    "from IPython.core.interactiveshell import InteractiveShell\n",
    "InteractiveShell.ast_node_interactivity = \"all\""
   ]
  },
  {
   "cell_type": "markdown",
   "id": "19fcdbd5",
   "metadata": {
    "papermill": {
     "duration": 0.324044,
     "end_time": "2021-06-02T15:33:09.359074",
     "exception": false,
     "start_time": "2021-06-02T15:33:09.035030",
     "status": "completed"
    },
    "tags": []
   },
   "source": [
    "#### import packages"
   ]
  },
  {
   "cell_type": "code",
   "execution_count": 4,
   "id": "494bacae",
   "metadata": {
    "execution": {
     "iopub.execute_input": "2021-06-02T15:33:09.904177Z",
     "iopub.status.busy": "2021-06-02T15:33:09.902173Z",
     "iopub.status.idle": "2021-06-02T15:33:17.938761Z",
     "shell.execute_reply": "2021-06-02T15:33:17.939761Z"
    },
    "papermill": {
     "duration": 8.325166,
     "end_time": "2021-06-02T15:33:17.939761",
     "exception": false,
     "start_time": "2021-06-02T15:33:09.614595",
     "status": "completed"
    },
    "tags": []
   },
   "outputs": [],
   "source": [
    "#### Packages used\n",
    "\n",
    "import os # System commands\n",
    "import sys # System commands\n",
    "\n",
    "import warnings # custom warnigns options\n",
    "\n",
    "import glob # Directory operations\n",
    "import getpass # Work with parquet\n",
    "import json # Work with json\n",
    "\n",
    "import matplotlib.pyplot as plt #Plots and Graphs\n",
    "import numpy as np # Series and math\n",
    "import pandas as pd #DataFrame and math\n",
    "\n",
    "#excel operations\n",
    "import re\n",
    "import nicexcel as nl # Excel operations\n",
    "import xlsxwriter # Excel operations\n",
    "import openpyxl # Excel operations\n"
   ]
  },
  {
   "cell_type": "markdown",
   "id": "c393fe20",
   "metadata": {
    "papermill": {
     "duration": 0.237557,
     "end_time": "2021-06-02T15:33:18.439887",
     "exception": false,
     "start_time": "2021-06-02T15:33:18.202330",
     "status": "completed"
    },
    "tags": []
   },
   "source": [
    "#### Default Variables, these govern logic, do not edit."
   ]
  },
  {
   "cell_type": "code",
   "execution_count": 5,
   "id": "f8503d62",
   "metadata": {
    "execution": {
     "iopub.execute_input": "2021-06-02T15:33:18.946608Z",
     "iopub.status.busy": "2021-06-02T15:33:18.944614Z",
     "iopub.status.idle": "2021-06-02T15:33:18.948607Z",
     "shell.execute_reply": "2021-06-02T15:33:18.949606Z"
    },
    "papermill": {
     "duration": 0.264003,
     "end_time": "2021-06-02T15:33:18.950610",
     "exception": false,
     "start_time": "2021-06-02T15:33:18.686607",
     "status": "completed"
    },
    "tags": []
   },
   "outputs": [],
   "source": [
    "default_dc = \"20XX.QX\"\n",
    "default_rc = 0 #extra lite mode\n",
    "dummy_perc = \"33Q3\" # bad inheritance"
   ]
  },
  {
   "cell_type": "markdown",
   "id": "fe5d5c59",
   "metadata": {
    "papermill": {
     "duration": 0.260521,
     "end_time": "2021-06-02T15:33:19.473694",
     "exception": false,
     "start_time": "2021-06-02T15:33:19.213173",
     "status": "completed"
    },
    "tags": []
   },
   "source": [
    "#### Script determining run context ie, manual, run_control.ipynb, or other."
   ]
  },
  {
   "cell_type": "code",
   "execution_count": 6,
   "id": "1efb5bd6",
   "metadata": {
    "execution": {
     "iopub.execute_input": "2021-06-02T15:33:20.149744Z",
     "iopub.status.busy": "2021-06-02T15:33:20.148750Z",
     "iopub.status.idle": "2021-06-02T15:33:20.153743Z",
     "shell.execute_reply": "2021-06-02T15:33:20.154744Z"
    },
    "papermill": {
     "duration": 0.441047,
     "end_time": "2021-06-02T15:33:20.154744",
     "exception": false,
     "start_time": "2021-06-02T15:33:19.713697",
     "status": "completed"
    },
    "tags": []
   },
   "outputs": [],
   "source": [
    "if run_control == 5:\n",
    "    run_control = default_rc \n",
    "else:\n",
    "    run_control = run_control\n",
    "\n",
    "try:\n",
    "    if sys.argv[1] == \"-f\":\n",
    "        percode = percode\n",
    "    else:\n",
    "        percode = sys.argv[1]\n",
    "\n",
    "except IndexError:\n",
    "    percode = default_dc\n",
    "except NameError:\n",
    "    percode = default_dc\n"
   ]
  },
  {
   "cell_type": "markdown",
   "id": "7c92b3a8",
   "metadata": {
    "papermill": {
     "duration": 0.237309,
     "end_time": "2021-06-02T15:33:20.638760",
     "exception": false,
     "start_time": "2021-06-02T15:33:20.401451",
     "status": "completed"
    },
    "tags": []
   },
   "source": [
    "#### style settings"
   ]
  },
  {
   "cell_type": "code",
   "execution_count": 7,
   "id": "f8d62087",
   "metadata": {
    "execution": {
     "iopub.execute_input": "2021-06-02T15:33:21.182545Z",
     "iopub.status.busy": "2021-06-02T15:33:21.181545Z",
     "iopub.status.idle": "2021-06-02T15:33:21.185543Z",
     "shell.execute_reply": "2021-06-02T15:33:21.186545Z"
    },
    "papermill": {
     "duration": 0.249519,
     "end_time": "2021-06-02T15:33:21.187539",
     "exception": false,
     "start_time": "2021-06-02T15:33:20.938020",
     "status": "completed"
    },
    "tags": []
   },
   "outputs": [],
   "source": [
    "from IPython.core.interactiveshell import InteractiveShell\n",
    "InteractiveShell.ast_node_interactivity = \"all\""
   ]
  },
  {
   "cell_type": "markdown",
   "id": "62482a03",
   "metadata": {
    "papermill": {
     "duration": 0.297523,
     "end_time": "2021-06-02T15:33:21.749065",
     "exception": false,
     "start_time": "2021-06-02T15:33:21.451542",
     "status": "completed"
    },
    "tags": []
   },
   "source": [
    "\n",
    "## Begin Input Read\n",
    "- Make paths used in script\n",
    "- all paths should be modular and easily replaced ahead of operations."
   ]
  },
  {
   "cell_type": "code",
   "execution_count": 8,
   "id": "ccd82a38",
   "metadata": {
    "execution": {
     "iopub.execute_input": "2021-06-02T15:33:22.322103Z",
     "iopub.status.busy": "2021-06-02T15:33:22.320105Z",
     "iopub.status.idle": "2021-06-02T15:33:22.326104Z",
     "shell.execute_reply": "2021-06-02T15:33:22.327360Z"
    },
    "papermill": {
     "duration": 0.314294,
     "end_time": "2021-06-02T15:33:22.327879",
     "exception": false,
     "start_time": "2021-06-02T15:33:22.013585",
     "status": "completed"
    },
    "tags": []
   },
   "outputs": [],
   "source": [
    "#root directory\n",
    "rt_path = f'//hecate/Insurance_US/Product Development/Product Management/Global PPM/Reporting/Data Collection/Production/{str(percode)}'\n",
    "#live sources directory\n",
    "ls_path = os.path.join( rt_path, 'live_sources')\n",
    "#report ouput dir\n",
    "rep_path = os.path.abspath(os.path.join(rt_path, '..','..',f\"{percode}\", 'Validation Reports'))\n",
    "#report ouput archive dir\n",
    "rep_arch_path = os.path.abspath(os.path.join(rep_path, '..','..',f\"{percode}\",  'Archive'))\n",
    "#Pipeline Script folder ouput dir\n",
    "script_path = os.path.abspath(os.path.join(rt_path, '..','..','Pipeline Reporting Scripts','GPMpipeline', 'shortcuts'     ))\n",
    "\n"
   ]
  },
  {
   "cell_type": "markdown",
   "id": "1783e77f",
   "metadata": {
    "papermill": {
     "duration": 0.288346,
     "end_time": "2021-06-02T15:33:22.854753",
     "exception": false,
     "start_time": "2021-06-02T15:33:22.566407",
     "status": "completed"
    },
    "tags": []
   },
   "source": [
    "#### Make sources used in script\n",
    "- all sources should be modular and easily replaced ahead of operations."
   ]
  },
  {
   "cell_type": "code",
   "execution_count": 9,
   "id": "ae38f791",
   "metadata": {
    "execution": {
     "iopub.execute_input": "2021-06-02T15:33:23.539293Z",
     "iopub.status.busy": "2021-06-02T15:33:23.537293Z",
     "iopub.status.idle": "2021-06-02T15:33:23.546295Z",
     "shell.execute_reply": "2021-06-02T15:33:23.545294Z"
    },
    "papermill": {
     "duration": 0.421567,
     "end_time": "2021-06-02T15:33:23.546295",
     "exception": false,
     "start_time": "2021-06-02T15:33:23.124728",
     "status": "completed"
    },
    "tags": []
   },
   "outputs": [],
   "source": [
    "rep_xls = os.path.join(rep_path ,\"Validations Review_xx.xlsx\"   )"
   ]
  },
  {
   "cell_type": "markdown",
   "id": "19b218d8",
   "metadata": {
    "papermill": {
     "duration": 0.345151,
     "end_time": "2021-06-02T15:33:24.390072",
     "exception": false,
     "start_time": "2021-06-02T15:33:24.044921",
     "status": "completed"
    },
    "tags": []
   },
   "source": [
    "#### Get a list of only source files in the path that start with \"us_dat\".\n",
    "#### Logic determines the source file types.\n",
    "\n",
    "#### User instructions:\n",
    "- Make sure that you have 1 file per source in this folder.\n",
    "    -  For instance, do not have two files for Portugal. If there is an update, archive the old one.\n",
    "- Do not overwrite files in the archive.\n",
    "    - Rename newly archived files, no strict convention, we keep track of these by the modified date.\n",
    "- It is ok to have multiple sources in one file."
   ]
  },
  {
   "cell_type": "code",
   "execution_count": 10,
   "id": "fb1ce026",
   "metadata": {
    "execution": {
     "iopub.execute_input": "2021-06-02T15:33:25.003547Z",
     "iopub.status.busy": "2021-06-02T15:33:25.001553Z",
     "iopub.status.idle": "2021-06-02T15:33:25.100397Z",
     "shell.execute_reply": "2021-06-02T15:33:25.103398Z"
    },
    "papermill": {
     "duration": 0.408399,
     "end_time": "2021-06-02T15:33:25.104397",
     "exception": false,
     "start_time": "2021-06-02T15:33:24.695998",
     "status": "completed"
    },
    "tags": []
   },
   "outputs": [
    {
     "data": {
      "text/plain": [
       "['us_dat_at_+te_q1_2021_at.parquet',\n",
       " 'us_dat_au_05142021143612.parquet',\n",
       " 'us_dat_ca_05202021134242.parquet',\n",
       " 'us_dat_ch_05182021192455.parquet',\n",
       " 'us_dat_cz_05262021090243.parquet',\n",
       " 'us_dat_es_05202021105141.parquet',\n",
       " 'us_dat_gr_05252021115404.parquet',\n",
       " 'us_dat_it_05242021111520.parquet',\n",
       " 'us_dat_nl_05272021163120.parquet',\n",
       " 'us_dat_pl_05262021084450.parquet',\n",
       " 'us_dat_pt_05202021121056.parquet',\n",
       " 'us_orig_au_05142021143611.json',\n",
       " 'us_survey_au_02172021174808.parquet',\n",
       " 'us_survey_au_05142021143750.parquet',\n",
       " 'us_survey_ca_05202021135610.parquet',\n",
       " 'us_survey_ch_05182021192905.parquet',\n",
       " 'us_survey_cz_05262021090440.parquet',\n",
       " 'us_survey_es_05202021105431.parquet',\n",
       " 'us_survey_gr_05252021115827.parquet',\n",
       " 'us_survey_it_05242021111759.parquet',\n",
       " 'us_survey_nl_05272021163630.parquet',\n",
       " 'us_survey_pl_05262021084708.parquet',\n",
       " 'us_survey_pt_05202021121304.parquet',\n",
       " 'us_vcomments_au_02172021174434.parquet',\n",
       " 'us_vcomments_au_02172021174440.parquet',\n",
       " 'us_vcomments_au_05142021143612.parquet',\n",
       " 'us_vcomments_au_05142021143617.parquet',\n",
       " 'us_vcomments_au_mnual_creation.parquet',\n",
       " 'us_vcomments_ca_05202021134242.parquet',\n",
       " 'us_vcomments_ch_05182021192455.parquet',\n",
       " 'us_vcomments_ch_05182021192456.parquet',\n",
       " 'us_vcomments_cz_05242021103837.parquet',\n",
       " 'us_vcomments_cz_05262021090243.parquet',\n",
       " 'us_vcomments_es_05202021105141.parquet',\n",
       " 'us_vcomments_es_05202021105142.parquet',\n",
       " 'us_vcomments_gr_05252021115404.parquet',\n",
       " 'us_vcomments_it_05242021111521.parquet',\n",
       " 'us_vcomments_nl_05272021163120.parquet',\n",
       " 'us_vcomments_pl_05262021084450.parquet',\n",
       " 'us_vcomments_pt_05202021121056.parquet',\n",
       " 'us_vdf_au_man42021143613.json',\n",
       " 'us_vdf_ca_05202021134242.json',\n",
       " 'us_vdf_ch_05182021192456.json',\n",
       " 'us_vdf_cz_05242021103837.json',\n",
       " 'us_vdf_cz_05262021090243.json',\n",
       " 'us_vdf_es_05202021105142.json',\n",
       " 'us_vdf_gr_05252021115404.json',\n",
       " 'us_vdf_it_05242021111521.json',\n",
       " 'us_vdf_nl_05272021163120.json',\n",
       " 'us_vdf_pl_05262021084450.json',\n",
       " 'us_vdf_pt_05202021121056.json']"
      ]
     },
     "execution_count": 10,
     "metadata": {},
     "output_type": "execute_result"
    }
   ],
   "source": [
    "files = os.listdir(ls_path)\n",
    "files = [files.lower() for files in files]\n",
    "\n",
    "files_sour = [f for f in files if f[-5:]  == '.json' or  f[-8:] == '.parquet' and f[:7] != 'us_orig']\n",
    "\n",
    "files_sour"
   ]
  },
  {
   "cell_type": "markdown",
   "id": "c5bc4756",
   "metadata": {
    "papermill": {
     "duration": 0.4746,
     "end_time": "2021-06-02T15:33:25.941135",
     "exception": false,
     "start_time": "2021-06-02T15:33:25.466535",
     "status": "completed"
    },
    "tags": []
   },
   "source": [
    "#### Make a list of BUs that have comments available"
   ]
  },
  {
   "cell_type": "code",
   "execution_count": 11,
   "id": "f1b03480",
   "metadata": {
    "execution": {
     "iopub.execute_input": "2021-06-02T15:33:26.871625Z",
     "iopub.status.busy": "2021-06-02T15:33:26.869610Z",
     "iopub.status.idle": "2021-06-02T15:33:26.890607Z",
     "shell.execute_reply": "2021-06-02T15:33:26.891609Z"
    },
    "papermill": {
     "duration": 0.328063,
     "end_time": "2021-06-02T15:33:26.891609",
     "exception": false,
     "start_time": "2021-06-02T15:33:26.563546",
     "status": "completed"
    },
    "tags": []
   },
   "outputs": [
    {
     "data": {
      "text/plain": [
       "['//hecate/Insurance_US/Product Development/Product Management/Global PPM/Reporting/Data Collection/Production/2021.Q1\\\\live_sources\\\\us_vcomments_AU_02172021174434.parquet',\n",
       " '//hecate/Insurance_US/Product Development/Product Management/Global PPM/Reporting/Data Collection/Production/2021.Q1\\\\live_sources\\\\us_vcomments_AU_02172021174440.parquet',\n",
       " '//hecate/Insurance_US/Product Development/Product Management/Global PPM/Reporting/Data Collection/Production/2021.Q1\\\\live_sources\\\\us_vcomments_AU_05142021143612.parquet',\n",
       " '//hecate/Insurance_US/Product Development/Product Management/Global PPM/Reporting/Data Collection/Production/2021.Q1\\\\live_sources\\\\us_vcomments_AU_05142021143617.parquet',\n",
       " '//hecate/Insurance_US/Product Development/Product Management/Global PPM/Reporting/Data Collection/Production/2021.Q1\\\\live_sources\\\\us_vcomments_AU_mnual_creation.parquet',\n",
       " '//hecate/Insurance_US/Product Development/Product Management/Global PPM/Reporting/Data Collection/Production/2021.Q1\\\\live_sources\\\\us_vcomments_CA_05202021134242.parquet',\n",
       " '//hecate/Insurance_US/Product Development/Product Management/Global PPM/Reporting/Data Collection/Production/2021.Q1\\\\live_sources\\\\us_vcomments_CH_05182021192455.parquet',\n",
       " '//hecate/Insurance_US/Product Development/Product Management/Global PPM/Reporting/Data Collection/Production/2021.Q1\\\\live_sources\\\\us_vcomments_CH_05182021192456.parquet',\n",
       " '//hecate/Insurance_US/Product Development/Product Management/Global PPM/Reporting/Data Collection/Production/2021.Q1\\\\live_sources\\\\us_vcomments_CZ_05242021103837.parquet',\n",
       " '//hecate/Insurance_US/Product Development/Product Management/Global PPM/Reporting/Data Collection/Production/2021.Q1\\\\live_sources\\\\us_vcomments_CZ_05262021090243.parquet',\n",
       " '//hecate/Insurance_US/Product Development/Product Management/Global PPM/Reporting/Data Collection/Production/2021.Q1\\\\live_sources\\\\us_vcomments_ES_05202021105141.parquet',\n",
       " '//hecate/Insurance_US/Product Development/Product Management/Global PPM/Reporting/Data Collection/Production/2021.Q1\\\\live_sources\\\\us_vcomments_ES_05202021105142.parquet',\n",
       " '//hecate/Insurance_US/Product Development/Product Management/Global PPM/Reporting/Data Collection/Production/2021.Q1\\\\live_sources\\\\us_vcomments_GR_05252021115404.parquet',\n",
       " '//hecate/Insurance_US/Product Development/Product Management/Global PPM/Reporting/Data Collection/Production/2021.Q1\\\\live_sources\\\\us_vcomments_IT_05242021111521.parquet',\n",
       " '//hecate/Insurance_US/Product Development/Product Management/Global PPM/Reporting/Data Collection/Production/2021.Q1\\\\live_sources\\\\us_vcomments_NL_05272021163120.parquet',\n",
       " '//hecate/Insurance_US/Product Development/Product Management/Global PPM/Reporting/Data Collection/Production/2021.Q1\\\\live_sources\\\\us_vcomments_PL_05262021084450.parquet',\n",
       " '//hecate/Insurance_US/Product Development/Product Management/Global PPM/Reporting/Data Collection/Production/2021.Q1\\\\live_sources\\\\us_vcomments_PT_05202021121056.parquet']"
      ]
     },
     "execution_count": 11,
     "metadata": {},
     "output_type": "execute_result"
    }
   ],
   "source": [
    "list_jfiles = glob.glob(os.path.join(ls_path, 'us_vcomments_*.json'))\n",
    "list_pfiles = glob.glob(os.path.join(ls_path, 'us_vcomments_*.parquet'))\n",
    "\n",
    "list_files = []\n",
    "    \n",
    "for i in list_jfiles : list_files.append(i)    \n",
    "for i in list_pfiles : list_files.append(i)\n",
    "\n",
    "\n",
    "for idx, i in enumerate(list_jfiles):\n",
    "    list_jfiles[idx] = list_jfiles[idx][-23:-19]\n",
    "    list_jfiles[idx] = list_jfiles[idx].replace('_','')\n",
    "\n",
    "for idx, i in enumerate(list_pfiles):\n",
    "    list_pfiles[idx] = list_pfiles[idx][-26:-22]\n",
    "    list_pfiles[idx] = list_pfiles[idx].replace('_','')\n",
    "\n",
    "list_bus = []\n",
    "    \n",
    "for i in list_jfiles : list_bus.append(i)    \n",
    "for i in list_pfiles : list_bus.append(i)\n",
    "\n",
    "\n",
    "BU_set = set(list_bus)\n",
    "BU_list = list(BU_set)\n",
    "\n",
    "list_files\n"
   ]
  },
  {
   "cell_type": "code",
   "execution_count": 12,
   "id": "8a4b6de3",
   "metadata": {
    "execution": {
     "iopub.execute_input": "2021-06-02T15:33:27.718828Z",
     "iopub.status.busy": "2021-06-02T15:33:27.702827Z",
     "iopub.status.idle": "2021-06-02T15:34:15.133973Z",
     "shell.execute_reply": "2021-06-02T15:34:15.134972Z"
    },
    "papermill": {
     "duration": 47.80666,
     "end_time": "2021-06-02T15:34:15.134972",
     "exception": false,
     "start_time": "2021-06-02T15:33:27.328312",
     "status": "completed"
    },
    "pycharm": {
     "name": "#%%\n"
    },
    "tags": []
   },
   "outputs": [
    {
     "name": "stdout",
     "output_type": "stream",
     "text": [
      "['//hecate/Insurance_US/Product Development/Product Management/Global PPM/Reporting/Data Collection/Production/2021.Q1\\\\live_sources\\\\us_vcomments_CZ_05242021103837.parquet', '//hecate/Insurance_US/Product Development/Product Management/Global PPM/Reporting/Data Collection/Production/2021.Q1\\\\live_sources\\\\us_vcomments_CZ_05262021090243.parquet']\n"
     ]
    },
    {
     "name": "stdout",
     "output_type": "stream",
     "text": [
      "['//hecate/Insurance_US/Product Development/Product Management/Global PPM/Reporting/Data Collection/Production/2021.Q1\\\\live_sources\\\\us_vcomments_ES_05202021105141.parquet', '//hecate/Insurance_US/Product Development/Product Management/Global PPM/Reporting/Data Collection/Production/2021.Q1\\\\live_sources\\\\us_vcomments_ES_05202021105142.parquet']\n"
     ]
    },
    {
     "name": "stdout",
     "output_type": "stream",
     "text": [
      "['//hecate/Insurance_US/Product Development/Product Management/Global PPM/Reporting/Data Collection/Production/2021.Q1\\\\live_sources\\\\us_vcomments_AU_02172021174434.parquet', '//hecate/Insurance_US/Product Development/Product Management/Global PPM/Reporting/Data Collection/Production/2021.Q1\\\\live_sources\\\\us_vcomments_AU_02172021174440.parquet', '//hecate/Insurance_US/Product Development/Product Management/Global PPM/Reporting/Data Collection/Production/2021.Q1\\\\live_sources\\\\us_vcomments_AU_05142021143612.parquet', '//hecate/Insurance_US/Product Development/Product Management/Global PPM/Reporting/Data Collection/Production/2021.Q1\\\\live_sources\\\\us_vcomments_AU_05142021143617.parquet', '//hecate/Insurance_US/Product Development/Product Management/Global PPM/Reporting/Data Collection/Production/2021.Q1\\\\live_sources\\\\us_vcomments_AU_mnual_creation.parquet']\n"
     ]
    },
    {
     "name": "stdout",
     "output_type": "stream",
     "text": [
      "['//hecate/Insurance_US/Product Development/Product Management/Global PPM/Reporting/Data Collection/Production/2021.Q1\\\\live_sources\\\\us_vcomments_IT_05242021111521.parquet']\n"
     ]
    },
    {
     "name": "stdout",
     "output_type": "stream",
     "text": [
      "['//hecate/Insurance_US/Product Development/Product Management/Global PPM/Reporting/Data Collection/Production/2021.Q1\\\\live_sources\\\\us_vcomments_NL_05272021163120.parquet']\n"
     ]
    },
    {
     "name": "stdout",
     "output_type": "stream",
     "text": [
      "['//hecate/Insurance_US/Product Development/Product Management/Global PPM/Reporting/Data Collection/Production/2021.Q1\\\\live_sources\\\\us_vcomments_PL_05262021084450.parquet']\n"
     ]
    },
    {
     "name": "stdout",
     "output_type": "stream",
     "text": [
      "['//hecate/Insurance_US/Product Development/Product Management/Global PPM/Reporting/Data Collection/Production/2021.Q1\\\\live_sources\\\\us_vcomments_PT_05202021121056.parquet']\n"
     ]
    },
    {
     "name": "stdout",
     "output_type": "stream",
     "text": [
      "['//hecate/Insurance_US/Product Development/Product Management/Global PPM/Reporting/Data Collection/Production/2021.Q1\\\\live_sources\\\\us_vcomments_GR_05252021115404.parquet']\n"
     ]
    },
    {
     "name": "stdout",
     "output_type": "stream",
     "text": [
      "['//hecate/Insurance_US/Product Development/Product Management/Global PPM/Reporting/Data Collection/Production/2021.Q1\\\\live_sources\\\\us_vcomments_CH_05182021192455.parquet', '//hecate/Insurance_US/Product Development/Product Management/Global PPM/Reporting/Data Collection/Production/2021.Q1\\\\live_sources\\\\us_vcomments_CH_05182021192456.parquet']\n"
     ]
    },
    {
     "name": "stdout",
     "output_type": "stream",
     "text": [
      "['//hecate/Insurance_US/Product Development/Product Management/Global PPM/Reporting/Data Collection/Production/2021.Q1\\\\live_sources\\\\us_vcomments_CA_05202021134242.parquet']\n"
     ]
    }
   ],
   "source": [
    "\n",
    "datafiles = [  \"us_vcomment\", \"us_vdf\" ]\n",
    "\n",
    "\n",
    "for idx, b in enumerate(BU_list):\n",
    "\n",
    "    list_files_a = []\n",
    "    latest_valcomments = []\n",
    "    list_files_a = list(filter(lambda x: \"us_vcomments\" in  x and f\"_{b}\" in  x , list_files))\n",
    "\n",
    "    print(list_files_a)\n",
    "    recent_vers_a = max(list_files_a, key=os.path.getctime)\n",
    "    try:\n",
    "        latest_valcomments.append([f'us_vcomment',pd.read_json(recent_vers_a, orient=\"table\")])\n",
    "    except UnicodeDecodeError:\n",
    "        latest_valcomments.append([f'us_vcomment',pd.read_parquet(recent_vers_a, engine=\"pyarrow\")])\n",
    "\n",
    "    list_files_b = glob.glob(os.path.join(ls_path, f'us_vdf_{BU_list[idx]}*.json'))\n",
    "    recent_vers_b = max(list_files_b, key=os.path.getctime)\n",
    "\n",
    "    with open(recent_vers_b, 'r') as fp:\n",
    "        data_dict = json.load(fp)\n",
    "    latest_vdfdata_sets = { key: pd.DataFrame(data_dict[key]) for key in data_dict  }\n",
    "\n",
    "    valcomm_dict = {}\n",
    "    valdf_dict = {}\n",
    "    valcomdf = []\n",
    "    valcomdf = pd.DataFrame(latest_valcomments[0][1])\n",
    "\n",
    "    for idx2, row in valcomdf.iterrows():\n",
    "\n",
    "        valname = row[\"Validation Rule\"][0:25]\n",
    "        sheetname = valname + '-' + str(idx2)\n",
    "        valcomm_dict[\"{0}\".format(sheetname)] = pd.DataFrame(row).reindex()\n",
    "        try:\n",
    "            valdf_dict[sheetname] = data_dict[str(idx2)]\n",
    "        except KeyError:\n",
    "            pass\n",
    "        \n",
    "    writer = pd.ExcelWriter(rep_xls, engine='xlsxwriter')\n",
    "    \n",
    "    for i, j  in zip(valdf_dict,valcomm_dict ):\n",
    "        valdf_dict[i] = pd.DataFrame(valdf_dict[i])\n",
    "        valdf_dict[i].index.name = 'Row Number'\n",
    "        valcomm_dict[i].to_excel(writer, sheet_name=i,header=False, startrow=0, startcol=0)\n",
    "        valdf_dict[i].to_excel(writer, sheet_name= i , startrow=10, startcol=0)\n",
    "    \n",
    "    fin_name = rep_xls.replace(\"_xx\",f\"_{BU_list[idx]}\")\n",
    "    arch_name = fin_name.replace(f\"Validations Review_{BU_list[idx]}\",f\"\\Archive\\Validations Review_{BU_list[idx]}{inst_datetime}\")\n",
    "    \n",
    "    try:\n",
    "        os.remove(arch_name)\n",
    "    except FileNotFoundError:\n",
    "        pass\n",
    "    try:\n",
    "        os.rename(fin_name, arch_name )\n",
    "    except FileNotFoundError:\n",
    "        print(f\"New BU {BU_list[idx]}\")\n",
    "        pass\n",
    "\n",
    "    writer.save()\n",
    "    os.rename(rep_xls,rep_xls.replace(\"_xx\",f\"_{BU_list[idx]}\"))\n"
   ]
  },
  {
   "cell_type": "markdown",
   "id": "b4875b37",
   "metadata": {
    "papermill": {
     "duration": 0.263063,
     "end_time": "2021-06-02T15:34:15.688555",
     "exception": false,
     "start_time": "2021-06-02T15:34:15.425492",
     "status": "completed"
    },
    "tags": []
   },
   "source": [
    "### Open the folder with the documents saved"
   ]
  },
  {
   "cell_type": "code",
   "execution_count": 13,
   "id": "37c1d668",
   "metadata": {
    "execution": {
     "iopub.execute_input": "2021-06-02T15:34:16.346156Z",
     "iopub.status.busy": "2021-06-02T15:34:16.345155Z",
     "iopub.status.idle": "2021-06-02T15:34:16.706215Z",
     "shell.execute_reply": "2021-06-02T15:34:16.707208Z"
    },
    "papermill": {
     "duration": 0.694574,
     "end_time": "2021-06-02T15:34:16.708205",
     "exception": false,
     "start_time": "2021-06-02T15:34:16.013631",
     "status": "completed"
    },
    "tags": []
   },
   "outputs": [],
   "source": [
    "os.startfile(rep_path)"
   ]
  },
  {
   "cell_type": "code",
   "execution_count": null,
   "id": "779b6eb4",
   "metadata": {
    "papermill": {
     "duration": 0.394546,
     "end_time": "2021-06-02T15:34:17.506216",
     "exception": false,
     "start_time": "2021-06-02T15:34:17.111670",
     "status": "completed"
    },
    "tags": []
   },
   "outputs": [],
   "source": []
  },
  {
   "cell_type": "code",
   "execution_count": null,
   "id": "1189dc42",
   "metadata": {
    "papermill": {
     "duration": 0.49964,
     "end_time": "2021-06-02T15:34:18.438095",
     "exception": false,
     "start_time": "2021-06-02T15:34:17.938455",
     "status": "completed"
    },
    "tags": []
   },
   "outputs": [],
   "source": []
  }
 ],
 "metadata": {
  "celltoolbar": "Tags",
  "kernelspec": {
   "display_name": "Python 3",
   "language": "python",
   "name": "python3"
  },
  "language_info": {
   "codemirror_mode": {
    "name": "ipython",
    "version": 3
   },
   "file_extension": ".py",
   "mimetype": "text/x-python",
   "name": "python",
   "nbconvert_exporter": "python",
   "pygments_lexer": "ipython3",
   "version": "3.7.6"
  },
  "papermill": {
   "default_parameters": {},
   "duration": 91.662791,
   "end_time": "2021-06-02T15:34:20.233259",
   "environment_variables": {},
   "exception": null,
   "input_path": "reporting/Make Validation Output Reports With Comments.ipynb",
   "output_path": "//hecate/Insurance_US/Product Development/Product Management/Global PPM/Reporting/Data Collection/Pipeline Reporting Scripts/GPMpipeline/instances/2021.Q1\\reporting\\Make Validation Output Reports With Comments06022021112108--live, add AT.ipynb",
   "parameters": {
    "commit_message": "Live run, added AT, bad file name, rerun.",
    "inst_datetime": "06022021112108",
    "percode": "2021.Q1",
    "run_control": 1
   },
   "start_time": "2021-06-02T15:32:48.570468",
   "version": "2.3.3"
  }
 },
 "nbformat": 4,
 "nbformat_minor": 5
}