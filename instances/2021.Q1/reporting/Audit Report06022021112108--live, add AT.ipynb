{
 "cells": [
  {
   "cell_type": "markdown",
   "id": "badaaa8e",
   "metadata": {
    "papermill": {
     "duration": 0.274535,
     "end_time": "2021-06-02T15:27:59.076969",
     "exception": false,
     "start_time": "2021-06-02T15:27:58.802434",
     "status": "completed"
    },
    "tags": []
   },
   "source": [
    "<img src=\"../images/AzPTravel_PPM.png\">"
   ]
  },
  {
   "cell_type": "markdown",
   "id": "ed552e4e",
   "metadata": {
    "papermill": {
     "duration": 0.294968,
     "end_time": "2021-06-02T15:27:59.671172",
     "exception": false,
     "start_time": "2021-06-02T15:27:59.376204",
     "status": "completed"
    },
    "tags": []
   },
   "source": [
    "# Audit Report\n",
    "\n",
    "## This script reads the output of the of the final data files and compares them to inputs. \n",
    "\n",
    "#### Euro Check\n",
    "- Compare the deltas on teh Localcurr to the source and raise errors if they do not match\n",
    "\n",
    "#### Prior over Period Check\n",
    "- Quickly compare period over period and YoY final data files for major KPI's and row counts. \n",
    "\n"
   ]
  },
  {
   "cell_type": "markdown",
   "id": "79bf3cc0",
   "metadata": {
    "papermill": {
     "duration": 0.304583,
     "end_time": "2021-06-02T15:28:00.287503",
     "exception": false,
     "start_time": "2021-06-02T15:27:59.982920",
     "status": "completed"
    },
    "tags": []
   },
   "source": [
    "### User Variables\n",
    "- These are overwritten if inherited from run_control.ipynb.\n",
    "- Feel Free to reset them for a manual run if you like\n",
    "- Do not save without percode = \"-f\""
   ]
  },
  {
   "cell_type": "code",
   "execution_count": 1,
   "id": "884f0e1e",
   "metadata": {
    "execution": {
     "iopub.execute_input": "2021-06-02T15:28:00.868015Z",
     "iopub.status.busy": "2021-06-02T15:28:00.863014Z",
     "iopub.status.idle": "2021-06-02T15:28:00.872014Z",
     "shell.execute_reply": "2021-06-02T15:28:00.895013Z"
    },
    "papermill": {
     "duration": 0.33602,
     "end_time": "2021-06-02T15:28:00.896036",
     "exception": false,
     "start_time": "2021-06-02T15:28:00.560016",
     "status": "completed"
    },
    "tags": [
     "parameters"
    ]
   },
   "outputs": [],
   "source": [
    "commit_message = \"Development and testing.\"\n",
    "# Give a brief reason for the run.\n",
    "\n",
    "run_control = 1\n",
    "#run_type = 0 - Lite run with no reporting, not recommended.\n",
    "#run_type = 1 - Lite run with normal reporting, default setting.\n",
    "#run_type = 2 - Heavy run with full reporting, available for audits and troubleshooting.\n",
    "#run_type = 5 - A default setting. Indicates the script is being run by an outside process without an inherited value\n",
    "\n",
    "percode = \"2021.Q1\"\n",
    "# Data Collection Code, this controls file paths and output names\n",
    "# \"-f\" is the value indicating a bad inheritance from run with arg\n",
    "\n",
    "s_format = \"p\"\n",
    "# denotes the source data format x == Excel; j == json, p == parquet\n",
    "\n",
    "#----------\n",
    "# do not edit - this either inherits the full instance timestamp from the papermill book or captures the run time of this script.\n",
    "from datetime import datetime  # datetime options\n",
    "inst_datetime = datetime.now().strftime(\"%m%d%Y%H%M%S\")"
   ]
  },
  {
   "cell_type": "code",
   "execution_count": 2,
   "id": "2834cf83",
   "metadata": {
    "execution": {
     "iopub.execute_input": "2021-06-02T15:28:01.554425Z",
     "iopub.status.busy": "2021-06-02T15:28:01.552424Z",
     "iopub.status.idle": "2021-06-02T15:28:01.557424Z",
     "shell.execute_reply": "2021-06-02T15:28:01.559424Z"
    },
    "papermill": {
     "duration": 0.301512,
     "end_time": "2021-06-02T15:28:01.559424",
     "exception": false,
     "start_time": "2021-06-02T15:28:01.257912",
     "status": "completed"
    },
    "tags": [
     "injected-parameters"
    ]
   },
   "outputs": [],
   "source": [
    "# Parameters\n",
    "run_control = 1\n",
    "percode = \"2021.Q1\"\n",
    "commit_message = \"Live run, added AT, bad file name, rerun.\"\n",
    "inst_datetime = \"06022021112108\"\n"
   ]
  },
  {
   "cell_type": "markdown",
   "id": "13ad7f5d",
   "metadata": {
    "papermill": {
     "duration": 0.279993,
     "end_time": "2021-06-02T15:28:02.121474",
     "exception": false,
     "start_time": "2021-06-02T15:28:01.841481",
     "status": "completed"
    },
    "tags": []
   },
   "source": [
    "#### Notebook display options"
   ]
  },
  {
   "cell_type": "code",
   "execution_count": 3,
   "id": "2d58b194",
   "metadata": {
    "execution": {
     "iopub.execute_input": "2021-06-02T15:28:02.712534Z",
     "iopub.status.busy": "2021-06-02T15:28:02.711537Z",
     "iopub.status.idle": "2021-06-02T15:28:02.716533Z",
     "shell.execute_reply": "2021-06-02T15:28:02.714532Z"
    },
    "papermill": {
     "duration": 0.299998,
     "end_time": "2021-06-02T15:28:02.716533",
     "exception": false,
     "start_time": "2021-06-02T15:28:02.416535",
     "status": "completed"
    },
    "tags": []
   },
   "outputs": [],
   "source": [
    "from IPython.core.interactiveshell import InteractiveShell\n",
    "InteractiveShell.ast_node_interactivity = \"all\"\n"
   ]
  },
  {
   "cell_type": "markdown",
   "id": "90d78490",
   "metadata": {
    "papermill": {
     "duration": 0.272088,
     "end_time": "2021-06-02T15:28:03.317632",
     "exception": false,
     "start_time": "2021-06-02T15:28:03.045544",
     "status": "completed"
    },
    "tags": []
   },
   "source": [
    "#### import packages"
   ]
  },
  {
   "cell_type": "code",
   "execution_count": 4,
   "id": "54abeff8",
   "metadata": {
    "execution": {
     "iopub.execute_input": "2021-06-02T15:28:03.928768Z",
     "iopub.status.busy": "2021-06-02T15:28:03.927763Z",
     "iopub.status.idle": "2021-06-02T15:28:15.869346Z",
     "shell.execute_reply": "2021-06-02T15:28:15.870344Z"
    },
    "papermill": {
     "duration": 12.248574,
     "end_time": "2021-06-02T15:28:15.871342",
     "exception": false,
     "start_time": "2021-06-02T15:28:03.622768",
     "status": "completed"
    },
    "tags": []
   },
   "outputs": [],
   "source": [
    "#### Packages used\n",
    "\n",
    "import os # System commands\n",
    "import sys # System commands\n",
    "\n",
    "import warnings # custom warnigns options\n",
    "\n",
    "import glob # Directory operations\n",
    "import getpass # Work with parquet\n",
    "import json # Work with json\n",
    "\n",
    "import matplotlib.pyplot as plt #Plots and Graphs\n",
    "import seaborn as sns #Plots and Graphs\n",
    "import numpy as np # Series and math\n",
    "import pandas as pd #DataFrame and math\n",
    "\n",
    "#excel operations\n",
    "import re\n",
    "import nicexcel as nl # Excel operations\n",
    "import xlsxwriter # Excel operations\n",
    "import openpyxl # Excel operations\n",
    "\n",
    "#Not sure, test if needed\n",
    "import timeit\n",
    "\n"
   ]
  },
  {
   "cell_type": "markdown",
   "id": "6dc9a126",
   "metadata": {
    "papermill": {
     "duration": 0.286523,
     "end_time": "2021-06-02T15:28:16.471438",
     "exception": false,
     "start_time": "2021-06-02T15:28:16.184915",
     "status": "completed"
    },
    "tags": []
   },
   "source": [
    "#### Default Variables, these govern logic, do not edit."
   ]
  },
  {
   "cell_type": "code",
   "execution_count": 5,
   "id": "fe18a4e6",
   "metadata": {
    "execution": {
     "iopub.execute_input": "2021-06-02T15:28:17.077988Z",
     "iopub.status.busy": "2021-06-02T15:28:17.076986Z",
     "iopub.status.idle": "2021-06-02T15:28:17.082988Z",
     "shell.execute_reply": "2021-06-02T15:28:17.083988Z"
    },
    "papermill": {
     "duration": 0.296078,
     "end_time": "2021-06-02T15:28:17.084988",
     "exception": false,
     "start_time": "2021-06-02T15:28:16.788910",
     "status": "completed"
    },
    "tags": []
   },
   "outputs": [],
   "source": [
    "default_dc = \"20XX.QX\"\n",
    "default_rc = 0 #extra lite mode\n",
    "dummy_perc = \"33Q3\" # bad inheritance"
   ]
  },
  {
   "cell_type": "markdown",
   "id": "64b18329",
   "metadata": {
    "papermill": {
     "duration": 0.295103,
     "end_time": "2021-06-02T15:28:17.704387",
     "exception": false,
     "start_time": "2021-06-02T15:28:17.409284",
     "status": "completed"
    },
    "tags": []
   },
   "source": [
    "#### Script determining run context ie, manual, run_control.ipynb, or other."
   ]
  },
  {
   "cell_type": "code",
   "execution_count": 6,
   "id": "e1cad557",
   "metadata": {
    "execution": {
     "iopub.execute_input": "2021-06-02T15:28:18.358209Z",
     "iopub.status.busy": "2021-06-02T15:28:18.357210Z",
     "iopub.status.idle": "2021-06-02T15:28:18.361209Z",
     "shell.execute_reply": "2021-06-02T15:28:18.362212Z"
    },
    "papermill": {
     "duration": 0.340789,
     "end_time": "2021-06-02T15:28:18.362212",
     "exception": false,
     "start_time": "2021-06-02T15:28:18.021423",
     "status": "completed"
    },
    "tags": []
   },
   "outputs": [],
   "source": [
    "if run_control == 5:\n",
    "    run_control = default_rc \n",
    "else:\n",
    "    run_control = run_control\n",
    "\n",
    "try:\n",
    "    if sys.argv[1] == \"-f\":\n",
    "        percode = percode\n",
    "    else:\n",
    "        percode = sys.argv[1]\n",
    "\n",
    "except IndexError:\n",
    "    percode = default_dc\n",
    "except NameError:\n",
    "    percode = default_dc\n",
    "\n",
    "\n",
    "if percode == \"2021.Q1\":\n",
    "    \n",
    "     prev_percode = \"2020.Q4\"\n",
    "     prev_yearcode = \"2020.Q1\"\n",
    "\n",
    "elif percode == \"2020.Q4\":\n",
    "    \n",
    "     prev_percode = \"2020.Q3\"\n",
    "     prev_yearcode = \"2019.Q4\"\n",
    "\n",
    "elif percode == \"2020.Q3\":\n",
    "    \n",
    "     prev_percode = \"2020.Q1\"\n",
    "     prev_yearcode = \"none\"    \n",
    "\n",
    "elif percode == \"2020.Q1\":\n",
    "    \n",
    "     prev_percode = \"2019.Q4\"\n",
    "     prev_yearcode = \"none\"   "
   ]
  },
  {
   "cell_type": "markdown",
   "id": "43b5190a",
   "metadata": {
    "papermill": {
     "duration": 0.359261,
     "end_time": "2021-06-02T15:28:19.005611",
     "exception": false,
     "start_time": "2021-06-02T15:28:18.646350",
     "status": "completed"
    },
    "tags": []
   },
   "source": [
    "#### style settings"
   ]
  },
  {
   "cell_type": "code",
   "execution_count": 7,
   "id": "60ccd980",
   "metadata": {
    "execution": {
     "iopub.execute_input": "2021-06-02T15:28:19.622061Z",
     "iopub.status.busy": "2021-06-02T15:28:19.618050Z",
     "iopub.status.idle": "2021-06-02T15:28:19.626049Z",
     "shell.execute_reply": "2021-06-02T15:28:19.627050Z"
    },
    "papermill": {
     "duration": 0.33288,
     "end_time": "2021-06-02T15:28:19.628064",
     "exception": false,
     "start_time": "2021-06-02T15:28:19.295184",
     "status": "completed"
    },
    "tags": []
   },
   "outputs": [],
   "source": [
    "from IPython.core.interactiveshell import InteractiveShell\n",
    "InteractiveShell.ast_node_interactivity = \"all\"\n",
    "\n",
    "pd.set_option('display.float_format', lambda x: '%.5f' % x)"
   ]
  },
  {
   "cell_type": "markdown",
   "id": "e66ef0e2",
   "metadata": {
    "papermill": {
     "duration": 0.311066,
     "end_time": "2021-06-02T15:28:20.259856",
     "exception": false,
     "start_time": "2021-06-02T15:28:19.948790",
     "status": "completed"
    },
    "tags": []
   },
   "source": [
    "\n",
    "## Begin Input Read\n",
    "- Make paths used in script\n",
    "- all paths should be modular and easily replaced ahead of operations."
   ]
  },
  {
   "cell_type": "code",
   "execution_count": 8,
   "id": "d22fca42",
   "metadata": {
    "execution": {
     "iopub.execute_input": "2021-06-02T15:28:20.873939Z",
     "iopub.status.busy": "2021-06-02T15:28:20.872941Z",
     "iopub.status.idle": "2021-06-02T15:28:20.876938Z",
     "shell.execute_reply": "2021-06-02T15:28:20.878939Z"
    },
    "papermill": {
     "duration": 0.326059,
     "end_time": "2021-06-02T15:28:20.878939",
     "exception": false,
     "start_time": "2021-06-02T15:28:20.552880",
     "status": "completed"
    },
    "tags": []
   },
   "outputs": [],
   "source": [
    "#root directory\n",
    "rt_path = f'\\\\\\\\hecate\\\\Insurance_US\\\\Product Development\\\\Product Management\\\\Global PPM\\\\Reporting\\Data Collection'\n",
    "\n",
    "# Euro file dir\n",
    "euro_conv_source_path =current_path = os.path.join(rt_path ,percode,'External Resources')\n",
    "\n",
    "# Source file dirs\n",
    "current_path = os.path.join(rt_path ,\"Production\" , percode)\n",
    "previous_period_path = os.path.join(rt_path ,\"Production\" , prev_percode)\n",
    "previous_year_path = os.path.join(rt_path ,\"Production\" , prev_yearcode )\n",
    "\n",
    "\n"
   ]
  },
  {
   "cell_type": "markdown",
   "id": "d2ed0bbd",
   "metadata": {
    "papermill": {
     "duration": 0.331303,
     "end_time": "2021-06-02T15:28:21.477341",
     "exception": false,
     "start_time": "2021-06-02T15:28:21.146038",
     "status": "completed"
    },
    "tags": []
   },
   "source": [
    "#### Make sources used in script\n",
    "- all sources should be modular and easily replaced ahead of operations."
   ]
  },
  {
   "cell_type": "code",
   "execution_count": 9,
   "id": "815386b3",
   "metadata": {
    "execution": {
     "iopub.execute_input": "2021-06-02T15:28:22.115620Z",
     "iopub.status.busy": "2021-06-02T15:28:22.107614Z",
     "iopub.status.idle": "2021-06-02T15:28:22.130616Z",
     "shell.execute_reply": "2021-06-02T15:28:22.131621Z"
    },
    "papermill": {
     "duration": 0.366933,
     "end_time": "2021-06-02T15:28:22.132636",
     "exception": false,
     "start_time": "2021-06-02T15:28:21.765703",
     "status": "completed"
    },
    "tags": []
   },
   "outputs": [],
   "source": [
    "if \"Q1\" in percode:\n",
    "\n",
    "    EURRATES = str.replace(f\"EURRATES {percode}.xlsx\",\"Q1\",\"03.31\")\n",
    "\n",
    "elif  \"Q2\" in percode:\n",
    "\n",
    "    EURRATES = str.replace(f\"EURRATES {percode}.xlsx\",\"Q2\",\"06.30\")\n",
    "\n",
    "elif  \"Q3\" in percode:\n",
    "\n",
    "    EURRATES = str.replace(f\"EURRATES {percode}.xlsx\",\"Q2\",\"09.30\")\n",
    "    \n",
    "elif  \"Q4\" in percode:\n",
    "\n",
    "    EURRATES = str.replace(f\"EURRATES {percode}.xlsx\",\"Q2\",\"12.31\")\n",
    "    \n",
    "eurrates = os.path.join( euro_conv_source_path,   EURRATES)\n",
    "\n",
    "\n",
    "\n",
    "current_lc_file = os.path.join(current_path  ,f'{percode}.localcur.csv')\n",
    "current_eur_file  = os.path.join(current_path  ,f'{percode}.euroconv.csv')\n",
    "\n",
    "previous_period_lc_file = os.path.join(previous_period_path ,f'{ prev_percode}.localcur.csv')\n",
    "previous_period_eur_file  = os.path.join(previous_period_path ,f'{ prev_percode}.euroconv.csv')\n",
    "\n",
    "previous_year_lc_file = os.path.join(previous_year_path  ,f'{ prev_yearcode}.localcur.csv')\n",
    "previous_year_eur_file  = os.path.join(previous_year_path ,f'{ prev_yearcode}.euroconv.csv')\n"
   ]
  },
  {
   "cell_type": "markdown",
   "id": "b719f080",
   "metadata": {
    "papermill": {
     "duration": 0.304992,
     "end_time": "2021-06-02T15:28:22.756611",
     "exception": false,
     "start_time": "2021-06-02T15:28:22.451619",
     "status": "completed"
    },
    "tags": []
   },
   "source": [
    "#### import data"
   ]
  },
  {
   "cell_type": "code",
   "execution_count": 10,
   "id": "d346ec8e",
   "metadata": {
    "execution": {
     "iopub.execute_input": "2021-06-02T15:28:23.403750Z",
     "iopub.status.busy": "2021-06-02T15:28:23.395750Z",
     "iopub.status.idle": "2021-06-02T15:29:08.836925Z",
     "shell.execute_reply": "2021-06-02T15:29:08.838912Z"
    },
    "papermill": {
     "duration": 45.788266,
     "end_time": "2021-06-02T15:29:08.839909",
     "exception": false,
     "start_time": "2021-06-02T15:28:23.051643",
     "status": "completed"
    },
    "tags": []
   },
   "outputs": [],
   "source": [
    "eurrates_df = pd.read_excel(eurrates,sheet_name = \"Output\")\n",
    "\n",
    "\n",
    "current_lc_df = pd.read_csv(current_lc_file , engine='python') \n",
    "current_eur_df = pd.read_csv(current_eur_file , engine='python') \n",
    "\n",
    "\n",
    "previous_period_lc_df = pd.read_csv(previous_period_lc_file, engine='python')\n",
    "previous_period_eur_df = pd.read_csv(previous_period_eur_file , engine='python')\n",
    "\n",
    "\n",
    "previous_year_lc_df = pd.read_csv(previous_year_lc_file, engine='python') \n",
    "previous_year_eur_df = pd.read_csv(previous_year_eur_file , engine='python')\n",
    "\n"
   ]
  },
  {
   "cell_type": "markdown",
   "id": "b2a7f635",
   "metadata": {
    "papermill": {
     "duration": 0.350989,
     "end_time": "2021-06-02T15:29:09.529422",
     "exception": false,
     "start_time": "2021-06-02T15:29:09.178433",
     "status": "completed"
    },
    "tags": []
   },
   "source": [
    "## Begin Audits\n",
    "\n",
    "#### Euro Conversion Check.\n",
    "- Each major KPI evaluated bu Country by Currency in the source files and the official Allianz Connect reference report."
   ]
  },
  {
   "cell_type": "code",
   "execution_count": 11,
   "id": "cc6cbd24",
   "metadata": {
    "execution": {
     "iopub.execute_input": "2021-06-02T15:29:10.144146Z",
     "iopub.status.busy": "2021-06-02T15:29:10.142144Z",
     "iopub.status.idle": "2021-06-02T15:29:10.201660Z",
     "shell.execute_reply": "2021-06-02T15:29:10.202665Z"
    },
    "papermill": {
     "duration": 0.387359,
     "end_time": "2021-06-02T15:29:10.202665",
     "exception": false,
     "start_time": "2021-06-02T15:29:09.815306",
     "status": "completed"
    },
    "tags": []
   },
   "outputs": [],
   "source": [
    "attributes = ['country', 'currency']\n",
    "\n",
    "alt_attributes = ['Country', 'Currency']\n",
    "\n",
    "comparison_fields = [\n",
    " 'written_revenues_net_of_taxes',\n",
    " 'written_revenues',\n",
    " 'earned_revenues_net_of_taxes',\n",
    " 'earned_revenues',\n",
    " 'total_compensation',\n",
    "  'actual_incurred_losses_(paid_+_ocr_+_ibnr)',\n",
    " 'total_expenses',\n",
    " 'profit_or_loss',\n",
    "]\n",
    "\n",
    "\n",
    "alt_comparison_fields = [\n",
    "'Written Revenues net of Taxes',\n",
    " 'Written Revenues',\n",
    " 'Earned Revenues net of Taxes',\n",
    " 'Earned Revenues',\n",
    " 'Total Compensation',\n",
    " 'Actual Incurred Losses (Paid + OCR + IBNR)',\n",
    " 'Total Expenses',\n",
    " 'Profit or Loss',\n",
    "]\n",
    "\n",
    "view_cols = [] \n",
    "\n",
    "for a in attributes: view_cols.append(a)\n",
    "for c in comparison_fields: view_cols.append(c)\n",
    "\n",
    "    \n",
    "    \n",
    "alt_view_cols = [] \n",
    "\n",
    "for a in alt_attributes: alt_view_cols.append(a)\n",
    "for c in alt_comparison_fields: alt_view_cols.append(c)\n",
    "    \n",
    "\n",
    "current_eur_view =  current_eur_df[view_cols].groupby(attributes).sum()\n",
    "\n",
    "try:\n",
    "    current_lc_view =  current_lc_df[view_cols].groupby(attributes).sum()\n",
    "\n",
    "except KeyError:\n",
    "    current_lc_view =  current_lc_df[alt_view_cols].groupby(alt_attributes).sum()  \n",
    "    \n",
    "\n",
    "previous_period_eur_view =  previous_period_eur_df[view_cols].groupby(attributes).sum()    \n",
    "previous_year_eur_view =  previous_year_eur_df[view_cols].groupby(attributes).sum()    \n",
    "\n",
    "\n"
   ]
  },
  {
   "cell_type": "code",
   "execution_count": 12,
   "id": "4ce0653e",
   "metadata": {
    "execution": {
     "iopub.execute_input": "2021-06-02T15:29:10.805662Z",
     "iopub.status.busy": "2021-06-02T15:29:10.804657Z",
     "iopub.status.idle": "2021-06-02T15:29:11.061778Z",
     "shell.execute_reply": "2021-06-02T15:29:11.062778Z"
    },
    "papermill": {
     "duration": 0.566595,
     "end_time": "2021-06-02T15:29:11.063778",
     "exception": false,
     "start_time": "2021-06-02T15:29:10.497183",
     "status": "completed"
    },
    "tags": []
   },
   "outputs": [
    {
     "name": "stderr",
     "output_type": "stream",
     "text": [
      "C:\\Users\\gharmo\\Anaconda3\\lib\\site-packages\\ipykernel_launcher.py:9: UserWarning: Boolean Series key will be reindexed to match DataFrame index.\n",
      "  if __name__ == '__main__':\n"
     ]
    },
    {
     "data": {
      "text/html": [
       "<div>\n",
       "<style scoped>\n",
       "    .dataframe tbody tr th:only-of-type {\n",
       "        vertical-align: middle;\n",
       "    }\n",
       "\n",
       "    .dataframe tbody tr th {\n",
       "        vertical-align: top;\n",
       "    }\n",
       "\n",
       "    .dataframe thead th {\n",
       "        text-align: right;\n",
       "    }\n",
       "</style>\n",
       "<table border=\"1\" class=\"dataframe\">\n",
       "  <thead>\n",
       "    <tr style=\"text-align: right;\">\n",
       "      <th></th>\n",
       "      <th>country</th>\n",
       "      <th>currency</th>\n",
       "      <th>value</th>\n",
       "    </tr>\n",
       "  </thead>\n",
       "  <tbody>\n",
       "    <tr>\n",
       "      <th>0</th>\n",
       "      <td>AT</td>\n",
       "      <td>EUR</td>\n",
       "      <td>1.00000</td>\n",
       "    </tr>\n",
       "    <tr>\n",
       "      <th>1</th>\n",
       "      <td>AU</td>\n",
       "      <td>AUD</td>\n",
       "      <td>1.54310</td>\n",
       "    </tr>\n",
       "    <tr>\n",
       "      <th>2</th>\n",
       "      <td>BG</td>\n",
       "      <td>EUR</td>\n",
       "      <td>1.00000</td>\n",
       "    </tr>\n",
       "    <tr>\n",
       "      <th>3</th>\n",
       "      <td>CA</td>\n",
       "      <td>CAD</td>\n",
       "      <td>1.47720</td>\n",
       "    </tr>\n",
       "    <tr>\n",
       "      <th>4</th>\n",
       "      <td>CH</td>\n",
       "      <td>CHF</td>\n",
       "      <td>1.10615</td>\n",
       "    </tr>\n",
       "    <tr>\n",
       "      <th>5</th>\n",
       "      <td>CZ</td>\n",
       "      <td>EUR</td>\n",
       "      <td>1.00000</td>\n",
       "    </tr>\n",
       "    <tr>\n",
       "      <th>6</th>\n",
       "      <td>ES</td>\n",
       "      <td>EUR</td>\n",
       "      <td>1.00000</td>\n",
       "    </tr>\n",
       "    <tr>\n",
       "      <th>7</th>\n",
       "      <td>GR</td>\n",
       "      <td>EUR</td>\n",
       "      <td>1.00000</td>\n",
       "    </tr>\n",
       "    <tr>\n",
       "      <th>8</th>\n",
       "      <td>HU</td>\n",
       "      <td>EUR</td>\n",
       "      <td>1.00000</td>\n",
       "    </tr>\n",
       "    <tr>\n",
       "      <th>9</th>\n",
       "      <td>IT</td>\n",
       "      <td>EUR</td>\n",
       "      <td>1.00000</td>\n",
       "    </tr>\n",
       "    <tr>\n",
       "      <th>10</th>\n",
       "      <td>NL</td>\n",
       "      <td>EUR</td>\n",
       "      <td>1.00000</td>\n",
       "    </tr>\n",
       "    <tr>\n",
       "      <th>11</th>\n",
       "      <td>PL</td>\n",
       "      <td>EUR</td>\n",
       "      <td>1.00000</td>\n",
       "    </tr>\n",
       "    <tr>\n",
       "      <th>12</th>\n",
       "      <td>PT</td>\n",
       "      <td>EUR</td>\n",
       "      <td>1.00000</td>\n",
       "    </tr>\n",
       "    <tr>\n",
       "      <th>13</th>\n",
       "      <td>RO</td>\n",
       "      <td>EUR</td>\n",
       "      <td>1.00000</td>\n",
       "    </tr>\n",
       "  </tbody>\n",
       "</table>\n",
       "</div>"
      ],
      "text/plain": [
       "   country currency   value\n",
       "0       AT      EUR 1.00000\n",
       "1       AU      AUD 1.54310\n",
       "2       BG      EUR 1.00000\n",
       "3       CA      CAD 1.47720\n",
       "4       CH      CHF 1.10615\n",
       "5       CZ      EUR 1.00000\n",
       "6       ES      EUR 1.00000\n",
       "7       GR      EUR 1.00000\n",
       "8       HU      EUR 1.00000\n",
       "9       IT      EUR 1.00000\n",
       "10      NL      EUR 1.00000\n",
       "11      PL      EUR 1.00000\n",
       "12      PT      EUR 1.00000\n",
       "13      RO      EUR 1.00000"
      ]
     },
     "execution_count": 12,
     "metadata": {},
     "output_type": "execute_result"
    }
   ],
   "source": [
    "\n",
    "calculated_rates = current_lc_view.div(current_eur_view).reset_index()\n",
    "\n",
    "calculated_rates = calculated_rates.melt(id_vars=attributes).reset_index(drop = True)\n",
    "\n",
    "calculated_rates = calculated_rates[[\"country\",\"currency\", \"value\"]]\n",
    "\n",
    "calculated_rates['value'] = calculated_rates['value'].round(5)\n",
    "\n",
    "calculated_rates = calculated_rates.drop_duplicates()[calculated_rates['value'].notna()]\n",
    "calculated_rates "
   ]
  },
  {
   "cell_type": "code",
   "execution_count": 13,
   "id": "cf9f2bfc",
   "metadata": {
    "execution": {
     "iopub.execute_input": "2021-06-02T15:29:11.663855Z",
     "iopub.status.busy": "2021-06-02T15:29:11.661862Z",
     "iopub.status.idle": "2021-06-02T15:29:11.670867Z",
     "shell.execute_reply": "2021-06-02T15:29:11.669861Z"
    },
    "papermill": {
     "duration": 0.301047,
     "end_time": "2021-06-02T15:29:11.671861",
     "exception": false,
     "start_time": "2021-06-02T15:29:11.370814",
     "status": "completed"
    },
    "tags": []
   },
   "outputs": [
    {
     "data": {
      "text/plain": [
       "1.0"
      ]
     },
     "execution_count": 13,
     "metadata": {},
     "output_type": "execute_result"
    }
   ],
   "source": [
    "test = 1\n",
    "\n",
    "if calculated_rates.groupby( attributes).count()['value'].max() != 1: \n",
    "    \n",
    "    test = 0\n",
    "\n",
    "else:\n",
    "    \n",
    "    pass\n",
    "        \n",
    "        \n",
    "1/test # if this is an error you have bad currency conversions and possibly a bad join with extra rows\n",
    "\n",
    "#todo build a proper error class"
   ]
  },
  {
   "cell_type": "code",
   "execution_count": 14,
   "id": "b6579114",
   "metadata": {
    "execution": {
     "iopub.execute_input": "2021-06-02T15:29:12.273562Z",
     "iopub.status.busy": "2021-06-02T15:29:12.270561Z",
     "iopub.status.idle": "2021-06-02T15:29:12.280563Z",
     "shell.execute_reply": "2021-06-02T15:29:12.281561Z"
    },
    "papermill": {
     "duration": 0.31456,
     "end_time": "2021-06-02T15:29:12.281561",
     "exception": false,
     "start_time": "2021-06-02T15:29:11.967001",
     "status": "completed"
    },
    "tags": []
   },
   "outputs": [
    {
     "data": {
      "text/plain": [
       "1.0"
      ]
     },
     "execution_count": 14,
     "metadata": {},
     "output_type": "execute_result"
    }
   ],
   "source": [
    "\n",
    "test = 1\n",
    "\n",
    "if len(current_eur_df[attributes].drop_duplicates()) != len(calculated_rates): \n",
    "    \n",
    "    test = 0\n",
    "\n",
    "else:\n",
    "    pass\n",
    "\n",
    "1/test # if this is an error you do not have the same number of country and curreny combos in all views. Major problem!\n",
    "\n",
    "#todo build a proper error class\n",
    "\n"
   ]
  },
  {
   "cell_type": "code",
   "execution_count": 15,
   "id": "2cb1c377",
   "metadata": {
    "execution": {
     "iopub.execute_input": "2021-06-02T15:29:12.855751Z",
     "iopub.status.busy": "2021-06-02T15:29:12.832738Z",
     "iopub.status.idle": "2021-06-02T15:29:12.862736Z",
     "shell.execute_reply": "2021-06-02T15:29:12.865735Z"
    },
    "papermill": {
     "duration": 0.31814,
     "end_time": "2021-06-02T15:29:12.865735",
     "exception": false,
     "start_time": "2021-06-02T15:29:12.547595",
     "status": "completed"
    },
    "tags": []
   },
   "outputs": [
    {
     "data": {
      "text/html": [
       "<div>\n",
       "<style scoped>\n",
       "    .dataframe tbody tr th:only-of-type {\n",
       "        vertical-align: middle;\n",
       "    }\n",
       "\n",
       "    .dataframe tbody tr th {\n",
       "        vertical-align: top;\n",
       "    }\n",
       "\n",
       "    .dataframe thead th {\n",
       "        text-align: right;\n",
       "    }\n",
       "</style>\n",
       "<table border=\"1\" class=\"dataframe\">\n",
       "  <thead>\n",
       "    <tr style=\"text-align: right;\">\n",
       "      <th></th>\n",
       "      <th>country</th>\n",
       "      <th>currency</th>\n",
       "      <th>value</th>\n",
       "      <th>CurrCode</th>\n",
       "      <th>Country</th>\n",
       "      <th>EUR_2_LC</th>\n",
       "      <th>LC_2_EUR</th>\n",
       "    </tr>\n",
       "  </thead>\n",
       "  <tbody>\n",
       "    <tr>\n",
       "      <th>0</th>\n",
       "      <td>AT</td>\n",
       "      <td>EUR</td>\n",
       "      <td>1.00000</td>\n",
       "      <td>EUR</td>\n",
       "      <td>Euro</td>\n",
       "      <td>1.00000</td>\n",
       "      <td>1.00000</td>\n",
       "    </tr>\n",
       "    <tr>\n",
       "      <th>1</th>\n",
       "      <td>AU</td>\n",
       "      <td>AUD</td>\n",
       "      <td>1.54310</td>\n",
       "      <td>AUD</td>\n",
       "      <td>Australia</td>\n",
       "      <td>1.54310</td>\n",
       "      <td>0.64805</td>\n",
       "    </tr>\n",
       "    <tr>\n",
       "      <th>2</th>\n",
       "      <td>BG</td>\n",
       "      <td>EUR</td>\n",
       "      <td>1.00000</td>\n",
       "      <td>EUR</td>\n",
       "      <td>Euro</td>\n",
       "      <td>1.00000</td>\n",
       "      <td>1.00000</td>\n",
       "    </tr>\n",
       "    <tr>\n",
       "      <th>3</th>\n",
       "      <td>CA</td>\n",
       "      <td>CAD</td>\n",
       "      <td>1.47720</td>\n",
       "      <td>CAD</td>\n",
       "      <td>Canada</td>\n",
       "      <td>1.47720</td>\n",
       "      <td>0.67696</td>\n",
       "    </tr>\n",
       "    <tr>\n",
       "      <th>4</th>\n",
       "      <td>CH</td>\n",
       "      <td>CHF</td>\n",
       "      <td>1.10615</td>\n",
       "      <td>CHF</td>\n",
       "      <td>Switzerland</td>\n",
       "      <td>1.10615</td>\n",
       "      <td>0.90404</td>\n",
       "    </tr>\n",
       "    <tr>\n",
       "      <th>5</th>\n",
       "      <td>CZ</td>\n",
       "      <td>EUR</td>\n",
       "      <td>1.00000</td>\n",
       "      <td>EUR</td>\n",
       "      <td>Euro</td>\n",
       "      <td>1.00000</td>\n",
       "      <td>1.00000</td>\n",
       "    </tr>\n",
       "    <tr>\n",
       "      <th>6</th>\n",
       "      <td>ES</td>\n",
       "      <td>EUR</td>\n",
       "      <td>1.00000</td>\n",
       "      <td>EUR</td>\n",
       "      <td>Euro</td>\n",
       "      <td>1.00000</td>\n",
       "      <td>1.00000</td>\n",
       "    </tr>\n",
       "    <tr>\n",
       "      <th>7</th>\n",
       "      <td>GR</td>\n",
       "      <td>EUR</td>\n",
       "      <td>1.00000</td>\n",
       "      <td>EUR</td>\n",
       "      <td>Euro</td>\n",
       "      <td>1.00000</td>\n",
       "      <td>1.00000</td>\n",
       "    </tr>\n",
       "    <tr>\n",
       "      <th>8</th>\n",
       "      <td>HU</td>\n",
       "      <td>EUR</td>\n",
       "      <td>1.00000</td>\n",
       "      <td>EUR</td>\n",
       "      <td>Euro</td>\n",
       "      <td>1.00000</td>\n",
       "      <td>1.00000</td>\n",
       "    </tr>\n",
       "    <tr>\n",
       "      <th>9</th>\n",
       "      <td>IT</td>\n",
       "      <td>EUR</td>\n",
       "      <td>1.00000</td>\n",
       "      <td>EUR</td>\n",
       "      <td>Euro</td>\n",
       "      <td>1.00000</td>\n",
       "      <td>1.00000</td>\n",
       "    </tr>\n",
       "    <tr>\n",
       "      <th>10</th>\n",
       "      <td>NL</td>\n",
       "      <td>EUR</td>\n",
       "      <td>1.00000</td>\n",
       "      <td>EUR</td>\n",
       "      <td>Euro</td>\n",
       "      <td>1.00000</td>\n",
       "      <td>1.00000</td>\n",
       "    </tr>\n",
       "    <tr>\n",
       "      <th>11</th>\n",
       "      <td>PL</td>\n",
       "      <td>EUR</td>\n",
       "      <td>1.00000</td>\n",
       "      <td>EUR</td>\n",
       "      <td>Euro</td>\n",
       "      <td>1.00000</td>\n",
       "      <td>1.00000</td>\n",
       "    </tr>\n",
       "    <tr>\n",
       "      <th>12</th>\n",
       "      <td>PT</td>\n",
       "      <td>EUR</td>\n",
       "      <td>1.00000</td>\n",
       "      <td>EUR</td>\n",
       "      <td>Euro</td>\n",
       "      <td>1.00000</td>\n",
       "      <td>1.00000</td>\n",
       "    </tr>\n",
       "    <tr>\n",
       "      <th>13</th>\n",
       "      <td>RO</td>\n",
       "      <td>EUR</td>\n",
       "      <td>1.00000</td>\n",
       "      <td>EUR</td>\n",
       "      <td>Euro</td>\n",
       "      <td>1.00000</td>\n",
       "      <td>1.00000</td>\n",
       "    </tr>\n",
       "  </tbody>\n",
       "</table>\n",
       "</div>"
      ],
      "text/plain": [
       "   country currency   value CurrCode       Country  EUR_2_LC  LC_2_EUR\n",
       "0       AT      EUR 1.00000      EUR         Euro    1.00000   1.00000\n",
       "1       AU      AUD 1.54310      AUD    Australia    1.54310   0.64805\n",
       "2       BG      EUR 1.00000      EUR         Euro    1.00000   1.00000\n",
       "3       CA      CAD 1.47720      CAD        Canada   1.47720   0.67696\n",
       "4       CH      CHF 1.10615      CHF  Switzerland    1.10615   0.90404\n",
       "5       CZ      EUR 1.00000      EUR         Euro    1.00000   1.00000\n",
       "6       ES      EUR 1.00000      EUR         Euro    1.00000   1.00000\n",
       "7       GR      EUR 1.00000      EUR         Euro    1.00000   1.00000\n",
       "8       HU      EUR 1.00000      EUR         Euro    1.00000   1.00000\n",
       "9       IT      EUR 1.00000      EUR         Euro    1.00000   1.00000\n",
       "10      NL      EUR 1.00000      EUR         Euro    1.00000   1.00000\n",
       "11      PL      EUR 1.00000      EUR         Euro    1.00000   1.00000\n",
       "12      PT      EUR 1.00000      EUR         Euro    1.00000   1.00000\n",
       "13      RO      EUR 1.00000      EUR         Euro    1.00000   1.00000"
      ]
     },
     "execution_count": 15,
     "metadata": {},
     "output_type": "execute_result"
    }
   ],
   "source": [
    "conversion_comparison =  calculated_rates.merge( eurrates_df,  how='left',  left_on='currency', right_on='CurrCode' )\n",
    "\n",
    "conversion_comparison\n",
    "\n",
    "\n"
   ]
  },
  {
   "cell_type": "code",
   "execution_count": 16,
   "id": "07589340",
   "metadata": {
    "execution": {
     "iopub.execute_input": "2021-06-02T15:29:13.496356Z",
     "iopub.status.busy": "2021-06-02T15:29:13.495354Z",
     "iopub.status.idle": "2021-06-02T15:29:13.510353Z",
     "shell.execute_reply": "2021-06-02T15:29:13.511365Z"
    },
    "papermill": {
     "duration": 0.317526,
     "end_time": "2021-06-02T15:29:13.512353",
     "exception": false,
     "start_time": "2021-06-02T15:29:13.194827",
     "status": "completed"
    },
    "tags": []
   },
   "outputs": [
    {
     "name": "stdout",
     "output_type": "stream",
     "text": [
      "Stored 'euro_df' (DataFrame)\n"
     ]
    }
   ],
   "source": [
    "euro_df = conversion_comparison\n",
    "\n",
    "%store euro_df\n"
   ]
  },
  {
   "cell_type": "code",
   "execution_count": 17,
   "id": "efa3b392",
   "metadata": {
    "execution": {
     "iopub.execute_input": "2021-06-02T15:29:14.116680Z",
     "iopub.status.busy": "2021-06-02T15:29:14.114680Z",
     "iopub.status.idle": "2021-06-02T15:29:14.126681Z",
     "shell.execute_reply": "2021-06-02T15:29:14.128682Z"
    },
    "papermill": {
     "duration": 0.338021,
     "end_time": "2021-06-02T15:29:14.129682",
     "exception": false,
     "start_time": "2021-06-02T15:29:13.791661",
     "status": "completed"
    },
    "tags": []
   },
   "outputs": [
    {
     "data": {
      "text/plain": [
       "1.0"
      ]
     },
     "execution_count": 17,
     "metadata": {},
     "output_type": "execute_result"
    }
   ],
   "source": [
    "\n",
    "test = 1\n",
    "\n",
    "if (   conversion_comparison['value']   - conversion_comparison['EUR_2_LC']).sum() != 0: \n",
    "    \n",
    "    test = 0\n",
    "\n",
    "else:\n",
    "    pass\n",
    "\n",
    "1/test # if this is an error you do not match the source currency document. Major problem!\n",
    "\n",
    "#todo build a proper error class\n"
   ]
  },
  {
   "cell_type": "markdown",
   "id": "8b89f11d",
   "metadata": {
    "papermill": {
     "duration": 0.406219,
     "end_time": "2021-06-02T15:29:14.857144",
     "exception": false,
     "start_time": "2021-06-02T15:29:14.450925",
     "status": "completed"
    },
    "tags": []
   },
   "source": [
    "#### Data views for evaluation\n",
    "- Create several views in order to populate graphs"
   ]
  },
  {
   "cell_type": "code",
   "execution_count": 18,
   "id": "8b5959c4",
   "metadata": {
    "execution": {
     "iopub.execute_input": "2021-06-02T15:29:15.437054Z",
     "iopub.status.busy": "2021-06-02T15:29:15.436051Z",
     "iopub.status.idle": "2021-06-02T15:29:15.441053Z",
     "shell.execute_reply": "2021-06-02T15:29:15.443052Z"
    },
    "papermill": {
     "duration": 0.30115,
     "end_time": "2021-06-02T15:29:15.443052",
     "exception": false,
     "start_time": "2021-06-02T15:29:15.141902",
     "status": "completed"
    },
    "tags": []
   },
   "outputs": [],
   "source": [
    "current_eur_view['Period'] = percode\n",
    "previous_period_eur_view['Period']  =    prev_percode \n",
    "previous_year_eur_view['Period']    =  prev_yearcode \n",
    "\n"
   ]
  },
  {
   "cell_type": "code",
   "execution_count": 19,
   "id": "4d7a7312",
   "metadata": {
    "execution": {
     "iopub.execute_input": "2021-06-02T15:29:16.057353Z",
     "iopub.status.busy": "2021-06-02T15:29:16.049352Z",
     "iopub.status.idle": "2021-06-02T15:29:16.092354Z",
     "shell.execute_reply": "2021-06-02T15:29:16.094356Z"
    },
    "papermill": {
     "duration": 0.365294,
     "end_time": "2021-06-02T15:29:16.094356",
     "exception": false,
     "start_time": "2021-06-02T15:29:15.729062",
     "status": "completed"
    },
    "tags": []
   },
   "outputs": [],
   "source": [
    "rowcounts = pd.DataFrame()\n",
    "\n",
    "rowcounts_current = current_eur_df[[\"country\",\"written_revenues_net_of_taxes\"]].groupby(\"country\").count() \n",
    "\n",
    "rowcounts_current[\"Period\"] = percode\n",
    "\n",
    "\n",
    "rowcounts_prev_per = previous_period_eur_df[[\"country\",\"written_revenues_net_of_taxes\"]].groupby(\"country\").count() \n",
    "\n",
    "rowcounts_prev_per[\"Period\"] = prev_percode \n",
    "\n",
    "\n",
    "rowcounts_py = previous_year_eur_df[[\"country\",\"written_revenues_net_of_taxes\"]].groupby(\"country\").count() \n",
    "\n",
    "rowcounts_py[\"Period\"] = prev_yearcode \n",
    "\n",
    "\n",
    "rowcounts = rowcounts.append(rowcounts_current).append(rowcounts_prev_per).append(rowcounts_py)\n",
    "rowcounts = rowcounts.rename( { 'written_revenues_net_of_taxes' :'Rowcounts' }, axis='columns')\n",
    "\n",
    "rowcounts = rowcounts.reset_index()\n",
    "\n",
    "\n"
   ]
  },
  {
   "cell_type": "code",
   "execution_count": 20,
   "id": "bc1aeac0",
   "metadata": {
    "execution": {
     "iopub.execute_input": "2021-06-02T15:29:16.765664Z",
     "iopub.status.busy": "2021-06-02T15:29:16.747663Z",
     "iopub.status.idle": "2021-06-02T15:29:16.803675Z",
     "shell.execute_reply": "2021-06-02T15:29:16.804662Z"
    },
    "papermill": {
     "duration": 0.406528,
     "end_time": "2021-06-02T15:29:16.805662",
     "exception": false,
     "start_time": "2021-06-02T15:29:16.399134",
     "status": "completed"
    },
    "scrolled": true,
    "tags": []
   },
   "outputs": [
    {
     "data": {
      "text/html": [
       "<div>\n",
       "<style scoped>\n",
       "    .dataframe tbody tr th:only-of-type {\n",
       "        vertical-align: middle;\n",
       "    }\n",
       "\n",
       "    .dataframe tbody tr th {\n",
       "        vertical-align: top;\n",
       "    }\n",
       "\n",
       "    .dataframe thead th {\n",
       "        text-align: right;\n",
       "    }\n",
       "</style>\n",
       "<table border=\"1\" class=\"dataframe\">\n",
       "  <thead>\n",
       "    <tr style=\"text-align: right;\">\n",
       "      <th></th>\n",
       "      <th></th>\n",
       "      <th>written_revenues_net_of_taxes</th>\n",
       "      <th>written_revenues</th>\n",
       "      <th>earned_revenues_net_of_taxes</th>\n",
       "      <th>earned_revenues</th>\n",
       "      <th>total_compensation</th>\n",
       "      <th>actual_incurred_losses_(paid_+_ocr_+_ibnr)</th>\n",
       "      <th>total_expenses</th>\n",
       "      <th>profit_or_loss</th>\n",
       "      <th>Period</th>\n",
       "    </tr>\n",
       "    <tr>\n",
       "      <th>country</th>\n",
       "      <th>currency</th>\n",
       "      <th></th>\n",
       "      <th></th>\n",
       "      <th></th>\n",
       "      <th></th>\n",
       "      <th></th>\n",
       "      <th></th>\n",
       "      <th></th>\n",
       "      <th></th>\n",
       "      <th></th>\n",
       "    </tr>\n",
       "  </thead>\n",
       "  <tbody>\n",
       "    <tr>\n",
       "      <th>AT</th>\n",
       "      <th>EUR</th>\n",
       "      <td>1263968.01000</td>\n",
       "      <td>1395973.91000</td>\n",
       "      <td>1263968.01000</td>\n",
       "      <td>1395973.91000</td>\n",
       "      <td>184705.16000</td>\n",
       "      <td>-198293.93474</td>\n",
       "      <td>379665.68759</td>\n",
       "      <td>897891.09715</td>\n",
       "      <td>2021.Q1</td>\n",
       "    </tr>\n",
       "    <tr>\n",
       "      <th>AU</th>\n",
       "      <th>AUD</th>\n",
       "      <td>91686.79036</td>\n",
       "      <td>0.00000</td>\n",
       "      <td>9332572.90584</td>\n",
       "      <td>0.00000</td>\n",
       "      <td>216127.95390</td>\n",
       "      <td>1811872.66040</td>\n",
       "      <td>4832421.23620</td>\n",
       "      <td>2472151.05534</td>\n",
       "      <td>2021.Q1</td>\n",
       "    </tr>\n",
       "    <tr>\n",
       "      <th>BG</th>\n",
       "      <th>EUR</th>\n",
       "      <td>250935.21867</td>\n",
       "      <td>256065.50397</td>\n",
       "      <td>250935.21867</td>\n",
       "      <td>256065.50397</td>\n",
       "      <td>68238.36454</td>\n",
       "      <td>-457009.40088</td>\n",
       "      <td>9107.43570</td>\n",
       "      <td>630598.81931</td>\n",
       "      <td>2021.Q1</td>\n",
       "    </tr>\n",
       "    <tr>\n",
       "      <th>CA</th>\n",
       "      <th>CAD</th>\n",
       "      <td>6774281.88465</td>\n",
       "      <td>6804054.73869</td>\n",
       "      <td>7906948.34916</td>\n",
       "      <td>0.00000</td>\n",
       "      <td>2233722.50171</td>\n",
       "      <td>4417080.28482</td>\n",
       "      <td>1771533.24975</td>\n",
       "      <td>-515387.68713</td>\n",
       "      <td>2021.Q1</td>\n",
       "    </tr>\n",
       "    <tr>\n",
       "      <th>CH</th>\n",
       "      <th>CHF</th>\n",
       "      <td>27181112.76952</td>\n",
       "      <td>0.00000</td>\n",
       "      <td>31246379.71907</td>\n",
       "      <td>0.00000</td>\n",
       "      <td>7519635.50344</td>\n",
       "      <td>5470941.93045</td>\n",
       "      <td>8826348.84822</td>\n",
       "      <td>9429453.43697</td>\n",
       "      <td>2021.Q1</td>\n",
       "    </tr>\n",
       "    <tr>\n",
       "      <th>...</th>\n",
       "      <th>...</th>\n",
       "      <td>...</td>\n",
       "      <td>...</td>\n",
       "      <td>...</td>\n",
       "      <td>...</td>\n",
       "      <td>...</td>\n",
       "      <td>...</td>\n",
       "      <td>...</td>\n",
       "      <td>...</td>\n",
       "      <td>...</td>\n",
       "    </tr>\n",
       "    <tr>\n",
       "      <th>PL</th>\n",
       "      <th>EUR</th>\n",
       "      <td>7338567.83355</td>\n",
       "      <td>7338567.83355</td>\n",
       "      <td>5589756.43733</td>\n",
       "      <td>5589756.43733</td>\n",
       "      <td>2641837.05568</td>\n",
       "      <td>2957760.75136</td>\n",
       "      <td>1164651.95704</td>\n",
       "      <td>-1174493.32674</td>\n",
       "      <td>2020.Q1</td>\n",
       "    </tr>\n",
       "    <tr>\n",
       "      <th>PT</th>\n",
       "      <th>EUR</th>\n",
       "      <td>178994.56000</td>\n",
       "      <td>172085.95000</td>\n",
       "      <td>175055.42872</td>\n",
       "      <td>164756.71451</td>\n",
       "      <td>10856.48738</td>\n",
       "      <td>45381.81000</td>\n",
       "      <td>54961.74333</td>\n",
       "      <td>63855.38801</td>\n",
       "      <td>2020.Q1</td>\n",
       "    </tr>\n",
       "    <tr>\n",
       "      <th>SE</th>\n",
       "      <th>EUR</th>\n",
       "      <td>3212611.00000</td>\n",
       "      <td>0.00000</td>\n",
       "      <td>3073854.00000</td>\n",
       "      <td>0.00000</td>\n",
       "      <td>1805938.00000</td>\n",
       "      <td>606724.00000</td>\n",
       "      <td>234227.67480</td>\n",
       "      <td>426964.32520</td>\n",
       "      <td>2020.Q1</td>\n",
       "    </tr>\n",
       "    <tr>\n",
       "      <th>UK</th>\n",
       "      <th>GBP</th>\n",
       "      <td>6355643.44026</td>\n",
       "      <td>7423949.64020</td>\n",
       "      <td>4977416.07375</td>\n",
       "      <td>5818779.66926</td>\n",
       "      <td>1469592.50285</td>\n",
       "      <td>1855749.44906</td>\n",
       "      <td>839809.12021</td>\n",
       "      <td>812265.00162</td>\n",
       "      <td>2020.Q1</td>\n",
       "    </tr>\n",
       "    <tr>\n",
       "      <th>US</th>\n",
       "      <th>USD</th>\n",
       "      <td>1137304643.72749</td>\n",
       "      <td>1137304643.72749</td>\n",
       "      <td>1122964702.66575</td>\n",
       "      <td>1122964702.66575</td>\n",
       "      <td>539043173.76167</td>\n",
       "      <td>330595032.02552</td>\n",
       "      <td>214503449.99772</td>\n",
       "      <td>38823046.88084</td>\n",
       "      <td>2020.Q1</td>\n",
       "    </tr>\n",
       "  </tbody>\n",
       "</table>\n",
       "<p>73 rows × 9 columns</p>\n",
       "</div>"
      ],
      "text/plain": [
       "                  written_revenues_net_of_taxes  written_revenues  \\\n",
       "country currency                                                    \n",
       "AT      EUR                       1263968.01000     1395973.91000   \n",
       "AU      AUD                         91686.79036           0.00000   \n",
       "BG      EUR                        250935.21867      256065.50397   \n",
       "CA      CAD                       6774281.88465     6804054.73869   \n",
       "CH      CHF                      27181112.76952           0.00000   \n",
       "...                                         ...               ...   \n",
       "PL      EUR                       7338567.83355     7338567.83355   \n",
       "PT      EUR                        178994.56000      172085.95000   \n",
       "SE      EUR                       3212611.00000           0.00000   \n",
       "UK      GBP                       6355643.44026     7423949.64020   \n",
       "US      USD                    1137304643.72749  1137304643.72749   \n",
       "\n",
       "                  earned_revenues_net_of_taxes  earned_revenues  \\\n",
       "country currency                                                  \n",
       "AT      EUR                      1263968.01000    1395973.91000   \n",
       "AU      AUD                      9332572.90584          0.00000   \n",
       "BG      EUR                       250935.21867     256065.50397   \n",
       "CA      CAD                      7906948.34916          0.00000   \n",
       "CH      CHF                     31246379.71907          0.00000   \n",
       "...                                        ...              ...   \n",
       "PL      EUR                      5589756.43733    5589756.43733   \n",
       "PT      EUR                       175055.42872     164756.71451   \n",
       "SE      EUR                      3073854.00000          0.00000   \n",
       "UK      GBP                      4977416.07375    5818779.66926   \n",
       "US      USD                   1122964702.66575 1122964702.66575   \n",
       "\n",
       "                  total_compensation  \\\n",
       "country currency                       \n",
       "AT      EUR             184705.16000   \n",
       "AU      AUD             216127.95390   \n",
       "BG      EUR              68238.36454   \n",
       "CA      CAD            2233722.50171   \n",
       "CH      CHF            7519635.50344   \n",
       "...                              ...   \n",
       "PL      EUR            2641837.05568   \n",
       "PT      EUR              10856.48738   \n",
       "SE      EUR            1805938.00000   \n",
       "UK      GBP            1469592.50285   \n",
       "US      USD          539043173.76167   \n",
       "\n",
       "                  actual_incurred_losses_(paid_+_ocr_+_ibnr)  total_expenses  \\\n",
       "country currency                                                               \n",
       "AT      EUR                                    -198293.93474    379665.68759   \n",
       "AU      AUD                                    1811872.66040   4832421.23620   \n",
       "BG      EUR                                    -457009.40088      9107.43570   \n",
       "CA      CAD                                    4417080.28482   1771533.24975   \n",
       "CH      CHF                                    5470941.93045   8826348.84822   \n",
       "...                                                      ...             ...   \n",
       "PL      EUR                                    2957760.75136   1164651.95704   \n",
       "PT      EUR                                      45381.81000     54961.74333   \n",
       "SE      EUR                                     606724.00000    234227.67480   \n",
       "UK      GBP                                    1855749.44906    839809.12021   \n",
       "US      USD                                  330595032.02552 214503449.99772   \n",
       "\n",
       "                  profit_or_loss   Period  \n",
       "country currency                           \n",
       "AT      EUR         897891.09715  2021.Q1  \n",
       "AU      AUD        2472151.05534  2021.Q1  \n",
       "BG      EUR         630598.81931  2021.Q1  \n",
       "CA      CAD        -515387.68713  2021.Q1  \n",
       "CH      CHF        9429453.43697  2021.Q1  \n",
       "...                          ...      ...  \n",
       "PL      EUR       -1174493.32674  2020.Q1  \n",
       "PT      EUR          63855.38801  2020.Q1  \n",
       "SE      EUR         426964.32520  2020.Q1  \n",
       "UK      GBP         812265.00162  2020.Q1  \n",
       "US      USD       38823046.88084  2020.Q1  \n",
       "\n",
       "[73 rows x 9 columns]"
      ]
     },
     "execution_count": 20,
     "metadata": {},
     "output_type": "execute_result"
    }
   ],
   "source": [
    "combo_views = current_eur_view.append(previous_period_eur_view).append(previous_year_eur_view)\n",
    "\n",
    "combo_views"
   ]
  },
  {
   "cell_type": "code",
   "execution_count": 21,
   "id": "02a2ee30",
   "metadata": {
    "execution": {
     "iopub.execute_input": "2021-06-02T15:29:17.518863Z",
     "iopub.status.busy": "2021-06-02T15:29:17.516858Z",
     "iopub.status.idle": "2021-06-02T15:29:17.525858Z",
     "shell.execute_reply": "2021-06-02T15:29:17.527857Z"
    },
    "papermill": {
     "duration": 0.387518,
     "end_time": "2021-06-02T15:29:17.527857",
     "exception": false,
     "start_time": "2021-06-02T15:29:17.140339",
     "status": "completed"
    },
    "tags": []
   },
   "outputs": [],
   "source": [
    "combo_views = combo_views.reset_index()\n",
    "\n",
    "melt_cv = combo_views.melt(['country','Period','currency'], ignore_index = True)\n",
    "\n",
    "melt_cv['value'] = melt_cv['value'].fillna(0)\n"
   ]
  },
  {
   "cell_type": "code",
   "execution_count": 22,
   "id": "d13c74c6",
   "metadata": {
    "execution": {
     "iopub.execute_input": "2021-06-02T15:29:18.389104Z",
     "iopub.status.busy": "2021-06-02T15:29:18.376103Z",
     "iopub.status.idle": "2021-06-02T15:29:18.409102Z",
     "shell.execute_reply": "2021-06-02T15:29:18.410105Z"
    },
    "papermill": {
     "duration": 0.423823,
     "end_time": "2021-06-02T15:29:18.411103",
     "exception": false,
     "start_time": "2021-06-02T15:29:17.987280",
     "status": "completed"
    },
    "tags": []
   },
   "outputs": [],
   "source": [
    "check_set0 = melt_cv[melt_cv[\"Period\"] == percode].groupby( [\"country\"]).sum()\n",
    "\n",
    "include = check_set0.index.values\n",
    "\n",
    "include = list(include)\n",
    "\n",
    "melt_cv = melt_cv[(melt_cv[\"country\"].isin(include)) & (~melt_cv[\"variable\"].isin([\"index\",\"written_revenues\",\"earned_revenues\"]) )]\n",
    "\n",
    "\n"
   ]
  },
  {
   "cell_type": "markdown",
   "id": "e3494c7b",
   "metadata": {
    "papermill": {
     "duration": 0.385007,
     "end_time": "2021-06-02T15:29:19.151264",
     "exception": false,
     "start_time": "2021-06-02T15:29:18.766257",
     "status": "completed"
    },
    "tags": []
   },
   "source": [
    "#Rowcount visual\n",
    "- see how many rows were submitted by each BU in this data submission vs the previous submission and the YoY submission."
   ]
  },
  {
   "cell_type": "code",
   "execution_count": 23,
   "id": "d59b3f83",
   "metadata": {
    "execution": {
     "iopub.execute_input": "2021-06-02T15:29:19.862713Z",
     "iopub.status.busy": "2021-06-02T15:29:19.841721Z",
     "iopub.status.idle": "2021-06-02T15:29:55.916234Z",
     "shell.execute_reply": "2021-06-02T15:29:55.918236Z"
    },
    "papermill": {
     "duration": 36.429978,
     "end_time": "2021-06-02T15:29:55.918236",
     "exception": false,
     "start_time": "2021-06-02T15:29:19.488258",
     "status": "completed"
    },
    "tags": []
   },
   "outputs": [
    {
     "data": {
      "text/plain": [
       "<seaborn.axisgrid.FacetGrid at 0x23044b2cf88>"
      ]
     },
     "execution_count": 23,
     "metadata": {},
     "output_type": "execute_result"
    },
    {
     "data": {
      "text/plain": [
       "Text(0.5, 1149.2000000000003, 'AT')"
      ]
     },
     "execution_count": 23,
     "metadata": {},
     "output_type": "execute_result"
    },
    {
     "data": {
      "text/plain": [
       "Text(10.175000000000004, 0.5, 'Rows Submitted')"
      ]
     },
     "execution_count": 23,
     "metadata": {},
     "output_type": "execute_result"
    },
    {
     "data": {
      "text/plain": [
       "Text(0.5, 1149.2000000000003, 'AU')"
      ]
     },
     "execution_count": 23,
     "metadata": {},
     "output_type": "execute_result"
    },
    {
     "data": {
      "text/plain": [
       "Text(295.47499999999997, 0.5, 'Rows Submitted')"
      ]
     },
     "execution_count": 23,
     "metadata": {},
     "output_type": "execute_result"
    },
    {
     "data": {
      "text/plain": [
       "Text(0.5, 1149.2000000000003, 'BG')"
      ]
     },
     "execution_count": 23,
     "metadata": {},
     "output_type": "execute_result"
    },
    {
     "data": {
      "text/plain": [
       "Text(587.0250000000001, 0.5, 'Rows Submitted')"
      ]
     },
     "execution_count": 23,
     "metadata": {},
     "output_type": "execute_result"
    },
    {
     "data": {
      "text/plain": [
       "Text(0.5, 1149.2000000000003, 'CA')"
      ]
     },
     "execution_count": 23,
     "metadata": {},
     "output_type": "execute_result"
    },
    {
     "data": {
      "text/plain": [
       "Text(859.7, 0.5, 'Rows Submitted')"
      ]
     },
     "execution_count": 23,
     "metadata": {},
     "output_type": "execute_result"
    },
    {
     "data": {
      "text/plain": [
       "Text(0.5, 1006.4000000000001, 'CH')"
      ]
     },
     "execution_count": 23,
     "metadata": {},
     "output_type": "execute_result"
    },
    {
     "data": {
      "text/plain": [
       "Text(3.8000000000000043, 0.5, 'Rows Submitted')"
      ]
     },
     "execution_count": 23,
     "metadata": {},
     "output_type": "execute_result"
    },
    {
     "data": {
      "text/plain": [
       "Text(0.5, 1006.4000000000001, 'CZ')"
      ]
     },
     "execution_count": 23,
     "metadata": {},
     "output_type": "execute_result"
    },
    {
     "data": {
      "text/plain": [
       "Text(307.97499999999997, 0.5, 'Rows Submitted')"
      ]
     },
     "execution_count": 23,
     "metadata": {},
     "output_type": "execute_result"
    },
    {
     "data": {
      "text/plain": [
       "Text(0.5, 1006.4000000000001, 'ES')"
      ]
     },
     "execution_count": 23,
     "metadata": {},
     "output_type": "execute_result"
    },
    {
     "data": {
      "text/plain": [
       "Text(587.0250000000001, 0.5, 'Rows Submitted')"
      ]
     },
     "execution_count": 23,
     "metadata": {},
     "output_type": "execute_result"
    },
    {
     "data": {
      "text/plain": [
       "Text(0.5, 1006.4000000000001, 'GR')"
      ]
     },
     "execution_count": 23,
     "metadata": {},
     "output_type": "execute_result"
    },
    {
     "data": {
      "text/plain": [
       "Text(872.2, 0.5, 'Rows Submitted')"
      ]
     },
     "execution_count": 23,
     "metadata": {},
     "output_type": "execute_result"
    },
    {
     "data": {
      "text/plain": [
       "Text(0.5, 863.6000000000001, 'HU')"
      ]
     },
     "execution_count": 23,
     "metadata": {},
     "output_type": "execute_result"
    },
    {
     "data": {
      "text/plain": [
       "Text(10.175000000000004, 0.5, 'Rows Submitted')"
      ]
     },
     "execution_count": 23,
     "metadata": {},
     "output_type": "execute_result"
    },
    {
     "data": {
      "text/plain": [
       "Text(0.5, 863.6000000000001, 'IT')"
      ]
     },
     "execution_count": 23,
     "metadata": {},
     "output_type": "execute_result"
    },
    {
     "data": {
      "text/plain": [
       "Text(295.47499999999997, 0.5, 'Rows Submitted')"
      ]
     },
     "execution_count": 23,
     "metadata": {},
     "output_type": "execute_result"
    },
    {
     "data": {
      "text/plain": [
       "Text(0.5, 863.6000000000001, 'NL')"
      ]
     },
     "execution_count": 23,
     "metadata": {},
     "output_type": "execute_result"
    },
    {
     "data": {
      "text/plain": [
       "Text(580.6500000000001, 0.5, 'Rows Submitted')"
      ]
     },
     "execution_count": 23,
     "metadata": {},
     "output_type": "execute_result"
    },
    {
     "data": {
      "text/plain": [
       "Text(0.5, 863.6000000000001, 'PL')"
      ]
     },
     "execution_count": 23,
     "metadata": {},
     "output_type": "execute_result"
    },
    {
     "data": {
      "text/plain": [
       "Text(872.325, 0.5, 'Rows Submitted')"
      ]
     },
     "execution_count": 23,
     "metadata": {},
     "output_type": "execute_result"
    },
    {
     "data": {
      "text/plain": [
       "Text(0.5, 720.8000000000001, 'PT')"
      ]
     },
     "execution_count": 23,
     "metadata": {},
     "output_type": "execute_result"
    },
    {
     "data": {
      "text/plain": [
       "Text(16.425000000000004, 0.5, 'Rows Submitted')"
      ]
     },
     "execution_count": 23,
     "metadata": {},
     "output_type": "execute_result"
    },
    {
     "data": {
      "text/plain": [
       "Text(0.5, 720.8000000000001, 'RO')"
      ]
     },
     "execution_count": 23,
     "metadata": {},
     "output_type": "execute_result"
    },
    {
     "data": {
      "text/plain": [
       "Text(295.47499999999997, 0.5, 'Rows Submitted')"
      ]
     },
     "execution_count": 23,
     "metadata": {},
     "output_type": "execute_result"
    },
    {
     "data": {
      "image/png": "[encoded data removed]",
      "text/plain": [
       "<Figure size 1152x1296 with 35 Axes>"
      ]
     },
     "metadata": {
      "needs_background": "light"
     },
     "output_type": "display_data"
    }
   ],
   "source": [
    "order = rowcounts.Period.unique()\n",
    "\n",
    "included = (include * 6)\n",
    "included.sort()\n",
    "\n",
    "g = sns.FacetGrid(rowcounts, col=\"country\",  hue=\"Period\", palette=\"Set3\",col_wrap = 4, height=2, aspect=2, margin_titles=True, legend_out=False, sharex=False, sharey=False)\n",
    "g.map(sns.barplot, \"Period\", \"Rowcounts\", order=order, ci=None, label = True)\n",
    "axes = g.axes.flatten()\n",
    "for ax, b  in zip(axes, include):\n",
    "    ax.set_xlabel(b)\n",
    "    ax.set_ylabel(\"Rows Submitted\")\n",
    "\n",
    "\n",
    "g.savefig('rows.png', dpi=125)"
   ]
  },
  {
   "cell_type": "markdown",
   "id": "3c8ba93c",
   "metadata": {
    "papermill": {
     "duration": 0.405061,
     "end_time": "2021-06-02T15:29:56.714592",
     "exception": false,
     "start_time": "2021-06-02T15:29:56.309531",
     "status": "completed"
    },
    "tags": []
   },
   "source": [
    "#KPI visual\n",
    "- Displays in KPI totals in Euros for this data submission vs the previous submission and the YoY submission."
   ]
  },
  {
   "cell_type": "code",
   "execution_count": 24,
   "id": "07ba3d72",
   "metadata": {
    "execution": {
     "iopub.execute_input": "2021-06-02T15:29:57.680454Z",
     "iopub.status.busy": "2021-06-02T15:29:57.668916Z",
     "iopub.status.idle": "2021-06-02T15:31:14.617874Z",
     "shell.execute_reply": "2021-06-02T15:31:14.618873Z"
    },
    "papermill": {
     "duration": 77.423952,
     "end_time": "2021-06-02T15:31:14.619871",
     "exception": false,
     "start_time": "2021-06-02T15:29:57.195919",
     "status": "completed"
    },
    "tags": []
   },
   "outputs": [
    {
     "data": {
      "text/plain": [
       "<seaborn.axisgrid.FacetGrid at 0x230455c6988>"
      ]
     },
     "execution_count": 24,
     "metadata": {},
     "output_type": "execute_result"
    },
    {
     "data": {
      "text/plain": [
       "Text(0.5, 1868.771428571429, 'AT')"
      ]
     },
     "execution_count": 24,
     "metadata": {},
     "output_type": "execute_result"
    },
    {
     "data": {
      "text/plain": [
       "Text(-14.824999999999982, 0.5, 'Euro')"
      ]
     },
     "execution_count": 24,
     "metadata": {},
     "output_type": "execute_result"
    },
    {
     "data": {
      "text/plain": [
       "Text(0.5, 1868.771428571429, 'AT')"
      ]
     },
     "execution_count": 24,
     "metadata": {},
     "output_type": "execute_result"
    },
    {
     "data": {
      "text/plain": [
       "Text(271.37500000000006, 0.5, 'Euro')"
      ]
     },
     "execution_count": 24,
     "metadata": {},
     "output_type": "execute_result"
    },
    {
     "data": {
      "text/plain": [
       "Text(0.5, 1868.771428571429, 'AT')"
      ]
     },
     "execution_count": 24,
     "metadata": {},
     "output_type": "execute_result"
    },
    {
     "data": {
      "text/plain": [
       "Text(557.45, 0.5, 'Euro')"
      ]
     },
     "execution_count": 24,
     "metadata": {},
     "output_type": "execute_result"
    },
    {
     "data": {
      "text/plain": [
       "Text(0.5, 1868.771428571429, 'AT')"
      ]
     },
     "execution_count": 24,
     "metadata": {},
     "output_type": "execute_result"
    },
    {
     "data": {
      "text/plain": [
       "Text(843.7750000000001, 0.5, 'Euro')"
      ]
     },
     "execution_count": 24,
     "metadata": {},
     "output_type": "execute_result"
    },
    {
     "data": {
      "text/plain": [
       "Text(0.5, 1868.771428571429, 'AT')"
      ]
     },
     "execution_count": 24,
     "metadata": {},
     "output_type": "execute_result"
    },
    {
     "data": {
      "text/plain": [
       "Text(1129.8500000000001, 0.5, 'Euro')"
      ]
     },
     "execution_count": 24,
     "metadata": {},
     "output_type": "execute_result"
    },
    {
     "data": {
      "text/plain": [
       "Text(0.5, 1868.771428571429, 'AT')"
      ]
     },
     "execution_count": 24,
     "metadata": {},
     "output_type": "execute_result"
    },
    {
     "data": {
      "text/plain": [
       "Text(1414.0500000000002, 0.5, 'Euro')"
      ]
     },
     "execution_count": 24,
     "metadata": {},
     "output_type": "execute_result"
    },
    {
     "data": {
      "text/plain": [
       "Text(0.5, 1725.5428571428577, 'AU')"
      ]
     },
     "execution_count": 24,
     "metadata": {},
     "output_type": "execute_result"
    },
    {
     "data": {
      "text/plain": [
       "Text(6.8000000000000185, 0.5, 'Euro')"
      ]
     },
     "execution_count": 24,
     "metadata": {},
     "output_type": "execute_result"
    },
    {
     "data": {
      "text/plain": [
       "Text(0.5, 1725.5428571428577, 'AU')"
      ]
     },
     "execution_count": 24,
     "metadata": {},
     "output_type": "execute_result"
    },
    {
     "data": {
      "text/plain": [
       "Text(293.00000000000006, 0.5, 'Euro')"
      ]
     },
     "execution_count": 24,
     "metadata": {},
     "output_type": "execute_result"
    },
    {
     "data": {
      "text/plain": [
       "Text(0.5, 1725.5428571428577, 'AU')"
      ]
     },
     "execution_count": 24,
     "metadata": {},
     "output_type": "execute_result"
    },
    {
     "data": {
      "text/plain": [
       "Text(585.45, 0.5, 'Euro')"
      ]
     },
     "execution_count": 24,
     "metadata": {},
     "output_type": "execute_result"
    },
    {
     "data": {
      "text/plain": [
       "Text(0.5, 1725.5428571428577, 'AU')"
      ]
     },
     "execution_count": 24,
     "metadata": {},
     "output_type": "execute_result"
    },
    {
     "data": {
      "text/plain": [
       "Text(881.2750000000001, 0.5, 'Euro')"
      ]
     },
     "execution_count": 24,
     "metadata": {},
     "output_type": "execute_result"
    },
    {
     "data": {
      "text/plain": [
       "Text(0.5, 1725.5428571428577, 'AU')"
      ]
     },
     "execution_count": 24,
     "metadata": {},
     "output_type": "execute_result"
    },
    {
     "data": {
      "text/plain": [
       "Text(1167.4750000000001, 0.5, 'Euro')"
      ]
     },
     "execution_count": 24,
     "metadata": {},
     "output_type": "execute_result"
    },
    {
     "data": {
      "text/plain": [
       "Text(0.5, 1725.5428571428577, 'AU')"
      ]
     },
     "execution_count": 24,
     "metadata": {},
     "output_type": "execute_result"
    },
    {
     "data": {
      "text/plain": [
       "Text(1429.4250000000002, 0.5, 'Euro')"
      ]
     },
     "execution_count": 24,
     "metadata": {},
     "output_type": "execute_result"
    },
    {
     "data": {
      "text/plain": [
       "Text(0.5, 1582.314285714286, 'BG')"
      ]
     },
     "execution_count": 24,
     "metadata": {},
     "output_type": "execute_result"
    },
    {
     "data": {
      "text/plain": [
       "Text(-8.574999999999982, 0.5, 'Euro')"
      ]
     },
     "execution_count": 24,
     "metadata": {},
     "output_type": "execute_result"
    },
    {
     "data": {
      "text/plain": [
       "Text(0.5, 1582.314285714286, 'BG')"
      ]
     },
     "execution_count": 24,
     "metadata": {},
     "output_type": "execute_result"
    },
    {
     "data": {
      "text/plain": [
       "Text(277.62500000000006, 0.5, 'Euro')"
      ]
     },
     "execution_count": 24,
     "metadata": {},
     "output_type": "execute_result"
    },
    {
     "data": {
      "text/plain": [
       "Text(0.5, 1582.314285714286, 'BG')"
      ]
     },
     "execution_count": 24,
     "metadata": {},
     "output_type": "execute_result"
    },
    {
     "data": {
      "text/plain": [
       "Text(570.075, 0.5, 'Euro')"
      ]
     },
     "execution_count": 24,
     "metadata": {},
     "output_type": "execute_result"
    },
    {
     "data": {
      "text/plain": [
       "Text(0.5, 1582.314285714286, 'BG')"
      ]
     },
     "execution_count": 24,
     "metadata": {},
     "output_type": "execute_result"
    },
    {
     "data": {
      "text/plain": [
       "Text(841.5250000000001, 0.5, 'Euro')"
      ]
     },
     "execution_count": 24,
     "metadata": {},
     "output_type": "execute_result"
    },
    {
     "data": {
      "text/plain": [
       "Text(0.5, 1582.314285714286, 'BG')"
      ]
     },
     "execution_count": 24,
     "metadata": {},
     "output_type": "execute_result"
    },
    {
     "data": {
      "text/plain": [
       "Text(1136.2250000000001, 0.5, 'Euro')"
      ]
     },
     "execution_count": 24,
     "metadata": {},
     "output_type": "execute_result"
    },
    {
     "data": {
      "text/plain": [
       "Text(0.5, 1582.314285714286, 'BG')"
      ]
     },
     "execution_count": 24,
     "metadata": {},
     "output_type": "execute_result"
    },
    {
     "data": {
      "text/plain": [
       "Text(1414.0500000000002, 0.5, 'Euro')"
      ]
     },
     "execution_count": 24,
     "metadata": {},
     "output_type": "execute_result"
    },
    {
     "data": {
      "text/plain": [
       "Text(0.5, 1439.0857142857146, 'CA')"
      ]
     },
     "execution_count": 24,
     "metadata": {},
     "output_type": "execute_result"
    },
    {
     "data": {
      "text/plain": [
       "Text(13.175000000000018, 0.5, 'Euro')"
      ]
     },
     "execution_count": 24,
     "metadata": {},
     "output_type": "execute_result"
    },
    {
     "data": {
      "text/plain": [
       "Text(0.5, 1439.0857142857146, 'CA')"
      ]
     },
     "execution_count": 24,
     "metadata": {},
     "output_type": "execute_result"
    },
    {
     "data": {
      "text/plain": [
       "Text(299.37500000000006, 0.5, 'Euro')"
      ]
     },
     "execution_count": 24,
     "metadata": {},
     "output_type": "execute_result"
    },
    {
     "data": {
      "text/plain": [
       "Text(0.5, 1439.0857142857146, 'CA')"
      ]
     },
     "execution_count": 24,
     "metadata": {},
     "output_type": "execute_result"
    },
    {
     "data": {
      "text/plain": [
       "Text(595.075, 0.5, 'Euro')"
      ]
     },
     "execution_count": 24,
     "metadata": {},
     "output_type": "execute_result"
    },
    {
     "data": {
      "text/plain": [
       "Text(0.5, 1439.0857142857146, 'CA')"
      ]
     },
     "execution_count": 24,
     "metadata": {},
     "output_type": "execute_result"
    },
    {
     "data": {
      "text/plain": [
       "Text(881.2750000000001, 0.5, 'Euro')"
      ]
     },
     "execution_count": 24,
     "metadata": {},
     "output_type": "execute_result"
    },
    {
     "data": {
      "text/plain": [
       "Text(0.5, 1439.0857142857146, 'CA')"
      ]
     },
     "execution_count": 24,
     "metadata": {},
     "output_type": "execute_result"
    },
    {
     "data": {
      "text/plain": [
       "Text(1167.4750000000001, 0.5, 'Euro')"
      ]
     },
     "execution_count": 24,
     "metadata": {},
     "output_type": "execute_result"
    },
    {
     "data": {
      "text/plain": [
       "Text(0.5, 1439.0857142857146, 'CA')"
      ]
     },
     "execution_count": 24,
     "metadata": {},
     "output_type": "execute_result"
    },
    {
     "data": {
      "text/plain": [
       "Text(1407.6750000000002, 0.5, 'Euro')"
      ]
     },
     "execution_count": 24,
     "metadata": {},
     "output_type": "execute_result"
    },
    {
     "data": {
      "text/plain": [
       "Text(0.5, 1295.8571428571431, 'CH')"
      ]
     },
     "execution_count": 24,
     "metadata": {},
     "output_type": "execute_result"
    },
    {
     "data": {
      "text/plain": [
       "Text(22.67500000000002, 0.5, 'Euro')"
      ]
     },
     "execution_count": 24,
     "metadata": {},
     "output_type": "execute_result"
    },
    {
     "data": {
      "text/plain": [
       "Text(0.5, 1295.8571428571431, 'CH')"
      ]
     },
     "execution_count": 24,
     "metadata": {},
     "output_type": "execute_result"
    },
    {
     "data": {
      "text/plain": [
       "Text(308.87500000000006, 0.5, 'Euro')"
      ]
     },
     "execution_count": 24,
     "metadata": {},
     "output_type": "execute_result"
    },
    {
     "data": {
      "text/plain": [
       "Text(0.5, 1295.8571428571431, 'CH')"
      ]
     },
     "execution_count": 24,
     "metadata": {},
     "output_type": "execute_result"
    },
    {
     "data": {
      "text/plain": [
       "Text(585.575, 0.5, 'Euro')"
      ]
     },
     "execution_count": 24,
     "metadata": {},
     "output_type": "execute_result"
    },
    {
     "data": {
      "text/plain": [
       "Text(0.5, 1295.8571428571431, 'CH')"
      ]
     },
     "execution_count": 24,
     "metadata": {},
     "output_type": "execute_result"
    },
    {
     "data": {
      "text/plain": [
       "Text(871.6500000000001, 0.5, 'Euro')"
      ]
     },
     "execution_count": 24,
     "metadata": {},
     "output_type": "execute_result"
    },
    {
     "data": {
      "text/plain": [
       "Text(0.5, 1295.8571428571431, 'CH')"
      ]
     },
     "execution_count": 24,
     "metadata": {},
     "output_type": "execute_result"
    },
    {
     "data": {
      "text/plain": [
       "Text(1151.6000000000001, 0.5, 'Euro')"
      ]
     },
     "execution_count": 24,
     "metadata": {},
     "output_type": "execute_result"
    },
    {
     "data": {
      "text/plain": [
       "Text(0.5, 1295.8571428571431, 'CH')"
      ]
     },
     "execution_count": 24,
     "metadata": {},
     "output_type": "execute_result"
    },
    {
     "data": {
      "text/plain": [
       "Text(1437.8000000000002, 0.5, 'Euro')"
      ]
     },
     "execution_count": 24,
     "metadata": {},
     "output_type": "execute_result"
    },
    {
     "data": {
      "text/plain": [
       "Text(0.5, 1152.6285714285716, 'CZ')"
      ]
     },
     "execution_count": 24,
     "metadata": {},
     "output_type": "execute_result"
    },
    {
     "data": {
      "text/plain": [
       "Text(-8.574999999999982, 0.5, 'Euro')"
      ]
     },
     "execution_count": 24,
     "metadata": {},
     "output_type": "execute_result"
    },
    {
     "data": {
      "text/plain": [
       "Text(0.5, 1152.6285714285716, 'CZ')"
      ]
     },
     "execution_count": 24,
     "metadata": {},
     "output_type": "execute_result"
    },
    {
     "data": {
      "text/plain": [
       "Text(277.62500000000006, 0.5, 'Euro')"
      ]
     },
     "execution_count": 24,
     "metadata": {},
     "output_type": "execute_result"
    },
    {
     "data": {
      "text/plain": [
       "Text(0.5, 1152.6285714285716, 'CZ')"
      ]
     },
     "execution_count": 24,
     "metadata": {},
     "output_type": "execute_result"
    },
    {
     "data": {
      "text/plain": [
       "Text(563.7, 0.5, 'Euro')"
      ]
     },
     "execution_count": 24,
     "metadata": {},
     "output_type": "execute_result"
    },
    {
     "data": {
      "text/plain": [
       "Text(0.5, 1152.6285714285716, 'CZ')"
      ]
     },
     "execution_count": 24,
     "metadata": {},
     "output_type": "execute_result"
    },
    {
     "data": {
      "text/plain": [
       "Text(850.0250000000001, 0.5, 'Euro')"
      ]
     },
     "execution_count": 24,
     "metadata": {},
     "output_type": "execute_result"
    },
    {
     "data": {
      "text/plain": [
       "Text(0.5, 1152.6285714285716, 'CZ')"
      ]
     },
     "execution_count": 24,
     "metadata": {},
     "output_type": "execute_result"
    },
    {
     "data": {
      "text/plain": [
       "Text(1142.4750000000001, 0.5, 'Euro')"
      ]
     },
     "execution_count": 24,
     "metadata": {},
     "output_type": "execute_result"
    },
    {
     "data": {
      "text/plain": [
       "Text(0.5, 1152.6285714285716, 'CZ')"
      ]
     },
     "execution_count": 24,
     "metadata": {},
     "output_type": "execute_result"
    },
    {
     "data": {
      "text/plain": [
       "Text(1414.0500000000002, 0.5, 'Euro')"
      ]
     },
     "execution_count": 24,
     "metadata": {},
     "output_type": "execute_result"
    },
    {
     "data": {
      "text/plain": [
       "Text(0.5, 1009.4000000000003, 'ES')"
      ]
     },
     "execution_count": 24,
     "metadata": {},
     "output_type": "execute_result"
    },
    {
     "data": {
      "text/plain": [
       "Text(-14.824999999999982, 0.5, 'Euro')"
      ]
     },
     "execution_count": 24,
     "metadata": {},
     "output_type": "execute_result"
    },
    {
     "data": {
      "text/plain": [
       "Text(0.5, 1009.4000000000003, 'ES')"
      ]
     },
     "execution_count": 24,
     "metadata": {},
     "output_type": "execute_result"
    },
    {
     "data": {
      "text/plain": [
       "Text(271.37500000000006, 0.5, 'Euro')"
      ]
     },
     "execution_count": 24,
     "metadata": {},
     "output_type": "execute_result"
    },
    {
     "data": {
      "text/plain": [
       "Text(0.5, 1009.4000000000003, 'ES')"
      ]
     },
     "execution_count": 24,
     "metadata": {},
     "output_type": "execute_result"
    },
    {
     "data": {
      "text/plain": [
       "Text(557.45, 0.5, 'Euro')"
      ]
     },
     "execution_count": 24,
     "metadata": {},
     "output_type": "execute_result"
    },
    {
     "data": {
      "text/plain": [
       "Text(0.5, 1009.4000000000003, 'ES')"
      ]
     },
     "execution_count": 24,
     "metadata": {},
     "output_type": "execute_result"
    },
    {
     "data": {
      "text/plain": [
       "Text(850.0250000000001, 0.5, 'Euro')"
      ]
     },
     "execution_count": 24,
     "metadata": {},
     "output_type": "execute_result"
    },
    {
     "data": {
      "text/plain": [
       "Text(0.5, 1009.4000000000003, 'ES')"
      ]
     },
     "execution_count": 24,
     "metadata": {},
     "output_type": "execute_result"
    },
    {
     "data": {
      "text/plain": [
       "Text(1129.8500000000001, 0.5, 'Euro')"
      ]
     },
     "execution_count": 24,
     "metadata": {},
     "output_type": "execute_result"
    },
    {
     "data": {
      "text/plain": [
       "Text(0.5, 1009.4000000000003, 'ES')"
      ]
     },
     "execution_count": 24,
     "metadata": {},
     "output_type": "execute_result"
    },
    {
     "data": {
      "text/plain": [
       "Text(1414.0500000000002, 0.5, 'Euro')"
      ]
     },
     "execution_count": 24,
     "metadata": {},
     "output_type": "execute_result"
    },
    {
     "data": {
      "text/plain": [
       "Text(0.5, 866.1714285714289, 'GR')"
      ]
     },
     "execution_count": 24,
     "metadata": {},
     "output_type": "execute_result"
    },
    {
     "data": {
      "text/plain": [
       "Text(-14.949999999999982, 0.5, 'Euro')"
      ]
     },
     "execution_count": 24,
     "metadata": {},
     "output_type": "execute_result"
    },
    {
     "data": {
      "text/plain": [
       "Text(0.5, 866.1714285714289, 'GR')"
      ]
     },
     "execution_count": 24,
     "metadata": {},
     "output_type": "execute_result"
    },
    {
     "data": {
      "text/plain": [
       "Text(271.25000000000006, 0.5, 'Euro')"
      ]
     },
     "execution_count": 24,
     "metadata": {},
     "output_type": "execute_result"
    },
    {
     "data": {
      "text/plain": [
       "Text(0.5, 866.1714285714289, 'GR')"
      ]
     },
     "execution_count": 24,
     "metadata": {},
     "output_type": "execute_result"
    },
    {
     "data": {
      "text/plain": [
       "Text(563.825, 0.5, 'Euro')"
      ]
     },
     "execution_count": 24,
     "metadata": {},
     "output_type": "execute_result"
    },
    {
     "data": {
      "text/plain": [
       "Text(0.5, 866.1714285714289, 'GR')"
      ]
     },
     "execution_count": 24,
     "metadata": {},
     "output_type": "execute_result"
    },
    {
     "data": {
      "text/plain": [
       "Text(850.0250000000001, 0.5, 'Euro')"
      ]
     },
     "execution_count": 24,
     "metadata": {},
     "output_type": "execute_result"
    },
    {
     "data": {
      "text/plain": [
       "Text(0.5, 866.1714285714289, 'GR')"
      ]
     },
     "execution_count": 24,
     "metadata": {},
     "output_type": "execute_result"
    },
    {
     "data": {
      "text/plain": [
       "Text(1136.2250000000001, 0.5, 'Euro')"
      ]
     },
     "execution_count": 24,
     "metadata": {},
     "output_type": "execute_result"
    },
    {
     "data": {
      "text/plain": [
       "Text(0.5, 866.1714285714289, 'GR')"
      ]
     },
     "execution_count": 24,
     "metadata": {},
     "output_type": "execute_result"
    },
    {
     "data": {
      "text/plain": [
       "Text(1422.4250000000002, 0.5, 'Euro')"
      ]
     },
     "execution_count": 24,
     "metadata": {},
     "output_type": "execute_result"
    },
    {
     "data": {
      "text/plain": [
       "Text(0.5, 722.9428571428574, 'HU')"
      ]
     },
     "execution_count": 24,
     "metadata": {},
     "output_type": "execute_result"
    },
    {
     "data": {
      "text/plain": [
       "Text(-8.574999999999982, 0.5, 'Euro')"
      ]
     },
     "execution_count": 24,
     "metadata": {},
     "output_type": "execute_result"
    },
    {
     "data": {
      "text/plain": [
       "Text(0.5, 722.9428571428574, 'HU')"
      ]
     },
     "execution_count": 24,
     "metadata": {},
     "output_type": "execute_result"
    },
    {
     "data": {
      "text/plain": [
       "Text(277.62500000000006, 0.5, 'Euro')"
      ]
     },
     "execution_count": 24,
     "metadata": {},
     "output_type": "execute_result"
    },
    {
     "data": {
      "text/plain": [
       "Text(0.5, 722.9428571428574, 'HU')"
      ]
     },
     "execution_count": 24,
     "metadata": {},
     "output_type": "execute_result"
    },
    {
     "data": {
      "text/plain": [
       "Text(563.7, 0.5, 'Euro')"
      ]
     },
     "execution_count": 24,
     "metadata": {},
     "output_type": "execute_result"
    },
    {
     "data": {
      "text/plain": [
       "Text(0.5, 722.9428571428574, 'HU')"
      ]
     },
     "execution_count": 24,
     "metadata": {},
     "output_type": "execute_result"
    },
    {
     "data": {
      "text/plain": [
       "Text(850.0250000000001, 0.5, 'Euro')"
      ]
     },
     "execution_count": 24,
     "metadata": {},
     "output_type": "execute_result"
    },
    {
     "data": {
      "text/plain": [
       "Text(0.5, 722.9428571428574, 'HU')"
      ]
     },
     "execution_count": 24,
     "metadata": {},
     "output_type": "execute_result"
    },
    {
     "data": {
      "text/plain": [
       "Text(1136.2250000000001, 0.5, 'Euro')"
      ]
     },
     "execution_count": 24,
     "metadata": {},
     "output_type": "execute_result"
    },
    {
     "data": {
      "text/plain": [
       "Text(0.5, 722.9428571428574, 'HU')"
      ]
     },
     "execution_count": 24,
     "metadata": {},
     "output_type": "execute_result"
    },
    {
     "data": {
      "text/plain": [
       "Text(1414.0500000000002, 0.5, 'Euro')"
      ]
     },
     "execution_count": 24,
     "metadata": {},
     "output_type": "execute_result"
    },
    {
     "data": {
      "text/plain": [
       "Text(0.5, 579.7142857142859, 'IT')"
      ]
     },
     "execution_count": 24,
     "metadata": {},
     "output_type": "execute_result"
    },
    {
     "data": {
      "text/plain": [
       "Text(22.67500000000002, 0.5, 'Euro')"
      ]
     },
     "execution_count": 24,
     "metadata": {},
     "output_type": "execute_result"
    },
    {
     "data": {
      "text/plain": [
       "Text(0.5, 579.7142857142859, 'IT')"
      ]
     },
     "execution_count": 24,
     "metadata": {},
     "output_type": "execute_result"
    },
    {
     "data": {
      "text/plain": [
       "Text(308.87500000000006, 0.5, 'Euro')"
      ]
     },
     "execution_count": 24,
     "metadata": {},
     "output_type": "execute_result"
    },
    {
     "data": {
      "text/plain": [
       "Text(0.5, 579.7142857142859, 'IT')"
      ]
     },
     "execution_count": 24,
     "metadata": {},
     "output_type": "execute_result"
    },
    {
     "data": {
      "text/plain": [
       "Text(585.575, 0.5, 'Euro')"
      ]
     },
     "execution_count": 24,
     "metadata": {},
     "output_type": "execute_result"
    },
    {
     "data": {
      "text/plain": [
       "Text(0.5, 579.7142857142859, 'IT')"
      ]
     },
     "execution_count": 24,
     "metadata": {},
     "output_type": "execute_result"
    },
    {
     "data": {
      "text/plain": [
       "Text(871.6500000000001, 0.5, 'Euro')"
      ]
     },
     "execution_count": 24,
     "metadata": {},
     "output_type": "execute_result"
    },
    {
     "data": {
      "text/plain": [
       "Text(0.5, 579.7142857142859, 'IT')"
      ]
     },
     "execution_count": 24,
     "metadata": {},
     "output_type": "execute_result"
    },
    {
     "data": {
      "text/plain": [
       "Text(1157.8500000000001, 0.5, 'Euro')"
      ]
     },
     "execution_count": 24,
     "metadata": {},
     "output_type": "execute_result"
    },
    {
     "data": {
      "text/plain": [
       "Text(0.5, 579.7142857142859, 'IT')"
      ]
     },
     "execution_count": 24,
     "metadata": {},
     "output_type": "execute_result"
    },
    {
     "data": {
      "text/plain": [
       "Text(1435.8000000000002, 0.5, 'Euro')"
      ]
     },
     "execution_count": 24,
     "metadata": {},
     "output_type": "execute_result"
    },
    {
     "data": {
      "text/plain": [
       "Text(0.5, 436.4857142857144, 'NL')"
      ]
     },
     "execution_count": 24,
     "metadata": {},
     "output_type": "execute_result"
    },
    {
     "data": {
      "text/plain": [
       "Text(22.67500000000002, 0.5, 'Euro')"
      ]
     },
     "execution_count": 24,
     "metadata": {},
     "output_type": "execute_result"
    },
    {
     "data": {
      "text/plain": [
       "Text(0.5, 436.4857142857144, 'NL')"
      ]
     },
     "execution_count": 24,
     "metadata": {},
     "output_type": "execute_result"
    },
    {
     "data": {
      "text/plain": [
       "Text(308.87500000000006, 0.5, 'Euro')"
      ]
     },
     "execution_count": 24,
     "metadata": {},
     "output_type": "execute_result"
    },
    {
     "data": {
      "text/plain": [
       "Text(0.5, 436.4857142857144, 'NL')"
      ]
     },
     "execution_count": 24,
     "metadata": {},
     "output_type": "execute_result"
    },
    {
     "data": {
      "text/plain": [
       "Text(585.45, 0.5, 'Euro')"
      ]
     },
     "execution_count": 24,
     "metadata": {},
     "output_type": "execute_result"
    },
    {
     "data": {
      "text/plain": [
       "Text(0.5, 436.4857142857144, 'NL')"
      ]
     },
     "execution_count": 24,
     "metadata": {},
     "output_type": "execute_result"
    },
    {
     "data": {
      "text/plain": [
       "Text(871.6500000000001, 0.5, 'Euro')"
      ]
     },
     "execution_count": 24,
     "metadata": {},
     "output_type": "execute_result"
    },
    {
     "data": {
      "text/plain": [
       "Text(0.5, 436.4857142857144, 'NL')"
      ]
     },
     "execution_count": 24,
     "metadata": {},
     "output_type": "execute_result"
    },
    {
     "data": {
      "text/plain": [
       "Text(1157.9750000000001, 0.5, 'Euro')"
      ]
     },
     "execution_count": 24,
     "metadata": {},
     "output_type": "execute_result"
    },
    {
     "data": {
      "text/plain": [
       "Text(0.5, 436.4857142857144, 'NL')"
      ]
     },
     "execution_count": 24,
     "metadata": {},
     "output_type": "execute_result"
    },
    {
     "data": {
      "text/plain": [
       "Text(1416.1750000000002, 0.5, 'Euro')"
      ]
     },
     "execution_count": 24,
     "metadata": {},
     "output_type": "execute_result"
    },
    {
     "data": {
      "text/plain": [
       "Text(0.5, 293.25714285714287, 'PL')"
      ]
     },
     "execution_count": 24,
     "metadata": {},
     "output_type": "execute_result"
    },
    {
     "data": {
      "text/plain": [
       "Text(13.050000000000018, 0.5, 'Euro')"
      ]
     },
     "execution_count": 24,
     "metadata": {},
     "output_type": "execute_result"
    },
    {
     "data": {
      "text/plain": [
       "Text(0.5, 293.25714285714287, 'PL')"
      ]
     },
     "execution_count": 24,
     "metadata": {},
     "output_type": "execute_result"
    },
    {
     "data": {
      "text/plain": [
       "Text(299.25000000000006, 0.5, 'Euro')"
      ]
     },
     "execution_count": 24,
     "metadata": {},
     "output_type": "execute_result"
    },
    {
     "data": {
      "text/plain": [
       "Text(0.5, 293.25714285714287, 'PL')"
      ]
     },
     "execution_count": 24,
     "metadata": {},
     "output_type": "execute_result"
    },
    {
     "data": {
      "text/plain": [
       "Text(557.575, 0.5, 'Euro')"
      ]
     },
     "execution_count": 24,
     "metadata": {},
     "output_type": "execute_result"
    },
    {
     "data": {
      "text/plain": [
       "Text(0.5, 293.25714285714287, 'PL')"
      ]
     },
     "execution_count": 24,
     "metadata": {},
     "output_type": "execute_result"
    },
    {
     "data": {
      "text/plain": [
       "Text(843.7750000000001, 0.5, 'Euro')"
      ]
     },
     "execution_count": 24,
     "metadata": {},
     "output_type": "execute_result"
    },
    {
     "data": {
      "text/plain": [
       "Text(0.5, 293.25714285714287, 'PL')"
      ]
     },
     "execution_count": 24,
     "metadata": {},
     "output_type": "execute_result"
    },
    {
     "data": {
      "text/plain": [
       "Text(1129.9750000000001, 0.5, 'Euro')"
      ]
     },
     "execution_count": 24,
     "metadata": {},
     "output_type": "execute_result"
    },
    {
     "data": {
      "text/plain": [
       "Text(0.5, 293.25714285714287, 'PL')"
      ]
     },
     "execution_count": 24,
     "metadata": {},
     "output_type": "execute_result"
    },
    {
     "data": {
      "text/plain": [
       "Text(1407.8000000000002, 0.5, 'Euro')"
      ]
     },
     "execution_count": 24,
     "metadata": {},
     "output_type": "execute_result"
    },
    {
     "data": {
      "text/plain": [
       "Text(0.5, 150.0285714285714, 'PT')"
      ]
     },
     "execution_count": 24,
     "metadata": {},
     "output_type": "execute_result"
    },
    {
     "data": {
      "text/plain": [
       "Text(-8.574999999999982, 0.5, 'Euro')"
      ]
     },
     "execution_count": 24,
     "metadata": {},
     "output_type": "execute_result"
    },
    {
     "data": {
      "text/plain": [
       "Text(0.5, 150.0285714285714, 'PT')"
      ]
     },
     "execution_count": 24,
     "metadata": {},
     "output_type": "execute_result"
    },
    {
     "data": {
      "text/plain": [
       "Text(277.62500000000006, 0.5, 'Euro')"
      ]
     },
     "execution_count": 24,
     "metadata": {},
     "output_type": "execute_result"
    },
    {
     "data": {
      "text/plain": [
       "Text(0.5, 150.0285714285714, 'PT')"
      ]
     },
     "execution_count": 24,
     "metadata": {},
     "output_type": "execute_result"
    },
    {
     "data": {
      "text/plain": [
       "Text(570.075, 0.5, 'Euro')"
      ]
     },
     "execution_count": 24,
     "metadata": {},
     "output_type": "execute_result"
    },
    {
     "data": {
      "text/plain": [
       "Text(0.5, 150.0285714285714, 'PT')"
      ]
     },
     "execution_count": 24,
     "metadata": {},
     "output_type": "execute_result"
    },
    {
     "data": {
      "text/plain": [
       "Text(849.9000000000001, 0.5, 'Euro')"
      ]
     },
     "execution_count": 24,
     "metadata": {},
     "output_type": "execute_result"
    },
    {
     "data": {
      "text/plain": [
       "Text(0.5, 150.0285714285714, 'PT')"
      ]
     },
     "execution_count": 24,
     "metadata": {},
     "output_type": "execute_result"
    },
    {
     "data": {
      "text/plain": [
       "Text(1136.1000000000001, 0.5, 'Euro')"
      ]
     },
     "execution_count": 24,
     "metadata": {},
     "output_type": "execute_result"
    },
    {
     "data": {
      "text/plain": [
       "Text(0.5, 150.0285714285714, 'PT')"
      ]
     },
     "execution_count": 24,
     "metadata": {},
     "output_type": "execute_result"
    },
    {
     "data": {
      "text/plain": [
       "Text(1422.4250000000002, 0.5, 'Euro')"
      ]
     },
     "execution_count": 24,
     "metadata": {},
     "output_type": "execute_result"
    },
    {
     "data": {
      "text/plain": [
       "Text(0.5, 6.799999999999901, 'RO')"
      ]
     },
     "execution_count": 24,
     "metadata": {},
     "output_type": "execute_result"
    },
    {
     "data": {
      "text/plain": [
       "Text(-14.824999999999982, 0.5, 'Euro')"
      ]
     },
     "execution_count": 24,
     "metadata": {},
     "output_type": "execute_result"
    },
    {
     "data": {
      "text/plain": [
       "Text(0.5, 6.799999999999901, 'RO')"
      ]
     },
     "execution_count": 24,
     "metadata": {},
     "output_type": "execute_result"
    },
    {
     "data": {
      "text/plain": [
       "Text(271.37500000000006, 0.5, 'Euro')"
      ]
     },
     "execution_count": 24,
     "metadata": {},
     "output_type": "execute_result"
    },
    {
     "data": {
      "text/plain": [
       "Text(0.5, 6.799999999999901, 'RO')"
      ]
     },
     "execution_count": 24,
     "metadata": {},
     "output_type": "execute_result"
    },
    {
     "data": {
      "text/plain": [
       "Text(563.825, 0.5, 'Euro')"
      ]
     },
     "execution_count": 24,
     "metadata": {},
     "output_type": "execute_result"
    },
    {
     "data": {
      "text/plain": [
       "Text(0.5, 6.799999999999901, 'RO')"
      ]
     },
     "execution_count": 24,
     "metadata": {},
     "output_type": "execute_result"
    },
    {
     "data": {
      "text/plain": [
       "Text(843.7750000000001, 0.5, 'Euro')"
      ]
     },
     "execution_count": 24,
     "metadata": {},
     "output_type": "execute_result"
    },
    {
     "data": {
      "text/plain": [
       "Text(0.5, 6.799999999999901, 'RO')"
      ]
     },
     "execution_count": 24,
     "metadata": {},
     "output_type": "execute_result"
    },
    {
     "data": {
      "text/plain": [
       "Text(1129.9750000000001, 0.5, 'Euro')"
      ]
     },
     "execution_count": 24,
     "metadata": {},
     "output_type": "execute_result"
    },
    {
     "data": {
      "text/plain": [
       "Text(0.5, 6.799999999999901, 'RO')"
      ]
     },
     "execution_count": 24,
     "metadata": {},
     "output_type": "execute_result"
    },
    {
     "data": {
      "text/plain": [
       "Text(1414.0500000000002, 0.5, 'Euro')"
      ]
     },
     "execution_count": 24,
     "metadata": {},
     "output_type": "execute_result"
    },
    {
     "data": {
      "image/png": "[encoded data removed]",
      "text/plain": [
       "<Figure size 1728x2016 with 84 Axes>"
      ]
     },
     "metadata": {
      "needs_background": "light"
     },
     "output_type": "display_data"
    }
   ],
   "source": [
    "included = (include * 6)\n",
    "included.sort()\n",
    "\n",
    "g = sns.FacetGrid(melt_cv, row=\"country\", col=\"variable\",  hue=\"Period\", palette=\"Set3\", height=2, aspect=2, margin_titles=True, legend_out=False, sharex=False, sharey=False)\n",
    "g.map(sns.barplot, \"Period\", \"value\", order=order, ci=None, label = True)\n",
    "axes = g.axes.flatten()\n",
    "for ax, b  in zip(axes, included):\n",
    "    ax.set_xlabel(b)\n",
    "    ax.set_ylabel(\"Euro\")\n",
    "    \n",
    "g.savefig('KPIs.png', dpi=125)"
   ]
  },
  {
   "cell_type": "code",
   "execution_count": 25,
   "id": "ad6e608b",
   "metadata": {
    "execution": {
     "iopub.execute_input": "2021-06-02T15:31:15.946032Z",
     "iopub.status.busy": "2021-06-02T15:31:15.944033Z",
     "iopub.status.idle": "2021-06-02T15:32:24.544036Z",
     "shell.execute_reply": "2021-06-02T15:32:24.545037Z"
    },
    "papermill": {
     "duration": 69.255932,
     "end_time": "2021-06-02T15:32:24.545037",
     "exception": false,
     "start_time": "2021-06-02T15:31:15.289105",
     "status": "completed"
    },
    "tags": []
   },
   "outputs": [
    {
     "data": {
      "text/plain": [
       "<seaborn.axisgrid.FacetGrid at 0x23045cb0288>"
      ]
     },
     "execution_count": 25,
     "metadata": {},
     "output_type": "execute_result"
    },
    {
     "data": {
      "text/plain": [
       "Text(0.5, 1867.865178571429, 'AT')"
      ]
     },
     "execution_count": 25,
     "metadata": {},
     "output_type": "execute_result"
    },
    {
     "data": {
      "text/plain": [
       "Text(-14.824999999999996, 0.5, 'Euro')"
      ]
     },
     "execution_count": 25,
     "metadata": {},
     "output_type": "execute_result"
    },
    {
     "data": {
      "text/plain": [
       "Text(0.5, 1867.865178571429, 'AT')"
      ]
     },
     "execution_count": 25,
     "metadata": {},
     "output_type": "execute_result"
    },
    {
     "data": {
      "text/plain": [
       "Text(269.57500000000005, 0.5, 'Euro')"
      ]
     },
     "execution_count": 25,
     "metadata": {},
     "output_type": "execute_result"
    },
    {
     "data": {
      "text/plain": [
       "Text(0.5, 1867.865178571429, 'AT')"
      ]
     },
     "execution_count": 25,
     "metadata": {},
     "output_type": "execute_result"
    },
    {
     "data": {
      "text/plain": [
       "Text(553.975, 0.5, 'Euro')"
      ]
     },
     "execution_count": 25,
     "metadata": {},
     "output_type": "execute_result"
    },
    {
     "data": {
      "text/plain": [
       "Text(0.5, 1724.6366071428577, 'AT')"
      ]
     },
     "execution_count": 25,
     "metadata": {},
     "output_type": "execute_result"
    },
    {
     "data": {
      "text/plain": [
       "Text(13.175000000000004, 0.5, 'Euro')"
      ]
     },
     "execution_count": 25,
     "metadata": {},
     "output_type": "execute_result"
    },
    {
     "data": {
      "text/plain": [
       "Text(0.5, 1724.6366071428577, 'AT')"
      ]
     },
     "execution_count": 25,
     "metadata": {},
     "output_type": "execute_result"
    },
    {
     "data": {
      "text/plain": [
       "Text(307.07500000000005, 0.5, 'Euro')"
      ]
     },
     "execution_count": 25,
     "metadata": {},
     "output_type": "execute_result"
    },
    {
     "data": {
      "text/plain": [
       "Text(0.5, 1724.6366071428577, 'AT')"
      ]
     },
     "execution_count": 25,
     "metadata": {},
     "output_type": "execute_result"
    },
    {
     "data": {
      "text/plain": [
       "Text(581.975, 0.5, 'Euro')"
      ]
     },
     "execution_count": 25,
     "metadata": {},
     "output_type": "execute_result"
    },
    {
     "data": {
      "text/plain": [
       "Text(0.5, 1581.408035714286, 'AU')"
      ]
     },
     "execution_count": 25,
     "metadata": {},
     "output_type": "execute_result"
    },
    {
     "data": {
      "text/plain": [
       "Text(-17.074999999999996, 0.5, 'Euro')"
      ]
     },
     "execution_count": 25,
     "metadata": {},
     "output_type": "execute_result"
    },
    {
     "data": {
      "text/plain": [
       "Text(0.5, 1581.408035714286, 'AU')"
      ]
     },
     "execution_count": 25,
     "metadata": {},
     "output_type": "execute_result"
    },
    {
     "data": {
      "text/plain": [
       "Text(267.45000000000005, 0.5, 'Euro')"
      ]
     },
     "execution_count": 25,
     "metadata": {},
     "output_type": "execute_result"
    },
    {
     "data": {
      "text/plain": [
       "Text(0.5, 1582.314285714286, 'AU')"
      ]
     },
     "execution_count": 25,
     "metadata": {},
     "output_type": "execute_result"
    },
    {
     "data": {
      "text/plain": [
       "Text(581.975, 0.5, 'Euro')"
      ]
     },
     "execution_count": 25,
     "metadata": {},
     "output_type": "execute_result"
    },
    {
     "data": {
      "text/plain": [
       "Text(0.5, 1438.1794642857146, 'AU')"
      ]
     },
     "execution_count": 25,
     "metadata": {},
     "output_type": "execute_result"
    },
    {
     "data": {
      "text/plain": [
       "Text(13.175000000000004, 0.5, 'Euro')"
      ]
     },
     "execution_count": 25,
     "metadata": {},
     "output_type": "execute_result"
    },
    {
     "data": {
      "text/plain": [
       "Text(0.5, 1438.1794642857146, 'AU')"
      ]
     },
     "execution_count": 25,
     "metadata": {},
     "output_type": "execute_result"
    },
    {
     "data": {
      "text/plain": [
       "Text(291.20000000000005, 0.5, 'Euro')"
      ]
     },
     "execution_count": 25,
     "metadata": {},
     "output_type": "execute_result"
    },
    {
     "data": {
      "text/plain": [
       "Text(0.5, 1438.1794642857146, 'AU')"
      ]
     },
     "execution_count": 25,
     "metadata": {},
     "output_type": "execute_result"
    },
    {
     "data": {
      "text/plain": [
       "Text(581.975, 0.5, 'Euro')"
      ]
     },
     "execution_count": 25,
     "metadata": {},
     "output_type": "execute_result"
    },
    {
     "data": {
      "text/plain": [
       "Text(0.5, 1294.9508928571431, 'BG')"
      ]
     },
     "execution_count": 25,
     "metadata": {},
     "output_type": "execute_result"
    },
    {
     "data": {
      "text/plain": [
       "Text(22.675000000000004, 0.5, 'Euro')"
      ]
     },
     "execution_count": 25,
     "metadata": {},
     "output_type": "execute_result"
    },
    {
     "data": {
      "text/plain": [
       "Text(0.5, 1294.9508928571431, 'BG')"
      ]
     },
     "execution_count": 25,
     "metadata": {},
     "output_type": "execute_result"
    },
    {
     "data": {
      "text/plain": [
       "Text(307.07500000000005, 0.5, 'Euro')"
      ]
     },
     "execution_count": 25,
     "metadata": {},
     "output_type": "execute_result"
    },
    {
     "data": {
      "text/plain": [
       "Text(0.5, 1294.9508928571431, 'BG')"
      ]
     },
     "execution_count": 25,
     "metadata": {},
     "output_type": "execute_result"
    },
    {
     "data": {
      "text/plain": [
       "Text(591.475, 0.5, 'Euro')"
      ]
     },
     "execution_count": 25,
     "metadata": {},
     "output_type": "execute_result"
    },
    {
     "data": {
      "text/plain": [
       "Text(0.5, 1151.7223214285716, 'BG')"
      ]
     },
     "execution_count": 25,
     "metadata": {},
     "output_type": "execute_result"
    },
    {
     "data": {
      "text/plain": [
       "Text(-8.574999999999996, 0.5, 'Euro')"
      ]
     },
     "execution_count": 25,
     "metadata": {},
     "output_type": "execute_result"
    },
    {
     "data": {
      "text/plain": [
       "Text(0.5, 1151.7223214285716, 'BG')"
      ]
     },
     "execution_count": 25,
     "metadata": {},
     "output_type": "execute_result"
    },
    {
     "data": {
      "text/plain": [
       "Text(288.32500000000005, 0.5, 'Euro')"
      ]
     },
     "execution_count": 25,
     "metadata": {},
     "output_type": "execute_result"
    },
    {
     "data": {
      "text/plain": [
       "Text(0.5, 1152.6285714285716, 'BG')"
      ]
     },
     "execution_count": 25,
     "metadata": {},
     "output_type": "execute_result"
    },
    {
     "data": {
      "text/plain": [
       "Text(581.975, 0.5, 'Euro')"
      ]
     },
     "execution_count": 25,
     "metadata": {},
     "output_type": "execute_result"
    },
    {
     "data": {
      "text/plain": [
       "Text(0.5, 1008.4937500000003, 'CA')"
      ]
     },
     "execution_count": 25,
     "metadata": {},
     "output_type": "execute_result"
    },
    {
     "data": {
      "text/plain": [
       "Text(-8.699999999999996, 0.5, 'Euro')"
      ]
     },
     "execution_count": 25,
     "metadata": {},
     "output_type": "execute_result"
    },
    {
     "data": {
      "text/plain": [
       "Text(0.5, 1008.4937500000003, 'CA')"
      ]
     },
     "execution_count": 25,
     "metadata": {},
     "output_type": "execute_result"
    },
    {
     "data": {
      "text/plain": [
       "Text(269.57500000000005, 0.5, 'Euro')"
      ]
     },
     "execution_count": 25,
     "metadata": {},
     "output_type": "execute_result"
    },
    {
     "data": {
      "text/plain": [
       "Text(0.5, 1008.4937500000003, 'CA')"
      ]
     },
     "execution_count": 25,
     "metadata": {},
     "output_type": "execute_result"
    },
    {
     "data": {
      "text/plain": [
       "Text(553.975, 0.5, 'Euro')"
      ]
     },
     "execution_count": 25,
     "metadata": {},
     "output_type": "execute_result"
    },
    {
     "data": {
      "text/plain": [
       "Text(0.5, 865.2651785714289, 'CA')"
      ]
     },
     "execution_count": 25,
     "metadata": {},
     "output_type": "execute_result"
    },
    {
     "data": {
      "text/plain": [
       "Text(-8.574999999999996, 0.5, 'Euro')"
      ]
     },
     "execution_count": 25,
     "metadata": {},
     "output_type": "execute_result"
    },
    {
     "data": {
      "text/plain": [
       "Text(0.5, 865.2651785714289, 'CA')"
      ]
     },
     "execution_count": 25,
     "metadata": {},
     "output_type": "execute_result"
    },
    {
     "data": {
      "text/plain": [
       "Text(275.82500000000005, 0.5, 'Euro')"
      ]
     },
     "execution_count": 25,
     "metadata": {},
     "output_type": "execute_result"
    },
    {
     "data": {
      "text/plain": [
       "Text(0.5, 865.2651785714289, 'CA')"
      ]
     },
     "execution_count": 25,
     "metadata": {},
     "output_type": "execute_result"
    },
    {
     "data": {
      "text/plain": [
       "Text(553.85, 0.5, 'Euro')"
      ]
     },
     "execution_count": 25,
     "metadata": {},
     "output_type": "execute_result"
    },
    {
     "data": {
      "text/plain": [
       "Text(0.5, 722.0366071428574, 'CH')"
      ]
     },
     "execution_count": 25,
     "metadata": {},
     "output_type": "execute_result"
    },
    {
     "data": {
      "text/plain": [
       "Text(-16.949999999999996, 0.5, 'Euro')"
      ]
     },
     "execution_count": 25,
     "metadata": {},
     "output_type": "execute_result"
    },
    {
     "data": {
      "text/plain": [
       "Text(0.5, 722.0366071428574, 'CH')"
      ]
     },
     "execution_count": 25,
     "metadata": {},
     "output_type": "execute_result"
    },
    {
     "data": {
      "text/plain": [
       "Text(275.82500000000005, 0.5, 'Euro')"
      ]
     },
     "execution_count": 25,
     "metadata": {},
     "output_type": "execute_result"
    },
    {
     "data": {
      "text/plain": [
       "Text(0.5, 722.9428571428574, 'CH')"
      ]
     },
     "execution_count": 25,
     "metadata": {},
     "output_type": "execute_result"
    },
    {
     "data": {
      "text/plain": [
       "Text(581.975, 0.5, 'Euro')"
      ]
     },
     "execution_count": 25,
     "metadata": {},
     "output_type": "execute_result"
    },
    {
     "data": {
      "text/plain": [
       "Text(0.5, 578.8080357142859, 'CH')"
      ]
     },
     "execution_count": 25,
     "metadata": {},
     "output_type": "execute_result"
    },
    {
     "data": {
      "text/plain": [
       "Text(-23.199999999999996, 0.5, 'Euro')"
      ]
     },
     "execution_count": 25,
     "metadata": {},
     "output_type": "execute_result"
    },
    {
     "data": {
      "text/plain": [
       "Text(0.5, 578.8080357142859, 'CH')"
      ]
     },
     "execution_count": 25,
     "metadata": {},
     "output_type": "execute_result"
    },
    {
     "data": {
      "text/plain": [
       "Text(298.70000000000005, 0.5, 'Euro')"
      ]
     },
     "execution_count": 25,
     "metadata": {},
     "output_type": "execute_result"
    },
    {
     "data": {
      "text/plain": [
       "Text(0.5, 578.8080357142859, 'CH')"
      ]
     },
     "execution_count": 25,
     "metadata": {},
     "output_type": "execute_result"
    },
    {
     "data": {
      "text/plain": [
       "Text(591.475, 0.5, 'Euro')"
      ]
     },
     "execution_count": 25,
     "metadata": {},
     "output_type": "execute_result"
    },
    {
     "data": {
      "text/plain": [
       "Text(0.5, 435.5794642857144, 'CZ')"
      ]
     },
     "execution_count": 25,
     "metadata": {},
     "output_type": "execute_result"
    },
    {
     "data": {
      "text/plain": [
       "Text(13.175000000000004, 0.5, 'Euro')"
      ]
     },
     "execution_count": 25,
     "metadata": {},
     "output_type": "execute_result"
    },
    {
     "data": {
      "text/plain": [
       "Text(0.5, 435.5794642857144, 'CZ')"
      ]
     },
     "execution_count": 25,
     "metadata": {},
     "output_type": "execute_result"
    },
    {
     "data": {
      "text/plain": [
       "Text(307.07500000000005, 0.5, 'Euro')"
      ]
     },
     "execution_count": 25,
     "metadata": {},
     "output_type": "execute_result"
    },
    {
     "data": {
      "text/plain": [
       "Text(0.5, 435.5794642857144, 'CZ')"
      ]
     },
     "execution_count": 25,
     "metadata": {},
     "output_type": "execute_result"
    },
    {
     "data": {
      "text/plain": [
       "Text(591.475, 0.5, 'Euro')"
      ]
     },
     "execution_count": 25,
     "metadata": {},
     "output_type": "execute_result"
    },
    {
     "data": {
      "text/plain": [
       "Text(0.5, 292.35089285714287, 'CZ')"
      ]
     },
     "execution_count": 25,
     "metadata": {},
     "output_type": "execute_result"
    },
    {
     "data": {
      "text/plain": [
       "Text(-14.824999999999996, 0.5, 'Euro')"
      ]
     },
     "execution_count": 25,
     "metadata": {},
     "output_type": "execute_result"
    },
    {
     "data": {
      "text/plain": [
       "Text(0.5, 292.35089285714287, 'CZ')"
      ]
     },
     "execution_count": 25,
     "metadata": {},
     "output_type": "execute_result"
    },
    {
     "data": {
      "text/plain": [
       "Text(297.45000000000005, 0.5, 'Euro')"
      ]
     },
     "execution_count": 25,
     "metadata": {},
     "output_type": "execute_result"
    },
    {
     "data": {
      "text/plain": [
       "Text(0.5, 292.35089285714287, 'CZ')"
      ]
     },
     "execution_count": 25,
     "metadata": {},
     "output_type": "execute_result"
    },
    {
     "data": {
      "text/plain": [
       "Text(553.975, 0.5, 'Euro')"
      ]
     },
     "execution_count": 25,
     "metadata": {},
     "output_type": "execute_result"
    },
    {
     "data": {
      "text/plain": [
       "Text(0.5, 149.1223214285714, 'ES')"
      ]
     },
     "execution_count": 25,
     "metadata": {},
     "output_type": "execute_result"
    },
    {
     "data": {
      "text/plain": [
       "Text(-2.3249999999999957, 0.5, 'Euro')"
      ]
     },
     "execution_count": 25,
     "metadata": {},
     "output_type": "execute_result"
    },
    {
     "data": {
      "text/plain": [
       "Text(0.5, 149.1223214285714, 'ES')"
      ]
     },
     "execution_count": 25,
     "metadata": {},
     "output_type": "execute_result"
    },
    {
     "data": {
      "text/plain": [
       "Text(275.82500000000005, 0.5, 'Euro')"
      ]
     },
     "execution_count": 25,
     "metadata": {},
     "output_type": "execute_result"
    },
    {
     "data": {
      "text/plain": [
       "Text(0.5, 149.1223214285714, 'ES')"
      ]
     },
     "execution_count": 25,
     "metadata": {},
     "output_type": "execute_result"
    },
    {
     "data": {
      "text/plain": [
       "Text(560.1, 0.5, 'Euro')"
      ]
     },
     "execution_count": 25,
     "metadata": {},
     "output_type": "execute_result"
    },
    {
     "data": {
      "text/plain": [
       "Text(0.5, 5.893749999999901, 'ES')"
      ]
     },
     "execution_count": 25,
     "metadata": {},
     "output_type": "execute_result"
    },
    {
     "data": {
      "text/plain": [
       "Text(-14.824999999999996, 0.5, 'Euro')"
      ]
     },
     "execution_count": 25,
     "metadata": {},
     "output_type": "execute_result"
    },
    {
     "data": {
      "text/plain": [
       "Text(0.5, 5.893749999999901, 'ES')"
      ]
     },
     "execution_count": 25,
     "metadata": {},
     "output_type": "execute_result"
    },
    {
     "data": {
      "text/plain": [
       "Text(269.57500000000005, 0.5, 'Euro')"
      ]
     },
     "execution_count": 25,
     "metadata": {},
     "output_type": "execute_result"
    },
    {
     "data": {
      "text/plain": [
       "Text(0.5, 6.799999999999901, 'ES')"
      ]
     },
     "execution_count": 25,
     "metadata": {},
     "output_type": "execute_result"
    },
    {
     "data": {
      "text/plain": [
       "Text(581.975, 0.5, 'Euro')"
      ]
     },
     "execution_count": 25,
     "metadata": {},
     "output_type": "execute_result"
    },
    {
     "data": {
      "image/png": "[encoded data removed]",
      "text/plain": [
       "<Figure size 864x2016 with 42 Axes>"
      ]
     },
     "metadata": {
      "needs_background": "light"
     },
     "output_type": "display_data"
    }
   ],
   "source": [
    "order = melt_cv.variable.unique()\n",
    "\n",
    "\n",
    "included = (include * 6)\n",
    "included.sort()\n",
    "\n",
    "g = sns.FacetGrid(melt_cv, row=\"country\", col= \"Period\" , hue= \"variable\",  palette=\"Set3\", height=2, aspect=2, margin_titles=True, legend_out=False, sharex=False, sharey=False)\n",
    "g.map(sns.barplot, \"variable\", \"value\", order=order, ci=None, label = True)\n",
    "axes = g.axes.flatten()\n",
    "for ax, b  in zip(axes, included):\n",
    "    ax.set_xlabel(b)\n",
    "    ax.set_ylabel(\"Euro\")\n",
    "    \n",
    "g.savefig('KPIs_vw2.png', dpi=200)"
   ]
  },
  {
   "cell_type": "code",
   "execution_count": null,
   "id": "036a1bc3",
   "metadata": {
    "papermill": {
     "duration": 2.616406,
     "end_time": "2021-06-02T15:32:29.007931",
     "exception": false,
     "start_time": "2021-06-02T15:32:26.391525",
     "status": "completed"
    },
    "tags": []
   },
   "outputs": [],
   "source": []
  }
 ],
 "metadata": {
  "celltoolbar": "Tags",
  "kernelspec": {
   "display_name": "Python 3",
   "language": "python",
   "name": "python3"
  },
  "language_info": {
   "codemirror_mode": {
    "name": "ipython",
    "version": 3
   },
   "file_extension": ".py",
   "mimetype": "text/x-python",
   "name": "python",
   "nbconvert_exporter": "python",
   "pygments_lexer": "ipython3",
   "version": "3.7.6"
  },
  "papermill": {
   "default_parameters": {},
   "duration": 289.543045,
   "end_time": "2021-06-02T15:32:34.071288",
   "environment_variables": {},
   "exception": null,
   "input_path": "reporting/Audit Report.ipynb",
   "output_path": "//hecate/Insurance_US/Product Development/Product Management/Global PPM/Reporting/Data Collection/Pipeline Reporting Scripts/GPMpipeline/instances/2021.Q1\\reporting\\Audit Report06022021112108--live, add AT.ipynb",
   "parameters": {
    "commit_message": "Live run, added AT, bad file name, rerun.",
    "inst_datetime": "06022021112108",
    "percode": "2021.Q1",
    "run_control": 1
   },
   "start_time": "2021-06-02T15:27:44.528243",
   "version": "2.3.3"
  }
 },
 "nbformat": 4,
 "nbformat_minor": 5
}