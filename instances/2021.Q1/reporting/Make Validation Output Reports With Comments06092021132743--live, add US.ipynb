{
 "cells": [
  {
   "cell_type": "markdown",
   "id": "c8943cec",
   "metadata": {
    "papermill": {
     "duration": 0.44037,
     "end_time": "2021-06-09T17:51:51.332454",
     "exception": false,
     "start_time": "2021-06-09T17:51:50.892084",
     "status": "completed"
    },
    "tags": []
   },
   "source": [
    "<img src=\"../images/AzPTravel_PPM.png\">"
   ]
  },
  {
   "cell_type": "markdown",
   "id": "c0132411",
   "metadata": {
    "papermill": {
     "duration": 0.410511,
     "end_time": "2021-06-09T17:51:52.129464",
     "exception": false,
     "start_time": "2021-06-09T17:51:51.718953",
     "status": "completed"
    },
    "tags": []
   },
   "source": [
    "## Validation Report Creation Script\n",
    "\n",
    "#### This script reads the output of the \"us_vdf*\" and \"us_vcomments*\" data files and summarizes  them into a report: Validations Review _{BU}.xlsx\n",
    "\n",
    "#### When finished, it will be able to be run on its own or as part of the pipeline wherever called (ie from a papermill script or other user inteface).\n"
   ]
  },
  {
   "cell_type": "markdown",
   "id": "a369870e",
   "metadata": {
    "papermill": {
     "duration": 0.463274,
     "end_time": "2021-06-09T17:51:52.912476",
     "exception": false,
     "start_time": "2021-06-09T17:51:52.449202",
     "status": "completed"
    },
    "tags": []
   },
   "source": [
    "### User Variables\n",
    "- These are overwritten if inherited from run_control.ipynb.\n",
    "- Feel Free to reset them for a manual run if you like\n",
    "- Do not save without percode = \"-f\""
   ]
  },
  {
   "cell_type": "code",
   "execution_count": 1,
   "id": "5e5533dc",
   "metadata": {
    "execution": {
     "iopub.execute_input": "2021-06-09T17:51:54.403340Z",
     "iopub.status.busy": "2021-06-09T17:51:54.388356Z",
     "iopub.status.idle": "2021-06-09T17:51:54.408339Z",
     "shell.execute_reply": "2021-06-09T17:51:54.474334Z"
    },
    "papermill": {
     "duration": 0.62207,
     "end_time": "2021-06-09T17:51:54.475331",
     "exception": false,
     "start_time": "2021-06-09T17:51:53.853261",
     "status": "completed"
    },
    "tags": [
     "parameters"
    ]
   },
   "outputs": [],
   "source": [
    "commit_message = \"Development and testing.\"\n",
    "# Give a brief reason for the run.\n",
    "\n",
    "run_control = 1\n",
    "#run_type = 0 - Lite run with no reporting, not recommended.\n",
    "#run_type = 1 - Lite run with normal reporting, default setting.\n",
    "#run_type = 2 - Heavy run with full reporting, available for audits and troubleshooting.\n",
    "#run_type = 5 - A default setting. Indicates the script is being run by an outside process without an inherited value\n",
    "\n",
    "percode = \"2021.Q1\"\n",
    "# Data Collection Code, this controls file paths and output names\n",
    "# \"-f\" is the value indicating a bad inheritance from run with arg\n",
    "\n",
    "s_format = \"p\"\n",
    "# denotes the source data format x == Excel; j == json, p == parquet\n",
    "\n",
    "#----------\n",
    "# do not edit - this either inherits the full instance timestamp from the papermill book or captures the run time of this script.\n",
    "from datetime import datetime  # datetime options\n",
    "inst_datetime = datetime.now().strftime(\"%m%d%Y%H%M%S\")"
   ]
  },
  {
   "cell_type": "code",
   "execution_count": 2,
   "id": "0c2ee246",
   "metadata": {
    "execution": {
     "iopub.execute_input": "2021-06-09T17:51:55.216036Z",
     "iopub.status.busy": "2021-06-09T17:51:55.211032Z",
     "iopub.status.idle": "2021-06-09T17:51:55.224026Z",
     "shell.execute_reply": "2021-06-09T17:51:55.226030Z"
    },
    "papermill": {
     "duration": 0.370168,
     "end_time": "2021-06-09T17:51:55.227038",
     "exception": false,
     "start_time": "2021-06-09T17:51:54.856870",
     "status": "completed"
    },
    "tags": [
     "injected-parameters"
    ]
   },
   "outputs": [],
   "source": [
    "# Parameters\n",
    "run_control = 1\n",
    "percode = \"2021.Q1\"\n",
    "commit_message = \"Live run,Late additions EI, CH, PTupdate, and DE.\"\n",
    "inst_datetime = \"06092021132743\"\n"
   ]
  },
  {
   "cell_type": "markdown",
   "id": "ae9818f6",
   "metadata": {
    "papermill": {
     "duration": 0.418124,
     "end_time": "2021-06-09T17:51:56.023803",
     "exception": false,
     "start_time": "2021-06-09T17:51:55.605679",
     "status": "completed"
    },
    "tags": []
   },
   "source": [
    "#### Notebook display options"
   ]
  },
  {
   "cell_type": "code",
   "execution_count": 3,
   "id": "4b8bb41d",
   "metadata": {
    "execution": {
     "iopub.execute_input": "2021-06-09T17:51:56.832506Z",
     "iopub.status.busy": "2021-06-09T17:51:56.832506Z",
     "iopub.status.idle": "2021-06-09T17:51:56.848130Z",
     "shell.execute_reply": "2021-06-09T17:51:56.848130Z"
    },
    "papermill": {
     "duration": 0.353359,
     "end_time": "2021-06-09T17:51:56.848130",
     "exception": false,
     "start_time": "2021-06-09T17:51:56.494771",
     "status": "completed"
    },
    "tags": []
   },
   "outputs": [],
   "source": [
    "from IPython.core.interactiveshell import InteractiveShell\n",
    "InteractiveShell.ast_node_interactivity = \"all\""
   ]
  },
  {
   "cell_type": "markdown",
   "id": "f0090e68",
   "metadata": {
    "papermill": {
     "duration": 0.430046,
     "end_time": "2021-06-09T17:51:57.739791",
     "exception": false,
     "start_time": "2021-06-09T17:51:57.309745",
     "status": "completed"
    },
    "tags": []
   },
   "source": [
    "#### import packages"
   ]
  },
  {
   "cell_type": "code",
   "execution_count": 4,
   "id": "2ff8db83",
   "metadata": {
    "execution": {
     "iopub.execute_input": "2021-06-09T17:51:58.730268Z",
     "iopub.status.busy": "2021-06-09T17:51:58.725263Z",
     "iopub.status.idle": "2021-06-09T17:52:12.790808Z",
     "shell.execute_reply": "2021-06-09T17:52:12.791799Z"
    },
    "papermill": {
     "duration": 14.481815,
     "end_time": "2021-06-09T17:52:12.791799",
     "exception": false,
     "start_time": "2021-06-09T17:51:58.309984",
     "status": "completed"
    },
    "tags": []
   },
   "outputs": [],
   "source": [
    "#### Packages used\n",
    "\n",
    "import os # System commands\n",
    "import sys # System commands\n",
    "\n",
    "import warnings # custom warnigns options\n",
    "\n",
    "import glob # Directory operations\n",
    "import getpass # Work with parquet\n",
    "import json # Work with json\n",
    "\n",
    "import matplotlib.pyplot as plt #Plots and Graphs\n",
    "import numpy as np # Series and math\n",
    "import pandas as pd #DataFrame and math\n",
    "\n",
    "#excel operations\n",
    "import re\n",
    "import nicexcel as nl # Excel operations\n",
    "import xlsxwriter # Excel operations\n",
    "import openpyxl # Excel operations\n"
   ]
  },
  {
   "cell_type": "markdown",
   "id": "ceadaefb",
   "metadata": {
    "papermill": {
     "duration": 0.378325,
     "end_time": "2021-06-09T17:52:13.621691",
     "exception": false,
     "start_time": "2021-06-09T17:52:13.243366",
     "status": "completed"
    },
    "tags": []
   },
   "source": [
    "#### Default Variables, these govern logic, do not edit."
   ]
  },
  {
   "cell_type": "code",
   "execution_count": 5,
   "id": "bb01410f",
   "metadata": {
    "execution": {
     "iopub.execute_input": "2021-06-09T17:52:14.412179Z",
     "iopub.status.busy": "2021-06-09T17:52:14.410100Z",
     "iopub.status.idle": "2021-06-09T17:52:14.438013Z",
     "shell.execute_reply": "2021-06-09T17:52:14.438013Z"
    },
    "papermill": {
     "duration": 0.433824,
     "end_time": "2021-06-09T17:52:14.440150",
     "exception": false,
     "start_time": "2021-06-09T17:52:14.006326",
     "status": "completed"
    },
    "tags": []
   },
   "outputs": [],
   "source": [
    "default_dc = \"20XX.QX\"\n",
    "default_rc = 0 #extra lite mode\n",
    "dummy_perc = \"33Q3\" # bad inheritance"
   ]
  },
  {
   "cell_type": "markdown",
   "id": "6d2073ea",
   "metadata": {
    "papermill": {
     "duration": 0.334952,
     "end_time": "2021-06-09T17:52:15.133784",
     "exception": false,
     "start_time": "2021-06-09T17:52:14.798832",
     "status": "completed"
    },
    "tags": []
   },
   "source": [
    "#### Script determining run context ie, manual, run_control.ipynb, or other."
   ]
  },
  {
   "cell_type": "code",
   "execution_count": 6,
   "id": "9ec59749",
   "metadata": {
    "execution": {
     "iopub.execute_input": "2021-06-09T17:52:15.971561Z",
     "iopub.status.busy": "2021-06-09T17:52:15.970550Z",
     "iopub.status.idle": "2021-06-09T17:52:15.971561Z",
     "shell.execute_reply": "2021-06-09T17:52:15.971561Z"
    },
    "papermill": {
     "duration": 0.356666,
     "end_time": "2021-06-09T17:52:15.971561",
     "exception": false,
     "start_time": "2021-06-09T17:52:15.614895",
     "status": "completed"
    },
    "tags": []
   },
   "outputs": [],
   "source": [
    "if run_control == 5:\n",
    "    run_control = default_rc \n",
    "else:\n",
    "    run_control = run_control\n",
    "\n",
    "try:\n",
    "    if sys.argv[1] == \"-f\":\n",
    "        percode = percode\n",
    "    else:\n",
    "        percode = sys.argv[1]\n",
    "\n",
    "except IndexError:\n",
    "    percode = default_dc\n",
    "except NameError:\n",
    "    percode = default_dc\n"
   ]
  },
  {
   "cell_type": "markdown",
   "id": "448b7849",
   "metadata": {
    "papermill": {
     "duration": 0.418216,
     "end_time": "2021-06-09T17:52:16.755539",
     "exception": false,
     "start_time": "2021-06-09T17:52:16.337323",
     "status": "completed"
    },
    "tags": []
   },
   "source": [
    "#### style settings"
   ]
  },
  {
   "cell_type": "code",
   "execution_count": 7,
   "id": "7d3734e7",
   "metadata": {
    "execution": {
     "iopub.execute_input": "2021-06-09T17:52:17.877452Z",
     "iopub.status.busy": "2021-06-09T17:52:17.877452Z",
     "iopub.status.idle": "2021-06-09T17:52:17.893249Z",
     "shell.execute_reply": "2021-06-09T17:52:17.893249Z"
    },
    "papermill": {
     "duration": 0.55834,
     "end_time": "2021-06-09T17:52:17.893249",
     "exception": false,
     "start_time": "2021-06-09T17:52:17.334909",
     "status": "completed"
    },
    "tags": []
   },
   "outputs": [],
   "source": [
    "from IPython.core.interactiveshell import InteractiveShell\n",
    "InteractiveShell.ast_node_interactivity = \"all\""
   ]
  },
  {
   "cell_type": "markdown",
   "id": "e74e37fd",
   "metadata": {
    "papermill": {
     "duration": 0.516796,
     "end_time": "2021-06-09T17:52:18.841730",
     "exception": false,
     "start_time": "2021-06-09T17:52:18.324934",
     "status": "completed"
    },
    "tags": []
   },
   "source": [
    "\n",
    "## Begin Input Read\n",
    "- Make paths used in script\n",
    "- all paths should be modular and easily replaced ahead of operations."
   ]
  },
  {
   "cell_type": "code",
   "execution_count": 8,
   "id": "8f6a8355",
   "metadata": {
    "execution": {
     "iopub.execute_input": "2021-06-09T17:52:19.881575Z",
     "iopub.status.busy": "2021-06-09T17:52:19.866055Z",
     "iopub.status.idle": "2021-06-09T17:52:19.897222Z",
     "shell.execute_reply": "2021-06-09T17:52:19.912846Z"
    },
    "papermill": {
     "duration": 0.564561,
     "end_time": "2021-06-09T17:52:19.912846",
     "exception": false,
     "start_time": "2021-06-09T17:52:19.348285",
     "status": "completed"
    },
    "tags": []
   },
   "outputs": [],
   "source": [
    "#root directory\n",
    "rt_path = f'//hecate/Insurance_US/Product Development/Product Management/Global PPM/Reporting/Data Collection/Production/{str(percode)}'\n",
    "#live sources directory\n",
    "ls_path = os.path.join( rt_path, 'live_sources')\n",
    "#report ouput dir\n",
    "rep_path = os.path.abspath(os.path.join(rt_path, '..','..',f\"{percode}\", 'Validation Reports'))\n",
    "#report ouput archive dir\n",
    "rep_arch_path = os.path.abspath(os.path.join(rep_path, '..','..',f\"{percode}\",  'Archive'))\n",
    "#Pipeline Script folder ouput dir\n",
    "script_path = os.path.abspath(os.path.join(rt_path, '..','..','Pipeline Reporting Scripts','GPMpipeline', 'shortcuts'     ))\n",
    "\n"
   ]
  },
  {
   "cell_type": "markdown",
   "id": "b3b88d9f",
   "metadata": {
    "papermill": {
     "duration": 0.449557,
     "end_time": "2021-06-09T17:52:20.848597",
     "exception": false,
     "start_time": "2021-06-09T17:52:20.399040",
     "status": "completed"
    },
    "tags": []
   },
   "source": [
    "#### Make sources used in script\n",
    "- all sources should be modular and easily replaced ahead of operations."
   ]
  },
  {
   "cell_type": "code",
   "execution_count": 9,
   "id": "e952b5d1",
   "metadata": {
    "execution": {
     "iopub.execute_input": "2021-06-09T17:52:21.761397Z",
     "iopub.status.busy": "2021-06-09T17:52:21.761397Z",
     "iopub.status.idle": "2021-06-09T17:52:21.777020Z",
     "shell.execute_reply": "2021-06-09T17:52:21.777020Z"
    },
    "papermill": {
     "duration": 0.444894,
     "end_time": "2021-06-09T17:52:21.777020",
     "exception": false,
     "start_time": "2021-06-09T17:52:21.332126",
     "status": "completed"
    },
    "tags": []
   },
   "outputs": [],
   "source": [
    "rep_xls = os.path.join(rep_path ,\"Validations Review_xx.xlsx\"   )"
   ]
  },
  {
   "cell_type": "markdown",
   "id": "7804241e",
   "metadata": {
    "papermill": {
     "duration": 0.376977,
     "end_time": "2021-06-09T17:52:22.603229",
     "exception": false,
     "start_time": "2021-06-09T17:52:22.226252",
     "status": "completed"
    },
    "tags": []
   },
   "source": [
    "#### Get a list of only source files in the path that start with \"us_dat\".\n",
    "#### Logic determines the source file types.\n",
    "\n",
    "#### User instructions:\n",
    "- Make sure that you have 1 file per source in this folder.\n",
    "    -  For instance, do not have two files for Portugal. If there is an update, archive the old one.\n",
    "- Do not overwrite files in the archive.\n",
    "    - Rename newly archived files, no strict convention, we keep track of these by the modified date.\n",
    "- It is ok to have multiple sources in one file."
   ]
  },
  {
   "cell_type": "code",
   "execution_count": 10,
   "id": "ae34157e",
   "metadata": {
    "execution": {
     "iopub.execute_input": "2021-06-09T17:52:23.489132Z",
     "iopub.status.busy": "2021-06-09T17:52:23.489132Z",
     "iopub.status.idle": "2021-06-09T17:52:23.636143Z",
     "shell.execute_reply": "2021-06-09T17:52:23.636143Z"
    },
    "papermill": {
     "duration": 0.638968,
     "end_time": "2021-06-09T17:52:23.636143",
     "exception": false,
     "start_time": "2021-06-09T17:52:22.997175",
     "status": "completed"
    },
    "tags": []
   },
   "outputs": [
    {
     "data": {
      "text/plain": [
       "['us_dat_at_+te_q1_2021_at.parquet',\n",
       " 'us_dat_au_05142021143612.parquet',\n",
       " 'us_dat_ca_05202021134242.parquet',\n",
       " 'us_dat_ch_06042021132400.parquet',\n",
       " 'us_dat_cz_05262021090243.parquet',\n",
       " 'us_dat_de_06082021183744.parquet',\n",
       " 'us_dat_es_05202021105141.parquet',\n",
       " 'us_dat_gr_05252021115404.parquet',\n",
       " 'us_dat_it_05242021111520.parquet',\n",
       " 'us_dat_nl_05272021163120.parquet',\n",
       " 'us_dat_pl_05262021084450.parquet',\n",
       " 'us_dat_pt_05202021121056.parquet',\n",
       " 'us_dat_us_06022021145526.parquet',\n",
       " 'us_orig_au_05142021143611.json',\n",
       " 'us_survey_au_02172021174808.parquet',\n",
       " 'us_survey_au_05142021143750.parquet',\n",
       " 'us_survey_ca_05202021135610.parquet',\n",
       " 'us_survey_ch_06042021133025.parquet',\n",
       " 'us_survey_cz_05262021090440.parquet',\n",
       " 'us_survey_de_06082021184229.parquet',\n",
       " 'us_survey_es_05202021105431.parquet',\n",
       " 'us_survey_gr_05252021115827.parquet',\n",
       " 'us_survey_it_05242021111759.parquet',\n",
       " 'us_survey_nl_05272021163630.parquet',\n",
       " 'us_survey_pl_05262021084708.parquet',\n",
       " 'us_survey_pt_05202021121304.parquet',\n",
       " 'us_vcomments_at_06022021144027.parquet',\n",
       " 'us_vcomments_au_02172021174434.parquet',\n",
       " 'us_vcomments_au_02172021174440.parquet',\n",
       " 'us_vcomments_au_05142021143612.parquet',\n",
       " 'us_vcomments_au_05142021143617.parquet',\n",
       " 'us_vcomments_au_mnual_creation.parquet',\n",
       " 'us_vcomments_ca_05202021134242.parquet',\n",
       " 'us_vcomments_ch_06042021132400.parquet',\n",
       " 'us_vcomments_cz_05242021103837.parquet',\n",
       " 'us_vcomments_cz_05262021090243.parquet',\n",
       " 'us_vcomments_de_06082021183744.parquet',\n",
       " 'us_vcomments_es_05202021105141.parquet',\n",
       " 'us_vcomments_es_05202021105142.parquet',\n",
       " 'us_vcomments_gr_05252021115404.parquet',\n",
       " 'us_vcomments_it_05242021111521.parquet',\n",
       " 'us_vcomments_nl_05272021163120.parquet',\n",
       " 'us_vcomments_pl_05262021084450.parquet',\n",
       " 'us_vcomments_pt_05202021121056.parquet',\n",
       " 'us_vcomments_us_06022021145526.parquet',\n",
       " 'us_vdf_at_06022021144027.json',\n",
       " 'us_vdf_au_man42021143613.json',\n",
       " 'us_vdf_ca_05202021134242.json',\n",
       " 'us_vdf_ch_06042021132400.json',\n",
       " 'us_vdf_cz_05242021103837.json',\n",
       " 'us_vdf_cz_05262021090243.json',\n",
       " 'us_vdf_de_06082021183744.json',\n",
       " 'us_vdf_es_05202021105142.json',\n",
       " 'us_vdf_gr_05252021115404.json',\n",
       " 'us_vdf_it_05242021111521.json',\n",
       " 'us_vdf_nl_05272021163120.json',\n",
       " 'us_vdf_pl_05262021084450.json',\n",
       " 'us_vdf_pt_05202021121056.json',\n",
       " 'us_vdf_us_06022021145526.json']"
      ]
     },
     "execution_count": 10,
     "metadata": {},
     "output_type": "execute_result"
    }
   ],
   "source": [
    "files = os.listdir(ls_path)\n",
    "files = [files.lower() for files in files]\n",
    "\n",
    "files_sour = [f for f in files if f[-5:]  == '.json' or  f[-8:] == '.parquet' and f[:7] != 'us_orig']\n",
    "\n",
    "files_sour"
   ]
  },
  {
   "cell_type": "markdown",
   "id": "c34545dd",
   "metadata": {
    "papermill": {
     "duration": 0.540431,
     "end_time": "2021-06-09T17:52:24.561502",
     "exception": false,
     "start_time": "2021-06-09T17:52:24.021071",
     "status": "completed"
    },
    "tags": []
   },
   "source": [
    "#### Make a list of BUs that have comments available"
   ]
  },
  {
   "cell_type": "code",
   "execution_count": 11,
   "id": "b76eebdf",
   "metadata": {
    "execution": {
     "iopub.execute_input": "2021-06-09T17:52:25.393021Z",
     "iopub.status.busy": "2021-06-09T17:52:25.393021Z",
     "iopub.status.idle": "2021-06-09T17:52:25.415823Z",
     "shell.execute_reply": "2021-06-09T17:52:25.417828Z"
    },
    "papermill": {
     "duration": 0.465828,
     "end_time": "2021-06-09T17:52:25.417828",
     "exception": false,
     "start_time": "2021-06-09T17:52:24.952000",
     "status": "completed"
    },
    "tags": []
   },
   "outputs": [
    {
     "data": {
      "text/plain": [
       "['//hecate/Insurance_US/Product Development/Product Management/Global PPM/Reporting/Data Collection/Production/2021.Q1\\\\live_sources\\\\us_vcomments_AT_06022021144027.parquet',\n",
       " '//hecate/Insurance_US/Product Development/Product Management/Global PPM/Reporting/Data Collection/Production/2021.Q1\\\\live_sources\\\\us_vcomments_AU_02172021174434.parquet',\n",
       " '//hecate/Insurance_US/Product Development/Product Management/Global PPM/Reporting/Data Collection/Production/2021.Q1\\\\live_sources\\\\us_vcomments_AU_02172021174440.parquet',\n",
       " '//hecate/Insurance_US/Product Development/Product Management/Global PPM/Reporting/Data Collection/Production/2021.Q1\\\\live_sources\\\\us_vcomments_AU_05142021143612.parquet',\n",
       " '//hecate/Insurance_US/Product Development/Product Management/Global PPM/Reporting/Data Collection/Production/2021.Q1\\\\live_sources\\\\us_vcomments_AU_05142021143617.parquet',\n",
       " '//hecate/Insurance_US/Product Development/Product Management/Global PPM/Reporting/Data Collection/Production/2021.Q1\\\\live_sources\\\\us_vcomments_AU_mnual_creation.parquet',\n",
       " '//hecate/Insurance_US/Product Development/Product Management/Global PPM/Reporting/Data Collection/Production/2021.Q1\\\\live_sources\\\\us_vcomments_CA_05202021134242.parquet',\n",
       " '//hecate/Insurance_US/Product Development/Product Management/Global PPM/Reporting/Data Collection/Production/2021.Q1\\\\live_sources\\\\us_vcomments_CH_06042021132400.parquet',\n",
       " '//hecate/Insurance_US/Product Development/Product Management/Global PPM/Reporting/Data Collection/Production/2021.Q1\\\\live_sources\\\\us_vcomments_CZ_05242021103837.parquet',\n",
       " '//hecate/Insurance_US/Product Development/Product Management/Global PPM/Reporting/Data Collection/Production/2021.Q1\\\\live_sources\\\\us_vcomments_CZ_05262021090243.parquet',\n",
       " '//hecate/Insurance_US/Product Development/Product Management/Global PPM/Reporting/Data Collection/Production/2021.Q1\\\\live_sources\\\\us_vcomments_DE_06082021183744.parquet',\n",
       " '//hecate/Insurance_US/Product Development/Product Management/Global PPM/Reporting/Data Collection/Production/2021.Q1\\\\live_sources\\\\us_vcomments_ES_05202021105141.parquet',\n",
       " '//hecate/Insurance_US/Product Development/Product Management/Global PPM/Reporting/Data Collection/Production/2021.Q1\\\\live_sources\\\\us_vcomments_ES_05202021105142.parquet',\n",
       " '//hecate/Insurance_US/Product Development/Product Management/Global PPM/Reporting/Data Collection/Production/2021.Q1\\\\live_sources\\\\us_vcomments_GR_05252021115404.parquet',\n",
       " '//hecate/Insurance_US/Product Development/Product Management/Global PPM/Reporting/Data Collection/Production/2021.Q1\\\\live_sources\\\\us_vcomments_IT_05242021111521.parquet',\n",
       " '//hecate/Insurance_US/Product Development/Product Management/Global PPM/Reporting/Data Collection/Production/2021.Q1\\\\live_sources\\\\us_vcomments_NL_05272021163120.parquet',\n",
       " '//hecate/Insurance_US/Product Development/Product Management/Global PPM/Reporting/Data Collection/Production/2021.Q1\\\\live_sources\\\\us_vcomments_PL_05262021084450.parquet',\n",
       " '//hecate/Insurance_US/Product Development/Product Management/Global PPM/Reporting/Data Collection/Production/2021.Q1\\\\live_sources\\\\us_vcomments_PT_05202021121056.parquet',\n",
       " '//hecate/Insurance_US/Product Development/Product Management/Global PPM/Reporting/Data Collection/Production/2021.Q1\\\\live_sources\\\\us_vcomments_US_06022021145526.parquet']"
      ]
     },
     "execution_count": 11,
     "metadata": {},
     "output_type": "execute_result"
    }
   ],
   "source": [
    "list_jfiles = glob.glob(os.path.join(ls_path, 'us_vcomments_*.json'))\n",
    "list_pfiles = glob.glob(os.path.join(ls_path, 'us_vcomments_*.parquet'))\n",
    "\n",
    "list_files = []\n",
    "    \n",
    "for i in list_jfiles : list_files.append(i)    \n",
    "for i in list_pfiles : list_files.append(i)\n",
    "\n",
    "\n",
    "for idx, i in enumerate(list_jfiles):\n",
    "    list_jfiles[idx] = list_jfiles[idx][-23:-19]\n",
    "    list_jfiles[idx] = list_jfiles[idx].replace('_','')\n",
    "\n",
    "for idx, i in enumerate(list_pfiles):\n",
    "    list_pfiles[idx] = list_pfiles[idx][-26:-22]\n",
    "    list_pfiles[idx] = list_pfiles[idx].replace('_','')\n",
    "\n",
    "list_bus = []\n",
    "    \n",
    "for i in list_jfiles : list_bus.append(i)    \n",
    "for i in list_pfiles : list_bus.append(i)\n",
    "\n",
    "\n",
    "BU_set = set(list_bus)\n",
    "BU_list = list(BU_set)\n",
    "\n",
    "list_files\n"
   ]
  },
  {
   "cell_type": "code",
   "execution_count": 12,
   "id": "be92604a",
   "metadata": {
    "execution": {
     "iopub.execute_input": "2021-06-09T17:52:26.409052Z",
     "iopub.status.busy": "2021-06-09T17:52:26.371701Z",
     "iopub.status.idle": "2021-06-09T17:53:45.390662Z",
     "shell.execute_reply": "2021-06-09T17:53:45.392658Z"
    },
    "papermill": {
     "duration": 79.509949,
     "end_time": "2021-06-09T17:53:45.392658",
     "exception": false,
     "start_time": "2021-06-09T17:52:25.882709",
     "status": "completed"
    },
    "pycharm": {
     "name": "#%%\n"
    },
    "tags": []
   },
   "outputs": [
    {
     "name": "stdout",
     "output_type": "stream",
     "text": [
      "['//hecate/Insurance_US/Product Development/Product Management/Global PPM/Reporting/Data Collection/Production/2021.Q1\\\\live_sources\\\\us_vcomments_IT_05242021111521.parquet']\n"
     ]
    },
    {
     "name": "stdout",
     "output_type": "stream",
     "text": [
      "['//hecate/Insurance_US/Product Development/Product Management/Global PPM/Reporting/Data Collection/Production/2021.Q1\\\\live_sources\\\\us_vcomments_CZ_05242021103837.parquet', '//hecate/Insurance_US/Product Development/Product Management/Global PPM/Reporting/Data Collection/Production/2021.Q1\\\\live_sources\\\\us_vcomments_CZ_05262021090243.parquet']\n"
     ]
    },
    {
     "name": "stdout",
     "output_type": "stream",
     "text": [
      "['//hecate/Insurance_US/Product Development/Product Management/Global PPM/Reporting/Data Collection/Production/2021.Q1\\\\live_sources\\\\us_vcomments_AT_06022021144027.parquet', '//hecate/Insurance_US/Product Development/Product Management/Global PPM/Reporting/Data Collection/Production/2021.Q1\\\\live_sources\\\\us_vcomments_AU_02172021174434.parquet', '//hecate/Insurance_US/Product Development/Product Management/Global PPM/Reporting/Data Collection/Production/2021.Q1\\\\live_sources\\\\us_vcomments_AU_02172021174440.parquet', '//hecate/Insurance_US/Product Development/Product Management/Global PPM/Reporting/Data Collection/Production/2021.Q1\\\\live_sources\\\\us_vcomments_AU_05142021143612.parquet', '//hecate/Insurance_US/Product Development/Product Management/Global PPM/Reporting/Data Collection/Production/2021.Q1\\\\live_sources\\\\us_vcomments_AU_05142021143617.parquet', '//hecate/Insurance_US/Product Development/Product Management/Global PPM/Reporting/Data Collection/Production/2021.Q1\\\\live_sources\\\\us_vcomments_AU_mnual_creation.parquet', '//hecate/Insurance_US/Product Development/Product Management/Global PPM/Reporting/Data Collection/Production/2021.Q1\\\\live_sources\\\\us_vcomments_CA_05202021134242.parquet', '//hecate/Insurance_US/Product Development/Product Management/Global PPM/Reporting/Data Collection/Production/2021.Q1\\\\live_sources\\\\us_vcomments_CH_06042021132400.parquet', '//hecate/Insurance_US/Product Development/Product Management/Global PPM/Reporting/Data Collection/Production/2021.Q1\\\\live_sources\\\\us_vcomments_CZ_05242021103837.parquet', '//hecate/Insurance_US/Product Development/Product Management/Global PPM/Reporting/Data Collection/Production/2021.Q1\\\\live_sources\\\\us_vcomments_CZ_05262021090243.parquet', '//hecate/Insurance_US/Product Development/Product Management/Global PPM/Reporting/Data Collection/Production/2021.Q1\\\\live_sources\\\\us_vcomments_DE_06082021183744.parquet', '//hecate/Insurance_US/Product Development/Product Management/Global PPM/Reporting/Data Collection/Production/2021.Q1\\\\live_sources\\\\us_vcomments_ES_05202021105141.parquet', '//hecate/Insurance_US/Product Development/Product Management/Global PPM/Reporting/Data Collection/Production/2021.Q1\\\\live_sources\\\\us_vcomments_ES_05202021105142.parquet', '//hecate/Insurance_US/Product Development/Product Management/Global PPM/Reporting/Data Collection/Production/2021.Q1\\\\live_sources\\\\us_vcomments_GR_05252021115404.parquet', '//hecate/Insurance_US/Product Development/Product Management/Global PPM/Reporting/Data Collection/Production/2021.Q1\\\\live_sources\\\\us_vcomments_IT_05242021111521.parquet', '//hecate/Insurance_US/Product Development/Product Management/Global PPM/Reporting/Data Collection/Production/2021.Q1\\\\live_sources\\\\us_vcomments_NL_05272021163120.parquet', '//hecate/Insurance_US/Product Development/Product Management/Global PPM/Reporting/Data Collection/Production/2021.Q1\\\\live_sources\\\\us_vcomments_PL_05262021084450.parquet', '//hecate/Insurance_US/Product Development/Product Management/Global PPM/Reporting/Data Collection/Production/2021.Q1\\\\live_sources\\\\us_vcomments_PT_05202021121056.parquet', '//hecate/Insurance_US/Product Development/Product Management/Global PPM/Reporting/Data Collection/Production/2021.Q1\\\\live_sources\\\\us_vcomments_US_06022021145526.parquet']\n"
     ]
    },
    {
     "name": "stdout",
     "output_type": "stream",
     "text": [
      "['//hecate/Insurance_US/Product Development/Product Management/Global PPM/Reporting/Data Collection/Production/2021.Q1\\\\live_sources\\\\us_vcomments_CA_05202021134242.parquet']\n"
     ]
    },
    {
     "name": "stdout",
     "output_type": "stream",
     "text": [
      "['//hecate/Insurance_US/Product Development/Product Management/Global PPM/Reporting/Data Collection/Production/2021.Q1\\\\live_sources\\\\us_vcomments_GR_05252021115404.parquet']\n"
     ]
    },
    {
     "name": "stdout",
     "output_type": "stream",
     "text": [
      "['//hecate/Insurance_US/Product Development/Product Management/Global PPM/Reporting/Data Collection/Production/2021.Q1\\\\live_sources\\\\us_vcomments_PT_05202021121056.parquet']\n"
     ]
    },
    {
     "name": "stdout",
     "output_type": "stream",
     "text": [
      "['//hecate/Insurance_US/Product Development/Product Management/Global PPM/Reporting/Data Collection/Production/2021.Q1\\\\live_sources\\\\us_vcomments_CH_06042021132400.parquet']\n"
     ]
    },
    {
     "name": "stdout",
     "output_type": "stream",
     "text": [
      "['//hecate/Insurance_US/Product Development/Product Management/Global PPM/Reporting/Data Collection/Production/2021.Q1\\\\live_sources\\\\us_vcomments_ES_05202021105141.parquet', '//hecate/Insurance_US/Product Development/Product Management/Global PPM/Reporting/Data Collection/Production/2021.Q1\\\\live_sources\\\\us_vcomments_ES_05202021105142.parquet']\n"
     ]
    },
    {
     "name": "stdout",
     "output_type": "stream",
     "text": [
      "['//hecate/Insurance_US/Product Development/Product Management/Global PPM/Reporting/Data Collection/Production/2021.Q1\\\\live_sources\\\\us_vcomments_NL_05272021163120.parquet']\n"
     ]
    },
    {
     "name": "stdout",
     "output_type": "stream",
     "text": [
      "['//hecate/Insurance_US/Product Development/Product Management/Global PPM/Reporting/Data Collection/Production/2021.Q1\\\\live_sources\\\\us_vcomments_AU_02172021174434.parquet', '//hecate/Insurance_US/Product Development/Product Management/Global PPM/Reporting/Data Collection/Production/2021.Q1\\\\live_sources\\\\us_vcomments_AU_02172021174440.parquet', '//hecate/Insurance_US/Product Development/Product Management/Global PPM/Reporting/Data Collection/Production/2021.Q1\\\\live_sources\\\\us_vcomments_AU_05142021143612.parquet', '//hecate/Insurance_US/Product Development/Product Management/Global PPM/Reporting/Data Collection/Production/2021.Q1\\\\live_sources\\\\us_vcomments_AU_05142021143617.parquet', '//hecate/Insurance_US/Product Development/Product Management/Global PPM/Reporting/Data Collection/Production/2021.Q1\\\\live_sources\\\\us_vcomments_AU_mnual_creation.parquet']\n"
     ]
    },
    {
     "name": "stdout",
     "output_type": "stream",
     "text": [
      "['//hecate/Insurance_US/Product Development/Product Management/Global PPM/Reporting/Data Collection/Production/2021.Q1\\\\live_sources\\\\us_vcomments_PL_05262021084450.parquet']\n"
     ]
    },
    {
     "name": "stdout",
     "output_type": "stream",
     "text": [
      "['//hecate/Insurance_US/Product Development/Product Management/Global PPM/Reporting/Data Collection/Production/2021.Q1\\\\live_sources\\\\us_vcomments_AT_06022021144027.parquet']\n"
     ]
    },
    {
     "name": "stdout",
     "output_type": "stream",
     "text": [
      "['//hecate/Insurance_US/Product Development/Product Management/Global PPM/Reporting/Data Collection/Production/2021.Q1\\\\live_sources\\\\us_vcomments_DE_06082021183744.parquet']\n"
     ]
    },
    {
     "name": "stdout",
     "output_type": "stream",
     "text": [
      "New BU DE\n"
     ]
    }
   ],
   "source": [
    "\n",
    "datafiles = [  \"us_vcomment\", \"us_vdf\" ]\n",
    "\n",
    "\n",
    "for idx, b in enumerate(BU_list):\n",
    "\n",
    "    list_files_a = []\n",
    "    latest_valcomments = []\n",
    "    list_files_a = list(filter(lambda x: \"us_vcomments\" in  x and f\"_{b}\" in  x , list_files))\n",
    "\n",
    "    print(list_files_a)\n",
    "    recent_vers_a = max(list_files_a, key=os.path.getctime)\n",
    "    try:\n",
    "        latest_valcomments.append([f'us_vcomment',pd.read_json(recent_vers_a, orient=\"table\")])\n",
    "    except UnicodeDecodeError:\n",
    "        latest_valcomments.append([f'us_vcomment',pd.read_parquet(recent_vers_a, engine=\"pyarrow\")])\n",
    "\n",
    "    list_files_b = glob.glob(os.path.join(ls_path, f'us_vdf_{BU_list[idx]}*.json'))\n",
    "    recent_vers_b = max(list_files_b, key=os.path.getctime)\n",
    "\n",
    "    with open(recent_vers_b, 'r') as fp:\n",
    "        data_dict = json.load(fp)\n",
    "    latest_vdfdata_sets = { key: pd.DataFrame(data_dict[key]) for key in data_dict  }\n",
    "\n",
    "    valcomm_dict = {}\n",
    "    valdf_dict = {}\n",
    "    valcomdf = []\n",
    "    valcomdf = pd.DataFrame(latest_valcomments[0][1])\n",
    "\n",
    "    for idx2, row in valcomdf.iterrows():\n",
    "\n",
    "        valname = row[\"Validation Rule\"][0:25]\n",
    "        sheetname = valname + '-' + str(idx2)\n",
    "        valcomm_dict[\"{0}\".format(sheetname)] = pd.DataFrame(row).reindex()\n",
    "        try:\n",
    "            valdf_dict[sheetname] = data_dict[str(idx2)]\n",
    "        except KeyError:\n",
    "            pass\n",
    "        \n",
    "    writer = pd.ExcelWriter(rep_xls, engine='xlsxwriter')\n",
    "    \n",
    "    for i, j  in zip(valdf_dict,valcomm_dict ):\n",
    "        valdf_dict[i] = pd.DataFrame(valdf_dict[i])\n",
    "        valdf_dict[i].index.name = 'Row Number'\n",
    "        valcomm_dict[i].to_excel(writer, sheet_name=i,header=False, startrow=0, startcol=0)\n",
    "        valdf_dict[i].to_excel(writer, sheet_name= i , startrow=10, startcol=0)\n",
    "    \n",
    "    fin_name = rep_xls.replace(\"_xx\",f\"_{BU_list[idx]}\")\n",
    "    arch_name = fin_name.replace(f\"Validations Review_{BU_list[idx]}\",f\"\\Archive\\Validations Review_{BU_list[idx]}{inst_datetime}\")\n",
    "    \n",
    "    try:\n",
    "        os.remove(arch_name)\n",
    "    except FileNotFoundError:\n",
    "        pass\n",
    "    try:\n",
    "        os.rename(fin_name, arch_name )\n",
    "    except FileNotFoundError:\n",
    "        print(f\"New BU {BU_list[idx]}\")\n",
    "        pass\n",
    "\n",
    "    writer.save()\n",
    "    os.rename(rep_xls,rep_xls.replace(\"_xx\",f\"_{BU_list[idx]}\"))\n"
   ]
  },
  {
   "cell_type": "markdown",
   "id": "91dfe1c2",
   "metadata": {
    "papermill": {
     "duration": 0.429014,
     "end_time": "2021-06-09T17:53:46.185114",
     "exception": false,
     "start_time": "2021-06-09T17:53:45.756100",
     "status": "completed"
    },
    "tags": []
   },
   "source": [
    "### Open the folder with the documents saved"
   ]
  },
  {
   "cell_type": "code",
   "execution_count": 13,
   "id": "ca13416e",
   "metadata": {
    "execution": {
     "iopub.execute_input": "2021-06-09T17:53:47.052555Z",
     "iopub.status.busy": "2021-06-09T17:53:47.049561Z",
     "iopub.status.idle": "2021-06-09T17:53:47.383235Z",
     "shell.execute_reply": "2021-06-09T17:53:47.384241Z"
    },
    "papermill": {
     "duration": 0.817205,
     "end_time": "2021-06-09T17:53:47.384241",
     "exception": false,
     "start_time": "2021-06-09T17:53:46.567036",
     "status": "completed"
    },
    "tags": []
   },
   "outputs": [],
   "source": [
    "os.startfile(rep_path)"
   ]
  },
  {
   "cell_type": "code",
   "execution_count": null,
   "id": "1f229e21",
   "metadata": {
    "papermill": {
     "duration": 0.510186,
     "end_time": "2021-06-09T17:53:48.365597",
     "exception": false,
     "start_time": "2021-06-09T17:53:47.855411",
     "status": "completed"
    },
    "tags": []
   },
   "outputs": [],
   "source": []
  },
  {
   "cell_type": "code",
   "execution_count": null,
   "id": "8ae52b79",
   "metadata": {
    "papermill": {
     "duration": 0.720911,
     "end_time": "2021-06-09T17:53:49.733556",
     "exception": false,
     "start_time": "2021-06-09T17:53:49.012645",
     "status": "completed"
    },
    "tags": []
   },
   "outputs": [],
   "source": []
  }
 ],
 "metadata": {
  "celltoolbar": "Tags",
  "kernelspec": {
   "display_name": "Python 3",
   "language": "python",
   "name": "python3"
  },
  "language_info": {
   "codemirror_mode": {
    "name": "ipython",
    "version": 3
   },
   "file_extension": ".py",
   "mimetype": "text/x-python",
   "name": "python",
   "nbconvert_exporter": "python",
   "pygments_lexer": "ipython3",
   "version": "3.7.6"
  },
  "papermill": {
   "default_parameters": {},
   "duration": 143.739872,
   "end_time": "2021-06-09T17:53:51.721645",
   "environment_variables": {},
   "exception": null,
   "input_path": "reporting/Make Validation Output Reports With Comments.ipynb",
   "output_path": "//hecate/Insurance_US/Product Development/Product Management/Global PPM/Reporting/Data Collection/Pipeline Reporting Scripts/GPMpipeline/instances/2021.Q1\\reporting\\Make Validation Output Reports With Comments06092021132743--live, add US.ipynb",
   "parameters": {
    "commit_message": "Live run,Late additions EI, CH, PTupdate, and DE.",
    "inst_datetime": "06092021132743",
    "percode": "2021.Q1",
    "run_control": 1
   },
   "start_time": "2021-06-09T17:51:27.981773",
   "version": "2.3.3"
  }
 },
 "nbformat": 4,
 "nbformat_minor": 5
}