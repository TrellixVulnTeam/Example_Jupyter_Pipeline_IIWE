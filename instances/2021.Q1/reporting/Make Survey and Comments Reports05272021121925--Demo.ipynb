{
 "cells": [
  {
   "cell_type": "markdown",
   "id": "e9fa87bb",
   "metadata": {
    "papermill": {
     "duration": 0.223034,
     "end_time": "2021-05-27T16:59:07.230114",
     "exception": false,
     "start_time": "2021-05-27T16:59:07.007080",
     "status": "completed"
    },
    "tags": []
   },
   "source": [
    "<img src=\"../images/AzPTravel_PPM.png\">"
   ]
  },
  {
   "cell_type": "markdown",
   "id": "5a18c65e",
   "metadata": {
    "papermill": {
     "duration": 0.269521,
     "end_time": "2021-05-27T16:59:07.741300",
     "exception": false,
     "start_time": "2021-05-27T16:59:07.471779",
     "status": "completed"
    },
    "tags": []
   },
   "source": [
    "## Validation Report Creation Script\n",
    "\n",
    "#### This script reads the output of the \"us_vdf*\" and \"us_vcomments*\" data files and summarizes  them into a report: Validations Review _{BU}.xlsx\n",
    "\n",
    "#### When finished, it will be able to be run on its own or as part of the pipeline wherever called (ie from a papermill script or other user inteface).\n"
   ]
  },
  {
   "cell_type": "markdown",
   "id": "1566fe79",
   "metadata": {
    "papermill": {
     "duration": 0.256315,
     "end_time": "2021-05-27T16:59:08.234614",
     "exception": false,
     "start_time": "2021-05-27T16:59:07.978299",
     "status": "completed"
    },
    "tags": []
   },
   "source": [
    "### User Variables\n",
    "- These are overwritten if inherited from run_control.ipynb.\n",
    "- Feel Free to reset them for a manual run if you like\n",
    "- Do not save without percode = \"-f\""
   ]
  },
  {
   "cell_type": "code",
   "execution_count": 1,
   "id": "039067ab",
   "metadata": {
    "execution": {
     "iopub.execute_input": "2021-05-27T16:59:08.737871Z",
     "iopub.status.busy": "2021-05-27T16:59:08.723870Z",
     "iopub.status.idle": "2021-05-27T16:59:08.748870Z",
     "shell.execute_reply": "2021-05-27T16:59:08.764059Z"
    },
    "papermill": {
     "duration": 0.288999,
     "end_time": "2021-05-27T16:59:08.764872",
     "exception": false,
     "start_time": "2021-05-27T16:59:08.475873",
     "status": "completed"
    },
    "tags": [
     "parameters"
    ]
   },
   "outputs": [],
   "source": [
    "commit_message = \"Development and testing.\"\n",
    "# Give a brief reason for the run.\n",
    "\n",
    "run_control = 1\n",
    "#run_type = 0 - Lite run with no reporting, not recommended.\n",
    "#run_type = 1 - Lite run with normal reporting, default setting.\n",
    "#run_type = 2 - Heavy run with full reporting, available for audits and troubleshooting.\n",
    "#run_type = 5 - A default setting. Indicates the script is being run by an outside process without an inherited value\n",
    "\n",
    "percode = \"2021.Q1\"\n",
    "# Data Collection Code, this controls file paths and output names\n",
    "# \"-f\" is the value indicating a bad inheritance from run with arg\n",
    "\n",
    "s_format = \"p\"\n",
    "# denotes the source data format x == Excel; j == json, p == parquet\n",
    "\n",
    "#----------\n",
    "# do not edit - this either inherits the full instance timestamp from the papermill book or captures the run time of this script.\n",
    "from datetime import datetime  # datetime options\n",
    "inst_datetime = datetime.now().strftime(\"%m%d%Y%H%M%S\")"
   ]
  },
  {
   "cell_type": "code",
   "execution_count": 2,
   "id": "fc3b5b87",
   "metadata": {
    "execution": {
     "iopub.execute_input": "2021-05-27T16:59:09.211883Z",
     "iopub.status.busy": "2021-05-27T16:59:09.210875Z",
     "iopub.status.idle": "2021-05-27T16:59:09.217267Z",
     "shell.execute_reply": "2021-05-27T16:59:09.217883Z"
    },
    "papermill": {
     "duration": 0.240995,
     "end_time": "2021-05-27T16:59:09.218868",
     "exception": false,
     "start_time": "2021-05-27T16:59:08.977873",
     "status": "completed"
    },
    "tags": [
     "injected-parameters"
    ]
   },
   "outputs": [],
   "source": [
    "# Parameters\n",
    "run_control = 1\n",
    "percode = \"2021.Q1\"\n",
    "commit_message = \"Demo Test\"\n",
    "inst_datetime = \"05272021121925\"\n"
   ]
  },
  {
   "cell_type": "markdown",
   "id": "c0f85339",
   "metadata": {
    "papermill": {
     "duration": 0.233943,
     "end_time": "2021-05-27T16:59:09.695113",
     "exception": false,
     "start_time": "2021-05-27T16:59:09.461170",
     "status": "completed"
    },
    "tags": []
   },
   "source": [
    "#### Notebook display options"
   ]
  },
  {
   "cell_type": "code",
   "execution_count": 3,
   "id": "facaa1a2",
   "metadata": {
    "execution": {
     "iopub.execute_input": "2021-05-27T16:59:10.209865Z",
     "iopub.status.busy": "2021-05-27T16:59:10.207900Z",
     "iopub.status.idle": "2021-05-27T16:59:10.214867Z",
     "shell.execute_reply": "2021-05-27T16:59:10.215866Z"
    },
    "papermill": {
     "duration": 0.260744,
     "end_time": "2021-05-27T16:59:10.215866",
     "exception": false,
     "start_time": "2021-05-27T16:59:09.955122",
     "status": "completed"
    },
    "tags": []
   },
   "outputs": [],
   "source": [
    "from IPython.core.interactiveshell import InteractiveShell\n",
    "InteractiveShell.ast_node_interactivity = \"all\""
   ]
  },
  {
   "cell_type": "markdown",
   "id": "2ff05151",
   "metadata": {
    "papermill": {
     "duration": 0.278044,
     "end_time": "2021-05-27T16:59:10.714789",
     "exception": false,
     "start_time": "2021-05-27T16:59:10.436745",
     "status": "completed"
    },
    "tags": []
   },
   "source": [
    "#### import packages"
   ]
  },
  {
   "cell_type": "code",
   "execution_count": 4,
   "id": "d5602413",
   "metadata": {
    "execution": {
     "iopub.execute_input": "2021-05-27T16:59:11.232280Z",
     "iopub.status.busy": "2021-05-27T16:59:11.230290Z",
     "iopub.status.idle": "2021-05-27T16:59:18.381961Z",
     "shell.execute_reply": "2021-05-27T16:59:18.383960Z"
    },
    "papermill": {
     "duration": 7.453214,
     "end_time": "2021-05-27T16:59:18.383960",
     "exception": false,
     "start_time": "2021-05-27T16:59:10.930746",
     "status": "completed"
    },
    "tags": []
   },
   "outputs": [],
   "source": [
    "#### Packages used\n",
    "\n",
    "import os # System commands\n",
    "import sys # System commands\n",
    "\n",
    "import warnings # custom warnigns options\n",
    "\n",
    "import glob # Directory operations\n",
    "import getpass # Work with parquet\n",
    "import json # Work with json\n",
    "\n",
    "import matplotlib.pyplot as plt #Plots and Graphs\n",
    "import numpy as np # Series and math\n",
    "import pandas as pd #DataFrame and math\n",
    "\n",
    "#excel operations\n",
    "import re\n",
    "import nicexcel as nl # Excel operations\n",
    "import xlsxwriter # Excel operations\n",
    "import openpyxl # Excel operations\n"
   ]
  },
  {
   "cell_type": "markdown",
   "id": "df844775",
   "metadata": {
    "papermill": {
     "duration": 0.249001,
     "end_time": "2021-05-27T16:59:18.953012",
     "exception": false,
     "start_time": "2021-05-27T16:59:18.704011",
     "status": "completed"
    },
    "tags": []
   },
   "source": [
    "#### Default Variables, these govern logic, do not edit."
   ]
  },
  {
   "cell_type": "code",
   "execution_count": 5,
   "id": "e3fdec39",
   "metadata": {
    "execution": {
     "iopub.execute_input": "2021-05-27T16:59:19.449534Z",
     "iopub.status.busy": "2021-05-27T16:59:19.448533Z",
     "iopub.status.idle": "2021-05-27T16:59:19.453532Z",
     "shell.execute_reply": "2021-05-27T16:59:19.454535Z"
    },
    "papermill": {
     "duration": 0.257514,
     "end_time": "2021-05-27T16:59:19.454535",
     "exception": false,
     "start_time": "2021-05-27T16:59:19.197021",
     "status": "completed"
    },
    "tags": []
   },
   "outputs": [],
   "source": [
    "default_dc = \"20XX.QX\"\n",
    "default_rc = 0 #extra lite mode\n",
    "dummy_perc = \"33Q3\" # bad inheritance"
   ]
  },
  {
   "cell_type": "markdown",
   "id": "abacc3a4",
   "metadata": {
    "papermill": {
     "duration": 0.258999,
     "end_time": "2021-05-27T16:59:19.942599",
     "exception": false,
     "start_time": "2021-05-27T16:59:19.683600",
     "status": "completed"
    },
    "tags": []
   },
   "source": [
    "#### Script determining run context ie, manual, run_control.ipynb, or other."
   ]
  },
  {
   "cell_type": "code",
   "execution_count": 6,
   "id": "02a07dc5",
   "metadata": {
    "execution": {
     "iopub.execute_input": "2021-05-27T16:59:20.445489Z",
     "iopub.status.busy": "2021-05-27T16:59:20.434950Z",
     "iopub.status.idle": "2021-05-27T16:59:20.451682Z",
     "shell.execute_reply": "2021-05-27T16:59:20.453479Z"
    },
    "papermill": {
     "duration": 0.276353,
     "end_time": "2021-05-27T16:59:20.453479",
     "exception": false,
     "start_time": "2021-05-27T16:59:20.177126",
     "status": "completed"
    },
    "tags": []
   },
   "outputs": [],
   "source": [
    "if run_control == 5:\n",
    "    run_control = default_rc \n",
    "else:\n",
    "    run_control = run_control\n",
    "\n",
    "try:\n",
    "    if sys.argv[1] == \"-f\":\n",
    "        percode = percode\n",
    "    else:\n",
    "        percode = sys.argv[1]\n",
    "\n",
    "except IndexError:\n",
    "    percode = default_dc\n",
    "except NameError:\n",
    "    percode = default_dc\n"
   ]
  },
  {
   "cell_type": "markdown",
   "id": "d5397740",
   "metadata": {
    "papermill": {
     "duration": 0.252632,
     "end_time": "2021-05-27T16:59:21.050237",
     "exception": false,
     "start_time": "2021-05-27T16:59:20.797605",
     "status": "completed"
    },
    "tags": []
   },
   "source": [
    "#### style settings"
   ]
  },
  {
   "cell_type": "code",
   "execution_count": 7,
   "id": "1034ac0e",
   "metadata": {
    "execution": {
     "iopub.execute_input": "2021-05-27T16:59:21.704221Z",
     "iopub.status.busy": "2021-05-27T16:59:21.701219Z",
     "iopub.status.idle": "2021-05-27T16:59:21.710219Z",
     "shell.execute_reply": "2021-05-27T16:59:21.709219Z"
    },
    "papermill": {
     "duration": 0.373852,
     "end_time": "2021-05-27T16:59:21.711218",
     "exception": false,
     "start_time": "2021-05-27T16:59:21.337366",
     "status": "completed"
    },
    "tags": []
   },
   "outputs": [],
   "source": [
    "from IPython.core.interactiveshell import InteractiveShell\n",
    "InteractiveShell.ast_node_interactivity = \"all\""
   ]
  },
  {
   "cell_type": "markdown",
   "id": "056e9cc5",
   "metadata": {
    "papermill": {
     "duration": 0.258011,
     "end_time": "2021-05-27T16:59:22.211230",
     "exception": false,
     "start_time": "2021-05-27T16:59:21.953219",
     "status": "completed"
    },
    "tags": []
   },
   "source": [
    "\n",
    "## Begin Input Read\n",
    "- Make paths used in script\n",
    "- all paths should be modular and easily replaced ahead of operations."
   ]
  },
  {
   "cell_type": "code",
   "execution_count": 8,
   "id": "3e004af1",
   "metadata": {
    "execution": {
     "iopub.execute_input": "2021-05-27T16:59:22.752715Z",
     "iopub.status.busy": "2021-05-27T16:59:22.750714Z",
     "iopub.status.idle": "2021-05-27T16:59:22.757713Z",
     "shell.execute_reply": "2021-05-27T16:59:22.759713Z"
    },
    "papermill": {
     "duration": 0.281535,
     "end_time": "2021-05-27T16:59:22.759713",
     "exception": false,
     "start_time": "2021-05-27T16:59:22.478178",
     "status": "completed"
    },
    "tags": []
   },
   "outputs": [],
   "source": [
    "#root directory\n",
    "rt_path = os.path.join(f'\\\\\\\\hecate\\\\Insurance_US\\\\Product Development\\\\Product Management\\\\Global PPM\\\\Reporting\\Data Collection', percode  )\n",
    "\n",
    "#live sources directory\n",
    "ls_path = os.path.abspath(os.path.join( rt_path,\"..\" ,\"Production\",percode,'live_sources'))\n",
    "\n",
    "#report ouput dir\n",
    "rep_path = os.path.abspath(os.path.join(rt_path, '..','..', \"Data Collection\" ,f\"{percode}\", 'Surveys and Comments'))\n",
    "#report ouput archive dir\n",
    "rep_arch_path = os.path.abspath(os.path.join(rep_path, '..','..',f\"{percode}\",  'Archive'))\n"
   ]
  },
  {
   "cell_type": "markdown",
   "id": "865678b5",
   "metadata": {
    "papermill": {
     "duration": 0.346702,
     "end_time": "2021-05-27T16:59:23.444459",
     "exception": false,
     "start_time": "2021-05-27T16:59:23.097757",
     "status": "completed"
    },
    "tags": []
   },
   "source": [
    "#### Make sources used in script\n",
    "- all sources should be modular and easily replaced ahead of operations."
   ]
  },
  {
   "cell_type": "code",
   "execution_count": 9,
   "id": "ef6b3446",
   "metadata": {
    "execution": {
     "iopub.execute_input": "2021-05-27T16:59:24.076784Z",
     "iopub.status.busy": "2021-05-27T16:59:24.075789Z",
     "iopub.status.idle": "2021-05-27T16:59:24.080787Z",
     "shell.execute_reply": "2021-05-27T16:59:24.082787Z"
    },
    "papermill": {
     "duration": 0.300079,
     "end_time": "2021-05-27T16:59:24.082787",
     "exception": false,
     "start_time": "2021-05-27T16:59:23.782708",
     "status": "completed"
    },
    "tags": []
   },
   "outputs": [],
   "source": [
    "rep_xls = os.path.join(rep_path ,\"Surveys and Comments_xx.xlsx\"   )"
   ]
  },
  {
   "cell_type": "markdown",
   "id": "d1960e4e",
   "metadata": {
    "papermill": {
     "duration": 0.230091,
     "end_time": "2021-05-27T16:59:24.593091",
     "exception": false,
     "start_time": "2021-05-27T16:59:24.363000",
     "status": "completed"
    },
    "tags": []
   },
   "source": [
    "#### Get a list of only source files in the path that start with \"us_dat\".\n",
    "#### Logic determines the source file types.\n",
    "\n",
    "#### User instructions:\n",
    "- Make sure that you have 1 file per source in this folder.\n",
    "    -  For instance, do not have two files for Portugal. If there is an update, archive the old one.\n",
    "- Do not overwrite files in the archive.\n",
    "    - Rename newly archived files, no strict convention, we keep track of these by the modified date.\n",
    "- It is ok to have multiple sources in one file."
   ]
  },
  {
   "cell_type": "code",
   "execution_count": 10,
   "id": "8b1c3e3c",
   "metadata": {
    "execution": {
     "iopub.execute_input": "2021-05-27T16:59:25.183851Z",
     "iopub.status.busy": "2021-05-27T16:59:25.176850Z",
     "iopub.status.idle": "2021-05-27T16:59:25.276858Z",
     "shell.execute_reply": "2021-05-27T16:59:25.278849Z"
    },
    "papermill": {
     "duration": 0.426599,
     "end_time": "2021-05-27T16:59:25.278849",
     "exception": false,
     "start_time": "2021-05-27T16:59:24.852250",
     "status": "completed"
    },
    "tags": []
   },
   "outputs": [],
   "source": [
    "files = os.listdir(ls_path)\n",
    "files = [files.lower() for files in files]\n",
    "\n",
    "files_sources = [f for f in files if f[-5:]  == '.json' or  f[-8:] == '.parquet']\n",
    "\n",
    "for idx, f in enumerate(files_sources):  files_sources[idx] = os.path.join(ls_path, f) \n"
   ]
  },
  {
   "cell_type": "markdown",
   "id": "b06aca23",
   "metadata": {
    "papermill": {
     "duration": 0.273109,
     "end_time": "2021-05-27T16:59:25.777071",
     "exception": false,
     "start_time": "2021-05-27T16:59:25.503962",
     "status": "completed"
    },
    "tags": []
   },
   "source": [
    "#### Make a list of BUs that have comments available"
   ]
  },
  {
   "cell_type": "code",
   "execution_count": 11,
   "id": "d1c90c77",
   "metadata": {
    "execution": {
     "iopub.execute_input": "2021-05-27T16:59:26.277759Z",
     "iopub.status.busy": "2021-05-27T16:59:26.275759Z",
     "iopub.status.idle": "2021-05-27T16:59:26.292951Z",
     "shell.execute_reply": "2021-05-27T16:59:26.294952Z"
    },
    "papermill": {
     "duration": 0.255726,
     "end_time": "2021-05-27T16:59:26.294952",
     "exception": false,
     "start_time": "2021-05-27T16:59:26.039226",
     "status": "completed"
    },
    "tags": []
   },
   "outputs": [
    {
     "data": {
      "text/plain": [
       "['\\\\\\\\hecate\\\\Insurance_US\\\\Product Development\\\\Product Management\\\\Global PPM\\\\Reporting\\\\Data Collection\\\\Production\\\\2021.Q1\\\\live_sources\\\\us_dat_au_05142021143612.parquet',\n",
       " '\\\\\\\\hecate\\\\Insurance_US\\\\Product Development\\\\Product Management\\\\Global PPM\\\\Reporting\\\\Data Collection\\\\Production\\\\2021.Q1\\\\live_sources\\\\us_dat_ca_05202021134242.parquet',\n",
       " '\\\\\\\\hecate\\\\Insurance_US\\\\Product Development\\\\Product Management\\\\Global PPM\\\\Reporting\\\\Data Collection\\\\Production\\\\2021.Q1\\\\live_sources\\\\us_dat_ch_05182021192455.parquet',\n",
       " '\\\\\\\\hecate\\\\Insurance_US\\\\Product Development\\\\Product Management\\\\Global PPM\\\\Reporting\\\\Data Collection\\\\Production\\\\2021.Q1\\\\live_sources\\\\us_dat_cz_05262021090243.parquet',\n",
       " '\\\\\\\\hecate\\\\Insurance_US\\\\Product Development\\\\Product Management\\\\Global PPM\\\\Reporting\\\\Data Collection\\\\Production\\\\2021.Q1\\\\live_sources\\\\us_dat_es_05202021105141.parquet',\n",
       " '\\\\\\\\hecate\\\\Insurance_US\\\\Product Development\\\\Product Management\\\\Global PPM\\\\Reporting\\\\Data Collection\\\\Production\\\\2021.Q1\\\\live_sources\\\\us_dat_gr_05252021115404.parquet',\n",
       " '\\\\\\\\hecate\\\\Insurance_US\\\\Product Development\\\\Product Management\\\\Global PPM\\\\Reporting\\\\Data Collection\\\\Production\\\\2021.Q1\\\\live_sources\\\\us_dat_it_05242021111520.parquet',\n",
       " '\\\\\\\\hecate\\\\Insurance_US\\\\Product Development\\\\Product Management\\\\Global PPM\\\\Reporting\\\\Data Collection\\\\Production\\\\2021.Q1\\\\live_sources\\\\us_dat_nl_05272021163120.parquet',\n",
       " '\\\\\\\\hecate\\\\Insurance_US\\\\Product Development\\\\Product Management\\\\Global PPM\\\\Reporting\\\\Data Collection\\\\Production\\\\2021.Q1\\\\live_sources\\\\us_dat_pl_05262021084450.parquet',\n",
       " '\\\\\\\\hecate\\\\Insurance_US\\\\Product Development\\\\Product Management\\\\Global PPM\\\\Reporting\\\\Data Collection\\\\Production\\\\2021.Q1\\\\live_sources\\\\us_dat_pt_05202021121056.parquet',\n",
       " '\\\\\\\\hecate\\\\Insurance_US\\\\Product Development\\\\Product Management\\\\Global PPM\\\\Reporting\\\\Data Collection\\\\Production\\\\2021.Q1\\\\live_sources\\\\us_orig_au_05142021143611.json',\n",
       " '\\\\\\\\hecate\\\\Insurance_US\\\\Product Development\\\\Product Management\\\\Global PPM\\\\Reporting\\\\Data Collection\\\\Production\\\\2021.Q1\\\\live_sources\\\\us_orig_ca_05202021134242.parquet',\n",
       " '\\\\\\\\hecate\\\\Insurance_US\\\\Product Development\\\\Product Management\\\\Global PPM\\\\Reporting\\\\Data Collection\\\\Production\\\\2021.Q1\\\\live_sources\\\\us_orig_ch_05182021192455.parquet',\n",
       " '\\\\\\\\hecate\\\\Insurance_US\\\\Product Development\\\\Product Management\\\\Global PPM\\\\Reporting\\\\Data Collection\\\\Production\\\\2021.Q1\\\\live_sources\\\\us_orig_cz_05242021103837.parquet',\n",
       " '\\\\\\\\hecate\\\\Insurance_US\\\\Product Development\\\\Product Management\\\\Global PPM\\\\Reporting\\\\Data Collection\\\\Production\\\\2021.Q1\\\\live_sources\\\\us_orig_cz_05262021090243.parquet',\n",
       " '\\\\\\\\hecate\\\\Insurance_US\\\\Product Development\\\\Product Management\\\\Global PPM\\\\Reporting\\\\Data Collection\\\\Production\\\\2021.Q1\\\\live_sources\\\\us_orig_es_05202021105141.parquet',\n",
       " '\\\\\\\\hecate\\\\Insurance_US\\\\Product Development\\\\Product Management\\\\Global PPM\\\\Reporting\\\\Data Collection\\\\Production\\\\2021.Q1\\\\live_sources\\\\us_orig_gr_05252021115404.parquet',\n",
       " '\\\\\\\\hecate\\\\Insurance_US\\\\Product Development\\\\Product Management\\\\Global PPM\\\\Reporting\\\\Data Collection\\\\Production\\\\2021.Q1\\\\live_sources\\\\us_orig_it_05242021111520.parquet',\n",
       " '\\\\\\\\hecate\\\\Insurance_US\\\\Product Development\\\\Product Management\\\\Global PPM\\\\Reporting\\\\Data Collection\\\\Production\\\\2021.Q1\\\\live_sources\\\\us_orig_nl_05272021163119.parquet',\n",
       " '\\\\\\\\hecate\\\\Insurance_US\\\\Product Development\\\\Product Management\\\\Global PPM\\\\Reporting\\\\Data Collection\\\\Production\\\\2021.Q1\\\\live_sources\\\\us_orig_pl_05262021084450.parquet',\n",
       " '\\\\\\\\hecate\\\\Insurance_US\\\\Product Development\\\\Product Management\\\\Global PPM\\\\Reporting\\\\Data Collection\\\\Production\\\\2021.Q1\\\\live_sources\\\\us_orig_pt_05202021121055.parquet',\n",
       " '\\\\\\\\hecate\\\\Insurance_US\\\\Product Development\\\\Product Management\\\\Global PPM\\\\Reporting\\\\Data Collection\\\\Production\\\\2021.Q1\\\\live_sources\\\\us_survey_au_02172021174808.parquet',\n",
       " '\\\\\\\\hecate\\\\Insurance_US\\\\Product Development\\\\Product Management\\\\Global PPM\\\\Reporting\\\\Data Collection\\\\Production\\\\2021.Q1\\\\live_sources\\\\us_survey_au_05142021143750.parquet',\n",
       " '\\\\\\\\hecate\\\\Insurance_US\\\\Product Development\\\\Product Management\\\\Global PPM\\\\Reporting\\\\Data Collection\\\\Production\\\\2021.Q1\\\\live_sources\\\\us_survey_ca_05202021135610.parquet',\n",
       " '\\\\\\\\hecate\\\\Insurance_US\\\\Product Development\\\\Product Management\\\\Global PPM\\\\Reporting\\\\Data Collection\\\\Production\\\\2021.Q1\\\\live_sources\\\\us_survey_ch_05182021192905.parquet',\n",
       " '\\\\\\\\hecate\\\\Insurance_US\\\\Product Development\\\\Product Management\\\\Global PPM\\\\Reporting\\\\Data Collection\\\\Production\\\\2021.Q1\\\\live_sources\\\\us_survey_cz_05262021090440.parquet',\n",
       " '\\\\\\\\hecate\\\\Insurance_US\\\\Product Development\\\\Product Management\\\\Global PPM\\\\Reporting\\\\Data Collection\\\\Production\\\\2021.Q1\\\\live_sources\\\\us_survey_es_05202021105431.parquet',\n",
       " '\\\\\\\\hecate\\\\Insurance_US\\\\Product Development\\\\Product Management\\\\Global PPM\\\\Reporting\\\\Data Collection\\\\Production\\\\2021.Q1\\\\live_sources\\\\us_survey_gr_05252021115827.parquet',\n",
       " '\\\\\\\\hecate\\\\Insurance_US\\\\Product Development\\\\Product Management\\\\Global PPM\\\\Reporting\\\\Data Collection\\\\Production\\\\2021.Q1\\\\live_sources\\\\us_survey_it_05242021111759.parquet',\n",
       " '\\\\\\\\hecate\\\\Insurance_US\\\\Product Development\\\\Product Management\\\\Global PPM\\\\Reporting\\\\Data Collection\\\\Production\\\\2021.Q1\\\\live_sources\\\\us_survey_nl_05272021163630.parquet',\n",
       " '\\\\\\\\hecate\\\\Insurance_US\\\\Product Development\\\\Product Management\\\\Global PPM\\\\Reporting\\\\Data Collection\\\\Production\\\\2021.Q1\\\\live_sources\\\\us_survey_pl_05262021084708.parquet',\n",
       " '\\\\\\\\hecate\\\\Insurance_US\\\\Product Development\\\\Product Management\\\\Global PPM\\\\Reporting\\\\Data Collection\\\\Production\\\\2021.Q1\\\\live_sources\\\\us_survey_pt_05202021121304.parquet',\n",
       " '\\\\\\\\hecate\\\\Insurance_US\\\\Product Development\\\\Product Management\\\\Global PPM\\\\Reporting\\\\Data Collection\\\\Production\\\\2021.Q1\\\\live_sources\\\\us_vcomments_au_02172021174434.parquet',\n",
       " '\\\\\\\\hecate\\\\Insurance_US\\\\Product Development\\\\Product Management\\\\Global PPM\\\\Reporting\\\\Data Collection\\\\Production\\\\2021.Q1\\\\live_sources\\\\us_vcomments_au_02172021174440.parquet',\n",
       " '\\\\\\\\hecate\\\\Insurance_US\\\\Product Development\\\\Product Management\\\\Global PPM\\\\Reporting\\\\Data Collection\\\\Production\\\\2021.Q1\\\\live_sources\\\\us_vcomments_au_05142021143612.parquet',\n",
       " '\\\\\\\\hecate\\\\Insurance_US\\\\Product Development\\\\Product Management\\\\Global PPM\\\\Reporting\\\\Data Collection\\\\Production\\\\2021.Q1\\\\live_sources\\\\us_vcomments_au_05142021143617.parquet',\n",
       " '\\\\\\\\hecate\\\\Insurance_US\\\\Product Development\\\\Product Management\\\\Global PPM\\\\Reporting\\\\Data Collection\\\\Production\\\\2021.Q1\\\\live_sources\\\\us_vcomments_au_mnual_creation.parquet',\n",
       " '\\\\\\\\hecate\\\\Insurance_US\\\\Product Development\\\\Product Management\\\\Global PPM\\\\Reporting\\\\Data Collection\\\\Production\\\\2021.Q1\\\\live_sources\\\\us_vcomments_ca_05202021134242.parquet',\n",
       " '\\\\\\\\hecate\\\\Insurance_US\\\\Product Development\\\\Product Management\\\\Global PPM\\\\Reporting\\\\Data Collection\\\\Production\\\\2021.Q1\\\\live_sources\\\\us_vcomments_ch_05182021192455.parquet',\n",
       " '\\\\\\\\hecate\\\\Insurance_US\\\\Product Development\\\\Product Management\\\\Global PPM\\\\Reporting\\\\Data Collection\\\\Production\\\\2021.Q1\\\\live_sources\\\\us_vcomments_ch_05182021192456.parquet',\n",
       " '\\\\\\\\hecate\\\\Insurance_US\\\\Product Development\\\\Product Management\\\\Global PPM\\\\Reporting\\\\Data Collection\\\\Production\\\\2021.Q1\\\\live_sources\\\\us_vcomments_cz_05242021103837.parquet',\n",
       " '\\\\\\\\hecate\\\\Insurance_US\\\\Product Development\\\\Product Management\\\\Global PPM\\\\Reporting\\\\Data Collection\\\\Production\\\\2021.Q1\\\\live_sources\\\\us_vcomments_cz_05262021090243.parquet',\n",
       " '\\\\\\\\hecate\\\\Insurance_US\\\\Product Development\\\\Product Management\\\\Global PPM\\\\Reporting\\\\Data Collection\\\\Production\\\\2021.Q1\\\\live_sources\\\\us_vcomments_es_05202021105141.parquet',\n",
       " '\\\\\\\\hecate\\\\Insurance_US\\\\Product Development\\\\Product Management\\\\Global PPM\\\\Reporting\\\\Data Collection\\\\Production\\\\2021.Q1\\\\live_sources\\\\us_vcomments_es_05202021105142.parquet',\n",
       " '\\\\\\\\hecate\\\\Insurance_US\\\\Product Development\\\\Product Management\\\\Global PPM\\\\Reporting\\\\Data Collection\\\\Production\\\\2021.Q1\\\\live_sources\\\\us_vcomments_gr_05252021115404.parquet',\n",
       " '\\\\\\\\hecate\\\\Insurance_US\\\\Product Development\\\\Product Management\\\\Global PPM\\\\Reporting\\\\Data Collection\\\\Production\\\\2021.Q1\\\\live_sources\\\\us_vcomments_it_05242021111521.parquet',\n",
       " '\\\\\\\\hecate\\\\Insurance_US\\\\Product Development\\\\Product Management\\\\Global PPM\\\\Reporting\\\\Data Collection\\\\Production\\\\2021.Q1\\\\live_sources\\\\us_vcomments_nl_05272021163120.parquet',\n",
       " '\\\\\\\\hecate\\\\Insurance_US\\\\Product Development\\\\Product Management\\\\Global PPM\\\\Reporting\\\\Data Collection\\\\Production\\\\2021.Q1\\\\live_sources\\\\us_vcomments_pl_05262021084450.parquet',\n",
       " '\\\\\\\\hecate\\\\Insurance_US\\\\Product Development\\\\Product Management\\\\Global PPM\\\\Reporting\\\\Data Collection\\\\Production\\\\2021.Q1\\\\live_sources\\\\us_vcomments_pt_05202021121056.parquet',\n",
       " '\\\\\\\\hecate\\\\Insurance_US\\\\Product Development\\\\Product Management\\\\Global PPM\\\\Reporting\\\\Data Collection\\\\Production\\\\2021.Q1\\\\live_sources\\\\us_vdf_au_man42021143613.json',\n",
       " '\\\\\\\\hecate\\\\Insurance_US\\\\Product Development\\\\Product Management\\\\Global PPM\\\\Reporting\\\\Data Collection\\\\Production\\\\2021.Q1\\\\live_sources\\\\us_vdf_ca_05202021134242.json',\n",
       " '\\\\\\\\hecate\\\\Insurance_US\\\\Product Development\\\\Product Management\\\\Global PPM\\\\Reporting\\\\Data Collection\\\\Production\\\\2021.Q1\\\\live_sources\\\\us_vdf_ch_05182021192456.json',\n",
       " '\\\\\\\\hecate\\\\Insurance_US\\\\Product Development\\\\Product Management\\\\Global PPM\\\\Reporting\\\\Data Collection\\\\Production\\\\2021.Q1\\\\live_sources\\\\us_vdf_cz_05242021103837.json',\n",
       " '\\\\\\\\hecate\\\\Insurance_US\\\\Product Development\\\\Product Management\\\\Global PPM\\\\Reporting\\\\Data Collection\\\\Production\\\\2021.Q1\\\\live_sources\\\\us_vdf_cz_05262021090243.json',\n",
       " '\\\\\\\\hecate\\\\Insurance_US\\\\Product Development\\\\Product Management\\\\Global PPM\\\\Reporting\\\\Data Collection\\\\Production\\\\2021.Q1\\\\live_sources\\\\us_vdf_es_05202021105142.json',\n",
       " '\\\\\\\\hecate\\\\Insurance_US\\\\Product Development\\\\Product Management\\\\Global PPM\\\\Reporting\\\\Data Collection\\\\Production\\\\2021.Q1\\\\live_sources\\\\us_vdf_gr_05252021115404.json',\n",
       " '\\\\\\\\hecate\\\\Insurance_US\\\\Product Development\\\\Product Management\\\\Global PPM\\\\Reporting\\\\Data Collection\\\\Production\\\\2021.Q1\\\\live_sources\\\\us_vdf_it_05242021111521.json',\n",
       " '\\\\\\\\hecate\\\\Insurance_US\\\\Product Development\\\\Product Management\\\\Global PPM\\\\Reporting\\\\Data Collection\\\\Production\\\\2021.Q1\\\\live_sources\\\\us_vdf_nl_05272021163120.json',\n",
       " '\\\\\\\\hecate\\\\Insurance_US\\\\Product Development\\\\Product Management\\\\Global PPM\\\\Reporting\\\\Data Collection\\\\Production\\\\2021.Q1\\\\live_sources\\\\us_vdf_pl_05262021084450.json',\n",
       " '\\\\\\\\hecate\\\\Insurance_US\\\\Product Development\\\\Product Management\\\\Global PPM\\\\Reporting\\\\Data Collection\\\\Production\\\\2021.Q1\\\\live_sources\\\\us_vdf_pt_05202021121056.json']"
      ]
     },
     "execution_count": 11,
     "metadata": {},
     "output_type": "execute_result"
    }
   ],
   "source": [
    "prelist_jfiles = glob.glob(os.path.join(ls_path, 'us_vcomments_*.json'))\n",
    "prelist_pfiles = glob.glob(os.path.join(ls_path, 'us_vcomments_*.parquet'))\n",
    "\n",
    "prelist_files = []\n",
    "    \n",
    "for i in prelist_jfiles : prelist_files.append(i)    \n",
    "for i in prelist_pfiles : prelist_files.append(i)\n",
    "\n",
    "\n",
    "for idx, i in enumerate(prelist_jfiles):\n",
    "    prelist_jfiles[idx] = prelist_jfiles[idx][-23:-19]\n",
    "    prelist_jfiles[idx] = prelist_jfiles[idx].replace('_','')\n",
    "\n",
    "for idx, i in enumerate(prelist_pfiles):\n",
    "    prelist_pfiles[idx] = prelist_pfiles[idx][-26:-22]\n",
    "    prelist_pfiles[idx] = prelist_pfiles[idx].replace('_','')\n",
    "\n",
    "list_bus = []\n",
    "    \n",
    "for i in prelist_jfiles : list_bus.append(i)    \n",
    "for i in prelist_pfiles : list_bus.append(i)\n",
    "\n",
    "\n",
    "BU_set = set(list_bus)\n",
    "BU_list = list(BU_set)\n",
    "\n",
    "files_sources\n"
   ]
  },
  {
   "cell_type": "code",
   "execution_count": 12,
   "id": "4289925e",
   "metadata": {
    "execution": {
     "iopub.execute_input": "2021-05-27T16:59:26.802061Z",
     "iopub.status.busy": "2021-05-27T16:59:26.785062Z",
     "iopub.status.idle": "2021-05-27T17:06:50.960436Z",
     "shell.execute_reply": "2021-05-27T17:06:50.962436Z"
    },
    "papermill": {
     "duration": 444.437887,
     "end_time": "2021-05-27T17:06:50.962436",
     "exception": false,
     "start_time": "2021-05-27T16:59:26.524549",
     "status": "completed"
    },
    "pycharm": {
     "name": "#%%\n"
    },
    "tags": []
   },
   "outputs": [
    {
     "name": "stdout",
     "output_type": "stream",
     "text": [
      "_es\n",
      "['\\\\\\\\hecate\\\\Insurance_US\\\\Product Development\\\\Product Management\\\\Global PPM\\\\Reporting\\\\Data Collection\\\\Production\\\\2021.Q1\\\\live_sources\\\\us_orig_es_05202021105141.parquet']\n"
     ]
    },
    {
     "name": "stdout",
     "output_type": "stream",
     "text": [
      "_es\n",
      "['\\\\\\\\hecate\\\\Insurance_US\\\\Product Development\\\\Product Management\\\\Global PPM\\\\Reporting\\\\Data Collection\\\\Production\\\\2021.Q1\\\\live_sources\\\\us_dat_es_05202021105141.parquet']\n"
     ]
    },
    {
     "name": "stdout",
     "output_type": "stream",
     "text": [
      "_es\n",
      "['\\\\\\\\hecate\\\\Insurance_US\\\\Product Development\\\\Product Management\\\\Global PPM\\\\Reporting\\\\Data Collection\\\\Production\\\\2021.Q1\\\\live_sources\\\\us_vcomments_es_05202021105141.parquet', '\\\\\\\\hecate\\\\Insurance_US\\\\Product Development\\\\Product Management\\\\Global PPM\\\\Reporting\\\\Data Collection\\\\Production\\\\2021.Q1\\\\live_sources\\\\us_vcomments_es_05202021105142.parquet']\n"
     ]
    },
    {
     "name": "stdout",
     "output_type": "stream",
     "text": [
      "_es\n",
      "['\\\\\\\\hecate\\\\Insurance_US\\\\Product Development\\\\Product Management\\\\Global PPM\\\\Reporting\\\\Data Collection\\\\Production\\\\2021.Q1\\\\live_sources\\\\us_survey_es_05202021105431.parquet']\n"
     ]
    },
    {
     "name": "stdout",
     "output_type": "stream",
     "text": [
      "Original Data Set\n"
     ]
    },
    {
     "name": "stdout",
     "output_type": "stream",
     "text": [
      "Final Data Set\n"
     ]
    },
    {
     "name": "stdout",
     "output_type": "stream",
     "text": [
      "Validations\n"
     ]
    },
    {
     "name": "stdout",
     "output_type": "stream",
     "text": [
      "Survey\n"
     ]
    },
    {
     "name": "stdout",
     "output_type": "stream",
     "text": [
      "_cz\n",
      "['\\\\\\\\hecate\\\\Insurance_US\\\\Product Development\\\\Product Management\\\\Global PPM\\\\Reporting\\\\Data Collection\\\\Production\\\\2021.Q1\\\\live_sources\\\\us_orig_cz_05242021103837.parquet', '\\\\\\\\hecate\\\\Insurance_US\\\\Product Development\\\\Product Management\\\\Global PPM\\\\Reporting\\\\Data Collection\\\\Production\\\\2021.Q1\\\\live_sources\\\\us_orig_cz_05262021090243.parquet']\n"
     ]
    },
    {
     "name": "stdout",
     "output_type": "stream",
     "text": [
      "_cz\n",
      "['\\\\\\\\hecate\\\\Insurance_US\\\\Product Development\\\\Product Management\\\\Global PPM\\\\Reporting\\\\Data Collection\\\\Production\\\\2021.Q1\\\\live_sources\\\\us_dat_cz_05262021090243.parquet']\n"
     ]
    },
    {
     "name": "stdout",
     "output_type": "stream",
     "text": [
      "_cz\n",
      "['\\\\\\\\hecate\\\\Insurance_US\\\\Product Development\\\\Product Management\\\\Global PPM\\\\Reporting\\\\Data Collection\\\\Production\\\\2021.Q1\\\\live_sources\\\\us_vcomments_cz_05242021103837.parquet', '\\\\\\\\hecate\\\\Insurance_US\\\\Product Development\\\\Product Management\\\\Global PPM\\\\Reporting\\\\Data Collection\\\\Production\\\\2021.Q1\\\\live_sources\\\\us_vcomments_cz_05262021090243.parquet']\n"
     ]
    },
    {
     "name": "stdout",
     "output_type": "stream",
     "text": [
      "_cz\n",
      "['\\\\\\\\hecate\\\\Insurance_US\\\\Product Development\\\\Product Management\\\\Global PPM\\\\Reporting\\\\Data Collection\\\\Production\\\\2021.Q1\\\\live_sources\\\\us_survey_cz_05262021090440.parquet']\n"
     ]
    },
    {
     "name": "stdout",
     "output_type": "stream",
     "text": [
      "Original Data Set\n"
     ]
    },
    {
     "name": "stdout",
     "output_type": "stream",
     "text": [
      "Final Data Set\n"
     ]
    },
    {
     "name": "stdout",
     "output_type": "stream",
     "text": [
      "Validations\n"
     ]
    },
    {
     "name": "stdout",
     "output_type": "stream",
     "text": [
      "Survey\n"
     ]
    },
    {
     "name": "stdout",
     "output_type": "stream",
     "text": [
      "_ca\n",
      "['\\\\\\\\hecate\\\\Insurance_US\\\\Product Development\\\\Product Management\\\\Global PPM\\\\Reporting\\\\Data Collection\\\\Production\\\\2021.Q1\\\\live_sources\\\\us_orig_ca_05202021134242.parquet']\n"
     ]
    },
    {
     "name": "stdout",
     "output_type": "stream",
     "text": [
      "_ca\n",
      "['\\\\\\\\hecate\\\\Insurance_US\\\\Product Development\\\\Product Management\\\\Global PPM\\\\Reporting\\\\Data Collection\\\\Production\\\\2021.Q1\\\\live_sources\\\\us_dat_ca_05202021134242.parquet']\n"
     ]
    },
    {
     "name": "stdout",
     "output_type": "stream",
     "text": [
      "_ca\n",
      "['\\\\\\\\hecate\\\\Insurance_US\\\\Product Development\\\\Product Management\\\\Global PPM\\\\Reporting\\\\Data Collection\\\\Production\\\\2021.Q1\\\\live_sources\\\\us_vcomments_ca_05202021134242.parquet']\n"
     ]
    },
    {
     "name": "stdout",
     "output_type": "stream",
     "text": [
      "_ca\n",
      "['\\\\\\\\hecate\\\\Insurance_US\\\\Product Development\\\\Product Management\\\\Global PPM\\\\Reporting\\\\Data Collection\\\\Production\\\\2021.Q1\\\\live_sources\\\\us_survey_ca_05202021135610.parquet']\n"
     ]
    },
    {
     "name": "stdout",
     "output_type": "stream",
     "text": [
      "Original Data Set\n"
     ]
    },
    {
     "name": "stdout",
     "output_type": "stream",
     "text": [
      "Final Data Set\n"
     ]
    },
    {
     "name": "stdout",
     "output_type": "stream",
     "text": [
      "Validations\n"
     ]
    },
    {
     "name": "stdout",
     "output_type": "stream",
     "text": [
      "Survey\n"
     ]
    },
    {
     "name": "stdout",
     "output_type": "stream",
     "text": [
      "_nl\n",
      "['\\\\\\\\hecate\\\\Insurance_US\\\\Product Development\\\\Product Management\\\\Global PPM\\\\Reporting\\\\Data Collection\\\\Production\\\\2021.Q1\\\\live_sources\\\\us_orig_nl_05272021163119.parquet']\n"
     ]
    },
    {
     "name": "stdout",
     "output_type": "stream",
     "text": [
      "_nl\n",
      "['\\\\\\\\hecate\\\\Insurance_US\\\\Product Development\\\\Product Management\\\\Global PPM\\\\Reporting\\\\Data Collection\\\\Production\\\\2021.Q1\\\\live_sources\\\\us_dat_nl_05272021163120.parquet']\n"
     ]
    },
    {
     "name": "stdout",
     "output_type": "stream",
     "text": [
      "_nl\n",
      "['\\\\\\\\hecate\\\\Insurance_US\\\\Product Development\\\\Product Management\\\\Global PPM\\\\Reporting\\\\Data Collection\\\\Production\\\\2021.Q1\\\\live_sources\\\\us_vcomments_nl_05272021163120.parquet']\n"
     ]
    },
    {
     "name": "stdout",
     "output_type": "stream",
     "text": [
      "_nl\n",
      "['\\\\\\\\hecate\\\\Insurance_US\\\\Product Development\\\\Product Management\\\\Global PPM\\\\Reporting\\\\Data Collection\\\\Production\\\\2021.Q1\\\\live_sources\\\\us_survey_nl_05272021163630.parquet']\n"
     ]
    },
    {
     "name": "stdout",
     "output_type": "stream",
     "text": [
      "Original Data Set\n"
     ]
    },
    {
     "name": "stdout",
     "output_type": "stream",
     "text": [
      "Final Data Set\n"
     ]
    },
    {
     "name": "stdout",
     "output_type": "stream",
     "text": [
      "Validations\n"
     ]
    },
    {
     "name": "stdout",
     "output_type": "stream",
     "text": [
      "Survey\n"
     ]
    },
    {
     "name": "stdout",
     "output_type": "stream",
     "text": [
      "_pt\n",
      "['\\\\\\\\hecate\\\\Insurance_US\\\\Product Development\\\\Product Management\\\\Global PPM\\\\Reporting\\\\Data Collection\\\\Production\\\\2021.Q1\\\\live_sources\\\\us_orig_pt_05202021121055.parquet']\n"
     ]
    },
    {
     "name": "stdout",
     "output_type": "stream",
     "text": [
      "_pt\n",
      "['\\\\\\\\hecate\\\\Insurance_US\\\\Product Development\\\\Product Management\\\\Global PPM\\\\Reporting\\\\Data Collection\\\\Production\\\\2021.Q1\\\\live_sources\\\\us_dat_pt_05202021121056.parquet']\n"
     ]
    },
    {
     "name": "stdout",
     "output_type": "stream",
     "text": [
      "_pt\n",
      "['\\\\\\\\hecate\\\\Insurance_US\\\\Product Development\\\\Product Management\\\\Global PPM\\\\Reporting\\\\Data Collection\\\\Production\\\\2021.Q1\\\\live_sources\\\\us_vcomments_pt_05202021121056.parquet']\n"
     ]
    },
    {
     "name": "stdout",
     "output_type": "stream",
     "text": [
      "_pt\n",
      "['\\\\\\\\hecate\\\\Insurance_US\\\\Product Development\\\\Product Management\\\\Global PPM\\\\Reporting\\\\Data Collection\\\\Production\\\\2021.Q1\\\\live_sources\\\\us_survey_pt_05202021121304.parquet']\n"
     ]
    },
    {
     "name": "stdout",
     "output_type": "stream",
     "text": [
      "Original Data Set\n"
     ]
    },
    {
     "name": "stdout",
     "output_type": "stream",
     "text": [
      "Final Data Set\n"
     ]
    },
    {
     "name": "stdout",
     "output_type": "stream",
     "text": [
      "Validations\n"
     ]
    },
    {
     "name": "stdout",
     "output_type": "stream",
     "text": [
      "Survey\n"
     ]
    },
    {
     "name": "stdout",
     "output_type": "stream",
     "text": [
      "_gr\n",
      "['\\\\\\\\hecate\\\\Insurance_US\\\\Product Development\\\\Product Management\\\\Global PPM\\\\Reporting\\\\Data Collection\\\\Production\\\\2021.Q1\\\\live_sources\\\\us_orig_gr_05252021115404.parquet']\n"
     ]
    },
    {
     "name": "stdout",
     "output_type": "stream",
     "text": [
      "_gr\n",
      "['\\\\\\\\hecate\\\\Insurance_US\\\\Product Development\\\\Product Management\\\\Global PPM\\\\Reporting\\\\Data Collection\\\\Production\\\\2021.Q1\\\\live_sources\\\\us_dat_gr_05252021115404.parquet']\n"
     ]
    },
    {
     "name": "stdout",
     "output_type": "stream",
     "text": [
      "_gr\n",
      "['\\\\\\\\hecate\\\\Insurance_US\\\\Product Development\\\\Product Management\\\\Global PPM\\\\Reporting\\\\Data Collection\\\\Production\\\\2021.Q1\\\\live_sources\\\\us_vcomments_gr_05252021115404.parquet']\n"
     ]
    },
    {
     "name": "stdout",
     "output_type": "stream",
     "text": [
      "_gr\n",
      "['\\\\\\\\hecate\\\\Insurance_US\\\\Product Development\\\\Product Management\\\\Global PPM\\\\Reporting\\\\Data Collection\\\\Production\\\\2021.Q1\\\\live_sources\\\\us_survey_gr_05252021115827.parquet']\n"
     ]
    },
    {
     "name": "stdout",
     "output_type": "stream",
     "text": [
      "Original Data Set\n"
     ]
    },
    {
     "name": "stdout",
     "output_type": "stream",
     "text": [
      "Final Data Set\n"
     ]
    },
    {
     "name": "stdout",
     "output_type": "stream",
     "text": [
      "Validations\n"
     ]
    },
    {
     "name": "stdout",
     "output_type": "stream",
     "text": [
      "Survey\n"
     ]
    },
    {
     "name": "stdout",
     "output_type": "stream",
     "text": [
      "_pl\n",
      "['\\\\\\\\hecate\\\\Insurance_US\\\\Product Development\\\\Product Management\\\\Global PPM\\\\Reporting\\\\Data Collection\\\\Production\\\\2021.Q1\\\\live_sources\\\\us_orig_pl_05262021084450.parquet']\n"
     ]
    },
    {
     "name": "stdout",
     "output_type": "stream",
     "text": [
      "_pl\n",
      "['\\\\\\\\hecate\\\\Insurance_US\\\\Product Development\\\\Product Management\\\\Global PPM\\\\Reporting\\\\Data Collection\\\\Production\\\\2021.Q1\\\\live_sources\\\\us_dat_pl_05262021084450.parquet']\n"
     ]
    },
    {
     "name": "stdout",
     "output_type": "stream",
     "text": [
      "_pl\n",
      "['\\\\\\\\hecate\\\\Insurance_US\\\\Product Development\\\\Product Management\\\\Global PPM\\\\Reporting\\\\Data Collection\\\\Production\\\\2021.Q1\\\\live_sources\\\\us_vcomments_pl_05262021084450.parquet']\n"
     ]
    },
    {
     "name": "stdout",
     "output_type": "stream",
     "text": [
      "_pl\n",
      "['\\\\\\\\hecate\\\\Insurance_US\\\\Product Development\\\\Product Management\\\\Global PPM\\\\Reporting\\\\Data Collection\\\\Production\\\\2021.Q1\\\\live_sources\\\\us_survey_pl_05262021084708.parquet']\n"
     ]
    },
    {
     "name": "stdout",
     "output_type": "stream",
     "text": [
      "Original Data Set\n"
     ]
    },
    {
     "name": "stdout",
     "output_type": "stream",
     "text": [
      "Final Data Set\n"
     ]
    },
    {
     "name": "stdout",
     "output_type": "stream",
     "text": [
      "Validations\n"
     ]
    },
    {
     "name": "stdout",
     "output_type": "stream",
     "text": [
      "Survey\n"
     ]
    },
    {
     "name": "stdout",
     "output_type": "stream",
     "text": [
      "_au\n",
      "['\\\\\\\\hecate\\\\Insurance_US\\\\Product Development\\\\Product Management\\\\Global PPM\\\\Reporting\\\\Data Collection\\\\Production\\\\2021.Q1\\\\live_sources\\\\us_orig_au_05142021143611.json']\n"
     ]
    },
    {
     "name": "stdout",
     "output_type": "stream",
     "text": [
      "_au\n",
      "['\\\\\\\\hecate\\\\Insurance_US\\\\Product Development\\\\Product Management\\\\Global PPM\\\\Reporting\\\\Data Collection\\\\Production\\\\2021.Q1\\\\live_sources\\\\us_dat_au_05142021143612.parquet']\n"
     ]
    },
    {
     "name": "stdout",
     "output_type": "stream",
     "text": [
      "_au\n",
      "['\\\\\\\\hecate\\\\Insurance_US\\\\Product Development\\\\Product Management\\\\Global PPM\\\\Reporting\\\\Data Collection\\\\Production\\\\2021.Q1\\\\live_sources\\\\us_vcomments_au_02172021174434.parquet', '\\\\\\\\hecate\\\\Insurance_US\\\\Product Development\\\\Product Management\\\\Global PPM\\\\Reporting\\\\Data Collection\\\\Production\\\\2021.Q1\\\\live_sources\\\\us_vcomments_au_02172021174440.parquet', '\\\\\\\\hecate\\\\Insurance_US\\\\Product Development\\\\Product Management\\\\Global PPM\\\\Reporting\\\\Data Collection\\\\Production\\\\2021.Q1\\\\live_sources\\\\us_vcomments_au_05142021143612.parquet', '\\\\\\\\hecate\\\\Insurance_US\\\\Product Development\\\\Product Management\\\\Global PPM\\\\Reporting\\\\Data Collection\\\\Production\\\\2021.Q1\\\\live_sources\\\\us_vcomments_au_05142021143617.parquet', '\\\\\\\\hecate\\\\Insurance_US\\\\Product Development\\\\Product Management\\\\Global PPM\\\\Reporting\\\\Data Collection\\\\Production\\\\2021.Q1\\\\live_sources\\\\us_vcomments_au_mnual_creation.parquet']\n"
     ]
    },
    {
     "name": "stdout",
     "output_type": "stream",
     "text": [
      "_au\n",
      "['\\\\\\\\hecate\\\\Insurance_US\\\\Product Development\\\\Product Management\\\\Global PPM\\\\Reporting\\\\Data Collection\\\\Production\\\\2021.Q1\\\\live_sources\\\\us_survey_au_02172021174808.parquet', '\\\\\\\\hecate\\\\Insurance_US\\\\Product Development\\\\Product Management\\\\Global PPM\\\\Reporting\\\\Data Collection\\\\Production\\\\2021.Q1\\\\live_sources\\\\us_survey_au_05142021143750.parquet']\n"
     ]
    },
    {
     "name": "stdout",
     "output_type": "stream",
     "text": [
      "Original Data Set\n"
     ]
    },
    {
     "name": "stdout",
     "output_type": "stream",
     "text": [
      "Final Data Set\n"
     ]
    },
    {
     "name": "stdout",
     "output_type": "stream",
     "text": [
      "Validations\n"
     ]
    },
    {
     "name": "stdout",
     "output_type": "stream",
     "text": [
      "Survey\n"
     ]
    },
    {
     "name": "stdout",
     "output_type": "stream",
     "text": [
      "_it\n",
      "['\\\\\\\\hecate\\\\Insurance_US\\\\Product Development\\\\Product Management\\\\Global PPM\\\\Reporting\\\\Data Collection\\\\Production\\\\2021.Q1\\\\live_sources\\\\us_orig_it_05242021111520.parquet']\n"
     ]
    },
    {
     "name": "stdout",
     "output_type": "stream",
     "text": [
      "_it\n",
      "['\\\\\\\\hecate\\\\Insurance_US\\\\Product Development\\\\Product Management\\\\Global PPM\\\\Reporting\\\\Data Collection\\\\Production\\\\2021.Q1\\\\live_sources\\\\us_dat_it_05242021111520.parquet']\n"
     ]
    },
    {
     "name": "stdout",
     "output_type": "stream",
     "text": [
      "_it\n",
      "['\\\\\\\\hecate\\\\Insurance_US\\\\Product Development\\\\Product Management\\\\Global PPM\\\\Reporting\\\\Data Collection\\\\Production\\\\2021.Q1\\\\live_sources\\\\us_vcomments_it_05242021111521.parquet']\n"
     ]
    },
    {
     "name": "stdout",
     "output_type": "stream",
     "text": [
      "_it\n",
      "['\\\\\\\\hecate\\\\Insurance_US\\\\Product Development\\\\Product Management\\\\Global PPM\\\\Reporting\\\\Data Collection\\\\Production\\\\2021.Q1\\\\live_sources\\\\us_survey_it_05242021111759.parquet']\n"
     ]
    },
    {
     "name": "stdout",
     "output_type": "stream",
     "text": [
      "Original Data Set\n"
     ]
    },
    {
     "name": "stdout",
     "output_type": "stream",
     "text": [
      "Final Data Set\n"
     ]
    },
    {
     "name": "stdout",
     "output_type": "stream",
     "text": [
      "Validations\n"
     ]
    },
    {
     "name": "stdout",
     "output_type": "stream",
     "text": [
      "Survey\n"
     ]
    },
    {
     "name": "stdout",
     "output_type": "stream",
     "text": [
      "_ch\n",
      "['\\\\\\\\hecate\\\\Insurance_US\\\\Product Development\\\\Product Management\\\\Global PPM\\\\Reporting\\\\Data Collection\\\\Production\\\\2021.Q1\\\\live_sources\\\\us_orig_ch_05182021192455.parquet']\n"
     ]
    },
    {
     "name": "stdout",
     "output_type": "stream",
     "text": [
      "_ch\n",
      "['\\\\\\\\hecate\\\\Insurance_US\\\\Product Development\\\\Product Management\\\\Global PPM\\\\Reporting\\\\Data Collection\\\\Production\\\\2021.Q1\\\\live_sources\\\\us_dat_ch_05182021192455.parquet']\n"
     ]
    },
    {
     "name": "stdout",
     "output_type": "stream",
     "text": [
      "_ch\n",
      "['\\\\\\\\hecate\\\\Insurance_US\\\\Product Development\\\\Product Management\\\\Global PPM\\\\Reporting\\\\Data Collection\\\\Production\\\\2021.Q1\\\\live_sources\\\\us_vcomments_ch_05182021192455.parquet', '\\\\\\\\hecate\\\\Insurance_US\\\\Product Development\\\\Product Management\\\\Global PPM\\\\Reporting\\\\Data Collection\\\\Production\\\\2021.Q1\\\\live_sources\\\\us_vcomments_ch_05182021192456.parquet']\n"
     ]
    },
    {
     "name": "stdout",
     "output_type": "stream",
     "text": [
      "_ch\n",
      "['\\\\\\\\hecate\\\\Insurance_US\\\\Product Development\\\\Product Management\\\\Global PPM\\\\Reporting\\\\Data Collection\\\\Production\\\\2021.Q1\\\\live_sources\\\\us_survey_ch_05182021192905.parquet']\n"
     ]
    },
    {
     "name": "stdout",
     "output_type": "stream",
     "text": [
      "Original Data Set\n"
     ]
    },
    {
     "name": "stdout",
     "output_type": "stream",
     "text": [
      "Final Data Set\n"
     ]
    },
    {
     "name": "stdout",
     "output_type": "stream",
     "text": [
      "Validations\n"
     ]
    },
    {
     "name": "stdout",
     "output_type": "stream",
     "text": [
      "Survey\n"
     ]
    }
   ],
   "source": [
    "\n",
    "datafiles = [ \"us_orig\", \"us_dat\", \"us_vcomment\", \"us_survey\", ]\n",
    "\n",
    "for b in BU_list:\n",
    "    \n",
    "    latest_data_sets = []\n",
    "\n",
    "    for i in datafiles:\n",
    "        \n",
    "        print(f\"_{b.lower()}\")\n",
    "        list_files = list(filter(lambda x: f\"{i}\" in  x and f\"_{b.lower()}_\" in  x  , files_sources))  \n",
    "        print(list_files)\n",
    "        recent_vers = max(list_files, key=os.path.getctime)\n",
    "        try:\n",
    "            latest_data_sets.append([f'{i}',pd.read_json(recent_vers, orient=\"table\")])\n",
    "\n",
    "        except UnicodeDecodeError:\n",
    "            latest_data_sets.append([f'{i}',pd.read_parquet(recent_vers, engine=\"pyarrow\")])\n",
    "\n",
    "    data_set_dict = {}\n",
    "    data_set_dict[\"Original Data Set\"] = latest_data_sets[0][1]\n",
    "    data_set_dict[\"Final Data Set\"] = latest_data_sets[1][1]\n",
    "    data_set_dict[\"Validations\"] = latest_data_sets[2][1]\n",
    "    data_set_dict[\"Survey\"] = latest_data_sets[3][1].T.reset_index().rename(columns={'index':'Question Name', 0 :'Selection', 1:'Optional Response',2:'timestamp'})\n",
    "\n",
    "    nl.to_excel_ms(dfs=data_set_dict, filename=os.path.join(rep_path, f'Survey and Comments_{b}.xlsx'))\n"
   ]
  },
  {
   "cell_type": "code",
   "execution_count": 13,
   "id": "760fa659",
   "metadata": {
    "execution": {
     "iopub.execute_input": "2021-05-27T17:06:51.668036Z",
     "iopub.status.busy": "2021-05-27T17:06:51.666518Z",
     "iopub.status.idle": "2021-05-27T17:06:51.670040Z",
     "shell.execute_reply": "2021-05-27T17:06:51.671039Z"
    },
    "papermill": {
     "duration": 0.320057,
     "end_time": "2021-05-27T17:06:51.671039",
     "exception": false,
     "start_time": "2021-05-27T17:06:51.350982",
     "status": "completed"
    },
    "tags": []
   },
   "outputs": [],
   "source": [
    "### Open the folder with the documents saved"
   ]
  },
  {
   "cell_type": "code",
   "execution_count": 14,
   "id": "f8737387",
   "metadata": {
    "execution": {
     "iopub.execute_input": "2021-05-27T17:06:52.403566Z",
     "iopub.status.busy": "2021-05-27T17:06:52.402560Z",
     "iopub.status.idle": "2021-05-27T17:06:52.728251Z",
     "shell.execute_reply": "2021-05-27T17:06:52.730253Z"
    },
    "papermill": {
     "duration": 0.690785,
     "end_time": "2021-05-27T17:06:52.730253",
     "exception": false,
     "start_time": "2021-05-27T17:06:52.039468",
     "status": "completed"
    },
    "tags": []
   },
   "outputs": [],
   "source": [
    "os.startfile(rep_path)"
   ]
  },
  {
   "cell_type": "code",
   "execution_count": null,
   "id": "c90e95c0",
   "metadata": {
    "papermill": {
     "duration": 0.629649,
     "end_time": "2021-05-27T17:06:53.922384",
     "exception": false,
     "start_time": "2021-05-27T17:06:53.292735",
     "status": "completed"
    },
    "tags": []
   },
   "outputs": [],
   "source": []
  }
 ],
 "metadata": {
  "celltoolbar": "Tags",
  "kernelspec": {
   "display_name": "Python 3",
   "language": "python",
   "name": "python3"
  },
  "language_info": {
   "codemirror_mode": {
    "name": "ipython",
    "version": 3
   },
   "file_extension": ".py",
   "mimetype": "text/x-python",
   "name": "python",
   "nbconvert_exporter": "python",
   "pygments_lexer": "ipython3",
   "version": "3.7.6"
  },
  "papermill": {
   "default_parameters": {},
   "duration": 482.739538,
   "end_time": "2021-05-27T17:06:57.203325",
   "environment_variables": {},
   "exception": null,
   "input_path": "reporting/Make Survey and Comments Reports.ipynb",
   "output_path": "//hecate/Insurance_US/Product Development/Product Management/Global PPM/Reporting/Data Collection/Pipeline Reporting Scripts/GPMpipeline/instances/2021.Q1\\reporting\\Make Survey and Comments Reports05272021121925--Demo.ipynb",
   "parameters": {
    "commit_message": "Demo Test",
    "inst_datetime": "05272021121925",
    "percode": "2021.Q1",
    "run_control": 1
   },
   "start_time": "2021-05-27T16:58:54.463787",
   "version": "2.3.3"
  }
 },
 "nbformat": 4,
 "nbformat_minor": 5
}