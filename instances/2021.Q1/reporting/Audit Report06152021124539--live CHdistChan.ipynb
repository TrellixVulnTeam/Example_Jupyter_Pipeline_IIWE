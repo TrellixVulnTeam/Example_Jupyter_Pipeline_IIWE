{
 "cells": [
  {
   "cell_type": "markdown",
   "id": "812b6c74",
   "metadata": {
    "papermill": {
     "duration": 0.311157,
     "end_time": "2021-06-15T17:03:20.114092",
     "exception": false,
     "start_time": "2021-06-15T17:03:19.802935",
     "status": "completed"
    },
    "tags": []
   },
   "source": [
    "<img src=\"../images/AzPTravel_PPM.png\">"
   ]
  },
  {
   "cell_type": "markdown",
   "id": "354f4c1d",
   "metadata": {
    "papermill": {
     "duration": 0.337978,
     "end_time": "2021-06-15T17:03:20.768033",
     "exception": false,
     "start_time": "2021-06-15T17:03:20.430055",
     "status": "completed"
    },
    "tags": []
   },
   "source": [
    "# Audit Report\n",
    "\n",
    "## This script reads the output of the of the final data files and compares them to inputs. \n",
    "\n",
    "#### Euro Check\n",
    "- Compare the deltas on teh Localcurr to the source and raise errors if they do not match\n",
    "\n",
    "#### Prior over Period Check\n",
    "- Quickly compare period over period and YoY final data files for major KPI's and row counts. \n",
    "\n"
   ]
  },
  {
   "cell_type": "markdown",
   "id": "a514984c",
   "metadata": {
    "papermill": {
     "duration": 0.252937,
     "end_time": "2021-06-15T17:03:21.328245",
     "exception": false,
     "start_time": "2021-06-15T17:03:21.075308",
     "status": "completed"
    },
    "tags": []
   },
   "source": [
    "### User Variables\n",
    "- These are overwritten if inherited from run_control.ipynb.\n",
    "- Feel Free to reset them for a manual run if you like\n",
    "- Do not save without percode = \"-f\""
   ]
  },
  {
   "cell_type": "code",
   "execution_count": 1,
   "id": "189939a9",
   "metadata": {
    "execution": {
     "iopub.execute_input": "2021-06-15T17:03:21.964393Z",
     "iopub.status.busy": "2021-06-15T17:03:21.961392Z",
     "iopub.status.idle": "2021-06-15T17:03:21.970389Z",
     "shell.execute_reply": "2021-06-15T17:03:21.984387Z"
    },
    "papermill": {
     "duration": 0.336489,
     "end_time": "2021-06-15T17:03:21.984387",
     "exception": false,
     "start_time": "2021-06-15T17:03:21.647898",
     "status": "completed"
    },
    "tags": [
     "parameters"
    ]
   },
   "outputs": [],
   "source": [
    "commit_message = \"Development and testing.\"\n",
    "# Give a brief reason for the run.\n",
    "\n",
    "run_control = 1\n",
    "#run_type = 0 - Lite run with no reporting, not recommended.\n",
    "#run_type = 1 - Lite run with normal reporting, default setting.\n",
    "#run_type = 2 - Heavy run with full reporting, available for audits and troubleshooting.\n",
    "#run_type = 5 - A default setting. Indicates the script is being run by an outside process without an inherited value\n",
    "\n",
    "percode = \"2021.Q1\"\n",
    "# Data Collection Code, this controls file paths and output names\n",
    "# \"-f\" is the value indicating a bad inheritance from run with arg\n",
    "\n",
    "s_format = \"p\"\n",
    "# denotes the source data format x == Excel; j == json, p == parquet\n",
    "\n",
    "#----------\n",
    "# do not edit - this either inherits the full instance timestamp from the papermill book or captures the run time of this script.\n",
    "from datetime import datetime  # datetime options\n",
    "inst_datetime = datetime.now().strftime(\"%m%d%Y%H%M%S\")"
   ]
  },
  {
   "cell_type": "code",
   "execution_count": 2,
   "id": "1e3e3a02",
   "metadata": {
    "execution": {
     "iopub.execute_input": "2021-06-15T17:03:22.591498Z",
     "iopub.status.busy": "2021-06-15T17:03:22.591498Z",
     "iopub.status.idle": "2021-06-15T17:03:22.607270Z",
     "shell.execute_reply": "2021-06-15T17:03:22.607270Z"
    },
    "papermill": {
     "duration": 0.2931,
     "end_time": "2021-06-15T17:03:22.607270",
     "exception": false,
     "start_time": "2021-06-15T17:03:22.314170",
     "status": "completed"
    },
    "tags": [
     "injected-parameters"
    ]
   },
   "outputs": [],
   "source": [
    "# Parameters\n",
    "run_control = 1\n",
    "percode = \"2021.Q1\"\n",
    "commit_message = \"Live run, add CH dist Channels\"\n",
    "inst_datetime = \"06152021124539\"\n"
   ]
  },
  {
   "cell_type": "markdown",
   "id": "7e1c41cf",
   "metadata": {
    "papermill": {
     "duration": 0.312918,
     "end_time": "2021-06-15T17:03:23.223334",
     "exception": false,
     "start_time": "2021-06-15T17:03:22.910416",
     "status": "completed"
    },
    "tags": []
   },
   "source": [
    "#### Notebook display options"
   ]
  },
  {
   "cell_type": "code",
   "execution_count": 3,
   "id": "9595fb60",
   "metadata": {
    "execution": {
     "iopub.execute_input": "2021-06-15T17:03:23.885116Z",
     "iopub.status.busy": "2021-06-15T17:03:23.881116Z",
     "iopub.status.idle": "2021-06-15T17:03:23.890116Z",
     "shell.execute_reply": "2021-06-15T17:03:23.891115Z"
    },
    "papermill": {
     "duration": 0.284838,
     "end_time": "2021-06-15T17:03:23.891115",
     "exception": false,
     "start_time": "2021-06-15T17:03:23.606277",
     "status": "completed"
    },
    "tags": []
   },
   "outputs": [],
   "source": [
    "from IPython.core.interactiveshell import InteractiveShell\n",
    "InteractiveShell.ast_node_interactivity = \"all\"\n"
   ]
  },
  {
   "cell_type": "markdown",
   "id": "ab55acc6",
   "metadata": {
    "papermill": {
     "duration": 0.251973,
     "end_time": "2021-06-15T17:03:24.378141",
     "exception": false,
     "start_time": "2021-06-15T17:03:24.126168",
     "status": "completed"
    },
    "tags": []
   },
   "source": [
    "#### import packages"
   ]
  },
  {
   "cell_type": "code",
   "execution_count": 4,
   "id": "deaa8854",
   "metadata": {
    "execution": {
     "iopub.execute_input": "2021-06-15T17:03:25.010062Z",
     "iopub.status.busy": "2021-06-15T17:03:25.005065Z",
     "iopub.status.idle": "2021-06-15T17:03:36.065223Z",
     "shell.execute_reply": "2021-06-15T17:03:36.067185Z"
    },
    "papermill": {
     "duration": 11.382083,
     "end_time": "2021-06-15T17:03:36.067185",
     "exception": false,
     "start_time": "2021-06-15T17:03:24.685102",
     "status": "completed"
    },
    "tags": []
   },
   "outputs": [],
   "source": [
    "#### Packages used\n",
    "\n",
    "import os # System commands\n",
    "import sys # System commands\n",
    "\n",
    "import warnings # custom warnigns options\n",
    "\n",
    "import glob # Directory operations\n",
    "import getpass # Work with parquet\n",
    "import json # Work with json\n",
    "\n",
    "import matplotlib.pyplot as plt #Plots and Graphs\n",
    "import seaborn as sns #Plots and Graphs\n",
    "import numpy as np # Series and math\n",
    "import pandas as pd #DataFrame and math\n",
    "\n",
    "#excel operations\n",
    "import re\n",
    "import nicexcel as nl # Excel operations\n",
    "import xlsxwriter # Excel operations\n",
    "import openpyxl # Excel operations\n",
    "\n",
    "#Not sure, test if needed\n",
    "import timeit\n",
    "\n"
   ]
  },
  {
   "cell_type": "markdown",
   "id": "ec2ffa72",
   "metadata": {
    "papermill": {
     "duration": 0.317987,
     "end_time": "2021-06-15T17:03:36.682111",
     "exception": false,
     "start_time": "2021-06-15T17:03:36.364124",
     "status": "completed"
    },
    "tags": []
   },
   "source": [
    "#### Default Variables, these govern logic, do not edit."
   ]
  },
  {
   "cell_type": "code",
   "execution_count": 5,
   "id": "325456c2",
   "metadata": {
    "execution": {
     "iopub.execute_input": "2021-06-15T17:03:37.331994Z",
     "iopub.status.busy": "2021-06-15T17:03:37.331994Z",
     "iopub.status.idle": "2021-06-15T17:03:37.337996Z",
     "shell.execute_reply": "2021-06-15T17:03:37.338999Z"
    },
    "papermill": {
     "duration": 0.313967,
     "end_time": "2021-06-15T17:03:37.338999",
     "exception": false,
     "start_time": "2021-06-15T17:03:37.025032",
     "status": "completed"
    },
    "tags": []
   },
   "outputs": [],
   "source": [
    "default_dc = \"20XX.QX\"\n",
    "default_rc = 0 #extra lite mode\n",
    "dummy_perc = \"33Q3\" # bad inheritance"
   ]
  },
  {
   "cell_type": "markdown",
   "id": "c26ee175",
   "metadata": {
    "papermill": {
     "duration": 0.263815,
     "end_time": "2021-06-15T17:03:37.867808",
     "exception": false,
     "start_time": "2021-06-15T17:03:37.603993",
     "status": "completed"
    },
    "tags": []
   },
   "source": [
    "#### Script determining run context ie, manual, run_control.ipynb, or other."
   ]
  },
  {
   "cell_type": "code",
   "execution_count": 6,
   "id": "b18a9254",
   "metadata": {
    "execution": {
     "iopub.execute_input": "2021-06-15T17:03:38.441259Z",
     "iopub.status.busy": "2021-06-15T17:03:38.427260Z",
     "iopub.status.idle": "2021-06-15T17:03:38.451256Z",
     "shell.execute_reply": "2021-06-15T17:03:38.452255Z"
    },
    "papermill": {
     "duration": 0.283005,
     "end_time": "2021-06-15T17:03:38.453307",
     "exception": false,
     "start_time": "2021-06-15T17:03:38.170302",
     "status": "completed"
    },
    "tags": []
   },
   "outputs": [],
   "source": [
    "if run_control == 5:\n",
    "    run_control = default_rc \n",
    "else:\n",
    "    run_control = run_control\n",
    "\n",
    "try:\n",
    "    if sys.argv[1] == \"-f\":\n",
    "        percode = percode\n",
    "    else:\n",
    "        percode = sys.argv[1]\n",
    "\n",
    "except IndexError:\n",
    "    percode = default_dc\n",
    "except NameError:\n",
    "    percode = default_dc\n",
    "\n",
    "\n",
    "if percode == \"2021.Q1\":\n",
    "    \n",
    "     prev_percode = \"2020.Q4\"\n",
    "     prev_yearcode = \"2020.Q1\"\n",
    "\n",
    "elif percode == \"2020.Q4\":\n",
    "    \n",
    "     prev_percode = \"2020.Q3\"\n",
    "     prev_yearcode = \"2019.Q4\"\n",
    "\n",
    "elif percode == \"2020.Q3\":\n",
    "    \n",
    "     prev_percode = \"2020.Q1\"\n",
    "     prev_yearcode = \"none\"    \n",
    "\n",
    "elif percode == \"2020.Q1\":\n",
    "    \n",
    "     prev_percode = \"2019.Q4\"\n",
    "     prev_yearcode = \"none\"   "
   ]
  },
  {
   "cell_type": "markdown",
   "id": "b3e3a5b3",
   "metadata": {
    "papermill": {
     "duration": 0.273986,
     "end_time": "2021-06-15T17:03:39.018207",
     "exception": false,
     "start_time": "2021-06-15T17:03:38.744221",
     "status": "completed"
    },
    "tags": []
   },
   "source": [
    "#### style settings"
   ]
  },
  {
   "cell_type": "code",
   "execution_count": 7,
   "id": "578ab35e",
   "metadata": {
    "execution": {
     "iopub.execute_input": "2021-06-15T17:03:39.681116Z",
     "iopub.status.busy": "2021-06-15T17:03:39.675116Z",
     "iopub.status.idle": "2021-06-15T17:03:39.688104Z",
     "shell.execute_reply": "2021-06-15T17:03:39.690102Z"
    },
    "papermill": {
     "duration": 0.327946,
     "end_time": "2021-06-15T17:03:39.690102",
     "exception": false,
     "start_time": "2021-06-15T17:03:39.362156",
     "status": "completed"
    },
    "tags": []
   },
   "outputs": [],
   "source": [
    "from IPython.core.interactiveshell import InteractiveShell\n",
    "InteractiveShell.ast_node_interactivity = \"all\"\n",
    "\n",
    "pd.set_option('display.float_format', lambda x: '%.5f' % x)"
   ]
  },
  {
   "cell_type": "markdown",
   "id": "128089a8",
   "metadata": {
    "papermill": {
     "duration": 0.263969,
     "end_time": "2021-06-15T17:03:40.220905",
     "exception": false,
     "start_time": "2021-06-15T17:03:39.956936",
     "status": "completed"
    },
    "tags": []
   },
   "source": [
    "\n",
    "## Begin Input Read\n",
    "- Make paths used in script\n",
    "- all paths should be modular and easily replaced ahead of operations."
   ]
  },
  {
   "cell_type": "code",
   "execution_count": 8,
   "id": "5c0c11c1",
   "metadata": {
    "execution": {
     "iopub.execute_input": "2021-06-15T17:03:40.783840Z",
     "iopub.status.busy": "2021-06-15T17:03:40.777835Z",
     "iopub.status.idle": "2021-06-15T17:03:40.814836Z",
     "shell.execute_reply": "2021-06-15T17:03:40.816828Z"
    },
    "papermill": {
     "duration": 0.345962,
     "end_time": "2021-06-15T17:03:40.817838",
     "exception": false,
     "start_time": "2021-06-15T17:03:40.471876",
     "status": "completed"
    },
    "tags": []
   },
   "outputs": [],
   "source": [
    "#root directory\n",
    "rt_path = f'\\\\\\\\hecate\\\\Insurance_US\\\\Product Development\\\\Product Management\\\\Global PPM\\\\Reporting\\Data Collection'\n",
    "\n",
    "# Euro file dir\n",
    "euro_conv_source_path =current_path = os.path.join(rt_path ,percode,'External Resources')\n",
    "\n",
    "# Source file dirs\n",
    "current_path = os.path.join(rt_path ,\"Production\" , percode)\n",
    "previous_period_path = os.path.join(rt_path ,\"Production\" , prev_percode)\n",
    "previous_year_path = os.path.join(rt_path ,\"Production\" , prev_yearcode )\n",
    "\n",
    "\n"
   ]
  },
  {
   "cell_type": "markdown",
   "id": "c5eae5aa",
   "metadata": {
    "papermill": {
     "duration": 0.270967,
     "end_time": "2021-06-15T17:03:41.354759",
     "exception": false,
     "start_time": "2021-06-15T17:03:41.083792",
     "status": "completed"
    },
    "tags": []
   },
   "source": [
    "#### Make sources used in script\n",
    "- all sources should be modular and easily replaced ahead of operations."
   ]
  },
  {
   "cell_type": "code",
   "execution_count": 9,
   "id": "d6ab3a2d",
   "metadata": {
    "execution": {
     "iopub.execute_input": "2021-06-15T17:03:41.948348Z",
     "iopub.status.busy": "2021-06-15T17:03:41.913940Z",
     "iopub.status.idle": "2021-06-15T17:03:41.979348Z",
     "shell.execute_reply": "2021-06-15T17:03:41.980340Z"
    },
    "papermill": {
     "duration": 0.370606,
     "end_time": "2021-06-15T17:03:41.980340",
     "exception": false,
     "start_time": "2021-06-15T17:03:41.609734",
     "status": "completed"
    },
    "tags": []
   },
   "outputs": [],
   "source": [
    "if \"Q1\" in percode:\n",
    "\n",
    "    EURRATES = str.replace(f\"EURRATES {percode}.xlsx\",\"Q1\",\"03.31\")\n",
    "\n",
    "elif  \"Q2\" in percode:\n",
    "\n",
    "    EURRATES = str.replace(f\"EURRATES {percode}.xlsx\",\"Q2\",\"06.30\")\n",
    "\n",
    "elif  \"Q3\" in percode:\n",
    "\n",
    "    EURRATES = str.replace(f\"EURRATES {percode}.xlsx\",\"Q2\",\"09.30\")\n",
    "    \n",
    "elif  \"Q4\" in percode:\n",
    "\n",
    "    EURRATES = str.replace(f\"EURRATES {percode}.xlsx\",\"Q2\",\"12.31\")\n",
    "    \n",
    "eurrates = os.path.join( euro_conv_source_path,   EURRATES)\n",
    "\n",
    "\n",
    "\n",
    "current_lc_file = os.path.join(current_path  ,f'{percode}.localcur.csv')\n",
    "current_eur_file  = os.path.join(current_path  ,f'{percode}.euroconv.csv')\n",
    "\n",
    "previous_period_lc_file = os.path.join(previous_period_path ,f'{ prev_percode}.localcur.csv')\n",
    "previous_period_eur_file  = os.path.join(previous_period_path ,f'{ prev_percode}.euroconv.csv')\n",
    "\n",
    "previous_year_lc_file = os.path.join(previous_year_path  ,f'{ prev_yearcode}.localcur.csv')\n",
    "previous_year_eur_file  = os.path.join(previous_year_path ,f'{ prev_yearcode}.euroconv.csv')\n"
   ]
  },
  {
   "cell_type": "markdown",
   "id": "968d9361",
   "metadata": {
    "papermill": {
     "duration": 0.295588,
     "end_time": "2021-06-15T17:03:42.638167",
     "exception": false,
     "start_time": "2021-06-15T17:03:42.342579",
     "status": "completed"
    },
    "tags": []
   },
   "source": [
    "#### import data"
   ]
  },
  {
   "cell_type": "code",
   "execution_count": 10,
   "id": "9199c091",
   "metadata": {
    "execution": {
     "iopub.execute_input": "2021-06-15T17:03:43.182054Z",
     "iopub.status.busy": "2021-06-15T17:03:43.181060Z",
     "iopub.status.idle": "2021-06-15T17:04:28.800598Z",
     "shell.execute_reply": "2021-06-15T17:04:28.801597Z"
    },
    "papermill": {
     "duration": 45.893504,
     "end_time": "2021-06-15T17:04:28.802598",
     "exception": false,
     "start_time": "2021-06-15T17:03:42.909094",
     "status": "completed"
    },
    "tags": []
   },
   "outputs": [],
   "source": [
    "eurrates_df = pd.read_excel(eurrates,sheet_name = \"Output\")\n",
    "\n",
    "\n",
    "current_lc_df = pd.read_csv(current_lc_file , engine='python') \n",
    "current_eur_df = pd.read_csv(current_eur_file , engine='python') \n",
    "\n",
    "\n",
    "previous_period_lc_df = pd.read_csv(previous_period_lc_file, engine='python')\n",
    "previous_period_eur_df = pd.read_csv(previous_period_eur_file , engine='python')\n",
    "\n",
    "\n",
    "previous_year_lc_df = pd.read_csv(previous_year_lc_file, engine='python') \n",
    "previous_year_eur_df = pd.read_csv(previous_year_eur_file , engine='python')\n",
    "\n"
   ]
  },
  {
   "cell_type": "markdown",
   "id": "4795b7bd",
   "metadata": {
    "papermill": {
     "duration": 0.312922,
     "end_time": "2021-06-15T17:04:29.411519",
     "exception": false,
     "start_time": "2021-06-15T17:04:29.098597",
     "status": "completed"
    },
    "tags": []
   },
   "source": [
    "## Begin Audits\n",
    "\n",
    "#### Euro Conversion Check.\n",
    "- Each major KPI evaluated bu Country by Currency in the source files and the official Allianz Connect reference report."
   ]
  },
  {
   "cell_type": "code",
   "execution_count": 11,
   "id": "2f91dfbc",
   "metadata": {
    "execution": {
     "iopub.execute_input": "2021-06-15T17:04:30.094509Z",
     "iopub.status.busy": "2021-06-15T17:04:30.089510Z",
     "iopub.status.idle": "2021-06-15T17:04:30.145503Z",
     "shell.execute_reply": "2021-06-15T17:04:30.146501Z"
    },
    "papermill": {
     "duration": 0.420018,
     "end_time": "2021-06-15T17:04:30.146501",
     "exception": false,
     "start_time": "2021-06-15T17:04:29.726483",
     "status": "completed"
    },
    "tags": []
   },
   "outputs": [],
   "source": [
    "attributes = ['country', 'currency']\n",
    "\n",
    "alt_attributes = ['Country', 'Currency']\n",
    "\n",
    "comparison_fields = [\n",
    " 'written_revenues_net_of_taxes',\n",
    " 'written_revenues',\n",
    " 'earned_revenues_net_of_taxes',\n",
    " 'earned_revenues',\n",
    " 'total_compensation',\n",
    "  'actual_incurred_losses_(paid_+_ocr_+_ibnr)',\n",
    " 'total_expenses',\n",
    " 'profit_or_loss',\n",
    "]\n",
    "\n",
    "\n",
    "alt_comparison_fields = [\n",
    "'Written Revenues net of Taxes',\n",
    " 'Written Revenues',\n",
    " 'Earned Revenues net of Taxes',\n",
    " 'Earned Revenues',\n",
    " 'Total Compensation',\n",
    " 'Actual Incurred Losses (Paid + OCR + IBNR)',\n",
    " 'Total Expenses',\n",
    " 'Profit or Loss',\n",
    "]\n",
    "\n",
    "view_cols = [] \n",
    "\n",
    "for a in attributes: view_cols.append(a)\n",
    "for c in comparison_fields: view_cols.append(c)\n",
    "\n",
    "    \n",
    "    \n",
    "alt_view_cols = [] \n",
    "\n",
    "for a in alt_attributes: alt_view_cols.append(a)\n",
    "for c in alt_comparison_fields: alt_view_cols.append(c)\n",
    "    \n",
    "\n",
    "current_eur_view =  current_eur_df[view_cols].groupby(attributes).sum()\n",
    "\n",
    "try:\n",
    "    current_lc_view =  current_lc_df[view_cols].groupby(attributes).sum()\n",
    "\n",
    "except KeyError:\n",
    "    current_lc_view =  current_lc_df[alt_view_cols].groupby(alt_attributes).sum()  \n",
    "    \n",
    "\n",
    "previous_period_eur_view =  previous_period_eur_df[view_cols].groupby(attributes).sum()    \n",
    "previous_year_eur_view =  previous_year_eur_df[view_cols].groupby(attributes).sum()    \n",
    "\n",
    "\n"
   ]
  },
  {
   "cell_type": "code",
   "execution_count": 12,
   "id": "b337d72f",
   "metadata": {
    "execution": {
     "iopub.execute_input": "2021-06-15T17:04:30.659981Z",
     "iopub.status.busy": "2021-06-15T17:04:30.658981Z",
     "iopub.status.idle": "2021-06-15T17:04:30.969945Z",
     "shell.execute_reply": "2021-06-15T17:04:30.971945Z"
    },
    "papermill": {
     "duration": 0.586922,
     "end_time": "2021-06-15T17:04:30.972941",
     "exception": false,
     "start_time": "2021-06-15T17:04:30.386019",
     "status": "completed"
    },
    "tags": []
   },
   "outputs": [
    {
     "name": "stderr",
     "output_type": "stream",
     "text": [
      "C:\\Users\\gharmo\\Anaconda3\\lib\\site-packages\\ipykernel_launcher.py:9: UserWarning: Boolean Series key will be reindexed to match DataFrame index.\n",
      "  if __name__ == '__main__':\n"
     ]
    },
    {
     "data": {
      "text/html": [
       "<div>\n",
       "<style scoped>\n",
       "    .dataframe tbody tr th:only-of-type {\n",
       "        vertical-align: middle;\n",
       "    }\n",
       "\n",
       "    .dataframe tbody tr th {\n",
       "        vertical-align: top;\n",
       "    }\n",
       "\n",
       "    .dataframe thead th {\n",
       "        text-align: right;\n",
       "    }\n",
       "</style>\n",
       "<table border=\"1\" class=\"dataframe\">\n",
       "  <thead>\n",
       "    <tr style=\"text-align: right;\">\n",
       "      <th></th>\n",
       "      <th>country</th>\n",
       "      <th>currency</th>\n",
       "      <th>value</th>\n",
       "    </tr>\n",
       "  </thead>\n",
       "  <tbody>\n",
       "    <tr>\n",
       "      <th>0</th>\n",
       "      <td>AT</td>\n",
       "      <td>EUR</td>\n",
       "      <td>1.00000</td>\n",
       "    </tr>\n",
       "    <tr>\n",
       "      <th>1</th>\n",
       "      <td>AU</td>\n",
       "      <td>AUD</td>\n",
       "      <td>1.54310</td>\n",
       "    </tr>\n",
       "    <tr>\n",
       "      <th>2</th>\n",
       "      <td>BG</td>\n",
       "      <td>EUR</td>\n",
       "      <td>1.00000</td>\n",
       "    </tr>\n",
       "    <tr>\n",
       "      <th>3</th>\n",
       "      <td>CA</td>\n",
       "      <td>CAD</td>\n",
       "      <td>1.47720</td>\n",
       "    </tr>\n",
       "    <tr>\n",
       "      <th>4</th>\n",
       "      <td>CH</td>\n",
       "      <td>CHF</td>\n",
       "      <td>1.10615</td>\n",
       "    </tr>\n",
       "    <tr>\n",
       "      <th>5</th>\n",
       "      <td>CZ</td>\n",
       "      <td>EUR</td>\n",
       "      <td>1.00000</td>\n",
       "    </tr>\n",
       "    <tr>\n",
       "      <th>6</th>\n",
       "      <td>DE</td>\n",
       "      <td>EUR</td>\n",
       "      <td>1.00000</td>\n",
       "    </tr>\n",
       "    <tr>\n",
       "      <th>7</th>\n",
       "      <td>ES</td>\n",
       "      <td>EUR</td>\n",
       "      <td>1.00000</td>\n",
       "    </tr>\n",
       "    <tr>\n",
       "      <th>8</th>\n",
       "      <td>GR</td>\n",
       "      <td>EUR</td>\n",
       "      <td>1.00000</td>\n",
       "    </tr>\n",
       "    <tr>\n",
       "      <th>9</th>\n",
       "      <td>HU</td>\n",
       "      <td>EUR</td>\n",
       "      <td>1.00000</td>\n",
       "    </tr>\n",
       "    <tr>\n",
       "      <th>10</th>\n",
       "      <td>IE</td>\n",
       "      <td>EUR</td>\n",
       "      <td>1.00000</td>\n",
       "    </tr>\n",
       "    <tr>\n",
       "      <th>11</th>\n",
       "      <td>IT</td>\n",
       "      <td>EUR</td>\n",
       "      <td>1.00000</td>\n",
       "    </tr>\n",
       "    <tr>\n",
       "      <th>12</th>\n",
       "      <td>NL</td>\n",
       "      <td>EUR</td>\n",
       "      <td>1.00000</td>\n",
       "    </tr>\n",
       "    <tr>\n",
       "      <th>13</th>\n",
       "      <td>PL</td>\n",
       "      <td>EUR</td>\n",
       "      <td>1.00000</td>\n",
       "    </tr>\n",
       "    <tr>\n",
       "      <th>14</th>\n",
       "      <td>PT</td>\n",
       "      <td>EUR</td>\n",
       "      <td>1.00000</td>\n",
       "    </tr>\n",
       "    <tr>\n",
       "      <th>15</th>\n",
       "      <td>RO</td>\n",
       "      <td>EUR</td>\n",
       "      <td>1.00000</td>\n",
       "    </tr>\n",
       "    <tr>\n",
       "      <th>16</th>\n",
       "      <td>US</td>\n",
       "      <td>USD</td>\n",
       "      <td>1.17530</td>\n",
       "    </tr>\n",
       "  </tbody>\n",
       "</table>\n",
       "</div>"
      ],
      "text/plain": [
       "   country currency   value\n",
       "0       AT      EUR 1.00000\n",
       "1       AU      AUD 1.54310\n",
       "2       BG      EUR 1.00000\n",
       "3       CA      CAD 1.47720\n",
       "4       CH      CHF 1.10615\n",
       "5       CZ      EUR 1.00000\n",
       "6       DE      EUR 1.00000\n",
       "7       ES      EUR 1.00000\n",
       "8       GR      EUR 1.00000\n",
       "9       HU      EUR 1.00000\n",
       "10      IE      EUR 1.00000\n",
       "11      IT      EUR 1.00000\n",
       "12      NL      EUR 1.00000\n",
       "13      PL      EUR 1.00000\n",
       "14      PT      EUR 1.00000\n",
       "15      RO      EUR 1.00000\n",
       "16      US      USD 1.17530"
      ]
     },
     "execution_count": 12,
     "metadata": {},
     "output_type": "execute_result"
    }
   ],
   "source": [
    "\n",
    "calculated_rates = current_lc_view.div(current_eur_view).reset_index()\n",
    "\n",
    "calculated_rates = calculated_rates.melt(id_vars=attributes).reset_index(drop = True)\n",
    "\n",
    "calculated_rates = calculated_rates[[\"country\",\"currency\", \"value\"]]\n",
    "\n",
    "calculated_rates['value'] = calculated_rates['value'].round(5)\n",
    "\n",
    "calculated_rates = calculated_rates.drop_duplicates()[calculated_rates['value'].notna()]\n",
    "calculated_rates "
   ]
  },
  {
   "cell_type": "code",
   "execution_count": 13,
   "id": "0e3bf2ef",
   "metadata": {
    "execution": {
     "iopub.execute_input": "2021-06-15T17:04:31.572630Z",
     "iopub.status.busy": "2021-06-15T17:04:31.571631Z",
     "iopub.status.idle": "2021-06-15T17:04:31.580627Z",
     "shell.execute_reply": "2021-06-15T17:04:31.581627Z"
    },
    "papermill": {
     "duration": 0.313953,
     "end_time": "2021-06-15T17:04:31.581627",
     "exception": false,
     "start_time": "2021-06-15T17:04:31.267674",
     "status": "completed"
    },
    "tags": []
   },
   "outputs": [
    {
     "data": {
      "text/plain": [
       "1.0"
      ]
     },
     "execution_count": 13,
     "metadata": {},
     "output_type": "execute_result"
    }
   ],
   "source": [
    "test = 1\n",
    "\n",
    "if calculated_rates.groupby( attributes).count()['value'].max() != 1: \n",
    "    \n",
    "    test = 0\n",
    "\n",
    "else:\n",
    "    \n",
    "    pass\n",
    "        \n",
    "        \n",
    "1/test # if this is an error you have bad currency conversions and possibly a bad join with extra rows\n",
    "\n",
    "#todo build a proper error class"
   ]
  },
  {
   "cell_type": "code",
   "execution_count": 14,
   "id": "fe3d0564",
   "metadata": {
    "execution": {
     "iopub.execute_input": "2021-06-15T17:04:32.158231Z",
     "iopub.status.busy": "2021-06-15T17:04:32.153237Z",
     "iopub.status.idle": "2021-06-15T17:04:32.168236Z",
     "shell.execute_reply": "2021-06-15T17:04:32.167234Z"
    },
    "papermill": {
     "duration": 0.320639,
     "end_time": "2021-06-15T17:04:32.168236",
     "exception": false,
     "start_time": "2021-06-15T17:04:31.847597",
     "status": "completed"
    },
    "tags": []
   },
   "outputs": [
    {
     "data": {
      "text/plain": [
       "1.0"
      ]
     },
     "execution_count": 14,
     "metadata": {},
     "output_type": "execute_result"
    }
   ],
   "source": [
    "\n",
    "test = 1\n",
    "\n",
    "if len(current_eur_df[attributes].drop_duplicates()) != len(calculated_rates): \n",
    "    \n",
    "    test = 0\n",
    "\n",
    "else:\n",
    "    pass\n",
    "\n",
    "1/test # if this is an error you do not have the same number of country and curreny combos in all views. Major problem!\n",
    "\n",
    "#todo build a proper error class\n",
    "\n"
   ]
  },
  {
   "cell_type": "code",
   "execution_count": 15,
   "id": "2acb908d",
   "metadata": {
    "execution": {
     "iopub.execute_input": "2021-06-15T17:04:32.765224Z",
     "iopub.status.busy": "2021-06-15T17:04:32.755229Z",
     "iopub.status.idle": "2021-06-15T17:04:32.825215Z",
     "shell.execute_reply": "2021-06-15T17:04:32.826251Z"
    },
    "papermill": {
     "duration": 0.381569,
     "end_time": "2021-06-15T17:04:32.827216",
     "exception": false,
     "start_time": "2021-06-15T17:04:32.445647",
     "status": "completed"
    },
    "tags": []
   },
   "outputs": [
    {
     "data": {
      "text/html": [
       "<div>\n",
       "<style scoped>\n",
       "    .dataframe tbody tr th:only-of-type {\n",
       "        vertical-align: middle;\n",
       "    }\n",
       "\n",
       "    .dataframe tbody tr th {\n",
       "        vertical-align: top;\n",
       "    }\n",
       "\n",
       "    .dataframe thead th {\n",
       "        text-align: right;\n",
       "    }\n",
       "</style>\n",
       "<table border=\"1\" class=\"dataframe\">\n",
       "  <thead>\n",
       "    <tr style=\"text-align: right;\">\n",
       "      <th></th>\n",
       "      <th>country</th>\n",
       "      <th>currency</th>\n",
       "      <th>value</th>\n",
       "      <th>CurrCode</th>\n",
       "      <th>Country</th>\n",
       "      <th>EUR_2_LC</th>\n",
       "      <th>LC_2_EUR</th>\n",
       "    </tr>\n",
       "  </thead>\n",
       "  <tbody>\n",
       "    <tr>\n",
       "      <th>0</th>\n",
       "      <td>AT</td>\n",
       "      <td>EUR</td>\n",
       "      <td>1.00000</td>\n",
       "      <td>EUR</td>\n",
       "      <td>Euro</td>\n",
       "      <td>1.00000</td>\n",
       "      <td>1.00000</td>\n",
       "    </tr>\n",
       "    <tr>\n",
       "      <th>1</th>\n",
       "      <td>AU</td>\n",
       "      <td>AUD</td>\n",
       "      <td>1.54310</td>\n",
       "      <td>AUD</td>\n",
       "      <td>Australia</td>\n",
       "      <td>1.54310</td>\n",
       "      <td>0.64805</td>\n",
       "    </tr>\n",
       "    <tr>\n",
       "      <th>2</th>\n",
       "      <td>BG</td>\n",
       "      <td>EUR</td>\n",
       "      <td>1.00000</td>\n",
       "      <td>EUR</td>\n",
       "      <td>Euro</td>\n",
       "      <td>1.00000</td>\n",
       "      <td>1.00000</td>\n",
       "    </tr>\n",
       "    <tr>\n",
       "      <th>3</th>\n",
       "      <td>CA</td>\n",
       "      <td>CAD</td>\n",
       "      <td>1.47720</td>\n",
       "      <td>CAD</td>\n",
       "      <td>Canada</td>\n",
       "      <td>1.47720</td>\n",
       "      <td>0.67696</td>\n",
       "    </tr>\n",
       "    <tr>\n",
       "      <th>4</th>\n",
       "      <td>CH</td>\n",
       "      <td>CHF</td>\n",
       "      <td>1.10615</td>\n",
       "      <td>CHF</td>\n",
       "      <td>Switzerland</td>\n",
       "      <td>1.10615</td>\n",
       "      <td>0.90404</td>\n",
       "    </tr>\n",
       "    <tr>\n",
       "      <th>5</th>\n",
       "      <td>CZ</td>\n",
       "      <td>EUR</td>\n",
       "      <td>1.00000</td>\n",
       "      <td>EUR</td>\n",
       "      <td>Euro</td>\n",
       "      <td>1.00000</td>\n",
       "      <td>1.00000</td>\n",
       "    </tr>\n",
       "    <tr>\n",
       "      <th>6</th>\n",
       "      <td>DE</td>\n",
       "      <td>EUR</td>\n",
       "      <td>1.00000</td>\n",
       "      <td>EUR</td>\n",
       "      <td>Euro</td>\n",
       "      <td>1.00000</td>\n",
       "      <td>1.00000</td>\n",
       "    </tr>\n",
       "    <tr>\n",
       "      <th>7</th>\n",
       "      <td>ES</td>\n",
       "      <td>EUR</td>\n",
       "      <td>1.00000</td>\n",
       "      <td>EUR</td>\n",
       "      <td>Euro</td>\n",
       "      <td>1.00000</td>\n",
       "      <td>1.00000</td>\n",
       "    </tr>\n",
       "    <tr>\n",
       "      <th>8</th>\n",
       "      <td>GR</td>\n",
       "      <td>EUR</td>\n",
       "      <td>1.00000</td>\n",
       "      <td>EUR</td>\n",
       "      <td>Euro</td>\n",
       "      <td>1.00000</td>\n",
       "      <td>1.00000</td>\n",
       "    </tr>\n",
       "    <tr>\n",
       "      <th>9</th>\n",
       "      <td>HU</td>\n",
       "      <td>EUR</td>\n",
       "      <td>1.00000</td>\n",
       "      <td>EUR</td>\n",
       "      <td>Euro</td>\n",
       "      <td>1.00000</td>\n",
       "      <td>1.00000</td>\n",
       "    </tr>\n",
       "    <tr>\n",
       "      <th>10</th>\n",
       "      <td>IE</td>\n",
       "      <td>EUR</td>\n",
       "      <td>1.00000</td>\n",
       "      <td>EUR</td>\n",
       "      <td>Euro</td>\n",
       "      <td>1.00000</td>\n",
       "      <td>1.00000</td>\n",
       "    </tr>\n",
       "    <tr>\n",
       "      <th>11</th>\n",
       "      <td>IT</td>\n",
       "      <td>EUR</td>\n",
       "      <td>1.00000</td>\n",
       "      <td>EUR</td>\n",
       "      <td>Euro</td>\n",
       "      <td>1.00000</td>\n",
       "      <td>1.00000</td>\n",
       "    </tr>\n",
       "    <tr>\n",
       "      <th>12</th>\n",
       "      <td>NL</td>\n",
       "      <td>EUR</td>\n",
       "      <td>1.00000</td>\n",
       "      <td>EUR</td>\n",
       "      <td>Euro</td>\n",
       "      <td>1.00000</td>\n",
       "      <td>1.00000</td>\n",
       "    </tr>\n",
       "    <tr>\n",
       "      <th>13</th>\n",
       "      <td>PL</td>\n",
       "      <td>EUR</td>\n",
       "      <td>1.00000</td>\n",
       "      <td>EUR</td>\n",
       "      <td>Euro</td>\n",
       "      <td>1.00000</td>\n",
       "      <td>1.00000</td>\n",
       "    </tr>\n",
       "    <tr>\n",
       "      <th>14</th>\n",
       "      <td>PT</td>\n",
       "      <td>EUR</td>\n",
       "      <td>1.00000</td>\n",
       "      <td>EUR</td>\n",
       "      <td>Euro</td>\n",
       "      <td>1.00000</td>\n",
       "      <td>1.00000</td>\n",
       "    </tr>\n",
       "    <tr>\n",
       "      <th>15</th>\n",
       "      <td>RO</td>\n",
       "      <td>EUR</td>\n",
       "      <td>1.00000</td>\n",
       "      <td>EUR</td>\n",
       "      <td>Euro</td>\n",
       "      <td>1.00000</td>\n",
       "      <td>1.00000</td>\n",
       "    </tr>\n",
       "    <tr>\n",
       "      <th>16</th>\n",
       "      <td>US</td>\n",
       "      <td>USD</td>\n",
       "      <td>1.17530</td>\n",
       "      <td>USD</td>\n",
       "      <td>United States</td>\n",
       "      <td>1.17530</td>\n",
       "      <td>0.85085</td>\n",
       "    </tr>\n",
       "  </tbody>\n",
       "</table>\n",
       "</div>"
      ],
      "text/plain": [
       "   country currency   value CurrCode        Country  EUR_2_LC  LC_2_EUR\n",
       "0       AT      EUR 1.00000      EUR          Euro    1.00000   1.00000\n",
       "1       AU      AUD 1.54310      AUD     Australia    1.54310   0.64805\n",
       "2       BG      EUR 1.00000      EUR          Euro    1.00000   1.00000\n",
       "3       CA      CAD 1.47720      CAD         Canada   1.47720   0.67696\n",
       "4       CH      CHF 1.10615      CHF   Switzerland    1.10615   0.90404\n",
       "5       CZ      EUR 1.00000      EUR          Euro    1.00000   1.00000\n",
       "6       DE      EUR 1.00000      EUR          Euro    1.00000   1.00000\n",
       "7       ES      EUR 1.00000      EUR          Euro    1.00000   1.00000\n",
       "8       GR      EUR 1.00000      EUR          Euro    1.00000   1.00000\n",
       "9       HU      EUR 1.00000      EUR          Euro    1.00000   1.00000\n",
       "10      IE      EUR 1.00000      EUR          Euro    1.00000   1.00000\n",
       "11      IT      EUR 1.00000      EUR          Euro    1.00000   1.00000\n",
       "12      NL      EUR 1.00000      EUR          Euro    1.00000   1.00000\n",
       "13      PL      EUR 1.00000      EUR          Euro    1.00000   1.00000\n",
       "14      PT      EUR 1.00000      EUR          Euro    1.00000   1.00000\n",
       "15      RO      EUR 1.00000      EUR          Euro    1.00000   1.00000\n",
       "16      US      USD 1.17530      USD  United States   1.17530   0.85085"
      ]
     },
     "execution_count": 15,
     "metadata": {},
     "output_type": "execute_result"
    }
   ],
   "source": [
    "conversion_comparison =  calculated_rates.merge( eurrates_df,  how='left',  left_on='currency', right_on='CurrCode' )\n",
    "\n",
    "conversion_comparison\n",
    "\n",
    "\n"
   ]
  },
  {
   "cell_type": "code",
   "execution_count": 16,
   "id": "ee947dcc",
   "metadata": {
    "execution": {
     "iopub.execute_input": "2021-06-15T17:04:33.405147Z",
     "iopub.status.busy": "2021-06-15T17:04:33.402150Z",
     "iopub.status.idle": "2021-06-15T17:04:33.423138Z",
     "shell.execute_reply": "2021-06-15T17:04:33.425139Z"
    },
    "papermill": {
     "duration": 0.320975,
     "end_time": "2021-06-15T17:04:33.426153",
     "exception": false,
     "start_time": "2021-06-15T17:04:33.105178",
     "status": "completed"
    },
    "tags": []
   },
   "outputs": [
    {
     "name": "stdout",
     "output_type": "stream",
     "text": [
      "Stored 'euro_df' (DataFrame)\n"
     ]
    }
   ],
   "source": [
    "euro_df = conversion_comparison\n",
    "\n",
    "%store euro_df\n"
   ]
  },
  {
   "cell_type": "code",
   "execution_count": 17,
   "id": "d3299f16",
   "metadata": {
    "execution": {
     "iopub.execute_input": "2021-06-15T17:04:34.039319Z",
     "iopub.status.busy": "2021-06-15T17:04:34.035318Z",
     "iopub.status.idle": "2021-06-15T17:04:34.049315Z",
     "shell.execute_reply": "2021-06-15T17:04:34.049315Z"
    },
    "papermill": {
     "duration": 0.337209,
     "end_time": "2021-06-15T17:04:34.050313",
     "exception": false,
     "start_time": "2021-06-15T17:04:33.713104",
     "status": "completed"
    },
    "tags": []
   },
   "outputs": [
    {
     "data": {
      "text/plain": [
       "1.0"
      ]
     },
     "execution_count": 17,
     "metadata": {},
     "output_type": "execute_result"
    }
   ],
   "source": [
    "\n",
    "test = 1\n",
    "\n",
    "if (   conversion_comparison['value']   - conversion_comparison['EUR_2_LC']).sum() != 0: \n",
    "    \n",
    "    test = 0\n",
    "\n",
    "else:\n",
    "    pass\n",
    "\n",
    "1/test # if this is an error you do not match the source currency document. Major problem!\n",
    "\n",
    "#todo build a proper error class\n"
   ]
  },
  {
   "cell_type": "markdown",
   "id": "ac0851cc",
   "metadata": {
    "papermill": {
     "duration": 0.261968,
     "end_time": "2021-06-15T17:04:34.580573",
     "exception": false,
     "start_time": "2021-06-15T17:04:34.318605",
     "status": "completed"
    },
    "tags": []
   },
   "source": [
    "#### Data views for evaluation\n",
    "- Create several views in order to populate graphs"
   ]
  },
  {
   "cell_type": "code",
   "execution_count": 18,
   "id": "bf249ba8",
   "metadata": {
    "execution": {
     "iopub.execute_input": "2021-06-15T17:04:35.188502Z",
     "iopub.status.busy": "2021-06-15T17:04:35.182500Z",
     "iopub.status.idle": "2021-06-15T17:04:35.193535Z",
     "shell.execute_reply": "2021-06-15T17:04:35.194533Z"
    },
    "papermill": {
     "duration": 0.348991,
     "end_time": "2021-06-15T17:04:35.194533",
     "exception": false,
     "start_time": "2021-06-15T17:04:34.845542",
     "status": "completed"
    },
    "tags": []
   },
   "outputs": [],
   "source": [
    "current_eur_view['Period'] = percode\n",
    "previous_period_eur_view['Period']  =    prev_percode \n",
    "previous_year_eur_view['Period']    =  prev_yearcode \n",
    "\n"
   ]
  },
  {
   "cell_type": "code",
   "execution_count": 19,
   "id": "5af90020",
   "metadata": {
    "execution": {
     "iopub.execute_input": "2021-06-15T17:04:35.808083Z",
     "iopub.status.busy": "2021-06-15T17:04:35.807084Z",
     "iopub.status.idle": "2021-06-15T17:04:35.858084Z",
     "shell.execute_reply": "2021-06-15T17:04:35.859073Z"
    },
    "papermill": {
     "duration": 0.395929,
     "end_time": "2021-06-15T17:04:35.860070",
     "exception": false,
     "start_time": "2021-06-15T17:04:35.464141",
     "status": "completed"
    },
    "tags": []
   },
   "outputs": [],
   "source": [
    "rowcounts = pd.DataFrame()\n",
    "\n",
    "rowcounts_current = current_eur_df[[\"country\",\"written_revenues_net_of_taxes\"]].groupby(\"country\").count() \n",
    "\n",
    "rowcounts_current[\"Period\"] = percode\n",
    "\n",
    "\n",
    "rowcounts_prev_per = previous_period_eur_df[[\"country\",\"written_revenues_net_of_taxes\"]].groupby(\"country\").count() \n",
    "\n",
    "rowcounts_prev_per[\"Period\"] = prev_percode \n",
    "\n",
    "\n",
    "rowcounts_py = previous_year_eur_df[[\"country\",\"written_revenues_net_of_taxes\"]].groupby(\"country\").count() \n",
    "\n",
    "rowcounts_py[\"Period\"] = prev_yearcode \n",
    "\n",
    "\n",
    "rowcounts = rowcounts.append(rowcounts_current).append(rowcounts_prev_per).append(rowcounts_py)\n",
    "rowcounts = rowcounts.rename( { 'written_revenues_net_of_taxes' :'Rowcounts' }, axis='columns')\n",
    "\n",
    "rowcounts = rowcounts.reset_index()\n",
    "\n",
    "\n"
   ]
  },
  {
   "cell_type": "code",
   "execution_count": 20,
   "id": "6f5ef2c7",
   "metadata": {
    "execution": {
     "iopub.execute_input": "2021-06-15T17:04:36.507544Z",
     "iopub.status.busy": "2021-06-15T17:04:36.457540Z",
     "iopub.status.idle": "2021-06-15T17:04:36.582535Z",
     "shell.execute_reply": "2021-06-15T17:04:36.583528Z"
    },
    "papermill": {
     "duration": 0.444308,
     "end_time": "2021-06-15T17:04:36.584528",
     "exception": false,
     "start_time": "2021-06-15T17:04:36.140220",
     "status": "completed"
    },
    "scrolled": true,
    "tags": []
   },
   "outputs": [
    {
     "data": {
      "text/html": [
       "<div>\n",
       "<style scoped>\n",
       "    .dataframe tbody tr th:only-of-type {\n",
       "        vertical-align: middle;\n",
       "    }\n",
       "\n",
       "    .dataframe tbody tr th {\n",
       "        vertical-align: top;\n",
       "    }\n",
       "\n",
       "    .dataframe thead th {\n",
       "        text-align: right;\n",
       "    }\n",
       "</style>\n",
       "<table border=\"1\" class=\"dataframe\">\n",
       "  <thead>\n",
       "    <tr style=\"text-align: right;\">\n",
       "      <th></th>\n",
       "      <th></th>\n",
       "      <th>written_revenues_net_of_taxes</th>\n",
       "      <th>written_revenues</th>\n",
       "      <th>earned_revenues_net_of_taxes</th>\n",
       "      <th>earned_revenues</th>\n",
       "      <th>total_compensation</th>\n",
       "      <th>actual_incurred_losses_(paid_+_ocr_+_ibnr)</th>\n",
       "      <th>total_expenses</th>\n",
       "      <th>profit_or_loss</th>\n",
       "      <th>Period</th>\n",
       "    </tr>\n",
       "    <tr>\n",
       "      <th>country</th>\n",
       "      <th>currency</th>\n",
       "      <th></th>\n",
       "      <th></th>\n",
       "      <th></th>\n",
       "      <th></th>\n",
       "      <th></th>\n",
       "      <th></th>\n",
       "      <th></th>\n",
       "      <th></th>\n",
       "      <th></th>\n",
       "    </tr>\n",
       "  </thead>\n",
       "  <tbody>\n",
       "    <tr>\n",
       "      <th>AT</th>\n",
       "      <th>EUR</th>\n",
       "      <td>1263968.01000</td>\n",
       "      <td>1395973.91000</td>\n",
       "      <td>1263968.01000</td>\n",
       "      <td>1395973.91000</td>\n",
       "      <td>184705.16000</td>\n",
       "      <td>-198293.93474</td>\n",
       "      <td>379665.68759</td>\n",
       "      <td>897891.09715</td>\n",
       "      <td>2021.Q1</td>\n",
       "    </tr>\n",
       "    <tr>\n",
       "      <th>AU</th>\n",
       "      <th>AUD</th>\n",
       "      <td>91686.79036</td>\n",
       "      <td>0.00000</td>\n",
       "      <td>9332572.90584</td>\n",
       "      <td>0.00000</td>\n",
       "      <td>216127.95390</td>\n",
       "      <td>1811872.66040</td>\n",
       "      <td>4832421.23620</td>\n",
       "      <td>2472151.05534</td>\n",
       "      <td>2021.Q1</td>\n",
       "    </tr>\n",
       "    <tr>\n",
       "      <th>BG</th>\n",
       "      <th>EUR</th>\n",
       "      <td>250935.21867</td>\n",
       "      <td>256065.50397</td>\n",
       "      <td>250935.21867</td>\n",
       "      <td>256065.50397</td>\n",
       "      <td>68238.36454</td>\n",
       "      <td>-457009.40088</td>\n",
       "      <td>9107.43570</td>\n",
       "      <td>630598.81931</td>\n",
       "      <td>2021.Q1</td>\n",
       "    </tr>\n",
       "    <tr>\n",
       "      <th>CA</th>\n",
       "      <th>CAD</th>\n",
       "      <td>6774281.88465</td>\n",
       "      <td>6804054.73869</td>\n",
       "      <td>7906948.34916</td>\n",
       "      <td>0.00000</td>\n",
       "      <td>2233722.50171</td>\n",
       "      <td>4417080.28482</td>\n",
       "      <td>1771533.24975</td>\n",
       "      <td>-515387.68713</td>\n",
       "      <td>2021.Q1</td>\n",
       "    </tr>\n",
       "    <tr>\n",
       "      <th>CH</th>\n",
       "      <th>CHF</th>\n",
       "      <td>12378212.57515</td>\n",
       "      <td>0.00000</td>\n",
       "      <td>7506571.24260</td>\n",
       "      <td>0.00000</td>\n",
       "      <td>1856366.79248</td>\n",
       "      <td>1362274.09067</td>\n",
       "      <td>2101876.05544</td>\n",
       "      <td>2186054.30400</td>\n",
       "      <td>2021.Q1</td>\n",
       "    </tr>\n",
       "    <tr>\n",
       "      <th>...</th>\n",
       "      <th>...</th>\n",
       "      <td>...</td>\n",
       "      <td>...</td>\n",
       "      <td>...</td>\n",
       "      <td>...</td>\n",
       "      <td>...</td>\n",
       "      <td>...</td>\n",
       "      <td>...</td>\n",
       "      <td>...</td>\n",
       "      <td>...</td>\n",
       "    </tr>\n",
       "    <tr>\n",
       "      <th>PL</th>\n",
       "      <th>EUR</th>\n",
       "      <td>7338567.83355</td>\n",
       "      <td>7338567.83355</td>\n",
       "      <td>5589756.43733</td>\n",
       "      <td>5589756.43733</td>\n",
       "      <td>2641837.05568</td>\n",
       "      <td>2957760.75136</td>\n",
       "      <td>1164651.95704</td>\n",
       "      <td>-1174493.32674</td>\n",
       "      <td>2020.Q1</td>\n",
       "    </tr>\n",
       "    <tr>\n",
       "      <th>PT</th>\n",
       "      <th>EUR</th>\n",
       "      <td>178994.56000</td>\n",
       "      <td>172085.95000</td>\n",
       "      <td>175055.42872</td>\n",
       "      <td>164756.71451</td>\n",
       "      <td>10856.48738</td>\n",
       "      <td>45381.81000</td>\n",
       "      <td>54961.74333</td>\n",
       "      <td>63855.38801</td>\n",
       "      <td>2020.Q1</td>\n",
       "    </tr>\n",
       "    <tr>\n",
       "      <th>SE</th>\n",
       "      <th>EUR</th>\n",
       "      <td>3212611.00000</td>\n",
       "      <td>0.00000</td>\n",
       "      <td>3073854.00000</td>\n",
       "      <td>0.00000</td>\n",
       "      <td>1805938.00000</td>\n",
       "      <td>606724.00000</td>\n",
       "      <td>234227.67480</td>\n",
       "      <td>426964.32520</td>\n",
       "      <td>2020.Q1</td>\n",
       "    </tr>\n",
       "    <tr>\n",
       "      <th>UK</th>\n",
       "      <th>GBP</th>\n",
       "      <td>6355643.44026</td>\n",
       "      <td>7423949.64020</td>\n",
       "      <td>4977416.07375</td>\n",
       "      <td>5818779.66926</td>\n",
       "      <td>1469592.50285</td>\n",
       "      <td>1855749.44906</td>\n",
       "      <td>839809.12021</td>\n",
       "      <td>812265.00162</td>\n",
       "      <td>2020.Q1</td>\n",
       "    </tr>\n",
       "    <tr>\n",
       "      <th>US</th>\n",
       "      <th>USD</th>\n",
       "      <td>1137304643.72749</td>\n",
       "      <td>1137304643.72749</td>\n",
       "      <td>1122964702.66575</td>\n",
       "      <td>1122964702.66575</td>\n",
       "      <td>539043173.76167</td>\n",
       "      <td>330595032.02552</td>\n",
       "      <td>214503449.99772</td>\n",
       "      <td>38823046.88084</td>\n",
       "      <td>2020.Q1</td>\n",
       "    </tr>\n",
       "  </tbody>\n",
       "</table>\n",
       "<p>76 rows × 9 columns</p>\n",
       "</div>"
      ],
      "text/plain": [
       "                  written_revenues_net_of_taxes  written_revenues  \\\n",
       "country currency                                                    \n",
       "AT      EUR                       1263968.01000     1395973.91000   \n",
       "AU      AUD                         91686.79036           0.00000   \n",
       "BG      EUR                        250935.21867      256065.50397   \n",
       "CA      CAD                       6774281.88465     6804054.73869   \n",
       "CH      CHF                      12378212.57515           0.00000   \n",
       "...                                         ...               ...   \n",
       "PL      EUR                       7338567.83355     7338567.83355   \n",
       "PT      EUR                        178994.56000      172085.95000   \n",
       "SE      EUR                       3212611.00000           0.00000   \n",
       "UK      GBP                       6355643.44026     7423949.64020   \n",
       "US      USD                    1137304643.72749  1137304643.72749   \n",
       "\n",
       "                  earned_revenues_net_of_taxes  earned_revenues  \\\n",
       "country currency                                                  \n",
       "AT      EUR                      1263968.01000    1395973.91000   \n",
       "AU      AUD                      9332572.90584          0.00000   \n",
       "BG      EUR                       250935.21867     256065.50397   \n",
       "CA      CAD                      7906948.34916          0.00000   \n",
       "CH      CHF                      7506571.24260          0.00000   \n",
       "...                                        ...              ...   \n",
       "PL      EUR                      5589756.43733    5589756.43733   \n",
       "PT      EUR                       175055.42872     164756.71451   \n",
       "SE      EUR                      3073854.00000          0.00000   \n",
       "UK      GBP                      4977416.07375    5818779.66926   \n",
       "US      USD                   1122964702.66575 1122964702.66575   \n",
       "\n",
       "                  total_compensation  \\\n",
       "country currency                       \n",
       "AT      EUR             184705.16000   \n",
       "AU      AUD             216127.95390   \n",
       "BG      EUR              68238.36454   \n",
       "CA      CAD            2233722.50171   \n",
       "CH      CHF            1856366.79248   \n",
       "...                              ...   \n",
       "PL      EUR            2641837.05568   \n",
       "PT      EUR              10856.48738   \n",
       "SE      EUR            1805938.00000   \n",
       "UK      GBP            1469592.50285   \n",
       "US      USD          539043173.76167   \n",
       "\n",
       "                  actual_incurred_losses_(paid_+_ocr_+_ibnr)  total_expenses  \\\n",
       "country currency                                                               \n",
       "AT      EUR                                    -198293.93474    379665.68759   \n",
       "AU      AUD                                    1811872.66040   4832421.23620   \n",
       "BG      EUR                                    -457009.40088      9107.43570   \n",
       "CA      CAD                                    4417080.28482   1771533.24975   \n",
       "CH      CHF                                    1362274.09067   2101876.05544   \n",
       "...                                                      ...             ...   \n",
       "PL      EUR                                    2957760.75136   1164651.95704   \n",
       "PT      EUR                                      45381.81000     54961.74333   \n",
       "SE      EUR                                     606724.00000    234227.67480   \n",
       "UK      GBP                                    1855749.44906    839809.12021   \n",
       "US      USD                                  330595032.02552 214503449.99772   \n",
       "\n",
       "                  profit_or_loss   Period  \n",
       "country currency                           \n",
       "AT      EUR         897891.09715  2021.Q1  \n",
       "AU      AUD        2472151.05534  2021.Q1  \n",
       "BG      EUR         630598.81931  2021.Q1  \n",
       "CA      CAD        -515387.68713  2021.Q1  \n",
       "CH      CHF        2186054.30400  2021.Q1  \n",
       "...                          ...      ...  \n",
       "PL      EUR       -1174493.32674  2020.Q1  \n",
       "PT      EUR          63855.38801  2020.Q1  \n",
       "SE      EUR         426964.32520  2020.Q1  \n",
       "UK      GBP         812265.00162  2020.Q1  \n",
       "US      USD       38823046.88084  2020.Q1  \n",
       "\n",
       "[76 rows x 9 columns]"
      ]
     },
     "execution_count": 20,
     "metadata": {},
     "output_type": "execute_result"
    }
   ],
   "source": [
    "combo_views = current_eur_view.append(previous_period_eur_view).append(previous_year_eur_view)\n",
    "\n",
    "combo_views"
   ]
  },
  {
   "cell_type": "code",
   "execution_count": 21,
   "id": "437f108b",
   "metadata": {
    "execution": {
     "iopub.execute_input": "2021-06-15T17:04:41.275783Z",
     "iopub.status.busy": "2021-06-15T17:04:41.272785Z",
     "iopub.status.idle": "2021-06-15T17:04:41.298775Z",
     "shell.execute_reply": "2021-06-15T17:04:41.302789Z"
    },
    "papermill": {
     "duration": 1.188551,
     "end_time": "2021-06-15T17:04:41.303780",
     "exception": false,
     "start_time": "2021-06-15T17:04:40.115229",
     "status": "completed"
    },
    "tags": []
   },
   "outputs": [],
   "source": [
    "combo_views = combo_views.reset_index()\n",
    "\n",
    "melt_cv = combo_views.melt(['country','Period','currency'], ignore_index = True)\n",
    "\n",
    "melt_cv['value'] = melt_cv['value'].fillna(0)\n"
   ]
  },
  {
   "cell_type": "code",
   "execution_count": 22,
   "id": "f79faca3",
   "metadata": {
    "execution": {
     "iopub.execute_input": "2021-06-15T17:04:42.215985Z",
     "iopub.status.busy": "2021-06-15T17:04:42.214985Z",
     "iopub.status.idle": "2021-06-15T17:04:42.221154Z",
     "shell.execute_reply": "2021-06-15T17:04:42.223166Z"
    },
    "papermill": {
     "duration": 0.375451,
     "end_time": "2021-06-15T17:04:42.223166",
     "exception": false,
     "start_time": "2021-06-15T17:04:41.847715",
     "status": "completed"
    },
    "tags": []
   },
   "outputs": [],
   "source": [
    "check_set0 = melt_cv[melt_cv[\"Period\"] == percode].groupby( [\"country\"]).sum()\n",
    "\n",
    "include = check_set0.index.values\n",
    "\n",
    "include = list(include)\n",
    "\n",
    "melt_cv = melt_cv[(melt_cv[\"country\"].isin(include)) & (~melt_cv[\"variable\"].isin([\"index\",\"written_revenues\",\"earned_revenues\"]) )]\n",
    "\n",
    "\n"
   ]
  },
  {
   "cell_type": "markdown",
   "id": "e9bc3954",
   "metadata": {
    "papermill": {
     "duration": 0.308012,
     "end_time": "2021-06-15T17:04:42.946696",
     "exception": false,
     "start_time": "2021-06-15T17:04:42.638684",
     "status": "completed"
    },
    "tags": []
   },
   "source": [
    "#Rowcount visual\n",
    "- see how many rows were submitted by each BU in this data submission vs the previous submission and the YoY submission."
   ]
  },
  {
   "cell_type": "code",
   "execution_count": 23,
   "id": "226d27f1",
   "metadata": {
    "execution": {
     "iopub.execute_input": "2021-06-15T17:04:43.587568Z",
     "iopub.status.busy": "2021-06-15T17:04:43.582566Z",
     "iopub.status.idle": "2021-06-15T17:04:57.489270Z",
     "shell.execute_reply": "2021-06-15T17:04:57.490307Z"
    },
    "papermill": {
     "duration": 14.240692,
     "end_time": "2021-06-15T17:04:57.490307",
     "exception": false,
     "start_time": "2021-06-15T17:04:43.249615",
     "status": "completed"
    },
    "tags": []
   },
   "outputs": [
    {
     "data": {
      "text/plain": [
       "<seaborn.axisgrid.FacetGrid at 0x17d3ad5de48>"
      ]
     },
     "execution_count": 23,
     "metadata": {},
     "output_type": "execute_result"
    },
    {
     "data": {
      "text/plain": [
       "Text(0.5, 1149.2000000000003, 'AT')"
      ]
     },
     "execution_count": 23,
     "metadata": {},
     "output_type": "execute_result"
    },
    {
     "data": {
      "text/plain": [
       "Text(10.175000000000004, 0.5, 'Rows Submitted')"
      ]
     },
     "execution_count": 23,
     "metadata": {},
     "output_type": "execute_result"
    },
    {
     "data": {
      "text/plain": [
       "Text(0.5, 1149.2000000000003, 'AU')"
      ]
     },
     "execution_count": 23,
     "metadata": {},
     "output_type": "execute_result"
    },
    {
     "data": {
      "text/plain": [
       "Text(295.47499999999997, 0.5, 'Rows Submitted')"
      ]
     },
     "execution_count": 23,
     "metadata": {},
     "output_type": "execute_result"
    },
    {
     "data": {
      "text/plain": [
       "Text(0.5, 1149.2000000000003, 'BG')"
      ]
     },
     "execution_count": 23,
     "metadata": {},
     "output_type": "execute_result"
    },
    {
     "data": {
      "text/plain": [
       "Text(587.0250000000001, 0.5, 'Rows Submitted')"
      ]
     },
     "execution_count": 23,
     "metadata": {},
     "output_type": "execute_result"
    },
    {
     "data": {
      "text/plain": [
       "Text(0.5, 1149.2000000000003, 'CA')"
      ]
     },
     "execution_count": 23,
     "metadata": {},
     "output_type": "execute_result"
    },
    {
     "data": {
      "text/plain": [
       "Text(859.7, 0.5, 'Rows Submitted')"
      ]
     },
     "execution_count": 23,
     "metadata": {},
     "output_type": "execute_result"
    },
    {
     "data": {
      "text/plain": [
       "Text(0.5, 1006.4000000000001, 'CH')"
      ]
     },
     "execution_count": 23,
     "metadata": {},
     "output_type": "execute_result"
    },
    {
     "data": {
      "text/plain": [
       "Text(3.8000000000000043, 0.5, 'Rows Submitted')"
      ]
     },
     "execution_count": 23,
     "metadata": {},
     "output_type": "execute_result"
    },
    {
     "data": {
      "text/plain": [
       "Text(0.5, 1006.4000000000001, 'CZ')"
      ]
     },
     "execution_count": 23,
     "metadata": {},
     "output_type": "execute_result"
    },
    {
     "data": {
      "text/plain": [
       "Text(307.97499999999997, 0.5, 'Rows Submitted')"
      ]
     },
     "execution_count": 23,
     "metadata": {},
     "output_type": "execute_result"
    },
    {
     "data": {
      "text/plain": [
       "Text(0.5, 1006.4000000000001, 'DE')"
      ]
     },
     "execution_count": 23,
     "metadata": {},
     "output_type": "execute_result"
    },
    {
     "data": {
      "text/plain": [
       "Text(587.0250000000001, 0.5, 'Rows Submitted')"
      ]
     },
     "execution_count": 23,
     "metadata": {},
     "output_type": "execute_result"
    },
    {
     "data": {
      "text/plain": [
       "Text(0.5, 1006.4000000000001, 'ES')"
      ]
     },
     "execution_count": 23,
     "metadata": {},
     "output_type": "execute_result"
    },
    {
     "data": {
      "text/plain": [
       "Text(872.325, 0.5, 'Rows Submitted')"
      ]
     },
     "execution_count": 23,
     "metadata": {},
     "output_type": "execute_result"
    },
    {
     "data": {
      "text/plain": [
       "Text(0.5, 863.6000000000001, 'GR')"
      ]
     },
     "execution_count": 23,
     "metadata": {},
     "output_type": "execute_result"
    },
    {
     "data": {
      "text/plain": [
       "Text(16.300000000000004, 0.5, 'Rows Submitted')"
      ]
     },
     "execution_count": 23,
     "metadata": {},
     "output_type": "execute_result"
    },
    {
     "data": {
      "text/plain": [
       "Text(0.5, 863.6000000000001, 'HU')"
      ]
     },
     "execution_count": 23,
     "metadata": {},
     "output_type": "execute_result"
    },
    {
     "data": {
      "text/plain": [
       "Text(295.47499999999997, 0.5, 'Rows Submitted')"
      ]
     },
     "execution_count": 23,
     "metadata": {},
     "output_type": "execute_result"
    },
    {
     "data": {
      "text/plain": [
       "Text(0.5, 863.6000000000001, 'IE')"
      ]
     },
     "execution_count": 23,
     "metadata": {},
     "output_type": "execute_result"
    },
    {
     "data": {
      "text/plain": [
       "Text(587.0250000000001, 0.5, 'Rows Submitted')"
      ]
     },
     "execution_count": 23,
     "metadata": {},
     "output_type": "execute_result"
    },
    {
     "data": {
      "text/plain": [
       "Text(0.5, 863.6000000000001, 'IT')"
      ]
     },
     "execution_count": 23,
     "metadata": {},
     "output_type": "execute_result"
    },
    {
     "data": {
      "text/plain": [
       "Text(866.075, 0.5, 'Rows Submitted')"
      ]
     },
     "execution_count": 23,
     "metadata": {},
     "output_type": "execute_result"
    },
    {
     "data": {
      "text/plain": [
       "Text(0.5, 720.8000000000001, 'NL')"
      ]
     },
     "execution_count": 23,
     "metadata": {},
     "output_type": "execute_result"
    },
    {
     "data": {
      "text/plain": [
       "Text(10.050000000000004, 0.5, 'Rows Submitted')"
      ]
     },
     "execution_count": 23,
     "metadata": {},
     "output_type": "execute_result"
    },
    {
     "data": {
      "text/plain": [
       "Text(0.5, 720.8000000000001, 'PL')"
      ]
     },
     "execution_count": 23,
     "metadata": {},
     "output_type": "execute_result"
    },
    {
     "data": {
      "text/plain": [
       "Text(301.72499999999997, 0.5, 'Rows Submitted')"
      ]
     },
     "execution_count": 23,
     "metadata": {},
     "output_type": "execute_result"
    },
    {
     "data": {
      "text/plain": [
       "Text(0.5, 720.8000000000001, 'PT')"
      ]
     },
     "execution_count": 23,
     "metadata": {},
     "output_type": "execute_result"
    },
    {
     "data": {
      "text/plain": [
       "Text(587.0250000000001, 0.5, 'Rows Submitted')"
      ]
     },
     "execution_count": 23,
     "metadata": {},
     "output_type": "execute_result"
    },
    {
     "data": {
      "text/plain": [
       "Text(0.5, 720.8000000000001, 'RO')"
      ]
     },
     "execution_count": 23,
     "metadata": {},
     "output_type": "execute_result"
    },
    {
     "data": {
      "text/plain": [
       "Text(866.075, 0.5, 'Rows Submitted')"
      ]
     },
     "execution_count": 23,
     "metadata": {},
     "output_type": "execute_result"
    },
    {
     "data": {
      "text/plain": [
       "Text(0.5, 578.0000000000001, 'US')"
      ]
     },
     "execution_count": 23,
     "metadata": {},
     "output_type": "execute_result"
    },
    {
     "data": {
      "text/plain": [
       "Text(-2.4499999999999957, 0.5, 'Rows Submitted')"
      ]
     },
     "execution_count": 23,
     "metadata": {},
     "output_type": "execute_result"
    },
    {
     "data": {
      "image/png": "[encoded data removed]",
      "text/plain": [
       "<Figure size 1152x1296 with 35 Axes>"
      ]
     },
     "metadata": {
      "needs_background": "light"
     },
     "output_type": "display_data"
    }
   ],
   "source": [
    "order = rowcounts.Period.unique()\n",
    "\n",
    "included = (include * 6)\n",
    "included.sort()\n",
    "\n",
    "g = sns.FacetGrid(rowcounts, col=\"country\",  hue=\"Period\", palette=\"Set3\",col_wrap = 4, height=2, aspect=2, margin_titles=True, legend_out=False, sharex=False, sharey=False)\n",
    "g.map(sns.barplot, \"Period\", \"Rowcounts\", order=order, ci=None, label = True)\n",
    "axes = g.axes.flatten()\n",
    "for ax, b  in zip(axes, include):\n",
    "    ax.set_xlabel(b)\n",
    "    ax.set_ylabel(\"Rows Submitted\")\n",
    "\n",
    "\n",
    "g.savefig('rows.png', dpi=125)"
   ]
  },
  {
   "cell_type": "markdown",
   "id": "8c568459",
   "metadata": {
    "papermill": {
     "duration": 0.511654,
     "end_time": "2021-06-15T17:05:01.084628",
     "exception": false,
     "start_time": "2021-06-15T17:05:00.572974",
     "status": "completed"
    },
    "tags": []
   },
   "source": [
    "#KPI visual\n",
    "- Displays in KPI totals in Euros for this data submission vs the previous submission and the YoY submission."
   ]
  },
  {
   "cell_type": "code",
   "execution_count": 24,
   "id": "ef46410c",
   "metadata": {
    "execution": {
     "iopub.execute_input": "2021-06-15T17:05:02.035571Z",
     "iopub.status.busy": "2021-06-15T17:05:02.021575Z",
     "iopub.status.idle": "2021-06-15T17:05:52.908098Z",
     "shell.execute_reply": "2021-06-15T17:05:52.910108Z"
    },
    "papermill": {
     "duration": 51.32595,
     "end_time": "2021-06-15T17:05:52.911100",
     "exception": false,
     "start_time": "2021-06-15T17:05:01.585150",
     "status": "completed"
    },
    "tags": []
   },
   "outputs": [
    {
     "data": {
      "text/plain": [
       "<seaborn.axisgrid.FacetGrid at 0x17d3b4fbe08>"
      ]
     },
     "execution_count": 24,
     "metadata": {},
     "output_type": "execute_result"
    },
    {
     "data": {
      "text/plain": [
       "Text(0.5, 2300.635294117647, 'AT')"
      ]
     },
     "execution_count": 24,
     "metadata": {},
     "output_type": "execute_result"
    },
    {
     "data": {
      "text/plain": [
       "Text(-14.824999999999982, 0.5, 'Euro')"
      ]
     },
     "execution_count": 24,
     "metadata": {},
     "output_type": "execute_result"
    },
    {
     "data": {
      "text/plain": [
       "Text(0.5, 2300.635294117647, 'AT')"
      ]
     },
     "execution_count": 24,
     "metadata": {},
     "output_type": "execute_result"
    },
    {
     "data": {
      "text/plain": [
       "Text(271.37500000000006, 0.5, 'Euro')"
      ]
     },
     "execution_count": 24,
     "metadata": {},
     "output_type": "execute_result"
    },
    {
     "data": {
      "text/plain": [
       "Text(0.5, 2300.635294117647, 'AT')"
      ]
     },
     "execution_count": 24,
     "metadata": {},
     "output_type": "execute_result"
    },
    {
     "data": {
      "text/plain": [
       "Text(557.45, 0.5, 'Euro')"
      ]
     },
     "execution_count": 24,
     "metadata": {},
     "output_type": "execute_result"
    },
    {
     "data": {
      "text/plain": [
       "Text(0.5, 2300.635294117647, 'AT')"
      ]
     },
     "execution_count": 24,
     "metadata": {},
     "output_type": "execute_result"
    },
    {
     "data": {
      "text/plain": [
       "Text(843.7750000000001, 0.5, 'Euro')"
      ]
     },
     "execution_count": 24,
     "metadata": {},
     "output_type": "execute_result"
    },
    {
     "data": {
      "text/plain": [
       "Text(0.5, 2300.635294117647, 'AT')"
      ]
     },
     "execution_count": 24,
     "metadata": {},
     "output_type": "execute_result"
    },
    {
     "data": {
      "text/plain": [
       "Text(1129.8500000000001, 0.5, 'Euro')"
      ]
     },
     "execution_count": 24,
     "metadata": {},
     "output_type": "execute_result"
    },
    {
     "data": {
      "text/plain": [
       "Text(0.5, 2300.635294117647, 'AT')"
      ]
     },
     "execution_count": 24,
     "metadata": {},
     "output_type": "execute_result"
    },
    {
     "data": {
      "text/plain": [
       "Text(1414.0500000000002, 0.5, 'Euro')"
      ]
     },
     "execution_count": 24,
     "metadata": {},
     "output_type": "execute_result"
    },
    {
     "data": {
      "text/plain": [
       "Text(0.5, 2157.2705882352943, 'AU')"
      ]
     },
     "execution_count": 24,
     "metadata": {},
     "output_type": "execute_result"
    },
    {
     "data": {
      "text/plain": [
       "Text(6.8000000000000185, 0.5, 'Euro')"
      ]
     },
     "execution_count": 24,
     "metadata": {},
     "output_type": "execute_result"
    },
    {
     "data": {
      "text/plain": [
       "Text(0.5, 2157.2705882352943, 'AU')"
      ]
     },
     "execution_count": 24,
     "metadata": {},
     "output_type": "execute_result"
    },
    {
     "data": {
      "text/plain": [
       "Text(293.00000000000006, 0.5, 'Euro')"
      ]
     },
     "execution_count": 24,
     "metadata": {},
     "output_type": "execute_result"
    },
    {
     "data": {
      "text/plain": [
       "Text(0.5, 2157.2705882352943, 'AU')"
      ]
     },
     "execution_count": 24,
     "metadata": {},
     "output_type": "execute_result"
    },
    {
     "data": {
      "text/plain": [
       "Text(585.45, 0.5, 'Euro')"
      ]
     },
     "execution_count": 24,
     "metadata": {},
     "output_type": "execute_result"
    },
    {
     "data": {
      "text/plain": [
       "Text(0.5, 2157.2705882352943, 'AU')"
      ]
     },
     "execution_count": 24,
     "metadata": {},
     "output_type": "execute_result"
    },
    {
     "data": {
      "text/plain": [
       "Text(881.2750000000001, 0.5, 'Euro')"
      ]
     },
     "execution_count": 24,
     "metadata": {},
     "output_type": "execute_result"
    },
    {
     "data": {
      "text/plain": [
       "Text(0.5, 2157.2705882352943, 'AU')"
      ]
     },
     "execution_count": 24,
     "metadata": {},
     "output_type": "execute_result"
    },
    {
     "data": {
      "text/plain": [
       "Text(1167.4750000000001, 0.5, 'Euro')"
      ]
     },
     "execution_count": 24,
     "metadata": {},
     "output_type": "execute_result"
    },
    {
     "data": {
      "text/plain": [
       "Text(0.5, 2157.2705882352943, 'AU')"
      ]
     },
     "execution_count": 24,
     "metadata": {},
     "output_type": "execute_result"
    },
    {
     "data": {
      "text/plain": [
       "Text(1429.4250000000002, 0.5, 'Euro')"
      ]
     },
     "execution_count": 24,
     "metadata": {},
     "output_type": "execute_result"
    },
    {
     "data": {
      "text/plain": [
       "Text(0.5, 2013.905882352941, 'BG')"
      ]
     },
     "execution_count": 24,
     "metadata": {},
     "output_type": "execute_result"
    },
    {
     "data": {
      "text/plain": [
       "Text(-8.574999999999982, 0.5, 'Euro')"
      ]
     },
     "execution_count": 24,
     "metadata": {},
     "output_type": "execute_result"
    },
    {
     "data": {
      "text/plain": [
       "Text(0.5, 2013.905882352941, 'BG')"
      ]
     },
     "execution_count": 24,
     "metadata": {},
     "output_type": "execute_result"
    },
    {
     "data": {
      "text/plain": [
       "Text(277.62500000000006, 0.5, 'Euro')"
      ]
     },
     "execution_count": 24,
     "metadata": {},
     "output_type": "execute_result"
    },
    {
     "data": {
      "text/plain": [
       "Text(0.5, 2013.905882352941, 'BG')"
      ]
     },
     "execution_count": 24,
     "metadata": {},
     "output_type": "execute_result"
    },
    {
     "data": {
      "text/plain": [
       "Text(570.075, 0.5, 'Euro')"
      ]
     },
     "execution_count": 24,
     "metadata": {},
     "output_type": "execute_result"
    },
    {
     "data": {
      "text/plain": [
       "Text(0.5, 2013.905882352941, 'BG')"
      ]
     },
     "execution_count": 24,
     "metadata": {},
     "output_type": "execute_result"
    },
    {
     "data": {
      "text/plain": [
       "Text(841.5250000000001, 0.5, 'Euro')"
      ]
     },
     "execution_count": 24,
     "metadata": {},
     "output_type": "execute_result"
    },
    {
     "data": {
      "text/plain": [
       "Text(0.5, 2013.905882352941, 'BG')"
      ]
     },
     "execution_count": 24,
     "metadata": {},
     "output_type": "execute_result"
    },
    {
     "data": {
      "text/plain": [
       "Text(1136.2250000000001, 0.5, 'Euro')"
      ]
     },
     "execution_count": 24,
     "metadata": {},
     "output_type": "execute_result"
    },
    {
     "data": {
      "text/plain": [
       "Text(0.5, 2013.905882352941, 'BG')"
      ]
     },
     "execution_count": 24,
     "metadata": {},
     "output_type": "execute_result"
    },
    {
     "data": {
      "text/plain": [
       "Text(1414.0500000000002, 0.5, 'Euro')"
      ]
     },
     "execution_count": 24,
     "metadata": {},
     "output_type": "execute_result"
    },
    {
     "data": {
      "text/plain": [
       "Text(0.5, 1870.5411764705882, 'CA')"
      ]
     },
     "execution_count": 24,
     "metadata": {},
     "output_type": "execute_result"
    },
    {
     "data": {
      "text/plain": [
       "Text(13.175000000000018, 0.5, 'Euro')"
      ]
     },
     "execution_count": 24,
     "metadata": {},
     "output_type": "execute_result"
    },
    {
     "data": {
      "text/plain": [
       "Text(0.5, 1870.5411764705882, 'CA')"
      ]
     },
     "execution_count": 24,
     "metadata": {},
     "output_type": "execute_result"
    },
    {
     "data": {
      "text/plain": [
       "Text(299.37500000000006, 0.5, 'Euro')"
      ]
     },
     "execution_count": 24,
     "metadata": {},
     "output_type": "execute_result"
    },
    {
     "data": {
      "text/plain": [
       "Text(0.5, 1870.5411764705882, 'CA')"
      ]
     },
     "execution_count": 24,
     "metadata": {},
     "output_type": "execute_result"
    },
    {
     "data": {
      "text/plain": [
       "Text(595.075, 0.5, 'Euro')"
      ]
     },
     "execution_count": 24,
     "metadata": {},
     "output_type": "execute_result"
    },
    {
     "data": {
      "text/plain": [
       "Text(0.5, 1870.5411764705882, 'CA')"
      ]
     },
     "execution_count": 24,
     "metadata": {},
     "output_type": "execute_result"
    },
    {
     "data": {
      "text/plain": [
       "Text(881.2750000000001, 0.5, 'Euro')"
      ]
     },
     "execution_count": 24,
     "metadata": {},
     "output_type": "execute_result"
    },
    {
     "data": {
      "text/plain": [
       "Text(0.5, 1870.5411764705882, 'CA')"
      ]
     },
     "execution_count": 24,
     "metadata": {},
     "output_type": "execute_result"
    },
    {
     "data": {
      "text/plain": [
       "Text(1167.4750000000001, 0.5, 'Euro')"
      ]
     },
     "execution_count": 24,
     "metadata": {},
     "output_type": "execute_result"
    },
    {
     "data": {
      "text/plain": [
       "Text(0.5, 1870.5411764705882, 'CA')"
      ]
     },
     "execution_count": 24,
     "metadata": {},
     "output_type": "execute_result"
    },
    {
     "data": {
      "text/plain": [
       "Text(1407.6750000000002, 0.5, 'Euro')"
      ]
     },
     "execution_count": 24,
     "metadata": {},
     "output_type": "execute_result"
    },
    {
     "data": {
      "text/plain": [
       "Text(0.5, 1727.1764705882351, 'CH')"
      ]
     },
     "execution_count": 24,
     "metadata": {},
     "output_type": "execute_result"
    },
    {
     "data": {
      "text/plain": [
       "Text(22.67500000000002, 0.5, 'Euro')"
      ]
     },
     "execution_count": 24,
     "metadata": {},
     "output_type": "execute_result"
    },
    {
     "data": {
      "text/plain": [
       "Text(0.5, 1727.1764705882351, 'CH')"
      ]
     },
     "execution_count": 24,
     "metadata": {},
     "output_type": "execute_result"
    },
    {
     "data": {
      "text/plain": [
       "Text(308.87500000000006, 0.5, 'Euro')"
      ]
     },
     "execution_count": 24,
     "metadata": {},
     "output_type": "execute_result"
    },
    {
     "data": {
      "text/plain": [
       "Text(0.5, 1727.1764705882351, 'CH')"
      ]
     },
     "execution_count": 24,
     "metadata": {},
     "output_type": "execute_result"
    },
    {
     "data": {
      "text/plain": [
       "Text(585.575, 0.5, 'Euro')"
      ]
     },
     "execution_count": 24,
     "metadata": {},
     "output_type": "execute_result"
    },
    {
     "data": {
      "text/plain": [
       "Text(0.5, 1727.1764705882351, 'CH')"
      ]
     },
     "execution_count": 24,
     "metadata": {},
     "output_type": "execute_result"
    },
    {
     "data": {
      "text/plain": [
       "Text(871.6500000000001, 0.5, 'Euro')"
      ]
     },
     "execution_count": 24,
     "metadata": {},
     "output_type": "execute_result"
    },
    {
     "data": {
      "text/plain": [
       "Text(0.5, 1727.1764705882351, 'CH')"
      ]
     },
     "execution_count": 24,
     "metadata": {},
     "output_type": "execute_result"
    },
    {
     "data": {
      "text/plain": [
       "Text(1151.6000000000001, 0.5, 'Euro')"
      ]
     },
     "execution_count": 24,
     "metadata": {},
     "output_type": "execute_result"
    },
    {
     "data": {
      "text/plain": [
       "Text(0.5, 1727.1764705882351, 'CH')"
      ]
     },
     "execution_count": 24,
     "metadata": {},
     "output_type": "execute_result"
    },
    {
     "data": {
      "text/plain": [
       "Text(1407.8000000000002, 0.5, 'Euro')"
      ]
     },
     "execution_count": 24,
     "metadata": {},
     "output_type": "execute_result"
    },
    {
     "data": {
      "text/plain": [
       "Text(0.5, 1583.8117647058823, 'CZ')"
      ]
     },
     "execution_count": 24,
     "metadata": {},
     "output_type": "execute_result"
    },
    {
     "data": {
      "text/plain": [
       "Text(-8.574999999999982, 0.5, 'Euro')"
      ]
     },
     "execution_count": 24,
     "metadata": {},
     "output_type": "execute_result"
    },
    {
     "data": {
      "text/plain": [
       "Text(0.5, 1583.8117647058823, 'CZ')"
      ]
     },
     "execution_count": 24,
     "metadata": {},
     "output_type": "execute_result"
    },
    {
     "data": {
      "text/plain": [
       "Text(277.62500000000006, 0.5, 'Euro')"
      ]
     },
     "execution_count": 24,
     "metadata": {},
     "output_type": "execute_result"
    },
    {
     "data": {
      "text/plain": [
       "Text(0.5, 1583.8117647058823, 'CZ')"
      ]
     },
     "execution_count": 24,
     "metadata": {},
     "output_type": "execute_result"
    },
    {
     "data": {
      "text/plain": [
       "Text(563.7, 0.5, 'Euro')"
      ]
     },
     "execution_count": 24,
     "metadata": {},
     "output_type": "execute_result"
    },
    {
     "data": {
      "text/plain": [
       "Text(0.5, 1583.8117647058823, 'CZ')"
      ]
     },
     "execution_count": 24,
     "metadata": {},
     "output_type": "execute_result"
    },
    {
     "data": {
      "text/plain": [
       "Text(850.0250000000001, 0.5, 'Euro')"
      ]
     },
     "execution_count": 24,
     "metadata": {},
     "output_type": "execute_result"
    },
    {
     "data": {
      "text/plain": [
       "Text(0.5, 1583.8117647058823, 'CZ')"
      ]
     },
     "execution_count": 24,
     "metadata": {},
     "output_type": "execute_result"
    },
    {
     "data": {
      "text/plain": [
       "Text(1142.4750000000001, 0.5, 'Euro')"
      ]
     },
     "execution_count": 24,
     "metadata": {},
     "output_type": "execute_result"
    },
    {
     "data": {
      "text/plain": [
       "Text(0.5, 1583.8117647058823, 'CZ')"
      ]
     },
     "execution_count": 24,
     "metadata": {},
     "output_type": "execute_result"
    },
    {
     "data": {
      "text/plain": [
       "Text(1414.0500000000002, 0.5, 'Euro')"
      ]
     },
     "execution_count": 24,
     "metadata": {},
     "output_type": "execute_result"
    },
    {
     "data": {
      "text/plain": [
       "Text(0.5, 1440.4470588235295, 'DE')"
      ]
     },
     "execution_count": 24,
     "metadata": {},
     "output_type": "execute_result"
    },
    {
     "data": {
      "text/plain": [
       "Text(13.050000000000018, 0.5, 'Euro')"
      ]
     },
     "execution_count": 24,
     "metadata": {},
     "output_type": "execute_result"
    },
    {
     "data": {
      "text/plain": [
       "Text(0.5, 1440.4470588235295, 'DE')"
      ]
     },
     "execution_count": 24,
     "metadata": {},
     "output_type": "execute_result"
    },
    {
     "data": {
      "text/plain": [
       "Text(299.25000000000006, 0.5, 'Euro')"
      ]
     },
     "execution_count": 24,
     "metadata": {},
     "output_type": "execute_result"
    },
    {
     "data": {
      "text/plain": [
       "Text(0.5, 1440.4470588235295, 'DE')"
      ]
     },
     "execution_count": 24,
     "metadata": {},
     "output_type": "execute_result"
    },
    {
     "data": {
      "text/plain": [
       "Text(595.075, 0.5, 'Euro')"
      ]
     },
     "execution_count": 24,
     "metadata": {},
     "output_type": "execute_result"
    },
    {
     "data": {
      "text/plain": [
       "Text(0.5, 1440.4470588235295, 'DE')"
      ]
     },
     "execution_count": 24,
     "metadata": {},
     "output_type": "execute_result"
    },
    {
     "data": {
      "text/plain": [
       "Text(871.7750000000001, 0.5, 'Euro')"
      ]
     },
     "execution_count": 24,
     "metadata": {},
     "output_type": "execute_result"
    },
    {
     "data": {
      "text/plain": [
       "Text(0.5, 1440.4470588235295, 'DE')"
      ]
     },
     "execution_count": 24,
     "metadata": {},
     "output_type": "execute_result"
    },
    {
     "data": {
      "text/plain": [
       "Text(1167.4750000000001, 0.5, 'Euro')"
      ]
     },
     "execution_count": 24,
     "metadata": {},
     "output_type": "execute_result"
    },
    {
     "data": {
      "text/plain": [
       "Text(0.5, 1440.4470588235295, 'DE')"
      ]
     },
     "execution_count": 24,
     "metadata": {},
     "output_type": "execute_result"
    },
    {
     "data": {
      "text/plain": [
       "Text(1407.8000000000002, 0.5, 'Euro')"
      ]
     },
     "execution_count": 24,
     "metadata": {},
     "output_type": "execute_result"
    },
    {
     "data": {
      "text/plain": [
       "Text(0.5, 1297.0823529411764, 'ES')"
      ]
     },
     "execution_count": 24,
     "metadata": {},
     "output_type": "execute_result"
    },
    {
     "data": {
      "text/plain": [
       "Text(-14.824999999999982, 0.5, 'Euro')"
      ]
     },
     "execution_count": 24,
     "metadata": {},
     "output_type": "execute_result"
    },
    {
     "data": {
      "text/plain": [
       "Text(0.5, 1297.0823529411764, 'ES')"
      ]
     },
     "execution_count": 24,
     "metadata": {},
     "output_type": "execute_result"
    },
    {
     "data": {
      "text/plain": [
       "Text(271.37500000000006, 0.5, 'Euro')"
      ]
     },
     "execution_count": 24,
     "metadata": {},
     "output_type": "execute_result"
    },
    {
     "data": {
      "text/plain": [
       "Text(0.5, 1297.0823529411764, 'ES')"
      ]
     },
     "execution_count": 24,
     "metadata": {},
     "output_type": "execute_result"
    },
    {
     "data": {
      "text/plain": [
       "Text(557.45, 0.5, 'Euro')"
      ]
     },
     "execution_count": 24,
     "metadata": {},
     "output_type": "execute_result"
    },
    {
     "data": {
      "text/plain": [
       "Text(0.5, 1297.0823529411764, 'ES')"
      ]
     },
     "execution_count": 24,
     "metadata": {},
     "output_type": "execute_result"
    },
    {
     "data": {
      "text/plain": [
       "Text(850.0250000000001, 0.5, 'Euro')"
      ]
     },
     "execution_count": 24,
     "metadata": {},
     "output_type": "execute_result"
    },
    {
     "data": {
      "text/plain": [
       "Text(0.5, 1297.0823529411764, 'ES')"
      ]
     },
     "execution_count": 24,
     "metadata": {},
     "output_type": "execute_result"
    },
    {
     "data": {
      "text/plain": [
       "Text(1129.8500000000001, 0.5, 'Euro')"
      ]
     },
     "execution_count": 24,
     "metadata": {},
     "output_type": "execute_result"
    },
    {
     "data": {
      "text/plain": [
       "Text(0.5, 1297.0823529411764, 'ES')"
      ]
     },
     "execution_count": 24,
     "metadata": {},
     "output_type": "execute_result"
    },
    {
     "data": {
      "text/plain": [
       "Text(1414.0500000000002, 0.5, 'Euro')"
      ]
     },
     "execution_count": 24,
     "metadata": {},
     "output_type": "execute_result"
    },
    {
     "data": {
      "text/plain": [
       "Text(0.5, 1153.7176470588236, 'GR')"
      ]
     },
     "execution_count": 24,
     "metadata": {},
     "output_type": "execute_result"
    },
    {
     "data": {
      "text/plain": [
       "Text(-14.949999999999982, 0.5, 'Euro')"
      ]
     },
     "execution_count": 24,
     "metadata": {},
     "output_type": "execute_result"
    },
    {
     "data": {
      "text/plain": [
       "Text(0.5, 1153.7176470588236, 'GR')"
      ]
     },
     "execution_count": 24,
     "metadata": {},
     "output_type": "execute_result"
    },
    {
     "data": {
      "text/plain": [
       "Text(271.25000000000006, 0.5, 'Euro')"
      ]
     },
     "execution_count": 24,
     "metadata": {},
     "output_type": "execute_result"
    },
    {
     "data": {
      "text/plain": [
       "Text(0.5, 1153.7176470588236, 'GR')"
      ]
     },
     "execution_count": 24,
     "metadata": {},
     "output_type": "execute_result"
    },
    {
     "data": {
      "text/plain": [
       "Text(563.825, 0.5, 'Euro')"
      ]
     },
     "execution_count": 24,
     "metadata": {},
     "output_type": "execute_result"
    },
    {
     "data": {
      "text/plain": [
       "Text(0.5, 1153.7176470588236, 'GR')"
      ]
     },
     "execution_count": 24,
     "metadata": {},
     "output_type": "execute_result"
    },
    {
     "data": {
      "text/plain": [
       "Text(850.0250000000001, 0.5, 'Euro')"
      ]
     },
     "execution_count": 24,
     "metadata": {},
     "output_type": "execute_result"
    },
    {
     "data": {
      "text/plain": [
       "Text(0.5, 1153.7176470588236, 'GR')"
      ]
     },
     "execution_count": 24,
     "metadata": {},
     "output_type": "execute_result"
    },
    {
     "data": {
      "text/plain": [
       "Text(1136.2250000000001, 0.5, 'Euro')"
      ]
     },
     "execution_count": 24,
     "metadata": {},
     "output_type": "execute_result"
    },
    {
     "data": {
      "text/plain": [
       "Text(0.5, 1153.7176470588236, 'GR')"
      ]
     },
     "execution_count": 24,
     "metadata": {},
     "output_type": "execute_result"
    },
    {
     "data": {
      "text/plain": [
       "Text(1422.4250000000002, 0.5, 'Euro')"
      ]
     },
     "execution_count": 24,
     "metadata": {},
     "output_type": "execute_result"
    },
    {
     "data": {
      "text/plain": [
       "Text(0.5, 1010.3529411764707, 'HU')"
      ]
     },
     "execution_count": 24,
     "metadata": {},
     "output_type": "execute_result"
    },
    {
     "data": {
      "text/plain": [
       "Text(-8.574999999999982, 0.5, 'Euro')"
      ]
     },
     "execution_count": 24,
     "metadata": {},
     "output_type": "execute_result"
    },
    {
     "data": {
      "text/plain": [
       "Text(0.5, 1010.3529411764707, 'HU')"
      ]
     },
     "execution_count": 24,
     "metadata": {},
     "output_type": "execute_result"
    },
    {
     "data": {
      "text/plain": [
       "Text(277.62500000000006, 0.5, 'Euro')"
      ]
     },
     "execution_count": 24,
     "metadata": {},
     "output_type": "execute_result"
    },
    {
     "data": {
      "text/plain": [
       "Text(0.5, 1010.3529411764707, 'HU')"
      ]
     },
     "execution_count": 24,
     "metadata": {},
     "output_type": "execute_result"
    },
    {
     "data": {
      "text/plain": [
       "Text(563.7, 0.5, 'Euro')"
      ]
     },
     "execution_count": 24,
     "metadata": {},
     "output_type": "execute_result"
    },
    {
     "data": {
      "text/plain": [
       "Text(0.5, 1010.3529411764707, 'HU')"
      ]
     },
     "execution_count": 24,
     "metadata": {},
     "output_type": "execute_result"
    },
    {
     "data": {
      "text/plain": [
       "Text(850.0250000000001, 0.5, 'Euro')"
      ]
     },
     "execution_count": 24,
     "metadata": {},
     "output_type": "execute_result"
    },
    {
     "data": {
      "text/plain": [
       "Text(0.5, 1010.3529411764707, 'HU')"
      ]
     },
     "execution_count": 24,
     "metadata": {},
     "output_type": "execute_result"
    },
    {
     "data": {
      "text/plain": [
       "Text(1136.2250000000001, 0.5, 'Euro')"
      ]
     },
     "execution_count": 24,
     "metadata": {},
     "output_type": "execute_result"
    },
    {
     "data": {
      "text/plain": [
       "Text(0.5, 1010.3529411764707, 'HU')"
      ]
     },
     "execution_count": 24,
     "metadata": {},
     "output_type": "execute_result"
    },
    {
     "data": {
      "text/plain": [
       "Text(1414.0500000000002, 0.5, 'Euro')"
      ]
     },
     "execution_count": 24,
     "metadata": {},
     "output_type": "execute_result"
    },
    {
     "data": {
      "text/plain": [
       "Text(0.5, 866.9882352941178, 'IE')"
      ]
     },
     "execution_count": 24,
     "metadata": {},
     "output_type": "execute_result"
    },
    {
     "data": {
      "text/plain": [
       "Text(-8.574999999999982, 0.5, 'Euro')"
      ]
     },
     "execution_count": 24,
     "metadata": {},
     "output_type": "execute_result"
    },
    {
     "data": {
      "text/plain": [
       "Text(0.5, 866.9882352941178, 'IE')"
      ]
     },
     "execution_count": 24,
     "metadata": {},
     "output_type": "execute_result"
    },
    {
     "data": {
      "text/plain": [
       "Text(277.62500000000006, 0.5, 'Euro')"
      ]
     },
     "execution_count": 24,
     "metadata": {},
     "output_type": "execute_result"
    },
    {
     "data": {
      "text/plain": [
       "Text(0.5, 866.9882352941178, 'IE')"
      ]
     },
     "execution_count": 24,
     "metadata": {},
     "output_type": "execute_result"
    },
    {
     "data": {
      "text/plain": [
       "Text(561.7, 0.5, 'Euro')"
      ]
     },
     "execution_count": 24,
     "metadata": {},
     "output_type": "execute_result"
    },
    {
     "data": {
      "text/plain": [
       "Text(0.5, 866.9882352941178, 'IE')"
      ]
     },
     "execution_count": 24,
     "metadata": {},
     "output_type": "execute_result"
    },
    {
     "data": {
      "text/plain": [
       "Text(856.2750000000001, 0.5, 'Euro')"
      ]
     },
     "execution_count": 24,
     "metadata": {},
     "output_type": "execute_result"
    },
    {
     "data": {
      "text/plain": [
       "Text(0.5, 866.9882352941178, 'IE')"
      ]
     },
     "execution_count": 24,
     "metadata": {},
     "output_type": "execute_result"
    },
    {
     "data": {
      "text/plain": [
       "Text(1136.2250000000001, 0.5, 'Euro')"
      ]
     },
     "execution_count": 24,
     "metadata": {},
     "output_type": "execute_result"
    },
    {
     "data": {
      "text/plain": [
       "Text(0.5, 866.9882352941178, 'IE')"
      ]
     },
     "execution_count": 24,
     "metadata": {},
     "output_type": "execute_result"
    },
    {
     "data": {
      "text/plain": [
       "Text(1422.3000000000002, 0.5, 'Euro')"
      ]
     },
     "execution_count": 24,
     "metadata": {},
     "output_type": "execute_result"
    },
    {
     "data": {
      "text/plain": [
       "Text(0.5, 723.6235294117649, 'IT')"
      ]
     },
     "execution_count": 24,
     "metadata": {},
     "output_type": "execute_result"
    },
    {
     "data": {
      "text/plain": [
       "Text(22.67500000000002, 0.5, 'Euro')"
      ]
     },
     "execution_count": 24,
     "metadata": {},
     "output_type": "execute_result"
    },
    {
     "data": {
      "text/plain": [
       "Text(0.5, 723.6235294117649, 'IT')"
      ]
     },
     "execution_count": 24,
     "metadata": {},
     "output_type": "execute_result"
    },
    {
     "data": {
      "text/plain": [
       "Text(308.87500000000006, 0.5, 'Euro')"
      ]
     },
     "execution_count": 24,
     "metadata": {},
     "output_type": "execute_result"
    },
    {
     "data": {
      "text/plain": [
       "Text(0.5, 723.6235294117649, 'IT')"
      ]
     },
     "execution_count": 24,
     "metadata": {},
     "output_type": "execute_result"
    },
    {
     "data": {
      "text/plain": [
       "Text(585.575, 0.5, 'Euro')"
      ]
     },
     "execution_count": 24,
     "metadata": {},
     "output_type": "execute_result"
    },
    {
     "data": {
      "text/plain": [
       "Text(0.5, 723.6235294117649, 'IT')"
      ]
     },
     "execution_count": 24,
     "metadata": {},
     "output_type": "execute_result"
    },
    {
     "data": {
      "text/plain": [
       "Text(871.6500000000001, 0.5, 'Euro')"
      ]
     },
     "execution_count": 24,
     "metadata": {},
     "output_type": "execute_result"
    },
    {
     "data": {
      "text/plain": [
       "Text(0.5, 723.6235294117649, 'IT')"
      ]
     },
     "execution_count": 24,
     "metadata": {},
     "output_type": "execute_result"
    },
    {
     "data": {
      "text/plain": [
       "Text(1157.8500000000001, 0.5, 'Euro')"
      ]
     },
     "execution_count": 24,
     "metadata": {},
     "output_type": "execute_result"
    },
    {
     "data": {
      "text/plain": [
       "Text(0.5, 723.6235294117649, 'IT')"
      ]
     },
     "execution_count": 24,
     "metadata": {},
     "output_type": "execute_result"
    },
    {
     "data": {
      "text/plain": [
       "Text(1435.8000000000002, 0.5, 'Euro')"
      ]
     },
     "execution_count": 24,
     "metadata": {},
     "output_type": "execute_result"
    },
    {
     "data": {
      "text/plain": [
       "Text(0.5, 580.258823529412, 'NL')"
      ]
     },
     "execution_count": 24,
     "metadata": {},
     "output_type": "execute_result"
    },
    {
     "data": {
      "text/plain": [
       "Text(22.67500000000002, 0.5, 'Euro')"
      ]
     },
     "execution_count": 24,
     "metadata": {},
     "output_type": "execute_result"
    },
    {
     "data": {
      "text/plain": [
       "Text(0.5, 580.258823529412, 'NL')"
      ]
     },
     "execution_count": 24,
     "metadata": {},
     "output_type": "execute_result"
    },
    {
     "data": {
      "text/plain": [
       "Text(308.87500000000006, 0.5, 'Euro')"
      ]
     },
     "execution_count": 24,
     "metadata": {},
     "output_type": "execute_result"
    },
    {
     "data": {
      "text/plain": [
       "Text(0.5, 580.258823529412, 'NL')"
      ]
     },
     "execution_count": 24,
     "metadata": {},
     "output_type": "execute_result"
    },
    {
     "data": {
      "text/plain": [
       "Text(585.45, 0.5, 'Euro')"
      ]
     },
     "execution_count": 24,
     "metadata": {},
     "output_type": "execute_result"
    },
    {
     "data": {
      "text/plain": [
       "Text(0.5, 580.258823529412, 'NL')"
      ]
     },
     "execution_count": 24,
     "metadata": {},
     "output_type": "execute_result"
    },
    {
     "data": {
      "text/plain": [
       "Text(871.6500000000001, 0.5, 'Euro')"
      ]
     },
     "execution_count": 24,
     "metadata": {},
     "output_type": "execute_result"
    },
    {
     "data": {
      "text/plain": [
       "Text(0.5, 580.258823529412, 'NL')"
      ]
     },
     "execution_count": 24,
     "metadata": {},
     "output_type": "execute_result"
    },
    {
     "data": {
      "text/plain": [
       "Text(1157.9750000000001, 0.5, 'Euro')"
      ]
     },
     "execution_count": 24,
     "metadata": {},
     "output_type": "execute_result"
    },
    {
     "data": {
      "text/plain": [
       "Text(0.5, 580.258823529412, 'NL')"
      ]
     },
     "execution_count": 24,
     "metadata": {},
     "output_type": "execute_result"
    },
    {
     "data": {
      "text/plain": [
       "Text(1416.1750000000002, 0.5, 'Euro')"
      ]
     },
     "execution_count": 24,
     "metadata": {},
     "output_type": "execute_result"
    },
    {
     "data": {
      "text/plain": [
       "Text(0.5, 436.89411764705915, 'PL')"
      ]
     },
     "execution_count": 24,
     "metadata": {},
     "output_type": "execute_result"
    },
    {
     "data": {
      "text/plain": [
       "Text(13.050000000000018, 0.5, 'Euro')"
      ]
     },
     "execution_count": 24,
     "metadata": {},
     "output_type": "execute_result"
    },
    {
     "data": {
      "text/plain": [
       "Text(0.5, 436.89411764705915, 'PL')"
      ]
     },
     "execution_count": 24,
     "metadata": {},
     "output_type": "execute_result"
    },
    {
     "data": {
      "text/plain": [
       "Text(299.25000000000006, 0.5, 'Euro')"
      ]
     },
     "execution_count": 24,
     "metadata": {},
     "output_type": "execute_result"
    },
    {
     "data": {
      "text/plain": [
       "Text(0.5, 436.89411764705915, 'PL')"
      ]
     },
     "execution_count": 24,
     "metadata": {},
     "output_type": "execute_result"
    },
    {
     "data": {
      "text/plain": [
       "Text(557.575, 0.5, 'Euro')"
      ]
     },
     "execution_count": 24,
     "metadata": {},
     "output_type": "execute_result"
    },
    {
     "data": {
      "text/plain": [
       "Text(0.5, 436.89411764705915, 'PL')"
      ]
     },
     "execution_count": 24,
     "metadata": {},
     "output_type": "execute_result"
    },
    {
     "data": {
      "text/plain": [
       "Text(843.7750000000001, 0.5, 'Euro')"
      ]
     },
     "execution_count": 24,
     "metadata": {},
     "output_type": "execute_result"
    },
    {
     "data": {
      "text/plain": [
       "Text(0.5, 436.89411764705915, 'PL')"
      ]
     },
     "execution_count": 24,
     "metadata": {},
     "output_type": "execute_result"
    },
    {
     "data": {
      "text/plain": [
       "Text(1129.9750000000001, 0.5, 'Euro')"
      ]
     },
     "execution_count": 24,
     "metadata": {},
     "output_type": "execute_result"
    },
    {
     "data": {
      "text/plain": [
       "Text(0.5, 436.89411764705915, 'PL')"
      ]
     },
     "execution_count": 24,
     "metadata": {},
     "output_type": "execute_result"
    },
    {
     "data": {
      "text/plain": [
       "Text(1407.8000000000002, 0.5, 'Euro')"
      ]
     },
     "execution_count": 24,
     "metadata": {},
     "output_type": "execute_result"
    },
    {
     "data": {
      "text/plain": [
       "Text(0.5, 293.52941176470625, 'PT')"
      ]
     },
     "execution_count": 24,
     "metadata": {},
     "output_type": "execute_result"
    },
    {
     "data": {
      "text/plain": [
       "Text(-8.574999999999982, 0.5, 'Euro')"
      ]
     },
     "execution_count": 24,
     "metadata": {},
     "output_type": "execute_result"
    },
    {
     "data": {
      "text/plain": [
       "Text(0.5, 293.52941176470625, 'PT')"
      ]
     },
     "execution_count": 24,
     "metadata": {},
     "output_type": "execute_result"
    },
    {
     "data": {
      "text/plain": [
       "Text(277.62500000000006, 0.5, 'Euro')"
      ]
     },
     "execution_count": 24,
     "metadata": {},
     "output_type": "execute_result"
    },
    {
     "data": {
      "text/plain": [
       "Text(0.5, 293.52941176470625, 'PT')"
      ]
     },
     "execution_count": 24,
     "metadata": {},
     "output_type": "execute_result"
    },
    {
     "data": {
      "text/plain": [
       "Text(570.075, 0.5, 'Euro')"
      ]
     },
     "execution_count": 24,
     "metadata": {},
     "output_type": "execute_result"
    },
    {
     "data": {
      "text/plain": [
       "Text(0.5, 293.52941176470625, 'PT')"
      ]
     },
     "execution_count": 24,
     "metadata": {},
     "output_type": "execute_result"
    },
    {
     "data": {
      "text/plain": [
       "Text(849.9000000000001, 0.5, 'Euro')"
      ]
     },
     "execution_count": 24,
     "metadata": {},
     "output_type": "execute_result"
    },
    {
     "data": {
      "text/plain": [
       "Text(0.5, 293.52941176470625, 'PT')"
      ]
     },
     "execution_count": 24,
     "metadata": {},
     "output_type": "execute_result"
    },
    {
     "data": {
      "text/plain": [
       "Text(1136.1000000000001, 0.5, 'Euro')"
      ]
     },
     "execution_count": 24,
     "metadata": {},
     "output_type": "execute_result"
    },
    {
     "data": {
      "text/plain": [
       "Text(0.5, 293.52941176470625, 'PT')"
      ]
     },
     "execution_count": 24,
     "metadata": {},
     "output_type": "execute_result"
    },
    {
     "data": {
      "text/plain": [
       "Text(1422.4250000000002, 0.5, 'Euro')"
      ]
     },
     "execution_count": 24,
     "metadata": {},
     "output_type": "execute_result"
    },
    {
     "data": {
      "text/plain": [
       "Text(0.5, 150.16470588235333, 'RO')"
      ]
     },
     "execution_count": 24,
     "metadata": {},
     "output_type": "execute_result"
    },
    {
     "data": {
      "text/plain": [
       "Text(-14.824999999999982, 0.5, 'Euro')"
      ]
     },
     "execution_count": 24,
     "metadata": {},
     "output_type": "execute_result"
    },
    {
     "data": {
      "text/plain": [
       "Text(0.5, 150.16470588235333, 'RO')"
      ]
     },
     "execution_count": 24,
     "metadata": {},
     "output_type": "execute_result"
    },
    {
     "data": {
      "text/plain": [
       "Text(271.37500000000006, 0.5, 'Euro')"
      ]
     },
     "execution_count": 24,
     "metadata": {},
     "output_type": "execute_result"
    },
    {
     "data": {
      "text/plain": [
       "Text(0.5, 150.16470588235333, 'RO')"
      ]
     },
     "execution_count": 24,
     "metadata": {},
     "output_type": "execute_result"
    },
    {
     "data": {
      "text/plain": [
       "Text(563.825, 0.5, 'Euro')"
      ]
     },
     "execution_count": 24,
     "metadata": {},
     "output_type": "execute_result"
    },
    {
     "data": {
      "text/plain": [
       "Text(0.5, 150.16470588235333, 'RO')"
      ]
     },
     "execution_count": 24,
     "metadata": {},
     "output_type": "execute_result"
    },
    {
     "data": {
      "text/plain": [
       "Text(843.7750000000001, 0.5, 'Euro')"
      ]
     },
     "execution_count": 24,
     "metadata": {},
     "output_type": "execute_result"
    },
    {
     "data": {
      "text/plain": [
       "Text(0.5, 150.16470588235333, 'RO')"
      ]
     },
     "execution_count": 24,
     "metadata": {},
     "output_type": "execute_result"
    },
    {
     "data": {
      "text/plain": [
       "Text(1129.9750000000001, 0.5, 'Euro')"
      ]
     },
     "execution_count": 24,
     "metadata": {},
     "output_type": "execute_result"
    },
    {
     "data": {
      "text/plain": [
       "Text(0.5, 150.16470588235333, 'RO')"
      ]
     },
     "execution_count": 24,
     "metadata": {},
     "output_type": "execute_result"
    },
    {
     "data": {
      "text/plain": [
       "Text(1414.0500000000002, 0.5, 'Euro')"
      ]
     },
     "execution_count": 24,
     "metadata": {},
     "output_type": "execute_result"
    },
    {
     "data": {
      "text/plain": [
       "Text(0.5, 6.800000000000445, 'US')"
      ]
     },
     "execution_count": 24,
     "metadata": {},
     "output_type": "execute_result"
    },
    {
     "data": {
      "text/plain": [
       "Text(6.8000000000000185, 0.5, 'Euro')"
      ]
     },
     "execution_count": 24,
     "metadata": {},
     "output_type": "execute_result"
    },
    {
     "data": {
      "text/plain": [
       "Text(0.5, 6.800000000000445, 'US')"
      ]
     },
     "execution_count": 24,
     "metadata": {},
     "output_type": "execute_result"
    },
    {
     "data": {
      "text/plain": [
       "Text(293.00000000000006, 0.5, 'Euro')"
      ]
     },
     "execution_count": 24,
     "metadata": {},
     "output_type": "execute_result"
    },
    {
     "data": {
      "text/plain": [
       "Text(0.5, 6.800000000000445, 'US')"
      ]
     },
     "execution_count": 24,
     "metadata": {},
     "output_type": "execute_result"
    },
    {
     "data": {
      "text/plain": [
       "Text(595.075, 0.5, 'Euro')"
      ]
     },
     "execution_count": 24,
     "metadata": {},
     "output_type": "execute_result"
    },
    {
     "data": {
      "text/plain": [
       "Text(0.5, 6.800000000000445, 'US')"
      ]
     },
     "execution_count": 24,
     "metadata": {},
     "output_type": "execute_result"
    },
    {
     "data": {
      "text/plain": [
       "Text(881.2750000000001, 0.5, 'Euro')"
      ]
     },
     "execution_count": 24,
     "metadata": {},
     "output_type": "execute_result"
    },
    {
     "data": {
      "text/plain": [
       "Text(0.5, 6.800000000000445, 'US')"
      ]
     },
     "execution_count": 24,
     "metadata": {},
     "output_type": "execute_result"
    },
    {
     "data": {
      "text/plain": [
       "Text(1157.8500000000001, 0.5, 'Euro')"
      ]
     },
     "execution_count": 24,
     "metadata": {},
     "output_type": "execute_result"
    },
    {
     "data": {
      "text/plain": [
       "Text(0.5, 6.800000000000445, 'US')"
      ]
     },
     "execution_count": 24,
     "metadata": {},
     "output_type": "execute_result"
    },
    {
     "data": {
      "text/plain": [
       "Text(1453.6750000000002, 0.5, 'Euro')"
      ]
     },
     "execution_count": 24,
     "metadata": {},
     "output_type": "execute_result"
    },
    {
     "data": {
      "image/png": "[encoded data removed]",
      "text/plain": [
       "<Figure size 1728x2448 with 102 Axes>"
      ]
     },
     "metadata": {
      "needs_background": "light"
     },
     "output_type": "display_data"
    }
   ],
   "source": [
    "included = (include * 6)\n",
    "included.sort()\n",
    "\n",
    "g = sns.FacetGrid(melt_cv, row=\"country\", col=\"variable\",  hue=\"Period\", palette=\"Set3\", height=2, aspect=2, margin_titles=True, legend_out=False, sharex=False, sharey=False)\n",
    "g.map(sns.barplot, \"Period\", \"value\", order=order, ci=None, label = True)\n",
    "axes = g.axes.flatten()\n",
    "for ax, b  in zip(axes, included):\n",
    "    ax.set_xlabel(b)\n",
    "    ax.set_ylabel(\"Euro\")\n",
    "    \n",
    "g.savefig('KPIs.png', dpi=125)"
   ]
  },
  {
   "cell_type": "code",
   "execution_count": 25,
   "id": "0d4d90c6",
   "metadata": {
    "execution": {
     "iopub.execute_input": "2021-06-15T17:05:54.172521Z",
     "iopub.status.busy": "2021-06-15T17:05:54.166526Z",
     "iopub.status.idle": "2021-06-15T17:06:38.949972Z",
     "shell.execute_reply": "2021-06-15T17:06:38.953976Z"
    },
    "papermill": {
     "duration": 45.342407,
     "end_time": "2021-06-15T17:06:38.953976",
     "exception": false,
     "start_time": "2021-06-15T17:05:53.611569",
     "status": "completed"
    },
    "tags": []
   },
   "outputs": [
    {
     "data": {
      "text/plain": [
       "<seaborn.axisgrid.FacetGrid at 0x17d3bfa57c8>"
      ]
     },
     "execution_count": 25,
     "metadata": {},
     "output_type": "execute_result"
    },
    {
     "data": {
      "text/plain": [
       "Text(0.5, 2299.729044117647, 'AT')"
      ]
     },
     "execution_count": 25,
     "metadata": {},
     "output_type": "execute_result"
    },
    {
     "data": {
      "text/plain": [
       "Text(-14.824999999999996, 0.5, 'Euro')"
      ]
     },
     "execution_count": 25,
     "metadata": {},
     "output_type": "execute_result"
    },
    {
     "data": {
      "text/plain": [
       "Text(0.5, 2299.729044117647, 'AT')"
      ]
     },
     "execution_count": 25,
     "metadata": {},
     "output_type": "execute_result"
    },
    {
     "data": {
      "text/plain": [
       "Text(269.57500000000005, 0.5, 'Euro')"
      ]
     },
     "execution_count": 25,
     "metadata": {},
     "output_type": "execute_result"
    },
    {
     "data": {
      "text/plain": [
       "Text(0.5, 2299.729044117647, 'AT')"
      ]
     },
     "execution_count": 25,
     "metadata": {},
     "output_type": "execute_result"
    },
    {
     "data": {
      "text/plain": [
       "Text(553.975, 0.5, 'Euro')"
      ]
     },
     "execution_count": 25,
     "metadata": {},
     "output_type": "execute_result"
    },
    {
     "data": {
      "text/plain": [
       "Text(0.5, 2156.3643382352943, 'AT')"
      ]
     },
     "execution_count": 25,
     "metadata": {},
     "output_type": "execute_result"
    },
    {
     "data": {
      "text/plain": [
       "Text(13.175000000000004, 0.5, 'Euro')"
      ]
     },
     "execution_count": 25,
     "metadata": {},
     "output_type": "execute_result"
    },
    {
     "data": {
      "text/plain": [
       "Text(0.5, 2156.3643382352943, 'AT')"
      ]
     },
     "execution_count": 25,
     "metadata": {},
     "output_type": "execute_result"
    },
    {
     "data": {
      "text/plain": [
       "Text(307.07500000000005, 0.5, 'Euro')"
      ]
     },
     "execution_count": 25,
     "metadata": {},
     "output_type": "execute_result"
    },
    {
     "data": {
      "text/plain": [
       "Text(0.5, 2156.3643382352943, 'AT')"
      ]
     },
     "execution_count": 25,
     "metadata": {},
     "output_type": "execute_result"
    },
    {
     "data": {
      "text/plain": [
       "Text(581.975, 0.5, 'Euro')"
      ]
     },
     "execution_count": 25,
     "metadata": {},
     "output_type": "execute_result"
    },
    {
     "data": {
      "text/plain": [
       "Text(0.5, 2012.999632352941, 'AU')"
      ]
     },
     "execution_count": 25,
     "metadata": {},
     "output_type": "execute_result"
    },
    {
     "data": {
      "text/plain": [
       "Text(-17.074999999999996, 0.5, 'Euro')"
      ]
     },
     "execution_count": 25,
     "metadata": {},
     "output_type": "execute_result"
    },
    {
     "data": {
      "text/plain": [
       "Text(0.5, 2012.999632352941, 'AU')"
      ]
     },
     "execution_count": 25,
     "metadata": {},
     "output_type": "execute_result"
    },
    {
     "data": {
      "text/plain": [
       "Text(267.45000000000005, 0.5, 'Euro')"
      ]
     },
     "execution_count": 25,
     "metadata": {},
     "output_type": "execute_result"
    },
    {
     "data": {
      "text/plain": [
       "Text(0.5, 2013.905882352941, 'AU')"
      ]
     },
     "execution_count": 25,
     "metadata": {},
     "output_type": "execute_result"
    },
    {
     "data": {
      "text/plain": [
       "Text(581.975, 0.5, 'Euro')"
      ]
     },
     "execution_count": 25,
     "metadata": {},
     "output_type": "execute_result"
    },
    {
     "data": {
      "text/plain": [
       "Text(0.5, 1869.6349264705882, 'AU')"
      ]
     },
     "execution_count": 25,
     "metadata": {},
     "output_type": "execute_result"
    },
    {
     "data": {
      "text/plain": [
       "Text(13.175000000000004, 0.5, 'Euro')"
      ]
     },
     "execution_count": 25,
     "metadata": {},
     "output_type": "execute_result"
    },
    {
     "data": {
      "text/plain": [
       "Text(0.5, 1869.6349264705882, 'AU')"
      ]
     },
     "execution_count": 25,
     "metadata": {},
     "output_type": "execute_result"
    },
    {
     "data": {
      "text/plain": [
       "Text(291.20000000000005, 0.5, 'Euro')"
      ]
     },
     "execution_count": 25,
     "metadata": {},
     "output_type": "execute_result"
    },
    {
     "data": {
      "text/plain": [
       "Text(0.5, 1869.6349264705882, 'AU')"
      ]
     },
     "execution_count": 25,
     "metadata": {},
     "output_type": "execute_result"
    },
    {
     "data": {
      "text/plain": [
       "Text(581.975, 0.5, 'Euro')"
      ]
     },
     "execution_count": 25,
     "metadata": {},
     "output_type": "execute_result"
    },
    {
     "data": {
      "text/plain": [
       "Text(0.5, 1726.2702205882351, 'BG')"
      ]
     },
     "execution_count": 25,
     "metadata": {},
     "output_type": "execute_result"
    },
    {
     "data": {
      "text/plain": [
       "Text(13.175000000000004, 0.5, 'Euro')"
      ]
     },
     "execution_count": 25,
     "metadata": {},
     "output_type": "execute_result"
    },
    {
     "data": {
      "text/plain": [
       "Text(0.5, 1726.2702205882351, 'BG')"
      ]
     },
     "execution_count": 25,
     "metadata": {},
     "output_type": "execute_result"
    },
    {
     "data": {
      "text/plain": [
       "Text(307.07500000000005, 0.5, 'Euro')"
      ]
     },
     "execution_count": 25,
     "metadata": {},
     "output_type": "execute_result"
    },
    {
     "data": {
      "text/plain": [
       "Text(0.5, 1726.2702205882351, 'BG')"
      ]
     },
     "execution_count": 25,
     "metadata": {},
     "output_type": "execute_result"
    },
    {
     "data": {
      "text/plain": [
       "Text(591.475, 0.5, 'Euro')"
      ]
     },
     "execution_count": 25,
     "metadata": {},
     "output_type": "execute_result"
    },
    {
     "data": {
      "text/plain": [
       "Text(0.5, 1582.9055147058823, 'BG')"
      ]
     },
     "execution_count": 25,
     "metadata": {},
     "output_type": "execute_result"
    },
    {
     "data": {
      "text/plain": [
       "Text(-8.574999999999996, 0.5, 'Euro')"
      ]
     },
     "execution_count": 25,
     "metadata": {},
     "output_type": "execute_result"
    },
    {
     "data": {
      "text/plain": [
       "Text(0.5, 1582.9055147058823, 'BG')"
      ]
     },
     "execution_count": 25,
     "metadata": {},
     "output_type": "execute_result"
    },
    {
     "data": {
      "text/plain": [
       "Text(288.32500000000005, 0.5, 'Euro')"
      ]
     },
     "execution_count": 25,
     "metadata": {},
     "output_type": "execute_result"
    },
    {
     "data": {
      "text/plain": [
       "Text(0.5, 1583.8117647058823, 'BG')"
      ]
     },
     "execution_count": 25,
     "metadata": {},
     "output_type": "execute_result"
    },
    {
     "data": {
      "text/plain": [
       "Text(581.975, 0.5, 'Euro')"
      ]
     },
     "execution_count": 25,
     "metadata": {},
     "output_type": "execute_result"
    },
    {
     "data": {
      "text/plain": [
       "Text(0.5, 1439.5408088235295, 'CA')"
      ]
     },
     "execution_count": 25,
     "metadata": {},
     "output_type": "execute_result"
    },
    {
     "data": {
      "text/plain": [
       "Text(22.675000000000004, 0.5, 'Euro')"
      ]
     },
     "execution_count": 25,
     "metadata": {},
     "output_type": "execute_result"
    },
    {
     "data": {
      "text/plain": [
       "Text(0.5, 1439.5408088235295, 'CA')"
      ]
     },
     "execution_count": 25,
     "metadata": {},
     "output_type": "execute_result"
    },
    {
     "data": {
      "text/plain": [
       "Text(297.57500000000005, 0.5, 'Euro')"
      ]
     },
     "execution_count": 25,
     "metadata": {},
     "output_type": "execute_result"
    },
    {
     "data": {
      "text/plain": [
       "Text(0.5, 1439.5408088235295, 'CA')"
      ]
     },
     "execution_count": 25,
     "metadata": {},
     "output_type": "execute_result"
    },
    {
     "data": {
      "text/plain": [
       "Text(581.85, 0.5, 'Euro')"
      ]
     },
     "execution_count": 25,
     "metadata": {},
     "output_type": "execute_result"
    },
    {
     "data": {
      "text/plain": [
       "Text(0.5, 1296.1761029411764, 'CA')"
      ]
     },
     "execution_count": 25,
     "metadata": {},
     "output_type": "execute_result"
    },
    {
     "data": {
      "text/plain": [
       "Text(-8.699999999999996, 0.5, 'Euro')"
      ]
     },
     "execution_count": 25,
     "metadata": {},
     "output_type": "execute_result"
    },
    {
     "data": {
      "text/plain": [
       "Text(0.5, 1296.1761029411764, 'CA')"
      ]
     },
     "execution_count": 25,
     "metadata": {},
     "output_type": "execute_result"
    },
    {
     "data": {
      "text/plain": [
       "Text(269.57500000000005, 0.5, 'Euro')"
      ]
     },
     "execution_count": 25,
     "metadata": {},
     "output_type": "execute_result"
    },
    {
     "data": {
      "text/plain": [
       "Text(0.5, 1296.1761029411764, 'CA')"
      ]
     },
     "execution_count": 25,
     "metadata": {},
     "output_type": "execute_result"
    },
    {
     "data": {
      "text/plain": [
       "Text(553.975, 0.5, 'Euro')"
      ]
     },
     "execution_count": 25,
     "metadata": {},
     "output_type": "execute_result"
    },
    {
     "data": {
      "text/plain": [
       "Text(0.5, 1152.8113970588236, 'CH')"
      ]
     },
     "execution_count": 25,
     "metadata": {},
     "output_type": "execute_result"
    },
    {
     "data": {
      "text/plain": [
       "Text(-8.574999999999996, 0.5, 'Euro')"
      ]
     },
     "execution_count": 25,
     "metadata": {},
     "output_type": "execute_result"
    },
    {
     "data": {
      "text/plain": [
       "Text(0.5, 1152.8113970588236, 'CH')"
      ]
     },
     "execution_count": 25,
     "metadata": {},
     "output_type": "execute_result"
    },
    {
     "data": {
      "text/plain": [
       "Text(275.82500000000005, 0.5, 'Euro')"
      ]
     },
     "execution_count": 25,
     "metadata": {},
     "output_type": "execute_result"
    },
    {
     "data": {
      "text/plain": [
       "Text(0.5, 1152.8113970588236, 'CH')"
      ]
     },
     "execution_count": 25,
     "metadata": {},
     "output_type": "execute_result"
    },
    {
     "data": {
      "text/plain": [
       "Text(553.85, 0.5, 'Euro')"
      ]
     },
     "execution_count": 25,
     "metadata": {},
     "output_type": "execute_result"
    },
    {
     "data": {
      "text/plain": [
       "Text(0.5, 1009.4466911764707, 'CH')"
      ]
     },
     "execution_count": 25,
     "metadata": {},
     "output_type": "execute_result"
    },
    {
     "data": {
      "text/plain": [
       "Text(-16.949999999999996, 0.5, 'Euro')"
      ]
     },
     "execution_count": 25,
     "metadata": {},
     "output_type": "execute_result"
    },
    {
     "data": {
      "text/plain": [
       "Text(0.5, 1009.4466911764707, 'CH')"
      ]
     },
     "execution_count": 25,
     "metadata": {},
     "output_type": "execute_result"
    },
    {
     "data": {
      "text/plain": [
       "Text(275.82500000000005, 0.5, 'Euro')"
      ]
     },
     "execution_count": 25,
     "metadata": {},
     "output_type": "execute_result"
    },
    {
     "data": {
      "text/plain": [
       "Text(0.5, 1010.3529411764707, 'CH')"
      ]
     },
     "execution_count": 25,
     "metadata": {},
     "output_type": "execute_result"
    },
    {
     "data": {
      "text/plain": [
       "Text(581.975, 0.5, 'Euro')"
      ]
     },
     "execution_count": 25,
     "metadata": {},
     "output_type": "execute_result"
    },
    {
     "data": {
      "text/plain": [
       "Text(0.5, 866.0819852941178, 'CZ')"
      ]
     },
     "execution_count": 25,
     "metadata": {},
     "output_type": "execute_result"
    },
    {
     "data": {
      "text/plain": [
       "Text(-8.574999999999996, 0.5, 'Euro')"
      ]
     },
     "execution_count": 25,
     "metadata": {},
     "output_type": "execute_result"
    },
    {
     "data": {
      "text/plain": [
       "Text(0.5, 866.0819852941178, 'CZ')"
      ]
     },
     "execution_count": 25,
     "metadata": {},
     "output_type": "execute_result"
    },
    {
     "data": {
      "text/plain": [
       "Text(282.07500000000005, 0.5, 'Euro')"
      ]
     },
     "execution_count": 25,
     "metadata": {},
     "output_type": "execute_result"
    },
    {
     "data": {
      "text/plain": [
       "Text(0.5, 866.9882352941178, 'CZ')"
      ]
     },
     "execution_count": 25,
     "metadata": {},
     "output_type": "execute_result"
    },
    {
     "data": {
      "text/plain": [
       "Text(581.975, 0.5, 'Euro')"
      ]
     },
     "execution_count": 25,
     "metadata": {},
     "output_type": "execute_result"
    },
    {
     "data": {
      "text/plain": [
       "Text(0.5, 722.7172794117649, 'CZ')"
      ]
     },
     "execution_count": 25,
     "metadata": {},
     "output_type": "execute_result"
    },
    {
     "data": {
      "text/plain": [
       "Text(-23.199999999999996, 0.5, 'Euro')"
      ]
     },
     "execution_count": 25,
     "metadata": {},
     "output_type": "execute_result"
    },
    {
     "data": {
      "text/plain": [
       "Text(0.5, 722.7172794117649, 'CZ')"
      ]
     },
     "execution_count": 25,
     "metadata": {},
     "output_type": "execute_result"
    },
    {
     "data": {
      "text/plain": [
       "Text(298.70000000000005, 0.5, 'Euro')"
      ]
     },
     "execution_count": 25,
     "metadata": {},
     "output_type": "execute_result"
    },
    {
     "data": {
      "text/plain": [
       "Text(0.5, 722.7172794117649, 'CZ')"
      ]
     },
     "execution_count": 25,
     "metadata": {},
     "output_type": "execute_result"
    },
    {
     "data": {
      "text/plain": [
       "Text(591.475, 0.5, 'Euro')"
      ]
     },
     "execution_count": 25,
     "metadata": {},
     "output_type": "execute_result"
    },
    {
     "data": {
      "text/plain": [
       "Text(0.5, 579.352573529412, 'DE')"
      ]
     },
     "execution_count": 25,
     "metadata": {},
     "output_type": "execute_result"
    },
    {
     "data": {
      "text/plain": [
       "Text(13.175000000000004, 0.5, 'Euro')"
      ]
     },
     "execution_count": 25,
     "metadata": {},
     "output_type": "execute_result"
    },
    {
     "data": {
      "text/plain": [
       "Text(0.5, 579.352573529412, 'DE')"
      ]
     },
     "execution_count": 25,
     "metadata": {},
     "output_type": "execute_result"
    },
    {
     "data": {
      "text/plain": [
       "Text(307.07500000000005, 0.5, 'Euro')"
      ]
     },
     "execution_count": 25,
     "metadata": {},
     "output_type": "execute_result"
    },
    {
     "data": {
      "text/plain": [
       "Text(0.5, 579.352573529412, 'DE')"
      ]
     },
     "execution_count": 25,
     "metadata": {},
     "output_type": "execute_result"
    },
    {
     "data": {
      "text/plain": [
       "Text(591.475, 0.5, 'Euro')"
      ]
     },
     "execution_count": 25,
     "metadata": {},
     "output_type": "execute_result"
    },
    {
     "data": {
      "text/plain": [
       "Text(0.5, 435.98786764705915, 'DE')"
      ]
     },
     "execution_count": 25,
     "metadata": {},
     "output_type": "execute_result"
    },
    {
     "data": {
      "text/plain": [
       "Text(-14.824999999999996, 0.5, 'Euro')"
      ]
     },
     "execution_count": 25,
     "metadata": {},
     "output_type": "execute_result"
    },
    {
     "data": {
      "text/plain": [
       "Text(0.5, 435.98786764705915, 'DE')"
      ]
     },
     "execution_count": 25,
     "metadata": {},
     "output_type": "execute_result"
    },
    {
     "data": {
      "text/plain": [
       "Text(297.45000000000005, 0.5, 'Euro')"
      ]
     },
     "execution_count": 25,
     "metadata": {},
     "output_type": "execute_result"
    },
    {
     "data": {
      "text/plain": [
       "Text(0.5, 435.98786764705915, 'DE')"
      ]
     },
     "execution_count": 25,
     "metadata": {},
     "output_type": "execute_result"
    },
    {
     "data": {
      "text/plain": [
       "Text(553.975, 0.5, 'Euro')"
      ]
     },
     "execution_count": 25,
     "metadata": {},
     "output_type": "execute_result"
    },
    {
     "data": {
      "text/plain": [
       "Text(0.5, 292.62316176470625, 'ES')"
      ]
     },
     "execution_count": 25,
     "metadata": {},
     "output_type": "execute_result"
    },
    {
     "data": {
      "text/plain": [
       "Text(-8.574999999999996, 0.5, 'Euro')"
      ]
     },
     "execution_count": 25,
     "metadata": {},
     "output_type": "execute_result"
    },
    {
     "data": {
      "text/plain": [
       "Text(0.5, 292.62316176470625, 'ES')"
      ]
     },
     "execution_count": 25,
     "metadata": {},
     "output_type": "execute_result"
    },
    {
     "data": {
      "text/plain": [
       "Text(275.82500000000005, 0.5, 'Euro')"
      ]
     },
     "execution_count": 25,
     "metadata": {},
     "output_type": "execute_result"
    },
    {
     "data": {
      "text/plain": [
       "Text(0.5, 292.62316176470625, 'ES')"
      ]
     },
     "execution_count": 25,
     "metadata": {},
     "output_type": "execute_result"
    },
    {
     "data": {
      "text/plain": [
       "Text(560.1, 0.5, 'Euro')"
      ]
     },
     "execution_count": 25,
     "metadata": {},
     "output_type": "execute_result"
    },
    {
     "data": {
      "text/plain": [
       "Text(0.5, 149.25845588235333, 'ES')"
      ]
     },
     "execution_count": 25,
     "metadata": {},
     "output_type": "execute_result"
    },
    {
     "data": {
      "text/plain": [
       "Text(-14.824999999999996, 0.5, 'Euro')"
      ]
     },
     "execution_count": 25,
     "metadata": {},
     "output_type": "execute_result"
    },
    {
     "data": {
      "text/plain": [
       "Text(0.5, 149.25845588235333, 'ES')"
      ]
     },
     "execution_count": 25,
     "metadata": {},
     "output_type": "execute_result"
    },
    {
     "data": {
      "text/plain": [
       "Text(269.57500000000005, 0.5, 'Euro')"
      ]
     },
     "execution_count": 25,
     "metadata": {},
     "output_type": "execute_result"
    },
    {
     "data": {
      "text/plain": [
       "Text(0.5, 150.16470588235333, 'ES')"
      ]
     },
     "execution_count": 25,
     "metadata": {},
     "output_type": "execute_result"
    },
    {
     "data": {
      "text/plain": [
       "Text(581.975, 0.5, 'Euro')"
      ]
     },
     "execution_count": 25,
     "metadata": {},
     "output_type": "execute_result"
    },
    {
     "data": {
      "text/plain": [
       "Text(0.5, 5.893750000000445, 'GR')"
      ]
     },
     "execution_count": 25,
     "metadata": {},
     "output_type": "execute_result"
    },
    {
     "data": {
      "text/plain": [
       "Text(13.050000000000004, 0.5, 'Euro')"
      ]
     },
     "execution_count": 25,
     "metadata": {},
     "output_type": "execute_result"
    },
    {
     "data": {
      "text/plain": [
       "Text(0.5, 5.893750000000445, 'GR')"
      ]
     },
     "execution_count": 25,
     "metadata": {},
     "output_type": "execute_result"
    },
    {
     "data": {
      "text/plain": [
       "Text(307.07500000000005, 0.5, 'Euro')"
      ]
     },
     "execution_count": 25,
     "metadata": {},
     "output_type": "execute_result"
    },
    {
     "data": {
      "text/plain": [
       "Text(0.5, 5.893750000000445, 'GR')"
      ]
     },
     "execution_count": 25,
     "metadata": {},
     "output_type": "execute_result"
    },
    {
     "data": {
      "text/plain": [
       "Text(575.6, 0.5, 'Euro')"
      ]
     },
     "execution_count": 25,
     "metadata": {},
     "output_type": "execute_result"
    },
    {
     "data": {
      "image/png": "[encoded data removed]",
      "text/plain": [
       "<Figure size 864x2448 with 51 Axes>"
      ]
     },
     "metadata": {
      "needs_background": "light"
     },
     "output_type": "display_data"
    }
   ],
   "source": [
    "order = melt_cv.variable.unique()\n",
    "\n",
    "\n",
    "included = (include * 6)\n",
    "included.sort()\n",
    "\n",
    "g = sns.FacetGrid(melt_cv, row=\"country\", col= \"Period\" , hue= \"variable\",  palette=\"Set3\", height=2, aspect=2, margin_titles=True, legend_out=False, sharex=False, sharey=False)\n",
    "g.map(sns.barplot, \"variable\", \"value\", order=order, ci=None, label = True)\n",
    "axes = g.axes.flatten()\n",
    "for ax, b  in zip(axes, included):\n",
    "    ax.set_xlabel(b)\n",
    "    ax.set_ylabel(\"Euro\")\n",
    "    \n",
    "g.savefig('KPIs_vw2.png', dpi=200)"
   ]
  },
  {
   "cell_type": "code",
   "execution_count": null,
   "id": "db153578",
   "metadata": {
    "papermill": {
     "duration": 0.655821,
     "end_time": "2021-06-15T17:06:40.322703",
     "exception": false,
     "start_time": "2021-06-15T17:06:39.666882",
     "status": "completed"
    },
    "tags": []
   },
   "outputs": [],
   "source": []
  }
 ],
 "metadata": {
  "celltoolbar": "Tags",
  "kernelspec": {
   "display_name": "Python 3",
   "language": "python",
   "name": "python3"
  },
  "language_info": {
   "codemirror_mode": {
    "name": "ipython",
    "version": 3
   },
   "file_extension": ".py",
   "mimetype": "text/x-python",
   "name": "python",
   "nbconvert_exporter": "python",
   "pygments_lexer": "ipython3",
   "version": "3.7.6"
  },
  "papermill": {
   "default_parameters": {},
   "duration": 217.264687,
   "end_time": "2021-06-15T17:06:43.292434",
   "environment_variables": {},
   "exception": null,
   "input_path": "reporting/Audit Report.ipynb",
   "output_path": "//hecate/Insurance_US/Product Development/Product Management/Global PPM/Reporting/Data Collection/Pipeline Reporting Scripts/GPMpipeline/instances/2021.Q1\\reporting\\Audit Report06152021124539--live CHdistChan.ipynb",
   "parameters": {
    "commit_message": "Live run, add CH dist Channels",
    "inst_datetime": "06152021124539",
    "percode": "2021.Q1",
    "run_control": 1
   },
   "start_time": "2021-06-15T17:03:06.027747",
   "version": "2.3.3"
  }
 },
 "nbformat": 4,
 "nbformat_minor": 5
}