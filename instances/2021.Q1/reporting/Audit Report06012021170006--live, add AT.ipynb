{
 "cells": [
  {
   "cell_type": "markdown",
   "id": "2d56aa6e",
   "metadata": {
    "papermill": {
     "duration": 0.310096,
     "end_time": "2021-06-01T21:05:24.411671",
     "exception": false,
     "start_time": "2021-06-01T21:05:24.101575",
     "status": "completed"
    },
    "tags": []
   },
   "source": [
    "<img src=\"../images/AzPTravel_PPM.png\">"
   ]
  },
  {
   "cell_type": "markdown",
   "id": "45e52770",
   "metadata": {
    "papermill": {
     "duration": 0.331643,
     "end_time": "2021-06-01T21:05:25.013104",
     "exception": false,
     "start_time": "2021-06-01T21:05:24.681461",
     "status": "completed"
    },
    "tags": []
   },
   "source": [
    "# Audit Report\n",
    "\n",
    "## This script reads the output of the of the final data files and compares them to inputs. \n",
    "\n",
    "#### Euro Check\n",
    "- Compare the deltas on teh Localcurr to the source and raise errors if they do not match\n",
    "\n",
    "#### Prior over Period Check\n",
    "- Quickly compare period over period and YoY final data files for major KPI's and row counts. \n",
    "\n"
   ]
  },
  {
   "cell_type": "markdown",
   "id": "b3dffba1",
   "metadata": {
    "papermill": {
     "duration": 0.269042,
     "end_time": "2021-06-01T21:05:25.564186",
     "exception": false,
     "start_time": "2021-06-01T21:05:25.295144",
     "status": "completed"
    },
    "tags": []
   },
   "source": [
    "### User Variables\n",
    "- These are overwritten if inherited from run_control.ipynb.\n",
    "- Feel Free to reset them for a manual run if you like\n",
    "- Do not save without percode = \"-f\""
   ]
  },
  {
   "cell_type": "code",
   "execution_count": 1,
   "id": "7694f91c",
   "metadata": {
    "execution": {
     "iopub.execute_input": "2021-06-01T21:05:26.117779Z",
     "iopub.status.busy": "2021-06-01T21:05:26.106779Z",
     "iopub.status.idle": "2021-06-01T21:05:26.121782Z",
     "shell.execute_reply": "2021-06-01T21:05:26.134298Z"
    },
    "papermill": {
     "duration": 0.294586,
     "end_time": "2021-06-01T21:05:26.135298",
     "exception": false,
     "start_time": "2021-06-01T21:05:25.840712",
     "status": "completed"
    },
    "tags": [
     "parameters"
    ]
   },
   "outputs": [],
   "source": [
    "commit_message = \"Development and testing.\"\n",
    "# Give a brief reason for the run.\n",
    "\n",
    "run_control = 1\n",
    "#run_type = 0 - Lite run with no reporting, not recommended.\n",
    "#run_type = 1 - Lite run with normal reporting, default setting.\n",
    "#run_type = 2 - Heavy run with full reporting, available for audits and troubleshooting.\n",
    "#run_type = 5 - A default setting. Indicates the script is being run by an outside process without an inherited value\n",
    "\n",
    "percode = \"2021.Q1\"\n",
    "# Data Collection Code, this controls file paths and output names\n",
    "# \"-f\" is the value indicating a bad inheritance from run with arg\n",
    "\n",
    "s_format = \"p\"\n",
    "# denotes the source data format x == Excel; j == json, p == parquet\n",
    "\n",
    "#----------\n",
    "# do not edit - this either inherits the full instance timestamp from the papermill book or captures the run time of this script.\n",
    "from datetime import datetime  # datetime options\n",
    "inst_datetime = datetime.now().strftime(\"%m%d%Y%H%M%S\")"
   ]
  },
  {
   "cell_type": "code",
   "execution_count": 2,
   "id": "99fc57d1",
   "metadata": {
    "execution": {
     "iopub.execute_input": "2021-06-01T21:05:26.748569Z",
     "iopub.status.busy": "2021-06-01T21:05:26.744571Z",
     "iopub.status.idle": "2021-06-01T21:05:26.756573Z",
     "shell.execute_reply": "2021-06-01T21:05:26.758572Z"
    },
    "papermill": {
     "duration": 0.301785,
     "end_time": "2021-06-01T21:05:26.758572",
     "exception": false,
     "start_time": "2021-06-01T21:05:26.456787",
     "status": "completed"
    },
    "tags": [
     "injected-parameters"
    ]
   },
   "outputs": [],
   "source": [
    "# Parameters\n",
    "run_control = 1\n",
    "percode = \"2021.Q1\"\n",
    "commit_message = \"Live run, added AT after conversion from Excel\"\n",
    "inst_datetime = \"06012021170006\"\n"
   ]
  },
  {
   "cell_type": "markdown",
   "id": "6e26a628",
   "metadata": {
    "papermill": {
     "duration": 0.289017,
     "end_time": "2021-06-01T21:05:27.336110",
     "exception": false,
     "start_time": "2021-06-01T21:05:27.047093",
     "status": "completed"
    },
    "tags": []
   },
   "source": [
    "#### Notebook display options"
   ]
  },
  {
   "cell_type": "code",
   "execution_count": 3,
   "id": "fb1b2c79",
   "metadata": {
    "execution": {
     "iopub.execute_input": "2021-06-01T21:05:27.897185Z",
     "iopub.status.busy": "2021-06-01T21:05:27.893186Z",
     "iopub.status.idle": "2021-06-01T21:05:27.905182Z",
     "shell.execute_reply": "2021-06-01T21:05:27.906181Z"
    },
    "papermill": {
     "duration": 0.292994,
     "end_time": "2021-06-01T21:05:27.907181",
     "exception": false,
     "start_time": "2021-06-01T21:05:27.614187",
     "status": "completed"
    },
    "tags": []
   },
   "outputs": [],
   "source": [
    "from IPython.core.interactiveshell import InteractiveShell\n",
    "InteractiveShell.ast_node_interactivity = \"all\"\n"
   ]
  },
  {
   "cell_type": "markdown",
   "id": "9f4838e9",
   "metadata": {
    "papermill": {
     "duration": 0.285712,
     "end_time": "2021-06-01T21:05:28.488999",
     "exception": false,
     "start_time": "2021-06-01T21:05:28.203287",
     "status": "completed"
    },
    "tags": []
   },
   "source": [
    "#### import packages"
   ]
  },
  {
   "cell_type": "code",
   "execution_count": 4,
   "id": "94ff82af",
   "metadata": {
    "execution": {
     "iopub.execute_input": "2021-06-01T21:05:29.053125Z",
     "iopub.status.busy": "2021-06-01T21:05:29.051124Z",
     "iopub.status.idle": "2021-06-01T21:05:39.998472Z",
     "shell.execute_reply": "2021-06-01T21:05:39.999471Z"
    },
    "papermill": {
     "duration": 11.229339,
     "end_time": "2021-06-01T21:05:40.000471",
     "exception": false,
     "start_time": "2021-06-01T21:05:28.771132",
     "status": "completed"
    },
    "tags": []
   },
   "outputs": [],
   "source": [
    "#### Packages used\n",
    "\n",
    "import os # System commands\n",
    "import sys # System commands\n",
    "\n",
    "import warnings # custom warnigns options\n",
    "\n",
    "import glob # Directory operations\n",
    "import getpass # Work with parquet\n",
    "import json # Work with json\n",
    "\n",
    "import matplotlib.pyplot as plt #Plots and Graphs\n",
    "import seaborn as sns #Plots and Graphs\n",
    "import numpy as np # Series and math\n",
    "import pandas as pd #DataFrame and math\n",
    "\n",
    "#excel operations\n",
    "import re\n",
    "import nicexcel as nl # Excel operations\n",
    "import xlsxwriter # Excel operations\n",
    "import openpyxl # Excel operations\n",
    "\n",
    "#Not sure, test if needed\n",
    "import timeit\n",
    "\n"
   ]
  },
  {
   "cell_type": "markdown",
   "id": "5491a103",
   "metadata": {
    "papermill": {
     "duration": 0.263297,
     "end_time": "2021-06-01T21:05:40.559070",
     "exception": false,
     "start_time": "2021-06-01T21:05:40.295773",
     "status": "completed"
    },
    "tags": []
   },
   "source": [
    "#### Default Variables, these govern logic, do not edit."
   ]
  },
  {
   "cell_type": "code",
   "execution_count": 5,
   "id": "a7e0fe17",
   "metadata": {
    "execution": {
     "iopub.execute_input": "2021-06-01T21:05:41.111260Z",
     "iopub.status.busy": "2021-06-01T21:05:41.109276Z",
     "iopub.status.idle": "2021-06-01T21:05:41.117260Z",
     "shell.execute_reply": "2021-06-01T21:05:41.120262Z"
    },
    "papermill": {
     "duration": 0.308012,
     "end_time": "2021-06-01T21:05:41.120262",
     "exception": false,
     "start_time": "2021-06-01T21:05:40.812250",
     "status": "completed"
    },
    "tags": []
   },
   "outputs": [],
   "source": [
    "default_dc = \"20XX.QX\"\n",
    "default_rc = 0 #extra lite mode\n",
    "dummy_perc = \"33Q3\" # bad inheritance"
   ]
  },
  {
   "cell_type": "markdown",
   "id": "199492b8",
   "metadata": {
    "papermill": {
     "duration": 0.256041,
     "end_time": "2021-06-01T21:05:41.623000",
     "exception": false,
     "start_time": "2021-06-01T21:05:41.366959",
     "status": "completed"
    },
    "tags": []
   },
   "source": [
    "#### Script determining run context ie, manual, run_control.ipynb, or other."
   ]
  },
  {
   "cell_type": "code",
   "execution_count": 6,
   "id": "98758762",
   "metadata": {
    "execution": {
     "iopub.execute_input": "2021-06-01T21:05:42.167227Z",
     "iopub.status.busy": "2021-06-01T21:05:42.156228Z",
     "iopub.status.idle": "2021-06-01T21:05:42.174231Z",
     "shell.execute_reply": "2021-06-01T21:05:42.176227Z"
    },
    "papermill": {
     "duration": 0.284709,
     "end_time": "2021-06-01T21:05:42.176227",
     "exception": false,
     "start_time": "2021-06-01T21:05:41.891518",
     "status": "completed"
    },
    "tags": []
   },
   "outputs": [],
   "source": [
    "if run_control == 5:\n",
    "    run_control = default_rc \n",
    "else:\n",
    "    run_control = run_control\n",
    "\n",
    "try:\n",
    "    if sys.argv[1] == \"-f\":\n",
    "        percode = percode\n",
    "    else:\n",
    "        percode = sys.argv[1]\n",
    "\n",
    "except IndexError:\n",
    "    percode = default_dc\n",
    "except NameError:\n",
    "    percode = default_dc\n",
    "\n",
    "\n",
    "if percode == \"2021.Q1\":\n",
    "    \n",
    "     prev_percode = \"2020.Q4\"\n",
    "     prev_yearcode = \"2020.Q1\"\n",
    "\n",
    "elif percode == \"2020.Q4\":\n",
    "    \n",
    "     prev_percode = \"2020.Q3\"\n",
    "     prev_yearcode = \"2019.Q4\"\n",
    "\n",
    "elif percode == \"2020.Q3\":\n",
    "    \n",
    "     prev_percode = \"2020.Q1\"\n",
    "     prev_yearcode = \"none\"    \n",
    "\n",
    "elif percode == \"2020.Q1\":\n",
    "    \n",
    "     prev_percode = \"2019.Q4\"\n",
    "     prev_yearcode = \"none\"   "
   ]
  },
  {
   "cell_type": "markdown",
   "id": "de8c4df3",
   "metadata": {
    "papermill": {
     "duration": 0.257279,
     "end_time": "2021-06-01T21:05:42.707762",
     "exception": false,
     "start_time": "2021-06-01T21:05:42.450483",
     "status": "completed"
    },
    "tags": []
   },
   "source": [
    "#### style settings"
   ]
  },
  {
   "cell_type": "code",
   "execution_count": 7,
   "id": "99c24de4",
   "metadata": {
    "execution": {
     "iopub.execute_input": "2021-06-01T21:05:43.228508Z",
     "iopub.status.busy": "2021-06-01T21:05:43.224507Z",
     "iopub.status.idle": "2021-06-01T21:05:43.235508Z",
     "shell.execute_reply": "2021-06-01T21:05:43.236516Z"
    },
    "papermill": {
     "duration": 0.275555,
     "end_time": "2021-06-01T21:05:43.237508",
     "exception": false,
     "start_time": "2021-06-01T21:05:42.961953",
     "status": "completed"
    },
    "tags": []
   },
   "outputs": [],
   "source": [
    "from IPython.core.interactiveshell import InteractiveShell\n",
    "InteractiveShell.ast_node_interactivity = \"all\"\n",
    "\n",
    "pd.set_option('display.float_format', lambda x: '%.5f' % x)"
   ]
  },
  {
   "cell_type": "markdown",
   "id": "32e1786d",
   "metadata": {
    "papermill": {
     "duration": 0.254558,
     "end_time": "2021-06-01T21:05:43.745068",
     "exception": false,
     "start_time": "2021-06-01T21:05:43.490510",
     "status": "completed"
    },
    "tags": []
   },
   "source": [
    "\n",
    "## Begin Input Read\n",
    "- Make paths used in script\n",
    "- all paths should be modular and easily replaced ahead of operations."
   ]
  },
  {
   "cell_type": "code",
   "execution_count": 8,
   "id": "ff5b162e",
   "metadata": {
    "execution": {
     "iopub.execute_input": "2021-06-01T21:05:44.246614Z",
     "iopub.status.busy": "2021-06-01T21:05:44.245614Z",
     "iopub.status.idle": "2021-06-01T21:05:44.250615Z",
     "shell.execute_reply": "2021-06-01T21:05:44.252614Z"
    },
    "papermill": {
     "duration": 0.268589,
     "end_time": "2021-06-01T21:05:44.252614",
     "exception": false,
     "start_time": "2021-06-01T21:05:43.984025",
     "status": "completed"
    },
    "tags": []
   },
   "outputs": [],
   "source": [
    "#root directory\n",
    "rt_path = f'\\\\\\\\hecate\\\\Insurance_US\\\\Product Development\\\\Product Management\\\\Global PPM\\\\Reporting\\Data Collection'\n",
    "\n",
    "# Euro file dir\n",
    "euro_conv_source_path =current_path = os.path.join(rt_path ,percode,'External Resources')\n",
    "\n",
    "# Source file dirs\n",
    "current_path = os.path.join(rt_path ,\"Production\" , percode)\n",
    "previous_period_path = os.path.join(rt_path ,\"Production\" , prev_percode)\n",
    "previous_year_path = os.path.join(rt_path ,\"Production\" , prev_yearcode )\n",
    "\n",
    "\n"
   ]
  },
  {
   "cell_type": "markdown",
   "id": "f5c84ca1",
   "metadata": {
    "papermill": {
     "duration": 0.398644,
     "end_time": "2021-06-01T21:05:44.886655",
     "exception": false,
     "start_time": "2021-06-01T21:05:44.488011",
     "status": "completed"
    },
    "tags": []
   },
   "source": [
    "#### Make sources used in script\n",
    "- all sources should be modular and easily replaced ahead of operations."
   ]
  },
  {
   "cell_type": "code",
   "execution_count": 9,
   "id": "121b7790",
   "metadata": {
    "execution": {
     "iopub.execute_input": "2021-06-01T21:05:45.729528Z",
     "iopub.status.busy": "2021-06-01T21:05:45.721521Z",
     "iopub.status.idle": "2021-06-01T21:05:45.742523Z",
     "shell.execute_reply": "2021-06-01T21:05:45.743522Z"
    },
    "papermill": {
     "duration": 0.278526,
     "end_time": "2021-06-01T21:05:45.743522",
     "exception": false,
     "start_time": "2021-06-01T21:05:45.464996",
     "status": "completed"
    },
    "tags": []
   },
   "outputs": [],
   "source": [
    "if \"Q1\" in percode:\n",
    "\n",
    "    EURRATES = str.replace(f\"EURRATES {percode}.xlsx\",\"Q1\",\"03.31\")\n",
    "\n",
    "elif  \"Q2\" in percode:\n",
    "\n",
    "    EURRATES = str.replace(f\"EURRATES {percode}.xlsx\",\"Q2\",\"06.30\")\n",
    "\n",
    "elif  \"Q3\" in percode:\n",
    "\n",
    "    EURRATES = str.replace(f\"EURRATES {percode}.xlsx\",\"Q2\",\"09.30\")\n",
    "    \n",
    "elif  \"Q4\" in percode:\n",
    "\n",
    "    EURRATES = str.replace(f\"EURRATES {percode}.xlsx\",\"Q2\",\"12.31\")\n",
    "    \n",
    "eurrates = os.path.join( euro_conv_source_path,   EURRATES)\n",
    "\n",
    "\n",
    "\n",
    "current_lc_file = os.path.join(current_path  ,f'{percode}.localcur.csv')\n",
    "current_eur_file  = os.path.join(current_path  ,f'{percode}.euroconv.csv')\n",
    "\n",
    "previous_period_lc_file = os.path.join(previous_period_path ,f'{ prev_percode}.localcur.csv')\n",
    "previous_period_eur_file  = os.path.join(previous_period_path ,f'{ prev_percode}.euroconv.csv')\n",
    "\n",
    "previous_year_lc_file = os.path.join(previous_year_path  ,f'{ prev_yearcode}.localcur.csv')\n",
    "previous_year_eur_file  = os.path.join(previous_year_path ,f'{ prev_yearcode}.euroconv.csv')\n"
   ]
  },
  {
   "cell_type": "markdown",
   "id": "7a86f3db",
   "metadata": {
    "papermill": {
     "duration": 0.253073,
     "end_time": "2021-06-01T21:05:46.260120",
     "exception": false,
     "start_time": "2021-06-01T21:05:46.007047",
     "status": "completed"
    },
    "tags": []
   },
   "source": [
    "#### import data"
   ]
  },
  {
   "cell_type": "code",
   "execution_count": 10,
   "id": "69b2b963",
   "metadata": {
    "execution": {
     "iopub.execute_input": "2021-06-01T21:05:46.804683Z",
     "iopub.status.busy": "2021-06-01T21:05:46.798685Z",
     "iopub.status.idle": "2021-06-01T21:05:52.455564Z",
     "shell.execute_reply": "2021-06-01T21:05:52.453564Z"
    },
    "papermill": {
     "duration": 5.208128,
     "end_time": "2021-06-01T21:05:51.724010",
     "exception": false,
     "start_time": "2021-06-01T21:05:46.515882",
     "status": "completed"
    },
    "tags": []
   },
   "outputs": [
    {
     "name": "stdout",
     "output_type": "stream",
     "text": [
      "put_cell 21 36\n"
     ]
    },
    {
     "ename": "KeyboardInterrupt",
     "evalue": "",
     "output_type": "error",
     "traceback": [
      "\u001b[1;31m---------------------------------------------------------------------------\u001b[0m",
      "\u001b[1;31mKeyboardInterrupt\u001b[0m                         Traceback (most recent call last)",
      "\u001b[1;32m<ipython-input-10-ba942017213d>\u001b[0m in \u001b[0;36m<module>\u001b[1;34m\u001b[0m\n\u001b[1;32m----> 1\u001b[1;33m \u001b[0meurrates_df\u001b[0m \u001b[1;33m=\u001b[0m \u001b[0mpd\u001b[0m\u001b[1;33m.\u001b[0m\u001b[0mread_excel\u001b[0m\u001b[1;33m(\u001b[0m\u001b[0meurrates\u001b[0m\u001b[1;33m,\u001b[0m\u001b[0msheet_name\u001b[0m \u001b[1;33m=\u001b[0m \u001b[1;34m\"Output\"\u001b[0m\u001b[1;33m)\u001b[0m\u001b[1;33m\u001b[0m\u001b[1;33m\u001b[0m\u001b[0m\n\u001b[0m\u001b[0;32m      2\u001b[0m \u001b[1;33m\u001b[0m\u001b[0m\n\u001b[0;32m      3\u001b[0m \u001b[1;33m\u001b[0m\u001b[0m\n\u001b[0;32m      4\u001b[0m \u001b[0mcurrent_lc_df\u001b[0m \u001b[1;33m=\u001b[0m \u001b[0mpd\u001b[0m\u001b[1;33m.\u001b[0m\u001b[0mread_csv\u001b[0m\u001b[1;33m(\u001b[0m\u001b[0mcurrent_lc_file\u001b[0m \u001b[1;33m,\u001b[0m \u001b[0mengine\u001b[0m\u001b[1;33m=\u001b[0m\u001b[1;34m'python'\u001b[0m\u001b[1;33m)\u001b[0m\u001b[1;33m\u001b[0m\u001b[1;33m\u001b[0m\u001b[0m\n\u001b[0;32m      5\u001b[0m \u001b[0mcurrent_eur_df\u001b[0m \u001b[1;33m=\u001b[0m \u001b[0mpd\u001b[0m\u001b[1;33m.\u001b[0m\u001b[0mread_csv\u001b[0m\u001b[1;33m(\u001b[0m\u001b[0mcurrent_eur_file\u001b[0m \u001b[1;33m,\u001b[0m \u001b[0mengine\u001b[0m\u001b[1;33m=\u001b[0m\u001b[1;34m'python'\u001b[0m\u001b[1;33m)\u001b[0m\u001b[1;33m\u001b[0m\u001b[1;33m\u001b[0m\u001b[0m\n",
      "\u001b[1;32m~\\Anaconda3\\lib\\site-packages\\pandas\\util\\_decorators.py\u001b[0m in \u001b[0;36mwrapper\u001b[1;34m(*args, **kwargs)\u001b[0m\n\u001b[0;32m    294\u001b[0m                 )\n\u001b[0;32m    295\u001b[0m                 \u001b[0mwarnings\u001b[0m\u001b[1;33m.\u001b[0m\u001b[0mwarn\u001b[0m\u001b[1;33m(\u001b[0m\u001b[0mmsg\u001b[0m\u001b[1;33m,\u001b[0m \u001b[0mFutureWarning\u001b[0m\u001b[1;33m,\u001b[0m \u001b[0mstacklevel\u001b[0m\u001b[1;33m=\u001b[0m\u001b[0mstacklevel\u001b[0m\u001b[1;33m)\u001b[0m\u001b[1;33m\u001b[0m\u001b[1;33m\u001b[0m\u001b[0m\n\u001b[1;32m--> 296\u001b[1;33m             \u001b[1;32mreturn\u001b[0m \u001b[0mfunc\u001b[0m\u001b[1;33m(\u001b[0m\u001b[1;33m*\u001b[0m\u001b[0margs\u001b[0m\u001b[1;33m,\u001b[0m \u001b[1;33m**\u001b[0m\u001b[0mkwargs\u001b[0m\u001b[1;33m)\u001b[0m\u001b[1;33m\u001b[0m\u001b[1;33m\u001b[0m\u001b[0m\n\u001b[0m\u001b[0;32m    297\u001b[0m \u001b[1;33m\u001b[0m\u001b[0m\n\u001b[0;32m    298\u001b[0m         \u001b[1;32mreturn\u001b[0m \u001b[0mwrapper\u001b[0m\u001b[1;33m\u001b[0m\u001b[1;33m\u001b[0m\u001b[0m\n",
      "\u001b[1;32m~\\Anaconda3\\lib\\site-packages\\pandas\\io\\excel\\_base.py\u001b[0m in \u001b[0;36mread_excel\u001b[1;34m(io, sheet_name, header, names, index_col, usecols, squeeze, dtype, engine, converters, true_values, false_values, skiprows, nrows, na_values, keep_default_na, na_filter, verbose, parse_dates, date_parser, thousands, comment, skipfooter, convert_float, mangle_dupe_cols)\u001b[0m\n\u001b[0;32m    302\u001b[0m \u001b[1;33m\u001b[0m\u001b[0m\n\u001b[0;32m    303\u001b[0m     \u001b[1;32mif\u001b[0m \u001b[1;32mnot\u001b[0m \u001b[0misinstance\u001b[0m\u001b[1;33m(\u001b[0m\u001b[0mio\u001b[0m\u001b[1;33m,\u001b[0m \u001b[0mExcelFile\u001b[0m\u001b[1;33m)\u001b[0m\u001b[1;33m:\u001b[0m\u001b[1;33m\u001b[0m\u001b[1;33m\u001b[0m\u001b[0m\n\u001b[1;32m--> 304\u001b[1;33m         \u001b[0mio\u001b[0m \u001b[1;33m=\u001b[0m \u001b[0mExcelFile\u001b[0m\u001b[1;33m(\u001b[0m\u001b[0mio\u001b[0m\u001b[1;33m,\u001b[0m \u001b[0mengine\u001b[0m\u001b[1;33m=\u001b[0m\u001b[0mengine\u001b[0m\u001b[1;33m)\u001b[0m\u001b[1;33m\u001b[0m\u001b[1;33m\u001b[0m\u001b[0m\n\u001b[0m\u001b[0;32m    305\u001b[0m     \u001b[1;32melif\u001b[0m \u001b[0mengine\u001b[0m \u001b[1;32mand\u001b[0m \u001b[0mengine\u001b[0m \u001b[1;33m!=\u001b[0m \u001b[0mio\u001b[0m\u001b[1;33m.\u001b[0m\u001b[0mengine\u001b[0m\u001b[1;33m:\u001b[0m\u001b[1;33m\u001b[0m\u001b[1;33m\u001b[0m\u001b[0m\n\u001b[0;32m    306\u001b[0m         raise ValueError(\n",
      "\u001b[1;32m~\\Anaconda3\\lib\\site-packages\\pandas\\io\\excel\\_base.py\u001b[0m in \u001b[0;36m__init__\u001b[1;34m(self, path_or_buffer, engine)\u001b[0m\n\u001b[0;32m    865\u001b[0m         \u001b[0mself\u001b[0m\u001b[1;33m.\u001b[0m\u001b[0m_io\u001b[0m \u001b[1;33m=\u001b[0m \u001b[0mstringify_path\u001b[0m\u001b[1;33m(\u001b[0m\u001b[0mpath_or_buffer\u001b[0m\u001b[1;33m)\u001b[0m\u001b[1;33m\u001b[0m\u001b[1;33m\u001b[0m\u001b[0m\n\u001b[0;32m    866\u001b[0m \u001b[1;33m\u001b[0m\u001b[0m\n\u001b[1;32m--> 867\u001b[1;33m         \u001b[0mself\u001b[0m\u001b[1;33m.\u001b[0m\u001b[0m_reader\u001b[0m \u001b[1;33m=\u001b[0m \u001b[0mself\u001b[0m\u001b[1;33m.\u001b[0m\u001b[0m_engines\u001b[0m\u001b[1;33m[\u001b[0m\u001b[0mengine\u001b[0m\u001b[1;33m]\u001b[0m\u001b[1;33m(\u001b[0m\u001b[0mself\u001b[0m\u001b[1;33m.\u001b[0m\u001b[0m_io\u001b[0m\u001b[1;33m)\u001b[0m\u001b[1;33m\u001b[0m\u001b[1;33m\u001b[0m\u001b[0m\n\u001b[0m\u001b[0;32m    868\u001b[0m \u001b[1;33m\u001b[0m\u001b[0m\n\u001b[0;32m    869\u001b[0m     \u001b[1;32mdef\u001b[0m \u001b[0m__fspath__\u001b[0m\u001b[1;33m(\u001b[0m\u001b[0mself\u001b[0m\u001b[1;33m)\u001b[0m\u001b[1;33m:\u001b[0m\u001b[1;33m\u001b[0m\u001b[1;33m\u001b[0m\u001b[0m\n",
      "\u001b[1;32m~\\Anaconda3\\lib\\site-packages\\pandas\\io\\excel\\_xlrd.py\u001b[0m in \u001b[0;36m__init__\u001b[1;34m(self, filepath_or_buffer)\u001b[0m\n\u001b[0;32m     20\u001b[0m         \u001b[0merr_msg\u001b[0m \u001b[1;33m=\u001b[0m \u001b[1;34m\"Install xlrd >= 1.0.0 for Excel support\"\u001b[0m\u001b[1;33m\u001b[0m\u001b[1;33m\u001b[0m\u001b[0m\n\u001b[0;32m     21\u001b[0m         \u001b[0mimport_optional_dependency\u001b[0m\u001b[1;33m(\u001b[0m\u001b[1;34m\"xlrd\"\u001b[0m\u001b[1;33m,\u001b[0m \u001b[0mextra\u001b[0m\u001b[1;33m=\u001b[0m\u001b[0merr_msg\u001b[0m\u001b[1;33m)\u001b[0m\u001b[1;33m\u001b[0m\u001b[1;33m\u001b[0m\u001b[0m\n\u001b[1;32m---> 22\u001b[1;33m         \u001b[0msuper\u001b[0m\u001b[1;33m(\u001b[0m\u001b[1;33m)\u001b[0m\u001b[1;33m.\u001b[0m\u001b[0m__init__\u001b[0m\u001b[1;33m(\u001b[0m\u001b[0mfilepath_or_buffer\u001b[0m\u001b[1;33m)\u001b[0m\u001b[1;33m\u001b[0m\u001b[1;33m\u001b[0m\u001b[0m\n\u001b[0m\u001b[0;32m     23\u001b[0m \u001b[1;33m\u001b[0m\u001b[0m\n\u001b[0;32m     24\u001b[0m     \u001b[1;33m@\u001b[0m\u001b[0mproperty\u001b[0m\u001b[1;33m\u001b[0m\u001b[1;33m\u001b[0m\u001b[0m\n",
      "\u001b[1;32m~\\Anaconda3\\lib\\site-packages\\pandas\\io\\excel\\_base.py\u001b[0m in \u001b[0;36m__init__\u001b[1;34m(self, filepath_or_buffer)\u001b[0m\n\u001b[0;32m    351\u001b[0m             \u001b[0mself\u001b[0m\u001b[1;33m.\u001b[0m\u001b[0mbook\u001b[0m \u001b[1;33m=\u001b[0m \u001b[0mself\u001b[0m\u001b[1;33m.\u001b[0m\u001b[0mload_workbook\u001b[0m\u001b[1;33m(\u001b[0m\u001b[0mfilepath_or_buffer\u001b[0m\u001b[1;33m)\u001b[0m\u001b[1;33m\u001b[0m\u001b[1;33m\u001b[0m\u001b[0m\n\u001b[0;32m    352\u001b[0m         \u001b[1;32melif\u001b[0m \u001b[0misinstance\u001b[0m\u001b[1;33m(\u001b[0m\u001b[0mfilepath_or_buffer\u001b[0m\u001b[1;33m,\u001b[0m \u001b[0mstr\u001b[0m\u001b[1;33m)\u001b[0m\u001b[1;33m:\u001b[0m\u001b[1;33m\u001b[0m\u001b[1;33m\u001b[0m\u001b[0m\n\u001b[1;32m--> 353\u001b[1;33m             \u001b[0mself\u001b[0m\u001b[1;33m.\u001b[0m\u001b[0mbook\u001b[0m \u001b[1;33m=\u001b[0m \u001b[0mself\u001b[0m\u001b[1;33m.\u001b[0m\u001b[0mload_workbook\u001b[0m\u001b[1;33m(\u001b[0m\u001b[0mfilepath_or_buffer\u001b[0m\u001b[1;33m)\u001b[0m\u001b[1;33m\u001b[0m\u001b[1;33m\u001b[0m\u001b[0m\n\u001b[0m\u001b[0;32m    354\u001b[0m         \u001b[1;32melif\u001b[0m \u001b[0misinstance\u001b[0m\u001b[1;33m(\u001b[0m\u001b[0mfilepath_or_buffer\u001b[0m\u001b[1;33m,\u001b[0m \u001b[0mbytes\u001b[0m\u001b[1;33m)\u001b[0m\u001b[1;33m:\u001b[0m\u001b[1;33m\u001b[0m\u001b[1;33m\u001b[0m\u001b[0m\n\u001b[0;32m    355\u001b[0m             \u001b[0mself\u001b[0m\u001b[1;33m.\u001b[0m\u001b[0mbook\u001b[0m \u001b[1;33m=\u001b[0m \u001b[0mself\u001b[0m\u001b[1;33m.\u001b[0m\u001b[0mload_workbook\u001b[0m\u001b[1;33m(\u001b[0m\u001b[0mBytesIO\u001b[0m\u001b[1;33m(\u001b[0m\u001b[0mfilepath_or_buffer\u001b[0m\u001b[1;33m)\u001b[0m\u001b[1;33m)\u001b[0m\u001b[1;33m\u001b[0m\u001b[1;33m\u001b[0m\u001b[0m\n",
      "\u001b[1;32m~\\Anaconda3\\lib\\site-packages\\pandas\\io\\excel\\_xlrd.py\u001b[0m in \u001b[0;36mload_workbook\u001b[1;34m(self, filepath_or_buffer)\u001b[0m\n\u001b[0;32m     35\u001b[0m             \u001b[1;32mreturn\u001b[0m \u001b[0mopen_workbook\u001b[0m\u001b[1;33m(\u001b[0m\u001b[0mfile_contents\u001b[0m\u001b[1;33m=\u001b[0m\u001b[0mdata\u001b[0m\u001b[1;33m)\u001b[0m\u001b[1;33m\u001b[0m\u001b[1;33m\u001b[0m\u001b[0m\n\u001b[0;32m     36\u001b[0m         \u001b[1;32melse\u001b[0m\u001b[1;33m:\u001b[0m\u001b[1;33m\u001b[0m\u001b[1;33m\u001b[0m\u001b[0m\n\u001b[1;32m---> 37\u001b[1;33m             \u001b[1;32mreturn\u001b[0m \u001b[0mopen_workbook\u001b[0m\u001b[1;33m(\u001b[0m\u001b[0mfilepath_or_buffer\u001b[0m\u001b[1;33m)\u001b[0m\u001b[1;33m\u001b[0m\u001b[1;33m\u001b[0m\u001b[0m\n\u001b[0m\u001b[0;32m     38\u001b[0m \u001b[1;33m\u001b[0m\u001b[0m\n\u001b[0;32m     39\u001b[0m     \u001b[1;33m@\u001b[0m\u001b[0mproperty\u001b[0m\u001b[1;33m\u001b[0m\u001b[1;33m\u001b[0m\u001b[0m\n",
      "\u001b[1;32m~\\Anaconda3\\lib\\site-packages\\xlrd\\__init__.py\u001b[0m in \u001b[0;36mopen_workbook\u001b[1;34m(filename, logfile, verbosity, use_mmap, file_contents, encoding_override, formatting_info, on_demand, ragged_rows)\u001b[0m\n\u001b[0;32m    136\u001b[0m                 \u001b[0mformatting_info\u001b[0m\u001b[1;33m=\u001b[0m\u001b[0mformatting_info\u001b[0m\u001b[1;33m,\u001b[0m\u001b[1;33m\u001b[0m\u001b[1;33m\u001b[0m\u001b[0m\n\u001b[0;32m    137\u001b[0m                 \u001b[0mon_demand\u001b[0m\u001b[1;33m=\u001b[0m\u001b[0mon_demand\u001b[0m\u001b[1;33m,\u001b[0m\u001b[1;33m\u001b[0m\u001b[1;33m\u001b[0m\u001b[0m\n\u001b[1;32m--> 138\u001b[1;33m                 \u001b[0mragged_rows\u001b[0m\u001b[1;33m=\u001b[0m\u001b[0mragged_rows\u001b[0m\u001b[1;33m,\u001b[0m\u001b[1;33m\u001b[0m\u001b[1;33m\u001b[0m\u001b[0m\n\u001b[0m\u001b[0;32m    139\u001b[0m             )\n\u001b[0;32m    140\u001b[0m             \u001b[1;32mreturn\u001b[0m \u001b[0mbk\u001b[0m\u001b[1;33m\u001b[0m\u001b[1;33m\u001b[0m\u001b[0m\n",
      "\u001b[1;32m~\\Anaconda3\\lib\\site-packages\\xlrd\\xlsx.py\u001b[0m in \u001b[0;36mopen_workbook_2007_xml\u001b[1;34m(zf, component_names, logfile, verbosity, use_mmap, formatting_info, on_demand, ragged_rows)\u001b[0m\n\u001b[0;32m    839\u001b[0m         \u001b[0mx12sheet\u001b[0m \u001b[1;33m=\u001b[0m \u001b[0mX12Sheet\u001b[0m\u001b[1;33m(\u001b[0m\u001b[0msheet\u001b[0m\u001b[1;33m,\u001b[0m \u001b[0mlogfile\u001b[0m\u001b[1;33m,\u001b[0m \u001b[0mverbosity\u001b[0m\u001b[1;33m)\u001b[0m\u001b[1;33m\u001b[0m\u001b[1;33m\u001b[0m\u001b[0m\n\u001b[0;32m    840\u001b[0m         \u001b[0mheading\u001b[0m \u001b[1;33m=\u001b[0m \u001b[1;34m\"Sheet %r (sheetx=%d) from %r\"\u001b[0m \u001b[1;33m%\u001b[0m \u001b[1;33m(\u001b[0m\u001b[0msheet\u001b[0m\u001b[1;33m.\u001b[0m\u001b[0mname\u001b[0m\u001b[1;33m,\u001b[0m \u001b[0msheetx\u001b[0m\u001b[1;33m,\u001b[0m \u001b[0mfname\u001b[0m\u001b[1;33m)\u001b[0m\u001b[1;33m\u001b[0m\u001b[1;33m\u001b[0m\u001b[0m\n\u001b[1;32m--> 841\u001b[1;33m         \u001b[0mx12sheet\u001b[0m\u001b[1;33m.\u001b[0m\u001b[0mprocess_stream\u001b[0m\u001b[1;33m(\u001b[0m\u001b[0mzflo\u001b[0m\u001b[1;33m,\u001b[0m \u001b[0mheading\u001b[0m\u001b[1;33m)\u001b[0m\u001b[1;33m\u001b[0m\u001b[1;33m\u001b[0m\u001b[0m\n\u001b[0m\u001b[0;32m    842\u001b[0m         \u001b[1;32mdel\u001b[0m \u001b[0mzflo\u001b[0m\u001b[1;33m\u001b[0m\u001b[1;33m\u001b[0m\u001b[0m\n\u001b[0;32m    843\u001b[0m \u001b[1;33m\u001b[0m\u001b[0m\n",
      "\u001b[1;32m~\\Anaconda3\\lib\\site-packages\\xlrd\\xlsx.py\u001b[0m in \u001b[0;36mown_process_stream\u001b[1;34m(self, stream, heading)\u001b[0m\n\u001b[0;32m    548\u001b[0m         \u001b[1;32mfor\u001b[0m \u001b[0mevent\u001b[0m\u001b[1;33m,\u001b[0m \u001b[0melem\u001b[0m \u001b[1;32min\u001b[0m \u001b[0mET\u001b[0m\u001b[1;33m.\u001b[0m\u001b[0miterparse\u001b[0m\u001b[1;33m(\u001b[0m\u001b[0mstream\u001b[0m\u001b[1;33m)\u001b[0m\u001b[1;33m:\u001b[0m\u001b[1;33m\u001b[0m\u001b[1;33m\u001b[0m\u001b[0m\n\u001b[0;32m    549\u001b[0m             \u001b[1;32mif\u001b[0m \u001b[0melem\u001b[0m\u001b[1;33m.\u001b[0m\u001b[0mtag\u001b[0m \u001b[1;33m==\u001b[0m \u001b[0mrow_tag\u001b[0m\u001b[1;33m:\u001b[0m\u001b[1;33m\u001b[0m\u001b[1;33m\u001b[0m\u001b[0m\n\u001b[1;32m--> 550\u001b[1;33m                 \u001b[0mself_do_row\u001b[0m\u001b[1;33m(\u001b[0m\u001b[0melem\u001b[0m\u001b[1;33m)\u001b[0m\u001b[1;33m\u001b[0m\u001b[1;33m\u001b[0m\u001b[0m\n\u001b[0m\u001b[0;32m    551\u001b[0m                 \u001b[0melem\u001b[0m\u001b[1;33m.\u001b[0m\u001b[0mclear\u001b[0m\u001b[1;33m(\u001b[0m\u001b[1;33m)\u001b[0m \u001b[1;31m# destroy all child elements (cells)\u001b[0m\u001b[1;33m\u001b[0m\u001b[1;33m\u001b[0m\u001b[0m\n\u001b[0;32m    552\u001b[0m             \u001b[1;32melif\u001b[0m \u001b[0melem\u001b[0m\u001b[1;33m.\u001b[0m\u001b[0mtag\u001b[0m \u001b[1;33m==\u001b[0m \u001b[0mU_SSML12\u001b[0m \u001b[1;33m+\u001b[0m \u001b[1;34m\"dimension\"\u001b[0m\u001b[1;33m:\u001b[0m\u001b[1;33m\u001b[0m\u001b[1;33m\u001b[0m\u001b[0m\n",
      "\u001b[1;32m~\\Anaconda3\\lib\\site-packages\\xlrd\\xlsx.py\u001b[0m in \u001b[0;36mdo_row\u001b[1;34m(self, row_elem)\u001b[0m\n\u001b[0;32m    690\u001b[0m                         \u001b[0mself\u001b[0m\u001b[1;33m.\u001b[0m\u001b[0msheet\u001b[0m\u001b[1;33m.\u001b[0m\u001b[0mput_cell\u001b[0m\u001b[1;33m(\u001b[0m\u001b[0mrowx\u001b[0m\u001b[1;33m,\u001b[0m \u001b[0mcolx\u001b[0m\u001b[1;33m,\u001b[0m \u001b[0mXL_CELL_BLANK\u001b[0m\u001b[1;33m,\u001b[0m \u001b[1;34m''\u001b[0m\u001b[1;33m,\u001b[0m \u001b[0mxf_index\u001b[0m\u001b[1;33m)\u001b[0m\u001b[1;33m\u001b[0m\u001b[1;33m\u001b[0m\u001b[0m\n\u001b[0;32m    691\u001b[0m                 \u001b[1;32melse\u001b[0m\u001b[1;33m:\u001b[0m\u001b[1;33m\u001b[0m\u001b[1;33m\u001b[0m\u001b[0m\n\u001b[1;32m--> 692\u001b[1;33m                     \u001b[0mself\u001b[0m\u001b[1;33m.\u001b[0m\u001b[0msheet\u001b[0m\u001b[1;33m.\u001b[0m\u001b[0mput_cell\u001b[0m\u001b[1;33m(\u001b[0m\u001b[0mrowx\u001b[0m\u001b[1;33m,\u001b[0m \u001b[0mcolx\u001b[0m\u001b[1;33m,\u001b[0m \u001b[1;32mNone\u001b[0m\u001b[1;33m,\u001b[0m \u001b[0mfloat\u001b[0m\u001b[1;33m(\u001b[0m\u001b[0mtvalue\u001b[0m\u001b[1;33m)\u001b[0m\u001b[1;33m,\u001b[0m \u001b[0mxf_index\u001b[0m\u001b[1;33m)\u001b[0m\u001b[1;33m\u001b[0m\u001b[1;33m\u001b[0m\u001b[0m\n\u001b[0m\u001b[0;32m    693\u001b[0m             \u001b[1;32melif\u001b[0m \u001b[0mcell_type\u001b[0m \u001b[1;33m==\u001b[0m \u001b[1;34m\"s\"\u001b[0m\u001b[1;33m:\u001b[0m\u001b[1;33m\u001b[0m\u001b[1;33m\u001b[0m\u001b[0m\n\u001b[0;32m    694\u001b[0m                 \u001b[1;31m# s = index into shared string table. 2nd most frequent type\u001b[0m\u001b[1;33m\u001b[0m\u001b[1;33m\u001b[0m\u001b[1;33m\u001b[0m\u001b[0m\n",
      "\u001b[1;32m~\\Anaconda3\\lib\\site-packages\\xlrd\\sheet.py\u001b[0m in \u001b[0;36mput_cell_unragged\u001b[1;34m(self, rowx, colx, ctype, value, xf_index)\u001b[0m\n\u001b[0;32m    700\u001b[0m         \u001b[1;31m# assert 0 <= colx < self.utter_max_cols\u001b[0m\u001b[1;33m\u001b[0m\u001b[1;33m\u001b[0m\u001b[1;33m\u001b[0m\u001b[0m\n\u001b[0;32m    701\u001b[0m         \u001b[1;31m# assert 0 <= rowx < self.utter_max_rows\u001b[0m\u001b[1;33m\u001b[0m\u001b[1;33m\u001b[0m\u001b[1;33m\u001b[0m\u001b[0m\n\u001b[1;32m--> 702\u001b[1;33m         \u001b[1;32mtry\u001b[0m\u001b[1;33m:\u001b[0m\u001b[1;33m\u001b[0m\u001b[1;33m\u001b[0m\u001b[0m\n\u001b[0m\u001b[0;32m    703\u001b[0m             \u001b[0mself\u001b[0m\u001b[1;33m.\u001b[0m\u001b[0m_cell_types\u001b[0m\u001b[1;33m[\u001b[0m\u001b[0mrowx\u001b[0m\u001b[1;33m]\u001b[0m\u001b[1;33m[\u001b[0m\u001b[0mcolx\u001b[0m\u001b[1;33m]\u001b[0m \u001b[1;33m=\u001b[0m \u001b[0mctype\u001b[0m\u001b[1;33m\u001b[0m\u001b[1;33m\u001b[0m\u001b[0m\n\u001b[0;32m    704\u001b[0m             \u001b[0mself\u001b[0m\u001b[1;33m.\u001b[0m\u001b[0m_cell_values\u001b[0m\u001b[1;33m[\u001b[0m\u001b[0mrowx\u001b[0m\u001b[1;33m]\u001b[0m\u001b[1;33m[\u001b[0m\u001b[0mcolx\u001b[0m\u001b[1;33m]\u001b[0m \u001b[1;33m=\u001b[0m \u001b[0mvalue\u001b[0m\u001b[1;33m\u001b[0m\u001b[1;33m\u001b[0m\u001b[0m\n",
      "\u001b[1;31mKeyboardInterrupt\u001b[0m: "
     ]
    }
   ],
   "source": [
    "eurrates_df = pd.read_excel(eurrates,sheet_name = \"Output\")\n",
    "\n",
    "\n",
    "current_lc_df = pd.read_csv(current_lc_file , engine='python') \n",
    "current_eur_df = pd.read_csv(current_eur_file , engine='python') \n",
    "\n",
    "\n",
    "previous_period_lc_df = pd.read_csv(previous_period_lc_file, engine='python')\n",
    "previous_period_eur_df = pd.read_csv(previous_period_eur_file , engine='python')\n",
    "\n",
    "\n",
    "previous_year_lc_df = pd.read_csv(previous_year_lc_file, engine='python') \n",
    "previous_year_eur_df = pd.read_csv(previous_year_eur_file , engine='python')\n",
    "\n"
   ]
  },
  {
   "cell_type": "markdown",
   "id": "990014ab",
   "metadata": {
    "papermill": {
     "duration": null,
     "end_time": null,
     "exception": null,
     "start_time": null,
     "status": "completed"
    },
    "tags": []
   },
   "source": [
    "## Begin Audits\n",
    "\n",
    "#### Euro Conversion Check.\n",
    "- Each major KPI evaluated bu Country by Currency in the source files and the official Allianz Connect reference report."
   ]
  },
  {
   "cell_type": "code",
   "execution_count": null,
   "id": "44f4132a",
   "metadata": {
    "papermill": {
     "duration": null,
     "end_time": null,
     "exception": null,
     "start_time": null,
     "status": "completed"
    },
    "tags": []
   },
   "outputs": [],
   "source": [
    "attributes = ['country', 'currency']\n",
    "\n",
    "alt_attributes = ['Country', 'Currency']\n",
    "\n",
    "comparison_fields = [\n",
    " 'written_revenues_net_of_taxes',\n",
    " 'written_revenues',\n",
    " 'earned_revenues_net_of_taxes',\n",
    " 'earned_revenues',\n",
    " 'total_compensation',\n",
    "  'actual_incurred_losses_(paid_+_ocr_+_ibnr)',\n",
    " 'total_expenses',\n",
    " 'profit_or_loss',\n",
    "]\n",
    "\n",
    "\n",
    "alt_comparison_fields = [\n",
    "'Written Revenues net of Taxes',\n",
    " 'Written Revenues',\n",
    " 'Earned Revenues net of Taxes',\n",
    " 'Earned Revenues',\n",
    " 'Total Compensation',\n",
    " 'Actual Incurred Losses (Paid + OCR + IBNR)',\n",
    " 'Total Expenses',\n",
    " 'Profit or Loss',\n",
    "]\n",
    "\n",
    "view_cols = [] \n",
    "\n",
    "for a in attributes: view_cols.append(a)\n",
    "for c in comparison_fields: view_cols.append(c)\n",
    "\n",
    "    \n",
    "    \n",
    "alt_view_cols = [] \n",
    "\n",
    "for a in alt_attributes: alt_view_cols.append(a)\n",
    "for c in alt_comparison_fields: alt_view_cols.append(c)\n",
    "    \n",
    "\n",
    "current_eur_view =  current_eur_df[view_cols].groupby(attributes).sum()\n",
    "\n",
    "try:\n",
    "    current_lc_view =  current_lc_df[view_cols].groupby(attributes).sum()\n",
    "\n",
    "except KeyError:\n",
    "    current_lc_view =  current_lc_df[alt_view_cols].groupby(alt_attributes).sum()  \n",
    "    \n",
    "\n",
    "previous_period_eur_view =  previous_period_eur_df[view_cols].groupby(attributes).sum()    \n",
    "previous_year_eur_view =  previous_year_eur_df[view_cols].groupby(attributes).sum()    \n",
    "\n",
    "\n"
   ]
  },
  {
   "cell_type": "code",
   "execution_count": null,
   "id": "ce419fe3",
   "metadata": {
    "papermill": {
     "duration": null,
     "end_time": null,
     "exception": null,
     "start_time": null,
     "status": "completed"
    },
    "tags": []
   },
   "outputs": [],
   "source": [
    "\n",
    "calculated_rates = current_lc_view.div(current_eur_view).reset_index()\n",
    "\n",
    "calculated_rates = calculated_rates.melt(id_vars=attributes).reset_index(drop = True)\n",
    "\n",
    "calculated_rates = calculated_rates[[\"country\",\"currency\", \"value\"]]\n",
    "\n",
    "calculated_rates['value'] = calculated_rates['value'].round(5)\n",
    "\n",
    "calculated_rates = calculated_rates.drop_duplicates()[calculated_rates['value'].notna()]\n",
    "calculated_rates "
   ]
  },
  {
   "cell_type": "code",
   "execution_count": null,
   "id": "72736b40",
   "metadata": {
    "papermill": {
     "duration": null,
     "end_time": null,
     "exception": null,
     "start_time": null,
     "status": "completed"
    },
    "tags": []
   },
   "outputs": [],
   "source": [
    "test = 1\n",
    "\n",
    "if calculated_rates.groupby( attributes).count()['value'].max() != 1: \n",
    "    \n",
    "    test = 0\n",
    "\n",
    "else:\n",
    "    \n",
    "    pass\n",
    "        \n",
    "        \n",
    "1/test # if this is an error you have bad currency conversions and possibly a bad join with extra rows\n",
    "\n",
    "#todo build a proper error class"
   ]
  },
  {
   "cell_type": "code",
   "execution_count": null,
   "id": "b9f54310",
   "metadata": {
    "papermill": {
     "duration": null,
     "end_time": null,
     "exception": null,
     "start_time": null,
     "status": "completed"
    },
    "tags": []
   },
   "outputs": [],
   "source": [
    "\n",
    "test = 1\n",
    "\n",
    "if len(current_eur_df[attributes].drop_duplicates()) != len(calculated_rates): \n",
    "    \n",
    "    test = 0\n",
    "\n",
    "else:\n",
    "    pass\n",
    "\n",
    "1/test # if this is an error you do not have the same number of country and curreny combos in all views. Major problem!\n",
    "\n",
    "#todo build a proper error class\n",
    "\n"
   ]
  },
  {
   "cell_type": "code",
   "execution_count": null,
   "id": "8a52d002",
   "metadata": {
    "papermill": {
     "duration": null,
     "end_time": null,
     "exception": null,
     "start_time": null,
     "status": "completed"
    },
    "tags": []
   },
   "outputs": [],
   "source": [
    "conversion_comparison =  calculated_rates.merge( eurrates_df,  how='left',  left_on='currency', right_on='CurrCode' )\n",
    "\n",
    "conversion_comparison\n",
    "\n",
    "\n"
   ]
  },
  {
   "cell_type": "code",
   "execution_count": null,
   "id": "ab3872c6",
   "metadata": {
    "papermill": {
     "duration": null,
     "end_time": null,
     "exception": null,
     "start_time": null,
     "status": "completed"
    },
    "tags": []
   },
   "outputs": [],
   "source": [
    "euro_df = conversion_comparison\n",
    "\n",
    "%store euro_df\n"
   ]
  },
  {
   "cell_type": "code",
   "execution_count": null,
   "id": "8be94470",
   "metadata": {
    "papermill": {
     "duration": null,
     "end_time": null,
     "exception": null,
     "start_time": null,
     "status": "completed"
    },
    "tags": []
   },
   "outputs": [],
   "source": [
    "\n",
    "test = 1\n",
    "\n",
    "if (   conversion_comparison['value']   - conversion_comparison['EUR_2_LC']).sum() != 0: \n",
    "    \n",
    "    test = 0\n",
    "\n",
    "else:\n",
    "    pass\n",
    "\n",
    "1/test # if this is an error you do not match the source currency document. Major problem!\n",
    "\n",
    "#todo build a proper error class\n"
   ]
  },
  {
   "cell_type": "markdown",
   "id": "095428c9",
   "metadata": {
    "papermill": {
     "duration": null,
     "end_time": null,
     "exception": null,
     "start_time": null,
     "status": "completed"
    },
    "tags": []
   },
   "source": [
    "#### Data views for evaluation\n",
    "- Create several views in order to populate graphs"
   ]
  },
  {
   "cell_type": "code",
   "execution_count": null,
   "id": "342a2333",
   "metadata": {
    "papermill": {
     "duration": null,
     "end_time": null,
     "exception": null,
     "start_time": null,
     "status": "completed"
    },
    "tags": []
   },
   "outputs": [],
   "source": [
    "current_eur_view['Period'] = percode\n",
    "previous_period_eur_view['Period']  =    prev_percode \n",
    "previous_year_eur_view['Period']    =  prev_yearcode \n",
    "\n"
   ]
  },
  {
   "cell_type": "code",
   "execution_count": null,
   "id": "10f3af2c",
   "metadata": {
    "papermill": {
     "duration": null,
     "end_time": null,
     "exception": null,
     "start_time": null,
     "status": "completed"
    },
    "tags": []
   },
   "outputs": [],
   "source": [
    "rowcounts = pd.DataFrame()\n",
    "\n",
    "rowcounts_current = current_eur_df[[\"country\",\"written_revenues_net_of_taxes\"]].groupby(\"country\").count() \n",
    "\n",
    "rowcounts_current[\"Period\"] = percode\n",
    "\n",
    "\n",
    "rowcounts_prev_per = previous_period_eur_df[[\"country\",\"written_revenues_net_of_taxes\"]].groupby(\"country\").count() \n",
    "\n",
    "rowcounts_prev_per[\"Period\"] = prev_percode \n",
    "\n",
    "\n",
    "rowcounts_py = previous_year_eur_df[[\"country\",\"written_revenues_net_of_taxes\"]].groupby(\"country\").count() \n",
    "\n",
    "rowcounts_py[\"Period\"] = prev_yearcode \n",
    "\n",
    "\n",
    "rowcounts = rowcounts.append(rowcounts_current).append(rowcounts_prev_per).append(rowcounts_py)\n",
    "rowcounts = rowcounts.rename( { 'written_revenues_net_of_taxes' :'Rowcounts' }, axis='columns')\n",
    "\n",
    "rowcounts = rowcounts.reset_index()\n",
    "\n",
    "\n"
   ]
  },
  {
   "cell_type": "code",
   "execution_count": null,
   "id": "01257a93",
   "metadata": {
    "papermill": {
     "duration": null,
     "end_time": null,
     "exception": null,
     "start_time": null,
     "status": "completed"
    },
    "scrolled": true,
    "tags": []
   },
   "outputs": [],
   "source": [
    "combo_views = current_eur_view.append(previous_period_eur_view).append(previous_year_eur_view)\n",
    "\n",
    "combo_views"
   ]
  },
  {
   "cell_type": "code",
   "execution_count": null,
   "id": "d414559c",
   "metadata": {
    "papermill": {
     "duration": null,
     "end_time": null,
     "exception": null,
     "start_time": null,
     "status": "completed"
    },
    "tags": []
   },
   "outputs": [],
   "source": [
    "combo_views = combo_views.reset_index()\n",
    "\n",
    "melt_cv = combo_views.melt(['country','Period','currency'], ignore_index = True)\n",
    "\n",
    "melt_cv['value'] = melt_cv['value'].fillna(0)\n"
   ]
  },
  {
   "cell_type": "code",
   "execution_count": null,
   "id": "0a41ec22",
   "metadata": {
    "papermill": {
     "duration": null,
     "end_time": null,
     "exception": null,
     "start_time": null,
     "status": "completed"
    },
    "tags": []
   },
   "outputs": [],
   "source": [
    "check_set0 = melt_cv[melt_cv[\"Period\"] == percode].groupby( [\"country\"]).sum()\n",
    "\n",
    "include = check_set0.index.values\n",
    "\n",
    "include = list(include)\n",
    "\n",
    "melt_cv = melt_cv[(melt_cv[\"country\"].isin(include)) & (~melt_cv[\"variable\"].isin([\"index\",\"written_revenues\",\"earned_revenues\"]) )]\n",
    "\n",
    "\n"
   ]
  },
  {
   "cell_type": "markdown",
   "id": "45962d84",
   "metadata": {
    "papermill": {
     "duration": null,
     "end_time": null,
     "exception": null,
     "start_time": null,
     "status": "completed"
    },
    "tags": []
   },
   "source": [
    "#Rowcount visual\n",
    "- see how many rows were submitted by each BU in this data submission vs the previous submission and the YoY submission."
   ]
  },
  {
   "cell_type": "code",
   "execution_count": null,
   "id": "1a4470e2",
   "metadata": {
    "papermill": {
     "duration": null,
     "end_time": null,
     "exception": null,
     "start_time": null,
     "status": "completed"
    },
    "tags": []
   },
   "outputs": [],
   "source": [
    "order = rowcounts.Period.unique()\n",
    "\n",
    "included = (include * 6)\n",
    "included.sort()\n",
    "\n",
    "g = sns.FacetGrid(rowcounts, col=\"country\",  hue=\"Period\", palette=\"Set3\",col_wrap = 4, height=2, aspect=2, margin_titles=True, legend_out=False, sharex=False, sharey=False)\n",
    "g.map(sns.barplot, \"Period\", \"Rowcounts\", order=order, ci=None, label = True)\n",
    "axes = g.axes.flatten()\n",
    "for ax, b  in zip(axes, include):\n",
    "    ax.set_xlabel(b)\n",
    "    ax.set_ylabel(\"Rows Submitted\")\n",
    "\n",
    "\n",
    "g.savefig('rows.png', dpi=125)"
   ]
  },
  {
   "cell_type": "markdown",
   "id": "8f5f6bdb",
   "metadata": {
    "papermill": {
     "duration": null,
     "end_time": null,
     "exception": null,
     "start_time": null,
     "status": "completed"
    },
    "tags": []
   },
   "source": [
    "#KPI visual\n",
    "- Displays in KPI totals in Euros for this data submission vs the previous submission and the YoY submission."
   ]
  },
  {
   "cell_type": "code",
   "execution_count": null,
   "id": "42b5f463",
   "metadata": {
    "papermill": {
     "duration": null,
     "end_time": null,
     "exception": null,
     "start_time": null,
     "status": "completed"
    },
    "tags": []
   },
   "outputs": [],
   "source": [
    "included = (include * 6)\n",
    "included.sort()\n",
    "\n",
    "g = sns.FacetGrid(melt_cv, row=\"country\", col=\"variable\",  hue=\"Period\", palette=\"Set3\", height=2, aspect=2, margin_titles=True, legend_out=False, sharex=False, sharey=False)\n",
    "g.map(sns.barplot, \"Period\", \"value\", order=order, ci=None, label = True)\n",
    "axes = g.axes.flatten()\n",
    "for ax, b  in zip(axes, included):\n",
    "    ax.set_xlabel(b)\n",
    "    ax.set_ylabel(\"Euro\")\n",
    "    \n",
    "g.savefig('KPIs.png', dpi=125)"
   ]
  },
  {
   "cell_type": "code",
   "execution_count": null,
   "id": "dfc49134",
   "metadata": {
    "papermill": {
     "duration": null,
     "end_time": null,
     "exception": null,
     "start_time": null,
     "status": "completed"
    },
    "tags": []
   },
   "outputs": [],
   "source": [
    "order = melt_cv.variable.unique()\n",
    "\n",
    "\n",
    "included = (include * 6)\n",
    "included.sort()\n",
    "\n",
    "g = sns.FacetGrid(melt_cv, row=\"country\", col= \"Period\" , hue= \"variable\",  palette=\"Set3\", height=2, aspect=2, margin_titles=True, legend_out=False, sharex=False, sharey=False)\n",
    "g.map(sns.barplot, \"variable\", \"value\", order=order, ci=None, label = True)\n",
    "axes = g.axes.flatten()\n",
    "for ax, b  in zip(axes, included):\n",
    "    ax.set_xlabel(b)\n",
    "    ax.set_ylabel(\"Euro\")\n",
    "    \n",
    "g.savefig('KPIs_vw2.png', dpi=200)"
   ]
  },
  {
   "cell_type": "code",
   "execution_count": null,
   "id": "0b164cca",
   "metadata": {
    "papermill": {
     "duration": null,
     "end_time": null,
     "exception": null,
     "start_time": null,
     "status": "completed"
    },
    "tags": []
   },
   "outputs": [],
   "source": []
  }
 ],
 "metadata": {
  "celltoolbar": "Tags",
  "kernelspec": {
   "display_name": "Python 3",
   "language": "python",
   "name": "python3"
  },
  "language_info": {
   "codemirror_mode": {
    "name": "ipython",
    "version": 3
   },
   "file_extension": ".py",
   "mimetype": "text/x-python",
   "name": "python",
   "nbconvert_exporter": "python",
   "pygments_lexer": "ipython3",
   "version": "3.7.6"
  },
  "papermill": {
   "default_parameters": {},
   "duration": 43.641625,
   "end_time": "2021-06-01T21:05:54.720860",
   "environment_variables": {},
   "exception": null,
   "input_path": "reporting/Audit Report.ipynb",
   "output_path": "//hecate/Insurance_US/Product Development/Product Management/Global PPM/Reporting/Data Collection/Pipeline Reporting Scripts/GPMpipeline/instances/2021.Q1\\reporting\\Audit Report06012021170006--live, add AT.ipynb",
   "parameters": {
    "commit_message": "Live run, added AT after conversion from Excel",
    "inst_datetime": "06012021170006",
    "percode": "2021.Q1",
    "run_control": 1
   },
   "start_time": "2021-06-01T21:05:11.079235",
   "version": "2.3.3"
  }
 },
 "nbformat": 4,
 "nbformat_minor": 5
}