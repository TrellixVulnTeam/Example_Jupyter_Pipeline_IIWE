{
 "cells": [
  {
   "cell_type": "markdown",
   "id": "38a753a8",
   "metadata": {
    "papermill": {
     "duration": 0.26304,
     "end_time": "2021-05-26T14:03:22.502992",
     "exception": false,
     "start_time": "2021-05-26T14:03:22.239952",
     "status": "completed"
    },
    "tags": []
   },
   "source": [
    "<img src=\"../images/AzPTravel_PPM.png\">"
   ]
  },
  {
   "cell_type": "markdown",
   "id": "bdb76477",
   "metadata": {
    "papermill": {
     "duration": 0.225238,
     "end_time": "2021-05-26T14:03:22.952836",
     "exception": false,
     "start_time": "2021-05-26T14:03:22.727598",
     "status": "completed"
    },
    "tags": []
   },
   "source": [
    "## Finance Knitting\n",
    "\n",
    "#### This script exectutes the RMD that knits the Finance Comparison PnL\n",
    "\n",
    "#### This can be run on its own or as part of the pipeline wherever called (ie from a papermill script or other user interface)."
   ]
  },
  {
   "cell_type": "code",
   "execution_count": 1,
   "id": "c4b5815d",
   "metadata": {
    "execution": {
     "iopub.execute_input": "2021-05-26T14:03:23.404393Z",
     "iopub.status.busy": "2021-05-26T14:03:23.397391Z",
     "iopub.status.idle": "2021-05-26T14:03:23.560228Z",
     "shell.execute_reply": "2021-05-26T14:03:23.556228Z"
    },
    "papermill": {
     "duration": 0.392838,
     "end_time": "2021-05-26T14:03:23.560228",
     "exception": false,
     "start_time": "2021-05-26T14:03:23.167390",
     "status": "completed"
    },
    "tags": [
     "parameters"
    ]
   },
   "outputs": [],
   "source": [
    "\n",
    "commit_message <- \"Development and testing.\"\n",
    "# Give a brief reason for the run.\n",
    "\n",
    "run_control <- 1\n",
    "#run_type = 0 - Lite run with no reporting, not recommended.\n",
    "#run_type = 1 - Lite run with normal reporting, default setting.\n",
    "#run_type = 2 - Heavy run with full reporting, available for audits and troubleshooting.\n",
    "#run_type = 5 - A default setting. Indicates the script is being run by an outside process without an inherited value\n",
    "\n",
    "percode <- \"2021.Q1\"\n",
    "# Data Collection Code, this controls file paths and output names\n",
    "# \"-f\" is the value indicating a bad inheritance from run with arg\n",
    "\n",
    "s_format <- \"p\"\n",
    "# denotes the source data format x == Excel; j == json, p == parquet\n",
    "\n",
    "#----------\n",
    "# do not edit - this either inherits the full instance timestamp from the papermill book or captures the run time of this script.\n",
    "\n",
    "inst_datetime <- format(Sys.time(), \"%S\")\n",
    "\n"
   ]
  },
  {
   "cell_type": "code",
   "execution_count": 2,
   "id": "97d74152",
   "metadata": {
    "execution": {
     "iopub.execute_input": "2021-05-26T14:03:24.078085Z",
     "iopub.status.busy": "2021-05-26T14:03:24.026916Z",
     "iopub.status.idle": "2021-05-26T14:03:24.131062Z",
     "shell.execute_reply": "2021-05-26T14:03:24.128060Z"
    },
    "papermill": {
     "duration": 0.337299,
     "end_time": "2021-05-26T14:03:24.131062",
     "exception": false,
     "start_time": "2021-05-26T14:03:23.793763",
     "status": "completed"
    },
    "tags": [
     "injected-parameters"
    ]
   },
   "outputs": [],
   "source": [
    "# Parameters\n",
    "run_control = 1\n",
    "percode = \"2021.Q1\"\n",
    "commit_message = \"Used the old AU file. Replaced, running again.\"\n",
    "inst_datetime = \"05262021094707\"\n"
   ]
  },
  {
   "cell_type": "markdown",
   "id": "1a6fdb77",
   "metadata": {
    "papermill": {
     "duration": 0.21905,
     "end_time": "2021-05-26T14:03:24.572207",
     "exception": false,
     "start_time": "2021-05-26T14:03:24.353157",
     "status": "completed"
    },
    "tags": []
   },
   "source": [
    "#### Default Variables, these govern logic, do not edit."
   ]
  },
  {
   "cell_type": "code",
   "execution_count": 3,
   "id": "3a07482b",
   "metadata": {
    "execution": {
     "iopub.execute_input": "2021-05-26T14:03:25.012396Z",
     "iopub.status.busy": "2021-05-26T14:03:25.004388Z",
     "iopub.status.idle": "2021-05-26T14:03:25.056389Z",
     "shell.execute_reply": "2021-05-26T14:03:25.052389Z"
    },
    "papermill": {
     "duration": 0.274166,
     "end_time": "2021-05-26T14:03:25.057389",
     "exception": false,
     "start_time": "2021-05-26T14:03:24.783223",
     "status": "completed"
    },
    "tags": []
   },
   "outputs": [],
   "source": [
    "default_dc <- \"20XX.QX\"\n",
    "default_rc <- 0 #extra lite mode\n",
    "dummy_perc <- \"33Q3\" # bad inheritance"
   ]
  },
  {
   "cell_type": "markdown",
   "id": "b160b046",
   "metadata": {
    "papermill": {
     "duration": 0.231215,
     "end_time": "2021-05-26T14:03:25.502430",
     "exception": false,
     "start_time": "2021-05-26T14:03:25.271215",
     "status": "completed"
    },
    "tags": []
   },
   "source": [
    "#### style settings"
   ]
  },
  {
   "cell_type": "code",
   "execution_count": 4,
   "id": "0c0a78ca",
   "metadata": {
    "execution": {
     "iopub.execute_input": "2021-05-26T14:03:25.943424Z",
     "iopub.status.busy": "2021-05-26T14:03:25.940423Z",
     "iopub.status.idle": "2021-05-26T14:03:25.986429Z",
     "shell.execute_reply": "2021-05-26T14:03:25.983423Z"
    },
    "papermill": {
     "duration": 0.271004,
     "end_time": "2021-05-26T14:03:25.987426",
     "exception": false,
     "start_time": "2021-05-26T14:03:25.716422",
     "status": "completed"
    },
    "tags": []
   },
   "outputs": [],
   "source": [
    "if (run_control == 5)\n",
    "    { run_control <- default_rc }\n",
    "\n",
    "if (run_control != 5) \n",
    "    { run_control <- run_control}\n",
    "\n",
    "# try:\n",
    "#     if sys.argv[1] == \"-f\":\n",
    "#         percode = percode\n",
    "#     else:\n",
    "#         percode = sys.argv[1]\n",
    "\n",
    "# except IndexError:\n",
    "#     percode = default_dc\n",
    "# except NameError:\n",
    "#     percode = default_dc\n"
   ]
  },
  {
   "cell_type": "markdown",
   "id": "863e753f",
   "metadata": {
    "papermill": {
     "duration": 0.21032,
     "end_time": "2021-05-26T14:03:26.418826",
     "exception": false,
     "start_time": "2021-05-26T14:03:26.208506",
     "status": "completed"
    },
    "tags": []
   },
   "source": [
    "\n",
    "## Begin Input Read\n",
    "#### Make paths used in script\n",
    "### all paths should be modular and easily replaced ahead of operations"
   ]
  },
  {
   "cell_type": "code",
   "execution_count": 5,
   "id": "7a09730f",
   "metadata": {
    "execution": {
     "iopub.execute_input": "2021-05-26T14:03:26.918790Z",
     "iopub.status.busy": "2021-05-26T14:03:26.914784Z",
     "iopub.status.idle": "2021-05-26T14:03:26.973617Z",
     "shell.execute_reply": "2021-05-26T14:03:26.970619Z"
    },
    "papermill": {
     "duration": 0.298692,
     "end_time": "2021-05-26T14:03:26.974620",
     "exception": false,
     "start_time": "2021-05-26T14:03:26.675928",
     "status": "completed"
    },
    "tags": []
   },
   "outputs": [],
   "source": [
    "#root directory\n",
    "rt_path <- '//hecate/Insurance_US/Product Development/Product Management/Global PPM/Reporting/Data Collection/Pipeline Reporting Scripts/Finance Comparison PnL'\n",
    "\n",
    "outpath <- paste('//hecate/Insurance_US/Product Development/Product Management/Global PPM/Reporting/Data Collection' , percode,   'Finance Report' , sep= '/')\n",
    "\n",
    "scrfile <- 'Finance_Comparison_PnL.Rmd'\n",
    "\n",
    "scrpath <- paste(rt_path,scrfile, sep =\"/\")\n",
    "\n",
    "outfile <- 'Finance_Comparison_PnL.html'\n",
    "\n",
    "outfp<- paste(outpath,outfile, sep =\"/\")\n"
   ]
  },
  {
   "cell_type": "markdown",
   "id": "bd8946c7",
   "metadata": {
    "papermill": {
     "duration": 0.224144,
     "end_time": "2021-05-26T14:03:27.407334",
     "exception": false,
     "start_time": "2021-05-26T14:03:27.183190",
     "status": "completed"
    },
    "tags": []
   },
   "source": [
    "#### Execute Finance Comparison PnL.Rmd\n"
   ]
  },
  {
   "cell_type": "code",
   "execution_count": 6,
   "id": "2f742376",
   "metadata": {
    "execution": {
     "iopub.execute_input": "2021-05-26T14:03:27.866368Z",
     "iopub.status.busy": "2021-05-26T14:03:27.863363Z",
     "iopub.status.idle": "2021-05-26T14:04:57.570220Z",
     "shell.execute_reply": "2021-05-26T14:04:57.562221Z"
    },
    "papermill": {
     "duration": 89.92289,
     "end_time": "2021-05-26T14:04:57.570220",
     "exception": false,
     "start_time": "2021-05-26T14:03:27.647330",
     "status": "completed"
    },
    "tags": []
   },
   "outputs": [
    {
     "name": "stdout",
     "output_type": "stream",
     "text": [
      "[1] \"Knitting Finance Comparison PnL\"\n"
     ]
    },
    {
     "name": "stderr",
     "output_type": "stream",
     "text": [
      "\n",
      "\n",
      "processing file: Finance_Comparison_PnL.Rmd\n"
     ]
    },
    {
     "name": "stdout",
     "output_type": "stream",
     "text": [
      "\r",
      "  |                                                                            \r",
      "  |                                                                      |   0%"
     ]
    },
    {
     "name": "stdout",
     "output_type": "stream",
     "text": [
      "\r",
      "  |                                                                            \r",
      "  |.                                                                     |   2%"
     ]
    },
    {
     "name": "stdout",
     "output_type": "stream",
     "text": [
      "\n"
     ]
    },
    {
     "name": "stdout",
     "output_type": "stream",
     "text": [
      "  ordinary text without R code\n",
      "\n",
      "\r",
      "  |                                                                            \r",
      "  |...                                                                   |   4%"
     ]
    },
    {
     "name": "stdout",
     "output_type": "stream",
     "text": [
      "\n"
     ]
    },
    {
     "name": "stdout",
     "output_type": "stream",
     "text": [
      "label: setup (with options) \n",
      "List of 1\n",
      " $ include: logi FALSE\n",
      "\n",
      "\r",
      "  |                                                                            \r",
      "  |....                                                                  |   6%"
     ]
    },
    {
     "name": "stdout",
     "output_type": "stream",
     "text": [
      "\n"
     ]
    },
    {
     "name": "stdout",
     "output_type": "stream",
     "text": [
      "  ordinary text without R code\n",
      "\n",
      "\r",
      "  |                                                                            \r",
      "  |.....                                                                 |   8%"
     ]
    },
    {
     "name": "stdout",
     "output_type": "stream",
     "text": [
      "\n"
     ]
    },
    {
     "name": "stdout",
     "output_type": "stream",
     "text": [
      "label: notes (with options) \n",
      "List of 1\n",
      " $ include: logi FALSE\n",
      "\n",
      "\r",
      "  |                                                                            \r",
      "  |.......                                                               |  10%"
     ]
    },
    {
     "name": "stdout",
     "output_type": "stream",
     "text": [
      "\n"
     ]
    },
    {
     "name": "stdout",
     "output_type": "stream",
     "text": [
      "  ordinary text without R code\n",
      "\n",
      "\r",
      "  |                                                                            \r",
      "  |........                                                              |  12%"
     ]
    },
    {
     "name": "stdout",
     "output_type": "stream",
     "text": [
      "\n"
     ]
    },
    {
     "name": "stdout",
     "output_type": "stream",
     "text": [
      "label: librarys (with options) \n",
      "List of 1\n",
      " $ include: logi FALSE\n",
      "\n"
     ]
    },
    {
     "name": "stderr",
     "output_type": "stream",
     "text": [
      "Warning message:\n",
      "\"package 'arrow' was built under R version 3.6.3\""
     ]
    },
    {
     "name": "stderr",
     "output_type": "stream",
     "text": [
      "See arrow_info() for available features\n"
     ]
    },
    {
     "name": "stderr",
     "output_type": "stream",
     "text": [
      "\n",
      "Attaching package: 'arrow'\n",
      "\n"
     ]
    },
    {
     "name": "stderr",
     "output_type": "stream",
     "text": [
      "The following object is masked from 'package:utils':\n",
      "\n",
      "    timestamp\n",
      "\n"
     ]
    },
    {
     "name": "stderr",
     "output_type": "stream",
     "text": [
      "Warning message:\n",
      "\"package 'flexdashboard' was built under R version 3.6.3\""
     ]
    },
    {
     "name": "stderr",
     "output_type": "stream",
     "text": [
      "Warning message:\n",
      "\"package 'openxlsx' was built under R version 3.6.3\""
     ]
    },
    {
     "name": "stderr",
     "output_type": "stream",
     "text": [
      "Warning message:\n",
      "\"package 'data.table' was built under R version 3.6.3\""
     ]
    },
    {
     "name": "stderr",
     "output_type": "stream",
     "text": [
      "Warning message:\n",
      "\"package 'dplyr' was built under R version 3.6.3\""
     ]
    },
    {
     "name": "stderr",
     "output_type": "stream",
     "text": [
      "Registered S3 methods overwritten by 'tibble':\n",
      "  method     from  \n",
      "  format.tbl pillar\n",
      "  print.tbl  pillar\n"
     ]
    },
    {
     "name": "stderr",
     "output_type": "stream",
     "text": [
      "\n",
      "Attaching package: 'dplyr'\n",
      "\n"
     ]
    },
    {
     "name": "stderr",
     "output_type": "stream",
     "text": [
      "The following objects are masked from 'package:data.table':\n",
      "\n",
      "    between, first, last\n",
      "\n"
     ]
    },
    {
     "name": "stderr",
     "output_type": "stream",
     "text": [
      "The following objects are masked from 'package:stats':\n",
      "\n",
      "    filter, lag\n",
      "\n"
     ]
    },
    {
     "name": "stderr",
     "output_type": "stream",
     "text": [
      "The following objects are masked from 'package:base':\n",
      "\n",
      "    intersect, setdiff, setequal, union\n",
      "\n"
     ]
    },
    {
     "name": "stderr",
     "output_type": "stream",
     "text": [
      "Warning message:\n",
      "\"package 'magrittr' was built under R version 3.6.3\""
     ]
    },
    {
     "name": "stderr",
     "output_type": "stream",
     "text": [
      "\n",
      "Attaching package: 'magrittr'\n",
      "\n"
     ]
    },
    {
     "name": "stderr",
     "output_type": "stream",
     "text": [
      "The following object is masked from 'package:arrow':\n",
      "\n",
      "    is_in\n",
      "\n"
     ]
    },
    {
     "name": "stderr",
     "output_type": "stream",
     "text": [
      "Warning message:\n",
      "\"package 'knitr' was built under R version 3.6.3\""
     ]
    },
    {
     "name": "stderr",
     "output_type": "stream",
     "text": [
      "Warning message:\n",
      "\"package 'kableExtra' was built under R version 3.6.3\""
     ]
    },
    {
     "name": "stderr",
     "output_type": "stream",
     "text": [
      "\n",
      "Attaching package: 'kableExtra'\n",
      "\n"
     ]
    },
    {
     "name": "stderr",
     "output_type": "stream",
     "text": [
      "The following object is masked from 'package:dplyr':\n",
      "\n",
      "    group_rows\n",
      "\n"
     ]
    },
    {
     "name": "stderr",
     "output_type": "stream",
     "text": [
      "Warning message:\n",
      "\"package 'ggplot2' was built under R version 3.6.3\""
     ]
    },
    {
     "name": "stderr",
     "output_type": "stream",
     "text": [
      "Warning message:\n",
      "\"package 'patchwork' was built under R version 3.6.3\""
     ]
    },
    {
     "name": "stderr",
     "output_type": "stream",
     "text": [
      "Warning message:\n",
      "\"package 'DT' was built under R version 3.6.3\""
     ]
    },
    {
     "name": "stderr",
     "output_type": "stream",
     "text": [
      "Warning message:\n",
      "\"package 'scales' was built under R version 3.6.3\""
     ]
    },
    {
     "name": "stderr",
     "output_type": "stream",
     "text": [
      "Warning message:\n",
      "\"package 'reticulate' was built under R version 3.6.3\""
     ]
    },
    {
     "name": "stderr",
     "output_type": "stream",
     "text": [
      "Warning message:\n",
      "\"package 'rpivotTable' was built under R version 3.6.3\""
     ]
    },
    {
     "name": "stdout",
     "output_type": "stream",
     "text": [
      "\r",
      "  |                                                                            \r",
      "  |..........                                                            |  14%"
     ]
    },
    {
     "name": "stdout",
     "output_type": "stream",
     "text": [
      "\n"
     ]
    },
    {
     "name": "stdout",
     "output_type": "stream",
     "text": [
      "  ordinary text without R code\n",
      "\n",
      "\r",
      "  |                                                                            \r",
      "  |...........                                                           |  16%"
     ]
    },
    {
     "name": "stdout",
     "output_type": "stream",
     "text": [
      "\n"
     ]
    },
    {
     "name": "stdout",
     "output_type": "stream",
     "text": [
      "label: read (with options) \n",
      "List of 2\n",
      " $ echo   : logi FALSE\n",
      " $ include: logi FALSE\n",
      "\n",
      "\r",
      "  |                                                                            \r",
      "  |............                                                          |  18%"
     ]
    },
    {
     "name": "stdout",
     "output_type": "stream",
     "text": [
      "\n"
     ]
    },
    {
     "name": "stdout",
     "output_type": "stream",
     "text": [
      "  ordinary text without R code\n",
      "\n",
      "\r",
      "  |                                                                            \r",
      "  |..............                                                        |  20%"
     ]
    },
    {
     "name": "stdout",
     "output_type": "stream",
     "text": [
      "\n"
     ]
    },
    {
     "name": "stdout",
     "output_type": "stream",
     "text": [
      "label: make DT (with options) \n",
      "List of 2\n",
      " $ echo   : logi FALSE\n",
      " $ include: logi FALSE\n",
      "\n",
      "\r",
      "  |                                                                            \r",
      "  |...............                                                       |  22%"
     ]
    },
    {
     "name": "stdout",
     "output_type": "stream",
     "text": [
      "\n"
     ]
    },
    {
     "name": "stdout",
     "output_type": "stream",
     "text": [
      "  ordinary text without R code\n",
      "\n",
      "\r",
      "  |                                                                            \r",
      "  |................                                                      |  24%"
     ]
    },
    {
     "name": "stdout",
     "output_type": "stream",
     "text": [
      "\n"
     ]
    },
    {
     "name": "stdout",
     "output_type": "stream",
     "text": [
      "label: build report view (with options) \n",
      "List of 2\n",
      " $ echo   : logi FALSE\n",
      " $ include: logi FALSE\n",
      "\n",
      "\r",
      "  |                                                                            \r",
      "  |..................                                                    |  25%"
     ]
    },
    {
     "name": "stdout",
     "output_type": "stream",
     "text": [
      "\n"
     ]
    },
    {
     "name": "stdout",
     "output_type": "stream",
     "text": [
      "  ordinary text without R code\n",
      "\n",
      "\r",
      "  |                                                                            \r",
      "  |...................                                                   |  27%"
     ]
    },
    {
     "name": "stdout",
     "output_type": "stream",
     "text": [
      "\n"
     ]
    },
    {
     "name": "stdout",
     "output_type": "stream",
     "text": [
      "label: build report views2 (with options) \n",
      "List of 2\n",
      " $ echo   : logi FALSE\n",
      " $ include: logi FALSE\n",
      "\n",
      "\r",
      "  |                                                                            \r",
      "  |.....................                                                 |  29%"
     ]
    },
    {
     "name": "stdout",
     "output_type": "stream",
     "text": [
      "\n"
     ]
    },
    {
     "name": "stdout",
     "output_type": "stream",
     "text": [
      "  ordinary text without R code\n",
      "\n",
      "\r",
      "  |                                                                            \r",
      "  |......................                                                |  31%"
     ]
    },
    {
     "name": "stdout",
     "output_type": "stream",
     "text": [
      "\n"
     ]
    },
    {
     "name": "stdout",
     "output_type": "stream",
     "text": [
      "label: pivot table try 1  (with options) \n",
      "List of 2\n",
      " $ echo   : logi FALSE\n",
      " $ include: logi FALSE\n",
      "\n"
     ]
    },
    {
     "name": "stderr",
     "output_type": "stream",
     "text": [
      "Warning message:\n",
      "\"package 'pivottabler' was built under R version 3.6.3\""
     ]
    },
    {
     "name": "stderr",
     "output_type": "stream",
     "text": [
      "Warning message in melt(dt_reportview, id = c(\"Business Unit Code\", \"Business Unit\")):\n",
      "\"The melt generic in data.table has been passed a data.frame and will attempt to redirect to the relevant reshape2 method; please note that reshape2 is deprecated, and this redirection is now deprecated as well. To continue using melt methods from reshape2 while both libraries are attached, e.g. melt.list, you can prepend the namespace like reshape2::melt(dt_reportview). In the next version, this warning will become an error.\""
     ]
    },
    {
     "name": "stdout",
     "output_type": "stream",
     "text": [
      "\r",
      "  |                                                                            \r",
      "  |.......................                                               |  33%"
     ]
    },
    {
     "name": "stdout",
     "output_type": "stream",
     "text": [
      "\n"
     ]
    },
    {
     "name": "stdout",
     "output_type": "stream",
     "text": [
      "  ordinary text without R code\n",
      "\n",
      "\r",
      "  |                                                                            \r",
      "  |.........................                                             |  35%"
     ]
    },
    {
     "name": "stdout",
     "output_type": "stream",
     "text": [
      "\n"
     ]
    },
    {
     "name": "stdout",
     "output_type": "stream",
     "text": [
      "label: pivot to DT (with options) \n",
      "List of 2\n",
      " $ echo   : logi FALSE\n",
      " $ include: logi FALSE\n",
      "\n",
      "\r",
      "  |                                                                            \r",
      "  |..........................                                            |  37%"
     ]
    },
    {
     "name": "stdout",
     "output_type": "stream",
     "text": [
      "\n"
     ]
    },
    {
     "name": "stdout",
     "output_type": "stream",
     "text": [
      "  ordinary text without R code\n",
      "\n",
      "\r",
      "  |                                                                            \r",
      "  |...........................                                           |  39%"
     ]
    },
    {
     "name": "stdout",
     "output_type": "stream",
     "text": [
      "\n"
     ]
    },
    {
     "name": "stdout",
     "output_type": "stream",
     "text": [
      "label: melt pivot (with options) \n",
      "List of 2\n",
      " $ echo   : logi FALSE\n",
      " $ include: logi FALSE\n",
      "\n",
      "\r",
      "  |                                                                            \r",
      "  |.............................                                         |  41%"
     ]
    },
    {
     "name": "stdout",
     "output_type": "stream",
     "text": [
      "\n"
     ]
    },
    {
     "name": "stdout",
     "output_type": "stream",
     "text": [
      "  ordinary text without R code\n",
      "\n",
      "\r",
      "  |                                                                            \r",
      "  |..............................                                        |  43%"
     ]
    },
    {
     "name": "stdout",
     "output_type": "stream",
     "text": [
      "\n"
     ]
    },
    {
     "name": "stdout",
     "output_type": "stream",
     "text": [
      "label: bad waterfall, commented out (with options) \n",
      "List of 2\n",
      " $ echo   : logi FALSE\n",
      " $ include: logi FALSE\n",
      "\n",
      "\r",
      "  |                                                                            \r",
      "  |................................                                      |  45%"
     ]
    },
    {
     "name": "stdout",
     "output_type": "stream",
     "text": [
      "\n"
     ]
    },
    {
     "name": "stdout",
     "output_type": "stream",
     "text": [
      "  ordinary text without R code\n",
      "\n",
      "\r",
      "  |                                                                            \r",
      "  |.................................                                     |  47%"
     ]
    },
    {
     "name": "stdout",
     "output_type": "stream",
     "text": [
      "\n"
     ]
    },
    {
     "name": "stdout",
     "output_type": "stream",
     "text": [
      "label: dfmelt add region (with options) \n",
      "List of 2\n",
      " $ echo   : logi FALSE\n",
      " $ include: logi FALSE\n",
      "\n",
      "\r",
      "  |                                                                            \r",
      "  |..................................                                    |  49%"
     ]
    },
    {
     "name": "stdout",
     "output_type": "stream",
     "text": [
      "\n"
     ]
    },
    {
     "name": "stdout",
     "output_type": "stream",
     "text": [
      "  ordinary text without R code\n",
      "\n",
      "\r",
      "  |                                                                            \r",
      "  |....................................                                  |  51%"
     ]
    },
    {
     "name": "stdout",
     "output_type": "stream",
     "text": [
      "\n"
     ]
    },
    {
     "name": "stdout",
     "output_type": "stream",
     "text": [
      "label: dfmelt add View2 (with options) \n",
      "List of 2\n",
      " $ echo   : logi FALSE\n",
      " $ include: logi FALSE\n",
      "\n",
      "\r",
      "  |                                                                            \r",
      "  |.....................................                                 |  53%"
     ]
    },
    {
     "name": "stdout",
     "output_type": "stream",
     "text": [
      "\n"
     ]
    },
    {
     "name": "stdout",
     "output_type": "stream",
     "text": [
      "  ordinary text without R code\n",
      "\n",
      "\r",
      "  |                                                                            \r",
      "  |......................................                                |  55%"
     ]
    },
    {
     "name": "stdout",
     "output_type": "stream",
     "text": [
      "\n"
     ]
    },
    {
     "name": "stdout",
     "output_type": "stream",
     "text": [
      "label: dfmelt add data collection (with options) \n",
      "List of 2\n",
      " $ echo   : logi FALSE\n",
      " $ include: logi FALSE\n",
      "\n",
      "\r",
      "  |                                                                            \r",
      "  |........................................                              |  57%"
     ]
    },
    {
     "name": "stdout",
     "output_type": "stream",
     "text": [
      "\n"
     ]
    },
    {
     "name": "stdout",
     "output_type": "stream",
     "text": [
      "  ordinary text without R code\n",
      "\n",
      "\r",
      "  |                                                                            \r",
      "  |.........................................                             |  59%"
     ]
    },
    {
     "name": "stdout",
     "output_type": "stream",
     "text": [
      "\n"
     ]
    },
    {
     "name": "stdout",
     "output_type": "stream",
     "text": [
      "label: dfmelt add line order (with options) \n",
      "List of 2\n",
      " $ echo   : logi FALSE\n",
      " $ include: logi FALSE\n",
      "\n",
      "\r",
      "  |                                                                            \r",
      "  |...........................................                           |  61%"
     ]
    },
    {
     "name": "stdout",
     "output_type": "stream",
     "text": [
      "\n"
     ]
    },
    {
     "name": "stdout",
     "output_type": "stream",
     "text": [
      "  ordinary text without R code\n",
      "\n",
      "\r",
      "  |                                                                            \r",
      "  |............................................                          |  63%"
     ]
    },
    {
     "name": "stdout",
     "output_type": "stream",
     "text": [
      "\n"
     ]
    },
    {
     "name": "stdout",
     "output_type": "stream",
     "text": [
      "label: finish dfmelt (with options) \n",
      "List of 2\n",
      " $ echo   : logi FALSE\n",
      " $ include: logi FALSE\n",
      "\n",
      "\r",
      "  |                                                                            \r",
      "  |.............................................                         |  65%"
     ]
    },
    {
     "name": "stdout",
     "output_type": "stream",
     "text": [
      "\n"
     ]
    },
    {
     "name": "stdout",
     "output_type": "stream",
     "text": [
      "  ordinary text without R code\n",
      "\n",
      "\r",
      "  |                                                                            \r",
      "  |...............................................                       |  67%"
     ]
    },
    {
     "name": "stdout",
     "output_type": "stream",
     "text": [
      "\n"
     ]
    },
    {
     "name": "stdout",
     "output_type": "stream",
     "text": [
      "label: create dfmeltratios (with options) \n",
      "List of 2\n",
      " $ echo   : logi FALSE\n",
      " $ include: logi FALSE\n",
      "\n",
      "\r",
      "  |                                                                            \r",
      "  |................................................                      |  69%"
     ]
    },
    {
     "name": "stdout",
     "output_type": "stream",
     "text": [
      "\n"
     ]
    },
    {
     "name": "stdout",
     "output_type": "stream",
     "text": [
      "  ordinary text without R code\n",
      "\n",
      "\r",
      "  |                                                                            \r",
      "  |.................................................                     |  71%"
     ]
    },
    {
     "name": "stdout",
     "output_type": "stream",
     "text": [
      "\n"
     ]
    },
    {
     "name": "stdout",
     "output_type": "stream",
     "text": [
      "label: remove base rows from dfmelt (with options) \n",
      "List of 2\n",
      " $ echo   : logi FALSE\n",
      " $ include: logi FALSE\n",
      "\n",
      "\r",
      "  |                                                                            \r",
      "  |...................................................                   |  73%"
     ]
    },
    {
     "name": "stdout",
     "output_type": "stream",
     "text": [
      "\n"
     ]
    },
    {
     "name": "stdout",
     "output_type": "stream",
     "text": [
      "  ordinary text without R code\n",
      "\n",
      "\r",
      "  |                                                                            \r",
      "  |....................................................                  |  75%"
     ]
    },
    {
     "name": "stdout",
     "output_type": "stream",
     "text": [
      "\n"
     ]
    },
    {
     "name": "stdout",
     "output_type": "stream",
     "text": [
      "label: make commentary df (with options) \n",
      "List of 2\n",
      " $ echo   : logi FALSE\n",
      " $ include: logi FALSE\n",
      "\n",
      "\r",
      "  |                                                                            \r",
      "  |......................................................                |  76%"
     ]
    },
    {
     "name": "stdout",
     "output_type": "stream",
     "text": [
      "\n"
     ]
    },
    {
     "name": "stdout",
     "output_type": "stream",
     "text": [
      "  ordinary text without R code\n",
      "\n",
      "\r",
      "  |                                                                            \r",
      "  |.......................................................               |  78%"
     ]
    },
    {
     "name": "stdout",
     "output_type": "stream",
     "text": [
      "\n"
     ]
    },
    {
     "name": "stdout",
     "output_type": "stream",
     "text": [
      "label: commentary df add region  (with options) \n",
      "List of 2\n",
      " $ echo   : logi FALSE\n",
      " $ include: logi FALSE\n",
      "\n",
      "\r",
      "  |                                                                            \r",
      "  |........................................................              |  80%"
     ]
    },
    {
     "name": "stdout",
     "output_type": "stream",
     "text": [
      "\n"
     ]
    },
    {
     "name": "stdout",
     "output_type": "stream",
     "text": [
      "  ordinary text without R code\n",
      "\n",
      "\r",
      "  |                                                                            \r",
      "  |..........................................................            |  82%"
     ]
    },
    {
     "name": "stdout",
     "output_type": "stream",
     "text": [
      "\n"
     ]
    },
    {
     "name": "stdout",
     "output_type": "stream",
     "text": [
      "label: commentary df add line order (with options) \n",
      "List of 2\n",
      " $ echo   : logi FALSE\n",
      " $ include: logi FALSE\n",
      "\n",
      "\r",
      "  |                                                                            \r",
      "  |...........................................................           |  84%"
     ]
    },
    {
     "name": "stdout",
     "output_type": "stream",
     "text": [
      "\n"
     ]
    },
    {
     "name": "stdout",
     "output_type": "stream",
     "text": [
      "  ordinary text without R code\n",
      "\n",
      "\r",
      "  |                                                                            \r",
      "  |............................................................          |  86%"
     ]
    },
    {
     "name": "stdout",
     "output_type": "stream",
     "text": [
      "\n"
     ]
    },
    {
     "name": "stdout",
     "output_type": "stream",
     "text": [
      "label: unnamed-chunk-1 (with options) \n",
      "List of 1\n",
      " $ echo: logi FALSE\n",
      "\n",
      "\r",
      "  |                                                                            \r",
      "  |..............................................................        |  88%"
     ]
    },
    {
     "name": "stdout",
     "output_type": "stream",
     "text": [
      "\n"
     ]
    },
    {
     "name": "stdout",
     "output_type": "stream",
     "text": [
      "  ordinary text without R code\n",
      "\n",
      "\r",
      "  |                                                                            \r",
      "  |...............................................................       |  90%"
     ]
    },
    {
     "name": "stdout",
     "output_type": "stream",
     "text": [
      "\n"
     ]
    },
    {
     "name": "stdout",
     "output_type": "stream",
     "text": [
      "label: unnamed-chunk-2 (with options) \n",
      "List of 1\n",
      " $ echo: logi FALSE\n",
      "\n",
      "\r",
      "  |                                                                            \r",
      "  |.................................................................     |  92%"
     ]
    },
    {
     "name": "stdout",
     "output_type": "stream",
     "text": [
      "\n"
     ]
    },
    {
     "name": "stdout",
     "output_type": "stream",
     "text": [
      "  ordinary text without R code\n",
      "\n",
      "\r",
      "  |                                                                            \r",
      "  |..................................................................    |  94%"
     ]
    },
    {
     "name": "stdout",
     "output_type": "stream",
     "text": [
      "\n"
     ]
    },
    {
     "name": "stdout",
     "output_type": "stream",
     "text": [
      "label: unnamed-chunk-3 (with options) \n",
      "List of 1\n",
      " $ echo: logi FALSE\n",
      "\n",
      "\r",
      "  |                                                                            \r",
      "  |...................................................................   |  96%"
     ]
    },
    {
     "name": "stdout",
     "output_type": "stream",
     "text": [
      "\n"
     ]
    },
    {
     "name": "stdout",
     "output_type": "stream",
     "text": [
      "  ordinary text without R code\n",
      "\n",
      "\r",
      "  |                                                                            \r",
      "  |..................................................................... |  98%"
     ]
    },
    {
     "name": "stdout",
     "output_type": "stream",
     "text": [
      "\n"
     ]
    },
    {
     "name": "stdout",
     "output_type": "stream",
     "text": [
      "label: Pivot Table CSS (with options) \n",
      "List of 2\n",
      " $ echo  : logi FALSE\n",
      " $ engine: chr \"css\"\n",
      "\n",
      "\r",
      "  |                                                                            \r",
      "  |......................................................................| 100%"
     ]
    },
    {
     "name": "stdout",
     "output_type": "stream",
     "text": [
      "\n"
     ]
    },
    {
     "name": "stdout",
     "output_type": "stream",
     "text": [
      "  ordinary text without R code\n",
      "\n",
      "\n"
     ]
    },
    {
     "name": "stderr",
     "output_type": "stream",
     "text": [
      "output file: Finance_Comparison_PnL.knit.md\n",
      "\n"
     ]
    },
    {
     "name": "stdout",
     "output_type": "stream",
     "text": [
      "\"C:/Users/gharmo/ANACON~2/Scripts/pandoc\" +RTS -K512m -RTS Finance_Comparison_PnL.knit.md --to html4 --from markdown+autolink_bare_uris+tex_math_single_backslash --output pandoc8be05aee110f.html --lua-filter \"C:\\Users\\gharmo\\Documents\\R\\win-library\\3.6\\rmarkdown\\rmarkdown\\lua\\pagebreak.lua\" --lua-filter \"C:\\Users\\gharmo\\Documents\\R\\win-library\\3.6\\rmarkdown\\rmarkdown\\lua\\latex-div.lua\" --self-contained --variable bs3=TRUE --standalone --section-divs --template \"C:\\Users\\gharmo\\Documents\\R\\win-library\\3.6\\flexdashboard\\rmarkdown\\templates\\flex_dashboard\\resources\\default.html\" --variable theme=cosmo --include-in-header \"C:\\Users\\gharmo\\AppData\\Local\\Temp\\RtmpY1o6v3\\rmarkdown-str8be030223a87.html\" --mathjax --variable \"mathjax-url:https://mathjax.rstudio.com/latest/MathJax.js?config=TeX-AMS-MML_HTMLorMML\" --variable logo=AzPTravel_White_XSm.png --include-in-header \"C:\\Users\\gharmo\\AppData\\Local\\Temp\\RtmpY1o6v3\\file8be07293378bhtml\" --highlight-style pygments --include-before-body \"C:\\Users\\gharmo\\AppData\\Local\\Temp\\RtmpY1o6v3\\file8be0462c6fe3.html\" --include-after-body footer.html --include-after-body \"C:\\Users\\gharmo\\AppData\\Local\\Temp\\RtmpY1o6v3\\file8be03bcc55.html\" --css styles.css \n"
     ]
    },
    {
     "name": "stderr",
     "output_type": "stream",
     "text": [
      "\n",
      "Output created: \\\\hecate/Insurance_US/Product Development/Product Management/Global PPM/Reporting/Data Collection/2021.Q1/Finance Report/Finance_Comparison_PnL.html\n"
     ]
    }
   ],
   "source": [
    "print(\"Knitting Finance Comparison PnL\")   \n",
    "\n",
    "rmarkdown::render(scrpath, output_file = outfile ,  output_dir = outpath  )\n"
   ]
  },
  {
   "cell_type": "markdown",
   "id": "16dd900b",
   "metadata": {
    "papermill": {
     "duration": 0.551102,
     "end_time": "2021-05-26T14:04:58.825094",
     "exception": false,
     "start_time": "2021-05-26T14:04:58.273992",
     "status": "completed"
    },
    "tags": []
   },
   "source": [
    "#### Open the file that was knit"
   ]
  },
  {
   "cell_type": "code",
   "execution_count": 7,
   "id": "ec63914c",
   "metadata": {
    "execution": {
     "iopub.execute_input": "2021-05-26T14:04:59.986145Z",
     "iopub.status.busy": "2021-05-26T14:04:59.981143Z",
     "iopub.status.idle": "2021-05-26T14:05:02.608074Z",
     "shell.execute_reply": "2021-05-26T14:05:02.604061Z"
    },
    "papermill": {
     "duration": 3.07054,
     "end_time": "2021-05-26T14:05:02.609060",
     "exception": false,
     "start_time": "2021-05-26T14:04:59.538520",
     "status": "completed"
    },
    "tags": []
   },
   "outputs": [],
   "source": [
    "openHTML <- function(x) browseURL(paste0('file://', x))\n",
    "\n",
    "openHTML(outfp)"
   ]
  },
  {
   "cell_type": "code",
   "execution_count": null,
   "id": "c75ae784",
   "metadata": {
    "papermill": {
     "duration": 0.653184,
     "end_time": "2021-05-26T14:05:03.992342",
     "exception": false,
     "start_time": "2021-05-26T14:05:03.339158",
     "status": "completed"
    },
    "tags": []
   },
   "outputs": [],
   "source": []
  }
 ],
 "metadata": {
  "celltoolbar": "Tags",
  "kernelspec": {
   "display_name": "R",
   "language": "R",
   "name": "ir"
  },
  "language_info": {
   "codemirror_mode": "r",
   "file_extension": ".r",
   "mimetype": "text/x-r-source",
   "name": "R",
   "pygments_lexer": "r",
   "version": "3.6.1"
  },
  "papermill": {
   "default_parameters": {},
   "duration": 107.968322,
   "end_time": "2021-05-26T14:05:05.661298",
   "environment_variables": {},
   "exception": null,
   "input_path": "reporting/knit Finance_Comparison_PnL.ipynb",
   "output_path": "//hecate/Insurance_US/Product Development/Product Management/Global PPM/Reporting/Data Collection/Pipeline Reporting Scripts/GPMpipeline/instances/2021.Q1\\reporting\\knit Finance_Comparison_PnL05262021094707--live run.ipynb",
   "parameters": {
    "commit_message": "Used the old AU file. Replaced, running again.",
    "inst_datetime": "05262021094707",
    "percode": "2021.Q1",
    "run_control": 1
   },
   "start_time": "2021-05-26T14:03:17.692976",
   "version": "2.3.3"
  }
 },
 "nbformat": 4,
 "nbformat_minor": 5
}