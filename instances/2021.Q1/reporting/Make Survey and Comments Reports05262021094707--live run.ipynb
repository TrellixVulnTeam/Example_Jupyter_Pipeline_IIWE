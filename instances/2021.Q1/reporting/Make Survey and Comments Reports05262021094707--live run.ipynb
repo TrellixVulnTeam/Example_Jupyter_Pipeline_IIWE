{
 "cells": [
  {
   "cell_type": "markdown",
   "id": "2c9886cf",
   "metadata": {
    "tags": [
     "papermill-error-cell-tag"
    ]
   },
   "source": [
    "<span style=\"color:red; font-family:Helvetica Neue, Helvetica, Arial, sans-serif; font-size:2em;\">An Exception was encountered at '<a href=\"#papermill-error-cell\">In [12]</a>'.</span>"
   ]
  },
  {
   "cell_type": "markdown",
   "id": "8ac0e062",
   "metadata": {
    "papermill": {
     "duration": 0.275581,
     "end_time": "2021-05-26T13:58:35.952951",
     "exception": false,
     "start_time": "2021-05-26T13:58:35.677370",
     "status": "completed"
    },
    "tags": []
   },
   "source": [
    "<img src=\"../images/AzPTravel_PPM.png\">"
   ]
  },
  {
   "cell_type": "markdown",
   "id": "d26bb3b3",
   "metadata": {
    "papermill": {
     "duration": 0.26211,
     "end_time": "2021-05-26T13:58:36.544567",
     "exception": false,
     "start_time": "2021-05-26T13:58:36.282457",
     "status": "completed"
    },
    "tags": []
   },
   "source": [
    "## Validation Report Creation Script\n",
    "\n",
    "#### This script reads the output of the \"us_vdf*\" and \"us_vcomments*\" data files and summarizes  them into a report: Validations Review _{BU}.xlsx\n",
    "\n",
    "#### When finished, it will be able to be run on its own or as part of the pipeline wherever called (ie from a papermill script or other user inteface).\n"
   ]
  },
  {
   "cell_type": "markdown",
   "id": "accfe451",
   "metadata": {
    "papermill": {
     "duration": 0.276094,
     "end_time": "2021-05-26T13:58:37.087663",
     "exception": false,
     "start_time": "2021-05-26T13:58:36.811569",
     "status": "completed"
    },
    "tags": []
   },
   "source": [
    "### User Variables\n",
    "- These are overwritten if inherited from run_control.ipynb.\n",
    "- Feel Free to reset them for a manual run if you like\n",
    "- Do not save without percode = \"-f\""
   ]
  },
  {
   "cell_type": "code",
   "execution_count": 1,
   "id": "758e4344",
   "metadata": {
    "execution": {
     "iopub.execute_input": "2021-05-26T13:58:37.632321Z",
     "iopub.status.busy": "2021-05-26T13:58:37.626322Z",
     "iopub.status.idle": "2021-05-26T13:58:37.638321Z",
     "shell.execute_reply": "2021-05-26T13:58:37.650320Z"
    },
    "papermill": {
     "duration": 0.292509,
     "end_time": "2021-05-26T13:58:37.650320",
     "exception": false,
     "start_time": "2021-05-26T13:58:37.357811",
     "status": "completed"
    },
    "tags": [
     "parameters"
    ]
   },
   "outputs": [],
   "source": [
    "commit_message = \"Development and testing.\"\n",
    "# Give a brief reason for the run.\n",
    "\n",
    "run_control = 1\n",
    "#run_type = 0 - Lite run with no reporting, not recommended.\n",
    "#run_type = 1 - Lite run with normal reporting, default setting.\n",
    "#run_type = 2 - Heavy run with full reporting, available for audits and troubleshooting.\n",
    "#run_type = 5 - A default setting. Indicates the script is being run by an outside process without an inherited value\n",
    "\n",
    "percode = \"2021.Q1\"\n",
    "# Data Collection Code, this controls file paths and output names\n",
    "# \"-f\" is the value indicating a bad inheritance from run with arg\n",
    "\n",
    "s_format = \"p\"\n",
    "# denotes the source data format x == Excel; j == json, p == parquet\n",
    "\n",
    "#----------\n",
    "# do not edit - this either inherits the full instance timestamp from the papermill book or captures the run time of this script.\n",
    "from datetime import datetime  # datetime options\n",
    "inst_datetime = datetime.now().strftime(\"%m%d%Y%H%M%S\")"
   ]
  },
  {
   "cell_type": "code",
   "execution_count": 2,
   "id": "936ad476",
   "metadata": {
    "execution": {
     "iopub.execute_input": "2021-05-26T13:58:38.215582Z",
     "iopub.status.busy": "2021-05-26T13:58:38.210581Z",
     "iopub.status.idle": "2021-05-26T13:58:38.220591Z",
     "shell.execute_reply": "2021-05-26T13:58:38.221581Z"
    },
    "papermill": {
     "duration": 0.287093,
     "end_time": "2021-05-26T13:58:38.222580",
     "exception": false,
     "start_time": "2021-05-26T13:58:37.935487",
     "status": "completed"
    },
    "tags": [
     "injected-parameters"
    ]
   },
   "outputs": [],
   "source": [
    "# Parameters\n",
    "run_control = 1\n",
    "percode = \"2021.Q1\"\n",
    "commit_message = \"Used the old AU file. Replaced, running again.\"\n",
    "inst_datetime = \"05262021094707\"\n"
   ]
  },
  {
   "cell_type": "markdown",
   "id": "23055627",
   "metadata": {
    "papermill": {
     "duration": 0.251615,
     "end_time": "2021-05-26T13:58:38.714232",
     "exception": false,
     "start_time": "2021-05-26T13:58:38.462617",
     "status": "completed"
    },
    "tags": []
   },
   "source": [
    "#### Notebook display options"
   ]
  },
  {
   "cell_type": "code",
   "execution_count": 3,
   "id": "3959939b",
   "metadata": {
    "execution": {
     "iopub.execute_input": "2021-05-26T13:58:39.257231Z",
     "iopub.status.busy": "2021-05-26T13:58:39.254230Z",
     "iopub.status.idle": "2021-05-26T13:58:39.262233Z",
     "shell.execute_reply": "2021-05-26T13:58:39.264232Z"
    },
    "papermill": {
     "duration": 0.285602,
     "end_time": "2021-05-26T13:58:39.264232",
     "exception": false,
     "start_time": "2021-05-26T13:58:38.978630",
     "status": "completed"
    },
    "tags": []
   },
   "outputs": [],
   "source": [
    "from IPython.core.interactiveshell import InteractiveShell\n",
    "InteractiveShell.ast_node_interactivity = \"all\""
   ]
  },
  {
   "cell_type": "markdown",
   "id": "4c0fa1db",
   "metadata": {
    "papermill": {
     "duration": 0.257528,
     "end_time": "2021-05-26T13:58:39.762812",
     "exception": false,
     "start_time": "2021-05-26T13:58:39.505284",
     "status": "completed"
    },
    "tags": []
   },
   "source": [
    "#### import packages"
   ]
  },
  {
   "cell_type": "code",
   "execution_count": 4,
   "id": "7afb442e",
   "metadata": {
    "execution": {
     "iopub.execute_input": "2021-05-26T13:58:40.320422Z",
     "iopub.status.busy": "2021-05-26T13:58:40.318425Z",
     "iopub.status.idle": "2021-05-26T13:58:56.690372Z",
     "shell.execute_reply": "2021-05-26T13:58:56.691378Z"
    },
    "papermill": {
     "duration": 16.647918,
     "end_time": "2021-05-26T13:58:56.692375",
     "exception": false,
     "start_time": "2021-05-26T13:58:40.044457",
     "status": "completed"
    },
    "tags": []
   },
   "outputs": [],
   "source": [
    "#### Packages used\n",
    "\n",
    "import os # System commands\n",
    "import sys # System commands\n",
    "\n",
    "import warnings # custom warnigns options\n",
    "\n",
    "import glob # Directory operations\n",
    "import getpass # Work with parquet\n",
    "import json # Work with json\n",
    "\n",
    "import matplotlib.pyplot as plt #Plots and Graphs\n",
    "import numpy as np # Series and math\n",
    "import pandas as pd #DataFrame and math\n",
    "\n",
    "#excel operations\n",
    "import re\n",
    "import nicexcel as nl # Excel operations\n",
    "import xlsxwriter # Excel operations\n",
    "import openpyxl # Excel operations\n"
   ]
  },
  {
   "cell_type": "markdown",
   "id": "18810fbd",
   "metadata": {
    "papermill": {
     "duration": 0.371235,
     "end_time": "2021-05-26T13:58:57.452731",
     "exception": false,
     "start_time": "2021-05-26T13:58:57.081496",
     "status": "completed"
    },
    "tags": []
   },
   "source": [
    "#### Default Variables, these govern logic, do not edit."
   ]
  },
  {
   "cell_type": "code",
   "execution_count": 5,
   "id": "4ad7ae7f",
   "metadata": {
    "execution": {
     "iopub.execute_input": "2021-05-26T13:58:59.422027Z",
     "iopub.status.busy": "2021-05-26T13:58:59.417020Z",
     "iopub.status.idle": "2021-05-26T13:58:59.431112Z",
     "shell.execute_reply": "2021-05-26T13:58:59.434119Z"
    },
    "papermill": {
     "duration": 0.850051,
     "end_time": "2021-05-26T13:58:59.435111",
     "exception": false,
     "start_time": "2021-05-26T13:58:58.585060",
     "status": "completed"
    },
    "tags": []
   },
   "outputs": [],
   "source": [
    "default_dc = \"20XX.QX\"\n",
    "default_rc = 0 #extra lite mode\n",
    "dummy_perc = \"33Q3\" # bad inheritance"
   ]
  },
  {
   "cell_type": "markdown",
   "id": "f77c09e2",
   "metadata": {
    "papermill": {
     "duration": 0.280772,
     "end_time": "2021-05-26T13:59:00.315687",
     "exception": false,
     "start_time": "2021-05-26T13:59:00.034915",
     "status": "completed"
    },
    "tags": []
   },
   "source": [
    "#### Script determining run context ie, manual, run_control.ipynb, or other."
   ]
  },
  {
   "cell_type": "code",
   "execution_count": 6,
   "id": "bac8e63e",
   "metadata": {
    "execution": {
     "iopub.execute_input": "2021-05-26T13:59:01.084419Z",
     "iopub.status.busy": "2021-05-26T13:59:01.083409Z",
     "iopub.status.idle": "2021-05-26T13:59:01.094408Z",
     "shell.execute_reply": "2021-05-26T13:59:01.096412Z"
    },
    "papermill": {
     "duration": 0.427048,
     "end_time": "2021-05-26T13:59:01.096412",
     "exception": false,
     "start_time": "2021-05-26T13:59:00.669364",
     "status": "completed"
    },
    "tags": []
   },
   "outputs": [],
   "source": [
    "if run_control == 5:\n",
    "    run_control = default_rc \n",
    "else:\n",
    "    run_control = run_control\n",
    "\n",
    "try:\n",
    "    if sys.argv[1] == \"-f\":\n",
    "        percode = percode\n",
    "    else:\n",
    "        percode = sys.argv[1]\n",
    "\n",
    "except IndexError:\n",
    "    percode = default_dc\n",
    "except NameError:\n",
    "    percode = default_dc\n"
   ]
  },
  {
   "cell_type": "markdown",
   "id": "bcc6614b",
   "metadata": {
    "papermill": {
     "duration": 0.356412,
     "end_time": "2021-05-26T13:59:01.854877",
     "exception": false,
     "start_time": "2021-05-26T13:59:01.498465",
     "status": "completed"
    },
    "tags": []
   },
   "source": [
    "#### style settings"
   ]
  },
  {
   "cell_type": "code",
   "execution_count": 7,
   "id": "1e870692",
   "metadata": {
    "execution": {
     "iopub.execute_input": "2021-05-26T13:59:02.816625Z",
     "iopub.status.busy": "2021-05-26T13:59:02.814096Z",
     "iopub.status.idle": "2021-05-26T13:59:02.822682Z",
     "shell.execute_reply": "2021-05-26T13:59:02.824670Z"
    },
    "papermill": {
     "duration": 0.432588,
     "end_time": "2021-05-26T13:59:02.824670",
     "exception": false,
     "start_time": "2021-05-26T13:59:02.392082",
     "status": "completed"
    },
    "tags": []
   },
   "outputs": [],
   "source": [
    "from IPython.core.interactiveshell import InteractiveShell\n",
    "InteractiveShell.ast_node_interactivity = \"all\""
   ]
  },
  {
   "cell_type": "markdown",
   "id": "39a85cf2",
   "metadata": {
    "papermill": {
     "duration": 0.273998,
     "end_time": "2021-05-26T13:59:03.516679",
     "exception": false,
     "start_time": "2021-05-26T13:59:03.242681",
     "status": "completed"
    },
    "tags": []
   },
   "source": [
    "\n",
    "## Begin Input Read\n",
    "- Make paths used in script\n",
    "- all paths should be modular and easily replaced ahead of operations."
   ]
  },
  {
   "cell_type": "code",
   "execution_count": 8,
   "id": "5504725b",
   "metadata": {
    "execution": {
     "iopub.execute_input": "2021-05-26T13:59:04.569428Z",
     "iopub.status.busy": "2021-05-26T13:59:04.560424Z",
     "iopub.status.idle": "2021-05-26T13:59:04.575424Z",
     "shell.execute_reply": "2021-05-26T13:59:04.576427Z"
    },
    "papermill": {
     "duration": 0.640386,
     "end_time": "2021-05-26T13:59:04.577425",
     "exception": false,
     "start_time": "2021-05-26T13:59:03.937039",
     "status": "completed"
    },
    "tags": []
   },
   "outputs": [],
   "source": [
    "#root directory\n",
    "rt_path = os.path.join(f'\\\\\\\\hecate\\\\Insurance_US\\\\Product Development\\\\Product Management\\\\Global PPM\\\\Reporting\\Data Collection', percode  )\n",
    "\n",
    "#live sources directory\n",
    "ls_path = os.path.abspath(os.path.join( rt_path,\"..\" ,\"Production\",percode,'live_sources'))\n",
    "\n",
    "#report ouput dir\n",
    "rep_path = os.path.abspath(os.path.join(rt_path, '..','..', \"Data Collection\" ,f\"{percode}\", 'Surveys and Comments'))\n",
    "#report ouput archive dir\n",
    "rep_arch_path = os.path.abspath(os.path.join(rep_path, '..','..',f\"{percode}\",  'Archive'))\n"
   ]
  },
  {
   "cell_type": "markdown",
   "id": "a2e29fe6",
   "metadata": {
    "papermill": {
     "duration": 0.487116,
     "end_time": "2021-05-26T13:59:05.357662",
     "exception": false,
     "start_time": "2021-05-26T13:59:04.870546",
     "status": "completed"
    },
    "tags": []
   },
   "source": [
    "#### Make sources used in script\n",
    "- all sources should be modular and easily replaced ahead of operations."
   ]
  },
  {
   "cell_type": "code",
   "execution_count": 9,
   "id": "459e1e3d",
   "metadata": {
    "execution": {
     "iopub.execute_input": "2021-05-26T13:59:06.576307Z",
     "iopub.status.busy": "2021-05-26T13:59:06.573322Z",
     "iopub.status.idle": "2021-05-26T13:59:06.582307Z",
     "shell.execute_reply": "2021-05-26T13:59:06.583312Z"
    },
    "papermill": {
     "duration": 0.597327,
     "end_time": "2021-05-26T13:59:06.584308",
     "exception": false,
     "start_time": "2021-05-26T13:59:05.986981",
     "status": "completed"
    },
    "tags": []
   },
   "outputs": [],
   "source": [
    "rep_xls = os.path.join(rep_path ,\"Surveys and Comments_xx.xlsx\"   )"
   ]
  },
  {
   "cell_type": "markdown",
   "id": "f0e6ef84",
   "metadata": {
    "papermill": {
     "duration": 0.550447,
     "end_time": "2021-05-26T13:59:07.686720",
     "exception": false,
     "start_time": "2021-05-26T13:59:07.136273",
     "status": "completed"
    },
    "tags": []
   },
   "source": [
    "#### Get a list of only source files in the path that start with \"us_dat\".\n",
    "#### Logic determines the source file types.\n",
    "\n",
    "#### User instructions:\n",
    "- Make sure that you have 1 file per source in this folder.\n",
    "    -  For instance, do not have two files for Portugal. If there is an update, archive the old one.\n",
    "- Do not overwrite files in the archive.\n",
    "    - Rename newly archived files, no strict convention, we keep track of these by the modified date.\n",
    "- It is ok to have multiple sources in one file."
   ]
  },
  {
   "cell_type": "code",
   "execution_count": 10,
   "id": "5999d6a2",
   "metadata": {
    "execution": {
     "iopub.execute_input": "2021-05-26T13:59:08.189739Z",
     "iopub.status.busy": "2021-05-26T13:59:08.177739Z",
     "iopub.status.idle": "2021-05-26T13:59:08.197736Z",
     "shell.execute_reply": "2021-05-26T13:59:08.198741Z"
    },
    "papermill": {
     "duration": 0.263568,
     "end_time": "2021-05-26T13:59:08.199742",
     "exception": false,
     "start_time": "2021-05-26T13:59:07.936174",
     "status": "completed"
    },
    "tags": []
   },
   "outputs": [],
   "source": [
    "files = os.listdir(ls_path)\n",
    "files = [files.lower() for files in files]\n",
    "\n",
    "files_sources = [f for f in files if f[-5:]  == '.json' or  f[-8:] == '.parquet']\n",
    "\n",
    "for idx, f in enumerate(files_sources):  files_sources[idx] = os.path.join(ls_path, f) \n"
   ]
  },
  {
   "cell_type": "markdown",
   "id": "2465ec6a",
   "metadata": {
    "papermill": {
     "duration": 0.665549,
     "end_time": "2021-05-26T13:59:09.377365",
     "exception": false,
     "start_time": "2021-05-26T13:59:08.711816",
     "status": "completed"
    },
    "tags": []
   },
   "source": [
    "#### Make a list of BUs that have comments available"
   ]
  },
  {
   "cell_type": "code",
   "execution_count": 11,
   "id": "d45abf91",
   "metadata": {
    "execution": {
     "iopub.execute_input": "2021-05-26T13:59:10.767902Z",
     "iopub.status.busy": "2021-05-26T13:59:10.758909Z",
     "iopub.status.idle": "2021-05-26T13:59:10.794453Z",
     "shell.execute_reply": "2021-05-26T13:59:10.796458Z"
    },
    "papermill": {
     "duration": 0.771915,
     "end_time": "2021-05-26T13:59:10.796458",
     "exception": false,
     "start_time": "2021-05-26T13:59:10.024543",
     "status": "completed"
    },
    "tags": []
   },
   "outputs": [
    {
     "data": {
      "text/plain": [
       "['\\\\\\\\hecate\\\\Insurance_US\\\\Product Development\\\\Product Management\\\\Global PPM\\\\Reporting\\\\Data Collection\\\\Production\\\\2021.Q1\\\\live_sources\\\\us_dat_ca_05202021134242.parquet',\n",
       " '\\\\\\\\hecate\\\\Insurance_US\\\\Product Development\\\\Product Management\\\\Global PPM\\\\Reporting\\\\Data Collection\\\\Production\\\\2021.Q1\\\\live_sources\\\\us_dat_ch_05182021192455.parquet',\n",
       " '\\\\\\\\hecate\\\\Insurance_US\\\\Product Development\\\\Product Management\\\\Global PPM\\\\Reporting\\\\Data Collection\\\\Production\\\\2021.Q1\\\\live_sources\\\\us_dat_cz_05262021090243.parquet',\n",
       " '\\\\\\\\hecate\\\\Insurance_US\\\\Product Development\\\\Product Management\\\\Global PPM\\\\Reporting\\\\Data Collection\\\\Production\\\\2021.Q1\\\\live_sources\\\\us_dat_es_05202021105141.parquet',\n",
       " '\\\\\\\\hecate\\\\Insurance_US\\\\Product Development\\\\Product Management\\\\Global PPM\\\\Reporting\\\\Data Collection\\\\Production\\\\2021.Q1\\\\live_sources\\\\us_dat_gr_05252021115404.parquet',\n",
       " '\\\\\\\\hecate\\\\Insurance_US\\\\Product Development\\\\Product Management\\\\Global PPM\\\\Reporting\\\\Data Collection\\\\Production\\\\2021.Q1\\\\live_sources\\\\us_dat_it_05242021111520.parquet',\n",
       " '\\\\\\\\hecate\\\\Insurance_US\\\\Product Development\\\\Product Management\\\\Global PPM\\\\Reporting\\\\Data Collection\\\\Production\\\\2021.Q1\\\\live_sources\\\\us_dat_pl_05262021084450.parquet',\n",
       " '\\\\\\\\hecate\\\\Insurance_US\\\\Product Development\\\\Product Management\\\\Global PPM\\\\Reporting\\\\Data Collection\\\\Production\\\\2021.Q1\\\\live_sources\\\\us_dat_pt_05202021121056.parquet',\n",
       " '\\\\\\\\hecate\\\\Insurance_US\\\\Product Development\\\\Product Management\\\\Global PPM\\\\Reporting\\\\Data Collection\\\\Production\\\\2021.Q1\\\\live_sources\\\\us_orig_au_05142021143611.json',\n",
       " '\\\\\\\\hecate\\\\Insurance_US\\\\Product Development\\\\Product Management\\\\Global PPM\\\\Reporting\\\\Data Collection\\\\Production\\\\2021.Q1\\\\live_sources\\\\us_orig_ca_05202021134242.parquet',\n",
       " '\\\\\\\\hecate\\\\Insurance_US\\\\Product Development\\\\Product Management\\\\Global PPM\\\\Reporting\\\\Data Collection\\\\Production\\\\2021.Q1\\\\live_sources\\\\us_orig_ch_05182021192455.parquet',\n",
       " '\\\\\\\\hecate\\\\Insurance_US\\\\Product Development\\\\Product Management\\\\Global PPM\\\\Reporting\\\\Data Collection\\\\Production\\\\2021.Q1\\\\live_sources\\\\us_orig_cz_05242021103837.parquet',\n",
       " '\\\\\\\\hecate\\\\Insurance_US\\\\Product Development\\\\Product Management\\\\Global PPM\\\\Reporting\\\\Data Collection\\\\Production\\\\2021.Q1\\\\live_sources\\\\us_orig_cz_05262021090243.parquet',\n",
       " '\\\\\\\\hecate\\\\Insurance_US\\\\Product Development\\\\Product Management\\\\Global PPM\\\\Reporting\\\\Data Collection\\\\Production\\\\2021.Q1\\\\live_sources\\\\us_orig_es_05202021105141.parquet',\n",
       " '\\\\\\\\hecate\\\\Insurance_US\\\\Product Development\\\\Product Management\\\\Global PPM\\\\Reporting\\\\Data Collection\\\\Production\\\\2021.Q1\\\\live_sources\\\\us_orig_gr_05252021115404.parquet',\n",
       " '\\\\\\\\hecate\\\\Insurance_US\\\\Product Development\\\\Product Management\\\\Global PPM\\\\Reporting\\\\Data Collection\\\\Production\\\\2021.Q1\\\\live_sources\\\\us_orig_it_05242021111520.parquet',\n",
       " '\\\\\\\\hecate\\\\Insurance_US\\\\Product Development\\\\Product Management\\\\Global PPM\\\\Reporting\\\\Data Collection\\\\Production\\\\2021.Q1\\\\live_sources\\\\us_orig_pl_05262021084450.parquet',\n",
       " '\\\\\\\\hecate\\\\Insurance_US\\\\Product Development\\\\Product Management\\\\Global PPM\\\\Reporting\\\\Data Collection\\\\Production\\\\2021.Q1\\\\live_sources\\\\us_orig_pt_05202021121055.parquet',\n",
       " '\\\\\\\\hecate\\\\Insurance_US\\\\Product Development\\\\Product Management\\\\Global PPM\\\\Reporting\\\\Data Collection\\\\Production\\\\2021.Q1\\\\live_sources\\\\us_survey_au_02172021174808.parquet',\n",
       " '\\\\\\\\hecate\\\\Insurance_US\\\\Product Development\\\\Product Management\\\\Global PPM\\\\Reporting\\\\Data Collection\\\\Production\\\\2021.Q1\\\\live_sources\\\\us_survey_au_05142021143750.parquet',\n",
       " '\\\\\\\\hecate\\\\Insurance_US\\\\Product Development\\\\Product Management\\\\Global PPM\\\\Reporting\\\\Data Collection\\\\Production\\\\2021.Q1\\\\live_sources\\\\us_survey_ca_05202021135610.parquet',\n",
       " '\\\\\\\\hecate\\\\Insurance_US\\\\Product Development\\\\Product Management\\\\Global PPM\\\\Reporting\\\\Data Collection\\\\Production\\\\2021.Q1\\\\live_sources\\\\us_survey_ch_05182021192905.parquet',\n",
       " '\\\\\\\\hecate\\\\Insurance_US\\\\Product Development\\\\Product Management\\\\Global PPM\\\\Reporting\\\\Data Collection\\\\Production\\\\2021.Q1\\\\live_sources\\\\us_survey_cz_05262021090440.parquet',\n",
       " '\\\\\\\\hecate\\\\Insurance_US\\\\Product Development\\\\Product Management\\\\Global PPM\\\\Reporting\\\\Data Collection\\\\Production\\\\2021.Q1\\\\live_sources\\\\us_survey_es_05202021105431.parquet',\n",
       " '\\\\\\\\hecate\\\\Insurance_US\\\\Product Development\\\\Product Management\\\\Global PPM\\\\Reporting\\\\Data Collection\\\\Production\\\\2021.Q1\\\\live_sources\\\\us_survey_gr_05252021115827.parquet',\n",
       " '\\\\\\\\hecate\\\\Insurance_US\\\\Product Development\\\\Product Management\\\\Global PPM\\\\Reporting\\\\Data Collection\\\\Production\\\\2021.Q1\\\\live_sources\\\\us_survey_it_05242021111759.parquet',\n",
       " '\\\\\\\\hecate\\\\Insurance_US\\\\Product Development\\\\Product Management\\\\Global PPM\\\\Reporting\\\\Data Collection\\\\Production\\\\2021.Q1\\\\live_sources\\\\us_survey_pl_05262021084708.parquet',\n",
       " '\\\\\\\\hecate\\\\Insurance_US\\\\Product Development\\\\Product Management\\\\Global PPM\\\\Reporting\\\\Data Collection\\\\Production\\\\2021.Q1\\\\live_sources\\\\us_survey_pt_05202021121304.parquet',\n",
       " '\\\\\\\\hecate\\\\Insurance_US\\\\Product Development\\\\Product Management\\\\Global PPM\\\\Reporting\\\\Data Collection\\\\Production\\\\2021.Q1\\\\live_sources\\\\us_vcomments_au_02172021174434.parquet',\n",
       " '\\\\\\\\hecate\\\\Insurance_US\\\\Product Development\\\\Product Management\\\\Global PPM\\\\Reporting\\\\Data Collection\\\\Production\\\\2021.Q1\\\\live_sources\\\\us_vcomments_au_02172021174440.parquet',\n",
       " '\\\\\\\\hecate\\\\Insurance_US\\\\Product Development\\\\Product Management\\\\Global PPM\\\\Reporting\\\\Data Collection\\\\Production\\\\2021.Q1\\\\live_sources\\\\us_vcomments_au_05142021143612.parquet',\n",
       " '\\\\\\\\hecate\\\\Insurance_US\\\\Product Development\\\\Product Management\\\\Global PPM\\\\Reporting\\\\Data Collection\\\\Production\\\\2021.Q1\\\\live_sources\\\\us_vcomments_au_05142021143617.parquet',\n",
       " '\\\\\\\\hecate\\\\Insurance_US\\\\Product Development\\\\Product Management\\\\Global PPM\\\\Reporting\\\\Data Collection\\\\Production\\\\2021.Q1\\\\live_sources\\\\us_vcomments_au_mnual_creation.parquet',\n",
       " '\\\\\\\\hecate\\\\Insurance_US\\\\Product Development\\\\Product Management\\\\Global PPM\\\\Reporting\\\\Data Collection\\\\Production\\\\2021.Q1\\\\live_sources\\\\us_vcomments_ca_05202021134242.parquet',\n",
       " '\\\\\\\\hecate\\\\Insurance_US\\\\Product Development\\\\Product Management\\\\Global PPM\\\\Reporting\\\\Data Collection\\\\Production\\\\2021.Q1\\\\live_sources\\\\us_vcomments_ch_05182021192455.parquet',\n",
       " '\\\\\\\\hecate\\\\Insurance_US\\\\Product Development\\\\Product Management\\\\Global PPM\\\\Reporting\\\\Data Collection\\\\Production\\\\2021.Q1\\\\live_sources\\\\us_vcomments_ch_05182021192456.parquet',\n",
       " '\\\\\\\\hecate\\\\Insurance_US\\\\Product Development\\\\Product Management\\\\Global PPM\\\\Reporting\\\\Data Collection\\\\Production\\\\2021.Q1\\\\live_sources\\\\us_vcomments_cz_05242021103837.parquet',\n",
       " '\\\\\\\\hecate\\\\Insurance_US\\\\Product Development\\\\Product Management\\\\Global PPM\\\\Reporting\\\\Data Collection\\\\Production\\\\2021.Q1\\\\live_sources\\\\us_vcomments_cz_05262021090243.parquet',\n",
       " '\\\\\\\\hecate\\\\Insurance_US\\\\Product Development\\\\Product Management\\\\Global PPM\\\\Reporting\\\\Data Collection\\\\Production\\\\2021.Q1\\\\live_sources\\\\us_vcomments_es_05202021105141.parquet',\n",
       " '\\\\\\\\hecate\\\\Insurance_US\\\\Product Development\\\\Product Management\\\\Global PPM\\\\Reporting\\\\Data Collection\\\\Production\\\\2021.Q1\\\\live_sources\\\\us_vcomments_es_05202021105142.parquet',\n",
       " '\\\\\\\\hecate\\\\Insurance_US\\\\Product Development\\\\Product Management\\\\Global PPM\\\\Reporting\\\\Data Collection\\\\Production\\\\2021.Q1\\\\live_sources\\\\us_vcomments_gr_05252021115404.parquet',\n",
       " '\\\\\\\\hecate\\\\Insurance_US\\\\Product Development\\\\Product Management\\\\Global PPM\\\\Reporting\\\\Data Collection\\\\Production\\\\2021.Q1\\\\live_sources\\\\us_vcomments_it_05242021111521.parquet',\n",
       " '\\\\\\\\hecate\\\\Insurance_US\\\\Product Development\\\\Product Management\\\\Global PPM\\\\Reporting\\\\Data Collection\\\\Production\\\\2021.Q1\\\\live_sources\\\\us_vcomments_pl_05262021084450.parquet',\n",
       " '\\\\\\\\hecate\\\\Insurance_US\\\\Product Development\\\\Product Management\\\\Global PPM\\\\Reporting\\\\Data Collection\\\\Production\\\\2021.Q1\\\\live_sources\\\\us_vcomments_pt_05202021121056.parquet',\n",
       " '\\\\\\\\hecate\\\\Insurance_US\\\\Product Development\\\\Product Management\\\\Global PPM\\\\Reporting\\\\Data Collection\\\\Production\\\\2021.Q1\\\\live_sources\\\\us_vdf_au_05142021143613.json',\n",
       " '\\\\\\\\hecate\\\\Insurance_US\\\\Product Development\\\\Product Management\\\\Global PPM\\\\Reporting\\\\Data Collection\\\\Production\\\\2021.Q1\\\\live_sources\\\\us_vdf_ca_05202021134242.json',\n",
       " '\\\\\\\\hecate\\\\Insurance_US\\\\Product Development\\\\Product Management\\\\Global PPM\\\\Reporting\\\\Data Collection\\\\Production\\\\2021.Q1\\\\live_sources\\\\us_vdf_ch_05182021192456.json',\n",
       " '\\\\\\\\hecate\\\\Insurance_US\\\\Product Development\\\\Product Management\\\\Global PPM\\\\Reporting\\\\Data Collection\\\\Production\\\\2021.Q1\\\\live_sources\\\\us_vdf_cz_05242021103837.json',\n",
       " '\\\\\\\\hecate\\\\Insurance_US\\\\Product Development\\\\Product Management\\\\Global PPM\\\\Reporting\\\\Data Collection\\\\Production\\\\2021.Q1\\\\live_sources\\\\us_vdf_cz_05262021090243.json',\n",
       " '\\\\\\\\hecate\\\\Insurance_US\\\\Product Development\\\\Product Management\\\\Global PPM\\\\Reporting\\\\Data Collection\\\\Production\\\\2021.Q1\\\\live_sources\\\\us_vdf_es_05202021105142.json',\n",
       " '\\\\\\\\hecate\\\\Insurance_US\\\\Product Development\\\\Product Management\\\\Global PPM\\\\Reporting\\\\Data Collection\\\\Production\\\\2021.Q1\\\\live_sources\\\\us_vdf_gr_05252021115404.json',\n",
       " '\\\\\\\\hecate\\\\Insurance_US\\\\Product Development\\\\Product Management\\\\Global PPM\\\\Reporting\\\\Data Collection\\\\Production\\\\2021.Q1\\\\live_sources\\\\us_vdf_it_05242021111521.json',\n",
       " '\\\\\\\\hecate\\\\Insurance_US\\\\Product Development\\\\Product Management\\\\Global PPM\\\\Reporting\\\\Data Collection\\\\Production\\\\2021.Q1\\\\live_sources\\\\us_vdf_pl_05262021084450.json',\n",
       " '\\\\\\\\hecate\\\\Insurance_US\\\\Product Development\\\\Product Management\\\\Global PPM\\\\Reporting\\\\Data Collection\\\\Production\\\\2021.Q1\\\\live_sources\\\\us_vdf_pt_05202021121056.json']"
      ]
     },
     "execution_count": 11,
     "metadata": {},
     "output_type": "execute_result"
    }
   ],
   "source": [
    "prelist_jfiles = glob.glob(os.path.join(ls_path, 'us_vcomments_*.json'))\n",
    "prelist_pfiles = glob.glob(os.path.join(ls_path, 'us_vcomments_*.parquet'))\n",
    "\n",
    "prelist_files = []\n",
    "    \n",
    "for i in prelist_jfiles : prelist_files.append(i)    \n",
    "for i in prelist_pfiles : prelist_files.append(i)\n",
    "\n",
    "\n",
    "for idx, i in enumerate(prelist_jfiles):\n",
    "    prelist_jfiles[idx] = prelist_jfiles[idx][-23:-19]\n",
    "    prelist_jfiles[idx] = prelist_jfiles[idx].replace('_','')\n",
    "\n",
    "for idx, i in enumerate(prelist_pfiles):\n",
    "    prelist_pfiles[idx] = prelist_pfiles[idx][-26:-22]\n",
    "    prelist_pfiles[idx] = prelist_pfiles[idx].replace('_','')\n",
    "\n",
    "list_bus = []\n",
    "    \n",
    "for i in prelist_jfiles : list_bus.append(i)    \n",
    "for i in prelist_pfiles : list_bus.append(i)\n",
    "\n",
    "\n",
    "BU_set = set(list_bus)\n",
    "BU_list = list(BU_set)\n",
    "\n",
    "files_sources\n"
   ]
  },
  {
   "cell_type": "markdown",
   "id": "9dd9852f",
   "metadata": {
    "tags": [
     "papermill-error-cell-tag"
    ]
   },
   "source": [
    "<span id=\"papermill-error-cell\" style=\"color:red; font-family:Helvetica Neue, Helvetica, Arial, sans-serif; font-size:2em;\">Execution using papermill encountered an exception here and stopped:</span>"
   ]
  },
  {
   "cell_type": "code",
   "execution_count": 12,
   "id": "d2cf2501",
   "metadata": {
    "execution": {
     "iopub.execute_input": "2021-05-26T13:59:11.891888Z",
     "iopub.status.busy": "2021-05-26T13:59:11.877890Z",
     "iopub.status.idle": "2021-05-26T14:00:34.178352Z",
     "shell.execute_reply": "2021-05-26T14:00:34.174355Z"
    },
    "papermill": {
     "duration": 83.001452,
     "end_time": "2021-05-26T14:00:34.179353",
     "exception": true,
     "start_time": "2021-05-26T13:59:11.177901",
     "status": "failed"
    },
    "pycharm": {
     "name": "#%%\n"
    },
    "tags": []
   },
   "outputs": [
    {
     "name": "stdout",
     "output_type": "stream",
     "text": [
      "_ca\n",
      "['\\\\\\\\hecate\\\\Insurance_US\\\\Product Development\\\\Product Management\\\\Global PPM\\\\Reporting\\\\Data Collection\\\\Production\\\\2021.Q1\\\\live_sources\\\\us_orig_ca_05202021134242.parquet']\n"
     ]
    },
    {
     "name": "stdout",
     "output_type": "stream",
     "text": [
      "_ca\n",
      "['\\\\\\\\hecate\\\\Insurance_US\\\\Product Development\\\\Product Management\\\\Global PPM\\\\Reporting\\\\Data Collection\\\\Production\\\\2021.Q1\\\\live_sources\\\\us_dat_ca_05202021134242.parquet']\n"
     ]
    },
    {
     "name": "stdout",
     "output_type": "stream",
     "text": [
      "_ca\n",
      "['\\\\\\\\hecate\\\\Insurance_US\\\\Product Development\\\\Product Management\\\\Global PPM\\\\Reporting\\\\Data Collection\\\\Production\\\\2021.Q1\\\\live_sources\\\\us_vcomments_ca_05202021134242.parquet']\n"
     ]
    },
    {
     "name": "stdout",
     "output_type": "stream",
     "text": [
      "_ca\n",
      "['\\\\\\\\hecate\\\\Insurance_US\\\\Product Development\\\\Product Management\\\\Global PPM\\\\Reporting\\\\Data Collection\\\\Production\\\\2021.Q1\\\\live_sources\\\\us_survey_ca_05202021135610.parquet']\n"
     ]
    },
    {
     "name": "stdout",
     "output_type": "stream",
     "text": [
      "Original Data Set\n"
     ]
    },
    {
     "name": "stdout",
     "output_type": "stream",
     "text": [
      "Final Data Set\n"
     ]
    },
    {
     "name": "stdout",
     "output_type": "stream",
     "text": [
      "Validations\n"
     ]
    },
    {
     "name": "stdout",
     "output_type": "stream",
     "text": [
      "Survey\n"
     ]
    },
    {
     "name": "stdout",
     "output_type": "stream",
     "text": [
      "_gr\n",
      "['\\\\\\\\hecate\\\\Insurance_US\\\\Product Development\\\\Product Management\\\\Global PPM\\\\Reporting\\\\Data Collection\\\\Production\\\\2021.Q1\\\\live_sources\\\\us_orig_gr_05252021115404.parquet']\n"
     ]
    },
    {
     "name": "stdout",
     "output_type": "stream",
     "text": [
      "_gr\n",
      "['\\\\\\\\hecate\\\\Insurance_US\\\\Product Development\\\\Product Management\\\\Global PPM\\\\Reporting\\\\Data Collection\\\\Production\\\\2021.Q1\\\\live_sources\\\\us_dat_gr_05252021115404.parquet']\n"
     ]
    },
    {
     "name": "stdout",
     "output_type": "stream",
     "text": [
      "_gr\n",
      "['\\\\\\\\hecate\\\\Insurance_US\\\\Product Development\\\\Product Management\\\\Global PPM\\\\Reporting\\\\Data Collection\\\\Production\\\\2021.Q1\\\\live_sources\\\\us_vcomments_gr_05252021115404.parquet']\n"
     ]
    },
    {
     "name": "stdout",
     "output_type": "stream",
     "text": [
      "_gr\n",
      "['\\\\\\\\hecate\\\\Insurance_US\\\\Product Development\\\\Product Management\\\\Global PPM\\\\Reporting\\\\Data Collection\\\\Production\\\\2021.Q1\\\\live_sources\\\\us_survey_gr_05252021115827.parquet']\n"
     ]
    },
    {
     "name": "stdout",
     "output_type": "stream",
     "text": [
      "Original Data Set\n"
     ]
    },
    {
     "name": "stdout",
     "output_type": "stream",
     "text": [
      "Final Data Set\n"
     ]
    },
    {
     "name": "stdout",
     "output_type": "stream",
     "text": [
      "Validations\n"
     ]
    },
    {
     "name": "stdout",
     "output_type": "stream",
     "text": [
      "Survey\n"
     ]
    },
    {
     "name": "stdout",
     "output_type": "stream",
     "text": [
      "_it\n",
      "['\\\\\\\\hecate\\\\Insurance_US\\\\Product Development\\\\Product Management\\\\Global PPM\\\\Reporting\\\\Data Collection\\\\Production\\\\2021.Q1\\\\live_sources\\\\us_orig_it_05242021111520.parquet']\n"
     ]
    },
    {
     "name": "stdout",
     "output_type": "stream",
     "text": [
      "_it\n",
      "['\\\\\\\\hecate\\\\Insurance_US\\\\Product Development\\\\Product Management\\\\Global PPM\\\\Reporting\\\\Data Collection\\\\Production\\\\2021.Q1\\\\live_sources\\\\us_dat_it_05242021111520.parquet']\n"
     ]
    },
    {
     "name": "stdout",
     "output_type": "stream",
     "text": [
      "_it\n",
      "['\\\\\\\\hecate\\\\Insurance_US\\\\Product Development\\\\Product Management\\\\Global PPM\\\\Reporting\\\\Data Collection\\\\Production\\\\2021.Q1\\\\live_sources\\\\us_vcomments_it_05242021111521.parquet']\n"
     ]
    },
    {
     "name": "stdout",
     "output_type": "stream",
     "text": [
      "_it\n",
      "['\\\\\\\\hecate\\\\Insurance_US\\\\Product Development\\\\Product Management\\\\Global PPM\\\\Reporting\\\\Data Collection\\\\Production\\\\2021.Q1\\\\live_sources\\\\us_survey_it_05242021111759.parquet']\n"
     ]
    },
    {
     "name": "stdout",
     "output_type": "stream",
     "text": [
      "Original Data Set\n"
     ]
    },
    {
     "name": "stdout",
     "output_type": "stream",
     "text": [
      "Final Data Set\n"
     ]
    },
    {
     "name": "stdout",
     "output_type": "stream",
     "text": [
      "Validations\n"
     ]
    },
    {
     "name": "stdout",
     "output_type": "stream",
     "text": [
      "Survey\n"
     ]
    },
    {
     "name": "stdout",
     "output_type": "stream",
     "text": [
      "_cz\n",
      "['\\\\\\\\hecate\\\\Insurance_US\\\\Product Development\\\\Product Management\\\\Global PPM\\\\Reporting\\\\Data Collection\\\\Production\\\\2021.Q1\\\\live_sources\\\\us_orig_cz_05242021103837.parquet', '\\\\\\\\hecate\\\\Insurance_US\\\\Product Development\\\\Product Management\\\\Global PPM\\\\Reporting\\\\Data Collection\\\\Production\\\\2021.Q1\\\\live_sources\\\\us_orig_cz_05262021090243.parquet']\n"
     ]
    },
    {
     "name": "stdout",
     "output_type": "stream",
     "text": [
      "_cz\n",
      "['\\\\\\\\hecate\\\\Insurance_US\\\\Product Development\\\\Product Management\\\\Global PPM\\\\Reporting\\\\Data Collection\\\\Production\\\\2021.Q1\\\\live_sources\\\\us_dat_cz_05262021090243.parquet']\n"
     ]
    },
    {
     "name": "stdout",
     "output_type": "stream",
     "text": [
      "_cz\n",
      "['\\\\\\\\hecate\\\\Insurance_US\\\\Product Development\\\\Product Management\\\\Global PPM\\\\Reporting\\\\Data Collection\\\\Production\\\\2021.Q1\\\\live_sources\\\\us_vcomments_cz_05242021103837.parquet', '\\\\\\\\hecate\\\\Insurance_US\\\\Product Development\\\\Product Management\\\\Global PPM\\\\Reporting\\\\Data Collection\\\\Production\\\\2021.Q1\\\\live_sources\\\\us_vcomments_cz_05262021090243.parquet']\n"
     ]
    },
    {
     "name": "stdout",
     "output_type": "stream",
     "text": [
      "_cz\n",
      "['\\\\\\\\hecate\\\\Insurance_US\\\\Product Development\\\\Product Management\\\\Global PPM\\\\Reporting\\\\Data Collection\\\\Production\\\\2021.Q1\\\\live_sources\\\\us_survey_cz_05262021090440.parquet']\n"
     ]
    },
    {
     "name": "stdout",
     "output_type": "stream",
     "text": [
      "Original Data Set\n"
     ]
    },
    {
     "name": "stdout",
     "output_type": "stream",
     "text": [
      "Final Data Set\n"
     ]
    },
    {
     "name": "stdout",
     "output_type": "stream",
     "text": [
      "Validations\n"
     ]
    },
    {
     "name": "stdout",
     "output_type": "stream",
     "text": [
      "Survey\n"
     ]
    },
    {
     "name": "stdout",
     "output_type": "stream",
     "text": [
      "_pl\n",
      "['\\\\\\\\hecate\\\\Insurance_US\\\\Product Development\\\\Product Management\\\\Global PPM\\\\Reporting\\\\Data Collection\\\\Production\\\\2021.Q1\\\\live_sources\\\\us_orig_pl_05262021084450.parquet']\n"
     ]
    },
    {
     "name": "stdout",
     "output_type": "stream",
     "text": [
      "_pl\n",
      "['\\\\\\\\hecate\\\\Insurance_US\\\\Product Development\\\\Product Management\\\\Global PPM\\\\Reporting\\\\Data Collection\\\\Production\\\\2021.Q1\\\\live_sources\\\\us_dat_pl_05262021084450.parquet']\n"
     ]
    },
    {
     "name": "stdout",
     "output_type": "stream",
     "text": [
      "_pl\n",
      "['\\\\\\\\hecate\\\\Insurance_US\\\\Product Development\\\\Product Management\\\\Global PPM\\\\Reporting\\\\Data Collection\\\\Production\\\\2021.Q1\\\\live_sources\\\\us_vcomments_pl_05262021084450.parquet']\n"
     ]
    },
    {
     "name": "stdout",
     "output_type": "stream",
     "text": [
      "_pl\n",
      "['\\\\\\\\hecate\\\\Insurance_US\\\\Product Development\\\\Product Management\\\\Global PPM\\\\Reporting\\\\Data Collection\\\\Production\\\\2021.Q1\\\\live_sources\\\\us_survey_pl_05262021084708.parquet']\n"
     ]
    },
    {
     "name": "stdout",
     "output_type": "stream",
     "text": [
      "Original Data Set\n"
     ]
    },
    {
     "name": "stdout",
     "output_type": "stream",
     "text": [
      "Final Data Set\n"
     ]
    },
    {
     "name": "stdout",
     "output_type": "stream",
     "text": [
      "Validations\n"
     ]
    },
    {
     "name": "stdout",
     "output_type": "stream",
     "text": [
      "Survey\n"
     ]
    },
    {
     "name": "stdout",
     "output_type": "stream",
     "text": [
      "_es\n",
      "['\\\\\\\\hecate\\\\Insurance_US\\\\Product Development\\\\Product Management\\\\Global PPM\\\\Reporting\\\\Data Collection\\\\Production\\\\2021.Q1\\\\live_sources\\\\us_orig_es_05202021105141.parquet']\n"
     ]
    },
    {
     "name": "stdout",
     "output_type": "stream",
     "text": [
      "_es\n",
      "['\\\\\\\\hecate\\\\Insurance_US\\\\Product Development\\\\Product Management\\\\Global PPM\\\\Reporting\\\\Data Collection\\\\Production\\\\2021.Q1\\\\live_sources\\\\us_dat_es_05202021105141.parquet']\n"
     ]
    },
    {
     "name": "stdout",
     "output_type": "stream",
     "text": [
      "_es\n",
      "['\\\\\\\\hecate\\\\Insurance_US\\\\Product Development\\\\Product Management\\\\Global PPM\\\\Reporting\\\\Data Collection\\\\Production\\\\2021.Q1\\\\live_sources\\\\us_vcomments_es_05202021105141.parquet', '\\\\\\\\hecate\\\\Insurance_US\\\\Product Development\\\\Product Management\\\\Global PPM\\\\Reporting\\\\Data Collection\\\\Production\\\\2021.Q1\\\\live_sources\\\\us_vcomments_es_05202021105142.parquet']\n"
     ]
    },
    {
     "name": "stdout",
     "output_type": "stream",
     "text": [
      "_es\n",
      "['\\\\\\\\hecate\\\\Insurance_US\\\\Product Development\\\\Product Management\\\\Global PPM\\\\Reporting\\\\Data Collection\\\\Production\\\\2021.Q1\\\\live_sources\\\\us_survey_es_05202021105431.parquet']\n"
     ]
    },
    {
     "name": "stdout",
     "output_type": "stream",
     "text": [
      "Original Data Set\n"
     ]
    },
    {
     "name": "stdout",
     "output_type": "stream",
     "text": [
      "Final Data Set\n"
     ]
    },
    {
     "name": "stdout",
     "output_type": "stream",
     "text": [
      "Validations\n"
     ]
    },
    {
     "name": "stdout",
     "output_type": "stream",
     "text": [
      "Survey\n"
     ]
    },
    {
     "name": "stdout",
     "output_type": "stream",
     "text": [
      "_ch\n",
      "['\\\\\\\\hecate\\\\Insurance_US\\\\Product Development\\\\Product Management\\\\Global PPM\\\\Reporting\\\\Data Collection\\\\Production\\\\2021.Q1\\\\live_sources\\\\us_orig_ch_05182021192455.parquet']\n"
     ]
    },
    {
     "name": "stdout",
     "output_type": "stream",
     "text": [
      "_ch\n",
      "['\\\\\\\\hecate\\\\Insurance_US\\\\Product Development\\\\Product Management\\\\Global PPM\\\\Reporting\\\\Data Collection\\\\Production\\\\2021.Q1\\\\live_sources\\\\us_dat_ch_05182021192455.parquet']\n"
     ]
    },
    {
     "name": "stdout",
     "output_type": "stream",
     "text": [
      "_ch\n",
      "['\\\\\\\\hecate\\\\Insurance_US\\\\Product Development\\\\Product Management\\\\Global PPM\\\\Reporting\\\\Data Collection\\\\Production\\\\2021.Q1\\\\live_sources\\\\us_vcomments_ch_05182021192455.parquet', '\\\\\\\\hecate\\\\Insurance_US\\\\Product Development\\\\Product Management\\\\Global PPM\\\\Reporting\\\\Data Collection\\\\Production\\\\2021.Q1\\\\live_sources\\\\us_vcomments_ch_05182021192456.parquet']\n"
     ]
    },
    {
     "name": "stdout",
     "output_type": "stream",
     "text": [
      "_ch\n",
      "['\\\\\\\\hecate\\\\Insurance_US\\\\Product Development\\\\Product Management\\\\Global PPM\\\\Reporting\\\\Data Collection\\\\Production\\\\2021.Q1\\\\live_sources\\\\us_survey_ch_05182021192905.parquet']\n"
     ]
    },
    {
     "name": "stdout",
     "output_type": "stream",
     "text": [
      "Original Data Set\n"
     ]
    },
    {
     "name": "stdout",
     "output_type": "stream",
     "text": [
      "Final Data Set\n"
     ]
    },
    {
     "name": "stdout",
     "output_type": "stream",
     "text": [
      "Validations\n"
     ]
    },
    {
     "name": "stdout",
     "output_type": "stream",
     "text": [
      "Survey\n"
     ]
    },
    {
     "name": "stdout",
     "output_type": "stream",
     "text": [
      "_au\n",
      "['\\\\\\\\hecate\\\\Insurance_US\\\\Product Development\\\\Product Management\\\\Global PPM\\\\Reporting\\\\Data Collection\\\\Production\\\\2021.Q1\\\\live_sources\\\\us_orig_au_05142021143611.json']\n"
     ]
    },
    {
     "name": "stdout",
     "output_type": "stream",
     "text": [
      "_au\n",
      "[]\n"
     ]
    },
    {
     "ename": "ValueError",
     "evalue": "max() arg is an empty sequence",
     "output_type": "error",
     "traceback": [
      "\u001b[1;31m---------------------------------------------------------------------------\u001b[0m",
      "\u001b[1;31mValueError\u001b[0m                                Traceback (most recent call last)",
      "\u001b[1;32m<ipython-input-12-54151a01a55f>\u001b[0m in \u001b[0;36m<module>\u001b[1;34m\u001b[0m\n\u001b[0;32m      8\u001b[0m         \u001b[0mlist_files\u001b[0m \u001b[1;33m=\u001b[0m \u001b[0mlist\u001b[0m\u001b[1;33m(\u001b[0m\u001b[0mfilter\u001b[0m\u001b[1;33m(\u001b[0m\u001b[1;32mlambda\u001b[0m \u001b[0mx\u001b[0m\u001b[1;33m:\u001b[0m \u001b[1;34mf\"{i}\"\u001b[0m \u001b[1;32min\u001b[0m  \u001b[0mx\u001b[0m \u001b[1;32mand\u001b[0m \u001b[1;34mf\"_{b.lower()}\"\u001b[0m \u001b[1;32min\u001b[0m  \u001b[0mx\u001b[0m  \u001b[1;33m,\u001b[0m \u001b[0mfiles_sources\u001b[0m\u001b[1;33m)\u001b[0m\u001b[1;33m)\u001b[0m\u001b[1;33m\u001b[0m\u001b[1;33m\u001b[0m\u001b[0m\n\u001b[0;32m      9\u001b[0m         \u001b[0mprint\u001b[0m\u001b[1;33m(\u001b[0m\u001b[0mlist_files\u001b[0m\u001b[1;33m)\u001b[0m\u001b[1;33m\u001b[0m\u001b[1;33m\u001b[0m\u001b[0m\n\u001b[1;32m---> 10\u001b[1;33m         \u001b[0mrecent_vers\u001b[0m \u001b[1;33m=\u001b[0m \u001b[0mmax\u001b[0m\u001b[1;33m(\u001b[0m\u001b[0mlist_files\u001b[0m\u001b[1;33m,\u001b[0m \u001b[0mkey\u001b[0m\u001b[1;33m=\u001b[0m\u001b[0mos\u001b[0m\u001b[1;33m.\u001b[0m\u001b[0mpath\u001b[0m\u001b[1;33m.\u001b[0m\u001b[0mgetctime\u001b[0m\u001b[1;33m)\u001b[0m\u001b[1;33m\u001b[0m\u001b[1;33m\u001b[0m\u001b[0m\n\u001b[0m\u001b[0;32m     11\u001b[0m         \u001b[1;32mtry\u001b[0m\u001b[1;33m:\u001b[0m\u001b[1;33m\u001b[0m\u001b[1;33m\u001b[0m\u001b[0m\n\u001b[0;32m     12\u001b[0m             \u001b[0mlatest_data_sets\u001b[0m\u001b[1;33m.\u001b[0m\u001b[0mappend\u001b[0m\u001b[1;33m(\u001b[0m\u001b[1;33m[\u001b[0m\u001b[1;34mf'{i}'\u001b[0m\u001b[1;33m,\u001b[0m\u001b[0mpd\u001b[0m\u001b[1;33m.\u001b[0m\u001b[0mread_json\u001b[0m\u001b[1;33m(\u001b[0m\u001b[0mrecent_vers\u001b[0m\u001b[1;33m,\u001b[0m \u001b[0morient\u001b[0m\u001b[1;33m=\u001b[0m\u001b[1;34m\"table\"\u001b[0m\u001b[1;33m)\u001b[0m\u001b[1;33m]\u001b[0m\u001b[1;33m)\u001b[0m\u001b[1;33m\u001b[0m\u001b[1;33m\u001b[0m\u001b[0m\n",
      "\u001b[1;31mValueError\u001b[0m: max() arg is an empty sequence"
     ]
    }
   ],
   "source": [
    "\n",
    "datafiles = [ \"us_orig\", \"us_dat\", \"us_vcomment\", \"us_survey\", ]\n",
    "latest_data_sets = []\n",
    "\n",
    "for b in BU_list:\n",
    "    for i in datafiles:\n",
    "        \n",
    "        print(f\"_{b.lower()}\")\n",
    "        list_files = list(filter(lambda x: f\"{i}\" in  x and f\"_{b.lower()}\" in  x  , files_sources))  \n",
    "        print(list_files)\n",
    "        recent_vers = max(list_files, key=os.path.getctime)\n",
    "        try:\n",
    "            latest_data_sets.append([f'{i}',pd.read_json(recent_vers, orient=\"table\")])\n",
    "\n",
    "        except UnicodeDecodeError:\n",
    "            latest_data_sets.append([f'{i}',pd.read_parquet(recent_vers, engine=\"pyarrow\")])\n",
    "\n",
    "    data_set_dict = {}\n",
    "    data_set_dict[\"Original Data Set\"] = latest_data_sets[0][1]\n",
    "    data_set_dict[\"Final Data Set\"] = latest_data_sets[1][1]\n",
    "    data_set_dict[\"Validations\"] = latest_data_sets[2][1]\n",
    "    data_set_dict[\"Survey\"] = latest_data_sets[3][1].T.reset_index().rename(columns={'index':'Question Name', 0 :'Selection', 1:'Optional Response',2:'timestamp'})\n",
    "\n",
    "    nl.to_excel_ms(dfs=data_set_dict, filename=os.path.join(rep_path, f'Survey and Comments_{b}.xlsx'))\n"
   ]
  },
  {
   "cell_type": "code",
   "execution_count": null,
   "id": "d11800c6",
   "metadata": {
    "papermill": {
     "duration": null,
     "end_time": null,
     "exception": null,
     "start_time": null,
     "status": "pending"
    },
    "tags": []
   },
   "outputs": [],
   "source": [
    "### Open the folder with the documents saved"
   ]
  },
  {
   "cell_type": "code",
   "execution_count": null,
   "id": "10a44be9",
   "metadata": {
    "papermill": {
     "duration": null,
     "end_time": null,
     "exception": null,
     "start_time": null,
     "status": "pending"
    },
    "tags": []
   },
   "outputs": [],
   "source": [
    "os.startfile(rep_path)"
   ]
  },
  {
   "cell_type": "code",
   "execution_count": null,
   "id": "02a06a1f",
   "metadata": {
    "papermill": {
     "duration": null,
     "end_time": null,
     "exception": null,
     "start_time": null,
     "status": "pending"
    },
    "tags": []
   },
   "outputs": [],
   "source": []
  }
 ],
 "metadata": {
  "celltoolbar": "Tags",
  "kernelspec": {
   "display_name": "Python 3",
   "language": "python",
   "name": "python3"
  },
  "language_info": {
   "codemirror_mode": {
    "name": "ipython",
    "version": 3
   },
   "file_extension": ".py",
   "mimetype": "text/x-python",
   "name": "python",
   "nbconvert_exporter": "python",
   "pygments_lexer": "ipython3",
   "version": "3.7.6"
  },
  "papermill": {
   "default_parameters": {},
   "duration": 135.692194,
   "end_time": "2021-05-26T14:00:35.283243",
   "environment_variables": {},
   "exception": true,
   "input_path": "reporting/Make Survey and Comments Reports.ipynb",
   "output_path": "//hecate/Insurance_US/Product Development/Product Management/Global PPM/Reporting/Data Collection/Pipeline Reporting Scripts/GPMpipeline/instances/2021.Q1\\reporting\\Make Survey and Comments Reports05262021094707--live run.ipynb",
   "parameters": {
    "commit_message": "Used the old AU file. Replaced, running again.",
    "inst_datetime": "05262021094707",
    "percode": "2021.Q1",
    "run_control": 1
   },
   "start_time": "2021-05-26T13:58:19.591049",
   "version": "2.3.3"
  }
 },
 "nbformat": 4,
 "nbformat_minor": 5
}