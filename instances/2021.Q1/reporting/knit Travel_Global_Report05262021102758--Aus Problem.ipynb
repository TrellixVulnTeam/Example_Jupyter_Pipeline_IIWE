{
 "cells": [
  {
   "cell_type": "markdown",
   "id": "5c21ec3f",
   "metadata": {
    "tags": [
     "papermill-error-cell-tag"
    ]
   },
   "source": [
    "<span style=\"color:red; font-family:Helvetica Neue, Helvetica, Arial, sans-serif; font-size:2em;\">An Exception was encountered at '<a href=\"#papermill-error-cell\">In [6]</a>'.</span>"
   ]
  },
  {
   "cell_type": "markdown",
   "id": "681cc3d3",
   "metadata": {
    "papermill": {
     "duration": 0.272003,
     "end_time": "2021-05-26T14:45:51.301298",
     "exception": false,
     "start_time": "2021-05-26T14:45:51.029295",
     "status": "completed"
    },
    "tags": []
   },
   "source": [
    "<img src=\"../images/AzPTravel_PPM.png\">"
   ]
  },
  {
   "cell_type": "markdown",
   "id": "5967b079",
   "metadata": {
    "papermill": {
     "duration": 0.224662,
     "end_time": "2021-05-26T14:45:51.751064",
     "exception": false,
     "start_time": "2021-05-26T14:45:51.526402",
     "status": "completed"
    },
    "tags": []
   },
   "source": [
    "## Knit Travel Global Report\n",
    "\n",
    "#### This script exectutes the RMD that knits the Travel Global Report\n",
    "\n",
    "#### This can be run on its own or as part of the pipeline wherever called (ie from a papermill script or other user interface)."
   ]
  },
  {
   "cell_type": "code",
   "execution_count": 1,
   "id": "f9a611eb",
   "metadata": {
    "execution": {
     "iopub.execute_input": "2021-05-26T14:45:52.245523Z",
     "iopub.status.busy": "2021-05-26T14:45:52.238507Z",
     "iopub.status.idle": "2021-05-26T14:45:52.440042Z",
     "shell.execute_reply": "2021-05-26T14:45:52.435041Z"
    },
    "papermill": {
     "duration": 0.44401,
     "end_time": "2021-05-26T14:45:52.440042",
     "exception": false,
     "start_time": "2021-05-26T14:45:51.996032",
     "status": "completed"
    },
    "tags": [
     "parameters"
    ]
   },
   "outputs": [],
   "source": [
    "\n",
    "commit_message <- \"Development and testing.\"\n",
    "# Give a brief reason for the run.\n",
    "\n",
    "run_control <- 1\n",
    "#run_type = 0 - Lite run with no reporting, not recommended.\n",
    "#run_type = 1 - Lite run with normal reporting, default setting.\n",
    "#run_type = 2 - Heavy run with full reporting, available for audits and troubleshooting.\n",
    "#run_type = 5 - A default setting. Indicates the script is being run by an outside process without an inherited value\n",
    "\n",
    "percode <- \"2021.Q1\"\n",
    "# Data Collection Code, this controls file paths and output names\n",
    "# \"-f\" is the value indicating a bad inheritance from run with arg\n",
    "\n",
    "s_format <- \"p\"\n",
    "# denotes the source data format x == Excel; j == json, p == parquet\n",
    "\n",
    "#----------\n",
    "# do not edit - this either inherits the full instance timestamp from the papermill book or captures the run time of this script.\n",
    "\n",
    "inst_datetime <- format(Sys.time(), \"%S\")\n",
    "\n"
   ]
  },
  {
   "cell_type": "code",
   "execution_count": 2,
   "id": "c4d19596",
   "metadata": {
    "execution": {
     "iopub.execute_input": "2021-05-26T14:45:53.057615Z",
     "iopub.status.busy": "2021-05-26T14:45:52.942610Z",
     "iopub.status.idle": "2021-05-26T14:45:53.113154Z",
     "shell.execute_reply": "2021-05-26T14:45:53.107153Z"
    },
    "papermill": {
     "duration": 0.398545,
     "end_time": "2021-05-26T14:45:53.113154",
     "exception": false,
     "start_time": "2021-05-26T14:45:52.714609",
     "status": "completed"
    },
    "tags": [
     "injected-parameters"
    ]
   },
   "outputs": [],
   "source": [
    "# Parameters\n",
    "run_control = 1\n",
    "percode = \"2021.Q1\"\n",
    "commit_message = \"New AUS needed to be converted from json\"\n",
    "inst_datetime = \"05262021102758\"\n"
   ]
  },
  {
   "cell_type": "markdown",
   "id": "1c7afb73",
   "metadata": {
    "papermill": {
     "duration": 0.253524,
     "end_time": "2021-05-26T14:45:53.588786",
     "exception": false,
     "start_time": "2021-05-26T14:45:53.335262",
     "status": "completed"
    },
    "tags": []
   },
   "source": [
    "#### Default Variables, these govern logic, do not edit."
   ]
  },
  {
   "cell_type": "code",
   "execution_count": 3,
   "id": "9abf5879",
   "metadata": {
    "execution": {
     "iopub.execute_input": "2021-05-26T14:45:54.098704Z",
     "iopub.status.busy": "2021-05-26T14:45:54.096702Z",
     "iopub.status.idle": "2021-05-26T14:45:54.141730Z",
     "shell.execute_reply": "2021-05-26T14:45:54.137723Z"
    },
    "papermill": {
     "duration": 0.324025,
     "end_time": "2021-05-26T14:45:54.141730",
     "exception": false,
     "start_time": "2021-05-26T14:45:53.817705",
     "status": "completed"
    },
    "tags": []
   },
   "outputs": [],
   "source": [
    "default_dc <- \"20XX.QX\"\n",
    "default_rc <- 0 #extra lite mode\n",
    "dummy_perc <- \"33Q3\" # bad inheritance"
   ]
  },
  {
   "cell_type": "markdown",
   "id": "828d6377",
   "metadata": {
    "papermill": {
     "duration": 0.274573,
     "end_time": "2021-05-26T14:45:54.674700",
     "exception": false,
     "start_time": "2021-05-26T14:45:54.400127",
     "status": "completed"
    },
    "tags": []
   },
   "source": [
    "#### style settings"
   ]
  },
  {
   "cell_type": "code",
   "execution_count": 4,
   "id": "74c7a707",
   "metadata": {
    "execution": {
     "iopub.execute_input": "2021-05-26T14:45:55.597286Z",
     "iopub.status.busy": "2021-05-26T14:45:55.592267Z",
     "iopub.status.idle": "2021-05-26T14:45:55.644003Z",
     "shell.execute_reply": "2021-05-26T14:45:55.640012Z"
    },
    "papermill": {
     "duration": 0.458264,
     "end_time": "2021-05-26T14:45:55.645004",
     "exception": false,
     "start_time": "2021-05-26T14:45:55.186740",
     "status": "completed"
    },
    "tags": []
   },
   "outputs": [],
   "source": [
    "if (run_control == 5)\n",
    "    { run_control <- default_rc }\n",
    "\n",
    "if (run_control != 5) \n",
    "    { run_control <- run_control}\n",
    "\n",
    "# try:\n",
    "#     if sys.argv[1] == \"-f\":\n",
    "#         percode = percode\n",
    "#     else:\n",
    "#         percode = sys.argv[1]\n",
    "\n",
    "# except IndexError:\n",
    "#     percode = default_dc\n",
    "# except NameError:\n",
    "#     percode = default_dc\n"
   ]
  },
  {
   "cell_type": "markdown",
   "id": "3fce6ce2",
   "metadata": {
    "papermill": {
     "duration": 0.23551,
     "end_time": "2021-05-26T14:45:56.349309",
     "exception": false,
     "start_time": "2021-05-26T14:45:56.113799",
     "status": "completed"
    },
    "tags": []
   },
   "source": [
    "\n",
    "## Begin Input Read\n",
    "#### Make paths used in script\n",
    "### all paths should be modular and easily replaced ahead of operations"
   ]
  },
  {
   "cell_type": "code",
   "execution_count": 5,
   "id": "4fff4a34",
   "metadata": {
    "execution": {
     "iopub.execute_input": "2021-05-26T14:45:56.857060Z",
     "iopub.status.busy": "2021-05-26T14:45:56.852055Z",
     "iopub.status.idle": "2021-05-26T14:45:56.946056Z",
     "shell.execute_reply": "2021-05-26T14:45:56.942059Z"
    },
    "papermill": {
     "duration": 0.345701,
     "end_time": "2021-05-26T14:45:56.947055",
     "exception": false,
     "start_time": "2021-05-26T14:45:56.601354",
     "status": "completed"
    },
    "tags": []
   },
   "outputs": [
    {
     "data": {
      "text/html": [
       "'H:/Reporting/Data Collection/2021.Q1/Global Travel LOB Report/Travel_Global_Report.html'"
      ],
      "text/latex": [
       "'H:/Reporting/Data Collection/2021.Q1/Global Travel LOB Report/Travel\\_Global\\_Report.html'"
      ],
      "text/markdown": [
       "'H:/Reporting/Data Collection/2021.Q1/Global Travel LOB Report/Travel_Global_Report.html'"
      ],
      "text/plain": [
       "[1] \"H:/Reporting/Data Collection/2021.Q1/Global Travel LOB Report/Travel_Global_Report.html\""
      ]
     },
     "metadata": {},
     "output_type": "display_data"
    }
   ],
   "source": [
    "#root directory\n",
    "rt_networkpath <- '//hecate/Insurance_US/Product Development/Product Management/Global PPM/Reporting/Data Collection'\n",
    "\n",
    "# special for render\n",
    "rt_mappedpath <- 'H:/Reporting/Data Collection'\n",
    "\n",
    "#out_mappedpath <- paste(rt_mappedpath, percode,   'Global Travel LOB Report' , sep= '/')\n",
    "rmd_file <- 'Pipeline Reporting Scripts/Global Travel LOB Report/Travel_Global_Report.Rmd'\n",
    "\n",
    "rmd_path <- paste(rt_networkpath, rmd_file, sep =\"/\")\n",
    "#outfile <- paste('Travel_Global_Report_',gsub(\"\\\\.\",\"_\",percode),'.html', sep = '')\n",
    "\n",
    "rmdnetworkpath <- paste(rt_networkpath,rmd_file, sep =\"/\")\n",
    "\n",
    "html_path <- paste( rt_mappedpath , percode,   'Global Travel LOB Report', sep= '/')\n",
    "\n",
    "html_name <- 'Travel_Global_Report.html'\n",
    "\n",
    "html_full_name <- paste(html_path, html_name, sep = \"/\")\n",
    "\n",
    "html_full_name \n"
   ]
  },
  {
   "cell_type": "markdown",
   "id": "f946a1b3",
   "metadata": {
    "papermill": {
     "duration": 0.377164,
     "end_time": "2021-05-26T14:45:57.563851",
     "exception": false,
     "start_time": "2021-05-26T14:45:57.186687",
     "status": "completed"
    },
    "tags": []
   },
   "source": [
    "#### Execute Finance Comparison PnL.Rmd\n"
   ]
  },
  {
   "cell_type": "markdown",
   "id": "0bad42d5",
   "metadata": {
    "tags": [
     "papermill-error-cell-tag"
    ]
   },
   "source": [
    "<span id=\"papermill-error-cell\" style=\"color:red; font-family:Helvetica Neue, Helvetica, Arial, sans-serif; font-size:2em;\">Execution using papermill encountered an exception here and stopped:</span>"
   ]
  },
  {
   "cell_type": "code",
   "execution_count": 6,
   "id": "52ab312b",
   "metadata": {
    "execution": {
     "iopub.execute_input": "2021-05-26T14:45:58.100281Z",
     "iopub.status.busy": "2021-05-26T14:45:58.094280Z",
     "iopub.status.idle": "2021-05-26T14:51:20.803739Z",
     "shell.execute_reply": "2021-05-26T14:51:20.790740Z"
    },
    "papermill": {
     "duration": 323.00026,
     "end_time": "2021-05-26T14:51:20.804741",
     "exception": true,
     "start_time": "2021-05-26T14:45:57.804481",
     "status": "failed"
    },
    "tags": []
   },
   "outputs": [
    {
     "name": "stdout",
     "output_type": "stream",
     "text": [
      "[1] \"Knitting Travel Global Report\"\n"
     ]
    },
    {
     "name": "stderr",
     "output_type": "stream",
     "text": [
      "\n",
      "\n",
      "processing file: Travel_Global_Report.Rmd\n"
     ]
    },
    {
     "name": "stdout",
     "output_type": "stream",
     "text": [
      "\r",
      "  |                                                                            \r",
      "  |                                                                      |   0%"
     ]
    },
    {
     "name": "stdout",
     "output_type": "stream",
     "text": [
      "\r",
      "  |                                                                            \r",
      "  |.                                                                     |   1%"
     ]
    },
    {
     "name": "stdout",
     "output_type": "stream",
     "text": [
      "\n"
     ]
    },
    {
     "name": "stdout",
     "output_type": "stream",
     "text": [
      "  ordinary text without R code\n",
      "\n",
      "\r",
      "  |                                                                            \r",
      "  |.                                                                     |   2%"
     ]
    },
    {
     "name": "stdout",
     "output_type": "stream",
     "text": [
      "\n"
     ]
    },
    {
     "name": "stdout",
     "output_type": "stream",
     "text": [
      "label: setup (with options) \n",
      "List of 1\n",
      " $ include: logi FALSE\n",
      "\n"
     ]
    },
    {
     "name": "stderr",
     "output_type": "stream",
     "text": [
      "Warning message:\n",
      "\"package 'flexdashboard' was built under R version 3.6.3\""
     ]
    },
    {
     "name": "stderr",
     "output_type": "stream",
     "text": [
      "Warning message:\n",
      "\"package 'openxlsx' was built under R version 3.6.3\""
     ]
    },
    {
     "name": "stderr",
     "output_type": "stream",
     "text": [
      "Warning message:\n",
      "\"package 'data.table' was built under R version 3.6.3\""
     ]
    },
    {
     "name": "stderr",
     "output_type": "stream",
     "text": [
      "Warning message:\n",
      "\"package 'dplyr' was built under R version 3.6.3\""
     ]
    },
    {
     "name": "stderr",
     "output_type": "stream",
     "text": [
      "Registered S3 methods overwritten by 'tibble':\n",
      "  method     from  \n",
      "  format.tbl pillar\n",
      "  print.tbl  pillar\n"
     ]
    },
    {
     "name": "stderr",
     "output_type": "stream",
     "text": [
      "\n",
      "Attaching package: 'dplyr'\n",
      "\n"
     ]
    },
    {
     "name": "stderr",
     "output_type": "stream",
     "text": [
      "The following objects are masked from 'package:data.table':\n",
      "\n",
      "    between, first, last\n",
      "\n"
     ]
    },
    {
     "name": "stderr",
     "output_type": "stream",
     "text": [
      "The following objects are masked from 'package:stats':\n",
      "\n",
      "    filter, lag\n",
      "\n"
     ]
    },
    {
     "name": "stderr",
     "output_type": "stream",
     "text": [
      "The following objects are masked from 'package:base':\n",
      "\n",
      "    intersect, setdiff, setequal, union\n",
      "\n"
     ]
    },
    {
     "name": "stderr",
     "output_type": "stream",
     "text": [
      "Warning message:\n",
      "\"package 'magrittr' was built under R version 3.6.3\""
     ]
    },
    {
     "name": "stderr",
     "output_type": "stream",
     "text": [
      "Warning message:\n",
      "\"package 'knitr' was built under R version 3.6.3\""
     ]
    },
    {
     "name": "stderr",
     "output_type": "stream",
     "text": [
      "Warning message:\n",
      "\"package 'kableExtra' was built under R version 3.6.3\""
     ]
    },
    {
     "name": "stderr",
     "output_type": "stream",
     "text": [
      "\n",
      "Attaching package: 'kableExtra'\n",
      "\n"
     ]
    },
    {
     "name": "stderr",
     "output_type": "stream",
     "text": [
      "The following object is masked from 'package:dplyr':\n",
      "\n",
      "    group_rows\n",
      "\n"
     ]
    },
    {
     "name": "stderr",
     "output_type": "stream",
     "text": [
      "Warning message:\n",
      "\"package 'ggplot2' was built under R version 3.6.3\""
     ]
    },
    {
     "name": "stderr",
     "output_type": "stream",
     "text": [
      "Warning message:\n",
      "\"package 'patchwork' was built under R version 3.6.3\""
     ]
    },
    {
     "name": "stderr",
     "output_type": "stream",
     "text": [
      "Warning message:\n",
      "\"package 'DT' was built under R version 3.6.3\""
     ]
    },
    {
     "name": "stderr",
     "output_type": "stream",
     "text": [
      "Warning message:\n",
      "\"package 'scales' was built under R version 3.6.3\""
     ]
    },
    {
     "name": "stderr",
     "output_type": "stream",
     "text": [
      "Warning message:\n",
      "\"package 'stringr' was built under R version 3.6.3\""
     ]
    },
    {
     "name": "stderr",
     "output_type": "stream",
     "text": [
      "Warning message:\n",
      "\"package 'reticulate' was built under R version 3.6.3\""
     ]
    },
    {
     "name": "stdout",
     "output_type": "stream",
     "text": [
      "\r",
      "  |                                                                            \r",
      "  |..                                                                    |   3%"
     ]
    },
    {
     "name": "stdout",
     "output_type": "stream",
     "text": [
      "\n"
     ]
    },
    {
     "name": "stdout",
     "output_type": "stream",
     "text": [
      "  ordinary text without R code\n",
      "\n",
      "\r",
      "  |                                                                            \r",
      "  |...                                                                   |   4%"
     ]
    },
    {
     "name": "stdout",
     "output_type": "stream",
     "text": [
      "\n"
     ]
    },
    {
     "name": "stdout",
     "output_type": "stream",
     "text": [
      "label: py variable\n",
      "\r",
      "  |                                                                            \r",
      "  |...                                                                   |   5%"
     ]
    },
    {
     "name": "stdout",
     "output_type": "stream",
     "text": [
      "\n"
     ]
    },
    {
     "name": "stdout",
     "output_type": "stream",
     "text": [
      "  ordinary text without R code\n",
      "\n",
      "\r",
      "  |                                                                            \r",
      "  |....                                                                  |   6%"
     ]
    },
    {
     "name": "stdout",
     "output_type": "stream",
     "text": [
      "\n"
     ]
    },
    {
     "name": "stdout",
     "output_type": "stream",
     "text": [
      "label: pandas data read (with options) \n",
      "List of 1\n",
      " $ engine: chr \"python\"\n",
      "\n"
     ]
    },
    {
     "name": "stderr",
     "output_type": "stream",
     "text": [
      "Warning message:\n",
      "\"The internal function knitr:::wrap() has been deprecated. Please use the exported function knitr::sew() instead.\""
     ]
    },
    {
     "name": "stdout",
     "output_type": "stream",
     "text": [
      "\r",
      "  |                                                                            \r",
      "  |.....                                                                 |   7%"
     ]
    },
    {
     "name": "stdout",
     "output_type": "stream",
     "text": [
      "\n"
     ]
    },
    {
     "name": "stdout",
     "output_type": "stream",
     "text": [
      "  ordinary text without R code\n",
      "\n",
      "\r",
      "  |                                                                            \r",
      "  |.....                                                                 |   8%"
     ]
    },
    {
     "name": "stdout",
     "output_type": "stream",
     "text": [
      "\n"
     ]
    },
    {
     "name": "stdout",
     "output_type": "stream",
     "text": [
      "label: read in xlsx sources\n",
      "\r",
      "  |                                                                            \r",
      "  |......                                                                |   8%"
     ]
    },
    {
     "name": "stdout",
     "output_type": "stream",
     "text": [
      "\n"
     ]
    },
    {
     "name": "stdout",
     "output_type": "stream",
     "text": [
      "  ordinary text without R code\n",
      "\n",
      "\r",
      "  |                                                                            \r",
      "  |.......                                                               |   9%"
     ]
    },
    {
     "name": "stdout",
     "output_type": "stream",
     "text": [
      "\n"
     ]
    },
    {
     "name": "stdout",
     "output_type": "stream",
     "text": [
      "label: convert py object to r DT\n",
      "\r",
      "  |                                                                            \r",
      "  |.......                                                               |  10%"
     ]
    },
    {
     "name": "stdout",
     "output_type": "stream",
     "text": [
      "\n"
     ]
    },
    {
     "name": "stdout",
     "output_type": "stream",
     "text": [
      "  ordinary text without R code\n",
      "\n",
      "\r",
      "  |                                                                            \r",
      "  |........                                                              |  11%"
     ]
    },
    {
     "name": "stdout",
     "output_type": "stream",
     "text": [
      "\n"
     ]
    },
    {
     "name": "stdout",
     "output_type": "stream",
     "text": [
      "label: function replace NAs\n",
      "\r",
      "  |                                                                            \r",
      "  |.........                                                             |  12%"
     ]
    },
    {
     "name": "stdout",
     "output_type": "stream",
     "text": [
      "\n"
     ]
    },
    {
     "name": "stdout",
     "output_type": "stream",
     "text": [
      "  ordinary text without R code\n",
      "\n",
      "\r",
      "  |                                                                            \r",
      "  |.........                                                             |  13%"
     ]
    },
    {
     "name": "stdout",
     "output_type": "stream",
     "text": [
      "\n"
     ]
    },
    {
     "name": "stdout",
     "output_type": "stream",
     "text": [
      "label: function change headers\n",
      "\r",
      "  |                                                                            \r",
      "  |..........                                                            |  14%"
     ]
    },
    {
     "name": "stdout",
     "output_type": "stream",
     "text": [
      "\n"
     ]
    },
    {
     "name": "stdout",
     "output_type": "stream",
     "text": [
      "  ordinary text without R code\n",
      "\n",
      "\r",
      "  |                                                                            \r",
      "  |...........                                                           |  15%"
     ]
    },
    {
     "name": "stdout",
     "output_type": "stream",
     "text": [
      "\n"
     ]
    },
    {
     "name": "stdout",
     "output_type": "stream",
     "text": [
      "label: function create summary tables\n",
      "\r",
      "  |                                                                            \r",
      "  |...........                                                           |  16%"
     ]
    },
    {
     "name": "stdout",
     "output_type": "stream",
     "text": [
      "\n"
     ]
    },
    {
     "name": "stdout",
     "output_type": "stream",
     "text": [
      "  ordinary text without R code\n",
      "\n",
      "\r",
      "  |                                                                            \r",
      "  |............                                                          |  17%"
     ]
    },
    {
     "name": "stdout",
     "output_type": "stream",
     "text": [
      "\n"
     ]
    },
    {
     "name": "stdout",
     "output_type": "stream",
     "text": [
      "label: function data cleaning\n",
      "\r",
      "  |                                                                            \r",
      "  |.............                                                         |  18%"
     ]
    },
    {
     "name": "stdout",
     "output_type": "stream",
     "text": [
      "\n"
     ]
    },
    {
     "name": "stdout",
     "output_type": "stream",
     "text": [
      "  ordinary text without R code\n",
      "\n",
      "\r",
      "  |                                                                            \r",
      "  |.............                                                         |  19%"
     ]
    },
    {
     "name": "stdout",
     "output_type": "stream",
     "text": [
      "\n"
     ]
    },
    {
     "name": "stdout",
     "output_type": "stream",
     "text": [
      "label: function convertTable\n",
      "\r",
      "  |                                                                            \r",
      "  |..............                                                        |  20%"
     ]
    },
    {
     "name": "stdout",
     "output_type": "stream",
     "text": [
      "\n"
     ]
    },
    {
     "name": "stdout",
     "output_type": "stream",
     "text": [
      "  ordinary text without R code\n",
      "\n",
      "\r",
      "  |                                                                            \r",
      "  |...............                                                       |  21%"
     ]
    },
    {
     "name": "stdout",
     "output_type": "stream",
     "text": [
      "\n"
     ]
    },
    {
     "name": "stdout",
     "output_type": "stream",
     "text": [
      "label: function createDT\n",
      "\r",
      "  |                                                                            \r",
      "  |...............                                                       |  22%"
     ]
    },
    {
     "name": "stdout",
     "output_type": "stream",
     "text": [
      "\n"
     ]
    },
    {
     "name": "stdout",
     "output_type": "stream",
     "text": [
      "  ordinary text without R code\n",
      "\n",
      "\r",
      "  |                                                                            \r",
      "  |................                                                      |  23%"
     ]
    },
    {
     "name": "stdout",
     "output_type": "stream",
     "text": [
      "\n"
     ]
    },
    {
     "name": "stdout",
     "output_type": "stream",
     "text": [
      "label: function region subset\n",
      "\r",
      "  |                                                                            \r",
      "  |.................                                                     |  24%"
     ]
    },
    {
     "name": "stdout",
     "output_type": "stream",
     "text": [
      "\n"
     ]
    },
    {
     "name": "stdout",
     "output_type": "stream",
     "text": [
      "  ordinary text without R code\n",
      "\n",
      "\r",
      "  |                                                                            \r",
      "  |.................                                                     |  25%"
     ]
    },
    {
     "name": "stdout",
     "output_type": "stream",
     "text": [
      "\n"
     ]
    },
    {
     "name": "stdout",
     "output_type": "stream",
     "text": [
      "label: data_manipulation\n",
      "\r",
      "  |                                                                            \r",
      "  |..................                                                    |  25%"
     ]
    },
    {
     "name": "stdout",
     "output_type": "stream",
     "text": [
      "\n"
     ]
    },
    {
     "name": "stdout",
     "output_type": "stream",
     "text": [
      "  ordinary text without R code\n",
      "\n",
      "\r",
      "  |                                                                            \r",
      "  |..................                                                    |  26%"
     ]
    },
    {
     "name": "stdout",
     "output_type": "stream",
     "text": [
      "\n"
     ]
    },
    {
     "name": "stdout",
     "output_type": "stream",
     "text": [
      "label: aggdatasets\n",
      "\r",
      "  |                                                                            \r",
      "  |...................                                                   |  27%"
     ]
    },
    {
     "name": "stdout",
     "output_type": "stream",
     "text": [
      "\n"
     ]
    },
    {
     "name": "stdout",
     "output_type": "stream",
     "text": [
      "  ordinary text without R code\n",
      "\n",
      "\r",
      "  |                                                                            \r",
      "  |....................                                                  |  28%"
     ]
    },
    {
     "name": "stdout",
     "output_type": "stream",
     "text": [
      "\n"
     ]
    },
    {
     "name": "stdout",
     "output_type": "stream",
     "text": [
      "label: viz_function_kpi\n",
      "\r",
      "  |                                                                            \r",
      "  |....................                                                  |  29%"
     ]
    },
    {
     "name": "stdout",
     "output_type": "stream",
     "text": [
      "\n"
     ]
    },
    {
     "name": "stdout",
     "output_type": "stream",
     "text": [
      "  ordinary text without R code\n",
      "\n",
      "\r",
      "  |                                                                            \r",
      "  |.....................                                                 |  30%"
     ]
    },
    {
     "name": "stdout",
     "output_type": "stream",
     "text": [
      "\n"
     ]
    },
    {
     "name": "stdout",
     "output_type": "stream",
     "text": [
      "label: viz_function_prof\n",
      "\r",
      "  |                                                                            \r",
      "  |......................                                                |  31%"
     ]
    },
    {
     "name": "stdout",
     "output_type": "stream",
     "text": [
      "\n"
     ]
    },
    {
     "name": "stdout",
     "output_type": "stream",
     "text": [
      "  ordinary text without R code\n",
      "\n",
      "\r",
      "  |                                                                            \r",
      "  |......................                                                |  32%"
     ]
    },
    {
     "name": "stdout",
     "output_type": "stream",
     "text": [
      "\n"
     ]
    },
    {
     "name": "stdout",
     "output_type": "stream",
     "text": [
      "label: unnamed-chunk-1\n",
      "\r",
      "  |                                                                            \r",
      "  |.......................                                               |  33%"
     ]
    },
    {
     "name": "stdout",
     "output_type": "stream",
     "text": [
      "\n"
     ]
    },
    {
     "name": "stdout",
     "output_type": "stream",
     "text": [
      "  ordinary text without R code\n",
      "\n",
      "\r",
      "  |                                                                            \r",
      "  |........................                                              |  34%"
     ]
    },
    {
     "name": "stdout",
     "output_type": "stream",
     "text": [
      "\n"
     ]
    },
    {
     "name": "stdout",
     "output_type": "stream",
     "text": [
      "label: unnamed-chunk-2\n",
      "\r",
      "  |                                                                            \r",
      "  |........................                                              |  35%"
     ]
    },
    {
     "name": "stdout",
     "output_type": "stream",
     "text": [
      "\n"
     ]
    },
    {
     "name": "stdout",
     "output_type": "stream",
     "text": [
      "  ordinary text without R code\n",
      "\n",
      "\r",
      "  |                                                                            \r",
      "  |.........................                                             |  36%"
     ]
    },
    {
     "name": "stdout",
     "output_type": "stream",
     "text": [
      "\n"
     ]
    },
    {
     "name": "stdout",
     "output_type": "stream",
     "text": [
      "label: unnamed-chunk-3\n",
      "\r",
      "  |                                                                            \r",
      "  |..........................                                            |  37%"
     ]
    },
    {
     "name": "stdout",
     "output_type": "stream",
     "text": [
      "\n"
     ]
    },
    {
     "name": "stdout",
     "output_type": "stream",
     "text": [
      "  ordinary text without R code\n",
      "\n",
      "\r",
      "  |                                                                            \r",
      "  |..........................                                            |  38%"
     ]
    },
    {
     "name": "stdout",
     "output_type": "stream",
     "text": [
      "\n"
     ]
    },
    {
     "name": "stdout",
     "output_type": "stream",
     "text": [
      "label: unnamed-chunk-4\n",
      "\r",
      "  |                                                                            \r",
      "  |...........................                                           |  39%"
     ]
    },
    {
     "name": "stdout",
     "output_type": "stream",
     "text": [
      "\n"
     ]
    },
    {
     "name": "stdout",
     "output_type": "stream",
     "text": [
      "  ordinary text without R code\n",
      "\n",
      "\r",
      "  |                                                                            \r",
      "  |............................                                          |  40%"
     ]
    },
    {
     "name": "stdout",
     "output_type": "stream",
     "text": [
      "\n"
     ]
    },
    {
     "name": "stdout",
     "output_type": "stream",
     "text": [
      "label: unnamed-chunk-5\n",
      "\r",
      "  |                                                                            \r",
      "  |............................                                          |  41%"
     ]
    },
    {
     "name": "stdout",
     "output_type": "stream",
     "text": [
      "\n"
     ]
    },
    {
     "name": "stdout",
     "output_type": "stream",
     "text": [
      "  ordinary text without R code\n",
      "\n",
      "\r",
      "  |                                                                            \r",
      "  |.............................                                         |  42%"
     ]
    },
    {
     "name": "stdout",
     "output_type": "stream",
     "text": [
      "\n"
     ]
    },
    {
     "name": "stdout",
     "output_type": "stream",
     "text": [
      "label: unnamed-chunk-6\n",
      "\r",
      "  |                                                                            \r",
      "  |..............................                                        |  42%"
     ]
    },
    {
     "name": "stdout",
     "output_type": "stream",
     "text": [
      "\n"
     ]
    },
    {
     "name": "stdout",
     "output_type": "stream",
     "text": [
      "  ordinary text without R code\n",
      "\n",
      "\r",
      "  |                                                                            \r",
      "  |..............................                                        |  43%"
     ]
    },
    {
     "name": "stdout",
     "output_type": "stream",
     "text": [
      "\n"
     ]
    },
    {
     "name": "stdout",
     "output_type": "stream",
     "text": [
      "label: unnamed-chunk-7 (with options) \n",
      "List of 2\n",
      " $ fig.width : num 10\n",
      " $ fig.height: num 6\n",
      "\n"
     ]
    },
    {
     "name": "stdout",
     "output_type": "stream",
     "text": [
      "\r",
      "  |                                                                            \r",
      "  |...............................                                       |  44%"
     ]
    },
    {
     "name": "stdout",
     "output_type": "stream",
     "text": [
      "\n"
     ]
    },
    {
     "name": "stdout",
     "output_type": "stream",
     "text": [
      "  ordinary text without R code\n",
      "\n",
      "\r",
      "  |                                                                            \r",
      "  |................................                                      |  45%"
     ]
    },
    {
     "name": "stdout",
     "output_type": "stream",
     "text": [
      "\n"
     ]
    },
    {
     "name": "stdout",
     "output_type": "stream",
     "text": [
      "label: unnamed-chunk-8 (with options) \n",
      "List of 2\n",
      " $ fig.width : num 10\n",
      " $ fig.height: num 6\n",
      "\n"
     ]
    },
    {
     "name": "stdout",
     "output_type": "stream",
     "text": [
      "\r",
      "  |                                                                            \r",
      "  |................................                                      |  46%"
     ]
    },
    {
     "name": "stdout",
     "output_type": "stream",
     "text": [
      "\n"
     ]
    },
    {
     "name": "stdout",
     "output_type": "stream",
     "text": [
      "  ordinary text without R code\n",
      "\n",
      "\r",
      "  |                                                                            \r",
      "  |.................................                                     |  47%"
     ]
    },
    {
     "name": "stdout",
     "output_type": "stream",
     "text": [
      "\n"
     ]
    },
    {
     "name": "stdout",
     "output_type": "stream",
     "text": [
      "label: unnamed-chunk-9 (with options) \n",
      "List of 2\n",
      " $ fig.width : num 10\n",
      " $ fig.height: num 6\n",
      "\n"
     ]
    },
    {
     "name": "stdout",
     "output_type": "stream",
     "text": [
      "\r",
      "  |                                                                            \r",
      "  |..................................                                    |  48%"
     ]
    },
    {
     "name": "stdout",
     "output_type": "stream",
     "text": [
      "\n"
     ]
    },
    {
     "name": "stdout",
     "output_type": "stream",
     "text": [
      "  ordinary text without R code\n",
      "\n",
      "\r",
      "  |                                                                            \r",
      "  |..................................                                    |  49%"
     ]
    },
    {
     "name": "stdout",
     "output_type": "stream",
     "text": [
      "\n"
     ]
    },
    {
     "name": "stdout",
     "output_type": "stream",
     "text": [
      "label: unnamed-chunk-10 (with options) \n",
      "List of 2\n",
      " $ fig.width : num 10\n",
      " $ fig.height: num 6\n",
      "\n"
     ]
    },
    {
     "name": "stdout",
     "output_type": "stream",
     "text": [
      "\r",
      "  |                                                                            \r",
      "  |...................................                                   |  50%"
     ]
    },
    {
     "name": "stdout",
     "output_type": "stream",
     "text": [
      "\n"
     ]
    },
    {
     "name": "stdout",
     "output_type": "stream",
     "text": [
      "  ordinary text without R code\n",
      "\n",
      "\r",
      "  |                                                                            \r",
      "  |....................................                                  |  51%"
     ]
    },
    {
     "name": "stdout",
     "output_type": "stream",
     "text": [
      "\n"
     ]
    },
    {
     "name": "stdout",
     "output_type": "stream",
     "text": [
      "label: unnamed-chunk-11 (with options) \n",
      "List of 2\n",
      " $ fig.width : num 10\n",
      " $ fig.height: num 6\n",
      "\n"
     ]
    },
    {
     "name": "stdout",
     "output_type": "stream",
     "text": [
      "\r",
      "  |                                                                            \r",
      "  |....................................                                  |  52%"
     ]
    },
    {
     "name": "stdout",
     "output_type": "stream",
     "text": [
      "\n"
     ]
    },
    {
     "name": "stdout",
     "output_type": "stream",
     "text": [
      "  ordinary text without R code\n",
      "\n",
      "\r",
      "  |                                                                            \r",
      "  |.....................................                                 |  53%"
     ]
    },
    {
     "name": "stdout",
     "output_type": "stream",
     "text": [
      "\n"
     ]
    },
    {
     "name": "stdout",
     "output_type": "stream",
     "text": [
      "label: unnamed-chunk-12 (with options) \n",
      "List of 2\n",
      " $ fig.width : num 10\n",
      " $ fig.height: num 6\n",
      "\n"
     ]
    },
    {
     "name": "stdout",
     "output_type": "stream",
     "text": [
      "\r",
      "  |                                                                            \r",
      "  |......................................                                |  54%"
     ]
    },
    {
     "name": "stdout",
     "output_type": "stream",
     "text": [
      "\n"
     ]
    },
    {
     "name": "stdout",
     "output_type": "stream",
     "text": [
      "  ordinary text without R code\n",
      "\n",
      "\r",
      "  |                                                                            \r",
      "  |......................................                                |  55%"
     ]
    },
    {
     "name": "stdout",
     "output_type": "stream",
     "text": [
      "\n"
     ]
    },
    {
     "name": "stdout",
     "output_type": "stream",
     "text": [
      "label: unnamed-chunk-13 (with options) \n",
      "List of 2\n",
      " $ fig.width : num 10\n",
      " $ fig.height: num 6\n",
      "\n"
     ]
    },
    {
     "name": "stdout",
     "output_type": "stream",
     "text": [
      "\r",
      "  |                                                                            \r",
      "  |.......................................                               |  56%"
     ]
    },
    {
     "name": "stdout",
     "output_type": "stream",
     "text": [
      "\n"
     ]
    },
    {
     "name": "stdout",
     "output_type": "stream",
     "text": [
      "  ordinary text without R code\n",
      "\n",
      "\r",
      "  |                                                                            \r",
      "  |........................................                              |  57%"
     ]
    },
    {
     "name": "stdout",
     "output_type": "stream",
     "text": [
      "\n"
     ]
    },
    {
     "name": "stdout",
     "output_type": "stream",
     "text": [
      "label: unnamed-chunk-14 (with options) \n",
      "List of 2\n",
      " $ fig.width : num 10\n",
      " $ fig.height: num 6\n",
      "\n"
     ]
    },
    {
     "name": "stdout",
     "output_type": "stream",
     "text": [
      "\r",
      "  |                                                                            \r",
      "  |........................................                              |  58%"
     ]
    },
    {
     "name": "stdout",
     "output_type": "stream",
     "text": [
      "\n"
     ]
    },
    {
     "name": "stdout",
     "output_type": "stream",
     "text": [
      "  ordinary text without R code\n",
      "\n",
      "\r",
      "  |                                                                            \r",
      "  |.........................................                             |  58%"
     ]
    },
    {
     "name": "stdout",
     "output_type": "stream",
     "text": [
      "\n"
     ]
    },
    {
     "name": "stdout",
     "output_type": "stream",
     "text": [
      "label: fin_comp\n"
     ]
    },
    {
     "name": "stderr",
     "output_type": "stream",
     "text": [
      "Warning message in set(dt, which(is.na(dt[[j]])), j, replace):\n",
      "\"Coercing 'character' RHS to 'double' to match the type of the target column (column 10 named 'Comments').\""
     ]
    },
    {
     "name": "stdout",
     "output_type": "stream",
     "text": [
      "\r",
      "  |                                                                            \r",
      "  |..........................................                            |  59%"
     ]
    },
    {
     "name": "stdout",
     "output_type": "stream",
     "text": [
      "\n"
     ]
    },
    {
     "name": "stdout",
     "output_type": "stream",
     "text": [
      "  ordinary text without R code\n",
      "\n",
      "\r",
      "  |                                                                            \r",
      "  |..........................................                            |  60%"
     ]
    },
    {
     "name": "stdout",
     "output_type": "stream",
     "text": [
      "\n"
     ]
    },
    {
     "name": "stdout",
     "output_type": "stream",
     "text": [
      "label: comments_results\n"
     ]
    },
    {
     "name": "stderr",
     "output_type": "stream",
     "text": [
      "Warning message in set(dt, which(is.na(dt[[j]])), j, replace):\n",
      "\"Coercing 'character' RHS to 'double' to match the type of the target column (column 6 named 'Comments').\""
     ]
    },
    {
     "name": "stdout",
     "output_type": "stream",
     "text": [
      "\r",
      "  |                                                                            \r",
      "  |...........................................                           |  61%"
     ]
    },
    {
     "name": "stdout",
     "output_type": "stream",
     "text": [
      "\n"
     ]
    },
    {
     "name": "stdout",
     "output_type": "stream",
     "text": [
      "  ordinary text without R code\n",
      "\n",
      "\r",
      "  |                                                                            \r",
      "  |............................................                          |  62%"
     ]
    },
    {
     "name": "stdout",
     "output_type": "stream",
     "text": [
      "\n"
     ]
    },
    {
     "name": "stdout",
     "output_type": "stream",
     "text": [
      "label: def\n",
      "\r",
      "  |                                                                            \r",
      "  |............................................                          |  63%"
     ]
    },
    {
     "name": "stdout",
     "output_type": "stream",
     "text": [
      "\n"
     ]
    },
    {
     "name": "stdout",
     "output_type": "stream",
     "text": [
      "  ordinary text without R code\n",
      "\n",
      "\r",
      "  |                                                                            \r",
      "  |.............................................                         |  64%"
     ]
    },
    {
     "name": "stdout",
     "output_type": "stream",
     "text": [
      "\n"
     ]
    },
    {
     "name": "stdout",
     "output_type": "stream",
     "text": [
      "label: unnamed-chunk-15\n",
      "\r",
      "  |                                                                            \r",
      "  |..............................................                        |  65%"
     ]
    },
    {
     "name": "stdout",
     "output_type": "stream",
     "text": [
      "\n"
     ]
    },
    {
     "name": "stdout",
     "output_type": "stream",
     "text": [
      "  ordinary text without R code\n",
      "\n",
      "\r",
      "  |                                                                            \r",
      "  |..............................................                        |  66%"
     ]
    },
    {
     "name": "stdout",
     "output_type": "stream",
     "text": [
      "\n"
     ]
    },
    {
     "name": "stdout",
     "output_type": "stream",
     "text": [
      "label: unnamed-chunk-16\n",
      "\r",
      "  |                                                                            \r",
      "  |...............................................                       |  67%"
     ]
    },
    {
     "name": "stdout",
     "output_type": "stream",
     "text": [
      "\n"
     ]
    },
    {
     "name": "stdout",
     "output_type": "stream",
     "text": [
      "  ordinary text without R code\n",
      "\n",
      "\r",
      "  |                                                                            \r",
      "  |................................................                      |  68%"
     ]
    },
    {
     "name": "stdout",
     "output_type": "stream",
     "text": [
      "\n"
     ]
    },
    {
     "name": "stdout",
     "output_type": "stream",
     "text": [
      "label: unnamed-chunk-17 (with options) \n",
      "List of 1\n",
      " $ include: logi FALSE\n",
      "\n",
      "\r",
      "  |                                                                            \r",
      "  |................................................                      |  69%"
     ]
    },
    {
     "name": "stdout",
     "output_type": "stream",
     "text": [
      "\n"
     ]
    },
    {
     "name": "stdout",
     "output_type": "stream",
     "text": [
      "  ordinary text without R code\n",
      "\n",
      "\r",
      "  |                                                                            \r",
      "  |.................................................                     |  70%"
     ]
    },
    {
     "name": "stdout",
     "output_type": "stream",
     "text": [
      "\n"
     ]
    },
    {
     "name": "stdout",
     "output_type": "stream",
     "text": [
      "label: unnamed-chunk-18 (with options) \n",
      "List of 1\n",
      " $ results: chr \"asis\"\n",
      "\n",
      "\r",
      "  |                                                                            \r",
      "  |..................................................                    |  71%"
     ]
    },
    {
     "name": "stdout",
     "output_type": "stream",
     "text": [
      "\n"
     ]
    },
    {
     "name": "stdout",
     "output_type": "stream",
     "text": [
      "  ordinary text without R code\n",
      "\n",
      "\r",
      "  |                                                                            \r",
      "  |..................................................                    |  72%"
     ]
    },
    {
     "name": "stdout",
     "output_type": "stream",
     "text": [
      "\n"
     ]
    },
    {
     "name": "stdout",
     "output_type": "stream",
     "text": [
      "label: unnamed-chunk-19\n",
      "\r",
      "  |                                                                            \r",
      "  |...................................................                   |  73%"
     ]
    },
    {
     "name": "stdout",
     "output_type": "stream",
     "text": [
      "\n"
     ]
    },
    {
     "name": "stdout",
     "output_type": "stream",
     "text": [
      "  ordinary text without R code\n",
      "\n",
      "\r",
      "  |                                                                            \r",
      "  |....................................................                  |  74%"
     ]
    },
    {
     "name": "stdout",
     "output_type": "stream",
     "text": [
      "\n"
     ]
    },
    {
     "name": "stdout",
     "output_type": "stream",
     "text": [
      "label: unnamed-chunk-20 (with options) \n",
      "List of 1\n",
      " $ include: logi FALSE\n",
      "\n",
      "\r",
      "  |                                                                            \r",
      "  |....................................................                  |  75%"
     ]
    },
    {
     "name": "stdout",
     "output_type": "stream",
     "text": [
      "\n"
     ]
    },
    {
     "name": "stdout",
     "output_type": "stream",
     "text": [
      "  ordinary text without R code\n",
      "\n",
      "\r",
      "  |                                                                            \r",
      "  |.....................................................                 |  75%"
     ]
    },
    {
     "name": "stdout",
     "output_type": "stream",
     "text": [
      "\n"
     ]
    },
    {
     "name": "stdout",
     "output_type": "stream",
     "text": [
      "label: unnamed-chunk-21 (with options) \n",
      "List of 1\n",
      " $ results: chr \"asis\"\n",
      "\n",
      "\r",
      "  |                                                                            \r",
      "  |.....................................................                 |  76%"
     ]
    },
    {
     "name": "stdout",
     "output_type": "stream",
     "text": [
      "\n"
     ]
    },
    {
     "name": "stdout",
     "output_type": "stream",
     "text": [
      "  ordinary text without R code\n",
      "\n",
      "\r",
      "  |                                                                            \r",
      "  |......................................................                |  77%"
     ]
    },
    {
     "name": "stdout",
     "output_type": "stream",
     "text": [
      "\n"
     ]
    },
    {
     "name": "stdout",
     "output_type": "stream",
     "text": [
      "label: unnamed-chunk-22\n",
      "\r",
      "  |                                                                            \r",
      "  |.......................................................               |  78%"
     ]
    },
    {
     "name": "stdout",
     "output_type": "stream",
     "text": [
      "\n"
     ]
    },
    {
     "name": "stdout",
     "output_type": "stream",
     "text": [
      "  ordinary text without R code\n",
      "\n",
      "\r",
      "  |                                                                            \r",
      "  |.......................................................               |  79%"
     ]
    },
    {
     "name": "stdout",
     "output_type": "stream",
     "text": [
      "\n"
     ]
    },
    {
     "name": "stdout",
     "output_type": "stream",
     "text": [
      "label: unnamed-chunk-23 (with options) \n",
      "List of 1\n",
      " $ include: logi FALSE\n",
      "\n",
      "\r",
      "  |                                                                            \r",
      "  |........................................................              |  80%"
     ]
    },
    {
     "name": "stdout",
     "output_type": "stream",
     "text": [
      "\n"
     ]
    },
    {
     "name": "stdout",
     "output_type": "stream",
     "text": [
      "  ordinary text without R code\n",
      "\n",
      "\r",
      "  |                                                                            \r",
      "  |.........................................................             |  81%"
     ]
    },
    {
     "name": "stdout",
     "output_type": "stream",
     "text": [
      "\n"
     ]
    },
    {
     "name": "stdout",
     "output_type": "stream",
     "text": [
      "label: unnamed-chunk-24 (with options) \n",
      "List of 1\n",
      " $ results: chr \"asis\"\n",
      "\n",
      "\r",
      "  |                                                                            \r",
      "  |.........................................................             |  82%"
     ]
    },
    {
     "name": "stdout",
     "output_type": "stream",
     "text": [
      "\n"
     ]
    },
    {
     "name": "stdout",
     "output_type": "stream",
     "text": [
      "  ordinary text without R code\n",
      "\n",
      "\r",
      "  |                                                                            \r",
      "  |..........................................................            |  83%"
     ]
    },
    {
     "name": "stdout",
     "output_type": "stream",
     "text": [
      "\n"
     ]
    },
    {
     "name": "stdout",
     "output_type": "stream",
     "text": [
      "label: unnamed-chunk-25\n",
      "\r",
      "  |                                                                            \r",
      "  |...........................................................           |  84%"
     ]
    },
    {
     "name": "stdout",
     "output_type": "stream",
     "text": [
      "\n"
     ]
    },
    {
     "name": "stdout",
     "output_type": "stream",
     "text": [
      "  ordinary text without R code\n",
      "\n",
      "\r",
      "  |                                                                            \r",
      "  |...........................................................           |  85%"
     ]
    },
    {
     "name": "stdout",
     "output_type": "stream",
     "text": [
      "\n"
     ]
    },
    {
     "name": "stdout",
     "output_type": "stream",
     "text": [
      "label: unnamed-chunk-26 (with options) \n",
      "List of 1\n",
      " $ include: logi FALSE\n",
      "\n",
      "\r",
      "  |                                                                            \r",
      "  |............................................................          |  86%"
     ]
    },
    {
     "name": "stdout",
     "output_type": "stream",
     "text": [
      "\n"
     ]
    },
    {
     "name": "stdout",
     "output_type": "stream",
     "text": [
      "  ordinary text without R code\n",
      "\n",
      "\r",
      "  |                                                                            \r",
      "  |.............................................................         |  87%"
     ]
    },
    {
     "name": "stdout",
     "output_type": "stream",
     "text": [
      "\n"
     ]
    },
    {
     "name": "stdout",
     "output_type": "stream",
     "text": [
      "label: unnamed-chunk-27 (with options) \n",
      "List of 1\n",
      " $ results: chr \"asis\"\n",
      "\n",
      "\r",
      "  |                                                                            \r",
      "  |.............................................................         |  88%"
     ]
    },
    {
     "name": "stdout",
     "output_type": "stream",
     "text": [
      "\n"
     ]
    },
    {
     "name": "stdout",
     "output_type": "stream",
     "text": [
      "  ordinary text without R code\n",
      "\n",
      "\r",
      "  |                                                                            \r",
      "  |..............................................................        |  89%"
     ]
    },
    {
     "name": "stdout",
     "output_type": "stream",
     "text": [
      "\n"
     ]
    },
    {
     "name": "stdout",
     "output_type": "stream",
     "text": [
      "label: unnamed-chunk-28\n",
      "\r",
      "  |                                                                            \r",
      "  |...............................................................       |  90%"
     ]
    },
    {
     "name": "stdout",
     "output_type": "stream",
     "text": [
      "\n"
     ]
    },
    {
     "name": "stdout",
     "output_type": "stream",
     "text": [
      "  ordinary text without R code\n",
      "\n",
      "\r",
      "  |                                                                            \r",
      "  |...............................................................       |  91%"
     ]
    },
    {
     "name": "stdout",
     "output_type": "stream",
     "text": [
      "\n"
     ]
    },
    {
     "name": "stdout",
     "output_type": "stream",
     "text": [
      "label: unnamed-chunk-29\n",
      "\r",
      "  |                                                                            \r",
      "  |................................................................      |  92%"
     ]
    },
    {
     "name": "stdout",
     "output_type": "stream",
     "text": [
      "\n"
     ]
    },
    {
     "name": "stdout",
     "output_type": "stream",
     "text": [
      "  ordinary text without R code\n",
      "\n",
      "\r",
      "  |                                                                            \r",
      "  |.................................................................     |  92%"
     ]
    },
    {
     "name": "stdout",
     "output_type": "stream",
     "text": [
      "\n"
     ]
    },
    {
     "name": "stdout",
     "output_type": "stream",
     "text": [
      "label: unnamed-chunk-30\n",
      "\r",
      "  |                                                                            \r",
      "  |.................................................................     |  93%"
     ]
    },
    {
     "name": "stdout",
     "output_type": "stream",
     "text": [
      "\n"
     ]
    },
    {
     "name": "stdout",
     "output_type": "stream",
     "text": [
      "  ordinary text without R code\n",
      "\n",
      "\r",
      "  |                                                                            \r",
      "  |..................................................................    |  94%"
     ]
    },
    {
     "name": "stdout",
     "output_type": "stream",
     "text": [
      "\n"
     ]
    },
    {
     "name": "stdout",
     "output_type": "stream",
     "text": [
      "label: unnamed-chunk-31\n",
      "\r",
      "  |                                                                            \r",
      "  |...................................................................   |  95%"
     ]
    },
    {
     "name": "stdout",
     "output_type": "stream",
     "text": [
      "\n"
     ]
    },
    {
     "name": "stdout",
     "output_type": "stream",
     "text": [
      "  ordinary text without R code\n",
      "\n",
      "\r",
      "  |                                                                            \r",
      "  |...................................................................   |  96%"
     ]
    },
    {
     "name": "stdout",
     "output_type": "stream",
     "text": [
      "\n"
     ]
    },
    {
     "name": "stdout",
     "output_type": "stream",
     "text": [
      "label: unnamed-chunk-32\n",
      "\r",
      "  |                                                                            \r",
      "  |....................................................................  |  97%"
     ]
    },
    {
     "name": "stdout",
     "output_type": "stream",
     "text": [
      "\n"
     ]
    },
    {
     "name": "stdout",
     "output_type": "stream",
     "text": [
      "  ordinary text without R code\n",
      "\n",
      "\r",
      "  |                                                                            \r",
      "  |..................................................................... |  98%"
     ]
    },
    {
     "name": "stdout",
     "output_type": "stream",
     "text": [
      "\n"
     ]
    },
    {
     "name": "stdout",
     "output_type": "stream",
     "text": [
      "label: unnamed-chunk-33\n",
      "\r",
      "  |                                                                            \r",
      "  |..................................................................... |  99%"
     ]
    },
    {
     "name": "stdout",
     "output_type": "stream",
     "text": [
      "\n"
     ]
    },
    {
     "name": "stdout",
     "output_type": "stream",
     "text": [
      "  ordinary text without R code\n",
      "\n",
      "\r",
      "  |                                                                            \r",
      "  |......................................................................| 100%"
     ]
    },
    {
     "name": "stdout",
     "output_type": "stream",
     "text": [
      "\n"
     ]
    },
    {
     "name": "stdout",
     "output_type": "stream",
     "text": [
      "label: unnamed-chunk-34\n",
      "\n"
     ]
    },
    {
     "name": "stderr",
     "output_type": "stream",
     "text": [
      "output file: Travel_Global_Report.knit.md\n",
      "\n"
     ]
    },
    {
     "name": "stdout",
     "output_type": "stream",
     "text": [
      "\"C:/Users/gharmo/ANACON~2/Scripts/pandoc\" +RTS -K512m -RTS Travel_Global_Report.knit.md --to html4 --from markdown+autolink_bare_uris+tex_math_single_backslash --output pandoc3cf83b5d5a82.html --lua-filter \"C:\\Users\\gharmo\\Documents\\R\\win-library\\3.6\\rmarkdown\\rmarkdown\\lua\\pagebreak.lua\" --lua-filter \"C:\\Users\\gharmo\\Documents\\R\\win-library\\3.6\\rmarkdown\\rmarkdown\\lua\\latex-div.lua\" --self-contained --variable bs3=TRUE --standalone --section-divs --template \"C:\\Users\\gharmo\\Documents\\R\\win-library\\3.6\\flexdashboard\\rmarkdown\\templates\\flex_dashboard\\resources\\default.html\" --variable theme=cosmo --include-in-header \"C:\\Users\\gharmo\\AppData\\Local\\Temp\\RtmpsfMFx5\\rmarkdown-str3cf86604177b.html\" --mathjax --variable \"mathjax-url:https://mathjax.rstudio.com/latest/MathJax.js?config=TeX-AMS-MML_HTMLorMML\" --variable logo=AzPTravel_White_XSm.png --include-in-header \"C:\\Users\\gharmo\\AppData\\Local\\Temp\\RtmpsfMFx5\\file3cf8d1a516chtml\" --include-before-body \"C:\\Users\\gharmo\\AppData\\Local\\Temp\\RtmpsfMFx5\\file3cf83d1928b2.html\" --highlight-style pygments --include-before-body \"C:\\Users\\gharmo\\AppData\\Local\\Temp\\RtmpsfMFx5\\file3cf85a0e1793.html\" --include-after-body footer.html --include-after-body \"C:\\Users\\gharmo\\AppData\\Local\\Temp\\RtmpsfMFx5\\file3cf85fd25d9f.html\" --css styles.css \n"
     ]
    },
    {
     "ename": "ERROR",
     "evalue": "Error: pandoc document conversion failed with error 1\n",
     "output_type": "error",
     "traceback": [
      "Error: pandoc document conversion failed with error 1\nTraceback:\n",
      "1. rmarkdown::render(rmdnetworkpath, output_file = html_name, output_dir = html_path, \n .     params = list(region = \"all\", period = percode))",
      "2. convert(output_file, run_citeproc)",
      "3. pandoc_convert(input_files, pandoc_to, output_format$pandoc$from, \n .     pandoc_output_tmp, citeproc, pandoc_args, !quiet)",
      "4. stop(\"pandoc document conversion failed with error \", result, \n .     call. = FALSE)"
     ]
    }
   ],
   "source": [
    "print(\"Knitting Travel Global Report\")   \n",
    "\n",
    "rmarkdown::render(rmdnetworkpath, output_file = html_name ,  output_dir = html_path ,   params = list(region = 'all', period = percode ) )\n"
   ]
  },
  {
   "cell_type": "markdown",
   "id": "00162eb7",
   "metadata": {
    "papermill": {
     "duration": null,
     "end_time": null,
     "exception": null,
     "start_time": null,
     "status": "pending"
    },
    "tags": []
   },
   "source": [
    "#### Open the file that was knit"
   ]
  },
  {
   "cell_type": "code",
   "execution_count": null,
   "id": "cbe1e090",
   "metadata": {
    "papermill": {
     "duration": null,
     "end_time": null,
     "exception": null,
     "start_time": null,
     "status": "pending"
    },
    "tags": []
   },
   "outputs": [],
   "source": [
    "openHTML <- function(x) browseURL(paste0('file://', x))\n",
    "\n",
    "openHTML(html_full_name)"
   ]
  },
  {
   "cell_type": "code",
   "execution_count": null,
   "id": "5690662b",
   "metadata": {
    "papermill": {
     "duration": null,
     "end_time": null,
     "exception": null,
     "start_time": null,
     "status": "pending"
    },
    "tags": []
   },
   "outputs": [],
   "source": []
  }
 ],
 "metadata": {
  "celltoolbar": "Tags",
  "kernelspec": {
   "display_name": "R",
   "language": "R",
   "name": "ir"
  },
  "language_info": {
   "codemirror_mode": "r",
   "file_extension": ".r",
   "mimetype": "text/x-r-source",
   "name": "R",
   "pygments_lexer": "r",
   "version": "3.6.1"
  },
  "papermill": {
   "default_parameters": {},
   "duration": 342.499699,
   "end_time": "2021-05-26T14:51:27.724843",
   "environment_variables": {},
   "exception": true,
   "input_path": "reporting/knit Travel_Global_Report.ipynb",
   "output_path": "//hecate/Insurance_US/Product Development/Product Management/Global PPM/Reporting/Data Collection/Pipeline Reporting Scripts/GPMpipeline/instances/2021.Q1\\reporting\\knit Travel_Global_Report05262021102758--Aus Problem.ipynb",
   "parameters": {
    "commit_message": "New AUS needed to be converted from json",
    "inst_datetime": "05262021102758",
    "percode": "2021.Q1",
    "run_control": 1
   },
   "start_time": "2021-05-26T14:45:45.225144",
   "version": "2.3.3"
  }
 },
 "nbformat": 4,
 "nbformat_minor": 5
}