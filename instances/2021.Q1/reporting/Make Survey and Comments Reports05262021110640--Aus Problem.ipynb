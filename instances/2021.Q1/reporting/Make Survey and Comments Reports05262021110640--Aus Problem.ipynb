{
 "cells": [
  {
   "cell_type": "markdown",
   "id": "2b106ce8",
   "metadata": {
    "papermill": {
     "duration": 0.266044,
     "end_time": "2021-05-26T15:14:53.526108",
     "exception": false,
     "start_time": "2021-05-26T15:14:53.260064",
     "status": "completed"
    },
    "tags": []
   },
   "source": [
    "<img src=\"../images/AzPTravel_PPM.png\">"
   ]
  },
  {
   "cell_type": "markdown",
   "id": "46209e46",
   "metadata": {
    "papermill": {
     "duration": 0.240284,
     "end_time": "2021-05-26T15:14:53.997804",
     "exception": false,
     "start_time": "2021-05-26T15:14:53.757520",
     "status": "completed"
    },
    "tags": []
   },
   "source": [
    "## Validation Report Creation Script\n",
    "\n",
    "#### This script reads the output of the \"us_vdf*\" and \"us_vcomments*\" data files and summarizes  them into a report: Validations Review _{BU}.xlsx\n",
    "\n",
    "#### When finished, it will be able to be run on its own or as part of the pipeline wherever called (ie from a papermill script or other user inteface).\n"
   ]
  },
  {
   "cell_type": "markdown",
   "id": "46f13665",
   "metadata": {
    "papermill": {
     "duration": 0.247521,
     "end_time": "2021-05-26T15:14:54.487320",
     "exception": false,
     "start_time": "2021-05-26T15:14:54.239799",
     "status": "completed"
    },
    "tags": []
   },
   "source": [
    "### User Variables\n",
    "- These are overwritten if inherited from run_control.ipynb.\n",
    "- Feel Free to reset them for a manual run if you like\n",
    "- Do not save without percode = \"-f\""
   ]
  },
  {
   "cell_type": "code",
   "execution_count": 1,
   "id": "613ce906",
   "metadata": {
    "execution": {
     "iopub.execute_input": "2021-05-26T15:14:55.020635Z",
     "iopub.status.busy": "2021-05-26T15:14:55.018635Z",
     "iopub.status.idle": "2021-05-26T15:14:55.033639Z",
     "shell.execute_reply": "2021-05-26T15:14:55.058641Z"
    },
    "papermill": {
     "duration": 0.317083,
     "end_time": "2021-05-26T15:14:55.059638",
     "exception": false,
     "start_time": "2021-05-26T15:14:54.742555",
     "status": "completed"
    },
    "tags": [
     "parameters"
    ]
   },
   "outputs": [],
   "source": [
    "commit_message = \"Development and testing.\"\n",
    "# Give a brief reason for the run.\n",
    "\n",
    "run_control = 1\n",
    "#run_type = 0 - Lite run with no reporting, not recommended.\n",
    "#run_type = 1 - Lite run with normal reporting, default setting.\n",
    "#run_type = 2 - Heavy run with full reporting, available for audits and troubleshooting.\n",
    "#run_type = 5 - A default setting. Indicates the script is being run by an outside process without an inherited value\n",
    "\n",
    "percode = \"2021.Q1\"\n",
    "# Data Collection Code, this controls file paths and output names\n",
    "# \"-f\" is the value indicating a bad inheritance from run with arg\n",
    "\n",
    "s_format = \"p\"\n",
    "# denotes the source data format x == Excel; j == json, p == parquet\n",
    "\n",
    "#----------\n",
    "# do not edit - this either inherits the full instance timestamp from the papermill book or captures the run time of this script.\n",
    "from datetime import datetime  # datetime options\n",
    "inst_datetime = datetime.now().strftime(\"%m%d%Y%H%M%S\")"
   ]
  },
  {
   "cell_type": "code",
   "execution_count": 2,
   "id": "684cacfc",
   "metadata": {
    "execution": {
     "iopub.execute_input": "2021-05-26T15:14:55.655626Z",
     "iopub.status.busy": "2021-05-26T15:14:55.654627Z",
     "iopub.status.idle": "2021-05-26T15:14:55.658629Z",
     "shell.execute_reply": "2021-05-26T15:14:55.660625Z"
    },
    "papermill": {
     "duration": 0.285518,
     "end_time": "2021-05-26T15:14:55.660625",
     "exception": false,
     "start_time": "2021-05-26T15:14:55.375107",
     "status": "completed"
    },
    "tags": [
     "injected-parameters"
    ]
   },
   "outputs": [],
   "source": [
    "# Parameters\n",
    "run_control = 1\n",
    "percode = \"2021.Q1\"\n",
    "commit_message = \"New AUS needed to be converted from json\"\n",
    "inst_datetime = \"05262021110640\"\n"
   ]
  },
  {
   "cell_type": "markdown",
   "id": "e62c6792",
   "metadata": {
    "papermill": {
     "duration": 0.252998,
     "end_time": "2021-05-26T15:14:56.141484",
     "exception": false,
     "start_time": "2021-05-26T15:14:55.888486",
     "status": "completed"
    },
    "tags": []
   },
   "source": [
    "#### Notebook display options"
   ]
  },
  {
   "cell_type": "code",
   "execution_count": 3,
   "id": "b31aae35",
   "metadata": {
    "execution": {
     "iopub.execute_input": "2021-05-26T15:14:56.684879Z",
     "iopub.status.busy": "2021-05-26T15:14:56.684354Z",
     "iopub.status.idle": "2021-05-26T15:14:56.687963Z",
     "shell.execute_reply": "2021-05-26T15:14:56.688959Z"
    },
    "papermill": {
     "duration": 0.274476,
     "end_time": "2021-05-26T15:14:56.689959",
     "exception": false,
     "start_time": "2021-05-26T15:14:56.415483",
     "status": "completed"
    },
    "tags": []
   },
   "outputs": [],
   "source": [
    "from IPython.core.interactiveshell import InteractiveShell\n",
    "InteractiveShell.ast_node_interactivity = \"all\""
   ]
  },
  {
   "cell_type": "markdown",
   "id": "4407b6c2",
   "metadata": {
    "papermill": {
     "duration": 0.27612,
     "end_time": "2021-05-26T15:14:57.224595",
     "exception": false,
     "start_time": "2021-05-26T15:14:56.948475",
     "status": "completed"
    },
    "tags": []
   },
   "source": [
    "#### import packages"
   ]
  },
  {
   "cell_type": "code",
   "execution_count": 4,
   "id": "0a436a44",
   "metadata": {
    "execution": {
     "iopub.execute_input": "2021-05-26T15:14:58.460977Z",
     "iopub.status.busy": "2021-05-26T15:14:58.459877Z",
     "iopub.status.idle": "2021-05-26T15:15:12.865592Z",
     "shell.execute_reply": "2021-05-26T15:15:12.867593Z"
    },
    "papermill": {
     "duration": 15.219584,
     "end_time": "2021-05-26T15:15:12.867593",
     "exception": false,
     "start_time": "2021-05-26T15:14:57.648009",
     "status": "completed"
    },
    "tags": []
   },
   "outputs": [],
   "source": [
    "#### Packages used\n",
    "\n",
    "import os # System commands\n",
    "import sys # System commands\n",
    "\n",
    "import warnings # custom warnigns options\n",
    "\n",
    "import glob # Directory operations\n",
    "import getpass # Work with parquet\n",
    "import json # Work with json\n",
    "\n",
    "import matplotlib.pyplot as plt #Plots and Graphs\n",
    "import numpy as np # Series and math\n",
    "import pandas as pd #DataFrame and math\n",
    "\n",
    "#excel operations\n",
    "import re\n",
    "import nicexcel as nl # Excel operations\n",
    "import xlsxwriter # Excel operations\n",
    "import openpyxl # Excel operations\n"
   ]
  },
  {
   "cell_type": "markdown",
   "id": "ea8ba013",
   "metadata": {
    "papermill": {
     "duration": 0.273622,
     "end_time": "2021-05-26T15:15:13.452879",
     "exception": false,
     "start_time": "2021-05-26T15:15:13.179257",
     "status": "completed"
    },
    "tags": []
   },
   "source": [
    "#### Default Variables, these govern logic, do not edit."
   ]
  },
  {
   "cell_type": "code",
   "execution_count": 5,
   "id": "c38f6ca5",
   "metadata": {
    "execution": {
     "iopub.execute_input": "2021-05-26T15:15:14.052014Z",
     "iopub.status.busy": "2021-05-26T15:15:14.050018Z",
     "iopub.status.idle": "2021-05-26T15:15:14.057018Z",
     "shell.execute_reply": "2021-05-26T15:15:14.058028Z"
    },
    "papermill": {
     "duration": 0.319137,
     "end_time": "2021-05-26T15:15:14.059016",
     "exception": false,
     "start_time": "2021-05-26T15:15:13.739879",
     "status": "completed"
    },
    "tags": []
   },
   "outputs": [],
   "source": [
    "default_dc = \"20XX.QX\"\n",
    "default_rc = 0 #extra lite mode\n",
    "dummy_perc = \"33Q3\" # bad inheritance"
   ]
  },
  {
   "cell_type": "markdown",
   "id": "f6cbc4a1",
   "metadata": {
    "papermill": {
     "duration": 0.389178,
     "end_time": "2021-05-26T15:15:14.691823",
     "exception": false,
     "start_time": "2021-05-26T15:15:14.302645",
     "status": "completed"
    },
    "tags": []
   },
   "source": [
    "#### Script determining run context ie, manual, run_control.ipynb, or other."
   ]
  },
  {
   "cell_type": "code",
   "execution_count": 6,
   "id": "a593d3c3",
   "metadata": {
    "execution": {
     "iopub.execute_input": "2021-05-26T15:15:15.566208Z",
     "iopub.status.busy": "2021-05-26T15:15:15.565209Z",
     "iopub.status.idle": "2021-05-26T15:15:15.570213Z",
     "shell.execute_reply": "2021-05-26T15:15:15.571211Z"
    },
    "papermill": {
     "duration": 0.382347,
     "end_time": "2021-05-26T15:15:15.572213",
     "exception": false,
     "start_time": "2021-05-26T15:15:15.189866",
     "status": "completed"
    },
    "tags": []
   },
   "outputs": [],
   "source": [
    "if run_control == 5:\n",
    "    run_control = default_rc \n",
    "else:\n",
    "    run_control = run_control\n",
    "\n",
    "try:\n",
    "    if sys.argv[1] == \"-f\":\n",
    "        percode = percode\n",
    "    else:\n",
    "        percode = sys.argv[1]\n",
    "\n",
    "except IndexError:\n",
    "    percode = default_dc\n",
    "except NameError:\n",
    "    percode = default_dc\n"
   ]
  },
  {
   "cell_type": "markdown",
   "id": "f7e6c393",
   "metadata": {
    "papermill": {
     "duration": 0.312153,
     "end_time": "2021-05-26T15:15:16.191492",
     "exception": false,
     "start_time": "2021-05-26T15:15:15.879339",
     "status": "completed"
    },
    "tags": []
   },
   "source": [
    "#### style settings"
   ]
  },
  {
   "cell_type": "code",
   "execution_count": 7,
   "id": "0c1c3998",
   "metadata": {
    "execution": {
     "iopub.execute_input": "2021-05-26T15:15:16.872035Z",
     "iopub.status.busy": "2021-05-26T15:15:16.870034Z",
     "iopub.status.idle": "2021-05-26T15:15:16.878038Z",
     "shell.execute_reply": "2021-05-26T15:15:16.879035Z"
    },
    "papermill": {
     "duration": 0.388895,
     "end_time": "2021-05-26T15:15:16.880037",
     "exception": false,
     "start_time": "2021-05-26T15:15:16.491142",
     "status": "completed"
    },
    "tags": []
   },
   "outputs": [],
   "source": [
    "from IPython.core.interactiveshell import InteractiveShell\n",
    "InteractiveShell.ast_node_interactivity = \"all\""
   ]
  },
  {
   "cell_type": "markdown",
   "id": "877ee2fe",
   "metadata": {
    "papermill": {
     "duration": 0.521453,
     "end_time": "2021-05-26T15:15:17.838294",
     "exception": false,
     "start_time": "2021-05-26T15:15:17.316841",
     "status": "completed"
    },
    "tags": []
   },
   "source": [
    "\n",
    "## Begin Input Read\n",
    "- Make paths used in script\n",
    "- all paths should be modular and easily replaced ahead of operations."
   ]
  },
  {
   "cell_type": "code",
   "execution_count": 8,
   "id": "19f6312e",
   "metadata": {
    "execution": {
     "iopub.execute_input": "2021-05-26T15:15:18.723794Z",
     "iopub.status.busy": "2021-05-26T15:15:18.721791Z",
     "iopub.status.idle": "2021-05-26T15:15:18.728791Z",
     "shell.execute_reply": "2021-05-26T15:15:18.726803Z"
    },
    "papermill": {
     "duration": 0.38301,
     "end_time": "2021-05-26T15:15:18.729811",
     "exception": false,
     "start_time": "2021-05-26T15:15:18.346801",
     "status": "completed"
    },
    "tags": []
   },
   "outputs": [],
   "source": [
    "#root directory\n",
    "rt_path = os.path.join(f'\\\\\\\\hecate\\\\Insurance_US\\\\Product Development\\\\Product Management\\\\Global PPM\\\\Reporting\\Data Collection', percode  )\n",
    "\n",
    "#live sources directory\n",
    "ls_path = os.path.abspath(os.path.join( rt_path,\"..\" ,\"Production\",percode,'live_sources'))\n",
    "\n",
    "#report ouput dir\n",
    "rep_path = os.path.abspath(os.path.join(rt_path, '..','..', \"Data Collection\" ,f\"{percode}\", 'Surveys and Comments'))\n",
    "#report ouput archive dir\n",
    "rep_arch_path = os.path.abspath(os.path.join(rep_path, '..','..',f\"{percode}\",  'Archive'))\n"
   ]
  },
  {
   "cell_type": "markdown",
   "id": "e4b8c72f",
   "metadata": {
    "papermill": {
     "duration": 0.277575,
     "end_time": "2021-05-26T15:15:19.313067",
     "exception": false,
     "start_time": "2021-05-26T15:15:19.035492",
     "status": "completed"
    },
    "tags": []
   },
   "source": [
    "#### Make sources used in script\n",
    "- all sources should be modular and easily replaced ahead of operations."
   ]
  },
  {
   "cell_type": "code",
   "execution_count": 9,
   "id": "8e9886c6",
   "metadata": {
    "execution": {
     "iopub.execute_input": "2021-05-26T15:15:19.900996Z",
     "iopub.status.busy": "2021-05-26T15:15:19.897993Z",
     "iopub.status.idle": "2021-05-26T15:15:19.904996Z",
     "shell.execute_reply": "2021-05-26T15:15:19.905995Z"
    },
    "papermill": {
     "duration": 0.286521,
     "end_time": "2021-05-26T15:15:19.906995",
     "exception": false,
     "start_time": "2021-05-26T15:15:19.620474",
     "status": "completed"
    },
    "tags": []
   },
   "outputs": [],
   "source": [
    "rep_xls = os.path.join(rep_path ,\"Surveys and Comments_xx.xlsx\"   )"
   ]
  },
  {
   "cell_type": "markdown",
   "id": "455b86a5",
   "metadata": {
    "papermill": {
     "duration": 0.293535,
     "end_time": "2021-05-26T15:15:20.516561",
     "exception": false,
     "start_time": "2021-05-26T15:15:20.223026",
     "status": "completed"
    },
    "tags": []
   },
   "source": [
    "#### Get a list of only source files in the path that start with \"us_dat\".\n",
    "#### Logic determines the source file types.\n",
    "\n",
    "#### User instructions:\n",
    "- Make sure that you have 1 file per source in this folder.\n",
    "    -  For instance, do not have two files for Portugal. If there is an update, archive the old one.\n",
    "- Do not overwrite files in the archive.\n",
    "    - Rename newly archived files, no strict convention, we keep track of these by the modified date.\n",
    "- It is ok to have multiple sources in one file."
   ]
  },
  {
   "cell_type": "code",
   "execution_count": 10,
   "id": "4254d997",
   "metadata": {
    "execution": {
     "iopub.execute_input": "2021-05-26T15:15:21.116134Z",
     "iopub.status.busy": "2021-05-26T15:15:21.115125Z",
     "iopub.status.idle": "2021-05-26T15:15:21.124108Z",
     "shell.execute_reply": "2021-05-26T15:15:21.123120Z"
    },
    "papermill": {
     "duration": 0.296999,
     "end_time": "2021-05-26T15:15:21.124108",
     "exception": false,
     "start_time": "2021-05-26T15:15:20.827109",
     "status": "completed"
    },
    "tags": []
   },
   "outputs": [],
   "source": [
    "files = os.listdir(ls_path)\n",
    "files = [files.lower() for files in files]\n",
    "\n",
    "files_sources = [f for f in files if f[-5:]  == '.json' or  f[-8:] == '.parquet']\n",
    "\n",
    "for idx, f in enumerate(files_sources):  files_sources[idx] = os.path.join(ls_path, f) \n"
   ]
  },
  {
   "cell_type": "markdown",
   "id": "81f29f2a",
   "metadata": {
    "papermill": {
     "duration": 0.291316,
     "end_time": "2021-05-26T15:15:21.738425",
     "exception": false,
     "start_time": "2021-05-26T15:15:21.447109",
     "status": "completed"
    },
    "tags": []
   },
   "source": [
    "#### Make a list of BUs that have comments available"
   ]
  },
  {
   "cell_type": "code",
   "execution_count": 11,
   "id": "dc3cff08",
   "metadata": {
    "execution": {
     "iopub.execute_input": "2021-05-26T15:15:22.568744Z",
     "iopub.status.busy": "2021-05-26T15:15:22.567748Z",
     "iopub.status.idle": "2021-05-26T15:15:22.587747Z",
     "shell.execute_reply": "2021-05-26T15:15:22.588749Z"
    },
    "papermill": {
     "duration": 0.420518,
     "end_time": "2021-05-26T15:15:22.588749",
     "exception": false,
     "start_time": "2021-05-26T15:15:22.168231",
     "status": "completed"
    },
    "tags": []
   },
   "outputs": [
    {
     "data": {
      "text/plain": [
       "['\\\\\\\\hecate\\\\Insurance_US\\\\Product Development\\\\Product Management\\\\Global PPM\\\\Reporting\\\\Data Collection\\\\Production\\\\2021.Q1\\\\live_sources\\\\us_dat_au_05142021143612.parquet',\n",
       " '\\\\\\\\hecate\\\\Insurance_US\\\\Product Development\\\\Product Management\\\\Global PPM\\\\Reporting\\\\Data Collection\\\\Production\\\\2021.Q1\\\\live_sources\\\\us_dat_ca_05202021134242.parquet',\n",
       " '\\\\\\\\hecate\\\\Insurance_US\\\\Product Development\\\\Product Management\\\\Global PPM\\\\Reporting\\\\Data Collection\\\\Production\\\\2021.Q1\\\\live_sources\\\\us_dat_ch_05182021192455.parquet',\n",
       " '\\\\\\\\hecate\\\\Insurance_US\\\\Product Development\\\\Product Management\\\\Global PPM\\\\Reporting\\\\Data Collection\\\\Production\\\\2021.Q1\\\\live_sources\\\\us_dat_cz_05262021090243.parquet',\n",
       " '\\\\\\\\hecate\\\\Insurance_US\\\\Product Development\\\\Product Management\\\\Global PPM\\\\Reporting\\\\Data Collection\\\\Production\\\\2021.Q1\\\\live_sources\\\\us_dat_es_05202021105141.parquet',\n",
       " '\\\\\\\\hecate\\\\Insurance_US\\\\Product Development\\\\Product Management\\\\Global PPM\\\\Reporting\\\\Data Collection\\\\Production\\\\2021.Q1\\\\live_sources\\\\us_dat_gr_05252021115404.parquet',\n",
       " '\\\\\\\\hecate\\\\Insurance_US\\\\Product Development\\\\Product Management\\\\Global PPM\\\\Reporting\\\\Data Collection\\\\Production\\\\2021.Q1\\\\live_sources\\\\us_dat_it_05242021111520.parquet',\n",
       " '\\\\\\\\hecate\\\\Insurance_US\\\\Product Development\\\\Product Management\\\\Global PPM\\\\Reporting\\\\Data Collection\\\\Production\\\\2021.Q1\\\\live_sources\\\\us_dat_pl_05262021084450.parquet',\n",
       " '\\\\\\\\hecate\\\\Insurance_US\\\\Product Development\\\\Product Management\\\\Global PPM\\\\Reporting\\\\Data Collection\\\\Production\\\\2021.Q1\\\\live_sources\\\\us_dat_pt_05202021121056.parquet',\n",
       " '\\\\\\\\hecate\\\\Insurance_US\\\\Product Development\\\\Product Management\\\\Global PPM\\\\Reporting\\\\Data Collection\\\\Production\\\\2021.Q1\\\\live_sources\\\\us_orig_au_05142021143611.json',\n",
       " '\\\\\\\\hecate\\\\Insurance_US\\\\Product Development\\\\Product Management\\\\Global PPM\\\\Reporting\\\\Data Collection\\\\Production\\\\2021.Q1\\\\live_sources\\\\us_orig_ca_05202021134242.parquet',\n",
       " '\\\\\\\\hecate\\\\Insurance_US\\\\Product Development\\\\Product Management\\\\Global PPM\\\\Reporting\\\\Data Collection\\\\Production\\\\2021.Q1\\\\live_sources\\\\us_orig_ch_05182021192455.parquet',\n",
       " '\\\\\\\\hecate\\\\Insurance_US\\\\Product Development\\\\Product Management\\\\Global PPM\\\\Reporting\\\\Data Collection\\\\Production\\\\2021.Q1\\\\live_sources\\\\us_orig_cz_05242021103837.parquet',\n",
       " '\\\\\\\\hecate\\\\Insurance_US\\\\Product Development\\\\Product Management\\\\Global PPM\\\\Reporting\\\\Data Collection\\\\Production\\\\2021.Q1\\\\live_sources\\\\us_orig_cz_05262021090243.parquet',\n",
       " '\\\\\\\\hecate\\\\Insurance_US\\\\Product Development\\\\Product Management\\\\Global PPM\\\\Reporting\\\\Data Collection\\\\Production\\\\2021.Q1\\\\live_sources\\\\us_orig_es_05202021105141.parquet',\n",
       " '\\\\\\\\hecate\\\\Insurance_US\\\\Product Development\\\\Product Management\\\\Global PPM\\\\Reporting\\\\Data Collection\\\\Production\\\\2021.Q1\\\\live_sources\\\\us_orig_gr_05252021115404.parquet',\n",
       " '\\\\\\\\hecate\\\\Insurance_US\\\\Product Development\\\\Product Management\\\\Global PPM\\\\Reporting\\\\Data Collection\\\\Production\\\\2021.Q1\\\\live_sources\\\\us_orig_it_05242021111520.parquet',\n",
       " '\\\\\\\\hecate\\\\Insurance_US\\\\Product Development\\\\Product Management\\\\Global PPM\\\\Reporting\\\\Data Collection\\\\Production\\\\2021.Q1\\\\live_sources\\\\us_orig_pl_05262021084450.parquet',\n",
       " '\\\\\\\\hecate\\\\Insurance_US\\\\Product Development\\\\Product Management\\\\Global PPM\\\\Reporting\\\\Data Collection\\\\Production\\\\2021.Q1\\\\live_sources\\\\us_orig_pt_05202021121055.parquet',\n",
       " '\\\\\\\\hecate\\\\Insurance_US\\\\Product Development\\\\Product Management\\\\Global PPM\\\\Reporting\\\\Data Collection\\\\Production\\\\2021.Q1\\\\live_sources\\\\us_survey_au_02172021174808.parquet',\n",
       " '\\\\\\\\hecate\\\\Insurance_US\\\\Product Development\\\\Product Management\\\\Global PPM\\\\Reporting\\\\Data Collection\\\\Production\\\\2021.Q1\\\\live_sources\\\\us_survey_au_05142021143750.parquet',\n",
       " '\\\\\\\\hecate\\\\Insurance_US\\\\Product Development\\\\Product Management\\\\Global PPM\\\\Reporting\\\\Data Collection\\\\Production\\\\2021.Q1\\\\live_sources\\\\us_survey_ca_05202021135610.parquet',\n",
       " '\\\\\\\\hecate\\\\Insurance_US\\\\Product Development\\\\Product Management\\\\Global PPM\\\\Reporting\\\\Data Collection\\\\Production\\\\2021.Q1\\\\live_sources\\\\us_survey_ch_05182021192905.parquet',\n",
       " '\\\\\\\\hecate\\\\Insurance_US\\\\Product Development\\\\Product Management\\\\Global PPM\\\\Reporting\\\\Data Collection\\\\Production\\\\2021.Q1\\\\live_sources\\\\us_survey_cz_05262021090440.parquet',\n",
       " '\\\\\\\\hecate\\\\Insurance_US\\\\Product Development\\\\Product Management\\\\Global PPM\\\\Reporting\\\\Data Collection\\\\Production\\\\2021.Q1\\\\live_sources\\\\us_survey_es_05202021105431.parquet',\n",
       " '\\\\\\\\hecate\\\\Insurance_US\\\\Product Development\\\\Product Management\\\\Global PPM\\\\Reporting\\\\Data Collection\\\\Production\\\\2021.Q1\\\\live_sources\\\\us_survey_gr_05252021115827.parquet',\n",
       " '\\\\\\\\hecate\\\\Insurance_US\\\\Product Development\\\\Product Management\\\\Global PPM\\\\Reporting\\\\Data Collection\\\\Production\\\\2021.Q1\\\\live_sources\\\\us_survey_it_05242021111759.parquet',\n",
       " '\\\\\\\\hecate\\\\Insurance_US\\\\Product Development\\\\Product Management\\\\Global PPM\\\\Reporting\\\\Data Collection\\\\Production\\\\2021.Q1\\\\live_sources\\\\us_survey_pl_05262021084708.parquet',\n",
       " '\\\\\\\\hecate\\\\Insurance_US\\\\Product Development\\\\Product Management\\\\Global PPM\\\\Reporting\\\\Data Collection\\\\Production\\\\2021.Q1\\\\live_sources\\\\us_survey_pt_05202021121304.parquet',\n",
       " '\\\\\\\\hecate\\\\Insurance_US\\\\Product Development\\\\Product Management\\\\Global PPM\\\\Reporting\\\\Data Collection\\\\Production\\\\2021.Q1\\\\live_sources\\\\us_vcomments_au_02172021174434.parquet',\n",
       " '\\\\\\\\hecate\\\\Insurance_US\\\\Product Development\\\\Product Management\\\\Global PPM\\\\Reporting\\\\Data Collection\\\\Production\\\\2021.Q1\\\\live_sources\\\\us_vcomments_au_02172021174440.parquet',\n",
       " '\\\\\\\\hecate\\\\Insurance_US\\\\Product Development\\\\Product Management\\\\Global PPM\\\\Reporting\\\\Data Collection\\\\Production\\\\2021.Q1\\\\live_sources\\\\us_vcomments_au_05142021143612.parquet',\n",
       " '\\\\\\\\hecate\\\\Insurance_US\\\\Product Development\\\\Product Management\\\\Global PPM\\\\Reporting\\\\Data Collection\\\\Production\\\\2021.Q1\\\\live_sources\\\\us_vcomments_au_05142021143617.parquet',\n",
       " '\\\\\\\\hecate\\\\Insurance_US\\\\Product Development\\\\Product Management\\\\Global PPM\\\\Reporting\\\\Data Collection\\\\Production\\\\2021.Q1\\\\live_sources\\\\us_vcomments_au_mnual_creation.parquet',\n",
       " '\\\\\\\\hecate\\\\Insurance_US\\\\Product Development\\\\Product Management\\\\Global PPM\\\\Reporting\\\\Data Collection\\\\Production\\\\2021.Q1\\\\live_sources\\\\us_vcomments_ca_05202021134242.parquet',\n",
       " '\\\\\\\\hecate\\\\Insurance_US\\\\Product Development\\\\Product Management\\\\Global PPM\\\\Reporting\\\\Data Collection\\\\Production\\\\2021.Q1\\\\live_sources\\\\us_vcomments_ch_05182021192455.parquet',\n",
       " '\\\\\\\\hecate\\\\Insurance_US\\\\Product Development\\\\Product Management\\\\Global PPM\\\\Reporting\\\\Data Collection\\\\Production\\\\2021.Q1\\\\live_sources\\\\us_vcomments_ch_05182021192456.parquet',\n",
       " '\\\\\\\\hecate\\\\Insurance_US\\\\Product Development\\\\Product Management\\\\Global PPM\\\\Reporting\\\\Data Collection\\\\Production\\\\2021.Q1\\\\live_sources\\\\us_vcomments_cz_05242021103837.parquet',\n",
       " '\\\\\\\\hecate\\\\Insurance_US\\\\Product Development\\\\Product Management\\\\Global PPM\\\\Reporting\\\\Data Collection\\\\Production\\\\2021.Q1\\\\live_sources\\\\us_vcomments_cz_05262021090243.parquet',\n",
       " '\\\\\\\\hecate\\\\Insurance_US\\\\Product Development\\\\Product Management\\\\Global PPM\\\\Reporting\\\\Data Collection\\\\Production\\\\2021.Q1\\\\live_sources\\\\us_vcomments_es_05202021105141.parquet',\n",
       " '\\\\\\\\hecate\\\\Insurance_US\\\\Product Development\\\\Product Management\\\\Global PPM\\\\Reporting\\\\Data Collection\\\\Production\\\\2021.Q1\\\\live_sources\\\\us_vcomments_es_05202021105142.parquet',\n",
       " '\\\\\\\\hecate\\\\Insurance_US\\\\Product Development\\\\Product Management\\\\Global PPM\\\\Reporting\\\\Data Collection\\\\Production\\\\2021.Q1\\\\live_sources\\\\us_vcomments_gr_05252021115404.parquet',\n",
       " '\\\\\\\\hecate\\\\Insurance_US\\\\Product Development\\\\Product Management\\\\Global PPM\\\\Reporting\\\\Data Collection\\\\Production\\\\2021.Q1\\\\live_sources\\\\us_vcomments_it_05242021111521.parquet',\n",
       " '\\\\\\\\hecate\\\\Insurance_US\\\\Product Development\\\\Product Management\\\\Global PPM\\\\Reporting\\\\Data Collection\\\\Production\\\\2021.Q1\\\\live_sources\\\\us_vcomments_pl_05262021084450.parquet',\n",
       " '\\\\\\\\hecate\\\\Insurance_US\\\\Product Development\\\\Product Management\\\\Global PPM\\\\Reporting\\\\Data Collection\\\\Production\\\\2021.Q1\\\\live_sources\\\\us_vcomments_pt_05202021121056.parquet',\n",
       " '\\\\\\\\hecate\\\\Insurance_US\\\\Product Development\\\\Product Management\\\\Global PPM\\\\Reporting\\\\Data Collection\\\\Production\\\\2021.Q1\\\\live_sources\\\\us_vdf_au_05142021143613.json',\n",
       " '\\\\\\\\hecate\\\\Insurance_US\\\\Product Development\\\\Product Management\\\\Global PPM\\\\Reporting\\\\Data Collection\\\\Production\\\\2021.Q1\\\\live_sources\\\\us_vdf_ca_05202021134242.json',\n",
       " '\\\\\\\\hecate\\\\Insurance_US\\\\Product Development\\\\Product Management\\\\Global PPM\\\\Reporting\\\\Data Collection\\\\Production\\\\2021.Q1\\\\live_sources\\\\us_vdf_ch_05182021192456.json',\n",
       " '\\\\\\\\hecate\\\\Insurance_US\\\\Product Development\\\\Product Management\\\\Global PPM\\\\Reporting\\\\Data Collection\\\\Production\\\\2021.Q1\\\\live_sources\\\\us_vdf_cz_05242021103837.json',\n",
       " '\\\\\\\\hecate\\\\Insurance_US\\\\Product Development\\\\Product Management\\\\Global PPM\\\\Reporting\\\\Data Collection\\\\Production\\\\2021.Q1\\\\live_sources\\\\us_vdf_cz_05262021090243.json',\n",
       " '\\\\\\\\hecate\\\\Insurance_US\\\\Product Development\\\\Product Management\\\\Global PPM\\\\Reporting\\\\Data Collection\\\\Production\\\\2021.Q1\\\\live_sources\\\\us_vdf_es_05202021105142.json',\n",
       " '\\\\\\\\hecate\\\\Insurance_US\\\\Product Development\\\\Product Management\\\\Global PPM\\\\Reporting\\\\Data Collection\\\\Production\\\\2021.Q1\\\\live_sources\\\\us_vdf_gr_05252021115404.json',\n",
       " '\\\\\\\\hecate\\\\Insurance_US\\\\Product Development\\\\Product Management\\\\Global PPM\\\\Reporting\\\\Data Collection\\\\Production\\\\2021.Q1\\\\live_sources\\\\us_vdf_it_05242021111521.json',\n",
       " '\\\\\\\\hecate\\\\Insurance_US\\\\Product Development\\\\Product Management\\\\Global PPM\\\\Reporting\\\\Data Collection\\\\Production\\\\2021.Q1\\\\live_sources\\\\us_vdf_pl_05262021084450.json',\n",
       " '\\\\\\\\hecate\\\\Insurance_US\\\\Product Development\\\\Product Management\\\\Global PPM\\\\Reporting\\\\Data Collection\\\\Production\\\\2021.Q1\\\\live_sources\\\\us_vdf_pt_05202021121056.json']"
      ]
     },
     "execution_count": 11,
     "metadata": {},
     "output_type": "execute_result"
    }
   ],
   "source": [
    "prelist_jfiles = glob.glob(os.path.join(ls_path, 'us_vcomments_*.json'))\n",
    "prelist_pfiles = glob.glob(os.path.join(ls_path, 'us_vcomments_*.parquet'))\n",
    "\n",
    "prelist_files = []\n",
    "    \n",
    "for i in prelist_jfiles : prelist_files.append(i)    \n",
    "for i in prelist_pfiles : prelist_files.append(i)\n",
    "\n",
    "\n",
    "for idx, i in enumerate(prelist_jfiles):\n",
    "    prelist_jfiles[idx] = prelist_jfiles[idx][-23:-19]\n",
    "    prelist_jfiles[idx] = prelist_jfiles[idx].replace('_','')\n",
    "\n",
    "for idx, i in enumerate(prelist_pfiles):\n",
    "    prelist_pfiles[idx] = prelist_pfiles[idx][-26:-22]\n",
    "    prelist_pfiles[idx] = prelist_pfiles[idx].replace('_','')\n",
    "\n",
    "list_bus = []\n",
    "    \n",
    "for i in prelist_jfiles : list_bus.append(i)    \n",
    "for i in prelist_pfiles : list_bus.append(i)\n",
    "\n",
    "\n",
    "BU_set = set(list_bus)\n",
    "BU_list = list(BU_set)\n",
    "\n",
    "files_sources\n"
   ]
  },
  {
   "cell_type": "code",
   "execution_count": 12,
   "id": "98d3c3b6",
   "metadata": {
    "execution": {
     "iopub.execute_input": "2021-05-26T15:15:23.243661Z",
     "iopub.status.busy": "2021-05-26T15:15:23.241669Z",
     "iopub.status.idle": "2021-05-26T15:16:53.645668Z",
     "shell.execute_reply": "2021-05-26T15:16:53.647657Z"
    },
    "papermill": {
     "duration": 90.771575,
     "end_time": "2021-05-26T15:16:53.647657",
     "exception": false,
     "start_time": "2021-05-26T15:15:22.876082",
     "status": "completed"
    },
    "pycharm": {
     "name": "#%%\n"
    },
    "tags": []
   },
   "outputs": [
    {
     "name": "stdout",
     "output_type": "stream",
     "text": [
      "_cz\n",
      "['\\\\\\\\hecate\\\\Insurance_US\\\\Product Development\\\\Product Management\\\\Global PPM\\\\Reporting\\\\Data Collection\\\\Production\\\\2021.Q1\\\\live_sources\\\\us_orig_cz_05242021103837.parquet', '\\\\\\\\hecate\\\\Insurance_US\\\\Product Development\\\\Product Management\\\\Global PPM\\\\Reporting\\\\Data Collection\\\\Production\\\\2021.Q1\\\\live_sources\\\\us_orig_cz_05262021090243.parquet']\n"
     ]
    },
    {
     "name": "stdout",
     "output_type": "stream",
     "text": [
      "_cz\n",
      "['\\\\\\\\hecate\\\\Insurance_US\\\\Product Development\\\\Product Management\\\\Global PPM\\\\Reporting\\\\Data Collection\\\\Production\\\\2021.Q1\\\\live_sources\\\\us_dat_cz_05262021090243.parquet']\n"
     ]
    },
    {
     "name": "stdout",
     "output_type": "stream",
     "text": [
      "_cz\n",
      "['\\\\\\\\hecate\\\\Insurance_US\\\\Product Development\\\\Product Management\\\\Global PPM\\\\Reporting\\\\Data Collection\\\\Production\\\\2021.Q1\\\\live_sources\\\\us_vcomments_cz_05242021103837.parquet', '\\\\\\\\hecate\\\\Insurance_US\\\\Product Development\\\\Product Management\\\\Global PPM\\\\Reporting\\\\Data Collection\\\\Production\\\\2021.Q1\\\\live_sources\\\\us_vcomments_cz_05262021090243.parquet']\n"
     ]
    },
    {
     "name": "stdout",
     "output_type": "stream",
     "text": [
      "_cz\n",
      "['\\\\\\\\hecate\\\\Insurance_US\\\\Product Development\\\\Product Management\\\\Global PPM\\\\Reporting\\\\Data Collection\\\\Production\\\\2021.Q1\\\\live_sources\\\\us_survey_cz_05262021090440.parquet']\n"
     ]
    },
    {
     "name": "stdout",
     "output_type": "stream",
     "text": [
      "Original Data Set\n"
     ]
    },
    {
     "name": "stdout",
     "output_type": "stream",
     "text": [
      "Final Data Set\n"
     ]
    },
    {
     "name": "stdout",
     "output_type": "stream",
     "text": [
      "Validations\n"
     ]
    },
    {
     "name": "stdout",
     "output_type": "stream",
     "text": [
      "Survey\n"
     ]
    },
    {
     "name": "stdout",
     "output_type": "stream",
     "text": [
      "_it\n",
      "['\\\\\\\\hecate\\\\Insurance_US\\\\Product Development\\\\Product Management\\\\Global PPM\\\\Reporting\\\\Data Collection\\\\Production\\\\2021.Q1\\\\live_sources\\\\us_orig_it_05242021111520.parquet']\n"
     ]
    },
    {
     "name": "stdout",
     "output_type": "stream",
     "text": [
      "_it\n",
      "['\\\\\\\\hecate\\\\Insurance_US\\\\Product Development\\\\Product Management\\\\Global PPM\\\\Reporting\\\\Data Collection\\\\Production\\\\2021.Q1\\\\live_sources\\\\us_dat_it_05242021111520.parquet']\n"
     ]
    },
    {
     "name": "stdout",
     "output_type": "stream",
     "text": [
      "_it\n",
      "['\\\\\\\\hecate\\\\Insurance_US\\\\Product Development\\\\Product Management\\\\Global PPM\\\\Reporting\\\\Data Collection\\\\Production\\\\2021.Q1\\\\live_sources\\\\us_vcomments_it_05242021111521.parquet']\n"
     ]
    },
    {
     "name": "stdout",
     "output_type": "stream",
     "text": [
      "_it\n",
      "['\\\\\\\\hecate\\\\Insurance_US\\\\Product Development\\\\Product Management\\\\Global PPM\\\\Reporting\\\\Data Collection\\\\Production\\\\2021.Q1\\\\live_sources\\\\us_survey_it_05242021111759.parquet']\n"
     ]
    },
    {
     "name": "stdout",
     "output_type": "stream",
     "text": [
      "Original Data Set\n"
     ]
    },
    {
     "name": "stdout",
     "output_type": "stream",
     "text": [
      "Final Data Set\n"
     ]
    },
    {
     "name": "stdout",
     "output_type": "stream",
     "text": [
      "Validations\n"
     ]
    },
    {
     "name": "stdout",
     "output_type": "stream",
     "text": [
      "Survey\n"
     ]
    },
    {
     "name": "stdout",
     "output_type": "stream",
     "text": [
      "_ch\n",
      "['\\\\\\\\hecate\\\\Insurance_US\\\\Product Development\\\\Product Management\\\\Global PPM\\\\Reporting\\\\Data Collection\\\\Production\\\\2021.Q1\\\\live_sources\\\\us_orig_ch_05182021192455.parquet']\n"
     ]
    },
    {
     "name": "stdout",
     "output_type": "stream",
     "text": [
      "_ch\n",
      "['\\\\\\\\hecate\\\\Insurance_US\\\\Product Development\\\\Product Management\\\\Global PPM\\\\Reporting\\\\Data Collection\\\\Production\\\\2021.Q1\\\\live_sources\\\\us_dat_ch_05182021192455.parquet']\n"
     ]
    },
    {
     "name": "stdout",
     "output_type": "stream",
     "text": [
      "_ch\n",
      "['\\\\\\\\hecate\\\\Insurance_US\\\\Product Development\\\\Product Management\\\\Global PPM\\\\Reporting\\\\Data Collection\\\\Production\\\\2021.Q1\\\\live_sources\\\\us_vcomments_ch_05182021192455.parquet', '\\\\\\\\hecate\\\\Insurance_US\\\\Product Development\\\\Product Management\\\\Global PPM\\\\Reporting\\\\Data Collection\\\\Production\\\\2021.Q1\\\\live_sources\\\\us_vcomments_ch_05182021192456.parquet']\n"
     ]
    },
    {
     "name": "stdout",
     "output_type": "stream",
     "text": [
      "_ch\n",
      "['\\\\\\\\hecate\\\\Insurance_US\\\\Product Development\\\\Product Management\\\\Global PPM\\\\Reporting\\\\Data Collection\\\\Production\\\\2021.Q1\\\\live_sources\\\\us_survey_ch_05182021192905.parquet']\n"
     ]
    },
    {
     "name": "stdout",
     "output_type": "stream",
     "text": [
      "Original Data Set\n"
     ]
    },
    {
     "name": "stdout",
     "output_type": "stream",
     "text": [
      "Final Data Set\n"
     ]
    },
    {
     "name": "stdout",
     "output_type": "stream",
     "text": [
      "Validations\n"
     ]
    },
    {
     "name": "stdout",
     "output_type": "stream",
     "text": [
      "Survey\n"
     ]
    },
    {
     "name": "stdout",
     "output_type": "stream",
     "text": [
      "_ca\n",
      "['\\\\\\\\hecate\\\\Insurance_US\\\\Product Development\\\\Product Management\\\\Global PPM\\\\Reporting\\\\Data Collection\\\\Production\\\\2021.Q1\\\\live_sources\\\\us_orig_ca_05202021134242.parquet']\n"
     ]
    },
    {
     "name": "stdout",
     "output_type": "stream",
     "text": [
      "_ca\n",
      "['\\\\\\\\hecate\\\\Insurance_US\\\\Product Development\\\\Product Management\\\\Global PPM\\\\Reporting\\\\Data Collection\\\\Production\\\\2021.Q1\\\\live_sources\\\\us_dat_ca_05202021134242.parquet']\n"
     ]
    },
    {
     "name": "stdout",
     "output_type": "stream",
     "text": [
      "_ca\n",
      "['\\\\\\\\hecate\\\\Insurance_US\\\\Product Development\\\\Product Management\\\\Global PPM\\\\Reporting\\\\Data Collection\\\\Production\\\\2021.Q1\\\\live_sources\\\\us_vcomments_ca_05202021134242.parquet']\n"
     ]
    },
    {
     "name": "stdout",
     "output_type": "stream",
     "text": [
      "_ca\n",
      "['\\\\\\\\hecate\\\\Insurance_US\\\\Product Development\\\\Product Management\\\\Global PPM\\\\Reporting\\\\Data Collection\\\\Production\\\\2021.Q1\\\\live_sources\\\\us_survey_ca_05202021135610.parquet']\n"
     ]
    },
    {
     "name": "stdout",
     "output_type": "stream",
     "text": [
      "Original Data Set\n"
     ]
    },
    {
     "name": "stdout",
     "output_type": "stream",
     "text": [
      "Final Data Set\n"
     ]
    },
    {
     "name": "stdout",
     "output_type": "stream",
     "text": [
      "Validations\n"
     ]
    },
    {
     "name": "stdout",
     "output_type": "stream",
     "text": [
      "Survey\n"
     ]
    },
    {
     "name": "stdout",
     "output_type": "stream",
     "text": [
      "_pl\n",
      "['\\\\\\\\hecate\\\\Insurance_US\\\\Product Development\\\\Product Management\\\\Global PPM\\\\Reporting\\\\Data Collection\\\\Production\\\\2021.Q1\\\\live_sources\\\\us_orig_pl_05262021084450.parquet']\n"
     ]
    },
    {
     "name": "stdout",
     "output_type": "stream",
     "text": [
      "_pl\n",
      "['\\\\\\\\hecate\\\\Insurance_US\\\\Product Development\\\\Product Management\\\\Global PPM\\\\Reporting\\\\Data Collection\\\\Production\\\\2021.Q1\\\\live_sources\\\\us_dat_pl_05262021084450.parquet']\n"
     ]
    },
    {
     "name": "stdout",
     "output_type": "stream",
     "text": [
      "_pl\n",
      "['\\\\\\\\hecate\\\\Insurance_US\\\\Product Development\\\\Product Management\\\\Global PPM\\\\Reporting\\\\Data Collection\\\\Production\\\\2021.Q1\\\\live_sources\\\\us_vcomments_pl_05262021084450.parquet']\n"
     ]
    },
    {
     "name": "stdout",
     "output_type": "stream",
     "text": [
      "_pl\n",
      "['\\\\\\\\hecate\\\\Insurance_US\\\\Product Development\\\\Product Management\\\\Global PPM\\\\Reporting\\\\Data Collection\\\\Production\\\\2021.Q1\\\\live_sources\\\\us_survey_pl_05262021084708.parquet']\n"
     ]
    },
    {
     "name": "stdout",
     "output_type": "stream",
     "text": [
      "Original Data Set\n"
     ]
    },
    {
     "name": "stdout",
     "output_type": "stream",
     "text": [
      "Final Data Set\n"
     ]
    },
    {
     "name": "stdout",
     "output_type": "stream",
     "text": [
      "Validations\n"
     ]
    },
    {
     "name": "stdout",
     "output_type": "stream",
     "text": [
      "Survey\n"
     ]
    },
    {
     "name": "stdout",
     "output_type": "stream",
     "text": [
      "_es\n",
      "['\\\\\\\\hecate\\\\Insurance_US\\\\Product Development\\\\Product Management\\\\Global PPM\\\\Reporting\\\\Data Collection\\\\Production\\\\2021.Q1\\\\live_sources\\\\us_orig_es_05202021105141.parquet']\n"
     ]
    },
    {
     "name": "stdout",
     "output_type": "stream",
     "text": [
      "_es\n",
      "['\\\\\\\\hecate\\\\Insurance_US\\\\Product Development\\\\Product Management\\\\Global PPM\\\\Reporting\\\\Data Collection\\\\Production\\\\2021.Q1\\\\live_sources\\\\us_dat_es_05202021105141.parquet']\n"
     ]
    },
    {
     "name": "stdout",
     "output_type": "stream",
     "text": [
      "_es\n",
      "['\\\\\\\\hecate\\\\Insurance_US\\\\Product Development\\\\Product Management\\\\Global PPM\\\\Reporting\\\\Data Collection\\\\Production\\\\2021.Q1\\\\live_sources\\\\us_vcomments_es_05202021105141.parquet', '\\\\\\\\hecate\\\\Insurance_US\\\\Product Development\\\\Product Management\\\\Global PPM\\\\Reporting\\\\Data Collection\\\\Production\\\\2021.Q1\\\\live_sources\\\\us_vcomments_es_05202021105142.parquet']\n"
     ]
    },
    {
     "name": "stdout",
     "output_type": "stream",
     "text": [
      "_es\n",
      "['\\\\\\\\hecate\\\\Insurance_US\\\\Product Development\\\\Product Management\\\\Global PPM\\\\Reporting\\\\Data Collection\\\\Production\\\\2021.Q1\\\\live_sources\\\\us_survey_es_05202021105431.parquet']\n"
     ]
    },
    {
     "name": "stdout",
     "output_type": "stream",
     "text": [
      "Original Data Set\n"
     ]
    },
    {
     "name": "stdout",
     "output_type": "stream",
     "text": [
      "Final Data Set\n"
     ]
    },
    {
     "name": "stdout",
     "output_type": "stream",
     "text": [
      "Validations\n"
     ]
    },
    {
     "name": "stdout",
     "output_type": "stream",
     "text": [
      "Survey\n"
     ]
    },
    {
     "name": "stdout",
     "output_type": "stream",
     "text": [
      "_au\n",
      "['\\\\\\\\hecate\\\\Insurance_US\\\\Product Development\\\\Product Management\\\\Global PPM\\\\Reporting\\\\Data Collection\\\\Production\\\\2021.Q1\\\\live_sources\\\\us_orig_au_05142021143611.json']\n"
     ]
    },
    {
     "name": "stdout",
     "output_type": "stream",
     "text": [
      "_au\n",
      "['\\\\\\\\hecate\\\\Insurance_US\\\\Product Development\\\\Product Management\\\\Global PPM\\\\Reporting\\\\Data Collection\\\\Production\\\\2021.Q1\\\\live_sources\\\\us_dat_au_05142021143612.parquet']\n"
     ]
    },
    {
     "name": "stdout",
     "output_type": "stream",
     "text": [
      "_au\n",
      "['\\\\\\\\hecate\\\\Insurance_US\\\\Product Development\\\\Product Management\\\\Global PPM\\\\Reporting\\\\Data Collection\\\\Production\\\\2021.Q1\\\\live_sources\\\\us_vcomments_au_02172021174434.parquet', '\\\\\\\\hecate\\\\Insurance_US\\\\Product Development\\\\Product Management\\\\Global PPM\\\\Reporting\\\\Data Collection\\\\Production\\\\2021.Q1\\\\live_sources\\\\us_vcomments_au_02172021174440.parquet', '\\\\\\\\hecate\\\\Insurance_US\\\\Product Development\\\\Product Management\\\\Global PPM\\\\Reporting\\\\Data Collection\\\\Production\\\\2021.Q1\\\\live_sources\\\\us_vcomments_au_05142021143612.parquet', '\\\\\\\\hecate\\\\Insurance_US\\\\Product Development\\\\Product Management\\\\Global PPM\\\\Reporting\\\\Data Collection\\\\Production\\\\2021.Q1\\\\live_sources\\\\us_vcomments_au_05142021143617.parquet', '\\\\\\\\hecate\\\\Insurance_US\\\\Product Development\\\\Product Management\\\\Global PPM\\\\Reporting\\\\Data Collection\\\\Production\\\\2021.Q1\\\\live_sources\\\\us_vcomments_au_mnual_creation.parquet']\n"
     ]
    },
    {
     "name": "stdout",
     "output_type": "stream",
     "text": [
      "_au\n",
      "['\\\\\\\\hecate\\\\Insurance_US\\\\Product Development\\\\Product Management\\\\Global PPM\\\\Reporting\\\\Data Collection\\\\Production\\\\2021.Q1\\\\live_sources\\\\us_survey_au_02172021174808.parquet', '\\\\\\\\hecate\\\\Insurance_US\\\\Product Development\\\\Product Management\\\\Global PPM\\\\Reporting\\\\Data Collection\\\\Production\\\\2021.Q1\\\\live_sources\\\\us_survey_au_05142021143750.parquet']\n"
     ]
    },
    {
     "name": "stdout",
     "output_type": "stream",
     "text": [
      "Original Data Set\n"
     ]
    },
    {
     "name": "stdout",
     "output_type": "stream",
     "text": [
      "Final Data Set\n"
     ]
    },
    {
     "name": "stdout",
     "output_type": "stream",
     "text": [
      "Validations\n"
     ]
    },
    {
     "name": "stdout",
     "output_type": "stream",
     "text": [
      "Survey\n"
     ]
    },
    {
     "name": "stdout",
     "output_type": "stream",
     "text": [
      "_gr\n",
      "['\\\\\\\\hecate\\\\Insurance_US\\\\Product Development\\\\Product Management\\\\Global PPM\\\\Reporting\\\\Data Collection\\\\Production\\\\2021.Q1\\\\live_sources\\\\us_orig_gr_05252021115404.parquet']\n"
     ]
    },
    {
     "name": "stdout",
     "output_type": "stream",
     "text": [
      "_gr\n",
      "['\\\\\\\\hecate\\\\Insurance_US\\\\Product Development\\\\Product Management\\\\Global PPM\\\\Reporting\\\\Data Collection\\\\Production\\\\2021.Q1\\\\live_sources\\\\us_dat_gr_05252021115404.parquet']\n"
     ]
    },
    {
     "name": "stdout",
     "output_type": "stream",
     "text": [
      "_gr\n",
      "['\\\\\\\\hecate\\\\Insurance_US\\\\Product Development\\\\Product Management\\\\Global PPM\\\\Reporting\\\\Data Collection\\\\Production\\\\2021.Q1\\\\live_sources\\\\us_vcomments_gr_05252021115404.parquet']\n"
     ]
    },
    {
     "name": "stdout",
     "output_type": "stream",
     "text": [
      "_gr\n",
      "['\\\\\\\\hecate\\\\Insurance_US\\\\Product Development\\\\Product Management\\\\Global PPM\\\\Reporting\\\\Data Collection\\\\Production\\\\2021.Q1\\\\live_sources\\\\us_survey_gr_05252021115827.parquet']\n"
     ]
    },
    {
     "name": "stdout",
     "output_type": "stream",
     "text": [
      "Original Data Set\n"
     ]
    },
    {
     "name": "stdout",
     "output_type": "stream",
     "text": [
      "Final Data Set\n"
     ]
    },
    {
     "name": "stdout",
     "output_type": "stream",
     "text": [
      "Validations\n"
     ]
    },
    {
     "name": "stdout",
     "output_type": "stream",
     "text": [
      "Survey\n"
     ]
    },
    {
     "name": "stdout",
     "output_type": "stream",
     "text": [
      "_pt\n",
      "['\\\\\\\\hecate\\\\Insurance_US\\\\Product Development\\\\Product Management\\\\Global PPM\\\\Reporting\\\\Data Collection\\\\Production\\\\2021.Q1\\\\live_sources\\\\us_orig_pt_05202021121055.parquet']\n"
     ]
    },
    {
     "name": "stdout",
     "output_type": "stream",
     "text": [
      "_pt\n",
      "['\\\\\\\\hecate\\\\Insurance_US\\\\Product Development\\\\Product Management\\\\Global PPM\\\\Reporting\\\\Data Collection\\\\Production\\\\2021.Q1\\\\live_sources\\\\us_dat_pt_05202021121056.parquet']\n"
     ]
    },
    {
     "name": "stdout",
     "output_type": "stream",
     "text": [
      "_pt\n",
      "['\\\\\\\\hecate\\\\Insurance_US\\\\Product Development\\\\Product Management\\\\Global PPM\\\\Reporting\\\\Data Collection\\\\Production\\\\2021.Q1\\\\live_sources\\\\us_vcomments_pt_05202021121056.parquet']\n"
     ]
    },
    {
     "name": "stdout",
     "output_type": "stream",
     "text": [
      "_pt\n",
      "['\\\\\\\\hecate\\\\Insurance_US\\\\Product Development\\\\Product Management\\\\Global PPM\\\\Reporting\\\\Data Collection\\\\Production\\\\2021.Q1\\\\live_sources\\\\us_survey_pt_05202021121304.parquet']\n"
     ]
    },
    {
     "name": "stdout",
     "output_type": "stream",
     "text": [
      "Original Data Set\n"
     ]
    },
    {
     "name": "stdout",
     "output_type": "stream",
     "text": [
      "Final Data Set\n"
     ]
    },
    {
     "name": "stdout",
     "output_type": "stream",
     "text": [
      "Validations\n"
     ]
    },
    {
     "name": "stdout",
     "output_type": "stream",
     "text": [
      "Survey\n"
     ]
    }
   ],
   "source": [
    "\n",
    "datafiles = [ \"us_orig\", \"us_dat\", \"us_vcomment\", \"us_survey\", ]\n",
    "latest_data_sets = []\n",
    "\n",
    "for b in BU_list:\n",
    "    for i in datafiles:\n",
    "        \n",
    "        print(f\"_{b.lower()}\")\n",
    "        list_files = list(filter(lambda x: f\"{i}\" in  x and f\"_{b.lower()}\" in  x  , files_sources))  \n",
    "        print(list_files)\n",
    "        recent_vers = max(list_files, key=os.path.getctime)\n",
    "        try:\n",
    "            latest_data_sets.append([f'{i}',pd.read_json(recent_vers, orient=\"table\")])\n",
    "\n",
    "        except UnicodeDecodeError:\n",
    "            latest_data_sets.append([f'{i}',pd.read_parquet(recent_vers, engine=\"pyarrow\")])\n",
    "\n",
    "    data_set_dict = {}\n",
    "    data_set_dict[\"Original Data Set\"] = latest_data_sets[0][1]\n",
    "    data_set_dict[\"Final Data Set\"] = latest_data_sets[1][1]\n",
    "    data_set_dict[\"Validations\"] = latest_data_sets[2][1]\n",
    "    data_set_dict[\"Survey\"] = latest_data_sets[3][1].T.reset_index().rename(columns={'index':'Question Name', 0 :'Selection', 1:'Optional Response',2:'timestamp'})\n",
    "\n",
    "    nl.to_excel_ms(dfs=data_set_dict, filename=os.path.join(rep_path, f'Survey and Comments_{b}.xlsx'))\n"
   ]
  },
  {
   "cell_type": "code",
   "execution_count": 13,
   "id": "48045f72",
   "metadata": {
    "execution": {
     "iopub.execute_input": "2021-05-26T15:16:54.499737Z",
     "iopub.status.busy": "2021-05-26T15:16:54.496737Z",
     "iopub.status.idle": "2021-05-26T15:16:54.501742Z",
     "shell.execute_reply": "2021-05-26T15:16:54.498736Z"
    },
    "papermill": {
     "duration": 0.45946,
     "end_time": "2021-05-26T15:16:54.501742",
     "exception": false,
     "start_time": "2021-05-26T15:16:54.042282",
     "status": "completed"
    },
    "tags": []
   },
   "outputs": [],
   "source": [
    "### Open the folder with the documents saved"
   ]
  },
  {
   "cell_type": "code",
   "execution_count": 14,
   "id": "6fea25e5",
   "metadata": {
    "execution": {
     "iopub.execute_input": "2021-05-26T15:16:55.331312Z",
     "iopub.status.busy": "2021-05-26T15:16:55.330313Z",
     "iopub.status.idle": "2021-05-26T15:16:55.732399Z",
     "shell.execute_reply": "2021-05-26T15:16:55.735399Z"
    },
    "papermill": {
     "duration": 0.840616,
     "end_time": "2021-05-26T15:16:55.735399",
     "exception": false,
     "start_time": "2021-05-26T15:16:54.894783",
     "status": "completed"
    },
    "tags": []
   },
   "outputs": [],
   "source": [
    "os.startfile(rep_path)"
   ]
  },
  {
   "cell_type": "code",
   "execution_count": null,
   "id": "1afe3a8d",
   "metadata": {
    "papermill": {
     "duration": 0.429124,
     "end_time": "2021-05-26T15:16:56.590400",
     "exception": false,
     "start_time": "2021-05-26T15:16:56.161276",
     "status": "completed"
    },
    "tags": []
   },
   "outputs": [],
   "source": []
  }
 ],
 "metadata": {
  "celltoolbar": "Tags",
  "kernelspec": {
   "display_name": "Python 3",
   "language": "python",
   "name": "python3"
  },
  "language_info": {
   "codemirror_mode": {
    "name": "ipython",
    "version": 3
   },
   "file_extension": ".py",
   "mimetype": "text/x-python",
   "name": "python",
   "nbconvert_exporter": "python",
   "pygments_lexer": "ipython3",
   "version": "3.7.6"
  },
  "papermill": {
   "default_parameters": {},
   "duration": 138.106742,
   "end_time": "2021-05-26T15:16:57.582666",
   "environment_variables": {},
   "exception": null,
   "input_path": "reporting/Make Survey and Comments Reports.ipynb",
   "output_path": "//hecate/Insurance_US/Product Development/Product Management/Global PPM/Reporting/Data Collection/Pipeline Reporting Scripts/GPMpipeline/instances/2021.Q1\\reporting\\Make Survey and Comments Reports05262021110640--Aus Problem.ipynb",
   "parameters": {
    "commit_message": "New AUS needed to be converted from json",
    "inst_datetime": "05262021110640",
    "percode": "2021.Q1",
    "run_control": 1
   },
   "start_time": "2021-05-26T15:14:39.475924",
   "version": "2.3.3"
  }
 },
 "nbformat": 4,
 "nbformat_minor": 5
}