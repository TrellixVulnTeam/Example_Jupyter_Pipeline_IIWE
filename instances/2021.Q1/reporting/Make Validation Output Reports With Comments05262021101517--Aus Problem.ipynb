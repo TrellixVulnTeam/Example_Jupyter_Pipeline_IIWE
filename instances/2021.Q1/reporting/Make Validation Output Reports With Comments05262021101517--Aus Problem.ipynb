{
 "cells": [
  {
   "cell_type": "markdown",
   "id": "cd41c92e",
   "metadata": {
    "papermill": {
     "duration": 0.281649,
     "end_time": "2021-05-26T14:36:18.309095",
     "exception": false,
     "start_time": "2021-05-26T14:36:18.027446",
     "status": "completed"
    },
    "tags": []
   },
   "source": [
    "<img src=\"../images/AzPTravel_PPM.png\">"
   ]
  },
  {
   "cell_type": "markdown",
   "id": "90fc7263",
   "metadata": {
    "papermill": {
     "duration": 0.231521,
     "end_time": "2021-05-26T14:36:18.785248",
     "exception": false,
     "start_time": "2021-05-26T14:36:18.553727",
     "status": "completed"
    },
    "tags": []
   },
   "source": [
    "## Validation Report Creation Script\n",
    "\n",
    "#### This script reads the output of the \"us_vdf*\" and \"us_vcomments*\" data files and summarizes  them into a report: Validations Review _{BU}.xlsx\n",
    "\n",
    "#### When finished, it will be able to be run on its own or as part of the pipeline wherever called (ie from a papermill script or other user inteface).\n"
   ]
  },
  {
   "cell_type": "markdown",
   "id": "6ec00721",
   "metadata": {
    "papermill": {
     "duration": 0.268996,
     "end_time": "2021-05-26T14:36:19.308742",
     "exception": false,
     "start_time": "2021-05-26T14:36:19.039746",
     "status": "completed"
    },
    "tags": []
   },
   "source": [
    "### User Variables\n",
    "- These are overwritten if inherited from run_control.ipynb.\n",
    "- Feel Free to reset them for a manual run if you like\n",
    "- Do not save without percode = \"-f\""
   ]
  },
  {
   "cell_type": "code",
   "execution_count": 1,
   "id": "244fd59f",
   "metadata": {
    "execution": {
     "iopub.execute_input": "2021-05-26T14:36:19.873310Z",
     "iopub.status.busy": "2021-05-26T14:36:19.869312Z",
     "iopub.status.idle": "2021-05-26T14:36:19.879313Z",
     "shell.execute_reply": "2021-05-26T14:36:19.908309Z"
    },
    "papermill": {
     "duration": 0.313,
     "end_time": "2021-05-26T14:36:19.909309",
     "exception": false,
     "start_time": "2021-05-26T14:36:19.596309",
     "status": "completed"
    },
    "tags": [
     "parameters"
    ]
   },
   "outputs": [],
   "source": [
    "commit_message = \"Development and testing.\"\n",
    "# Give a brief reason for the run.\n",
    "\n",
    "run_control = 1\n",
    "#run_type = 0 - Lite run with no reporting, not recommended.\n",
    "#run_type = 1 - Lite run with normal reporting, default setting.\n",
    "#run_type = 2 - Heavy run with full reporting, available for audits and troubleshooting.\n",
    "#run_type = 5 - A default setting. Indicates the script is being run by an outside process without an inherited value\n",
    "\n",
    "percode = \"2021.Q1\"\n",
    "# Data Collection Code, this controls file paths and output names\n",
    "# \"-f\" is the value indicating a bad inheritance from run with arg\n",
    "\n",
    "s_format = \"p\"\n",
    "# denotes the source data format x == Excel; j == json, p == parquet\n",
    "\n",
    "#----------\n",
    "# do not edit - this either inherits the full instance timestamp from the papermill book or captures the run time of this script.\n",
    "from datetime import datetime  # datetime options\n",
    "inst_datetime = datetime.now().strftime(\"%m%d%Y%H%M%S\")"
   ]
  },
  {
   "cell_type": "code",
   "execution_count": 2,
   "id": "e92063fd",
   "metadata": {
    "execution": {
     "iopub.execute_input": "2021-05-26T14:36:20.409811Z",
     "iopub.status.busy": "2021-05-26T14:36:20.405801Z",
     "iopub.status.idle": "2021-05-26T14:36:20.415800Z",
     "shell.execute_reply": "2021-05-26T14:36:20.417800Z"
    },
    "papermill": {
     "duration": 0.249308,
     "end_time": "2021-05-26T14:36:20.417800",
     "exception": false,
     "start_time": "2021-05-26T14:36:20.168492",
     "status": "completed"
    },
    "tags": [
     "injected-parameters"
    ]
   },
   "outputs": [],
   "source": [
    "# Parameters\n",
    "run_control = 1\n",
    "percode = \"2021.Q1\"\n",
    "commit_message = \"New AUS needed to be converted from json\"\n",
    "inst_datetime = \"05262021101517\"\n"
   ]
  },
  {
   "cell_type": "markdown",
   "id": "e22858e8",
   "metadata": {
    "papermill": {
     "duration": 0.247954,
     "end_time": "2021-05-26T14:36:20.916158",
     "exception": false,
     "start_time": "2021-05-26T14:36:20.668204",
     "status": "completed"
    },
    "tags": []
   },
   "source": [
    "#### Notebook display options"
   ]
  },
  {
   "cell_type": "code",
   "execution_count": 3,
   "id": "ca9420b2",
   "metadata": {
    "execution": {
     "iopub.execute_input": "2021-05-26T14:36:21.541155Z",
     "iopub.status.busy": "2021-05-26T14:36:21.537157Z",
     "iopub.status.idle": "2021-05-26T14:36:21.548175Z",
     "shell.execute_reply": "2021-05-26T14:36:21.549157Z"
    },
    "papermill": {
     "duration": 0.313999,
     "end_time": "2021-05-26T14:36:21.549157",
     "exception": false,
     "start_time": "2021-05-26T14:36:21.235158",
     "status": "completed"
    },
    "tags": []
   },
   "outputs": [],
   "source": [
    "from IPython.core.interactiveshell import InteractiveShell\n",
    "InteractiveShell.ast_node_interactivity = \"all\""
   ]
  },
  {
   "cell_type": "markdown",
   "id": "929a536c",
   "metadata": {
    "papermill": {
     "duration": 0.273051,
     "end_time": "2021-05-26T14:36:22.095741",
     "exception": false,
     "start_time": "2021-05-26T14:36:21.822690",
     "status": "completed"
    },
    "tags": []
   },
   "source": [
    "#### import packages"
   ]
  },
  {
   "cell_type": "code",
   "execution_count": 4,
   "id": "87881d31",
   "metadata": {
    "execution": {
     "iopub.execute_input": "2021-05-26T14:36:22.686214Z",
     "iopub.status.busy": "2021-05-26T14:36:22.678211Z",
     "iopub.status.idle": "2021-05-26T14:36:38.290317Z",
     "shell.execute_reply": "2021-05-26T14:36:38.293321Z"
    },
    "papermill": {
     "duration": 15.901516,
     "end_time": "2021-05-26T14:36:38.293321",
     "exception": false,
     "start_time": "2021-05-26T14:36:22.391805",
     "status": "completed"
    },
    "tags": []
   },
   "outputs": [],
   "source": [
    "#### Packages used\n",
    "\n",
    "import os # System commands\n",
    "import sys # System commands\n",
    "\n",
    "import warnings # custom warnigns options\n",
    "\n",
    "import glob # Directory operations\n",
    "import getpass # Work with parquet\n",
    "import json # Work with json\n",
    "\n",
    "import matplotlib.pyplot as plt #Plots and Graphs\n",
    "import numpy as np # Series and math\n",
    "import pandas as pd #DataFrame and math\n",
    "\n",
    "#excel operations\n",
    "import re\n",
    "import nicexcel as nl # Excel operations\n",
    "import xlsxwriter # Excel operations\n",
    "import openpyxl # Excel operations\n"
   ]
  },
  {
   "cell_type": "markdown",
   "id": "5a247c51",
   "metadata": {
    "papermill": {
     "duration": 0.546384,
     "end_time": "2021-05-26T14:36:39.196286",
     "exception": false,
     "start_time": "2021-05-26T14:36:38.649902",
     "status": "completed"
    },
    "tags": []
   },
   "source": [
    "#### Default Variables, these govern logic, do not edit."
   ]
  },
  {
   "cell_type": "code",
   "execution_count": 5,
   "id": "5aeddde3",
   "metadata": {
    "execution": {
     "iopub.execute_input": "2021-05-26T14:36:39.793351Z",
     "iopub.status.busy": "2021-05-26T14:36:39.789344Z",
     "iopub.status.idle": "2021-05-26T14:36:39.799342Z",
     "shell.execute_reply": "2021-05-26T14:36:39.800352Z"
    },
    "papermill": {
     "duration": 0.297062,
     "end_time": "2021-05-26T14:36:39.801346",
     "exception": false,
     "start_time": "2021-05-26T14:36:39.504284",
     "status": "completed"
    },
    "tags": []
   },
   "outputs": [],
   "source": [
    "default_dc = \"20XX.QX\"\n",
    "default_rc = 0 #extra lite mode\n",
    "dummy_perc = \"33Q3\" # bad inheritance"
   ]
  },
  {
   "cell_type": "markdown",
   "id": "d157e3de",
   "metadata": {
    "papermill": {
     "duration": 0.546813,
     "end_time": "2021-05-26T14:36:40.648168",
     "exception": false,
     "start_time": "2021-05-26T14:36:40.101355",
     "status": "completed"
    },
    "tags": []
   },
   "source": [
    "#### Script determining run context ie, manual, run_control.ipynb, or other."
   ]
  },
  {
   "cell_type": "code",
   "execution_count": 6,
   "id": "27d837af",
   "metadata": {
    "execution": {
     "iopub.execute_input": "2021-05-26T14:36:41.331292Z",
     "iopub.status.busy": "2021-05-26T14:36:41.324288Z",
     "iopub.status.idle": "2021-05-26T14:36:41.337290Z",
     "shell.execute_reply": "2021-05-26T14:36:41.338288Z"
    },
    "papermill": {
     "duration": 0.320521,
     "end_time": "2021-05-26T14:36:41.338288",
     "exception": false,
     "start_time": "2021-05-26T14:36:41.017767",
     "status": "completed"
    },
    "tags": []
   },
   "outputs": [],
   "source": [
    "if run_control == 5:\n",
    "    run_control = default_rc \n",
    "else:\n",
    "    run_control = run_control\n",
    "\n",
    "try:\n",
    "    if sys.argv[1] == \"-f\":\n",
    "        percode = percode\n",
    "    else:\n",
    "        percode = sys.argv[1]\n",
    "\n",
    "except IndexError:\n",
    "    percode = default_dc\n",
    "except NameError:\n",
    "    percode = default_dc\n"
   ]
  },
  {
   "cell_type": "markdown",
   "id": "74ff5fee",
   "metadata": {
    "papermill": {
     "duration": 0.279004,
     "end_time": "2021-05-26T14:36:41.923821",
     "exception": false,
     "start_time": "2021-05-26T14:36:41.644817",
     "status": "completed"
    },
    "tags": []
   },
   "source": [
    "#### style settings"
   ]
  },
  {
   "cell_type": "code",
   "execution_count": 7,
   "id": "c13e9ca3",
   "metadata": {
    "execution": {
     "iopub.execute_input": "2021-05-26T14:36:42.531904Z",
     "iopub.status.busy": "2021-05-26T14:36:42.528919Z",
     "iopub.status.idle": "2021-05-26T14:36:42.538908Z",
     "shell.execute_reply": "2021-05-26T14:36:42.539915Z"
    },
    "papermill": {
     "duration": 0.292578,
     "end_time": "2021-05-26T14:36:42.539915",
     "exception": false,
     "start_time": "2021-05-26T14:36:42.247337",
     "status": "completed"
    },
    "tags": []
   },
   "outputs": [],
   "source": [
    "from IPython.core.interactiveshell import InteractiveShell\n",
    "InteractiveShell.ast_node_interactivity = \"all\""
   ]
  },
  {
   "cell_type": "markdown",
   "id": "e0593553",
   "metadata": {
    "papermill": {
     "duration": 0.389115,
     "end_time": "2021-05-26T14:36:43.284288",
     "exception": false,
     "start_time": "2021-05-26T14:36:42.895173",
     "status": "completed"
    },
    "tags": []
   },
   "source": [
    "\n",
    "## Begin Input Read\n",
    "- Make paths used in script\n",
    "- all paths should be modular and easily replaced ahead of operations."
   ]
  },
  {
   "cell_type": "code",
   "execution_count": 8,
   "id": "1604b6da",
   "metadata": {
    "execution": {
     "iopub.execute_input": "2021-05-26T14:36:43.963341Z",
     "iopub.status.busy": "2021-05-26T14:36:43.962340Z",
     "iopub.status.idle": "2021-05-26T14:36:43.971341Z",
     "shell.execute_reply": "2021-05-26T14:36:43.973342Z"
    },
    "papermill": {
     "duration": 0.326529,
     "end_time": "2021-05-26T14:36:43.973342",
     "exception": false,
     "start_time": "2021-05-26T14:36:43.646813",
     "status": "completed"
    },
    "tags": []
   },
   "outputs": [],
   "source": [
    "#root directory\n",
    "rt_path = f'//hecate/Insurance_US/Product Development/Product Management/Global PPM/Reporting/Data Collection/Production/{str(percode)}'\n",
    "#live sources directory\n",
    "ls_path = os.path.join( rt_path, 'live_sources')\n",
    "#report ouput dir\n",
    "rep_path = os.path.abspath(os.path.join(rt_path, '..','..',f\"{percode}\", 'Validation Reports'))\n",
    "#report ouput archive dir\n",
    "rep_arch_path = os.path.abspath(os.path.join(rep_path, '..','..',f\"{percode}\",  'Archive'))\n"
   ]
  },
  {
   "cell_type": "markdown",
   "id": "fa3a9972",
   "metadata": {
    "papermill": {
     "duration": 0.298516,
     "end_time": "2021-05-26T14:36:44.677091",
     "exception": false,
     "start_time": "2021-05-26T14:36:44.378575",
     "status": "completed"
    },
    "tags": []
   },
   "source": [
    "#### Make sources used in script\n",
    "- all sources should be modular and easily replaced ahead of operations."
   ]
  },
  {
   "cell_type": "code",
   "execution_count": 9,
   "id": "5e6f16c7",
   "metadata": {
    "execution": {
     "iopub.execute_input": "2021-05-26T14:36:45.371534Z",
     "iopub.status.busy": "2021-05-26T14:36:45.369533Z",
     "iopub.status.idle": "2021-05-26T14:36:45.382537Z",
     "shell.execute_reply": "2021-05-26T14:36:45.383547Z"
    },
    "papermill": {
     "duration": 0.367881,
     "end_time": "2021-05-26T14:36:45.384537",
     "exception": false,
     "start_time": "2021-05-26T14:36:45.016656",
     "status": "completed"
    },
    "tags": []
   },
   "outputs": [],
   "source": [
    "rep_xls = os.path.join(rep_path ,\"Validations Review_xx.xlsx\"   )"
   ]
  },
  {
   "cell_type": "markdown",
   "id": "e61b4671",
   "metadata": {
    "papermill": {
     "duration": 0.479003,
     "end_time": "2021-05-26T14:36:46.309534",
     "exception": false,
     "start_time": "2021-05-26T14:36:45.830531",
     "status": "completed"
    },
    "tags": []
   },
   "source": [
    "#### Get a list of only source files in the path that start with \"us_dat\".\n",
    "#### Logic determines the source file types.\n",
    "\n",
    "#### User instructions:\n",
    "- Make sure that you have 1 file per source in this folder.\n",
    "    -  For instance, do not have two files for Portugal. If there is an update, archive the old one.\n",
    "- Do not overwrite files in the archive.\n",
    "    - Rename newly archived files, no strict convention, we keep track of these by the modified date.\n",
    "- It is ok to have multiple sources in one file."
   ]
  },
  {
   "cell_type": "code",
   "execution_count": 10,
   "id": "d6ff8801",
   "metadata": {
    "execution": {
     "iopub.execute_input": "2021-05-26T14:36:47.132258Z",
     "iopub.status.busy": "2021-05-26T14:36:47.125235Z",
     "iopub.status.idle": "2021-05-26T14:36:47.149768Z",
     "shell.execute_reply": "2021-05-26T14:36:47.150777Z"
    },
    "papermill": {
     "duration": 0.349134,
     "end_time": "2021-05-26T14:36:47.151771",
     "exception": false,
     "start_time": "2021-05-26T14:36:46.802637",
     "status": "completed"
    },
    "tags": []
   },
   "outputs": [
    {
     "data": {
      "text/plain": [
       "['us_dat_au_05142021143612.parquet',\n",
       " 'us_dat_ca_05202021134242.parquet',\n",
       " 'us_dat_ch_05182021192455.parquet',\n",
       " 'us_dat_cz_05262021090243.parquet',\n",
       " 'us_dat_es_05202021105141.parquet',\n",
       " 'us_dat_gr_05252021115404.parquet',\n",
       " 'us_dat_it_05242021111520.parquet',\n",
       " 'us_dat_pl_05262021084450.parquet',\n",
       " 'us_dat_pt_05202021121056.parquet',\n",
       " 'us_orig_au_05142021143611.json',\n",
       " 'us_survey_au_02172021174808.parquet',\n",
       " 'us_survey_au_05142021143750.parquet',\n",
       " 'us_survey_ca_05202021135610.parquet',\n",
       " 'us_survey_ch_05182021192905.parquet',\n",
       " 'us_survey_cz_05262021090440.parquet',\n",
       " 'us_survey_es_05202021105431.parquet',\n",
       " 'us_survey_gr_05252021115827.parquet',\n",
       " 'us_survey_it_05242021111759.parquet',\n",
       " 'us_survey_pl_05262021084708.parquet',\n",
       " 'us_survey_pt_05202021121304.parquet',\n",
       " 'us_vcomments_au_02172021174434.parquet',\n",
       " 'us_vcomments_au_02172021174440.parquet',\n",
       " 'us_vcomments_au_05142021143612.parquet',\n",
       " 'us_vcomments_au_05142021143617.parquet',\n",
       " 'us_vcomments_au_mnual_creation.parquet',\n",
       " 'us_vcomments_ca_05202021134242.parquet',\n",
       " 'us_vcomments_ch_05182021192455.parquet',\n",
       " 'us_vcomments_ch_05182021192456.parquet',\n",
       " 'us_vcomments_cz_05242021103837.parquet',\n",
       " 'us_vcomments_cz_05262021090243.parquet',\n",
       " 'us_vcomments_es_05202021105141.parquet',\n",
       " 'us_vcomments_es_05202021105142.parquet',\n",
       " 'us_vcomments_gr_05252021115404.parquet',\n",
       " 'us_vcomments_it_05242021111521.parquet',\n",
       " 'us_vcomments_pl_05262021084450.parquet',\n",
       " 'us_vcomments_pt_05202021121056.parquet',\n",
       " 'us_vdf_au_05142021143613.json',\n",
       " 'us_vdf_ca_05202021134242.json',\n",
       " 'us_vdf_ch_05182021192456.json',\n",
       " 'us_vdf_cz_05242021103837.json',\n",
       " 'us_vdf_cz_05262021090243.json',\n",
       " 'us_vdf_es_05202021105142.json',\n",
       " 'us_vdf_gr_05252021115404.json',\n",
       " 'us_vdf_it_05242021111521.json',\n",
       " 'us_vdf_pl_05262021084450.json',\n",
       " 'us_vdf_pt_05202021121056.json']"
      ]
     },
     "execution_count": 10,
     "metadata": {},
     "output_type": "execute_result"
    }
   ],
   "source": [
    "files = os.listdir(ls_path)\n",
    "files = [files.lower() for files in files]\n",
    "\n",
    "files_sour = [f for f in files if f[-5:]  == '.json' or  f[-8:] == '.parquet' and f[:7] != 'us_orig']\n",
    "\n",
    "files_sour"
   ]
  },
  {
   "cell_type": "markdown",
   "id": "9d79db32",
   "metadata": {
    "papermill": {
     "duration": 0.561996,
     "end_time": "2021-05-26T14:36:48.079406",
     "exception": false,
     "start_time": "2021-05-26T14:36:47.517410",
     "status": "completed"
    },
    "tags": []
   },
   "source": [
    "#### Make a list of BUs that have comments available"
   ]
  },
  {
   "cell_type": "code",
   "execution_count": 11,
   "id": "7f8ccd38",
   "metadata": {
    "execution": {
     "iopub.execute_input": "2021-05-26T14:36:48.604989Z",
     "iopub.status.busy": "2021-05-26T14:36:48.590000Z",
     "iopub.status.idle": "2021-05-26T14:36:48.621980Z",
     "shell.execute_reply": "2021-05-26T14:36:48.623980Z"
    },
    "papermill": {
     "duration": 0.289048,
     "end_time": "2021-05-26T14:36:48.623980",
     "exception": false,
     "start_time": "2021-05-26T14:36:48.334932",
     "status": "completed"
    },
    "tags": []
   },
   "outputs": [
    {
     "data": {
      "text/plain": [
       "['//hecate/Insurance_US/Product Development/Product Management/Global PPM/Reporting/Data Collection/Production/2021.Q1\\\\live_sources\\\\us_vcomments_AU_02172021174434.parquet',\n",
       " '//hecate/Insurance_US/Product Development/Product Management/Global PPM/Reporting/Data Collection/Production/2021.Q1\\\\live_sources\\\\us_vcomments_AU_02172021174440.parquet',\n",
       " '//hecate/Insurance_US/Product Development/Product Management/Global PPM/Reporting/Data Collection/Production/2021.Q1\\\\live_sources\\\\us_vcomments_AU_05142021143612.parquet',\n",
       " '//hecate/Insurance_US/Product Development/Product Management/Global PPM/Reporting/Data Collection/Production/2021.Q1\\\\live_sources\\\\us_vcomments_AU_05142021143617.parquet',\n",
       " '//hecate/Insurance_US/Product Development/Product Management/Global PPM/Reporting/Data Collection/Production/2021.Q1\\\\live_sources\\\\us_vcomments_AU_mnual_creation.parquet',\n",
       " '//hecate/Insurance_US/Product Development/Product Management/Global PPM/Reporting/Data Collection/Production/2021.Q1\\\\live_sources\\\\us_vcomments_CA_05202021134242.parquet',\n",
       " '//hecate/Insurance_US/Product Development/Product Management/Global PPM/Reporting/Data Collection/Production/2021.Q1\\\\live_sources\\\\us_vcomments_CH_05182021192455.parquet',\n",
       " '//hecate/Insurance_US/Product Development/Product Management/Global PPM/Reporting/Data Collection/Production/2021.Q1\\\\live_sources\\\\us_vcomments_CH_05182021192456.parquet',\n",
       " '//hecate/Insurance_US/Product Development/Product Management/Global PPM/Reporting/Data Collection/Production/2021.Q1\\\\live_sources\\\\us_vcomments_CZ_05242021103837.parquet',\n",
       " '//hecate/Insurance_US/Product Development/Product Management/Global PPM/Reporting/Data Collection/Production/2021.Q1\\\\live_sources\\\\us_vcomments_CZ_05262021090243.parquet',\n",
       " '//hecate/Insurance_US/Product Development/Product Management/Global PPM/Reporting/Data Collection/Production/2021.Q1\\\\live_sources\\\\us_vcomments_ES_05202021105141.parquet',\n",
       " '//hecate/Insurance_US/Product Development/Product Management/Global PPM/Reporting/Data Collection/Production/2021.Q1\\\\live_sources\\\\us_vcomments_ES_05202021105142.parquet',\n",
       " '//hecate/Insurance_US/Product Development/Product Management/Global PPM/Reporting/Data Collection/Production/2021.Q1\\\\live_sources\\\\us_vcomments_GR_05252021115404.parquet',\n",
       " '//hecate/Insurance_US/Product Development/Product Management/Global PPM/Reporting/Data Collection/Production/2021.Q1\\\\live_sources\\\\us_vcomments_IT_05242021111521.parquet',\n",
       " '//hecate/Insurance_US/Product Development/Product Management/Global PPM/Reporting/Data Collection/Production/2021.Q1\\\\live_sources\\\\us_vcomments_PL_05262021084450.parquet',\n",
       " '//hecate/Insurance_US/Product Development/Product Management/Global PPM/Reporting/Data Collection/Production/2021.Q1\\\\live_sources\\\\us_vcomments_PT_05202021121056.parquet']"
      ]
     },
     "execution_count": 11,
     "metadata": {},
     "output_type": "execute_result"
    }
   ],
   "source": [
    "list_jfiles = glob.glob(os.path.join(ls_path, 'us_vcomments_*.json'))\n",
    "list_pfiles = glob.glob(os.path.join(ls_path, 'us_vcomments_*.parquet'))\n",
    "\n",
    "list_files = []\n",
    "    \n",
    "for i in list_jfiles : list_files.append(i)    \n",
    "for i in list_pfiles : list_files.append(i)\n",
    "\n",
    "\n",
    "for idx, i in enumerate(list_jfiles):\n",
    "    list_jfiles[idx] = list_jfiles[idx][-23:-19]\n",
    "    list_jfiles[idx] = list_jfiles[idx].replace('_','')\n",
    "\n",
    "for idx, i in enumerate(list_pfiles):\n",
    "    list_pfiles[idx] = list_pfiles[idx][-26:-22]\n",
    "    list_pfiles[idx] = list_pfiles[idx].replace('_','')\n",
    "\n",
    "list_bus = []\n",
    "    \n",
    "for i in list_jfiles : list_bus.append(i)    \n",
    "for i in list_pfiles : list_bus.append(i)\n",
    "\n",
    "\n",
    "BU_set = set(list_bus)\n",
    "BU_list = list(BU_set)\n",
    "\n",
    "list_files\n"
   ]
  },
  {
   "cell_type": "code",
   "execution_count": 12,
   "id": "1405c0b5",
   "metadata": {
    "execution": {
     "iopub.execute_input": "2021-05-26T14:36:49.328251Z",
     "iopub.status.busy": "2021-05-26T14:36:49.309249Z",
     "iopub.status.idle": "2021-05-26T14:37:38.764376Z",
     "shell.execute_reply": "2021-05-26T14:37:38.766373Z"
    },
    "papermill": {
     "duration": 49.831186,
     "end_time": "2021-05-26T14:37:38.767375",
     "exception": false,
     "start_time": "2021-05-26T14:36:48.936189",
     "status": "completed"
    },
    "pycharm": {
     "name": "#%%\n"
    },
    "tags": []
   },
   "outputs": [
    {
     "name": "stdout",
     "output_type": "stream",
     "text": [
      "['//hecate/Insurance_US/Product Development/Product Management/Global PPM/Reporting/Data Collection/Production/2021.Q1\\\\live_sources\\\\us_vcomments_AU_02172021174434.parquet', '//hecate/Insurance_US/Product Development/Product Management/Global PPM/Reporting/Data Collection/Production/2021.Q1\\\\live_sources\\\\us_vcomments_AU_02172021174440.parquet', '//hecate/Insurance_US/Product Development/Product Management/Global PPM/Reporting/Data Collection/Production/2021.Q1\\\\live_sources\\\\us_vcomments_AU_05142021143612.parquet', '//hecate/Insurance_US/Product Development/Product Management/Global PPM/Reporting/Data Collection/Production/2021.Q1\\\\live_sources\\\\us_vcomments_AU_05142021143617.parquet', '//hecate/Insurance_US/Product Development/Product Management/Global PPM/Reporting/Data Collection/Production/2021.Q1\\\\live_sources\\\\us_vcomments_AU_mnual_creation.parquet']\n"
     ]
    },
    {
     "name": "stdout",
     "output_type": "stream",
     "text": [
      "['//hecate/Insurance_US/Product Development/Product Management/Global PPM/Reporting/Data Collection/Production/2021.Q1\\\\live_sources\\\\us_vcomments_CA_05202021134242.parquet']\n"
     ]
    },
    {
     "name": "stdout",
     "output_type": "stream",
     "text": [
      "['//hecate/Insurance_US/Product Development/Product Management/Global PPM/Reporting/Data Collection/Production/2021.Q1\\\\live_sources\\\\us_vcomments_CH_05182021192455.parquet', '//hecate/Insurance_US/Product Development/Product Management/Global PPM/Reporting/Data Collection/Production/2021.Q1\\\\live_sources\\\\us_vcomments_CH_05182021192456.parquet']\n"
     ]
    },
    {
     "name": "stdout",
     "output_type": "stream",
     "text": [
      "['//hecate/Insurance_US/Product Development/Product Management/Global PPM/Reporting/Data Collection/Production/2021.Q1\\\\live_sources\\\\us_vcomments_IT_05242021111521.parquet']\n"
     ]
    },
    {
     "name": "stdout",
     "output_type": "stream",
     "text": [
      "['//hecate/Insurance_US/Product Development/Product Management/Global PPM/Reporting/Data Collection/Production/2021.Q1\\\\live_sources\\\\us_vcomments_PL_05262021084450.parquet']\n"
     ]
    },
    {
     "name": "stdout",
     "output_type": "stream",
     "text": [
      "New BU PL\n"
     ]
    },
    {
     "name": "stdout",
     "output_type": "stream",
     "text": [
      "['//hecate/Insurance_US/Product Development/Product Management/Global PPM/Reporting/Data Collection/Production/2021.Q1\\\\live_sources\\\\us_vcomments_CZ_05242021103837.parquet', '//hecate/Insurance_US/Product Development/Product Management/Global PPM/Reporting/Data Collection/Production/2021.Q1\\\\live_sources\\\\us_vcomments_CZ_05262021090243.parquet']\n"
     ]
    },
    {
     "name": "stdout",
     "output_type": "stream",
     "text": [
      "['//hecate/Insurance_US/Product Development/Product Management/Global PPM/Reporting/Data Collection/Production/2021.Q1\\\\live_sources\\\\us_vcomments_ES_05202021105141.parquet', '//hecate/Insurance_US/Product Development/Product Management/Global PPM/Reporting/Data Collection/Production/2021.Q1\\\\live_sources\\\\us_vcomments_ES_05202021105142.parquet']\n"
     ]
    },
    {
     "name": "stdout",
     "output_type": "stream",
     "text": [
      "['//hecate/Insurance_US/Product Development/Product Management/Global PPM/Reporting/Data Collection/Production/2021.Q1\\\\live_sources\\\\us_vcomments_GR_05252021115404.parquet']\n"
     ]
    },
    {
     "name": "stdout",
     "output_type": "stream",
     "text": [
      "['//hecate/Insurance_US/Product Development/Product Management/Global PPM/Reporting/Data Collection/Production/2021.Q1\\\\live_sources\\\\us_vcomments_PT_05202021121056.parquet']\n"
     ]
    }
   ],
   "source": [
    "\n",
    "datafiles = [  \"us_vcomment\", \"us_vdf\" ]\n",
    "\n",
    "\n",
    "for idx, b in enumerate(BU_list):\n",
    "\n",
    "    list_files_a = []\n",
    "    latest_valcomments = []\n",
    "    list_files_a = list(filter(lambda x: \"us_vcomments\" in  x and f\"_{b}\" in  x , list_files))\n",
    "\n",
    "    print(list_files_a)\n",
    "    recent_vers_a = max(list_files_a, key=os.path.getctime)\n",
    "    try:\n",
    "        latest_valcomments.append([f'us_vcomment',pd.read_json(recent_vers_a, orient=\"table\")])\n",
    "    except UnicodeDecodeError:\n",
    "        latest_valcomments.append([f'us_vcomment',pd.read_parquet(recent_vers_a, engine=\"pyarrow\")])\n",
    "\n",
    "    list_files_b = glob.glob(os.path.join(ls_path, f'us_vdf_{BU_list[idx]}*.json'))\n",
    "    recent_vers_b = max(list_files_b, key=os.path.getctime)\n",
    "\n",
    "    with open(recent_vers_b, 'r') as fp:\n",
    "        data_dict = json.load(fp)\n",
    "    latest_vdfdata_sets = { key: pd.DataFrame(data_dict[key]) for key in data_dict  }\n",
    "\n",
    "    valcomm_dict = {}\n",
    "    valdf_dict = {}\n",
    "    valcomdf = []\n",
    "    valcomdf = pd.DataFrame(latest_valcomments[0][1])\n",
    "\n",
    "    for idx2, row in valcomdf.iterrows():\n",
    "\n",
    "        valname = row[\"Validation Rule\"][0:25]\n",
    "        sheetname = valname + '-' + str(idx2)\n",
    "        valcomm_dict[\"{0}\".format(sheetname)] = pd.DataFrame(row).reindex()\n",
    "        try:\n",
    "            valdf_dict[sheetname] = data_dict[str(idx2)]\n",
    "        except KeyError:\n",
    "            pass\n",
    "        \n",
    "    writer = pd.ExcelWriter(rep_xls, engine='xlsxwriter')\n",
    "    \n",
    "    for i, j  in zip(valdf_dict,valcomm_dict ):\n",
    "        valdf_dict[i] = pd.DataFrame(valdf_dict[i])\n",
    "        valdf_dict[i].index.name = 'Row Number'\n",
    "        valcomm_dict[i].to_excel(writer, sheet_name=i,header=False, startrow=0, startcol=0)\n",
    "        valdf_dict[i].to_excel(writer, sheet_name= i , startrow=10, startcol=0)\n",
    "    \n",
    "    fin_name = rep_xls.replace(\"_xx\",f\"_{BU_list[idx]}\")\n",
    "    arch_name = fin_name.replace(f\"Validations Review_{BU_list[idx]}\",f\"\\Archive\\Validations Review_{BU_list[idx]}{inst_datetime}\")\n",
    "    \n",
    "    try:\n",
    "        os.remove(arch_name)\n",
    "    except FileNotFoundError:\n",
    "        pass\n",
    "    try:\n",
    "        os.rename(fin_name, arch_name )\n",
    "    except FileNotFoundError:\n",
    "        print(f\"New BU {BU_list[idx]}\")\n",
    "        pass\n",
    "\n",
    "    writer.save()\n",
    "    os.rename(rep_xls,rep_xls.replace(\"_xx\",f\"_{BU_list[idx]}\"))\n"
   ]
  },
  {
   "cell_type": "code",
   "execution_count": 13,
   "id": "a1e79459",
   "metadata": {
    "execution": {
     "iopub.execute_input": "2021-05-26T14:37:41.460118Z",
     "iopub.status.busy": "2021-05-26T14:37:41.457112Z",
     "iopub.status.idle": "2021-05-26T14:37:41.466111Z",
     "shell.execute_reply": "2021-05-26T14:37:41.468114Z"
    },
    "papermill": {
     "duration": 0.302003,
     "end_time": "2021-05-26T14:37:41.468114",
     "exception": false,
     "start_time": "2021-05-26T14:37:41.166111",
     "status": "completed"
    },
    "tags": []
   },
   "outputs": [],
   "source": [
    "### Open the folder with the documents saved"
   ]
  },
  {
   "cell_type": "code",
   "execution_count": 14,
   "id": "93c5db7f",
   "metadata": {
    "execution": {
     "iopub.execute_input": "2021-05-26T14:37:42.230466Z",
     "iopub.status.busy": "2021-05-26T14:37:42.227848Z",
     "iopub.status.idle": "2021-05-26T14:37:42.598777Z",
     "shell.execute_reply": "2021-05-26T14:37:42.601781Z"
    },
    "papermill": {
     "duration": 0.690549,
     "end_time": "2021-05-26T14:37:42.601781",
     "exception": false,
     "start_time": "2021-05-26T14:37:41.911232",
     "status": "completed"
    },
    "tags": []
   },
   "outputs": [],
   "source": [
    "os.startfile(rep_path)"
   ]
  },
  {
   "cell_type": "code",
   "execution_count": null,
   "id": "8a0e1918",
   "metadata": {
    "papermill": {
     "duration": 0.393991,
     "end_time": "2021-05-26T14:37:43.358694",
     "exception": false,
     "start_time": "2021-05-26T14:37:42.964703",
     "status": "completed"
    },
    "tags": []
   },
   "outputs": [],
   "source": []
  }
 ],
 "metadata": {
  "celltoolbar": "Tags",
  "kernelspec": {
   "display_name": "Python 3",
   "language": "python",
   "name": "python3"
  },
  "language_info": {
   "codemirror_mode": {
    "name": "ipython",
    "version": 3
   },
   "file_extension": ".py",
   "mimetype": "text/x-python",
   "name": "python",
   "nbconvert_exporter": "python",
   "pygments_lexer": "ipython3",
   "version": "3.7.6"
  },
  "papermill": {
   "default_parameters": {},
   "duration": 112.930003,
   "end_time": "2021-05-26T14:37:45.470720",
   "environment_variables": {},
   "exception": null,
   "input_path": "reporting/Make Validation Output Reports With Comments.ipynb",
   "output_path": "//hecate/Insurance_US/Product Development/Product Management/Global PPM/Reporting/Data Collection/Pipeline Reporting Scripts/GPMpipeline/instances/2021.Q1\\reporting\\Make Validation Output Reports With Comments05262021101517--Aus Problem.ipynb",
   "parameters": {
    "commit_message": "New AUS needed to be converted from json",
    "inst_datetime": "05262021101517",
    "percode": "2021.Q1",
    "run_control": 1
   },
   "start_time": "2021-05-26T14:35:52.540717",
   "version": "2.3.3"
  }
 },
 "nbformat": 4,
 "nbformat_minor": 5
}