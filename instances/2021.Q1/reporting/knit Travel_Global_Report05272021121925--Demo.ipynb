{
 "cells": [
  {
   "cell_type": "markdown",
   "id": "918ac5aa",
   "metadata": {
    "tags": [
     "papermill-error-cell-tag"
    ]
   },
   "source": [
    "<span style=\"color:red; font-family:Helvetica Neue, Helvetica, Arial, sans-serif; font-size:2em;\">An Exception was encountered at '<a href=\"#papermill-error-cell\">In [6]</a>'.</span>"
   ]
  },
  {
   "cell_type": "markdown",
   "id": "681cc3d3",
   "metadata": {
    "papermill": {
     "duration": 0.180992,
     "end_time": "2021-05-27T17:11:04.971245",
     "exception": false,
     "start_time": "2021-05-27T17:11:04.790253",
     "status": "completed"
    },
    "tags": []
   },
   "source": [
    "<img src=\"../images/AzPTravel_PPM.png\">"
   ]
  },
  {
   "cell_type": "markdown",
   "id": "5967b079",
   "metadata": {
    "papermill": {
     "duration": 0.367772,
     "end_time": "2021-05-27T17:11:05.561606",
     "exception": false,
     "start_time": "2021-05-27T17:11:05.193834",
     "status": "completed"
    },
    "tags": []
   },
   "source": [
    "## Knit Travel Global Report\n",
    "\n",
    "#### This script exectutes the RMD that knits the Travel Global Report\n",
    "\n",
    "#### This can be run on its own or as part of the pipeline wherever called (ie from a papermill script or other user interface)."
   ]
  },
  {
   "cell_type": "code",
   "execution_count": 1,
   "id": "f9a611eb",
   "metadata": {
    "execution": {
     "iopub.execute_input": "2021-05-27T17:11:06.658327Z",
     "iopub.status.busy": "2021-05-27T17:11:06.651325Z",
     "iopub.status.idle": "2021-05-27T17:11:06.948391Z",
     "shell.execute_reply": "2021-05-27T17:11:06.944404Z"
    },
    "papermill": {
     "duration": 0.913791,
     "end_time": "2021-05-27T17:11:06.949397",
     "exception": false,
     "start_time": "2021-05-27T17:11:06.035606",
     "status": "completed"
    },
    "tags": [
     "parameters"
    ]
   },
   "outputs": [],
   "source": [
    "\n",
    "commit_message <- \"Development and testing.\"\n",
    "# Give a brief reason for the run.\n",
    "\n",
    "run_control <- 1\n",
    "#run_type = 0 - Lite run with no reporting, not recommended.\n",
    "#run_type = 1 - Lite run with normal reporting, default setting.\n",
    "#run_type = 2 - Heavy run with full reporting, available for audits and troubleshooting.\n",
    "#run_type = 5 - A default setting. Indicates the script is being run by an outside process without an inherited value\n",
    "\n",
    "percode <- \"2021.Q1\"\n",
    "# Data Collection Code, this controls file paths and output names\n",
    "# \"-f\" is the value indicating a bad inheritance from run with arg\n",
    "\n",
    "s_format <- \"p\"\n",
    "# denotes the source data format x == Excel; j == json, p == parquet\n",
    "\n",
    "#----------\n",
    "# do not edit - this either inherits the full instance timestamp from the papermill book or captures the run time of this script.\n",
    "\n",
    "inst_datetime <- format(Sys.time(), \"%S\")\n",
    "\n"
   ]
  },
  {
   "cell_type": "code",
   "execution_count": 2,
   "id": "edf28a77",
   "metadata": {
    "execution": {
     "iopub.execute_input": "2021-05-27T17:11:08.363883Z",
     "iopub.status.busy": "2021-05-27T17:11:08.196879Z",
     "iopub.status.idle": "2021-05-27T17:11:08.540880Z",
     "shell.execute_reply": "2021-05-27T17:11:08.533880Z"
    },
    "papermill": {
     "duration": 1.285864,
     "end_time": "2021-05-27T17:11:08.540880",
     "exception": false,
     "start_time": "2021-05-27T17:11:07.255016",
     "status": "completed"
    },
    "tags": [
     "injected-parameters"
    ]
   },
   "outputs": [],
   "source": [
    "# Parameters\n",
    "run_control = 1\n",
    "percode = \"2021.Q1\"\n",
    "commit_message = \"Demo Test\"\n",
    "inst_datetime = \"05272021121925\"\n"
   ]
  },
  {
   "cell_type": "markdown",
   "id": "1c7afb73",
   "metadata": {
    "papermill": {
     "duration": 0.232054,
     "end_time": "2021-05-27T17:11:09.279934",
     "exception": false,
     "start_time": "2021-05-27T17:11:09.047880",
     "status": "completed"
    },
    "tags": []
   },
   "source": [
    "#### Default Variables, these govern logic, do not edit."
   ]
  },
  {
   "cell_type": "code",
   "execution_count": 3,
   "id": "9abf5879",
   "metadata": {
    "execution": {
     "iopub.execute_input": "2021-05-27T17:11:10.029668Z",
     "iopub.status.busy": "2021-05-27T17:11:10.023668Z",
     "iopub.status.idle": "2021-05-27T17:11:10.078667Z",
     "shell.execute_reply": "2021-05-27T17:11:10.073668Z"
    },
    "papermill": {
     "duration": 0.506042,
     "end_time": "2021-05-27T17:11:10.078667",
     "exception": false,
     "start_time": "2021-05-27T17:11:09.572625",
     "status": "completed"
    },
    "tags": []
   },
   "outputs": [],
   "source": [
    "default_dc <- \"20XX.QX\"\n",
    "default_rc <- 0 #extra lite mode\n",
    "dummy_perc <- \"33Q3\" # bad inheritance"
   ]
  },
  {
   "cell_type": "markdown",
   "id": "828d6377",
   "metadata": {
    "papermill": {
     "duration": 0.23062,
     "end_time": "2021-05-27T17:11:10.668549",
     "exception": false,
     "start_time": "2021-05-27T17:11:10.437929",
     "status": "completed"
    },
    "tags": []
   },
   "source": [
    "#### style settings"
   ]
  },
  {
   "cell_type": "code",
   "execution_count": 4,
   "id": "74c7a707",
   "metadata": {
    "execution": {
     "iopub.execute_input": "2021-05-27T17:11:11.094251Z",
     "iopub.status.busy": "2021-05-27T17:11:11.087251Z",
     "iopub.status.idle": "2021-05-27T17:11:11.153311Z",
     "shell.execute_reply": "2021-05-27T17:11:11.144315Z"
    },
    "papermill": {
     "duration": 0.278595,
     "end_time": "2021-05-27T17:11:11.154318",
     "exception": false,
     "start_time": "2021-05-27T17:11:10.875723",
     "status": "completed"
    },
    "tags": []
   },
   "outputs": [],
   "source": [
    "if (run_control == 5)\n",
    "    { run_control <- default_rc }\n",
    "\n",
    "if (run_control != 5) \n",
    "    { run_control <- run_control}\n",
    "\n",
    "# try:\n",
    "#     if sys.argv[1] == \"-f\":\n",
    "#         percode = percode\n",
    "#     else:\n",
    "#         percode = sys.argv[1]\n",
    "\n",
    "# except IndexError:\n",
    "#     percode = default_dc\n",
    "# except NameError:\n",
    "#     percode = default_dc\n"
   ]
  },
  {
   "cell_type": "markdown",
   "id": "3fce6ce2",
   "metadata": {
    "papermill": {
     "duration": 0.230997,
     "end_time": "2021-05-27T17:11:11.689105",
     "exception": false,
     "start_time": "2021-05-27T17:11:11.458108",
     "status": "completed"
    },
    "tags": []
   },
   "source": [
    "\n",
    "## Begin Input Read\n",
    "#### Make paths used in script\n",
    "### all paths should be modular and easily replaced ahead of operations"
   ]
  },
  {
   "cell_type": "code",
   "execution_count": 5,
   "id": "4fff4a34",
   "metadata": {
    "execution": {
     "iopub.execute_input": "2021-05-27T17:11:12.798362Z",
     "iopub.status.busy": "2021-05-27T17:11:12.797359Z",
     "iopub.status.idle": "2021-05-27T17:11:12.950358Z",
     "shell.execute_reply": "2021-05-27T17:11:12.942358Z"
    },
    "papermill": {
     "duration": 0.534524,
     "end_time": "2021-05-27T17:11:12.951360",
     "exception": false,
     "start_time": "2021-05-27T17:11:12.416836",
     "status": "completed"
    },
    "tags": []
   },
   "outputs": [
    {
     "data": {
      "text/html": [
       "'H:/Reporting/Data Collection/2021.Q1/Global Travel LOB Report/Travel_Global_Report.html'"
      ],
      "text/latex": [
       "'H:/Reporting/Data Collection/2021.Q1/Global Travel LOB Report/Travel\\_Global\\_Report.html'"
      ],
      "text/markdown": [
       "'H:/Reporting/Data Collection/2021.Q1/Global Travel LOB Report/Travel_Global_Report.html'"
      ],
      "text/plain": [
       "[1] \"H:/Reporting/Data Collection/2021.Q1/Global Travel LOB Report/Travel_Global_Report.html\""
      ]
     },
     "metadata": {},
     "output_type": "display_data"
    }
   ],
   "source": [
    "#root directory\n",
    "rt_networkpath <- '//hecate/Insurance_US/Product Development/Product Management/Global PPM/Reporting/Data Collection'\n",
    "\n",
    "# special for render\n",
    "rt_mappedpath <- 'H:/Reporting/Data Collection'\n",
    "\n",
    "#out_mappedpath <- paste(rt_mappedpath, percode,   'Global Travel LOB Report' , sep= '/')\n",
    "rmd_file <- 'Pipeline Reporting Scripts/Global Travel LOB Report/Travel_Global_Report.Rmd'\n",
    "\n",
    "rmd_path <- paste(rt_networkpath, rmd_file, sep =\"/\")\n",
    "#outfile <- paste('Travel_Global_Report_',gsub(\"\\\\.\",\"_\",percode),'.html', sep = '')\n",
    "\n",
    "rmdnetworkpath <- paste(rt_networkpath,rmd_file, sep =\"/\")\n",
    "\n",
    "html_path <- paste( rt_mappedpath , percode,   'Global Travel LOB Report', sep= '/')\n",
    "\n",
    "html_name <- 'Travel_Global_Report.html'\n",
    "\n",
    "html_full_name <- paste(html_path, html_name, sep = \"/\")\n",
    "\n",
    "html_full_name \n"
   ]
  },
  {
   "cell_type": "markdown",
   "id": "f946a1b3",
   "metadata": {
    "papermill": {
     "duration": 0.214091,
     "end_time": "2021-05-27T17:11:13.406450",
     "exception": false,
     "start_time": "2021-05-27T17:11:13.192359",
     "status": "completed"
    },
    "tags": []
   },
   "source": [
    "#### Execute Finance Comparison PnL.Rmd\n"
   ]
  },
  {
   "cell_type": "markdown",
   "id": "b2964c12",
   "metadata": {
    "tags": [
     "papermill-error-cell-tag"
    ]
   },
   "source": [
    "<span id=\"papermill-error-cell\" style=\"color:red; font-family:Helvetica Neue, Helvetica, Arial, sans-serif; font-size:2em;\">Execution using papermill encountered an exception here and stopped:</span>"
   ]
  },
  {
   "cell_type": "code",
   "execution_count": 6,
   "id": "52ab312b",
   "metadata": {
    "execution": {
     "iopub.execute_input": "2021-05-27T17:11:13.938453Z",
     "iopub.status.busy": "2021-05-27T17:11:13.935454Z",
     "iopub.status.idle": "2021-05-27T17:11:16.316181Z",
     "shell.execute_reply": "2021-05-27T17:11:16.303179Z"
    },
    "papermill": {
     "duration": 2.647728,
     "end_time": "2021-05-27T17:11:16.317180",
     "exception": true,
     "start_time": "2021-05-27T17:11:13.669452",
     "status": "failed"
    },
    "tags": []
   },
   "outputs": [
    {
     "name": "stdout",
     "output_type": "stream",
     "text": [
      "[1] \"Knitting Travel Global Report\"\n"
     ]
    },
    {
     "name": "stderr",
     "output_type": "stream",
     "text": [
      "Warning message in dir.create(output_dir, recursive = TRUE):\n",
      "\"cannot create dir 'H:\\Reporting', reason 'No such file or directory'\""
     ]
    },
    {
     "name": "stderr",
     "output_type": "stream",
     "text": [
      "Warning message in normalizePath(path.expand(path), winslash, mustWork):\n",
      "\"path[1]=\"H:/Reporting/Data Collection/2021.Q1/Global Travel LOB Report\": The system cannot find the path specified\""
     ]
    },
    {
     "ename": "ERROR",
     "evalue": "Error: The directory 'H:/Reporting/Data Collection/2021.Q1/Global Travel LOB Report' does not not exist.\n",
     "output_type": "error",
     "traceback": [
      "Error: The directory 'H:/Reporting/Data Collection/2021.Q1/Global Travel LOB Report' does not not exist.\nTraceback:\n",
      "1. rmarkdown::render(rmdnetworkpath, output_file = html_name, output_dir = html_path, \n .     params = list(region = \"all\", period = percode))",
      "2. stop(\"The directory '\", output_dir, \"' does not not exist.\", \n .     call. = FALSE)"
     ]
    }
   ],
   "source": [
    "print(\"Knitting Travel Global Report\")   \n",
    "\n",
    "rmarkdown::render(rmdnetworkpath, output_file = html_name ,  output_dir = html_path ,   params = list(region = 'all', period = percode ) )\n"
   ]
  },
  {
   "cell_type": "markdown",
   "id": "00162eb7",
   "metadata": {
    "papermill": {
     "duration": null,
     "end_time": null,
     "exception": null,
     "start_time": null,
     "status": "pending"
    },
    "tags": []
   },
   "source": [
    "#### Open the file that was knit"
   ]
  },
  {
   "cell_type": "code",
   "execution_count": null,
   "id": "cbe1e090",
   "metadata": {
    "papermill": {
     "duration": null,
     "end_time": null,
     "exception": null,
     "start_time": null,
     "status": "pending"
    },
    "tags": []
   },
   "outputs": [],
   "source": [
    "openHTML <- function(x) browseURL(paste0('file://', x))\n",
    "\n",
    "openHTML(html_full_name)"
   ]
  },
  {
   "cell_type": "code",
   "execution_count": null,
   "id": "5690662b",
   "metadata": {
    "papermill": {
     "duration": null,
     "end_time": null,
     "exception": null,
     "start_time": null,
     "status": "pending"
    },
    "tags": []
   },
   "outputs": [],
   "source": []
  }
 ],
 "metadata": {
  "celltoolbar": "Tags",
  "kernelspec": {
   "display_name": "R",
   "language": "R",
   "name": "ir"
  },
  "language_info": {
   "codemirror_mode": "r",
   "file_extension": ".r",
   "mimetype": "text/x-r-source",
   "name": "R",
   "pygments_lexer": "r",
   "version": "3.6.1"
  },
  "papermill": {
   "default_parameters": {},
   "duration": 17.449005,
   "end_time": "2021-05-27T17:11:16.818180",
   "environment_variables": {},
   "exception": true,
   "input_path": "reporting/knit Travel_Global_Report.ipynb",
   "output_path": "//hecate/Insurance_US/Product Development/Product Management/Global PPM/Reporting/Data Collection/Pipeline Reporting Scripts/GPMpipeline/instances/2021.Q1\\reporting\\knit Travel_Global_Report05272021121925--Demo.ipynb",
   "parameters": {
    "commit_message": "Demo Test",
    "inst_datetime": "05272021121925",
    "percode": "2021.Q1",
    "run_control": 1
   },
   "start_time": "2021-05-27T17:10:59.369175",
   "version": "2.3.3"
  }
 },
 "nbformat": 4,
 "nbformat_minor": 5
}