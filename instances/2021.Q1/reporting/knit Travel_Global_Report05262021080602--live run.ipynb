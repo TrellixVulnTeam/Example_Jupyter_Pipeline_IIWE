{
 "cells": [
  {
   "cell_type": "markdown",
   "id": "89721e2b",
   "metadata": {
    "tags": [
     "papermill-error-cell-tag"
    ]
   },
   "source": [
    "<span style=\"color:red; font-family:Helvetica Neue, Helvetica, Arial, sans-serif; font-size:2em;\">An Exception was encountered at '<a href=\"#papermill-error-cell\">In [6]</a>'.</span>"
   ]
  },
  {
   "cell_type": "markdown",
   "id": "681cc3d3",
   "metadata": {
    "papermill": {
     "duration": 0.231514,
     "end_time": "2021-05-26T12:35:33.192935",
     "exception": false,
     "start_time": "2021-05-26T12:35:32.961421",
     "status": "completed"
    },
    "tags": []
   },
   "source": [
    "<img src=\"../images/AzPTravel_PPM.png\">"
   ]
  },
  {
   "cell_type": "markdown",
   "id": "5967b079",
   "metadata": {
    "papermill": {
     "duration": 0.217528,
     "end_time": "2021-05-26T12:35:33.647461",
     "exception": false,
     "start_time": "2021-05-26T12:35:33.429933",
     "status": "completed"
    },
    "tags": []
   },
   "source": [
    "## Knit Travel Global Report\n",
    "\n",
    "#### This script exectutes the RMD that knits the Travel Global Report\n",
    "\n",
    "#### This can be run on its own or as part of the pipeline wherever called (ie from a papermill script or other user interface)."
   ]
  },
  {
   "cell_type": "code",
   "execution_count": 1,
   "id": "f9a611eb",
   "metadata": {
    "execution": {
     "iopub.execute_input": "2021-05-26T12:35:34.119572Z",
     "iopub.status.busy": "2021-05-26T12:35:34.105571Z",
     "iopub.status.idle": "2021-05-26T12:35:34.293569Z",
     "shell.execute_reply": "2021-05-26T12:35:34.286721Z"
    },
    "papermill": {
     "duration": 0.417996,
     "end_time": "2021-05-26T12:35:34.294576",
     "exception": false,
     "start_time": "2021-05-26T12:35:33.876580",
     "status": "completed"
    },
    "tags": [
     "parameters"
    ]
   },
   "outputs": [],
   "source": [
    "\n",
    "commit_message <- \"Development and testing.\"\n",
    "# Give a brief reason for the run.\n",
    "\n",
    "run_control <- 1\n",
    "#run_type = 0 - Lite run with no reporting, not recommended.\n",
    "#run_type = 1 - Lite run with normal reporting, default setting.\n",
    "#run_type = 2 - Heavy run with full reporting, available for audits and troubleshooting.\n",
    "#run_type = 5 - A default setting. Indicates the script is being run by an outside process without an inherited value\n",
    "\n",
    "percode <- \"2021.Q1\"\n",
    "# Data Collection Code, this controls file paths and output names\n",
    "# \"-f\" is the value indicating a bad inheritance from run with arg\n",
    "\n",
    "s_format <- \"p\"\n",
    "# denotes the source data format x == Excel; j == json, p == parquet\n",
    "\n",
    "#----------\n",
    "# do not edit - this either inherits the full instance timestamp from the papermill book or captures the run time of this script.\n",
    "\n",
    "inst_datetime <- format(Sys.time(), \"%S\")\n",
    "\n"
   ]
  },
  {
   "cell_type": "code",
   "execution_count": 2,
   "id": "7ab998ce",
   "metadata": {
    "execution": {
     "iopub.execute_input": "2021-05-26T12:35:34.833494Z",
     "iopub.status.busy": "2021-05-26T12:35:34.761495Z",
     "iopub.status.idle": "2021-05-26T12:35:34.890020Z",
     "shell.execute_reply": "2021-05-26T12:35:34.885496Z"
    },
    "papermill": {
     "duration": 0.359574,
     "end_time": "2021-05-26T12:35:34.890020",
     "exception": false,
     "start_time": "2021-05-26T12:35:34.530446",
     "status": "completed"
    },
    "tags": [
     "injected-parameters"
    ]
   },
   "outputs": [],
   "source": [
    "# Parameters\n",
    "run_control = 1\n",
    "percode = \"2021.Q1\"\n",
    "commit_message = \"Add PL and CZ, added standard reporting to pipeline, Travel LOB report is not knitting.\"\n",
    "inst_datetime = \"05262021080602\"\n"
   ]
  },
  {
   "cell_type": "markdown",
   "id": "1c7afb73",
   "metadata": {
    "papermill": {
     "duration": 0.222995,
     "end_time": "2021-05-26T12:35:35.334707",
     "exception": false,
     "start_time": "2021-05-26T12:35:35.111712",
     "status": "completed"
    },
    "tags": []
   },
   "source": [
    "#### Default Variables, these govern logic, do not edit."
   ]
  },
  {
   "cell_type": "code",
   "execution_count": 3,
   "id": "9abf5879",
   "metadata": {
    "execution": {
     "iopub.execute_input": "2021-05-26T12:35:35.804113Z",
     "iopub.status.busy": "2021-05-26T12:35:35.796011Z",
     "iopub.status.idle": "2021-05-26T12:35:35.849996Z",
     "shell.execute_reply": "2021-05-26T12:35:35.846997Z"
    },
    "papermill": {
     "duration": 0.294775,
     "end_time": "2021-05-26T12:35:35.849996",
     "exception": false,
     "start_time": "2021-05-26T12:35:35.555221",
     "status": "completed"
    },
    "tags": []
   },
   "outputs": [],
   "source": [
    "default_dc <- \"20XX.QX\"\n",
    "default_rc <- 0 #extra lite mode\n",
    "dummy_perc <- \"33Q3\" # bad inheritance"
   ]
  },
  {
   "cell_type": "markdown",
   "id": "828d6377",
   "metadata": {
    "papermill": {
     "duration": 0.236508,
     "end_time": "2021-05-26T12:35:36.316503",
     "exception": false,
     "start_time": "2021-05-26T12:35:36.079995",
     "status": "completed"
    },
    "tags": []
   },
   "source": [
    "#### style settings"
   ]
  },
  {
   "cell_type": "code",
   "execution_count": 4,
   "id": "74c7a707",
   "metadata": {
    "execution": {
     "iopub.execute_input": "2021-05-26T12:35:36.819058Z",
     "iopub.status.busy": "2021-05-26T12:35:36.815065Z",
     "iopub.status.idle": "2021-05-26T12:35:36.873127Z",
     "shell.execute_reply": "2021-05-26T12:35:36.868124Z"
    },
    "papermill": {
     "duration": 0.301065,
     "end_time": "2021-05-26T12:35:36.873127",
     "exception": false,
     "start_time": "2021-05-26T12:35:36.572062",
     "status": "completed"
    },
    "tags": []
   },
   "outputs": [],
   "source": [
    "if (run_control == 5)\n",
    "    { run_control <- default_rc }\n",
    "\n",
    "if (run_control != 5) \n",
    "    { run_control <- run_control}\n",
    "\n",
    "# try:\n",
    "#     if sys.argv[1] == \"-f\":\n",
    "#         percode = percode\n",
    "#     else:\n",
    "#         percode = sys.argv[1]\n",
    "\n",
    "# except IndexError:\n",
    "#     percode = default_dc\n",
    "# except NameError:\n",
    "#     percode = default_dc\n"
   ]
  },
  {
   "cell_type": "markdown",
   "id": "3fce6ce2",
   "metadata": {
    "papermill": {
     "duration": 0.24176,
     "end_time": "2021-05-26T12:35:37.359748",
     "exception": false,
     "start_time": "2021-05-26T12:35:37.117988",
     "status": "completed"
    },
    "tags": []
   },
   "source": [
    "\n",
    "## Begin Input Read\n",
    "#### Make paths used in script\n",
    "### all paths should be modular and easily replaced ahead of operations"
   ]
  },
  {
   "cell_type": "code",
   "execution_count": 5,
   "id": "4fff4a34",
   "metadata": {
    "execution": {
     "iopub.execute_input": "2021-05-26T12:35:37.867043Z",
     "iopub.status.busy": "2021-05-26T12:35:37.865042Z",
     "iopub.status.idle": "2021-05-26T12:35:37.963042Z",
     "shell.execute_reply": "2021-05-26T12:35:37.959044Z"
    },
    "papermill": {
     "duration": 0.333304,
     "end_time": "2021-05-26T12:35:37.964045",
     "exception": false,
     "start_time": "2021-05-26T12:35:37.630741",
     "status": "completed"
    },
    "tags": []
   },
   "outputs": [
    {
     "data": {
      "text/html": [
       "'H:/Reporting/Data Collection/2021.Q1/Global Travel LOB Report/Travel_Global_Report.html'"
      ],
      "text/latex": [
       "'H:/Reporting/Data Collection/2021.Q1/Global Travel LOB Report/Travel\\_Global\\_Report.html'"
      ],
      "text/markdown": [
       "'H:/Reporting/Data Collection/2021.Q1/Global Travel LOB Report/Travel_Global_Report.html'"
      ],
      "text/plain": [
       "[1] \"H:/Reporting/Data Collection/2021.Q1/Global Travel LOB Report/Travel_Global_Report.html\""
      ]
     },
     "metadata": {},
     "output_type": "display_data"
    }
   ],
   "source": [
    "#root directory\n",
    "rt_networkpath <- '//hecate/Insurance_US/Product Development/Product Management/Global PPM/Reporting/Data Collection'\n",
    "\n",
    "# special for render\n",
    "rt_mappedpath <- 'H:/Reporting/Data Collection'\n",
    "\n",
    "#out_mappedpath <- paste(rt_mappedpath, percode,   'Global Travel LOB Report' , sep= '/')\n",
    "rmd_file <- 'Pipeline Reporting Scripts/Global Travel LOB Report/Travel_Global_Report.Rmd'\n",
    "\n",
    "rmd_path <- paste(rt_networkpath, rmd_file, sep =\"/\")\n",
    "#outfile <- paste('Travel_Global_Report_',gsub(\"\\\\.\",\"_\",percode),'.html', sep = '')\n",
    "\n",
    "rmdnetworkpath <- paste(rt_networkpath,rmd_file, sep =\"/\")\n",
    "\n",
    "html_path <- paste( rt_mappedpath , percode,   'Global Travel LOB Report', sep= '/')\n",
    "\n",
    "html_name <- 'Travel_Global_Report.html'\n",
    "\n",
    "html_full_name <- paste(html_path, html_name, sep = \"/\")\n",
    "\n",
    "html_full_name \n"
   ]
  },
  {
   "cell_type": "markdown",
   "id": "f946a1b3",
   "metadata": {
    "papermill": {
     "duration": 0.225,
     "end_time": "2021-05-26T12:35:38.421557",
     "exception": false,
     "start_time": "2021-05-26T12:35:38.196557",
     "status": "completed"
    },
    "tags": []
   },
   "source": [
    "#### Execute Finance Comparison PnL.Rmd\n"
   ]
  },
  {
   "cell_type": "markdown",
   "id": "b8409458",
   "metadata": {
    "tags": [
     "papermill-error-cell-tag"
    ]
   },
   "source": [
    "<span id=\"papermill-error-cell\" style=\"color:red; font-family:Helvetica Neue, Helvetica, Arial, sans-serif; font-size:2em;\">Execution using papermill encountered an exception here and stopped:</span>"
   ]
  },
  {
   "cell_type": "code",
   "execution_count": 6,
   "id": "52ab312b",
   "metadata": {
    "execution": {
     "iopub.execute_input": "2021-05-26T12:35:38.916505Z",
     "iopub.status.busy": "2021-05-26T12:35:38.912500Z",
     "iopub.status.idle": "2021-05-26T12:36:03.908208Z",
     "shell.execute_reply": "2021-05-26T12:36:03.887207Z"
    },
    "papermill": {
     "duration": 25.246705,
     "end_time": "2021-05-26T12:36:03.908208",
     "exception": true,
     "start_time": "2021-05-26T12:35:38.661503",
     "status": "failed"
    },
    "tags": []
   },
   "outputs": [
    {
     "name": "stdout",
     "output_type": "stream",
     "text": [
      "[1] \"Knitting Travel Global Report\"\n"
     ]
    },
    {
     "name": "stderr",
     "output_type": "stream",
     "text": [
      "\n",
      "\n",
      "processing file: Travel_Global_Report.Rmd\n"
     ]
    },
    {
     "name": "stdout",
     "output_type": "stream",
     "text": [
      "\r",
      "  |                                                                            \r",
      "  |                                                                      |   0%"
     ]
    },
    {
     "name": "stdout",
     "output_type": "stream",
     "text": [
      "\r",
      "  |                                                                            \r",
      "  |.                                                                     |   1%"
     ]
    },
    {
     "name": "stdout",
     "output_type": "stream",
     "text": [
      "\n"
     ]
    },
    {
     "name": "stdout",
     "output_type": "stream",
     "text": [
      "  ordinary text without R code\n",
      "\n",
      "\r",
      "  |                                                                            \r",
      "  |.                                                                     |   2%"
     ]
    },
    {
     "name": "stdout",
     "output_type": "stream",
     "text": [
      "\n"
     ]
    },
    {
     "name": "stdout",
     "output_type": "stream",
     "text": [
      "label: setup (with options) \n",
      "List of 1\n",
      " $ include: logi FALSE\n",
      "\n"
     ]
    },
    {
     "name": "stderr",
     "output_type": "stream",
     "text": [
      "Warning message:\n",
      "\"package 'flexdashboard' was built under R version 3.6.3\""
     ]
    },
    {
     "name": "stderr",
     "output_type": "stream",
     "text": [
      "Warning message:\n",
      "\"package 'openxlsx' was built under R version 3.6.3\""
     ]
    },
    {
     "name": "stderr",
     "output_type": "stream",
     "text": [
      "Warning message:\n",
      "\"package 'data.table' was built under R version 3.6.3\""
     ]
    },
    {
     "name": "stderr",
     "output_type": "stream",
     "text": [
      "Warning message:\n",
      "\"package 'dplyr' was built under R version 3.6.3\""
     ]
    },
    {
     "name": "stderr",
     "output_type": "stream",
     "text": [
      "Registered S3 methods overwritten by 'tibble':\n",
      "  method     from  \n",
      "  format.tbl pillar\n",
      "  print.tbl  pillar\n"
     ]
    },
    {
     "name": "stderr",
     "output_type": "stream",
     "text": [
      "\n",
      "Attaching package: 'dplyr'\n",
      "\n"
     ]
    },
    {
     "name": "stderr",
     "output_type": "stream",
     "text": [
      "The following objects are masked from 'package:data.table':\n",
      "\n",
      "    between, first, last\n",
      "\n"
     ]
    },
    {
     "name": "stderr",
     "output_type": "stream",
     "text": [
      "The following objects are masked from 'package:stats':\n",
      "\n",
      "    filter, lag\n",
      "\n"
     ]
    },
    {
     "name": "stderr",
     "output_type": "stream",
     "text": [
      "The following objects are masked from 'package:base':\n",
      "\n",
      "    intersect, setdiff, setequal, union\n",
      "\n"
     ]
    },
    {
     "name": "stderr",
     "output_type": "stream",
     "text": [
      "Warning message:\n",
      "\"package 'magrittr' was built under R version 3.6.3\""
     ]
    },
    {
     "name": "stderr",
     "output_type": "stream",
     "text": [
      "Warning message:\n",
      "\"package 'knitr' was built under R version 3.6.3\""
     ]
    },
    {
     "name": "stderr",
     "output_type": "stream",
     "text": [
      "Warning message:\n",
      "\"package 'kableExtra' was built under R version 3.6.3\""
     ]
    },
    {
     "name": "stderr",
     "output_type": "stream",
     "text": [
      "\n",
      "Attaching package: 'kableExtra'\n",
      "\n"
     ]
    },
    {
     "name": "stderr",
     "output_type": "stream",
     "text": [
      "The following object is masked from 'package:dplyr':\n",
      "\n",
      "    group_rows\n",
      "\n"
     ]
    },
    {
     "name": "stderr",
     "output_type": "stream",
     "text": [
      "Warning message:\n",
      "\"package 'ggplot2' was built under R version 3.6.3\""
     ]
    },
    {
     "name": "stderr",
     "output_type": "stream",
     "text": [
      "Warning message:\n",
      "\"package 'patchwork' was built under R version 3.6.3\""
     ]
    },
    {
     "name": "stderr",
     "output_type": "stream",
     "text": [
      "Warning message:\n",
      "\"package 'DT' was built under R version 3.6.3\""
     ]
    },
    {
     "name": "stderr",
     "output_type": "stream",
     "text": [
      "Warning message:\n",
      "\"package 'scales' was built under R version 3.6.3\""
     ]
    },
    {
     "name": "stderr",
     "output_type": "stream",
     "text": [
      "Warning message:\n",
      "\"package 'stringr' was built under R version 3.6.3\""
     ]
    },
    {
     "name": "stderr",
     "output_type": "stream",
     "text": [
      "Warning message:\n",
      "\"package 'reticulate' was built under R version 3.6.3\""
     ]
    },
    {
     "name": "stdout",
     "output_type": "stream",
     "text": [
      "\r",
      "  |                                                                            \r",
      "  |..                                                                    |   3%"
     ]
    },
    {
     "name": "stdout",
     "output_type": "stream",
     "text": [
      "\n"
     ]
    },
    {
     "name": "stdout",
     "output_type": "stream",
     "text": [
      "  ordinary text without R code\n",
      "\n",
      "\r",
      "  |                                                                            \r",
      "  |...                                                                   |   4%"
     ]
    },
    {
     "name": "stdout",
     "output_type": "stream",
     "text": [
      "\n"
     ]
    },
    {
     "name": "stdout",
     "output_type": "stream",
     "text": [
      "label: py variable\n",
      "\r",
      "  |                                                                            \r",
      "  |...                                                                   |   5%"
     ]
    },
    {
     "name": "stdout",
     "output_type": "stream",
     "text": [
      "\n"
     ]
    },
    {
     "name": "stdout",
     "output_type": "stream",
     "text": [
      "  ordinary text without R code\n",
      "\n",
      "\r",
      "  |                                                                            \r",
      "  |....                                                                  |   6%"
     ]
    },
    {
     "name": "stdout",
     "output_type": "stream",
     "text": [
      "\n"
     ]
    },
    {
     "name": "stdout",
     "output_type": "stream",
     "text": [
      "label: pandas data read (with options) \n",
      "List of 1\n",
      " $ engine: chr \"python\"\n",
      "\n"
     ]
    },
    {
     "name": "stderr",
     "output_type": "stream",
     "text": [
      "Warning message:\n",
      "\"The internal function knitr:::wrap() has been deprecated. Please use the exported function knitr::sew() instead.\""
     ]
    },
    {
     "name": "stdout",
     "output_type": "stream",
     "text": [
      "\r",
      "  |                                                                            \r",
      "  |.....                                                                 |   7%"
     ]
    },
    {
     "name": "stdout",
     "output_type": "stream",
     "text": [
      "\n"
     ]
    },
    {
     "name": "stdout",
     "output_type": "stream",
     "text": [
      "  ordinary text without R code\n",
      "\n",
      "\r",
      "  |                                                                            \r",
      "  |.....                                                                 |   8%"
     ]
    },
    {
     "name": "stdout",
     "output_type": "stream",
     "text": [
      "\n"
     ]
    },
    {
     "name": "stdout",
     "output_type": "stream",
     "text": [
      "label: read in xlsx sources\n",
      "\r",
      "  |                                                                            \r",
      "  |......                                                                |   8%"
     ]
    },
    {
     "name": "stdout",
     "output_type": "stream",
     "text": [
      "\n"
     ]
    },
    {
     "name": "stdout",
     "output_type": "stream",
     "text": [
      "  ordinary text without R code\n",
      "\n",
      "\r",
      "  |                                                                            \r",
      "  |.......                                                               |   9%"
     ]
    },
    {
     "name": "stdout",
     "output_type": "stream",
     "text": [
      "\n"
     ]
    },
    {
     "name": "stdout",
     "output_type": "stream",
     "text": [
      "label: convert py object to r DT\n",
      "\r",
      "  |                                                                            \r",
      "  |.......                                                               |  10%"
     ]
    },
    {
     "name": "stdout",
     "output_type": "stream",
     "text": [
      "\n"
     ]
    },
    {
     "name": "stdout",
     "output_type": "stream",
     "text": [
      "  ordinary text without R code\n",
      "\n",
      "\r",
      "  |                                                                            \r",
      "  |........                                                              |  11%"
     ]
    },
    {
     "name": "stdout",
     "output_type": "stream",
     "text": [
      "\n"
     ]
    },
    {
     "name": "stdout",
     "output_type": "stream",
     "text": [
      "label: function replace NAs\n",
      "\r",
      "  |                                                                            \r",
      "  |.........                                                             |  12%"
     ]
    },
    {
     "name": "stdout",
     "output_type": "stream",
     "text": [
      "\n"
     ]
    },
    {
     "name": "stdout",
     "output_type": "stream",
     "text": [
      "  ordinary text without R code\n",
      "\n",
      "\r",
      "  |                                                                            \r",
      "  |.........                                                             |  13%"
     ]
    },
    {
     "name": "stdout",
     "output_type": "stream",
     "text": [
      "\n"
     ]
    },
    {
     "name": "stdout",
     "output_type": "stream",
     "text": [
      "label: function change headers\n",
      "\r",
      "  |                                                                            \r",
      "  |..........                                                            |  14%"
     ]
    },
    {
     "name": "stdout",
     "output_type": "stream",
     "text": [
      "\n"
     ]
    },
    {
     "name": "stdout",
     "output_type": "stream",
     "text": [
      "  ordinary text without R code\n",
      "\n",
      "\r",
      "  |                                                                            \r",
      "  |...........                                                           |  15%"
     ]
    },
    {
     "name": "stdout",
     "output_type": "stream",
     "text": [
      "\n"
     ]
    },
    {
     "name": "stdout",
     "output_type": "stream",
     "text": [
      "label: function create summary tables\n",
      "\r",
      "  |                                                                            \r",
      "  |...........                                                           |  16%"
     ]
    },
    {
     "name": "stdout",
     "output_type": "stream",
     "text": [
      "\n"
     ]
    },
    {
     "name": "stdout",
     "output_type": "stream",
     "text": [
      "  ordinary text without R code\n",
      "\n",
      "\r",
      "  |                                                                            \r",
      "  |............                                                          |  17%"
     ]
    },
    {
     "name": "stdout",
     "output_type": "stream",
     "text": [
      "\n"
     ]
    },
    {
     "name": "stdout",
     "output_type": "stream",
     "text": [
      "label: function data cleaning\n",
      "\r",
      "  |                                                                            \r",
      "  |.............                                                         |  18%"
     ]
    },
    {
     "name": "stdout",
     "output_type": "stream",
     "text": [
      "\n"
     ]
    },
    {
     "name": "stdout",
     "output_type": "stream",
     "text": [
      "  ordinary text without R code\n",
      "\n",
      "\r",
      "  |                                                                            \r",
      "  |.............                                                         |  19%"
     ]
    },
    {
     "name": "stdout",
     "output_type": "stream",
     "text": [
      "\n"
     ]
    },
    {
     "name": "stdout",
     "output_type": "stream",
     "text": [
      "label: function convertTable\n",
      "\r",
      "  |                                                                            \r",
      "  |..............                                                        |  20%"
     ]
    },
    {
     "name": "stdout",
     "output_type": "stream",
     "text": [
      "\n"
     ]
    },
    {
     "name": "stdout",
     "output_type": "stream",
     "text": [
      "  ordinary text without R code\n",
      "\n",
      "\r",
      "  |                                                                            \r",
      "  |...............                                                       |  21%"
     ]
    },
    {
     "name": "stdout",
     "output_type": "stream",
     "text": [
      "\n"
     ]
    },
    {
     "name": "stdout",
     "output_type": "stream",
     "text": [
      "label: function createDT\n",
      "\r",
      "  |                                                                            \r",
      "  |...............                                                       |  22%"
     ]
    },
    {
     "name": "stdout",
     "output_type": "stream",
     "text": [
      "\n"
     ]
    },
    {
     "name": "stdout",
     "output_type": "stream",
     "text": [
      "  ordinary text without R code\n",
      "\n",
      "\r",
      "  |                                                                            \r",
      "  |................                                                      |  23%"
     ]
    },
    {
     "name": "stdout",
     "output_type": "stream",
     "text": [
      "\n"
     ]
    },
    {
     "name": "stdout",
     "output_type": "stream",
     "text": [
      "label: function region subset\n",
      "\r",
      "  |                                                                            \r",
      "  |.................                                                     |  24%"
     ]
    },
    {
     "name": "stdout",
     "output_type": "stream",
     "text": [
      "\n"
     ]
    },
    {
     "name": "stdout",
     "output_type": "stream",
     "text": [
      "  ordinary text without R code\n",
      "\n",
      "\r",
      "  |                                                                            \r",
      "  |.................                                                     |  25%"
     ]
    },
    {
     "name": "stdout",
     "output_type": "stream",
     "text": [
      "\n"
     ]
    },
    {
     "name": "stdout",
     "output_type": "stream",
     "text": [
      "label: data_manipulation\n",
      "\r",
      "  |                                                                            \r",
      "  |..................                                                    |  25%"
     ]
    },
    {
     "name": "stdout",
     "output_type": "stream",
     "text": [
      "\n"
     ]
    },
    {
     "name": "stdout",
     "output_type": "stream",
     "text": [
      "  ordinary text without R code\n",
      "\n",
      "\r",
      "  |                                                                            \r",
      "  |..................                                                    |  26%"
     ]
    },
    {
     "name": "stdout",
     "output_type": "stream",
     "text": [
      "\n"
     ]
    },
    {
     "name": "stdout",
     "output_type": "stream",
     "text": [
      "label: aggdatasets\n"
     ]
    },
    {
     "name": "stderr",
     "output_type": "stream",
     "text": [
      "Quitting from lines 895-939 (Travel_Global_Report.Rmd) \n"
     ]
    },
    {
     "ename": "ERROR",
     "evalue": "Error in eval(bysub, x, parent.frame()): object 'bu_descr' not found\n",
     "output_type": "error",
     "traceback": [
      "Error in eval(bysub, x, parent.frame()): object 'bu_descr' not found\nTraceback:\n",
      "1. rmarkdown::render(rmdnetworkpath, output_file = html_name, output_dir = html_path, \n .     params = list(region = \"all\", period = percode))",
      "2. knitr::knit(knit_input, knit_output, envir = envir, quiet = quiet)",
      "3. process_file(text, output)",
      "4. withCallingHandlers(if (tangle) process_tangle(group) else process_group(group), \n .     error = function(e) {\n .         setwd(wd)\n .         cat(res, sep = \"\\n\", file = output %n% \"\")\n .         message(\"Quitting from lines \", paste(current_lines(i), \n .             collapse = \"-\"), \" (\", knit_concord$get(\"infile\"), \n .             \") \")\n .     })",
      "5. process_group(group)",
      "6. process_group.block(group)",
      "7. call_block(x)",
      "8. block_exec(params)",
      "9. eng_r(options)",
      "10. in_dir(input_dir(), evaluate(code, envir = env, new_device = FALSE, \n  .     keep_warning = !isFALSE(options$warning), keep_message = !isFALSE(options$message), \n  .     stop_on_error = if (is.numeric(options$error)) options$error else {\n  .         if (options$error && options$include) \n  .             0L\n  .         else 2L\n  .     }, output_handler = knit_handlers(options$render, options)))",
      "11. evaluate(code, envir = env, new_device = FALSE, keep_warning = !isFALSE(options$warning), \n  .     keep_message = !isFALSE(options$message), stop_on_error = if (is.numeric(options$error)) options$error else {\n  .         if (options$error && options$include) \n  .             0L\n  .         else 2L\n  .     }, output_handler = knit_handlers(options$render, options))",
      "12. evaluate::evaluate(...)",
      "13. evaluate_call(expr, parsed$src[[i]], envir = envir, enclos = enclos, \n  .     debug = debug, last = i == length(out), use_try = stop_on_error != \n  .         2L, keep_warning = keep_warning, keep_message = keep_message, \n  .     output_handler = output_handler, include_timing = include_timing)",
      "14. timing_fn(handle(ev <- withCallingHandlers(withVisible(eval(expr, \n  .     envir, enclos)), warning = wHandler, error = eHandler, message = mHandler)))",
      "15. handle(ev <- withCallingHandlers(withVisible(eval(expr, envir, \n  .     enclos)), warning = wHandler, error = eHandler, message = mHandler))",
      "16. withCallingHandlers(withVisible(eval(expr, envir, enclos)), warning = wHandler, \n  .     error = eHandler, message = mHandler)",
      "17. withVisible(eval(expr, envir, enclos))",
      "18. eval(expr, envir, enclos)",
      "19. eval(expr, envir, enclos)",
      "20. createMetrics(dt = d, groupby = c(\"bu_descr\", \"business_unit\"), \n  .     sel_metrics = metrics)",
      "21. dt[, .(written_revenues = round(sum(written_revenues), digits = 0), \n  .     earned_revenues = round(sum(earned_revenues), digits = 0), \n  .     written_revenues_net_of_taxes = round(sum(written_revenues_net_of_taxes), \n  .         digits = 0), earned_revenues_net_of_taxes = round(sum(earned_revenues_net_of_taxes), \n  .         digits = 0), loss_ratio = round(ifelse(sum(earned_revenues_net_of_taxes) == \n  .         0, 0, sum(actual_incurred_losses)/sum(earned_revenues_net_of_taxes)), \n  .         digits = 3), commission_ratio_base = round(ifelse(sum(earned_revenues_net_of_taxes) == \n  .         0, 0, sum(earned_base_commissions)/sum(earned_revenues_net_of_taxes)), \n  .         digits = 3), commission_ratio_over = round(ifelse(sum(earned_revenues_net_of_taxes) == \n  .         0, 0, sum(earned_over_commissions)/sum(earned_revenues_net_of_taxes)), \n  .         digits = 3), commission_ratio_cash = round(ifelse(sum(earned_revenues_net_of_taxes) == \n  .         0, 0, sum(upfront_cash_payments)/sum(earned_revenues_net_of_taxes)), \n  .         digits = 3), commission_ratio = round(ifelse(sum(earned_revenues_net_of_taxes) == \n  .         0, 0, sum(earned_base_commissions + earned_over_commissions + \n  .         upfront_cash_payments)/sum(earned_revenues_net_of_taxes)), \n  .         digits = 3), upfront_cash_payments = round(ifelse(sum(earned_revenues_net_of_taxes) == \n  .         0, 0, sum(upfront_cash_payments)), digits = 3), earned_over_commissions = round(ifelse(sum(earned_revenues_net_of_taxes) == \n  .         0, 0, sum(earned_over_commissions)), digits = 3), earned_base_commissions = round(ifelse(sum(earned_revenues_net_of_taxes) == \n  .         0, 0, sum(earned_base_commissions)), digits = 3), expense_ratio_internal_variable = round(ifelse(sum(earned_revenues_net_of_taxes) == \n  .         0, 0, sum(internal_variable_costs)/sum(earned_revenues_net_of_taxes)), \n  .         digits = 3), expense_ratio_az_tech = round(ifelse(sum(earned_revenues_net_of_taxes) == \n  .         0, 0, sum(az_tech_fee)/sum(earned_revenues_net_of_taxes)), \n  .         digits = 3), expense_ratio_internal_fixed = round(ifelse(sum(earned_revenues_net_of_taxes) == \n  .         0, 0, sum(internal_fixed_costs)/sum(earned_revenues_net_of_taxes)), \n  .         digits = 3), expense_ratio_hq = round(ifelse(sum(earned_revenues_net_of_taxes) == \n  .         0, 0, sum(hq_fees)/sum(earned_revenues_net_of_taxes)), \n  .         digits = 3), expense_ratio = round(ifelse(sum(earned_revenues_net_of_taxes) == \n  .         0, 0, sum(total_expenses)/sum(earned_revenues_net_of_taxes)), \n  .         digits = 3), commercial_ratio = round(ifelse(sum(earned_revenues_net_of_taxes) == \n  .         0, 0, sum(actual_incurred_losses + earned_base_commissions + \n  .         earned_over_commissions + upfront_cash_payments)/sum(earned_revenues_net_of_taxes)), \n  .         digits = 3), combined_ratio = round(ifelse(sum(earned_revenues_net_of_taxes) == \n  .         0, 0, sum(actual_incurred_losses + earned_base_commissions + \n  .         earned_over_commissions + upfront_cash_payments + total_expenses)/sum(earned_revenues_net_of_taxes)), \n  .         digits = 3), cm_ratio_bu = round(ifelse(sum(earned_revenues_net_of_taxes) == \n  .         0, 0, sum(cm_bu_view)/sum(earned_revenues_net_of_taxes)), \n  .         digits = 3), cm_ratio_hq = round(ifelse(sum(earned_revenues_net_of_taxes) == \n  .         0, 0, sum(cm_hq_view)/sum(earned_revenues_net_of_taxes)), \n  .         digits = 3), profit_or_loss = round(sum(profit_or_loss), \n  .         digits = 0), frequency = round(ifelse(sum(earned_revenues_net_of_taxes) == \n  .         0, 0, sum(num_claimants)/sum(insureds_earned)), digits = 3), \n  .     severity = round(ifelse(sum(earned_revenues_net_of_taxes) == \n  .         0, 0, sum(actual_incurred_losses)/sum(num_claimants)), \n  .         digits = 3)), by = groupby]   # at line 8-114 of file <text>",
      "22. `[.data.table`(dt, , .(written_revenues = round(sum(written_revenues), \n  .     digits = 0), earned_revenues = round(sum(earned_revenues), \n  .     digits = 0), written_revenues_net_of_taxes = round(sum(written_revenues_net_of_taxes), \n  .     digits = 0), earned_revenues_net_of_taxes = round(sum(earned_revenues_net_of_taxes), \n  .     digits = 0), loss_ratio = round(ifelse(sum(earned_revenues_net_of_taxes) == \n  .     0, 0, sum(actual_incurred_losses)/sum(earned_revenues_net_of_taxes)), \n  .     digits = 3), commission_ratio_base = round(ifelse(sum(earned_revenues_net_of_taxes) == \n  .     0, 0, sum(earned_base_commissions)/sum(earned_revenues_net_of_taxes)), \n  .     digits = 3), commission_ratio_over = round(ifelse(sum(earned_revenues_net_of_taxes) == \n  .     0, 0, sum(earned_over_commissions)/sum(earned_revenues_net_of_taxes)), \n  .     digits = 3), commission_ratio_cash = round(ifelse(sum(earned_revenues_net_of_taxes) == \n  .     0, 0, sum(upfront_cash_payments)/sum(earned_revenues_net_of_taxes)), \n  .     digits = 3), commission_ratio = round(ifelse(sum(earned_revenues_net_of_taxes) == \n  .     0, 0, sum(earned_base_commissions + earned_over_commissions + \n  .     upfront_cash_payments)/sum(earned_revenues_net_of_taxes)), \n  .     digits = 3), upfront_cash_payments = round(ifelse(sum(earned_revenues_net_of_taxes) == \n  .     0, 0, sum(upfront_cash_payments)), digits = 3), earned_over_commissions = round(ifelse(sum(earned_revenues_net_of_taxes) == \n  .     0, 0, sum(earned_over_commissions)), digits = 3), earned_base_commissions = round(ifelse(sum(earned_revenues_net_of_taxes) == \n  .     0, 0, sum(earned_base_commissions)), digits = 3), expense_ratio_internal_variable = round(ifelse(sum(earned_revenues_net_of_taxes) == \n  .     0, 0, sum(internal_variable_costs)/sum(earned_revenues_net_of_taxes)), \n  .     digits = 3), expense_ratio_az_tech = round(ifelse(sum(earned_revenues_net_of_taxes) == \n  .     0, 0, sum(az_tech_fee)/sum(earned_revenues_net_of_taxes)), \n  .     digits = 3), expense_ratio_internal_fixed = round(ifelse(sum(earned_revenues_net_of_taxes) == \n  .     0, 0, sum(internal_fixed_costs)/sum(earned_revenues_net_of_taxes)), \n  .     digits = 3), expense_ratio_hq = round(ifelse(sum(earned_revenues_net_of_taxes) == \n  .     0, 0, sum(hq_fees)/sum(earned_revenues_net_of_taxes)), digits = 3), \n  .     expense_ratio = round(ifelse(sum(earned_revenues_net_of_taxes) == \n  .         0, 0, sum(total_expenses)/sum(earned_revenues_net_of_taxes)), \n  .         digits = 3), commercial_ratio = round(ifelse(sum(earned_revenues_net_of_taxes) == \n  .         0, 0, sum(actual_incurred_losses + earned_base_commissions + \n  .         earned_over_commissions + upfront_cash_payments)/sum(earned_revenues_net_of_taxes)), \n  .         digits = 3), combined_ratio = round(ifelse(sum(earned_revenues_net_of_taxes) == \n  .         0, 0, sum(actual_incurred_losses + earned_base_commissions + \n  .         earned_over_commissions + upfront_cash_payments + total_expenses)/sum(earned_revenues_net_of_taxes)), \n  .         digits = 3), cm_ratio_bu = round(ifelse(sum(earned_revenues_net_of_taxes) == \n  .         0, 0, sum(cm_bu_view)/sum(earned_revenues_net_of_taxes)), \n  .         digits = 3), cm_ratio_hq = round(ifelse(sum(earned_revenues_net_of_taxes) == \n  .         0, 0, sum(cm_hq_view)/sum(earned_revenues_net_of_taxes)), \n  .         digits = 3), profit_or_loss = round(sum(profit_or_loss), \n  .         digits = 0), frequency = round(ifelse(sum(earned_revenues_net_of_taxes) == \n  .         0, 0, sum(num_claimants)/sum(insureds_earned)), digits = 3), \n  .     severity = round(ifelse(sum(earned_revenues_net_of_taxes) == \n  .         0, 0, sum(actual_incurred_losses)/sum(num_claimants)), \n  .         digits = 3)), by = groupby)   # at line 8-114 of file <text>",
      "23. eval(bysub, x, parent.frame())",
      "24. eval(bysub, x, parent.frame())"
     ]
    },
    {
     "name": "stdout",
     "output_type": "stream",
     "text": [
      "\n"
     ]
    }
   ],
   "source": [
    "print(\"Knitting Travel Global Report\")   \n",
    "\n",
    "rmarkdown::render(rmdnetworkpath, output_file = html_name ,  output_dir = html_path ,   params = list(region = 'all', period = percode ) )\n"
   ]
  },
  {
   "cell_type": "markdown",
   "id": "00162eb7",
   "metadata": {
    "papermill": {
     "duration": null,
     "end_time": null,
     "exception": null,
     "start_time": null,
     "status": "pending"
    },
    "tags": []
   },
   "source": [
    "#### Open the file that was knit"
   ]
  },
  {
   "cell_type": "code",
   "execution_count": null,
   "id": "cbe1e090",
   "metadata": {
    "papermill": {
     "duration": null,
     "end_time": null,
     "exception": null,
     "start_time": null,
     "status": "pending"
    },
    "tags": []
   },
   "outputs": [],
   "source": [
    "openHTML <- function(x) browseURL(paste0('file://', x))\n",
    "\n",
    "openHTML(html_full_name)"
   ]
  },
  {
   "cell_type": "code",
   "execution_count": null,
   "id": "5690662b",
   "metadata": {
    "papermill": {
     "duration": null,
     "end_time": null,
     "exception": null,
     "start_time": null,
     "status": "pending"
    },
    "tags": []
   },
   "outputs": [],
   "source": []
  }
 ],
 "metadata": {
  "celltoolbar": "Tags",
  "kernelspec": {
   "display_name": "R",
   "language": "R",
   "name": "ir"
  },
  "language_info": {
   "codemirror_mode": "r",
   "file_extension": ".r",
   "mimetype": "text/x-r-source",
   "name": "R",
   "pygments_lexer": "r",
   "version": "3.6.1"
  },
  "papermill": {
   "default_parameters": {},
   "duration": 36.076449,
   "end_time": "2021-05-26T12:36:04.935247",
   "environment_variables": {},
   "exception": true,
   "input_path": "reporting/knit Travel_Global_Report.ipynb",
   "output_path": "//hecate/Insurance_US/Product Development/Product Management/Global PPM/Reporting/Data Collection/Pipeline Reporting Scripts/GPMpipeline/instances/2021.Q1\\reporting\\knit Travel_Global_Report05262021080602--live run.ipynb",
   "parameters": {
    "commit_message": "Add PL and CZ, added standard reporting to pipeline, Travel LOB report is not knitting.",
    "inst_datetime": "05262021080602",
    "percode": "2021.Q1",
    "run_control": 1
   },
   "start_time": "2021-05-26T12:35:28.858798",
   "version": "2.3.3"
  }
 },
 "nbformat": 4,
 "nbformat_minor": 5
}