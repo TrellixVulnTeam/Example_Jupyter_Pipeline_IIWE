{
 "cells": [
  {
   "cell_type": "markdown",
   "id": "8ab96220",
   "metadata": {
    "tags": [
     "papermill-error-cell-tag"
    ]
   },
   "source": [
    "<span style=\"color:red; font-family:Helvetica Neue, Helvetica, Arial, sans-serif; font-size:2em;\">An Exception was encountered at '<a href=\"#papermill-error-cell\">In [6]</a>'.</span>"
   ]
  },
  {
   "cell_type": "markdown",
   "id": "681cc3d3",
   "metadata": {
    "papermill": {
     "duration": 0.741336,
     "end_time": "2021-05-26T13:45:54.252360",
     "exception": false,
     "start_time": "2021-05-26T13:45:53.511024",
     "status": "completed"
    },
    "tags": []
   },
   "source": [
    "<img src=\"../images/AzPTravel_PPM.png\">"
   ]
  },
  {
   "cell_type": "markdown",
   "id": "5967b079",
   "metadata": {
    "papermill": {
     "duration": 0.497297,
     "end_time": "2021-05-26T13:45:55.080659",
     "exception": false,
     "start_time": "2021-05-26T13:45:54.583362",
     "status": "completed"
    },
    "tags": []
   },
   "source": [
    "## Knit Travel Global Report\n",
    "\n",
    "#### This script exectutes the RMD that knits the Travel Global Report\n",
    "\n",
    "#### This can be run on its own or as part of the pipeline wherever called (ie from a papermill script or other user interface)."
   ]
  },
  {
   "cell_type": "code",
   "execution_count": 1,
   "id": "f9a611eb",
   "metadata": {
    "execution": {
     "iopub.execute_input": "2021-05-26T13:45:56.208768Z",
     "iopub.status.busy": "2021-05-26T13:45:56.187765Z",
     "iopub.status.idle": "2021-05-26T13:45:56.665219Z",
     "shell.execute_reply": "2021-05-26T13:45:56.651225Z"
    },
    "papermill": {
     "duration": 1.083458,
     "end_time": "2021-05-26T13:45:56.665219",
     "exception": false,
     "start_time": "2021-05-26T13:45:55.581761",
     "status": "completed"
    },
    "tags": [
     "parameters"
    ]
   },
   "outputs": [],
   "source": [
    "\n",
    "commit_message <- \"Development and testing.\"\n",
    "# Give a brief reason for the run.\n",
    "\n",
    "run_control <- 1\n",
    "#run_type = 0 - Lite run with no reporting, not recommended.\n",
    "#run_type = 1 - Lite run with normal reporting, default setting.\n",
    "#run_type = 2 - Heavy run with full reporting, available for audits and troubleshooting.\n",
    "#run_type = 5 - A default setting. Indicates the script is being run by an outside process without an inherited value\n",
    "\n",
    "percode <- \"2021.Q1\"\n",
    "# Data Collection Code, this controls file paths and output names\n",
    "# \"-f\" is the value indicating a bad inheritance from run with arg\n",
    "\n",
    "s_format <- \"p\"\n",
    "# denotes the source data format x == Excel; j == json, p == parquet\n",
    "\n",
    "#----------\n",
    "# do not edit - this either inherits the full instance timestamp from the papermill book or captures the run time of this script.\n",
    "\n",
    "inst_datetime <- format(Sys.time(), \"%S\")\n",
    "\n"
   ]
  },
  {
   "cell_type": "code",
   "execution_count": 2,
   "id": "eb50847f",
   "metadata": {
    "execution": {
     "iopub.execute_input": "2021-05-26T13:45:57.604118Z",
     "iopub.status.busy": "2021-05-26T13:45:57.422122Z",
     "iopub.status.idle": "2021-05-26T13:45:57.741129Z",
     "shell.execute_reply": "2021-05-26T13:45:57.731111Z"
    },
    "papermill": {
     "duration": 0.782525,
     "end_time": "2021-05-26T13:45:57.742112",
     "exception": false,
     "start_time": "2021-05-26T13:45:56.959587",
     "status": "completed"
    },
    "tags": [
     "injected-parameters"
    ]
   },
   "outputs": [],
   "source": [
    "# Parameters\n",
    "run_control = 1\n",
    "percode = \"2021.Q1\"\n",
    "commit_message = \"Strange etnry found in the 'type of account'.\"\n",
    "inst_datetime = \"05262021092926\"\n"
   ]
  },
  {
   "cell_type": "markdown",
   "id": "1c7afb73",
   "metadata": {
    "papermill": {
     "duration": 0.400123,
     "end_time": "2021-05-26T13:45:58.607706",
     "exception": false,
     "start_time": "2021-05-26T13:45:58.207583",
     "status": "completed"
    },
    "tags": []
   },
   "source": [
    "#### Default Variables, these govern logic, do not edit."
   ]
  },
  {
   "cell_type": "code",
   "execution_count": 3,
   "id": "9abf5879",
   "metadata": {
    "execution": {
     "iopub.execute_input": "2021-05-26T13:45:59.595890Z",
     "iopub.status.busy": "2021-05-26T13:45:59.587867Z",
     "iopub.status.idle": "2021-05-26T13:45:59.721414Z",
     "shell.execute_reply": "2021-05-26T13:45:59.710408Z"
    },
    "papermill": {
     "duration": 0.826185,
     "end_time": "2021-05-26T13:45:59.722407",
     "exception": false,
     "start_time": "2021-05-26T13:45:58.896222",
     "status": "completed"
    },
    "tags": []
   },
   "outputs": [],
   "source": [
    "default_dc <- \"20XX.QX\"\n",
    "default_rc <- 0 #extra lite mode\n",
    "dummy_perc <- \"33Q3\" # bad inheritance"
   ]
  },
  {
   "cell_type": "markdown",
   "id": "828d6377",
   "metadata": {
    "papermill": {
     "duration": 0.612502,
     "end_time": "2021-05-26T13:46:01.041709",
     "exception": false,
     "start_time": "2021-05-26T13:46:00.429207",
     "status": "completed"
    },
    "tags": []
   },
   "source": [
    "#### style settings"
   ]
  },
  {
   "cell_type": "code",
   "execution_count": 4,
   "id": "74c7a707",
   "metadata": {
    "execution": {
     "iopub.execute_input": "2021-05-26T13:46:02.185610Z",
     "iopub.status.busy": "2021-05-26T13:46:02.180602Z",
     "iopub.status.idle": "2021-05-26T13:46:02.275124Z",
     "shell.execute_reply": "2021-05-26T13:46:02.272121Z"
    },
    "papermill": {
     "duration": 0.567252,
     "end_time": "2021-05-26T13:46:02.276131",
     "exception": false,
     "start_time": "2021-05-26T13:46:01.708879",
     "status": "completed"
    },
    "tags": []
   },
   "outputs": [],
   "source": [
    "if (run_control == 5)\n",
    "    { run_control <- default_rc }\n",
    "\n",
    "if (run_control != 5) \n",
    "    { run_control <- run_control}\n",
    "\n",
    "# try:\n",
    "#     if sys.argv[1] == \"-f\":\n",
    "#         percode = percode\n",
    "#     else:\n",
    "#         percode = sys.argv[1]\n",
    "\n",
    "# except IndexError:\n",
    "#     percode = default_dc\n",
    "# except NameError:\n",
    "#     percode = default_dc\n"
   ]
  },
  {
   "cell_type": "markdown",
   "id": "3fce6ce2",
   "metadata": {
    "papermill": {
     "duration": 0.302666,
     "end_time": "2021-05-26T13:46:03.011266",
     "exception": false,
     "start_time": "2021-05-26T13:46:02.708600",
     "status": "completed"
    },
    "tags": []
   },
   "source": [
    "\n",
    "## Begin Input Read\n",
    "#### Make paths used in script\n",
    "### all paths should be modular and easily replaced ahead of operations"
   ]
  },
  {
   "cell_type": "code",
   "execution_count": 5,
   "id": "4fff4a34",
   "metadata": {
    "execution": {
     "iopub.execute_input": "2021-05-26T13:46:03.729166Z",
     "iopub.status.busy": "2021-05-26T13:46:03.710533Z",
     "iopub.status.idle": "2021-05-26T13:46:03.962163Z",
     "shell.execute_reply": "2021-05-26T13:46:03.958167Z"
    },
    "papermill": {
     "duration": 0.609639,
     "end_time": "2021-05-26T13:46:03.962163",
     "exception": false,
     "start_time": "2021-05-26T13:46:03.352524",
     "status": "completed"
    },
    "tags": []
   },
   "outputs": [
    {
     "data": {
      "text/html": [
       "'H:/Reporting/Data Collection/2021.Q1/Global Travel LOB Report/Travel_Global_Report.html'"
      ],
      "text/latex": [
       "'H:/Reporting/Data Collection/2021.Q1/Global Travel LOB Report/Travel\\_Global\\_Report.html'"
      ],
      "text/markdown": [
       "'H:/Reporting/Data Collection/2021.Q1/Global Travel LOB Report/Travel_Global_Report.html'"
      ],
      "text/plain": [
       "[1] \"H:/Reporting/Data Collection/2021.Q1/Global Travel LOB Report/Travel_Global_Report.html\""
      ]
     },
     "metadata": {},
     "output_type": "display_data"
    }
   ],
   "source": [
    "#root directory\n",
    "rt_networkpath <- '//hecate/Insurance_US/Product Development/Product Management/Global PPM/Reporting/Data Collection'\n",
    "\n",
    "# special for render\n",
    "rt_mappedpath <- 'H:/Reporting/Data Collection'\n",
    "\n",
    "#out_mappedpath <- paste(rt_mappedpath, percode,   'Global Travel LOB Report' , sep= '/')\n",
    "rmd_file <- 'Pipeline Reporting Scripts/Global Travel LOB Report/Travel_Global_Report.Rmd'\n",
    "\n",
    "rmd_path <- paste(rt_networkpath, rmd_file, sep =\"/\")\n",
    "#outfile <- paste('Travel_Global_Report_',gsub(\"\\\\.\",\"_\",percode),'.html', sep = '')\n",
    "\n",
    "rmdnetworkpath <- paste(rt_networkpath,rmd_file, sep =\"/\")\n",
    "\n",
    "html_path <- paste( rt_mappedpath , percode,   'Global Travel LOB Report', sep= '/')\n",
    "\n",
    "html_name <- 'Travel_Global_Report.html'\n",
    "\n",
    "html_full_name <- paste(html_path, html_name, sep = \"/\")\n",
    "\n",
    "html_full_name \n"
   ]
  },
  {
   "cell_type": "markdown",
   "id": "f946a1b3",
   "metadata": {
    "papermill": {
     "duration": 0.312548,
     "end_time": "2021-05-26T13:46:04.598956",
     "exception": false,
     "start_time": "2021-05-26T13:46:04.286408",
     "status": "completed"
    },
    "tags": []
   },
   "source": [
    "#### Execute Finance Comparison PnL.Rmd\n"
   ]
  },
  {
   "cell_type": "markdown",
   "id": "2a2f1405",
   "metadata": {
    "tags": [
     "papermill-error-cell-tag"
    ]
   },
   "source": [
    "<span id=\"papermill-error-cell\" style=\"color:red; font-family:Helvetica Neue, Helvetica, Arial, sans-serif; font-size:2em;\">Execution using papermill encountered an exception here and stopped:</span>"
   ]
  },
  {
   "cell_type": "code",
   "execution_count": 6,
   "id": "52ab312b",
   "metadata": {
    "execution": {
     "iopub.execute_input": "2021-05-26T13:46:05.252028Z",
     "iopub.status.busy": "2021-05-26T13:46:05.248042Z",
     "iopub.status.idle": "2021-05-26T13:46:56.110180Z",
     "shell.execute_reply": "2021-05-26T13:46:56.086145Z"
    },
    "papermill": {
     "duration": 51.208355,
     "end_time": "2021-05-26T13:46:56.111186",
     "exception": true,
     "start_time": "2021-05-26T13:46:04.902831",
     "status": "failed"
    },
    "tags": []
   },
   "outputs": [
    {
     "name": "stdout",
     "output_type": "stream",
     "text": [
      "[1] \"Knitting Travel Global Report\"\n"
     ]
    },
    {
     "name": "stderr",
     "output_type": "stream",
     "text": [
      "\n",
      "\n",
      "processing file: Travel_Global_Report.Rmd\n"
     ]
    },
    {
     "name": "stdout",
     "output_type": "stream",
     "text": [
      "\r",
      "  |                                                                            \r",
      "  |                                                                      |   0%"
     ]
    },
    {
     "name": "stdout",
     "output_type": "stream",
     "text": [
      "\r",
      "  |                                                                            \r",
      "  |.                                                                     |   1%"
     ]
    },
    {
     "name": "stdout",
     "output_type": "stream",
     "text": [
      "\n"
     ]
    },
    {
     "name": "stdout",
     "output_type": "stream",
     "text": [
      "  ordinary text without R code\n",
      "\n",
      "\r",
      "  |                                                                            \r",
      "  |.                                                                     |   2%"
     ]
    },
    {
     "name": "stdout",
     "output_type": "stream",
     "text": [
      "\n"
     ]
    },
    {
     "name": "stdout",
     "output_type": "stream",
     "text": [
      "label: setup (with options) \n",
      "List of 1\n",
      " $ include: logi FALSE\n",
      "\n"
     ]
    },
    {
     "name": "stderr",
     "output_type": "stream",
     "text": [
      "Warning message:\n",
      "\"package 'flexdashboard' was built under R version 3.6.3\""
     ]
    },
    {
     "name": "stderr",
     "output_type": "stream",
     "text": [
      "Warning message:\n",
      "\"package 'openxlsx' was built under R version 3.6.3\""
     ]
    },
    {
     "name": "stderr",
     "output_type": "stream",
     "text": [
      "Warning message:\n",
      "\"package 'data.table' was built under R version 3.6.3\""
     ]
    },
    {
     "name": "stderr",
     "output_type": "stream",
     "text": [
      "Warning message:\n",
      "\"package 'dplyr' was built under R version 3.6.3\""
     ]
    },
    {
     "name": "stderr",
     "output_type": "stream",
     "text": [
      "Registered S3 methods overwritten by 'tibble':\n",
      "  method     from  \n",
      "  format.tbl pillar\n",
      "  print.tbl  pillar\n"
     ]
    },
    {
     "name": "stderr",
     "output_type": "stream",
     "text": [
      "\n",
      "Attaching package: 'dplyr'\n",
      "\n"
     ]
    },
    {
     "name": "stderr",
     "output_type": "stream",
     "text": [
      "The following objects are masked from 'package:data.table':\n",
      "\n",
      "    between, first, last\n",
      "\n"
     ]
    },
    {
     "name": "stderr",
     "output_type": "stream",
     "text": [
      "The following objects are masked from 'package:stats':\n",
      "\n",
      "    filter, lag\n",
      "\n"
     ]
    },
    {
     "name": "stderr",
     "output_type": "stream",
     "text": [
      "The following objects are masked from 'package:base':\n",
      "\n",
      "    intersect, setdiff, setequal, union\n",
      "\n"
     ]
    },
    {
     "name": "stderr",
     "output_type": "stream",
     "text": [
      "Warning message:\n",
      "\"package 'magrittr' was built under R version 3.6.3\""
     ]
    },
    {
     "name": "stderr",
     "output_type": "stream",
     "text": [
      "Warning message:\n",
      "\"package 'knitr' was built under R version 3.6.3\""
     ]
    },
    {
     "name": "stderr",
     "output_type": "stream",
     "text": [
      "Warning message:\n",
      "\"package 'kableExtra' was built under R version 3.6.3\""
     ]
    },
    {
     "name": "stderr",
     "output_type": "stream",
     "text": [
      "\n",
      "Attaching package: 'kableExtra'\n",
      "\n"
     ]
    },
    {
     "name": "stderr",
     "output_type": "stream",
     "text": [
      "The following object is masked from 'package:dplyr':\n",
      "\n",
      "    group_rows\n",
      "\n"
     ]
    },
    {
     "name": "stderr",
     "output_type": "stream",
     "text": [
      "Warning message:\n",
      "\"package 'ggplot2' was built under R version 3.6.3\""
     ]
    },
    {
     "name": "stderr",
     "output_type": "stream",
     "text": [
      "Warning message:\n",
      "\"package 'patchwork' was built under R version 3.6.3\""
     ]
    },
    {
     "name": "stderr",
     "output_type": "stream",
     "text": [
      "Warning message:\n",
      "\"package 'DT' was built under R version 3.6.3\""
     ]
    },
    {
     "name": "stderr",
     "output_type": "stream",
     "text": [
      "Warning message:\n",
      "\"package 'scales' was built under R version 3.6.3\""
     ]
    },
    {
     "name": "stderr",
     "output_type": "stream",
     "text": [
      "Warning message:\n",
      "\"package 'stringr' was built under R version 3.6.3\""
     ]
    },
    {
     "name": "stderr",
     "output_type": "stream",
     "text": [
      "Warning message:\n",
      "\"package 'reticulate' was built under R version 3.6.3\""
     ]
    },
    {
     "name": "stdout",
     "output_type": "stream",
     "text": [
      "\r",
      "  |                                                                            \r",
      "  |..                                                                    |   3%"
     ]
    },
    {
     "name": "stdout",
     "output_type": "stream",
     "text": [
      "\n"
     ]
    },
    {
     "name": "stdout",
     "output_type": "stream",
     "text": [
      "  ordinary text without R code\n",
      "\n",
      "\r",
      "  |                                                                            \r",
      "  |...                                                                   |   4%"
     ]
    },
    {
     "name": "stdout",
     "output_type": "stream",
     "text": [
      "\n"
     ]
    },
    {
     "name": "stdout",
     "output_type": "stream",
     "text": [
      "label: py variable\n",
      "\r",
      "  |                                                                            \r",
      "  |...                                                                   |   5%"
     ]
    },
    {
     "name": "stdout",
     "output_type": "stream",
     "text": [
      "\n"
     ]
    },
    {
     "name": "stdout",
     "output_type": "stream",
     "text": [
      "  ordinary text without R code\n",
      "\n",
      "\r",
      "  |                                                                            \r",
      "  |....                                                                  |   6%"
     ]
    },
    {
     "name": "stdout",
     "output_type": "stream",
     "text": [
      "\n"
     ]
    },
    {
     "name": "stdout",
     "output_type": "stream",
     "text": [
      "label: pandas data read (with options) \n",
      "List of 1\n",
      " $ engine: chr \"python\"\n",
      "\n"
     ]
    },
    {
     "name": "stderr",
     "output_type": "stream",
     "text": [
      "Quitting from lines 168-187 (Travel_Global_Report.Rmd) \n"
     ]
    },
    {
     "ename": "ERROR",
     "evalue": "Error in py_call_impl(callable, dots$args, dots$keywords): FileNotFoundError: [Errno 2] File //hecate/Insurance_US/Product Development/Product Management/Global PPM/Reporting/Data Collection/Production/2021.Q1\\2021.Q1.euroconv.csv does not exist: '//hecate/Insurance_US/Product Development/Product Management/Global PPM/Reporting/Data Collection/Production/2021.Q1\\\\2021.Q1.euroconv.csv'\n\nDetailed traceback: \n  File \"<string>\", line 1, in <module>\n  File \"C:\\Users\\gharmo\\AppData\\Local\\r-miniconda\\envs\\r-reticulate\\lib\\site-packages\\pandas\\io\\parsers.py\", line 676, in parser_f\n    return _read(filepath_or_buffer, kwds)\n  File \"C:\\Users\\gharmo\\AppData\\Local\\r-miniconda\\envs\\r-reticulate\\lib\\site-packages\\pandas\\io\\parsers.py\", line 448, in _read\n    parser = TextFileReader(fp_or_buf, **kwds)\n  File \"C:\\Users\\gharmo\\AppData\\Local\\r-miniconda\\envs\\r-reticulate\\lib\\site-packages\\pandas\\io\\parsers.py\", line 880, in __init__\n    self._make_engine(self.engine)\n  File \"C:\\Users\\gharmo\\AppData\\Local\\r-miniconda\\envs\\r-reticulate\\lib\\site-packages\\pandas\\io\\parsers.py\", line 1114, in _make_engine\n    self._engine = CParserWrapper(self.f, **self.options)\n  File \"C:\\Users\\gharmo\\AppData\\Local\\r-miniconda\\envs\\r-reticulate\\lib\\site-packages\\pandas\\io\\parsers.py\", line 1891, in __init__\n    self._reader = parsers.TextReader(src, **kwds)\n  File \"pandas\\_libs\\parsers.pyx\", line 374, in pandas._libs.parsers.TextReader.__cinit__\n  File \"pandas\\_libs\\parsers.pyx\", line 674, in pandas._libs.parsers.TextReader._setup_parser_source\n\n",
     "output_type": "error",
     "traceback": [
      "Error in py_call_impl(callable, dots$args, dots$keywords): FileNotFoundError: [Errno 2] File //hecate/Insurance_US/Product Development/Product Management/Global PPM/Reporting/Data Collection/Production/2021.Q1\\2021.Q1.euroconv.csv does not exist: '//hecate/Insurance_US/Product Development/Product Management/Global PPM/Reporting/Data Collection/Production/2021.Q1\\\\2021.Q1.euroconv.csv'\n\nDetailed traceback: \n  File \"<string>\", line 1, in <module>\n  File \"C:\\Users\\gharmo\\AppData\\Local\\r-miniconda\\envs\\r-reticulate\\lib\\site-packages\\pandas\\io\\parsers.py\", line 676, in parser_f\n    return _read(filepath_or_buffer, kwds)\n  File \"C:\\Users\\gharmo\\AppData\\Local\\r-miniconda\\envs\\r-reticulate\\lib\\site-packages\\pandas\\io\\parsers.py\", line 448, in _read\n    parser = TextFileReader(fp_or_buf, **kwds)\n  File \"C:\\Users\\gharmo\\AppData\\Local\\r-miniconda\\envs\\r-reticulate\\lib\\site-packages\\pandas\\io\\parsers.py\", line 880, in __init__\n    self._make_engine(self.engine)\n  File \"C:\\Users\\gharmo\\AppData\\Local\\r-miniconda\\envs\\r-reticulate\\lib\\site-packages\\pandas\\io\\parsers.py\", line 1114, in _make_engine\n    self._engine = CParserWrapper(self.f, **self.options)\n  File \"C:\\Users\\gharmo\\AppData\\Local\\r-miniconda\\envs\\r-reticulate\\lib\\site-packages\\pandas\\io\\parsers.py\", line 1891, in __init__\n    self._reader = parsers.TextReader(src, **kwds)\n  File \"pandas\\_libs\\parsers.pyx\", line 374, in pandas._libs.parsers.TextReader.__cinit__\n  File \"pandas\\_libs\\parsers.pyx\", line 674, in pandas._libs.parsers.TextReader._setup_parser_source\n\nTraceback:\n",
      "1. rmarkdown::render(rmdnetworkpath, output_file = html_name, output_dir = html_path, \n .     params = list(region = \"all\", period = percode))",
      "2. knitr::knit(knit_input, knit_output, envir = envir, quiet = quiet)",
      "3. process_file(text, output)",
      "4. withCallingHandlers(if (tangle) process_tangle(group) else process_group(group), \n .     error = function(e) {\n .         setwd(wd)\n .         cat(res, sep = \"\\n\", file = output %n% \"\")\n .         message(\"Quitting from lines \", paste(current_lines(i), \n .             collapse = \"-\"), \" (\", knit_concord$get(\"infile\"), \n .             \") \")\n .     })",
      "5. process_group(group)",
      "6. process_group.block(group)",
      "7. call_block(x)",
      "8. block_exec(params)",
      "9. in_dir(input_dir(), engine(options))",
      "10. engine(options)",
      "11. reticulate::eng_python(options)",
      "12. py_compile_eval(snippet, compile_mode)",
      "13. py_capture_output(builtins$eval(compiled, globals, locals))",
      "14. force(expr)",
      "15. builtins$eval(compiled, globals, locals)",
      "16. py_call_impl(callable, dots$args, dots$keywords)"
     ]
    },
    {
     "name": "stdout",
     "output_type": "stream",
     "text": [
      "\n"
     ]
    }
   ],
   "source": [
    "print(\"Knitting Travel Global Report\")   \n",
    "\n",
    "rmarkdown::render(rmdnetworkpath, output_file = html_name ,  output_dir = html_path ,   params = list(region = 'all', period = percode ) )\n"
   ]
  },
  {
   "cell_type": "markdown",
   "id": "00162eb7",
   "metadata": {
    "papermill": {
     "duration": null,
     "end_time": null,
     "exception": null,
     "start_time": null,
     "status": "pending"
    },
    "tags": []
   },
   "source": [
    "#### Open the file that was knit"
   ]
  },
  {
   "cell_type": "code",
   "execution_count": null,
   "id": "cbe1e090",
   "metadata": {
    "papermill": {
     "duration": null,
     "end_time": null,
     "exception": null,
     "start_time": null,
     "status": "pending"
    },
    "tags": []
   },
   "outputs": [],
   "source": [
    "openHTML <- function(x) browseURL(paste0('file://', x))\n",
    "\n",
    "openHTML(html_full_name)"
   ]
  },
  {
   "cell_type": "code",
   "execution_count": null,
   "id": "5690662b",
   "metadata": {
    "papermill": {
     "duration": null,
     "end_time": null,
     "exception": null,
     "start_time": null,
     "status": "pending"
    },
    "tags": []
   },
   "outputs": [],
   "source": []
  }
 ],
 "metadata": {
  "celltoolbar": "Tags",
  "kernelspec": {
   "display_name": "R",
   "language": "R",
   "name": "ir"
  },
  "language_info": {
   "codemirror_mode": "r",
   "file_extension": ".r",
   "mimetype": "text/x-r-source",
   "name": "R",
   "pygments_lexer": "r",
   "version": "3.6.1"
  },
  "papermill": {
   "default_parameters": {},
   "duration": 73.867435,
   "end_time": "2021-05-26T13:46:58.651600",
   "environment_variables": {},
   "exception": true,
   "input_path": "reporting/knit Travel_Global_Report.ipynb",
   "output_path": "//hecate/Insurance_US/Product Development/Product Management/Global PPM/Reporting/Data Collection/Pipeline Reporting Scripts/GPMpipeline/instances/2021.Q1\\reporting\\knit Travel_Global_Report05262021092926--live run.ipynb",
   "parameters": {
    "commit_message": "Strange etnry found in the 'type of account'.",
    "inst_datetime": "05262021092926",
    "percode": "2021.Q1",
    "run_control": 1
   },
   "start_time": "2021-05-26T13:45:44.784165",
   "version": "2.3.3"
  }
 },
 "nbformat": 4,
 "nbformat_minor": 5
}