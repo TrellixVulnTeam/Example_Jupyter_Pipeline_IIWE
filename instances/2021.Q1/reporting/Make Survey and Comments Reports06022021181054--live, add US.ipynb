{
 "cells": [
  {
   "cell_type": "markdown",
   "id": "1f148384",
   "metadata": {
    "tags": [
     "papermill-error-cell-tag"
    ]
   },
   "source": [
    "<span style=\"color:red; font-family:Helvetica Neue, Helvetica, Arial, sans-serif; font-size:2em;\">An Exception was encountered at '<a href=\"#papermill-error-cell\">In [12]</a>'.</span>"
   ]
  },
  {
   "cell_type": "markdown",
   "id": "713a7af5",
   "metadata": {
    "papermill": {
     "duration": 0.280515,
     "end_time": "2021-06-02T22:26:22.112868",
     "exception": false,
     "start_time": "2021-06-02T22:26:21.832353",
     "status": "completed"
    },
    "tags": []
   },
   "source": [
    "<img src=\"../images/AzPTravel_PPM.png\">"
   ]
  },
  {
   "cell_type": "markdown",
   "id": "c8912a03",
   "metadata": {
    "papermill": {
     "duration": 0.258997,
     "end_time": "2021-06-02T22:26:22.613911",
     "exception": false,
     "start_time": "2021-06-02T22:26:22.354914",
     "status": "completed"
    },
    "tags": []
   },
   "source": [
    "## Validation Report Creation Script\n",
    "\n",
    "#### This script reads the output of the \"us_vdf*\" and \"us_vcomments*\" data files and summarizes  them into a report: Validations Review _{BU}.xlsx\n",
    "\n",
    "#### When finished, it will be able to be run on its own or as part of the pipeline wherever called (ie from a papermill script or other user inteface).\n"
   ]
  },
  {
   "cell_type": "markdown",
   "id": "0b9591d6",
   "metadata": {
    "papermill": {
     "duration": 0.270528,
     "end_time": "2021-06-02T22:26:23.119723",
     "exception": false,
     "start_time": "2021-06-02T22:26:22.849195",
     "status": "completed"
    },
    "tags": []
   },
   "source": [
    "### User Variables\n",
    "- These are overwritten if inherited from run_control.ipynb.\n",
    "- Feel Free to reset them for a manual run if you like\n",
    "- Do not save without percode = \"-f\""
   ]
  },
  {
   "cell_type": "code",
   "execution_count": 1,
   "id": "672d98e9",
   "metadata": {
    "execution": {
     "iopub.execute_input": "2021-06-02T22:26:23.645432Z",
     "iopub.status.busy": "2021-06-02T22:26:23.642433Z",
     "iopub.status.idle": "2021-06-02T22:26:23.648545Z",
     "shell.execute_reply": "2021-06-02T22:26:23.657430Z"
    },
    "papermill": {
     "duration": 0.296939,
     "end_time": "2021-06-02T22:26:23.658440",
     "exception": false,
     "start_time": "2021-06-02T22:26:23.361501",
     "status": "completed"
    },
    "tags": [
     "parameters"
    ]
   },
   "outputs": [],
   "source": [
    "commit_message = \"Development and testing.\"\n",
    "# Give a brief reason for the run.\n",
    "\n",
    "run_control = 1\n",
    "#run_type = 0 - Lite run with no reporting, not recommended.\n",
    "#run_type = 1 - Lite run with normal reporting, default setting.\n",
    "#run_type = 2 - Heavy run with full reporting, available for audits and troubleshooting.\n",
    "#run_type = 5 - A default setting. Indicates the script is being run by an outside process without an inherited value\n",
    "\n",
    "percode = \"2021.Q1\"\n",
    "# Data Collection Code, this controls file paths and output names\n",
    "# \"-f\" is the value indicating a bad inheritance from run with arg\n",
    "\n",
    "s_format = \"p\"\n",
    "# denotes the source data format x == Excel; j == json, p == parquet\n",
    "\n",
    "#----------\n",
    "# do not edit - this either inherits the full instance timestamp from the papermill book or captures the run time of this script.\n",
    "from datetime import datetime  # datetime options\n",
    "inst_datetime = datetime.now().strftime(\"%m%d%Y%H%M%S\")"
   ]
  },
  {
   "cell_type": "code",
   "execution_count": 2,
   "id": "e329502e",
   "metadata": {
    "execution": {
     "iopub.execute_input": "2021-06-02T22:26:24.217487Z",
     "iopub.status.busy": "2021-06-02T22:26:24.214487Z",
     "iopub.status.idle": "2021-06-02T22:26:24.222487Z",
     "shell.execute_reply": "2021-06-02T22:26:24.223491Z"
    },
    "papermill": {
     "duration": 0.314655,
     "end_time": "2021-06-02T22:26:24.223491",
     "exception": false,
     "start_time": "2021-06-02T22:26:23.908836",
     "status": "completed"
    },
    "tags": [
     "injected-parameters"
    ]
   },
   "outputs": [],
   "source": [
    "# Parameters\n",
    "run_control = 1\n",
    "percode = \"2021.Q1\"\n",
    "commit_message = \"Live run, added US, some troubleshooting.\"\n",
    "inst_datetime = \"06022021181054\"\n"
   ]
  },
  {
   "cell_type": "markdown",
   "id": "67278334",
   "metadata": {
    "papermill": {
     "duration": 0.25863,
     "end_time": "2021-06-02T22:26:24.711113",
     "exception": false,
     "start_time": "2021-06-02T22:26:24.452483",
     "status": "completed"
    },
    "tags": []
   },
   "source": [
    "#### Notebook display options"
   ]
  },
  {
   "cell_type": "code",
   "execution_count": 3,
   "id": "dbb3274e",
   "metadata": {
    "execution": {
     "iopub.execute_input": "2021-06-02T22:26:25.211591Z",
     "iopub.status.busy": "2021-06-02T22:26:25.209587Z",
     "iopub.status.idle": "2021-06-02T22:26:25.217592Z",
     "shell.execute_reply": "2021-06-02T22:26:25.218592Z"
    },
    "papermill": {
     "duration": 0.258997,
     "end_time": "2021-06-02T22:26:25.218592",
     "exception": false,
     "start_time": "2021-06-02T22:26:24.959595",
     "status": "completed"
    },
    "tags": []
   },
   "outputs": [],
   "source": [
    "from IPython.core.interactiveshell import InteractiveShell\n",
    "InteractiveShell.ast_node_interactivity = \"all\""
   ]
  },
  {
   "cell_type": "markdown",
   "id": "e66643bb",
   "metadata": {
    "papermill": {
     "duration": 0.25156,
     "end_time": "2021-06-02T22:26:25.729232",
     "exception": false,
     "start_time": "2021-06-02T22:26:25.477672",
     "status": "completed"
    },
    "tags": []
   },
   "source": [
    "#### import packages"
   ]
  },
  {
   "cell_type": "code",
   "execution_count": 4,
   "id": "7e7a4852",
   "metadata": {
    "execution": {
     "iopub.execute_input": "2021-06-02T22:26:26.262612Z",
     "iopub.status.busy": "2021-06-02T22:26:26.256611Z",
     "iopub.status.idle": "2021-06-02T22:26:33.688900Z",
     "shell.execute_reply": "2021-06-02T22:26:33.689900Z"
    },
    "papermill": {
     "duration": 7.698289,
     "end_time": "2021-06-02T22:26:33.690903",
     "exception": false,
     "start_time": "2021-06-02T22:26:25.992614",
     "status": "completed"
    },
    "tags": []
   },
   "outputs": [],
   "source": [
    "#### Packages used\n",
    "\n",
    "import os # System commands\n",
    "import sys # System commands\n",
    "\n",
    "import warnings # custom warnigns options\n",
    "\n",
    "import glob # Directory operations\n",
    "import getpass # Work with parquet\n",
    "import json # Work with json\n",
    "\n",
    "import matplotlib.pyplot as plt #Plots and Graphs\n",
    "import numpy as np # Series and math\n",
    "import pandas as pd #DataFrame and math\n",
    "\n",
    "#excel operations\n",
    "import re\n",
    "import nicexcel as nl # Excel operations\n",
    "import xlsxwriter # Excel operations\n",
    "import openpyxl # Excel operations\n"
   ]
  },
  {
   "cell_type": "markdown",
   "id": "70fe32cd",
   "metadata": {
    "papermill": {
     "duration": 0.248942,
     "end_time": "2021-06-02T22:26:34.219373",
     "exception": false,
     "start_time": "2021-06-02T22:26:33.970431",
     "status": "completed"
    },
    "tags": []
   },
   "source": [
    "#### Default Variables, these govern logic, do not edit."
   ]
  },
  {
   "cell_type": "code",
   "execution_count": 5,
   "id": "04749686",
   "metadata": {
    "execution": {
     "iopub.execute_input": "2021-06-02T22:26:34.707459Z",
     "iopub.status.busy": "2021-06-02T22:26:34.706463Z",
     "iopub.status.idle": "2021-06-02T22:26:34.713455Z",
     "shell.execute_reply": "2021-06-02T22:26:34.712459Z"
    },
    "papermill": {
     "duration": 0.255527,
     "end_time": "2021-06-02T22:26:34.714459",
     "exception": false,
     "start_time": "2021-06-02T22:26:34.458932",
     "status": "completed"
    },
    "tags": []
   },
   "outputs": [],
   "source": [
    "default_dc = \"20XX.QX\"\n",
    "default_rc = 0 #extra lite mode\n",
    "dummy_perc = \"33Q3\" # bad inheritance"
   ]
  },
  {
   "cell_type": "markdown",
   "id": "b746041d",
   "metadata": {
    "papermill": {
     "duration": 0.250558,
     "end_time": "2021-06-02T22:26:35.212068",
     "exception": false,
     "start_time": "2021-06-02T22:26:34.961510",
     "status": "completed"
    },
    "tags": []
   },
   "source": [
    "#### Script determining run context ie, manual, run_control.ipynb, or other."
   ]
  },
  {
   "cell_type": "code",
   "execution_count": 6,
   "id": "8d3221e3",
   "metadata": {
    "execution": {
     "iopub.execute_input": "2021-06-02T22:26:35.707591Z",
     "iopub.status.busy": "2021-06-02T22:26:35.706615Z",
     "iopub.status.idle": "2021-06-02T22:26:35.711595Z",
     "shell.execute_reply": "2021-06-02T22:26:35.712598Z"
    },
    "papermill": {
     "duration": 0.249013,
     "end_time": "2021-06-02T22:26:35.712598",
     "exception": false,
     "start_time": "2021-06-02T22:26:35.463585",
     "status": "completed"
    },
    "tags": []
   },
   "outputs": [],
   "source": [
    "if run_control == 5:\n",
    "    run_control = default_rc \n",
    "else:\n",
    "    run_control = run_control\n",
    "\n",
    "try:\n",
    "    if sys.argv[1] == \"-f\":\n",
    "        percode = percode\n",
    "    else:\n",
    "        percode = sys.argv[1]\n",
    "\n",
    "except IndexError:\n",
    "    percode = default_dc\n",
    "except NameError:\n",
    "    percode = default_dc\n"
   ]
  },
  {
   "cell_type": "markdown",
   "id": "df5c223f",
   "metadata": {
    "papermill": {
     "duration": 0.287003,
     "end_time": "2021-06-02T22:26:36.237947",
     "exception": false,
     "start_time": "2021-06-02T22:26:35.950944",
     "status": "completed"
    },
    "tags": []
   },
   "source": [
    "#### style settings"
   ]
  },
  {
   "cell_type": "code",
   "execution_count": 7,
   "id": "ded8c45f",
   "metadata": {
    "execution": {
     "iopub.execute_input": "2021-06-02T22:26:36.753966Z",
     "iopub.status.busy": "2021-06-02T22:26:36.749964Z",
     "iopub.status.idle": "2021-06-02T22:26:36.758974Z",
     "shell.execute_reply": "2021-06-02T22:26:36.760967Z"
    },
    "papermill": {
     "duration": 0.273993,
     "end_time": "2021-06-02T22:26:36.760967",
     "exception": false,
     "start_time": "2021-06-02T22:26:36.486974",
     "status": "completed"
    },
    "tags": []
   },
   "outputs": [],
   "source": [
    "from IPython.core.interactiveshell import InteractiveShell\n",
    "InteractiveShell.ast_node_interactivity = \"all\""
   ]
  },
  {
   "cell_type": "markdown",
   "id": "5bf8227a",
   "metadata": {
    "papermill": {
     "duration": 0.237988,
     "end_time": "2021-06-02T22:26:37.239964",
     "exception": false,
     "start_time": "2021-06-02T22:26:37.001976",
     "status": "completed"
    },
    "tags": []
   },
   "source": [
    "\n",
    "## Begin Input Read\n",
    "- Make paths used in script\n",
    "- all paths should be modular and easily replaced ahead of operations."
   ]
  },
  {
   "cell_type": "code",
   "execution_count": 8,
   "id": "2eb1783d",
   "metadata": {
    "execution": {
     "iopub.execute_input": "2021-06-02T22:26:37.752041Z",
     "iopub.status.busy": "2021-06-02T22:26:37.745046Z",
     "iopub.status.idle": "2021-06-02T22:26:37.758047Z",
     "shell.execute_reply": "2021-06-02T22:26:37.759040Z"
    },
    "papermill": {
     "duration": 0.273076,
     "end_time": "2021-06-02T22:26:37.760047",
     "exception": false,
     "start_time": "2021-06-02T22:26:37.486971",
     "status": "completed"
    },
    "tags": []
   },
   "outputs": [],
   "source": [
    "#root directory\n",
    "rt_path = os.path.join(f'\\\\\\\\hecate\\\\Insurance_US\\\\Product Development\\\\Product Management\\\\Global PPM\\\\Reporting\\Data Collection', percode  )\n",
    "\n",
    "#live sources directory\n",
    "ls_path = os.path.abspath(os.path.join( rt_path,\"..\" ,\"Production\",percode,'live_sources'))\n",
    "\n",
    "#report ouput dir\n",
    "rep_path = os.path.abspath(os.path.join(rt_path, '..','..', \"Data Collection\" ,f\"{percode}\", 'Surveys and Comments'))\n",
    "#report ouput archive dir\n",
    "rep_arch_path = os.path.abspath(os.path.join(rep_path, '..','..',f\"{percode}\",  'Archive'))\n"
   ]
  },
  {
   "cell_type": "markdown",
   "id": "8a99b641",
   "metadata": {
    "papermill": {
     "duration": 0.258864,
     "end_time": "2021-06-02T22:26:38.270425",
     "exception": false,
     "start_time": "2021-06-02T22:26:38.011561",
     "status": "completed"
    },
    "tags": []
   },
   "source": [
    "#### Make sources used in script\n",
    "- all sources should be modular and easily replaced ahead of operations."
   ]
  },
  {
   "cell_type": "code",
   "execution_count": 9,
   "id": "1000d19e",
   "metadata": {
    "execution": {
     "iopub.execute_input": "2021-06-02T22:26:38.791950Z",
     "iopub.status.busy": "2021-06-02T22:26:38.789947Z",
     "iopub.status.idle": "2021-06-02T22:26:38.798954Z",
     "shell.execute_reply": "2021-06-02T22:26:38.799947Z"
    },
    "papermill": {
     "duration": 0.266527,
     "end_time": "2021-06-02T22:26:38.800952",
     "exception": false,
     "start_time": "2021-06-02T22:26:38.534425",
     "status": "completed"
    },
    "tags": []
   },
   "outputs": [],
   "source": [
    "rep_xls = os.path.join(rep_path ,\"Surveys and Comments_xx.xlsx\"   )"
   ]
  },
  {
   "cell_type": "markdown",
   "id": "c7cd17ab",
   "metadata": {
    "papermill": {
     "duration": 0.264428,
     "end_time": "2021-06-02T22:26:39.305900",
     "exception": false,
     "start_time": "2021-06-02T22:26:39.041472",
     "status": "completed"
    },
    "tags": []
   },
   "source": [
    "#### Get a list of only source files in the path that start with \"us_dat\".\n",
    "#### Logic determines the source file types.\n",
    "\n",
    "#### User instructions:\n",
    "- Make sure that you have 1 file per source in this folder.\n",
    "    -  For instance, do not have two files for Portugal. If there is an update, archive the old one.\n",
    "- Do not overwrite files in the archive.\n",
    "    - Rename newly archived files, no strict convention, we keep track of these by the modified date.\n",
    "- It is ok to have multiple sources in one file."
   ]
  },
  {
   "cell_type": "code",
   "execution_count": 10,
   "id": "3247ceb3",
   "metadata": {
    "execution": {
     "iopub.execute_input": "2021-06-02T22:26:39.861383Z",
     "iopub.status.busy": "2021-06-02T22:26:39.851854Z",
     "iopub.status.idle": "2021-06-02T22:26:39.870380Z",
     "shell.execute_reply": "2021-06-02T22:26:39.871380Z"
    },
    "papermill": {
     "duration": 0.27329,
     "end_time": "2021-06-02T22:26:39.872383",
     "exception": false,
     "start_time": "2021-06-02T22:26:39.599093",
     "status": "completed"
    },
    "tags": []
   },
   "outputs": [],
   "source": [
    "files = os.listdir(ls_path)\n",
    "files = [files.lower() for files in files]\n",
    "\n",
    "files_sources = [f for f in files if f[-5:]  == '.json' or  f[-8:] == '.parquet']\n",
    "\n",
    "for idx, f in enumerate(files_sources):  files_sources[idx] = os.path.join(ls_path, f) \n"
   ]
  },
  {
   "cell_type": "markdown",
   "id": "2533833b",
   "metadata": {
    "papermill": {
     "duration": 0.316522,
     "end_time": "2021-06-02T22:26:40.427418",
     "exception": false,
     "start_time": "2021-06-02T22:26:40.110896",
     "status": "completed"
    },
    "tags": []
   },
   "source": [
    "#### Make a list of BUs that have comments available"
   ]
  },
  {
   "cell_type": "code",
   "execution_count": 11,
   "id": "c6a82738",
   "metadata": {
    "execution": {
     "iopub.execute_input": "2021-06-02T22:26:40.967009Z",
     "iopub.status.busy": "2021-06-02T22:26:40.966010Z",
     "iopub.status.idle": "2021-06-02T22:26:41.000009Z",
     "shell.execute_reply": "2021-06-02T22:26:41.002012Z"
    },
    "papermill": {
     "duration": 0.329595,
     "end_time": "2021-06-02T22:26:41.002012",
     "exception": false,
     "start_time": "2021-06-02T22:26:40.672417",
     "status": "completed"
    },
    "tags": []
   },
   "outputs": [
    {
     "data": {
      "text/plain": [
       "['\\\\\\\\hecate\\\\Insurance_US\\\\Product Development\\\\Product Management\\\\Global PPM\\\\Reporting\\\\Data Collection\\\\Production\\\\2021.Q1\\\\live_sources\\\\us_dat_at_+te_q1_2021_at.parquet',\n",
       " '\\\\\\\\hecate\\\\Insurance_US\\\\Product Development\\\\Product Management\\\\Global PPM\\\\Reporting\\\\Data Collection\\\\Production\\\\2021.Q1\\\\live_sources\\\\us_dat_au_05142021143612.parquet',\n",
       " '\\\\\\\\hecate\\\\Insurance_US\\\\Product Development\\\\Product Management\\\\Global PPM\\\\Reporting\\\\Data Collection\\\\Production\\\\2021.Q1\\\\live_sources\\\\us_dat_ca_05202021134242.parquet',\n",
       " '\\\\\\\\hecate\\\\Insurance_US\\\\Product Development\\\\Product Management\\\\Global PPM\\\\Reporting\\\\Data Collection\\\\Production\\\\2021.Q1\\\\live_sources\\\\us_dat_ch_05182021192455.parquet',\n",
       " '\\\\\\\\hecate\\\\Insurance_US\\\\Product Development\\\\Product Management\\\\Global PPM\\\\Reporting\\\\Data Collection\\\\Production\\\\2021.Q1\\\\live_sources\\\\us_dat_cz_05262021090243.parquet',\n",
       " '\\\\\\\\hecate\\\\Insurance_US\\\\Product Development\\\\Product Management\\\\Global PPM\\\\Reporting\\\\Data Collection\\\\Production\\\\2021.Q1\\\\live_sources\\\\us_dat_es_05202021105141.parquet',\n",
       " '\\\\\\\\hecate\\\\Insurance_US\\\\Product Development\\\\Product Management\\\\Global PPM\\\\Reporting\\\\Data Collection\\\\Production\\\\2021.Q1\\\\live_sources\\\\us_dat_gr_05252021115404.parquet',\n",
       " '\\\\\\\\hecate\\\\Insurance_US\\\\Product Development\\\\Product Management\\\\Global PPM\\\\Reporting\\\\Data Collection\\\\Production\\\\2021.Q1\\\\live_sources\\\\us_dat_it_05242021111520.parquet',\n",
       " '\\\\\\\\hecate\\\\Insurance_US\\\\Product Development\\\\Product Management\\\\Global PPM\\\\Reporting\\\\Data Collection\\\\Production\\\\2021.Q1\\\\live_sources\\\\us_dat_nl_05272021163120.parquet',\n",
       " '\\\\\\\\hecate\\\\Insurance_US\\\\Product Development\\\\Product Management\\\\Global PPM\\\\Reporting\\\\Data Collection\\\\Production\\\\2021.Q1\\\\live_sources\\\\us_dat_pl_05262021084450.parquet',\n",
       " '\\\\\\\\hecate\\\\Insurance_US\\\\Product Development\\\\Product Management\\\\Global PPM\\\\Reporting\\\\Data Collection\\\\Production\\\\2021.Q1\\\\live_sources\\\\us_dat_pt_05202021121056.parquet',\n",
       " '\\\\\\\\hecate\\\\Insurance_US\\\\Product Development\\\\Product Management\\\\Global PPM\\\\Reporting\\\\Data Collection\\\\Production\\\\2021.Q1\\\\live_sources\\\\us_dat_us_06022021145526.parquet',\n",
       " '\\\\\\\\hecate\\\\Insurance_US\\\\Product Development\\\\Product Management\\\\Global PPM\\\\Reporting\\\\Data Collection\\\\Production\\\\2021.Q1\\\\live_sources\\\\us_orig_at_06022021144027.parquet',\n",
       " '\\\\\\\\hecate\\\\Insurance_US\\\\Product Development\\\\Product Management\\\\Global PPM\\\\Reporting\\\\Data Collection\\\\Production\\\\2021.Q1\\\\live_sources\\\\us_orig_au_05142021143611.json',\n",
       " '\\\\\\\\hecate\\\\Insurance_US\\\\Product Development\\\\Product Management\\\\Global PPM\\\\Reporting\\\\Data Collection\\\\Production\\\\2021.Q1\\\\live_sources\\\\us_orig_ca_05202021134242.parquet',\n",
       " '\\\\\\\\hecate\\\\Insurance_US\\\\Product Development\\\\Product Management\\\\Global PPM\\\\Reporting\\\\Data Collection\\\\Production\\\\2021.Q1\\\\live_sources\\\\us_orig_ch_05182021192455.parquet',\n",
       " '\\\\\\\\hecate\\\\Insurance_US\\\\Product Development\\\\Product Management\\\\Global PPM\\\\Reporting\\\\Data Collection\\\\Production\\\\2021.Q1\\\\live_sources\\\\us_orig_cz_05242021103837.parquet',\n",
       " '\\\\\\\\hecate\\\\Insurance_US\\\\Product Development\\\\Product Management\\\\Global PPM\\\\Reporting\\\\Data Collection\\\\Production\\\\2021.Q1\\\\live_sources\\\\us_orig_cz_05262021090243.parquet',\n",
       " '\\\\\\\\hecate\\\\Insurance_US\\\\Product Development\\\\Product Management\\\\Global PPM\\\\Reporting\\\\Data Collection\\\\Production\\\\2021.Q1\\\\live_sources\\\\us_orig_es_05202021105141.parquet',\n",
       " '\\\\\\\\hecate\\\\Insurance_US\\\\Product Development\\\\Product Management\\\\Global PPM\\\\Reporting\\\\Data Collection\\\\Production\\\\2021.Q1\\\\live_sources\\\\us_orig_gr_05252021115404.parquet',\n",
       " '\\\\\\\\hecate\\\\Insurance_US\\\\Product Development\\\\Product Management\\\\Global PPM\\\\Reporting\\\\Data Collection\\\\Production\\\\2021.Q1\\\\live_sources\\\\us_orig_it_05242021111520.parquet',\n",
       " '\\\\\\\\hecate\\\\Insurance_US\\\\Product Development\\\\Product Management\\\\Global PPM\\\\Reporting\\\\Data Collection\\\\Production\\\\2021.Q1\\\\live_sources\\\\us_orig_nl_05272021163119.parquet',\n",
       " '\\\\\\\\hecate\\\\Insurance_US\\\\Product Development\\\\Product Management\\\\Global PPM\\\\Reporting\\\\Data Collection\\\\Production\\\\2021.Q1\\\\live_sources\\\\us_orig_pl_05262021084450.parquet',\n",
       " '\\\\\\\\hecate\\\\Insurance_US\\\\Product Development\\\\Product Management\\\\Global PPM\\\\Reporting\\\\Data Collection\\\\Production\\\\2021.Q1\\\\live_sources\\\\us_orig_pt_05202021121055.parquet',\n",
       " '\\\\\\\\hecate\\\\Insurance_US\\\\Product Development\\\\Product Management\\\\Global PPM\\\\Reporting\\\\Data Collection\\\\Production\\\\2021.Q1\\\\live_sources\\\\us_orig_us_06022021145525.parquet',\n",
       " '\\\\\\\\hecate\\\\Insurance_US\\\\Product Development\\\\Product Management\\\\Global PPM\\\\Reporting\\\\Data Collection\\\\Production\\\\2021.Q1\\\\live_sources\\\\us_survey_au_02172021174808.parquet',\n",
       " '\\\\\\\\hecate\\\\Insurance_US\\\\Product Development\\\\Product Management\\\\Global PPM\\\\Reporting\\\\Data Collection\\\\Production\\\\2021.Q1\\\\live_sources\\\\us_survey_au_05142021143750.parquet',\n",
       " '\\\\\\\\hecate\\\\Insurance_US\\\\Product Development\\\\Product Management\\\\Global PPM\\\\Reporting\\\\Data Collection\\\\Production\\\\2021.Q1\\\\live_sources\\\\us_survey_ca_05202021135610.parquet',\n",
       " '\\\\\\\\hecate\\\\Insurance_US\\\\Product Development\\\\Product Management\\\\Global PPM\\\\Reporting\\\\Data Collection\\\\Production\\\\2021.Q1\\\\live_sources\\\\us_survey_ch_05182021192905.parquet',\n",
       " '\\\\\\\\hecate\\\\Insurance_US\\\\Product Development\\\\Product Management\\\\Global PPM\\\\Reporting\\\\Data Collection\\\\Production\\\\2021.Q1\\\\live_sources\\\\us_survey_cz_05262021090440.parquet',\n",
       " '\\\\\\\\hecate\\\\Insurance_US\\\\Product Development\\\\Product Management\\\\Global PPM\\\\Reporting\\\\Data Collection\\\\Production\\\\2021.Q1\\\\live_sources\\\\us_survey_es_05202021105431.parquet',\n",
       " '\\\\\\\\hecate\\\\Insurance_US\\\\Product Development\\\\Product Management\\\\Global PPM\\\\Reporting\\\\Data Collection\\\\Production\\\\2021.Q1\\\\live_sources\\\\us_survey_gr_05252021115827.parquet',\n",
       " '\\\\\\\\hecate\\\\Insurance_US\\\\Product Development\\\\Product Management\\\\Global PPM\\\\Reporting\\\\Data Collection\\\\Production\\\\2021.Q1\\\\live_sources\\\\us_survey_it_05242021111759.parquet',\n",
       " '\\\\\\\\hecate\\\\Insurance_US\\\\Product Development\\\\Product Management\\\\Global PPM\\\\Reporting\\\\Data Collection\\\\Production\\\\2021.Q1\\\\live_sources\\\\us_survey_nl_05272021163630.parquet',\n",
       " '\\\\\\\\hecate\\\\Insurance_US\\\\Product Development\\\\Product Management\\\\Global PPM\\\\Reporting\\\\Data Collection\\\\Production\\\\2021.Q1\\\\live_sources\\\\us_survey_pl_05262021084708.parquet',\n",
       " '\\\\\\\\hecate\\\\Insurance_US\\\\Product Development\\\\Product Management\\\\Global PPM\\\\Reporting\\\\Data Collection\\\\Production\\\\2021.Q1\\\\live_sources\\\\us_survey_pt_05202021121304.parquet',\n",
       " '\\\\\\\\hecate\\\\Insurance_US\\\\Product Development\\\\Product Management\\\\Global PPM\\\\Reporting\\\\Data Collection\\\\Production\\\\2021.Q1\\\\live_sources\\\\us_vcomments_at_06022021144027.parquet',\n",
       " '\\\\\\\\hecate\\\\Insurance_US\\\\Product Development\\\\Product Management\\\\Global PPM\\\\Reporting\\\\Data Collection\\\\Production\\\\2021.Q1\\\\live_sources\\\\us_vcomments_au_02172021174434.parquet',\n",
       " '\\\\\\\\hecate\\\\Insurance_US\\\\Product Development\\\\Product Management\\\\Global PPM\\\\Reporting\\\\Data Collection\\\\Production\\\\2021.Q1\\\\live_sources\\\\us_vcomments_au_02172021174440.parquet',\n",
       " '\\\\\\\\hecate\\\\Insurance_US\\\\Product Development\\\\Product Management\\\\Global PPM\\\\Reporting\\\\Data Collection\\\\Production\\\\2021.Q1\\\\live_sources\\\\us_vcomments_au_05142021143612.parquet',\n",
       " '\\\\\\\\hecate\\\\Insurance_US\\\\Product Development\\\\Product Management\\\\Global PPM\\\\Reporting\\\\Data Collection\\\\Production\\\\2021.Q1\\\\live_sources\\\\us_vcomments_au_05142021143617.parquet',\n",
       " '\\\\\\\\hecate\\\\Insurance_US\\\\Product Development\\\\Product Management\\\\Global PPM\\\\Reporting\\\\Data Collection\\\\Production\\\\2021.Q1\\\\live_sources\\\\us_vcomments_au_mnual_creation.parquet',\n",
       " '\\\\\\\\hecate\\\\Insurance_US\\\\Product Development\\\\Product Management\\\\Global PPM\\\\Reporting\\\\Data Collection\\\\Production\\\\2021.Q1\\\\live_sources\\\\us_vcomments_ca_05202021134242.parquet',\n",
       " '\\\\\\\\hecate\\\\Insurance_US\\\\Product Development\\\\Product Management\\\\Global PPM\\\\Reporting\\\\Data Collection\\\\Production\\\\2021.Q1\\\\live_sources\\\\us_vcomments_ch_05182021192455.parquet',\n",
       " '\\\\\\\\hecate\\\\Insurance_US\\\\Product Development\\\\Product Management\\\\Global PPM\\\\Reporting\\\\Data Collection\\\\Production\\\\2021.Q1\\\\live_sources\\\\us_vcomments_ch_05182021192456.parquet',\n",
       " '\\\\\\\\hecate\\\\Insurance_US\\\\Product Development\\\\Product Management\\\\Global PPM\\\\Reporting\\\\Data Collection\\\\Production\\\\2021.Q1\\\\live_sources\\\\us_vcomments_cz_05242021103837.parquet',\n",
       " '\\\\\\\\hecate\\\\Insurance_US\\\\Product Development\\\\Product Management\\\\Global PPM\\\\Reporting\\\\Data Collection\\\\Production\\\\2021.Q1\\\\live_sources\\\\us_vcomments_cz_05262021090243.parquet',\n",
       " '\\\\\\\\hecate\\\\Insurance_US\\\\Product Development\\\\Product Management\\\\Global PPM\\\\Reporting\\\\Data Collection\\\\Production\\\\2021.Q1\\\\live_sources\\\\us_vcomments_es_05202021105141.parquet',\n",
       " '\\\\\\\\hecate\\\\Insurance_US\\\\Product Development\\\\Product Management\\\\Global PPM\\\\Reporting\\\\Data Collection\\\\Production\\\\2021.Q1\\\\live_sources\\\\us_vcomments_es_05202021105142.parquet',\n",
       " '\\\\\\\\hecate\\\\Insurance_US\\\\Product Development\\\\Product Management\\\\Global PPM\\\\Reporting\\\\Data Collection\\\\Production\\\\2021.Q1\\\\live_sources\\\\us_vcomments_gr_05252021115404.parquet',\n",
       " '\\\\\\\\hecate\\\\Insurance_US\\\\Product Development\\\\Product Management\\\\Global PPM\\\\Reporting\\\\Data Collection\\\\Production\\\\2021.Q1\\\\live_sources\\\\us_vcomments_it_05242021111521.parquet',\n",
       " '\\\\\\\\hecate\\\\Insurance_US\\\\Product Development\\\\Product Management\\\\Global PPM\\\\Reporting\\\\Data Collection\\\\Production\\\\2021.Q1\\\\live_sources\\\\us_vcomments_nl_05272021163120.parquet',\n",
       " '\\\\\\\\hecate\\\\Insurance_US\\\\Product Development\\\\Product Management\\\\Global PPM\\\\Reporting\\\\Data Collection\\\\Production\\\\2021.Q1\\\\live_sources\\\\us_vcomments_pl_05262021084450.parquet',\n",
       " '\\\\\\\\hecate\\\\Insurance_US\\\\Product Development\\\\Product Management\\\\Global PPM\\\\Reporting\\\\Data Collection\\\\Production\\\\2021.Q1\\\\live_sources\\\\us_vcomments_pt_05202021121056.parquet',\n",
       " '\\\\\\\\hecate\\\\Insurance_US\\\\Product Development\\\\Product Management\\\\Global PPM\\\\Reporting\\\\Data Collection\\\\Production\\\\2021.Q1\\\\live_sources\\\\us_vcomments_us_06022021145526.parquet',\n",
       " '\\\\\\\\hecate\\\\Insurance_US\\\\Product Development\\\\Product Management\\\\Global PPM\\\\Reporting\\\\Data Collection\\\\Production\\\\2021.Q1\\\\live_sources\\\\us_vdf_at_06022021144027.json',\n",
       " '\\\\\\\\hecate\\\\Insurance_US\\\\Product Development\\\\Product Management\\\\Global PPM\\\\Reporting\\\\Data Collection\\\\Production\\\\2021.Q1\\\\live_sources\\\\us_vdf_au_man42021143613.json',\n",
       " '\\\\\\\\hecate\\\\Insurance_US\\\\Product Development\\\\Product Management\\\\Global PPM\\\\Reporting\\\\Data Collection\\\\Production\\\\2021.Q1\\\\live_sources\\\\us_vdf_ca_05202021134242.json',\n",
       " '\\\\\\\\hecate\\\\Insurance_US\\\\Product Development\\\\Product Management\\\\Global PPM\\\\Reporting\\\\Data Collection\\\\Production\\\\2021.Q1\\\\live_sources\\\\us_vdf_ch_05182021192456.json',\n",
       " '\\\\\\\\hecate\\\\Insurance_US\\\\Product Development\\\\Product Management\\\\Global PPM\\\\Reporting\\\\Data Collection\\\\Production\\\\2021.Q1\\\\live_sources\\\\us_vdf_cz_05242021103837.json',\n",
       " '\\\\\\\\hecate\\\\Insurance_US\\\\Product Development\\\\Product Management\\\\Global PPM\\\\Reporting\\\\Data Collection\\\\Production\\\\2021.Q1\\\\live_sources\\\\us_vdf_cz_05262021090243.json',\n",
       " '\\\\\\\\hecate\\\\Insurance_US\\\\Product Development\\\\Product Management\\\\Global PPM\\\\Reporting\\\\Data Collection\\\\Production\\\\2021.Q1\\\\live_sources\\\\us_vdf_es_05202021105142.json',\n",
       " '\\\\\\\\hecate\\\\Insurance_US\\\\Product Development\\\\Product Management\\\\Global PPM\\\\Reporting\\\\Data Collection\\\\Production\\\\2021.Q1\\\\live_sources\\\\us_vdf_gr_05252021115404.json',\n",
       " '\\\\\\\\hecate\\\\Insurance_US\\\\Product Development\\\\Product Management\\\\Global PPM\\\\Reporting\\\\Data Collection\\\\Production\\\\2021.Q1\\\\live_sources\\\\us_vdf_it_05242021111521.json',\n",
       " '\\\\\\\\hecate\\\\Insurance_US\\\\Product Development\\\\Product Management\\\\Global PPM\\\\Reporting\\\\Data Collection\\\\Production\\\\2021.Q1\\\\live_sources\\\\us_vdf_nl_05272021163120.json',\n",
       " '\\\\\\\\hecate\\\\Insurance_US\\\\Product Development\\\\Product Management\\\\Global PPM\\\\Reporting\\\\Data Collection\\\\Production\\\\2021.Q1\\\\live_sources\\\\us_vdf_pl_05262021084450.json',\n",
       " '\\\\\\\\hecate\\\\Insurance_US\\\\Product Development\\\\Product Management\\\\Global PPM\\\\Reporting\\\\Data Collection\\\\Production\\\\2021.Q1\\\\live_sources\\\\us_vdf_pt_05202021121056.json',\n",
       " '\\\\\\\\hecate\\\\Insurance_US\\\\Product Development\\\\Product Management\\\\Global PPM\\\\Reporting\\\\Data Collection\\\\Production\\\\2021.Q1\\\\live_sources\\\\us_vdf_us_06022021145526.json']"
      ]
     },
     "execution_count": 11,
     "metadata": {},
     "output_type": "execute_result"
    }
   ],
   "source": [
    "prelist_jfiles = glob.glob(os.path.join(ls_path, 'us_vcomments_*.json'))\n",
    "prelist_pfiles = glob.glob(os.path.join(ls_path, 'us_vcomments_*.parquet'))\n",
    "\n",
    "prelist_files = []\n",
    "    \n",
    "for i in prelist_jfiles : prelist_files.append(i)    \n",
    "for i in prelist_pfiles : prelist_files.append(i)\n",
    "\n",
    "\n",
    "for idx, i in enumerate(prelist_jfiles):\n",
    "    prelist_jfiles[idx] = prelist_jfiles[idx][-23:-19]\n",
    "    prelist_jfiles[idx] = prelist_jfiles[idx].replace('_','')\n",
    "\n",
    "for idx, i in enumerate(prelist_pfiles):\n",
    "    prelist_pfiles[idx] = prelist_pfiles[idx][-26:-22]\n",
    "    prelist_pfiles[idx] = prelist_pfiles[idx].replace('_','')\n",
    "\n",
    "list_bus = []\n",
    "    \n",
    "for i in prelist_jfiles : list_bus.append(i)    \n",
    "for i in prelist_pfiles : list_bus.append(i)\n",
    "\n",
    "\n",
    "BU_set = set(list_bus)\n",
    "BU_list = list(BU_set)\n",
    "\n",
    "files_sources\n"
   ]
  },
  {
   "cell_type": "markdown",
   "id": "bf8dcc37",
   "metadata": {
    "tags": [
     "papermill-error-cell-tag"
    ]
   },
   "source": [
    "<span id=\"papermill-error-cell\" style=\"color:red; font-family:Helvetica Neue, Helvetica, Arial, sans-serif; font-size:2em;\">Execution using papermill encountered an exception here and stopped:</span>"
   ]
  },
  {
   "cell_type": "code",
   "execution_count": 12,
   "id": "45982d4c",
   "metadata": {
    "execution": {
     "iopub.execute_input": "2021-06-02T22:26:41.536541Z",
     "iopub.status.busy": "2021-06-02T22:26:41.534545Z",
     "iopub.status.idle": "2021-06-02T22:27:40.880768Z",
     "shell.execute_reply": "2021-06-02T22:27:40.872770Z"
    },
    "papermill": {
     "duration": 59.62622,
     "end_time": "2021-06-02T22:27:40.880768",
     "exception": true,
     "start_time": "2021-06-02T22:26:41.254548",
     "status": "failed"
    },
    "pycharm": {
     "name": "#%%\n"
    },
    "tags": []
   },
   "outputs": [
    {
     "name": "stdout",
     "output_type": "stream",
     "text": [
      "_nl\n",
      "['\\\\\\\\hecate\\\\Insurance_US\\\\Product Development\\\\Product Management\\\\Global PPM\\\\Reporting\\\\Data Collection\\\\Production\\\\2021.Q1\\\\live_sources\\\\us_orig_nl_05272021163119.parquet']\n"
     ]
    },
    {
     "name": "stdout",
     "output_type": "stream",
     "text": [
      "_nl\n",
      "['\\\\\\\\hecate\\\\Insurance_US\\\\Product Development\\\\Product Management\\\\Global PPM\\\\Reporting\\\\Data Collection\\\\Production\\\\2021.Q1\\\\live_sources\\\\us_dat_nl_05272021163120.parquet']\n"
     ]
    },
    {
     "name": "stdout",
     "output_type": "stream",
     "text": [
      "_nl\n",
      "['\\\\\\\\hecate\\\\Insurance_US\\\\Product Development\\\\Product Management\\\\Global PPM\\\\Reporting\\\\Data Collection\\\\Production\\\\2021.Q1\\\\live_sources\\\\us_vcomments_nl_05272021163120.parquet']\n"
     ]
    },
    {
     "name": "stdout",
     "output_type": "stream",
     "text": [
      "_nl\n",
      "['\\\\\\\\hecate\\\\Insurance_US\\\\Product Development\\\\Product Management\\\\Global PPM\\\\Reporting\\\\Data Collection\\\\Production\\\\2021.Q1\\\\live_sources\\\\us_survey_nl_05272021163630.parquet']\n"
     ]
    },
    {
     "name": "stdout",
     "output_type": "stream",
     "text": [
      "Original Data Set\n"
     ]
    },
    {
     "name": "stdout",
     "output_type": "stream",
     "text": [
      "Final Data Set\n"
     ]
    },
    {
     "name": "stdout",
     "output_type": "stream",
     "text": [
      "Validations\n"
     ]
    },
    {
     "name": "stdout",
     "output_type": "stream",
     "text": [
      "Survey\n"
     ]
    },
    {
     "name": "stdout",
     "output_type": "stream",
     "text": [
      "_es\n",
      "['\\\\\\\\hecate\\\\Insurance_US\\\\Product Development\\\\Product Management\\\\Global PPM\\\\Reporting\\\\Data Collection\\\\Production\\\\2021.Q1\\\\live_sources\\\\us_orig_es_05202021105141.parquet']\n"
     ]
    },
    {
     "name": "stdout",
     "output_type": "stream",
     "text": [
      "_es\n",
      "['\\\\\\\\hecate\\\\Insurance_US\\\\Product Development\\\\Product Management\\\\Global PPM\\\\Reporting\\\\Data Collection\\\\Production\\\\2021.Q1\\\\live_sources\\\\us_dat_es_05202021105141.parquet']\n"
     ]
    },
    {
     "name": "stdout",
     "output_type": "stream",
     "text": [
      "_es\n",
      "['\\\\\\\\hecate\\\\Insurance_US\\\\Product Development\\\\Product Management\\\\Global PPM\\\\Reporting\\\\Data Collection\\\\Production\\\\2021.Q1\\\\live_sources\\\\us_vcomments_es_05202021105141.parquet', '\\\\\\\\hecate\\\\Insurance_US\\\\Product Development\\\\Product Management\\\\Global PPM\\\\Reporting\\\\Data Collection\\\\Production\\\\2021.Q1\\\\live_sources\\\\us_vcomments_es_05202021105142.parquet']\n"
     ]
    },
    {
     "name": "stdout",
     "output_type": "stream",
     "text": [
      "_es\n",
      "['\\\\\\\\hecate\\\\Insurance_US\\\\Product Development\\\\Product Management\\\\Global PPM\\\\Reporting\\\\Data Collection\\\\Production\\\\2021.Q1\\\\live_sources\\\\us_survey_es_05202021105431.parquet']\n"
     ]
    },
    {
     "name": "stdout",
     "output_type": "stream",
     "text": [
      "Original Data Set\n"
     ]
    },
    {
     "name": "stdout",
     "output_type": "stream",
     "text": [
      "Final Data Set\n"
     ]
    },
    {
     "name": "stdout",
     "output_type": "stream",
     "text": [
      "Validations\n"
     ]
    },
    {
     "name": "stdout",
     "output_type": "stream",
     "text": [
      "Survey\n"
     ]
    },
    {
     "name": "stdout",
     "output_type": "stream",
     "text": [
      "_pl\n",
      "['\\\\\\\\hecate\\\\Insurance_US\\\\Product Development\\\\Product Management\\\\Global PPM\\\\Reporting\\\\Data Collection\\\\Production\\\\2021.Q1\\\\live_sources\\\\us_orig_pl_05262021084450.parquet']\n"
     ]
    },
    {
     "name": "stdout",
     "output_type": "stream",
     "text": [
      "_pl\n",
      "['\\\\\\\\hecate\\\\Insurance_US\\\\Product Development\\\\Product Management\\\\Global PPM\\\\Reporting\\\\Data Collection\\\\Production\\\\2021.Q1\\\\live_sources\\\\us_dat_pl_05262021084450.parquet']\n"
     ]
    },
    {
     "name": "stdout",
     "output_type": "stream",
     "text": [
      "_pl\n",
      "['\\\\\\\\hecate\\\\Insurance_US\\\\Product Development\\\\Product Management\\\\Global PPM\\\\Reporting\\\\Data Collection\\\\Production\\\\2021.Q1\\\\live_sources\\\\us_vcomments_pl_05262021084450.parquet']\n"
     ]
    },
    {
     "name": "stdout",
     "output_type": "stream",
     "text": [
      "_pl\n",
      "['\\\\\\\\hecate\\\\Insurance_US\\\\Product Development\\\\Product Management\\\\Global PPM\\\\Reporting\\\\Data Collection\\\\Production\\\\2021.Q1\\\\live_sources\\\\us_survey_pl_05262021084708.parquet']\n"
     ]
    },
    {
     "name": "stdout",
     "output_type": "stream",
     "text": [
      "Original Data Set\n"
     ]
    },
    {
     "name": "stdout",
     "output_type": "stream",
     "text": [
      "Final Data Set\n"
     ]
    },
    {
     "name": "stdout",
     "output_type": "stream",
     "text": [
      "Validations\n"
     ]
    },
    {
     "name": "stdout",
     "output_type": "stream",
     "text": [
      "Survey\n"
     ]
    },
    {
     "name": "stdout",
     "output_type": "stream",
     "text": [
      "_pt\n",
      "['\\\\\\\\hecate\\\\Insurance_US\\\\Product Development\\\\Product Management\\\\Global PPM\\\\Reporting\\\\Data Collection\\\\Production\\\\2021.Q1\\\\live_sources\\\\us_orig_pt_05202021121055.parquet']\n"
     ]
    },
    {
     "name": "stdout",
     "output_type": "stream",
     "text": [
      "_pt\n",
      "['\\\\\\\\hecate\\\\Insurance_US\\\\Product Development\\\\Product Management\\\\Global PPM\\\\Reporting\\\\Data Collection\\\\Production\\\\2021.Q1\\\\live_sources\\\\us_dat_pt_05202021121056.parquet']\n"
     ]
    },
    {
     "name": "stdout",
     "output_type": "stream",
     "text": [
      "_pt\n",
      "['\\\\\\\\hecate\\\\Insurance_US\\\\Product Development\\\\Product Management\\\\Global PPM\\\\Reporting\\\\Data Collection\\\\Production\\\\2021.Q1\\\\live_sources\\\\us_vcomments_pt_05202021121056.parquet']\n"
     ]
    },
    {
     "name": "stdout",
     "output_type": "stream",
     "text": [
      "_pt\n",
      "['\\\\\\\\hecate\\\\Insurance_US\\\\Product Development\\\\Product Management\\\\Global PPM\\\\Reporting\\\\Data Collection\\\\Production\\\\2021.Q1\\\\live_sources\\\\us_survey_pt_05202021121304.parquet']\n"
     ]
    },
    {
     "name": "stdout",
     "output_type": "stream",
     "text": [
      "Original Data Set\n"
     ]
    },
    {
     "name": "stdout",
     "output_type": "stream",
     "text": [
      "Final Data Set\n"
     ]
    },
    {
     "name": "stdout",
     "output_type": "stream",
     "text": [
      "Validations\n"
     ]
    },
    {
     "name": "stdout",
     "output_type": "stream",
     "text": [
      "Survey\n"
     ]
    },
    {
     "name": "stdout",
     "output_type": "stream",
     "text": [
      "_us\n",
      "['\\\\\\\\hecate\\\\Insurance_US\\\\Product Development\\\\Product Management\\\\Global PPM\\\\Reporting\\\\Data Collection\\\\Production\\\\2021.Q1\\\\live_sources\\\\us_orig_us_06022021145525.parquet']\n"
     ]
    },
    {
     "name": "stdout",
     "output_type": "stream",
     "text": [
      "_us\n",
      "['\\\\\\\\hecate\\\\Insurance_US\\\\Product Development\\\\Product Management\\\\Global PPM\\\\Reporting\\\\Data Collection\\\\Production\\\\2021.Q1\\\\live_sources\\\\us_dat_us_06022021145526.parquet']\n"
     ]
    },
    {
     "name": "stdout",
     "output_type": "stream",
     "text": [
      "_us\n",
      "['\\\\\\\\hecate\\\\Insurance_US\\\\Product Development\\\\Product Management\\\\Global PPM\\\\Reporting\\\\Data Collection\\\\Production\\\\2021.Q1\\\\live_sources\\\\us_vcomments_us_06022021145526.parquet']\n"
     ]
    },
    {
     "name": "stdout",
     "output_type": "stream",
     "text": [
      "_us\n",
      "[]\n"
     ]
    },
    {
     "ename": "ValueError",
     "evalue": "max() arg is an empty sequence",
     "output_type": "error",
     "traceback": [
      "\u001b[1;31m---------------------------------------------------------------------------\u001b[0m",
      "\u001b[1;31mValueError\u001b[0m                                Traceback (most recent call last)",
      "\u001b[1;32m<ipython-input-12-2d95e0b0cca3>\u001b[0m in \u001b[0;36m<module>\u001b[1;34m\u001b[0m\n\u001b[0;32m     10\u001b[0m         \u001b[0mlist_files\u001b[0m \u001b[1;33m=\u001b[0m \u001b[0mlist\u001b[0m\u001b[1;33m(\u001b[0m\u001b[0mfilter\u001b[0m\u001b[1;33m(\u001b[0m\u001b[1;32mlambda\u001b[0m \u001b[0mx\u001b[0m\u001b[1;33m:\u001b[0m \u001b[1;34mf\"{i}\"\u001b[0m \u001b[1;32min\u001b[0m  \u001b[0mx\u001b[0m \u001b[1;32mand\u001b[0m \u001b[1;34mf\"_{b.lower()}_\"\u001b[0m \u001b[1;32min\u001b[0m  \u001b[0mx\u001b[0m  \u001b[1;33m,\u001b[0m \u001b[0mfiles_sources\u001b[0m\u001b[1;33m)\u001b[0m\u001b[1;33m)\u001b[0m\u001b[1;33m\u001b[0m\u001b[1;33m\u001b[0m\u001b[0m\n\u001b[0;32m     11\u001b[0m         \u001b[0mprint\u001b[0m\u001b[1;33m(\u001b[0m\u001b[0mlist_files\u001b[0m\u001b[1;33m)\u001b[0m\u001b[1;33m\u001b[0m\u001b[1;33m\u001b[0m\u001b[0m\n\u001b[1;32m---> 12\u001b[1;33m         \u001b[0mrecent_vers\u001b[0m \u001b[1;33m=\u001b[0m \u001b[0mmax\u001b[0m\u001b[1;33m(\u001b[0m\u001b[0mlist_files\u001b[0m\u001b[1;33m,\u001b[0m \u001b[0mkey\u001b[0m\u001b[1;33m=\u001b[0m\u001b[0mos\u001b[0m\u001b[1;33m.\u001b[0m\u001b[0mpath\u001b[0m\u001b[1;33m.\u001b[0m\u001b[0mgetctime\u001b[0m\u001b[1;33m)\u001b[0m\u001b[1;33m\u001b[0m\u001b[1;33m\u001b[0m\u001b[0m\n\u001b[0m\u001b[0;32m     13\u001b[0m         \u001b[1;32mtry\u001b[0m\u001b[1;33m:\u001b[0m\u001b[1;33m\u001b[0m\u001b[1;33m\u001b[0m\u001b[0m\n\u001b[0;32m     14\u001b[0m             \u001b[0mlatest_data_sets\u001b[0m\u001b[1;33m.\u001b[0m\u001b[0mappend\u001b[0m\u001b[1;33m(\u001b[0m\u001b[1;33m[\u001b[0m\u001b[1;34mf'{i}'\u001b[0m\u001b[1;33m,\u001b[0m\u001b[0mpd\u001b[0m\u001b[1;33m.\u001b[0m\u001b[0mread_json\u001b[0m\u001b[1;33m(\u001b[0m\u001b[0mrecent_vers\u001b[0m\u001b[1;33m,\u001b[0m \u001b[0morient\u001b[0m\u001b[1;33m=\u001b[0m\u001b[1;34m\"table\"\u001b[0m\u001b[1;33m)\u001b[0m\u001b[1;33m]\u001b[0m\u001b[1;33m)\u001b[0m\u001b[1;33m\u001b[0m\u001b[1;33m\u001b[0m\u001b[0m\n",
      "\u001b[1;31mValueError\u001b[0m: max() arg is an empty sequence"
     ]
    }
   ],
   "source": [
    "\n",
    "datafiles = [ \"us_orig\", \"us_dat\", \"us_vcomment\", \"us_survey\", ]\n",
    "\n",
    "for b in BU_list:\n",
    "    \n",
    "    latest_data_sets = []\n",
    "\n",
    "    for i in datafiles:\n",
    "        \n",
    "        print(f\"_{b.lower()}\")\n",
    "        list_files = list(filter(lambda x: f\"{i}\" in  x and f\"_{b.lower()}_\" in  x  , files_sources))  \n",
    "        print(list_files)\n",
    "        recent_vers = max(list_files, key=os.path.getctime)\n",
    "        try:\n",
    "            latest_data_sets.append([f'{i}',pd.read_json(recent_vers, orient=\"table\")])\n",
    "\n",
    "        except UnicodeDecodeError:\n",
    "            latest_data_sets.append([f'{i}',pd.read_parquet(recent_vers, engine=\"pyarrow\")])\n",
    "\n",
    "    data_set_dict = {}\n",
    "    data_set_dict[\"Original Data Set\"] = latest_data_sets[0][1]\n",
    "    data_set_dict[\"Final Data Set\"] = latest_data_sets[1][1]\n",
    "    data_set_dict[\"Validations\"] = latest_data_sets[2][1]\n",
    "    data_set_dict[\"Survey\"] = latest_data_sets[3][1].T.reset_index().rename(columns={'index':'Question Name', 0 :'Selection', 1:'Optional Response',2:'timestamp'})\n",
    "\n",
    "    nl.to_excel_ms(dfs=data_set_dict, filename=os.path.join(rep_path, f'Survey and Comments_{b}.xlsx'))\n"
   ]
  },
  {
   "cell_type": "code",
   "execution_count": null,
   "id": "878d089e",
   "metadata": {
    "papermill": {
     "duration": null,
     "end_time": null,
     "exception": null,
     "start_time": null,
     "status": "pending"
    },
    "tags": []
   },
   "outputs": [],
   "source": [
    "### Open the folder with the documents saved"
   ]
  },
  {
   "cell_type": "code",
   "execution_count": null,
   "id": "6e827e89",
   "metadata": {
    "papermill": {
     "duration": null,
     "end_time": null,
     "exception": null,
     "start_time": null,
     "status": "pending"
    },
    "tags": []
   },
   "outputs": [],
   "source": [
    "os.startfile(rep_path)"
   ]
  },
  {
   "cell_type": "code",
   "execution_count": null,
   "id": "60e4f51b",
   "metadata": {
    "papermill": {
     "duration": null,
     "end_time": null,
     "exception": null,
     "start_time": null,
     "status": "pending"
    },
    "tags": []
   },
   "outputs": [],
   "source": []
  }
 ],
 "metadata": {
  "celltoolbar": "Tags",
  "kernelspec": {
   "display_name": "Python 3",
   "language": "python",
   "name": "python3"
  },
  "language_info": {
   "codemirror_mode": {
    "name": "ipython",
    "version": 3
   },
   "file_extension": ".py",
   "mimetype": "text/x-python",
   "name": "python",
   "nbconvert_exporter": "python",
   "pygments_lexer": "ipython3",
   "version": "3.7.6"
  },
  "papermill": {
   "default_parameters": {},
   "duration": 94.493497,
   "end_time": "2021-06-02T22:27:41.837351",
   "environment_variables": {},
   "exception": true,
   "input_path": "reporting/Make Survey and Comments Reports.ipynb",
   "output_path": "//hecate/Insurance_US/Product Development/Product Management/Global PPM/Reporting/Data Collection/Pipeline Reporting Scripts/GPMpipeline/instances/2021.Q1\\reporting\\Make Survey and Comments Reports06022021181054--live, add US.ipynb",
   "parameters": {
    "commit_message": "Live run, added US, some troubleshooting.",
    "inst_datetime": "06022021181054",
    "percode": "2021.Q1",
    "run_control": 1
   },
   "start_time": "2021-06-02T22:26:07.343854",
   "version": "2.3.3"
  }
 },
 "nbformat": 4,
 "nbformat_minor": 5
}