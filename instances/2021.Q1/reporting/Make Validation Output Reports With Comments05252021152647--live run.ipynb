{
 "cells": [
  {
   "cell_type": "markdown",
   "id": "238d02cb",
   "metadata": {
    "papermill": {
     "duration": 0.271642,
     "end_time": "2021-05-25T22:02:42.866367",
     "exception": false,
     "start_time": "2021-05-25T22:02:42.594725",
     "status": "completed"
    },
    "tags": []
   },
   "source": [
    "<img src=\"../images/AzPTravel_PPM.png\">"
   ]
  },
  {
   "cell_type": "markdown",
   "id": "8f39188d",
   "metadata": {
    "papermill": {
     "duration": 0.267867,
     "end_time": "2021-05-25T22:02:43.373458",
     "exception": false,
     "start_time": "2021-05-25T22:02:43.105591",
     "status": "completed"
    },
    "tags": []
   },
   "source": [
    "## Validation Report Creation Script\n",
    "\n",
    "#### This script reads the output of the \"us_vdf*\" and \"us_vcomments*\" data files and summarizes  them into a report: Validations Review _{BU}.xlsx\n",
    "\n",
    "#### When finished, it will be able to be run on its own or as part of the pipeline wherever called (ie from a papermill script or other user inteface).\n"
   ]
  },
  {
   "cell_type": "markdown",
   "id": "8a1bdb38",
   "metadata": {
    "papermill": {
     "duration": 0.255592,
     "end_time": "2021-05-25T22:02:43.887585",
     "exception": false,
     "start_time": "2021-05-25T22:02:43.631993",
     "status": "completed"
    },
    "tags": []
   },
   "source": [
    "### User Variables\n",
    "- These are overwritten if inherited from run_control.ipynb.\n",
    "- Feel Free to reset them for a manual run if you like\n",
    "- Do not save without percode = \"-f\""
   ]
  },
  {
   "cell_type": "code",
   "execution_count": 1,
   "id": "0608d246",
   "metadata": {
    "execution": {
     "iopub.execute_input": "2021-05-25T22:02:44.481284Z",
     "iopub.status.busy": "2021-05-25T22:02:44.475289Z",
     "iopub.status.idle": "2021-05-25T22:02:44.487282Z",
     "shell.execute_reply": "2021-05-25T22:02:44.495293Z"
    },
    "papermill": {
     "duration": 0.354534,
     "end_time": "2021-05-25T22:02:44.495293",
     "exception": false,
     "start_time": "2021-05-25T22:02:44.140759",
     "status": "completed"
    },
    "tags": [
     "parameters"
    ]
   },
   "outputs": [],
   "source": [
    "commit_message = \"Development and testing.\"\n",
    "# Give a brief reason for the run.\n",
    "\n",
    "run_control = 1\n",
    "#run_type = 0 - Lite run with no reporting, not recommended.\n",
    "#run_type = 1 - Lite run with normal reporting, default setting.\n",
    "#run_type = 2 - Heavy run with full reporting, available for audits and troubleshooting.\n",
    "#run_type = 5 - A default setting. Indicates the script is being run by an outside process without an inherited value\n",
    "\n",
    "percode = \"2021.Q1\"\n",
    "# Data Collection Code, this controls file paths and output names\n",
    "# \"-f\" is the value indicating a bad inheritance from run with arg\n",
    "\n",
    "s_format = \"p\"\n",
    "# denotes the source data format x == Excel; j == json, p == parquet\n",
    "\n",
    "#----------\n",
    "# do not edit - this either inherits the full instance timestamp from the papermill book or captures the run time of this script.\n",
    "from datetime import datetime  # datetime options\n",
    "inst_datetime = datetime.now().strftime(\"%m%d%Y%H%M%S\")"
   ]
  },
  {
   "cell_type": "code",
   "execution_count": 2,
   "id": "985b6f79",
   "metadata": {
    "execution": {
     "iopub.execute_input": "2021-05-25T22:02:45.055592Z",
     "iopub.status.busy": "2021-05-25T22:02:45.051591Z",
     "iopub.status.idle": "2021-05-25T22:02:45.061596Z",
     "shell.execute_reply": "2021-05-25T22:02:45.062594Z"
    },
    "papermill": {
     "duration": 0.306737,
     "end_time": "2021-05-25T22:02:45.063595",
     "exception": false,
     "start_time": "2021-05-25T22:02:44.756858",
     "status": "completed"
    },
    "tags": [
     "injected-parameters"
    ]
   },
   "outputs": [],
   "source": [
    "# Parameters\n",
    "run_control = 1\n",
    "percode = \"2021.Q1\"\n",
    "commit_message = \"Edited data for Austraila, json 2 parquet and add comments from email. Begin general evaluation of data submissions.\"\n",
    "inst_datetime = \"05252021152647\"\n"
   ]
  },
  {
   "cell_type": "markdown",
   "id": "9750a391",
   "metadata": {
    "papermill": {
     "duration": 0.25243,
     "end_time": "2021-05-25T22:02:45.608992",
     "exception": false,
     "start_time": "2021-05-25T22:02:45.356562",
     "status": "completed"
    },
    "tags": []
   },
   "source": [
    "#### Notebook display options"
   ]
  },
  {
   "cell_type": "code",
   "execution_count": 3,
   "id": "5a602ec1",
   "metadata": {
    "execution": {
     "iopub.execute_input": "2021-05-25T22:02:46.097564Z",
     "iopub.status.busy": "2021-05-25T22:02:46.094563Z",
     "iopub.status.idle": "2021-05-25T22:02:46.104091Z",
     "shell.execute_reply": "2021-05-25T22:02:46.106083Z"
    },
    "papermill": {
     "duration": 0.262091,
     "end_time": "2021-05-25T22:02:46.106083",
     "exception": false,
     "start_time": "2021-05-25T22:02:45.843992",
     "status": "completed"
    },
    "tags": []
   },
   "outputs": [],
   "source": [
    "from IPython.core.interactiveshell import InteractiveShell\n",
    "InteractiveShell.ast_node_interactivity = \"all\""
   ]
  },
  {
   "cell_type": "markdown",
   "id": "f25f6b90",
   "metadata": {
    "papermill": {
     "duration": 0.257013,
     "end_time": "2021-05-25T22:02:46.616619",
     "exception": false,
     "start_time": "2021-05-25T22:02:46.359606",
     "status": "completed"
    },
    "tags": []
   },
   "source": [
    "#### import packages"
   ]
  },
  {
   "cell_type": "code",
   "execution_count": 4,
   "id": "6a680791",
   "metadata": {
    "execution": {
     "iopub.execute_input": "2021-05-25T22:02:47.145064Z",
     "iopub.status.busy": "2021-05-25T22:02:47.144063Z",
     "iopub.status.idle": "2021-05-25T22:02:54.517944Z",
     "shell.execute_reply": "2021-05-25T22:02:54.519944Z"
    },
    "papermill": {
     "duration": 7.637729,
     "end_time": "2021-05-25T22:02:54.519944",
     "exception": false,
     "start_time": "2021-05-25T22:02:46.882215",
     "status": "completed"
    },
    "tags": []
   },
   "outputs": [],
   "source": [
    "#### Packages used\n",
    "\n",
    "import os # System commands\n",
    "import sys # System commands\n",
    "\n",
    "import warnings # custom warnigns options\n",
    "\n",
    "import glob # Directory operations\n",
    "import getpass # Work with parquet\n",
    "import json # Work with json\n",
    "\n",
    "import matplotlib.pyplot as plt #Plots and Graphs\n",
    "import numpy as np # Series and math\n",
    "import pandas as pd #DataFrame and math\n",
    "\n",
    "#excel operations\n",
    "import re\n",
    "import nicexcel as nl # Excel operations\n",
    "import xlsxwriter # Excel operations\n",
    "import openpyxl # Excel operations\n"
   ]
  },
  {
   "cell_type": "markdown",
   "id": "c75c05bc",
   "metadata": {
    "papermill": {
     "duration": 0.267828,
     "end_time": "2021-05-25T22:02:55.118300",
     "exception": false,
     "start_time": "2021-05-25T22:02:54.850472",
     "status": "completed"
    },
    "tags": []
   },
   "source": [
    "#### Default Variables, these govern logic, do not edit."
   ]
  },
  {
   "cell_type": "code",
   "execution_count": 5,
   "id": "500f37dd",
   "metadata": {
    "execution": {
     "iopub.execute_input": "2021-05-25T22:02:55.645187Z",
     "iopub.status.busy": "2021-05-25T22:02:55.641187Z",
     "iopub.status.idle": "2021-05-25T22:02:55.651192Z",
     "shell.execute_reply": "2021-05-25T22:02:55.653189Z"
    },
    "papermill": {
     "duration": 0.284814,
     "end_time": "2021-05-25T22:02:55.653189",
     "exception": false,
     "start_time": "2021-05-25T22:02:55.368375",
     "status": "completed"
    },
    "tags": []
   },
   "outputs": [],
   "source": [
    "default_dc = \"20XX.QX\"\n",
    "default_rc = 0 #extra lite mode\n",
    "dummy_perc = \"33Q3\" # bad inheritance"
   ]
  },
  {
   "cell_type": "markdown",
   "id": "65251f59",
   "metadata": {
    "papermill": {
     "duration": 0.247991,
     "end_time": "2021-05-25T22:02:56.156703",
     "exception": false,
     "start_time": "2021-05-25T22:02:55.908712",
     "status": "completed"
    },
    "tags": []
   },
   "source": [
    "#### Script determining run context ie, manual, run_control.ipynb, or other."
   ]
  },
  {
   "cell_type": "code",
   "execution_count": 6,
   "id": "963033fc",
   "metadata": {
    "execution": {
     "iopub.execute_input": "2021-05-25T22:02:56.663703Z",
     "iopub.status.busy": "2021-05-25T22:02:56.657700Z",
     "iopub.status.idle": "2021-05-25T22:02:56.670700Z",
     "shell.execute_reply": "2021-05-25T22:02:56.672701Z"
    },
    "papermill": {
     "duration": 0.260264,
     "end_time": "2021-05-25T22:02:56.672701",
     "exception": false,
     "start_time": "2021-05-25T22:02:56.412437",
     "status": "completed"
    },
    "tags": []
   },
   "outputs": [],
   "source": [
    "if run_control == 5:\n",
    "    run_control = default_rc \n",
    "else:\n",
    "    run_control = run_control\n",
    "\n",
    "try:\n",
    "    if sys.argv[1] == \"-f\":\n",
    "        percode = percode\n",
    "    else:\n",
    "        percode = sys.argv[1]\n",
    "\n",
    "except IndexError:\n",
    "    percode = default_dc\n",
    "except NameError:\n",
    "    percode = default_dc\n"
   ]
  },
  {
   "cell_type": "markdown",
   "id": "a05dc63d",
   "metadata": {
    "papermill": {
     "duration": 0.258129,
     "end_time": "2021-05-25T22:02:57.182827",
     "exception": false,
     "start_time": "2021-05-25T22:02:56.924698",
     "status": "completed"
    },
    "tags": []
   },
   "source": [
    "#### style settings"
   ]
  },
  {
   "cell_type": "code",
   "execution_count": 7,
   "id": "f52c32fb",
   "metadata": {
    "execution": {
     "iopub.execute_input": "2021-05-25T22:02:57.687531Z",
     "iopub.status.busy": "2021-05-25T22:02:57.684537Z",
     "iopub.status.idle": "2021-05-25T22:02:57.693530Z",
     "shell.execute_reply": "2021-05-25T22:02:57.694531Z"
    },
    "papermill": {
     "duration": 0.266577,
     "end_time": "2021-05-25T22:02:57.695530",
     "exception": false,
     "start_time": "2021-05-25T22:02:57.428953",
     "status": "completed"
    },
    "tags": []
   },
   "outputs": [],
   "source": [
    "from IPython.core.interactiveshell import InteractiveShell\n",
    "InteractiveShell.ast_node_interactivity = \"all\""
   ]
  },
  {
   "cell_type": "markdown",
   "id": "c8a7c3b8",
   "metadata": {
    "papermill": {
     "duration": 0.240119,
     "end_time": "2021-05-25T22:02:58.170642",
     "exception": false,
     "start_time": "2021-05-25T22:02:57.930523",
     "status": "completed"
    },
    "tags": []
   },
   "source": [
    "\n",
    "## Begin Input Read\n",
    "- Make paths used in script\n",
    "- all paths should be modular and easily replaced ahead of operations."
   ]
  },
  {
   "cell_type": "code",
   "execution_count": 8,
   "id": "948f130f",
   "metadata": {
    "execution": {
     "iopub.execute_input": "2021-05-25T22:02:58.691694Z",
     "iopub.status.busy": "2021-05-25T22:02:58.690705Z",
     "iopub.status.idle": "2021-05-25T22:02:58.703705Z",
     "shell.execute_reply": "2021-05-25T22:02:58.705693Z"
    },
    "papermill": {
     "duration": 0.259998,
     "end_time": "2021-05-25T22:02:58.705693",
     "exception": false,
     "start_time": "2021-05-25T22:02:58.445695",
     "status": "completed"
    },
    "tags": []
   },
   "outputs": [],
   "source": [
    "#root directory\n",
    "rt_path = f'//hecate/Insurance_US/Product Development/Product Management/Global PPM/Reporting/Data Collection/Production/{str(percode)}'\n",
    "#live sources directory\n",
    "ls_path = os.path.join( rt_path, 'live_sources')\n",
    "#report ouput dir\n",
    "rep_path = os.path.abspath(os.path.join(rt_path, '..','..',f\"{percode}\", 'Validation Reports'))\n",
    "#report ouput archive dir\n",
    "rep_arch_path = os.path.abspath(os.path.join(rep_path, '..','..',f\"{percode}\",  'Archive'))\n"
   ]
  },
  {
   "cell_type": "markdown",
   "id": "649c61c1",
   "metadata": {
    "papermill": {
     "duration": 0.238523,
     "end_time": "2021-05-25T22:02:59.174757",
     "exception": false,
     "start_time": "2021-05-25T22:02:58.936234",
     "status": "completed"
    },
    "tags": []
   },
   "source": [
    "#### Make sources used in script\n",
    "- all sources should be modular and easily replaced ahead of operations."
   ]
  },
  {
   "cell_type": "code",
   "execution_count": 9,
   "id": "926d18e0",
   "metadata": {
    "execution": {
     "iopub.execute_input": "2021-05-25T22:02:59.677098Z",
     "iopub.status.busy": "2021-05-25T22:02:59.673106Z",
     "iopub.status.idle": "2021-05-25T22:02:59.685101Z",
     "shell.execute_reply": "2021-05-25T22:02:59.685101Z"
    },
    "papermill": {
     "duration": 0.270351,
     "end_time": "2021-05-25T22:02:59.686100",
     "exception": false,
     "start_time": "2021-05-25T22:02:59.415749",
     "status": "completed"
    },
    "tags": []
   },
   "outputs": [],
   "source": [
    "rep_xls = os.path.join(rep_path ,\"Validations Review_xx.xlsx\"   )"
   ]
  },
  {
   "cell_type": "markdown",
   "id": "ff86bbbf",
   "metadata": {
    "papermill": {
     "duration": 0.237004,
     "end_time": "2021-05-25T22:03:00.152621",
     "exception": false,
     "start_time": "2021-05-25T22:02:59.915617",
     "status": "completed"
    },
    "tags": []
   },
   "source": [
    "#### Get a list of only source files in the path that start with \"us_dat\".\n",
    "#### Logic determines the source file types.\n",
    "\n",
    "#### User instructions:\n",
    "- Make sure that you have 1 file per source in this folder.\n",
    "    -  For instance, do not have two files for Portugal. If there is an update, archive the old one.\n",
    "- Do not overwrite files in the archive.\n",
    "    - Rename newly archived files, no strict convention, we keep track of these by the modified date.\n",
    "- It is ok to have multiple sources in one file."
   ]
  },
  {
   "cell_type": "code",
   "execution_count": 10,
   "id": "12176022",
   "metadata": {
    "execution": {
     "iopub.execute_input": "2021-05-25T22:03:00.627243Z",
     "iopub.status.busy": "2021-05-25T22:03:00.622253Z",
     "iopub.status.idle": "2021-05-25T22:03:00.710242Z",
     "shell.execute_reply": "2021-05-25T22:03:00.712240Z"
    },
    "papermill": {
     "duration": 0.33167,
     "end_time": "2021-05-25T22:03:00.712240",
     "exception": false,
     "start_time": "2021-05-25T22:03:00.380570",
     "status": "completed"
    },
    "tags": []
   },
   "outputs": [
    {
     "data": {
      "text/plain": [
       "['us_dat_au_02172021174434.parquet',\n",
       " 'us_dat_ca_05202021134242.parquet',\n",
       " 'us_dat_ch_05182021192455.parquet',\n",
       " 'us_dat_es_05202021105141.parquet',\n",
       " 'us_dat_gr_05252021115404.parquet',\n",
       " 'us_dat_it_05242021111520.parquet',\n",
       " 'us_dat_pt_05202021121056.parquet',\n",
       " 'us_survey_au_02172021174808.parquet',\n",
       " 'us_survey_au_05142021143750.parquet',\n",
       " 'us_survey_ca_05202021135610.parquet',\n",
       " 'us_survey_ch_05182021192905.parquet',\n",
       " 'us_survey_es_05202021105431.parquet',\n",
       " 'us_survey_gr_05252021115827.parquet',\n",
       " 'us_survey_it_05242021111759.parquet',\n",
       " 'us_survey_pt_05202021121304.parquet',\n",
       " 'us_vcomments_au_02172021174434.parquet',\n",
       " 'us_vcomments_au_02172021174440.parquet',\n",
       " 'us_vcomments_au_05142021143612.parquet',\n",
       " 'us_vcomments_au_05142021143617.parquet',\n",
       " 'us_vcomments_au_mnual_creation.parquet',\n",
       " 'us_vcomments_ca_05202021134242.parquet',\n",
       " 'us_vcomments_ch_05182021192455.parquet',\n",
       " 'us_vcomments_ch_05182021192456.parquet',\n",
       " 'us_vcomments_es_05202021105141.parquet',\n",
       " 'us_vcomments_es_05202021105142.parquet',\n",
       " 'us_vcomments_gr_05252021115404.parquet',\n",
       " 'us_vcomments_it_05242021111521.parquet',\n",
       " 'us_vcomments_pt_05202021121056.parquet',\n",
       " 'us_vdf_au_05142021143613.json',\n",
       " 'us_vdf_ca_05202021134242.json',\n",
       " 'us_vdf_ch_05182021192456.json',\n",
       " 'us_vdf_es_05202021105142.json',\n",
       " 'us_vdf_gr_05252021115404.json',\n",
       " 'us_vdf_it_05242021111521.json',\n",
       " 'us_vdf_pt_05202021121056.json']"
      ]
     },
     "execution_count": 10,
     "metadata": {},
     "output_type": "execute_result"
    }
   ],
   "source": [
    "files = os.listdir(ls_path)\n",
    "files = [files.lower() for files in files]\n",
    "\n",
    "files_sour = [f for f in files if f[-5:]  == '.json' or  f[-8:] == '.parquet' and f[:7] != 'us_orig']\n",
    "\n",
    "files_sour"
   ]
  },
  {
   "cell_type": "markdown",
   "id": "c5ca4c71",
   "metadata": {
    "papermill": {
     "duration": 0.245007,
     "end_time": "2021-05-25T22:03:01.214769",
     "exception": false,
     "start_time": "2021-05-25T22:03:00.969762",
     "status": "completed"
    },
    "tags": []
   },
   "source": [
    "#### Make a list of BUs that have comments available"
   ]
  },
  {
   "cell_type": "code",
   "execution_count": 11,
   "id": "6bb7c19b",
   "metadata": {
    "execution": {
     "iopub.execute_input": "2021-05-25T22:03:01.709682Z",
     "iopub.status.busy": "2021-05-25T22:03:01.696956Z",
     "iopub.status.idle": "2021-05-25T22:03:01.725666Z",
     "shell.execute_reply": "2021-05-25T22:03:01.726678Z"
    },
    "papermill": {
     "duration": 0.279919,
     "end_time": "2021-05-25T22:03:01.726678",
     "exception": false,
     "start_time": "2021-05-25T22:03:01.446759",
     "status": "completed"
    },
    "tags": []
   },
   "outputs": [
    {
     "data": {
      "text/plain": [
       "['//hecate/Insurance_US/Product Development/Product Management/Global PPM/Reporting/Data Collection/Production/2021.Q1\\\\live_sources\\\\us_vcomments_AU_02172021174434.parquet',\n",
       " '//hecate/Insurance_US/Product Development/Product Management/Global PPM/Reporting/Data Collection/Production/2021.Q1\\\\live_sources\\\\us_vcomments_AU_02172021174440.parquet',\n",
       " '//hecate/Insurance_US/Product Development/Product Management/Global PPM/Reporting/Data Collection/Production/2021.Q1\\\\live_sources\\\\us_vcomments_AU_05142021143612.parquet',\n",
       " '//hecate/Insurance_US/Product Development/Product Management/Global PPM/Reporting/Data Collection/Production/2021.Q1\\\\live_sources\\\\us_vcomments_AU_05142021143617.parquet',\n",
       " '//hecate/Insurance_US/Product Development/Product Management/Global PPM/Reporting/Data Collection/Production/2021.Q1\\\\live_sources\\\\us_vcomments_AU_mnual_creation.parquet',\n",
       " '//hecate/Insurance_US/Product Development/Product Management/Global PPM/Reporting/Data Collection/Production/2021.Q1\\\\live_sources\\\\us_vcomments_CA_05202021134242.parquet',\n",
       " '//hecate/Insurance_US/Product Development/Product Management/Global PPM/Reporting/Data Collection/Production/2021.Q1\\\\live_sources\\\\us_vcomments_CH_05182021192455.parquet',\n",
       " '//hecate/Insurance_US/Product Development/Product Management/Global PPM/Reporting/Data Collection/Production/2021.Q1\\\\live_sources\\\\us_vcomments_CH_05182021192456.parquet',\n",
       " '//hecate/Insurance_US/Product Development/Product Management/Global PPM/Reporting/Data Collection/Production/2021.Q1\\\\live_sources\\\\us_vcomments_ES_05202021105141.parquet',\n",
       " '//hecate/Insurance_US/Product Development/Product Management/Global PPM/Reporting/Data Collection/Production/2021.Q1\\\\live_sources\\\\us_vcomments_ES_05202021105142.parquet',\n",
       " '//hecate/Insurance_US/Product Development/Product Management/Global PPM/Reporting/Data Collection/Production/2021.Q1\\\\live_sources\\\\us_vcomments_GR_05252021115404.parquet',\n",
       " '//hecate/Insurance_US/Product Development/Product Management/Global PPM/Reporting/Data Collection/Production/2021.Q1\\\\live_sources\\\\us_vcomments_IT_05242021111521.parquet',\n",
       " '//hecate/Insurance_US/Product Development/Product Management/Global PPM/Reporting/Data Collection/Production/2021.Q1\\\\live_sources\\\\us_vcomments_PT_05202021121056.parquet']"
      ]
     },
     "execution_count": 11,
     "metadata": {},
     "output_type": "execute_result"
    }
   ],
   "source": [
    "list_jfiles = glob.glob(os.path.join(ls_path, 'us_vcomments_*.json'))\n",
    "list_pfiles = glob.glob(os.path.join(ls_path, 'us_vcomments_*.parquet'))\n",
    "\n",
    "list_files = []\n",
    "    \n",
    "for i in list_jfiles : list_files.append(i)    \n",
    "for i in list_pfiles : list_files.append(i)\n",
    "\n",
    "\n",
    "for idx, i in enumerate(list_jfiles):\n",
    "    list_jfiles[idx] = list_jfiles[idx][-23:-19]\n",
    "    list_jfiles[idx] = list_jfiles[idx].replace('_','')\n",
    "\n",
    "for idx, i in enumerate(list_pfiles):\n",
    "    list_pfiles[idx] = list_pfiles[idx][-26:-22]\n",
    "    list_pfiles[idx] = list_pfiles[idx].replace('_','')\n",
    "\n",
    "list_bus = []\n",
    "    \n",
    "for i in list_jfiles : list_bus.append(i)    \n",
    "for i in list_pfiles : list_bus.append(i)\n",
    "\n",
    "\n",
    "BU_set = set(list_bus)\n",
    "BU_list = list(BU_set)\n",
    "\n",
    "list_files\n"
   ]
  },
  {
   "cell_type": "code",
   "execution_count": 12,
   "id": "230dd009",
   "metadata": {
    "execution": {
     "iopub.execute_input": "2021-05-25T22:03:02.297712Z",
     "iopub.status.busy": "2021-05-25T22:03:02.295742Z",
     "iopub.status.idle": "2021-05-25T22:03:31.129357Z",
     "shell.execute_reply": "2021-05-25T22:03:31.131085Z"
    },
    "papermill": {
     "duration": 29.170691,
     "end_time": "2021-05-25T22:03:31.131355",
     "exception": false,
     "start_time": "2021-05-25T22:03:01.960664",
     "status": "completed"
    },
    "pycharm": {
     "name": "#%%\n"
    },
    "tags": []
   },
   "outputs": [
    {
     "name": "stdout",
     "output_type": "stream",
     "text": [
      "['//hecate/Insurance_US/Product Development/Product Management/Global PPM/Reporting/Data Collection/Production/2021.Q1\\\\live_sources\\\\us_vcomments_PT_05202021121056.parquet']\n"
     ]
    },
    {
     "name": "stdout",
     "output_type": "stream",
     "text": [
      "['//hecate/Insurance_US/Product Development/Product Management/Global PPM/Reporting/Data Collection/Production/2021.Q1\\\\live_sources\\\\us_vcomments_AU_02172021174434.parquet', '//hecate/Insurance_US/Product Development/Product Management/Global PPM/Reporting/Data Collection/Production/2021.Q1\\\\live_sources\\\\us_vcomments_AU_02172021174440.parquet', '//hecate/Insurance_US/Product Development/Product Management/Global PPM/Reporting/Data Collection/Production/2021.Q1\\\\live_sources\\\\us_vcomments_AU_05142021143612.parquet', '//hecate/Insurance_US/Product Development/Product Management/Global PPM/Reporting/Data Collection/Production/2021.Q1\\\\live_sources\\\\us_vcomments_AU_05142021143617.parquet', '//hecate/Insurance_US/Product Development/Product Management/Global PPM/Reporting/Data Collection/Production/2021.Q1\\\\live_sources\\\\us_vcomments_AU_mnual_creation.parquet']\n"
     ]
    },
    {
     "name": "stdout",
     "output_type": "stream",
     "text": [
      "['//hecate/Insurance_US/Product Development/Product Management/Global PPM/Reporting/Data Collection/Production/2021.Q1\\\\live_sources\\\\us_vcomments_CA_05202021134242.parquet']\n"
     ]
    },
    {
     "name": "stdout",
     "output_type": "stream",
     "text": [
      "['//hecate/Insurance_US/Product Development/Product Management/Global PPM/Reporting/Data Collection/Production/2021.Q1\\\\live_sources\\\\us_vcomments_IT_05242021111521.parquet']\n"
     ]
    },
    {
     "name": "stdout",
     "output_type": "stream",
     "text": [
      "['//hecate/Insurance_US/Product Development/Product Management/Global PPM/Reporting/Data Collection/Production/2021.Q1\\\\live_sources\\\\us_vcomments_ES_05202021105141.parquet', '//hecate/Insurance_US/Product Development/Product Management/Global PPM/Reporting/Data Collection/Production/2021.Q1\\\\live_sources\\\\us_vcomments_ES_05202021105142.parquet']\n"
     ]
    },
    {
     "name": "stdout",
     "output_type": "stream",
     "text": [
      "['//hecate/Insurance_US/Product Development/Product Management/Global PPM/Reporting/Data Collection/Production/2021.Q1\\\\live_sources\\\\us_vcomments_GR_05252021115404.parquet']\n"
     ]
    },
    {
     "name": "stdout",
     "output_type": "stream",
     "text": [
      "['//hecate/Insurance_US/Product Development/Product Management/Global PPM/Reporting/Data Collection/Production/2021.Q1\\\\live_sources\\\\us_vcomments_CH_05182021192455.parquet', '//hecate/Insurance_US/Product Development/Product Management/Global PPM/Reporting/Data Collection/Production/2021.Q1\\\\live_sources\\\\us_vcomments_CH_05182021192456.parquet']\n"
     ]
    }
   ],
   "source": [
    "\n",
    "datafiles = [  \"us_vcomment\", \"us_vdf\" ]\n",
    "\n",
    "\n",
    "for idx, b in enumerate(BU_list):\n",
    "\n",
    "    list_files_a = []\n",
    "    latest_valcomments = []\n",
    "    list_files_a = list(filter(lambda x: \"us_vcomments\" in  x and f\"_{b}\" in  x , list_files))\n",
    "\n",
    "    print(list_files_a)\n",
    "    recent_vers_a = max(list_files_a, key=os.path.getctime)\n",
    "    try:\n",
    "        latest_valcomments.append([f'us_vcomment',pd.read_json(recent_vers_a, orient=\"table\")])\n",
    "    except UnicodeDecodeError:\n",
    "        latest_valcomments.append([f'us_vcomment',pd.read_parquet(recent_vers_a, engine=\"pyarrow\")])\n",
    "\n",
    "    list_files_b = glob.glob(os.path.join(ls_path, f'us_vdf_{BU_list[idx]}*.json'))\n",
    "    recent_vers_b = max(list_files_b, key=os.path.getctime)\n",
    "\n",
    "    with open(recent_vers_b, 'r') as fp:\n",
    "        data_dict = json.load(fp)\n",
    "    latest_vdfdata_sets = { key: pd.DataFrame(data_dict[key]) for key in data_dict  }\n",
    "\n",
    "    valcomm_dict = {}\n",
    "    valdf_dict = {}\n",
    "    valcomdf = []\n",
    "    valcomdf = pd.DataFrame(latest_valcomments[0][1])\n",
    "\n",
    "    for idx2, row in valcomdf.iterrows():\n",
    "\n",
    "        valname = row[\"Validation Rule\"][0:25]\n",
    "        sheetname = valname + '-' + str(idx2)\n",
    "        valcomm_dict[\"{0}\".format(sheetname)] = pd.DataFrame(row).reindex()\n",
    "        try:\n",
    "            valdf_dict[sheetname] = data_dict[str(idx2)]\n",
    "        except KeyError:\n",
    "            pass\n",
    "        \n",
    "    writer = pd.ExcelWriter(rep_xls, engine='xlsxwriter')\n",
    "    \n",
    "    for i, j  in zip(valdf_dict,valcomm_dict ):\n",
    "        valdf_dict[i] = pd.DataFrame(valdf_dict[i])\n",
    "        valdf_dict[i].index.name = 'Row Number'\n",
    "        valcomm_dict[i].to_excel(writer, sheet_name=i,header=False, startrow=0, startcol=0)\n",
    "        valdf_dict[i].to_excel(writer, sheet_name= i , startrow=10, startcol=0)\n",
    "    \n",
    "    fin_name = rep_xls.replace(\"_xx\",f\"_{BU_list[idx]}\")\n",
    "    arch_name = fin_name.replace(f\"Validations Review_{BU_list[idx]}\",f\"\\Archive\\Validations Review_{BU_list[idx]}{inst_datetime}\")\n",
    "    \n",
    "    try:\n",
    "        os.remove(arch_name)\n",
    "    except FileNotFoundError:\n",
    "        pass\n",
    "    try:\n",
    "        os.rename(fin_name, arch_name )\n",
    "    except FileNotFoundError:\n",
    "        print(f\"New BU {BU_list[idx]}\")\n",
    "        pass\n",
    "\n",
    "    writer.save()\n",
    "    os.rename(rep_xls,rep_xls.replace(\"_xx\",f\"_{BU_list[idx]}\"))\n"
   ]
  },
  {
   "cell_type": "code",
   "execution_count": 13,
   "id": "d2ea6f6d",
   "metadata": {
    "execution": {
     "iopub.execute_input": "2021-05-25T22:03:31.731654Z",
     "iopub.status.busy": "2021-05-25T22:03:31.728656Z",
     "iopub.status.idle": "2021-05-25T22:03:31.737655Z",
     "shell.execute_reply": "2021-05-25T22:03:31.739653Z"
    },
    "papermill": {
     "duration": 0.279653,
     "end_time": "2021-05-25T22:03:31.739653",
     "exception": false,
     "start_time": "2021-05-25T22:03:31.460000",
     "status": "completed"
    },
    "tags": []
   },
   "outputs": [],
   "source": [
    "### Open the folder with the documents saved"
   ]
  },
  {
   "cell_type": "code",
   "execution_count": 14,
   "id": "fe266545",
   "metadata": {
    "execution": {
     "iopub.execute_input": "2021-05-25T22:03:32.249187Z",
     "iopub.status.busy": "2021-05-25T22:03:32.247180Z",
     "iopub.status.idle": "2021-05-25T22:03:32.466789Z",
     "shell.execute_reply": "2021-05-25T22:03:32.467791Z"
    },
    "papermill": {
     "duration": 0.474599,
     "end_time": "2021-05-25T22:03:32.468783",
     "exception": false,
     "start_time": "2021-05-25T22:03:31.994184",
     "status": "completed"
    },
    "tags": []
   },
   "outputs": [],
   "source": [
    "os.startfile(rep_path)"
   ]
  },
  {
   "cell_type": "code",
   "execution_count": null,
   "id": "972c100c",
   "metadata": {
    "papermill": {
     "duration": 0.291514,
     "end_time": "2021-05-25T22:03:33.038819",
     "exception": false,
     "start_time": "2021-05-25T22:03:32.747305",
     "status": "completed"
    },
    "tags": []
   },
   "outputs": [],
   "source": []
  }
 ],
 "metadata": {
  "celltoolbar": "Tags",
  "kernelspec": {
   "display_name": "Python 3",
   "language": "python",
   "name": "python3"
  },
  "language_info": {
   "codemirror_mode": {
    "name": "ipython",
    "version": 3
   },
   "file_extension": ".py",
   "mimetype": "text/x-python",
   "name": "python",
   "nbconvert_exporter": "python",
   "pygments_lexer": "ipython3",
   "version": "3.7.6"
  },
  "papermill": {
   "default_parameters": {},
   "duration": 66.003823,
   "end_time": "2021-05-25T22:03:34.722174",
   "environment_variables": {},
   "exception": null,
   "input_path": "reporting/Make Validation Output Reports With Comments.ipynb",
   "output_path": "//hecate/Insurance_US/Product Development/Product Management/Global PPM/Reporting/Data Collection/Pipeline Reporting Scripts/GPMpipeline/instances/2021.Q1\\reporting\\Make Validation Output Reports With Comments05252021152647--live run.ipynb",
   "parameters": {
    "commit_message": "Edited data for Austraila, json 2 parquet and add comments from email. Begin general evaluation of data submissions.",
    "inst_datetime": "05252021152647",
    "percode": "2021.Q1",
    "run_control": 1
   },
   "start_time": "2021-05-25T22:02:28.718351",
   "version": "2.3.3"
  }
 },
 "nbformat": 4,
 "nbformat_minor": 5
}