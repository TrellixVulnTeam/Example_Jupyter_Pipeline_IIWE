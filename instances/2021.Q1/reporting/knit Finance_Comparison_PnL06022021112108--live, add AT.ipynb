{
 "cells": [
  {
   "cell_type": "markdown",
   "id": "f7050cc0",
   "metadata": {
    "papermill": {
     "duration": 0.319003,
     "end_time": "2021-06-02T15:46:11.299114",
     "exception": false,
     "start_time": "2021-06-02T15:46:10.980111",
     "status": "completed"
    },
    "tags": []
   },
   "source": [
    "<img src=\"../images/AzPTravel_PPM.png\">"
   ]
  },
  {
   "cell_type": "markdown",
   "id": "36a5ec0e",
   "metadata": {
    "papermill": {
     "duration": 0.244723,
     "end_time": "2021-06-02T15:46:11.751620",
     "exception": false,
     "start_time": "2021-06-02T15:46:11.506897",
     "status": "completed"
    },
    "tags": []
   },
   "source": [
    "## Finance Knitting\n",
    "\n",
    "#### This script exectutes the RMD that knits the Finance Comparison PnL\n",
    "\n",
    "#### This can be run on its own or as part of the pipeline wherever called (ie from a papermill script or other user interface)."
   ]
  },
  {
   "cell_type": "code",
   "execution_count": 1,
   "id": "e724f845",
   "metadata": {
    "execution": {
     "iopub.execute_input": "2021-06-02T15:46:12.250697Z",
     "iopub.status.busy": "2021-06-02T15:46:12.244705Z",
     "iopub.status.idle": "2021-06-02T15:46:12.441099Z",
     "shell.execute_reply": "2021-06-02T15:46:12.437094Z"
    },
    "papermill": {
     "duration": 0.449954,
     "end_time": "2021-06-02T15:46:12.442097",
     "exception": false,
     "start_time": "2021-06-02T15:46:11.992143",
     "status": "completed"
    },
    "tags": [
     "parameters"
    ]
   },
   "outputs": [],
   "source": [
    "\n",
    "commit_message <- \"Development and testing.\"\n",
    "# Give a brief reason for the run.\n",
    "\n",
    "run_control <- 1\n",
    "#run_type = 0 - Lite run with no reporting, not recommended.\n",
    "#run_type = 1 - Lite run with normal reporting, default setting.\n",
    "#run_type = 2 - Heavy run with full reporting, available for audits and troubleshooting.\n",
    "#run_type = 5 - A default setting. Indicates the script is being run by an outside process without an inherited value\n",
    "\n",
    "percode <- \"2021.Q1\"\n",
    "# Data Collection Code, this controls file paths and output names\n",
    "# \"-f\" is the value indicating a bad inheritance from run with arg\n",
    "\n",
    "s_format <- \"p\"\n",
    "# denotes the source data format x == Excel; j == json, p == parquet\n",
    "\n",
    "#----------\n",
    "# do not edit - this either inherits the full instance timestamp from the papermill book or captures the run time of this script.\n",
    "\n",
    "inst_datetime <- format(Sys.time(), \"%S\")\n",
    "\n"
   ]
  },
  {
   "cell_type": "code",
   "execution_count": 2,
   "id": "ddb5fbe7",
   "metadata": {
    "execution": {
     "iopub.execute_input": "2021-06-02T15:46:13.011198Z",
     "iopub.status.busy": "2021-06-02T15:46:12.902826Z",
     "iopub.status.idle": "2021-06-02T15:46:13.080213Z",
     "shell.execute_reply": "2021-06-02T15:46:13.072206Z"
    },
    "papermill": {
     "duration": 0.411586,
     "end_time": "2021-06-02T15:46:13.080213",
     "exception": false,
     "start_time": "2021-06-02T15:46:12.668627",
     "status": "completed"
    },
    "tags": [
     "injected-parameters"
    ]
   },
   "outputs": [],
   "source": [
    "# Parameters\n",
    "run_control = 1\n",
    "percode = \"2021.Q1\"\n",
    "commit_message = \"Live run, added AT, bad file name, rerun.\"\n",
    "inst_datetime = \"06022021112108\"\n"
   ]
  },
  {
   "cell_type": "markdown",
   "id": "2080a605",
   "metadata": {
    "papermill": {
     "duration": 0.227683,
     "end_time": "2021-06-02T15:46:13.517883",
     "exception": false,
     "start_time": "2021-06-02T15:46:13.290200",
     "status": "completed"
    },
    "tags": []
   },
   "source": [
    "#### Default Variables, these govern logic, do not edit."
   ]
  },
  {
   "cell_type": "code",
   "execution_count": 3,
   "id": "f3260af0",
   "metadata": {
    "execution": {
     "iopub.execute_input": "2021-06-02T15:46:13.983681Z",
     "iopub.status.busy": "2021-06-02T15:46:13.978686Z",
     "iopub.status.idle": "2021-06-02T15:46:14.040217Z",
     "shell.execute_reply": "2021-06-02T15:46:14.035209Z"
    },
    "papermill": {
     "duration": 0.286053,
     "end_time": "2021-06-02T15:46:14.040217",
     "exception": false,
     "start_time": "2021-06-02T15:46:13.754164",
     "status": "completed"
    },
    "tags": []
   },
   "outputs": [],
   "source": [
    "default_dc <- \"20XX.QX\"\n",
    "default_rc <- 0 #extra lite mode\n",
    "dummy_perc <- \"33Q3\" # bad inheritance"
   ]
  },
  {
   "cell_type": "markdown",
   "id": "a71ec127",
   "metadata": {
    "papermill": {
     "duration": 0.220614,
     "end_time": "2021-06-02T15:46:14.535870",
     "exception": false,
     "start_time": "2021-06-02T15:46:14.315256",
     "status": "completed"
    },
    "tags": []
   },
   "source": [
    "#### style settings"
   ]
  },
  {
   "cell_type": "code",
   "execution_count": 4,
   "id": "5d0d9f8f",
   "metadata": {
    "execution": {
     "iopub.execute_input": "2021-06-02T15:46:14.986819Z",
     "iopub.status.busy": "2021-06-02T15:46:14.982830Z",
     "iopub.status.idle": "2021-06-02T15:46:15.048816Z",
     "shell.execute_reply": "2021-06-02T15:46:15.043817Z"
    },
    "papermill": {
     "duration": 0.290002,
     "end_time": "2021-06-02T15:46:15.048816",
     "exception": false,
     "start_time": "2021-06-02T15:46:14.758814",
     "status": "completed"
    },
    "tags": []
   },
   "outputs": [],
   "source": [
    "if (run_control == 5)\n",
    "    { run_control <- default_rc }\n",
    "\n",
    "if (run_control != 5) \n",
    "    { run_control <- run_control}\n",
    "\n",
    "# try:\n",
    "#     if sys.argv[1] == \"-f\":\n",
    "#         percode = percode\n",
    "#     else:\n",
    "#         percode = sys.argv[1]\n",
    "\n",
    "# except IndexError:\n",
    "#     percode = default_dc\n",
    "# except NameError:\n",
    "#     percode = default_dc\n"
   ]
  },
  {
   "cell_type": "markdown",
   "id": "01734313",
   "metadata": {
    "papermill": {
     "duration": 0.216078,
     "end_time": "2021-06-02T15:46:15.525893",
     "exception": false,
     "start_time": "2021-06-02T15:46:15.309815",
     "status": "completed"
    },
    "tags": []
   },
   "source": [
    "\n",
    "## Begin Input Read\n",
    "#### Make paths used in script\n",
    "### all paths should be modular and easily replaced ahead of operations"
   ]
  },
  {
   "cell_type": "code",
   "execution_count": 5,
   "id": "5992ef8e",
   "metadata": {
    "execution": {
     "iopub.execute_input": "2021-06-02T15:46:16.000934Z",
     "iopub.status.busy": "2021-06-02T15:46:15.997937Z",
     "iopub.status.idle": "2021-06-02T15:46:16.069639Z",
     "shell.execute_reply": "2021-06-02T15:46:16.065639Z"
    },
    "papermill": {
     "duration": 0.308694,
     "end_time": "2021-06-02T15:46:16.069639",
     "exception": false,
     "start_time": "2021-06-02T15:46:15.760945",
     "status": "completed"
    },
    "tags": []
   },
   "outputs": [],
   "source": [
    "#root directory\n",
    "rt_path <- '//hecate/Insurance_US/Product Development/Product Management/Global PPM/Reporting/Data Collection/Pipeline Reporting Scripts/Finance Comparison PnL'\n",
    "\n",
    "outpath <- paste('//hecate/Insurance_US/Product Development/Product Management/Global PPM/Reporting/Data Collection' , percode,   'Finance Report' , sep= '/')\n",
    "\n",
    "scrfile <- 'Finance_Comparison_PnL.Rmd'\n",
    "\n",
    "scrpath <- paste(rt_path,scrfile, sep =\"/\")\n",
    "\n",
    "outfile <- 'Finance_Comparison_PnL.html'\n",
    "\n",
    "outfp<- paste(outpath,outfile, sep =\"/\")\n"
   ]
  },
  {
   "cell_type": "markdown",
   "id": "e07a1591",
   "metadata": {
    "papermill": {
     "duration": 0.223589,
     "end_time": "2021-06-02T15:46:16.513227",
     "exception": false,
     "start_time": "2021-06-02T15:46:16.289638",
     "status": "completed"
    },
    "tags": []
   },
   "source": [
    "#### Execute Finance Comparison PnL.Rmd\n"
   ]
  },
  {
   "cell_type": "code",
   "execution_count": 6,
   "id": "8c4d343e",
   "metadata": {
    "execution": {
     "iopub.execute_input": "2021-06-02T15:46:16.961024Z",
     "iopub.status.busy": "2021-06-02T15:46:16.957024Z",
     "iopub.status.idle": "2021-06-02T15:47:47.195555Z",
     "shell.execute_reply": "2021-06-02T15:47:47.192559Z"
    },
    "papermill": {
     "duration": 90.453531,
     "end_time": "2021-06-02T15:47:47.195555",
     "exception": false,
     "start_time": "2021-06-02T15:46:16.742024",
     "status": "completed"
    },
    "tags": []
   },
   "outputs": [
    {
     "name": "stdout",
     "output_type": "stream",
     "text": [
      "[1] \"Knitting Finance Comparison PnL\"\n"
     ]
    },
    {
     "name": "stderr",
     "output_type": "stream",
     "text": [
      "\n",
      "\n",
      "processing file: Finance_Comparison_PnL.Rmd\n"
     ]
    },
    {
     "name": "stdout",
     "output_type": "stream",
     "text": [
      "\r",
      "  |                                                                            \r",
      "  |                                                                      |   0%"
     ]
    },
    {
     "name": "stdout",
     "output_type": "stream",
     "text": [
      "\r",
      "  |                                                                            \r",
      "  |.                                                                     |   2%"
     ]
    },
    {
     "name": "stdout",
     "output_type": "stream",
     "text": [
      "\n"
     ]
    },
    {
     "name": "stdout",
     "output_type": "stream",
     "text": [
      "  ordinary text without R code\n",
      "\n",
      "\r",
      "  |                                                                            \r",
      "  |...                                                                   |   4%"
     ]
    },
    {
     "name": "stdout",
     "output_type": "stream",
     "text": [
      "\n"
     ]
    },
    {
     "name": "stdout",
     "output_type": "stream",
     "text": [
      "label: setup (with options) \n",
      "List of 1\n",
      " $ include: logi FALSE\n",
      "\n",
      "\r",
      "  |                                                                            \r",
      "  |....                                                                  |   6%"
     ]
    },
    {
     "name": "stdout",
     "output_type": "stream",
     "text": [
      "\n"
     ]
    },
    {
     "name": "stdout",
     "output_type": "stream",
     "text": [
      "  ordinary text without R code\n",
      "\n",
      "\r",
      "  |                                                                            \r",
      "  |.....                                                                 |   8%"
     ]
    },
    {
     "name": "stdout",
     "output_type": "stream",
     "text": [
      "\n"
     ]
    },
    {
     "name": "stdout",
     "output_type": "stream",
     "text": [
      "label: notes (with options) \n",
      "List of 1\n",
      " $ include: logi FALSE\n",
      "\n",
      "\r",
      "  |                                                                            \r",
      "  |.......                                                               |   9%"
     ]
    },
    {
     "name": "stdout",
     "output_type": "stream",
     "text": [
      "\n"
     ]
    },
    {
     "name": "stdout",
     "output_type": "stream",
     "text": [
      "  ordinary text without R code\n",
      "\n",
      "\r",
      "  |                                                                            \r",
      "  |........                                                              |  11%"
     ]
    },
    {
     "name": "stdout",
     "output_type": "stream",
     "text": [
      "\n"
     ]
    },
    {
     "name": "stdout",
     "output_type": "stream",
     "text": [
      "label: librarys (with options) \n",
      "List of 1\n",
      " $ include: logi FALSE\n",
      "\n"
     ]
    },
    {
     "name": "stderr",
     "output_type": "stream",
     "text": [
      "Warning message:\n",
      "\"package 'arrow' was built under R version 3.6.3\""
     ]
    },
    {
     "name": "stderr",
     "output_type": "stream",
     "text": [
      "See arrow_info() for available features\n"
     ]
    },
    {
     "name": "stderr",
     "output_type": "stream",
     "text": [
      "\n",
      "Attaching package: 'arrow'\n",
      "\n"
     ]
    },
    {
     "name": "stderr",
     "output_type": "stream",
     "text": [
      "The following object is masked from 'package:utils':\n",
      "\n",
      "    timestamp\n",
      "\n"
     ]
    },
    {
     "name": "stderr",
     "output_type": "stream",
     "text": [
      "Warning message:\n",
      "\"package 'flexdashboard' was built under R version 3.6.3\""
     ]
    },
    {
     "name": "stderr",
     "output_type": "stream",
     "text": [
      "Warning message:\n",
      "\"package 'openxlsx' was built under R version 3.6.3\""
     ]
    },
    {
     "name": "stderr",
     "output_type": "stream",
     "text": [
      "Warning message:\n",
      "\"package 'data.table' was built under R version 3.6.3\""
     ]
    },
    {
     "name": "stderr",
     "output_type": "stream",
     "text": [
      "Warning message:\n",
      "\"package 'dplyr' was built under R version 3.6.3\""
     ]
    },
    {
     "name": "stderr",
     "output_type": "stream",
     "text": [
      "Registered S3 methods overwritten by 'tibble':\n",
      "  method     from  \n",
      "  format.tbl pillar\n",
      "  print.tbl  pillar\n"
     ]
    },
    {
     "name": "stderr",
     "output_type": "stream",
     "text": [
      "\n",
      "Attaching package: 'dplyr'\n",
      "\n"
     ]
    },
    {
     "name": "stderr",
     "output_type": "stream",
     "text": [
      "The following objects are masked from 'package:data.table':\n",
      "\n",
      "    between, first, last\n",
      "\n"
     ]
    },
    {
     "name": "stderr",
     "output_type": "stream",
     "text": [
      "The following objects are masked from 'package:stats':\n",
      "\n",
      "    filter, lag\n",
      "\n"
     ]
    },
    {
     "name": "stderr",
     "output_type": "stream",
     "text": [
      "The following objects are masked from 'package:base':\n",
      "\n",
      "    intersect, setdiff, setequal, union\n",
      "\n"
     ]
    },
    {
     "name": "stderr",
     "output_type": "stream",
     "text": [
      "Warning message:\n",
      "\"package 'magrittr' was built under R version 3.6.3\""
     ]
    },
    {
     "name": "stderr",
     "output_type": "stream",
     "text": [
      "\n",
      "Attaching package: 'magrittr'\n",
      "\n"
     ]
    },
    {
     "name": "stderr",
     "output_type": "stream",
     "text": [
      "The following object is masked from 'package:arrow':\n",
      "\n",
      "    is_in\n",
      "\n"
     ]
    },
    {
     "name": "stderr",
     "output_type": "stream",
     "text": [
      "Warning message:\n",
      "\"package 'knitr' was built under R version 3.6.3\""
     ]
    },
    {
     "name": "stderr",
     "output_type": "stream",
     "text": [
      "Warning message:\n",
      "\"package 'kableExtra' was built under R version 3.6.3\""
     ]
    },
    {
     "name": "stderr",
     "output_type": "stream",
     "text": [
      "\n",
      "Attaching package: 'kableExtra'\n",
      "\n"
     ]
    },
    {
     "name": "stderr",
     "output_type": "stream",
     "text": [
      "The following object is masked from 'package:dplyr':\n",
      "\n",
      "    group_rows\n",
      "\n"
     ]
    },
    {
     "name": "stderr",
     "output_type": "stream",
     "text": [
      "Warning message:\n",
      "\"package 'ggplot2' was built under R version 3.6.3\""
     ]
    },
    {
     "name": "stderr",
     "output_type": "stream",
     "text": [
      "Warning message:\n",
      "\"package 'patchwork' was built under R version 3.6.3\""
     ]
    },
    {
     "name": "stderr",
     "output_type": "stream",
     "text": [
      "Warning message:\n",
      "\"package 'DT' was built under R version 3.6.3\""
     ]
    },
    {
     "name": "stderr",
     "output_type": "stream",
     "text": [
      "Warning message:\n",
      "\"package 'scales' was built under R version 3.6.3\""
     ]
    },
    {
     "name": "stderr",
     "output_type": "stream",
     "text": [
      "Warning message:\n",
      "\"package 'reticulate' was built under R version 3.6.3\""
     ]
    },
    {
     "name": "stderr",
     "output_type": "stream",
     "text": [
      "Warning message:\n",
      "\"package 'rpivotTable' was built under R version 3.6.3\""
     ]
    },
    {
     "name": "stdout",
     "output_type": "stream",
     "text": [
      "\r",
      "  |                                                                            \r",
      "  |.........                                                             |  13%"
     ]
    },
    {
     "name": "stdout",
     "output_type": "stream",
     "text": [
      "\n"
     ]
    },
    {
     "name": "stdout",
     "output_type": "stream",
     "text": [
      "  ordinary text without R code\n",
      "\n",
      "\r",
      "  |                                                                            \r",
      "  |...........                                                           |  15%"
     ]
    },
    {
     "name": "stdout",
     "output_type": "stream",
     "text": [
      "\n"
     ]
    },
    {
     "name": "stdout",
     "output_type": "stream",
     "text": [
      "label: read (with options) \n",
      "List of 2\n",
      " $ echo   : logi FALSE\n",
      " $ include: logi FALSE\n",
      "\n",
      "\r",
      "  |                                                                            \r",
      "  |............                                                          |  17%"
     ]
    },
    {
     "name": "stdout",
     "output_type": "stream",
     "text": [
      "\n"
     ]
    },
    {
     "name": "stdout",
     "output_type": "stream",
     "text": [
      "  ordinary text without R code\n",
      "\n",
      "\r",
      "  |                                                                            \r",
      "  |.............                                                         |  19%"
     ]
    },
    {
     "name": "stdout",
     "output_type": "stream",
     "text": [
      "\n"
     ]
    },
    {
     "name": "stdout",
     "output_type": "stream",
     "text": [
      "label: make DT (with options) \n",
      "List of 2\n",
      " $ echo   : logi FALSE\n",
      " $ include: logi FALSE\n",
      "\n",
      "\r",
      "  |                                                                            \r",
      "  |...............                                                       |  21%"
     ]
    },
    {
     "name": "stdout",
     "output_type": "stream",
     "text": [
      "\n"
     ]
    },
    {
     "name": "stdout",
     "output_type": "stream",
     "text": [
      "  ordinary text without R code\n",
      "\n",
      "\r",
      "  |                                                                            \r",
      "  |................                                                      |  23%"
     ]
    },
    {
     "name": "stdout",
     "output_type": "stream",
     "text": [
      "\n"
     ]
    },
    {
     "name": "stdout",
     "output_type": "stream",
     "text": [
      "label: build report view (with options) \n",
      "List of 2\n",
      " $ echo   : logi FALSE\n",
      " $ include: logi FALSE\n",
      "\n",
      "\r",
      "  |                                                                            \r",
      "  |.................                                                     |  25%"
     ]
    },
    {
     "name": "stdout",
     "output_type": "stream",
     "text": [
      "\n"
     ]
    },
    {
     "name": "stdout",
     "output_type": "stream",
     "text": [
      "  ordinary text without R code\n",
      "\n",
      "\r",
      "  |                                                                            \r",
      "  |..................                                                    |  26%"
     ]
    },
    {
     "name": "stdout",
     "output_type": "stream",
     "text": [
      "\n"
     ]
    },
    {
     "name": "stdout",
     "output_type": "stream",
     "text": [
      "label: build report views2 (with options) \n",
      "List of 2\n",
      " $ echo   : logi FALSE\n",
      " $ include: logi FALSE\n",
      "\n",
      "\r",
      "  |                                                                            \r",
      "  |....................                                                  |  28%"
     ]
    },
    {
     "name": "stdout",
     "output_type": "stream",
     "text": [
      "\n"
     ]
    },
    {
     "name": "stdout",
     "output_type": "stream",
     "text": [
      "  ordinary text without R code\n",
      "\n",
      "\r",
      "  |                                                                            \r",
      "  |.....................                                                 |  30%"
     ]
    },
    {
     "name": "stdout",
     "output_type": "stream",
     "text": [
      "\n"
     ]
    },
    {
     "name": "stdout",
     "output_type": "stream",
     "text": [
      "label: list BUs included in UW view  (with options) \n",
      "List of 2\n",
      " $ echo   : logi FALSE\n",
      " $ include: logi FALSE\n",
      "\n",
      "\r",
      "  |                                                                            \r",
      "  |......................                                                |  32%"
     ]
    },
    {
     "name": "stdout",
     "output_type": "stream",
     "text": [
      "\n"
     ]
    },
    {
     "name": "stdout",
     "output_type": "stream",
     "text": [
      "  ordinary text without R code\n",
      "\n",
      "\r",
      "  |                                                                            \r",
      "  |........................                                              |  34%"
     ]
    },
    {
     "name": "stdout",
     "output_type": "stream",
     "text": [
      "\n"
     ]
    },
    {
     "name": "stdout",
     "output_type": "stream",
     "text": [
      "label: pivot table try 1  (with options) \n",
      "List of 2\n",
      " $ echo   : logi FALSE\n",
      " $ include: logi FALSE\n",
      "\n"
     ]
    },
    {
     "name": "stderr",
     "output_type": "stream",
     "text": [
      "Warning message:\n",
      "\"package 'pivottabler' was built under R version 3.6.3\""
     ]
    },
    {
     "name": "stderr",
     "output_type": "stream",
     "text": [
      "Warning message in melt(dt_reportview, id = c(\"Business Unit Code\", \"Business Unit\")):\n",
      "\"The melt generic in data.table has been passed a data.frame and will attempt to redirect to the relevant reshape2 method; please note that reshape2 is deprecated, and this redirection is now deprecated as well. To continue using melt methods from reshape2 while both libraries are attached, e.g. melt.list, you can prepend the namespace like reshape2::melt(dt_reportview). In the next version, this warning will become an error.\""
     ]
    },
    {
     "name": "stdout",
     "output_type": "stream",
     "text": [
      "\r",
      "  |                                                                            \r",
      "  |.........................                                             |  36%"
     ]
    },
    {
     "name": "stdout",
     "output_type": "stream",
     "text": [
      "\n"
     ]
    },
    {
     "name": "stdout",
     "output_type": "stream",
     "text": [
      "  ordinary text without R code\n",
      "\n",
      "\r",
      "  |                                                                            \r",
      "  |..........................                                            |  38%"
     ]
    },
    {
     "name": "stdout",
     "output_type": "stream",
     "text": [
      "\n"
     ]
    },
    {
     "name": "stdout",
     "output_type": "stream",
     "text": [
      "label: pivot to DT (with options) \n",
      "List of 2\n",
      " $ echo   : logi FALSE\n",
      " $ include: logi FALSE\n",
      "\n",
      "\r",
      "  |                                                                            \r",
      "  |............................                                          |  40%"
     ]
    },
    {
     "name": "stdout",
     "output_type": "stream",
     "text": [
      "\n"
     ]
    },
    {
     "name": "stdout",
     "output_type": "stream",
     "text": [
      "  ordinary text without R code\n",
      "\n",
      "\r",
      "  |                                                                            \r",
      "  |.............................                                         |  42%"
     ]
    },
    {
     "name": "stdout",
     "output_type": "stream",
     "text": [
      "\n"
     ]
    },
    {
     "name": "stdout",
     "output_type": "stream",
     "text": [
      "label: melt pivot (with options) \n",
      "List of 2\n",
      " $ echo   : logi FALSE\n",
      " $ include: logi FALSE\n",
      "\n",
      "\r",
      "  |                                                                            \r",
      "  |..............................                                        |  43%"
     ]
    },
    {
     "name": "stdout",
     "output_type": "stream",
     "text": [
      "\n"
     ]
    },
    {
     "name": "stdout",
     "output_type": "stream",
     "text": [
      "  ordinary text without R code\n",
      "\n",
      "\r",
      "  |                                                                            \r",
      "  |................................                                      |  45%"
     ]
    },
    {
     "name": "stdout",
     "output_type": "stream",
     "text": [
      "\n"
     ]
    },
    {
     "name": "stdout",
     "output_type": "stream",
     "text": [
      "label: bad waterfall, commented out (with options) \n",
      "List of 2\n",
      " $ echo   : logi FALSE\n",
      " $ include: logi FALSE\n",
      "\n",
      "\r",
      "  |                                                                            \r",
      "  |.................................                                     |  47%"
     ]
    },
    {
     "name": "stdout",
     "output_type": "stream",
     "text": [
      "\n"
     ]
    },
    {
     "name": "stdout",
     "output_type": "stream",
     "text": [
      "  ordinary text without R code\n",
      "\n",
      "\r",
      "  |                                                                            \r",
      "  |..................................                                    |  49%"
     ]
    },
    {
     "name": "stdout",
     "output_type": "stream",
     "text": [
      "\n"
     ]
    },
    {
     "name": "stdout",
     "output_type": "stream",
     "text": [
      "label: dfmelt add region (with options) \n",
      "List of 2\n",
      " $ echo   : logi FALSE\n",
      " $ include: logi FALSE\n",
      "\n",
      "\r",
      "  |                                                                            \r",
      "  |....................................                                  |  51%"
     ]
    },
    {
     "name": "stdout",
     "output_type": "stream",
     "text": [
      "\n"
     ]
    },
    {
     "name": "stdout",
     "output_type": "stream",
     "text": [
      "  ordinary text without R code\n",
      "\n",
      "\r",
      "  |                                                                            \r",
      "  |.....................................                                 |  53%"
     ]
    },
    {
     "name": "stdout",
     "output_type": "stream",
     "text": [
      "\n"
     ]
    },
    {
     "name": "stdout",
     "output_type": "stream",
     "text": [
      "label: dfmelt add View2 (with options) \n",
      "List of 2\n",
      " $ echo   : logi FALSE\n",
      " $ include: logi FALSE\n",
      "\n",
      "\r",
      "  |                                                                            \r",
      "  |......................................                                |  55%"
     ]
    },
    {
     "name": "stdout",
     "output_type": "stream",
     "text": [
      "\n"
     ]
    },
    {
     "name": "stdout",
     "output_type": "stream",
     "text": [
      "  ordinary text without R code\n",
      "\n",
      "\r",
      "  |                                                                            \r",
      "  |........................................                              |  57%"
     ]
    },
    {
     "name": "stdout",
     "output_type": "stream",
     "text": [
      "\n"
     ]
    },
    {
     "name": "stdout",
     "output_type": "stream",
     "text": [
      "label: dfmelt add data collection (with options) \n",
      "List of 2\n",
      " $ echo   : logi FALSE\n",
      " $ include: logi FALSE\n",
      "\n",
      "\r",
      "  |                                                                            \r",
      "  |.........................................                             |  58%"
     ]
    },
    {
     "name": "stdout",
     "output_type": "stream",
     "text": [
      "\n"
     ]
    },
    {
     "name": "stdout",
     "output_type": "stream",
     "text": [
      "  ordinary text without R code\n",
      "\n",
      "\r",
      "  |                                                                            \r",
      "  |..........................................                            |  60%"
     ]
    },
    {
     "name": "stdout",
     "output_type": "stream",
     "text": [
      "\n"
     ]
    },
    {
     "name": "stdout",
     "output_type": "stream",
     "text": [
      "label: dfmelt add line order (with options) \n",
      "List of 2\n",
      " $ echo   : logi FALSE\n",
      " $ include: logi FALSE\n",
      "\n",
      "\r",
      "  |                                                                            \r",
      "  |............................................                          |  62%"
     ]
    },
    {
     "name": "stdout",
     "output_type": "stream",
     "text": [
      "\n"
     ]
    },
    {
     "name": "stdout",
     "output_type": "stream",
     "text": [
      "  ordinary text without R code\n",
      "\n",
      "\r",
      "  |                                                                            \r",
      "  |.............................................                         |  64%"
     ]
    },
    {
     "name": "stdout",
     "output_type": "stream",
     "text": [
      "\n"
     ]
    },
    {
     "name": "stdout",
     "output_type": "stream",
     "text": [
      "label: finish dfmelt (with options) \n",
      "List of 2\n",
      " $ echo   : logi FALSE\n",
      " $ include: logi FALSE\n",
      "\n",
      "\r",
      "  |                                                                            \r",
      "  |..............................................                        |  66%"
     ]
    },
    {
     "name": "stdout",
     "output_type": "stream",
     "text": [
      "\n"
     ]
    },
    {
     "name": "stdout",
     "output_type": "stream",
     "text": [
      "  ordinary text without R code\n",
      "\n",
      "\r",
      "  |                                                                            \r",
      "  |................................................                      |  68%"
     ]
    },
    {
     "name": "stdout",
     "output_type": "stream",
     "text": [
      "\n"
     ]
    },
    {
     "name": "stdout",
     "output_type": "stream",
     "text": [
      "label: create dfmeltratios (with options) \n",
      "List of 2\n",
      " $ echo   : logi FALSE\n",
      " $ include: logi FALSE\n",
      "\n",
      "\r",
      "  |                                                                            \r",
      "  |.................................................                     |  70%"
     ]
    },
    {
     "name": "stdout",
     "output_type": "stream",
     "text": [
      "\n"
     ]
    },
    {
     "name": "stdout",
     "output_type": "stream",
     "text": [
      "  ordinary text without R code\n",
      "\n",
      "\r",
      "  |                                                                            \r",
      "  |..................................................                    |  72%"
     ]
    },
    {
     "name": "stdout",
     "output_type": "stream",
     "text": [
      "\n"
     ]
    },
    {
     "name": "stdout",
     "output_type": "stream",
     "text": [
      "label: remove base rows from dfmelt (with options) \n",
      "List of 2\n",
      " $ echo   : logi FALSE\n",
      " $ include: logi FALSE\n",
      "\n",
      "\r",
      "  |                                                                            \r",
      "  |....................................................                  |  74%"
     ]
    },
    {
     "name": "stdout",
     "output_type": "stream",
     "text": [
      "\n"
     ]
    },
    {
     "name": "stdout",
     "output_type": "stream",
     "text": [
      "  ordinary text without R code\n",
      "\n",
      "\r",
      "  |                                                                            \r",
      "  |.....................................................                 |  75%"
     ]
    },
    {
     "name": "stdout",
     "output_type": "stream",
     "text": [
      "\n"
     ]
    },
    {
     "name": "stdout",
     "output_type": "stream",
     "text": [
      "label: make commentary df (with options) \n",
      "List of 2\n",
      " $ echo   : logi FALSE\n",
      " $ include: logi FALSE\n",
      "\n",
      "\r",
      "  |                                                                            \r",
      "  |......................................................                |  77%"
     ]
    },
    {
     "name": "stdout",
     "output_type": "stream",
     "text": [
      "\n"
     ]
    },
    {
     "name": "stdout",
     "output_type": "stream",
     "text": [
      "  ordinary text without R code\n",
      "\n",
      "\r",
      "  |                                                                            \r",
      "  |.......................................................               |  79%"
     ]
    },
    {
     "name": "stdout",
     "output_type": "stream",
     "text": [
      "\n"
     ]
    },
    {
     "name": "stdout",
     "output_type": "stream",
     "text": [
      "label: commentary df add region  (with options) \n",
      "List of 2\n",
      " $ echo   : logi FALSE\n",
      " $ include: logi FALSE\n",
      "\n"
     ]
    },
    {
     "name": "stderr",
     "output_type": "stream",
     "text": [
      "Warning message in set(x, j = name, value = value):\n",
      "\"Column 'Region' does not exist to remove\""
     ]
    },
    {
     "name": "stdout",
     "output_type": "stream",
     "text": [
      "\r",
      "  |                                                                            \r",
      "  |.........................................................             |  81%"
     ]
    },
    {
     "name": "stdout",
     "output_type": "stream",
     "text": [
      "\n"
     ]
    },
    {
     "name": "stdout",
     "output_type": "stream",
     "text": [
      "  ordinary text without R code\n",
      "\n",
      "\r",
      "  |                                                                            \r",
      "  |..........................................................            |  83%"
     ]
    },
    {
     "name": "stdout",
     "output_type": "stream",
     "text": [
      "\n"
     ]
    },
    {
     "name": "stdout",
     "output_type": "stream",
     "text": [
      "label: commentary df add line order (with options) \n",
      "List of 2\n",
      " $ echo   : logi FALSE\n",
      " $ include: logi FALSE\n",
      "\n",
      "\r",
      "  |                                                                            \r",
      "  |...........................................................           |  85%"
     ]
    },
    {
     "name": "stdout",
     "output_type": "stream",
     "text": [
      "\n"
     ]
    },
    {
     "name": "stdout",
     "output_type": "stream",
     "text": [
      "  ordinary text without R code\n",
      "\n",
      "\r",
      "  |                                                                            \r",
      "  |.............................................................         |  87%"
     ]
    },
    {
     "name": "stdout",
     "output_type": "stream",
     "text": [
      "\n"
     ]
    },
    {
     "name": "stdout",
     "output_type": "stream",
     "text": [
      "label: unnamed-chunk-1 (with options) \n",
      "List of 1\n",
      " $ echo: logi FALSE\n",
      "\n",
      "\r",
      "  |                                                                            \r",
      "  |..............................................................        |  89%"
     ]
    },
    {
     "name": "stdout",
     "output_type": "stream",
     "text": [
      "\n"
     ]
    },
    {
     "name": "stdout",
     "output_type": "stream",
     "text": [
      "  ordinary text without R code\n",
      "\n",
      "\r",
      "  |                                                                            \r",
      "  |...............................................................       |  91%"
     ]
    },
    {
     "name": "stdout",
     "output_type": "stream",
     "text": [
      "\n"
     ]
    },
    {
     "name": "stdout",
     "output_type": "stream",
     "text": [
      "label: unnamed-chunk-2 (with options) \n",
      "List of 1\n",
      " $ echo: logi FALSE\n",
      "\n",
      "\r",
      "  |                                                                            \r",
      "  |.................................................................     |  92%"
     ]
    },
    {
     "name": "stdout",
     "output_type": "stream",
     "text": [
      "\n"
     ]
    },
    {
     "name": "stdout",
     "output_type": "stream",
     "text": [
      "  ordinary text without R code\n",
      "\n",
      "\r",
      "  |                                                                            \r",
      "  |..................................................................    |  94%"
     ]
    },
    {
     "name": "stdout",
     "output_type": "stream",
     "text": [
      "\n"
     ]
    },
    {
     "name": "stdout",
     "output_type": "stream",
     "text": [
      "label: unnamed-chunk-3 (with options) \n",
      "List of 1\n",
      " $ echo: logi FALSE\n",
      "\n",
      "\r",
      "  |                                                                            \r",
      "  |...................................................................   |  96%"
     ]
    },
    {
     "name": "stdout",
     "output_type": "stream",
     "text": [
      "\n"
     ]
    },
    {
     "name": "stdout",
     "output_type": "stream",
     "text": [
      "  ordinary text without R code\n",
      "\n",
      "\r",
      "  |                                                                            \r",
      "  |..................................................................... |  98%"
     ]
    },
    {
     "name": "stdout",
     "output_type": "stream",
     "text": [
      "\n"
     ]
    },
    {
     "name": "stdout",
     "output_type": "stream",
     "text": [
      "label: Pivot Table CSS (with options) \n",
      "List of 2\n",
      " $ echo  : logi FALSE\n",
      " $ engine: chr \"css\"\n",
      "\n",
      "\r",
      "  |                                                                            \r",
      "  |......................................................................| 100%"
     ]
    },
    {
     "name": "stdout",
     "output_type": "stream",
     "text": [
      "\n"
     ]
    },
    {
     "name": "stdout",
     "output_type": "stream",
     "text": [
      "  ordinary text without R code\n",
      "\n",
      "\n"
     ]
    },
    {
     "name": "stderr",
     "output_type": "stream",
     "text": [
      "output file: Finance_Comparison_PnL.knit.md\n",
      "\n"
     ]
    },
    {
     "name": "stdout",
     "output_type": "stream",
     "text": [
      "\"C:/Users/gharmo/ANACON~2/Scripts/pandoc\" +RTS -K512m -RTS Finance_Comparison_PnL.knit.md --to html4 --from markdown+autolink_bare_uris+tex_math_single_backslash --output pandoc859c6fd4780d.html --lua-filter \"C:\\Users\\gharmo\\Documents\\R\\win-library\\3.6\\rmarkdown\\rmarkdown\\lua\\pagebreak.lua\" --lua-filter \"C:\\Users\\gharmo\\Documents\\R\\win-library\\3.6\\rmarkdown\\rmarkdown\\lua\\latex-div.lua\" --self-contained --variable bs3=TRUE --standalone --section-divs --template \"C:\\Users\\gharmo\\Documents\\R\\win-library\\3.6\\flexdashboard\\rmarkdown\\templates\\flex_dashboard\\resources\\default.html\" --variable theme=cosmo --include-in-header \"C:\\Users\\gharmo\\AppData\\Local\\Temp\\RtmpqUIAPV\\rmarkdown-str859c3cc86dde.html\" --mathjax --variable \"mathjax-url:https://mathjax.rstudio.com/latest/MathJax.js?config=TeX-AMS-MML_HTMLorMML\" --variable logo=AzPTravel_White_XSm.png --include-in-header \"C:\\Users\\gharmo\\AppData\\Local\\Temp\\RtmpqUIAPV\\file859c636e7226html\" --highlight-style pygments --include-before-body \"C:\\Users\\gharmo\\AppData\\Local\\Temp\\RtmpqUIAPV\\file859c8593460.html\" --include-after-body footer.html --include-after-body \"C:\\Users\\gharmo\\AppData\\Local\\Temp\\RtmpqUIAPV\\file859c62bc5874.html\" --css styles.css \n"
     ]
    },
    {
     "name": "stderr",
     "output_type": "stream",
     "text": [
      "\n",
      "Output created: \\\\hecate/Insurance_US/Product Development/Product Management/Global PPM/Reporting/Data Collection/2021.Q1/Finance Report/Finance_Comparison_PnL.html\n"
     ]
    }
   ],
   "source": [
    "print(\"Knitting Finance Comparison PnL\")   \n",
    "\n",
    "rmarkdown::render(scrpath, output_file = outfile ,  output_dir = outpath  )\n"
   ]
  },
  {
   "cell_type": "markdown",
   "id": "eec38f05",
   "metadata": {
    "papermill": {
     "duration": 0.513933,
     "end_time": "2021-06-02T15:47:48.204417",
     "exception": false,
     "start_time": "2021-06-02T15:47:47.690484",
     "status": "completed"
    },
    "tags": []
   },
   "source": [
    "#### Open the file that was knit"
   ]
  },
  {
   "cell_type": "code",
   "execution_count": 7,
   "id": "a80740d4",
   "metadata": {
    "execution": {
     "iopub.execute_input": "2021-06-02T15:47:48.946153Z",
     "iopub.status.busy": "2021-06-02T15:47:48.942165Z",
     "iopub.status.idle": "2021-06-02T15:47:51.562262Z",
     "shell.execute_reply": "2021-06-02T15:47:51.555262Z"
    },
    "papermill": {
     "duration": 2.982757,
     "end_time": "2021-06-02T15:47:51.563260",
     "exception": false,
     "start_time": "2021-06-02T15:47:48.580503",
     "status": "completed"
    },
    "tags": []
   },
   "outputs": [],
   "source": [
    "openHTML <- function(x) browseURL(paste0('file://', x))\n",
    "\n",
    "openHTML(outfp)"
   ]
  },
  {
   "cell_type": "code",
   "execution_count": null,
   "id": "535c6d25",
   "metadata": {
    "papermill": {
     "duration": 0.368524,
     "end_time": "2021-06-02T15:47:52.798016",
     "exception": false,
     "start_time": "2021-06-02T15:47:52.429492",
     "status": "completed"
    },
    "tags": []
   },
   "outputs": [],
   "source": []
  }
 ],
 "metadata": {
  "celltoolbar": "Tags",
  "kernelspec": {
   "display_name": "R",
   "language": "R",
   "name": "ir"
  },
  "language_info": {
   "codemirror_mode": "r",
   "file_extension": ".r",
   "mimetype": "text/x-r-source",
   "name": "R",
   "pygments_lexer": "r",
   "version": "3.6.1"
  },
  "papermill": {
   "default_parameters": {},
   "duration": 113.866837,
   "end_time": "2021-06-02T15:47:55.323129",
   "environment_variables": {},
   "exception": null,
   "input_path": "reporting/knit Finance_Comparison_PnL.ipynb",
   "output_path": "//hecate/Insurance_US/Product Development/Product Management/Global PPM/Reporting/Data Collection/Pipeline Reporting Scripts/GPMpipeline/instances/2021.Q1\\reporting\\knit Finance_Comparison_PnL06022021112108--live, add AT.ipynb",
   "parameters": {
    "commit_message": "Live run, added AT, bad file name, rerun.",
    "inst_datetime": "06022021112108",
    "percode": "2021.Q1",
    "run_control": 1
   },
   "start_time": "2021-06-02T15:46:01.456292",
   "version": "2.3.3"
  }
 },
 "nbformat": 4,
 "nbformat_minor": 5
}