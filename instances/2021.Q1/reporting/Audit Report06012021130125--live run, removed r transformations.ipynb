{
 "cells": [
  {
   "cell_type": "markdown",
   "id": "caf3ffd5",
   "metadata": {
    "papermill": {
     "duration": 0.272204,
     "end_time": "2021-06-01T17:27:36.343551",
     "exception": false,
     "start_time": "2021-06-01T17:27:36.071347",
     "status": "completed"
    },
    "tags": []
   },
   "source": [
    "<img src=\"../images/AzPTravel_PPM.png\">"
   ]
  },
  {
   "cell_type": "markdown",
   "id": "458dca0c",
   "metadata": {
    "papermill": {
     "duration": 0.259999,
     "end_time": "2021-06-01T17:27:36.867075",
     "exception": false,
     "start_time": "2021-06-01T17:27:36.607076",
     "status": "completed"
    },
    "tags": []
   },
   "source": [
    "# Audit Report\n",
    "\n",
    "## This script reads the output of the of the final data files and compares them to inputs. \n",
    "\n",
    "#### Euro Check\n",
    "- Compare the deltas on teh Localcurr to the source and raise errors if they do not match\n",
    "\n",
    "#### Prior over Period Check\n",
    "- Quickly compare period over period and YoY final data files for major KPI's and row counts. \n",
    "\n"
   ]
  },
  {
   "cell_type": "markdown",
   "id": "e24dc59c",
   "metadata": {
    "papermill": {
     "duration": 0.254505,
     "end_time": "2021-06-01T17:27:37.373580",
     "exception": false,
     "start_time": "2021-06-01T17:27:37.119075",
     "status": "completed"
    },
    "tags": []
   },
   "source": [
    "### User Variables\n",
    "- These are overwritten if inherited from run_control.ipynb.\n",
    "- Feel Free to reset them for a manual run if you like\n",
    "- Do not save without percode = \"-f\""
   ]
  },
  {
   "cell_type": "code",
   "execution_count": 1,
   "id": "31b95ee0",
   "metadata": {
    "execution": {
     "iopub.execute_input": "2021-06-01T17:27:37.911449Z",
     "iopub.status.busy": "2021-06-01T17:27:37.904446Z",
     "iopub.status.idle": "2021-06-01T17:27:37.914451Z",
     "shell.execute_reply": "2021-06-01T17:27:37.928451Z"
    },
    "papermill": {
     "duration": 0.323536,
     "end_time": "2021-06-01T17:27:37.928451",
     "exception": false,
     "start_time": "2021-06-01T17:27:37.604915",
     "status": "completed"
    },
    "tags": [
     "parameters"
    ]
   },
   "outputs": [],
   "source": [
    "commit_message = \"Development and testing.\"\n",
    "# Give a brief reason for the run.\n",
    "\n",
    "run_control = 1\n",
    "#run_type = 0 - Lite run with no reporting, not recommended.\n",
    "#run_type = 1 - Lite run with normal reporting, default setting.\n",
    "#run_type = 2 - Heavy run with full reporting, available for audits and troubleshooting.\n",
    "#run_type = 5 - A default setting. Indicates the script is being run by an outside process without an inherited value\n",
    "\n",
    "percode = \"2021.Q1\"\n",
    "# Data Collection Code, this controls file paths and output names\n",
    "# \"-f\" is the value indicating a bad inheritance from run with arg\n",
    "\n",
    "s_format = \"p\"\n",
    "# denotes the source data format x == Excel; j == json, p == parquet\n",
    "\n",
    "#----------\n",
    "# do not edit - this either inherits the full instance timestamp from the papermill book or captures the run time of this script.\n",
    "from datetime import datetime  # datetime options\n",
    "inst_datetime = datetime.now().strftime(\"%m%d%Y%H%M%S\")"
   ]
  },
  {
   "cell_type": "code",
   "execution_count": 2,
   "id": "765d5fa8",
   "metadata": {
    "execution": {
     "iopub.execute_input": "2021-06-01T17:27:38.471185Z",
     "iopub.status.busy": "2021-06-01T17:27:38.469184Z",
     "iopub.status.idle": "2021-06-01T17:27:38.473189Z",
     "shell.execute_reply": "2021-06-01T17:27:38.472185Z"
    },
    "papermill": {
     "duration": 0.28372,
     "end_time": "2021-06-01T17:27:38.474198",
     "exception": false,
     "start_time": "2021-06-01T17:27:38.190478",
     "status": "completed"
    },
    "tags": [
     "injected-parameters"
    ]
   },
   "outputs": [],
   "source": [
    "# Parameters\n",
    "run_control = 1\n",
    "percode = \"2021.Q1\"\n",
    "commit_message = \"Demo Test\"\n",
    "inst_datetime = \"06012021130125\"\n"
   ]
  },
  {
   "cell_type": "markdown",
   "id": "fde76ca3",
   "metadata": {
    "papermill": {
     "duration": 0.248494,
     "end_time": "2021-06-01T17:27:38.971719",
     "exception": false,
     "start_time": "2021-06-01T17:27:38.723225",
     "status": "completed"
    },
    "tags": []
   },
   "source": [
    "#### Notebook display options"
   ]
  },
  {
   "cell_type": "code",
   "execution_count": 3,
   "id": "dc3ae761",
   "metadata": {
    "execution": {
     "iopub.execute_input": "2021-06-01T17:27:39.459068Z",
     "iopub.status.busy": "2021-06-01T17:27:39.458069Z",
     "iopub.status.idle": "2021-06-01T17:27:39.464070Z",
     "shell.execute_reply": "2021-06-01T17:27:39.466069Z"
    },
    "papermill": {
     "duration": 0.267701,
     "end_time": "2021-06-01T17:27:39.466069",
     "exception": false,
     "start_time": "2021-06-01T17:27:39.198368",
     "status": "completed"
    },
    "tags": []
   },
   "outputs": [],
   "source": [
    "from IPython.core.interactiveshell import InteractiveShell\n",
    "InteractiveShell.ast_node_interactivity = \"all\"\n"
   ]
  },
  {
   "cell_type": "markdown",
   "id": "75489532",
   "metadata": {
    "papermill": {
     "duration": 0.251004,
     "end_time": "2021-06-01T17:27:39.962505",
     "exception": false,
     "start_time": "2021-06-01T17:27:39.711501",
     "status": "completed"
    },
    "tags": []
   },
   "source": [
    "#### import packages"
   ]
  },
  {
   "cell_type": "code",
   "execution_count": 4,
   "id": "d0339a40",
   "metadata": {
    "execution": {
     "iopub.execute_input": "2021-06-01T17:27:40.467664Z",
     "iopub.status.busy": "2021-06-01T17:27:40.462662Z",
     "iopub.status.idle": "2021-06-01T17:27:50.277122Z",
     "shell.execute_reply": "2021-06-01T17:27:50.279135Z"
    },
    "papermill": {
     "duration": 10.071006,
     "end_time": "2021-06-01T17:27:50.280118",
     "exception": false,
     "start_time": "2021-06-01T17:27:40.209112",
     "status": "completed"
    },
    "tags": []
   },
   "outputs": [],
   "source": [
    "#### Packages used\n",
    "\n",
    "import os # System commands\n",
    "import sys # System commands\n",
    "\n",
    "import warnings # custom warnigns options\n",
    "\n",
    "import glob # Directory operations\n",
    "import getpass # Work with parquet\n",
    "import json # Work with json\n",
    "\n",
    "import matplotlib.pyplot as plt #Plots and Graphs\n",
    "import seaborn as sns #Plots and Graphs\n",
    "import numpy as np # Series and math\n",
    "import pandas as pd #DataFrame and math\n",
    "\n",
    "#excel operations\n",
    "import re\n",
    "import nicexcel as nl # Excel operations\n",
    "import xlsxwriter # Excel operations\n",
    "import openpyxl # Excel operations\n",
    "\n",
    "#Not sure, test if needed\n",
    "import timeit\n",
    "\n"
   ]
  },
  {
   "cell_type": "markdown",
   "id": "7a7e07bd",
   "metadata": {
    "papermill": {
     "duration": 0.294123,
     "end_time": "2021-06-01T17:27:50.870898",
     "exception": false,
     "start_time": "2021-06-01T17:27:50.576775",
     "status": "completed"
    },
    "tags": []
   },
   "source": [
    "#### Default Variables, these govern logic, do not edit."
   ]
  },
  {
   "cell_type": "code",
   "execution_count": 5,
   "id": "5178dfee",
   "metadata": {
    "execution": {
     "iopub.execute_input": "2021-06-01T17:27:51.365793Z",
     "iopub.status.busy": "2021-06-01T17:27:51.363801Z",
     "iopub.status.idle": "2021-06-01T17:27:51.370788Z",
     "shell.execute_reply": "2021-06-01T17:27:51.372789Z"
    },
    "papermill": {
     "duration": 0.268785,
     "end_time": "2021-06-01T17:27:51.372789",
     "exception": false,
     "start_time": "2021-06-01T17:27:51.104004",
     "status": "completed"
    },
    "tags": []
   },
   "outputs": [],
   "source": [
    "default_dc = \"20XX.QX\"\n",
    "default_rc = 0 #extra lite mode\n",
    "dummy_perc = \"33Q3\" # bad inheritance"
   ]
  },
  {
   "cell_type": "markdown",
   "id": "f75aac8d",
   "metadata": {
    "papermill": {
     "duration": 0.260655,
     "end_time": "2021-06-01T17:27:51.881809",
     "exception": false,
     "start_time": "2021-06-01T17:27:51.621154",
     "status": "completed"
    },
    "tags": []
   },
   "source": [
    "#### Script determining run context ie, manual, run_control.ipynb, or other."
   ]
  },
  {
   "cell_type": "code",
   "execution_count": 6,
   "id": "de8e9840",
   "metadata": {
    "execution": {
     "iopub.execute_input": "2021-06-01T17:27:52.419173Z",
     "iopub.status.busy": "2021-06-01T17:27:52.417171Z",
     "iopub.status.idle": "2021-06-01T17:27:52.422169Z",
     "shell.execute_reply": "2021-06-01T17:27:52.424170Z"
    },
    "papermill": {
     "duration": 0.282996,
     "end_time": "2021-06-01T17:27:52.425169",
     "exception": false,
     "start_time": "2021-06-01T17:27:52.142173",
     "status": "completed"
    },
    "tags": []
   },
   "outputs": [],
   "source": [
    "if run_control == 5:\n",
    "    run_control = default_rc \n",
    "else:\n",
    "    run_control = run_control\n",
    "\n",
    "try:\n",
    "    if sys.argv[1] == \"-f\":\n",
    "        percode = percode\n",
    "    else:\n",
    "        percode = sys.argv[1]\n",
    "\n",
    "except IndexError:\n",
    "    percode = default_dc\n",
    "except NameError:\n",
    "    percode = default_dc\n",
    "\n",
    "\n",
    "if percode == \"2021.Q1\":\n",
    "    \n",
    "     prev_percode = \"2020.Q4\"\n",
    "     prev_yearcode = \"2020.Q1\"\n",
    "\n",
    "elif percode == \"2020.Q4\":\n",
    "    \n",
    "     prev_percode = \"2020.Q3\"\n",
    "     prev_yearcode = \"2019.Q4\"\n",
    "\n",
    "elif percode == \"2020.Q3\":\n",
    "    \n",
    "     prev_percode = \"2020.Q1\"\n",
    "     prev_yearcode = \"none\"    \n",
    "\n",
    "elif percode == \"2020.Q1\":\n",
    "    \n",
    "     prev_percode = \"2019.Q4\"\n",
    "     prev_yearcode = \"none\"   "
   ]
  },
  {
   "cell_type": "markdown",
   "id": "d4a780f2",
   "metadata": {
    "papermill": {
     "duration": 0.283047,
     "end_time": "2021-06-01T17:27:52.946743",
     "exception": false,
     "start_time": "2021-06-01T17:27:52.663696",
     "status": "completed"
    },
    "tags": []
   },
   "source": [
    "#### style settings"
   ]
  },
  {
   "cell_type": "code",
   "execution_count": 7,
   "id": "b4742fea",
   "metadata": {
    "execution": {
     "iopub.execute_input": "2021-06-01T17:27:53.484457Z",
     "iopub.status.busy": "2021-06-01T17:27:53.479744Z",
     "iopub.status.idle": "2021-06-01T17:27:53.490443Z",
     "shell.execute_reply": "2021-06-01T17:27:53.492553Z"
    },
    "papermill": {
     "duration": 0.309808,
     "end_time": "2021-06-01T17:27:53.492553",
     "exception": false,
     "start_time": "2021-06-01T17:27:53.182745",
     "status": "completed"
    },
    "tags": []
   },
   "outputs": [],
   "source": [
    "from IPython.core.interactiveshell import InteractiveShell\n",
    "InteractiveShell.ast_node_interactivity = \"all\"\n",
    "\n",
    "pd.set_option('display.float_format', lambda x: '%.5f' % x)"
   ]
  },
  {
   "cell_type": "markdown",
   "id": "60a253c4",
   "metadata": {
    "papermill": {
     "duration": 0.424426,
     "end_time": "2021-06-01T17:27:54.397207",
     "exception": false,
     "start_time": "2021-06-01T17:27:53.972781",
     "status": "completed"
    },
    "tags": []
   },
   "source": [
    "\n",
    "## Begin Input Read\n",
    "- Make paths used in script\n",
    "- all paths should be modular and easily replaced ahead of operations."
   ]
  },
  {
   "cell_type": "code",
   "execution_count": 8,
   "id": "b90cae3b",
   "metadata": {
    "execution": {
     "iopub.execute_input": "2021-06-01T17:27:55.373735Z",
     "iopub.status.busy": "2021-06-01T17:27:55.367737Z",
     "iopub.status.idle": "2021-06-01T17:27:55.380736Z",
     "shell.execute_reply": "2021-06-01T17:27:55.382736Z"
    },
    "papermill": {
     "duration": 0.466324,
     "end_time": "2021-06-01T17:27:55.382736",
     "exception": false,
     "start_time": "2021-06-01T17:27:54.916412",
     "status": "completed"
    },
    "tags": []
   },
   "outputs": [],
   "source": [
    "#root directory\n",
    "rt_path = f'\\\\\\\\hecate\\\\Insurance_US\\\\Product Development\\\\Product Management\\\\Global PPM\\\\Reporting\\Data Collection'\n",
    "\n",
    "# Euro file dir\n",
    "euro_conv_source_path =current_path = os.path.join(rt_path ,percode,'External Resources')\n",
    "\n",
    "# Source file dirs\n",
    "current_path = os.path.join(rt_path ,\"Production\" , percode)\n",
    "previous_period_path = os.path.join(rt_path ,\"Production\" , prev_percode)\n",
    "previous_year_path = os.path.join(rt_path ,\"Production\" , prev_yearcode )\n",
    "\n",
    "\n"
   ]
  },
  {
   "cell_type": "markdown",
   "id": "3d993972",
   "metadata": {
    "papermill": {
     "duration": 0.290987,
     "end_time": "2021-06-01T17:27:56.169444",
     "exception": false,
     "start_time": "2021-06-01T17:27:55.878457",
     "status": "completed"
    },
    "tags": []
   },
   "source": [
    "#### Make sources used in script\n",
    "- all sources should be modular and easily replaced ahead of operations."
   ]
  },
  {
   "cell_type": "code",
   "execution_count": 9,
   "id": "9a0ff2eb",
   "metadata": {
    "execution": {
     "iopub.execute_input": "2021-06-01T17:27:56.697992Z",
     "iopub.status.busy": "2021-06-01T17:27:56.688990Z",
     "iopub.status.idle": "2021-06-01T17:27:56.711990Z",
     "shell.execute_reply": "2021-06-01T17:27:56.713993Z"
    },
    "papermill": {
     "duration": 0.292741,
     "end_time": "2021-06-01T17:27:56.713993",
     "exception": false,
     "start_time": "2021-06-01T17:27:56.421252",
     "status": "completed"
    },
    "tags": []
   },
   "outputs": [],
   "source": [
    "if \"Q1\" in percode:\n",
    "\n",
    "    EURRATES = str.replace(f\"EURRATES {percode}.xlsx\",\"Q1\",\"03.31\")\n",
    "\n",
    "elif  \"Q2\" in percode:\n",
    "\n",
    "    EURRATES = str.replace(f\"EURRATES {percode}.xlsx\",\"Q2\",\"06.30\")\n",
    "\n",
    "elif  \"Q3\" in percode:\n",
    "\n",
    "    EURRATES = str.replace(f\"EURRATES {percode}.xlsx\",\"Q2\",\"09.30\")\n",
    "    \n",
    "elif  \"Q4\" in percode:\n",
    "\n",
    "    EURRATES = str.replace(f\"EURRATES {percode}.xlsx\",\"Q2\",\"12.31\")\n",
    "    \n",
    "eurrates = os.path.join( euro_conv_source_path,   EURRATES)\n",
    "\n",
    "\n",
    "\n",
    "current_lc_file = os.path.join(current_path  ,f'{percode}.localcur.csv')\n",
    "current_eur_file  = os.path.join(current_path  ,f'{percode}.euroconv.csv')\n",
    "\n",
    "previous_period_lc_file = os.path.join(previous_period_path ,f'{ prev_percode}.localcur.csv')\n",
    "previous_period_eur_file  = os.path.join(previous_period_path ,f'{ prev_percode}.euroconv.csv')\n",
    "\n",
    "previous_year_lc_file = os.path.join(previous_year_path  ,f'{ prev_yearcode}.localcur.csv')\n",
    "previous_year_eur_file  = os.path.join(previous_year_path ,f'{ prev_yearcode}.euroconv.csv')\n"
   ]
  },
  {
   "cell_type": "markdown",
   "id": "f5ea5f11",
   "metadata": {
    "papermill": {
     "duration": 0.253001,
     "end_time": "2021-06-01T17:27:57.210983",
     "exception": false,
     "start_time": "2021-06-01T17:27:56.957982",
     "status": "completed"
    },
    "tags": []
   },
   "source": [
    "#### import data"
   ]
  },
  {
   "cell_type": "code",
   "execution_count": 10,
   "id": "507abcf0",
   "metadata": {
    "execution": {
     "iopub.execute_input": "2021-06-01T17:27:57.752195Z",
     "iopub.status.busy": "2021-06-01T17:27:57.751200Z",
     "iopub.status.idle": "2021-06-01T17:28:29.445899Z",
     "shell.execute_reply": "2021-06-01T17:28:29.447901Z"
    },
    "papermill": {
     "duration": 31.954561,
     "end_time": "2021-06-01T17:28:29.447901",
     "exception": false,
     "start_time": "2021-06-01T17:27:57.493340",
     "status": "completed"
    },
    "tags": []
   },
   "outputs": [],
   "source": [
    "eurrates_df = pd.read_excel(eurrates,sheet_name = \"Output\")\n",
    "\n",
    "\n",
    "current_lc_df = pd.read_csv(current_lc_file , engine='python') \n",
    "current_eur_df = pd.read_csv(current_eur_file , engine='python') \n",
    "\n",
    "\n",
    "previous_period_lc_df = pd.read_csv(previous_period_lc_file, engine='python')\n",
    "previous_period_eur_df = pd.read_csv(previous_period_eur_file , engine='python')\n",
    "\n",
    "\n",
    "previous_year_lc_df = pd.read_csv(previous_year_lc_file, engine='python') \n",
    "previous_year_eur_df = pd.read_csv(previous_year_eur_file , engine='python')\n",
    "\n"
   ]
  },
  {
   "cell_type": "markdown",
   "id": "9c2f2410",
   "metadata": {
    "papermill": {
     "duration": 0.286695,
     "end_time": "2021-06-01T17:28:30.061114",
     "exception": false,
     "start_time": "2021-06-01T17:28:29.774419",
     "status": "completed"
    },
    "tags": []
   },
   "source": [
    "## Begin Audits\n",
    "\n",
    "#### Euro Conversion Check.\n",
    "- Each major KPI evaluated bu Country by Currency in the source files and the official Allianz Connect reference report."
   ]
  },
  {
   "cell_type": "code",
   "execution_count": 11,
   "id": "4e0cbefa",
   "metadata": {
    "execution": {
     "iopub.execute_input": "2021-06-01T17:28:30.633791Z",
     "iopub.status.busy": "2021-06-01T17:28:30.631791Z",
     "iopub.status.idle": "2021-06-01T17:28:30.690310Z",
     "shell.execute_reply": "2021-06-01T17:28:30.691312Z"
    },
    "papermill": {
     "duration": 0.350704,
     "end_time": "2021-06-01T17:28:30.692314",
     "exception": false,
     "start_time": "2021-06-01T17:28:30.341610",
     "status": "completed"
    },
    "tags": []
   },
   "outputs": [],
   "source": [
    "attributes = ['country', 'currency']\n",
    "\n",
    "alt_attributes = ['Country', 'Currency']\n",
    "\n",
    "comparison_fields = [\n",
    " 'written_revenues_net_of_taxes',\n",
    " 'written_revenues',\n",
    " 'earned_revenues_net_of_taxes',\n",
    " 'earned_revenues',\n",
    " 'total_compensation',\n",
    "  'actual_incurred_losses_(paid_+_ocr_+_ibnr)',\n",
    " 'total_expenses',\n",
    " 'profit_or_loss',\n",
    "]\n",
    "\n",
    "\n",
    "alt_comparison_fields = [\n",
    "'Written Revenues net of Taxes',\n",
    " 'Written Revenues',\n",
    " 'Earned Revenues net of Taxes',\n",
    " 'Earned Revenues',\n",
    " 'Total Compensation',\n",
    " 'Actual Incurred Losses (Paid + OCR + IBNR)',\n",
    " 'Total Expenses',\n",
    " 'Profit or Loss',\n",
    "]\n",
    "\n",
    "view_cols = [] \n",
    "\n",
    "for a in attributes: view_cols.append(a)\n",
    "for c in comparison_fields: view_cols.append(c)\n",
    "\n",
    "    \n",
    "    \n",
    "alt_view_cols = [] \n",
    "\n",
    "for a in alt_attributes: alt_view_cols.append(a)\n",
    "for c in alt_comparison_fields: alt_view_cols.append(c)\n",
    "    \n",
    "\n",
    "current_eur_view =  current_eur_df[view_cols].groupby(attributes).sum()\n",
    "\n",
    "try:\n",
    "    current_lc_view =  current_lc_df[view_cols].groupby(attributes).sum()\n",
    "\n",
    "except KeyError:\n",
    "    current_lc_view =  current_lc_df[alt_view_cols].groupby(alt_attributes).sum()  \n",
    "    \n",
    "\n",
    "previous_period_eur_view =  previous_period_eur_df[view_cols].groupby(attributes).sum()    \n",
    "previous_year_eur_view =  previous_year_eur_df[view_cols].groupby(attributes).sum()    \n",
    "\n",
    "\n"
   ]
  },
  {
   "cell_type": "code",
   "execution_count": 12,
   "id": "dbb5e698",
   "metadata": {
    "execution": {
     "iopub.execute_input": "2021-06-01T17:28:31.260329Z",
     "iopub.status.busy": "2021-06-01T17:28:31.258318Z",
     "iopub.status.idle": "2021-06-01T17:28:31.461968Z",
     "shell.execute_reply": "2021-06-01T17:28:31.463969Z"
    },
    "papermill": {
     "duration": 0.475656,
     "end_time": "2021-06-01T17:28:31.463969",
     "exception": false,
     "start_time": "2021-06-01T17:28:30.988313",
     "status": "completed"
    },
    "tags": []
   },
   "outputs": [
    {
     "name": "stderr",
     "output_type": "stream",
     "text": [
      "C:\\Users\\gharmo\\Anaconda3\\lib\\site-packages\\ipykernel_launcher.py:9: UserWarning: Boolean Series key will be reindexed to match DataFrame index.\n",
      "  if __name__ == '__main__':\n"
     ]
    },
    {
     "data": {
      "text/html": [
       "<div>\n",
       "<style scoped>\n",
       "    .dataframe tbody tr th:only-of-type {\n",
       "        vertical-align: middle;\n",
       "    }\n",
       "\n",
       "    .dataframe tbody tr th {\n",
       "        vertical-align: top;\n",
       "    }\n",
       "\n",
       "    .dataframe thead th {\n",
       "        text-align: right;\n",
       "    }\n",
       "</style>\n",
       "<table border=\"1\" class=\"dataframe\">\n",
       "  <thead>\n",
       "    <tr style=\"text-align: right;\">\n",
       "      <th></th>\n",
       "      <th>country</th>\n",
       "      <th>currency</th>\n",
       "      <th>value</th>\n",
       "    </tr>\n",
       "  </thead>\n",
       "  <tbody>\n",
       "    <tr>\n",
       "      <th>0</th>\n",
       "      <td>AU</td>\n",
       "      <td>AUD</td>\n",
       "      <td>1.54310</td>\n",
       "    </tr>\n",
       "    <tr>\n",
       "      <th>1</th>\n",
       "      <td>CA</td>\n",
       "      <td>CAD</td>\n",
       "      <td>1.47720</td>\n",
       "    </tr>\n",
       "    <tr>\n",
       "      <th>2</th>\n",
       "      <td>CH</td>\n",
       "      <td>CHF</td>\n",
       "      <td>1.10615</td>\n",
       "    </tr>\n",
       "    <tr>\n",
       "      <th>3</th>\n",
       "      <td>CZ</td>\n",
       "      <td>EUR</td>\n",
       "      <td>1.00000</td>\n",
       "    </tr>\n",
       "    <tr>\n",
       "      <th>4</th>\n",
       "      <td>ES</td>\n",
       "      <td>EUR</td>\n",
       "      <td>1.00000</td>\n",
       "    </tr>\n",
       "    <tr>\n",
       "      <th>5</th>\n",
       "      <td>GR</td>\n",
       "      <td>EUR</td>\n",
       "      <td>1.00000</td>\n",
       "    </tr>\n",
       "    <tr>\n",
       "      <th>6</th>\n",
       "      <td>IT</td>\n",
       "      <td>EUR</td>\n",
       "      <td>1.00000</td>\n",
       "    </tr>\n",
       "    <tr>\n",
       "      <th>7</th>\n",
       "      <td>NL</td>\n",
       "      <td>EUR</td>\n",
       "      <td>1.00000</td>\n",
       "    </tr>\n",
       "    <tr>\n",
       "      <th>8</th>\n",
       "      <td>PL</td>\n",
       "      <td>EUR</td>\n",
       "      <td>1.00000</td>\n",
       "    </tr>\n",
       "    <tr>\n",
       "      <th>9</th>\n",
       "      <td>PT</td>\n",
       "      <td>EUR</td>\n",
       "      <td>1.00000</td>\n",
       "    </tr>\n",
       "  </tbody>\n",
       "</table>\n",
       "</div>"
      ],
      "text/plain": [
       "  country currency   value\n",
       "0      AU      AUD 1.54310\n",
       "1      CA      CAD 1.47720\n",
       "2      CH      CHF 1.10615\n",
       "3      CZ      EUR 1.00000\n",
       "4      ES      EUR 1.00000\n",
       "5      GR      EUR 1.00000\n",
       "6      IT      EUR 1.00000\n",
       "7      NL      EUR 1.00000\n",
       "8      PL      EUR 1.00000\n",
       "9      PT      EUR 1.00000"
      ]
     },
     "execution_count": 12,
     "metadata": {},
     "output_type": "execute_result"
    }
   ],
   "source": [
    "\n",
    "calculated_rates = current_lc_view.div(current_eur_view).reset_index()\n",
    "\n",
    "calculated_rates = calculated_rates.melt(id_vars=attributes).reset_index(drop = True)\n",
    "\n",
    "calculated_rates = calculated_rates[[\"country\",\"currency\", \"value\"]]\n",
    "\n",
    "calculated_rates['value'] = calculated_rates['value'].round(5)\n",
    "\n",
    "calculated_rates = calculated_rates.drop_duplicates()[calculated_rates['value'].notna()]\n",
    "calculated_rates "
   ]
  },
  {
   "cell_type": "code",
   "execution_count": 13,
   "id": "3cb0e273",
   "metadata": {
    "execution": {
     "iopub.execute_input": "2021-06-01T17:28:32.029152Z",
     "iopub.status.busy": "2021-06-01T17:28:32.018156Z",
     "iopub.status.idle": "2021-06-01T17:28:32.036161Z",
     "shell.execute_reply": "2021-06-01T17:28:32.038158Z"
    },
    "papermill": {
     "duration": 0.298624,
     "end_time": "2021-06-01T17:28:32.039158",
     "exception": false,
     "start_time": "2021-06-01T17:28:31.740534",
     "status": "completed"
    },
    "tags": []
   },
   "outputs": [
    {
     "data": {
      "text/plain": [
       "1.0"
      ]
     },
     "execution_count": 13,
     "metadata": {},
     "output_type": "execute_result"
    }
   ],
   "source": [
    "test = 1\n",
    "\n",
    "if calculated_rates.groupby( attributes).count()['value'].max() != 1: \n",
    "    \n",
    "    test = 0\n",
    "\n",
    "else:\n",
    "    \n",
    "    pass\n",
    "        \n",
    "        \n",
    "1/test # if this is an error you have bad currency conversions and possibly a bad join with extra rows\n",
    "\n",
    "#todo build a proper error class"
   ]
  },
  {
   "cell_type": "code",
   "execution_count": 14,
   "id": "e637c645",
   "metadata": {
    "execution": {
     "iopub.execute_input": "2021-06-01T17:28:32.602354Z",
     "iopub.status.busy": "2021-06-01T17:28:32.597357Z",
     "iopub.status.idle": "2021-06-01T17:28:32.617353Z",
     "shell.execute_reply": "2021-06-01T17:28:32.619355Z"
    },
    "papermill": {
     "duration": 0.320071,
     "end_time": "2021-06-01T17:28:32.619355",
     "exception": false,
     "start_time": "2021-06-01T17:28:32.299284",
     "status": "completed"
    },
    "tags": []
   },
   "outputs": [
    {
     "data": {
      "text/plain": [
       "1.0"
      ]
     },
     "execution_count": 14,
     "metadata": {},
     "output_type": "execute_result"
    }
   ],
   "source": [
    "\n",
    "test = 1\n",
    "\n",
    "if len(current_eur_df[attributes].drop_duplicates()) != len(calculated_rates): \n",
    "    \n",
    "    test = 0\n",
    "\n",
    "else:\n",
    "    pass\n",
    "\n",
    "1/test # if this is an error you do not have the same number of country and curreny combos in all views. Major problem!\n",
    "\n",
    "#todo build a proper error class\n",
    "\n"
   ]
  },
  {
   "cell_type": "code",
   "execution_count": 15,
   "id": "3242f597",
   "metadata": {
    "execution": {
     "iopub.execute_input": "2021-06-01T17:28:33.233919Z",
     "iopub.status.busy": "2021-06-01T17:28:33.231918Z",
     "iopub.status.idle": "2021-06-01T17:28:33.245919Z",
     "shell.execute_reply": "2021-06-01T17:28:33.246924Z"
    },
    "papermill": {
     "duration": 0.363997,
     "end_time": "2021-06-01T17:28:33.247920",
     "exception": false,
     "start_time": "2021-06-01T17:28:32.883923",
     "status": "completed"
    },
    "tags": []
   },
   "outputs": [
    {
     "data": {
      "text/html": [
       "<div>\n",
       "<style scoped>\n",
       "    .dataframe tbody tr th:only-of-type {\n",
       "        vertical-align: middle;\n",
       "    }\n",
       "\n",
       "    .dataframe tbody tr th {\n",
       "        vertical-align: top;\n",
       "    }\n",
       "\n",
       "    .dataframe thead th {\n",
       "        text-align: right;\n",
       "    }\n",
       "</style>\n",
       "<table border=\"1\" class=\"dataframe\">\n",
       "  <thead>\n",
       "    <tr style=\"text-align: right;\">\n",
       "      <th></th>\n",
       "      <th>country</th>\n",
       "      <th>currency</th>\n",
       "      <th>value</th>\n",
       "      <th>CurrCode</th>\n",
       "      <th>Country</th>\n",
       "      <th>EUR_2_LC</th>\n",
       "      <th>LC_2_EUR</th>\n",
       "    </tr>\n",
       "  </thead>\n",
       "  <tbody>\n",
       "    <tr>\n",
       "      <th>0</th>\n",
       "      <td>AU</td>\n",
       "      <td>AUD</td>\n",
       "      <td>1.54310</td>\n",
       "      <td>AUD</td>\n",
       "      <td>Australia</td>\n",
       "      <td>1.54310</td>\n",
       "      <td>0.64805</td>\n",
       "    </tr>\n",
       "    <tr>\n",
       "      <th>1</th>\n",
       "      <td>CA</td>\n",
       "      <td>CAD</td>\n",
       "      <td>1.47720</td>\n",
       "      <td>CAD</td>\n",
       "      <td>Canada</td>\n",
       "      <td>1.47720</td>\n",
       "      <td>0.67696</td>\n",
       "    </tr>\n",
       "    <tr>\n",
       "      <th>2</th>\n",
       "      <td>CH</td>\n",
       "      <td>CHF</td>\n",
       "      <td>1.10615</td>\n",
       "      <td>CHF</td>\n",
       "      <td>Switzerland</td>\n",
       "      <td>1.10615</td>\n",
       "      <td>0.90404</td>\n",
       "    </tr>\n",
       "    <tr>\n",
       "      <th>3</th>\n",
       "      <td>CZ</td>\n",
       "      <td>EUR</td>\n",
       "      <td>1.00000</td>\n",
       "      <td>EUR</td>\n",
       "      <td>Euro</td>\n",
       "      <td>1.00000</td>\n",
       "      <td>1.00000</td>\n",
       "    </tr>\n",
       "    <tr>\n",
       "      <th>4</th>\n",
       "      <td>ES</td>\n",
       "      <td>EUR</td>\n",
       "      <td>1.00000</td>\n",
       "      <td>EUR</td>\n",
       "      <td>Euro</td>\n",
       "      <td>1.00000</td>\n",
       "      <td>1.00000</td>\n",
       "    </tr>\n",
       "    <tr>\n",
       "      <th>5</th>\n",
       "      <td>GR</td>\n",
       "      <td>EUR</td>\n",
       "      <td>1.00000</td>\n",
       "      <td>EUR</td>\n",
       "      <td>Euro</td>\n",
       "      <td>1.00000</td>\n",
       "      <td>1.00000</td>\n",
       "    </tr>\n",
       "    <tr>\n",
       "      <th>6</th>\n",
       "      <td>IT</td>\n",
       "      <td>EUR</td>\n",
       "      <td>1.00000</td>\n",
       "      <td>EUR</td>\n",
       "      <td>Euro</td>\n",
       "      <td>1.00000</td>\n",
       "      <td>1.00000</td>\n",
       "    </tr>\n",
       "    <tr>\n",
       "      <th>7</th>\n",
       "      <td>NL</td>\n",
       "      <td>EUR</td>\n",
       "      <td>1.00000</td>\n",
       "      <td>EUR</td>\n",
       "      <td>Euro</td>\n",
       "      <td>1.00000</td>\n",
       "      <td>1.00000</td>\n",
       "    </tr>\n",
       "    <tr>\n",
       "      <th>8</th>\n",
       "      <td>PL</td>\n",
       "      <td>EUR</td>\n",
       "      <td>1.00000</td>\n",
       "      <td>EUR</td>\n",
       "      <td>Euro</td>\n",
       "      <td>1.00000</td>\n",
       "      <td>1.00000</td>\n",
       "    </tr>\n",
       "    <tr>\n",
       "      <th>9</th>\n",
       "      <td>PT</td>\n",
       "      <td>EUR</td>\n",
       "      <td>1.00000</td>\n",
       "      <td>EUR</td>\n",
       "      <td>Euro</td>\n",
       "      <td>1.00000</td>\n",
       "      <td>1.00000</td>\n",
       "    </tr>\n",
       "  </tbody>\n",
       "</table>\n",
       "</div>"
      ],
      "text/plain": [
       "  country currency   value CurrCode       Country  EUR_2_LC  LC_2_EUR\n",
       "0      AU      AUD 1.54310      AUD    Australia    1.54310   0.64805\n",
       "1      CA      CAD 1.47720      CAD        Canada   1.47720   0.67696\n",
       "2      CH      CHF 1.10615      CHF  Switzerland    1.10615   0.90404\n",
       "3      CZ      EUR 1.00000      EUR         Euro    1.00000   1.00000\n",
       "4      ES      EUR 1.00000      EUR         Euro    1.00000   1.00000\n",
       "5      GR      EUR 1.00000      EUR         Euro    1.00000   1.00000\n",
       "6      IT      EUR 1.00000      EUR         Euro    1.00000   1.00000\n",
       "7      NL      EUR 1.00000      EUR         Euro    1.00000   1.00000\n",
       "8      PL      EUR 1.00000      EUR         Euro    1.00000   1.00000\n",
       "9      PT      EUR 1.00000      EUR         Euro    1.00000   1.00000"
      ]
     },
     "execution_count": 15,
     "metadata": {},
     "output_type": "execute_result"
    }
   ],
   "source": [
    "conversion_comparison =  calculated_rates.merge( eurrates_df,  how='left',  left_on='currency', right_on='CurrCode' )\n",
    "\n",
    "conversion_comparison\n",
    "\n",
    "\n"
   ]
  },
  {
   "cell_type": "code",
   "execution_count": 16,
   "id": "09cd2cb8",
   "metadata": {
    "execution": {
     "iopub.execute_input": "2021-06-01T17:28:33.902896Z",
     "iopub.status.busy": "2021-06-01T17:28:33.900893Z",
     "iopub.status.idle": "2021-06-01T17:28:33.913897Z",
     "shell.execute_reply": "2021-06-01T17:28:33.914897Z"
    },
    "papermill": {
     "duration": 0.358096,
     "end_time": "2021-06-01T17:28:33.914897",
     "exception": false,
     "start_time": "2021-06-01T17:28:33.556801",
     "status": "completed"
    },
    "tags": []
   },
   "outputs": [
    {
     "name": "stdout",
     "output_type": "stream",
     "text": [
      "Stored 'euro_df' (DataFrame)\n"
     ]
    }
   ],
   "source": [
    "euro_df = conversion_comparison\n",
    "\n",
    "%store euro_df\n"
   ]
  },
  {
   "cell_type": "code",
   "execution_count": 17,
   "id": "2660b478",
   "metadata": {
    "execution": {
     "iopub.execute_input": "2021-06-01T17:28:34.436829Z",
     "iopub.status.busy": "2021-06-01T17:28:34.428828Z",
     "iopub.status.idle": "2021-06-01T17:28:34.443835Z",
     "shell.execute_reply": "2021-06-01T17:28:34.444838Z"
    },
    "papermill": {
     "duration": 0.278936,
     "end_time": "2021-06-01T17:28:34.445832",
     "exception": false,
     "start_time": "2021-06-01T17:28:34.166896",
     "status": "completed"
    },
    "tags": []
   },
   "outputs": [
    {
     "data": {
      "text/plain": [
       "1.0"
      ]
     },
     "execution_count": 17,
     "metadata": {},
     "output_type": "execute_result"
    }
   ],
   "source": [
    "\n",
    "test = 1\n",
    "\n",
    "if (   conversion_comparison['value']   - conversion_comparison['EUR_2_LC']).sum() != 0: \n",
    "    \n",
    "    test = 0\n",
    "\n",
    "else:\n",
    "    pass\n",
    "\n",
    "1/test # if this is an error you do not match the source currency document. Major problem!\n",
    "\n",
    "#todo build a proper error class\n"
   ]
  },
  {
   "cell_type": "markdown",
   "id": "69edbe6e",
   "metadata": {
    "papermill": {
     "duration": 0.331139,
     "end_time": "2021-06-01T17:28:35.067068",
     "exception": false,
     "start_time": "2021-06-01T17:28:34.735929",
     "status": "completed"
    },
    "tags": []
   },
   "source": [
    "#### Data views for evaluation\n",
    "- Create several views in order to populate graphs"
   ]
  },
  {
   "cell_type": "code",
   "execution_count": 18,
   "id": "5984824c",
   "metadata": {
    "execution": {
     "iopub.execute_input": "2021-06-01T17:28:35.642189Z",
     "iopub.status.busy": "2021-06-01T17:28:35.635202Z",
     "iopub.status.idle": "2021-06-01T17:28:35.647182Z",
     "shell.execute_reply": "2021-06-01T17:28:35.649184Z"
    },
    "papermill": {
     "duration": 0.281078,
     "end_time": "2021-06-01T17:28:35.649184",
     "exception": false,
     "start_time": "2021-06-01T17:28:35.368106",
     "status": "completed"
    },
    "tags": []
   },
   "outputs": [],
   "source": [
    "current_eur_view['Period'] = percode\n",
    "previous_period_eur_view['Period']  =    prev_percode \n",
    "previous_year_eur_view['Period']    =  prev_yearcode \n",
    "\n"
   ]
  },
  {
   "cell_type": "code",
   "execution_count": 19,
   "id": "2325e866",
   "metadata": {
    "execution": {
     "iopub.execute_input": "2021-06-01T17:28:36.217273Z",
     "iopub.status.busy": "2021-06-01T17:28:36.203274Z",
     "iopub.status.idle": "2021-06-01T17:28:36.248271Z",
     "shell.execute_reply": "2021-06-01T17:28:36.247271Z"
    },
    "papermill": {
     "duration": 0.309054,
     "end_time": "2021-06-01T17:28:36.248271",
     "exception": false,
     "start_time": "2021-06-01T17:28:35.939217",
     "status": "completed"
    },
    "tags": []
   },
   "outputs": [],
   "source": [
    "rowcounts = pd.DataFrame()\n",
    "\n",
    "rowcounts_current = current_eur_df[[\"country\",\"written_revenues_net_of_taxes\"]].groupby(\"country\").count() \n",
    "\n",
    "rowcounts_current[\"Period\"] = percode\n",
    "\n",
    "\n",
    "rowcounts_prev_per = previous_period_eur_df[[\"country\",\"written_revenues_net_of_taxes\"]].groupby(\"country\").count() \n",
    "\n",
    "rowcounts_prev_per[\"Period\"] = prev_percode \n",
    "\n",
    "\n",
    "rowcounts_py = previous_year_eur_df[[\"country\",\"written_revenues_net_of_taxes\"]].groupby(\"country\").count() \n",
    "\n",
    "rowcounts_py[\"Period\"] = prev_yearcode \n",
    "\n",
    "\n",
    "rowcounts = rowcounts.append(rowcounts_current).append(rowcounts_prev_per).append(rowcounts_py)\n",
    "rowcounts = rowcounts.rename( { 'written_revenues_net_of_taxes' :'Rowcounts' }, axis='columns')\n",
    "\n",
    "rowcounts = rowcounts.reset_index()\n",
    "\n",
    "\n"
   ]
  },
  {
   "cell_type": "code",
   "execution_count": 20,
   "id": "33ccffe5",
   "metadata": {
    "execution": {
     "iopub.execute_input": "2021-06-01T17:28:36.865072Z",
     "iopub.status.busy": "2021-06-01T17:28:36.825071Z",
     "iopub.status.idle": "2021-06-01T17:28:36.874075Z",
     "shell.execute_reply": "2021-06-01T17:28:36.875076Z"
    },
    "papermill": {
     "duration": 0.354633,
     "end_time": "2021-06-01T17:28:36.876073",
     "exception": false,
     "start_time": "2021-06-01T17:28:36.521440",
     "status": "completed"
    },
    "scrolled": true,
    "tags": []
   },
   "outputs": [
    {
     "data": {
      "text/html": [
       "<div>\n",
       "<style scoped>\n",
       "    .dataframe tbody tr th:only-of-type {\n",
       "        vertical-align: middle;\n",
       "    }\n",
       "\n",
       "    .dataframe tbody tr th {\n",
       "        vertical-align: top;\n",
       "    }\n",
       "\n",
       "    .dataframe thead th {\n",
       "        text-align: right;\n",
       "    }\n",
       "</style>\n",
       "<table border=\"1\" class=\"dataframe\">\n",
       "  <thead>\n",
       "    <tr style=\"text-align: right;\">\n",
       "      <th></th>\n",
       "      <th></th>\n",
       "      <th>written_revenues_net_of_taxes</th>\n",
       "      <th>written_revenues</th>\n",
       "      <th>earned_revenues_net_of_taxes</th>\n",
       "      <th>earned_revenues</th>\n",
       "      <th>total_compensation</th>\n",
       "      <th>actual_incurred_losses_(paid_+_ocr_+_ibnr)</th>\n",
       "      <th>total_expenses</th>\n",
       "      <th>profit_or_loss</th>\n",
       "      <th>Period</th>\n",
       "    </tr>\n",
       "    <tr>\n",
       "      <th>country</th>\n",
       "      <th>currency</th>\n",
       "      <th></th>\n",
       "      <th></th>\n",
       "      <th></th>\n",
       "      <th></th>\n",
       "      <th></th>\n",
       "      <th></th>\n",
       "      <th></th>\n",
       "      <th></th>\n",
       "      <th></th>\n",
       "    </tr>\n",
       "  </thead>\n",
       "  <tbody>\n",
       "    <tr>\n",
       "      <th>AU</th>\n",
       "      <th>AUD</th>\n",
       "      <td>91686.79036</td>\n",
       "      <td>0.00000</td>\n",
       "      <td>9332572.90584</td>\n",
       "      <td>0.00000</td>\n",
       "      <td>216127.95390</td>\n",
       "      <td>1811872.66040</td>\n",
       "      <td>4832421.23620</td>\n",
       "      <td>2472151.05534</td>\n",
       "      <td>2021.Q1</td>\n",
       "    </tr>\n",
       "    <tr>\n",
       "      <th>CA</th>\n",
       "      <th>CAD</th>\n",
       "      <td>6774281.88465</td>\n",
       "      <td>6804054.73869</td>\n",
       "      <td>7906948.34916</td>\n",
       "      <td>0.00000</td>\n",
       "      <td>2233722.50171</td>\n",
       "      <td>4417080.28482</td>\n",
       "      <td>1771533.24975</td>\n",
       "      <td>-515387.68713</td>\n",
       "      <td>2021.Q1</td>\n",
       "    </tr>\n",
       "    <tr>\n",
       "      <th>CH</th>\n",
       "      <th>CHF</th>\n",
       "      <td>27181112.76952</td>\n",
       "      <td>0.00000</td>\n",
       "      <td>31246379.71907</td>\n",
       "      <td>0.00000</td>\n",
       "      <td>7519635.50344</td>\n",
       "      <td>5470941.93045</td>\n",
       "      <td>8826348.84822</td>\n",
       "      <td>9429453.43697</td>\n",
       "      <td>2021.Q1</td>\n",
       "    </tr>\n",
       "    <tr>\n",
       "      <th>CZ</th>\n",
       "      <th>EUR</th>\n",
       "      <td>384837.67228</td>\n",
       "      <td>384837.67228</td>\n",
       "      <td>387392.03675</td>\n",
       "      <td>387392.03675</td>\n",
       "      <td>173009.34150</td>\n",
       "      <td>274986.98315</td>\n",
       "      <td>59407.91877</td>\n",
       "      <td>-120012.20667</td>\n",
       "      <td>2021.Q1</td>\n",
       "    </tr>\n",
       "    <tr>\n",
       "      <th>ES</th>\n",
       "      <th>EUR</th>\n",
       "      <td>892391.41000</td>\n",
       "      <td>965121.30991</td>\n",
       "      <td>736249.62000</td>\n",
       "      <td>796253.96403</td>\n",
       "      <td>339080.99000</td>\n",
       "      <td>148353.17357</td>\n",
       "      <td>284146.93991</td>\n",
       "      <td>-35331.48348</td>\n",
       "      <td>2021.Q1</td>\n",
       "    </tr>\n",
       "    <tr>\n",
       "      <th>...</th>\n",
       "      <th>...</th>\n",
       "      <td>...</td>\n",
       "      <td>...</td>\n",
       "      <td>...</td>\n",
       "      <td>...</td>\n",
       "      <td>...</td>\n",
       "      <td>...</td>\n",
       "      <td>...</td>\n",
       "      <td>...</td>\n",
       "      <td>...</td>\n",
       "    </tr>\n",
       "    <tr>\n",
       "      <th>PL</th>\n",
       "      <th>EUR</th>\n",
       "      <td>7338567.83355</td>\n",
       "      <td>7338567.83355</td>\n",
       "      <td>5589756.43733</td>\n",
       "      <td>5589756.43733</td>\n",
       "      <td>2641837.05568</td>\n",
       "      <td>2957760.75136</td>\n",
       "      <td>1164651.95704</td>\n",
       "      <td>-1174493.32674</td>\n",
       "      <td>2020.Q1</td>\n",
       "    </tr>\n",
       "    <tr>\n",
       "      <th>PT</th>\n",
       "      <th>EUR</th>\n",
       "      <td>178994.56000</td>\n",
       "      <td>172085.95000</td>\n",
       "      <td>175055.42872</td>\n",
       "      <td>164756.71451</td>\n",
       "      <td>10856.48738</td>\n",
       "      <td>45381.81000</td>\n",
       "      <td>54961.74333</td>\n",
       "      <td>63855.38801</td>\n",
       "      <td>2020.Q1</td>\n",
       "    </tr>\n",
       "    <tr>\n",
       "      <th>SE</th>\n",
       "      <th>EUR</th>\n",
       "      <td>3212611.00000</td>\n",
       "      <td>0.00000</td>\n",
       "      <td>3073854.00000</td>\n",
       "      <td>0.00000</td>\n",
       "      <td>1805938.00000</td>\n",
       "      <td>606724.00000</td>\n",
       "      <td>234227.67480</td>\n",
       "      <td>426964.32520</td>\n",
       "      <td>2020.Q1</td>\n",
       "    </tr>\n",
       "    <tr>\n",
       "      <th>UK</th>\n",
       "      <th>GBP</th>\n",
       "      <td>6355643.44026</td>\n",
       "      <td>7423949.64020</td>\n",
       "      <td>4977416.07375</td>\n",
       "      <td>5818779.66926</td>\n",
       "      <td>1469592.50285</td>\n",
       "      <td>1855749.44906</td>\n",
       "      <td>839809.12021</td>\n",
       "      <td>812265.00162</td>\n",
       "      <td>2020.Q1</td>\n",
       "    </tr>\n",
       "    <tr>\n",
       "      <th>US</th>\n",
       "      <th>USD</th>\n",
       "      <td>1137304643.72749</td>\n",
       "      <td>1137304643.72749</td>\n",
       "      <td>1122964702.66575</td>\n",
       "      <td>1122964702.66575</td>\n",
       "      <td>539043173.76167</td>\n",
       "      <td>330595032.02552</td>\n",
       "      <td>214503449.99772</td>\n",
       "      <td>38823046.88084</td>\n",
       "      <td>2020.Q1</td>\n",
       "    </tr>\n",
       "  </tbody>\n",
       "</table>\n",
       "<p>69 rows × 9 columns</p>\n",
       "</div>"
      ],
      "text/plain": [
       "                  written_revenues_net_of_taxes  written_revenues  \\\n",
       "country currency                                                    \n",
       "AU      AUD                         91686.79036           0.00000   \n",
       "CA      CAD                       6774281.88465     6804054.73869   \n",
       "CH      CHF                      27181112.76952           0.00000   \n",
       "CZ      EUR                        384837.67228      384837.67228   \n",
       "ES      EUR                        892391.41000      965121.30991   \n",
       "...                                         ...               ...   \n",
       "PL      EUR                       7338567.83355     7338567.83355   \n",
       "PT      EUR                        178994.56000      172085.95000   \n",
       "SE      EUR                       3212611.00000           0.00000   \n",
       "UK      GBP                       6355643.44026     7423949.64020   \n",
       "US      USD                    1137304643.72749  1137304643.72749   \n",
       "\n",
       "                  earned_revenues_net_of_taxes  earned_revenues  \\\n",
       "country currency                                                  \n",
       "AU      AUD                      9332572.90584          0.00000   \n",
       "CA      CAD                      7906948.34916          0.00000   \n",
       "CH      CHF                     31246379.71907          0.00000   \n",
       "CZ      EUR                       387392.03675     387392.03675   \n",
       "ES      EUR                       736249.62000     796253.96403   \n",
       "...                                        ...              ...   \n",
       "PL      EUR                      5589756.43733    5589756.43733   \n",
       "PT      EUR                       175055.42872     164756.71451   \n",
       "SE      EUR                      3073854.00000          0.00000   \n",
       "UK      GBP                      4977416.07375    5818779.66926   \n",
       "US      USD                   1122964702.66575 1122964702.66575   \n",
       "\n",
       "                  total_compensation  \\\n",
       "country currency                       \n",
       "AU      AUD             216127.95390   \n",
       "CA      CAD            2233722.50171   \n",
       "CH      CHF            7519635.50344   \n",
       "CZ      EUR             173009.34150   \n",
       "ES      EUR             339080.99000   \n",
       "...                              ...   \n",
       "PL      EUR            2641837.05568   \n",
       "PT      EUR              10856.48738   \n",
       "SE      EUR            1805938.00000   \n",
       "UK      GBP            1469592.50285   \n",
       "US      USD          539043173.76167   \n",
       "\n",
       "                  actual_incurred_losses_(paid_+_ocr_+_ibnr)  total_expenses  \\\n",
       "country currency                                                               \n",
       "AU      AUD                                    1811872.66040   4832421.23620   \n",
       "CA      CAD                                    4417080.28482   1771533.24975   \n",
       "CH      CHF                                    5470941.93045   8826348.84822   \n",
       "CZ      EUR                                     274986.98315     59407.91877   \n",
       "ES      EUR                                     148353.17357    284146.93991   \n",
       "...                                                      ...             ...   \n",
       "PL      EUR                                    2957760.75136   1164651.95704   \n",
       "PT      EUR                                      45381.81000     54961.74333   \n",
       "SE      EUR                                     606724.00000    234227.67480   \n",
       "UK      GBP                                    1855749.44906    839809.12021   \n",
       "US      USD                                  330595032.02552 214503449.99772   \n",
       "\n",
       "                  profit_or_loss   Period  \n",
       "country currency                           \n",
       "AU      AUD        2472151.05534  2021.Q1  \n",
       "CA      CAD        -515387.68713  2021.Q1  \n",
       "CH      CHF        9429453.43697  2021.Q1  \n",
       "CZ      EUR        -120012.20667  2021.Q1  \n",
       "ES      EUR         -35331.48348  2021.Q1  \n",
       "...                          ...      ...  \n",
       "PL      EUR       -1174493.32674  2020.Q1  \n",
       "PT      EUR          63855.38801  2020.Q1  \n",
       "SE      EUR         426964.32520  2020.Q1  \n",
       "UK      GBP         812265.00162  2020.Q1  \n",
       "US      USD       38823046.88084  2020.Q1  \n",
       "\n",
       "[69 rows x 9 columns]"
      ]
     },
     "execution_count": 20,
     "metadata": {},
     "output_type": "execute_result"
    }
   ],
   "source": [
    "combo_views = current_eur_view.append(previous_period_eur_view).append(previous_year_eur_view)\n",
    "\n",
    "combo_views"
   ]
  },
  {
   "cell_type": "code",
   "execution_count": 21,
   "id": "ba4bdd7b",
   "metadata": {
    "execution": {
     "iopub.execute_input": "2021-06-01T17:28:37.405821Z",
     "iopub.status.busy": "2021-06-01T17:28:37.389811Z",
     "iopub.status.idle": "2021-06-01T17:28:37.413001Z",
     "shell.execute_reply": "2021-06-01T17:28:37.414802Z"
    },
    "papermill": {
     "duration": 0.281734,
     "end_time": "2021-06-01T17:28:37.414802",
     "exception": false,
     "start_time": "2021-06-01T17:28:37.133068",
     "status": "completed"
    },
    "tags": []
   },
   "outputs": [],
   "source": [
    "combo_views = combo_views.reset_index()\n",
    "\n",
    "melt_cv = combo_views.melt(['country','Period','currency'], ignore_index = True)\n",
    "\n",
    "melt_cv['value'] = melt_cv['value'].fillna(0)\n"
   ]
  },
  {
   "cell_type": "code",
   "execution_count": 22,
   "id": "64ccb7e1",
   "metadata": {
    "execution": {
     "iopub.execute_input": "2021-06-01T17:28:37.994056Z",
     "iopub.status.busy": "2021-06-01T17:28:37.979286Z",
     "iopub.status.idle": "2021-06-01T17:28:38.000059Z",
     "shell.execute_reply": "2021-06-01T17:28:38.001064Z"
    },
    "papermill": {
     "duration": 0.303961,
     "end_time": "2021-06-01T17:28:38.002057",
     "exception": false,
     "start_time": "2021-06-01T17:28:37.698096",
     "status": "completed"
    },
    "tags": []
   },
   "outputs": [],
   "source": [
    "check_set0 = melt_cv[melt_cv[\"Period\"] == percode].groupby( [\"country\"]).sum()\n",
    "\n",
    "include = check_set0.index.values\n",
    "\n",
    "include = list(include)\n",
    "\n",
    "melt_cv = melt_cv[(melt_cv[\"country\"].isin(include)) & (~melt_cv[\"variable\"].isin([\"index\",\"written_revenues\",\"earned_revenues\"]) )]\n",
    "\n",
    "\n"
   ]
  },
  {
   "cell_type": "markdown",
   "id": "24242fea",
   "metadata": {
    "papermill": {
     "duration": 0.29283,
     "end_time": "2021-06-01T17:28:38.545891",
     "exception": false,
     "start_time": "2021-06-01T17:28:38.253061",
     "status": "completed"
    },
    "tags": []
   },
   "source": [
    "#Rowcount visual\n",
    "- see how many rows were submitted by each BU in this data submission vs the previous submission and the YoY submission."
   ]
  },
  {
   "cell_type": "code",
   "execution_count": 23,
   "id": "bf1ceaac",
   "metadata": {
    "execution": {
     "iopub.execute_input": "2021-06-01T17:28:39.094556Z",
     "iopub.status.busy": "2021-06-01T17:28:39.089555Z",
     "iopub.status.idle": "2021-06-01T17:29:00.124765Z",
     "shell.execute_reply": "2021-06-01T17:29:00.130758Z"
    },
    "papermill": {
     "duration": 21.317283,
     "end_time": "2021-06-01T17:29:00.130758",
     "exception": false,
     "start_time": "2021-06-01T17:28:38.813475",
     "status": "completed"
    },
    "tags": []
   },
   "outputs": [
    {
     "data": {
      "text/plain": [
       "<seaborn.axisgrid.FacetGrid at 0x221544618c8>"
      ]
     },
     "execution_count": 23,
     "metadata": {},
     "output_type": "execute_result"
    },
    {
     "data": {
      "text/plain": [
       "Text(0.5, 1149.2000000000003, 'AU')"
      ]
     },
     "execution_count": 23,
     "metadata": {},
     "output_type": "execute_result"
    },
    {
     "data": {
      "text/plain": [
       "Text(10.175000000000004, 0.5, 'Rows Submitted')"
      ]
     },
     "execution_count": 23,
     "metadata": {},
     "output_type": "execute_result"
    },
    {
     "data": {
      "text/plain": [
       "Text(0.5, 1149.2000000000003, 'CA')"
      ]
     },
     "execution_count": 23,
     "metadata": {},
     "output_type": "execute_result"
    },
    {
     "data": {
      "text/plain": [
       "Text(289.09999999999997, 0.5, 'Rows Submitted')"
      ]
     },
     "execution_count": 23,
     "metadata": {},
     "output_type": "execute_result"
    },
    {
     "data": {
      "text/plain": [
       "Text(0.5, 1149.2000000000003, 'CH')"
      ]
     },
     "execution_count": 23,
     "metadata": {},
     "output_type": "execute_result"
    },
    {
     "data": {
      "text/plain": [
       "Text(574.4000000000001, 0.5, 'Rows Submitted')"
      ]
     },
     "execution_count": 23,
     "metadata": {},
     "output_type": "execute_result"
    },
    {
     "data": {
      "text/plain": [
       "Text(0.5, 1149.2000000000003, 'CZ')"
      ]
     },
     "execution_count": 23,
     "metadata": {},
     "output_type": "execute_result"
    },
    {
     "data": {
      "text/plain": [
       "Text(878.575, 0.5, 'Rows Submitted')"
      ]
     },
     "execution_count": 23,
     "metadata": {},
     "output_type": "execute_result"
    },
    {
     "data": {
      "text/plain": [
       "Text(0.5, 1006.4000000000001, 'ES')"
      ]
     },
     "execution_count": 23,
     "metadata": {},
     "output_type": "execute_result"
    },
    {
     "data": {
      "text/plain": [
       "Text(16.425000000000004, 0.5, 'Rows Submitted')"
      ]
     },
     "execution_count": 23,
     "metadata": {},
     "output_type": "execute_result"
    },
    {
     "data": {
      "text/plain": [
       "Text(0.5, 1006.4000000000001, 'GR')"
      ]
     },
     "execution_count": 23,
     "metadata": {},
     "output_type": "execute_result"
    },
    {
     "data": {
      "text/plain": [
       "Text(301.59999999999997, 0.5, 'Rows Submitted')"
      ]
     },
     "execution_count": 23,
     "metadata": {},
     "output_type": "execute_result"
    },
    {
     "data": {
      "text/plain": [
       "Text(0.5, 1006.4000000000001, 'IT')"
      ]
     },
     "execution_count": 23,
     "metadata": {},
     "output_type": "execute_result"
    },
    {
     "data": {
      "text/plain": [
       "Text(580.7750000000001, 0.5, 'Rows Submitted')"
      ]
     },
     "execution_count": 23,
     "metadata": {},
     "output_type": "execute_result"
    },
    {
     "data": {
      "text/plain": [
       "Text(0.5, 1006.4000000000001, 'NL')"
      ]
     },
     "execution_count": 23,
     "metadata": {},
     "output_type": "execute_result"
    },
    {
     "data": {
      "text/plain": [
       "Text(865.95, 0.5, 'Rows Submitted')"
      ]
     },
     "execution_count": 23,
     "metadata": {},
     "output_type": "execute_result"
    },
    {
     "data": {
      "text/plain": [
       "Text(0.5, 863.6000000000001, 'PL')"
      ]
     },
     "execution_count": 23,
     "metadata": {},
     "output_type": "execute_result"
    },
    {
     "data": {
      "text/plain": [
       "Text(16.425000000000004, 0.5, 'Rows Submitted')"
      ]
     },
     "execution_count": 23,
     "metadata": {},
     "output_type": "execute_result"
    },
    {
     "data": {
      "text/plain": [
       "Text(0.5, 863.6000000000001, 'PT')"
      ]
     },
     "execution_count": 23,
     "metadata": {},
     "output_type": "execute_result"
    },
    {
     "data": {
      "text/plain": [
       "Text(301.72499999999997, 0.5, 'Rows Submitted')"
      ]
     },
     "execution_count": 23,
     "metadata": {},
     "output_type": "execute_result"
    },
    {
     "data": {
      "image/png": "[encoded data removed]",
      "text/plain": [
       "<Figure size 1152x1296 with 35 Axes>"
      ]
     },
     "metadata": {
      "needs_background": "light"
     },
     "output_type": "display_data"
    }
   ],
   "source": [
    "order = rowcounts.Period.unique()\n",
    "\n",
    "included = (include * 6)\n",
    "included.sort()\n",
    "\n",
    "g = sns.FacetGrid(rowcounts, col=\"country\",  hue=\"Period\", palette=\"Set3\",col_wrap = 4, height=2, aspect=2, margin_titles=True, legend_out=False, sharex=False, sharey=False)\n",
    "g.map(sns.barplot, \"Period\", \"Rowcounts\", order=order, ci=None, label = True)\n",
    "axes = g.axes.flatten()\n",
    "for ax, b  in zip(axes, include):\n",
    "    ax.set_xlabel(b)\n",
    "    ax.set_ylabel(\"Rows Submitted\")\n",
    "\n",
    "\n",
    "g.savefig('rows.png', dpi=125)"
   ]
  },
  {
   "cell_type": "markdown",
   "id": "3c2795d3",
   "metadata": {
    "papermill": {
     "duration": 0.346231,
     "end_time": "2021-06-01T17:29:00.824507",
     "exception": false,
     "start_time": "2021-06-01T17:29:00.478276",
     "status": "completed"
    },
    "tags": []
   },
   "source": [
    "#KPI visual\n",
    "- Displays in KPI totals in Euros for this data submission vs the previous submission and the YoY submission."
   ]
  },
  {
   "cell_type": "code",
   "execution_count": 24,
   "id": "4acb8f56",
   "metadata": {
    "execution": {
     "iopub.execute_input": "2021-06-01T17:29:01.563847Z",
     "iopub.status.busy": "2021-06-01T17:29:01.536841Z",
     "iopub.status.idle": "2021-06-01T17:29:41.607062Z",
     "shell.execute_reply": "2021-06-01T17:29:41.609064Z"
    },
    "papermill": {
     "duration": 40.424533,
     "end_time": "2021-06-01T17:29:41.609064",
     "exception": false,
     "start_time": "2021-06-01T17:29:01.184531",
     "status": "completed"
    },
    "tags": []
   },
   "outputs": [
    {
     "data": {
      "text/plain": [
       "<seaborn.axisgrid.FacetGrid at 0x22155097b88>"
      ]
     },
     "execution_count": 24,
     "metadata": {},
     "output_type": "execute_result"
    },
    {
     "data": {
      "text/plain": [
       "Text(0.5, 1293.08, 'AU')"
      ]
     },
     "execution_count": 24,
     "metadata": {},
     "output_type": "execute_result"
    },
    {
     "data": {
      "text/plain": [
       "Text(6.8000000000000185, 0.5, 'Euro')"
      ]
     },
     "execution_count": 24,
     "metadata": {},
     "output_type": "execute_result"
    },
    {
     "data": {
      "text/plain": [
       "Text(0.5, 1293.08, 'AU')"
      ]
     },
     "execution_count": 24,
     "metadata": {},
     "output_type": "execute_result"
    },
    {
     "data": {
      "text/plain": [
       "Text(293.00000000000006, 0.5, 'Euro')"
      ]
     },
     "execution_count": 24,
     "metadata": {},
     "output_type": "execute_result"
    },
    {
     "data": {
      "text/plain": [
       "Text(0.5, 1293.08, 'AU')"
      ]
     },
     "execution_count": 24,
     "metadata": {},
     "output_type": "execute_result"
    },
    {
     "data": {
      "text/plain": [
       "Text(585.45, 0.5, 'Euro')"
      ]
     },
     "execution_count": 24,
     "metadata": {},
     "output_type": "execute_result"
    },
    {
     "data": {
      "text/plain": [
       "Text(0.5, 1293.08, 'AU')"
      ]
     },
     "execution_count": 24,
     "metadata": {},
     "output_type": "execute_result"
    },
    {
     "data": {
      "text/plain": [
       "Text(881.2750000000001, 0.5, 'Euro')"
      ]
     },
     "execution_count": 24,
     "metadata": {},
     "output_type": "execute_result"
    },
    {
     "data": {
      "text/plain": [
       "Text(0.5, 1293.08, 'AU')"
      ]
     },
     "execution_count": 24,
     "metadata": {},
     "output_type": "execute_result"
    },
    {
     "data": {
      "text/plain": [
       "Text(1167.4750000000001, 0.5, 'Euro')"
      ]
     },
     "execution_count": 24,
     "metadata": {},
     "output_type": "execute_result"
    },
    {
     "data": {
      "text/plain": [
       "Text(0.5, 1293.08, 'AU')"
      ]
     },
     "execution_count": 24,
     "metadata": {},
     "output_type": "execute_result"
    },
    {
     "data": {
      "text/plain": [
       "Text(1429.4250000000002, 0.5, 'Euro')"
      ]
     },
     "execution_count": 24,
     "metadata": {},
     "output_type": "execute_result"
    },
    {
     "data": {
      "text/plain": [
       "Text(0.5, 1150.1599999999999, 'CA')"
      ]
     },
     "execution_count": 24,
     "metadata": {},
     "output_type": "execute_result"
    },
    {
     "data": {
      "text/plain": [
       "Text(13.175000000000018, 0.5, 'Euro')"
      ]
     },
     "execution_count": 24,
     "metadata": {},
     "output_type": "execute_result"
    },
    {
     "data": {
      "text/plain": [
       "Text(0.5, 1150.1599999999999, 'CA')"
      ]
     },
     "execution_count": 24,
     "metadata": {},
     "output_type": "execute_result"
    },
    {
     "data": {
      "text/plain": [
       "Text(299.37500000000006, 0.5, 'Euro')"
      ]
     },
     "execution_count": 24,
     "metadata": {},
     "output_type": "execute_result"
    },
    {
     "data": {
      "text/plain": [
       "Text(0.5, 1150.1599999999999, 'CA')"
      ]
     },
     "execution_count": 24,
     "metadata": {},
     "output_type": "execute_result"
    },
    {
     "data": {
      "text/plain": [
       "Text(595.075, 0.5, 'Euro')"
      ]
     },
     "execution_count": 24,
     "metadata": {},
     "output_type": "execute_result"
    },
    {
     "data": {
      "text/plain": [
       "Text(0.5, 1150.1599999999999, 'CA')"
      ]
     },
     "execution_count": 24,
     "metadata": {},
     "output_type": "execute_result"
    },
    {
     "data": {
      "text/plain": [
       "Text(881.2750000000001, 0.5, 'Euro')"
      ]
     },
     "execution_count": 24,
     "metadata": {},
     "output_type": "execute_result"
    },
    {
     "data": {
      "text/plain": [
       "Text(0.5, 1150.1599999999999, 'CA')"
      ]
     },
     "execution_count": 24,
     "metadata": {},
     "output_type": "execute_result"
    },
    {
     "data": {
      "text/plain": [
       "Text(1167.4750000000001, 0.5, 'Euro')"
      ]
     },
     "execution_count": 24,
     "metadata": {},
     "output_type": "execute_result"
    },
    {
     "data": {
      "text/plain": [
       "Text(0.5, 1150.1599999999999, 'CA')"
      ]
     },
     "execution_count": 24,
     "metadata": {},
     "output_type": "execute_result"
    },
    {
     "data": {
      "text/plain": [
       "Text(1407.6750000000002, 0.5, 'Euro')"
      ]
     },
     "execution_count": 24,
     "metadata": {},
     "output_type": "execute_result"
    },
    {
     "data": {
      "text/plain": [
       "Text(0.5, 1007.24, 'CH')"
      ]
     },
     "execution_count": 24,
     "metadata": {},
     "output_type": "execute_result"
    },
    {
     "data": {
      "text/plain": [
       "Text(22.67500000000002, 0.5, 'Euro')"
      ]
     },
     "execution_count": 24,
     "metadata": {},
     "output_type": "execute_result"
    },
    {
     "data": {
      "text/plain": [
       "Text(0.5, 1007.24, 'CH')"
      ]
     },
     "execution_count": 24,
     "metadata": {},
     "output_type": "execute_result"
    },
    {
     "data": {
      "text/plain": [
       "Text(308.87500000000006, 0.5, 'Euro')"
      ]
     },
     "execution_count": 24,
     "metadata": {},
     "output_type": "execute_result"
    },
    {
     "data": {
      "text/plain": [
       "Text(0.5, 1007.24, 'CH')"
      ]
     },
     "execution_count": 24,
     "metadata": {},
     "output_type": "execute_result"
    },
    {
     "data": {
      "text/plain": [
       "Text(585.575, 0.5, 'Euro')"
      ]
     },
     "execution_count": 24,
     "metadata": {},
     "output_type": "execute_result"
    },
    {
     "data": {
      "text/plain": [
       "Text(0.5, 1007.24, 'CH')"
      ]
     },
     "execution_count": 24,
     "metadata": {},
     "output_type": "execute_result"
    },
    {
     "data": {
      "text/plain": [
       "Text(871.6500000000001, 0.5, 'Euro')"
      ]
     },
     "execution_count": 24,
     "metadata": {},
     "output_type": "execute_result"
    },
    {
     "data": {
      "text/plain": [
       "Text(0.5, 1007.24, 'CH')"
      ]
     },
     "execution_count": 24,
     "metadata": {},
     "output_type": "execute_result"
    },
    {
     "data": {
      "text/plain": [
       "Text(1151.6000000000001, 0.5, 'Euro')"
      ]
     },
     "execution_count": 24,
     "metadata": {},
     "output_type": "execute_result"
    },
    {
     "data": {
      "text/plain": [
       "Text(0.5, 1007.24, 'CH')"
      ]
     },
     "execution_count": 24,
     "metadata": {},
     "output_type": "execute_result"
    },
    {
     "data": {
      "text/plain": [
       "Text(1437.8000000000002, 0.5, 'Euro')"
      ]
     },
     "execution_count": 24,
     "metadata": {},
     "output_type": "execute_result"
    },
    {
     "data": {
      "text/plain": [
       "Text(0.5, 864.32, 'CZ')"
      ]
     },
     "execution_count": 24,
     "metadata": {},
     "output_type": "execute_result"
    },
    {
     "data": {
      "text/plain": [
       "Text(-8.574999999999982, 0.5, 'Euro')"
      ]
     },
     "execution_count": 24,
     "metadata": {},
     "output_type": "execute_result"
    },
    {
     "data": {
      "text/plain": [
       "Text(0.5, 864.32, 'CZ')"
      ]
     },
     "execution_count": 24,
     "metadata": {},
     "output_type": "execute_result"
    },
    {
     "data": {
      "text/plain": [
       "Text(277.62500000000006, 0.5, 'Euro')"
      ]
     },
     "execution_count": 24,
     "metadata": {},
     "output_type": "execute_result"
    },
    {
     "data": {
      "text/plain": [
       "Text(0.5, 864.32, 'CZ')"
      ]
     },
     "execution_count": 24,
     "metadata": {},
     "output_type": "execute_result"
    },
    {
     "data": {
      "text/plain": [
       "Text(563.7, 0.5, 'Euro')"
      ]
     },
     "execution_count": 24,
     "metadata": {},
     "output_type": "execute_result"
    },
    {
     "data": {
      "text/plain": [
       "Text(0.5, 864.32, 'CZ')"
      ]
     },
     "execution_count": 24,
     "metadata": {},
     "output_type": "execute_result"
    },
    {
     "data": {
      "text/plain": [
       "Text(850.0250000000001, 0.5, 'Euro')"
      ]
     },
     "execution_count": 24,
     "metadata": {},
     "output_type": "execute_result"
    },
    {
     "data": {
      "text/plain": [
       "Text(0.5, 864.32, 'CZ')"
      ]
     },
     "execution_count": 24,
     "metadata": {},
     "output_type": "execute_result"
    },
    {
     "data": {
      "text/plain": [
       "Text(1142.4750000000001, 0.5, 'Euro')"
      ]
     },
     "execution_count": 24,
     "metadata": {},
     "output_type": "execute_result"
    },
    {
     "data": {
      "text/plain": [
       "Text(0.5, 864.32, 'CZ')"
      ]
     },
     "execution_count": 24,
     "metadata": {},
     "output_type": "execute_result"
    },
    {
     "data": {
      "text/plain": [
       "Text(1414.0500000000002, 0.5, 'Euro')"
      ]
     },
     "execution_count": 24,
     "metadata": {},
     "output_type": "execute_result"
    },
    {
     "data": {
      "text/plain": [
       "Text(0.5, 721.4, 'ES')"
      ]
     },
     "execution_count": 24,
     "metadata": {},
     "output_type": "execute_result"
    },
    {
     "data": {
      "text/plain": [
       "Text(-14.824999999999982, 0.5, 'Euro')"
      ]
     },
     "execution_count": 24,
     "metadata": {},
     "output_type": "execute_result"
    },
    {
     "data": {
      "text/plain": [
       "Text(0.5, 721.4, 'ES')"
      ]
     },
     "execution_count": 24,
     "metadata": {},
     "output_type": "execute_result"
    },
    {
     "data": {
      "text/plain": [
       "Text(271.37500000000006, 0.5, 'Euro')"
      ]
     },
     "execution_count": 24,
     "metadata": {},
     "output_type": "execute_result"
    },
    {
     "data": {
      "text/plain": [
       "Text(0.5, 721.4, 'ES')"
      ]
     },
     "execution_count": 24,
     "metadata": {},
     "output_type": "execute_result"
    },
    {
     "data": {
      "text/plain": [
       "Text(557.45, 0.5, 'Euro')"
      ]
     },
     "execution_count": 24,
     "metadata": {},
     "output_type": "execute_result"
    },
    {
     "data": {
      "text/plain": [
       "Text(0.5, 721.4, 'ES')"
      ]
     },
     "execution_count": 24,
     "metadata": {},
     "output_type": "execute_result"
    },
    {
     "data": {
      "text/plain": [
       "Text(850.0250000000001, 0.5, 'Euro')"
      ]
     },
     "execution_count": 24,
     "metadata": {},
     "output_type": "execute_result"
    },
    {
     "data": {
      "text/plain": [
       "Text(0.5, 721.4, 'ES')"
      ]
     },
     "execution_count": 24,
     "metadata": {},
     "output_type": "execute_result"
    },
    {
     "data": {
      "text/plain": [
       "Text(1129.8500000000001, 0.5, 'Euro')"
      ]
     },
     "execution_count": 24,
     "metadata": {},
     "output_type": "execute_result"
    },
    {
     "data": {
      "text/plain": [
       "Text(0.5, 721.4, 'ES')"
      ]
     },
     "execution_count": 24,
     "metadata": {},
     "output_type": "execute_result"
    },
    {
     "data": {
      "text/plain": [
       "Text(1414.0500000000002, 0.5, 'Euro')"
      ]
     },
     "execution_count": 24,
     "metadata": {},
     "output_type": "execute_result"
    },
    {
     "data": {
      "text/plain": [
       "Text(0.5, 578.4799999999999, 'GR')"
      ]
     },
     "execution_count": 24,
     "metadata": {},
     "output_type": "execute_result"
    },
    {
     "data": {
      "text/plain": [
       "Text(-14.949999999999982, 0.5, 'Euro')"
      ]
     },
     "execution_count": 24,
     "metadata": {},
     "output_type": "execute_result"
    },
    {
     "data": {
      "text/plain": [
       "Text(0.5, 578.4799999999999, 'GR')"
      ]
     },
     "execution_count": 24,
     "metadata": {},
     "output_type": "execute_result"
    },
    {
     "data": {
      "text/plain": [
       "Text(271.25000000000006, 0.5, 'Euro')"
      ]
     },
     "execution_count": 24,
     "metadata": {},
     "output_type": "execute_result"
    },
    {
     "data": {
      "text/plain": [
       "Text(0.5, 578.4799999999999, 'GR')"
      ]
     },
     "execution_count": 24,
     "metadata": {},
     "output_type": "execute_result"
    },
    {
     "data": {
      "text/plain": [
       "Text(563.825, 0.5, 'Euro')"
      ]
     },
     "execution_count": 24,
     "metadata": {},
     "output_type": "execute_result"
    },
    {
     "data": {
      "text/plain": [
       "Text(0.5, 578.4799999999999, 'GR')"
      ]
     },
     "execution_count": 24,
     "metadata": {},
     "output_type": "execute_result"
    },
    {
     "data": {
      "text/plain": [
       "Text(850.0250000000001, 0.5, 'Euro')"
      ]
     },
     "execution_count": 24,
     "metadata": {},
     "output_type": "execute_result"
    },
    {
     "data": {
      "text/plain": [
       "Text(0.5, 578.4799999999999, 'GR')"
      ]
     },
     "execution_count": 24,
     "metadata": {},
     "output_type": "execute_result"
    },
    {
     "data": {
      "text/plain": [
       "Text(1136.2250000000001, 0.5, 'Euro')"
      ]
     },
     "execution_count": 24,
     "metadata": {},
     "output_type": "execute_result"
    },
    {
     "data": {
      "text/plain": [
       "Text(0.5, 578.4799999999999, 'GR')"
      ]
     },
     "execution_count": 24,
     "metadata": {},
     "output_type": "execute_result"
    },
    {
     "data": {
      "text/plain": [
       "Text(1422.4250000000002, 0.5, 'Euro')"
      ]
     },
     "execution_count": 24,
     "metadata": {},
     "output_type": "execute_result"
    },
    {
     "data": {
      "text/plain": [
       "Text(0.5, 435.55999999999995, 'IT')"
      ]
     },
     "execution_count": 24,
     "metadata": {},
     "output_type": "execute_result"
    },
    {
     "data": {
      "text/plain": [
       "Text(22.67500000000002, 0.5, 'Euro')"
      ]
     },
     "execution_count": 24,
     "metadata": {},
     "output_type": "execute_result"
    },
    {
     "data": {
      "text/plain": [
       "Text(0.5, 435.55999999999995, 'IT')"
      ]
     },
     "execution_count": 24,
     "metadata": {},
     "output_type": "execute_result"
    },
    {
     "data": {
      "text/plain": [
       "Text(308.87500000000006, 0.5, 'Euro')"
      ]
     },
     "execution_count": 24,
     "metadata": {},
     "output_type": "execute_result"
    },
    {
     "data": {
      "text/plain": [
       "Text(0.5, 435.55999999999995, 'IT')"
      ]
     },
     "execution_count": 24,
     "metadata": {},
     "output_type": "execute_result"
    },
    {
     "data": {
      "text/plain": [
       "Text(585.575, 0.5, 'Euro')"
      ]
     },
     "execution_count": 24,
     "metadata": {},
     "output_type": "execute_result"
    },
    {
     "data": {
      "text/plain": [
       "Text(0.5, 435.55999999999995, 'IT')"
      ]
     },
     "execution_count": 24,
     "metadata": {},
     "output_type": "execute_result"
    },
    {
     "data": {
      "text/plain": [
       "Text(871.6500000000001, 0.5, 'Euro')"
      ]
     },
     "execution_count": 24,
     "metadata": {},
     "output_type": "execute_result"
    },
    {
     "data": {
      "text/plain": [
       "Text(0.5, 435.55999999999995, 'IT')"
      ]
     },
     "execution_count": 24,
     "metadata": {},
     "output_type": "execute_result"
    },
    {
     "data": {
      "text/plain": [
       "Text(1157.8500000000001, 0.5, 'Euro')"
      ]
     },
     "execution_count": 24,
     "metadata": {},
     "output_type": "execute_result"
    },
    {
     "data": {
      "text/plain": [
       "Text(0.5, 435.55999999999995, 'IT')"
      ]
     },
     "execution_count": 24,
     "metadata": {},
     "output_type": "execute_result"
    },
    {
     "data": {
      "text/plain": [
       "Text(1435.8000000000002, 0.5, 'Euro')"
      ]
     },
     "execution_count": 24,
     "metadata": {},
     "output_type": "execute_result"
    },
    {
     "data": {
      "text/plain": [
       "Text(0.5, 292.64000000000004, 'NL')"
      ]
     },
     "execution_count": 24,
     "metadata": {},
     "output_type": "execute_result"
    },
    {
     "data": {
      "text/plain": [
       "Text(22.67500000000002, 0.5, 'Euro')"
      ]
     },
     "execution_count": 24,
     "metadata": {},
     "output_type": "execute_result"
    },
    {
     "data": {
      "text/plain": [
       "Text(0.5, 292.64000000000004, 'NL')"
      ]
     },
     "execution_count": 24,
     "metadata": {},
     "output_type": "execute_result"
    },
    {
     "data": {
      "text/plain": [
       "Text(308.87500000000006, 0.5, 'Euro')"
      ]
     },
     "execution_count": 24,
     "metadata": {},
     "output_type": "execute_result"
    },
    {
     "data": {
      "text/plain": [
       "Text(0.5, 292.64000000000004, 'NL')"
      ]
     },
     "execution_count": 24,
     "metadata": {},
     "output_type": "execute_result"
    },
    {
     "data": {
      "text/plain": [
       "Text(585.45, 0.5, 'Euro')"
      ]
     },
     "execution_count": 24,
     "metadata": {},
     "output_type": "execute_result"
    },
    {
     "data": {
      "text/plain": [
       "Text(0.5, 292.64000000000004, 'NL')"
      ]
     },
     "execution_count": 24,
     "metadata": {},
     "output_type": "execute_result"
    },
    {
     "data": {
      "text/plain": [
       "Text(871.6500000000001, 0.5, 'Euro')"
      ]
     },
     "execution_count": 24,
     "metadata": {},
     "output_type": "execute_result"
    },
    {
     "data": {
      "text/plain": [
       "Text(0.5, 292.64000000000004, 'NL')"
      ]
     },
     "execution_count": 24,
     "metadata": {},
     "output_type": "execute_result"
    },
    {
     "data": {
      "text/plain": [
       "Text(1157.9750000000001, 0.5, 'Euro')"
      ]
     },
     "execution_count": 24,
     "metadata": {},
     "output_type": "execute_result"
    },
    {
     "data": {
      "text/plain": [
       "Text(0.5, 292.64000000000004, 'NL')"
      ]
     },
     "execution_count": 24,
     "metadata": {},
     "output_type": "execute_result"
    },
    {
     "data": {
      "text/plain": [
       "Text(1416.1750000000002, 0.5, 'Euro')"
      ]
     },
     "execution_count": 24,
     "metadata": {},
     "output_type": "execute_result"
    },
    {
     "data": {
      "text/plain": [
       "Text(0.5, 149.7200000000001, 'PL')"
      ]
     },
     "execution_count": 24,
     "metadata": {},
     "output_type": "execute_result"
    },
    {
     "data": {
      "text/plain": [
       "Text(13.050000000000018, 0.5, 'Euro')"
      ]
     },
     "execution_count": 24,
     "metadata": {},
     "output_type": "execute_result"
    },
    {
     "data": {
      "text/plain": [
       "Text(0.5, 149.7200000000001, 'PL')"
      ]
     },
     "execution_count": 24,
     "metadata": {},
     "output_type": "execute_result"
    },
    {
     "data": {
      "text/plain": [
       "Text(299.25000000000006, 0.5, 'Euro')"
      ]
     },
     "execution_count": 24,
     "metadata": {},
     "output_type": "execute_result"
    },
    {
     "data": {
      "text/plain": [
       "Text(0.5, 149.7200000000001, 'PL')"
      ]
     },
     "execution_count": 24,
     "metadata": {},
     "output_type": "execute_result"
    },
    {
     "data": {
      "text/plain": [
       "Text(557.575, 0.5, 'Euro')"
      ]
     },
     "execution_count": 24,
     "metadata": {},
     "output_type": "execute_result"
    },
    {
     "data": {
      "text/plain": [
       "Text(0.5, 149.7200000000001, 'PL')"
      ]
     },
     "execution_count": 24,
     "metadata": {},
     "output_type": "execute_result"
    },
    {
     "data": {
      "text/plain": [
       "Text(843.7750000000001, 0.5, 'Euro')"
      ]
     },
     "execution_count": 24,
     "metadata": {},
     "output_type": "execute_result"
    },
    {
     "data": {
      "text/plain": [
       "Text(0.5, 149.7200000000001, 'PL')"
      ]
     },
     "execution_count": 24,
     "metadata": {},
     "output_type": "execute_result"
    },
    {
     "data": {
      "text/plain": [
       "Text(1129.9750000000001, 0.5, 'Euro')"
      ]
     },
     "execution_count": 24,
     "metadata": {},
     "output_type": "execute_result"
    },
    {
     "data": {
      "text/plain": [
       "Text(0.5, 149.7200000000001, 'PL')"
      ]
     },
     "execution_count": 24,
     "metadata": {},
     "output_type": "execute_result"
    },
    {
     "data": {
      "text/plain": [
       "Text(1407.8000000000002, 0.5, 'Euro')"
      ]
     },
     "execution_count": 24,
     "metadata": {},
     "output_type": "execute_result"
    },
    {
     "data": {
      "text/plain": [
       "Text(0.5, 6.800000000000189, 'PT')"
      ]
     },
     "execution_count": 24,
     "metadata": {},
     "output_type": "execute_result"
    },
    {
     "data": {
      "text/plain": [
       "Text(-8.574999999999982, 0.5, 'Euro')"
      ]
     },
     "execution_count": 24,
     "metadata": {},
     "output_type": "execute_result"
    },
    {
     "data": {
      "text/plain": [
       "Text(0.5, 6.800000000000189, 'PT')"
      ]
     },
     "execution_count": 24,
     "metadata": {},
     "output_type": "execute_result"
    },
    {
     "data": {
      "text/plain": [
       "Text(277.62500000000006, 0.5, 'Euro')"
      ]
     },
     "execution_count": 24,
     "metadata": {},
     "output_type": "execute_result"
    },
    {
     "data": {
      "text/plain": [
       "Text(0.5, 6.800000000000189, 'PT')"
      ]
     },
     "execution_count": 24,
     "metadata": {},
     "output_type": "execute_result"
    },
    {
     "data": {
      "text/plain": [
       "Text(570.075, 0.5, 'Euro')"
      ]
     },
     "execution_count": 24,
     "metadata": {},
     "output_type": "execute_result"
    },
    {
     "data": {
      "text/plain": [
       "Text(0.5, 6.800000000000189, 'PT')"
      ]
     },
     "execution_count": 24,
     "metadata": {},
     "output_type": "execute_result"
    },
    {
     "data": {
      "text/plain": [
       "Text(849.9000000000001, 0.5, 'Euro')"
      ]
     },
     "execution_count": 24,
     "metadata": {},
     "output_type": "execute_result"
    },
    {
     "data": {
      "text/plain": [
       "Text(0.5, 6.800000000000189, 'PT')"
      ]
     },
     "execution_count": 24,
     "metadata": {},
     "output_type": "execute_result"
    },
    {
     "data": {
      "text/plain": [
       "Text(1136.1000000000001, 0.5, 'Euro')"
      ]
     },
     "execution_count": 24,
     "metadata": {},
     "output_type": "execute_result"
    },
    {
     "data": {
      "text/plain": [
       "Text(0.5, 6.800000000000189, 'PT')"
      ]
     },
     "execution_count": 24,
     "metadata": {},
     "output_type": "execute_result"
    },
    {
     "data": {
      "text/plain": [
       "Text(1422.4250000000002, 0.5, 'Euro')"
      ]
     },
     "execution_count": 24,
     "metadata": {},
     "output_type": "execute_result"
    },
    {
     "data": {
      "image/png": "[encoded data removed]",
      "text/plain": [
       "<Figure size 1728x1440 with 60 Axes>"
      ]
     },
     "metadata": {
      "needs_background": "light"
     },
     "output_type": "display_data"
    }
   ],
   "source": [
    "included = (include * 6)\n",
    "included.sort()\n",
    "\n",
    "g = sns.FacetGrid(melt_cv, row=\"country\", col=\"variable\",  hue=\"Period\", palette=\"Set3\", height=2, aspect=2, margin_titles=True, legend_out=False, sharex=False, sharey=False)\n",
    "g.map(sns.barplot, \"Period\", \"value\", order=order, ci=None, label = True)\n",
    "axes = g.axes.flatten()\n",
    "for ax, b  in zip(axes, included):\n",
    "    ax.set_xlabel(b)\n",
    "    ax.set_ylabel(\"Euro\")\n",
    "    \n",
    "g.savefig('KPIs.png', dpi=125)"
   ]
  },
  {
   "cell_type": "code",
   "execution_count": null,
   "id": "767153b7",
   "metadata": {
    "papermill": {
     "duration": 0.563307,
     "end_time": "2021-06-01T17:29:42.668405",
     "exception": false,
     "start_time": "2021-06-01T17:29:42.105098",
     "status": "completed"
    },
    "tags": []
   },
   "outputs": [],
   "source": []
  }
 ],
 "metadata": {
  "celltoolbar": "Tags",
  "kernelspec": {
   "display_name": "Python 3",
   "language": "python",
   "name": "python3"
  },
  "language_info": {
   "codemirror_mode": {
    "name": "ipython",
    "version": 3
   },
   "file_extension": ".py",
   "mimetype": "text/x-python",
   "name": "python",
   "nbconvert_exporter": "python",
   "pygments_lexer": "ipython3",
   "version": "3.7.6"
  },
  "papermill": {
   "default_parameters": {},
   "duration": 141.257932,
   "end_time": "2021-06-01T17:29:44.806641",
   "environment_variables": {},
   "exception": null,
   "input_path": "reporting/Audit Report.ipynb",
   "output_path": "//hecate/Insurance_US/Product Development/Product Management/Global PPM/Reporting/Data Collection/Pipeline Reporting Scripts/GPMpipeline/instances/2021.Q1\\reporting\\Audit Report06012021130125--live run, removed r transformations.ipynb",
   "parameters": {
    "commit_message": "Demo Test",
    "inst_datetime": "06012021130125",
    "percode": "2021.Q1",
    "run_control": 1
   },
   "start_time": "2021-06-01T17:27:23.548709",
   "version": "2.3.3"
  }
 },
 "nbformat": 4,
 "nbformat_minor": 5
}