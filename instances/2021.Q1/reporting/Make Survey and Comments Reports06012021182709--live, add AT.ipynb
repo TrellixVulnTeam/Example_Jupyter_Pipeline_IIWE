{
 "cells": [
  {
   "cell_type": "markdown",
   "id": "960ccfd0",
   "metadata": {
    "papermill": {
     "duration": 0.248644,
     "end_time": "2021-06-01T22:37:13.005983",
     "exception": false,
     "start_time": "2021-06-01T22:37:12.757339",
     "status": "completed"
    },
    "tags": []
   },
   "source": [
    "<img src=\"../images/AzPTravel_PPM.png\">"
   ]
  },
  {
   "cell_type": "markdown",
   "id": "8891f6ea",
   "metadata": {
    "papermill": {
     "duration": 0.248131,
     "end_time": "2021-06-01T22:37:13.522953",
     "exception": false,
     "start_time": "2021-06-01T22:37:13.274822",
     "status": "completed"
    },
    "tags": []
   },
   "source": [
    "## Validation Report Creation Script\n",
    "\n",
    "#### This script reads the output of the \"us_vdf*\" and \"us_vcomments*\" data files and summarizes  them into a report: Validations Review _{BU}.xlsx\n",
    "\n",
    "#### When finished, it will be able to be run on its own or as part of the pipeline wherever called (ie from a papermill script or other user inteface).\n"
   ]
  },
  {
   "cell_type": "markdown",
   "id": "475263e3",
   "metadata": {
    "papermill": {
     "duration": 0.221546,
     "end_time": "2021-06-01T22:37:13.961618",
     "exception": false,
     "start_time": "2021-06-01T22:37:13.740072",
     "status": "completed"
    },
    "tags": []
   },
   "source": [
    "### User Variables\n",
    "- These are overwritten if inherited from run_control.ipynb.\n",
    "- Feel Free to reset them for a manual run if you like\n",
    "- Do not save without percode = \"-f\""
   ]
  },
  {
   "cell_type": "code",
   "execution_count": 1,
   "id": "386aa7c1",
   "metadata": {
    "execution": {
     "iopub.execute_input": "2021-06-01T22:37:14.433032Z",
     "iopub.status.busy": "2021-06-01T22:37:14.428025Z",
     "iopub.status.idle": "2021-06-01T22:37:14.441029Z",
     "shell.execute_reply": "2021-06-01T22:37:14.448024Z"
    },
    "papermill": {
     "duration": 0.256014,
     "end_time": "2021-06-01T22:37:14.449022",
     "exception": false,
     "start_time": "2021-06-01T22:37:14.193008",
     "status": "completed"
    },
    "tags": [
     "parameters"
    ]
   },
   "outputs": [],
   "source": [
    "commit_message = \"Development and testing.\"\n",
    "# Give a brief reason for the run.\n",
    "\n",
    "run_control = 1\n",
    "#run_type = 0 - Lite run with no reporting, not recommended.\n",
    "#run_type = 1 - Lite run with normal reporting, default setting.\n",
    "#run_type = 2 - Heavy run with full reporting, available for audits and troubleshooting.\n",
    "#run_type = 5 - A default setting. Indicates the script is being run by an outside process without an inherited value\n",
    "\n",
    "percode = \"2021.Q1\"\n",
    "# Data Collection Code, this controls file paths and output names\n",
    "# \"-f\" is the value indicating a bad inheritance from run with arg\n",
    "\n",
    "s_format = \"p\"\n",
    "# denotes the source data format x == Excel; j == json, p == parquet\n",
    "\n",
    "#----------\n",
    "# do not edit - this either inherits the full instance timestamp from the papermill book or captures the run time of this script.\n",
    "from datetime import datetime  # datetime options\n",
    "inst_datetime = datetime.now().strftime(\"%m%d%Y%H%M%S\")"
   ]
  },
  {
   "cell_type": "code",
   "execution_count": 2,
   "id": "de0ec412",
   "metadata": {
    "execution": {
     "iopub.execute_input": "2021-06-01T22:37:14.887715Z",
     "iopub.status.busy": "2021-06-01T22:37:14.883713Z",
     "iopub.status.idle": "2021-06-01T22:37:14.893715Z",
     "shell.execute_reply": "2021-06-01T22:37:14.894240Z"
    },
    "papermill": {
     "duration": 0.226688,
     "end_time": "2021-06-01T22:37:14.895236",
     "exception": false,
     "start_time": "2021-06-01T22:37:14.668548",
     "status": "completed"
    },
    "tags": [
     "injected-parameters"
    ]
   },
   "outputs": [],
   "source": [
    "# Parameters\n",
    "run_control = 1\n",
    "percode = \"2021.Q1\"\n",
    "commit_message = \"Live run, added AT, bad file name, rerun.\"\n",
    "inst_datetime = \"06012021182709\"\n"
   ]
  },
  {
   "cell_type": "markdown",
   "id": "9a66aa71",
   "metadata": {
    "papermill": {
     "duration": 0.213663,
     "end_time": "2021-06-01T22:37:15.331110",
     "exception": false,
     "start_time": "2021-06-01T22:37:15.117447",
     "status": "completed"
    },
    "tags": []
   },
   "source": [
    "#### Notebook display options"
   ]
  },
  {
   "cell_type": "code",
   "execution_count": 3,
   "id": "3bc8a023",
   "metadata": {
    "execution": {
     "iopub.execute_input": "2021-06-01T22:37:15.787263Z",
     "iopub.status.busy": "2021-06-01T22:37:15.786263Z",
     "iopub.status.idle": "2021-06-01T22:37:15.794261Z",
     "shell.execute_reply": "2021-06-01T22:37:15.795260Z"
    },
    "papermill": {
     "duration": 0.254618,
     "end_time": "2021-06-01T22:37:15.796259",
     "exception": false,
     "start_time": "2021-06-01T22:37:15.541641",
     "status": "completed"
    },
    "tags": []
   },
   "outputs": [],
   "source": [
    "from IPython.core.interactiveshell import InteractiveShell\n",
    "InteractiveShell.ast_node_interactivity = \"all\""
   ]
  },
  {
   "cell_type": "markdown",
   "id": "91999763",
   "metadata": {
    "papermill": {
     "duration": 0.245548,
     "end_time": "2021-06-01T22:37:16.261329",
     "exception": false,
     "start_time": "2021-06-01T22:37:16.015781",
     "status": "completed"
    },
    "tags": []
   },
   "source": [
    "#### import packages"
   ]
  },
  {
   "cell_type": "code",
   "execution_count": 4,
   "id": "0c3616da",
   "metadata": {
    "execution": {
     "iopub.execute_input": "2021-06-01T22:37:16.697290Z",
     "iopub.status.busy": "2021-06-01T22:37:16.691290Z",
     "iopub.status.idle": "2021-06-01T22:37:23.257435Z",
     "shell.execute_reply": "2021-06-01T22:37:23.256432Z"
    },
    "papermill": {
     "duration": 6.764985,
     "end_time": "2021-06-01T22:37:23.258432",
     "exception": false,
     "start_time": "2021-06-01T22:37:16.493447",
     "status": "completed"
    },
    "tags": []
   },
   "outputs": [],
   "source": [
    "#### Packages used\n",
    "\n",
    "import os # System commands\n",
    "import sys # System commands\n",
    "\n",
    "import warnings # custom warnigns options\n",
    "\n",
    "import glob # Directory operations\n",
    "import getpass # Work with parquet\n",
    "import json # Work with json\n",
    "\n",
    "import matplotlib.pyplot as plt #Plots and Graphs\n",
    "import numpy as np # Series and math\n",
    "import pandas as pd #DataFrame and math\n",
    "\n",
    "#excel operations\n",
    "import re\n",
    "import nicexcel as nl # Excel operations\n",
    "import xlsxwriter # Excel operations\n",
    "import openpyxl # Excel operations\n"
   ]
  },
  {
   "cell_type": "markdown",
   "id": "1038abc1",
   "metadata": {
    "papermill": {
     "duration": 0.230521,
     "end_time": "2021-06-01T22:37:23.751564",
     "exception": false,
     "start_time": "2021-06-01T22:37:23.521043",
     "status": "completed"
    },
    "tags": []
   },
   "source": [
    "#### Default Variables, these govern logic, do not edit."
   ]
  },
  {
   "cell_type": "code",
   "execution_count": 5,
   "id": "772523e8",
   "metadata": {
    "execution": {
     "iopub.execute_input": "2021-06-01T22:37:24.236081Z",
     "iopub.status.busy": "2021-06-01T22:37:24.233082Z",
     "iopub.status.idle": "2021-06-01T22:37:24.242084Z",
     "shell.execute_reply": "2021-06-01T22:37:24.244082Z"
    },
    "papermill": {
     "duration": 0.257,
     "end_time": "2021-06-01T22:37:24.244082",
     "exception": false,
     "start_time": "2021-06-01T22:37:23.987082",
     "status": "completed"
    },
    "tags": []
   },
   "outputs": [],
   "source": [
    "default_dc = \"20XX.QX\"\n",
    "default_rc = 0 #extra lite mode\n",
    "dummy_perc = \"33Q3\" # bad inheritance"
   ]
  },
  {
   "cell_type": "markdown",
   "id": "df0387b0",
   "metadata": {
    "papermill": {
     "duration": 0.221519,
     "end_time": "2021-06-01T22:37:24.675592",
     "exception": false,
     "start_time": "2021-06-01T22:37:24.454073",
     "status": "completed"
    },
    "tags": []
   },
   "source": [
    "#### Script determining run context ie, manual, run_control.ipynb, or other."
   ]
  },
  {
   "cell_type": "code",
   "execution_count": 6,
   "id": "0f7c3251",
   "metadata": {
    "execution": {
     "iopub.execute_input": "2021-06-01T22:37:25.135404Z",
     "iopub.status.busy": "2021-06-01T22:37:25.126410Z",
     "iopub.status.idle": "2021-06-01T22:37:25.143396Z",
     "shell.execute_reply": "2021-06-01T22:37:25.144396Z"
    },
    "papermill": {
     "duration": 0.245994,
     "end_time": "2021-06-01T22:37:25.144396",
     "exception": false,
     "start_time": "2021-06-01T22:37:24.898402",
     "status": "completed"
    },
    "tags": []
   },
   "outputs": [],
   "source": [
    "if run_control == 5:\n",
    "    run_control = default_rc \n",
    "else:\n",
    "    run_control = run_control\n",
    "\n",
    "try:\n",
    "    if sys.argv[1] == \"-f\":\n",
    "        percode = percode\n",
    "    else:\n",
    "        percode = sys.argv[1]\n",
    "\n",
    "except IndexError:\n",
    "    percode = default_dc\n",
    "except NameError:\n",
    "    percode = default_dc\n"
   ]
  },
  {
   "cell_type": "markdown",
   "id": "8749ef55",
   "metadata": {
    "papermill": {
     "duration": 0.227988,
     "end_time": "2021-06-01T22:37:25.598031",
     "exception": false,
     "start_time": "2021-06-01T22:37:25.370043",
     "status": "completed"
    },
    "tags": []
   },
   "source": [
    "#### style settings"
   ]
  },
  {
   "cell_type": "code",
   "execution_count": 7,
   "id": "57e811d1",
   "metadata": {
    "execution": {
     "iopub.execute_input": "2021-06-01T22:37:26.067072Z",
     "iopub.status.busy": "2021-06-01T22:37:26.064075Z",
     "iopub.status.idle": "2021-06-01T22:37:26.073069Z",
     "shell.execute_reply": "2021-06-01T22:37:26.074073Z"
    },
    "papermill": {
     "duration": 0.243037,
     "end_time": "2021-06-01T22:37:26.075073",
     "exception": false,
     "start_time": "2021-06-01T22:37:25.832036",
     "status": "completed"
    },
    "tags": []
   },
   "outputs": [],
   "source": [
    "from IPython.core.interactiveshell import InteractiveShell\n",
    "InteractiveShell.ast_node_interactivity = \"all\""
   ]
  },
  {
   "cell_type": "markdown",
   "id": "96f8dd7d",
   "metadata": {
    "papermill": {
     "duration": 0.222531,
     "end_time": "2021-06-01T22:37:26.546688",
     "exception": false,
     "start_time": "2021-06-01T22:37:26.324157",
     "status": "completed"
    },
    "tags": []
   },
   "source": [
    "\n",
    "## Begin Input Read\n",
    "- Make paths used in script\n",
    "- all paths should be modular and easily replaced ahead of operations."
   ]
  },
  {
   "cell_type": "code",
   "execution_count": 8,
   "id": "c858cd0e",
   "metadata": {
    "execution": {
     "iopub.execute_input": "2021-06-01T22:37:27.016048Z",
     "iopub.status.busy": "2021-06-01T22:37:27.013036Z",
     "iopub.status.idle": "2021-06-01T22:37:27.021040Z",
     "shell.execute_reply": "2021-06-01T22:37:27.023033Z"
    },
    "papermill": {
     "duration": 0.266523,
     "end_time": "2021-06-01T22:37:27.023033",
     "exception": false,
     "start_time": "2021-06-01T22:37:26.756510",
     "status": "completed"
    },
    "tags": []
   },
   "outputs": [],
   "source": [
    "#root directory\n",
    "rt_path = os.path.join(f'\\\\\\\\hecate\\\\Insurance_US\\\\Product Development\\\\Product Management\\\\Global PPM\\\\Reporting\\Data Collection', percode  )\n",
    "\n",
    "#live sources directory\n",
    "ls_path = os.path.abspath(os.path.join( rt_path,\"..\" ,\"Production\",percode,'live_sources'))\n",
    "\n",
    "#report ouput dir\n",
    "rep_path = os.path.abspath(os.path.join(rt_path, '..','..', \"Data Collection\" ,f\"{percode}\", 'Surveys and Comments'))\n",
    "#report ouput archive dir\n",
    "rep_arch_path = os.path.abspath(os.path.join(rep_path, '..','..',f\"{percode}\",  'Archive'))\n"
   ]
  },
  {
   "cell_type": "markdown",
   "id": "b7f5c79a",
   "metadata": {
    "papermill": {
     "duration": 0.228045,
     "end_time": "2021-06-01T22:37:27.478076",
     "exception": false,
     "start_time": "2021-06-01T22:37:27.250031",
     "status": "completed"
    },
    "tags": []
   },
   "source": [
    "#### Make sources used in script\n",
    "- all sources should be modular and easily replaced ahead of operations."
   ]
  },
  {
   "cell_type": "code",
   "execution_count": 9,
   "id": "26f772d2",
   "metadata": {
    "execution": {
     "iopub.execute_input": "2021-06-01T22:37:27.978600Z",
     "iopub.status.busy": "2021-06-01T22:37:27.976605Z",
     "iopub.status.idle": "2021-06-01T22:37:27.984596Z",
     "shell.execute_reply": "2021-06-01T22:37:27.985600Z"
    },
    "papermill": {
     "duration": 0.272521,
     "end_time": "2021-06-01T22:37:27.986597",
     "exception": false,
     "start_time": "2021-06-01T22:37:27.714076",
     "status": "completed"
    },
    "tags": []
   },
   "outputs": [],
   "source": [
    "rep_xls = os.path.join(rep_path ,\"Surveys and Comments_xx.xlsx\"   )"
   ]
  },
  {
   "cell_type": "markdown",
   "id": "3517b335",
   "metadata": {
    "papermill": {
     "duration": 0.2356,
     "end_time": "2021-06-01T22:37:28.427205",
     "exception": false,
     "start_time": "2021-06-01T22:37:28.191605",
     "status": "completed"
    },
    "tags": []
   },
   "source": [
    "#### Get a list of only source files in the path that start with \"us_dat\".\n",
    "#### Logic determines the source file types.\n",
    "\n",
    "#### User instructions:\n",
    "- Make sure that you have 1 file per source in this folder.\n",
    "    -  For instance, do not have two files for Portugal. If there is an update, archive the old one.\n",
    "- Do not overwrite files in the archive.\n",
    "    - Rename newly archived files, no strict convention, we keep track of these by the modified date.\n",
    "- It is ok to have multiple sources in one file."
   ]
  },
  {
   "cell_type": "code",
   "execution_count": 10,
   "id": "cbe208dd",
   "metadata": {
    "execution": {
     "iopub.execute_input": "2021-06-01T22:37:28.899442Z",
     "iopub.status.busy": "2021-06-01T22:37:28.893440Z",
     "iopub.status.idle": "2021-06-01T22:37:28.961793Z",
     "shell.execute_reply": "2021-06-01T22:37:28.963788Z"
    },
    "papermill": {
     "duration": 0.312871,
     "end_time": "2021-06-01T22:37:28.963788",
     "exception": false,
     "start_time": "2021-06-01T22:37:28.650917",
     "status": "completed"
    },
    "tags": []
   },
   "outputs": [],
   "source": [
    "files = os.listdir(ls_path)\n",
    "files = [files.lower() for files in files]\n",
    "\n",
    "files_sources = [f for f in files if f[-5:]  == '.json' or  f[-8:] == '.parquet']\n",
    "\n",
    "for idx, f in enumerate(files_sources):  files_sources[idx] = os.path.join(ls_path, f) \n"
   ]
  },
  {
   "cell_type": "markdown",
   "id": "371dc9ac",
   "metadata": {
    "papermill": {
     "duration": 0.229006,
     "end_time": "2021-06-01T22:37:29.409795",
     "exception": false,
     "start_time": "2021-06-01T22:37:29.180789",
     "status": "completed"
    },
    "tags": []
   },
   "source": [
    "#### Make a list of BUs that have comments available"
   ]
  },
  {
   "cell_type": "code",
   "execution_count": 11,
   "id": "296a240b",
   "metadata": {
    "execution": {
     "iopub.execute_input": "2021-06-01T22:37:29.906312Z",
     "iopub.status.busy": "2021-06-01T22:37:29.898310Z",
     "iopub.status.idle": "2021-06-01T22:37:29.949314Z",
     "shell.execute_reply": "2021-06-01T22:37:29.951313Z"
    },
    "papermill": {
     "duration": 0.289512,
     "end_time": "2021-06-01T22:37:29.951313",
     "exception": false,
     "start_time": "2021-06-01T22:37:29.661801",
     "status": "completed"
    },
    "tags": []
   },
   "outputs": [
    {
     "data": {
      "text/plain": [
       "['\\\\\\\\hecate\\\\Insurance_US\\\\Product Development\\\\Product Management\\\\Global PPM\\\\Reporting\\\\Data Collection\\\\Production\\\\2021.Q1\\\\live_sources\\\\us_dat_at_+te_q1_2021_at.parquet',\n",
       " '\\\\\\\\hecate\\\\Insurance_US\\\\Product Development\\\\Product Management\\\\Global PPM\\\\Reporting\\\\Data Collection\\\\Production\\\\2021.Q1\\\\live_sources\\\\us_dat_au_05142021143612.parquet',\n",
       " '\\\\\\\\hecate\\\\Insurance_US\\\\Product Development\\\\Product Management\\\\Global PPM\\\\Reporting\\\\Data Collection\\\\Production\\\\2021.Q1\\\\live_sources\\\\us_dat_ca_05202021134242.parquet',\n",
       " '\\\\\\\\hecate\\\\Insurance_US\\\\Product Development\\\\Product Management\\\\Global PPM\\\\Reporting\\\\Data Collection\\\\Production\\\\2021.Q1\\\\live_sources\\\\us_dat_ch_05182021192455.parquet',\n",
       " '\\\\\\\\hecate\\\\Insurance_US\\\\Product Development\\\\Product Management\\\\Global PPM\\\\Reporting\\\\Data Collection\\\\Production\\\\2021.Q1\\\\live_sources\\\\us_dat_cz_05262021090243.parquet',\n",
       " '\\\\\\\\hecate\\\\Insurance_US\\\\Product Development\\\\Product Management\\\\Global PPM\\\\Reporting\\\\Data Collection\\\\Production\\\\2021.Q1\\\\live_sources\\\\us_dat_es_05202021105141.parquet',\n",
       " '\\\\\\\\hecate\\\\Insurance_US\\\\Product Development\\\\Product Management\\\\Global PPM\\\\Reporting\\\\Data Collection\\\\Production\\\\2021.Q1\\\\live_sources\\\\us_dat_gr_05252021115404.parquet',\n",
       " '\\\\\\\\hecate\\\\Insurance_US\\\\Product Development\\\\Product Management\\\\Global PPM\\\\Reporting\\\\Data Collection\\\\Production\\\\2021.Q1\\\\live_sources\\\\us_dat_it_05242021111520.parquet',\n",
       " '\\\\\\\\hecate\\\\Insurance_US\\\\Product Development\\\\Product Management\\\\Global PPM\\\\Reporting\\\\Data Collection\\\\Production\\\\2021.Q1\\\\live_sources\\\\us_dat_nl_05272021163120.parquet',\n",
       " '\\\\\\\\hecate\\\\Insurance_US\\\\Product Development\\\\Product Management\\\\Global PPM\\\\Reporting\\\\Data Collection\\\\Production\\\\2021.Q1\\\\live_sources\\\\us_dat_pl_05262021084450.parquet',\n",
       " '\\\\\\\\hecate\\\\Insurance_US\\\\Product Development\\\\Product Management\\\\Global PPM\\\\Reporting\\\\Data Collection\\\\Production\\\\2021.Q1\\\\live_sources\\\\us_dat_pt_05202021121056.parquet',\n",
       " '\\\\\\\\hecate\\\\Insurance_US\\\\Product Development\\\\Product Management\\\\Global PPM\\\\Reporting\\\\Data Collection\\\\Production\\\\2021.Q1\\\\live_sources\\\\us_orig_au_05142021143611.json',\n",
       " '\\\\\\\\hecate\\\\Insurance_US\\\\Product Development\\\\Product Management\\\\Global PPM\\\\Reporting\\\\Data Collection\\\\Production\\\\2021.Q1\\\\live_sources\\\\us_orig_ca_05202021134242.parquet',\n",
       " '\\\\\\\\hecate\\\\Insurance_US\\\\Product Development\\\\Product Management\\\\Global PPM\\\\Reporting\\\\Data Collection\\\\Production\\\\2021.Q1\\\\live_sources\\\\us_orig_ch_05182021192455.parquet',\n",
       " '\\\\\\\\hecate\\\\Insurance_US\\\\Product Development\\\\Product Management\\\\Global PPM\\\\Reporting\\\\Data Collection\\\\Production\\\\2021.Q1\\\\live_sources\\\\us_orig_cz_05242021103837.parquet',\n",
       " '\\\\\\\\hecate\\\\Insurance_US\\\\Product Development\\\\Product Management\\\\Global PPM\\\\Reporting\\\\Data Collection\\\\Production\\\\2021.Q1\\\\live_sources\\\\us_orig_cz_05262021090243.parquet',\n",
       " '\\\\\\\\hecate\\\\Insurance_US\\\\Product Development\\\\Product Management\\\\Global PPM\\\\Reporting\\\\Data Collection\\\\Production\\\\2021.Q1\\\\live_sources\\\\us_orig_es_05202021105141.parquet',\n",
       " '\\\\\\\\hecate\\\\Insurance_US\\\\Product Development\\\\Product Management\\\\Global PPM\\\\Reporting\\\\Data Collection\\\\Production\\\\2021.Q1\\\\live_sources\\\\us_orig_gr_05252021115404.parquet',\n",
       " '\\\\\\\\hecate\\\\Insurance_US\\\\Product Development\\\\Product Management\\\\Global PPM\\\\Reporting\\\\Data Collection\\\\Production\\\\2021.Q1\\\\live_sources\\\\us_orig_it_05242021111520.parquet',\n",
       " '\\\\\\\\hecate\\\\Insurance_US\\\\Product Development\\\\Product Management\\\\Global PPM\\\\Reporting\\\\Data Collection\\\\Production\\\\2021.Q1\\\\live_sources\\\\us_orig_nl_05272021163119.parquet',\n",
       " '\\\\\\\\hecate\\\\Insurance_US\\\\Product Development\\\\Product Management\\\\Global PPM\\\\Reporting\\\\Data Collection\\\\Production\\\\2021.Q1\\\\live_sources\\\\us_orig_pl_05262021084450.parquet',\n",
       " '\\\\\\\\hecate\\\\Insurance_US\\\\Product Development\\\\Product Management\\\\Global PPM\\\\Reporting\\\\Data Collection\\\\Production\\\\2021.Q1\\\\live_sources\\\\us_orig_pt_05202021121055.parquet',\n",
       " '\\\\\\\\hecate\\\\Insurance_US\\\\Product Development\\\\Product Management\\\\Global PPM\\\\Reporting\\\\Data Collection\\\\Production\\\\2021.Q1\\\\live_sources\\\\us_survey_au_02172021174808.parquet',\n",
       " '\\\\\\\\hecate\\\\Insurance_US\\\\Product Development\\\\Product Management\\\\Global PPM\\\\Reporting\\\\Data Collection\\\\Production\\\\2021.Q1\\\\live_sources\\\\us_survey_au_05142021143750.parquet',\n",
       " '\\\\\\\\hecate\\\\Insurance_US\\\\Product Development\\\\Product Management\\\\Global PPM\\\\Reporting\\\\Data Collection\\\\Production\\\\2021.Q1\\\\live_sources\\\\us_survey_ca_05202021135610.parquet',\n",
       " '\\\\\\\\hecate\\\\Insurance_US\\\\Product Development\\\\Product Management\\\\Global PPM\\\\Reporting\\\\Data Collection\\\\Production\\\\2021.Q1\\\\live_sources\\\\us_survey_ch_05182021192905.parquet',\n",
       " '\\\\\\\\hecate\\\\Insurance_US\\\\Product Development\\\\Product Management\\\\Global PPM\\\\Reporting\\\\Data Collection\\\\Production\\\\2021.Q1\\\\live_sources\\\\us_survey_cz_05262021090440.parquet',\n",
       " '\\\\\\\\hecate\\\\Insurance_US\\\\Product Development\\\\Product Management\\\\Global PPM\\\\Reporting\\\\Data Collection\\\\Production\\\\2021.Q1\\\\live_sources\\\\us_survey_es_05202021105431.parquet',\n",
       " '\\\\\\\\hecate\\\\Insurance_US\\\\Product Development\\\\Product Management\\\\Global PPM\\\\Reporting\\\\Data Collection\\\\Production\\\\2021.Q1\\\\live_sources\\\\us_survey_gr_05252021115827.parquet',\n",
       " '\\\\\\\\hecate\\\\Insurance_US\\\\Product Development\\\\Product Management\\\\Global PPM\\\\Reporting\\\\Data Collection\\\\Production\\\\2021.Q1\\\\live_sources\\\\us_survey_it_05242021111759.parquet',\n",
       " '\\\\\\\\hecate\\\\Insurance_US\\\\Product Development\\\\Product Management\\\\Global PPM\\\\Reporting\\\\Data Collection\\\\Production\\\\2021.Q1\\\\live_sources\\\\us_survey_nl_05272021163630.parquet',\n",
       " '\\\\\\\\hecate\\\\Insurance_US\\\\Product Development\\\\Product Management\\\\Global PPM\\\\Reporting\\\\Data Collection\\\\Production\\\\2021.Q1\\\\live_sources\\\\us_survey_pl_05262021084708.parquet',\n",
       " '\\\\\\\\hecate\\\\Insurance_US\\\\Product Development\\\\Product Management\\\\Global PPM\\\\Reporting\\\\Data Collection\\\\Production\\\\2021.Q1\\\\live_sources\\\\us_survey_pt_05202021121304.parquet',\n",
       " '\\\\\\\\hecate\\\\Insurance_US\\\\Product Development\\\\Product Management\\\\Global PPM\\\\Reporting\\\\Data Collection\\\\Production\\\\2021.Q1\\\\live_sources\\\\us_vcomments_au_02172021174434.parquet',\n",
       " '\\\\\\\\hecate\\\\Insurance_US\\\\Product Development\\\\Product Management\\\\Global PPM\\\\Reporting\\\\Data Collection\\\\Production\\\\2021.Q1\\\\live_sources\\\\us_vcomments_au_02172021174440.parquet',\n",
       " '\\\\\\\\hecate\\\\Insurance_US\\\\Product Development\\\\Product Management\\\\Global PPM\\\\Reporting\\\\Data Collection\\\\Production\\\\2021.Q1\\\\live_sources\\\\us_vcomments_au_05142021143612.parquet',\n",
       " '\\\\\\\\hecate\\\\Insurance_US\\\\Product Development\\\\Product Management\\\\Global PPM\\\\Reporting\\\\Data Collection\\\\Production\\\\2021.Q1\\\\live_sources\\\\us_vcomments_au_05142021143617.parquet',\n",
       " '\\\\\\\\hecate\\\\Insurance_US\\\\Product Development\\\\Product Management\\\\Global PPM\\\\Reporting\\\\Data Collection\\\\Production\\\\2021.Q1\\\\live_sources\\\\us_vcomments_au_mnual_creation.parquet',\n",
       " '\\\\\\\\hecate\\\\Insurance_US\\\\Product Development\\\\Product Management\\\\Global PPM\\\\Reporting\\\\Data Collection\\\\Production\\\\2021.Q1\\\\live_sources\\\\us_vcomments_ca_05202021134242.parquet',\n",
       " '\\\\\\\\hecate\\\\Insurance_US\\\\Product Development\\\\Product Management\\\\Global PPM\\\\Reporting\\\\Data Collection\\\\Production\\\\2021.Q1\\\\live_sources\\\\us_vcomments_ch_05182021192455.parquet',\n",
       " '\\\\\\\\hecate\\\\Insurance_US\\\\Product Development\\\\Product Management\\\\Global PPM\\\\Reporting\\\\Data Collection\\\\Production\\\\2021.Q1\\\\live_sources\\\\us_vcomments_ch_05182021192456.parquet',\n",
       " '\\\\\\\\hecate\\\\Insurance_US\\\\Product Development\\\\Product Management\\\\Global PPM\\\\Reporting\\\\Data Collection\\\\Production\\\\2021.Q1\\\\live_sources\\\\us_vcomments_cz_05242021103837.parquet',\n",
       " '\\\\\\\\hecate\\\\Insurance_US\\\\Product Development\\\\Product Management\\\\Global PPM\\\\Reporting\\\\Data Collection\\\\Production\\\\2021.Q1\\\\live_sources\\\\us_vcomments_cz_05262021090243.parquet',\n",
       " '\\\\\\\\hecate\\\\Insurance_US\\\\Product Development\\\\Product Management\\\\Global PPM\\\\Reporting\\\\Data Collection\\\\Production\\\\2021.Q1\\\\live_sources\\\\us_vcomments_es_05202021105141.parquet',\n",
       " '\\\\\\\\hecate\\\\Insurance_US\\\\Product Development\\\\Product Management\\\\Global PPM\\\\Reporting\\\\Data Collection\\\\Production\\\\2021.Q1\\\\live_sources\\\\us_vcomments_es_05202021105142.parquet',\n",
       " '\\\\\\\\hecate\\\\Insurance_US\\\\Product Development\\\\Product Management\\\\Global PPM\\\\Reporting\\\\Data Collection\\\\Production\\\\2021.Q1\\\\live_sources\\\\us_vcomments_gr_05252021115404.parquet',\n",
       " '\\\\\\\\hecate\\\\Insurance_US\\\\Product Development\\\\Product Management\\\\Global PPM\\\\Reporting\\\\Data Collection\\\\Production\\\\2021.Q1\\\\live_sources\\\\us_vcomments_it_05242021111521.parquet',\n",
       " '\\\\\\\\hecate\\\\Insurance_US\\\\Product Development\\\\Product Management\\\\Global PPM\\\\Reporting\\\\Data Collection\\\\Production\\\\2021.Q1\\\\live_sources\\\\us_vcomments_nl_05272021163120.parquet',\n",
       " '\\\\\\\\hecate\\\\Insurance_US\\\\Product Development\\\\Product Management\\\\Global PPM\\\\Reporting\\\\Data Collection\\\\Production\\\\2021.Q1\\\\live_sources\\\\us_vcomments_pl_05262021084450.parquet',\n",
       " '\\\\\\\\hecate\\\\Insurance_US\\\\Product Development\\\\Product Management\\\\Global PPM\\\\Reporting\\\\Data Collection\\\\Production\\\\2021.Q1\\\\live_sources\\\\us_vcomments_pt_05202021121056.parquet',\n",
       " '\\\\\\\\hecate\\\\Insurance_US\\\\Product Development\\\\Product Management\\\\Global PPM\\\\Reporting\\\\Data Collection\\\\Production\\\\2021.Q1\\\\live_sources\\\\us_vdf_au_man42021143613.json',\n",
       " '\\\\\\\\hecate\\\\Insurance_US\\\\Product Development\\\\Product Management\\\\Global PPM\\\\Reporting\\\\Data Collection\\\\Production\\\\2021.Q1\\\\live_sources\\\\us_vdf_ca_05202021134242.json',\n",
       " '\\\\\\\\hecate\\\\Insurance_US\\\\Product Development\\\\Product Management\\\\Global PPM\\\\Reporting\\\\Data Collection\\\\Production\\\\2021.Q1\\\\live_sources\\\\us_vdf_ch_05182021192456.json',\n",
       " '\\\\\\\\hecate\\\\Insurance_US\\\\Product Development\\\\Product Management\\\\Global PPM\\\\Reporting\\\\Data Collection\\\\Production\\\\2021.Q1\\\\live_sources\\\\us_vdf_cz_05242021103837.json',\n",
       " '\\\\\\\\hecate\\\\Insurance_US\\\\Product Development\\\\Product Management\\\\Global PPM\\\\Reporting\\\\Data Collection\\\\Production\\\\2021.Q1\\\\live_sources\\\\us_vdf_cz_05262021090243.json',\n",
       " '\\\\\\\\hecate\\\\Insurance_US\\\\Product Development\\\\Product Management\\\\Global PPM\\\\Reporting\\\\Data Collection\\\\Production\\\\2021.Q1\\\\live_sources\\\\us_vdf_es_05202021105142.json',\n",
       " '\\\\\\\\hecate\\\\Insurance_US\\\\Product Development\\\\Product Management\\\\Global PPM\\\\Reporting\\\\Data Collection\\\\Production\\\\2021.Q1\\\\live_sources\\\\us_vdf_gr_05252021115404.json',\n",
       " '\\\\\\\\hecate\\\\Insurance_US\\\\Product Development\\\\Product Management\\\\Global PPM\\\\Reporting\\\\Data Collection\\\\Production\\\\2021.Q1\\\\live_sources\\\\us_vdf_it_05242021111521.json',\n",
       " '\\\\\\\\hecate\\\\Insurance_US\\\\Product Development\\\\Product Management\\\\Global PPM\\\\Reporting\\\\Data Collection\\\\Production\\\\2021.Q1\\\\live_sources\\\\us_vdf_nl_05272021163120.json',\n",
       " '\\\\\\\\hecate\\\\Insurance_US\\\\Product Development\\\\Product Management\\\\Global PPM\\\\Reporting\\\\Data Collection\\\\Production\\\\2021.Q1\\\\live_sources\\\\us_vdf_pl_05262021084450.json',\n",
       " '\\\\\\\\hecate\\\\Insurance_US\\\\Product Development\\\\Product Management\\\\Global PPM\\\\Reporting\\\\Data Collection\\\\Production\\\\2021.Q1\\\\live_sources\\\\us_vdf_pt_05202021121056.json']"
      ]
     },
     "execution_count": 11,
     "metadata": {},
     "output_type": "execute_result"
    }
   ],
   "source": [
    "prelist_jfiles = glob.glob(os.path.join(ls_path, 'us_vcomments_*.json'))\n",
    "prelist_pfiles = glob.glob(os.path.join(ls_path, 'us_vcomments_*.parquet'))\n",
    "\n",
    "prelist_files = []\n",
    "    \n",
    "for i in prelist_jfiles : prelist_files.append(i)    \n",
    "for i in prelist_pfiles : prelist_files.append(i)\n",
    "\n",
    "\n",
    "for idx, i in enumerate(prelist_jfiles):\n",
    "    prelist_jfiles[idx] = prelist_jfiles[idx][-23:-19]\n",
    "    prelist_jfiles[idx] = prelist_jfiles[idx].replace('_','')\n",
    "\n",
    "for idx, i in enumerate(prelist_pfiles):\n",
    "    prelist_pfiles[idx] = prelist_pfiles[idx][-26:-22]\n",
    "    prelist_pfiles[idx] = prelist_pfiles[idx].replace('_','')\n",
    "\n",
    "list_bus = []\n",
    "    \n",
    "for i in prelist_jfiles : list_bus.append(i)    \n",
    "for i in prelist_pfiles : list_bus.append(i)\n",
    "\n",
    "\n",
    "BU_set = set(list_bus)\n",
    "BU_list = list(BU_set)\n",
    "\n",
    "files_sources\n"
   ]
  },
  {
   "cell_type": "code",
   "execution_count": 12,
   "id": "a37f1d82",
   "metadata": {
    "execution": {
     "iopub.execute_input": "2021-06-01T22:37:30.461314Z",
     "iopub.status.busy": "2021-06-01T22:37:30.446309Z",
     "iopub.status.idle": "2021-06-01T22:43:15.696324Z",
     "shell.execute_reply": "2021-06-01T22:43:15.697323Z"
    },
    "papermill": {
     "duration": 345.508681,
     "end_time": "2021-06-01T22:43:15.697995",
     "exception": false,
     "start_time": "2021-06-01T22:37:30.189314",
     "status": "completed"
    },
    "pycharm": {
     "name": "#%%\n"
    },
    "tags": []
   },
   "outputs": [
    {
     "name": "stdout",
     "output_type": "stream",
     "text": [
      "_nl\n",
      "['\\\\\\\\hecate\\\\Insurance_US\\\\Product Development\\\\Product Management\\\\Global PPM\\\\Reporting\\\\Data Collection\\\\Production\\\\2021.Q1\\\\live_sources\\\\us_orig_nl_05272021163119.parquet']\n"
     ]
    },
    {
     "name": "stdout",
     "output_type": "stream",
     "text": [
      "_nl\n",
      "['\\\\\\\\hecate\\\\Insurance_US\\\\Product Development\\\\Product Management\\\\Global PPM\\\\Reporting\\\\Data Collection\\\\Production\\\\2021.Q1\\\\live_sources\\\\us_dat_nl_05272021163120.parquet']\n"
     ]
    },
    {
     "name": "stdout",
     "output_type": "stream",
     "text": [
      "_nl\n",
      "['\\\\\\\\hecate\\\\Insurance_US\\\\Product Development\\\\Product Management\\\\Global PPM\\\\Reporting\\\\Data Collection\\\\Production\\\\2021.Q1\\\\live_sources\\\\us_vcomments_nl_05272021163120.parquet']\n"
     ]
    },
    {
     "name": "stdout",
     "output_type": "stream",
     "text": [
      "_nl\n",
      "['\\\\\\\\hecate\\\\Insurance_US\\\\Product Development\\\\Product Management\\\\Global PPM\\\\Reporting\\\\Data Collection\\\\Production\\\\2021.Q1\\\\live_sources\\\\us_survey_nl_05272021163630.parquet']\n"
     ]
    },
    {
     "name": "stdout",
     "output_type": "stream",
     "text": [
      "Original Data Set\n"
     ]
    },
    {
     "name": "stdout",
     "output_type": "stream",
     "text": [
      "Final Data Set\n"
     ]
    },
    {
     "name": "stdout",
     "output_type": "stream",
     "text": [
      "Validations\n"
     ]
    },
    {
     "name": "stdout",
     "output_type": "stream",
     "text": [
      "Survey\n"
     ]
    },
    {
     "name": "stdout",
     "output_type": "stream",
     "text": [
      "_au\n",
      "['\\\\\\\\hecate\\\\Insurance_US\\\\Product Development\\\\Product Management\\\\Global PPM\\\\Reporting\\\\Data Collection\\\\Production\\\\2021.Q1\\\\live_sources\\\\us_orig_au_05142021143611.json']\n"
     ]
    },
    {
     "name": "stdout",
     "output_type": "stream",
     "text": [
      "_au\n",
      "['\\\\\\\\hecate\\\\Insurance_US\\\\Product Development\\\\Product Management\\\\Global PPM\\\\Reporting\\\\Data Collection\\\\Production\\\\2021.Q1\\\\live_sources\\\\us_dat_au_05142021143612.parquet']\n"
     ]
    },
    {
     "name": "stdout",
     "output_type": "stream",
     "text": [
      "_au\n",
      "['\\\\\\\\hecate\\\\Insurance_US\\\\Product Development\\\\Product Management\\\\Global PPM\\\\Reporting\\\\Data Collection\\\\Production\\\\2021.Q1\\\\live_sources\\\\us_vcomments_au_02172021174434.parquet', '\\\\\\\\hecate\\\\Insurance_US\\\\Product Development\\\\Product Management\\\\Global PPM\\\\Reporting\\\\Data Collection\\\\Production\\\\2021.Q1\\\\live_sources\\\\us_vcomments_au_02172021174440.parquet', '\\\\\\\\hecate\\\\Insurance_US\\\\Product Development\\\\Product Management\\\\Global PPM\\\\Reporting\\\\Data Collection\\\\Production\\\\2021.Q1\\\\live_sources\\\\us_vcomments_au_05142021143612.parquet', '\\\\\\\\hecate\\\\Insurance_US\\\\Product Development\\\\Product Management\\\\Global PPM\\\\Reporting\\\\Data Collection\\\\Production\\\\2021.Q1\\\\live_sources\\\\us_vcomments_au_05142021143617.parquet', '\\\\\\\\hecate\\\\Insurance_US\\\\Product Development\\\\Product Management\\\\Global PPM\\\\Reporting\\\\Data Collection\\\\Production\\\\2021.Q1\\\\live_sources\\\\us_vcomments_au_mnual_creation.parquet']\n"
     ]
    },
    {
     "name": "stdout",
     "output_type": "stream",
     "text": [
      "_au\n",
      "['\\\\\\\\hecate\\\\Insurance_US\\\\Product Development\\\\Product Management\\\\Global PPM\\\\Reporting\\\\Data Collection\\\\Production\\\\2021.Q1\\\\live_sources\\\\us_survey_au_02172021174808.parquet', '\\\\\\\\hecate\\\\Insurance_US\\\\Product Development\\\\Product Management\\\\Global PPM\\\\Reporting\\\\Data Collection\\\\Production\\\\2021.Q1\\\\live_sources\\\\us_survey_au_05142021143750.parquet']\n"
     ]
    },
    {
     "name": "stdout",
     "output_type": "stream",
     "text": [
      "Original Data Set\n"
     ]
    },
    {
     "name": "stdout",
     "output_type": "stream",
     "text": [
      "Final Data Set\n"
     ]
    },
    {
     "name": "stdout",
     "output_type": "stream",
     "text": [
      "Validations\n"
     ]
    },
    {
     "name": "stdout",
     "output_type": "stream",
     "text": [
      "Survey\n"
     ]
    },
    {
     "name": "stdout",
     "output_type": "stream",
     "text": [
      "_es\n",
      "['\\\\\\\\hecate\\\\Insurance_US\\\\Product Development\\\\Product Management\\\\Global PPM\\\\Reporting\\\\Data Collection\\\\Production\\\\2021.Q1\\\\live_sources\\\\us_orig_es_05202021105141.parquet']\n"
     ]
    },
    {
     "name": "stdout",
     "output_type": "stream",
     "text": [
      "_es\n",
      "['\\\\\\\\hecate\\\\Insurance_US\\\\Product Development\\\\Product Management\\\\Global PPM\\\\Reporting\\\\Data Collection\\\\Production\\\\2021.Q1\\\\live_sources\\\\us_dat_es_05202021105141.parquet']\n"
     ]
    },
    {
     "name": "stdout",
     "output_type": "stream",
     "text": [
      "_es\n",
      "['\\\\\\\\hecate\\\\Insurance_US\\\\Product Development\\\\Product Management\\\\Global PPM\\\\Reporting\\\\Data Collection\\\\Production\\\\2021.Q1\\\\live_sources\\\\us_vcomments_es_05202021105141.parquet', '\\\\\\\\hecate\\\\Insurance_US\\\\Product Development\\\\Product Management\\\\Global PPM\\\\Reporting\\\\Data Collection\\\\Production\\\\2021.Q1\\\\live_sources\\\\us_vcomments_es_05202021105142.parquet']\n"
     ]
    },
    {
     "name": "stdout",
     "output_type": "stream",
     "text": [
      "_es\n",
      "['\\\\\\\\hecate\\\\Insurance_US\\\\Product Development\\\\Product Management\\\\Global PPM\\\\Reporting\\\\Data Collection\\\\Production\\\\2021.Q1\\\\live_sources\\\\us_survey_es_05202021105431.parquet']\n"
     ]
    },
    {
     "name": "stdout",
     "output_type": "stream",
     "text": [
      "Original Data Set\n"
     ]
    },
    {
     "name": "stdout",
     "output_type": "stream",
     "text": [
      "Final Data Set\n"
     ]
    },
    {
     "name": "stdout",
     "output_type": "stream",
     "text": [
      "Validations\n"
     ]
    },
    {
     "name": "stdout",
     "output_type": "stream",
     "text": [
      "Survey\n"
     ]
    },
    {
     "name": "stdout",
     "output_type": "stream",
     "text": [
      "_it\n",
      "['\\\\\\\\hecate\\\\Insurance_US\\\\Product Development\\\\Product Management\\\\Global PPM\\\\Reporting\\\\Data Collection\\\\Production\\\\2021.Q1\\\\live_sources\\\\us_orig_it_05242021111520.parquet']\n"
     ]
    },
    {
     "name": "stdout",
     "output_type": "stream",
     "text": [
      "_it\n",
      "['\\\\\\\\hecate\\\\Insurance_US\\\\Product Development\\\\Product Management\\\\Global PPM\\\\Reporting\\\\Data Collection\\\\Production\\\\2021.Q1\\\\live_sources\\\\us_dat_it_05242021111520.parquet']\n"
     ]
    },
    {
     "name": "stdout",
     "output_type": "stream",
     "text": [
      "_it\n",
      "['\\\\\\\\hecate\\\\Insurance_US\\\\Product Development\\\\Product Management\\\\Global PPM\\\\Reporting\\\\Data Collection\\\\Production\\\\2021.Q1\\\\live_sources\\\\us_vcomments_it_05242021111521.parquet']\n"
     ]
    },
    {
     "name": "stdout",
     "output_type": "stream",
     "text": [
      "_it\n",
      "['\\\\\\\\hecate\\\\Insurance_US\\\\Product Development\\\\Product Management\\\\Global PPM\\\\Reporting\\\\Data Collection\\\\Production\\\\2021.Q1\\\\live_sources\\\\us_survey_it_05242021111759.parquet']\n"
     ]
    },
    {
     "name": "stdout",
     "output_type": "stream",
     "text": [
      "Original Data Set\n"
     ]
    },
    {
     "name": "stdout",
     "output_type": "stream",
     "text": [
      "Final Data Set\n"
     ]
    },
    {
     "name": "stdout",
     "output_type": "stream",
     "text": [
      "Validations\n"
     ]
    },
    {
     "name": "stdout",
     "output_type": "stream",
     "text": [
      "Survey\n"
     ]
    },
    {
     "name": "stdout",
     "output_type": "stream",
     "text": [
      "_gr\n",
      "['\\\\\\\\hecate\\\\Insurance_US\\\\Product Development\\\\Product Management\\\\Global PPM\\\\Reporting\\\\Data Collection\\\\Production\\\\2021.Q1\\\\live_sources\\\\us_orig_gr_05252021115404.parquet']\n"
     ]
    },
    {
     "name": "stdout",
     "output_type": "stream",
     "text": [
      "_gr\n",
      "['\\\\\\\\hecate\\\\Insurance_US\\\\Product Development\\\\Product Management\\\\Global PPM\\\\Reporting\\\\Data Collection\\\\Production\\\\2021.Q1\\\\live_sources\\\\us_dat_gr_05252021115404.parquet']\n"
     ]
    },
    {
     "name": "stdout",
     "output_type": "stream",
     "text": [
      "_gr\n",
      "['\\\\\\\\hecate\\\\Insurance_US\\\\Product Development\\\\Product Management\\\\Global PPM\\\\Reporting\\\\Data Collection\\\\Production\\\\2021.Q1\\\\live_sources\\\\us_vcomments_gr_05252021115404.parquet']\n"
     ]
    },
    {
     "name": "stdout",
     "output_type": "stream",
     "text": [
      "_gr\n",
      "['\\\\\\\\hecate\\\\Insurance_US\\\\Product Development\\\\Product Management\\\\Global PPM\\\\Reporting\\\\Data Collection\\\\Production\\\\2021.Q1\\\\live_sources\\\\us_survey_gr_05252021115827.parquet']\n"
     ]
    },
    {
     "name": "stdout",
     "output_type": "stream",
     "text": [
      "Original Data Set\n"
     ]
    },
    {
     "name": "stdout",
     "output_type": "stream",
     "text": [
      "Final Data Set\n"
     ]
    },
    {
     "name": "stdout",
     "output_type": "stream",
     "text": [
      "Validations\n"
     ]
    },
    {
     "name": "stdout",
     "output_type": "stream",
     "text": [
      "Survey\n"
     ]
    },
    {
     "name": "stdout",
     "output_type": "stream",
     "text": [
      "_pt\n",
      "['\\\\\\\\hecate\\\\Insurance_US\\\\Product Development\\\\Product Management\\\\Global PPM\\\\Reporting\\\\Data Collection\\\\Production\\\\2021.Q1\\\\live_sources\\\\us_orig_pt_05202021121055.parquet']\n"
     ]
    },
    {
     "name": "stdout",
     "output_type": "stream",
     "text": [
      "_pt\n",
      "['\\\\\\\\hecate\\\\Insurance_US\\\\Product Development\\\\Product Management\\\\Global PPM\\\\Reporting\\\\Data Collection\\\\Production\\\\2021.Q1\\\\live_sources\\\\us_dat_pt_05202021121056.parquet']\n"
     ]
    },
    {
     "name": "stdout",
     "output_type": "stream",
     "text": [
      "_pt\n",
      "['\\\\\\\\hecate\\\\Insurance_US\\\\Product Development\\\\Product Management\\\\Global PPM\\\\Reporting\\\\Data Collection\\\\Production\\\\2021.Q1\\\\live_sources\\\\us_vcomments_pt_05202021121056.parquet']\n"
     ]
    },
    {
     "name": "stdout",
     "output_type": "stream",
     "text": [
      "_pt\n",
      "['\\\\\\\\hecate\\\\Insurance_US\\\\Product Development\\\\Product Management\\\\Global PPM\\\\Reporting\\\\Data Collection\\\\Production\\\\2021.Q1\\\\live_sources\\\\us_survey_pt_05202021121304.parquet']\n"
     ]
    },
    {
     "name": "stdout",
     "output_type": "stream",
     "text": [
      "Original Data Set\n"
     ]
    },
    {
     "name": "stdout",
     "output_type": "stream",
     "text": [
      "Final Data Set\n"
     ]
    },
    {
     "name": "stdout",
     "output_type": "stream",
     "text": [
      "Validations\n"
     ]
    },
    {
     "name": "stdout",
     "output_type": "stream",
     "text": [
      "Survey\n"
     ]
    },
    {
     "name": "stdout",
     "output_type": "stream",
     "text": [
      "_pl\n",
      "['\\\\\\\\hecate\\\\Insurance_US\\\\Product Development\\\\Product Management\\\\Global PPM\\\\Reporting\\\\Data Collection\\\\Production\\\\2021.Q1\\\\live_sources\\\\us_orig_pl_05262021084450.parquet']\n"
     ]
    },
    {
     "name": "stdout",
     "output_type": "stream",
     "text": [
      "_pl\n",
      "['\\\\\\\\hecate\\\\Insurance_US\\\\Product Development\\\\Product Management\\\\Global PPM\\\\Reporting\\\\Data Collection\\\\Production\\\\2021.Q1\\\\live_sources\\\\us_dat_pl_05262021084450.parquet']\n"
     ]
    },
    {
     "name": "stdout",
     "output_type": "stream",
     "text": [
      "_pl\n",
      "['\\\\\\\\hecate\\\\Insurance_US\\\\Product Development\\\\Product Management\\\\Global PPM\\\\Reporting\\\\Data Collection\\\\Production\\\\2021.Q1\\\\live_sources\\\\us_vcomments_pl_05262021084450.parquet']\n"
     ]
    },
    {
     "name": "stdout",
     "output_type": "stream",
     "text": [
      "_pl\n",
      "['\\\\\\\\hecate\\\\Insurance_US\\\\Product Development\\\\Product Management\\\\Global PPM\\\\Reporting\\\\Data Collection\\\\Production\\\\2021.Q1\\\\live_sources\\\\us_survey_pl_05262021084708.parquet']\n"
     ]
    },
    {
     "name": "stdout",
     "output_type": "stream",
     "text": [
      "Original Data Set\n"
     ]
    },
    {
     "name": "stdout",
     "output_type": "stream",
     "text": [
      "Final Data Set\n"
     ]
    },
    {
     "name": "stdout",
     "output_type": "stream",
     "text": [
      "Validations\n"
     ]
    },
    {
     "name": "stdout",
     "output_type": "stream",
     "text": [
      "Survey\n"
     ]
    },
    {
     "name": "stdout",
     "output_type": "stream",
     "text": [
      "_ca\n",
      "['\\\\\\\\hecate\\\\Insurance_US\\\\Product Development\\\\Product Management\\\\Global PPM\\\\Reporting\\\\Data Collection\\\\Production\\\\2021.Q1\\\\live_sources\\\\us_orig_ca_05202021134242.parquet']\n"
     ]
    },
    {
     "name": "stdout",
     "output_type": "stream",
     "text": [
      "_ca\n",
      "['\\\\\\\\hecate\\\\Insurance_US\\\\Product Development\\\\Product Management\\\\Global PPM\\\\Reporting\\\\Data Collection\\\\Production\\\\2021.Q1\\\\live_sources\\\\us_dat_ca_05202021134242.parquet']\n"
     ]
    },
    {
     "name": "stdout",
     "output_type": "stream",
     "text": [
      "_ca\n",
      "['\\\\\\\\hecate\\\\Insurance_US\\\\Product Development\\\\Product Management\\\\Global PPM\\\\Reporting\\\\Data Collection\\\\Production\\\\2021.Q1\\\\live_sources\\\\us_vcomments_ca_05202021134242.parquet']\n"
     ]
    },
    {
     "name": "stdout",
     "output_type": "stream",
     "text": [
      "_ca\n",
      "['\\\\\\\\hecate\\\\Insurance_US\\\\Product Development\\\\Product Management\\\\Global PPM\\\\Reporting\\\\Data Collection\\\\Production\\\\2021.Q1\\\\live_sources\\\\us_survey_ca_05202021135610.parquet']\n"
     ]
    },
    {
     "name": "stdout",
     "output_type": "stream",
     "text": [
      "Original Data Set\n"
     ]
    },
    {
     "name": "stdout",
     "output_type": "stream",
     "text": [
      "Final Data Set\n"
     ]
    },
    {
     "name": "stdout",
     "output_type": "stream",
     "text": [
      "Validations\n"
     ]
    },
    {
     "name": "stdout",
     "output_type": "stream",
     "text": [
      "Survey\n"
     ]
    },
    {
     "name": "stdout",
     "output_type": "stream",
     "text": [
      "_cz\n",
      "['\\\\\\\\hecate\\\\Insurance_US\\\\Product Development\\\\Product Management\\\\Global PPM\\\\Reporting\\\\Data Collection\\\\Production\\\\2021.Q1\\\\live_sources\\\\us_orig_cz_05242021103837.parquet', '\\\\\\\\hecate\\\\Insurance_US\\\\Product Development\\\\Product Management\\\\Global PPM\\\\Reporting\\\\Data Collection\\\\Production\\\\2021.Q1\\\\live_sources\\\\us_orig_cz_05262021090243.parquet']\n"
     ]
    },
    {
     "name": "stdout",
     "output_type": "stream",
     "text": [
      "_cz\n",
      "['\\\\\\\\hecate\\\\Insurance_US\\\\Product Development\\\\Product Management\\\\Global PPM\\\\Reporting\\\\Data Collection\\\\Production\\\\2021.Q1\\\\live_sources\\\\us_dat_cz_05262021090243.parquet']\n"
     ]
    },
    {
     "name": "stdout",
     "output_type": "stream",
     "text": [
      "_cz\n",
      "['\\\\\\\\hecate\\\\Insurance_US\\\\Product Development\\\\Product Management\\\\Global PPM\\\\Reporting\\\\Data Collection\\\\Production\\\\2021.Q1\\\\live_sources\\\\us_vcomments_cz_05242021103837.parquet', '\\\\\\\\hecate\\\\Insurance_US\\\\Product Development\\\\Product Management\\\\Global PPM\\\\Reporting\\\\Data Collection\\\\Production\\\\2021.Q1\\\\live_sources\\\\us_vcomments_cz_05262021090243.parquet']\n"
     ]
    },
    {
     "name": "stdout",
     "output_type": "stream",
     "text": [
      "_cz\n",
      "['\\\\\\\\hecate\\\\Insurance_US\\\\Product Development\\\\Product Management\\\\Global PPM\\\\Reporting\\\\Data Collection\\\\Production\\\\2021.Q1\\\\live_sources\\\\us_survey_cz_05262021090440.parquet']\n"
     ]
    },
    {
     "name": "stdout",
     "output_type": "stream",
     "text": [
      "Original Data Set\n"
     ]
    },
    {
     "name": "stdout",
     "output_type": "stream",
     "text": [
      "Final Data Set\n"
     ]
    },
    {
     "name": "stdout",
     "output_type": "stream",
     "text": [
      "Validations\n"
     ]
    },
    {
     "name": "stdout",
     "output_type": "stream",
     "text": [
      "Survey\n"
     ]
    },
    {
     "name": "stdout",
     "output_type": "stream",
     "text": [
      "_ch\n",
      "['\\\\\\\\hecate\\\\Insurance_US\\\\Product Development\\\\Product Management\\\\Global PPM\\\\Reporting\\\\Data Collection\\\\Production\\\\2021.Q1\\\\live_sources\\\\us_orig_ch_05182021192455.parquet']\n"
     ]
    },
    {
     "name": "stdout",
     "output_type": "stream",
     "text": [
      "_ch\n",
      "['\\\\\\\\hecate\\\\Insurance_US\\\\Product Development\\\\Product Management\\\\Global PPM\\\\Reporting\\\\Data Collection\\\\Production\\\\2021.Q1\\\\live_sources\\\\us_dat_ch_05182021192455.parquet']\n"
     ]
    },
    {
     "name": "stdout",
     "output_type": "stream",
     "text": [
      "_ch\n",
      "['\\\\\\\\hecate\\\\Insurance_US\\\\Product Development\\\\Product Management\\\\Global PPM\\\\Reporting\\\\Data Collection\\\\Production\\\\2021.Q1\\\\live_sources\\\\us_vcomments_ch_05182021192455.parquet', '\\\\\\\\hecate\\\\Insurance_US\\\\Product Development\\\\Product Management\\\\Global PPM\\\\Reporting\\\\Data Collection\\\\Production\\\\2021.Q1\\\\live_sources\\\\us_vcomments_ch_05182021192456.parquet']\n"
     ]
    },
    {
     "name": "stdout",
     "output_type": "stream",
     "text": [
      "_ch\n",
      "['\\\\\\\\hecate\\\\Insurance_US\\\\Product Development\\\\Product Management\\\\Global PPM\\\\Reporting\\\\Data Collection\\\\Production\\\\2021.Q1\\\\live_sources\\\\us_survey_ch_05182021192905.parquet']\n"
     ]
    },
    {
     "name": "stdout",
     "output_type": "stream",
     "text": [
      "Original Data Set\n"
     ]
    },
    {
     "name": "stdout",
     "output_type": "stream",
     "text": [
      "Final Data Set\n"
     ]
    },
    {
     "name": "stdout",
     "output_type": "stream",
     "text": [
      "Validations\n"
     ]
    },
    {
     "name": "stdout",
     "output_type": "stream",
     "text": [
      "Survey\n"
     ]
    }
   ],
   "source": [
    "\n",
    "datafiles = [ \"us_orig\", \"us_dat\", \"us_vcomment\", \"us_survey\", ]\n",
    "\n",
    "for b in BU_list:\n",
    "    \n",
    "    latest_data_sets = []\n",
    "\n",
    "    for i in datafiles:\n",
    "        \n",
    "        print(f\"_{b.lower()}\")\n",
    "        list_files = list(filter(lambda x: f\"{i}\" in  x and f\"_{b.lower()}_\" in  x  , files_sources))  \n",
    "        print(list_files)\n",
    "        recent_vers = max(list_files, key=os.path.getctime)\n",
    "        try:\n",
    "            latest_data_sets.append([f'{i}',pd.read_json(recent_vers, orient=\"table\")])\n",
    "\n",
    "        except UnicodeDecodeError:\n",
    "            latest_data_sets.append([f'{i}',pd.read_parquet(recent_vers, engine=\"pyarrow\")])\n",
    "\n",
    "    data_set_dict = {}\n",
    "    data_set_dict[\"Original Data Set\"] = latest_data_sets[0][1]\n",
    "    data_set_dict[\"Final Data Set\"] = latest_data_sets[1][1]\n",
    "    data_set_dict[\"Validations\"] = latest_data_sets[2][1]\n",
    "    data_set_dict[\"Survey\"] = latest_data_sets[3][1].T.reset_index().rename(columns={'index':'Question Name', 0 :'Selection', 1:'Optional Response',2:'timestamp'})\n",
    "\n",
    "    nl.to_excel_ms(dfs=data_set_dict, filename=os.path.join(rep_path, f'Survey and Comments_{b}.xlsx'))\n"
   ]
  },
  {
   "cell_type": "code",
   "execution_count": 13,
   "id": "58e85991",
   "metadata": {
    "execution": {
     "iopub.execute_input": "2021-06-01T22:43:16.365775Z",
     "iopub.status.busy": "2021-06-01T22:43:16.362773Z",
     "iopub.status.idle": "2021-06-01T22:43:16.370773Z",
     "shell.execute_reply": "2021-06-01T22:43:16.371773Z"
    },
    "papermill": {
     "duration": 0.323336,
     "end_time": "2021-06-01T22:43:16.372773",
     "exception": false,
     "start_time": "2021-06-01T22:43:16.049437",
     "status": "completed"
    },
    "tags": []
   },
   "outputs": [],
   "source": [
    "### Open the folder with the documents saved"
   ]
  },
  {
   "cell_type": "code",
   "execution_count": 14,
   "id": "1c30ae10",
   "metadata": {
    "execution": {
     "iopub.execute_input": "2021-06-01T22:43:16.973403Z",
     "iopub.status.busy": "2021-06-01T22:43:16.971403Z",
     "iopub.status.idle": "2021-06-01T22:43:17.195471Z",
     "shell.execute_reply": "2021-06-01T22:43:17.196483Z"
    },
    "papermill": {
     "duration": 0.529192,
     "end_time": "2021-06-01T22:43:17.196483",
     "exception": false,
     "start_time": "2021-06-01T22:43:16.667291",
     "status": "completed"
    },
    "tags": []
   },
   "outputs": [],
   "source": [
    "os.startfile(rep_path)"
   ]
  },
  {
   "cell_type": "code",
   "execution_count": null,
   "id": "0b93fc4a",
   "metadata": {
    "papermill": {
     "duration": 0.288347,
     "end_time": "2021-06-01T22:43:17.779025",
     "exception": false,
     "start_time": "2021-06-01T22:43:17.490678",
     "status": "completed"
    },
    "tags": []
   },
   "outputs": [],
   "source": []
  }
 ],
 "metadata": {
  "celltoolbar": "Tags",
  "kernelspec": {
   "display_name": "Python 3",
   "language": "python",
   "name": "python3"
  },
  "language_info": {
   "codemirror_mode": {
    "name": "ipython",
    "version": 3
   },
   "file_extension": ".py",
   "mimetype": "text/x-python",
   "name": "python",
   "nbconvert_exporter": "python",
   "pygments_lexer": "ipython3",
   "version": "3.7.6"
  },
  "papermill": {
   "default_parameters": {},
   "duration": 380.236156,
   "end_time": "2021-06-01T22:43:20.258302",
   "environment_variables": {},
   "exception": null,
   "input_path": "reporting/Make Survey and Comments Reports.ipynb",
   "output_path": "//hecate/Insurance_US/Product Development/Product Management/Global PPM/Reporting/Data Collection/Pipeline Reporting Scripts/GPMpipeline/instances/2021.Q1\\reporting\\Make Survey and Comments Reports06012021182709--live, add AT.ipynb",
   "parameters": {
    "commit_message": "Live run, added AT, bad file name, rerun.",
    "inst_datetime": "06012021182709",
    "percode": "2021.Q1",
    "run_control": 1
   },
   "start_time": "2021-06-01T22:37:00.022146",
   "version": "2.3.3"
  }
 },
 "nbformat": 4,
 "nbformat_minor": 5
}