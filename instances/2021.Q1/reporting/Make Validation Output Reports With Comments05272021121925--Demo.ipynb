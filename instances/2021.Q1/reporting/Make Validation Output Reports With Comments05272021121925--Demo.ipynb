{
 "cells": [
  {
   "cell_type": "markdown",
   "id": "c8c6abe4",
   "metadata": {
    "tags": [
     "papermill-error-cell-tag"
    ]
   },
   "source": [
    "<span style=\"color:red; font-family:Helvetica Neue, Helvetica, Arial, sans-serif; font-size:2em;\">An Exception was encountered at '<a href=\"#papermill-error-cell\">In [15]</a>'.</span>"
   ]
  },
  {
   "cell_type": "markdown",
   "id": "3af36e4f",
   "metadata": {
    "papermill": {
     "duration": 0.267003,
     "end_time": "2021-05-27T16:24:53.790590",
     "exception": false,
     "start_time": "2021-05-27T16:24:53.523587",
     "status": "completed"
    },
    "tags": []
   },
   "source": [
    "<img src=\"../images/AzPTravel_PPM.png\">"
   ]
  },
  {
   "cell_type": "markdown",
   "id": "4f0f9d1c",
   "metadata": {
    "papermill": {
     "duration": 0.226999,
     "end_time": "2021-05-27T16:24:54.240774",
     "exception": false,
     "start_time": "2021-05-27T16:24:54.013775",
     "status": "completed"
    },
    "tags": []
   },
   "source": [
    "## Validation Report Creation Script\n",
    "\n",
    "#### This script reads the output of the \"us_vdf*\" and \"us_vcomments*\" data files and summarizes  them into a report: Validations Review _{BU}.xlsx\n",
    "\n",
    "#### When finished, it will be able to be run on its own or as part of the pipeline wherever called (ie from a papermill script or other user inteface).\n"
   ]
  },
  {
   "cell_type": "markdown",
   "id": "6de3cffc",
   "metadata": {
    "papermill": {
     "duration": 0.213934,
     "end_time": "2021-05-27T16:24:54.707735",
     "exception": false,
     "start_time": "2021-05-27T16:24:54.493801",
     "status": "completed"
    },
    "tags": []
   },
   "source": [
    "### User Variables\n",
    "- These are overwritten if inherited from run_control.ipynb.\n",
    "- Feel Free to reset them for a manual run if you like\n",
    "- Do not save without percode = \"-f\""
   ]
  },
  {
   "cell_type": "code",
   "execution_count": 1,
   "id": "a8328164",
   "metadata": {
    "execution": {
     "iopub.execute_input": "2021-05-27T16:24:55.197258Z",
     "iopub.status.busy": "2021-05-27T16:24:55.196258Z",
     "iopub.status.idle": "2021-05-27T16:24:55.202253Z",
     "shell.execute_reply": "2021-05-27T16:24:55.203253Z"
    },
    "papermill": {
     "duration": 0.255525,
     "end_time": "2021-05-27T16:24:55.203253",
     "exception": false,
     "start_time": "2021-05-27T16:24:54.947728",
     "status": "completed"
    },
    "tags": [
     "parameters"
    ]
   },
   "outputs": [],
   "source": [
    "commit_message = \"Development and testing.\"\n",
    "# Give a brief reason for the run.\n",
    "\n",
    "run_control = 1\n",
    "#run_type = 0 - Lite run with no reporting, not recommended.\n",
    "#run_type = 1 - Lite run with normal reporting, default setting.\n",
    "#run_type = 2 - Heavy run with full reporting, available for audits and troubleshooting.\n",
    "#run_type = 5 - A default setting. Indicates the script is being run by an outside process without an inherited value\n",
    "\n",
    "percode = \"2021.Q1\"\n",
    "# Data Collection Code, this controls file paths and output names\n",
    "# \"-f\" is the value indicating a bad inheritance from run with arg\n",
    "\n",
    "s_format = \"p\"\n",
    "# denotes the source data format x == Excel; j == json, p == parquet\n",
    "\n",
    "#----------\n",
    "# do not edit - this either inherits the full instance timestamp from the papermill book or captures the run time of this script.\n",
    "from datetime import datetime  # datetime options\n",
    "inst_datetime = datetime.now().strftime(\"%m%d%Y%H%M%S\")"
   ]
  },
  {
   "cell_type": "code",
   "execution_count": 2,
   "id": "ed9771de",
   "metadata": {
    "execution": {
     "iopub.execute_input": "2021-05-27T16:24:55.627254Z",
     "iopub.status.busy": "2021-05-27T16:24:55.625252Z",
     "iopub.status.idle": "2021-05-27T16:24:55.630253Z",
     "shell.execute_reply": "2021-05-27T16:24:55.629255Z"
    },
    "papermill": {
     "duration": 0.220995,
     "end_time": "2021-05-27T16:24:55.631254",
     "exception": false,
     "start_time": "2021-05-27T16:24:55.410259",
     "status": "completed"
    },
    "tags": [
     "injected-parameters"
    ]
   },
   "outputs": [],
   "source": [
    "# Parameters\n",
    "run_control = 1\n",
    "percode = \"2021.Q1\"\n",
    "commit_message = \"Demo Test\"\n",
    "inst_datetime = \"05272021121925\"\n"
   ]
  },
  {
   "cell_type": "markdown",
   "id": "b805607a",
   "metadata": {
    "papermill": {
     "duration": 0.219146,
     "end_time": "2021-05-27T16:24:56.080486",
     "exception": false,
     "start_time": "2021-05-27T16:24:55.861340",
     "status": "completed"
    },
    "tags": []
   },
   "source": [
    "#### Notebook display options"
   ]
  },
  {
   "cell_type": "code",
   "execution_count": 3,
   "id": "e2e443c4",
   "metadata": {
    "execution": {
     "iopub.execute_input": "2021-05-27T16:24:56.570982Z",
     "iopub.status.busy": "2021-05-27T16:24:56.567984Z",
     "iopub.status.idle": "2021-05-27T16:24:56.575993Z",
     "shell.execute_reply": "2021-05-27T16:24:56.576988Z"
    },
    "papermill": {
     "duration": 0.264375,
     "end_time": "2021-05-27T16:24:56.576988",
     "exception": false,
     "start_time": "2021-05-27T16:24:56.312613",
     "status": "completed"
    },
    "tags": []
   },
   "outputs": [],
   "source": [
    "from IPython.core.interactiveshell import InteractiveShell\n",
    "InteractiveShell.ast_node_interactivity = \"all\""
   ]
  },
  {
   "cell_type": "markdown",
   "id": "95f3a4ee",
   "metadata": {
    "papermill": {
     "duration": 0.228303,
     "end_time": "2021-05-27T16:24:57.030895",
     "exception": false,
     "start_time": "2021-05-27T16:24:56.802592",
     "status": "completed"
    },
    "tags": []
   },
   "source": [
    "#### import packages"
   ]
  },
  {
   "cell_type": "code",
   "execution_count": 4,
   "id": "952f17b5",
   "metadata": {
    "execution": {
     "iopub.execute_input": "2021-05-27T16:24:57.502889Z",
     "iopub.status.busy": "2021-05-27T16:24:57.496889Z",
     "iopub.status.idle": "2021-05-27T16:25:00.960711Z",
     "shell.execute_reply": "2021-05-27T16:25:00.961710Z"
    },
    "papermill": {
     "duration": 3.704822,
     "end_time": "2021-05-27T16:25:00.962710",
     "exception": false,
     "start_time": "2021-05-27T16:24:57.257888",
     "status": "completed"
    },
    "tags": []
   },
   "outputs": [],
   "source": [
    "#### Packages used\n",
    "\n",
    "import os # System commands\n",
    "import sys # System commands\n",
    "\n",
    "import warnings # custom warnigns options\n",
    "\n",
    "import glob # Directory operations\n",
    "import getpass # Work with parquet\n",
    "import json # Work with json\n",
    "\n",
    "import matplotlib.pyplot as plt #Plots and Graphs\n",
    "import numpy as np # Series and math\n",
    "import pandas as pd #DataFrame and math\n",
    "\n",
    "#excel operations\n",
    "import re\n",
    "import nicexcel as nl # Excel operations\n",
    "import xlsxwriter # Excel operations\n",
    "import openpyxl # Excel operations\n"
   ]
  },
  {
   "cell_type": "markdown",
   "id": "a5ee1ccd",
   "metadata": {
    "papermill": {
     "duration": 0.237679,
     "end_time": "2021-05-27T16:25:01.407917",
     "exception": false,
     "start_time": "2021-05-27T16:25:01.170238",
     "status": "completed"
    },
    "tags": []
   },
   "source": [
    "#### Default Variables, these govern logic, do not edit."
   ]
  },
  {
   "cell_type": "code",
   "execution_count": 5,
   "id": "b368e30e",
   "metadata": {
    "execution": {
     "iopub.execute_input": "2021-05-27T16:25:01.923529Z",
     "iopub.status.busy": "2021-05-27T16:25:01.921530Z",
     "iopub.status.idle": "2021-05-27T16:25:01.928527Z",
     "shell.execute_reply": "2021-05-27T16:25:01.929530Z"
    },
    "papermill": {
     "duration": 0.27062,
     "end_time": "2021-05-27T16:25:01.929530",
     "exception": false,
     "start_time": "2021-05-27T16:25:01.658910",
     "status": "completed"
    },
    "tags": []
   },
   "outputs": [],
   "source": [
    "default_dc = \"20XX.QX\"\n",
    "default_rc = 0 #extra lite mode\n",
    "dummy_perc = \"33Q3\" # bad inheritance"
   ]
  },
  {
   "cell_type": "markdown",
   "id": "aa901972",
   "metadata": {
    "papermill": {
     "duration": 0.230317,
     "end_time": "2021-05-27T16:25:02.400853",
     "exception": false,
     "start_time": "2021-05-27T16:25:02.170536",
     "status": "completed"
    },
    "tags": []
   },
   "source": [
    "#### Script determining run context ie, manual, run_control.ipynb, or other."
   ]
  },
  {
   "cell_type": "code",
   "execution_count": 6,
   "id": "ade8f1ab",
   "metadata": {
    "execution": {
     "iopub.execute_input": "2021-05-27T16:25:02.897009Z",
     "iopub.status.busy": "2021-05-27T16:25:02.891004Z",
     "iopub.status.idle": "2021-05-27T16:25:02.903083Z",
     "shell.execute_reply": "2021-05-27T16:25:02.904068Z"
    },
    "papermill": {
     "duration": 0.229699,
     "end_time": "2021-05-27T16:25:02.904068",
     "exception": false,
     "start_time": "2021-05-27T16:25:02.674369",
     "status": "completed"
    },
    "tags": []
   },
   "outputs": [],
   "source": [
    "if run_control == 5:\n",
    "    run_control = default_rc \n",
    "else:\n",
    "    run_control = run_control\n",
    "\n",
    "try:\n",
    "    if sys.argv[1] == \"-f\":\n",
    "        percode = percode\n",
    "    else:\n",
    "        percode = sys.argv[1]\n",
    "\n",
    "except IndexError:\n",
    "    percode = default_dc\n",
    "except NameError:\n",
    "    percode = default_dc\n"
   ]
  },
  {
   "cell_type": "markdown",
   "id": "0fcc2a87",
   "metadata": {
    "papermill": {
     "duration": 0.222,
     "end_time": "2021-05-27T16:25:03.331069",
     "exception": false,
     "start_time": "2021-05-27T16:25:03.109069",
     "status": "completed"
    },
    "tags": []
   },
   "source": [
    "#### style settings"
   ]
  },
  {
   "cell_type": "code",
   "execution_count": 7,
   "id": "12f97da5",
   "metadata": {
    "execution": {
     "iopub.execute_input": "2021-05-27T16:25:03.818065Z",
     "iopub.status.busy": "2021-05-27T16:25:03.815069Z",
     "iopub.status.idle": "2021-05-27T16:25:03.823069Z",
     "shell.execute_reply": "2021-05-27T16:25:03.822076Z"
    },
    "papermill": {
     "duration": 0.253996,
     "end_time": "2021-05-27T16:25:03.823069",
     "exception": false,
     "start_time": "2021-05-27T16:25:03.569073",
     "status": "completed"
    },
    "tags": []
   },
   "outputs": [],
   "source": [
    "from IPython.core.interactiveshell import InteractiveShell\n",
    "InteractiveShell.ast_node_interactivity = \"all\""
   ]
  },
  {
   "cell_type": "markdown",
   "id": "35fe61b9",
   "metadata": {
    "papermill": {
     "duration": 0.217,
     "end_time": "2021-05-27T16:25:04.250501",
     "exception": false,
     "start_time": "2021-05-27T16:25:04.033501",
     "status": "completed"
    },
    "tags": []
   },
   "source": [
    "\n",
    "## Begin Input Read\n",
    "- Make paths used in script\n",
    "- all paths should be modular and easily replaced ahead of operations."
   ]
  },
  {
   "cell_type": "code",
   "execution_count": 8,
   "id": "2eeddf5e",
   "metadata": {
    "execution": {
     "iopub.execute_input": "2021-05-27T16:25:04.732415Z",
     "iopub.status.busy": "2021-05-27T16:25:04.723415Z",
     "iopub.status.idle": "2021-05-27T16:25:04.737418Z",
     "shell.execute_reply": "2021-05-27T16:25:04.738418Z"
    },
    "papermill": {
     "duration": 0.244651,
     "end_time": "2021-05-27T16:25:04.738418",
     "exception": false,
     "start_time": "2021-05-27T16:25:04.493767",
     "status": "completed"
    },
    "tags": []
   },
   "outputs": [],
   "source": [
    "#root directory\n",
    "rt_path = f'//hecate/Insurance_US/Product Development/Product Management/Global PPM/Reporting/Data Collection/Production/{str(percode)}'\n",
    "#live sources directory\n",
    "ls_path = os.path.join( rt_path, 'live_sources')\n",
    "#report ouput dir\n",
    "rep_path = os.path.abspath(os.path.join(rt_path, '..','..',f\"{percode}\", 'Validation Reports'))\n",
    "#report ouput archive dir\n",
    "rep_arch_path = os.path.abspath(os.path.join(rep_path, '..','..',f\"{percode}\",  'Archive'))\n",
    "#Pipeline Script folder ouput dir\n",
    "script_path = os.path.abspath(os.path.join(rt_path, '..','..','Pipeline Reporting Scripts','GPMpipeline'     ))\n",
    "\n"
   ]
  },
  {
   "cell_type": "markdown",
   "id": "efe77703",
   "metadata": {
    "papermill": {
     "duration": 0.263037,
     "end_time": "2021-05-27T16:25:05.226176",
     "exception": false,
     "start_time": "2021-05-27T16:25:04.963139",
     "status": "completed"
    },
    "tags": []
   },
   "source": [
    "#### Make sources used in script\n",
    "- all sources should be modular and easily replaced ahead of operations."
   ]
  },
  {
   "cell_type": "code",
   "execution_count": 9,
   "id": "cbccffcf",
   "metadata": {
    "execution": {
     "iopub.execute_input": "2021-05-27T16:25:05.680348Z",
     "iopub.status.busy": "2021-05-27T16:25:05.678348Z",
     "iopub.status.idle": "2021-05-27T16:25:05.683351Z",
     "shell.execute_reply": "2021-05-27T16:25:05.684353Z"
    },
    "papermill": {
     "duration": 0.236003,
     "end_time": "2021-05-27T16:25:05.685354",
     "exception": false,
     "start_time": "2021-05-27T16:25:05.449351",
     "status": "completed"
    },
    "tags": []
   },
   "outputs": [],
   "source": [
    "rep_xls = os.path.join(rep_path ,\"Validations Review_xx.xlsx\"   )"
   ]
  },
  {
   "cell_type": "markdown",
   "id": "fc89a33e",
   "metadata": {
    "papermill": {
     "duration": 0.231736,
     "end_time": "2021-05-27T16:25:06.154075",
     "exception": false,
     "start_time": "2021-05-27T16:25:05.922339",
     "status": "completed"
    },
    "tags": []
   },
   "source": [
    "#### Get a list of only source files in the path that start with \"us_dat\".\n",
    "#### Logic determines the source file types.\n",
    "\n",
    "#### User instructions:\n",
    "- Make sure that you have 1 file per source in this folder.\n",
    "    -  For instance, do not have two files for Portugal. If there is an update, archive the old one.\n",
    "- Do not overwrite files in the archive.\n",
    "    - Rename newly archived files, no strict convention, we keep track of these by the modified date.\n",
    "- It is ok to have multiple sources in one file."
   ]
  },
  {
   "cell_type": "code",
   "execution_count": 10,
   "id": "737ed4e8",
   "metadata": {
    "execution": {
     "iopub.execute_input": "2021-05-27T16:25:06.670566Z",
     "iopub.status.busy": "2021-05-27T16:25:06.668568Z",
     "iopub.status.idle": "2021-05-27T16:25:06.740135Z",
     "shell.execute_reply": "2021-05-27T16:25:06.741138Z"
    },
    "papermill": {
     "duration": 0.330122,
     "end_time": "2021-05-27T16:25:06.742131",
     "exception": false,
     "start_time": "2021-05-27T16:25:06.412009",
     "status": "completed"
    },
    "tags": []
   },
   "outputs": [
    {
     "data": {
      "text/plain": [
       "['us_dat_au_05142021143612.parquet',\n",
       " 'us_dat_ca_05202021134242.parquet',\n",
       " 'us_dat_ch_05182021192455.parquet',\n",
       " 'us_dat_cz_05262021090243.parquet',\n",
       " 'us_dat_es_05202021105141.parquet',\n",
       " 'us_dat_gr_05252021115404.parquet',\n",
       " 'us_dat_it_05242021111520.parquet',\n",
       " 'us_dat_nl_05272021163120.parquet',\n",
       " 'us_dat_pl_05262021084450.parquet',\n",
       " 'us_dat_pt_05202021121056.parquet',\n",
       " 'us_orig_au_05142021143611.json',\n",
       " 'us_survey_au_02172021174808.parquet',\n",
       " 'us_survey_au_05142021143750.parquet',\n",
       " 'us_survey_ca_05202021135610.parquet',\n",
       " 'us_survey_ch_05182021192905.parquet',\n",
       " 'us_survey_cz_05262021090440.parquet',\n",
       " 'us_survey_es_05202021105431.parquet',\n",
       " 'us_survey_gr_05252021115827.parquet',\n",
       " 'us_survey_it_05242021111759.parquet',\n",
       " 'us_survey_nl_05272021163630.parquet',\n",
       " 'us_survey_pl_05262021084708.parquet',\n",
       " 'us_survey_pt_05202021121304.parquet',\n",
       " 'us_vcomments_au_02172021174434.parquet',\n",
       " 'us_vcomments_au_02172021174440.parquet',\n",
       " 'us_vcomments_au_05142021143612.parquet',\n",
       " 'us_vcomments_au_05142021143617.parquet',\n",
       " 'us_vcomments_au_mnual_creation.parquet',\n",
       " 'us_vcomments_ca_05202021134242.parquet',\n",
       " 'us_vcomments_ch_05182021192455.parquet',\n",
       " 'us_vcomments_ch_05182021192456.parquet',\n",
       " 'us_vcomments_cz_05242021103837.parquet',\n",
       " 'us_vcomments_cz_05262021090243.parquet',\n",
       " 'us_vcomments_es_05202021105141.parquet',\n",
       " 'us_vcomments_es_05202021105142.parquet',\n",
       " 'us_vcomments_gr_05252021115404.parquet',\n",
       " 'us_vcomments_it_05242021111521.parquet',\n",
       " 'us_vcomments_nl_05272021163120.parquet',\n",
       " 'us_vcomments_pl_05262021084450.parquet',\n",
       " 'us_vcomments_pt_05202021121056.parquet',\n",
       " 'us_vdf_au_man42021143613.json',\n",
       " 'us_vdf_ca_05202021134242.json',\n",
       " 'us_vdf_ch_05182021192456.json',\n",
       " 'us_vdf_cz_05242021103837.json',\n",
       " 'us_vdf_cz_05262021090243.json',\n",
       " 'us_vdf_es_05202021105142.json',\n",
       " 'us_vdf_gr_05252021115404.json',\n",
       " 'us_vdf_it_05242021111521.json',\n",
       " 'us_vdf_nl_05272021163120.json',\n",
       " 'us_vdf_pl_05262021084450.json',\n",
       " 'us_vdf_pt_05202021121056.json']"
      ]
     },
     "execution_count": 10,
     "metadata": {},
     "output_type": "execute_result"
    }
   ],
   "source": [
    "files = os.listdir(ls_path)\n",
    "files = [files.lower() for files in files]\n",
    "\n",
    "files_sour = [f for f in files if f[-5:]  == '.json' or  f[-8:] == '.parquet' and f[:7] != 'us_orig']\n",
    "\n",
    "files_sour"
   ]
  },
  {
   "cell_type": "markdown",
   "id": "0045f741",
   "metadata": {
    "papermill": {
     "duration": 0.233536,
     "end_time": "2021-05-27T16:25:07.179980",
     "exception": false,
     "start_time": "2021-05-27T16:25:06.946444",
     "status": "completed"
    },
    "tags": []
   },
   "source": [
    "#### Make a list of BUs that have comments available"
   ]
  },
  {
   "cell_type": "code",
   "execution_count": 11,
   "id": "7e16c3e8",
   "metadata": {
    "execution": {
     "iopub.execute_input": "2021-05-27T16:25:07.681027Z",
     "iopub.status.busy": "2021-05-27T16:25:07.666018Z",
     "iopub.status.idle": "2021-05-27T16:25:07.696018Z",
     "shell.execute_reply": "2021-05-27T16:25:07.698021Z"
    },
    "papermill": {
     "duration": 0.253002,
     "end_time": "2021-05-27T16:25:07.698021",
     "exception": false,
     "start_time": "2021-05-27T16:25:07.445019",
     "status": "completed"
    },
    "tags": []
   },
   "outputs": [
    {
     "data": {
      "text/plain": [
       "['//hecate/Insurance_US/Product Development/Product Management/Global PPM/Reporting/Data Collection/Production/2021.Q1\\\\live_sources\\\\us_vcomments_AU_02172021174434.parquet',\n",
       " '//hecate/Insurance_US/Product Development/Product Management/Global PPM/Reporting/Data Collection/Production/2021.Q1\\\\live_sources\\\\us_vcomments_AU_02172021174440.parquet',\n",
       " '//hecate/Insurance_US/Product Development/Product Management/Global PPM/Reporting/Data Collection/Production/2021.Q1\\\\live_sources\\\\us_vcomments_AU_05142021143612.parquet',\n",
       " '//hecate/Insurance_US/Product Development/Product Management/Global PPM/Reporting/Data Collection/Production/2021.Q1\\\\live_sources\\\\us_vcomments_AU_05142021143617.parquet',\n",
       " '//hecate/Insurance_US/Product Development/Product Management/Global PPM/Reporting/Data Collection/Production/2021.Q1\\\\live_sources\\\\us_vcomments_AU_mnual_creation.parquet',\n",
       " '//hecate/Insurance_US/Product Development/Product Management/Global PPM/Reporting/Data Collection/Production/2021.Q1\\\\live_sources\\\\us_vcomments_CA_05202021134242.parquet',\n",
       " '//hecate/Insurance_US/Product Development/Product Management/Global PPM/Reporting/Data Collection/Production/2021.Q1\\\\live_sources\\\\us_vcomments_CH_05182021192455.parquet',\n",
       " '//hecate/Insurance_US/Product Development/Product Management/Global PPM/Reporting/Data Collection/Production/2021.Q1\\\\live_sources\\\\us_vcomments_CH_05182021192456.parquet',\n",
       " '//hecate/Insurance_US/Product Development/Product Management/Global PPM/Reporting/Data Collection/Production/2021.Q1\\\\live_sources\\\\us_vcomments_CZ_05242021103837.parquet',\n",
       " '//hecate/Insurance_US/Product Development/Product Management/Global PPM/Reporting/Data Collection/Production/2021.Q1\\\\live_sources\\\\us_vcomments_CZ_05262021090243.parquet',\n",
       " '//hecate/Insurance_US/Product Development/Product Management/Global PPM/Reporting/Data Collection/Production/2021.Q1\\\\live_sources\\\\us_vcomments_ES_05202021105141.parquet',\n",
       " '//hecate/Insurance_US/Product Development/Product Management/Global PPM/Reporting/Data Collection/Production/2021.Q1\\\\live_sources\\\\us_vcomments_ES_05202021105142.parquet',\n",
       " '//hecate/Insurance_US/Product Development/Product Management/Global PPM/Reporting/Data Collection/Production/2021.Q1\\\\live_sources\\\\us_vcomments_GR_05252021115404.parquet',\n",
       " '//hecate/Insurance_US/Product Development/Product Management/Global PPM/Reporting/Data Collection/Production/2021.Q1\\\\live_sources\\\\us_vcomments_IT_05242021111521.parquet',\n",
       " '//hecate/Insurance_US/Product Development/Product Management/Global PPM/Reporting/Data Collection/Production/2021.Q1\\\\live_sources\\\\us_vcomments_NL_05272021163120.parquet',\n",
       " '//hecate/Insurance_US/Product Development/Product Management/Global PPM/Reporting/Data Collection/Production/2021.Q1\\\\live_sources\\\\us_vcomments_PL_05262021084450.parquet',\n",
       " '//hecate/Insurance_US/Product Development/Product Management/Global PPM/Reporting/Data Collection/Production/2021.Q1\\\\live_sources\\\\us_vcomments_PT_05202021121056.parquet']"
      ]
     },
     "execution_count": 11,
     "metadata": {},
     "output_type": "execute_result"
    }
   ],
   "source": [
    "list_jfiles = glob.glob(os.path.join(ls_path, 'us_vcomments_*.json'))\n",
    "list_pfiles = glob.glob(os.path.join(ls_path, 'us_vcomments_*.parquet'))\n",
    "\n",
    "list_files = []\n",
    "    \n",
    "for i in list_jfiles : list_files.append(i)    \n",
    "for i in list_pfiles : list_files.append(i)\n",
    "\n",
    "\n",
    "for idx, i in enumerate(list_jfiles):\n",
    "    list_jfiles[idx] = list_jfiles[idx][-23:-19]\n",
    "    list_jfiles[idx] = list_jfiles[idx].replace('_','')\n",
    "\n",
    "for idx, i in enumerate(list_pfiles):\n",
    "    list_pfiles[idx] = list_pfiles[idx][-26:-22]\n",
    "    list_pfiles[idx] = list_pfiles[idx].replace('_','')\n",
    "\n",
    "list_bus = []\n",
    "    \n",
    "for i in list_jfiles : list_bus.append(i)    \n",
    "for i in list_pfiles : list_bus.append(i)\n",
    "\n",
    "\n",
    "BU_set = set(list_bus)\n",
    "BU_list = list(BU_set)\n",
    "\n",
    "list_files\n"
   ]
  },
  {
   "cell_type": "code",
   "execution_count": 12,
   "id": "0987b246",
   "metadata": {
    "execution": {
     "iopub.execute_input": "2021-05-27T16:25:08.165292Z",
     "iopub.status.busy": "2021-05-27T16:25:08.160291Z",
     "iopub.status.idle": "2021-05-27T16:25:45.807332Z",
     "shell.execute_reply": "2021-05-27T16:25:45.809325Z"
    },
    "papermill": {
     "duration": 37.889748,
     "end_time": "2021-05-27T16:25:45.809325",
     "exception": false,
     "start_time": "2021-05-27T16:25:07.919577",
     "status": "completed"
    },
    "pycharm": {
     "name": "#%%\n"
    },
    "tags": []
   },
   "outputs": [
    {
     "name": "stdout",
     "output_type": "stream",
     "text": [
      "['//hecate/Insurance_US/Product Development/Product Management/Global PPM/Reporting/Data Collection/Production/2021.Q1\\\\live_sources\\\\us_vcomments_CH_05182021192455.parquet', '//hecate/Insurance_US/Product Development/Product Management/Global PPM/Reporting/Data Collection/Production/2021.Q1\\\\live_sources\\\\us_vcomments_CH_05182021192456.parquet']\n"
     ]
    },
    {
     "name": "stdout",
     "output_type": "stream",
     "text": [
      "['//hecate/Insurance_US/Product Development/Product Management/Global PPM/Reporting/Data Collection/Production/2021.Q1\\\\live_sources\\\\us_vcomments_GR_05252021115404.parquet']\n"
     ]
    },
    {
     "name": "stdout",
     "output_type": "stream",
     "text": [
      "['//hecate/Insurance_US/Product Development/Product Management/Global PPM/Reporting/Data Collection/Production/2021.Q1\\\\live_sources\\\\us_vcomments_CA_05202021134242.parquet']\n"
     ]
    },
    {
     "name": "stdout",
     "output_type": "stream",
     "text": [
      "['//hecate/Insurance_US/Product Development/Product Management/Global PPM/Reporting/Data Collection/Production/2021.Q1\\\\live_sources\\\\us_vcomments_CZ_05242021103837.parquet', '//hecate/Insurance_US/Product Development/Product Management/Global PPM/Reporting/Data Collection/Production/2021.Q1\\\\live_sources\\\\us_vcomments_CZ_05262021090243.parquet']\n"
     ]
    },
    {
     "name": "stdout",
     "output_type": "stream",
     "text": [
      "['//hecate/Insurance_US/Product Development/Product Management/Global PPM/Reporting/Data Collection/Production/2021.Q1\\\\live_sources\\\\us_vcomments_ES_05202021105141.parquet', '//hecate/Insurance_US/Product Development/Product Management/Global PPM/Reporting/Data Collection/Production/2021.Q1\\\\live_sources\\\\us_vcomments_ES_05202021105142.parquet']\n"
     ]
    },
    {
     "name": "stdout",
     "output_type": "stream",
     "text": [
      "['//hecate/Insurance_US/Product Development/Product Management/Global PPM/Reporting/Data Collection/Production/2021.Q1\\\\live_sources\\\\us_vcomments_PT_05202021121056.parquet']\n"
     ]
    },
    {
     "name": "stdout",
     "output_type": "stream",
     "text": [
      "['//hecate/Insurance_US/Product Development/Product Management/Global PPM/Reporting/Data Collection/Production/2021.Q1\\\\live_sources\\\\us_vcomments_AU_02172021174434.parquet', '//hecate/Insurance_US/Product Development/Product Management/Global PPM/Reporting/Data Collection/Production/2021.Q1\\\\live_sources\\\\us_vcomments_AU_02172021174440.parquet', '//hecate/Insurance_US/Product Development/Product Management/Global PPM/Reporting/Data Collection/Production/2021.Q1\\\\live_sources\\\\us_vcomments_AU_05142021143612.parquet', '//hecate/Insurance_US/Product Development/Product Management/Global PPM/Reporting/Data Collection/Production/2021.Q1\\\\live_sources\\\\us_vcomments_AU_05142021143617.parquet', '//hecate/Insurance_US/Product Development/Product Management/Global PPM/Reporting/Data Collection/Production/2021.Q1\\\\live_sources\\\\us_vcomments_AU_mnual_creation.parquet']\n"
     ]
    },
    {
     "name": "stdout",
     "output_type": "stream",
     "text": [
      "['//hecate/Insurance_US/Product Development/Product Management/Global PPM/Reporting/Data Collection/Production/2021.Q1\\\\live_sources\\\\us_vcomments_NL_05272021163120.parquet']\n"
     ]
    },
    {
     "name": "stdout",
     "output_type": "stream",
     "text": [
      "New BU NL\n"
     ]
    },
    {
     "name": "stdout",
     "output_type": "stream",
     "text": [
      "['//hecate/Insurance_US/Product Development/Product Management/Global PPM/Reporting/Data Collection/Production/2021.Q1\\\\live_sources\\\\us_vcomments_IT_05242021111521.parquet']\n"
     ]
    },
    {
     "name": "stdout",
     "output_type": "stream",
     "text": [
      "['//hecate/Insurance_US/Product Development/Product Management/Global PPM/Reporting/Data Collection/Production/2021.Q1\\\\live_sources\\\\us_vcomments_PL_05262021084450.parquet']\n"
     ]
    }
   ],
   "source": [
    "\n",
    "datafiles = [  \"us_vcomment\", \"us_vdf\" ]\n",
    "\n",
    "\n",
    "for idx, b in enumerate(BU_list):\n",
    "\n",
    "    list_files_a = []\n",
    "    latest_valcomments = []\n",
    "    list_files_a = list(filter(lambda x: \"us_vcomments\" in  x and f\"_{b}\" in  x , list_files))\n",
    "\n",
    "    print(list_files_a)\n",
    "    recent_vers_a = max(list_files_a, key=os.path.getctime)\n",
    "    try:\n",
    "        latest_valcomments.append([f'us_vcomment',pd.read_json(recent_vers_a, orient=\"table\")])\n",
    "    except UnicodeDecodeError:\n",
    "        latest_valcomments.append([f'us_vcomment',pd.read_parquet(recent_vers_a, engine=\"pyarrow\")])\n",
    "\n",
    "    list_files_b = glob.glob(os.path.join(ls_path, f'us_vdf_{BU_list[idx]}*.json'))\n",
    "    recent_vers_b = max(list_files_b, key=os.path.getctime)\n",
    "\n",
    "    with open(recent_vers_b, 'r') as fp:\n",
    "        data_dict = json.load(fp)\n",
    "    latest_vdfdata_sets = { key: pd.DataFrame(data_dict[key]) for key in data_dict  }\n",
    "\n",
    "    valcomm_dict = {}\n",
    "    valdf_dict = {}\n",
    "    valcomdf = []\n",
    "    valcomdf = pd.DataFrame(latest_valcomments[0][1])\n",
    "\n",
    "    for idx2, row in valcomdf.iterrows():\n",
    "\n",
    "        valname = row[\"Validation Rule\"][0:25]\n",
    "        sheetname = valname + '-' + str(idx2)\n",
    "        valcomm_dict[\"{0}\".format(sheetname)] = pd.DataFrame(row).reindex()\n",
    "        try:\n",
    "            valdf_dict[sheetname] = data_dict[str(idx2)]\n",
    "        except KeyError:\n",
    "            pass\n",
    "        \n",
    "    writer = pd.ExcelWriter(rep_xls, engine='xlsxwriter')\n",
    "    \n",
    "    for i, j  in zip(valdf_dict,valcomm_dict ):\n",
    "        valdf_dict[i] = pd.DataFrame(valdf_dict[i])\n",
    "        valdf_dict[i].index.name = 'Row Number'\n",
    "        valcomm_dict[i].to_excel(writer, sheet_name=i,header=False, startrow=0, startcol=0)\n",
    "        valdf_dict[i].to_excel(writer, sheet_name= i , startrow=10, startcol=0)\n",
    "    \n",
    "    fin_name = rep_xls.replace(\"_xx\",f\"_{BU_list[idx]}\")\n",
    "    arch_name = fin_name.replace(f\"Validations Review_{BU_list[idx]}\",f\"\\Archive\\Validations Review_{BU_list[idx]}{inst_datetime}\")\n",
    "    \n",
    "    try:\n",
    "        os.remove(arch_name)\n",
    "    except FileNotFoundError:\n",
    "        pass\n",
    "    try:\n",
    "        os.rename(fin_name, arch_name )\n",
    "    except FileNotFoundError:\n",
    "        print(f\"New BU {BU_list[idx]}\")\n",
    "        pass\n",
    "\n",
    "    writer.save()\n",
    "    os.rename(rep_xls,rep_xls.replace(\"_xx\",f\"_{BU_list[idx]}\"))\n"
   ]
  },
  {
   "cell_type": "markdown",
   "id": "22e65626",
   "metadata": {
    "papermill": {
     "duration": 0.269772,
     "end_time": "2021-05-27T16:25:46.346627",
     "exception": false,
     "start_time": "2021-05-27T16:25:46.076855",
     "status": "completed"
    },
    "tags": []
   },
   "source": [
    "### Open the folder with the documents saved"
   ]
  },
  {
   "cell_type": "code",
   "execution_count": 13,
   "id": "381d7574",
   "metadata": {
    "execution": {
     "iopub.execute_input": "2021-05-27T16:25:46.887587Z",
     "iopub.status.busy": "2021-05-27T16:25:46.886579Z",
     "iopub.status.idle": "2021-05-27T16:25:47.119593Z",
     "shell.execute_reply": "2021-05-27T16:25:47.120594Z"
    },
    "papermill": {
     "duration": 0.51161,
     "end_time": "2021-05-27T16:25:47.120594",
     "exception": false,
     "start_time": "2021-05-27T16:25:46.608984",
     "status": "completed"
    },
    "tags": []
   },
   "outputs": [],
   "source": [
    "os.startfile(rep_path)"
   ]
  },
  {
   "cell_type": "code",
   "execution_count": 14,
   "id": "f2b6571f",
   "metadata": {
    "execution": {
     "iopub.execute_input": "2021-05-27T16:25:47.841425Z",
     "iopub.status.busy": "2021-05-27T16:25:47.832422Z",
     "iopub.status.idle": "2021-05-27T16:25:47.848421Z",
     "shell.execute_reply": "2021-05-27T16:25:47.835422Z"
    },
    "papermill": {
     "duration": 0.404764,
     "end_time": "2021-05-27T16:25:47.848421",
     "exception": false,
     "start_time": "2021-05-27T16:25:47.443657",
     "status": "completed"
    },
    "tags": []
   },
   "outputs": [],
   "source": [
    "### Make some HTMLs for the file links"
   ]
  },
  {
   "cell_type": "markdown",
   "id": "3667200e",
   "metadata": {
    "tags": [
     "papermill-error-cell-tag"
    ]
   },
   "source": [
    "<span id=\"papermill-error-cell\" style=\"color:red; font-family:Helvetica Neue, Helvetica, Arial, sans-serif; font-size:2em;\">Execution using papermill encountered an exception here and stopped:</span>"
   ]
  },
  {
   "cell_type": "code",
   "execution_count": 15,
   "id": "b4591274",
   "metadata": {
    "execution": {
     "iopub.execute_input": "2021-05-27T16:25:48.701644Z",
     "iopub.status.busy": "2021-05-27T16:25:48.699644Z",
     "iopub.status.idle": "2021-05-27T16:25:49.351667Z",
     "shell.execute_reply": "2021-05-27T16:25:49.346665Z"
    },
    "papermill": {
     "duration": 1.157712,
     "end_time": "2021-05-27T16:25:49.352667",
     "exception": true,
     "start_time": "2021-05-27T16:25:48.194955",
     "status": "failed"
    },
    "tags": []
   },
   "outputs": [
    {
     "ename": "NameError",
     "evalue": "name 'file' is not defined",
     "output_type": "error",
     "traceback": [
      "\u001b[1;31m---------------------------------------------------------------------------\u001b[0m",
      "\u001b[1;31mNameError\u001b[0m                                 Traceback (most recent call last)",
      "\u001b[1;32m<ipython-input-15-9370b9b6a7e1>\u001b[0m in \u001b[0;36m<module>\u001b[1;34m\u001b[0m\n\u001b[0;32m      1\u001b[0m \u001b[1;31m#look for file\u001b[0m\u001b[1;33m\u001b[0m\u001b[1;33m\u001b[0m\u001b[1;33m\u001b[0m\u001b[0m\n\u001b[0;32m      2\u001b[0m \u001b[1;33m\u001b[0m\u001b[0m\n\u001b[1;32m----> 3\u001b[1;33m \u001b[0mopen\u001b[0m\u001b[1;33m(\u001b[0m\u001b[0mfile\u001b[0m\u001b[1;33m,\u001b[0m \u001b[1;34m'a'\u001b[0m\u001b[1;33m)\u001b[0m\u001b[1;33m.\u001b[0m\u001b[0mclose\u001b[0m\u001b[1;33m(\u001b[0m\u001b[1;33m)\u001b[0m\u001b[1;33m\u001b[0m\u001b[1;33m\u001b[0m\u001b[0m\n\u001b[0m\u001b[0;32m      4\u001b[0m \u001b[1;33m\u001b[0m\u001b[0m\n\u001b[0;32m      5\u001b[0m \u001b[0mloc_file\u001b[0m \u001b[1;33m=\u001b[0m \u001b[0mos\u001b[0m\u001b[1;33m.\u001b[0m\u001b[0mpath\u001b[0m\u001b[1;33m.\u001b[0m\u001b[0mjoin\u001b[0m\u001b[1;33m(\u001b[0m\u001b[0mscript_path\u001b[0m\u001b[1;33m,\u001b[0m \u001b[1;34m'local_cur.html'\u001b[0m\u001b[1;33m)\u001b[0m\u001b[1;33m\u001b[0m\u001b[1;33m\u001b[0m\u001b[0m\n",
      "\u001b[1;31mNameError\u001b[0m: name 'file' is not defined"
     ]
    }
   ],
   "source": [
    "#look for file\n",
    "\n",
    "open(file, 'a').close()\n",
    "\n",
    "loc_file = os.path.join(script_path, 'local_cur.html')\n",
    "\n",
    "\n",
    "eur_file = os.path.join(script_path, 'eur_cur.html')\n",
    "\n",
    "f = open('loc_file','w')\n",
    "\n",
    "message = \"\"\"<head> \n",
    "  <meta http-equiv=\"refresh\" content=\"1; URL=file://hecate/Insurance_US/Product%20Development/Product%20Management/Global%20PPM/Reporting/Data%20Collection/Production/2021.Q1/2021.Q1.localcur.csv\"> \n",
    "</head> \n",
    "\n",
    "<body> \n",
    "  <p>You will be redirected automatically, otherwise please <a \n",
    "  href=\"doxygen/index.html\">click here</a>.</p> \n",
    "</body> \"\"\"\n",
    "\n",
    "f.write(message)\n",
    "f.close()"
   ]
  },
  {
   "cell_type": "code",
   "execution_count": null,
   "id": "7bea3508",
   "metadata": {
    "papermill": {
     "duration": null,
     "end_time": null,
     "exception": null,
     "start_time": null,
     "status": "pending"
    },
    "tags": []
   },
   "outputs": [],
   "source": []
  },
  {
   "cell_type": "code",
   "execution_count": null,
   "id": "57d8a59d",
   "metadata": {
    "papermill": {
     "duration": null,
     "end_time": null,
     "exception": null,
     "start_time": null,
     "status": "pending"
    },
    "tags": []
   },
   "outputs": [],
   "source": []
  }
 ],
 "metadata": {
  "celltoolbar": "Tags",
  "kernelspec": {
   "display_name": "Python 3",
   "language": "python",
   "name": "python3"
  },
  "language_info": {
   "codemirror_mode": {
    "name": "ipython",
    "version": 3
   },
   "file_extension": ".py",
   "mimetype": "text/x-python",
   "name": "python",
   "nbconvert_exporter": "python",
   "pygments_lexer": "ipython3",
   "version": "3.7.6"
  },
  "papermill": {
   "default_parameters": {},
   "duration": 60.608904,
   "end_time": "2021-05-27T16:25:50.229740",
   "environment_variables": {},
   "exception": true,
   "input_path": "reporting/Make Validation Output Reports With Comments.ipynb",
   "output_path": "//hecate/Insurance_US/Product Development/Product Management/Global PPM/Reporting/Data Collection/Pipeline Reporting Scripts/GPMpipeline/instances/2021.Q1\\reporting\\Make Validation Output Reports With Comments05272021121925--Demo.ipynb",
   "parameters": {
    "commit_message": "Demo Test",
    "inst_datetime": "05272021121925",
    "percode": "2021.Q1",
    "run_control": 1
   },
   "start_time": "2021-05-27T16:24:49.620836",
   "version": "2.3.3"
  }
 },
 "nbformat": 4,
 "nbformat_minor": 5
}