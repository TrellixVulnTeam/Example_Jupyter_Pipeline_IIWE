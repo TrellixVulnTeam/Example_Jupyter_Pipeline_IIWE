{
 "cells": [
  {
   "cell_type": "markdown",
   "id": "76f29b43",
   "metadata": {
    "papermill": {
     "duration": 0.389806,
     "end_time": "2021-06-09T21:51:09.946448",
     "exception": false,
     "start_time": "2021-06-09T21:51:09.556642",
     "status": "completed"
    },
    "tags": []
   },
   "source": [
    "<img src=\"../images/AzPTravel_PPM.png\">"
   ]
  },
  {
   "cell_type": "markdown",
   "id": "09b7c3c1",
   "metadata": {
    "papermill": {
     "duration": 0.305335,
     "end_time": "2021-06-09T21:51:10.668274",
     "exception": false,
     "start_time": "2021-06-09T21:51:10.362939",
     "status": "completed"
    },
    "tags": []
   },
   "source": [
    "## Knit Travel Global Report\n",
    "\n",
    "#### This script exectutes the RMD that knits the Travel Global Report\n",
    "\n",
    "#### This can be run on its own or as part of the pipeline wherever called (ie from a papermill script or other user interface)."
   ]
  },
  {
   "cell_type": "code",
   "execution_count": 1,
   "id": "c14ac820",
   "metadata": {
    "execution": {
     "iopub.execute_input": "2021-06-09T21:51:11.464373Z",
     "iopub.status.busy": "2021-06-09T21:51:11.448718Z",
     "iopub.status.idle": "2021-06-09T21:51:11.713784Z",
     "shell.execute_reply": "2021-06-09T21:51:11.713784Z"
    },
    "papermill": {
     "duration": 0.605882,
     "end_time": "2021-06-09T21:51:11.713784",
     "exception": false,
     "start_time": "2021-06-09T21:51:11.107902",
     "status": "completed"
    },
    "tags": [
     "parameters"
    ]
   },
   "outputs": [],
   "source": [
    "\n",
    "commit_message <- \"Development and testing.\"\n",
    "# Give a brief reason for the run.\n",
    "\n",
    "run_control <- 1\n",
    "#run_type = 0 - Lite run with no reporting, not recommended.\n",
    "#run_type = 1 - Lite run with normal reporting, default setting.\n",
    "#run_type = 2 - Heavy run with full reporting, available for audits and troubleshooting.\n",
    "#run_type = 5 - A default setting. Indicates the script is being run by an outside process without an inherited value\n",
    "\n",
    "percode <- \"2021.Q1\"\n",
    "# Data Collection Code, this controls file paths and output names\n",
    "# \"-f\" is the value indicating a bad inheritance from run with arg\n",
    "\n",
    "s_format <- \"p\"\n",
    "# denotes the source data format x == Excel; j == json, p == parquet\n",
    "\n",
    "#----------\n",
    "# do not edit - this either inherits the full instance timestamp from the papermill book or captures the run time of this script.\n",
    "\n",
    "inst_datetime <- format(Sys.time(), \"%S\")\n",
    "\n"
   ]
  },
  {
   "cell_type": "code",
   "execution_count": 2,
   "id": "46637223",
   "metadata": {
    "execution": {
     "iopub.execute_input": "2021-06-09T21:51:12.482000Z",
     "iopub.status.busy": "2021-06-09T21:51:12.444153Z",
     "iopub.status.idle": "2021-06-09T21:51:12.544467Z",
     "shell.execute_reply": "2021-06-09T21:51:12.528842Z"
    },
    "papermill": {
     "duration": 0.494104,
     "end_time": "2021-06-09T21:51:12.544467",
     "exception": false,
     "start_time": "2021-06-09T21:51:12.050363",
     "status": "completed"
    },
    "tags": [
     "injected-parameters"
    ]
   },
   "outputs": [],
   "source": [
    "# Parameters\n",
    "run_control = 1\n",
    "percode = \"2021.Q1\"\n",
    "commit_message = \"Live run,Late additions EI was not present.\"\n",
    "inst_datetime = \"06092021152753\"\n"
   ]
  },
  {
   "cell_type": "markdown",
   "id": "95775499",
   "metadata": {
    "papermill": {
     "duration": 0.337536,
     "end_time": "2021-06-09T21:51:13.252796",
     "exception": false,
     "start_time": "2021-06-09T21:51:12.915260",
     "status": "completed"
    },
    "tags": []
   },
   "source": [
    "#### Default Variables, these govern logic, do not edit."
   ]
  },
  {
   "cell_type": "code",
   "execution_count": 3,
   "id": "39fd9bb8",
   "metadata": {
    "execution": {
     "iopub.execute_input": "2021-06-09T21:51:13.917281Z",
     "iopub.status.busy": "2021-06-09T21:51:13.917281Z",
     "iopub.status.idle": "2021-06-09T21:51:13.968399Z",
     "shell.execute_reply": "2021-06-09T21:51:13.952759Z"
    },
    "papermill": {
     "duration": 0.39818,
     "end_time": "2021-06-09T21:51:13.968399",
     "exception": false,
     "start_time": "2021-06-09T21:51:13.570219",
     "status": "completed"
    },
    "tags": []
   },
   "outputs": [],
   "source": [
    "default_dc <- \"20XX.QX\"\n",
    "default_rc <- 0 #extra lite mode\n",
    "dummy_perc <- \"33Q3\" # bad inheritance"
   ]
  },
  {
   "cell_type": "markdown",
   "id": "27bf97b1",
   "metadata": {
    "papermill": {
     "duration": 0.353634,
     "end_time": "2021-06-09T21:51:14.653648",
     "exception": false,
     "start_time": "2021-06-09T21:51:14.300014",
     "status": "completed"
    },
    "tags": []
   },
   "source": [
    "#### style settings"
   ]
  },
  {
   "cell_type": "code",
   "execution_count": 4,
   "id": "e7a5e632",
   "metadata": {
    "execution": {
     "iopub.execute_input": "2021-06-09T21:51:15.486166Z",
     "iopub.status.busy": "2021-06-09T21:51:15.486166Z",
     "iopub.status.idle": "2021-06-09T21:51:15.533054Z",
     "shell.execute_reply": "2021-06-09T21:51:15.533054Z"
    },
    "papermill": {
     "duration": 0.545344,
     "end_time": "2021-06-09T21:51:15.533054",
     "exception": false,
     "start_time": "2021-06-09T21:51:14.987710",
     "status": "completed"
    },
    "tags": []
   },
   "outputs": [],
   "source": [
    "if (run_control == 5)\n",
    "    { run_control <- default_rc }\n",
    "\n",
    "if (run_control != 5) \n",
    "    { run_control <- run_control}\n",
    "\n",
    "# try:\n",
    "#     if sys.argv[1] == \"-f\":\n",
    "#         percode = percode\n",
    "#     else:\n",
    "#         percode = sys.argv[1]\n",
    "\n",
    "# except IndexError:\n",
    "#     percode = default_dc\n",
    "# except NameError:\n",
    "#     percode = default_dc\n"
   ]
  },
  {
   "cell_type": "markdown",
   "id": "09f9117f",
   "metadata": {
    "papermill": {
     "duration": 0.369729,
     "end_time": "2021-06-09T21:51:16.288403",
     "exception": false,
     "start_time": "2021-06-09T21:51:15.918674",
     "status": "completed"
    },
    "tags": []
   },
   "source": [
    "\n",
    "## Begin Input Read\n",
    "#### Make paths used in script\n",
    "### all paths should be modular and easily replaced ahead of operations"
   ]
  },
  {
   "cell_type": "code",
   "execution_count": 5,
   "id": "640d4a13",
   "metadata": {
    "execution": {
     "iopub.execute_input": "2021-06-09T21:51:17.126920Z",
     "iopub.status.busy": "2021-06-09T21:51:17.126920Z",
     "iopub.status.idle": "2021-06-09T21:51:17.190444Z",
     "shell.execute_reply": "2021-06-09T21:51:17.190444Z"
    },
    "papermill": {
     "duration": 0.41496,
     "end_time": "2021-06-09T21:51:17.190444",
     "exception": false,
     "start_time": "2021-06-09T21:51:16.775484",
     "status": "completed"
    },
    "tags": []
   },
   "outputs": [
    {
     "data": {
      "text/html": [
       "'H:/Reporting/Data Collection/2021.Q1/Global Travel LOB Report/Travel_Global_Report.html'"
      ],
      "text/latex": [
       "'H:/Reporting/Data Collection/2021.Q1/Global Travel LOB Report/Travel\\_Global\\_Report.html'"
      ],
      "text/markdown": [
       "'H:/Reporting/Data Collection/2021.Q1/Global Travel LOB Report/Travel_Global_Report.html'"
      ],
      "text/plain": [
       "[1] \"H:/Reporting/Data Collection/2021.Q1/Global Travel LOB Report/Travel_Global_Report.html\""
      ]
     },
     "metadata": {},
     "output_type": "display_data"
    }
   ],
   "source": [
    "#root directory\n",
    "rt_networkpath <- '//hecate/Insurance_US/Product Development/Product Management/Global PPM/Reporting/Data Collection'\n",
    "\n",
    "# special for render\n",
    "rt_mappedpath <- 'H:/Reporting/Data Collection'\n",
    "\n",
    "\n",
    "#out_mappedpath <- paste(rt_mappedpath, percode,   'Global Travel LOB Report' , sep= '/')\n",
    "rmd_file <- 'Pipeline Reporting Scripts/Global Travel LOB Report/Travel_Global_Report.Rmd'\n",
    "\n",
    "rmd_path <- paste(rt_networkpath, rmd_file, sep =\"/\")\n",
    "#outfile <- paste('Travel_Global_Report_',gsub(\"\\\\.\",\"_\",percode),'.html', sep = '')\n",
    "\n",
    "rmdnetworkpath <- paste(rt_networkpath,rmd_file, sep =\"/\")\n",
    "\n",
    "html_path <- paste( rt_mappedpath , percode,   'Global Travel LOB Report', sep= '/')\n",
    "\n",
    "html_name <- 'Travel_Global_Report.html'\n",
    "\n",
    "html_full_name <- paste(html_path, html_name, sep = \"/\")\n",
    "\n",
    "html_full_name \n"
   ]
  },
  {
   "cell_type": "markdown",
   "id": "8ee61cbc",
   "metadata": {
    "papermill": {
     "duration": 0.488269,
     "end_time": "2021-06-09T21:51:18.148994",
     "exception": false,
     "start_time": "2021-06-09T21:51:17.660725",
     "status": "completed"
    },
    "tags": []
   },
   "source": [
    "#### Execute Finance Comparison PnL.Rmd\n"
   ]
  },
  {
   "cell_type": "code",
   "execution_count": 6,
   "id": "348241dc",
   "metadata": {
    "execution": {
     "iopub.execute_input": "2021-06-09T21:51:18.898423Z",
     "iopub.status.busy": "2021-06-09T21:51:18.882809Z",
     "iopub.status.idle": "2021-06-09T21:57:46.926130Z",
     "shell.execute_reply": "2021-06-09T21:57:46.920626Z"
    },
    "papermill": {
     "duration": 388.359495,
     "end_time": "2021-06-09T21:57:46.926130",
     "exception": false,
     "start_time": "2021-06-09T21:51:18.566635",
     "status": "completed"
    },
    "tags": []
   },
   "outputs": [
    {
     "name": "stdout",
     "output_type": "stream",
     "text": [
      "[1] \"Knitting Travel Global Report\"\n"
     ]
    },
    {
     "name": "stderr",
     "output_type": "stream",
     "text": [
      "\n",
      "\n",
      "processing file: Travel_Global_Report.Rmd\n"
     ]
    },
    {
     "name": "stdout",
     "output_type": "stream",
     "text": [
      "\r",
      "  |                                                                            \r",
      "  |                                                                      |   0%"
     ]
    },
    {
     "name": "stdout",
     "output_type": "stream",
     "text": [
      "\r",
      "  |                                                                            \r",
      "  |.                                                                     |   1%"
     ]
    },
    {
     "name": "stdout",
     "output_type": "stream",
     "text": [
      "\n"
     ]
    },
    {
     "name": "stdout",
     "output_type": "stream",
     "text": [
      "  ordinary text without R code\n",
      "\n",
      "\r",
      "  |                                                                            \r",
      "  |.                                                                     |   2%"
     ]
    },
    {
     "name": "stdout",
     "output_type": "stream",
     "text": [
      "\n"
     ]
    },
    {
     "name": "stdout",
     "output_type": "stream",
     "text": [
      "label: setup (with options) \n",
      "List of 1\n",
      " $ include: logi FALSE\n",
      "\n"
     ]
    },
    {
     "name": "stderr",
     "output_type": "stream",
     "text": [
      "Warning message:\n",
      "\"package 'flexdashboard' was built under R version 3.6.3\""
     ]
    },
    {
     "name": "stderr",
     "output_type": "stream",
     "text": [
      "Warning message:\n",
      "\"package 'openxlsx' was built under R version 3.6.3\""
     ]
    },
    {
     "name": "stderr",
     "output_type": "stream",
     "text": [
      "Warning message:\n",
      "\"package 'data.table' was built under R version 3.6.3\""
     ]
    },
    {
     "name": "stderr",
     "output_type": "stream",
     "text": [
      "Warning message:\n",
      "\"package 'dplyr' was built under R version 3.6.3\""
     ]
    },
    {
     "name": "stderr",
     "output_type": "stream",
     "text": [
      "Registered S3 methods overwritten by 'tibble':\n",
      "  method     from  \n",
      "  format.tbl pillar\n",
      "  print.tbl  pillar\n"
     ]
    },
    {
     "name": "stderr",
     "output_type": "stream",
     "text": [
      "\n",
      "Attaching package: 'dplyr'\n",
      "\n"
     ]
    },
    {
     "name": "stderr",
     "output_type": "stream",
     "text": [
      "The following objects are masked from 'package:data.table':\n",
      "\n",
      "    between, first, last\n",
      "\n"
     ]
    },
    {
     "name": "stderr",
     "output_type": "stream",
     "text": [
      "The following objects are masked from 'package:stats':\n",
      "\n",
      "    filter, lag\n",
      "\n"
     ]
    },
    {
     "name": "stderr",
     "output_type": "stream",
     "text": [
      "The following objects are masked from 'package:base':\n",
      "\n",
      "    intersect, setdiff, setequal, union\n",
      "\n"
     ]
    },
    {
     "name": "stderr",
     "output_type": "stream",
     "text": [
      "Warning message:\n",
      "\"package 'magrittr' was built under R version 3.6.3\""
     ]
    },
    {
     "name": "stderr",
     "output_type": "stream",
     "text": [
      "Warning message:\n",
      "\"package 'knitr' was built under R version 3.6.3\""
     ]
    },
    {
     "name": "stderr",
     "output_type": "stream",
     "text": [
      "Warning message:\n",
      "\"package 'kableExtra' was built under R version 3.6.3\""
     ]
    },
    {
     "name": "stderr",
     "output_type": "stream",
     "text": [
      "\n",
      "Attaching package: 'kableExtra'\n",
      "\n"
     ]
    },
    {
     "name": "stderr",
     "output_type": "stream",
     "text": [
      "The following object is masked from 'package:dplyr':\n",
      "\n",
      "    group_rows\n",
      "\n"
     ]
    },
    {
     "name": "stderr",
     "output_type": "stream",
     "text": [
      "Warning message:\n",
      "\"package 'ggplot2' was built under R version 3.6.3\""
     ]
    },
    {
     "name": "stderr",
     "output_type": "stream",
     "text": [
      "Warning message:\n",
      "\"package 'patchwork' was built under R version 3.6.3\""
     ]
    },
    {
     "name": "stderr",
     "output_type": "stream",
     "text": [
      "Warning message:\n",
      "\"package 'DT' was built under R version 3.6.3\""
     ]
    },
    {
     "name": "stderr",
     "output_type": "stream",
     "text": [
      "Warning message:\n",
      "\"package 'scales' was built under R version 3.6.3\""
     ]
    },
    {
     "name": "stderr",
     "output_type": "stream",
     "text": [
      "Warning message:\n",
      "\"package 'stringr' was built under R version 3.6.3\""
     ]
    },
    {
     "name": "stderr",
     "output_type": "stream",
     "text": [
      "Warning message:\n",
      "\"package 'reticulate' was built under R version 3.6.3\""
     ]
    },
    {
     "name": "stdout",
     "output_type": "stream",
     "text": [
      "\r",
      "  |                                                                            \r",
      "  |..                                                                    |   3%"
     ]
    },
    {
     "name": "stdout",
     "output_type": "stream",
     "text": [
      "\n"
     ]
    },
    {
     "name": "stdout",
     "output_type": "stream",
     "text": [
      "  ordinary text without R code\n",
      "\n",
      "\r",
      "  |                                                                            \r",
      "  |...                                                                   |   4%"
     ]
    },
    {
     "name": "stdout",
     "output_type": "stream",
     "text": [
      "\n"
     ]
    },
    {
     "name": "stdout",
     "output_type": "stream",
     "text": [
      "label: py variable\n",
      "\r",
      "  |                                                                            \r",
      "  |...                                                                   |   5%"
     ]
    },
    {
     "name": "stdout",
     "output_type": "stream",
     "text": [
      "\n"
     ]
    },
    {
     "name": "stdout",
     "output_type": "stream",
     "text": [
      "  ordinary text without R code\n",
      "\n",
      "\r",
      "  |                                                                            \r",
      "  |....                                                                  |   6%"
     ]
    },
    {
     "name": "stdout",
     "output_type": "stream",
     "text": [
      "\n"
     ]
    },
    {
     "name": "stdout",
     "output_type": "stream",
     "text": [
      "label: pandas data read (with options) \n",
      "List of 1\n",
      " $ engine: chr \"python\"\n",
      "\n"
     ]
    },
    {
     "name": "stderr",
     "output_type": "stream",
     "text": [
      "Warning message:\n",
      "\"The internal function knitr:::wrap() has been deprecated. Please use the exported function knitr::sew() instead.\""
     ]
    },
    {
     "name": "stdout",
     "output_type": "stream",
     "text": [
      "\r",
      "  |                                                                            \r",
      "  |.....                                                                 |   7%"
     ]
    },
    {
     "name": "stdout",
     "output_type": "stream",
     "text": [
      "\n"
     ]
    },
    {
     "name": "stdout",
     "output_type": "stream",
     "text": [
      "  ordinary text without R code\n",
      "\n",
      "\r",
      "  |                                                                            \r",
      "  |.....                                                                 |   8%"
     ]
    },
    {
     "name": "stdout",
     "output_type": "stream",
     "text": [
      "\n"
     ]
    },
    {
     "name": "stdout",
     "output_type": "stream",
     "text": [
      "label: read in xlsx sources\n",
      "\r",
      "  |                                                                            \r",
      "  |......                                                                |   8%"
     ]
    },
    {
     "name": "stdout",
     "output_type": "stream",
     "text": [
      "\n"
     ]
    },
    {
     "name": "stdout",
     "output_type": "stream",
     "text": [
      "  ordinary text without R code\n",
      "\n",
      "\r",
      "  |                                                                            \r",
      "  |.......                                                               |   9%"
     ]
    },
    {
     "name": "stdout",
     "output_type": "stream",
     "text": [
      "\n"
     ]
    },
    {
     "name": "stdout",
     "output_type": "stream",
     "text": [
      "label: convert py object to r DT\n",
      "\r",
      "  |                                                                            \r",
      "  |.......                                                               |  10%"
     ]
    },
    {
     "name": "stdout",
     "output_type": "stream",
     "text": [
      "\n"
     ]
    },
    {
     "name": "stdout",
     "output_type": "stream",
     "text": [
      "  ordinary text without R code\n",
      "\n",
      "\r",
      "  |                                                                            \r",
      "  |........                                                              |  11%"
     ]
    },
    {
     "name": "stdout",
     "output_type": "stream",
     "text": [
      "\n"
     ]
    },
    {
     "name": "stdout",
     "output_type": "stream",
     "text": [
      "label: function replace NAs\n",
      "\r",
      "  |                                                                            \r",
      "  |.........                                                             |  12%"
     ]
    },
    {
     "name": "stdout",
     "output_type": "stream",
     "text": [
      "\n"
     ]
    },
    {
     "name": "stdout",
     "output_type": "stream",
     "text": [
      "  ordinary text without R code\n",
      "\n",
      "\r",
      "  |                                                                            \r",
      "  |.........                                                             |  13%"
     ]
    },
    {
     "name": "stdout",
     "output_type": "stream",
     "text": [
      "\n"
     ]
    },
    {
     "name": "stdout",
     "output_type": "stream",
     "text": [
      "label: function change headers\n",
      "\r",
      "  |                                                                            \r",
      "  |..........                                                            |  14%"
     ]
    },
    {
     "name": "stdout",
     "output_type": "stream",
     "text": [
      "\n"
     ]
    },
    {
     "name": "stdout",
     "output_type": "stream",
     "text": [
      "  ordinary text without R code\n",
      "\n",
      "\r",
      "  |                                                                            \r",
      "  |...........                                                           |  15%"
     ]
    },
    {
     "name": "stdout",
     "output_type": "stream",
     "text": [
      "\n"
     ]
    },
    {
     "name": "stdout",
     "output_type": "stream",
     "text": [
      "label: function create summary tables\n",
      "\r",
      "  |                                                                            \r",
      "  |...........                                                           |  16%"
     ]
    },
    {
     "name": "stdout",
     "output_type": "stream",
     "text": [
      "\n"
     ]
    },
    {
     "name": "stdout",
     "output_type": "stream",
     "text": [
      "  ordinary text without R code\n",
      "\n",
      "\r",
      "  |                                                                            \r",
      "  |............                                                          |  17%"
     ]
    },
    {
     "name": "stdout",
     "output_type": "stream",
     "text": [
      "\n"
     ]
    },
    {
     "name": "stdout",
     "output_type": "stream",
     "text": [
      "label: function data cleaning\n",
      "\r",
      "  |                                                                            \r",
      "  |.............                                                         |  18%"
     ]
    },
    {
     "name": "stdout",
     "output_type": "stream",
     "text": [
      "\n"
     ]
    },
    {
     "name": "stdout",
     "output_type": "stream",
     "text": [
      "  ordinary text without R code\n",
      "\n",
      "\r",
      "  |                                                                            \r",
      "  |.............                                                         |  19%"
     ]
    },
    {
     "name": "stdout",
     "output_type": "stream",
     "text": [
      "\n"
     ]
    },
    {
     "name": "stdout",
     "output_type": "stream",
     "text": [
      "label: function convertTable\n",
      "\r",
      "  |                                                                            \r",
      "  |..............                                                        |  20%"
     ]
    },
    {
     "name": "stdout",
     "output_type": "stream",
     "text": [
      "\n"
     ]
    },
    {
     "name": "stdout",
     "output_type": "stream",
     "text": [
      "  ordinary text without R code\n",
      "\n",
      "\r",
      "  |                                                                            \r",
      "  |...............                                                       |  21%"
     ]
    },
    {
     "name": "stdout",
     "output_type": "stream",
     "text": [
      "\n"
     ]
    },
    {
     "name": "stdout",
     "output_type": "stream",
     "text": [
      "label: function createDT\n",
      "\r",
      "  |                                                                            \r",
      "  |...............                                                       |  22%"
     ]
    },
    {
     "name": "stdout",
     "output_type": "stream",
     "text": [
      "\n"
     ]
    },
    {
     "name": "stdout",
     "output_type": "stream",
     "text": [
      "  ordinary text without R code\n",
      "\n",
      "\r",
      "  |                                                                            \r",
      "  |................                                                      |  23%"
     ]
    },
    {
     "name": "stdout",
     "output_type": "stream",
     "text": [
      "\n"
     ]
    },
    {
     "name": "stdout",
     "output_type": "stream",
     "text": [
      "label: function region subset\n",
      "\r",
      "  |                                                                            \r",
      "  |.................                                                     |  24%"
     ]
    },
    {
     "name": "stdout",
     "output_type": "stream",
     "text": [
      "\n"
     ]
    },
    {
     "name": "stdout",
     "output_type": "stream",
     "text": [
      "  ordinary text without R code\n",
      "\n",
      "\r",
      "  |                                                                            \r",
      "  |.................                                                     |  25%"
     ]
    },
    {
     "name": "stdout",
     "output_type": "stream",
     "text": [
      "\n"
     ]
    },
    {
     "name": "stdout",
     "output_type": "stream",
     "text": [
      "label: data_manipulation\n",
      "\r",
      "  |                                                                            \r",
      "  |..................                                                    |  25%"
     ]
    },
    {
     "name": "stdout",
     "output_type": "stream",
     "text": [
      "\n"
     ]
    },
    {
     "name": "stdout",
     "output_type": "stream",
     "text": [
      "  ordinary text without R code\n",
      "\n",
      "\r",
      "  |                                                                            \r",
      "  |..................                                                    |  26%"
     ]
    },
    {
     "name": "stdout",
     "output_type": "stream",
     "text": [
      "\n"
     ]
    },
    {
     "name": "stdout",
     "output_type": "stream",
     "text": [
      "label: aggdatasets\n",
      "\r",
      "  |                                                                            \r",
      "  |...................                                                   |  27%"
     ]
    },
    {
     "name": "stdout",
     "output_type": "stream",
     "text": [
      "\n"
     ]
    },
    {
     "name": "stdout",
     "output_type": "stream",
     "text": [
      "  ordinary text without R code\n",
      "\n",
      "\r",
      "  |                                                                            \r",
      "  |....................                                                  |  28%"
     ]
    },
    {
     "name": "stdout",
     "output_type": "stream",
     "text": [
      "\n"
     ]
    },
    {
     "name": "stdout",
     "output_type": "stream",
     "text": [
      "label: viz_function_kpi\n",
      "\r",
      "  |                                                                            \r",
      "  |....................                                                  |  29%"
     ]
    },
    {
     "name": "stdout",
     "output_type": "stream",
     "text": [
      "\n"
     ]
    },
    {
     "name": "stdout",
     "output_type": "stream",
     "text": [
      "  ordinary text without R code\n",
      "\n",
      "\r",
      "  |                                                                            \r",
      "  |.....................                                                 |  30%"
     ]
    },
    {
     "name": "stdout",
     "output_type": "stream",
     "text": [
      "\n"
     ]
    },
    {
     "name": "stdout",
     "output_type": "stream",
     "text": [
      "label: viz_function_prof\n",
      "\r",
      "  |                                                                            \r",
      "  |......................                                                |  31%"
     ]
    },
    {
     "name": "stdout",
     "output_type": "stream",
     "text": [
      "\n"
     ]
    },
    {
     "name": "stdout",
     "output_type": "stream",
     "text": [
      "  ordinary text without R code\n",
      "\n",
      "\r",
      "  |                                                                            \r",
      "  |......................                                                |  32%"
     ]
    },
    {
     "name": "stdout",
     "output_type": "stream",
     "text": [
      "\n"
     ]
    },
    {
     "name": "stdout",
     "output_type": "stream",
     "text": [
      "label: unnamed-chunk-1\n",
      "\r",
      "  |                                                                            \r",
      "  |.......................                                               |  33%"
     ]
    },
    {
     "name": "stdout",
     "output_type": "stream",
     "text": [
      "\n"
     ]
    },
    {
     "name": "stdout",
     "output_type": "stream",
     "text": [
      "  ordinary text without R code\n",
      "\n",
      "\r",
      "  |                                                                            \r",
      "  |........................                                              |  34%"
     ]
    },
    {
     "name": "stdout",
     "output_type": "stream",
     "text": [
      "\n"
     ]
    },
    {
     "name": "stdout",
     "output_type": "stream",
     "text": [
      "label: unnamed-chunk-2\n",
      "\r",
      "  |                                                                            \r",
      "  |........................                                              |  35%"
     ]
    },
    {
     "name": "stdout",
     "output_type": "stream",
     "text": [
      "\n"
     ]
    },
    {
     "name": "stdout",
     "output_type": "stream",
     "text": [
      "  ordinary text without R code\n",
      "\n",
      "\r",
      "  |                                                                            \r",
      "  |.........................                                             |  36%"
     ]
    },
    {
     "name": "stdout",
     "output_type": "stream",
     "text": [
      "\n"
     ]
    },
    {
     "name": "stdout",
     "output_type": "stream",
     "text": [
      "label: unnamed-chunk-3\n",
      "\r",
      "  |                                                                            \r",
      "  |..........................                                            |  37%"
     ]
    },
    {
     "name": "stdout",
     "output_type": "stream",
     "text": [
      "\n"
     ]
    },
    {
     "name": "stdout",
     "output_type": "stream",
     "text": [
      "  ordinary text without R code\n",
      "\n",
      "\r",
      "  |                                                                            \r",
      "  |..........................                                            |  38%"
     ]
    },
    {
     "name": "stdout",
     "output_type": "stream",
     "text": [
      "\n"
     ]
    },
    {
     "name": "stdout",
     "output_type": "stream",
     "text": [
      "label: unnamed-chunk-4\n",
      "\r",
      "  |                                                                            \r",
      "  |...........................                                           |  39%"
     ]
    },
    {
     "name": "stdout",
     "output_type": "stream",
     "text": [
      "\n"
     ]
    },
    {
     "name": "stdout",
     "output_type": "stream",
     "text": [
      "  ordinary text without R code\n",
      "\n",
      "\r",
      "  |                                                                            \r",
      "  |............................                                          |  40%"
     ]
    },
    {
     "name": "stdout",
     "output_type": "stream",
     "text": [
      "\n"
     ]
    },
    {
     "name": "stdout",
     "output_type": "stream",
     "text": [
      "label: unnamed-chunk-5\n",
      "\r",
      "  |                                                                            \r",
      "  |............................                                          |  41%"
     ]
    },
    {
     "name": "stdout",
     "output_type": "stream",
     "text": [
      "\n"
     ]
    },
    {
     "name": "stdout",
     "output_type": "stream",
     "text": [
      "  ordinary text without R code\n",
      "\n",
      "\r",
      "  |                                                                            \r",
      "  |.............................                                         |  42%"
     ]
    },
    {
     "name": "stdout",
     "output_type": "stream",
     "text": [
      "\n"
     ]
    },
    {
     "name": "stdout",
     "output_type": "stream",
     "text": [
      "label: unnamed-chunk-6\n",
      "\r",
      "  |                                                                            \r",
      "  |..............................                                        |  42%"
     ]
    },
    {
     "name": "stdout",
     "output_type": "stream",
     "text": [
      "\n"
     ]
    },
    {
     "name": "stdout",
     "output_type": "stream",
     "text": [
      "  ordinary text without R code\n",
      "\n",
      "\r",
      "  |                                                                            \r",
      "  |..............................                                        |  43%"
     ]
    },
    {
     "name": "stdout",
     "output_type": "stream",
     "text": [
      "\n"
     ]
    },
    {
     "name": "stdout",
     "output_type": "stream",
     "text": [
      "label: unnamed-chunk-7 (with options) \n",
      "List of 2\n",
      " $ fig.width : num 10\n",
      " $ fig.height: num 6\n",
      "\n"
     ]
    },
    {
     "name": "stdout",
     "output_type": "stream",
     "text": [
      "\r",
      "  |                                                                            \r",
      "  |...............................                                       |  44%"
     ]
    },
    {
     "name": "stdout",
     "output_type": "stream",
     "text": [
      "\n"
     ]
    },
    {
     "name": "stdout",
     "output_type": "stream",
     "text": [
      "  ordinary text without R code\n",
      "\n",
      "\r",
      "  |                                                                            \r",
      "  |................................                                      |  45%"
     ]
    },
    {
     "name": "stdout",
     "output_type": "stream",
     "text": [
      "\n"
     ]
    },
    {
     "name": "stdout",
     "output_type": "stream",
     "text": [
      "label: unnamed-chunk-8 (with options) \n",
      "List of 2\n",
      " $ fig.width : num 10\n",
      " $ fig.height: num 6\n",
      "\n"
     ]
    },
    {
     "name": "stdout",
     "output_type": "stream",
     "text": [
      "\r",
      "  |                                                                            \r",
      "  |................................                                      |  46%"
     ]
    },
    {
     "name": "stdout",
     "output_type": "stream",
     "text": [
      "\n"
     ]
    },
    {
     "name": "stdout",
     "output_type": "stream",
     "text": [
      "  ordinary text without R code\n",
      "\n",
      "\r",
      "  |                                                                            \r",
      "  |.................................                                     |  47%"
     ]
    },
    {
     "name": "stdout",
     "output_type": "stream",
     "text": [
      "\n"
     ]
    },
    {
     "name": "stdout",
     "output_type": "stream",
     "text": [
      "label: unnamed-chunk-9 (with options) \n",
      "List of 2\n",
      " $ fig.width : num 10\n",
      " $ fig.height: num 6\n",
      "\n"
     ]
    },
    {
     "name": "stdout",
     "output_type": "stream",
     "text": [
      "\r",
      "  |                                                                            \r",
      "  |..................................                                    |  48%"
     ]
    },
    {
     "name": "stdout",
     "output_type": "stream",
     "text": [
      "\n"
     ]
    },
    {
     "name": "stdout",
     "output_type": "stream",
     "text": [
      "  ordinary text without R code\n",
      "\n",
      "\r",
      "  |                                                                            \r",
      "  |..................................                                    |  49%"
     ]
    },
    {
     "name": "stdout",
     "output_type": "stream",
     "text": [
      "\n"
     ]
    },
    {
     "name": "stdout",
     "output_type": "stream",
     "text": [
      "label: unnamed-chunk-10 (with options) \n",
      "List of 2\n",
      " $ fig.width : num 10\n",
      " $ fig.height: num 6\n",
      "\n"
     ]
    },
    {
     "name": "stdout",
     "output_type": "stream",
     "text": [
      "\r",
      "  |                                                                            \r",
      "  |...................................                                   |  50%"
     ]
    },
    {
     "name": "stdout",
     "output_type": "stream",
     "text": [
      "\n"
     ]
    },
    {
     "name": "stdout",
     "output_type": "stream",
     "text": [
      "  ordinary text without R code\n",
      "\n",
      "\r",
      "  |                                                                            \r",
      "  |....................................                                  |  51%"
     ]
    },
    {
     "name": "stdout",
     "output_type": "stream",
     "text": [
      "\n"
     ]
    },
    {
     "name": "stdout",
     "output_type": "stream",
     "text": [
      "label: unnamed-chunk-11 (with options) \n",
      "List of 2\n",
      " $ fig.width : num 10\n",
      " $ fig.height: num 6\n",
      "\n"
     ]
    },
    {
     "name": "stdout",
     "output_type": "stream",
     "text": [
      "\r",
      "  |                                                                            \r",
      "  |....................................                                  |  52%"
     ]
    },
    {
     "name": "stdout",
     "output_type": "stream",
     "text": [
      "\n"
     ]
    },
    {
     "name": "stdout",
     "output_type": "stream",
     "text": [
      "  ordinary text without R code\n",
      "\n",
      "\r",
      "  |                                                                            \r",
      "  |.....................................                                 |  53%"
     ]
    },
    {
     "name": "stdout",
     "output_type": "stream",
     "text": [
      "\n"
     ]
    },
    {
     "name": "stdout",
     "output_type": "stream",
     "text": [
      "label: unnamed-chunk-12 (with options) \n",
      "List of 2\n",
      " $ fig.width : num 10\n",
      " $ fig.height: num 6\n",
      "\n"
     ]
    },
    {
     "name": "stdout",
     "output_type": "stream",
     "text": [
      "\r",
      "  |                                                                            \r",
      "  |......................................                                |  54%"
     ]
    },
    {
     "name": "stdout",
     "output_type": "stream",
     "text": [
      "\n"
     ]
    },
    {
     "name": "stdout",
     "output_type": "stream",
     "text": [
      "  ordinary text without R code\n",
      "\n",
      "\r",
      "  |                                                                            \r",
      "  |......................................                                |  55%"
     ]
    },
    {
     "name": "stdout",
     "output_type": "stream",
     "text": [
      "\n"
     ]
    },
    {
     "name": "stdout",
     "output_type": "stream",
     "text": [
      "label: unnamed-chunk-13 (with options) \n",
      "List of 2\n",
      " $ fig.width : num 10\n",
      " $ fig.height: num 6\n",
      "\n"
     ]
    },
    {
     "name": "stdout",
     "output_type": "stream",
     "text": [
      "\r",
      "  |                                                                            \r",
      "  |.......................................                               |  56%"
     ]
    },
    {
     "name": "stdout",
     "output_type": "stream",
     "text": [
      "\n"
     ]
    },
    {
     "name": "stdout",
     "output_type": "stream",
     "text": [
      "  ordinary text without R code\n",
      "\n",
      "\r",
      "  |                                                                            \r",
      "  |........................................                              |  57%"
     ]
    },
    {
     "name": "stdout",
     "output_type": "stream",
     "text": [
      "\n"
     ]
    },
    {
     "name": "stdout",
     "output_type": "stream",
     "text": [
      "label: unnamed-chunk-14 (with options) \n",
      "List of 2\n",
      " $ fig.width : num 10\n",
      " $ fig.height: num 6\n",
      "\n"
     ]
    },
    {
     "name": "stdout",
     "output_type": "stream",
     "text": [
      "\r",
      "  |                                                                            \r",
      "  |........................................                              |  58%"
     ]
    },
    {
     "name": "stdout",
     "output_type": "stream",
     "text": [
      "\n"
     ]
    },
    {
     "name": "stdout",
     "output_type": "stream",
     "text": [
      "  ordinary text without R code\n",
      "\n",
      "\r",
      "  |                                                                            \r",
      "  |.........................................                             |  58%"
     ]
    },
    {
     "name": "stdout",
     "output_type": "stream",
     "text": [
      "\n"
     ]
    },
    {
     "name": "stdout",
     "output_type": "stream",
     "text": [
      "label: fin_comp\n"
     ]
    },
    {
     "name": "stderr",
     "output_type": "stream",
     "text": [
      "Warning message in set(dt, which(is.na(dt[[j]])), j, replace):\n",
      "\"Coercing 'character' RHS to 'double' to match the type of the target column (column 10 named 'Comments').\""
     ]
    },
    {
     "name": "stdout",
     "output_type": "stream",
     "text": [
      "\r",
      "  |                                                                            \r",
      "  |..........................................                            |  59%"
     ]
    },
    {
     "name": "stdout",
     "output_type": "stream",
     "text": [
      "\n"
     ]
    },
    {
     "name": "stdout",
     "output_type": "stream",
     "text": [
      "  ordinary text without R code\n",
      "\n",
      "\r",
      "  |                                                                            \r",
      "  |..........................................                            |  60%"
     ]
    },
    {
     "name": "stdout",
     "output_type": "stream",
     "text": [
      "\n"
     ]
    },
    {
     "name": "stdout",
     "output_type": "stream",
     "text": [
      "label: comments_results\n"
     ]
    },
    {
     "name": "stderr",
     "output_type": "stream",
     "text": [
      "Warning message in set(dt, which(is.na(dt[[j]])), j, replace):\n",
      "\"Coercing 'character' RHS to 'double' to match the type of the target column (column 6 named 'Comments').\""
     ]
    },
    {
     "name": "stdout",
     "output_type": "stream",
     "text": [
      "\r",
      "  |                                                                            \r",
      "  |...........................................                           |  61%"
     ]
    },
    {
     "name": "stdout",
     "output_type": "stream",
     "text": [
      "\n"
     ]
    },
    {
     "name": "stdout",
     "output_type": "stream",
     "text": [
      "  ordinary text without R code\n",
      "\n",
      "\r",
      "  |                                                                            \r",
      "  |............................................                          |  62%"
     ]
    },
    {
     "name": "stdout",
     "output_type": "stream",
     "text": [
      "\n"
     ]
    },
    {
     "name": "stdout",
     "output_type": "stream",
     "text": [
      "label: def\n",
      "\r",
      "  |                                                                            \r",
      "  |............................................                          |  63%"
     ]
    },
    {
     "name": "stdout",
     "output_type": "stream",
     "text": [
      "\n"
     ]
    },
    {
     "name": "stdout",
     "output_type": "stream",
     "text": [
      "  ordinary text without R code\n",
      "\n",
      "\r",
      "  |                                                                            \r",
      "  |.............................................                         |  64%"
     ]
    },
    {
     "name": "stdout",
     "output_type": "stream",
     "text": [
      "\n"
     ]
    },
    {
     "name": "stdout",
     "output_type": "stream",
     "text": [
      "label: unnamed-chunk-15\n",
      "\r",
      "  |                                                                            \r",
      "  |..............................................                        |  65%"
     ]
    },
    {
     "name": "stdout",
     "output_type": "stream",
     "text": [
      "\n"
     ]
    },
    {
     "name": "stdout",
     "output_type": "stream",
     "text": [
      "  ordinary text without R code\n",
      "\n",
      "\r",
      "  |                                                                            \r",
      "  |..............................................                        |  66%"
     ]
    },
    {
     "name": "stdout",
     "output_type": "stream",
     "text": [
      "\n"
     ]
    },
    {
     "name": "stdout",
     "output_type": "stream",
     "text": [
      "label: unnamed-chunk-16\n",
      "\r",
      "  |                                                                            \r",
      "  |...............................................                       |  67%"
     ]
    },
    {
     "name": "stdout",
     "output_type": "stream",
     "text": [
      "\n"
     ]
    },
    {
     "name": "stdout",
     "output_type": "stream",
     "text": [
      "  ordinary text without R code\n",
      "\n",
      "\r",
      "  |                                                                            \r",
      "  |................................................                      |  68%"
     ]
    },
    {
     "name": "stdout",
     "output_type": "stream",
     "text": [
      "\n"
     ]
    },
    {
     "name": "stdout",
     "output_type": "stream",
     "text": [
      "label: unnamed-chunk-17 (with options) \n",
      "List of 1\n",
      " $ include: logi FALSE\n",
      "\n",
      "\r",
      "  |                                                                            \r",
      "  |................................................                      |  69%"
     ]
    },
    {
     "name": "stdout",
     "output_type": "stream",
     "text": [
      "\n"
     ]
    },
    {
     "name": "stdout",
     "output_type": "stream",
     "text": [
      "  ordinary text without R code\n",
      "\n",
      "\r",
      "  |                                                                            \r",
      "  |.................................................                     |  70%"
     ]
    },
    {
     "name": "stdout",
     "output_type": "stream",
     "text": [
      "\n"
     ]
    },
    {
     "name": "stdout",
     "output_type": "stream",
     "text": [
      "label: unnamed-chunk-18 (with options) \n",
      "List of 1\n",
      " $ results: chr \"asis\"\n",
      "\n",
      "\r",
      "  |                                                                            \r",
      "  |..................................................                    |  71%"
     ]
    },
    {
     "name": "stdout",
     "output_type": "stream",
     "text": [
      "\n"
     ]
    },
    {
     "name": "stdout",
     "output_type": "stream",
     "text": [
      "  ordinary text without R code\n",
      "\n",
      "\r",
      "  |                                                                            \r",
      "  |..................................................                    |  72%"
     ]
    },
    {
     "name": "stdout",
     "output_type": "stream",
     "text": [
      "\n"
     ]
    },
    {
     "name": "stdout",
     "output_type": "stream",
     "text": [
      "label: unnamed-chunk-19\n",
      "\r",
      "  |                                                                            \r",
      "  |...................................................                   |  73%"
     ]
    },
    {
     "name": "stdout",
     "output_type": "stream",
     "text": [
      "\n"
     ]
    },
    {
     "name": "stdout",
     "output_type": "stream",
     "text": [
      "  ordinary text without R code\n",
      "\n",
      "\r",
      "  |                                                                            \r",
      "  |....................................................                  |  74%"
     ]
    },
    {
     "name": "stdout",
     "output_type": "stream",
     "text": [
      "\n"
     ]
    },
    {
     "name": "stdout",
     "output_type": "stream",
     "text": [
      "label: unnamed-chunk-20 (with options) \n",
      "List of 1\n",
      " $ include: logi FALSE\n",
      "\n",
      "\r",
      "  |                                                                            \r",
      "  |....................................................                  |  75%"
     ]
    },
    {
     "name": "stdout",
     "output_type": "stream",
     "text": [
      "\n"
     ]
    },
    {
     "name": "stdout",
     "output_type": "stream",
     "text": [
      "  ordinary text without R code\n",
      "\n",
      "\r",
      "  |                                                                            \r",
      "  |.....................................................                 |  75%"
     ]
    },
    {
     "name": "stdout",
     "output_type": "stream",
     "text": [
      "\n"
     ]
    },
    {
     "name": "stdout",
     "output_type": "stream",
     "text": [
      "label: unnamed-chunk-21 (with options) \n",
      "List of 1\n",
      " $ results: chr \"asis\"\n",
      "\n",
      "\r",
      "  |                                                                            \r",
      "  |.....................................................                 |  76%"
     ]
    },
    {
     "name": "stdout",
     "output_type": "stream",
     "text": [
      "\n"
     ]
    },
    {
     "name": "stdout",
     "output_type": "stream",
     "text": [
      "  ordinary text without R code\n",
      "\n",
      "\r",
      "  |                                                                            \r",
      "  |......................................................                |  77%"
     ]
    },
    {
     "name": "stdout",
     "output_type": "stream",
     "text": [
      "\n"
     ]
    },
    {
     "name": "stdout",
     "output_type": "stream",
     "text": [
      "label: unnamed-chunk-22\n",
      "\r",
      "  |                                                                            \r",
      "  |.......................................................               |  78%"
     ]
    },
    {
     "name": "stdout",
     "output_type": "stream",
     "text": [
      "\n"
     ]
    },
    {
     "name": "stdout",
     "output_type": "stream",
     "text": [
      "  ordinary text without R code\n",
      "\n",
      "\r",
      "  |                                                                            \r",
      "  |.......................................................               |  79%"
     ]
    },
    {
     "name": "stdout",
     "output_type": "stream",
     "text": [
      "\n"
     ]
    },
    {
     "name": "stdout",
     "output_type": "stream",
     "text": [
      "label: unnamed-chunk-23 (with options) \n",
      "List of 1\n",
      " $ include: logi FALSE\n",
      "\n",
      "\r",
      "  |                                                                            \r",
      "  |........................................................              |  80%"
     ]
    },
    {
     "name": "stdout",
     "output_type": "stream",
     "text": [
      "\n"
     ]
    },
    {
     "name": "stdout",
     "output_type": "stream",
     "text": [
      "  ordinary text without R code\n",
      "\n",
      "\r",
      "  |                                                                            \r",
      "  |.........................................................             |  81%"
     ]
    },
    {
     "name": "stdout",
     "output_type": "stream",
     "text": [
      "\n"
     ]
    },
    {
     "name": "stdout",
     "output_type": "stream",
     "text": [
      "label: unnamed-chunk-24 (with options) \n",
      "List of 1\n",
      " $ results: chr \"asis\"\n",
      "\n",
      "\r",
      "  |                                                                            \r",
      "  |.........................................................             |  82%"
     ]
    },
    {
     "name": "stdout",
     "output_type": "stream",
     "text": [
      "\n"
     ]
    },
    {
     "name": "stdout",
     "output_type": "stream",
     "text": [
      "  ordinary text without R code\n",
      "\n",
      "\r",
      "  |                                                                            \r",
      "  |..........................................................            |  83%"
     ]
    },
    {
     "name": "stdout",
     "output_type": "stream",
     "text": [
      "\n"
     ]
    },
    {
     "name": "stdout",
     "output_type": "stream",
     "text": [
      "label: unnamed-chunk-25\n",
      "\r",
      "  |                                                                            \r",
      "  |...........................................................           |  84%"
     ]
    },
    {
     "name": "stdout",
     "output_type": "stream",
     "text": [
      "\n"
     ]
    },
    {
     "name": "stdout",
     "output_type": "stream",
     "text": [
      "  ordinary text without R code\n",
      "\n",
      "\r",
      "  |                                                                            \r",
      "  |...........................................................           |  85%"
     ]
    },
    {
     "name": "stdout",
     "output_type": "stream",
     "text": [
      "\n"
     ]
    },
    {
     "name": "stdout",
     "output_type": "stream",
     "text": [
      "label: unnamed-chunk-26 (with options) \n",
      "List of 1\n",
      " $ include: logi FALSE\n",
      "\n",
      "\r",
      "  |                                                                            \r",
      "  |............................................................          |  86%"
     ]
    },
    {
     "name": "stdout",
     "output_type": "stream",
     "text": [
      "\n"
     ]
    },
    {
     "name": "stdout",
     "output_type": "stream",
     "text": [
      "  ordinary text without R code\n",
      "\n",
      "\r",
      "  |                                                                            \r",
      "  |.............................................................         |  87%"
     ]
    },
    {
     "name": "stdout",
     "output_type": "stream",
     "text": [
      "\n"
     ]
    },
    {
     "name": "stdout",
     "output_type": "stream",
     "text": [
      "label: unnamed-chunk-27 (with options) \n",
      "List of 1\n",
      " $ results: chr \"asis\"\n",
      "\n",
      "\r",
      "  |                                                                            \r",
      "  |.............................................................         |  88%"
     ]
    },
    {
     "name": "stdout",
     "output_type": "stream",
     "text": [
      "\n"
     ]
    },
    {
     "name": "stdout",
     "output_type": "stream",
     "text": [
      "  ordinary text without R code\n",
      "\n",
      "\r",
      "  |                                                                            \r",
      "  |..............................................................        |  89%"
     ]
    },
    {
     "name": "stdout",
     "output_type": "stream",
     "text": [
      "\n"
     ]
    },
    {
     "name": "stdout",
     "output_type": "stream",
     "text": [
      "label: unnamed-chunk-28\n",
      "\r",
      "  |                                                                            \r",
      "  |...............................................................       |  90%"
     ]
    },
    {
     "name": "stdout",
     "output_type": "stream",
     "text": [
      "\n"
     ]
    },
    {
     "name": "stdout",
     "output_type": "stream",
     "text": [
      "  ordinary text without R code\n",
      "\n",
      "\r",
      "  |                                                                            \r",
      "  |...............................................................       |  91%"
     ]
    },
    {
     "name": "stdout",
     "output_type": "stream",
     "text": [
      "\n"
     ]
    },
    {
     "name": "stdout",
     "output_type": "stream",
     "text": [
      "label: unnamed-chunk-29\n",
      "\r",
      "  |                                                                            \r",
      "  |................................................................      |  92%"
     ]
    },
    {
     "name": "stdout",
     "output_type": "stream",
     "text": [
      "\n"
     ]
    },
    {
     "name": "stdout",
     "output_type": "stream",
     "text": [
      "  ordinary text without R code\n",
      "\n",
      "\r",
      "  |                                                                            \r",
      "  |.................................................................     |  92%"
     ]
    },
    {
     "name": "stdout",
     "output_type": "stream",
     "text": [
      "\n"
     ]
    },
    {
     "name": "stdout",
     "output_type": "stream",
     "text": [
      "label: unnamed-chunk-30\n",
      "\r",
      "  |                                                                            \r",
      "  |.................................................................     |  93%"
     ]
    },
    {
     "name": "stdout",
     "output_type": "stream",
     "text": [
      "\n"
     ]
    },
    {
     "name": "stdout",
     "output_type": "stream",
     "text": [
      "  ordinary text without R code\n",
      "\n",
      "\r",
      "  |                                                                            \r",
      "  |..................................................................    |  94%"
     ]
    },
    {
     "name": "stdout",
     "output_type": "stream",
     "text": [
      "\n"
     ]
    },
    {
     "name": "stdout",
     "output_type": "stream",
     "text": [
      "label: unnamed-chunk-31\n",
      "\r",
      "  |                                                                            \r",
      "  |...................................................................   |  95%"
     ]
    },
    {
     "name": "stdout",
     "output_type": "stream",
     "text": [
      "\n"
     ]
    },
    {
     "name": "stdout",
     "output_type": "stream",
     "text": [
      "  ordinary text without R code\n",
      "\n",
      "\r",
      "  |                                                                            \r",
      "  |...................................................................   |  96%"
     ]
    },
    {
     "name": "stdout",
     "output_type": "stream",
     "text": [
      "\n"
     ]
    },
    {
     "name": "stdout",
     "output_type": "stream",
     "text": [
      "label: unnamed-chunk-32\n",
      "\r",
      "  |                                                                            \r",
      "  |....................................................................  |  97%"
     ]
    },
    {
     "name": "stdout",
     "output_type": "stream",
     "text": [
      "\n"
     ]
    },
    {
     "name": "stdout",
     "output_type": "stream",
     "text": [
      "  ordinary text without R code\n",
      "\n",
      "\r",
      "  |                                                                            \r",
      "  |..................................................................... |  98%"
     ]
    },
    {
     "name": "stdout",
     "output_type": "stream",
     "text": [
      "\n"
     ]
    },
    {
     "name": "stdout",
     "output_type": "stream",
     "text": [
      "label: unnamed-chunk-33\n",
      "\r",
      "  |                                                                            \r",
      "  |..................................................................... |  99%"
     ]
    },
    {
     "name": "stdout",
     "output_type": "stream",
     "text": [
      "\n"
     ]
    },
    {
     "name": "stdout",
     "output_type": "stream",
     "text": [
      "  ordinary text without R code\n",
      "\n",
      "\r",
      "  |                                                                            \r",
      "  |......................................................................| 100%"
     ]
    },
    {
     "name": "stdout",
     "output_type": "stream",
     "text": [
      "\n"
     ]
    },
    {
     "name": "stdout",
     "output_type": "stream",
     "text": [
      "label: unnamed-chunk-34\n",
      "\n"
     ]
    },
    {
     "name": "stderr",
     "output_type": "stream",
     "text": [
      "output file: Travel_Global_Report.knit.md\n",
      "\n"
     ]
    },
    {
     "name": "stdout",
     "output_type": "stream",
     "text": [
      "\"C:/Users/gharmo/ANACON~2/Scripts/pandoc\" +RTS -K512m -RTS Travel_Global_Report.knit.md --to html4 --from markdown+autolink_bare_uris+tex_math_single_backslash --output pandoc9d54270d7c89.html --lua-filter \"C:\\Users\\gharmo\\Documents\\R\\win-library\\3.6\\rmarkdown\\rmarkdown\\lua\\pagebreak.lua\" --lua-filter \"C:\\Users\\gharmo\\Documents\\R\\win-library\\3.6\\rmarkdown\\rmarkdown\\lua\\latex-div.lua\" --self-contained --variable bs3=TRUE --standalone --section-divs --template \"C:\\Users\\gharmo\\Documents\\R\\win-library\\3.6\\flexdashboard\\rmarkdown\\templates\\flex_dashboard\\resources\\default.html\" --variable theme=cosmo --include-in-header \"C:\\Users\\gharmo\\AppData\\Local\\Temp\\RtmpC842Id\\rmarkdown-str9d5446ac179a.html\" --mathjax --variable \"mathjax-url:https://mathjax.rstudio.com/latest/MathJax.js?config=TeX-AMS-MML_HTMLorMML\" --variable logo=AzPTravel_White_XSm.png --include-in-header \"C:\\Users\\gharmo\\AppData\\Local\\Temp\\RtmpC842Id\\file9d54e187d33html\" --include-before-body \"C:\\Users\\gharmo\\AppData\\Local\\Temp\\RtmpC842Id\\file9d54b4969fd.html\" --highlight-style pygments --include-before-body \"C:\\Users\\gharmo\\AppData\\Local\\Temp\\RtmpC842Id\\file9d543f317ee7.html\" --include-after-body footer.html --include-after-body \"C:\\Users\\gharmo\\AppData\\Local\\Temp\\RtmpC842Id\\file9d54562be9e.html\" --css styles.css \n"
     ]
    },
    {
     "name": "stderr",
     "output_type": "stream",
     "text": [
      "\n",
      "Output created: H:/Reporting/Data Collection/2021.Q1/Global Travel LOB Report/Travel_Global_Report.html\n"
     ]
    }
   ],
   "source": [
    "print(\"Knitting Travel Global Report\")   \n",
    "\n",
    "rmarkdown::render(rmdnetworkpath, output_file = html_name ,  output_dir = html_path ,   params = list(region = 'all', period = percode ) )\n"
   ]
  },
  {
   "cell_type": "markdown",
   "id": "17fe08f2",
   "metadata": {
    "papermill": {
     "duration": 0.75865,
     "end_time": "2021-06-09T21:57:48.500438",
     "exception": false,
     "start_time": "2021-06-09T21:57:47.741788",
     "status": "completed"
    },
    "tags": []
   },
   "source": [
    "#### Open the file that was knit"
   ]
  },
  {
   "cell_type": "code",
   "execution_count": 7,
   "id": "da0648df",
   "metadata": {
    "execution": {
     "iopub.execute_input": "2021-06-09T21:57:50.977175Z",
     "iopub.status.busy": "2021-06-09T21:57:50.973179Z",
     "iopub.status.idle": "2021-06-09T21:57:54.516910Z",
     "shell.execute_reply": "2021-06-09T21:57:54.508905Z"
    },
    "papermill": {
     "duration": 4.925299,
     "end_time": "2021-06-09T21:57:54.516910",
     "exception": false,
     "start_time": "2021-06-09T21:57:49.591611",
     "status": "completed"
    },
    "tags": []
   },
   "outputs": [],
   "source": [
    "openHTML <- function(x) browseURL(paste0('file://', x))\n",
    "\n",
    "openHTML(html_full_name)"
   ]
  },
  {
   "cell_type": "code",
   "execution_count": null,
   "id": "31e08f96",
   "metadata": {
    "papermill": {
     "duration": 1.949164,
     "end_time": "2021-06-09T21:57:57.291577",
     "exception": false,
     "start_time": "2021-06-09T21:57:55.342413",
     "status": "completed"
    },
    "tags": []
   },
   "outputs": [],
   "source": []
  }
 ],
 "metadata": {
  "celltoolbar": "Tags",
  "kernelspec": {
   "display_name": "R",
   "language": "R",
   "name": "ir"
  },
  "language_info": {
   "codemirror_mode": "r",
   "file_extension": ".r",
   "mimetype": "text/x-r-source",
   "name": "R",
   "pygments_lexer": "r",
   "version": "3.6.1"
  },
  "papermill": {
   "default_parameters": {},
   "duration": 412.895917,
   "end_time": "2021-06-09T21:57:59.438487",
   "environment_variables": {},
   "exception": null,
   "input_path": "reporting/knit Travel_Global_Report.ipynb",
   "output_path": "//hecate/Insurance_US/Product Development/Product Management/Global PPM/Reporting/Data Collection/Pipeline Reporting Scripts/GPMpipeline/instances/2021.Q1\\reporting\\knit Travel_Global_Report06092021152753--live, add IE.ipynb",
   "parameters": {
    "commit_message": "Live run,Late additions EI was not present.",
    "inst_datetime": "06092021152753",
    "percode": "2021.Q1",
    "run_control": 1
   },
   "start_time": "2021-06-09T21:51:06.542570",
   "version": "2.3.3"
  }
 },
 "nbformat": 4,
 "nbformat_minor": 5
}