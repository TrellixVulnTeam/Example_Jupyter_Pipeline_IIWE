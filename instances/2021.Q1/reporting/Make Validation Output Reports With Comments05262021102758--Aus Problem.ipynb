{
 "cells": [
  {
   "cell_type": "markdown",
   "id": "d08fbf02",
   "metadata": {
    "tags": [
     "papermill-error-cell-tag"
    ]
   },
   "source": [
    "<span style=\"color:red; font-family:Helvetica Neue, Helvetica, Arial, sans-serif; font-size:2em;\">An Exception was encountered at '<a href=\"#papermill-error-cell\">In [12]</a>'.</span>"
   ]
  },
  {
   "cell_type": "markdown",
   "id": "f103f44b",
   "metadata": {
    "papermill": {
     "duration": 0.280182,
     "end_time": "2021-05-26T14:36:18.388623",
     "exception": false,
     "start_time": "2021-05-26T14:36:18.108441",
     "status": "completed"
    },
    "tags": []
   },
   "source": [
    "<img src=\"../images/AzPTravel_PPM.png\">"
   ]
  },
  {
   "cell_type": "markdown",
   "id": "839c857f",
   "metadata": {
    "papermill": {
     "duration": 0.256466,
     "end_time": "2021-05-26T14:36:18.891727",
     "exception": false,
     "start_time": "2021-05-26T14:36:18.635261",
     "status": "completed"
    },
    "tags": []
   },
   "source": [
    "## Validation Report Creation Script\n",
    "\n",
    "#### This script reads the output of the \"us_vdf*\" and \"us_vcomments*\" data files and summarizes  them into a report: Validations Review _{BU}.xlsx\n",
    "\n",
    "#### When finished, it will be able to be run on its own or as part of the pipeline wherever called (ie from a papermill script or other user inteface).\n"
   ]
  },
  {
   "cell_type": "markdown",
   "id": "d1b0d492",
   "metadata": {
    "papermill": {
     "duration": 0.264535,
     "end_time": "2021-05-26T14:36:19.438272",
     "exception": false,
     "start_time": "2021-05-26T14:36:19.173737",
     "status": "completed"
    },
    "tags": []
   },
   "source": [
    "### User Variables\n",
    "- These are overwritten if inherited from run_control.ipynb.\n",
    "- Feel Free to reset them for a manual run if you like\n",
    "- Do not save without percode = \"-f\""
   ]
  },
  {
   "cell_type": "code",
   "execution_count": 1,
   "id": "0916c172",
   "metadata": {
    "execution": {
     "iopub.execute_input": "2021-05-26T14:36:19.988318Z",
     "iopub.status.busy": "2021-05-26T14:36:19.985314Z",
     "iopub.status.idle": "2021-05-26T14:36:20.002313Z",
     "shell.execute_reply": "2021-05-26T14:36:20.022308Z"
    },
    "papermill": {
     "duration": 0.309997,
     "end_time": "2021-05-26T14:36:20.023308",
     "exception": false,
     "start_time": "2021-05-26T14:36:19.713311",
     "status": "completed"
    },
    "tags": [
     "parameters"
    ]
   },
   "outputs": [],
   "source": [
    "commit_message = \"Development and testing.\"\n",
    "# Give a brief reason for the run.\n",
    "\n",
    "run_control = 1\n",
    "#run_type = 0 - Lite run with no reporting, not recommended.\n",
    "#run_type = 1 - Lite run with normal reporting, default setting.\n",
    "#run_type = 2 - Heavy run with full reporting, available for audits and troubleshooting.\n",
    "#run_type = 5 - A default setting. Indicates the script is being run by an outside process without an inherited value\n",
    "\n",
    "percode = \"2021.Q1\"\n",
    "# Data Collection Code, this controls file paths and output names\n",
    "# \"-f\" is the value indicating a bad inheritance from run with arg\n",
    "\n",
    "s_format = \"p\"\n",
    "# denotes the source data format x == Excel; j == json, p == parquet\n",
    "\n",
    "#----------\n",
    "# do not edit - this either inherits the full instance timestamp from the papermill book or captures the run time of this script.\n",
    "from datetime import datetime  # datetime options\n",
    "inst_datetime = datetime.now().strftime(\"%m%d%Y%H%M%S\")"
   ]
  },
  {
   "cell_type": "code",
   "execution_count": 2,
   "id": "9271a694",
   "metadata": {
    "execution": {
     "iopub.execute_input": "2021-05-26T14:36:20.525206Z",
     "iopub.status.busy": "2021-05-26T14:36:20.522207Z",
     "iopub.status.idle": "2021-05-26T14:36:20.533207Z",
     "shell.execute_reply": "2021-05-26T14:36:20.534209Z"
    },
    "papermill": {
     "duration": 0.250732,
     "end_time": "2021-05-26T14:36:20.535221",
     "exception": false,
     "start_time": "2021-05-26T14:36:20.284489",
     "status": "completed"
    },
    "tags": [
     "injected-parameters"
    ]
   },
   "outputs": [],
   "source": [
    "# Parameters\n",
    "run_control = 1\n",
    "percode = \"2021.Q1\"\n",
    "commit_message = \"New AUS needed to be converted from json\"\n",
    "inst_datetime = \"05262021102758\"\n"
   ]
  },
  {
   "cell_type": "markdown",
   "id": "2b3335f9",
   "metadata": {
    "papermill": {
     "duration": 0.264433,
     "end_time": "2021-05-26T14:36:21.046165",
     "exception": false,
     "start_time": "2021-05-26T14:36:20.781732",
     "status": "completed"
    },
    "tags": []
   },
   "source": [
    "#### Notebook display options"
   ]
  },
  {
   "cell_type": "code",
   "execution_count": 3,
   "id": "5dbe1a29",
   "metadata": {
    "execution": {
     "iopub.execute_input": "2021-05-26T14:36:21.690688Z",
     "iopub.status.busy": "2021-05-26T14:36:21.687682Z",
     "iopub.status.idle": "2021-05-26T14:36:21.696695Z",
     "shell.execute_reply": "2021-05-26T14:36:21.697689Z"
    },
    "papermill": {
     "duration": 0.279534,
     "end_time": "2021-05-26T14:36:21.698689",
     "exception": false,
     "start_time": "2021-05-26T14:36:21.419155",
     "status": "completed"
    },
    "tags": []
   },
   "outputs": [],
   "source": [
    "from IPython.core.interactiveshell import InteractiveShell\n",
    "InteractiveShell.ast_node_interactivity = \"all\""
   ]
  },
  {
   "cell_type": "markdown",
   "id": "d658534a",
   "metadata": {
    "papermill": {
     "duration": 0.279781,
     "end_time": "2021-05-26T14:36:22.259814",
     "exception": false,
     "start_time": "2021-05-26T14:36:21.980033",
     "status": "completed"
    },
    "tags": []
   },
   "source": [
    "#### import packages"
   ]
  },
  {
   "cell_type": "code",
   "execution_count": 4,
   "id": "8aa67254",
   "metadata": {
    "execution": {
     "iopub.execute_input": "2021-05-26T14:36:25.611445Z",
     "iopub.status.busy": "2021-05-26T14:36:25.605443Z",
     "iopub.status.idle": "2021-05-26T14:36:38.266319Z",
     "shell.execute_reply": "2021-05-26T14:36:38.268320Z"
    },
    "papermill": {
     "duration": 15.720823,
     "end_time": "2021-05-26T14:36:38.269330",
     "exception": false,
     "start_time": "2021-05-26T14:36:22.548507",
     "status": "completed"
    },
    "tags": []
   },
   "outputs": [],
   "source": [
    "#### Packages used\n",
    "\n",
    "import os # System commands\n",
    "import sys # System commands\n",
    "\n",
    "import warnings # custom warnigns options\n",
    "\n",
    "import glob # Directory operations\n",
    "import getpass # Work with parquet\n",
    "import json # Work with json\n",
    "\n",
    "import matplotlib.pyplot as plt #Plots and Graphs\n",
    "import numpy as np # Series and math\n",
    "import pandas as pd #DataFrame and math\n",
    "\n",
    "#excel operations\n",
    "import re\n",
    "import nicexcel as nl # Excel operations\n",
    "import xlsxwriter # Excel operations\n",
    "import openpyxl # Excel operations\n"
   ]
  },
  {
   "cell_type": "markdown",
   "id": "ce7efb63",
   "metadata": {
    "papermill": {
     "duration": 0.584886,
     "end_time": "2021-05-26T14:36:39.119204",
     "exception": false,
     "start_time": "2021-05-26T14:36:38.534318",
     "status": "completed"
    },
    "tags": []
   },
   "source": [
    "#### Default Variables, these govern logic, do not edit."
   ]
  },
  {
   "cell_type": "code",
   "execution_count": 5,
   "id": "55268c5a",
   "metadata": {
    "execution": {
     "iopub.execute_input": "2021-05-26T14:36:39.643290Z",
     "iopub.status.busy": "2021-05-26T14:36:39.640284Z",
     "iopub.status.idle": "2021-05-26T14:36:39.648283Z",
     "shell.execute_reply": "2021-05-26T14:36:39.649283Z"
    },
    "papermill": {
     "duration": 0.248998,
     "end_time": "2021-05-26T14:36:39.650283",
     "exception": false,
     "start_time": "2021-05-26T14:36:39.401285",
     "status": "completed"
    },
    "tags": []
   },
   "outputs": [],
   "source": [
    "default_dc = \"20XX.QX\"\n",
    "default_rc = 0 #extra lite mode\n",
    "dummy_perc = \"33Q3\" # bad inheritance"
   ]
  },
  {
   "cell_type": "markdown",
   "id": "b6a69f0d",
   "metadata": {
    "papermill": {
     "duration": 0.520128,
     "end_time": "2021-05-26T14:36:40.477472",
     "exception": false,
     "start_time": "2021-05-26T14:36:39.957344",
     "status": "completed"
    },
    "tags": []
   },
   "source": [
    "#### Script determining run context ie, manual, run_control.ipynb, or other."
   ]
  },
  {
   "cell_type": "code",
   "execution_count": 6,
   "id": "b3de194d",
   "metadata": {
    "execution": {
     "iopub.execute_input": "2021-05-26T14:36:41.190451Z",
     "iopub.status.busy": "2021-05-26T14:36:41.184292Z",
     "iopub.status.idle": "2021-05-26T14:36:41.197293Z",
     "shell.execute_reply": "2021-05-26T14:36:41.198292Z"
    },
    "papermill": {
     "duration": 0.327468,
     "end_time": "2021-05-26T14:36:41.198292",
     "exception": false,
     "start_time": "2021-05-26T14:36:40.870824",
     "status": "completed"
    },
    "tags": []
   },
   "outputs": [],
   "source": [
    "if run_control == 5:\n",
    "    run_control = default_rc \n",
    "else:\n",
    "    run_control = run_control\n",
    "\n",
    "try:\n",
    "    if sys.argv[1] == \"-f\":\n",
    "        percode = percode\n",
    "    else:\n",
    "        percode = sys.argv[1]\n",
    "\n",
    "except IndexError:\n",
    "    percode = default_dc\n",
    "except NameError:\n",
    "    percode = default_dc\n"
   ]
  },
  {
   "cell_type": "markdown",
   "id": "ea299d92",
   "metadata": {
    "papermill": {
     "duration": 0.288009,
     "end_time": "2021-05-26T14:36:41.767829",
     "exception": false,
     "start_time": "2021-05-26T14:36:41.479820",
     "status": "completed"
    },
    "tags": []
   },
   "source": [
    "#### style settings"
   ]
  },
  {
   "cell_type": "code",
   "execution_count": 7,
   "id": "900e11cb",
   "metadata": {
    "execution": {
     "iopub.execute_input": "2021-05-26T14:36:42.366331Z",
     "iopub.status.busy": "2021-05-26T14:36:42.365344Z",
     "iopub.status.idle": "2021-05-26T14:36:42.376333Z",
     "shell.execute_reply": "2021-05-26T14:36:42.377332Z"
    },
    "papermill": {
     "duration": 0.317528,
     "end_time": "2021-05-26T14:36:42.378345",
     "exception": false,
     "start_time": "2021-05-26T14:36:42.060817",
     "status": "completed"
    },
    "tags": []
   },
   "outputs": [],
   "source": [
    "from IPython.core.interactiveshell import InteractiveShell\n",
    "InteractiveShell.ast_node_interactivity = \"all\""
   ]
  },
  {
   "cell_type": "markdown",
   "id": "636e8b01",
   "metadata": {
    "papermill": {
     "duration": 0.327283,
     "end_time": "2021-05-26T14:36:43.069764",
     "exception": false,
     "start_time": "2021-05-26T14:36:42.742481",
     "status": "completed"
    },
    "tags": []
   },
   "source": [
    "\n",
    "## Begin Input Read\n",
    "- Make paths used in script\n",
    "- all paths should be modular and easily replaced ahead of operations."
   ]
  },
  {
   "cell_type": "code",
   "execution_count": 8,
   "id": "7a8ba769",
   "metadata": {
    "execution": {
     "iopub.execute_input": "2021-05-26T14:36:43.814812Z",
     "iopub.status.busy": "2021-05-26T14:36:43.806811Z",
     "iopub.status.idle": "2021-05-26T14:36:43.821344Z",
     "shell.execute_reply": "2021-05-26T14:36:43.822337Z"
    },
    "papermill": {
     "duration": 0.334057,
     "end_time": "2021-05-26T14:36:43.823343",
     "exception": false,
     "start_time": "2021-05-26T14:36:43.489286",
     "status": "completed"
    },
    "tags": []
   },
   "outputs": [],
   "source": [
    "#root directory\n",
    "rt_path = f'//hecate/Insurance_US/Product Development/Product Management/Global PPM/Reporting/Data Collection/Production/{str(percode)}'\n",
    "#live sources directory\n",
    "ls_path = os.path.join( rt_path, 'live_sources')\n",
    "#report ouput dir\n",
    "rep_path = os.path.abspath(os.path.join(rt_path, '..','..',f\"{percode}\", 'Validation Reports'))\n",
    "#report ouput archive dir\n",
    "rep_arch_path = os.path.abspath(os.path.join(rep_path, '..','..',f\"{percode}\",  'Archive'))\n"
   ]
  },
  {
   "cell_type": "markdown",
   "id": "d58f5eee",
   "metadata": {
    "papermill": {
     "duration": 0.40257,
     "end_time": "2021-05-26T14:36:44.539569",
     "exception": false,
     "start_time": "2021-05-26T14:36:44.136999",
     "status": "completed"
    },
    "tags": []
   },
   "source": [
    "#### Make sources used in script\n",
    "- all sources should be modular and easily replaced ahead of operations."
   ]
  },
  {
   "cell_type": "code",
   "execution_count": 9,
   "id": "338b8ae7",
   "metadata": {
    "execution": {
     "iopub.execute_input": "2021-05-26T14:36:45.180367Z",
     "iopub.status.busy": "2021-05-26T14:36:45.178362Z",
     "iopub.status.idle": "2021-05-26T14:36:45.194362Z",
     "shell.execute_reply": "2021-05-26T14:36:45.197359Z"
    },
    "papermill": {
     "duration": 0.356361,
     "end_time": "2021-05-26T14:36:45.198360",
     "exception": false,
     "start_time": "2021-05-26T14:36:44.841999",
     "status": "completed"
    },
    "tags": []
   },
   "outputs": [],
   "source": [
    "rep_xls = os.path.join(rep_path ,\"Validations Review_xx.xlsx\"   )"
   ]
  },
  {
   "cell_type": "markdown",
   "id": "0f05b300",
   "metadata": {
    "papermill": {
     "duration": 0.414,
     "end_time": "2021-05-26T14:36:46.032531",
     "exception": false,
     "start_time": "2021-05-26T14:36:45.618531",
     "status": "completed"
    },
    "tags": []
   },
   "source": [
    "#### Get a list of only source files in the path that start with \"us_dat\".\n",
    "#### Logic determines the source file types.\n",
    "\n",
    "#### User instructions:\n",
    "- Make sure that you have 1 file per source in this folder.\n",
    "    -  For instance, do not have two files for Portugal. If there is an update, archive the old one.\n",
    "- Do not overwrite files in the archive.\n",
    "    - Rename newly archived files, no strict convention, we keep track of these by the modified date.\n",
    "- It is ok to have multiple sources in one file."
   ]
  },
  {
   "cell_type": "code",
   "execution_count": 10,
   "id": "ba803051",
   "metadata": {
    "execution": {
     "iopub.execute_input": "2021-05-26T14:36:46.976633Z",
     "iopub.status.busy": "2021-05-26T14:36:46.972638Z",
     "iopub.status.idle": "2021-05-26T14:36:47.076195Z",
     "shell.execute_reply": "2021-05-26T14:36:47.079194Z"
    },
    "papermill": {
     "duration": 0.52012,
     "end_time": "2021-05-26T14:36:47.080197",
     "exception": false,
     "start_time": "2021-05-26T14:36:46.560077",
     "status": "completed"
    },
    "tags": []
   },
   "outputs": [
    {
     "data": {
      "text/plain": [
       "['us_dat_au_05142021143612.parquet',\n",
       " 'us_dat_ca_05202021134242.parquet',\n",
       " 'us_dat_ch_05182021192455.parquet',\n",
       " 'us_dat_cz_05262021090243.parquet',\n",
       " 'us_dat_es_05202021105141.parquet',\n",
       " 'us_dat_gr_05252021115404.parquet',\n",
       " 'us_dat_it_05242021111520.parquet',\n",
       " 'us_dat_pl_05262021084450.parquet',\n",
       " 'us_dat_pt_05202021121056.parquet',\n",
       " 'us_orig_au_05142021143611.json',\n",
       " 'us_survey_au_02172021174808.parquet',\n",
       " 'us_survey_au_05142021143750.parquet',\n",
       " 'us_survey_ca_05202021135610.parquet',\n",
       " 'us_survey_ch_05182021192905.parquet',\n",
       " 'us_survey_cz_05262021090440.parquet',\n",
       " 'us_survey_es_05202021105431.parquet',\n",
       " 'us_survey_gr_05252021115827.parquet',\n",
       " 'us_survey_it_05242021111759.parquet',\n",
       " 'us_survey_pl_05262021084708.parquet',\n",
       " 'us_survey_pt_05202021121304.parquet',\n",
       " 'us_vcomments_au_02172021174434.parquet',\n",
       " 'us_vcomments_au_02172021174440.parquet',\n",
       " 'us_vcomments_au_05142021143612.parquet',\n",
       " 'us_vcomments_au_05142021143617.parquet',\n",
       " 'us_vcomments_au_mnual_creation.parquet',\n",
       " 'us_vcomments_ca_05202021134242.parquet',\n",
       " 'us_vcomments_ch_05182021192455.parquet',\n",
       " 'us_vcomments_ch_05182021192456.parquet',\n",
       " 'us_vcomments_cz_05242021103837.parquet',\n",
       " 'us_vcomments_cz_05262021090243.parquet',\n",
       " 'us_vcomments_es_05202021105141.parquet',\n",
       " 'us_vcomments_es_05202021105142.parquet',\n",
       " 'us_vcomments_gr_05252021115404.parquet',\n",
       " 'us_vcomments_it_05242021111521.parquet',\n",
       " 'us_vcomments_pl_05262021084450.parquet',\n",
       " 'us_vcomments_pt_05202021121056.parquet',\n",
       " 'us_vdf_au_05142021143613.json',\n",
       " 'us_vdf_ca_05202021134242.json',\n",
       " 'us_vdf_ch_05182021192456.json',\n",
       " 'us_vdf_cz_05242021103837.json',\n",
       " 'us_vdf_cz_05262021090243.json',\n",
       " 'us_vdf_es_05202021105142.json',\n",
       " 'us_vdf_gr_05252021115404.json',\n",
       " 'us_vdf_it_05242021111521.json',\n",
       " 'us_vdf_pl_05262021084450.json',\n",
       " 'us_vdf_pt_05202021121056.json']"
      ]
     },
     "execution_count": 10,
     "metadata": {},
     "output_type": "execute_result"
    }
   ],
   "source": [
    "files = os.listdir(ls_path)\n",
    "files = [files.lower() for files in files]\n",
    "\n",
    "files_sour = [f for f in files if f[-5:]  == '.json' or  f[-8:] == '.parquet' and f[:7] != 'us_orig']\n",
    "\n",
    "files_sour"
   ]
  },
  {
   "cell_type": "markdown",
   "id": "acb910d1",
   "metadata": {
    "papermill": {
     "duration": 0.273512,
     "end_time": "2021-05-26T14:36:47.670406",
     "exception": false,
     "start_time": "2021-05-26T14:36:47.396894",
     "status": "completed"
    },
    "tags": []
   },
   "source": [
    "#### Make a list of BUs that have comments available"
   ]
  },
  {
   "cell_type": "code",
   "execution_count": 11,
   "id": "d4c70097",
   "metadata": {
    "execution": {
     "iopub.execute_input": "2021-05-26T14:36:48.471980Z",
     "iopub.status.busy": "2021-05-26T14:36:48.456981Z",
     "iopub.status.idle": "2021-05-26T14:36:48.489979Z",
     "shell.execute_reply": "2021-05-26T14:36:48.491978Z"
    },
    "papermill": {
     "duration": 0.29205,
     "end_time": "2021-05-26T14:36:48.491978",
     "exception": false,
     "start_time": "2021-05-26T14:36:48.199928",
     "status": "completed"
    },
    "tags": []
   },
   "outputs": [
    {
     "data": {
      "text/plain": [
       "['//hecate/Insurance_US/Product Development/Product Management/Global PPM/Reporting/Data Collection/Production/2021.Q1\\\\live_sources\\\\us_vcomments_AU_02172021174434.parquet',\n",
       " '//hecate/Insurance_US/Product Development/Product Management/Global PPM/Reporting/Data Collection/Production/2021.Q1\\\\live_sources\\\\us_vcomments_AU_02172021174440.parquet',\n",
       " '//hecate/Insurance_US/Product Development/Product Management/Global PPM/Reporting/Data Collection/Production/2021.Q1\\\\live_sources\\\\us_vcomments_AU_05142021143612.parquet',\n",
       " '//hecate/Insurance_US/Product Development/Product Management/Global PPM/Reporting/Data Collection/Production/2021.Q1\\\\live_sources\\\\us_vcomments_AU_05142021143617.parquet',\n",
       " '//hecate/Insurance_US/Product Development/Product Management/Global PPM/Reporting/Data Collection/Production/2021.Q1\\\\live_sources\\\\us_vcomments_AU_mnual_creation.parquet',\n",
       " '//hecate/Insurance_US/Product Development/Product Management/Global PPM/Reporting/Data Collection/Production/2021.Q1\\\\live_sources\\\\us_vcomments_CA_05202021134242.parquet',\n",
       " '//hecate/Insurance_US/Product Development/Product Management/Global PPM/Reporting/Data Collection/Production/2021.Q1\\\\live_sources\\\\us_vcomments_CH_05182021192455.parquet',\n",
       " '//hecate/Insurance_US/Product Development/Product Management/Global PPM/Reporting/Data Collection/Production/2021.Q1\\\\live_sources\\\\us_vcomments_CH_05182021192456.parquet',\n",
       " '//hecate/Insurance_US/Product Development/Product Management/Global PPM/Reporting/Data Collection/Production/2021.Q1\\\\live_sources\\\\us_vcomments_CZ_05242021103837.parquet',\n",
       " '//hecate/Insurance_US/Product Development/Product Management/Global PPM/Reporting/Data Collection/Production/2021.Q1\\\\live_sources\\\\us_vcomments_CZ_05262021090243.parquet',\n",
       " '//hecate/Insurance_US/Product Development/Product Management/Global PPM/Reporting/Data Collection/Production/2021.Q1\\\\live_sources\\\\us_vcomments_ES_05202021105141.parquet',\n",
       " '//hecate/Insurance_US/Product Development/Product Management/Global PPM/Reporting/Data Collection/Production/2021.Q1\\\\live_sources\\\\us_vcomments_ES_05202021105142.parquet',\n",
       " '//hecate/Insurance_US/Product Development/Product Management/Global PPM/Reporting/Data Collection/Production/2021.Q1\\\\live_sources\\\\us_vcomments_GR_05252021115404.parquet',\n",
       " '//hecate/Insurance_US/Product Development/Product Management/Global PPM/Reporting/Data Collection/Production/2021.Q1\\\\live_sources\\\\us_vcomments_IT_05242021111521.parquet',\n",
       " '//hecate/Insurance_US/Product Development/Product Management/Global PPM/Reporting/Data Collection/Production/2021.Q1\\\\live_sources\\\\us_vcomments_PL_05262021084450.parquet',\n",
       " '//hecate/Insurance_US/Product Development/Product Management/Global PPM/Reporting/Data Collection/Production/2021.Q1\\\\live_sources\\\\us_vcomments_PT_05202021121056.parquet']"
      ]
     },
     "execution_count": 11,
     "metadata": {},
     "output_type": "execute_result"
    }
   ],
   "source": [
    "list_jfiles = glob.glob(os.path.join(ls_path, 'us_vcomments_*.json'))\n",
    "list_pfiles = glob.glob(os.path.join(ls_path, 'us_vcomments_*.parquet'))\n",
    "\n",
    "list_files = []\n",
    "    \n",
    "for i in list_jfiles : list_files.append(i)    \n",
    "for i in list_pfiles : list_files.append(i)\n",
    "\n",
    "\n",
    "for idx, i in enumerate(list_jfiles):\n",
    "    list_jfiles[idx] = list_jfiles[idx][-23:-19]\n",
    "    list_jfiles[idx] = list_jfiles[idx].replace('_','')\n",
    "\n",
    "for idx, i in enumerate(list_pfiles):\n",
    "    list_pfiles[idx] = list_pfiles[idx][-26:-22]\n",
    "    list_pfiles[idx] = list_pfiles[idx].replace('_','')\n",
    "\n",
    "list_bus = []\n",
    "    \n",
    "for i in list_jfiles : list_bus.append(i)    \n",
    "for i in list_pfiles : list_bus.append(i)\n",
    "\n",
    "\n",
    "BU_set = set(list_bus)\n",
    "BU_list = list(BU_set)\n",
    "\n",
    "list_files\n"
   ]
  },
  {
   "cell_type": "markdown",
   "id": "0b1d0819",
   "metadata": {
    "tags": [
     "papermill-error-cell-tag"
    ]
   },
   "source": [
    "<span id=\"papermill-error-cell\" style=\"color:red; font-family:Helvetica Neue, Helvetica, Arial, sans-serif; font-size:2em;\">Execution using papermill encountered an exception here and stopped:</span>"
   ]
  },
  {
   "cell_type": "code",
   "execution_count": 12,
   "id": "d1e181c8",
   "metadata": {
    "execution": {
     "iopub.execute_input": "2021-05-26T14:36:49.129205Z",
     "iopub.status.busy": "2021-05-26T14:36:49.100188Z",
     "iopub.status.idle": "2021-05-26T14:37:04.983283Z",
     "shell.execute_reply": "2021-05-26T14:37:04.974285Z"
    },
    "papermill": {
     "duration": 16.224179,
     "end_time": "2021-05-26T14:37:04.984281",
     "exception": true,
     "start_time": "2021-05-26T14:36:48.760102",
     "status": "failed"
    },
    "pycharm": {
     "name": "#%%\n"
    },
    "tags": []
   },
   "outputs": [
    {
     "name": "stdout",
     "output_type": "stream",
     "text": [
      "['//hecate/Insurance_US/Product Development/Product Management/Global PPM/Reporting/Data Collection/Production/2021.Q1\\\\live_sources\\\\us_vcomments_PT_05202021121056.parquet']\n"
     ]
    },
    {
     "name": "stdout",
     "output_type": "stream",
     "text": [
      "['//hecate/Insurance_US/Product Development/Product Management/Global PPM/Reporting/Data Collection/Production/2021.Q1\\\\live_sources\\\\us_vcomments_ES_05202021105141.parquet', '//hecate/Insurance_US/Product Development/Product Management/Global PPM/Reporting/Data Collection/Production/2021.Q1\\\\live_sources\\\\us_vcomments_ES_05202021105142.parquet']\n"
     ]
    },
    {
     "name": "stdout",
     "output_type": "stream",
     "text": [
      "['//hecate/Insurance_US/Product Development/Product Management/Global PPM/Reporting/Data Collection/Production/2021.Q1\\\\live_sources\\\\us_vcomments_PL_05262021084450.parquet']\n"
     ]
    },
    {
     "ename": "FileCreateError",
     "evalue": "[Errno 13] Permission denied: '\\\\\\\\hecate\\\\Insurance_US\\\\Product Development\\\\Product Management\\\\Global PPM\\\\Reporting\\\\Data Collection\\\\2021.Q1\\\\Validation Reports\\\\Validations Review_xx.xlsx'",
     "output_type": "error",
     "traceback": [
      "\u001b[1;31m---------------------------------------------------------------------------\u001b[0m",
      "\u001b[1;31mPermissionError\u001b[0m                           Traceback (most recent call last)",
      "\u001b[1;32m~\\Anaconda3\\lib\\site-packages\\xlsxwriter\\workbook.py\u001b[0m in \u001b[0;36mclose\u001b[1;34m(self)\u001b[0m\n\u001b[0;32m    315\u001b[0m             \u001b[1;32mtry\u001b[0m\u001b[1;33m:\u001b[0m\u001b[1;33m\u001b[0m\u001b[1;33m\u001b[0m\u001b[0m\n\u001b[1;32m--> 316\u001b[1;33m                 \u001b[0mself\u001b[0m\u001b[1;33m.\u001b[0m\u001b[0m_store_workbook\u001b[0m\u001b[1;33m(\u001b[0m\u001b[1;33m)\u001b[0m\u001b[1;33m\u001b[0m\u001b[1;33m\u001b[0m\u001b[0m\n\u001b[0m\u001b[0;32m    317\u001b[0m             \u001b[1;32mexcept\u001b[0m \u001b[0mIOError\u001b[0m \u001b[1;32mas\u001b[0m \u001b[0me\u001b[0m\u001b[1;33m:\u001b[0m\u001b[1;33m\u001b[0m\u001b[1;33m\u001b[0m\u001b[0m\n",
      "\u001b[1;32m~\\Anaconda3\\lib\\site-packages\\xlsxwriter\\workbook.py\u001b[0m in \u001b[0;36m_store_workbook\u001b[1;34m(self)\u001b[0m\n\u001b[0;32m    631\u001b[0m         \u001b[1;32mexcept\u001b[0m \u001b[0mIOError\u001b[0m \u001b[1;32mas\u001b[0m \u001b[0me\u001b[0m\u001b[1;33m:\u001b[0m\u001b[1;33m\u001b[0m\u001b[1;33m\u001b[0m\u001b[0m\n\u001b[1;32m--> 632\u001b[1;33m             \u001b[1;32mraise\u001b[0m \u001b[0me\u001b[0m\u001b[1;33m\u001b[0m\u001b[1;33m\u001b[0m\u001b[0m\n\u001b[0m\u001b[0;32m    633\u001b[0m \u001b[1;33m\u001b[0m\u001b[0m\n",
      "\u001b[1;32m~\\Anaconda3\\lib\\site-packages\\xlsxwriter\\workbook.py\u001b[0m in \u001b[0;36m_store_workbook\u001b[1;34m(self)\u001b[0m\n\u001b[0;32m    629\u001b[0m             xlsx_file = ZipFile(self.filename, \"w\", compression=ZIP_DEFLATED,\n\u001b[1;32m--> 630\u001b[1;33m                                 allowZip64=self.allow_zip64)\n\u001b[0m\u001b[0;32m    631\u001b[0m         \u001b[1;32mexcept\u001b[0m \u001b[0mIOError\u001b[0m \u001b[1;32mas\u001b[0m \u001b[0me\u001b[0m\u001b[1;33m:\u001b[0m\u001b[1;33m\u001b[0m\u001b[1;33m\u001b[0m\u001b[0m\n",
      "\u001b[1;32m~\\Anaconda3\\lib\\zipfile.py\u001b[0m in \u001b[0;36m__init__\u001b[1;34m(self, file, mode, compression, allowZip64, compresslevel)\u001b[0m\n\u001b[0;32m   1239\u001b[0m                 \u001b[1;32mtry\u001b[0m\u001b[1;33m:\u001b[0m\u001b[1;33m\u001b[0m\u001b[1;33m\u001b[0m\u001b[0m\n\u001b[1;32m-> 1240\u001b[1;33m                     \u001b[0mself\u001b[0m\u001b[1;33m.\u001b[0m\u001b[0mfp\u001b[0m \u001b[1;33m=\u001b[0m \u001b[0mio\u001b[0m\u001b[1;33m.\u001b[0m\u001b[0mopen\u001b[0m\u001b[1;33m(\u001b[0m\u001b[0mfile\u001b[0m\u001b[1;33m,\u001b[0m \u001b[0mfilemode\u001b[0m\u001b[1;33m)\u001b[0m\u001b[1;33m\u001b[0m\u001b[1;33m\u001b[0m\u001b[0m\n\u001b[0m\u001b[0;32m   1241\u001b[0m                 \u001b[1;32mexcept\u001b[0m \u001b[0mOSError\u001b[0m\u001b[1;33m:\u001b[0m\u001b[1;33m\u001b[0m\u001b[1;33m\u001b[0m\u001b[0m\n",
      "\u001b[1;31mPermissionError\u001b[0m: [Errno 13] Permission denied: '\\\\\\\\hecate\\\\Insurance_US\\\\Product Development\\\\Product Management\\\\Global PPM\\\\Reporting\\\\Data Collection\\\\2021.Q1\\\\Validation Reports\\\\Validations Review_xx.xlsx'",
      "\nDuring handling of the above exception, another exception occurred:\n",
      "\u001b[1;31mFileCreateError\u001b[0m                           Traceback (most recent call last)",
      "\u001b[1;32m<ipython-input-12-fc72584488ef>\u001b[0m in \u001b[0;36m<module>\u001b[1;34m\u001b[0m\n\u001b[0;32m     58\u001b[0m         \u001b[1;32mpass\u001b[0m\u001b[1;33m\u001b[0m\u001b[1;33m\u001b[0m\u001b[0m\n\u001b[0;32m     59\u001b[0m \u001b[1;33m\u001b[0m\u001b[0m\n\u001b[1;32m---> 60\u001b[1;33m     \u001b[0mwriter\u001b[0m\u001b[1;33m.\u001b[0m\u001b[0msave\u001b[0m\u001b[1;33m(\u001b[0m\u001b[1;33m)\u001b[0m\u001b[1;33m\u001b[0m\u001b[1;33m\u001b[0m\u001b[0m\n\u001b[0m\u001b[0;32m     61\u001b[0m     \u001b[0mos\u001b[0m\u001b[1;33m.\u001b[0m\u001b[0mrename\u001b[0m\u001b[1;33m(\u001b[0m\u001b[0mrep_xls\u001b[0m\u001b[1;33m,\u001b[0m\u001b[0mrep_xls\u001b[0m\u001b[1;33m.\u001b[0m\u001b[0mreplace\u001b[0m\u001b[1;33m(\u001b[0m\u001b[1;34m\"_xx\"\u001b[0m\u001b[1;33m,\u001b[0m\u001b[1;34mf\"_{BU_list[idx]}\"\u001b[0m\u001b[1;33m)\u001b[0m\u001b[1;33m)\u001b[0m\u001b[1;33m\u001b[0m\u001b[1;33m\u001b[0m\u001b[0m\n",
      "\u001b[1;32m~\\Anaconda3\\lib\\site-packages\\pandas\\io\\excel\\_xlsxwriter.py\u001b[0m in \u001b[0;36msave\u001b[1;34m(self)\u001b[0m\n\u001b[0;32m    191\u001b[0m         \u001b[0mSave\u001b[0m \u001b[0mworkbook\u001b[0m \u001b[0mto\u001b[0m \u001b[0mdisk\u001b[0m\u001b[1;33m.\u001b[0m\u001b[1;33m\u001b[0m\u001b[1;33m\u001b[0m\u001b[0m\n\u001b[0;32m    192\u001b[0m         \"\"\"\n\u001b[1;32m--> 193\u001b[1;33m         \u001b[1;32mreturn\u001b[0m \u001b[0mself\u001b[0m\u001b[1;33m.\u001b[0m\u001b[0mbook\u001b[0m\u001b[1;33m.\u001b[0m\u001b[0mclose\u001b[0m\u001b[1;33m(\u001b[0m\u001b[1;33m)\u001b[0m\u001b[1;33m\u001b[0m\u001b[1;33m\u001b[0m\u001b[0m\n\u001b[0m\u001b[0;32m    194\u001b[0m \u001b[1;33m\u001b[0m\u001b[0m\n\u001b[0;32m    195\u001b[0m     def write_cells(\n",
      "\u001b[1;32m~\\Anaconda3\\lib\\site-packages\\xlsxwriter\\workbook.py\u001b[0m in \u001b[0;36mclose\u001b[1;34m(self)\u001b[0m\n\u001b[0;32m    316\u001b[0m                 \u001b[0mself\u001b[0m\u001b[1;33m.\u001b[0m\u001b[0m_store_workbook\u001b[0m\u001b[1;33m(\u001b[0m\u001b[1;33m)\u001b[0m\u001b[1;33m\u001b[0m\u001b[1;33m\u001b[0m\u001b[0m\n\u001b[0;32m    317\u001b[0m             \u001b[1;32mexcept\u001b[0m \u001b[0mIOError\u001b[0m \u001b[1;32mas\u001b[0m \u001b[0me\u001b[0m\u001b[1;33m:\u001b[0m\u001b[1;33m\u001b[0m\u001b[1;33m\u001b[0m\u001b[0m\n\u001b[1;32m--> 318\u001b[1;33m                 \u001b[1;32mraise\u001b[0m \u001b[0mFileCreateError\u001b[0m\u001b[1;33m(\u001b[0m\u001b[0me\u001b[0m\u001b[1;33m)\u001b[0m\u001b[1;33m\u001b[0m\u001b[1;33m\u001b[0m\u001b[0m\n\u001b[0m\u001b[0;32m    319\u001b[0m             \u001b[1;32mexcept\u001b[0m \u001b[0mLargeZipFile\u001b[0m \u001b[1;32mas\u001b[0m \u001b[0me\u001b[0m\u001b[1;33m:\u001b[0m\u001b[1;33m\u001b[0m\u001b[1;33m\u001b[0m\u001b[0m\n\u001b[0;32m    320\u001b[0m                 raise FileSizeError(\"Filesize would require ZIP64 extensions. \"\n",
      "\u001b[1;31mFileCreateError\u001b[0m: [Errno 13] Permission denied: '\\\\\\\\hecate\\\\Insurance_US\\\\Product Development\\\\Product Management\\\\Global PPM\\\\Reporting\\\\Data Collection\\\\2021.Q1\\\\Validation Reports\\\\Validations Review_xx.xlsx'"
     ]
    }
   ],
   "source": [
    "\n",
    "datafiles = [  \"us_vcomment\", \"us_vdf\" ]\n",
    "\n",
    "\n",
    "for idx, b in enumerate(BU_list):\n",
    "\n",
    "    list_files_a = []\n",
    "    latest_valcomments = []\n",
    "    list_files_a = list(filter(lambda x: \"us_vcomments\" in  x and f\"_{b}\" in  x , list_files))\n",
    "\n",
    "    print(list_files_a)\n",
    "    recent_vers_a = max(list_files_a, key=os.path.getctime)\n",
    "    try:\n",
    "        latest_valcomments.append([f'us_vcomment',pd.read_json(recent_vers_a, orient=\"table\")])\n",
    "    except UnicodeDecodeError:\n",
    "        latest_valcomments.append([f'us_vcomment',pd.read_parquet(recent_vers_a, engine=\"pyarrow\")])\n",
    "\n",
    "    list_files_b = glob.glob(os.path.join(ls_path, f'us_vdf_{BU_list[idx]}*.json'))\n",
    "    recent_vers_b = max(list_files_b, key=os.path.getctime)\n",
    "\n",
    "    with open(recent_vers_b, 'r') as fp:\n",
    "        data_dict = json.load(fp)\n",
    "    latest_vdfdata_sets = { key: pd.DataFrame(data_dict[key]) for key in data_dict  }\n",
    "\n",
    "    valcomm_dict = {}\n",
    "    valdf_dict = {}\n",
    "    valcomdf = []\n",
    "    valcomdf = pd.DataFrame(latest_valcomments[0][1])\n",
    "\n",
    "    for idx2, row in valcomdf.iterrows():\n",
    "\n",
    "        valname = row[\"Validation Rule\"][0:25]\n",
    "        sheetname = valname + '-' + str(idx2)\n",
    "        valcomm_dict[\"{0}\".format(sheetname)] = pd.DataFrame(row).reindex()\n",
    "        try:\n",
    "            valdf_dict[sheetname] = data_dict[str(idx2)]\n",
    "        except KeyError:\n",
    "            pass\n",
    "        \n",
    "    writer = pd.ExcelWriter(rep_xls, engine='xlsxwriter')\n",
    "    \n",
    "    for i, j  in zip(valdf_dict,valcomm_dict ):\n",
    "        valdf_dict[i] = pd.DataFrame(valdf_dict[i])\n",
    "        valdf_dict[i].index.name = 'Row Number'\n",
    "        valcomm_dict[i].to_excel(writer, sheet_name=i,header=False, startrow=0, startcol=0)\n",
    "        valdf_dict[i].to_excel(writer, sheet_name= i , startrow=10, startcol=0)\n",
    "    \n",
    "    fin_name = rep_xls.replace(\"_xx\",f\"_{BU_list[idx]}\")\n",
    "    arch_name = fin_name.replace(f\"Validations Review_{BU_list[idx]}\",f\"\\Archive\\Validations Review_{BU_list[idx]}{inst_datetime}\")\n",
    "    \n",
    "    try:\n",
    "        os.remove(arch_name)\n",
    "    except FileNotFoundError:\n",
    "        pass\n",
    "    try:\n",
    "        os.rename(fin_name, arch_name )\n",
    "    except FileNotFoundError:\n",
    "        print(f\"New BU {BU_list[idx]}\")\n",
    "        pass\n",
    "\n",
    "    writer.save()\n",
    "    os.rename(rep_xls,rep_xls.replace(\"_xx\",f\"_{BU_list[idx]}\"))\n"
   ]
  },
  {
   "cell_type": "code",
   "execution_count": null,
   "id": "dec6df4a",
   "metadata": {
    "papermill": {
     "duration": null,
     "end_time": null,
     "exception": null,
     "start_time": null,
     "status": "pending"
    },
    "tags": []
   },
   "outputs": [],
   "source": [
    "### Open the folder with the documents saved"
   ]
  },
  {
   "cell_type": "code",
   "execution_count": null,
   "id": "2324b142",
   "metadata": {
    "papermill": {
     "duration": null,
     "end_time": null,
     "exception": null,
     "start_time": null,
     "status": "pending"
    },
    "tags": []
   },
   "outputs": [],
   "source": [
    "os.startfile(rep_path)"
   ]
  },
  {
   "cell_type": "code",
   "execution_count": null,
   "id": "6cd8e787",
   "metadata": {
    "papermill": {
     "duration": null,
     "end_time": null,
     "exception": null,
     "start_time": null,
     "status": "pending"
    },
    "tags": []
   },
   "outputs": [],
   "source": []
  }
 ],
 "metadata": {
  "celltoolbar": "Tags",
  "kernelspec": {
   "display_name": "Python 3",
   "language": "python",
   "name": "python3"
  },
  "language_info": {
   "codemirror_mode": {
    "name": "ipython",
    "version": 3
   },
   "file_extension": ".py",
   "mimetype": "text/x-python",
   "name": "python",
   "nbconvert_exporter": "python",
   "pygments_lexer": "ipython3",
   "version": "3.7.6"
  },
  "papermill": {
   "default_parameters": {},
   "duration": 73.5308,
   "end_time": "2021-05-26T14:37:05.954453",
   "environment_variables": {},
   "exception": true,
   "input_path": "reporting/Make Validation Output Reports With Comments.ipynb",
   "output_path": "//hecate/Insurance_US/Product Development/Product Management/Global PPM/Reporting/Data Collection/Pipeline Reporting Scripts/GPMpipeline/instances/2021.Q1\\reporting\\Make Validation Output Reports With Comments05262021102758--Aus Problem.ipynb",
   "parameters": {
    "commit_message": "New AUS needed to be converted from json",
    "inst_datetime": "05262021102758",
    "percode": "2021.Q1",
    "run_control": 1
   },
   "start_time": "2021-05-26T14:35:52.423653",
   "version": "2.3.3"
  }
 },
 "nbformat": 4,
 "nbformat_minor": 5
}