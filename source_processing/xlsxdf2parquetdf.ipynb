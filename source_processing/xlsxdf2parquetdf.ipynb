{
 "cells": [
  {
   "cell_type": "markdown",
   "metadata": {
    "collapsed": true
   },
   "source": [
    "<img src=\"../images/AzPTravel_PPM.png\">"
   ]
  },
  {
   "cell_type": "markdown",
   "metadata": {},
   "source": [
    "## Convert json to parquet\n",
    "\n",
    "- Check if there is anything in \"H:/Reporting/Data Collection/percode/Manual Updates/json_to_parquet/parquet_version\".\n",
    "- If so, move contents to \"H:/Reporting/Data Collection/percode/Manual Updates/json_to_parquet/Archive\".\n",
    "- Read json files to pandas dfs dict.\n",
    "- Output as parquet."
   ]
  },
  {
   "cell_type": "markdown",
   "metadata": {},
   "source": [
    "### User Variables"
   ]
  },
  {
   "cell_type": "code",
   "execution_count": 23,
   "metadata": {},
   "outputs": [],
   "source": [
    "percode = \"2021.Q1\"\n",
    "# Data Collection Code, this controls file paths and output names\n",
    "# \"-f\" is the value indicating a bad inheritance from run with arg\n"
   ]
  },
  {
   "cell_type": "markdown",
   "metadata": {},
   "source": [
    "#### Packages used\n"
   ]
  },
  {
   "cell_type": "code",
   "execution_count": 24,
   "metadata": {},
   "outputs": [],
   "source": [
    "import os # System commands\n",
    "import sys # System commands\n",
    "import shutil # System utility commands \n",
    "\n",
    "\n",
    "import warnings # custom warnigns options\n",
    "\n",
    "import glob # Directory operations\n",
    "import getpass # Work with parquet\n",
    "import json # Work with json\n",
    "\n",
    "import matplotlib.pyplot as plt #Plots and Graphs\n",
    "import numpy as np # Series and math\n",
    "import pandas as pd #DataFrame and math\n"
   ]
  },
  {
   "cell_type": "markdown",
   "metadata": {},
   "source": [
    "#### Begin Input Read\n",
    "- Make paths used in script\n",
    "- all paths should be modular and easily replaced ahead of operations."
   ]
  },
  {
   "cell_type": "code",
   "execution_count": 25,
   "metadata": {},
   "outputs": [],
   "source": [
    "#root directory\n",
    "rt_path = f'//hecate/Insurance_US/Product Development/Product Management/Global PPM/Reporting/Data Collection/{str(percode)}/Manual Updates/xlsx_to_parquet'\n",
    "#json input directory\n",
    "xlsx_path = os.path.join( rt_path, 'xlsx_submission')\n",
    "#parquet output directory\n",
    "output_path = os.path.join( rt_path, 'parquet_version')\n",
    "#archive\n",
    "archive_path = os.path.join( rt_path, 'Archive')\n",
    "#csv_folder for comparison\n",
    "csv_path = os.path.join( rt_path, 'csv_comparisons')\n",
    "\n"
   ]
  },
  {
   "cell_type": "markdown",
   "metadata": {},
   "source": [
    "#### Move contents of parquet_version to Archive"
   ]
  },
  {
   "cell_type": "code",
   "execution_count": 26,
   "metadata": {},
   "outputs": [],
   "source": [
    "file_names = os.listdir(output_path)\n",
    "    \n",
    "for file_name in file_names:\n",
    "    shutil.move(os.path.join(output_path, file_name), archive_path)"
   ]
  },
  {
   "cell_type": "markdown",
   "metadata": {},
   "source": [
    "#### Get list of files in the xlsx folder"
   ]
  },
  {
   "cell_type": "code",
   "execution_count": 27,
   "metadata": {},
   "outputs": [
    {
     "data": {
      "text/plain": [
       "['german_allocations.xlsx']"
      ]
     },
     "execution_count": 27,
     "metadata": {},
     "output_type": "execute_result"
    }
   ],
   "source": [
    "files = os.listdir(xlsx_path)\n",
    "files = [files.lower() for files in files]\n",
    "\n",
    "files_input = [f for f in files if '.xls' in f[-5:] ]\n",
    "\n",
    "files_input"
   ]
  },
  {
   "cell_type": "code",
   "execution_count": 28,
   "metadata": {},
   "outputs": [],
   "source": [
    "xlsx_dict = {}\n",
    "\n",
    "for f in files_input:\n",
    "    xlsx_dict.update({f'{f}': pd.read_excel(os.path.join( xlsx_path, f), \n",
    "                                            #skiprows = 3,\n",
    "                                            sheet_name= 'Sheet1' )})\n",
    "                                            #'Ptf_Monitoring_GROSS_Reins' )})\n",
    "    xlsx_dict[f] = xlsx_dict[f][~xlsx_dict[f]['Business Unit'].isna()]\n",
    "    xlsx_dict[f].reset_index(drop=True, inplace=True)"
   ]
  },
  {
   "cell_type": "code",
   "execution_count": 29,
   "metadata": {},
   "outputs": [
    {
     "name": "stdout",
     "output_type": "stream",
     "text": [
      "   Business Unit Country Currency                           Region  \\\n",
      "0             DE      DE      EUR  North, Central & Eastern Europe   \n",
      "1             DE      DE      EUR  North, Central & Eastern Europe   \n",
      "2             DE      DE      EUR  North, Central & Eastern Europe   \n",
      "3             DE      DE      EUR  North, Central & Eastern Europe   \n",
      "4             DE      DE      EUR  North, Central & Eastern Europe   \n",
      "..           ...     ...      ...                              ...   \n",
      "68            DE      DE      EUR  North, Central & Eastern Europe   \n",
      "69            DE      DE      EUR  North, Central & Eastern Europe   \n",
      "70            DE      DE      EUR  North, Central & Eastern Europe   \n",
      "71            DE      DE      EUR  North, Central & Eastern Europe   \n",
      "72            DE      DE      EUR  North, Central & Eastern Europe   \n",
      "\n",
      "   Reporting Date From Reporting Date To Date of Analysis Type of Analysis  \\\n",
      "0           2021-01-01        2021-03-31       2021-06-07     Year To Date   \n",
      "1           2021-01-01        2021-03-31       2021-06-07     Year To Date   \n",
      "2           2021-01-01        2021-03-31       2021-06-07     Year To Date   \n",
      "3           2021-01-01        2021-03-31       2021-06-07     Year To Date   \n",
      "4           2021-01-01        2021-03-31       2021-06-07     Year To Date   \n",
      "..                 ...               ...              ...              ...   \n",
      "68          2021-01-01        2021-03-31       2021-06-07     Year To Date   \n",
      "69          2021-01-01        2021-03-31       2021-06-07     Year To Date   \n",
      "70          2021-01-01        2021-03-31       2021-06-07     Year To Date   \n",
      "71          2021-01-01        2021-03-31       2021-06-07     Year To Date   \n",
      "72          2021-01-01        2021-03-31       2021-06-07     Year To Date   \n",
      "\n",
      "    Analysed Months  Reporting Year  ...  \\\n",
      "0                 3            2021  ...   \n",
      "1                 3            2021  ...   \n",
      "2                 3            2021  ...   \n",
      "3                 3            2021  ...   \n",
      "4                 3            2021  ...   \n",
      "..              ...             ...  ...   \n",
      "68                3            2021  ...   \n",
      "69                3            2021  ...   \n",
      "70                3            2021  ...   \n",
      "71                3            2021  ...   \n",
      "72                3            2021  ...   \n",
      "\n",
      "    Contribution Margin % on Earned Revenues net of Taxes - BU View  \\\n",
      "0                                            1.708776                 \n",
      "1                                            1.113282                 \n",
      "2                                           -1.795987                 \n",
      "3                                            0.333907                 \n",
      "4                                           -4.280930                 \n",
      "..                                                ...                 \n",
      "68                                           0.333907                 \n",
      "69                                          -4.280930                 \n",
      "70                                           0.033233                 \n",
      "71                                           1.924536                 \n",
      "72                                           0.273571                 \n",
      "\n",
      "    Contribution Margin - HQ View  \\\n",
      "0                    78777.631454   \n",
      "1                    55441.636641   \n",
      "2                  -188121.063223   \n",
      "3                    19675.233004   \n",
      "4                   -16697.490724   \n",
      "..                            ...   \n",
      "68                    4684.579287   \n",
      "69                  -12523.118043   \n",
      "70                   15652.961567   \n",
      "71                   52634.905722   \n",
      "72                     298.335754   \n",
      "\n",
      "   Contribution Margin % on Fixed Costs - HQ View  \\\n",
      "0                                       11.969920   \n",
      "1                                        7.978648   \n",
      "2                                      -12.188615   \n",
      "3                                        2.489569   \n",
      "4                                      -29.272909   \n",
      "..                                            ...   \n",
      "68                                       2.489569   \n",
      "69                                     -29.272909   \n",
      "70                                       0.380606   \n",
      "71                                      13.424903   \n",
      "72                                       2.148011   \n",
      "\n",
      "   Contribution Margin % on Earned Revenues net of Taxes - HQ View Loss Ratio  \\\n",
      "0                                            1.745214               -1.106656   \n",
      "1                                            1.163287               -0.253398   \n",
      "2                                           -1.777100                2.064630   \n",
      "3                                            0.362979                0.128260   \n",
      "4                                           -4.267990                3.977300   \n",
      "..                                                ...                     ...   \n",
      "68                                           0.362979                0.128260   \n",
      "69                                          -4.267990                3.977300   \n",
      "70                                           0.055492                0.299496   \n",
      "71                                           1.957351               -1.391254   \n",
      "72                                           0.313180                0.388801   \n",
      "\n",
      "   Commission Ratio Expense Ratio Combined Ratio Profit or Loss Notes  \n",
      "0          0.271241         0.236      -0.599414   72196.331720   NaN  \n",
      "1         -0.000089         0.236      -0.017487   48492.886134   NaN  \n",
      "2          0.622270         0.236       2.922900 -203555.225933   NaN  \n",
      "3          0.418561         0.236       0.782821   11772.165670   NaN  \n",
      "4          1.200491         0.236       5.413790  -17267.898349   NaN  \n",
      "..              ...           ...            ...            ...   ...  \n",
      "68         0.418561         0.236       0.782821    2802.896588   NaN  \n",
      "69         1.200491         0.236       5.413790  -12950.923762   NaN  \n",
      "70         0.554811         0.236       1.090308  -25473.428333   NaN  \n",
      "71         0.343703         0.236      -0.811551   48714.213960   NaN  \n",
      "72         0.207819         0.236       0.832620     159.446470   NaN  \n",
      "\n",
      "[73 rows x 65 columns]\n"
     ]
    }
   ],
   "source": [
    "print(xlsx_dict[f])"
   ]
  },
  {
   "cell_type": "code",
   "execution_count": 30,
   "metadata": {},
   "outputs": [],
   "source": [
    "v_flo = ['Open Claims %', 'Contribution Margin % on Earned Revenues net of Taxes - BU View', \n",
    "         'Contribution Margin % on Earned Revenues net of Taxes - HQ View', 'Loss Ratio', 'Commission Ratio',\n",
    "         'Expense Ratio', 'comsub', 'expsub','% of IBNR on (OCR + IBNR)', 'Contribution Margin % on Fixed Costs - BU View',\n",
    "        'Contribution Margin % on Fixed Costs - HQ View']\n",
    "\n",
    "# add any float columns that give a mixed type error below\n",
    "\n",
    "# v_str\n",
    "\n",
    "# add any string columns that give a mixed type error below\n",
    "#v_int\n",
    "\n",
    "v_str = ['Notes', 'Type of Business' , 'Type of Account', 'Distribution Type' ,'LOB' ,'Distribution Channel', 'Business Partner ID Number']\n",
    "# add any integer columns that give a mixed type error below\n",
    "#v_dat\n",
    "# add any datetime columns that give a mixed type error below\n"
   ]
  },
  {
   "cell_type": "code",
   "execution_count": 31,
   "metadata": {},
   "outputs": [],
   "source": [
    "for k, v in xlsx_dict.items():\n",
    "    \n",
    "    parquet_name = k.replace(k[-5:],\".parquet\")\n",
    "    out_file = os.path.join(output_path,parquet_name)\n",
    "    \n",
    "    v = v.fillna(0)\n",
    "    \n",
    "    for i in v_flo:\n",
    "        try:\n",
    "            v[i] = v[i].replace(r'^\\s*$', np.nan, regex=True)\n",
    "            v[i] = v[i].astype('float')\n",
    "        except KeyError:\n",
    "            pass\n",
    "    for i in v_str:\n",
    "        try:\n",
    "            v[i] = v[i].replace(r'^\\s*$', np.nan, regex=True)\n",
    "            v[i] = v[i].astype('str')\n",
    "        except KeyError:\n",
    "            pass\n",
    "    v.to_parquet(out_file, engine=\"pyarrow\")"
   ]
  },
  {
   "cell_type": "markdown",
   "metadata": {},
   "source": [
    "#### commented out cells create docs to prove that the json and parquet outputs are the same."
   ]
  },
  {
   "cell_type": "code",
   "execution_count": 32,
   "metadata": {},
   "outputs": [
    {
     "data": {
      "text/plain": [
       "'//hecate/Insurance_US/Product Development/Product Management/Global PPM/Reporting/Data Collection/2021.Q1/Manual Updates/xlsx_to_parquet\\\\csv_comparisons\\\\german_allocations.csv'"
      ]
     },
     "execution_count": 32,
     "metadata": {},
     "output_type": "execute_result"
    }
   ],
   "source": [
    "for k, v in xlsx_dict.items():\n",
    "    csv_name = k.replace(k[-5:],\".csv\")\n",
    "    out_file = os.path.join(csv_path,csv_name)\n",
    "    v.to_csv(out_file)\n",
    "\n",
    "out_file   "
   ]
  },
  {
   "cell_type": "code",
   "execution_count": 33,
   "metadata": {},
   "outputs": [],
   "source": [
    "files = os.listdir(output_path)\n",
    "files = [files.lower() for files in files]\n",
    "\n",
    "files_output = [f for f in files if f[-8:]  == '.parquet']\n"
   ]
  },
  {
   "cell_type": "code",
   "execution_count": 34,
   "metadata": {},
   "outputs": [
    {
     "data": {
      "text/plain": [
       "{'german_allocations_p.csv':    Business Unit Country Currency                           Region  \\\n",
       " 0             DE      DE      EUR  North, Central & Eastern Europe   \n",
       " 1             DE      DE      EUR  North, Central & Eastern Europe   \n",
       " 2             DE      DE      EUR  North, Central & Eastern Europe   \n",
       " 3             DE      DE      EUR  North, Central & Eastern Europe   \n",
       " 4             DE      DE      EUR  North, Central & Eastern Europe   \n",
       " ..           ...     ...      ...                              ...   \n",
       " 68            DE      DE      EUR  North, Central & Eastern Europe   \n",
       " 69            DE      DE      EUR  North, Central & Eastern Europe   \n",
       " 70            DE      DE      EUR  North, Central & Eastern Europe   \n",
       " 71            DE      DE      EUR  North, Central & Eastern Europe   \n",
       " 72            DE      DE      EUR  North, Central & Eastern Europe   \n",
       " \n",
       "    Reporting Date From Reporting Date To Date of Analysis Type of Analysis  \\\n",
       " 0           2021-01-01        2021-03-31       2021-06-07     Year To Date   \n",
       " 1           2021-01-01        2021-03-31       2021-06-07     Year To Date   \n",
       " 2           2021-01-01        2021-03-31       2021-06-07     Year To Date   \n",
       " 3           2021-01-01        2021-03-31       2021-06-07     Year To Date   \n",
       " 4           2021-01-01        2021-03-31       2021-06-07     Year To Date   \n",
       " ..                 ...               ...              ...              ...   \n",
       " 68          2021-01-01        2021-03-31       2021-06-07     Year To Date   \n",
       " 69          2021-01-01        2021-03-31       2021-06-07     Year To Date   \n",
       " 70          2021-01-01        2021-03-31       2021-06-07     Year To Date   \n",
       " 71          2021-01-01        2021-03-31       2021-06-07     Year To Date   \n",
       " 72          2021-01-01        2021-03-31       2021-06-07     Year To Date   \n",
       " \n",
       "     Analysed Months  Reporting Year  ...  \\\n",
       " 0                 3            2021  ...   \n",
       " 1                 3            2021  ...   \n",
       " 2                 3            2021  ...   \n",
       " 3                 3            2021  ...   \n",
       " 4                 3            2021  ...   \n",
       " ..              ...             ...  ...   \n",
       " 68                3            2021  ...   \n",
       " 69                3            2021  ...   \n",
       " 70                3            2021  ...   \n",
       " 71                3            2021  ...   \n",
       " 72                3            2021  ...   \n",
       " \n",
       "     Contribution Margin % on Earned Revenues net of Taxes - BU View  \\\n",
       " 0                                            1.708776                 \n",
       " 1                                            1.113282                 \n",
       " 2                                           -1.795987                 \n",
       " 3                                            0.333907                 \n",
       " 4                                           -4.280930                 \n",
       " ..                                                ...                 \n",
       " 68                                           0.333907                 \n",
       " 69                                          -4.280930                 \n",
       " 70                                           0.033233                 \n",
       " 71                                           1.924536                 \n",
       " 72                                           0.273571                 \n",
       " \n",
       "     Contribution Margin - HQ View  \\\n",
       " 0                    78777.631454   \n",
       " 1                    55441.636641   \n",
       " 2                  -188121.063223   \n",
       " 3                    19675.233004   \n",
       " 4                   -16697.490724   \n",
       " ..                            ...   \n",
       " 68                    4684.579287   \n",
       " 69                  -12523.118043   \n",
       " 70                   15652.961567   \n",
       " 71                   52634.905722   \n",
       " 72                     298.335754   \n",
       " \n",
       "    Contribution Margin % on Fixed Costs - HQ View  \\\n",
       " 0                                       11.969920   \n",
       " 1                                        7.978648   \n",
       " 2                                      -12.188615   \n",
       " 3                                        2.489569   \n",
       " 4                                      -29.272909   \n",
       " ..                                            ...   \n",
       " 68                                       2.489569   \n",
       " 69                                     -29.272909   \n",
       " 70                                       0.380606   \n",
       " 71                                      13.424903   \n",
       " 72                                       2.148011   \n",
       " \n",
       "    Contribution Margin % on Earned Revenues net of Taxes - HQ View Loss Ratio  \\\n",
       " 0                                            1.745214               -1.106656   \n",
       " 1                                            1.163287               -0.253398   \n",
       " 2                                           -1.777100                2.064630   \n",
       " 3                                            0.362979                0.128260   \n",
       " 4                                           -4.267990                3.977300   \n",
       " ..                                                ...                     ...   \n",
       " 68                                           0.362979                0.128260   \n",
       " 69                                          -4.267990                3.977300   \n",
       " 70                                           0.055492                0.299496   \n",
       " 71                                           1.957351               -1.391254   \n",
       " 72                                           0.313180                0.388801   \n",
       " \n",
       "    Commission Ratio Expense Ratio Combined Ratio Profit or Loss Notes  \n",
       " 0          0.271241         0.236      -0.599414   72196.331720     0  \n",
       " 1         -0.000089         0.236      -0.017487   48492.886134     0  \n",
       " 2          0.622270         0.236       2.922900 -203555.225933     0  \n",
       " 3          0.418561         0.236       0.782821   11772.165670     0  \n",
       " 4          1.200491         0.236       5.413790  -17267.898349     0  \n",
       " ..              ...           ...            ...            ...   ...  \n",
       " 68         0.418561         0.236       0.782821    2802.896588     0  \n",
       " 69         1.200491         0.236       5.413790  -12950.923762     0  \n",
       " 70         0.554811         0.236       1.090308  -25473.428333     0  \n",
       " 71         0.343703         0.236      -0.811551   48714.213960     0  \n",
       " 72         0.207819         0.236       0.832620     159.446470     0  \n",
       " \n",
       " [73 rows x 65 columns]}"
      ]
     },
     "execution_count": 34,
     "metadata": {},
     "output_type": "execute_result"
    }
   ],
   "source": [
    "outname = []\n",
    "parq_dict = {}\n",
    "\n",
    "for idx, f in enumerate(files_output):\n",
    "    outname.append(f.replace(\".parquet\",\"_p.csv\"))\n",
    "    parq_dict.update({f'{outname[idx]}': pd.read_parquet(os.path.join(output_path, f), engine=\"pyarrow\")})\n",
    "    \n",
    "parq_dict"
   ]
  },
  {
   "cell_type": "code",
   "execution_count": 35,
   "metadata": {},
   "outputs": [],
   "source": [
    "for k, v in parq_dict.items():\n",
    "    csv_name = k\n",
    "    out_file = os.path.join(csv_path,csv_name)\n",
    "    v.to_csv(out_file)"
   ]
  },
  {
   "cell_type": "code",
   "execution_count": null,
   "metadata": {},
   "outputs": [],
   "source": []
  }
 ],
 "metadata": {
  "kernelspec": {
   "display_name": "Python 3",
   "language": "python",
   "name": "python3"
  },
  "language_info": {
   "codemirror_mode": {
    "name": "ipython",
    "version": 3
   },
   "file_extension": ".py",
   "mimetype": "text/x-python",
   "name": "python",
   "nbconvert_exporter": "python",
   "pygments_lexer": "ipython3",
   "version": "3.7.6"
  }
 },
 "nbformat": 4,
 "nbformat_minor": 1
}
