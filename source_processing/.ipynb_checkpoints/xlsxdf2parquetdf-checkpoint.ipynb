{
 "cells": [
  {
   "cell_type": "markdown",
   "metadata": {
    "collapsed": true
   },
   "source": [
    "<img src=\"../images/AzPTravel_PPM.png\">"
   ]
  },
  {
   "cell_type": "markdown",
   "metadata": {},
   "source": [
    "## Convert json to parquet\n",
    "\n",
    "- Check if there is anything in \"H:/Reporting/Data Collection/percode/Manual Updates/json_to_parquet/parquet_version\".\n",
    "- If so, move contents to \"H:/Reporting/Data Collection/percode/Manual Updates/json_to_parquet/Archive\".\n",
    "- Read json files to pandas dfs dict.\n",
    "- Output as parquet."
   ]
  },
  {
   "cell_type": "markdown",
   "metadata": {},
   "source": [
    "### User Variables"
   ]
  },
  {
   "cell_type": "code",
   "execution_count": 3,
   "metadata": {},
   "outputs": [],
   "source": [
    "percode = \"2021.Q1\"\n",
    "# Data Collection Code, this controls file paths and output names\n",
    "# \"-f\" is the value indicating a bad inheritance from run with arg\n"
   ]
  },
  {
   "cell_type": "markdown",
   "metadata": {},
   "source": [
    "#### Packages used\n"
   ]
  },
  {
   "cell_type": "code",
   "execution_count": 4,
   "metadata": {},
   "outputs": [],
   "source": [
    "import os # System commands\n",
    "import sys # System commands\n",
    "import shutil # System utility commands \n",
    "\n",
    "\n",
    "import warnings # custom warnigns options\n",
    "\n",
    "import glob # Directory operations\n",
    "import getpass # Work with parquet\n",
    "import json # Work with json\n",
    "\n",
    "import matplotlib.pyplot as plt #Plots and Graphs\n",
    "import numpy as np # Series and math\n",
    "import pandas as pd #DataFrame and math\n"
   ]
  },
  {
   "cell_type": "markdown",
   "metadata": {},
   "source": [
    "#### Begin Input Read\n",
    "- Make paths used in script\n",
    "- all paths should be modular and easily replaced ahead of operations."
   ]
  },
  {
   "cell_type": "code",
   "execution_count": 5,
   "metadata": {},
   "outputs": [],
   "source": [
    "#root directory\n",
    "rt_path = f'//hecate/Insurance_US/Product Development/Product Management/Global PPM/Reporting/Data Collection/{str(percode)}/Manual Updates/json_to_parquet'\n",
    "#json input directory\n",
    "json_path = os.path.join( rt_path, 'json_submission')\n",
    "#parquet output directory\n",
    "output_path = os.path.join( rt_path, 'parquet_version')\n",
    "#archive\n",
    "archive_path = os.path.join( rt_path, 'Archive')\n",
    "#csv_folder for comparison\n",
    "csv_path = os.path.join( rt_path, 'csv_comparisons')\n",
    "\n"
   ]
  },
  {
   "cell_type": "markdown",
   "metadata": {},
   "source": [
    "#### Move contents of parquet_version to Archive"
   ]
  },
  {
   "cell_type": "code",
   "execution_count": 6,
   "metadata": {},
   "outputs": [],
   "source": [
    "file_names = os.listdir(output_path)\n",
    "    \n",
    "for file_name in file_names:\n",
    "    shutil.move(os.path.join(output_path, file_name), archive_path)"
   ]
  },
  {
   "cell_type": "code",
   "execution_count": 7,
   "metadata": {},
   "outputs": [
    {
     "data": {
      "text/plain": [
       "['us_dat_au_05142021143612.json']"
      ]
     },
     "execution_count": 7,
     "metadata": {},
     "output_type": "execute_result"
    }
   ],
   "source": [
    "files = os.listdir(json_path)\n",
    "files = [files.lower() for files in files]\n",
    "\n",
    "files_input = [f for f in files if f[-5:]  == '.json']\n",
    "\n",
    "files_input"
   ]
  },
  {
   "cell_type": "code",
   "execution_count": 8,
   "metadata": {},
   "outputs": [],
   "source": [
    "json_dict = {}\n",
    "\n",
    "for f in files_input:\n",
    "    json_dict.update({f'{f}': pd.read_json(os.path.join( json_path, f), orient=\"table\")})"
   ]
  },
  {
   "cell_type": "code",
   "execution_count": 9,
   "metadata": {},
   "outputs": [],
   "source": [
    "v_flo = ['Open Claims %', 'Contribution Margin % on Earned Revenues net of Taxes - BU View', \n",
    "         'Contribution Margin % on Earned Revenues net of Taxes - HQ View', 'Loss Ratio', 'Commission Ratio',\n",
    "         'Expense Ratio', 'comsub', 'expsub','% of IBNR on (OCR + IBNR)', 'Contribution Margin % on Fixed Costs - BU View',\n",
    "        'Contribution Margin % on Fixed Costs - HQ View']\n",
    "# add any float columns that give a mixed type error below\n",
    "\n",
    "#v_str\n",
    "# add any string columns that give a mixed type error below\n",
    "#v_int\n",
    "# add any integer columns that give a mixed type error below\n",
    "#v_dat\n",
    "# add any datetime columns that give a mixed type error below\n",
    "\n",
    "#     for i in v_str: v[i] = v[i].astype('str'  )\n",
    "#     for i in v_int: v[i] = v[i].astype( 'int' )\n",
    "#     for i in v_dat: v[i] = v[i].astype('datetime64[ns]')"
   ]
  },
  {
   "cell_type": "code",
   "execution_count": 10,
   "metadata": {},
   "outputs": [],
   "source": [
    "for k, v in json_dict.items():\n",
    "    parquet_name = k.replace(\".json\",\".parquet\")\n",
    "    out_file = os.path.join(output_path,parquet_name)\n",
    "    v = v.fillna(0)\n",
    "    \n",
    "    for i in v_flo:\n",
    "        try:\n",
    "            v[i] = v[i].replace(r'^\\s*$', np.nan, regex=True)\n",
    "            v[i] = v[i].astype('float')\n",
    "        except KeyError:\n",
    "            pass\n",
    "    v.to_parquet(out_file, engine=\"pyarrow\")"
   ]
  },
  {
   "cell_type": "markdown",
   "metadata": {},
   "source": [
    "#### commented out cells create docs to prove that the json and parquet outputs are the same."
   ]
  },
  {
   "cell_type": "code",
   "execution_count": 11,
   "metadata": {},
   "outputs": [],
   "source": [
    "for k, v in json_dict.items():\n",
    "    csv_name = k.replace(\".json\",\".csv\")\n",
    "    out_file = os.path.join(csv_path,csv_name)\n",
    "    v.to_csv(out_file)\n",
    "    "
   ]
  },
  {
   "cell_type": "code",
   "execution_count": 12,
   "metadata": {},
   "outputs": [
    {
     "data": {
      "text/plain": [
       "['us_dat_au_05142021143612.parquet']"
      ]
     },
     "execution_count": 12,
     "metadata": {},
     "output_type": "execute_result"
    }
   ],
   "source": [
    "files = os.listdir(output_path)\n",
    "files = [files.lower() for files in files]\n",
    "\n",
    "files_output = [f for f in files if f[-8:]  == '.parquet']\n",
    "\n",
    "files_output"
   ]
  },
  {
   "cell_type": "code",
   "execution_count": 13,
   "metadata": {},
   "outputs": [
    {
     "data": {
      "text/plain": [
       "{'us_dat_au_05142021143612_p.csv':    Business Unit Country Currency Region Reporting Date From  \\\n",
       " 0             AU      AU      AUD   APAC          2021-01-01   \n",
       " 1             AU      AU      AUD   APAC          2021-01-01   \n",
       " 2             AU      AU      AUD   APAC          2021-01-01   \n",
       " 3             AU      AU      AUD   APAC          2021-01-01   \n",
       " 4             AU      AU      AUD   APAC          2021-01-01   \n",
       " 5             AU      AU      AUD   APAC          2021-01-01   \n",
       " 6             AU      AU      AUD   APAC          2021-01-01   \n",
       " 7             AU      AU      AUD   APAC          2021-01-01   \n",
       " 8             AU      AU      AUD   APAC          2021-01-01   \n",
       " 9             AU      AU      AUD   APAC          2021-01-01   \n",
       " 10            AU      AU      AUD   APAC          2021-01-01   \n",
       " 11            AU      AU      AUD   APAC          2021-01-01   \n",
       " 12            AU      AU      AUD   APAC          2021-01-01   \n",
       " 13            AU      AU      AUD   APAC          2021-01-01   \n",
       " 14            AU      AU      AUD   APAC          2021-01-01   \n",
       " 15            AU      AU      AUD   APAC          2021-01-01   \n",
       " 16            AU      AU      AUD   APAC          2021-01-01   \n",
       " 17            AU      AU      AUD   APAC          2021-01-01   \n",
       " 18            AU      AU      AUD   APAC          2021-01-01   \n",
       " 19            AU      AU      AUD   APAC          2021-01-01   \n",
       " 20            AU      AU      AUD   APAC          2021-01-01   \n",
       " 21            AU      AU      AUD   APAC          2021-01-01   \n",
       " 22            AU      AU      AUD   APAC          2021-01-01   \n",
       " 23            AU      AU      AUD   APAC          2021-01-01   \n",
       " 24            AU      AU      AUD   APAC          2021-01-01   \n",
       " 25            AU      AU      AUD   APAC          2021-01-01   \n",
       " 26            AU      AU      AUD   APAC          2021-01-01   \n",
       " 27            AU      AU      AUD   APAC          2021-01-01   \n",
       " 28            AU      AU      AUD   APAC          2021-01-01   \n",
       " 29            AU      AU      AUD   APAC          2021-01-01   \n",
       " 30            AU      AU      AUD   APAC          2021-01-01   \n",
       " 31            AU      AU      AUD   APAC          2021-01-01   \n",
       " 32            AU      AU      AUD   APAC          2021-01-01   \n",
       " 33            AU      AU      AUD   APAC          2021-01-01   \n",
       " 34            AU      AU      AUD   APAC          2021-01-01   \n",
       " 35            AU      AU      AUD   APAC          2021-01-01   \n",
       " 36            AU      AU      AUD   APAC          2021-01-01   \n",
       " 37            AU      AU      AUD   APAC          2021-01-01   \n",
       " 38            AU      AU      AUD   APAC          2021-01-01   \n",
       " 39            AU      AU      AUD   APAC          2021-01-01   \n",
       " 40            AU      AU      AUD   APAC          2021-01-01   \n",
       " 41            AU      AU      AUD   APAC          2021-01-01   \n",
       " 42            AU      AU      AUD   APAC          2021-01-01   \n",
       " 43            AU      AU      AUD   APAC          2021-01-01   \n",
       " 44            AU      AU      AUD   APAC          2021-01-01   \n",
       " 45            AU      AU      AUD   APAC          2021-01-01   \n",
       " 46            AU      AU      AUD   APAC          2021-01-01   \n",
       " 47            AU      AU      AUD   APAC          2021-01-01   \n",
       " 48            AU      AU      AUD   APAC          2021-01-01   \n",
       " 49            AU      AU      AUD   APAC          2021-01-01   \n",
       " 50            AU      AU      AUD   APAC          2021-01-01   \n",
       " 51            AU      AU      AUD   APAC          2021-01-01   \n",
       " 52            AU      AU      AUD   APAC          2021-01-01   \n",
       " \n",
       "    Reporting Date To Date of Analysis Type of Analysis  Analysed Months  \\\n",
       " 0         2021-03-31       2021-04-30     Year To Date              3.0   \n",
       " 1         2021-03-31       2021-04-30     Year To Date              3.0   \n",
       " 2         2021-03-31       2021-04-30     Year To Date              3.0   \n",
       " 3         2021-03-31       2021-04-30     Year To Date              3.0   \n",
       " 4         2021-03-31       2021-04-30     Year To Date              3.0   \n",
       " 5         2021-03-31       2021-04-30     Year To Date              3.0   \n",
       " 6         2021-03-31       2021-04-30     Year To Date              3.0   \n",
       " 7         2021-03-31       2021-04-30     Year To Date              3.0   \n",
       " 8         2021-03-31       2021-04-30     Year To Date              3.0   \n",
       " 9         2021-03-31       2021-04-30     Year To Date              3.0   \n",
       " 10        2021-03-31       2021-04-30     Year To Date              3.0   \n",
       " 11        2021-03-31       2021-04-30     Year To Date              3.0   \n",
       " 12        2021-03-31       2021-04-30     Year To Date              3.0   \n",
       " 13        2021-03-31       2021-04-30     Year To Date              3.0   \n",
       " 14        2021-03-31       2021-04-30     Year To Date              3.0   \n",
       " 15        2021-03-31       2021-04-30     Year To Date              3.0   \n",
       " 16        2021-03-31       2021-04-30     Year To Date              3.0   \n",
       " 17        2021-03-31       2021-04-30     Year To Date              3.0   \n",
       " 18        2021-03-31       2021-04-30     Year To Date              3.0   \n",
       " 19        2021-03-31       2021-04-30     Year To Date              3.0   \n",
       " 20        2021-03-31       2021-04-30     Year To Date              3.0   \n",
       " 21        2021-03-31       2021-04-30     Year To Date              3.0   \n",
       " 22        2021-03-31       2021-04-30     Year To Date              3.0   \n",
       " 23        2021-03-31       2021-04-30     Year To Date              3.0   \n",
       " 24        2021-03-31       2021-04-30     Year To Date              3.0   \n",
       " 25        2021-03-31       2021-04-30     Year To Date              3.0   \n",
       " 26        2021-03-31       2021-04-30     Year To Date              3.0   \n",
       " 27        2021-03-31       2021-04-30     Year To Date              3.0   \n",
       " 28        2021-03-31       2021-04-30     Year To Date              3.0   \n",
       " 29        2021-03-31       2021-04-30     Year To Date              3.0   \n",
       " 30        2021-03-31       2021-04-30     Year To Date              3.0   \n",
       " 31        2021-03-31       2021-04-30     Year To Date              3.0   \n",
       " 32        2021-03-31       2021-04-30     Year To Date              3.0   \n",
       " 33        2021-03-31       2021-04-30     Year To Date              3.0   \n",
       " 34        2021-03-31       2021-04-30     Year To Date              3.0   \n",
       " 35        2021-03-31       2021-04-30     Year To Date              3.0   \n",
       " 36        2021-03-31       2021-04-30     Year To Date              3.0   \n",
       " 37        2021-03-31       2021-04-30     Year To Date              3.0   \n",
       " 38        2021-03-31       2021-04-30     Year To Date              3.0   \n",
       " 39        2021-03-31       2021-04-30     Year To Date              3.0   \n",
       " 40        2021-03-31       2021-04-30     Year To Date              3.0   \n",
       " 41        2021-03-31       2021-04-30     Year To Date              3.0   \n",
       " 42        2021-03-31       2021-04-30     Year To Date              3.0   \n",
       " 43        2021-03-31       2021-04-30     Year To Date              3.0   \n",
       " 44        2021-03-31       2021-04-30     Year To Date              3.0   \n",
       " 45        2021-03-31       2021-04-30     Year To Date              3.0   \n",
       " 46        2021-03-31       2021-04-30     Year To Date              3.0   \n",
       " 47        2021-03-31       2021-04-30     Year To Date              3.0   \n",
       " 48        2021-03-31       2021-04-30     Year To Date              3.0   \n",
       " 49        2021-03-31       2021-04-30     Year To Date              3.0   \n",
       " 50        2021-03-31       2021-04-30     Year To Date              3.0   \n",
       " 51        2021-03-31       2021-04-30     Year To Date              3.0   \n",
       " 52        2021-03-31       2021-04-30     Year To Date              3.0   \n",
       " \n",
       "     Reporting Year  ...  Profit or Loss  Notes Unnamed: 66 concat2    comsub  \\\n",
       " 0           2021.0  ...   -1.393998e+02                      AUAUD  0.100998   \n",
       " 1           2021.0  ...   -1.745192e+04                      AUAUD  0.233379   \n",
       " 2           2021.0  ...    0.000000e+00                      AUAUD       NaN   \n",
       " 3           2021.0  ...   -5.538853e+02                      AUAUD  0.000000   \n",
       " 4           2021.0  ...   -1.192694e+05                      AUAUD  0.220000   \n",
       " 5           2021.0  ...    3.720947e+06                      AUAUD  0.000000   \n",
       " 6           2021.0  ...   -4.427574e+01                      AUAUD  0.201069   \n",
       " 7           2021.0  ...   -1.258995e+06                      AUAUD  0.689850   \n",
       " 8           2021.0  ...   -1.293234e+03                      AUAUD  0.261392   \n",
       " 9           2021.0  ...    1.438168e+05                      AUAUD  0.000000   \n",
       " 10          2021.0  ...   -3.393062e+02                      AUAUD  0.237493   \n",
       " 11          2021.0  ...   -1.912282e+04                      AUAUD       NaN   \n",
       " 12          2021.0  ...   -1.298051e+03                      AUAUD  0.160811   \n",
       " 13          2021.0  ...   -3.315042e+03                      AUAUD  0.000000   \n",
       " 14          2021.0  ...    0.000000e+00                      AUAUD       NaN   \n",
       " 15          2021.0  ...    0.000000e+00                      AUAUD       NaN   \n",
       " 16          2021.0  ...   -3.486891e+05                      AUAUD  0.829779   \n",
       " 17          2021.0  ...    1.066556e+05                      AUAUD  0.000000   \n",
       " 18          2021.0  ...    1.121065e+04                      AUAUD  0.008924   \n",
       " 19          2021.0  ...   -3.781850e+04                      AUAUD  0.115912   \n",
       " 20          2021.0  ...   -2.299725e+03                      AUAUD  0.251691   \n",
       " 21          2021.0  ...   -1.679746e+04                      AUAUD  0.090052   \n",
       " 22          2021.0  ...    3.192407e+04                      AUAUD  0.004885   \n",
       " 23          2021.0  ...   -1.769144e+03                      AUAUD  0.623198   \n",
       " 24          2021.0  ...   -2.935286e+01                      AUAUD -0.251351   \n",
       " 25          2021.0  ...    1.275784e+05                      AUAUD  0.000145   \n",
       " 26          2021.0  ...    2.207116e+04                      AUAUD  0.000000   \n",
       " 27          2021.0  ...    3.316994e+03                      AUAUD  0.000000   \n",
       " 28          2021.0  ...   -2.379982e+03                      AUAUD  0.384108   \n",
       " 29          2021.0  ...   -1.267640e+05                      AUAUD  0.437149   \n",
       " 30          2021.0  ...    1.155765e+06                      AUAUD  0.000184   \n",
       " 31          2021.0  ...   -1.126372e+03                      AUAUD  0.381011   \n",
       " 32          2021.0  ...   -1.382520e+01                      AUAUD  0.562549   \n",
       " 33          2021.0  ...   -4.209794e+04                      AUAUD  0.000000   \n",
       " 34          2021.0  ...   -3.966367e+00                      AUAUD  0.344328   \n",
       " 35          2021.0  ...   -5.137667e+02                      AUAUD  0.198143   \n",
       " 36          2021.0  ...   -1.997697e+03                      AUAUD  0.126830   \n",
       " 37          2021.0  ...   -3.066191e+02                      AUAUD  0.245645   \n",
       " 38          2021.0  ...    5.057860e+02                      AUAUD  0.001329   \n",
       " 39          2021.0  ...   -3.936642e+01                      AUAUD  0.445112   \n",
       " 40          2021.0  ...   -5.536761e+03                      AUAUD  0.327718   \n",
       " 41          2021.0  ...   -3.982053e+04                      AUAUD  0.388592   \n",
       " 42          2021.0  ...   -9.419052e+04                      AUAUD  0.236507   \n",
       " 43          2021.0  ...   -3.179217e+01                      AUAUD  0.229818   \n",
       " 44          2021.0  ...   -1.471521e+05                      AUAUD  0.412553   \n",
       " 45          2021.0  ...    0.000000e+00                      AUAUD       NaN   \n",
       " 46          2021.0  ...   -6.227697e+02                      AUAUD  0.252369   \n",
       " 47          2021.0  ...   -4.994298e+05                      AUAUD  0.327079   \n",
       " 48          2021.0  ...   -1.680814e+04                      AUAUD  0.100971   \n",
       " 49          2021.0  ...   -8.713638e+03                      AUAUD  0.367701   \n",
       " 50          2021.0  ...   -1.765252e+05                      AUAUD  0.000000   \n",
       " 51          2021.0  ...   -5.399244e+00                      AUAUD  0.908992   \n",
       " 52          2021.0  ...    1.484290e+06                      AUAUD  0.000210   \n",
       " \n",
       "         expsub Reporting Date From INT Reporting Date To INT  \\\n",
       " 0     3.245346                20210101              20210331   \n",
       " 1     3.589092                20210101              20210331   \n",
       " 2          NaN                20210101              20210331   \n",
       " 3     4.723789                20210101              20210331   \n",
       " 4     4.239521                20210101              20210331   \n",
       " 5     0.305728                20210101              20210331   \n",
       " 6     3.832816                20210101              20210331   \n",
       " 7     4.050637                20210101              20210331   \n",
       " 8     3.446634                20210101              20210331   \n",
       " 9     0.265014                20210101              20210331   \n",
       " 10    3.443365                20210101              20210331   \n",
       " 11         NaN                20210101              20210331   \n",
       " 12    3.506531                20210101              20210331   \n",
       " 13  790.935475                20210101              20210331   \n",
       " 14         NaN                20210101              20210331   \n",
       " 15         NaN                20210101              20210331   \n",
       " 16    3.952333                20210101              20210331   \n",
       " 17    0.575571                20210101              20210331   \n",
       " 18    0.335428                20210101              20210331   \n",
       " 19    3.524019                20210101              20210331   \n",
       " 20    3.559718                20210101              20210331   \n",
       " 21    3.462410                20210101              20210331   \n",
       " 22    0.276646                20210101              20210331   \n",
       " 23    3.700340                20210101              20210331   \n",
       " 24    3.464146                20210101              20210331   \n",
       " 25    0.378354                20210101              20210331   \n",
       " 26    0.377082                20210101              20210331   \n",
       " 27    0.238691                20210101              20210331   \n",
       " 28  536.503143                20210101              20210331   \n",
       " 29    3.732376                20210101              20210331   \n",
       " 30    0.362187                20210101              20210331   \n",
       " 31    3.564901                20210101              20210331   \n",
       " 32    4.093981                20210101              20210331   \n",
       " 33    3.935014                20210101              20210331   \n",
       " 34    3.712135                20210101              20210331   \n",
       " 35    3.242338                20210101              20210331   \n",
       " 36    3.464155                20210101              20210331   \n",
       " 37    3.242183                20210101              20210331   \n",
       " 38    0.319650                20210101              20210331   \n",
       " 39    4.887532                20210101              20210331   \n",
       " 40    3.432092                20210101              20210331   \n",
       " 41    3.824261                20210101              20210331   \n",
       " 42   31.296823                20210101              20210331   \n",
       " 43    3.436164                20210101              20210331   \n",
       " 44   62.975570                20210101              20210331   \n",
       " 45         NaN                20210101              20210331   \n",
       " 46    3.574486                20210101              20210331   \n",
       " 47    4.611983                20210101              20210331   \n",
       " 48    6.535668                20210101              20210331   \n",
       " 49    6.133177                20210101              20210331   \n",
       " 50    4.478419                20210101              20210331   \n",
       " 51    4.833913                20210101              20210331   \n",
       " 52    0.324889                20210101              20210331   \n",
       " \n",
       "    Date of Analysis INT                     Selected Fields for Duplicates  \n",
       " 0              20210430  AUInsuranceLocalB2B2CTravelAllianz Affiliation...  \n",
       " 1              20210430  AUInsuranceLocalB2B2CTravelOffline Travel Agen...  \n",
       " 2              20210430  AUInsuranceLocalB2B2CTravelOffline Travel Agen...  \n",
       " 3              20210430  AUInsuranceLocalB2B2CTravelAllianz Affiliation...  \n",
       " 4              20210430  AUInsuranceLocalB2CTravelDirect (Allianz Partn...  \n",
       " 5              20210430  AUInsuranceLocalB2B2CTravelBanks / Credit Card...  \n",
       " 6              20210430  AUInsuranceLocalB2B2CTravelAllianz Affiliation...  \n",
       " 7              20210430  AUInsuranceLocalB2B2CTravelOffline Travel Agen...  \n",
       " 8              20210430  AUInsuranceLocalB2B2CTravelBanks / Credit Card...  \n",
       " 9              20210430  AUInsuranceLocalB2B2CTravelBanks / Credit Card...  \n",
       " 10             20210430  AUInsuranceLocalB2B2CTravelBanks / Credit Card...  \n",
       " 11             20210430  AUInsuranceLocalB2B2CTravelBanks / Credit Card...  \n",
       " 12             20210430  AUInsuranceLocalB2B2CTravelAllianz Affiliation...  \n",
       " 13             20210430  AUInsuranceLocalB2B2CTravelBanks / Credit Card...  \n",
       " 14             20210430  AUInsuranceLocalB2B2CTravelBanks / Credit Card...  \n",
       " 15             20210430  AUInsuranceLocalB2B2CTravelBanks / Credit Card...  \n",
       " 16             20210430  AUInsuranceLocalB2B2CTravelOffline Travel Agen...  \n",
       " 17             20210430  AUInsuranceLocalB2B2CTravelBanks / Credit Card...  \n",
       " 18             20210430  AUInsuranceLocalB2B2CTravelBanks / Credit Card...  \n",
       " 19             20210430  AUInsuranceLocalB2B2CTravelOther non-Allianz I...  \n",
       " 20             20210430  AUInsuranceLocalB2B2CTravelBanks / Credit Card...  \n",
       " 21             20210430  AUInsuranceLocalB2B2CTravelOther non-Allianz I...  \n",
       " 22             20210430  AUInsuranceLocalB2B2CTravelBanks / Credit Card...  \n",
       " 23             20210430  AUInsuranceLocalB2BTravelAllianz AffiliationsH...  \n",
       " 24             20210430  AUInsuranceLocalB2B2CTravelOther non-Allianz I...  \n",
       " 25             20210430  AUInsuranceLocalB2B2CTravelBanks / Credit Card...  \n",
       " 26             20210430  AUInsuranceLocalB2B2CTravelBanks / Credit Card...  \n",
       " 27             20210430  AUInsuranceLocalB2B2CTravelBanks / Credit Card...  \n",
       " 28             20210430          AUInsuranceLocalB2B2CTravelEventMSHTX5478  \n",
       " 29             20210430  AUInsuranceLocalB2B2CTravelOffline Travel Agen...  \n",
       " 30             20210430  AUInsuranceLocalB2B2CTravelBanks / Credit Card...  \n",
       " 31             20210430  AUInsuranceLocalB2B2CTravelBanks / Credit Card...  \n",
       " 32             20210430         AUInsuranceLocalB2B2CTravelBrokersOAMPS324  \n",
       " 33             20210430  AUInsuranceLocalB2CTravelDirect (Allianz Partn...  \n",
       " 34             20210430  AUInsuranceLocalB2B2CTravelAllianz Affiliation...  \n",
       " 35             20210430  AUInsuranceLocalB2B2CTravelAllianz Affiliation...  \n",
       " 36             20210430  AUInsuranceLocalB2B2CTravelBanks / Credit Card...  \n",
       " 37             20210430  AUInsuranceLocalB2B2CTravelBanks / Credit Card...  \n",
       " 38             20210430  AUInsuranceLocalB2B2CTravelBanks / Credit Card...  \n",
       " 39             20210430  AUInsuranceLocalB2B2CTravelOther non-Allianz I...  \n",
       " 40             20210430  AUInsuranceLocalB2B2CTravelCarriers - Cruise, ...  \n",
       " 41             20210430  AUInsuranceLocalB2B2CTravelOffline Travel Agen...  \n",
       " 42             20210430  AUInsuranceLocalB2B2CTravelBanks / Credit Card...  \n",
       " 43             20210430  AUInsuranceLocalB2B2CTravelOther non-Allianz I...  \n",
       " 44             20210430     AUInsuranceLocalB2B2CTravelEventTICKETM-AU2314  \n",
       " 45             20210430  AUInsuranceLocalB2B2CTravelOffline Travel Agen...  \n",
       " 46             20210430  AUInsuranceLocalB2B2CTravelOnline Travel Agenc...  \n",
       " 47             20210430  AUInsuranceLocalB2B2CTravelAllianz Affiliation...  \n",
       " 48             20210430  AUInsuranceLocalB2B2CTravelAllianz Affiliation...  \n",
       " 49             20210430  AUInsuranceLocalB2B2CTravelOnline Travel Agenc...  \n",
       " 50             20210430  AUInsuranceLocalB2CTravelDirect (Allianz Partn...  \n",
       " 51             20210430  AUInsuranceLocalB2B2CTravelOnline Travel Agenc...  \n",
       " 52             20210430  AUInsuranceLocalB2B2CTravelBanks / Credit Card...  \n",
       " \n",
       " [53 rows x 74 columns]}"
      ]
     },
     "execution_count": 13,
     "metadata": {},
     "output_type": "execute_result"
    }
   ],
   "source": [
    "outname = []\n",
    "parq_dict = {}\n",
    "\n",
    "for idx, f in enumerate(files_output):\n",
    "    outname.append(f.replace(\".parquet\",\"_p.csv\"))\n",
    "    parq_dict.update({f'{outname[idx]}': pd.read_parquet(os.path.join(output_path, f), engine=\"pyarrow\")})\n",
    "    \n",
    "parq_dict"
   ]
  },
  {
   "cell_type": "code",
   "execution_count": 14,
   "metadata": {},
   "outputs": [],
   "source": [
    "for k, v in parq_dict.items():\n",
    "    csv_name = k\n",
    "    out_file = os.path.join(csv_path,csv_name)\n",
    "    v.to_csv(out_file)"
   ]
  },
  {
   "cell_type": "code",
   "execution_count": null,
   "metadata": {},
   "outputs": [],
   "source": []
  }
 ],
 "metadata": {
  "kernelspec": {
   "display_name": "Python 3",
   "language": "python",
   "name": "python3"
  },
  "language_info": {
   "codemirror_mode": {
    "name": "ipython",
    "version": 3
   },
   "file_extension": ".py",
   "mimetype": "text/x-python",
   "name": "python",
   "nbconvert_exporter": "python",
   "pygments_lexer": "ipython3",
   "version": "3.7.6"
  }
 },
 "nbformat": 4,
 "nbformat_minor": 1
}
