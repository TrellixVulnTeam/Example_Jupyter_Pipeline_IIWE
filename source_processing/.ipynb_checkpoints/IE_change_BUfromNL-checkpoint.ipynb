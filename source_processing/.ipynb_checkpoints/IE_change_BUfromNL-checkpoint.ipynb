{
 "cells": [
  {
   "cell_type": "code",
   "execution_count": 47,
   "metadata": {},
   "outputs": [
    {
     "ename": "SyntaxError",
     "evalue": "invalid syntax (<ipython-input-47-33acfdd323a1>, line 1)",
     "output_type": "error",
     "traceback": [
      "\u001b[1;36m  File \u001b[1;32m\"<ipython-input-47-33acfdd323a1>\"\u001b[1;36m, line \u001b[1;32m1\u001b[0m\n\u001b[1;33m    <img src=\"../images/AzPTravel_PPM.png\">\u001b[0m\n\u001b[1;37m    ^\u001b[0m\n\u001b[1;31mSyntaxError\u001b[0m\u001b[1;31m:\u001b[0m invalid syntax\n"
     ]
    }
   ],
   "source": [
    "<img src=\"../images/AzPTravel_PPM.png\">"
   ]
  },
  {
   "cell_type": "markdown",
   "metadata": {},
   "source": [
    "## FIx BU on Ireland submission\n",
    "\n",
    "- Check if there is anything in \"H:/Reporting/Data Collection/percode/Manual Updates/parquet_fixBU/BadBU\".\n",
    "- If so, read parquet files to pandas dfs dict.\n",
    "- change 'Business Unit' to ie\n",
    "- Output as parquet."
   ]
  },
  {
   "cell_type": "markdown",
   "metadata": {},
   "source": [
    "### User Variables"
   ]
  },
  {
   "cell_type": "code",
   "execution_count": null,
   "metadata": {},
   "outputs": [],
   "source": [
    "percode = \"2021.Q1\"\n",
    "# Data Collection Code, this controls file paths and output names\n",
    "# \"-f\" is the value indicating a bad inheritance from run with arg\n",
    "\n",
    "BU = 'IE' #this is the correct BU for the files\n"
   ]
  },
  {
   "cell_type": "markdown",
   "metadata": {},
   "source": [
    "#### Packages used\n"
   ]
  },
  {
   "cell_type": "code",
   "execution_count": null,
   "metadata": {},
   "outputs": [],
   "source": [
    "import os # System commands\n",
    "import sys # System commands\n",
    "import shutil # System utility commands \n",
    "\n",
    "\n",
    "import warnings # custom warnigns options\n",
    "\n",
    "import glob # Directory operations\n",
    "import getpass # Work with parquet\n",
    "import json # Work with json\n",
    "\n",
    "import matplotlib.pyplot as plt #Plots and Graphs\n",
    "import numpy as np # Series and math\n",
    "import pandas as pd #DataFrame and math\n"
   ]
  },
  {
   "cell_type": "markdown",
   "metadata": {},
   "source": [
    "#### Begin Input Read\n",
    "- Make paths used in script\n",
    "- all paths should be modular and easily replaced ahead of operations."
   ]
  },
  {
   "cell_type": "code",
   "execution_count": 48,
   "metadata": {},
   "outputs": [],
   "source": [
    "#root directory\n",
    "rt_path = f'//hecate/Insurance_US/Product Development/Product Management/Global PPM/Reporting/Data Collection/{str(percode)}/Manual Updates/parquet_fixBU'\n",
    "#json input directory\n",
    "input_path = os.path.join( rt_path, 'BadBU')\n",
    "#parquet output directory\n",
    "output_path = os.path.join( rt_path, 'FixedBU')\n",
    "#archive\n",
    "#archive_path = os.path.join( rt_path, 'Archive')\n",
    "#csv_folder for comparison\n",
    "csv_path = os.path.join( rt_path, 'csvcheck')\n",
    "\n"
   ]
  },
  {
   "cell_type": "code",
   "execution_count": 49,
   "metadata": {},
   "outputs": [],
   "source": [
    "#### Read parquet files and update the field 'Business Unit' to variable BU set above"
   ]
  },
  {
   "cell_type": "code",
   "execution_count": 50,
   "metadata": {},
   "outputs": [
    {
     "data": {
      "text/plain": [
       "['us_dat_ie_06042021151138.parquet',\n",
       " 'us_orig_ie_06042021151138.parquet',\n",
       " 'us_survey_ie_06042021151634.parquet',\n",
       " 'us_vcomments_ie_06042021151138.parquet']"
      ]
     },
     "execution_count": 50,
     "metadata": {},
     "output_type": "execute_result"
    }
   ],
   "source": [
    "files = os.listdir(input_path)\n",
    "files = [files.lower() for files in files]\n",
    "\n",
    "files_input = [f for f in files if f[-8:]  == '.parquet']\n",
    "\n",
    "files_input"
   ]
  },
  {
   "cell_type": "code",
   "execution_count": 51,
   "metadata": {},
   "outputs": [],
   "source": [
    "parq_dict = {}\n",
    "\n",
    "for f in files_input:\n",
    "    parq_dict.update({f'{f}': pd.read_parquet(os.path.join( input_path, f), engine=\"pyarrow\")})\n",
    "    parq_dict[f]['Business Unit'] = BU"
   ]
  },
  {
   "cell_type": "code",
   "execution_count": 52,
   "metadata": {},
   "outputs": [],
   "source": [
    "#### output fixed parquets"
   ]
  },
  {
   "cell_type": "code",
   "execution_count": 53,
   "metadata": {},
   "outputs": [],
   "source": [
    "for k, v in parq_dict.items():\n",
    "    csv_name = k\n",
    "    out_file = os.path.join(output_path,k)\n",
    "    v.to_parquet(out_file, engine = 'pyarrow')"
   ]
  },
  {
   "cell_type": "code",
   "execution_count": 54,
   "metadata": {},
   "outputs": [],
   "source": [
    "#### output fixed csvs"
   ]
  },
  {
   "cell_type": "code",
   "execution_count": 55,
   "metadata": {},
   "outputs": [],
   "source": [
    "for k, v in parq_dict.items():\n",
    "    csv_name = k.replace(\"parquet\", \"csv\")\n",
    "    out_file = os.path.join(csv_path,csv_name)\n",
    "    v.to_csv(out_file)"
   ]
  },
  {
   "cell_type": "code",
   "execution_count": null,
   "metadata": {},
   "outputs": [],
   "source": []
  },
  {
   "cell_type": "code",
   "execution_count": null,
   "metadata": {},
   "outputs": [],
   "source": []
  }
 ],
 "metadata": {
  "kernelspec": {
   "display_name": "Python 3",
   "language": "python",
   "name": "python3"
  },
  "language_info": {
   "codemirror_mode": {
    "name": "ipython",
    "version": 3
   },
   "file_extension": ".py",
   "mimetype": "text/x-python",
   "name": "python",
   "nbconvert_exporter": "python",
   "pygments_lexer": "ipython3",
   "version": "3.7.6"
  }
 },
 "nbformat": 4,
 "nbformat_minor": 1
}
