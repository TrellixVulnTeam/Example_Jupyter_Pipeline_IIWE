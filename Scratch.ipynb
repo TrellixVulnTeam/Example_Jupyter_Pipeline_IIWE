{
 "cells": [
  {
   "cell_type": "code",
   "execution_count": 33,
   "metadata": {
    "collapsed": true
   },
   "outputs": [],
   "source": [
    "import sys\n",
    "import os\n",
    "import pandas as pd"
   ]
  },
  {
   "cell_type": "code",
   "execution_count": 34,
   "outputs": [],
   "source": [
    "rt_path = f'C:/Users/gharmo/PycharmProjects/UA_Final_2021.Q1/Output'\n",
    "out_path = f'C:/Users/gharmo/PycharmProjects/UA_Final_2021.Q1/Output/testeval'"
   ],
   "metadata": {
    "collapsed": false,
    "pycharm": {
     "name": "#%%\n"
    }
   }
  },
  {
   "cell_type": "code",
   "execution_count": 40,
   "outputs": [],
   "source": [
    "file0 = os.path.join( rt_path, 'us_dat_US_05122021094708.parquet')\n",
    "# file1 = os.path.join( rt_path, 'us_dat_NZ+_05122021090253.parquet')\n",
    "# file2 = os.path.join( rt_path, 'us_vcomments_NZ+_05122021090338.parquet')\n",
    "# file3 = os.path.join( rt_path, 'us_vcomments_NZ+_05122021090335.parquet')\n",
    "# file4 = os.path.join( rt_path, '')\n",
    "# file5 = os.path.join( rt_path, '')\n",
    "# file6 = os.path.join( rt_path, '')"
   ],
   "metadata": {
    "collapsed": false,
    "pycharm": {
     "name": "#%%\n"
    }
   }
  },
  {
   "cell_type": "code",
   "execution_count": 41,
   "outputs": [],
   "source": [
    "input_0 = pd.read_parquet(file0, engine='pyarrow')\n",
    "#input_1 = pd.read_parquet(file1, engine='pyarrow')\n",
    "#input_2 = pd.read_parquet(file2, engine='pyarrow')\n",
    "#input_3 = pd.read_parquet(file3, engine='pyarrow')\n",
    "# input_4 = pd.read_parquet(file4, engine='pyarrow')\n",
    "# input_5 = pd.read_parquet(file5, engine='pyarrow')\n",
    "# input_6 = pd.read_parquet(file6, engine='pyarrow')"
   ],
   "metadata": {
    "collapsed": false,
    "pycharm": {
     "name": "#%%\n"
    }
   }
  },
  {
   "cell_type": "code",
   "execution_count": 37,
   "outputs": [],
   "source": [
    "csv_input = pd.read_csv(os.path.join( rt_path, 'us_dat_NZ+_05122021090253.csv'), low_memory=False)"
   ],
   "metadata": {
    "collapsed": false,
    "pycharm": {
     "name": "#%%\n"
    }
   }
  },
  {
   "cell_type": "code",
   "execution_count": 38,
   "outputs": [],
   "source": [
    "input_0.to_csv(os.path.join( out_path, 'output_0.csv'))\n",
    "input_1.to_csv(os.path.join( out_path, 'output_1.csv'))\n",
    "input_2.to_csv(os.path.join( out_path, 'output_2.csv'))\n",
    "input_3.to_csv(os.path.join( out_path, 'output_3.csv'))\n",
    "# input_4.to_csv(os.path.join( out_path, 'output_4.csv'))\n",
    "# input_5.to_csv(os.path.join( out_path, 'output_5.csv'))\n",
    "# input_6.to_csv(os.path.join( out_path, 'output_6.csv'))"
   ],
   "metadata": {
    "collapsed": false,
    "pycharm": {
     "name": "#%%\n"
    }
   }
  },
  {
   "cell_type": "code",
   "execution_count": 39,
   "outputs": [],
   "source": [
    "#.csv\n",
    "csv_input.to_csv(os.path.join( out_path, 'csv_output.csv'))"
   ],
   "metadata": {
    "collapsed": false,
    "pycharm": {
     "name": "#%%\n"
    }
   }
  }
 ],
 "metadata": {
  "kernelspec": {
   "display_name": "Python 3",
   "language": "python",
   "name": "python3"
  },
  "language_info": {
   "codemirror_mode": {
    "name": "ipython",
    "version": 2
   },
   "file_extension": ".py",
   "mimetype": "text/x-python",
   "name": "python",
   "nbconvert_exporter": "python",
   "pygments_lexer": "ipython2",
   "version": "2.7.6"
  }
 },
 "nbformat": 4,
 "nbformat_minor": 0
}