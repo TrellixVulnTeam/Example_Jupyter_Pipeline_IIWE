{
 "cells": [
  {
   "cell_type": "code",
   "execution_count": 1,
   "metadata": {},
   "outputs": [],
   "source": [
    "\n",
    "commit <- \"New German Data.\"\n",
    "# give a reason for the run\n",
    "\n",
    "percode <- \"2021.Q1\"\n",
    "# Data Collection Code, this controls file paths and output names\n",
    "\n",
    "run_type <- 1\n",
    "#run_type =  0 - lite run with no reporting, not recommended.\n",
    "#run_type =  1 - lite run with normal reporting, default setting.\n",
    "#run_type =  2 - Heavy run with full reporting, available for audits and troubleshooting.\n",
    "\n",
    "specialchars <- \"-GTHtest\"\n",
    "# optional - add up to a 12 character code in order to mark your instance record .ipynb\n",
    "\n",
    "#inst_datetime <- datetime.now().strftime(\"%m%d%Y%H%M%S\")\n",
    "# a single datetime stamp for the full instance run\n",
    "\n"
   ]
  },
  {
   "cell_type": "code",
   "execution_count": 2,
   "metadata": {},
   "outputs": [
    {
     "name": "stderr",
     "output_type": "stream",
     "text": [
      "Installing package into 'C:/Users/gharmo/Documents/R/win-library/3.6'\n",
      "(as 'lib' is unspecified)\n"
     ]
    },
    {
     "name": "stdout",
     "output_type": "stream",
     "text": [
      "package 'arrow' successfully unpacked and MD5 sums checked\n",
      "\n",
      "The downloaded binary packages are in\n",
      "\tC:\\Users\\gharmo\\AppData\\Local\\Temp\\RtmpW8617z\\downloaded_packages\n"
     ]
    },
    {
     "name": "stderr",
     "output_type": "stream",
     "text": [
      "Installing package into 'C:/Users/gharmo/Documents/R/win-library/3.6'\n",
      "(as 'lib' is unspecified)\n"
     ]
    },
    {
     "name": "stdout",
     "output_type": "stream",
     "text": [
      "package 'flexdashboard' successfully unpacked and MD5 sums checked\n",
      "\n",
      "The downloaded binary packages are in\n",
      "\tC:\\Users\\gharmo\\AppData\\Local\\Temp\\RtmpW8617z\\downloaded_packages\n"
     ]
    },
    {
     "name": "stderr",
     "output_type": "stream",
     "text": [
      "Installing package into 'C:/Users/gharmo/Documents/R/win-library/3.6'\n",
      "(as 'lib' is unspecified)\n"
     ]
    },
    {
     "name": "stdout",
     "output_type": "stream",
     "text": [
      "package 'openxlsx' successfully unpacked and MD5 sums checked\n",
      "\n",
      "The downloaded binary packages are in\n",
      "\tC:\\Users\\gharmo\\AppData\\Local\\Temp\\RtmpW8617z\\downloaded_packages\n"
     ]
    },
    {
     "name": "stderr",
     "output_type": "stream",
     "text": [
      "Installing package into 'C:/Users/gharmo/Documents/R/win-library/3.6'\n",
      "(as 'lib' is unspecified)\n"
     ]
    },
    {
     "name": "stdout",
     "output_type": "stream",
     "text": [
      "package 'data.table' successfully unpacked and MD5 sums checked\n",
      "\n",
      "The downloaded binary packages are in\n",
      "\tC:\\Users\\gharmo\\AppData\\Local\\Temp\\RtmpW8617z\\downloaded_packages\n"
     ]
    },
    {
     "name": "stderr",
     "output_type": "stream",
     "text": [
      "Installing package into 'C:/Users/gharmo/Documents/R/win-library/3.6'\n",
      "(as 'lib' is unspecified)\n",
      "also installing the dependencies 'rlang', 'vctrs'\n",
      "\n"
     ]
    },
    {
     "name": "stdout",
     "output_type": "stream",
     "text": [
      "\n",
      "  There is a binary version available but the source version is later:\n",
      "      binary source needs_compilation\n",
      "rlang 0.4.10 0.4.11              TRUE\n",
      "\n",
      "package 'vctrs' successfully unpacked and MD5 sums checked\n",
      "package 'dplyr' successfully unpacked and MD5 sums checked\n",
      "\n",
      "The downloaded binary packages are in\n",
      "\tC:\\Users\\gharmo\\AppData\\Local\\Temp\\RtmpW8617z\\downloaded_packages\n"
     ]
    },
    {
     "name": "stderr",
     "output_type": "stream",
     "text": [
      "installing the source package 'rlang'\n",
      "\n",
      "Warning message in install.packages(\"dplyr\"):\n",
      "\"installation of package 'rlang' had non-zero exit status\"Installing package into 'C:/Users/gharmo/Documents/R/win-library/3.6'\n",
      "(as 'lib' is unspecified)\n"
     ]
    },
    {
     "name": "stdout",
     "output_type": "stream",
     "text": [
      "package 'magrittr' successfully unpacked and MD5 sums checked\n",
      "\n",
      "The downloaded binary packages are in\n",
      "\tC:\\Users\\gharmo\\AppData\\Local\\Temp\\RtmpW8617z\\downloaded_packages\n"
     ]
    },
    {
     "name": "stderr",
     "output_type": "stream",
     "text": [
      "Installing package into 'C:/Users/gharmo/Documents/R/win-library/3.6'\n",
      "(as 'lib' is unspecified)\n"
     ]
    },
    {
     "name": "stdout",
     "output_type": "stream",
     "text": [
      "package 'knitr' successfully unpacked and MD5 sums checked\n",
      "\n",
      "The downloaded binary packages are in\n",
      "\tC:\\Users\\gharmo\\AppData\\Local\\Temp\\RtmpW8617z\\downloaded_packages\n"
     ]
    },
    {
     "name": "stderr",
     "output_type": "stream",
     "text": [
      "Installing package into 'C:/Users/gharmo/Documents/R/win-library/3.6'\n",
      "(as 'lib' is unspecified)\n"
     ]
    },
    {
     "name": "stdout",
     "output_type": "stream",
     "text": [
      "package 'kableExtra' successfully unpacked and MD5 sums checked\n",
      "\n",
      "The downloaded binary packages are in\n",
      "\tC:\\Users\\gharmo\\AppData\\Local\\Temp\\RtmpW8617z\\downloaded_packages\n"
     ]
    },
    {
     "name": "stderr",
     "output_type": "stream",
     "text": [
      "Installing package into 'C:/Users/gharmo/Documents/R/win-library/3.6'\n",
      "(as 'lib' is unspecified)\n"
     ]
    },
    {
     "name": "stdout",
     "output_type": "stream",
     "text": [
      "package 'ggplot2' successfully unpacked and MD5 sums checked\n",
      "\n",
      "The downloaded binary packages are in\n",
      "\tC:\\Users\\gharmo\\AppData\\Local\\Temp\\RtmpW8617z\\downloaded_packages\n"
     ]
    },
    {
     "name": "stderr",
     "output_type": "stream",
     "text": [
      "Installing package into 'C:/Users/gharmo/Documents/R/win-library/3.6'\n",
      "(as 'lib' is unspecified)\n"
     ]
    },
    {
     "name": "stdout",
     "output_type": "stream",
     "text": [
      "package 'patchwork' successfully unpacked and MD5 sums checked\n",
      "\n",
      "The downloaded binary packages are in\n",
      "\tC:\\Users\\gharmo\\AppData\\Local\\Temp\\RtmpW8617z\\downloaded_packages\n"
     ]
    },
    {
     "name": "stderr",
     "output_type": "stream",
     "text": [
      "Installing package into 'C:/Users/gharmo/Documents/R/win-library/3.6'\n",
      "(as 'lib' is unspecified)\n"
     ]
    },
    {
     "name": "stdout",
     "output_type": "stream",
     "text": [
      "package 'DT' successfully unpacked and MD5 sums checked\n",
      "\n",
      "The downloaded binary packages are in\n",
      "\tC:\\Users\\gharmo\\AppData\\Local\\Temp\\RtmpW8617z\\downloaded_packages\n"
     ]
    },
    {
     "name": "stderr",
     "output_type": "stream",
     "text": [
      "Installing package into 'C:/Users/gharmo/Documents/R/win-library/3.6'\n",
      "(as 'lib' is unspecified)\n"
     ]
    },
    {
     "name": "stdout",
     "output_type": "stream",
     "text": [
      "package 'scales' successfully unpacked and MD5 sums checked\n",
      "\n",
      "The downloaded binary packages are in\n",
      "\tC:\\Users\\gharmo\\AppData\\Local\\Temp\\RtmpW8617z\\downloaded_packages\n"
     ]
    },
    {
     "name": "stderr",
     "output_type": "stream",
     "text": [
      "Installing package into 'C:/Users/gharmo/Documents/R/win-library/3.6'\n",
      "(as 'lib' is unspecified)\n"
     ]
    },
    {
     "name": "stdout",
     "output_type": "stream",
     "text": [
      "package 'stringr' successfully unpacked and MD5 sums checked\n",
      "\n",
      "The downloaded binary packages are in\n",
      "\tC:\\Users\\gharmo\\AppData\\Local\\Temp\\RtmpW8617z\\downloaded_packages\n"
     ]
    },
    {
     "name": "stderr",
     "output_type": "stream",
     "text": [
      "Installing package into 'C:/Users/gharmo/Documents/R/win-library/3.6'\n",
      "(as 'lib' is unspecified)\n"
     ]
    },
    {
     "name": "stdout",
     "output_type": "stream",
     "text": [
      "\n",
      "  There is a binary version available but the source version is later:\n",
      "           binary source needs_compilation\n",
      "reticulate   1.19   1.20              TRUE\n",
      "\n"
     ]
    },
    {
     "name": "stderr",
     "output_type": "stream",
     "text": [
      "installing the source package 'reticulate'\n",
      "\n",
      "Warning message in install.packages(\"reticulate\"):\n",
      "\"installation of package 'reticulate' had non-zero exit status\"Warning message:\n",
      "\"package 'arrow' was built under R version 3.6.3\""
     ]
    },
    {
     "ename": "ERROR",
     "evalue": "Error: package or namespace load failed for 'arrow' in loadNamespace(i, c(lib.loc, .libPaths()), versionCheck = vI[[i]]):\n namespace 'rlang' 0.4.5 is already loaded, but >= 0.4.6 is required\n",
     "output_type": "error",
     "traceback": [
      "Error: package or namespace load failed for 'arrow' in loadNamespace(i, c(lib.loc, .libPaths()), versionCheck = vI[[i]]):\n namespace 'rlang' 0.4.5 is already loaded, but >= 0.4.6 is required\nTraceback:\n",
      "1. library(arrow)",
      "2. tryCatch({\n .     attr(package, \"LibPath\") <- which.lib.loc\n .     ns <- loadNamespace(package, lib.loc)\n .     env <- attachNamespace(ns, pos = pos, deps, exclude, include.only)\n . }, error = function(e) {\n .     P <- if (!is.null(cc <- conditionCall(e))) \n .         paste(\" in\", deparse(cc)[1L])\n .     else \"\"\n .     msg <- gettextf(\"package or namespace load failed for %s%s:\\n %s\", \n .         sQuote(package), P, conditionMessage(e))\n .     if (logical.return) \n .         message(paste(\"Error:\", msg), domain = NA)\n .     else stop(msg, call. = FALSE, domain = NA)\n . })",
      "3. tryCatchList(expr, classes, parentenv, handlers)",
      "4. tryCatchOne(expr, names, parentenv, handlers[[1L]])",
      "5. value[[3L]](cond)",
      "6. stop(msg, call. = FALSE, domain = NA)"
     ]
    }
   ],
   "source": [
    "install.packages(\"arrow\")\n",
    "install.packages(\"flexdashboard\")\n",
    "install.packages(\"openxlsx\") # excel\n",
    "install.packages(\"data.table\") # data manipulation\n",
    "install.packages(\"dplyr\") # data manipulation used in some of the viz\n",
    "install.packages(\"magrittr\") # chaining\n",
    "install.packages(\"knitr\") # html table output with kable function\n",
    "install.packages(\"kableExtra\") # addtl styling to kable tables\n",
    "install.packages(\"ggplot2\") # visualization\n",
    "install.packages(\"patchwork\") # viz, combine plots in one image\n",
    "install.packages(\"DT\") # html table output (javascript)\n",
    "install.packages(\"scales\") # plot scales\n",
    "install.packages(\"stringr\") # string replace\n",
    "install.packages(\"reticulate\") # execute python chunks\n",
    "\n",
    "\n",
    "#----- Libraries ------\n",
    "library(arrow)\n",
    "library(flexdashboard)\n",
    "library(openxlsx) # excel\n",
    "library(data.table) # data manipulation\n",
    "library(dplyr) # data manipulation used in some of the viz\n",
    "library(magrittr) # chaining\n",
    "library(knitr) # html table output with kable function\n",
    "library(kableExtra) # addtl styling to kable tables\n",
    "library(ggplot2) # visualization\n",
    "library(patchwork) # viz, combine plots in one image\n",
    "library(DT) # html table output (javascript)\n",
    "library(scales) # plot scales\n",
    "library(stringr) # string replace\n",
    "library(reticulate) # execute python chunks\n",
    "\n",
    "\n"
   ]
  },
  {
   "cell_type": "code",
   "execution_count": null,
   "metadata": {},
   "outputs": [],
   "source": [
    "rt_path <- file.path('//hecate/Insurance_US/Product Development/Product Management/Global PPM/Reporting/Data Collection/Production', percode )\n",
    "\n",
    "tempfile <- file.path(rt_path,'2021.Q1.localcur.parquet' )\n",
    "\n",
    "#file.path(directory, paste(id, \".csv\", sep=\"\"))"
   ]
  },
  {
   "cell_type": "code",
   "execution_count": null,
   "metadata": {},
   "outputs": [],
   "source": [
    "input <-  read_parquet( tempfile,  col_select = NULL,\n",
    "  as_data_frame = TRUE,  props = ParquetArrowReaderProperties$create())"
   ]
  },
  {
   "cell_type": "code",
   "execution_count": null,
   "metadata": {},
   "outputs": [],
   "source": [
    "i_bu <- as.data.table( input)\n",
    "print(i_bu)"
   ]
  },
  {
   "cell_type": "code",
   "execution_count": null,
   "metadata": {},
   "outputs": [],
   "source": [
    "  dt <- merge(dt, i_bu[, .(BU_CODE, bu_descr = BU_DESCR)], by.x = 'business_unit', by.y = 'BU_CODE', all.x = TRUE)"
   ]
  },
  {
   "cell_type": "code",
   "execution_count": null,
   "metadata": {},
   "outputs": [],
   "source": [
    "\n",
    "# Rename columns to make easier to work with in a function\n",
    "# Replace \".\"s with \"_\"s & make lower case\n",
    "# replace other patterns not needed in description\n",
    "fixNames <- function(columns) {\n",
    "  columns <- columns %>%\n",
    "    tolower() %>% \n",
    "    gsub(pattern = '.', replacement = '_', fixed = TRUE) %>% \n",
    "    gsub(pattern = '_(paid_+_ocr_+_ibnr)', replacement = '', fixed = TRUE) %>%\n",
    "    gsub(pattern = '_(excl__az_tech_fee)', replacement = '', fixed = TRUE) %>%\n",
    "    gsub(pattern = '_(excl__hq_fees)', replacement = '', fixed = TRUE) %>%\n",
    "    gsub(pattern = 'persons_involved_in_claims', replacement = 'claimants', fixed = TRUE) %>%\n",
    "    gsub(pattern = 'units_of_risk', replacement = 'insureds', fixed = TRUE) %>%\n",
    "    gsub(pattern = 'contribution_margin', replacement = 'cm', fixed = TRUE) %>%\n",
    "    gsub(pattern = 'number_of', replacement = 'num', fixed = TRUE) %>%\n",
    "    gsub(pattern = '%', replacement = 'pct', fixed = TRUE) %>%\n",
    "    gsub(pattern = '(', replacement = '', fixed = TRUE) %>% \n",
    "    gsub(pattern = ')', replacement = '', fixed = TRUE) %>% \n",
    "    gsub(pattern = '-_', replacement = '', fixed = TRUE) %>%\n",
    "    gsub(pattern = '+', replacement = '', fixed = TRUE) %>% \n",
    "    gsub(pattern = '-', replacement = '_', fixed = TRUE)\n",
    "\n",
    "  return(columns)\n",
    "}"
   ]
  },
  {
   "cell_type": "code",
   "execution_count": null,
   "metadata": {
    "pycharm": {
     "name": "#%%\n"
    }
   },
   "outputs": [],
   "source": [
    "\n",
    "\n",
    "#Function to apply b-partner mapping from input file\n",
    "\n",
    "cleanData <- function(dt = dt) {\n",
    "  # Clean unknown partner and sublobs\n",
    "  dt[product_name %in% c('0', '', '-', 'Not Provided', 'Other','NaN' ), product_name := 'Not Available' ]\n",
    "  dt[product_id_number %in% c('0', '', '-', 'Not Provided', 'Other','NaN' ), product_id_number := 'Not Available' ]\n",
    "  dt[business_partner_name %in% c('-', '0', '', 'Other','NaN' , 'all BPs', 'Not Provided') | is.na(business_partner_name),\n",
    "          business_partner_name := 'Not Available']\n",
    "    dt[business_partner_id_number %in% c('-', '0', '', 'Other','NaN' , 'all BPs', 'Not Provided') | is.na(business_partner_id_number),\n",
    "          business_partner_id_number := 'Not Available']\n",
    "\n",
    "  # Partner names and distribution channel fix - BPs that apply to multiple BUs\n",
    "  dt <- merge(dt, bp_map[bu == 'Multiple', .(bu_bp_name, bp_map_name, channel)], by.x = 'business_partner_name', by.y = 'bu_bp_name',\n",
    "              all.x = TRUE)\n",
    "  \n",
    "  # Partner names and distribution channel fix - BPs that apply to specific BUs\n",
    "  dt <- merge(dt, bp_map[bu != 'Multiple', .(bu_bp_name, tmp_bp_name = bp_map_name, tmp_chan = channel, bu)], \n",
    "              by.x = c('business_partner_name', 'business_unit'), \n",
    "              by.y = c('bu_bp_name', 'bu'), all.x = TRUE)\n",
    "  \n",
    "  # combine Multiple BU fixes with Individual BU fixes\n",
    "  # why? When merging, if there is already a column existing of the same name, a duplicate column is produced. \n",
    "  # In this case the Individual BU merge renamed these two new columns and we will remove them once we combine them appropriately.\n",
    "  dt[!is.na(tmp_bp_name), `:=` (\n",
    "    bp_map_name = tmp_bp_name,\n",
    "    channel = tmp_chan)]\n",
    "\n",
    "  # remove temporary columns\n",
    "  dt[, `:=` (\n",
    "    tmp_bp_name = NULL,\n",
    "    tmp_chan = NULL\n",
    "  )]\n",
    "  \n",
    "  # for records with no mapping, fill with actual data for bp and channel\n",
    "  dt[is.na(bp_map_name), bp_map_name := business_partner_name]\n",
    "  dt[is.na(channel), channel := distribution_channel]\n",
    "  \n",
    "  # !!! For US, in order to reduce file size, bucket all b-partners with revenue 0 - 250k\n",
    "  # For CH, bucket all b-partners with revenue <= 50k\n",
    "  # new b-partner field name = bp_name\n",
    "  dt_bu_bp <- createMetrics(dt, groupby = c( 'business_unit', 'bp_map_name', 'distribution_channel', \n",
    "                                             'region', 'type_of_account'), sel_metrics = 'earned_revenues_net_of_taxes')\n",
    "  \n",
    "  dt_bu_bp[, bp_er_group := '> 250 K']\n",
    "  dt_bu_bp[earned_revenues_net_of_taxes <= 250000, bp_er_group := '<= 250 K']\n",
    "  dt_bu_bp[earned_revenues_net_of_taxes <= 100000, bp_er_group := '<= 100 K']\n",
    "  dt_bu_bp[earned_revenues_net_of_taxes <= 50000, bp_er_group := '<= 50 K']\n",
    "  \n",
    "  dt <- merge(dt, \n",
    "              dt_bu_bp[, c('business_unit', 'bp_map_name', 'distribution_channel', 'type_of_account', 'bp_er_group')], \n",
    "              by = c('business_unit', 'bp_map_name', 'distribution_channel', 'type_of_account'), all.x = TRUE)\n",
    "  \n",
    "  dt[, bp_name := bp_map_name] # create new b-partner column = mapped column + actual values. Further transformations will be done on this column\n",
    "  dt[business_unit == 'US' & bp_er_group %in% c('<= 50 K', '<= 100 K'), bp_name := 'US Small Partners (<=100K)']\n",
    "  dt[business_unit == 'CH' & bp_er_group %in% c('<= 50 K'), bp_name := 'CH Small Partners (<=50K)']\n",
    "  \n",
    "  # map \"Other\" for Channel and SubLoB to \"Not Provided\"; original distribution_channel column is preserved\n",
    "  dt[channel %in% c('', 'Other', 'Not Provided'), channel := 'Not Available']\n",
    "  dt[sub_lob %in% c('', 'Other', 'Not Provided'), sub_lob := 'Not Available']\n",
    "  \n",
    "  # bp_name - add specificity. In some cases a BU will have the same partner name like \"Standard\", but different results by channel\n",
    "  # when aggregating all of this info together to determine yoy impacts by b-partner, it is helpful to not have duplicated bp names\n",
    "  # will still preserve bp_name, but instead will create an identifier that concatenates bp name and channel\n",
    "  dt[, bp_chan := paste0(bp_name, '; ', channel)]\n",
    "  dt[channel == 'Not Provided', bp_chan := bp_name] #exception when no channel provide (lack of extra information)\n",
    "  \n",
    "  # Add less granular channel category\n",
    "  dt[, channel_hi := channel]\n",
    "  dt[channel %in% c('Offline Travel Agencies', 'Offline Tour Operators'), channel_hi := 'Offline (Travel Agencies/Tour Operators)']\n",
    "  dt[channel %in% c('Online Travel Agencies (OTAs)', 'Online Tour Operators'), channel_hi := 'Online (Travel Agencies/Tour Operators)']\n",
    "  dt[channel %in% c('Carriers - Train, Bus',\n",
    "                    'Managing General Agents',\n",
    "                    'Carriers - Cruise, Ferry',\n",
    "                    'Lodging',\n",
    "                    'Multiple',\n",
    "                    'Visa Centers',\n",
    "                    'Other Niche Travel Market',\n",
    "                    'Payment Administrators'), channel_hi := 'All Other Channels']\n",
    "#xx#\n",
    "  \n",
    "  # add BU descriptions\n",
    "  dt <- merge(dt, i_bu[, .(BU_CODE, bu_descr = BU_DESCR)], by.x = 'business_unit', by.y = 'BU_CODE', all.x = TRUE)\n",
    "\n",
    "  # Add a reporting period and combined date of analysis\n",
    "\n",
    "  dt[,  month_of_analysis_max := format(as.Date(max(date_of_analysis)), '%Y %b'),  by = business_unit]\n",
    "\n",
    "  dt[, \n",
    "    reporting_period := paste(\n",
    "    format(as.Date(reporting_date_from), '%Y %b'),\n",
    "    'to',\n",
    "    format(as.Date(reporting_date_to), '%Y %b')\n",
    "    )]\n",
    "\n",
    "  # Replace LoB column with \"Travel\" since some show up blank or NA\n",
    "    dt[, lob := 'Travel']\n",
    "\n",
    "  # Remove BUs that are not 12 months rolling, but first capture which only reported YTD figures (to capture in BU Detail)\n",
    "    ytd_bu <- dt[analysed_months != 12, unique(business_unit)] \n",
    "    dt <- dt[analysed_months == 12,]\n",
    "\n",
    "  dt[]\n",
    "  \n",
    "}"
   ]
  },
  {
   "cell_type": "code",
   "execution_count": null,
   "metadata": {},
   "outputs": [],
   "source": [
    "\n",
    "d_input <- i_bu\n",
    "\n",
    "#For a quick run withlimited data, for instance if you are only reviewing a note update\n",
    "#d_input <- head(d_input,1000)\n",
    "\n",
    "# necessary type conversion from pandas  #review code #c#\n",
    "d_input <- d_input  %>% mutate_if(is.list, as.character)\n",
    "\n",
    "\n",
    "setDT(d_input)\n",
    "\n",
    "d <- copy(d_input)\n",
    "\n",
    "\n",
    "# Data manipulations\n",
    "d <- cleanData(d)"
   ]
  },
  {
   "cell_type": "code",
   "execution_count": null,
   "metadata": {},
   "outputs": [],
   "source": []
  }
 ],
 "metadata": {
  "celltoolbar": "Tags",
  "kernelspec": {
   "display_name": "R",
   "language": "R",
   "name": "ir"
  },
  "language_info": {
   "codemirror_mode": "r",
   "file_extension": ".r",
   "mimetype": "text/x-r-source",
   "name": "R",
   "pygments_lexer": "r",
   "version": "3.6.1"
  }
 },
 "nbformat": 4,
 "nbformat_minor": 1
}